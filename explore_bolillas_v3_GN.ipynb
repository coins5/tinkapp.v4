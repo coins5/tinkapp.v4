{
 "cells": [
  {
   "cell_type": "code",
   "execution_count": 1,
   "metadata": {},
   "outputs": [
    {
     "data": {
      "text/html": [
       "<script type=\"esms-options\">{\"shimMode\": true}</script><style>*[data-root-id],\n",
       "*[data-root-id] > * {\n",
       "  box-sizing: border-box;\n",
       "  font-family: var(--jp-ui-font-family);\n",
       "  font-size: var(--jp-ui-font-size1);\n",
       "  color: var(--vscode-editor-foreground, var(--jp-ui-font-color1));\n",
       "}\n",
       "\n",
       "/* Override VSCode background color */\n",
       ".cell-output-ipywidget-background:has(\n",
       "    > .cell-output-ipywidget-background > .lm-Widget > *[data-root-id]\n",
       "  ),\n",
       ".cell-output-ipywidget-background:has(> .lm-Widget > *[data-root-id]) {\n",
       "  background-color: transparent !important;\n",
       "}\n",
       "</style>"
      ]
     },
     "metadata": {},
     "output_type": "display_data"
    },
    {
     "data": {
      "application/javascript": "(function(root) {\n  function now() {\n    return new Date();\n  }\n\n  const force = true;\n  const py_version = '3.7.2'.replace('rc', '-rc.').replace('.dev', '-dev.');\n  const reloading = false;\n  const Bokeh = root.Bokeh;\n\n  // Set a timeout for this load but only if we are not already initializing\n  if (typeof (root._bokeh_timeout) === \"undefined\" || (force || !root._bokeh_is_initializing)) {\n    root._bokeh_timeout = Date.now() + 5000;\n    root._bokeh_failed_load = false;\n  }\n\n  function run_callbacks() {\n    try {\n      root._bokeh_onload_callbacks.forEach(function(callback) {\n        if (callback != null)\n          callback();\n      });\n    } finally {\n      delete root._bokeh_onload_callbacks;\n    }\n    console.debug(\"Bokeh: all callbacks have finished\");\n  }\n\n  function load_libs(css_urls, js_urls, js_modules, js_exports, callback) {\n    if (css_urls == null) css_urls = [];\n    if (js_urls == null) js_urls = [];\n    if (js_modules == null) js_modules = [];\n    if (js_exports == null) js_exports = {};\n\n    root._bokeh_onload_callbacks.push(callback);\n\n    if (root._bokeh_is_loading > 0) {\n      // Don't load bokeh if it is still initializing\n      console.debug(\"Bokeh: BokehJS is being loaded, scheduling callback at\", now());\n      return null;\n    } else if (js_urls.length === 0 && js_modules.length === 0 && Object.keys(js_exports).length === 0) {\n      // There is nothing to load\n      run_callbacks();\n      return null;\n    }\n\n    function on_load() {\n      root._bokeh_is_loading--;\n      if (root._bokeh_is_loading === 0) {\n        console.debug(\"Bokeh: all BokehJS libraries/stylesheets loaded\");\n        run_callbacks()\n      }\n    }\n    window._bokeh_on_load = on_load\n\n    function on_error(e) {\n      const src_el = e.srcElement\n      console.error(\"failed to load \" + (src_el.href || src_el.src));\n    }\n\n    const skip = [];\n    if (window.requirejs) {\n      window.requirejs.config({'packages': {}, 'paths': {}, 'shim': {}});\n      root._bokeh_is_loading = css_urls.length + 0;\n    } else {\n      root._bokeh_is_loading = css_urls.length + js_urls.length + js_modules.length + Object.keys(js_exports).length;\n    }\n\n    const existing_stylesheets = []\n    const links = document.getElementsByTagName('link')\n    for (let i = 0; i < links.length; i++) {\n      const link = links[i]\n      if (link.href != null) {\n        existing_stylesheets.push(link.href)\n      }\n    }\n    for (let i = 0; i < css_urls.length; i++) {\n      const url = css_urls[i];\n      const escaped = encodeURI(url)\n      if (existing_stylesheets.indexOf(escaped) !== -1) {\n        on_load()\n        continue;\n      }\n      const element = document.createElement(\"link\");\n      element.onload = on_load;\n      element.onerror = on_error;\n      element.rel = \"stylesheet\";\n      element.type = \"text/css\";\n      element.href = url;\n      console.debug(\"Bokeh: injecting link tag for BokehJS stylesheet: \", url);\n      document.body.appendChild(element);\n    }    var existing_scripts = []\n    const scripts = document.getElementsByTagName('script')\n    for (let i = 0; i < scripts.length; i++) {\n      var script = scripts[i]\n      if (script.src != null) {\n        existing_scripts.push(script.src)\n      }\n    }\n    for (let i = 0; i < js_urls.length; i++) {\n      const url = js_urls[i];\n      const escaped = encodeURI(url)\n      if (skip.indexOf(escaped) !== -1 || existing_scripts.indexOf(escaped) !== -1) {\n        if (!window.requirejs) {\n          on_load();\n        }\n        continue;\n      }\n      const element = document.createElement('script');\n      element.onload = on_load;\n      element.onerror = on_error;\n      element.async = false;\n      element.src = url;\n      console.debug(\"Bokeh: injecting script tag for BokehJS library: \", url);\n      document.head.appendChild(element);\n    }\n    for (let i = 0; i < js_modules.length; i++) {\n      const url = js_modules[i];\n      const escaped = encodeURI(url)\n      if (skip.indexOf(escaped) !== -1 || existing_scripts.indexOf(escaped) !== -1) {\n        if (!window.requirejs) {\n          on_load();\n        }\n        continue;\n      }\n      var element = document.createElement('script');\n      element.onload = on_load;\n      element.onerror = on_error;\n      element.async = false;\n      element.src = url;\n      element.type = \"module\";\n      console.debug(\"Bokeh: injecting script tag for BokehJS library: \", url);\n      document.head.appendChild(element);\n    }\n    for (const name in js_exports) {\n      const url = js_exports[name];\n      const escaped = encodeURI(url)\n      if (skip.indexOf(escaped) >= 0 || root[name] != null) {\n        if (!window.requirejs) {\n          on_load();\n        }\n        continue;\n      }\n      var element = document.createElement('script');\n      element.onerror = on_error;\n      element.async = false;\n      element.type = \"module\";\n      console.debug(\"Bokeh: injecting script tag for BokehJS library: \", url);\n      element.textContent = `\n      import ${name} from \"${url}\"\n      window.${name} = ${name}\n      window._bokeh_on_load()\n      `\n      document.head.appendChild(element);\n    }\n    if (!js_urls.length && !js_modules.length) {\n      on_load()\n    }\n  };\n\n  function inject_raw_css(css) {\n    const element = document.createElement(\"style\");\n    element.appendChild(document.createTextNode(css));\n    document.body.appendChild(element);\n  }\n\n  const js_urls = [\"https://cdn.holoviz.org/panel/1.6.2/dist/bundled/reactiveesm/es-module-shims@^1.10.0/dist/es-module-shims.min.js\", \"https://cdn.bokeh.org/bokeh/release/bokeh-3.7.2.min.js\", \"https://cdn.bokeh.org/bokeh/release/bokeh-gl-3.7.2.min.js\", \"https://cdn.bokeh.org/bokeh/release/bokeh-widgets-3.7.2.min.js\", \"https://cdn.bokeh.org/bokeh/release/bokeh-tables-3.7.2.min.js\", \"https://cdn.holoviz.org/panel/1.6.2/dist/panel.min.js\"];\n  const js_modules = [];\n  const js_exports = {};\n  const css_urls = [];\n  const inline_js = [    function(Bokeh) {\n      Bokeh.set_log_level(\"info\");\n    },\nfunction(Bokeh) {} // ensure no trailing comma for IE\n  ];\n\n  function run_inline_js() {\n    if ((root.Bokeh !== undefined) || (force === true)) {\n      for (let i = 0; i < inline_js.length; i++) {\n        try {\n          inline_js[i].call(root, root.Bokeh);\n        } catch(e) {\n          if (!reloading) {\n            throw e;\n          }\n        }\n      }\n      // Cache old bokeh versions\n      if (Bokeh != undefined && !reloading) {\n        var NewBokeh = root.Bokeh;\n        if (Bokeh.versions === undefined) {\n          Bokeh.versions = new Map();\n        }\n        if (NewBokeh.version !== Bokeh.version) {\n          Bokeh.versions.set(NewBokeh.version, NewBokeh)\n        }\n        root.Bokeh = Bokeh;\n      }\n    } else if (Date.now() < root._bokeh_timeout) {\n      setTimeout(run_inline_js, 100);\n    } else if (!root._bokeh_failed_load) {\n      console.log(\"Bokeh: BokehJS failed to load within specified timeout.\");\n      root._bokeh_failed_load = true;\n    }\n    root._bokeh_is_initializing = false\n  }\n\n  function load_or_wait() {\n    // Implement a backoff loop that tries to ensure we do not load multiple\n    // versions of Bokeh and its dependencies at the same time.\n    // In recent versions we use the root._bokeh_is_initializing flag\n    // to determine whether there is an ongoing attempt to initialize\n    // bokeh, however for backward compatibility we also try to ensure\n    // that we do not start loading a newer (Panel>=1.0 and Bokeh>3) version\n    // before older versions are fully initialized.\n    if (root._bokeh_is_initializing && Date.now() > root._bokeh_timeout) {\n      // If the timeout and bokeh was not successfully loaded we reset\n      // everything and try loading again\n      root._bokeh_timeout = Date.now() + 5000;\n      root._bokeh_is_initializing = false;\n      root._bokeh_onload_callbacks = undefined;\n      root._bokeh_is_loading = 0\n      console.log(\"Bokeh: BokehJS was loaded multiple times but one version failed to initialize.\");\n      load_or_wait();\n    } else if (root._bokeh_is_initializing || (typeof root._bokeh_is_initializing === \"undefined\" && root._bokeh_onload_callbacks !== undefined)) {\n      setTimeout(load_or_wait, 100);\n    } else {\n      root._bokeh_is_initializing = true\n      root._bokeh_onload_callbacks = []\n      const bokeh_loaded = root.Bokeh != null && (root.Bokeh.version === py_version || (root.Bokeh.versions !== undefined && root.Bokeh.versions.has(py_version)));\n      if (!reloading && !bokeh_loaded) {\n        if (root.Bokeh) {\n          root.Bokeh = undefined;\n        }\n        console.debug(\"Bokeh: BokehJS not loaded, scheduling load and callback at\", now());\n      }\n      load_libs(css_urls, js_urls, js_modules, js_exports, function() {\n        console.debug(\"Bokeh: BokehJS plotting callback run at\", now());\n        run_inline_js();\n      });\n    }\n  }\n  // Give older versions of the autoload script a head-start to ensure\n  // they initialize before we start loading newer version.\n  setTimeout(load_or_wait, 100)\n}(window));",
      "application/vnd.holoviews_load.v0+json": ""
     },
     "metadata": {},
     "output_type": "display_data"
    },
    {
     "data": {
      "application/javascript": "\nif ((window.PyViz === undefined) || (window.PyViz instanceof HTMLElement)) {\n  window.PyViz = {comms: {}, comm_status:{}, kernels:{}, receivers: {}, plot_index: []}\n}\n\n\n    function JupyterCommManager() {\n    }\n\n    JupyterCommManager.prototype.register_target = function(plot_id, comm_id, msg_handler) {\n      if (window.comm_manager || ((window.Jupyter !== undefined) && (Jupyter.notebook.kernel != null))) {\n        var comm_manager = window.comm_manager || Jupyter.notebook.kernel.comm_manager;\n        comm_manager.register_target(comm_id, function(comm) {\n          comm.on_msg(msg_handler);\n        });\n      } else if ((plot_id in window.PyViz.kernels) && (window.PyViz.kernels[plot_id])) {\n        window.PyViz.kernels[plot_id].registerCommTarget(comm_id, function(comm) {\n          comm.onMsg = msg_handler;\n        });\n      } else if (typeof google != 'undefined' && google.colab.kernel != null) {\n        google.colab.kernel.comms.registerTarget(comm_id, (comm) => {\n          var messages = comm.messages[Symbol.asyncIterator]();\n          function processIteratorResult(result) {\n            var message = result.value;\n            console.log(message)\n            var content = {data: message.data, comm_id};\n            var buffers = []\n            for (var buffer of message.buffers || []) {\n              buffers.push(new DataView(buffer))\n            }\n            var metadata = message.metadata || {};\n            var msg = {content, buffers, metadata}\n            msg_handler(msg);\n            return messages.next().then(processIteratorResult);\n          }\n          return messages.next().then(processIteratorResult);\n        })\n      }\n    }\n\n    JupyterCommManager.prototype.get_client_comm = function(plot_id, comm_id, msg_handler) {\n      if (comm_id in window.PyViz.comms) {\n        return window.PyViz.comms[comm_id];\n      } else if (window.comm_manager || ((window.Jupyter !== undefined) && (Jupyter.notebook.kernel != null))) {\n        var comm_manager = window.comm_manager || Jupyter.notebook.kernel.comm_manager;\n        var comm = comm_manager.new_comm(comm_id, {}, {}, {}, comm_id);\n        if (msg_handler) {\n          comm.on_msg(msg_handler);\n        }\n      } else if ((plot_id in window.PyViz.kernels) && (window.PyViz.kernels[plot_id])) {\n        var comm = window.PyViz.kernels[plot_id].connectToComm(comm_id);\n        comm.open();\n        if (msg_handler) {\n          comm.onMsg = msg_handler;\n        }\n      } else if (typeof google != 'undefined' && google.colab.kernel != null) {\n        var comm_promise = google.colab.kernel.comms.open(comm_id)\n        comm_promise.then((comm) => {\n          window.PyViz.comms[comm_id] = comm;\n          if (msg_handler) {\n            var messages = comm.messages[Symbol.asyncIterator]();\n            function processIteratorResult(result) {\n              var message = result.value;\n              var content = {data: message.data};\n              var metadata = message.metadata || {comm_id};\n              var msg = {content, metadata}\n              msg_handler(msg);\n              return messages.next().then(processIteratorResult);\n            }\n            return messages.next().then(processIteratorResult);\n          }\n        })\n        var sendClosure = (data, metadata, buffers, disposeOnDone) => {\n          return comm_promise.then((comm) => {\n            comm.send(data, metadata, buffers, disposeOnDone);\n          });\n        };\n        var comm = {\n          send: sendClosure\n        };\n      }\n      window.PyViz.comms[comm_id] = comm;\n      return comm;\n    }\n    window.PyViz.comm_manager = new JupyterCommManager();\n    \n\n\nvar JS_MIME_TYPE = 'application/javascript';\nvar HTML_MIME_TYPE = 'text/html';\nvar EXEC_MIME_TYPE = 'application/vnd.holoviews_exec.v0+json';\nvar CLASS_NAME = 'output';\n\n/**\n * Render data to the DOM node\n */\nfunction render(props, node) {\n  var div = document.createElement(\"div\");\n  var script = document.createElement(\"script\");\n  node.appendChild(div);\n  node.appendChild(script);\n}\n\n/**\n * Handle when a new output is added\n */\nfunction handle_add_output(event, handle) {\n  var output_area = handle.output_area;\n  var output = handle.output;\n  if ((output.data == undefined) || (!output.data.hasOwnProperty(EXEC_MIME_TYPE))) {\n    return\n  }\n  var id = output.metadata[EXEC_MIME_TYPE][\"id\"];\n  var toinsert = output_area.element.find(\".\" + CLASS_NAME.split(' ')[0]);\n  if (id !== undefined) {\n    var nchildren = toinsert.length;\n    var html_node = toinsert[nchildren-1].children[0];\n    html_node.innerHTML = output.data[HTML_MIME_TYPE];\n    var scripts = [];\n    var nodelist = html_node.querySelectorAll(\"script\");\n    for (var i in nodelist) {\n      if (nodelist.hasOwnProperty(i)) {\n        scripts.push(nodelist[i])\n      }\n    }\n\n    scripts.forEach( function (oldScript) {\n      var newScript = document.createElement(\"script\");\n      var attrs = [];\n      var nodemap = oldScript.attributes;\n      for (var j in nodemap) {\n        if (nodemap.hasOwnProperty(j)) {\n          attrs.push(nodemap[j])\n        }\n      }\n      attrs.forEach(function(attr) { newScript.setAttribute(attr.name, attr.value) });\n      newScript.appendChild(document.createTextNode(oldScript.innerHTML));\n      oldScript.parentNode.replaceChild(newScript, oldScript);\n    });\n    if (JS_MIME_TYPE in output.data) {\n      toinsert[nchildren-1].children[1].textContent = output.data[JS_MIME_TYPE];\n    }\n    output_area._hv_plot_id = id;\n    if ((window.Bokeh !== undefined) && (id in Bokeh.index)) {\n      window.PyViz.plot_index[id] = Bokeh.index[id];\n    } else {\n      window.PyViz.plot_index[id] = null;\n    }\n  } else if (output.metadata[EXEC_MIME_TYPE][\"server_id\"] !== undefined) {\n    var bk_div = document.createElement(\"div\");\n    bk_div.innerHTML = output.data[HTML_MIME_TYPE];\n    var script_attrs = bk_div.children[0].attributes;\n    for (var i = 0; i < script_attrs.length; i++) {\n      toinsert[toinsert.length - 1].childNodes[1].setAttribute(script_attrs[i].name, script_attrs[i].value);\n    }\n    // store reference to server id on output_area\n    output_area._bokeh_server_id = output.metadata[EXEC_MIME_TYPE][\"server_id\"];\n  }\n}\n\n/**\n * Handle when an output is cleared or removed\n */\nfunction handle_clear_output(event, handle) {\n  var id = handle.cell.output_area._hv_plot_id;\n  var server_id = handle.cell.output_area._bokeh_server_id;\n  if (((id === undefined) || !(id in PyViz.plot_index)) && (server_id !== undefined)) { return; }\n  var comm = window.PyViz.comm_manager.get_client_comm(\"hv-extension-comm\", \"hv-extension-comm\", function () {});\n  if (server_id !== null) {\n    comm.send({event_type: 'server_delete', 'id': server_id});\n    return;\n  } else if (comm !== null) {\n    comm.send({event_type: 'delete', 'id': id});\n  }\n  delete PyViz.plot_index[id];\n  if ((window.Bokeh !== undefined) & (id in window.Bokeh.index)) {\n    var doc = window.Bokeh.index[id].model.document\n    doc.clear();\n    const i = window.Bokeh.documents.indexOf(doc);\n    if (i > -1) {\n      window.Bokeh.documents.splice(i, 1);\n    }\n  }\n}\n\n/**\n * Handle kernel restart event\n */\nfunction handle_kernel_cleanup(event, handle) {\n  delete PyViz.comms[\"hv-extension-comm\"];\n  window.PyViz.plot_index = {}\n}\n\n/**\n * Handle update_display_data messages\n */\nfunction handle_update_output(event, handle) {\n  handle_clear_output(event, {cell: {output_area: handle.output_area}})\n  handle_add_output(event, handle)\n}\n\nfunction register_renderer(events, OutputArea) {\n  function append_mime(data, metadata, element) {\n    // create a DOM node to render to\n    var toinsert = this.create_output_subarea(\n    metadata,\n    CLASS_NAME,\n    EXEC_MIME_TYPE\n    );\n    this.keyboard_manager.register_events(toinsert);\n    // Render to node\n    var props = {data: data, metadata: metadata[EXEC_MIME_TYPE]};\n    render(props, toinsert[0]);\n    element.append(toinsert);\n    return toinsert\n  }\n\n  events.on('output_added.OutputArea', handle_add_output);\n  events.on('output_updated.OutputArea', handle_update_output);\n  events.on('clear_output.CodeCell', handle_clear_output);\n  events.on('delete.Cell', handle_clear_output);\n  events.on('kernel_ready.Kernel', handle_kernel_cleanup);\n\n  OutputArea.prototype.register_mime_type(EXEC_MIME_TYPE, append_mime, {\n    safe: true,\n    index: 0\n  });\n}\n\nif (window.Jupyter !== undefined) {\n  try {\n    var events = require('base/js/events');\n    var OutputArea = require('notebook/js/outputarea').OutputArea;\n    if (OutputArea.prototype.mime_types().indexOf(EXEC_MIME_TYPE) == -1) {\n      register_renderer(events, OutputArea);\n    }\n  } catch(err) {\n  }\n}\n",
      "application/vnd.holoviews_load.v0+json": ""
     },
     "metadata": {},
     "output_type": "display_data"
    },
    {
     "data": {
      "application/vnd.holoviews_exec.v0+json": "",
      "text/html": [
       "<div id='5c89e9dd-519d-45a6-996c-9dca8f3bdcb2'>\n",
       "  <div id=\"bffcb53b-8319-4618-a790-37de3d988acd\" data-root-id=\"5c89e9dd-519d-45a6-996c-9dca8f3bdcb2\" style=\"display: contents;\"></div>\n",
       "</div>\n",
       "<script type=\"application/javascript\">(function(root) {\n",
       "  var docs_json = {\"32d19d96-7a30-4917-866f-b997f486b583\":{\"version\":\"3.7.2\",\"title\":\"Bokeh Application\",\"roots\":[{\"type\":\"object\",\"name\":\"panel.models.browser.BrowserInfo\",\"id\":\"5c89e9dd-519d-45a6-996c-9dca8f3bdcb2\"},{\"type\":\"object\",\"name\":\"panel.models.comm_manager.CommManager\",\"id\":\"9d6744c3-f499-48c3-a8e6-d0f1588a1f28\",\"attributes\":{\"plot_id\":\"5c89e9dd-519d-45a6-996c-9dca8f3bdcb2\",\"comm_id\":\"0d8d600fc62c48978385e38ce3a3c0b4\",\"client_comm_id\":\"9d9e37d5bf1849cab6497b4e1b5dbe6b\"}}],\"defs\":[{\"type\":\"model\",\"name\":\"ReactiveHTML1\"},{\"type\":\"model\",\"name\":\"FlexBox1\",\"properties\":[{\"name\":\"align_content\",\"kind\":\"Any\",\"default\":\"flex-start\"},{\"name\":\"align_items\",\"kind\":\"Any\",\"default\":\"flex-start\"},{\"name\":\"flex_direction\",\"kind\":\"Any\",\"default\":\"row\"},{\"name\":\"flex_wrap\",\"kind\":\"Any\",\"default\":\"wrap\"},{\"name\":\"gap\",\"kind\":\"Any\",\"default\":\"\"},{\"name\":\"justify_content\",\"kind\":\"Any\",\"default\":\"flex-start\"}]},{\"type\":\"model\",\"name\":\"FloatPanel1\",\"properties\":[{\"name\":\"config\",\"kind\":\"Any\",\"default\":{\"type\":\"map\"}},{\"name\":\"contained\",\"kind\":\"Any\",\"default\":true},{\"name\":\"position\",\"kind\":\"Any\",\"default\":\"right-top\"},{\"name\":\"offsetx\",\"kind\":\"Any\",\"default\":null},{\"name\":\"offsety\",\"kind\":\"Any\",\"default\":null},{\"name\":\"theme\",\"kind\":\"Any\",\"default\":\"primary\"},{\"name\":\"status\",\"kind\":\"Any\",\"default\":\"normalized\"}]},{\"type\":\"model\",\"name\":\"GridStack1\",\"properties\":[{\"name\":\"ncols\",\"kind\":\"Any\",\"default\":null},{\"name\":\"nrows\",\"kind\":\"Any\",\"default\":null},{\"name\":\"allow_resize\",\"kind\":\"Any\",\"default\":true},{\"name\":\"allow_drag\",\"kind\":\"Any\",\"default\":true},{\"name\":\"state\",\"kind\":\"Any\",\"default\":[]}]},{\"type\":\"model\",\"name\":\"drag1\",\"properties\":[{\"name\":\"slider_width\",\"kind\":\"Any\",\"default\":5},{\"name\":\"slider_color\",\"kind\":\"Any\",\"default\":\"black\"},{\"name\":\"value\",\"kind\":\"Any\",\"default\":50}]},{\"type\":\"model\",\"name\":\"click1\",\"properties\":[{\"name\":\"terminal_output\",\"kind\":\"Any\",\"default\":\"\"},{\"name\":\"debug_name\",\"kind\":\"Any\",\"default\":\"\"},{\"name\":\"clears\",\"kind\":\"Any\",\"default\":0}]},{\"type\":\"model\",\"name\":\"FastWrapper1\",\"properties\":[{\"name\":\"object\",\"kind\":\"Any\",\"default\":null},{\"name\":\"style\",\"kind\":\"Any\",\"default\":null}]},{\"type\":\"model\",\"name\":\"NotificationArea1\",\"properties\":[{\"name\":\"js_events\",\"kind\":\"Any\",\"default\":{\"type\":\"map\"}},{\"name\":\"max_notifications\",\"kind\":\"Any\",\"default\":5},{\"name\":\"notifications\",\"kind\":\"Any\",\"default\":[]},{\"name\":\"position\",\"kind\":\"Any\",\"default\":\"bottom-right\"},{\"name\":\"_clear\",\"kind\":\"Any\",\"default\":0},{\"name\":\"types\",\"kind\":\"Any\",\"default\":[{\"type\":\"map\",\"entries\":[[\"type\",\"warning\"],[\"background\",\"#ffc107\"],[\"icon\",{\"type\":\"map\",\"entries\":[[\"className\",\"fas fa-exclamation-triangle\"],[\"tagName\",\"i\"],[\"color\",\"white\"]]}]]},{\"type\":\"map\",\"entries\":[[\"type\",\"info\"],[\"background\",\"#007bff\"],[\"icon\",{\"type\":\"map\",\"entries\":[[\"className\",\"fas fa-info-circle\"],[\"tagName\",\"i\"],[\"color\",\"white\"]]}]]}]}]},{\"type\":\"model\",\"name\":\"Notification\",\"properties\":[{\"name\":\"background\",\"kind\":\"Any\",\"default\":null},{\"name\":\"duration\",\"kind\":\"Any\",\"default\":3000},{\"name\":\"icon\",\"kind\":\"Any\",\"default\":null},{\"name\":\"message\",\"kind\":\"Any\",\"default\":\"\"},{\"name\":\"notification_type\",\"kind\":\"Any\",\"default\":null},{\"name\":\"_rendered\",\"kind\":\"Any\",\"default\":false},{\"name\":\"_destroyed\",\"kind\":\"Any\",\"default\":false}]},{\"type\":\"model\",\"name\":\"TemplateActions1\",\"properties\":[{\"name\":\"open_modal\",\"kind\":\"Any\",\"default\":0},{\"name\":\"close_modal\",\"kind\":\"Any\",\"default\":0}]},{\"type\":\"model\",\"name\":\"BootstrapTemplateActions1\",\"properties\":[{\"name\":\"open_modal\",\"kind\":\"Any\",\"default\":0},{\"name\":\"close_modal\",\"kind\":\"Any\",\"default\":0}]},{\"type\":\"model\",\"name\":\"TemplateEditor1\",\"properties\":[{\"name\":\"layout\",\"kind\":\"Any\",\"default\":[]}]},{\"type\":\"model\",\"name\":\"MaterialTemplateActions1\",\"properties\":[{\"name\":\"open_modal\",\"kind\":\"Any\",\"default\":0},{\"name\":\"close_modal\",\"kind\":\"Any\",\"default\":0}]},{\"type\":\"model\",\"name\":\"ReactiveESM1\",\"properties\":[{\"name\":\"esm_constants\",\"kind\":\"Any\",\"default\":{\"type\":\"map\"}}]},{\"type\":\"model\",\"name\":\"JSComponent1\",\"properties\":[{\"name\":\"esm_constants\",\"kind\":\"Any\",\"default\":{\"type\":\"map\"}}]},{\"type\":\"model\",\"name\":\"ReactComponent1\",\"properties\":[{\"name\":\"esm_constants\",\"kind\":\"Any\",\"default\":{\"type\":\"map\"}}]},{\"type\":\"model\",\"name\":\"AnyWidgetComponent1\",\"properties\":[{\"name\":\"esm_constants\",\"kind\":\"Any\",\"default\":{\"type\":\"map\"}}]},{\"type\":\"model\",\"name\":\"request_value1\",\"properties\":[{\"name\":\"fill\",\"kind\":\"Any\",\"default\":\"none\"},{\"name\":\"_synced\",\"kind\":\"Any\",\"default\":null},{\"name\":\"_request_sync\",\"kind\":\"Any\",\"default\":0}]}]}};\n",
       "  var render_items = [{\"docid\":\"32d19d96-7a30-4917-866f-b997f486b583\",\"roots\":{\"5c89e9dd-519d-45a6-996c-9dca8f3bdcb2\":\"bffcb53b-8319-4618-a790-37de3d988acd\"},\"root_ids\":[\"5c89e9dd-519d-45a6-996c-9dca8f3bdcb2\"]}];\n",
       "  var docs = Object.values(docs_json)\n",
       "  if (!docs) {\n",
       "    return\n",
       "  }\n",
       "  const py_version = docs[0].version.replace('rc', '-rc.').replace('.dev', '-dev.')\n",
       "  async function embed_document(root) {\n",
       "    var Bokeh = get_bokeh(root)\n",
       "    await Bokeh.embed.embed_items_notebook(docs_json, render_items);\n",
       "    for (const render_item of render_items) {\n",
       "      for (const root_id of render_item.root_ids) {\n",
       "\tconst id_el = document.getElementById(root_id)\n",
       "\tif (id_el.children.length && id_el.children[0].hasAttribute('data-root-id')) {\n",
       "\t  const root_el = id_el.children[0]\n",
       "\t  root_el.id = root_el.id + '-rendered'\n",
       "\t  for (const child of root_el.children) {\n",
       "            // Ensure JupyterLab does not capture keyboard shortcuts\n",
       "            // see: https://jupyterlab.readthedocs.io/en/4.1.x/extension/notebook.html#keyboard-interaction-model\n",
       "\t    child.setAttribute('data-lm-suppress-shortcuts', 'true')\n",
       "\t  }\n",
       "\t}\n",
       "      }\n",
       "    }\n",
       "  }\n",
       "  function get_bokeh(root) {\n",
       "    if (root.Bokeh === undefined) {\n",
       "      return null\n",
       "    } else if (root.Bokeh.version !== py_version) {\n",
       "      if (root.Bokeh.versions === undefined || !root.Bokeh.versions.has(py_version)) {\n",
       "\treturn null\n",
       "      }\n",
       "      return root.Bokeh.versions.get(py_version);\n",
       "    } else if (root.Bokeh.version === py_version) {\n",
       "      return root.Bokeh\n",
       "    }\n",
       "    return null\n",
       "  }\n",
       "  function is_loaded(root) {\n",
       "    var Bokeh = get_bokeh(root)\n",
       "    return (Bokeh != null && Bokeh.Panel !== undefined)\n",
       "  }\n",
       "  if (is_loaded(root)) {\n",
       "    embed_document(root);\n",
       "  } else {\n",
       "    var attempts = 0;\n",
       "    var timer = setInterval(function(root) {\n",
       "      if (is_loaded(root)) {\n",
       "        clearInterval(timer);\n",
       "        embed_document(root);\n",
       "      } else if (document.readyState == \"complete\") {\n",
       "        attempts++;\n",
       "        if (attempts > 200) {\n",
       "          clearInterval(timer);\n",
       "\t  var Bokeh = get_bokeh(root)\n",
       "\t  if (Bokeh == null || Bokeh.Panel == null) {\n",
       "            console.warn(\"Panel: ERROR: Unable to run Panel code because Bokeh or Panel library is missing\");\n",
       "\t  } else {\n",
       "\t    console.warn(\"Panel: WARNING: Attempting to render but not all required libraries could be resolved.\")\n",
       "\t    embed_document(root)\n",
       "\t  }\n",
       "        }\n",
       "      }\n",
       "    }, 25, root)\n",
       "  }\n",
       "})(window);</script>"
      ]
     },
     "metadata": {
      "application/vnd.holoviews_exec.v0+json": {
       "id": "5c89e9dd-519d-45a6-996c-9dca8f3bdcb2"
      }
     },
     "output_type": "display_data"
    }
   ],
   "source": [
    "from bs4 import BeautifulSoup\n",
    "# import pandas as pd\n",
    "from datetime import datetime, timedelta\n",
    "from itertools import combinations\n",
    "import json\n",
    "import requests\n",
    "import math\n",
    "from typing import Optional, List, Dict\n",
    "\n",
    "from pydantic import BaseModel\n",
    "from typing import Mapping\n",
    "import numpy as np\n",
    "import polars as pl\n",
    "import hvplot.polars\n",
    "import pandas as pd\n",
    "import altair as alt\n",
    "import math\n",
    "\n",
    "from shared.utils import formalize_data_with_str\n",
    "from shared.random_rules import RandomRules"
   ]
  },
  {
   "cell_type": "code",
   "execution_count": 2,
   "metadata": {},
   "outputs": [],
   "source": [
    "rr = RandomRules(\n",
    "  TOTAL_NUMBERS = 35,\n",
    "  CHOOSE = 5,\n",
    "  MAX_PRIMES = 3,\n",
    "  N_VALUES=[\"1\", \"2\", \"3\"],\n",
    "  # Rangos de valores de las bolillas\n",
    "  MIN_B_VALUES = [1, 2, 3, 4, 5],\n",
    "  MAX_B_VALUES = [31, 32, 33, 34, 35]\n",
    ")"
   ]
  },
  {
   "cell_type": "code",
   "execution_count": 3,
   "metadata": {},
   "outputs": [],
   "source": [
    "url = 'https://resultados.latinka.com.pe/i.do?m=historico&t=0&s=164'\n",
    "response = requests.get(url)\n",
    "soup = BeautifulSoup(response.text, 'html.parser')\n",
    "\n",
    "tables = soup.select('table')\n",
    "rows = tables[1].find_all('tr')"
   ]
  },
  {
   "cell_type": "code",
   "execution_count": 4,
   "metadata": {},
   "outputs": [
    {
     "name": "stdout",
     "output_type": "stream",
     "text": [
      "TOTAL_LINES=7730\n"
     ]
    },
    {
     "data": {
      "text/html": [
       "<div><style>\n",
       ".dataframe > thead > tr,\n",
       ".dataframe > tbody > tr {\n",
       "  text-align: right;\n",
       "  white-space: pre-wrap;\n",
       "}\n",
       "</style>\n",
       "<small>shape: (10, 21)</small><table border=\"1\" class=\"dataframe\"><thead><tr><th>fecha</th><th>sorteo</th><th>bolillas</th><th>id</th><th>combo</th><th>b1</th><th>b2</th><th>b3</th><th>b4</th><th>b5</th><th>str_b1</th><th>str_b2</th><th>str_b3</th><th>str_b4</th><th>str_b5</th><th>post_str_b1</th><th>post_str_blast</th><th>is_rare_combination</th><th>reason</th><th>jumps_map</th><th>unijump</th></tr><tr><td>str</td><td>str</td><td>str</td><td>str</td><td>array[u8, 5]</td><td>u8</td><td>u8</td><td>u8</td><td>u8</td><td>u8</td><td>str</td><td>str</td><td>str</td><td>str</td><td>str</td><td>str</td><td>str</td><td>bool</td><td>u8</td><td>str</td><td>i64</td></tr></thead><tbody><tr><td>&quot;14/04/2025&quot;</td><td>&quot;4186&quot;</td><td>&quot;09 27 16 14 04&quot;</td><td>&quot;0409141627&quot;</td><td>[4, 9, … 27]</td><td>4</td><td>9</td><td>14</td><td>16</td><td>27</td><td>&quot;04&quot;</td><td>&quot;09&quot;</td><td>&quot;14&quot;</td><td>&quot;16&quot;</td><td>&quot;27&quot;</td><td>null</td><td>null</td><td>true</td><td>24</td><td>&quot;05_05_02_11&quot;</td><td>15</td></tr><tr><td>&quot;13/04/2025&quot;</td><td>&quot;4185&quot;</td><td>&quot;26 06 13 09 27&quot;</td><td>&quot;0609132627&quot;</td><td>[6, 9, … 27]</td><td>6</td><td>9</td><td>13</td><td>26</td><td>27</td><td>&quot;06&quot;</td><td>&quot;09&quot;</td><td>&quot;13&quot;</td><td>&quot;26&quot;</td><td>&quot;27&quot;</td><td>&quot;04&quot;</td><td>&quot;27&quot;</td><td>false</td><td>0</td><td>&quot;03_04_13_01&quot;</td><td>-29</td></tr><tr><td>&quot;12/04/2025&quot;</td><td>&quot;4184&quot;</td><td>&quot;23 12 10 16 03&quot;</td><td>&quot;0310121623&quot;</td><td>[3, 10, … 23]</td><td>3</td><td>10</td><td>12</td><td>16</td><td>23</td><td>&quot;03&quot;</td><td>&quot;10&quot;</td><td>&quot;12&quot;</td><td>&quot;16&quot;</td><td>&quot;23&quot;</td><td>&quot;06&quot;</td><td>&quot;27&quot;</td><td>false</td><td>0</td><td>&quot;07_02_04_07&quot;</td><td>-6</td></tr><tr><td>&quot;11/04/2025&quot;</td><td>&quot;4183&quot;</td><td>&quot;09 10 08 01 12&quot;</td><td>&quot;0108091012&quot;</td><td>[1, 8, … 12]</td><td>1</td><td>8</td><td>9</td><td>10</td><td>12</td><td>&quot;01&quot;</td><td>&quot;08&quot;</td><td>&quot;09&quot;</td><td>&quot;10&quot;</td><td>&quot;12&quot;</td><td>&quot;03&quot;</td><td>&quot;23&quot;</td><td>true</td><td>24</td><td>&quot;07_01_01_02&quot;</td><td>-5</td></tr><tr><td>&quot;10/04/2025&quot;</td><td>&quot;4182&quot;</td><td>&quot;30 33 34 10 21&quot;</td><td>&quot;1021303334&quot;</td><td>[10, 21, … 34]</td><td>10</td><td>21</td><td>30</td><td>33</td><td>34</td><td>&quot;10&quot;</td><td>&quot;21&quot;</td><td>&quot;30&quot;</td><td>&quot;33&quot;</td><td>&quot;34&quot;</td><td>&quot;01&quot;</td><td>&quot;12&quot;</td><td>false</td><td>0</td><td>&quot;11_09_03_01&quot;</td><td>8</td></tr><tr><td>&quot;09/04/2025&quot;</td><td>&quot;4181&quot;</td><td>&quot;29 21 20 28 04&quot;</td><td>&quot;0420212829&quot;</td><td>[4, 20, … 29]</td><td>4</td><td>20</td><td>21</td><td>28</td><td>29</td><td>&quot;04&quot;</td><td>&quot;20&quot;</td><td>&quot;21&quot;</td><td>&quot;28&quot;</td><td>&quot;29&quot;</td><td>&quot;10&quot;</td><td>&quot;34&quot;</td><td>true</td><td>16</td><td>&quot;16_01_07_01&quot;</td><td>-33</td></tr><tr><td>&quot;08/04/2025&quot;</td><td>&quot;4180&quot;</td><td>&quot;10 20 30 05 16&quot;</td><td>&quot;0510162030&quot;</td><td>[5, 10, … 30]</td><td>5</td><td>10</td><td>16</td><td>20</td><td>30</td><td>&quot;05&quot;</td><td>&quot;10&quot;</td><td>&quot;16&quot;</td><td>&quot;20&quot;</td><td>&quot;30&quot;</td><td>&quot;04&quot;</td><td>&quot;29&quot;</td><td>false</td><td>0</td><td>&quot;05_06_04_10&quot;</td><td>11</td></tr><tr><td>&quot;07/04/2025&quot;</td><td>&quot;4179&quot;</td><td>&quot;08 21 22 24 07&quot;</td><td>&quot;0708212224&quot;</td><td>[7, 8, … 24]</td><td>7</td><td>8</td><td>21</td><td>22</td><td>24</td><td>&quot;07&quot;</td><td>&quot;08&quot;</td><td>&quot;21&quot;</td><td>&quot;22&quot;</td><td>&quot;24&quot;</td><td>&quot;05&quot;</td><td>&quot;30&quot;</td><td>true</td><td>16</td><td>&quot;01_13_01_02&quot;</td><td>37</td></tr><tr><td>&quot;06/04/2025&quot;</td><td>&quot;4178&quot;</td><td>&quot;07 35 24 34 14&quot;</td><td>&quot;0714243435&quot;</td><td>[7, 14, … 35]</td><td>7</td><td>14</td><td>24</td><td>34</td><td>35</td><td>&quot;07&quot;</td><td>&quot;14&quot;</td><td>&quot;24&quot;</td><td>&quot;34&quot;</td><td>&quot;35&quot;</td><td>&quot;07&quot;</td><td>&quot;24&quot;</td><td>true</td><td>8</td><td>&quot;07_10_10_01&quot;</td><td>-6</td></tr><tr><td>&quot;05/04/2025&quot;</td><td>&quot;4177&quot;</td><td>&quot;34 33 15 05 16&quot;</td><td>&quot;0515163334&quot;</td><td>[5, 15, … 34]</td><td>5</td><td>15</td><td>16</td><td>33</td><td>34</td><td>&quot;05&quot;</td><td>&quot;15&quot;</td><td>&quot;16&quot;</td><td>&quot;33&quot;</td><td>&quot;34&quot;</td><td>&quot;07&quot;</td><td>&quot;35&quot;</td><td>true</td><td>16</td><td>&quot;10_01_17_01&quot;</td><td>-57</td></tr></tbody></table></div>"
      ],
      "text/plain": [
       "shape: (10, 21)\n",
       "┌────────────┬────────┬─────────────┬────────────┬───┬─────────────┬────────┬────────────┬─────────┐\n",
       "│ fecha      ┆ sorteo ┆ bolillas    ┆ id         ┆ … ┆ is_rare_com ┆ reason ┆ jumps_map  ┆ unijump │\n",
       "│ ---        ┆ ---    ┆ ---         ┆ ---        ┆   ┆ bination    ┆ ---    ┆ ---        ┆ ---     │\n",
       "│ str        ┆ str    ┆ str         ┆ str        ┆   ┆ ---         ┆ u8     ┆ str        ┆ i64     │\n",
       "│            ┆        ┆             ┆            ┆   ┆ bool        ┆        ┆            ┆         │\n",
       "╞════════════╪════════╪═════════════╪════════════╪═══╪═════════════╪════════╪════════════╪═════════╡\n",
       "│ 14/04/2025 ┆ 4186   ┆ 09 27 16 14 ┆ 0409141627 ┆ … ┆ true        ┆ 24     ┆ 05_05_02_1 ┆ 15      │\n",
       "│            ┆        ┆ 04          ┆            ┆   ┆             ┆        ┆ 1          ┆         │\n",
       "│ 13/04/2025 ┆ 4185   ┆ 26 06 13 09 ┆ 0609132627 ┆ … ┆ false       ┆ 0      ┆ 03_04_13_0 ┆ -29     │\n",
       "│            ┆        ┆ 27          ┆            ┆   ┆             ┆        ┆ 1          ┆         │\n",
       "│ 12/04/2025 ┆ 4184   ┆ 23 12 10 16 ┆ 0310121623 ┆ … ┆ false       ┆ 0      ┆ 07_02_04_0 ┆ -6      │\n",
       "│            ┆        ┆ 03          ┆            ┆   ┆             ┆        ┆ 7          ┆         │\n",
       "│ 11/04/2025 ┆ 4183   ┆ 09 10 08 01 ┆ 0108091012 ┆ … ┆ true        ┆ 24     ┆ 07_01_01_0 ┆ -5      │\n",
       "│            ┆        ┆ 12          ┆            ┆   ┆             ┆        ┆ 2          ┆         │\n",
       "│ 10/04/2025 ┆ 4182   ┆ 30 33 34 10 ┆ 1021303334 ┆ … ┆ false       ┆ 0      ┆ 11_09_03_0 ┆ 8       │\n",
       "│            ┆        ┆ 21          ┆            ┆   ┆             ┆        ┆ 1          ┆         │\n",
       "│ 09/04/2025 ┆ 4181   ┆ 29 21 20 28 ┆ 0420212829 ┆ … ┆ true        ┆ 16     ┆ 16_01_07_0 ┆ -33     │\n",
       "│            ┆        ┆ 04          ┆            ┆   ┆             ┆        ┆ 1          ┆         │\n",
       "│ 08/04/2025 ┆ 4180   ┆ 10 20 30 05 ┆ 0510162030 ┆ … ┆ false       ┆ 0      ┆ 05_06_04_1 ┆ 11      │\n",
       "│            ┆        ┆ 16          ┆            ┆   ┆             ┆        ┆ 0          ┆         │\n",
       "│ 07/04/2025 ┆ 4179   ┆ 08 21 22 24 ┆ 0708212224 ┆ … ┆ true        ┆ 16     ┆ 01_13_01_0 ┆ 37      │\n",
       "│            ┆        ┆ 07          ┆            ┆   ┆             ┆        ┆ 2          ┆         │\n",
       "│ 06/04/2025 ┆ 4178   ┆ 07 35 24 34 ┆ 0714243435 ┆ … ┆ true        ┆ 8      ┆ 07_10_10_0 ┆ -6      │\n",
       "│            ┆        ┆ 14          ┆            ┆   ┆             ┆        ┆ 1          ┆         │\n",
       "│ 05/04/2025 ┆ 4177   ┆ 34 33 15 05 ┆ 0515163334 ┆ … ┆ true        ┆ 16     ┆ 10_01_17_0 ┆ -57     │\n",
       "│            ┆        ┆ 16          ┆            ┆   ┆             ┆        ┆ 1          ┆         │\n",
       "└────────────┴────────┴─────────────┴────────────┴───┴─────────────┴────────┴────────────┴─────────┘"
      ]
     },
     "metadata": {},
     "output_type": "display_data"
    }
   ],
   "source": [
    "lst = []\n",
    "post_str_b1 = None\n",
    "post_str_blast = None\n",
    "for row in rows:\n",
    "  cols = [data.text.strip() for data in row.find_all('td')]\n",
    "  \n",
    "  id, bolillas_int, str_combo = formalize_data_with_str(bolillas_str=cols[2])\n",
    "  cols.append(id)\n",
    "  cols.append(bolillas_int)\n",
    "  cols.extend([b for b in bolillas_int])\n",
    "  cols.extend(str_combo)\n",
    "  cols.append(post_str_b1)\n",
    "  cols.append(post_str_blast)\n",
    "\n",
    "  is_rare, reason = rr.is_rare_combination(bolillas_int, id)\n",
    "  cols.append(is_rare)\n",
    "  cols.append(reason)\n",
    "\n",
    "  cols.append(rr.jumps_map(bolillas_int))\n",
    "  cols.append(rr.unijump(bolillas_int))\n",
    "  \n",
    "  lst.append(cols)\n",
    "\n",
    "  post_str_b1 = str_combo[0]\n",
    "  post_str_blast = str_combo[-1]\n",
    "\n",
    "with open('./gn_cahe_v3.json', 'w') as file: \n",
    "  json.dump(lst, file)\n",
    "\n",
    "dfRows = pl.DataFrame(\n",
    "  lst,\n",
    "  schema=[\n",
    "    'fecha', 'sorteo', 'bolillas',\n",
    "    'id', 'combo', 'b1', 'b2', 'b3', 'b4', 'b5',\n",
    "    'str_b1', 'str_b2', 'str_b3', 'str_b4', 'str_b5',\n",
    "    'post_str_b1', 'post_str_blast',\n",
    "    'is_rare_combination', 'reason',\n",
    "    \"jumps_map\", \"unijump\"\n",
    "  ],\n",
    "  schema_overrides={\n",
    "    'combo': pl.Array(pl.UInt8, 5),\n",
    "    'b1': pl.UInt8,\n",
    "    'b2': pl.UInt8,\n",
    "    'b3': pl.UInt8,\n",
    "    'b4': pl.UInt8,\n",
    "    'b5': pl.UInt8,\n",
    "    'b6': pl.UInt8,\n",
    "    'reason': pl.UInt8\n",
    "  },\n",
    "  orient='row'\n",
    ")\n",
    "\n",
    "TOTAL_LINES = len(dfRows)\n",
    "print(f'{TOTAL_LINES=}')\n",
    "display(dfRows.head(10))"
   ]
  },
  {
   "cell_type": "code",
   "execution_count": 5,
   "metadata": {},
   "outputs": [],
   "source": [
    "import holoviews as hv\n",
    "def plot_post_col (col: str, post_col: str, test_value: str):\n",
    "  df_viz = dfRows \\\n",
    "    .filter(\n",
    "      pl.col(col) == test_value,\n",
    "      pl.col(post_col).is_not_null()\n",
    "    ) \\\n",
    "    .group_by(\n",
    "      post_col\n",
    "    ).agg(pl.count(post_col).alias('count')) \\\n",
    "    .sort(\"count\", descending=True)\n",
    "  \n",
    "  \n",
    "  df_10_last = dfRows \\\n",
    "    .filter(\n",
    "      pl.col(col) == test_value,\n",
    "      pl.col(post_col).is_not_null()\n",
    "    ) \\\n",
    "    .head(10)\n",
    "  \n",
    "  # Agrega una columna que sea el porcentaje de la frecuencia relativa\n",
    "  total = df_viz['count'].sum()\n",
    "  df_viz = df_viz.with_columns(\n",
    "    ( (pl.col('count') / total) * 100 ).alias('percent')\n",
    "  )\n",
    "  mean_percent = df_viz['percent'].mean()\n",
    "  mean_percent_75 = mean_percent * 75 / 50\n",
    "  mean_percent_25 = mean_percent * 25 / 50\n",
    "\n",
    "  chart = df_viz.hvplot.bar(\n",
    "    x=post_col,\n",
    "    y='percent'\n",
    "  )\n",
    "\n",
    "  chart = chart * hv.HLine(mean_percent).opts(color='red')\n",
    "  chart = chart * hv.HLine(mean_percent_75).opts(color='blue')\n",
    "  chart = chart * hv.HLine(mean_percent_25).opts(color='blue')\n",
    "  \n",
    "  chart.opts(default_tools=[\"pan\"])\n",
    "\n",
    "  df_jumps_map = dfRows \\\n",
    "    .filter(\n",
    "      pl.col(col) == test_value,\n",
    "      pl.col(post_col).is_not_null()\n",
    "    ) \\\n",
    "    .group_by(\n",
    "      'jumps_map'\n",
    "    ).agg(pl.count('jumps_map').alias('count')) \\\n",
    "    .sort(\"count\", descending=True)\n",
    "  \n",
    "  df_unijump = dfRows \\\n",
    "    .filter(\n",
    "      pl.col(col) == test_value,\n",
    "      pl.col(post_col).is_not_null()\n",
    "    ) \\\n",
    "    .group_by(\n",
    "      'unijump'\n",
    "    ).agg(pl.count('unijump').alias('count')) \\\n",
    "    .sort(\"count\", descending=True)\n",
    "\n",
    "\n",
    "  print(f'df_viz FOR {col} = {test_value}')\n",
    "  display(df_viz)\n",
    "\n",
    "  display(chart)\n",
    "  \n",
    "  print(f'df_10_last FOR {col} = {test_value}')\n",
    "  display(df_10_last)\n",
    "  \n",
    "  print(f'df_jumps_map FOR {col} = {test_value}')\n",
    "  display(df_jumps_map)\n",
    "  # display(df_unijump)\n",
    "\n",
    "  print(f'df_unijump FOR {col} = {test_value}')\n",
    "  display(df_unijump)\n",
    "\n",
    "  lst_post_str_b = df_viz.filter(pl.col('percent') >= mean_percent)[post_col].to_list()\n",
    "  lst_jumps_map = df_jumps_map['jumps_map'].to_list() # Used to discard\n",
    "  \n",
    "  return lst_post_str_b, lst_jumps_map"
   ]
  },
  {
   "cell_type": "code",
   "execution_count": 14,
   "metadata": {},
   "outputs": [
    {
     "name": "stdout",
     "output_type": "stream",
     "text": [
      "df_viz FOR str_b1 = 04\n"
     ]
    },
    {
     "data": {
      "text/html": [
       "<div><style>\n",
       ".dataframe > thead > tr,\n",
       ".dataframe > tbody > tr {\n",
       "  text-align: right;\n",
       "  white-space: pre-wrap;\n",
       "}\n",
       "</style>\n",
       "<small>shape: (24, 3)</small><table border=\"1\" class=\"dataframe\"><thead><tr><th>post_str_b1</th><th>count</th><th>percent</th></tr><tr><td>str</td><td>u32</td><td>f64</td></tr></thead><tbody><tr><td>&quot;01&quot;</td><td>116</td><td>15.739484</td></tr><tr><td>&quot;02&quot;</td><td>89</td><td>12.075984</td></tr><tr><td>&quot;04&quot;</td><td>73</td><td>9.90502</td></tr><tr><td>&quot;03&quot;</td><td>72</td><td>9.769335</td></tr><tr><td>&quot;05&quot;</td><td>61</td><td>8.276798</td></tr><tr><td>&hellip;</td><td>&hellip;</td><td>&hellip;</td></tr><tr><td>&quot;18&quot;</td><td>3</td><td>0.407056</td></tr><tr><td>&quot;21&quot;</td><td>2</td><td>0.27137</td></tr><tr><td>&quot;23&quot;</td><td>1</td><td>0.135685</td></tr><tr><td>&quot;29&quot;</td><td>1</td><td>0.135685</td></tr><tr><td>&quot;25&quot;</td><td>1</td><td>0.135685</td></tr></tbody></table></div>"
      ],
      "text/plain": [
       "shape: (24, 3)\n",
       "┌─────────────┬───────┬───────────┐\n",
       "│ post_str_b1 ┆ count ┆ percent   │\n",
       "│ ---         ┆ ---   ┆ ---       │\n",
       "│ str         ┆ u32   ┆ f64       │\n",
       "╞═════════════╪═══════╪═══════════╡\n",
       "│ 01          ┆ 116   ┆ 15.739484 │\n",
       "│ 02          ┆ 89    ┆ 12.075984 │\n",
       "│ 04          ┆ 73    ┆ 9.90502   │\n",
       "│ 03          ┆ 72    ┆ 9.769335  │\n",
       "│ 05          ┆ 61    ┆ 8.276798  │\n",
       "│ …           ┆ …     ┆ …         │\n",
       "│ 18          ┆ 3     ┆ 0.407056  │\n",
       "│ 21          ┆ 2     ┆ 0.27137   │\n",
       "│ 23          ┆ 1     ┆ 0.135685  │\n",
       "│ 29          ┆ 1     ┆ 0.135685  │\n",
       "│ 25          ┆ 1     ┆ 0.135685  │\n",
       "└─────────────┴───────┴───────────┘"
      ]
     },
     "metadata": {},
     "output_type": "display_data"
    },
    {
     "data": {},
     "metadata": {},
     "output_type": "display_data"
    },
    {
     "data": {
      "application/vnd.holoviews_exec.v0+json": "",
      "text/html": [
       "<div id='c198c955-1a0f-4a20-8aa8-5b38fe5f75aa'>\n",
       "  <div id=\"d9224f4f-887d-4514-b971-e54455afd72c\" data-root-id=\"c198c955-1a0f-4a20-8aa8-5b38fe5f75aa\" style=\"display: contents;\"></div>\n",
       "</div>\n",
       "<script type=\"application/javascript\">(function(root) {\n",
       "  var docs_json = {\"0205e0c6-54e8-414c-8efc-c696a8c1dc42\":{\"version\":\"3.7.2\",\"title\":\"Bokeh Application\",\"roots\":[{\"type\":\"object\",\"name\":\"Row\",\"id\":\"c198c955-1a0f-4a20-8aa8-5b38fe5f75aa\",\"attributes\":{\"name\":\"Row00499\",\"tags\":[\"embedded\"],\"stylesheets\":[\"\\n:host(.pn-loading):before, .pn-loading:before {\\n  background-color: #c3c3c3;\\n  mask-size: auto calc(min(50%, 400px));\\n  -webkit-mask-size: auto calc(min(50%, 400px));\\n}\",{\"type\":\"object\",\"name\":\"ImportedStyleSheet\",\"id\":\"f57c187b-42ec-4679-84e8-88680fe3ec13\",\"attributes\":{\"url\":\"https://cdn.holoviz.org/panel/1.6.2/dist/css/loading.css\"}},{\"type\":\"object\",\"name\":\"ImportedStyleSheet\",\"id\":\"91f16f9e-db81-4a6e-b66f-64ede614b9b6\",\"attributes\":{\"url\":\"https://cdn.holoviz.org/panel/1.6.2/dist/css/listpanel.css\"}},{\"type\":\"object\",\"name\":\"ImportedStyleSheet\",\"id\":\"99ece407-891b-4404-9b62-9eb07c15ff6f\",\"attributes\":{\"url\":\"https://cdn.holoviz.org/panel/1.6.2/dist/bundled/theme/default.css\"}},{\"type\":\"object\",\"name\":\"ImportedStyleSheet\",\"id\":\"6e0471a4-ec37-4d74-a3b3-a1c334662096\",\"attributes\":{\"url\":\"https://cdn.holoviz.org/panel/1.6.2/dist/bundled/theme/native.css\"}}],\"min_width\":700,\"margin\":0,\"sizing_mode\":\"stretch_width\",\"align\":\"start\",\"children\":[{\"type\":\"object\",\"name\":\"Spacer\",\"id\":\"3c00f0de-9bd6-4d5a-8b6a-36012da2935b\",\"attributes\":{\"name\":\"HSpacer00503\",\"stylesheets\":[\"\\n:host(.pn-loading):before, .pn-loading:before {\\n  background-color: #c3c3c3;\\n  mask-size: auto calc(min(50%, 400px));\\n  -webkit-mask-size: auto calc(min(50%, 400px));\\n}\",{\"id\":\"f57c187b-42ec-4679-84e8-88680fe3ec13\"},{\"id\":\"99ece407-891b-4404-9b62-9eb07c15ff6f\"},{\"id\":\"6e0471a4-ec37-4d74-a3b3-a1c334662096\"}],\"margin\":0,\"sizing_mode\":\"stretch_width\",\"align\":\"start\"}},{\"type\":\"object\",\"name\":\"Figure\",\"id\":\"844ed33c-dd7a-4718-9995-ab20c8e86fbf\",\"attributes\":{\"width\":700,\"height\":300,\"margin\":[5,10],\"sizing_mode\":\"fixed\",\"align\":\"start\",\"x_range\":{\"type\":\"object\",\"name\":\"FactorRange\",\"id\":\"afcb2783-42a7-4409-8b9f-f7ebbe9f459b\",\"attributes\":{\"name\":\"post_str_b1\",\"tags\":[[[\"post_str_b1\",null]],[]],\"factors\":[\"01\",\"02\",\"04\",\"03\",\"05\",\"06\",\"07\",\"10\",\"08\",\"11\",\"09\",\"12\",\"14\",\"13\",\"17\",\"15\",\"16\",\"20\",\"19\",\"18\",\"21\",\"23\",\"29\",\"25\"]}},\"y_range\":{\"type\":\"object\",\"name\":\"Range1d\",\"id\":\"f04055c4-281d-46cf-b649-ceb100199628\",\"attributes\":{\"name\":\"percent\",\"tags\":[[[\"percent\",null]],{\"type\":\"map\",\"entries\":[[\"invert_yaxis\",false],[\"autorange\",false]]}],\"end\":17.299864314789687,\"reset_start\":0.0,\"reset_end\":17.299864314789687}},\"x_scale\":{\"type\":\"object\",\"name\":\"CategoricalScale\",\"id\":\"46be5e87-416e-453c-bb01-6eef036c53cb\"},\"y_scale\":{\"type\":\"object\",\"name\":\"LinearScale\",\"id\":\"ed6b4b9a-e465-401a-a880-038d505f1245\"},\"title\":{\"type\":\"object\",\"name\":\"Title\",\"id\":\"0717ff48-3983-434e-93b8-b6ac63975273\",\"attributes\":{\"text_color\":\"black\",\"text_font_size\":\"12pt\"}},\"renderers\":[{\"type\":\"object\",\"name\":\"GlyphRenderer\",\"id\":\"cb836a40-89d0-4cb5-b2df-c5cbe1bf6e9d\",\"attributes\":{\"data_source\":{\"type\":\"object\",\"name\":\"ColumnDataSource\",\"id\":\"111de8fe-ba2c-4020-b614-a56a613cddea\",\"attributes\":{\"selected\":{\"type\":\"object\",\"name\":\"Selection\",\"id\":\"18630b23-cfd7-4e72-8ed0-c6584d5df7f6\",\"attributes\":{\"indices\":[],\"line_indices\":[]}},\"selection_policy\":{\"type\":\"object\",\"name\":\"UnionRenderers\",\"id\":\"cd123c8c-96eb-4bb3-9757-dead6ad7f931\"},\"data\":{\"type\":\"map\",\"entries\":[[\"post_str_b1\",[\"01\",\"02\",\"04\",\"03\",\"05\",\"06\",\"07\",\"10\",\"08\",\"11\",\"09\",\"12\",\"14\",\"13\",\"17\",\"15\",\"16\",\"20\",\"19\",\"18\",\"21\",\"23\",\"29\",\"25\"]],[\"percent\",{\"type\":\"ndarray\",\"array\":{\"type\":\"bytes\",\"data\":\"aivjsp16L0AAvn1W5yYoQH/S4tNezyNAxyO5S+aJI0Deoe5xuI0gQBoT6YHK2R1AyvruUPc4HEDHI7lL5okTQOZoEisEdBJAllAY+jDTEECKcDySu2QOQIeZBo2qtQVABq5rCiJeAUBID1TObuH3P8cjuUvmifM/xyO5S+aJ8z+KcDySu2TuPwmFoQ8zDeo/Bq5rCiJe4T8JhaEPMw3aPwauawoiXtE/Bq5rCiJewT8GrmsKIl7BPwauawoiXsE/\"},\"shape\":[24],\"dtype\":\"float64\",\"order\":\"little\"}]]}}},\"view\":{\"type\":\"object\",\"name\":\"CDSView\",\"id\":\"4956ff95-8ff1-474c-ae9b-00beabc958af\",\"attributes\":{\"filter\":{\"type\":\"object\",\"name\":\"AllIndices\",\"id\":\"6ddcffb5-2583-4229-8bf3-5b6cb8dd3ce1\"}}},\"glyph\":{\"type\":\"object\",\"name\":\"VBar\",\"id\":\"fb93f830-55c0-469f-b29c-640980a99790\",\"attributes\":{\"tags\":[\"apply_ranges\"],\"x\":{\"type\":\"field\",\"field\":\"post_str_b1\"},\"width\":{\"type\":\"value\",\"value\":0.8},\"top\":{\"type\":\"field\",\"field\":\"percent\"},\"fill_color\":{\"type\":\"value\",\"value\":\"#30a2da\"},\"hatch_color\":{\"type\":\"value\",\"value\":\"#30a2da\"}}},\"selection_glyph\":{\"type\":\"object\",\"name\":\"VBar\",\"id\":\"e074f00b-159b-4901-a518-1383e3089f72\",\"attributes\":{\"tags\":[\"apply_ranges\"],\"x\":{\"type\":\"field\",\"field\":\"post_str_b1\"},\"width\":{\"type\":\"value\",\"value\":0.8},\"bottom\":{\"type\":\"value\",\"value\":0},\"top\":{\"type\":\"field\",\"field\":\"percent\"},\"line_color\":{\"type\":\"value\",\"value\":\"black\"},\"line_alpha\":{\"type\":\"value\",\"value\":1.0},\"line_width\":{\"type\":\"value\",\"value\":1},\"line_join\":{\"type\":\"value\",\"value\":\"bevel\"},\"line_cap\":{\"type\":\"value\",\"value\":\"butt\"},\"line_dash\":{\"type\":\"value\",\"value\":[]},\"line_dash_offset\":{\"type\":\"value\",\"value\":0},\"fill_color\":{\"type\":\"value\",\"value\":\"#30a2da\"},\"fill_alpha\":{\"type\":\"value\",\"value\":1.0},\"hatch_color\":{\"type\":\"value\",\"value\":\"#30a2da\"},\"hatch_alpha\":{\"type\":\"value\",\"value\":1.0},\"hatch_scale\":{\"type\":\"value\",\"value\":12.0},\"hatch_pattern\":{\"type\":\"value\",\"value\":null},\"hatch_weight\":{\"type\":\"value\",\"value\":1.0}}},\"nonselection_glyph\":{\"type\":\"object\",\"name\":\"VBar\",\"id\":\"edadc95e-c0f0-4601-837f-5f612d068906\",\"attributes\":{\"tags\":[\"apply_ranges\"],\"x\":{\"type\":\"field\",\"field\":\"post_str_b1\"},\"width\":{\"type\":\"value\",\"value\":0.8},\"top\":{\"type\":\"field\",\"field\":\"percent\"},\"line_alpha\":{\"type\":\"value\",\"value\":0.1},\"fill_color\":{\"type\":\"value\",\"value\":\"#30a2da\"},\"fill_alpha\":{\"type\":\"value\",\"value\":0.1},\"hatch_color\":{\"type\":\"value\",\"value\":\"#30a2da\"},\"hatch_alpha\":{\"type\":\"value\",\"value\":0.1}}},\"muted_glyph\":{\"type\":\"object\",\"name\":\"VBar\",\"id\":\"12ef8972-bcdb-4036-9a90-1ab1c53b4495\",\"attributes\":{\"tags\":[\"apply_ranges\"],\"x\":{\"type\":\"field\",\"field\":\"post_str_b1\"},\"width\":{\"type\":\"value\",\"value\":0.8},\"top\":{\"type\":\"field\",\"field\":\"percent\"},\"line_alpha\":{\"type\":\"value\",\"value\":0.2},\"fill_color\":{\"type\":\"value\",\"value\":\"#30a2da\"},\"fill_alpha\":{\"type\":\"value\",\"value\":0.2},\"hatch_color\":{\"type\":\"value\",\"value\":\"#30a2da\"},\"hatch_alpha\":{\"type\":\"value\",\"value\":0.2}}}}},{\"type\":\"object\",\"name\":\"Span\",\"id\":\"01ac71e5-25f6-45c1-9096-7efac9f145af\",\"attributes\":{\"level\":\"glyph\",\"location\":4.166666666666665,\"line_color\":\"red\",\"line_width\":3}},{\"type\":\"object\",\"name\":\"Span\",\"id\":\"a8e1ce75-44b9-47b8-a846-34e492eeffd1\",\"attributes\":{\"level\":\"glyph\",\"location\":6.249999999999997,\"line_color\":\"blue\",\"line_width\":3}},{\"type\":\"object\",\"name\":\"Span\",\"id\":\"e92af573-baa6-4fea-a2c0-39ee9fdaaebf\",\"attributes\":{\"level\":\"glyph\",\"location\":2.0833333333333326,\"line_color\":\"blue\",\"line_width\":3}}],\"toolbar\":{\"type\":\"object\",\"name\":\"Toolbar\",\"id\":\"2df4758f-09b1-4520-9af1-ceb497854d8d\",\"attributes\":{\"tools\":[{\"type\":\"object\",\"name\":\"WheelZoomTool\",\"id\":\"c4806557-c69b-44ed-9b93-dcf2ba1deccd\",\"attributes\":{\"tags\":[\"hv_created\"],\"renderers\":\"auto\",\"zoom_together\":\"none\"}},{\"type\":\"object\",\"name\":\"HoverTool\",\"id\":\"239feb0d-52cd-43a7-9138-a06c1cc25bb9\",\"attributes\":{\"tags\":[\"hv_created\"],\"renderers\":[{\"id\":\"cb836a40-89d0-4cb5-b2df-c5cbe1bf6e9d\"}],\"tooltips\":[[\"post_str_b1\",\"@{post_str_b1}\"],[\"percent\",\"@{percent}\"]]}},{\"type\":\"object\",\"name\":\"SaveTool\",\"id\":\"6088ce3b-110d-43fd-934a-ce348ebc45bd\"},{\"type\":\"object\",\"name\":\"PanTool\",\"id\":\"a7396e45-47e7-45e0-a774-33d2a4ee8ab3\"},{\"type\":\"object\",\"name\":\"BoxZoomTool\",\"id\":\"99033fa0-afca-4961-9136-d6cbdd9c7398\",\"attributes\":{\"dimensions\":\"both\",\"overlay\":{\"type\":\"object\",\"name\":\"BoxAnnotation\",\"id\":\"c927487f-3652-4fcf-aea8-045e8609f1b9\",\"attributes\":{\"syncable\":false,\"line_color\":\"black\",\"line_alpha\":1.0,\"line_width\":2,\"line_dash\":[4,4],\"fill_color\":\"lightgrey\",\"fill_alpha\":0.5,\"level\":\"overlay\",\"visible\":false,\"left\":{\"type\":\"number\",\"value\":\"nan\"},\"right\":{\"type\":\"number\",\"value\":\"nan\"},\"top\":{\"type\":\"number\",\"value\":\"nan\"},\"bottom\":{\"type\":\"number\",\"value\":\"nan\"},\"left_units\":\"canvas\",\"right_units\":\"canvas\",\"top_units\":\"canvas\",\"bottom_units\":\"canvas\",\"handles\":{\"type\":\"object\",\"name\":\"BoxInteractionHandles\",\"id\":\"e10062e3-36bc-4fd1-8479-163124507b40\",\"attributes\":{\"all\":{\"type\":\"object\",\"name\":\"AreaVisuals\",\"id\":\"8e2f48f0-cad4-4a93-805e-8c518a25fc71\",\"attributes\":{\"fill_color\":\"white\",\"hover_fill_color\":\"lightgray\"}}}}}}}},{\"type\":\"object\",\"name\":\"ResetTool\",\"id\":\"0c7fad90-6514-4d0a-ada6-b7f648f12660\"}],\"active_drag\":{\"id\":\"a7396e45-47e7-45e0-a774-33d2a4ee8ab3\"}}},\"left\":[{\"type\":\"object\",\"name\":\"LinearAxis\",\"id\":\"a383d3ba-108a-4479-95fe-ac5f8d82f5cc\",\"attributes\":{\"ticker\":{\"type\":\"object\",\"name\":\"BasicTicker\",\"id\":\"eb80cf02-c68f-409e-bd4c-d06fbd9b9bad\",\"attributes\":{\"mantissas\":[1,2,5]}},\"formatter\":{\"type\":\"object\",\"name\":\"BasicTickFormatter\",\"id\":\"53281d8e-951c-4afe-bbbd-8cc1eca120b0\"},\"axis_label\":\"percent\",\"major_label_policy\":{\"type\":\"object\",\"name\":\"AllLabels\",\"id\":\"3c6e4eff-63a2-4717-a3ec-fc909fb28de6\"}}}],\"below\":[{\"type\":\"object\",\"name\":\"CategoricalAxis\",\"id\":\"a96b77f3-5a4f-45fb-8057-506c2258caf3\",\"attributes\":{\"ticker\":{\"type\":\"object\",\"name\":\"CategoricalTicker\",\"id\":\"560e1d25-2eeb-48e9-98f7-a919010e2657\"},\"formatter\":{\"type\":\"object\",\"name\":\"CategoricalTickFormatter\",\"id\":\"d7aad842-f387-446a-9e4e-2b2bccbcdf8c\"},\"axis_label\":\"post_str_b1\",\"major_label_policy\":{\"type\":\"object\",\"name\":\"AllLabels\",\"id\":\"14911a29-b1b9-4e8f-800c-62e4894d3db6\"}}}],\"center\":[{\"type\":\"object\",\"name\":\"Grid\",\"id\":\"2b4cc291-0784-4078-9f69-707996e93554\",\"attributes\":{\"axis\":{\"id\":\"a96b77f3-5a4f-45fb-8057-506c2258caf3\"},\"grid_line_color\":null}},{\"type\":\"object\",\"name\":\"Grid\",\"id\":\"9a66c487-c246-4aea-b4dd-698cc2e96e83\",\"attributes\":{\"dimension\":1,\"axis\":{\"id\":\"a383d3ba-108a-4479-95fe-ac5f8d82f5cc\"},\"grid_line_color\":null}}],\"min_border_top\":10,\"min_border_bottom\":10,\"min_border_left\":10,\"min_border_right\":10,\"output_backend\":\"webgl\"}},{\"type\":\"object\",\"name\":\"Spacer\",\"id\":\"fb31ea3a-d0f6-41bc-b9cc-f2493733d87c\",\"attributes\":{\"name\":\"HSpacer00504\",\"stylesheets\":[\"\\n:host(.pn-loading):before, .pn-loading:before {\\n  background-color: #c3c3c3;\\n  mask-size: auto calc(min(50%, 400px));\\n  -webkit-mask-size: auto calc(min(50%, 400px));\\n}\",{\"id\":\"f57c187b-42ec-4679-84e8-88680fe3ec13\"},{\"id\":\"99ece407-891b-4404-9b62-9eb07c15ff6f\"},{\"id\":\"6e0471a4-ec37-4d74-a3b3-a1c334662096\"}],\"margin\":0,\"sizing_mode\":\"stretch_width\",\"align\":\"start\"}}]}}],\"defs\":[{\"type\":\"model\",\"name\":\"ReactiveHTML1\"},{\"type\":\"model\",\"name\":\"FlexBox1\",\"properties\":[{\"name\":\"align_content\",\"kind\":\"Any\",\"default\":\"flex-start\"},{\"name\":\"align_items\",\"kind\":\"Any\",\"default\":\"flex-start\"},{\"name\":\"flex_direction\",\"kind\":\"Any\",\"default\":\"row\"},{\"name\":\"flex_wrap\",\"kind\":\"Any\",\"default\":\"wrap\"},{\"name\":\"gap\",\"kind\":\"Any\",\"default\":\"\"},{\"name\":\"justify_content\",\"kind\":\"Any\",\"default\":\"flex-start\"}]},{\"type\":\"model\",\"name\":\"FloatPanel1\",\"properties\":[{\"name\":\"config\",\"kind\":\"Any\",\"default\":{\"type\":\"map\"}},{\"name\":\"contained\",\"kind\":\"Any\",\"default\":true},{\"name\":\"position\",\"kind\":\"Any\",\"default\":\"right-top\"},{\"name\":\"offsetx\",\"kind\":\"Any\",\"default\":null},{\"name\":\"offsety\",\"kind\":\"Any\",\"default\":null},{\"name\":\"theme\",\"kind\":\"Any\",\"default\":\"primary\"},{\"name\":\"status\",\"kind\":\"Any\",\"default\":\"normalized\"}]},{\"type\":\"model\",\"name\":\"GridStack1\",\"properties\":[{\"name\":\"ncols\",\"kind\":\"Any\",\"default\":null},{\"name\":\"nrows\",\"kind\":\"Any\",\"default\":null},{\"name\":\"allow_resize\",\"kind\":\"Any\",\"default\":true},{\"name\":\"allow_drag\",\"kind\":\"Any\",\"default\":true},{\"name\":\"state\",\"kind\":\"Any\",\"default\":[]}]},{\"type\":\"model\",\"name\":\"drag1\",\"properties\":[{\"name\":\"slider_width\",\"kind\":\"Any\",\"default\":5},{\"name\":\"slider_color\",\"kind\":\"Any\",\"default\":\"black\"},{\"name\":\"value\",\"kind\":\"Any\",\"default\":50}]},{\"type\":\"model\",\"name\":\"click1\",\"properties\":[{\"name\":\"terminal_output\",\"kind\":\"Any\",\"default\":\"\"},{\"name\":\"debug_name\",\"kind\":\"Any\",\"default\":\"\"},{\"name\":\"clears\",\"kind\":\"Any\",\"default\":0}]},{\"type\":\"model\",\"name\":\"FastWrapper1\",\"properties\":[{\"name\":\"object\",\"kind\":\"Any\",\"default\":null},{\"name\":\"style\",\"kind\":\"Any\",\"default\":null}]},{\"type\":\"model\",\"name\":\"NotificationArea1\",\"properties\":[{\"name\":\"js_events\",\"kind\":\"Any\",\"default\":{\"type\":\"map\"}},{\"name\":\"max_notifications\",\"kind\":\"Any\",\"default\":5},{\"name\":\"notifications\",\"kind\":\"Any\",\"default\":[]},{\"name\":\"position\",\"kind\":\"Any\",\"default\":\"bottom-right\"},{\"name\":\"_clear\",\"kind\":\"Any\",\"default\":0},{\"name\":\"types\",\"kind\":\"Any\",\"default\":[{\"type\":\"map\",\"entries\":[[\"type\",\"warning\"],[\"background\",\"#ffc107\"],[\"icon\",{\"type\":\"map\",\"entries\":[[\"className\",\"fas fa-exclamation-triangle\"],[\"tagName\",\"i\"],[\"color\",\"white\"]]}]]},{\"type\":\"map\",\"entries\":[[\"type\",\"info\"],[\"background\",\"#007bff\"],[\"icon\",{\"type\":\"map\",\"entries\":[[\"className\",\"fas fa-info-circle\"],[\"tagName\",\"i\"],[\"color\",\"white\"]]}]]}]}]},{\"type\":\"model\",\"name\":\"Notification\",\"properties\":[{\"name\":\"background\",\"kind\":\"Any\",\"default\":null},{\"name\":\"duration\",\"kind\":\"Any\",\"default\":3000},{\"name\":\"icon\",\"kind\":\"Any\",\"default\":null},{\"name\":\"message\",\"kind\":\"Any\",\"default\":\"\"},{\"name\":\"notification_type\",\"kind\":\"Any\",\"default\":null},{\"name\":\"_rendered\",\"kind\":\"Any\",\"default\":false},{\"name\":\"_destroyed\",\"kind\":\"Any\",\"default\":false}]},{\"type\":\"model\",\"name\":\"TemplateActions1\",\"properties\":[{\"name\":\"open_modal\",\"kind\":\"Any\",\"default\":0},{\"name\":\"close_modal\",\"kind\":\"Any\",\"default\":0}]},{\"type\":\"model\",\"name\":\"BootstrapTemplateActions1\",\"properties\":[{\"name\":\"open_modal\",\"kind\":\"Any\",\"default\":0},{\"name\":\"close_modal\",\"kind\":\"Any\",\"default\":0}]},{\"type\":\"model\",\"name\":\"TemplateEditor1\",\"properties\":[{\"name\":\"layout\",\"kind\":\"Any\",\"default\":[]}]},{\"type\":\"model\",\"name\":\"MaterialTemplateActions1\",\"properties\":[{\"name\":\"open_modal\",\"kind\":\"Any\",\"default\":0},{\"name\":\"close_modal\",\"kind\":\"Any\",\"default\":0}]},{\"type\":\"model\",\"name\":\"ReactiveESM1\",\"properties\":[{\"name\":\"esm_constants\",\"kind\":\"Any\",\"default\":{\"type\":\"map\"}}]},{\"type\":\"model\",\"name\":\"JSComponent1\",\"properties\":[{\"name\":\"esm_constants\",\"kind\":\"Any\",\"default\":{\"type\":\"map\"}}]},{\"type\":\"model\",\"name\":\"ReactComponent1\",\"properties\":[{\"name\":\"esm_constants\",\"kind\":\"Any\",\"default\":{\"type\":\"map\"}}]},{\"type\":\"model\",\"name\":\"AnyWidgetComponent1\",\"properties\":[{\"name\":\"esm_constants\",\"kind\":\"Any\",\"default\":{\"type\":\"map\"}}]},{\"type\":\"model\",\"name\":\"request_value1\",\"properties\":[{\"name\":\"fill\",\"kind\":\"Any\",\"default\":\"none\"},{\"name\":\"_synced\",\"kind\":\"Any\",\"default\":null},{\"name\":\"_request_sync\",\"kind\":\"Any\",\"default\":0}]}]}};\n",
       "  var render_items = [{\"docid\":\"0205e0c6-54e8-414c-8efc-c696a8c1dc42\",\"roots\":{\"c198c955-1a0f-4a20-8aa8-5b38fe5f75aa\":\"d9224f4f-887d-4514-b971-e54455afd72c\"},\"root_ids\":[\"c198c955-1a0f-4a20-8aa8-5b38fe5f75aa\"]}];\n",
       "  var docs = Object.values(docs_json)\n",
       "  if (!docs) {\n",
       "    return\n",
       "  }\n",
       "  const py_version = docs[0].version.replace('rc', '-rc.').replace('.dev', '-dev.')\n",
       "  async function embed_document(root) {\n",
       "    var Bokeh = get_bokeh(root)\n",
       "    await Bokeh.embed.embed_items_notebook(docs_json, render_items);\n",
       "    for (const render_item of render_items) {\n",
       "      for (const root_id of render_item.root_ids) {\n",
       "\tconst id_el = document.getElementById(root_id)\n",
       "\tif (id_el.children.length && id_el.children[0].hasAttribute('data-root-id')) {\n",
       "\t  const root_el = id_el.children[0]\n",
       "\t  root_el.id = root_el.id + '-rendered'\n",
       "\t  for (const child of root_el.children) {\n",
       "            // Ensure JupyterLab does not capture keyboard shortcuts\n",
       "            // see: https://jupyterlab.readthedocs.io/en/4.1.x/extension/notebook.html#keyboard-interaction-model\n",
       "\t    child.setAttribute('data-lm-suppress-shortcuts', 'true')\n",
       "\t  }\n",
       "\t}\n",
       "      }\n",
       "    }\n",
       "  }\n",
       "  function get_bokeh(root) {\n",
       "    if (root.Bokeh === undefined) {\n",
       "      return null\n",
       "    } else if (root.Bokeh.version !== py_version) {\n",
       "      if (root.Bokeh.versions === undefined || !root.Bokeh.versions.has(py_version)) {\n",
       "\treturn null\n",
       "      }\n",
       "      return root.Bokeh.versions.get(py_version);\n",
       "    } else if (root.Bokeh.version === py_version) {\n",
       "      return root.Bokeh\n",
       "    }\n",
       "    return null\n",
       "  }\n",
       "  function is_loaded(root) {\n",
       "    var Bokeh = get_bokeh(root)\n",
       "    return (Bokeh != null && Bokeh.Panel !== undefined)\n",
       "  }\n",
       "  if (is_loaded(root)) {\n",
       "    embed_document(root);\n",
       "  } else {\n",
       "    var attempts = 0;\n",
       "    var timer = setInterval(function(root) {\n",
       "      if (is_loaded(root)) {\n",
       "        clearInterval(timer);\n",
       "        embed_document(root);\n",
       "      } else if (document.readyState == \"complete\") {\n",
       "        attempts++;\n",
       "        if (attempts > 200) {\n",
       "          clearInterval(timer);\n",
       "\t  var Bokeh = get_bokeh(root)\n",
       "\t  if (Bokeh == null || Bokeh.Panel == null) {\n",
       "            console.warn(\"Panel: ERROR: Unable to run Panel code because Bokeh or Panel library is missing\");\n",
       "\t  } else {\n",
       "\t    console.warn(\"Panel: WARNING: Attempting to render but not all required libraries could be resolved.\")\n",
       "\t    embed_document(root)\n",
       "\t  }\n",
       "        }\n",
       "      }\n",
       "    }, 25, root)\n",
       "  }\n",
       "})(window);</script>"
      ],
      "text/plain": [
       ":Overlay\n",
       "   .Bars.I    :Bars   [post_str_b1]   (percent)\n",
       "   .HLine.I   :HLine   [x,y]\n",
       "   .HLine.II  :HLine   [x,y]\n",
       "   .HLine.III :HLine   [x,y]"
      ]
     },
     "metadata": {
      "application/vnd.holoviews_exec.v0+json": {
       "id": "c198c955-1a0f-4a20-8aa8-5b38fe5f75aa"
      }
     },
     "output_type": "display_data"
    },
    {
     "name": "stdout",
     "output_type": "stream",
     "text": [
      "df_10_last FOR str_b1 = 04\n"
     ]
    },
    {
     "data": {
      "text/html": [
       "<div><style>\n",
       ".dataframe > thead > tr,\n",
       ".dataframe > tbody > tr {\n",
       "  text-align: right;\n",
       "  white-space: pre-wrap;\n",
       "}\n",
       "</style>\n",
       "<small>shape: (10, 21)</small><table border=\"1\" class=\"dataframe\"><thead><tr><th>fecha</th><th>sorteo</th><th>bolillas</th><th>id</th><th>combo</th><th>b1</th><th>b2</th><th>b3</th><th>b4</th><th>b5</th><th>str_b1</th><th>str_b2</th><th>str_b3</th><th>str_b4</th><th>str_b5</th><th>post_str_b1</th><th>post_str_blast</th><th>is_rare_combination</th><th>reason</th><th>jumps_map</th><th>unijump</th></tr><tr><td>str</td><td>str</td><td>str</td><td>str</td><td>array[u8, 5]</td><td>u8</td><td>u8</td><td>u8</td><td>u8</td><td>u8</td><td>str</td><td>str</td><td>str</td><td>str</td><td>str</td><td>str</td><td>str</td><td>bool</td><td>u8</td><td>str</td><td>i64</td></tr></thead><tbody><tr><td>&quot;09/04/2025&quot;</td><td>&quot;4181&quot;</td><td>&quot;29 21 20 28 04&quot;</td><td>&quot;0420212829&quot;</td><td>[4, 20, … 29]</td><td>4</td><td>20</td><td>21</td><td>28</td><td>29</td><td>&quot;04&quot;</td><td>&quot;20&quot;</td><td>&quot;21&quot;</td><td>&quot;28&quot;</td><td>&quot;29&quot;</td><td>&quot;10&quot;</td><td>&quot;34&quot;</td><td>true</td><td>16</td><td>&quot;16_01_07_01&quot;</td><td>-33</td></tr><tr><td>&quot;29/03/2025&quot;</td><td>&quot;4170&quot;</td><td>&quot;23 06 04 09 10&quot;</td><td>&quot;0406091023&quot;</td><td>[4, 6, … 23]</td><td>4</td><td>6</td><td>9</td><td>10</td><td>23</td><td>&quot;04&quot;</td><td>&quot;06&quot;</td><td>&quot;09&quot;</td><td>&quot;10&quot;</td><td>&quot;23&quot;</td><td>&quot;03&quot;</td><td>&quot;35&quot;</td><td>false</td><td>0</td><td>&quot;02_03_01_13&quot;</td><td>17</td></tr><tr><td>&quot;25/03/2025&quot;</td><td>&quot;4166&quot;</td><td>&quot;29 06 35 22 04&quot;</td><td>&quot;0406222935&quot;</td><td>[4, 6, … 35]</td><td>4</td><td>6</td><td>22</td><td>29</td><td>35</td><td>&quot;04&quot;</td><td>&quot;06&quot;</td><td>&quot;22&quot;</td><td>&quot;29&quot;</td><td>&quot;35&quot;</td><td>&quot;06&quot;</td><td>&quot;34&quot;</td><td>true</td><td>16</td><td>&quot;02_16_07_06&quot;</td><td>31</td></tr><tr><td>&quot;23/03/2025&quot;</td><td>&quot;4164&quot;</td><td>&quot;13 10 04 15 08&quot;</td><td>&quot;0408101315&quot;</td><td>[4, 8, … 15]</td><td>4</td><td>8</td><td>10</td><td>13</td><td>15</td><td>&quot;04&quot;</td><td>&quot;08&quot;</td><td>&quot;10&quot;</td><td>&quot;13&quot;</td><td>&quot;15&quot;</td><td>&quot;06&quot;</td><td>&quot;32&quot;</td><td>true</td><td>16</td><td>&quot;04_02_03_02&quot;</td><td>-5</td></tr><tr><td>&quot;17/03/2025&quot;</td><td>&quot;4158&quot;</td><td>&quot;20 30 04 08 24&quot;</td><td>&quot;0408202430&quot;</td><td>[4, 8, … 30]</td><td>4</td><td>8</td><td>20</td><td>24</td><td>30</td><td>&quot;04&quot;</td><td>&quot;08&quot;</td><td>&quot;20&quot;</td><td>&quot;24&quot;</td><td>&quot;30&quot;</td><td>&quot;07&quot;</td><td>&quot;34&quot;</td><td>true</td><td>20</td><td>&quot;04_12_04_06&quot;</td><td>26</td></tr><tr><td>&quot;03/03/2025&quot;</td><td>&quot;4144&quot;</td><td>&quot;07 18 04 29 31&quot;</td><td>&quot;0407182931&quot;</td><td>[4, 7, … 31]</td><td>4</td><td>7</td><td>18</td><td>29</td><td>31</td><td>&quot;04&quot;</td><td>&quot;07&quot;</td><td>&quot;18&quot;</td><td>&quot;29&quot;</td><td>&quot;31&quot;</td><td>&quot;09&quot;</td><td>&quot;24&quot;</td><td>true</td><td>8</td><td>&quot;03_11_11_02&quot;</td><td>-1</td></tr><tr><td>&quot;28/02/2025&quot;</td><td>&quot;4141&quot;</td><td>&quot;33 04 28 22 07&quot;</td><td>&quot;0407222833&quot;</td><td>[4, 7, … 33]</td><td>4</td><td>7</td><td>22</td><td>28</td><td>33</td><td>&quot;04&quot;</td><td>&quot;07&quot;</td><td>&quot;22&quot;</td><td>&quot;28&quot;</td><td>&quot;33&quot;</td><td>&quot;02&quot;</td><td>&quot;32&quot;</td><td>true</td><td>16</td><td>&quot;03_15_06_05&quot;</td><td>29</td></tr><tr><td>&quot;20/02/2025&quot;</td><td>&quot;4133&quot;</td><td>&quot;34 15 26 04 30&quot;</td><td>&quot;0415263034&quot;</td><td>[4, 15, … 34]</td><td>4</td><td>15</td><td>26</td><td>30</td><td>34</td><td>&quot;04&quot;</td><td>&quot;15&quot;</td><td>&quot;26&quot;</td><td>&quot;30&quot;</td><td>&quot;34&quot;</td><td>&quot;10&quot;</td><td>&quot;32&quot;</td><td>true</td><td>8</td><td>&quot;11_11_04_04&quot;</td><td>14</td></tr><tr><td>&quot;16/02/2025&quot;</td><td>&quot;4129&quot;</td><td>&quot;33 07 12 04 32&quot;</td><td>&quot;0407123233&quot;</td><td>[4, 7, … 33]</td><td>4</td><td>7</td><td>12</td><td>32</td><td>33</td><td>&quot;04&quot;</td><td>&quot;07&quot;</td><td>&quot;12&quot;</td><td>&quot;32&quot;</td><td>&quot;33&quot;</td><td>&quot;12&quot;</td><td>&quot;33&quot;</td><td>false</td><td>0</td><td>&quot;03_05_20_01&quot;</td><td>-47</td></tr><tr><td>&quot;01/02/2025&quot;</td><td>&quot;4114&quot;</td><td>&quot;04 08 35 16 05&quot;</td><td>&quot;0405081635&quot;</td><td>[4, 5, … 35]</td><td>4</td><td>5</td><td>8</td><td>16</td><td>35</td><td>&quot;04&quot;</td><td>&quot;05&quot;</td><td>&quot;08&quot;</td><td>&quot;16&quot;</td><td>&quot;35&quot;</td><td>&quot;01&quot;</td><td>&quot;24&quot;</td><td>true</td><td>16</td><td>&quot;01_03_08_19&quot;</td><td>3</td></tr></tbody></table></div>"
      ],
      "text/plain": [
       "shape: (10, 21)\n",
       "┌────────────┬────────┬─────────────┬────────────┬───┬─────────────┬────────┬────────────┬─────────┐\n",
       "│ fecha      ┆ sorteo ┆ bolillas    ┆ id         ┆ … ┆ is_rare_com ┆ reason ┆ jumps_map  ┆ unijump │\n",
       "│ ---        ┆ ---    ┆ ---         ┆ ---        ┆   ┆ bination    ┆ ---    ┆ ---        ┆ ---     │\n",
       "│ str        ┆ str    ┆ str         ┆ str        ┆   ┆ ---         ┆ u8     ┆ str        ┆ i64     │\n",
       "│            ┆        ┆             ┆            ┆   ┆ bool        ┆        ┆            ┆         │\n",
       "╞════════════╪════════╪═════════════╪════════════╪═══╪═════════════╪════════╪════════════╪═════════╡\n",
       "│ 09/04/2025 ┆ 4181   ┆ 29 21 20 28 ┆ 0420212829 ┆ … ┆ true        ┆ 16     ┆ 16_01_07_0 ┆ -33     │\n",
       "│            ┆        ┆ 04          ┆            ┆   ┆             ┆        ┆ 1          ┆         │\n",
       "│ 29/03/2025 ┆ 4170   ┆ 23 06 04 09 ┆ 0406091023 ┆ … ┆ false       ┆ 0      ┆ 02_03_01_1 ┆ 17      │\n",
       "│            ┆        ┆ 10          ┆            ┆   ┆             ┆        ┆ 3          ┆         │\n",
       "│ 25/03/2025 ┆ 4166   ┆ 29 06 35 22 ┆ 0406222935 ┆ … ┆ true        ┆ 16     ┆ 02_16_07_0 ┆ 31      │\n",
       "│            ┆        ┆ 04          ┆            ┆   ┆             ┆        ┆ 6          ┆         │\n",
       "│ 23/03/2025 ┆ 4164   ┆ 13 10 04 15 ┆ 0408101315 ┆ … ┆ true        ┆ 16     ┆ 04_02_03_0 ┆ -5      │\n",
       "│            ┆        ┆ 08          ┆            ┆   ┆             ┆        ┆ 2          ┆         │\n",
       "│ 17/03/2025 ┆ 4158   ┆ 20 30 04 08 ┆ 0408202430 ┆ … ┆ true        ┆ 20     ┆ 04_12_04_0 ┆ 26      │\n",
       "│            ┆        ┆ 24          ┆            ┆   ┆             ┆        ┆ 6          ┆         │\n",
       "│ 03/03/2025 ┆ 4144   ┆ 07 18 04 29 ┆ 0407182931 ┆ … ┆ true        ┆ 8      ┆ 03_11_11_0 ┆ -1      │\n",
       "│            ┆        ┆ 31          ┆            ┆   ┆             ┆        ┆ 2          ┆         │\n",
       "│ 28/02/2025 ┆ 4141   ┆ 33 04 28 22 ┆ 0407222833 ┆ … ┆ true        ┆ 16     ┆ 03_15_06_0 ┆ 29      │\n",
       "│            ┆        ┆ 07          ┆            ┆   ┆             ┆        ┆ 5          ┆         │\n",
       "│ 20/02/2025 ┆ 4133   ┆ 34 15 26 04 ┆ 0415263034 ┆ … ┆ true        ┆ 8      ┆ 11_11_04_0 ┆ 14      │\n",
       "│            ┆        ┆ 30          ┆            ┆   ┆             ┆        ┆ 4          ┆         │\n",
       "│ 16/02/2025 ┆ 4129   ┆ 33 07 12 04 ┆ 0407123233 ┆ … ┆ false       ┆ 0      ┆ 03_05_20_0 ┆ -47     │\n",
       "│            ┆        ┆ 32          ┆            ┆   ┆             ┆        ┆ 1          ┆         │\n",
       "│ 01/02/2025 ┆ 4114   ┆ 04 08 35 16 ┆ 0405081635 ┆ … ┆ true        ┆ 16     ┆ 01_03_08_1 ┆ 3       │\n",
       "│            ┆        ┆ 05          ┆            ┆   ┆             ┆        ┆ 9          ┆         │\n",
       "└────────────┴────────┴─────────────┴────────────┴───┴─────────────┴────────┴────────────┴─────────┘"
      ]
     },
     "metadata": {},
     "output_type": "display_data"
    },
    {
     "name": "stdout",
     "output_type": "stream",
     "text": [
      "df_jumps_map FOR str_b1 = 04\n"
     ]
    },
    {
     "data": {
      "text/html": [
       "<div><style>\n",
       ".dataframe > thead > tr,\n",
       ".dataframe > tbody > tr {\n",
       "  text-align: right;\n",
       "  white-space: pre-wrap;\n",
       "}\n",
       "</style>\n",
       "<small>shape: (725, 2)</small><table border=\"1\" class=\"dataframe\"><thead><tr><th>jumps_map</th><th>count</th></tr><tr><td>str</td><td>u32</td></tr></thead><tbody><tr><td>&quot;03_04_10_01&quot;</td><td>2</td></tr><tr><td>&quot;04_16_07_01&quot;</td><td>2</td></tr><tr><td>&quot;03_03_09_09&quot;</td><td>2</td></tr><tr><td>&quot;08_09_10_03&quot;</td><td>2</td></tr><tr><td>&quot;06_06_03_16&quot;</td><td>2</td></tr><tr><td>&hellip;</td><td>&hellip;</td></tr><tr><td>&quot;07_09_01_08&quot;</td><td>1</td></tr><tr><td>&quot;03_03_05_01&quot;</td><td>1</td></tr><tr><td>&quot;03_08_13_05&quot;</td><td>1</td></tr><tr><td>&quot;25_03_02_01&quot;</td><td>1</td></tr><tr><td>&quot;06_03_08_14&quot;</td><td>1</td></tr></tbody></table></div>"
      ],
      "text/plain": [
       "shape: (725, 2)\n",
       "┌─────────────┬───────┐\n",
       "│ jumps_map   ┆ count │\n",
       "│ ---         ┆ ---   │\n",
       "│ str         ┆ u32   │\n",
       "╞═════════════╪═══════╡\n",
       "│ 03_04_10_01 ┆ 2     │\n",
       "│ 04_16_07_01 ┆ 2     │\n",
       "│ 03_03_09_09 ┆ 2     │\n",
       "│ 08_09_10_03 ┆ 2     │\n",
       "│ 06_06_03_16 ┆ 2     │\n",
       "│ …           ┆ …     │\n",
       "│ 07_09_01_08 ┆ 1     │\n",
       "│ 03_03_05_01 ┆ 1     │\n",
       "│ 03_08_13_05 ┆ 1     │\n",
       "│ 25_03_02_01 ┆ 1     │\n",
       "│ 06_03_08_14 ┆ 1     │\n",
       "└─────────────┴───────┘"
      ]
     },
     "metadata": {},
     "output_type": "display_data"
    },
    {
     "name": "stdout",
     "output_type": "stream",
     "text": [
      "df_unijump FOR str_b1 = 04\n"
     ]
    },
    {
     "data": {
      "text/html": [
       "<div><style>\n",
       ".dataframe > thead > tr,\n",
       ".dataframe > tbody > tr {\n",
       "  text-align: right;\n",
       "  white-space: pre-wrap;\n",
       "}\n",
       "</style>\n",
       "<small>shape: (112, 2)</small><table border=\"1\" class=\"dataframe\"><thead><tr><th>unijump</th><th>count</th></tr><tr><td>i64</td><td>u32</td></tr></thead><tbody><tr><td>-12</td><td>19</td></tr><tr><td>-8</td><td>19</td></tr><tr><td>-1</td><td>19</td></tr><tr><td>-13</td><td>18</td></tr><tr><td>-5</td><td>15</td></tr><tr><td>&hellip;</td><td>&hellip;</td></tr><tr><td>28</td><td>1</td></tr><tr><td>-53</td><td>1</td></tr><tr><td>54</td><td>1</td></tr><tr><td>63</td><td>1</td></tr><tr><td>-55</td><td>1</td></tr></tbody></table></div>"
      ],
      "text/plain": [
       "shape: (112, 2)\n",
       "┌─────────┬───────┐\n",
       "│ unijump ┆ count │\n",
       "│ ---     ┆ ---   │\n",
       "│ i64     ┆ u32   │\n",
       "╞═════════╪═══════╡\n",
       "│ -12     ┆ 19    │\n",
       "│ -8      ┆ 19    │\n",
       "│ -1      ┆ 19    │\n",
       "│ -13     ┆ 18    │\n",
       "│ -5      ┆ 15    │\n",
       "│ …       ┆ …     │\n",
       "│ 28      ┆ 1     │\n",
       "│ -53     ┆ 1     │\n",
       "│ 54      ┆ 1     │\n",
       "│ 63      ┆ 1     │\n",
       "│ -55     ┆ 1     │\n",
       "└─────────┴───────┘"
      ]
     },
     "metadata": {},
     "output_type": "display_data"
    }
   ],
   "source": [
    "possible_b1, exclude_jump_maps_b1 = plot_post_col(col='str_b1', post_col='post_str_b1', test_value=\"04\")"
   ]
  },
  {
   "cell_type": "code",
   "execution_count": 15,
   "metadata": {},
   "outputs": [
    {
     "name": "stdout",
     "output_type": "stream",
     "text": [
      "df_viz FOR str_b5 = 27\n"
     ]
    },
    {
     "data": {
      "text/html": [
       "<div><style>\n",
       ".dataframe > thead > tr,\n",
       ".dataframe > tbody > tr {\n",
       "  text-align: right;\n",
       "  white-space: pre-wrap;\n",
       "}\n",
       "</style>\n",
       "<small>shape: (22, 3)</small><table border=\"1\" class=\"dataframe\"><thead><tr><th>post_str_blast</th><th>count</th><th>percent</th></tr><tr><td>str</td><td>u32</td><td>f64</td></tr></thead><tbody><tr><td>&quot;35&quot;</td><td>55</td><td>14.945652</td></tr><tr><td>&quot;32&quot;</td><td>50</td><td>13.586957</td></tr><tr><td>&quot;34&quot;</td><td>36</td><td>9.782609</td></tr><tr><td>&quot;33&quot;</td><td>34</td><td>9.23913</td></tr><tr><td>&quot;31&quot;</td><td>34</td><td>9.23913</td></tr><tr><td>&hellip;</td><td>&hellip;</td><td>&hellip;</td></tr><tr><td>&quot;16&quot;</td><td>2</td><td>0.543478</td></tr><tr><td>&quot;17&quot;</td><td>2</td><td>0.543478</td></tr><tr><td>&quot;21&quot;</td><td>2</td><td>0.543478</td></tr><tr><td>&quot;12&quot;</td><td>1</td><td>0.271739</td></tr><tr><td>&quot;14&quot;</td><td>1</td><td>0.271739</td></tr></tbody></table></div>"
      ],
      "text/plain": [
       "shape: (22, 3)\n",
       "┌────────────────┬───────┬───────────┐\n",
       "│ post_str_blast ┆ count ┆ percent   │\n",
       "│ ---            ┆ ---   ┆ ---       │\n",
       "│ str            ┆ u32   ┆ f64       │\n",
       "╞════════════════╪═══════╪═══════════╡\n",
       "│ 35             ┆ 55    ┆ 14.945652 │\n",
       "│ 32             ┆ 50    ┆ 13.586957 │\n",
       "│ 34             ┆ 36    ┆ 9.782609  │\n",
       "│ 33             ┆ 34    ┆ 9.23913   │\n",
       "│ 31             ┆ 34    ┆ 9.23913   │\n",
       "│ …              ┆ …     ┆ …         │\n",
       "│ 16             ┆ 2     ┆ 0.543478  │\n",
       "│ 17             ┆ 2     ┆ 0.543478  │\n",
       "│ 21             ┆ 2     ┆ 0.543478  │\n",
       "│ 12             ┆ 1     ┆ 0.271739  │\n",
       "│ 14             ┆ 1     ┆ 0.271739  │\n",
       "└────────────────┴───────┴───────────┘"
      ]
     },
     "metadata": {},
     "output_type": "display_data"
    },
    {
     "data": {},
     "metadata": {},
     "output_type": "display_data"
    },
    {
     "data": {
      "application/vnd.holoviews_exec.v0+json": "",
      "text/html": [
       "<div id='d072a1cb-aa85-4314-ae06-32f095c2503e'>\n",
       "  <div id=\"a7e65e28-00b7-4656-8141-eadab1685275\" data-root-id=\"d072a1cb-aa85-4314-ae06-32f095c2503e\" style=\"display: contents;\"></div>\n",
       "</div>\n",
       "<script type=\"application/javascript\">(function(root) {\n",
       "  var docs_json = {\"ded1abd3-24f7-4126-be6c-f1ade72b20e0\":{\"version\":\"3.7.2\",\"title\":\"Bokeh Application\",\"roots\":[{\"type\":\"object\",\"name\":\"Row\",\"id\":\"d072a1cb-aa85-4314-ae06-32f095c2503e\",\"attributes\":{\"name\":\"Row00570\",\"tags\":[\"embedded\"],\"stylesheets\":[\"\\n:host(.pn-loading):before, .pn-loading:before {\\n  background-color: #c3c3c3;\\n  mask-size: auto calc(min(50%, 400px));\\n  -webkit-mask-size: auto calc(min(50%, 400px));\\n}\",{\"type\":\"object\",\"name\":\"ImportedStyleSheet\",\"id\":\"d66458d7-3092-4890-a97d-9e5a1da97242\",\"attributes\":{\"url\":\"https://cdn.holoviz.org/panel/1.6.2/dist/css/loading.css\"}},{\"type\":\"object\",\"name\":\"ImportedStyleSheet\",\"id\":\"51c21a4c-5db1-4664-892f-26f9aa876187\",\"attributes\":{\"url\":\"https://cdn.holoviz.org/panel/1.6.2/dist/css/listpanel.css\"}},{\"type\":\"object\",\"name\":\"ImportedStyleSheet\",\"id\":\"c88a8351-0994-40ad-ad44-cb05756f4648\",\"attributes\":{\"url\":\"https://cdn.holoviz.org/panel/1.6.2/dist/bundled/theme/default.css\"}},{\"type\":\"object\",\"name\":\"ImportedStyleSheet\",\"id\":\"88b64c61-52d0-47ea-808a-9c4d160b8315\",\"attributes\":{\"url\":\"https://cdn.holoviz.org/panel/1.6.2/dist/bundled/theme/native.css\"}}],\"min_width\":700,\"margin\":0,\"sizing_mode\":\"stretch_width\",\"align\":\"start\",\"children\":[{\"type\":\"object\",\"name\":\"Spacer\",\"id\":\"3b4115cb-7abe-4a11-9737-0b7d2a22fa73\",\"attributes\":{\"name\":\"HSpacer00574\",\"stylesheets\":[\"\\n:host(.pn-loading):before, .pn-loading:before {\\n  background-color: #c3c3c3;\\n  mask-size: auto calc(min(50%, 400px));\\n  -webkit-mask-size: auto calc(min(50%, 400px));\\n}\",{\"id\":\"d66458d7-3092-4890-a97d-9e5a1da97242\"},{\"id\":\"c88a8351-0994-40ad-ad44-cb05756f4648\"},{\"id\":\"88b64c61-52d0-47ea-808a-9c4d160b8315\"}],\"margin\":0,\"sizing_mode\":\"stretch_width\",\"align\":\"start\"}},{\"type\":\"object\",\"name\":\"Figure\",\"id\":\"710ab157-3ef4-47e9-abba-07581bba3dba\",\"attributes\":{\"width\":700,\"height\":300,\"margin\":[5,10],\"sizing_mode\":\"fixed\",\"align\":\"start\",\"x_range\":{\"type\":\"object\",\"name\":\"FactorRange\",\"id\":\"3f869591-235a-4805-bf1d-80c53763236b\",\"attributes\":{\"name\":\"post_str_blast\",\"tags\":[[[\"post_str_blast\",null]],[]],\"factors\":[\"35\",\"32\",\"34\",\"33\",\"31\",\"29\",\"27\",\"26\",\"30\",\"28\",\"25\",\"24\",\"19\",\"23\",\"22\",\"20\",\"18\",\"16\",\"17\",\"21\",\"12\",\"14\"]}},\"y_range\":{\"type\":\"object\",\"name\":\"Range1d\",\"id\":\"0d11a468-b5a7-46be-8aae-0382d8a2dfd6\",\"attributes\":{\"name\":\"percent\",\"tags\":[[[\"percent\",null]],{\"type\":\"map\",\"entries\":[[\"invert_yaxis\",false],[\"autorange\",false]]}],\"end\":16.413043478260867,\"reset_start\":0.0,\"reset_end\":16.413043478260867}},\"x_scale\":{\"type\":\"object\",\"name\":\"CategoricalScale\",\"id\":\"c7afc572-5c5d-4313-8804-6e858647896f\"},\"y_scale\":{\"type\":\"object\",\"name\":\"LinearScale\",\"id\":\"59de333b-6f46-4736-8461-c45c77d1d78e\"},\"title\":{\"type\":\"object\",\"name\":\"Title\",\"id\":\"4ec6c51e-1f6d-4f9d-863f-4f36e513d6d5\",\"attributes\":{\"text_color\":\"black\",\"text_font_size\":\"12pt\"}},\"renderers\":[{\"type\":\"object\",\"name\":\"GlyphRenderer\",\"id\":\"2bf4f787-de1a-4e85-8ad2-0998feabee6c\",\"attributes\":{\"data_source\":{\"type\":\"object\",\"name\":\"ColumnDataSource\",\"id\":\"347d1efe-23c7-4aa9-aca6-dca35f2c8a19\",\"attributes\":{\"selected\":{\"type\":\"object\",\"name\":\"Selection\",\"id\":\"139aa301-a5f3-4f92-9671-6d64fe69423a\",\"attributes\":{\"indices\":[],\"line_indices\":[]}},\"selection_policy\":{\"type\":\"object\",\"name\":\"UnionRenderers\",\"id\":\"6e036157-4eb1-4124-ae63-9597764b2b54\"},\"data\":{\"type\":\"map\",\"entries\":[[\"post_str_blast\",[\"35\",\"32\",\"34\",\"33\",\"31\",\"29\",\"27\",\"26\",\"30\",\"28\",\"25\",\"24\",\"19\",\"23\",\"22\",\"20\",\"18\",\"16\",\"17\",\"21\",\"12\",\"14\"]],[\"percent\",{\"type\":\"ndarray\",\"array\":{\"type\":\"bytes\",\"data\":\"FrKQhSzkLUBCFrKQhSwrQFjIQhaykCNAN73pTW96IkA3velNb3oiQMlCFrKQhR9A3/SmN73pF0BYyEIWspATQFjIQhaykBNAFrKQhSxkEUAhC1nIQhYKQJze9KY3vQVAFrKQhSxkAUCoN73pTW/+PxaykIUsZPE/FrKQhSxk8T8hC1nIQhbqPxaykIUsZOE/FrKQhSxk4T8WspCFLGThPxaykIUsZNE/FrKQhSxk0T8=\"},\"shape\":[22],\"dtype\":\"float64\",\"order\":\"little\"}]]}}},\"view\":{\"type\":\"object\",\"name\":\"CDSView\",\"id\":\"e905a772-2230-46d4-a3c2-0d42bd515a24\",\"attributes\":{\"filter\":{\"type\":\"object\",\"name\":\"AllIndices\",\"id\":\"73cb4c5a-1d0c-4a1a-83d0-e0ac5bbcb3de\"}}},\"glyph\":{\"type\":\"object\",\"name\":\"VBar\",\"id\":\"1ee53554-153c-4b31-975d-ea413eead6e5\",\"attributes\":{\"tags\":[\"apply_ranges\"],\"x\":{\"type\":\"field\",\"field\":\"post_str_blast\"},\"width\":{\"type\":\"value\",\"value\":0.8},\"top\":{\"type\":\"field\",\"field\":\"percent\"},\"fill_color\":{\"type\":\"value\",\"value\":\"#30a2da\"},\"hatch_color\":{\"type\":\"value\",\"value\":\"#30a2da\"}}},\"selection_glyph\":{\"type\":\"object\",\"name\":\"VBar\",\"id\":\"0addfbae-7673-4fd7-b4d3-d2204545328a\",\"attributes\":{\"tags\":[\"apply_ranges\"],\"x\":{\"type\":\"field\",\"field\":\"post_str_blast\"},\"width\":{\"type\":\"value\",\"value\":0.8},\"bottom\":{\"type\":\"value\",\"value\":0},\"top\":{\"type\":\"field\",\"field\":\"percent\"},\"line_color\":{\"type\":\"value\",\"value\":\"black\"},\"line_alpha\":{\"type\":\"value\",\"value\":1.0},\"line_width\":{\"type\":\"value\",\"value\":1},\"line_join\":{\"type\":\"value\",\"value\":\"bevel\"},\"line_cap\":{\"type\":\"value\",\"value\":\"butt\"},\"line_dash\":{\"type\":\"value\",\"value\":[]},\"line_dash_offset\":{\"type\":\"value\",\"value\":0},\"fill_color\":{\"type\":\"value\",\"value\":\"#30a2da\"},\"fill_alpha\":{\"type\":\"value\",\"value\":1.0},\"hatch_color\":{\"type\":\"value\",\"value\":\"#30a2da\"},\"hatch_alpha\":{\"type\":\"value\",\"value\":1.0},\"hatch_scale\":{\"type\":\"value\",\"value\":12.0},\"hatch_pattern\":{\"type\":\"value\",\"value\":null},\"hatch_weight\":{\"type\":\"value\",\"value\":1.0}}},\"nonselection_glyph\":{\"type\":\"object\",\"name\":\"VBar\",\"id\":\"b3fecfd7-c62f-40a6-9efe-d2030f175aa9\",\"attributes\":{\"tags\":[\"apply_ranges\"],\"x\":{\"type\":\"field\",\"field\":\"post_str_blast\"},\"width\":{\"type\":\"value\",\"value\":0.8},\"top\":{\"type\":\"field\",\"field\":\"percent\"},\"line_alpha\":{\"type\":\"value\",\"value\":0.1},\"fill_color\":{\"type\":\"value\",\"value\":\"#30a2da\"},\"fill_alpha\":{\"type\":\"value\",\"value\":0.1},\"hatch_color\":{\"type\":\"value\",\"value\":\"#30a2da\"},\"hatch_alpha\":{\"type\":\"value\",\"value\":0.1}}},\"muted_glyph\":{\"type\":\"object\",\"name\":\"VBar\",\"id\":\"7b781e8b-1359-47b1-bf33-3cdbcd443f54\",\"attributes\":{\"tags\":[\"apply_ranges\"],\"x\":{\"type\":\"field\",\"field\":\"post_str_blast\"},\"width\":{\"type\":\"value\",\"value\":0.8},\"top\":{\"type\":\"field\",\"field\":\"percent\"},\"line_alpha\":{\"type\":\"value\",\"value\":0.2},\"fill_color\":{\"type\":\"value\",\"value\":\"#30a2da\"},\"fill_alpha\":{\"type\":\"value\",\"value\":0.2},\"hatch_color\":{\"type\":\"value\",\"value\":\"#30a2da\"},\"hatch_alpha\":{\"type\":\"value\",\"value\":0.2}}}}},{\"type\":\"object\",\"name\":\"Span\",\"id\":\"1cd3991b-6090-44e8-a5aa-3c40f4413e26\",\"attributes\":{\"level\":\"glyph\",\"location\":4.545454545454545,\"line_color\":\"red\",\"line_width\":3}},{\"type\":\"object\",\"name\":\"Span\",\"id\":\"99535b5f-8e04-40f3-828d-42ba7dc1b00b\",\"attributes\":{\"level\":\"glyph\",\"location\":6.8181818181818175,\"line_color\":\"blue\",\"line_width\":3}},{\"type\":\"object\",\"name\":\"Span\",\"id\":\"0753fd21-7677-4eac-a391-2762e9862a0f\",\"attributes\":{\"level\":\"glyph\",\"location\":2.2727272727272725,\"line_color\":\"blue\",\"line_width\":3}}],\"toolbar\":{\"type\":\"object\",\"name\":\"Toolbar\",\"id\":\"376844d3-9eb0-4ac4-8e18-e839482233af\",\"attributes\":{\"tools\":[{\"type\":\"object\",\"name\":\"WheelZoomTool\",\"id\":\"d6ad4c7a-1299-4d55-a216-e574589549d7\",\"attributes\":{\"tags\":[\"hv_created\"],\"renderers\":\"auto\",\"zoom_together\":\"none\"}},{\"type\":\"object\",\"name\":\"HoverTool\",\"id\":\"bdcc8f99-47ca-4c1d-8b4b-4a31d7a042f2\",\"attributes\":{\"tags\":[\"hv_created\"],\"renderers\":[{\"id\":\"2bf4f787-de1a-4e85-8ad2-0998feabee6c\"}],\"tooltips\":[[\"post_str_blast\",\"@{post_str_blast}\"],[\"percent\",\"@{percent}\"]]}},{\"type\":\"object\",\"name\":\"SaveTool\",\"id\":\"b1bd83c3-de56-41cf-af41-8f5cf1084bd8\"},{\"type\":\"object\",\"name\":\"PanTool\",\"id\":\"798dbaa3-41b1-4fca-9bda-602a6d6046a9\"},{\"type\":\"object\",\"name\":\"BoxZoomTool\",\"id\":\"2bf6f071-51f5-40eb-98d0-698215f55f57\",\"attributes\":{\"dimensions\":\"both\",\"overlay\":{\"type\":\"object\",\"name\":\"BoxAnnotation\",\"id\":\"91a7e074-7da1-4e5d-8f50-36b3a4cda9d1\",\"attributes\":{\"syncable\":false,\"line_color\":\"black\",\"line_alpha\":1.0,\"line_width\":2,\"line_dash\":[4,4],\"fill_color\":\"lightgrey\",\"fill_alpha\":0.5,\"level\":\"overlay\",\"visible\":false,\"left\":{\"type\":\"number\",\"value\":\"nan\"},\"right\":{\"type\":\"number\",\"value\":\"nan\"},\"top\":{\"type\":\"number\",\"value\":\"nan\"},\"bottom\":{\"type\":\"number\",\"value\":\"nan\"},\"left_units\":\"canvas\",\"right_units\":\"canvas\",\"top_units\":\"canvas\",\"bottom_units\":\"canvas\",\"handles\":{\"type\":\"object\",\"name\":\"BoxInteractionHandles\",\"id\":\"e08bc504-e86c-494f-bddc-a61898dcb514\",\"attributes\":{\"all\":{\"type\":\"object\",\"name\":\"AreaVisuals\",\"id\":\"89d1df7c-e39e-49ba-bb59-bd80f2ffb97e\",\"attributes\":{\"fill_color\":\"white\",\"hover_fill_color\":\"lightgray\"}}}}}}}},{\"type\":\"object\",\"name\":\"ResetTool\",\"id\":\"c9c1a851-6660-494b-af70-e57832a92a01\"}],\"active_drag\":{\"id\":\"798dbaa3-41b1-4fca-9bda-602a6d6046a9\"}}},\"left\":[{\"type\":\"object\",\"name\":\"LinearAxis\",\"id\":\"17258eb3-69bc-47a5-b402-8b14af92e507\",\"attributes\":{\"ticker\":{\"type\":\"object\",\"name\":\"BasicTicker\",\"id\":\"eca749a1-af8c-4aba-8307-f62907665194\",\"attributes\":{\"mantissas\":[1,2,5]}},\"formatter\":{\"type\":\"object\",\"name\":\"BasicTickFormatter\",\"id\":\"a3267d36-6afa-4774-b673-daf988f36559\"},\"axis_label\":\"percent\",\"major_label_policy\":{\"type\":\"object\",\"name\":\"AllLabels\",\"id\":\"6c7852f7-66ab-4270-b070-8e63c4a7b1a4\"}}}],\"below\":[{\"type\":\"object\",\"name\":\"CategoricalAxis\",\"id\":\"6ce21e99-c57b-4c5f-b5ba-4518927b7578\",\"attributes\":{\"ticker\":{\"type\":\"object\",\"name\":\"CategoricalTicker\",\"id\":\"0803b979-9064-4f24-8aae-fe163541d07c\"},\"formatter\":{\"type\":\"object\",\"name\":\"CategoricalTickFormatter\",\"id\":\"996c8938-420d-4d6d-9d63-a7ba6655261d\"},\"axis_label\":\"post_str_blast\",\"major_label_policy\":{\"type\":\"object\",\"name\":\"AllLabels\",\"id\":\"6c70757c-876b-4064-b4a1-2ee9c656f6e6\"}}}],\"center\":[{\"type\":\"object\",\"name\":\"Grid\",\"id\":\"d9828ec4-b28c-42cd-b58a-0eb191cd2e42\",\"attributes\":{\"axis\":{\"id\":\"6ce21e99-c57b-4c5f-b5ba-4518927b7578\"},\"grid_line_color\":null}},{\"type\":\"object\",\"name\":\"Grid\",\"id\":\"09c34162-fdd2-4ade-8534-7144fad6e527\",\"attributes\":{\"dimension\":1,\"axis\":{\"id\":\"17258eb3-69bc-47a5-b402-8b14af92e507\"},\"grid_line_color\":null}}],\"min_border_top\":10,\"min_border_bottom\":10,\"min_border_left\":10,\"min_border_right\":10,\"output_backend\":\"webgl\"}},{\"type\":\"object\",\"name\":\"Spacer\",\"id\":\"338c70ba-62a3-4ee4-8b4c-894b00762902\",\"attributes\":{\"name\":\"HSpacer00575\",\"stylesheets\":[\"\\n:host(.pn-loading):before, .pn-loading:before {\\n  background-color: #c3c3c3;\\n  mask-size: auto calc(min(50%, 400px));\\n  -webkit-mask-size: auto calc(min(50%, 400px));\\n}\",{\"id\":\"d66458d7-3092-4890-a97d-9e5a1da97242\"},{\"id\":\"c88a8351-0994-40ad-ad44-cb05756f4648\"},{\"id\":\"88b64c61-52d0-47ea-808a-9c4d160b8315\"}],\"margin\":0,\"sizing_mode\":\"stretch_width\",\"align\":\"start\"}}]}}],\"defs\":[{\"type\":\"model\",\"name\":\"ReactiveHTML1\"},{\"type\":\"model\",\"name\":\"FlexBox1\",\"properties\":[{\"name\":\"align_content\",\"kind\":\"Any\",\"default\":\"flex-start\"},{\"name\":\"align_items\",\"kind\":\"Any\",\"default\":\"flex-start\"},{\"name\":\"flex_direction\",\"kind\":\"Any\",\"default\":\"row\"},{\"name\":\"flex_wrap\",\"kind\":\"Any\",\"default\":\"wrap\"},{\"name\":\"gap\",\"kind\":\"Any\",\"default\":\"\"},{\"name\":\"justify_content\",\"kind\":\"Any\",\"default\":\"flex-start\"}]},{\"type\":\"model\",\"name\":\"FloatPanel1\",\"properties\":[{\"name\":\"config\",\"kind\":\"Any\",\"default\":{\"type\":\"map\"}},{\"name\":\"contained\",\"kind\":\"Any\",\"default\":true},{\"name\":\"position\",\"kind\":\"Any\",\"default\":\"right-top\"},{\"name\":\"offsetx\",\"kind\":\"Any\",\"default\":null},{\"name\":\"offsety\",\"kind\":\"Any\",\"default\":null},{\"name\":\"theme\",\"kind\":\"Any\",\"default\":\"primary\"},{\"name\":\"status\",\"kind\":\"Any\",\"default\":\"normalized\"}]},{\"type\":\"model\",\"name\":\"GridStack1\",\"properties\":[{\"name\":\"ncols\",\"kind\":\"Any\",\"default\":null},{\"name\":\"nrows\",\"kind\":\"Any\",\"default\":null},{\"name\":\"allow_resize\",\"kind\":\"Any\",\"default\":true},{\"name\":\"allow_drag\",\"kind\":\"Any\",\"default\":true},{\"name\":\"state\",\"kind\":\"Any\",\"default\":[]}]},{\"type\":\"model\",\"name\":\"drag1\",\"properties\":[{\"name\":\"slider_width\",\"kind\":\"Any\",\"default\":5},{\"name\":\"slider_color\",\"kind\":\"Any\",\"default\":\"black\"},{\"name\":\"value\",\"kind\":\"Any\",\"default\":50}]},{\"type\":\"model\",\"name\":\"click1\",\"properties\":[{\"name\":\"terminal_output\",\"kind\":\"Any\",\"default\":\"\"},{\"name\":\"debug_name\",\"kind\":\"Any\",\"default\":\"\"},{\"name\":\"clears\",\"kind\":\"Any\",\"default\":0}]},{\"type\":\"model\",\"name\":\"FastWrapper1\",\"properties\":[{\"name\":\"object\",\"kind\":\"Any\",\"default\":null},{\"name\":\"style\",\"kind\":\"Any\",\"default\":null}]},{\"type\":\"model\",\"name\":\"NotificationArea1\",\"properties\":[{\"name\":\"js_events\",\"kind\":\"Any\",\"default\":{\"type\":\"map\"}},{\"name\":\"max_notifications\",\"kind\":\"Any\",\"default\":5},{\"name\":\"notifications\",\"kind\":\"Any\",\"default\":[]},{\"name\":\"position\",\"kind\":\"Any\",\"default\":\"bottom-right\"},{\"name\":\"_clear\",\"kind\":\"Any\",\"default\":0},{\"name\":\"types\",\"kind\":\"Any\",\"default\":[{\"type\":\"map\",\"entries\":[[\"type\",\"warning\"],[\"background\",\"#ffc107\"],[\"icon\",{\"type\":\"map\",\"entries\":[[\"className\",\"fas fa-exclamation-triangle\"],[\"tagName\",\"i\"],[\"color\",\"white\"]]}]]},{\"type\":\"map\",\"entries\":[[\"type\",\"info\"],[\"background\",\"#007bff\"],[\"icon\",{\"type\":\"map\",\"entries\":[[\"className\",\"fas fa-info-circle\"],[\"tagName\",\"i\"],[\"color\",\"white\"]]}]]}]}]},{\"type\":\"model\",\"name\":\"Notification\",\"properties\":[{\"name\":\"background\",\"kind\":\"Any\",\"default\":null},{\"name\":\"duration\",\"kind\":\"Any\",\"default\":3000},{\"name\":\"icon\",\"kind\":\"Any\",\"default\":null},{\"name\":\"message\",\"kind\":\"Any\",\"default\":\"\"},{\"name\":\"notification_type\",\"kind\":\"Any\",\"default\":null},{\"name\":\"_rendered\",\"kind\":\"Any\",\"default\":false},{\"name\":\"_destroyed\",\"kind\":\"Any\",\"default\":false}]},{\"type\":\"model\",\"name\":\"TemplateActions1\",\"properties\":[{\"name\":\"open_modal\",\"kind\":\"Any\",\"default\":0},{\"name\":\"close_modal\",\"kind\":\"Any\",\"default\":0}]},{\"type\":\"model\",\"name\":\"BootstrapTemplateActions1\",\"properties\":[{\"name\":\"open_modal\",\"kind\":\"Any\",\"default\":0},{\"name\":\"close_modal\",\"kind\":\"Any\",\"default\":0}]},{\"type\":\"model\",\"name\":\"TemplateEditor1\",\"properties\":[{\"name\":\"layout\",\"kind\":\"Any\",\"default\":[]}]},{\"type\":\"model\",\"name\":\"MaterialTemplateActions1\",\"properties\":[{\"name\":\"open_modal\",\"kind\":\"Any\",\"default\":0},{\"name\":\"close_modal\",\"kind\":\"Any\",\"default\":0}]},{\"type\":\"model\",\"name\":\"ReactiveESM1\",\"properties\":[{\"name\":\"esm_constants\",\"kind\":\"Any\",\"default\":{\"type\":\"map\"}}]},{\"type\":\"model\",\"name\":\"JSComponent1\",\"properties\":[{\"name\":\"esm_constants\",\"kind\":\"Any\",\"default\":{\"type\":\"map\"}}]},{\"type\":\"model\",\"name\":\"ReactComponent1\",\"properties\":[{\"name\":\"esm_constants\",\"kind\":\"Any\",\"default\":{\"type\":\"map\"}}]},{\"type\":\"model\",\"name\":\"AnyWidgetComponent1\",\"properties\":[{\"name\":\"esm_constants\",\"kind\":\"Any\",\"default\":{\"type\":\"map\"}}]},{\"type\":\"model\",\"name\":\"request_value1\",\"properties\":[{\"name\":\"fill\",\"kind\":\"Any\",\"default\":\"none\"},{\"name\":\"_synced\",\"kind\":\"Any\",\"default\":null},{\"name\":\"_request_sync\",\"kind\":\"Any\",\"default\":0}]}]}};\n",
       "  var render_items = [{\"docid\":\"ded1abd3-24f7-4126-be6c-f1ade72b20e0\",\"roots\":{\"d072a1cb-aa85-4314-ae06-32f095c2503e\":\"a7e65e28-00b7-4656-8141-eadab1685275\"},\"root_ids\":[\"d072a1cb-aa85-4314-ae06-32f095c2503e\"]}];\n",
       "  var docs = Object.values(docs_json)\n",
       "  if (!docs) {\n",
       "    return\n",
       "  }\n",
       "  const py_version = docs[0].version.replace('rc', '-rc.').replace('.dev', '-dev.')\n",
       "  async function embed_document(root) {\n",
       "    var Bokeh = get_bokeh(root)\n",
       "    await Bokeh.embed.embed_items_notebook(docs_json, render_items);\n",
       "    for (const render_item of render_items) {\n",
       "      for (const root_id of render_item.root_ids) {\n",
       "\tconst id_el = document.getElementById(root_id)\n",
       "\tif (id_el.children.length && id_el.children[0].hasAttribute('data-root-id')) {\n",
       "\t  const root_el = id_el.children[0]\n",
       "\t  root_el.id = root_el.id + '-rendered'\n",
       "\t  for (const child of root_el.children) {\n",
       "            // Ensure JupyterLab does not capture keyboard shortcuts\n",
       "            // see: https://jupyterlab.readthedocs.io/en/4.1.x/extension/notebook.html#keyboard-interaction-model\n",
       "\t    child.setAttribute('data-lm-suppress-shortcuts', 'true')\n",
       "\t  }\n",
       "\t}\n",
       "      }\n",
       "    }\n",
       "  }\n",
       "  function get_bokeh(root) {\n",
       "    if (root.Bokeh === undefined) {\n",
       "      return null\n",
       "    } else if (root.Bokeh.version !== py_version) {\n",
       "      if (root.Bokeh.versions === undefined || !root.Bokeh.versions.has(py_version)) {\n",
       "\treturn null\n",
       "      }\n",
       "      return root.Bokeh.versions.get(py_version);\n",
       "    } else if (root.Bokeh.version === py_version) {\n",
       "      return root.Bokeh\n",
       "    }\n",
       "    return null\n",
       "  }\n",
       "  function is_loaded(root) {\n",
       "    var Bokeh = get_bokeh(root)\n",
       "    return (Bokeh != null && Bokeh.Panel !== undefined)\n",
       "  }\n",
       "  if (is_loaded(root)) {\n",
       "    embed_document(root);\n",
       "  } else {\n",
       "    var attempts = 0;\n",
       "    var timer = setInterval(function(root) {\n",
       "      if (is_loaded(root)) {\n",
       "        clearInterval(timer);\n",
       "        embed_document(root);\n",
       "      } else if (document.readyState == \"complete\") {\n",
       "        attempts++;\n",
       "        if (attempts > 200) {\n",
       "          clearInterval(timer);\n",
       "\t  var Bokeh = get_bokeh(root)\n",
       "\t  if (Bokeh == null || Bokeh.Panel == null) {\n",
       "            console.warn(\"Panel: ERROR: Unable to run Panel code because Bokeh or Panel library is missing\");\n",
       "\t  } else {\n",
       "\t    console.warn(\"Panel: WARNING: Attempting to render but not all required libraries could be resolved.\")\n",
       "\t    embed_document(root)\n",
       "\t  }\n",
       "        }\n",
       "      }\n",
       "    }, 25, root)\n",
       "  }\n",
       "})(window);</script>"
      ],
      "text/plain": [
       ":Overlay\n",
       "   .Bars.I    :Bars   [post_str_blast]   (percent)\n",
       "   .HLine.I   :HLine   [x,y]\n",
       "   .HLine.II  :HLine   [x,y]\n",
       "   .HLine.III :HLine   [x,y]"
      ]
     },
     "metadata": {
      "application/vnd.holoviews_exec.v0+json": {
       "id": "d072a1cb-aa85-4314-ae06-32f095c2503e"
      }
     },
     "output_type": "display_data"
    },
    {
     "name": "stdout",
     "output_type": "stream",
     "text": [
      "df_10_last FOR str_b5 = 27\n"
     ]
    },
    {
     "data": {
      "text/html": [
       "<div><style>\n",
       ".dataframe > thead > tr,\n",
       ".dataframe > tbody > tr {\n",
       "  text-align: right;\n",
       "  white-space: pre-wrap;\n",
       "}\n",
       "</style>\n",
       "<small>shape: (10, 21)</small><table border=\"1\" class=\"dataframe\"><thead><tr><th>fecha</th><th>sorteo</th><th>bolillas</th><th>id</th><th>combo</th><th>b1</th><th>b2</th><th>b3</th><th>b4</th><th>b5</th><th>str_b1</th><th>str_b2</th><th>str_b3</th><th>str_b4</th><th>str_b5</th><th>post_str_b1</th><th>post_str_blast</th><th>is_rare_combination</th><th>reason</th><th>jumps_map</th><th>unijump</th></tr><tr><td>str</td><td>str</td><td>str</td><td>str</td><td>array[u8, 5]</td><td>u8</td><td>u8</td><td>u8</td><td>u8</td><td>u8</td><td>str</td><td>str</td><td>str</td><td>str</td><td>str</td><td>str</td><td>str</td><td>bool</td><td>u8</td><td>str</td><td>i64</td></tr></thead><tbody><tr><td>&quot;13/04/2025&quot;</td><td>&quot;4185&quot;</td><td>&quot;26 06 13 09 27&quot;</td><td>&quot;0609132627&quot;</td><td>[6, 9, … 27]</td><td>6</td><td>9</td><td>13</td><td>26</td><td>27</td><td>&quot;06&quot;</td><td>&quot;09&quot;</td><td>&quot;13&quot;</td><td>&quot;26&quot;</td><td>&quot;27&quot;</td><td>&quot;04&quot;</td><td>&quot;27&quot;</td><td>false</td><td>0</td><td>&quot;03_04_13_01&quot;</td><td>-29</td></tr><tr><td>&quot;15/03/2025&quot;</td><td>&quot;4156&quot;</td><td>&quot;16 15 05 27 02&quot;</td><td>&quot;0205151627&quot;</td><td>[2, 5, … 27]</td><td>2</td><td>5</td><td>15</td><td>16</td><td>27</td><td>&quot;02&quot;</td><td>&quot;05&quot;</td><td>&quot;15&quot;</td><td>&quot;16&quot;</td><td>&quot;27&quot;</td><td>&quot;10&quot;</td><td>&quot;30&quot;</td><td>true</td><td>16</td><td>&quot;03_10_01_11&quot;</td><td>35</td></tr><tr><td>&quot;11/01/2025&quot;</td><td>&quot;4093&quot;</td><td>&quot;22 02 25 27 16&quot;</td><td>&quot;0216222527&quot;</td><td>[2, 16, … 27]</td><td>2</td><td>16</td><td>22</td><td>25</td><td>27</td><td>&quot;02&quot;</td><td>&quot;16&quot;</td><td>&quot;22&quot;</td><td>&quot;25&quot;</td><td>&quot;27&quot;</td><td>&quot;04&quot;</td><td>&quot;23&quot;</td><td>true</td><td>16</td><td>&quot;14_06_03_02&quot;</td><td>-3</td></tr><tr><td>&quot;08/01/2025&quot;</td><td>&quot;4090&quot;</td><td>&quot;02 27 08 17 24&quot;</td><td>&quot;0208172427&quot;</td><td>[2, 8, … 27]</td><td>2</td><td>8</td><td>17</td><td>24</td><td>27</td><td>&quot;02&quot;</td><td>&quot;08&quot;</td><td>&quot;17&quot;</td><td>&quot;24&quot;</td><td>&quot;27&quot;</td><td>&quot;05&quot;</td><td>&quot;32&quot;</td><td>true</td><td>16</td><td>&quot;06_09_07_03&quot;</td><td>3</td></tr><tr><td>&quot;20/12/2024&quot;</td><td>&quot;4071&quot;</td><td>&quot;08 22 23 07 27&quot;</td><td>&quot;0708222327&quot;</td><td>[7, 8, … 27]</td><td>7</td><td>8</td><td>22</td><td>23</td><td>27</td><td>&quot;07&quot;</td><td>&quot;08&quot;</td><td>&quot;22&quot;</td><td>&quot;23&quot;</td><td>&quot;27&quot;</td><td>&quot;05&quot;</td><td>&quot;34&quot;</td><td>true</td><td>16</td><td>&quot;01_14_01_04&quot;</td><td>42</td></tr><tr><td>&quot;06/12/2024&quot;</td><td>&quot;4057&quot;</td><td>&quot;09 18 27 10 05&quot;</td><td>&quot;0509101827&quot;</td><td>[5, 9, … 27]</td><td>5</td><td>9</td><td>10</td><td>18</td><td>27</td><td>&quot;05&quot;</td><td>&quot;09&quot;</td><td>&quot;10&quot;</td><td>&quot;18&quot;</td><td>&quot;27&quot;</td><td>&quot;04&quot;</td><td>&quot;25&quot;</td><td>true</td><td>16</td><td>&quot;04_01_08_09&quot;</td><td>-16</td></tr><tr><td>&quot;29/10/2024&quot;</td><td>&quot;4019&quot;</td><td>&quot;15 14 27 21 06&quot;</td><td>&quot;0614152127&quot;</td><td>[6, 14, … 27]</td><td>6</td><td>14</td><td>15</td><td>21</td><td>27</td><td>&quot;06&quot;</td><td>&quot;14&quot;</td><td>&quot;15&quot;</td><td>&quot;21&quot;</td><td>&quot;27&quot;</td><td>&quot;05&quot;</td><td>&quot;31&quot;</td><td>true</td><td>24</td><td>&quot;08_01_06_06&quot;</td><td>-17</td></tr><tr><td>&quot;14/10/2024&quot;</td><td>&quot;4004&quot;</td><td>&quot;11 27 20 23 05&quot;</td><td>&quot;0511202327&quot;</td><td>[5, 11, … 27]</td><td>5</td><td>11</td><td>20</td><td>23</td><td>27</td><td>&quot;05&quot;</td><td>&quot;11&quot;</td><td>&quot;20&quot;</td><td>&quot;23&quot;</td><td>&quot;27&quot;</td><td>&quot;01&quot;</td><td>&quot;29&quot;</td><td>false</td><td>0</td><td>&quot;06_09_03_04&quot;</td><td>16</td></tr><tr><td>&quot;25/08/2024&quot;</td><td>&quot;3954&quot;</td><td>&quot;27 10 21 05 23&quot;</td><td>&quot;0510212327&quot;</td><td>[5, 10, … 27]</td><td>5</td><td>10</td><td>21</td><td>23</td><td>27</td><td>&quot;05&quot;</td><td>&quot;10&quot;</td><td>&quot;21&quot;</td><td>&quot;23&quot;</td><td>&quot;27&quot;</td><td>&quot;06&quot;</td><td>&quot;35&quot;</td><td>false</td><td>0</td><td>&quot;05_11_02_04&quot;</td><td>26</td></tr><tr><td>&quot;10/08/2024&quot;</td><td>&quot;3939&quot;</td><td>&quot;27 03 19 08 04&quot;</td><td>&quot;0304081927&quot;</td><td>[3, 4, … 27]</td><td>3</td><td>4</td><td>8</td><td>19</td><td>27</td><td>&quot;03&quot;</td><td>&quot;04&quot;</td><td>&quot;08&quot;</td><td>&quot;19&quot;</td><td>&quot;27&quot;</td><td>&quot;10&quot;</td><td>&quot;33&quot;</td><td>false</td><td>0</td><td>&quot;01_04_11_08&quot;</td><td>-14</td></tr></tbody></table></div>"
      ],
      "text/plain": [
       "shape: (10, 21)\n",
       "┌────────────┬────────┬─────────────┬────────────┬───┬─────────────┬────────┬────────────┬─────────┐\n",
       "│ fecha      ┆ sorteo ┆ bolillas    ┆ id         ┆ … ┆ is_rare_com ┆ reason ┆ jumps_map  ┆ unijump │\n",
       "│ ---        ┆ ---    ┆ ---         ┆ ---        ┆   ┆ bination    ┆ ---    ┆ ---        ┆ ---     │\n",
       "│ str        ┆ str    ┆ str         ┆ str        ┆   ┆ ---         ┆ u8     ┆ str        ┆ i64     │\n",
       "│            ┆        ┆             ┆            ┆   ┆ bool        ┆        ┆            ┆         │\n",
       "╞════════════╪════════╪═════════════╪════════════╪═══╪═════════════╪════════╪════════════╪═════════╡\n",
       "│ 13/04/2025 ┆ 4185   ┆ 26 06 13 09 ┆ 0609132627 ┆ … ┆ false       ┆ 0      ┆ 03_04_13_0 ┆ -29     │\n",
       "│            ┆        ┆ 27          ┆            ┆   ┆             ┆        ┆ 1          ┆         │\n",
       "│ 15/03/2025 ┆ 4156   ┆ 16 15 05 27 ┆ 0205151627 ┆ … ┆ true        ┆ 16     ┆ 03_10_01_1 ┆ 35      │\n",
       "│            ┆        ┆ 02          ┆            ┆   ┆             ┆        ┆ 1          ┆         │\n",
       "│ 11/01/2025 ┆ 4093   ┆ 22 02 25 27 ┆ 0216222527 ┆ … ┆ true        ┆ 16     ┆ 14_06_03_0 ┆ -3      │\n",
       "│            ┆        ┆ 16          ┆            ┆   ┆             ┆        ┆ 2          ┆         │\n",
       "│ 08/01/2025 ┆ 4090   ┆ 02 27 08 17 ┆ 0208172427 ┆ … ┆ true        ┆ 16     ┆ 06_09_07_0 ┆ 3       │\n",
       "│            ┆        ┆ 24          ┆            ┆   ┆             ┆        ┆ 3          ┆         │\n",
       "│ 20/12/2024 ┆ 4071   ┆ 08 22 23 07 ┆ 0708222327 ┆ … ┆ true        ┆ 16     ┆ 01_14_01_0 ┆ 42      │\n",
       "│            ┆        ┆ 27          ┆            ┆   ┆             ┆        ┆ 4          ┆         │\n",
       "│ 06/12/2024 ┆ 4057   ┆ 09 18 27 10 ┆ 0509101827 ┆ … ┆ true        ┆ 16     ┆ 04_01_08_0 ┆ -16     │\n",
       "│            ┆        ┆ 05          ┆            ┆   ┆             ┆        ┆ 9          ┆         │\n",
       "│ 29/10/2024 ┆ 4019   ┆ 15 14 27 21 ┆ 0614152127 ┆ … ┆ true        ┆ 24     ┆ 08_01_06_0 ┆ -17     │\n",
       "│            ┆        ┆ 06          ┆            ┆   ┆             ┆        ┆ 6          ┆         │\n",
       "│ 14/10/2024 ┆ 4004   ┆ 11 27 20 23 ┆ 0511202327 ┆ … ┆ false       ┆ 0      ┆ 06_09_03_0 ┆ 16      │\n",
       "│            ┆        ┆ 05          ┆            ┆   ┆             ┆        ┆ 4          ┆         │\n",
       "│ 25/08/2024 ┆ 3954   ┆ 27 10 21 05 ┆ 0510212327 ┆ … ┆ false       ┆ 0      ┆ 05_11_02_0 ┆ 26      │\n",
       "│            ┆        ┆ 23          ┆            ┆   ┆             ┆        ┆ 4          ┆         │\n",
       "│ 10/08/2024 ┆ 3939   ┆ 27 03 19 08 ┆ 0304081927 ┆ … ┆ false       ┆ 0      ┆ 01_04_11_0 ┆ -14     │\n",
       "│            ┆        ┆ 04          ┆            ┆   ┆             ┆        ┆ 8          ┆         │\n",
       "└────────────┴────────┴─────────────┴────────────┴───┴─────────────┴────────┴────────────┴─────────┘"
      ]
     },
     "metadata": {},
     "output_type": "display_data"
    },
    {
     "name": "stdout",
     "output_type": "stream",
     "text": [
      "df_jumps_map FOR str_b5 = 27\n"
     ]
    },
    {
     "data": {
      "text/html": [
       "<div><style>\n",
       ".dataframe > thead > tr,\n",
       ".dataframe > tbody > tr {\n",
       "  text-align: right;\n",
       "  white-space: pre-wrap;\n",
       "}\n",
       "</style>\n",
       "<small>shape: (363, 2)</small><table border=\"1\" class=\"dataframe\"><thead><tr><th>jumps_map</th><th>count</th></tr><tr><td>str</td><td>u32</td></tr></thead><tbody><tr><td>&quot;09_04_02_01&quot;</td><td>2</td></tr><tr><td>&quot;03_14_02_01&quot;</td><td>2</td></tr><tr><td>&quot;02_04_08_02&quot;</td><td>2</td></tr><tr><td>&quot;09_03_02_03&quot;</td><td>2</td></tr><tr><td>&quot;07_02_06_11&quot;</td><td>2</td></tr><tr><td>&hellip;</td><td>&hellip;</td></tr><tr><td>&quot;15_05_02_04&quot;</td><td>1</td></tr><tr><td>&quot;01_10_05_03&quot;</td><td>1</td></tr><tr><td>&quot;06_03_03_11&quot;</td><td>1</td></tr><tr><td>&quot;04_08_12_01&quot;</td><td>1</td></tr><tr><td>&quot;04_02_11_04&quot;</td><td>1</td></tr></tbody></table></div>"
      ],
      "text/plain": [
       "shape: (363, 2)\n",
       "┌─────────────┬───────┐\n",
       "│ jumps_map   ┆ count │\n",
       "│ ---         ┆ ---   │\n",
       "│ str         ┆ u32   │\n",
       "╞═════════════╪═══════╡\n",
       "│ 09_04_02_01 ┆ 2     │\n",
       "│ 03_14_02_01 ┆ 2     │\n",
       "│ 02_04_08_02 ┆ 2     │\n",
       "│ 09_03_02_03 ┆ 2     │\n",
       "│ 07_02_06_11 ┆ 2     │\n",
       "│ …           ┆ …     │\n",
       "│ 15_05_02_04 ┆ 1     │\n",
       "│ 01_10_05_03 ┆ 1     │\n",
       "│ 06_03_03_11 ┆ 1     │\n",
       "│ 04_08_12_01 ┆ 1     │\n",
       "│ 04_02_11_04 ┆ 1     │\n",
       "└─────────────┴───────┘"
      ]
     },
     "metadata": {},
     "output_type": "display_data"
    },
    {
     "name": "stdout",
     "output_type": "stream",
     "text": [
      "df_unijump FOR str_b5 = 27\n"
     ]
    },
    {
     "data": {
      "text/html": [
       "<div><style>\n",
       ".dataframe > thead > tr,\n",
       ".dataframe > tbody > tr {\n",
       "  text-align: right;\n",
       "  white-space: pre-wrap;\n",
       "}\n",
       "</style>\n",
       "<small>shape: (91, 2)</small><table border=\"1\" class=\"dataframe\"><thead><tr><th>unijump</th><th>count</th></tr><tr><td>i64</td><td>u32</td></tr></thead><tbody><tr><td>-3</td><td>12</td></tr><tr><td>-10</td><td>11</td></tr><tr><td>-2</td><td>9</td></tr><tr><td>-4</td><td>9</td></tr><tr><td>-12</td><td>9</td></tr><tr><td>&hellip;</td><td>&hellip;</td></tr><tr><td>44</td><td>1</td></tr><tr><td>54</td><td>1</td></tr><tr><td>42</td><td>1</td></tr><tr><td>32</td><td>1</td></tr><tr><td>-43</td><td>1</td></tr></tbody></table></div>"
      ],
      "text/plain": [
       "shape: (91, 2)\n",
       "┌─────────┬───────┐\n",
       "│ unijump ┆ count │\n",
       "│ ---     ┆ ---   │\n",
       "│ i64     ┆ u32   │\n",
       "╞═════════╪═══════╡\n",
       "│ -3      ┆ 12    │\n",
       "│ -10     ┆ 11    │\n",
       "│ -2      ┆ 9     │\n",
       "│ -4      ┆ 9     │\n",
       "│ -12     ┆ 9     │\n",
       "│ …       ┆ …     │\n",
       "│ 44      ┆ 1     │\n",
       "│ 54      ┆ 1     │\n",
       "│ 42      ┆ 1     │\n",
       "│ 32      ┆ 1     │\n",
       "│ -43     ┆ 1     │\n",
       "└─────────┴───────┘"
      ]
     },
     "metadata": {},
     "output_type": "display_data"
    }
   ],
   "source": [
    "possible_blast, exclude_jump_maps_blast = plot_post_col(col='str_b5', post_col='post_str_blast', test_value=\"27\")"
   ]
  },
  {
   "cell_type": "code",
   "execution_count": 16,
   "metadata": {},
   "outputs": [],
   "source": [
    "b_count = rr.CHOOSE\n",
    "min_b = rr.MIN_B_VALUES[0]\n",
    "max_b = rr.MAX_B_VALUES[-1]\n",
    "\n",
    "\n",
    "combos = combinations(range(min_b, max_b + 1), b_count)\n",
    "# print(\"generating combos: \", len(list(combos)))"
   ]
  },
  {
   "cell_type": "code",
   "execution_count": 17,
   "metadata": {},
   "outputs": [
    {
     "name": "stdout",
     "output_type": "stream",
     "text": [
      "TOTAL_LINES=324632\n"
     ]
    },
    {
     "data": {
      "text/html": [
       "<div><style>\n",
       ".dataframe > thead > tr,\n",
       ".dataframe > tbody > tr {\n",
       "  text-align: right;\n",
       "  white-space: pre-wrap;\n",
       "}\n",
       "</style>\n",
       "<small>shape: (10, 18)</small><table border=\"1\" class=\"dataframe\"><thead><tr><th>id</th><th>combo</th><th>b1</th><th>b2</th><th>b3</th><th>b4</th><th>b5</th><th>str_b1</th><th>str_b2</th><th>str_b3</th><th>str_b4</th><th>str_b5</th><th>post_str_b1</th><th>post_str_blast</th><th>is_rare_combination</th><th>reason</th><th>jumps_map</th><th>unijump</th></tr><tr><td>str</td><td>array[u8, 5]</td><td>u8</td><td>u8</td><td>u8</td><td>u8</td><td>u8</td><td>str</td><td>str</td><td>str</td><td>str</td><td>str</td><td>str</td><td>str</td><td>bool</td><td>u8</td><td>str</td><td>i64</td></tr></thead><tbody><tr><td>&quot;0102030405&quot;</td><td>[1, 2, … 5]</td><td>1</td><td>2</td><td>3</td><td>4</td><td>5</td><td>&quot;01&quot;</td><td>&quot;02&quot;</td><td>&quot;03&quot;</td><td>&quot;04&quot;</td><td>&quot;05&quot;</td><td>null</td><td>null</td><td>true</td><td>8</td><td>&quot;01_01_01_01&quot;</td><td>0</td></tr><tr><td>&quot;0102030406&quot;</td><td>[1, 2, … 6]</td><td>1</td><td>2</td><td>3</td><td>4</td><td>6</td><td>&quot;01&quot;</td><td>&quot;02&quot;</td><td>&quot;03&quot;</td><td>&quot;04&quot;</td><td>&quot;06&quot;</td><td>&quot;01&quot;</td><td>&quot;05&quot;</td><td>true</td><td>8</td><td>&quot;01_01_01_02&quot;</td><td>1</td></tr><tr><td>&quot;0102030407&quot;</td><td>[1, 2, … 7]</td><td>1</td><td>2</td><td>3</td><td>4</td><td>7</td><td>&quot;01&quot;</td><td>&quot;02&quot;</td><td>&quot;03&quot;</td><td>&quot;04&quot;</td><td>&quot;07&quot;</td><td>&quot;01&quot;</td><td>&quot;06&quot;</td><td>true</td><td>8</td><td>&quot;01_01_01_03&quot;</td><td>2</td></tr><tr><td>&quot;0102030408&quot;</td><td>[1, 2, … 8]</td><td>1</td><td>2</td><td>3</td><td>4</td><td>8</td><td>&quot;01&quot;</td><td>&quot;02&quot;</td><td>&quot;03&quot;</td><td>&quot;04&quot;</td><td>&quot;08&quot;</td><td>&quot;01&quot;</td><td>&quot;07&quot;</td><td>true</td><td>8</td><td>&quot;01_01_01_04&quot;</td><td>3</td></tr><tr><td>&quot;0102030409&quot;</td><td>[1, 2, … 9]</td><td>1</td><td>2</td><td>3</td><td>4</td><td>9</td><td>&quot;01&quot;</td><td>&quot;02&quot;</td><td>&quot;03&quot;</td><td>&quot;04&quot;</td><td>&quot;09&quot;</td><td>&quot;01&quot;</td><td>&quot;08&quot;</td><td>true</td><td>8</td><td>&quot;01_01_01_05&quot;</td><td>4</td></tr><tr><td>&quot;0102030410&quot;</td><td>[1, 2, … 10]</td><td>1</td><td>2</td><td>3</td><td>4</td><td>10</td><td>&quot;01&quot;</td><td>&quot;02&quot;</td><td>&quot;03&quot;</td><td>&quot;04&quot;</td><td>&quot;10&quot;</td><td>&quot;01&quot;</td><td>&quot;09&quot;</td><td>true</td><td>8</td><td>&quot;01_01_01_06&quot;</td><td>5</td></tr><tr><td>&quot;0102030411&quot;</td><td>[1, 2, … 11]</td><td>1</td><td>2</td><td>3</td><td>4</td><td>11</td><td>&quot;01&quot;</td><td>&quot;02&quot;</td><td>&quot;03&quot;</td><td>&quot;04&quot;</td><td>&quot;11&quot;</td><td>&quot;01&quot;</td><td>&quot;10&quot;</td><td>true</td><td>8</td><td>&quot;01_01_01_07&quot;</td><td>6</td></tr><tr><td>&quot;0102030412&quot;</td><td>[1, 2, … 12]</td><td>1</td><td>2</td><td>3</td><td>4</td><td>12</td><td>&quot;01&quot;</td><td>&quot;02&quot;</td><td>&quot;03&quot;</td><td>&quot;04&quot;</td><td>&quot;12&quot;</td><td>&quot;01&quot;</td><td>&quot;11&quot;</td><td>true</td><td>8</td><td>&quot;01_01_01_08&quot;</td><td>7</td></tr><tr><td>&quot;0102030413&quot;</td><td>[1, 2, … 13]</td><td>1</td><td>2</td><td>3</td><td>4</td><td>13</td><td>&quot;01&quot;</td><td>&quot;02&quot;</td><td>&quot;03&quot;</td><td>&quot;04&quot;</td><td>&quot;13&quot;</td><td>&quot;01&quot;</td><td>&quot;12&quot;</td><td>true</td><td>8</td><td>&quot;01_01_01_09&quot;</td><td>8</td></tr><tr><td>&quot;0102030414&quot;</td><td>[1, 2, … 14]</td><td>1</td><td>2</td><td>3</td><td>4</td><td>14</td><td>&quot;01&quot;</td><td>&quot;02&quot;</td><td>&quot;03&quot;</td><td>&quot;04&quot;</td><td>&quot;14&quot;</td><td>&quot;01&quot;</td><td>&quot;13&quot;</td><td>true</td><td>8</td><td>&quot;01_01_01_10&quot;</td><td>9</td></tr></tbody></table></div>"
      ],
      "text/plain": [
       "shape: (10, 18)\n",
       "┌────────────┬──────────────┬─────┬─────┬───┬─────────────────────┬────────┬─────────────┬─────────┐\n",
       "│ id         ┆ combo        ┆ b1  ┆ b2  ┆ … ┆ is_rare_combination ┆ reason ┆ jumps_map   ┆ unijump │\n",
       "│ ---        ┆ ---          ┆ --- ┆ --- ┆   ┆ ---                 ┆ ---    ┆ ---         ┆ ---     │\n",
       "│ str        ┆ array[u8, 5] ┆ u8  ┆ u8  ┆   ┆ bool                ┆ u8     ┆ str         ┆ i64     │\n",
       "╞════════════╪══════════════╪═════╪═════╪═══╪═════════════════════╪════════╪═════════════╪═════════╡\n",
       "│ 0102030405 ┆ [1, 2, … 5]  ┆ 1   ┆ 2   ┆ … ┆ true                ┆ 8      ┆ 01_01_01_01 ┆ 0       │\n",
       "│ 0102030406 ┆ [1, 2, … 6]  ┆ 1   ┆ 2   ┆ … ┆ true                ┆ 8      ┆ 01_01_01_02 ┆ 1       │\n",
       "│ 0102030407 ┆ [1, 2, … 7]  ┆ 1   ┆ 2   ┆ … ┆ true                ┆ 8      ┆ 01_01_01_03 ┆ 2       │\n",
       "│ 0102030408 ┆ [1, 2, … 8]  ┆ 1   ┆ 2   ┆ … ┆ true                ┆ 8      ┆ 01_01_01_04 ┆ 3       │\n",
       "│ 0102030409 ┆ [1, 2, … 9]  ┆ 1   ┆ 2   ┆ … ┆ true                ┆ 8      ┆ 01_01_01_05 ┆ 4       │\n",
       "│ 0102030410 ┆ [1, 2, … 10] ┆ 1   ┆ 2   ┆ … ┆ true                ┆ 8      ┆ 01_01_01_06 ┆ 5       │\n",
       "│ 0102030411 ┆ [1, 2, … 11] ┆ 1   ┆ 2   ┆ … ┆ true                ┆ 8      ┆ 01_01_01_07 ┆ 6       │\n",
       "│ 0102030412 ┆ [1, 2, … 12] ┆ 1   ┆ 2   ┆ … ┆ true                ┆ 8      ┆ 01_01_01_08 ┆ 7       │\n",
       "│ 0102030413 ┆ [1, 2, … 13] ┆ 1   ┆ 2   ┆ … ┆ true                ┆ 8      ┆ 01_01_01_09 ┆ 8       │\n",
       "│ 0102030414 ┆ [1, 2, … 14] ┆ 1   ┆ 2   ┆ … ┆ true                ┆ 8      ┆ 01_01_01_10 ┆ 9       │\n",
       "└────────────┴──────────────┴─────┴─────┴───┴─────────────────────┴────────┴─────────────┴─────────┘"
      ]
     },
     "metadata": {},
     "output_type": "display_data"
    }
   ],
   "source": [
    "lst = []\n",
    "post_str_b1 = None\n",
    "post_str_blast = None\n",
    "for row in combos:\n",
    "  cols = []\n",
    "  str_row = \" \".join([str(r).zfill(2) for r in row])\n",
    "  id, bolillas_int, str_combo = formalize_data_with_str(bolillas_str=str_row)\n",
    "  cols.append(id)\n",
    "  cols.append(bolillas_int)\n",
    "  cols.extend([b for b in bolillas_int])\n",
    "  cols.extend(str_combo)\n",
    "  cols.append(post_str_b1)\n",
    "  cols.append(post_str_blast)\n",
    "\n",
    "  is_rare, reason = rr.is_rare_combination(bolillas_int, id)\n",
    "  cols.append(is_rare)\n",
    "  cols.append(reason)\n",
    "\n",
    "  cols.append(rr.jumps_map(bolillas_int))\n",
    "  cols.append(rr.unijump(bolillas_int))\n",
    "  \n",
    "  lst.append(cols)\n",
    "\n",
    "  post_str_b1 = str_combo[0]\n",
    "  post_str_blast = str_combo[-1]\n",
    "\n",
    "with open('./gn_cahe_v3.json', 'w') as file: \n",
    "  json.dump(lst, file)\n",
    "\n",
    "df_Orows = pl.DataFrame(\n",
    "  lst,\n",
    "  schema=[\n",
    "    # 'fecha', 'sorteo', 'bolillas',\n",
    "    'id', 'combo', 'b1', 'b2', 'b3', 'b4', 'b5',\n",
    "    'str_b1', 'str_b2', 'str_b3', 'str_b4', 'str_b5',\n",
    "    'post_str_b1', 'post_str_blast',\n",
    "    'is_rare_combination', 'reason',\n",
    "    \"jumps_map\", \"unijump\"\n",
    "  ],\n",
    "  schema_overrides={\n",
    "    'combo': pl.Array(pl.UInt8, 5),\n",
    "    'b1': pl.UInt8,\n",
    "    'b2': pl.UInt8,\n",
    "    'b3': pl.UInt8,\n",
    "    'b4': pl.UInt8,\n",
    "    'b5': pl.UInt8,\n",
    "    'b6': pl.UInt8,\n",
    "    'reason': pl.UInt8\n",
    "  },\n",
    "  orient='row'\n",
    ")\n",
    "\n",
    "TOTAL_LINES = len(df_Orows)\n",
    "print(f'{TOTAL_LINES=}')\n",
    "display(df_Orows.head(10))"
   ]
  },
  {
   "cell_type": "code",
   "execution_count": 18,
   "metadata": {},
   "outputs": [
    {
     "data": {
      "text/html": [
       "<div><style>\n",
       ".dataframe > thead > tr,\n",
       ".dataframe > tbody > tr {\n",
       "  text-align: right;\n",
       "  white-space: pre-wrap;\n",
       "}\n",
       "</style>\n",
       "<small>shape: (160_296, 18)</small><table border=\"1\" class=\"dataframe\"><thead><tr><th>id</th><th>combo</th><th>b1</th><th>b2</th><th>b3</th><th>b4</th><th>b5</th><th>str_b1</th><th>str_b2</th><th>str_b3</th><th>str_b4</th><th>str_b5</th><th>post_str_b1</th><th>post_str_blast</th><th>is_rare_combination</th><th>reason</th><th>jumps_map</th><th>unijump</th></tr><tr><td>str</td><td>array[u8, 5]</td><td>u8</td><td>u8</td><td>u8</td><td>u8</td><td>u8</td><td>str</td><td>str</td><td>str</td><td>str</td><td>str</td><td>str</td><td>str</td><td>bool</td><td>u8</td><td>str</td><td>i64</td></tr></thead><tbody><tr><td>&quot;0102040513&quot;</td><td>[1, 2, … 13]</td><td>1</td><td>2</td><td>4</td><td>5</td><td>13</td><td>&quot;01&quot;</td><td>&quot;02&quot;</td><td>&quot;04&quot;</td><td>&quot;05&quot;</td><td>&quot;13&quot;</td><td>&quot;01&quot;</td><td>&quot;12&quot;</td><td>false</td><td>0</td><td>&quot;01_02_01_08&quot;</td><td>10</td></tr><tr><td>&quot;0102040523&quot;</td><td>[1, 2, … 23]</td><td>1</td><td>2</td><td>4</td><td>5</td><td>23</td><td>&quot;01&quot;</td><td>&quot;02&quot;</td><td>&quot;04&quot;</td><td>&quot;05&quot;</td><td>&quot;23&quot;</td><td>&quot;01&quot;</td><td>&quot;22&quot;</td><td>false</td><td>0</td><td>&quot;01_02_01_18&quot;</td><td>20</td></tr><tr><td>&quot;0102040530&quot;</td><td>[1, 2, … 30]</td><td>1</td><td>2</td><td>4</td><td>5</td><td>30</td><td>&quot;01&quot;</td><td>&quot;02&quot;</td><td>&quot;04&quot;</td><td>&quot;05&quot;</td><td>&quot;30&quot;</td><td>&quot;01&quot;</td><td>&quot;29&quot;</td><td>false</td><td>0</td><td>&quot;01_02_01_25&quot;</td><td>27</td></tr><tr><td>&quot;0102040531&quot;</td><td>[1, 2, … 31]</td><td>1</td><td>2</td><td>4</td><td>5</td><td>31</td><td>&quot;01&quot;</td><td>&quot;02&quot;</td><td>&quot;04&quot;</td><td>&quot;05&quot;</td><td>&quot;31&quot;</td><td>&quot;01&quot;</td><td>&quot;30&quot;</td><td>false</td><td>0</td><td>&quot;01_02_01_26&quot;</td><td>28</td></tr><tr><td>&quot;0102040532&quot;</td><td>[1, 2, … 32]</td><td>1</td><td>2</td><td>4</td><td>5</td><td>32</td><td>&quot;01&quot;</td><td>&quot;02&quot;</td><td>&quot;04&quot;</td><td>&quot;05&quot;</td><td>&quot;32&quot;</td><td>&quot;01&quot;</td><td>&quot;31&quot;</td><td>false</td><td>0</td><td>&quot;01_02_01_27&quot;</td><td>29</td></tr><tr><td>&hellip;</td><td>&hellip;</td><td>&hellip;</td><td>&hellip;</td><td>&hellip;</td><td>&hellip;</td><td>&hellip;</td><td>&hellip;</td><td>&hellip;</td><td>&hellip;</td><td>&hellip;</td><td>&hellip;</td><td>&hellip;</td><td>&hellip;</td><td>&hellip;</td><td>&hellip;</td><td>&hellip;</td><td>&hellip;</td></tr><tr><td>&quot;2829313435&quot;</td><td>[28, 29, … 35]</td><td>28</td><td>29</td><td>31</td><td>34</td><td>35</td><td>&quot;28&quot;</td><td>&quot;29&quot;</td><td>&quot;31&quot;</td><td>&quot;34&quot;</td><td>&quot;35&quot;</td><td>&quot;28&quot;</td><td>&quot;35&quot;</td><td>false</td><td>0</td><td>&quot;01_02_03_01&quot;</td><td>-3</td></tr><tr><td>&quot;2830313334&quot;</td><td>[28, 30, … 34]</td><td>28</td><td>30</td><td>31</td><td>33</td><td>34</td><td>&quot;28&quot;</td><td>&quot;30&quot;</td><td>&quot;31&quot;</td><td>&quot;33&quot;</td><td>&quot;34&quot;</td><td>&quot;28&quot;</td><td>&quot;35&quot;</td><td>false</td><td>0</td><td>&quot;02_01_02_01&quot;</td><td>-4</td></tr><tr><td>&quot;2830313435&quot;</td><td>[28, 30, … 35]</td><td>28</td><td>30</td><td>31</td><td>34</td><td>35</td><td>&quot;28&quot;</td><td>&quot;30&quot;</td><td>&quot;31&quot;</td><td>&quot;34&quot;</td><td>&quot;35&quot;</td><td>&quot;28&quot;</td><td>&quot;35&quot;</td><td>false</td><td>0</td><td>&quot;02_01_03_01&quot;</td><td>-7</td></tr><tr><td>&quot;2831323435&quot;</td><td>[28, 31, … 35]</td><td>28</td><td>31</td><td>32</td><td>34</td><td>35</td><td>&quot;28&quot;</td><td>&quot;31&quot;</td><td>&quot;32&quot;</td><td>&quot;34&quot;</td><td>&quot;35&quot;</td><td>&quot;28&quot;</td><td>&quot;35&quot;</td><td>false</td><td>0</td><td>&quot;03_01_02_01&quot;</td><td>-5</td></tr><tr><td>&quot;2931323435&quot;</td><td>[29, 31, … 35]</td><td>29</td><td>31</td><td>32</td><td>34</td><td>35</td><td>&quot;29&quot;</td><td>&quot;31&quot;</td><td>&quot;32&quot;</td><td>&quot;34&quot;</td><td>&quot;35&quot;</td><td>&quot;29&quot;</td><td>&quot;35&quot;</td><td>false</td><td>0</td><td>&quot;02_01_02_01&quot;</td><td>-4</td></tr></tbody></table></div>"
      ],
      "text/plain": [
       "shape: (160_296, 18)\n",
       "┌────────────┬────────────────┬─────┬─────┬───┬───────────────────┬────────┬─────────────┬─────────┐\n",
       "│ id         ┆ combo          ┆ b1  ┆ b2  ┆ … ┆ is_rare_combinati ┆ reason ┆ jumps_map   ┆ unijump │\n",
       "│ ---        ┆ ---            ┆ --- ┆ --- ┆   ┆ on                ┆ ---    ┆ ---         ┆ ---     │\n",
       "│ str        ┆ array[u8, 5]   ┆ u8  ┆ u8  ┆   ┆ ---               ┆ u8     ┆ str         ┆ i64     │\n",
       "│            ┆                ┆     ┆     ┆   ┆ bool              ┆        ┆             ┆         │\n",
       "╞════════════╪════════════════╪═════╪═════╪═══╪═══════════════════╪════════╪═════════════╪═════════╡\n",
       "│ 0102040513 ┆ [1, 2, … 13]   ┆ 1   ┆ 2   ┆ … ┆ false             ┆ 0      ┆ 01_02_01_08 ┆ 10      │\n",
       "│ 0102040523 ┆ [1, 2, … 23]   ┆ 1   ┆ 2   ┆ … ┆ false             ┆ 0      ┆ 01_02_01_18 ┆ 20      │\n",
       "│ 0102040530 ┆ [1, 2, … 30]   ┆ 1   ┆ 2   ┆ … ┆ false             ┆ 0      ┆ 01_02_01_25 ┆ 27      │\n",
       "│ 0102040531 ┆ [1, 2, … 31]   ┆ 1   ┆ 2   ┆ … ┆ false             ┆ 0      ┆ 01_02_01_26 ┆ 28      │\n",
       "│ 0102040532 ┆ [1, 2, … 32]   ┆ 1   ┆ 2   ┆ … ┆ false             ┆ 0      ┆ 01_02_01_27 ┆ 29      │\n",
       "│ …          ┆ …              ┆ …   ┆ …   ┆ … ┆ …                 ┆ …      ┆ …           ┆ …       │\n",
       "│ 2829313435 ┆ [28, 29, … 35] ┆ 28  ┆ 29  ┆ … ┆ false             ┆ 0      ┆ 01_02_03_01 ┆ -3      │\n",
       "│ 2830313334 ┆ [28, 30, … 34] ┆ 28  ┆ 30  ┆ … ┆ false             ┆ 0      ┆ 02_01_02_01 ┆ -4      │\n",
       "│ 2830313435 ┆ [28, 30, … 35] ┆ 28  ┆ 30  ┆ … ┆ false             ┆ 0      ┆ 02_01_03_01 ┆ -7      │\n",
       "│ 2831323435 ┆ [28, 31, … 35] ┆ 28  ┆ 31  ┆ … ┆ false             ┆ 0      ┆ 03_01_02_01 ┆ -5      │\n",
       "│ 2931323435 ┆ [29, 31, … 35] ┆ 29  ┆ 31  ┆ … ┆ false             ┆ 0      ┆ 02_01_02_01 ┆ -4      │\n",
       "└────────────┴────────────────┴─────┴─────┴───┴───────────────────┴────────┴─────────────┴─────────┘"
      ]
     },
     "execution_count": 18,
     "metadata": {},
     "output_type": "execute_result"
    }
   ],
   "source": [
    "df_Orows.filter(is_rare_combination=False)"
   ]
  },
  {
   "cell_type": "code",
   "execution_count": 21,
   "metadata": {},
   "outputs": [
    {
     "data": {
      "text/html": [
       "<div><style>\n",
       ".dataframe > thead > tr,\n",
       ".dataframe > tbody > tr {\n",
       "  text-align: right;\n",
       "  white-space: pre-wrap;\n",
       "}\n",
       "</style>\n",
       "<small>shape: (19_154, 18)</small><table border=\"1\" class=\"dataframe\"><thead><tr><th>id</th><th>combo</th><th>b1</th><th>b2</th><th>b3</th><th>b4</th><th>b5</th><th>str_b1</th><th>str_b2</th><th>str_b3</th><th>str_b4</th><th>str_b5</th><th>post_str_b1</th><th>post_str_blast</th><th>is_rare_combination</th><th>reason</th><th>jumps_map</th><th>unijump</th></tr><tr><td>str</td><td>array[u8, 5]</td><td>u8</td><td>u8</td><td>u8</td><td>u8</td><td>u8</td><td>str</td><td>str</td><td>str</td><td>str</td><td>str</td><td>str</td><td>str</td><td>bool</td><td>u8</td><td>str</td><td>i64</td></tr></thead><tbody><tr><td>&quot;1112141531&quot;</td><td>[11, 12, … 31]</td><td>11</td><td>12</td><td>14</td><td>15</td><td>31</td><td>&quot;11&quot;</td><td>&quot;12&quot;</td><td>&quot;14&quot;</td><td>&quot;15&quot;</td><td>&quot;31&quot;</td><td>&quot;11&quot;</td><td>&quot;30&quot;</td><td>false</td><td>0</td><td>&quot;01_02_01_16&quot;</td><td>18</td></tr><tr><td>&quot;1112141533&quot;</td><td>[11, 12, … 33]</td><td>11</td><td>12</td><td>14</td><td>15</td><td>33</td><td>&quot;11&quot;</td><td>&quot;12&quot;</td><td>&quot;14&quot;</td><td>&quot;15&quot;</td><td>&quot;33&quot;</td><td>&quot;11&quot;</td><td>&quot;32&quot;</td><td>false</td><td>0</td><td>&quot;01_02_01_18&quot;</td><td>20</td></tr><tr><td>&quot;1112141534&quot;</td><td>[11, 12, … 34]</td><td>11</td><td>12</td><td>14</td><td>15</td><td>34</td><td>&quot;11&quot;</td><td>&quot;12&quot;</td><td>&quot;14&quot;</td><td>&quot;15&quot;</td><td>&quot;34&quot;</td><td>&quot;11&quot;</td><td>&quot;33&quot;</td><td>false</td><td>0</td><td>&quot;01_02_01_19&quot;</td><td>21</td></tr><tr><td>&quot;1112141535&quot;</td><td>[11, 12, … 35]</td><td>11</td><td>12</td><td>14</td><td>15</td><td>35</td><td>&quot;11&quot;</td><td>&quot;12&quot;</td><td>&quot;14&quot;</td><td>&quot;15&quot;</td><td>&quot;35&quot;</td><td>&quot;11&quot;</td><td>&quot;34&quot;</td><td>false</td><td>0</td><td>&quot;01_02_01_20&quot;</td><td>22</td></tr><tr><td>&quot;1112141731&quot;</td><td>[11, 12, … 31]</td><td>11</td><td>12</td><td>14</td><td>17</td><td>31</td><td>&quot;11&quot;</td><td>&quot;12&quot;</td><td>&quot;14&quot;</td><td>&quot;17&quot;</td><td>&quot;31&quot;</td><td>&quot;11&quot;</td><td>&quot;30&quot;</td><td>false</td><td>0</td><td>&quot;01_02_03_14&quot;</td><td>10</td></tr><tr><td>&hellip;</td><td>&hellip;</td><td>&hellip;</td><td>&hellip;</td><td>&hellip;</td><td>&hellip;</td><td>&hellip;</td><td>&hellip;</td><td>&hellip;</td><td>&hellip;</td><td>&hellip;</td><td>&hellip;</td><td>&hellip;</td><td>&hellip;</td><td>&hellip;</td><td>&hellip;</td><td>&hellip;</td><td>&hellip;</td></tr><tr><td>&quot;1829313435&quot;</td><td>[18, 29, … 35]</td><td>18</td><td>29</td><td>31</td><td>34</td><td>35</td><td>&quot;18&quot;</td><td>&quot;29&quot;</td><td>&quot;31&quot;</td><td>&quot;34&quot;</td><td>&quot;35&quot;</td><td>&quot;18&quot;</td><td>&quot;35&quot;</td><td>false</td><td>0</td><td>&quot;11_02_03_01&quot;</td><td>-13</td></tr><tr><td>&quot;1829323335&quot;</td><td>[18, 29, … 35]</td><td>18</td><td>29</td><td>32</td><td>33</td><td>35</td><td>&quot;18&quot;</td><td>&quot;29&quot;</td><td>&quot;32&quot;</td><td>&quot;33&quot;</td><td>&quot;35&quot;</td><td>&quot;18&quot;</td><td>&quot;34&quot;</td><td>false</td><td>0</td><td>&quot;11_03_01_02&quot;</td><td>-3</td></tr><tr><td>&quot;1829323435&quot;</td><td>[18, 29, … 35]</td><td>18</td><td>29</td><td>32</td><td>34</td><td>35</td><td>&quot;18&quot;</td><td>&quot;29&quot;</td><td>&quot;32&quot;</td><td>&quot;34&quot;</td><td>&quot;35&quot;</td><td>&quot;18&quot;</td><td>&quot;35&quot;</td><td>false</td><td>0</td><td>&quot;11_03_02_01&quot;</td><td>-7</td></tr><tr><td>&quot;1830323335&quot;</td><td>[18, 30, … 35]</td><td>18</td><td>30</td><td>32</td><td>33</td><td>35</td><td>&quot;18&quot;</td><td>&quot;30&quot;</td><td>&quot;32&quot;</td><td>&quot;33&quot;</td><td>&quot;35&quot;</td><td>&quot;18&quot;</td><td>&quot;34&quot;</td><td>false</td><td>0</td><td>&quot;12_02_01_02&quot;</td><td>-7</td></tr><tr><td>&quot;1831323435&quot;</td><td>[18, 31, … 35]</td><td>18</td><td>31</td><td>32</td><td>34</td><td>35</td><td>&quot;18&quot;</td><td>&quot;31&quot;</td><td>&quot;32&quot;</td><td>&quot;34&quot;</td><td>&quot;35&quot;</td><td>&quot;18&quot;</td><td>&quot;35&quot;</td><td>false</td><td>0</td><td>&quot;13_01_02_01&quot;</td><td>-15</td></tr></tbody></table></div>"
      ],
      "text/plain": [
       "shape: (19_154, 18)\n",
       "┌────────────┬────────────────┬─────┬─────┬───┬───────────────────┬────────┬─────────────┬─────────┐\n",
       "│ id         ┆ combo          ┆ b1  ┆ b2  ┆ … ┆ is_rare_combinati ┆ reason ┆ jumps_map   ┆ unijump │\n",
       "│ ---        ┆ ---            ┆ --- ┆ --- ┆   ┆ on                ┆ ---    ┆ ---         ┆ ---     │\n",
       "│ str        ┆ array[u8, 5]   ┆ u8  ┆ u8  ┆   ┆ ---               ┆ u8     ┆ str         ┆ i64     │\n",
       "│            ┆                ┆     ┆     ┆   ┆ bool              ┆        ┆             ┆         │\n",
       "╞════════════╪════════════════╪═════╪═════╪═══╪═══════════════════╪════════╪═════════════╪═════════╡\n",
       "│ 1112141531 ┆ [11, 12, … 31] ┆ 11  ┆ 12  ┆ … ┆ false             ┆ 0      ┆ 01_02_01_16 ┆ 18      │\n",
       "│ 1112141533 ┆ [11, 12, … 33] ┆ 11  ┆ 12  ┆ … ┆ false             ┆ 0      ┆ 01_02_01_18 ┆ 20      │\n",
       "│ 1112141534 ┆ [11, 12, … 34] ┆ 11  ┆ 12  ┆ … ┆ false             ┆ 0      ┆ 01_02_01_19 ┆ 21      │\n",
       "│ 1112141535 ┆ [11, 12, … 35] ┆ 11  ┆ 12  ┆ … ┆ false             ┆ 0      ┆ 01_02_01_20 ┆ 22      │\n",
       "│ 1112141731 ┆ [11, 12, … 31] ┆ 11  ┆ 12  ┆ … ┆ false             ┆ 0      ┆ 01_02_03_14 ┆ 10      │\n",
       "│ …          ┆ …              ┆ …   ┆ …   ┆ … ┆ …                 ┆ …      ┆ …           ┆ …       │\n",
       "│ 1829313435 ┆ [18, 29, … 35] ┆ 18  ┆ 29  ┆ … ┆ false             ┆ 0      ┆ 11_02_03_01 ┆ -13     │\n",
       "│ 1829323335 ┆ [18, 29, … 35] ┆ 18  ┆ 29  ┆ … ┆ false             ┆ 0      ┆ 11_03_01_02 ┆ -3      │\n",
       "│ 1829323435 ┆ [18, 29, … 35] ┆ 18  ┆ 29  ┆ … ┆ false             ┆ 0      ┆ 11_03_02_01 ┆ -7      │\n",
       "│ 1830323335 ┆ [18, 30, … 35] ┆ 18  ┆ 30  ┆ … ┆ false             ┆ 0      ┆ 12_02_01_02 ┆ -7      │\n",
       "│ 1831323435 ┆ [18, 31, … 35] ┆ 18  ┆ 31  ┆ … ┆ false             ┆ 0      ┆ 13_01_02_01 ┆ -15     │\n",
       "└────────────┴────────────────┴─────┴─────┴───┴───────────────────┴────────┴─────────────┴─────────┘"
      ]
     },
     "execution_count": 21,
     "metadata": {},
     "output_type": "execute_result"
    }
   ],
   "source": [
    "# possible_b1, exclude_jump_maps_b1\n",
    "\n",
    "df_possible = df_Orows.filter(\n",
    "  # pl.col(\"str_b1\").is_in(possible_b1),\n",
    "  pl.col(\"str_b1\").is_in(['11', '12', '13', '14', '15', '16', '17', '18']),\n",
    "  # ~pl.col(\"str_b1\").is_in(['18', '19', '20', '21', '22', '23', '24', '26']),\n",
    "  ~pl.col(\"jumps_map\").is_in(exclude_jump_maps_b1 + exclude_jump_maps_blast),\n",
    "  pl.col(\"str_b5\").is_in(possible_blast),\n",
    "  ~pl.col(\"str_b5\").is_in(['30', '23', '32' , '27']),\n",
    "  pl.col(\"is_rare_combination\") == False\n",
    ")\n",
    "\n",
    "df_possible"
   ]
  },
  {
   "cell_type": "code",
   "execution_count": 24,
   "metadata": {},
   "outputs": [
    {
     "data": {
      "text/html": [
       "<div><style>\n",
       ".dataframe > thead > tr,\n",
       ".dataframe > tbody > tr {\n",
       "  text-align: right;\n",
       "  white-space: pre-wrap;\n",
       "}\n",
       "</style>\n",
       "<small>shape: (1, 18)</small><table border=\"1\" class=\"dataframe\"><thead><tr><th>id</th><th>combo</th><th>b1</th><th>b2</th><th>b3</th><th>b4</th><th>b5</th><th>str_b1</th><th>str_b2</th><th>str_b3</th><th>str_b4</th><th>str_b5</th><th>post_str_b1</th><th>post_str_blast</th><th>is_rare_combination</th><th>reason</th><th>jumps_map</th><th>unijump</th></tr><tr><td>str</td><td>array[u8, 5]</td><td>u8</td><td>u8</td><td>u8</td><td>u8</td><td>u8</td><td>str</td><td>str</td><td>str</td><td>str</td><td>str</td><td>str</td><td>str</td><td>bool</td><td>u8</td><td>str</td><td>i64</td></tr></thead><tbody><tr><td>&quot;1122242533&quot;</td><td>[11, 22, … 33]</td><td>11</td><td>22</td><td>24</td><td>25</td><td>33</td><td>&quot;11&quot;</td><td>&quot;22&quot;</td><td>&quot;24&quot;</td><td>&quot;25&quot;</td><td>&quot;33&quot;</td><td>&quot;11&quot;</td><td>&quot;32&quot;</td><td>false</td><td>0</td><td>&quot;11_02_01_08&quot;</td><td>0</td></tr></tbody></table></div>"
      ],
      "text/plain": [
       "shape: (1, 18)\n",
       "┌────────────┬────────────────┬─────┬─────┬───┬───────────────────┬────────┬─────────────┬─────────┐\n",
       "│ id         ┆ combo          ┆ b1  ┆ b2  ┆ … ┆ is_rare_combinati ┆ reason ┆ jumps_map   ┆ unijump │\n",
       "│ ---        ┆ ---            ┆ --- ┆ --- ┆   ┆ on                ┆ ---    ┆ ---         ┆ ---     │\n",
       "│ str        ┆ array[u8, 5]   ┆ u8  ┆ u8  ┆   ┆ ---               ┆ u8     ┆ str         ┆ i64     │\n",
       "│            ┆                ┆     ┆     ┆   ┆ bool              ┆        ┆             ┆         │\n",
       "╞════════════╪════════════════╪═════╪═════╪═══╪═══════════════════╪════════╪═════════════╪═════════╡\n",
       "│ 1122242533 ┆ [11, 22, … 33] ┆ 11  ┆ 22  ┆ … ┆ false             ┆ 0      ┆ 11_02_01_08 ┆ 0       │\n",
       "└────────────┴────────────────┴─────┴─────┴───┴───────────────────┴────────┴─────────────┴─────────┘"
      ]
     },
     "execution_count": 24,
     "metadata": {},
     "output_type": "execute_result"
    }
   ],
   "source": [
    "df_possible.sample(n=1)"
   ]
  }
 ],
 "metadata": {
  "kernelspec": {
   "display_name": ".venv",
   "language": "python",
   "name": "python3"
  },
  "language_info": {
   "codemirror_mode": {
    "name": "ipython",
    "version": 3
   },
   "file_extension": ".py",
   "mimetype": "text/x-python",
   "name": "python",
   "nbconvert_exporter": "python",
   "pygments_lexer": "ipython3",
   "version": "3.12.9"
  }
 },
 "nbformat": 4,
 "nbformat_minor": 2
}

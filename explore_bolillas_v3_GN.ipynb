{
 "cells": [
  {
   "cell_type": "code",
   "execution_count": 67,
   "metadata": {},
   "outputs": [
    {
     "data": {
      "text/html": [
       "<script type=\"esms-options\">{\"shimMode\": true}</script><style>*[data-root-id],\n",
       "*[data-root-id] > * {\n",
       "  box-sizing: border-box;\n",
       "  font-family: var(--jp-ui-font-family);\n",
       "  font-size: var(--jp-ui-font-size1);\n",
       "  color: var(--vscode-editor-foreground, var(--jp-ui-font-color1));\n",
       "}\n",
       "\n",
       "/* Override VSCode background color */\n",
       ".cell-output-ipywidget-background:has(\n",
       "    > .cell-output-ipywidget-background > .lm-Widget > *[data-root-id]\n",
       "  ),\n",
       ".cell-output-ipywidget-background:has(> .lm-Widget > *[data-root-id]) {\n",
       "  background-color: transparent !important;\n",
       "}\n",
       "</style>"
      ]
     },
     "metadata": {},
     "output_type": "display_data"
    },
    {
     "data": {
      "application/javascript": "(function(root) {\n  function now() {\n    return new Date();\n  }\n\n  const force = true;\n  const py_version = '3.7.2'.replace('rc', '-rc.').replace('.dev', '-dev.');\n  const reloading = false;\n  const Bokeh = root.Bokeh;\n\n  // Set a timeout for this load but only if we are not already initializing\n  if (typeof (root._bokeh_timeout) === \"undefined\" || (force || !root._bokeh_is_initializing)) {\n    root._bokeh_timeout = Date.now() + 5000;\n    root._bokeh_failed_load = false;\n  }\n\n  function run_callbacks() {\n    try {\n      root._bokeh_onload_callbacks.forEach(function(callback) {\n        if (callback != null)\n          callback();\n      });\n    } finally {\n      delete root._bokeh_onload_callbacks;\n    }\n    console.debug(\"Bokeh: all callbacks have finished\");\n  }\n\n  function load_libs(css_urls, js_urls, js_modules, js_exports, callback) {\n    if (css_urls == null) css_urls = [];\n    if (js_urls == null) js_urls = [];\n    if (js_modules == null) js_modules = [];\n    if (js_exports == null) js_exports = {};\n\n    root._bokeh_onload_callbacks.push(callback);\n\n    if (root._bokeh_is_loading > 0) {\n      // Don't load bokeh if it is still initializing\n      console.debug(\"Bokeh: BokehJS is being loaded, scheduling callback at\", now());\n      return null;\n    } else if (js_urls.length === 0 && js_modules.length === 0 && Object.keys(js_exports).length === 0) {\n      // There is nothing to load\n      run_callbacks();\n      return null;\n    }\n\n    function on_load() {\n      root._bokeh_is_loading--;\n      if (root._bokeh_is_loading === 0) {\n        console.debug(\"Bokeh: all BokehJS libraries/stylesheets loaded\");\n        run_callbacks()\n      }\n    }\n    window._bokeh_on_load = on_load\n\n    function on_error(e) {\n      const src_el = e.srcElement\n      console.error(\"failed to load \" + (src_el.href || src_el.src));\n    }\n\n    const skip = [];\n    if (window.requirejs) {\n      window.requirejs.config({'packages': {}, 'paths': {}, 'shim': {}});\n      root._bokeh_is_loading = css_urls.length + 0;\n    } else {\n      root._bokeh_is_loading = css_urls.length + js_urls.length + js_modules.length + Object.keys(js_exports).length;\n    }\n\n    const existing_stylesheets = []\n    const links = document.getElementsByTagName('link')\n    for (let i = 0; i < links.length; i++) {\n      const link = links[i]\n      if (link.href != null) {\n        existing_stylesheets.push(link.href)\n      }\n    }\n    for (let i = 0; i < css_urls.length; i++) {\n      const url = css_urls[i];\n      const escaped = encodeURI(url)\n      if (existing_stylesheets.indexOf(escaped) !== -1) {\n        on_load()\n        continue;\n      }\n      const element = document.createElement(\"link\");\n      element.onload = on_load;\n      element.onerror = on_error;\n      element.rel = \"stylesheet\";\n      element.type = \"text/css\";\n      element.href = url;\n      console.debug(\"Bokeh: injecting link tag for BokehJS stylesheet: \", url);\n      document.body.appendChild(element);\n    }    var existing_scripts = []\n    const scripts = document.getElementsByTagName('script')\n    for (let i = 0; i < scripts.length; i++) {\n      var script = scripts[i]\n      if (script.src != null) {\n        existing_scripts.push(script.src)\n      }\n    }\n    for (let i = 0; i < js_urls.length; i++) {\n      const url = js_urls[i];\n      const escaped = encodeURI(url)\n      if (skip.indexOf(escaped) !== -1 || existing_scripts.indexOf(escaped) !== -1) {\n        if (!window.requirejs) {\n          on_load();\n        }\n        continue;\n      }\n      const element = document.createElement('script');\n      element.onload = on_load;\n      element.onerror = on_error;\n      element.async = false;\n      element.src = url;\n      console.debug(\"Bokeh: injecting script tag for BokehJS library: \", url);\n      document.head.appendChild(element);\n    }\n    for (let i = 0; i < js_modules.length; i++) {\n      const url = js_modules[i];\n      const escaped = encodeURI(url)\n      if (skip.indexOf(escaped) !== -1 || existing_scripts.indexOf(escaped) !== -1) {\n        if (!window.requirejs) {\n          on_load();\n        }\n        continue;\n      }\n      var element = document.createElement('script');\n      element.onload = on_load;\n      element.onerror = on_error;\n      element.async = false;\n      element.src = url;\n      element.type = \"module\";\n      console.debug(\"Bokeh: injecting script tag for BokehJS library: \", url);\n      document.head.appendChild(element);\n    }\n    for (const name in js_exports) {\n      const url = js_exports[name];\n      const escaped = encodeURI(url)\n      if (skip.indexOf(escaped) >= 0 || root[name] != null) {\n        if (!window.requirejs) {\n          on_load();\n        }\n        continue;\n      }\n      var element = document.createElement('script');\n      element.onerror = on_error;\n      element.async = false;\n      element.type = \"module\";\n      console.debug(\"Bokeh: injecting script tag for BokehJS library: \", url);\n      element.textContent = `\n      import ${name} from \"${url}\"\n      window.${name} = ${name}\n      window._bokeh_on_load()\n      `\n      document.head.appendChild(element);\n    }\n    if (!js_urls.length && !js_modules.length) {\n      on_load()\n    }\n  };\n\n  function inject_raw_css(css) {\n    const element = document.createElement(\"style\");\n    element.appendChild(document.createTextNode(css));\n    document.body.appendChild(element);\n  }\n\n  const js_urls = [\"https://cdn.holoviz.org/panel/1.6.2/dist/bundled/reactiveesm/es-module-shims@^1.10.0/dist/es-module-shims.min.js\", \"https://cdn.bokeh.org/bokeh/release/bokeh-3.7.2.min.js\", \"https://cdn.bokeh.org/bokeh/release/bokeh-gl-3.7.2.min.js\", \"https://cdn.bokeh.org/bokeh/release/bokeh-widgets-3.7.2.min.js\", \"https://cdn.bokeh.org/bokeh/release/bokeh-tables-3.7.2.min.js\", \"https://cdn.holoviz.org/panel/1.6.2/dist/panel.min.js\"];\n  const js_modules = [];\n  const js_exports = {};\n  const css_urls = [];\n  const inline_js = [    function(Bokeh) {\n      Bokeh.set_log_level(\"info\");\n    },\nfunction(Bokeh) {} // ensure no trailing comma for IE\n  ];\n\n  function run_inline_js() {\n    if ((root.Bokeh !== undefined) || (force === true)) {\n      for (let i = 0; i < inline_js.length; i++) {\n        try {\n          inline_js[i].call(root, root.Bokeh);\n        } catch(e) {\n          if (!reloading) {\n            throw e;\n          }\n        }\n      }\n      // Cache old bokeh versions\n      if (Bokeh != undefined && !reloading) {\n        var NewBokeh = root.Bokeh;\n        if (Bokeh.versions === undefined) {\n          Bokeh.versions = new Map();\n        }\n        if (NewBokeh.version !== Bokeh.version) {\n          Bokeh.versions.set(NewBokeh.version, NewBokeh)\n        }\n        root.Bokeh = Bokeh;\n      }\n    } else if (Date.now() < root._bokeh_timeout) {\n      setTimeout(run_inline_js, 100);\n    } else if (!root._bokeh_failed_load) {\n      console.log(\"Bokeh: BokehJS failed to load within specified timeout.\");\n      root._bokeh_failed_load = true;\n    }\n    root._bokeh_is_initializing = false\n  }\n\n  function load_or_wait() {\n    // Implement a backoff loop that tries to ensure we do not load multiple\n    // versions of Bokeh and its dependencies at the same time.\n    // In recent versions we use the root._bokeh_is_initializing flag\n    // to determine whether there is an ongoing attempt to initialize\n    // bokeh, however for backward compatibility we also try to ensure\n    // that we do not start loading a newer (Panel>=1.0 and Bokeh>3) version\n    // before older versions are fully initialized.\n    if (root._bokeh_is_initializing && Date.now() > root._bokeh_timeout) {\n      // If the timeout and bokeh was not successfully loaded we reset\n      // everything and try loading again\n      root._bokeh_timeout = Date.now() + 5000;\n      root._bokeh_is_initializing = false;\n      root._bokeh_onload_callbacks = undefined;\n      root._bokeh_is_loading = 0\n      console.log(\"Bokeh: BokehJS was loaded multiple times but one version failed to initialize.\");\n      load_or_wait();\n    } else if (root._bokeh_is_initializing || (typeof root._bokeh_is_initializing === \"undefined\" && root._bokeh_onload_callbacks !== undefined)) {\n      setTimeout(load_or_wait, 100);\n    } else {\n      root._bokeh_is_initializing = true\n      root._bokeh_onload_callbacks = []\n      const bokeh_loaded = root.Bokeh != null && (root.Bokeh.version === py_version || (root.Bokeh.versions !== undefined && root.Bokeh.versions.has(py_version)));\n      if (!reloading && !bokeh_loaded) {\n        if (root.Bokeh) {\n          root.Bokeh = undefined;\n        }\n        console.debug(\"Bokeh: BokehJS not loaded, scheduling load and callback at\", now());\n      }\n      load_libs(css_urls, js_urls, js_modules, js_exports, function() {\n        console.debug(\"Bokeh: BokehJS plotting callback run at\", now());\n        run_inline_js();\n      });\n    }\n  }\n  // Give older versions of the autoload script a head-start to ensure\n  // they initialize before we start loading newer version.\n  setTimeout(load_or_wait, 100)\n}(window));",
      "application/vnd.holoviews_load.v0+json": ""
     },
     "metadata": {},
     "output_type": "display_data"
    },
    {
     "data": {
      "application/javascript": "\nif ((window.PyViz === undefined) || (window.PyViz instanceof HTMLElement)) {\n  window.PyViz = {comms: {}, comm_status:{}, kernels:{}, receivers: {}, plot_index: []}\n}\n\n\n    function JupyterCommManager() {\n    }\n\n    JupyterCommManager.prototype.register_target = function(plot_id, comm_id, msg_handler) {\n      if (window.comm_manager || ((window.Jupyter !== undefined) && (Jupyter.notebook.kernel != null))) {\n        var comm_manager = window.comm_manager || Jupyter.notebook.kernel.comm_manager;\n        comm_manager.register_target(comm_id, function(comm) {\n          comm.on_msg(msg_handler);\n        });\n      } else if ((plot_id in window.PyViz.kernels) && (window.PyViz.kernels[plot_id])) {\n        window.PyViz.kernels[plot_id].registerCommTarget(comm_id, function(comm) {\n          comm.onMsg = msg_handler;\n        });\n      } else if (typeof google != 'undefined' && google.colab.kernel != null) {\n        google.colab.kernel.comms.registerTarget(comm_id, (comm) => {\n          var messages = comm.messages[Symbol.asyncIterator]();\n          function processIteratorResult(result) {\n            var message = result.value;\n            console.log(message)\n            var content = {data: message.data, comm_id};\n            var buffers = []\n            for (var buffer of message.buffers || []) {\n              buffers.push(new DataView(buffer))\n            }\n            var metadata = message.metadata || {};\n            var msg = {content, buffers, metadata}\n            msg_handler(msg);\n            return messages.next().then(processIteratorResult);\n          }\n          return messages.next().then(processIteratorResult);\n        })\n      }\n    }\n\n    JupyterCommManager.prototype.get_client_comm = function(plot_id, comm_id, msg_handler) {\n      if (comm_id in window.PyViz.comms) {\n        return window.PyViz.comms[comm_id];\n      } else if (window.comm_manager || ((window.Jupyter !== undefined) && (Jupyter.notebook.kernel != null))) {\n        var comm_manager = window.comm_manager || Jupyter.notebook.kernel.comm_manager;\n        var comm = comm_manager.new_comm(comm_id, {}, {}, {}, comm_id);\n        if (msg_handler) {\n          comm.on_msg(msg_handler);\n        }\n      } else if ((plot_id in window.PyViz.kernels) && (window.PyViz.kernels[plot_id])) {\n        var comm = window.PyViz.kernels[plot_id].connectToComm(comm_id);\n        comm.open();\n        if (msg_handler) {\n          comm.onMsg = msg_handler;\n        }\n      } else if (typeof google != 'undefined' && google.colab.kernel != null) {\n        var comm_promise = google.colab.kernel.comms.open(comm_id)\n        comm_promise.then((comm) => {\n          window.PyViz.comms[comm_id] = comm;\n          if (msg_handler) {\n            var messages = comm.messages[Symbol.asyncIterator]();\n            function processIteratorResult(result) {\n              var message = result.value;\n              var content = {data: message.data};\n              var metadata = message.metadata || {comm_id};\n              var msg = {content, metadata}\n              msg_handler(msg);\n              return messages.next().then(processIteratorResult);\n            }\n            return messages.next().then(processIteratorResult);\n          }\n        })\n        var sendClosure = (data, metadata, buffers, disposeOnDone) => {\n          return comm_promise.then((comm) => {\n            comm.send(data, metadata, buffers, disposeOnDone);\n          });\n        };\n        var comm = {\n          send: sendClosure\n        };\n      }\n      window.PyViz.comms[comm_id] = comm;\n      return comm;\n    }\n    window.PyViz.comm_manager = new JupyterCommManager();\n    \n\n\nvar JS_MIME_TYPE = 'application/javascript';\nvar HTML_MIME_TYPE = 'text/html';\nvar EXEC_MIME_TYPE = 'application/vnd.holoviews_exec.v0+json';\nvar CLASS_NAME = 'output';\n\n/**\n * Render data to the DOM node\n */\nfunction render(props, node) {\n  var div = document.createElement(\"div\");\n  var script = document.createElement(\"script\");\n  node.appendChild(div);\n  node.appendChild(script);\n}\n\n/**\n * Handle when a new output is added\n */\nfunction handle_add_output(event, handle) {\n  var output_area = handle.output_area;\n  var output = handle.output;\n  if ((output.data == undefined) || (!output.data.hasOwnProperty(EXEC_MIME_TYPE))) {\n    return\n  }\n  var id = output.metadata[EXEC_MIME_TYPE][\"id\"];\n  var toinsert = output_area.element.find(\".\" + CLASS_NAME.split(' ')[0]);\n  if (id !== undefined) {\n    var nchildren = toinsert.length;\n    var html_node = toinsert[nchildren-1].children[0];\n    html_node.innerHTML = output.data[HTML_MIME_TYPE];\n    var scripts = [];\n    var nodelist = html_node.querySelectorAll(\"script\");\n    for (var i in nodelist) {\n      if (nodelist.hasOwnProperty(i)) {\n        scripts.push(nodelist[i])\n      }\n    }\n\n    scripts.forEach( function (oldScript) {\n      var newScript = document.createElement(\"script\");\n      var attrs = [];\n      var nodemap = oldScript.attributes;\n      for (var j in nodemap) {\n        if (nodemap.hasOwnProperty(j)) {\n          attrs.push(nodemap[j])\n        }\n      }\n      attrs.forEach(function(attr) { newScript.setAttribute(attr.name, attr.value) });\n      newScript.appendChild(document.createTextNode(oldScript.innerHTML));\n      oldScript.parentNode.replaceChild(newScript, oldScript);\n    });\n    if (JS_MIME_TYPE in output.data) {\n      toinsert[nchildren-1].children[1].textContent = output.data[JS_MIME_TYPE];\n    }\n    output_area._hv_plot_id = id;\n    if ((window.Bokeh !== undefined) && (id in Bokeh.index)) {\n      window.PyViz.plot_index[id] = Bokeh.index[id];\n    } else {\n      window.PyViz.plot_index[id] = null;\n    }\n  } else if (output.metadata[EXEC_MIME_TYPE][\"server_id\"] !== undefined) {\n    var bk_div = document.createElement(\"div\");\n    bk_div.innerHTML = output.data[HTML_MIME_TYPE];\n    var script_attrs = bk_div.children[0].attributes;\n    for (var i = 0; i < script_attrs.length; i++) {\n      toinsert[toinsert.length - 1].childNodes[1].setAttribute(script_attrs[i].name, script_attrs[i].value);\n    }\n    // store reference to server id on output_area\n    output_area._bokeh_server_id = output.metadata[EXEC_MIME_TYPE][\"server_id\"];\n  }\n}\n\n/**\n * Handle when an output is cleared or removed\n */\nfunction handle_clear_output(event, handle) {\n  var id = handle.cell.output_area._hv_plot_id;\n  var server_id = handle.cell.output_area._bokeh_server_id;\n  if (((id === undefined) || !(id in PyViz.plot_index)) && (server_id !== undefined)) { return; }\n  var comm = window.PyViz.comm_manager.get_client_comm(\"hv-extension-comm\", \"hv-extension-comm\", function () {});\n  if (server_id !== null) {\n    comm.send({event_type: 'server_delete', 'id': server_id});\n    return;\n  } else if (comm !== null) {\n    comm.send({event_type: 'delete', 'id': id});\n  }\n  delete PyViz.plot_index[id];\n  if ((window.Bokeh !== undefined) & (id in window.Bokeh.index)) {\n    var doc = window.Bokeh.index[id].model.document\n    doc.clear();\n    const i = window.Bokeh.documents.indexOf(doc);\n    if (i > -1) {\n      window.Bokeh.documents.splice(i, 1);\n    }\n  }\n}\n\n/**\n * Handle kernel restart event\n */\nfunction handle_kernel_cleanup(event, handle) {\n  delete PyViz.comms[\"hv-extension-comm\"];\n  window.PyViz.plot_index = {}\n}\n\n/**\n * Handle update_display_data messages\n */\nfunction handle_update_output(event, handle) {\n  handle_clear_output(event, {cell: {output_area: handle.output_area}})\n  handle_add_output(event, handle)\n}\n\nfunction register_renderer(events, OutputArea) {\n  function append_mime(data, metadata, element) {\n    // create a DOM node to render to\n    var toinsert = this.create_output_subarea(\n    metadata,\n    CLASS_NAME,\n    EXEC_MIME_TYPE\n    );\n    this.keyboard_manager.register_events(toinsert);\n    // Render to node\n    var props = {data: data, metadata: metadata[EXEC_MIME_TYPE]};\n    render(props, toinsert[0]);\n    element.append(toinsert);\n    return toinsert\n  }\n\n  events.on('output_added.OutputArea', handle_add_output);\n  events.on('output_updated.OutputArea', handle_update_output);\n  events.on('clear_output.CodeCell', handle_clear_output);\n  events.on('delete.Cell', handle_clear_output);\n  events.on('kernel_ready.Kernel', handle_kernel_cleanup);\n\n  OutputArea.prototype.register_mime_type(EXEC_MIME_TYPE, append_mime, {\n    safe: true,\n    index: 0\n  });\n}\n\nif (window.Jupyter !== undefined) {\n  try {\n    var events = require('base/js/events');\n    var OutputArea = require('notebook/js/outputarea').OutputArea;\n    if (OutputArea.prototype.mime_types().indexOf(EXEC_MIME_TYPE) == -1) {\n      register_renderer(events, OutputArea);\n    }\n  } catch(err) {\n  }\n}\n",
      "application/vnd.holoviews_load.v0+json": ""
     },
     "metadata": {},
     "output_type": "display_data"
    },
    {
     "data": {
      "application/vnd.holoviews_exec.v0+json": "",
      "text/html": [
       "<div id='32139133-550d-48f1-a9ed-9d8242c3c376'>\n",
       "  <div id=\"f8ccb54c-239c-4bd8-a5bf-27ea0241944a\" data-root-id=\"32139133-550d-48f1-a9ed-9d8242c3c376\" style=\"display: contents;\"></div>\n",
       "</div>\n",
       "<script type=\"application/javascript\">(function(root) {\n",
       "  var docs_json = {\"1a3dc724-8d91-4a66-b392-d0f3a57cfe88\":{\"version\":\"3.7.2\",\"title\":\"Bokeh Application\",\"roots\":[{\"type\":\"object\",\"name\":\"panel.models.browser.BrowserInfo\",\"id\":\"32139133-550d-48f1-a9ed-9d8242c3c376\"},{\"type\":\"object\",\"name\":\"panel.models.comm_manager.CommManager\",\"id\":\"f8c0bd96-f386-496a-8064-3d91adc13f86\",\"attributes\":{\"plot_id\":\"32139133-550d-48f1-a9ed-9d8242c3c376\",\"comm_id\":\"86863341ede041599e684652258018e1\",\"client_comm_id\":\"1139b64b52264aab964c77d24551bfa9\"}}],\"defs\":[{\"type\":\"model\",\"name\":\"ReactiveHTML1\"},{\"type\":\"model\",\"name\":\"FlexBox1\",\"properties\":[{\"name\":\"align_content\",\"kind\":\"Any\",\"default\":\"flex-start\"},{\"name\":\"align_items\",\"kind\":\"Any\",\"default\":\"flex-start\"},{\"name\":\"flex_direction\",\"kind\":\"Any\",\"default\":\"row\"},{\"name\":\"flex_wrap\",\"kind\":\"Any\",\"default\":\"wrap\"},{\"name\":\"gap\",\"kind\":\"Any\",\"default\":\"\"},{\"name\":\"justify_content\",\"kind\":\"Any\",\"default\":\"flex-start\"}]},{\"type\":\"model\",\"name\":\"FloatPanel1\",\"properties\":[{\"name\":\"config\",\"kind\":\"Any\",\"default\":{\"type\":\"map\"}},{\"name\":\"contained\",\"kind\":\"Any\",\"default\":true},{\"name\":\"position\",\"kind\":\"Any\",\"default\":\"right-top\"},{\"name\":\"offsetx\",\"kind\":\"Any\",\"default\":null},{\"name\":\"offsety\",\"kind\":\"Any\",\"default\":null},{\"name\":\"theme\",\"kind\":\"Any\",\"default\":\"primary\"},{\"name\":\"status\",\"kind\":\"Any\",\"default\":\"normalized\"}]},{\"type\":\"model\",\"name\":\"GridStack1\",\"properties\":[{\"name\":\"ncols\",\"kind\":\"Any\",\"default\":null},{\"name\":\"nrows\",\"kind\":\"Any\",\"default\":null},{\"name\":\"allow_resize\",\"kind\":\"Any\",\"default\":true},{\"name\":\"allow_drag\",\"kind\":\"Any\",\"default\":true},{\"name\":\"state\",\"kind\":\"Any\",\"default\":[]}]},{\"type\":\"model\",\"name\":\"drag1\",\"properties\":[{\"name\":\"slider_width\",\"kind\":\"Any\",\"default\":5},{\"name\":\"slider_color\",\"kind\":\"Any\",\"default\":\"black\"},{\"name\":\"value\",\"kind\":\"Any\",\"default\":50}]},{\"type\":\"model\",\"name\":\"click1\",\"properties\":[{\"name\":\"terminal_output\",\"kind\":\"Any\",\"default\":\"\"},{\"name\":\"debug_name\",\"kind\":\"Any\",\"default\":\"\"},{\"name\":\"clears\",\"kind\":\"Any\",\"default\":0}]},{\"type\":\"model\",\"name\":\"FastWrapper1\",\"properties\":[{\"name\":\"object\",\"kind\":\"Any\",\"default\":null},{\"name\":\"style\",\"kind\":\"Any\",\"default\":null}]},{\"type\":\"model\",\"name\":\"NotificationArea1\",\"properties\":[{\"name\":\"js_events\",\"kind\":\"Any\",\"default\":{\"type\":\"map\"}},{\"name\":\"max_notifications\",\"kind\":\"Any\",\"default\":5},{\"name\":\"notifications\",\"kind\":\"Any\",\"default\":[]},{\"name\":\"position\",\"kind\":\"Any\",\"default\":\"bottom-right\"},{\"name\":\"_clear\",\"kind\":\"Any\",\"default\":0},{\"name\":\"types\",\"kind\":\"Any\",\"default\":[{\"type\":\"map\",\"entries\":[[\"type\",\"warning\"],[\"background\",\"#ffc107\"],[\"icon\",{\"type\":\"map\",\"entries\":[[\"className\",\"fas fa-exclamation-triangle\"],[\"tagName\",\"i\"],[\"color\",\"white\"]]}]]},{\"type\":\"map\",\"entries\":[[\"type\",\"info\"],[\"background\",\"#007bff\"],[\"icon\",{\"type\":\"map\",\"entries\":[[\"className\",\"fas fa-info-circle\"],[\"tagName\",\"i\"],[\"color\",\"white\"]]}]]}]}]},{\"type\":\"model\",\"name\":\"Notification\",\"properties\":[{\"name\":\"background\",\"kind\":\"Any\",\"default\":null},{\"name\":\"duration\",\"kind\":\"Any\",\"default\":3000},{\"name\":\"icon\",\"kind\":\"Any\",\"default\":null},{\"name\":\"message\",\"kind\":\"Any\",\"default\":\"\"},{\"name\":\"notification_type\",\"kind\":\"Any\",\"default\":null},{\"name\":\"_rendered\",\"kind\":\"Any\",\"default\":false},{\"name\":\"_destroyed\",\"kind\":\"Any\",\"default\":false}]},{\"type\":\"model\",\"name\":\"TemplateActions1\",\"properties\":[{\"name\":\"open_modal\",\"kind\":\"Any\",\"default\":0},{\"name\":\"close_modal\",\"kind\":\"Any\",\"default\":0}]},{\"type\":\"model\",\"name\":\"BootstrapTemplateActions1\",\"properties\":[{\"name\":\"open_modal\",\"kind\":\"Any\",\"default\":0},{\"name\":\"close_modal\",\"kind\":\"Any\",\"default\":0}]},{\"type\":\"model\",\"name\":\"TemplateEditor1\",\"properties\":[{\"name\":\"layout\",\"kind\":\"Any\",\"default\":[]}]},{\"type\":\"model\",\"name\":\"MaterialTemplateActions1\",\"properties\":[{\"name\":\"open_modal\",\"kind\":\"Any\",\"default\":0},{\"name\":\"close_modal\",\"kind\":\"Any\",\"default\":0}]},{\"type\":\"model\",\"name\":\"ReactiveESM1\",\"properties\":[{\"name\":\"esm_constants\",\"kind\":\"Any\",\"default\":{\"type\":\"map\"}}]},{\"type\":\"model\",\"name\":\"JSComponent1\",\"properties\":[{\"name\":\"esm_constants\",\"kind\":\"Any\",\"default\":{\"type\":\"map\"}}]},{\"type\":\"model\",\"name\":\"ReactComponent1\",\"properties\":[{\"name\":\"esm_constants\",\"kind\":\"Any\",\"default\":{\"type\":\"map\"}}]},{\"type\":\"model\",\"name\":\"AnyWidgetComponent1\",\"properties\":[{\"name\":\"esm_constants\",\"kind\":\"Any\",\"default\":{\"type\":\"map\"}}]},{\"type\":\"model\",\"name\":\"request_value1\",\"properties\":[{\"name\":\"fill\",\"kind\":\"Any\",\"default\":\"none\"},{\"name\":\"_synced\",\"kind\":\"Any\",\"default\":null},{\"name\":\"_request_sync\",\"kind\":\"Any\",\"default\":0}]}]}};\n",
       "  var render_items = [{\"docid\":\"1a3dc724-8d91-4a66-b392-d0f3a57cfe88\",\"roots\":{\"32139133-550d-48f1-a9ed-9d8242c3c376\":\"f8ccb54c-239c-4bd8-a5bf-27ea0241944a\"},\"root_ids\":[\"32139133-550d-48f1-a9ed-9d8242c3c376\"]}];\n",
       "  var docs = Object.values(docs_json)\n",
       "  if (!docs) {\n",
       "    return\n",
       "  }\n",
       "  const py_version = docs[0].version.replace('rc', '-rc.').replace('.dev', '-dev.')\n",
       "  async function embed_document(root) {\n",
       "    var Bokeh = get_bokeh(root)\n",
       "    await Bokeh.embed.embed_items_notebook(docs_json, render_items);\n",
       "    for (const render_item of render_items) {\n",
       "      for (const root_id of render_item.root_ids) {\n",
       "\tconst id_el = document.getElementById(root_id)\n",
       "\tif (id_el.children.length && id_el.children[0].hasAttribute('data-root-id')) {\n",
       "\t  const root_el = id_el.children[0]\n",
       "\t  root_el.id = root_el.id + '-rendered'\n",
       "\t  for (const child of root_el.children) {\n",
       "            // Ensure JupyterLab does not capture keyboard shortcuts\n",
       "            // see: https://jupyterlab.readthedocs.io/en/4.1.x/extension/notebook.html#keyboard-interaction-model\n",
       "\t    child.setAttribute('data-lm-suppress-shortcuts', 'true')\n",
       "\t  }\n",
       "\t}\n",
       "      }\n",
       "    }\n",
       "  }\n",
       "  function get_bokeh(root) {\n",
       "    if (root.Bokeh === undefined) {\n",
       "      return null\n",
       "    } else if (root.Bokeh.version !== py_version) {\n",
       "      if (root.Bokeh.versions === undefined || !root.Bokeh.versions.has(py_version)) {\n",
       "\treturn null\n",
       "      }\n",
       "      return root.Bokeh.versions.get(py_version);\n",
       "    } else if (root.Bokeh.version === py_version) {\n",
       "      return root.Bokeh\n",
       "    }\n",
       "    return null\n",
       "  }\n",
       "  function is_loaded(root) {\n",
       "    var Bokeh = get_bokeh(root)\n",
       "    return (Bokeh != null && Bokeh.Panel !== undefined)\n",
       "  }\n",
       "  if (is_loaded(root)) {\n",
       "    embed_document(root);\n",
       "  } else {\n",
       "    var attempts = 0;\n",
       "    var timer = setInterval(function(root) {\n",
       "      if (is_loaded(root)) {\n",
       "        clearInterval(timer);\n",
       "        embed_document(root);\n",
       "      } else if (document.readyState == \"complete\") {\n",
       "        attempts++;\n",
       "        if (attempts > 200) {\n",
       "          clearInterval(timer);\n",
       "\t  var Bokeh = get_bokeh(root)\n",
       "\t  if (Bokeh == null || Bokeh.Panel == null) {\n",
       "            console.warn(\"Panel: ERROR: Unable to run Panel code because Bokeh or Panel library is missing\");\n",
       "\t  } else {\n",
       "\t    console.warn(\"Panel: WARNING: Attempting to render but not all required libraries could be resolved.\")\n",
       "\t    embed_document(root)\n",
       "\t  }\n",
       "        }\n",
       "      }\n",
       "    }, 25, root)\n",
       "  }\n",
       "})(window);</script>"
      ]
     },
     "metadata": {
      "application/vnd.holoviews_exec.v0+json": {
       "id": "32139133-550d-48f1-a9ed-9d8242c3c376"
      }
     },
     "output_type": "display_data"
    }
   ],
   "source": [
    "from bs4 import BeautifulSoup\n",
    "# import pandas as pd\n",
    "from datetime import datetime, timedelta\n",
    "from itertools import combinations\n",
    "import json\n",
    "import requests\n",
    "import math\n",
    "from typing import Optional, List, Dict\n",
    "\n",
    "from pydantic import BaseModel\n",
    "from typing import Mapping\n",
    "import numpy as np\n",
    "import polars as pl\n",
    "import hvplot.polars\n",
    "import pandas as pd\n",
    "import altair as alt\n",
    "import math\n",
    "\n",
    "from shared.utils import formalize_data_with_str\n",
    "from shared.random_rules import RandomRules"
   ]
  },
  {
   "cell_type": "code",
   "execution_count": 68,
   "metadata": {},
   "outputs": [],
   "source": [
    "rr = RandomRules(\n",
    "  TOTAL_NUMBERS = 35,\n",
    "  CHOOSE = 5,\n",
    "  MAX_PRIMES = 3,\n",
    "  N_VALUES=[\"1\", \"2\", \"3\"],\n",
    "  # Rangos de valores de las bolillas\n",
    "  MIN_B_VALUES = [1, 2, 3, 4, 5],\n",
    "  MAX_B_VALUES = [31, 32, 33, 34, 35]\n",
    ")"
   ]
  },
  {
   "cell_type": "code",
   "execution_count": 69,
   "metadata": {},
   "outputs": [],
   "source": [
    "url = 'https://resultados.latinka.com.pe/i.do?m=historico&t=0&s=164'\n",
    "response = requests.get(url)\n",
    "soup = BeautifulSoup(response.text, 'html.parser')\n",
    "\n",
    "tables = soup.select('table')\n",
    "rows = tables[1].find_all('tr')"
   ]
  },
  {
   "cell_type": "code",
   "execution_count": 70,
   "metadata": {},
   "outputs": [
    {
     "name": "stdout",
     "output_type": "stream",
     "text": [
      "TOTAL_LINES=7719\n"
     ]
    },
    {
     "data": {
      "text/html": [
       "<div><style>\n",
       ".dataframe > thead > tr,\n",
       ".dataframe > tbody > tr {\n",
       "  text-align: right;\n",
       "  white-space: pre-wrap;\n",
       "}\n",
       "</style>\n",
       "<small>shape: (10, 21)</small><table border=\"1\" class=\"dataframe\"><thead><tr><th>fecha</th><th>sorteo</th><th>bolillas</th><th>id</th><th>combo</th><th>b1</th><th>b2</th><th>b3</th><th>b4</th><th>b5</th><th>str_b1</th><th>str_b2</th><th>str_b3</th><th>str_b4</th><th>str_b5</th><th>post_str_b1</th><th>post_str_blast</th><th>is_rare_combination</th><th>reason</th><th>jumps_map</th><th>unijump</th></tr><tr><td>str</td><td>str</td><td>str</td><td>str</td><td>array[u8, 5]</td><td>u8</td><td>u8</td><td>u8</td><td>u8</td><td>u8</td><td>str</td><td>str</td><td>str</td><td>str</td><td>str</td><td>str</td><td>str</td><td>bool</td><td>u8</td><td>str</td><td>i64</td></tr></thead><tbody><tr><td>&quot;03/04/2025&quot;</td><td>&quot;4175&quot;</td><td>&quot;11 06 05 20 12&quot;</td><td>&quot;0506111220&quot;</td><td>[5, 6, … 20]</td><td>5</td><td>6</td><td>11</td><td>12</td><td>20</td><td>&quot;05&quot;</td><td>&quot;06&quot;</td><td>&quot;11&quot;</td><td>&quot;12&quot;</td><td>&quot;20&quot;</td><td>null</td><td>null</td><td>true</td><td>16</td><td>&quot;01_05_01_08&quot;</td><td>19</td></tr><tr><td>&quot;02/04/2025&quot;</td><td>&quot;4174&quot;</td><td>&quot;26 14 24 11 17&quot;</td><td>&quot;1114172426&quot;</td><td>[11, 14, … 26]</td><td>11</td><td>14</td><td>17</td><td>24</td><td>26</td><td>&quot;11&quot;</td><td>&quot;14&quot;</td><td>&quot;17&quot;</td><td>&quot;24&quot;</td><td>&quot;26&quot;</td><td>&quot;05&quot;</td><td>&quot;20&quot;</td><td>true</td><td>24</td><td>&quot;03_03_07_02&quot;</td><td>-13</td></tr><tr><td>&quot;01/04/2025&quot;</td><td>&quot;4173&quot;</td><td>&quot;12 25 33 13 08&quot;</td><td>&quot;0812132533&quot;</td><td>[8, 12, … 33]</td><td>8</td><td>12</td><td>13</td><td>25</td><td>33</td><td>&quot;08&quot;</td><td>&quot;12&quot;</td><td>&quot;13&quot;</td><td>&quot;25&quot;</td><td>&quot;33&quot;</td><td>&quot;11&quot;</td><td>&quot;26&quot;</td><td>false</td><td>0</td><td>&quot;04_01_12_08&quot;</td><td>-29</td></tr><tr><td>&quot;31/03/2025&quot;</td><td>&quot;4172&quot;</td><td>&quot;07 22 34 26 16&quot;</td><td>&quot;0716222634&quot;</td><td>[7, 16, … 34]</td><td>7</td><td>16</td><td>22</td><td>26</td><td>34</td><td>&quot;07&quot;</td><td>&quot;16&quot;</td><td>&quot;22&quot;</td><td>&quot;26&quot;</td><td>&quot;34&quot;</td><td>&quot;08&quot;</td><td>&quot;33&quot;</td><td>false</td><td>0</td><td>&quot;09_06_04_08&quot;</td><td>5</td></tr><tr><td>&quot;30/03/2025&quot;</td><td>&quot;4171&quot;</td><td>&quot;35 05 15 29 03&quot;</td><td>&quot;0305152935&quot;</td><td>[3, 5, … 35]</td><td>3</td><td>5</td><td>15</td><td>29</td><td>35</td><td>&quot;03&quot;</td><td>&quot;05&quot;</td><td>&quot;15&quot;</td><td>&quot;29&quot;</td><td>&quot;35&quot;</td><td>&quot;07&quot;</td><td>&quot;34&quot;</td><td>true</td><td>2</td><td>&quot;02_10_14_06&quot;</td><td>-8</td></tr><tr><td>&quot;29/03/2025&quot;</td><td>&quot;4170&quot;</td><td>&quot;23 06 04 09 10&quot;</td><td>&quot;0406091023&quot;</td><td>[4, 6, … 23]</td><td>4</td><td>6</td><td>9</td><td>10</td><td>23</td><td>&quot;04&quot;</td><td>&quot;06&quot;</td><td>&quot;09&quot;</td><td>&quot;10&quot;</td><td>&quot;23&quot;</td><td>&quot;03&quot;</td><td>&quot;35&quot;</td><td>false</td><td>0</td><td>&quot;02_03_01_13&quot;</td><td>17</td></tr><tr><td>&quot;28/03/2025&quot;</td><td>&quot;4169&quot;</td><td>&quot;20 10 01 09 29&quot;</td><td>&quot;0109102029&quot;</td><td>[1, 9, … 29]</td><td>1</td><td>9</td><td>10</td><td>20</td><td>29</td><td>&quot;01&quot;</td><td>&quot;09&quot;</td><td>&quot;10&quot;</td><td>&quot;20&quot;</td><td>&quot;29&quot;</td><td>&quot;04&quot;</td><td>&quot;23&quot;</td><td>true</td><td>16</td><td>&quot;08_01_10_09&quot;</td><td>-26</td></tr><tr><td>&quot;27/03/2025&quot;</td><td>&quot;4168&quot;</td><td>&quot;27 35 05 32 08&quot;</td><td>&quot;0508273235&quot;</td><td>[5, 8, … 35]</td><td>5</td><td>8</td><td>27</td><td>32</td><td>35</td><td>&quot;05&quot;</td><td>&quot;08&quot;</td><td>&quot;27&quot;</td><td>&quot;32&quot;</td><td>&quot;35&quot;</td><td>&quot;01&quot;</td><td>&quot;29&quot;</td><td>true</td><td>16</td><td>&quot;03_19_05_03&quot;</td><td>42</td></tr><tr><td>&quot;26/03/2025&quot;</td><td>&quot;4167&quot;</td><td>&quot;34 29 06 24 26&quot;</td><td>&quot;0624262934&quot;</td><td>[6, 24, … 34]</td><td>6</td><td>24</td><td>26</td><td>29</td><td>34</td><td>&quot;06&quot;</td><td>&quot;24&quot;</td><td>&quot;26&quot;</td><td>&quot;29&quot;</td><td>&quot;34&quot;</td><td>&quot;05&quot;</td><td>&quot;35&quot;</td><td>true</td><td>16</td><td>&quot;18_02_03_05&quot;</td><td>-16</td></tr><tr><td>&quot;25/03/2025&quot;</td><td>&quot;4166&quot;</td><td>&quot;29 06 35 22 04&quot;</td><td>&quot;0406222935&quot;</td><td>[4, 6, … 35]</td><td>4</td><td>6</td><td>22</td><td>29</td><td>35</td><td>&quot;04&quot;</td><td>&quot;06&quot;</td><td>&quot;22&quot;</td><td>&quot;29&quot;</td><td>&quot;35&quot;</td><td>&quot;06&quot;</td><td>&quot;34&quot;</td><td>true</td><td>16</td><td>&quot;02_16_07_06&quot;</td><td>31</td></tr></tbody></table></div>"
      ],
      "text/plain": [
       "shape: (10, 21)\n",
       "┌────────────┬────────┬─────────────┬────────────┬───┬─────────────┬────────┬────────────┬─────────┐\n",
       "│ fecha      ┆ sorteo ┆ bolillas    ┆ id         ┆ … ┆ is_rare_com ┆ reason ┆ jumps_map  ┆ unijump │\n",
       "│ ---        ┆ ---    ┆ ---         ┆ ---        ┆   ┆ bination    ┆ ---    ┆ ---        ┆ ---     │\n",
       "│ str        ┆ str    ┆ str         ┆ str        ┆   ┆ ---         ┆ u8     ┆ str        ┆ i64     │\n",
       "│            ┆        ┆             ┆            ┆   ┆ bool        ┆        ┆            ┆         │\n",
       "╞════════════╪════════╪═════════════╪════════════╪═══╪═════════════╪════════╪════════════╪═════════╡\n",
       "│ 03/04/2025 ┆ 4175   ┆ 11 06 05 20 ┆ 0506111220 ┆ … ┆ true        ┆ 16     ┆ 01_05_01_0 ┆ 19      │\n",
       "│            ┆        ┆ 12          ┆            ┆   ┆             ┆        ┆ 8          ┆         │\n",
       "│ 02/04/2025 ┆ 4174   ┆ 26 14 24 11 ┆ 1114172426 ┆ … ┆ true        ┆ 24     ┆ 03_03_07_0 ┆ -13     │\n",
       "│            ┆        ┆ 17          ┆            ┆   ┆             ┆        ┆ 2          ┆         │\n",
       "│ 01/04/2025 ┆ 4173   ┆ 12 25 33 13 ┆ 0812132533 ┆ … ┆ false       ┆ 0      ┆ 04_01_12_0 ┆ -29     │\n",
       "│            ┆        ┆ 08          ┆            ┆   ┆             ┆        ┆ 8          ┆         │\n",
       "│ 31/03/2025 ┆ 4172   ┆ 07 22 34 26 ┆ 0716222634 ┆ … ┆ false       ┆ 0      ┆ 09_06_04_0 ┆ 5       │\n",
       "│            ┆        ┆ 16          ┆            ┆   ┆             ┆        ┆ 8          ┆         │\n",
       "│ 30/03/2025 ┆ 4171   ┆ 35 05 15 29 ┆ 0305152935 ┆ … ┆ true        ┆ 2      ┆ 02_10_14_0 ┆ -8      │\n",
       "│            ┆        ┆ 03          ┆            ┆   ┆             ┆        ┆ 6          ┆         │\n",
       "│ 29/03/2025 ┆ 4170   ┆ 23 06 04 09 ┆ 0406091023 ┆ … ┆ false       ┆ 0      ┆ 02_03_01_1 ┆ 17      │\n",
       "│            ┆        ┆ 10          ┆            ┆   ┆             ┆        ┆ 3          ┆         │\n",
       "│ 28/03/2025 ┆ 4169   ┆ 20 10 01 09 ┆ 0109102029 ┆ … ┆ true        ┆ 16     ┆ 08_01_10_0 ┆ -26     │\n",
       "│            ┆        ┆ 29          ┆            ┆   ┆             ┆        ┆ 9          ┆         │\n",
       "│ 27/03/2025 ┆ 4168   ┆ 27 35 05 32 ┆ 0508273235 ┆ … ┆ true        ┆ 16     ┆ 03_19_05_0 ┆ 42      │\n",
       "│            ┆        ┆ 08          ┆            ┆   ┆             ┆        ┆ 3          ┆         │\n",
       "│ 26/03/2025 ┆ 4167   ┆ 34 29 06 24 ┆ 0624262934 ┆ … ┆ true        ┆ 16     ┆ 18_02_03_0 ┆ -16     │\n",
       "│            ┆        ┆ 26          ┆            ┆   ┆             ┆        ┆ 5          ┆         │\n",
       "│ 25/03/2025 ┆ 4166   ┆ 29 06 35 22 ┆ 0406222935 ┆ … ┆ true        ┆ 16     ┆ 02_16_07_0 ┆ 31      │\n",
       "│            ┆        ┆ 04          ┆            ┆   ┆             ┆        ┆ 6          ┆         │\n",
       "└────────────┴────────┴─────────────┴────────────┴───┴─────────────┴────────┴────────────┴─────────┘"
      ]
     },
     "metadata": {},
     "output_type": "display_data"
    }
   ],
   "source": [
    "lst = []\n",
    "post_str_b1 = None\n",
    "post_str_blast = None\n",
    "for row in rows:\n",
    "  cols = [data.text.strip() for data in row.find_all('td')]\n",
    "  \n",
    "  id, bolillas_int, str_combo = formalize_data_with_str(bolillas_str=cols[2])\n",
    "  cols.append(id)\n",
    "  cols.append(bolillas_int)\n",
    "  cols.extend([b for b in bolillas_int])\n",
    "  cols.extend(str_combo)\n",
    "  cols.append(post_str_b1)\n",
    "  cols.append(post_str_blast)\n",
    "\n",
    "  is_rare, reason = rr.is_rare_combination(bolillas_int, id)\n",
    "  cols.append(is_rare)\n",
    "  cols.append(reason)\n",
    "\n",
    "  cols.append(rr.jumps_map(bolillas_int))\n",
    "  cols.append(rr.unijump(bolillas_int))\n",
    "  \n",
    "  lst.append(cols)\n",
    "\n",
    "  post_str_b1 = str_combo[0]\n",
    "  post_str_blast = str_combo[-1]\n",
    "\n",
    "with open('./gn_cahe_v3.json', 'w') as file: \n",
    "  json.dump(lst, file)\n",
    "\n",
    "dfRows = pl.DataFrame(\n",
    "  lst,\n",
    "  schema=[\n",
    "    'fecha', 'sorteo', 'bolillas',\n",
    "    'id', 'combo', 'b1', 'b2', 'b3', 'b4', 'b5',\n",
    "    'str_b1', 'str_b2', 'str_b3', 'str_b4', 'str_b5',\n",
    "    'post_str_b1', 'post_str_blast',\n",
    "    'is_rare_combination', 'reason',\n",
    "    \"jumps_map\", \"unijump\"\n",
    "  ],\n",
    "  schema_overrides={\n",
    "    'combo': pl.Array(pl.UInt8, 5),\n",
    "    'b1': pl.UInt8,\n",
    "    'b2': pl.UInt8,\n",
    "    'b3': pl.UInt8,\n",
    "    'b4': pl.UInt8,\n",
    "    'b5': pl.UInt8,\n",
    "    'b6': pl.UInt8,\n",
    "    'reason': pl.UInt8\n",
    "  },\n",
    "  orient='row'\n",
    ")\n",
    "\n",
    "TOTAL_LINES = len(dfRows)\n",
    "print(f'{TOTAL_LINES=}')\n",
    "display(dfRows.head(10))"
   ]
  },
  {
   "cell_type": "code",
   "execution_count": null,
   "metadata": {},
   "outputs": [],
   "source": [
    "import holoviews as hv\n",
    "def plot_post_col (col: str, post_col: str, test_value: str):\n",
    "  df_viz = dfRows \\\n",
    "    .filter(\n",
    "      pl.col(col) == test_value,\n",
    "      pl.col(post_col).is_not_null()\n",
    "    ) \\\n",
    "    .group_by(\n",
    "      post_col\n",
    "    ).agg(pl.count(post_col).alias('count')) \\\n",
    "    .sort(\"count\", descending=True)\n",
    "  \n",
    "  \n",
    "  df_10_last = dfRows \\\n",
    "    .filter(\n",
    "      pl.col(col) == test_value,\n",
    "      pl.col(post_col).is_not_null()\n",
    "    ) \\\n",
    "    .head(10)\n",
    "  \n",
    "  # Agrega una columna que sea el porcentaje de la frecuencia relativa\n",
    "  total = df_viz['count'].sum()\n",
    "  df_viz = df_viz.with_columns(\n",
    "    ( (pl.col('count') / total) * 100 ).alias('percent')\n",
    "  )\n",
    "  mean_percent = df_viz['percent'].mean()\n",
    "\n",
    "  chart = df_viz.hvplot.bar(\n",
    "    x=post_col,\n",
    "    y='percent'\n",
    "  )\n",
    "\n",
    "  chart = chart * hv.HLine(mean_percent).opts(color='red')\n",
    "  chart.opts(default_tools=[\"pan\"])\n",
    "\n",
    "  df_jumps_map = dfRows \\\n",
    "    .filter(\n",
    "      pl.col(col) == test_value,\n",
    "      pl.col(post_col).is_not_null()\n",
    "    ) \\\n",
    "    .group_by(\n",
    "      'jumps_map'\n",
    "    ).agg(pl.count('jumps_map').alias('count')) \\\n",
    "    .sort(\"count\", descending=True)\n",
    "  \n",
    "  # chart_unijump = df_jumps_map.hvplot.bar(\n",
    "  #   x='jumps_map',\n",
    "  #   y='count'\n",
    "  # )\n",
    "\n",
    "  display(df_viz)\n",
    "  display(chart)\n",
    "  display(df_10_last)\n",
    "  display(df_jumps_map)\n",
    "\n",
    "  lst_post_str_b = df_viz.filter(pl.col('percent') >= mean_percent)[post_col].to_list()\n",
    "  lst_jumps_map = df_jumps_map['jumps_map'].to_list()\n",
    "  return lst_post_str_b, lst_jumps_map"
   ]
  },
  {
   "cell_type": "code",
   "execution_count": 72,
   "metadata": {},
   "outputs": [
    {
     "data": {
      "text/html": [
       "<div><style>\n",
       ".dataframe > thead > tr,\n",
       ".dataframe > tbody > tr {\n",
       "  text-align: right;\n",
       "  white-space: pre-wrap;\n",
       "}\n",
       "</style>\n",
       "<small>shape: (26, 3)</small><table border=\"1\" class=\"dataframe\"><thead><tr><th>post_str_b1</th><th>count</th><th>percent</th></tr><tr><td>str</td><td>u32</td><td>f64</td></tr></thead><tbody><tr><td>&quot;02&quot;</td><td>90</td><td>13.353116</td></tr><tr><td>&quot;01&quot;</td><td>89</td><td>13.204748</td></tr><tr><td>&quot;03&quot;</td><td>70</td><td>10.385757</td></tr><tr><td>&quot;05&quot;</td><td>68</td><td>10.089021</td></tr><tr><td>&quot;04&quot;</td><td>63</td><td>9.347181</td></tr><tr><td>&hellip;</td><td>&hellip;</td><td>&hellip;</td></tr><tr><td>&quot;19&quot;</td><td>1</td><td>0.148368</td></tr><tr><td>&quot;28&quot;</td><td>1</td><td>0.148368</td></tr><tr><td>&quot;22&quot;</td><td>1</td><td>0.148368</td></tr><tr><td>&quot;23&quot;</td><td>1</td><td>0.148368</td></tr><tr><td>&quot;17&quot;</td><td>1</td><td>0.148368</td></tr></tbody></table></div>"
      ],
      "text/plain": [
       "shape: (26, 3)\n",
       "┌─────────────┬───────┬───────────┐\n",
       "│ post_str_b1 ┆ count ┆ percent   │\n",
       "│ ---         ┆ ---   ┆ ---       │\n",
       "│ str         ┆ u32   ┆ f64       │\n",
       "╞═════════════╪═══════╪═══════════╡\n",
       "│ 02          ┆ 90    ┆ 13.353116 │\n",
       "│ 01          ┆ 89    ┆ 13.204748 │\n",
       "│ 03          ┆ 70    ┆ 10.385757 │\n",
       "│ 05          ┆ 68    ┆ 10.089021 │\n",
       "│ 04          ┆ 63    ┆ 9.347181  │\n",
       "│ …           ┆ …     ┆ …         │\n",
       "│ 19          ┆ 1     ┆ 0.148368  │\n",
       "│ 28          ┆ 1     ┆ 0.148368  │\n",
       "│ 22          ┆ 1     ┆ 0.148368  │\n",
       "│ 23          ┆ 1     ┆ 0.148368  │\n",
       "│ 17          ┆ 1     ┆ 0.148368  │\n",
       "└─────────────┴───────┴───────────┘"
      ]
     },
     "metadata": {},
     "output_type": "display_data"
    },
    {
     "data": {},
     "metadata": {},
     "output_type": "display_data"
    },
    {
     "data": {
      "application/vnd.holoviews_exec.v0+json": "",
      "text/html": [
       "<div id='9351171b-24a0-432b-83f8-e2392862e4a2'>\n",
       "  <div id=\"b8e375ed-1ffe-4399-a3db-18eba00434eb\" data-root-id=\"9351171b-24a0-432b-83f8-e2392862e4a2\" style=\"display: contents;\"></div>\n",
       "</div>\n",
       "<script type=\"application/javascript\">(function(root) {\n",
       "  var docs_json = {\"f0a41c7d-c6f5-4252-8c27-3728fca0b37c\":{\"version\":\"3.7.2\",\"title\":\"Bokeh Application\",\"roots\":[{\"type\":\"object\",\"name\":\"Row\",\"id\":\"9351171b-24a0-432b-83f8-e2392862e4a2\",\"attributes\":{\"name\":\"Row01436\",\"tags\":[\"embedded\"],\"stylesheets\":[\"\\n:host(.pn-loading):before, .pn-loading:before {\\n  background-color: #c3c3c3;\\n  mask-size: auto calc(min(50%, 400px));\\n  -webkit-mask-size: auto calc(min(50%, 400px));\\n}\",{\"type\":\"object\",\"name\":\"ImportedStyleSheet\",\"id\":\"2f332289-fc95-4f8c-af96-638d59eda3c9\",\"attributes\":{\"url\":\"https://cdn.holoviz.org/panel/1.6.2/dist/css/loading.css\"}},{\"type\":\"object\",\"name\":\"ImportedStyleSheet\",\"id\":\"dfc55e6e-1ba6-4dec-af0f-6a3ac03ea899\",\"attributes\":{\"url\":\"https://cdn.holoviz.org/panel/1.6.2/dist/css/listpanel.css\"}},{\"type\":\"object\",\"name\":\"ImportedStyleSheet\",\"id\":\"aae5bbaf-d77f-4494-9b66-692537686f89\",\"attributes\":{\"url\":\"https://cdn.holoviz.org/panel/1.6.2/dist/bundled/theme/default.css\"}},{\"type\":\"object\",\"name\":\"ImportedStyleSheet\",\"id\":\"db768abf-b8a1-4cfb-97f0-164c0f320daf\",\"attributes\":{\"url\":\"https://cdn.holoviz.org/panel/1.6.2/dist/bundled/theme/native.css\"}}],\"min_width\":700,\"margin\":0,\"sizing_mode\":\"stretch_width\",\"align\":\"start\",\"children\":[{\"type\":\"object\",\"name\":\"Spacer\",\"id\":\"1abcebf1-605e-478b-b1b4-9e3a325ae67b\",\"attributes\":{\"name\":\"HSpacer01440\",\"stylesheets\":[\"\\n:host(.pn-loading):before, .pn-loading:before {\\n  background-color: #c3c3c3;\\n  mask-size: auto calc(min(50%, 400px));\\n  -webkit-mask-size: auto calc(min(50%, 400px));\\n}\",{\"id\":\"2f332289-fc95-4f8c-af96-638d59eda3c9\"},{\"id\":\"aae5bbaf-d77f-4494-9b66-692537686f89\"},{\"id\":\"db768abf-b8a1-4cfb-97f0-164c0f320daf\"}],\"margin\":0,\"sizing_mode\":\"stretch_width\",\"align\":\"start\"}},{\"type\":\"object\",\"name\":\"Figure\",\"id\":\"00eb71b6-91b4-4d94-9f04-b5e6214a22eb\",\"attributes\":{\"width\":700,\"height\":300,\"margin\":[5,10],\"sizing_mode\":\"fixed\",\"align\":\"start\",\"x_range\":{\"type\":\"object\",\"name\":\"FactorRange\",\"id\":\"2a3bdb5f-7e19-4fc5-9a09-06e05bc08227\",\"attributes\":{\"name\":\"post_str_b1\",\"tags\":[[[\"post_str_b1\",null]],[]],\"factors\":[\"02\",\"01\",\"03\",\"05\",\"04\",\"06\",\"07\",\"09\",\"08\",\"10\",\"11\",\"14\",\"13\",\"12\",\"15\",\"16\",\"18\",\"20\",\"21\",\"24\",\"25\",\"19\",\"28\",\"22\",\"23\",\"17\"]}},\"y_range\":{\"type\":\"object\",\"name\":\"Range1d\",\"id\":\"a3ac53bb-3be5-43ca-9e49-a8c0850d1b0d\",\"attributes\":{\"name\":\"percent\",\"tags\":[[[\"percent\",null]],{\"type\":\"map\",\"entries\":[[\"invert_yaxis\",false],[\"autorange\",false]]}],\"end\":14.673590504451038,\"reset_start\":0.0,\"reset_end\":14.673590504451038}},\"x_scale\":{\"type\":\"object\",\"name\":\"CategoricalScale\",\"id\":\"4cc89168-dcf5-40b9-8a87-52387cc9bf21\"},\"y_scale\":{\"type\":\"object\",\"name\":\"LinearScale\",\"id\":\"f3ae198a-0496-4d26-8549-df25af99215a\"},\"title\":{\"type\":\"object\",\"name\":\"Title\",\"id\":\"1e65ef10-f03a-4acd-8e10-3a5f4918a387\",\"attributes\":{\"text_color\":\"black\",\"text_font_size\":\"12pt\"}},\"renderers\":[{\"type\":\"object\",\"name\":\"GlyphRenderer\",\"id\":\"7221daf0-ef86-4d97-b299-d979c9abbe79\",\"attributes\":{\"data_source\":{\"type\":\"object\",\"name\":\"ColumnDataSource\",\"id\":\"0f151361-94f8-4c9b-8383-012ad2c0b4bd\",\"attributes\":{\"selected\":{\"type\":\"object\",\"name\":\"Selection\",\"id\":\"5115a8fd-fee7-4ef5-bb4c-f7897c295af4\",\"attributes\":{\"indices\":[],\"line_indices\":[]}},\"selection_policy\":{\"type\":\"object\",\"name\":\"UnionRenderers\",\"id\":\"ba34a2e0-dc4a-40e5-98a2-7064fe39cd76\"},\"data\":{\"type\":\"map\",\"entries\":[[\"post_str_b1\",[\"02\",\"01\",\"03\",\"05\",\"04\",\"06\",\"07\",\"09\",\"08\",\"10\",\"11\",\"14\",\"13\",\"12\",\"15\",\"16\",\"18\",\"20\",\"21\",\"24\",\"25\",\"19\",\"28\",\"22\",\"23\",\"17\"]],[\"percent\",{\"type\":\"ndarray\",\"array\":{\"type\":\"bytes\",\"data\":\"rVymlcu0KkCbpUaz1GgqQDIPLOaBxSRAC6FsIZQtJECtDY61wbEiQNPKZVq5TBtAfeuqb131FUAyDyzmgcUUQAuhbCGULRRAdOhuDt3NEUDTymVauUwLQFd966pvXQVAwMTtl7j9AkAoDPCEAZ4AQPA16b0mvfc/8DXpvSa99z8oDPCEAZ7wP/A16b0mvec/wMTtl7j90j/AxO2XuP3CP8DE7Ze4/cI/wMTtl7j9wj/AxO2XuP3CP8DE7Ze4/cI/wMTtl7j9wj/AxO2XuP3CPw==\"},\"shape\":[26],\"dtype\":\"float64\",\"order\":\"little\"}]]}}},\"view\":{\"type\":\"object\",\"name\":\"CDSView\",\"id\":\"5cd6c276-5ffc-4b3f-ace4-789775159a7b\",\"attributes\":{\"filter\":{\"type\":\"object\",\"name\":\"AllIndices\",\"id\":\"af24d685-d58f-4534-ad26-9186c86ed0e8\"}}},\"glyph\":{\"type\":\"object\",\"name\":\"VBar\",\"id\":\"6cb57859-3e72-4054-a3a8-6b04d93ee9ee\",\"attributes\":{\"tags\":[\"apply_ranges\"],\"x\":{\"type\":\"field\",\"field\":\"post_str_b1\"},\"width\":{\"type\":\"value\",\"value\":0.8},\"top\":{\"type\":\"field\",\"field\":\"percent\"},\"fill_color\":{\"type\":\"value\",\"value\":\"#30a2da\"},\"hatch_color\":{\"type\":\"value\",\"value\":\"#30a2da\"}}},\"selection_glyph\":{\"type\":\"object\",\"name\":\"VBar\",\"id\":\"f92925f9-2a02-4a6f-a8f3-8c429b40c049\",\"attributes\":{\"tags\":[\"apply_ranges\"],\"x\":{\"type\":\"field\",\"field\":\"post_str_b1\"},\"width\":{\"type\":\"value\",\"value\":0.8},\"bottom\":{\"type\":\"value\",\"value\":0},\"top\":{\"type\":\"field\",\"field\":\"percent\"},\"line_color\":{\"type\":\"value\",\"value\":\"black\"},\"line_alpha\":{\"type\":\"value\",\"value\":1.0},\"line_width\":{\"type\":\"value\",\"value\":1},\"line_join\":{\"type\":\"value\",\"value\":\"bevel\"},\"line_cap\":{\"type\":\"value\",\"value\":\"butt\"},\"line_dash\":{\"type\":\"value\",\"value\":[]},\"line_dash_offset\":{\"type\":\"value\",\"value\":0},\"fill_color\":{\"type\":\"value\",\"value\":\"#30a2da\"},\"fill_alpha\":{\"type\":\"value\",\"value\":1.0},\"hatch_color\":{\"type\":\"value\",\"value\":\"#30a2da\"},\"hatch_alpha\":{\"type\":\"value\",\"value\":1.0},\"hatch_scale\":{\"type\":\"value\",\"value\":12.0},\"hatch_pattern\":{\"type\":\"value\",\"value\":null},\"hatch_weight\":{\"type\":\"value\",\"value\":1.0}}},\"nonselection_glyph\":{\"type\":\"object\",\"name\":\"VBar\",\"id\":\"101c9d2e-eaf8-4d69-a512-922d3aa859d6\",\"attributes\":{\"tags\":[\"apply_ranges\"],\"x\":{\"type\":\"field\",\"field\":\"post_str_b1\"},\"width\":{\"type\":\"value\",\"value\":0.8},\"top\":{\"type\":\"field\",\"field\":\"percent\"},\"line_alpha\":{\"type\":\"value\",\"value\":0.1},\"fill_color\":{\"type\":\"value\",\"value\":\"#30a2da\"},\"fill_alpha\":{\"type\":\"value\",\"value\":0.1},\"hatch_color\":{\"type\":\"value\",\"value\":\"#30a2da\"},\"hatch_alpha\":{\"type\":\"value\",\"value\":0.1}}},\"muted_glyph\":{\"type\":\"object\",\"name\":\"VBar\",\"id\":\"8be9513d-e59b-4372-9e99-1eb422a1a6fe\",\"attributes\":{\"tags\":[\"apply_ranges\"],\"x\":{\"type\":\"field\",\"field\":\"post_str_b1\"},\"width\":{\"type\":\"value\",\"value\":0.8},\"top\":{\"type\":\"field\",\"field\":\"percent\"},\"line_alpha\":{\"type\":\"value\",\"value\":0.2},\"fill_color\":{\"type\":\"value\",\"value\":\"#30a2da\"},\"fill_alpha\":{\"type\":\"value\",\"value\":0.2},\"hatch_color\":{\"type\":\"value\",\"value\":\"#30a2da\"},\"hatch_alpha\":{\"type\":\"value\",\"value\":0.2}}}}},{\"type\":\"object\",\"name\":\"Span\",\"id\":\"21a99d0f-6080-45c9-ae08-9030fe95c898\",\"attributes\":{\"level\":\"glyph\",\"location\":3.846153846153846,\"line_color\":\"red\",\"line_width\":3}}],\"toolbar\":{\"type\":\"object\",\"name\":\"Toolbar\",\"id\":\"1e35390a-b4de-4c90-b61d-78ac8f172a2a\",\"attributes\":{\"tools\":[{\"type\":\"object\",\"name\":\"WheelZoomTool\",\"id\":\"fc9ba59c-c491-4846-b908-45f100f3c794\",\"attributes\":{\"tags\":[\"hv_created\"],\"renderers\":\"auto\",\"zoom_together\":\"none\"}},{\"type\":\"object\",\"name\":\"HoverTool\",\"id\":\"c72ccb15-1449-4a8c-ab48-d1a9f245cd53\",\"attributes\":{\"tags\":[\"hv_created\"],\"renderers\":[{\"id\":\"7221daf0-ef86-4d97-b299-d979c9abbe79\"}],\"tooltips\":[[\"post_str_b1\",\"@{post_str_b1}\"],[\"percent\",\"@{percent}\"]]}},{\"type\":\"object\",\"name\":\"SaveTool\",\"id\":\"5c545e00-94ea-47a3-ab23-d5398e8168fd\"},{\"type\":\"object\",\"name\":\"PanTool\",\"id\":\"a426928b-af85-4d98-8b90-b1248da1c363\"},{\"type\":\"object\",\"name\":\"BoxZoomTool\",\"id\":\"91488dfc-8eed-4e43-8072-de7623b6bab2\",\"attributes\":{\"dimensions\":\"both\",\"overlay\":{\"type\":\"object\",\"name\":\"BoxAnnotation\",\"id\":\"c3d40dcc-7f20-4352-82e5-eb133a1c54a4\",\"attributes\":{\"syncable\":false,\"line_color\":\"black\",\"line_alpha\":1.0,\"line_width\":2,\"line_dash\":[4,4],\"fill_color\":\"lightgrey\",\"fill_alpha\":0.5,\"level\":\"overlay\",\"visible\":false,\"left\":{\"type\":\"number\",\"value\":\"nan\"},\"right\":{\"type\":\"number\",\"value\":\"nan\"},\"top\":{\"type\":\"number\",\"value\":\"nan\"},\"bottom\":{\"type\":\"number\",\"value\":\"nan\"},\"left_units\":\"canvas\",\"right_units\":\"canvas\",\"top_units\":\"canvas\",\"bottom_units\":\"canvas\",\"handles\":{\"type\":\"object\",\"name\":\"BoxInteractionHandles\",\"id\":\"2f877ffc-bf71-4b69-8ea9-76490fe596af\",\"attributes\":{\"all\":{\"type\":\"object\",\"name\":\"AreaVisuals\",\"id\":\"30151024-c179-497f-926d-82b589239b19\",\"attributes\":{\"fill_color\":\"white\",\"hover_fill_color\":\"lightgray\"}}}}}}}},{\"type\":\"object\",\"name\":\"ResetTool\",\"id\":\"cbc47a55-1c2d-4e77-bef7-bbb122187469\"}],\"active_drag\":{\"id\":\"a426928b-af85-4d98-8b90-b1248da1c363\"}}},\"left\":[{\"type\":\"object\",\"name\":\"LinearAxis\",\"id\":\"e5296098-94b7-445c-8575-1393b1f69229\",\"attributes\":{\"ticker\":{\"type\":\"object\",\"name\":\"BasicTicker\",\"id\":\"5b545065-86bd-4ae8-929e-1d4fdf0d3b85\",\"attributes\":{\"mantissas\":[1,2,5]}},\"formatter\":{\"type\":\"object\",\"name\":\"BasicTickFormatter\",\"id\":\"7152e4ea-5b70-4f4f-ac9f-d9a14c5b3d31\"},\"axis_label\":\"percent\",\"major_label_policy\":{\"type\":\"object\",\"name\":\"AllLabels\",\"id\":\"fb7a2508-4bda-466e-87c5-190c57b20e29\"}}}],\"below\":[{\"type\":\"object\",\"name\":\"CategoricalAxis\",\"id\":\"4c88781c-a73a-4784-90c5-95c333366c26\",\"attributes\":{\"ticker\":{\"type\":\"object\",\"name\":\"CategoricalTicker\",\"id\":\"af354be3-facc-4a58-876c-180c058ceb09\"},\"formatter\":{\"type\":\"object\",\"name\":\"CategoricalTickFormatter\",\"id\":\"bd1caa0c-3f93-474f-8eb8-d4bb3e372428\"},\"axis_label\":\"post_str_b1\",\"major_label_policy\":{\"type\":\"object\",\"name\":\"AllLabels\",\"id\":\"6a48d282-f541-4eb4-b363-f33a86a51371\"}}}],\"center\":[{\"type\":\"object\",\"name\":\"Grid\",\"id\":\"a11f4a03-b0b5-46ec-a4fa-6dece52927cd\",\"attributes\":{\"axis\":{\"id\":\"4c88781c-a73a-4784-90c5-95c333366c26\"},\"grid_line_color\":null}},{\"type\":\"object\",\"name\":\"Grid\",\"id\":\"de08d283-d059-4a8e-9b57-a2dd0506c467\",\"attributes\":{\"dimension\":1,\"axis\":{\"id\":\"e5296098-94b7-445c-8575-1393b1f69229\"},\"grid_line_color\":null}}],\"min_border_top\":10,\"min_border_bottom\":10,\"min_border_left\":10,\"min_border_right\":10,\"output_backend\":\"webgl\"}},{\"type\":\"object\",\"name\":\"Spacer\",\"id\":\"2419f0a2-30f8-477c-8999-e2dccf509f30\",\"attributes\":{\"name\":\"HSpacer01441\",\"stylesheets\":[\"\\n:host(.pn-loading):before, .pn-loading:before {\\n  background-color: #c3c3c3;\\n  mask-size: auto calc(min(50%, 400px));\\n  -webkit-mask-size: auto calc(min(50%, 400px));\\n}\",{\"id\":\"2f332289-fc95-4f8c-af96-638d59eda3c9\"},{\"id\":\"aae5bbaf-d77f-4494-9b66-692537686f89\"},{\"id\":\"db768abf-b8a1-4cfb-97f0-164c0f320daf\"}],\"margin\":0,\"sizing_mode\":\"stretch_width\",\"align\":\"start\"}}]}}],\"defs\":[{\"type\":\"model\",\"name\":\"ReactiveHTML1\"},{\"type\":\"model\",\"name\":\"FlexBox1\",\"properties\":[{\"name\":\"align_content\",\"kind\":\"Any\",\"default\":\"flex-start\"},{\"name\":\"align_items\",\"kind\":\"Any\",\"default\":\"flex-start\"},{\"name\":\"flex_direction\",\"kind\":\"Any\",\"default\":\"row\"},{\"name\":\"flex_wrap\",\"kind\":\"Any\",\"default\":\"wrap\"},{\"name\":\"gap\",\"kind\":\"Any\",\"default\":\"\"},{\"name\":\"justify_content\",\"kind\":\"Any\",\"default\":\"flex-start\"}]},{\"type\":\"model\",\"name\":\"FloatPanel1\",\"properties\":[{\"name\":\"config\",\"kind\":\"Any\",\"default\":{\"type\":\"map\"}},{\"name\":\"contained\",\"kind\":\"Any\",\"default\":true},{\"name\":\"position\",\"kind\":\"Any\",\"default\":\"right-top\"},{\"name\":\"offsetx\",\"kind\":\"Any\",\"default\":null},{\"name\":\"offsety\",\"kind\":\"Any\",\"default\":null},{\"name\":\"theme\",\"kind\":\"Any\",\"default\":\"primary\"},{\"name\":\"status\",\"kind\":\"Any\",\"default\":\"normalized\"}]},{\"type\":\"model\",\"name\":\"GridStack1\",\"properties\":[{\"name\":\"ncols\",\"kind\":\"Any\",\"default\":null},{\"name\":\"nrows\",\"kind\":\"Any\",\"default\":null},{\"name\":\"allow_resize\",\"kind\":\"Any\",\"default\":true},{\"name\":\"allow_drag\",\"kind\":\"Any\",\"default\":true},{\"name\":\"state\",\"kind\":\"Any\",\"default\":[]}]},{\"type\":\"model\",\"name\":\"drag1\",\"properties\":[{\"name\":\"slider_width\",\"kind\":\"Any\",\"default\":5},{\"name\":\"slider_color\",\"kind\":\"Any\",\"default\":\"black\"},{\"name\":\"value\",\"kind\":\"Any\",\"default\":50}]},{\"type\":\"model\",\"name\":\"click1\",\"properties\":[{\"name\":\"terminal_output\",\"kind\":\"Any\",\"default\":\"\"},{\"name\":\"debug_name\",\"kind\":\"Any\",\"default\":\"\"},{\"name\":\"clears\",\"kind\":\"Any\",\"default\":0}]},{\"type\":\"model\",\"name\":\"FastWrapper1\",\"properties\":[{\"name\":\"object\",\"kind\":\"Any\",\"default\":null},{\"name\":\"style\",\"kind\":\"Any\",\"default\":null}]},{\"type\":\"model\",\"name\":\"NotificationArea1\",\"properties\":[{\"name\":\"js_events\",\"kind\":\"Any\",\"default\":{\"type\":\"map\"}},{\"name\":\"max_notifications\",\"kind\":\"Any\",\"default\":5},{\"name\":\"notifications\",\"kind\":\"Any\",\"default\":[]},{\"name\":\"position\",\"kind\":\"Any\",\"default\":\"bottom-right\"},{\"name\":\"_clear\",\"kind\":\"Any\",\"default\":0},{\"name\":\"types\",\"kind\":\"Any\",\"default\":[{\"type\":\"map\",\"entries\":[[\"type\",\"warning\"],[\"background\",\"#ffc107\"],[\"icon\",{\"type\":\"map\",\"entries\":[[\"className\",\"fas fa-exclamation-triangle\"],[\"tagName\",\"i\"],[\"color\",\"white\"]]}]]},{\"type\":\"map\",\"entries\":[[\"type\",\"info\"],[\"background\",\"#007bff\"],[\"icon\",{\"type\":\"map\",\"entries\":[[\"className\",\"fas fa-info-circle\"],[\"tagName\",\"i\"],[\"color\",\"white\"]]}]]}]}]},{\"type\":\"model\",\"name\":\"Notification\",\"properties\":[{\"name\":\"background\",\"kind\":\"Any\",\"default\":null},{\"name\":\"duration\",\"kind\":\"Any\",\"default\":3000},{\"name\":\"icon\",\"kind\":\"Any\",\"default\":null},{\"name\":\"message\",\"kind\":\"Any\",\"default\":\"\"},{\"name\":\"notification_type\",\"kind\":\"Any\",\"default\":null},{\"name\":\"_rendered\",\"kind\":\"Any\",\"default\":false},{\"name\":\"_destroyed\",\"kind\":\"Any\",\"default\":false}]},{\"type\":\"model\",\"name\":\"TemplateActions1\",\"properties\":[{\"name\":\"open_modal\",\"kind\":\"Any\",\"default\":0},{\"name\":\"close_modal\",\"kind\":\"Any\",\"default\":0}]},{\"type\":\"model\",\"name\":\"BootstrapTemplateActions1\",\"properties\":[{\"name\":\"open_modal\",\"kind\":\"Any\",\"default\":0},{\"name\":\"close_modal\",\"kind\":\"Any\",\"default\":0}]},{\"type\":\"model\",\"name\":\"TemplateEditor1\",\"properties\":[{\"name\":\"layout\",\"kind\":\"Any\",\"default\":[]}]},{\"type\":\"model\",\"name\":\"MaterialTemplateActions1\",\"properties\":[{\"name\":\"open_modal\",\"kind\":\"Any\",\"default\":0},{\"name\":\"close_modal\",\"kind\":\"Any\",\"default\":0}]},{\"type\":\"model\",\"name\":\"ReactiveESM1\",\"properties\":[{\"name\":\"esm_constants\",\"kind\":\"Any\",\"default\":{\"type\":\"map\"}}]},{\"type\":\"model\",\"name\":\"JSComponent1\",\"properties\":[{\"name\":\"esm_constants\",\"kind\":\"Any\",\"default\":{\"type\":\"map\"}}]},{\"type\":\"model\",\"name\":\"ReactComponent1\",\"properties\":[{\"name\":\"esm_constants\",\"kind\":\"Any\",\"default\":{\"type\":\"map\"}}]},{\"type\":\"model\",\"name\":\"AnyWidgetComponent1\",\"properties\":[{\"name\":\"esm_constants\",\"kind\":\"Any\",\"default\":{\"type\":\"map\"}}]},{\"type\":\"model\",\"name\":\"request_value1\",\"properties\":[{\"name\":\"fill\",\"kind\":\"Any\",\"default\":\"none\"},{\"name\":\"_synced\",\"kind\":\"Any\",\"default\":null},{\"name\":\"_request_sync\",\"kind\":\"Any\",\"default\":0}]}]}};\n",
       "  var render_items = [{\"docid\":\"f0a41c7d-c6f5-4252-8c27-3728fca0b37c\",\"roots\":{\"9351171b-24a0-432b-83f8-e2392862e4a2\":\"b8e375ed-1ffe-4399-a3db-18eba00434eb\"},\"root_ids\":[\"9351171b-24a0-432b-83f8-e2392862e4a2\"]}];\n",
       "  var docs = Object.values(docs_json)\n",
       "  if (!docs) {\n",
       "    return\n",
       "  }\n",
       "  const py_version = docs[0].version.replace('rc', '-rc.').replace('.dev', '-dev.')\n",
       "  async function embed_document(root) {\n",
       "    var Bokeh = get_bokeh(root)\n",
       "    await Bokeh.embed.embed_items_notebook(docs_json, render_items);\n",
       "    for (const render_item of render_items) {\n",
       "      for (const root_id of render_item.root_ids) {\n",
       "\tconst id_el = document.getElementById(root_id)\n",
       "\tif (id_el.children.length && id_el.children[0].hasAttribute('data-root-id')) {\n",
       "\t  const root_el = id_el.children[0]\n",
       "\t  root_el.id = root_el.id + '-rendered'\n",
       "\t  for (const child of root_el.children) {\n",
       "            // Ensure JupyterLab does not capture keyboard shortcuts\n",
       "            // see: https://jupyterlab.readthedocs.io/en/4.1.x/extension/notebook.html#keyboard-interaction-model\n",
       "\t    child.setAttribute('data-lm-suppress-shortcuts', 'true')\n",
       "\t  }\n",
       "\t}\n",
       "      }\n",
       "    }\n",
       "  }\n",
       "  function get_bokeh(root) {\n",
       "    if (root.Bokeh === undefined) {\n",
       "      return null\n",
       "    } else if (root.Bokeh.version !== py_version) {\n",
       "      if (root.Bokeh.versions === undefined || !root.Bokeh.versions.has(py_version)) {\n",
       "\treturn null\n",
       "      }\n",
       "      return root.Bokeh.versions.get(py_version);\n",
       "    } else if (root.Bokeh.version === py_version) {\n",
       "      return root.Bokeh\n",
       "    }\n",
       "    return null\n",
       "  }\n",
       "  function is_loaded(root) {\n",
       "    var Bokeh = get_bokeh(root)\n",
       "    return (Bokeh != null && Bokeh.Panel !== undefined)\n",
       "  }\n",
       "  if (is_loaded(root)) {\n",
       "    embed_document(root);\n",
       "  } else {\n",
       "    var attempts = 0;\n",
       "    var timer = setInterval(function(root) {\n",
       "      if (is_loaded(root)) {\n",
       "        clearInterval(timer);\n",
       "        embed_document(root);\n",
       "      } else if (document.readyState == \"complete\") {\n",
       "        attempts++;\n",
       "        if (attempts > 200) {\n",
       "          clearInterval(timer);\n",
       "\t  var Bokeh = get_bokeh(root)\n",
       "\t  if (Bokeh == null || Bokeh.Panel == null) {\n",
       "            console.warn(\"Panel: ERROR: Unable to run Panel code because Bokeh or Panel library is missing\");\n",
       "\t  } else {\n",
       "\t    console.warn(\"Panel: WARNING: Attempting to render but not all required libraries could be resolved.\")\n",
       "\t    embed_document(root)\n",
       "\t  }\n",
       "        }\n",
       "      }\n",
       "    }, 25, root)\n",
       "  }\n",
       "})(window);</script>"
      ],
      "text/plain": [
       ":Overlay\n",
       "   .Bars.I  :Bars   [post_str_b1]   (percent)\n",
       "   .HLine.I :HLine   [x,y]"
      ]
     },
     "metadata": {
      "application/vnd.holoviews_exec.v0+json": {
       "id": "9351171b-24a0-432b-83f8-e2392862e4a2"
      }
     },
     "output_type": "display_data"
    },
    {
     "data": {
      "text/html": [
       "<div><style>\n",
       ".dataframe > thead > tr,\n",
       ".dataframe > tbody > tr {\n",
       "  text-align: right;\n",
       "  white-space: pre-wrap;\n",
       "}\n",
       "</style>\n",
       "<small>shape: (10, 21)</small><table border=\"1\" class=\"dataframe\"><thead><tr><th>fecha</th><th>sorteo</th><th>bolillas</th><th>id</th><th>combo</th><th>b1</th><th>b2</th><th>b3</th><th>b4</th><th>b5</th><th>str_b1</th><th>str_b2</th><th>str_b3</th><th>str_b4</th><th>str_b5</th><th>post_str_b1</th><th>post_str_blast</th><th>is_rare_combination</th><th>reason</th><th>jumps_map</th><th>unijump</th></tr><tr><td>str</td><td>str</td><td>str</td><td>str</td><td>array[u8, 5]</td><td>u8</td><td>u8</td><td>u8</td><td>u8</td><td>u8</td><td>str</td><td>str</td><td>str</td><td>str</td><td>str</td><td>str</td><td>str</td><td>bool</td><td>u8</td><td>str</td><td>i64</td></tr></thead><tbody><tr><td>&quot;27/03/2025&quot;</td><td>&quot;4168&quot;</td><td>&quot;27 35 05 32 08&quot;</td><td>&quot;0508273235&quot;</td><td>[5, 8, … 35]</td><td>5</td><td>8</td><td>27</td><td>32</td><td>35</td><td>&quot;05&quot;</td><td>&quot;08&quot;</td><td>&quot;27&quot;</td><td>&quot;32&quot;</td><td>&quot;35&quot;</td><td>&quot;01&quot;</td><td>&quot;29&quot;</td><td>true</td><td>16</td><td>&quot;03_19_05_03&quot;</td><td>42</td></tr><tr><td>&quot;09/02/2025&quot;</td><td>&quot;4122&quot;</td><td>&quot;05 21 20 35 29&quot;</td><td>&quot;0520212935&quot;</td><td>[5, 20, … 35]</td><td>5</td><td>20</td><td>21</td><td>29</td><td>35</td><td>&quot;05&quot;</td><td>&quot;20&quot;</td><td>&quot;21&quot;</td><td>&quot;29&quot;</td><td>&quot;35&quot;</td><td>&quot;07&quot;</td><td>&quot;32&quot;</td><td>false</td><td>0</td><td>&quot;15_01_08_06&quot;</td><td>-30</td></tr><tr><td>&quot;10/01/2025&quot;</td><td>&quot;4092&quot;</td><td>&quot;06 14 05 13 20&quot;</td><td>&quot;0506131420&quot;</td><td>[5, 6, … 20]</td><td>5</td><td>6</td><td>13</td><td>14</td><td>20</td><td>&quot;05&quot;</td><td>&quot;06&quot;</td><td>&quot;13&quot;</td><td>&quot;14&quot;</td><td>&quot;20&quot;</td><td>&quot;02&quot;</td><td>&quot;27&quot;</td><td>false</td><td>0</td><td>&quot;01_07_01_06&quot;</td><td>23</td></tr><tr><td>&quot;09/01/2025&quot;</td><td>&quot;4091&quot;</td><td>&quot;14 32 17 05 06&quot;</td><td>&quot;0506141732&quot;</td><td>[5, 6, … 32]</td><td>5</td><td>6</td><td>14</td><td>17</td><td>32</td><td>&quot;05&quot;</td><td>&quot;06&quot;</td><td>&quot;14&quot;</td><td>&quot;17&quot;</td><td>&quot;32&quot;</td><td>&quot;05&quot;</td><td>&quot;20&quot;</td><td>false</td><td>0</td><td>&quot;01_08_03_15&quot;</td><td>29</td></tr><tr><td>&quot;25/12/2024&quot;</td><td>&quot;4076&quot;</td><td>&quot;14 21 18 28 05&quot;</td><td>&quot;0514182128&quot;</td><td>[5, 14, … 28]</td><td>5</td><td>14</td><td>18</td><td>21</td><td>28</td><td>&quot;05&quot;</td><td>&quot;14&quot;</td><td>&quot;18&quot;</td><td>&quot;21&quot;</td><td>&quot;28&quot;</td><td>&quot;10&quot;</td><td>&quot;32&quot;</td><td>true</td><td>16</td><td>&quot;09_04_03_07&quot;</td><td>1</td></tr><tr><td>&quot;22/12/2024&quot;</td><td>&quot;4073&quot;</td><td>&quot;19 20 35 07 05&quot;</td><td>&quot;0507192035&quot;</td><td>[5, 7, … 35]</td><td>5</td><td>7</td><td>19</td><td>20</td><td>35</td><td>&quot;05&quot;</td><td>&quot;07&quot;</td><td>&quot;19&quot;</td><td>&quot;20&quot;</td><td>&quot;35&quot;</td><td>&quot;06&quot;</td><td>&quot;32&quot;</td><td>false</td><td>0</td><td>&quot;02_12_01_15&quot;</td><td>46</td></tr><tr><td>&quot;21/12/2024&quot;</td><td>&quot;4072&quot;</td><td>&quot;17 34 05 28 29&quot;</td><td>&quot;0517282934&quot;</td><td>[5, 17, … 34]</td><td>5</td><td>17</td><td>28</td><td>29</td><td>34</td><td>&quot;05&quot;</td><td>&quot;17&quot;</td><td>&quot;28&quot;</td><td>&quot;29&quot;</td><td>&quot;34&quot;</td><td>&quot;05&quot;</td><td>&quot;35&quot;</td><td>false</td><td>0</td><td>&quot;12_11_01_05&quot;</td><td>23</td></tr><tr><td>&quot;19/12/2024&quot;</td><td>&quot;4070&quot;</td><td>&quot;34 05 22 18 30&quot;</td><td>&quot;0518223034&quot;</td><td>[5, 18, … 34]</td><td>5</td><td>18</td><td>22</td><td>30</td><td>34</td><td>&quot;05&quot;</td><td>&quot;18&quot;</td><td>&quot;22&quot;</td><td>&quot;30&quot;</td><td>&quot;34&quot;</td><td>&quot;07&quot;</td><td>&quot;27&quot;</td><td>false</td><td>0</td><td>&quot;13_04_08_04&quot;</td><td>-21</td></tr><tr><td>&quot;16/12/2024&quot;</td><td>&quot;4067&quot;</td><td>&quot;14 29 05 11 07&quot;</td><td>&quot;0507111429&quot;</td><td>[5, 7, … 29]</td><td>5</td><td>7</td><td>11</td><td>14</td><td>29</td><td>&quot;05&quot;</td><td>&quot;07&quot;</td><td>&quot;11&quot;</td><td>&quot;14&quot;</td><td>&quot;29&quot;</td><td>&quot;02&quot;</td><td>&quot;26&quot;</td><td>true</td><td>17</td><td>&quot;02_04_03_15&quot;</td><td>16</td></tr><tr><td>&quot;13/12/2024&quot;</td><td>&quot;4064&quot;</td><td>&quot;22 21 05 15 09&quot;</td><td>&quot;0509152122&quot;</td><td>[5, 9, … 22]</td><td>5</td><td>9</td><td>15</td><td>21</td><td>22</td><td>&quot;05&quot;</td><td>&quot;09&quot;</td><td>&quot;15&quot;</td><td>&quot;21&quot;</td><td>&quot;22&quot;</td><td>&quot;04&quot;</td><td>&quot;31&quot;</td><td>true</td><td>24</td><td>&quot;04_06_06_01&quot;</td><td>-3</td></tr></tbody></table></div>"
      ],
      "text/plain": [
       "shape: (10, 21)\n",
       "┌────────────┬────────┬─────────────┬────────────┬───┬─────────────┬────────┬────────────┬─────────┐\n",
       "│ fecha      ┆ sorteo ┆ bolillas    ┆ id         ┆ … ┆ is_rare_com ┆ reason ┆ jumps_map  ┆ unijump │\n",
       "│ ---        ┆ ---    ┆ ---         ┆ ---        ┆   ┆ bination    ┆ ---    ┆ ---        ┆ ---     │\n",
       "│ str        ┆ str    ┆ str         ┆ str        ┆   ┆ ---         ┆ u8     ┆ str        ┆ i64     │\n",
       "│            ┆        ┆             ┆            ┆   ┆ bool        ┆        ┆            ┆         │\n",
       "╞════════════╪════════╪═════════════╪════════════╪═══╪═════════════╪════════╪════════════╪═════════╡\n",
       "│ 27/03/2025 ┆ 4168   ┆ 27 35 05 32 ┆ 0508273235 ┆ … ┆ true        ┆ 16     ┆ 03_19_05_0 ┆ 42      │\n",
       "│            ┆        ┆ 08          ┆            ┆   ┆             ┆        ┆ 3          ┆         │\n",
       "│ 09/02/2025 ┆ 4122   ┆ 05 21 20 35 ┆ 0520212935 ┆ … ┆ false       ┆ 0      ┆ 15_01_08_0 ┆ -30     │\n",
       "│            ┆        ┆ 29          ┆            ┆   ┆             ┆        ┆ 6          ┆         │\n",
       "│ 10/01/2025 ┆ 4092   ┆ 06 14 05 13 ┆ 0506131420 ┆ … ┆ false       ┆ 0      ┆ 01_07_01_0 ┆ 23      │\n",
       "│            ┆        ┆ 20          ┆            ┆   ┆             ┆        ┆ 6          ┆         │\n",
       "│ 09/01/2025 ┆ 4091   ┆ 14 32 17 05 ┆ 0506141732 ┆ … ┆ false       ┆ 0      ┆ 01_08_03_1 ┆ 29      │\n",
       "│            ┆        ┆ 06          ┆            ┆   ┆             ┆        ┆ 5          ┆         │\n",
       "│ 25/12/2024 ┆ 4076   ┆ 14 21 18 28 ┆ 0514182128 ┆ … ┆ true        ┆ 16     ┆ 09_04_03_0 ┆ 1       │\n",
       "│            ┆        ┆ 05          ┆            ┆   ┆             ┆        ┆ 7          ┆         │\n",
       "│ 22/12/2024 ┆ 4073   ┆ 19 20 35 07 ┆ 0507192035 ┆ … ┆ false       ┆ 0      ┆ 02_12_01_1 ┆ 46      │\n",
       "│            ┆        ┆ 05          ┆            ┆   ┆             ┆        ┆ 5          ┆         │\n",
       "│ 21/12/2024 ┆ 4072   ┆ 17 34 05 28 ┆ 0517282934 ┆ … ┆ false       ┆ 0      ┆ 12_11_01_0 ┆ 23      │\n",
       "│            ┆        ┆ 29          ┆            ┆   ┆             ┆        ┆ 5          ┆         │\n",
       "│ 19/12/2024 ┆ 4070   ┆ 34 05 22 18 ┆ 0518223034 ┆ … ┆ false       ┆ 0      ┆ 13_04_08_0 ┆ -21     │\n",
       "│            ┆        ┆ 30          ┆            ┆   ┆             ┆        ┆ 4          ┆         │\n",
       "│ 16/12/2024 ┆ 4067   ┆ 14 29 05 11 ┆ 0507111429 ┆ … ┆ true        ┆ 17     ┆ 02_04_03_1 ┆ 16      │\n",
       "│            ┆        ┆ 07          ┆            ┆   ┆             ┆        ┆ 5          ┆         │\n",
       "│ 13/12/2024 ┆ 4064   ┆ 22 21 05 15 ┆ 0509152122 ┆ … ┆ true        ┆ 24     ┆ 04_06_06_0 ┆ -3      │\n",
       "│            ┆        ┆ 09          ┆            ┆   ┆             ┆        ┆ 1          ┆         │\n",
       "└────────────┴────────┴─────────────┴────────────┴───┴─────────────┴────────┴────────────┴─────────┘"
      ]
     },
     "metadata": {},
     "output_type": "display_data"
    },
    {
     "data": {
      "text/html": [
       "<div><style>\n",
       ".dataframe > thead > tr,\n",
       ".dataframe > tbody > tr {\n",
       "  text-align: right;\n",
       "  white-space: pre-wrap;\n",
       "}\n",
       "</style>\n",
       "<small>shape: (664, 2)</small><table border=\"1\" class=\"dataframe\"><thead><tr><th>jumps_map</th><th>count</th></tr><tr><td>str</td><td>u32</td></tr></thead><tbody><tr><td>&quot;05_01_09_03&quot;</td><td>3</td></tr><tr><td>&quot;05_08_04_13&quot;</td><td>2</td></tr><tr><td>&quot;02_04_11_13&quot;</td><td>2</td></tr><tr><td>&quot;04_03_01_05&quot;</td><td>2</td></tr><tr><td>&quot;03_05_07_12&quot;</td><td>2</td></tr><tr><td>&hellip;</td><td>&hellip;</td></tr><tr><td>&quot;07_13_01_04&quot;</td><td>1</td></tr><tr><td>&quot;06_02_10_04&quot;</td><td>1</td></tr><tr><td>&quot;05_02_10_02&quot;</td><td>1</td></tr><tr><td>&quot;03_08_05_03&quot;</td><td>1</td></tr><tr><td>&quot;04_07_03_09&quot;</td><td>1</td></tr></tbody></table></div>"
      ],
      "text/plain": [
       "shape: (664, 2)\n",
       "┌─────────────┬───────┐\n",
       "│ jumps_map   ┆ count │\n",
       "│ ---         ┆ ---   │\n",
       "│ str         ┆ u32   │\n",
       "╞═════════════╪═══════╡\n",
       "│ 05_01_09_03 ┆ 3     │\n",
       "│ 05_08_04_13 ┆ 2     │\n",
       "│ 02_04_11_13 ┆ 2     │\n",
       "│ 04_03_01_05 ┆ 2     │\n",
       "│ 03_05_07_12 ┆ 2     │\n",
       "│ …           ┆ …     │\n",
       "│ 07_13_01_04 ┆ 1     │\n",
       "│ 06_02_10_04 ┆ 1     │\n",
       "│ 05_02_10_02 ┆ 1     │\n",
       "│ 03_08_05_03 ┆ 1     │\n",
       "│ 04_07_03_09 ┆ 1     │\n",
       "└─────────────┴───────┘"
      ]
     },
     "metadata": {},
     "output_type": "display_data"
    }
   ],
   "source": [
    "possible_b1, exclude_jump_maps_b1 = plot_post_col(col='str_b1', post_col='post_str_b1', test_value=\"05\")"
   ]
  },
  {
   "cell_type": "code",
   "execution_count": 73,
   "metadata": {},
   "outputs": [
    {
     "data": {
      "text/html": [
       "<div><style>\n",
       ".dataframe > thead > tr,\n",
       ".dataframe > tbody > tr {\n",
       "  text-align: right;\n",
       "  white-space: pre-wrap;\n",
       "}\n",
       "</style>\n",
       "<small>shape: (18, 3)</small><table border=\"1\" class=\"dataframe\"><thead><tr><th>post_str_blast</th><th>count</th><th>percent</th></tr><tr><td>str</td><td>u32</td><td>f64</td></tr></thead><tbody><tr><td>&quot;33&quot;</td><td>13</td><td>14.942529</td></tr><tr><td>&quot;34&quot;</td><td>12</td><td>13.793103</td></tr><tr><td>&quot;35&quot;</td><td>11</td><td>12.643678</td></tr><tr><td>&quot;31&quot;</td><td>7</td><td>8.045977</td></tr><tr><td>&quot;30&quot;</td><td>6</td><td>6.896552</td></tr><tr><td>&hellip;</td><td>&hellip;</td><td>&hellip;</td></tr><tr><td>&quot;17&quot;</td><td>2</td><td>2.298851</td></tr><tr><td>&quot;22&quot;</td><td>1</td><td>1.149425</td></tr><tr><td>&quot;18&quot;</td><td>1</td><td>1.149425</td></tr><tr><td>&quot;19&quot;</td><td>1</td><td>1.149425</td></tr><tr><td>&quot;25&quot;</td><td>1</td><td>1.149425</td></tr></tbody></table></div>"
      ],
      "text/plain": [
       "shape: (18, 3)\n",
       "┌────────────────┬───────┬───────────┐\n",
       "│ post_str_blast ┆ count ┆ percent   │\n",
       "│ ---            ┆ ---   ┆ ---       │\n",
       "│ str            ┆ u32   ┆ f64       │\n",
       "╞════════════════╪═══════╪═══════════╡\n",
       "│ 33             ┆ 13    ┆ 14.942529 │\n",
       "│ 34             ┆ 12    ┆ 13.793103 │\n",
       "│ 35             ┆ 11    ┆ 12.643678 │\n",
       "│ 31             ┆ 7     ┆ 8.045977  │\n",
       "│ 30             ┆ 6     ┆ 6.896552  │\n",
       "│ …              ┆ …     ┆ …         │\n",
       "│ 17             ┆ 2     ┆ 2.298851  │\n",
       "│ 22             ┆ 1     ┆ 1.149425  │\n",
       "│ 18             ┆ 1     ┆ 1.149425  │\n",
       "│ 19             ┆ 1     ┆ 1.149425  │\n",
       "│ 25             ┆ 1     ┆ 1.149425  │\n",
       "└────────────────┴───────┴───────────┘"
      ]
     },
     "metadata": {},
     "output_type": "display_data"
    },
    {
     "data": {},
     "metadata": {},
     "output_type": "display_data"
    },
    {
     "data": {
      "application/vnd.holoviews_exec.v0+json": "",
      "text/html": [
       "<div id='0fe42a14-fa3f-4bf1-939d-8901601eba6b'>\n",
       "  <div id=\"d3d4b65c-5b99-4df9-a3ba-d660a1a5a4f3\" data-root-id=\"0fe42a14-fa3f-4bf1-939d-8901601eba6b\" style=\"display: contents;\"></div>\n",
       "</div>\n",
       "<script type=\"application/javascript\">(function(root) {\n",
       "  var docs_json = {\"c163e3f7-ab62-4e87-b8cf-c49236041625\":{\"version\":\"3.7.2\",\"title\":\"Bokeh Application\",\"roots\":[{\"type\":\"object\",\"name\":\"Row\",\"id\":\"0fe42a14-fa3f-4bf1-939d-8901601eba6b\",\"attributes\":{\"name\":\"Row01495\",\"tags\":[\"embedded\"],\"stylesheets\":[\"\\n:host(.pn-loading):before, .pn-loading:before {\\n  background-color: #c3c3c3;\\n  mask-size: auto calc(min(50%, 400px));\\n  -webkit-mask-size: auto calc(min(50%, 400px));\\n}\",{\"type\":\"object\",\"name\":\"ImportedStyleSheet\",\"id\":\"b4fb3dd0-8960-45b9-82a2-b2c89974004e\",\"attributes\":{\"url\":\"https://cdn.holoviz.org/panel/1.6.2/dist/css/loading.css\"}},{\"type\":\"object\",\"name\":\"ImportedStyleSheet\",\"id\":\"602b7acc-dac9-492d-94f0-cfa8ed6a0360\",\"attributes\":{\"url\":\"https://cdn.holoviz.org/panel/1.6.2/dist/css/listpanel.css\"}},{\"type\":\"object\",\"name\":\"ImportedStyleSheet\",\"id\":\"c9dbe1af-d44b-441c-92b8-1504e8a6eb8f\",\"attributes\":{\"url\":\"https://cdn.holoviz.org/panel/1.6.2/dist/bundled/theme/default.css\"}},{\"type\":\"object\",\"name\":\"ImportedStyleSheet\",\"id\":\"8e22cb74-18be-4f62-8f3d-9d7b15b557ab\",\"attributes\":{\"url\":\"https://cdn.holoviz.org/panel/1.6.2/dist/bundled/theme/native.css\"}}],\"min_width\":700,\"margin\":0,\"sizing_mode\":\"stretch_width\",\"align\":\"start\",\"children\":[{\"type\":\"object\",\"name\":\"Spacer\",\"id\":\"31ef847d-a466-4987-97c5-b8b0a88f9f44\",\"attributes\":{\"name\":\"HSpacer01499\",\"stylesheets\":[\"\\n:host(.pn-loading):before, .pn-loading:before {\\n  background-color: #c3c3c3;\\n  mask-size: auto calc(min(50%, 400px));\\n  -webkit-mask-size: auto calc(min(50%, 400px));\\n}\",{\"id\":\"b4fb3dd0-8960-45b9-82a2-b2c89974004e\"},{\"id\":\"c9dbe1af-d44b-441c-92b8-1504e8a6eb8f\"},{\"id\":\"8e22cb74-18be-4f62-8f3d-9d7b15b557ab\"}],\"margin\":0,\"sizing_mode\":\"stretch_width\",\"align\":\"start\"}},{\"type\":\"object\",\"name\":\"Figure\",\"id\":\"a0af16d0-cc1e-4ea6-bac6-bc123d1f8c72\",\"attributes\":{\"width\":700,\"height\":300,\"margin\":[5,10],\"sizing_mode\":\"fixed\",\"align\":\"start\",\"x_range\":{\"type\":\"object\",\"name\":\"FactorRange\",\"id\":\"392a3298-a625-4189-b94e-aa42e327504b\",\"attributes\":{\"name\":\"post_str_blast\",\"tags\":[[[\"post_str_blast\",null]],[]],\"factors\":[\"33\",\"34\",\"35\",\"31\",\"30\",\"32\",\"23\",\"29\",\"26\",\"21\",\"27\",\"24\",\"28\",\"17\",\"22\",\"18\",\"19\",\"25\"]}},\"y_range\":{\"type\":\"object\",\"name\":\"Range1d\",\"id\":\"2374e6b8-6ad0-4ff2-8517-cd852e7b12cc\",\"attributes\":{\"name\":\"percent\",\"tags\":[[[\"percent\",null]],{\"type\":\"map\",\"entries\":[[\"invert_yaxis\",false],[\"autorange\",false]]}],\"end\":16.321839080459768,\"reset_start\":0.0,\"reset_end\":16.321839080459768}},\"x_scale\":{\"type\":\"object\",\"name\":\"CategoricalScale\",\"id\":\"f0c22fa5-944c-49d1-a905-4aa748aa6f9e\"},\"y_scale\":{\"type\":\"object\",\"name\":\"LinearScale\",\"id\":\"2f0975ce-454f-4e08-8934-74b6047c8d37\"},\"title\":{\"type\":\"object\",\"name\":\"Title\",\"id\":\"e8e3bd33-adb2-4e5b-86df-b7d2bf69f738\",\"attributes\":{\"text_color\":\"black\",\"text_font_size\":\"12pt\"}},\"renderers\":[{\"type\":\"object\",\"name\":\"GlyphRenderer\",\"id\":\"d0871212-99b4-4310-a9f4-daece85d9020\",\"attributes\":{\"data_source\":{\"type\":\"object\",\"name\":\"ColumnDataSource\",\"id\":\"14a4f194-d5ef-4ab1-9de7-72848c1d5ae9\",\"attributes\":{\"selected\":{\"type\":\"object\",\"name\":\"Selection\",\"id\":\"6f6c3b6a-b5dd-4c8d-92ee-9b7828c198fb\",\"attributes\":{\"indices\":[],\"line_indices\":[]}},\"selection_policy\":{\"type\":\"object\",\"name\":\"UnionRenderers\",\"id\":\"3e3afc7f-0089-4ad1-8493-15993feb6c1f\"},\"data\":{\"type\":\"map\",\"entries\":[[\"post_str_blast\",[\"33\",\"34\",\"35\",\"31\",\"30\",\"32\",\"23\",\"29\",\"26\",\"21\",\"27\",\"24\",\"28\",\"17\",\"22\",\"18\",\"19\",\"25\"]],[\"percent\",{\"type\":\"ndarray\",\"array\":{\"type\":\"bytes\",\"data\":\"MSleIJPiLUAaYbmnEZYrQASZFC+QSSlApXiBTIoXIEAaYbmnEZYbQBphuacRlhtA69Bvtg79FkDr0G+2Dv0WQLxAJsULZBJAGmG5pxGWC0AaYbmnEZYLQBphuacRlgtAGmG5pxGWC0C8QCbFC2QCQLxAJsULZPI/vEAmxQtk8j+8QCbFC2TyP7xAJsULZPI/\"},\"shape\":[18],\"dtype\":\"float64\",\"order\":\"little\"}]]}}},\"view\":{\"type\":\"object\",\"name\":\"CDSView\",\"id\":\"a69857d6-14aa-4a1e-92e2-c35e298fdecd\",\"attributes\":{\"filter\":{\"type\":\"object\",\"name\":\"AllIndices\",\"id\":\"d0d1712e-277e-44c2-837b-4ba6b8f822f2\"}}},\"glyph\":{\"type\":\"object\",\"name\":\"VBar\",\"id\":\"c280394f-5b38-42ec-a45d-27596e3a64ab\",\"attributes\":{\"tags\":[\"apply_ranges\"],\"x\":{\"type\":\"field\",\"field\":\"post_str_blast\"},\"width\":{\"type\":\"value\",\"value\":0.8},\"top\":{\"type\":\"field\",\"field\":\"percent\"},\"fill_color\":{\"type\":\"value\",\"value\":\"#30a2da\"},\"hatch_color\":{\"type\":\"value\",\"value\":\"#30a2da\"}}},\"selection_glyph\":{\"type\":\"object\",\"name\":\"VBar\",\"id\":\"a3732fd8-dbac-4c4c-8c3f-546d8be2a432\",\"attributes\":{\"tags\":[\"apply_ranges\"],\"x\":{\"type\":\"field\",\"field\":\"post_str_blast\"},\"width\":{\"type\":\"value\",\"value\":0.8},\"bottom\":{\"type\":\"value\",\"value\":0},\"top\":{\"type\":\"field\",\"field\":\"percent\"},\"line_color\":{\"type\":\"value\",\"value\":\"black\"},\"line_alpha\":{\"type\":\"value\",\"value\":1.0},\"line_width\":{\"type\":\"value\",\"value\":1},\"line_join\":{\"type\":\"value\",\"value\":\"bevel\"},\"line_cap\":{\"type\":\"value\",\"value\":\"butt\"},\"line_dash\":{\"type\":\"value\",\"value\":[]},\"line_dash_offset\":{\"type\":\"value\",\"value\":0},\"fill_color\":{\"type\":\"value\",\"value\":\"#30a2da\"},\"fill_alpha\":{\"type\":\"value\",\"value\":1.0},\"hatch_color\":{\"type\":\"value\",\"value\":\"#30a2da\"},\"hatch_alpha\":{\"type\":\"value\",\"value\":1.0},\"hatch_scale\":{\"type\":\"value\",\"value\":12.0},\"hatch_pattern\":{\"type\":\"value\",\"value\":null},\"hatch_weight\":{\"type\":\"value\",\"value\":1.0}}},\"nonselection_glyph\":{\"type\":\"object\",\"name\":\"VBar\",\"id\":\"01ec75b2-5b16-493c-8f20-f57b61230a29\",\"attributes\":{\"tags\":[\"apply_ranges\"],\"x\":{\"type\":\"field\",\"field\":\"post_str_blast\"},\"width\":{\"type\":\"value\",\"value\":0.8},\"top\":{\"type\":\"field\",\"field\":\"percent\"},\"line_alpha\":{\"type\":\"value\",\"value\":0.1},\"fill_color\":{\"type\":\"value\",\"value\":\"#30a2da\"},\"fill_alpha\":{\"type\":\"value\",\"value\":0.1},\"hatch_color\":{\"type\":\"value\",\"value\":\"#30a2da\"},\"hatch_alpha\":{\"type\":\"value\",\"value\":0.1}}},\"muted_glyph\":{\"type\":\"object\",\"name\":\"VBar\",\"id\":\"3f484628-da3e-4881-9517-60a3a432f7a4\",\"attributes\":{\"tags\":[\"apply_ranges\"],\"x\":{\"type\":\"field\",\"field\":\"post_str_blast\"},\"width\":{\"type\":\"value\",\"value\":0.8},\"top\":{\"type\":\"field\",\"field\":\"percent\"},\"line_alpha\":{\"type\":\"value\",\"value\":0.2},\"fill_color\":{\"type\":\"value\",\"value\":\"#30a2da\"},\"fill_alpha\":{\"type\":\"value\",\"value\":0.2},\"hatch_color\":{\"type\":\"value\",\"value\":\"#30a2da\"},\"hatch_alpha\":{\"type\":\"value\",\"value\":0.2}}}}},{\"type\":\"object\",\"name\":\"Span\",\"id\":\"d76ce046-4d4a-42e7-84d5-ba88e77bf542\",\"attributes\":{\"level\":\"glyph\",\"location\":5.555555555555556,\"line_color\":\"red\",\"line_width\":3}}],\"toolbar\":{\"type\":\"object\",\"name\":\"Toolbar\",\"id\":\"25b000b0-7a3b-4e75-a4aa-5c591e600498\",\"attributes\":{\"tools\":[{\"type\":\"object\",\"name\":\"WheelZoomTool\",\"id\":\"2ca0802b-93c2-46df-895b-b77c4bc1eebe\",\"attributes\":{\"tags\":[\"hv_created\"],\"renderers\":\"auto\",\"zoom_together\":\"none\"}},{\"type\":\"object\",\"name\":\"HoverTool\",\"id\":\"b751412c-3db8-4f69-bda7-b0e1ff0df694\",\"attributes\":{\"tags\":[\"hv_created\"],\"renderers\":[{\"id\":\"d0871212-99b4-4310-a9f4-daece85d9020\"}],\"tooltips\":[[\"post_str_blast\",\"@{post_str_blast}\"],[\"percent\",\"@{percent}\"]]}},{\"type\":\"object\",\"name\":\"SaveTool\",\"id\":\"8f1d18c4-e50b-4ec9-9b23-0767eab6c9fb\"},{\"type\":\"object\",\"name\":\"PanTool\",\"id\":\"e6be68b3-94e6-4e1e-9417-3029d6ed6d4e\"},{\"type\":\"object\",\"name\":\"BoxZoomTool\",\"id\":\"41b7bf31-6e61-472d-8560-6814034bbac2\",\"attributes\":{\"dimensions\":\"both\",\"overlay\":{\"type\":\"object\",\"name\":\"BoxAnnotation\",\"id\":\"693533c7-5954-48a2-938c-86188bd7daeb\",\"attributes\":{\"syncable\":false,\"line_color\":\"black\",\"line_alpha\":1.0,\"line_width\":2,\"line_dash\":[4,4],\"fill_color\":\"lightgrey\",\"fill_alpha\":0.5,\"level\":\"overlay\",\"visible\":false,\"left\":{\"type\":\"number\",\"value\":\"nan\"},\"right\":{\"type\":\"number\",\"value\":\"nan\"},\"top\":{\"type\":\"number\",\"value\":\"nan\"},\"bottom\":{\"type\":\"number\",\"value\":\"nan\"},\"left_units\":\"canvas\",\"right_units\":\"canvas\",\"top_units\":\"canvas\",\"bottom_units\":\"canvas\",\"handles\":{\"type\":\"object\",\"name\":\"BoxInteractionHandles\",\"id\":\"9dfc3e3f-fa10-4d7d-86fe-83870e1abd84\",\"attributes\":{\"all\":{\"type\":\"object\",\"name\":\"AreaVisuals\",\"id\":\"0b05c91e-b04f-4f09-8bc6-7c159ad0d1a4\",\"attributes\":{\"fill_color\":\"white\",\"hover_fill_color\":\"lightgray\"}}}}}}}},{\"type\":\"object\",\"name\":\"ResetTool\",\"id\":\"0beb32f5-437b-4781-ad3f-e0cb4ab4e8dc\"}],\"active_drag\":{\"id\":\"e6be68b3-94e6-4e1e-9417-3029d6ed6d4e\"}}},\"left\":[{\"type\":\"object\",\"name\":\"LinearAxis\",\"id\":\"ca5532f3-b576-48c0-a060-2040902fd159\",\"attributes\":{\"ticker\":{\"type\":\"object\",\"name\":\"BasicTicker\",\"id\":\"ec3c8009-b65f-47cd-ba6e-d43095258dfd\",\"attributes\":{\"mantissas\":[1,2,5]}},\"formatter\":{\"type\":\"object\",\"name\":\"BasicTickFormatter\",\"id\":\"3050a892-8d0c-4971-b352-6480f981c99e\"},\"axis_label\":\"percent\",\"major_label_policy\":{\"type\":\"object\",\"name\":\"AllLabels\",\"id\":\"5f56cd9b-db14-47cb-ad21-f507f903a6d0\"}}}],\"below\":[{\"type\":\"object\",\"name\":\"CategoricalAxis\",\"id\":\"8d448d11-ac49-4be0-bc24-bf4774d2ea24\",\"attributes\":{\"ticker\":{\"type\":\"object\",\"name\":\"CategoricalTicker\",\"id\":\"90949b48-dc01-4f62-b80f-81e41aeabbd0\"},\"formatter\":{\"type\":\"object\",\"name\":\"CategoricalTickFormatter\",\"id\":\"615bbd90-1aba-4b93-a35d-bdcf7d5eac1e\"},\"axis_label\":\"post_str_blast\",\"major_label_policy\":{\"type\":\"object\",\"name\":\"AllLabels\",\"id\":\"955004b4-042c-4e87-b675-21d06e43e02f\"}}}],\"center\":[{\"type\":\"object\",\"name\":\"Grid\",\"id\":\"cb1dbaf9-caac-4aa3-8553-b4ce7d7f4da4\",\"attributes\":{\"axis\":{\"id\":\"8d448d11-ac49-4be0-bc24-bf4774d2ea24\"},\"grid_line_color\":null}},{\"type\":\"object\",\"name\":\"Grid\",\"id\":\"2e312c93-43bd-4d88-80ed-14715d56aedd\",\"attributes\":{\"dimension\":1,\"axis\":{\"id\":\"ca5532f3-b576-48c0-a060-2040902fd159\"},\"grid_line_color\":null}}],\"min_border_top\":10,\"min_border_bottom\":10,\"min_border_left\":10,\"min_border_right\":10,\"output_backend\":\"webgl\"}},{\"type\":\"object\",\"name\":\"Spacer\",\"id\":\"2d789198-192a-498c-8875-0950ebac7b1d\",\"attributes\":{\"name\":\"HSpacer01500\",\"stylesheets\":[\"\\n:host(.pn-loading):before, .pn-loading:before {\\n  background-color: #c3c3c3;\\n  mask-size: auto calc(min(50%, 400px));\\n  -webkit-mask-size: auto calc(min(50%, 400px));\\n}\",{\"id\":\"b4fb3dd0-8960-45b9-82a2-b2c89974004e\"},{\"id\":\"c9dbe1af-d44b-441c-92b8-1504e8a6eb8f\"},{\"id\":\"8e22cb74-18be-4f62-8f3d-9d7b15b557ab\"}],\"margin\":0,\"sizing_mode\":\"stretch_width\",\"align\":\"start\"}}]}}],\"defs\":[{\"type\":\"model\",\"name\":\"ReactiveHTML1\"},{\"type\":\"model\",\"name\":\"FlexBox1\",\"properties\":[{\"name\":\"align_content\",\"kind\":\"Any\",\"default\":\"flex-start\"},{\"name\":\"align_items\",\"kind\":\"Any\",\"default\":\"flex-start\"},{\"name\":\"flex_direction\",\"kind\":\"Any\",\"default\":\"row\"},{\"name\":\"flex_wrap\",\"kind\":\"Any\",\"default\":\"wrap\"},{\"name\":\"gap\",\"kind\":\"Any\",\"default\":\"\"},{\"name\":\"justify_content\",\"kind\":\"Any\",\"default\":\"flex-start\"}]},{\"type\":\"model\",\"name\":\"FloatPanel1\",\"properties\":[{\"name\":\"config\",\"kind\":\"Any\",\"default\":{\"type\":\"map\"}},{\"name\":\"contained\",\"kind\":\"Any\",\"default\":true},{\"name\":\"position\",\"kind\":\"Any\",\"default\":\"right-top\"},{\"name\":\"offsetx\",\"kind\":\"Any\",\"default\":null},{\"name\":\"offsety\",\"kind\":\"Any\",\"default\":null},{\"name\":\"theme\",\"kind\":\"Any\",\"default\":\"primary\"},{\"name\":\"status\",\"kind\":\"Any\",\"default\":\"normalized\"}]},{\"type\":\"model\",\"name\":\"GridStack1\",\"properties\":[{\"name\":\"ncols\",\"kind\":\"Any\",\"default\":null},{\"name\":\"nrows\",\"kind\":\"Any\",\"default\":null},{\"name\":\"allow_resize\",\"kind\":\"Any\",\"default\":true},{\"name\":\"allow_drag\",\"kind\":\"Any\",\"default\":true},{\"name\":\"state\",\"kind\":\"Any\",\"default\":[]}]},{\"type\":\"model\",\"name\":\"drag1\",\"properties\":[{\"name\":\"slider_width\",\"kind\":\"Any\",\"default\":5},{\"name\":\"slider_color\",\"kind\":\"Any\",\"default\":\"black\"},{\"name\":\"value\",\"kind\":\"Any\",\"default\":50}]},{\"type\":\"model\",\"name\":\"click1\",\"properties\":[{\"name\":\"terminal_output\",\"kind\":\"Any\",\"default\":\"\"},{\"name\":\"debug_name\",\"kind\":\"Any\",\"default\":\"\"},{\"name\":\"clears\",\"kind\":\"Any\",\"default\":0}]},{\"type\":\"model\",\"name\":\"FastWrapper1\",\"properties\":[{\"name\":\"object\",\"kind\":\"Any\",\"default\":null},{\"name\":\"style\",\"kind\":\"Any\",\"default\":null}]},{\"type\":\"model\",\"name\":\"NotificationArea1\",\"properties\":[{\"name\":\"js_events\",\"kind\":\"Any\",\"default\":{\"type\":\"map\"}},{\"name\":\"max_notifications\",\"kind\":\"Any\",\"default\":5},{\"name\":\"notifications\",\"kind\":\"Any\",\"default\":[]},{\"name\":\"position\",\"kind\":\"Any\",\"default\":\"bottom-right\"},{\"name\":\"_clear\",\"kind\":\"Any\",\"default\":0},{\"name\":\"types\",\"kind\":\"Any\",\"default\":[{\"type\":\"map\",\"entries\":[[\"type\",\"warning\"],[\"background\",\"#ffc107\"],[\"icon\",{\"type\":\"map\",\"entries\":[[\"className\",\"fas fa-exclamation-triangle\"],[\"tagName\",\"i\"],[\"color\",\"white\"]]}]]},{\"type\":\"map\",\"entries\":[[\"type\",\"info\"],[\"background\",\"#007bff\"],[\"icon\",{\"type\":\"map\",\"entries\":[[\"className\",\"fas fa-info-circle\"],[\"tagName\",\"i\"],[\"color\",\"white\"]]}]]}]}]},{\"type\":\"model\",\"name\":\"Notification\",\"properties\":[{\"name\":\"background\",\"kind\":\"Any\",\"default\":null},{\"name\":\"duration\",\"kind\":\"Any\",\"default\":3000},{\"name\":\"icon\",\"kind\":\"Any\",\"default\":null},{\"name\":\"message\",\"kind\":\"Any\",\"default\":\"\"},{\"name\":\"notification_type\",\"kind\":\"Any\",\"default\":null},{\"name\":\"_rendered\",\"kind\":\"Any\",\"default\":false},{\"name\":\"_destroyed\",\"kind\":\"Any\",\"default\":false}]},{\"type\":\"model\",\"name\":\"TemplateActions1\",\"properties\":[{\"name\":\"open_modal\",\"kind\":\"Any\",\"default\":0},{\"name\":\"close_modal\",\"kind\":\"Any\",\"default\":0}]},{\"type\":\"model\",\"name\":\"BootstrapTemplateActions1\",\"properties\":[{\"name\":\"open_modal\",\"kind\":\"Any\",\"default\":0},{\"name\":\"close_modal\",\"kind\":\"Any\",\"default\":0}]},{\"type\":\"model\",\"name\":\"TemplateEditor1\",\"properties\":[{\"name\":\"layout\",\"kind\":\"Any\",\"default\":[]}]},{\"type\":\"model\",\"name\":\"MaterialTemplateActions1\",\"properties\":[{\"name\":\"open_modal\",\"kind\":\"Any\",\"default\":0},{\"name\":\"close_modal\",\"kind\":\"Any\",\"default\":0}]},{\"type\":\"model\",\"name\":\"ReactiveESM1\",\"properties\":[{\"name\":\"esm_constants\",\"kind\":\"Any\",\"default\":{\"type\":\"map\"}}]},{\"type\":\"model\",\"name\":\"JSComponent1\",\"properties\":[{\"name\":\"esm_constants\",\"kind\":\"Any\",\"default\":{\"type\":\"map\"}}]},{\"type\":\"model\",\"name\":\"ReactComponent1\",\"properties\":[{\"name\":\"esm_constants\",\"kind\":\"Any\",\"default\":{\"type\":\"map\"}}]},{\"type\":\"model\",\"name\":\"AnyWidgetComponent1\",\"properties\":[{\"name\":\"esm_constants\",\"kind\":\"Any\",\"default\":{\"type\":\"map\"}}]},{\"type\":\"model\",\"name\":\"request_value1\",\"properties\":[{\"name\":\"fill\",\"kind\":\"Any\",\"default\":\"none\"},{\"name\":\"_synced\",\"kind\":\"Any\",\"default\":null},{\"name\":\"_request_sync\",\"kind\":\"Any\",\"default\":0}]}]}};\n",
       "  var render_items = [{\"docid\":\"c163e3f7-ab62-4e87-b8cf-c49236041625\",\"roots\":{\"0fe42a14-fa3f-4bf1-939d-8901601eba6b\":\"d3d4b65c-5b99-4df9-a3ba-d660a1a5a4f3\"},\"root_ids\":[\"0fe42a14-fa3f-4bf1-939d-8901601eba6b\"]}];\n",
       "  var docs = Object.values(docs_json)\n",
       "  if (!docs) {\n",
       "    return\n",
       "  }\n",
       "  const py_version = docs[0].version.replace('rc', '-rc.').replace('.dev', '-dev.')\n",
       "  async function embed_document(root) {\n",
       "    var Bokeh = get_bokeh(root)\n",
       "    await Bokeh.embed.embed_items_notebook(docs_json, render_items);\n",
       "    for (const render_item of render_items) {\n",
       "      for (const root_id of render_item.root_ids) {\n",
       "\tconst id_el = document.getElementById(root_id)\n",
       "\tif (id_el.children.length && id_el.children[0].hasAttribute('data-root-id')) {\n",
       "\t  const root_el = id_el.children[0]\n",
       "\t  root_el.id = root_el.id + '-rendered'\n",
       "\t  for (const child of root_el.children) {\n",
       "            // Ensure JupyterLab does not capture keyboard shortcuts\n",
       "            // see: https://jupyterlab.readthedocs.io/en/4.1.x/extension/notebook.html#keyboard-interaction-model\n",
       "\t    child.setAttribute('data-lm-suppress-shortcuts', 'true')\n",
       "\t  }\n",
       "\t}\n",
       "      }\n",
       "    }\n",
       "  }\n",
       "  function get_bokeh(root) {\n",
       "    if (root.Bokeh === undefined) {\n",
       "      return null\n",
       "    } else if (root.Bokeh.version !== py_version) {\n",
       "      if (root.Bokeh.versions === undefined || !root.Bokeh.versions.has(py_version)) {\n",
       "\treturn null\n",
       "      }\n",
       "      return root.Bokeh.versions.get(py_version);\n",
       "    } else if (root.Bokeh.version === py_version) {\n",
       "      return root.Bokeh\n",
       "    }\n",
       "    return null\n",
       "  }\n",
       "  function is_loaded(root) {\n",
       "    var Bokeh = get_bokeh(root)\n",
       "    return (Bokeh != null && Bokeh.Panel !== undefined)\n",
       "  }\n",
       "  if (is_loaded(root)) {\n",
       "    embed_document(root);\n",
       "  } else {\n",
       "    var attempts = 0;\n",
       "    var timer = setInterval(function(root) {\n",
       "      if (is_loaded(root)) {\n",
       "        clearInterval(timer);\n",
       "        embed_document(root);\n",
       "      } else if (document.readyState == \"complete\") {\n",
       "        attempts++;\n",
       "        if (attempts > 200) {\n",
       "          clearInterval(timer);\n",
       "\t  var Bokeh = get_bokeh(root)\n",
       "\t  if (Bokeh == null || Bokeh.Panel == null) {\n",
       "            console.warn(\"Panel: ERROR: Unable to run Panel code because Bokeh or Panel library is missing\");\n",
       "\t  } else {\n",
       "\t    console.warn(\"Panel: WARNING: Attempting to render but not all required libraries could be resolved.\")\n",
       "\t    embed_document(root)\n",
       "\t  }\n",
       "        }\n",
       "      }\n",
       "    }, 25, root)\n",
       "  }\n",
       "})(window);</script>"
      ],
      "text/plain": [
       ":Overlay\n",
       "   .Bars.I  :Bars   [post_str_blast]   (percent)\n",
       "   .HLine.I :HLine   [x,y]"
      ]
     },
     "metadata": {
      "application/vnd.holoviews_exec.v0+json": {
       "id": "0fe42a14-fa3f-4bf1-939d-8901601eba6b"
      }
     },
     "output_type": "display_data"
    },
    {
     "data": {
      "text/html": [
       "<div><style>\n",
       ".dataframe > thead > tr,\n",
       ".dataframe > tbody > tr {\n",
       "  text-align: right;\n",
       "  white-space: pre-wrap;\n",
       "}\n",
       "</style>\n",
       "<small>shape: (10, 21)</small><table border=\"1\" class=\"dataframe\"><thead><tr><th>fecha</th><th>sorteo</th><th>bolillas</th><th>id</th><th>combo</th><th>b1</th><th>b2</th><th>b3</th><th>b4</th><th>b5</th><th>str_b1</th><th>str_b2</th><th>str_b3</th><th>str_b4</th><th>str_b5</th><th>post_str_b1</th><th>post_str_blast</th><th>is_rare_combination</th><th>reason</th><th>jumps_map</th><th>unijump</th></tr><tr><td>str</td><td>str</td><td>str</td><td>str</td><td>array[u8, 5]</td><td>u8</td><td>u8</td><td>u8</td><td>u8</td><td>u8</td><td>str</td><td>str</td><td>str</td><td>str</td><td>str</td><td>str</td><td>str</td><td>bool</td><td>u8</td><td>str</td><td>i64</td></tr></thead><tbody><tr><td>&quot;10/01/2025&quot;</td><td>&quot;4092&quot;</td><td>&quot;06 14 05 13 20&quot;</td><td>&quot;0506131420&quot;</td><td>[5, 6, … 20]</td><td>5</td><td>6</td><td>13</td><td>14</td><td>20</td><td>&quot;05&quot;</td><td>&quot;06&quot;</td><td>&quot;13&quot;</td><td>&quot;14&quot;</td><td>&quot;20&quot;</td><td>&quot;02&quot;</td><td>&quot;27&quot;</td><td>false</td><td>0</td><td>&quot;01_07_01_06&quot;</td><td>23</td></tr><tr><td>&quot;15/09/2024&quot;</td><td>&quot;3975&quot;</td><td>&quot;18 08 17 09 20&quot;</td><td>&quot;0809171820&quot;</td><td>[8, 9, … 20]</td><td>8</td><td>9</td><td>17</td><td>18</td><td>20</td><td>&quot;08&quot;</td><td>&quot;09&quot;</td><td>&quot;17&quot;</td><td>&quot;18&quot;</td><td>&quot;20&quot;</td><td>&quot;03&quot;</td><td>&quot;30&quot;</td><td>true</td><td>16</td><td>&quot;01_08_01_02&quot;</td><td>22</td></tr><tr><td>&quot;17/01/2024&quot;</td><td>&quot;3733&quot;</td><td>&quot;11 15 04 09 20&quot;</td><td>&quot;0409111520&quot;</td><td>[4, 9, … 20]</td><td>4</td><td>9</td><td>11</td><td>15</td><td>20</td><td>&quot;04&quot;</td><td>&quot;09&quot;</td><td>&quot;11&quot;</td><td>&quot;15&quot;</td><td>&quot;20&quot;</td><td>&quot;01&quot;</td><td>&quot;31&quot;</td><td>true</td><td>16</td><td>&quot;05_02_04_05&quot;</td><td>-6</td></tr><tr><td>&quot;28/08/2023&quot;</td><td>&quot;3591&quot;</td><td>&quot;20 08 11 04 14&quot;</td><td>&quot;0408111420&quot;</td><td>[4, 8, … 20]</td><td>4</td><td>8</td><td>11</td><td>14</td><td>20</td><td>&quot;04&quot;</td><td>&quot;08&quot;</td><td>&quot;11&quot;</td><td>&quot;14&quot;</td><td>&quot;20&quot;</td><td>&quot;21&quot;</td><td>&quot;33&quot;</td><td>true</td><td>24</td><td>&quot;04_03_03_06&quot;</td><td>2</td></tr><tr><td>&quot;10/07/2023&quot;</td><td>&quot;3542&quot;</td><td>&quot;02 20 07 03 15&quot;</td><td>&quot;0203071520&quot;</td><td>[2, 3, … 20]</td><td>2</td><td>3</td><td>7</td><td>15</td><td>20</td><td>&quot;02&quot;</td><td>&quot;03&quot;</td><td>&quot;07&quot;</td><td>&quot;15&quot;</td><td>&quot;20&quot;</td><td>&quot;02&quot;</td><td>&quot;17&quot;</td><td>false</td><td>0</td><td>&quot;01_04_08_05&quot;</td><td>-8</td></tr><tr><td>&quot;13/09/2022&quot;</td><td>&quot;3242&quot;</td><td>&quot;11 18 08 20 05&quot;</td><td>&quot;0508111820&quot;</td><td>[5, 8, … 20]</td><td>5</td><td>8</td><td>11</td><td>18</td><td>20</td><td>&quot;05&quot;</td><td>&quot;08&quot;</td><td>&quot;11&quot;</td><td>&quot;18&quot;</td><td>&quot;20&quot;</td><td>&quot;02&quot;</td><td>&quot;30&quot;</td><td>true</td><td>24</td><td>&quot;03_03_07_02&quot;</td><td>-13</td></tr><tr><td>&quot;28/08/2022&quot;</td><td>&quot;3226&quot;</td><td>&quot;04 12 18 07 20&quot;</td><td>&quot;0407121820&quot;</td><td>[4, 7, … 20]</td><td>4</td><td>7</td><td>12</td><td>18</td><td>20</td><td>&quot;04&quot;</td><td>&quot;07&quot;</td><td>&quot;12&quot;</td><td>&quot;18&quot;</td><td>&quot;20&quot;</td><td>&quot;02&quot;</td><td>&quot;26&quot;</td><td>true</td><td>16</td><td>&quot;03_05_06_02&quot;</td><td>-4</td></tr><tr><td>&quot;07/08/2022&quot;</td><td>&quot;3205&quot;</td><td>&quot;02 20 03 17 11&quot;</td><td>&quot;0203111720&quot;</td><td>[2, 3, … 20]</td><td>2</td><td>3</td><td>11</td><td>17</td><td>20</td><td>&quot;02&quot;</td><td>&quot;03&quot;</td><td>&quot;11&quot;</td><td>&quot;17&quot;</td><td>&quot;20&quot;</td><td>&quot;06&quot;</td><td>&quot;34&quot;</td><td>true</td><td>1</td><td>&quot;01_08_06_03&quot;</td><td>8</td></tr><tr><td>&quot;08/03/2022&quot;</td><td>&quot;3053&quot;</td><td>&quot;06 10 02 05 20&quot;</td><td>&quot;0205061020&quot;</td><td>[2, 5, … 20]</td><td>2</td><td>5</td><td>6</td><td>10</td><td>20</td><td>&quot;02&quot;</td><td>&quot;05&quot;</td><td>&quot;06&quot;</td><td>&quot;10&quot;</td><td>&quot;20&quot;</td><td>&quot;12&quot;</td><td>&quot;30&quot;</td><td>true</td><td>16</td><td>&quot;03_01_04_10&quot;</td><td>-2</td></tr><tr><td>&quot;06/02/2022&quot;</td><td>&quot;3023&quot;</td><td>&quot;05 16 20 10 15&quot;</td><td>&quot;0510151620&quot;</td><td>[5, 10, … 20]</td><td>5</td><td>10</td><td>15</td><td>16</td><td>20</td><td>&quot;05&quot;</td><td>&quot;10&quot;</td><td>&quot;15&quot;</td><td>&quot;16&quot;</td><td>&quot;20&quot;</td><td>&quot;01&quot;</td><td>&quot;34&quot;</td><td>true</td><td>24</td><td>&quot;05_05_01_04&quot;</td><td>11</td></tr></tbody></table></div>"
      ],
      "text/plain": [
       "shape: (10, 21)\n",
       "┌────────────┬────────┬─────────────┬────────────┬───┬─────────────┬────────┬────────────┬─────────┐\n",
       "│ fecha      ┆ sorteo ┆ bolillas    ┆ id         ┆ … ┆ is_rare_com ┆ reason ┆ jumps_map  ┆ unijump │\n",
       "│ ---        ┆ ---    ┆ ---         ┆ ---        ┆   ┆ bination    ┆ ---    ┆ ---        ┆ ---     │\n",
       "│ str        ┆ str    ┆ str         ┆ str        ┆   ┆ ---         ┆ u8     ┆ str        ┆ i64     │\n",
       "│            ┆        ┆             ┆            ┆   ┆ bool        ┆        ┆            ┆         │\n",
       "╞════════════╪════════╪═════════════╪════════════╪═══╪═════════════╪════════╪════════════╪═════════╡\n",
       "│ 10/01/2025 ┆ 4092   ┆ 06 14 05 13 ┆ 0506131420 ┆ … ┆ false       ┆ 0      ┆ 01_07_01_0 ┆ 23      │\n",
       "│            ┆        ┆ 20          ┆            ┆   ┆             ┆        ┆ 6          ┆         │\n",
       "│ 15/09/2024 ┆ 3975   ┆ 18 08 17 09 ┆ 0809171820 ┆ … ┆ true        ┆ 16     ┆ 01_08_01_0 ┆ 22      │\n",
       "│            ┆        ┆ 20          ┆            ┆   ┆             ┆        ┆ 2          ┆         │\n",
       "│ 17/01/2024 ┆ 3733   ┆ 11 15 04 09 ┆ 0409111520 ┆ … ┆ true        ┆ 16     ┆ 05_02_04_0 ┆ -6      │\n",
       "│            ┆        ┆ 20          ┆            ┆   ┆             ┆        ┆ 5          ┆         │\n",
       "│ 28/08/2023 ┆ 3591   ┆ 20 08 11 04 ┆ 0408111420 ┆ … ┆ true        ┆ 24     ┆ 04_03_03_0 ┆ 2       │\n",
       "│            ┆        ┆ 14          ┆            ┆   ┆             ┆        ┆ 6          ┆         │\n",
       "│ 10/07/2023 ┆ 3542   ┆ 02 20 07 03 ┆ 0203071520 ┆ … ┆ false       ┆ 0      ┆ 01_04_08_0 ┆ -8      │\n",
       "│            ┆        ┆ 15          ┆            ┆   ┆             ┆        ┆ 5          ┆         │\n",
       "│ 13/09/2022 ┆ 3242   ┆ 11 18 08 20 ┆ 0508111820 ┆ … ┆ true        ┆ 24     ┆ 03_03_07_0 ┆ -13     │\n",
       "│            ┆        ┆ 05          ┆            ┆   ┆             ┆        ┆ 2          ┆         │\n",
       "│ 28/08/2022 ┆ 3226   ┆ 04 12 18 07 ┆ 0407121820 ┆ … ┆ true        ┆ 16     ┆ 03_05_06_0 ┆ -4      │\n",
       "│            ┆        ┆ 20          ┆            ┆   ┆             ┆        ┆ 2          ┆         │\n",
       "│ 07/08/2022 ┆ 3205   ┆ 02 20 03 17 ┆ 0203111720 ┆ … ┆ true        ┆ 1      ┆ 01_08_06_0 ┆ 8       │\n",
       "│            ┆        ┆ 11          ┆            ┆   ┆             ┆        ┆ 3          ┆         │\n",
       "│ 08/03/2022 ┆ 3053   ┆ 06 10 02 05 ┆ 0205061020 ┆ … ┆ true        ┆ 16     ┆ 03_01_04_1 ┆ -2      │\n",
       "│            ┆        ┆ 20          ┆            ┆   ┆             ┆        ┆ 0          ┆         │\n",
       "│ 06/02/2022 ┆ 3023   ┆ 05 16 20 10 ┆ 0510151620 ┆ … ┆ true        ┆ 24     ┆ 05_05_01_0 ┆ 11      │\n",
       "│            ┆        ┆ 15          ┆            ┆   ┆             ┆        ┆ 4          ┆         │\n",
       "└────────────┴────────┴─────────────┴────────────┴───┴─────────────┴────────┴────────────┴─────────┘"
      ]
     },
     "metadata": {},
     "output_type": "display_data"
    },
    {
     "data": {
      "text/html": [
       "<div><style>\n",
       ".dataframe > thead > tr,\n",
       ".dataframe > tbody > tr {\n",
       "  text-align: right;\n",
       "  white-space: pre-wrap;\n",
       "}\n",
       "</style>\n",
       "<small>shape: (86, 2)</small><table border=\"1\" class=\"dataframe\"><thead><tr><th>jumps_map</th><th>count</th></tr><tr><td>str</td><td>u32</td></tr></thead><tbody><tr><td>&quot;12_03_01_03&quot;</td><td>2</td></tr><tr><td>&quot;01_01_01_07&quot;</td><td>1</td></tr><tr><td>&quot;07_07_01_01&quot;</td><td>1</td></tr><tr><td>&quot;05_03_02_02&quot;</td><td>1</td></tr><tr><td>&quot;02_05_02_07&quot;</td><td>1</td></tr><tr><td>&hellip;</td><td>&hellip;</td></tr><tr><td>&quot;05_02_02_05&quot;</td><td>1</td></tr><tr><td>&quot;03_03_07_02&quot;</td><td>1</td></tr><tr><td>&quot;01_03_06_05&quot;</td><td>1</td></tr><tr><td>&quot;02_02_08_05&quot;</td><td>1</td></tr><tr><td>&quot;01_04_11_02&quot;</td><td>1</td></tr></tbody></table></div>"
      ],
      "text/plain": [
       "shape: (86, 2)\n",
       "┌─────────────┬───────┐\n",
       "│ jumps_map   ┆ count │\n",
       "│ ---         ┆ ---   │\n",
       "│ str         ┆ u32   │\n",
       "╞═════════════╪═══════╡\n",
       "│ 12_03_01_03 ┆ 2     │\n",
       "│ 01_01_01_07 ┆ 1     │\n",
       "│ 07_07_01_01 ┆ 1     │\n",
       "│ 05_03_02_02 ┆ 1     │\n",
       "│ 02_05_02_07 ┆ 1     │\n",
       "│ …           ┆ …     │\n",
       "│ 05_02_02_05 ┆ 1     │\n",
       "│ 03_03_07_02 ┆ 1     │\n",
       "│ 01_03_06_05 ┆ 1     │\n",
       "│ 02_02_08_05 ┆ 1     │\n",
       "│ 01_04_11_02 ┆ 1     │\n",
       "└─────────────┴───────┘"
      ]
     },
     "metadata": {},
     "output_type": "display_data"
    }
   ],
   "source": [
    "possible_blast, exclude_jump_maps_blast = plot_post_col(col='str_b5', post_col='post_str_blast', test_value=\"20\")"
   ]
  },
  {
   "cell_type": "code",
   "execution_count": 74,
   "metadata": {},
   "outputs": [],
   "source": [
    "b_count = rr.CHOOSE\n",
    "min_b = rr.MIN_B_VALUES[0]\n",
    "max_b = rr.MAX_B_VALUES[-1]\n",
    "\n",
    "\n",
    "combos = combinations(range(min_b, max_b + 1), b_count)\n",
    "# print(\"generating combos: \", len(list(combos)))"
   ]
  },
  {
   "cell_type": "code",
   "execution_count": 75,
   "metadata": {},
   "outputs": [
    {
     "name": "stdout",
     "output_type": "stream",
     "text": [
      "TOTAL_LINES=324632\n"
     ]
    },
    {
     "data": {
      "text/html": [
       "<div><style>\n",
       ".dataframe > thead > tr,\n",
       ".dataframe > tbody > tr {\n",
       "  text-align: right;\n",
       "  white-space: pre-wrap;\n",
       "}\n",
       "</style>\n",
       "<small>shape: (10, 18)</small><table border=\"1\" class=\"dataframe\"><thead><tr><th>id</th><th>combo</th><th>b1</th><th>b2</th><th>b3</th><th>b4</th><th>b5</th><th>str_b1</th><th>str_b2</th><th>str_b3</th><th>str_b4</th><th>str_b5</th><th>post_str_b1</th><th>post_str_blast</th><th>is_rare_combination</th><th>reason</th><th>jumps_map</th><th>unijump</th></tr><tr><td>str</td><td>array[u8, 5]</td><td>u8</td><td>u8</td><td>u8</td><td>u8</td><td>u8</td><td>str</td><td>str</td><td>str</td><td>str</td><td>str</td><td>str</td><td>str</td><td>bool</td><td>u8</td><td>str</td><td>i64</td></tr></thead><tbody><tr><td>&quot;0102030405&quot;</td><td>[1, 2, … 5]</td><td>1</td><td>2</td><td>3</td><td>4</td><td>5</td><td>&quot;01&quot;</td><td>&quot;02&quot;</td><td>&quot;03&quot;</td><td>&quot;04&quot;</td><td>&quot;05&quot;</td><td>null</td><td>null</td><td>true</td><td>8</td><td>&quot;01_01_01_01&quot;</td><td>0</td></tr><tr><td>&quot;0102030406&quot;</td><td>[1, 2, … 6]</td><td>1</td><td>2</td><td>3</td><td>4</td><td>6</td><td>&quot;01&quot;</td><td>&quot;02&quot;</td><td>&quot;03&quot;</td><td>&quot;04&quot;</td><td>&quot;06&quot;</td><td>&quot;01&quot;</td><td>&quot;05&quot;</td><td>true</td><td>8</td><td>&quot;01_01_01_02&quot;</td><td>1</td></tr><tr><td>&quot;0102030407&quot;</td><td>[1, 2, … 7]</td><td>1</td><td>2</td><td>3</td><td>4</td><td>7</td><td>&quot;01&quot;</td><td>&quot;02&quot;</td><td>&quot;03&quot;</td><td>&quot;04&quot;</td><td>&quot;07&quot;</td><td>&quot;01&quot;</td><td>&quot;06&quot;</td><td>true</td><td>8</td><td>&quot;01_01_01_03&quot;</td><td>2</td></tr><tr><td>&quot;0102030408&quot;</td><td>[1, 2, … 8]</td><td>1</td><td>2</td><td>3</td><td>4</td><td>8</td><td>&quot;01&quot;</td><td>&quot;02&quot;</td><td>&quot;03&quot;</td><td>&quot;04&quot;</td><td>&quot;08&quot;</td><td>&quot;01&quot;</td><td>&quot;07&quot;</td><td>true</td><td>8</td><td>&quot;01_01_01_04&quot;</td><td>3</td></tr><tr><td>&quot;0102030409&quot;</td><td>[1, 2, … 9]</td><td>1</td><td>2</td><td>3</td><td>4</td><td>9</td><td>&quot;01&quot;</td><td>&quot;02&quot;</td><td>&quot;03&quot;</td><td>&quot;04&quot;</td><td>&quot;09&quot;</td><td>&quot;01&quot;</td><td>&quot;08&quot;</td><td>true</td><td>8</td><td>&quot;01_01_01_05&quot;</td><td>4</td></tr><tr><td>&quot;0102030410&quot;</td><td>[1, 2, … 10]</td><td>1</td><td>2</td><td>3</td><td>4</td><td>10</td><td>&quot;01&quot;</td><td>&quot;02&quot;</td><td>&quot;03&quot;</td><td>&quot;04&quot;</td><td>&quot;10&quot;</td><td>&quot;01&quot;</td><td>&quot;09&quot;</td><td>true</td><td>8</td><td>&quot;01_01_01_06&quot;</td><td>5</td></tr><tr><td>&quot;0102030411&quot;</td><td>[1, 2, … 11]</td><td>1</td><td>2</td><td>3</td><td>4</td><td>11</td><td>&quot;01&quot;</td><td>&quot;02&quot;</td><td>&quot;03&quot;</td><td>&quot;04&quot;</td><td>&quot;11&quot;</td><td>&quot;01&quot;</td><td>&quot;10&quot;</td><td>true</td><td>8</td><td>&quot;01_01_01_07&quot;</td><td>6</td></tr><tr><td>&quot;0102030412&quot;</td><td>[1, 2, … 12]</td><td>1</td><td>2</td><td>3</td><td>4</td><td>12</td><td>&quot;01&quot;</td><td>&quot;02&quot;</td><td>&quot;03&quot;</td><td>&quot;04&quot;</td><td>&quot;12&quot;</td><td>&quot;01&quot;</td><td>&quot;11&quot;</td><td>true</td><td>8</td><td>&quot;01_01_01_08&quot;</td><td>7</td></tr><tr><td>&quot;0102030413&quot;</td><td>[1, 2, … 13]</td><td>1</td><td>2</td><td>3</td><td>4</td><td>13</td><td>&quot;01&quot;</td><td>&quot;02&quot;</td><td>&quot;03&quot;</td><td>&quot;04&quot;</td><td>&quot;13&quot;</td><td>&quot;01&quot;</td><td>&quot;12&quot;</td><td>true</td><td>8</td><td>&quot;01_01_01_09&quot;</td><td>8</td></tr><tr><td>&quot;0102030414&quot;</td><td>[1, 2, … 14]</td><td>1</td><td>2</td><td>3</td><td>4</td><td>14</td><td>&quot;01&quot;</td><td>&quot;02&quot;</td><td>&quot;03&quot;</td><td>&quot;04&quot;</td><td>&quot;14&quot;</td><td>&quot;01&quot;</td><td>&quot;13&quot;</td><td>true</td><td>8</td><td>&quot;01_01_01_10&quot;</td><td>9</td></tr></tbody></table></div>"
      ],
      "text/plain": [
       "shape: (10, 18)\n",
       "┌────────────┬──────────────┬─────┬─────┬───┬─────────────────────┬────────┬─────────────┬─────────┐\n",
       "│ id         ┆ combo        ┆ b1  ┆ b2  ┆ … ┆ is_rare_combination ┆ reason ┆ jumps_map   ┆ unijump │\n",
       "│ ---        ┆ ---          ┆ --- ┆ --- ┆   ┆ ---                 ┆ ---    ┆ ---         ┆ ---     │\n",
       "│ str        ┆ array[u8, 5] ┆ u8  ┆ u8  ┆   ┆ bool                ┆ u8     ┆ str         ┆ i64     │\n",
       "╞════════════╪══════════════╪═════╪═════╪═══╪═════════════════════╪════════╪═════════════╪═════════╡\n",
       "│ 0102030405 ┆ [1, 2, … 5]  ┆ 1   ┆ 2   ┆ … ┆ true                ┆ 8      ┆ 01_01_01_01 ┆ 0       │\n",
       "│ 0102030406 ┆ [1, 2, … 6]  ┆ 1   ┆ 2   ┆ … ┆ true                ┆ 8      ┆ 01_01_01_02 ┆ 1       │\n",
       "│ 0102030407 ┆ [1, 2, … 7]  ┆ 1   ┆ 2   ┆ … ┆ true                ┆ 8      ┆ 01_01_01_03 ┆ 2       │\n",
       "│ 0102030408 ┆ [1, 2, … 8]  ┆ 1   ┆ 2   ┆ … ┆ true                ┆ 8      ┆ 01_01_01_04 ┆ 3       │\n",
       "│ 0102030409 ┆ [1, 2, … 9]  ┆ 1   ┆ 2   ┆ … ┆ true                ┆ 8      ┆ 01_01_01_05 ┆ 4       │\n",
       "│ 0102030410 ┆ [1, 2, … 10] ┆ 1   ┆ 2   ┆ … ┆ true                ┆ 8      ┆ 01_01_01_06 ┆ 5       │\n",
       "│ 0102030411 ┆ [1, 2, … 11] ┆ 1   ┆ 2   ┆ … ┆ true                ┆ 8      ┆ 01_01_01_07 ┆ 6       │\n",
       "│ 0102030412 ┆ [1, 2, … 12] ┆ 1   ┆ 2   ┆ … ┆ true                ┆ 8      ┆ 01_01_01_08 ┆ 7       │\n",
       "│ 0102030413 ┆ [1, 2, … 13] ┆ 1   ┆ 2   ┆ … ┆ true                ┆ 8      ┆ 01_01_01_09 ┆ 8       │\n",
       "│ 0102030414 ┆ [1, 2, … 14] ┆ 1   ┆ 2   ┆ … ┆ true                ┆ 8      ┆ 01_01_01_10 ┆ 9       │\n",
       "└────────────┴──────────────┴─────┴─────┴───┴─────────────────────┴────────┴─────────────┴─────────┘"
      ]
     },
     "metadata": {},
     "output_type": "display_data"
    }
   ],
   "source": [
    "lst = []\n",
    "post_str_b1 = None\n",
    "post_str_blast = None\n",
    "for row in combos:\n",
    "  cols = []\n",
    "  str_row = \" \".join([str(r).zfill(2) for r in row])\n",
    "  id, bolillas_int, str_combo = formalize_data_with_str(bolillas_str=str_row)\n",
    "  cols.append(id)\n",
    "  cols.append(bolillas_int)\n",
    "  cols.extend([b for b in bolillas_int])\n",
    "  cols.extend(str_combo)\n",
    "  cols.append(post_str_b1)\n",
    "  cols.append(post_str_blast)\n",
    "\n",
    "  is_rare, reason = rr.is_rare_combination(bolillas_int, id)\n",
    "  cols.append(is_rare)\n",
    "  cols.append(reason)\n",
    "\n",
    "  cols.append(rr.jumps_map(bolillas_int))\n",
    "  cols.append(rr.unijump(bolillas_int))\n",
    "  \n",
    "  lst.append(cols)\n",
    "\n",
    "  post_str_b1 = str_combo[0]\n",
    "  post_str_blast = str_combo[-1]\n",
    "\n",
    "with open('./gn_cahe_v3.json', 'w') as file: \n",
    "  json.dump(lst, file)\n",
    "\n",
    "df_Orows = pl.DataFrame(\n",
    "  lst,\n",
    "  schema=[\n",
    "    # 'fecha', 'sorteo', 'bolillas',\n",
    "    'id', 'combo', 'b1', 'b2', 'b3', 'b4', 'b5',\n",
    "    'str_b1', 'str_b2', 'str_b3', 'str_b4', 'str_b5',\n",
    "    'post_str_b1', 'post_str_blast',\n",
    "    'is_rare_combination', 'reason',\n",
    "    \"jumps_map\", \"unijump\"\n",
    "  ],\n",
    "  schema_overrides={\n",
    "    'combo': pl.Array(pl.UInt8, 5),\n",
    "    'b1': pl.UInt8,\n",
    "    'b2': pl.UInt8,\n",
    "    'b3': pl.UInt8,\n",
    "    'b4': pl.UInt8,\n",
    "    'b5': pl.UInt8,\n",
    "    'b6': pl.UInt8,\n",
    "    'reason': pl.UInt8\n",
    "  },\n",
    "  orient='row'\n",
    ")\n",
    "\n",
    "TOTAL_LINES = len(df_Orows)\n",
    "print(f'{TOTAL_LINES=}')\n",
    "display(df_Orows.head(10))"
   ]
  },
  {
   "cell_type": "code",
   "execution_count": 76,
   "metadata": {},
   "outputs": [
    {
     "data": {
      "text/html": [
       "<div><style>\n",
       ".dataframe > thead > tr,\n",
       ".dataframe > tbody > tr {\n",
       "  text-align: right;\n",
       "  white-space: pre-wrap;\n",
       "}\n",
       "</style>\n",
       "<small>shape: (160_296, 18)</small><table border=\"1\" class=\"dataframe\"><thead><tr><th>id</th><th>combo</th><th>b1</th><th>b2</th><th>b3</th><th>b4</th><th>b5</th><th>str_b1</th><th>str_b2</th><th>str_b3</th><th>str_b4</th><th>str_b5</th><th>post_str_b1</th><th>post_str_blast</th><th>is_rare_combination</th><th>reason</th><th>jumps_map</th><th>unijump</th></tr><tr><td>str</td><td>array[u8, 5]</td><td>u8</td><td>u8</td><td>u8</td><td>u8</td><td>u8</td><td>str</td><td>str</td><td>str</td><td>str</td><td>str</td><td>str</td><td>str</td><td>bool</td><td>u8</td><td>str</td><td>i64</td></tr></thead><tbody><tr><td>&quot;0102040513&quot;</td><td>[1, 2, … 13]</td><td>1</td><td>2</td><td>4</td><td>5</td><td>13</td><td>&quot;01&quot;</td><td>&quot;02&quot;</td><td>&quot;04&quot;</td><td>&quot;05&quot;</td><td>&quot;13&quot;</td><td>&quot;01&quot;</td><td>&quot;12&quot;</td><td>false</td><td>0</td><td>&quot;01_02_01_08&quot;</td><td>10</td></tr><tr><td>&quot;0102040523&quot;</td><td>[1, 2, … 23]</td><td>1</td><td>2</td><td>4</td><td>5</td><td>23</td><td>&quot;01&quot;</td><td>&quot;02&quot;</td><td>&quot;04&quot;</td><td>&quot;05&quot;</td><td>&quot;23&quot;</td><td>&quot;01&quot;</td><td>&quot;22&quot;</td><td>false</td><td>0</td><td>&quot;01_02_01_18&quot;</td><td>20</td></tr><tr><td>&quot;0102040530&quot;</td><td>[1, 2, … 30]</td><td>1</td><td>2</td><td>4</td><td>5</td><td>30</td><td>&quot;01&quot;</td><td>&quot;02&quot;</td><td>&quot;04&quot;</td><td>&quot;05&quot;</td><td>&quot;30&quot;</td><td>&quot;01&quot;</td><td>&quot;29&quot;</td><td>false</td><td>0</td><td>&quot;01_02_01_25&quot;</td><td>27</td></tr><tr><td>&quot;0102040531&quot;</td><td>[1, 2, … 31]</td><td>1</td><td>2</td><td>4</td><td>5</td><td>31</td><td>&quot;01&quot;</td><td>&quot;02&quot;</td><td>&quot;04&quot;</td><td>&quot;05&quot;</td><td>&quot;31&quot;</td><td>&quot;01&quot;</td><td>&quot;30&quot;</td><td>false</td><td>0</td><td>&quot;01_02_01_26&quot;</td><td>28</td></tr><tr><td>&quot;0102040532&quot;</td><td>[1, 2, … 32]</td><td>1</td><td>2</td><td>4</td><td>5</td><td>32</td><td>&quot;01&quot;</td><td>&quot;02&quot;</td><td>&quot;04&quot;</td><td>&quot;05&quot;</td><td>&quot;32&quot;</td><td>&quot;01&quot;</td><td>&quot;31&quot;</td><td>false</td><td>0</td><td>&quot;01_02_01_27&quot;</td><td>29</td></tr><tr><td>&hellip;</td><td>&hellip;</td><td>&hellip;</td><td>&hellip;</td><td>&hellip;</td><td>&hellip;</td><td>&hellip;</td><td>&hellip;</td><td>&hellip;</td><td>&hellip;</td><td>&hellip;</td><td>&hellip;</td><td>&hellip;</td><td>&hellip;</td><td>&hellip;</td><td>&hellip;</td><td>&hellip;</td><td>&hellip;</td></tr><tr><td>&quot;2829313435&quot;</td><td>[28, 29, … 35]</td><td>28</td><td>29</td><td>31</td><td>34</td><td>35</td><td>&quot;28&quot;</td><td>&quot;29&quot;</td><td>&quot;31&quot;</td><td>&quot;34&quot;</td><td>&quot;35&quot;</td><td>&quot;28&quot;</td><td>&quot;35&quot;</td><td>false</td><td>0</td><td>&quot;01_02_03_01&quot;</td><td>-3</td></tr><tr><td>&quot;2830313334&quot;</td><td>[28, 30, … 34]</td><td>28</td><td>30</td><td>31</td><td>33</td><td>34</td><td>&quot;28&quot;</td><td>&quot;30&quot;</td><td>&quot;31&quot;</td><td>&quot;33&quot;</td><td>&quot;34&quot;</td><td>&quot;28&quot;</td><td>&quot;35&quot;</td><td>false</td><td>0</td><td>&quot;02_01_02_01&quot;</td><td>-4</td></tr><tr><td>&quot;2830313435&quot;</td><td>[28, 30, … 35]</td><td>28</td><td>30</td><td>31</td><td>34</td><td>35</td><td>&quot;28&quot;</td><td>&quot;30&quot;</td><td>&quot;31&quot;</td><td>&quot;34&quot;</td><td>&quot;35&quot;</td><td>&quot;28&quot;</td><td>&quot;35&quot;</td><td>false</td><td>0</td><td>&quot;02_01_03_01&quot;</td><td>-7</td></tr><tr><td>&quot;2831323435&quot;</td><td>[28, 31, … 35]</td><td>28</td><td>31</td><td>32</td><td>34</td><td>35</td><td>&quot;28&quot;</td><td>&quot;31&quot;</td><td>&quot;32&quot;</td><td>&quot;34&quot;</td><td>&quot;35&quot;</td><td>&quot;28&quot;</td><td>&quot;35&quot;</td><td>false</td><td>0</td><td>&quot;03_01_02_01&quot;</td><td>-5</td></tr><tr><td>&quot;2931323435&quot;</td><td>[29, 31, … 35]</td><td>29</td><td>31</td><td>32</td><td>34</td><td>35</td><td>&quot;29&quot;</td><td>&quot;31&quot;</td><td>&quot;32&quot;</td><td>&quot;34&quot;</td><td>&quot;35&quot;</td><td>&quot;29&quot;</td><td>&quot;35&quot;</td><td>false</td><td>0</td><td>&quot;02_01_02_01&quot;</td><td>-4</td></tr></tbody></table></div>"
      ],
      "text/plain": [
       "shape: (160_296, 18)\n",
       "┌────────────┬────────────────┬─────┬─────┬───┬───────────────────┬────────┬─────────────┬─────────┐\n",
       "│ id         ┆ combo          ┆ b1  ┆ b2  ┆ … ┆ is_rare_combinati ┆ reason ┆ jumps_map   ┆ unijump │\n",
       "│ ---        ┆ ---            ┆ --- ┆ --- ┆   ┆ on                ┆ ---    ┆ ---         ┆ ---     │\n",
       "│ str        ┆ array[u8, 5]   ┆ u8  ┆ u8  ┆   ┆ ---               ┆ u8     ┆ str         ┆ i64     │\n",
       "│            ┆                ┆     ┆     ┆   ┆ bool              ┆        ┆             ┆         │\n",
       "╞════════════╪════════════════╪═════╪═════╪═══╪═══════════════════╪════════╪═════════════╪═════════╡\n",
       "│ 0102040513 ┆ [1, 2, … 13]   ┆ 1   ┆ 2   ┆ … ┆ false             ┆ 0      ┆ 01_02_01_08 ┆ 10      │\n",
       "│ 0102040523 ┆ [1, 2, … 23]   ┆ 1   ┆ 2   ┆ … ┆ false             ┆ 0      ┆ 01_02_01_18 ┆ 20      │\n",
       "│ 0102040530 ┆ [1, 2, … 30]   ┆ 1   ┆ 2   ┆ … ┆ false             ┆ 0      ┆ 01_02_01_25 ┆ 27      │\n",
       "│ 0102040531 ┆ [1, 2, … 31]   ┆ 1   ┆ 2   ┆ … ┆ false             ┆ 0      ┆ 01_02_01_26 ┆ 28      │\n",
       "│ 0102040532 ┆ [1, 2, … 32]   ┆ 1   ┆ 2   ┆ … ┆ false             ┆ 0      ┆ 01_02_01_27 ┆ 29      │\n",
       "│ …          ┆ …              ┆ …   ┆ …   ┆ … ┆ …                 ┆ …      ┆ …           ┆ …       │\n",
       "│ 2829313435 ┆ [28, 29, … 35] ┆ 28  ┆ 29  ┆ … ┆ false             ┆ 0      ┆ 01_02_03_01 ┆ -3      │\n",
       "│ 2830313334 ┆ [28, 30, … 34] ┆ 28  ┆ 30  ┆ … ┆ false             ┆ 0      ┆ 02_01_02_01 ┆ -4      │\n",
       "│ 2830313435 ┆ [28, 30, … 35] ┆ 28  ┆ 30  ┆ … ┆ false             ┆ 0      ┆ 02_01_03_01 ┆ -7      │\n",
       "│ 2831323435 ┆ [28, 31, … 35] ┆ 28  ┆ 31  ┆ … ┆ false             ┆ 0      ┆ 03_01_02_01 ┆ -5      │\n",
       "│ 2931323435 ┆ [29, 31, … 35] ┆ 29  ┆ 31  ┆ … ┆ false             ┆ 0      ┆ 02_01_02_01 ┆ -4      │\n",
       "└────────────┴────────────────┴─────┴─────┴───┴───────────────────┴────────┴─────────────┴─────────┘"
      ]
     },
     "execution_count": 76,
     "metadata": {},
     "output_type": "execute_result"
    }
   ],
   "source": [
    "df_Orows.filter(is_rare_combination=False)"
   ]
  },
  {
   "cell_type": "code",
   "execution_count": null,
   "metadata": {},
   "outputs": [
    {
     "data": {
      "text/html": [
       "<div><style>\n",
       ".dataframe > thead > tr,\n",
       ".dataframe > tbody > tr {\n",
       "  text-align: right;\n",
       "  white-space: pre-wrap;\n",
       "}\n",
       "</style>\n",
       "<small>shape: (106_557, 18)</small><table border=\"1\" class=\"dataframe\"><thead><tr><th>id</th><th>combo</th><th>b1</th><th>b2</th><th>b3</th><th>b4</th><th>b5</th><th>str_b1</th><th>str_b2</th><th>str_b3</th><th>str_b4</th><th>str_b5</th><th>post_str_b1</th><th>post_str_blast</th><th>is_rare_combination</th><th>reason</th><th>jumps_map</th><th>unijump</th></tr><tr><td>str</td><td>array[u8, 5]</td><td>u8</td><td>u8</td><td>u8</td><td>u8</td><td>u8</td><td>str</td><td>str</td><td>str</td><td>str</td><td>str</td><td>str</td><td>str</td><td>bool</td><td>u8</td><td>str</td><td>i64</td></tr></thead><tbody><tr><td>&quot;0102040523&quot;</td><td>[1, 2, … 23]</td><td>1</td><td>2</td><td>4</td><td>5</td><td>23</td><td>&quot;01&quot;</td><td>&quot;02&quot;</td><td>&quot;04&quot;</td><td>&quot;05&quot;</td><td>&quot;23&quot;</td><td>&quot;01&quot;</td><td>&quot;22&quot;</td><td>false</td><td>0</td><td>&quot;01_02_01_18&quot;</td><td>20</td></tr><tr><td>&quot;0102040530&quot;</td><td>[1, 2, … 30]</td><td>1</td><td>2</td><td>4</td><td>5</td><td>30</td><td>&quot;01&quot;</td><td>&quot;02&quot;</td><td>&quot;04&quot;</td><td>&quot;05&quot;</td><td>&quot;30&quot;</td><td>&quot;01&quot;</td><td>&quot;29&quot;</td><td>false</td><td>0</td><td>&quot;01_02_01_25&quot;</td><td>27</td></tr><tr><td>&quot;0102040531&quot;</td><td>[1, 2, … 31]</td><td>1</td><td>2</td><td>4</td><td>5</td><td>31</td><td>&quot;01&quot;</td><td>&quot;02&quot;</td><td>&quot;04&quot;</td><td>&quot;05&quot;</td><td>&quot;31&quot;</td><td>&quot;01&quot;</td><td>&quot;30&quot;</td><td>false</td><td>0</td><td>&quot;01_02_01_26&quot;</td><td>28</td></tr><tr><td>&quot;0102040532&quot;</td><td>[1, 2, … 32]</td><td>1</td><td>2</td><td>4</td><td>5</td><td>32</td><td>&quot;01&quot;</td><td>&quot;02&quot;</td><td>&quot;04&quot;</td><td>&quot;05&quot;</td><td>&quot;32&quot;</td><td>&quot;01&quot;</td><td>&quot;31&quot;</td><td>false</td><td>0</td><td>&quot;01_02_01_27&quot;</td><td>29</td></tr><tr><td>&quot;0102040533&quot;</td><td>[1, 2, … 33]</td><td>1</td><td>2</td><td>4</td><td>5</td><td>33</td><td>&quot;01&quot;</td><td>&quot;02&quot;</td><td>&quot;04&quot;</td><td>&quot;05&quot;</td><td>&quot;33&quot;</td><td>&quot;01&quot;</td><td>&quot;32&quot;</td><td>false</td><td>0</td><td>&quot;01_02_01_28&quot;</td><td>30</td></tr><tr><td>&hellip;</td><td>&hellip;</td><td>&hellip;</td><td>&hellip;</td><td>&hellip;</td><td>&hellip;</td><td>&hellip;</td><td>&hellip;</td><td>&hellip;</td><td>&hellip;</td><td>&hellip;</td><td>&hellip;</td><td>&hellip;</td><td>&hellip;</td><td>&hellip;</td><td>&hellip;</td><td>&hellip;</td><td>&hellip;</td></tr><tr><td>&quot;1029313435&quot;</td><td>[10, 29, … 35]</td><td>10</td><td>29</td><td>31</td><td>34</td><td>35</td><td>&quot;10&quot;</td><td>&quot;29&quot;</td><td>&quot;31&quot;</td><td>&quot;34&quot;</td><td>&quot;35&quot;</td><td>&quot;10&quot;</td><td>&quot;35&quot;</td><td>false</td><td>0</td><td>&quot;19_02_03_01&quot;</td><td>-21</td></tr><tr><td>&quot;1029323335&quot;</td><td>[10, 29, … 35]</td><td>10</td><td>29</td><td>32</td><td>33</td><td>35</td><td>&quot;10&quot;</td><td>&quot;29&quot;</td><td>&quot;32&quot;</td><td>&quot;33&quot;</td><td>&quot;35&quot;</td><td>&quot;10&quot;</td><td>&quot;34&quot;</td><td>false</td><td>0</td><td>&quot;19_03_01_02&quot;</td><td>-11</td></tr><tr><td>&quot;1029323435&quot;</td><td>[10, 29, … 35]</td><td>10</td><td>29</td><td>32</td><td>34</td><td>35</td><td>&quot;10&quot;</td><td>&quot;29&quot;</td><td>&quot;32&quot;</td><td>&quot;34&quot;</td><td>&quot;35&quot;</td><td>&quot;10&quot;</td><td>&quot;35&quot;</td><td>false</td><td>0</td><td>&quot;19_03_02_01&quot;</td><td>-15</td></tr><tr><td>&quot;1030323335&quot;</td><td>[10, 30, … 35]</td><td>10</td><td>30</td><td>32</td><td>33</td><td>35</td><td>&quot;10&quot;</td><td>&quot;30&quot;</td><td>&quot;32&quot;</td><td>&quot;33&quot;</td><td>&quot;35&quot;</td><td>&quot;10&quot;</td><td>&quot;34&quot;</td><td>false</td><td>0</td><td>&quot;20_02_01_02&quot;</td><td>-15</td></tr><tr><td>&quot;1031323435&quot;</td><td>[10, 31, … 35]</td><td>10</td><td>31</td><td>32</td><td>34</td><td>35</td><td>&quot;10&quot;</td><td>&quot;31&quot;</td><td>&quot;32&quot;</td><td>&quot;34&quot;</td><td>&quot;35&quot;</td><td>&quot;10&quot;</td><td>&quot;35&quot;</td><td>false</td><td>0</td><td>&quot;21_01_02_01&quot;</td><td>-23</td></tr></tbody></table></div>"
      ],
      "text/plain": [
       "shape: (106_557, 18)\n",
       "┌────────────┬────────────────┬─────┬─────┬───┬───────────────────┬────────┬─────────────┬─────────┐\n",
       "│ id         ┆ combo          ┆ b1  ┆ b2  ┆ … ┆ is_rare_combinati ┆ reason ┆ jumps_map   ┆ unijump │\n",
       "│ ---        ┆ ---            ┆ --- ┆ --- ┆   ┆ on                ┆ ---    ┆ ---         ┆ ---     │\n",
       "│ str        ┆ array[u8, 5]   ┆ u8  ┆ u8  ┆   ┆ ---               ┆ u8     ┆ str         ┆ i64     │\n",
       "│            ┆                ┆     ┆     ┆   ┆ bool              ┆        ┆             ┆         │\n",
       "╞════════════╪════════════════╪═════╪═════╪═══╪═══════════════════╪════════╪═════════════╪═════════╡\n",
       "│ 0102040523 ┆ [1, 2, … 23]   ┆ 1   ┆ 2   ┆ … ┆ false             ┆ 0      ┆ 01_02_01_18 ┆ 20      │\n",
       "│ 0102040530 ┆ [1, 2, … 30]   ┆ 1   ┆ 2   ┆ … ┆ false             ┆ 0      ┆ 01_02_01_25 ┆ 27      │\n",
       "│ 0102040531 ┆ [1, 2, … 31]   ┆ 1   ┆ 2   ┆ … ┆ false             ┆ 0      ┆ 01_02_01_26 ┆ 28      │\n",
       "│ 0102040532 ┆ [1, 2, … 32]   ┆ 1   ┆ 2   ┆ … ┆ false             ┆ 0      ┆ 01_02_01_27 ┆ 29      │\n",
       "│ 0102040533 ┆ [1, 2, … 33]   ┆ 1   ┆ 2   ┆ … ┆ false             ┆ 0      ┆ 01_02_01_28 ┆ 30      │\n",
       "│ …          ┆ …              ┆ …   ┆ …   ┆ … ┆ …                 ┆ …      ┆ …           ┆ …       │\n",
       "│ 1029313435 ┆ [10, 29, … 35] ┆ 10  ┆ 29  ┆ … ┆ false             ┆ 0      ┆ 19_02_03_01 ┆ -21     │\n",
       "│ 1029323335 ┆ [10, 29, … 35] ┆ 10  ┆ 29  ┆ … ┆ false             ┆ 0      ┆ 19_03_01_02 ┆ -11     │\n",
       "│ 1029323435 ┆ [10, 29, … 35] ┆ 10  ┆ 29  ┆ … ┆ false             ┆ 0      ┆ 19_03_02_01 ┆ -15     │\n",
       "│ 1030323335 ┆ [10, 30, … 35] ┆ 10  ┆ 30  ┆ … ┆ false             ┆ 0      ┆ 20_02_01_02 ┆ -15     │\n",
       "│ 1031323435 ┆ [10, 31, … 35] ┆ 10  ┆ 31  ┆ … ┆ false             ┆ 0      ┆ 21_01_02_01 ┆ -23     │\n",
       "└────────────┴────────────────┴─────┴─────┴───┴───────────────────┴────────┴─────────────┴─────────┘"
      ]
     },
     "execution_count": 81,
     "metadata": {},
     "output_type": "execute_result"
    }
   ],
   "source": [
    "# possible_b1, exclude_jump_maps_b1\n",
    "\n",
    "df_possible = df_Orows.filter(\n",
    "  pl.col(\"str_b1\").is_in(possible_b1),\n",
    "  ~pl.col(\"jumps_map\").is_in(exclude_jump_maps_b1 + exclude_jump_maps_blast),\n",
    "  pl.col(\"str_b5\").is_in(possible_blast),\n",
    "  pl.col(\"is_rare_combination\") == False\n",
    ")\n",
    "\n",
    "df_possible"
   ]
  },
  {
   "cell_type": "code",
   "execution_count": 108,
   "metadata": {},
   "outputs": [
    {
     "data": {
      "text/html": [
       "<div><style>\n",
       ".dataframe > thead > tr,\n",
       ".dataframe > tbody > tr {\n",
       "  text-align: right;\n",
       "  white-space: pre-wrap;\n",
       "}\n",
       "</style>\n",
       "<small>shape: (1, 18)</small><table border=\"1\" class=\"dataframe\"><thead><tr><th>id</th><th>combo</th><th>b1</th><th>b2</th><th>b3</th><th>b4</th><th>b5</th><th>str_b1</th><th>str_b2</th><th>str_b3</th><th>str_b4</th><th>str_b5</th><th>post_str_b1</th><th>post_str_blast</th><th>is_rare_combination</th><th>reason</th><th>jumps_map</th><th>unijump</th></tr><tr><td>str</td><td>array[u8, 5]</td><td>u8</td><td>u8</td><td>u8</td><td>u8</td><td>u8</td><td>str</td><td>str</td><td>str</td><td>str</td><td>str</td><td>str</td><td>str</td><td>bool</td><td>u8</td><td>str</td><td>i64</td></tr></thead><tbody><tr><td>&quot;0306101629&quot;</td><td>[3, 6, … 29]</td><td>3</td><td>6</td><td>10</td><td>16</td><td>29</td><td>&quot;03&quot;</td><td>&quot;06&quot;</td><td>&quot;10&quot;</td><td>&quot;16&quot;</td><td>&quot;29&quot;</td><td>&quot;03&quot;</td><td>&quot;28&quot;</td><td>false</td><td>0</td><td>&quot;03_04_06_13&quot;</td><td>4</td></tr></tbody></table></div>"
      ],
      "text/plain": [
       "shape: (1, 18)\n",
       "┌────────────┬──────────────┬─────┬─────┬───┬─────────────────────┬────────┬─────────────┬─────────┐\n",
       "│ id         ┆ combo        ┆ b1  ┆ b2  ┆ … ┆ is_rare_combination ┆ reason ┆ jumps_map   ┆ unijump │\n",
       "│ ---        ┆ ---          ┆ --- ┆ --- ┆   ┆ ---                 ┆ ---    ┆ ---         ┆ ---     │\n",
       "│ str        ┆ array[u8, 5] ┆ u8  ┆ u8  ┆   ┆ bool                ┆ u8     ┆ str         ┆ i64     │\n",
       "╞════════════╪══════════════╪═════╪═════╪═══╪═════════════════════╪════════╪═════════════╪═════════╡\n",
       "│ 0306101629 ┆ [3, 6, … 29] ┆ 3   ┆ 6   ┆ … ┆ false               ┆ 0      ┆ 03_04_06_13 ┆ 4       │\n",
       "└────────────┴──────────────┴─────┴─────┴───┴─────────────────────┴────────┴─────────────┴─────────┘"
      ]
     },
     "execution_count": 108,
     "metadata": {},
     "output_type": "execute_result"
    }
   ],
   "source": [
    "df_possible.sample(n=1)"
   ]
  }
 ],
 "metadata": {
  "kernelspec": {
   "display_name": ".venv",
   "language": "python",
   "name": "python3"
  },
  "language_info": {
   "codemirror_mode": {
    "name": "ipython",
    "version": 3
   },
   "file_extension": ".py",
   "mimetype": "text/x-python",
   "name": "python",
   "nbconvert_exporter": "python",
   "pygments_lexer": "ipython3",
   "version": "3.12.9"
  }
 },
 "nbformat": 4,
 "nbformat_minor": 2
}

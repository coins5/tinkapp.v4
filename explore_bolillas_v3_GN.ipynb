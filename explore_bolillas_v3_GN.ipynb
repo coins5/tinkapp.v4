{
 "cells": [
  {
   "cell_type": "code",
   "execution_count": 49,
   "metadata": {},
   "outputs": [
    {
     "data": {
      "text/html": [
       "<script type=\"esms-options\">{\"shimMode\": true}</script><style>*[data-root-id],\n",
       "*[data-root-id] > * {\n",
       "  box-sizing: border-box;\n",
       "  font-family: var(--jp-ui-font-family);\n",
       "  font-size: var(--jp-ui-font-size1);\n",
       "  color: var(--vscode-editor-foreground, var(--jp-ui-font-color1));\n",
       "}\n",
       "\n",
       "/* Override VSCode background color */\n",
       ".cell-output-ipywidget-background:has(\n",
       "    > .cell-output-ipywidget-background > .lm-Widget > *[data-root-id]\n",
       "  ),\n",
       ".cell-output-ipywidget-background:has(> .lm-Widget > *[data-root-id]) {\n",
       "  background-color: transparent !important;\n",
       "}\n",
       "</style>"
      ]
     },
     "metadata": {},
     "output_type": "display_data"
    },
    {
     "data": {
      "application/javascript": "(function(root) {\n  function now() {\n    return new Date();\n  }\n\n  const force = true;\n  const py_version = '3.7.2'.replace('rc', '-rc.').replace('.dev', '-dev.');\n  const reloading = false;\n  const Bokeh = root.Bokeh;\n\n  // Set a timeout for this load but only if we are not already initializing\n  if (typeof (root._bokeh_timeout) === \"undefined\" || (force || !root._bokeh_is_initializing)) {\n    root._bokeh_timeout = Date.now() + 5000;\n    root._bokeh_failed_load = false;\n  }\n\n  function run_callbacks() {\n    try {\n      root._bokeh_onload_callbacks.forEach(function(callback) {\n        if (callback != null)\n          callback();\n      });\n    } finally {\n      delete root._bokeh_onload_callbacks;\n    }\n    console.debug(\"Bokeh: all callbacks have finished\");\n  }\n\n  function load_libs(css_urls, js_urls, js_modules, js_exports, callback) {\n    if (css_urls == null) css_urls = [];\n    if (js_urls == null) js_urls = [];\n    if (js_modules == null) js_modules = [];\n    if (js_exports == null) js_exports = {};\n\n    root._bokeh_onload_callbacks.push(callback);\n\n    if (root._bokeh_is_loading > 0) {\n      // Don't load bokeh if it is still initializing\n      console.debug(\"Bokeh: BokehJS is being loaded, scheduling callback at\", now());\n      return null;\n    } else if (js_urls.length === 0 && js_modules.length === 0 && Object.keys(js_exports).length === 0) {\n      // There is nothing to load\n      run_callbacks();\n      return null;\n    }\n\n    function on_load() {\n      root._bokeh_is_loading--;\n      if (root._bokeh_is_loading === 0) {\n        console.debug(\"Bokeh: all BokehJS libraries/stylesheets loaded\");\n        run_callbacks()\n      }\n    }\n    window._bokeh_on_load = on_load\n\n    function on_error(e) {\n      const src_el = e.srcElement\n      console.error(\"failed to load \" + (src_el.href || src_el.src));\n    }\n\n    const skip = [];\n    if (window.requirejs) {\n      window.requirejs.config({'packages': {}, 'paths': {}, 'shim': {}});\n      root._bokeh_is_loading = css_urls.length + 0;\n    } else {\n      root._bokeh_is_loading = css_urls.length + js_urls.length + js_modules.length + Object.keys(js_exports).length;\n    }\n\n    const existing_stylesheets = []\n    const links = document.getElementsByTagName('link')\n    for (let i = 0; i < links.length; i++) {\n      const link = links[i]\n      if (link.href != null) {\n        existing_stylesheets.push(link.href)\n      }\n    }\n    for (let i = 0; i < css_urls.length; i++) {\n      const url = css_urls[i];\n      const escaped = encodeURI(url)\n      if (existing_stylesheets.indexOf(escaped) !== -1) {\n        on_load()\n        continue;\n      }\n      const element = document.createElement(\"link\");\n      element.onload = on_load;\n      element.onerror = on_error;\n      element.rel = \"stylesheet\";\n      element.type = \"text/css\";\n      element.href = url;\n      console.debug(\"Bokeh: injecting link tag for BokehJS stylesheet: \", url);\n      document.body.appendChild(element);\n    }    var existing_scripts = []\n    const scripts = document.getElementsByTagName('script')\n    for (let i = 0; i < scripts.length; i++) {\n      var script = scripts[i]\n      if (script.src != null) {\n        existing_scripts.push(script.src)\n      }\n    }\n    for (let i = 0; i < js_urls.length; i++) {\n      const url = js_urls[i];\n      const escaped = encodeURI(url)\n      if (skip.indexOf(escaped) !== -1 || existing_scripts.indexOf(escaped) !== -1) {\n        if (!window.requirejs) {\n          on_load();\n        }\n        continue;\n      }\n      const element = document.createElement('script');\n      element.onload = on_load;\n      element.onerror = on_error;\n      element.async = false;\n      element.src = url;\n      console.debug(\"Bokeh: injecting script tag for BokehJS library: \", url);\n      document.head.appendChild(element);\n    }\n    for (let i = 0; i < js_modules.length; i++) {\n      const url = js_modules[i];\n      const escaped = encodeURI(url)\n      if (skip.indexOf(escaped) !== -1 || existing_scripts.indexOf(escaped) !== -1) {\n        if (!window.requirejs) {\n          on_load();\n        }\n        continue;\n      }\n      var element = document.createElement('script');\n      element.onload = on_load;\n      element.onerror = on_error;\n      element.async = false;\n      element.src = url;\n      element.type = \"module\";\n      console.debug(\"Bokeh: injecting script tag for BokehJS library: \", url);\n      document.head.appendChild(element);\n    }\n    for (const name in js_exports) {\n      const url = js_exports[name];\n      const escaped = encodeURI(url)\n      if (skip.indexOf(escaped) >= 0 || root[name] != null) {\n        if (!window.requirejs) {\n          on_load();\n        }\n        continue;\n      }\n      var element = document.createElement('script');\n      element.onerror = on_error;\n      element.async = false;\n      element.type = \"module\";\n      console.debug(\"Bokeh: injecting script tag for BokehJS library: \", url);\n      element.textContent = `\n      import ${name} from \"${url}\"\n      window.${name} = ${name}\n      window._bokeh_on_load()\n      `\n      document.head.appendChild(element);\n    }\n    if (!js_urls.length && !js_modules.length) {\n      on_load()\n    }\n  };\n\n  function inject_raw_css(css) {\n    const element = document.createElement(\"style\");\n    element.appendChild(document.createTextNode(css));\n    document.body.appendChild(element);\n  }\n\n  const js_urls = [\"https://cdn.holoviz.org/panel/1.6.2/dist/bundled/reactiveesm/es-module-shims@^1.10.0/dist/es-module-shims.min.js\", \"https://cdn.bokeh.org/bokeh/release/bokeh-3.7.2.min.js\", \"https://cdn.bokeh.org/bokeh/release/bokeh-gl-3.7.2.min.js\", \"https://cdn.bokeh.org/bokeh/release/bokeh-widgets-3.7.2.min.js\", \"https://cdn.bokeh.org/bokeh/release/bokeh-tables-3.7.2.min.js\", \"https://cdn.holoviz.org/panel/1.6.2/dist/panel.min.js\"];\n  const js_modules = [];\n  const js_exports = {};\n  const css_urls = [];\n  const inline_js = [    function(Bokeh) {\n      Bokeh.set_log_level(\"info\");\n    },\nfunction(Bokeh) {} // ensure no trailing comma for IE\n  ];\n\n  function run_inline_js() {\n    if ((root.Bokeh !== undefined) || (force === true)) {\n      for (let i = 0; i < inline_js.length; i++) {\n        try {\n          inline_js[i].call(root, root.Bokeh);\n        } catch(e) {\n          if (!reloading) {\n            throw e;\n          }\n        }\n      }\n      // Cache old bokeh versions\n      if (Bokeh != undefined && !reloading) {\n        var NewBokeh = root.Bokeh;\n        if (Bokeh.versions === undefined) {\n          Bokeh.versions = new Map();\n        }\n        if (NewBokeh.version !== Bokeh.version) {\n          Bokeh.versions.set(NewBokeh.version, NewBokeh)\n        }\n        root.Bokeh = Bokeh;\n      }\n    } else if (Date.now() < root._bokeh_timeout) {\n      setTimeout(run_inline_js, 100);\n    } else if (!root._bokeh_failed_load) {\n      console.log(\"Bokeh: BokehJS failed to load within specified timeout.\");\n      root._bokeh_failed_load = true;\n    }\n    root._bokeh_is_initializing = false\n  }\n\n  function load_or_wait() {\n    // Implement a backoff loop that tries to ensure we do not load multiple\n    // versions of Bokeh and its dependencies at the same time.\n    // In recent versions we use the root._bokeh_is_initializing flag\n    // to determine whether there is an ongoing attempt to initialize\n    // bokeh, however for backward compatibility we also try to ensure\n    // that we do not start loading a newer (Panel>=1.0 and Bokeh>3) version\n    // before older versions are fully initialized.\n    if (root._bokeh_is_initializing && Date.now() > root._bokeh_timeout) {\n      // If the timeout and bokeh was not successfully loaded we reset\n      // everything and try loading again\n      root._bokeh_timeout = Date.now() + 5000;\n      root._bokeh_is_initializing = false;\n      root._bokeh_onload_callbacks = undefined;\n      root._bokeh_is_loading = 0\n      console.log(\"Bokeh: BokehJS was loaded multiple times but one version failed to initialize.\");\n      load_or_wait();\n    } else if (root._bokeh_is_initializing || (typeof root._bokeh_is_initializing === \"undefined\" && root._bokeh_onload_callbacks !== undefined)) {\n      setTimeout(load_or_wait, 100);\n    } else {\n      root._bokeh_is_initializing = true\n      root._bokeh_onload_callbacks = []\n      const bokeh_loaded = root.Bokeh != null && (root.Bokeh.version === py_version || (root.Bokeh.versions !== undefined && root.Bokeh.versions.has(py_version)));\n      if (!reloading && !bokeh_loaded) {\n        if (root.Bokeh) {\n          root.Bokeh = undefined;\n        }\n        console.debug(\"Bokeh: BokehJS not loaded, scheduling load and callback at\", now());\n      }\n      load_libs(css_urls, js_urls, js_modules, js_exports, function() {\n        console.debug(\"Bokeh: BokehJS plotting callback run at\", now());\n        run_inline_js();\n      });\n    }\n  }\n  // Give older versions of the autoload script a head-start to ensure\n  // they initialize before we start loading newer version.\n  setTimeout(load_or_wait, 100)\n}(window));",
      "application/vnd.holoviews_load.v0+json": ""
     },
     "metadata": {},
     "output_type": "display_data"
    },
    {
     "data": {
      "application/javascript": "\nif ((window.PyViz === undefined) || (window.PyViz instanceof HTMLElement)) {\n  window.PyViz = {comms: {}, comm_status:{}, kernels:{}, receivers: {}, plot_index: []}\n}\n\n\n    function JupyterCommManager() {\n    }\n\n    JupyterCommManager.prototype.register_target = function(plot_id, comm_id, msg_handler) {\n      if (window.comm_manager || ((window.Jupyter !== undefined) && (Jupyter.notebook.kernel != null))) {\n        var comm_manager = window.comm_manager || Jupyter.notebook.kernel.comm_manager;\n        comm_manager.register_target(comm_id, function(comm) {\n          comm.on_msg(msg_handler);\n        });\n      } else if ((plot_id in window.PyViz.kernels) && (window.PyViz.kernels[plot_id])) {\n        window.PyViz.kernels[plot_id].registerCommTarget(comm_id, function(comm) {\n          comm.onMsg = msg_handler;\n        });\n      } else if (typeof google != 'undefined' && google.colab.kernel != null) {\n        google.colab.kernel.comms.registerTarget(comm_id, (comm) => {\n          var messages = comm.messages[Symbol.asyncIterator]();\n          function processIteratorResult(result) {\n            var message = result.value;\n            console.log(message)\n            var content = {data: message.data, comm_id};\n            var buffers = []\n            for (var buffer of message.buffers || []) {\n              buffers.push(new DataView(buffer))\n            }\n            var metadata = message.metadata || {};\n            var msg = {content, buffers, metadata}\n            msg_handler(msg);\n            return messages.next().then(processIteratorResult);\n          }\n          return messages.next().then(processIteratorResult);\n        })\n      }\n    }\n\n    JupyterCommManager.prototype.get_client_comm = function(plot_id, comm_id, msg_handler) {\n      if (comm_id in window.PyViz.comms) {\n        return window.PyViz.comms[comm_id];\n      } else if (window.comm_manager || ((window.Jupyter !== undefined) && (Jupyter.notebook.kernel != null))) {\n        var comm_manager = window.comm_manager || Jupyter.notebook.kernel.comm_manager;\n        var comm = comm_manager.new_comm(comm_id, {}, {}, {}, comm_id);\n        if (msg_handler) {\n          comm.on_msg(msg_handler);\n        }\n      } else if ((plot_id in window.PyViz.kernels) && (window.PyViz.kernels[plot_id])) {\n        var comm = window.PyViz.kernels[plot_id].connectToComm(comm_id);\n        comm.open();\n        if (msg_handler) {\n          comm.onMsg = msg_handler;\n        }\n      } else if (typeof google != 'undefined' && google.colab.kernel != null) {\n        var comm_promise = google.colab.kernel.comms.open(comm_id)\n        comm_promise.then((comm) => {\n          window.PyViz.comms[comm_id] = comm;\n          if (msg_handler) {\n            var messages = comm.messages[Symbol.asyncIterator]();\n            function processIteratorResult(result) {\n              var message = result.value;\n              var content = {data: message.data};\n              var metadata = message.metadata || {comm_id};\n              var msg = {content, metadata}\n              msg_handler(msg);\n              return messages.next().then(processIteratorResult);\n            }\n            return messages.next().then(processIteratorResult);\n          }\n        })\n        var sendClosure = (data, metadata, buffers, disposeOnDone) => {\n          return comm_promise.then((comm) => {\n            comm.send(data, metadata, buffers, disposeOnDone);\n          });\n        };\n        var comm = {\n          send: sendClosure\n        };\n      }\n      window.PyViz.comms[comm_id] = comm;\n      return comm;\n    }\n    window.PyViz.comm_manager = new JupyterCommManager();\n    \n\n\nvar JS_MIME_TYPE = 'application/javascript';\nvar HTML_MIME_TYPE = 'text/html';\nvar EXEC_MIME_TYPE = 'application/vnd.holoviews_exec.v0+json';\nvar CLASS_NAME = 'output';\n\n/**\n * Render data to the DOM node\n */\nfunction render(props, node) {\n  var div = document.createElement(\"div\");\n  var script = document.createElement(\"script\");\n  node.appendChild(div);\n  node.appendChild(script);\n}\n\n/**\n * Handle when a new output is added\n */\nfunction handle_add_output(event, handle) {\n  var output_area = handle.output_area;\n  var output = handle.output;\n  if ((output.data == undefined) || (!output.data.hasOwnProperty(EXEC_MIME_TYPE))) {\n    return\n  }\n  var id = output.metadata[EXEC_MIME_TYPE][\"id\"];\n  var toinsert = output_area.element.find(\".\" + CLASS_NAME.split(' ')[0]);\n  if (id !== undefined) {\n    var nchildren = toinsert.length;\n    var html_node = toinsert[nchildren-1].children[0];\n    html_node.innerHTML = output.data[HTML_MIME_TYPE];\n    var scripts = [];\n    var nodelist = html_node.querySelectorAll(\"script\");\n    for (var i in nodelist) {\n      if (nodelist.hasOwnProperty(i)) {\n        scripts.push(nodelist[i])\n      }\n    }\n\n    scripts.forEach( function (oldScript) {\n      var newScript = document.createElement(\"script\");\n      var attrs = [];\n      var nodemap = oldScript.attributes;\n      for (var j in nodemap) {\n        if (nodemap.hasOwnProperty(j)) {\n          attrs.push(nodemap[j])\n        }\n      }\n      attrs.forEach(function(attr) { newScript.setAttribute(attr.name, attr.value) });\n      newScript.appendChild(document.createTextNode(oldScript.innerHTML));\n      oldScript.parentNode.replaceChild(newScript, oldScript);\n    });\n    if (JS_MIME_TYPE in output.data) {\n      toinsert[nchildren-1].children[1].textContent = output.data[JS_MIME_TYPE];\n    }\n    output_area._hv_plot_id = id;\n    if ((window.Bokeh !== undefined) && (id in Bokeh.index)) {\n      window.PyViz.plot_index[id] = Bokeh.index[id];\n    } else {\n      window.PyViz.plot_index[id] = null;\n    }\n  } else if (output.metadata[EXEC_MIME_TYPE][\"server_id\"] !== undefined) {\n    var bk_div = document.createElement(\"div\");\n    bk_div.innerHTML = output.data[HTML_MIME_TYPE];\n    var script_attrs = bk_div.children[0].attributes;\n    for (var i = 0; i < script_attrs.length; i++) {\n      toinsert[toinsert.length - 1].childNodes[1].setAttribute(script_attrs[i].name, script_attrs[i].value);\n    }\n    // store reference to server id on output_area\n    output_area._bokeh_server_id = output.metadata[EXEC_MIME_TYPE][\"server_id\"];\n  }\n}\n\n/**\n * Handle when an output is cleared or removed\n */\nfunction handle_clear_output(event, handle) {\n  var id = handle.cell.output_area._hv_plot_id;\n  var server_id = handle.cell.output_area._bokeh_server_id;\n  if (((id === undefined) || !(id in PyViz.plot_index)) && (server_id !== undefined)) { return; }\n  var comm = window.PyViz.comm_manager.get_client_comm(\"hv-extension-comm\", \"hv-extension-comm\", function () {});\n  if (server_id !== null) {\n    comm.send({event_type: 'server_delete', 'id': server_id});\n    return;\n  } else if (comm !== null) {\n    comm.send({event_type: 'delete', 'id': id});\n  }\n  delete PyViz.plot_index[id];\n  if ((window.Bokeh !== undefined) & (id in window.Bokeh.index)) {\n    var doc = window.Bokeh.index[id].model.document\n    doc.clear();\n    const i = window.Bokeh.documents.indexOf(doc);\n    if (i > -1) {\n      window.Bokeh.documents.splice(i, 1);\n    }\n  }\n}\n\n/**\n * Handle kernel restart event\n */\nfunction handle_kernel_cleanup(event, handle) {\n  delete PyViz.comms[\"hv-extension-comm\"];\n  window.PyViz.plot_index = {}\n}\n\n/**\n * Handle update_display_data messages\n */\nfunction handle_update_output(event, handle) {\n  handle_clear_output(event, {cell: {output_area: handle.output_area}})\n  handle_add_output(event, handle)\n}\n\nfunction register_renderer(events, OutputArea) {\n  function append_mime(data, metadata, element) {\n    // create a DOM node to render to\n    var toinsert = this.create_output_subarea(\n    metadata,\n    CLASS_NAME,\n    EXEC_MIME_TYPE\n    );\n    this.keyboard_manager.register_events(toinsert);\n    // Render to node\n    var props = {data: data, metadata: metadata[EXEC_MIME_TYPE]};\n    render(props, toinsert[0]);\n    element.append(toinsert);\n    return toinsert\n  }\n\n  events.on('output_added.OutputArea', handle_add_output);\n  events.on('output_updated.OutputArea', handle_update_output);\n  events.on('clear_output.CodeCell', handle_clear_output);\n  events.on('delete.Cell', handle_clear_output);\n  events.on('kernel_ready.Kernel', handle_kernel_cleanup);\n\n  OutputArea.prototype.register_mime_type(EXEC_MIME_TYPE, append_mime, {\n    safe: true,\n    index: 0\n  });\n}\n\nif (window.Jupyter !== undefined) {\n  try {\n    var events = require('base/js/events');\n    var OutputArea = require('notebook/js/outputarea').OutputArea;\n    if (OutputArea.prototype.mime_types().indexOf(EXEC_MIME_TYPE) == -1) {\n      register_renderer(events, OutputArea);\n    }\n  } catch(err) {\n  }\n}\n",
      "application/vnd.holoviews_load.v0+json": ""
     },
     "metadata": {},
     "output_type": "display_data"
    },
    {
     "data": {
      "application/vnd.holoviews_exec.v0+json": "",
      "text/html": [
       "<div id='a8ade5c9-18b7-40ee-8544-3c07dbd7d040'>\n",
       "  <div id=\"c5a0b886-bd8b-41c3-91b5-a755892f9808\" data-root-id=\"a8ade5c9-18b7-40ee-8544-3c07dbd7d040\" style=\"display: contents;\"></div>\n",
       "</div>\n",
       "<script type=\"application/javascript\">(function(root) {\n",
       "  var docs_json = {\"362e52bb-3816-4df7-9931-d675957ef8f2\":{\"version\":\"3.7.2\",\"title\":\"Bokeh Application\",\"roots\":[{\"type\":\"object\",\"name\":\"panel.models.browser.BrowserInfo\",\"id\":\"a8ade5c9-18b7-40ee-8544-3c07dbd7d040\"},{\"type\":\"object\",\"name\":\"panel.models.comm_manager.CommManager\",\"id\":\"761115a9-0c13-4f61-8264-ac7a67b8371d\",\"attributes\":{\"plot_id\":\"a8ade5c9-18b7-40ee-8544-3c07dbd7d040\",\"comm_id\":\"6f6a3bd8b4e64bcd89c47f6d056302a0\",\"client_comm_id\":\"5806ac195d5c49248cfc93d19eaebe8a\"}}],\"defs\":[{\"type\":\"model\",\"name\":\"ReactiveHTML1\"},{\"type\":\"model\",\"name\":\"FlexBox1\",\"properties\":[{\"name\":\"align_content\",\"kind\":\"Any\",\"default\":\"flex-start\"},{\"name\":\"align_items\",\"kind\":\"Any\",\"default\":\"flex-start\"},{\"name\":\"flex_direction\",\"kind\":\"Any\",\"default\":\"row\"},{\"name\":\"flex_wrap\",\"kind\":\"Any\",\"default\":\"wrap\"},{\"name\":\"gap\",\"kind\":\"Any\",\"default\":\"\"},{\"name\":\"justify_content\",\"kind\":\"Any\",\"default\":\"flex-start\"}]},{\"type\":\"model\",\"name\":\"FloatPanel1\",\"properties\":[{\"name\":\"config\",\"kind\":\"Any\",\"default\":{\"type\":\"map\"}},{\"name\":\"contained\",\"kind\":\"Any\",\"default\":true},{\"name\":\"position\",\"kind\":\"Any\",\"default\":\"right-top\"},{\"name\":\"offsetx\",\"kind\":\"Any\",\"default\":null},{\"name\":\"offsety\",\"kind\":\"Any\",\"default\":null},{\"name\":\"theme\",\"kind\":\"Any\",\"default\":\"primary\"},{\"name\":\"status\",\"kind\":\"Any\",\"default\":\"normalized\"}]},{\"type\":\"model\",\"name\":\"GridStack1\",\"properties\":[{\"name\":\"ncols\",\"kind\":\"Any\",\"default\":null},{\"name\":\"nrows\",\"kind\":\"Any\",\"default\":null},{\"name\":\"allow_resize\",\"kind\":\"Any\",\"default\":true},{\"name\":\"allow_drag\",\"kind\":\"Any\",\"default\":true},{\"name\":\"state\",\"kind\":\"Any\",\"default\":[]}]},{\"type\":\"model\",\"name\":\"drag1\",\"properties\":[{\"name\":\"slider_width\",\"kind\":\"Any\",\"default\":5},{\"name\":\"slider_color\",\"kind\":\"Any\",\"default\":\"black\"},{\"name\":\"value\",\"kind\":\"Any\",\"default\":50}]},{\"type\":\"model\",\"name\":\"click1\",\"properties\":[{\"name\":\"terminal_output\",\"kind\":\"Any\",\"default\":\"\"},{\"name\":\"debug_name\",\"kind\":\"Any\",\"default\":\"\"},{\"name\":\"clears\",\"kind\":\"Any\",\"default\":0}]},{\"type\":\"model\",\"name\":\"FastWrapper1\",\"properties\":[{\"name\":\"object\",\"kind\":\"Any\",\"default\":null},{\"name\":\"style\",\"kind\":\"Any\",\"default\":null}]},{\"type\":\"model\",\"name\":\"NotificationArea1\",\"properties\":[{\"name\":\"js_events\",\"kind\":\"Any\",\"default\":{\"type\":\"map\"}},{\"name\":\"max_notifications\",\"kind\":\"Any\",\"default\":5},{\"name\":\"notifications\",\"kind\":\"Any\",\"default\":[]},{\"name\":\"position\",\"kind\":\"Any\",\"default\":\"bottom-right\"},{\"name\":\"_clear\",\"kind\":\"Any\",\"default\":0},{\"name\":\"types\",\"kind\":\"Any\",\"default\":[{\"type\":\"map\",\"entries\":[[\"type\",\"warning\"],[\"background\",\"#ffc107\"],[\"icon\",{\"type\":\"map\",\"entries\":[[\"className\",\"fas fa-exclamation-triangle\"],[\"tagName\",\"i\"],[\"color\",\"white\"]]}]]},{\"type\":\"map\",\"entries\":[[\"type\",\"info\"],[\"background\",\"#007bff\"],[\"icon\",{\"type\":\"map\",\"entries\":[[\"className\",\"fas fa-info-circle\"],[\"tagName\",\"i\"],[\"color\",\"white\"]]}]]}]}]},{\"type\":\"model\",\"name\":\"Notification\",\"properties\":[{\"name\":\"background\",\"kind\":\"Any\",\"default\":null},{\"name\":\"duration\",\"kind\":\"Any\",\"default\":3000},{\"name\":\"icon\",\"kind\":\"Any\",\"default\":null},{\"name\":\"message\",\"kind\":\"Any\",\"default\":\"\"},{\"name\":\"notification_type\",\"kind\":\"Any\",\"default\":null},{\"name\":\"_rendered\",\"kind\":\"Any\",\"default\":false},{\"name\":\"_destroyed\",\"kind\":\"Any\",\"default\":false}]},{\"type\":\"model\",\"name\":\"TemplateActions1\",\"properties\":[{\"name\":\"open_modal\",\"kind\":\"Any\",\"default\":0},{\"name\":\"close_modal\",\"kind\":\"Any\",\"default\":0}]},{\"type\":\"model\",\"name\":\"BootstrapTemplateActions1\",\"properties\":[{\"name\":\"open_modal\",\"kind\":\"Any\",\"default\":0},{\"name\":\"close_modal\",\"kind\":\"Any\",\"default\":0}]},{\"type\":\"model\",\"name\":\"TemplateEditor1\",\"properties\":[{\"name\":\"layout\",\"kind\":\"Any\",\"default\":[]}]},{\"type\":\"model\",\"name\":\"MaterialTemplateActions1\",\"properties\":[{\"name\":\"open_modal\",\"kind\":\"Any\",\"default\":0},{\"name\":\"close_modal\",\"kind\":\"Any\",\"default\":0}]},{\"type\":\"model\",\"name\":\"ReactiveESM1\",\"properties\":[{\"name\":\"esm_constants\",\"kind\":\"Any\",\"default\":{\"type\":\"map\"}}]},{\"type\":\"model\",\"name\":\"JSComponent1\",\"properties\":[{\"name\":\"esm_constants\",\"kind\":\"Any\",\"default\":{\"type\":\"map\"}}]},{\"type\":\"model\",\"name\":\"ReactComponent1\",\"properties\":[{\"name\":\"esm_constants\",\"kind\":\"Any\",\"default\":{\"type\":\"map\"}}]},{\"type\":\"model\",\"name\":\"AnyWidgetComponent1\",\"properties\":[{\"name\":\"esm_constants\",\"kind\":\"Any\",\"default\":{\"type\":\"map\"}}]},{\"type\":\"model\",\"name\":\"request_value1\",\"properties\":[{\"name\":\"fill\",\"kind\":\"Any\",\"default\":\"none\"},{\"name\":\"_synced\",\"kind\":\"Any\",\"default\":null},{\"name\":\"_request_sync\",\"kind\":\"Any\",\"default\":0}]}]}};\n",
       "  var render_items = [{\"docid\":\"362e52bb-3816-4df7-9931-d675957ef8f2\",\"roots\":{\"a8ade5c9-18b7-40ee-8544-3c07dbd7d040\":\"c5a0b886-bd8b-41c3-91b5-a755892f9808\"},\"root_ids\":[\"a8ade5c9-18b7-40ee-8544-3c07dbd7d040\"]}];\n",
       "  var docs = Object.values(docs_json)\n",
       "  if (!docs) {\n",
       "    return\n",
       "  }\n",
       "  const py_version = docs[0].version.replace('rc', '-rc.').replace('.dev', '-dev.')\n",
       "  async function embed_document(root) {\n",
       "    var Bokeh = get_bokeh(root)\n",
       "    await Bokeh.embed.embed_items_notebook(docs_json, render_items);\n",
       "    for (const render_item of render_items) {\n",
       "      for (const root_id of render_item.root_ids) {\n",
       "\tconst id_el = document.getElementById(root_id)\n",
       "\tif (id_el.children.length && id_el.children[0].hasAttribute('data-root-id')) {\n",
       "\t  const root_el = id_el.children[0]\n",
       "\t  root_el.id = root_el.id + '-rendered'\n",
       "\t  for (const child of root_el.children) {\n",
       "            // Ensure JupyterLab does not capture keyboard shortcuts\n",
       "            // see: https://jupyterlab.readthedocs.io/en/4.1.x/extension/notebook.html#keyboard-interaction-model\n",
       "\t    child.setAttribute('data-lm-suppress-shortcuts', 'true')\n",
       "\t  }\n",
       "\t}\n",
       "      }\n",
       "    }\n",
       "  }\n",
       "  function get_bokeh(root) {\n",
       "    if (root.Bokeh === undefined) {\n",
       "      return null\n",
       "    } else if (root.Bokeh.version !== py_version) {\n",
       "      if (root.Bokeh.versions === undefined || !root.Bokeh.versions.has(py_version)) {\n",
       "\treturn null\n",
       "      }\n",
       "      return root.Bokeh.versions.get(py_version);\n",
       "    } else if (root.Bokeh.version === py_version) {\n",
       "      return root.Bokeh\n",
       "    }\n",
       "    return null\n",
       "  }\n",
       "  function is_loaded(root) {\n",
       "    var Bokeh = get_bokeh(root)\n",
       "    return (Bokeh != null && Bokeh.Panel !== undefined)\n",
       "  }\n",
       "  if (is_loaded(root)) {\n",
       "    embed_document(root);\n",
       "  } else {\n",
       "    var attempts = 0;\n",
       "    var timer = setInterval(function(root) {\n",
       "      if (is_loaded(root)) {\n",
       "        clearInterval(timer);\n",
       "        embed_document(root);\n",
       "      } else if (document.readyState == \"complete\") {\n",
       "        attempts++;\n",
       "        if (attempts > 200) {\n",
       "          clearInterval(timer);\n",
       "\t  var Bokeh = get_bokeh(root)\n",
       "\t  if (Bokeh == null || Bokeh.Panel == null) {\n",
       "            console.warn(\"Panel: ERROR: Unable to run Panel code because Bokeh or Panel library is missing\");\n",
       "\t  } else {\n",
       "\t    console.warn(\"Panel: WARNING: Attempting to render but not all required libraries could be resolved.\")\n",
       "\t    embed_document(root)\n",
       "\t  }\n",
       "        }\n",
       "      }\n",
       "    }, 25, root)\n",
       "  }\n",
       "})(window);</script>"
      ]
     },
     "metadata": {
      "application/vnd.holoviews_exec.v0+json": {
       "id": "a8ade5c9-18b7-40ee-8544-3c07dbd7d040"
      }
     },
     "output_type": "display_data"
    }
   ],
   "source": [
    "from bs4 import BeautifulSoup\n",
    "# import pandas as pd\n",
    "from datetime import datetime, timedelta\n",
    "from itertools import combinations\n",
    "import json\n",
    "import requests\n",
    "import math\n",
    "from typing import Optional, List, Dict\n",
    "import os\n",
    "\n",
    "from pydantic import BaseModel\n",
    "from typing import Mapping\n",
    "import numpy as np\n",
    "import polars as pl\n",
    "import hvplot.polars\n",
    "import pandas as pd\n",
    "import altair as alt\n",
    "import math\n",
    "\n",
    "from shared.utils import formalize_data_with_str\n",
    "from shared.random_rules import RandomRules"
   ]
  },
  {
   "cell_type": "code",
   "execution_count": 50,
   "metadata": {},
   "outputs": [],
   "source": [
    "rr = RandomRules(\n",
    "  TOTAL_NUMBERS = 35,\n",
    "  CHOOSE = 5,\n",
    "  MAX_PRIMES = 3,\n",
    "  N_VALUES=[\"1\", \"2\", \"3\"],\n",
    "  # Rangos de valores de las bolillas\n",
    "  MIN_B_VALUES = [1, 2, 3, 4, 5],\n",
    "  MAX_B_VALUES = [31, 32, 33, 34, 35]\n",
    ")"
   ]
  },
  {
   "cell_type": "code",
   "execution_count": 51,
   "metadata": {},
   "outputs": [],
   "source": [
    "url = 'https://resultados.latinka.com.pe/i.do?m=historico&t=0&s=164'\n",
    "response = requests.get(url)\n",
    "soup = BeautifulSoup(response.text, 'html.parser')\n",
    "\n",
    "tables = soup.select('table')\n",
    "rows = tables[1].find_all('tr')"
   ]
  },
  {
   "cell_type": "code",
   "execution_count": 52,
   "metadata": {},
   "outputs": [
    {
     "name": "stdout",
     "output_type": "stream",
     "text": [
      "TOTAL_LINES=7733\n"
     ]
    },
    {
     "data": {
      "text/html": [
       "<div><style>\n",
       ".dataframe > thead > tr,\n",
       ".dataframe > tbody > tr {\n",
       "  text-align: right;\n",
       "  white-space: pre-wrap;\n",
       "}\n",
       "</style>\n",
       "<small>shape: (10, 24)</small><table border=\"1\" class=\"dataframe\"><thead><tr><th>fecha</th><th>sorteo</th><th>bolillas</th><th>id</th><th>combo</th><th>b1</th><th>b2</th><th>b3</th><th>b4</th><th>b5</th><th>str_b1</th><th>str_b2</th><th>str_b3</th><th>str_b4</th><th>str_b5</th><th>post_str_b1</th><th>post_str_b2</th><th>post_str_b3</th><th>post_str_b4</th><th>post_str_blast</th><th>is_rare_combination</th><th>reason</th><th>jumps_map</th><th>unijump</th></tr><tr><td>str</td><td>str</td><td>str</td><td>str</td><td>array[u8, 5]</td><td>u8</td><td>u8</td><td>u8</td><td>u8</td><td>u8</td><td>str</td><td>str</td><td>str</td><td>str</td><td>str</td><td>str</td><td>str</td><td>str</td><td>str</td><td>str</td><td>bool</td><td>u8</td><td>str</td><td>i64</td></tr></thead><tbody><tr><td>&quot;17/04/2025&quot;</td><td>&quot;4189&quot;</td><td>&quot;33 30 16 19 14&quot;</td><td>&quot;1416193033&quot;</td><td>[14, 16, … 33]</td><td>14</td><td>16</td><td>19</td><td>30</td><td>33</td><td>&quot;14&quot;</td><td>&quot;16&quot;</td><td>&quot;19&quot;</td><td>&quot;30&quot;</td><td>&quot;33&quot;</td><td>null</td><td>null</td><td>null</td><td>null</td><td>null</td><td>true</td><td>16</td><td>&quot;02_03_11_03&quot;</td><td>-23</td></tr><tr><td>&quot;16/04/2025&quot;</td><td>&quot;4188&quot;</td><td>&quot;21 13 28 29 34&quot;</td><td>&quot;1321282934&quot;</td><td>[13, 21, … 34]</td><td>13</td><td>21</td><td>28</td><td>29</td><td>34</td><td>&quot;13&quot;</td><td>&quot;21&quot;</td><td>&quot;28&quot;</td><td>&quot;29&quot;</td><td>&quot;34&quot;</td><td>&quot;14&quot;</td><td>&quot;16&quot;</td><td>&quot;19&quot;</td><td>&quot;30&quot;</td><td>&quot;33&quot;</td><td>false</td><td>0</td><td>&quot;08_07_01_05&quot;</td><td>15</td></tr><tr><td>&quot;15/04/2025&quot;</td><td>&quot;4187&quot;</td><td>&quot;29 15 23 33 10&quot;</td><td>&quot;1015232933&quot;</td><td>[10, 15, … 33]</td><td>10</td><td>15</td><td>23</td><td>29</td><td>33</td><td>&quot;10&quot;</td><td>&quot;15&quot;</td><td>&quot;23&quot;</td><td>&quot;29&quot;</td><td>&quot;33&quot;</td><td>&quot;13&quot;</td><td>&quot;21&quot;</td><td>&quot;28&quot;</td><td>&quot;29&quot;</td><td>&quot;34&quot;</td><td>false</td><td>0</td><td>&quot;05_08_06_04&quot;</td><td>5</td></tr><tr><td>&quot;14/04/2025&quot;</td><td>&quot;4186&quot;</td><td>&quot;09 27 16 14 04&quot;</td><td>&quot;0409141627&quot;</td><td>[4, 9, … 27]</td><td>4</td><td>9</td><td>14</td><td>16</td><td>27</td><td>&quot;04&quot;</td><td>&quot;09&quot;</td><td>&quot;14&quot;</td><td>&quot;16&quot;</td><td>&quot;27&quot;</td><td>&quot;10&quot;</td><td>&quot;15&quot;</td><td>&quot;23&quot;</td><td>&quot;29&quot;</td><td>&quot;33&quot;</td><td>true</td><td>24</td><td>&quot;05_05_02_11&quot;</td><td>15</td></tr><tr><td>&quot;13/04/2025&quot;</td><td>&quot;4185&quot;</td><td>&quot;26 06 13 09 27&quot;</td><td>&quot;0609132627&quot;</td><td>[6, 9, … 27]</td><td>6</td><td>9</td><td>13</td><td>26</td><td>27</td><td>&quot;06&quot;</td><td>&quot;09&quot;</td><td>&quot;13&quot;</td><td>&quot;26&quot;</td><td>&quot;27&quot;</td><td>&quot;04&quot;</td><td>&quot;09&quot;</td><td>&quot;14&quot;</td><td>&quot;16&quot;</td><td>&quot;27&quot;</td><td>false</td><td>0</td><td>&quot;03_04_13_01&quot;</td><td>-29</td></tr><tr><td>&quot;12/04/2025&quot;</td><td>&quot;4184&quot;</td><td>&quot;23 12 10 16 03&quot;</td><td>&quot;0310121623&quot;</td><td>[3, 10, … 23]</td><td>3</td><td>10</td><td>12</td><td>16</td><td>23</td><td>&quot;03&quot;</td><td>&quot;10&quot;</td><td>&quot;12&quot;</td><td>&quot;16&quot;</td><td>&quot;23&quot;</td><td>&quot;06&quot;</td><td>&quot;09&quot;</td><td>&quot;13&quot;</td><td>&quot;26&quot;</td><td>&quot;27&quot;</td><td>false</td><td>0</td><td>&quot;07_02_04_07&quot;</td><td>-6</td></tr><tr><td>&quot;11/04/2025&quot;</td><td>&quot;4183&quot;</td><td>&quot;09 10 08 01 12&quot;</td><td>&quot;0108091012&quot;</td><td>[1, 8, … 12]</td><td>1</td><td>8</td><td>9</td><td>10</td><td>12</td><td>&quot;01&quot;</td><td>&quot;08&quot;</td><td>&quot;09&quot;</td><td>&quot;10&quot;</td><td>&quot;12&quot;</td><td>&quot;03&quot;</td><td>&quot;10&quot;</td><td>&quot;12&quot;</td><td>&quot;16&quot;</td><td>&quot;23&quot;</td><td>true</td><td>24</td><td>&quot;07_01_01_02&quot;</td><td>-5</td></tr><tr><td>&quot;10/04/2025&quot;</td><td>&quot;4182&quot;</td><td>&quot;30 33 34 10 21&quot;</td><td>&quot;1021303334&quot;</td><td>[10, 21, … 34]</td><td>10</td><td>21</td><td>30</td><td>33</td><td>34</td><td>&quot;10&quot;</td><td>&quot;21&quot;</td><td>&quot;30&quot;</td><td>&quot;33&quot;</td><td>&quot;34&quot;</td><td>&quot;01&quot;</td><td>&quot;08&quot;</td><td>&quot;09&quot;</td><td>&quot;10&quot;</td><td>&quot;12&quot;</td><td>false</td><td>0</td><td>&quot;11_09_03_01&quot;</td><td>8</td></tr><tr><td>&quot;09/04/2025&quot;</td><td>&quot;4181&quot;</td><td>&quot;29 21 20 28 04&quot;</td><td>&quot;0420212829&quot;</td><td>[4, 20, … 29]</td><td>4</td><td>20</td><td>21</td><td>28</td><td>29</td><td>&quot;04&quot;</td><td>&quot;20&quot;</td><td>&quot;21&quot;</td><td>&quot;28&quot;</td><td>&quot;29&quot;</td><td>&quot;10&quot;</td><td>&quot;21&quot;</td><td>&quot;30&quot;</td><td>&quot;33&quot;</td><td>&quot;34&quot;</td><td>true</td><td>16</td><td>&quot;16_01_07_01&quot;</td><td>-33</td></tr><tr><td>&quot;08/04/2025&quot;</td><td>&quot;4180&quot;</td><td>&quot;10 20 30 05 16&quot;</td><td>&quot;0510162030&quot;</td><td>[5, 10, … 30]</td><td>5</td><td>10</td><td>16</td><td>20</td><td>30</td><td>&quot;05&quot;</td><td>&quot;10&quot;</td><td>&quot;16&quot;</td><td>&quot;20&quot;</td><td>&quot;30&quot;</td><td>&quot;04&quot;</td><td>&quot;20&quot;</td><td>&quot;21&quot;</td><td>&quot;28&quot;</td><td>&quot;29&quot;</td><td>false</td><td>0</td><td>&quot;05_06_04_10&quot;</td><td>11</td></tr></tbody></table></div>"
      ],
      "text/plain": [
       "shape: (10, 24)\n",
       "┌────────────┬────────┬─────────────┬────────────┬───┬─────────────┬────────┬────────────┬─────────┐\n",
       "│ fecha      ┆ sorteo ┆ bolillas    ┆ id         ┆ … ┆ is_rare_com ┆ reason ┆ jumps_map  ┆ unijump │\n",
       "│ ---        ┆ ---    ┆ ---         ┆ ---        ┆   ┆ bination    ┆ ---    ┆ ---        ┆ ---     │\n",
       "│ str        ┆ str    ┆ str         ┆ str        ┆   ┆ ---         ┆ u8     ┆ str        ┆ i64     │\n",
       "│            ┆        ┆             ┆            ┆   ┆ bool        ┆        ┆            ┆         │\n",
       "╞════════════╪════════╪═════════════╪════════════╪═══╪═════════════╪════════╪════════════╪═════════╡\n",
       "│ 17/04/2025 ┆ 4189   ┆ 33 30 16 19 ┆ 1416193033 ┆ … ┆ true        ┆ 16     ┆ 02_03_11_0 ┆ -23     │\n",
       "│            ┆        ┆ 14          ┆            ┆   ┆             ┆        ┆ 3          ┆         │\n",
       "│ 16/04/2025 ┆ 4188   ┆ 21 13 28 29 ┆ 1321282934 ┆ … ┆ false       ┆ 0      ┆ 08_07_01_0 ┆ 15      │\n",
       "│            ┆        ┆ 34          ┆            ┆   ┆             ┆        ┆ 5          ┆         │\n",
       "│ 15/04/2025 ┆ 4187   ┆ 29 15 23 33 ┆ 1015232933 ┆ … ┆ false       ┆ 0      ┆ 05_08_06_0 ┆ 5       │\n",
       "│            ┆        ┆ 10          ┆            ┆   ┆             ┆        ┆ 4          ┆         │\n",
       "│ 14/04/2025 ┆ 4186   ┆ 09 27 16 14 ┆ 0409141627 ┆ … ┆ true        ┆ 24     ┆ 05_05_02_1 ┆ 15      │\n",
       "│            ┆        ┆ 04          ┆            ┆   ┆             ┆        ┆ 1          ┆         │\n",
       "│ 13/04/2025 ┆ 4185   ┆ 26 06 13 09 ┆ 0609132627 ┆ … ┆ false       ┆ 0      ┆ 03_04_13_0 ┆ -29     │\n",
       "│            ┆        ┆ 27          ┆            ┆   ┆             ┆        ┆ 1          ┆         │\n",
       "│ 12/04/2025 ┆ 4184   ┆ 23 12 10 16 ┆ 0310121623 ┆ … ┆ false       ┆ 0      ┆ 07_02_04_0 ┆ -6      │\n",
       "│            ┆        ┆ 03          ┆            ┆   ┆             ┆        ┆ 7          ┆         │\n",
       "│ 11/04/2025 ┆ 4183   ┆ 09 10 08 01 ┆ 0108091012 ┆ … ┆ true        ┆ 24     ┆ 07_01_01_0 ┆ -5      │\n",
       "│            ┆        ┆ 12          ┆            ┆   ┆             ┆        ┆ 2          ┆         │\n",
       "│ 10/04/2025 ┆ 4182   ┆ 30 33 34 10 ┆ 1021303334 ┆ … ┆ false       ┆ 0      ┆ 11_09_03_0 ┆ 8       │\n",
       "│            ┆        ┆ 21          ┆            ┆   ┆             ┆        ┆ 1          ┆         │\n",
       "│ 09/04/2025 ┆ 4181   ┆ 29 21 20 28 ┆ 0420212829 ┆ … ┆ true        ┆ 16     ┆ 16_01_07_0 ┆ -33     │\n",
       "│            ┆        ┆ 04          ┆            ┆   ┆             ┆        ┆ 1          ┆         │\n",
       "│ 08/04/2025 ┆ 4180   ┆ 10 20 30 05 ┆ 0510162030 ┆ … ┆ false       ┆ 0      ┆ 05_06_04_1 ┆ 11      │\n",
       "│            ┆        ┆ 16          ┆            ┆   ┆             ┆        ┆ 0          ┆         │\n",
       "└────────────┴────────┴─────────────┴────────────┴───┴─────────────┴────────┴────────────┴─────────┘"
      ]
     },
     "metadata": {},
     "output_type": "display_data"
    }
   ],
   "source": [
    "lst = []\n",
    "post_str_b1 = None\n",
    "post_str_b2 = None\n",
    "post_str_b3 = None\n",
    "post_str_b4 = None\n",
    "post_str_blast = None\n",
    "for row in rows:\n",
    "  cols = [data.text.strip() for data in row.find_all('td')]\n",
    "  \n",
    "  id, bolillas_int, str_combo = formalize_data_with_str(bolillas_str=cols[2])\n",
    "  cols.append(id)\n",
    "  cols.append(bolillas_int)\n",
    "  cols.extend([b for b in bolillas_int])\n",
    "  cols.extend(str_combo)\n",
    "  cols.append(post_str_b1)\n",
    "  cols.append(post_str_b2)\n",
    "  cols.append(post_str_b3)\n",
    "  cols.append(post_str_b4)\n",
    "  cols.append(post_str_blast)\n",
    "\n",
    "  is_rare, reason = rr.is_rare_combination(bolillas_int, id)\n",
    "  cols.append(is_rare)\n",
    "  cols.append(reason)\n",
    "\n",
    "  cols.append(rr.jumps_map(bolillas_int))\n",
    "  cols.append(rr.unijump(bolillas_int))\n",
    "  \n",
    "  lst.append(cols)\n",
    "\n",
    "  post_str_b1 = str_combo[0]\n",
    "  post_str_b2 = str_combo[1]\n",
    "  post_str_b3 = str_combo[2]\n",
    "  post_str_b4 = str_combo[3]\n",
    "  post_str_blast = str_combo[-1]\n",
    "\n",
    "with open('./gn_cahe_v3.json', 'w') as file: \n",
    "  json.dump(lst, file)\n",
    "\n",
    "dfRows = pl.DataFrame(\n",
    "  lst,\n",
    "  schema=[\n",
    "    'fecha', 'sorteo', 'bolillas',\n",
    "    'id', 'combo', 'b1', 'b2', 'b3', 'b4', 'b5',\n",
    "    'str_b1', 'str_b2', 'str_b3', 'str_b4', 'str_b5',\n",
    "    'post_str_b1', 'post_str_b2', 'post_str_b3', 'post_str_b4', 'post_str_blast',\n",
    "    'is_rare_combination', 'reason',\n",
    "    \"jumps_map\", \"unijump\"\n",
    "  ],\n",
    "  schema_overrides={\n",
    "    'combo': pl.Array(pl.UInt8, 5),\n",
    "    'b1': pl.UInt8,\n",
    "    'b2': pl.UInt8,\n",
    "    'b3': pl.UInt8,\n",
    "    'b4': pl.UInt8,\n",
    "    'b5': pl.UInt8,\n",
    "    'b6': pl.UInt8,\n",
    "    'reason': pl.UInt8\n",
    "  },\n",
    "  orient='row'\n",
    ")\n",
    "\n",
    "TOTAL_LINES = len(dfRows)\n",
    "print(f'{TOTAL_LINES=}')\n",
    "display(dfRows.head(10))"
   ]
  },
  {
   "cell_type": "code",
   "execution_count": 53,
   "metadata": {},
   "outputs": [
    {
     "data": {
      "text/plain": [
       "16"
      ]
     },
     "execution_count": 53,
     "metadata": {},
     "output_type": "execute_result"
    }
   ],
   "source": [
    "dfRows.item(0, 'b2')"
   ]
  },
  {
   "cell_type": "code",
   "execution_count": 54,
   "metadata": {},
   "outputs": [],
   "source": [
    "import holoviews as hv\n",
    "def plot_post_col (col: str, post_col: str, test_value: str | None = None):\n",
    "  if test_value == None:\n",
    "    test_value = dfRows.item(0, col)\n",
    "    print(f'Setting {test_value=}')\n",
    "\n",
    "  df_viz = dfRows \\\n",
    "    .filter(\n",
    "      pl.col(col) == test_value,\n",
    "      pl.col(post_col).is_not_null()\n",
    "    ) \\\n",
    "    .group_by(\n",
    "      post_col\n",
    "    ).agg(pl.count(post_col).alias('count')) \\\n",
    "    .sort(\"count\", descending=True)\n",
    "  \n",
    "  \n",
    "  df_10_last = dfRows \\\n",
    "    .filter(\n",
    "      pl.col(col) == test_value,\n",
    "      pl.col(post_col).is_not_null()\n",
    "    ) \\\n",
    "    .head(10)\n",
    "  \n",
    "  # Agrega una columna que sea el porcentaje de la frecuencia relativa\n",
    "  total = df_viz['count'].sum()\n",
    "  df_viz = df_viz.with_columns(\n",
    "    ( (pl.col('count') / total) * 100 ).alias('percent')\n",
    "  )\n",
    "  mean_percent = df_viz['percent'].mean()\n",
    "  mean_percent_75 = mean_percent * 75 / 50\n",
    "  mean_percent_25 = mean_percent * 25 / 50\n",
    "\n",
    "  chart = df_viz.hvplot.bar(\n",
    "    x=post_col,\n",
    "    y='percent'\n",
    "  )\n",
    "\n",
    "  chart = chart * hv.HLine(mean_percent).opts(color='red')\n",
    "  chart = chart * hv.HLine(mean_percent_75).opts(color='blue')\n",
    "  chart = chart * hv.HLine(mean_percent_25).opts(color='blue')\n",
    "  \n",
    "  chart.opts(default_tools=[\"pan\"])\n",
    "\n",
    "  df_jumps_map = dfRows \\\n",
    "    .filter(\n",
    "      pl.col(col) == test_value,\n",
    "      pl.col(post_col).is_not_null()\n",
    "    ) \\\n",
    "    .group_by(\n",
    "      'jumps_map'\n",
    "    ).agg(pl.count('jumps_map').alias('count')) \\\n",
    "    .sort(\"count\", descending=True)\n",
    "  \n",
    "  df_unijump = dfRows \\\n",
    "    .filter(\n",
    "      pl.col(col) == test_value,\n",
    "      pl.col(post_col).is_not_null()\n",
    "    ) \\\n",
    "    .group_by(\n",
    "      'unijump'\n",
    "    ).agg(pl.count('unijump').alias('count')) \\\n",
    "    .sort(\"count\", descending=True)\n",
    "\n",
    "\n",
    "  print(f'df_viz FOR {col} = {test_value}')\n",
    "  display(df_viz)\n",
    "\n",
    "  display(chart)\n",
    "  \n",
    "\n",
    "  print(f'df_10_last FOR {col} = {test_value}')\n",
    "  last_results = list(set(df_10_last[post_col][0:3]))\n",
    "  print(f'Last 3 results {last_results=}')\n",
    "  display(df_10_last)\n",
    "  \n",
    "  print(f'df_jumps_map FOR {col} = {test_value}')\n",
    "  display(df_jumps_map)\n",
    "  # display(df_unijump)\n",
    "\n",
    "  print(f'df_unijump FOR {col} = {test_value}')\n",
    "  display(df_unijump)\n",
    "\n",
    "  lst_post_str_b = df_viz.filter(pl.col('percent') >= mean_percent)[post_col].to_list()\n",
    "  lst_jumps_map = df_jumps_map['jumps_map'].to_list() # Used to discard\n",
    "  \n",
    "  return lst_post_str_b, lst_jumps_map, last_results"
   ]
  },
  {
   "cell_type": "code",
   "execution_count": 55,
   "metadata": {},
   "outputs": [
    {
     "name": "stdout",
     "output_type": "stream",
     "text": [
      "Setting test_value='14'\n",
      "df_viz FOR str_b1 = 14\n"
     ]
    },
    {
     "data": {
      "text/html": [
       "<div><style>\n",
       ".dataframe > thead > tr,\n",
       ".dataframe > tbody > tr {\n",
       "  text-align: right;\n",
       "  white-space: pre-wrap;\n",
       "}\n",
       "</style>\n",
       "<small>shape: (19, 3)</small><table border=\"1\" class=\"dataframe\"><thead><tr><th>post_str_b1</th><th>count</th><th>percent</th></tr><tr><td>str</td><td>u32</td><td>f64</td></tr></thead><tbody><tr><td>&quot;02&quot;</td><td>21</td><td>14.685315</td></tr><tr><td>&quot;03&quot;</td><td>20</td><td>13.986014</td></tr><tr><td>&quot;01&quot;</td><td>19</td><td>13.286713</td></tr><tr><td>&quot;06&quot;</td><td>15</td><td>10.48951</td></tr><tr><td>&quot;05&quot;</td><td>10</td><td>6.993007</td></tr><tr><td>&hellip;</td><td>&hellip;</td><td>&hellip;</td></tr><tr><td>&quot;12&quot;</td><td>2</td><td>1.398601</td></tr><tr><td>&quot;16&quot;</td><td>2</td><td>1.398601</td></tr><tr><td>&quot;21&quot;</td><td>2</td><td>1.398601</td></tr><tr><td>&quot;17&quot;</td><td>1</td><td>0.699301</td></tr><tr><td>&quot;20&quot;</td><td>1</td><td>0.699301</td></tr></tbody></table></div>"
      ],
      "text/plain": [
       "shape: (19, 3)\n",
       "┌─────────────┬───────┬───────────┐\n",
       "│ post_str_b1 ┆ count ┆ percent   │\n",
       "│ ---         ┆ ---   ┆ ---       │\n",
       "│ str         ┆ u32   ┆ f64       │\n",
       "╞═════════════╪═══════╪═══════════╡\n",
       "│ 02          ┆ 21    ┆ 14.685315 │\n",
       "│ 03          ┆ 20    ┆ 13.986014 │\n",
       "│ 01          ┆ 19    ┆ 13.286713 │\n",
       "│ 06          ┆ 15    ┆ 10.48951  │\n",
       "│ 05          ┆ 10    ┆ 6.993007  │\n",
       "│ …           ┆ …     ┆ …         │\n",
       "│ 12          ┆ 2     ┆ 1.398601  │\n",
       "│ 16          ┆ 2     ┆ 1.398601  │\n",
       "│ 21          ┆ 2     ┆ 1.398601  │\n",
       "│ 17          ┆ 1     ┆ 0.699301  │\n",
       "│ 20          ┆ 1     ┆ 0.699301  │\n",
       "└─────────────┴───────┴───────────┘"
      ]
     },
     "metadata": {},
     "output_type": "display_data"
    },
    {
     "data": {},
     "metadata": {},
     "output_type": "display_data"
    },
    {
     "data": {
      "application/vnd.holoviews_exec.v0+json": "",
      "text/html": [
       "<div id='46ed450a-9d9e-42a4-b867-6e5624447ad3'>\n",
       "  <div id=\"c4ef1263-5594-4a97-8df2-293de59ec16b\" data-root-id=\"46ed450a-9d9e-42a4-b867-6e5624447ad3\" style=\"display: contents;\"></div>\n",
       "</div>\n",
       "<script type=\"application/javascript\">(function(root) {\n",
       "  var docs_json = {\"37941dea-5391-44a4-a51f-7910c2925387\":{\"version\":\"3.7.2\",\"title\":\"Bokeh Application\",\"roots\":[{\"type\":\"object\",\"name\":\"Row\",\"id\":\"46ed450a-9d9e-42a4-b867-6e5624447ad3\",\"attributes\":{\"name\":\"Row01425\",\"tags\":[\"embedded\"],\"stylesheets\":[\"\\n:host(.pn-loading):before, .pn-loading:before {\\n  background-color: #c3c3c3;\\n  mask-size: auto calc(min(50%, 400px));\\n  -webkit-mask-size: auto calc(min(50%, 400px));\\n}\",{\"type\":\"object\",\"name\":\"ImportedStyleSheet\",\"id\":\"c02de33b-c779-4d21-bd57-df123ac6f3fa\",\"attributes\":{\"url\":\"https://cdn.holoviz.org/panel/1.6.2/dist/css/loading.css\"}},{\"type\":\"object\",\"name\":\"ImportedStyleSheet\",\"id\":\"651fcab8-cc8d-4b14-abf7-b043ce0f13e5\",\"attributes\":{\"url\":\"https://cdn.holoviz.org/panel/1.6.2/dist/css/listpanel.css\"}},{\"type\":\"object\",\"name\":\"ImportedStyleSheet\",\"id\":\"0a3154cf-e314-4ca9-8a0f-c9560b47856f\",\"attributes\":{\"url\":\"https://cdn.holoviz.org/panel/1.6.2/dist/bundled/theme/default.css\"}},{\"type\":\"object\",\"name\":\"ImportedStyleSheet\",\"id\":\"b7bca234-0403-429b-9851-c5df7b757dff\",\"attributes\":{\"url\":\"https://cdn.holoviz.org/panel/1.6.2/dist/bundled/theme/native.css\"}}],\"min_width\":700,\"margin\":0,\"sizing_mode\":\"stretch_width\",\"align\":\"start\",\"children\":[{\"type\":\"object\",\"name\":\"Spacer\",\"id\":\"6a2b4af0-e2e0-4b35-9be1-b69401c30fa1\",\"attributes\":{\"name\":\"HSpacer01429\",\"stylesheets\":[\"\\n:host(.pn-loading):before, .pn-loading:before {\\n  background-color: #c3c3c3;\\n  mask-size: auto calc(min(50%, 400px));\\n  -webkit-mask-size: auto calc(min(50%, 400px));\\n}\",{\"id\":\"c02de33b-c779-4d21-bd57-df123ac6f3fa\"},{\"id\":\"0a3154cf-e314-4ca9-8a0f-c9560b47856f\"},{\"id\":\"b7bca234-0403-429b-9851-c5df7b757dff\"}],\"margin\":0,\"sizing_mode\":\"stretch_width\",\"align\":\"start\"}},{\"type\":\"object\",\"name\":\"Figure\",\"id\":\"07fc035e-0846-410a-a747-f9ea2c870cae\",\"attributes\":{\"width\":700,\"height\":300,\"margin\":[5,10],\"sizing_mode\":\"fixed\",\"align\":\"start\",\"x_range\":{\"type\":\"object\",\"name\":\"FactorRange\",\"id\":\"89df2f95-9e68-4050-b394-99078a5a439b\",\"attributes\":{\"name\":\"post_str_b1\",\"tags\":[[[\"post_str_b1\",null]],[]],\"factors\":[\"02\",\"03\",\"01\",\"06\",\"05\",\"11\",\"08\",\"04\",\"07\",\"09\",\"10\",\"15\",\"13\",\"14\",\"12\",\"16\",\"21\",\"17\",\"20\"]}},\"y_range\":{\"type\":\"object\",\"name\":\"Range1d\",\"id\":\"75f8b6f9-9c4b-4df8-9d2d-da4f12141a92\",\"attributes\":{\"name\":\"percent\",\"tags\":[[[\"percent\",null]],{\"type\":\"map\",\"entries\":[[\"invert_yaxis\",false],[\"autorange\",false]]}],\"end\":16.083916083916083,\"reset_start\":0.0,\"reset_end\":16.083916083916083}},\"x_scale\":{\"type\":\"object\",\"name\":\"CategoricalScale\",\"id\":\"82bb4684-ecf7-42a8-9c1c-f3b1b396ffa6\"},\"y_scale\":{\"type\":\"object\",\"name\":\"LinearScale\",\"id\":\"211e8855-00ed-4a0f-bc87-efbac300d63a\"},\"title\":{\"type\":\"object\",\"name\":\"Title\",\"id\":\"ca95e617-88e0-4fbb-9689-b9ae16ffac8b\",\"attributes\":{\"text_color\":\"black\",\"text_font_size\":\"12pt\"}},\"renderers\":[{\"type\":\"object\",\"name\":\"GlyphRenderer\",\"id\":\"7d9b9e20-76d1-4bf6-9f78-7714a9512b6b\",\"attributes\":{\"data_source\":{\"type\":\"object\",\"name\":\"ColumnDataSource\",\"id\":\"993a845a-31b2-408c-9c35-e68cd9a74e64\",\"attributes\":{\"selected\":{\"type\":\"object\",\"name\":\"Selection\",\"id\":\"2449fcac-0163-4924-96b7-7bee482a9500\",\"attributes\":{\"indices\":[],\"line_indices\":[]}},\"selection_policy\":{\"type\":\"object\",\"name\":\"UnionRenderers\",\"id\":\"0b75ab8d-ed5b-451d-95f7-442ebd707259\"},\"data\":{\"type\":\"map\",\"entries\":[[\"post_str_b1\",[\"02\",\"03\",\"01\",\"06\",\"05\",\"11\",\"08\",\"04\",\"07\",\"09\",\"10\",\"15\",\"13\",\"14\",\"12\",\"16\",\"21\",\"17\",\"20\"]],[\"percent\",{\"type\":\"ndarray\",\"array\":{\"type\":\"bytes\",\"data\":\"S8oBkeFeLUBIqD7T1vgrQESGexXMkipANv5uHqH6JEBIqD7T1vgbQEFkuFfBLBlAQWS4V8EsGUA5IDLcq2AWQCuYJeWAyBBAK5gl5YDIEEA5IDLcq2AGQCuYJeWAyABAK5gl5YDIAEA5IDLcq2D2PzkgMtyrYPY/OSAy3Ktg9j85IDLcq2D2PzkgMtyrYOY/OSAy3Ktg5j8=\"},\"shape\":[19],\"dtype\":\"float64\",\"order\":\"little\"}]]}}},\"view\":{\"type\":\"object\",\"name\":\"CDSView\",\"id\":\"f37fc581-08db-444c-b35d-0dcccdda0a8f\",\"attributes\":{\"filter\":{\"type\":\"object\",\"name\":\"AllIndices\",\"id\":\"269ccf4a-0f02-45a9-aeb2-9385179a753d\"}}},\"glyph\":{\"type\":\"object\",\"name\":\"VBar\",\"id\":\"e4796d3d-cb5d-4ff2-b4c2-18f3fdee1f06\",\"attributes\":{\"tags\":[\"apply_ranges\"],\"x\":{\"type\":\"field\",\"field\":\"post_str_b1\"},\"width\":{\"type\":\"value\",\"value\":0.8},\"top\":{\"type\":\"field\",\"field\":\"percent\"},\"fill_color\":{\"type\":\"value\",\"value\":\"#30a2da\"},\"hatch_color\":{\"type\":\"value\",\"value\":\"#30a2da\"}}},\"selection_glyph\":{\"type\":\"object\",\"name\":\"VBar\",\"id\":\"02ae4fed-2743-4bc7-b952-a8b537d74c78\",\"attributes\":{\"tags\":[\"apply_ranges\"],\"x\":{\"type\":\"field\",\"field\":\"post_str_b1\"},\"width\":{\"type\":\"value\",\"value\":0.8},\"bottom\":{\"type\":\"value\",\"value\":0},\"top\":{\"type\":\"field\",\"field\":\"percent\"},\"line_color\":{\"type\":\"value\",\"value\":\"black\"},\"line_alpha\":{\"type\":\"value\",\"value\":1.0},\"line_width\":{\"type\":\"value\",\"value\":1},\"line_join\":{\"type\":\"value\",\"value\":\"bevel\"},\"line_cap\":{\"type\":\"value\",\"value\":\"butt\"},\"line_dash\":{\"type\":\"value\",\"value\":[]},\"line_dash_offset\":{\"type\":\"value\",\"value\":0},\"fill_color\":{\"type\":\"value\",\"value\":\"#30a2da\"},\"fill_alpha\":{\"type\":\"value\",\"value\":1.0},\"hatch_color\":{\"type\":\"value\",\"value\":\"#30a2da\"},\"hatch_alpha\":{\"type\":\"value\",\"value\":1.0},\"hatch_scale\":{\"type\":\"value\",\"value\":12.0},\"hatch_pattern\":{\"type\":\"value\",\"value\":null},\"hatch_weight\":{\"type\":\"value\",\"value\":1.0}}},\"nonselection_glyph\":{\"type\":\"object\",\"name\":\"VBar\",\"id\":\"0e538048-c9ad-4598-8ec4-139d2960c93a\",\"attributes\":{\"tags\":[\"apply_ranges\"],\"x\":{\"type\":\"field\",\"field\":\"post_str_b1\"},\"width\":{\"type\":\"value\",\"value\":0.8},\"top\":{\"type\":\"field\",\"field\":\"percent\"},\"line_alpha\":{\"type\":\"value\",\"value\":0.1},\"fill_color\":{\"type\":\"value\",\"value\":\"#30a2da\"},\"fill_alpha\":{\"type\":\"value\",\"value\":0.1},\"hatch_color\":{\"type\":\"value\",\"value\":\"#30a2da\"},\"hatch_alpha\":{\"type\":\"value\",\"value\":0.1}}},\"muted_glyph\":{\"type\":\"object\",\"name\":\"VBar\",\"id\":\"4cef3819-ecb4-43f9-abad-aa98d7979d51\",\"attributes\":{\"tags\":[\"apply_ranges\"],\"x\":{\"type\":\"field\",\"field\":\"post_str_b1\"},\"width\":{\"type\":\"value\",\"value\":0.8},\"top\":{\"type\":\"field\",\"field\":\"percent\"},\"line_alpha\":{\"type\":\"value\",\"value\":0.2},\"fill_color\":{\"type\":\"value\",\"value\":\"#30a2da\"},\"fill_alpha\":{\"type\":\"value\",\"value\":0.2},\"hatch_color\":{\"type\":\"value\",\"value\":\"#30a2da\"},\"hatch_alpha\":{\"type\":\"value\",\"value\":0.2}}}}},{\"type\":\"object\",\"name\":\"Span\",\"id\":\"bfe491d8-2a62-4375-80a0-9f5a3bb5e3d7\",\"attributes\":{\"level\":\"glyph\",\"location\":5.2631578947368425,\"line_color\":\"red\",\"line_width\":3}},{\"type\":\"object\",\"name\":\"Span\",\"id\":\"9f73d2df-605f-44b6-b00f-aaa4f8633847\",\"attributes\":{\"level\":\"glyph\",\"location\":7.894736842105264,\"line_color\":\"blue\",\"line_width\":3}},{\"type\":\"object\",\"name\":\"Span\",\"id\":\"2bf6aa7a-f442-4abf-a5e9-a7aba0eab130\",\"attributes\":{\"level\":\"glyph\",\"location\":2.6315789473684212,\"line_color\":\"blue\",\"line_width\":3}}],\"toolbar\":{\"type\":\"object\",\"name\":\"Toolbar\",\"id\":\"39f357d9-7e79-4acb-a138-1985a544263b\",\"attributes\":{\"tools\":[{\"type\":\"object\",\"name\":\"WheelZoomTool\",\"id\":\"4edd9b4e-242e-4c34-841f-9ef93dec8899\",\"attributes\":{\"tags\":[\"hv_created\"],\"renderers\":\"auto\",\"zoom_together\":\"none\"}},{\"type\":\"object\",\"name\":\"HoverTool\",\"id\":\"d5c60212-f23f-43f9-b945-b713ce37b105\",\"attributes\":{\"tags\":[\"hv_created\"],\"renderers\":[{\"id\":\"7d9b9e20-76d1-4bf6-9f78-7714a9512b6b\"}],\"tooltips\":[[\"post_str_b1\",\"@{post_str_b1}\"],[\"percent\",\"@{percent}\"]]}},{\"type\":\"object\",\"name\":\"SaveTool\",\"id\":\"2cc6da09-518e-45c0-9810-2f966f5ad714\"},{\"type\":\"object\",\"name\":\"PanTool\",\"id\":\"5d3b20f1-2b81-42cc-b3c9-dcd10645242e\"},{\"type\":\"object\",\"name\":\"BoxZoomTool\",\"id\":\"c5b07921-fae7-4071-9b8a-44668b986805\",\"attributes\":{\"dimensions\":\"both\",\"overlay\":{\"type\":\"object\",\"name\":\"BoxAnnotation\",\"id\":\"aafeba3c-714b-4d86-80b5-be376841d23d\",\"attributes\":{\"syncable\":false,\"line_color\":\"black\",\"line_alpha\":1.0,\"line_width\":2,\"line_dash\":[4,4],\"fill_color\":\"lightgrey\",\"fill_alpha\":0.5,\"level\":\"overlay\",\"visible\":false,\"left\":{\"type\":\"number\",\"value\":\"nan\"},\"right\":{\"type\":\"number\",\"value\":\"nan\"},\"top\":{\"type\":\"number\",\"value\":\"nan\"},\"bottom\":{\"type\":\"number\",\"value\":\"nan\"},\"left_units\":\"canvas\",\"right_units\":\"canvas\",\"top_units\":\"canvas\",\"bottom_units\":\"canvas\",\"handles\":{\"type\":\"object\",\"name\":\"BoxInteractionHandles\",\"id\":\"86b8e91b-3e03-4b2f-bb07-bb44ad8aa2b3\",\"attributes\":{\"all\":{\"type\":\"object\",\"name\":\"AreaVisuals\",\"id\":\"65dc8a31-eaa2-42f8-be90-79b2b5cdcf1a\",\"attributes\":{\"fill_color\":\"white\",\"hover_fill_color\":\"lightgray\"}}}}}}}},{\"type\":\"object\",\"name\":\"ResetTool\",\"id\":\"b59e564c-1a64-40ab-ac8b-cced07901158\"}],\"active_drag\":{\"id\":\"5d3b20f1-2b81-42cc-b3c9-dcd10645242e\"}}},\"left\":[{\"type\":\"object\",\"name\":\"LinearAxis\",\"id\":\"41507b59-800b-4986-acea-cb7da2c0f35b\",\"attributes\":{\"ticker\":{\"type\":\"object\",\"name\":\"BasicTicker\",\"id\":\"b66ef84e-1b58-4c85-993c-2cde48795846\",\"attributes\":{\"mantissas\":[1,2,5]}},\"formatter\":{\"type\":\"object\",\"name\":\"BasicTickFormatter\",\"id\":\"45e5ba74-3339-4460-bd39-91bdf26878ad\"},\"axis_label\":\"percent\",\"major_label_policy\":{\"type\":\"object\",\"name\":\"AllLabels\",\"id\":\"6ef0b72f-ddc7-4fa8-ba81-793d3ec4801c\"}}}],\"below\":[{\"type\":\"object\",\"name\":\"CategoricalAxis\",\"id\":\"dc0a896a-3178-4ab9-bfa2-fdd5136be7ad\",\"attributes\":{\"ticker\":{\"type\":\"object\",\"name\":\"CategoricalTicker\",\"id\":\"1565c245-c04d-4246-aa69-a39de53d538e\"},\"formatter\":{\"type\":\"object\",\"name\":\"CategoricalTickFormatter\",\"id\":\"7d2441cb-8114-4361-b2a9-799a9651e954\"},\"axis_label\":\"post_str_b1\",\"major_label_policy\":{\"type\":\"object\",\"name\":\"AllLabels\",\"id\":\"8bf63c66-c7ad-4ff7-944f-3332bc130bff\"}}}],\"center\":[{\"type\":\"object\",\"name\":\"Grid\",\"id\":\"703a9334-b27c-46a5-b853-724dac04ef64\",\"attributes\":{\"axis\":{\"id\":\"dc0a896a-3178-4ab9-bfa2-fdd5136be7ad\"},\"grid_line_color\":null}},{\"type\":\"object\",\"name\":\"Grid\",\"id\":\"1899c3d0-8dfe-4dfb-b487-991a0bb14aee\",\"attributes\":{\"dimension\":1,\"axis\":{\"id\":\"41507b59-800b-4986-acea-cb7da2c0f35b\"},\"grid_line_color\":null}}],\"min_border_top\":10,\"min_border_bottom\":10,\"min_border_left\":10,\"min_border_right\":10,\"output_backend\":\"webgl\"}},{\"type\":\"object\",\"name\":\"Spacer\",\"id\":\"4f872de1-a460-46a2-98a4-c9cefddb67ae\",\"attributes\":{\"name\":\"HSpacer01430\",\"stylesheets\":[\"\\n:host(.pn-loading):before, .pn-loading:before {\\n  background-color: #c3c3c3;\\n  mask-size: auto calc(min(50%, 400px));\\n  -webkit-mask-size: auto calc(min(50%, 400px));\\n}\",{\"id\":\"c02de33b-c779-4d21-bd57-df123ac6f3fa\"},{\"id\":\"0a3154cf-e314-4ca9-8a0f-c9560b47856f\"},{\"id\":\"b7bca234-0403-429b-9851-c5df7b757dff\"}],\"margin\":0,\"sizing_mode\":\"stretch_width\",\"align\":\"start\"}}]}}],\"defs\":[{\"type\":\"model\",\"name\":\"ReactiveHTML1\"},{\"type\":\"model\",\"name\":\"FlexBox1\",\"properties\":[{\"name\":\"align_content\",\"kind\":\"Any\",\"default\":\"flex-start\"},{\"name\":\"align_items\",\"kind\":\"Any\",\"default\":\"flex-start\"},{\"name\":\"flex_direction\",\"kind\":\"Any\",\"default\":\"row\"},{\"name\":\"flex_wrap\",\"kind\":\"Any\",\"default\":\"wrap\"},{\"name\":\"gap\",\"kind\":\"Any\",\"default\":\"\"},{\"name\":\"justify_content\",\"kind\":\"Any\",\"default\":\"flex-start\"}]},{\"type\":\"model\",\"name\":\"FloatPanel1\",\"properties\":[{\"name\":\"config\",\"kind\":\"Any\",\"default\":{\"type\":\"map\"}},{\"name\":\"contained\",\"kind\":\"Any\",\"default\":true},{\"name\":\"position\",\"kind\":\"Any\",\"default\":\"right-top\"},{\"name\":\"offsetx\",\"kind\":\"Any\",\"default\":null},{\"name\":\"offsety\",\"kind\":\"Any\",\"default\":null},{\"name\":\"theme\",\"kind\":\"Any\",\"default\":\"primary\"},{\"name\":\"status\",\"kind\":\"Any\",\"default\":\"normalized\"}]},{\"type\":\"model\",\"name\":\"GridStack1\",\"properties\":[{\"name\":\"ncols\",\"kind\":\"Any\",\"default\":null},{\"name\":\"nrows\",\"kind\":\"Any\",\"default\":null},{\"name\":\"allow_resize\",\"kind\":\"Any\",\"default\":true},{\"name\":\"allow_drag\",\"kind\":\"Any\",\"default\":true},{\"name\":\"state\",\"kind\":\"Any\",\"default\":[]}]},{\"type\":\"model\",\"name\":\"drag1\",\"properties\":[{\"name\":\"slider_width\",\"kind\":\"Any\",\"default\":5},{\"name\":\"slider_color\",\"kind\":\"Any\",\"default\":\"black\"},{\"name\":\"value\",\"kind\":\"Any\",\"default\":50}]},{\"type\":\"model\",\"name\":\"click1\",\"properties\":[{\"name\":\"terminal_output\",\"kind\":\"Any\",\"default\":\"\"},{\"name\":\"debug_name\",\"kind\":\"Any\",\"default\":\"\"},{\"name\":\"clears\",\"kind\":\"Any\",\"default\":0}]},{\"type\":\"model\",\"name\":\"FastWrapper1\",\"properties\":[{\"name\":\"object\",\"kind\":\"Any\",\"default\":null},{\"name\":\"style\",\"kind\":\"Any\",\"default\":null}]},{\"type\":\"model\",\"name\":\"NotificationArea1\",\"properties\":[{\"name\":\"js_events\",\"kind\":\"Any\",\"default\":{\"type\":\"map\"}},{\"name\":\"max_notifications\",\"kind\":\"Any\",\"default\":5},{\"name\":\"notifications\",\"kind\":\"Any\",\"default\":[]},{\"name\":\"position\",\"kind\":\"Any\",\"default\":\"bottom-right\"},{\"name\":\"_clear\",\"kind\":\"Any\",\"default\":0},{\"name\":\"types\",\"kind\":\"Any\",\"default\":[{\"type\":\"map\",\"entries\":[[\"type\",\"warning\"],[\"background\",\"#ffc107\"],[\"icon\",{\"type\":\"map\",\"entries\":[[\"className\",\"fas fa-exclamation-triangle\"],[\"tagName\",\"i\"],[\"color\",\"white\"]]}]]},{\"type\":\"map\",\"entries\":[[\"type\",\"info\"],[\"background\",\"#007bff\"],[\"icon\",{\"type\":\"map\",\"entries\":[[\"className\",\"fas fa-info-circle\"],[\"tagName\",\"i\"],[\"color\",\"white\"]]}]]}]}]},{\"type\":\"model\",\"name\":\"Notification\",\"properties\":[{\"name\":\"background\",\"kind\":\"Any\",\"default\":null},{\"name\":\"duration\",\"kind\":\"Any\",\"default\":3000},{\"name\":\"icon\",\"kind\":\"Any\",\"default\":null},{\"name\":\"message\",\"kind\":\"Any\",\"default\":\"\"},{\"name\":\"notification_type\",\"kind\":\"Any\",\"default\":null},{\"name\":\"_rendered\",\"kind\":\"Any\",\"default\":false},{\"name\":\"_destroyed\",\"kind\":\"Any\",\"default\":false}]},{\"type\":\"model\",\"name\":\"TemplateActions1\",\"properties\":[{\"name\":\"open_modal\",\"kind\":\"Any\",\"default\":0},{\"name\":\"close_modal\",\"kind\":\"Any\",\"default\":0}]},{\"type\":\"model\",\"name\":\"BootstrapTemplateActions1\",\"properties\":[{\"name\":\"open_modal\",\"kind\":\"Any\",\"default\":0},{\"name\":\"close_modal\",\"kind\":\"Any\",\"default\":0}]},{\"type\":\"model\",\"name\":\"TemplateEditor1\",\"properties\":[{\"name\":\"layout\",\"kind\":\"Any\",\"default\":[]}]},{\"type\":\"model\",\"name\":\"MaterialTemplateActions1\",\"properties\":[{\"name\":\"open_modal\",\"kind\":\"Any\",\"default\":0},{\"name\":\"close_modal\",\"kind\":\"Any\",\"default\":0}]},{\"type\":\"model\",\"name\":\"ReactiveESM1\",\"properties\":[{\"name\":\"esm_constants\",\"kind\":\"Any\",\"default\":{\"type\":\"map\"}}]},{\"type\":\"model\",\"name\":\"JSComponent1\",\"properties\":[{\"name\":\"esm_constants\",\"kind\":\"Any\",\"default\":{\"type\":\"map\"}}]},{\"type\":\"model\",\"name\":\"ReactComponent1\",\"properties\":[{\"name\":\"esm_constants\",\"kind\":\"Any\",\"default\":{\"type\":\"map\"}}]},{\"type\":\"model\",\"name\":\"AnyWidgetComponent1\",\"properties\":[{\"name\":\"esm_constants\",\"kind\":\"Any\",\"default\":{\"type\":\"map\"}}]},{\"type\":\"model\",\"name\":\"request_value1\",\"properties\":[{\"name\":\"fill\",\"kind\":\"Any\",\"default\":\"none\"},{\"name\":\"_synced\",\"kind\":\"Any\",\"default\":null},{\"name\":\"_request_sync\",\"kind\":\"Any\",\"default\":0}]}]}};\n",
       "  var render_items = [{\"docid\":\"37941dea-5391-44a4-a51f-7910c2925387\",\"roots\":{\"46ed450a-9d9e-42a4-b867-6e5624447ad3\":\"c4ef1263-5594-4a97-8df2-293de59ec16b\"},\"root_ids\":[\"46ed450a-9d9e-42a4-b867-6e5624447ad3\"]}];\n",
       "  var docs = Object.values(docs_json)\n",
       "  if (!docs) {\n",
       "    return\n",
       "  }\n",
       "  const py_version = docs[0].version.replace('rc', '-rc.').replace('.dev', '-dev.')\n",
       "  async function embed_document(root) {\n",
       "    var Bokeh = get_bokeh(root)\n",
       "    await Bokeh.embed.embed_items_notebook(docs_json, render_items);\n",
       "    for (const render_item of render_items) {\n",
       "      for (const root_id of render_item.root_ids) {\n",
       "\tconst id_el = document.getElementById(root_id)\n",
       "\tif (id_el.children.length && id_el.children[0].hasAttribute('data-root-id')) {\n",
       "\t  const root_el = id_el.children[0]\n",
       "\t  root_el.id = root_el.id + '-rendered'\n",
       "\t  for (const child of root_el.children) {\n",
       "            // Ensure JupyterLab does not capture keyboard shortcuts\n",
       "            // see: https://jupyterlab.readthedocs.io/en/4.1.x/extension/notebook.html#keyboard-interaction-model\n",
       "\t    child.setAttribute('data-lm-suppress-shortcuts', 'true')\n",
       "\t  }\n",
       "\t}\n",
       "      }\n",
       "    }\n",
       "  }\n",
       "  function get_bokeh(root) {\n",
       "    if (root.Bokeh === undefined) {\n",
       "      return null\n",
       "    } else if (root.Bokeh.version !== py_version) {\n",
       "      if (root.Bokeh.versions === undefined || !root.Bokeh.versions.has(py_version)) {\n",
       "\treturn null\n",
       "      }\n",
       "      return root.Bokeh.versions.get(py_version);\n",
       "    } else if (root.Bokeh.version === py_version) {\n",
       "      return root.Bokeh\n",
       "    }\n",
       "    return null\n",
       "  }\n",
       "  function is_loaded(root) {\n",
       "    var Bokeh = get_bokeh(root)\n",
       "    return (Bokeh != null && Bokeh.Panel !== undefined)\n",
       "  }\n",
       "  if (is_loaded(root)) {\n",
       "    embed_document(root);\n",
       "  } else {\n",
       "    var attempts = 0;\n",
       "    var timer = setInterval(function(root) {\n",
       "      if (is_loaded(root)) {\n",
       "        clearInterval(timer);\n",
       "        embed_document(root);\n",
       "      } else if (document.readyState == \"complete\") {\n",
       "        attempts++;\n",
       "        if (attempts > 200) {\n",
       "          clearInterval(timer);\n",
       "\t  var Bokeh = get_bokeh(root)\n",
       "\t  if (Bokeh == null || Bokeh.Panel == null) {\n",
       "            console.warn(\"Panel: ERROR: Unable to run Panel code because Bokeh or Panel library is missing\");\n",
       "\t  } else {\n",
       "\t    console.warn(\"Panel: WARNING: Attempting to render but not all required libraries could be resolved.\")\n",
       "\t    embed_document(root)\n",
       "\t  }\n",
       "        }\n",
       "      }\n",
       "    }, 25, root)\n",
       "  }\n",
       "})(window);</script>"
      ],
      "text/plain": [
       ":Overlay\n",
       "   .Bars.I    :Bars   [post_str_b1]   (percent)\n",
       "   .HLine.I   :HLine   [x,y]\n",
       "   .HLine.II  :HLine   [x,y]\n",
       "   .HLine.III :HLine   [x,y]"
      ]
     },
     "metadata": {
      "application/vnd.holoviews_exec.v0+json": {
       "id": "46ed450a-9d9e-42a4-b867-6e5624447ad3"
      }
     },
     "output_type": "display_data"
    },
    {
     "name": "stdout",
     "output_type": "stream",
     "text": [
      "df_10_last FOR str_b1 = 14\n",
      "Last 3 results last_results=['06', '04', '05']\n"
     ]
    },
    {
     "data": {
      "text/html": [
       "<div><style>\n",
       ".dataframe > thead > tr,\n",
       ".dataframe > tbody > tr {\n",
       "  text-align: right;\n",
       "  white-space: pre-wrap;\n",
       "}\n",
       "</style>\n",
       "<small>shape: (10, 24)</small><table border=\"1\" class=\"dataframe\"><thead><tr><th>fecha</th><th>sorteo</th><th>bolillas</th><th>id</th><th>combo</th><th>b1</th><th>b2</th><th>b3</th><th>b4</th><th>b5</th><th>str_b1</th><th>str_b2</th><th>str_b3</th><th>str_b4</th><th>str_b5</th><th>post_str_b1</th><th>post_str_b2</th><th>post_str_b3</th><th>post_str_b4</th><th>post_str_blast</th><th>is_rare_combination</th><th>reason</th><th>jumps_map</th><th>unijump</th></tr><tr><td>str</td><td>str</td><td>str</td><td>str</td><td>array[u8, 5]</td><td>u8</td><td>u8</td><td>u8</td><td>u8</td><td>u8</td><td>str</td><td>str</td><td>str</td><td>str</td><td>str</td><td>str</td><td>str</td><td>str</td><td>str</td><td>str</td><td>bool</td><td>u8</td><td>str</td><td>i64</td></tr></thead><tbody><tr><td>&quot;05/02/2025&quot;</td><td>&quot;4118&quot;</td><td>&quot;28 14 19 34 31&quot;</td><td>&quot;1419283134&quot;</td><td>[14, 19, … 34]</td><td>14</td><td>19</td><td>28</td><td>31</td><td>34</td><td>&quot;14&quot;</td><td>&quot;19&quot;</td><td>&quot;28&quot;</td><td>&quot;31&quot;</td><td>&quot;34&quot;</td><td>&quot;06&quot;</td><td>&quot;11&quot;</td><td>&quot;14&quot;</td><td>&quot;20&quot;</td><td>&quot;25&quot;</td><td>true</td><td>8</td><td>&quot;05_09_03_03&quot;</td><td>16</td></tr><tr><td>&quot;03/09/2024&quot;</td><td>&quot;3963&quot;</td><td>&quot;15 33 14 20 29&quot;</td><td>&quot;1415202933&quot;</td><td>[14, 15, … 33]</td><td>14</td><td>15</td><td>20</td><td>29</td><td>33</td><td>&quot;14&quot;</td><td>&quot;15&quot;</td><td>&quot;20&quot;</td><td>&quot;29&quot;</td><td>&quot;33&quot;</td><td>&quot;04&quot;</td><td>&quot;10&quot;</td><td>&quot;21&quot;</td><td>&quot;26&quot;</td><td>&quot;29&quot;</td><td>false</td><td>0</td><td>&quot;01_05_09_04&quot;</td><td>-9</td></tr><tr><td>&quot;30/07/2024&quot;</td><td>&quot;3928&quot;</td><td>&quot;25 17 30 23 14&quot;</td><td>&quot;1417232530&quot;</td><td>[14, 17, … 30]</td><td>14</td><td>17</td><td>23</td><td>25</td><td>30</td><td>&quot;14&quot;</td><td>&quot;17&quot;</td><td>&quot;23&quot;</td><td>&quot;25&quot;</td><td>&quot;30&quot;</td><td>&quot;05&quot;</td><td>&quot;08&quot;</td><td>&quot;19&quot;</td><td>&quot;27&quot;</td><td>&quot;35&quot;</td><td>false</td><td>0</td><td>&quot;03_06_02_05&quot;</td><td>14</td></tr><tr><td>&quot;16/01/2024&quot;</td><td>&quot;3732&quot;</td><td>&quot;17 33 21 14 15&quot;</td><td>&quot;1415172133&quot;</td><td>[14, 15, … 33]</td><td>14</td><td>15</td><td>17</td><td>21</td><td>33</td><td>&quot;14&quot;</td><td>&quot;15&quot;</td><td>&quot;17&quot;</td><td>&quot;21&quot;</td><td>&quot;33&quot;</td><td>&quot;04&quot;</td><td>&quot;09&quot;</td><td>&quot;11&quot;</td><td>&quot;15&quot;</td><td>&quot;20&quot;</td><td>false</td><td>0</td><td>&quot;01_02_04_12&quot;</td><td>5</td></tr><tr><td>&quot;18/10/2023&quot;</td><td>&quot;3642&quot;</td><td>&quot;17 14 18 26 34&quot;</td><td>&quot;1417182634&quot;</td><td>[14, 17, … 34]</td><td>14</td><td>17</td><td>18</td><td>26</td><td>34</td><td>&quot;14&quot;</td><td>&quot;17&quot;</td><td>&quot;18&quot;</td><td>&quot;26&quot;</td><td>&quot;34&quot;</td><td>&quot;05&quot;</td><td>&quot;17&quot;</td><td>&quot;22&quot;</td><td>&quot;23&quot;</td><td>&quot;25&quot;</td><td>true</td><td>8</td><td>&quot;03_01_08_08&quot;</td><td>-16</td></tr><tr><td>&quot;15/10/2023&quot;</td><td>&quot;3639&quot;</td><td>&quot;23 21 34 24 14&quot;</td><td>&quot;1421232434&quot;</td><td>[14, 21, … 34]</td><td>14</td><td>21</td><td>23</td><td>24</td><td>34</td><td>&quot;14&quot;</td><td>&quot;21&quot;</td><td>&quot;23&quot;</td><td>&quot;24&quot;</td><td>&quot;34&quot;</td><td>&quot;03&quot;</td><td>&quot;08&quot;</td><td>&quot;17&quot;</td><td>&quot;19&quot;</td><td>&quot;35&quot;</td><td>false</td><td>0</td><td>&quot;07_02_01_10&quot;</td><td>6</td></tr><tr><td>&quot;01/09/2023&quot;</td><td>&quot;3595&quot;</td><td>&quot;33 14 21 27 34&quot;</td><td>&quot;1421273334&quot;</td><td>[14, 21, … 34]</td><td>14</td><td>21</td><td>27</td><td>33</td><td>34</td><td>&quot;14&quot;</td><td>&quot;21&quot;</td><td>&quot;27&quot;</td><td>&quot;33&quot;</td><td>&quot;34&quot;</td><td>&quot;03&quot;</td><td>&quot;04&quot;</td><td>&quot;05&quot;</td><td>&quot;06&quot;</td><td>&quot;24&quot;</td><td>true</td><td>8</td><td>&quot;07_06_06_01&quot;</td><td>-6</td></tr><tr><td>&quot;20/12/2022&quot;</td><td>&quot;3340&quot;</td><td>&quot;15 29 14 20 33&quot;</td><td>&quot;1415202933&quot;</td><td>[14, 15, … 33]</td><td>14</td><td>15</td><td>20</td><td>29</td><td>33</td><td>&quot;14&quot;</td><td>&quot;15&quot;</td><td>&quot;20&quot;</td><td>&quot;29&quot;</td><td>&quot;33&quot;</td><td>&quot;06&quot;</td><td>&quot;08&quot;</td><td>&quot;11&quot;</td><td>&quot;22&quot;</td><td>&quot;27&quot;</td><td>false</td><td>0</td><td>&quot;01_05_09_04&quot;</td><td>-9</td></tr><tr><td>&quot;28/11/2022&quot;</td><td>&quot;3318&quot;</td><td>&quot;28 32 25 21 14&quot;</td><td>&quot;1421252832&quot;</td><td>[14, 21, … 32]</td><td>14</td><td>21</td><td>25</td><td>28</td><td>32</td><td>&quot;14&quot;</td><td>&quot;21&quot;</td><td>&quot;25&quot;</td><td>&quot;28&quot;</td><td>&quot;32&quot;</td><td>&quot;06&quot;</td><td>&quot;13&quot;</td><td>&quot;23&quot;</td><td>&quot;32&quot;</td><td>&quot;33&quot;</td><td>false</td><td>0</td><td>&quot;07_04_03_04&quot;</td><td>0</td></tr><tr><td>&quot;25/08/2022&quot;</td><td>&quot;3223&quot;</td><td>&quot;35 34 14 28 32&quot;</td><td>&quot;1428323435&quot;</td><td>[14, 28, … 35]</td><td>14</td><td>28</td><td>32</td><td>34</td><td>35</td><td>&quot;14&quot;</td><td>&quot;28&quot;</td><td>&quot;32&quot;</td><td>&quot;34&quot;</td><td>&quot;35&quot;</td><td>&quot;06&quot;</td><td>&quot;22&quot;</td><td>&quot;29&quot;</td><td>&quot;30&quot;</td><td>&quot;32&quot;</td><td>false</td><td>0</td><td>&quot;14_04_02_01&quot;</td><td>-7</td></tr></tbody></table></div>"
      ],
      "text/plain": [
       "shape: (10, 24)\n",
       "┌────────────┬────────┬─────────────┬────────────┬───┬─────────────┬────────┬────────────┬─────────┐\n",
       "│ fecha      ┆ sorteo ┆ bolillas    ┆ id         ┆ … ┆ is_rare_com ┆ reason ┆ jumps_map  ┆ unijump │\n",
       "│ ---        ┆ ---    ┆ ---         ┆ ---        ┆   ┆ bination    ┆ ---    ┆ ---        ┆ ---     │\n",
       "│ str        ┆ str    ┆ str         ┆ str        ┆   ┆ ---         ┆ u8     ┆ str        ┆ i64     │\n",
       "│            ┆        ┆             ┆            ┆   ┆ bool        ┆        ┆            ┆         │\n",
       "╞════════════╪════════╪═════════════╪════════════╪═══╪═════════════╪════════╪════════════╪═════════╡\n",
       "│ 05/02/2025 ┆ 4118   ┆ 28 14 19 34 ┆ 1419283134 ┆ … ┆ true        ┆ 8      ┆ 05_09_03_0 ┆ 16      │\n",
       "│            ┆        ┆ 31          ┆            ┆   ┆             ┆        ┆ 3          ┆         │\n",
       "│ 03/09/2024 ┆ 3963   ┆ 15 33 14 20 ┆ 1415202933 ┆ … ┆ false       ┆ 0      ┆ 01_05_09_0 ┆ -9      │\n",
       "│            ┆        ┆ 29          ┆            ┆   ┆             ┆        ┆ 4          ┆         │\n",
       "│ 30/07/2024 ┆ 3928   ┆ 25 17 30 23 ┆ 1417232530 ┆ … ┆ false       ┆ 0      ┆ 03_06_02_0 ┆ 14      │\n",
       "│            ┆        ┆ 14          ┆            ┆   ┆             ┆        ┆ 5          ┆         │\n",
       "│ 16/01/2024 ┆ 3732   ┆ 17 33 21 14 ┆ 1415172133 ┆ … ┆ false       ┆ 0      ┆ 01_02_04_1 ┆ 5       │\n",
       "│            ┆        ┆ 15          ┆            ┆   ┆             ┆        ┆ 2          ┆         │\n",
       "│ 18/10/2023 ┆ 3642   ┆ 17 14 18 26 ┆ 1417182634 ┆ … ┆ true        ┆ 8      ┆ 03_01_08_0 ┆ -16     │\n",
       "│            ┆        ┆ 34          ┆            ┆   ┆             ┆        ┆ 8          ┆         │\n",
       "│ 15/10/2023 ┆ 3639   ┆ 23 21 34 24 ┆ 1421232434 ┆ … ┆ false       ┆ 0      ┆ 07_02_01_1 ┆ 6       │\n",
       "│            ┆        ┆ 14          ┆            ┆   ┆             ┆        ┆ 0          ┆         │\n",
       "│ 01/09/2023 ┆ 3595   ┆ 33 14 21 27 ┆ 1421273334 ┆ … ┆ true        ┆ 8      ┆ 07_06_06_0 ┆ -6      │\n",
       "│            ┆        ┆ 34          ┆            ┆   ┆             ┆        ┆ 1          ┆         │\n",
       "│ 20/12/2022 ┆ 3340   ┆ 15 29 14 20 ┆ 1415202933 ┆ … ┆ false       ┆ 0      ┆ 01_05_09_0 ┆ -9      │\n",
       "│            ┆        ┆ 33          ┆            ┆   ┆             ┆        ┆ 4          ┆         │\n",
       "│ 28/11/2022 ┆ 3318   ┆ 28 32 25 21 ┆ 1421252832 ┆ … ┆ false       ┆ 0      ┆ 07_04_03_0 ┆ 0       │\n",
       "│            ┆        ┆ 14          ┆            ┆   ┆             ┆        ┆ 4          ┆         │\n",
       "│ 25/08/2022 ┆ 3223   ┆ 35 34 14 28 ┆ 1428323435 ┆ … ┆ false       ┆ 0      ┆ 14_04_02_0 ┆ -7      │\n",
       "│            ┆        ┆ 32          ┆            ┆   ┆             ┆        ┆ 1          ┆         │\n",
       "└────────────┴────────┴─────────────┴────────────┴───┴─────────────┴────────┴────────────┴─────────┘"
      ]
     },
     "metadata": {},
     "output_type": "display_data"
    },
    {
     "name": "stdout",
     "output_type": "stream",
     "text": [
      "df_jumps_map FOR str_b1 = 14\n"
     ]
    },
    {
     "data": {
      "text/html": [
       "<div><style>\n",
       ".dataframe > thead > tr,\n",
       ".dataframe > tbody > tr {\n",
       "  text-align: right;\n",
       "  white-space: pre-wrap;\n",
       "}\n",
       "</style>\n",
       "<small>shape: (139, 2)</small><table border=\"1\" class=\"dataframe\"><thead><tr><th>jumps_map</th><th>count</th></tr><tr><td>str</td><td>u32</td></tr></thead><tbody><tr><td>&quot;08_01_04_02&quot;</td><td>2</td></tr><tr><td>&quot;07_04_03_04&quot;</td><td>2</td></tr><tr><td>&quot;01_05_09_04&quot;</td><td>2</td></tr><tr><td>&quot;06_08_03_03&quot;</td><td>2</td></tr><tr><td>&quot;07_02_04_06&quot;</td><td>1</td></tr><tr><td>&hellip;</td><td>&hellip;</td></tr><tr><td>&quot;08_08_04_01&quot;</td><td>1</td></tr><tr><td>&quot;01_04_03_04&quot;</td><td>1</td></tr><tr><td>&quot;03_08_04_04&quot;</td><td>1</td></tr><tr><td>&quot;02_03_03_01&quot;</td><td>1</td></tr><tr><td>&quot;07_02_01_10&quot;</td><td>1</td></tr></tbody></table></div>"
      ],
      "text/plain": [
       "shape: (139, 2)\n",
       "┌─────────────┬───────┐\n",
       "│ jumps_map   ┆ count │\n",
       "│ ---         ┆ ---   │\n",
       "│ str         ┆ u32   │\n",
       "╞═════════════╪═══════╡\n",
       "│ 08_01_04_02 ┆ 2     │\n",
       "│ 07_04_03_04 ┆ 2     │\n",
       "│ 01_05_09_04 ┆ 2     │\n",
       "│ 06_08_03_03 ┆ 2     │\n",
       "│ 07_02_04_06 ┆ 1     │\n",
       "│ …           ┆ …     │\n",
       "│ 08_08_04_01 ┆ 1     │\n",
       "│ 01_04_03_04 ┆ 1     │\n",
       "│ 03_08_04_04 ┆ 1     │\n",
       "│ 02_03_03_01 ┆ 1     │\n",
       "│ 07_02_01_10 ┆ 1     │\n",
       "└─────────────┴───────┘"
      ]
     },
     "metadata": {},
     "output_type": "display_data"
    },
    {
     "name": "stdout",
     "output_type": "stream",
     "text": [
      "df_unijump FOR str_b1 = 14\n"
     ]
    },
    {
     "data": {
      "text/html": [
       "<div><style>\n",
       ".dataframe > thead > tr,\n",
       ".dataframe > tbody > tr {\n",
       "  text-align: right;\n",
       "  white-space: pre-wrap;\n",
       "}\n",
       "</style>\n",
       "<small>shape: (51, 2)</small><table border=\"1\" class=\"dataframe\"><thead><tr><th>unijump</th><th>count</th></tr><tr><td>i64</td><td>u32</td></tr></thead><tbody><tr><td>-7</td><td>7</td></tr><tr><td>3</td><td>6</td></tr><tr><td>-6</td><td>6</td></tr><tr><td>-1</td><td>6</td></tr><tr><td>-11</td><td>5</td></tr><tr><td>&hellip;</td><td>&hellip;</td></tr><tr><td>18</td><td>1</td></tr><tr><td>-39</td><td>1</td></tr><tr><td>1</td><td>1</td></tr><tr><td>22</td><td>1</td></tr><tr><td>25</td><td>1</td></tr></tbody></table></div>"
      ],
      "text/plain": [
       "shape: (51, 2)\n",
       "┌─────────┬───────┐\n",
       "│ unijump ┆ count │\n",
       "│ ---     ┆ ---   │\n",
       "│ i64     ┆ u32   │\n",
       "╞═════════╪═══════╡\n",
       "│ -7      ┆ 7     │\n",
       "│ 3       ┆ 6     │\n",
       "│ -6      ┆ 6     │\n",
       "│ -1      ┆ 6     │\n",
       "│ -11     ┆ 5     │\n",
       "│ …       ┆ …     │\n",
       "│ 18      ┆ 1     │\n",
       "│ -39     ┆ 1     │\n",
       "│ 1       ┆ 1     │\n",
       "│ 22      ┆ 1     │\n",
       "│ 25      ┆ 1     │\n",
       "└─────────┴───────┘"
      ]
     },
     "metadata": {},
     "output_type": "display_data"
    }
   ],
   "source": [
    "possible_b1, exclude_jump_maps_b1, last_post_b1 = plot_post_col(col='str_b1', post_col='post_str_b1')"
   ]
  },
  {
   "cell_type": "code",
   "execution_count": 56,
   "metadata": {},
   "outputs": [
    {
     "name": "stdout",
     "output_type": "stream",
     "text": [
      "Setting test_value='16'\n",
      "df_viz FOR str_b2 = 16\n"
     ]
    },
    {
     "data": {
      "text/html": [
       "<div><style>\n",
       ".dataframe > thead > tr,\n",
       ".dataframe > tbody > tr {\n",
       "  text-align: right;\n",
       "  white-space: pre-wrap;\n",
       "}\n",
       "</style>\n",
       "<small>shape: (27, 3)</small><table border=\"1\" class=\"dataframe\"><thead><tr><th>post_str_b2</th><th>count</th><th>percent</th></tr><tr><td>str</td><td>u32</td><td>f64</td></tr></thead><tbody><tr><td>&quot;07&quot;</td><td>26</td><td>7.902736</td></tr><tr><td>&quot;13&quot;</td><td>20</td><td>6.079027</td></tr><tr><td>&quot;15&quot;</td><td>20</td><td>6.079027</td></tr><tr><td>&quot;12&quot;</td><td>19</td><td>5.775076</td></tr><tr><td>&quot;16&quot;</td><td>19</td><td>5.775076</td></tr><tr><td>&hellip;</td><td>&hellip;</td><td>&hellip;</td></tr><tr><td>&quot;25&quot;</td><td>4</td><td>1.215805</td></tr><tr><td>&quot;24&quot;</td><td>3</td><td>0.911854</td></tr><tr><td>&quot;28&quot;</td><td>2</td><td>0.607903</td></tr><tr><td>&quot;27&quot;</td><td>2</td><td>0.607903</td></tr><tr><td>&quot;26&quot;</td><td>1</td><td>0.303951</td></tr></tbody></table></div>"
      ],
      "text/plain": [
       "shape: (27, 3)\n",
       "┌─────────────┬───────┬──────────┐\n",
       "│ post_str_b2 ┆ count ┆ percent  │\n",
       "│ ---         ┆ ---   ┆ ---      │\n",
       "│ str         ┆ u32   ┆ f64      │\n",
       "╞═════════════╪═══════╪══════════╡\n",
       "│ 07          ┆ 26    ┆ 7.902736 │\n",
       "│ 13          ┆ 20    ┆ 6.079027 │\n",
       "│ 15          ┆ 20    ┆ 6.079027 │\n",
       "│ 12          ┆ 19    ┆ 5.775076 │\n",
       "│ 16          ┆ 19    ┆ 5.775076 │\n",
       "│ …           ┆ …     ┆ …        │\n",
       "│ 25          ┆ 4     ┆ 1.215805 │\n",
       "│ 24          ┆ 3     ┆ 0.911854 │\n",
       "│ 28          ┆ 2     ┆ 0.607903 │\n",
       "│ 27          ┆ 2     ┆ 0.607903 │\n",
       "│ 26          ┆ 1     ┆ 0.303951 │\n",
       "└─────────────┴───────┴──────────┘"
      ]
     },
     "metadata": {},
     "output_type": "display_data"
    },
    {
     "data": {},
     "metadata": {},
     "output_type": "display_data"
    },
    {
     "data": {
      "application/vnd.holoviews_exec.v0+json": "",
      "text/html": [
       "<div id='8fd78bd4-27b7-43b6-b3e6-11452c93b5a6'>\n",
       "  <div id=\"aaba19c2-7863-4953-992f-82486a96b886\" data-root-id=\"8fd78bd4-27b7-43b6-b3e6-11452c93b5a6\" style=\"display: contents;\"></div>\n",
       "</div>\n",
       "<script type=\"application/javascript\">(function(root) {\n",
       "  var docs_json = {\"788ba887-6f0c-45af-a268-afd2d9023204\":{\"version\":\"3.7.2\",\"title\":\"Bokeh Application\",\"roots\":[{\"type\":\"object\",\"name\":\"Row\",\"id\":\"8fd78bd4-27b7-43b6-b3e6-11452c93b5a6\",\"attributes\":{\"name\":\"Row01496\",\"tags\":[\"embedded\"],\"stylesheets\":[\"\\n:host(.pn-loading):before, .pn-loading:before {\\n  background-color: #c3c3c3;\\n  mask-size: auto calc(min(50%, 400px));\\n  -webkit-mask-size: auto calc(min(50%, 400px));\\n}\",{\"type\":\"object\",\"name\":\"ImportedStyleSheet\",\"id\":\"d639afba-ab5e-4a11-a779-6f1e5fd79c38\",\"attributes\":{\"url\":\"https://cdn.holoviz.org/panel/1.6.2/dist/css/loading.css\"}},{\"type\":\"object\",\"name\":\"ImportedStyleSheet\",\"id\":\"8523ec26-5d0f-4fb5-9d62-79006be06cef\",\"attributes\":{\"url\":\"https://cdn.holoviz.org/panel/1.6.2/dist/css/listpanel.css\"}},{\"type\":\"object\",\"name\":\"ImportedStyleSheet\",\"id\":\"5e571917-ec56-4f67-b996-8512a472f985\",\"attributes\":{\"url\":\"https://cdn.holoviz.org/panel/1.6.2/dist/bundled/theme/default.css\"}},{\"type\":\"object\",\"name\":\"ImportedStyleSheet\",\"id\":\"2c0954b6-5fec-4e47-a374-6e2099afa1c2\",\"attributes\":{\"url\":\"https://cdn.holoviz.org/panel/1.6.2/dist/bundled/theme/native.css\"}}],\"min_width\":700,\"margin\":0,\"sizing_mode\":\"stretch_width\",\"align\":\"start\",\"children\":[{\"type\":\"object\",\"name\":\"Spacer\",\"id\":\"fbc8f271-80f0-4b4e-a6d6-b4436e21e475\",\"attributes\":{\"name\":\"HSpacer01500\",\"stylesheets\":[\"\\n:host(.pn-loading):before, .pn-loading:before {\\n  background-color: #c3c3c3;\\n  mask-size: auto calc(min(50%, 400px));\\n  -webkit-mask-size: auto calc(min(50%, 400px));\\n}\",{\"id\":\"d639afba-ab5e-4a11-a779-6f1e5fd79c38\"},{\"id\":\"5e571917-ec56-4f67-b996-8512a472f985\"},{\"id\":\"2c0954b6-5fec-4e47-a374-6e2099afa1c2\"}],\"margin\":0,\"sizing_mode\":\"stretch_width\",\"align\":\"start\"}},{\"type\":\"object\",\"name\":\"Figure\",\"id\":\"c04cb502-3a33-421e-96de-1bf369f4313d\",\"attributes\":{\"width\":700,\"height\":300,\"margin\":[5,10],\"sizing_mode\":\"fixed\",\"align\":\"start\",\"x_range\":{\"type\":\"object\",\"name\":\"FactorRange\",\"id\":\"827b012c-94f1-46fd-a4f5-501a6b6d0a8a\",\"attributes\":{\"name\":\"post_str_b2\",\"tags\":[[[\"post_str_b2\",null]],[]],\"factors\":[\"07\",\"13\",\"15\",\"12\",\"16\",\"04\",\"09\",\"08\",\"10\",\"14\",\"17\",\"06\",\"11\",\"18\",\"20\",\"05\",\"23\",\"22\",\"19\",\"03\",\"02\",\"21\",\"25\",\"24\",\"28\",\"27\",\"26\"]}},\"y_range\":{\"type\":\"object\",\"name\":\"Range1d\",\"id\":\"5a4a6db8-56bd-45fe-bdab-9c4220588edb\",\"attributes\":{\"name\":\"percent\",\"tags\":[[[\"percent\",null]],{\"type\":\"map\",\"entries\":[[\"invert_yaxis\",false],[\"autorange\",false]]}],\"end\":8.662613981762918,\"reset_start\":0.0,\"reset_end\":8.662613981762918}},\"x_scale\":{\"type\":\"object\",\"name\":\"CategoricalScale\",\"id\":\"9c72af5d-bf1e-4d06-9313-eb91fd3ecfff\"},\"y_scale\":{\"type\":\"object\",\"name\":\"LinearScale\",\"id\":\"9722f524-2e2f-452c-9502-96620a31ea39\"},\"title\":{\"type\":\"object\",\"name\":\"Title\",\"id\":\"336219fd-a0ba-45fe-998b-90da0b3c99b6\",\"attributes\":{\"text_color\":\"black\",\"text_font_size\":\"12pt\"}},\"renderers\":[{\"type\":\"object\",\"name\":\"GlyphRenderer\",\"id\":\"ce2bce65-ec22-4e28-9438-9ef01e7ff614\",\"attributes\":{\"data_source\":{\"type\":\"object\",\"name\":\"ColumnDataSource\",\"id\":\"f0cc0e7b-bcff-4585-91b4-e7130a60ceef\",\"attributes\":{\"selected\":{\"type\":\"object\",\"name\":\"Selection\",\"id\":\"ca80436b-2a61-4f5d-887c-838f89af77aa\",\"attributes\":{\"indices\":[],\"line_indices\":[]}},\"selection_policy\":{\"type\":\"object\",\"name\":\"UnionRenderers\",\"id\":\"d6e3d75c-e8a1-4526-83e4-fa2b9df1de3f\"},\"data\":{\"type\":\"map\",\"entries\":[[\"post_str_b2\",[\"07\",\"13\",\"15\",\"12\",\"16\",\"04\",\"09\",\"08\",\"10\",\"14\",\"17\",\"06\",\"11\",\"18\",\"20\",\"05\",\"23\",\"22\",\"19\",\"03\",\"02\",\"21\",\"25\",\"24\",\"28\",\"27\",\"26\"]],[\"percent\",{\"type\":\"ndarray\",\"array\":{\"type\":\"bytes\",\"data\":\"IzsUtmacH0D0jw+M7FAYQPSPD4zsUBhAwcgOha0ZF0DByA6FrRkXQI4BDn5u4hVAjgEOfm7iFUBcOg13L6sUQFw6DXcvqxRAKXMMcPBzE0Apcwxw8HMTQClzDHDwcxNA96sLabE8EkDE5ApicgURQCM7FLZmnA9AIzsUtmacD0Apcwxw8HMDQMTkCmJyBQFAxOQKYnIFAUDE5ApicgUBQL2sEqjoLf0/9I8PjOxQ+D8pcwxw8HPzP72sEqjoLe0/KXMMcPBz4z8pcwxw8HPjPylzDHDwc9M/\"},\"shape\":[27],\"dtype\":\"float64\",\"order\":\"little\"}]]}}},\"view\":{\"type\":\"object\",\"name\":\"CDSView\",\"id\":\"e8bfdd20-4ff5-4d98-a316-1f17bee5b9e8\",\"attributes\":{\"filter\":{\"type\":\"object\",\"name\":\"AllIndices\",\"id\":\"0e5c1452-240f-4b27-ae76-d0841c034dc9\"}}},\"glyph\":{\"type\":\"object\",\"name\":\"VBar\",\"id\":\"bc706b45-20bf-45c0-ae59-3f3443124ca9\",\"attributes\":{\"tags\":[\"apply_ranges\"],\"x\":{\"type\":\"field\",\"field\":\"post_str_b2\"},\"width\":{\"type\":\"value\",\"value\":0.8},\"top\":{\"type\":\"field\",\"field\":\"percent\"},\"fill_color\":{\"type\":\"value\",\"value\":\"#30a2da\"},\"hatch_color\":{\"type\":\"value\",\"value\":\"#30a2da\"}}},\"selection_glyph\":{\"type\":\"object\",\"name\":\"VBar\",\"id\":\"ef40c876-6c3c-4e85-8184-73d52475e9cf\",\"attributes\":{\"tags\":[\"apply_ranges\"],\"x\":{\"type\":\"field\",\"field\":\"post_str_b2\"},\"width\":{\"type\":\"value\",\"value\":0.8},\"bottom\":{\"type\":\"value\",\"value\":0},\"top\":{\"type\":\"field\",\"field\":\"percent\"},\"line_color\":{\"type\":\"value\",\"value\":\"black\"},\"line_alpha\":{\"type\":\"value\",\"value\":1.0},\"line_width\":{\"type\":\"value\",\"value\":1},\"line_join\":{\"type\":\"value\",\"value\":\"bevel\"},\"line_cap\":{\"type\":\"value\",\"value\":\"butt\"},\"line_dash\":{\"type\":\"value\",\"value\":[]},\"line_dash_offset\":{\"type\":\"value\",\"value\":0},\"fill_color\":{\"type\":\"value\",\"value\":\"#30a2da\"},\"fill_alpha\":{\"type\":\"value\",\"value\":1.0},\"hatch_color\":{\"type\":\"value\",\"value\":\"#30a2da\"},\"hatch_alpha\":{\"type\":\"value\",\"value\":1.0},\"hatch_scale\":{\"type\":\"value\",\"value\":12.0},\"hatch_pattern\":{\"type\":\"value\",\"value\":null},\"hatch_weight\":{\"type\":\"value\",\"value\":1.0}}},\"nonselection_glyph\":{\"type\":\"object\",\"name\":\"VBar\",\"id\":\"c9494044-ef13-4e44-9b8a-698d87de633e\",\"attributes\":{\"tags\":[\"apply_ranges\"],\"x\":{\"type\":\"field\",\"field\":\"post_str_b2\"},\"width\":{\"type\":\"value\",\"value\":0.8},\"top\":{\"type\":\"field\",\"field\":\"percent\"},\"line_alpha\":{\"type\":\"value\",\"value\":0.1},\"fill_color\":{\"type\":\"value\",\"value\":\"#30a2da\"},\"fill_alpha\":{\"type\":\"value\",\"value\":0.1},\"hatch_color\":{\"type\":\"value\",\"value\":\"#30a2da\"},\"hatch_alpha\":{\"type\":\"value\",\"value\":0.1}}},\"muted_glyph\":{\"type\":\"object\",\"name\":\"VBar\",\"id\":\"70c007a1-1e4e-401c-b091-221549af10ba\",\"attributes\":{\"tags\":[\"apply_ranges\"],\"x\":{\"type\":\"field\",\"field\":\"post_str_b2\"},\"width\":{\"type\":\"value\",\"value\":0.8},\"top\":{\"type\":\"field\",\"field\":\"percent\"},\"line_alpha\":{\"type\":\"value\",\"value\":0.2},\"fill_color\":{\"type\":\"value\",\"value\":\"#30a2da\"},\"fill_alpha\":{\"type\":\"value\",\"value\":0.2},\"hatch_color\":{\"type\":\"value\",\"value\":\"#30a2da\"},\"hatch_alpha\":{\"type\":\"value\",\"value\":0.2}}}}},{\"type\":\"object\",\"name\":\"Span\",\"id\":\"3085172c-3972-4b14-9c24-f640cb94dbbc\",\"attributes\":{\"level\":\"glyph\",\"location\":3.703703703703703,\"line_color\":\"red\",\"line_width\":3}},{\"type\":\"object\",\"name\":\"Span\",\"id\":\"6cd711f5-8978-46fd-9044-b71691ef271f\",\"attributes\":{\"level\":\"glyph\",\"location\":5.5555555555555545,\"line_color\":\"blue\",\"line_width\":3}},{\"type\":\"object\",\"name\":\"Span\",\"id\":\"cee42019-ef15-4dd1-8235-b224cde9eb9d\",\"attributes\":{\"level\":\"glyph\",\"location\":1.8518518518518514,\"line_color\":\"blue\",\"line_width\":3}}],\"toolbar\":{\"type\":\"object\",\"name\":\"Toolbar\",\"id\":\"fb81361f-c86c-4104-b7ca-c0d1e6229f83\",\"attributes\":{\"tools\":[{\"type\":\"object\",\"name\":\"WheelZoomTool\",\"id\":\"07194310-97a9-4bbe-86ac-b1aa43234b9d\",\"attributes\":{\"tags\":[\"hv_created\"],\"renderers\":\"auto\",\"zoom_together\":\"none\"}},{\"type\":\"object\",\"name\":\"HoverTool\",\"id\":\"715bd12c-1364-458c-b06a-47dc5fb9269a\",\"attributes\":{\"tags\":[\"hv_created\"],\"renderers\":[{\"id\":\"ce2bce65-ec22-4e28-9438-9ef01e7ff614\"}],\"tooltips\":[[\"post_str_b2\",\"@{post_str_b2}\"],[\"percent\",\"@{percent}\"]]}},{\"type\":\"object\",\"name\":\"SaveTool\",\"id\":\"1c102e52-d1e2-4f09-acf7-4510c627f8d0\"},{\"type\":\"object\",\"name\":\"PanTool\",\"id\":\"f4fb0a93-7922-4268-9e3e-d5285754418a\"},{\"type\":\"object\",\"name\":\"BoxZoomTool\",\"id\":\"9eeedc7c-2118-4a11-9296-7b6360f34ae1\",\"attributes\":{\"dimensions\":\"both\",\"overlay\":{\"type\":\"object\",\"name\":\"BoxAnnotation\",\"id\":\"9ed6e57c-5f66-49b9-9411-9598266bcc6a\",\"attributes\":{\"syncable\":false,\"line_color\":\"black\",\"line_alpha\":1.0,\"line_width\":2,\"line_dash\":[4,4],\"fill_color\":\"lightgrey\",\"fill_alpha\":0.5,\"level\":\"overlay\",\"visible\":false,\"left\":{\"type\":\"number\",\"value\":\"nan\"},\"right\":{\"type\":\"number\",\"value\":\"nan\"},\"top\":{\"type\":\"number\",\"value\":\"nan\"},\"bottom\":{\"type\":\"number\",\"value\":\"nan\"},\"left_units\":\"canvas\",\"right_units\":\"canvas\",\"top_units\":\"canvas\",\"bottom_units\":\"canvas\",\"handles\":{\"type\":\"object\",\"name\":\"BoxInteractionHandles\",\"id\":\"1d871682-689c-4d8c-86f2-cb0a61236b02\",\"attributes\":{\"all\":{\"type\":\"object\",\"name\":\"AreaVisuals\",\"id\":\"61e68296-ad91-4422-b371-2b2d7c9da1bb\",\"attributes\":{\"fill_color\":\"white\",\"hover_fill_color\":\"lightgray\"}}}}}}}},{\"type\":\"object\",\"name\":\"ResetTool\",\"id\":\"7db79ff4-524d-4d17-8d23-73be9701c034\"}],\"active_drag\":{\"id\":\"f4fb0a93-7922-4268-9e3e-d5285754418a\"}}},\"left\":[{\"type\":\"object\",\"name\":\"LinearAxis\",\"id\":\"b2a2a770-5ac6-48fb-9ce7-a2656812c760\",\"attributes\":{\"ticker\":{\"type\":\"object\",\"name\":\"BasicTicker\",\"id\":\"b6621a6e-ced3-4778-8cda-8dca9ca50870\",\"attributes\":{\"mantissas\":[1,2,5]}},\"formatter\":{\"type\":\"object\",\"name\":\"BasicTickFormatter\",\"id\":\"0610213e-dbe0-4712-99b2-0566159cb322\"},\"axis_label\":\"percent\",\"major_label_policy\":{\"type\":\"object\",\"name\":\"AllLabels\",\"id\":\"4b0e6ce5-0576-4c93-8288-ea0282c2fe77\"}}}],\"below\":[{\"type\":\"object\",\"name\":\"CategoricalAxis\",\"id\":\"62437729-7cd2-4191-aca8-c0a06dc4ac7f\",\"attributes\":{\"ticker\":{\"type\":\"object\",\"name\":\"CategoricalTicker\",\"id\":\"124b78b0-278b-4f9e-8994-ec4522fd9f05\"},\"formatter\":{\"type\":\"object\",\"name\":\"CategoricalTickFormatter\",\"id\":\"e0567b19-8b3e-4bb1-bad3-5b13fae80a26\"},\"axis_label\":\"post_str_b2\",\"major_label_policy\":{\"type\":\"object\",\"name\":\"AllLabels\",\"id\":\"40abf864-0f2c-4ab2-95dd-98b850991c24\"}}}],\"center\":[{\"type\":\"object\",\"name\":\"Grid\",\"id\":\"60bf4813-bfd4-40e5-9e88-ff4102db0370\",\"attributes\":{\"axis\":{\"id\":\"62437729-7cd2-4191-aca8-c0a06dc4ac7f\"},\"grid_line_color\":null}},{\"type\":\"object\",\"name\":\"Grid\",\"id\":\"2a996aac-f44f-4819-ab99-d39765534395\",\"attributes\":{\"dimension\":1,\"axis\":{\"id\":\"b2a2a770-5ac6-48fb-9ce7-a2656812c760\"},\"grid_line_color\":null}}],\"min_border_top\":10,\"min_border_bottom\":10,\"min_border_left\":10,\"min_border_right\":10,\"output_backend\":\"webgl\"}},{\"type\":\"object\",\"name\":\"Spacer\",\"id\":\"63257b09-4e2d-4e48-bac1-18f19a565e3b\",\"attributes\":{\"name\":\"HSpacer01501\",\"stylesheets\":[\"\\n:host(.pn-loading):before, .pn-loading:before {\\n  background-color: #c3c3c3;\\n  mask-size: auto calc(min(50%, 400px));\\n  -webkit-mask-size: auto calc(min(50%, 400px));\\n}\",{\"id\":\"d639afba-ab5e-4a11-a779-6f1e5fd79c38\"},{\"id\":\"5e571917-ec56-4f67-b996-8512a472f985\"},{\"id\":\"2c0954b6-5fec-4e47-a374-6e2099afa1c2\"}],\"margin\":0,\"sizing_mode\":\"stretch_width\",\"align\":\"start\"}}]}}],\"defs\":[{\"type\":\"model\",\"name\":\"ReactiveHTML1\"},{\"type\":\"model\",\"name\":\"FlexBox1\",\"properties\":[{\"name\":\"align_content\",\"kind\":\"Any\",\"default\":\"flex-start\"},{\"name\":\"align_items\",\"kind\":\"Any\",\"default\":\"flex-start\"},{\"name\":\"flex_direction\",\"kind\":\"Any\",\"default\":\"row\"},{\"name\":\"flex_wrap\",\"kind\":\"Any\",\"default\":\"wrap\"},{\"name\":\"gap\",\"kind\":\"Any\",\"default\":\"\"},{\"name\":\"justify_content\",\"kind\":\"Any\",\"default\":\"flex-start\"}]},{\"type\":\"model\",\"name\":\"FloatPanel1\",\"properties\":[{\"name\":\"config\",\"kind\":\"Any\",\"default\":{\"type\":\"map\"}},{\"name\":\"contained\",\"kind\":\"Any\",\"default\":true},{\"name\":\"position\",\"kind\":\"Any\",\"default\":\"right-top\"},{\"name\":\"offsetx\",\"kind\":\"Any\",\"default\":null},{\"name\":\"offsety\",\"kind\":\"Any\",\"default\":null},{\"name\":\"theme\",\"kind\":\"Any\",\"default\":\"primary\"},{\"name\":\"status\",\"kind\":\"Any\",\"default\":\"normalized\"}]},{\"type\":\"model\",\"name\":\"GridStack1\",\"properties\":[{\"name\":\"ncols\",\"kind\":\"Any\",\"default\":null},{\"name\":\"nrows\",\"kind\":\"Any\",\"default\":null},{\"name\":\"allow_resize\",\"kind\":\"Any\",\"default\":true},{\"name\":\"allow_drag\",\"kind\":\"Any\",\"default\":true},{\"name\":\"state\",\"kind\":\"Any\",\"default\":[]}]},{\"type\":\"model\",\"name\":\"drag1\",\"properties\":[{\"name\":\"slider_width\",\"kind\":\"Any\",\"default\":5},{\"name\":\"slider_color\",\"kind\":\"Any\",\"default\":\"black\"},{\"name\":\"value\",\"kind\":\"Any\",\"default\":50}]},{\"type\":\"model\",\"name\":\"click1\",\"properties\":[{\"name\":\"terminal_output\",\"kind\":\"Any\",\"default\":\"\"},{\"name\":\"debug_name\",\"kind\":\"Any\",\"default\":\"\"},{\"name\":\"clears\",\"kind\":\"Any\",\"default\":0}]},{\"type\":\"model\",\"name\":\"FastWrapper1\",\"properties\":[{\"name\":\"object\",\"kind\":\"Any\",\"default\":null},{\"name\":\"style\",\"kind\":\"Any\",\"default\":null}]},{\"type\":\"model\",\"name\":\"NotificationArea1\",\"properties\":[{\"name\":\"js_events\",\"kind\":\"Any\",\"default\":{\"type\":\"map\"}},{\"name\":\"max_notifications\",\"kind\":\"Any\",\"default\":5},{\"name\":\"notifications\",\"kind\":\"Any\",\"default\":[]},{\"name\":\"position\",\"kind\":\"Any\",\"default\":\"bottom-right\"},{\"name\":\"_clear\",\"kind\":\"Any\",\"default\":0},{\"name\":\"types\",\"kind\":\"Any\",\"default\":[{\"type\":\"map\",\"entries\":[[\"type\",\"warning\"],[\"background\",\"#ffc107\"],[\"icon\",{\"type\":\"map\",\"entries\":[[\"className\",\"fas fa-exclamation-triangle\"],[\"tagName\",\"i\"],[\"color\",\"white\"]]}]]},{\"type\":\"map\",\"entries\":[[\"type\",\"info\"],[\"background\",\"#007bff\"],[\"icon\",{\"type\":\"map\",\"entries\":[[\"className\",\"fas fa-info-circle\"],[\"tagName\",\"i\"],[\"color\",\"white\"]]}]]}]}]},{\"type\":\"model\",\"name\":\"Notification\",\"properties\":[{\"name\":\"background\",\"kind\":\"Any\",\"default\":null},{\"name\":\"duration\",\"kind\":\"Any\",\"default\":3000},{\"name\":\"icon\",\"kind\":\"Any\",\"default\":null},{\"name\":\"message\",\"kind\":\"Any\",\"default\":\"\"},{\"name\":\"notification_type\",\"kind\":\"Any\",\"default\":null},{\"name\":\"_rendered\",\"kind\":\"Any\",\"default\":false},{\"name\":\"_destroyed\",\"kind\":\"Any\",\"default\":false}]},{\"type\":\"model\",\"name\":\"TemplateActions1\",\"properties\":[{\"name\":\"open_modal\",\"kind\":\"Any\",\"default\":0},{\"name\":\"close_modal\",\"kind\":\"Any\",\"default\":0}]},{\"type\":\"model\",\"name\":\"BootstrapTemplateActions1\",\"properties\":[{\"name\":\"open_modal\",\"kind\":\"Any\",\"default\":0},{\"name\":\"close_modal\",\"kind\":\"Any\",\"default\":0}]},{\"type\":\"model\",\"name\":\"TemplateEditor1\",\"properties\":[{\"name\":\"layout\",\"kind\":\"Any\",\"default\":[]}]},{\"type\":\"model\",\"name\":\"MaterialTemplateActions1\",\"properties\":[{\"name\":\"open_modal\",\"kind\":\"Any\",\"default\":0},{\"name\":\"close_modal\",\"kind\":\"Any\",\"default\":0}]},{\"type\":\"model\",\"name\":\"ReactiveESM1\",\"properties\":[{\"name\":\"esm_constants\",\"kind\":\"Any\",\"default\":{\"type\":\"map\"}}]},{\"type\":\"model\",\"name\":\"JSComponent1\",\"properties\":[{\"name\":\"esm_constants\",\"kind\":\"Any\",\"default\":{\"type\":\"map\"}}]},{\"type\":\"model\",\"name\":\"ReactComponent1\",\"properties\":[{\"name\":\"esm_constants\",\"kind\":\"Any\",\"default\":{\"type\":\"map\"}}]},{\"type\":\"model\",\"name\":\"AnyWidgetComponent1\",\"properties\":[{\"name\":\"esm_constants\",\"kind\":\"Any\",\"default\":{\"type\":\"map\"}}]},{\"type\":\"model\",\"name\":\"request_value1\",\"properties\":[{\"name\":\"fill\",\"kind\":\"Any\",\"default\":\"none\"},{\"name\":\"_synced\",\"kind\":\"Any\",\"default\":null},{\"name\":\"_request_sync\",\"kind\":\"Any\",\"default\":0}]}]}};\n",
       "  var render_items = [{\"docid\":\"788ba887-6f0c-45af-a268-afd2d9023204\",\"roots\":{\"8fd78bd4-27b7-43b6-b3e6-11452c93b5a6\":\"aaba19c2-7863-4953-992f-82486a96b886\"},\"root_ids\":[\"8fd78bd4-27b7-43b6-b3e6-11452c93b5a6\"]}];\n",
       "  var docs = Object.values(docs_json)\n",
       "  if (!docs) {\n",
       "    return\n",
       "  }\n",
       "  const py_version = docs[0].version.replace('rc', '-rc.').replace('.dev', '-dev.')\n",
       "  async function embed_document(root) {\n",
       "    var Bokeh = get_bokeh(root)\n",
       "    await Bokeh.embed.embed_items_notebook(docs_json, render_items);\n",
       "    for (const render_item of render_items) {\n",
       "      for (const root_id of render_item.root_ids) {\n",
       "\tconst id_el = document.getElementById(root_id)\n",
       "\tif (id_el.children.length && id_el.children[0].hasAttribute('data-root-id')) {\n",
       "\t  const root_el = id_el.children[0]\n",
       "\t  root_el.id = root_el.id + '-rendered'\n",
       "\t  for (const child of root_el.children) {\n",
       "            // Ensure JupyterLab does not capture keyboard shortcuts\n",
       "            // see: https://jupyterlab.readthedocs.io/en/4.1.x/extension/notebook.html#keyboard-interaction-model\n",
       "\t    child.setAttribute('data-lm-suppress-shortcuts', 'true')\n",
       "\t  }\n",
       "\t}\n",
       "      }\n",
       "    }\n",
       "  }\n",
       "  function get_bokeh(root) {\n",
       "    if (root.Bokeh === undefined) {\n",
       "      return null\n",
       "    } else if (root.Bokeh.version !== py_version) {\n",
       "      if (root.Bokeh.versions === undefined || !root.Bokeh.versions.has(py_version)) {\n",
       "\treturn null\n",
       "      }\n",
       "      return root.Bokeh.versions.get(py_version);\n",
       "    } else if (root.Bokeh.version === py_version) {\n",
       "      return root.Bokeh\n",
       "    }\n",
       "    return null\n",
       "  }\n",
       "  function is_loaded(root) {\n",
       "    var Bokeh = get_bokeh(root)\n",
       "    return (Bokeh != null && Bokeh.Panel !== undefined)\n",
       "  }\n",
       "  if (is_loaded(root)) {\n",
       "    embed_document(root);\n",
       "  } else {\n",
       "    var attempts = 0;\n",
       "    var timer = setInterval(function(root) {\n",
       "      if (is_loaded(root)) {\n",
       "        clearInterval(timer);\n",
       "        embed_document(root);\n",
       "      } else if (document.readyState == \"complete\") {\n",
       "        attempts++;\n",
       "        if (attempts > 200) {\n",
       "          clearInterval(timer);\n",
       "\t  var Bokeh = get_bokeh(root)\n",
       "\t  if (Bokeh == null || Bokeh.Panel == null) {\n",
       "            console.warn(\"Panel: ERROR: Unable to run Panel code because Bokeh or Panel library is missing\");\n",
       "\t  } else {\n",
       "\t    console.warn(\"Panel: WARNING: Attempting to render but not all required libraries could be resolved.\")\n",
       "\t    embed_document(root)\n",
       "\t  }\n",
       "        }\n",
       "      }\n",
       "    }, 25, root)\n",
       "  }\n",
       "})(window);</script>"
      ],
      "text/plain": [
       ":Overlay\n",
       "   .Bars.I    :Bars   [post_str_b2]   (percent)\n",
       "   .HLine.I   :HLine   [x,y]\n",
       "   .HLine.II  :HLine   [x,y]\n",
       "   .HLine.III :HLine   [x,y]"
      ]
     },
     "metadata": {
      "application/vnd.holoviews_exec.v0+json": {
       "id": "8fd78bd4-27b7-43b6-b3e6-11452c93b5a6"
      }
     },
     "output_type": "display_data"
    },
    {
     "name": "stdout",
     "output_type": "stream",
     "text": [
      "df_10_last FOR str_b2 = 16\n",
      "Last 3 results last_results=['08', '12', '04']\n"
     ]
    },
    {
     "data": {
      "text/html": [
       "<div><style>\n",
       ".dataframe > thead > tr,\n",
       ".dataframe > tbody > tr {\n",
       "  text-align: right;\n",
       "  white-space: pre-wrap;\n",
       "}\n",
       "</style>\n",
       "<small>shape: (10, 24)</small><table border=\"1\" class=\"dataframe\"><thead><tr><th>fecha</th><th>sorteo</th><th>bolillas</th><th>id</th><th>combo</th><th>b1</th><th>b2</th><th>b3</th><th>b4</th><th>b5</th><th>str_b1</th><th>str_b2</th><th>str_b3</th><th>str_b4</th><th>str_b5</th><th>post_str_b1</th><th>post_str_b2</th><th>post_str_b3</th><th>post_str_b4</th><th>post_str_blast</th><th>is_rare_combination</th><th>reason</th><th>jumps_map</th><th>unijump</th></tr><tr><td>str</td><td>str</td><td>str</td><td>str</td><td>array[u8, 5]</td><td>u8</td><td>u8</td><td>u8</td><td>u8</td><td>u8</td><td>str</td><td>str</td><td>str</td><td>str</td><td>str</td><td>str</td><td>str</td><td>str</td><td>str</td><td>str</td><td>bool</td><td>u8</td><td>str</td><td>i64</td></tr></thead><tbody><tr><td>&quot;31/03/2025&quot;</td><td>&quot;4172&quot;</td><td>&quot;07 22 34 26 16&quot;</td><td>&quot;0716222634&quot;</td><td>[7, 16, … 34]</td><td>7</td><td>16</td><td>22</td><td>26</td><td>34</td><td>&quot;07&quot;</td><td>&quot;16&quot;</td><td>&quot;22&quot;</td><td>&quot;26&quot;</td><td>&quot;34&quot;</td><td>&quot;08&quot;</td><td>&quot;12&quot;</td><td>&quot;13&quot;</td><td>&quot;25&quot;</td><td>&quot;33&quot;</td><td>false</td><td>0</td><td>&quot;09_06_04_08&quot;</td><td>5</td></tr><tr><td>&quot;16/03/2025&quot;</td><td>&quot;4157&quot;</td><td>&quot;26 10 21 16 30&quot;</td><td>&quot;1016212630&quot;</td><td>[10, 16, … 30]</td><td>10</td><td>16</td><td>21</td><td>26</td><td>30</td><td>&quot;10&quot;</td><td>&quot;16&quot;</td><td>&quot;21&quot;</td><td>&quot;26&quot;</td><td>&quot;30&quot;</td><td>&quot;04&quot;</td><td>&quot;08&quot;</td><td>&quot;20&quot;</td><td>&quot;24&quot;</td><td>&quot;30&quot;</td><td>true</td><td>8</td><td>&quot;06_05_05_04&quot;</td><td>-2</td></tr><tr><td>&quot;08/03/2025&quot;</td><td>&quot;4149&quot;</td><td>&quot;02 35 30 32 16&quot;</td><td>&quot;0216303235&quot;</td><td>[2, 16, … 35]</td><td>2</td><td>16</td><td>30</td><td>32</td><td>35</td><td>&quot;02&quot;</td><td>&quot;16&quot;</td><td>&quot;30&quot;</td><td>&quot;32&quot;</td><td>&quot;35&quot;</td><td>&quot;02&quot;</td><td>&quot;04&quot;</td><td>&quot;15&quot;</td><td>&quot;16&quot;</td><td>&quot;31&quot;</td><td>true</td><td>8</td><td>&quot;14_14_02_03&quot;</td><td>25</td></tr><tr><td>&quot;05/03/2025&quot;</td><td>&quot;4146&quot;</td><td>&quot;22 18 16 06 20&quot;</td><td>&quot;0616182022&quot;</td><td>[6, 16, … 22]</td><td>6</td><td>16</td><td>18</td><td>20</td><td>22</td><td>&quot;06&quot;</td><td>&quot;16&quot;</td><td>&quot;18&quot;</td><td>&quot;20&quot;</td><td>&quot;22&quot;</td><td>&quot;13&quot;</td><td>&quot;17&quot;</td><td>&quot;21&quot;</td><td>&quot;30&quot;</td><td>&quot;35&quot;</td><td>true</td><td>28</td><td>&quot;10_02_02_02&quot;</td><td>-8</td></tr><tr><td>&quot;13/01/2025&quot;</td><td>&quot;4095&quot;</td><td>&quot;08 28 18 22 16&quot;</td><td>&quot;0816182228&quot;</td><td>[8, 16, … 28]</td><td>8</td><td>16</td><td>18</td><td>22</td><td>28</td><td>&quot;08&quot;</td><td>&quot;16&quot;</td><td>&quot;18&quot;</td><td>&quot;22&quot;</td><td>&quot;28&quot;</td><td>&quot;08&quot;</td><td>&quot;18&quot;</td><td>&quot;22&quot;</td><td>&quot;23&quot;</td><td>&quot;35&quot;</td><td>true</td><td>20</td><td>&quot;08_02_04_06&quot;</td><td>-8</td></tr><tr><td>&quot;11/01/2025&quot;</td><td>&quot;4093&quot;</td><td>&quot;22 02 25 27 16&quot;</td><td>&quot;0216222527&quot;</td><td>[2, 16, … 27]</td><td>2</td><td>16</td><td>22</td><td>25</td><td>27</td><td>&quot;02&quot;</td><td>&quot;16&quot;</td><td>&quot;22&quot;</td><td>&quot;25&quot;</td><td>&quot;27&quot;</td><td>&quot;04&quot;</td><td>&quot;07&quot;</td><td>&quot;16&quot;</td><td>&quot;18&quot;</td><td>&quot;23&quot;</td><td>true</td><td>16</td><td>&quot;14_06_03_02&quot;</td><td>-3</td></tr><tr><td>&quot;07/01/2025&quot;</td><td>&quot;4089&quot;</td><td>&quot;26 35 28 16 13&quot;</td><td>&quot;1316262835&quot;</td><td>[13, 16, … 35]</td><td>13</td><td>16</td><td>26</td><td>28</td><td>35</td><td>&quot;13&quot;</td><td>&quot;16&quot;</td><td>&quot;26&quot;</td><td>&quot;28&quot;</td><td>&quot;35&quot;</td><td>&quot;02&quot;</td><td>&quot;08&quot;</td><td>&quot;17&quot;</td><td>&quot;24&quot;</td><td>&quot;27&quot;</td><td>false</td><td>0</td><td>&quot;03_10_02_07&quot;</td><td>28</td></tr><tr><td>&quot;02/01/2025&quot;</td><td>&quot;4084&quot;</td><td>&quot;27 35 08 16 26&quot;</td><td>&quot;0816262735&quot;</td><td>[8, 16, … 35]</td><td>8</td><td>16</td><td>26</td><td>27</td><td>35</td><td>&quot;08&quot;</td><td>&quot;16&quot;</td><td>&quot;26&quot;</td><td>&quot;27&quot;</td><td>&quot;35&quot;</td><td>&quot;04&quot;</td><td>&quot;13&quot;</td><td>&quot;15&quot;</td><td>&quot;18&quot;</td><td>&quot;34&quot;</td><td>false</td><td>0</td><td>&quot;08_10_01_08&quot;</td><td>27</td></tr><tr><td>&quot;19/10/2024&quot;</td><td>&quot;4009&quot;</td><td>&quot;19 31 17 13 16&quot;</td><td>&quot;1316171931&quot;</td><td>[13, 16, … 31]</td><td>13</td><td>16</td><td>17</td><td>19</td><td>31</td><td>&quot;13&quot;</td><td>&quot;16&quot;</td><td>&quot;17&quot;</td><td>&quot;19&quot;</td><td>&quot;31&quot;</td><td>&quot;18&quot;</td><td>&quot;23&quot;</td><td>&quot;30&quot;</td><td>&quot;33&quot;</td><td>&quot;35&quot;</td><td>true</td><td>17</td><td>&quot;03_01_02_12&quot;</td><td>6</td></tr><tr><td>&quot;26/08/2024&quot;</td><td>&quot;3955&quot;</td><td>&quot;22 06 35 27 16&quot;</td><td>&quot;0616222735&quot;</td><td>[6, 16, … 35]</td><td>6</td><td>16</td><td>22</td><td>27</td><td>35</td><td>&quot;06&quot;</td><td>&quot;16&quot;</td><td>&quot;22&quot;</td><td>&quot;27&quot;</td><td>&quot;35&quot;</td><td>&quot;05&quot;</td><td>&quot;11&quot;</td><td>&quot;15&quot;</td><td>&quot;23&quot;</td><td>&quot;32&quot;</td><td>false</td><td>0</td><td>&quot;10_06_05_08&quot;</td><td>1</td></tr></tbody></table></div>"
      ],
      "text/plain": [
       "shape: (10, 24)\n",
       "┌────────────┬────────┬─────────────┬────────────┬───┬─────────────┬────────┬────────────┬─────────┐\n",
       "│ fecha      ┆ sorteo ┆ bolillas    ┆ id         ┆ … ┆ is_rare_com ┆ reason ┆ jumps_map  ┆ unijump │\n",
       "│ ---        ┆ ---    ┆ ---         ┆ ---        ┆   ┆ bination    ┆ ---    ┆ ---        ┆ ---     │\n",
       "│ str        ┆ str    ┆ str         ┆ str        ┆   ┆ ---         ┆ u8     ┆ str        ┆ i64     │\n",
       "│            ┆        ┆             ┆            ┆   ┆ bool        ┆        ┆            ┆         │\n",
       "╞════════════╪════════╪═════════════╪════════════╪═══╪═════════════╪════════╪════════════╪═════════╡\n",
       "│ 31/03/2025 ┆ 4172   ┆ 07 22 34 26 ┆ 0716222634 ┆ … ┆ false       ┆ 0      ┆ 09_06_04_0 ┆ 5       │\n",
       "│            ┆        ┆ 16          ┆            ┆   ┆             ┆        ┆ 8          ┆         │\n",
       "│ 16/03/2025 ┆ 4157   ┆ 26 10 21 16 ┆ 1016212630 ┆ … ┆ true        ┆ 8      ┆ 06_05_05_0 ┆ -2      │\n",
       "│            ┆        ┆ 30          ┆            ┆   ┆             ┆        ┆ 4          ┆         │\n",
       "│ 08/03/2025 ┆ 4149   ┆ 02 35 30 32 ┆ 0216303235 ┆ … ┆ true        ┆ 8      ┆ 14_14_02_0 ┆ 25      │\n",
       "│            ┆        ┆ 16          ┆            ┆   ┆             ┆        ┆ 3          ┆         │\n",
       "│ 05/03/2025 ┆ 4146   ┆ 22 18 16 06 ┆ 0616182022 ┆ … ┆ true        ┆ 28     ┆ 10_02_02_0 ┆ -8      │\n",
       "│            ┆        ┆ 20          ┆            ┆   ┆             ┆        ┆ 2          ┆         │\n",
       "│ 13/01/2025 ┆ 4095   ┆ 08 28 18 22 ┆ 0816182228 ┆ … ┆ true        ┆ 20     ┆ 08_02_04_0 ┆ -8      │\n",
       "│            ┆        ┆ 16          ┆            ┆   ┆             ┆        ┆ 6          ┆         │\n",
       "│ 11/01/2025 ┆ 4093   ┆ 22 02 25 27 ┆ 0216222527 ┆ … ┆ true        ┆ 16     ┆ 14_06_03_0 ┆ -3      │\n",
       "│            ┆        ┆ 16          ┆            ┆   ┆             ┆        ┆ 2          ┆         │\n",
       "│ 07/01/2025 ┆ 4089   ┆ 26 35 28 16 ┆ 1316262835 ┆ … ┆ false       ┆ 0      ┆ 03_10_02_0 ┆ 28      │\n",
       "│            ┆        ┆ 13          ┆            ┆   ┆             ┆        ┆ 7          ┆         │\n",
       "│ 02/01/2025 ┆ 4084   ┆ 27 35 08 16 ┆ 0816262735 ┆ … ┆ false       ┆ 0      ┆ 08_10_01_0 ┆ 27      │\n",
       "│            ┆        ┆ 26          ┆            ┆   ┆             ┆        ┆ 8          ┆         │\n",
       "│ 19/10/2024 ┆ 4009   ┆ 19 31 17 13 ┆ 1316171931 ┆ … ┆ true        ┆ 17     ┆ 03_01_02_1 ┆ 6       │\n",
       "│            ┆        ┆ 16          ┆            ┆   ┆             ┆        ┆ 2          ┆         │\n",
       "│ 26/08/2024 ┆ 3955   ┆ 22 06 35 27 ┆ 0616222735 ┆ … ┆ false       ┆ 0      ┆ 10_06_05_0 ┆ 1       │\n",
       "│            ┆        ┆ 16          ┆            ┆   ┆             ┆        ┆ 8          ┆         │\n",
       "└────────────┴────────┴─────────────┴────────────┴───┴─────────────┴────────┴────────────┴─────────┘"
      ]
     },
     "metadata": {},
     "output_type": "display_data"
    },
    {
     "name": "stdout",
     "output_type": "stream",
     "text": [
      "df_jumps_map FOR str_b2 = 16\n"
     ]
    },
    {
     "data": {
      "text/html": [
       "<div><style>\n",
       ".dataframe > thead > tr,\n",
       ".dataframe > tbody > tr {\n",
       "  text-align: right;\n",
       "  white-space: pre-wrap;\n",
       "}\n",
       "</style>\n",
       "<small>shape: (327, 2)</small><table border=\"1\" class=\"dataframe\"><thead><tr><th>jumps_map</th><th>count</th></tr><tr><td>str</td><td>u32</td></tr></thead><tbody><tr><td>&quot;13_04_04_08&quot;</td><td>2</td></tr><tr><td>&quot;01_04_07_04&quot;</td><td>2</td></tr><tr><td>&quot;09_01_01_16&quot;</td><td>1</td></tr><tr><td>&quot;12_06_03_09&quot;</td><td>1</td></tr><tr><td>&quot;15_10_03_02&quot;</td><td>1</td></tr><tr><td>&hellip;</td><td>&hellip;</td></tr><tr><td>&quot;15_03_10_01&quot;</td><td>1</td></tr><tr><td>&quot;05_05_04_08&quot;</td><td>1</td></tr><tr><td>&quot;06_04_10_05&quot;</td><td>1</td></tr><tr><td>&quot;02_03_04_07&quot;</td><td>1</td></tr><tr><td>&quot;03_01_02_12&quot;</td><td>1</td></tr></tbody></table></div>"
      ],
      "text/plain": [
       "shape: (327, 2)\n",
       "┌─────────────┬───────┐\n",
       "│ jumps_map   ┆ count │\n",
       "│ ---         ┆ ---   │\n",
       "│ str         ┆ u32   │\n",
       "╞═════════════╪═══════╡\n",
       "│ 13_04_04_08 ┆ 2     │\n",
       "│ 01_04_07_04 ┆ 2     │\n",
       "│ 09_01_01_16 ┆ 1     │\n",
       "│ 12_06_03_09 ┆ 1     │\n",
       "│ 15_10_03_02 ┆ 1     │\n",
       "│ …           ┆ …     │\n",
       "│ 15_03_10_01 ┆ 1     │\n",
       "│ 05_05_04_08 ┆ 1     │\n",
       "│ 06_04_10_05 ┆ 1     │\n",
       "│ 02_03_04_07 ┆ 1     │\n",
       "│ 03_01_02_12 ┆ 1     │\n",
       "└─────────────┴───────┘"
      ]
     },
     "metadata": {},
     "output_type": "display_data"
    },
    {
     "name": "stdout",
     "output_type": "stream",
     "text": [
      "df_unijump FOR str_b2 = 16\n"
     ]
    },
    {
     "data": {
      "text/html": [
       "<div><style>\n",
       ".dataframe > thead > tr,\n",
       ".dataframe > tbody > tr {\n",
       "  text-align: right;\n",
       "  white-space: pre-wrap;\n",
       "}\n",
       "</style>\n",
       "<small>shape: (79, 2)</small><table border=\"1\" class=\"dataframe\"><thead><tr><th>unijump</th><th>count</th></tr><tr><td>i64</td><td>u32</td></tr></thead><tbody><tr><td>-18</td><td>11</td></tr><tr><td>3</td><td>10</td></tr><tr><td>-3</td><td>9</td></tr><tr><td>-8</td><td>9</td></tr><tr><td>11</td><td>9</td></tr><tr><td>&hellip;</td><td>&hellip;</td></tr><tr><td>-20</td><td>1</td></tr><tr><td>20</td><td>1</td></tr><tr><td>-23</td><td>1</td></tr><tr><td>-37</td><td>1</td></tr><tr><td>40</td><td>1</td></tr></tbody></table></div>"
      ],
      "text/plain": [
       "shape: (79, 2)\n",
       "┌─────────┬───────┐\n",
       "│ unijump ┆ count │\n",
       "│ ---     ┆ ---   │\n",
       "│ i64     ┆ u32   │\n",
       "╞═════════╪═══════╡\n",
       "│ -18     ┆ 11    │\n",
       "│ 3       ┆ 10    │\n",
       "│ -3      ┆ 9     │\n",
       "│ -8      ┆ 9     │\n",
       "│ 11      ┆ 9     │\n",
       "│ …       ┆ …     │\n",
       "│ -20     ┆ 1     │\n",
       "│ 20      ┆ 1     │\n",
       "│ -23     ┆ 1     │\n",
       "│ -37     ┆ 1     │\n",
       "│ 40      ┆ 1     │\n",
       "└─────────┴───────┘"
      ]
     },
     "metadata": {},
     "output_type": "display_data"
    }
   ],
   "source": [
    "possible_b2, exclude_jump_maps_b2, last_post_b2 = plot_post_col(col='str_b2', post_col='post_str_b2')"
   ]
  },
  {
   "cell_type": "code",
   "execution_count": 57,
   "metadata": {},
   "outputs": [
    {
     "name": "stdout",
     "output_type": "stream",
     "text": [
      "Setting test_value='19'\n",
      "df_viz FOR str_b3 = 19\n"
     ]
    },
    {
     "data": {
      "text/html": [
       "<div><style>\n",
       ".dataframe > thead > tr,\n",
       ".dataframe > tbody > tr {\n",
       "  text-align: right;\n",
       "  white-space: pre-wrap;\n",
       "}\n",
       "</style>\n",
       "<small>shape: (29, 3)</small><table border=\"1\" class=\"dataframe\"><thead><tr><th>post_str_b3</th><th>count</th><th>percent</th></tr><tr><td>str</td><td>u32</td><td>f64</td></tr></thead><tbody><tr><td>&quot;19&quot;</td><td>31</td><td>7.616708</td></tr><tr><td>&quot;20&quot;</td><td>29</td><td>7.125307</td></tr><tr><td>&quot;15&quot;</td><td>27</td><td>6.633907</td></tr><tr><td>&quot;21&quot;</td><td>26</td><td>6.388206</td></tr><tr><td>&quot;22&quot;</td><td>23</td><td>5.651106</td></tr><tr><td>&hellip;</td><td>&hellip;</td><td>&hellip;</td></tr><tr><td>&quot;05&quot;</td><td>4</td><td>0.982801</td></tr><tr><td>&quot;06&quot;</td><td>4</td><td>0.982801</td></tr><tr><td>&quot;31&quot;</td><td>3</td><td>0.737101</td></tr><tr><td>&quot;32&quot;</td><td>1</td><td>0.2457</td></tr><tr><td>&quot;04&quot;</td><td>1</td><td>0.2457</td></tr></tbody></table></div>"
      ],
      "text/plain": [
       "shape: (29, 3)\n",
       "┌─────────────┬───────┬──────────┐\n",
       "│ post_str_b3 ┆ count ┆ percent  │\n",
       "│ ---         ┆ ---   ┆ ---      │\n",
       "│ str         ┆ u32   ┆ f64      │\n",
       "╞═════════════╪═══════╪══════════╡\n",
       "│ 19          ┆ 31    ┆ 7.616708 │\n",
       "│ 20          ┆ 29    ┆ 7.125307 │\n",
       "│ 15          ┆ 27    ┆ 6.633907 │\n",
       "│ 21          ┆ 26    ┆ 6.388206 │\n",
       "│ 22          ┆ 23    ┆ 5.651106 │\n",
       "│ …           ┆ …     ┆ …        │\n",
       "│ 05          ┆ 4     ┆ 0.982801 │\n",
       "│ 06          ┆ 4     ┆ 0.982801 │\n",
       "│ 31          ┆ 3     ┆ 0.737101 │\n",
       "│ 32          ┆ 1     ┆ 0.2457   │\n",
       "│ 04          ┆ 1     ┆ 0.2457   │\n",
       "└─────────────┴───────┴──────────┘"
      ]
     },
     "metadata": {},
     "output_type": "display_data"
    },
    {
     "data": {},
     "metadata": {},
     "output_type": "display_data"
    },
    {
     "data": {
      "application/vnd.holoviews_exec.v0+json": "",
      "text/html": [
       "<div id='d55378d3-1b1a-400f-9905-4ebab4e7fc0e'>\n",
       "  <div id=\"a6fd8cb1-b807-4a1a-9073-af0ce791105e\" data-root-id=\"d55378d3-1b1a-400f-9905-4ebab4e7fc0e\" style=\"display: contents;\"></div>\n",
       "</div>\n",
       "<script type=\"application/javascript\">(function(root) {\n",
       "  var docs_json = {\"9c0f10e8-8211-4a72-8788-14728e03a043\":{\"version\":\"3.7.2\",\"title\":\"Bokeh Application\",\"roots\":[{\"type\":\"object\",\"name\":\"Row\",\"id\":\"d55378d3-1b1a-400f-9905-4ebab4e7fc0e\",\"attributes\":{\"name\":\"Row01567\",\"tags\":[\"embedded\"],\"stylesheets\":[\"\\n:host(.pn-loading):before, .pn-loading:before {\\n  background-color: #c3c3c3;\\n  mask-size: auto calc(min(50%, 400px));\\n  -webkit-mask-size: auto calc(min(50%, 400px));\\n}\",{\"type\":\"object\",\"name\":\"ImportedStyleSheet\",\"id\":\"f33ebf5f-7373-4632-8ba3-c7814beb26a3\",\"attributes\":{\"url\":\"https://cdn.holoviz.org/panel/1.6.2/dist/css/loading.css\"}},{\"type\":\"object\",\"name\":\"ImportedStyleSheet\",\"id\":\"1c3b0dde-9eee-4c7e-a1a2-89ce3ef83749\",\"attributes\":{\"url\":\"https://cdn.holoviz.org/panel/1.6.2/dist/css/listpanel.css\"}},{\"type\":\"object\",\"name\":\"ImportedStyleSheet\",\"id\":\"9525e96b-714c-4d5c-9802-99f9e842d2fe\",\"attributes\":{\"url\":\"https://cdn.holoviz.org/panel/1.6.2/dist/bundled/theme/default.css\"}},{\"type\":\"object\",\"name\":\"ImportedStyleSheet\",\"id\":\"aa35ac46-8c9a-4bcf-9f23-5dfa0b39f62a\",\"attributes\":{\"url\":\"https://cdn.holoviz.org/panel/1.6.2/dist/bundled/theme/native.css\"}}],\"min_width\":700,\"margin\":0,\"sizing_mode\":\"stretch_width\",\"align\":\"start\",\"children\":[{\"type\":\"object\",\"name\":\"Spacer\",\"id\":\"76ccc356-5d4a-445b-9f28-46b72a2d3de4\",\"attributes\":{\"name\":\"HSpacer01571\",\"stylesheets\":[\"\\n:host(.pn-loading):before, .pn-loading:before {\\n  background-color: #c3c3c3;\\n  mask-size: auto calc(min(50%, 400px));\\n  -webkit-mask-size: auto calc(min(50%, 400px));\\n}\",{\"id\":\"f33ebf5f-7373-4632-8ba3-c7814beb26a3\"},{\"id\":\"9525e96b-714c-4d5c-9802-99f9e842d2fe\"},{\"id\":\"aa35ac46-8c9a-4bcf-9f23-5dfa0b39f62a\"}],\"margin\":0,\"sizing_mode\":\"stretch_width\",\"align\":\"start\"}},{\"type\":\"object\",\"name\":\"Figure\",\"id\":\"62e97a44-c82a-4f71-a615-2d8deeecebf6\",\"attributes\":{\"width\":700,\"height\":300,\"margin\":[5,10],\"sizing_mode\":\"fixed\",\"align\":\"start\",\"x_range\":{\"type\":\"object\",\"name\":\"FactorRange\",\"id\":\"89cc59de-7386-425f-9f60-c0cf83598cde\",\"attributes\":{\"name\":\"post_str_b3\",\"tags\":[[[\"post_str_b3\",null]],[]],\"factors\":[\"19\",\"20\",\"15\",\"21\",\"22\",\"18\",\"16\",\"12\",\"24\",\"25\",\"17\",\"10\",\"11\",\"27\",\"14\",\"23\",\"13\",\"26\",\"28\",\"09\",\"08\",\"07\",\"29\",\"30\",\"05\",\"06\",\"31\",\"32\",\"04\"]}},\"y_range\":{\"type\":\"object\",\"name\":\"Range1d\",\"id\":\"024dee0d-9167-4146-946c-93151000c638\",\"attributes\":{\"name\":\"percent\",\"tags\":[[[\"percent\",null]],{\"type\":\"map\",\"entries\":[[\"invert_yaxis\",false],[\"autorange\",false]]}],\"end\":8.353808353808352,\"reset_start\":0.0,\"reset_end\":8.353808353808352}},\"x_scale\":{\"type\":\"object\",\"name\":\"CategoricalScale\",\"id\":\"dd072841-18fb-4f73-bdd9-0b9247d7a569\"},\"y_scale\":{\"type\":\"object\",\"name\":\"LinearScale\",\"id\":\"394caa8e-b290-44cb-b730-1a327804140c\"},\"title\":{\"type\":\"object\",\"name\":\"Title\",\"id\":\"e84c239d-0da9-4e1e-8b23-35b8fa563358\",\"attributes\":{\"text_color\":\"black\",\"text_font_size\":\"12pt\"}},\"renderers\":[{\"type\":\"object\",\"name\":\"GlyphRenderer\",\"id\":\"fce44438-1b09-4d28-9940-9cfe475641aa\",\"attributes\":{\"data_source\":{\"type\":\"object\",\"name\":\"ColumnDataSource\",\"id\":\"67aeabb3-db2e-4504-ad08-1b26694e626e\",\"attributes\":{\"selected\":{\"type\":\"object\",\"name\":\"Selection\",\"id\":\"de917d9d-53b9-4d01-95cf-40c558dcf68a\",\"attributes\":{\"indices\":[],\"line_indices\":[]}},\"selection_policy\":{\"type\":\"object\",\"name\":\"UnionRenderers\",\"id\":\"e91cfcdf-280e-47c0-a38b-b9b80ffd0dac\"},\"data\":{\"type\":\"map\",\"entries\":[[\"post_str_b3\",[\"19\",\"20\",\"15\",\"21\",\"22\",\"18\",\"16\",\"12\",\"24\",\"25\",\"17\",\"10\",\"11\",\"27\",\"14\",\"23\",\"13\",\"26\",\"28\",\"09\",\"08\",\"07\",\"29\",\"30\",\"05\",\"06\",\"31\",\"32\",\"04\"]],[\"percent\",{\"type\":\"ndarray\",\"array\":{\"type\":\"bytes\",\"data\":\"MdCTM4J3HkB5mdSCUIAcQMBiFdIeiRpAZMe1+YWNGUBO9ZZwu5oWQPJZN5ginxVA3IcYD1isEkDchxgPWKwSQI9r8wsbcw9Aj2vzCxtzD0CPa/MLG3MPQNY0NFvpew1A1jQ0W+l7DUDWNDRb6XsNQGTHtfmFjQlAZMe1+YWNCUCrkPZIVJYHQKuQ9khUlgdAq5D2SFSWB0DyWTeYIp8FQPJZN5ginwVAOSN45/CnA0CrkPZIVJb3PzkjeOfwp/M/j2vzCxtz7z+Pa/MLG3PvP6uQ9khUluc/j2vzCxtzzz+Pa/MLG3PPPw==\"},\"shape\":[29],\"dtype\":\"float64\",\"order\":\"little\"}]]}}},\"view\":{\"type\":\"object\",\"name\":\"CDSView\",\"id\":\"f6733090-23a4-41d9-be81-a86d9efa88b2\",\"attributes\":{\"filter\":{\"type\":\"object\",\"name\":\"AllIndices\",\"id\":\"14457848-008e-4bb9-9280-74cfa06760ac\"}}},\"glyph\":{\"type\":\"object\",\"name\":\"VBar\",\"id\":\"2176328e-6a73-4bbb-8203-18716d43553a\",\"attributes\":{\"tags\":[\"apply_ranges\"],\"x\":{\"type\":\"field\",\"field\":\"post_str_b3\"},\"width\":{\"type\":\"value\",\"value\":0.8},\"top\":{\"type\":\"field\",\"field\":\"percent\"},\"fill_color\":{\"type\":\"value\",\"value\":\"#30a2da\"},\"hatch_color\":{\"type\":\"value\",\"value\":\"#30a2da\"}}},\"selection_glyph\":{\"type\":\"object\",\"name\":\"VBar\",\"id\":\"995bd75c-739c-4e30-93f9-3d3791479fc6\",\"attributes\":{\"tags\":[\"apply_ranges\"],\"x\":{\"type\":\"field\",\"field\":\"post_str_b3\"},\"width\":{\"type\":\"value\",\"value\":0.8},\"bottom\":{\"type\":\"value\",\"value\":0},\"top\":{\"type\":\"field\",\"field\":\"percent\"},\"line_color\":{\"type\":\"value\",\"value\":\"black\"},\"line_alpha\":{\"type\":\"value\",\"value\":1.0},\"line_width\":{\"type\":\"value\",\"value\":1},\"line_join\":{\"type\":\"value\",\"value\":\"bevel\"},\"line_cap\":{\"type\":\"value\",\"value\":\"butt\"},\"line_dash\":{\"type\":\"value\",\"value\":[]},\"line_dash_offset\":{\"type\":\"value\",\"value\":0},\"fill_color\":{\"type\":\"value\",\"value\":\"#30a2da\"},\"fill_alpha\":{\"type\":\"value\",\"value\":1.0},\"hatch_color\":{\"type\":\"value\",\"value\":\"#30a2da\"},\"hatch_alpha\":{\"type\":\"value\",\"value\":1.0},\"hatch_scale\":{\"type\":\"value\",\"value\":12.0},\"hatch_pattern\":{\"type\":\"value\",\"value\":null},\"hatch_weight\":{\"type\":\"value\",\"value\":1.0}}},\"nonselection_glyph\":{\"type\":\"object\",\"name\":\"VBar\",\"id\":\"52605b84-0110-4ae5-b3fb-6403d856e465\",\"attributes\":{\"tags\":[\"apply_ranges\"],\"x\":{\"type\":\"field\",\"field\":\"post_str_b3\"},\"width\":{\"type\":\"value\",\"value\":0.8},\"top\":{\"type\":\"field\",\"field\":\"percent\"},\"line_alpha\":{\"type\":\"value\",\"value\":0.1},\"fill_color\":{\"type\":\"value\",\"value\":\"#30a2da\"},\"fill_alpha\":{\"type\":\"value\",\"value\":0.1},\"hatch_color\":{\"type\":\"value\",\"value\":\"#30a2da\"},\"hatch_alpha\":{\"type\":\"value\",\"value\":0.1}}},\"muted_glyph\":{\"type\":\"object\",\"name\":\"VBar\",\"id\":\"0aa31eb5-b163-432a-9b9a-f2614cec871b\",\"attributes\":{\"tags\":[\"apply_ranges\"],\"x\":{\"type\":\"field\",\"field\":\"post_str_b3\"},\"width\":{\"type\":\"value\",\"value\":0.8},\"top\":{\"type\":\"field\",\"field\":\"percent\"},\"line_alpha\":{\"type\":\"value\",\"value\":0.2},\"fill_color\":{\"type\":\"value\",\"value\":\"#30a2da\"},\"fill_alpha\":{\"type\":\"value\",\"value\":0.2},\"hatch_color\":{\"type\":\"value\",\"value\":\"#30a2da\"},\"hatch_alpha\":{\"type\":\"value\",\"value\":0.2}}}}},{\"type\":\"object\",\"name\":\"Span\",\"id\":\"a3a9190a-7643-480b-986d-1f0d9050408e\",\"attributes\":{\"level\":\"glyph\",\"location\":3.4482758620689653,\"line_color\":\"red\",\"line_width\":3}},{\"type\":\"object\",\"name\":\"Span\",\"id\":\"10359c74-c589-4e52-bc71-0b0b345c567b\",\"attributes\":{\"level\":\"glyph\",\"location\":5.1724137931034475,\"line_color\":\"blue\",\"line_width\":3}},{\"type\":\"object\",\"name\":\"Span\",\"id\":\"cd2c7b46-861f-482d-a003-56273e09e251\",\"attributes\":{\"level\":\"glyph\",\"location\":1.7241379310344827,\"line_color\":\"blue\",\"line_width\":3}}],\"toolbar\":{\"type\":\"object\",\"name\":\"Toolbar\",\"id\":\"01b10590-68e0-4f5b-8cb4-3dc153b37537\",\"attributes\":{\"tools\":[{\"type\":\"object\",\"name\":\"WheelZoomTool\",\"id\":\"9016d7dc-5cb3-4bdc-82f5-6b551272575c\",\"attributes\":{\"tags\":[\"hv_created\"],\"renderers\":\"auto\",\"zoom_together\":\"none\"}},{\"type\":\"object\",\"name\":\"HoverTool\",\"id\":\"8a079273-eb66-4f09-b33d-09e195e822f9\",\"attributes\":{\"tags\":[\"hv_created\"],\"renderers\":[{\"id\":\"fce44438-1b09-4d28-9940-9cfe475641aa\"}],\"tooltips\":[[\"post_str_b3\",\"@{post_str_b3}\"],[\"percent\",\"@{percent}\"]]}},{\"type\":\"object\",\"name\":\"SaveTool\",\"id\":\"18b3f537-88ef-488c-acb9-24cc3ba431a1\"},{\"type\":\"object\",\"name\":\"PanTool\",\"id\":\"966f5381-1a94-4c3a-b256-5105540ea175\"},{\"type\":\"object\",\"name\":\"BoxZoomTool\",\"id\":\"0edda711-3d92-4a77-86f7-90e5176e7a13\",\"attributes\":{\"dimensions\":\"both\",\"overlay\":{\"type\":\"object\",\"name\":\"BoxAnnotation\",\"id\":\"c134be5b-f4e5-424d-bff4-7217299146a3\",\"attributes\":{\"syncable\":false,\"line_color\":\"black\",\"line_alpha\":1.0,\"line_width\":2,\"line_dash\":[4,4],\"fill_color\":\"lightgrey\",\"fill_alpha\":0.5,\"level\":\"overlay\",\"visible\":false,\"left\":{\"type\":\"number\",\"value\":\"nan\"},\"right\":{\"type\":\"number\",\"value\":\"nan\"},\"top\":{\"type\":\"number\",\"value\":\"nan\"},\"bottom\":{\"type\":\"number\",\"value\":\"nan\"},\"left_units\":\"canvas\",\"right_units\":\"canvas\",\"top_units\":\"canvas\",\"bottom_units\":\"canvas\",\"handles\":{\"type\":\"object\",\"name\":\"BoxInteractionHandles\",\"id\":\"d2c7dfcd-d0cb-413b-84ad-f8980b6333a5\",\"attributes\":{\"all\":{\"type\":\"object\",\"name\":\"AreaVisuals\",\"id\":\"6b575083-64f4-446a-a314-13205ae19d3f\",\"attributes\":{\"fill_color\":\"white\",\"hover_fill_color\":\"lightgray\"}}}}}}}},{\"type\":\"object\",\"name\":\"ResetTool\",\"id\":\"59835ce0-211f-4fec-9964-15ab673e0950\"}],\"active_drag\":{\"id\":\"966f5381-1a94-4c3a-b256-5105540ea175\"}}},\"left\":[{\"type\":\"object\",\"name\":\"LinearAxis\",\"id\":\"6483581e-7885-4ee7-9ac3-dc3b04a85602\",\"attributes\":{\"ticker\":{\"type\":\"object\",\"name\":\"BasicTicker\",\"id\":\"f764bf66-611d-458e-9875-54035d42acf9\",\"attributes\":{\"mantissas\":[1,2,5]}},\"formatter\":{\"type\":\"object\",\"name\":\"BasicTickFormatter\",\"id\":\"1fb62a18-6e42-4b08-b3c6-8ae72acd058d\"},\"axis_label\":\"percent\",\"major_label_policy\":{\"type\":\"object\",\"name\":\"AllLabels\",\"id\":\"285a71f9-83ee-4b9e-8c6f-4cde0f62e15c\"}}}],\"below\":[{\"type\":\"object\",\"name\":\"CategoricalAxis\",\"id\":\"2da88dee-9bbd-4970-be76-2b72d01c716f\",\"attributes\":{\"ticker\":{\"type\":\"object\",\"name\":\"CategoricalTicker\",\"id\":\"ede39f41-724a-4e3e-9ad5-c2667a622a04\"},\"formatter\":{\"type\":\"object\",\"name\":\"CategoricalTickFormatter\",\"id\":\"efec9df1-ba99-4ed5-a22d-ee28ff6a0c0b\"},\"axis_label\":\"post_str_b3\",\"major_label_policy\":{\"type\":\"object\",\"name\":\"AllLabels\",\"id\":\"692c8d21-b755-4db0-8355-c56d45f6cc60\"}}}],\"center\":[{\"type\":\"object\",\"name\":\"Grid\",\"id\":\"7eff1360-fe93-4a0f-893a-d2dc37ccdb4c\",\"attributes\":{\"axis\":{\"id\":\"2da88dee-9bbd-4970-be76-2b72d01c716f\"},\"grid_line_color\":null}},{\"type\":\"object\",\"name\":\"Grid\",\"id\":\"b24537f9-1ddc-40bb-8fa8-208d0150773e\",\"attributes\":{\"dimension\":1,\"axis\":{\"id\":\"6483581e-7885-4ee7-9ac3-dc3b04a85602\"},\"grid_line_color\":null}}],\"min_border_top\":10,\"min_border_bottom\":10,\"min_border_left\":10,\"min_border_right\":10,\"output_backend\":\"webgl\"}},{\"type\":\"object\",\"name\":\"Spacer\",\"id\":\"d80016a2-1519-46c4-9c69-79b9425c0ca8\",\"attributes\":{\"name\":\"HSpacer01572\",\"stylesheets\":[\"\\n:host(.pn-loading):before, .pn-loading:before {\\n  background-color: #c3c3c3;\\n  mask-size: auto calc(min(50%, 400px));\\n  -webkit-mask-size: auto calc(min(50%, 400px));\\n}\",{\"id\":\"f33ebf5f-7373-4632-8ba3-c7814beb26a3\"},{\"id\":\"9525e96b-714c-4d5c-9802-99f9e842d2fe\"},{\"id\":\"aa35ac46-8c9a-4bcf-9f23-5dfa0b39f62a\"}],\"margin\":0,\"sizing_mode\":\"stretch_width\",\"align\":\"start\"}}]}}],\"defs\":[{\"type\":\"model\",\"name\":\"ReactiveHTML1\"},{\"type\":\"model\",\"name\":\"FlexBox1\",\"properties\":[{\"name\":\"align_content\",\"kind\":\"Any\",\"default\":\"flex-start\"},{\"name\":\"align_items\",\"kind\":\"Any\",\"default\":\"flex-start\"},{\"name\":\"flex_direction\",\"kind\":\"Any\",\"default\":\"row\"},{\"name\":\"flex_wrap\",\"kind\":\"Any\",\"default\":\"wrap\"},{\"name\":\"gap\",\"kind\":\"Any\",\"default\":\"\"},{\"name\":\"justify_content\",\"kind\":\"Any\",\"default\":\"flex-start\"}]},{\"type\":\"model\",\"name\":\"FloatPanel1\",\"properties\":[{\"name\":\"config\",\"kind\":\"Any\",\"default\":{\"type\":\"map\"}},{\"name\":\"contained\",\"kind\":\"Any\",\"default\":true},{\"name\":\"position\",\"kind\":\"Any\",\"default\":\"right-top\"},{\"name\":\"offsetx\",\"kind\":\"Any\",\"default\":null},{\"name\":\"offsety\",\"kind\":\"Any\",\"default\":null},{\"name\":\"theme\",\"kind\":\"Any\",\"default\":\"primary\"},{\"name\":\"status\",\"kind\":\"Any\",\"default\":\"normalized\"}]},{\"type\":\"model\",\"name\":\"GridStack1\",\"properties\":[{\"name\":\"ncols\",\"kind\":\"Any\",\"default\":null},{\"name\":\"nrows\",\"kind\":\"Any\",\"default\":null},{\"name\":\"allow_resize\",\"kind\":\"Any\",\"default\":true},{\"name\":\"allow_drag\",\"kind\":\"Any\",\"default\":true},{\"name\":\"state\",\"kind\":\"Any\",\"default\":[]}]},{\"type\":\"model\",\"name\":\"drag1\",\"properties\":[{\"name\":\"slider_width\",\"kind\":\"Any\",\"default\":5},{\"name\":\"slider_color\",\"kind\":\"Any\",\"default\":\"black\"},{\"name\":\"value\",\"kind\":\"Any\",\"default\":50}]},{\"type\":\"model\",\"name\":\"click1\",\"properties\":[{\"name\":\"terminal_output\",\"kind\":\"Any\",\"default\":\"\"},{\"name\":\"debug_name\",\"kind\":\"Any\",\"default\":\"\"},{\"name\":\"clears\",\"kind\":\"Any\",\"default\":0}]},{\"type\":\"model\",\"name\":\"FastWrapper1\",\"properties\":[{\"name\":\"object\",\"kind\":\"Any\",\"default\":null},{\"name\":\"style\",\"kind\":\"Any\",\"default\":null}]},{\"type\":\"model\",\"name\":\"NotificationArea1\",\"properties\":[{\"name\":\"js_events\",\"kind\":\"Any\",\"default\":{\"type\":\"map\"}},{\"name\":\"max_notifications\",\"kind\":\"Any\",\"default\":5},{\"name\":\"notifications\",\"kind\":\"Any\",\"default\":[]},{\"name\":\"position\",\"kind\":\"Any\",\"default\":\"bottom-right\"},{\"name\":\"_clear\",\"kind\":\"Any\",\"default\":0},{\"name\":\"types\",\"kind\":\"Any\",\"default\":[{\"type\":\"map\",\"entries\":[[\"type\",\"warning\"],[\"background\",\"#ffc107\"],[\"icon\",{\"type\":\"map\",\"entries\":[[\"className\",\"fas fa-exclamation-triangle\"],[\"tagName\",\"i\"],[\"color\",\"white\"]]}]]},{\"type\":\"map\",\"entries\":[[\"type\",\"info\"],[\"background\",\"#007bff\"],[\"icon\",{\"type\":\"map\",\"entries\":[[\"className\",\"fas fa-info-circle\"],[\"tagName\",\"i\"],[\"color\",\"white\"]]}]]}]}]},{\"type\":\"model\",\"name\":\"Notification\",\"properties\":[{\"name\":\"background\",\"kind\":\"Any\",\"default\":null},{\"name\":\"duration\",\"kind\":\"Any\",\"default\":3000},{\"name\":\"icon\",\"kind\":\"Any\",\"default\":null},{\"name\":\"message\",\"kind\":\"Any\",\"default\":\"\"},{\"name\":\"notification_type\",\"kind\":\"Any\",\"default\":null},{\"name\":\"_rendered\",\"kind\":\"Any\",\"default\":false},{\"name\":\"_destroyed\",\"kind\":\"Any\",\"default\":false}]},{\"type\":\"model\",\"name\":\"TemplateActions1\",\"properties\":[{\"name\":\"open_modal\",\"kind\":\"Any\",\"default\":0},{\"name\":\"close_modal\",\"kind\":\"Any\",\"default\":0}]},{\"type\":\"model\",\"name\":\"BootstrapTemplateActions1\",\"properties\":[{\"name\":\"open_modal\",\"kind\":\"Any\",\"default\":0},{\"name\":\"close_modal\",\"kind\":\"Any\",\"default\":0}]},{\"type\":\"model\",\"name\":\"TemplateEditor1\",\"properties\":[{\"name\":\"layout\",\"kind\":\"Any\",\"default\":[]}]},{\"type\":\"model\",\"name\":\"MaterialTemplateActions1\",\"properties\":[{\"name\":\"open_modal\",\"kind\":\"Any\",\"default\":0},{\"name\":\"close_modal\",\"kind\":\"Any\",\"default\":0}]},{\"type\":\"model\",\"name\":\"ReactiveESM1\",\"properties\":[{\"name\":\"esm_constants\",\"kind\":\"Any\",\"default\":{\"type\":\"map\"}}]},{\"type\":\"model\",\"name\":\"JSComponent1\",\"properties\":[{\"name\":\"esm_constants\",\"kind\":\"Any\",\"default\":{\"type\":\"map\"}}]},{\"type\":\"model\",\"name\":\"ReactComponent1\",\"properties\":[{\"name\":\"esm_constants\",\"kind\":\"Any\",\"default\":{\"type\":\"map\"}}]},{\"type\":\"model\",\"name\":\"AnyWidgetComponent1\",\"properties\":[{\"name\":\"esm_constants\",\"kind\":\"Any\",\"default\":{\"type\":\"map\"}}]},{\"type\":\"model\",\"name\":\"request_value1\",\"properties\":[{\"name\":\"fill\",\"kind\":\"Any\",\"default\":\"none\"},{\"name\":\"_synced\",\"kind\":\"Any\",\"default\":null},{\"name\":\"_request_sync\",\"kind\":\"Any\",\"default\":0}]}]}};\n",
       "  var render_items = [{\"docid\":\"9c0f10e8-8211-4a72-8788-14728e03a043\",\"roots\":{\"d55378d3-1b1a-400f-9905-4ebab4e7fc0e\":\"a6fd8cb1-b807-4a1a-9073-af0ce791105e\"},\"root_ids\":[\"d55378d3-1b1a-400f-9905-4ebab4e7fc0e\"]}];\n",
       "  var docs = Object.values(docs_json)\n",
       "  if (!docs) {\n",
       "    return\n",
       "  }\n",
       "  const py_version = docs[0].version.replace('rc', '-rc.').replace('.dev', '-dev.')\n",
       "  async function embed_document(root) {\n",
       "    var Bokeh = get_bokeh(root)\n",
       "    await Bokeh.embed.embed_items_notebook(docs_json, render_items);\n",
       "    for (const render_item of render_items) {\n",
       "      for (const root_id of render_item.root_ids) {\n",
       "\tconst id_el = document.getElementById(root_id)\n",
       "\tif (id_el.children.length && id_el.children[0].hasAttribute('data-root-id')) {\n",
       "\t  const root_el = id_el.children[0]\n",
       "\t  root_el.id = root_el.id + '-rendered'\n",
       "\t  for (const child of root_el.children) {\n",
       "            // Ensure JupyterLab does not capture keyboard shortcuts\n",
       "            // see: https://jupyterlab.readthedocs.io/en/4.1.x/extension/notebook.html#keyboard-interaction-model\n",
       "\t    child.setAttribute('data-lm-suppress-shortcuts', 'true')\n",
       "\t  }\n",
       "\t}\n",
       "      }\n",
       "    }\n",
       "  }\n",
       "  function get_bokeh(root) {\n",
       "    if (root.Bokeh === undefined) {\n",
       "      return null\n",
       "    } else if (root.Bokeh.version !== py_version) {\n",
       "      if (root.Bokeh.versions === undefined || !root.Bokeh.versions.has(py_version)) {\n",
       "\treturn null\n",
       "      }\n",
       "      return root.Bokeh.versions.get(py_version);\n",
       "    } else if (root.Bokeh.version === py_version) {\n",
       "      return root.Bokeh\n",
       "    }\n",
       "    return null\n",
       "  }\n",
       "  function is_loaded(root) {\n",
       "    var Bokeh = get_bokeh(root)\n",
       "    return (Bokeh != null && Bokeh.Panel !== undefined)\n",
       "  }\n",
       "  if (is_loaded(root)) {\n",
       "    embed_document(root);\n",
       "  } else {\n",
       "    var attempts = 0;\n",
       "    var timer = setInterval(function(root) {\n",
       "      if (is_loaded(root)) {\n",
       "        clearInterval(timer);\n",
       "        embed_document(root);\n",
       "      } else if (document.readyState == \"complete\") {\n",
       "        attempts++;\n",
       "        if (attempts > 200) {\n",
       "          clearInterval(timer);\n",
       "\t  var Bokeh = get_bokeh(root)\n",
       "\t  if (Bokeh == null || Bokeh.Panel == null) {\n",
       "            console.warn(\"Panel: ERROR: Unable to run Panel code because Bokeh or Panel library is missing\");\n",
       "\t  } else {\n",
       "\t    console.warn(\"Panel: WARNING: Attempting to render but not all required libraries could be resolved.\")\n",
       "\t    embed_document(root)\n",
       "\t  }\n",
       "        }\n",
       "      }\n",
       "    }, 25, root)\n",
       "  }\n",
       "})(window);</script>"
      ],
      "text/plain": [
       ":Overlay\n",
       "   .Bars.I    :Bars   [post_str_b3]   (percent)\n",
       "   .HLine.I   :HLine   [x,y]\n",
       "   .HLine.II  :HLine   [x,y]\n",
       "   .HLine.III :HLine   [x,y]"
      ]
     },
     "metadata": {
      "application/vnd.holoviews_exec.v0+json": {
       "id": "d55378d3-1b1a-400f-9905-4ebab4e7fc0e"
      }
     },
     "output_type": "display_data"
    },
    {
     "name": "stdout",
     "output_type": "stream",
     "text": [
      "df_10_last FOR str_b3 = 19\n",
      "Last 3 results last_results=['10', '12', '20']\n"
     ]
    },
    {
     "data": {
      "text/html": [
       "<div><style>\n",
       ".dataframe > thead > tr,\n",
       ".dataframe > tbody > tr {\n",
       "  text-align: right;\n",
       "  white-space: pre-wrap;\n",
       "}\n",
       "</style>\n",
       "<small>shape: (10, 24)</small><table border=\"1\" class=\"dataframe\"><thead><tr><th>fecha</th><th>sorteo</th><th>bolillas</th><th>id</th><th>combo</th><th>b1</th><th>b2</th><th>b3</th><th>b4</th><th>b5</th><th>str_b1</th><th>str_b2</th><th>str_b3</th><th>str_b4</th><th>str_b5</th><th>post_str_b1</th><th>post_str_b2</th><th>post_str_b3</th><th>post_str_b4</th><th>post_str_blast</th><th>is_rare_combination</th><th>reason</th><th>jumps_map</th><th>unijump</th></tr><tr><td>str</td><td>str</td><td>str</td><td>str</td><td>array[u8, 5]</td><td>u8</td><td>u8</td><td>u8</td><td>u8</td><td>u8</td><td>str</td><td>str</td><td>str</td><td>str</td><td>str</td><td>str</td><td>str</td><td>str</td><td>str</td><td>str</td><td>bool</td><td>u8</td><td>str</td><td>i64</td></tr></thead><tbody><tr><td>&quot;22/03/2025&quot;</td><td>&quot;4163&quot;</td><td>&quot;19 32 17 10 22&quot;</td><td>&quot;1017192232&quot;</td><td>[10, 17, … 32]</td><td>10</td><td>17</td><td>19</td><td>22</td><td>32</td><td>&quot;10&quot;</td><td>&quot;17&quot;</td><td>&quot;19&quot;</td><td>&quot;22&quot;</td><td>&quot;32&quot;</td><td>&quot;04&quot;</td><td>&quot;08&quot;</td><td>&quot;10&quot;</td><td>&quot;13&quot;</td><td>&quot;15&quot;</td><td>false</td><td>0</td><td>&quot;07_02_03_10&quot;</td><td>0</td></tr><tr><td>&quot;10/03/2025&quot;</td><td>&quot;4151&quot;</td><td>&quot;29 06 26 15 19&quot;</td><td>&quot;0615192629&quot;</td><td>[6, 15, … 29]</td><td>6</td><td>15</td><td>19</td><td>26</td><td>29</td><td>&quot;06&quot;</td><td>&quot;15&quot;</td><td>&quot;19&quot;</td><td>&quot;26&quot;</td><td>&quot;29&quot;</td><td>&quot;02&quot;</td><td>&quot;11&quot;</td><td>&quot;12&quot;</td><td>&quot;16&quot;</td><td>&quot;32&quot;</td><td>true</td><td>16</td><td>&quot;09_04_07_03&quot;</td><td>-15</td></tr><tr><td>&quot;11/02/2025&quot;</td><td>&quot;4124&quot;</td><td>&quot;08 32 28 19 17&quot;</td><td>&quot;0817192832&quot;</td><td>[8, 17, … 32]</td><td>8</td><td>17</td><td>19</td><td>28</td><td>32</td><td>&quot;08&quot;</td><td>&quot;17&quot;</td><td>&quot;19&quot;</td><td>&quot;28&quot;</td><td>&quot;32&quot;</td><td>&quot;12&quot;</td><td>&quot;13&quot;</td><td>&quot;20&quot;</td><td>&quot;31&quot;</td><td>&quot;33&quot;</td><td>false</td><td>0</td><td>&quot;09_02_09_04&quot;</td><td>-26</td></tr><tr><td>&quot;31/01/2025&quot;</td><td>&quot;4113&quot;</td><td>&quot;19 28 32 05 04&quot;</td><td>&quot;0405192832&quot;</td><td>[4, 5, … 32]</td><td>4</td><td>5</td><td>19</td><td>28</td><td>32</td><td>&quot;04&quot;</td><td>&quot;05&quot;</td><td>&quot;19&quot;</td><td>&quot;28&quot;</td><td>&quot;32&quot;</td><td>&quot;04&quot;</td><td>&quot;05&quot;</td><td>&quot;08&quot;</td><td>&quot;16&quot;</td><td>&quot;35&quot;</td><td>false</td><td>0</td><td>&quot;01_14_09_04&quot;</td><td>18</td></tr><tr><td>&quot;20/01/2025&quot;</td><td>&quot;4102&quot;</td><td>&quot;19 03 34 25 04&quot;</td><td>&quot;0304192534&quot;</td><td>[3, 4, … 34]</td><td>3</td><td>4</td><td>19</td><td>25</td><td>34</td><td>&quot;03&quot;</td><td>&quot;04&quot;</td><td>&quot;19&quot;</td><td>&quot;25&quot;</td><td>&quot;34&quot;</td><td>&quot;21&quot;</td><td>&quot;23&quot;</td><td>&quot;24&quot;</td><td>&quot;30&quot;</td><td>&quot;34&quot;</td><td>false</td><td>0</td><td>&quot;01_15_06_09&quot;</td><td>35</td></tr><tr><td>&quot;04/01/2025&quot;</td><td>&quot;4086&quot;</td><td>&quot;06 10 29 32 19&quot;</td><td>&quot;0610192932&quot;</td><td>[6, 10, … 32]</td><td>6</td><td>10</td><td>19</td><td>29</td><td>32</td><td>&quot;06&quot;</td><td>&quot;10&quot;</td><td>&quot;19&quot;</td><td>&quot;29&quot;</td><td>&quot;32&quot;</td><td>&quot;07&quot;</td><td>&quot;19&quot;</td><td>&quot;20&quot;</td><td>&quot;23&quot;</td><td>&quot;28&quot;</td><td>false</td><td>0</td><td>&quot;04_09_10_03&quot;</td><td>-4</td></tr><tr><td>&quot;22/12/2024&quot;</td><td>&quot;4073&quot;</td><td>&quot;19 20 35 07 05&quot;</td><td>&quot;0507192035&quot;</td><td>[5, 7, … 35]</td><td>5</td><td>7</td><td>19</td><td>20</td><td>35</td><td>&quot;05&quot;</td><td>&quot;07&quot;</td><td>&quot;19&quot;</td><td>&quot;20&quot;</td><td>&quot;35&quot;</td><td>&quot;06&quot;</td><td>&quot;09&quot;</td><td>&quot;22&quot;</td><td>&quot;24&quot;</td><td>&quot;32&quot;</td><td>false</td><td>0</td><td>&quot;02_12_01_15&quot;</td><td>46</td></tr><tr><td>&quot;03/12/2024&quot;</td><td>&quot;4054&quot;</td><td>&quot;19 31 06 25 15&quot;</td><td>&quot;0615192531&quot;</td><td>[6, 15, … 31]</td><td>6</td><td>15</td><td>19</td><td>25</td><td>31</td><td>&quot;06&quot;</td><td>&quot;15&quot;</td><td>&quot;19&quot;</td><td>&quot;25&quot;</td><td>&quot;31&quot;</td><td>&quot;05&quot;</td><td>&quot;06&quot;</td><td>&quot;11&quot;</td><td>&quot;16&quot;</td><td>&quot;23&quot;</td><td>true</td><td>8</td><td>&quot;09_04_06_06&quot;</td><td>-9</td></tr><tr><td>&quot;18/11/2024&quot;</td><td>&quot;4039&quot;</td><td>&quot;01 07 19 23 24&quot;</td><td>&quot;0107192324&quot;</td><td>[1, 7, … 24]</td><td>1</td><td>7</td><td>19</td><td>23</td><td>24</td><td>&quot;01&quot;</td><td>&quot;07&quot;</td><td>&quot;19&quot;</td><td>&quot;23&quot;</td><td>&quot;24&quot;</td><td>&quot;07&quot;</td><td>&quot;10&quot;</td><td>&quot;17&quot;</td><td>&quot;21&quot;</td><td>&quot;24&quot;</td><td>false</td><td>0</td><td>&quot;06_12_04_01&quot;</td><td>19</td></tr><tr><td>&quot;23/08/2024&quot;</td><td>&quot;3952&quot;</td><td>&quot;19 30 13 08 28&quot;</td><td>&quot;0813192830&quot;</td><td>[8, 13, … 30]</td><td>8</td><td>13</td><td>19</td><td>28</td><td>30</td><td>&quot;08&quot;</td><td>&quot;13&quot;</td><td>&quot;19&quot;</td><td>&quot;28&quot;</td><td>&quot;30&quot;</td><td>&quot;02&quot;</td><td>&quot;22&quot;</td><td>&quot;24&quot;</td><td>&quot;33&quot;</td><td>&quot;34&quot;</td><td>false</td><td>0</td><td>&quot;05_06_09_02&quot;</td><td>-12</td></tr></tbody></table></div>"
      ],
      "text/plain": [
       "shape: (10, 24)\n",
       "┌────────────┬────────┬─────────────┬────────────┬───┬─────────────┬────────┬────────────┬─────────┐\n",
       "│ fecha      ┆ sorteo ┆ bolillas    ┆ id         ┆ … ┆ is_rare_com ┆ reason ┆ jumps_map  ┆ unijump │\n",
       "│ ---        ┆ ---    ┆ ---         ┆ ---        ┆   ┆ bination    ┆ ---    ┆ ---        ┆ ---     │\n",
       "│ str        ┆ str    ┆ str         ┆ str        ┆   ┆ ---         ┆ u8     ┆ str        ┆ i64     │\n",
       "│            ┆        ┆             ┆            ┆   ┆ bool        ┆        ┆            ┆         │\n",
       "╞════════════╪════════╪═════════════╪════════════╪═══╪═════════════╪════════╪════════════╪═════════╡\n",
       "│ 22/03/2025 ┆ 4163   ┆ 19 32 17 10 ┆ 1017192232 ┆ … ┆ false       ┆ 0      ┆ 07_02_03_1 ┆ 0       │\n",
       "│            ┆        ┆ 22          ┆            ┆   ┆             ┆        ┆ 0          ┆         │\n",
       "│ 10/03/2025 ┆ 4151   ┆ 29 06 26 15 ┆ 0615192629 ┆ … ┆ true        ┆ 16     ┆ 09_04_07_0 ┆ -15     │\n",
       "│            ┆        ┆ 19          ┆            ┆   ┆             ┆        ┆ 3          ┆         │\n",
       "│ 11/02/2025 ┆ 4124   ┆ 08 32 28 19 ┆ 0817192832 ┆ … ┆ false       ┆ 0      ┆ 09_02_09_0 ┆ -26     │\n",
       "│            ┆        ┆ 17          ┆            ┆   ┆             ┆        ┆ 4          ┆         │\n",
       "│ 31/01/2025 ┆ 4113   ┆ 19 28 32 05 ┆ 0405192832 ┆ … ┆ false       ┆ 0      ┆ 01_14_09_0 ┆ 18      │\n",
       "│            ┆        ┆ 04          ┆            ┆   ┆             ┆        ┆ 4          ┆         │\n",
       "│ 20/01/2025 ┆ 4102   ┆ 19 03 34 25 ┆ 0304192534 ┆ … ┆ false       ┆ 0      ┆ 01_15_06_0 ┆ 35      │\n",
       "│            ┆        ┆ 04          ┆            ┆   ┆             ┆        ┆ 9          ┆         │\n",
       "│ 04/01/2025 ┆ 4086   ┆ 06 10 29 32 ┆ 0610192932 ┆ … ┆ false       ┆ 0      ┆ 04_09_10_0 ┆ -4      │\n",
       "│            ┆        ┆ 19          ┆            ┆   ┆             ┆        ┆ 3          ┆         │\n",
       "│ 22/12/2024 ┆ 4073   ┆ 19 20 35 07 ┆ 0507192035 ┆ … ┆ false       ┆ 0      ┆ 02_12_01_1 ┆ 46      │\n",
       "│            ┆        ┆ 05          ┆            ┆   ┆             ┆        ┆ 5          ┆         │\n",
       "│ 03/12/2024 ┆ 4054   ┆ 19 31 06 25 ┆ 0615192531 ┆ … ┆ true        ┆ 8      ┆ 09_04_06_0 ┆ -9      │\n",
       "│            ┆        ┆ 15          ┆            ┆   ┆             ┆        ┆ 6          ┆         │\n",
       "│ 18/11/2024 ┆ 4039   ┆ 01 07 19 23 ┆ 0107192324 ┆ … ┆ false       ┆ 0      ┆ 06_12_04_0 ┆ 19      │\n",
       "│            ┆        ┆ 24          ┆            ┆   ┆             ┆        ┆ 1          ┆         │\n",
       "│ 23/08/2024 ┆ 3952   ┆ 19 30 13 08 ┆ 0813192830 ┆ … ┆ false       ┆ 0      ┆ 05_06_09_0 ┆ -12     │\n",
       "│            ┆        ┆ 28          ┆            ┆   ┆             ┆        ┆ 2          ┆         │\n",
       "└────────────┴────────┴─────────────┴────────────┴───┴─────────────┴────────┴────────────┴─────────┘"
      ]
     },
     "metadata": {},
     "output_type": "display_data"
    },
    {
     "name": "stdout",
     "output_type": "stream",
     "text": [
      "df_jumps_map FOR str_b3 = 19\n"
     ]
    },
    {
     "data": {
      "text/html": [
       "<div><style>\n",
       ".dataframe > thead > tr,\n",
       ".dataframe > tbody > tr {\n",
       "  text-align: right;\n",
       "  white-space: pre-wrap;\n",
       "}\n",
       "</style>\n",
       "<small>shape: (400, 2)</small><table border=\"1\" class=\"dataframe\"><thead><tr><th>jumps_map</th><th>count</th></tr><tr><td>str</td><td>u32</td></tr></thead><tbody><tr><td>&quot;01_06_14_02&quot;</td><td>3</td></tr><tr><td>&quot;05_06_09_02&quot;</td><td>2</td></tr><tr><td>&quot;01_01_05_10&quot;</td><td>2</td></tr><tr><td>&quot;03_07_15_01&quot;</td><td>2</td></tr><tr><td>&quot;09_06_04_09&quot;</td><td>2</td></tr><tr><td>&hellip;</td><td>&hellip;</td></tr><tr><td>&quot;04_12_04_02&quot;</td><td>1</td></tr><tr><td>&quot;01_17_06_02&quot;</td><td>1</td></tr><tr><td>&quot;06_10_02_04&quot;</td><td>1</td></tr><tr><td>&quot;14_03_09_05&quot;</td><td>1</td></tr><tr><td>&quot;02_02_10_01&quot;</td><td>1</td></tr></tbody></table></div>"
      ],
      "text/plain": [
       "shape: (400, 2)\n",
       "┌─────────────┬───────┐\n",
       "│ jumps_map   ┆ count │\n",
       "│ ---         ┆ ---   │\n",
       "│ str         ┆ u32   │\n",
       "╞═════════════╪═══════╡\n",
       "│ 01_06_14_02 ┆ 3     │\n",
       "│ 05_06_09_02 ┆ 2     │\n",
       "│ 01_01_05_10 ┆ 2     │\n",
       "│ 03_07_15_01 ┆ 2     │\n",
       "│ 09_06_04_09 ┆ 2     │\n",
       "│ …           ┆ …     │\n",
       "│ 04_12_04_02 ┆ 1     │\n",
       "│ 01_17_06_02 ┆ 1     │\n",
       "│ 06_10_02_04 ┆ 1     │\n",
       "│ 14_03_09_05 ┆ 1     │\n",
       "│ 02_02_10_01 ┆ 1     │\n",
       "└─────────────┴───────┘"
      ]
     },
     "metadata": {},
     "output_type": "display_data"
    },
    {
     "name": "stdout",
     "output_type": "stream",
     "text": [
      "df_unijump FOR str_b3 = 19\n"
     ]
    },
    {
     "data": {
      "text/html": [
       "<div><style>\n",
       ".dataframe > thead > tr,\n",
       ".dataframe > tbody > tr {\n",
       "  text-align: right;\n",
       "  white-space: pre-wrap;\n",
       "}\n",
       "</style>\n",
       "<small>shape: (87, 2)</small><table border=\"1\" class=\"dataframe\"><thead><tr><th>unijump</th><th>count</th></tr><tr><td>i64</td><td>u32</td></tr></thead><tbody><tr><td>3</td><td>13</td></tr><tr><td>6</td><td>12</td></tr><tr><td>-6</td><td>12</td></tr><tr><td>1</td><td>12</td></tr><tr><td>-4</td><td>11</td></tr><tr><td>&hellip;</td><td>&hellip;</td></tr><tr><td>-37</td><td>1</td></tr><tr><td>38</td><td>1</td></tr><tr><td>-42</td><td>1</td></tr><tr><td>-46</td><td>1</td></tr><tr><td>-51</td><td>1</td></tr></tbody></table></div>"
      ],
      "text/plain": [
       "shape: (87, 2)\n",
       "┌─────────┬───────┐\n",
       "│ unijump ┆ count │\n",
       "│ ---     ┆ ---   │\n",
       "│ i64     ┆ u32   │\n",
       "╞═════════╪═══════╡\n",
       "│ 3       ┆ 13    │\n",
       "│ 6       ┆ 12    │\n",
       "│ -6      ┆ 12    │\n",
       "│ 1       ┆ 12    │\n",
       "│ -4      ┆ 11    │\n",
       "│ …       ┆ …     │\n",
       "│ -37     ┆ 1     │\n",
       "│ 38      ┆ 1     │\n",
       "│ -42     ┆ 1     │\n",
       "│ -46     ┆ 1     │\n",
       "│ -51     ┆ 1     │\n",
       "└─────────┴───────┘"
      ]
     },
     "metadata": {},
     "output_type": "display_data"
    }
   ],
   "source": [
    "possible_b3, exclude_jump_maps_b3, last_post_b3 = plot_post_col(col='str_b3', post_col='post_str_b3')"
   ]
  },
  {
   "cell_type": "code",
   "execution_count": 58,
   "metadata": {},
   "outputs": [
    {
     "name": "stdout",
     "output_type": "stream",
     "text": [
      "Setting test_value='30'\n",
      "df_viz FOR str_b4 = 30\n"
     ]
    },
    {
     "data": {
      "text/html": [
       "<div><style>\n",
       ".dataframe > thead > tr,\n",
       ".dataframe > tbody > tr {\n",
       "  text-align: right;\n",
       "  white-space: pre-wrap;\n",
       "}\n",
       "</style>\n",
       "<small>shape: (26, 3)</small><table border=\"1\" class=\"dataframe\"><thead><tr><th>post_str_b4</th><th>count</th><th>percent</th></tr><tr><td>str</td><td>u32</td><td>f64</td></tr></thead><tbody><tr><td>&quot;27&quot;</td><td>34</td><td>8.252427</td></tr><tr><td>&quot;22&quot;</td><td>30</td><td>7.281553</td></tr><tr><td>&quot;26&quot;</td><td>28</td><td>6.796117</td></tr><tr><td>&quot;23&quot;</td><td>27</td><td>6.553398</td></tr><tr><td>&quot;28&quot;</td><td>26</td><td>6.31068</td></tr><tr><td>&hellip;</td><td>&hellip;</td><td>&hellip;</td></tr><tr><td>&quot;34&quot;</td><td>3</td><td>0.728155</td></tr><tr><td>&quot;12&quot;</td><td>2</td><td>0.485437</td></tr><tr><td>&quot;09&quot;</td><td>1</td><td>0.242718</td></tr><tr><td>&quot;11&quot;</td><td>1</td><td>0.242718</td></tr><tr><td>&quot;08&quot;</td><td>1</td><td>0.242718</td></tr></tbody></table></div>"
      ],
      "text/plain": [
       "shape: (26, 3)\n",
       "┌─────────────┬───────┬──────────┐\n",
       "│ post_str_b4 ┆ count ┆ percent  │\n",
       "│ ---         ┆ ---   ┆ ---      │\n",
       "│ str         ┆ u32   ┆ f64      │\n",
       "╞═════════════╪═══════╪══════════╡\n",
       "│ 27          ┆ 34    ┆ 8.252427 │\n",
       "│ 22          ┆ 30    ┆ 7.281553 │\n",
       "│ 26          ┆ 28    ┆ 6.796117 │\n",
       "│ 23          ┆ 27    ┆ 6.553398 │\n",
       "│ 28          ┆ 26    ┆ 6.31068  │\n",
       "│ …           ┆ …     ┆ …        │\n",
       "│ 34          ┆ 3     ┆ 0.728155 │\n",
       "│ 12          ┆ 2     ┆ 0.485437 │\n",
       "│ 09          ┆ 1     ┆ 0.242718 │\n",
       "│ 11          ┆ 1     ┆ 0.242718 │\n",
       "│ 08          ┆ 1     ┆ 0.242718 │\n",
       "└─────────────┴───────┴──────────┘"
      ]
     },
     "metadata": {},
     "output_type": "display_data"
    },
    {
     "data": {},
     "metadata": {},
     "output_type": "display_data"
    },
    {
     "data": {
      "application/vnd.holoviews_exec.v0+json": "",
      "text/html": [
       "<div id='6de99dbb-80e3-45e2-9316-ca52ffe1fec3'>\n",
       "  <div id=\"b5d51504-fb8f-4b32-9cba-0aa30387ef85\" data-root-id=\"6de99dbb-80e3-45e2-9316-ca52ffe1fec3\" style=\"display: contents;\"></div>\n",
       "</div>\n",
       "<script type=\"application/javascript\">(function(root) {\n",
       "  var docs_json = {\"fe404524-cda6-4e52-957f-9de767f8457c\":{\"version\":\"3.7.2\",\"title\":\"Bokeh Application\",\"roots\":[{\"type\":\"object\",\"name\":\"Row\",\"id\":\"6de99dbb-80e3-45e2-9316-ca52ffe1fec3\",\"attributes\":{\"name\":\"Row01638\",\"tags\":[\"embedded\"],\"stylesheets\":[\"\\n:host(.pn-loading):before, .pn-loading:before {\\n  background-color: #c3c3c3;\\n  mask-size: auto calc(min(50%, 400px));\\n  -webkit-mask-size: auto calc(min(50%, 400px));\\n}\",{\"type\":\"object\",\"name\":\"ImportedStyleSheet\",\"id\":\"cbfab8bf-bda5-4b04-9c45-af075fc8ad30\",\"attributes\":{\"url\":\"https://cdn.holoviz.org/panel/1.6.2/dist/css/loading.css\"}},{\"type\":\"object\",\"name\":\"ImportedStyleSheet\",\"id\":\"ad392100-4dcb-44a1-881b-19cd56a1c9ac\",\"attributes\":{\"url\":\"https://cdn.holoviz.org/panel/1.6.2/dist/css/listpanel.css\"}},{\"type\":\"object\",\"name\":\"ImportedStyleSheet\",\"id\":\"f1d1317a-111a-40f3-9ae0-87714858b4b4\",\"attributes\":{\"url\":\"https://cdn.holoviz.org/panel/1.6.2/dist/bundled/theme/default.css\"}},{\"type\":\"object\",\"name\":\"ImportedStyleSheet\",\"id\":\"0d20c468-f863-48ce-86ec-e3743a42e312\",\"attributes\":{\"url\":\"https://cdn.holoviz.org/panel/1.6.2/dist/bundled/theme/native.css\"}}],\"min_width\":700,\"margin\":0,\"sizing_mode\":\"stretch_width\",\"align\":\"start\",\"children\":[{\"type\":\"object\",\"name\":\"Spacer\",\"id\":\"d3237cde-22fb-4bc0-b776-2bdaff6946f1\",\"attributes\":{\"name\":\"HSpacer01642\",\"stylesheets\":[\"\\n:host(.pn-loading):before, .pn-loading:before {\\n  background-color: #c3c3c3;\\n  mask-size: auto calc(min(50%, 400px));\\n  -webkit-mask-size: auto calc(min(50%, 400px));\\n}\",{\"id\":\"cbfab8bf-bda5-4b04-9c45-af075fc8ad30\"},{\"id\":\"f1d1317a-111a-40f3-9ae0-87714858b4b4\"},{\"id\":\"0d20c468-f863-48ce-86ec-e3743a42e312\"}],\"margin\":0,\"sizing_mode\":\"stretch_width\",\"align\":\"start\"}},{\"type\":\"object\",\"name\":\"Figure\",\"id\":\"912a174d-e305-4eef-9920-af3ade73c740\",\"attributes\":{\"width\":700,\"height\":300,\"margin\":[5,10],\"sizing_mode\":\"fixed\",\"align\":\"start\",\"x_range\":{\"type\":\"object\",\"name\":\"FactorRange\",\"id\":\"d88adf54-5938-4363-889b-02ddf2de9664\",\"attributes\":{\"name\":\"post_str_b4\",\"tags\":[[[\"post_str_b4\",null]],[]],\"factors\":[\"27\",\"22\",\"26\",\"23\",\"28\",\"31\",\"24\",\"20\",\"25\",\"29\",\"33\",\"32\",\"21\",\"30\",\"19\",\"17\",\"15\",\"18\",\"13\",\"16\",\"14\",\"34\",\"12\",\"09\",\"11\",\"08\"]}},\"y_range\":{\"type\":\"object\",\"name\":\"Range1d\",\"id\":\"46f4ec00-175f-4fbb-9ce0-b72607137415\",\"attributes\":{\"name\":\"percent\",\"tags\":[[[\"percent\",null]],{\"type\":\"map\",\"entries\":[[\"invert_yaxis\",false],[\"autorange\",false]]}],\"end\":9.053398058252426,\"reset_start\":0.0,\"reset_end\":9.053398058252426}},\"x_scale\":{\"type\":\"object\",\"name\":\"CategoricalScale\",\"id\":\"b69794cd-3e73-4f77-9de5-bca6e279a9f4\"},\"y_scale\":{\"type\":\"object\",\"name\":\"LinearScale\",\"id\":\"ff13c8ea-436e-4fd4-917b-ababb4cfc43e\"},\"title\":{\"type\":\"object\",\"name\":\"Title\",\"id\":\"6d77a170-fb71-4e42-9a7e-6d1e0bddcc00\",\"attributes\":{\"text_color\":\"black\",\"text_font_size\":\"12pt\"}},\"renderers\":[{\"type\":\"object\",\"name\":\"GlyphRenderer\",\"id\":\"458a424d-b60f-4108-83c9-8800c2b445dd\",\"attributes\":{\"data_source\":{\"type\":\"object\",\"name\":\"ColumnDataSource\",\"id\":\"654d8f82-d0f4-4e81-81ea-8b3d0ffbab4a\",\"attributes\":{\"selected\":{\"type\":\"object\",\"name\":\"Selection\",\"id\":\"225d8096-f2ab-4632-ad2c-2aabd7ddb3b5\",\"attributes\":{\"indices\":[],\"line_indices\":[]}},\"selection_policy\":{\"type\":\"object\",\"name\":\"UnionRenderers\",\"id\":\"5f7c3386-c1e6-47c9-90b8-7fd74989a64f\"},\"data\":{\"type\":\"map\",\"entries\":[[\"post_str_b4\",[\"27\",\"22\",\"26\",\"23\",\"28\",\"31\",\"24\",\"20\",\"25\",\"29\",\"33\",\"32\",\"21\",\"30\",\"19\",\"17\",\"15\",\"18\",\"13\",\"16\",\"14\",\"34\",\"12\",\"09\",\"11\",\"08\"]],[\"percent\",{\"type\":\"ndarray\",\"array\":{\"type\":\"bytes\",\"data\":\"Ss7LIj6BIECS87KITyAdQBGfQCo5LxtA0XQH+602GkCQSs7LIj4ZQJBKzssiPhlAkErOyyI+GUCNoekO9lsVQAxNd7DfahNADE13sN9qE0DLIj6BVHISQIv4BFLJeRFASs7LIj6BEEBKzssiPoEQQBNIJedlEQ9AEZ9AKjkvC0AO9lttDE0HQA72W20MTQdAE0gl52UR/z8Rn0AqOS/7PwxNd7DfavM/DvZbbQxN5z8TSCXnZRHfPxNIJedlEc8/E0gl52URzz8TSCXnZRHPPw==\"},\"shape\":[26],\"dtype\":\"float64\",\"order\":\"little\"}]]}}},\"view\":{\"type\":\"object\",\"name\":\"CDSView\",\"id\":\"1aecd4fa-9bcf-439b-8f4e-bf81908958a7\",\"attributes\":{\"filter\":{\"type\":\"object\",\"name\":\"AllIndices\",\"id\":\"385fd1a4-1f9b-4d90-b298-7e1fb7bac8e8\"}}},\"glyph\":{\"type\":\"object\",\"name\":\"VBar\",\"id\":\"5ec827aa-4d49-499e-a459-e11773d764c0\",\"attributes\":{\"tags\":[\"apply_ranges\"],\"x\":{\"type\":\"field\",\"field\":\"post_str_b4\"},\"width\":{\"type\":\"value\",\"value\":0.8},\"top\":{\"type\":\"field\",\"field\":\"percent\"},\"fill_color\":{\"type\":\"value\",\"value\":\"#30a2da\"},\"hatch_color\":{\"type\":\"value\",\"value\":\"#30a2da\"}}},\"selection_glyph\":{\"type\":\"object\",\"name\":\"VBar\",\"id\":\"9174a192-c4fb-461a-906e-7c23773c9c75\",\"attributes\":{\"tags\":[\"apply_ranges\"],\"x\":{\"type\":\"field\",\"field\":\"post_str_b4\"},\"width\":{\"type\":\"value\",\"value\":0.8},\"bottom\":{\"type\":\"value\",\"value\":0},\"top\":{\"type\":\"field\",\"field\":\"percent\"},\"line_color\":{\"type\":\"value\",\"value\":\"black\"},\"line_alpha\":{\"type\":\"value\",\"value\":1.0},\"line_width\":{\"type\":\"value\",\"value\":1},\"line_join\":{\"type\":\"value\",\"value\":\"bevel\"},\"line_cap\":{\"type\":\"value\",\"value\":\"butt\"},\"line_dash\":{\"type\":\"value\",\"value\":[]},\"line_dash_offset\":{\"type\":\"value\",\"value\":0},\"fill_color\":{\"type\":\"value\",\"value\":\"#30a2da\"},\"fill_alpha\":{\"type\":\"value\",\"value\":1.0},\"hatch_color\":{\"type\":\"value\",\"value\":\"#30a2da\"},\"hatch_alpha\":{\"type\":\"value\",\"value\":1.0},\"hatch_scale\":{\"type\":\"value\",\"value\":12.0},\"hatch_pattern\":{\"type\":\"value\",\"value\":null},\"hatch_weight\":{\"type\":\"value\",\"value\":1.0}}},\"nonselection_glyph\":{\"type\":\"object\",\"name\":\"VBar\",\"id\":\"ffc5b629-a113-4704-9be8-7e59bd8771d7\",\"attributes\":{\"tags\":[\"apply_ranges\"],\"x\":{\"type\":\"field\",\"field\":\"post_str_b4\"},\"width\":{\"type\":\"value\",\"value\":0.8},\"top\":{\"type\":\"field\",\"field\":\"percent\"},\"line_alpha\":{\"type\":\"value\",\"value\":0.1},\"fill_color\":{\"type\":\"value\",\"value\":\"#30a2da\"},\"fill_alpha\":{\"type\":\"value\",\"value\":0.1},\"hatch_color\":{\"type\":\"value\",\"value\":\"#30a2da\"},\"hatch_alpha\":{\"type\":\"value\",\"value\":0.1}}},\"muted_glyph\":{\"type\":\"object\",\"name\":\"VBar\",\"id\":\"16a7023a-882e-4a59-9a5e-1b873497f198\",\"attributes\":{\"tags\":[\"apply_ranges\"],\"x\":{\"type\":\"field\",\"field\":\"post_str_b4\"},\"width\":{\"type\":\"value\",\"value\":0.8},\"top\":{\"type\":\"field\",\"field\":\"percent\"},\"line_alpha\":{\"type\":\"value\",\"value\":0.2},\"fill_color\":{\"type\":\"value\",\"value\":\"#30a2da\"},\"fill_alpha\":{\"type\":\"value\",\"value\":0.2},\"hatch_color\":{\"type\":\"value\",\"value\":\"#30a2da\"},\"hatch_alpha\":{\"type\":\"value\",\"value\":0.2}}}}},{\"type\":\"object\",\"name\":\"Span\",\"id\":\"e2a55b94-97cb-4c3d-8cd5-dcb09781d56d\",\"attributes\":{\"level\":\"glyph\",\"location\":3.8461538461538463,\"line_color\":\"red\",\"line_width\":3}},{\"type\":\"object\",\"name\":\"Span\",\"id\":\"4a7c6359-3d7c-4be5-8c5d-4686bde1e8e5\",\"attributes\":{\"level\":\"glyph\",\"location\":5.769230769230769,\"line_color\":\"blue\",\"line_width\":3}},{\"type\":\"object\",\"name\":\"Span\",\"id\":\"42b68fa5-36a8-44a3-9694-455510acb454\",\"attributes\":{\"level\":\"glyph\",\"location\":1.9230769230769231,\"line_color\":\"blue\",\"line_width\":3}}],\"toolbar\":{\"type\":\"object\",\"name\":\"Toolbar\",\"id\":\"8102f319-e4cb-4f78-a3b7-a83fadcf90cc\",\"attributes\":{\"tools\":[{\"type\":\"object\",\"name\":\"WheelZoomTool\",\"id\":\"9bb07f57-6846-4899-bcf9-30dcb41fe977\",\"attributes\":{\"tags\":[\"hv_created\"],\"renderers\":\"auto\",\"zoom_together\":\"none\"}},{\"type\":\"object\",\"name\":\"HoverTool\",\"id\":\"16e5b0be-1ff7-4853-b4a8-674299c9527e\",\"attributes\":{\"tags\":[\"hv_created\"],\"renderers\":[{\"id\":\"458a424d-b60f-4108-83c9-8800c2b445dd\"}],\"tooltips\":[[\"post_str_b4\",\"@{post_str_b4}\"],[\"percent\",\"@{percent}\"]]}},{\"type\":\"object\",\"name\":\"SaveTool\",\"id\":\"9878b40d-ac96-4ed1-82c7-b7d08992033c\"},{\"type\":\"object\",\"name\":\"PanTool\",\"id\":\"f0d4c79f-94c5-4cee-a4d9-c68efde0f25d\"},{\"type\":\"object\",\"name\":\"BoxZoomTool\",\"id\":\"7e3c4ad8-1c41-4ba6-b21e-9ca76e110bb5\",\"attributes\":{\"dimensions\":\"both\",\"overlay\":{\"type\":\"object\",\"name\":\"BoxAnnotation\",\"id\":\"36d5d8f9-f8f7-4753-ba2e-4786f88e9db1\",\"attributes\":{\"syncable\":false,\"line_color\":\"black\",\"line_alpha\":1.0,\"line_width\":2,\"line_dash\":[4,4],\"fill_color\":\"lightgrey\",\"fill_alpha\":0.5,\"level\":\"overlay\",\"visible\":false,\"left\":{\"type\":\"number\",\"value\":\"nan\"},\"right\":{\"type\":\"number\",\"value\":\"nan\"},\"top\":{\"type\":\"number\",\"value\":\"nan\"},\"bottom\":{\"type\":\"number\",\"value\":\"nan\"},\"left_units\":\"canvas\",\"right_units\":\"canvas\",\"top_units\":\"canvas\",\"bottom_units\":\"canvas\",\"handles\":{\"type\":\"object\",\"name\":\"BoxInteractionHandles\",\"id\":\"6b511f94-694e-43f0-827b-fe91a2a09656\",\"attributes\":{\"all\":{\"type\":\"object\",\"name\":\"AreaVisuals\",\"id\":\"8fe6f7db-dfb1-44fa-9390-01058351588d\",\"attributes\":{\"fill_color\":\"white\",\"hover_fill_color\":\"lightgray\"}}}}}}}},{\"type\":\"object\",\"name\":\"ResetTool\",\"id\":\"88d8c400-75d9-4993-a4a7-4f31799ce531\"}],\"active_drag\":{\"id\":\"f0d4c79f-94c5-4cee-a4d9-c68efde0f25d\"}}},\"left\":[{\"type\":\"object\",\"name\":\"LinearAxis\",\"id\":\"106c2499-1b39-4130-bae3-907c3d87a3fa\",\"attributes\":{\"ticker\":{\"type\":\"object\",\"name\":\"BasicTicker\",\"id\":\"d196b7f4-fbdc-4d2a-a47a-269093774877\",\"attributes\":{\"mantissas\":[1,2,5]}},\"formatter\":{\"type\":\"object\",\"name\":\"BasicTickFormatter\",\"id\":\"6d215325-154a-4c10-9140-51826bb974bb\"},\"axis_label\":\"percent\",\"major_label_policy\":{\"type\":\"object\",\"name\":\"AllLabels\",\"id\":\"99e39e5b-3085-4788-b05c-e8688253c48b\"}}}],\"below\":[{\"type\":\"object\",\"name\":\"CategoricalAxis\",\"id\":\"1a8c93ad-461b-4aa7-b14f-83233b70491d\",\"attributes\":{\"ticker\":{\"type\":\"object\",\"name\":\"CategoricalTicker\",\"id\":\"b3183364-69c8-4b70-88a7-ce9c97989942\"},\"formatter\":{\"type\":\"object\",\"name\":\"CategoricalTickFormatter\",\"id\":\"8a83ab74-96b2-4a1d-8270-2d772ebe2d45\"},\"axis_label\":\"post_str_b4\",\"major_label_policy\":{\"type\":\"object\",\"name\":\"AllLabels\",\"id\":\"32573327-4daf-4f7a-85b6-45570bc8b605\"}}}],\"center\":[{\"type\":\"object\",\"name\":\"Grid\",\"id\":\"7eb746d8-2c5b-4129-8223-b2f9d8cbb62f\",\"attributes\":{\"axis\":{\"id\":\"1a8c93ad-461b-4aa7-b14f-83233b70491d\"},\"grid_line_color\":null}},{\"type\":\"object\",\"name\":\"Grid\",\"id\":\"2c281c44-744d-4098-9388-7db9d022044c\",\"attributes\":{\"dimension\":1,\"axis\":{\"id\":\"106c2499-1b39-4130-bae3-907c3d87a3fa\"},\"grid_line_color\":null}}],\"min_border_top\":10,\"min_border_bottom\":10,\"min_border_left\":10,\"min_border_right\":10,\"output_backend\":\"webgl\"}},{\"type\":\"object\",\"name\":\"Spacer\",\"id\":\"50f42222-9ad7-4f43-821e-8877dc8d4b60\",\"attributes\":{\"name\":\"HSpacer01643\",\"stylesheets\":[\"\\n:host(.pn-loading):before, .pn-loading:before {\\n  background-color: #c3c3c3;\\n  mask-size: auto calc(min(50%, 400px));\\n  -webkit-mask-size: auto calc(min(50%, 400px));\\n}\",{\"id\":\"cbfab8bf-bda5-4b04-9c45-af075fc8ad30\"},{\"id\":\"f1d1317a-111a-40f3-9ae0-87714858b4b4\"},{\"id\":\"0d20c468-f863-48ce-86ec-e3743a42e312\"}],\"margin\":0,\"sizing_mode\":\"stretch_width\",\"align\":\"start\"}}]}}],\"defs\":[{\"type\":\"model\",\"name\":\"ReactiveHTML1\"},{\"type\":\"model\",\"name\":\"FlexBox1\",\"properties\":[{\"name\":\"align_content\",\"kind\":\"Any\",\"default\":\"flex-start\"},{\"name\":\"align_items\",\"kind\":\"Any\",\"default\":\"flex-start\"},{\"name\":\"flex_direction\",\"kind\":\"Any\",\"default\":\"row\"},{\"name\":\"flex_wrap\",\"kind\":\"Any\",\"default\":\"wrap\"},{\"name\":\"gap\",\"kind\":\"Any\",\"default\":\"\"},{\"name\":\"justify_content\",\"kind\":\"Any\",\"default\":\"flex-start\"}]},{\"type\":\"model\",\"name\":\"FloatPanel1\",\"properties\":[{\"name\":\"config\",\"kind\":\"Any\",\"default\":{\"type\":\"map\"}},{\"name\":\"contained\",\"kind\":\"Any\",\"default\":true},{\"name\":\"position\",\"kind\":\"Any\",\"default\":\"right-top\"},{\"name\":\"offsetx\",\"kind\":\"Any\",\"default\":null},{\"name\":\"offsety\",\"kind\":\"Any\",\"default\":null},{\"name\":\"theme\",\"kind\":\"Any\",\"default\":\"primary\"},{\"name\":\"status\",\"kind\":\"Any\",\"default\":\"normalized\"}]},{\"type\":\"model\",\"name\":\"GridStack1\",\"properties\":[{\"name\":\"ncols\",\"kind\":\"Any\",\"default\":null},{\"name\":\"nrows\",\"kind\":\"Any\",\"default\":null},{\"name\":\"allow_resize\",\"kind\":\"Any\",\"default\":true},{\"name\":\"allow_drag\",\"kind\":\"Any\",\"default\":true},{\"name\":\"state\",\"kind\":\"Any\",\"default\":[]}]},{\"type\":\"model\",\"name\":\"drag1\",\"properties\":[{\"name\":\"slider_width\",\"kind\":\"Any\",\"default\":5},{\"name\":\"slider_color\",\"kind\":\"Any\",\"default\":\"black\"},{\"name\":\"value\",\"kind\":\"Any\",\"default\":50}]},{\"type\":\"model\",\"name\":\"click1\",\"properties\":[{\"name\":\"terminal_output\",\"kind\":\"Any\",\"default\":\"\"},{\"name\":\"debug_name\",\"kind\":\"Any\",\"default\":\"\"},{\"name\":\"clears\",\"kind\":\"Any\",\"default\":0}]},{\"type\":\"model\",\"name\":\"FastWrapper1\",\"properties\":[{\"name\":\"object\",\"kind\":\"Any\",\"default\":null},{\"name\":\"style\",\"kind\":\"Any\",\"default\":null}]},{\"type\":\"model\",\"name\":\"NotificationArea1\",\"properties\":[{\"name\":\"js_events\",\"kind\":\"Any\",\"default\":{\"type\":\"map\"}},{\"name\":\"max_notifications\",\"kind\":\"Any\",\"default\":5},{\"name\":\"notifications\",\"kind\":\"Any\",\"default\":[]},{\"name\":\"position\",\"kind\":\"Any\",\"default\":\"bottom-right\"},{\"name\":\"_clear\",\"kind\":\"Any\",\"default\":0},{\"name\":\"types\",\"kind\":\"Any\",\"default\":[{\"type\":\"map\",\"entries\":[[\"type\",\"warning\"],[\"background\",\"#ffc107\"],[\"icon\",{\"type\":\"map\",\"entries\":[[\"className\",\"fas fa-exclamation-triangle\"],[\"tagName\",\"i\"],[\"color\",\"white\"]]}]]},{\"type\":\"map\",\"entries\":[[\"type\",\"info\"],[\"background\",\"#007bff\"],[\"icon\",{\"type\":\"map\",\"entries\":[[\"className\",\"fas fa-info-circle\"],[\"tagName\",\"i\"],[\"color\",\"white\"]]}]]}]}]},{\"type\":\"model\",\"name\":\"Notification\",\"properties\":[{\"name\":\"background\",\"kind\":\"Any\",\"default\":null},{\"name\":\"duration\",\"kind\":\"Any\",\"default\":3000},{\"name\":\"icon\",\"kind\":\"Any\",\"default\":null},{\"name\":\"message\",\"kind\":\"Any\",\"default\":\"\"},{\"name\":\"notification_type\",\"kind\":\"Any\",\"default\":null},{\"name\":\"_rendered\",\"kind\":\"Any\",\"default\":false},{\"name\":\"_destroyed\",\"kind\":\"Any\",\"default\":false}]},{\"type\":\"model\",\"name\":\"TemplateActions1\",\"properties\":[{\"name\":\"open_modal\",\"kind\":\"Any\",\"default\":0},{\"name\":\"close_modal\",\"kind\":\"Any\",\"default\":0}]},{\"type\":\"model\",\"name\":\"BootstrapTemplateActions1\",\"properties\":[{\"name\":\"open_modal\",\"kind\":\"Any\",\"default\":0},{\"name\":\"close_modal\",\"kind\":\"Any\",\"default\":0}]},{\"type\":\"model\",\"name\":\"TemplateEditor1\",\"properties\":[{\"name\":\"layout\",\"kind\":\"Any\",\"default\":[]}]},{\"type\":\"model\",\"name\":\"MaterialTemplateActions1\",\"properties\":[{\"name\":\"open_modal\",\"kind\":\"Any\",\"default\":0},{\"name\":\"close_modal\",\"kind\":\"Any\",\"default\":0}]},{\"type\":\"model\",\"name\":\"ReactiveESM1\",\"properties\":[{\"name\":\"esm_constants\",\"kind\":\"Any\",\"default\":{\"type\":\"map\"}}]},{\"type\":\"model\",\"name\":\"JSComponent1\",\"properties\":[{\"name\":\"esm_constants\",\"kind\":\"Any\",\"default\":{\"type\":\"map\"}}]},{\"type\":\"model\",\"name\":\"ReactComponent1\",\"properties\":[{\"name\":\"esm_constants\",\"kind\":\"Any\",\"default\":{\"type\":\"map\"}}]},{\"type\":\"model\",\"name\":\"AnyWidgetComponent1\",\"properties\":[{\"name\":\"esm_constants\",\"kind\":\"Any\",\"default\":{\"type\":\"map\"}}]},{\"type\":\"model\",\"name\":\"request_value1\",\"properties\":[{\"name\":\"fill\",\"kind\":\"Any\",\"default\":\"none\"},{\"name\":\"_synced\",\"kind\":\"Any\",\"default\":null},{\"name\":\"_request_sync\",\"kind\":\"Any\",\"default\":0}]}]}};\n",
       "  var render_items = [{\"docid\":\"fe404524-cda6-4e52-957f-9de767f8457c\",\"roots\":{\"6de99dbb-80e3-45e2-9316-ca52ffe1fec3\":\"b5d51504-fb8f-4b32-9cba-0aa30387ef85\"},\"root_ids\":[\"6de99dbb-80e3-45e2-9316-ca52ffe1fec3\"]}];\n",
       "  var docs = Object.values(docs_json)\n",
       "  if (!docs) {\n",
       "    return\n",
       "  }\n",
       "  const py_version = docs[0].version.replace('rc', '-rc.').replace('.dev', '-dev.')\n",
       "  async function embed_document(root) {\n",
       "    var Bokeh = get_bokeh(root)\n",
       "    await Bokeh.embed.embed_items_notebook(docs_json, render_items);\n",
       "    for (const render_item of render_items) {\n",
       "      for (const root_id of render_item.root_ids) {\n",
       "\tconst id_el = document.getElementById(root_id)\n",
       "\tif (id_el.children.length && id_el.children[0].hasAttribute('data-root-id')) {\n",
       "\t  const root_el = id_el.children[0]\n",
       "\t  root_el.id = root_el.id + '-rendered'\n",
       "\t  for (const child of root_el.children) {\n",
       "            // Ensure JupyterLab does not capture keyboard shortcuts\n",
       "            // see: https://jupyterlab.readthedocs.io/en/4.1.x/extension/notebook.html#keyboard-interaction-model\n",
       "\t    child.setAttribute('data-lm-suppress-shortcuts', 'true')\n",
       "\t  }\n",
       "\t}\n",
       "      }\n",
       "    }\n",
       "  }\n",
       "  function get_bokeh(root) {\n",
       "    if (root.Bokeh === undefined) {\n",
       "      return null\n",
       "    } else if (root.Bokeh.version !== py_version) {\n",
       "      if (root.Bokeh.versions === undefined || !root.Bokeh.versions.has(py_version)) {\n",
       "\treturn null\n",
       "      }\n",
       "      return root.Bokeh.versions.get(py_version);\n",
       "    } else if (root.Bokeh.version === py_version) {\n",
       "      return root.Bokeh\n",
       "    }\n",
       "    return null\n",
       "  }\n",
       "  function is_loaded(root) {\n",
       "    var Bokeh = get_bokeh(root)\n",
       "    return (Bokeh != null && Bokeh.Panel !== undefined)\n",
       "  }\n",
       "  if (is_loaded(root)) {\n",
       "    embed_document(root);\n",
       "  } else {\n",
       "    var attempts = 0;\n",
       "    var timer = setInterval(function(root) {\n",
       "      if (is_loaded(root)) {\n",
       "        clearInterval(timer);\n",
       "        embed_document(root);\n",
       "      } else if (document.readyState == \"complete\") {\n",
       "        attempts++;\n",
       "        if (attempts > 200) {\n",
       "          clearInterval(timer);\n",
       "\t  var Bokeh = get_bokeh(root)\n",
       "\t  if (Bokeh == null || Bokeh.Panel == null) {\n",
       "            console.warn(\"Panel: ERROR: Unable to run Panel code because Bokeh or Panel library is missing\");\n",
       "\t  } else {\n",
       "\t    console.warn(\"Panel: WARNING: Attempting to render but not all required libraries could be resolved.\")\n",
       "\t    embed_document(root)\n",
       "\t  }\n",
       "        }\n",
       "      }\n",
       "    }, 25, root)\n",
       "  }\n",
       "})(window);</script>"
      ],
      "text/plain": [
       ":Overlay\n",
       "   .Bars.I    :Bars   [post_str_b4]   (percent)\n",
       "   .HLine.I   :HLine   [x,y]\n",
       "   .HLine.II  :HLine   [x,y]\n",
       "   .HLine.III :HLine   [x,y]"
      ]
     },
     "metadata": {
      "application/vnd.holoviews_exec.v0+json": {
       "id": "6de99dbb-80e3-45e2-9316-ca52ffe1fec3"
      }
     },
     "output_type": "display_data"
    },
    {
     "name": "stdout",
     "output_type": "stream",
     "text": [
      "df_10_last FOR str_b4 = 30\n",
      "Last 3 results last_results=['26', '33', '30']\n"
     ]
    },
    {
     "data": {
      "text/html": [
       "<div><style>\n",
       ".dataframe > thead > tr,\n",
       ".dataframe > tbody > tr {\n",
       "  text-align: right;\n",
       "  white-space: pre-wrap;\n",
       "}\n",
       "</style>\n",
       "<small>shape: (10, 24)</small><table border=\"1\" class=\"dataframe\"><thead><tr><th>fecha</th><th>sorteo</th><th>bolillas</th><th>id</th><th>combo</th><th>b1</th><th>b2</th><th>b3</th><th>b4</th><th>b5</th><th>str_b1</th><th>str_b2</th><th>str_b3</th><th>str_b4</th><th>str_b5</th><th>post_str_b1</th><th>post_str_b2</th><th>post_str_b3</th><th>post_str_b4</th><th>post_str_blast</th><th>is_rare_combination</th><th>reason</th><th>jumps_map</th><th>unijump</th></tr><tr><td>str</td><td>str</td><td>str</td><td>str</td><td>array[u8, 5]</td><td>u8</td><td>u8</td><td>u8</td><td>u8</td><td>u8</td><td>str</td><td>str</td><td>str</td><td>str</td><td>str</td><td>str</td><td>str</td><td>str</td><td>str</td><td>str</td><td>bool</td><td>u8</td><td>str</td><td>i64</td></tr></thead><tbody><tr><td>&quot;06/03/2025&quot;</td><td>&quot;4147&quot;</td><td>&quot;30 17 13 21 35&quot;</td><td>&quot;1317213035&quot;</td><td>[13, 17, … 35]</td><td>13</td><td>17</td><td>21</td><td>30</td><td>35</td><td>&quot;13&quot;</td><td>&quot;17&quot;</td><td>&quot;21&quot;</td><td>&quot;30&quot;</td><td>&quot;35&quot;</td><td>&quot;03&quot;</td><td>&quot;07&quot;</td><td>&quot;24&quot;</td><td>&quot;26&quot;</td><td>&quot;30&quot;</td><td>true</td><td>8</td><td>&quot;04_04_09_05&quot;</td><td>-14</td></tr><tr><td>&quot;21/02/2025&quot;</td><td>&quot;4134&quot;</td><td>&quot;32 28 22 10 30&quot;</td><td>&quot;1022283032&quot;</td><td>[10, 22, … 32]</td><td>10</td><td>22</td><td>28</td><td>30</td><td>32</td><td>&quot;10&quot;</td><td>&quot;22&quot;</td><td>&quot;28&quot;</td><td>&quot;30&quot;</td><td>&quot;32&quot;</td><td>&quot;03&quot;</td><td>&quot;15&quot;</td><td>&quot;24&quot;</td><td>&quot;33&quot;</td><td>&quot;34&quot;</td><td>true</td><td>12</td><td>&quot;12_06_02_02&quot;</td><td>2</td></tr><tr><td>&quot;20/02/2025&quot;</td><td>&quot;4133&quot;</td><td>&quot;34 15 26 04 30&quot;</td><td>&quot;0415263034&quot;</td><td>[4, 15, … 34]</td><td>4</td><td>15</td><td>26</td><td>30</td><td>34</td><td>&quot;04&quot;</td><td>&quot;15&quot;</td><td>&quot;26&quot;</td><td>&quot;30&quot;</td><td>&quot;34&quot;</td><td>&quot;10&quot;</td><td>&quot;22&quot;</td><td>&quot;28&quot;</td><td>&quot;30&quot;</td><td>&quot;32&quot;</td><td>true</td><td>8</td><td>&quot;11_11_04_04&quot;</td><td>14</td></tr><tr><td>&quot;13/02/2025&quot;</td><td>&quot;4126&quot;</td><td>&quot;17 30 21 33 15&quot;</td><td>&quot;1517213033&quot;</td><td>[15, 17, … 33]</td><td>15</td><td>17</td><td>21</td><td>30</td><td>33</td><td>&quot;15&quot;</td><td>&quot;17&quot;</td><td>&quot;21&quot;</td><td>&quot;30&quot;</td><td>&quot;33&quot;</td><td>&quot;09&quot;</td><td>&quot;14&quot;</td><td>&quot;15&quot;</td><td>&quot;26&quot;</td><td>&quot;28&quot;</td><td>false</td><td>0</td><td>&quot;02_04_09_03&quot;</td><td>-14</td></tr><tr><td>&quot;21/01/2025&quot;</td><td>&quot;4103&quot;</td><td>&quot;23 34 30 24 21&quot;</td><td>&quot;2123243034&quot;</td><td>[21, 23, … 34]</td><td>21</td><td>23</td><td>24</td><td>30</td><td>34</td><td>&quot;21&quot;</td><td>&quot;23&quot;</td><td>&quot;24&quot;</td><td>&quot;30&quot;</td><td>&quot;34&quot;</td><td>&quot;06&quot;</td><td>&quot;12&quot;</td><td>&quot;17&quot;</td><td>&quot;18&quot;</td><td>&quot;35&quot;</td><td>false</td><td>0</td><td>&quot;02_01_06_04&quot;</td><td>-13</td></tr><tr><td>&quot;15/01/2025&quot;</td><td>&quot;4097&quot;</td><td>&quot;30 21 25 24 32&quot;</td><td>&quot;2124253032&quot;</td><td>[21, 24, … 32]</td><td>21</td><td>24</td><td>25</td><td>30</td><td>32</td><td>&quot;21&quot;</td><td>&quot;24&quot;</td><td>&quot;25&quot;</td><td>&quot;30&quot;</td><td>&quot;32&quot;</td><td>&quot;02&quot;</td><td>&quot;09&quot;</td><td>&quot;17&quot;</td><td>&quot;20&quot;</td><td>&quot;21&quot;</td><td>false</td><td>0</td><td>&quot;03_01_05_02&quot;</td><td>-13</td></tr><tr><td>&quot;06/01/2025&quot;</td><td>&quot;4088&quot;</td><td>&quot;01 11 34 05 30&quot;</td><td>&quot;0105113034&quot;</td><td>[1, 5, … 34]</td><td>1</td><td>5</td><td>11</td><td>30</td><td>34</td><td>&quot;01&quot;</td><td>&quot;05&quot;</td><td>&quot;11&quot;</td><td>&quot;30&quot;</td><td>&quot;34&quot;</td><td>&quot;13&quot;</td><td>&quot;16&quot;</td><td>&quot;26&quot;</td><td>&quot;28&quot;</td><td>&quot;35&quot;</td><td>true</td><td>16</td><td>&quot;04_06_19_04&quot;</td><td>-39</td></tr><tr><td>&quot;29/12/2024&quot;</td><td>&quot;4080&quot;</td><td>&quot;15 30 34 01 07&quot;</td><td>&quot;0107153034&quot;</td><td>[1, 7, … 34]</td><td>1</td><td>7</td><td>15</td><td>30</td><td>34</td><td>&quot;01&quot;</td><td>&quot;07&quot;</td><td>&quot;15&quot;</td><td>&quot;30&quot;</td><td>&quot;34&quot;</td><td>&quot;10&quot;</td><td>&quot;12&quot;</td><td>&quot;17&quot;</td><td>&quot;31&quot;</td><td>&quot;32&quot;</td><td>true</td><td>16</td><td>&quot;06_08_15_04&quot;</td><td>-23</td></tr><tr><td>&quot;26/12/2024&quot;</td><td>&quot;4077&quot;</td><td>&quot;25 10 30 32 28&quot;</td><td>&quot;1025283032&quot;</td><td>[10, 25, … 32]</td><td>10</td><td>25</td><td>28</td><td>30</td><td>32</td><td>&quot;10&quot;</td><td>&quot;25&quot;</td><td>&quot;28&quot;</td><td>&quot;30&quot;</td><td>&quot;32&quot;</td><td>&quot;12&quot;</td><td>&quot;18&quot;</td><td>&quot;20&quot;</td><td>&quot;23&quot;</td><td>&quot;28&quot;</td><td>true</td><td>8</td><td>&quot;15_03_02_02&quot;</td><td>-10</td></tr><tr><td>&quot;19/12/2024&quot;</td><td>&quot;4070&quot;</td><td>&quot;34 05 22 18 30&quot;</td><td>&quot;0518223034&quot;</td><td>[5, 18, … 34]</td><td>5</td><td>18</td><td>22</td><td>30</td><td>34</td><td>&quot;05&quot;</td><td>&quot;18&quot;</td><td>&quot;22&quot;</td><td>&quot;30&quot;</td><td>&quot;34&quot;</td><td>&quot;07&quot;</td><td>&quot;08&quot;</td><td>&quot;22&quot;</td><td>&quot;23&quot;</td><td>&quot;27&quot;</td><td>false</td><td>0</td><td>&quot;13_04_08_04&quot;</td><td>-21</td></tr></tbody></table></div>"
      ],
      "text/plain": [
       "shape: (10, 24)\n",
       "┌────────────┬────────┬─────────────┬────────────┬───┬─────────────┬────────┬────────────┬─────────┐\n",
       "│ fecha      ┆ sorteo ┆ bolillas    ┆ id         ┆ … ┆ is_rare_com ┆ reason ┆ jumps_map  ┆ unijump │\n",
       "│ ---        ┆ ---    ┆ ---         ┆ ---        ┆   ┆ bination    ┆ ---    ┆ ---        ┆ ---     │\n",
       "│ str        ┆ str    ┆ str         ┆ str        ┆   ┆ ---         ┆ u8     ┆ str        ┆ i64     │\n",
       "│            ┆        ┆             ┆            ┆   ┆ bool        ┆        ┆            ┆         │\n",
       "╞════════════╪════════╪═════════════╪════════════╪═══╪═════════════╪════════╪════════════╪═════════╡\n",
       "│ 06/03/2025 ┆ 4147   ┆ 30 17 13 21 ┆ 1317213035 ┆ … ┆ true        ┆ 8      ┆ 04_04_09_0 ┆ -14     │\n",
       "│            ┆        ┆ 35          ┆            ┆   ┆             ┆        ┆ 5          ┆         │\n",
       "│ 21/02/2025 ┆ 4134   ┆ 32 28 22 10 ┆ 1022283032 ┆ … ┆ true        ┆ 12     ┆ 12_06_02_0 ┆ 2       │\n",
       "│            ┆        ┆ 30          ┆            ┆   ┆             ┆        ┆ 2          ┆         │\n",
       "│ 20/02/2025 ┆ 4133   ┆ 34 15 26 04 ┆ 0415263034 ┆ … ┆ true        ┆ 8      ┆ 11_11_04_0 ┆ 14      │\n",
       "│            ┆        ┆ 30          ┆            ┆   ┆             ┆        ┆ 4          ┆         │\n",
       "│ 13/02/2025 ┆ 4126   ┆ 17 30 21 33 ┆ 1517213033 ┆ … ┆ false       ┆ 0      ┆ 02_04_09_0 ┆ -14     │\n",
       "│            ┆        ┆ 15          ┆            ┆   ┆             ┆        ┆ 3          ┆         │\n",
       "│ 21/01/2025 ┆ 4103   ┆ 23 34 30 24 ┆ 2123243034 ┆ … ┆ false       ┆ 0      ┆ 02_01_06_0 ┆ -13     │\n",
       "│            ┆        ┆ 21          ┆            ┆   ┆             ┆        ┆ 4          ┆         │\n",
       "│ 15/01/2025 ┆ 4097   ┆ 30 21 25 24 ┆ 2124253032 ┆ … ┆ false       ┆ 0      ┆ 03_01_05_0 ┆ -13     │\n",
       "│            ┆        ┆ 32          ┆            ┆   ┆             ┆        ┆ 2          ┆         │\n",
       "│ 06/01/2025 ┆ 4088   ┆ 01 11 34 05 ┆ 0105113034 ┆ … ┆ true        ┆ 16     ┆ 04_06_19_0 ┆ -39     │\n",
       "│            ┆        ┆ 30          ┆            ┆   ┆             ┆        ┆ 4          ┆         │\n",
       "│ 29/12/2024 ┆ 4080   ┆ 15 30 34 01 ┆ 0107153034 ┆ … ┆ true        ┆ 16     ┆ 06_08_15_0 ┆ -23     │\n",
       "│            ┆        ┆ 07          ┆            ┆   ┆             ┆        ┆ 4          ┆         │\n",
       "│ 26/12/2024 ┆ 4077   ┆ 25 10 30 32 ┆ 1025283032 ┆ … ┆ true        ┆ 8      ┆ 15_03_02_0 ┆ -10     │\n",
       "│            ┆        ┆ 28          ┆            ┆   ┆             ┆        ┆ 2          ┆         │\n",
       "│ 19/12/2024 ┆ 4070   ┆ 34 05 22 18 ┆ 0518223034 ┆ … ┆ false       ┆ 0      ┆ 13_04_08_0 ┆ -21     │\n",
       "│            ┆        ┆ 30          ┆            ┆   ┆             ┆        ┆ 4          ┆         │\n",
       "└────────────┴────────┴─────────────┴────────────┴───┴─────────────┴────────┴────────────┴─────────┘"
      ]
     },
     "metadata": {},
     "output_type": "display_data"
    },
    {
     "name": "stdout",
     "output_type": "stream",
     "text": [
      "df_jumps_map FOR str_b4 = 30\n"
     ]
    },
    {
     "data": {
      "text/html": [
       "<div><style>\n",
       ".dataframe > thead > tr,\n",
       ".dataframe > tbody > tr {\n",
       "  text-align: right;\n",
       "  white-space: pre-wrap;\n",
       "}\n",
       "</style>\n",
       "<small>shape: (402, 2)</small><table border=\"1\" class=\"dataframe\"><thead><tr><th>jumps_map</th><th>count</th></tr><tr><td>str</td><td>u32</td></tr></thead><tbody><tr><td>&quot;10_07_02_05&quot;</td><td>2</td></tr><tr><td>&quot;04_02_04_03&quot;</td><td>2</td></tr><tr><td>&quot;05_05_13_05&quot;</td><td>2</td></tr><tr><td>&quot;22_03_03_02&quot;</td><td>2</td></tr><tr><td>&quot;08_19_01_03&quot;</td><td>2</td></tr><tr><td>&hellip;</td><td>&hellip;</td></tr><tr><td>&quot;07_10_02_01&quot;</td><td>1</td></tr><tr><td>&quot;10_08_02_05&quot;</td><td>1</td></tr><tr><td>&quot;06_08_13_05&quot;</td><td>1</td></tr><tr><td>&quot;01_15_06_05&quot;</td><td>1</td></tr><tr><td>&quot;03_01_15_04&quot;</td><td>1</td></tr></tbody></table></div>"
      ],
      "text/plain": [
       "shape: (402, 2)\n",
       "┌─────────────┬───────┐\n",
       "│ jumps_map   ┆ count │\n",
       "│ ---         ┆ ---   │\n",
       "│ str         ┆ u32   │\n",
       "╞═════════════╪═══════╡\n",
       "│ 10_07_02_05 ┆ 2     │\n",
       "│ 04_02_04_03 ┆ 2     │\n",
       "│ 05_05_13_05 ┆ 2     │\n",
       "│ 22_03_03_02 ┆ 2     │\n",
       "│ 08_19_01_03 ┆ 2     │\n",
       "│ …           ┆ …     │\n",
       "│ 07_10_02_01 ┆ 1     │\n",
       "│ 10_08_02_05 ┆ 1     │\n",
       "│ 06_08_13_05 ┆ 1     │\n",
       "│ 01_15_06_05 ┆ 1     │\n",
       "│ 03_01_15_04 ┆ 1     │\n",
       "└─────────────┴───────┘"
      ]
     },
     "metadata": {},
     "output_type": "display_data"
    },
    {
     "name": "stdout",
     "output_type": "stream",
     "text": [
      "df_unijump FOR str_b4 = 30\n"
     ]
    },
    {
     "data": {
      "text/html": [
       "<div><style>\n",
       ".dataframe > thead > tr,\n",
       ".dataframe > tbody > tr {\n",
       "  text-align: right;\n",
       "  white-space: pre-wrap;\n",
       "}\n",
       "</style>\n",
       "<small>shape: (117, 2)</small><table border=\"1\" class=\"dataframe\"><thead><tr><th>unijump</th><th>count</th></tr><tr><td>i64</td><td>u32</td></tr></thead><tbody><tr><td>-22</td><td>10</td></tr><tr><td>-1</td><td>10</td></tr><tr><td>-9</td><td>10</td></tr><tr><td>-10</td><td>9</td></tr><tr><td>2</td><td>9</td></tr><tr><td>&hellip;</td><td>&hellip;</td></tr><tr><td>-51</td><td>1</td></tr><tr><td>-42</td><td>1</td></tr><tr><td>-57</td><td>1</td></tr><tr><td>-75</td><td>1</td></tr><tr><td>45</td><td>1</td></tr></tbody></table></div>"
      ],
      "text/plain": [
       "shape: (117, 2)\n",
       "┌─────────┬───────┐\n",
       "│ unijump ┆ count │\n",
       "│ ---     ┆ ---   │\n",
       "│ i64     ┆ u32   │\n",
       "╞═════════╪═══════╡\n",
       "│ -22     ┆ 10    │\n",
       "│ -1      ┆ 10    │\n",
       "│ -9      ┆ 10    │\n",
       "│ -10     ┆ 9     │\n",
       "│ 2       ┆ 9     │\n",
       "│ …       ┆ …     │\n",
       "│ -51     ┆ 1     │\n",
       "│ -42     ┆ 1     │\n",
       "│ -57     ┆ 1     │\n",
       "│ -75     ┆ 1     │\n",
       "│ 45      ┆ 1     │\n",
       "└─────────┴───────┘"
      ]
     },
     "metadata": {},
     "output_type": "display_data"
    }
   ],
   "source": [
    "possible_b4, exclude_jump_maps_b4, last_post_b4 = plot_post_col(col='str_b4', post_col='post_str_b4')"
   ]
  },
  {
   "cell_type": "code",
   "execution_count": 59,
   "metadata": {},
   "outputs": [
    {
     "name": "stdout",
     "output_type": "stream",
     "text": [
      "Setting test_value='33'\n",
      "df_viz FOR str_b5 = 33\n"
     ]
    },
    {
     "data": {
      "text/html": [
       "<div><style>\n",
       ".dataframe > thead > tr,\n",
       ".dataframe > tbody > tr {\n",
       "  text-align: right;\n",
       "  white-space: pre-wrap;\n",
       "}\n",
       "</style>\n",
       "<small>shape: (24, 3)</small><table border=\"1\" class=\"dataframe\"><thead><tr><th>post_str_blast</th><th>count</th><th>percent</th></tr><tr><td>str</td><td>u32</td><td>f64</td></tr></thead><tbody><tr><td>&quot;35&quot;</td><td>121</td><td>14.020857</td></tr><tr><td>&quot;33&quot;</td><td>98</td><td>11.355736</td></tr><tr><td>&quot;34&quot;</td><td>97</td><td>11.239861</td></tr><tr><td>&quot;32&quot;</td><td>83</td><td>9.617613</td></tr><tr><td>&quot;31&quot;</td><td>77</td><td>8.922364</td></tr><tr><td>&hellip;</td><td>&hellip;</td><td>&hellip;</td></tr><tr><td>&quot;16&quot;</td><td>6</td><td>0.695249</td></tr><tr><td>&quot;15&quot;</td><td>5</td><td>0.579374</td></tr><tr><td>&quot;14&quot;</td><td>3</td><td>0.347625</td></tr><tr><td>&quot;13&quot;</td><td>3</td><td>0.347625</td></tr><tr><td>&quot;11&quot;</td><td>2</td><td>0.23175</td></tr></tbody></table></div>"
      ],
      "text/plain": [
       "shape: (24, 3)\n",
       "┌────────────────┬───────┬───────────┐\n",
       "│ post_str_blast ┆ count ┆ percent   │\n",
       "│ ---            ┆ ---   ┆ ---       │\n",
       "│ str            ┆ u32   ┆ f64       │\n",
       "╞════════════════╪═══════╪═══════════╡\n",
       "│ 35             ┆ 121   ┆ 14.020857 │\n",
       "│ 33             ┆ 98    ┆ 11.355736 │\n",
       "│ 34             ┆ 97    ┆ 11.239861 │\n",
       "│ 32             ┆ 83    ┆ 9.617613  │\n",
       "│ 31             ┆ 77    ┆ 8.922364  │\n",
       "│ …              ┆ …     ┆ …         │\n",
       "│ 16             ┆ 6     ┆ 0.695249  │\n",
       "│ 15             ┆ 5     ┆ 0.579374  │\n",
       "│ 14             ┆ 3     ┆ 0.347625  │\n",
       "│ 13             ┆ 3     ┆ 0.347625  │\n",
       "│ 11             ┆ 2     ┆ 0.23175   │\n",
       "└────────────────┴───────┴───────────┘"
      ]
     },
     "metadata": {},
     "output_type": "display_data"
    },
    {
     "data": {},
     "metadata": {},
     "output_type": "display_data"
    },
    {
     "data": {
      "application/vnd.holoviews_exec.v0+json": "",
      "text/html": [
       "<div id='4de1c25f-bb6e-47c7-822f-55c3f3c54bf7'>\n",
       "  <div id=\"fdd753b8-9ef0-4de6-88db-91ad6aa00ccd\" data-root-id=\"4de1c25f-bb6e-47c7-822f-55c3f3c54bf7\" style=\"display: contents;\"></div>\n",
       "</div>\n",
       "<script type=\"application/javascript\">(function(root) {\n",
       "  var docs_json = {\"7ee04c37-62b0-4b06-b054-024faf0055c6\":{\"version\":\"3.7.2\",\"title\":\"Bokeh Application\",\"roots\":[{\"type\":\"object\",\"name\":\"Row\",\"id\":\"4de1c25f-bb6e-47c7-822f-55c3f3c54bf7\",\"attributes\":{\"name\":\"Row01709\",\"tags\":[\"embedded\"],\"stylesheets\":[\"\\n:host(.pn-loading):before, .pn-loading:before {\\n  background-color: #c3c3c3;\\n  mask-size: auto calc(min(50%, 400px));\\n  -webkit-mask-size: auto calc(min(50%, 400px));\\n}\",{\"type\":\"object\",\"name\":\"ImportedStyleSheet\",\"id\":\"733d6c2c-5a2f-49a3-a69a-005959ed44d1\",\"attributes\":{\"url\":\"https://cdn.holoviz.org/panel/1.6.2/dist/css/loading.css\"}},{\"type\":\"object\",\"name\":\"ImportedStyleSheet\",\"id\":\"08ad4f64-7cad-44cd-916e-2350479f6806\",\"attributes\":{\"url\":\"https://cdn.holoviz.org/panel/1.6.2/dist/css/listpanel.css\"}},{\"type\":\"object\",\"name\":\"ImportedStyleSheet\",\"id\":\"07df4cbf-0d5a-47b3-85f1-ff1700da15a7\",\"attributes\":{\"url\":\"https://cdn.holoviz.org/panel/1.6.2/dist/bundled/theme/default.css\"}},{\"type\":\"object\",\"name\":\"ImportedStyleSheet\",\"id\":\"7a868f3a-13e8-4995-ac3a-9b13dff3f78e\",\"attributes\":{\"url\":\"https://cdn.holoviz.org/panel/1.6.2/dist/bundled/theme/native.css\"}}],\"min_width\":700,\"margin\":0,\"sizing_mode\":\"stretch_width\",\"align\":\"start\",\"children\":[{\"type\":\"object\",\"name\":\"Spacer\",\"id\":\"f1d92a43-b08f-4fea-8d99-c1a89720fef2\",\"attributes\":{\"name\":\"HSpacer01713\",\"stylesheets\":[\"\\n:host(.pn-loading):before, .pn-loading:before {\\n  background-color: #c3c3c3;\\n  mask-size: auto calc(min(50%, 400px));\\n  -webkit-mask-size: auto calc(min(50%, 400px));\\n}\",{\"id\":\"733d6c2c-5a2f-49a3-a69a-005959ed44d1\"},{\"id\":\"07df4cbf-0d5a-47b3-85f1-ff1700da15a7\"},{\"id\":\"7a868f3a-13e8-4995-ac3a-9b13dff3f78e\"}],\"margin\":0,\"sizing_mode\":\"stretch_width\",\"align\":\"start\"}},{\"type\":\"object\",\"name\":\"Figure\",\"id\":\"36b10bae-e8b6-42a0-9d67-a1b117661a1f\",\"attributes\":{\"width\":700,\"height\":300,\"margin\":[5,10],\"sizing_mode\":\"fixed\",\"align\":\"start\",\"x_range\":{\"type\":\"object\",\"name\":\"FactorRange\",\"id\":\"4c9c9b9e-81a8-41c8-bd03-78dbf32fce03\",\"attributes\":{\"name\":\"post_str_blast\",\"tags\":[[[\"post_str_blast\",null]],[]],\"factors\":[\"35\",\"33\",\"34\",\"32\",\"31\",\"30\",\"29\",\"28\",\"27\",\"26\",\"25\",\"24\",\"23\",\"22\",\"21\",\"18\",\"20\",\"19\",\"17\",\"16\",\"15\",\"14\",\"13\",\"11\"]}},\"y_range\":{\"type\":\"object\",\"name\":\"Range1d\",\"id\":\"a8694bc5-a0ce-4886-ac65-3350f15ea40d\",\"attributes\":{\"name\":\"percent\",\"tags\":[[[\"percent\",null]],{\"type\":\"map\",\"entries\":[[\"invert_yaxis\",false],[\"autorange\",false]]}],\"end\":15.399768250289688,\"reset_start\":0.0,\"reset_end\":15.399768250289688}},\"x_scale\":{\"type\":\"object\",\"name\":\"CategoricalScale\",\"id\":\"12c8036e-16c0-4221-922b-5ecbb8725aeb\"},\"y_scale\":{\"type\":\"object\",\"name\":\"LinearScale\",\"id\":\"447c5156-b7c0-44ab-a70f-7fc6e080e1ed\"},\"title\":{\"type\":\"object\",\"name\":\"Title\",\"id\":\"77c42086-e7c8-4d22-9c42-5d6aefcd4f7b\",\"attributes\":{\"text_color\":\"black\",\"text_font_size\":\"12pt\"}},\"renderers\":[{\"type\":\"object\",\"name\":\"GlyphRenderer\",\"id\":\"07509862-09a0-4909-9992-f2a774c318e4\",\"attributes\":{\"data_source\":{\"type\":\"object\",\"name\":\"ColumnDataSource\",\"id\":\"330399f2-973e-4767-afe3-6a95b7e96c06\",\"attributes\":{\"selected\":{\"type\":\"object\",\"name\":\"Selection\",\"id\":\"1065413f-2184-4ceb-970f-dacf87b5cf88\",\"attributes\":{\"indices\":[],\"line_indices\":[]}},\"selection_policy\":{\"type\":\"object\",\"name\":\"UnionRenderers\",\"id\":\"40f806f1-4d7c-45ae-8edc-6eb26ea1c6dd\"},\"data\":{\"type\":\"map\",\"entries\":[[\"post_str_blast\",[\"35\",\"33\",\"34\",\"32\",\"31\",\"30\",\"29\",\"28\",\"27\",\"26\",\"25\",\"24\",\"23\",\"22\",\"21\",\"18\",\"20\",\"19\",\"17\",\"16\",\"15\",\"14\",\"13\",\"11\"]],[\"percent\",{\"type\":\"ndarray\",\"array\":{\"type\":\"bytes\",\"data\":\"F8yw1K0KLEC50eMAI7YmQAMr8Q3PeiZADQ2sxDc8I0DIJPwSQNghQKYwJDpEJiFA9dfY+7FYG0B16TNPK1IVQOr1HUVJlw5A11RefmoHCUCcTmmD22QEQJxOaYPbZARAEn4JIOycAUBhJb7hWc/7P2ElvuFZz/s/nE5pg9tk9D+cTmmD22T0PxFbU3n5qe0/TYT+Gns/5j9NhP4aez/mP+sY1Os7iuI/TYT+Gns/1j9NhP4aez/WPxFbU3n5qc0/\"},\"shape\":[24],\"dtype\":\"float64\",\"order\":\"little\"}]]}}},\"view\":{\"type\":\"object\",\"name\":\"CDSView\",\"id\":\"2a86b68e-a15f-494d-b64e-d51c7601a4fa\",\"attributes\":{\"filter\":{\"type\":\"object\",\"name\":\"AllIndices\",\"id\":\"7ca15dc9-220f-4add-a1a3-1ade6f236f51\"}}},\"glyph\":{\"type\":\"object\",\"name\":\"VBar\",\"id\":\"d6d9502a-15ae-494b-9e3e-885dc691965e\",\"attributes\":{\"tags\":[\"apply_ranges\"],\"x\":{\"type\":\"field\",\"field\":\"post_str_blast\"},\"width\":{\"type\":\"value\",\"value\":0.8},\"top\":{\"type\":\"field\",\"field\":\"percent\"},\"fill_color\":{\"type\":\"value\",\"value\":\"#30a2da\"},\"hatch_color\":{\"type\":\"value\",\"value\":\"#30a2da\"}}},\"selection_glyph\":{\"type\":\"object\",\"name\":\"VBar\",\"id\":\"1065b298-dbb6-43dd-8b0f-d37421dde159\",\"attributes\":{\"tags\":[\"apply_ranges\"],\"x\":{\"type\":\"field\",\"field\":\"post_str_blast\"},\"width\":{\"type\":\"value\",\"value\":0.8},\"bottom\":{\"type\":\"value\",\"value\":0},\"top\":{\"type\":\"field\",\"field\":\"percent\"},\"line_color\":{\"type\":\"value\",\"value\":\"black\"},\"line_alpha\":{\"type\":\"value\",\"value\":1.0},\"line_width\":{\"type\":\"value\",\"value\":1},\"line_join\":{\"type\":\"value\",\"value\":\"bevel\"},\"line_cap\":{\"type\":\"value\",\"value\":\"butt\"},\"line_dash\":{\"type\":\"value\",\"value\":[]},\"line_dash_offset\":{\"type\":\"value\",\"value\":0},\"fill_color\":{\"type\":\"value\",\"value\":\"#30a2da\"},\"fill_alpha\":{\"type\":\"value\",\"value\":1.0},\"hatch_color\":{\"type\":\"value\",\"value\":\"#30a2da\"},\"hatch_alpha\":{\"type\":\"value\",\"value\":1.0},\"hatch_scale\":{\"type\":\"value\",\"value\":12.0},\"hatch_pattern\":{\"type\":\"value\",\"value\":null},\"hatch_weight\":{\"type\":\"value\",\"value\":1.0}}},\"nonselection_glyph\":{\"type\":\"object\",\"name\":\"VBar\",\"id\":\"2592fb57-e823-4c9f-b384-3e4b0d5f7bf8\",\"attributes\":{\"tags\":[\"apply_ranges\"],\"x\":{\"type\":\"field\",\"field\":\"post_str_blast\"},\"width\":{\"type\":\"value\",\"value\":0.8},\"top\":{\"type\":\"field\",\"field\":\"percent\"},\"line_alpha\":{\"type\":\"value\",\"value\":0.1},\"fill_color\":{\"type\":\"value\",\"value\":\"#30a2da\"},\"fill_alpha\":{\"type\":\"value\",\"value\":0.1},\"hatch_color\":{\"type\":\"value\",\"value\":\"#30a2da\"},\"hatch_alpha\":{\"type\":\"value\",\"value\":0.1}}},\"muted_glyph\":{\"type\":\"object\",\"name\":\"VBar\",\"id\":\"ad02e674-9642-426b-9b96-e147344254dd\",\"attributes\":{\"tags\":[\"apply_ranges\"],\"x\":{\"type\":\"field\",\"field\":\"post_str_blast\"},\"width\":{\"type\":\"value\",\"value\":0.8},\"top\":{\"type\":\"field\",\"field\":\"percent\"},\"line_alpha\":{\"type\":\"value\",\"value\":0.2},\"fill_color\":{\"type\":\"value\",\"value\":\"#30a2da\"},\"fill_alpha\":{\"type\":\"value\",\"value\":0.2},\"hatch_color\":{\"type\":\"value\",\"value\":\"#30a2da\"},\"hatch_alpha\":{\"type\":\"value\",\"value\":0.2}}}}},{\"type\":\"object\",\"name\":\"Span\",\"id\":\"fe69b7ce-4bf0-4350-bdaf-796e46991507\",\"attributes\":{\"level\":\"glyph\",\"location\":4.166666666666667,\"line_color\":\"red\",\"line_width\":3}},{\"type\":\"object\",\"name\":\"Span\",\"id\":\"80630b02-3742-4b4a-8942-9a6f8b334712\",\"attributes\":{\"level\":\"glyph\",\"location\":6.25,\"line_color\":\"blue\",\"line_width\":3}},{\"type\":\"object\",\"name\":\"Span\",\"id\":\"17c56cdb-cdf9-455f-80e9-195d1347b391\",\"attributes\":{\"level\":\"glyph\",\"location\":2.0833333333333335,\"line_color\":\"blue\",\"line_width\":3}}],\"toolbar\":{\"type\":\"object\",\"name\":\"Toolbar\",\"id\":\"d8c3b8ec-f3f0-47e0-ac7e-4b9c2f904f6f\",\"attributes\":{\"tools\":[{\"type\":\"object\",\"name\":\"WheelZoomTool\",\"id\":\"52a6cb2b-d335-487d-8c46-4d1e6cad3dcd\",\"attributes\":{\"tags\":[\"hv_created\"],\"renderers\":\"auto\",\"zoom_together\":\"none\"}},{\"type\":\"object\",\"name\":\"HoverTool\",\"id\":\"9409e9fd-0142-42ca-b832-bf8819a2adc8\",\"attributes\":{\"tags\":[\"hv_created\"],\"renderers\":[{\"id\":\"07509862-09a0-4909-9992-f2a774c318e4\"}],\"tooltips\":[[\"post_str_blast\",\"@{post_str_blast}\"],[\"percent\",\"@{percent}\"]]}},{\"type\":\"object\",\"name\":\"SaveTool\",\"id\":\"6b687d85-6366-4c0e-8d85-780d6ccac2dc\"},{\"type\":\"object\",\"name\":\"PanTool\",\"id\":\"e6927da1-e2a0-4cc2-bf3c-3fd1b4a38315\"},{\"type\":\"object\",\"name\":\"BoxZoomTool\",\"id\":\"717ded64-a534-4d03-a301-93aba897fe8c\",\"attributes\":{\"dimensions\":\"both\",\"overlay\":{\"type\":\"object\",\"name\":\"BoxAnnotation\",\"id\":\"cad21069-25ef-4fe9-9047-b3415cec4a8b\",\"attributes\":{\"syncable\":false,\"line_color\":\"black\",\"line_alpha\":1.0,\"line_width\":2,\"line_dash\":[4,4],\"fill_color\":\"lightgrey\",\"fill_alpha\":0.5,\"level\":\"overlay\",\"visible\":false,\"left\":{\"type\":\"number\",\"value\":\"nan\"},\"right\":{\"type\":\"number\",\"value\":\"nan\"},\"top\":{\"type\":\"number\",\"value\":\"nan\"},\"bottom\":{\"type\":\"number\",\"value\":\"nan\"},\"left_units\":\"canvas\",\"right_units\":\"canvas\",\"top_units\":\"canvas\",\"bottom_units\":\"canvas\",\"handles\":{\"type\":\"object\",\"name\":\"BoxInteractionHandles\",\"id\":\"5e24896d-19d2-44c2-80a4-301419e5ca5a\",\"attributes\":{\"all\":{\"type\":\"object\",\"name\":\"AreaVisuals\",\"id\":\"63642bf1-3638-4f9d-a6e7-e1dec698aa0c\",\"attributes\":{\"fill_color\":\"white\",\"hover_fill_color\":\"lightgray\"}}}}}}}},{\"type\":\"object\",\"name\":\"ResetTool\",\"id\":\"a2847833-1b08-4a9d-9efc-c6e812143d0c\"}],\"active_drag\":{\"id\":\"e6927da1-e2a0-4cc2-bf3c-3fd1b4a38315\"}}},\"left\":[{\"type\":\"object\",\"name\":\"LinearAxis\",\"id\":\"f1ff3158-8263-4298-af0c-e2170003e26a\",\"attributes\":{\"ticker\":{\"type\":\"object\",\"name\":\"BasicTicker\",\"id\":\"686e1ac4-bd86-4d0f-99ae-cf1b4bdb7579\",\"attributes\":{\"mantissas\":[1,2,5]}},\"formatter\":{\"type\":\"object\",\"name\":\"BasicTickFormatter\",\"id\":\"4201f9ad-f7f1-4875-a279-7eca53610432\"},\"axis_label\":\"percent\",\"major_label_policy\":{\"type\":\"object\",\"name\":\"AllLabels\",\"id\":\"7a37cf0b-1da4-40a5-80e9-9b47044bd30e\"}}}],\"below\":[{\"type\":\"object\",\"name\":\"CategoricalAxis\",\"id\":\"aa329ce1-b32e-4d48-a72d-27f7c5fcae16\",\"attributes\":{\"ticker\":{\"type\":\"object\",\"name\":\"CategoricalTicker\",\"id\":\"3e3dad65-f53a-43e9-9cb3-1466d9ba9fff\"},\"formatter\":{\"type\":\"object\",\"name\":\"CategoricalTickFormatter\",\"id\":\"ca1c5fb2-cde7-4588-926f-6a6e87920ace\"},\"axis_label\":\"post_str_blast\",\"major_label_policy\":{\"type\":\"object\",\"name\":\"AllLabels\",\"id\":\"5632a0b8-453d-4ff2-befb-2a9d74cb950e\"}}}],\"center\":[{\"type\":\"object\",\"name\":\"Grid\",\"id\":\"ee931ad5-5ada-4c02-bb50-6a3d3cdfed5c\",\"attributes\":{\"axis\":{\"id\":\"aa329ce1-b32e-4d48-a72d-27f7c5fcae16\"},\"grid_line_color\":null}},{\"type\":\"object\",\"name\":\"Grid\",\"id\":\"2edba665-9ff5-427a-81e0-1cdf82486ec4\",\"attributes\":{\"dimension\":1,\"axis\":{\"id\":\"f1ff3158-8263-4298-af0c-e2170003e26a\"},\"grid_line_color\":null}}],\"min_border_top\":10,\"min_border_bottom\":10,\"min_border_left\":10,\"min_border_right\":10,\"output_backend\":\"webgl\"}},{\"type\":\"object\",\"name\":\"Spacer\",\"id\":\"9b198936-97d3-4dca-92d9-a8b18de81eae\",\"attributes\":{\"name\":\"HSpacer01714\",\"stylesheets\":[\"\\n:host(.pn-loading):before, .pn-loading:before {\\n  background-color: #c3c3c3;\\n  mask-size: auto calc(min(50%, 400px));\\n  -webkit-mask-size: auto calc(min(50%, 400px));\\n}\",{\"id\":\"733d6c2c-5a2f-49a3-a69a-005959ed44d1\"},{\"id\":\"07df4cbf-0d5a-47b3-85f1-ff1700da15a7\"},{\"id\":\"7a868f3a-13e8-4995-ac3a-9b13dff3f78e\"}],\"margin\":0,\"sizing_mode\":\"stretch_width\",\"align\":\"start\"}}]}}],\"defs\":[{\"type\":\"model\",\"name\":\"ReactiveHTML1\"},{\"type\":\"model\",\"name\":\"FlexBox1\",\"properties\":[{\"name\":\"align_content\",\"kind\":\"Any\",\"default\":\"flex-start\"},{\"name\":\"align_items\",\"kind\":\"Any\",\"default\":\"flex-start\"},{\"name\":\"flex_direction\",\"kind\":\"Any\",\"default\":\"row\"},{\"name\":\"flex_wrap\",\"kind\":\"Any\",\"default\":\"wrap\"},{\"name\":\"gap\",\"kind\":\"Any\",\"default\":\"\"},{\"name\":\"justify_content\",\"kind\":\"Any\",\"default\":\"flex-start\"}]},{\"type\":\"model\",\"name\":\"FloatPanel1\",\"properties\":[{\"name\":\"config\",\"kind\":\"Any\",\"default\":{\"type\":\"map\"}},{\"name\":\"contained\",\"kind\":\"Any\",\"default\":true},{\"name\":\"position\",\"kind\":\"Any\",\"default\":\"right-top\"},{\"name\":\"offsetx\",\"kind\":\"Any\",\"default\":null},{\"name\":\"offsety\",\"kind\":\"Any\",\"default\":null},{\"name\":\"theme\",\"kind\":\"Any\",\"default\":\"primary\"},{\"name\":\"status\",\"kind\":\"Any\",\"default\":\"normalized\"}]},{\"type\":\"model\",\"name\":\"GridStack1\",\"properties\":[{\"name\":\"ncols\",\"kind\":\"Any\",\"default\":null},{\"name\":\"nrows\",\"kind\":\"Any\",\"default\":null},{\"name\":\"allow_resize\",\"kind\":\"Any\",\"default\":true},{\"name\":\"allow_drag\",\"kind\":\"Any\",\"default\":true},{\"name\":\"state\",\"kind\":\"Any\",\"default\":[]}]},{\"type\":\"model\",\"name\":\"drag1\",\"properties\":[{\"name\":\"slider_width\",\"kind\":\"Any\",\"default\":5},{\"name\":\"slider_color\",\"kind\":\"Any\",\"default\":\"black\"},{\"name\":\"value\",\"kind\":\"Any\",\"default\":50}]},{\"type\":\"model\",\"name\":\"click1\",\"properties\":[{\"name\":\"terminal_output\",\"kind\":\"Any\",\"default\":\"\"},{\"name\":\"debug_name\",\"kind\":\"Any\",\"default\":\"\"},{\"name\":\"clears\",\"kind\":\"Any\",\"default\":0}]},{\"type\":\"model\",\"name\":\"FastWrapper1\",\"properties\":[{\"name\":\"object\",\"kind\":\"Any\",\"default\":null},{\"name\":\"style\",\"kind\":\"Any\",\"default\":null}]},{\"type\":\"model\",\"name\":\"NotificationArea1\",\"properties\":[{\"name\":\"js_events\",\"kind\":\"Any\",\"default\":{\"type\":\"map\"}},{\"name\":\"max_notifications\",\"kind\":\"Any\",\"default\":5},{\"name\":\"notifications\",\"kind\":\"Any\",\"default\":[]},{\"name\":\"position\",\"kind\":\"Any\",\"default\":\"bottom-right\"},{\"name\":\"_clear\",\"kind\":\"Any\",\"default\":0},{\"name\":\"types\",\"kind\":\"Any\",\"default\":[{\"type\":\"map\",\"entries\":[[\"type\",\"warning\"],[\"background\",\"#ffc107\"],[\"icon\",{\"type\":\"map\",\"entries\":[[\"className\",\"fas fa-exclamation-triangle\"],[\"tagName\",\"i\"],[\"color\",\"white\"]]}]]},{\"type\":\"map\",\"entries\":[[\"type\",\"info\"],[\"background\",\"#007bff\"],[\"icon\",{\"type\":\"map\",\"entries\":[[\"className\",\"fas fa-info-circle\"],[\"tagName\",\"i\"],[\"color\",\"white\"]]}]]}]}]},{\"type\":\"model\",\"name\":\"Notification\",\"properties\":[{\"name\":\"background\",\"kind\":\"Any\",\"default\":null},{\"name\":\"duration\",\"kind\":\"Any\",\"default\":3000},{\"name\":\"icon\",\"kind\":\"Any\",\"default\":null},{\"name\":\"message\",\"kind\":\"Any\",\"default\":\"\"},{\"name\":\"notification_type\",\"kind\":\"Any\",\"default\":null},{\"name\":\"_rendered\",\"kind\":\"Any\",\"default\":false},{\"name\":\"_destroyed\",\"kind\":\"Any\",\"default\":false}]},{\"type\":\"model\",\"name\":\"TemplateActions1\",\"properties\":[{\"name\":\"open_modal\",\"kind\":\"Any\",\"default\":0},{\"name\":\"close_modal\",\"kind\":\"Any\",\"default\":0}]},{\"type\":\"model\",\"name\":\"BootstrapTemplateActions1\",\"properties\":[{\"name\":\"open_modal\",\"kind\":\"Any\",\"default\":0},{\"name\":\"close_modal\",\"kind\":\"Any\",\"default\":0}]},{\"type\":\"model\",\"name\":\"TemplateEditor1\",\"properties\":[{\"name\":\"layout\",\"kind\":\"Any\",\"default\":[]}]},{\"type\":\"model\",\"name\":\"MaterialTemplateActions1\",\"properties\":[{\"name\":\"open_modal\",\"kind\":\"Any\",\"default\":0},{\"name\":\"close_modal\",\"kind\":\"Any\",\"default\":0}]},{\"type\":\"model\",\"name\":\"ReactiveESM1\",\"properties\":[{\"name\":\"esm_constants\",\"kind\":\"Any\",\"default\":{\"type\":\"map\"}}]},{\"type\":\"model\",\"name\":\"JSComponent1\",\"properties\":[{\"name\":\"esm_constants\",\"kind\":\"Any\",\"default\":{\"type\":\"map\"}}]},{\"type\":\"model\",\"name\":\"ReactComponent1\",\"properties\":[{\"name\":\"esm_constants\",\"kind\":\"Any\",\"default\":{\"type\":\"map\"}}]},{\"type\":\"model\",\"name\":\"AnyWidgetComponent1\",\"properties\":[{\"name\":\"esm_constants\",\"kind\":\"Any\",\"default\":{\"type\":\"map\"}}]},{\"type\":\"model\",\"name\":\"request_value1\",\"properties\":[{\"name\":\"fill\",\"kind\":\"Any\",\"default\":\"none\"},{\"name\":\"_synced\",\"kind\":\"Any\",\"default\":null},{\"name\":\"_request_sync\",\"kind\":\"Any\",\"default\":0}]}]}};\n",
       "  var render_items = [{\"docid\":\"7ee04c37-62b0-4b06-b054-024faf0055c6\",\"roots\":{\"4de1c25f-bb6e-47c7-822f-55c3f3c54bf7\":\"fdd753b8-9ef0-4de6-88db-91ad6aa00ccd\"},\"root_ids\":[\"4de1c25f-bb6e-47c7-822f-55c3f3c54bf7\"]}];\n",
       "  var docs = Object.values(docs_json)\n",
       "  if (!docs) {\n",
       "    return\n",
       "  }\n",
       "  const py_version = docs[0].version.replace('rc', '-rc.').replace('.dev', '-dev.')\n",
       "  async function embed_document(root) {\n",
       "    var Bokeh = get_bokeh(root)\n",
       "    await Bokeh.embed.embed_items_notebook(docs_json, render_items);\n",
       "    for (const render_item of render_items) {\n",
       "      for (const root_id of render_item.root_ids) {\n",
       "\tconst id_el = document.getElementById(root_id)\n",
       "\tif (id_el.children.length && id_el.children[0].hasAttribute('data-root-id')) {\n",
       "\t  const root_el = id_el.children[0]\n",
       "\t  root_el.id = root_el.id + '-rendered'\n",
       "\t  for (const child of root_el.children) {\n",
       "            // Ensure JupyterLab does not capture keyboard shortcuts\n",
       "            // see: https://jupyterlab.readthedocs.io/en/4.1.x/extension/notebook.html#keyboard-interaction-model\n",
       "\t    child.setAttribute('data-lm-suppress-shortcuts', 'true')\n",
       "\t  }\n",
       "\t}\n",
       "      }\n",
       "    }\n",
       "  }\n",
       "  function get_bokeh(root) {\n",
       "    if (root.Bokeh === undefined) {\n",
       "      return null\n",
       "    } else if (root.Bokeh.version !== py_version) {\n",
       "      if (root.Bokeh.versions === undefined || !root.Bokeh.versions.has(py_version)) {\n",
       "\treturn null\n",
       "      }\n",
       "      return root.Bokeh.versions.get(py_version);\n",
       "    } else if (root.Bokeh.version === py_version) {\n",
       "      return root.Bokeh\n",
       "    }\n",
       "    return null\n",
       "  }\n",
       "  function is_loaded(root) {\n",
       "    var Bokeh = get_bokeh(root)\n",
       "    return (Bokeh != null && Bokeh.Panel !== undefined)\n",
       "  }\n",
       "  if (is_loaded(root)) {\n",
       "    embed_document(root);\n",
       "  } else {\n",
       "    var attempts = 0;\n",
       "    var timer = setInterval(function(root) {\n",
       "      if (is_loaded(root)) {\n",
       "        clearInterval(timer);\n",
       "        embed_document(root);\n",
       "      } else if (document.readyState == \"complete\") {\n",
       "        attempts++;\n",
       "        if (attempts > 200) {\n",
       "          clearInterval(timer);\n",
       "\t  var Bokeh = get_bokeh(root)\n",
       "\t  if (Bokeh == null || Bokeh.Panel == null) {\n",
       "            console.warn(\"Panel: ERROR: Unable to run Panel code because Bokeh or Panel library is missing\");\n",
       "\t  } else {\n",
       "\t    console.warn(\"Panel: WARNING: Attempting to render but not all required libraries could be resolved.\")\n",
       "\t    embed_document(root)\n",
       "\t  }\n",
       "        }\n",
       "      }\n",
       "    }, 25, root)\n",
       "  }\n",
       "})(window);</script>"
      ],
      "text/plain": [
       ":Overlay\n",
       "   .Bars.I    :Bars   [post_str_blast]   (percent)\n",
       "   .HLine.I   :HLine   [x,y]\n",
       "   .HLine.II  :HLine   [x,y]\n",
       "   .HLine.III :HLine   [x,y]"
      ]
     },
     "metadata": {
      "application/vnd.holoviews_exec.v0+json": {
       "id": "4de1c25f-bb6e-47c7-822f-55c3f3c54bf7"
      }
     },
     "output_type": "display_data"
    },
    {
     "name": "stdout",
     "output_type": "stream",
     "text": [
      "df_10_last FOR str_b5 = 33\n",
      "Last 3 results last_results=['26', '34', '32']\n"
     ]
    },
    {
     "data": {
      "text/html": [
       "<div><style>\n",
       ".dataframe > thead > tr,\n",
       ".dataframe > tbody > tr {\n",
       "  text-align: right;\n",
       "  white-space: pre-wrap;\n",
       "}\n",
       "</style>\n",
       "<small>shape: (10, 24)</small><table border=\"1\" class=\"dataframe\"><thead><tr><th>fecha</th><th>sorteo</th><th>bolillas</th><th>id</th><th>combo</th><th>b1</th><th>b2</th><th>b3</th><th>b4</th><th>b5</th><th>str_b1</th><th>str_b2</th><th>str_b3</th><th>str_b4</th><th>str_b5</th><th>post_str_b1</th><th>post_str_b2</th><th>post_str_b3</th><th>post_str_b4</th><th>post_str_blast</th><th>is_rare_combination</th><th>reason</th><th>jumps_map</th><th>unijump</th></tr><tr><td>str</td><td>str</td><td>str</td><td>str</td><td>array[u8, 5]</td><td>u8</td><td>u8</td><td>u8</td><td>u8</td><td>u8</td><td>str</td><td>str</td><td>str</td><td>str</td><td>str</td><td>str</td><td>str</td><td>str</td><td>str</td><td>str</td><td>bool</td><td>u8</td><td>str</td><td>i64</td></tr></thead><tbody><tr><td>&quot;15/04/2025&quot;</td><td>&quot;4187&quot;</td><td>&quot;29 15 23 33 10&quot;</td><td>&quot;1015232933&quot;</td><td>[10, 15, … 33]</td><td>10</td><td>15</td><td>23</td><td>29</td><td>33</td><td>&quot;10&quot;</td><td>&quot;15&quot;</td><td>&quot;23&quot;</td><td>&quot;29&quot;</td><td>&quot;33&quot;</td><td>&quot;13&quot;</td><td>&quot;21&quot;</td><td>&quot;28&quot;</td><td>&quot;29&quot;</td><td>&quot;34&quot;</td><td>false</td><td>0</td><td>&quot;05_08_06_04&quot;</td><td>5</td></tr><tr><td>&quot;01/04/2025&quot;</td><td>&quot;4173&quot;</td><td>&quot;12 25 33 13 08&quot;</td><td>&quot;0812132533&quot;</td><td>[8, 12, … 33]</td><td>8</td><td>12</td><td>13</td><td>25</td><td>33</td><td>&quot;08&quot;</td><td>&quot;12&quot;</td><td>&quot;13&quot;</td><td>&quot;25&quot;</td><td>&quot;33&quot;</td><td>&quot;11&quot;</td><td>&quot;14&quot;</td><td>&quot;17&quot;</td><td>&quot;24&quot;</td><td>&quot;26&quot;</td><td>false</td><td>0</td><td>&quot;04_01_12_08&quot;</td><td>-29</td></tr><tr><td>&quot;21/03/2025&quot;</td><td>&quot;4162&quot;</td><td>&quot;32 33 01 17 26&quot;</td><td>&quot;0117263233&quot;</td><td>[1, 17, … 33]</td><td>1</td><td>17</td><td>26</td><td>32</td><td>33</td><td>&quot;01&quot;</td><td>&quot;17&quot;</td><td>&quot;26&quot;</td><td>&quot;32&quot;</td><td>&quot;33&quot;</td><td>&quot;10&quot;</td><td>&quot;17&quot;</td><td>&quot;19&quot;</td><td>&quot;22&quot;</td><td>&quot;32&quot;</td><td>false</td><td>0</td><td>&quot;16_09_06_01&quot;</td><td>-6</td></tr><tr><td>&quot;28/02/2025&quot;</td><td>&quot;4141&quot;</td><td>&quot;33 04 28 22 07&quot;</td><td>&quot;0407222833&quot;</td><td>[4, 7, … 33]</td><td>4</td><td>7</td><td>22</td><td>28</td><td>33</td><td>&quot;04&quot;</td><td>&quot;07&quot;</td><td>&quot;22&quot;</td><td>&quot;28&quot;</td><td>&quot;33&quot;</td><td>&quot;02&quot;</td><td>&quot;05&quot;</td><td>&quot;11&quot;</td><td>&quot;25&quot;</td><td>&quot;32&quot;</td><td>true</td><td>16</td><td>&quot;03_15_06_05&quot;</td><td>29</td></tr><tr><td>&quot;17/02/2025&quot;</td><td>&quot;4130&quot;</td><td>&quot;12 33 22 19 20&quot;</td><td>&quot;1219202233&quot;</td><td>[12, 19, … 33]</td><td>12</td><td>19</td><td>20</td><td>22</td><td>33</td><td>&quot;12&quot;</td><td>&quot;19&quot;</td><td>&quot;20&quot;</td><td>&quot;22&quot;</td><td>&quot;33&quot;</td><td>&quot;01&quot;</td><td>&quot;05&quot;</td><td>&quot;13&quot;</td><td>&quot;20&quot;</td><td>&quot;26&quot;</td><td>false</td><td>0</td><td>&quot;07_01_02_11&quot;</td><td>1</td></tr><tr><td>&quot;16/02/2025&quot;</td><td>&quot;4129&quot;</td><td>&quot;33 07 12 04 32&quot;</td><td>&quot;0407123233&quot;</td><td>[4, 7, … 33]</td><td>4</td><td>7</td><td>12</td><td>32</td><td>33</td><td>&quot;04&quot;</td><td>&quot;07&quot;</td><td>&quot;12&quot;</td><td>&quot;32&quot;</td><td>&quot;33&quot;</td><td>&quot;12&quot;</td><td>&quot;19&quot;</td><td>&quot;20&quot;</td><td>&quot;22&quot;</td><td>&quot;33&quot;</td><td>false</td><td>0</td><td>&quot;03_05_20_01&quot;</td><td>-47</td></tr><tr><td>&quot;13/02/2025&quot;</td><td>&quot;4126&quot;</td><td>&quot;17 30 21 33 15&quot;</td><td>&quot;1517213033&quot;</td><td>[15, 17, … 33]</td><td>15</td><td>17</td><td>21</td><td>30</td><td>33</td><td>&quot;15&quot;</td><td>&quot;17&quot;</td><td>&quot;21&quot;</td><td>&quot;30&quot;</td><td>&quot;33&quot;</td><td>&quot;09&quot;</td><td>&quot;14&quot;</td><td>&quot;15&quot;</td><td>&quot;26&quot;</td><td>&quot;28&quot;</td><td>false</td><td>0</td><td>&quot;02_04_09_03&quot;</td><td>-14</td></tr><tr><td>&quot;12/02/2025&quot;</td><td>&quot;4125&quot;</td><td>&quot;31 33 20 12 13&quot;</td><td>&quot;1213203133&quot;</td><td>[12, 13, … 33]</td><td>12</td><td>13</td><td>20</td><td>31</td><td>33</td><td>&quot;12&quot;</td><td>&quot;13&quot;</td><td>&quot;20&quot;</td><td>&quot;31&quot;</td><td>&quot;33&quot;</td><td>&quot;15&quot;</td><td>&quot;17&quot;</td><td>&quot;21&quot;</td><td>&quot;30&quot;</td><td>&quot;33&quot;</td><td>false</td><td>0</td><td>&quot;01_07_11_02&quot;</td><td>-11</td></tr><tr><td>&quot;03/02/2025&quot;</td><td>&quot;4116&quot;</td><td>&quot;17 31 32 33 19&quot;</td><td>&quot;1719313233&quot;</td><td>[17, 19, … 33]</td><td>17</td><td>19</td><td>31</td><td>32</td><td>33</td><td>&quot;17&quot;</td><td>&quot;19&quot;</td><td>&quot;31&quot;</td><td>&quot;32&quot;</td><td>&quot;33&quot;</td><td>&quot;06&quot;</td><td>&quot;13&quot;</td><td>&quot;23&quot;</td><td>&quot;34&quot;</td><td>&quot;35&quot;</td><td>true</td><td>8</td><td>&quot;02_12_01_01&quot;</td><td>32</td></tr><tr><td>&quot;28/12/2024&quot;</td><td>&quot;4079&quot;</td><td>&quot;28 33 03 22 32&quot;</td><td>&quot;0322283233&quot;</td><td>[3, 22, … 33]</td><td>3</td><td>22</td><td>28</td><td>32</td><td>33</td><td>&quot;03&quot;</td><td>&quot;22&quot;</td><td>&quot;28&quot;</td><td>&quot;32&quot;</td><td>&quot;33&quot;</td><td>&quot;01&quot;</td><td>&quot;07&quot;</td><td>&quot;15&quot;</td><td>&quot;30&quot;</td><td>&quot;34&quot;</td><td>true</td><td>16</td><td>&quot;19_06_04_01&quot;</td><td>-12</td></tr></tbody></table></div>"
      ],
      "text/plain": [
       "shape: (10, 24)\n",
       "┌────────────┬────────┬─────────────┬────────────┬───┬─────────────┬────────┬────────────┬─────────┐\n",
       "│ fecha      ┆ sorteo ┆ bolillas    ┆ id         ┆ … ┆ is_rare_com ┆ reason ┆ jumps_map  ┆ unijump │\n",
       "│ ---        ┆ ---    ┆ ---         ┆ ---        ┆   ┆ bination    ┆ ---    ┆ ---        ┆ ---     │\n",
       "│ str        ┆ str    ┆ str         ┆ str        ┆   ┆ ---         ┆ u8     ┆ str        ┆ i64     │\n",
       "│            ┆        ┆             ┆            ┆   ┆ bool        ┆        ┆            ┆         │\n",
       "╞════════════╪════════╪═════════════╪════════════╪═══╪═════════════╪════════╪════════════╪═════════╡\n",
       "│ 15/04/2025 ┆ 4187   ┆ 29 15 23 33 ┆ 1015232933 ┆ … ┆ false       ┆ 0      ┆ 05_08_06_0 ┆ 5       │\n",
       "│            ┆        ┆ 10          ┆            ┆   ┆             ┆        ┆ 4          ┆         │\n",
       "│ 01/04/2025 ┆ 4173   ┆ 12 25 33 13 ┆ 0812132533 ┆ … ┆ false       ┆ 0      ┆ 04_01_12_0 ┆ -29     │\n",
       "│            ┆        ┆ 08          ┆            ┆   ┆             ┆        ┆ 8          ┆         │\n",
       "│ 21/03/2025 ┆ 4162   ┆ 32 33 01 17 ┆ 0117263233 ┆ … ┆ false       ┆ 0      ┆ 16_09_06_0 ┆ -6      │\n",
       "│            ┆        ┆ 26          ┆            ┆   ┆             ┆        ┆ 1          ┆         │\n",
       "│ 28/02/2025 ┆ 4141   ┆ 33 04 28 22 ┆ 0407222833 ┆ … ┆ true        ┆ 16     ┆ 03_15_06_0 ┆ 29      │\n",
       "│            ┆        ┆ 07          ┆            ┆   ┆             ┆        ┆ 5          ┆         │\n",
       "│ 17/02/2025 ┆ 4130   ┆ 12 33 22 19 ┆ 1219202233 ┆ … ┆ false       ┆ 0      ┆ 07_01_02_1 ┆ 1       │\n",
       "│            ┆        ┆ 20          ┆            ┆   ┆             ┆        ┆ 1          ┆         │\n",
       "│ 16/02/2025 ┆ 4129   ┆ 33 07 12 04 ┆ 0407123233 ┆ … ┆ false       ┆ 0      ┆ 03_05_20_0 ┆ -47     │\n",
       "│            ┆        ┆ 32          ┆            ┆   ┆             ┆        ┆ 1          ┆         │\n",
       "│ 13/02/2025 ┆ 4126   ┆ 17 30 21 33 ┆ 1517213033 ┆ … ┆ false       ┆ 0      ┆ 02_04_09_0 ┆ -14     │\n",
       "│            ┆        ┆ 15          ┆            ┆   ┆             ┆        ┆ 3          ┆         │\n",
       "│ 12/02/2025 ┆ 4125   ┆ 31 33 20 12 ┆ 1213203133 ┆ … ┆ false       ┆ 0      ┆ 01_07_11_0 ┆ -11     │\n",
       "│            ┆        ┆ 13          ┆            ┆   ┆             ┆        ┆ 2          ┆         │\n",
       "│ 03/02/2025 ┆ 4116   ┆ 17 31 32 33 ┆ 1719313233 ┆ … ┆ true        ┆ 8      ┆ 02_12_01_0 ┆ 32      │\n",
       "│            ┆        ┆ 19          ┆            ┆   ┆             ┆        ┆ 1          ┆         │\n",
       "│ 28/12/2024 ┆ 4079   ┆ 28 33 03 22 ┆ 0322283233 ┆ … ┆ true        ┆ 16     ┆ 19_06_04_0 ┆ -12     │\n",
       "│            ┆        ┆ 32          ┆            ┆   ┆             ┆        ┆ 1          ┆         │\n",
       "└────────────┴────────┴─────────────┴────────────┴───┴─────────────┴────────┴────────────┴─────────┘"
      ]
     },
     "metadata": {},
     "output_type": "display_data"
    },
    {
     "name": "stdout",
     "output_type": "stream",
     "text": [
      "df_jumps_map FOR str_b5 = 33\n"
     ]
    },
    {
     "data": {
      "text/html": [
       "<div><style>\n",
       ".dataframe > thead > tr,\n",
       ".dataframe > tbody > tr {\n",
       "  text-align: right;\n",
       "  white-space: pre-wrap;\n",
       "}\n",
       "</style>\n",
       "<small>shape: (849, 2)</small><table border=\"1\" class=\"dataframe\"><thead><tr><th>jumps_map</th><th>count</th></tr><tr><td>str</td><td>u32</td></tr></thead><tbody><tr><td>&quot;05_03_09_08&quot;</td><td>2</td></tr><tr><td>&quot;04_02_04_03&quot;</td><td>2</td></tr><tr><td>&quot;12_10_04_01&quot;</td><td>2</td></tr><tr><td>&quot;06_08_14_03&quot;</td><td>2</td></tr><tr><td>&quot;01_05_09_04&quot;</td><td>2</td></tr><tr><td>&hellip;</td><td>&hellip;</td></tr><tr><td>&quot;01_09_12_09&quot;</td><td>1</td></tr><tr><td>&quot;07_02_06_07&quot;</td><td>1</td></tr><tr><td>&quot;06_06_01_06&quot;</td><td>1</td></tr><tr><td>&quot;03_14_05_03&quot;</td><td>1</td></tr><tr><td>&quot;03_02_21_04&quot;</td><td>1</td></tr></tbody></table></div>"
      ],
      "text/plain": [
       "shape: (849, 2)\n",
       "┌─────────────┬───────┐\n",
       "│ jumps_map   ┆ count │\n",
       "│ ---         ┆ ---   │\n",
       "│ str         ┆ u32   │\n",
       "╞═════════════╪═══════╡\n",
       "│ 05_03_09_08 ┆ 2     │\n",
       "│ 04_02_04_03 ┆ 2     │\n",
       "│ 12_10_04_01 ┆ 2     │\n",
       "│ 06_08_14_03 ┆ 2     │\n",
       "│ 01_05_09_04 ┆ 2     │\n",
       "│ …           ┆ …     │\n",
       "│ 01_09_12_09 ┆ 1     │\n",
       "│ 07_02_06_07 ┆ 1     │\n",
       "│ 06_06_01_06 ┆ 1     │\n",
       "│ 03_14_05_03 ┆ 1     │\n",
       "│ 03_02_21_04 ┆ 1     │\n",
       "└─────────────┴───────┘"
      ]
     },
     "metadata": {},
     "output_type": "display_data"
    },
    {
     "name": "stdout",
     "output_type": "stream",
     "text": [
      "df_unijump FOR str_b5 = 33\n"
     ]
    },
    {
     "data": {
      "text/html": [
       "<div><style>\n",
       ".dataframe > thead > tr,\n",
       ".dataframe > tbody > tr {\n",
       "  text-align: right;\n",
       "  white-space: pre-wrap;\n",
       "}\n",
       "</style>\n",
       "<small>shape: (128, 2)</small><table border=\"1\" class=\"dataframe\"><thead><tr><th>unijump</th><th>count</th></tr><tr><td>i64</td><td>u32</td></tr></thead><tbody><tr><td>0</td><td>22</td></tr><tr><td>5</td><td>21</td></tr><tr><td>2</td><td>20</td></tr><tr><td>-1</td><td>20</td></tr><tr><td>10</td><td>20</td></tr><tr><td>&hellip;</td><td>&hellip;</td></tr><tr><td>-58</td><td>1</td></tr><tr><td>60</td><td>1</td></tr><tr><td>59</td><td>1</td></tr><tr><td>71</td><td>1</td></tr><tr><td>-70</td><td>1</td></tr></tbody></table></div>"
      ],
      "text/plain": [
       "shape: (128, 2)\n",
       "┌─────────┬───────┐\n",
       "│ unijump ┆ count │\n",
       "│ ---     ┆ ---   │\n",
       "│ i64     ┆ u32   │\n",
       "╞═════════╪═══════╡\n",
       "│ 0       ┆ 22    │\n",
       "│ 5       ┆ 21    │\n",
       "│ 2       ┆ 20    │\n",
       "│ -1      ┆ 20    │\n",
       "│ 10      ┆ 20    │\n",
       "│ …       ┆ …     │\n",
       "│ -58     ┆ 1     │\n",
       "│ 60      ┆ 1     │\n",
       "│ 59      ┆ 1     │\n",
       "│ 71      ┆ 1     │\n",
       "│ -70     ┆ 1     │\n",
       "└─────────┴───────┘"
      ]
     },
     "metadata": {},
     "output_type": "display_data"
    }
   ],
   "source": [
    "possible_blast, exclude_jump_maps_blast, last_post_blast = plot_post_col(col='str_b5', post_col='post_str_blast')"
   ]
  },
  {
   "cell_type": "code",
   "execution_count": 64,
   "metadata": {},
   "outputs": [],
   "source": [
    "b_count = rr.CHOOSE\n",
    "min_b = rr.MIN_B_VALUES[0]\n",
    "max_b = rr.MAX_B_VALUES[-1]\n",
    "\n",
    "\n",
    "combos = combinations(range(min_b, max_b + 1), b_count)\n",
    "# print(\"generating combos: \", len(list(combos)))"
   ]
  },
  {
   "cell_type": "code",
   "execution_count": 65,
   "metadata": {},
   "outputs": [],
   "source": [
    "parquet_file = './parquet_gn_v3.parquet'\n",
    "\n",
    "# check if parquet_file exists\n",
    "if not os.path.exists(parquet_file):\n",
    "  print(f'{parquet_file=} does not exists. creating')\n",
    "  lst = []\n",
    "  post_str_b1 = None\n",
    "  post_str_blast = None\n",
    "  for row in combos:\n",
    "    cols = []\n",
    "    str_row = \" \".join([str(r).zfill(2) for r in row])\n",
    "    id, bolillas_int, str_combo = formalize_data_with_str(bolillas_str=str_row)\n",
    "    cols.append(id)\n",
    "    cols.append(bolillas_int)\n",
    "    cols.extend([b for b in bolillas_int])\n",
    "    cols.extend(str_combo)\n",
    "    cols.append(post_str_b1)\n",
    "    cols.append(post_str_blast)\n",
    "\n",
    "    is_rare, reason = rr.is_rare_combination(bolillas_int, id)\n",
    "    cols.append(is_rare)\n",
    "    cols.append(reason)\n",
    "\n",
    "    cols.append(rr.jumps_map(bolillas_int))\n",
    "    cols.append(rr.unijump(bolillas_int))\n",
    "    \n",
    "    lst.append(cols)\n",
    "\n",
    "    post_str_b1 = str_combo[0]\n",
    "    post_str_blast = str_combo[-1]\n",
    "\n",
    "  with open('./gn_cahe_v3.json', 'w') as file: \n",
    "    json.dump(lst, file)\n",
    "\n",
    "  df_Orows = pl.DataFrame(\n",
    "    lst,\n",
    "    schema=[\n",
    "      # 'fecha', 'sorteo', 'bolillas',\n",
    "      'id', 'combo', 'b1', 'b2', 'b3', 'b4', 'b5',\n",
    "      'str_b1', 'str_b2', 'str_b3', 'str_b4', 'str_b5',\n",
    "      'post_str_b1', 'post_str_blast',\n",
    "      'is_rare_combination', 'reason',\n",
    "      \"jumps_map\", \"unijump\"\n",
    "    ],\n",
    "    schema_overrides={\n",
    "      'combo': pl.Array(pl.UInt8, 5),\n",
    "      'b1': pl.UInt8,\n",
    "      'b2': pl.UInt8,\n",
    "      'b3': pl.UInt8,\n",
    "      'b4': pl.UInt8,\n",
    "      'b5': pl.UInt8,\n",
    "      'b6': pl.UInt8,\n",
    "      'reason': pl.UInt8\n",
    "    },\n",
    "    orient='row'\n",
    "  )\n",
    "\n",
    "  df_Orows.write_parquet(parquet_file)\n",
    "  TOTAL_LINES = len(df_Orows)\n",
    "  print(f'{TOTAL_LINES=} loaded to {parquet_file=}')\n",
    "\n",
    "  display(df_Orows.head(10))\n",
    "else:\n",
    "  df_Orows = pl.read_parquet(parquet_file)"
   ]
  },
  {
   "cell_type": "code",
   "execution_count": null,
   "metadata": {},
   "outputs": [
    {
     "data": {
      "text/html": [
       "<div><style>\n",
       ".dataframe > thead > tr,\n",
       ".dataframe > tbody > tr {\n",
       "  text-align: right;\n",
       "  white-space: pre-wrap;\n",
       "}\n",
       "</style>\n",
       "<small>shape: (11_519, 18)</small><table border=\"1\" class=\"dataframe\"><thead><tr><th>id</th><th>combo</th><th>b1</th><th>b2</th><th>b3</th><th>b4</th><th>b5</th><th>str_b1</th><th>str_b2</th><th>str_b3</th><th>str_b4</th><th>str_b5</th><th>post_str_b1</th><th>post_str_blast</th><th>is_rare_combination</th><th>reason</th><th>jumps_map</th><th>unijump</th></tr><tr><td>str</td><td>array[u8, 5]</td><td>u8</td><td>u8</td><td>u8</td><td>u8</td><td>u8</td><td>str</td><td>str</td><td>str</td><td>str</td><td>str</td><td>str</td><td>str</td><td>bool</td><td>u8</td><td>str</td><td>i64</td></tr></thead><tbody><tr><td>&quot;0105112030&quot;</td><td>[1, 5, … 30]</td><td>1</td><td>5</td><td>11</td><td>20</td><td>30</td><td>&quot;01&quot;</td><td>&quot;05&quot;</td><td>&quot;11&quot;</td><td>&quot;20&quot;</td><td>&quot;30&quot;</td><td>&quot;01&quot;</td><td>&quot;29&quot;</td><td>false</td><td>0</td><td>&quot;04_06_09_10&quot;</td><td>-3</td></tr><tr><td>&quot;0105112031&quot;</td><td>[1, 5, … 31]</td><td>1</td><td>5</td><td>11</td><td>20</td><td>31</td><td>&quot;01&quot;</td><td>&quot;05&quot;</td><td>&quot;11&quot;</td><td>&quot;20&quot;</td><td>&quot;31&quot;</td><td>&quot;01&quot;</td><td>&quot;30&quot;</td><td>false</td><td>0</td><td>&quot;04_06_09_11&quot;</td><td>-2</td></tr><tr><td>&quot;0105112033&quot;</td><td>[1, 5, … 33]</td><td>1</td><td>5</td><td>11</td><td>20</td><td>33</td><td>&quot;01&quot;</td><td>&quot;05&quot;</td><td>&quot;11&quot;</td><td>&quot;20&quot;</td><td>&quot;33&quot;</td><td>&quot;01&quot;</td><td>&quot;32&quot;</td><td>false</td><td>0</td><td>&quot;04_06_09_13&quot;</td><td>0</td></tr><tr><td>&quot;0105112035&quot;</td><td>[1, 5, … 35]</td><td>1</td><td>5</td><td>11</td><td>20</td><td>35</td><td>&quot;01&quot;</td><td>&quot;05&quot;</td><td>&quot;11&quot;</td><td>&quot;20&quot;</td><td>&quot;35&quot;</td><td>&quot;01&quot;</td><td>&quot;34&quot;</td><td>false</td><td>0</td><td>&quot;04_06_09_15&quot;</td><td>2</td></tr><tr><td>&quot;0105112130&quot;</td><td>[1, 5, … 30]</td><td>1</td><td>5</td><td>11</td><td>21</td><td>30</td><td>&quot;01&quot;</td><td>&quot;05&quot;</td><td>&quot;11&quot;</td><td>&quot;21&quot;</td><td>&quot;30&quot;</td><td>&quot;01&quot;</td><td>&quot;29&quot;</td><td>false</td><td>0</td><td>&quot;04_06_10_09&quot;</td><td>-7</td></tr><tr><td>&hellip;</td><td>&hellip;</td><td>&hellip;</td><td>&hellip;</td><td>&hellip;</td><td>&hellip;</td><td>&hellip;</td><td>&hellip;</td><td>&hellip;</td><td>&hellip;</td><td>&hellip;</td><td>&hellip;</td><td>&hellip;</td><td>&hellip;</td><td>&hellip;</td><td>&hellip;</td><td>&hellip;</td><td>&hellip;</td></tr><tr><td>&quot;1120272933&quot;</td><td>[11, 20, … 33]</td><td>11</td><td>20</td><td>27</td><td>29</td><td>33</td><td>&quot;11&quot;</td><td>&quot;20&quot;</td><td>&quot;27&quot;</td><td>&quot;29&quot;</td><td>&quot;33&quot;</td><td>&quot;11&quot;</td><td>&quot;32&quot;</td><td>false</td><td>0</td><td>&quot;09_07_02_04&quot;</td><td>10</td></tr><tr><td>&quot;1120272935&quot;</td><td>[11, 20, … 35]</td><td>11</td><td>20</td><td>27</td><td>29</td><td>35</td><td>&quot;11&quot;</td><td>&quot;20&quot;</td><td>&quot;27&quot;</td><td>&quot;29&quot;</td><td>&quot;35&quot;</td><td>&quot;11&quot;</td><td>&quot;34&quot;</td><td>false</td><td>0</td><td>&quot;09_07_02_06&quot;</td><td>12</td></tr><tr><td>&quot;1120273133&quot;</td><td>[11, 20, … 33]</td><td>11</td><td>20</td><td>27</td><td>31</td><td>33</td><td>&quot;11&quot;</td><td>&quot;20&quot;</td><td>&quot;27&quot;</td><td>&quot;31&quot;</td><td>&quot;33&quot;</td><td>&quot;11&quot;</td><td>&quot;32&quot;</td><td>false</td><td>0</td><td>&quot;09_07_04_02&quot;</td><td>2</td></tr><tr><td>&quot;1120273233&quot;</td><td>[11, 20, … 33]</td><td>11</td><td>20</td><td>27</td><td>32</td><td>33</td><td>&quot;11&quot;</td><td>&quot;20&quot;</td><td>&quot;27&quot;</td><td>&quot;32&quot;</td><td>&quot;33&quot;</td><td>&quot;11&quot;</td><td>&quot;35&quot;</td><td>false</td><td>0</td><td>&quot;09_07_05_01&quot;</td><td>-2</td></tr><tr><td>&quot;1120273235&quot;</td><td>[11, 20, … 35]</td><td>11</td><td>20</td><td>27</td><td>32</td><td>35</td><td>&quot;11&quot;</td><td>&quot;20&quot;</td><td>&quot;27&quot;</td><td>&quot;32&quot;</td><td>&quot;35&quot;</td><td>&quot;11&quot;</td><td>&quot;34&quot;</td><td>false</td><td>0</td><td>&quot;09_07_05_03&quot;</td><td>0</td></tr></tbody></table></div>"
      ],
      "text/plain": [
       "shape: (11_519, 18)\n",
       "┌────────────┬────────────────┬─────┬─────┬───┬───────────────────┬────────┬─────────────┬─────────┐\n",
       "│ id         ┆ combo          ┆ b1  ┆ b2  ┆ … ┆ is_rare_combinati ┆ reason ┆ jumps_map   ┆ unijump │\n",
       "│ ---        ┆ ---            ┆ --- ┆ --- ┆   ┆ on                ┆ ---    ┆ ---         ┆ ---     │\n",
       "│ str        ┆ array[u8, 5]   ┆ u8  ┆ u8  ┆   ┆ ---               ┆ u8     ┆ str         ┆ i64     │\n",
       "│            ┆                ┆     ┆     ┆   ┆ bool              ┆        ┆             ┆         │\n",
       "╞════════════╪════════════════╪═════╪═════╪═══╪═══════════════════╪════════╪═════════════╪═════════╡\n",
       "│ 0105112030 ┆ [1, 5, … 30]   ┆ 1   ┆ 5   ┆ … ┆ false             ┆ 0      ┆ 04_06_09_10 ┆ -3      │\n",
       "│ 0105112031 ┆ [1, 5, … 31]   ┆ 1   ┆ 5   ┆ … ┆ false             ┆ 0      ┆ 04_06_09_11 ┆ -2      │\n",
       "│ 0105112033 ┆ [1, 5, … 33]   ┆ 1   ┆ 5   ┆ … ┆ false             ┆ 0      ┆ 04_06_09_13 ┆ 0       │\n",
       "│ 0105112035 ┆ [1, 5, … 35]   ┆ 1   ┆ 5   ┆ … ┆ false             ┆ 0      ┆ 04_06_09_15 ┆ 2       │\n",
       "│ 0105112130 ┆ [1, 5, … 30]   ┆ 1   ┆ 5   ┆ … ┆ false             ┆ 0      ┆ 04_06_10_09 ┆ -7      │\n",
       "│ …          ┆ …              ┆ …   ┆ …   ┆ … ┆ …                 ┆ …      ┆ …           ┆ …       │\n",
       "│ 1120272933 ┆ [11, 20, … 33] ┆ 11  ┆ 20  ┆ … ┆ false             ┆ 0      ┆ 09_07_02_04 ┆ 10      │\n",
       "│ 1120272935 ┆ [11, 20, … 35] ┆ 11  ┆ 20  ┆ … ┆ false             ┆ 0      ┆ 09_07_02_06 ┆ 12      │\n",
       "│ 1120273133 ┆ [11, 20, … 33] ┆ 11  ┆ 20  ┆ … ┆ false             ┆ 0      ┆ 09_07_04_02 ┆ 2       │\n",
       "│ 1120273233 ┆ [11, 20, … 33] ┆ 11  ┆ 20  ┆ … ┆ false             ┆ 0      ┆ 09_07_05_01 ┆ -2      │\n",
       "│ 1120273235 ┆ [11, 20, … 35] ┆ 11  ┆ 20  ┆ … ┆ false             ┆ 0      ┆ 09_07_05_03 ┆ 0       │\n",
       "└────────────┴────────────────┴─────┴─────┴───┴───────────────────┴────────┴─────────────┴─────────┘"
      ]
     },
     "metadata": {},
     "output_type": "display_data"
    }
   ],
   "source": [
    "# possible_b1, exclude_jump_maps_b1\n",
    "df_possible = df_Orows.filter(\n",
    "  pl.col(\"str_b1\").is_in(possible_b1),\n",
    "  pl.col(\"str_b2\").is_in(possible_b2),\n",
    "  pl.col(\"str_b3\").is_in(possible_b3),\n",
    "  pl.col(\"str_b4\").is_in(possible_b4),\n",
    "  pl.col(\"str_b5\").is_in(possible_blast),\n",
    "  \n",
    "  ~pl.col(\"str_b1\").is_in(last_post_b1),\n",
    "  ~pl.col(\"str_b2\").is_in(last_post_b2),\n",
    "  ~pl.col(\"str_b3\").is_in(last_post_b3),\n",
    "  ~pl.col(\"str_b4\").is_in(last_post_b4),\n",
    "  ~pl.col(\"str_b5\").is_in(last_post_blast),\n",
    "\n",
    "  ~pl.col(\"jumps_map\").is_in(exclude_jump_maps_b1 + exclude_jump_maps_b2 + exclude_jump_maps_b3 + exclude_jump_maps_b4 + exclude_jump_maps_blast),\n",
    "  pl.col(\"is_rare_combination\") == False\n",
    ")\n",
    "\n",
    "\n",
    "display(df_possible)"
   ]
  },
  {
   "cell_type": "code",
   "execution_count": 63,
   "metadata": {},
   "outputs": [
    {
     "data": {
      "text/html": [
       "<div><style>\n",
       ".dataframe > thead > tr,\n",
       ".dataframe > tbody > tr {\n",
       "  text-align: right;\n",
       "  white-space: pre-wrap;\n",
       "}\n",
       "</style>\n",
       "<small>shape: (1, 18)</small><table border=\"1\" class=\"dataframe\"><thead><tr><th>id</th><th>combo</th><th>b1</th><th>b2</th><th>b3</th><th>b4</th><th>b5</th><th>str_b1</th><th>str_b2</th><th>str_b3</th><th>str_b4</th><th>str_b5</th><th>post_str_b1</th><th>post_str_blast</th><th>is_rare_combination</th><th>reason</th><th>jumps_map</th><th>unijump</th></tr><tr><td>str</td><td>array[u8, 5]</td><td>u8</td><td>u8</td><td>u8</td><td>u8</td><td>u8</td><td>str</td><td>str</td><td>str</td><td>str</td><td>str</td><td>str</td><td>str</td><td>bool</td><td>u8</td><td>str</td><td>i64</td></tr></thead><tbody><tr><td>&quot;0305172528&quot;</td><td>[3, 5, … 28]</td><td>3</td><td>5</td><td>17</td><td>25</td><td>28</td><td>&quot;03&quot;</td><td>&quot;05&quot;</td><td>&quot;17&quot;</td><td>&quot;25&quot;</td><td>&quot;28&quot;</td><td>&quot;03&quot;</td><td>&quot;27&quot;</td><td>false</td><td>0</td><td>&quot;02_12_08_03&quot;</td><td>13</td></tr></tbody></table></div>"
      ],
      "text/plain": [
       "shape: (1, 18)\n",
       "┌────────────┬──────────────┬─────┬─────┬───┬─────────────────────┬────────┬─────────────┬─────────┐\n",
       "│ id         ┆ combo        ┆ b1  ┆ b2  ┆ … ┆ is_rare_combination ┆ reason ┆ jumps_map   ┆ unijump │\n",
       "│ ---        ┆ ---          ┆ --- ┆ --- ┆   ┆ ---                 ┆ ---    ┆ ---         ┆ ---     │\n",
       "│ str        ┆ array[u8, 5] ┆ u8  ┆ u8  ┆   ┆ bool                ┆ u8     ┆ str         ┆ i64     │\n",
       "╞════════════╪══════════════╪═════╪═════╪═══╪═════════════════════╪════════╪═════════════╪═════════╡\n",
       "│ 0305172528 ┆ [3, 5, … 28] ┆ 3   ┆ 5   ┆ … ┆ false               ┆ 0      ┆ 02_12_08_03 ┆ 13      │\n",
       "└────────────┴──────────────┴─────┴─────┴───┴─────────────────────┴────────┴─────────────┴─────────┘"
      ]
     },
     "execution_count": 63,
     "metadata": {},
     "output_type": "execute_result"
    }
   ],
   "source": [
    "df_possible.sample(n=1)"
   ]
  }
 ],
 "metadata": {
  "kernelspec": {
   "display_name": ".venv",
   "language": "python",
   "name": "python3"
  },
  "language_info": {
   "codemirror_mode": {
    "name": "ipython",
    "version": 3
   },
   "file_extension": ".py",
   "mimetype": "text/x-python",
   "name": "python",
   "nbconvert_exporter": "python",
   "pygments_lexer": "ipython3",
   "version": "3.12.9"
  }
 },
 "nbformat": 4,
 "nbformat_minor": 2
}

{
 "cells": [
  {
   "cell_type": "code",
   "execution_count": 1,
   "metadata": {},
   "outputs": [
    {
     "data": {
      "text/html": [
       "<script type=\"esms-options\">{\"shimMode\": true}</script><style>*[data-root-id],\n",
       "*[data-root-id] > * {\n",
       "  box-sizing: border-box;\n",
       "  font-family: var(--jp-ui-font-family);\n",
       "  font-size: var(--jp-ui-font-size1);\n",
       "  color: var(--vscode-editor-foreground, var(--jp-ui-font-color1));\n",
       "}\n",
       "\n",
       "/* Override VSCode background color */\n",
       ".cell-output-ipywidget-background:has(\n",
       "    > .cell-output-ipywidget-background > .lm-Widget > *[data-root-id]\n",
       "  ),\n",
       ".cell-output-ipywidget-background:has(> .lm-Widget > *[data-root-id]) {\n",
       "  background-color: transparent !important;\n",
       "}\n",
       "</style>"
      ]
     },
     "metadata": {},
     "output_type": "display_data"
    },
    {
     "data": {
      "application/javascript": "(function(root) {\n  function now() {\n    return new Date();\n  }\n\n  const force = true;\n  const py_version = '3.7.2'.replace('rc', '-rc.').replace('.dev', '-dev.');\n  const reloading = false;\n  const Bokeh = root.Bokeh;\n\n  // Set a timeout for this load but only if we are not already initializing\n  if (typeof (root._bokeh_timeout) === \"undefined\" || (force || !root._bokeh_is_initializing)) {\n    root._bokeh_timeout = Date.now() + 5000;\n    root._bokeh_failed_load = false;\n  }\n\n  function run_callbacks() {\n    try {\n      root._bokeh_onload_callbacks.forEach(function(callback) {\n        if (callback != null)\n          callback();\n      });\n    } finally {\n      delete root._bokeh_onload_callbacks;\n    }\n    console.debug(\"Bokeh: all callbacks have finished\");\n  }\n\n  function load_libs(css_urls, js_urls, js_modules, js_exports, callback) {\n    if (css_urls == null) css_urls = [];\n    if (js_urls == null) js_urls = [];\n    if (js_modules == null) js_modules = [];\n    if (js_exports == null) js_exports = {};\n\n    root._bokeh_onload_callbacks.push(callback);\n\n    if (root._bokeh_is_loading > 0) {\n      // Don't load bokeh if it is still initializing\n      console.debug(\"Bokeh: BokehJS is being loaded, scheduling callback at\", now());\n      return null;\n    } else if (js_urls.length === 0 && js_modules.length === 0 && Object.keys(js_exports).length === 0) {\n      // There is nothing to load\n      run_callbacks();\n      return null;\n    }\n\n    function on_load() {\n      root._bokeh_is_loading--;\n      if (root._bokeh_is_loading === 0) {\n        console.debug(\"Bokeh: all BokehJS libraries/stylesheets loaded\");\n        run_callbacks()\n      }\n    }\n    window._bokeh_on_load = on_load\n\n    function on_error(e) {\n      const src_el = e.srcElement\n      console.error(\"failed to load \" + (src_el.href || src_el.src));\n    }\n\n    const skip = [];\n    if (window.requirejs) {\n      window.requirejs.config({'packages': {}, 'paths': {}, 'shim': {}});\n      root._bokeh_is_loading = css_urls.length + 0;\n    } else {\n      root._bokeh_is_loading = css_urls.length + js_urls.length + js_modules.length + Object.keys(js_exports).length;\n    }\n\n    const existing_stylesheets = []\n    const links = document.getElementsByTagName('link')\n    for (let i = 0; i < links.length; i++) {\n      const link = links[i]\n      if (link.href != null) {\n        existing_stylesheets.push(link.href)\n      }\n    }\n    for (let i = 0; i < css_urls.length; i++) {\n      const url = css_urls[i];\n      const escaped = encodeURI(url)\n      if (existing_stylesheets.indexOf(escaped) !== -1) {\n        on_load()\n        continue;\n      }\n      const element = document.createElement(\"link\");\n      element.onload = on_load;\n      element.onerror = on_error;\n      element.rel = \"stylesheet\";\n      element.type = \"text/css\";\n      element.href = url;\n      console.debug(\"Bokeh: injecting link tag for BokehJS stylesheet: \", url);\n      document.body.appendChild(element);\n    }    var existing_scripts = []\n    const scripts = document.getElementsByTagName('script')\n    for (let i = 0; i < scripts.length; i++) {\n      var script = scripts[i]\n      if (script.src != null) {\n        existing_scripts.push(script.src)\n      }\n    }\n    for (let i = 0; i < js_urls.length; i++) {\n      const url = js_urls[i];\n      const escaped = encodeURI(url)\n      if (skip.indexOf(escaped) !== -1 || existing_scripts.indexOf(escaped) !== -1) {\n        if (!window.requirejs) {\n          on_load();\n        }\n        continue;\n      }\n      const element = document.createElement('script');\n      element.onload = on_load;\n      element.onerror = on_error;\n      element.async = false;\n      element.src = url;\n      console.debug(\"Bokeh: injecting script tag for BokehJS library: \", url);\n      document.head.appendChild(element);\n    }\n    for (let i = 0; i < js_modules.length; i++) {\n      const url = js_modules[i];\n      const escaped = encodeURI(url)\n      if (skip.indexOf(escaped) !== -1 || existing_scripts.indexOf(escaped) !== -1) {\n        if (!window.requirejs) {\n          on_load();\n        }\n        continue;\n      }\n      var element = document.createElement('script');\n      element.onload = on_load;\n      element.onerror = on_error;\n      element.async = false;\n      element.src = url;\n      element.type = \"module\";\n      console.debug(\"Bokeh: injecting script tag for BokehJS library: \", url);\n      document.head.appendChild(element);\n    }\n    for (const name in js_exports) {\n      const url = js_exports[name];\n      const escaped = encodeURI(url)\n      if (skip.indexOf(escaped) >= 0 || root[name] != null) {\n        if (!window.requirejs) {\n          on_load();\n        }\n        continue;\n      }\n      var element = document.createElement('script');\n      element.onerror = on_error;\n      element.async = false;\n      element.type = \"module\";\n      console.debug(\"Bokeh: injecting script tag for BokehJS library: \", url);\n      element.textContent = `\n      import ${name} from \"${url}\"\n      window.${name} = ${name}\n      window._bokeh_on_load()\n      `\n      document.head.appendChild(element);\n    }\n    if (!js_urls.length && !js_modules.length) {\n      on_load()\n    }\n  };\n\n  function inject_raw_css(css) {\n    const element = document.createElement(\"style\");\n    element.appendChild(document.createTextNode(css));\n    document.body.appendChild(element);\n  }\n\n  const js_urls = [\"https://cdn.holoviz.org/panel/1.6.2/dist/bundled/reactiveesm/es-module-shims@^1.10.0/dist/es-module-shims.min.js\", \"https://cdn.bokeh.org/bokeh/release/bokeh-3.7.2.min.js\", \"https://cdn.bokeh.org/bokeh/release/bokeh-gl-3.7.2.min.js\", \"https://cdn.bokeh.org/bokeh/release/bokeh-widgets-3.7.2.min.js\", \"https://cdn.bokeh.org/bokeh/release/bokeh-tables-3.7.2.min.js\", \"https://cdn.holoviz.org/panel/1.6.2/dist/panel.min.js\"];\n  const js_modules = [];\n  const js_exports = {};\n  const css_urls = [];\n  const inline_js = [    function(Bokeh) {\n      Bokeh.set_log_level(\"info\");\n    },\nfunction(Bokeh) {} // ensure no trailing comma for IE\n  ];\n\n  function run_inline_js() {\n    if ((root.Bokeh !== undefined) || (force === true)) {\n      for (let i = 0; i < inline_js.length; i++) {\n        try {\n          inline_js[i].call(root, root.Bokeh);\n        } catch(e) {\n          if (!reloading) {\n            throw e;\n          }\n        }\n      }\n      // Cache old bokeh versions\n      if (Bokeh != undefined && !reloading) {\n        var NewBokeh = root.Bokeh;\n        if (Bokeh.versions === undefined) {\n          Bokeh.versions = new Map();\n        }\n        if (NewBokeh.version !== Bokeh.version) {\n          Bokeh.versions.set(NewBokeh.version, NewBokeh)\n        }\n        root.Bokeh = Bokeh;\n      }\n    } else if (Date.now() < root._bokeh_timeout) {\n      setTimeout(run_inline_js, 100);\n    } else if (!root._bokeh_failed_load) {\n      console.log(\"Bokeh: BokehJS failed to load within specified timeout.\");\n      root._bokeh_failed_load = true;\n    }\n    root._bokeh_is_initializing = false\n  }\n\n  function load_or_wait() {\n    // Implement a backoff loop that tries to ensure we do not load multiple\n    // versions of Bokeh and its dependencies at the same time.\n    // In recent versions we use the root._bokeh_is_initializing flag\n    // to determine whether there is an ongoing attempt to initialize\n    // bokeh, however for backward compatibility we also try to ensure\n    // that we do not start loading a newer (Panel>=1.0 and Bokeh>3) version\n    // before older versions are fully initialized.\n    if (root._bokeh_is_initializing && Date.now() > root._bokeh_timeout) {\n      // If the timeout and bokeh was not successfully loaded we reset\n      // everything and try loading again\n      root._bokeh_timeout = Date.now() + 5000;\n      root._bokeh_is_initializing = false;\n      root._bokeh_onload_callbacks = undefined;\n      root._bokeh_is_loading = 0\n      console.log(\"Bokeh: BokehJS was loaded multiple times but one version failed to initialize.\");\n      load_or_wait();\n    } else if (root._bokeh_is_initializing || (typeof root._bokeh_is_initializing === \"undefined\" && root._bokeh_onload_callbacks !== undefined)) {\n      setTimeout(load_or_wait, 100);\n    } else {\n      root._bokeh_is_initializing = true\n      root._bokeh_onload_callbacks = []\n      const bokeh_loaded = root.Bokeh != null && (root.Bokeh.version === py_version || (root.Bokeh.versions !== undefined && root.Bokeh.versions.has(py_version)));\n      if (!reloading && !bokeh_loaded) {\n        if (root.Bokeh) {\n          root.Bokeh = undefined;\n        }\n        console.debug(\"Bokeh: BokehJS not loaded, scheduling load and callback at\", now());\n      }\n      load_libs(css_urls, js_urls, js_modules, js_exports, function() {\n        console.debug(\"Bokeh: BokehJS plotting callback run at\", now());\n        run_inline_js();\n      });\n    }\n  }\n  // Give older versions of the autoload script a head-start to ensure\n  // they initialize before we start loading newer version.\n  setTimeout(load_or_wait, 100)\n}(window));",
      "application/vnd.holoviews_load.v0+json": ""
     },
     "metadata": {},
     "output_type": "display_data"
    },
    {
     "data": {
      "application/javascript": "\nif ((window.PyViz === undefined) || (window.PyViz instanceof HTMLElement)) {\n  window.PyViz = {comms: {}, comm_status:{}, kernels:{}, receivers: {}, plot_index: []}\n}\n\n\n    function JupyterCommManager() {\n    }\n\n    JupyterCommManager.prototype.register_target = function(plot_id, comm_id, msg_handler) {\n      if (window.comm_manager || ((window.Jupyter !== undefined) && (Jupyter.notebook.kernel != null))) {\n        var comm_manager = window.comm_manager || Jupyter.notebook.kernel.comm_manager;\n        comm_manager.register_target(comm_id, function(comm) {\n          comm.on_msg(msg_handler);\n        });\n      } else if ((plot_id in window.PyViz.kernels) && (window.PyViz.kernels[plot_id])) {\n        window.PyViz.kernels[plot_id].registerCommTarget(comm_id, function(comm) {\n          comm.onMsg = msg_handler;\n        });\n      } else if (typeof google != 'undefined' && google.colab.kernel != null) {\n        google.colab.kernel.comms.registerTarget(comm_id, (comm) => {\n          var messages = comm.messages[Symbol.asyncIterator]();\n          function processIteratorResult(result) {\n            var message = result.value;\n            console.log(message)\n            var content = {data: message.data, comm_id};\n            var buffers = []\n            for (var buffer of message.buffers || []) {\n              buffers.push(new DataView(buffer))\n            }\n            var metadata = message.metadata || {};\n            var msg = {content, buffers, metadata}\n            msg_handler(msg);\n            return messages.next().then(processIteratorResult);\n          }\n          return messages.next().then(processIteratorResult);\n        })\n      }\n    }\n\n    JupyterCommManager.prototype.get_client_comm = function(plot_id, comm_id, msg_handler) {\n      if (comm_id in window.PyViz.comms) {\n        return window.PyViz.comms[comm_id];\n      } else if (window.comm_manager || ((window.Jupyter !== undefined) && (Jupyter.notebook.kernel != null))) {\n        var comm_manager = window.comm_manager || Jupyter.notebook.kernel.comm_manager;\n        var comm = comm_manager.new_comm(comm_id, {}, {}, {}, comm_id);\n        if (msg_handler) {\n          comm.on_msg(msg_handler);\n        }\n      } else if ((plot_id in window.PyViz.kernels) && (window.PyViz.kernels[plot_id])) {\n        var comm = window.PyViz.kernels[plot_id].connectToComm(comm_id);\n        comm.open();\n        if (msg_handler) {\n          comm.onMsg = msg_handler;\n        }\n      } else if (typeof google != 'undefined' && google.colab.kernel != null) {\n        var comm_promise = google.colab.kernel.comms.open(comm_id)\n        comm_promise.then((comm) => {\n          window.PyViz.comms[comm_id] = comm;\n          if (msg_handler) {\n            var messages = comm.messages[Symbol.asyncIterator]();\n            function processIteratorResult(result) {\n              var message = result.value;\n              var content = {data: message.data};\n              var metadata = message.metadata || {comm_id};\n              var msg = {content, metadata}\n              msg_handler(msg);\n              return messages.next().then(processIteratorResult);\n            }\n            return messages.next().then(processIteratorResult);\n          }\n        })\n        var sendClosure = (data, metadata, buffers, disposeOnDone) => {\n          return comm_promise.then((comm) => {\n            comm.send(data, metadata, buffers, disposeOnDone);\n          });\n        };\n        var comm = {\n          send: sendClosure\n        };\n      }\n      window.PyViz.comms[comm_id] = comm;\n      return comm;\n    }\n    window.PyViz.comm_manager = new JupyterCommManager();\n    \n\n\nvar JS_MIME_TYPE = 'application/javascript';\nvar HTML_MIME_TYPE = 'text/html';\nvar EXEC_MIME_TYPE = 'application/vnd.holoviews_exec.v0+json';\nvar CLASS_NAME = 'output';\n\n/**\n * Render data to the DOM node\n */\nfunction render(props, node) {\n  var div = document.createElement(\"div\");\n  var script = document.createElement(\"script\");\n  node.appendChild(div);\n  node.appendChild(script);\n}\n\n/**\n * Handle when a new output is added\n */\nfunction handle_add_output(event, handle) {\n  var output_area = handle.output_area;\n  var output = handle.output;\n  if ((output.data == undefined) || (!output.data.hasOwnProperty(EXEC_MIME_TYPE))) {\n    return\n  }\n  var id = output.metadata[EXEC_MIME_TYPE][\"id\"];\n  var toinsert = output_area.element.find(\".\" + CLASS_NAME.split(' ')[0]);\n  if (id !== undefined) {\n    var nchildren = toinsert.length;\n    var html_node = toinsert[nchildren-1].children[0];\n    html_node.innerHTML = output.data[HTML_MIME_TYPE];\n    var scripts = [];\n    var nodelist = html_node.querySelectorAll(\"script\");\n    for (var i in nodelist) {\n      if (nodelist.hasOwnProperty(i)) {\n        scripts.push(nodelist[i])\n      }\n    }\n\n    scripts.forEach( function (oldScript) {\n      var newScript = document.createElement(\"script\");\n      var attrs = [];\n      var nodemap = oldScript.attributes;\n      for (var j in nodemap) {\n        if (nodemap.hasOwnProperty(j)) {\n          attrs.push(nodemap[j])\n        }\n      }\n      attrs.forEach(function(attr) { newScript.setAttribute(attr.name, attr.value) });\n      newScript.appendChild(document.createTextNode(oldScript.innerHTML));\n      oldScript.parentNode.replaceChild(newScript, oldScript);\n    });\n    if (JS_MIME_TYPE in output.data) {\n      toinsert[nchildren-1].children[1].textContent = output.data[JS_MIME_TYPE];\n    }\n    output_area._hv_plot_id = id;\n    if ((window.Bokeh !== undefined) && (id in Bokeh.index)) {\n      window.PyViz.plot_index[id] = Bokeh.index[id];\n    } else {\n      window.PyViz.plot_index[id] = null;\n    }\n  } else if (output.metadata[EXEC_MIME_TYPE][\"server_id\"] !== undefined) {\n    var bk_div = document.createElement(\"div\");\n    bk_div.innerHTML = output.data[HTML_MIME_TYPE];\n    var script_attrs = bk_div.children[0].attributes;\n    for (var i = 0; i < script_attrs.length; i++) {\n      toinsert[toinsert.length - 1].childNodes[1].setAttribute(script_attrs[i].name, script_attrs[i].value);\n    }\n    // store reference to server id on output_area\n    output_area._bokeh_server_id = output.metadata[EXEC_MIME_TYPE][\"server_id\"];\n  }\n}\n\n/**\n * Handle when an output is cleared or removed\n */\nfunction handle_clear_output(event, handle) {\n  var id = handle.cell.output_area._hv_plot_id;\n  var server_id = handle.cell.output_area._bokeh_server_id;\n  if (((id === undefined) || !(id in PyViz.plot_index)) && (server_id !== undefined)) { return; }\n  var comm = window.PyViz.comm_manager.get_client_comm(\"hv-extension-comm\", \"hv-extension-comm\", function () {});\n  if (server_id !== null) {\n    comm.send({event_type: 'server_delete', 'id': server_id});\n    return;\n  } else if (comm !== null) {\n    comm.send({event_type: 'delete', 'id': id});\n  }\n  delete PyViz.plot_index[id];\n  if ((window.Bokeh !== undefined) & (id in window.Bokeh.index)) {\n    var doc = window.Bokeh.index[id].model.document\n    doc.clear();\n    const i = window.Bokeh.documents.indexOf(doc);\n    if (i > -1) {\n      window.Bokeh.documents.splice(i, 1);\n    }\n  }\n}\n\n/**\n * Handle kernel restart event\n */\nfunction handle_kernel_cleanup(event, handle) {\n  delete PyViz.comms[\"hv-extension-comm\"];\n  window.PyViz.plot_index = {}\n}\n\n/**\n * Handle update_display_data messages\n */\nfunction handle_update_output(event, handle) {\n  handle_clear_output(event, {cell: {output_area: handle.output_area}})\n  handle_add_output(event, handle)\n}\n\nfunction register_renderer(events, OutputArea) {\n  function append_mime(data, metadata, element) {\n    // create a DOM node to render to\n    var toinsert = this.create_output_subarea(\n    metadata,\n    CLASS_NAME,\n    EXEC_MIME_TYPE\n    );\n    this.keyboard_manager.register_events(toinsert);\n    // Render to node\n    var props = {data: data, metadata: metadata[EXEC_MIME_TYPE]};\n    render(props, toinsert[0]);\n    element.append(toinsert);\n    return toinsert\n  }\n\n  events.on('output_added.OutputArea', handle_add_output);\n  events.on('output_updated.OutputArea', handle_update_output);\n  events.on('clear_output.CodeCell', handle_clear_output);\n  events.on('delete.Cell', handle_clear_output);\n  events.on('kernel_ready.Kernel', handle_kernel_cleanup);\n\n  OutputArea.prototype.register_mime_type(EXEC_MIME_TYPE, append_mime, {\n    safe: true,\n    index: 0\n  });\n}\n\nif (window.Jupyter !== undefined) {\n  try {\n    var events = require('base/js/events');\n    var OutputArea = require('notebook/js/outputarea').OutputArea;\n    if (OutputArea.prototype.mime_types().indexOf(EXEC_MIME_TYPE) == -1) {\n      register_renderer(events, OutputArea);\n    }\n  } catch(err) {\n  }\n}\n",
      "application/vnd.holoviews_load.v0+json": ""
     },
     "metadata": {},
     "output_type": "display_data"
    },
    {
     "data": {
      "application/vnd.holoviews_exec.v0+json": "",
      "text/html": [
       "<div id='af1ef940-f947-4c58-a9be-362384c77815'>\n",
       "  <div id=\"aeb2803b-adf9-47c3-bacb-ffb996f113de\" data-root-id=\"af1ef940-f947-4c58-a9be-362384c77815\" style=\"display: contents;\"></div>\n",
       "</div>\n",
       "<script type=\"application/javascript\">(function(root) {\n",
       "  var docs_json = {\"6dbd7f28-5e6e-477c-b66a-57e4d084fe4c\":{\"version\":\"3.7.2\",\"title\":\"Bokeh Application\",\"roots\":[{\"type\":\"object\",\"name\":\"panel.models.browser.BrowserInfo\",\"id\":\"af1ef940-f947-4c58-a9be-362384c77815\"},{\"type\":\"object\",\"name\":\"panel.models.comm_manager.CommManager\",\"id\":\"0be80f74-ea90-4246-9f03-622e938caca9\",\"attributes\":{\"plot_id\":\"af1ef940-f947-4c58-a9be-362384c77815\",\"comm_id\":\"48e3c22c264545f2a0d2a5ef476e1591\",\"client_comm_id\":\"f3c00589207543088d61524e04213600\"}}],\"defs\":[{\"type\":\"model\",\"name\":\"ReactiveHTML1\"},{\"type\":\"model\",\"name\":\"FlexBox1\",\"properties\":[{\"name\":\"align_content\",\"kind\":\"Any\",\"default\":\"flex-start\"},{\"name\":\"align_items\",\"kind\":\"Any\",\"default\":\"flex-start\"},{\"name\":\"flex_direction\",\"kind\":\"Any\",\"default\":\"row\"},{\"name\":\"flex_wrap\",\"kind\":\"Any\",\"default\":\"wrap\"},{\"name\":\"gap\",\"kind\":\"Any\",\"default\":\"\"},{\"name\":\"justify_content\",\"kind\":\"Any\",\"default\":\"flex-start\"}]},{\"type\":\"model\",\"name\":\"FloatPanel1\",\"properties\":[{\"name\":\"config\",\"kind\":\"Any\",\"default\":{\"type\":\"map\"}},{\"name\":\"contained\",\"kind\":\"Any\",\"default\":true},{\"name\":\"position\",\"kind\":\"Any\",\"default\":\"right-top\"},{\"name\":\"offsetx\",\"kind\":\"Any\",\"default\":null},{\"name\":\"offsety\",\"kind\":\"Any\",\"default\":null},{\"name\":\"theme\",\"kind\":\"Any\",\"default\":\"primary\"},{\"name\":\"status\",\"kind\":\"Any\",\"default\":\"normalized\"}]},{\"type\":\"model\",\"name\":\"GridStack1\",\"properties\":[{\"name\":\"ncols\",\"kind\":\"Any\",\"default\":null},{\"name\":\"nrows\",\"kind\":\"Any\",\"default\":null},{\"name\":\"allow_resize\",\"kind\":\"Any\",\"default\":true},{\"name\":\"allow_drag\",\"kind\":\"Any\",\"default\":true},{\"name\":\"state\",\"kind\":\"Any\",\"default\":[]}]},{\"type\":\"model\",\"name\":\"drag1\",\"properties\":[{\"name\":\"slider_width\",\"kind\":\"Any\",\"default\":5},{\"name\":\"slider_color\",\"kind\":\"Any\",\"default\":\"black\"},{\"name\":\"value\",\"kind\":\"Any\",\"default\":50}]},{\"type\":\"model\",\"name\":\"click1\",\"properties\":[{\"name\":\"terminal_output\",\"kind\":\"Any\",\"default\":\"\"},{\"name\":\"debug_name\",\"kind\":\"Any\",\"default\":\"\"},{\"name\":\"clears\",\"kind\":\"Any\",\"default\":0}]},{\"type\":\"model\",\"name\":\"FastWrapper1\",\"properties\":[{\"name\":\"object\",\"kind\":\"Any\",\"default\":null},{\"name\":\"style\",\"kind\":\"Any\",\"default\":null}]},{\"type\":\"model\",\"name\":\"NotificationArea1\",\"properties\":[{\"name\":\"js_events\",\"kind\":\"Any\",\"default\":{\"type\":\"map\"}},{\"name\":\"max_notifications\",\"kind\":\"Any\",\"default\":5},{\"name\":\"notifications\",\"kind\":\"Any\",\"default\":[]},{\"name\":\"position\",\"kind\":\"Any\",\"default\":\"bottom-right\"},{\"name\":\"_clear\",\"kind\":\"Any\",\"default\":0},{\"name\":\"types\",\"kind\":\"Any\",\"default\":[{\"type\":\"map\",\"entries\":[[\"type\",\"warning\"],[\"background\",\"#ffc107\"],[\"icon\",{\"type\":\"map\",\"entries\":[[\"className\",\"fas fa-exclamation-triangle\"],[\"tagName\",\"i\"],[\"color\",\"white\"]]}]]},{\"type\":\"map\",\"entries\":[[\"type\",\"info\"],[\"background\",\"#007bff\"],[\"icon\",{\"type\":\"map\",\"entries\":[[\"className\",\"fas fa-info-circle\"],[\"tagName\",\"i\"],[\"color\",\"white\"]]}]]}]}]},{\"type\":\"model\",\"name\":\"Notification\",\"properties\":[{\"name\":\"background\",\"kind\":\"Any\",\"default\":null},{\"name\":\"duration\",\"kind\":\"Any\",\"default\":3000},{\"name\":\"icon\",\"kind\":\"Any\",\"default\":null},{\"name\":\"message\",\"kind\":\"Any\",\"default\":\"\"},{\"name\":\"notification_type\",\"kind\":\"Any\",\"default\":null},{\"name\":\"_rendered\",\"kind\":\"Any\",\"default\":false},{\"name\":\"_destroyed\",\"kind\":\"Any\",\"default\":false}]},{\"type\":\"model\",\"name\":\"TemplateActions1\",\"properties\":[{\"name\":\"open_modal\",\"kind\":\"Any\",\"default\":0},{\"name\":\"close_modal\",\"kind\":\"Any\",\"default\":0}]},{\"type\":\"model\",\"name\":\"BootstrapTemplateActions1\",\"properties\":[{\"name\":\"open_modal\",\"kind\":\"Any\",\"default\":0},{\"name\":\"close_modal\",\"kind\":\"Any\",\"default\":0}]},{\"type\":\"model\",\"name\":\"TemplateEditor1\",\"properties\":[{\"name\":\"layout\",\"kind\":\"Any\",\"default\":[]}]},{\"type\":\"model\",\"name\":\"MaterialTemplateActions1\",\"properties\":[{\"name\":\"open_modal\",\"kind\":\"Any\",\"default\":0},{\"name\":\"close_modal\",\"kind\":\"Any\",\"default\":0}]},{\"type\":\"model\",\"name\":\"ReactiveESM1\",\"properties\":[{\"name\":\"esm_constants\",\"kind\":\"Any\",\"default\":{\"type\":\"map\"}}]},{\"type\":\"model\",\"name\":\"JSComponent1\",\"properties\":[{\"name\":\"esm_constants\",\"kind\":\"Any\",\"default\":{\"type\":\"map\"}}]},{\"type\":\"model\",\"name\":\"ReactComponent1\",\"properties\":[{\"name\":\"esm_constants\",\"kind\":\"Any\",\"default\":{\"type\":\"map\"}}]},{\"type\":\"model\",\"name\":\"AnyWidgetComponent1\",\"properties\":[{\"name\":\"esm_constants\",\"kind\":\"Any\",\"default\":{\"type\":\"map\"}}]},{\"type\":\"model\",\"name\":\"request_value1\",\"properties\":[{\"name\":\"fill\",\"kind\":\"Any\",\"default\":\"none\"},{\"name\":\"_synced\",\"kind\":\"Any\",\"default\":null},{\"name\":\"_request_sync\",\"kind\":\"Any\",\"default\":0}]}]}};\n",
       "  var render_items = [{\"docid\":\"6dbd7f28-5e6e-477c-b66a-57e4d084fe4c\",\"roots\":{\"af1ef940-f947-4c58-a9be-362384c77815\":\"aeb2803b-adf9-47c3-bacb-ffb996f113de\"},\"root_ids\":[\"af1ef940-f947-4c58-a9be-362384c77815\"]}];\n",
       "  var docs = Object.values(docs_json)\n",
       "  if (!docs) {\n",
       "    return\n",
       "  }\n",
       "  const py_version = docs[0].version.replace('rc', '-rc.').replace('.dev', '-dev.')\n",
       "  async function embed_document(root) {\n",
       "    var Bokeh = get_bokeh(root)\n",
       "    await Bokeh.embed.embed_items_notebook(docs_json, render_items);\n",
       "    for (const render_item of render_items) {\n",
       "      for (const root_id of render_item.root_ids) {\n",
       "\tconst id_el = document.getElementById(root_id)\n",
       "\tif (id_el.children.length && id_el.children[0].hasAttribute('data-root-id')) {\n",
       "\t  const root_el = id_el.children[0]\n",
       "\t  root_el.id = root_el.id + '-rendered'\n",
       "\t  for (const child of root_el.children) {\n",
       "            // Ensure JupyterLab does not capture keyboard shortcuts\n",
       "            // see: https://jupyterlab.readthedocs.io/en/4.1.x/extension/notebook.html#keyboard-interaction-model\n",
       "\t    child.setAttribute('data-lm-suppress-shortcuts', 'true')\n",
       "\t  }\n",
       "\t}\n",
       "      }\n",
       "    }\n",
       "  }\n",
       "  function get_bokeh(root) {\n",
       "    if (root.Bokeh === undefined) {\n",
       "      return null\n",
       "    } else if (root.Bokeh.version !== py_version) {\n",
       "      if (root.Bokeh.versions === undefined || !root.Bokeh.versions.has(py_version)) {\n",
       "\treturn null\n",
       "      }\n",
       "      return root.Bokeh.versions.get(py_version);\n",
       "    } else if (root.Bokeh.version === py_version) {\n",
       "      return root.Bokeh\n",
       "    }\n",
       "    return null\n",
       "  }\n",
       "  function is_loaded(root) {\n",
       "    var Bokeh = get_bokeh(root)\n",
       "    return (Bokeh != null && Bokeh.Panel !== undefined)\n",
       "  }\n",
       "  if (is_loaded(root)) {\n",
       "    embed_document(root);\n",
       "  } else {\n",
       "    var attempts = 0;\n",
       "    var timer = setInterval(function(root) {\n",
       "      if (is_loaded(root)) {\n",
       "        clearInterval(timer);\n",
       "        embed_document(root);\n",
       "      } else if (document.readyState == \"complete\") {\n",
       "        attempts++;\n",
       "        if (attempts > 200) {\n",
       "          clearInterval(timer);\n",
       "\t  var Bokeh = get_bokeh(root)\n",
       "\t  if (Bokeh == null || Bokeh.Panel == null) {\n",
       "            console.warn(\"Panel: ERROR: Unable to run Panel code because Bokeh or Panel library is missing\");\n",
       "\t  } else {\n",
       "\t    console.warn(\"Panel: WARNING: Attempting to render but not all required libraries could be resolved.\")\n",
       "\t    embed_document(root)\n",
       "\t  }\n",
       "        }\n",
       "      }\n",
       "    }, 25, root)\n",
       "  }\n",
       "})(window);</script>"
      ]
     },
     "metadata": {
      "application/vnd.holoviews_exec.v0+json": {
       "id": "af1ef940-f947-4c58-a9be-362384c77815"
      }
     },
     "output_type": "display_data"
    }
   ],
   "source": [
    "from bs4 import BeautifulSoup\n",
    "# import pandas as pd\n",
    "from datetime import datetime, timedelta\n",
    "from itertools import combinations\n",
    "import json\n",
    "import requests\n",
    "import math\n",
    "from typing import Optional, List, Dict\n",
    "\n",
    "from pydantic import BaseModel\n",
    "from typing import Mapping\n",
    "import numpy as np\n",
    "import polars as pl\n",
    "import hvplot.polars\n",
    "import pandas as pd\n",
    "import altair as alt\n",
    "import math\n",
    "\n",
    "from shared.utils import formalize_data_with_str\n",
    "from shared.random_rules import RandomRules"
   ]
  },
  {
   "cell_type": "code",
   "execution_count": 2,
   "metadata": {},
   "outputs": [],
   "source": [
    "rr = RandomRules(\n",
    "  TOTAL_NUMBERS = 35,\n",
    "  CHOOSE = 5,\n",
    "  MAX_PRIMES = 3,\n",
    "  N_VALUES=[\"1\", \"2\", \"3\"],\n",
    "  # Rangos de valores de las bolillas\n",
    "  MIN_B_VALUES = [1, 2, 3, 4, 5],\n",
    "  MAX_B_VALUES = [31, 32, 33, 34, 35]\n",
    ")"
   ]
  },
  {
   "cell_type": "code",
   "execution_count": 3,
   "metadata": {},
   "outputs": [],
   "source": [
    "url = 'https://resultados.latinka.com.pe/i.do?m=historico&t=0&s=164'\n",
    "response = requests.get(url)\n",
    "soup = BeautifulSoup(response.text, 'html.parser')\n",
    "\n",
    "tables = soup.select('table')\n",
    "rows = tables[1].find_all('tr')"
   ]
  },
  {
   "cell_type": "code",
   "execution_count": 4,
   "metadata": {},
   "outputs": [
    {
     "name": "stdout",
     "output_type": "stream",
     "text": [
      "TOTAL_LINES=7731\n"
     ]
    },
    {
     "data": {
      "text/html": [
       "<div><style>\n",
       ".dataframe > thead > tr,\n",
       ".dataframe > tbody > tr {\n",
       "  text-align: right;\n",
       "  white-space: pre-wrap;\n",
       "}\n",
       "</style>\n",
       "<small>shape: (10, 24)</small><table border=\"1\" class=\"dataframe\"><thead><tr><th>fecha</th><th>sorteo</th><th>bolillas</th><th>id</th><th>combo</th><th>b1</th><th>b2</th><th>b3</th><th>b4</th><th>b5</th><th>str_b1</th><th>str_b2</th><th>str_b3</th><th>str_b4</th><th>str_b5</th><th>post_str_b1</th><th>post_str_b2</th><th>post_str_b3</th><th>post_str_b4</th><th>post_str_blast</th><th>is_rare_combination</th><th>reason</th><th>jumps_map</th><th>unijump</th></tr><tr><td>str</td><td>str</td><td>str</td><td>str</td><td>array[u8, 5]</td><td>u8</td><td>u8</td><td>u8</td><td>u8</td><td>u8</td><td>str</td><td>str</td><td>str</td><td>str</td><td>str</td><td>str</td><td>str</td><td>str</td><td>str</td><td>str</td><td>bool</td><td>u8</td><td>str</td><td>i64</td></tr></thead><tbody><tr><td>&quot;15/04/2025&quot;</td><td>&quot;4187&quot;</td><td>&quot;29 15 23 33 10&quot;</td><td>&quot;1015232933&quot;</td><td>[10, 15, … 33]</td><td>10</td><td>15</td><td>23</td><td>29</td><td>33</td><td>&quot;10&quot;</td><td>&quot;15&quot;</td><td>&quot;23&quot;</td><td>&quot;29&quot;</td><td>&quot;33&quot;</td><td>null</td><td>null</td><td>null</td><td>null</td><td>null</td><td>false</td><td>0</td><td>&quot;05_08_06_04&quot;</td><td>5</td></tr><tr><td>&quot;14/04/2025&quot;</td><td>&quot;4186&quot;</td><td>&quot;09 27 16 14 04&quot;</td><td>&quot;0409141627&quot;</td><td>[4, 9, … 27]</td><td>4</td><td>9</td><td>14</td><td>16</td><td>27</td><td>&quot;04&quot;</td><td>&quot;09&quot;</td><td>&quot;14&quot;</td><td>&quot;16&quot;</td><td>&quot;27&quot;</td><td>&quot;10&quot;</td><td>&quot;15&quot;</td><td>&quot;23&quot;</td><td>&quot;29&quot;</td><td>&quot;33&quot;</td><td>true</td><td>24</td><td>&quot;05_05_02_11&quot;</td><td>15</td></tr><tr><td>&quot;13/04/2025&quot;</td><td>&quot;4185&quot;</td><td>&quot;26 06 13 09 27&quot;</td><td>&quot;0609132627&quot;</td><td>[6, 9, … 27]</td><td>6</td><td>9</td><td>13</td><td>26</td><td>27</td><td>&quot;06&quot;</td><td>&quot;09&quot;</td><td>&quot;13&quot;</td><td>&quot;26&quot;</td><td>&quot;27&quot;</td><td>&quot;04&quot;</td><td>&quot;09&quot;</td><td>&quot;14&quot;</td><td>&quot;16&quot;</td><td>&quot;27&quot;</td><td>false</td><td>0</td><td>&quot;03_04_13_01&quot;</td><td>-29</td></tr><tr><td>&quot;12/04/2025&quot;</td><td>&quot;4184&quot;</td><td>&quot;23 12 10 16 03&quot;</td><td>&quot;0310121623&quot;</td><td>[3, 10, … 23]</td><td>3</td><td>10</td><td>12</td><td>16</td><td>23</td><td>&quot;03&quot;</td><td>&quot;10&quot;</td><td>&quot;12&quot;</td><td>&quot;16&quot;</td><td>&quot;23&quot;</td><td>&quot;06&quot;</td><td>&quot;09&quot;</td><td>&quot;13&quot;</td><td>&quot;26&quot;</td><td>&quot;27&quot;</td><td>false</td><td>0</td><td>&quot;07_02_04_07&quot;</td><td>-6</td></tr><tr><td>&quot;11/04/2025&quot;</td><td>&quot;4183&quot;</td><td>&quot;09 10 08 01 12&quot;</td><td>&quot;0108091012&quot;</td><td>[1, 8, … 12]</td><td>1</td><td>8</td><td>9</td><td>10</td><td>12</td><td>&quot;01&quot;</td><td>&quot;08&quot;</td><td>&quot;09&quot;</td><td>&quot;10&quot;</td><td>&quot;12&quot;</td><td>&quot;03&quot;</td><td>&quot;10&quot;</td><td>&quot;12&quot;</td><td>&quot;16&quot;</td><td>&quot;23&quot;</td><td>true</td><td>24</td><td>&quot;07_01_01_02&quot;</td><td>-5</td></tr><tr><td>&quot;10/04/2025&quot;</td><td>&quot;4182&quot;</td><td>&quot;30 33 34 10 21&quot;</td><td>&quot;1021303334&quot;</td><td>[10, 21, … 34]</td><td>10</td><td>21</td><td>30</td><td>33</td><td>34</td><td>&quot;10&quot;</td><td>&quot;21&quot;</td><td>&quot;30&quot;</td><td>&quot;33&quot;</td><td>&quot;34&quot;</td><td>&quot;01&quot;</td><td>&quot;08&quot;</td><td>&quot;09&quot;</td><td>&quot;10&quot;</td><td>&quot;12&quot;</td><td>false</td><td>0</td><td>&quot;11_09_03_01&quot;</td><td>8</td></tr><tr><td>&quot;09/04/2025&quot;</td><td>&quot;4181&quot;</td><td>&quot;29 21 20 28 04&quot;</td><td>&quot;0420212829&quot;</td><td>[4, 20, … 29]</td><td>4</td><td>20</td><td>21</td><td>28</td><td>29</td><td>&quot;04&quot;</td><td>&quot;20&quot;</td><td>&quot;21&quot;</td><td>&quot;28&quot;</td><td>&quot;29&quot;</td><td>&quot;10&quot;</td><td>&quot;21&quot;</td><td>&quot;30&quot;</td><td>&quot;33&quot;</td><td>&quot;34&quot;</td><td>true</td><td>16</td><td>&quot;16_01_07_01&quot;</td><td>-33</td></tr><tr><td>&quot;08/04/2025&quot;</td><td>&quot;4180&quot;</td><td>&quot;10 20 30 05 16&quot;</td><td>&quot;0510162030&quot;</td><td>[5, 10, … 30]</td><td>5</td><td>10</td><td>16</td><td>20</td><td>30</td><td>&quot;05&quot;</td><td>&quot;10&quot;</td><td>&quot;16&quot;</td><td>&quot;20&quot;</td><td>&quot;30&quot;</td><td>&quot;04&quot;</td><td>&quot;20&quot;</td><td>&quot;21&quot;</td><td>&quot;28&quot;</td><td>&quot;29&quot;</td><td>false</td><td>0</td><td>&quot;05_06_04_10&quot;</td><td>11</td></tr><tr><td>&quot;07/04/2025&quot;</td><td>&quot;4179&quot;</td><td>&quot;08 21 22 24 07&quot;</td><td>&quot;0708212224&quot;</td><td>[7, 8, … 24]</td><td>7</td><td>8</td><td>21</td><td>22</td><td>24</td><td>&quot;07&quot;</td><td>&quot;08&quot;</td><td>&quot;21&quot;</td><td>&quot;22&quot;</td><td>&quot;24&quot;</td><td>&quot;05&quot;</td><td>&quot;10&quot;</td><td>&quot;16&quot;</td><td>&quot;20&quot;</td><td>&quot;30&quot;</td><td>true</td><td>16</td><td>&quot;01_13_01_02&quot;</td><td>37</td></tr><tr><td>&quot;06/04/2025&quot;</td><td>&quot;4178&quot;</td><td>&quot;07 35 24 34 14&quot;</td><td>&quot;0714243435&quot;</td><td>[7, 14, … 35]</td><td>7</td><td>14</td><td>24</td><td>34</td><td>35</td><td>&quot;07&quot;</td><td>&quot;14&quot;</td><td>&quot;24&quot;</td><td>&quot;34&quot;</td><td>&quot;35&quot;</td><td>&quot;07&quot;</td><td>&quot;08&quot;</td><td>&quot;21&quot;</td><td>&quot;22&quot;</td><td>&quot;24&quot;</td><td>true</td><td>8</td><td>&quot;07_10_10_01&quot;</td><td>-6</td></tr></tbody></table></div>"
      ],
      "text/plain": [
       "shape: (10, 24)\n",
       "┌────────────┬────────┬─────────────┬────────────┬───┬─────────────┬────────┬────────────┬─────────┐\n",
       "│ fecha      ┆ sorteo ┆ bolillas    ┆ id         ┆ … ┆ is_rare_com ┆ reason ┆ jumps_map  ┆ unijump │\n",
       "│ ---        ┆ ---    ┆ ---         ┆ ---        ┆   ┆ bination    ┆ ---    ┆ ---        ┆ ---     │\n",
       "│ str        ┆ str    ┆ str         ┆ str        ┆   ┆ ---         ┆ u8     ┆ str        ┆ i64     │\n",
       "│            ┆        ┆             ┆            ┆   ┆ bool        ┆        ┆            ┆         │\n",
       "╞════════════╪════════╪═════════════╪════════════╪═══╪═════════════╪════════╪════════════╪═════════╡\n",
       "│ 15/04/2025 ┆ 4187   ┆ 29 15 23 33 ┆ 1015232933 ┆ … ┆ false       ┆ 0      ┆ 05_08_06_0 ┆ 5       │\n",
       "│            ┆        ┆ 10          ┆            ┆   ┆             ┆        ┆ 4          ┆         │\n",
       "│ 14/04/2025 ┆ 4186   ┆ 09 27 16 14 ┆ 0409141627 ┆ … ┆ true        ┆ 24     ┆ 05_05_02_1 ┆ 15      │\n",
       "│            ┆        ┆ 04          ┆            ┆   ┆             ┆        ┆ 1          ┆         │\n",
       "│ 13/04/2025 ┆ 4185   ┆ 26 06 13 09 ┆ 0609132627 ┆ … ┆ false       ┆ 0      ┆ 03_04_13_0 ┆ -29     │\n",
       "│            ┆        ┆ 27          ┆            ┆   ┆             ┆        ┆ 1          ┆         │\n",
       "│ 12/04/2025 ┆ 4184   ┆ 23 12 10 16 ┆ 0310121623 ┆ … ┆ false       ┆ 0      ┆ 07_02_04_0 ┆ -6      │\n",
       "│            ┆        ┆ 03          ┆            ┆   ┆             ┆        ┆ 7          ┆         │\n",
       "│ 11/04/2025 ┆ 4183   ┆ 09 10 08 01 ┆ 0108091012 ┆ … ┆ true        ┆ 24     ┆ 07_01_01_0 ┆ -5      │\n",
       "│            ┆        ┆ 12          ┆            ┆   ┆             ┆        ┆ 2          ┆         │\n",
       "│ 10/04/2025 ┆ 4182   ┆ 30 33 34 10 ┆ 1021303334 ┆ … ┆ false       ┆ 0      ┆ 11_09_03_0 ┆ 8       │\n",
       "│            ┆        ┆ 21          ┆            ┆   ┆             ┆        ┆ 1          ┆         │\n",
       "│ 09/04/2025 ┆ 4181   ┆ 29 21 20 28 ┆ 0420212829 ┆ … ┆ true        ┆ 16     ┆ 16_01_07_0 ┆ -33     │\n",
       "│            ┆        ┆ 04          ┆            ┆   ┆             ┆        ┆ 1          ┆         │\n",
       "│ 08/04/2025 ┆ 4180   ┆ 10 20 30 05 ┆ 0510162030 ┆ … ┆ false       ┆ 0      ┆ 05_06_04_1 ┆ 11      │\n",
       "│            ┆        ┆ 16          ┆            ┆   ┆             ┆        ┆ 0          ┆         │\n",
       "│ 07/04/2025 ┆ 4179   ┆ 08 21 22 24 ┆ 0708212224 ┆ … ┆ true        ┆ 16     ┆ 01_13_01_0 ┆ 37      │\n",
       "│            ┆        ┆ 07          ┆            ┆   ┆             ┆        ┆ 2          ┆         │\n",
       "│ 06/04/2025 ┆ 4178   ┆ 07 35 24 34 ┆ 0714243435 ┆ … ┆ true        ┆ 8      ┆ 07_10_10_0 ┆ -6      │\n",
       "│            ┆        ┆ 14          ┆            ┆   ┆             ┆        ┆ 1          ┆         │\n",
       "└────────────┴────────┴─────────────┴────────────┴───┴─────────────┴────────┴────────────┴─────────┘"
      ]
     },
     "metadata": {},
     "output_type": "display_data"
    }
   ],
   "source": [
    "lst = []\n",
    "post_str_b1 = None\n",
    "post_str_b2 = None\n",
    "post_str_b3 = None\n",
    "post_str_b4 = None\n",
    "post_str_blast = None\n",
    "for row in rows:\n",
    "  cols = [data.text.strip() for data in row.find_all('td')]\n",
    "  \n",
    "  id, bolillas_int, str_combo = formalize_data_with_str(bolillas_str=cols[2])\n",
    "  cols.append(id)\n",
    "  cols.append(bolillas_int)\n",
    "  cols.extend([b for b in bolillas_int])\n",
    "  cols.extend(str_combo)\n",
    "  cols.append(post_str_b1)\n",
    "  cols.append(post_str_b2)\n",
    "  cols.append(post_str_b3)\n",
    "  cols.append(post_str_b4)\n",
    "  cols.append(post_str_blast)\n",
    "\n",
    "  is_rare, reason = rr.is_rare_combination(bolillas_int, id)\n",
    "  cols.append(is_rare)\n",
    "  cols.append(reason)\n",
    "\n",
    "  cols.append(rr.jumps_map(bolillas_int))\n",
    "  cols.append(rr.unijump(bolillas_int))\n",
    "  \n",
    "  lst.append(cols)\n",
    "\n",
    "  post_str_b1 = str_combo[0]\n",
    "  post_str_b2 = str_combo[1]\n",
    "  post_str_b3 = str_combo[2]\n",
    "  post_str_b4 = str_combo[3]\n",
    "  post_str_blast = str_combo[-1]\n",
    "\n",
    "with open('./gn_cahe_v3.json', 'w') as file: \n",
    "  json.dump(lst, file)\n",
    "\n",
    "dfRows = pl.DataFrame(\n",
    "  lst,\n",
    "  schema=[\n",
    "    'fecha', 'sorteo', 'bolillas',\n",
    "    'id', 'combo', 'b1', 'b2', 'b3', 'b4', 'b5',\n",
    "    'str_b1', 'str_b2', 'str_b3', 'str_b4', 'str_b5',\n",
    "    'post_str_b1', 'post_str_b2', 'post_str_b3', 'post_str_b4', 'post_str_blast',\n",
    "    'is_rare_combination', 'reason',\n",
    "    \"jumps_map\", \"unijump\"\n",
    "  ],\n",
    "  schema_overrides={\n",
    "    'combo': pl.Array(pl.UInt8, 5),\n",
    "    'b1': pl.UInt8,\n",
    "    'b2': pl.UInt8,\n",
    "    'b3': pl.UInt8,\n",
    "    'b4': pl.UInt8,\n",
    "    'b5': pl.UInt8,\n",
    "    'b6': pl.UInt8,\n",
    "    'reason': pl.UInt8\n",
    "  },\n",
    "  orient='row'\n",
    ")\n",
    "\n",
    "TOTAL_LINES = len(dfRows)\n",
    "print(f'{TOTAL_LINES=}')\n",
    "display(dfRows.head(10))"
   ]
  },
  {
   "cell_type": "code",
   "execution_count": 5,
   "metadata": {},
   "outputs": [
    {
     "data": {
      "text/plain": [
       "15"
      ]
     },
     "execution_count": 5,
     "metadata": {},
     "output_type": "execute_result"
    }
   ],
   "source": [
    "dfRows.item(0, 'b2')"
   ]
  },
  {
   "cell_type": "code",
   "execution_count": 6,
   "metadata": {},
   "outputs": [],
   "source": [
    "import holoviews as hv\n",
    "def plot_post_col (col: str, post_col: str, test_value: str | None = None):\n",
    "  if test_value == None:\n",
    "    test_value = dfRows.item(0, col)\n",
    "    print(f'Setting {test_value=}')\n",
    "\n",
    "  df_viz = dfRows \\\n",
    "    .filter(\n",
    "      pl.col(col) == test_value,\n",
    "      pl.col(post_col).is_not_null()\n",
    "    ) \\\n",
    "    .group_by(\n",
    "      post_col\n",
    "    ).agg(pl.count(post_col).alias('count')) \\\n",
    "    .sort(\"count\", descending=True)\n",
    "  \n",
    "  \n",
    "  df_10_last = dfRows \\\n",
    "    .filter(\n",
    "      pl.col(col) == test_value,\n",
    "      pl.col(post_col).is_not_null()\n",
    "    ) \\\n",
    "    .head(10)\n",
    "  \n",
    "  # Agrega una columna que sea el porcentaje de la frecuencia relativa\n",
    "  total = df_viz['count'].sum()\n",
    "  df_viz = df_viz.with_columns(\n",
    "    ( (pl.col('count') / total) * 100 ).alias('percent')\n",
    "  )\n",
    "  mean_percent = df_viz['percent'].mean()\n",
    "  mean_percent_75 = mean_percent * 75 / 50\n",
    "  mean_percent_25 = mean_percent * 25 / 50\n",
    "\n",
    "  chart = df_viz.hvplot.bar(\n",
    "    x=post_col,\n",
    "    y='percent'\n",
    "  )\n",
    "\n",
    "  chart = chart * hv.HLine(mean_percent).opts(color='red')\n",
    "  chart = chart * hv.HLine(mean_percent_75).opts(color='blue')\n",
    "  chart = chart * hv.HLine(mean_percent_25).opts(color='blue')\n",
    "  \n",
    "  chart.opts(default_tools=[\"pan\"])\n",
    "\n",
    "  df_jumps_map = dfRows \\\n",
    "    .filter(\n",
    "      pl.col(col) == test_value,\n",
    "      pl.col(post_col).is_not_null()\n",
    "    ) \\\n",
    "    .group_by(\n",
    "      'jumps_map'\n",
    "    ).agg(pl.count('jumps_map').alias('count')) \\\n",
    "    .sort(\"count\", descending=True)\n",
    "  \n",
    "  df_unijump = dfRows \\\n",
    "    .filter(\n",
    "      pl.col(col) == test_value,\n",
    "      pl.col(post_col).is_not_null()\n",
    "    ) \\\n",
    "    .group_by(\n",
    "      'unijump'\n",
    "    ).agg(pl.count('unijump').alias('count')) \\\n",
    "    .sort(\"count\", descending=True)\n",
    "\n",
    "\n",
    "  print(f'df_viz FOR {col} = {test_value}')\n",
    "  display(df_viz)\n",
    "\n",
    "  display(chart)\n",
    "  \n",
    "  print(f'df_10_last FOR {col} = {test_value}')\n",
    "  display(df_10_last)\n",
    "  \n",
    "  print(f'df_jumps_map FOR {col} = {test_value}')\n",
    "  display(df_jumps_map)\n",
    "  # display(df_unijump)\n",
    "\n",
    "  print(f'df_unijump FOR {col} = {test_value}')\n",
    "  display(df_unijump)\n",
    "\n",
    "  lst_post_str_b = df_viz.filter(pl.col('percent') >= mean_percent)[post_col].to_list()\n",
    "  lst_jumps_map = df_jumps_map['jumps_map'].to_list() # Used to discard\n",
    "  \n",
    "  return lst_post_str_b, lst_jumps_map"
   ]
  },
  {
   "cell_type": "code",
   "execution_count": 7,
   "metadata": {},
   "outputs": [
    {
     "name": "stdout",
     "output_type": "stream",
     "text": [
      "Setting test_value='10'\n",
      "df_viz FOR str_b1 = 10\n"
     ]
    },
    {
     "data": {
      "text/html": [
       "<div><style>\n",
       ".dataframe > thead > tr,\n",
       ".dataframe > tbody > tr {\n",
       "  text-align: right;\n",
       "  white-space: pre-wrap;\n",
       "}\n",
       "</style>\n",
       "<small>shape: (20, 3)</small><table border=\"1\" class=\"dataframe\"><thead><tr><th>post_str_b1</th><th>count</th><th>percent</th></tr><tr><td>str</td><td>u32</td><td>f64</td></tr></thead><tbody><tr><td>&quot;01&quot;</td><td>54</td><td>17.821782</td></tr><tr><td>&quot;02&quot;</td><td>33</td><td>10.891089</td></tr><tr><td>&quot;04&quot;</td><td>31</td><td>10.231023</td></tr><tr><td>&quot;03&quot;</td><td>31</td><td>10.231023</td></tr><tr><td>&quot;05&quot;</td><td>29</td><td>9.570957</td></tr><tr><td>&hellip;</td><td>&hellip;</td><td>&hellip;</td></tr><tr><td>&quot;16&quot;</td><td>2</td><td>0.660066</td></tr><tr><td>&quot;17&quot;</td><td>2</td><td>0.660066</td></tr><tr><td>&quot;19&quot;</td><td>1</td><td>0.330033</td></tr><tr><td>&quot;18&quot;</td><td>1</td><td>0.330033</td></tr><tr><td>&quot;22&quot;</td><td>1</td><td>0.330033</td></tr></tbody></table></div>"
      ],
      "text/plain": [
       "shape: (20, 3)\n",
       "┌─────────────┬───────┬───────────┐\n",
       "│ post_str_b1 ┆ count ┆ percent   │\n",
       "│ ---         ┆ ---   ┆ ---       │\n",
       "│ str         ┆ u32   ┆ f64       │\n",
       "╞═════════════╪═══════╪═══════════╡\n",
       "│ 01          ┆ 54    ┆ 17.821782 │\n",
       "│ 02          ┆ 33    ┆ 10.891089 │\n",
       "│ 04          ┆ 31    ┆ 10.231023 │\n",
       "│ 03          ┆ 31    ┆ 10.231023 │\n",
       "│ 05          ┆ 29    ┆ 9.570957  │\n",
       "│ …           ┆ …     ┆ …         │\n",
       "│ 16          ┆ 2     ┆ 0.660066  │\n",
       "│ 17          ┆ 2     ┆ 0.660066  │\n",
       "│ 19          ┆ 1     ┆ 0.330033  │\n",
       "│ 18          ┆ 1     ┆ 0.330033  │\n",
       "│ 22          ┆ 1     ┆ 0.330033  │\n",
       "└─────────────┴───────┴───────────┘"
      ]
     },
     "metadata": {},
     "output_type": "display_data"
    },
    {
     "data": {},
     "metadata": {},
     "output_type": "display_data"
    },
    {
     "data": {
      "application/vnd.holoviews_exec.v0+json": "",
      "text/html": [
       "<div id='67cb3645-190e-4582-841e-330281492aa7'>\n",
       "  <div id=\"c4811c67-5f4a-42f2-9169-15c2686336b9\" data-root-id=\"67cb3645-190e-4582-841e-330281492aa7\" style=\"display: contents;\"></div>\n",
       "</div>\n",
       "<script type=\"application/javascript\">(function(root) {\n",
       "  var docs_json = {\"f7f58aca-1038-42d3-bc74-9b24f0fe820f\":{\"version\":\"3.7.2\",\"title\":\"Bokeh Application\",\"roots\":[{\"type\":\"object\",\"name\":\"Row\",\"id\":\"67cb3645-190e-4582-841e-330281492aa7\",\"attributes\":{\"name\":\"Row00286\",\"tags\":[\"embedded\"],\"stylesheets\":[\"\\n:host(.pn-loading):before, .pn-loading:before {\\n  background-color: #c3c3c3;\\n  mask-size: auto calc(min(50%, 400px));\\n  -webkit-mask-size: auto calc(min(50%, 400px));\\n}\",{\"type\":\"object\",\"name\":\"ImportedStyleSheet\",\"id\":\"024012a1-bef0-4f09-baa7-8f0f3fe6f228\",\"attributes\":{\"url\":\"https://cdn.holoviz.org/panel/1.6.2/dist/css/loading.css\"}},{\"type\":\"object\",\"name\":\"ImportedStyleSheet\",\"id\":\"2a703b4d-d13f-486d-981e-938f4a2478c2\",\"attributes\":{\"url\":\"https://cdn.holoviz.org/panel/1.6.2/dist/css/listpanel.css\"}},{\"type\":\"object\",\"name\":\"ImportedStyleSheet\",\"id\":\"c0e93fbe-d3a9-4b7b-b0c1-0650afbe3576\",\"attributes\":{\"url\":\"https://cdn.holoviz.org/panel/1.6.2/dist/bundled/theme/default.css\"}},{\"type\":\"object\",\"name\":\"ImportedStyleSheet\",\"id\":\"0031ef8d-e383-432c-bf5b-bf2c5628dbce\",\"attributes\":{\"url\":\"https://cdn.holoviz.org/panel/1.6.2/dist/bundled/theme/native.css\"}}],\"min_width\":700,\"margin\":0,\"sizing_mode\":\"stretch_width\",\"align\":\"start\",\"children\":[{\"type\":\"object\",\"name\":\"Spacer\",\"id\":\"71a0d8e4-f375-46ba-b287-c68d6e482a8b\",\"attributes\":{\"name\":\"HSpacer00290\",\"stylesheets\":[\"\\n:host(.pn-loading):before, .pn-loading:before {\\n  background-color: #c3c3c3;\\n  mask-size: auto calc(min(50%, 400px));\\n  -webkit-mask-size: auto calc(min(50%, 400px));\\n}\",{\"id\":\"024012a1-bef0-4f09-baa7-8f0f3fe6f228\"},{\"id\":\"c0e93fbe-d3a9-4b7b-b0c1-0650afbe3576\"},{\"id\":\"0031ef8d-e383-432c-bf5b-bf2c5628dbce\"}],\"margin\":0,\"sizing_mode\":\"stretch_width\",\"align\":\"start\"}},{\"type\":\"object\",\"name\":\"Figure\",\"id\":\"664e14f8-8ba5-4a42-8a68-92d02cd04f8e\",\"attributes\":{\"width\":700,\"height\":300,\"margin\":[5,10],\"sizing_mode\":\"fixed\",\"align\":\"start\",\"x_range\":{\"type\":\"object\",\"name\":\"FactorRange\",\"id\":\"50b2152c-0190-4641-b282-5cd6e286257e\",\"attributes\":{\"name\":\"post_str_b1\",\"tags\":[[[\"post_str_b1\",null]],[]],\"factors\":[\"01\",\"02\",\"04\",\"03\",\"05\",\"07\",\"08\",\"06\",\"10\",\"14\",\"09\",\"12\",\"11\",\"13\",\"15\",\"16\",\"17\",\"19\",\"18\",\"22\"]}},\"y_range\":{\"type\":\"object\",\"name\":\"Range1d\",\"id\":\"8c2c256a-dda8-40b0-8991-4c65f6309ddb\",\"attributes\":{\"name\":\"percent\",\"tags\":[[[\"percent\",null]],{\"type\":\"map\",\"entries\":[[\"invert_yaxis\",false],[\"autorange\",false]]}],\"end\":19.57095709570957,\"reset_start\":0.0,\"reset_end\":19.57095709570957}},\"x_scale\":{\"type\":\"object\",\"name\":\"CategoricalScale\",\"id\":\"6f19076a-8f82-4c5e-b313-b4abe9d5bba3\"},\"y_scale\":{\"type\":\"object\",\"name\":\"LinearScale\",\"id\":\"d5e66821-862e-4ceb-a4ed-687b81f8a21e\"},\"title\":{\"type\":\"object\",\"name\":\"Title\",\"id\":\"9fe8c82d-e1ba-47fc-90f2-d5a0502d71d2\",\"attributes\":{\"text_color\":\"black\",\"text_font_size\":\"12pt\"}},\"renderers\":[{\"type\":\"object\",\"name\":\"GlyphRenderer\",\"id\":\"ee5fffd6-ced2-40cf-9b67-b9d16fdf68ce\",\"attributes\":{\"data_source\":{\"type\":\"object\",\"name\":\"ColumnDataSource\",\"id\":\"be60f165-f076-4aa5-b027-9a7198e1c9b5\",\"attributes\":{\"selected\":{\"type\":\"object\",\"name\":\"Selection\",\"id\":\"9237ae91-1d73-44b9-a8bf-6903ecd3251d\",\"attributes\":{\"indices\":[],\"line_indices\":[]}},\"selection_policy\":{\"type\":\"object\",\"name\":\"UnionRenderers\",\"id\":\"3ceadac6-c3b8-45ef-aaf2-823b45533bb6\"},\"data\":{\"type\":\"map\",\"entries\":[[\"post_str_b1\",[\"01\",\"02\",\"04\",\"03\",\"05\",\"07\",\"08\",\"06\",\"10\",\"14\",\"09\",\"12\",\"11\",\"13\",\"15\",\"16\",\"17\",\"19\",\"18\",\"22\"]],[\"percent\",{\"type\":\"ndarray\",\"array\":{\"type\":\"bytes\",\"data\":\"leEbUWDSMUApMOnUPMglQPgV+qhIdiRA+BX6qEh2JEDH+wp9VCQjQGTHLCVsgCBAZ1p78u9cHkBy188WK8MXQJh0ah7krg9A0wuubhNnCkBy188WK8MHQK5uE2daewJAmHRqHuSu/z+YdGoe5K7/PxCj8b5CH+U/EKPxvkIf5T8Qo/G+Qh/lPxCj8b5CH9U/EKPxvkIf1T8Qo/G+Qh/VPw==\"},\"shape\":[20],\"dtype\":\"float64\",\"order\":\"little\"}]]}}},\"view\":{\"type\":\"object\",\"name\":\"CDSView\",\"id\":\"2755d1ad-cc72-44b5-a36f-4e7689d5e5ce\",\"attributes\":{\"filter\":{\"type\":\"object\",\"name\":\"AllIndices\",\"id\":\"7f8b78c9-f3e8-4104-92cc-aa3a908319b1\"}}},\"glyph\":{\"type\":\"object\",\"name\":\"VBar\",\"id\":\"9835f96f-ed37-4e72-a1c6-3639872e177a\",\"attributes\":{\"tags\":[\"apply_ranges\"],\"x\":{\"type\":\"field\",\"field\":\"post_str_b1\"},\"width\":{\"type\":\"value\",\"value\":0.8},\"top\":{\"type\":\"field\",\"field\":\"percent\"},\"fill_color\":{\"type\":\"value\",\"value\":\"#30a2da\"},\"hatch_color\":{\"type\":\"value\",\"value\":\"#30a2da\"}}},\"selection_glyph\":{\"type\":\"object\",\"name\":\"VBar\",\"id\":\"2cb92d7b-a9c2-48f2-aba4-597a377f128d\",\"attributes\":{\"tags\":[\"apply_ranges\"],\"x\":{\"type\":\"field\",\"field\":\"post_str_b1\"},\"width\":{\"type\":\"value\",\"value\":0.8},\"bottom\":{\"type\":\"value\",\"value\":0},\"top\":{\"type\":\"field\",\"field\":\"percent\"},\"line_color\":{\"type\":\"value\",\"value\":\"black\"},\"line_alpha\":{\"type\":\"value\",\"value\":1.0},\"line_width\":{\"type\":\"value\",\"value\":1},\"line_join\":{\"type\":\"value\",\"value\":\"bevel\"},\"line_cap\":{\"type\":\"value\",\"value\":\"butt\"},\"line_dash\":{\"type\":\"value\",\"value\":[]},\"line_dash_offset\":{\"type\":\"value\",\"value\":0},\"fill_color\":{\"type\":\"value\",\"value\":\"#30a2da\"},\"fill_alpha\":{\"type\":\"value\",\"value\":1.0},\"hatch_color\":{\"type\":\"value\",\"value\":\"#30a2da\"},\"hatch_alpha\":{\"type\":\"value\",\"value\":1.0},\"hatch_scale\":{\"type\":\"value\",\"value\":12.0},\"hatch_pattern\":{\"type\":\"value\",\"value\":null},\"hatch_weight\":{\"type\":\"value\",\"value\":1.0}}},\"nonselection_glyph\":{\"type\":\"object\",\"name\":\"VBar\",\"id\":\"66212de8-0abd-46ce-ba27-87a076bfc3ba\",\"attributes\":{\"tags\":[\"apply_ranges\"],\"x\":{\"type\":\"field\",\"field\":\"post_str_b1\"},\"width\":{\"type\":\"value\",\"value\":0.8},\"top\":{\"type\":\"field\",\"field\":\"percent\"},\"line_alpha\":{\"type\":\"value\",\"value\":0.1},\"fill_color\":{\"type\":\"value\",\"value\":\"#30a2da\"},\"fill_alpha\":{\"type\":\"value\",\"value\":0.1},\"hatch_color\":{\"type\":\"value\",\"value\":\"#30a2da\"},\"hatch_alpha\":{\"type\":\"value\",\"value\":0.1}}},\"muted_glyph\":{\"type\":\"object\",\"name\":\"VBar\",\"id\":\"4f55fe51-cec8-4937-a085-a131e28025b8\",\"attributes\":{\"tags\":[\"apply_ranges\"],\"x\":{\"type\":\"field\",\"field\":\"post_str_b1\"},\"width\":{\"type\":\"value\",\"value\":0.8},\"top\":{\"type\":\"field\",\"field\":\"percent\"},\"line_alpha\":{\"type\":\"value\",\"value\":0.2},\"fill_color\":{\"type\":\"value\",\"value\":\"#30a2da\"},\"fill_alpha\":{\"type\":\"value\",\"value\":0.2},\"hatch_color\":{\"type\":\"value\",\"value\":\"#30a2da\"},\"hatch_alpha\":{\"type\":\"value\",\"value\":0.2}}}}},{\"type\":\"object\",\"name\":\"Span\",\"id\":\"1fb2ebf9-7027-45f2-9611-82540689b8c3\",\"attributes\":{\"level\":\"glyph\",\"location\":4.999999999999999,\"line_color\":\"red\",\"line_width\":3}},{\"type\":\"object\",\"name\":\"Span\",\"id\":\"3c035a87-67c8-4e3c-8768-49c871fa4a89\",\"attributes\":{\"level\":\"glyph\",\"location\":7.499999999999999,\"line_color\":\"blue\",\"line_width\":3}},{\"type\":\"object\",\"name\":\"Span\",\"id\":\"cd2bdca9-4b07-4aa2-b0d2-ae1c98efb839\",\"attributes\":{\"level\":\"glyph\",\"location\":2.4999999999999996,\"line_color\":\"blue\",\"line_width\":3}}],\"toolbar\":{\"type\":\"object\",\"name\":\"Toolbar\",\"id\":\"05847b57-8c00-48b5-828b-72a7df3007c6\",\"attributes\":{\"tools\":[{\"type\":\"object\",\"name\":\"WheelZoomTool\",\"id\":\"38a33468-68c1-467a-a568-fbebceecab17\",\"attributes\":{\"tags\":[\"hv_created\"],\"renderers\":\"auto\",\"zoom_together\":\"none\"}},{\"type\":\"object\",\"name\":\"HoverTool\",\"id\":\"167f4c19-748e-41ac-ac33-458d47c5c431\",\"attributes\":{\"tags\":[\"hv_created\"],\"renderers\":[{\"id\":\"ee5fffd6-ced2-40cf-9b67-b9d16fdf68ce\"}],\"tooltips\":[[\"post_str_b1\",\"@{post_str_b1}\"],[\"percent\",\"@{percent}\"]]}},{\"type\":\"object\",\"name\":\"SaveTool\",\"id\":\"70bdfe4f-a93e-4c03-8760-90072e7ae87b\"},{\"type\":\"object\",\"name\":\"PanTool\",\"id\":\"8ef0787e-04fb-42e5-a3c2-308e6a433b62\"},{\"type\":\"object\",\"name\":\"BoxZoomTool\",\"id\":\"424e58b3-6f2a-41d9-a992-1992b55b5c90\",\"attributes\":{\"dimensions\":\"both\",\"overlay\":{\"type\":\"object\",\"name\":\"BoxAnnotation\",\"id\":\"6e59b0de-ea5d-4390-af89-85391fe43135\",\"attributes\":{\"syncable\":false,\"line_color\":\"black\",\"line_alpha\":1.0,\"line_width\":2,\"line_dash\":[4,4],\"fill_color\":\"lightgrey\",\"fill_alpha\":0.5,\"level\":\"overlay\",\"visible\":false,\"left\":{\"type\":\"number\",\"value\":\"nan\"},\"right\":{\"type\":\"number\",\"value\":\"nan\"},\"top\":{\"type\":\"number\",\"value\":\"nan\"},\"bottom\":{\"type\":\"number\",\"value\":\"nan\"},\"left_units\":\"canvas\",\"right_units\":\"canvas\",\"top_units\":\"canvas\",\"bottom_units\":\"canvas\",\"handles\":{\"type\":\"object\",\"name\":\"BoxInteractionHandles\",\"id\":\"3da9b732-3c07-4361-8afc-1336b5fefdda\",\"attributes\":{\"all\":{\"type\":\"object\",\"name\":\"AreaVisuals\",\"id\":\"0c269ba6-20ec-48f3-bf68-1c9783279445\",\"attributes\":{\"fill_color\":\"white\",\"hover_fill_color\":\"lightgray\"}}}}}}}},{\"type\":\"object\",\"name\":\"ResetTool\",\"id\":\"106e52ff-cae0-49b6-bfe6-5115d5a32ddb\"}],\"active_drag\":{\"id\":\"8ef0787e-04fb-42e5-a3c2-308e6a433b62\"}}},\"left\":[{\"type\":\"object\",\"name\":\"LinearAxis\",\"id\":\"c279f520-00ea-477d-8eb5-89b35c0de111\",\"attributes\":{\"ticker\":{\"type\":\"object\",\"name\":\"BasicTicker\",\"id\":\"17e0a09c-d1b0-43a0-96dc-192596faa3b9\",\"attributes\":{\"mantissas\":[1,2,5]}},\"formatter\":{\"type\":\"object\",\"name\":\"BasicTickFormatter\",\"id\":\"dc395f50-6b27-40ae-a7ce-1a765b1f4383\"},\"axis_label\":\"percent\",\"major_label_policy\":{\"type\":\"object\",\"name\":\"AllLabels\",\"id\":\"4c84410f-50c2-488f-b2ff-8e5334e2d602\"}}}],\"below\":[{\"type\":\"object\",\"name\":\"CategoricalAxis\",\"id\":\"951bf031-662e-4070-8ec6-f0ac5327b820\",\"attributes\":{\"ticker\":{\"type\":\"object\",\"name\":\"CategoricalTicker\",\"id\":\"4e91b6c5-9bb1-444f-ae66-bc7852ad944c\"},\"formatter\":{\"type\":\"object\",\"name\":\"CategoricalTickFormatter\",\"id\":\"b6f6a095-69ad-4c1a-9c0b-6b535307d168\"},\"axis_label\":\"post_str_b1\",\"major_label_policy\":{\"type\":\"object\",\"name\":\"AllLabels\",\"id\":\"c0adcf94-34ee-427c-82f6-c99b0f8deadc\"}}}],\"center\":[{\"type\":\"object\",\"name\":\"Grid\",\"id\":\"f8d2fe1e-5f0e-429d-9bec-addbe16bb7e7\",\"attributes\":{\"axis\":{\"id\":\"951bf031-662e-4070-8ec6-f0ac5327b820\"},\"grid_line_color\":null}},{\"type\":\"object\",\"name\":\"Grid\",\"id\":\"99e7fca1-e3d2-4c61-8f62-c7c43a1b546c\",\"attributes\":{\"dimension\":1,\"axis\":{\"id\":\"c279f520-00ea-477d-8eb5-89b35c0de111\"},\"grid_line_color\":null}}],\"min_border_top\":10,\"min_border_bottom\":10,\"min_border_left\":10,\"min_border_right\":10,\"output_backend\":\"webgl\"}},{\"type\":\"object\",\"name\":\"Spacer\",\"id\":\"14110c07-370e-446a-81ca-a3ccc32a6fe7\",\"attributes\":{\"name\":\"HSpacer00291\",\"stylesheets\":[\"\\n:host(.pn-loading):before, .pn-loading:before {\\n  background-color: #c3c3c3;\\n  mask-size: auto calc(min(50%, 400px));\\n  -webkit-mask-size: auto calc(min(50%, 400px));\\n}\",{\"id\":\"024012a1-bef0-4f09-baa7-8f0f3fe6f228\"},{\"id\":\"c0e93fbe-d3a9-4b7b-b0c1-0650afbe3576\"},{\"id\":\"0031ef8d-e383-432c-bf5b-bf2c5628dbce\"}],\"margin\":0,\"sizing_mode\":\"stretch_width\",\"align\":\"start\"}}]}}],\"defs\":[{\"type\":\"model\",\"name\":\"ReactiveHTML1\"},{\"type\":\"model\",\"name\":\"FlexBox1\",\"properties\":[{\"name\":\"align_content\",\"kind\":\"Any\",\"default\":\"flex-start\"},{\"name\":\"align_items\",\"kind\":\"Any\",\"default\":\"flex-start\"},{\"name\":\"flex_direction\",\"kind\":\"Any\",\"default\":\"row\"},{\"name\":\"flex_wrap\",\"kind\":\"Any\",\"default\":\"wrap\"},{\"name\":\"gap\",\"kind\":\"Any\",\"default\":\"\"},{\"name\":\"justify_content\",\"kind\":\"Any\",\"default\":\"flex-start\"}]},{\"type\":\"model\",\"name\":\"FloatPanel1\",\"properties\":[{\"name\":\"config\",\"kind\":\"Any\",\"default\":{\"type\":\"map\"}},{\"name\":\"contained\",\"kind\":\"Any\",\"default\":true},{\"name\":\"position\",\"kind\":\"Any\",\"default\":\"right-top\"},{\"name\":\"offsetx\",\"kind\":\"Any\",\"default\":null},{\"name\":\"offsety\",\"kind\":\"Any\",\"default\":null},{\"name\":\"theme\",\"kind\":\"Any\",\"default\":\"primary\"},{\"name\":\"status\",\"kind\":\"Any\",\"default\":\"normalized\"}]},{\"type\":\"model\",\"name\":\"GridStack1\",\"properties\":[{\"name\":\"ncols\",\"kind\":\"Any\",\"default\":null},{\"name\":\"nrows\",\"kind\":\"Any\",\"default\":null},{\"name\":\"allow_resize\",\"kind\":\"Any\",\"default\":true},{\"name\":\"allow_drag\",\"kind\":\"Any\",\"default\":true},{\"name\":\"state\",\"kind\":\"Any\",\"default\":[]}]},{\"type\":\"model\",\"name\":\"drag1\",\"properties\":[{\"name\":\"slider_width\",\"kind\":\"Any\",\"default\":5},{\"name\":\"slider_color\",\"kind\":\"Any\",\"default\":\"black\"},{\"name\":\"value\",\"kind\":\"Any\",\"default\":50}]},{\"type\":\"model\",\"name\":\"click1\",\"properties\":[{\"name\":\"terminal_output\",\"kind\":\"Any\",\"default\":\"\"},{\"name\":\"debug_name\",\"kind\":\"Any\",\"default\":\"\"},{\"name\":\"clears\",\"kind\":\"Any\",\"default\":0}]},{\"type\":\"model\",\"name\":\"FastWrapper1\",\"properties\":[{\"name\":\"object\",\"kind\":\"Any\",\"default\":null},{\"name\":\"style\",\"kind\":\"Any\",\"default\":null}]},{\"type\":\"model\",\"name\":\"NotificationArea1\",\"properties\":[{\"name\":\"js_events\",\"kind\":\"Any\",\"default\":{\"type\":\"map\"}},{\"name\":\"max_notifications\",\"kind\":\"Any\",\"default\":5},{\"name\":\"notifications\",\"kind\":\"Any\",\"default\":[]},{\"name\":\"position\",\"kind\":\"Any\",\"default\":\"bottom-right\"},{\"name\":\"_clear\",\"kind\":\"Any\",\"default\":0},{\"name\":\"types\",\"kind\":\"Any\",\"default\":[{\"type\":\"map\",\"entries\":[[\"type\",\"warning\"],[\"background\",\"#ffc107\"],[\"icon\",{\"type\":\"map\",\"entries\":[[\"className\",\"fas fa-exclamation-triangle\"],[\"tagName\",\"i\"],[\"color\",\"white\"]]}]]},{\"type\":\"map\",\"entries\":[[\"type\",\"info\"],[\"background\",\"#007bff\"],[\"icon\",{\"type\":\"map\",\"entries\":[[\"className\",\"fas fa-info-circle\"],[\"tagName\",\"i\"],[\"color\",\"white\"]]}]]}]}]},{\"type\":\"model\",\"name\":\"Notification\",\"properties\":[{\"name\":\"background\",\"kind\":\"Any\",\"default\":null},{\"name\":\"duration\",\"kind\":\"Any\",\"default\":3000},{\"name\":\"icon\",\"kind\":\"Any\",\"default\":null},{\"name\":\"message\",\"kind\":\"Any\",\"default\":\"\"},{\"name\":\"notification_type\",\"kind\":\"Any\",\"default\":null},{\"name\":\"_rendered\",\"kind\":\"Any\",\"default\":false},{\"name\":\"_destroyed\",\"kind\":\"Any\",\"default\":false}]},{\"type\":\"model\",\"name\":\"TemplateActions1\",\"properties\":[{\"name\":\"open_modal\",\"kind\":\"Any\",\"default\":0},{\"name\":\"close_modal\",\"kind\":\"Any\",\"default\":0}]},{\"type\":\"model\",\"name\":\"BootstrapTemplateActions1\",\"properties\":[{\"name\":\"open_modal\",\"kind\":\"Any\",\"default\":0},{\"name\":\"close_modal\",\"kind\":\"Any\",\"default\":0}]},{\"type\":\"model\",\"name\":\"TemplateEditor1\",\"properties\":[{\"name\":\"layout\",\"kind\":\"Any\",\"default\":[]}]},{\"type\":\"model\",\"name\":\"MaterialTemplateActions1\",\"properties\":[{\"name\":\"open_modal\",\"kind\":\"Any\",\"default\":0},{\"name\":\"close_modal\",\"kind\":\"Any\",\"default\":0}]},{\"type\":\"model\",\"name\":\"ReactiveESM1\",\"properties\":[{\"name\":\"esm_constants\",\"kind\":\"Any\",\"default\":{\"type\":\"map\"}}]},{\"type\":\"model\",\"name\":\"JSComponent1\",\"properties\":[{\"name\":\"esm_constants\",\"kind\":\"Any\",\"default\":{\"type\":\"map\"}}]},{\"type\":\"model\",\"name\":\"ReactComponent1\",\"properties\":[{\"name\":\"esm_constants\",\"kind\":\"Any\",\"default\":{\"type\":\"map\"}}]},{\"type\":\"model\",\"name\":\"AnyWidgetComponent1\",\"properties\":[{\"name\":\"esm_constants\",\"kind\":\"Any\",\"default\":{\"type\":\"map\"}}]},{\"type\":\"model\",\"name\":\"request_value1\",\"properties\":[{\"name\":\"fill\",\"kind\":\"Any\",\"default\":\"none\"},{\"name\":\"_synced\",\"kind\":\"Any\",\"default\":null},{\"name\":\"_request_sync\",\"kind\":\"Any\",\"default\":0}]}]}};\n",
       "  var render_items = [{\"docid\":\"f7f58aca-1038-42d3-bc74-9b24f0fe820f\",\"roots\":{\"67cb3645-190e-4582-841e-330281492aa7\":\"c4811c67-5f4a-42f2-9169-15c2686336b9\"},\"root_ids\":[\"67cb3645-190e-4582-841e-330281492aa7\"]}];\n",
       "  var docs = Object.values(docs_json)\n",
       "  if (!docs) {\n",
       "    return\n",
       "  }\n",
       "  const py_version = docs[0].version.replace('rc', '-rc.').replace('.dev', '-dev.')\n",
       "  async function embed_document(root) {\n",
       "    var Bokeh = get_bokeh(root)\n",
       "    await Bokeh.embed.embed_items_notebook(docs_json, render_items);\n",
       "    for (const render_item of render_items) {\n",
       "      for (const root_id of render_item.root_ids) {\n",
       "\tconst id_el = document.getElementById(root_id)\n",
       "\tif (id_el.children.length && id_el.children[0].hasAttribute('data-root-id')) {\n",
       "\t  const root_el = id_el.children[0]\n",
       "\t  root_el.id = root_el.id + '-rendered'\n",
       "\t  for (const child of root_el.children) {\n",
       "            // Ensure JupyterLab does not capture keyboard shortcuts\n",
       "            // see: https://jupyterlab.readthedocs.io/en/4.1.x/extension/notebook.html#keyboard-interaction-model\n",
       "\t    child.setAttribute('data-lm-suppress-shortcuts', 'true')\n",
       "\t  }\n",
       "\t}\n",
       "      }\n",
       "    }\n",
       "  }\n",
       "  function get_bokeh(root) {\n",
       "    if (root.Bokeh === undefined) {\n",
       "      return null\n",
       "    } else if (root.Bokeh.version !== py_version) {\n",
       "      if (root.Bokeh.versions === undefined || !root.Bokeh.versions.has(py_version)) {\n",
       "\treturn null\n",
       "      }\n",
       "      return root.Bokeh.versions.get(py_version);\n",
       "    } else if (root.Bokeh.version === py_version) {\n",
       "      return root.Bokeh\n",
       "    }\n",
       "    return null\n",
       "  }\n",
       "  function is_loaded(root) {\n",
       "    var Bokeh = get_bokeh(root)\n",
       "    return (Bokeh != null && Bokeh.Panel !== undefined)\n",
       "  }\n",
       "  if (is_loaded(root)) {\n",
       "    embed_document(root);\n",
       "  } else {\n",
       "    var attempts = 0;\n",
       "    var timer = setInterval(function(root) {\n",
       "      if (is_loaded(root)) {\n",
       "        clearInterval(timer);\n",
       "        embed_document(root);\n",
       "      } else if (document.readyState == \"complete\") {\n",
       "        attempts++;\n",
       "        if (attempts > 200) {\n",
       "          clearInterval(timer);\n",
       "\t  var Bokeh = get_bokeh(root)\n",
       "\t  if (Bokeh == null || Bokeh.Panel == null) {\n",
       "            console.warn(\"Panel: ERROR: Unable to run Panel code because Bokeh or Panel library is missing\");\n",
       "\t  } else {\n",
       "\t    console.warn(\"Panel: WARNING: Attempting to render but not all required libraries could be resolved.\")\n",
       "\t    embed_document(root)\n",
       "\t  }\n",
       "        }\n",
       "      }\n",
       "    }, 25, root)\n",
       "  }\n",
       "})(window);</script>"
      ],
      "text/plain": [
       ":Overlay\n",
       "   .Bars.I    :Bars   [post_str_b1]   (percent)\n",
       "   .HLine.I   :HLine   [x,y]\n",
       "   .HLine.II  :HLine   [x,y]\n",
       "   .HLine.III :HLine   [x,y]"
      ]
     },
     "metadata": {
      "application/vnd.holoviews_exec.v0+json": {
       "id": "67cb3645-190e-4582-841e-330281492aa7"
      }
     },
     "output_type": "display_data"
    },
    {
     "name": "stdout",
     "output_type": "stream",
     "text": [
      "df_10_last FOR str_b1 = 10\n"
     ]
    },
    {
     "data": {
      "text/html": [
       "<div><style>\n",
       ".dataframe > thead > tr,\n",
       ".dataframe > tbody > tr {\n",
       "  text-align: right;\n",
       "  white-space: pre-wrap;\n",
       "}\n",
       "</style>\n",
       "<small>shape: (10, 24)</small><table border=\"1\" class=\"dataframe\"><thead><tr><th>fecha</th><th>sorteo</th><th>bolillas</th><th>id</th><th>combo</th><th>b1</th><th>b2</th><th>b3</th><th>b4</th><th>b5</th><th>str_b1</th><th>str_b2</th><th>str_b3</th><th>str_b4</th><th>str_b5</th><th>post_str_b1</th><th>post_str_b2</th><th>post_str_b3</th><th>post_str_b4</th><th>post_str_blast</th><th>is_rare_combination</th><th>reason</th><th>jumps_map</th><th>unijump</th></tr><tr><td>str</td><td>str</td><td>str</td><td>str</td><td>array[u8, 5]</td><td>u8</td><td>u8</td><td>u8</td><td>u8</td><td>u8</td><td>str</td><td>str</td><td>str</td><td>str</td><td>str</td><td>str</td><td>str</td><td>str</td><td>str</td><td>str</td><td>bool</td><td>u8</td><td>str</td><td>i64</td></tr></thead><tbody><tr><td>&quot;10/04/2025&quot;</td><td>&quot;4182&quot;</td><td>&quot;30 33 34 10 21&quot;</td><td>&quot;1021303334&quot;</td><td>[10, 21, … 34]</td><td>10</td><td>21</td><td>30</td><td>33</td><td>34</td><td>&quot;10&quot;</td><td>&quot;21&quot;</td><td>&quot;30&quot;</td><td>&quot;33&quot;</td><td>&quot;34&quot;</td><td>&quot;01&quot;</td><td>&quot;08&quot;</td><td>&quot;09&quot;</td><td>&quot;10&quot;</td><td>&quot;12&quot;</td><td>false</td><td>0</td><td>&quot;11_09_03_01&quot;</td><td>8</td></tr><tr><td>&quot;22/03/2025&quot;</td><td>&quot;4163&quot;</td><td>&quot;19 32 17 10 22&quot;</td><td>&quot;1017192232&quot;</td><td>[10, 17, … 32]</td><td>10</td><td>17</td><td>19</td><td>22</td><td>32</td><td>&quot;10&quot;</td><td>&quot;17&quot;</td><td>&quot;19&quot;</td><td>&quot;22&quot;</td><td>&quot;32&quot;</td><td>&quot;04&quot;</td><td>&quot;08&quot;</td><td>&quot;10&quot;</td><td>&quot;13&quot;</td><td>&quot;15&quot;</td><td>false</td><td>0</td><td>&quot;07_02_03_10&quot;</td><td>0</td></tr><tr><td>&quot;16/03/2025&quot;</td><td>&quot;4157&quot;</td><td>&quot;26 10 21 16 30&quot;</td><td>&quot;1016212630&quot;</td><td>[10, 16, … 30]</td><td>10</td><td>16</td><td>21</td><td>26</td><td>30</td><td>&quot;10&quot;</td><td>&quot;16&quot;</td><td>&quot;21&quot;</td><td>&quot;26&quot;</td><td>&quot;30&quot;</td><td>&quot;04&quot;</td><td>&quot;08&quot;</td><td>&quot;20&quot;</td><td>&quot;24&quot;</td><td>&quot;30&quot;</td><td>true</td><td>8</td><td>&quot;06_05_05_04&quot;</td><td>-2</td></tr><tr><td>&quot;21/02/2025&quot;</td><td>&quot;4134&quot;</td><td>&quot;32 28 22 10 30&quot;</td><td>&quot;1022283032&quot;</td><td>[10, 22, … 32]</td><td>10</td><td>22</td><td>28</td><td>30</td><td>32</td><td>&quot;10&quot;</td><td>&quot;22&quot;</td><td>&quot;28&quot;</td><td>&quot;30&quot;</td><td>&quot;32&quot;</td><td>&quot;03&quot;</td><td>&quot;15&quot;</td><td>&quot;24&quot;</td><td>&quot;33&quot;</td><td>&quot;34&quot;</td><td>true</td><td>12</td><td>&quot;12_06_02_02&quot;</td><td>2</td></tr><tr><td>&quot;30/12/2024&quot;</td><td>&quot;4081&quot;</td><td>&quot;12 17 31 10 32&quot;</td><td>&quot;1012173132&quot;</td><td>[10, 12, … 32]</td><td>10</td><td>12</td><td>17</td><td>31</td><td>32</td><td>&quot;10&quot;</td><td>&quot;12&quot;</td><td>&quot;17&quot;</td><td>&quot;31&quot;</td><td>&quot;32&quot;</td><td>&quot;01&quot;</td><td>&quot;13&quot;</td><td>&quot;15&quot;</td><td>&quot;16&quot;</td><td>&quot;24&quot;</td><td>false</td><td>0</td><td>&quot;02_05_14_01&quot;</td><td>-28</td></tr><tr><td>&quot;26/12/2024&quot;</td><td>&quot;4077&quot;</td><td>&quot;25 10 30 32 28&quot;</td><td>&quot;1025283032&quot;</td><td>[10, 25, … 32]</td><td>10</td><td>25</td><td>28</td><td>30</td><td>32</td><td>&quot;10&quot;</td><td>&quot;25&quot;</td><td>&quot;28&quot;</td><td>&quot;30&quot;</td><td>&quot;32&quot;</td><td>&quot;12&quot;</td><td>&quot;18&quot;</td><td>&quot;20&quot;</td><td>&quot;23&quot;</td><td>&quot;28&quot;</td><td>true</td><td>8</td><td>&quot;15_03_02_02&quot;</td><td>-10</td></tr><tr><td>&quot;09/12/2024&quot;</td><td>&quot;4060&quot;</td><td>&quot;13 19 10 15 12&quot;</td><td>&quot;1012131519&quot;</td><td>[10, 12, … 19]</td><td>10</td><td>12</td><td>13</td><td>15</td><td>19</td><td>&quot;10&quot;</td><td>&quot;12&quot;</td><td>&quot;13&quot;</td><td>&quot;15&quot;</td><td>&quot;19&quot;</td><td>&quot;05&quot;</td><td>&quot;08&quot;</td><td>&quot;15&quot;</td><td>&quot;20&quot;</td><td>&quot;29&quot;</td><td>false</td><td>0</td><td>&quot;02_01_02_04&quot;</td><td>-1</td></tr><tr><td>&quot;08/12/2024&quot;</td><td>&quot;4059&quot;</td><td>&quot;25 20 14 10 26&quot;</td><td>&quot;1014202526&quot;</td><td>[10, 14, … 26]</td><td>10</td><td>14</td><td>20</td><td>25</td><td>26</td><td>&quot;10&quot;</td><td>&quot;14&quot;</td><td>&quot;20&quot;</td><td>&quot;25&quot;</td><td>&quot;26&quot;</td><td>&quot;10&quot;</td><td>&quot;12&quot;</td><td>&quot;13&quot;</td><td>&quot;15&quot;</td><td>&quot;19&quot;</td><td>true</td><td>16</td><td>&quot;04_06_05_01&quot;</td><td>0</td></tr><tr><td>&quot;01/12/2024&quot;</td><td>&quot;4052&quot;</td><td>&quot;10 31 20 30 26&quot;</td><td>&quot;1020263031&quot;</td><td>[10, 20, … 31]</td><td>10</td><td>20</td><td>26</td><td>30</td><td>31</td><td>&quot;10&quot;</td><td>&quot;20&quot;</td><td>&quot;26&quot;</td><td>&quot;30&quot;</td><td>&quot;31&quot;</td><td>&quot;03&quot;</td><td>&quot;05&quot;</td><td>&quot;16&quot;</td><td>&quot;26&quot;</td><td>&quot;31&quot;</td><td>false</td><td>0</td><td>&quot;10_06_04_01&quot;</td><td>-3</td></tr><tr><td>&quot;28/10/2024&quot;</td><td>&quot;4018&quot;</td><td>&quot;17 33 10 21 34&quot;</td><td>&quot;1017213334&quot;</td><td>[10, 17, … 34]</td><td>10</td><td>17</td><td>21</td><td>33</td><td>34</td><td>&quot;10&quot;</td><td>&quot;17&quot;</td><td>&quot;21&quot;</td><td>&quot;33&quot;</td><td>&quot;34&quot;</td><td>&quot;06&quot;</td><td>&quot;14&quot;</td><td>&quot;15&quot;</td><td>&quot;21&quot;</td><td>&quot;27&quot;</td><td>false</td><td>0</td><td>&quot;07_04_12_01&quot;</td><td>-30</td></tr></tbody></table></div>"
      ],
      "text/plain": [
       "shape: (10, 24)\n",
       "┌────────────┬────────┬─────────────┬────────────┬───┬─────────────┬────────┬────────────┬─────────┐\n",
       "│ fecha      ┆ sorteo ┆ bolillas    ┆ id         ┆ … ┆ is_rare_com ┆ reason ┆ jumps_map  ┆ unijump │\n",
       "│ ---        ┆ ---    ┆ ---         ┆ ---        ┆   ┆ bination    ┆ ---    ┆ ---        ┆ ---     │\n",
       "│ str        ┆ str    ┆ str         ┆ str        ┆   ┆ ---         ┆ u8     ┆ str        ┆ i64     │\n",
       "│            ┆        ┆             ┆            ┆   ┆ bool        ┆        ┆            ┆         │\n",
       "╞════════════╪════════╪═════════════╪════════════╪═══╪═════════════╪════════╪════════════╪═════════╡\n",
       "│ 10/04/2025 ┆ 4182   ┆ 30 33 34 10 ┆ 1021303334 ┆ … ┆ false       ┆ 0      ┆ 11_09_03_0 ┆ 8       │\n",
       "│            ┆        ┆ 21          ┆            ┆   ┆             ┆        ┆ 1          ┆         │\n",
       "│ 22/03/2025 ┆ 4163   ┆ 19 32 17 10 ┆ 1017192232 ┆ … ┆ false       ┆ 0      ┆ 07_02_03_1 ┆ 0       │\n",
       "│            ┆        ┆ 22          ┆            ┆   ┆             ┆        ┆ 0          ┆         │\n",
       "│ 16/03/2025 ┆ 4157   ┆ 26 10 21 16 ┆ 1016212630 ┆ … ┆ true        ┆ 8      ┆ 06_05_05_0 ┆ -2      │\n",
       "│            ┆        ┆ 30          ┆            ┆   ┆             ┆        ┆ 4          ┆         │\n",
       "│ 21/02/2025 ┆ 4134   ┆ 32 28 22 10 ┆ 1022283032 ┆ … ┆ true        ┆ 12     ┆ 12_06_02_0 ┆ 2       │\n",
       "│            ┆        ┆ 30          ┆            ┆   ┆             ┆        ┆ 2          ┆         │\n",
       "│ 30/12/2024 ┆ 4081   ┆ 12 17 31 10 ┆ 1012173132 ┆ … ┆ false       ┆ 0      ┆ 02_05_14_0 ┆ -28     │\n",
       "│            ┆        ┆ 32          ┆            ┆   ┆             ┆        ┆ 1          ┆         │\n",
       "│ 26/12/2024 ┆ 4077   ┆ 25 10 30 32 ┆ 1025283032 ┆ … ┆ true        ┆ 8      ┆ 15_03_02_0 ┆ -10     │\n",
       "│            ┆        ┆ 28          ┆            ┆   ┆             ┆        ┆ 2          ┆         │\n",
       "│ 09/12/2024 ┆ 4060   ┆ 13 19 10 15 ┆ 1012131519 ┆ … ┆ false       ┆ 0      ┆ 02_01_02_0 ┆ -1      │\n",
       "│            ┆        ┆ 12          ┆            ┆   ┆             ┆        ┆ 4          ┆         │\n",
       "│ 08/12/2024 ┆ 4059   ┆ 25 20 14 10 ┆ 1014202526 ┆ … ┆ true        ┆ 16     ┆ 04_06_05_0 ┆ 0       │\n",
       "│            ┆        ┆ 26          ┆            ┆   ┆             ┆        ┆ 1          ┆         │\n",
       "│ 01/12/2024 ┆ 4052   ┆ 10 31 20 30 ┆ 1020263031 ┆ … ┆ false       ┆ 0      ┆ 10_06_04_0 ┆ -3      │\n",
       "│            ┆        ┆ 26          ┆            ┆   ┆             ┆        ┆ 1          ┆         │\n",
       "│ 28/10/2024 ┆ 4018   ┆ 17 33 10 21 ┆ 1017213334 ┆ … ┆ false       ┆ 0      ┆ 07_04_12_0 ┆ -30     │\n",
       "│            ┆        ┆ 34          ┆            ┆   ┆             ┆        ┆ 1          ┆         │\n",
       "└────────────┴────────┴─────────────┴────────────┴───┴─────────────┴────────┴────────────┴─────────┘"
      ]
     },
     "metadata": {},
     "output_type": "display_data"
    },
    {
     "name": "stdout",
     "output_type": "stream",
     "text": [
      "df_jumps_map FOR str_b1 = 10\n"
     ]
    },
    {
     "data": {
      "text/html": [
       "<div><style>\n",
       ".dataframe > thead > tr,\n",
       ".dataframe > tbody > tr {\n",
       "  text-align: right;\n",
       "  white-space: pre-wrap;\n",
       "}\n",
       "</style>\n",
       "<small>shape: (296, 2)</small><table border=\"1\" class=\"dataframe\"><thead><tr><th>jumps_map</th><th>count</th></tr><tr><td>str</td><td>u32</td></tr></thead><tbody><tr><td>&quot;01_02_04_14&quot;</td><td>2</td></tr><tr><td>&quot;03_07_03_12&quot;</td><td>2</td></tr><tr><td>&quot;01_04_13_07&quot;</td><td>2</td></tr><tr><td>&quot;02_01_02_04&quot;</td><td>2</td></tr><tr><td>&quot;09_03_02_03&quot;</td><td>2</td></tr><tr><td>&hellip;</td><td>&hellip;</td></tr><tr><td>&quot;01_12_06_02&quot;</td><td>1</td></tr><tr><td>&quot;07_07_01_02&quot;</td><td>1</td></tr><tr><td>&quot;02_05_06_10&quot;</td><td>1</td></tr><tr><td>&quot;02_09_09_05&quot;</td><td>1</td></tr><tr><td>&quot;03_11_02_01&quot;</td><td>1</td></tr></tbody></table></div>"
      ],
      "text/plain": [
       "shape: (296, 2)\n",
       "┌─────────────┬───────┐\n",
       "│ jumps_map   ┆ count │\n",
       "│ ---         ┆ ---   │\n",
       "│ str         ┆ u32   │\n",
       "╞═════════════╪═══════╡\n",
       "│ 01_02_04_14 ┆ 2     │\n",
       "│ 03_07_03_12 ┆ 2     │\n",
       "│ 01_04_13_07 ┆ 2     │\n",
       "│ 02_01_02_04 ┆ 2     │\n",
       "│ 09_03_02_03 ┆ 2     │\n",
       "│ …           ┆ …     │\n",
       "│ 01_12_06_02 ┆ 1     │\n",
       "│ 07_07_01_02 ┆ 1     │\n",
       "│ 02_05_06_10 ┆ 1     │\n",
       "│ 02_09_09_05 ┆ 1     │\n",
       "│ 03_11_02_01 ┆ 1     │\n",
       "└─────────────┴───────┘"
      ]
     },
     "metadata": {},
     "output_type": "display_data"
    },
    {
     "name": "stdout",
     "output_type": "stream",
     "text": [
      "df_unijump FOR str_b1 = 10\n"
     ]
    },
    {
     "data": {
      "text/html": [
       "<div><style>\n",
       ".dataframe > thead > tr,\n",
       ".dataframe > tbody > tr {\n",
       "  text-align: right;\n",
       "  white-space: pre-wrap;\n",
       "}\n",
       "</style>\n",
       "<small>shape: (78, 2)</small><table border=\"1\" class=\"dataframe\"><thead><tr><th>unijump</th><th>count</th></tr><tr><td>i64</td><td>u32</td></tr></thead><tbody><tr><td>-3</td><td>12</td></tr><tr><td>-13</td><td>12</td></tr><tr><td>13</td><td>11</td></tr><tr><td>-1</td><td>11</td></tr><tr><td>-7</td><td>11</td></tr><tr><td>&hellip;</td><td>&hellip;</td></tr><tr><td>-39</td><td>1</td></tr><tr><td>-47</td><td>1</td></tr><tr><td>52</td><td>1</td></tr><tr><td>18</td><td>1</td></tr><tr><td>-24</td><td>1</td></tr></tbody></table></div>"
      ],
      "text/plain": [
       "shape: (78, 2)\n",
       "┌─────────┬───────┐\n",
       "│ unijump ┆ count │\n",
       "│ ---     ┆ ---   │\n",
       "│ i64     ┆ u32   │\n",
       "╞═════════╪═══════╡\n",
       "│ -3      ┆ 12    │\n",
       "│ -13     ┆ 12    │\n",
       "│ 13      ┆ 11    │\n",
       "│ -1      ┆ 11    │\n",
       "│ -7      ┆ 11    │\n",
       "│ …       ┆ …     │\n",
       "│ -39     ┆ 1     │\n",
       "│ -47     ┆ 1     │\n",
       "│ 52      ┆ 1     │\n",
       "│ 18      ┆ 1     │\n",
       "│ -24     ┆ 1     │\n",
       "└─────────┴───────┘"
      ]
     },
     "metadata": {},
     "output_type": "display_data"
    }
   ],
   "source": [
    "possible_b1, exclude_jump_maps_b1 = plot_post_col(col='str_b1', post_col='post_str_b1')"
   ]
  },
  {
   "cell_type": "code",
   "execution_count": 8,
   "metadata": {},
   "outputs": [
    {
     "name": "stdout",
     "output_type": "stream",
     "text": [
      "Setting test_value='15'\n",
      "df_viz FOR str_b2 = 15\n"
     ]
    },
    {
     "data": {
      "text/html": [
       "<div><style>\n",
       ".dataframe > thead > tr,\n",
       ".dataframe > tbody > tr {\n",
       "  text-align: right;\n",
       "  white-space: pre-wrap;\n",
       "}\n",
       "</style>\n",
       "<small>shape: (27, 3)</small><table border=\"1\" class=\"dataframe\"><thead><tr><th>post_str_b2</th><th>count</th><th>percent</th></tr><tr><td>str</td><td>u32</td><td>f64</td></tr></thead><tbody><tr><td>&quot;09&quot;</td><td>32</td><td>8.39895</td></tr><tr><td>&quot;07&quot;</td><td>29</td><td>7.611549</td></tr><tr><td>&quot;12&quot;</td><td>26</td><td>6.824147</td></tr><tr><td>&quot;14&quot;</td><td>26</td><td>6.824147</td></tr><tr><td>&quot;13&quot;</td><td>23</td><td>6.036745</td></tr><tr><td>&hellip;</td><td>&hellip;</td><td>&hellip;</td></tr><tr><td>&quot;23&quot;</td><td>5</td><td>1.312336</td></tr><tr><td>&quot;24&quot;</td><td>2</td><td>0.524934</td></tr><tr><td>&quot;26&quot;</td><td>1</td><td>0.262467</td></tr><tr><td>&quot;28&quot;</td><td>1</td><td>0.262467</td></tr><tr><td>&quot;27&quot;</td><td>1</td><td>0.262467</td></tr></tbody></table></div>"
      ],
      "text/plain": [
       "shape: (27, 3)\n",
       "┌─────────────┬───────┬──────────┐\n",
       "│ post_str_b2 ┆ count ┆ percent  │\n",
       "│ ---         ┆ ---   ┆ ---      │\n",
       "│ str         ┆ u32   ┆ f64      │\n",
       "╞═════════════╪═══════╪══════════╡\n",
       "│ 09          ┆ 32    ┆ 8.39895  │\n",
       "│ 07          ┆ 29    ┆ 7.611549 │\n",
       "│ 12          ┆ 26    ┆ 6.824147 │\n",
       "│ 14          ┆ 26    ┆ 6.824147 │\n",
       "│ 13          ┆ 23    ┆ 6.036745 │\n",
       "│ …           ┆ …     ┆ …        │\n",
       "│ 23          ┆ 5     ┆ 1.312336 │\n",
       "│ 24          ┆ 2     ┆ 0.524934 │\n",
       "│ 26          ┆ 1     ┆ 0.262467 │\n",
       "│ 28          ┆ 1     ┆ 0.262467 │\n",
       "│ 27          ┆ 1     ┆ 0.262467 │\n",
       "└─────────────┴───────┴──────────┘"
      ]
     },
     "metadata": {},
     "output_type": "display_data"
    },
    {
     "data": {},
     "metadata": {},
     "output_type": "display_data"
    },
    {
     "data": {
      "application/vnd.holoviews_exec.v0+json": "",
      "text/html": [
       "<div id='51440dd9-61d9-4c9d-8b34-f94b5da514c5'>\n",
       "  <div id=\"da5493ba-4665-4591-af27-3b2536eb2b88\" data-root-id=\"51440dd9-61d9-4c9d-8b34-f94b5da514c5\" style=\"display: contents;\"></div>\n",
       "</div>\n",
       "<script type=\"application/javascript\">(function(root) {\n",
       "  var docs_json = {\"5d7153d3-83dc-4b51-b1fe-31cb55e6adf3\":{\"version\":\"3.7.2\",\"title\":\"Bokeh Application\",\"roots\":[{\"type\":\"object\",\"name\":\"Row\",\"id\":\"51440dd9-61d9-4c9d-8b34-f94b5da514c5\",\"attributes\":{\"name\":\"Row00357\",\"tags\":[\"embedded\"],\"stylesheets\":[\"\\n:host(.pn-loading):before, .pn-loading:before {\\n  background-color: #c3c3c3;\\n  mask-size: auto calc(min(50%, 400px));\\n  -webkit-mask-size: auto calc(min(50%, 400px));\\n}\",{\"type\":\"object\",\"name\":\"ImportedStyleSheet\",\"id\":\"186a9484-7d89-46ee-8ebb-75644d904f28\",\"attributes\":{\"url\":\"https://cdn.holoviz.org/panel/1.6.2/dist/css/loading.css\"}},{\"type\":\"object\",\"name\":\"ImportedStyleSheet\",\"id\":\"68f66e3b-7aa0-4414-bdc7-bd11cc72760d\",\"attributes\":{\"url\":\"https://cdn.holoviz.org/panel/1.6.2/dist/css/listpanel.css\"}},{\"type\":\"object\",\"name\":\"ImportedStyleSheet\",\"id\":\"9a64528d-1203-4f4f-ab50-43a7fff6498e\",\"attributes\":{\"url\":\"https://cdn.holoviz.org/panel/1.6.2/dist/bundled/theme/default.css\"}},{\"type\":\"object\",\"name\":\"ImportedStyleSheet\",\"id\":\"05334f9b-b17a-4f1d-b12a-2c9bd835c21a\",\"attributes\":{\"url\":\"https://cdn.holoviz.org/panel/1.6.2/dist/bundled/theme/native.css\"}}],\"min_width\":700,\"margin\":0,\"sizing_mode\":\"stretch_width\",\"align\":\"start\",\"children\":[{\"type\":\"object\",\"name\":\"Spacer\",\"id\":\"fa432a13-c6c0-4191-b011-6384aac0bc2b\",\"attributes\":{\"name\":\"HSpacer00361\",\"stylesheets\":[\"\\n:host(.pn-loading):before, .pn-loading:before {\\n  background-color: #c3c3c3;\\n  mask-size: auto calc(min(50%, 400px));\\n  -webkit-mask-size: auto calc(min(50%, 400px));\\n}\",{\"id\":\"186a9484-7d89-46ee-8ebb-75644d904f28\"},{\"id\":\"9a64528d-1203-4f4f-ab50-43a7fff6498e\"},{\"id\":\"05334f9b-b17a-4f1d-b12a-2c9bd835c21a\"}],\"margin\":0,\"sizing_mode\":\"stretch_width\",\"align\":\"start\"}},{\"type\":\"object\",\"name\":\"Figure\",\"id\":\"a262b3af-1bd4-4cc0-9ff4-c94dd8835c31\",\"attributes\":{\"width\":700,\"height\":300,\"margin\":[5,10],\"sizing_mode\":\"fixed\",\"align\":\"start\",\"x_range\":{\"type\":\"object\",\"name\":\"FactorRange\",\"id\":\"98517200-7058-461d-a94c-8170c9ae4d7f\",\"attributes\":{\"name\":\"post_str_b2\",\"tags\":[[[\"post_str_b2\",null]],[]],\"factors\":[\"09\",\"07\",\"12\",\"14\",\"13\",\"08\",\"05\",\"11\",\"15\",\"10\",\"18\",\"16\",\"06\",\"04\",\"17\",\"03\",\"21\",\"22\",\"25\",\"20\",\"02\",\"19\",\"23\",\"24\",\"26\",\"28\",\"27\"]}},\"y_range\":{\"type\":\"object\",\"name\":\"Range1d\",\"id\":\"63ba401b-ad48-43bd-9b8d-d613456d37bb\",\"attributes\":{\"name\":\"percent\",\"tags\":[[[\"percent\",null]],{\"type\":\"map\",\"entries\":[[\"invert_yaxis\",false],[\"autorange\",false]]}],\"end\":9.21259842519685,\"reset_start\":0.0,\"reset_end\":9.21259842519685}},\"x_scale\":{\"type\":\"object\",\"name\":\"CategoricalScale\",\"id\":\"204aff7b-dec9-46c7-bbd3-10f0c937bf69\"},\"y_scale\":{\"type\":\"object\",\"name\":\"LinearScale\",\"id\":\"33938407-eee7-40d2-afb3-390a3e97161d\"},\"title\":{\"type\":\"object\",\"name\":\"Title\",\"id\":\"da72f189-e3f1-4468-bc9d-7ddf98fccdcd\",\"attributes\":{\"text_color\":\"black\",\"text_font_size\":\"12pt\"}},\"renderers\":[{\"type\":\"object\",\"name\":\"GlyphRenderer\",\"id\":\"2682f89a-7744-469b-a1f5-8db05721f0a3\",\"attributes\":{\"data_source\":{\"type\":\"object\",\"name\":\"ColumnDataSource\",\"id\":\"7a621da2-a726-4f16-98b3-9ada733837ab\",\"attributes\":{\"selected\":{\"type\":\"object\",\"name\":\"Selection\",\"id\":\"699b4d1d-8505-4d49-9bb3-611e60e6aabb\",\"attributes\":{\"indices\":[],\"line_indices\":[]}},\"selection_policy\":{\"type\":\"object\",\"name\":\"UnionRenderers\",\"id\":\"ca83c100-0734-4ad0-b4f5-4562b0fc09e2\"},\"data\":{\"type\":\"map\",\"entries\":[[\"post_str_b2\",[\"09\",\"07\",\"12\",\"14\",\"13\",\"08\",\"05\",\"11\",\"15\",\"10\",\"18\",\"16\",\"06\",\"04\",\"17\",\"03\",\"21\",\"22\",\"25\",\"20\",\"02\",\"19\",\"23\",\"24\",\"26\",\"28\",\"27\"]],[\"percent\",{\"type\":\"ndarray\",\"array\":{\"type\":\"bytes\",\"data\":\"M8QMMUPMIECcI+fIOXIeQNO+tC/tSxtA0760L+1LG0AJWoKWoCUYQAlagpagJRhAxo1xY9wYF0BA9U/9U/8UQED1T/1T/xRAQPVP/VP/FEC5XC6Xy+USQHaQHWQH2RFAdpAdZAfZEUBZV9aVdWUNQEwmk8lkMglAxo1xY9wYB0C5XC6Xy+UCQFlX1pV1Zf0/WVfWlXVl/T9ZV9aVdWX9P0wmk8lkMvk/QPVP/VP/9D9A9U/9U//0PzPEDDFDzOA/M8QMMUPM0D8zxAwxQ8zQPzPEDDFDzNA/\"},\"shape\":[27],\"dtype\":\"float64\",\"order\":\"little\"}]]}}},\"view\":{\"type\":\"object\",\"name\":\"CDSView\",\"id\":\"32fd0b69-7420-4a8e-9de3-6e3b88d4a8bd\",\"attributes\":{\"filter\":{\"type\":\"object\",\"name\":\"AllIndices\",\"id\":\"a6f64793-1efe-4e37-a991-3c0b6e09f247\"}}},\"glyph\":{\"type\":\"object\",\"name\":\"VBar\",\"id\":\"d4cd28a7-3bcd-464e-aa46-18cedc03aed5\",\"attributes\":{\"tags\":[\"apply_ranges\"],\"x\":{\"type\":\"field\",\"field\":\"post_str_b2\"},\"width\":{\"type\":\"value\",\"value\":0.8},\"top\":{\"type\":\"field\",\"field\":\"percent\"},\"fill_color\":{\"type\":\"value\",\"value\":\"#30a2da\"},\"hatch_color\":{\"type\":\"value\",\"value\":\"#30a2da\"}}},\"selection_glyph\":{\"type\":\"object\",\"name\":\"VBar\",\"id\":\"b46a0e57-0127-4bfe-827c-65603e6dfb7e\",\"attributes\":{\"tags\":[\"apply_ranges\"],\"x\":{\"type\":\"field\",\"field\":\"post_str_b2\"},\"width\":{\"type\":\"value\",\"value\":0.8},\"bottom\":{\"type\":\"value\",\"value\":0},\"top\":{\"type\":\"field\",\"field\":\"percent\"},\"line_color\":{\"type\":\"value\",\"value\":\"black\"},\"line_alpha\":{\"type\":\"value\",\"value\":1.0},\"line_width\":{\"type\":\"value\",\"value\":1},\"line_join\":{\"type\":\"value\",\"value\":\"bevel\"},\"line_cap\":{\"type\":\"value\",\"value\":\"butt\"},\"line_dash\":{\"type\":\"value\",\"value\":[]},\"line_dash_offset\":{\"type\":\"value\",\"value\":0},\"fill_color\":{\"type\":\"value\",\"value\":\"#30a2da\"},\"fill_alpha\":{\"type\":\"value\",\"value\":1.0},\"hatch_color\":{\"type\":\"value\",\"value\":\"#30a2da\"},\"hatch_alpha\":{\"type\":\"value\",\"value\":1.0},\"hatch_scale\":{\"type\":\"value\",\"value\":12.0},\"hatch_pattern\":{\"type\":\"value\",\"value\":null},\"hatch_weight\":{\"type\":\"value\",\"value\":1.0}}},\"nonselection_glyph\":{\"type\":\"object\",\"name\":\"VBar\",\"id\":\"ea0fdbd0-0ddd-481a-a7ce-e3c91ffaaa75\",\"attributes\":{\"tags\":[\"apply_ranges\"],\"x\":{\"type\":\"field\",\"field\":\"post_str_b2\"},\"width\":{\"type\":\"value\",\"value\":0.8},\"top\":{\"type\":\"field\",\"field\":\"percent\"},\"line_alpha\":{\"type\":\"value\",\"value\":0.1},\"fill_color\":{\"type\":\"value\",\"value\":\"#30a2da\"},\"fill_alpha\":{\"type\":\"value\",\"value\":0.1},\"hatch_color\":{\"type\":\"value\",\"value\":\"#30a2da\"},\"hatch_alpha\":{\"type\":\"value\",\"value\":0.1}}},\"muted_glyph\":{\"type\":\"object\",\"name\":\"VBar\",\"id\":\"cce93048-b5b2-4db9-9638-46801c8a26dc\",\"attributes\":{\"tags\":[\"apply_ranges\"],\"x\":{\"type\":\"field\",\"field\":\"post_str_b2\"},\"width\":{\"type\":\"value\",\"value\":0.8},\"top\":{\"type\":\"field\",\"field\":\"percent\"},\"line_alpha\":{\"type\":\"value\",\"value\":0.2},\"fill_color\":{\"type\":\"value\",\"value\":\"#30a2da\"},\"fill_alpha\":{\"type\":\"value\",\"value\":0.2},\"hatch_color\":{\"type\":\"value\",\"value\":\"#30a2da\"},\"hatch_alpha\":{\"type\":\"value\",\"value\":0.2}}}}},{\"type\":\"object\",\"name\":\"Span\",\"id\":\"f14b7938-5938-43b9-bed2-8cf30cdf4d72\",\"attributes\":{\"level\":\"glyph\",\"location\":3.703703703703702,\"line_color\":\"red\",\"line_width\":3}},{\"type\":\"object\",\"name\":\"Span\",\"id\":\"f46fa06d-bcf5-45f5-9961-b342327ef67a\",\"attributes\":{\"level\":\"glyph\",\"location\":5.555555555555554,\"line_color\":\"blue\",\"line_width\":3}},{\"type\":\"object\",\"name\":\"Span\",\"id\":\"e826bdd8-2188-4093-9aca-2991c6247a50\",\"attributes\":{\"level\":\"glyph\",\"location\":1.851851851851851,\"line_color\":\"blue\",\"line_width\":3}}],\"toolbar\":{\"type\":\"object\",\"name\":\"Toolbar\",\"id\":\"359f4020-9839-41bc-ab31-63cc9008583f\",\"attributes\":{\"tools\":[{\"type\":\"object\",\"name\":\"WheelZoomTool\",\"id\":\"533f1f28-f6ce-42aa-81bd-80cec42c1a11\",\"attributes\":{\"tags\":[\"hv_created\"],\"renderers\":\"auto\",\"zoom_together\":\"none\"}},{\"type\":\"object\",\"name\":\"HoverTool\",\"id\":\"928ee602-eba3-4a20-b244-2e39beb42038\",\"attributes\":{\"tags\":[\"hv_created\"],\"renderers\":[{\"id\":\"2682f89a-7744-469b-a1f5-8db05721f0a3\"}],\"tooltips\":[[\"post_str_b2\",\"@{post_str_b2}\"],[\"percent\",\"@{percent}\"]]}},{\"type\":\"object\",\"name\":\"SaveTool\",\"id\":\"438f2d93-694d-4316-ac14-9bc60f8d90ff\"},{\"type\":\"object\",\"name\":\"PanTool\",\"id\":\"6344c6c0-2264-43c5-bcda-66f95e994d7e\"},{\"type\":\"object\",\"name\":\"BoxZoomTool\",\"id\":\"51fb3b15-360b-47b4-a324-3c512095678a\",\"attributes\":{\"dimensions\":\"both\",\"overlay\":{\"type\":\"object\",\"name\":\"BoxAnnotation\",\"id\":\"b4363237-07fd-429b-ae0a-4eb8471b566b\",\"attributes\":{\"syncable\":false,\"line_color\":\"black\",\"line_alpha\":1.0,\"line_width\":2,\"line_dash\":[4,4],\"fill_color\":\"lightgrey\",\"fill_alpha\":0.5,\"level\":\"overlay\",\"visible\":false,\"left\":{\"type\":\"number\",\"value\":\"nan\"},\"right\":{\"type\":\"number\",\"value\":\"nan\"},\"top\":{\"type\":\"number\",\"value\":\"nan\"},\"bottom\":{\"type\":\"number\",\"value\":\"nan\"},\"left_units\":\"canvas\",\"right_units\":\"canvas\",\"top_units\":\"canvas\",\"bottom_units\":\"canvas\",\"handles\":{\"type\":\"object\",\"name\":\"BoxInteractionHandles\",\"id\":\"0c163246-b6ac-4399-9727-a1f18eb1ea95\",\"attributes\":{\"all\":{\"type\":\"object\",\"name\":\"AreaVisuals\",\"id\":\"b35a0c90-db4d-4747-8de7-529a971d81aa\",\"attributes\":{\"fill_color\":\"white\",\"hover_fill_color\":\"lightgray\"}}}}}}}},{\"type\":\"object\",\"name\":\"ResetTool\",\"id\":\"3eaec760-4454-45bb-b59f-29b31ac23dee\"}],\"active_drag\":{\"id\":\"6344c6c0-2264-43c5-bcda-66f95e994d7e\"}}},\"left\":[{\"type\":\"object\",\"name\":\"LinearAxis\",\"id\":\"f6e70df7-55e7-4135-8e4e-aacb9f5433e7\",\"attributes\":{\"ticker\":{\"type\":\"object\",\"name\":\"BasicTicker\",\"id\":\"2f7affb7-17c3-4cec-9de8-7bab4908296e\",\"attributes\":{\"mantissas\":[1,2,5]}},\"formatter\":{\"type\":\"object\",\"name\":\"BasicTickFormatter\",\"id\":\"67883a64-9e48-44af-82ef-1e0cde218628\"},\"axis_label\":\"percent\",\"major_label_policy\":{\"type\":\"object\",\"name\":\"AllLabels\",\"id\":\"64736d11-7955-440a-8bdd-105a07f74c0d\"}}}],\"below\":[{\"type\":\"object\",\"name\":\"CategoricalAxis\",\"id\":\"eb5709aa-bdd2-485a-b097-e0ef139de64c\",\"attributes\":{\"ticker\":{\"type\":\"object\",\"name\":\"CategoricalTicker\",\"id\":\"ea340249-8edf-4fa8-ad18-cb583413e2cd\"},\"formatter\":{\"type\":\"object\",\"name\":\"CategoricalTickFormatter\",\"id\":\"41f4996e-4bf6-4c00-9ad2-90c23ddf0e31\"},\"axis_label\":\"post_str_b2\",\"major_label_policy\":{\"type\":\"object\",\"name\":\"AllLabels\",\"id\":\"764e928b-cda0-4d18-ae03-9387bbe9a014\"}}}],\"center\":[{\"type\":\"object\",\"name\":\"Grid\",\"id\":\"ba685bd5-09b3-4780-a473-215b86c7c025\",\"attributes\":{\"axis\":{\"id\":\"eb5709aa-bdd2-485a-b097-e0ef139de64c\"},\"grid_line_color\":null}},{\"type\":\"object\",\"name\":\"Grid\",\"id\":\"a7f31cc4-d9c5-4cc2-83df-11e7faa3ed5b\",\"attributes\":{\"dimension\":1,\"axis\":{\"id\":\"f6e70df7-55e7-4135-8e4e-aacb9f5433e7\"},\"grid_line_color\":null}}],\"min_border_top\":10,\"min_border_bottom\":10,\"min_border_left\":10,\"min_border_right\":10,\"output_backend\":\"webgl\"}},{\"type\":\"object\",\"name\":\"Spacer\",\"id\":\"173b631d-1373-44d3-a02c-74b50e97ec2e\",\"attributes\":{\"name\":\"HSpacer00362\",\"stylesheets\":[\"\\n:host(.pn-loading):before, .pn-loading:before {\\n  background-color: #c3c3c3;\\n  mask-size: auto calc(min(50%, 400px));\\n  -webkit-mask-size: auto calc(min(50%, 400px));\\n}\",{\"id\":\"186a9484-7d89-46ee-8ebb-75644d904f28\"},{\"id\":\"9a64528d-1203-4f4f-ab50-43a7fff6498e\"},{\"id\":\"05334f9b-b17a-4f1d-b12a-2c9bd835c21a\"}],\"margin\":0,\"sizing_mode\":\"stretch_width\",\"align\":\"start\"}}]}}],\"defs\":[{\"type\":\"model\",\"name\":\"ReactiveHTML1\"},{\"type\":\"model\",\"name\":\"FlexBox1\",\"properties\":[{\"name\":\"align_content\",\"kind\":\"Any\",\"default\":\"flex-start\"},{\"name\":\"align_items\",\"kind\":\"Any\",\"default\":\"flex-start\"},{\"name\":\"flex_direction\",\"kind\":\"Any\",\"default\":\"row\"},{\"name\":\"flex_wrap\",\"kind\":\"Any\",\"default\":\"wrap\"},{\"name\":\"gap\",\"kind\":\"Any\",\"default\":\"\"},{\"name\":\"justify_content\",\"kind\":\"Any\",\"default\":\"flex-start\"}]},{\"type\":\"model\",\"name\":\"FloatPanel1\",\"properties\":[{\"name\":\"config\",\"kind\":\"Any\",\"default\":{\"type\":\"map\"}},{\"name\":\"contained\",\"kind\":\"Any\",\"default\":true},{\"name\":\"position\",\"kind\":\"Any\",\"default\":\"right-top\"},{\"name\":\"offsetx\",\"kind\":\"Any\",\"default\":null},{\"name\":\"offsety\",\"kind\":\"Any\",\"default\":null},{\"name\":\"theme\",\"kind\":\"Any\",\"default\":\"primary\"},{\"name\":\"status\",\"kind\":\"Any\",\"default\":\"normalized\"}]},{\"type\":\"model\",\"name\":\"GridStack1\",\"properties\":[{\"name\":\"ncols\",\"kind\":\"Any\",\"default\":null},{\"name\":\"nrows\",\"kind\":\"Any\",\"default\":null},{\"name\":\"allow_resize\",\"kind\":\"Any\",\"default\":true},{\"name\":\"allow_drag\",\"kind\":\"Any\",\"default\":true},{\"name\":\"state\",\"kind\":\"Any\",\"default\":[]}]},{\"type\":\"model\",\"name\":\"drag1\",\"properties\":[{\"name\":\"slider_width\",\"kind\":\"Any\",\"default\":5},{\"name\":\"slider_color\",\"kind\":\"Any\",\"default\":\"black\"},{\"name\":\"value\",\"kind\":\"Any\",\"default\":50}]},{\"type\":\"model\",\"name\":\"click1\",\"properties\":[{\"name\":\"terminal_output\",\"kind\":\"Any\",\"default\":\"\"},{\"name\":\"debug_name\",\"kind\":\"Any\",\"default\":\"\"},{\"name\":\"clears\",\"kind\":\"Any\",\"default\":0}]},{\"type\":\"model\",\"name\":\"FastWrapper1\",\"properties\":[{\"name\":\"object\",\"kind\":\"Any\",\"default\":null},{\"name\":\"style\",\"kind\":\"Any\",\"default\":null}]},{\"type\":\"model\",\"name\":\"NotificationArea1\",\"properties\":[{\"name\":\"js_events\",\"kind\":\"Any\",\"default\":{\"type\":\"map\"}},{\"name\":\"max_notifications\",\"kind\":\"Any\",\"default\":5},{\"name\":\"notifications\",\"kind\":\"Any\",\"default\":[]},{\"name\":\"position\",\"kind\":\"Any\",\"default\":\"bottom-right\"},{\"name\":\"_clear\",\"kind\":\"Any\",\"default\":0},{\"name\":\"types\",\"kind\":\"Any\",\"default\":[{\"type\":\"map\",\"entries\":[[\"type\",\"warning\"],[\"background\",\"#ffc107\"],[\"icon\",{\"type\":\"map\",\"entries\":[[\"className\",\"fas fa-exclamation-triangle\"],[\"tagName\",\"i\"],[\"color\",\"white\"]]}]]},{\"type\":\"map\",\"entries\":[[\"type\",\"info\"],[\"background\",\"#007bff\"],[\"icon\",{\"type\":\"map\",\"entries\":[[\"className\",\"fas fa-info-circle\"],[\"tagName\",\"i\"],[\"color\",\"white\"]]}]]}]}]},{\"type\":\"model\",\"name\":\"Notification\",\"properties\":[{\"name\":\"background\",\"kind\":\"Any\",\"default\":null},{\"name\":\"duration\",\"kind\":\"Any\",\"default\":3000},{\"name\":\"icon\",\"kind\":\"Any\",\"default\":null},{\"name\":\"message\",\"kind\":\"Any\",\"default\":\"\"},{\"name\":\"notification_type\",\"kind\":\"Any\",\"default\":null},{\"name\":\"_rendered\",\"kind\":\"Any\",\"default\":false},{\"name\":\"_destroyed\",\"kind\":\"Any\",\"default\":false}]},{\"type\":\"model\",\"name\":\"TemplateActions1\",\"properties\":[{\"name\":\"open_modal\",\"kind\":\"Any\",\"default\":0},{\"name\":\"close_modal\",\"kind\":\"Any\",\"default\":0}]},{\"type\":\"model\",\"name\":\"BootstrapTemplateActions1\",\"properties\":[{\"name\":\"open_modal\",\"kind\":\"Any\",\"default\":0},{\"name\":\"close_modal\",\"kind\":\"Any\",\"default\":0}]},{\"type\":\"model\",\"name\":\"TemplateEditor1\",\"properties\":[{\"name\":\"layout\",\"kind\":\"Any\",\"default\":[]}]},{\"type\":\"model\",\"name\":\"MaterialTemplateActions1\",\"properties\":[{\"name\":\"open_modal\",\"kind\":\"Any\",\"default\":0},{\"name\":\"close_modal\",\"kind\":\"Any\",\"default\":0}]},{\"type\":\"model\",\"name\":\"ReactiveESM1\",\"properties\":[{\"name\":\"esm_constants\",\"kind\":\"Any\",\"default\":{\"type\":\"map\"}}]},{\"type\":\"model\",\"name\":\"JSComponent1\",\"properties\":[{\"name\":\"esm_constants\",\"kind\":\"Any\",\"default\":{\"type\":\"map\"}}]},{\"type\":\"model\",\"name\":\"ReactComponent1\",\"properties\":[{\"name\":\"esm_constants\",\"kind\":\"Any\",\"default\":{\"type\":\"map\"}}]},{\"type\":\"model\",\"name\":\"AnyWidgetComponent1\",\"properties\":[{\"name\":\"esm_constants\",\"kind\":\"Any\",\"default\":{\"type\":\"map\"}}]},{\"type\":\"model\",\"name\":\"request_value1\",\"properties\":[{\"name\":\"fill\",\"kind\":\"Any\",\"default\":\"none\"},{\"name\":\"_synced\",\"kind\":\"Any\",\"default\":null},{\"name\":\"_request_sync\",\"kind\":\"Any\",\"default\":0}]}]}};\n",
       "  var render_items = [{\"docid\":\"5d7153d3-83dc-4b51-b1fe-31cb55e6adf3\",\"roots\":{\"51440dd9-61d9-4c9d-8b34-f94b5da514c5\":\"da5493ba-4665-4591-af27-3b2536eb2b88\"},\"root_ids\":[\"51440dd9-61d9-4c9d-8b34-f94b5da514c5\"]}];\n",
       "  var docs = Object.values(docs_json)\n",
       "  if (!docs) {\n",
       "    return\n",
       "  }\n",
       "  const py_version = docs[0].version.replace('rc', '-rc.').replace('.dev', '-dev.')\n",
       "  async function embed_document(root) {\n",
       "    var Bokeh = get_bokeh(root)\n",
       "    await Bokeh.embed.embed_items_notebook(docs_json, render_items);\n",
       "    for (const render_item of render_items) {\n",
       "      for (const root_id of render_item.root_ids) {\n",
       "\tconst id_el = document.getElementById(root_id)\n",
       "\tif (id_el.children.length && id_el.children[0].hasAttribute('data-root-id')) {\n",
       "\t  const root_el = id_el.children[0]\n",
       "\t  root_el.id = root_el.id + '-rendered'\n",
       "\t  for (const child of root_el.children) {\n",
       "            // Ensure JupyterLab does not capture keyboard shortcuts\n",
       "            // see: https://jupyterlab.readthedocs.io/en/4.1.x/extension/notebook.html#keyboard-interaction-model\n",
       "\t    child.setAttribute('data-lm-suppress-shortcuts', 'true')\n",
       "\t  }\n",
       "\t}\n",
       "      }\n",
       "    }\n",
       "  }\n",
       "  function get_bokeh(root) {\n",
       "    if (root.Bokeh === undefined) {\n",
       "      return null\n",
       "    } else if (root.Bokeh.version !== py_version) {\n",
       "      if (root.Bokeh.versions === undefined || !root.Bokeh.versions.has(py_version)) {\n",
       "\treturn null\n",
       "      }\n",
       "      return root.Bokeh.versions.get(py_version);\n",
       "    } else if (root.Bokeh.version === py_version) {\n",
       "      return root.Bokeh\n",
       "    }\n",
       "    return null\n",
       "  }\n",
       "  function is_loaded(root) {\n",
       "    var Bokeh = get_bokeh(root)\n",
       "    return (Bokeh != null && Bokeh.Panel !== undefined)\n",
       "  }\n",
       "  if (is_loaded(root)) {\n",
       "    embed_document(root);\n",
       "  } else {\n",
       "    var attempts = 0;\n",
       "    var timer = setInterval(function(root) {\n",
       "      if (is_loaded(root)) {\n",
       "        clearInterval(timer);\n",
       "        embed_document(root);\n",
       "      } else if (document.readyState == \"complete\") {\n",
       "        attempts++;\n",
       "        if (attempts > 200) {\n",
       "          clearInterval(timer);\n",
       "\t  var Bokeh = get_bokeh(root)\n",
       "\t  if (Bokeh == null || Bokeh.Panel == null) {\n",
       "            console.warn(\"Panel: ERROR: Unable to run Panel code because Bokeh or Panel library is missing\");\n",
       "\t  } else {\n",
       "\t    console.warn(\"Panel: WARNING: Attempting to render but not all required libraries could be resolved.\")\n",
       "\t    embed_document(root)\n",
       "\t  }\n",
       "        }\n",
       "      }\n",
       "    }, 25, root)\n",
       "  }\n",
       "})(window);</script>"
      ],
      "text/plain": [
       ":Overlay\n",
       "   .Bars.I    :Bars   [post_str_b2]   (percent)\n",
       "   .HLine.I   :HLine   [x,y]\n",
       "   .HLine.II  :HLine   [x,y]\n",
       "   .HLine.III :HLine   [x,y]"
      ]
     },
     "metadata": {
      "application/vnd.holoviews_exec.v0+json": {
       "id": "51440dd9-61d9-4c9d-8b34-f94b5da514c5"
      }
     },
     "output_type": "display_data"
    },
    {
     "name": "stdout",
     "output_type": "stream",
     "text": [
      "df_10_last FOR str_b2 = 15\n"
     ]
    },
    {
     "data": {
      "text/html": [
       "<div><style>\n",
       ".dataframe > thead > tr,\n",
       ".dataframe > tbody > tr {\n",
       "  text-align: right;\n",
       "  white-space: pre-wrap;\n",
       "}\n",
       "</style>\n",
       "<small>shape: (10, 24)</small><table border=\"1\" class=\"dataframe\"><thead><tr><th>fecha</th><th>sorteo</th><th>bolillas</th><th>id</th><th>combo</th><th>b1</th><th>b2</th><th>b3</th><th>b4</th><th>b5</th><th>str_b1</th><th>str_b2</th><th>str_b3</th><th>str_b4</th><th>str_b5</th><th>post_str_b1</th><th>post_str_b2</th><th>post_str_b3</th><th>post_str_b4</th><th>post_str_blast</th><th>is_rare_combination</th><th>reason</th><th>jumps_map</th><th>unijump</th></tr><tr><td>str</td><td>str</td><td>str</td><td>str</td><td>array[u8, 5]</td><td>u8</td><td>u8</td><td>u8</td><td>u8</td><td>u8</td><td>str</td><td>str</td><td>str</td><td>str</td><td>str</td><td>str</td><td>str</td><td>str</td><td>str</td><td>str</td><td>bool</td><td>u8</td><td>str</td><td>i64</td></tr></thead><tbody><tr><td>&quot;05/04/2025&quot;</td><td>&quot;4177&quot;</td><td>&quot;34 33 15 05 16&quot;</td><td>&quot;0515163334&quot;</td><td>[5, 15, … 34]</td><td>5</td><td>15</td><td>16</td><td>33</td><td>34</td><td>&quot;05&quot;</td><td>&quot;15&quot;</td><td>&quot;16&quot;</td><td>&quot;33&quot;</td><td>&quot;34&quot;</td><td>&quot;07&quot;</td><td>&quot;14&quot;</td><td>&quot;24&quot;</td><td>&quot;34&quot;</td><td>&quot;35&quot;</td><td>true</td><td>16</td><td>&quot;10_01_17_01&quot;</td><td>-57</td></tr><tr><td>&quot;10/03/2025&quot;</td><td>&quot;4151&quot;</td><td>&quot;29 06 26 15 19&quot;</td><td>&quot;0615192629&quot;</td><td>[6, 15, … 29]</td><td>6</td><td>15</td><td>19</td><td>26</td><td>29</td><td>&quot;06&quot;</td><td>&quot;15&quot;</td><td>&quot;19&quot;</td><td>&quot;26&quot;</td><td>&quot;29&quot;</td><td>&quot;02&quot;</td><td>&quot;11&quot;</td><td>&quot;12&quot;</td><td>&quot;16&quot;</td><td>&quot;32&quot;</td><td>true</td><td>16</td><td>&quot;09_04_07_03&quot;</td><td>-15</td></tr><tr><td>&quot;22/02/2025&quot;</td><td>&quot;4135&quot;</td><td>&quot;34 33 15 24 03&quot;</td><td>&quot;0315243334&quot;</td><td>[3, 15, … 34]</td><td>3</td><td>15</td><td>24</td><td>33</td><td>34</td><td>&quot;03&quot;</td><td>&quot;15&quot;</td><td>&quot;24&quot;</td><td>&quot;33&quot;</td><td>&quot;34&quot;</td><td>&quot;11&quot;</td><td>&quot;20&quot;</td><td>&quot;21&quot;</td><td>&quot;24&quot;</td><td>&quot;32&quot;</td><td>true</td><td>8</td><td>&quot;12_09_09_01&quot;</td><td>-11</td></tr><tr><td>&quot;20/02/2025&quot;</td><td>&quot;4133&quot;</td><td>&quot;34 15 26 04 30&quot;</td><td>&quot;0415263034&quot;</td><td>[4, 15, … 34]</td><td>4</td><td>15</td><td>26</td><td>30</td><td>34</td><td>&quot;04&quot;</td><td>&quot;15&quot;</td><td>&quot;26&quot;</td><td>&quot;30&quot;</td><td>&quot;34&quot;</td><td>&quot;10&quot;</td><td>&quot;22&quot;</td><td>&quot;28&quot;</td><td>&quot;30&quot;</td><td>&quot;32&quot;</td><td>true</td><td>8</td><td>&quot;11_11_04_04&quot;</td><td>14</td></tr><tr><td>&quot;03/12/2024&quot;</td><td>&quot;4054&quot;</td><td>&quot;19 31 06 25 15&quot;</td><td>&quot;0615192531&quot;</td><td>[6, 15, … 31]</td><td>6</td><td>15</td><td>19</td><td>25</td><td>31</td><td>&quot;06&quot;</td><td>&quot;15&quot;</td><td>&quot;19&quot;</td><td>&quot;25&quot;</td><td>&quot;31&quot;</td><td>&quot;05&quot;</td><td>&quot;06&quot;</td><td>&quot;11&quot;</td><td>&quot;16&quot;</td><td>&quot;23&quot;</td><td>true</td><td>8</td><td>&quot;09_04_06_06&quot;</td><td>-9</td></tr><tr><td>&quot;14/11/2024&quot;</td><td>&quot;4035&quot;</td><td>&quot;34 33 11 24 15&quot;</td><td>&quot;1115243334&quot;</td><td>[11, 15, … 34]</td><td>11</td><td>15</td><td>24</td><td>33</td><td>34</td><td>&quot;11&quot;</td><td>&quot;15&quot;</td><td>&quot;24&quot;</td><td>&quot;33&quot;</td><td>&quot;34&quot;</td><td>&quot;12&quot;</td><td>&quot;14&quot;</td><td>&quot;16&quot;</td><td>&quot;21&quot;</td><td>&quot;23&quot;</td><td>true</td><td>8</td><td>&quot;04_09_09_01&quot;</td><td>-3</td></tr><tr><td>&quot;01/10/2024&quot;</td><td>&quot;3991&quot;</td><td>&quot;35 15 17 16 06&quot;</td><td>&quot;0615161735&quot;</td><td>[6, 15, … 35]</td><td>6</td><td>15</td><td>16</td><td>17</td><td>35</td><td>&quot;06&quot;</td><td>&quot;15&quot;</td><td>&quot;16&quot;</td><td>&quot;17&quot;</td><td>&quot;35&quot;</td><td>&quot;01&quot;</td><td>&quot;02&quot;</td><td>&quot;22&quot;</td><td>&quot;28&quot;</td><td>&quot;31&quot;</td><td>true</td><td>24</td><td>&quot;09_01_01_18&quot;</td><td>9</td></tr><tr><td>&quot;06/09/2024&quot;</td><td>&quot;3966&quot;</td><td>&quot;35 18 02 34 15&quot;</td><td>&quot;0215183435&quot;</td><td>[2, 15, … 35]</td><td>2</td><td>15</td><td>18</td><td>34</td><td>35</td><td>&quot;02&quot;</td><td>&quot;15&quot;</td><td>&quot;18&quot;</td><td>&quot;34&quot;</td><td>&quot;35&quot;</td><td>&quot;01&quot;</td><td>&quot;08&quot;</td><td>&quot;18&quot;</td><td>&quot;25&quot;</td><td>&quot;28&quot;</td><td>false</td><td>0</td><td>&quot;13_03_16_01&quot;</td><td>-51</td></tr><tr><td>&quot;03/09/2024&quot;</td><td>&quot;3963&quot;</td><td>&quot;15 33 14 20 29&quot;</td><td>&quot;1415202933&quot;</td><td>[14, 15, … 33]</td><td>14</td><td>15</td><td>20</td><td>29</td><td>33</td><td>&quot;14&quot;</td><td>&quot;15&quot;</td><td>&quot;20&quot;</td><td>&quot;29&quot;</td><td>&quot;33&quot;</td><td>&quot;04&quot;</td><td>&quot;10&quot;</td><td>&quot;21&quot;</td><td>&quot;26&quot;</td><td>&quot;29&quot;</td><td>false</td><td>0</td><td>&quot;01_05_09_04&quot;</td><td>-9</td></tr><tr><td>&quot;01/09/2024&quot;</td><td>&quot;3961&quot;</td><td>&quot;13 34 15 33 17&quot;</td><td>&quot;1315173334&quot;</td><td>[13, 15, … 34]</td><td>13</td><td>15</td><td>17</td><td>33</td><td>34</td><td>&quot;13&quot;</td><td>&quot;15&quot;</td><td>&quot;17&quot;</td><td>&quot;33&quot;</td><td>&quot;34&quot;</td><td>&quot;05&quot;</td><td>&quot;07&quot;</td><td>&quot;09&quot;</td><td>&quot;18&quot;</td><td>&quot;23&quot;</td><td>true</td><td>24</td><td>&quot;02_02_16_01&quot;</td><td>-43</td></tr></tbody></table></div>"
      ],
      "text/plain": [
       "shape: (10, 24)\n",
       "┌────────────┬────────┬─────────────┬────────────┬───┬─────────────┬────────┬────────────┬─────────┐\n",
       "│ fecha      ┆ sorteo ┆ bolillas    ┆ id         ┆ … ┆ is_rare_com ┆ reason ┆ jumps_map  ┆ unijump │\n",
       "│ ---        ┆ ---    ┆ ---         ┆ ---        ┆   ┆ bination    ┆ ---    ┆ ---        ┆ ---     │\n",
       "│ str        ┆ str    ┆ str         ┆ str        ┆   ┆ ---         ┆ u8     ┆ str        ┆ i64     │\n",
       "│            ┆        ┆             ┆            ┆   ┆ bool        ┆        ┆            ┆         │\n",
       "╞════════════╪════════╪═════════════╪════════════╪═══╪═════════════╪════════╪════════════╪═════════╡\n",
       "│ 05/04/2025 ┆ 4177   ┆ 34 33 15 05 ┆ 0515163334 ┆ … ┆ true        ┆ 16     ┆ 10_01_17_0 ┆ -57     │\n",
       "│            ┆        ┆ 16          ┆            ┆   ┆             ┆        ┆ 1          ┆         │\n",
       "│ 10/03/2025 ┆ 4151   ┆ 29 06 26 15 ┆ 0615192629 ┆ … ┆ true        ┆ 16     ┆ 09_04_07_0 ┆ -15     │\n",
       "│            ┆        ┆ 19          ┆            ┆   ┆             ┆        ┆ 3          ┆         │\n",
       "│ 22/02/2025 ┆ 4135   ┆ 34 33 15 24 ┆ 0315243334 ┆ … ┆ true        ┆ 8      ┆ 12_09_09_0 ┆ -11     │\n",
       "│            ┆        ┆ 03          ┆            ┆   ┆             ┆        ┆ 1          ┆         │\n",
       "│ 20/02/2025 ┆ 4133   ┆ 34 15 26 04 ┆ 0415263034 ┆ … ┆ true        ┆ 8      ┆ 11_11_04_0 ┆ 14      │\n",
       "│            ┆        ┆ 30          ┆            ┆   ┆             ┆        ┆ 4          ┆         │\n",
       "│ 03/12/2024 ┆ 4054   ┆ 19 31 06 25 ┆ 0615192531 ┆ … ┆ true        ┆ 8      ┆ 09_04_06_0 ┆ -9      │\n",
       "│            ┆        ┆ 15          ┆            ┆   ┆             ┆        ┆ 6          ┆         │\n",
       "│ 14/11/2024 ┆ 4035   ┆ 34 33 11 24 ┆ 1115243334 ┆ … ┆ true        ┆ 8      ┆ 04_09_09_0 ┆ -3      │\n",
       "│            ┆        ┆ 15          ┆            ┆   ┆             ┆        ┆ 1          ┆         │\n",
       "│ 01/10/2024 ┆ 3991   ┆ 35 15 17 16 ┆ 0615161735 ┆ … ┆ true        ┆ 24     ┆ 09_01_01_1 ┆ 9       │\n",
       "│            ┆        ┆ 06          ┆            ┆   ┆             ┆        ┆ 8          ┆         │\n",
       "│ 06/09/2024 ┆ 3966   ┆ 35 18 02 34 ┆ 0215183435 ┆ … ┆ false       ┆ 0      ┆ 13_03_16_0 ┆ -51     │\n",
       "│            ┆        ┆ 15          ┆            ┆   ┆             ┆        ┆ 1          ┆         │\n",
       "│ 03/09/2024 ┆ 3963   ┆ 15 33 14 20 ┆ 1415202933 ┆ … ┆ false       ┆ 0      ┆ 01_05_09_0 ┆ -9      │\n",
       "│            ┆        ┆ 29          ┆            ┆   ┆             ┆        ┆ 4          ┆         │\n",
       "│ 01/09/2024 ┆ 3961   ┆ 13 34 15 33 ┆ 1315173334 ┆ … ┆ true        ┆ 24     ┆ 02_02_16_0 ┆ -43     │\n",
       "│            ┆        ┆ 17          ┆            ┆   ┆             ┆        ┆ 1          ┆         │\n",
       "└────────────┴────────┴─────────────┴────────────┴───┴─────────────┴────────┴────────────┴─────────┘"
      ]
     },
     "metadata": {},
     "output_type": "display_data"
    },
    {
     "name": "stdout",
     "output_type": "stream",
     "text": [
      "df_jumps_map FOR str_b2 = 15\n"
     ]
    },
    {
     "data": {
      "text/html": [
       "<div><style>\n",
       ".dataframe > thead > tr,\n",
       ".dataframe > tbody > tr {\n",
       "  text-align: right;\n",
       "  white-space: pre-wrap;\n",
       "}\n",
       "</style>\n",
       "<small>shape: (375, 2)</small><table border=\"1\" class=\"dataframe\"><thead><tr><th>jumps_map</th><th>count</th></tr><tr><td>str</td><td>u32</td></tr></thead><tbody><tr><td>&quot;01_05_09_04&quot;</td><td>2</td></tr><tr><td>&quot;03_10_02_03&quot;</td><td>2</td></tr><tr><td>&quot;11_12_01_04&quot;</td><td>2</td></tr><tr><td>&quot;13_02_12_05&quot;</td><td>2</td></tr><tr><td>&quot;08_01_01_18&quot;</td><td>2</td></tr><tr><td>&hellip;</td><td>&hellip;</td></tr><tr><td>&quot;08_03_02_08&quot;</td><td>1</td></tr><tr><td>&quot;14_06_06_03&quot;</td><td>1</td></tr><tr><td>&quot;02_02_16_01&quot;</td><td>1</td></tr><tr><td>&quot;04_04_02_01&quot;</td><td>1</td></tr><tr><td>&quot;02_09_02_06&quot;</td><td>1</td></tr></tbody></table></div>"
      ],
      "text/plain": [
       "shape: (375, 2)\n",
       "┌─────────────┬───────┐\n",
       "│ jumps_map   ┆ count │\n",
       "│ ---         ┆ ---   │\n",
       "│ str         ┆ u32   │\n",
       "╞═════════════╪═══════╡\n",
       "│ 01_05_09_04 ┆ 2     │\n",
       "│ 03_10_02_03 ┆ 2     │\n",
       "│ 11_12_01_04 ┆ 2     │\n",
       "│ 13_02_12_05 ┆ 2     │\n",
       "│ 08_01_01_18 ┆ 2     │\n",
       "│ …           ┆ …     │\n",
       "│ 08_03_02_08 ┆ 1     │\n",
       "│ 14_06_06_03 ┆ 1     │\n",
       "│ 02_02_16_01 ┆ 1     │\n",
       "│ 04_04_02_01 ┆ 1     │\n",
       "│ 02_09_02_06 ┆ 1     │\n",
       "└─────────────┴───────┘"
      ]
     },
     "metadata": {},
     "output_type": "display_data"
    },
    {
     "name": "stdout",
     "output_type": "stream",
     "text": [
      "df_unijump FOR str_b2 = 15\n"
     ]
    },
    {
     "data": {
      "text/html": [
       "<div><style>\n",
       ".dataframe > thead > tr,\n",
       ".dataframe > tbody > tr {\n",
       "  text-align: right;\n",
       "  white-space: pre-wrap;\n",
       "}\n",
       "</style>\n",
       "<small>shape: (84, 2)</small><table border=\"1\" class=\"dataframe\"><thead><tr><th>unijump</th><th>count</th></tr><tr><td>i64</td><td>u32</td></tr></thead><tbody><tr><td>4</td><td>12</td></tr><tr><td>6</td><td>12</td></tr><tr><td>7</td><td>11</td></tr><tr><td>-1</td><td>11</td></tr><tr><td>3</td><td>10</td></tr><tr><td>&hellip;</td><td>&hellip;</td></tr><tr><td>35</td><td>1</td></tr><tr><td>-31</td><td>1</td></tr><tr><td>37</td><td>1</td></tr><tr><td>-36</td><td>1</td></tr><tr><td>-46</td><td>1</td></tr></tbody></table></div>"
      ],
      "text/plain": [
       "shape: (84, 2)\n",
       "┌─────────┬───────┐\n",
       "│ unijump ┆ count │\n",
       "│ ---     ┆ ---   │\n",
       "│ i64     ┆ u32   │\n",
       "╞═════════╪═══════╡\n",
       "│ 4       ┆ 12    │\n",
       "│ 6       ┆ 12    │\n",
       "│ 7       ┆ 11    │\n",
       "│ -1      ┆ 11    │\n",
       "│ 3       ┆ 10    │\n",
       "│ …       ┆ …     │\n",
       "│ 35      ┆ 1     │\n",
       "│ -31     ┆ 1     │\n",
       "│ 37      ┆ 1     │\n",
       "│ -36     ┆ 1     │\n",
       "│ -46     ┆ 1     │\n",
       "└─────────┴───────┘"
      ]
     },
     "metadata": {},
     "output_type": "display_data"
    }
   ],
   "source": [
    "possible_b2, exclude_jump_maps_b2 = plot_post_col(col='str_b2', post_col='post_str_b2')"
   ]
  },
  {
   "cell_type": "code",
   "execution_count": 9,
   "metadata": {},
   "outputs": [
    {
     "name": "stdout",
     "output_type": "stream",
     "text": [
      "Setting test_value='23'\n",
      "df_viz FOR str_b3 = 23\n"
     ]
    },
    {
     "data": {
      "text/html": [
       "<div><style>\n",
       ".dataframe > thead > tr,\n",
       ".dataframe > tbody > tr {\n",
       "  text-align: right;\n",
       "  white-space: pre-wrap;\n",
       "}\n",
       "</style>\n",
       "<small>shape: (29, 3)</small><table border=\"1\" class=\"dataframe\"><thead><tr><th>post_str_b3</th><th>count</th><th>percent</th></tr><tr><td>str</td><td>u32</td><td>f64</td></tr></thead><tbody><tr><td>&quot;19&quot;</td><td>28</td><td>7.368421</td></tr><tr><td>&quot;17&quot;</td><td>25</td><td>6.578947</td></tr><tr><td>&quot;20&quot;</td><td>23</td><td>6.052632</td></tr><tr><td>&quot;23&quot;</td><td>22</td><td>5.789474</td></tr><tr><td>&quot;13&quot;</td><td>21</td><td>5.526316</td></tr><tr><td>&hellip;</td><td>&hellip;</td><td>&hellip;</td></tr><tr><td>&quot;07&quot;</td><td>5</td><td>1.315789</td></tr><tr><td>&quot;31&quot;</td><td>5</td><td>1.315789</td></tr><tr><td>&quot;05&quot;</td><td>4</td><td>1.052632</td></tr><tr><td>&quot;32&quot;</td><td>3</td><td>0.789474</td></tr><tr><td>&quot;04&quot;</td><td>1</td><td>0.263158</td></tr></tbody></table></div>"
      ],
      "text/plain": [
       "shape: (29, 3)\n",
       "┌─────────────┬───────┬──────────┐\n",
       "│ post_str_b3 ┆ count ┆ percent  │\n",
       "│ ---         ┆ ---   ┆ ---      │\n",
       "│ str         ┆ u32   ┆ f64      │\n",
       "╞═════════════╪═══════╪══════════╡\n",
       "│ 19          ┆ 28    ┆ 7.368421 │\n",
       "│ 17          ┆ 25    ┆ 6.578947 │\n",
       "│ 20          ┆ 23    ┆ 6.052632 │\n",
       "│ 23          ┆ 22    ┆ 5.789474 │\n",
       "│ 13          ┆ 21    ┆ 5.526316 │\n",
       "│ …           ┆ …     ┆ …        │\n",
       "│ 07          ┆ 5     ┆ 1.315789 │\n",
       "│ 31          ┆ 5     ┆ 1.315789 │\n",
       "│ 05          ┆ 4     ┆ 1.052632 │\n",
       "│ 32          ┆ 3     ┆ 0.789474 │\n",
       "│ 04          ┆ 1     ┆ 0.263158 │\n",
       "└─────────────┴───────┴──────────┘"
      ]
     },
     "metadata": {},
     "output_type": "display_data"
    },
    {
     "data": {},
     "metadata": {},
     "output_type": "display_data"
    },
    {
     "data": {
      "application/vnd.holoviews_exec.v0+json": "",
      "text/html": [
       "<div id='b37f5fde-cabc-41b3-91a5-9399849d98b0'>\n",
       "  <div id=\"b950439f-80fc-4d6b-9b3e-fe590870b344\" data-root-id=\"b37f5fde-cabc-41b3-91a5-9399849d98b0\" style=\"display: contents;\"></div>\n",
       "</div>\n",
       "<script type=\"application/javascript\">(function(root) {\n",
       "  var docs_json = {\"0e11aeb3-d131-4fc5-b075-64f3e5c5a67a\":{\"version\":\"3.7.2\",\"title\":\"Bokeh Application\",\"roots\":[{\"type\":\"object\",\"name\":\"Row\",\"id\":\"b37f5fde-cabc-41b3-91a5-9399849d98b0\",\"attributes\":{\"name\":\"Row00428\",\"tags\":[\"embedded\"],\"stylesheets\":[\"\\n:host(.pn-loading):before, .pn-loading:before {\\n  background-color: #c3c3c3;\\n  mask-size: auto calc(min(50%, 400px));\\n  -webkit-mask-size: auto calc(min(50%, 400px));\\n}\",{\"type\":\"object\",\"name\":\"ImportedStyleSheet\",\"id\":\"ded872d3-7348-4245-bd43-8206eb2790b8\",\"attributes\":{\"url\":\"https://cdn.holoviz.org/panel/1.6.2/dist/css/loading.css\"}},{\"type\":\"object\",\"name\":\"ImportedStyleSheet\",\"id\":\"a63eebfd-2016-4e7d-acb0-4dec22a9f811\",\"attributes\":{\"url\":\"https://cdn.holoviz.org/panel/1.6.2/dist/css/listpanel.css\"}},{\"type\":\"object\",\"name\":\"ImportedStyleSheet\",\"id\":\"45dfda5c-d700-4f6d-a62f-b1c0c4bccc8c\",\"attributes\":{\"url\":\"https://cdn.holoviz.org/panel/1.6.2/dist/bundled/theme/default.css\"}},{\"type\":\"object\",\"name\":\"ImportedStyleSheet\",\"id\":\"20b877fb-53be-4ac8-a4b1-c8f4d3f0ae79\",\"attributes\":{\"url\":\"https://cdn.holoviz.org/panel/1.6.2/dist/bundled/theme/native.css\"}}],\"min_width\":700,\"margin\":0,\"sizing_mode\":\"stretch_width\",\"align\":\"start\",\"children\":[{\"type\":\"object\",\"name\":\"Spacer\",\"id\":\"4ec15880-0478-42fe-8528-8f3b15bfb299\",\"attributes\":{\"name\":\"HSpacer00432\",\"stylesheets\":[\"\\n:host(.pn-loading):before, .pn-loading:before {\\n  background-color: #c3c3c3;\\n  mask-size: auto calc(min(50%, 400px));\\n  -webkit-mask-size: auto calc(min(50%, 400px));\\n}\",{\"id\":\"ded872d3-7348-4245-bd43-8206eb2790b8\"},{\"id\":\"45dfda5c-d700-4f6d-a62f-b1c0c4bccc8c\"},{\"id\":\"20b877fb-53be-4ac8-a4b1-c8f4d3f0ae79\"}],\"margin\":0,\"sizing_mode\":\"stretch_width\",\"align\":\"start\"}},{\"type\":\"object\",\"name\":\"Figure\",\"id\":\"4fd5dac3-ac49-456f-92ff-090ef5af85da\",\"attributes\":{\"width\":700,\"height\":300,\"margin\":[5,10],\"sizing_mode\":\"fixed\",\"align\":\"start\",\"x_range\":{\"type\":\"object\",\"name\":\"FactorRange\",\"id\":\"a01e0099-6af3-4ba2-bf84-720dd06ecdc2\",\"attributes\":{\"name\":\"post_str_b3\",\"tags\":[[[\"post_str_b3\",null]],[]],\"factors\":[\"19\",\"17\",\"20\",\"23\",\"13\",\"16\",\"24\",\"21\",\"12\",\"15\",\"22\",\"11\",\"18\",\"10\",\"25\",\"14\",\"27\",\"28\",\"26\",\"08\",\"09\",\"29\",\"30\",\"06\",\"07\",\"31\",\"05\",\"32\",\"04\"]}},\"y_range\":{\"type\":\"object\",\"name\":\"Range1d\",\"id\":\"5793550b-1e92-41b7-a04c-b9c6d2548671\",\"attributes\":{\"name\":\"percent\",\"tags\":[[[\"percent\",null]],{\"type\":\"map\",\"entries\":[[\"invert_yaxis\",false],[\"autorange\",false]]}],\"end\":8.078947368421051,\"reset_start\":0.0,\"reset_end\":8.078947368421051}},\"x_scale\":{\"type\":\"object\",\"name\":\"CategoricalScale\",\"id\":\"784b2bdd-78f4-497f-9a15-89d7e4b3ff43\"},\"y_scale\":{\"type\":\"object\",\"name\":\"LinearScale\",\"id\":\"7ff5f31d-c93c-43af-9a25-2254f616d1a4\"},\"title\":{\"type\":\"object\",\"name\":\"Title\",\"id\":\"144b18df-6cc7-453d-8c26-dc7fddedcc3c\",\"attributes\":{\"text_color\":\"black\",\"text_font_size\":\"12pt\"}},\"renderers\":[{\"type\":\"object\",\"name\":\"GlyphRenderer\",\"id\":\"1e13402e-f2b6-47f4-9456-87ce791db8dd\",\"attributes\":{\"data_source\":{\"type\":\"object\",\"name\":\"ColumnDataSource\",\"id\":\"ff525f0b-cc68-4ad9-8976-148a8bdb9835\",\"attributes\":{\"selected\":{\"type\":\"object\",\"name\":\"Selection\",\"id\":\"1a04d3dc-5b29-407c-b21c-dffcefb710c8\",\"attributes\":{\"indices\":[],\"line_indices\":[]}},\"selection_policy\":{\"type\":\"object\",\"name\":\"UnionRenderers\",\"id\":\"6f0a70c6-6a2e-47a0-abd1-032749c47abc\"},\"data\":{\"type\":\"map\",\"entries\":[[\"post_str_b3\",[\"19\",\"17\",\"20\",\"23\",\"13\",\"16\",\"24\",\"21\",\"12\",\"15\",\"22\",\"11\",\"18\",\"10\",\"25\",\"14\",\"27\",\"28\",\"26\",\"08\",\"09\",\"29\",\"30\",\"06\",\"07\",\"31\",\"05\",\"32\",\"04\"]],[\"percent\",{\"type\":\"ndarray\",\"array\":{\"type\":\"bytes\",\"data\":\"k9dQXkN5HUAN5TWU11AaQF5DeQ3lNRhAh/IaymsoF0CvobyG8hoWQK+hvIbyGhZAAAAAAAAAFEAAAAAAAAAUQAAAAAAAABRAKa+hvIbyEkB5DeU1lNcQQEN5DeU1lA9Ak9dQXkN5DUDmNZTXUF4LQDaU11BeQwlAh/IaymsoB0CH8hrKaygHQIfyGsprKAdA11BeQ3kNBUApr6G8hvICQHkN5TWU1wBANpTXUF5D+T82lNdQXkP5P9dQXkN5DfU/11BeQ3kN9T/XUF5DeQ31P3kN5TWU1/A/NpTXUF5D6T95DeU1lNfQPw==\"},\"shape\":[29],\"dtype\":\"float64\",\"order\":\"little\"}]]}}},\"view\":{\"type\":\"object\",\"name\":\"CDSView\",\"id\":\"2e17d43d-20e4-4de0-9638-0528c84cbefa\",\"attributes\":{\"filter\":{\"type\":\"object\",\"name\":\"AllIndices\",\"id\":\"c2b94b4b-1e7c-46fd-906a-70645c05e1a7\"}}},\"glyph\":{\"type\":\"object\",\"name\":\"VBar\",\"id\":\"d8426ca3-4c4b-482e-9818-c62c809210a6\",\"attributes\":{\"tags\":[\"apply_ranges\"],\"x\":{\"type\":\"field\",\"field\":\"post_str_b3\"},\"width\":{\"type\":\"value\",\"value\":0.8},\"top\":{\"type\":\"field\",\"field\":\"percent\"},\"fill_color\":{\"type\":\"value\",\"value\":\"#30a2da\"},\"hatch_color\":{\"type\":\"value\",\"value\":\"#30a2da\"}}},\"selection_glyph\":{\"type\":\"object\",\"name\":\"VBar\",\"id\":\"3e5869c4-6d7b-4f46-9156-532815295d6d\",\"attributes\":{\"tags\":[\"apply_ranges\"],\"x\":{\"type\":\"field\",\"field\":\"post_str_b3\"},\"width\":{\"type\":\"value\",\"value\":0.8},\"bottom\":{\"type\":\"value\",\"value\":0},\"top\":{\"type\":\"field\",\"field\":\"percent\"},\"line_color\":{\"type\":\"value\",\"value\":\"black\"},\"line_alpha\":{\"type\":\"value\",\"value\":1.0},\"line_width\":{\"type\":\"value\",\"value\":1},\"line_join\":{\"type\":\"value\",\"value\":\"bevel\"},\"line_cap\":{\"type\":\"value\",\"value\":\"butt\"},\"line_dash\":{\"type\":\"value\",\"value\":[]},\"line_dash_offset\":{\"type\":\"value\",\"value\":0},\"fill_color\":{\"type\":\"value\",\"value\":\"#30a2da\"},\"fill_alpha\":{\"type\":\"value\",\"value\":1.0},\"hatch_color\":{\"type\":\"value\",\"value\":\"#30a2da\"},\"hatch_alpha\":{\"type\":\"value\",\"value\":1.0},\"hatch_scale\":{\"type\":\"value\",\"value\":12.0},\"hatch_pattern\":{\"type\":\"value\",\"value\":null},\"hatch_weight\":{\"type\":\"value\",\"value\":1.0}}},\"nonselection_glyph\":{\"type\":\"object\",\"name\":\"VBar\",\"id\":\"9cd31a92-2293-4d0e-95e3-e83da7a83961\",\"attributes\":{\"tags\":[\"apply_ranges\"],\"x\":{\"type\":\"field\",\"field\":\"post_str_b3\"},\"width\":{\"type\":\"value\",\"value\":0.8},\"top\":{\"type\":\"field\",\"field\":\"percent\"},\"line_alpha\":{\"type\":\"value\",\"value\":0.1},\"fill_color\":{\"type\":\"value\",\"value\":\"#30a2da\"},\"fill_alpha\":{\"type\":\"value\",\"value\":0.1},\"hatch_color\":{\"type\":\"value\",\"value\":\"#30a2da\"},\"hatch_alpha\":{\"type\":\"value\",\"value\":0.1}}},\"muted_glyph\":{\"type\":\"object\",\"name\":\"VBar\",\"id\":\"3ea8674f-b646-40e6-9be0-95011bb6c91c\",\"attributes\":{\"tags\":[\"apply_ranges\"],\"x\":{\"type\":\"field\",\"field\":\"post_str_b3\"},\"width\":{\"type\":\"value\",\"value\":0.8},\"top\":{\"type\":\"field\",\"field\":\"percent\"},\"line_alpha\":{\"type\":\"value\",\"value\":0.2},\"fill_color\":{\"type\":\"value\",\"value\":\"#30a2da\"},\"fill_alpha\":{\"type\":\"value\",\"value\":0.2},\"hatch_color\":{\"type\":\"value\",\"value\":\"#30a2da\"},\"hatch_alpha\":{\"type\":\"value\",\"value\":0.2}}}}},{\"type\":\"object\",\"name\":\"Span\",\"id\":\"70bbfdc5-dacb-47c8-a20b-d8fafa7ff2cc\",\"attributes\":{\"level\":\"glyph\",\"location\":3.448275862068965,\"line_color\":\"red\",\"line_width\":3}},{\"type\":\"object\",\"name\":\"Span\",\"id\":\"2ed6e262-2187-448c-a5d1-e2acae35496c\",\"attributes\":{\"level\":\"glyph\",\"location\":5.1724137931034475,\"line_color\":\"blue\",\"line_width\":3}},{\"type\":\"object\",\"name\":\"Span\",\"id\":\"723c9d31-53cb-497b-adb7-519bc4b29ffd\",\"attributes\":{\"level\":\"glyph\",\"location\":1.7241379310344827,\"line_color\":\"blue\",\"line_width\":3}}],\"toolbar\":{\"type\":\"object\",\"name\":\"Toolbar\",\"id\":\"a1c695e7-d7bf-47e3-8902-349aa5c7a589\",\"attributes\":{\"tools\":[{\"type\":\"object\",\"name\":\"WheelZoomTool\",\"id\":\"2d5a915f-1960-4235-ad70-c3d3c9caefaf\",\"attributes\":{\"tags\":[\"hv_created\"],\"renderers\":\"auto\",\"zoom_together\":\"none\"}},{\"type\":\"object\",\"name\":\"HoverTool\",\"id\":\"b1313f10-b430-486a-90d9-f64311630d24\",\"attributes\":{\"tags\":[\"hv_created\"],\"renderers\":[{\"id\":\"1e13402e-f2b6-47f4-9456-87ce791db8dd\"}],\"tooltips\":[[\"post_str_b3\",\"@{post_str_b3}\"],[\"percent\",\"@{percent}\"]]}},{\"type\":\"object\",\"name\":\"SaveTool\",\"id\":\"3c92257d-4a52-4cb1-9eeb-7b03f8203ca2\"},{\"type\":\"object\",\"name\":\"PanTool\",\"id\":\"6ba1656f-0ba0-4b5f-9c91-e3927716b72f\"},{\"type\":\"object\",\"name\":\"BoxZoomTool\",\"id\":\"77956ba3-3d20-4fc8-bbcf-2c03e4947f8d\",\"attributes\":{\"dimensions\":\"both\",\"overlay\":{\"type\":\"object\",\"name\":\"BoxAnnotation\",\"id\":\"3a62e7e5-7f49-4d8b-9ac0-588de5e21f0d\",\"attributes\":{\"syncable\":false,\"line_color\":\"black\",\"line_alpha\":1.0,\"line_width\":2,\"line_dash\":[4,4],\"fill_color\":\"lightgrey\",\"fill_alpha\":0.5,\"level\":\"overlay\",\"visible\":false,\"left\":{\"type\":\"number\",\"value\":\"nan\"},\"right\":{\"type\":\"number\",\"value\":\"nan\"},\"top\":{\"type\":\"number\",\"value\":\"nan\"},\"bottom\":{\"type\":\"number\",\"value\":\"nan\"},\"left_units\":\"canvas\",\"right_units\":\"canvas\",\"top_units\":\"canvas\",\"bottom_units\":\"canvas\",\"handles\":{\"type\":\"object\",\"name\":\"BoxInteractionHandles\",\"id\":\"2e34f71b-8dc4-4a7c-9fcd-8fb01108c793\",\"attributes\":{\"all\":{\"type\":\"object\",\"name\":\"AreaVisuals\",\"id\":\"8a8e9027-f235-494f-aac1-f0fc4d40c622\",\"attributes\":{\"fill_color\":\"white\",\"hover_fill_color\":\"lightgray\"}}}}}}}},{\"type\":\"object\",\"name\":\"ResetTool\",\"id\":\"5284ea9a-4ee8-4b70-8133-733e33486b1f\"}],\"active_drag\":{\"id\":\"6ba1656f-0ba0-4b5f-9c91-e3927716b72f\"}}},\"left\":[{\"type\":\"object\",\"name\":\"LinearAxis\",\"id\":\"fef27970-7e45-4766-958f-27a29dbfb5ae\",\"attributes\":{\"ticker\":{\"type\":\"object\",\"name\":\"BasicTicker\",\"id\":\"8f3b251a-25e2-43f0-b0cb-1e98f2a7d66a\",\"attributes\":{\"mantissas\":[1,2,5]}},\"formatter\":{\"type\":\"object\",\"name\":\"BasicTickFormatter\",\"id\":\"d118c407-39ad-4b1c-9144-e063ac9c6845\"},\"axis_label\":\"percent\",\"major_label_policy\":{\"type\":\"object\",\"name\":\"AllLabels\",\"id\":\"5ec16129-8228-41a2-9f4e-4fa126dc5562\"}}}],\"below\":[{\"type\":\"object\",\"name\":\"CategoricalAxis\",\"id\":\"cf0181ab-0b62-4b41-a14c-f15ac6b53bc4\",\"attributes\":{\"ticker\":{\"type\":\"object\",\"name\":\"CategoricalTicker\",\"id\":\"1578a9b1-8454-4f85-8d57-3c8014d92739\"},\"formatter\":{\"type\":\"object\",\"name\":\"CategoricalTickFormatter\",\"id\":\"395f4ac5-3634-42fc-8e33-ac9c8c286dc6\"},\"axis_label\":\"post_str_b3\",\"major_label_policy\":{\"type\":\"object\",\"name\":\"AllLabels\",\"id\":\"203cbe3c-79ed-4712-a2ee-9db477bcfd62\"}}}],\"center\":[{\"type\":\"object\",\"name\":\"Grid\",\"id\":\"259beacd-7ff6-4634-951b-c10fa04efbe9\",\"attributes\":{\"axis\":{\"id\":\"cf0181ab-0b62-4b41-a14c-f15ac6b53bc4\"},\"grid_line_color\":null}},{\"type\":\"object\",\"name\":\"Grid\",\"id\":\"150c4266-56c9-4741-b6fa-54f845350f75\",\"attributes\":{\"dimension\":1,\"axis\":{\"id\":\"fef27970-7e45-4766-958f-27a29dbfb5ae\"},\"grid_line_color\":null}}],\"min_border_top\":10,\"min_border_bottom\":10,\"min_border_left\":10,\"min_border_right\":10,\"output_backend\":\"webgl\"}},{\"type\":\"object\",\"name\":\"Spacer\",\"id\":\"311d388d-e7f4-4ee4-a9a8-6752ff25bcfa\",\"attributes\":{\"name\":\"HSpacer00433\",\"stylesheets\":[\"\\n:host(.pn-loading):before, .pn-loading:before {\\n  background-color: #c3c3c3;\\n  mask-size: auto calc(min(50%, 400px));\\n  -webkit-mask-size: auto calc(min(50%, 400px));\\n}\",{\"id\":\"ded872d3-7348-4245-bd43-8206eb2790b8\"},{\"id\":\"45dfda5c-d700-4f6d-a62f-b1c0c4bccc8c\"},{\"id\":\"20b877fb-53be-4ac8-a4b1-c8f4d3f0ae79\"}],\"margin\":0,\"sizing_mode\":\"stretch_width\",\"align\":\"start\"}}]}}],\"defs\":[{\"type\":\"model\",\"name\":\"ReactiveHTML1\"},{\"type\":\"model\",\"name\":\"FlexBox1\",\"properties\":[{\"name\":\"align_content\",\"kind\":\"Any\",\"default\":\"flex-start\"},{\"name\":\"align_items\",\"kind\":\"Any\",\"default\":\"flex-start\"},{\"name\":\"flex_direction\",\"kind\":\"Any\",\"default\":\"row\"},{\"name\":\"flex_wrap\",\"kind\":\"Any\",\"default\":\"wrap\"},{\"name\":\"gap\",\"kind\":\"Any\",\"default\":\"\"},{\"name\":\"justify_content\",\"kind\":\"Any\",\"default\":\"flex-start\"}]},{\"type\":\"model\",\"name\":\"FloatPanel1\",\"properties\":[{\"name\":\"config\",\"kind\":\"Any\",\"default\":{\"type\":\"map\"}},{\"name\":\"contained\",\"kind\":\"Any\",\"default\":true},{\"name\":\"position\",\"kind\":\"Any\",\"default\":\"right-top\"},{\"name\":\"offsetx\",\"kind\":\"Any\",\"default\":null},{\"name\":\"offsety\",\"kind\":\"Any\",\"default\":null},{\"name\":\"theme\",\"kind\":\"Any\",\"default\":\"primary\"},{\"name\":\"status\",\"kind\":\"Any\",\"default\":\"normalized\"}]},{\"type\":\"model\",\"name\":\"GridStack1\",\"properties\":[{\"name\":\"ncols\",\"kind\":\"Any\",\"default\":null},{\"name\":\"nrows\",\"kind\":\"Any\",\"default\":null},{\"name\":\"allow_resize\",\"kind\":\"Any\",\"default\":true},{\"name\":\"allow_drag\",\"kind\":\"Any\",\"default\":true},{\"name\":\"state\",\"kind\":\"Any\",\"default\":[]}]},{\"type\":\"model\",\"name\":\"drag1\",\"properties\":[{\"name\":\"slider_width\",\"kind\":\"Any\",\"default\":5},{\"name\":\"slider_color\",\"kind\":\"Any\",\"default\":\"black\"},{\"name\":\"value\",\"kind\":\"Any\",\"default\":50}]},{\"type\":\"model\",\"name\":\"click1\",\"properties\":[{\"name\":\"terminal_output\",\"kind\":\"Any\",\"default\":\"\"},{\"name\":\"debug_name\",\"kind\":\"Any\",\"default\":\"\"},{\"name\":\"clears\",\"kind\":\"Any\",\"default\":0}]},{\"type\":\"model\",\"name\":\"FastWrapper1\",\"properties\":[{\"name\":\"object\",\"kind\":\"Any\",\"default\":null},{\"name\":\"style\",\"kind\":\"Any\",\"default\":null}]},{\"type\":\"model\",\"name\":\"NotificationArea1\",\"properties\":[{\"name\":\"js_events\",\"kind\":\"Any\",\"default\":{\"type\":\"map\"}},{\"name\":\"max_notifications\",\"kind\":\"Any\",\"default\":5},{\"name\":\"notifications\",\"kind\":\"Any\",\"default\":[]},{\"name\":\"position\",\"kind\":\"Any\",\"default\":\"bottom-right\"},{\"name\":\"_clear\",\"kind\":\"Any\",\"default\":0},{\"name\":\"types\",\"kind\":\"Any\",\"default\":[{\"type\":\"map\",\"entries\":[[\"type\",\"warning\"],[\"background\",\"#ffc107\"],[\"icon\",{\"type\":\"map\",\"entries\":[[\"className\",\"fas fa-exclamation-triangle\"],[\"tagName\",\"i\"],[\"color\",\"white\"]]}]]},{\"type\":\"map\",\"entries\":[[\"type\",\"info\"],[\"background\",\"#007bff\"],[\"icon\",{\"type\":\"map\",\"entries\":[[\"className\",\"fas fa-info-circle\"],[\"tagName\",\"i\"],[\"color\",\"white\"]]}]]}]}]},{\"type\":\"model\",\"name\":\"Notification\",\"properties\":[{\"name\":\"background\",\"kind\":\"Any\",\"default\":null},{\"name\":\"duration\",\"kind\":\"Any\",\"default\":3000},{\"name\":\"icon\",\"kind\":\"Any\",\"default\":null},{\"name\":\"message\",\"kind\":\"Any\",\"default\":\"\"},{\"name\":\"notification_type\",\"kind\":\"Any\",\"default\":null},{\"name\":\"_rendered\",\"kind\":\"Any\",\"default\":false},{\"name\":\"_destroyed\",\"kind\":\"Any\",\"default\":false}]},{\"type\":\"model\",\"name\":\"TemplateActions1\",\"properties\":[{\"name\":\"open_modal\",\"kind\":\"Any\",\"default\":0},{\"name\":\"close_modal\",\"kind\":\"Any\",\"default\":0}]},{\"type\":\"model\",\"name\":\"BootstrapTemplateActions1\",\"properties\":[{\"name\":\"open_modal\",\"kind\":\"Any\",\"default\":0},{\"name\":\"close_modal\",\"kind\":\"Any\",\"default\":0}]},{\"type\":\"model\",\"name\":\"TemplateEditor1\",\"properties\":[{\"name\":\"layout\",\"kind\":\"Any\",\"default\":[]}]},{\"type\":\"model\",\"name\":\"MaterialTemplateActions1\",\"properties\":[{\"name\":\"open_modal\",\"kind\":\"Any\",\"default\":0},{\"name\":\"close_modal\",\"kind\":\"Any\",\"default\":0}]},{\"type\":\"model\",\"name\":\"ReactiveESM1\",\"properties\":[{\"name\":\"esm_constants\",\"kind\":\"Any\",\"default\":{\"type\":\"map\"}}]},{\"type\":\"model\",\"name\":\"JSComponent1\",\"properties\":[{\"name\":\"esm_constants\",\"kind\":\"Any\",\"default\":{\"type\":\"map\"}}]},{\"type\":\"model\",\"name\":\"ReactComponent1\",\"properties\":[{\"name\":\"esm_constants\",\"kind\":\"Any\",\"default\":{\"type\":\"map\"}}]},{\"type\":\"model\",\"name\":\"AnyWidgetComponent1\",\"properties\":[{\"name\":\"esm_constants\",\"kind\":\"Any\",\"default\":{\"type\":\"map\"}}]},{\"type\":\"model\",\"name\":\"request_value1\",\"properties\":[{\"name\":\"fill\",\"kind\":\"Any\",\"default\":\"none\"},{\"name\":\"_synced\",\"kind\":\"Any\",\"default\":null},{\"name\":\"_request_sync\",\"kind\":\"Any\",\"default\":0}]}]}};\n",
       "  var render_items = [{\"docid\":\"0e11aeb3-d131-4fc5-b075-64f3e5c5a67a\",\"roots\":{\"b37f5fde-cabc-41b3-91a5-9399849d98b0\":\"b950439f-80fc-4d6b-9b3e-fe590870b344\"},\"root_ids\":[\"b37f5fde-cabc-41b3-91a5-9399849d98b0\"]}];\n",
       "  var docs = Object.values(docs_json)\n",
       "  if (!docs) {\n",
       "    return\n",
       "  }\n",
       "  const py_version = docs[0].version.replace('rc', '-rc.').replace('.dev', '-dev.')\n",
       "  async function embed_document(root) {\n",
       "    var Bokeh = get_bokeh(root)\n",
       "    await Bokeh.embed.embed_items_notebook(docs_json, render_items);\n",
       "    for (const render_item of render_items) {\n",
       "      for (const root_id of render_item.root_ids) {\n",
       "\tconst id_el = document.getElementById(root_id)\n",
       "\tif (id_el.children.length && id_el.children[0].hasAttribute('data-root-id')) {\n",
       "\t  const root_el = id_el.children[0]\n",
       "\t  root_el.id = root_el.id + '-rendered'\n",
       "\t  for (const child of root_el.children) {\n",
       "            // Ensure JupyterLab does not capture keyboard shortcuts\n",
       "            // see: https://jupyterlab.readthedocs.io/en/4.1.x/extension/notebook.html#keyboard-interaction-model\n",
       "\t    child.setAttribute('data-lm-suppress-shortcuts', 'true')\n",
       "\t  }\n",
       "\t}\n",
       "      }\n",
       "    }\n",
       "  }\n",
       "  function get_bokeh(root) {\n",
       "    if (root.Bokeh === undefined) {\n",
       "      return null\n",
       "    } else if (root.Bokeh.version !== py_version) {\n",
       "      if (root.Bokeh.versions === undefined || !root.Bokeh.versions.has(py_version)) {\n",
       "\treturn null\n",
       "      }\n",
       "      return root.Bokeh.versions.get(py_version);\n",
       "    } else if (root.Bokeh.version === py_version) {\n",
       "      return root.Bokeh\n",
       "    }\n",
       "    return null\n",
       "  }\n",
       "  function is_loaded(root) {\n",
       "    var Bokeh = get_bokeh(root)\n",
       "    return (Bokeh != null && Bokeh.Panel !== undefined)\n",
       "  }\n",
       "  if (is_loaded(root)) {\n",
       "    embed_document(root);\n",
       "  } else {\n",
       "    var attempts = 0;\n",
       "    var timer = setInterval(function(root) {\n",
       "      if (is_loaded(root)) {\n",
       "        clearInterval(timer);\n",
       "        embed_document(root);\n",
       "      } else if (document.readyState == \"complete\") {\n",
       "        attempts++;\n",
       "        if (attempts > 200) {\n",
       "          clearInterval(timer);\n",
       "\t  var Bokeh = get_bokeh(root)\n",
       "\t  if (Bokeh == null || Bokeh.Panel == null) {\n",
       "            console.warn(\"Panel: ERROR: Unable to run Panel code because Bokeh or Panel library is missing\");\n",
       "\t  } else {\n",
       "\t    console.warn(\"Panel: WARNING: Attempting to render but not all required libraries could be resolved.\")\n",
       "\t    embed_document(root)\n",
       "\t  }\n",
       "        }\n",
       "      }\n",
       "    }, 25, root)\n",
       "  }\n",
       "})(window);</script>"
      ],
      "text/plain": [
       ":Overlay\n",
       "   .Bars.I    :Bars   [post_str_b3]   (percent)\n",
       "   .HLine.I   :HLine   [x,y]\n",
       "   .HLine.II  :HLine   [x,y]\n",
       "   .HLine.III :HLine   [x,y]"
      ]
     },
     "metadata": {
      "application/vnd.holoviews_exec.v0+json": {
       "id": "b37f5fde-cabc-41b3-91a5-9399849d98b0"
      }
     },
     "output_type": "display_data"
    },
    {
     "name": "stdout",
     "output_type": "stream",
     "text": [
      "df_10_last FOR str_b3 = 23\n"
     ]
    },
    {
     "data": {
      "text/html": [
       "<div><style>\n",
       ".dataframe > thead > tr,\n",
       ".dataframe > tbody > tr {\n",
       "  text-align: right;\n",
       "  white-space: pre-wrap;\n",
       "}\n",
       "</style>\n",
       "<small>shape: (10, 24)</small><table border=\"1\" class=\"dataframe\"><thead><tr><th>fecha</th><th>sorteo</th><th>bolillas</th><th>id</th><th>combo</th><th>b1</th><th>b2</th><th>b3</th><th>b4</th><th>b5</th><th>str_b1</th><th>str_b2</th><th>str_b3</th><th>str_b4</th><th>str_b5</th><th>post_str_b1</th><th>post_str_b2</th><th>post_str_b3</th><th>post_str_b4</th><th>post_str_blast</th><th>is_rare_combination</th><th>reason</th><th>jumps_map</th><th>unijump</th></tr><tr><td>str</td><td>str</td><td>str</td><td>str</td><td>array[u8, 5]</td><td>u8</td><td>u8</td><td>u8</td><td>u8</td><td>u8</td><td>str</td><td>str</td><td>str</td><td>str</td><td>str</td><td>str</td><td>str</td><td>str</td><td>str</td><td>str</td><td>bool</td><td>u8</td><td>str</td><td>i64</td></tr></thead><tbody><tr><td>&quot;07/02/2025&quot;</td><td>&quot;4120&quot;</td><td>&quot;08 35 23 28 17&quot;</td><td>&quot;0817232835&quot;</td><td>[8, 17, … 35]</td><td>8</td><td>17</td><td>23</td><td>28</td><td>35</td><td>&quot;08&quot;</td><td>&quot;17&quot;</td><td>&quot;23&quot;</td><td>&quot;28&quot;</td><td>&quot;35&quot;</td><td>&quot;01&quot;</td><td>&quot;02&quot;</td><td>&quot;16&quot;</td><td>&quot;19&quot;</td><td>&quot;31&quot;</td><td>false</td><td>0</td><td>&quot;09_06_05_07&quot;</td><td>1</td></tr><tr><td>&quot;04/02/2025&quot;</td><td>&quot;4117&quot;</td><td>&quot;34 35 06 23 13&quot;</td><td>&quot;0613233435&quot;</td><td>[6, 13, … 35]</td><td>6</td><td>13</td><td>23</td><td>34</td><td>35</td><td>&quot;06&quot;</td><td>&quot;13&quot;</td><td>&quot;23&quot;</td><td>&quot;34&quot;</td><td>&quot;35&quot;</td><td>&quot;14&quot;</td><td>&quot;19&quot;</td><td>&quot;28&quot;</td><td>&quot;31&quot;</td><td>&quot;34&quot;</td><td>false</td><td>0</td><td>&quot;07_10_11_01&quot;</td><td>-9</td></tr><tr><td>&quot;30/01/2025&quot;</td><td>&quot;4112&quot;</td><td>&quot;23 06 22 33 34&quot;</td><td>&quot;0622233334&quot;</td><td>[6, 22, … 34]</td><td>6</td><td>22</td><td>23</td><td>33</td><td>34</td><td>&quot;06&quot;</td><td>&quot;22&quot;</td><td>&quot;23&quot;</td><td>&quot;33&quot;</td><td>&quot;34&quot;</td><td>&quot;04&quot;</td><td>&quot;05&quot;</td><td>&quot;19&quot;</td><td>&quot;28&quot;</td><td>&quot;32&quot;</td><td>true</td><td>16</td><td>&quot;16_01_10_01&quot;</td><td>-42</td></tr><tr><td>&quot;15/12/2024&quot;</td><td>&quot;4066&quot;</td><td>&quot;24 31 08 23 19&quot;</td><td>&quot;0819232431&quot;</td><td>[8, 19, … 31]</td><td>8</td><td>19</td><td>23</td><td>24</td><td>31</td><td>&quot;08&quot;</td><td>&quot;19&quot;</td><td>&quot;23&quot;</td><td>&quot;24&quot;</td><td>&quot;31&quot;</td><td>&quot;05&quot;</td><td>&quot;07&quot;</td><td>&quot;11&quot;</td><td>&quot;14&quot;</td><td>&quot;29&quot;</td><td>false</td><td>0</td><td>&quot;11_04_01_07&quot;</td><td>5</td></tr><tr><td>&quot;09/11/2024&quot;</td><td>&quot;4030&quot;</td><td>&quot;26 23 30 12 17&quot;</td><td>&quot;1217232630&quot;</td><td>[12, 17, … 30]</td><td>12</td><td>17</td><td>23</td><td>26</td><td>30</td><td>&quot;12&quot;</td><td>&quot;17&quot;</td><td>&quot;23&quot;</td><td>&quot;26&quot;</td><td>&quot;30&quot;</td><td>&quot;02&quot;</td><td>&quot;08&quot;</td><td>&quot;09&quot;</td><td>&quot;27&quot;</td><td>&quot;29&quot;</td><td>false</td><td>0</td><td>&quot;05_06_03_04&quot;</td><td>8</td></tr><tr><td>&quot;02/11/2024&quot;</td><td>&quot;4023&quot;</td><td>&quot;08 13 23 34 29&quot;</td><td>&quot;0813232934&quot;</td><td>[8, 13, … 34]</td><td>8</td><td>13</td><td>23</td><td>29</td><td>34</td><td>&quot;08&quot;</td><td>&quot;13&quot;</td><td>&quot;23&quot;</td><td>&quot;29&quot;</td><td>&quot;34&quot;</td><td>&quot;09&quot;</td><td>&quot;13&quot;</td><td>&quot;14&quot;</td><td>&quot;22&quot;</td><td>&quot;34&quot;</td><td>false</td><td>0</td><td>&quot;05_10_06_05&quot;</td><td>12</td></tr><tr><td>&quot;31/10/2024&quot;</td><td>&quot;4021&quot;</td><td>&quot;24 12 03 23 35&quot;</td><td>&quot;0312232435&quot;</td><td>[3, 12, … 35]</td><td>3</td><td>12</td><td>23</td><td>24</td><td>35</td><td>&quot;03&quot;</td><td>&quot;12&quot;</td><td>&quot;23&quot;</td><td>&quot;24&quot;</td><td>&quot;35&quot;</td><td>&quot;03&quot;</td><td>&quot;07&quot;</td><td>&quot;10&quot;</td><td>&quot;24&quot;</td><td>&quot;28&quot;</td><td>false</td><td>0</td><td>&quot;09_11_01_11&quot;</td><td>32</td></tr><tr><td>&quot;21/10/2024&quot;</td><td>&quot;4011&quot;</td><td>&quot;24 19 34 23 04&quot;</td><td>&quot;0419232434&quot;</td><td>[4, 19, … 34]</td><td>4</td><td>19</td><td>23</td><td>24</td><td>34</td><td>&quot;04&quot;</td><td>&quot;19&quot;</td><td>&quot;23&quot;</td><td>&quot;24&quot;</td><td>&quot;34&quot;</td><td>&quot;04&quot;</td><td>&quot;11&quot;</td><td>&quot;24&quot;</td><td>&quot;28&quot;</td><td>&quot;33&quot;</td><td>false</td><td>0</td><td>&quot;15_04_01_10&quot;</td><td>4</td></tr><tr><td>&quot;08/10/2024&quot;</td><td>&quot;3998&quot;</td><td>&quot;12 02 32 23 28&quot;</td><td>&quot;0212232832&quot;</td><td>[2, 12, … 32]</td><td>2</td><td>12</td><td>23</td><td>28</td><td>32</td><td>&quot;02&quot;</td><td>&quot;12&quot;</td><td>&quot;23&quot;</td><td>&quot;28&quot;</td><td>&quot;32&quot;</td><td>&quot;04&quot;</td><td>&quot;23&quot;</td><td>&quot;26&quot;</td><td>&quot;28&quot;</td><td>&quot;30&quot;</td><td>false</td><td>0</td><td>&quot;10_11_05_04&quot;</td><td>12</td></tr><tr><td>&quot;23/09/2024&quot;</td><td>&quot;3983&quot;</td><td>&quot;08 23 32 28 12&quot;</td><td>&quot;0812232832&quot;</td><td>[8, 12, … 32]</td><td>8</td><td>12</td><td>23</td><td>28</td><td>32</td><td>&quot;08&quot;</td><td>&quot;12&quot;</td><td>&quot;23&quot;</td><td>&quot;28&quot;</td><td>&quot;32&quot;</td><td>&quot;11&quot;</td><td>&quot;20&quot;</td><td>&quot;21&quot;</td><td>&quot;23&quot;</td><td>&quot;31&quot;</td><td>false</td><td>0</td><td>&quot;04_11_05_04&quot;</td><td>18</td></tr></tbody></table></div>"
      ],
      "text/plain": [
       "shape: (10, 24)\n",
       "┌────────────┬────────┬─────────────┬────────────┬───┬─────────────┬────────┬────────────┬─────────┐\n",
       "│ fecha      ┆ sorteo ┆ bolillas    ┆ id         ┆ … ┆ is_rare_com ┆ reason ┆ jumps_map  ┆ unijump │\n",
       "│ ---        ┆ ---    ┆ ---         ┆ ---        ┆   ┆ bination    ┆ ---    ┆ ---        ┆ ---     │\n",
       "│ str        ┆ str    ┆ str         ┆ str        ┆   ┆ ---         ┆ u8     ┆ str        ┆ i64     │\n",
       "│            ┆        ┆             ┆            ┆   ┆ bool        ┆        ┆            ┆         │\n",
       "╞════════════╪════════╪═════════════╪════════════╪═══╪═════════════╪════════╪════════════╪═════════╡\n",
       "│ 07/02/2025 ┆ 4120   ┆ 08 35 23 28 ┆ 0817232835 ┆ … ┆ false       ┆ 0      ┆ 09_06_05_0 ┆ 1       │\n",
       "│            ┆        ┆ 17          ┆            ┆   ┆             ┆        ┆ 7          ┆         │\n",
       "│ 04/02/2025 ┆ 4117   ┆ 34 35 06 23 ┆ 0613233435 ┆ … ┆ false       ┆ 0      ┆ 07_10_11_0 ┆ -9      │\n",
       "│            ┆        ┆ 13          ┆            ┆   ┆             ┆        ┆ 1          ┆         │\n",
       "│ 30/01/2025 ┆ 4112   ┆ 23 06 22 33 ┆ 0622233334 ┆ … ┆ true        ┆ 16     ┆ 16_01_10_0 ┆ -42     │\n",
       "│            ┆        ┆ 34          ┆            ┆   ┆             ┆        ┆ 1          ┆         │\n",
       "│ 15/12/2024 ┆ 4066   ┆ 24 31 08 23 ┆ 0819232431 ┆ … ┆ false       ┆ 0      ┆ 11_04_01_0 ┆ 5       │\n",
       "│            ┆        ┆ 19          ┆            ┆   ┆             ┆        ┆ 7          ┆         │\n",
       "│ 09/11/2024 ┆ 4030   ┆ 26 23 30 12 ┆ 1217232630 ┆ … ┆ false       ┆ 0      ┆ 05_06_03_0 ┆ 8       │\n",
       "│            ┆        ┆ 17          ┆            ┆   ┆             ┆        ┆ 4          ┆         │\n",
       "│ 02/11/2024 ┆ 4023   ┆ 08 13 23 34 ┆ 0813232934 ┆ … ┆ false       ┆ 0      ┆ 05_10_06_0 ┆ 12      │\n",
       "│            ┆        ┆ 29          ┆            ┆   ┆             ┆        ┆ 5          ┆         │\n",
       "│ 31/10/2024 ┆ 4021   ┆ 24 12 03 23 ┆ 0312232435 ┆ … ┆ false       ┆ 0      ┆ 09_11_01_1 ┆ 32      │\n",
       "│            ┆        ┆ 35          ┆            ┆   ┆             ┆        ┆ 1          ┆         │\n",
       "│ 21/10/2024 ┆ 4011   ┆ 24 19 34 23 ┆ 0419232434 ┆ … ┆ false       ┆ 0      ┆ 15_04_01_1 ┆ 4       │\n",
       "│            ┆        ┆ 04          ┆            ┆   ┆             ┆        ┆ 0          ┆         │\n",
       "│ 08/10/2024 ┆ 3998   ┆ 12 02 32 23 ┆ 0212232832 ┆ … ┆ false       ┆ 0      ┆ 10_11_05_0 ┆ 12      │\n",
       "│            ┆        ┆ 28          ┆            ┆   ┆             ┆        ┆ 4          ┆         │\n",
       "│ 23/09/2024 ┆ 3983   ┆ 08 23 32 28 ┆ 0812232832 ┆ … ┆ false       ┆ 0      ┆ 04_11_05_0 ┆ 18      │\n",
       "│            ┆        ┆ 12          ┆            ┆   ┆             ┆        ┆ 4          ┆         │\n",
       "└────────────┴────────┴─────────────┴────────────┴───┴─────────────┴────────┴────────────┴─────────┘"
      ]
     },
     "metadata": {},
     "output_type": "display_data"
    },
    {
     "name": "stdout",
     "output_type": "stream",
     "text": [
      "df_jumps_map FOR str_b3 = 23\n"
     ]
    },
    {
     "data": {
      "text/html": [
       "<div><style>\n",
       ".dataframe > thead > tr,\n",
       ".dataframe > tbody > tr {\n",
       "  text-align: right;\n",
       "  white-space: pre-wrap;\n",
       "}\n",
       "</style>\n",
       "<small>shape: (377, 2)</small><table border=\"1\" class=\"dataframe\"><thead><tr><th>jumps_map</th><th>count</th></tr><tr><td>str</td><td>u32</td></tr></thead><tbody><tr><td>&quot;03_11_05_04&quot;</td><td>2</td></tr><tr><td>&quot;05_01_05_01&quot;</td><td>2</td></tr><tr><td>&quot;08_01_04_02&quot;</td><td>2</td></tr><tr><td>&quot;03_16_01_02&quot;</td><td>1</td></tr><tr><td>&quot;04_15_08_04&quot;</td><td>1</td></tr><tr><td>&hellip;</td><td>&hellip;</td></tr><tr><td>&quot;12_01_11_01&quot;</td><td>1</td></tr><tr><td>&quot;06_08_02_05&quot;</td><td>1</td></tr><tr><td>&quot;03_18_02_06&quot;</td><td>1</td></tr><tr><td>&quot;08_11_04_05&quot;</td><td>1</td></tr><tr><td>&quot;06_02_04_02&quot;</td><td>1</td></tr></tbody></table></div>"
      ],
      "text/plain": [
       "shape: (377, 2)\n",
       "┌─────────────┬───────┐\n",
       "│ jumps_map   ┆ count │\n",
       "│ ---         ┆ ---   │\n",
       "│ str         ┆ u32   │\n",
       "╞═════════════╪═══════╡\n",
       "│ 03_11_05_04 ┆ 2     │\n",
       "│ 05_01_05_01 ┆ 2     │\n",
       "│ 08_01_04_02 ┆ 2     │\n",
       "│ 03_16_01_02 ┆ 1     │\n",
       "│ 04_15_08_04 ┆ 1     │\n",
       "│ …           ┆ …     │\n",
       "│ 12_01_11_01 ┆ 1     │\n",
       "│ 06_08_02_05 ┆ 1     │\n",
       "│ 03_18_02_06 ┆ 1     │\n",
       "│ 08_11_04_05 ┆ 1     │\n",
       "│ 06_02_04_02 ┆ 1     │\n",
       "└─────────────┴───────┘"
      ]
     },
     "metadata": {},
     "output_type": "display_data"
    },
    {
     "name": "stdout",
     "output_type": "stream",
     "text": [
      "df_unijump FOR str_b3 = 23\n"
     ]
    },
    {
     "data": {
      "text/html": [
       "<div><style>\n",
       ".dataframe > thead > tr,\n",
       ".dataframe > tbody > tr {\n",
       "  text-align: right;\n",
       "  white-space: pre-wrap;\n",
       "}\n",
       "</style>\n",
       "<small>shape: (89, 2)</small><table border=\"1\" class=\"dataframe\"><thead><tr><th>unijump</th><th>count</th></tr><tr><td>i64</td><td>u32</td></tr></thead><tbody><tr><td>2</td><td>13</td></tr><tr><td>7</td><td>13</td></tr><tr><td>19</td><td>11</td></tr><tr><td>-1</td><td>9</td></tr><tr><td>0</td><td>9</td></tr><tr><td>&hellip;</td><td>&hellip;</td></tr><tr><td>26</td><td>1</td></tr><tr><td>-23</td><td>1</td></tr><tr><td>54</td><td>1</td></tr><tr><td>-31</td><td>1</td></tr><tr><td>55</td><td>1</td></tr></tbody></table></div>"
      ],
      "text/plain": [
       "shape: (89, 2)\n",
       "┌─────────┬───────┐\n",
       "│ unijump ┆ count │\n",
       "│ ---     ┆ ---   │\n",
       "│ i64     ┆ u32   │\n",
       "╞═════════╪═══════╡\n",
       "│ 2       ┆ 13    │\n",
       "│ 7       ┆ 13    │\n",
       "│ 19      ┆ 11    │\n",
       "│ -1      ┆ 9     │\n",
       "│ 0       ┆ 9     │\n",
       "│ …       ┆ …     │\n",
       "│ 26      ┆ 1     │\n",
       "│ -23     ┆ 1     │\n",
       "│ 54      ┆ 1     │\n",
       "│ -31     ┆ 1     │\n",
       "│ 55      ┆ 1     │\n",
       "└─────────┴───────┘"
      ]
     },
     "metadata": {},
     "output_type": "display_data"
    }
   ],
   "source": [
    "possible_b3, exclude_jump_maps_b3 = plot_post_col(col='str_b3', post_col='post_str_b3')"
   ]
  },
  {
   "cell_type": "code",
   "execution_count": 10,
   "metadata": {},
   "outputs": [
    {
     "name": "stdout",
     "output_type": "stream",
     "text": [
      "Setting test_value='29'\n",
      "df_viz FOR str_b4 = 29\n"
     ]
    },
    {
     "data": {
      "text/html": [
       "<div><style>\n",
       ".dataframe > thead > tr,\n",
       ".dataframe > tbody > tr {\n",
       "  text-align: right;\n",
       "  white-space: pre-wrap;\n",
       "}\n",
       "</style>\n",
       "<small>shape: (27, 3)</small><table border=\"1\" class=\"dataframe\"><thead><tr><th>post_str_b4</th><th>count</th><th>percent</th></tr><tr><td>str</td><td>u32</td><td>f64</td></tr></thead><tbody><tr><td>&quot;26&quot;</td><td>40</td><td>8.67679</td></tr><tr><td>&quot;24&quot;</td><td>36</td><td>7.809111</td></tr><tr><td>&quot;25&quot;</td><td>32</td><td>6.941432</td></tr><tr><td>&quot;28&quot;</td><td>32</td><td>6.941432</td></tr><tr><td>&quot;27&quot;</td><td>30</td><td>6.507592</td></tr><tr><td>&hellip;</td><td>&hellip;</td><td>&hellip;</td></tr><tr><td>&quot;13&quot;</td><td>3</td><td>0.650759</td></tr><tr><td>&quot;10&quot;</td><td>3</td><td>0.650759</td></tr><tr><td>&quot;09&quot;</td><td>2</td><td>0.433839</td></tr><tr><td>&quot;11&quot;</td><td>2</td><td>0.433839</td></tr><tr><td>&quot;05&quot;</td><td>1</td><td>0.21692</td></tr></tbody></table></div>"
      ],
      "text/plain": [
       "shape: (27, 3)\n",
       "┌─────────────┬───────┬──────────┐\n",
       "│ post_str_b4 ┆ count ┆ percent  │\n",
       "│ ---         ┆ ---   ┆ ---      │\n",
       "│ str         ┆ u32   ┆ f64      │\n",
       "╞═════════════╪═══════╪══════════╡\n",
       "│ 26          ┆ 40    ┆ 8.67679  │\n",
       "│ 24          ┆ 36    ┆ 7.809111 │\n",
       "│ 25          ┆ 32    ┆ 6.941432 │\n",
       "│ 28          ┆ 32    ┆ 6.941432 │\n",
       "│ 27          ┆ 30    ┆ 6.507592 │\n",
       "│ …           ┆ …     ┆ …        │\n",
       "│ 13          ┆ 3     ┆ 0.650759 │\n",
       "│ 10          ┆ 3     ┆ 0.650759 │\n",
       "│ 09          ┆ 2     ┆ 0.433839 │\n",
       "│ 11          ┆ 2     ┆ 0.433839 │\n",
       "│ 05          ┆ 1     ┆ 0.21692  │\n",
       "└─────────────┴───────┴──────────┘"
      ]
     },
     "metadata": {},
     "output_type": "display_data"
    },
    {
     "data": {},
     "metadata": {},
     "output_type": "display_data"
    },
    {
     "data": {
      "application/vnd.holoviews_exec.v0+json": "",
      "text/html": [
       "<div id='ff42b9a2-655f-4f50-8188-97bf3fa7b15c'>\n",
       "  <div id=\"edbbf684-c98c-45fa-8c4f-ce06bda0a50e\" data-root-id=\"ff42b9a2-655f-4f50-8188-97bf3fa7b15c\" style=\"display: contents;\"></div>\n",
       "</div>\n",
       "<script type=\"application/javascript\">(function(root) {\n",
       "  var docs_json = {\"5d9b4a13-1923-4811-8211-2ce302df5356\":{\"version\":\"3.7.2\",\"title\":\"Bokeh Application\",\"roots\":[{\"type\":\"object\",\"name\":\"Row\",\"id\":\"ff42b9a2-655f-4f50-8188-97bf3fa7b15c\",\"attributes\":{\"name\":\"Row00499\",\"tags\":[\"embedded\"],\"stylesheets\":[\"\\n:host(.pn-loading):before, .pn-loading:before {\\n  background-color: #c3c3c3;\\n  mask-size: auto calc(min(50%, 400px));\\n  -webkit-mask-size: auto calc(min(50%, 400px));\\n}\",{\"type\":\"object\",\"name\":\"ImportedStyleSheet\",\"id\":\"38941e35-0217-4927-99e0-c5f6c7f3d9f1\",\"attributes\":{\"url\":\"https://cdn.holoviz.org/panel/1.6.2/dist/css/loading.css\"}},{\"type\":\"object\",\"name\":\"ImportedStyleSheet\",\"id\":\"7d4f4412-eceb-4cd2-b3f3-2425a40e4c60\",\"attributes\":{\"url\":\"https://cdn.holoviz.org/panel/1.6.2/dist/css/listpanel.css\"}},{\"type\":\"object\",\"name\":\"ImportedStyleSheet\",\"id\":\"57a47f7c-13e6-49b1-9949-81a2e934580c\",\"attributes\":{\"url\":\"https://cdn.holoviz.org/panel/1.6.2/dist/bundled/theme/default.css\"}},{\"type\":\"object\",\"name\":\"ImportedStyleSheet\",\"id\":\"dd93528f-0034-42db-acab-6a138c845c5f\",\"attributes\":{\"url\":\"https://cdn.holoviz.org/panel/1.6.2/dist/bundled/theme/native.css\"}}],\"min_width\":700,\"margin\":0,\"sizing_mode\":\"stretch_width\",\"align\":\"start\",\"children\":[{\"type\":\"object\",\"name\":\"Spacer\",\"id\":\"deb732d6-bab5-4695-8b11-115a5bdb3589\",\"attributes\":{\"name\":\"HSpacer00503\",\"stylesheets\":[\"\\n:host(.pn-loading):before, .pn-loading:before {\\n  background-color: #c3c3c3;\\n  mask-size: auto calc(min(50%, 400px));\\n  -webkit-mask-size: auto calc(min(50%, 400px));\\n}\",{\"id\":\"38941e35-0217-4927-99e0-c5f6c7f3d9f1\"},{\"id\":\"57a47f7c-13e6-49b1-9949-81a2e934580c\"},{\"id\":\"dd93528f-0034-42db-acab-6a138c845c5f\"}],\"margin\":0,\"sizing_mode\":\"stretch_width\",\"align\":\"start\"}},{\"type\":\"object\",\"name\":\"Figure\",\"id\":\"942fb9f2-6033-42ae-9daf-ae8eac04e951\",\"attributes\":{\"width\":700,\"height\":300,\"margin\":[5,10],\"sizing_mode\":\"fixed\",\"align\":\"start\",\"x_range\":{\"type\":\"object\",\"name\":\"FactorRange\",\"id\":\"f1dcca72-4880-4fbd-9e09-0f3427aecc1b\",\"attributes\":{\"name\":\"post_str_b4\",\"tags\":[[[\"post_str_b4\",null]],[]],\"factors\":[\"26\",\"24\",\"25\",\"28\",\"27\",\"29\",\"22\",\"23\",\"30\",\"19\",\"21\",\"31\",\"20\",\"32\",\"17\",\"18\",\"16\",\"14\",\"33\",\"34\",\"12\",\"15\",\"13\",\"10\",\"09\",\"11\",\"05\"]}},\"y_range\":{\"type\":\"object\",\"name\":\"Range1d\",\"id\":\"701f1ef1-ca5e-49d0-8372-c70f0ceab1d5\",\"attributes\":{\"name\":\"percent\",\"tags\":[[[\"percent\",null]],{\"type\":\"map\",\"entries\":[[\"invert_yaxis\",false],[\"autorange\",false]]}],\"end\":9.522776572668114,\"reset_start\":0.0,\"reset_end\":9.522776572668114}},\"x_scale\":{\"type\":\"object\",\"name\":\"CategoricalScale\",\"id\":\"a80cbb26-b191-4890-b255-8474b67e1dac\"},\"y_scale\":{\"type\":\"object\",\"name\":\"LinearScale\",\"id\":\"1cb61b6b-9a1c-48e9-8f5a-1e7fc9fe1a5a\"},\"title\":{\"type\":\"object\",\"name\":\"Title\",\"id\":\"aa6f225c-a6ad-4db5-a037-47c50c1a0194\",\"attributes\":{\"text_color\":\"black\",\"text_font_size\":\"12pt\"}},\"renderers\":[{\"type\":\"object\",\"name\":\"GlyphRenderer\",\"id\":\"1a9fe6fd-007e-4f44-a98f-617eae980266\",\"attributes\":{\"data_source\":{\"type\":\"object\",\"name\":\"ColumnDataSource\",\"id\":\"c2f96be2-2de4-47d0-87e6-118671316f0f\",\"attributes\":{\"selected\":{\"type\":\"object\",\"name\":\"Selection\",\"id\":\"8636557b-df38-4f89-9ad4-6823ca6a74e5\",\"attributes\":{\"indices\":[],\"line_indices\":[]}},\"selection_policy\":{\"type\":\"object\",\"name\":\"UnionRenderers\",\"id\":\"40691473-3933-4b1e-9455-680dcca1b0d0\"},\"data\":{\"type\":\"map\",\"entries\":[[\"post_str_b4\",[\"26\",\"24\",\"25\",\"28\",\"27\",\"29\",\"22\",\"23\",\"30\",\"19\",\"21\",\"31\",\"20\",\"32\",\"17\",\"18\",\"16\",\"14\",\"33\",\"34\",\"12\",\"15\",\"13\",\"10\",\"09\",\"11\",\"05\"]],[\"percent\",{\"type\":\"ndarray\",\"array\":{\"type\":\"bytes\",\"data\":\"FzM0KoRaIUBcwip/hzwfQIse7akGxBtAix7tqQbEG0CiTE4/xgcaQNGoEGpFjxZA0agQakWPFkDRqBBqRY8WQN0/wTQlsRVA/wTTlMQWE0D/BNOUxBYTQAucg1+kOBJAI8rk9GN8EEBcwip/hzwPQKJMTj/GBwpAokxOP8YHCkC6eq/UhUsIQP8E05TEFgNAix7tqQbE+z+LHu2pBsTrP4se7akGxOs/ix7tqQbE6z/p1nH/BNPkP+nWcf8E0+Q/ix7tqQbE2z+LHu2pBsTbP4se7akGxMs/\"},\"shape\":[27],\"dtype\":\"float64\",\"order\":\"little\"}]]}}},\"view\":{\"type\":\"object\",\"name\":\"CDSView\",\"id\":\"e54310b3-4eb2-4d87-843d-a21726309849\",\"attributes\":{\"filter\":{\"type\":\"object\",\"name\":\"AllIndices\",\"id\":\"fcc93481-85ef-4ae6-8033-2e77e25c7fac\"}}},\"glyph\":{\"type\":\"object\",\"name\":\"VBar\",\"id\":\"3a7274fe-db3d-4abc-a01f-4a91a7dea50c\",\"attributes\":{\"tags\":[\"apply_ranges\"],\"x\":{\"type\":\"field\",\"field\":\"post_str_b4\"},\"width\":{\"type\":\"value\",\"value\":0.8},\"top\":{\"type\":\"field\",\"field\":\"percent\"},\"fill_color\":{\"type\":\"value\",\"value\":\"#30a2da\"},\"hatch_color\":{\"type\":\"value\",\"value\":\"#30a2da\"}}},\"selection_glyph\":{\"type\":\"object\",\"name\":\"VBar\",\"id\":\"bc7fc5fd-b2ab-4ba2-9900-2efbb1cf4e50\",\"attributes\":{\"tags\":[\"apply_ranges\"],\"x\":{\"type\":\"field\",\"field\":\"post_str_b4\"},\"width\":{\"type\":\"value\",\"value\":0.8},\"bottom\":{\"type\":\"value\",\"value\":0},\"top\":{\"type\":\"field\",\"field\":\"percent\"},\"line_color\":{\"type\":\"value\",\"value\":\"black\"},\"line_alpha\":{\"type\":\"value\",\"value\":1.0},\"line_width\":{\"type\":\"value\",\"value\":1},\"line_join\":{\"type\":\"value\",\"value\":\"bevel\"},\"line_cap\":{\"type\":\"value\",\"value\":\"butt\"},\"line_dash\":{\"type\":\"value\",\"value\":[]},\"line_dash_offset\":{\"type\":\"value\",\"value\":0},\"fill_color\":{\"type\":\"value\",\"value\":\"#30a2da\"},\"fill_alpha\":{\"type\":\"value\",\"value\":1.0},\"hatch_color\":{\"type\":\"value\",\"value\":\"#30a2da\"},\"hatch_alpha\":{\"type\":\"value\",\"value\":1.0},\"hatch_scale\":{\"type\":\"value\",\"value\":12.0},\"hatch_pattern\":{\"type\":\"value\",\"value\":null},\"hatch_weight\":{\"type\":\"value\",\"value\":1.0}}},\"nonselection_glyph\":{\"type\":\"object\",\"name\":\"VBar\",\"id\":\"680eda3a-c8ab-4fc2-8cd2-4dfdc223a957\",\"attributes\":{\"tags\":[\"apply_ranges\"],\"x\":{\"type\":\"field\",\"field\":\"post_str_b4\"},\"width\":{\"type\":\"value\",\"value\":0.8},\"top\":{\"type\":\"field\",\"field\":\"percent\"},\"line_alpha\":{\"type\":\"value\",\"value\":0.1},\"fill_color\":{\"type\":\"value\",\"value\":\"#30a2da\"},\"fill_alpha\":{\"type\":\"value\",\"value\":0.1},\"hatch_color\":{\"type\":\"value\",\"value\":\"#30a2da\"},\"hatch_alpha\":{\"type\":\"value\",\"value\":0.1}}},\"muted_glyph\":{\"type\":\"object\",\"name\":\"VBar\",\"id\":\"bf996f5b-bb92-4bdd-9567-537e0043e2f2\",\"attributes\":{\"tags\":[\"apply_ranges\"],\"x\":{\"type\":\"field\",\"field\":\"post_str_b4\"},\"width\":{\"type\":\"value\",\"value\":0.8},\"top\":{\"type\":\"field\",\"field\":\"percent\"},\"line_alpha\":{\"type\":\"value\",\"value\":0.2},\"fill_color\":{\"type\":\"value\",\"value\":\"#30a2da\"},\"fill_alpha\":{\"type\":\"value\",\"value\":0.2},\"hatch_color\":{\"type\":\"value\",\"value\":\"#30a2da\"},\"hatch_alpha\":{\"type\":\"value\",\"value\":0.2}}}}},{\"type\":\"object\",\"name\":\"Span\",\"id\":\"64d4c0ec-1ace-40ab-8dad-ad76ff51ccfa\",\"attributes\":{\"level\":\"glyph\",\"location\":3.703703703703704,\"line_color\":\"red\",\"line_width\":3}},{\"type\":\"object\",\"name\":\"Span\",\"id\":\"34d0a465-19a5-4470-95c1-385afe127187\",\"attributes\":{\"level\":\"glyph\",\"location\":5.555555555555556,\"line_color\":\"blue\",\"line_width\":3}},{\"type\":\"object\",\"name\":\"Span\",\"id\":\"a4ed8529-3352-439b-91f2-a97a2be79ff8\",\"attributes\":{\"level\":\"glyph\",\"location\":1.851851851851852,\"line_color\":\"blue\",\"line_width\":3}}],\"toolbar\":{\"type\":\"object\",\"name\":\"Toolbar\",\"id\":\"26cf0513-8253-4e1b-9244-783ad4ae0f79\",\"attributes\":{\"tools\":[{\"type\":\"object\",\"name\":\"WheelZoomTool\",\"id\":\"8fc07053-cbf0-4f81-8c55-960be174fd11\",\"attributes\":{\"tags\":[\"hv_created\"],\"renderers\":\"auto\",\"zoom_together\":\"none\"}},{\"type\":\"object\",\"name\":\"HoverTool\",\"id\":\"da105a76-6bc9-47f8-a2eb-22c169328150\",\"attributes\":{\"tags\":[\"hv_created\"],\"renderers\":[{\"id\":\"1a9fe6fd-007e-4f44-a98f-617eae980266\"}],\"tooltips\":[[\"post_str_b4\",\"@{post_str_b4}\"],[\"percent\",\"@{percent}\"]]}},{\"type\":\"object\",\"name\":\"SaveTool\",\"id\":\"7a39a064-0e34-423d-b564-f8d96c5cf79e\"},{\"type\":\"object\",\"name\":\"PanTool\",\"id\":\"a08ba07d-cf9f-41fa-ac49-5a642e0d977e\"},{\"type\":\"object\",\"name\":\"BoxZoomTool\",\"id\":\"4d8e0042-45a3-40a4-8d6f-32ce3509c19f\",\"attributes\":{\"dimensions\":\"both\",\"overlay\":{\"type\":\"object\",\"name\":\"BoxAnnotation\",\"id\":\"5a063916-d274-4fb1-876c-02485eb7fca8\",\"attributes\":{\"syncable\":false,\"line_color\":\"black\",\"line_alpha\":1.0,\"line_width\":2,\"line_dash\":[4,4],\"fill_color\":\"lightgrey\",\"fill_alpha\":0.5,\"level\":\"overlay\",\"visible\":false,\"left\":{\"type\":\"number\",\"value\":\"nan\"},\"right\":{\"type\":\"number\",\"value\":\"nan\"},\"top\":{\"type\":\"number\",\"value\":\"nan\"},\"bottom\":{\"type\":\"number\",\"value\":\"nan\"},\"left_units\":\"canvas\",\"right_units\":\"canvas\",\"top_units\":\"canvas\",\"bottom_units\":\"canvas\",\"handles\":{\"type\":\"object\",\"name\":\"BoxInteractionHandles\",\"id\":\"98c4ca76-1729-4b8f-91f2-bf39b4041255\",\"attributes\":{\"all\":{\"type\":\"object\",\"name\":\"AreaVisuals\",\"id\":\"e36eaafa-0ac4-4b28-b5e4-be7aed8063fb\",\"attributes\":{\"fill_color\":\"white\",\"hover_fill_color\":\"lightgray\"}}}}}}}},{\"type\":\"object\",\"name\":\"ResetTool\",\"id\":\"2cfa5a94-36cb-4baa-8f13-09200ec208d2\"}],\"active_drag\":{\"id\":\"a08ba07d-cf9f-41fa-ac49-5a642e0d977e\"}}},\"left\":[{\"type\":\"object\",\"name\":\"LinearAxis\",\"id\":\"2e2babe9-d7d4-401d-b3cd-577b625a9cb4\",\"attributes\":{\"ticker\":{\"type\":\"object\",\"name\":\"BasicTicker\",\"id\":\"ff212839-0325-4c18-aa55-eae0ee6efe0c\",\"attributes\":{\"mantissas\":[1,2,5]}},\"formatter\":{\"type\":\"object\",\"name\":\"BasicTickFormatter\",\"id\":\"f838f895-dfb0-4bda-80be-eafb69a55b88\"},\"axis_label\":\"percent\",\"major_label_policy\":{\"type\":\"object\",\"name\":\"AllLabels\",\"id\":\"86fe249c-a68c-4cd0-8bcb-5381031341fa\"}}}],\"below\":[{\"type\":\"object\",\"name\":\"CategoricalAxis\",\"id\":\"15a67e0f-4fa6-4f88-8b1d-f66a5d6d719b\",\"attributes\":{\"ticker\":{\"type\":\"object\",\"name\":\"CategoricalTicker\",\"id\":\"07d3c5e4-3a45-49b8-be09-95d10994baa1\"},\"formatter\":{\"type\":\"object\",\"name\":\"CategoricalTickFormatter\",\"id\":\"76bfcfe3-9a07-4079-ad26-c0e0caa7eeae\"},\"axis_label\":\"post_str_b4\",\"major_label_policy\":{\"type\":\"object\",\"name\":\"AllLabels\",\"id\":\"4f1c01cf-3a07-474f-81ea-95389b8692af\"}}}],\"center\":[{\"type\":\"object\",\"name\":\"Grid\",\"id\":\"cac1ec7e-7b6f-4d3f-8ba1-ed5c940bb2ba\",\"attributes\":{\"axis\":{\"id\":\"15a67e0f-4fa6-4f88-8b1d-f66a5d6d719b\"},\"grid_line_color\":null}},{\"type\":\"object\",\"name\":\"Grid\",\"id\":\"7c1fc9a7-77fd-4639-95d8-e4877b0357e7\",\"attributes\":{\"dimension\":1,\"axis\":{\"id\":\"2e2babe9-d7d4-401d-b3cd-577b625a9cb4\"},\"grid_line_color\":null}}],\"min_border_top\":10,\"min_border_bottom\":10,\"min_border_left\":10,\"min_border_right\":10,\"output_backend\":\"webgl\"}},{\"type\":\"object\",\"name\":\"Spacer\",\"id\":\"2fdb0a9b-803b-4e9b-96ef-406ded574387\",\"attributes\":{\"name\":\"HSpacer00504\",\"stylesheets\":[\"\\n:host(.pn-loading):before, .pn-loading:before {\\n  background-color: #c3c3c3;\\n  mask-size: auto calc(min(50%, 400px));\\n  -webkit-mask-size: auto calc(min(50%, 400px));\\n}\",{\"id\":\"38941e35-0217-4927-99e0-c5f6c7f3d9f1\"},{\"id\":\"57a47f7c-13e6-49b1-9949-81a2e934580c\"},{\"id\":\"dd93528f-0034-42db-acab-6a138c845c5f\"}],\"margin\":0,\"sizing_mode\":\"stretch_width\",\"align\":\"start\"}}]}}],\"defs\":[{\"type\":\"model\",\"name\":\"ReactiveHTML1\"},{\"type\":\"model\",\"name\":\"FlexBox1\",\"properties\":[{\"name\":\"align_content\",\"kind\":\"Any\",\"default\":\"flex-start\"},{\"name\":\"align_items\",\"kind\":\"Any\",\"default\":\"flex-start\"},{\"name\":\"flex_direction\",\"kind\":\"Any\",\"default\":\"row\"},{\"name\":\"flex_wrap\",\"kind\":\"Any\",\"default\":\"wrap\"},{\"name\":\"gap\",\"kind\":\"Any\",\"default\":\"\"},{\"name\":\"justify_content\",\"kind\":\"Any\",\"default\":\"flex-start\"}]},{\"type\":\"model\",\"name\":\"FloatPanel1\",\"properties\":[{\"name\":\"config\",\"kind\":\"Any\",\"default\":{\"type\":\"map\"}},{\"name\":\"contained\",\"kind\":\"Any\",\"default\":true},{\"name\":\"position\",\"kind\":\"Any\",\"default\":\"right-top\"},{\"name\":\"offsetx\",\"kind\":\"Any\",\"default\":null},{\"name\":\"offsety\",\"kind\":\"Any\",\"default\":null},{\"name\":\"theme\",\"kind\":\"Any\",\"default\":\"primary\"},{\"name\":\"status\",\"kind\":\"Any\",\"default\":\"normalized\"}]},{\"type\":\"model\",\"name\":\"GridStack1\",\"properties\":[{\"name\":\"ncols\",\"kind\":\"Any\",\"default\":null},{\"name\":\"nrows\",\"kind\":\"Any\",\"default\":null},{\"name\":\"allow_resize\",\"kind\":\"Any\",\"default\":true},{\"name\":\"allow_drag\",\"kind\":\"Any\",\"default\":true},{\"name\":\"state\",\"kind\":\"Any\",\"default\":[]}]},{\"type\":\"model\",\"name\":\"drag1\",\"properties\":[{\"name\":\"slider_width\",\"kind\":\"Any\",\"default\":5},{\"name\":\"slider_color\",\"kind\":\"Any\",\"default\":\"black\"},{\"name\":\"value\",\"kind\":\"Any\",\"default\":50}]},{\"type\":\"model\",\"name\":\"click1\",\"properties\":[{\"name\":\"terminal_output\",\"kind\":\"Any\",\"default\":\"\"},{\"name\":\"debug_name\",\"kind\":\"Any\",\"default\":\"\"},{\"name\":\"clears\",\"kind\":\"Any\",\"default\":0}]},{\"type\":\"model\",\"name\":\"FastWrapper1\",\"properties\":[{\"name\":\"object\",\"kind\":\"Any\",\"default\":null},{\"name\":\"style\",\"kind\":\"Any\",\"default\":null}]},{\"type\":\"model\",\"name\":\"NotificationArea1\",\"properties\":[{\"name\":\"js_events\",\"kind\":\"Any\",\"default\":{\"type\":\"map\"}},{\"name\":\"max_notifications\",\"kind\":\"Any\",\"default\":5},{\"name\":\"notifications\",\"kind\":\"Any\",\"default\":[]},{\"name\":\"position\",\"kind\":\"Any\",\"default\":\"bottom-right\"},{\"name\":\"_clear\",\"kind\":\"Any\",\"default\":0},{\"name\":\"types\",\"kind\":\"Any\",\"default\":[{\"type\":\"map\",\"entries\":[[\"type\",\"warning\"],[\"background\",\"#ffc107\"],[\"icon\",{\"type\":\"map\",\"entries\":[[\"className\",\"fas fa-exclamation-triangle\"],[\"tagName\",\"i\"],[\"color\",\"white\"]]}]]},{\"type\":\"map\",\"entries\":[[\"type\",\"info\"],[\"background\",\"#007bff\"],[\"icon\",{\"type\":\"map\",\"entries\":[[\"className\",\"fas fa-info-circle\"],[\"tagName\",\"i\"],[\"color\",\"white\"]]}]]}]}]},{\"type\":\"model\",\"name\":\"Notification\",\"properties\":[{\"name\":\"background\",\"kind\":\"Any\",\"default\":null},{\"name\":\"duration\",\"kind\":\"Any\",\"default\":3000},{\"name\":\"icon\",\"kind\":\"Any\",\"default\":null},{\"name\":\"message\",\"kind\":\"Any\",\"default\":\"\"},{\"name\":\"notification_type\",\"kind\":\"Any\",\"default\":null},{\"name\":\"_rendered\",\"kind\":\"Any\",\"default\":false},{\"name\":\"_destroyed\",\"kind\":\"Any\",\"default\":false}]},{\"type\":\"model\",\"name\":\"TemplateActions1\",\"properties\":[{\"name\":\"open_modal\",\"kind\":\"Any\",\"default\":0},{\"name\":\"close_modal\",\"kind\":\"Any\",\"default\":0}]},{\"type\":\"model\",\"name\":\"BootstrapTemplateActions1\",\"properties\":[{\"name\":\"open_modal\",\"kind\":\"Any\",\"default\":0},{\"name\":\"close_modal\",\"kind\":\"Any\",\"default\":0}]},{\"type\":\"model\",\"name\":\"TemplateEditor1\",\"properties\":[{\"name\":\"layout\",\"kind\":\"Any\",\"default\":[]}]},{\"type\":\"model\",\"name\":\"MaterialTemplateActions1\",\"properties\":[{\"name\":\"open_modal\",\"kind\":\"Any\",\"default\":0},{\"name\":\"close_modal\",\"kind\":\"Any\",\"default\":0}]},{\"type\":\"model\",\"name\":\"ReactiveESM1\",\"properties\":[{\"name\":\"esm_constants\",\"kind\":\"Any\",\"default\":{\"type\":\"map\"}}]},{\"type\":\"model\",\"name\":\"JSComponent1\",\"properties\":[{\"name\":\"esm_constants\",\"kind\":\"Any\",\"default\":{\"type\":\"map\"}}]},{\"type\":\"model\",\"name\":\"ReactComponent1\",\"properties\":[{\"name\":\"esm_constants\",\"kind\":\"Any\",\"default\":{\"type\":\"map\"}}]},{\"type\":\"model\",\"name\":\"AnyWidgetComponent1\",\"properties\":[{\"name\":\"esm_constants\",\"kind\":\"Any\",\"default\":{\"type\":\"map\"}}]},{\"type\":\"model\",\"name\":\"request_value1\",\"properties\":[{\"name\":\"fill\",\"kind\":\"Any\",\"default\":\"none\"},{\"name\":\"_synced\",\"kind\":\"Any\",\"default\":null},{\"name\":\"_request_sync\",\"kind\":\"Any\",\"default\":0}]}]}};\n",
       "  var render_items = [{\"docid\":\"5d9b4a13-1923-4811-8211-2ce302df5356\",\"roots\":{\"ff42b9a2-655f-4f50-8188-97bf3fa7b15c\":\"edbbf684-c98c-45fa-8c4f-ce06bda0a50e\"},\"root_ids\":[\"ff42b9a2-655f-4f50-8188-97bf3fa7b15c\"]}];\n",
       "  var docs = Object.values(docs_json)\n",
       "  if (!docs) {\n",
       "    return\n",
       "  }\n",
       "  const py_version = docs[0].version.replace('rc', '-rc.').replace('.dev', '-dev.')\n",
       "  async function embed_document(root) {\n",
       "    var Bokeh = get_bokeh(root)\n",
       "    await Bokeh.embed.embed_items_notebook(docs_json, render_items);\n",
       "    for (const render_item of render_items) {\n",
       "      for (const root_id of render_item.root_ids) {\n",
       "\tconst id_el = document.getElementById(root_id)\n",
       "\tif (id_el.children.length && id_el.children[0].hasAttribute('data-root-id')) {\n",
       "\t  const root_el = id_el.children[0]\n",
       "\t  root_el.id = root_el.id + '-rendered'\n",
       "\t  for (const child of root_el.children) {\n",
       "            // Ensure JupyterLab does not capture keyboard shortcuts\n",
       "            // see: https://jupyterlab.readthedocs.io/en/4.1.x/extension/notebook.html#keyboard-interaction-model\n",
       "\t    child.setAttribute('data-lm-suppress-shortcuts', 'true')\n",
       "\t  }\n",
       "\t}\n",
       "      }\n",
       "    }\n",
       "  }\n",
       "  function get_bokeh(root) {\n",
       "    if (root.Bokeh === undefined) {\n",
       "      return null\n",
       "    } else if (root.Bokeh.version !== py_version) {\n",
       "      if (root.Bokeh.versions === undefined || !root.Bokeh.versions.has(py_version)) {\n",
       "\treturn null\n",
       "      }\n",
       "      return root.Bokeh.versions.get(py_version);\n",
       "    } else if (root.Bokeh.version === py_version) {\n",
       "      return root.Bokeh\n",
       "    }\n",
       "    return null\n",
       "  }\n",
       "  function is_loaded(root) {\n",
       "    var Bokeh = get_bokeh(root)\n",
       "    return (Bokeh != null && Bokeh.Panel !== undefined)\n",
       "  }\n",
       "  if (is_loaded(root)) {\n",
       "    embed_document(root);\n",
       "  } else {\n",
       "    var attempts = 0;\n",
       "    var timer = setInterval(function(root) {\n",
       "      if (is_loaded(root)) {\n",
       "        clearInterval(timer);\n",
       "        embed_document(root);\n",
       "      } else if (document.readyState == \"complete\") {\n",
       "        attempts++;\n",
       "        if (attempts > 200) {\n",
       "          clearInterval(timer);\n",
       "\t  var Bokeh = get_bokeh(root)\n",
       "\t  if (Bokeh == null || Bokeh.Panel == null) {\n",
       "            console.warn(\"Panel: ERROR: Unable to run Panel code because Bokeh or Panel library is missing\");\n",
       "\t  } else {\n",
       "\t    console.warn(\"Panel: WARNING: Attempting to render but not all required libraries could be resolved.\")\n",
       "\t    embed_document(root)\n",
       "\t  }\n",
       "        }\n",
       "      }\n",
       "    }, 25, root)\n",
       "  }\n",
       "})(window);</script>"
      ],
      "text/plain": [
       ":Overlay\n",
       "   .Bars.I    :Bars   [post_str_b4]   (percent)\n",
       "   .HLine.I   :HLine   [x,y]\n",
       "   .HLine.II  :HLine   [x,y]\n",
       "   .HLine.III :HLine   [x,y]"
      ]
     },
     "metadata": {
      "application/vnd.holoviews_exec.v0+json": {
       "id": "ff42b9a2-655f-4f50-8188-97bf3fa7b15c"
      }
     },
     "output_type": "display_data"
    },
    {
     "name": "stdout",
     "output_type": "stream",
     "text": [
      "df_10_last FOR str_b4 = 29\n"
     ]
    },
    {
     "data": {
      "text/html": [
       "<div><style>\n",
       ".dataframe > thead > tr,\n",
       ".dataframe > tbody > tr {\n",
       "  text-align: right;\n",
       "  white-space: pre-wrap;\n",
       "}\n",
       "</style>\n",
       "<small>shape: (10, 24)</small><table border=\"1\" class=\"dataframe\"><thead><tr><th>fecha</th><th>sorteo</th><th>bolillas</th><th>id</th><th>combo</th><th>b1</th><th>b2</th><th>b3</th><th>b4</th><th>b5</th><th>str_b1</th><th>str_b2</th><th>str_b3</th><th>str_b4</th><th>str_b5</th><th>post_str_b1</th><th>post_str_b2</th><th>post_str_b3</th><th>post_str_b4</th><th>post_str_blast</th><th>is_rare_combination</th><th>reason</th><th>jumps_map</th><th>unijump</th></tr><tr><td>str</td><td>str</td><td>str</td><td>str</td><td>array[u8, 5]</td><td>u8</td><td>u8</td><td>u8</td><td>u8</td><td>u8</td><td>str</td><td>str</td><td>str</td><td>str</td><td>str</td><td>str</td><td>str</td><td>str</td><td>str</td><td>str</td><td>bool</td><td>u8</td><td>str</td><td>i64</td></tr></thead><tbody><tr><td>&quot;30/03/2025&quot;</td><td>&quot;4171&quot;</td><td>&quot;35 05 15 29 03&quot;</td><td>&quot;0305152935&quot;</td><td>[3, 5, … 35]</td><td>3</td><td>5</td><td>15</td><td>29</td><td>35</td><td>&quot;03&quot;</td><td>&quot;05&quot;</td><td>&quot;15&quot;</td><td>&quot;29&quot;</td><td>&quot;35&quot;</td><td>&quot;07&quot;</td><td>&quot;16&quot;</td><td>&quot;22&quot;</td><td>&quot;26&quot;</td><td>&quot;34&quot;</td><td>true</td><td>2</td><td>&quot;02_10_14_06&quot;</td><td>-8</td></tr><tr><td>&quot;26/03/2025&quot;</td><td>&quot;4167&quot;</td><td>&quot;34 29 06 24 26&quot;</td><td>&quot;0624262934&quot;</td><td>[6, 24, … 34]</td><td>6</td><td>24</td><td>26</td><td>29</td><td>34</td><td>&quot;06&quot;</td><td>&quot;24&quot;</td><td>&quot;26&quot;</td><td>&quot;29&quot;</td><td>&quot;34&quot;</td><td>&quot;05&quot;</td><td>&quot;08&quot;</td><td>&quot;27&quot;</td><td>&quot;32&quot;</td><td>&quot;35&quot;</td><td>true</td><td>16</td><td>&quot;18_02_03_05&quot;</td><td>-16</td></tr><tr><td>&quot;25/03/2025&quot;</td><td>&quot;4166&quot;</td><td>&quot;29 06 35 22 04&quot;</td><td>&quot;0406222935&quot;</td><td>[4, 6, … 35]</td><td>4</td><td>6</td><td>22</td><td>29</td><td>35</td><td>&quot;04&quot;</td><td>&quot;06&quot;</td><td>&quot;22&quot;</td><td>&quot;29&quot;</td><td>&quot;35&quot;</td><td>&quot;06&quot;</td><td>&quot;24&quot;</td><td>&quot;26&quot;</td><td>&quot;29&quot;</td><td>&quot;34&quot;</td><td>true</td><td>16</td><td>&quot;02_16_07_06&quot;</td><td>31</td></tr><tr><td>&quot;24/03/2025&quot;</td><td>&quot;4165&quot;</td><td>&quot;32 29 27 21 06&quot;</td><td>&quot;0621272932&quot;</td><td>[6, 21, … 32]</td><td>6</td><td>21</td><td>27</td><td>29</td><td>32</td><td>&quot;06&quot;</td><td>&quot;21&quot;</td><td>&quot;27&quot;</td><td>&quot;29&quot;</td><td>&quot;32&quot;</td><td>&quot;04&quot;</td><td>&quot;06&quot;</td><td>&quot;22&quot;</td><td>&quot;29&quot;</td><td>&quot;35&quot;</td><td>false</td><td>0</td><td>&quot;15_06_02_03&quot;</td><td>0</td></tr><tr><td>&quot;03/03/2025&quot;</td><td>&quot;4144&quot;</td><td>&quot;07 18 04 29 31&quot;</td><td>&quot;0407182931&quot;</td><td>[4, 7, … 31]</td><td>4</td><td>7</td><td>18</td><td>29</td><td>31</td><td>&quot;04&quot;</td><td>&quot;07&quot;</td><td>&quot;18&quot;</td><td>&quot;29&quot;</td><td>&quot;31&quot;</td><td>&quot;09&quot;</td><td>&quot;14&quot;</td><td>&quot;16&quot;</td><td>&quot;22&quot;</td><td>&quot;24&quot;</td><td>true</td><td>8</td><td>&quot;03_11_11_02&quot;</td><td>-1</td></tr><tr><td>&quot;09/02/2025&quot;</td><td>&quot;4122&quot;</td><td>&quot;05 21 20 35 29&quot;</td><td>&quot;0520212935&quot;</td><td>[5, 20, … 35]</td><td>5</td><td>20</td><td>21</td><td>29</td><td>35</td><td>&quot;05&quot;</td><td>&quot;20&quot;</td><td>&quot;21&quot;</td><td>&quot;29&quot;</td><td>&quot;35&quot;</td><td>&quot;07&quot;</td><td>&quot;19&quot;</td><td>&quot;21&quot;</td><td>&quot;25&quot;</td><td>&quot;32&quot;</td><td>false</td><td>0</td><td>&quot;15_01_08_06&quot;</td><td>-30</td></tr><tr><td>&quot;25/01/2025&quot;</td><td>&quot;4107&quot;</td><td>&quot;06 07 25 29 31&quot;</td><td>&quot;0607252931&quot;</td><td>[6, 7, … 31]</td><td>6</td><td>7</td><td>25</td><td>29</td><td>31</td><td>&quot;06&quot;</td><td>&quot;07&quot;</td><td>&quot;25&quot;</td><td>&quot;29&quot;</td><td>&quot;31&quot;</td><td>&quot;03&quot;</td><td>&quot;09&quot;</td><td>&quot;30&quot;</td><td>&quot;32&quot;</td><td>&quot;35&quot;</td><td>false</td><td>0</td><td>&quot;01_18_04_02&quot;</td><td>43</td></tr><tr><td>&quot;17/01/2025&quot;</td><td>&quot;4099&quot;</td><td>&quot;02 14 27 32 29&quot;</td><td>&quot;0214272932&quot;</td><td>[2, 14, … 32]</td><td>2</td><td>14</td><td>27</td><td>29</td><td>32</td><td>&quot;02&quot;</td><td>&quot;14&quot;</td><td>&quot;27&quot;</td><td>&quot;29&quot;</td><td>&quot;32&quot;</td><td>&quot;01&quot;</td><td>&quot;14&quot;</td><td>&quot;16&quot;</td><td>&quot;32&quot;</td><td>&quot;35&quot;</td><td>false</td><td>0</td><td>&quot;12_13_02_03&quot;</td><td>24</td></tr><tr><td>&quot;04/01/2025&quot;</td><td>&quot;4086&quot;</td><td>&quot;06 10 29 32 19&quot;</td><td>&quot;0610192932&quot;</td><td>[6, 10, … 32]</td><td>6</td><td>10</td><td>19</td><td>29</td><td>32</td><td>&quot;06&quot;</td><td>&quot;10&quot;</td><td>&quot;19&quot;</td><td>&quot;29&quot;</td><td>&quot;32&quot;</td><td>&quot;07&quot;</td><td>&quot;19&quot;</td><td>&quot;20&quot;</td><td>&quot;23&quot;</td><td>&quot;28&quot;</td><td>false</td><td>0</td><td>&quot;04_09_10_03&quot;</td><td>-4</td></tr><tr><td>&quot;21/12/2024&quot;</td><td>&quot;4072&quot;</td><td>&quot;17 34 05 28 29&quot;</td><td>&quot;0517282934&quot;</td><td>[5, 17, … 34]</td><td>5</td><td>17</td><td>28</td><td>29</td><td>34</td><td>&quot;05&quot;</td><td>&quot;17&quot;</td><td>&quot;28&quot;</td><td>&quot;29&quot;</td><td>&quot;34&quot;</td><td>&quot;05&quot;</td><td>&quot;07&quot;</td><td>&quot;19&quot;</td><td>&quot;20&quot;</td><td>&quot;35&quot;</td><td>false</td><td>0</td><td>&quot;12_11_01_05&quot;</td><td>23</td></tr></tbody></table></div>"
      ],
      "text/plain": [
       "shape: (10, 24)\n",
       "┌────────────┬────────┬─────────────┬────────────┬───┬─────────────┬────────┬────────────┬─────────┐\n",
       "│ fecha      ┆ sorteo ┆ bolillas    ┆ id         ┆ … ┆ is_rare_com ┆ reason ┆ jumps_map  ┆ unijump │\n",
       "│ ---        ┆ ---    ┆ ---         ┆ ---        ┆   ┆ bination    ┆ ---    ┆ ---        ┆ ---     │\n",
       "│ str        ┆ str    ┆ str         ┆ str        ┆   ┆ ---         ┆ u8     ┆ str        ┆ i64     │\n",
       "│            ┆        ┆             ┆            ┆   ┆ bool        ┆        ┆            ┆         │\n",
       "╞════════════╪════════╪═════════════╪════════════╪═══╪═════════════╪════════╪════════════╪═════════╡\n",
       "│ 30/03/2025 ┆ 4171   ┆ 35 05 15 29 ┆ 0305152935 ┆ … ┆ true        ┆ 2      ┆ 02_10_14_0 ┆ -8      │\n",
       "│            ┆        ┆ 03          ┆            ┆   ┆             ┆        ┆ 6          ┆         │\n",
       "│ 26/03/2025 ┆ 4167   ┆ 34 29 06 24 ┆ 0624262934 ┆ … ┆ true        ┆ 16     ┆ 18_02_03_0 ┆ -16     │\n",
       "│            ┆        ┆ 26          ┆            ┆   ┆             ┆        ┆ 5          ┆         │\n",
       "│ 25/03/2025 ┆ 4166   ┆ 29 06 35 22 ┆ 0406222935 ┆ … ┆ true        ┆ 16     ┆ 02_16_07_0 ┆ 31      │\n",
       "│            ┆        ┆ 04          ┆            ┆   ┆             ┆        ┆ 6          ┆         │\n",
       "│ 24/03/2025 ┆ 4165   ┆ 32 29 27 21 ┆ 0621272932 ┆ … ┆ false       ┆ 0      ┆ 15_06_02_0 ┆ 0       │\n",
       "│            ┆        ┆ 06          ┆            ┆   ┆             ┆        ┆ 3          ┆         │\n",
       "│ 03/03/2025 ┆ 4144   ┆ 07 18 04 29 ┆ 0407182931 ┆ … ┆ true        ┆ 8      ┆ 03_11_11_0 ┆ -1      │\n",
       "│            ┆        ┆ 31          ┆            ┆   ┆             ┆        ┆ 2          ┆         │\n",
       "│ 09/02/2025 ┆ 4122   ┆ 05 21 20 35 ┆ 0520212935 ┆ … ┆ false       ┆ 0      ┆ 15_01_08_0 ┆ -30     │\n",
       "│            ┆        ┆ 29          ┆            ┆   ┆             ┆        ┆ 6          ┆         │\n",
       "│ 25/01/2025 ┆ 4107   ┆ 06 07 25 29 ┆ 0607252931 ┆ … ┆ false       ┆ 0      ┆ 01_18_04_0 ┆ 43      │\n",
       "│            ┆        ┆ 31          ┆            ┆   ┆             ┆        ┆ 2          ┆         │\n",
       "│ 17/01/2025 ┆ 4099   ┆ 02 14 27 32 ┆ 0214272932 ┆ … ┆ false       ┆ 0      ┆ 12_13_02_0 ┆ 24      │\n",
       "│            ┆        ┆ 29          ┆            ┆   ┆             ┆        ┆ 3          ┆         │\n",
       "│ 04/01/2025 ┆ 4086   ┆ 06 10 29 32 ┆ 0610192932 ┆ … ┆ false       ┆ 0      ┆ 04_09_10_0 ┆ -4      │\n",
       "│            ┆        ┆ 19          ┆            ┆   ┆             ┆        ┆ 3          ┆         │\n",
       "│ 21/12/2024 ┆ 4072   ┆ 17 34 05 28 ┆ 0517282934 ┆ … ┆ false       ┆ 0      ┆ 12_11_01_0 ┆ 23      │\n",
       "│            ┆        ┆ 29          ┆            ┆   ┆             ┆        ┆ 5          ┆         │\n",
       "└────────────┴────────┴─────────────┴────────────┴───┴─────────────┴────────┴────────────┴─────────┘"
      ]
     },
     "metadata": {},
     "output_type": "display_data"
    },
    {
     "name": "stdout",
     "output_type": "stream",
     "text": [
      "df_jumps_map FOR str_b4 = 29\n"
     ]
    },
    {
     "data": {
      "text/html": [
       "<div><style>\n",
       ".dataframe > thead > tr,\n",
       ".dataframe > tbody > tr {\n",
       "  text-align: right;\n",
       "  white-space: pre-wrap;\n",
       "}\n",
       "</style>\n",
       "<small>shape: (453, 2)</small><table border=\"1\" class=\"dataframe\"><thead><tr><th>jumps_map</th><th>count</th></tr><tr><td>str</td><td>u32</td></tr></thead><tbody><tr><td>&quot;02_16_02_06&quot;</td><td>2</td></tr><tr><td>&quot;04_19_04_06&quot;</td><td>2</td></tr><tr><td>&quot;13_02_12_05&quot;</td><td>2</td></tr><tr><td>&quot;18_08_01_02&quot;</td><td>2</td></tr><tr><td>&quot;01_05_09_04&quot;</td><td>2</td></tr><tr><td>&hellip;</td><td>&hellip;</td></tr><tr><td>&quot;04_05_15_01&quot;</td><td>1</td></tr><tr><td>&quot;02_01_17_02&quot;</td><td>1</td></tr><tr><td>&quot;02_18_01_03&quot;</td><td>1</td></tr><tr><td>&quot;08_14_05_06&quot;</td><td>1</td></tr><tr><td>&quot;02_01_03_05&quot;</td><td>1</td></tr></tbody></table></div>"
      ],
      "text/plain": [
       "shape: (453, 2)\n",
       "┌─────────────┬───────┐\n",
       "│ jumps_map   ┆ count │\n",
       "│ ---         ┆ ---   │\n",
       "│ str         ┆ u32   │\n",
       "╞═════════════╪═══════╡\n",
       "│ 02_16_02_06 ┆ 2     │\n",
       "│ 04_19_04_06 ┆ 2     │\n",
       "│ 13_02_12_05 ┆ 2     │\n",
       "│ 18_08_01_02 ┆ 2     │\n",
       "│ 01_05_09_04 ┆ 2     │\n",
       "│ …           ┆ …     │\n",
       "│ 04_05_15_01 ┆ 1     │\n",
       "│ 02_01_17_02 ┆ 1     │\n",
       "│ 02_18_01_03 ┆ 1     │\n",
       "│ 08_14_05_06 ┆ 1     │\n",
       "│ 02_01_03_05 ┆ 1     │\n",
       "└─────────────┴───────┘"
      ]
     },
     "metadata": {},
     "output_type": "display_data"
    },
    {
     "name": "stdout",
     "output_type": "stream",
     "text": [
      "df_unijump FOR str_b4 = 29\n"
     ]
    },
    {
     "data": {
      "text/html": [
       "<div><style>\n",
       ".dataframe > thead > tr,\n",
       ".dataframe > tbody > tr {\n",
       "  text-align: right;\n",
       "  white-space: pre-wrap;\n",
       "}\n",
       "</style>\n",
       "<small>shape: (112, 2)</small><table border=\"1\" class=\"dataframe\"><thead><tr><th>unijump</th><th>count</th></tr><tr><td>i64</td><td>u32</td></tr></thead><tbody><tr><td>-15</td><td>12</td></tr><tr><td>-4</td><td>11</td></tr><tr><td>-1</td><td>11</td></tr><tr><td>4</td><td>10</td></tr><tr><td>16</td><td>10</td></tr><tr><td>&hellip;</td><td>&hellip;</td></tr><tr><td>67</td><td>1</td></tr><tr><td>70</td><td>1</td></tr><tr><td>61</td><td>1</td></tr><tr><td>-55</td><td>1</td></tr><tr><td>64</td><td>1</td></tr></tbody></table></div>"
      ],
      "text/plain": [
       "shape: (112, 2)\n",
       "┌─────────┬───────┐\n",
       "│ unijump ┆ count │\n",
       "│ ---     ┆ ---   │\n",
       "│ i64     ┆ u32   │\n",
       "╞═════════╪═══════╡\n",
       "│ -15     ┆ 12    │\n",
       "│ -4      ┆ 11    │\n",
       "│ -1      ┆ 11    │\n",
       "│ 4       ┆ 10    │\n",
       "│ 16      ┆ 10    │\n",
       "│ …       ┆ …     │\n",
       "│ 67      ┆ 1     │\n",
       "│ 70      ┆ 1     │\n",
       "│ 61      ┆ 1     │\n",
       "│ -55     ┆ 1     │\n",
       "│ 64      ┆ 1     │\n",
       "└─────────┴───────┘"
      ]
     },
     "metadata": {},
     "output_type": "display_data"
    }
   ],
   "source": [
    "possible_b4, exclude_jump_maps_b4 = plot_post_col(col='str_b4', post_col='post_str_b4')"
   ]
  },
  {
   "cell_type": "code",
   "execution_count": 11,
   "metadata": {},
   "outputs": [
    {
     "name": "stdout",
     "output_type": "stream",
     "text": [
      "Setting test_value='33'\n",
      "df_viz FOR str_b5 = 33\n"
     ]
    },
    {
     "data": {
      "text/html": [
       "<div><style>\n",
       ".dataframe > thead > tr,\n",
       ".dataframe > tbody > tr {\n",
       "  text-align: right;\n",
       "  white-space: pre-wrap;\n",
       "}\n",
       "</style>\n",
       "<small>shape: (24, 3)</small><table border=\"1\" class=\"dataframe\"><thead><tr><th>post_str_blast</th><th>count</th><th>percent</th></tr><tr><td>str</td><td>u32</td><td>f64</td></tr></thead><tbody><tr><td>&quot;35&quot;</td><td>121</td><td>14.037123</td></tr><tr><td>&quot;33&quot;</td><td>98</td><td>11.36891</td></tr><tr><td>&quot;34&quot;</td><td>96</td><td>11.136891</td></tr><tr><td>&quot;32&quot;</td><td>83</td><td>9.62877</td></tr><tr><td>&quot;31&quot;</td><td>77</td><td>8.932715</td></tr><tr><td>&hellip;</td><td>&hellip;</td><td>&hellip;</td></tr><tr><td>&quot;16&quot;</td><td>6</td><td>0.696056</td></tr><tr><td>&quot;15&quot;</td><td>5</td><td>0.580046</td></tr><tr><td>&quot;14&quot;</td><td>3</td><td>0.348028</td></tr><tr><td>&quot;13&quot;</td><td>3</td><td>0.348028</td></tr><tr><td>&quot;11&quot;</td><td>2</td><td>0.232019</td></tr></tbody></table></div>"
      ],
      "text/plain": [
       "shape: (24, 3)\n",
       "┌────────────────┬───────┬───────────┐\n",
       "│ post_str_blast ┆ count ┆ percent   │\n",
       "│ ---            ┆ ---   ┆ ---       │\n",
       "│ str            ┆ u32   ┆ f64       │\n",
       "╞════════════════╪═══════╪═══════════╡\n",
       "│ 35             ┆ 121   ┆ 14.037123 │\n",
       "│ 33             ┆ 98    ┆ 11.36891  │\n",
       "│ 34             ┆ 96    ┆ 11.136891 │\n",
       "│ 32             ┆ 83    ┆ 9.62877   │\n",
       "│ 31             ┆ 77    ┆ 8.932715  │\n",
       "│ …              ┆ …     ┆ …         │\n",
       "│ 16             ┆ 6     ┆ 0.696056  │\n",
       "│ 15             ┆ 5     ┆ 0.580046  │\n",
       "│ 14             ┆ 3     ┆ 0.348028  │\n",
       "│ 13             ┆ 3     ┆ 0.348028  │\n",
       "│ 11             ┆ 2     ┆ 0.232019  │\n",
       "└────────────────┴───────┴───────────┘"
      ]
     },
     "metadata": {},
     "output_type": "display_data"
    },
    {
     "data": {},
     "metadata": {},
     "output_type": "display_data"
    },
    {
     "data": {
      "application/vnd.holoviews_exec.v0+json": "",
      "text/html": [
       "<div id='96f38239-f027-4db2-8b26-d2075fa2dce3'>\n",
       "  <div id=\"c7b694ee-bbdd-4fc0-9e52-be8fc43cc247\" data-root-id=\"96f38239-f027-4db2-8b26-d2075fa2dce3\" style=\"display: contents;\"></div>\n",
       "</div>\n",
       "<script type=\"application/javascript\">(function(root) {\n",
       "  var docs_json = {\"359b4c6b-f61a-450d-9043-2a6846f2bd3e\":{\"version\":\"3.7.2\",\"title\":\"Bokeh Application\",\"roots\":[{\"type\":\"object\",\"name\":\"Row\",\"id\":\"96f38239-f027-4db2-8b26-d2075fa2dce3\",\"attributes\":{\"name\":\"Row00570\",\"tags\":[\"embedded\"],\"stylesheets\":[\"\\n:host(.pn-loading):before, .pn-loading:before {\\n  background-color: #c3c3c3;\\n  mask-size: auto calc(min(50%, 400px));\\n  -webkit-mask-size: auto calc(min(50%, 400px));\\n}\",{\"type\":\"object\",\"name\":\"ImportedStyleSheet\",\"id\":\"147c048e-2f94-4140-9e92-31131ca312bd\",\"attributes\":{\"url\":\"https://cdn.holoviz.org/panel/1.6.2/dist/css/loading.css\"}},{\"type\":\"object\",\"name\":\"ImportedStyleSheet\",\"id\":\"416f3b67-eb6f-47be-8078-c2acba361fdd\",\"attributes\":{\"url\":\"https://cdn.holoviz.org/panel/1.6.2/dist/css/listpanel.css\"}},{\"type\":\"object\",\"name\":\"ImportedStyleSheet\",\"id\":\"ca010dd6-e488-48ba-8279-8771d9c4276f\",\"attributes\":{\"url\":\"https://cdn.holoviz.org/panel/1.6.2/dist/bundled/theme/default.css\"}},{\"type\":\"object\",\"name\":\"ImportedStyleSheet\",\"id\":\"231b19af-7557-4637-a71e-7081ab7c8d2f\",\"attributes\":{\"url\":\"https://cdn.holoviz.org/panel/1.6.2/dist/bundled/theme/native.css\"}}],\"min_width\":700,\"margin\":0,\"sizing_mode\":\"stretch_width\",\"align\":\"start\",\"children\":[{\"type\":\"object\",\"name\":\"Spacer\",\"id\":\"8c9271a3-e0e9-4f24-b20a-784ac36f0dc1\",\"attributes\":{\"name\":\"HSpacer00574\",\"stylesheets\":[\"\\n:host(.pn-loading):before, .pn-loading:before {\\n  background-color: #c3c3c3;\\n  mask-size: auto calc(min(50%, 400px));\\n  -webkit-mask-size: auto calc(min(50%, 400px));\\n}\",{\"id\":\"147c048e-2f94-4140-9e92-31131ca312bd\"},{\"id\":\"ca010dd6-e488-48ba-8279-8771d9c4276f\"},{\"id\":\"231b19af-7557-4637-a71e-7081ab7c8d2f\"}],\"margin\":0,\"sizing_mode\":\"stretch_width\",\"align\":\"start\"}},{\"type\":\"object\",\"name\":\"Figure\",\"id\":\"997492da-a3e3-4504-b14f-ab1fd9ebe21b\",\"attributes\":{\"width\":700,\"height\":300,\"margin\":[5,10],\"sizing_mode\":\"fixed\",\"align\":\"start\",\"x_range\":{\"type\":\"object\",\"name\":\"FactorRange\",\"id\":\"b5d81597-7d3a-4b79-9d77-b6cc9ae3fd1c\",\"attributes\":{\"name\":\"post_str_blast\",\"tags\":[[[\"post_str_blast\",null]],[]],\"factors\":[\"35\",\"33\",\"34\",\"32\",\"31\",\"30\",\"29\",\"28\",\"27\",\"26\",\"24\",\"25\",\"23\",\"21\",\"22\",\"20\",\"18\",\"19\",\"17\",\"16\",\"15\",\"14\",\"13\",\"11\"]}},\"y_range\":{\"type\":\"object\",\"name\":\"Range1d\",\"id\":\"d0141c30-8120-4e3e-b51f-92a844946c73\",\"attributes\":{\"name\":\"percent\",\"tags\":[[[\"percent\",null]],{\"type\":\"map\",\"entries\":[[\"invert_yaxis\",false],[\"autorange\",false]]}],\"end\":15.417633410672853,\"reset_start\":0.0,\"reset_end\":15.417633410672853}},\"x_scale\":{\"type\":\"object\",\"name\":\"CategoricalScale\",\"id\":\"d141c1bb-d254-43eb-a65c-cce9fa5edc72\"},\"y_scale\":{\"type\":\"object\",\"name\":\"LinearScale\",\"id\":\"25d0cf8c-e78c-4301-96c3-2111132f5590\"},\"title\":{\"type\":\"object\",\"name\":\"Title\",\"id\":\"1fd767ce-17cc-413e-a549-b81a842fbaed\",\"attributes\":{\"text_color\":\"black\",\"text_font_size\":\"12pt\"}},\"renderers\":[{\"type\":\"object\",\"name\":\"GlyphRenderer\",\"id\":\"abc7c190-b9b9-4e1a-8445-a7d863dd9142\",\"attributes\":{\"data_source\":{\"type\":\"object\",\"name\":\"ColumnDataSource\",\"id\":\"211241f5-a19c-45de-8aa5-2f9020c28ec6\",\"attributes\":{\"selected\":{\"type\":\"object\",\"name\":\"Selection\",\"id\":\"15e14542-aa60-487b-8629-0e6387606330\",\"attributes\":{\"indices\":[],\"line_indices\":[]}},\"selection_policy\":{\"type\":\"object\",\"name\":\"UnionRenderers\",\"id\":\"e51c0cf1-f774-4bfb-8e92-88e685ae24cf\"},\"data\":{\"type\":\"map\",\"entries\":[[\"post_str_blast\",[\"35\",\"33\",\"34\",\"32\",\"31\",\"30\",\"29\",\"28\",\"27\",\"26\",\"24\",\"25\",\"23\",\"21\",\"22\",\"20\",\"18\",\"19\",\"17\",\"16\",\"15\",\"14\",\"13\",\"11\"]],[\"percent\",{\"type\":\"ndarray\",\"array\":{\"type\":\"bytes\",\"data\":\"AsQqyAETLEDX+yi14bwmQMiyHZIWRiZA6FdULu5BI0C8fDLFjN0hQCWPoRBcKyFAa9aZE9FgG0CrIAdMgFgVQNTV6AhfoA5AImlhZNkOCUCNjvAF6moEQI2O8AXqagRANNisMyeiAUB7H6U2nNf7P3sfpTac1/s/jY7wBepq9D+NjvAF6mr0P7ZD0sLIsu0/yLIdkhZG5j/Ish2SFkbmP1Jqw3m9j+I/yLIdkhZG1j/Ish2SFkbWP7ZD0sLIss0/\"},\"shape\":[24],\"dtype\":\"float64\",\"order\":\"little\"}]]}}},\"view\":{\"type\":\"object\",\"name\":\"CDSView\",\"id\":\"fdb4af06-b274-4a03-aac1-b373399089c4\",\"attributes\":{\"filter\":{\"type\":\"object\",\"name\":\"AllIndices\",\"id\":\"407b7641-fa01-4148-a607-0132317bb99a\"}}},\"glyph\":{\"type\":\"object\",\"name\":\"VBar\",\"id\":\"10b252ee-4f2c-4235-9ad5-1d780a715685\",\"attributes\":{\"tags\":[\"apply_ranges\"],\"x\":{\"type\":\"field\",\"field\":\"post_str_blast\"},\"width\":{\"type\":\"value\",\"value\":0.8},\"top\":{\"type\":\"field\",\"field\":\"percent\"},\"fill_color\":{\"type\":\"value\",\"value\":\"#30a2da\"},\"hatch_color\":{\"type\":\"value\",\"value\":\"#30a2da\"}}},\"selection_glyph\":{\"type\":\"object\",\"name\":\"VBar\",\"id\":\"8e314c5a-6255-4fdf-a55c-f6114bb67b61\",\"attributes\":{\"tags\":[\"apply_ranges\"],\"x\":{\"type\":\"field\",\"field\":\"post_str_blast\"},\"width\":{\"type\":\"value\",\"value\":0.8},\"bottom\":{\"type\":\"value\",\"value\":0},\"top\":{\"type\":\"field\",\"field\":\"percent\"},\"line_color\":{\"type\":\"value\",\"value\":\"black\"},\"line_alpha\":{\"type\":\"value\",\"value\":1.0},\"line_width\":{\"type\":\"value\",\"value\":1},\"line_join\":{\"type\":\"value\",\"value\":\"bevel\"},\"line_cap\":{\"type\":\"value\",\"value\":\"butt\"},\"line_dash\":{\"type\":\"value\",\"value\":[]},\"line_dash_offset\":{\"type\":\"value\",\"value\":0},\"fill_color\":{\"type\":\"value\",\"value\":\"#30a2da\"},\"fill_alpha\":{\"type\":\"value\",\"value\":1.0},\"hatch_color\":{\"type\":\"value\",\"value\":\"#30a2da\"},\"hatch_alpha\":{\"type\":\"value\",\"value\":1.0},\"hatch_scale\":{\"type\":\"value\",\"value\":12.0},\"hatch_pattern\":{\"type\":\"value\",\"value\":null},\"hatch_weight\":{\"type\":\"value\",\"value\":1.0}}},\"nonselection_glyph\":{\"type\":\"object\",\"name\":\"VBar\",\"id\":\"1b01e0bd-98ee-400e-9257-44862d4180be\",\"attributes\":{\"tags\":[\"apply_ranges\"],\"x\":{\"type\":\"field\",\"field\":\"post_str_blast\"},\"width\":{\"type\":\"value\",\"value\":0.8},\"top\":{\"type\":\"field\",\"field\":\"percent\"},\"line_alpha\":{\"type\":\"value\",\"value\":0.1},\"fill_color\":{\"type\":\"value\",\"value\":\"#30a2da\"},\"fill_alpha\":{\"type\":\"value\",\"value\":0.1},\"hatch_color\":{\"type\":\"value\",\"value\":\"#30a2da\"},\"hatch_alpha\":{\"type\":\"value\",\"value\":0.1}}},\"muted_glyph\":{\"type\":\"object\",\"name\":\"VBar\",\"id\":\"76ffb66f-4235-42f5-aa7d-6db0f1ebe321\",\"attributes\":{\"tags\":[\"apply_ranges\"],\"x\":{\"type\":\"field\",\"field\":\"post_str_blast\"},\"width\":{\"type\":\"value\",\"value\":0.8},\"top\":{\"type\":\"field\",\"field\":\"percent\"},\"line_alpha\":{\"type\":\"value\",\"value\":0.2},\"fill_color\":{\"type\":\"value\",\"value\":\"#30a2da\"},\"fill_alpha\":{\"type\":\"value\",\"value\":0.2},\"hatch_color\":{\"type\":\"value\",\"value\":\"#30a2da\"},\"hatch_alpha\":{\"type\":\"value\",\"value\":0.2}}}}},{\"type\":\"object\",\"name\":\"Span\",\"id\":\"864a5cf7-5847-469b-afe2-a9b606fdc501\",\"attributes\":{\"level\":\"glyph\",\"location\":4.166666666666667,\"line_color\":\"red\",\"line_width\":3}},{\"type\":\"object\",\"name\":\"Span\",\"id\":\"c51afaf1-b172-43e1-a2fd-2b3d1aa79304\",\"attributes\":{\"level\":\"glyph\",\"location\":6.25,\"line_color\":\"blue\",\"line_width\":3}},{\"type\":\"object\",\"name\":\"Span\",\"id\":\"b6997525-b9f9-4371-b123-cb5d68790b34\",\"attributes\":{\"level\":\"glyph\",\"location\":2.0833333333333335,\"line_color\":\"blue\",\"line_width\":3}}],\"toolbar\":{\"type\":\"object\",\"name\":\"Toolbar\",\"id\":\"78003a27-34c5-4f2a-bd58-8aafa71a0cd9\",\"attributes\":{\"tools\":[{\"type\":\"object\",\"name\":\"WheelZoomTool\",\"id\":\"4ee31ea2-7dc4-4524-938f-98debc270d79\",\"attributes\":{\"tags\":[\"hv_created\"],\"renderers\":\"auto\",\"zoom_together\":\"none\"}},{\"type\":\"object\",\"name\":\"HoverTool\",\"id\":\"0b6f8311-ed33-40a3-b391-b3cfbe301230\",\"attributes\":{\"tags\":[\"hv_created\"],\"renderers\":[{\"id\":\"abc7c190-b9b9-4e1a-8445-a7d863dd9142\"}],\"tooltips\":[[\"post_str_blast\",\"@{post_str_blast}\"],[\"percent\",\"@{percent}\"]]}},{\"type\":\"object\",\"name\":\"SaveTool\",\"id\":\"7675bf2f-2cd6-4864-8ca6-042a31387deb\"},{\"type\":\"object\",\"name\":\"PanTool\",\"id\":\"d660a003-54a7-4841-a7b5-c2a9f682e6ce\"},{\"type\":\"object\",\"name\":\"BoxZoomTool\",\"id\":\"93872ef7-f481-4cde-8ce0-3e679b2740b6\",\"attributes\":{\"dimensions\":\"both\",\"overlay\":{\"type\":\"object\",\"name\":\"BoxAnnotation\",\"id\":\"f105b8e4-b80f-47dc-a9e4-d1d17414fb03\",\"attributes\":{\"syncable\":false,\"line_color\":\"black\",\"line_alpha\":1.0,\"line_width\":2,\"line_dash\":[4,4],\"fill_color\":\"lightgrey\",\"fill_alpha\":0.5,\"level\":\"overlay\",\"visible\":false,\"left\":{\"type\":\"number\",\"value\":\"nan\"},\"right\":{\"type\":\"number\",\"value\":\"nan\"},\"top\":{\"type\":\"number\",\"value\":\"nan\"},\"bottom\":{\"type\":\"number\",\"value\":\"nan\"},\"left_units\":\"canvas\",\"right_units\":\"canvas\",\"top_units\":\"canvas\",\"bottom_units\":\"canvas\",\"handles\":{\"type\":\"object\",\"name\":\"BoxInteractionHandles\",\"id\":\"489125bc-a0db-45fa-baa8-75cd9692e2d4\",\"attributes\":{\"all\":{\"type\":\"object\",\"name\":\"AreaVisuals\",\"id\":\"410476af-92f7-4e38-b8e2-047ed10c5889\",\"attributes\":{\"fill_color\":\"white\",\"hover_fill_color\":\"lightgray\"}}}}}}}},{\"type\":\"object\",\"name\":\"ResetTool\",\"id\":\"2b50d0cc-8942-4a70-86a9-978115e3c091\"}],\"active_drag\":{\"id\":\"d660a003-54a7-4841-a7b5-c2a9f682e6ce\"}}},\"left\":[{\"type\":\"object\",\"name\":\"LinearAxis\",\"id\":\"8c00b57f-1666-4257-b943-659a101ce1be\",\"attributes\":{\"ticker\":{\"type\":\"object\",\"name\":\"BasicTicker\",\"id\":\"74116287-3005-4c36-b275-fba446561e8c\",\"attributes\":{\"mantissas\":[1,2,5]}},\"formatter\":{\"type\":\"object\",\"name\":\"BasicTickFormatter\",\"id\":\"4aba4a27-9cc0-4d27-8c46-37f917256281\"},\"axis_label\":\"percent\",\"major_label_policy\":{\"type\":\"object\",\"name\":\"AllLabels\",\"id\":\"35fcae17-0109-4926-9bab-dcdd33bc6133\"}}}],\"below\":[{\"type\":\"object\",\"name\":\"CategoricalAxis\",\"id\":\"06787711-6110-436d-9e94-ce9e598bd3dd\",\"attributes\":{\"ticker\":{\"type\":\"object\",\"name\":\"CategoricalTicker\",\"id\":\"0cbd0ee3-794b-49a9-9b2f-b265f5fac45d\"},\"formatter\":{\"type\":\"object\",\"name\":\"CategoricalTickFormatter\",\"id\":\"cc54aff2-a03a-47d4-8486-d4ed100a3e17\"},\"axis_label\":\"post_str_blast\",\"major_label_policy\":{\"type\":\"object\",\"name\":\"AllLabels\",\"id\":\"968ee25f-5325-4a88-ad24-ac8d771a6b2d\"}}}],\"center\":[{\"type\":\"object\",\"name\":\"Grid\",\"id\":\"babd24f3-0222-47ec-80a5-14f03b204fce\",\"attributes\":{\"axis\":{\"id\":\"06787711-6110-436d-9e94-ce9e598bd3dd\"},\"grid_line_color\":null}},{\"type\":\"object\",\"name\":\"Grid\",\"id\":\"b1d018e6-5b94-45d3-a336-8387d9d8fd9c\",\"attributes\":{\"dimension\":1,\"axis\":{\"id\":\"8c00b57f-1666-4257-b943-659a101ce1be\"},\"grid_line_color\":null}}],\"min_border_top\":10,\"min_border_bottom\":10,\"min_border_left\":10,\"min_border_right\":10,\"output_backend\":\"webgl\"}},{\"type\":\"object\",\"name\":\"Spacer\",\"id\":\"a807ece7-1849-4edb-92e1-2a9d918af1f4\",\"attributes\":{\"name\":\"HSpacer00575\",\"stylesheets\":[\"\\n:host(.pn-loading):before, .pn-loading:before {\\n  background-color: #c3c3c3;\\n  mask-size: auto calc(min(50%, 400px));\\n  -webkit-mask-size: auto calc(min(50%, 400px));\\n}\",{\"id\":\"147c048e-2f94-4140-9e92-31131ca312bd\"},{\"id\":\"ca010dd6-e488-48ba-8279-8771d9c4276f\"},{\"id\":\"231b19af-7557-4637-a71e-7081ab7c8d2f\"}],\"margin\":0,\"sizing_mode\":\"stretch_width\",\"align\":\"start\"}}]}}],\"defs\":[{\"type\":\"model\",\"name\":\"ReactiveHTML1\"},{\"type\":\"model\",\"name\":\"FlexBox1\",\"properties\":[{\"name\":\"align_content\",\"kind\":\"Any\",\"default\":\"flex-start\"},{\"name\":\"align_items\",\"kind\":\"Any\",\"default\":\"flex-start\"},{\"name\":\"flex_direction\",\"kind\":\"Any\",\"default\":\"row\"},{\"name\":\"flex_wrap\",\"kind\":\"Any\",\"default\":\"wrap\"},{\"name\":\"gap\",\"kind\":\"Any\",\"default\":\"\"},{\"name\":\"justify_content\",\"kind\":\"Any\",\"default\":\"flex-start\"}]},{\"type\":\"model\",\"name\":\"FloatPanel1\",\"properties\":[{\"name\":\"config\",\"kind\":\"Any\",\"default\":{\"type\":\"map\"}},{\"name\":\"contained\",\"kind\":\"Any\",\"default\":true},{\"name\":\"position\",\"kind\":\"Any\",\"default\":\"right-top\"},{\"name\":\"offsetx\",\"kind\":\"Any\",\"default\":null},{\"name\":\"offsety\",\"kind\":\"Any\",\"default\":null},{\"name\":\"theme\",\"kind\":\"Any\",\"default\":\"primary\"},{\"name\":\"status\",\"kind\":\"Any\",\"default\":\"normalized\"}]},{\"type\":\"model\",\"name\":\"GridStack1\",\"properties\":[{\"name\":\"ncols\",\"kind\":\"Any\",\"default\":null},{\"name\":\"nrows\",\"kind\":\"Any\",\"default\":null},{\"name\":\"allow_resize\",\"kind\":\"Any\",\"default\":true},{\"name\":\"allow_drag\",\"kind\":\"Any\",\"default\":true},{\"name\":\"state\",\"kind\":\"Any\",\"default\":[]}]},{\"type\":\"model\",\"name\":\"drag1\",\"properties\":[{\"name\":\"slider_width\",\"kind\":\"Any\",\"default\":5},{\"name\":\"slider_color\",\"kind\":\"Any\",\"default\":\"black\"},{\"name\":\"value\",\"kind\":\"Any\",\"default\":50}]},{\"type\":\"model\",\"name\":\"click1\",\"properties\":[{\"name\":\"terminal_output\",\"kind\":\"Any\",\"default\":\"\"},{\"name\":\"debug_name\",\"kind\":\"Any\",\"default\":\"\"},{\"name\":\"clears\",\"kind\":\"Any\",\"default\":0}]},{\"type\":\"model\",\"name\":\"FastWrapper1\",\"properties\":[{\"name\":\"object\",\"kind\":\"Any\",\"default\":null},{\"name\":\"style\",\"kind\":\"Any\",\"default\":null}]},{\"type\":\"model\",\"name\":\"NotificationArea1\",\"properties\":[{\"name\":\"js_events\",\"kind\":\"Any\",\"default\":{\"type\":\"map\"}},{\"name\":\"max_notifications\",\"kind\":\"Any\",\"default\":5},{\"name\":\"notifications\",\"kind\":\"Any\",\"default\":[]},{\"name\":\"position\",\"kind\":\"Any\",\"default\":\"bottom-right\"},{\"name\":\"_clear\",\"kind\":\"Any\",\"default\":0},{\"name\":\"types\",\"kind\":\"Any\",\"default\":[{\"type\":\"map\",\"entries\":[[\"type\",\"warning\"],[\"background\",\"#ffc107\"],[\"icon\",{\"type\":\"map\",\"entries\":[[\"className\",\"fas fa-exclamation-triangle\"],[\"tagName\",\"i\"],[\"color\",\"white\"]]}]]},{\"type\":\"map\",\"entries\":[[\"type\",\"info\"],[\"background\",\"#007bff\"],[\"icon\",{\"type\":\"map\",\"entries\":[[\"className\",\"fas fa-info-circle\"],[\"tagName\",\"i\"],[\"color\",\"white\"]]}]]}]}]},{\"type\":\"model\",\"name\":\"Notification\",\"properties\":[{\"name\":\"background\",\"kind\":\"Any\",\"default\":null},{\"name\":\"duration\",\"kind\":\"Any\",\"default\":3000},{\"name\":\"icon\",\"kind\":\"Any\",\"default\":null},{\"name\":\"message\",\"kind\":\"Any\",\"default\":\"\"},{\"name\":\"notification_type\",\"kind\":\"Any\",\"default\":null},{\"name\":\"_rendered\",\"kind\":\"Any\",\"default\":false},{\"name\":\"_destroyed\",\"kind\":\"Any\",\"default\":false}]},{\"type\":\"model\",\"name\":\"TemplateActions1\",\"properties\":[{\"name\":\"open_modal\",\"kind\":\"Any\",\"default\":0},{\"name\":\"close_modal\",\"kind\":\"Any\",\"default\":0}]},{\"type\":\"model\",\"name\":\"BootstrapTemplateActions1\",\"properties\":[{\"name\":\"open_modal\",\"kind\":\"Any\",\"default\":0},{\"name\":\"close_modal\",\"kind\":\"Any\",\"default\":0}]},{\"type\":\"model\",\"name\":\"TemplateEditor1\",\"properties\":[{\"name\":\"layout\",\"kind\":\"Any\",\"default\":[]}]},{\"type\":\"model\",\"name\":\"MaterialTemplateActions1\",\"properties\":[{\"name\":\"open_modal\",\"kind\":\"Any\",\"default\":0},{\"name\":\"close_modal\",\"kind\":\"Any\",\"default\":0}]},{\"type\":\"model\",\"name\":\"ReactiveESM1\",\"properties\":[{\"name\":\"esm_constants\",\"kind\":\"Any\",\"default\":{\"type\":\"map\"}}]},{\"type\":\"model\",\"name\":\"JSComponent1\",\"properties\":[{\"name\":\"esm_constants\",\"kind\":\"Any\",\"default\":{\"type\":\"map\"}}]},{\"type\":\"model\",\"name\":\"ReactComponent1\",\"properties\":[{\"name\":\"esm_constants\",\"kind\":\"Any\",\"default\":{\"type\":\"map\"}}]},{\"type\":\"model\",\"name\":\"AnyWidgetComponent1\",\"properties\":[{\"name\":\"esm_constants\",\"kind\":\"Any\",\"default\":{\"type\":\"map\"}}]},{\"type\":\"model\",\"name\":\"request_value1\",\"properties\":[{\"name\":\"fill\",\"kind\":\"Any\",\"default\":\"none\"},{\"name\":\"_synced\",\"kind\":\"Any\",\"default\":null},{\"name\":\"_request_sync\",\"kind\":\"Any\",\"default\":0}]}]}};\n",
       "  var render_items = [{\"docid\":\"359b4c6b-f61a-450d-9043-2a6846f2bd3e\",\"roots\":{\"96f38239-f027-4db2-8b26-d2075fa2dce3\":\"c7b694ee-bbdd-4fc0-9e52-be8fc43cc247\"},\"root_ids\":[\"96f38239-f027-4db2-8b26-d2075fa2dce3\"]}];\n",
       "  var docs = Object.values(docs_json)\n",
       "  if (!docs) {\n",
       "    return\n",
       "  }\n",
       "  const py_version = docs[0].version.replace('rc', '-rc.').replace('.dev', '-dev.')\n",
       "  async function embed_document(root) {\n",
       "    var Bokeh = get_bokeh(root)\n",
       "    await Bokeh.embed.embed_items_notebook(docs_json, render_items);\n",
       "    for (const render_item of render_items) {\n",
       "      for (const root_id of render_item.root_ids) {\n",
       "\tconst id_el = document.getElementById(root_id)\n",
       "\tif (id_el.children.length && id_el.children[0].hasAttribute('data-root-id')) {\n",
       "\t  const root_el = id_el.children[0]\n",
       "\t  root_el.id = root_el.id + '-rendered'\n",
       "\t  for (const child of root_el.children) {\n",
       "            // Ensure JupyterLab does not capture keyboard shortcuts\n",
       "            // see: https://jupyterlab.readthedocs.io/en/4.1.x/extension/notebook.html#keyboard-interaction-model\n",
       "\t    child.setAttribute('data-lm-suppress-shortcuts', 'true')\n",
       "\t  }\n",
       "\t}\n",
       "      }\n",
       "    }\n",
       "  }\n",
       "  function get_bokeh(root) {\n",
       "    if (root.Bokeh === undefined) {\n",
       "      return null\n",
       "    } else if (root.Bokeh.version !== py_version) {\n",
       "      if (root.Bokeh.versions === undefined || !root.Bokeh.versions.has(py_version)) {\n",
       "\treturn null\n",
       "      }\n",
       "      return root.Bokeh.versions.get(py_version);\n",
       "    } else if (root.Bokeh.version === py_version) {\n",
       "      return root.Bokeh\n",
       "    }\n",
       "    return null\n",
       "  }\n",
       "  function is_loaded(root) {\n",
       "    var Bokeh = get_bokeh(root)\n",
       "    return (Bokeh != null && Bokeh.Panel !== undefined)\n",
       "  }\n",
       "  if (is_loaded(root)) {\n",
       "    embed_document(root);\n",
       "  } else {\n",
       "    var attempts = 0;\n",
       "    var timer = setInterval(function(root) {\n",
       "      if (is_loaded(root)) {\n",
       "        clearInterval(timer);\n",
       "        embed_document(root);\n",
       "      } else if (document.readyState == \"complete\") {\n",
       "        attempts++;\n",
       "        if (attempts > 200) {\n",
       "          clearInterval(timer);\n",
       "\t  var Bokeh = get_bokeh(root)\n",
       "\t  if (Bokeh == null || Bokeh.Panel == null) {\n",
       "            console.warn(\"Panel: ERROR: Unable to run Panel code because Bokeh or Panel library is missing\");\n",
       "\t  } else {\n",
       "\t    console.warn(\"Panel: WARNING: Attempting to render but not all required libraries could be resolved.\")\n",
       "\t    embed_document(root)\n",
       "\t  }\n",
       "        }\n",
       "      }\n",
       "    }, 25, root)\n",
       "  }\n",
       "})(window);</script>"
      ],
      "text/plain": [
       ":Overlay\n",
       "   .Bars.I    :Bars   [post_str_blast]   (percent)\n",
       "   .HLine.I   :HLine   [x,y]\n",
       "   .HLine.II  :HLine   [x,y]\n",
       "   .HLine.III :HLine   [x,y]"
      ]
     },
     "metadata": {
      "application/vnd.holoviews_exec.v0+json": {
       "id": "96f38239-f027-4db2-8b26-d2075fa2dce3"
      }
     },
     "output_type": "display_data"
    },
    {
     "name": "stdout",
     "output_type": "stream",
     "text": [
      "df_10_last FOR str_b5 = 33\n"
     ]
    },
    {
     "data": {
      "text/html": [
       "<div><style>\n",
       ".dataframe > thead > tr,\n",
       ".dataframe > tbody > tr {\n",
       "  text-align: right;\n",
       "  white-space: pre-wrap;\n",
       "}\n",
       "</style>\n",
       "<small>shape: (10, 24)</small><table border=\"1\" class=\"dataframe\"><thead><tr><th>fecha</th><th>sorteo</th><th>bolillas</th><th>id</th><th>combo</th><th>b1</th><th>b2</th><th>b3</th><th>b4</th><th>b5</th><th>str_b1</th><th>str_b2</th><th>str_b3</th><th>str_b4</th><th>str_b5</th><th>post_str_b1</th><th>post_str_b2</th><th>post_str_b3</th><th>post_str_b4</th><th>post_str_blast</th><th>is_rare_combination</th><th>reason</th><th>jumps_map</th><th>unijump</th></tr><tr><td>str</td><td>str</td><td>str</td><td>str</td><td>array[u8, 5]</td><td>u8</td><td>u8</td><td>u8</td><td>u8</td><td>u8</td><td>str</td><td>str</td><td>str</td><td>str</td><td>str</td><td>str</td><td>str</td><td>str</td><td>str</td><td>str</td><td>bool</td><td>u8</td><td>str</td><td>i64</td></tr></thead><tbody><tr><td>&quot;01/04/2025&quot;</td><td>&quot;4173&quot;</td><td>&quot;12 25 33 13 08&quot;</td><td>&quot;0812132533&quot;</td><td>[8, 12, … 33]</td><td>8</td><td>12</td><td>13</td><td>25</td><td>33</td><td>&quot;08&quot;</td><td>&quot;12&quot;</td><td>&quot;13&quot;</td><td>&quot;25&quot;</td><td>&quot;33&quot;</td><td>&quot;11&quot;</td><td>&quot;14&quot;</td><td>&quot;17&quot;</td><td>&quot;24&quot;</td><td>&quot;26&quot;</td><td>false</td><td>0</td><td>&quot;04_01_12_08&quot;</td><td>-29</td></tr><tr><td>&quot;21/03/2025&quot;</td><td>&quot;4162&quot;</td><td>&quot;32 33 01 17 26&quot;</td><td>&quot;0117263233&quot;</td><td>[1, 17, … 33]</td><td>1</td><td>17</td><td>26</td><td>32</td><td>33</td><td>&quot;01&quot;</td><td>&quot;17&quot;</td><td>&quot;26&quot;</td><td>&quot;32&quot;</td><td>&quot;33&quot;</td><td>&quot;10&quot;</td><td>&quot;17&quot;</td><td>&quot;19&quot;</td><td>&quot;22&quot;</td><td>&quot;32&quot;</td><td>false</td><td>0</td><td>&quot;16_09_06_01&quot;</td><td>-6</td></tr><tr><td>&quot;28/02/2025&quot;</td><td>&quot;4141&quot;</td><td>&quot;33 04 28 22 07&quot;</td><td>&quot;0407222833&quot;</td><td>[4, 7, … 33]</td><td>4</td><td>7</td><td>22</td><td>28</td><td>33</td><td>&quot;04&quot;</td><td>&quot;07&quot;</td><td>&quot;22&quot;</td><td>&quot;28&quot;</td><td>&quot;33&quot;</td><td>&quot;02&quot;</td><td>&quot;05&quot;</td><td>&quot;11&quot;</td><td>&quot;25&quot;</td><td>&quot;32&quot;</td><td>true</td><td>16</td><td>&quot;03_15_06_05&quot;</td><td>29</td></tr><tr><td>&quot;17/02/2025&quot;</td><td>&quot;4130&quot;</td><td>&quot;12 33 22 19 20&quot;</td><td>&quot;1219202233&quot;</td><td>[12, 19, … 33]</td><td>12</td><td>19</td><td>20</td><td>22</td><td>33</td><td>&quot;12&quot;</td><td>&quot;19&quot;</td><td>&quot;20&quot;</td><td>&quot;22&quot;</td><td>&quot;33&quot;</td><td>&quot;01&quot;</td><td>&quot;05&quot;</td><td>&quot;13&quot;</td><td>&quot;20&quot;</td><td>&quot;26&quot;</td><td>false</td><td>0</td><td>&quot;07_01_02_11&quot;</td><td>1</td></tr><tr><td>&quot;16/02/2025&quot;</td><td>&quot;4129&quot;</td><td>&quot;33 07 12 04 32&quot;</td><td>&quot;0407123233&quot;</td><td>[4, 7, … 33]</td><td>4</td><td>7</td><td>12</td><td>32</td><td>33</td><td>&quot;04&quot;</td><td>&quot;07&quot;</td><td>&quot;12&quot;</td><td>&quot;32&quot;</td><td>&quot;33&quot;</td><td>&quot;12&quot;</td><td>&quot;19&quot;</td><td>&quot;20&quot;</td><td>&quot;22&quot;</td><td>&quot;33&quot;</td><td>false</td><td>0</td><td>&quot;03_05_20_01&quot;</td><td>-47</td></tr><tr><td>&quot;13/02/2025&quot;</td><td>&quot;4126&quot;</td><td>&quot;17 30 21 33 15&quot;</td><td>&quot;1517213033&quot;</td><td>[15, 17, … 33]</td><td>15</td><td>17</td><td>21</td><td>30</td><td>33</td><td>&quot;15&quot;</td><td>&quot;17&quot;</td><td>&quot;21&quot;</td><td>&quot;30&quot;</td><td>&quot;33&quot;</td><td>&quot;09&quot;</td><td>&quot;14&quot;</td><td>&quot;15&quot;</td><td>&quot;26&quot;</td><td>&quot;28&quot;</td><td>false</td><td>0</td><td>&quot;02_04_09_03&quot;</td><td>-14</td></tr><tr><td>&quot;12/02/2025&quot;</td><td>&quot;4125&quot;</td><td>&quot;31 33 20 12 13&quot;</td><td>&quot;1213203133&quot;</td><td>[12, 13, … 33]</td><td>12</td><td>13</td><td>20</td><td>31</td><td>33</td><td>&quot;12&quot;</td><td>&quot;13&quot;</td><td>&quot;20&quot;</td><td>&quot;31&quot;</td><td>&quot;33&quot;</td><td>&quot;15&quot;</td><td>&quot;17&quot;</td><td>&quot;21&quot;</td><td>&quot;30&quot;</td><td>&quot;33&quot;</td><td>false</td><td>0</td><td>&quot;01_07_11_02&quot;</td><td>-11</td></tr><tr><td>&quot;03/02/2025&quot;</td><td>&quot;4116&quot;</td><td>&quot;17 31 32 33 19&quot;</td><td>&quot;1719313233&quot;</td><td>[17, 19, … 33]</td><td>17</td><td>19</td><td>31</td><td>32</td><td>33</td><td>&quot;17&quot;</td><td>&quot;19&quot;</td><td>&quot;31&quot;</td><td>&quot;32&quot;</td><td>&quot;33&quot;</td><td>&quot;06&quot;</td><td>&quot;13&quot;</td><td>&quot;23&quot;</td><td>&quot;34&quot;</td><td>&quot;35&quot;</td><td>true</td><td>8</td><td>&quot;02_12_01_01&quot;</td><td>32</td></tr><tr><td>&quot;28/12/2024&quot;</td><td>&quot;4079&quot;</td><td>&quot;28 33 03 22 32&quot;</td><td>&quot;0322283233&quot;</td><td>[3, 22, … 33]</td><td>3</td><td>22</td><td>28</td><td>32</td><td>33</td><td>&quot;03&quot;</td><td>&quot;22&quot;</td><td>&quot;28&quot;</td><td>&quot;32&quot;</td><td>&quot;33&quot;</td><td>&quot;01&quot;</td><td>&quot;07&quot;</td><td>&quot;15&quot;</td><td>&quot;30&quot;</td><td>&quot;34&quot;</td><td>true</td><td>16</td><td>&quot;19_06_04_01&quot;</td><td>-12</td></tr><tr><td>&quot;12/11/2024&quot;</td><td>&quot;4033&quot;</td><td>&quot;27 01 09 33 20&quot;</td><td>&quot;0109202733&quot;</td><td>[1, 9, … 33]</td><td>1</td><td>9</td><td>20</td><td>27</td><td>33</td><td>&quot;01&quot;</td><td>&quot;09&quot;</td><td>&quot;20&quot;</td><td>&quot;27&quot;</td><td>&quot;33&quot;</td><td>&quot;01&quot;</td><td>&quot;05&quot;</td><td>&quot;21&quot;</td><td>&quot;24&quot;</td><td>&quot;26&quot;</td><td>false</td><td>0</td><td>&quot;08_11_07_06&quot;</td><td>10</td></tr></tbody></table></div>"
      ],
      "text/plain": [
       "shape: (10, 24)\n",
       "┌────────────┬────────┬─────────────┬────────────┬───┬─────────────┬────────┬────────────┬─────────┐\n",
       "│ fecha      ┆ sorteo ┆ bolillas    ┆ id         ┆ … ┆ is_rare_com ┆ reason ┆ jumps_map  ┆ unijump │\n",
       "│ ---        ┆ ---    ┆ ---         ┆ ---        ┆   ┆ bination    ┆ ---    ┆ ---        ┆ ---     │\n",
       "│ str        ┆ str    ┆ str         ┆ str        ┆   ┆ ---         ┆ u8     ┆ str        ┆ i64     │\n",
       "│            ┆        ┆             ┆            ┆   ┆ bool        ┆        ┆            ┆         │\n",
       "╞════════════╪════════╪═════════════╪════════════╪═══╪═════════════╪════════╪════════════╪═════════╡\n",
       "│ 01/04/2025 ┆ 4173   ┆ 12 25 33 13 ┆ 0812132533 ┆ … ┆ false       ┆ 0      ┆ 04_01_12_0 ┆ -29     │\n",
       "│            ┆        ┆ 08          ┆            ┆   ┆             ┆        ┆ 8          ┆         │\n",
       "│ 21/03/2025 ┆ 4162   ┆ 32 33 01 17 ┆ 0117263233 ┆ … ┆ false       ┆ 0      ┆ 16_09_06_0 ┆ -6      │\n",
       "│            ┆        ┆ 26          ┆            ┆   ┆             ┆        ┆ 1          ┆         │\n",
       "│ 28/02/2025 ┆ 4141   ┆ 33 04 28 22 ┆ 0407222833 ┆ … ┆ true        ┆ 16     ┆ 03_15_06_0 ┆ 29      │\n",
       "│            ┆        ┆ 07          ┆            ┆   ┆             ┆        ┆ 5          ┆         │\n",
       "│ 17/02/2025 ┆ 4130   ┆ 12 33 22 19 ┆ 1219202233 ┆ … ┆ false       ┆ 0      ┆ 07_01_02_1 ┆ 1       │\n",
       "│            ┆        ┆ 20          ┆            ┆   ┆             ┆        ┆ 1          ┆         │\n",
       "│ 16/02/2025 ┆ 4129   ┆ 33 07 12 04 ┆ 0407123233 ┆ … ┆ false       ┆ 0      ┆ 03_05_20_0 ┆ -47     │\n",
       "│            ┆        ┆ 32          ┆            ┆   ┆             ┆        ┆ 1          ┆         │\n",
       "│ 13/02/2025 ┆ 4126   ┆ 17 30 21 33 ┆ 1517213033 ┆ … ┆ false       ┆ 0      ┆ 02_04_09_0 ┆ -14     │\n",
       "│            ┆        ┆ 15          ┆            ┆   ┆             ┆        ┆ 3          ┆         │\n",
       "│ 12/02/2025 ┆ 4125   ┆ 31 33 20 12 ┆ 1213203133 ┆ … ┆ false       ┆ 0      ┆ 01_07_11_0 ┆ -11     │\n",
       "│            ┆        ┆ 13          ┆            ┆   ┆             ┆        ┆ 2          ┆         │\n",
       "│ 03/02/2025 ┆ 4116   ┆ 17 31 32 33 ┆ 1719313233 ┆ … ┆ true        ┆ 8      ┆ 02_12_01_0 ┆ 32      │\n",
       "│            ┆        ┆ 19          ┆            ┆   ┆             ┆        ┆ 1          ┆         │\n",
       "│ 28/12/2024 ┆ 4079   ┆ 28 33 03 22 ┆ 0322283233 ┆ … ┆ true        ┆ 16     ┆ 19_06_04_0 ┆ -12     │\n",
       "│            ┆        ┆ 32          ┆            ┆   ┆             ┆        ┆ 1          ┆         │\n",
       "│ 12/11/2024 ┆ 4033   ┆ 27 01 09 33 ┆ 0109202733 ┆ … ┆ false       ┆ 0      ┆ 08_11_07_0 ┆ 10      │\n",
       "│            ┆        ┆ 20          ┆            ┆   ┆             ┆        ┆ 6          ┆         │\n",
       "└────────────┴────────┴─────────────┴────────────┴───┴─────────────┴────────┴────────────┴─────────┘"
      ]
     },
     "metadata": {},
     "output_type": "display_data"
    },
    {
     "name": "stdout",
     "output_type": "stream",
     "text": [
      "df_jumps_map FOR str_b5 = 33\n"
     ]
    },
    {
     "data": {
      "text/html": [
       "<div><style>\n",
       ".dataframe > thead > tr,\n",
       ".dataframe > tbody > tr {\n",
       "  text-align: right;\n",
       "  white-space: pre-wrap;\n",
       "}\n",
       "</style>\n",
       "<small>shape: (848, 2)</small><table border=\"1\" class=\"dataframe\"><thead><tr><th>jumps_map</th><th>count</th></tr><tr><td>str</td><td>u32</td></tr></thead><tbody><tr><td>&quot;13_06_02_06&quot;</td><td>2</td></tr><tr><td>&quot;12_10_04_01&quot;</td><td>2</td></tr><tr><td>&quot;23_04_02_01&quot;</td><td>2</td></tr><tr><td>&quot;08_19_01_03&quot;</td><td>2</td></tr><tr><td>&quot;04_09_12_01&quot;</td><td>2</td></tr><tr><td>&hellip;</td><td>&hellip;</td></tr><tr><td>&quot;03_05_04_18&quot;</td><td>1</td></tr><tr><td>&quot;01_06_12_11&quot;</td><td>1</td></tr><tr><td>&quot;04_12_05_06&quot;</td><td>1</td></tr><tr><td>&quot;03_11_05_04&quot;</td><td>1</td></tr><tr><td>&quot;01_13_03_12&quot;</td><td>1</td></tr></tbody></table></div>"
      ],
      "text/plain": [
       "shape: (848, 2)\n",
       "┌─────────────┬───────┐\n",
       "│ jumps_map   ┆ count │\n",
       "│ ---         ┆ ---   │\n",
       "│ str         ┆ u32   │\n",
       "╞═════════════╪═══════╡\n",
       "│ 13_06_02_06 ┆ 2     │\n",
       "│ 12_10_04_01 ┆ 2     │\n",
       "│ 23_04_02_01 ┆ 2     │\n",
       "│ 08_19_01_03 ┆ 2     │\n",
       "│ 04_09_12_01 ┆ 2     │\n",
       "│ …           ┆ …     │\n",
       "│ 03_05_04_18 ┆ 1     │\n",
       "│ 01_06_12_11 ┆ 1     │\n",
       "│ 04_12_05_06 ┆ 1     │\n",
       "│ 03_11_05_04 ┆ 1     │\n",
       "│ 01_13_03_12 ┆ 1     │\n",
       "└─────────────┴───────┘"
      ]
     },
     "metadata": {},
     "output_type": "display_data"
    },
    {
     "name": "stdout",
     "output_type": "stream",
     "text": [
      "df_unijump FOR str_b5 = 33\n"
     ]
    },
    {
     "data": {
      "text/html": [
       "<div><style>\n",
       ".dataframe > thead > tr,\n",
       ".dataframe > tbody > tr {\n",
       "  text-align: right;\n",
       "  white-space: pre-wrap;\n",
       "}\n",
       "</style>\n",
       "<small>shape: (128, 2)</small><table border=\"1\" class=\"dataframe\"><thead><tr><th>unijump</th><th>count</th></tr><tr><td>i64</td><td>u32</td></tr></thead><tbody><tr><td>0</td><td>22</td></tr><tr><td>-1</td><td>20</td></tr><tr><td>5</td><td>20</td></tr><tr><td>2</td><td>20</td></tr><tr><td>10</td><td>20</td></tr><tr><td>&hellip;</td><td>&hellip;</td></tr><tr><td>-43</td><td>1</td></tr><tr><td>-58</td><td>1</td></tr><tr><td>-59</td><td>1</td></tr><tr><td>-42</td><td>1</td></tr><tr><td>48</td><td>1</td></tr></tbody></table></div>"
      ],
      "text/plain": [
       "shape: (128, 2)\n",
       "┌─────────┬───────┐\n",
       "│ unijump ┆ count │\n",
       "│ ---     ┆ ---   │\n",
       "│ i64     ┆ u32   │\n",
       "╞═════════╪═══════╡\n",
       "│ 0       ┆ 22    │\n",
       "│ -1      ┆ 20    │\n",
       "│ 5       ┆ 20    │\n",
       "│ 2       ┆ 20    │\n",
       "│ 10      ┆ 20    │\n",
       "│ …       ┆ …     │\n",
       "│ -43     ┆ 1     │\n",
       "│ -58     ┆ 1     │\n",
       "│ -59     ┆ 1     │\n",
       "│ -42     ┆ 1     │\n",
       "│ 48      ┆ 1     │\n",
       "└─────────┴───────┘"
      ]
     },
     "metadata": {},
     "output_type": "display_data"
    }
   ],
   "source": [
    "possible_blast, exclude_jump_maps_blast = plot_post_col(col='str_b5', post_col='post_str_blast')"
   ]
  },
  {
   "cell_type": "code",
   "execution_count": 12,
   "metadata": {},
   "outputs": [],
   "source": [
    "b_count = rr.CHOOSE\n",
    "min_b = rr.MIN_B_VALUES[0]\n",
    "max_b = rr.MAX_B_VALUES[-1]\n",
    "\n",
    "\n",
    "combos = combinations(range(min_b, max_b + 1), b_count)\n",
    "# print(\"generating combos: \", len(list(combos)))"
   ]
  },
  {
   "cell_type": "code",
   "execution_count": 13,
   "metadata": {},
   "outputs": [
    {
     "name": "stdout",
     "output_type": "stream",
     "text": [
      "TOTAL_LINES=324632\n"
     ]
    },
    {
     "data": {
      "text/html": [
       "<div><style>\n",
       ".dataframe > thead > tr,\n",
       ".dataframe > tbody > tr {\n",
       "  text-align: right;\n",
       "  white-space: pre-wrap;\n",
       "}\n",
       "</style>\n",
       "<small>shape: (10, 18)</small><table border=\"1\" class=\"dataframe\"><thead><tr><th>id</th><th>combo</th><th>b1</th><th>b2</th><th>b3</th><th>b4</th><th>b5</th><th>str_b1</th><th>str_b2</th><th>str_b3</th><th>str_b4</th><th>str_b5</th><th>post_str_b1</th><th>post_str_blast</th><th>is_rare_combination</th><th>reason</th><th>jumps_map</th><th>unijump</th></tr><tr><td>str</td><td>array[u8, 5]</td><td>u8</td><td>u8</td><td>u8</td><td>u8</td><td>u8</td><td>str</td><td>str</td><td>str</td><td>str</td><td>str</td><td>str</td><td>str</td><td>bool</td><td>u8</td><td>str</td><td>i64</td></tr></thead><tbody><tr><td>&quot;0102030405&quot;</td><td>[1, 2, … 5]</td><td>1</td><td>2</td><td>3</td><td>4</td><td>5</td><td>&quot;01&quot;</td><td>&quot;02&quot;</td><td>&quot;03&quot;</td><td>&quot;04&quot;</td><td>&quot;05&quot;</td><td>null</td><td>null</td><td>true</td><td>8</td><td>&quot;01_01_01_01&quot;</td><td>0</td></tr><tr><td>&quot;0102030406&quot;</td><td>[1, 2, … 6]</td><td>1</td><td>2</td><td>3</td><td>4</td><td>6</td><td>&quot;01&quot;</td><td>&quot;02&quot;</td><td>&quot;03&quot;</td><td>&quot;04&quot;</td><td>&quot;06&quot;</td><td>&quot;01&quot;</td><td>&quot;05&quot;</td><td>true</td><td>8</td><td>&quot;01_01_01_02&quot;</td><td>1</td></tr><tr><td>&quot;0102030407&quot;</td><td>[1, 2, … 7]</td><td>1</td><td>2</td><td>3</td><td>4</td><td>7</td><td>&quot;01&quot;</td><td>&quot;02&quot;</td><td>&quot;03&quot;</td><td>&quot;04&quot;</td><td>&quot;07&quot;</td><td>&quot;01&quot;</td><td>&quot;06&quot;</td><td>true</td><td>8</td><td>&quot;01_01_01_03&quot;</td><td>2</td></tr><tr><td>&quot;0102030408&quot;</td><td>[1, 2, … 8]</td><td>1</td><td>2</td><td>3</td><td>4</td><td>8</td><td>&quot;01&quot;</td><td>&quot;02&quot;</td><td>&quot;03&quot;</td><td>&quot;04&quot;</td><td>&quot;08&quot;</td><td>&quot;01&quot;</td><td>&quot;07&quot;</td><td>true</td><td>8</td><td>&quot;01_01_01_04&quot;</td><td>3</td></tr><tr><td>&quot;0102030409&quot;</td><td>[1, 2, … 9]</td><td>1</td><td>2</td><td>3</td><td>4</td><td>9</td><td>&quot;01&quot;</td><td>&quot;02&quot;</td><td>&quot;03&quot;</td><td>&quot;04&quot;</td><td>&quot;09&quot;</td><td>&quot;01&quot;</td><td>&quot;08&quot;</td><td>true</td><td>8</td><td>&quot;01_01_01_05&quot;</td><td>4</td></tr><tr><td>&quot;0102030410&quot;</td><td>[1, 2, … 10]</td><td>1</td><td>2</td><td>3</td><td>4</td><td>10</td><td>&quot;01&quot;</td><td>&quot;02&quot;</td><td>&quot;03&quot;</td><td>&quot;04&quot;</td><td>&quot;10&quot;</td><td>&quot;01&quot;</td><td>&quot;09&quot;</td><td>true</td><td>8</td><td>&quot;01_01_01_06&quot;</td><td>5</td></tr><tr><td>&quot;0102030411&quot;</td><td>[1, 2, … 11]</td><td>1</td><td>2</td><td>3</td><td>4</td><td>11</td><td>&quot;01&quot;</td><td>&quot;02&quot;</td><td>&quot;03&quot;</td><td>&quot;04&quot;</td><td>&quot;11&quot;</td><td>&quot;01&quot;</td><td>&quot;10&quot;</td><td>true</td><td>8</td><td>&quot;01_01_01_07&quot;</td><td>6</td></tr><tr><td>&quot;0102030412&quot;</td><td>[1, 2, … 12]</td><td>1</td><td>2</td><td>3</td><td>4</td><td>12</td><td>&quot;01&quot;</td><td>&quot;02&quot;</td><td>&quot;03&quot;</td><td>&quot;04&quot;</td><td>&quot;12&quot;</td><td>&quot;01&quot;</td><td>&quot;11&quot;</td><td>true</td><td>8</td><td>&quot;01_01_01_08&quot;</td><td>7</td></tr><tr><td>&quot;0102030413&quot;</td><td>[1, 2, … 13]</td><td>1</td><td>2</td><td>3</td><td>4</td><td>13</td><td>&quot;01&quot;</td><td>&quot;02&quot;</td><td>&quot;03&quot;</td><td>&quot;04&quot;</td><td>&quot;13&quot;</td><td>&quot;01&quot;</td><td>&quot;12&quot;</td><td>true</td><td>8</td><td>&quot;01_01_01_09&quot;</td><td>8</td></tr><tr><td>&quot;0102030414&quot;</td><td>[1, 2, … 14]</td><td>1</td><td>2</td><td>3</td><td>4</td><td>14</td><td>&quot;01&quot;</td><td>&quot;02&quot;</td><td>&quot;03&quot;</td><td>&quot;04&quot;</td><td>&quot;14&quot;</td><td>&quot;01&quot;</td><td>&quot;13&quot;</td><td>true</td><td>8</td><td>&quot;01_01_01_10&quot;</td><td>9</td></tr></tbody></table></div>"
      ],
      "text/plain": [
       "shape: (10, 18)\n",
       "┌────────────┬──────────────┬─────┬─────┬───┬─────────────────────┬────────┬─────────────┬─────────┐\n",
       "│ id         ┆ combo        ┆ b1  ┆ b2  ┆ … ┆ is_rare_combination ┆ reason ┆ jumps_map   ┆ unijump │\n",
       "│ ---        ┆ ---          ┆ --- ┆ --- ┆   ┆ ---                 ┆ ---    ┆ ---         ┆ ---     │\n",
       "│ str        ┆ array[u8, 5] ┆ u8  ┆ u8  ┆   ┆ bool                ┆ u8     ┆ str         ┆ i64     │\n",
       "╞════════════╪══════════════╪═════╪═════╪═══╪═════════════════════╪════════╪═════════════╪═════════╡\n",
       "│ 0102030405 ┆ [1, 2, … 5]  ┆ 1   ┆ 2   ┆ … ┆ true                ┆ 8      ┆ 01_01_01_01 ┆ 0       │\n",
       "│ 0102030406 ┆ [1, 2, … 6]  ┆ 1   ┆ 2   ┆ … ┆ true                ┆ 8      ┆ 01_01_01_02 ┆ 1       │\n",
       "│ 0102030407 ┆ [1, 2, … 7]  ┆ 1   ┆ 2   ┆ … ┆ true                ┆ 8      ┆ 01_01_01_03 ┆ 2       │\n",
       "│ 0102030408 ┆ [1, 2, … 8]  ┆ 1   ┆ 2   ┆ … ┆ true                ┆ 8      ┆ 01_01_01_04 ┆ 3       │\n",
       "│ 0102030409 ┆ [1, 2, … 9]  ┆ 1   ┆ 2   ┆ … ┆ true                ┆ 8      ┆ 01_01_01_05 ┆ 4       │\n",
       "│ 0102030410 ┆ [1, 2, … 10] ┆ 1   ┆ 2   ┆ … ┆ true                ┆ 8      ┆ 01_01_01_06 ┆ 5       │\n",
       "│ 0102030411 ┆ [1, 2, … 11] ┆ 1   ┆ 2   ┆ … ┆ true                ┆ 8      ┆ 01_01_01_07 ┆ 6       │\n",
       "│ 0102030412 ┆ [1, 2, … 12] ┆ 1   ┆ 2   ┆ … ┆ true                ┆ 8      ┆ 01_01_01_08 ┆ 7       │\n",
       "│ 0102030413 ┆ [1, 2, … 13] ┆ 1   ┆ 2   ┆ … ┆ true                ┆ 8      ┆ 01_01_01_09 ┆ 8       │\n",
       "│ 0102030414 ┆ [1, 2, … 14] ┆ 1   ┆ 2   ┆ … ┆ true                ┆ 8      ┆ 01_01_01_10 ┆ 9       │\n",
       "└────────────┴──────────────┴─────┴─────┴───┴─────────────────────┴────────┴─────────────┴─────────┘"
      ]
     },
     "metadata": {},
     "output_type": "display_data"
    }
   ],
   "source": [
    "lst = []\n",
    "post_str_b1 = None\n",
    "post_str_blast = None\n",
    "for row in combos:\n",
    "  cols = []\n",
    "  str_row = \" \".join([str(r).zfill(2) for r in row])\n",
    "  id, bolillas_int, str_combo = formalize_data_with_str(bolillas_str=str_row)\n",
    "  cols.append(id)\n",
    "  cols.append(bolillas_int)\n",
    "  cols.extend([b for b in bolillas_int])\n",
    "  cols.extend(str_combo)\n",
    "  cols.append(post_str_b1)\n",
    "  cols.append(post_str_blast)\n",
    "\n",
    "  is_rare, reason = rr.is_rare_combination(bolillas_int, id)\n",
    "  cols.append(is_rare)\n",
    "  cols.append(reason)\n",
    "\n",
    "  cols.append(rr.jumps_map(bolillas_int))\n",
    "  cols.append(rr.unijump(bolillas_int))\n",
    "  \n",
    "  lst.append(cols)\n",
    "\n",
    "  post_str_b1 = str_combo[0]\n",
    "  post_str_blast = str_combo[-1]\n",
    "\n",
    "with open('./gn_cahe_v3.json', 'w') as file: \n",
    "  json.dump(lst, file)\n",
    "\n",
    "df_Orows = pl.DataFrame(\n",
    "  lst,\n",
    "  schema=[\n",
    "    # 'fecha', 'sorteo', 'bolillas',\n",
    "    'id', 'combo', 'b1', 'b2', 'b3', 'b4', 'b5',\n",
    "    'str_b1', 'str_b2', 'str_b3', 'str_b4', 'str_b5',\n",
    "    'post_str_b1', 'post_str_blast',\n",
    "    'is_rare_combination', 'reason',\n",
    "    \"jumps_map\", \"unijump\"\n",
    "  ],\n",
    "  schema_overrides={\n",
    "    'combo': pl.Array(pl.UInt8, 5),\n",
    "    'b1': pl.UInt8,\n",
    "    'b2': pl.UInt8,\n",
    "    'b3': pl.UInt8,\n",
    "    'b4': pl.UInt8,\n",
    "    'b5': pl.UInt8,\n",
    "    'b6': pl.UInt8,\n",
    "    'reason': pl.UInt8\n",
    "  },\n",
    "  orient='row'\n",
    ")\n",
    "\n",
    "TOTAL_LINES = len(df_Orows)\n",
    "print(f'{TOTAL_LINES=}')\n",
    "display(df_Orows.head(10))\n"
   ]
  },
  {
   "cell_type": "code",
   "execution_count": 14,
   "metadata": {},
   "outputs": [
    {
     "data": {
      "text/html": [
       "<div><style>\n",
       ".dataframe > thead > tr,\n",
       ".dataframe > tbody > tr {\n",
       "  text-align: right;\n",
       "  white-space: pre-wrap;\n",
       "}\n",
       "</style>\n",
       "<small>shape: (49_136, 18)</small><table border=\"1\" class=\"dataframe\"><thead><tr><th>id</th><th>combo</th><th>b1</th><th>b2</th><th>b3</th><th>b4</th><th>b5</th><th>str_b1</th><th>str_b2</th><th>str_b3</th><th>str_b4</th><th>str_b5</th><th>post_str_b1</th><th>post_str_blast</th><th>is_rare_combination</th><th>reason</th><th>jumps_map</th><th>unijump</th></tr><tr><td>str</td><td>array[u8, 5]</td><td>u8</td><td>u8</td><td>u8</td><td>u8</td><td>u8</td><td>str</td><td>str</td><td>str</td><td>str</td><td>str</td><td>str</td><td>str</td><td>bool</td><td>u8</td><td>str</td><td>i64</td></tr></thead><tbody><tr><td>&quot;0105111932&quot;</td><td>[1, 5, … 32]</td><td>1</td><td>5</td><td>11</td><td>19</td><td>32</td><td>&quot;01&quot;</td><td>&quot;05&quot;</td><td>&quot;11&quot;</td><td>&quot;19&quot;</td><td>&quot;32&quot;</td><td>&quot;01&quot;</td><td>&quot;31&quot;</td><td>false</td><td>0</td><td>&quot;04_06_08_13&quot;</td><td>3</td></tr><tr><td>&quot;0105112030&quot;</td><td>[1, 5, … 30]</td><td>1</td><td>5</td><td>11</td><td>20</td><td>30</td><td>&quot;01&quot;</td><td>&quot;05&quot;</td><td>&quot;11&quot;</td><td>&quot;20&quot;</td><td>&quot;30&quot;</td><td>&quot;01&quot;</td><td>&quot;29&quot;</td><td>false</td><td>0</td><td>&quot;04_06_09_10&quot;</td><td>-3</td></tr><tr><td>&quot;0105112031&quot;</td><td>[1, 5, … 31]</td><td>1</td><td>5</td><td>11</td><td>20</td><td>31</td><td>&quot;01&quot;</td><td>&quot;05&quot;</td><td>&quot;11&quot;</td><td>&quot;20&quot;</td><td>&quot;31&quot;</td><td>&quot;01&quot;</td><td>&quot;30&quot;</td><td>false</td><td>0</td><td>&quot;04_06_09_11&quot;</td><td>-2</td></tr><tr><td>&quot;0105112032&quot;</td><td>[1, 5, … 32]</td><td>1</td><td>5</td><td>11</td><td>20</td><td>32</td><td>&quot;01&quot;</td><td>&quot;05&quot;</td><td>&quot;11&quot;</td><td>&quot;20&quot;</td><td>&quot;32&quot;</td><td>&quot;01&quot;</td><td>&quot;31&quot;</td><td>false</td><td>0</td><td>&quot;04_06_09_12&quot;</td><td>-1</td></tr><tr><td>&quot;0105112033&quot;</td><td>[1, 5, … 33]</td><td>1</td><td>5</td><td>11</td><td>20</td><td>33</td><td>&quot;01&quot;</td><td>&quot;05&quot;</td><td>&quot;11&quot;</td><td>&quot;20&quot;</td><td>&quot;33&quot;</td><td>&quot;01&quot;</td><td>&quot;32&quot;</td><td>false</td><td>0</td><td>&quot;04_06_09_13&quot;</td><td>0</td></tr><tr><td>&hellip;</td><td>&hellip;</td><td>&hellip;</td><td>&hellip;</td><td>&hellip;</td><td>&hellip;</td><td>&hellip;</td><td>&hellip;</td><td>&hellip;</td><td>&hellip;</td><td>&hellip;</td><td>&hellip;</td><td>&hellip;</td><td>&hellip;</td><td>&hellip;</td><td>&hellip;</td><td>&hellip;</td><td>&hellip;</td></tr><tr><td>&quot;0818243132&quot;</td><td>[8, 18, … 32]</td><td>8</td><td>18</td><td>24</td><td>31</td><td>32</td><td>&quot;08&quot;</td><td>&quot;18&quot;</td><td>&quot;24&quot;</td><td>&quot;31&quot;</td><td>&quot;32&quot;</td><td>&quot;08&quot;</td><td>&quot;35&quot;</td><td>false</td><td>0</td><td>&quot;10_06_07_01&quot;</td><td>-12</td></tr><tr><td>&quot;0818243133&quot;</td><td>[8, 18, … 33]</td><td>8</td><td>18</td><td>24</td><td>31</td><td>33</td><td>&quot;08&quot;</td><td>&quot;18&quot;</td><td>&quot;24&quot;</td><td>&quot;31&quot;</td><td>&quot;33&quot;</td><td>&quot;08&quot;</td><td>&quot;32&quot;</td><td>false</td><td>0</td><td>&quot;10_06_07_02&quot;</td><td>-11</td></tr><tr><td>&quot;0818243134&quot;</td><td>[8, 18, … 34]</td><td>8</td><td>18</td><td>24</td><td>31</td><td>34</td><td>&quot;08&quot;</td><td>&quot;18&quot;</td><td>&quot;24&quot;</td><td>&quot;31&quot;</td><td>&quot;34&quot;</td><td>&quot;08&quot;</td><td>&quot;33&quot;</td><td>false</td><td>0</td><td>&quot;10_06_07_03&quot;</td><td>-10</td></tr><tr><td>&quot;0818243135&quot;</td><td>[8, 18, … 35]</td><td>8</td><td>18</td><td>24</td><td>31</td><td>35</td><td>&quot;08&quot;</td><td>&quot;18&quot;</td><td>&quot;24&quot;</td><td>&quot;31&quot;</td><td>&quot;35&quot;</td><td>&quot;08&quot;</td><td>&quot;34&quot;</td><td>false</td><td>0</td><td>&quot;10_06_07_04&quot;</td><td>-9</td></tr><tr><td>&quot;0818243235&quot;</td><td>[8, 18, … 35]</td><td>8</td><td>18</td><td>24</td><td>32</td><td>35</td><td>&quot;08&quot;</td><td>&quot;18&quot;</td><td>&quot;24&quot;</td><td>&quot;32&quot;</td><td>&quot;35&quot;</td><td>&quot;08&quot;</td><td>&quot;34&quot;</td><td>false</td><td>0</td><td>&quot;10_06_08_03&quot;</td><td>-13</td></tr></tbody></table></div>"
      ],
      "text/plain": [
       "shape: (49_136, 18)\n",
       "┌────────────┬───────────────┬─────┬─────┬───┬────────────────────┬────────┬─────────────┬─────────┐\n",
       "│ id         ┆ combo         ┆ b1  ┆ b2  ┆ … ┆ is_rare_combinatio ┆ reason ┆ jumps_map   ┆ unijump │\n",
       "│ ---        ┆ ---           ┆ --- ┆ --- ┆   ┆ n                  ┆ ---    ┆ ---         ┆ ---     │\n",
       "│ str        ┆ array[u8, 5]  ┆ u8  ┆ u8  ┆   ┆ ---                ┆ u8     ┆ str         ┆ i64     │\n",
       "│            ┆               ┆     ┆     ┆   ┆ bool               ┆        ┆             ┆         │\n",
       "╞════════════╪═══════════════╪═════╪═════╪═══╪════════════════════╪════════╪═════════════╪═════════╡\n",
       "│ 0105111932 ┆ [1, 5, … 32]  ┆ 1   ┆ 5   ┆ … ┆ false              ┆ 0      ┆ 04_06_08_13 ┆ 3       │\n",
       "│ 0105112030 ┆ [1, 5, … 30]  ┆ 1   ┆ 5   ┆ … ┆ false              ┆ 0      ┆ 04_06_09_10 ┆ -3      │\n",
       "│ 0105112031 ┆ [1, 5, … 31]  ┆ 1   ┆ 5   ┆ … ┆ false              ┆ 0      ┆ 04_06_09_11 ┆ -2      │\n",
       "│ 0105112032 ┆ [1, 5, … 32]  ┆ 1   ┆ 5   ┆ … ┆ false              ┆ 0      ┆ 04_06_09_12 ┆ -1      │\n",
       "│ 0105112033 ┆ [1, 5, … 33]  ┆ 1   ┆ 5   ┆ … ┆ false              ┆ 0      ┆ 04_06_09_13 ┆ 0       │\n",
       "│ …          ┆ …             ┆ …   ┆ …   ┆ … ┆ …                  ┆ …      ┆ …           ┆ …       │\n",
       "│ 0818243132 ┆ [8, 18, … 32] ┆ 8   ┆ 18  ┆ … ┆ false              ┆ 0      ┆ 10_06_07_01 ┆ -12     │\n",
       "│ 0818243133 ┆ [8, 18, … 33] ┆ 8   ┆ 18  ┆ … ┆ false              ┆ 0      ┆ 10_06_07_02 ┆ -11     │\n",
       "│ 0818243134 ┆ [8, 18, … 34] ┆ 8   ┆ 18  ┆ … ┆ false              ┆ 0      ┆ 10_06_07_03 ┆ -10     │\n",
       "│ 0818243135 ┆ [8, 18, … 35] ┆ 8   ┆ 18  ┆ … ┆ false              ┆ 0      ┆ 10_06_07_04 ┆ -9      │\n",
       "│ 0818243235 ┆ [8, 18, … 35] ┆ 8   ┆ 18  ┆ … ┆ false              ┆ 0      ┆ 10_06_08_03 ┆ -13     │\n",
       "└────────────┴───────────────┴─────┴─────┴───┴────────────────────┴────────┴─────────────┴─────────┘"
      ]
     },
     "metadata": {},
     "output_type": "display_data"
    }
   ],
   "source": [
    "# possible_b1, exclude_jump_maps_b1\n",
    "\n",
    "df_possible = df_Orows.filter(\n",
    "  pl.col(\"str_b1\").is_in(possible_b1),\n",
    "  pl.col(\"str_b2\").is_in(possible_b2),\n",
    "  pl.col(\"str_b3\").is_in(possible_b3),\n",
    "  pl.col(\"str_b4\").is_in(possible_b4),\n",
    "  # ~pl.col(\"str_b1\").is_in(['18', '19', '20', '21', '22', '23', '24', '26']),\n",
    "  ~pl.col(\"jumps_map\").is_in(exclude_jump_maps_b1 + exclude_jump_maps_b2 + exclude_jump_maps_b3 + exclude_jump_maps_b4 + exclude_jump_maps_blast),\n",
    "  pl.col(\"str_b5\").is_in(possible_blast),\n",
    "  pl.col(\"is_rare_combination\") == False\n",
    ")\n",
    "\n",
    "display(df_possible)"
   ]
  },
  {
   "cell_type": "code",
   "execution_count": 15,
   "metadata": {},
   "outputs": [
    {
     "data": {
      "text/html": [
       "<div><style>\n",
       ".dataframe > thead > tr,\n",
       ".dataframe > tbody > tr {\n",
       "  text-align: right;\n",
       "  white-space: pre-wrap;\n",
       "}\n",
       "</style>\n",
       "<small>shape: (1, 18)</small><table border=\"1\" class=\"dataframe\"><thead><tr><th>id</th><th>combo</th><th>b1</th><th>b2</th><th>b3</th><th>b4</th><th>b5</th><th>str_b1</th><th>str_b2</th><th>str_b3</th><th>str_b4</th><th>str_b5</th><th>post_str_b1</th><th>post_str_blast</th><th>is_rare_combination</th><th>reason</th><th>jumps_map</th><th>unijump</th></tr><tr><td>str</td><td>array[u8, 5]</td><td>u8</td><td>u8</td><td>u8</td><td>u8</td><td>u8</td><td>str</td><td>str</td><td>str</td><td>str</td><td>str</td><td>str</td><td>str</td><td>bool</td><td>u8</td><td>str</td><td>i64</td></tr></thead><tbody><tr><td>&quot;0218202433&quot;</td><td>[2, 18, … 33]</td><td>2</td><td>18</td><td>20</td><td>24</td><td>33</td><td>&quot;02&quot;</td><td>&quot;18&quot;</td><td>&quot;20&quot;</td><td>&quot;24&quot;</td><td>&quot;33&quot;</td><td>&quot;02&quot;</td><td>&quot;32&quot;</td><td>false</td><td>0</td><td>&quot;16_02_04_09&quot;</td><td>-13</td></tr></tbody></table></div>"
      ],
      "text/plain": [
       "shape: (1, 18)\n",
       "┌────────────┬───────────────┬─────┬─────┬───┬────────────────────┬────────┬─────────────┬─────────┐\n",
       "│ id         ┆ combo         ┆ b1  ┆ b2  ┆ … ┆ is_rare_combinatio ┆ reason ┆ jumps_map   ┆ unijump │\n",
       "│ ---        ┆ ---           ┆ --- ┆ --- ┆   ┆ n                  ┆ ---    ┆ ---         ┆ ---     │\n",
       "│ str        ┆ array[u8, 5]  ┆ u8  ┆ u8  ┆   ┆ ---                ┆ u8     ┆ str         ┆ i64     │\n",
       "│            ┆               ┆     ┆     ┆   ┆ bool               ┆        ┆             ┆         │\n",
       "╞════════════╪═══════════════╪═════╪═════╪═══╪════════════════════╪════════╪═════════════╪═════════╡\n",
       "│ 0218202433 ┆ [2, 18, … 33] ┆ 2   ┆ 18  ┆ … ┆ false              ┆ 0      ┆ 16_02_04_09 ┆ -13     │\n",
       "└────────────┴───────────────┴─────┴─────┴───┴────────────────────┴────────┴─────────────┴─────────┘"
      ]
     },
     "execution_count": 15,
     "metadata": {},
     "output_type": "execute_result"
    }
   ],
   "source": [
    "df_possible.sample(n=1)"
   ]
  }
 ],
 "metadata": {
  "kernelspec": {
   "display_name": ".venv",
   "language": "python",
   "name": "python3"
  },
  "language_info": {
   "codemirror_mode": {
    "name": "ipython",
    "version": 3
   },
   "file_extension": ".py",
   "mimetype": "text/x-python",
   "name": "python",
   "nbconvert_exporter": "python",
   "pygments_lexer": "ipython3",
   "version": "3.12.9"
  }
 },
 "nbformat": 4,
 "nbformat_minor": 2
}

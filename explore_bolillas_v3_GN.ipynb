{
 "cells": [
  {
   "cell_type": "code",
   "execution_count": 2,
   "metadata": {},
   "outputs": [
    {
     "data": {
      "text/html": [
       "<script type=\"esms-options\">{\"shimMode\": true}</script><style>*[data-root-id],\n",
       "*[data-root-id] > * {\n",
       "  box-sizing: border-box;\n",
       "  font-family: var(--jp-ui-font-family);\n",
       "  font-size: var(--jp-ui-font-size1);\n",
       "  color: var(--vscode-editor-foreground, var(--jp-ui-font-color1));\n",
       "}\n",
       "\n",
       "/* Override VSCode background color */\n",
       ".cell-output-ipywidget-background:has(\n",
       "    > .cell-output-ipywidget-background > .lm-Widget > *[data-root-id]\n",
       "  ),\n",
       ".cell-output-ipywidget-background:has(> .lm-Widget > *[data-root-id]) {\n",
       "  background-color: transparent !important;\n",
       "}\n",
       "</style>"
      ]
     },
     "metadata": {},
     "output_type": "display_data"
    },
    {
     "data": {
      "application/javascript": "(function(root) {\n  function now() {\n    return new Date();\n  }\n\n  const force = true;\n  const py_version = '3.7.2'.replace('rc', '-rc.').replace('.dev', '-dev.');\n  const reloading = false;\n  const Bokeh = root.Bokeh;\n\n  // Set a timeout for this load but only if we are not already initializing\n  if (typeof (root._bokeh_timeout) === \"undefined\" || (force || !root._bokeh_is_initializing)) {\n    root._bokeh_timeout = Date.now() + 5000;\n    root._bokeh_failed_load = false;\n  }\n\n  function run_callbacks() {\n    try {\n      root._bokeh_onload_callbacks.forEach(function(callback) {\n        if (callback != null)\n          callback();\n      });\n    } finally {\n      delete root._bokeh_onload_callbacks;\n    }\n    console.debug(\"Bokeh: all callbacks have finished\");\n  }\n\n  function load_libs(css_urls, js_urls, js_modules, js_exports, callback) {\n    if (css_urls == null) css_urls = [];\n    if (js_urls == null) js_urls = [];\n    if (js_modules == null) js_modules = [];\n    if (js_exports == null) js_exports = {};\n\n    root._bokeh_onload_callbacks.push(callback);\n\n    if (root._bokeh_is_loading > 0) {\n      // Don't load bokeh if it is still initializing\n      console.debug(\"Bokeh: BokehJS is being loaded, scheduling callback at\", now());\n      return null;\n    } else if (js_urls.length === 0 && js_modules.length === 0 && Object.keys(js_exports).length === 0) {\n      // There is nothing to load\n      run_callbacks();\n      return null;\n    }\n\n    function on_load() {\n      root._bokeh_is_loading--;\n      if (root._bokeh_is_loading === 0) {\n        console.debug(\"Bokeh: all BokehJS libraries/stylesheets loaded\");\n        run_callbacks()\n      }\n    }\n    window._bokeh_on_load = on_load\n\n    function on_error(e) {\n      const src_el = e.srcElement\n      console.error(\"failed to load \" + (src_el.href || src_el.src));\n    }\n\n    const skip = [];\n    if (window.requirejs) {\n      window.requirejs.config({'packages': {}, 'paths': {}, 'shim': {}});\n      root._bokeh_is_loading = css_urls.length + 0;\n    } else {\n      root._bokeh_is_loading = css_urls.length + js_urls.length + js_modules.length + Object.keys(js_exports).length;\n    }\n\n    const existing_stylesheets = []\n    const links = document.getElementsByTagName('link')\n    for (let i = 0; i < links.length; i++) {\n      const link = links[i]\n      if (link.href != null) {\n        existing_stylesheets.push(link.href)\n      }\n    }\n    for (let i = 0; i < css_urls.length; i++) {\n      const url = css_urls[i];\n      const escaped = encodeURI(url)\n      if (existing_stylesheets.indexOf(escaped) !== -1) {\n        on_load()\n        continue;\n      }\n      const element = document.createElement(\"link\");\n      element.onload = on_load;\n      element.onerror = on_error;\n      element.rel = \"stylesheet\";\n      element.type = \"text/css\";\n      element.href = url;\n      console.debug(\"Bokeh: injecting link tag for BokehJS stylesheet: \", url);\n      document.body.appendChild(element);\n    }    var existing_scripts = []\n    const scripts = document.getElementsByTagName('script')\n    for (let i = 0; i < scripts.length; i++) {\n      var script = scripts[i]\n      if (script.src != null) {\n        existing_scripts.push(script.src)\n      }\n    }\n    for (let i = 0; i < js_urls.length; i++) {\n      const url = js_urls[i];\n      const escaped = encodeURI(url)\n      if (skip.indexOf(escaped) !== -1 || existing_scripts.indexOf(escaped) !== -1) {\n        if (!window.requirejs) {\n          on_load();\n        }\n        continue;\n      }\n      const element = document.createElement('script');\n      element.onload = on_load;\n      element.onerror = on_error;\n      element.async = false;\n      element.src = url;\n      console.debug(\"Bokeh: injecting script tag for BokehJS library: \", url);\n      document.head.appendChild(element);\n    }\n    for (let i = 0; i < js_modules.length; i++) {\n      const url = js_modules[i];\n      const escaped = encodeURI(url)\n      if (skip.indexOf(escaped) !== -1 || existing_scripts.indexOf(escaped) !== -1) {\n        if (!window.requirejs) {\n          on_load();\n        }\n        continue;\n      }\n      var element = document.createElement('script');\n      element.onload = on_load;\n      element.onerror = on_error;\n      element.async = false;\n      element.src = url;\n      element.type = \"module\";\n      console.debug(\"Bokeh: injecting script tag for BokehJS library: \", url);\n      document.head.appendChild(element);\n    }\n    for (const name in js_exports) {\n      const url = js_exports[name];\n      const escaped = encodeURI(url)\n      if (skip.indexOf(escaped) >= 0 || root[name] != null) {\n        if (!window.requirejs) {\n          on_load();\n        }\n        continue;\n      }\n      var element = document.createElement('script');\n      element.onerror = on_error;\n      element.async = false;\n      element.type = \"module\";\n      console.debug(\"Bokeh: injecting script tag for BokehJS library: \", url);\n      element.textContent = `\n      import ${name} from \"${url}\"\n      window.${name} = ${name}\n      window._bokeh_on_load()\n      `\n      document.head.appendChild(element);\n    }\n    if (!js_urls.length && !js_modules.length) {\n      on_load()\n    }\n  };\n\n  function inject_raw_css(css) {\n    const element = document.createElement(\"style\");\n    element.appendChild(document.createTextNode(css));\n    document.body.appendChild(element);\n  }\n\n  const js_urls = [\"https://cdn.holoviz.org/panel/1.6.2/dist/bundled/reactiveesm/es-module-shims@^1.10.0/dist/es-module-shims.min.js\", \"https://cdn.bokeh.org/bokeh/release/bokeh-3.7.2.min.js\", \"https://cdn.bokeh.org/bokeh/release/bokeh-gl-3.7.2.min.js\", \"https://cdn.bokeh.org/bokeh/release/bokeh-widgets-3.7.2.min.js\", \"https://cdn.bokeh.org/bokeh/release/bokeh-tables-3.7.2.min.js\", \"https://cdn.holoviz.org/panel/1.6.2/dist/panel.min.js\"];\n  const js_modules = [];\n  const js_exports = {};\n  const css_urls = [];\n  const inline_js = [    function(Bokeh) {\n      Bokeh.set_log_level(\"info\");\n    },\nfunction(Bokeh) {} // ensure no trailing comma for IE\n  ];\n\n  function run_inline_js() {\n    if ((root.Bokeh !== undefined) || (force === true)) {\n      for (let i = 0; i < inline_js.length; i++) {\n        try {\n          inline_js[i].call(root, root.Bokeh);\n        } catch(e) {\n          if (!reloading) {\n            throw e;\n          }\n        }\n      }\n      // Cache old bokeh versions\n      if (Bokeh != undefined && !reloading) {\n        var NewBokeh = root.Bokeh;\n        if (Bokeh.versions === undefined) {\n          Bokeh.versions = new Map();\n        }\n        if (NewBokeh.version !== Bokeh.version) {\n          Bokeh.versions.set(NewBokeh.version, NewBokeh)\n        }\n        root.Bokeh = Bokeh;\n      }\n    } else if (Date.now() < root._bokeh_timeout) {\n      setTimeout(run_inline_js, 100);\n    } else if (!root._bokeh_failed_load) {\n      console.log(\"Bokeh: BokehJS failed to load within specified timeout.\");\n      root._bokeh_failed_load = true;\n    }\n    root._bokeh_is_initializing = false\n  }\n\n  function load_or_wait() {\n    // Implement a backoff loop that tries to ensure we do not load multiple\n    // versions of Bokeh and its dependencies at the same time.\n    // In recent versions we use the root._bokeh_is_initializing flag\n    // to determine whether there is an ongoing attempt to initialize\n    // bokeh, however for backward compatibility we also try to ensure\n    // that we do not start loading a newer (Panel>=1.0 and Bokeh>3) version\n    // before older versions are fully initialized.\n    if (root._bokeh_is_initializing && Date.now() > root._bokeh_timeout) {\n      // If the timeout and bokeh was not successfully loaded we reset\n      // everything and try loading again\n      root._bokeh_timeout = Date.now() + 5000;\n      root._bokeh_is_initializing = false;\n      root._bokeh_onload_callbacks = undefined;\n      root._bokeh_is_loading = 0\n      console.log(\"Bokeh: BokehJS was loaded multiple times but one version failed to initialize.\");\n      load_or_wait();\n    } else if (root._bokeh_is_initializing || (typeof root._bokeh_is_initializing === \"undefined\" && root._bokeh_onload_callbacks !== undefined)) {\n      setTimeout(load_or_wait, 100);\n    } else {\n      root._bokeh_is_initializing = true\n      root._bokeh_onload_callbacks = []\n      const bokeh_loaded = root.Bokeh != null && (root.Bokeh.version === py_version || (root.Bokeh.versions !== undefined && root.Bokeh.versions.has(py_version)));\n      if (!reloading && !bokeh_loaded) {\n        if (root.Bokeh) {\n          root.Bokeh = undefined;\n        }\n        console.debug(\"Bokeh: BokehJS not loaded, scheduling load and callback at\", now());\n      }\n      load_libs(css_urls, js_urls, js_modules, js_exports, function() {\n        console.debug(\"Bokeh: BokehJS plotting callback run at\", now());\n        run_inline_js();\n      });\n    }\n  }\n  // Give older versions of the autoload script a head-start to ensure\n  // they initialize before we start loading newer version.\n  setTimeout(load_or_wait, 100)\n}(window));",
      "application/vnd.holoviews_load.v0+json": ""
     },
     "metadata": {},
     "output_type": "display_data"
    },
    {
     "data": {
      "application/javascript": "\nif ((window.PyViz === undefined) || (window.PyViz instanceof HTMLElement)) {\n  window.PyViz = {comms: {}, comm_status:{}, kernels:{}, receivers: {}, plot_index: []}\n}\n\n\n    function JupyterCommManager() {\n    }\n\n    JupyterCommManager.prototype.register_target = function(plot_id, comm_id, msg_handler) {\n      if (window.comm_manager || ((window.Jupyter !== undefined) && (Jupyter.notebook.kernel != null))) {\n        var comm_manager = window.comm_manager || Jupyter.notebook.kernel.comm_manager;\n        comm_manager.register_target(comm_id, function(comm) {\n          comm.on_msg(msg_handler);\n        });\n      } else if ((plot_id in window.PyViz.kernels) && (window.PyViz.kernels[plot_id])) {\n        window.PyViz.kernels[plot_id].registerCommTarget(comm_id, function(comm) {\n          comm.onMsg = msg_handler;\n        });\n      } else if (typeof google != 'undefined' && google.colab.kernel != null) {\n        google.colab.kernel.comms.registerTarget(comm_id, (comm) => {\n          var messages = comm.messages[Symbol.asyncIterator]();\n          function processIteratorResult(result) {\n            var message = result.value;\n            console.log(message)\n            var content = {data: message.data, comm_id};\n            var buffers = []\n            for (var buffer of message.buffers || []) {\n              buffers.push(new DataView(buffer))\n            }\n            var metadata = message.metadata || {};\n            var msg = {content, buffers, metadata}\n            msg_handler(msg);\n            return messages.next().then(processIteratorResult);\n          }\n          return messages.next().then(processIteratorResult);\n        })\n      }\n    }\n\n    JupyterCommManager.prototype.get_client_comm = function(plot_id, comm_id, msg_handler) {\n      if (comm_id in window.PyViz.comms) {\n        return window.PyViz.comms[comm_id];\n      } else if (window.comm_manager || ((window.Jupyter !== undefined) && (Jupyter.notebook.kernel != null))) {\n        var comm_manager = window.comm_manager || Jupyter.notebook.kernel.comm_manager;\n        var comm = comm_manager.new_comm(comm_id, {}, {}, {}, comm_id);\n        if (msg_handler) {\n          comm.on_msg(msg_handler);\n        }\n      } else if ((plot_id in window.PyViz.kernels) && (window.PyViz.kernels[plot_id])) {\n        var comm = window.PyViz.kernels[plot_id].connectToComm(comm_id);\n        comm.open();\n        if (msg_handler) {\n          comm.onMsg = msg_handler;\n        }\n      } else if (typeof google != 'undefined' && google.colab.kernel != null) {\n        var comm_promise = google.colab.kernel.comms.open(comm_id)\n        comm_promise.then((comm) => {\n          window.PyViz.comms[comm_id] = comm;\n          if (msg_handler) {\n            var messages = comm.messages[Symbol.asyncIterator]();\n            function processIteratorResult(result) {\n              var message = result.value;\n              var content = {data: message.data};\n              var metadata = message.metadata || {comm_id};\n              var msg = {content, metadata}\n              msg_handler(msg);\n              return messages.next().then(processIteratorResult);\n            }\n            return messages.next().then(processIteratorResult);\n          }\n        })\n        var sendClosure = (data, metadata, buffers, disposeOnDone) => {\n          return comm_promise.then((comm) => {\n            comm.send(data, metadata, buffers, disposeOnDone);\n          });\n        };\n        var comm = {\n          send: sendClosure\n        };\n      }\n      window.PyViz.comms[comm_id] = comm;\n      return comm;\n    }\n    window.PyViz.comm_manager = new JupyterCommManager();\n    \n\n\nvar JS_MIME_TYPE = 'application/javascript';\nvar HTML_MIME_TYPE = 'text/html';\nvar EXEC_MIME_TYPE = 'application/vnd.holoviews_exec.v0+json';\nvar CLASS_NAME = 'output';\n\n/**\n * Render data to the DOM node\n */\nfunction render(props, node) {\n  var div = document.createElement(\"div\");\n  var script = document.createElement(\"script\");\n  node.appendChild(div);\n  node.appendChild(script);\n}\n\n/**\n * Handle when a new output is added\n */\nfunction handle_add_output(event, handle) {\n  var output_area = handle.output_area;\n  var output = handle.output;\n  if ((output.data == undefined) || (!output.data.hasOwnProperty(EXEC_MIME_TYPE))) {\n    return\n  }\n  var id = output.metadata[EXEC_MIME_TYPE][\"id\"];\n  var toinsert = output_area.element.find(\".\" + CLASS_NAME.split(' ')[0]);\n  if (id !== undefined) {\n    var nchildren = toinsert.length;\n    var html_node = toinsert[nchildren-1].children[0];\n    html_node.innerHTML = output.data[HTML_MIME_TYPE];\n    var scripts = [];\n    var nodelist = html_node.querySelectorAll(\"script\");\n    for (var i in nodelist) {\n      if (nodelist.hasOwnProperty(i)) {\n        scripts.push(nodelist[i])\n      }\n    }\n\n    scripts.forEach( function (oldScript) {\n      var newScript = document.createElement(\"script\");\n      var attrs = [];\n      var nodemap = oldScript.attributes;\n      for (var j in nodemap) {\n        if (nodemap.hasOwnProperty(j)) {\n          attrs.push(nodemap[j])\n        }\n      }\n      attrs.forEach(function(attr) { newScript.setAttribute(attr.name, attr.value) });\n      newScript.appendChild(document.createTextNode(oldScript.innerHTML));\n      oldScript.parentNode.replaceChild(newScript, oldScript);\n    });\n    if (JS_MIME_TYPE in output.data) {\n      toinsert[nchildren-1].children[1].textContent = output.data[JS_MIME_TYPE];\n    }\n    output_area._hv_plot_id = id;\n    if ((window.Bokeh !== undefined) && (id in Bokeh.index)) {\n      window.PyViz.plot_index[id] = Bokeh.index[id];\n    } else {\n      window.PyViz.plot_index[id] = null;\n    }\n  } else if (output.metadata[EXEC_MIME_TYPE][\"server_id\"] !== undefined) {\n    var bk_div = document.createElement(\"div\");\n    bk_div.innerHTML = output.data[HTML_MIME_TYPE];\n    var script_attrs = bk_div.children[0].attributes;\n    for (var i = 0; i < script_attrs.length; i++) {\n      toinsert[toinsert.length - 1].childNodes[1].setAttribute(script_attrs[i].name, script_attrs[i].value);\n    }\n    // store reference to server id on output_area\n    output_area._bokeh_server_id = output.metadata[EXEC_MIME_TYPE][\"server_id\"];\n  }\n}\n\n/**\n * Handle when an output is cleared or removed\n */\nfunction handle_clear_output(event, handle) {\n  var id = handle.cell.output_area._hv_plot_id;\n  var server_id = handle.cell.output_area._bokeh_server_id;\n  if (((id === undefined) || !(id in PyViz.plot_index)) && (server_id !== undefined)) { return; }\n  var comm = window.PyViz.comm_manager.get_client_comm(\"hv-extension-comm\", \"hv-extension-comm\", function () {});\n  if (server_id !== null) {\n    comm.send({event_type: 'server_delete', 'id': server_id});\n    return;\n  } else if (comm !== null) {\n    comm.send({event_type: 'delete', 'id': id});\n  }\n  delete PyViz.plot_index[id];\n  if ((window.Bokeh !== undefined) & (id in window.Bokeh.index)) {\n    var doc = window.Bokeh.index[id].model.document\n    doc.clear();\n    const i = window.Bokeh.documents.indexOf(doc);\n    if (i > -1) {\n      window.Bokeh.documents.splice(i, 1);\n    }\n  }\n}\n\n/**\n * Handle kernel restart event\n */\nfunction handle_kernel_cleanup(event, handle) {\n  delete PyViz.comms[\"hv-extension-comm\"];\n  window.PyViz.plot_index = {}\n}\n\n/**\n * Handle update_display_data messages\n */\nfunction handle_update_output(event, handle) {\n  handle_clear_output(event, {cell: {output_area: handle.output_area}})\n  handle_add_output(event, handle)\n}\n\nfunction register_renderer(events, OutputArea) {\n  function append_mime(data, metadata, element) {\n    // create a DOM node to render to\n    var toinsert = this.create_output_subarea(\n    metadata,\n    CLASS_NAME,\n    EXEC_MIME_TYPE\n    );\n    this.keyboard_manager.register_events(toinsert);\n    // Render to node\n    var props = {data: data, metadata: metadata[EXEC_MIME_TYPE]};\n    render(props, toinsert[0]);\n    element.append(toinsert);\n    return toinsert\n  }\n\n  events.on('output_added.OutputArea', handle_add_output);\n  events.on('output_updated.OutputArea', handle_update_output);\n  events.on('clear_output.CodeCell', handle_clear_output);\n  events.on('delete.Cell', handle_clear_output);\n  events.on('kernel_ready.Kernel', handle_kernel_cleanup);\n\n  OutputArea.prototype.register_mime_type(EXEC_MIME_TYPE, append_mime, {\n    safe: true,\n    index: 0\n  });\n}\n\nif (window.Jupyter !== undefined) {\n  try {\n    var events = require('base/js/events');\n    var OutputArea = require('notebook/js/outputarea').OutputArea;\n    if (OutputArea.prototype.mime_types().indexOf(EXEC_MIME_TYPE) == -1) {\n      register_renderer(events, OutputArea);\n    }\n  } catch(err) {\n  }\n}\n",
      "application/vnd.holoviews_load.v0+json": ""
     },
     "metadata": {},
     "output_type": "display_data"
    },
    {
     "data": {
      "application/vnd.holoviews_exec.v0+json": "",
      "text/html": [
       "<div id='c3882f1c-47b0-4021-847f-fe382781b3d8'>\n",
       "  <div id=\"dba98827-7a17-46df-a1ec-3c97c0fbb01e\" data-root-id=\"c3882f1c-47b0-4021-847f-fe382781b3d8\" style=\"display: contents;\"></div>\n",
       "</div>\n",
       "<script type=\"application/javascript\">(function(root) {\n",
       "  var docs_json = {\"ade16356-9944-4aa7-9bbb-9b8989450641\":{\"version\":\"3.7.2\",\"title\":\"Bokeh Application\",\"roots\":[{\"type\":\"object\",\"name\":\"panel.models.browser.BrowserInfo\",\"id\":\"c3882f1c-47b0-4021-847f-fe382781b3d8\"},{\"type\":\"object\",\"name\":\"panel.models.comm_manager.CommManager\",\"id\":\"bbc19ebe-9855-4124-83d4-c0c1e382a442\",\"attributes\":{\"plot_id\":\"c3882f1c-47b0-4021-847f-fe382781b3d8\",\"comm_id\":\"fa90911808b544b285ff7479a6756dcb\",\"client_comm_id\":\"3f3a2dda334f454da773b647ff736019\"}}],\"defs\":[{\"type\":\"model\",\"name\":\"ReactiveHTML1\"},{\"type\":\"model\",\"name\":\"FlexBox1\",\"properties\":[{\"name\":\"align_content\",\"kind\":\"Any\",\"default\":\"flex-start\"},{\"name\":\"align_items\",\"kind\":\"Any\",\"default\":\"flex-start\"},{\"name\":\"flex_direction\",\"kind\":\"Any\",\"default\":\"row\"},{\"name\":\"flex_wrap\",\"kind\":\"Any\",\"default\":\"wrap\"},{\"name\":\"gap\",\"kind\":\"Any\",\"default\":\"\"},{\"name\":\"justify_content\",\"kind\":\"Any\",\"default\":\"flex-start\"}]},{\"type\":\"model\",\"name\":\"FloatPanel1\",\"properties\":[{\"name\":\"config\",\"kind\":\"Any\",\"default\":{\"type\":\"map\"}},{\"name\":\"contained\",\"kind\":\"Any\",\"default\":true},{\"name\":\"position\",\"kind\":\"Any\",\"default\":\"right-top\"},{\"name\":\"offsetx\",\"kind\":\"Any\",\"default\":null},{\"name\":\"offsety\",\"kind\":\"Any\",\"default\":null},{\"name\":\"theme\",\"kind\":\"Any\",\"default\":\"primary\"},{\"name\":\"status\",\"kind\":\"Any\",\"default\":\"normalized\"}]},{\"type\":\"model\",\"name\":\"GridStack1\",\"properties\":[{\"name\":\"ncols\",\"kind\":\"Any\",\"default\":null},{\"name\":\"nrows\",\"kind\":\"Any\",\"default\":null},{\"name\":\"allow_resize\",\"kind\":\"Any\",\"default\":true},{\"name\":\"allow_drag\",\"kind\":\"Any\",\"default\":true},{\"name\":\"state\",\"kind\":\"Any\",\"default\":[]}]},{\"type\":\"model\",\"name\":\"drag1\",\"properties\":[{\"name\":\"slider_width\",\"kind\":\"Any\",\"default\":5},{\"name\":\"slider_color\",\"kind\":\"Any\",\"default\":\"black\"},{\"name\":\"value\",\"kind\":\"Any\",\"default\":50}]},{\"type\":\"model\",\"name\":\"click1\",\"properties\":[{\"name\":\"terminal_output\",\"kind\":\"Any\",\"default\":\"\"},{\"name\":\"debug_name\",\"kind\":\"Any\",\"default\":\"\"},{\"name\":\"clears\",\"kind\":\"Any\",\"default\":0}]},{\"type\":\"model\",\"name\":\"FastWrapper1\",\"properties\":[{\"name\":\"object\",\"kind\":\"Any\",\"default\":null},{\"name\":\"style\",\"kind\":\"Any\",\"default\":null}]},{\"type\":\"model\",\"name\":\"NotificationArea1\",\"properties\":[{\"name\":\"js_events\",\"kind\":\"Any\",\"default\":{\"type\":\"map\"}},{\"name\":\"max_notifications\",\"kind\":\"Any\",\"default\":5},{\"name\":\"notifications\",\"kind\":\"Any\",\"default\":[]},{\"name\":\"position\",\"kind\":\"Any\",\"default\":\"bottom-right\"},{\"name\":\"_clear\",\"kind\":\"Any\",\"default\":0},{\"name\":\"types\",\"kind\":\"Any\",\"default\":[{\"type\":\"map\",\"entries\":[[\"type\",\"warning\"],[\"background\",\"#ffc107\"],[\"icon\",{\"type\":\"map\",\"entries\":[[\"className\",\"fas fa-exclamation-triangle\"],[\"tagName\",\"i\"],[\"color\",\"white\"]]}]]},{\"type\":\"map\",\"entries\":[[\"type\",\"info\"],[\"background\",\"#007bff\"],[\"icon\",{\"type\":\"map\",\"entries\":[[\"className\",\"fas fa-info-circle\"],[\"tagName\",\"i\"],[\"color\",\"white\"]]}]]}]}]},{\"type\":\"model\",\"name\":\"Notification\",\"properties\":[{\"name\":\"background\",\"kind\":\"Any\",\"default\":null},{\"name\":\"duration\",\"kind\":\"Any\",\"default\":3000},{\"name\":\"icon\",\"kind\":\"Any\",\"default\":null},{\"name\":\"message\",\"kind\":\"Any\",\"default\":\"\"},{\"name\":\"notification_type\",\"kind\":\"Any\",\"default\":null},{\"name\":\"_rendered\",\"kind\":\"Any\",\"default\":false},{\"name\":\"_destroyed\",\"kind\":\"Any\",\"default\":false}]},{\"type\":\"model\",\"name\":\"TemplateActions1\",\"properties\":[{\"name\":\"open_modal\",\"kind\":\"Any\",\"default\":0},{\"name\":\"close_modal\",\"kind\":\"Any\",\"default\":0}]},{\"type\":\"model\",\"name\":\"BootstrapTemplateActions1\",\"properties\":[{\"name\":\"open_modal\",\"kind\":\"Any\",\"default\":0},{\"name\":\"close_modal\",\"kind\":\"Any\",\"default\":0}]},{\"type\":\"model\",\"name\":\"TemplateEditor1\",\"properties\":[{\"name\":\"layout\",\"kind\":\"Any\",\"default\":[]}]},{\"type\":\"model\",\"name\":\"MaterialTemplateActions1\",\"properties\":[{\"name\":\"open_modal\",\"kind\":\"Any\",\"default\":0},{\"name\":\"close_modal\",\"kind\":\"Any\",\"default\":0}]},{\"type\":\"model\",\"name\":\"ReactiveESM1\",\"properties\":[{\"name\":\"esm_constants\",\"kind\":\"Any\",\"default\":{\"type\":\"map\"}}]},{\"type\":\"model\",\"name\":\"JSComponent1\",\"properties\":[{\"name\":\"esm_constants\",\"kind\":\"Any\",\"default\":{\"type\":\"map\"}}]},{\"type\":\"model\",\"name\":\"ReactComponent1\",\"properties\":[{\"name\":\"esm_constants\",\"kind\":\"Any\",\"default\":{\"type\":\"map\"}}]},{\"type\":\"model\",\"name\":\"AnyWidgetComponent1\",\"properties\":[{\"name\":\"esm_constants\",\"kind\":\"Any\",\"default\":{\"type\":\"map\"}}]},{\"type\":\"model\",\"name\":\"request_value1\",\"properties\":[{\"name\":\"fill\",\"kind\":\"Any\",\"default\":\"none\"},{\"name\":\"_synced\",\"kind\":\"Any\",\"default\":null},{\"name\":\"_request_sync\",\"kind\":\"Any\",\"default\":0}]}]}};\n",
       "  var render_items = [{\"docid\":\"ade16356-9944-4aa7-9bbb-9b8989450641\",\"roots\":{\"c3882f1c-47b0-4021-847f-fe382781b3d8\":\"dba98827-7a17-46df-a1ec-3c97c0fbb01e\"},\"root_ids\":[\"c3882f1c-47b0-4021-847f-fe382781b3d8\"]}];\n",
       "  var docs = Object.values(docs_json)\n",
       "  if (!docs) {\n",
       "    return\n",
       "  }\n",
       "  const py_version = docs[0].version.replace('rc', '-rc.').replace('.dev', '-dev.')\n",
       "  async function embed_document(root) {\n",
       "    var Bokeh = get_bokeh(root)\n",
       "    await Bokeh.embed.embed_items_notebook(docs_json, render_items);\n",
       "    for (const render_item of render_items) {\n",
       "      for (const root_id of render_item.root_ids) {\n",
       "\tconst id_el = document.getElementById(root_id)\n",
       "\tif (id_el.children.length && id_el.children[0].hasAttribute('data-root-id')) {\n",
       "\t  const root_el = id_el.children[0]\n",
       "\t  root_el.id = root_el.id + '-rendered'\n",
       "\t  for (const child of root_el.children) {\n",
       "            // Ensure JupyterLab does not capture keyboard shortcuts\n",
       "            // see: https://jupyterlab.readthedocs.io/en/4.1.x/extension/notebook.html#keyboard-interaction-model\n",
       "\t    child.setAttribute('data-lm-suppress-shortcuts', 'true')\n",
       "\t  }\n",
       "\t}\n",
       "      }\n",
       "    }\n",
       "  }\n",
       "  function get_bokeh(root) {\n",
       "    if (root.Bokeh === undefined) {\n",
       "      return null\n",
       "    } else if (root.Bokeh.version !== py_version) {\n",
       "      if (root.Bokeh.versions === undefined || !root.Bokeh.versions.has(py_version)) {\n",
       "\treturn null\n",
       "      }\n",
       "      return root.Bokeh.versions.get(py_version);\n",
       "    } else if (root.Bokeh.version === py_version) {\n",
       "      return root.Bokeh\n",
       "    }\n",
       "    return null\n",
       "  }\n",
       "  function is_loaded(root) {\n",
       "    var Bokeh = get_bokeh(root)\n",
       "    return (Bokeh != null && Bokeh.Panel !== undefined)\n",
       "  }\n",
       "  if (is_loaded(root)) {\n",
       "    embed_document(root);\n",
       "  } else {\n",
       "    var attempts = 0;\n",
       "    var timer = setInterval(function(root) {\n",
       "      if (is_loaded(root)) {\n",
       "        clearInterval(timer);\n",
       "        embed_document(root);\n",
       "      } else if (document.readyState == \"complete\") {\n",
       "        attempts++;\n",
       "        if (attempts > 200) {\n",
       "          clearInterval(timer);\n",
       "\t  var Bokeh = get_bokeh(root)\n",
       "\t  if (Bokeh == null || Bokeh.Panel == null) {\n",
       "            console.warn(\"Panel: ERROR: Unable to run Panel code because Bokeh or Panel library is missing\");\n",
       "\t  } else {\n",
       "\t    console.warn(\"Panel: WARNING: Attempting to render but not all required libraries could be resolved.\")\n",
       "\t    embed_document(root)\n",
       "\t  }\n",
       "        }\n",
       "      }\n",
       "    }, 25, root)\n",
       "  }\n",
       "})(window);</script>"
      ]
     },
     "metadata": {
      "application/vnd.holoviews_exec.v0+json": {
       "id": "c3882f1c-47b0-4021-847f-fe382781b3d8"
      }
     },
     "output_type": "display_data"
    }
   ],
   "source": [
    "from bs4 import BeautifulSoup\n",
    "# import pandas as pd\n",
    "from datetime import datetime, timedelta\n",
    "from itertools import combinations\n",
    "import json\n",
    "import requests\n",
    "import math\n",
    "from typing import Optional, List, Dict\n",
    "\n",
    "from pydantic import BaseModel\n",
    "from typing import Mapping\n",
    "import numpy as np\n",
    "import polars as pl\n",
    "import hvplot.polars\n",
    "import pandas as pd\n",
    "import altair as alt\n",
    "import math\n",
    "\n",
    "from shared.utils import formalize_data_with_str\n",
    "from shared.random_rules import RandomRules"
   ]
  },
  {
   "cell_type": "code",
   "execution_count": 3,
   "metadata": {},
   "outputs": [],
   "source": [
    "rr = RandomRules(\n",
    "  TOTAL_NUMBERS = 35,\n",
    "  CHOOSE = 5,\n",
    "  MAX_PRIMES = 3,\n",
    "  N_VALUES=[\"1\", \"2\", \"3\"],\n",
    "  # Rangos de valores de las bolillas\n",
    "  MIN_B_VALUES = [1, 2, 3, 4, 5],\n",
    "  MAX_B_VALUES = [31, 32, 33, 34, 35]\n",
    ")"
   ]
  },
  {
   "cell_type": "code",
   "execution_count": 4,
   "metadata": {},
   "outputs": [],
   "source": [
    "url = 'https://resultados.latinka.com.pe/i.do?m=historico&t=0&s=164'\n",
    "response = requests.get(url)\n",
    "soup = BeautifulSoup(response.text, 'html.parser')\n",
    "\n",
    "tables = soup.select('table')\n",
    "rows = tables[1].find_all('tr')"
   ]
  },
  {
   "cell_type": "code",
   "execution_count": 5,
   "metadata": {},
   "outputs": [
    {
     "name": "stdout",
     "output_type": "stream",
     "text": [
      "TOTAL_LINES=7723\n"
     ]
    },
    {
     "data": {
      "text/html": [
       "<div><style>\n",
       ".dataframe > thead > tr,\n",
       ".dataframe > tbody > tr {\n",
       "  text-align: right;\n",
       "  white-space: pre-wrap;\n",
       "}\n",
       "</style>\n",
       "<small>shape: (10, 21)</small><table border=\"1\" class=\"dataframe\"><thead><tr><th>fecha</th><th>sorteo</th><th>bolillas</th><th>id</th><th>combo</th><th>b1</th><th>b2</th><th>b3</th><th>b4</th><th>b5</th><th>str_b1</th><th>str_b2</th><th>str_b3</th><th>str_b4</th><th>str_b5</th><th>post_str_b1</th><th>post_str_blast</th><th>is_rare_combination</th><th>reason</th><th>jumps_map</th><th>unijump</th></tr><tr><td>str</td><td>str</td><td>str</td><td>str</td><td>array[u8, 5]</td><td>u8</td><td>u8</td><td>u8</td><td>u8</td><td>u8</td><td>str</td><td>str</td><td>str</td><td>str</td><td>str</td><td>str</td><td>str</td><td>bool</td><td>u8</td><td>str</td><td>i64</td></tr></thead><tbody><tr><td>&quot;07/04/2025&quot;</td><td>&quot;4179&quot;</td><td>&quot;08 21 22 24 07&quot;</td><td>&quot;0708212224&quot;</td><td>[7, 8, … 24]</td><td>7</td><td>8</td><td>21</td><td>22</td><td>24</td><td>&quot;07&quot;</td><td>&quot;08&quot;</td><td>&quot;21&quot;</td><td>&quot;22&quot;</td><td>&quot;24&quot;</td><td>null</td><td>null</td><td>true</td><td>16</td><td>&quot;01_13_01_02&quot;</td><td>37</td></tr><tr><td>&quot;06/04/2025&quot;</td><td>&quot;4178&quot;</td><td>&quot;07 35 24 34 14&quot;</td><td>&quot;0714243435&quot;</td><td>[7, 14, … 35]</td><td>7</td><td>14</td><td>24</td><td>34</td><td>35</td><td>&quot;07&quot;</td><td>&quot;14&quot;</td><td>&quot;24&quot;</td><td>&quot;34&quot;</td><td>&quot;35&quot;</td><td>&quot;07&quot;</td><td>&quot;24&quot;</td><td>true</td><td>8</td><td>&quot;07_10_10_01&quot;</td><td>-6</td></tr><tr><td>&quot;05/04/2025&quot;</td><td>&quot;4177&quot;</td><td>&quot;34 33 15 05 16&quot;</td><td>&quot;0515163334&quot;</td><td>[5, 15, … 34]</td><td>5</td><td>15</td><td>16</td><td>33</td><td>34</td><td>&quot;05&quot;</td><td>&quot;15&quot;</td><td>&quot;16&quot;</td><td>&quot;33&quot;</td><td>&quot;34&quot;</td><td>&quot;07&quot;</td><td>&quot;35&quot;</td><td>true</td><td>16</td><td>&quot;10_01_17_01&quot;</td><td>-57</td></tr><tr><td>&quot;04/04/2025&quot;</td><td>&quot;4176&quot;</td><td>&quot;27 24 32 30 35&quot;</td><td>&quot;2427303235&quot;</td><td>[24, 27, … 35]</td><td>24</td><td>27</td><td>30</td><td>32</td><td>35</td><td>&quot;24&quot;</td><td>&quot;27&quot;</td><td>&quot;30&quot;</td><td>&quot;32&quot;</td><td>&quot;35&quot;</td><td>&quot;05&quot;</td><td>&quot;34&quot;</td><td>true</td><td>24</td><td>&quot;03_03_02_03&quot;</td><td>3</td></tr><tr><td>&quot;03/04/2025&quot;</td><td>&quot;4175&quot;</td><td>&quot;11 06 05 20 12&quot;</td><td>&quot;0506111220&quot;</td><td>[5, 6, … 20]</td><td>5</td><td>6</td><td>11</td><td>12</td><td>20</td><td>&quot;05&quot;</td><td>&quot;06&quot;</td><td>&quot;11&quot;</td><td>&quot;12&quot;</td><td>&quot;20&quot;</td><td>&quot;24&quot;</td><td>&quot;35&quot;</td><td>true</td><td>16</td><td>&quot;01_05_01_08&quot;</td><td>19</td></tr><tr><td>&quot;02/04/2025&quot;</td><td>&quot;4174&quot;</td><td>&quot;26 14 24 11 17&quot;</td><td>&quot;1114172426&quot;</td><td>[11, 14, … 26]</td><td>11</td><td>14</td><td>17</td><td>24</td><td>26</td><td>&quot;11&quot;</td><td>&quot;14&quot;</td><td>&quot;17&quot;</td><td>&quot;24&quot;</td><td>&quot;26&quot;</td><td>&quot;05&quot;</td><td>&quot;20&quot;</td><td>true</td><td>24</td><td>&quot;03_03_07_02&quot;</td><td>-13</td></tr><tr><td>&quot;01/04/2025&quot;</td><td>&quot;4173&quot;</td><td>&quot;12 25 33 13 08&quot;</td><td>&quot;0812132533&quot;</td><td>[8, 12, … 33]</td><td>8</td><td>12</td><td>13</td><td>25</td><td>33</td><td>&quot;08&quot;</td><td>&quot;12&quot;</td><td>&quot;13&quot;</td><td>&quot;25&quot;</td><td>&quot;33&quot;</td><td>&quot;11&quot;</td><td>&quot;26&quot;</td><td>false</td><td>0</td><td>&quot;04_01_12_08&quot;</td><td>-29</td></tr><tr><td>&quot;31/03/2025&quot;</td><td>&quot;4172&quot;</td><td>&quot;07 22 34 26 16&quot;</td><td>&quot;0716222634&quot;</td><td>[7, 16, … 34]</td><td>7</td><td>16</td><td>22</td><td>26</td><td>34</td><td>&quot;07&quot;</td><td>&quot;16&quot;</td><td>&quot;22&quot;</td><td>&quot;26&quot;</td><td>&quot;34&quot;</td><td>&quot;08&quot;</td><td>&quot;33&quot;</td><td>false</td><td>0</td><td>&quot;09_06_04_08&quot;</td><td>5</td></tr><tr><td>&quot;30/03/2025&quot;</td><td>&quot;4171&quot;</td><td>&quot;35 05 15 29 03&quot;</td><td>&quot;0305152935&quot;</td><td>[3, 5, … 35]</td><td>3</td><td>5</td><td>15</td><td>29</td><td>35</td><td>&quot;03&quot;</td><td>&quot;05&quot;</td><td>&quot;15&quot;</td><td>&quot;29&quot;</td><td>&quot;35&quot;</td><td>&quot;07&quot;</td><td>&quot;34&quot;</td><td>true</td><td>2</td><td>&quot;02_10_14_06&quot;</td><td>-8</td></tr><tr><td>&quot;29/03/2025&quot;</td><td>&quot;4170&quot;</td><td>&quot;23 06 04 09 10&quot;</td><td>&quot;0406091023&quot;</td><td>[4, 6, … 23]</td><td>4</td><td>6</td><td>9</td><td>10</td><td>23</td><td>&quot;04&quot;</td><td>&quot;06&quot;</td><td>&quot;09&quot;</td><td>&quot;10&quot;</td><td>&quot;23&quot;</td><td>&quot;03&quot;</td><td>&quot;35&quot;</td><td>false</td><td>0</td><td>&quot;02_03_01_13&quot;</td><td>17</td></tr></tbody></table></div>"
      ],
      "text/plain": [
       "shape: (10, 21)\n",
       "┌────────────┬────────┬─────────────┬────────────┬───┬─────────────┬────────┬────────────┬─────────┐\n",
       "│ fecha      ┆ sorteo ┆ bolillas    ┆ id         ┆ … ┆ is_rare_com ┆ reason ┆ jumps_map  ┆ unijump │\n",
       "│ ---        ┆ ---    ┆ ---         ┆ ---        ┆   ┆ bination    ┆ ---    ┆ ---        ┆ ---     │\n",
       "│ str        ┆ str    ┆ str         ┆ str        ┆   ┆ ---         ┆ u8     ┆ str        ┆ i64     │\n",
       "│            ┆        ┆             ┆            ┆   ┆ bool        ┆        ┆            ┆         │\n",
       "╞════════════╪════════╪═════════════╪════════════╪═══╪═════════════╪════════╪════════════╪═════════╡\n",
       "│ 07/04/2025 ┆ 4179   ┆ 08 21 22 24 ┆ 0708212224 ┆ … ┆ true        ┆ 16     ┆ 01_13_01_0 ┆ 37      │\n",
       "│            ┆        ┆ 07          ┆            ┆   ┆             ┆        ┆ 2          ┆         │\n",
       "│ 06/04/2025 ┆ 4178   ┆ 07 35 24 34 ┆ 0714243435 ┆ … ┆ true        ┆ 8      ┆ 07_10_10_0 ┆ -6      │\n",
       "│            ┆        ┆ 14          ┆            ┆   ┆             ┆        ┆ 1          ┆         │\n",
       "│ 05/04/2025 ┆ 4177   ┆ 34 33 15 05 ┆ 0515163334 ┆ … ┆ true        ┆ 16     ┆ 10_01_17_0 ┆ -57     │\n",
       "│            ┆        ┆ 16          ┆            ┆   ┆             ┆        ┆ 1          ┆         │\n",
       "│ 04/04/2025 ┆ 4176   ┆ 27 24 32 30 ┆ 2427303235 ┆ … ┆ true        ┆ 24     ┆ 03_03_02_0 ┆ 3       │\n",
       "│            ┆        ┆ 35          ┆            ┆   ┆             ┆        ┆ 3          ┆         │\n",
       "│ 03/04/2025 ┆ 4175   ┆ 11 06 05 20 ┆ 0506111220 ┆ … ┆ true        ┆ 16     ┆ 01_05_01_0 ┆ 19      │\n",
       "│            ┆        ┆ 12          ┆            ┆   ┆             ┆        ┆ 8          ┆         │\n",
       "│ 02/04/2025 ┆ 4174   ┆ 26 14 24 11 ┆ 1114172426 ┆ … ┆ true        ┆ 24     ┆ 03_03_07_0 ┆ -13     │\n",
       "│            ┆        ┆ 17          ┆            ┆   ┆             ┆        ┆ 2          ┆         │\n",
       "│ 01/04/2025 ┆ 4173   ┆ 12 25 33 13 ┆ 0812132533 ┆ … ┆ false       ┆ 0      ┆ 04_01_12_0 ┆ -29     │\n",
       "│            ┆        ┆ 08          ┆            ┆   ┆             ┆        ┆ 8          ┆         │\n",
       "│ 31/03/2025 ┆ 4172   ┆ 07 22 34 26 ┆ 0716222634 ┆ … ┆ false       ┆ 0      ┆ 09_06_04_0 ┆ 5       │\n",
       "│            ┆        ┆ 16          ┆            ┆   ┆             ┆        ┆ 8          ┆         │\n",
       "│ 30/03/2025 ┆ 4171   ┆ 35 05 15 29 ┆ 0305152935 ┆ … ┆ true        ┆ 2      ┆ 02_10_14_0 ┆ -8      │\n",
       "│            ┆        ┆ 03          ┆            ┆   ┆             ┆        ┆ 6          ┆         │\n",
       "│ 29/03/2025 ┆ 4170   ┆ 23 06 04 09 ┆ 0406091023 ┆ … ┆ false       ┆ 0      ┆ 02_03_01_1 ┆ 17      │\n",
       "│            ┆        ┆ 10          ┆            ┆   ┆             ┆        ┆ 3          ┆         │\n",
       "└────────────┴────────┴─────────────┴────────────┴───┴─────────────┴────────┴────────────┴─────────┘"
      ]
     },
     "metadata": {},
     "output_type": "display_data"
    }
   ],
   "source": [
    "lst = []\n",
    "post_str_b1 = None\n",
    "post_str_blast = None\n",
    "for row in rows:\n",
    "  cols = [data.text.strip() for data in row.find_all('td')]\n",
    "  \n",
    "  id, bolillas_int, str_combo = formalize_data_with_str(bolillas_str=cols[2])\n",
    "  cols.append(id)\n",
    "  cols.append(bolillas_int)\n",
    "  cols.extend([b for b in bolillas_int])\n",
    "  cols.extend(str_combo)\n",
    "  cols.append(post_str_b1)\n",
    "  cols.append(post_str_blast)\n",
    "\n",
    "  is_rare, reason = rr.is_rare_combination(bolillas_int, id)\n",
    "  cols.append(is_rare)\n",
    "  cols.append(reason)\n",
    "\n",
    "  cols.append(rr.jumps_map(bolillas_int))\n",
    "  cols.append(rr.unijump(bolillas_int))\n",
    "  \n",
    "  lst.append(cols)\n",
    "\n",
    "  post_str_b1 = str_combo[0]\n",
    "  post_str_blast = str_combo[-1]\n",
    "\n",
    "with open('./gn_cahe_v3.json', 'w') as file: \n",
    "  json.dump(lst, file)\n",
    "\n",
    "dfRows = pl.DataFrame(\n",
    "  lst,\n",
    "  schema=[\n",
    "    'fecha', 'sorteo', 'bolillas',\n",
    "    'id', 'combo', 'b1', 'b2', 'b3', 'b4', 'b5',\n",
    "    'str_b1', 'str_b2', 'str_b3', 'str_b4', 'str_b5',\n",
    "    'post_str_b1', 'post_str_blast',\n",
    "    'is_rare_combination', 'reason',\n",
    "    \"jumps_map\", \"unijump\"\n",
    "  ],\n",
    "  schema_overrides={\n",
    "    'combo': pl.Array(pl.UInt8, 5),\n",
    "    'b1': pl.UInt8,\n",
    "    'b2': pl.UInt8,\n",
    "    'b3': pl.UInt8,\n",
    "    'b4': pl.UInt8,\n",
    "    'b5': pl.UInt8,\n",
    "    'b6': pl.UInt8,\n",
    "    'reason': pl.UInt8\n",
    "  },\n",
    "  orient='row'\n",
    ")\n",
    "\n",
    "TOTAL_LINES = len(dfRows)\n",
    "print(f'{TOTAL_LINES=}')\n",
    "display(dfRows.head(10))"
   ]
  },
  {
   "cell_type": "code",
   "execution_count": 6,
   "metadata": {},
   "outputs": [],
   "source": [
    "import holoviews as hv\n",
    "def plot_post_col (col: str, post_col: str, test_value: str):\n",
    "  df_viz = dfRows \\\n",
    "    .filter(\n",
    "      pl.col(col) == test_value,\n",
    "      pl.col(post_col).is_not_null()\n",
    "    ) \\\n",
    "    .group_by(\n",
    "      post_col\n",
    "    ).agg(pl.count(post_col).alias('count')) \\\n",
    "    .sort(\"count\", descending=True)\n",
    "  \n",
    "  \n",
    "  df_10_last = dfRows \\\n",
    "    .filter(\n",
    "      pl.col(col) == test_value,\n",
    "      pl.col(post_col).is_not_null()\n",
    "    ) \\\n",
    "    .head(10)\n",
    "  \n",
    "  # Agrega una columna que sea el porcentaje de la frecuencia relativa\n",
    "  total = df_viz['count'].sum()\n",
    "  df_viz = df_viz.with_columns(\n",
    "    ( (pl.col('count') / total) * 100 ).alias('percent')\n",
    "  )\n",
    "  mean_percent = df_viz['percent'].mean()\n",
    "\n",
    "  chart = df_viz.hvplot.bar(\n",
    "    x=post_col,\n",
    "    y='percent'\n",
    "  )\n",
    "\n",
    "  chart = chart * hv.HLine(mean_percent).opts(color='red')\n",
    "  chart.opts(default_tools=[\"pan\"])\n",
    "\n",
    "  df_jumps_map = dfRows \\\n",
    "    .filter(\n",
    "      pl.col(col) == test_value,\n",
    "      pl.col(post_col).is_not_null()\n",
    "    ) \\\n",
    "    .group_by(\n",
    "      'jumps_map'\n",
    "    ).agg(pl.count('jumps_map').alias('count')) \\\n",
    "    .sort(\"count\", descending=True)\n",
    "  \n",
    "  # chart_unijump = df_jumps_map.hvplot.bar(\n",
    "  #   x='jumps_map',\n",
    "  #   y='count'\n",
    "  # )\n",
    "\n",
    "  display(df_viz)\n",
    "  display(chart)\n",
    "  display(df_10_last)\n",
    "  display(df_jumps_map)\n",
    "\n",
    "  lst_post_str_b = df_viz.filter(pl.col('percent') >= mean_percent)[post_col].to_list()\n",
    "  lst_jumps_map = df_jumps_map['jumps_map'].to_list()\n",
    "  return lst_post_str_b, lst_jumps_map"
   ]
  },
  {
   "cell_type": "code",
   "execution_count": 14,
   "metadata": {},
   "outputs": [
    {
     "data": {
      "text/html": [
       "<div><style>\n",
       ".dataframe > thead > tr,\n",
       ".dataframe > tbody > tr {\n",
       "  text-align: right;\n",
       "  white-space: pre-wrap;\n",
       "}\n",
       "</style>\n",
       "<small>shape: (22, 3)</small><table border=\"1\" class=\"dataframe\"><thead><tr><th>post_str_b1</th><th>count</th><th>percent</th></tr><tr><td>str</td><td>u32</td><td>f64</td></tr></thead><tbody><tr><td>&quot;01&quot;</td><td>78</td><td>15.384615</td></tr><tr><td>&quot;03&quot;</td><td>60</td><td>11.83432</td></tr><tr><td>&quot;04&quot;</td><td>56</td><td>11.045365</td></tr><tr><td>&quot;02&quot;</td><td>54</td><td>10.650888</td></tr><tr><td>&quot;05&quot;</td><td>44</td><td>8.678501</td></tr><tr><td>&hellip;</td><td>&hellip;</td><td>&hellip;</td></tr><tr><td>&quot;17&quot;</td><td>3</td><td>0.591716</td></tr><tr><td>&quot;16&quot;</td><td>2</td><td>0.394477</td></tr><tr><td>&quot;21&quot;</td><td>1</td><td>0.197239</td></tr><tr><td>&quot;18&quot;</td><td>1</td><td>0.197239</td></tr><tr><td>&quot;23&quot;</td><td>1</td><td>0.197239</td></tr></tbody></table></div>"
      ],
      "text/plain": [
       "shape: (22, 3)\n",
       "┌─────────────┬───────┬───────────┐\n",
       "│ post_str_b1 ┆ count ┆ percent   │\n",
       "│ ---         ┆ ---   ┆ ---       │\n",
       "│ str         ┆ u32   ┆ f64       │\n",
       "╞═════════════╪═══════╪═══════════╡\n",
       "│ 01          ┆ 78    ┆ 15.384615 │\n",
       "│ 03          ┆ 60    ┆ 11.83432  │\n",
       "│ 04          ┆ 56    ┆ 11.045365 │\n",
       "│ 02          ┆ 54    ┆ 10.650888 │\n",
       "│ 05          ┆ 44    ┆ 8.678501  │\n",
       "│ …           ┆ …     ┆ …         │\n",
       "│ 17          ┆ 3     ┆ 0.591716  │\n",
       "│ 16          ┆ 2     ┆ 0.394477  │\n",
       "│ 21          ┆ 1     ┆ 0.197239  │\n",
       "│ 18          ┆ 1     ┆ 0.197239  │\n",
       "│ 23          ┆ 1     ┆ 0.197239  │\n",
       "└─────────────┴───────┴───────────┘"
      ]
     },
     "metadata": {},
     "output_type": "display_data"
    },
    {
     "data": {},
     "metadata": {},
     "output_type": "display_data"
    },
    {
     "data": {
      "application/vnd.holoviews_exec.v0+json": "",
      "text/html": [
       "<div id='e6885dcb-435a-40af-a4fb-0dd592266e8a'>\n",
       "  <div id=\"be48fd3c-f096-4b55-a3f2-19059c615e73\" data-root-id=\"e6885dcb-435a-40af-a4fb-0dd592266e8a\" style=\"display: contents;\"></div>\n",
       "</div>\n",
       "<script type=\"application/javascript\">(function(root) {\n",
       "  var docs_json = {\"ec759c6a-8179-4816-81f2-3d918b5ba83d\":{\"version\":\"3.7.2\",\"title\":\"Bokeh Application\",\"roots\":[{\"type\":\"object\",\"name\":\"Row\",\"id\":\"e6885dcb-435a-40af-a4fb-0dd592266e8a\",\"attributes\":{\"name\":\"Row00396\",\"tags\":[\"embedded\"],\"stylesheets\":[\"\\n:host(.pn-loading):before, .pn-loading:before {\\n  background-color: #c3c3c3;\\n  mask-size: auto calc(min(50%, 400px));\\n  -webkit-mask-size: auto calc(min(50%, 400px));\\n}\",{\"type\":\"object\",\"name\":\"ImportedStyleSheet\",\"id\":\"489b077a-7a7e-48e6-936e-6ef17f1d65a1\",\"attributes\":{\"url\":\"https://cdn.holoviz.org/panel/1.6.2/dist/css/loading.css\"}},{\"type\":\"object\",\"name\":\"ImportedStyleSheet\",\"id\":\"59744063-8089-4842-a07a-be4e090a269c\",\"attributes\":{\"url\":\"https://cdn.holoviz.org/panel/1.6.2/dist/css/listpanel.css\"}},{\"type\":\"object\",\"name\":\"ImportedStyleSheet\",\"id\":\"d91e6a73-4c69-4a84-9af5-87a75b2b342f\",\"attributes\":{\"url\":\"https://cdn.holoviz.org/panel/1.6.2/dist/bundled/theme/default.css\"}},{\"type\":\"object\",\"name\":\"ImportedStyleSheet\",\"id\":\"885a5666-09f5-4f36-95e1-6bb54fcdbecb\",\"attributes\":{\"url\":\"https://cdn.holoviz.org/panel/1.6.2/dist/bundled/theme/native.css\"}}],\"min_width\":700,\"margin\":0,\"sizing_mode\":\"stretch_width\",\"align\":\"start\",\"children\":[{\"type\":\"object\",\"name\":\"Spacer\",\"id\":\"8048ff30-916c-4337-8fb3-c532a999e20a\",\"attributes\":{\"name\":\"HSpacer00400\",\"stylesheets\":[\"\\n:host(.pn-loading):before, .pn-loading:before {\\n  background-color: #c3c3c3;\\n  mask-size: auto calc(min(50%, 400px));\\n  -webkit-mask-size: auto calc(min(50%, 400px));\\n}\",{\"id\":\"489b077a-7a7e-48e6-936e-6ef17f1d65a1\"},{\"id\":\"d91e6a73-4c69-4a84-9af5-87a75b2b342f\"},{\"id\":\"885a5666-09f5-4f36-95e1-6bb54fcdbecb\"}],\"margin\":0,\"sizing_mode\":\"stretch_width\",\"align\":\"start\"}},{\"type\":\"object\",\"name\":\"Figure\",\"id\":\"c67d0ff0-5b64-4ca0-8312-076bc9e55eae\",\"attributes\":{\"width\":700,\"height\":300,\"margin\":[5,10],\"sizing_mode\":\"fixed\",\"align\":\"start\",\"x_range\":{\"type\":\"object\",\"name\":\"FactorRange\",\"id\":\"6661ffe7-a68a-4962-8c11-696561195e63\",\"attributes\":{\"name\":\"post_str_b1\",\"tags\":[[[\"post_str_b1\",null]],[]],\"factors\":[\"01\",\"03\",\"04\",\"02\",\"05\",\"06\",\"07\",\"09\",\"08\",\"10\",\"11\",\"12\",\"13\",\"15\",\"14\",\"19\",\"20\",\"17\",\"16\",\"21\",\"18\",\"23\"]}},\"y_range\":{\"type\":\"object\",\"name\":\"Range1d\",\"id\":\"60402b7c-7f5f-4fa3-842f-4953820b088f\",\"attributes\":{\"name\":\"percent\",\"tags\":[[[\"percent\",null]],{\"type\":\"map\",\"entries\":[[\"invert_yaxis\",false],[\"autorange\",false]]}],\"end\":16.90335305719921,\"reset_start\":0.0,\"reset_end\":16.90335305719921}},\"x_scale\":{\"type\":\"object\",\"name\":\"CategoricalScale\",\"id\":\"ff27663f-2b8e-48e2-91d7-17955ddb9515\"},\"y_scale\":{\"type\":\"object\",\"name\":\"LinearScale\",\"id\":\"003ddd81-2d78-434a-86a6-fbc53bd904ad\"},\"title\":{\"type\":\"object\",\"name\":\"Title\",\"id\":\"fd67e769-2667-40b4-8f3e-8d4421edb50b\",\"attributes\":{\"text_color\":\"black\",\"text_font_size\":\"12pt\"}},\"renderers\":[{\"type\":\"object\",\"name\":\"GlyphRenderer\",\"id\":\"343467b1-6e90-43ad-add6-099e336af04c\",\"attributes\":{\"data_source\":{\"type\":\"object\",\"name\":\"ColumnDataSource\",\"id\":\"b922bc2f-35aa-4123-93de-0d09aa5e0c30\",\"attributes\":{\"selected\":{\"type\":\"object\",\"name\":\"Selection\",\"id\":\"a23e7e9d-2609-4d9e-b9d7-2634bba16969\",\"attributes\":{\"indices\":[],\"line_indices\":[]}},\"selection_policy\":{\"type\":\"object\",\"name\":\"UnionRenderers\",\"id\":\"cb5ead4c-3df3-4647-a218-9f4518e1962d\"},\"data\":{\"type\":\"map\",\"entries\":[[\"post_str_b1\",[\"01\",\"03\",\"04\",\"02\",\"05\",\"06\",\"07\",\"09\",\"08\",\"10\",\"11\",\"12\",\"13\",\"15\",\"14\",\"19\",\"20\",\"17\",\"16\",\"21\",\"18\",\"23\"]],[\"percent\",{\"type\":\"ndarray\",\"array\":{\"type\":\"bytes\",\"data\":\"T+zETuzELkBkjtLtK6snQE3rKhE6FyZAwRnXIkFNJUAFAjR7ZFshQHwxesodPxlAZI7S7SurF0BkjtLtK6sXQHow4IxrkRBA270YPeWOD0DEGnFg8/oNQJTUIacP0wpAlNQhpw/TCkCrd8mDAWf8P9u9GD3lju8/fDF6yh0/6T8dpdtXVu/iPx2l21dW7+I/fDF6yh0/2T98MXrKHT/JP3wxesodP8k/fDF6yh0/yT8=\"},\"shape\":[22],\"dtype\":\"float64\",\"order\":\"little\"}]]}}},\"view\":{\"type\":\"object\",\"name\":\"CDSView\",\"id\":\"ceba4aae-014f-4a92-a30e-e25c1db72522\",\"attributes\":{\"filter\":{\"type\":\"object\",\"name\":\"AllIndices\",\"id\":\"8b5b6400-f1b8-4bc1-9160-01ee80978a45\"}}},\"glyph\":{\"type\":\"object\",\"name\":\"VBar\",\"id\":\"1ad18e84-6290-447c-aa2d-d3b6170460cd\",\"attributes\":{\"tags\":[\"apply_ranges\"],\"x\":{\"type\":\"field\",\"field\":\"post_str_b1\"},\"width\":{\"type\":\"value\",\"value\":0.8},\"top\":{\"type\":\"field\",\"field\":\"percent\"},\"fill_color\":{\"type\":\"value\",\"value\":\"#30a2da\"},\"hatch_color\":{\"type\":\"value\",\"value\":\"#30a2da\"}}},\"selection_glyph\":{\"type\":\"object\",\"name\":\"VBar\",\"id\":\"328859d0-9795-4203-8abd-0b9403b96c36\",\"attributes\":{\"tags\":[\"apply_ranges\"],\"x\":{\"type\":\"field\",\"field\":\"post_str_b1\"},\"width\":{\"type\":\"value\",\"value\":0.8},\"bottom\":{\"type\":\"value\",\"value\":0},\"top\":{\"type\":\"field\",\"field\":\"percent\"},\"line_color\":{\"type\":\"value\",\"value\":\"black\"},\"line_alpha\":{\"type\":\"value\",\"value\":1.0},\"line_width\":{\"type\":\"value\",\"value\":1},\"line_join\":{\"type\":\"value\",\"value\":\"bevel\"},\"line_cap\":{\"type\":\"value\",\"value\":\"butt\"},\"line_dash\":{\"type\":\"value\",\"value\":[]},\"line_dash_offset\":{\"type\":\"value\",\"value\":0},\"fill_color\":{\"type\":\"value\",\"value\":\"#30a2da\"},\"fill_alpha\":{\"type\":\"value\",\"value\":1.0},\"hatch_color\":{\"type\":\"value\",\"value\":\"#30a2da\"},\"hatch_alpha\":{\"type\":\"value\",\"value\":1.0},\"hatch_scale\":{\"type\":\"value\",\"value\":12.0},\"hatch_pattern\":{\"type\":\"value\",\"value\":null},\"hatch_weight\":{\"type\":\"value\",\"value\":1.0}}},\"nonselection_glyph\":{\"type\":\"object\",\"name\":\"VBar\",\"id\":\"47a89da0-002a-41d1-86e1-285aa42b4cc6\",\"attributes\":{\"tags\":[\"apply_ranges\"],\"x\":{\"type\":\"field\",\"field\":\"post_str_b1\"},\"width\":{\"type\":\"value\",\"value\":0.8},\"top\":{\"type\":\"field\",\"field\":\"percent\"},\"line_alpha\":{\"type\":\"value\",\"value\":0.1},\"fill_color\":{\"type\":\"value\",\"value\":\"#30a2da\"},\"fill_alpha\":{\"type\":\"value\",\"value\":0.1},\"hatch_color\":{\"type\":\"value\",\"value\":\"#30a2da\"},\"hatch_alpha\":{\"type\":\"value\",\"value\":0.1}}},\"muted_glyph\":{\"type\":\"object\",\"name\":\"VBar\",\"id\":\"5a1eca47-b3d6-4bb5-9198-a4672fce42ab\",\"attributes\":{\"tags\":[\"apply_ranges\"],\"x\":{\"type\":\"field\",\"field\":\"post_str_b1\"},\"width\":{\"type\":\"value\",\"value\":0.8},\"top\":{\"type\":\"field\",\"field\":\"percent\"},\"line_alpha\":{\"type\":\"value\",\"value\":0.2},\"fill_color\":{\"type\":\"value\",\"value\":\"#30a2da\"},\"fill_alpha\":{\"type\":\"value\",\"value\":0.2},\"hatch_color\":{\"type\":\"value\",\"value\":\"#30a2da\"},\"hatch_alpha\":{\"type\":\"value\",\"value\":0.2}}}}},{\"type\":\"object\",\"name\":\"Span\",\"id\":\"c578881b-4ee0-46a9-9585-a139de76a92e\",\"attributes\":{\"level\":\"glyph\",\"location\":4.545454545454546,\"line_color\":\"red\",\"line_width\":3}}],\"toolbar\":{\"type\":\"object\",\"name\":\"Toolbar\",\"id\":\"e343b342-38cf-4977-b873-8a8f4d36fff4\",\"attributes\":{\"tools\":[{\"type\":\"object\",\"name\":\"WheelZoomTool\",\"id\":\"769b646f-e205-4b7a-8b4f-b1ab87a745ac\",\"attributes\":{\"tags\":[\"hv_created\"],\"renderers\":\"auto\",\"zoom_together\":\"none\"}},{\"type\":\"object\",\"name\":\"HoverTool\",\"id\":\"87f906d2-7d87-4698-b51c-78be599bf01a\",\"attributes\":{\"tags\":[\"hv_created\"],\"renderers\":[{\"id\":\"343467b1-6e90-43ad-add6-099e336af04c\"}],\"tooltips\":[[\"post_str_b1\",\"@{post_str_b1}\"],[\"percent\",\"@{percent}\"]]}},{\"type\":\"object\",\"name\":\"SaveTool\",\"id\":\"647fb11c-775b-40a5-8b77-af56c006fdf4\"},{\"type\":\"object\",\"name\":\"PanTool\",\"id\":\"4185c199-4149-42dc-8104-390270257d5c\"},{\"type\":\"object\",\"name\":\"BoxZoomTool\",\"id\":\"5e22eb62-8993-41d0-acd1-1d33c16aaf67\",\"attributes\":{\"dimensions\":\"both\",\"overlay\":{\"type\":\"object\",\"name\":\"BoxAnnotation\",\"id\":\"23aa42b6-9cb5-4ed3-a9b5-f7bae407bb20\",\"attributes\":{\"syncable\":false,\"line_color\":\"black\",\"line_alpha\":1.0,\"line_width\":2,\"line_dash\":[4,4],\"fill_color\":\"lightgrey\",\"fill_alpha\":0.5,\"level\":\"overlay\",\"visible\":false,\"left\":{\"type\":\"number\",\"value\":\"nan\"},\"right\":{\"type\":\"number\",\"value\":\"nan\"},\"top\":{\"type\":\"number\",\"value\":\"nan\"},\"bottom\":{\"type\":\"number\",\"value\":\"nan\"},\"left_units\":\"canvas\",\"right_units\":\"canvas\",\"top_units\":\"canvas\",\"bottom_units\":\"canvas\",\"handles\":{\"type\":\"object\",\"name\":\"BoxInteractionHandles\",\"id\":\"e9679f5f-ab2c-4877-9e9b-226ca0a0d48f\",\"attributes\":{\"all\":{\"type\":\"object\",\"name\":\"AreaVisuals\",\"id\":\"1d8a539c-80cc-4ee6-bb39-ed5f6f16b341\",\"attributes\":{\"fill_color\":\"white\",\"hover_fill_color\":\"lightgray\"}}}}}}}},{\"type\":\"object\",\"name\":\"ResetTool\",\"id\":\"d5d4d309-c016-4915-b241-dde2ed7988d0\"}],\"active_drag\":{\"id\":\"4185c199-4149-42dc-8104-390270257d5c\"}}},\"left\":[{\"type\":\"object\",\"name\":\"LinearAxis\",\"id\":\"390967b9-2035-4b5c-931b-59fcc39fd507\",\"attributes\":{\"ticker\":{\"type\":\"object\",\"name\":\"BasicTicker\",\"id\":\"00699ec9-23cf-4d44-a5d3-b8a71bfc8754\",\"attributes\":{\"mantissas\":[1,2,5]}},\"formatter\":{\"type\":\"object\",\"name\":\"BasicTickFormatter\",\"id\":\"ae4d31e5-cd94-4819-ab1c-33f5fa1ce620\"},\"axis_label\":\"percent\",\"major_label_policy\":{\"type\":\"object\",\"name\":\"AllLabels\",\"id\":\"0a41995c-0be2-4543-a06d-324f3314446f\"}}}],\"below\":[{\"type\":\"object\",\"name\":\"CategoricalAxis\",\"id\":\"07d34a3e-ae8a-4811-a287-e23732406c15\",\"attributes\":{\"ticker\":{\"type\":\"object\",\"name\":\"CategoricalTicker\",\"id\":\"b07cc76f-9d96-4e3c-8c9f-34da90bfd17a\"},\"formatter\":{\"type\":\"object\",\"name\":\"CategoricalTickFormatter\",\"id\":\"1c79b276-205d-4023-a5f4-1d83a3c72943\"},\"axis_label\":\"post_str_b1\",\"major_label_policy\":{\"type\":\"object\",\"name\":\"AllLabels\",\"id\":\"bc593598-443e-4de9-a549-88f9d4408754\"}}}],\"center\":[{\"type\":\"object\",\"name\":\"Grid\",\"id\":\"9cb7a00c-e4ef-4c1c-9431-8a34716f1259\",\"attributes\":{\"axis\":{\"id\":\"07d34a3e-ae8a-4811-a287-e23732406c15\"},\"grid_line_color\":null}},{\"type\":\"object\",\"name\":\"Grid\",\"id\":\"5f37a596-9ef7-4ae7-9168-a1b3924445ba\",\"attributes\":{\"dimension\":1,\"axis\":{\"id\":\"390967b9-2035-4b5c-931b-59fcc39fd507\"},\"grid_line_color\":null}}],\"min_border_top\":10,\"min_border_bottom\":10,\"min_border_left\":10,\"min_border_right\":10,\"output_backend\":\"webgl\"}},{\"type\":\"object\",\"name\":\"Spacer\",\"id\":\"08a09276-6cbc-49a2-9350-1593fbbf2a29\",\"attributes\":{\"name\":\"HSpacer00401\",\"stylesheets\":[\"\\n:host(.pn-loading):before, .pn-loading:before {\\n  background-color: #c3c3c3;\\n  mask-size: auto calc(min(50%, 400px));\\n  -webkit-mask-size: auto calc(min(50%, 400px));\\n}\",{\"id\":\"489b077a-7a7e-48e6-936e-6ef17f1d65a1\"},{\"id\":\"d91e6a73-4c69-4a84-9af5-87a75b2b342f\"},{\"id\":\"885a5666-09f5-4f36-95e1-6bb54fcdbecb\"}],\"margin\":0,\"sizing_mode\":\"stretch_width\",\"align\":\"start\"}}]}}],\"defs\":[{\"type\":\"model\",\"name\":\"ReactiveHTML1\"},{\"type\":\"model\",\"name\":\"FlexBox1\",\"properties\":[{\"name\":\"align_content\",\"kind\":\"Any\",\"default\":\"flex-start\"},{\"name\":\"align_items\",\"kind\":\"Any\",\"default\":\"flex-start\"},{\"name\":\"flex_direction\",\"kind\":\"Any\",\"default\":\"row\"},{\"name\":\"flex_wrap\",\"kind\":\"Any\",\"default\":\"wrap\"},{\"name\":\"gap\",\"kind\":\"Any\",\"default\":\"\"},{\"name\":\"justify_content\",\"kind\":\"Any\",\"default\":\"flex-start\"}]},{\"type\":\"model\",\"name\":\"FloatPanel1\",\"properties\":[{\"name\":\"config\",\"kind\":\"Any\",\"default\":{\"type\":\"map\"}},{\"name\":\"contained\",\"kind\":\"Any\",\"default\":true},{\"name\":\"position\",\"kind\":\"Any\",\"default\":\"right-top\"},{\"name\":\"offsetx\",\"kind\":\"Any\",\"default\":null},{\"name\":\"offsety\",\"kind\":\"Any\",\"default\":null},{\"name\":\"theme\",\"kind\":\"Any\",\"default\":\"primary\"},{\"name\":\"status\",\"kind\":\"Any\",\"default\":\"normalized\"}]},{\"type\":\"model\",\"name\":\"GridStack1\",\"properties\":[{\"name\":\"ncols\",\"kind\":\"Any\",\"default\":null},{\"name\":\"nrows\",\"kind\":\"Any\",\"default\":null},{\"name\":\"allow_resize\",\"kind\":\"Any\",\"default\":true},{\"name\":\"allow_drag\",\"kind\":\"Any\",\"default\":true},{\"name\":\"state\",\"kind\":\"Any\",\"default\":[]}]},{\"type\":\"model\",\"name\":\"drag1\",\"properties\":[{\"name\":\"slider_width\",\"kind\":\"Any\",\"default\":5},{\"name\":\"slider_color\",\"kind\":\"Any\",\"default\":\"black\"},{\"name\":\"value\",\"kind\":\"Any\",\"default\":50}]},{\"type\":\"model\",\"name\":\"click1\",\"properties\":[{\"name\":\"terminal_output\",\"kind\":\"Any\",\"default\":\"\"},{\"name\":\"debug_name\",\"kind\":\"Any\",\"default\":\"\"},{\"name\":\"clears\",\"kind\":\"Any\",\"default\":0}]},{\"type\":\"model\",\"name\":\"FastWrapper1\",\"properties\":[{\"name\":\"object\",\"kind\":\"Any\",\"default\":null},{\"name\":\"style\",\"kind\":\"Any\",\"default\":null}]},{\"type\":\"model\",\"name\":\"NotificationArea1\",\"properties\":[{\"name\":\"js_events\",\"kind\":\"Any\",\"default\":{\"type\":\"map\"}},{\"name\":\"max_notifications\",\"kind\":\"Any\",\"default\":5},{\"name\":\"notifications\",\"kind\":\"Any\",\"default\":[]},{\"name\":\"position\",\"kind\":\"Any\",\"default\":\"bottom-right\"},{\"name\":\"_clear\",\"kind\":\"Any\",\"default\":0},{\"name\":\"types\",\"kind\":\"Any\",\"default\":[{\"type\":\"map\",\"entries\":[[\"type\",\"warning\"],[\"background\",\"#ffc107\"],[\"icon\",{\"type\":\"map\",\"entries\":[[\"className\",\"fas fa-exclamation-triangle\"],[\"tagName\",\"i\"],[\"color\",\"white\"]]}]]},{\"type\":\"map\",\"entries\":[[\"type\",\"info\"],[\"background\",\"#007bff\"],[\"icon\",{\"type\":\"map\",\"entries\":[[\"className\",\"fas fa-info-circle\"],[\"tagName\",\"i\"],[\"color\",\"white\"]]}]]}]}]},{\"type\":\"model\",\"name\":\"Notification\",\"properties\":[{\"name\":\"background\",\"kind\":\"Any\",\"default\":null},{\"name\":\"duration\",\"kind\":\"Any\",\"default\":3000},{\"name\":\"icon\",\"kind\":\"Any\",\"default\":null},{\"name\":\"message\",\"kind\":\"Any\",\"default\":\"\"},{\"name\":\"notification_type\",\"kind\":\"Any\",\"default\":null},{\"name\":\"_rendered\",\"kind\":\"Any\",\"default\":false},{\"name\":\"_destroyed\",\"kind\":\"Any\",\"default\":false}]},{\"type\":\"model\",\"name\":\"TemplateActions1\",\"properties\":[{\"name\":\"open_modal\",\"kind\":\"Any\",\"default\":0},{\"name\":\"close_modal\",\"kind\":\"Any\",\"default\":0}]},{\"type\":\"model\",\"name\":\"BootstrapTemplateActions1\",\"properties\":[{\"name\":\"open_modal\",\"kind\":\"Any\",\"default\":0},{\"name\":\"close_modal\",\"kind\":\"Any\",\"default\":0}]},{\"type\":\"model\",\"name\":\"TemplateEditor1\",\"properties\":[{\"name\":\"layout\",\"kind\":\"Any\",\"default\":[]}]},{\"type\":\"model\",\"name\":\"MaterialTemplateActions1\",\"properties\":[{\"name\":\"open_modal\",\"kind\":\"Any\",\"default\":0},{\"name\":\"close_modal\",\"kind\":\"Any\",\"default\":0}]},{\"type\":\"model\",\"name\":\"ReactiveESM1\",\"properties\":[{\"name\":\"esm_constants\",\"kind\":\"Any\",\"default\":{\"type\":\"map\"}}]},{\"type\":\"model\",\"name\":\"JSComponent1\",\"properties\":[{\"name\":\"esm_constants\",\"kind\":\"Any\",\"default\":{\"type\":\"map\"}}]},{\"type\":\"model\",\"name\":\"ReactComponent1\",\"properties\":[{\"name\":\"esm_constants\",\"kind\":\"Any\",\"default\":{\"type\":\"map\"}}]},{\"type\":\"model\",\"name\":\"AnyWidgetComponent1\",\"properties\":[{\"name\":\"esm_constants\",\"kind\":\"Any\",\"default\":{\"type\":\"map\"}}]},{\"type\":\"model\",\"name\":\"request_value1\",\"properties\":[{\"name\":\"fill\",\"kind\":\"Any\",\"default\":\"none\"},{\"name\":\"_synced\",\"kind\":\"Any\",\"default\":null},{\"name\":\"_request_sync\",\"kind\":\"Any\",\"default\":0}]}]}};\n",
       "  var render_items = [{\"docid\":\"ec759c6a-8179-4816-81f2-3d918b5ba83d\",\"roots\":{\"e6885dcb-435a-40af-a4fb-0dd592266e8a\":\"be48fd3c-f096-4b55-a3f2-19059c615e73\"},\"root_ids\":[\"e6885dcb-435a-40af-a4fb-0dd592266e8a\"]}];\n",
       "  var docs = Object.values(docs_json)\n",
       "  if (!docs) {\n",
       "    return\n",
       "  }\n",
       "  const py_version = docs[0].version.replace('rc', '-rc.').replace('.dev', '-dev.')\n",
       "  async function embed_document(root) {\n",
       "    var Bokeh = get_bokeh(root)\n",
       "    await Bokeh.embed.embed_items_notebook(docs_json, render_items);\n",
       "    for (const render_item of render_items) {\n",
       "      for (const root_id of render_item.root_ids) {\n",
       "\tconst id_el = document.getElementById(root_id)\n",
       "\tif (id_el.children.length && id_el.children[0].hasAttribute('data-root-id')) {\n",
       "\t  const root_el = id_el.children[0]\n",
       "\t  root_el.id = root_el.id + '-rendered'\n",
       "\t  for (const child of root_el.children) {\n",
       "            // Ensure JupyterLab does not capture keyboard shortcuts\n",
       "            // see: https://jupyterlab.readthedocs.io/en/4.1.x/extension/notebook.html#keyboard-interaction-model\n",
       "\t    child.setAttribute('data-lm-suppress-shortcuts', 'true')\n",
       "\t  }\n",
       "\t}\n",
       "      }\n",
       "    }\n",
       "  }\n",
       "  function get_bokeh(root) {\n",
       "    if (root.Bokeh === undefined) {\n",
       "      return null\n",
       "    } else if (root.Bokeh.version !== py_version) {\n",
       "      if (root.Bokeh.versions === undefined || !root.Bokeh.versions.has(py_version)) {\n",
       "\treturn null\n",
       "      }\n",
       "      return root.Bokeh.versions.get(py_version);\n",
       "    } else if (root.Bokeh.version === py_version) {\n",
       "      return root.Bokeh\n",
       "    }\n",
       "    return null\n",
       "  }\n",
       "  function is_loaded(root) {\n",
       "    var Bokeh = get_bokeh(root)\n",
       "    return (Bokeh != null && Bokeh.Panel !== undefined)\n",
       "  }\n",
       "  if (is_loaded(root)) {\n",
       "    embed_document(root);\n",
       "  } else {\n",
       "    var attempts = 0;\n",
       "    var timer = setInterval(function(root) {\n",
       "      if (is_loaded(root)) {\n",
       "        clearInterval(timer);\n",
       "        embed_document(root);\n",
       "      } else if (document.readyState == \"complete\") {\n",
       "        attempts++;\n",
       "        if (attempts > 200) {\n",
       "          clearInterval(timer);\n",
       "\t  var Bokeh = get_bokeh(root)\n",
       "\t  if (Bokeh == null || Bokeh.Panel == null) {\n",
       "            console.warn(\"Panel: ERROR: Unable to run Panel code because Bokeh or Panel library is missing\");\n",
       "\t  } else {\n",
       "\t    console.warn(\"Panel: WARNING: Attempting to render but not all required libraries could be resolved.\")\n",
       "\t    embed_document(root)\n",
       "\t  }\n",
       "        }\n",
       "      }\n",
       "    }, 25, root)\n",
       "  }\n",
       "})(window);</script>"
      ],
      "text/plain": [
       ":Overlay\n",
       "   .Bars.I  :Bars   [post_str_b1]   (percent)\n",
       "   .HLine.I :HLine   [x,y]"
      ]
     },
     "metadata": {
      "application/vnd.holoviews_exec.v0+json": {
       "id": "e6885dcb-435a-40af-a4fb-0dd592266e8a"
      }
     },
     "output_type": "display_data"
    },
    {
     "data": {
      "text/html": [
       "<div><style>\n",
       ".dataframe > thead > tr,\n",
       ".dataframe > tbody > tr {\n",
       "  text-align: right;\n",
       "  white-space: pre-wrap;\n",
       "}\n",
       "</style>\n",
       "<small>shape: (10, 21)</small><table border=\"1\" class=\"dataframe\"><thead><tr><th>fecha</th><th>sorteo</th><th>bolillas</th><th>id</th><th>combo</th><th>b1</th><th>b2</th><th>b3</th><th>b4</th><th>b5</th><th>str_b1</th><th>str_b2</th><th>str_b3</th><th>str_b4</th><th>str_b5</th><th>post_str_b1</th><th>post_str_blast</th><th>is_rare_combination</th><th>reason</th><th>jumps_map</th><th>unijump</th></tr><tr><td>str</td><td>str</td><td>str</td><td>str</td><td>array[u8, 5]</td><td>u8</td><td>u8</td><td>u8</td><td>u8</td><td>u8</td><td>str</td><td>str</td><td>str</td><td>str</td><td>str</td><td>str</td><td>str</td><td>bool</td><td>u8</td><td>str</td><td>i64</td></tr></thead><tbody><tr><td>&quot;06/04/2025&quot;</td><td>&quot;4178&quot;</td><td>&quot;07 35 24 34 14&quot;</td><td>&quot;0714243435&quot;</td><td>[7, 14, … 35]</td><td>7</td><td>14</td><td>24</td><td>34</td><td>35</td><td>&quot;07&quot;</td><td>&quot;14&quot;</td><td>&quot;24&quot;</td><td>&quot;34&quot;</td><td>&quot;35&quot;</td><td>&quot;07&quot;</td><td>&quot;24&quot;</td><td>true</td><td>8</td><td>&quot;07_10_10_01&quot;</td><td>-6</td></tr><tr><td>&quot;31/03/2025&quot;</td><td>&quot;4172&quot;</td><td>&quot;07 22 34 26 16&quot;</td><td>&quot;0716222634&quot;</td><td>[7, 16, … 34]</td><td>7</td><td>16</td><td>22</td><td>26</td><td>34</td><td>&quot;07&quot;</td><td>&quot;16&quot;</td><td>&quot;22&quot;</td><td>&quot;26&quot;</td><td>&quot;34&quot;</td><td>&quot;08&quot;</td><td>&quot;33&quot;</td><td>false</td><td>0</td><td>&quot;09_06_04_08&quot;</td><td>5</td></tr><tr><td>&quot;18/03/2025&quot;</td><td>&quot;4159&quot;</td><td>&quot;07 34 16 12 21&quot;</td><td>&quot;0712162134&quot;</td><td>[7, 12, … 34]</td><td>7</td><td>12</td><td>16</td><td>21</td><td>34</td><td>&quot;07&quot;</td><td>&quot;12&quot;</td><td>&quot;16&quot;</td><td>&quot;21&quot;</td><td>&quot;34&quot;</td><td>&quot;01&quot;</td><td>&quot;22&quot;</td><td>false</td><td>0</td><td>&quot;05_04_05_13&quot;</td><td>5</td></tr><tr><td>&quot;13/03/2025&quot;</td><td>&quot;4154&quot;</td><td>&quot;17 30 18 07 19&quot;</td><td>&quot;0717181930&quot;</td><td>[7, 17, … 30]</td><td>7</td><td>17</td><td>18</td><td>19</td><td>30</td><td>&quot;07&quot;</td><td>&quot;17&quot;</td><td>&quot;18&quot;</td><td>&quot;19&quot;</td><td>&quot;30&quot;</td><td>&quot;03&quot;</td><td>&quot;35&quot;</td><td>true</td><td>24</td><td>&quot;10_01_01_11&quot;</td><td>1</td></tr><tr><td>&quot;10/02/2025&quot;</td><td>&quot;4123&quot;</td><td>&quot;32 07 19 25 21&quot;</td><td>&quot;0719212532&quot;</td><td>[7, 19, … 32]</td><td>7</td><td>19</td><td>21</td><td>25</td><td>32</td><td>&quot;07&quot;</td><td>&quot;19&quot;</td><td>&quot;21&quot;</td><td>&quot;25&quot;</td><td>&quot;32&quot;</td><td>&quot;08&quot;</td><td>&quot;32&quot;</td><td>false</td><td>0</td><td>&quot;12_02_04_07&quot;</td><td>-11</td></tr><tr><td>&quot;05/01/2025&quot;</td><td>&quot;4087&quot;</td><td>&quot;28 19 07 23 20&quot;</td><td>&quot;0719202328&quot;</td><td>[7, 19, … 28]</td><td>7</td><td>19</td><td>20</td><td>23</td><td>28</td><td>&quot;07&quot;</td><td>&quot;19&quot;</td><td>&quot;20&quot;</td><td>&quot;23&quot;</td><td>&quot;28&quot;</td><td>&quot;01&quot;</td><td>&quot;34&quot;</td><td>false</td><td>0</td><td>&quot;12_01_03_05&quot;</td><td>-13</td></tr><tr><td>&quot;20/12/2024&quot;</td><td>&quot;4071&quot;</td><td>&quot;08 22 23 07 27&quot;</td><td>&quot;0708222327&quot;</td><td>[7, 8, … 27]</td><td>7</td><td>8</td><td>22</td><td>23</td><td>27</td><td>&quot;07&quot;</td><td>&quot;08&quot;</td><td>&quot;22&quot;</td><td>&quot;23&quot;</td><td>&quot;27&quot;</td><td>&quot;05&quot;</td><td>&quot;34&quot;</td><td>true</td><td>16</td><td>&quot;01_14_01_04&quot;</td><td>42</td></tr><tr><td>&quot;29/11/2024&quot;</td><td>&quot;4050&quot;</td><td>&quot;13 26 29 25 07&quot;</td><td>&quot;0713252629&quot;</td><td>[7, 13, … 29]</td><td>7</td><td>13</td><td>25</td><td>26</td><td>29</td><td>&quot;07&quot;</td><td>&quot;13&quot;</td><td>&quot;25&quot;</td><td>&quot;26&quot;</td><td>&quot;29&quot;</td><td>&quot;11&quot;</td><td>&quot;35&quot;</td><td>false</td><td>0</td><td>&quot;06_12_01_03&quot;</td><td>30</td></tr><tr><td>&quot;20/11/2024&quot;</td><td>&quot;4041&quot;</td><td>&quot;28 10 07 15 30&quot;</td><td>&quot;0710152830&quot;</td><td>[7, 10, … 30]</td><td>7</td><td>10</td><td>15</td><td>28</td><td>30</td><td>&quot;07&quot;</td><td>&quot;10&quot;</td><td>&quot;15&quot;</td><td>&quot;28&quot;</td><td>&quot;30&quot;</td><td>&quot;12&quot;</td><td>&quot;34&quot;</td><td>false</td><td>0</td><td>&quot;03_05_13_02&quot;</td><td>-25</td></tr><tr><td>&quot;19/11/2024&quot;</td><td>&quot;4040&quot;</td><td>&quot;07 10 21 17 24&quot;</td><td>&quot;0710172124&quot;</td><td>[7, 10, … 24]</td><td>7</td><td>10</td><td>17</td><td>21</td><td>24</td><td>&quot;07&quot;</td><td>&quot;10&quot;</td><td>&quot;17&quot;</td><td>&quot;21&quot;</td><td>&quot;24&quot;</td><td>&quot;07&quot;</td><td>&quot;30&quot;</td><td>true</td><td>16</td><td>&quot;03_07_04_03&quot;</td><td>9</td></tr></tbody></table></div>"
      ],
      "text/plain": [
       "shape: (10, 21)\n",
       "┌────────────┬────────┬─────────────┬────────────┬───┬─────────────┬────────┬────────────┬─────────┐\n",
       "│ fecha      ┆ sorteo ┆ bolillas    ┆ id         ┆ … ┆ is_rare_com ┆ reason ┆ jumps_map  ┆ unijump │\n",
       "│ ---        ┆ ---    ┆ ---         ┆ ---        ┆   ┆ bination    ┆ ---    ┆ ---        ┆ ---     │\n",
       "│ str        ┆ str    ┆ str         ┆ str        ┆   ┆ ---         ┆ u8     ┆ str        ┆ i64     │\n",
       "│            ┆        ┆             ┆            ┆   ┆ bool        ┆        ┆            ┆         │\n",
       "╞════════════╪════════╪═════════════╪════════════╪═══╪═════════════╪════════╪════════════╪═════════╡\n",
       "│ 06/04/2025 ┆ 4178   ┆ 07 35 24 34 ┆ 0714243435 ┆ … ┆ true        ┆ 8      ┆ 07_10_10_0 ┆ -6      │\n",
       "│            ┆        ┆ 14          ┆            ┆   ┆             ┆        ┆ 1          ┆         │\n",
       "│ 31/03/2025 ┆ 4172   ┆ 07 22 34 26 ┆ 0716222634 ┆ … ┆ false       ┆ 0      ┆ 09_06_04_0 ┆ 5       │\n",
       "│            ┆        ┆ 16          ┆            ┆   ┆             ┆        ┆ 8          ┆         │\n",
       "│ 18/03/2025 ┆ 4159   ┆ 07 34 16 12 ┆ 0712162134 ┆ … ┆ false       ┆ 0      ┆ 05_04_05_1 ┆ 5       │\n",
       "│            ┆        ┆ 21          ┆            ┆   ┆             ┆        ┆ 3          ┆         │\n",
       "│ 13/03/2025 ┆ 4154   ┆ 17 30 18 07 ┆ 0717181930 ┆ … ┆ true        ┆ 24     ┆ 10_01_01_1 ┆ 1       │\n",
       "│            ┆        ┆ 19          ┆            ┆   ┆             ┆        ┆ 1          ┆         │\n",
       "│ 10/02/2025 ┆ 4123   ┆ 32 07 19 25 ┆ 0719212532 ┆ … ┆ false       ┆ 0      ┆ 12_02_04_0 ┆ -11     │\n",
       "│            ┆        ┆ 21          ┆            ┆   ┆             ┆        ┆ 7          ┆         │\n",
       "│ 05/01/2025 ┆ 4087   ┆ 28 19 07 23 ┆ 0719202328 ┆ … ┆ false       ┆ 0      ┆ 12_01_03_0 ┆ -13     │\n",
       "│            ┆        ┆ 20          ┆            ┆   ┆             ┆        ┆ 5          ┆         │\n",
       "│ 20/12/2024 ┆ 4071   ┆ 08 22 23 07 ┆ 0708222327 ┆ … ┆ true        ┆ 16     ┆ 01_14_01_0 ┆ 42      │\n",
       "│            ┆        ┆ 27          ┆            ┆   ┆             ┆        ┆ 4          ┆         │\n",
       "│ 29/11/2024 ┆ 4050   ┆ 13 26 29 25 ┆ 0713252629 ┆ … ┆ false       ┆ 0      ┆ 06_12_01_0 ┆ 30      │\n",
       "│            ┆        ┆ 07          ┆            ┆   ┆             ┆        ┆ 3          ┆         │\n",
       "│ 20/11/2024 ┆ 4041   ┆ 28 10 07 15 ┆ 0710152830 ┆ … ┆ false       ┆ 0      ┆ 03_05_13_0 ┆ -25     │\n",
       "│            ┆        ┆ 30          ┆            ┆   ┆             ┆        ┆ 2          ┆         │\n",
       "│ 19/11/2024 ┆ 4040   ┆ 07 10 21 17 ┆ 0710172124 ┆ … ┆ true        ┆ 16     ┆ 03_07_04_0 ┆ 9       │\n",
       "│            ┆        ┆ 24          ┆            ┆   ┆             ┆        ┆ 3          ┆         │\n",
       "└────────────┴────────┴─────────────┴────────────┴───┴─────────────┴────────┴────────────┴─────────┘"
      ]
     },
     "metadata": {},
     "output_type": "display_data"
    },
    {
     "data": {
      "text/html": [
       "<div><style>\n",
       ".dataframe > thead > tr,\n",
       ".dataframe > tbody > tr {\n",
       "  text-align: right;\n",
       "  white-space: pre-wrap;\n",
       "}\n",
       "</style>\n",
       "<small>shape: (497, 2)</small><table border=\"1\" class=\"dataframe\"><thead><tr><th>jumps_map</th><th>count</th></tr><tr><td>str</td><td>u32</td></tr></thead><tbody><tr><td>&quot;04_11_05_06&quot;</td><td>2</td></tr><tr><td>&quot;04_01_09_05&quot;</td><td>2</td></tr><tr><td>&quot;08_01_01_18&quot;</td><td>2</td></tr><tr><td>&quot;05_05_13_05&quot;</td><td>2</td></tr><tr><td>&quot;01_02_09_07&quot;</td><td>2</td></tr><tr><td>&hellip;</td><td>&hellip;</td></tr><tr><td>&quot;05_13_04_06&quot;</td><td>1</td></tr><tr><td>&quot;13_02_01_05&quot;</td><td>1</td></tr><tr><td>&quot;02_03_14_06&quot;</td><td>1</td></tr><tr><td>&quot;04_02_13_09&quot;</td><td>1</td></tr><tr><td>&quot;08_12_03_01&quot;</td><td>1</td></tr></tbody></table></div>"
      ],
      "text/plain": [
       "shape: (497, 2)\n",
       "┌─────────────┬───────┐\n",
       "│ jumps_map   ┆ count │\n",
       "│ ---         ┆ ---   │\n",
       "│ str         ┆ u32   │\n",
       "╞═════════════╪═══════╡\n",
       "│ 04_11_05_06 ┆ 2     │\n",
       "│ 04_01_09_05 ┆ 2     │\n",
       "│ 08_01_01_18 ┆ 2     │\n",
       "│ 05_05_13_05 ┆ 2     │\n",
       "│ 01_02_09_07 ┆ 2     │\n",
       "│ …           ┆ …     │\n",
       "│ 05_13_04_06 ┆ 1     │\n",
       "│ 13_02_01_05 ┆ 1     │\n",
       "│ 02_03_14_06 ┆ 1     │\n",
       "│ 04_02_13_09 ┆ 1     │\n",
       "│ 08_12_03_01 ┆ 1     │\n",
       "└─────────────┴───────┘"
      ]
     },
     "metadata": {},
     "output_type": "display_data"
    }
   ],
   "source": [
    "possible_b1, exclude_jump_maps_b1 = plot_post_col(col='str_b1', post_col='post_str_b1', test_value=\"07\")"
   ]
  },
  {
   "cell_type": "code",
   "execution_count": 15,
   "metadata": {},
   "outputs": [
    {
     "data": {
      "text/html": [
       "<div><style>\n",
       ".dataframe > thead > tr,\n",
       ".dataframe > tbody > tr {\n",
       "  text-align: right;\n",
       "  white-space: pre-wrap;\n",
       "}\n",
       "</style>\n",
       "<small>shape: (23, 3)</small><table border=\"1\" class=\"dataframe\"><thead><tr><th>post_str_blast</th><th>count</th><th>percent</th></tr><tr><td>str</td><td>u32</td><td>f64</td></tr></thead><tbody><tr><td>&quot;34&quot;</td><td>34</td><td>14.345992</td></tr><tr><td>&quot;33&quot;</td><td>31</td><td>13.080169</td></tr><tr><td>&quot;32&quot;</td><td>28</td><td>11.814346</td></tr><tr><td>&quot;35&quot;</td><td>26</td><td>10.970464</td></tr><tr><td>&quot;27&quot;</td><td>16</td><td>6.751055</td></tr><tr><td>&hellip;</td><td>&hellip;</td><td>&hellip;</td></tr><tr><td>&quot;23&quot;</td><td>2</td><td>0.843882</td></tr><tr><td>&quot;10&quot;</td><td>1</td><td>0.421941</td></tr><tr><td>&quot;15&quot;</td><td>1</td><td>0.421941</td></tr><tr><td>&quot;08&quot;</td><td>1</td><td>0.421941</td></tr><tr><td>&quot;14&quot;</td><td>1</td><td>0.421941</td></tr></tbody></table></div>"
      ],
      "text/plain": [
       "shape: (23, 3)\n",
       "┌────────────────┬───────┬───────────┐\n",
       "│ post_str_blast ┆ count ┆ percent   │\n",
       "│ ---            ┆ ---   ┆ ---       │\n",
       "│ str            ┆ u32   ┆ f64       │\n",
       "╞════════════════╪═══════╪═══════════╡\n",
       "│ 34             ┆ 34    ┆ 14.345992 │\n",
       "│ 33             ┆ 31    ┆ 13.080169 │\n",
       "│ 32             ┆ 28    ┆ 11.814346 │\n",
       "│ 35             ┆ 26    ┆ 10.970464 │\n",
       "│ 27             ┆ 16    ┆ 6.751055  │\n",
       "│ …              ┆ …     ┆ …         │\n",
       "│ 23             ┆ 2     ┆ 0.843882  │\n",
       "│ 10             ┆ 1     ┆ 0.421941  │\n",
       "│ 15             ┆ 1     ┆ 0.421941  │\n",
       "│ 08             ┆ 1     ┆ 0.421941  │\n",
       "│ 14             ┆ 1     ┆ 0.421941  │\n",
       "└────────────────┴───────┴───────────┘"
      ]
     },
     "metadata": {},
     "output_type": "display_data"
    },
    {
     "data": {},
     "metadata": {},
     "output_type": "display_data"
    },
    {
     "data": {
      "application/vnd.holoviews_exec.v0+json": "",
      "text/html": [
       "<div id='4de45393-a6bb-4400-9433-0fcb3c903bc3'>\n",
       "  <div id=\"f462ef15-8b5d-4825-96bf-d84e86b228ad\" data-root-id=\"4de45393-a6bb-4400-9433-0fcb3c903bc3\" style=\"display: contents;\"></div>\n",
       "</div>\n",
       "<script type=\"application/javascript\">(function(root) {\n",
       "  var docs_json = {\"015423aa-492b-4de8-9251-013cba9465a5\":{\"version\":\"3.7.2\",\"title\":\"Bokeh Application\",\"roots\":[{\"type\":\"object\",\"name\":\"Row\",\"id\":\"4de45393-a6bb-4400-9433-0fcb3c903bc3\",\"attributes\":{\"name\":\"Row00455\",\"tags\":[\"embedded\"],\"stylesheets\":[\"\\n:host(.pn-loading):before, .pn-loading:before {\\n  background-color: #c3c3c3;\\n  mask-size: auto calc(min(50%, 400px));\\n  -webkit-mask-size: auto calc(min(50%, 400px));\\n}\",{\"type\":\"object\",\"name\":\"ImportedStyleSheet\",\"id\":\"fb906bac-ae61-4f10-bddb-e0a316cbf40e\",\"attributes\":{\"url\":\"https://cdn.holoviz.org/panel/1.6.2/dist/css/loading.css\"}},{\"type\":\"object\",\"name\":\"ImportedStyleSheet\",\"id\":\"60021566-3eb2-442a-9efe-e493e1dc888d\",\"attributes\":{\"url\":\"https://cdn.holoviz.org/panel/1.6.2/dist/css/listpanel.css\"}},{\"type\":\"object\",\"name\":\"ImportedStyleSheet\",\"id\":\"8fd158da-05f7-4161-847f-a0799dc90164\",\"attributes\":{\"url\":\"https://cdn.holoviz.org/panel/1.6.2/dist/bundled/theme/default.css\"}},{\"type\":\"object\",\"name\":\"ImportedStyleSheet\",\"id\":\"bad3175a-6170-43c3-b3c5-22db748e02fd\",\"attributes\":{\"url\":\"https://cdn.holoviz.org/panel/1.6.2/dist/bundled/theme/native.css\"}}],\"min_width\":700,\"margin\":0,\"sizing_mode\":\"stretch_width\",\"align\":\"start\",\"children\":[{\"type\":\"object\",\"name\":\"Spacer\",\"id\":\"72d00c66-7638-4aaa-966a-3b168de05b74\",\"attributes\":{\"name\":\"HSpacer00459\",\"stylesheets\":[\"\\n:host(.pn-loading):before, .pn-loading:before {\\n  background-color: #c3c3c3;\\n  mask-size: auto calc(min(50%, 400px));\\n  -webkit-mask-size: auto calc(min(50%, 400px));\\n}\",{\"id\":\"fb906bac-ae61-4f10-bddb-e0a316cbf40e\"},{\"id\":\"8fd158da-05f7-4161-847f-a0799dc90164\"},{\"id\":\"bad3175a-6170-43c3-b3c5-22db748e02fd\"}],\"margin\":0,\"sizing_mode\":\"stretch_width\",\"align\":\"start\"}},{\"type\":\"object\",\"name\":\"Figure\",\"id\":\"bca16821-73d4-4200-ad21-0e3112ac5c73\",\"attributes\":{\"width\":700,\"height\":300,\"margin\":[5,10],\"sizing_mode\":\"fixed\",\"align\":\"start\",\"x_range\":{\"type\":\"object\",\"name\":\"FactorRange\",\"id\":\"579819f9-8390-4f0e-97b7-77d4edf2f4cd\",\"attributes\":{\"name\":\"post_str_blast\",\"tags\":[[[\"post_str_blast\",null]],[]],\"factors\":[\"34\",\"33\",\"32\",\"35\",\"27\",\"28\",\"31\",\"30\",\"29\",\"26\",\"24\",\"22\",\"21\",\"19\",\"25\",\"20\",\"16\",\"17\",\"23\",\"10\",\"15\",\"08\",\"14\"]}},\"y_range\":{\"type\":\"object\",\"name\":\"Range1d\",\"id\":\"b1ec735e-38e8-4610-8b02-54982e2c785c\",\"attributes\":{\"name\":\"percent\",\"tags\":[[[\"percent\",null]],{\"type\":\"map\",\"entries\":[[\"invert_yaxis\",false],[\"autorange\",false]]}],\"end\":15.738396624472573,\"reset_start\":0.0,\"reset_end\":15.738396624472573}},\"x_scale\":{\"type\":\"object\",\"name\":\"CategoricalScale\",\"id\":\"cfd63e73-4b49-47a3-964f-c8748d4ac04e\"},\"y_scale\":{\"type\":\"object\",\"name\":\"LinearScale\",\"id\":\"66ca12f5-0d58-4a5b-a280-56da5cf46845\"},\"title\":{\"type\":\"object\",\"name\":\"Title\",\"id\":\"e60e9987-dd35-4ddb-89fe-363ecab002c2\",\"attributes\":{\"text_color\":\"black\",\"text_font_size\":\"12pt\"}},\"renderers\":[{\"type\":\"object\",\"name\":\"GlyphRenderer\",\"id\":\"c43c5bbe-4b2d-44ea-a5dc-7d1d9d6cdea5\",\"attributes\":{\"data_source\":{\"type\":\"object\",\"name\":\"ColumnDataSource\",\"id\":\"92c0aa0b-e62b-4660-80d8-e55f9f50c4aa\",\"attributes\":{\"selected\":{\"type\":\"object\",\"name\":\"Selection\",\"id\":\"1236af7a-a87c-404f-9190-51a7ae735526\",\"attributes\":{\"indices\":[],\"line_indices\":[]}},\"selection_policy\":{\"type\":\"object\",\"name\":\"UnionRenderers\",\"id\":\"9aa48564-36e0-4aa3-90a6-f977dfd24232\"},\"data\":{\"type\":\"map\",\"entries\":[[\"post_str_blast\",[\"34\",\"33\",\"32\",\"35\",\"27\",\"28\",\"31\",\"30\",\"29\",\"26\",\"24\",\"22\",\"21\",\"19\",\"25\",\"20\",\"16\",\"17\",\"23\",\"10\",\"15\",\"08\",\"14\"]],[\"percent\",{\"type\":\"ndarray\",\"array\":{\"type\":\"bytes\",\"data\":\"t+5PziWxLECnWcHhCykqQJbEMvXxoCdAjLbTrODwJUCs4PCFFAEbQKHSkT0DURlAodKRPQNRGUCBqHRkz0AUQIGodGTPQBRArODwhRQBC0CWxDL18aAHQGyMttOs4ABAbIy206zgAEBsjLbTrOAAQKzg8IUUAfs/gah0ZM9A9D+BqHRkz0D0P6zg8IUUAes/rODwhRQB6z+s4PCFFAHbP6zg8IUUAds/rODwhRQB2z+s4PCFFAHbPw==\"},\"shape\":[23],\"dtype\":\"float64\",\"order\":\"little\"}]]}}},\"view\":{\"type\":\"object\",\"name\":\"CDSView\",\"id\":\"ea179c6e-b2d6-488e-9bf3-64d10f394d6e\",\"attributes\":{\"filter\":{\"type\":\"object\",\"name\":\"AllIndices\",\"id\":\"9655306f-b182-441a-be81-cb71093f4b9c\"}}},\"glyph\":{\"type\":\"object\",\"name\":\"VBar\",\"id\":\"981cf7e1-fdaf-40ae-a765-8ce0ab28b9df\",\"attributes\":{\"tags\":[\"apply_ranges\"],\"x\":{\"type\":\"field\",\"field\":\"post_str_blast\"},\"width\":{\"type\":\"value\",\"value\":0.8},\"top\":{\"type\":\"field\",\"field\":\"percent\"},\"fill_color\":{\"type\":\"value\",\"value\":\"#30a2da\"},\"hatch_color\":{\"type\":\"value\",\"value\":\"#30a2da\"}}},\"selection_glyph\":{\"type\":\"object\",\"name\":\"VBar\",\"id\":\"89aa5175-c56f-459c-a182-65523253d196\",\"attributes\":{\"tags\":[\"apply_ranges\"],\"x\":{\"type\":\"field\",\"field\":\"post_str_blast\"},\"width\":{\"type\":\"value\",\"value\":0.8},\"bottom\":{\"type\":\"value\",\"value\":0},\"top\":{\"type\":\"field\",\"field\":\"percent\"},\"line_color\":{\"type\":\"value\",\"value\":\"black\"},\"line_alpha\":{\"type\":\"value\",\"value\":1.0},\"line_width\":{\"type\":\"value\",\"value\":1},\"line_join\":{\"type\":\"value\",\"value\":\"bevel\"},\"line_cap\":{\"type\":\"value\",\"value\":\"butt\"},\"line_dash\":{\"type\":\"value\",\"value\":[]},\"line_dash_offset\":{\"type\":\"value\",\"value\":0},\"fill_color\":{\"type\":\"value\",\"value\":\"#30a2da\"},\"fill_alpha\":{\"type\":\"value\",\"value\":1.0},\"hatch_color\":{\"type\":\"value\",\"value\":\"#30a2da\"},\"hatch_alpha\":{\"type\":\"value\",\"value\":1.0},\"hatch_scale\":{\"type\":\"value\",\"value\":12.0},\"hatch_pattern\":{\"type\":\"value\",\"value\":null},\"hatch_weight\":{\"type\":\"value\",\"value\":1.0}}},\"nonselection_glyph\":{\"type\":\"object\",\"name\":\"VBar\",\"id\":\"03cb7897-c3de-426c-b245-5eec2e3ff274\",\"attributes\":{\"tags\":[\"apply_ranges\"],\"x\":{\"type\":\"field\",\"field\":\"post_str_blast\"},\"width\":{\"type\":\"value\",\"value\":0.8},\"top\":{\"type\":\"field\",\"field\":\"percent\"},\"line_alpha\":{\"type\":\"value\",\"value\":0.1},\"fill_color\":{\"type\":\"value\",\"value\":\"#30a2da\"},\"fill_alpha\":{\"type\":\"value\",\"value\":0.1},\"hatch_color\":{\"type\":\"value\",\"value\":\"#30a2da\"},\"hatch_alpha\":{\"type\":\"value\",\"value\":0.1}}},\"muted_glyph\":{\"type\":\"object\",\"name\":\"VBar\",\"id\":\"55559684-2e18-49ac-9f28-a5262190823f\",\"attributes\":{\"tags\":[\"apply_ranges\"],\"x\":{\"type\":\"field\",\"field\":\"post_str_blast\"},\"width\":{\"type\":\"value\",\"value\":0.8},\"top\":{\"type\":\"field\",\"field\":\"percent\"},\"line_alpha\":{\"type\":\"value\",\"value\":0.2},\"fill_color\":{\"type\":\"value\",\"value\":\"#30a2da\"},\"fill_alpha\":{\"type\":\"value\",\"value\":0.2},\"hatch_color\":{\"type\":\"value\",\"value\":\"#30a2da\"},\"hatch_alpha\":{\"type\":\"value\",\"value\":0.2}}}}},{\"type\":\"object\",\"name\":\"Span\",\"id\":\"0e131c37-f7e2-4ed6-ab30-9990f9bbb50f\",\"attributes\":{\"level\":\"glyph\",\"location\":4.3478260869565215,\"line_color\":\"red\",\"line_width\":3}}],\"toolbar\":{\"type\":\"object\",\"name\":\"Toolbar\",\"id\":\"51d394c8-d702-46b0-ad63-a8010e707fcf\",\"attributes\":{\"tools\":[{\"type\":\"object\",\"name\":\"WheelZoomTool\",\"id\":\"1b3ccc96-29c6-4ca5-a35b-dbb263f562b6\",\"attributes\":{\"tags\":[\"hv_created\"],\"renderers\":\"auto\",\"zoom_together\":\"none\"}},{\"type\":\"object\",\"name\":\"HoverTool\",\"id\":\"6d9fac43-b484-44e9-93dc-180e03a9db2e\",\"attributes\":{\"tags\":[\"hv_created\"],\"renderers\":[{\"id\":\"c43c5bbe-4b2d-44ea-a5dc-7d1d9d6cdea5\"}],\"tooltips\":[[\"post_str_blast\",\"@{post_str_blast}\"],[\"percent\",\"@{percent}\"]]}},{\"type\":\"object\",\"name\":\"SaveTool\",\"id\":\"0bb01f1b-981b-4fc0-8ddf-07d7e071f530\"},{\"type\":\"object\",\"name\":\"PanTool\",\"id\":\"7ce15360-5be5-42fe-ab37-ea94e978187b\"},{\"type\":\"object\",\"name\":\"BoxZoomTool\",\"id\":\"12025c6e-156e-4e08-b2df-038cd66d3bb4\",\"attributes\":{\"dimensions\":\"both\",\"overlay\":{\"type\":\"object\",\"name\":\"BoxAnnotation\",\"id\":\"608cce8c-f064-4803-a089-cbcbd9eae301\",\"attributes\":{\"syncable\":false,\"line_color\":\"black\",\"line_alpha\":1.0,\"line_width\":2,\"line_dash\":[4,4],\"fill_color\":\"lightgrey\",\"fill_alpha\":0.5,\"level\":\"overlay\",\"visible\":false,\"left\":{\"type\":\"number\",\"value\":\"nan\"},\"right\":{\"type\":\"number\",\"value\":\"nan\"},\"top\":{\"type\":\"number\",\"value\":\"nan\"},\"bottom\":{\"type\":\"number\",\"value\":\"nan\"},\"left_units\":\"canvas\",\"right_units\":\"canvas\",\"top_units\":\"canvas\",\"bottom_units\":\"canvas\",\"handles\":{\"type\":\"object\",\"name\":\"BoxInteractionHandles\",\"id\":\"08d8e344-24ae-45b4-b17a-17fd7891e4e8\",\"attributes\":{\"all\":{\"type\":\"object\",\"name\":\"AreaVisuals\",\"id\":\"3722d830-9071-4488-8cfd-2ba3ef3f4e16\",\"attributes\":{\"fill_color\":\"white\",\"hover_fill_color\":\"lightgray\"}}}}}}}},{\"type\":\"object\",\"name\":\"ResetTool\",\"id\":\"f5dec3fd-2b2b-43be-8b84-b301b1ca8fce\"}],\"active_drag\":{\"id\":\"7ce15360-5be5-42fe-ab37-ea94e978187b\"}}},\"left\":[{\"type\":\"object\",\"name\":\"LinearAxis\",\"id\":\"9556f2b7-1515-41b8-9853-6b42a9c0fa96\",\"attributes\":{\"ticker\":{\"type\":\"object\",\"name\":\"BasicTicker\",\"id\":\"60af4bc8-33a0-4174-a298-641f5f65521a\",\"attributes\":{\"mantissas\":[1,2,5]}},\"formatter\":{\"type\":\"object\",\"name\":\"BasicTickFormatter\",\"id\":\"006e4df3-daa6-4177-8845-104a594fb677\"},\"axis_label\":\"percent\",\"major_label_policy\":{\"type\":\"object\",\"name\":\"AllLabels\",\"id\":\"67d862e0-8c65-48aa-a348-6bd856dd875e\"}}}],\"below\":[{\"type\":\"object\",\"name\":\"CategoricalAxis\",\"id\":\"d38dd6ae-aee6-45b8-a28e-ae0f3950d536\",\"attributes\":{\"ticker\":{\"type\":\"object\",\"name\":\"CategoricalTicker\",\"id\":\"6f027925-18dd-44f0-9ff3-5a27bec403e8\"},\"formatter\":{\"type\":\"object\",\"name\":\"CategoricalTickFormatter\",\"id\":\"381d5079-b45e-48f2-8e1f-0a50c1becb2e\"},\"axis_label\":\"post_str_blast\",\"major_label_policy\":{\"type\":\"object\",\"name\":\"AllLabels\",\"id\":\"0864ed29-1104-4baf-ac9a-f70e4bbc1d9d\"}}}],\"center\":[{\"type\":\"object\",\"name\":\"Grid\",\"id\":\"f6640074-5260-4727-997a-26094faefa6d\",\"attributes\":{\"axis\":{\"id\":\"d38dd6ae-aee6-45b8-a28e-ae0f3950d536\"},\"grid_line_color\":null}},{\"type\":\"object\",\"name\":\"Grid\",\"id\":\"b45d36c2-c4af-4112-9192-ce7b58fd872a\",\"attributes\":{\"dimension\":1,\"axis\":{\"id\":\"9556f2b7-1515-41b8-9853-6b42a9c0fa96\"},\"grid_line_color\":null}}],\"min_border_top\":10,\"min_border_bottom\":10,\"min_border_left\":10,\"min_border_right\":10,\"output_backend\":\"webgl\"}},{\"type\":\"object\",\"name\":\"Spacer\",\"id\":\"7e3b5e2a-f508-4cd9-b9a7-8d03b0b5ba65\",\"attributes\":{\"name\":\"HSpacer00460\",\"stylesheets\":[\"\\n:host(.pn-loading):before, .pn-loading:before {\\n  background-color: #c3c3c3;\\n  mask-size: auto calc(min(50%, 400px));\\n  -webkit-mask-size: auto calc(min(50%, 400px));\\n}\",{\"id\":\"fb906bac-ae61-4f10-bddb-e0a316cbf40e\"},{\"id\":\"8fd158da-05f7-4161-847f-a0799dc90164\"},{\"id\":\"bad3175a-6170-43c3-b3c5-22db748e02fd\"}],\"margin\":0,\"sizing_mode\":\"stretch_width\",\"align\":\"start\"}}]}}],\"defs\":[{\"type\":\"model\",\"name\":\"ReactiveHTML1\"},{\"type\":\"model\",\"name\":\"FlexBox1\",\"properties\":[{\"name\":\"align_content\",\"kind\":\"Any\",\"default\":\"flex-start\"},{\"name\":\"align_items\",\"kind\":\"Any\",\"default\":\"flex-start\"},{\"name\":\"flex_direction\",\"kind\":\"Any\",\"default\":\"row\"},{\"name\":\"flex_wrap\",\"kind\":\"Any\",\"default\":\"wrap\"},{\"name\":\"gap\",\"kind\":\"Any\",\"default\":\"\"},{\"name\":\"justify_content\",\"kind\":\"Any\",\"default\":\"flex-start\"}]},{\"type\":\"model\",\"name\":\"FloatPanel1\",\"properties\":[{\"name\":\"config\",\"kind\":\"Any\",\"default\":{\"type\":\"map\"}},{\"name\":\"contained\",\"kind\":\"Any\",\"default\":true},{\"name\":\"position\",\"kind\":\"Any\",\"default\":\"right-top\"},{\"name\":\"offsetx\",\"kind\":\"Any\",\"default\":null},{\"name\":\"offsety\",\"kind\":\"Any\",\"default\":null},{\"name\":\"theme\",\"kind\":\"Any\",\"default\":\"primary\"},{\"name\":\"status\",\"kind\":\"Any\",\"default\":\"normalized\"}]},{\"type\":\"model\",\"name\":\"GridStack1\",\"properties\":[{\"name\":\"ncols\",\"kind\":\"Any\",\"default\":null},{\"name\":\"nrows\",\"kind\":\"Any\",\"default\":null},{\"name\":\"allow_resize\",\"kind\":\"Any\",\"default\":true},{\"name\":\"allow_drag\",\"kind\":\"Any\",\"default\":true},{\"name\":\"state\",\"kind\":\"Any\",\"default\":[]}]},{\"type\":\"model\",\"name\":\"drag1\",\"properties\":[{\"name\":\"slider_width\",\"kind\":\"Any\",\"default\":5},{\"name\":\"slider_color\",\"kind\":\"Any\",\"default\":\"black\"},{\"name\":\"value\",\"kind\":\"Any\",\"default\":50}]},{\"type\":\"model\",\"name\":\"click1\",\"properties\":[{\"name\":\"terminal_output\",\"kind\":\"Any\",\"default\":\"\"},{\"name\":\"debug_name\",\"kind\":\"Any\",\"default\":\"\"},{\"name\":\"clears\",\"kind\":\"Any\",\"default\":0}]},{\"type\":\"model\",\"name\":\"FastWrapper1\",\"properties\":[{\"name\":\"object\",\"kind\":\"Any\",\"default\":null},{\"name\":\"style\",\"kind\":\"Any\",\"default\":null}]},{\"type\":\"model\",\"name\":\"NotificationArea1\",\"properties\":[{\"name\":\"js_events\",\"kind\":\"Any\",\"default\":{\"type\":\"map\"}},{\"name\":\"max_notifications\",\"kind\":\"Any\",\"default\":5},{\"name\":\"notifications\",\"kind\":\"Any\",\"default\":[]},{\"name\":\"position\",\"kind\":\"Any\",\"default\":\"bottom-right\"},{\"name\":\"_clear\",\"kind\":\"Any\",\"default\":0},{\"name\":\"types\",\"kind\":\"Any\",\"default\":[{\"type\":\"map\",\"entries\":[[\"type\",\"warning\"],[\"background\",\"#ffc107\"],[\"icon\",{\"type\":\"map\",\"entries\":[[\"className\",\"fas fa-exclamation-triangle\"],[\"tagName\",\"i\"],[\"color\",\"white\"]]}]]},{\"type\":\"map\",\"entries\":[[\"type\",\"info\"],[\"background\",\"#007bff\"],[\"icon\",{\"type\":\"map\",\"entries\":[[\"className\",\"fas fa-info-circle\"],[\"tagName\",\"i\"],[\"color\",\"white\"]]}]]}]}]},{\"type\":\"model\",\"name\":\"Notification\",\"properties\":[{\"name\":\"background\",\"kind\":\"Any\",\"default\":null},{\"name\":\"duration\",\"kind\":\"Any\",\"default\":3000},{\"name\":\"icon\",\"kind\":\"Any\",\"default\":null},{\"name\":\"message\",\"kind\":\"Any\",\"default\":\"\"},{\"name\":\"notification_type\",\"kind\":\"Any\",\"default\":null},{\"name\":\"_rendered\",\"kind\":\"Any\",\"default\":false},{\"name\":\"_destroyed\",\"kind\":\"Any\",\"default\":false}]},{\"type\":\"model\",\"name\":\"TemplateActions1\",\"properties\":[{\"name\":\"open_modal\",\"kind\":\"Any\",\"default\":0},{\"name\":\"close_modal\",\"kind\":\"Any\",\"default\":0}]},{\"type\":\"model\",\"name\":\"BootstrapTemplateActions1\",\"properties\":[{\"name\":\"open_modal\",\"kind\":\"Any\",\"default\":0},{\"name\":\"close_modal\",\"kind\":\"Any\",\"default\":0}]},{\"type\":\"model\",\"name\":\"TemplateEditor1\",\"properties\":[{\"name\":\"layout\",\"kind\":\"Any\",\"default\":[]}]},{\"type\":\"model\",\"name\":\"MaterialTemplateActions1\",\"properties\":[{\"name\":\"open_modal\",\"kind\":\"Any\",\"default\":0},{\"name\":\"close_modal\",\"kind\":\"Any\",\"default\":0}]},{\"type\":\"model\",\"name\":\"ReactiveESM1\",\"properties\":[{\"name\":\"esm_constants\",\"kind\":\"Any\",\"default\":{\"type\":\"map\"}}]},{\"type\":\"model\",\"name\":\"JSComponent1\",\"properties\":[{\"name\":\"esm_constants\",\"kind\":\"Any\",\"default\":{\"type\":\"map\"}}]},{\"type\":\"model\",\"name\":\"ReactComponent1\",\"properties\":[{\"name\":\"esm_constants\",\"kind\":\"Any\",\"default\":{\"type\":\"map\"}}]},{\"type\":\"model\",\"name\":\"AnyWidgetComponent1\",\"properties\":[{\"name\":\"esm_constants\",\"kind\":\"Any\",\"default\":{\"type\":\"map\"}}]},{\"type\":\"model\",\"name\":\"request_value1\",\"properties\":[{\"name\":\"fill\",\"kind\":\"Any\",\"default\":\"none\"},{\"name\":\"_synced\",\"kind\":\"Any\",\"default\":null},{\"name\":\"_request_sync\",\"kind\":\"Any\",\"default\":0}]}]}};\n",
       "  var render_items = [{\"docid\":\"015423aa-492b-4de8-9251-013cba9465a5\",\"roots\":{\"4de45393-a6bb-4400-9433-0fcb3c903bc3\":\"f462ef15-8b5d-4825-96bf-d84e86b228ad\"},\"root_ids\":[\"4de45393-a6bb-4400-9433-0fcb3c903bc3\"]}];\n",
       "  var docs = Object.values(docs_json)\n",
       "  if (!docs) {\n",
       "    return\n",
       "  }\n",
       "  const py_version = docs[0].version.replace('rc', '-rc.').replace('.dev', '-dev.')\n",
       "  async function embed_document(root) {\n",
       "    var Bokeh = get_bokeh(root)\n",
       "    await Bokeh.embed.embed_items_notebook(docs_json, render_items);\n",
       "    for (const render_item of render_items) {\n",
       "      for (const root_id of render_item.root_ids) {\n",
       "\tconst id_el = document.getElementById(root_id)\n",
       "\tif (id_el.children.length && id_el.children[0].hasAttribute('data-root-id')) {\n",
       "\t  const root_el = id_el.children[0]\n",
       "\t  root_el.id = root_el.id + '-rendered'\n",
       "\t  for (const child of root_el.children) {\n",
       "            // Ensure JupyterLab does not capture keyboard shortcuts\n",
       "            // see: https://jupyterlab.readthedocs.io/en/4.1.x/extension/notebook.html#keyboard-interaction-model\n",
       "\t    child.setAttribute('data-lm-suppress-shortcuts', 'true')\n",
       "\t  }\n",
       "\t}\n",
       "      }\n",
       "    }\n",
       "  }\n",
       "  function get_bokeh(root) {\n",
       "    if (root.Bokeh === undefined) {\n",
       "      return null\n",
       "    } else if (root.Bokeh.version !== py_version) {\n",
       "      if (root.Bokeh.versions === undefined || !root.Bokeh.versions.has(py_version)) {\n",
       "\treturn null\n",
       "      }\n",
       "      return root.Bokeh.versions.get(py_version);\n",
       "    } else if (root.Bokeh.version === py_version) {\n",
       "      return root.Bokeh\n",
       "    }\n",
       "    return null\n",
       "  }\n",
       "  function is_loaded(root) {\n",
       "    var Bokeh = get_bokeh(root)\n",
       "    return (Bokeh != null && Bokeh.Panel !== undefined)\n",
       "  }\n",
       "  if (is_loaded(root)) {\n",
       "    embed_document(root);\n",
       "  } else {\n",
       "    var attempts = 0;\n",
       "    var timer = setInterval(function(root) {\n",
       "      if (is_loaded(root)) {\n",
       "        clearInterval(timer);\n",
       "        embed_document(root);\n",
       "      } else if (document.readyState == \"complete\") {\n",
       "        attempts++;\n",
       "        if (attempts > 200) {\n",
       "          clearInterval(timer);\n",
       "\t  var Bokeh = get_bokeh(root)\n",
       "\t  if (Bokeh == null || Bokeh.Panel == null) {\n",
       "            console.warn(\"Panel: ERROR: Unable to run Panel code because Bokeh or Panel library is missing\");\n",
       "\t  } else {\n",
       "\t    console.warn(\"Panel: WARNING: Attempting to render but not all required libraries could be resolved.\")\n",
       "\t    embed_document(root)\n",
       "\t  }\n",
       "        }\n",
       "      }\n",
       "    }, 25, root)\n",
       "  }\n",
       "})(window);</script>"
      ],
      "text/plain": [
       ":Overlay\n",
       "   .Bars.I  :Bars   [post_str_blast]   (percent)\n",
       "   .HLine.I :HLine   [x,y]"
      ]
     },
     "metadata": {
      "application/vnd.holoviews_exec.v0+json": {
       "id": "4de45393-a6bb-4400-9433-0fcb3c903bc3"
      }
     },
     "output_type": "display_data"
    },
    {
     "data": {
      "text/html": [
       "<div><style>\n",
       ".dataframe > thead > tr,\n",
       ".dataframe > tbody > tr {\n",
       "  text-align: right;\n",
       "  white-space: pre-wrap;\n",
       "}\n",
       "</style>\n",
       "<small>shape: (10, 21)</small><table border=\"1\" class=\"dataframe\"><thead><tr><th>fecha</th><th>sorteo</th><th>bolillas</th><th>id</th><th>combo</th><th>b1</th><th>b2</th><th>b3</th><th>b4</th><th>b5</th><th>str_b1</th><th>str_b2</th><th>str_b3</th><th>str_b4</th><th>str_b5</th><th>post_str_b1</th><th>post_str_blast</th><th>is_rare_combination</th><th>reason</th><th>jumps_map</th><th>unijump</th></tr><tr><td>str</td><td>str</td><td>str</td><td>str</td><td>array[u8, 5]</td><td>u8</td><td>u8</td><td>u8</td><td>u8</td><td>u8</td><td>str</td><td>str</td><td>str</td><td>str</td><td>str</td><td>str</td><td>str</td><td>bool</td><td>u8</td><td>str</td><td>i64</td></tr></thead><tbody><tr><td>&quot;04/03/2025&quot;</td><td>&quot;4145&quot;</td><td>&quot;24 09 14 16 22&quot;</td><td>&quot;0914162224&quot;</td><td>[9, 14, … 24]</td><td>9</td><td>14</td><td>16</td><td>22</td><td>24</td><td>&quot;09&quot;</td><td>&quot;14&quot;</td><td>&quot;16&quot;</td><td>&quot;22&quot;</td><td>&quot;24&quot;</td><td>&quot;06&quot;</td><td>&quot;22&quot;</td><td>true</td><td>16</td><td>&quot;05_02_06_02&quot;</td><td>-15</td></tr><tr><td>&quot;02/02/2025&quot;</td><td>&quot;4115&quot;</td><td>&quot;01 13 10 06 24&quot;</td><td>&quot;0106101324&quot;</td><td>[1, 6, … 24]</td><td>1</td><td>6</td><td>10</td><td>13</td><td>24</td><td>&quot;01&quot;</td><td>&quot;06&quot;</td><td>&quot;10&quot;</td><td>&quot;13&quot;</td><td>&quot;24&quot;</td><td>&quot;17&quot;</td><td>&quot;33&quot;</td><td>false</td><td>0</td><td>&quot;05_04_03_11&quot;</td><td>9</td></tr><tr><td>&quot;31/12/2024&quot;</td><td>&quot;4082&quot;</td><td>&quot;01 13 16 24 15&quot;</td><td>&quot;0113151624&quot;</td><td>[1, 13, … 24]</td><td>1</td><td>13</td><td>15</td><td>16</td><td>24</td><td>&quot;01&quot;</td><td>&quot;13&quot;</td><td>&quot;15&quot;</td><td>&quot;16&quot;</td><td>&quot;24&quot;</td><td>&quot;17&quot;</td><td>&quot;35&quot;</td><td>false</td><td>0</td><td>&quot;12_02_01_08&quot;</td><td>-1</td></tr><tr><td>&quot;24/12/2024&quot;</td><td>&quot;4075&quot;</td><td>&quot;07 03 24 18 15&quot;</td><td>&quot;0307151824&quot;</td><td>[3, 7, … 24]</td><td>3</td><td>7</td><td>15</td><td>18</td><td>24</td><td>&quot;03&quot;</td><td>&quot;07&quot;</td><td>&quot;15&quot;</td><td>&quot;18&quot;</td><td>&quot;24&quot;</td><td>&quot;05&quot;</td><td>&quot;28&quot;</td><td>false</td><td>0</td><td>&quot;04_08_03_06&quot;</td><td>17</td></tr><tr><td>&quot;05/12/2024&quot;</td><td>&quot;4056&quot;</td><td>&quot;15 23 05 24 08&quot;</td><td>&quot;0508152324&quot;</td><td>[5, 8, … 24]</td><td>5</td><td>8</td><td>15</td><td>23</td><td>24</td><td>&quot;05&quot;</td><td>&quot;08&quot;</td><td>&quot;15&quot;</td><td>&quot;23&quot;</td><td>&quot;24&quot;</td><td>&quot;05&quot;</td><td>&quot;27&quot;</td><td>false</td><td>0</td><td>&quot;03_07_08_01&quot;</td><td>-5</td></tr><tr><td>&quot;19/11/2024&quot;</td><td>&quot;4040&quot;</td><td>&quot;07 10 21 17 24&quot;</td><td>&quot;0710172124&quot;</td><td>[7, 10, … 24]</td><td>7</td><td>10</td><td>17</td><td>21</td><td>24</td><td>&quot;07&quot;</td><td>&quot;10&quot;</td><td>&quot;17&quot;</td><td>&quot;21&quot;</td><td>&quot;24&quot;</td><td>&quot;07&quot;</td><td>&quot;30&quot;</td><td>true</td><td>16</td><td>&quot;03_07_04_03&quot;</td><td>9</td></tr><tr><td>&quot;18/11/2024&quot;</td><td>&quot;4039&quot;</td><td>&quot;01 07 19 23 24&quot;</td><td>&quot;0107192324&quot;</td><td>[1, 7, … 24]</td><td>1</td><td>7</td><td>19</td><td>23</td><td>24</td><td>&quot;01&quot;</td><td>&quot;07&quot;</td><td>&quot;19&quot;</td><td>&quot;23&quot;</td><td>&quot;24&quot;</td><td>&quot;07&quot;</td><td>&quot;24&quot;</td><td>false</td><td>0</td><td>&quot;06_12_04_01&quot;</td><td>19</td></tr><tr><td>&quot;12/10/2024&quot;</td><td>&quot;4002&quot;</td><td>&quot;03 02 07 21 24&quot;</td><td>&quot;0203072124&quot;</td><td>[2, 3, … 24]</td><td>2</td><td>3</td><td>7</td><td>21</td><td>24</td><td>&quot;02&quot;</td><td>&quot;03&quot;</td><td>&quot;07&quot;</td><td>&quot;21&quot;</td><td>&quot;24&quot;</td><td>&quot;06&quot;</td><td>&quot;31&quot;</td><td>false</td><td>0</td><td>&quot;01_04_14_03&quot;</td><td>-28</td></tr><tr><td>&quot;11/10/2024&quot;</td><td>&quot;4001&quot;</td><td>&quot;01 07 14 05 24&quot;</td><td>&quot;0105071424&quot;</td><td>[1, 5, … 24]</td><td>1</td><td>5</td><td>7</td><td>14</td><td>24</td><td>&quot;01&quot;</td><td>&quot;05&quot;</td><td>&quot;07&quot;</td><td>&quot;14&quot;</td><td>&quot;24&quot;</td><td>&quot;02&quot;</td><td>&quot;24&quot;</td><td>true</td><td>16</td><td>&quot;04_02_07_10&quot;</td><td>-9</td></tr><tr><td>&quot;28/08/2024&quot;</td><td>&quot;3957&quot;</td><td>&quot;13 21 02 24 07&quot;</td><td>&quot;0207132124&quot;</td><td>[2, 7, … 24]</td><td>2</td><td>7</td><td>13</td><td>21</td><td>24</td><td>&quot;02&quot;</td><td>&quot;07&quot;</td><td>&quot;13&quot;</td><td>&quot;21&quot;</td><td>&quot;24&quot;</td><td>&quot;04&quot;</td><td>&quot;32&quot;</td><td>false</td><td>0</td><td>&quot;05_06_08_03&quot;</td><td>-8</td></tr></tbody></table></div>"
      ],
      "text/plain": [
       "shape: (10, 21)\n",
       "┌────────────┬────────┬─────────────┬────────────┬───┬─────────────┬────────┬────────────┬─────────┐\n",
       "│ fecha      ┆ sorteo ┆ bolillas    ┆ id         ┆ … ┆ is_rare_com ┆ reason ┆ jumps_map  ┆ unijump │\n",
       "│ ---        ┆ ---    ┆ ---         ┆ ---        ┆   ┆ bination    ┆ ---    ┆ ---        ┆ ---     │\n",
       "│ str        ┆ str    ┆ str         ┆ str        ┆   ┆ ---         ┆ u8     ┆ str        ┆ i64     │\n",
       "│            ┆        ┆             ┆            ┆   ┆ bool        ┆        ┆            ┆         │\n",
       "╞════════════╪════════╪═════════════╪════════════╪═══╪═════════════╪════════╪════════════╪═════════╡\n",
       "│ 04/03/2025 ┆ 4145   ┆ 24 09 14 16 ┆ 0914162224 ┆ … ┆ true        ┆ 16     ┆ 05_02_06_0 ┆ -15     │\n",
       "│            ┆        ┆ 22          ┆            ┆   ┆             ┆        ┆ 2          ┆         │\n",
       "│ 02/02/2025 ┆ 4115   ┆ 01 13 10 06 ┆ 0106101324 ┆ … ┆ false       ┆ 0      ┆ 05_04_03_1 ┆ 9       │\n",
       "│            ┆        ┆ 24          ┆            ┆   ┆             ┆        ┆ 1          ┆         │\n",
       "│ 31/12/2024 ┆ 4082   ┆ 01 13 16 24 ┆ 0113151624 ┆ … ┆ false       ┆ 0      ┆ 12_02_01_0 ┆ -1      │\n",
       "│            ┆        ┆ 15          ┆            ┆   ┆             ┆        ┆ 8          ┆         │\n",
       "│ 24/12/2024 ┆ 4075   ┆ 07 03 24 18 ┆ 0307151824 ┆ … ┆ false       ┆ 0      ┆ 04_08_03_0 ┆ 17      │\n",
       "│            ┆        ┆ 15          ┆            ┆   ┆             ┆        ┆ 6          ┆         │\n",
       "│ 05/12/2024 ┆ 4056   ┆ 15 23 05 24 ┆ 0508152324 ┆ … ┆ false       ┆ 0      ┆ 03_07_08_0 ┆ -5      │\n",
       "│            ┆        ┆ 08          ┆            ┆   ┆             ┆        ┆ 1          ┆         │\n",
       "│ 19/11/2024 ┆ 4040   ┆ 07 10 21 17 ┆ 0710172124 ┆ … ┆ true        ┆ 16     ┆ 03_07_04_0 ┆ 9       │\n",
       "│            ┆        ┆ 24          ┆            ┆   ┆             ┆        ┆ 3          ┆         │\n",
       "│ 18/11/2024 ┆ 4039   ┆ 01 07 19 23 ┆ 0107192324 ┆ … ┆ false       ┆ 0      ┆ 06_12_04_0 ┆ 19      │\n",
       "│            ┆        ┆ 24          ┆            ┆   ┆             ┆        ┆ 1          ┆         │\n",
       "│ 12/10/2024 ┆ 4002   ┆ 03 02 07 21 ┆ 0203072124 ┆ … ┆ false       ┆ 0      ┆ 01_04_14_0 ┆ -28     │\n",
       "│            ┆        ┆ 24          ┆            ┆   ┆             ┆        ┆ 3          ┆         │\n",
       "│ 11/10/2024 ┆ 4001   ┆ 01 07 14 05 ┆ 0105071424 ┆ … ┆ true        ┆ 16     ┆ 04_02_07_1 ┆ -9      │\n",
       "│            ┆        ┆ 24          ┆            ┆   ┆             ┆        ┆ 0          ┆         │\n",
       "│ 28/08/2024 ┆ 3957   ┆ 13 21 02 24 ┆ 0207132124 ┆ … ┆ false       ┆ 0      ┆ 05_06_08_0 ┆ -8      │\n",
       "│            ┆        ┆ 07          ┆            ┆   ┆             ┆        ┆ 3          ┆         │\n",
       "└────────────┴────────┴─────────────┴────────────┴───┴─────────────┴────────┴────────────┴─────────┘"
      ]
     },
     "metadata": {},
     "output_type": "display_data"
    },
    {
     "data": {
      "text/html": [
       "<div><style>\n",
       ".dataframe > thead > tr,\n",
       ".dataframe > tbody > tr {\n",
       "  text-align: right;\n",
       "  white-space: pre-wrap;\n",
       "}\n",
       "</style>\n",
       "<small>shape: (234, 2)</small><table border=\"1\" class=\"dataframe\"><thead><tr><th>jumps_map</th><th>count</th></tr><tr><td>str</td><td>u32</td></tr></thead><tbody><tr><td>&quot;09_01_04_04&quot;</td><td>2</td></tr><tr><td>&quot;01_07_05_01&quot;</td><td>2</td></tr><tr><td>&quot;01_05_05_02&quot;</td><td>2</td></tr><tr><td>&quot;11_06_01_05&quot;</td><td>1</td></tr><tr><td>&quot;03_04_01_01&quot;</td><td>1</td></tr><tr><td>&hellip;</td><td>&hellip;</td></tr><tr><td>&quot;01_02_06_14&quot;</td><td>1</td></tr><tr><td>&quot;17_02_03_01&quot;</td><td>1</td></tr><tr><td>&quot;04_07_05_07&quot;</td><td>1</td></tr><tr><td>&quot;03_08_08_04&quot;</td><td>1</td></tr><tr><td>&quot;01_02_08_02&quot;</td><td>1</td></tr></tbody></table></div>"
      ],
      "text/plain": [
       "shape: (234, 2)\n",
       "┌─────────────┬───────┐\n",
       "│ jumps_map   ┆ count │\n",
       "│ ---         ┆ ---   │\n",
       "│ str         ┆ u32   │\n",
       "╞═════════════╪═══════╡\n",
       "│ 09_01_04_04 ┆ 2     │\n",
       "│ 01_07_05_01 ┆ 2     │\n",
       "│ 01_05_05_02 ┆ 2     │\n",
       "│ 11_06_01_05 ┆ 1     │\n",
       "│ 03_04_01_01 ┆ 1     │\n",
       "│ …           ┆ …     │\n",
       "│ 01_02_06_14 ┆ 1     │\n",
       "│ 17_02_03_01 ┆ 1     │\n",
       "│ 04_07_05_07 ┆ 1     │\n",
       "│ 03_08_08_04 ┆ 1     │\n",
       "│ 01_02_08_02 ┆ 1     │\n",
       "└─────────────┴───────┘"
      ]
     },
     "metadata": {},
     "output_type": "display_data"
    }
   ],
   "source": [
    "possible_blast, exclude_jump_maps_blast = plot_post_col(col='str_b5', post_col='post_str_blast', test_value=\"24\")"
   ]
  },
  {
   "cell_type": "code",
   "execution_count": 16,
   "metadata": {},
   "outputs": [],
   "source": [
    "b_count = rr.CHOOSE\n",
    "min_b = rr.MIN_B_VALUES[0]\n",
    "max_b = rr.MAX_B_VALUES[-1]\n",
    "\n",
    "\n",
    "combos = combinations(range(min_b, max_b + 1), b_count)\n",
    "# print(\"generating combos: \", len(list(combos)))"
   ]
  },
  {
   "cell_type": "code",
   "execution_count": 17,
   "metadata": {},
   "outputs": [
    {
     "name": "stdout",
     "output_type": "stream",
     "text": [
      "TOTAL_LINES=324632\n"
     ]
    },
    {
     "data": {
      "text/html": [
       "<div><style>\n",
       ".dataframe > thead > tr,\n",
       ".dataframe > tbody > tr {\n",
       "  text-align: right;\n",
       "  white-space: pre-wrap;\n",
       "}\n",
       "</style>\n",
       "<small>shape: (10, 18)</small><table border=\"1\" class=\"dataframe\"><thead><tr><th>id</th><th>combo</th><th>b1</th><th>b2</th><th>b3</th><th>b4</th><th>b5</th><th>str_b1</th><th>str_b2</th><th>str_b3</th><th>str_b4</th><th>str_b5</th><th>post_str_b1</th><th>post_str_blast</th><th>is_rare_combination</th><th>reason</th><th>jumps_map</th><th>unijump</th></tr><tr><td>str</td><td>array[u8, 5]</td><td>u8</td><td>u8</td><td>u8</td><td>u8</td><td>u8</td><td>str</td><td>str</td><td>str</td><td>str</td><td>str</td><td>str</td><td>str</td><td>bool</td><td>u8</td><td>str</td><td>i64</td></tr></thead><tbody><tr><td>&quot;0102030405&quot;</td><td>[1, 2, … 5]</td><td>1</td><td>2</td><td>3</td><td>4</td><td>5</td><td>&quot;01&quot;</td><td>&quot;02&quot;</td><td>&quot;03&quot;</td><td>&quot;04&quot;</td><td>&quot;05&quot;</td><td>null</td><td>null</td><td>true</td><td>8</td><td>&quot;01_01_01_01&quot;</td><td>0</td></tr><tr><td>&quot;0102030406&quot;</td><td>[1, 2, … 6]</td><td>1</td><td>2</td><td>3</td><td>4</td><td>6</td><td>&quot;01&quot;</td><td>&quot;02&quot;</td><td>&quot;03&quot;</td><td>&quot;04&quot;</td><td>&quot;06&quot;</td><td>&quot;01&quot;</td><td>&quot;05&quot;</td><td>true</td><td>8</td><td>&quot;01_01_01_02&quot;</td><td>1</td></tr><tr><td>&quot;0102030407&quot;</td><td>[1, 2, … 7]</td><td>1</td><td>2</td><td>3</td><td>4</td><td>7</td><td>&quot;01&quot;</td><td>&quot;02&quot;</td><td>&quot;03&quot;</td><td>&quot;04&quot;</td><td>&quot;07&quot;</td><td>&quot;01&quot;</td><td>&quot;06&quot;</td><td>true</td><td>8</td><td>&quot;01_01_01_03&quot;</td><td>2</td></tr><tr><td>&quot;0102030408&quot;</td><td>[1, 2, … 8]</td><td>1</td><td>2</td><td>3</td><td>4</td><td>8</td><td>&quot;01&quot;</td><td>&quot;02&quot;</td><td>&quot;03&quot;</td><td>&quot;04&quot;</td><td>&quot;08&quot;</td><td>&quot;01&quot;</td><td>&quot;07&quot;</td><td>true</td><td>8</td><td>&quot;01_01_01_04&quot;</td><td>3</td></tr><tr><td>&quot;0102030409&quot;</td><td>[1, 2, … 9]</td><td>1</td><td>2</td><td>3</td><td>4</td><td>9</td><td>&quot;01&quot;</td><td>&quot;02&quot;</td><td>&quot;03&quot;</td><td>&quot;04&quot;</td><td>&quot;09&quot;</td><td>&quot;01&quot;</td><td>&quot;08&quot;</td><td>true</td><td>8</td><td>&quot;01_01_01_05&quot;</td><td>4</td></tr><tr><td>&quot;0102030410&quot;</td><td>[1, 2, … 10]</td><td>1</td><td>2</td><td>3</td><td>4</td><td>10</td><td>&quot;01&quot;</td><td>&quot;02&quot;</td><td>&quot;03&quot;</td><td>&quot;04&quot;</td><td>&quot;10&quot;</td><td>&quot;01&quot;</td><td>&quot;09&quot;</td><td>true</td><td>8</td><td>&quot;01_01_01_06&quot;</td><td>5</td></tr><tr><td>&quot;0102030411&quot;</td><td>[1, 2, … 11]</td><td>1</td><td>2</td><td>3</td><td>4</td><td>11</td><td>&quot;01&quot;</td><td>&quot;02&quot;</td><td>&quot;03&quot;</td><td>&quot;04&quot;</td><td>&quot;11&quot;</td><td>&quot;01&quot;</td><td>&quot;10&quot;</td><td>true</td><td>8</td><td>&quot;01_01_01_07&quot;</td><td>6</td></tr><tr><td>&quot;0102030412&quot;</td><td>[1, 2, … 12]</td><td>1</td><td>2</td><td>3</td><td>4</td><td>12</td><td>&quot;01&quot;</td><td>&quot;02&quot;</td><td>&quot;03&quot;</td><td>&quot;04&quot;</td><td>&quot;12&quot;</td><td>&quot;01&quot;</td><td>&quot;11&quot;</td><td>true</td><td>8</td><td>&quot;01_01_01_08&quot;</td><td>7</td></tr><tr><td>&quot;0102030413&quot;</td><td>[1, 2, … 13]</td><td>1</td><td>2</td><td>3</td><td>4</td><td>13</td><td>&quot;01&quot;</td><td>&quot;02&quot;</td><td>&quot;03&quot;</td><td>&quot;04&quot;</td><td>&quot;13&quot;</td><td>&quot;01&quot;</td><td>&quot;12&quot;</td><td>true</td><td>8</td><td>&quot;01_01_01_09&quot;</td><td>8</td></tr><tr><td>&quot;0102030414&quot;</td><td>[1, 2, … 14]</td><td>1</td><td>2</td><td>3</td><td>4</td><td>14</td><td>&quot;01&quot;</td><td>&quot;02&quot;</td><td>&quot;03&quot;</td><td>&quot;04&quot;</td><td>&quot;14&quot;</td><td>&quot;01&quot;</td><td>&quot;13&quot;</td><td>true</td><td>8</td><td>&quot;01_01_01_10&quot;</td><td>9</td></tr></tbody></table></div>"
      ],
      "text/plain": [
       "shape: (10, 18)\n",
       "┌────────────┬──────────────┬─────┬─────┬───┬─────────────────────┬────────┬─────────────┬─────────┐\n",
       "│ id         ┆ combo        ┆ b1  ┆ b2  ┆ … ┆ is_rare_combination ┆ reason ┆ jumps_map   ┆ unijump │\n",
       "│ ---        ┆ ---          ┆ --- ┆ --- ┆   ┆ ---                 ┆ ---    ┆ ---         ┆ ---     │\n",
       "│ str        ┆ array[u8, 5] ┆ u8  ┆ u8  ┆   ┆ bool                ┆ u8     ┆ str         ┆ i64     │\n",
       "╞════════════╪══════════════╪═════╪═════╪═══╪═════════════════════╪════════╪═════════════╪═════════╡\n",
       "│ 0102030405 ┆ [1, 2, … 5]  ┆ 1   ┆ 2   ┆ … ┆ true                ┆ 8      ┆ 01_01_01_01 ┆ 0       │\n",
       "│ 0102030406 ┆ [1, 2, … 6]  ┆ 1   ┆ 2   ┆ … ┆ true                ┆ 8      ┆ 01_01_01_02 ┆ 1       │\n",
       "│ 0102030407 ┆ [1, 2, … 7]  ┆ 1   ┆ 2   ┆ … ┆ true                ┆ 8      ┆ 01_01_01_03 ┆ 2       │\n",
       "│ 0102030408 ┆ [1, 2, … 8]  ┆ 1   ┆ 2   ┆ … ┆ true                ┆ 8      ┆ 01_01_01_04 ┆ 3       │\n",
       "│ 0102030409 ┆ [1, 2, … 9]  ┆ 1   ┆ 2   ┆ … ┆ true                ┆ 8      ┆ 01_01_01_05 ┆ 4       │\n",
       "│ 0102030410 ┆ [1, 2, … 10] ┆ 1   ┆ 2   ┆ … ┆ true                ┆ 8      ┆ 01_01_01_06 ┆ 5       │\n",
       "│ 0102030411 ┆ [1, 2, … 11] ┆ 1   ┆ 2   ┆ … ┆ true                ┆ 8      ┆ 01_01_01_07 ┆ 6       │\n",
       "│ 0102030412 ┆ [1, 2, … 12] ┆ 1   ┆ 2   ┆ … ┆ true                ┆ 8      ┆ 01_01_01_08 ┆ 7       │\n",
       "│ 0102030413 ┆ [1, 2, … 13] ┆ 1   ┆ 2   ┆ … ┆ true                ┆ 8      ┆ 01_01_01_09 ┆ 8       │\n",
       "│ 0102030414 ┆ [1, 2, … 14] ┆ 1   ┆ 2   ┆ … ┆ true                ┆ 8      ┆ 01_01_01_10 ┆ 9       │\n",
       "└────────────┴──────────────┴─────┴─────┴───┴─────────────────────┴────────┴─────────────┴─────────┘"
      ]
     },
     "metadata": {},
     "output_type": "display_data"
    }
   ],
   "source": [
    "lst = []\n",
    "post_str_b1 = None\n",
    "post_str_blast = None\n",
    "for row in combos:\n",
    "  cols = []\n",
    "  str_row = \" \".join([str(r).zfill(2) for r in row])\n",
    "  id, bolillas_int, str_combo = formalize_data_with_str(bolillas_str=str_row)\n",
    "  cols.append(id)\n",
    "  cols.append(bolillas_int)\n",
    "  cols.extend([b for b in bolillas_int])\n",
    "  cols.extend(str_combo)\n",
    "  cols.append(post_str_b1)\n",
    "  cols.append(post_str_blast)\n",
    "\n",
    "  is_rare, reason = rr.is_rare_combination(bolillas_int, id)\n",
    "  cols.append(is_rare)\n",
    "  cols.append(reason)\n",
    "\n",
    "  cols.append(rr.jumps_map(bolillas_int))\n",
    "  cols.append(rr.unijump(bolillas_int))\n",
    "  \n",
    "  lst.append(cols)\n",
    "\n",
    "  post_str_b1 = str_combo[0]\n",
    "  post_str_blast = str_combo[-1]\n",
    "\n",
    "with open('./gn_cahe_v3.json', 'w') as file: \n",
    "  json.dump(lst, file)\n",
    "\n",
    "df_Orows = pl.DataFrame(\n",
    "  lst,\n",
    "  schema=[\n",
    "    # 'fecha', 'sorteo', 'bolillas',\n",
    "    'id', 'combo', 'b1', 'b2', 'b3', 'b4', 'b5',\n",
    "    'str_b1', 'str_b2', 'str_b3', 'str_b4', 'str_b5',\n",
    "    'post_str_b1', 'post_str_blast',\n",
    "    'is_rare_combination', 'reason',\n",
    "    \"jumps_map\", \"unijump\"\n",
    "  ],\n",
    "  schema_overrides={\n",
    "    'combo': pl.Array(pl.UInt8, 5),\n",
    "    'b1': pl.UInt8,\n",
    "    'b2': pl.UInt8,\n",
    "    'b3': pl.UInt8,\n",
    "    'b4': pl.UInt8,\n",
    "    'b5': pl.UInt8,\n",
    "    'b6': pl.UInt8,\n",
    "    'reason': pl.UInt8\n",
    "  },\n",
    "  orient='row'\n",
    ")\n",
    "\n",
    "TOTAL_LINES = len(df_Orows)\n",
    "print(f'{TOTAL_LINES=}')\n",
    "display(df_Orows.head(10))"
   ]
  },
  {
   "cell_type": "code",
   "execution_count": 18,
   "metadata": {},
   "outputs": [
    {
     "data": {
      "text/html": [
       "<div><style>\n",
       ".dataframe > thead > tr,\n",
       ".dataframe > tbody > tr {\n",
       "  text-align: right;\n",
       "  white-space: pre-wrap;\n",
       "}\n",
       "</style>\n",
       "<small>shape: (160_296, 18)</small><table border=\"1\" class=\"dataframe\"><thead><tr><th>id</th><th>combo</th><th>b1</th><th>b2</th><th>b3</th><th>b4</th><th>b5</th><th>str_b1</th><th>str_b2</th><th>str_b3</th><th>str_b4</th><th>str_b5</th><th>post_str_b1</th><th>post_str_blast</th><th>is_rare_combination</th><th>reason</th><th>jumps_map</th><th>unijump</th></tr><tr><td>str</td><td>array[u8, 5]</td><td>u8</td><td>u8</td><td>u8</td><td>u8</td><td>u8</td><td>str</td><td>str</td><td>str</td><td>str</td><td>str</td><td>str</td><td>str</td><td>bool</td><td>u8</td><td>str</td><td>i64</td></tr></thead><tbody><tr><td>&quot;0102040513&quot;</td><td>[1, 2, … 13]</td><td>1</td><td>2</td><td>4</td><td>5</td><td>13</td><td>&quot;01&quot;</td><td>&quot;02&quot;</td><td>&quot;04&quot;</td><td>&quot;05&quot;</td><td>&quot;13&quot;</td><td>&quot;01&quot;</td><td>&quot;12&quot;</td><td>false</td><td>0</td><td>&quot;01_02_01_08&quot;</td><td>10</td></tr><tr><td>&quot;0102040523&quot;</td><td>[1, 2, … 23]</td><td>1</td><td>2</td><td>4</td><td>5</td><td>23</td><td>&quot;01&quot;</td><td>&quot;02&quot;</td><td>&quot;04&quot;</td><td>&quot;05&quot;</td><td>&quot;23&quot;</td><td>&quot;01&quot;</td><td>&quot;22&quot;</td><td>false</td><td>0</td><td>&quot;01_02_01_18&quot;</td><td>20</td></tr><tr><td>&quot;0102040530&quot;</td><td>[1, 2, … 30]</td><td>1</td><td>2</td><td>4</td><td>5</td><td>30</td><td>&quot;01&quot;</td><td>&quot;02&quot;</td><td>&quot;04&quot;</td><td>&quot;05&quot;</td><td>&quot;30&quot;</td><td>&quot;01&quot;</td><td>&quot;29&quot;</td><td>false</td><td>0</td><td>&quot;01_02_01_25&quot;</td><td>27</td></tr><tr><td>&quot;0102040531&quot;</td><td>[1, 2, … 31]</td><td>1</td><td>2</td><td>4</td><td>5</td><td>31</td><td>&quot;01&quot;</td><td>&quot;02&quot;</td><td>&quot;04&quot;</td><td>&quot;05&quot;</td><td>&quot;31&quot;</td><td>&quot;01&quot;</td><td>&quot;30&quot;</td><td>false</td><td>0</td><td>&quot;01_02_01_26&quot;</td><td>28</td></tr><tr><td>&quot;0102040532&quot;</td><td>[1, 2, … 32]</td><td>1</td><td>2</td><td>4</td><td>5</td><td>32</td><td>&quot;01&quot;</td><td>&quot;02&quot;</td><td>&quot;04&quot;</td><td>&quot;05&quot;</td><td>&quot;32&quot;</td><td>&quot;01&quot;</td><td>&quot;31&quot;</td><td>false</td><td>0</td><td>&quot;01_02_01_27&quot;</td><td>29</td></tr><tr><td>&hellip;</td><td>&hellip;</td><td>&hellip;</td><td>&hellip;</td><td>&hellip;</td><td>&hellip;</td><td>&hellip;</td><td>&hellip;</td><td>&hellip;</td><td>&hellip;</td><td>&hellip;</td><td>&hellip;</td><td>&hellip;</td><td>&hellip;</td><td>&hellip;</td><td>&hellip;</td><td>&hellip;</td><td>&hellip;</td></tr><tr><td>&quot;2829313435&quot;</td><td>[28, 29, … 35]</td><td>28</td><td>29</td><td>31</td><td>34</td><td>35</td><td>&quot;28&quot;</td><td>&quot;29&quot;</td><td>&quot;31&quot;</td><td>&quot;34&quot;</td><td>&quot;35&quot;</td><td>&quot;28&quot;</td><td>&quot;35&quot;</td><td>false</td><td>0</td><td>&quot;01_02_03_01&quot;</td><td>-3</td></tr><tr><td>&quot;2830313334&quot;</td><td>[28, 30, … 34]</td><td>28</td><td>30</td><td>31</td><td>33</td><td>34</td><td>&quot;28&quot;</td><td>&quot;30&quot;</td><td>&quot;31&quot;</td><td>&quot;33&quot;</td><td>&quot;34&quot;</td><td>&quot;28&quot;</td><td>&quot;35&quot;</td><td>false</td><td>0</td><td>&quot;02_01_02_01&quot;</td><td>-4</td></tr><tr><td>&quot;2830313435&quot;</td><td>[28, 30, … 35]</td><td>28</td><td>30</td><td>31</td><td>34</td><td>35</td><td>&quot;28&quot;</td><td>&quot;30&quot;</td><td>&quot;31&quot;</td><td>&quot;34&quot;</td><td>&quot;35&quot;</td><td>&quot;28&quot;</td><td>&quot;35&quot;</td><td>false</td><td>0</td><td>&quot;02_01_03_01&quot;</td><td>-7</td></tr><tr><td>&quot;2831323435&quot;</td><td>[28, 31, … 35]</td><td>28</td><td>31</td><td>32</td><td>34</td><td>35</td><td>&quot;28&quot;</td><td>&quot;31&quot;</td><td>&quot;32&quot;</td><td>&quot;34&quot;</td><td>&quot;35&quot;</td><td>&quot;28&quot;</td><td>&quot;35&quot;</td><td>false</td><td>0</td><td>&quot;03_01_02_01&quot;</td><td>-5</td></tr><tr><td>&quot;2931323435&quot;</td><td>[29, 31, … 35]</td><td>29</td><td>31</td><td>32</td><td>34</td><td>35</td><td>&quot;29&quot;</td><td>&quot;31&quot;</td><td>&quot;32&quot;</td><td>&quot;34&quot;</td><td>&quot;35&quot;</td><td>&quot;29&quot;</td><td>&quot;35&quot;</td><td>false</td><td>0</td><td>&quot;02_01_02_01&quot;</td><td>-4</td></tr></tbody></table></div>"
      ],
      "text/plain": [
       "shape: (160_296, 18)\n",
       "┌────────────┬────────────────┬─────┬─────┬───┬───────────────────┬────────┬─────────────┬─────────┐\n",
       "│ id         ┆ combo          ┆ b1  ┆ b2  ┆ … ┆ is_rare_combinati ┆ reason ┆ jumps_map   ┆ unijump │\n",
       "│ ---        ┆ ---            ┆ --- ┆ --- ┆   ┆ on                ┆ ---    ┆ ---         ┆ ---     │\n",
       "│ str        ┆ array[u8, 5]   ┆ u8  ┆ u8  ┆   ┆ ---               ┆ u8     ┆ str         ┆ i64     │\n",
       "│            ┆                ┆     ┆     ┆   ┆ bool              ┆        ┆             ┆         │\n",
       "╞════════════╪════════════════╪═════╪═════╪═══╪═══════════════════╪════════╪═════════════╪═════════╡\n",
       "│ 0102040513 ┆ [1, 2, … 13]   ┆ 1   ┆ 2   ┆ … ┆ false             ┆ 0      ┆ 01_02_01_08 ┆ 10      │\n",
       "│ 0102040523 ┆ [1, 2, … 23]   ┆ 1   ┆ 2   ┆ … ┆ false             ┆ 0      ┆ 01_02_01_18 ┆ 20      │\n",
       "│ 0102040530 ┆ [1, 2, … 30]   ┆ 1   ┆ 2   ┆ … ┆ false             ┆ 0      ┆ 01_02_01_25 ┆ 27      │\n",
       "│ 0102040531 ┆ [1, 2, … 31]   ┆ 1   ┆ 2   ┆ … ┆ false             ┆ 0      ┆ 01_02_01_26 ┆ 28      │\n",
       "│ 0102040532 ┆ [1, 2, … 32]   ┆ 1   ┆ 2   ┆ … ┆ false             ┆ 0      ┆ 01_02_01_27 ┆ 29      │\n",
       "│ …          ┆ …              ┆ …   ┆ …   ┆ … ┆ …                 ┆ …      ┆ …           ┆ …       │\n",
       "│ 2829313435 ┆ [28, 29, … 35] ┆ 28  ┆ 29  ┆ … ┆ false             ┆ 0      ┆ 01_02_03_01 ┆ -3      │\n",
       "│ 2830313334 ┆ [28, 30, … 34] ┆ 28  ┆ 30  ┆ … ┆ false             ┆ 0      ┆ 02_01_02_01 ┆ -4      │\n",
       "│ 2830313435 ┆ [28, 30, … 35] ┆ 28  ┆ 30  ┆ … ┆ false             ┆ 0      ┆ 02_01_03_01 ┆ -7      │\n",
       "│ 2831323435 ┆ [28, 31, … 35] ┆ 28  ┆ 31  ┆ … ┆ false             ┆ 0      ┆ 03_01_02_01 ┆ -5      │\n",
       "│ 2931323435 ┆ [29, 31, … 35] ┆ 29  ┆ 31  ┆ … ┆ false             ┆ 0      ┆ 02_01_02_01 ┆ -4      │\n",
       "└────────────┴────────────────┴─────┴─────┴───┴───────────────────┴────────┴─────────────┴─────────┘"
      ]
     },
     "execution_count": 18,
     "metadata": {},
     "output_type": "execute_result"
    }
   ],
   "source": [
    "df_Orows.filter(is_rare_combination=False)"
   ]
  },
  {
   "cell_type": "code",
   "execution_count": 19,
   "metadata": {},
   "outputs": [
    {
     "data": {
      "text/html": [
       "<div><style>\n",
       ".dataframe > thead > tr,\n",
       ".dataframe > tbody > tr {\n",
       "  text-align: right;\n",
       "  white-space: pre-wrap;\n",
       "}\n",
       "</style>\n",
       "<small>shape: (96_122, 18)</small><table border=\"1\" class=\"dataframe\"><thead><tr><th>id</th><th>combo</th><th>b1</th><th>b2</th><th>b3</th><th>b4</th><th>b5</th><th>str_b1</th><th>str_b2</th><th>str_b3</th><th>str_b4</th><th>str_b5</th><th>post_str_b1</th><th>post_str_blast</th><th>is_rare_combination</th><th>reason</th><th>jumps_map</th><th>unijump</th></tr><tr><td>str</td><td>array[u8, 5]</td><td>u8</td><td>u8</td><td>u8</td><td>u8</td><td>u8</td><td>str</td><td>str</td><td>str</td><td>str</td><td>str</td><td>str</td><td>str</td><td>bool</td><td>u8</td><td>str</td><td>i64</td></tr></thead><tbody><tr><td>&quot;0102040530&quot;</td><td>[1, 2, … 30]</td><td>1</td><td>2</td><td>4</td><td>5</td><td>30</td><td>&quot;01&quot;</td><td>&quot;02&quot;</td><td>&quot;04&quot;</td><td>&quot;05&quot;</td><td>&quot;30&quot;</td><td>&quot;01&quot;</td><td>&quot;29&quot;</td><td>false</td><td>0</td><td>&quot;01_02_01_25&quot;</td><td>27</td></tr><tr><td>&quot;0102040531&quot;</td><td>[1, 2, … 31]</td><td>1</td><td>2</td><td>4</td><td>5</td><td>31</td><td>&quot;01&quot;</td><td>&quot;02&quot;</td><td>&quot;04&quot;</td><td>&quot;05&quot;</td><td>&quot;31&quot;</td><td>&quot;01&quot;</td><td>&quot;30&quot;</td><td>false</td><td>0</td><td>&quot;01_02_01_26&quot;</td><td>28</td></tr><tr><td>&quot;0102040532&quot;</td><td>[1, 2, … 32]</td><td>1</td><td>2</td><td>4</td><td>5</td><td>32</td><td>&quot;01&quot;</td><td>&quot;02&quot;</td><td>&quot;04&quot;</td><td>&quot;05&quot;</td><td>&quot;32&quot;</td><td>&quot;01&quot;</td><td>&quot;31&quot;</td><td>false</td><td>0</td><td>&quot;01_02_01_27&quot;</td><td>29</td></tr><tr><td>&quot;0102040533&quot;</td><td>[1, 2, … 33]</td><td>1</td><td>2</td><td>4</td><td>5</td><td>33</td><td>&quot;01&quot;</td><td>&quot;02&quot;</td><td>&quot;04&quot;</td><td>&quot;05&quot;</td><td>&quot;33&quot;</td><td>&quot;01&quot;</td><td>&quot;32&quot;</td><td>false</td><td>0</td><td>&quot;01_02_01_28&quot;</td><td>30</td></tr><tr><td>&quot;0102040534&quot;</td><td>[1, 2, … 34]</td><td>1</td><td>2</td><td>4</td><td>5</td><td>34</td><td>&quot;01&quot;</td><td>&quot;02&quot;</td><td>&quot;04&quot;</td><td>&quot;05&quot;</td><td>&quot;34&quot;</td><td>&quot;01&quot;</td><td>&quot;33&quot;</td><td>false</td><td>0</td><td>&quot;01_02_01_29&quot;</td><td>31</td></tr><tr><td>&hellip;</td><td>&hellip;</td><td>&hellip;</td><td>&hellip;</td><td>&hellip;</td><td>&hellip;</td><td>&hellip;</td><td>&hellip;</td><td>&hellip;</td><td>&hellip;</td><td>&hellip;</td><td>&hellip;</td><td>&hellip;</td><td>&hellip;</td><td>&hellip;</td><td>&hellip;</td><td>&hellip;</td><td>&hellip;</td></tr><tr><td>&quot;0928313334&quot;</td><td>[9, 28, … 34]</td><td>9</td><td>28</td><td>31</td><td>33</td><td>34</td><td>&quot;09&quot;</td><td>&quot;28&quot;</td><td>&quot;31&quot;</td><td>&quot;33&quot;</td><td>&quot;34&quot;</td><td>&quot;09&quot;</td><td>&quot;35&quot;</td><td>false</td><td>0</td><td>&quot;19_03_02_01&quot;</td><td>-15</td></tr><tr><td>&quot;0929313234&quot;</td><td>[9, 29, … 34]</td><td>9</td><td>29</td><td>31</td><td>32</td><td>34</td><td>&quot;09&quot;</td><td>&quot;29&quot;</td><td>&quot;31&quot;</td><td>&quot;32&quot;</td><td>&quot;34&quot;</td><td>&quot;09&quot;</td><td>&quot;33&quot;</td><td>false</td><td>0</td><td>&quot;20_02_01_02&quot;</td><td>-15</td></tr><tr><td>&quot;0929313235&quot;</td><td>[9, 29, … 35]</td><td>9</td><td>29</td><td>31</td><td>32</td><td>35</td><td>&quot;09&quot;</td><td>&quot;29&quot;</td><td>&quot;31&quot;</td><td>&quot;32&quot;</td><td>&quot;35&quot;</td><td>&quot;09&quot;</td><td>&quot;34&quot;</td><td>false</td><td>0</td><td>&quot;20_02_01_03&quot;</td><td>-14</td></tr><tr><td>&quot;0929313435&quot;</td><td>[9, 29, … 35]</td><td>9</td><td>29</td><td>31</td><td>34</td><td>35</td><td>&quot;09&quot;</td><td>&quot;29&quot;</td><td>&quot;31&quot;</td><td>&quot;34&quot;</td><td>&quot;35&quot;</td><td>&quot;09&quot;</td><td>&quot;35&quot;</td><td>false</td><td>0</td><td>&quot;20_02_03_01&quot;</td><td>-22</td></tr><tr><td>&quot;0931323435&quot;</td><td>[9, 31, … 35]</td><td>9</td><td>31</td><td>32</td><td>34</td><td>35</td><td>&quot;09&quot;</td><td>&quot;31&quot;</td><td>&quot;32&quot;</td><td>&quot;34&quot;</td><td>&quot;35&quot;</td><td>&quot;09&quot;</td><td>&quot;35&quot;</td><td>false</td><td>0</td><td>&quot;22_01_02_01&quot;</td><td>-24</td></tr></tbody></table></div>"
      ],
      "text/plain": [
       "shape: (96_122, 18)\n",
       "┌────────────┬───────────────┬─────┬─────┬───┬────────────────────┬────────┬─────────────┬─────────┐\n",
       "│ id         ┆ combo         ┆ b1  ┆ b2  ┆ … ┆ is_rare_combinatio ┆ reason ┆ jumps_map   ┆ unijump │\n",
       "│ ---        ┆ ---           ┆ --- ┆ --- ┆   ┆ n                  ┆ ---    ┆ ---         ┆ ---     │\n",
       "│ str        ┆ array[u8, 5]  ┆ u8  ┆ u8  ┆   ┆ ---                ┆ u8     ┆ str         ┆ i64     │\n",
       "│            ┆               ┆     ┆     ┆   ┆ bool               ┆        ┆             ┆         │\n",
       "╞════════════╪═══════════════╪═════╪═════╪═══╪════════════════════╪════════╪═════════════╪═════════╡\n",
       "│ 0102040530 ┆ [1, 2, … 30]  ┆ 1   ┆ 2   ┆ … ┆ false              ┆ 0      ┆ 01_02_01_25 ┆ 27      │\n",
       "│ 0102040531 ┆ [1, 2, … 31]  ┆ 1   ┆ 2   ┆ … ┆ false              ┆ 0      ┆ 01_02_01_26 ┆ 28      │\n",
       "│ 0102040532 ┆ [1, 2, … 32]  ┆ 1   ┆ 2   ┆ … ┆ false              ┆ 0      ┆ 01_02_01_27 ┆ 29      │\n",
       "│ 0102040533 ┆ [1, 2, … 33]  ┆ 1   ┆ 2   ┆ … ┆ false              ┆ 0      ┆ 01_02_01_28 ┆ 30      │\n",
       "│ 0102040534 ┆ [1, 2, … 34]  ┆ 1   ┆ 2   ┆ … ┆ false              ┆ 0      ┆ 01_02_01_29 ┆ 31      │\n",
       "│ …          ┆ …             ┆ …   ┆ …   ┆ … ┆ …                  ┆ …      ┆ …           ┆ …       │\n",
       "│ 0928313334 ┆ [9, 28, … 34] ┆ 9   ┆ 28  ┆ … ┆ false              ┆ 0      ┆ 19_03_02_01 ┆ -15     │\n",
       "│ 0929313234 ┆ [9, 29, … 34] ┆ 9   ┆ 29  ┆ … ┆ false              ┆ 0      ┆ 20_02_01_02 ┆ -15     │\n",
       "│ 0929313235 ┆ [9, 29, … 35] ┆ 9   ┆ 29  ┆ … ┆ false              ┆ 0      ┆ 20_02_01_03 ┆ -14     │\n",
       "│ 0929313435 ┆ [9, 29, … 35] ┆ 9   ┆ 29  ┆ … ┆ false              ┆ 0      ┆ 20_02_03_01 ┆ -22     │\n",
       "│ 0931323435 ┆ [9, 31, … 35] ┆ 9   ┆ 31  ┆ … ┆ false              ┆ 0      ┆ 22_01_02_01 ┆ -24     │\n",
       "└────────────┴───────────────┴─────┴─────┴───┴────────────────────┴────────┴─────────────┴─────────┘"
      ]
     },
     "execution_count": 19,
     "metadata": {},
     "output_type": "execute_result"
    }
   ],
   "source": [
    "# possible_b1, exclude_jump_maps_b1\n",
    "\n",
    "df_possible = df_Orows.filter(\n",
    "  pl.col(\"str_b1\").is_in(possible_b1),\n",
    "  ~pl.col(\"jumps_map\").is_in(exclude_jump_maps_b1 + exclude_jump_maps_blast),\n",
    "  pl.col(\"str_b5\").is_in(possible_blast),\n",
    "  pl.col(\"is_rare_combination\") == False\n",
    ")\n",
    "\n",
    "df_possible"
   ]
  },
  {
   "cell_type": "code",
   "execution_count": 20,
   "metadata": {},
   "outputs": [
    {
     "data": {
      "text/html": [
       "<div><style>\n",
       ".dataframe > thead > tr,\n",
       ".dataframe > tbody > tr {\n",
       "  text-align: right;\n",
       "  white-space: pre-wrap;\n",
       "}\n",
       "</style>\n",
       "<small>shape: (1, 18)</small><table border=\"1\" class=\"dataframe\"><thead><tr><th>id</th><th>combo</th><th>b1</th><th>b2</th><th>b3</th><th>b4</th><th>b5</th><th>str_b1</th><th>str_b2</th><th>str_b3</th><th>str_b4</th><th>str_b5</th><th>post_str_b1</th><th>post_str_blast</th><th>is_rare_combination</th><th>reason</th><th>jumps_map</th><th>unijump</th></tr><tr><td>str</td><td>array[u8, 5]</td><td>u8</td><td>u8</td><td>u8</td><td>u8</td><td>u8</td><td>str</td><td>str</td><td>str</td><td>str</td><td>str</td><td>str</td><td>str</td><td>bool</td><td>u8</td><td>str</td><td>i64</td></tr></thead><tbody><tr><td>&quot;0513192428&quot;</td><td>[5, 13, … 28]</td><td>5</td><td>13</td><td>19</td><td>24</td><td>28</td><td>&quot;05&quot;</td><td>&quot;13&quot;</td><td>&quot;19&quot;</td><td>&quot;24&quot;</td><td>&quot;28&quot;</td><td>&quot;05&quot;</td><td>&quot;27&quot;</td><td>false</td><td>0</td><td>&quot;08_06_05_04&quot;</td><td>-1</td></tr></tbody></table></div>"
      ],
      "text/plain": [
       "shape: (1, 18)\n",
       "┌────────────┬───────────────┬─────┬─────┬───┬────────────────────┬────────┬─────────────┬─────────┐\n",
       "│ id         ┆ combo         ┆ b1  ┆ b2  ┆ … ┆ is_rare_combinatio ┆ reason ┆ jumps_map   ┆ unijump │\n",
       "│ ---        ┆ ---           ┆ --- ┆ --- ┆   ┆ n                  ┆ ---    ┆ ---         ┆ ---     │\n",
       "│ str        ┆ array[u8, 5]  ┆ u8  ┆ u8  ┆   ┆ ---                ┆ u8     ┆ str         ┆ i64     │\n",
       "│            ┆               ┆     ┆     ┆   ┆ bool               ┆        ┆             ┆         │\n",
       "╞════════════╪═══════════════╪═════╪═════╪═══╪════════════════════╪════════╪═════════════╪═════════╡\n",
       "│ 0513192428 ┆ [5, 13, … 28] ┆ 5   ┆ 13  ┆ … ┆ false              ┆ 0      ┆ 08_06_05_04 ┆ -1      │\n",
       "└────────────┴───────────────┴─────┴─────┴───┴────────────────────┴────────┴─────────────┴─────────┘"
      ]
     },
     "execution_count": 20,
     "metadata": {},
     "output_type": "execute_result"
    }
   ],
   "source": [
    "df_possible.sample(n=1)"
   ]
  }
 ],
 "metadata": {
  "kernelspec": {
   "display_name": ".venv",
   "language": "python",
   "name": "python3"
  },
  "language_info": {
   "codemirror_mode": {
    "name": "ipython",
    "version": 3
   },
   "file_extension": ".py",
   "mimetype": "text/x-python",
   "name": "python",
   "nbconvert_exporter": "python",
   "pygments_lexer": "ipython3",
   "version": "3.12.9"
  }
 },
 "nbformat": 4,
 "nbformat_minor": 2
}

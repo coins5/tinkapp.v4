{
 "cells": [
  {
   "cell_type": "code",
   "execution_count": 2,
   "metadata": {},
   "outputs": [
    {
     "data": {
      "text/html": [
       "<script type=\"esms-options\">{\"shimMode\": true}</script><style>*[data-root-id],\n",
       "*[data-root-id] > * {\n",
       "  box-sizing: border-box;\n",
       "  font-family: var(--jp-ui-font-family);\n",
       "  font-size: var(--jp-ui-font-size1);\n",
       "  color: var(--vscode-editor-foreground, var(--jp-ui-font-color1));\n",
       "}\n",
       "\n",
       "/* Override VSCode background color */\n",
       ".cell-output-ipywidget-background:has(\n",
       "    > .cell-output-ipywidget-background > .lm-Widget > *[data-root-id]\n",
       "  ),\n",
       ".cell-output-ipywidget-background:has(> .lm-Widget > *[data-root-id]) {\n",
       "  background-color: transparent !important;\n",
       "}\n",
       "</style>"
      ]
     },
     "metadata": {},
     "output_type": "display_data"
    },
    {
     "data": {
      "application/javascript": "(function(root) {\n  function now() {\n    return new Date();\n  }\n\n  const force = true;\n  const py_version = '3.7.2'.replace('rc', '-rc.').replace('.dev', '-dev.');\n  const reloading = false;\n  const Bokeh = root.Bokeh;\n\n  // Set a timeout for this load but only if we are not already initializing\n  if (typeof (root._bokeh_timeout) === \"undefined\" || (force || !root._bokeh_is_initializing)) {\n    root._bokeh_timeout = Date.now() + 5000;\n    root._bokeh_failed_load = false;\n  }\n\n  function run_callbacks() {\n    try {\n      root._bokeh_onload_callbacks.forEach(function(callback) {\n        if (callback != null)\n          callback();\n      });\n    } finally {\n      delete root._bokeh_onload_callbacks;\n    }\n    console.debug(\"Bokeh: all callbacks have finished\");\n  }\n\n  function load_libs(css_urls, js_urls, js_modules, js_exports, callback) {\n    if (css_urls == null) css_urls = [];\n    if (js_urls == null) js_urls = [];\n    if (js_modules == null) js_modules = [];\n    if (js_exports == null) js_exports = {};\n\n    root._bokeh_onload_callbacks.push(callback);\n\n    if (root._bokeh_is_loading > 0) {\n      // Don't load bokeh if it is still initializing\n      console.debug(\"Bokeh: BokehJS is being loaded, scheduling callback at\", now());\n      return null;\n    } else if (js_urls.length === 0 && js_modules.length === 0 && Object.keys(js_exports).length === 0) {\n      // There is nothing to load\n      run_callbacks();\n      return null;\n    }\n\n    function on_load() {\n      root._bokeh_is_loading--;\n      if (root._bokeh_is_loading === 0) {\n        console.debug(\"Bokeh: all BokehJS libraries/stylesheets loaded\");\n        run_callbacks()\n      }\n    }\n    window._bokeh_on_load = on_load\n\n    function on_error(e) {\n      const src_el = e.srcElement\n      console.error(\"failed to load \" + (src_el.href || src_el.src));\n    }\n\n    const skip = [];\n    if (window.requirejs) {\n      window.requirejs.config({'packages': {}, 'paths': {}, 'shim': {}});\n      root._bokeh_is_loading = css_urls.length + 0;\n    } else {\n      root._bokeh_is_loading = css_urls.length + js_urls.length + js_modules.length + Object.keys(js_exports).length;\n    }\n\n    const existing_stylesheets = []\n    const links = document.getElementsByTagName('link')\n    for (let i = 0; i < links.length; i++) {\n      const link = links[i]\n      if (link.href != null) {\n        existing_stylesheets.push(link.href)\n      }\n    }\n    for (let i = 0; i < css_urls.length; i++) {\n      const url = css_urls[i];\n      const escaped = encodeURI(url)\n      if (existing_stylesheets.indexOf(escaped) !== -1) {\n        on_load()\n        continue;\n      }\n      const element = document.createElement(\"link\");\n      element.onload = on_load;\n      element.onerror = on_error;\n      element.rel = \"stylesheet\";\n      element.type = \"text/css\";\n      element.href = url;\n      console.debug(\"Bokeh: injecting link tag for BokehJS stylesheet: \", url);\n      document.body.appendChild(element);\n    }    var existing_scripts = []\n    const scripts = document.getElementsByTagName('script')\n    for (let i = 0; i < scripts.length; i++) {\n      var script = scripts[i]\n      if (script.src != null) {\n        existing_scripts.push(script.src)\n      }\n    }\n    for (let i = 0; i < js_urls.length; i++) {\n      const url = js_urls[i];\n      const escaped = encodeURI(url)\n      if (skip.indexOf(escaped) !== -1 || existing_scripts.indexOf(escaped) !== -1) {\n        if (!window.requirejs) {\n          on_load();\n        }\n        continue;\n      }\n      const element = document.createElement('script');\n      element.onload = on_load;\n      element.onerror = on_error;\n      element.async = false;\n      element.src = url;\n      console.debug(\"Bokeh: injecting script tag for BokehJS library: \", url);\n      document.head.appendChild(element);\n    }\n    for (let i = 0; i < js_modules.length; i++) {\n      const url = js_modules[i];\n      const escaped = encodeURI(url)\n      if (skip.indexOf(escaped) !== -1 || existing_scripts.indexOf(escaped) !== -1) {\n        if (!window.requirejs) {\n          on_load();\n        }\n        continue;\n      }\n      var element = document.createElement('script');\n      element.onload = on_load;\n      element.onerror = on_error;\n      element.async = false;\n      element.src = url;\n      element.type = \"module\";\n      console.debug(\"Bokeh: injecting script tag for BokehJS library: \", url);\n      document.head.appendChild(element);\n    }\n    for (const name in js_exports) {\n      const url = js_exports[name];\n      const escaped = encodeURI(url)\n      if (skip.indexOf(escaped) >= 0 || root[name] != null) {\n        if (!window.requirejs) {\n          on_load();\n        }\n        continue;\n      }\n      var element = document.createElement('script');\n      element.onerror = on_error;\n      element.async = false;\n      element.type = \"module\";\n      console.debug(\"Bokeh: injecting script tag for BokehJS library: \", url);\n      element.textContent = `\n      import ${name} from \"${url}\"\n      window.${name} = ${name}\n      window._bokeh_on_load()\n      `\n      document.head.appendChild(element);\n    }\n    if (!js_urls.length && !js_modules.length) {\n      on_load()\n    }\n  };\n\n  function inject_raw_css(css) {\n    const element = document.createElement(\"style\");\n    element.appendChild(document.createTextNode(css));\n    document.body.appendChild(element);\n  }\n\n  const js_urls = [\"https://cdn.holoviz.org/panel/1.6.2/dist/bundled/reactiveesm/es-module-shims@^1.10.0/dist/es-module-shims.min.js\", \"https://cdn.bokeh.org/bokeh/release/bokeh-3.7.2.min.js\", \"https://cdn.bokeh.org/bokeh/release/bokeh-gl-3.7.2.min.js\", \"https://cdn.bokeh.org/bokeh/release/bokeh-widgets-3.7.2.min.js\", \"https://cdn.bokeh.org/bokeh/release/bokeh-tables-3.7.2.min.js\", \"https://cdn.holoviz.org/panel/1.6.2/dist/panel.min.js\"];\n  const js_modules = [];\n  const js_exports = {};\n  const css_urls = [];\n  const inline_js = [    function(Bokeh) {\n      Bokeh.set_log_level(\"info\");\n    },\nfunction(Bokeh) {} // ensure no trailing comma for IE\n  ];\n\n  function run_inline_js() {\n    if ((root.Bokeh !== undefined) || (force === true)) {\n      for (let i = 0; i < inline_js.length; i++) {\n        try {\n          inline_js[i].call(root, root.Bokeh);\n        } catch(e) {\n          if (!reloading) {\n            throw e;\n          }\n        }\n      }\n      // Cache old bokeh versions\n      if (Bokeh != undefined && !reloading) {\n        var NewBokeh = root.Bokeh;\n        if (Bokeh.versions === undefined) {\n          Bokeh.versions = new Map();\n        }\n        if (NewBokeh.version !== Bokeh.version) {\n          Bokeh.versions.set(NewBokeh.version, NewBokeh)\n        }\n        root.Bokeh = Bokeh;\n      }\n    } else if (Date.now() < root._bokeh_timeout) {\n      setTimeout(run_inline_js, 100);\n    } else if (!root._bokeh_failed_load) {\n      console.log(\"Bokeh: BokehJS failed to load within specified timeout.\");\n      root._bokeh_failed_load = true;\n    }\n    root._bokeh_is_initializing = false\n  }\n\n  function load_or_wait() {\n    // Implement a backoff loop that tries to ensure we do not load multiple\n    // versions of Bokeh and its dependencies at the same time.\n    // In recent versions we use the root._bokeh_is_initializing flag\n    // to determine whether there is an ongoing attempt to initialize\n    // bokeh, however for backward compatibility we also try to ensure\n    // that we do not start loading a newer (Panel>=1.0 and Bokeh>3) version\n    // before older versions are fully initialized.\n    if (root._bokeh_is_initializing && Date.now() > root._bokeh_timeout) {\n      // If the timeout and bokeh was not successfully loaded we reset\n      // everything and try loading again\n      root._bokeh_timeout = Date.now() + 5000;\n      root._bokeh_is_initializing = false;\n      root._bokeh_onload_callbacks = undefined;\n      root._bokeh_is_loading = 0\n      console.log(\"Bokeh: BokehJS was loaded multiple times but one version failed to initialize.\");\n      load_or_wait();\n    } else if (root._bokeh_is_initializing || (typeof root._bokeh_is_initializing === \"undefined\" && root._bokeh_onload_callbacks !== undefined)) {\n      setTimeout(load_or_wait, 100);\n    } else {\n      root._bokeh_is_initializing = true\n      root._bokeh_onload_callbacks = []\n      const bokeh_loaded = root.Bokeh != null && (root.Bokeh.version === py_version || (root.Bokeh.versions !== undefined && root.Bokeh.versions.has(py_version)));\n      if (!reloading && !bokeh_loaded) {\n        if (root.Bokeh) {\n          root.Bokeh = undefined;\n        }\n        console.debug(\"Bokeh: BokehJS not loaded, scheduling load and callback at\", now());\n      }\n      load_libs(css_urls, js_urls, js_modules, js_exports, function() {\n        console.debug(\"Bokeh: BokehJS plotting callback run at\", now());\n        run_inline_js();\n      });\n    }\n  }\n  // Give older versions of the autoload script a head-start to ensure\n  // they initialize before we start loading newer version.\n  setTimeout(load_or_wait, 100)\n}(window));",
      "application/vnd.holoviews_load.v0+json": ""
     },
     "metadata": {},
     "output_type": "display_data"
    },
    {
     "data": {
      "application/javascript": "\nif ((window.PyViz === undefined) || (window.PyViz instanceof HTMLElement)) {\n  window.PyViz = {comms: {}, comm_status:{}, kernels:{}, receivers: {}, plot_index: []}\n}\n\n\n    function JupyterCommManager() {\n    }\n\n    JupyterCommManager.prototype.register_target = function(plot_id, comm_id, msg_handler) {\n      if (window.comm_manager || ((window.Jupyter !== undefined) && (Jupyter.notebook.kernel != null))) {\n        var comm_manager = window.comm_manager || Jupyter.notebook.kernel.comm_manager;\n        comm_manager.register_target(comm_id, function(comm) {\n          comm.on_msg(msg_handler);\n        });\n      } else if ((plot_id in window.PyViz.kernels) && (window.PyViz.kernels[plot_id])) {\n        window.PyViz.kernels[plot_id].registerCommTarget(comm_id, function(comm) {\n          comm.onMsg = msg_handler;\n        });\n      } else if (typeof google != 'undefined' && google.colab.kernel != null) {\n        google.colab.kernel.comms.registerTarget(comm_id, (comm) => {\n          var messages = comm.messages[Symbol.asyncIterator]();\n          function processIteratorResult(result) {\n            var message = result.value;\n            console.log(message)\n            var content = {data: message.data, comm_id};\n            var buffers = []\n            for (var buffer of message.buffers || []) {\n              buffers.push(new DataView(buffer))\n            }\n            var metadata = message.metadata || {};\n            var msg = {content, buffers, metadata}\n            msg_handler(msg);\n            return messages.next().then(processIteratorResult);\n          }\n          return messages.next().then(processIteratorResult);\n        })\n      }\n    }\n\n    JupyterCommManager.prototype.get_client_comm = function(plot_id, comm_id, msg_handler) {\n      if (comm_id in window.PyViz.comms) {\n        return window.PyViz.comms[comm_id];\n      } else if (window.comm_manager || ((window.Jupyter !== undefined) && (Jupyter.notebook.kernel != null))) {\n        var comm_manager = window.comm_manager || Jupyter.notebook.kernel.comm_manager;\n        var comm = comm_manager.new_comm(comm_id, {}, {}, {}, comm_id);\n        if (msg_handler) {\n          comm.on_msg(msg_handler);\n        }\n      } else if ((plot_id in window.PyViz.kernels) && (window.PyViz.kernels[plot_id])) {\n        var comm = window.PyViz.kernels[plot_id].connectToComm(comm_id);\n        comm.open();\n        if (msg_handler) {\n          comm.onMsg = msg_handler;\n        }\n      } else if (typeof google != 'undefined' && google.colab.kernel != null) {\n        var comm_promise = google.colab.kernel.comms.open(comm_id)\n        comm_promise.then((comm) => {\n          window.PyViz.comms[comm_id] = comm;\n          if (msg_handler) {\n            var messages = comm.messages[Symbol.asyncIterator]();\n            function processIteratorResult(result) {\n              var message = result.value;\n              var content = {data: message.data};\n              var metadata = message.metadata || {comm_id};\n              var msg = {content, metadata}\n              msg_handler(msg);\n              return messages.next().then(processIteratorResult);\n            }\n            return messages.next().then(processIteratorResult);\n          }\n        })\n        var sendClosure = (data, metadata, buffers, disposeOnDone) => {\n          return comm_promise.then((comm) => {\n            comm.send(data, metadata, buffers, disposeOnDone);\n          });\n        };\n        var comm = {\n          send: sendClosure\n        };\n      }\n      window.PyViz.comms[comm_id] = comm;\n      return comm;\n    }\n    window.PyViz.comm_manager = new JupyterCommManager();\n    \n\n\nvar JS_MIME_TYPE = 'application/javascript';\nvar HTML_MIME_TYPE = 'text/html';\nvar EXEC_MIME_TYPE = 'application/vnd.holoviews_exec.v0+json';\nvar CLASS_NAME = 'output';\n\n/**\n * Render data to the DOM node\n */\nfunction render(props, node) {\n  var div = document.createElement(\"div\");\n  var script = document.createElement(\"script\");\n  node.appendChild(div);\n  node.appendChild(script);\n}\n\n/**\n * Handle when a new output is added\n */\nfunction handle_add_output(event, handle) {\n  var output_area = handle.output_area;\n  var output = handle.output;\n  if ((output.data == undefined) || (!output.data.hasOwnProperty(EXEC_MIME_TYPE))) {\n    return\n  }\n  var id = output.metadata[EXEC_MIME_TYPE][\"id\"];\n  var toinsert = output_area.element.find(\".\" + CLASS_NAME.split(' ')[0]);\n  if (id !== undefined) {\n    var nchildren = toinsert.length;\n    var html_node = toinsert[nchildren-1].children[0];\n    html_node.innerHTML = output.data[HTML_MIME_TYPE];\n    var scripts = [];\n    var nodelist = html_node.querySelectorAll(\"script\");\n    for (var i in nodelist) {\n      if (nodelist.hasOwnProperty(i)) {\n        scripts.push(nodelist[i])\n      }\n    }\n\n    scripts.forEach( function (oldScript) {\n      var newScript = document.createElement(\"script\");\n      var attrs = [];\n      var nodemap = oldScript.attributes;\n      for (var j in nodemap) {\n        if (nodemap.hasOwnProperty(j)) {\n          attrs.push(nodemap[j])\n        }\n      }\n      attrs.forEach(function(attr) { newScript.setAttribute(attr.name, attr.value) });\n      newScript.appendChild(document.createTextNode(oldScript.innerHTML));\n      oldScript.parentNode.replaceChild(newScript, oldScript);\n    });\n    if (JS_MIME_TYPE in output.data) {\n      toinsert[nchildren-1].children[1].textContent = output.data[JS_MIME_TYPE];\n    }\n    output_area._hv_plot_id = id;\n    if ((window.Bokeh !== undefined) && (id in Bokeh.index)) {\n      window.PyViz.plot_index[id] = Bokeh.index[id];\n    } else {\n      window.PyViz.plot_index[id] = null;\n    }\n  } else if (output.metadata[EXEC_MIME_TYPE][\"server_id\"] !== undefined) {\n    var bk_div = document.createElement(\"div\");\n    bk_div.innerHTML = output.data[HTML_MIME_TYPE];\n    var script_attrs = bk_div.children[0].attributes;\n    for (var i = 0; i < script_attrs.length; i++) {\n      toinsert[toinsert.length - 1].childNodes[1].setAttribute(script_attrs[i].name, script_attrs[i].value);\n    }\n    // store reference to server id on output_area\n    output_area._bokeh_server_id = output.metadata[EXEC_MIME_TYPE][\"server_id\"];\n  }\n}\n\n/**\n * Handle when an output is cleared or removed\n */\nfunction handle_clear_output(event, handle) {\n  var id = handle.cell.output_area._hv_plot_id;\n  var server_id = handle.cell.output_area._bokeh_server_id;\n  if (((id === undefined) || !(id in PyViz.plot_index)) && (server_id !== undefined)) { return; }\n  var comm = window.PyViz.comm_manager.get_client_comm(\"hv-extension-comm\", \"hv-extension-comm\", function () {});\n  if (server_id !== null) {\n    comm.send({event_type: 'server_delete', 'id': server_id});\n    return;\n  } else if (comm !== null) {\n    comm.send({event_type: 'delete', 'id': id});\n  }\n  delete PyViz.plot_index[id];\n  if ((window.Bokeh !== undefined) & (id in window.Bokeh.index)) {\n    var doc = window.Bokeh.index[id].model.document\n    doc.clear();\n    const i = window.Bokeh.documents.indexOf(doc);\n    if (i > -1) {\n      window.Bokeh.documents.splice(i, 1);\n    }\n  }\n}\n\n/**\n * Handle kernel restart event\n */\nfunction handle_kernel_cleanup(event, handle) {\n  delete PyViz.comms[\"hv-extension-comm\"];\n  window.PyViz.plot_index = {}\n}\n\n/**\n * Handle update_display_data messages\n */\nfunction handle_update_output(event, handle) {\n  handle_clear_output(event, {cell: {output_area: handle.output_area}})\n  handle_add_output(event, handle)\n}\n\nfunction register_renderer(events, OutputArea) {\n  function append_mime(data, metadata, element) {\n    // create a DOM node to render to\n    var toinsert = this.create_output_subarea(\n    metadata,\n    CLASS_NAME,\n    EXEC_MIME_TYPE\n    );\n    this.keyboard_manager.register_events(toinsert);\n    // Render to node\n    var props = {data: data, metadata: metadata[EXEC_MIME_TYPE]};\n    render(props, toinsert[0]);\n    element.append(toinsert);\n    return toinsert\n  }\n\n  events.on('output_added.OutputArea', handle_add_output);\n  events.on('output_updated.OutputArea', handle_update_output);\n  events.on('clear_output.CodeCell', handle_clear_output);\n  events.on('delete.Cell', handle_clear_output);\n  events.on('kernel_ready.Kernel', handle_kernel_cleanup);\n\n  OutputArea.prototype.register_mime_type(EXEC_MIME_TYPE, append_mime, {\n    safe: true,\n    index: 0\n  });\n}\n\nif (window.Jupyter !== undefined) {\n  try {\n    var events = require('base/js/events');\n    var OutputArea = require('notebook/js/outputarea').OutputArea;\n    if (OutputArea.prototype.mime_types().indexOf(EXEC_MIME_TYPE) == -1) {\n      register_renderer(events, OutputArea);\n    }\n  } catch(err) {\n  }\n}\n",
      "application/vnd.holoviews_load.v0+json": ""
     },
     "metadata": {},
     "output_type": "display_data"
    },
    {
     "data": {
      "application/vnd.holoviews_exec.v0+json": "",
      "text/html": [
       "<div id='d668bd34-4e1e-49d7-a657-ffc5c03bbe62'>\n",
       "  <div id=\"ba45127d-d8d4-4112-a960-ae7c9d0c5570\" data-root-id=\"d668bd34-4e1e-49d7-a657-ffc5c03bbe62\" style=\"display: contents;\"></div>\n",
       "</div>\n",
       "<script type=\"application/javascript\">(function(root) {\n",
       "  var docs_json = {\"cb17ec0e-c88e-4a71-8d9e-f9f451209a90\":{\"version\":\"3.7.2\",\"title\":\"Bokeh Application\",\"roots\":[{\"type\":\"object\",\"name\":\"panel.models.browser.BrowserInfo\",\"id\":\"d668bd34-4e1e-49d7-a657-ffc5c03bbe62\"},{\"type\":\"object\",\"name\":\"panel.models.comm_manager.CommManager\",\"id\":\"3a2a5f53-0841-4251-8d3e-97a65e51daaa\",\"attributes\":{\"plot_id\":\"d668bd34-4e1e-49d7-a657-ffc5c03bbe62\",\"comm_id\":\"e95d872860a9473ab7135654bdde0d5d\",\"client_comm_id\":\"2a489657329443f183d76924abe12f3c\"}}],\"defs\":[{\"type\":\"model\",\"name\":\"ReactiveHTML1\"},{\"type\":\"model\",\"name\":\"FlexBox1\",\"properties\":[{\"name\":\"align_content\",\"kind\":\"Any\",\"default\":\"flex-start\"},{\"name\":\"align_items\",\"kind\":\"Any\",\"default\":\"flex-start\"},{\"name\":\"flex_direction\",\"kind\":\"Any\",\"default\":\"row\"},{\"name\":\"flex_wrap\",\"kind\":\"Any\",\"default\":\"wrap\"},{\"name\":\"gap\",\"kind\":\"Any\",\"default\":\"\"},{\"name\":\"justify_content\",\"kind\":\"Any\",\"default\":\"flex-start\"}]},{\"type\":\"model\",\"name\":\"FloatPanel1\",\"properties\":[{\"name\":\"config\",\"kind\":\"Any\",\"default\":{\"type\":\"map\"}},{\"name\":\"contained\",\"kind\":\"Any\",\"default\":true},{\"name\":\"position\",\"kind\":\"Any\",\"default\":\"right-top\"},{\"name\":\"offsetx\",\"kind\":\"Any\",\"default\":null},{\"name\":\"offsety\",\"kind\":\"Any\",\"default\":null},{\"name\":\"theme\",\"kind\":\"Any\",\"default\":\"primary\"},{\"name\":\"status\",\"kind\":\"Any\",\"default\":\"normalized\"}]},{\"type\":\"model\",\"name\":\"GridStack1\",\"properties\":[{\"name\":\"ncols\",\"kind\":\"Any\",\"default\":null},{\"name\":\"nrows\",\"kind\":\"Any\",\"default\":null},{\"name\":\"allow_resize\",\"kind\":\"Any\",\"default\":true},{\"name\":\"allow_drag\",\"kind\":\"Any\",\"default\":true},{\"name\":\"state\",\"kind\":\"Any\",\"default\":[]}]},{\"type\":\"model\",\"name\":\"drag1\",\"properties\":[{\"name\":\"slider_width\",\"kind\":\"Any\",\"default\":5},{\"name\":\"slider_color\",\"kind\":\"Any\",\"default\":\"black\"},{\"name\":\"value\",\"kind\":\"Any\",\"default\":50}]},{\"type\":\"model\",\"name\":\"click1\",\"properties\":[{\"name\":\"terminal_output\",\"kind\":\"Any\",\"default\":\"\"},{\"name\":\"debug_name\",\"kind\":\"Any\",\"default\":\"\"},{\"name\":\"clears\",\"kind\":\"Any\",\"default\":0}]},{\"type\":\"model\",\"name\":\"FastWrapper1\",\"properties\":[{\"name\":\"object\",\"kind\":\"Any\",\"default\":null},{\"name\":\"style\",\"kind\":\"Any\",\"default\":null}]},{\"type\":\"model\",\"name\":\"NotificationArea1\",\"properties\":[{\"name\":\"js_events\",\"kind\":\"Any\",\"default\":{\"type\":\"map\"}},{\"name\":\"max_notifications\",\"kind\":\"Any\",\"default\":5},{\"name\":\"notifications\",\"kind\":\"Any\",\"default\":[]},{\"name\":\"position\",\"kind\":\"Any\",\"default\":\"bottom-right\"},{\"name\":\"_clear\",\"kind\":\"Any\",\"default\":0},{\"name\":\"types\",\"kind\":\"Any\",\"default\":[{\"type\":\"map\",\"entries\":[[\"type\",\"warning\"],[\"background\",\"#ffc107\"],[\"icon\",{\"type\":\"map\",\"entries\":[[\"className\",\"fas fa-exclamation-triangle\"],[\"tagName\",\"i\"],[\"color\",\"white\"]]}]]},{\"type\":\"map\",\"entries\":[[\"type\",\"info\"],[\"background\",\"#007bff\"],[\"icon\",{\"type\":\"map\",\"entries\":[[\"className\",\"fas fa-info-circle\"],[\"tagName\",\"i\"],[\"color\",\"white\"]]}]]}]}]},{\"type\":\"model\",\"name\":\"Notification\",\"properties\":[{\"name\":\"background\",\"kind\":\"Any\",\"default\":null},{\"name\":\"duration\",\"kind\":\"Any\",\"default\":3000},{\"name\":\"icon\",\"kind\":\"Any\",\"default\":null},{\"name\":\"message\",\"kind\":\"Any\",\"default\":\"\"},{\"name\":\"notification_type\",\"kind\":\"Any\",\"default\":null},{\"name\":\"_rendered\",\"kind\":\"Any\",\"default\":false},{\"name\":\"_destroyed\",\"kind\":\"Any\",\"default\":false}]},{\"type\":\"model\",\"name\":\"TemplateActions1\",\"properties\":[{\"name\":\"open_modal\",\"kind\":\"Any\",\"default\":0},{\"name\":\"close_modal\",\"kind\":\"Any\",\"default\":0}]},{\"type\":\"model\",\"name\":\"BootstrapTemplateActions1\",\"properties\":[{\"name\":\"open_modal\",\"kind\":\"Any\",\"default\":0},{\"name\":\"close_modal\",\"kind\":\"Any\",\"default\":0}]},{\"type\":\"model\",\"name\":\"TemplateEditor1\",\"properties\":[{\"name\":\"layout\",\"kind\":\"Any\",\"default\":[]}]},{\"type\":\"model\",\"name\":\"MaterialTemplateActions1\",\"properties\":[{\"name\":\"open_modal\",\"kind\":\"Any\",\"default\":0},{\"name\":\"close_modal\",\"kind\":\"Any\",\"default\":0}]},{\"type\":\"model\",\"name\":\"ReactiveESM1\",\"properties\":[{\"name\":\"esm_constants\",\"kind\":\"Any\",\"default\":{\"type\":\"map\"}}]},{\"type\":\"model\",\"name\":\"JSComponent1\",\"properties\":[{\"name\":\"esm_constants\",\"kind\":\"Any\",\"default\":{\"type\":\"map\"}}]},{\"type\":\"model\",\"name\":\"ReactComponent1\",\"properties\":[{\"name\":\"esm_constants\",\"kind\":\"Any\",\"default\":{\"type\":\"map\"}}]},{\"type\":\"model\",\"name\":\"AnyWidgetComponent1\",\"properties\":[{\"name\":\"esm_constants\",\"kind\":\"Any\",\"default\":{\"type\":\"map\"}}]},{\"type\":\"model\",\"name\":\"request_value1\",\"properties\":[{\"name\":\"fill\",\"kind\":\"Any\",\"default\":\"none\"},{\"name\":\"_synced\",\"kind\":\"Any\",\"default\":null},{\"name\":\"_request_sync\",\"kind\":\"Any\",\"default\":0}]}]}};\n",
       "  var render_items = [{\"docid\":\"cb17ec0e-c88e-4a71-8d9e-f9f451209a90\",\"roots\":{\"d668bd34-4e1e-49d7-a657-ffc5c03bbe62\":\"ba45127d-d8d4-4112-a960-ae7c9d0c5570\"},\"root_ids\":[\"d668bd34-4e1e-49d7-a657-ffc5c03bbe62\"]}];\n",
       "  var docs = Object.values(docs_json)\n",
       "  if (!docs) {\n",
       "    return\n",
       "  }\n",
       "  const py_version = docs[0].version.replace('rc', '-rc.').replace('.dev', '-dev.')\n",
       "  async function embed_document(root) {\n",
       "    var Bokeh = get_bokeh(root)\n",
       "    await Bokeh.embed.embed_items_notebook(docs_json, render_items);\n",
       "    for (const render_item of render_items) {\n",
       "      for (const root_id of render_item.root_ids) {\n",
       "\tconst id_el = document.getElementById(root_id)\n",
       "\tif (id_el.children.length && id_el.children[0].hasAttribute('data-root-id')) {\n",
       "\t  const root_el = id_el.children[0]\n",
       "\t  root_el.id = root_el.id + '-rendered'\n",
       "\t  for (const child of root_el.children) {\n",
       "            // Ensure JupyterLab does not capture keyboard shortcuts\n",
       "            // see: https://jupyterlab.readthedocs.io/en/4.1.x/extension/notebook.html#keyboard-interaction-model\n",
       "\t    child.setAttribute('data-lm-suppress-shortcuts', 'true')\n",
       "\t  }\n",
       "\t}\n",
       "      }\n",
       "    }\n",
       "  }\n",
       "  function get_bokeh(root) {\n",
       "    if (root.Bokeh === undefined) {\n",
       "      return null\n",
       "    } else if (root.Bokeh.version !== py_version) {\n",
       "      if (root.Bokeh.versions === undefined || !root.Bokeh.versions.has(py_version)) {\n",
       "\treturn null\n",
       "      }\n",
       "      return root.Bokeh.versions.get(py_version);\n",
       "    } else if (root.Bokeh.version === py_version) {\n",
       "      return root.Bokeh\n",
       "    }\n",
       "    return null\n",
       "  }\n",
       "  function is_loaded(root) {\n",
       "    var Bokeh = get_bokeh(root)\n",
       "    return (Bokeh != null && Bokeh.Panel !== undefined)\n",
       "  }\n",
       "  if (is_loaded(root)) {\n",
       "    embed_document(root);\n",
       "  } else {\n",
       "    var attempts = 0;\n",
       "    var timer = setInterval(function(root) {\n",
       "      if (is_loaded(root)) {\n",
       "        clearInterval(timer);\n",
       "        embed_document(root);\n",
       "      } else if (document.readyState == \"complete\") {\n",
       "        attempts++;\n",
       "        if (attempts > 200) {\n",
       "          clearInterval(timer);\n",
       "\t  var Bokeh = get_bokeh(root)\n",
       "\t  if (Bokeh == null || Bokeh.Panel == null) {\n",
       "            console.warn(\"Panel: ERROR: Unable to run Panel code because Bokeh or Panel library is missing\");\n",
       "\t  } else {\n",
       "\t    console.warn(\"Panel: WARNING: Attempting to render but not all required libraries could be resolved.\")\n",
       "\t    embed_document(root)\n",
       "\t  }\n",
       "        }\n",
       "      }\n",
       "    }, 25, root)\n",
       "  }\n",
       "})(window);</script>"
      ]
     },
     "metadata": {
      "application/vnd.holoviews_exec.v0+json": {
       "id": "d668bd34-4e1e-49d7-a657-ffc5c03bbe62"
      }
     },
     "output_type": "display_data"
    }
   ],
   "source": [
    "from bs4 import BeautifulSoup\n",
    "# import pandas as pd\n",
    "from datetime import datetime, timedelta\n",
    "from itertools import combinations\n",
    "import json\n",
    "import requests\n",
    "import math\n",
    "from typing import Optional, List, Dict\n",
    "import os\n",
    "\n",
    "from pydantic import BaseModel\n",
    "from typing import Mapping\n",
    "import numpy as np\n",
    "import polars as pl\n",
    "import hvplot.polars\n",
    "import pandas as pd\n",
    "import altair as alt\n",
    "import math\n",
    "\n",
    "from shared.utils import formalize_data_with_str\n",
    "from shared.random_rules import RandomRules"
   ]
  },
  {
   "cell_type": "code",
   "execution_count": 3,
   "metadata": {},
   "outputs": [],
   "source": [
    "rr = RandomRules(\n",
    "  TOTAL_NUMBERS = 35,\n",
    "  CHOOSE = 5,\n",
    "  MAX_PRIMES = 3,\n",
    "  N_VALUES=[\"1\", \"2\", \"3\"],\n",
    "  # Rangos de valores de las bolillas\n",
    "  MIN_B_VALUES = [1, 2, 3, 4, 5],\n",
    "  MAX_B_VALUES = [31, 32, 33, 34, 35]\n",
    ")"
   ]
  },
  {
   "cell_type": "code",
   "execution_count": 4,
   "metadata": {},
   "outputs": [],
   "source": [
    "url = 'https://resultados.latinka.com.pe/i.do?m=historico&t=0&s=164'\n",
    "response = requests.get(url)\n",
    "soup = BeautifulSoup(response.text, 'html.parser')\n",
    "\n",
    "tables = soup.select('table')\n",
    "rows = tables[1].find_all('tr')"
   ]
  },
  {
   "cell_type": "code",
   "execution_count": 5,
   "metadata": {},
   "outputs": [
    {
     "name": "stdout",
     "output_type": "stream",
     "text": [
      "TOTAL_LINES=7742\n"
     ]
    },
    {
     "data": {
      "text/html": [
       "<div><style>\n",
       ".dataframe > thead > tr,\n",
       ".dataframe > tbody > tr {\n",
       "  text-align: right;\n",
       "  white-space: pre-wrap;\n",
       "}\n",
       "</style>\n",
       "<small>shape: (10, 24)</small><table border=\"1\" class=\"dataframe\"><thead><tr><th>fecha</th><th>sorteo</th><th>bolillas</th><th>id</th><th>combo</th><th>b1</th><th>b2</th><th>b3</th><th>b4</th><th>b5</th><th>str_b1</th><th>str_b2</th><th>str_b3</th><th>str_b4</th><th>str_b5</th><th>post_str_b1</th><th>post_str_b2</th><th>post_str_b3</th><th>post_str_b4</th><th>post_str_blast</th><th>is_rare_combination</th><th>reason</th><th>jumps_map</th><th>unijump</th></tr><tr><td>str</td><td>str</td><td>str</td><td>str</td><td>array[u8, 5]</td><td>u8</td><td>u8</td><td>u8</td><td>u8</td><td>u8</td><td>str</td><td>str</td><td>str</td><td>str</td><td>str</td><td>str</td><td>str</td><td>str</td><td>str</td><td>str</td><td>bool</td><td>u8</td><td>str</td><td>i64</td></tr></thead><tbody><tr><td>&quot;26/04/2025&quot;</td><td>&quot;4198&quot;</td><td>&quot;23 35 07 26 21&quot;</td><td>&quot;0721232635&quot;</td><td>[7, 21, … 35]</td><td>7</td><td>21</td><td>23</td><td>26</td><td>35</td><td>&quot;07&quot;</td><td>&quot;21&quot;</td><td>&quot;23&quot;</td><td>&quot;26&quot;</td><td>&quot;35&quot;</td><td>null</td><td>null</td><td>null</td><td>null</td><td>null</td><td>false</td><td>0</td><td>&quot;14_02_03_09&quot;</td><td>-8</td></tr><tr><td>&quot;25/04/2025&quot;</td><td>&quot;4197&quot;</td><td>&quot;27 31 35 03 20&quot;</td><td>&quot;0320273135&quot;</td><td>[3, 20, … 35]</td><td>3</td><td>20</td><td>27</td><td>31</td><td>35</td><td>&quot;03&quot;</td><td>&quot;20&quot;</td><td>&quot;27&quot;</td><td>&quot;31&quot;</td><td>&quot;35&quot;</td><td>&quot;07&quot;</td><td>&quot;21&quot;</td><td>&quot;23&quot;</td><td>&quot;26&quot;</td><td>&quot;35&quot;</td><td>true</td><td>8</td><td>&quot;17_07_04_04&quot;</td><td>-4</td></tr><tr><td>&quot;24/04/2025&quot;</td><td>&quot;4196&quot;</td><td>&quot;16 05 02 26 29&quot;</td><td>&quot;0205162629&quot;</td><td>[2, 5, … 29]</td><td>2</td><td>5</td><td>16</td><td>26</td><td>29</td><td>&quot;02&quot;</td><td>&quot;05&quot;</td><td>&quot;16&quot;</td><td>&quot;26&quot;</td><td>&quot;29&quot;</td><td>&quot;03&quot;</td><td>&quot;20&quot;</td><td>&quot;27&quot;</td><td>&quot;31&quot;</td><td>&quot;35&quot;</td><td>true</td><td>16</td><td>&quot;03_11_10_03&quot;</td><td>3</td></tr><tr><td>&quot;23/04/2025&quot;</td><td>&quot;4195&quot;</td><td>&quot;11 33 19 20 14&quot;</td><td>&quot;1114192033&quot;</td><td>[11, 14, … 33]</td><td>11</td><td>14</td><td>19</td><td>20</td><td>33</td><td>&quot;11&quot;</td><td>&quot;14&quot;</td><td>&quot;19&quot;</td><td>&quot;20&quot;</td><td>&quot;33&quot;</td><td>&quot;02&quot;</td><td>&quot;05&quot;</td><td>&quot;16&quot;</td><td>&quot;26&quot;</td><td>&quot;29&quot;</td><td>false</td><td>0</td><td>&quot;03_05_01_13&quot;</td><td>22</td></tr><tr><td>&quot;22/04/2025&quot;</td><td>&quot;4194&quot;</td><td>&quot;06 07 16 18 20&quot;</td><td>&quot;0607161820&quot;</td><td>[6, 7, … 20]</td><td>6</td><td>7</td><td>16</td><td>18</td><td>20</td><td>&quot;06&quot;</td><td>&quot;07&quot;</td><td>&quot;16&quot;</td><td>&quot;18&quot;</td><td>&quot;20&quot;</td><td>&quot;11&quot;</td><td>&quot;14&quot;</td><td>&quot;19&quot;</td><td>&quot;20&quot;</td><td>&quot;33&quot;</td><td>true</td><td>24</td><td>&quot;01_09_02_02&quot;</td><td>22</td></tr><tr><td>&quot;21/04/2025&quot;</td><td>&quot;4193&quot;</td><td>&quot;08 01 07 21 25&quot;</td><td>&quot;0107082125&quot;</td><td>[1, 7, … 25]</td><td>1</td><td>7</td><td>8</td><td>21</td><td>25</td><td>&quot;01&quot;</td><td>&quot;07&quot;</td><td>&quot;08&quot;</td><td>&quot;21&quot;</td><td>&quot;25&quot;</td><td>&quot;06&quot;</td><td>&quot;07&quot;</td><td>&quot;16&quot;</td><td>&quot;18&quot;</td><td>&quot;20&quot;</td><td>true</td><td>16</td><td>&quot;06_01_13_04&quot;</td><td>-38</td></tr><tr><td>&quot;20/04/2025&quot;</td><td>&quot;4192&quot;</td><td>&quot;19 10 12 28 11&quot;</td><td>&quot;1011121928&quot;</td><td>[10, 11, … 28]</td><td>10</td><td>11</td><td>12</td><td>19</td><td>28</td><td>&quot;10&quot;</td><td>&quot;11&quot;</td><td>&quot;12&quot;</td><td>&quot;19&quot;</td><td>&quot;28&quot;</td><td>&quot;01&quot;</td><td>&quot;07&quot;</td><td>&quot;08&quot;</td><td>&quot;21&quot;</td><td>&quot;25&quot;</td><td>true</td><td>24</td><td>&quot;01_01_07_09&quot;</td><td>-10</td></tr><tr><td>&quot;19/04/2025&quot;</td><td>&quot;4191&quot;</td><td>&quot;10 06 15 20 21&quot;</td><td>&quot;0610152021&quot;</td><td>[6, 10, … 21]</td><td>6</td><td>10</td><td>15</td><td>20</td><td>21</td><td>&quot;06&quot;</td><td>&quot;10&quot;</td><td>&quot;15&quot;</td><td>&quot;20&quot;</td><td>&quot;21&quot;</td><td>&quot;10&quot;</td><td>&quot;11&quot;</td><td>&quot;12&quot;</td><td>&quot;19&quot;</td><td>&quot;28&quot;</td><td>true</td><td>24</td><td>&quot;04_05_05_01&quot;</td><td>-3</td></tr><tr><td>&quot;18/04/2025&quot;</td><td>&quot;4190&quot;</td><td>&quot;21 23 31 05 25&quot;</td><td>&quot;0521232531&quot;</td><td>[5, 21, … 31]</td><td>5</td><td>21</td><td>23</td><td>25</td><td>31</td><td>&quot;05&quot;</td><td>&quot;21&quot;</td><td>&quot;23&quot;</td><td>&quot;25&quot;</td><td>&quot;31&quot;</td><td>&quot;06&quot;</td><td>&quot;10&quot;</td><td>&quot;15&quot;</td><td>&quot;20&quot;</td><td>&quot;21&quot;</td><td>true</td><td>10</td><td>&quot;16_02_02_06&quot;</td><td>-10</td></tr><tr><td>&quot;17/04/2025&quot;</td><td>&quot;4189&quot;</td><td>&quot;33 30 16 19 14&quot;</td><td>&quot;1416193033&quot;</td><td>[14, 16, … 33]</td><td>14</td><td>16</td><td>19</td><td>30</td><td>33</td><td>&quot;14&quot;</td><td>&quot;16&quot;</td><td>&quot;19&quot;</td><td>&quot;30&quot;</td><td>&quot;33&quot;</td><td>&quot;05&quot;</td><td>&quot;21&quot;</td><td>&quot;23&quot;</td><td>&quot;25&quot;</td><td>&quot;31&quot;</td><td>true</td><td>16</td><td>&quot;02_03_11_03&quot;</td><td>-23</td></tr></tbody></table></div>"
      ],
      "text/plain": [
       "shape: (10, 24)\n",
       "┌────────────┬────────┬─────────────┬────────────┬───┬─────────────┬────────┬────────────┬─────────┐\n",
       "│ fecha      ┆ sorteo ┆ bolillas    ┆ id         ┆ … ┆ is_rare_com ┆ reason ┆ jumps_map  ┆ unijump │\n",
       "│ ---        ┆ ---    ┆ ---         ┆ ---        ┆   ┆ bination    ┆ ---    ┆ ---        ┆ ---     │\n",
       "│ str        ┆ str    ┆ str         ┆ str        ┆   ┆ ---         ┆ u8     ┆ str        ┆ i64     │\n",
       "│            ┆        ┆             ┆            ┆   ┆ bool        ┆        ┆            ┆         │\n",
       "╞════════════╪════════╪═════════════╪════════════╪═══╪═════════════╪════════╪════════════╪═════════╡\n",
       "│ 26/04/2025 ┆ 4198   ┆ 23 35 07 26 ┆ 0721232635 ┆ … ┆ false       ┆ 0      ┆ 14_02_03_0 ┆ -8      │\n",
       "│            ┆        ┆ 21          ┆            ┆   ┆             ┆        ┆ 9          ┆         │\n",
       "│ 25/04/2025 ┆ 4197   ┆ 27 31 35 03 ┆ 0320273135 ┆ … ┆ true        ┆ 8      ┆ 17_07_04_0 ┆ -4      │\n",
       "│            ┆        ┆ 20          ┆            ┆   ┆             ┆        ┆ 4          ┆         │\n",
       "│ 24/04/2025 ┆ 4196   ┆ 16 05 02 26 ┆ 0205162629 ┆ … ┆ true        ┆ 16     ┆ 03_11_10_0 ┆ 3       │\n",
       "│            ┆        ┆ 29          ┆            ┆   ┆             ┆        ┆ 3          ┆         │\n",
       "│ 23/04/2025 ┆ 4195   ┆ 11 33 19 20 ┆ 1114192033 ┆ … ┆ false       ┆ 0      ┆ 03_05_01_1 ┆ 22      │\n",
       "│            ┆        ┆ 14          ┆            ┆   ┆             ┆        ┆ 3          ┆         │\n",
       "│ 22/04/2025 ┆ 4194   ┆ 06 07 16 18 ┆ 0607161820 ┆ … ┆ true        ┆ 24     ┆ 01_09_02_0 ┆ 22      │\n",
       "│            ┆        ┆ 20          ┆            ┆   ┆             ┆        ┆ 2          ┆         │\n",
       "│ 21/04/2025 ┆ 4193   ┆ 08 01 07 21 ┆ 0107082125 ┆ … ┆ true        ┆ 16     ┆ 06_01_13_0 ┆ -38     │\n",
       "│            ┆        ┆ 25          ┆            ┆   ┆             ┆        ┆ 4          ┆         │\n",
       "│ 20/04/2025 ┆ 4192   ┆ 19 10 12 28 ┆ 1011121928 ┆ … ┆ true        ┆ 24     ┆ 01_01_07_0 ┆ -10     │\n",
       "│            ┆        ┆ 11          ┆            ┆   ┆             ┆        ┆ 9          ┆         │\n",
       "│ 19/04/2025 ┆ 4191   ┆ 10 06 15 20 ┆ 0610152021 ┆ … ┆ true        ┆ 24     ┆ 04_05_05_0 ┆ -3      │\n",
       "│            ┆        ┆ 21          ┆            ┆   ┆             ┆        ┆ 1          ┆         │\n",
       "│ 18/04/2025 ┆ 4190   ┆ 21 23 31 05 ┆ 0521232531 ┆ … ┆ true        ┆ 10     ┆ 16_02_02_0 ┆ -10     │\n",
       "│            ┆        ┆ 25          ┆            ┆   ┆             ┆        ┆ 6          ┆         │\n",
       "│ 17/04/2025 ┆ 4189   ┆ 33 30 16 19 ┆ 1416193033 ┆ … ┆ true        ┆ 16     ┆ 02_03_11_0 ┆ -23     │\n",
       "│            ┆        ┆ 14          ┆            ┆   ┆             ┆        ┆ 3          ┆         │\n",
       "└────────────┴────────┴─────────────┴────────────┴───┴─────────────┴────────┴────────────┴─────────┘"
      ]
     },
     "metadata": {},
     "output_type": "display_data"
    }
   ],
   "source": [
    "lst = []\n",
    "post_str_b1 = None\n",
    "post_str_b2 = None\n",
    "post_str_b3 = None\n",
    "post_str_b4 = None\n",
    "post_str_blast = None\n",
    "for row in rows:\n",
    "  cols = [data.text.strip() for data in row.find_all('td')]\n",
    "  \n",
    "  id, bolillas_int, str_combo = formalize_data_with_str(bolillas_str=cols[2])\n",
    "  cols.append(id)\n",
    "  cols.append(bolillas_int)\n",
    "  cols.extend([b for b in bolillas_int])\n",
    "  cols.extend(str_combo)\n",
    "  cols.append(post_str_b1)\n",
    "  cols.append(post_str_b2)\n",
    "  cols.append(post_str_b3)\n",
    "  cols.append(post_str_b4)\n",
    "  cols.append(post_str_blast)\n",
    "\n",
    "  is_rare, reason = rr.is_rare_combination(bolillas_int, id)\n",
    "  cols.append(is_rare)\n",
    "  cols.append(reason)\n",
    "\n",
    "  cols.append(rr.jumps_map(bolillas_int))\n",
    "  cols.append(rr.unijump(bolillas_int))\n",
    "  \n",
    "  lst.append(cols)\n",
    "\n",
    "  post_str_b1 = str_combo[0]\n",
    "  post_str_b2 = str_combo[1]\n",
    "  post_str_b3 = str_combo[2]\n",
    "  post_str_b4 = str_combo[3]\n",
    "  post_str_blast = str_combo[-1]\n",
    "\n",
    "with open('./gn_cahe_v3.json', 'w') as file: \n",
    "  json.dump(lst, file)\n",
    "\n",
    "dfRows = pl.DataFrame(\n",
    "  lst,\n",
    "  schema=[\n",
    "    'fecha', 'sorteo', 'bolillas',\n",
    "    'id', 'combo', 'b1', 'b2', 'b3', 'b4', 'b5',\n",
    "    'str_b1', 'str_b2', 'str_b3', 'str_b4', 'str_b5',\n",
    "    'post_str_b1', 'post_str_b2', 'post_str_b3', 'post_str_b4', 'post_str_blast',\n",
    "    'is_rare_combination', 'reason',\n",
    "    \"jumps_map\", \"unijump\"\n",
    "  ],\n",
    "  schema_overrides={\n",
    "    'combo': pl.Array(pl.UInt8, 5),\n",
    "    'b1': pl.UInt8,\n",
    "    'b2': pl.UInt8,\n",
    "    'b3': pl.UInt8,\n",
    "    'b4': pl.UInt8,\n",
    "    'b5': pl.UInt8,\n",
    "    'b6': pl.UInt8,\n",
    "    'reason': pl.UInt8\n",
    "  },\n",
    "  orient='row'\n",
    ")\n",
    "\n",
    "TOTAL_LINES = len(dfRows)\n",
    "print(f'{TOTAL_LINES=}')\n",
    "display(dfRows.head(10))"
   ]
  },
  {
   "cell_type": "code",
   "execution_count": 6,
   "metadata": {},
   "outputs": [
    {
     "data": {
      "text/plain": [
       "21"
      ]
     },
     "execution_count": 6,
     "metadata": {},
     "output_type": "execute_result"
    }
   ],
   "source": [
    "dfRows.item(0, 'b2')"
   ]
  },
  {
   "cell_type": "code",
   "execution_count": 7,
   "metadata": {},
   "outputs": [],
   "source": [
    "import holoviews as hv\n",
    "def plot_post_col (col: str, post_col: str, test_value: str | None = None):\n",
    "  if test_value == None:\n",
    "    test_value = dfRows.item(0, col)\n",
    "    print(f'Setting {test_value=}')\n",
    "\n",
    "  df_viz = dfRows \\\n",
    "    .filter(\n",
    "      pl.col(col) == test_value,\n",
    "      pl.col(post_col).is_not_null()\n",
    "    ) \\\n",
    "    .group_by(\n",
    "      post_col\n",
    "    ).agg(pl.count(post_col).alias('count')) \\\n",
    "    .sort(\"count\", descending=True)\n",
    "  \n",
    "  \n",
    "  df_10_last = dfRows \\\n",
    "    .filter(\n",
    "      pl.col(col) == test_value,\n",
    "      pl.col(post_col).is_not_null()\n",
    "    ) \\\n",
    "    .head(10)\n",
    "  \n",
    "  # Agrega una columna que sea el porcentaje de la frecuencia relativa\n",
    "  total = df_viz['count'].sum()\n",
    "  df_viz = df_viz.with_columns(\n",
    "    ( (pl.col('count') / total) * 100 ).alias('percent')\n",
    "  )\n",
    "  mean_percent = df_viz['percent'].mean()\n",
    "  mean_percent_75 = mean_percent * 75 / 50\n",
    "  mean_percent_25 = mean_percent * 25 / 50\n",
    "\n",
    "  chart = df_viz.hvplot.bar(\n",
    "    x=post_col,\n",
    "    y='percent'\n",
    "  )\n",
    "\n",
    "  chart = chart * hv.HLine(mean_percent).opts(color='red')\n",
    "  chart = chart * hv.HLine(mean_percent_75).opts(color='blue')\n",
    "  chart = chart * hv.HLine(mean_percent_25).opts(color='blue')\n",
    "  \n",
    "  chart.opts(default_tools=[\"pan\"])\n",
    "\n",
    "  df_jumps_map = dfRows \\\n",
    "    .filter(\n",
    "      pl.col(col) == test_value,\n",
    "      pl.col(post_col).is_not_null()\n",
    "    ) \\\n",
    "    .group_by(\n",
    "      'jumps_map'\n",
    "    ).agg(pl.count('jumps_map').alias('count')) \\\n",
    "    .sort(\"count\", descending=True)\n",
    "  \n",
    "  df_unijump = dfRows \\\n",
    "    .filter(\n",
    "      pl.col(col) == test_value,\n",
    "      pl.col(post_col).is_not_null()\n",
    "    ) \\\n",
    "    .group_by(\n",
    "      'unijump'\n",
    "    ).agg(pl.count('unijump').alias('count')) \\\n",
    "    .sort(\"count\", descending=True)\n",
    "\n",
    "\n",
    "  print(f'df_viz FOR {col} = {test_value}')\n",
    "  display(df_viz)\n",
    "\n",
    "  display(chart)\n",
    "  \n",
    "\n",
    "  print(f'df_10_last FOR {col} = {test_value}')\n",
    "  last_results = list(set(df_10_last[post_col][0:3]))\n",
    "  print(f'Last 3 results {last_results=}')\n",
    "  display(df_10_last)\n",
    "  \n",
    "  print(f'df_jumps_map FOR {col} = {test_value}')\n",
    "  display(df_jumps_map)\n",
    "  # display(df_unijump)\n",
    "\n",
    "  print(f'df_unijump FOR {col} = {test_value}')\n",
    "  display(df_unijump)\n",
    "\n",
    "  lst_post_str_b = df_viz.filter(pl.col('percent') >= mean_percent)[post_col].to_list()\n",
    "  lst_jumps_map = df_jumps_map['jumps_map'].to_list() # Used to discard\n",
    "  \n",
    "  return lst_post_str_b, lst_jumps_map, last_results"
   ]
  },
  {
   "cell_type": "code",
   "execution_count": 8,
   "metadata": {},
   "outputs": [
    {
     "name": "stdout",
     "output_type": "stream",
     "text": [
      "Setting test_value='07'\n",
      "df_viz FOR str_b1 = 07\n"
     ]
    },
    {
     "data": {
      "text/html": [
       "<div><style>\n",
       ".dataframe > thead > tr,\n",
       ".dataframe > tbody > tr {\n",
       "  text-align: right;\n",
       "  white-space: pre-wrap;\n",
       "}\n",
       "</style>\n",
       "<small>shape: (22, 3)</small><table border=\"1\" class=\"dataframe\"><thead><tr><th>post_str_b1</th><th>count</th><th>percent</th></tr><tr><td>str</td><td>u32</td><td>f64</td></tr></thead><tbody><tr><td>&quot;01&quot;</td><td>78</td><td>15.354331</td></tr><tr><td>&quot;03&quot;</td><td>60</td><td>11.811024</td></tr><tr><td>&quot;04&quot;</td><td>56</td><td>11.023622</td></tr><tr><td>&quot;02&quot;</td><td>54</td><td>10.629921</td></tr><tr><td>&quot;05&quot;</td><td>45</td><td>8.858268</td></tr><tr><td>&hellip;</td><td>&hellip;</td><td>&hellip;</td></tr><tr><td>&quot;17&quot;</td><td>3</td><td>0.590551</td></tr><tr><td>&quot;16&quot;</td><td>2</td><td>0.393701</td></tr><tr><td>&quot;18&quot;</td><td>1</td><td>0.19685</td></tr><tr><td>&quot;23&quot;</td><td>1</td><td>0.19685</td></tr><tr><td>&quot;21&quot;</td><td>1</td><td>0.19685</td></tr></tbody></table></div>"
      ],
      "text/plain": [
       "shape: (22, 3)\n",
       "┌─────────────┬───────┬───────────┐\n",
       "│ post_str_b1 ┆ count ┆ percent   │\n",
       "│ ---         ┆ ---   ┆ ---       │\n",
       "│ str         ┆ u32   ┆ f64       │\n",
       "╞═════════════╪═══════╪═══════════╡\n",
       "│ 01          ┆ 78    ┆ 15.354331 │\n",
       "│ 03          ┆ 60    ┆ 11.811024 │\n",
       "│ 04          ┆ 56    ┆ 11.023622 │\n",
       "│ 02          ┆ 54    ┆ 10.629921 │\n",
       "│ 05          ┆ 45    ┆ 8.858268  │\n",
       "│ …           ┆ …     ┆ …         │\n",
       "│ 17          ┆ 3     ┆ 0.590551  │\n",
       "│ 16          ┆ 2     ┆ 0.393701  │\n",
       "│ 18          ┆ 1     ┆ 0.19685   │\n",
       "│ 23          ┆ 1     ┆ 0.19685   │\n",
       "│ 21          ┆ 1     ┆ 0.19685   │\n",
       "└─────────────┴───────┴───────────┘"
      ]
     },
     "metadata": {},
     "output_type": "display_data"
    },
    {
     "data": {},
     "metadata": {},
     "output_type": "display_data"
    },
    {
     "data": {
      "application/vnd.holoviews_exec.v0+json": "",
      "text/html": [
       "<div id='9c5a0f2c-f3ac-4564-8a33-16e9ef534156'>\n",
       "  <div id=\"e6df9bfc-0ede-43b7-b1fa-990c36a4efcf\" data-root-id=\"9c5a0f2c-f3ac-4564-8a33-16e9ef534156\" style=\"display: contents;\"></div>\n",
       "</div>\n",
       "<script type=\"application/javascript\">(function(root) {\n",
       "  var docs_json = {\"0ae276f2-d41f-4668-82fe-149ccc2d1916\":{\"version\":\"3.7.2\",\"title\":\"Bokeh Application\",\"roots\":[{\"type\":\"object\",\"name\":\"Row\",\"id\":\"9c5a0f2c-f3ac-4564-8a33-16e9ef534156\",\"attributes\":{\"name\":\"Row00286\",\"tags\":[\"embedded\"],\"stylesheets\":[\"\\n:host(.pn-loading):before, .pn-loading:before {\\n  background-color: #c3c3c3;\\n  mask-size: auto calc(min(50%, 400px));\\n  -webkit-mask-size: auto calc(min(50%, 400px));\\n}\",{\"type\":\"object\",\"name\":\"ImportedStyleSheet\",\"id\":\"1fab852b-c1d1-4de7-9f33-d6ddeeab4346\",\"attributes\":{\"url\":\"https://cdn.holoviz.org/panel/1.6.2/dist/css/loading.css\"}},{\"type\":\"object\",\"name\":\"ImportedStyleSheet\",\"id\":\"59df6c59-388c-485d-86eb-98e79fb0e80b\",\"attributes\":{\"url\":\"https://cdn.holoviz.org/panel/1.6.2/dist/css/listpanel.css\"}},{\"type\":\"object\",\"name\":\"ImportedStyleSheet\",\"id\":\"3bcbda43-d2b0-4474-9815-9e539ae46cd3\",\"attributes\":{\"url\":\"https://cdn.holoviz.org/panel/1.6.2/dist/bundled/theme/default.css\"}},{\"type\":\"object\",\"name\":\"ImportedStyleSheet\",\"id\":\"0f33924b-3fea-4f56-a1d4-4b5408bed759\",\"attributes\":{\"url\":\"https://cdn.holoviz.org/panel/1.6.2/dist/bundled/theme/native.css\"}}],\"min_width\":700,\"margin\":0,\"sizing_mode\":\"stretch_width\",\"align\":\"start\",\"children\":[{\"type\":\"object\",\"name\":\"Spacer\",\"id\":\"0fec4896-fcc1-4c43-afb8-5c4e57f2c974\",\"attributes\":{\"name\":\"HSpacer00290\",\"stylesheets\":[\"\\n:host(.pn-loading):before, .pn-loading:before {\\n  background-color: #c3c3c3;\\n  mask-size: auto calc(min(50%, 400px));\\n  -webkit-mask-size: auto calc(min(50%, 400px));\\n}\",{\"id\":\"1fab852b-c1d1-4de7-9f33-d6ddeeab4346\"},{\"id\":\"3bcbda43-d2b0-4474-9815-9e539ae46cd3\"},{\"id\":\"0f33924b-3fea-4f56-a1d4-4b5408bed759\"}],\"margin\":0,\"sizing_mode\":\"stretch_width\",\"align\":\"start\"}},{\"type\":\"object\",\"name\":\"Figure\",\"id\":\"4a469295-4532-40d0-a7e4-89d4c77ce3bb\",\"attributes\":{\"width\":700,\"height\":300,\"margin\":[5,10],\"sizing_mode\":\"fixed\",\"align\":\"start\",\"x_range\":{\"type\":\"object\",\"name\":\"FactorRange\",\"id\":\"82692786-3e8c-49f0-b1b7-6a6dde822f6a\",\"attributes\":{\"name\":\"post_str_b1\",\"tags\":[[[\"post_str_b1\",null]],[]],\"factors\":[\"01\",\"03\",\"04\",\"02\",\"05\",\"06\",\"07\",\"09\",\"08\",\"10\",\"11\",\"13\",\"12\",\"15\",\"14\",\"19\",\"20\",\"17\",\"16\",\"18\",\"23\",\"21\"]}},\"y_range\":{\"type\":\"object\",\"name\":\"Range1d\",\"id\":\"46e0ff4b-9871-4c1c-976b-f0675c3bea56\",\"attributes\":{\"name\":\"percent\",\"tags\":[[[\"percent\",null]],{\"type\":\"map\",\"entries\":[[\"invert_yaxis\",false],[\"autorange\",false]]}],\"end\":16.87007874015748,\"reset_start\":0.0,\"reset_end\":16.87007874015748}},\"x_scale\":{\"type\":\"object\",\"name\":\"CategoricalScale\",\"id\":\"d26a7817-0e2d-4ba0-ab72-4f9986c7b1d3\"},\"y_scale\":{\"type\":\"object\",\"name\":\"LinearScale\",\"id\":\"e16183be-41cf-4990-b40b-6e53dd31bc47\"},\"title\":{\"type\":\"object\",\"name\":\"Title\",\"id\":\"c6307e4b-d988-4722-b37f-0ae8abd91c3e\",\"attributes\":{\"text_color\":\"black\",\"text_font_size\":\"12pt\"}},\"renderers\":[{\"type\":\"object\",\"name\":\"GlyphRenderer\",\"id\":\"c70d1550-f5c2-4ef4-b1d5-230183e6116e\",\"attributes\":{\"data_source\":{\"type\":\"object\",\"name\":\"ColumnDataSource\",\"id\":\"91e246e1-d69f-4d8d-bc84-04ee65223446\",\"attributes\":{\"selected\":{\"type\":\"object\",\"name\":\"Selection\",\"id\":\"a4e53934-3e7b-45df-b987-f22d28c1a3f1\",\"attributes\":{\"indices\":[],\"line_indices\":[]}},\"selection_policy\":{\"type\":\"object\",\"name\":\"UnionRenderers\",\"id\":\"1d1a70b4-df9a-4311-9127-7a8a1904ace6\"},\"data\":{\"type\":\"map\",\"entries\":[[\"post_str_b1\",[\"01\",\"03\",\"04\",\"02\",\"05\",\"06\",\"07\",\"09\",\"08\",\"10\",\"11\",\"13\",\"12\",\"15\",\"14\",\"19\",\"20\",\"17\",\"16\",\"18\",\"23\",\"21\"]],[\"percent\",{\"type\":\"ndarray\",\"array\":{\"type\":\"bytes\",\"data\":\"rlar1Wq1LkDo8/l8Pp8nQIPBYDAYDCZAUSgUCoVCJUDudrvdbrchQEwmk8lkMhlA6PP5fD6fF0Do8/l8Pp8XQCKRSCQSiRBA4O/3+/1+D0B8vV6v1+sNQLBYLBaLxQpAsFgsFovFCkAWi8VisVj8P+Dv9/v9fu8/TCaTyWQy6T+5XC6Xy+XiP7lcLpfL5eI/TCaTyWQy2T9MJpPJZDLJP0wmk8lkMsk/TCaTyWQyyT8=\"},\"shape\":[22],\"dtype\":\"float64\",\"order\":\"little\"}]]}}},\"view\":{\"type\":\"object\",\"name\":\"CDSView\",\"id\":\"e6e501e5-62d2-4678-8278-d63692edfcf2\",\"attributes\":{\"filter\":{\"type\":\"object\",\"name\":\"AllIndices\",\"id\":\"b61e0cfa-e50a-4d90-857d-03cb9643cf0f\"}}},\"glyph\":{\"type\":\"object\",\"name\":\"VBar\",\"id\":\"dde0cd35-3d79-476b-a9bb-057353b526e4\",\"attributes\":{\"tags\":[\"apply_ranges\"],\"x\":{\"type\":\"field\",\"field\":\"post_str_b1\"},\"width\":{\"type\":\"value\",\"value\":0.8},\"top\":{\"type\":\"field\",\"field\":\"percent\"},\"fill_color\":{\"type\":\"value\",\"value\":\"#30a2da\"},\"hatch_color\":{\"type\":\"value\",\"value\":\"#30a2da\"}}},\"selection_glyph\":{\"type\":\"object\",\"name\":\"VBar\",\"id\":\"111db4d4-b6a9-4dc6-a06c-33395fbe35f2\",\"attributes\":{\"tags\":[\"apply_ranges\"],\"x\":{\"type\":\"field\",\"field\":\"post_str_b1\"},\"width\":{\"type\":\"value\",\"value\":0.8},\"bottom\":{\"type\":\"value\",\"value\":0},\"top\":{\"type\":\"field\",\"field\":\"percent\"},\"line_color\":{\"type\":\"value\",\"value\":\"black\"},\"line_alpha\":{\"type\":\"value\",\"value\":1.0},\"line_width\":{\"type\":\"value\",\"value\":1},\"line_join\":{\"type\":\"value\",\"value\":\"bevel\"},\"line_cap\":{\"type\":\"value\",\"value\":\"butt\"},\"line_dash\":{\"type\":\"value\",\"value\":[]},\"line_dash_offset\":{\"type\":\"value\",\"value\":0},\"fill_color\":{\"type\":\"value\",\"value\":\"#30a2da\"},\"fill_alpha\":{\"type\":\"value\",\"value\":1.0},\"hatch_color\":{\"type\":\"value\",\"value\":\"#30a2da\"},\"hatch_alpha\":{\"type\":\"value\",\"value\":1.0},\"hatch_scale\":{\"type\":\"value\",\"value\":12.0},\"hatch_pattern\":{\"type\":\"value\",\"value\":null},\"hatch_weight\":{\"type\":\"value\",\"value\":1.0}}},\"nonselection_glyph\":{\"type\":\"object\",\"name\":\"VBar\",\"id\":\"b9e223f1-1e92-4531-906a-c035a0a0d316\",\"attributes\":{\"tags\":[\"apply_ranges\"],\"x\":{\"type\":\"field\",\"field\":\"post_str_b1\"},\"width\":{\"type\":\"value\",\"value\":0.8},\"top\":{\"type\":\"field\",\"field\":\"percent\"},\"line_alpha\":{\"type\":\"value\",\"value\":0.1},\"fill_color\":{\"type\":\"value\",\"value\":\"#30a2da\"},\"fill_alpha\":{\"type\":\"value\",\"value\":0.1},\"hatch_color\":{\"type\":\"value\",\"value\":\"#30a2da\"},\"hatch_alpha\":{\"type\":\"value\",\"value\":0.1}}},\"muted_glyph\":{\"type\":\"object\",\"name\":\"VBar\",\"id\":\"c6bba16d-18af-409c-9e74-58f565fa8d92\",\"attributes\":{\"tags\":[\"apply_ranges\"],\"x\":{\"type\":\"field\",\"field\":\"post_str_b1\"},\"width\":{\"type\":\"value\",\"value\":0.8},\"top\":{\"type\":\"field\",\"field\":\"percent\"},\"line_alpha\":{\"type\":\"value\",\"value\":0.2},\"fill_color\":{\"type\":\"value\",\"value\":\"#30a2da\"},\"fill_alpha\":{\"type\":\"value\",\"value\":0.2},\"hatch_color\":{\"type\":\"value\",\"value\":\"#30a2da\"},\"hatch_alpha\":{\"type\":\"value\",\"value\":0.2}}}}},{\"type\":\"object\",\"name\":\"Span\",\"id\":\"d1e80f6f-e4e0-42e4-b86c-06dba815e678\",\"attributes\":{\"level\":\"glyph\",\"location\":4.545454545454544,\"line_color\":\"red\",\"line_width\":3}},{\"type\":\"object\",\"name\":\"Span\",\"id\":\"50d48987-0950-4623-9af6-9cc2826458b6\",\"attributes\":{\"level\":\"glyph\",\"location\":6.818181818181817,\"line_color\":\"blue\",\"line_width\":3}},{\"type\":\"object\",\"name\":\"Span\",\"id\":\"f0297835-62ad-4b0a-8358-0d1ea0a7a680\",\"attributes\":{\"level\":\"glyph\",\"location\":2.272727272727272,\"line_color\":\"blue\",\"line_width\":3}}],\"toolbar\":{\"type\":\"object\",\"name\":\"Toolbar\",\"id\":\"577c4320-0c3a-4958-b34e-ec8eefcb81aa\",\"attributes\":{\"tools\":[{\"type\":\"object\",\"name\":\"WheelZoomTool\",\"id\":\"4459124f-779f-4746-83ba-3cdce3f6b1d6\",\"attributes\":{\"tags\":[\"hv_created\"],\"renderers\":\"auto\",\"zoom_together\":\"none\"}},{\"type\":\"object\",\"name\":\"HoverTool\",\"id\":\"0be9a525-1224-41ec-aa57-d1d660cb7f69\",\"attributes\":{\"tags\":[\"hv_created\"],\"renderers\":[{\"id\":\"c70d1550-f5c2-4ef4-b1d5-230183e6116e\"}],\"tooltips\":[[\"post_str_b1\",\"@{post_str_b1}\"],[\"percent\",\"@{percent}\"]]}},{\"type\":\"object\",\"name\":\"SaveTool\",\"id\":\"55c436c4-fc73-4ba4-852f-7e8260823594\"},{\"type\":\"object\",\"name\":\"PanTool\",\"id\":\"64e0f98a-7243-41f9-b208-abf2077f06c5\"},{\"type\":\"object\",\"name\":\"BoxZoomTool\",\"id\":\"b0236abb-03ee-46cf-8ba3-259611b03ca3\",\"attributes\":{\"dimensions\":\"both\",\"overlay\":{\"type\":\"object\",\"name\":\"BoxAnnotation\",\"id\":\"353c1673-51ff-43af-a514-89871c3c4dc4\",\"attributes\":{\"syncable\":false,\"line_color\":\"black\",\"line_alpha\":1.0,\"line_width\":2,\"line_dash\":[4,4],\"fill_color\":\"lightgrey\",\"fill_alpha\":0.5,\"level\":\"overlay\",\"visible\":false,\"left\":{\"type\":\"number\",\"value\":\"nan\"},\"right\":{\"type\":\"number\",\"value\":\"nan\"},\"top\":{\"type\":\"number\",\"value\":\"nan\"},\"bottom\":{\"type\":\"number\",\"value\":\"nan\"},\"left_units\":\"canvas\",\"right_units\":\"canvas\",\"top_units\":\"canvas\",\"bottom_units\":\"canvas\",\"handles\":{\"type\":\"object\",\"name\":\"BoxInteractionHandles\",\"id\":\"b605442b-c144-4ac9-bb92-6f138e96a59e\",\"attributes\":{\"all\":{\"type\":\"object\",\"name\":\"AreaVisuals\",\"id\":\"9a4aa931-1b1d-42d0-a399-dbd5b79d0c83\",\"attributes\":{\"fill_color\":\"white\",\"hover_fill_color\":\"lightgray\"}}}}}}}},{\"type\":\"object\",\"name\":\"ResetTool\",\"id\":\"adc4d252-274d-4d4d-974f-6236eade9ac1\"}],\"active_drag\":{\"id\":\"64e0f98a-7243-41f9-b208-abf2077f06c5\"}}},\"left\":[{\"type\":\"object\",\"name\":\"LinearAxis\",\"id\":\"cdc0b126-03de-4517-95f5-dbd9834961a0\",\"attributes\":{\"ticker\":{\"type\":\"object\",\"name\":\"BasicTicker\",\"id\":\"10c082b5-4188-4782-ae71-db65d72f633d\",\"attributes\":{\"mantissas\":[1,2,5]}},\"formatter\":{\"type\":\"object\",\"name\":\"BasicTickFormatter\",\"id\":\"400af947-b867-49ed-93f8-4f079ad025b9\"},\"axis_label\":\"percent\",\"major_label_policy\":{\"type\":\"object\",\"name\":\"AllLabels\",\"id\":\"fd06db88-140a-4db4-bfea-7b0210c5738b\"}}}],\"below\":[{\"type\":\"object\",\"name\":\"CategoricalAxis\",\"id\":\"39e2ea00-2f7e-4444-8ede-b88e1393a46b\",\"attributes\":{\"ticker\":{\"type\":\"object\",\"name\":\"CategoricalTicker\",\"id\":\"7142cba5-6f2e-4526-807a-fc44417199fb\"},\"formatter\":{\"type\":\"object\",\"name\":\"CategoricalTickFormatter\",\"id\":\"b1a507b1-28c5-4908-834a-204a2c969f96\"},\"axis_label\":\"post_str_b1\",\"major_label_policy\":{\"type\":\"object\",\"name\":\"AllLabels\",\"id\":\"7dc9bde8-fa39-468a-8df2-c23bb8672c8a\"}}}],\"center\":[{\"type\":\"object\",\"name\":\"Grid\",\"id\":\"30e48a8c-fd8f-4d15-88c0-890ef90b177b\",\"attributes\":{\"axis\":{\"id\":\"39e2ea00-2f7e-4444-8ede-b88e1393a46b\"},\"grid_line_color\":null}},{\"type\":\"object\",\"name\":\"Grid\",\"id\":\"1fce28bd-2160-4240-8e1b-df43ce08806a\",\"attributes\":{\"dimension\":1,\"axis\":{\"id\":\"cdc0b126-03de-4517-95f5-dbd9834961a0\"},\"grid_line_color\":null}}],\"min_border_top\":10,\"min_border_bottom\":10,\"min_border_left\":10,\"min_border_right\":10,\"output_backend\":\"webgl\"}},{\"type\":\"object\",\"name\":\"Spacer\",\"id\":\"37c37fc8-8ef7-4ada-8b9e-7d5d7a70ef5a\",\"attributes\":{\"name\":\"HSpacer00291\",\"stylesheets\":[\"\\n:host(.pn-loading):before, .pn-loading:before {\\n  background-color: #c3c3c3;\\n  mask-size: auto calc(min(50%, 400px));\\n  -webkit-mask-size: auto calc(min(50%, 400px));\\n}\",{\"id\":\"1fab852b-c1d1-4de7-9f33-d6ddeeab4346\"},{\"id\":\"3bcbda43-d2b0-4474-9815-9e539ae46cd3\"},{\"id\":\"0f33924b-3fea-4f56-a1d4-4b5408bed759\"}],\"margin\":0,\"sizing_mode\":\"stretch_width\",\"align\":\"start\"}}]}}],\"defs\":[{\"type\":\"model\",\"name\":\"ReactiveHTML1\"},{\"type\":\"model\",\"name\":\"FlexBox1\",\"properties\":[{\"name\":\"align_content\",\"kind\":\"Any\",\"default\":\"flex-start\"},{\"name\":\"align_items\",\"kind\":\"Any\",\"default\":\"flex-start\"},{\"name\":\"flex_direction\",\"kind\":\"Any\",\"default\":\"row\"},{\"name\":\"flex_wrap\",\"kind\":\"Any\",\"default\":\"wrap\"},{\"name\":\"gap\",\"kind\":\"Any\",\"default\":\"\"},{\"name\":\"justify_content\",\"kind\":\"Any\",\"default\":\"flex-start\"}]},{\"type\":\"model\",\"name\":\"FloatPanel1\",\"properties\":[{\"name\":\"config\",\"kind\":\"Any\",\"default\":{\"type\":\"map\"}},{\"name\":\"contained\",\"kind\":\"Any\",\"default\":true},{\"name\":\"position\",\"kind\":\"Any\",\"default\":\"right-top\"},{\"name\":\"offsetx\",\"kind\":\"Any\",\"default\":null},{\"name\":\"offsety\",\"kind\":\"Any\",\"default\":null},{\"name\":\"theme\",\"kind\":\"Any\",\"default\":\"primary\"},{\"name\":\"status\",\"kind\":\"Any\",\"default\":\"normalized\"}]},{\"type\":\"model\",\"name\":\"GridStack1\",\"properties\":[{\"name\":\"ncols\",\"kind\":\"Any\",\"default\":null},{\"name\":\"nrows\",\"kind\":\"Any\",\"default\":null},{\"name\":\"allow_resize\",\"kind\":\"Any\",\"default\":true},{\"name\":\"allow_drag\",\"kind\":\"Any\",\"default\":true},{\"name\":\"state\",\"kind\":\"Any\",\"default\":[]}]},{\"type\":\"model\",\"name\":\"drag1\",\"properties\":[{\"name\":\"slider_width\",\"kind\":\"Any\",\"default\":5},{\"name\":\"slider_color\",\"kind\":\"Any\",\"default\":\"black\"},{\"name\":\"value\",\"kind\":\"Any\",\"default\":50}]},{\"type\":\"model\",\"name\":\"click1\",\"properties\":[{\"name\":\"terminal_output\",\"kind\":\"Any\",\"default\":\"\"},{\"name\":\"debug_name\",\"kind\":\"Any\",\"default\":\"\"},{\"name\":\"clears\",\"kind\":\"Any\",\"default\":0}]},{\"type\":\"model\",\"name\":\"FastWrapper1\",\"properties\":[{\"name\":\"object\",\"kind\":\"Any\",\"default\":null},{\"name\":\"style\",\"kind\":\"Any\",\"default\":null}]},{\"type\":\"model\",\"name\":\"NotificationArea1\",\"properties\":[{\"name\":\"js_events\",\"kind\":\"Any\",\"default\":{\"type\":\"map\"}},{\"name\":\"max_notifications\",\"kind\":\"Any\",\"default\":5},{\"name\":\"notifications\",\"kind\":\"Any\",\"default\":[]},{\"name\":\"position\",\"kind\":\"Any\",\"default\":\"bottom-right\"},{\"name\":\"_clear\",\"kind\":\"Any\",\"default\":0},{\"name\":\"types\",\"kind\":\"Any\",\"default\":[{\"type\":\"map\",\"entries\":[[\"type\",\"warning\"],[\"background\",\"#ffc107\"],[\"icon\",{\"type\":\"map\",\"entries\":[[\"className\",\"fas fa-exclamation-triangle\"],[\"tagName\",\"i\"],[\"color\",\"white\"]]}]]},{\"type\":\"map\",\"entries\":[[\"type\",\"info\"],[\"background\",\"#007bff\"],[\"icon\",{\"type\":\"map\",\"entries\":[[\"className\",\"fas fa-info-circle\"],[\"tagName\",\"i\"],[\"color\",\"white\"]]}]]}]}]},{\"type\":\"model\",\"name\":\"Notification\",\"properties\":[{\"name\":\"background\",\"kind\":\"Any\",\"default\":null},{\"name\":\"duration\",\"kind\":\"Any\",\"default\":3000},{\"name\":\"icon\",\"kind\":\"Any\",\"default\":null},{\"name\":\"message\",\"kind\":\"Any\",\"default\":\"\"},{\"name\":\"notification_type\",\"kind\":\"Any\",\"default\":null},{\"name\":\"_rendered\",\"kind\":\"Any\",\"default\":false},{\"name\":\"_destroyed\",\"kind\":\"Any\",\"default\":false}]},{\"type\":\"model\",\"name\":\"TemplateActions1\",\"properties\":[{\"name\":\"open_modal\",\"kind\":\"Any\",\"default\":0},{\"name\":\"close_modal\",\"kind\":\"Any\",\"default\":0}]},{\"type\":\"model\",\"name\":\"BootstrapTemplateActions1\",\"properties\":[{\"name\":\"open_modal\",\"kind\":\"Any\",\"default\":0},{\"name\":\"close_modal\",\"kind\":\"Any\",\"default\":0}]},{\"type\":\"model\",\"name\":\"TemplateEditor1\",\"properties\":[{\"name\":\"layout\",\"kind\":\"Any\",\"default\":[]}]},{\"type\":\"model\",\"name\":\"MaterialTemplateActions1\",\"properties\":[{\"name\":\"open_modal\",\"kind\":\"Any\",\"default\":0},{\"name\":\"close_modal\",\"kind\":\"Any\",\"default\":0}]},{\"type\":\"model\",\"name\":\"ReactiveESM1\",\"properties\":[{\"name\":\"esm_constants\",\"kind\":\"Any\",\"default\":{\"type\":\"map\"}}]},{\"type\":\"model\",\"name\":\"JSComponent1\",\"properties\":[{\"name\":\"esm_constants\",\"kind\":\"Any\",\"default\":{\"type\":\"map\"}}]},{\"type\":\"model\",\"name\":\"ReactComponent1\",\"properties\":[{\"name\":\"esm_constants\",\"kind\":\"Any\",\"default\":{\"type\":\"map\"}}]},{\"type\":\"model\",\"name\":\"AnyWidgetComponent1\",\"properties\":[{\"name\":\"esm_constants\",\"kind\":\"Any\",\"default\":{\"type\":\"map\"}}]},{\"type\":\"model\",\"name\":\"request_value1\",\"properties\":[{\"name\":\"fill\",\"kind\":\"Any\",\"default\":\"none\"},{\"name\":\"_synced\",\"kind\":\"Any\",\"default\":null},{\"name\":\"_request_sync\",\"kind\":\"Any\",\"default\":0}]}]}};\n",
       "  var render_items = [{\"docid\":\"0ae276f2-d41f-4668-82fe-149ccc2d1916\",\"roots\":{\"9c5a0f2c-f3ac-4564-8a33-16e9ef534156\":\"e6df9bfc-0ede-43b7-b1fa-990c36a4efcf\"},\"root_ids\":[\"9c5a0f2c-f3ac-4564-8a33-16e9ef534156\"]}];\n",
       "  var docs = Object.values(docs_json)\n",
       "  if (!docs) {\n",
       "    return\n",
       "  }\n",
       "  const py_version = docs[0].version.replace('rc', '-rc.').replace('.dev', '-dev.')\n",
       "  async function embed_document(root) {\n",
       "    var Bokeh = get_bokeh(root)\n",
       "    await Bokeh.embed.embed_items_notebook(docs_json, render_items);\n",
       "    for (const render_item of render_items) {\n",
       "      for (const root_id of render_item.root_ids) {\n",
       "\tconst id_el = document.getElementById(root_id)\n",
       "\tif (id_el.children.length && id_el.children[0].hasAttribute('data-root-id')) {\n",
       "\t  const root_el = id_el.children[0]\n",
       "\t  root_el.id = root_el.id + '-rendered'\n",
       "\t  for (const child of root_el.children) {\n",
       "            // Ensure JupyterLab does not capture keyboard shortcuts\n",
       "            // see: https://jupyterlab.readthedocs.io/en/4.1.x/extension/notebook.html#keyboard-interaction-model\n",
       "\t    child.setAttribute('data-lm-suppress-shortcuts', 'true')\n",
       "\t  }\n",
       "\t}\n",
       "      }\n",
       "    }\n",
       "  }\n",
       "  function get_bokeh(root) {\n",
       "    if (root.Bokeh === undefined) {\n",
       "      return null\n",
       "    } else if (root.Bokeh.version !== py_version) {\n",
       "      if (root.Bokeh.versions === undefined || !root.Bokeh.versions.has(py_version)) {\n",
       "\treturn null\n",
       "      }\n",
       "      return root.Bokeh.versions.get(py_version);\n",
       "    } else if (root.Bokeh.version === py_version) {\n",
       "      return root.Bokeh\n",
       "    }\n",
       "    return null\n",
       "  }\n",
       "  function is_loaded(root) {\n",
       "    var Bokeh = get_bokeh(root)\n",
       "    return (Bokeh != null && Bokeh.Panel !== undefined)\n",
       "  }\n",
       "  if (is_loaded(root)) {\n",
       "    embed_document(root);\n",
       "  } else {\n",
       "    var attempts = 0;\n",
       "    var timer = setInterval(function(root) {\n",
       "      if (is_loaded(root)) {\n",
       "        clearInterval(timer);\n",
       "        embed_document(root);\n",
       "      } else if (document.readyState == \"complete\") {\n",
       "        attempts++;\n",
       "        if (attempts > 200) {\n",
       "          clearInterval(timer);\n",
       "\t  var Bokeh = get_bokeh(root)\n",
       "\t  if (Bokeh == null || Bokeh.Panel == null) {\n",
       "            console.warn(\"Panel: ERROR: Unable to run Panel code because Bokeh or Panel library is missing\");\n",
       "\t  } else {\n",
       "\t    console.warn(\"Panel: WARNING: Attempting to render but not all required libraries could be resolved.\")\n",
       "\t    embed_document(root)\n",
       "\t  }\n",
       "        }\n",
       "      }\n",
       "    }, 25, root)\n",
       "  }\n",
       "})(window);</script>"
      ],
      "text/plain": [
       ":Overlay\n",
       "   .Bars.I    :Bars   [post_str_b1]   (percent)\n",
       "   .HLine.I   :HLine   [x,y]\n",
       "   .HLine.II  :HLine   [x,y]\n",
       "   .HLine.III :HLine   [x,y]"
      ]
     },
     "metadata": {
      "application/vnd.holoviews_exec.v0+json": {
       "id": "9c5a0f2c-f3ac-4564-8a33-16e9ef534156"
      }
     },
     "output_type": "display_data"
    },
    {
     "name": "stdout",
     "output_type": "stream",
     "text": [
      "df_10_last FOR str_b1 = 07\n",
      "Last 3 results last_results=['07', '08', '05']\n"
     ]
    },
    {
     "data": {
      "text/html": [
       "<div><style>\n",
       ".dataframe > thead > tr,\n",
       ".dataframe > tbody > tr {\n",
       "  text-align: right;\n",
       "  white-space: pre-wrap;\n",
       "}\n",
       "</style>\n",
       "<small>shape: (10, 24)</small><table border=\"1\" class=\"dataframe\"><thead><tr><th>fecha</th><th>sorteo</th><th>bolillas</th><th>id</th><th>combo</th><th>b1</th><th>b2</th><th>b3</th><th>b4</th><th>b5</th><th>str_b1</th><th>str_b2</th><th>str_b3</th><th>str_b4</th><th>str_b5</th><th>post_str_b1</th><th>post_str_b2</th><th>post_str_b3</th><th>post_str_b4</th><th>post_str_blast</th><th>is_rare_combination</th><th>reason</th><th>jumps_map</th><th>unijump</th></tr><tr><td>str</td><td>str</td><td>str</td><td>str</td><td>array[u8, 5]</td><td>u8</td><td>u8</td><td>u8</td><td>u8</td><td>u8</td><td>str</td><td>str</td><td>str</td><td>str</td><td>str</td><td>str</td><td>str</td><td>str</td><td>str</td><td>str</td><td>bool</td><td>u8</td><td>str</td><td>i64</td></tr></thead><tbody><tr><td>&quot;07/04/2025&quot;</td><td>&quot;4179&quot;</td><td>&quot;08 21 22 24 07&quot;</td><td>&quot;0708212224&quot;</td><td>[7, 8, … 24]</td><td>7</td><td>8</td><td>21</td><td>22</td><td>24</td><td>&quot;07&quot;</td><td>&quot;08&quot;</td><td>&quot;21&quot;</td><td>&quot;22&quot;</td><td>&quot;24&quot;</td><td>&quot;05&quot;</td><td>&quot;10&quot;</td><td>&quot;16&quot;</td><td>&quot;20&quot;</td><td>&quot;30&quot;</td><td>true</td><td>16</td><td>&quot;01_13_01_02&quot;</td><td>37</td></tr><tr><td>&quot;06/04/2025&quot;</td><td>&quot;4178&quot;</td><td>&quot;07 35 24 34 14&quot;</td><td>&quot;0714243435&quot;</td><td>[7, 14, … 35]</td><td>7</td><td>14</td><td>24</td><td>34</td><td>35</td><td>&quot;07&quot;</td><td>&quot;14&quot;</td><td>&quot;24&quot;</td><td>&quot;34&quot;</td><td>&quot;35&quot;</td><td>&quot;07&quot;</td><td>&quot;08&quot;</td><td>&quot;21&quot;</td><td>&quot;22&quot;</td><td>&quot;24&quot;</td><td>true</td><td>8</td><td>&quot;07_10_10_01&quot;</td><td>-6</td></tr><tr><td>&quot;31/03/2025&quot;</td><td>&quot;4172&quot;</td><td>&quot;07 22 34 26 16&quot;</td><td>&quot;0716222634&quot;</td><td>[7, 16, … 34]</td><td>7</td><td>16</td><td>22</td><td>26</td><td>34</td><td>&quot;07&quot;</td><td>&quot;16&quot;</td><td>&quot;22&quot;</td><td>&quot;26&quot;</td><td>&quot;34&quot;</td><td>&quot;08&quot;</td><td>&quot;12&quot;</td><td>&quot;13&quot;</td><td>&quot;25&quot;</td><td>&quot;33&quot;</td><td>false</td><td>0</td><td>&quot;09_06_04_08&quot;</td><td>5</td></tr><tr><td>&quot;18/03/2025&quot;</td><td>&quot;4159&quot;</td><td>&quot;07 34 16 12 21&quot;</td><td>&quot;0712162134&quot;</td><td>[7, 12, … 34]</td><td>7</td><td>12</td><td>16</td><td>21</td><td>34</td><td>&quot;07&quot;</td><td>&quot;12&quot;</td><td>&quot;16&quot;</td><td>&quot;21&quot;</td><td>&quot;34&quot;</td><td>&quot;01&quot;</td><td>&quot;07&quot;</td><td>&quot;13&quot;</td><td>&quot;14&quot;</td><td>&quot;22&quot;</td><td>false</td><td>0</td><td>&quot;05_04_05_13&quot;</td><td>5</td></tr><tr><td>&quot;13/03/2025&quot;</td><td>&quot;4154&quot;</td><td>&quot;17 30 18 07 19&quot;</td><td>&quot;0717181930&quot;</td><td>[7, 17, … 30]</td><td>7</td><td>17</td><td>18</td><td>19</td><td>30</td><td>&quot;07&quot;</td><td>&quot;17&quot;</td><td>&quot;18&quot;</td><td>&quot;19&quot;</td><td>&quot;30&quot;</td><td>&quot;03&quot;</td><td>&quot;07&quot;</td><td>&quot;11&quot;</td><td>&quot;15&quot;</td><td>&quot;35&quot;</td><td>true</td><td>24</td><td>&quot;10_01_01_11&quot;</td><td>1</td></tr><tr><td>&quot;10/02/2025&quot;</td><td>&quot;4123&quot;</td><td>&quot;32 07 19 25 21&quot;</td><td>&quot;0719212532&quot;</td><td>[7, 19, … 32]</td><td>7</td><td>19</td><td>21</td><td>25</td><td>32</td><td>&quot;07&quot;</td><td>&quot;19&quot;</td><td>&quot;21&quot;</td><td>&quot;25&quot;</td><td>&quot;32&quot;</td><td>&quot;08&quot;</td><td>&quot;17&quot;</td><td>&quot;19&quot;</td><td>&quot;28&quot;</td><td>&quot;32&quot;</td><td>false</td><td>0</td><td>&quot;12_02_04_07&quot;</td><td>-11</td></tr><tr><td>&quot;05/01/2025&quot;</td><td>&quot;4087&quot;</td><td>&quot;28 19 07 23 20&quot;</td><td>&quot;0719202328&quot;</td><td>[7, 19, … 28]</td><td>7</td><td>19</td><td>20</td><td>23</td><td>28</td><td>&quot;07&quot;</td><td>&quot;19&quot;</td><td>&quot;20&quot;</td><td>&quot;23&quot;</td><td>&quot;28&quot;</td><td>&quot;01&quot;</td><td>&quot;05&quot;</td><td>&quot;11&quot;</td><td>&quot;30&quot;</td><td>&quot;34&quot;</td><td>false</td><td>0</td><td>&quot;12_01_03_05&quot;</td><td>-13</td></tr><tr><td>&quot;20/12/2024&quot;</td><td>&quot;4071&quot;</td><td>&quot;08 22 23 07 27&quot;</td><td>&quot;0708222327&quot;</td><td>[7, 8, … 27]</td><td>7</td><td>8</td><td>22</td><td>23</td><td>27</td><td>&quot;07&quot;</td><td>&quot;08&quot;</td><td>&quot;22&quot;</td><td>&quot;23&quot;</td><td>&quot;27&quot;</td><td>&quot;05&quot;</td><td>&quot;17&quot;</td><td>&quot;28&quot;</td><td>&quot;29&quot;</td><td>&quot;34&quot;</td><td>true</td><td>16</td><td>&quot;01_14_01_04&quot;</td><td>42</td></tr><tr><td>&quot;29/11/2024&quot;</td><td>&quot;4050&quot;</td><td>&quot;13 26 29 25 07&quot;</td><td>&quot;0713252629&quot;</td><td>[7, 13, … 29]</td><td>7</td><td>13</td><td>25</td><td>26</td><td>29</td><td>&quot;07&quot;</td><td>&quot;13&quot;</td><td>&quot;25&quot;</td><td>&quot;26&quot;</td><td>&quot;29&quot;</td><td>&quot;11&quot;</td><td>&quot;13&quot;</td><td>&quot;25&quot;</td><td>&quot;29&quot;</td><td>&quot;35&quot;</td><td>false</td><td>0</td><td>&quot;06_12_01_03&quot;</td><td>30</td></tr><tr><td>&quot;20/11/2024&quot;</td><td>&quot;4041&quot;</td><td>&quot;28 10 07 15 30&quot;</td><td>&quot;0710152830&quot;</td><td>[7, 10, … 30]</td><td>7</td><td>10</td><td>15</td><td>28</td><td>30</td><td>&quot;07&quot;</td><td>&quot;10&quot;</td><td>&quot;15&quot;</td><td>&quot;28&quot;</td><td>&quot;30&quot;</td><td>&quot;12&quot;</td><td>&quot;26&quot;</td><td>&quot;28&quot;</td><td>&quot;32&quot;</td><td>&quot;34&quot;</td><td>false</td><td>0</td><td>&quot;03_05_13_02&quot;</td><td>-25</td></tr></tbody></table></div>"
      ],
      "text/plain": [
       "shape: (10, 24)\n",
       "┌────────────┬────────┬─────────────┬────────────┬───┬─────────────┬────────┬────────────┬─────────┐\n",
       "│ fecha      ┆ sorteo ┆ bolillas    ┆ id         ┆ … ┆ is_rare_com ┆ reason ┆ jumps_map  ┆ unijump │\n",
       "│ ---        ┆ ---    ┆ ---         ┆ ---        ┆   ┆ bination    ┆ ---    ┆ ---        ┆ ---     │\n",
       "│ str        ┆ str    ┆ str         ┆ str        ┆   ┆ ---         ┆ u8     ┆ str        ┆ i64     │\n",
       "│            ┆        ┆             ┆            ┆   ┆ bool        ┆        ┆            ┆         │\n",
       "╞════════════╪════════╪═════════════╪════════════╪═══╪═════════════╪════════╪════════════╪═════════╡\n",
       "│ 07/04/2025 ┆ 4179   ┆ 08 21 22 24 ┆ 0708212224 ┆ … ┆ true        ┆ 16     ┆ 01_13_01_0 ┆ 37      │\n",
       "│            ┆        ┆ 07          ┆            ┆   ┆             ┆        ┆ 2          ┆         │\n",
       "│ 06/04/2025 ┆ 4178   ┆ 07 35 24 34 ┆ 0714243435 ┆ … ┆ true        ┆ 8      ┆ 07_10_10_0 ┆ -6      │\n",
       "│            ┆        ┆ 14          ┆            ┆   ┆             ┆        ┆ 1          ┆         │\n",
       "│ 31/03/2025 ┆ 4172   ┆ 07 22 34 26 ┆ 0716222634 ┆ … ┆ false       ┆ 0      ┆ 09_06_04_0 ┆ 5       │\n",
       "│            ┆        ┆ 16          ┆            ┆   ┆             ┆        ┆ 8          ┆         │\n",
       "│ 18/03/2025 ┆ 4159   ┆ 07 34 16 12 ┆ 0712162134 ┆ … ┆ false       ┆ 0      ┆ 05_04_05_1 ┆ 5       │\n",
       "│            ┆        ┆ 21          ┆            ┆   ┆             ┆        ┆ 3          ┆         │\n",
       "│ 13/03/2025 ┆ 4154   ┆ 17 30 18 07 ┆ 0717181930 ┆ … ┆ true        ┆ 24     ┆ 10_01_01_1 ┆ 1       │\n",
       "│            ┆        ┆ 19          ┆            ┆   ┆             ┆        ┆ 1          ┆         │\n",
       "│ 10/02/2025 ┆ 4123   ┆ 32 07 19 25 ┆ 0719212532 ┆ … ┆ false       ┆ 0      ┆ 12_02_04_0 ┆ -11     │\n",
       "│            ┆        ┆ 21          ┆            ┆   ┆             ┆        ┆ 7          ┆         │\n",
       "│ 05/01/2025 ┆ 4087   ┆ 28 19 07 23 ┆ 0719202328 ┆ … ┆ false       ┆ 0      ┆ 12_01_03_0 ┆ -13     │\n",
       "│            ┆        ┆ 20          ┆            ┆   ┆             ┆        ┆ 5          ┆         │\n",
       "│ 20/12/2024 ┆ 4071   ┆ 08 22 23 07 ┆ 0708222327 ┆ … ┆ true        ┆ 16     ┆ 01_14_01_0 ┆ 42      │\n",
       "│            ┆        ┆ 27          ┆            ┆   ┆             ┆        ┆ 4          ┆         │\n",
       "│ 29/11/2024 ┆ 4050   ┆ 13 26 29 25 ┆ 0713252629 ┆ … ┆ false       ┆ 0      ┆ 06_12_01_0 ┆ 30      │\n",
       "│            ┆        ┆ 07          ┆            ┆   ┆             ┆        ┆ 3          ┆         │\n",
       "│ 20/11/2024 ┆ 4041   ┆ 28 10 07 15 ┆ 0710152830 ┆ … ┆ false       ┆ 0      ┆ 03_05_13_0 ┆ -25     │\n",
       "│            ┆        ┆ 30          ┆            ┆   ┆             ┆        ┆ 2          ┆         │\n",
       "└────────────┴────────┴─────────────┴────────────┴───┴─────────────┴────────┴────────────┴─────────┘"
      ]
     },
     "metadata": {},
     "output_type": "display_data"
    },
    {
     "name": "stdout",
     "output_type": "stream",
     "text": [
      "df_jumps_map FOR str_b1 = 07\n"
     ]
    },
    {
     "data": {
      "text/html": [
       "<div><style>\n",
       ".dataframe > thead > tr,\n",
       ".dataframe > tbody > tr {\n",
       "  text-align: right;\n",
       "  white-space: pre-wrap;\n",
       "}\n",
       "</style>\n",
       "<small>shape: (498, 2)</small><table border=\"1\" class=\"dataframe\"><thead><tr><th>jumps_map</th><th>count</th></tr><tr><td>str</td><td>u32</td></tr></thead><tbody><tr><td>&quot;05_01_12_06&quot;</td><td>2</td></tr><tr><td>&quot;03_14_02_01&quot;</td><td>2</td></tr><tr><td>&quot;04_01_09_05&quot;</td><td>2</td></tr><tr><td>&quot;05_05_13_05&quot;</td><td>2</td></tr><tr><td>&quot;04_09_12_01&quot;</td><td>2</td></tr><tr><td>&hellip;</td><td>&hellip;</td></tr><tr><td>&quot;11_03_04_03&quot;</td><td>1</td></tr><tr><td>&quot;10_01_08_09&quot;</td><td>1</td></tr><tr><td>&quot;07_03_02_15&quot;</td><td>1</td></tr><tr><td>&quot;06_08_02_03&quot;</td><td>1</td></tr><tr><td>&quot;02_01_04_07&quot;</td><td>1</td></tr></tbody></table></div>"
      ],
      "text/plain": [
       "shape: (498, 2)\n",
       "┌─────────────┬───────┐\n",
       "│ jumps_map   ┆ count │\n",
       "│ ---         ┆ ---   │\n",
       "│ str         ┆ u32   │\n",
       "╞═════════════╪═══════╡\n",
       "│ 05_01_12_06 ┆ 2     │\n",
       "│ 03_14_02_01 ┆ 2     │\n",
       "│ 04_01_09_05 ┆ 2     │\n",
       "│ 05_05_13_05 ┆ 2     │\n",
       "│ 04_09_12_01 ┆ 2     │\n",
       "│ …           ┆ …     │\n",
       "│ 11_03_04_03 ┆ 1     │\n",
       "│ 10_01_08_09 ┆ 1     │\n",
       "│ 07_03_02_15 ┆ 1     │\n",
       "│ 06_08_02_03 ┆ 1     │\n",
       "│ 02_01_04_07 ┆ 1     │\n",
       "└─────────────┴───────┘"
      ]
     },
     "metadata": {},
     "output_type": "display_data"
    },
    {
     "name": "stdout",
     "output_type": "stream",
     "text": [
      "df_unijump FOR str_b1 = 07\n"
     ]
    },
    {
     "data": {
      "text/html": [
       "<div><style>\n",
       ".dataframe > thead > tr,\n",
       ".dataframe > tbody > tr {\n",
       "  text-align: right;\n",
       "  white-space: pre-wrap;\n",
       "}\n",
       "</style>\n",
       "<small>shape: (97, 2)</small><table border=\"1\" class=\"dataframe\"><thead><tr><th>unijump</th><th>count</th></tr><tr><td>i64</td><td>u32</td></tr></thead><tbody><tr><td>10</td><td>20</td></tr><tr><td>-11</td><td>17</td></tr><tr><td>1</td><td>14</td></tr><tr><td>7</td><td>13</td></tr><tr><td>15</td><td>12</td></tr><tr><td>&hellip;</td><td>&hellip;</td></tr><tr><td>52</td><td>1</td></tr><tr><td>26</td><td>1</td></tr><tr><td>46</td><td>1</td></tr><tr><td>-49</td><td>1</td></tr><tr><td>29</td><td>1</td></tr></tbody></table></div>"
      ],
      "text/plain": [
       "shape: (97, 2)\n",
       "┌─────────┬───────┐\n",
       "│ unijump ┆ count │\n",
       "│ ---     ┆ ---   │\n",
       "│ i64     ┆ u32   │\n",
       "╞═════════╪═══════╡\n",
       "│ 10      ┆ 20    │\n",
       "│ -11     ┆ 17    │\n",
       "│ 1       ┆ 14    │\n",
       "│ 7       ┆ 13    │\n",
       "│ 15      ┆ 12    │\n",
       "│ …       ┆ …     │\n",
       "│ 52      ┆ 1     │\n",
       "│ 26      ┆ 1     │\n",
       "│ 46      ┆ 1     │\n",
       "│ -49     ┆ 1     │\n",
       "│ 29      ┆ 1     │\n",
       "└─────────┴───────┘"
      ]
     },
     "metadata": {},
     "output_type": "display_data"
    }
   ],
   "source": [
    "possible_b1, exclude_jump_maps_b1, last_post_b1 = plot_post_col(col='str_b1', post_col='post_str_b1')"
   ]
  },
  {
   "cell_type": "code",
   "execution_count": 9,
   "metadata": {},
   "outputs": [
    {
     "name": "stdout",
     "output_type": "stream",
     "text": [
      "Setting test_value='21'\n",
      "df_viz FOR str_b2 = 21\n"
     ]
    },
    {
     "data": {
      "text/html": [
       "<div><style>\n",
       ".dataframe > thead > tr,\n",
       ".dataframe > tbody > tr {\n",
       "  text-align: right;\n",
       "  white-space: pre-wrap;\n",
       "}\n",
       "</style>\n",
       "<small>shape: (24, 3)</small><table border=\"1\" class=\"dataframe\"><thead><tr><th>post_str_b2</th><th>count</th><th>percent</th></tr><tr><td>str</td><td>u32</td><td>f64</td></tr></thead><tbody><tr><td>&quot;06&quot;</td><td>15</td><td>8.62069</td></tr><tr><td>&quot;08&quot;</td><td>13</td><td>7.471264</td></tr><tr><td>&quot;09&quot;</td><td>12</td><td>6.896552</td></tr><tr><td>&quot;11&quot;</td><td>11</td><td>6.321839</td></tr><tr><td>&quot;05&quot;</td><td>11</td><td>6.321839</td></tr><tr><td>&hellip;</td><td>&hellip;</td><td>&hellip;</td></tr><tr><td>&quot;24&quot;</td><td>1</td><td>0.574713</td></tr><tr><td>&quot;28&quot;</td><td>1</td><td>0.574713</td></tr><tr><td>&quot;22&quot;</td><td>1</td><td>0.574713</td></tr><tr><td>&quot;26&quot;</td><td>1</td><td>0.574713</td></tr><tr><td>&quot;30&quot;</td><td>1</td><td>0.574713</td></tr></tbody></table></div>"
      ],
      "text/plain": [
       "shape: (24, 3)\n",
       "┌─────────────┬───────┬──────────┐\n",
       "│ post_str_b2 ┆ count ┆ percent  │\n",
       "│ ---         ┆ ---   ┆ ---      │\n",
       "│ str         ┆ u32   ┆ f64      │\n",
       "╞═════════════╪═══════╪══════════╡\n",
       "│ 06          ┆ 15    ┆ 8.62069  │\n",
       "│ 08          ┆ 13    ┆ 7.471264 │\n",
       "│ 09          ┆ 12    ┆ 6.896552 │\n",
       "│ 11          ┆ 11    ┆ 6.321839 │\n",
       "│ 05          ┆ 11    ┆ 6.321839 │\n",
       "│ …           ┆ …     ┆ …        │\n",
       "│ 24          ┆ 1     ┆ 0.574713 │\n",
       "│ 28          ┆ 1     ┆ 0.574713 │\n",
       "│ 22          ┆ 1     ┆ 0.574713 │\n",
       "│ 26          ┆ 1     ┆ 0.574713 │\n",
       "│ 30          ┆ 1     ┆ 0.574713 │\n",
       "└─────────────┴───────┴──────────┘"
      ]
     },
     "metadata": {},
     "output_type": "display_data"
    },
    {
     "data": {},
     "metadata": {},
     "output_type": "display_data"
    },
    {
     "data": {
      "application/vnd.holoviews_exec.v0+json": "",
      "text/html": [
       "<div id='738b8ebf-4107-462d-9657-0bd07dcc647c'>\n",
       "  <div id=\"c5c72823-14cf-4404-a73f-041b728e6605\" data-root-id=\"738b8ebf-4107-462d-9657-0bd07dcc647c\" style=\"display: contents;\"></div>\n",
       "</div>\n",
       "<script type=\"application/javascript\">(function(root) {\n",
       "  var docs_json = {\"866991f4-392f-4176-bbed-1c52bf05529e\":{\"version\":\"3.7.2\",\"title\":\"Bokeh Application\",\"roots\":[{\"type\":\"object\",\"name\":\"Row\",\"id\":\"738b8ebf-4107-462d-9657-0bd07dcc647c\",\"attributes\":{\"name\":\"Row00357\",\"tags\":[\"embedded\"],\"stylesheets\":[\"\\n:host(.pn-loading):before, .pn-loading:before {\\n  background-color: #c3c3c3;\\n  mask-size: auto calc(min(50%, 400px));\\n  -webkit-mask-size: auto calc(min(50%, 400px));\\n}\",{\"type\":\"object\",\"name\":\"ImportedStyleSheet\",\"id\":\"1f2777b4-e5eb-47a9-ac91-aee5d797d89f\",\"attributes\":{\"url\":\"https://cdn.holoviz.org/panel/1.6.2/dist/css/loading.css\"}},{\"type\":\"object\",\"name\":\"ImportedStyleSheet\",\"id\":\"b3504214-1691-4a1e-9729-de1a4f83b960\",\"attributes\":{\"url\":\"https://cdn.holoviz.org/panel/1.6.2/dist/css/listpanel.css\"}},{\"type\":\"object\",\"name\":\"ImportedStyleSheet\",\"id\":\"73ee00dd-180a-4898-ad53-f97b36c141a5\",\"attributes\":{\"url\":\"https://cdn.holoviz.org/panel/1.6.2/dist/bundled/theme/default.css\"}},{\"type\":\"object\",\"name\":\"ImportedStyleSheet\",\"id\":\"52b1fb3b-6313-4428-a1bd-feed7f163739\",\"attributes\":{\"url\":\"https://cdn.holoviz.org/panel/1.6.2/dist/bundled/theme/native.css\"}}],\"min_width\":700,\"margin\":0,\"sizing_mode\":\"stretch_width\",\"align\":\"start\",\"children\":[{\"type\":\"object\",\"name\":\"Spacer\",\"id\":\"9acacff6-7007-46e8-9e15-9073efaefe9a\",\"attributes\":{\"name\":\"HSpacer00361\",\"stylesheets\":[\"\\n:host(.pn-loading):before, .pn-loading:before {\\n  background-color: #c3c3c3;\\n  mask-size: auto calc(min(50%, 400px));\\n  -webkit-mask-size: auto calc(min(50%, 400px));\\n}\",{\"id\":\"1f2777b4-e5eb-47a9-ac91-aee5d797d89f\"},{\"id\":\"73ee00dd-180a-4898-ad53-f97b36c141a5\"},{\"id\":\"52b1fb3b-6313-4428-a1bd-feed7f163739\"}],\"margin\":0,\"sizing_mode\":\"stretch_width\",\"align\":\"start\"}},{\"type\":\"object\",\"name\":\"Figure\",\"id\":\"290e7cf3-b982-4846-a615-0b13d2276f0d\",\"attributes\":{\"width\":700,\"height\":300,\"margin\":[5,10],\"sizing_mode\":\"fixed\",\"align\":\"start\",\"x_range\":{\"type\":\"object\",\"name\":\"FactorRange\",\"id\":\"f6ce8c45-75d0-414e-998e-a2f84450d670\",\"attributes\":{\"name\":\"post_str_b2\",\"tags\":[[[\"post_str_b2\",null]],[]],\"factors\":[\"06\",\"08\",\"09\",\"11\",\"05\",\"16\",\"12\",\"07\",\"10\",\"13\",\"18\",\"15\",\"19\",\"14\",\"04\",\"20\",\"03\",\"17\",\"23\",\"24\",\"28\",\"22\",\"26\",\"30\"]}},\"y_range\":{\"type\":\"object\",\"name\":\"Range1d\",\"id\":\"b8fa35aa-2e37-4262-ae3f-210f865df096\",\"attributes\":{\"name\":\"percent\",\"tags\":[[[\"percent\",null]],{\"type\":\"map\",\"entries\":[[\"invert_yaxis\",false],[\"autorange\",false]]}],\"end\":9.42528735632184,\"reset_start\":0.0,\"reset_end\":9.42528735632184}},\"x_scale\":{\"type\":\"object\",\"name\":\"CategoricalScale\",\"id\":\"b08e9e92-385a-4438-81c2-0ac1b47e6780\"},\"y_scale\":{\"type\":\"object\",\"name\":\"LinearScale\",\"id\":\"13773808-bd37-4223-971d-30b7c394c1b2\"},\"title\":{\"type\":\"object\",\"name\":\"Title\",\"id\":\"c9952c68-a19c-4dda-a5c1-0ecdb6fa056e\",\"attributes\":{\"text_color\":\"black\",\"text_font_size\":\"12pt\"}},\"renderers\":[{\"type\":\"object\",\"name\":\"GlyphRenderer\",\"id\":\"0532948f-a125-41c3-acb3-abdbaa5ef07f\",\"attributes\":{\"data_source\":{\"type\":\"object\",\"name\":\"ColumnDataSource\",\"id\":\"ea4516fa-9b0c-45a4-9a66-94b22c00dbad\",\"attributes\":{\"selected\":{\"type\":\"object\",\"name\":\"Selection\",\"id\":\"87b08f69-e71e-4609-a64f-115aff4b2cb8\",\"attributes\":{\"indices\":[],\"line_indices\":[]}},\"selection_policy\":{\"type\":\"object\",\"name\":\"UnionRenderers\",\"id\":\"ad518047-8109-4819-b27d-d433dd028d85\"},\"data\":{\"type\":\"map\",\"entries\":[[\"post_str_b2\",[\"06\",\"08\",\"09\",\"11\",\"05\",\"16\",\"12\",\"07\",\"10\",\"13\",\"18\",\"15\",\"19\",\"14\",\"04\",\"20\",\"03\",\"17\",\"23\",\"24\",\"28\",\"22\",\"26\",\"30\"]],[\"percent\",{\"type\":\"ndarray\",\"array\":{\"type\":\"bytes\",\"data\":\"sdzTCMs9IUAxKV4gk+IdQBphuacRlhtABJkUL5BJGUAEmRQvkEkZQASZFC+QSRlABJkUL5BJGUDr0G+2Dv0WQOvQb7YO/RZA1AjLPY2wFEC8QCbFC2QSQLxAJsULZBJAvEAmxQtkEkC8QCbFC2QSQKV4gUyKFxBApXiBTIoXEEC8QCbFC2QCQLxAJsULZAJAvEAmxQtk8j+8QCbFC2TiP7xAJsULZOI/vEAmxQtk4j+8QCbFC2TiP7xAJsULZOI/\"},\"shape\":[24],\"dtype\":\"float64\",\"order\":\"little\"}]]}}},\"view\":{\"type\":\"object\",\"name\":\"CDSView\",\"id\":\"ff6e58ee-606f-466d-a201-e64987d49388\",\"attributes\":{\"filter\":{\"type\":\"object\",\"name\":\"AllIndices\",\"id\":\"df045d2d-f5a0-4803-b283-6cd85473d6b2\"}}},\"glyph\":{\"type\":\"object\",\"name\":\"VBar\",\"id\":\"271f5520-cdce-496b-9cf1-20042856916b\",\"attributes\":{\"tags\":[\"apply_ranges\"],\"x\":{\"type\":\"field\",\"field\":\"post_str_b2\"},\"width\":{\"type\":\"value\",\"value\":0.8},\"top\":{\"type\":\"field\",\"field\":\"percent\"},\"fill_color\":{\"type\":\"value\",\"value\":\"#30a2da\"},\"hatch_color\":{\"type\":\"value\",\"value\":\"#30a2da\"}}},\"selection_glyph\":{\"type\":\"object\",\"name\":\"VBar\",\"id\":\"b8565bf2-313e-4f36-be1f-5b58bfa20f48\",\"attributes\":{\"tags\":[\"apply_ranges\"],\"x\":{\"type\":\"field\",\"field\":\"post_str_b2\"},\"width\":{\"type\":\"value\",\"value\":0.8},\"bottom\":{\"type\":\"value\",\"value\":0},\"top\":{\"type\":\"field\",\"field\":\"percent\"},\"line_color\":{\"type\":\"value\",\"value\":\"black\"},\"line_alpha\":{\"type\":\"value\",\"value\":1.0},\"line_width\":{\"type\":\"value\",\"value\":1},\"line_join\":{\"type\":\"value\",\"value\":\"bevel\"},\"line_cap\":{\"type\":\"value\",\"value\":\"butt\"},\"line_dash\":{\"type\":\"value\",\"value\":[]},\"line_dash_offset\":{\"type\":\"value\",\"value\":0},\"fill_color\":{\"type\":\"value\",\"value\":\"#30a2da\"},\"fill_alpha\":{\"type\":\"value\",\"value\":1.0},\"hatch_color\":{\"type\":\"value\",\"value\":\"#30a2da\"},\"hatch_alpha\":{\"type\":\"value\",\"value\":1.0},\"hatch_scale\":{\"type\":\"value\",\"value\":12.0},\"hatch_pattern\":{\"type\":\"value\",\"value\":null},\"hatch_weight\":{\"type\":\"value\",\"value\":1.0}}},\"nonselection_glyph\":{\"type\":\"object\",\"name\":\"VBar\",\"id\":\"024d3fa0-83d3-4c91-96f1-27f7c5eddcd8\",\"attributes\":{\"tags\":[\"apply_ranges\"],\"x\":{\"type\":\"field\",\"field\":\"post_str_b2\"},\"width\":{\"type\":\"value\",\"value\":0.8},\"top\":{\"type\":\"field\",\"field\":\"percent\"},\"line_alpha\":{\"type\":\"value\",\"value\":0.1},\"fill_color\":{\"type\":\"value\",\"value\":\"#30a2da\"},\"fill_alpha\":{\"type\":\"value\",\"value\":0.1},\"hatch_color\":{\"type\":\"value\",\"value\":\"#30a2da\"},\"hatch_alpha\":{\"type\":\"value\",\"value\":0.1}}},\"muted_glyph\":{\"type\":\"object\",\"name\":\"VBar\",\"id\":\"aa713c15-98a6-42a5-837f-f9555e3f99b7\",\"attributes\":{\"tags\":[\"apply_ranges\"],\"x\":{\"type\":\"field\",\"field\":\"post_str_b2\"},\"width\":{\"type\":\"value\",\"value\":0.8},\"top\":{\"type\":\"field\",\"field\":\"percent\"},\"line_alpha\":{\"type\":\"value\",\"value\":0.2},\"fill_color\":{\"type\":\"value\",\"value\":\"#30a2da\"},\"fill_alpha\":{\"type\":\"value\",\"value\":0.2},\"hatch_color\":{\"type\":\"value\",\"value\":\"#30a2da\"},\"hatch_alpha\":{\"type\":\"value\",\"value\":0.2}}}}},{\"type\":\"object\",\"name\":\"Span\",\"id\":\"43b00b1c-fa5b-4fe0-99ff-f2e81a7d53bc\",\"attributes\":{\"level\":\"glyph\",\"location\":4.166666666666665,\"line_color\":\"red\",\"line_width\":3}},{\"type\":\"object\",\"name\":\"Span\",\"id\":\"58bd2bfa-2bd9-4abd-81f3-3048116df9d4\",\"attributes\":{\"level\":\"glyph\",\"location\":6.249999999999997,\"line_color\":\"blue\",\"line_width\":3}},{\"type\":\"object\",\"name\":\"Span\",\"id\":\"5a3eec3b-c4e5-4457-a4c9-e7aa6a586e0f\",\"attributes\":{\"level\":\"glyph\",\"location\":2.0833333333333326,\"line_color\":\"blue\",\"line_width\":3}}],\"toolbar\":{\"type\":\"object\",\"name\":\"Toolbar\",\"id\":\"c07eff5a-f64b-44dd-929f-4440e56c1b44\",\"attributes\":{\"tools\":[{\"type\":\"object\",\"name\":\"WheelZoomTool\",\"id\":\"1fcaabe4-e871-4cb3-95ef-ace7830a548d\",\"attributes\":{\"tags\":[\"hv_created\"],\"renderers\":\"auto\",\"zoom_together\":\"none\"}},{\"type\":\"object\",\"name\":\"HoverTool\",\"id\":\"3a604124-7336-49b7-8a2b-eb029f35d7b9\",\"attributes\":{\"tags\":[\"hv_created\"],\"renderers\":[{\"id\":\"0532948f-a125-41c3-acb3-abdbaa5ef07f\"}],\"tooltips\":[[\"post_str_b2\",\"@{post_str_b2}\"],[\"percent\",\"@{percent}\"]]}},{\"type\":\"object\",\"name\":\"SaveTool\",\"id\":\"6a84a2a1-0825-42bc-9119-e436bc60c6fd\"},{\"type\":\"object\",\"name\":\"PanTool\",\"id\":\"e378ee5e-772f-4c7f-9bea-0cd6e9910898\"},{\"type\":\"object\",\"name\":\"BoxZoomTool\",\"id\":\"d0ffda0d-6629-4ba0-a2e8-be77428b70ab\",\"attributes\":{\"dimensions\":\"both\",\"overlay\":{\"type\":\"object\",\"name\":\"BoxAnnotation\",\"id\":\"4cf7cb22-8e20-4354-ba62-94d4c9c5acc1\",\"attributes\":{\"syncable\":false,\"line_color\":\"black\",\"line_alpha\":1.0,\"line_width\":2,\"line_dash\":[4,4],\"fill_color\":\"lightgrey\",\"fill_alpha\":0.5,\"level\":\"overlay\",\"visible\":false,\"left\":{\"type\":\"number\",\"value\":\"nan\"},\"right\":{\"type\":\"number\",\"value\":\"nan\"},\"top\":{\"type\":\"number\",\"value\":\"nan\"},\"bottom\":{\"type\":\"number\",\"value\":\"nan\"},\"left_units\":\"canvas\",\"right_units\":\"canvas\",\"top_units\":\"canvas\",\"bottom_units\":\"canvas\",\"handles\":{\"type\":\"object\",\"name\":\"BoxInteractionHandles\",\"id\":\"d56318da-7ee7-44f1-ab02-8c9aa697cdb3\",\"attributes\":{\"all\":{\"type\":\"object\",\"name\":\"AreaVisuals\",\"id\":\"a3e78585-520b-41bb-b144-1060e15faf44\",\"attributes\":{\"fill_color\":\"white\",\"hover_fill_color\":\"lightgray\"}}}}}}}},{\"type\":\"object\",\"name\":\"ResetTool\",\"id\":\"f27b7f72-4852-40a4-a7af-3754842876cc\"}],\"active_drag\":{\"id\":\"e378ee5e-772f-4c7f-9bea-0cd6e9910898\"}}},\"left\":[{\"type\":\"object\",\"name\":\"LinearAxis\",\"id\":\"a49c3899-102e-49fd-96e1-046ab37029b4\",\"attributes\":{\"ticker\":{\"type\":\"object\",\"name\":\"BasicTicker\",\"id\":\"e2b5b1cd-4097-40ce-aa62-2a823056558e\",\"attributes\":{\"mantissas\":[1,2,5]}},\"formatter\":{\"type\":\"object\",\"name\":\"BasicTickFormatter\",\"id\":\"a75d0d9a-84cf-4858-861b-9a188b7b0184\"},\"axis_label\":\"percent\",\"major_label_policy\":{\"type\":\"object\",\"name\":\"AllLabels\",\"id\":\"400f7266-3394-4e28-af37-03725af9dfd8\"}}}],\"below\":[{\"type\":\"object\",\"name\":\"CategoricalAxis\",\"id\":\"0af75b7e-3466-4751-abdc-aca3a2fdf5d9\",\"attributes\":{\"ticker\":{\"type\":\"object\",\"name\":\"CategoricalTicker\",\"id\":\"f69fc915-e51b-41cc-ba5d-cc68de7a5504\"},\"formatter\":{\"type\":\"object\",\"name\":\"CategoricalTickFormatter\",\"id\":\"adebd4cb-14ea-462d-a93f-78c741fb2556\"},\"axis_label\":\"post_str_b2\",\"major_label_policy\":{\"type\":\"object\",\"name\":\"AllLabels\",\"id\":\"10a67701-3c49-4dff-b9db-11c709f87ffd\"}}}],\"center\":[{\"type\":\"object\",\"name\":\"Grid\",\"id\":\"e9eaaca8-0617-45a6-83e8-e6be8fc45598\",\"attributes\":{\"axis\":{\"id\":\"0af75b7e-3466-4751-abdc-aca3a2fdf5d9\"},\"grid_line_color\":null}},{\"type\":\"object\",\"name\":\"Grid\",\"id\":\"e89f2db4-dd0d-4e60-8b0f-4a87c9b90657\",\"attributes\":{\"dimension\":1,\"axis\":{\"id\":\"a49c3899-102e-49fd-96e1-046ab37029b4\"},\"grid_line_color\":null}}],\"min_border_top\":10,\"min_border_bottom\":10,\"min_border_left\":10,\"min_border_right\":10,\"output_backend\":\"webgl\"}},{\"type\":\"object\",\"name\":\"Spacer\",\"id\":\"c2827859-e8a4-4b08-ad22-4a8c07ca7463\",\"attributes\":{\"name\":\"HSpacer00362\",\"stylesheets\":[\"\\n:host(.pn-loading):before, .pn-loading:before {\\n  background-color: #c3c3c3;\\n  mask-size: auto calc(min(50%, 400px));\\n  -webkit-mask-size: auto calc(min(50%, 400px));\\n}\",{\"id\":\"1f2777b4-e5eb-47a9-ac91-aee5d797d89f\"},{\"id\":\"73ee00dd-180a-4898-ad53-f97b36c141a5\"},{\"id\":\"52b1fb3b-6313-4428-a1bd-feed7f163739\"}],\"margin\":0,\"sizing_mode\":\"stretch_width\",\"align\":\"start\"}}]}}],\"defs\":[{\"type\":\"model\",\"name\":\"ReactiveHTML1\"},{\"type\":\"model\",\"name\":\"FlexBox1\",\"properties\":[{\"name\":\"align_content\",\"kind\":\"Any\",\"default\":\"flex-start\"},{\"name\":\"align_items\",\"kind\":\"Any\",\"default\":\"flex-start\"},{\"name\":\"flex_direction\",\"kind\":\"Any\",\"default\":\"row\"},{\"name\":\"flex_wrap\",\"kind\":\"Any\",\"default\":\"wrap\"},{\"name\":\"gap\",\"kind\":\"Any\",\"default\":\"\"},{\"name\":\"justify_content\",\"kind\":\"Any\",\"default\":\"flex-start\"}]},{\"type\":\"model\",\"name\":\"FloatPanel1\",\"properties\":[{\"name\":\"config\",\"kind\":\"Any\",\"default\":{\"type\":\"map\"}},{\"name\":\"contained\",\"kind\":\"Any\",\"default\":true},{\"name\":\"position\",\"kind\":\"Any\",\"default\":\"right-top\"},{\"name\":\"offsetx\",\"kind\":\"Any\",\"default\":null},{\"name\":\"offsety\",\"kind\":\"Any\",\"default\":null},{\"name\":\"theme\",\"kind\":\"Any\",\"default\":\"primary\"},{\"name\":\"status\",\"kind\":\"Any\",\"default\":\"normalized\"}]},{\"type\":\"model\",\"name\":\"GridStack1\",\"properties\":[{\"name\":\"ncols\",\"kind\":\"Any\",\"default\":null},{\"name\":\"nrows\",\"kind\":\"Any\",\"default\":null},{\"name\":\"allow_resize\",\"kind\":\"Any\",\"default\":true},{\"name\":\"allow_drag\",\"kind\":\"Any\",\"default\":true},{\"name\":\"state\",\"kind\":\"Any\",\"default\":[]}]},{\"type\":\"model\",\"name\":\"drag1\",\"properties\":[{\"name\":\"slider_width\",\"kind\":\"Any\",\"default\":5},{\"name\":\"slider_color\",\"kind\":\"Any\",\"default\":\"black\"},{\"name\":\"value\",\"kind\":\"Any\",\"default\":50}]},{\"type\":\"model\",\"name\":\"click1\",\"properties\":[{\"name\":\"terminal_output\",\"kind\":\"Any\",\"default\":\"\"},{\"name\":\"debug_name\",\"kind\":\"Any\",\"default\":\"\"},{\"name\":\"clears\",\"kind\":\"Any\",\"default\":0}]},{\"type\":\"model\",\"name\":\"FastWrapper1\",\"properties\":[{\"name\":\"object\",\"kind\":\"Any\",\"default\":null},{\"name\":\"style\",\"kind\":\"Any\",\"default\":null}]},{\"type\":\"model\",\"name\":\"NotificationArea1\",\"properties\":[{\"name\":\"js_events\",\"kind\":\"Any\",\"default\":{\"type\":\"map\"}},{\"name\":\"max_notifications\",\"kind\":\"Any\",\"default\":5},{\"name\":\"notifications\",\"kind\":\"Any\",\"default\":[]},{\"name\":\"position\",\"kind\":\"Any\",\"default\":\"bottom-right\"},{\"name\":\"_clear\",\"kind\":\"Any\",\"default\":0},{\"name\":\"types\",\"kind\":\"Any\",\"default\":[{\"type\":\"map\",\"entries\":[[\"type\",\"warning\"],[\"background\",\"#ffc107\"],[\"icon\",{\"type\":\"map\",\"entries\":[[\"className\",\"fas fa-exclamation-triangle\"],[\"tagName\",\"i\"],[\"color\",\"white\"]]}]]},{\"type\":\"map\",\"entries\":[[\"type\",\"info\"],[\"background\",\"#007bff\"],[\"icon\",{\"type\":\"map\",\"entries\":[[\"className\",\"fas fa-info-circle\"],[\"tagName\",\"i\"],[\"color\",\"white\"]]}]]}]}]},{\"type\":\"model\",\"name\":\"Notification\",\"properties\":[{\"name\":\"background\",\"kind\":\"Any\",\"default\":null},{\"name\":\"duration\",\"kind\":\"Any\",\"default\":3000},{\"name\":\"icon\",\"kind\":\"Any\",\"default\":null},{\"name\":\"message\",\"kind\":\"Any\",\"default\":\"\"},{\"name\":\"notification_type\",\"kind\":\"Any\",\"default\":null},{\"name\":\"_rendered\",\"kind\":\"Any\",\"default\":false},{\"name\":\"_destroyed\",\"kind\":\"Any\",\"default\":false}]},{\"type\":\"model\",\"name\":\"TemplateActions1\",\"properties\":[{\"name\":\"open_modal\",\"kind\":\"Any\",\"default\":0},{\"name\":\"close_modal\",\"kind\":\"Any\",\"default\":0}]},{\"type\":\"model\",\"name\":\"BootstrapTemplateActions1\",\"properties\":[{\"name\":\"open_modal\",\"kind\":\"Any\",\"default\":0},{\"name\":\"close_modal\",\"kind\":\"Any\",\"default\":0}]},{\"type\":\"model\",\"name\":\"TemplateEditor1\",\"properties\":[{\"name\":\"layout\",\"kind\":\"Any\",\"default\":[]}]},{\"type\":\"model\",\"name\":\"MaterialTemplateActions1\",\"properties\":[{\"name\":\"open_modal\",\"kind\":\"Any\",\"default\":0},{\"name\":\"close_modal\",\"kind\":\"Any\",\"default\":0}]},{\"type\":\"model\",\"name\":\"ReactiveESM1\",\"properties\":[{\"name\":\"esm_constants\",\"kind\":\"Any\",\"default\":{\"type\":\"map\"}}]},{\"type\":\"model\",\"name\":\"JSComponent1\",\"properties\":[{\"name\":\"esm_constants\",\"kind\":\"Any\",\"default\":{\"type\":\"map\"}}]},{\"type\":\"model\",\"name\":\"ReactComponent1\",\"properties\":[{\"name\":\"esm_constants\",\"kind\":\"Any\",\"default\":{\"type\":\"map\"}}]},{\"type\":\"model\",\"name\":\"AnyWidgetComponent1\",\"properties\":[{\"name\":\"esm_constants\",\"kind\":\"Any\",\"default\":{\"type\":\"map\"}}]},{\"type\":\"model\",\"name\":\"request_value1\",\"properties\":[{\"name\":\"fill\",\"kind\":\"Any\",\"default\":\"none\"},{\"name\":\"_synced\",\"kind\":\"Any\",\"default\":null},{\"name\":\"_request_sync\",\"kind\":\"Any\",\"default\":0}]}]}};\n",
       "  var render_items = [{\"docid\":\"866991f4-392f-4176-bbed-1c52bf05529e\",\"roots\":{\"738b8ebf-4107-462d-9657-0bd07dcc647c\":\"c5c72823-14cf-4404-a73f-041b728e6605\"},\"root_ids\":[\"738b8ebf-4107-462d-9657-0bd07dcc647c\"]}];\n",
       "  var docs = Object.values(docs_json)\n",
       "  if (!docs) {\n",
       "    return\n",
       "  }\n",
       "  const py_version = docs[0].version.replace('rc', '-rc.').replace('.dev', '-dev.')\n",
       "  async function embed_document(root) {\n",
       "    var Bokeh = get_bokeh(root)\n",
       "    await Bokeh.embed.embed_items_notebook(docs_json, render_items);\n",
       "    for (const render_item of render_items) {\n",
       "      for (const root_id of render_item.root_ids) {\n",
       "\tconst id_el = document.getElementById(root_id)\n",
       "\tif (id_el.children.length && id_el.children[0].hasAttribute('data-root-id')) {\n",
       "\t  const root_el = id_el.children[0]\n",
       "\t  root_el.id = root_el.id + '-rendered'\n",
       "\t  for (const child of root_el.children) {\n",
       "            // Ensure JupyterLab does not capture keyboard shortcuts\n",
       "            // see: https://jupyterlab.readthedocs.io/en/4.1.x/extension/notebook.html#keyboard-interaction-model\n",
       "\t    child.setAttribute('data-lm-suppress-shortcuts', 'true')\n",
       "\t  }\n",
       "\t}\n",
       "      }\n",
       "    }\n",
       "  }\n",
       "  function get_bokeh(root) {\n",
       "    if (root.Bokeh === undefined) {\n",
       "      return null\n",
       "    } else if (root.Bokeh.version !== py_version) {\n",
       "      if (root.Bokeh.versions === undefined || !root.Bokeh.versions.has(py_version)) {\n",
       "\treturn null\n",
       "      }\n",
       "      return root.Bokeh.versions.get(py_version);\n",
       "    } else if (root.Bokeh.version === py_version) {\n",
       "      return root.Bokeh\n",
       "    }\n",
       "    return null\n",
       "  }\n",
       "  function is_loaded(root) {\n",
       "    var Bokeh = get_bokeh(root)\n",
       "    return (Bokeh != null && Bokeh.Panel !== undefined)\n",
       "  }\n",
       "  if (is_loaded(root)) {\n",
       "    embed_document(root);\n",
       "  } else {\n",
       "    var attempts = 0;\n",
       "    var timer = setInterval(function(root) {\n",
       "      if (is_loaded(root)) {\n",
       "        clearInterval(timer);\n",
       "        embed_document(root);\n",
       "      } else if (document.readyState == \"complete\") {\n",
       "        attempts++;\n",
       "        if (attempts > 200) {\n",
       "          clearInterval(timer);\n",
       "\t  var Bokeh = get_bokeh(root)\n",
       "\t  if (Bokeh == null || Bokeh.Panel == null) {\n",
       "            console.warn(\"Panel: ERROR: Unable to run Panel code because Bokeh or Panel library is missing\");\n",
       "\t  } else {\n",
       "\t    console.warn(\"Panel: WARNING: Attempting to render but not all required libraries could be resolved.\")\n",
       "\t    embed_document(root)\n",
       "\t  }\n",
       "        }\n",
       "      }\n",
       "    }, 25, root)\n",
       "  }\n",
       "})(window);</script>"
      ],
      "text/plain": [
       ":Overlay\n",
       "   .Bars.I    :Bars   [post_str_b2]   (percent)\n",
       "   .HLine.I   :HLine   [x,y]\n",
       "   .HLine.II  :HLine   [x,y]\n",
       "   .HLine.III :HLine   [x,y]"
      ]
     },
     "metadata": {
      "application/vnd.holoviews_exec.v0+json": {
       "id": "738b8ebf-4107-462d-9657-0bd07dcc647c"
      }
     },
     "output_type": "display_data"
    },
    {
     "name": "stdout",
     "output_type": "stream",
     "text": [
      "df_10_last FOR str_b2 = 21\n",
      "Last 3 results last_results=['10', '16', '08']\n"
     ]
    },
    {
     "data": {
      "text/html": [
       "<div><style>\n",
       ".dataframe > thead > tr,\n",
       ".dataframe > tbody > tr {\n",
       "  text-align: right;\n",
       "  white-space: pre-wrap;\n",
       "}\n",
       "</style>\n",
       "<small>shape: (10, 24)</small><table border=\"1\" class=\"dataframe\"><thead><tr><th>fecha</th><th>sorteo</th><th>bolillas</th><th>id</th><th>combo</th><th>b1</th><th>b2</th><th>b3</th><th>b4</th><th>b5</th><th>str_b1</th><th>str_b2</th><th>str_b3</th><th>str_b4</th><th>str_b5</th><th>post_str_b1</th><th>post_str_b2</th><th>post_str_b3</th><th>post_str_b4</th><th>post_str_blast</th><th>is_rare_combination</th><th>reason</th><th>jumps_map</th><th>unijump</th></tr><tr><td>str</td><td>str</td><td>str</td><td>str</td><td>array[u8, 5]</td><td>u8</td><td>u8</td><td>u8</td><td>u8</td><td>u8</td><td>str</td><td>str</td><td>str</td><td>str</td><td>str</td><td>str</td><td>str</td><td>str</td><td>str</td><td>str</td><td>bool</td><td>u8</td><td>str</td><td>i64</td></tr></thead><tbody><tr><td>&quot;18/04/2025&quot;</td><td>&quot;4190&quot;</td><td>&quot;21 23 31 05 25&quot;</td><td>&quot;0521232531&quot;</td><td>[5, 21, … 31]</td><td>5</td><td>21</td><td>23</td><td>25</td><td>31</td><td>&quot;05&quot;</td><td>&quot;21&quot;</td><td>&quot;23&quot;</td><td>&quot;25&quot;</td><td>&quot;31&quot;</td><td>&quot;06&quot;</td><td>&quot;10&quot;</td><td>&quot;15&quot;</td><td>&quot;20&quot;</td><td>&quot;21&quot;</td><td>true</td><td>10</td><td>&quot;16_02_02_06&quot;</td><td>-10</td></tr><tr><td>&quot;16/04/2025&quot;</td><td>&quot;4188&quot;</td><td>&quot;21 13 28 29 34&quot;</td><td>&quot;1321282934&quot;</td><td>[13, 21, … 34]</td><td>13</td><td>21</td><td>28</td><td>29</td><td>34</td><td>&quot;13&quot;</td><td>&quot;21&quot;</td><td>&quot;28&quot;</td><td>&quot;29&quot;</td><td>&quot;34&quot;</td><td>&quot;14&quot;</td><td>&quot;16&quot;</td><td>&quot;19&quot;</td><td>&quot;30&quot;</td><td>&quot;33&quot;</td><td>false</td><td>0</td><td>&quot;08_07_01_05&quot;</td><td>15</td></tr><tr><td>&quot;10/04/2025&quot;</td><td>&quot;4182&quot;</td><td>&quot;30 33 34 10 21&quot;</td><td>&quot;1021303334&quot;</td><td>[10, 21, … 34]</td><td>10</td><td>21</td><td>30</td><td>33</td><td>34</td><td>&quot;10&quot;</td><td>&quot;21&quot;</td><td>&quot;30&quot;</td><td>&quot;33&quot;</td><td>&quot;34&quot;</td><td>&quot;01&quot;</td><td>&quot;08&quot;</td><td>&quot;09&quot;</td><td>&quot;10&quot;</td><td>&quot;12&quot;</td><td>false</td><td>0</td><td>&quot;11_09_03_01&quot;</td><td>8</td></tr><tr><td>&quot;24/03/2025&quot;</td><td>&quot;4165&quot;</td><td>&quot;32 29 27 21 06&quot;</td><td>&quot;0621272932&quot;</td><td>[6, 21, … 32]</td><td>6</td><td>21</td><td>27</td><td>29</td><td>32</td><td>&quot;06&quot;</td><td>&quot;21&quot;</td><td>&quot;27&quot;</td><td>&quot;29&quot;</td><td>&quot;32&quot;</td><td>&quot;04&quot;</td><td>&quot;06&quot;</td><td>&quot;22&quot;</td><td>&quot;29&quot;</td><td>&quot;35&quot;</td><td>false</td><td>0</td><td>&quot;15_06_02_03&quot;</td><td>0</td></tr><tr><td>&quot;15/02/2025&quot;</td><td>&quot;4128&quot;</td><td>&quot;21 09 26 31 32&quot;</td><td>&quot;0921263132&quot;</td><td>[9, 21, … 32]</td><td>9</td><td>21</td><td>26</td><td>31</td><td>32</td><td>&quot;09&quot;</td><td>&quot;21&quot;</td><td>&quot;26&quot;</td><td>&quot;31&quot;</td><td>&quot;32&quot;</td><td>&quot;04&quot;</td><td>&quot;07&quot;</td><td>&quot;12&quot;</td><td>&quot;32&quot;</td><td>&quot;33&quot;</td><td>true</td><td>8</td><td>&quot;12_05_05_01&quot;</td><td>-11</td></tr><tr><td>&quot;18/07/2024&quot;</td><td>&quot;3916&quot;</td><td>&quot;28 30 35 11 21&quot;</td><td>&quot;1121283035&quot;</td><td>[11, 21, … 35]</td><td>11</td><td>21</td><td>28</td><td>30</td><td>35</td><td>&quot;11&quot;</td><td>&quot;21&quot;</td><td>&quot;28&quot;</td><td>&quot;30&quot;</td><td>&quot;35&quot;</td><td>&quot;01&quot;</td><td>&quot;15&quot;</td><td>&quot;16&quot;</td><td>&quot;33&quot;</td><td>&quot;35&quot;</td><td>false</td><td>0</td><td>&quot;10_07_02_05&quot;</td><td>10</td></tr><tr><td>&quot;18/05/2024&quot;</td><td>&quot;3855&quot;</td><td>&quot;12 28 21 30 33&quot;</td><td>&quot;1221283033&quot;</td><td>[12, 21, … 33]</td><td>12</td><td>21</td><td>28</td><td>30</td><td>33</td><td>&quot;12&quot;</td><td>&quot;21&quot;</td><td>&quot;28&quot;</td><td>&quot;30&quot;</td><td>&quot;33&quot;</td><td>&quot;06&quot;</td><td>&quot;07&quot;</td><td>&quot;15&quot;</td><td>&quot;27&quot;</td><td>&quot;35&quot;</td><td>false</td><td>0</td><td>&quot;09_07_02_03&quot;</td><td>9</td></tr><tr><td>&quot;15/04/2024&quot;</td><td>&quot;3822&quot;</td><td>&quot;24 09 29 35 21&quot;</td><td>&quot;0921242935&quot;</td><td>[9, 21, … 35]</td><td>9</td><td>21</td><td>24</td><td>29</td><td>35</td><td>&quot;09&quot;</td><td>&quot;21&quot;</td><td>&quot;24&quot;</td><td>&quot;29&quot;</td><td>&quot;35&quot;</td><td>&quot;12&quot;</td><td>&quot;20&quot;</td><td>&quot;21&quot;</td><td>&quot;27&quot;</td><td>&quot;29&quot;</td><td>false</td><td>0</td><td>&quot;12_03_05_06&quot;</td><td>-12</td></tr><tr><td>&quot;11/03/2024&quot;</td><td>&quot;3787&quot;</td><td>&quot;22 12 21 35 25&quot;</td><td>&quot;1221222535&quot;</td><td>[12, 21, … 35]</td><td>12</td><td>21</td><td>22</td><td>25</td><td>35</td><td>&quot;12&quot;</td><td>&quot;21&quot;</td><td>&quot;22&quot;</td><td>&quot;25&quot;</td><td>&quot;35&quot;</td><td>&quot;06&quot;</td><td>&quot;12&quot;</td><td>&quot;14&quot;</td><td>&quot;19&quot;</td><td>&quot;35&quot;</td><td>false</td><td>0</td><td>&quot;09_01_03_10&quot;</td><td>-5</td></tr><tr><td>&quot;03/01/2024&quot;</td><td>&quot;3719&quot;</td><td>&quot;32 22 11 21 27&quot;</td><td>&quot;1121222732&quot;</td><td>[11, 21, … 32]</td><td>11</td><td>21</td><td>22</td><td>27</td><td>32</td><td>&quot;11&quot;</td><td>&quot;21&quot;</td><td>&quot;22&quot;</td><td>&quot;27&quot;</td><td>&quot;32&quot;</td><td>&quot;08&quot;</td><td>&quot;18&quot;</td><td>&quot;21&quot;</td><td>&quot;27&quot;</td><td>&quot;34&quot;</td><td>true</td><td>8</td><td>&quot;10_01_05_05&quot;</td><td>-17</td></tr></tbody></table></div>"
      ],
      "text/plain": [
       "shape: (10, 24)\n",
       "┌────────────┬────────┬─────────────┬────────────┬───┬─────────────┬────────┬────────────┬─────────┐\n",
       "│ fecha      ┆ sorteo ┆ bolillas    ┆ id         ┆ … ┆ is_rare_com ┆ reason ┆ jumps_map  ┆ unijump │\n",
       "│ ---        ┆ ---    ┆ ---         ┆ ---        ┆   ┆ bination    ┆ ---    ┆ ---        ┆ ---     │\n",
       "│ str        ┆ str    ┆ str         ┆ str        ┆   ┆ ---         ┆ u8     ┆ str        ┆ i64     │\n",
       "│            ┆        ┆             ┆            ┆   ┆ bool        ┆        ┆            ┆         │\n",
       "╞════════════╪════════╪═════════════╪════════════╪═══╪═════════════╪════════╪════════════╪═════════╡\n",
       "│ 18/04/2025 ┆ 4190   ┆ 21 23 31 05 ┆ 0521232531 ┆ … ┆ true        ┆ 10     ┆ 16_02_02_0 ┆ -10     │\n",
       "│            ┆        ┆ 25          ┆            ┆   ┆             ┆        ┆ 6          ┆         │\n",
       "│ 16/04/2025 ┆ 4188   ┆ 21 13 28 29 ┆ 1321282934 ┆ … ┆ false       ┆ 0      ┆ 08_07_01_0 ┆ 15      │\n",
       "│            ┆        ┆ 34          ┆            ┆   ┆             ┆        ┆ 5          ┆         │\n",
       "│ 10/04/2025 ┆ 4182   ┆ 30 33 34 10 ┆ 1021303334 ┆ … ┆ false       ┆ 0      ┆ 11_09_03_0 ┆ 8       │\n",
       "│            ┆        ┆ 21          ┆            ┆   ┆             ┆        ┆ 1          ┆         │\n",
       "│ 24/03/2025 ┆ 4165   ┆ 32 29 27 21 ┆ 0621272932 ┆ … ┆ false       ┆ 0      ┆ 15_06_02_0 ┆ 0       │\n",
       "│            ┆        ┆ 06          ┆            ┆   ┆             ┆        ┆ 3          ┆         │\n",
       "│ 15/02/2025 ┆ 4128   ┆ 21 09 26 31 ┆ 0921263132 ┆ … ┆ true        ┆ 8      ┆ 12_05_05_0 ┆ -11     │\n",
       "│            ┆        ┆ 32          ┆            ┆   ┆             ┆        ┆ 1          ┆         │\n",
       "│ 18/07/2024 ┆ 3916   ┆ 28 30 35 11 ┆ 1121283035 ┆ … ┆ false       ┆ 0      ┆ 10_07_02_0 ┆ 10      │\n",
       "│            ┆        ┆ 21          ┆            ┆   ┆             ┆        ┆ 5          ┆         │\n",
       "│ 18/05/2024 ┆ 3855   ┆ 12 28 21 30 ┆ 1221283033 ┆ … ┆ false       ┆ 0      ┆ 09_07_02_0 ┆ 9       │\n",
       "│            ┆        ┆ 33          ┆            ┆   ┆             ┆        ┆ 3          ┆         │\n",
       "│ 15/04/2024 ┆ 3822   ┆ 24 09 29 35 ┆ 0921242935 ┆ … ┆ false       ┆ 0      ┆ 12_03_05_0 ┆ -12     │\n",
       "│            ┆        ┆ 21          ┆            ┆   ┆             ┆        ┆ 6          ┆         │\n",
       "│ 11/03/2024 ┆ 3787   ┆ 22 12 21 35 ┆ 1221222535 ┆ … ┆ false       ┆ 0      ┆ 09_01_03_1 ┆ -5      │\n",
       "│            ┆        ┆ 25          ┆            ┆   ┆             ┆        ┆ 0          ┆         │\n",
       "│ 03/01/2024 ┆ 3719   ┆ 32 22 11 21 ┆ 1121222732 ┆ … ┆ true        ┆ 8      ┆ 10_01_05_0 ┆ -17     │\n",
       "│            ┆        ┆ 27          ┆            ┆   ┆             ┆        ┆ 5          ┆         │\n",
       "└────────────┴────────┴─────────────┴────────────┴───┴─────────────┴────────┴────────────┴─────────┘"
      ]
     },
     "metadata": {},
     "output_type": "display_data"
    },
    {
     "name": "stdout",
     "output_type": "stream",
     "text": [
      "df_jumps_map FOR str_b2 = 21\n"
     ]
    },
    {
     "data": {
      "text/html": [
       "<div><style>\n",
       ".dataframe > thead > tr,\n",
       ".dataframe > tbody > tr {\n",
       "  text-align: right;\n",
       "  white-space: pre-wrap;\n",
       "}\n",
       "</style>\n",
       "<small>shape: (169, 2)</small><table border=\"1\" class=\"dataframe\"><thead><tr><th>jumps_map</th><th>count</th></tr><tr><td>str</td><td>u32</td></tr></thead><tbody><tr><td>&quot;07_04_03_04&quot;</td><td>2</td></tr><tr><td>&quot;19_07_03_01&quot;</td><td>2</td></tr><tr><td>&quot;11_04_05_05&quot;</td><td>2</td></tr><tr><td>&quot;10_07_02_05&quot;</td><td>2</td></tr><tr><td>&quot;08_07_01_05&quot;</td><td>2</td></tr><tr><td>&hellip;</td><td>&hellip;</td></tr><tr><td>&quot;12_07_01_01&quot;</td><td>1</td></tr><tr><td>&quot;06_04_07_02&quot;</td><td>1</td></tr><tr><td>&quot;03_10_02_01&quot;</td><td>1</td></tr><tr><td>&quot;19_04_02_06&quot;</td><td>1</td></tr><tr><td>&quot;08_09_02_02&quot;</td><td>1</td></tr></tbody></table></div>"
      ],
      "text/plain": [
       "shape: (169, 2)\n",
       "┌─────────────┬───────┐\n",
       "│ jumps_map   ┆ count │\n",
       "│ ---         ┆ ---   │\n",
       "│ str         ┆ u32   │\n",
       "╞═════════════╪═══════╡\n",
       "│ 07_04_03_04 ┆ 2     │\n",
       "│ 19_07_03_01 ┆ 2     │\n",
       "│ 11_04_05_05 ┆ 2     │\n",
       "│ 10_07_02_05 ┆ 2     │\n",
       "│ 08_07_01_05 ┆ 2     │\n",
       "│ …           ┆ …     │\n",
       "│ 12_07_01_01 ┆ 1     │\n",
       "│ 06_04_07_02 ┆ 1     │\n",
       "│ 03_10_02_01 ┆ 1     │\n",
       "│ 19_04_02_06 ┆ 1     │\n",
       "│ 08_09_02_02 ┆ 1     │\n",
       "└─────────────┴───────┘"
      ]
     },
     "metadata": {},
     "output_type": "display_data"
    },
    {
     "name": "stdout",
     "output_type": "stream",
     "text": [
      "df_unijump FOR str_b2 = 21\n"
     ]
    },
    {
     "data": {
      "text/html": [
       "<div><style>\n",
       ".dataframe > thead > tr,\n",
       ".dataframe > tbody > tr {\n",
       "  text-align: right;\n",
       "  white-space: pre-wrap;\n",
       "}\n",
       "</style>\n",
       "<small>shape: (55, 2)</small><table border=\"1\" class=\"dataframe\"><thead><tr><th>unijump</th><th>count</th></tr><tr><td>i64</td><td>u32</td></tr></thead><tbody><tr><td>-6</td><td>9</td></tr><tr><td>-7</td><td>9</td></tr><tr><td>-9</td><td>7</td></tr><tr><td>-11</td><td>7</td></tr><tr><td>-13</td><td>7</td></tr><tr><td>&hellip;</td><td>&hellip;</td></tr><tr><td>-24</td><td>1</td></tr><tr><td>18</td><td>1</td></tr><tr><td>22</td><td>1</td></tr><tr><td>-48</td><td>1</td></tr><tr><td>19</td><td>1</td></tr></tbody></table></div>"
      ],
      "text/plain": [
       "shape: (55, 2)\n",
       "┌─────────┬───────┐\n",
       "│ unijump ┆ count │\n",
       "│ ---     ┆ ---   │\n",
       "│ i64     ┆ u32   │\n",
       "╞═════════╪═══════╡\n",
       "│ -6      ┆ 9     │\n",
       "│ -7      ┆ 9     │\n",
       "│ -9      ┆ 7     │\n",
       "│ -11     ┆ 7     │\n",
       "│ -13     ┆ 7     │\n",
       "│ …       ┆ …     │\n",
       "│ -24     ┆ 1     │\n",
       "│ 18      ┆ 1     │\n",
       "│ 22      ┆ 1     │\n",
       "│ -48     ┆ 1     │\n",
       "│ 19      ┆ 1     │\n",
       "└─────────┴───────┘"
      ]
     },
     "metadata": {},
     "output_type": "display_data"
    }
   ],
   "source": [
    "possible_b2, exclude_jump_maps_b2, last_post_b2 = plot_post_col(col='str_b2', post_col='post_str_b2')"
   ]
  },
  {
   "cell_type": "code",
   "execution_count": 10,
   "metadata": {},
   "outputs": [
    {
     "name": "stdout",
     "output_type": "stream",
     "text": [
      "Setting test_value='23'\n",
      "df_viz FOR str_b3 = 23\n"
     ]
    },
    {
     "data": {
      "text/html": [
       "<div><style>\n",
       ".dataframe > thead > tr,\n",
       ".dataframe > tbody > tr {\n",
       "  text-align: right;\n",
       "  white-space: pre-wrap;\n",
       "}\n",
       "</style>\n",
       "<small>shape: (29, 3)</small><table border=\"1\" class=\"dataframe\"><thead><tr><th>post_str_b3</th><th>count</th><th>percent</th></tr><tr><td>str</td><td>u32</td><td>f64</td></tr></thead><tbody><tr><td>&quot;19&quot;</td><td>28</td><td>7.329843</td></tr><tr><td>&quot;17&quot;</td><td>25</td><td>6.544503</td></tr><tr><td>&quot;20&quot;</td><td>23</td><td>6.020942</td></tr><tr><td>&quot;23&quot;</td><td>22</td><td>5.759162</td></tr><tr><td>&quot;13&quot;</td><td>21</td><td>5.497382</td></tr><tr><td>&hellip;</td><td>&hellip;</td><td>&hellip;</td></tr><tr><td>&quot;06&quot;</td><td>5</td><td>1.308901</td></tr><tr><td>&quot;31&quot;</td><td>5</td><td>1.308901</td></tr><tr><td>&quot;05&quot;</td><td>4</td><td>1.04712</td></tr><tr><td>&quot;32&quot;</td><td>3</td><td>0.78534</td></tr><tr><td>&quot;04&quot;</td><td>1</td><td>0.26178</td></tr></tbody></table></div>"
      ],
      "text/plain": [
       "shape: (29, 3)\n",
       "┌─────────────┬───────┬──────────┐\n",
       "│ post_str_b3 ┆ count ┆ percent  │\n",
       "│ ---         ┆ ---   ┆ ---      │\n",
       "│ str         ┆ u32   ┆ f64      │\n",
       "╞═════════════╪═══════╪══════════╡\n",
       "│ 19          ┆ 28    ┆ 7.329843 │\n",
       "│ 17          ┆ 25    ┆ 6.544503 │\n",
       "│ 20          ┆ 23    ┆ 6.020942 │\n",
       "│ 23          ┆ 22    ┆ 5.759162 │\n",
       "│ 13          ┆ 21    ┆ 5.497382 │\n",
       "│ …           ┆ …     ┆ …        │\n",
       "│ 06          ┆ 5     ┆ 1.308901 │\n",
       "│ 31          ┆ 5     ┆ 1.308901 │\n",
       "│ 05          ┆ 4     ┆ 1.04712  │\n",
       "│ 32          ┆ 3     ┆ 0.78534  │\n",
       "│ 04          ┆ 1     ┆ 0.26178  │\n",
       "└─────────────┴───────┴──────────┘"
      ]
     },
     "metadata": {},
     "output_type": "display_data"
    },
    {
     "data": {},
     "metadata": {},
     "output_type": "display_data"
    },
    {
     "data": {
      "application/vnd.holoviews_exec.v0+json": "",
      "text/html": [
       "<div id='73a311ae-9c1c-4c16-80fb-34c3b2b4de44'>\n",
       "  <div id=\"a262b5ea-560c-4db1-ba04-aed702781bc9\" data-root-id=\"73a311ae-9c1c-4c16-80fb-34c3b2b4de44\" style=\"display: contents;\"></div>\n",
       "</div>\n",
       "<script type=\"application/javascript\">(function(root) {\n",
       "  var docs_json = {\"e77eb5a4-c7b2-40b3-a53e-6c8279f8961f\":{\"version\":\"3.7.2\",\"title\":\"Bokeh Application\",\"roots\":[{\"type\":\"object\",\"name\":\"Row\",\"id\":\"73a311ae-9c1c-4c16-80fb-34c3b2b4de44\",\"attributes\":{\"name\":\"Row00428\",\"tags\":[\"embedded\"],\"stylesheets\":[\"\\n:host(.pn-loading):before, .pn-loading:before {\\n  background-color: #c3c3c3;\\n  mask-size: auto calc(min(50%, 400px));\\n  -webkit-mask-size: auto calc(min(50%, 400px));\\n}\",{\"type\":\"object\",\"name\":\"ImportedStyleSheet\",\"id\":\"3735a111-8e0a-4a6d-adb6-819d58f22f3f\",\"attributes\":{\"url\":\"https://cdn.holoviz.org/panel/1.6.2/dist/css/loading.css\"}},{\"type\":\"object\",\"name\":\"ImportedStyleSheet\",\"id\":\"81dd118d-c629-4e1e-806e-34b6da1215fd\",\"attributes\":{\"url\":\"https://cdn.holoviz.org/panel/1.6.2/dist/css/listpanel.css\"}},{\"type\":\"object\",\"name\":\"ImportedStyleSheet\",\"id\":\"701d203a-84f8-433a-b238-e451900a289b\",\"attributes\":{\"url\":\"https://cdn.holoviz.org/panel/1.6.2/dist/bundled/theme/default.css\"}},{\"type\":\"object\",\"name\":\"ImportedStyleSheet\",\"id\":\"460dc520-a08d-4bda-ba31-06131184dfac\",\"attributes\":{\"url\":\"https://cdn.holoviz.org/panel/1.6.2/dist/bundled/theme/native.css\"}}],\"min_width\":700,\"margin\":0,\"sizing_mode\":\"stretch_width\",\"align\":\"start\",\"children\":[{\"type\":\"object\",\"name\":\"Spacer\",\"id\":\"e7209349-927b-45cc-a0ea-aa7c1657373a\",\"attributes\":{\"name\":\"HSpacer00432\",\"stylesheets\":[\"\\n:host(.pn-loading):before, .pn-loading:before {\\n  background-color: #c3c3c3;\\n  mask-size: auto calc(min(50%, 400px));\\n  -webkit-mask-size: auto calc(min(50%, 400px));\\n}\",{\"id\":\"3735a111-8e0a-4a6d-adb6-819d58f22f3f\"},{\"id\":\"701d203a-84f8-433a-b238-e451900a289b\"},{\"id\":\"460dc520-a08d-4bda-ba31-06131184dfac\"}],\"margin\":0,\"sizing_mode\":\"stretch_width\",\"align\":\"start\"}},{\"type\":\"object\",\"name\":\"Figure\",\"id\":\"13422618-2c0d-4d22-801d-98c88dcb19dc\",\"attributes\":{\"width\":700,\"height\":300,\"margin\":[5,10],\"sizing_mode\":\"fixed\",\"align\":\"start\",\"x_range\":{\"type\":\"object\",\"name\":\"FactorRange\",\"id\":\"7c39d1e6-c88d-4c1b-80ec-d4ba3b2869db\",\"attributes\":{\"name\":\"post_str_b3\",\"tags\":[[[\"post_str_b3\",null]],[]],\"factors\":[\"19\",\"17\",\"20\",\"23\",\"13\",\"16\",\"15\",\"21\",\"24\",\"12\",\"22\",\"11\",\"18\",\"10\",\"28\",\"25\",\"27\",\"14\",\"26\",\"08\",\"09\",\"29\",\"30\",\"07\",\"06\",\"31\",\"05\",\"32\",\"04\"]}},\"y_range\":{\"type\":\"object\",\"name\":\"Range1d\",\"id\":\"3e45e228-1641-49a7-b20e-785ab08e33de\",\"attributes\":{\"name\":\"percent\",\"tags\":[[[\"percent\",null]],{\"type\":\"map\",\"entries\":[[\"invert_yaxis\",false],[\"autorange\",false]]}],\"end\":8.036649214659686,\"reset_start\":0.0,\"reset_end\":8.036649214659686}},\"x_scale\":{\"type\":\"object\",\"name\":\"CategoricalScale\",\"id\":\"f62fd554-b02e-4b59-9239-bd0951f8378e\"},\"y_scale\":{\"type\":\"object\",\"name\":\"LinearScale\",\"id\":\"fc4b0044-795e-491c-ad61-eee0456705c3\"},\"title\":{\"type\":\"object\",\"name\":\"Title\",\"id\":\"d4e3333a-36c6-4feb-8b36-7245ff62f0d6\",\"attributes\":{\"text_color\":\"black\",\"text_font_size\":\"12pt\"}},\"renderers\":[{\"type\":\"object\",\"name\":\"GlyphRenderer\",\"id\":\"75ab4d22-97a3-4e22-b89d-3d74ff94c074\",\"attributes\":{\"data_source\":{\"type\":\"object\",\"name\":\"ColumnDataSource\",\"id\":\"6555340e-e64f-4b01-8980-9ee167d62781\",\"attributes\":{\"selected\":{\"type\":\"object\",\"name\":\"Selection\",\"id\":\"b295ff01-3045-4c57-9bec-c8c210a3e50d\",\"attributes\":{\"indices\":[],\"line_indices\":[]}},\"selection_policy\":{\"type\":\"object\",\"name\":\"UnionRenderers\",\"id\":\"b7d38fa9-fece-4f41-8eb8-6bbc14cafea4\"},\"data\":{\"type\":\"map\",\"entries\":[[\"post_str_b3\",[\"19\",\"17\",\"20\",\"23\",\"13\",\"16\",\"15\",\"21\",\"24\",\"12\",\"22\",\"11\",\"18\",\"10\",\"28\",\"25\",\"27\",\"14\",\"26\",\"08\",\"09\",\"29\",\"30\",\"07\",\"06\",\"31\",\"05\",\"32\",\"04\"]],[\"percent\",{\"type\":\"ndarray\",\"array\":{\"type\":\"bytes\",\"data\":\"mvJ1WMJRHUDkKiAYki0aQGtQPO1xFRhAMGPK12EJF0DzdVjCUf0VQPN1WMJR/RVAept0lzHlE0B6m3SXMeUTQHqbdJcx5RNAept0lzHlE0DF0x5XAcEQQBHNWYPiaQ9AmvJ1WMJRDUAgGJItojkLQKk9rgKCIQlAqT2uAoIhCUAwY8rXYQkHQDBjytdhCQdAtojmrEHxBEA+rgKCIdkCQMXTHlcBwQBAqT2uAoIh+T+pPa4CgiH5P7aI5qxB8fQ/tojmrEHx9D+2iOasQfH0P8XTHlcBwfA/qT2uAoIh6T/F0x5XAcHQPw==\"},\"shape\":[29],\"dtype\":\"float64\",\"order\":\"little\"}]]}}},\"view\":{\"type\":\"object\",\"name\":\"CDSView\",\"id\":\"89fb5365-d042-4c64-ba4f-c9819f08966d\",\"attributes\":{\"filter\":{\"type\":\"object\",\"name\":\"AllIndices\",\"id\":\"02c02648-bd32-4d2b-89f2-a26f012e8362\"}}},\"glyph\":{\"type\":\"object\",\"name\":\"VBar\",\"id\":\"aea0985c-97d7-450b-994e-a9c86e249939\",\"attributes\":{\"tags\":[\"apply_ranges\"],\"x\":{\"type\":\"field\",\"field\":\"post_str_b3\"},\"width\":{\"type\":\"value\",\"value\":0.8},\"top\":{\"type\":\"field\",\"field\":\"percent\"},\"fill_color\":{\"type\":\"value\",\"value\":\"#30a2da\"},\"hatch_color\":{\"type\":\"value\",\"value\":\"#30a2da\"}}},\"selection_glyph\":{\"type\":\"object\",\"name\":\"VBar\",\"id\":\"035caa3b-8354-40f2-976d-4f6d77ec9459\",\"attributes\":{\"tags\":[\"apply_ranges\"],\"x\":{\"type\":\"field\",\"field\":\"post_str_b3\"},\"width\":{\"type\":\"value\",\"value\":0.8},\"bottom\":{\"type\":\"value\",\"value\":0},\"top\":{\"type\":\"field\",\"field\":\"percent\"},\"line_color\":{\"type\":\"value\",\"value\":\"black\"},\"line_alpha\":{\"type\":\"value\",\"value\":1.0},\"line_width\":{\"type\":\"value\",\"value\":1},\"line_join\":{\"type\":\"value\",\"value\":\"bevel\"},\"line_cap\":{\"type\":\"value\",\"value\":\"butt\"},\"line_dash\":{\"type\":\"value\",\"value\":[]},\"line_dash_offset\":{\"type\":\"value\",\"value\":0},\"fill_color\":{\"type\":\"value\",\"value\":\"#30a2da\"},\"fill_alpha\":{\"type\":\"value\",\"value\":1.0},\"hatch_color\":{\"type\":\"value\",\"value\":\"#30a2da\"},\"hatch_alpha\":{\"type\":\"value\",\"value\":1.0},\"hatch_scale\":{\"type\":\"value\",\"value\":12.0},\"hatch_pattern\":{\"type\":\"value\",\"value\":null},\"hatch_weight\":{\"type\":\"value\",\"value\":1.0}}},\"nonselection_glyph\":{\"type\":\"object\",\"name\":\"VBar\",\"id\":\"3dc6b577-9d76-40cc-9207-fb400326d17c\",\"attributes\":{\"tags\":[\"apply_ranges\"],\"x\":{\"type\":\"field\",\"field\":\"post_str_b3\"},\"width\":{\"type\":\"value\",\"value\":0.8},\"top\":{\"type\":\"field\",\"field\":\"percent\"},\"line_alpha\":{\"type\":\"value\",\"value\":0.1},\"fill_color\":{\"type\":\"value\",\"value\":\"#30a2da\"},\"fill_alpha\":{\"type\":\"value\",\"value\":0.1},\"hatch_color\":{\"type\":\"value\",\"value\":\"#30a2da\"},\"hatch_alpha\":{\"type\":\"value\",\"value\":0.1}}},\"muted_glyph\":{\"type\":\"object\",\"name\":\"VBar\",\"id\":\"182703e0-c115-48bf-8d85-c2fea488c56b\",\"attributes\":{\"tags\":[\"apply_ranges\"],\"x\":{\"type\":\"field\",\"field\":\"post_str_b3\"},\"width\":{\"type\":\"value\",\"value\":0.8},\"top\":{\"type\":\"field\",\"field\":\"percent\"},\"line_alpha\":{\"type\":\"value\",\"value\":0.2},\"fill_color\":{\"type\":\"value\",\"value\":\"#30a2da\"},\"fill_alpha\":{\"type\":\"value\",\"value\":0.2},\"hatch_color\":{\"type\":\"value\",\"value\":\"#30a2da\"},\"hatch_alpha\":{\"type\":\"value\",\"value\":0.2}}}}},{\"type\":\"object\",\"name\":\"Span\",\"id\":\"b31acb9f-bb6c-4614-9a35-5e56cc94eb49\",\"attributes\":{\"level\":\"glyph\",\"location\":3.448275862068966,\"line_color\":\"red\",\"line_width\":3}},{\"type\":\"object\",\"name\":\"Span\",\"id\":\"948ec77f-f888-4abc-9b13-12fe271ac94a\",\"attributes\":{\"level\":\"glyph\",\"location\":5.172413793103448,\"line_color\":\"blue\",\"line_width\":3}},{\"type\":\"object\",\"name\":\"Span\",\"id\":\"e41dd6fd-6719-42b1-94be-8518051ef1f2\",\"attributes\":{\"level\":\"glyph\",\"location\":1.724137931034483,\"line_color\":\"blue\",\"line_width\":3}}],\"toolbar\":{\"type\":\"object\",\"name\":\"Toolbar\",\"id\":\"c25b672f-96e4-4b25-ad5b-e5303a87813d\",\"attributes\":{\"tools\":[{\"type\":\"object\",\"name\":\"WheelZoomTool\",\"id\":\"72e2fd16-7281-482d-af31-c8b6cf55825e\",\"attributes\":{\"tags\":[\"hv_created\"],\"renderers\":\"auto\",\"zoom_together\":\"none\"}},{\"type\":\"object\",\"name\":\"HoverTool\",\"id\":\"e91bac31-f0ed-4954-bb21-b436e36156cb\",\"attributes\":{\"tags\":[\"hv_created\"],\"renderers\":[{\"id\":\"75ab4d22-97a3-4e22-b89d-3d74ff94c074\"}],\"tooltips\":[[\"post_str_b3\",\"@{post_str_b3}\"],[\"percent\",\"@{percent}\"]]}},{\"type\":\"object\",\"name\":\"SaveTool\",\"id\":\"b84ae4cb-f86b-4d4f-8fba-089e24f64382\"},{\"type\":\"object\",\"name\":\"PanTool\",\"id\":\"35bab7f0-4efc-4372-a661-a68f9a80b42c\"},{\"type\":\"object\",\"name\":\"BoxZoomTool\",\"id\":\"a3b332cd-9f6d-43f0-a89f-0c205bcb539f\",\"attributes\":{\"dimensions\":\"both\",\"overlay\":{\"type\":\"object\",\"name\":\"BoxAnnotation\",\"id\":\"a7bb2980-1b43-4d47-9d4e-1f7788b1d0c3\",\"attributes\":{\"syncable\":false,\"line_color\":\"black\",\"line_alpha\":1.0,\"line_width\":2,\"line_dash\":[4,4],\"fill_color\":\"lightgrey\",\"fill_alpha\":0.5,\"level\":\"overlay\",\"visible\":false,\"left\":{\"type\":\"number\",\"value\":\"nan\"},\"right\":{\"type\":\"number\",\"value\":\"nan\"},\"top\":{\"type\":\"number\",\"value\":\"nan\"},\"bottom\":{\"type\":\"number\",\"value\":\"nan\"},\"left_units\":\"canvas\",\"right_units\":\"canvas\",\"top_units\":\"canvas\",\"bottom_units\":\"canvas\",\"handles\":{\"type\":\"object\",\"name\":\"BoxInteractionHandles\",\"id\":\"bd696f7e-f939-427d-afb6-8736c6556366\",\"attributes\":{\"all\":{\"type\":\"object\",\"name\":\"AreaVisuals\",\"id\":\"c9acbb8e-e28b-4f00-88d9-11c1cdcc068e\",\"attributes\":{\"fill_color\":\"white\",\"hover_fill_color\":\"lightgray\"}}}}}}}},{\"type\":\"object\",\"name\":\"ResetTool\",\"id\":\"5dd48178-f9ac-43f3-b129-f38a4d46dad2\"}],\"active_drag\":{\"id\":\"35bab7f0-4efc-4372-a661-a68f9a80b42c\"}}},\"left\":[{\"type\":\"object\",\"name\":\"LinearAxis\",\"id\":\"79bad30b-c2d2-446a-94d5-cc40e926fee6\",\"attributes\":{\"ticker\":{\"type\":\"object\",\"name\":\"BasicTicker\",\"id\":\"73c6f731-f99b-4479-85be-f9a4f59b0d45\",\"attributes\":{\"mantissas\":[1,2,5]}},\"formatter\":{\"type\":\"object\",\"name\":\"BasicTickFormatter\",\"id\":\"a5966f2f-e160-4047-ba46-df34984f4faf\"},\"axis_label\":\"percent\",\"major_label_policy\":{\"type\":\"object\",\"name\":\"AllLabels\",\"id\":\"74b0d3f3-5d0e-435c-9230-bca6bc1ab60a\"}}}],\"below\":[{\"type\":\"object\",\"name\":\"CategoricalAxis\",\"id\":\"cdef2bdf-0210-49d9-8922-6c539e4f72a8\",\"attributes\":{\"ticker\":{\"type\":\"object\",\"name\":\"CategoricalTicker\",\"id\":\"c0f98953-2053-4a88-b6e8-b4d0051aa38c\"},\"formatter\":{\"type\":\"object\",\"name\":\"CategoricalTickFormatter\",\"id\":\"ce85f784-2f05-44cd-9793-d1392c0ed7c2\"},\"axis_label\":\"post_str_b3\",\"major_label_policy\":{\"type\":\"object\",\"name\":\"AllLabels\",\"id\":\"7b20ee2d-5bc0-4229-9425-b644a367a729\"}}}],\"center\":[{\"type\":\"object\",\"name\":\"Grid\",\"id\":\"40199e3e-d06f-44fd-a1f1-07484c2c8170\",\"attributes\":{\"axis\":{\"id\":\"cdef2bdf-0210-49d9-8922-6c539e4f72a8\"},\"grid_line_color\":null}},{\"type\":\"object\",\"name\":\"Grid\",\"id\":\"1d9783a4-3f48-49aa-be9d-b25ba647d134\",\"attributes\":{\"dimension\":1,\"axis\":{\"id\":\"79bad30b-c2d2-446a-94d5-cc40e926fee6\"},\"grid_line_color\":null}}],\"min_border_top\":10,\"min_border_bottom\":10,\"min_border_left\":10,\"min_border_right\":10,\"output_backend\":\"webgl\"}},{\"type\":\"object\",\"name\":\"Spacer\",\"id\":\"034d831f-09e5-408e-8a2c-81f9d7604d06\",\"attributes\":{\"name\":\"HSpacer00433\",\"stylesheets\":[\"\\n:host(.pn-loading):before, .pn-loading:before {\\n  background-color: #c3c3c3;\\n  mask-size: auto calc(min(50%, 400px));\\n  -webkit-mask-size: auto calc(min(50%, 400px));\\n}\",{\"id\":\"3735a111-8e0a-4a6d-adb6-819d58f22f3f\"},{\"id\":\"701d203a-84f8-433a-b238-e451900a289b\"},{\"id\":\"460dc520-a08d-4bda-ba31-06131184dfac\"}],\"margin\":0,\"sizing_mode\":\"stretch_width\",\"align\":\"start\"}}]}}],\"defs\":[{\"type\":\"model\",\"name\":\"ReactiveHTML1\"},{\"type\":\"model\",\"name\":\"FlexBox1\",\"properties\":[{\"name\":\"align_content\",\"kind\":\"Any\",\"default\":\"flex-start\"},{\"name\":\"align_items\",\"kind\":\"Any\",\"default\":\"flex-start\"},{\"name\":\"flex_direction\",\"kind\":\"Any\",\"default\":\"row\"},{\"name\":\"flex_wrap\",\"kind\":\"Any\",\"default\":\"wrap\"},{\"name\":\"gap\",\"kind\":\"Any\",\"default\":\"\"},{\"name\":\"justify_content\",\"kind\":\"Any\",\"default\":\"flex-start\"}]},{\"type\":\"model\",\"name\":\"FloatPanel1\",\"properties\":[{\"name\":\"config\",\"kind\":\"Any\",\"default\":{\"type\":\"map\"}},{\"name\":\"contained\",\"kind\":\"Any\",\"default\":true},{\"name\":\"position\",\"kind\":\"Any\",\"default\":\"right-top\"},{\"name\":\"offsetx\",\"kind\":\"Any\",\"default\":null},{\"name\":\"offsety\",\"kind\":\"Any\",\"default\":null},{\"name\":\"theme\",\"kind\":\"Any\",\"default\":\"primary\"},{\"name\":\"status\",\"kind\":\"Any\",\"default\":\"normalized\"}]},{\"type\":\"model\",\"name\":\"GridStack1\",\"properties\":[{\"name\":\"ncols\",\"kind\":\"Any\",\"default\":null},{\"name\":\"nrows\",\"kind\":\"Any\",\"default\":null},{\"name\":\"allow_resize\",\"kind\":\"Any\",\"default\":true},{\"name\":\"allow_drag\",\"kind\":\"Any\",\"default\":true},{\"name\":\"state\",\"kind\":\"Any\",\"default\":[]}]},{\"type\":\"model\",\"name\":\"drag1\",\"properties\":[{\"name\":\"slider_width\",\"kind\":\"Any\",\"default\":5},{\"name\":\"slider_color\",\"kind\":\"Any\",\"default\":\"black\"},{\"name\":\"value\",\"kind\":\"Any\",\"default\":50}]},{\"type\":\"model\",\"name\":\"click1\",\"properties\":[{\"name\":\"terminal_output\",\"kind\":\"Any\",\"default\":\"\"},{\"name\":\"debug_name\",\"kind\":\"Any\",\"default\":\"\"},{\"name\":\"clears\",\"kind\":\"Any\",\"default\":0}]},{\"type\":\"model\",\"name\":\"FastWrapper1\",\"properties\":[{\"name\":\"object\",\"kind\":\"Any\",\"default\":null},{\"name\":\"style\",\"kind\":\"Any\",\"default\":null}]},{\"type\":\"model\",\"name\":\"NotificationArea1\",\"properties\":[{\"name\":\"js_events\",\"kind\":\"Any\",\"default\":{\"type\":\"map\"}},{\"name\":\"max_notifications\",\"kind\":\"Any\",\"default\":5},{\"name\":\"notifications\",\"kind\":\"Any\",\"default\":[]},{\"name\":\"position\",\"kind\":\"Any\",\"default\":\"bottom-right\"},{\"name\":\"_clear\",\"kind\":\"Any\",\"default\":0},{\"name\":\"types\",\"kind\":\"Any\",\"default\":[{\"type\":\"map\",\"entries\":[[\"type\",\"warning\"],[\"background\",\"#ffc107\"],[\"icon\",{\"type\":\"map\",\"entries\":[[\"className\",\"fas fa-exclamation-triangle\"],[\"tagName\",\"i\"],[\"color\",\"white\"]]}]]},{\"type\":\"map\",\"entries\":[[\"type\",\"info\"],[\"background\",\"#007bff\"],[\"icon\",{\"type\":\"map\",\"entries\":[[\"className\",\"fas fa-info-circle\"],[\"tagName\",\"i\"],[\"color\",\"white\"]]}]]}]}]},{\"type\":\"model\",\"name\":\"Notification\",\"properties\":[{\"name\":\"background\",\"kind\":\"Any\",\"default\":null},{\"name\":\"duration\",\"kind\":\"Any\",\"default\":3000},{\"name\":\"icon\",\"kind\":\"Any\",\"default\":null},{\"name\":\"message\",\"kind\":\"Any\",\"default\":\"\"},{\"name\":\"notification_type\",\"kind\":\"Any\",\"default\":null},{\"name\":\"_rendered\",\"kind\":\"Any\",\"default\":false},{\"name\":\"_destroyed\",\"kind\":\"Any\",\"default\":false}]},{\"type\":\"model\",\"name\":\"TemplateActions1\",\"properties\":[{\"name\":\"open_modal\",\"kind\":\"Any\",\"default\":0},{\"name\":\"close_modal\",\"kind\":\"Any\",\"default\":0}]},{\"type\":\"model\",\"name\":\"BootstrapTemplateActions1\",\"properties\":[{\"name\":\"open_modal\",\"kind\":\"Any\",\"default\":0},{\"name\":\"close_modal\",\"kind\":\"Any\",\"default\":0}]},{\"type\":\"model\",\"name\":\"TemplateEditor1\",\"properties\":[{\"name\":\"layout\",\"kind\":\"Any\",\"default\":[]}]},{\"type\":\"model\",\"name\":\"MaterialTemplateActions1\",\"properties\":[{\"name\":\"open_modal\",\"kind\":\"Any\",\"default\":0},{\"name\":\"close_modal\",\"kind\":\"Any\",\"default\":0}]},{\"type\":\"model\",\"name\":\"ReactiveESM1\",\"properties\":[{\"name\":\"esm_constants\",\"kind\":\"Any\",\"default\":{\"type\":\"map\"}}]},{\"type\":\"model\",\"name\":\"JSComponent1\",\"properties\":[{\"name\":\"esm_constants\",\"kind\":\"Any\",\"default\":{\"type\":\"map\"}}]},{\"type\":\"model\",\"name\":\"ReactComponent1\",\"properties\":[{\"name\":\"esm_constants\",\"kind\":\"Any\",\"default\":{\"type\":\"map\"}}]},{\"type\":\"model\",\"name\":\"AnyWidgetComponent1\",\"properties\":[{\"name\":\"esm_constants\",\"kind\":\"Any\",\"default\":{\"type\":\"map\"}}]},{\"type\":\"model\",\"name\":\"request_value1\",\"properties\":[{\"name\":\"fill\",\"kind\":\"Any\",\"default\":\"none\"},{\"name\":\"_synced\",\"kind\":\"Any\",\"default\":null},{\"name\":\"_request_sync\",\"kind\":\"Any\",\"default\":0}]}]}};\n",
       "  var render_items = [{\"docid\":\"e77eb5a4-c7b2-40b3-a53e-6c8279f8961f\",\"roots\":{\"73a311ae-9c1c-4c16-80fb-34c3b2b4de44\":\"a262b5ea-560c-4db1-ba04-aed702781bc9\"},\"root_ids\":[\"73a311ae-9c1c-4c16-80fb-34c3b2b4de44\"]}];\n",
       "  var docs = Object.values(docs_json)\n",
       "  if (!docs) {\n",
       "    return\n",
       "  }\n",
       "  const py_version = docs[0].version.replace('rc', '-rc.').replace('.dev', '-dev.')\n",
       "  async function embed_document(root) {\n",
       "    var Bokeh = get_bokeh(root)\n",
       "    await Bokeh.embed.embed_items_notebook(docs_json, render_items);\n",
       "    for (const render_item of render_items) {\n",
       "      for (const root_id of render_item.root_ids) {\n",
       "\tconst id_el = document.getElementById(root_id)\n",
       "\tif (id_el.children.length && id_el.children[0].hasAttribute('data-root-id')) {\n",
       "\t  const root_el = id_el.children[0]\n",
       "\t  root_el.id = root_el.id + '-rendered'\n",
       "\t  for (const child of root_el.children) {\n",
       "            // Ensure JupyterLab does not capture keyboard shortcuts\n",
       "            // see: https://jupyterlab.readthedocs.io/en/4.1.x/extension/notebook.html#keyboard-interaction-model\n",
       "\t    child.setAttribute('data-lm-suppress-shortcuts', 'true')\n",
       "\t  }\n",
       "\t}\n",
       "      }\n",
       "    }\n",
       "  }\n",
       "  function get_bokeh(root) {\n",
       "    if (root.Bokeh === undefined) {\n",
       "      return null\n",
       "    } else if (root.Bokeh.version !== py_version) {\n",
       "      if (root.Bokeh.versions === undefined || !root.Bokeh.versions.has(py_version)) {\n",
       "\treturn null\n",
       "      }\n",
       "      return root.Bokeh.versions.get(py_version);\n",
       "    } else if (root.Bokeh.version === py_version) {\n",
       "      return root.Bokeh\n",
       "    }\n",
       "    return null\n",
       "  }\n",
       "  function is_loaded(root) {\n",
       "    var Bokeh = get_bokeh(root)\n",
       "    return (Bokeh != null && Bokeh.Panel !== undefined)\n",
       "  }\n",
       "  if (is_loaded(root)) {\n",
       "    embed_document(root);\n",
       "  } else {\n",
       "    var attempts = 0;\n",
       "    var timer = setInterval(function(root) {\n",
       "      if (is_loaded(root)) {\n",
       "        clearInterval(timer);\n",
       "        embed_document(root);\n",
       "      } else if (document.readyState == \"complete\") {\n",
       "        attempts++;\n",
       "        if (attempts > 200) {\n",
       "          clearInterval(timer);\n",
       "\t  var Bokeh = get_bokeh(root)\n",
       "\t  if (Bokeh == null || Bokeh.Panel == null) {\n",
       "            console.warn(\"Panel: ERROR: Unable to run Panel code because Bokeh or Panel library is missing\");\n",
       "\t  } else {\n",
       "\t    console.warn(\"Panel: WARNING: Attempting to render but not all required libraries could be resolved.\")\n",
       "\t    embed_document(root)\n",
       "\t  }\n",
       "        }\n",
       "      }\n",
       "    }, 25, root)\n",
       "  }\n",
       "})(window);</script>"
      ],
      "text/plain": [
       ":Overlay\n",
       "   .Bars.I    :Bars   [post_str_b3]   (percent)\n",
       "   .HLine.I   :HLine   [x,y]\n",
       "   .HLine.II  :HLine   [x,y]\n",
       "   .HLine.III :HLine   [x,y]"
      ]
     },
     "metadata": {
      "application/vnd.holoviews_exec.v0+json": {
       "id": "73a311ae-9c1c-4c16-80fb-34c3b2b4de44"
      }
     },
     "output_type": "display_data"
    },
    {
     "name": "stdout",
     "output_type": "stream",
     "text": [
      "df_10_last FOR str_b3 = 23\n",
      "Last 3 results last_results=['28', '16', '15']\n"
     ]
    },
    {
     "data": {
      "text/html": [
       "<div><style>\n",
       ".dataframe > thead > tr,\n",
       ".dataframe > tbody > tr {\n",
       "  text-align: right;\n",
       "  white-space: pre-wrap;\n",
       "}\n",
       "</style>\n",
       "<small>shape: (10, 24)</small><table border=\"1\" class=\"dataframe\"><thead><tr><th>fecha</th><th>sorteo</th><th>bolillas</th><th>id</th><th>combo</th><th>b1</th><th>b2</th><th>b3</th><th>b4</th><th>b5</th><th>str_b1</th><th>str_b2</th><th>str_b3</th><th>str_b4</th><th>str_b5</th><th>post_str_b1</th><th>post_str_b2</th><th>post_str_b3</th><th>post_str_b4</th><th>post_str_blast</th><th>is_rare_combination</th><th>reason</th><th>jumps_map</th><th>unijump</th></tr><tr><td>str</td><td>str</td><td>str</td><td>str</td><td>array[u8, 5]</td><td>u8</td><td>u8</td><td>u8</td><td>u8</td><td>u8</td><td>str</td><td>str</td><td>str</td><td>str</td><td>str</td><td>str</td><td>str</td><td>str</td><td>str</td><td>str</td><td>bool</td><td>u8</td><td>str</td><td>i64</td></tr></thead><tbody><tr><td>&quot;18/04/2025&quot;</td><td>&quot;4190&quot;</td><td>&quot;21 23 31 05 25&quot;</td><td>&quot;0521232531&quot;</td><td>[5, 21, … 31]</td><td>5</td><td>21</td><td>23</td><td>25</td><td>31</td><td>&quot;05&quot;</td><td>&quot;21&quot;</td><td>&quot;23&quot;</td><td>&quot;25&quot;</td><td>&quot;31&quot;</td><td>&quot;06&quot;</td><td>&quot;10&quot;</td><td>&quot;15&quot;</td><td>&quot;20&quot;</td><td>&quot;21&quot;</td><td>true</td><td>10</td><td>&quot;16_02_02_06&quot;</td><td>-10</td></tr><tr><td>&quot;15/04/2025&quot;</td><td>&quot;4187&quot;</td><td>&quot;29 15 23 33 10&quot;</td><td>&quot;1015232933&quot;</td><td>[10, 15, … 33]</td><td>10</td><td>15</td><td>23</td><td>29</td><td>33</td><td>&quot;10&quot;</td><td>&quot;15&quot;</td><td>&quot;23&quot;</td><td>&quot;29&quot;</td><td>&quot;33&quot;</td><td>&quot;13&quot;</td><td>&quot;21&quot;</td><td>&quot;28&quot;</td><td>&quot;29&quot;</td><td>&quot;34&quot;</td><td>false</td><td>0</td><td>&quot;05_08_06_04&quot;</td><td>5</td></tr><tr><td>&quot;07/02/2025&quot;</td><td>&quot;4120&quot;</td><td>&quot;08 35 23 28 17&quot;</td><td>&quot;0817232835&quot;</td><td>[8, 17, … 35]</td><td>8</td><td>17</td><td>23</td><td>28</td><td>35</td><td>&quot;08&quot;</td><td>&quot;17&quot;</td><td>&quot;23&quot;</td><td>&quot;28&quot;</td><td>&quot;35&quot;</td><td>&quot;01&quot;</td><td>&quot;02&quot;</td><td>&quot;16&quot;</td><td>&quot;19&quot;</td><td>&quot;31&quot;</td><td>false</td><td>0</td><td>&quot;09_06_05_07&quot;</td><td>1</td></tr><tr><td>&quot;04/02/2025&quot;</td><td>&quot;4117&quot;</td><td>&quot;34 35 06 23 13&quot;</td><td>&quot;0613233435&quot;</td><td>[6, 13, … 35]</td><td>6</td><td>13</td><td>23</td><td>34</td><td>35</td><td>&quot;06&quot;</td><td>&quot;13&quot;</td><td>&quot;23&quot;</td><td>&quot;34&quot;</td><td>&quot;35&quot;</td><td>&quot;14&quot;</td><td>&quot;19&quot;</td><td>&quot;28&quot;</td><td>&quot;31&quot;</td><td>&quot;34&quot;</td><td>false</td><td>0</td><td>&quot;07_10_11_01&quot;</td><td>-9</td></tr><tr><td>&quot;30/01/2025&quot;</td><td>&quot;4112&quot;</td><td>&quot;23 06 22 33 34&quot;</td><td>&quot;0622233334&quot;</td><td>[6, 22, … 34]</td><td>6</td><td>22</td><td>23</td><td>33</td><td>34</td><td>&quot;06&quot;</td><td>&quot;22&quot;</td><td>&quot;23&quot;</td><td>&quot;33&quot;</td><td>&quot;34&quot;</td><td>&quot;04&quot;</td><td>&quot;05&quot;</td><td>&quot;19&quot;</td><td>&quot;28&quot;</td><td>&quot;32&quot;</td><td>true</td><td>16</td><td>&quot;16_01_10_01&quot;</td><td>-42</td></tr><tr><td>&quot;15/12/2024&quot;</td><td>&quot;4066&quot;</td><td>&quot;24 31 08 23 19&quot;</td><td>&quot;0819232431&quot;</td><td>[8, 19, … 31]</td><td>8</td><td>19</td><td>23</td><td>24</td><td>31</td><td>&quot;08&quot;</td><td>&quot;19&quot;</td><td>&quot;23&quot;</td><td>&quot;24&quot;</td><td>&quot;31&quot;</td><td>&quot;05&quot;</td><td>&quot;07&quot;</td><td>&quot;11&quot;</td><td>&quot;14&quot;</td><td>&quot;29&quot;</td><td>false</td><td>0</td><td>&quot;11_04_01_07&quot;</td><td>5</td></tr><tr><td>&quot;09/11/2024&quot;</td><td>&quot;4030&quot;</td><td>&quot;26 23 30 12 17&quot;</td><td>&quot;1217232630&quot;</td><td>[12, 17, … 30]</td><td>12</td><td>17</td><td>23</td><td>26</td><td>30</td><td>&quot;12&quot;</td><td>&quot;17&quot;</td><td>&quot;23&quot;</td><td>&quot;26&quot;</td><td>&quot;30&quot;</td><td>&quot;02&quot;</td><td>&quot;08&quot;</td><td>&quot;09&quot;</td><td>&quot;27&quot;</td><td>&quot;29&quot;</td><td>false</td><td>0</td><td>&quot;05_06_03_04&quot;</td><td>8</td></tr><tr><td>&quot;02/11/2024&quot;</td><td>&quot;4023&quot;</td><td>&quot;08 13 23 34 29&quot;</td><td>&quot;0813232934&quot;</td><td>[8, 13, … 34]</td><td>8</td><td>13</td><td>23</td><td>29</td><td>34</td><td>&quot;08&quot;</td><td>&quot;13&quot;</td><td>&quot;23&quot;</td><td>&quot;29&quot;</td><td>&quot;34&quot;</td><td>&quot;09&quot;</td><td>&quot;13&quot;</td><td>&quot;14&quot;</td><td>&quot;22&quot;</td><td>&quot;34&quot;</td><td>false</td><td>0</td><td>&quot;05_10_06_05&quot;</td><td>12</td></tr><tr><td>&quot;31/10/2024&quot;</td><td>&quot;4021&quot;</td><td>&quot;24 12 03 23 35&quot;</td><td>&quot;0312232435&quot;</td><td>[3, 12, … 35]</td><td>3</td><td>12</td><td>23</td><td>24</td><td>35</td><td>&quot;03&quot;</td><td>&quot;12&quot;</td><td>&quot;23&quot;</td><td>&quot;24&quot;</td><td>&quot;35&quot;</td><td>&quot;03&quot;</td><td>&quot;07&quot;</td><td>&quot;10&quot;</td><td>&quot;24&quot;</td><td>&quot;28&quot;</td><td>false</td><td>0</td><td>&quot;09_11_01_11&quot;</td><td>32</td></tr><tr><td>&quot;21/10/2024&quot;</td><td>&quot;4011&quot;</td><td>&quot;24 19 34 23 04&quot;</td><td>&quot;0419232434&quot;</td><td>[4, 19, … 34]</td><td>4</td><td>19</td><td>23</td><td>24</td><td>34</td><td>&quot;04&quot;</td><td>&quot;19&quot;</td><td>&quot;23&quot;</td><td>&quot;24&quot;</td><td>&quot;34&quot;</td><td>&quot;04&quot;</td><td>&quot;11&quot;</td><td>&quot;24&quot;</td><td>&quot;28&quot;</td><td>&quot;33&quot;</td><td>false</td><td>0</td><td>&quot;15_04_01_10&quot;</td><td>4</td></tr></tbody></table></div>"
      ],
      "text/plain": [
       "shape: (10, 24)\n",
       "┌────────────┬────────┬─────────────┬────────────┬───┬─────────────┬────────┬────────────┬─────────┐\n",
       "│ fecha      ┆ sorteo ┆ bolillas    ┆ id         ┆ … ┆ is_rare_com ┆ reason ┆ jumps_map  ┆ unijump │\n",
       "│ ---        ┆ ---    ┆ ---         ┆ ---        ┆   ┆ bination    ┆ ---    ┆ ---        ┆ ---     │\n",
       "│ str        ┆ str    ┆ str         ┆ str        ┆   ┆ ---         ┆ u8     ┆ str        ┆ i64     │\n",
       "│            ┆        ┆             ┆            ┆   ┆ bool        ┆        ┆            ┆         │\n",
       "╞════════════╪════════╪═════════════╪════════════╪═══╪═════════════╪════════╪════════════╪═════════╡\n",
       "│ 18/04/2025 ┆ 4190   ┆ 21 23 31 05 ┆ 0521232531 ┆ … ┆ true        ┆ 10     ┆ 16_02_02_0 ┆ -10     │\n",
       "│            ┆        ┆ 25          ┆            ┆   ┆             ┆        ┆ 6          ┆         │\n",
       "│ 15/04/2025 ┆ 4187   ┆ 29 15 23 33 ┆ 1015232933 ┆ … ┆ false       ┆ 0      ┆ 05_08_06_0 ┆ 5       │\n",
       "│            ┆        ┆ 10          ┆            ┆   ┆             ┆        ┆ 4          ┆         │\n",
       "│ 07/02/2025 ┆ 4120   ┆ 08 35 23 28 ┆ 0817232835 ┆ … ┆ false       ┆ 0      ┆ 09_06_05_0 ┆ 1       │\n",
       "│            ┆        ┆ 17          ┆            ┆   ┆             ┆        ┆ 7          ┆         │\n",
       "│ 04/02/2025 ┆ 4117   ┆ 34 35 06 23 ┆ 0613233435 ┆ … ┆ false       ┆ 0      ┆ 07_10_11_0 ┆ -9      │\n",
       "│            ┆        ┆ 13          ┆            ┆   ┆             ┆        ┆ 1          ┆         │\n",
       "│ 30/01/2025 ┆ 4112   ┆ 23 06 22 33 ┆ 0622233334 ┆ … ┆ true        ┆ 16     ┆ 16_01_10_0 ┆ -42     │\n",
       "│            ┆        ┆ 34          ┆            ┆   ┆             ┆        ┆ 1          ┆         │\n",
       "│ 15/12/2024 ┆ 4066   ┆ 24 31 08 23 ┆ 0819232431 ┆ … ┆ false       ┆ 0      ┆ 11_04_01_0 ┆ 5       │\n",
       "│            ┆        ┆ 19          ┆            ┆   ┆             ┆        ┆ 7          ┆         │\n",
       "│ 09/11/2024 ┆ 4030   ┆ 26 23 30 12 ┆ 1217232630 ┆ … ┆ false       ┆ 0      ┆ 05_06_03_0 ┆ 8       │\n",
       "│            ┆        ┆ 17          ┆            ┆   ┆             ┆        ┆ 4          ┆         │\n",
       "│ 02/11/2024 ┆ 4023   ┆ 08 13 23 34 ┆ 0813232934 ┆ … ┆ false       ┆ 0      ┆ 05_10_06_0 ┆ 12      │\n",
       "│            ┆        ┆ 29          ┆            ┆   ┆             ┆        ┆ 5          ┆         │\n",
       "│ 31/10/2024 ┆ 4021   ┆ 24 12 03 23 ┆ 0312232435 ┆ … ┆ false       ┆ 0      ┆ 09_11_01_1 ┆ 32      │\n",
       "│            ┆        ┆ 35          ┆            ┆   ┆             ┆        ┆ 1          ┆         │\n",
       "│ 21/10/2024 ┆ 4011   ┆ 24 19 34 23 ┆ 0419232434 ┆ … ┆ false       ┆ 0      ┆ 15_04_01_1 ┆ 4       │\n",
       "│            ┆        ┆ 04          ┆            ┆   ┆             ┆        ┆ 0          ┆         │\n",
       "└────────────┴────────┴─────────────┴────────────┴───┴─────────────┴────────┴────────────┴─────────┘"
      ]
     },
     "metadata": {},
     "output_type": "display_data"
    },
    {
     "name": "stdout",
     "output_type": "stream",
     "text": [
      "df_jumps_map FOR str_b3 = 23\n"
     ]
    },
    {
     "data": {
      "text/html": [
       "<div><style>\n",
       ".dataframe > thead > tr,\n",
       ".dataframe > tbody > tr {\n",
       "  text-align: right;\n",
       "  white-space: pre-wrap;\n",
       "}\n",
       "</style>\n",
       "<small>shape: (379, 2)</small><table border=\"1\" class=\"dataframe\"><thead><tr><th>jumps_map</th><th>count</th></tr><tr><td>str</td><td>u32</td></tr></thead><tbody><tr><td>&quot;05_01_05_01&quot;</td><td>2</td></tr><tr><td>&quot;03_11_05_04&quot;</td><td>2</td></tr><tr><td>&quot;08_01_04_02&quot;</td><td>2</td></tr><tr><td>&quot;13_03_05_07&quot;</td><td>1</td></tr><tr><td>&quot;15_06_07_03&quot;</td><td>1</td></tr><tr><td>&hellip;</td><td>&hellip;</td></tr><tr><td>&quot;16_01_03_05&quot;</td><td>1</td></tr><tr><td>&quot;07_06_05_07&quot;</td><td>1</td></tr><tr><td>&quot;16_06_03_06&quot;</td><td>1</td></tr><tr><td>&quot;15_01_06_01&quot;</td><td>1</td></tr><tr><td>&quot;06_10_03_05&quot;</td><td>1</td></tr></tbody></table></div>"
      ],
      "text/plain": [
       "shape: (379, 2)\n",
       "┌─────────────┬───────┐\n",
       "│ jumps_map   ┆ count │\n",
       "│ ---         ┆ ---   │\n",
       "│ str         ┆ u32   │\n",
       "╞═════════════╪═══════╡\n",
       "│ 05_01_05_01 ┆ 2     │\n",
       "│ 03_11_05_04 ┆ 2     │\n",
       "│ 08_01_04_02 ┆ 2     │\n",
       "│ 13_03_05_07 ┆ 1     │\n",
       "│ 15_06_07_03 ┆ 1     │\n",
       "│ …           ┆ …     │\n",
       "│ 16_01_03_05 ┆ 1     │\n",
       "│ 07_06_05_07 ┆ 1     │\n",
       "│ 16_06_03_06 ┆ 1     │\n",
       "│ 15_01_06_01 ┆ 1     │\n",
       "│ 06_10_03_05 ┆ 1     │\n",
       "└─────────────┴───────┘"
      ]
     },
     "metadata": {},
     "output_type": "display_data"
    },
    {
     "name": "stdout",
     "output_type": "stream",
     "text": [
      "df_unijump FOR str_b3 = 23\n"
     ]
    },
    {
     "data": {
      "text/html": [
       "<div><style>\n",
       ".dataframe > thead > tr,\n",
       ".dataframe > tbody > tr {\n",
       "  text-align: right;\n",
       "  white-space: pre-wrap;\n",
       "}\n",
       "</style>\n",
       "<small>shape: (89, 2)</small><table border=\"1\" class=\"dataframe\"><thead><tr><th>unijump</th><th>count</th></tr><tr><td>i64</td><td>u32</td></tr></thead><tbody><tr><td>7</td><td>13</td></tr><tr><td>2</td><td>13</td></tr><tr><td>19</td><td>11</td></tr><tr><td>-1</td><td>9</td></tr><tr><td>1</td><td>9</td></tr><tr><td>&hellip;</td><td>&hellip;</td></tr><tr><td>-39</td><td>1</td></tr><tr><td>-22</td><td>1</td></tr><tr><td>51</td><td>1</td></tr><tr><td>54</td><td>1</td></tr><tr><td>-34</td><td>1</td></tr></tbody></table></div>"
      ],
      "text/plain": [
       "shape: (89, 2)\n",
       "┌─────────┬───────┐\n",
       "│ unijump ┆ count │\n",
       "│ ---     ┆ ---   │\n",
       "│ i64     ┆ u32   │\n",
       "╞═════════╪═══════╡\n",
       "│ 7       ┆ 13    │\n",
       "│ 2       ┆ 13    │\n",
       "│ 19      ┆ 11    │\n",
       "│ -1      ┆ 9     │\n",
       "│ 1       ┆ 9     │\n",
       "│ …       ┆ …     │\n",
       "│ -39     ┆ 1     │\n",
       "│ -22     ┆ 1     │\n",
       "│ 51      ┆ 1     │\n",
       "│ 54      ┆ 1     │\n",
       "│ -34     ┆ 1     │\n",
       "└─────────┴───────┘"
      ]
     },
     "metadata": {},
     "output_type": "display_data"
    }
   ],
   "source": [
    "possible_b3, exclude_jump_maps_b3, last_post_b3 = plot_post_col(col='str_b3', post_col='post_str_b3')"
   ]
  },
  {
   "cell_type": "code",
   "execution_count": 11,
   "metadata": {},
   "outputs": [
    {
     "name": "stdout",
     "output_type": "stream",
     "text": [
      "Setting test_value='26'\n",
      "df_viz FOR str_b4 = 26\n"
     ]
    },
    {
     "data": {
      "text/html": [
       "<div><style>\n",
       ".dataframe > thead > tr,\n",
       ".dataframe > tbody > tr {\n",
       "  text-align: right;\n",
       "  white-space: pre-wrap;\n",
       "}\n",
       "</style>\n",
       "<small>shape: (29, 3)</small><table border=\"1\" class=\"dataframe\"><thead><tr><th>post_str_b4</th><th>count</th><th>percent</th></tr><tr><td>str</td><td>u32</td><td>f64</td></tr></thead><tbody><tr><td>&quot;26&quot;</td><td>44</td><td>8.782435</td></tr><tr><td>&quot;24&quot;</td><td>35</td><td>6.986028</td></tr><tr><td>&quot;27&quot;</td><td>33</td><td>6.586826</td></tr><tr><td>&quot;25&quot;</td><td>32</td><td>6.387226</td></tr><tr><td>&quot;28&quot;</td><td>32</td><td>6.387226</td></tr><tr><td>&hellip;</td><td>&hellip;</td><td>&hellip;</td></tr><tr><td>&quot;11&quot;</td><td>2</td><td>0.399202</td></tr><tr><td>&quot;12&quot;</td><td>2</td><td>0.399202</td></tr><tr><td>&quot;09&quot;</td><td>1</td><td>0.199601</td></tr><tr><td>&quot;06&quot;</td><td>1</td><td>0.199601</td></tr><tr><td>&quot;08&quot;</td><td>1</td><td>0.199601</td></tr></tbody></table></div>"
      ],
      "text/plain": [
       "shape: (29, 3)\n",
       "┌─────────────┬───────┬──────────┐\n",
       "│ post_str_b4 ┆ count ┆ percent  │\n",
       "│ ---         ┆ ---   ┆ ---      │\n",
       "│ str         ┆ u32   ┆ f64      │\n",
       "╞═════════════╪═══════╪══════════╡\n",
       "│ 26          ┆ 44    ┆ 8.782435 │\n",
       "│ 24          ┆ 35    ┆ 6.986028 │\n",
       "│ 27          ┆ 33    ┆ 6.586826 │\n",
       "│ 25          ┆ 32    ┆ 6.387226 │\n",
       "│ 28          ┆ 32    ┆ 6.387226 │\n",
       "│ …           ┆ …     ┆ …        │\n",
       "│ 11          ┆ 2     ┆ 0.399202 │\n",
       "│ 12          ┆ 2     ┆ 0.399202 │\n",
       "│ 09          ┆ 1     ┆ 0.199601 │\n",
       "│ 06          ┆ 1     ┆ 0.199601 │\n",
       "│ 08          ┆ 1     ┆ 0.199601 │\n",
       "└─────────────┴───────┴──────────┘"
      ]
     },
     "metadata": {},
     "output_type": "display_data"
    },
    {
     "data": {},
     "metadata": {},
     "output_type": "display_data"
    },
    {
     "data": {
      "application/vnd.holoviews_exec.v0+json": "",
      "text/html": [
       "<div id='fa7a6500-2920-471c-bb5c-5542dec8d0a7'>\n",
       "  <div id=\"e5e99abb-8146-47c6-b033-3caf429a8238\" data-root-id=\"fa7a6500-2920-471c-bb5c-5542dec8d0a7\" style=\"display: contents;\"></div>\n",
       "</div>\n",
       "<script type=\"application/javascript\">(function(root) {\n",
       "  var docs_json = {\"4f382086-a464-455e-8dba-42695077ae17\":{\"version\":\"3.7.2\",\"title\":\"Bokeh Application\",\"roots\":[{\"type\":\"object\",\"name\":\"Row\",\"id\":\"fa7a6500-2920-471c-bb5c-5542dec8d0a7\",\"attributes\":{\"name\":\"Row00499\",\"tags\":[\"embedded\"],\"stylesheets\":[\"\\n:host(.pn-loading):before, .pn-loading:before {\\n  background-color: #c3c3c3;\\n  mask-size: auto calc(min(50%, 400px));\\n  -webkit-mask-size: auto calc(min(50%, 400px));\\n}\",{\"type\":\"object\",\"name\":\"ImportedStyleSheet\",\"id\":\"7e81ef0b-5ab7-493b-b8f3-97fdfada6946\",\"attributes\":{\"url\":\"https://cdn.holoviz.org/panel/1.6.2/dist/css/loading.css\"}},{\"type\":\"object\",\"name\":\"ImportedStyleSheet\",\"id\":\"9823d0db-780d-4bff-9993-b33bdd65b9ca\",\"attributes\":{\"url\":\"https://cdn.holoviz.org/panel/1.6.2/dist/css/listpanel.css\"}},{\"type\":\"object\",\"name\":\"ImportedStyleSheet\",\"id\":\"8d87a455-878c-42b6-923f-f390f50918f6\",\"attributes\":{\"url\":\"https://cdn.holoviz.org/panel/1.6.2/dist/bundled/theme/default.css\"}},{\"type\":\"object\",\"name\":\"ImportedStyleSheet\",\"id\":\"9830947e-86a3-479c-a3ad-a8a63b6cdea1\",\"attributes\":{\"url\":\"https://cdn.holoviz.org/panel/1.6.2/dist/bundled/theme/native.css\"}}],\"min_width\":700,\"margin\":0,\"sizing_mode\":\"stretch_width\",\"align\":\"start\",\"children\":[{\"type\":\"object\",\"name\":\"Spacer\",\"id\":\"0a1f8a05-1e89-42d4-8111-2ba51e86a951\",\"attributes\":{\"name\":\"HSpacer00503\",\"stylesheets\":[\"\\n:host(.pn-loading):before, .pn-loading:before {\\n  background-color: #c3c3c3;\\n  mask-size: auto calc(min(50%, 400px));\\n  -webkit-mask-size: auto calc(min(50%, 400px));\\n}\",{\"id\":\"7e81ef0b-5ab7-493b-b8f3-97fdfada6946\"},{\"id\":\"8d87a455-878c-42b6-923f-f390f50918f6\"},{\"id\":\"9830947e-86a3-479c-a3ad-a8a63b6cdea1\"}],\"margin\":0,\"sizing_mode\":\"stretch_width\",\"align\":\"start\"}},{\"type\":\"object\",\"name\":\"Figure\",\"id\":\"9184b3e6-4f1c-423f-80a4-4e6b94ed18a3\",\"attributes\":{\"width\":700,\"height\":300,\"margin\":[5,10],\"sizing_mode\":\"fixed\",\"align\":\"start\",\"x_range\":{\"type\":\"object\",\"name\":\"FactorRange\",\"id\":\"851c212e-0996-4e22-b29e-ed3b2d5eb790\",\"attributes\":{\"name\":\"post_str_b4\",\"tags\":[[[\"post_str_b4\",null]],[]],\"factors\":[\"26\",\"24\",\"27\",\"25\",\"28\",\"22\",\"23\",\"18\",\"30\",\"31\",\"21\",\"29\",\"20\",\"19\",\"32\",\"33\",\"34\",\"16\",\"17\",\"14\",\"15\",\"13\",\"10\",\"07\",\"11\",\"12\",\"09\",\"06\",\"08\"]}},\"y_range\":{\"type\":\"object\",\"name\":\"Range1d\",\"id\":\"fe462f8a-d24e-48a9-ae2f-fadc8c4a4eb1\",\"attributes\":{\"name\":\"percent\",\"tags\":[[[\"percent\",null]],{\"type\":\"map\",\"entries\":[[\"invert_yaxis\",false],[\"autorange\",false]]}],\"end\":9.64071856287425,\"reset_start\":0.0,\"reset_end\":9.64071856287425}},\"x_scale\":{\"type\":\"object\",\"name\":\"CategoricalScale\",\"id\":\"fbf871fb-17ea-4c86-863a-af767c672034\"},\"y_scale\":{\"type\":\"object\",\"name\":\"LinearScale\",\"id\":\"f39e2421-5c4b-4936-8d7e-e2b6c54db574\"},\"title\":{\"type\":\"object\",\"name\":\"Title\",\"id\":\"8582fcbd-8f0e-4f26-80d7-358cd4fb08cf\",\"attributes\":{\"text_color\":\"black\",\"text_font_size\":\"12pt\"}},\"renderers\":[{\"type\":\"object\",\"name\":\"GlyphRenderer\",\"id\":\"e0c3e17d-0223-4627-aff3-723c579222f1\",\"attributes\":{\"data_source\":{\"type\":\"object\",\"name\":\"ColumnDataSource\",\"id\":\"32c0555c-22a8-475d-bddb-144ae33f2d80\",\"attributes\":{\"selected\":{\"type\":\"object\",\"name\":\"Selection\",\"id\":\"3a6f63a2-1fef-45cc-960d-785978084e7c\",\"attributes\":{\"indices\":[],\"line_indices\":[]}},\"selection_policy\":{\"type\":\"object\",\"name\":\"UnionRenderers\",\"id\":\"c22c1ad3-9b8e-4899-9c88-e6662236ca04\"},\"data\":{\"type\":\"map\",\"entries\":[[\"post_str_b4\",[\"26\",\"24\",\"27\",\"25\",\"28\",\"22\",\"23\",\"18\",\"30\",\"31\",\"21\",\"29\",\"20\",\"19\",\"32\",\"33\",\"34\",\"16\",\"17\",\"14\",\"15\",\"13\",\"10\",\"07\",\"11\",\"12\",\"09\",\"06\",\"08\"]],[\"percent\",{\"type\":\"ndarray\",\"array\":{\"type\":\"bytes\",\"data\":\"P/RaVpuQIUDZmzNPsfEbQF5uiAHpWBpAodey2oSMGUCh17LahIwZQGoTMmZYJxdA8OWGGJCOFUAzT7HxK8IUQHa428rH9RNAuSEGpGMpE0C5IQakYykTQLkhBqRjKRNA/Iowff9cEkCWMgl2Fb4MQCeqB4288wdAJ6oHjbzzB0AnqgeNvPMHQD/0WlabkAFAio1fEabv/z+WMgl2Fb78P6HXstqEjPk/rXxcP/Ra9j+5IQakYynzP6HXstqEjNk/odey2oSM2T+h17LahIzZP6HXstqEjMk/odey2oSMyT+h17LahIzJPw==\"},\"shape\":[29],\"dtype\":\"float64\",\"order\":\"little\"}]]}}},\"view\":{\"type\":\"object\",\"name\":\"CDSView\",\"id\":\"b0b6aca0-29c0-4950-94dc-13f339eb1fb0\",\"attributes\":{\"filter\":{\"type\":\"object\",\"name\":\"AllIndices\",\"id\":\"38fc89bf-8e9d-455e-a127-9b94fc0b98aa\"}}},\"glyph\":{\"type\":\"object\",\"name\":\"VBar\",\"id\":\"58f4ac7b-70df-4797-a263-a0d39b160140\",\"attributes\":{\"tags\":[\"apply_ranges\"],\"x\":{\"type\":\"field\",\"field\":\"post_str_b4\"},\"width\":{\"type\":\"value\",\"value\":0.8},\"top\":{\"type\":\"field\",\"field\":\"percent\"},\"fill_color\":{\"type\":\"value\",\"value\":\"#30a2da\"},\"hatch_color\":{\"type\":\"value\",\"value\":\"#30a2da\"}}},\"selection_glyph\":{\"type\":\"object\",\"name\":\"VBar\",\"id\":\"a70a0c0a-e8e4-42c3-8a90-67745b2f891c\",\"attributes\":{\"tags\":[\"apply_ranges\"],\"x\":{\"type\":\"field\",\"field\":\"post_str_b4\"},\"width\":{\"type\":\"value\",\"value\":0.8},\"bottom\":{\"type\":\"value\",\"value\":0},\"top\":{\"type\":\"field\",\"field\":\"percent\"},\"line_color\":{\"type\":\"value\",\"value\":\"black\"},\"line_alpha\":{\"type\":\"value\",\"value\":1.0},\"line_width\":{\"type\":\"value\",\"value\":1},\"line_join\":{\"type\":\"value\",\"value\":\"bevel\"},\"line_cap\":{\"type\":\"value\",\"value\":\"butt\"},\"line_dash\":{\"type\":\"value\",\"value\":[]},\"line_dash_offset\":{\"type\":\"value\",\"value\":0},\"fill_color\":{\"type\":\"value\",\"value\":\"#30a2da\"},\"fill_alpha\":{\"type\":\"value\",\"value\":1.0},\"hatch_color\":{\"type\":\"value\",\"value\":\"#30a2da\"},\"hatch_alpha\":{\"type\":\"value\",\"value\":1.0},\"hatch_scale\":{\"type\":\"value\",\"value\":12.0},\"hatch_pattern\":{\"type\":\"value\",\"value\":null},\"hatch_weight\":{\"type\":\"value\",\"value\":1.0}}},\"nonselection_glyph\":{\"type\":\"object\",\"name\":\"VBar\",\"id\":\"0fd9c487-75dd-4783-9e33-340e335d5670\",\"attributes\":{\"tags\":[\"apply_ranges\"],\"x\":{\"type\":\"field\",\"field\":\"post_str_b4\"},\"width\":{\"type\":\"value\",\"value\":0.8},\"top\":{\"type\":\"field\",\"field\":\"percent\"},\"line_alpha\":{\"type\":\"value\",\"value\":0.1},\"fill_color\":{\"type\":\"value\",\"value\":\"#30a2da\"},\"fill_alpha\":{\"type\":\"value\",\"value\":0.1},\"hatch_color\":{\"type\":\"value\",\"value\":\"#30a2da\"},\"hatch_alpha\":{\"type\":\"value\",\"value\":0.1}}},\"muted_glyph\":{\"type\":\"object\",\"name\":\"VBar\",\"id\":\"81434e02-e9ce-41db-a238-7870a372b193\",\"attributes\":{\"tags\":[\"apply_ranges\"],\"x\":{\"type\":\"field\",\"field\":\"post_str_b4\"},\"width\":{\"type\":\"value\",\"value\":0.8},\"top\":{\"type\":\"field\",\"field\":\"percent\"},\"line_alpha\":{\"type\":\"value\",\"value\":0.2},\"fill_color\":{\"type\":\"value\",\"value\":\"#30a2da\"},\"fill_alpha\":{\"type\":\"value\",\"value\":0.2},\"hatch_color\":{\"type\":\"value\",\"value\":\"#30a2da\"},\"hatch_alpha\":{\"type\":\"value\",\"value\":0.2}}}}},{\"type\":\"object\",\"name\":\"Span\",\"id\":\"308c7ff6-904d-4480-bc6d-082f5a2f3b01\",\"attributes\":{\"level\":\"glyph\",\"location\":3.4482758620689666,\"line_color\":\"red\",\"line_width\":3}},{\"type\":\"object\",\"name\":\"Span\",\"id\":\"d23cd195-98cc-46c1-b0d5-b5a7f72e7c44\",\"attributes\":{\"level\":\"glyph\",\"location\":5.17241379310345,\"line_color\":\"blue\",\"line_width\":3}},{\"type\":\"object\",\"name\":\"Span\",\"id\":\"70998e72-0283-411c-9849-c5c81dfae8c3\",\"attributes\":{\"level\":\"glyph\",\"location\":1.7241379310344833,\"line_color\":\"blue\",\"line_width\":3}}],\"toolbar\":{\"type\":\"object\",\"name\":\"Toolbar\",\"id\":\"63f27352-9794-4269-b1e0-7ca7c04eee8e\",\"attributes\":{\"tools\":[{\"type\":\"object\",\"name\":\"WheelZoomTool\",\"id\":\"0a8140a1-1bf2-4994-904d-820709d7227b\",\"attributes\":{\"tags\":[\"hv_created\"],\"renderers\":\"auto\",\"zoom_together\":\"none\"}},{\"type\":\"object\",\"name\":\"HoverTool\",\"id\":\"89f31d91-71d2-49e2-af36-3768b583e3a4\",\"attributes\":{\"tags\":[\"hv_created\"],\"renderers\":[{\"id\":\"e0c3e17d-0223-4627-aff3-723c579222f1\"}],\"tooltips\":[[\"post_str_b4\",\"@{post_str_b4}\"],[\"percent\",\"@{percent}\"]]}},{\"type\":\"object\",\"name\":\"SaveTool\",\"id\":\"109b7f0d-447f-4867-bd52-7eba1b062d44\"},{\"type\":\"object\",\"name\":\"PanTool\",\"id\":\"dc900a0b-40f8-440d-bab2-0df3e098b309\"},{\"type\":\"object\",\"name\":\"BoxZoomTool\",\"id\":\"1398dad4-5997-4507-a5d6-f57183fbb78b\",\"attributes\":{\"dimensions\":\"both\",\"overlay\":{\"type\":\"object\",\"name\":\"BoxAnnotation\",\"id\":\"1ef9e331-763f-4adc-88d6-9144a7434554\",\"attributes\":{\"syncable\":false,\"line_color\":\"black\",\"line_alpha\":1.0,\"line_width\":2,\"line_dash\":[4,4],\"fill_color\":\"lightgrey\",\"fill_alpha\":0.5,\"level\":\"overlay\",\"visible\":false,\"left\":{\"type\":\"number\",\"value\":\"nan\"},\"right\":{\"type\":\"number\",\"value\":\"nan\"},\"top\":{\"type\":\"number\",\"value\":\"nan\"},\"bottom\":{\"type\":\"number\",\"value\":\"nan\"},\"left_units\":\"canvas\",\"right_units\":\"canvas\",\"top_units\":\"canvas\",\"bottom_units\":\"canvas\",\"handles\":{\"type\":\"object\",\"name\":\"BoxInteractionHandles\",\"id\":\"6a1cfd6e-6f29-467c-99f1-6e45788ac9c8\",\"attributes\":{\"all\":{\"type\":\"object\",\"name\":\"AreaVisuals\",\"id\":\"c3138a6c-a699-469a-955f-32813fb6f49b\",\"attributes\":{\"fill_color\":\"white\",\"hover_fill_color\":\"lightgray\"}}}}}}}},{\"type\":\"object\",\"name\":\"ResetTool\",\"id\":\"696e647e-993f-41d3-ad78-2210f48e0995\"}],\"active_drag\":{\"id\":\"dc900a0b-40f8-440d-bab2-0df3e098b309\"}}},\"left\":[{\"type\":\"object\",\"name\":\"LinearAxis\",\"id\":\"223dd323-5c08-48e2-b85c-136d92297df7\",\"attributes\":{\"ticker\":{\"type\":\"object\",\"name\":\"BasicTicker\",\"id\":\"f8641d89-4bb7-414f-9f4d-90a5bdf42e56\",\"attributes\":{\"mantissas\":[1,2,5]}},\"formatter\":{\"type\":\"object\",\"name\":\"BasicTickFormatter\",\"id\":\"0b3254d1-50c2-4405-a70e-fec0f014276e\"},\"axis_label\":\"percent\",\"major_label_policy\":{\"type\":\"object\",\"name\":\"AllLabels\",\"id\":\"88566ad8-8cfa-4756-8fff-23eb8ae50ca4\"}}}],\"below\":[{\"type\":\"object\",\"name\":\"CategoricalAxis\",\"id\":\"3670ba60-2a43-4667-8574-f39b449a17a0\",\"attributes\":{\"ticker\":{\"type\":\"object\",\"name\":\"CategoricalTicker\",\"id\":\"7e2a6d12-22d0-4e65-8589-5d935d62bf96\"},\"formatter\":{\"type\":\"object\",\"name\":\"CategoricalTickFormatter\",\"id\":\"b74f33af-e1b0-46bc-9e6a-13010fa77afc\"},\"axis_label\":\"post_str_b4\",\"major_label_policy\":{\"type\":\"object\",\"name\":\"AllLabels\",\"id\":\"43c46abc-718d-40d5-92fa-7aa861dc783a\"}}}],\"center\":[{\"type\":\"object\",\"name\":\"Grid\",\"id\":\"ea8013dd-6fa8-400f-90e6-14555842df98\",\"attributes\":{\"axis\":{\"id\":\"3670ba60-2a43-4667-8574-f39b449a17a0\"},\"grid_line_color\":null}},{\"type\":\"object\",\"name\":\"Grid\",\"id\":\"7a824ca6-7d42-4ec8-b43b-be61c078f14d\",\"attributes\":{\"dimension\":1,\"axis\":{\"id\":\"223dd323-5c08-48e2-b85c-136d92297df7\"},\"grid_line_color\":null}}],\"min_border_top\":10,\"min_border_bottom\":10,\"min_border_left\":10,\"min_border_right\":10,\"output_backend\":\"webgl\"}},{\"type\":\"object\",\"name\":\"Spacer\",\"id\":\"26a68a26-88b5-4460-8edf-fd2110053c07\",\"attributes\":{\"name\":\"HSpacer00504\",\"stylesheets\":[\"\\n:host(.pn-loading):before, .pn-loading:before {\\n  background-color: #c3c3c3;\\n  mask-size: auto calc(min(50%, 400px));\\n  -webkit-mask-size: auto calc(min(50%, 400px));\\n}\",{\"id\":\"7e81ef0b-5ab7-493b-b8f3-97fdfada6946\"},{\"id\":\"8d87a455-878c-42b6-923f-f390f50918f6\"},{\"id\":\"9830947e-86a3-479c-a3ad-a8a63b6cdea1\"}],\"margin\":0,\"sizing_mode\":\"stretch_width\",\"align\":\"start\"}}]}}],\"defs\":[{\"type\":\"model\",\"name\":\"ReactiveHTML1\"},{\"type\":\"model\",\"name\":\"FlexBox1\",\"properties\":[{\"name\":\"align_content\",\"kind\":\"Any\",\"default\":\"flex-start\"},{\"name\":\"align_items\",\"kind\":\"Any\",\"default\":\"flex-start\"},{\"name\":\"flex_direction\",\"kind\":\"Any\",\"default\":\"row\"},{\"name\":\"flex_wrap\",\"kind\":\"Any\",\"default\":\"wrap\"},{\"name\":\"gap\",\"kind\":\"Any\",\"default\":\"\"},{\"name\":\"justify_content\",\"kind\":\"Any\",\"default\":\"flex-start\"}]},{\"type\":\"model\",\"name\":\"FloatPanel1\",\"properties\":[{\"name\":\"config\",\"kind\":\"Any\",\"default\":{\"type\":\"map\"}},{\"name\":\"contained\",\"kind\":\"Any\",\"default\":true},{\"name\":\"position\",\"kind\":\"Any\",\"default\":\"right-top\"},{\"name\":\"offsetx\",\"kind\":\"Any\",\"default\":null},{\"name\":\"offsety\",\"kind\":\"Any\",\"default\":null},{\"name\":\"theme\",\"kind\":\"Any\",\"default\":\"primary\"},{\"name\":\"status\",\"kind\":\"Any\",\"default\":\"normalized\"}]},{\"type\":\"model\",\"name\":\"GridStack1\",\"properties\":[{\"name\":\"ncols\",\"kind\":\"Any\",\"default\":null},{\"name\":\"nrows\",\"kind\":\"Any\",\"default\":null},{\"name\":\"allow_resize\",\"kind\":\"Any\",\"default\":true},{\"name\":\"allow_drag\",\"kind\":\"Any\",\"default\":true},{\"name\":\"state\",\"kind\":\"Any\",\"default\":[]}]},{\"type\":\"model\",\"name\":\"drag1\",\"properties\":[{\"name\":\"slider_width\",\"kind\":\"Any\",\"default\":5},{\"name\":\"slider_color\",\"kind\":\"Any\",\"default\":\"black\"},{\"name\":\"value\",\"kind\":\"Any\",\"default\":50}]},{\"type\":\"model\",\"name\":\"click1\",\"properties\":[{\"name\":\"terminal_output\",\"kind\":\"Any\",\"default\":\"\"},{\"name\":\"debug_name\",\"kind\":\"Any\",\"default\":\"\"},{\"name\":\"clears\",\"kind\":\"Any\",\"default\":0}]},{\"type\":\"model\",\"name\":\"FastWrapper1\",\"properties\":[{\"name\":\"object\",\"kind\":\"Any\",\"default\":null},{\"name\":\"style\",\"kind\":\"Any\",\"default\":null}]},{\"type\":\"model\",\"name\":\"NotificationArea1\",\"properties\":[{\"name\":\"js_events\",\"kind\":\"Any\",\"default\":{\"type\":\"map\"}},{\"name\":\"max_notifications\",\"kind\":\"Any\",\"default\":5},{\"name\":\"notifications\",\"kind\":\"Any\",\"default\":[]},{\"name\":\"position\",\"kind\":\"Any\",\"default\":\"bottom-right\"},{\"name\":\"_clear\",\"kind\":\"Any\",\"default\":0},{\"name\":\"types\",\"kind\":\"Any\",\"default\":[{\"type\":\"map\",\"entries\":[[\"type\",\"warning\"],[\"background\",\"#ffc107\"],[\"icon\",{\"type\":\"map\",\"entries\":[[\"className\",\"fas fa-exclamation-triangle\"],[\"tagName\",\"i\"],[\"color\",\"white\"]]}]]},{\"type\":\"map\",\"entries\":[[\"type\",\"info\"],[\"background\",\"#007bff\"],[\"icon\",{\"type\":\"map\",\"entries\":[[\"className\",\"fas fa-info-circle\"],[\"tagName\",\"i\"],[\"color\",\"white\"]]}]]}]}]},{\"type\":\"model\",\"name\":\"Notification\",\"properties\":[{\"name\":\"background\",\"kind\":\"Any\",\"default\":null},{\"name\":\"duration\",\"kind\":\"Any\",\"default\":3000},{\"name\":\"icon\",\"kind\":\"Any\",\"default\":null},{\"name\":\"message\",\"kind\":\"Any\",\"default\":\"\"},{\"name\":\"notification_type\",\"kind\":\"Any\",\"default\":null},{\"name\":\"_rendered\",\"kind\":\"Any\",\"default\":false},{\"name\":\"_destroyed\",\"kind\":\"Any\",\"default\":false}]},{\"type\":\"model\",\"name\":\"TemplateActions1\",\"properties\":[{\"name\":\"open_modal\",\"kind\":\"Any\",\"default\":0},{\"name\":\"close_modal\",\"kind\":\"Any\",\"default\":0}]},{\"type\":\"model\",\"name\":\"BootstrapTemplateActions1\",\"properties\":[{\"name\":\"open_modal\",\"kind\":\"Any\",\"default\":0},{\"name\":\"close_modal\",\"kind\":\"Any\",\"default\":0}]},{\"type\":\"model\",\"name\":\"TemplateEditor1\",\"properties\":[{\"name\":\"layout\",\"kind\":\"Any\",\"default\":[]}]},{\"type\":\"model\",\"name\":\"MaterialTemplateActions1\",\"properties\":[{\"name\":\"open_modal\",\"kind\":\"Any\",\"default\":0},{\"name\":\"close_modal\",\"kind\":\"Any\",\"default\":0}]},{\"type\":\"model\",\"name\":\"ReactiveESM1\",\"properties\":[{\"name\":\"esm_constants\",\"kind\":\"Any\",\"default\":{\"type\":\"map\"}}]},{\"type\":\"model\",\"name\":\"JSComponent1\",\"properties\":[{\"name\":\"esm_constants\",\"kind\":\"Any\",\"default\":{\"type\":\"map\"}}]},{\"type\":\"model\",\"name\":\"ReactComponent1\",\"properties\":[{\"name\":\"esm_constants\",\"kind\":\"Any\",\"default\":{\"type\":\"map\"}}]},{\"type\":\"model\",\"name\":\"AnyWidgetComponent1\",\"properties\":[{\"name\":\"esm_constants\",\"kind\":\"Any\",\"default\":{\"type\":\"map\"}}]},{\"type\":\"model\",\"name\":\"request_value1\",\"properties\":[{\"name\":\"fill\",\"kind\":\"Any\",\"default\":\"none\"},{\"name\":\"_synced\",\"kind\":\"Any\",\"default\":null},{\"name\":\"_request_sync\",\"kind\":\"Any\",\"default\":0}]}]}};\n",
       "  var render_items = [{\"docid\":\"4f382086-a464-455e-8dba-42695077ae17\",\"roots\":{\"fa7a6500-2920-471c-bb5c-5542dec8d0a7\":\"e5e99abb-8146-47c6-b033-3caf429a8238\"},\"root_ids\":[\"fa7a6500-2920-471c-bb5c-5542dec8d0a7\"]}];\n",
       "  var docs = Object.values(docs_json)\n",
       "  if (!docs) {\n",
       "    return\n",
       "  }\n",
       "  const py_version = docs[0].version.replace('rc', '-rc.').replace('.dev', '-dev.')\n",
       "  async function embed_document(root) {\n",
       "    var Bokeh = get_bokeh(root)\n",
       "    await Bokeh.embed.embed_items_notebook(docs_json, render_items);\n",
       "    for (const render_item of render_items) {\n",
       "      for (const root_id of render_item.root_ids) {\n",
       "\tconst id_el = document.getElementById(root_id)\n",
       "\tif (id_el.children.length && id_el.children[0].hasAttribute('data-root-id')) {\n",
       "\t  const root_el = id_el.children[0]\n",
       "\t  root_el.id = root_el.id + '-rendered'\n",
       "\t  for (const child of root_el.children) {\n",
       "            // Ensure JupyterLab does not capture keyboard shortcuts\n",
       "            // see: https://jupyterlab.readthedocs.io/en/4.1.x/extension/notebook.html#keyboard-interaction-model\n",
       "\t    child.setAttribute('data-lm-suppress-shortcuts', 'true')\n",
       "\t  }\n",
       "\t}\n",
       "      }\n",
       "    }\n",
       "  }\n",
       "  function get_bokeh(root) {\n",
       "    if (root.Bokeh === undefined) {\n",
       "      return null\n",
       "    } else if (root.Bokeh.version !== py_version) {\n",
       "      if (root.Bokeh.versions === undefined || !root.Bokeh.versions.has(py_version)) {\n",
       "\treturn null\n",
       "      }\n",
       "      return root.Bokeh.versions.get(py_version);\n",
       "    } else if (root.Bokeh.version === py_version) {\n",
       "      return root.Bokeh\n",
       "    }\n",
       "    return null\n",
       "  }\n",
       "  function is_loaded(root) {\n",
       "    var Bokeh = get_bokeh(root)\n",
       "    return (Bokeh != null && Bokeh.Panel !== undefined)\n",
       "  }\n",
       "  if (is_loaded(root)) {\n",
       "    embed_document(root);\n",
       "  } else {\n",
       "    var attempts = 0;\n",
       "    var timer = setInterval(function(root) {\n",
       "      if (is_loaded(root)) {\n",
       "        clearInterval(timer);\n",
       "        embed_document(root);\n",
       "      } else if (document.readyState == \"complete\") {\n",
       "        attempts++;\n",
       "        if (attempts > 200) {\n",
       "          clearInterval(timer);\n",
       "\t  var Bokeh = get_bokeh(root)\n",
       "\t  if (Bokeh == null || Bokeh.Panel == null) {\n",
       "            console.warn(\"Panel: ERROR: Unable to run Panel code because Bokeh or Panel library is missing\");\n",
       "\t  } else {\n",
       "\t    console.warn(\"Panel: WARNING: Attempting to render but not all required libraries could be resolved.\")\n",
       "\t    embed_document(root)\n",
       "\t  }\n",
       "        }\n",
       "      }\n",
       "    }, 25, root)\n",
       "  }\n",
       "})(window);</script>"
      ],
      "text/plain": [
       ":Overlay\n",
       "   .Bars.I    :Bars   [post_str_b4]   (percent)\n",
       "   .HLine.I   :HLine   [x,y]\n",
       "   .HLine.II  :HLine   [x,y]\n",
       "   .HLine.III :HLine   [x,y]"
      ]
     },
     "metadata": {
      "application/vnd.holoviews_exec.v0+json": {
       "id": "fa7a6500-2920-471c-bb5c-5542dec8d0a7"
      }
     },
     "output_type": "display_data"
    },
    {
     "name": "stdout",
     "output_type": "stream",
     "text": [
      "df_10_last FOR str_b4 = 26\n",
      "Last 3 results last_results=['16', '25', '31']\n"
     ]
    },
    {
     "data": {
      "text/html": [
       "<div><style>\n",
       ".dataframe > thead > tr,\n",
       ".dataframe > tbody > tr {\n",
       "  text-align: right;\n",
       "  white-space: pre-wrap;\n",
       "}\n",
       "</style>\n",
       "<small>shape: (10, 24)</small><table border=\"1\" class=\"dataframe\"><thead><tr><th>fecha</th><th>sorteo</th><th>bolillas</th><th>id</th><th>combo</th><th>b1</th><th>b2</th><th>b3</th><th>b4</th><th>b5</th><th>str_b1</th><th>str_b2</th><th>str_b3</th><th>str_b4</th><th>str_b5</th><th>post_str_b1</th><th>post_str_b2</th><th>post_str_b3</th><th>post_str_b4</th><th>post_str_blast</th><th>is_rare_combination</th><th>reason</th><th>jumps_map</th><th>unijump</th></tr><tr><td>str</td><td>str</td><td>str</td><td>str</td><td>array[u8, 5]</td><td>u8</td><td>u8</td><td>u8</td><td>u8</td><td>u8</td><td>str</td><td>str</td><td>str</td><td>str</td><td>str</td><td>str</td><td>str</td><td>str</td><td>str</td><td>str</td><td>bool</td><td>u8</td><td>str</td><td>i64</td></tr></thead><tbody><tr><td>&quot;24/04/2025&quot;</td><td>&quot;4196&quot;</td><td>&quot;16 05 02 26 29&quot;</td><td>&quot;0205162629&quot;</td><td>[2, 5, … 29]</td><td>2</td><td>5</td><td>16</td><td>26</td><td>29</td><td>&quot;02&quot;</td><td>&quot;05&quot;</td><td>&quot;16&quot;</td><td>&quot;26&quot;</td><td>&quot;29&quot;</td><td>&quot;03&quot;</td><td>&quot;20&quot;</td><td>&quot;27&quot;</td><td>&quot;31&quot;</td><td>&quot;35&quot;</td><td>true</td><td>16</td><td>&quot;03_11_10_03&quot;</td><td>3</td></tr><tr><td>&quot;13/04/2025&quot;</td><td>&quot;4185&quot;</td><td>&quot;26 06 13 09 27&quot;</td><td>&quot;0609132627&quot;</td><td>[6, 9, … 27]</td><td>6</td><td>9</td><td>13</td><td>26</td><td>27</td><td>&quot;06&quot;</td><td>&quot;09&quot;</td><td>&quot;13&quot;</td><td>&quot;26&quot;</td><td>&quot;27&quot;</td><td>&quot;04&quot;</td><td>&quot;09&quot;</td><td>&quot;14&quot;</td><td>&quot;16&quot;</td><td>&quot;27&quot;</td><td>false</td><td>0</td><td>&quot;03_04_13_01&quot;</td><td>-29</td></tr><tr><td>&quot;31/03/2025&quot;</td><td>&quot;4172&quot;</td><td>&quot;07 22 34 26 16&quot;</td><td>&quot;0716222634&quot;</td><td>[7, 16, … 34]</td><td>7</td><td>16</td><td>22</td><td>26</td><td>34</td><td>&quot;07&quot;</td><td>&quot;16&quot;</td><td>&quot;22&quot;</td><td>&quot;26&quot;</td><td>&quot;34&quot;</td><td>&quot;08&quot;</td><td>&quot;12&quot;</td><td>&quot;13&quot;</td><td>&quot;25&quot;</td><td>&quot;33&quot;</td><td>false</td><td>0</td><td>&quot;09_06_04_08&quot;</td><td>5</td></tr><tr><td>&quot;16/03/2025&quot;</td><td>&quot;4157&quot;</td><td>&quot;26 10 21 16 30&quot;</td><td>&quot;1016212630&quot;</td><td>[10, 16, … 30]</td><td>10</td><td>16</td><td>21</td><td>26</td><td>30</td><td>&quot;10&quot;</td><td>&quot;16&quot;</td><td>&quot;21&quot;</td><td>&quot;26&quot;</td><td>&quot;30&quot;</td><td>&quot;04&quot;</td><td>&quot;08&quot;</td><td>&quot;20&quot;</td><td>&quot;24&quot;</td><td>&quot;30&quot;</td><td>true</td><td>8</td><td>&quot;06_05_05_04&quot;</td><td>-2</td></tr><tr><td>&quot;10/03/2025&quot;</td><td>&quot;4151&quot;</td><td>&quot;29 06 26 15 19&quot;</td><td>&quot;0615192629&quot;</td><td>[6, 15, … 29]</td><td>6</td><td>15</td><td>19</td><td>26</td><td>29</td><td>&quot;06&quot;</td><td>&quot;15&quot;</td><td>&quot;19&quot;</td><td>&quot;26&quot;</td><td>&quot;29&quot;</td><td>&quot;02&quot;</td><td>&quot;11&quot;</td><td>&quot;12&quot;</td><td>&quot;16&quot;</td><td>&quot;32&quot;</td><td>true</td><td>16</td><td>&quot;09_04_07_03&quot;</td><td>-15</td></tr><tr><td>&quot;07/03/2025&quot;</td><td>&quot;4148&quot;</td><td>&quot;26 07 03 24 30&quot;</td><td>&quot;0307242630&quot;</td><td>[3, 7, … 30]</td><td>3</td><td>7</td><td>24</td><td>26</td><td>30</td><td>&quot;03&quot;</td><td>&quot;07&quot;</td><td>&quot;24&quot;</td><td>&quot;26&quot;</td><td>&quot;30&quot;</td><td>&quot;02&quot;</td><td>&quot;16&quot;</td><td>&quot;30&quot;</td><td>&quot;32&quot;</td><td>&quot;35&quot;</td><td>true</td><td>16</td><td>&quot;04_17_02_04&quot;</td><td>45</td></tr><tr><td>&quot;14/02/2025&quot;</td><td>&quot;4127&quot;</td><td>&quot;15 09 28 26 14&quot;</td><td>&quot;0914152628&quot;</td><td>[9, 14, … 28]</td><td>9</td><td>14</td><td>15</td><td>26</td><td>28</td><td>&quot;09&quot;</td><td>&quot;14&quot;</td><td>&quot;15&quot;</td><td>&quot;26&quot;</td><td>&quot;28&quot;</td><td>&quot;09&quot;</td><td>&quot;21&quot;</td><td>&quot;26&quot;</td><td>&quot;31&quot;</td><td>&quot;32&quot;</td><td>true</td><td>16</td><td>&quot;05_01_11_02&quot;</td><td>-33</td></tr><tr><td>&quot;23/01/2025&quot;</td><td>&quot;4105&quot;</td><td>&quot;26 10 30 24 01&quot;</td><td>&quot;0110242630&quot;</td><td>[1, 10, … 30]</td><td>1</td><td>10</td><td>24</td><td>26</td><td>30</td><td>&quot;01&quot;</td><td>&quot;10&quot;</td><td>&quot;24&quot;</td><td>&quot;26&quot;</td><td>&quot;30&quot;</td><td>&quot;03&quot;</td><td>&quot;07&quot;</td><td>&quot;15&quot;</td><td>&quot;28&quot;</td><td>&quot;31&quot;</td><td>false</td><td>0</td><td>&quot;09_14_02_04&quot;</td><td>31</td></tr><tr><td>&quot;02/12/2024&quot;</td><td>&quot;4053&quot;</td><td>&quot;05 16 03 26 31&quot;</td><td>&quot;0305162631&quot;</td><td>[3, 5, … 31]</td><td>3</td><td>5</td><td>16</td><td>26</td><td>31</td><td>&quot;03&quot;</td><td>&quot;05&quot;</td><td>&quot;16&quot;</td><td>&quot;26&quot;</td><td>&quot;31&quot;</td><td>&quot;06&quot;</td><td>&quot;15&quot;</td><td>&quot;19&quot;</td><td>&quot;25&quot;</td><td>&quot;31&quot;</td><td>false</td><td>0</td><td>&quot;02_11_10_05&quot;</td><td>6</td></tr><tr><td>&quot;29/11/2024&quot;</td><td>&quot;4050&quot;</td><td>&quot;13 26 29 25 07&quot;</td><td>&quot;0713252629&quot;</td><td>[7, 13, … 29]</td><td>7</td><td>13</td><td>25</td><td>26</td><td>29</td><td>&quot;07&quot;</td><td>&quot;13&quot;</td><td>&quot;25&quot;</td><td>&quot;26&quot;</td><td>&quot;29&quot;</td><td>&quot;11&quot;</td><td>&quot;13&quot;</td><td>&quot;25&quot;</td><td>&quot;29&quot;</td><td>&quot;35&quot;</td><td>false</td><td>0</td><td>&quot;06_12_01_03&quot;</td><td>30</td></tr></tbody></table></div>"
      ],
      "text/plain": [
       "shape: (10, 24)\n",
       "┌────────────┬────────┬─────────────┬────────────┬───┬─────────────┬────────┬────────────┬─────────┐\n",
       "│ fecha      ┆ sorteo ┆ bolillas    ┆ id         ┆ … ┆ is_rare_com ┆ reason ┆ jumps_map  ┆ unijump │\n",
       "│ ---        ┆ ---    ┆ ---         ┆ ---        ┆   ┆ bination    ┆ ---    ┆ ---        ┆ ---     │\n",
       "│ str        ┆ str    ┆ str         ┆ str        ┆   ┆ ---         ┆ u8     ┆ str        ┆ i64     │\n",
       "│            ┆        ┆             ┆            ┆   ┆ bool        ┆        ┆            ┆         │\n",
       "╞════════════╪════════╪═════════════╪════════════╪═══╪═════════════╪════════╪════════════╪═════════╡\n",
       "│ 24/04/2025 ┆ 4196   ┆ 16 05 02 26 ┆ 0205162629 ┆ … ┆ true        ┆ 16     ┆ 03_11_10_0 ┆ 3       │\n",
       "│            ┆        ┆ 29          ┆            ┆   ┆             ┆        ┆ 3          ┆         │\n",
       "│ 13/04/2025 ┆ 4185   ┆ 26 06 13 09 ┆ 0609132627 ┆ … ┆ false       ┆ 0      ┆ 03_04_13_0 ┆ -29     │\n",
       "│            ┆        ┆ 27          ┆            ┆   ┆             ┆        ┆ 1          ┆         │\n",
       "│ 31/03/2025 ┆ 4172   ┆ 07 22 34 26 ┆ 0716222634 ┆ … ┆ false       ┆ 0      ┆ 09_06_04_0 ┆ 5       │\n",
       "│            ┆        ┆ 16          ┆            ┆   ┆             ┆        ┆ 8          ┆         │\n",
       "│ 16/03/2025 ┆ 4157   ┆ 26 10 21 16 ┆ 1016212630 ┆ … ┆ true        ┆ 8      ┆ 06_05_05_0 ┆ -2      │\n",
       "│            ┆        ┆ 30          ┆            ┆   ┆             ┆        ┆ 4          ┆         │\n",
       "│ 10/03/2025 ┆ 4151   ┆ 29 06 26 15 ┆ 0615192629 ┆ … ┆ true        ┆ 16     ┆ 09_04_07_0 ┆ -15     │\n",
       "│            ┆        ┆ 19          ┆            ┆   ┆             ┆        ┆ 3          ┆         │\n",
       "│ 07/03/2025 ┆ 4148   ┆ 26 07 03 24 ┆ 0307242630 ┆ … ┆ true        ┆ 16     ┆ 04_17_02_0 ┆ 45      │\n",
       "│            ┆        ┆ 30          ┆            ┆   ┆             ┆        ┆ 4          ┆         │\n",
       "│ 14/02/2025 ┆ 4127   ┆ 15 09 28 26 ┆ 0914152628 ┆ … ┆ true        ┆ 16     ┆ 05_01_11_0 ┆ -33     │\n",
       "│            ┆        ┆ 14          ┆            ┆   ┆             ┆        ┆ 2          ┆         │\n",
       "│ 23/01/2025 ┆ 4105   ┆ 26 10 30 24 ┆ 0110242630 ┆ … ┆ false       ┆ 0      ┆ 09_14_02_0 ┆ 31      │\n",
       "│            ┆        ┆ 01          ┆            ┆   ┆             ┆        ┆ 4          ┆         │\n",
       "│ 02/12/2024 ┆ 4053   ┆ 05 16 03 26 ┆ 0305162631 ┆ … ┆ false       ┆ 0      ┆ 02_11_10_0 ┆ 6       │\n",
       "│            ┆        ┆ 31          ┆            ┆   ┆             ┆        ┆ 5          ┆         │\n",
       "│ 29/11/2024 ┆ 4050   ┆ 13 26 29 25 ┆ 0713252629 ┆ … ┆ false       ┆ 0      ┆ 06_12_01_0 ┆ 30      │\n",
       "│            ┆        ┆ 07          ┆            ┆   ┆             ┆        ┆ 3          ┆         │\n",
       "└────────────┴────────┴─────────────┴────────────┴───┴─────────────┴────────┴────────────┴─────────┘"
      ]
     },
     "metadata": {},
     "output_type": "display_data"
    },
    {
     "name": "stdout",
     "output_type": "stream",
     "text": [
      "df_jumps_map FOR str_b4 = 26\n"
     ]
    },
    {
     "data": {
      "text/html": [
       "<div><style>\n",
       ".dataframe > thead > tr,\n",
       ".dataframe > tbody > tr {\n",
       "  text-align: right;\n",
       "  white-space: pre-wrap;\n",
       "}\n",
       "</style>\n",
       "<small>shape: (495, 2)</small><table border=\"1\" class=\"dataframe\"><thead><tr><th>jumps_map</th><th>count</th></tr><tr><td>str</td><td>u32</td></tr></thead><tbody><tr><td>&quot;01_05_08_09&quot;</td><td>2</td></tr><tr><td>&quot;03_14_02_01&quot;</td><td>2</td></tr><tr><td>&quot;09_04_02_01&quot;</td><td>2</td></tr><tr><td>&quot;02_03_01_09&quot;</td><td>2</td></tr><tr><td>&quot;18_02_05_05&quot;</td><td>2</td></tr><tr><td>&hellip;</td><td>&hellip;</td></tr><tr><td>&quot;22_01_02_06&quot;</td><td>1</td></tr><tr><td>&quot;08_01_13_04&quot;</td><td>1</td></tr><tr><td>&quot;14_08_03_04&quot;</td><td>1</td></tr><tr><td>&quot;09_05_06_03&quot;</td><td>1</td></tr><tr><td>&quot;15_01_02_01&quot;</td><td>1</td></tr></tbody></table></div>"
      ],
      "text/plain": [
       "shape: (495, 2)\n",
       "┌─────────────┬───────┐\n",
       "│ jumps_map   ┆ count │\n",
       "│ ---         ┆ ---   │\n",
       "│ str         ┆ u32   │\n",
       "╞═════════════╪═══════╡\n",
       "│ 01_05_08_09 ┆ 2     │\n",
       "│ 03_14_02_01 ┆ 2     │\n",
       "│ 09_04_02_01 ┆ 2     │\n",
       "│ 02_03_01_09 ┆ 2     │\n",
       "│ 18_02_05_05 ┆ 2     │\n",
       "│ …           ┆ …     │\n",
       "│ 22_01_02_06 ┆ 1     │\n",
       "│ 08_01_13_04 ┆ 1     │\n",
       "│ 14_08_03_04 ┆ 1     │\n",
       "│ 09_05_06_03 ┆ 1     │\n",
       "│ 15_01_02_01 ┆ 1     │\n",
       "└─────────────┴───────┘"
      ]
     },
     "metadata": {},
     "output_type": "display_data"
    },
    {
     "name": "stdout",
     "output_type": "stream",
     "text": [
      "df_unijump FOR str_b4 = 26\n"
     ]
    },
    {
     "data": {
      "text/html": [
       "<div><style>\n",
       ".dataframe > thead > tr,\n",
       ".dataframe > tbody > tr {\n",
       "  text-align: right;\n",
       "  white-space: pre-wrap;\n",
       "}\n",
       "</style>\n",
       "<small>shape: (102, 2)</small><table border=\"1\" class=\"dataframe\"><thead><tr><th>unijump</th><th>count</th></tr><tr><td>i64</td><td>u32</td></tr></thead><tbody><tr><td>-1</td><td>13</td></tr><tr><td>-2</td><td>13</td></tr><tr><td>-5</td><td>12</td></tr><tr><td>-3</td><td>11</td></tr><tr><td>6</td><td>11</td></tr><tr><td>&hellip;</td><td>&hellip;</td></tr><tr><td>-40</td><td>1</td></tr><tr><td>-42</td><td>1</td></tr><tr><td>36</td><td>1</td></tr><tr><td>49</td><td>1</td></tr><tr><td>-39</td><td>1</td></tr></tbody></table></div>"
      ],
      "text/plain": [
       "shape: (102, 2)\n",
       "┌─────────┬───────┐\n",
       "│ unijump ┆ count │\n",
       "│ ---     ┆ ---   │\n",
       "│ i64     ┆ u32   │\n",
       "╞═════════╪═══════╡\n",
       "│ -1      ┆ 13    │\n",
       "│ -2      ┆ 13    │\n",
       "│ -5      ┆ 12    │\n",
       "│ -3      ┆ 11    │\n",
       "│ 6       ┆ 11    │\n",
       "│ …       ┆ …     │\n",
       "│ -40     ┆ 1     │\n",
       "│ -42     ┆ 1     │\n",
       "│ 36      ┆ 1     │\n",
       "│ 49      ┆ 1     │\n",
       "│ -39     ┆ 1     │\n",
       "└─────────┴───────┘"
      ]
     },
     "metadata": {},
     "output_type": "display_data"
    }
   ],
   "source": [
    "possible_b4, exclude_jump_maps_b4, last_post_b4 = plot_post_col(col='str_b4', post_col='post_str_b4')"
   ]
  },
  {
   "cell_type": "code",
   "execution_count": 12,
   "metadata": {},
   "outputs": [
    {
     "name": "stdout",
     "output_type": "stream",
     "text": [
      "Setting test_value='35'\n",
      "df_viz FOR str_b5 = 35\n"
     ]
    },
    {
     "data": {
      "text/html": [
       "<div><style>\n",
       ".dataframe > thead > tr,\n",
       ".dataframe > tbody > tr {\n",
       "  text-align: right;\n",
       "  white-space: pre-wrap;\n",
       "}\n",
       "</style>\n",
       "<small>shape: (25, 3)</small><table border=\"1\" class=\"dataframe\"><thead><tr><th>post_str_blast</th><th>count</th><th>percent</th></tr><tr><td>str</td><td>u32</td><td>f64</td></tr></thead><tbody><tr><td>&quot;35&quot;</td><td>165</td><td>14.692787</td></tr><tr><td>&quot;34&quot;</td><td>161</td><td>14.336598</td></tr><tr><td>&quot;33&quot;</td><td>121</td><td>10.774711</td></tr><tr><td>&quot;32&quot;</td><td>121</td><td>10.774711</td></tr><tr><td>&quot;31&quot;</td><td>91</td><td>8.103295</td></tr><tr><td>&hellip;</td><td>&hellip;</td><td>&hellip;</td></tr><tr><td>&quot;14&quot;</td><td>2</td><td>0.178094</td></tr><tr><td>&quot;17&quot;</td><td>2</td><td>0.178094</td></tr><tr><td>&quot;13&quot;</td><td>2</td><td>0.178094</td></tr><tr><td>&quot;12&quot;</td><td>1</td><td>0.089047</td></tr><tr><td>&quot;10&quot;</td><td>1</td><td>0.089047</td></tr></tbody></table></div>"
      ],
      "text/plain": [
       "shape: (25, 3)\n",
       "┌────────────────┬───────┬───────────┐\n",
       "│ post_str_blast ┆ count ┆ percent   │\n",
       "│ ---            ┆ ---   ┆ ---       │\n",
       "│ str            ┆ u32   ┆ f64       │\n",
       "╞════════════════╪═══════╪═══════════╡\n",
       "│ 35             ┆ 165   ┆ 14.692787 │\n",
       "│ 34             ┆ 161   ┆ 14.336598 │\n",
       "│ 33             ┆ 121   ┆ 10.774711 │\n",
       "│ 32             ┆ 121   ┆ 10.774711 │\n",
       "│ 31             ┆ 91    ┆ 8.103295  │\n",
       "│ …              ┆ …     ┆ …         │\n",
       "│ 14             ┆ 2     ┆ 0.178094  │\n",
       "│ 17             ┆ 2     ┆ 0.178094  │\n",
       "│ 13             ┆ 2     ┆ 0.178094  │\n",
       "│ 12             ┆ 1     ┆ 0.089047  │\n",
       "│ 10             ┆ 1     ┆ 0.089047  │\n",
       "└────────────────┴───────┴───────────┘"
      ]
     },
     "metadata": {},
     "output_type": "display_data"
    },
    {
     "data": {},
     "metadata": {},
     "output_type": "display_data"
    },
    {
     "data": {
      "application/vnd.holoviews_exec.v0+json": "",
      "text/html": [
       "<div id='ab09792d-37e3-4e8d-a547-804dfa529ee3'>\n",
       "  <div id=\"ce4f67f3-0667-447a-881b-9bbceeeb30ff\" data-root-id=\"ab09792d-37e3-4e8d-a547-804dfa529ee3\" style=\"display: contents;\"></div>\n",
       "</div>\n",
       "<script type=\"application/javascript\">(function(root) {\n",
       "  var docs_json = {\"7a79bfb6-3afa-4280-86ca-d4c2c80db3ee\":{\"version\":\"3.7.2\",\"title\":\"Bokeh Application\",\"roots\":[{\"type\":\"object\",\"name\":\"Row\",\"id\":\"ab09792d-37e3-4e8d-a547-804dfa529ee3\",\"attributes\":{\"name\":\"Row00570\",\"tags\":[\"embedded\"],\"stylesheets\":[\"\\n:host(.pn-loading):before, .pn-loading:before {\\n  background-color: #c3c3c3;\\n  mask-size: auto calc(min(50%, 400px));\\n  -webkit-mask-size: auto calc(min(50%, 400px));\\n}\",{\"type\":\"object\",\"name\":\"ImportedStyleSheet\",\"id\":\"8698d69a-858c-4450-82e7-1662b81f7159\",\"attributes\":{\"url\":\"https://cdn.holoviz.org/panel/1.6.2/dist/css/loading.css\"}},{\"type\":\"object\",\"name\":\"ImportedStyleSheet\",\"id\":\"00aea3d6-0962-478c-ab4c-abe64a456829\",\"attributes\":{\"url\":\"https://cdn.holoviz.org/panel/1.6.2/dist/css/listpanel.css\"}},{\"type\":\"object\",\"name\":\"ImportedStyleSheet\",\"id\":\"bef41d15-ad62-4114-868f-b161c85a83b0\",\"attributes\":{\"url\":\"https://cdn.holoviz.org/panel/1.6.2/dist/bundled/theme/default.css\"}},{\"type\":\"object\",\"name\":\"ImportedStyleSheet\",\"id\":\"78f2ea8d-5aab-4b47-a204-ed14deb7561b\",\"attributes\":{\"url\":\"https://cdn.holoviz.org/panel/1.6.2/dist/bundled/theme/native.css\"}}],\"min_width\":700,\"margin\":0,\"sizing_mode\":\"stretch_width\",\"align\":\"start\",\"children\":[{\"type\":\"object\",\"name\":\"Spacer\",\"id\":\"db89d41a-4811-48f5-b97e-32d5254460dd\",\"attributes\":{\"name\":\"HSpacer00574\",\"stylesheets\":[\"\\n:host(.pn-loading):before, .pn-loading:before {\\n  background-color: #c3c3c3;\\n  mask-size: auto calc(min(50%, 400px));\\n  -webkit-mask-size: auto calc(min(50%, 400px));\\n}\",{\"id\":\"8698d69a-858c-4450-82e7-1662b81f7159\"},{\"id\":\"bef41d15-ad62-4114-868f-b161c85a83b0\"},{\"id\":\"78f2ea8d-5aab-4b47-a204-ed14deb7561b\"}],\"margin\":0,\"sizing_mode\":\"stretch_width\",\"align\":\"start\"}},{\"type\":\"object\",\"name\":\"Figure\",\"id\":\"5c68bea8-4dda-4851-a30e-e99f7a807c5e\",\"attributes\":{\"width\":700,\"height\":300,\"margin\":[5,10],\"sizing_mode\":\"fixed\",\"align\":\"start\",\"x_range\":{\"type\":\"object\",\"name\":\"FactorRange\",\"id\":\"76e572db-2dc2-4160-9291-fc40afbbb6fe\",\"attributes\":{\"name\":\"post_str_blast\",\"tags\":[[[\"post_str_blast\",null]],[]],\"factors\":[\"35\",\"34\",\"33\",\"32\",\"31\",\"29\",\"30\",\"28\",\"27\",\"26\",\"25\",\"24\",\"22\",\"23\",\"21\",\"20\",\"19\",\"16\",\"18\",\"15\",\"14\",\"17\",\"13\",\"12\",\"10\"]}},\"y_range\":{\"type\":\"object\",\"name\":\"Range1d\",\"id\":\"1e53a6d6-7c79-407b-ac3f-adb2664e4895\",\"attributes\":{\"name\":\"percent\",\"tags\":[[[\"percent\",null]],{\"type\":\"map\",\"entries\":[[\"invert_yaxis\",false],[\"autorange\",false]]}],\"end\":16.153161175422973,\"reset_start\":0.0,\"reset_end\":16.153161175422973}},\"x_scale\":{\"type\":\"object\",\"name\":\"CategoricalScale\",\"id\":\"91ebf612-31ab-43b0-850f-2ab72f063291\"},\"y_scale\":{\"type\":\"object\",\"name\":\"LinearScale\",\"id\":\"f9b3709f-7c1f-4858-bae6-59a03f38c8b6\"},\"title\":{\"type\":\"object\",\"name\":\"Title\",\"id\":\"85229df9-f9c7-4008-ac7d-e186dc0b7413\",\"attributes\":{\"text_color\":\"black\",\"text_font_size\":\"12pt\"}},\"renderers\":[{\"type\":\"object\",\"name\":\"GlyphRenderer\",\"id\":\"2c7b23d9-1a50-4ca5-ab2c-b034b4da8447\",\"attributes\":{\"data_source\":{\"type\":\"object\",\"name\":\"ColumnDataSource\",\"id\":\"ad2a839d-2418-4708-80f8-31f571ccaac2\",\"attributes\":{\"selected\":{\"type\":\"object\",\"name\":\"Selection\",\"id\":\"42c61baa-cb52-4b53-9942-e66edcb8554e\",\"attributes\":{\"indices\":[],\"line_indices\":[]}},\"selection_policy\":{\"type\":\"object\",\"name\":\"UnionRenderers\",\"id\":\"524ccdb8-a6ae-4448-959c-c510c28bcf83\"},\"data\":{\"type\":\"map\",\"entries\":[[\"post_str_blast\",[\"35\",\"34\",\"33\",\"32\",\"31\",\"29\",\"30\",\"28\",\"27\",\"26\",\"25\",\"24\",\"22\",\"23\",\"21\",\"20\",\"19\",\"16\",\"18\",\"15\",\"14\",\"17\",\"13\",\"12\",\"10\"]],[\"percent\",{\"type\":\"ndarray\",\"array\":{\"type\":\"bytes\",\"data\":\"o1s6ALViLUB1SwegVqwsQJqpCN6mjCVAmqkI3qaMJUA2sIkM4zQgQGSu4fa3kxhANJ6ullndF0C+9S6mbRUWQC/FlYVS8hNAK+x8dEsHEEB7Nvsm5+4IQAC1YiX0OwNAoZT8ZDfPAUBCdJakemIAQO0FYgbMy/Y/JsjGiDhY7z8vxZWFUvLjP3KEyQTZGOE/7QViBszL1j9yhMkE2RjRP+0FYgbMy8Y/7QViBszLxj/tBWIGzMvGP+0FYgbMy7Y/7QViBszLtj8=\"},\"shape\":[25],\"dtype\":\"float64\",\"order\":\"little\"}]]}}},\"view\":{\"type\":\"object\",\"name\":\"CDSView\",\"id\":\"23f19a6b-ee17-4d49-b7c5-463085d2dfe6\",\"attributes\":{\"filter\":{\"type\":\"object\",\"name\":\"AllIndices\",\"id\":\"c7524428-9f04-4791-84ab-4c9d39b8594c\"}}},\"glyph\":{\"type\":\"object\",\"name\":\"VBar\",\"id\":\"548a2343-ed5b-489c-a8a4-c70828eaab19\",\"attributes\":{\"tags\":[\"apply_ranges\"],\"x\":{\"type\":\"field\",\"field\":\"post_str_blast\"},\"width\":{\"type\":\"value\",\"value\":0.8},\"top\":{\"type\":\"field\",\"field\":\"percent\"},\"fill_color\":{\"type\":\"value\",\"value\":\"#30a2da\"},\"hatch_color\":{\"type\":\"value\",\"value\":\"#30a2da\"}}},\"selection_glyph\":{\"type\":\"object\",\"name\":\"VBar\",\"id\":\"868c15e6-0812-4a75-9534-c99fe1dbeff9\",\"attributes\":{\"tags\":[\"apply_ranges\"],\"x\":{\"type\":\"field\",\"field\":\"post_str_blast\"},\"width\":{\"type\":\"value\",\"value\":0.8},\"bottom\":{\"type\":\"value\",\"value\":0},\"top\":{\"type\":\"field\",\"field\":\"percent\"},\"line_color\":{\"type\":\"value\",\"value\":\"black\"},\"line_alpha\":{\"type\":\"value\",\"value\":1.0},\"line_width\":{\"type\":\"value\",\"value\":1},\"line_join\":{\"type\":\"value\",\"value\":\"bevel\"},\"line_cap\":{\"type\":\"value\",\"value\":\"butt\"},\"line_dash\":{\"type\":\"value\",\"value\":[]},\"line_dash_offset\":{\"type\":\"value\",\"value\":0},\"fill_color\":{\"type\":\"value\",\"value\":\"#30a2da\"},\"fill_alpha\":{\"type\":\"value\",\"value\":1.0},\"hatch_color\":{\"type\":\"value\",\"value\":\"#30a2da\"},\"hatch_alpha\":{\"type\":\"value\",\"value\":1.0},\"hatch_scale\":{\"type\":\"value\",\"value\":12.0},\"hatch_pattern\":{\"type\":\"value\",\"value\":null},\"hatch_weight\":{\"type\":\"value\",\"value\":1.0}}},\"nonselection_glyph\":{\"type\":\"object\",\"name\":\"VBar\",\"id\":\"38d38dba-0a1f-448e-9642-69ab6e61dd2f\",\"attributes\":{\"tags\":[\"apply_ranges\"],\"x\":{\"type\":\"field\",\"field\":\"post_str_blast\"},\"width\":{\"type\":\"value\",\"value\":0.8},\"top\":{\"type\":\"field\",\"field\":\"percent\"},\"line_alpha\":{\"type\":\"value\",\"value\":0.1},\"fill_color\":{\"type\":\"value\",\"value\":\"#30a2da\"},\"fill_alpha\":{\"type\":\"value\",\"value\":0.1},\"hatch_color\":{\"type\":\"value\",\"value\":\"#30a2da\"},\"hatch_alpha\":{\"type\":\"value\",\"value\":0.1}}},\"muted_glyph\":{\"type\":\"object\",\"name\":\"VBar\",\"id\":\"785d9f6d-7e3d-4a6e-ad2b-df3359178ea2\",\"attributes\":{\"tags\":[\"apply_ranges\"],\"x\":{\"type\":\"field\",\"field\":\"post_str_blast\"},\"width\":{\"type\":\"value\",\"value\":0.8},\"top\":{\"type\":\"field\",\"field\":\"percent\"},\"line_alpha\":{\"type\":\"value\",\"value\":0.2},\"fill_color\":{\"type\":\"value\",\"value\":\"#30a2da\"},\"fill_alpha\":{\"type\":\"value\",\"value\":0.2},\"hatch_color\":{\"type\":\"value\",\"value\":\"#30a2da\"},\"hatch_alpha\":{\"type\":\"value\",\"value\":0.2}}}}},{\"type\":\"object\",\"name\":\"Span\",\"id\":\"ebe62dc7-9e46-4af3-aa7a-c03fffbbc4ae\",\"attributes\":{\"level\":\"glyph\",\"location\":3.9999999999999987,\"line_color\":\"red\",\"line_width\":3}},{\"type\":\"object\",\"name\":\"Span\",\"id\":\"7dcecc0d-b7fc-4217-bbbb-1dfa541b86a7\",\"attributes\":{\"level\":\"glyph\",\"location\":5.999999999999997,\"line_color\":\"blue\",\"line_width\":3}},{\"type\":\"object\",\"name\":\"Span\",\"id\":\"ecee4136-4fcb-4ebe-898f-95390d81e925\",\"attributes\":{\"level\":\"glyph\",\"location\":1.9999999999999993,\"line_color\":\"blue\",\"line_width\":3}}],\"toolbar\":{\"type\":\"object\",\"name\":\"Toolbar\",\"id\":\"aeac57be-5d7a-4c25-b14b-786f216ab7d4\",\"attributes\":{\"tools\":[{\"type\":\"object\",\"name\":\"WheelZoomTool\",\"id\":\"e0d19164-33dd-4080-81d3-c22145adef51\",\"attributes\":{\"tags\":[\"hv_created\"],\"renderers\":\"auto\",\"zoom_together\":\"none\"}},{\"type\":\"object\",\"name\":\"HoverTool\",\"id\":\"55307477-d272-484d-813f-f761b78244df\",\"attributes\":{\"tags\":[\"hv_created\"],\"renderers\":[{\"id\":\"2c7b23d9-1a50-4ca5-ab2c-b034b4da8447\"}],\"tooltips\":[[\"post_str_blast\",\"@{post_str_blast}\"],[\"percent\",\"@{percent}\"]]}},{\"type\":\"object\",\"name\":\"SaveTool\",\"id\":\"db229171-9569-4bf9-985a-42ce8e87222a\"},{\"type\":\"object\",\"name\":\"PanTool\",\"id\":\"3a87d798-fae0-4899-bda7-bedc75baa97f\"},{\"type\":\"object\",\"name\":\"BoxZoomTool\",\"id\":\"c593adff-2b1b-4247-8dc6-ef4e3835a746\",\"attributes\":{\"dimensions\":\"both\",\"overlay\":{\"type\":\"object\",\"name\":\"BoxAnnotation\",\"id\":\"eb2cddbc-b02e-4ca3-a71d-a4e325cd6d25\",\"attributes\":{\"syncable\":false,\"line_color\":\"black\",\"line_alpha\":1.0,\"line_width\":2,\"line_dash\":[4,4],\"fill_color\":\"lightgrey\",\"fill_alpha\":0.5,\"level\":\"overlay\",\"visible\":false,\"left\":{\"type\":\"number\",\"value\":\"nan\"},\"right\":{\"type\":\"number\",\"value\":\"nan\"},\"top\":{\"type\":\"number\",\"value\":\"nan\"},\"bottom\":{\"type\":\"number\",\"value\":\"nan\"},\"left_units\":\"canvas\",\"right_units\":\"canvas\",\"top_units\":\"canvas\",\"bottom_units\":\"canvas\",\"handles\":{\"type\":\"object\",\"name\":\"BoxInteractionHandles\",\"id\":\"8ad0dacf-a77b-4c26-8c6e-4c6b0431dffe\",\"attributes\":{\"all\":{\"type\":\"object\",\"name\":\"AreaVisuals\",\"id\":\"5f800345-bc89-41c2-8cbd-aaa77504b795\",\"attributes\":{\"fill_color\":\"white\",\"hover_fill_color\":\"lightgray\"}}}}}}}},{\"type\":\"object\",\"name\":\"ResetTool\",\"id\":\"789ed9b4-06f8-4911-9918-0889756330e0\"}],\"active_drag\":{\"id\":\"3a87d798-fae0-4899-bda7-bedc75baa97f\"}}},\"left\":[{\"type\":\"object\",\"name\":\"LinearAxis\",\"id\":\"2eac1e8a-7627-4d0e-a8a5-8efcb5350caa\",\"attributes\":{\"ticker\":{\"type\":\"object\",\"name\":\"BasicTicker\",\"id\":\"456bc988-6421-4e4c-8144-c1f8d4a728ad\",\"attributes\":{\"mantissas\":[1,2,5]}},\"formatter\":{\"type\":\"object\",\"name\":\"BasicTickFormatter\",\"id\":\"bb69d6ca-2f1b-4aa1-970c-9e458be51568\"},\"axis_label\":\"percent\",\"major_label_policy\":{\"type\":\"object\",\"name\":\"AllLabels\",\"id\":\"9b1ff9cb-c6aa-4608-8433-13e42a485565\"}}}],\"below\":[{\"type\":\"object\",\"name\":\"CategoricalAxis\",\"id\":\"af37a004-57a0-4be6-91d2-8c9dcd6e4276\",\"attributes\":{\"ticker\":{\"type\":\"object\",\"name\":\"CategoricalTicker\",\"id\":\"315d382b-82e7-4abf-8a9f-74e80d83357e\"},\"formatter\":{\"type\":\"object\",\"name\":\"CategoricalTickFormatter\",\"id\":\"fcf4187a-8ed5-454f-adbf-b0fd6e0eef5b\"},\"axis_label\":\"post_str_blast\",\"major_label_policy\":{\"type\":\"object\",\"name\":\"AllLabels\",\"id\":\"a4baea4d-7fb9-4e92-9c53-70ac29c9df08\"}}}],\"center\":[{\"type\":\"object\",\"name\":\"Grid\",\"id\":\"25f679e4-1781-4b74-bf51-dd2e3c17e175\",\"attributes\":{\"axis\":{\"id\":\"af37a004-57a0-4be6-91d2-8c9dcd6e4276\"},\"grid_line_color\":null}},{\"type\":\"object\",\"name\":\"Grid\",\"id\":\"cd876835-ae56-4eb6-893c-64980224873b\",\"attributes\":{\"dimension\":1,\"axis\":{\"id\":\"2eac1e8a-7627-4d0e-a8a5-8efcb5350caa\"},\"grid_line_color\":null}}],\"min_border_top\":10,\"min_border_bottom\":10,\"min_border_left\":10,\"min_border_right\":10,\"output_backend\":\"webgl\"}},{\"type\":\"object\",\"name\":\"Spacer\",\"id\":\"f121287d-53af-4aee-9e3d-6c446c06e532\",\"attributes\":{\"name\":\"HSpacer00575\",\"stylesheets\":[\"\\n:host(.pn-loading):before, .pn-loading:before {\\n  background-color: #c3c3c3;\\n  mask-size: auto calc(min(50%, 400px));\\n  -webkit-mask-size: auto calc(min(50%, 400px));\\n}\",{\"id\":\"8698d69a-858c-4450-82e7-1662b81f7159\"},{\"id\":\"bef41d15-ad62-4114-868f-b161c85a83b0\"},{\"id\":\"78f2ea8d-5aab-4b47-a204-ed14deb7561b\"}],\"margin\":0,\"sizing_mode\":\"stretch_width\",\"align\":\"start\"}}]}}],\"defs\":[{\"type\":\"model\",\"name\":\"ReactiveHTML1\"},{\"type\":\"model\",\"name\":\"FlexBox1\",\"properties\":[{\"name\":\"align_content\",\"kind\":\"Any\",\"default\":\"flex-start\"},{\"name\":\"align_items\",\"kind\":\"Any\",\"default\":\"flex-start\"},{\"name\":\"flex_direction\",\"kind\":\"Any\",\"default\":\"row\"},{\"name\":\"flex_wrap\",\"kind\":\"Any\",\"default\":\"wrap\"},{\"name\":\"gap\",\"kind\":\"Any\",\"default\":\"\"},{\"name\":\"justify_content\",\"kind\":\"Any\",\"default\":\"flex-start\"}]},{\"type\":\"model\",\"name\":\"FloatPanel1\",\"properties\":[{\"name\":\"config\",\"kind\":\"Any\",\"default\":{\"type\":\"map\"}},{\"name\":\"contained\",\"kind\":\"Any\",\"default\":true},{\"name\":\"position\",\"kind\":\"Any\",\"default\":\"right-top\"},{\"name\":\"offsetx\",\"kind\":\"Any\",\"default\":null},{\"name\":\"offsety\",\"kind\":\"Any\",\"default\":null},{\"name\":\"theme\",\"kind\":\"Any\",\"default\":\"primary\"},{\"name\":\"status\",\"kind\":\"Any\",\"default\":\"normalized\"}]},{\"type\":\"model\",\"name\":\"GridStack1\",\"properties\":[{\"name\":\"ncols\",\"kind\":\"Any\",\"default\":null},{\"name\":\"nrows\",\"kind\":\"Any\",\"default\":null},{\"name\":\"allow_resize\",\"kind\":\"Any\",\"default\":true},{\"name\":\"allow_drag\",\"kind\":\"Any\",\"default\":true},{\"name\":\"state\",\"kind\":\"Any\",\"default\":[]}]},{\"type\":\"model\",\"name\":\"drag1\",\"properties\":[{\"name\":\"slider_width\",\"kind\":\"Any\",\"default\":5},{\"name\":\"slider_color\",\"kind\":\"Any\",\"default\":\"black\"},{\"name\":\"value\",\"kind\":\"Any\",\"default\":50}]},{\"type\":\"model\",\"name\":\"click1\",\"properties\":[{\"name\":\"terminal_output\",\"kind\":\"Any\",\"default\":\"\"},{\"name\":\"debug_name\",\"kind\":\"Any\",\"default\":\"\"},{\"name\":\"clears\",\"kind\":\"Any\",\"default\":0}]},{\"type\":\"model\",\"name\":\"FastWrapper1\",\"properties\":[{\"name\":\"object\",\"kind\":\"Any\",\"default\":null},{\"name\":\"style\",\"kind\":\"Any\",\"default\":null}]},{\"type\":\"model\",\"name\":\"NotificationArea1\",\"properties\":[{\"name\":\"js_events\",\"kind\":\"Any\",\"default\":{\"type\":\"map\"}},{\"name\":\"max_notifications\",\"kind\":\"Any\",\"default\":5},{\"name\":\"notifications\",\"kind\":\"Any\",\"default\":[]},{\"name\":\"position\",\"kind\":\"Any\",\"default\":\"bottom-right\"},{\"name\":\"_clear\",\"kind\":\"Any\",\"default\":0},{\"name\":\"types\",\"kind\":\"Any\",\"default\":[{\"type\":\"map\",\"entries\":[[\"type\",\"warning\"],[\"background\",\"#ffc107\"],[\"icon\",{\"type\":\"map\",\"entries\":[[\"className\",\"fas fa-exclamation-triangle\"],[\"tagName\",\"i\"],[\"color\",\"white\"]]}]]},{\"type\":\"map\",\"entries\":[[\"type\",\"info\"],[\"background\",\"#007bff\"],[\"icon\",{\"type\":\"map\",\"entries\":[[\"className\",\"fas fa-info-circle\"],[\"tagName\",\"i\"],[\"color\",\"white\"]]}]]}]}]},{\"type\":\"model\",\"name\":\"Notification\",\"properties\":[{\"name\":\"background\",\"kind\":\"Any\",\"default\":null},{\"name\":\"duration\",\"kind\":\"Any\",\"default\":3000},{\"name\":\"icon\",\"kind\":\"Any\",\"default\":null},{\"name\":\"message\",\"kind\":\"Any\",\"default\":\"\"},{\"name\":\"notification_type\",\"kind\":\"Any\",\"default\":null},{\"name\":\"_rendered\",\"kind\":\"Any\",\"default\":false},{\"name\":\"_destroyed\",\"kind\":\"Any\",\"default\":false}]},{\"type\":\"model\",\"name\":\"TemplateActions1\",\"properties\":[{\"name\":\"open_modal\",\"kind\":\"Any\",\"default\":0},{\"name\":\"close_modal\",\"kind\":\"Any\",\"default\":0}]},{\"type\":\"model\",\"name\":\"BootstrapTemplateActions1\",\"properties\":[{\"name\":\"open_modal\",\"kind\":\"Any\",\"default\":0},{\"name\":\"close_modal\",\"kind\":\"Any\",\"default\":0}]},{\"type\":\"model\",\"name\":\"TemplateEditor1\",\"properties\":[{\"name\":\"layout\",\"kind\":\"Any\",\"default\":[]}]},{\"type\":\"model\",\"name\":\"MaterialTemplateActions1\",\"properties\":[{\"name\":\"open_modal\",\"kind\":\"Any\",\"default\":0},{\"name\":\"close_modal\",\"kind\":\"Any\",\"default\":0}]},{\"type\":\"model\",\"name\":\"ReactiveESM1\",\"properties\":[{\"name\":\"esm_constants\",\"kind\":\"Any\",\"default\":{\"type\":\"map\"}}]},{\"type\":\"model\",\"name\":\"JSComponent1\",\"properties\":[{\"name\":\"esm_constants\",\"kind\":\"Any\",\"default\":{\"type\":\"map\"}}]},{\"type\":\"model\",\"name\":\"ReactComponent1\",\"properties\":[{\"name\":\"esm_constants\",\"kind\":\"Any\",\"default\":{\"type\":\"map\"}}]},{\"type\":\"model\",\"name\":\"AnyWidgetComponent1\",\"properties\":[{\"name\":\"esm_constants\",\"kind\":\"Any\",\"default\":{\"type\":\"map\"}}]},{\"type\":\"model\",\"name\":\"request_value1\",\"properties\":[{\"name\":\"fill\",\"kind\":\"Any\",\"default\":\"none\"},{\"name\":\"_synced\",\"kind\":\"Any\",\"default\":null},{\"name\":\"_request_sync\",\"kind\":\"Any\",\"default\":0}]}]}};\n",
       "  var render_items = [{\"docid\":\"7a79bfb6-3afa-4280-86ca-d4c2c80db3ee\",\"roots\":{\"ab09792d-37e3-4e8d-a547-804dfa529ee3\":\"ce4f67f3-0667-447a-881b-9bbceeeb30ff\"},\"root_ids\":[\"ab09792d-37e3-4e8d-a547-804dfa529ee3\"]}];\n",
       "  var docs = Object.values(docs_json)\n",
       "  if (!docs) {\n",
       "    return\n",
       "  }\n",
       "  const py_version = docs[0].version.replace('rc', '-rc.').replace('.dev', '-dev.')\n",
       "  async function embed_document(root) {\n",
       "    var Bokeh = get_bokeh(root)\n",
       "    await Bokeh.embed.embed_items_notebook(docs_json, render_items);\n",
       "    for (const render_item of render_items) {\n",
       "      for (const root_id of render_item.root_ids) {\n",
       "\tconst id_el = document.getElementById(root_id)\n",
       "\tif (id_el.children.length && id_el.children[0].hasAttribute('data-root-id')) {\n",
       "\t  const root_el = id_el.children[0]\n",
       "\t  root_el.id = root_el.id + '-rendered'\n",
       "\t  for (const child of root_el.children) {\n",
       "            // Ensure JupyterLab does not capture keyboard shortcuts\n",
       "            // see: https://jupyterlab.readthedocs.io/en/4.1.x/extension/notebook.html#keyboard-interaction-model\n",
       "\t    child.setAttribute('data-lm-suppress-shortcuts', 'true')\n",
       "\t  }\n",
       "\t}\n",
       "      }\n",
       "    }\n",
       "  }\n",
       "  function get_bokeh(root) {\n",
       "    if (root.Bokeh === undefined) {\n",
       "      return null\n",
       "    } else if (root.Bokeh.version !== py_version) {\n",
       "      if (root.Bokeh.versions === undefined || !root.Bokeh.versions.has(py_version)) {\n",
       "\treturn null\n",
       "      }\n",
       "      return root.Bokeh.versions.get(py_version);\n",
       "    } else if (root.Bokeh.version === py_version) {\n",
       "      return root.Bokeh\n",
       "    }\n",
       "    return null\n",
       "  }\n",
       "  function is_loaded(root) {\n",
       "    var Bokeh = get_bokeh(root)\n",
       "    return (Bokeh != null && Bokeh.Panel !== undefined)\n",
       "  }\n",
       "  if (is_loaded(root)) {\n",
       "    embed_document(root);\n",
       "  } else {\n",
       "    var attempts = 0;\n",
       "    var timer = setInterval(function(root) {\n",
       "      if (is_loaded(root)) {\n",
       "        clearInterval(timer);\n",
       "        embed_document(root);\n",
       "      } else if (document.readyState == \"complete\") {\n",
       "        attempts++;\n",
       "        if (attempts > 200) {\n",
       "          clearInterval(timer);\n",
       "\t  var Bokeh = get_bokeh(root)\n",
       "\t  if (Bokeh == null || Bokeh.Panel == null) {\n",
       "            console.warn(\"Panel: ERROR: Unable to run Panel code because Bokeh or Panel library is missing\");\n",
       "\t  } else {\n",
       "\t    console.warn(\"Panel: WARNING: Attempting to render but not all required libraries could be resolved.\")\n",
       "\t    embed_document(root)\n",
       "\t  }\n",
       "        }\n",
       "      }\n",
       "    }, 25, root)\n",
       "  }\n",
       "})(window);</script>"
      ],
      "text/plain": [
       ":Overlay\n",
       "   .Bars.I    :Bars   [post_str_blast]   (percent)\n",
       "   .HLine.I   :HLine   [x,y]\n",
       "   .HLine.II  :HLine   [x,y]\n",
       "   .HLine.III :HLine   [x,y]"
      ]
     },
     "metadata": {
      "application/vnd.holoviews_exec.v0+json": {
       "id": "ab09792d-37e3-4e8d-a547-804dfa529ee3"
      }
     },
     "output_type": "display_data"
    },
    {
     "name": "stdout",
     "output_type": "stream",
     "text": [
      "df_10_last FOR str_b5 = 35\n",
      "Last 3 results last_results=['35', '34', '24']\n"
     ]
    },
    {
     "data": {
      "text/html": [
       "<div><style>\n",
       ".dataframe > thead > tr,\n",
       ".dataframe > tbody > tr {\n",
       "  text-align: right;\n",
       "  white-space: pre-wrap;\n",
       "}\n",
       "</style>\n",
       "<small>shape: (10, 24)</small><table border=\"1\" class=\"dataframe\"><thead><tr><th>fecha</th><th>sorteo</th><th>bolillas</th><th>id</th><th>combo</th><th>b1</th><th>b2</th><th>b3</th><th>b4</th><th>b5</th><th>str_b1</th><th>str_b2</th><th>str_b3</th><th>str_b4</th><th>str_b5</th><th>post_str_b1</th><th>post_str_b2</th><th>post_str_b3</th><th>post_str_b4</th><th>post_str_blast</th><th>is_rare_combination</th><th>reason</th><th>jumps_map</th><th>unijump</th></tr><tr><td>str</td><td>str</td><td>str</td><td>str</td><td>array[u8, 5]</td><td>u8</td><td>u8</td><td>u8</td><td>u8</td><td>u8</td><td>str</td><td>str</td><td>str</td><td>str</td><td>str</td><td>str</td><td>str</td><td>str</td><td>str</td><td>str</td><td>bool</td><td>u8</td><td>str</td><td>i64</td></tr></thead><tbody><tr><td>&quot;25/04/2025&quot;</td><td>&quot;4197&quot;</td><td>&quot;27 31 35 03 20&quot;</td><td>&quot;0320273135&quot;</td><td>[3, 20, … 35]</td><td>3</td><td>20</td><td>27</td><td>31</td><td>35</td><td>&quot;03&quot;</td><td>&quot;20&quot;</td><td>&quot;27&quot;</td><td>&quot;31&quot;</td><td>&quot;35&quot;</td><td>&quot;07&quot;</td><td>&quot;21&quot;</td><td>&quot;23&quot;</td><td>&quot;26&quot;</td><td>&quot;35&quot;</td><td>true</td><td>8</td><td>&quot;17_07_04_04&quot;</td><td>-4</td></tr><tr><td>&quot;06/04/2025&quot;</td><td>&quot;4178&quot;</td><td>&quot;07 35 24 34 14&quot;</td><td>&quot;0714243435&quot;</td><td>[7, 14, … 35]</td><td>7</td><td>14</td><td>24</td><td>34</td><td>35</td><td>&quot;07&quot;</td><td>&quot;14&quot;</td><td>&quot;24&quot;</td><td>&quot;34&quot;</td><td>&quot;35&quot;</td><td>&quot;07&quot;</td><td>&quot;08&quot;</td><td>&quot;21&quot;</td><td>&quot;22&quot;</td><td>&quot;24&quot;</td><td>true</td><td>8</td><td>&quot;07_10_10_01&quot;</td><td>-6</td></tr><tr><td>&quot;04/04/2025&quot;</td><td>&quot;4176&quot;</td><td>&quot;27 24 32 30 35&quot;</td><td>&quot;2427303235&quot;</td><td>[24, 27, … 35]</td><td>24</td><td>27</td><td>30</td><td>32</td><td>35</td><td>&quot;24&quot;</td><td>&quot;27&quot;</td><td>&quot;30&quot;</td><td>&quot;32&quot;</td><td>&quot;35&quot;</td><td>&quot;05&quot;</td><td>&quot;15&quot;</td><td>&quot;16&quot;</td><td>&quot;33&quot;</td><td>&quot;34&quot;</td><td>true</td><td>24</td><td>&quot;03_03_02_03&quot;</td><td>3</td></tr><tr><td>&quot;30/03/2025&quot;</td><td>&quot;4171&quot;</td><td>&quot;35 05 15 29 03&quot;</td><td>&quot;0305152935&quot;</td><td>[3, 5, … 35]</td><td>3</td><td>5</td><td>15</td><td>29</td><td>35</td><td>&quot;03&quot;</td><td>&quot;05&quot;</td><td>&quot;15&quot;</td><td>&quot;29&quot;</td><td>&quot;35&quot;</td><td>&quot;07&quot;</td><td>&quot;16&quot;</td><td>&quot;22&quot;</td><td>&quot;26&quot;</td><td>&quot;34&quot;</td><td>true</td><td>2</td><td>&quot;02_10_14_06&quot;</td><td>-8</td></tr><tr><td>&quot;27/03/2025&quot;</td><td>&quot;4168&quot;</td><td>&quot;27 35 05 32 08&quot;</td><td>&quot;0508273235&quot;</td><td>[5, 8, … 35]</td><td>5</td><td>8</td><td>27</td><td>32</td><td>35</td><td>&quot;05&quot;</td><td>&quot;08&quot;</td><td>&quot;27&quot;</td><td>&quot;32&quot;</td><td>&quot;35&quot;</td><td>&quot;01&quot;</td><td>&quot;09&quot;</td><td>&quot;10&quot;</td><td>&quot;20&quot;</td><td>&quot;29&quot;</td><td>true</td><td>16</td><td>&quot;03_19_05_03&quot;</td><td>42</td></tr><tr><td>&quot;25/03/2025&quot;</td><td>&quot;4166&quot;</td><td>&quot;29 06 35 22 04&quot;</td><td>&quot;0406222935&quot;</td><td>[4, 6, … 35]</td><td>4</td><td>6</td><td>22</td><td>29</td><td>35</td><td>&quot;04&quot;</td><td>&quot;06&quot;</td><td>&quot;22&quot;</td><td>&quot;29&quot;</td><td>&quot;35&quot;</td><td>&quot;06&quot;</td><td>&quot;24&quot;</td><td>&quot;26&quot;</td><td>&quot;29&quot;</td><td>&quot;34&quot;</td><td>true</td><td>16</td><td>&quot;02_16_07_06&quot;</td><td>31</td></tr><tr><td>&quot;14/03/2025&quot;</td><td>&quot;4155&quot;</td><td>&quot;35 11 03 07 15&quot;</td><td>&quot;0307111535&quot;</td><td>[3, 7, … 35]</td><td>3</td><td>7</td><td>11</td><td>15</td><td>35</td><td>&quot;03&quot;</td><td>&quot;07&quot;</td><td>&quot;11&quot;</td><td>&quot;15&quot;</td><td>&quot;35&quot;</td><td>&quot;02&quot;</td><td>&quot;05&quot;</td><td>&quot;15&quot;</td><td>&quot;16&quot;</td><td>&quot;27&quot;</td><td>true</td><td>26</td><td>&quot;04_04_04_20&quot;</td><td>16</td></tr><tr><td>&quot;12/03/2025&quot;</td><td>&quot;4153&quot;</td><td>&quot;28 14 35 03 15&quot;</td><td>&quot;0314152835&quot;</td><td>[3, 14, … 35]</td><td>3</td><td>14</td><td>15</td><td>28</td><td>35</td><td>&quot;03&quot;</td><td>&quot;14&quot;</td><td>&quot;15&quot;</td><td>&quot;28&quot;</td><td>&quot;35&quot;</td><td>&quot;07&quot;</td><td>&quot;17&quot;</td><td>&quot;18&quot;</td><td>&quot;19&quot;</td><td>&quot;30&quot;</td><td>false</td><td>0</td><td>&quot;11_01_13_07&quot;</td><td>-40</td></tr><tr><td>&quot;08/03/2025&quot;</td><td>&quot;4149&quot;</td><td>&quot;02 35 30 32 16&quot;</td><td>&quot;0216303235&quot;</td><td>[2, 16, … 35]</td><td>2</td><td>16</td><td>30</td><td>32</td><td>35</td><td>&quot;02&quot;</td><td>&quot;16&quot;</td><td>&quot;30&quot;</td><td>&quot;32&quot;</td><td>&quot;35&quot;</td><td>&quot;02&quot;</td><td>&quot;04&quot;</td><td>&quot;15&quot;</td><td>&quot;16&quot;</td><td>&quot;31&quot;</td><td>true</td><td>8</td><td>&quot;14_14_02_03&quot;</td><td>25</td></tr><tr><td>&quot;06/03/2025&quot;</td><td>&quot;4147&quot;</td><td>&quot;30 17 13 21 35&quot;</td><td>&quot;1317213035&quot;</td><td>[13, 17, … 35]</td><td>13</td><td>17</td><td>21</td><td>30</td><td>35</td><td>&quot;13&quot;</td><td>&quot;17&quot;</td><td>&quot;21&quot;</td><td>&quot;30&quot;</td><td>&quot;35&quot;</td><td>&quot;03&quot;</td><td>&quot;07&quot;</td><td>&quot;24&quot;</td><td>&quot;26&quot;</td><td>&quot;30&quot;</td><td>true</td><td>8</td><td>&quot;04_04_09_05&quot;</td><td>-14</td></tr></tbody></table></div>"
      ],
      "text/plain": [
       "shape: (10, 24)\n",
       "┌────────────┬────────┬─────────────┬────────────┬───┬─────────────┬────────┬────────────┬─────────┐\n",
       "│ fecha      ┆ sorteo ┆ bolillas    ┆ id         ┆ … ┆ is_rare_com ┆ reason ┆ jumps_map  ┆ unijump │\n",
       "│ ---        ┆ ---    ┆ ---         ┆ ---        ┆   ┆ bination    ┆ ---    ┆ ---        ┆ ---     │\n",
       "│ str        ┆ str    ┆ str         ┆ str        ┆   ┆ ---         ┆ u8     ┆ str        ┆ i64     │\n",
       "│            ┆        ┆             ┆            ┆   ┆ bool        ┆        ┆            ┆         │\n",
       "╞════════════╪════════╪═════════════╪════════════╪═══╪═════════════╪════════╪════════════╪═════════╡\n",
       "│ 25/04/2025 ┆ 4197   ┆ 27 31 35 03 ┆ 0320273135 ┆ … ┆ true        ┆ 8      ┆ 17_07_04_0 ┆ -4      │\n",
       "│            ┆        ┆ 20          ┆            ┆   ┆             ┆        ┆ 4          ┆         │\n",
       "│ 06/04/2025 ┆ 4178   ┆ 07 35 24 34 ┆ 0714243435 ┆ … ┆ true        ┆ 8      ┆ 07_10_10_0 ┆ -6      │\n",
       "│            ┆        ┆ 14          ┆            ┆   ┆             ┆        ┆ 1          ┆         │\n",
       "│ 04/04/2025 ┆ 4176   ┆ 27 24 32 30 ┆ 2427303235 ┆ … ┆ true        ┆ 24     ┆ 03_03_02_0 ┆ 3       │\n",
       "│            ┆        ┆ 35          ┆            ┆   ┆             ┆        ┆ 3          ┆         │\n",
       "│ 30/03/2025 ┆ 4171   ┆ 35 05 15 29 ┆ 0305152935 ┆ … ┆ true        ┆ 2      ┆ 02_10_14_0 ┆ -8      │\n",
       "│            ┆        ┆ 03          ┆            ┆   ┆             ┆        ┆ 6          ┆         │\n",
       "│ 27/03/2025 ┆ 4168   ┆ 27 35 05 32 ┆ 0508273235 ┆ … ┆ true        ┆ 16     ┆ 03_19_05_0 ┆ 42      │\n",
       "│            ┆        ┆ 08          ┆            ┆   ┆             ┆        ┆ 3          ┆         │\n",
       "│ 25/03/2025 ┆ 4166   ┆ 29 06 35 22 ┆ 0406222935 ┆ … ┆ true        ┆ 16     ┆ 02_16_07_0 ┆ 31      │\n",
       "│            ┆        ┆ 04          ┆            ┆   ┆             ┆        ┆ 6          ┆         │\n",
       "│ 14/03/2025 ┆ 4155   ┆ 35 11 03 07 ┆ 0307111535 ┆ … ┆ true        ┆ 26     ┆ 04_04_04_2 ┆ 16      │\n",
       "│            ┆        ┆ 15          ┆            ┆   ┆             ┆        ┆ 0          ┆         │\n",
       "│ 12/03/2025 ┆ 4153   ┆ 28 14 35 03 ┆ 0314152835 ┆ … ┆ false       ┆ 0      ┆ 11_01_13_0 ┆ -40     │\n",
       "│            ┆        ┆ 15          ┆            ┆   ┆             ┆        ┆ 7          ┆         │\n",
       "│ 08/03/2025 ┆ 4149   ┆ 02 35 30 32 ┆ 0216303235 ┆ … ┆ true        ┆ 8      ┆ 14_14_02_0 ┆ 25      │\n",
       "│            ┆        ┆ 16          ┆            ┆   ┆             ┆        ┆ 3          ┆         │\n",
       "│ 06/03/2025 ┆ 4147   ┆ 30 17 13 21 ┆ 1317213035 ┆ … ┆ true        ┆ 8      ┆ 04_04_09_0 ┆ -14     │\n",
       "│            ┆        ┆ 35          ┆            ┆   ┆             ┆        ┆ 5          ┆         │\n",
       "└────────────┴────────┴─────────────┴────────────┴───┴─────────────┴────────┴────────────┴─────────┘"
      ]
     },
     "metadata": {},
     "output_type": "display_data"
    },
    {
     "name": "stdout",
     "output_type": "stream",
     "text": [
      "df_jumps_map FOR str_b5 = 35\n"
     ]
    },
    {
     "data": {
      "text/html": [
       "<div><style>\n",
       ".dataframe > thead > tr,\n",
       ".dataframe > tbody > tr {\n",
       "  text-align: right;\n",
       "  white-space: pre-wrap;\n",
       "}\n",
       "</style>\n",
       "<small>shape: (1_094, 2)</small><table border=\"1\" class=\"dataframe\"><thead><tr><th>jumps_map</th><th>count</th></tr><tr><td>str</td><td>u32</td></tr></thead><tbody><tr><td>&quot;01_06_14_02&quot;</td><td>3</td></tr><tr><td>&quot;03_03_19_08&quot;</td><td>2</td></tr><tr><td>&quot;03_04_12_10&quot;</td><td>2</td></tr><tr><td>&quot;08_01_01_18&quot;</td><td>2</td></tr><tr><td>&quot;04_04_17_05&quot;</td><td>2</td></tr><tr><td>&hellip;</td><td>&hellip;</td></tr><tr><td>&quot;01_20_09_03&quot;</td><td>1</td></tr><tr><td>&quot;01_13_07_09&quot;</td><td>1</td></tr><tr><td>&quot;02_11_03_09&quot;</td><td>1</td></tr><tr><td>&quot;19_03_03_09&quot;</td><td>1</td></tr><tr><td>&quot;02_12_12_06&quot;</td><td>1</td></tr></tbody></table></div>"
      ],
      "text/plain": [
       "shape: (1_094, 2)\n",
       "┌─────────────┬───────┐\n",
       "│ jumps_map   ┆ count │\n",
       "│ ---         ┆ ---   │\n",
       "│ str         ┆ u32   │\n",
       "╞═════════════╪═══════╡\n",
       "│ 01_06_14_02 ┆ 3     │\n",
       "│ 03_03_19_08 ┆ 2     │\n",
       "│ 03_04_12_10 ┆ 2     │\n",
       "│ 08_01_01_18 ┆ 2     │\n",
       "│ 04_04_17_05 ┆ 2     │\n",
       "│ …           ┆ …     │\n",
       "│ 01_20_09_03 ┆ 1     │\n",
       "│ 01_13_07_09 ┆ 1     │\n",
       "│ 02_11_03_09 ┆ 1     │\n",
       "│ 19_03_03_09 ┆ 1     │\n",
       "│ 02_12_12_06 ┆ 1     │\n",
       "└─────────────┴───────┘"
      ]
     },
     "metadata": {},
     "output_type": "display_data"
    },
    {
     "name": "stdout",
     "output_type": "stream",
     "text": [
      "df_unijump FOR str_b5 = 35\n"
     ]
    },
    {
     "data": {
      "text/html": [
       "<div><style>\n",
       ".dataframe > thead > tr,\n",
       ".dataframe > tbody > tr {\n",
       "  text-align: right;\n",
       "  white-space: pre-wrap;\n",
       "}\n",
       "</style>\n",
       "<small>shape: (132, 2)</small><table border=\"1\" class=\"dataframe\"><thead><tr><th>unijump</th><th>count</th></tr><tr><td>i64</td><td>u32</td></tr></thead><tbody><tr><td>10</td><td>28</td></tr><tr><td>-4</td><td>24</td></tr><tr><td>-1</td><td>23</td></tr><tr><td>-7</td><td>22</td></tr><tr><td>12</td><td>21</td></tr><tr><td>&hellip;</td><td>&hellip;</td></tr><tr><td>76</td><td>1</td></tr><tr><td>38</td><td>1</td></tr><tr><td>56</td><td>1</td></tr><tr><td>-63</td><td>1</td></tr><tr><td>59</td><td>1</td></tr></tbody></table></div>"
      ],
      "text/plain": [
       "shape: (132, 2)\n",
       "┌─────────┬───────┐\n",
       "│ unijump ┆ count │\n",
       "│ ---     ┆ ---   │\n",
       "│ i64     ┆ u32   │\n",
       "╞═════════╪═══════╡\n",
       "│ 10      ┆ 28    │\n",
       "│ -4      ┆ 24    │\n",
       "│ -1      ┆ 23    │\n",
       "│ -7      ┆ 22    │\n",
       "│ 12      ┆ 21    │\n",
       "│ …       ┆ …     │\n",
       "│ 76      ┆ 1     │\n",
       "│ 38      ┆ 1     │\n",
       "│ 56      ┆ 1     │\n",
       "│ -63     ┆ 1     │\n",
       "│ 59      ┆ 1     │\n",
       "└─────────┴───────┘"
      ]
     },
     "metadata": {},
     "output_type": "display_data"
    }
   ],
   "source": [
    "possible_blast, exclude_jump_maps_blast, last_post_blast = plot_post_col(col='str_b5', post_col='post_str_blast')"
   ]
  },
  {
   "cell_type": "code",
   "execution_count": 13,
   "metadata": {},
   "outputs": [],
   "source": [
    "b_count = rr.CHOOSE\n",
    "min_b = rr.MIN_B_VALUES[0]\n",
    "max_b = rr.MAX_B_VALUES[-1]\n",
    "\n",
    "\n",
    "combos = combinations(range(min_b, max_b + 1), b_count)\n",
    "# print(\"generating combos: \", len(list(combos)))"
   ]
  },
  {
   "cell_type": "code",
   "execution_count": 14,
   "metadata": {},
   "outputs": [],
   "source": [
    "parquet_file = './parquet_gn_v3.parquet'\n",
    "\n",
    "# check if parquet_file exists\n",
    "if not os.path.exists(parquet_file):\n",
    "  print(f'{parquet_file=} does not exists. creating')\n",
    "  lst = []\n",
    "  post_str_b1 = None\n",
    "  post_str_blast = None\n",
    "  for row in combos:\n",
    "    cols = []\n",
    "    str_row = \" \".join([str(r).zfill(2) for r in row])\n",
    "    id, bolillas_int, str_combo = formalize_data_with_str(bolillas_str=str_row)\n",
    "    cols.append(id)\n",
    "    cols.append(bolillas_int)\n",
    "    cols.extend([b for b in bolillas_int])\n",
    "    cols.extend(str_combo)\n",
    "    cols.append(post_str_b1)\n",
    "    cols.append(post_str_blast)\n",
    "\n",
    "    is_rare, reason = rr.is_rare_combination(bolillas_int, id)\n",
    "    cols.append(is_rare)\n",
    "    cols.append(reason)\n",
    "\n",
    "    cols.append(rr.jumps_map(bolillas_int))\n",
    "    cols.append(rr.unijump(bolillas_int))\n",
    "    \n",
    "    lst.append(cols)\n",
    "\n",
    "    post_str_b1 = str_combo[0]\n",
    "    post_str_blast = str_combo[-1]\n",
    "\n",
    "  with open('./gn_cahe_v3.json', 'w') as file: \n",
    "    json.dump(lst, file)\n",
    "\n",
    "  df_Orows = pl.DataFrame(\n",
    "    lst,\n",
    "    schema=[\n",
    "      # 'fecha', 'sorteo', 'bolillas',\n",
    "      'id', 'combo', 'b1', 'b2', 'b3', 'b4', 'b5',\n",
    "      'str_b1', 'str_b2', 'str_b3', 'str_b4', 'str_b5',\n",
    "      'post_str_b1', 'post_str_blast',\n",
    "      'is_rare_combination', 'reason',\n",
    "      \"jumps_map\", \"unijump\"\n",
    "    ],\n",
    "    schema_overrides={\n",
    "      'combo': pl.Array(pl.UInt8, 5),\n",
    "      'b1': pl.UInt8,\n",
    "      'b2': pl.UInt8,\n",
    "      'b3': pl.UInt8,\n",
    "      'b4': pl.UInt8,\n",
    "      'b5': pl.UInt8,\n",
    "      'b6': pl.UInt8,\n",
    "      'reason': pl.UInt8\n",
    "    },\n",
    "    orient='row'\n",
    "  )\n",
    "\n",
    "  df_Orows.write_parquet(parquet_file)\n",
    "  TOTAL_LINES = len(df_Orows)\n",
    "  print(f'{TOTAL_LINES=} loaded to {parquet_file=}')\n",
    "\n",
    "  display(df_Orows.head(10))\n",
    "else:\n",
    "  df_Orows = pl.read_parquet(parquet_file)"
   ]
  },
  {
   "cell_type": "code",
   "execution_count": 15,
   "metadata": {},
   "outputs": [
    {
     "data": {
      "text/html": [
       "<div><style>\n",
       ".dataframe > thead > tr,\n",
       ".dataframe > tbody > tr {\n",
       "  text-align: right;\n",
       "  white-space: pre-wrap;\n",
       "}\n",
       "</style>\n",
       "<small>shape: (15_098, 18)</small><table border=\"1\" class=\"dataframe\"><thead><tr><th>id</th><th>combo</th><th>b1</th><th>b2</th><th>b3</th><th>b4</th><th>b5</th><th>str_b1</th><th>str_b2</th><th>str_b3</th><th>str_b4</th><th>str_b5</th><th>post_str_b1</th><th>post_str_blast</th><th>is_rare_combination</th><th>reason</th><th>jumps_map</th><th>unijump</th></tr><tr><td>str</td><td>array[u8, 5]</td><td>u8</td><td>u8</td><td>u8</td><td>u8</td><td>u8</td><td>str</td><td>str</td><td>str</td><td>str</td><td>str</td><td>str</td><td>str</td><td>bool</td><td>u8</td><td>str</td><td>i64</td></tr></thead><tbody><tr><td>&quot;0105111832&quot;</td><td>[1, 5, … 32]</td><td>1</td><td>5</td><td>11</td><td>18</td><td>32</td><td>&quot;01&quot;</td><td>&quot;05&quot;</td><td>&quot;11&quot;</td><td>&quot;18&quot;</td><td>&quot;32&quot;</td><td>&quot;01&quot;</td><td>&quot;31&quot;</td><td>false</td><td>0</td><td>&quot;04_06_07_14&quot;</td><td>7</td></tr><tr><td>&quot;0105111932&quot;</td><td>[1, 5, … 32]</td><td>1</td><td>5</td><td>11</td><td>19</td><td>32</td><td>&quot;01&quot;</td><td>&quot;05&quot;</td><td>&quot;11&quot;</td><td>&quot;19&quot;</td><td>&quot;32&quot;</td><td>&quot;01&quot;</td><td>&quot;31&quot;</td><td>false</td><td>0</td><td>&quot;04_06_08_13&quot;</td><td>3</td></tr><tr><td>&quot;0105112031&quot;</td><td>[1, 5, … 31]</td><td>1</td><td>5</td><td>11</td><td>20</td><td>31</td><td>&quot;01&quot;</td><td>&quot;05&quot;</td><td>&quot;11&quot;</td><td>&quot;20&quot;</td><td>&quot;31&quot;</td><td>&quot;01&quot;</td><td>&quot;30&quot;</td><td>false</td><td>0</td><td>&quot;04_06_09_11&quot;</td><td>-2</td></tr><tr><td>&quot;0105112032&quot;</td><td>[1, 5, … 32]</td><td>1</td><td>5</td><td>11</td><td>20</td><td>32</td><td>&quot;01&quot;</td><td>&quot;05&quot;</td><td>&quot;11&quot;</td><td>&quot;20&quot;</td><td>&quot;32&quot;</td><td>&quot;01&quot;</td><td>&quot;31&quot;</td><td>false</td><td>0</td><td>&quot;04_06_09_12&quot;</td><td>-1</td></tr><tr><td>&quot;0105112033&quot;</td><td>[1, 5, … 33]</td><td>1</td><td>5</td><td>11</td><td>20</td><td>33</td><td>&quot;01&quot;</td><td>&quot;05&quot;</td><td>&quot;11&quot;</td><td>&quot;20&quot;</td><td>&quot;33&quot;</td><td>&quot;01&quot;</td><td>&quot;32&quot;</td><td>false</td><td>0</td><td>&quot;04_06_09_13&quot;</td><td>0</td></tr><tr><td>&hellip;</td><td>&hellip;</td><td>&hellip;</td><td>&hellip;</td><td>&hellip;</td><td>&hellip;</td><td>&hellip;</td><td>&hellip;</td><td>&hellip;</td><td>&hellip;</td><td>&hellip;</td><td>&hellip;</td><td>&hellip;</td><td>&hellip;</td><td>&hellip;</td><td>&hellip;</td><td>&hellip;</td><td>&hellip;</td></tr><tr><td>&quot;0919242830&quot;</td><td>[9, 19, … 30]</td><td>9</td><td>19</td><td>24</td><td>28</td><td>30</td><td>&quot;09&quot;</td><td>&quot;19&quot;</td><td>&quot;24&quot;</td><td>&quot;28&quot;</td><td>&quot;30&quot;</td><td>&quot;09&quot;</td><td>&quot;29&quot;</td><td>false</td><td>0</td><td>&quot;10_05_04_02&quot;</td><td>-5</td></tr><tr><td>&quot;0919242831&quot;</td><td>[9, 19, … 31]</td><td>9</td><td>19</td><td>24</td><td>28</td><td>31</td><td>&quot;09&quot;</td><td>&quot;19&quot;</td><td>&quot;24&quot;</td><td>&quot;28&quot;</td><td>&quot;31&quot;</td><td>&quot;09&quot;</td><td>&quot;30&quot;</td><td>false</td><td>0</td><td>&quot;10_05_04_03&quot;</td><td>-4</td></tr><tr><td>&quot;0919242833&quot;</td><td>[9, 19, … 33]</td><td>9</td><td>19</td><td>24</td><td>28</td><td>33</td><td>&quot;09&quot;</td><td>&quot;19&quot;</td><td>&quot;24&quot;</td><td>&quot;28&quot;</td><td>&quot;33&quot;</td><td>&quot;09&quot;</td><td>&quot;32&quot;</td><td>false</td><td>0</td><td>&quot;10_05_04_05&quot;</td><td>-2</td></tr><tr><td>&quot;0919243031&quot;</td><td>[9, 19, … 31]</td><td>9</td><td>19</td><td>24</td><td>30</td><td>31</td><td>&quot;09&quot;</td><td>&quot;19&quot;</td><td>&quot;24&quot;</td><td>&quot;30&quot;</td><td>&quot;31&quot;</td><td>&quot;09&quot;</td><td>&quot;35&quot;</td><td>false</td><td>0</td><td>&quot;10_05_06_01&quot;</td><td>-12</td></tr><tr><td>&quot;0919243033&quot;</td><td>[9, 19, … 33]</td><td>9</td><td>19</td><td>24</td><td>30</td><td>33</td><td>&quot;09&quot;</td><td>&quot;19&quot;</td><td>&quot;24&quot;</td><td>&quot;30&quot;</td><td>&quot;33&quot;</td><td>&quot;09&quot;</td><td>&quot;32&quot;</td><td>false</td><td>0</td><td>&quot;10_05_06_03&quot;</td><td>-10</td></tr></tbody></table></div>"
      ],
      "text/plain": [
       "shape: (15_098, 18)\n",
       "┌────────────┬───────────────┬─────┬─────┬───┬────────────────────┬────────┬─────────────┬─────────┐\n",
       "│ id         ┆ combo         ┆ b1  ┆ b2  ┆ … ┆ is_rare_combinatio ┆ reason ┆ jumps_map   ┆ unijump │\n",
       "│ ---        ┆ ---           ┆ --- ┆ --- ┆   ┆ n                  ┆ ---    ┆ ---         ┆ ---     │\n",
       "│ str        ┆ array[u8, 5]  ┆ u8  ┆ u8  ┆   ┆ ---                ┆ u8     ┆ str         ┆ i64     │\n",
       "│            ┆               ┆     ┆     ┆   ┆ bool               ┆        ┆             ┆         │\n",
       "╞════════════╪═══════════════╪═════╪═════╪═══╪════════════════════╪════════╪═════════════╪═════════╡\n",
       "│ 0105111832 ┆ [1, 5, … 32]  ┆ 1   ┆ 5   ┆ … ┆ false              ┆ 0      ┆ 04_06_07_14 ┆ 7       │\n",
       "│ 0105111932 ┆ [1, 5, … 32]  ┆ 1   ┆ 5   ┆ … ┆ false              ┆ 0      ┆ 04_06_08_13 ┆ 3       │\n",
       "│ 0105112031 ┆ [1, 5, … 31]  ┆ 1   ┆ 5   ┆ … ┆ false              ┆ 0      ┆ 04_06_09_11 ┆ -2      │\n",
       "│ 0105112032 ┆ [1, 5, … 32]  ┆ 1   ┆ 5   ┆ … ┆ false              ┆ 0      ┆ 04_06_09_12 ┆ -1      │\n",
       "│ 0105112033 ┆ [1, 5, … 33]  ┆ 1   ┆ 5   ┆ … ┆ false              ┆ 0      ┆ 04_06_09_13 ┆ 0       │\n",
       "│ …          ┆ …             ┆ …   ┆ …   ┆ … ┆ …                  ┆ …      ┆ …           ┆ …       │\n",
       "│ 0919242830 ┆ [9, 19, … 30] ┆ 9   ┆ 19  ┆ … ┆ false              ┆ 0      ┆ 10_05_04_02 ┆ -5      │\n",
       "│ 0919242831 ┆ [9, 19, … 31] ┆ 9   ┆ 19  ┆ … ┆ false              ┆ 0      ┆ 10_05_04_03 ┆ -4      │\n",
       "│ 0919242833 ┆ [9, 19, … 33] ┆ 9   ┆ 19  ┆ … ┆ false              ┆ 0      ┆ 10_05_04_05 ┆ -2      │\n",
       "│ 0919243031 ┆ [9, 19, … 31] ┆ 9   ┆ 19  ┆ … ┆ false              ┆ 0      ┆ 10_05_06_01 ┆ -12     │\n",
       "│ 0919243033 ┆ [9, 19, … 33] ┆ 9   ┆ 19  ┆ … ┆ false              ┆ 0      ┆ 10_05_06_03 ┆ -10     │\n",
       "└────────────┴───────────────┴─────┴─────┴───┴────────────────────┴────────┴─────────────┴─────────┘"
      ]
     },
     "metadata": {},
     "output_type": "display_data"
    }
   ],
   "source": [
    "# possible_b1, exclude_jump_maps_b1\n",
    "df_possible = df_Orows.filter(\n",
    "  pl.col(\"str_b1\").is_in(possible_b1),\n",
    "  pl.col(\"str_b2\").is_in(possible_b2),\n",
    "  pl.col(\"str_b3\").is_in(possible_b3),\n",
    "  pl.col(\"str_b4\").is_in(possible_b4),\n",
    "  pl.col(\"str_b5\").is_in(possible_blast),\n",
    "  \n",
    "  ~pl.col(\"str_b1\").is_in(last_post_b1),\n",
    "  ~pl.col(\"str_b2\").is_in(last_post_b2),\n",
    "  ~pl.col(\"str_b3\").is_in(last_post_b3),\n",
    "  ~pl.col(\"str_b4\").is_in(last_post_b4),\n",
    "  ~pl.col(\"str_b5\").is_in(last_post_blast),\n",
    "\n",
    "  ~pl.col(\"jumps_map\").is_in(exclude_jump_maps_b1 + exclude_jump_maps_b2 + exclude_jump_maps_b3 + exclude_jump_maps_b4 + exclude_jump_maps_blast),\n",
    "  pl.col(\"is_rare_combination\") == False\n",
    ")\n",
    "\n",
    "\n",
    "display(df_possible)"
   ]
  },
  {
   "cell_type": "code",
   "execution_count": 16,
   "metadata": {},
   "outputs": [
    {
     "data": {
      "text/html": [
       "<div><style>\n",
       ".dataframe > thead > tr,\n",
       ".dataframe > tbody > tr {\n",
       "  text-align: right;\n",
       "  white-space: pre-wrap;\n",
       "}\n",
       "</style>\n",
       "<small>shape: (1, 18)</small><table border=\"1\" class=\"dataframe\"><thead><tr><th>id</th><th>combo</th><th>b1</th><th>b2</th><th>b3</th><th>b4</th><th>b5</th><th>str_b1</th><th>str_b2</th><th>str_b3</th><th>str_b4</th><th>str_b5</th><th>post_str_b1</th><th>post_str_blast</th><th>is_rare_combination</th><th>reason</th><th>jumps_map</th><th>unijump</th></tr><tr><td>str</td><td>array[u8, 5]</td><td>u8</td><td>u8</td><td>u8</td><td>u8</td><td>u8</td><td>str</td><td>str</td><td>str</td><td>str</td><td>str</td><td>str</td><td>str</td><td>bool</td><td>u8</td><td>str</td><td>i64</td></tr></thead><tbody><tr><td>&quot;0115182730&quot;</td><td>[1, 15, … 30]</td><td>1</td><td>15</td><td>18</td><td>27</td><td>30</td><td>&quot;01&quot;</td><td>&quot;15&quot;</td><td>&quot;18&quot;</td><td>&quot;27&quot;</td><td>&quot;30&quot;</td><td>&quot;01&quot;</td><td>&quot;29&quot;</td><td>false</td><td>0</td><td>&quot;14_03_09_03&quot;</td><td>-29</td></tr></tbody></table></div>"
      ],
      "text/plain": [
       "shape: (1, 18)\n",
       "┌────────────┬───────────────┬─────┬─────┬───┬────────────────────┬────────┬─────────────┬─────────┐\n",
       "│ id         ┆ combo         ┆ b1  ┆ b2  ┆ … ┆ is_rare_combinatio ┆ reason ┆ jumps_map   ┆ unijump │\n",
       "│ ---        ┆ ---           ┆ --- ┆ --- ┆   ┆ n                  ┆ ---    ┆ ---         ┆ ---     │\n",
       "│ str        ┆ array[u8, 5]  ┆ u8  ┆ u8  ┆   ┆ ---                ┆ u8     ┆ str         ┆ i64     │\n",
       "│            ┆               ┆     ┆     ┆   ┆ bool               ┆        ┆             ┆         │\n",
       "╞════════════╪═══════════════╪═════╪═════╪═══╪════════════════════╪════════╪═════════════╪═════════╡\n",
       "│ 0115182730 ┆ [1, 15, … 30] ┆ 1   ┆ 15  ┆ … ┆ false              ┆ 0      ┆ 14_03_09_03 ┆ -29     │\n",
       "└────────────┴───────────────┴─────┴─────┴───┴────────────────────┴────────┴─────────────┴─────────┘"
      ]
     },
     "execution_count": 16,
     "metadata": {},
     "output_type": "execute_result"
    }
   ],
   "source": [
    "df_possible.sample(n=1)\n"
   ]
  }
 ],
 "metadata": {
  "kernelspec": {
   "display_name": ".venv",
   "language": "python",
   "name": "python3"
  },
  "language_info": {
   "codemirror_mode": {
    "name": "ipython",
    "version": 3
   },
   "file_extension": ".py",
   "mimetype": "text/x-python",
   "name": "python",
   "nbconvert_exporter": "python",
   "pygments_lexer": "ipython3",
   "version": "3.12.9"
  }
 },
 "nbformat": 4,
 "nbformat_minor": 2
}

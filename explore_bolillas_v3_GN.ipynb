{
 "cells": [
  {
   "cell_type": "code",
   "execution_count": 67,
   "metadata": {},
   "outputs": [
    {
     "data": {
      "text/html": [
       "<script type=\"esms-options\">{\"shimMode\": true}</script><style>*[data-root-id],\n",
       "*[data-root-id] > * {\n",
       "  box-sizing: border-box;\n",
       "  font-family: var(--jp-ui-font-family);\n",
       "  font-size: var(--jp-ui-font-size1);\n",
       "  color: var(--vscode-editor-foreground, var(--jp-ui-font-color1));\n",
       "}\n",
       "\n",
       "/* Override VSCode background color */\n",
       ".cell-output-ipywidget-background:has(\n",
       "    > .cell-output-ipywidget-background > .lm-Widget > *[data-root-id]\n",
       "  ),\n",
       ".cell-output-ipywidget-background:has(> .lm-Widget > *[data-root-id]) {\n",
       "  background-color: transparent !important;\n",
       "}\n",
       "</style>"
      ]
     },
     "metadata": {},
     "output_type": "display_data"
    },
    {
     "data": {
      "application/javascript": "(function(root) {\n  function now() {\n    return new Date();\n  }\n\n  const force = true;\n  const py_version = '3.7.2'.replace('rc', '-rc.').replace('.dev', '-dev.');\n  const reloading = false;\n  const Bokeh = root.Bokeh;\n\n  // Set a timeout for this load but only if we are not already initializing\n  if (typeof (root._bokeh_timeout) === \"undefined\" || (force || !root._bokeh_is_initializing)) {\n    root._bokeh_timeout = Date.now() + 5000;\n    root._bokeh_failed_load = false;\n  }\n\n  function run_callbacks() {\n    try {\n      root._bokeh_onload_callbacks.forEach(function(callback) {\n        if (callback != null)\n          callback();\n      });\n    } finally {\n      delete root._bokeh_onload_callbacks;\n    }\n    console.debug(\"Bokeh: all callbacks have finished\");\n  }\n\n  function load_libs(css_urls, js_urls, js_modules, js_exports, callback) {\n    if (css_urls == null) css_urls = [];\n    if (js_urls == null) js_urls = [];\n    if (js_modules == null) js_modules = [];\n    if (js_exports == null) js_exports = {};\n\n    root._bokeh_onload_callbacks.push(callback);\n\n    if (root._bokeh_is_loading > 0) {\n      // Don't load bokeh if it is still initializing\n      console.debug(\"Bokeh: BokehJS is being loaded, scheduling callback at\", now());\n      return null;\n    } else if (js_urls.length === 0 && js_modules.length === 0 && Object.keys(js_exports).length === 0) {\n      // There is nothing to load\n      run_callbacks();\n      return null;\n    }\n\n    function on_load() {\n      root._bokeh_is_loading--;\n      if (root._bokeh_is_loading === 0) {\n        console.debug(\"Bokeh: all BokehJS libraries/stylesheets loaded\");\n        run_callbacks()\n      }\n    }\n    window._bokeh_on_load = on_load\n\n    function on_error(e) {\n      const src_el = e.srcElement\n      console.error(\"failed to load \" + (src_el.href || src_el.src));\n    }\n\n    const skip = [];\n    if (window.requirejs) {\n      window.requirejs.config({'packages': {}, 'paths': {}, 'shim': {}});\n      root._bokeh_is_loading = css_urls.length + 0;\n    } else {\n      root._bokeh_is_loading = css_urls.length + js_urls.length + js_modules.length + Object.keys(js_exports).length;\n    }\n\n    const existing_stylesheets = []\n    const links = document.getElementsByTagName('link')\n    for (let i = 0; i < links.length; i++) {\n      const link = links[i]\n      if (link.href != null) {\n        existing_stylesheets.push(link.href)\n      }\n    }\n    for (let i = 0; i < css_urls.length; i++) {\n      const url = css_urls[i];\n      const escaped = encodeURI(url)\n      if (existing_stylesheets.indexOf(escaped) !== -1) {\n        on_load()\n        continue;\n      }\n      const element = document.createElement(\"link\");\n      element.onload = on_load;\n      element.onerror = on_error;\n      element.rel = \"stylesheet\";\n      element.type = \"text/css\";\n      element.href = url;\n      console.debug(\"Bokeh: injecting link tag for BokehJS stylesheet: \", url);\n      document.body.appendChild(element);\n    }    var existing_scripts = []\n    const scripts = document.getElementsByTagName('script')\n    for (let i = 0; i < scripts.length; i++) {\n      var script = scripts[i]\n      if (script.src != null) {\n        existing_scripts.push(script.src)\n      }\n    }\n    for (let i = 0; i < js_urls.length; i++) {\n      const url = js_urls[i];\n      const escaped = encodeURI(url)\n      if (skip.indexOf(escaped) !== -1 || existing_scripts.indexOf(escaped) !== -1) {\n        if (!window.requirejs) {\n          on_load();\n        }\n        continue;\n      }\n      const element = document.createElement('script');\n      element.onload = on_load;\n      element.onerror = on_error;\n      element.async = false;\n      element.src = url;\n      console.debug(\"Bokeh: injecting script tag for BokehJS library: \", url);\n      document.head.appendChild(element);\n    }\n    for (let i = 0; i < js_modules.length; i++) {\n      const url = js_modules[i];\n      const escaped = encodeURI(url)\n      if (skip.indexOf(escaped) !== -1 || existing_scripts.indexOf(escaped) !== -1) {\n        if (!window.requirejs) {\n          on_load();\n        }\n        continue;\n      }\n      var element = document.createElement('script');\n      element.onload = on_load;\n      element.onerror = on_error;\n      element.async = false;\n      element.src = url;\n      element.type = \"module\";\n      console.debug(\"Bokeh: injecting script tag for BokehJS library: \", url);\n      document.head.appendChild(element);\n    }\n    for (const name in js_exports) {\n      const url = js_exports[name];\n      const escaped = encodeURI(url)\n      if (skip.indexOf(escaped) >= 0 || root[name] != null) {\n        if (!window.requirejs) {\n          on_load();\n        }\n        continue;\n      }\n      var element = document.createElement('script');\n      element.onerror = on_error;\n      element.async = false;\n      element.type = \"module\";\n      console.debug(\"Bokeh: injecting script tag for BokehJS library: \", url);\n      element.textContent = `\n      import ${name} from \"${url}\"\n      window.${name} = ${name}\n      window._bokeh_on_load()\n      `\n      document.head.appendChild(element);\n    }\n    if (!js_urls.length && !js_modules.length) {\n      on_load()\n    }\n  };\n\n  function inject_raw_css(css) {\n    const element = document.createElement(\"style\");\n    element.appendChild(document.createTextNode(css));\n    document.body.appendChild(element);\n  }\n\n  const js_urls = [\"https://cdn.holoviz.org/panel/1.6.2/dist/bundled/reactiveesm/es-module-shims@^1.10.0/dist/es-module-shims.min.js\", \"https://cdn.bokeh.org/bokeh/release/bokeh-3.7.2.min.js\", \"https://cdn.bokeh.org/bokeh/release/bokeh-gl-3.7.2.min.js\", \"https://cdn.bokeh.org/bokeh/release/bokeh-widgets-3.7.2.min.js\", \"https://cdn.bokeh.org/bokeh/release/bokeh-tables-3.7.2.min.js\", \"https://cdn.holoviz.org/panel/1.6.2/dist/panel.min.js\"];\n  const js_modules = [];\n  const js_exports = {};\n  const css_urls = [];\n  const inline_js = [    function(Bokeh) {\n      Bokeh.set_log_level(\"info\");\n    },\nfunction(Bokeh) {} // ensure no trailing comma for IE\n  ];\n\n  function run_inline_js() {\n    if ((root.Bokeh !== undefined) || (force === true)) {\n      for (let i = 0; i < inline_js.length; i++) {\n        try {\n          inline_js[i].call(root, root.Bokeh);\n        } catch(e) {\n          if (!reloading) {\n            throw e;\n          }\n        }\n      }\n      // Cache old bokeh versions\n      if (Bokeh != undefined && !reloading) {\n        var NewBokeh = root.Bokeh;\n        if (Bokeh.versions === undefined) {\n          Bokeh.versions = new Map();\n        }\n        if (NewBokeh.version !== Bokeh.version) {\n          Bokeh.versions.set(NewBokeh.version, NewBokeh)\n        }\n        root.Bokeh = Bokeh;\n      }\n    } else if (Date.now() < root._bokeh_timeout) {\n      setTimeout(run_inline_js, 100);\n    } else if (!root._bokeh_failed_load) {\n      console.log(\"Bokeh: BokehJS failed to load within specified timeout.\");\n      root._bokeh_failed_load = true;\n    }\n    root._bokeh_is_initializing = false\n  }\n\n  function load_or_wait() {\n    // Implement a backoff loop that tries to ensure we do not load multiple\n    // versions of Bokeh and its dependencies at the same time.\n    // In recent versions we use the root._bokeh_is_initializing flag\n    // to determine whether there is an ongoing attempt to initialize\n    // bokeh, however for backward compatibility we also try to ensure\n    // that we do not start loading a newer (Panel>=1.0 and Bokeh>3) version\n    // before older versions are fully initialized.\n    if (root._bokeh_is_initializing && Date.now() > root._bokeh_timeout) {\n      // If the timeout and bokeh was not successfully loaded we reset\n      // everything and try loading again\n      root._bokeh_timeout = Date.now() + 5000;\n      root._bokeh_is_initializing = false;\n      root._bokeh_onload_callbacks = undefined;\n      root._bokeh_is_loading = 0\n      console.log(\"Bokeh: BokehJS was loaded multiple times but one version failed to initialize.\");\n      load_or_wait();\n    } else if (root._bokeh_is_initializing || (typeof root._bokeh_is_initializing === \"undefined\" && root._bokeh_onload_callbacks !== undefined)) {\n      setTimeout(load_or_wait, 100);\n    } else {\n      root._bokeh_is_initializing = true\n      root._bokeh_onload_callbacks = []\n      const bokeh_loaded = root.Bokeh != null && (root.Bokeh.version === py_version || (root.Bokeh.versions !== undefined && root.Bokeh.versions.has(py_version)));\n      if (!reloading && !bokeh_loaded) {\n        if (root.Bokeh) {\n          root.Bokeh = undefined;\n        }\n        console.debug(\"Bokeh: BokehJS not loaded, scheduling load and callback at\", now());\n      }\n      load_libs(css_urls, js_urls, js_modules, js_exports, function() {\n        console.debug(\"Bokeh: BokehJS plotting callback run at\", now());\n        run_inline_js();\n      });\n    }\n  }\n  // Give older versions of the autoload script a head-start to ensure\n  // they initialize before we start loading newer version.\n  setTimeout(load_or_wait, 100)\n}(window));",
      "application/vnd.holoviews_load.v0+json": ""
     },
     "metadata": {},
     "output_type": "display_data"
    },
    {
     "data": {
      "application/javascript": "\nif ((window.PyViz === undefined) || (window.PyViz instanceof HTMLElement)) {\n  window.PyViz = {comms: {}, comm_status:{}, kernels:{}, receivers: {}, plot_index: []}\n}\n\n\n    function JupyterCommManager() {\n    }\n\n    JupyterCommManager.prototype.register_target = function(plot_id, comm_id, msg_handler) {\n      if (window.comm_manager || ((window.Jupyter !== undefined) && (Jupyter.notebook.kernel != null))) {\n        var comm_manager = window.comm_manager || Jupyter.notebook.kernel.comm_manager;\n        comm_manager.register_target(comm_id, function(comm) {\n          comm.on_msg(msg_handler);\n        });\n      } else if ((plot_id in window.PyViz.kernels) && (window.PyViz.kernels[plot_id])) {\n        window.PyViz.kernels[plot_id].registerCommTarget(comm_id, function(comm) {\n          comm.onMsg = msg_handler;\n        });\n      } else if (typeof google != 'undefined' && google.colab.kernel != null) {\n        google.colab.kernel.comms.registerTarget(comm_id, (comm) => {\n          var messages = comm.messages[Symbol.asyncIterator]();\n          function processIteratorResult(result) {\n            var message = result.value;\n            console.log(message)\n            var content = {data: message.data, comm_id};\n            var buffers = []\n            for (var buffer of message.buffers || []) {\n              buffers.push(new DataView(buffer))\n            }\n            var metadata = message.metadata || {};\n            var msg = {content, buffers, metadata}\n            msg_handler(msg);\n            return messages.next().then(processIteratorResult);\n          }\n          return messages.next().then(processIteratorResult);\n        })\n      }\n    }\n\n    JupyterCommManager.prototype.get_client_comm = function(plot_id, comm_id, msg_handler) {\n      if (comm_id in window.PyViz.comms) {\n        return window.PyViz.comms[comm_id];\n      } else if (window.comm_manager || ((window.Jupyter !== undefined) && (Jupyter.notebook.kernel != null))) {\n        var comm_manager = window.comm_manager || Jupyter.notebook.kernel.comm_manager;\n        var comm = comm_manager.new_comm(comm_id, {}, {}, {}, comm_id);\n        if (msg_handler) {\n          comm.on_msg(msg_handler);\n        }\n      } else if ((plot_id in window.PyViz.kernels) && (window.PyViz.kernels[plot_id])) {\n        var comm = window.PyViz.kernels[plot_id].connectToComm(comm_id);\n        comm.open();\n        if (msg_handler) {\n          comm.onMsg = msg_handler;\n        }\n      } else if (typeof google != 'undefined' && google.colab.kernel != null) {\n        var comm_promise = google.colab.kernel.comms.open(comm_id)\n        comm_promise.then((comm) => {\n          window.PyViz.comms[comm_id] = comm;\n          if (msg_handler) {\n            var messages = comm.messages[Symbol.asyncIterator]();\n            function processIteratorResult(result) {\n              var message = result.value;\n              var content = {data: message.data};\n              var metadata = message.metadata || {comm_id};\n              var msg = {content, metadata}\n              msg_handler(msg);\n              return messages.next().then(processIteratorResult);\n            }\n            return messages.next().then(processIteratorResult);\n          }\n        })\n        var sendClosure = (data, metadata, buffers, disposeOnDone) => {\n          return comm_promise.then((comm) => {\n            comm.send(data, metadata, buffers, disposeOnDone);\n          });\n        };\n        var comm = {\n          send: sendClosure\n        };\n      }\n      window.PyViz.comms[comm_id] = comm;\n      return comm;\n    }\n    window.PyViz.comm_manager = new JupyterCommManager();\n    \n\n\nvar JS_MIME_TYPE = 'application/javascript';\nvar HTML_MIME_TYPE = 'text/html';\nvar EXEC_MIME_TYPE = 'application/vnd.holoviews_exec.v0+json';\nvar CLASS_NAME = 'output';\n\n/**\n * Render data to the DOM node\n */\nfunction render(props, node) {\n  var div = document.createElement(\"div\");\n  var script = document.createElement(\"script\");\n  node.appendChild(div);\n  node.appendChild(script);\n}\n\n/**\n * Handle when a new output is added\n */\nfunction handle_add_output(event, handle) {\n  var output_area = handle.output_area;\n  var output = handle.output;\n  if ((output.data == undefined) || (!output.data.hasOwnProperty(EXEC_MIME_TYPE))) {\n    return\n  }\n  var id = output.metadata[EXEC_MIME_TYPE][\"id\"];\n  var toinsert = output_area.element.find(\".\" + CLASS_NAME.split(' ')[0]);\n  if (id !== undefined) {\n    var nchildren = toinsert.length;\n    var html_node = toinsert[nchildren-1].children[0];\n    html_node.innerHTML = output.data[HTML_MIME_TYPE];\n    var scripts = [];\n    var nodelist = html_node.querySelectorAll(\"script\");\n    for (var i in nodelist) {\n      if (nodelist.hasOwnProperty(i)) {\n        scripts.push(nodelist[i])\n      }\n    }\n\n    scripts.forEach( function (oldScript) {\n      var newScript = document.createElement(\"script\");\n      var attrs = [];\n      var nodemap = oldScript.attributes;\n      for (var j in nodemap) {\n        if (nodemap.hasOwnProperty(j)) {\n          attrs.push(nodemap[j])\n        }\n      }\n      attrs.forEach(function(attr) { newScript.setAttribute(attr.name, attr.value) });\n      newScript.appendChild(document.createTextNode(oldScript.innerHTML));\n      oldScript.parentNode.replaceChild(newScript, oldScript);\n    });\n    if (JS_MIME_TYPE in output.data) {\n      toinsert[nchildren-1].children[1].textContent = output.data[JS_MIME_TYPE];\n    }\n    output_area._hv_plot_id = id;\n    if ((window.Bokeh !== undefined) && (id in Bokeh.index)) {\n      window.PyViz.plot_index[id] = Bokeh.index[id];\n    } else {\n      window.PyViz.plot_index[id] = null;\n    }\n  } else if (output.metadata[EXEC_MIME_TYPE][\"server_id\"] !== undefined) {\n    var bk_div = document.createElement(\"div\");\n    bk_div.innerHTML = output.data[HTML_MIME_TYPE];\n    var script_attrs = bk_div.children[0].attributes;\n    for (var i = 0; i < script_attrs.length; i++) {\n      toinsert[toinsert.length - 1].childNodes[1].setAttribute(script_attrs[i].name, script_attrs[i].value);\n    }\n    // store reference to server id on output_area\n    output_area._bokeh_server_id = output.metadata[EXEC_MIME_TYPE][\"server_id\"];\n  }\n}\n\n/**\n * Handle when an output is cleared or removed\n */\nfunction handle_clear_output(event, handle) {\n  var id = handle.cell.output_area._hv_plot_id;\n  var server_id = handle.cell.output_area._bokeh_server_id;\n  if (((id === undefined) || !(id in PyViz.plot_index)) && (server_id !== undefined)) { return; }\n  var comm = window.PyViz.comm_manager.get_client_comm(\"hv-extension-comm\", \"hv-extension-comm\", function () {});\n  if (server_id !== null) {\n    comm.send({event_type: 'server_delete', 'id': server_id});\n    return;\n  } else if (comm !== null) {\n    comm.send({event_type: 'delete', 'id': id});\n  }\n  delete PyViz.plot_index[id];\n  if ((window.Bokeh !== undefined) & (id in window.Bokeh.index)) {\n    var doc = window.Bokeh.index[id].model.document\n    doc.clear();\n    const i = window.Bokeh.documents.indexOf(doc);\n    if (i > -1) {\n      window.Bokeh.documents.splice(i, 1);\n    }\n  }\n}\n\n/**\n * Handle kernel restart event\n */\nfunction handle_kernel_cleanup(event, handle) {\n  delete PyViz.comms[\"hv-extension-comm\"];\n  window.PyViz.plot_index = {}\n}\n\n/**\n * Handle update_display_data messages\n */\nfunction handle_update_output(event, handle) {\n  handle_clear_output(event, {cell: {output_area: handle.output_area}})\n  handle_add_output(event, handle)\n}\n\nfunction register_renderer(events, OutputArea) {\n  function append_mime(data, metadata, element) {\n    // create a DOM node to render to\n    var toinsert = this.create_output_subarea(\n    metadata,\n    CLASS_NAME,\n    EXEC_MIME_TYPE\n    );\n    this.keyboard_manager.register_events(toinsert);\n    // Render to node\n    var props = {data: data, metadata: metadata[EXEC_MIME_TYPE]};\n    render(props, toinsert[0]);\n    element.append(toinsert);\n    return toinsert\n  }\n\n  events.on('output_added.OutputArea', handle_add_output);\n  events.on('output_updated.OutputArea', handle_update_output);\n  events.on('clear_output.CodeCell', handle_clear_output);\n  events.on('delete.Cell', handle_clear_output);\n  events.on('kernel_ready.Kernel', handle_kernel_cleanup);\n\n  OutputArea.prototype.register_mime_type(EXEC_MIME_TYPE, append_mime, {\n    safe: true,\n    index: 0\n  });\n}\n\nif (window.Jupyter !== undefined) {\n  try {\n    var events = require('base/js/events');\n    var OutputArea = require('notebook/js/outputarea').OutputArea;\n    if (OutputArea.prototype.mime_types().indexOf(EXEC_MIME_TYPE) == -1) {\n      register_renderer(events, OutputArea);\n    }\n  } catch(err) {\n  }\n}\n",
      "application/vnd.holoviews_load.v0+json": ""
     },
     "metadata": {},
     "output_type": "display_data"
    },
    {
     "data": {
      "application/vnd.holoviews_exec.v0+json": "",
      "text/html": [
       "<div id='48ec4203-d3bd-4fa5-9a4f-b6304fc4c78a'>\n",
       "  <div id=\"f312b6ce-6e48-48b5-b4cb-7432881f0413\" data-root-id=\"48ec4203-d3bd-4fa5-9a4f-b6304fc4c78a\" style=\"display: contents;\"></div>\n",
       "</div>\n",
       "<script type=\"application/javascript\">(function(root) {\n",
       "  var docs_json = {\"661fe315-198f-4212-a4ad-9aa3e706be36\":{\"version\":\"3.7.2\",\"title\":\"Bokeh Application\",\"roots\":[{\"type\":\"object\",\"name\":\"panel.models.browser.BrowserInfo\",\"id\":\"48ec4203-d3bd-4fa5-9a4f-b6304fc4c78a\"},{\"type\":\"object\",\"name\":\"panel.models.comm_manager.CommManager\",\"id\":\"53521548-276b-4169-95a7-aa0d348fa801\",\"attributes\":{\"plot_id\":\"48ec4203-d3bd-4fa5-9a4f-b6304fc4c78a\",\"comm_id\":\"534d888dc9484863ae87fab7fe553653\",\"client_comm_id\":\"eca1a8b4c0db4fa3aef67d1f139eeabe\"}}],\"defs\":[{\"type\":\"model\",\"name\":\"ReactiveHTML1\"},{\"type\":\"model\",\"name\":\"FlexBox1\",\"properties\":[{\"name\":\"align_content\",\"kind\":\"Any\",\"default\":\"flex-start\"},{\"name\":\"align_items\",\"kind\":\"Any\",\"default\":\"flex-start\"},{\"name\":\"flex_direction\",\"kind\":\"Any\",\"default\":\"row\"},{\"name\":\"flex_wrap\",\"kind\":\"Any\",\"default\":\"wrap\"},{\"name\":\"gap\",\"kind\":\"Any\",\"default\":\"\"},{\"name\":\"justify_content\",\"kind\":\"Any\",\"default\":\"flex-start\"}]},{\"type\":\"model\",\"name\":\"FloatPanel1\",\"properties\":[{\"name\":\"config\",\"kind\":\"Any\",\"default\":{\"type\":\"map\"}},{\"name\":\"contained\",\"kind\":\"Any\",\"default\":true},{\"name\":\"position\",\"kind\":\"Any\",\"default\":\"right-top\"},{\"name\":\"offsetx\",\"kind\":\"Any\",\"default\":null},{\"name\":\"offsety\",\"kind\":\"Any\",\"default\":null},{\"name\":\"theme\",\"kind\":\"Any\",\"default\":\"primary\"},{\"name\":\"status\",\"kind\":\"Any\",\"default\":\"normalized\"}]},{\"type\":\"model\",\"name\":\"GridStack1\",\"properties\":[{\"name\":\"ncols\",\"kind\":\"Any\",\"default\":null},{\"name\":\"nrows\",\"kind\":\"Any\",\"default\":null},{\"name\":\"allow_resize\",\"kind\":\"Any\",\"default\":true},{\"name\":\"allow_drag\",\"kind\":\"Any\",\"default\":true},{\"name\":\"state\",\"kind\":\"Any\",\"default\":[]}]},{\"type\":\"model\",\"name\":\"drag1\",\"properties\":[{\"name\":\"slider_width\",\"kind\":\"Any\",\"default\":5},{\"name\":\"slider_color\",\"kind\":\"Any\",\"default\":\"black\"},{\"name\":\"value\",\"kind\":\"Any\",\"default\":50}]},{\"type\":\"model\",\"name\":\"click1\",\"properties\":[{\"name\":\"terminal_output\",\"kind\":\"Any\",\"default\":\"\"},{\"name\":\"debug_name\",\"kind\":\"Any\",\"default\":\"\"},{\"name\":\"clears\",\"kind\":\"Any\",\"default\":0}]},{\"type\":\"model\",\"name\":\"FastWrapper1\",\"properties\":[{\"name\":\"object\",\"kind\":\"Any\",\"default\":null},{\"name\":\"style\",\"kind\":\"Any\",\"default\":null}]},{\"type\":\"model\",\"name\":\"NotificationArea1\",\"properties\":[{\"name\":\"js_events\",\"kind\":\"Any\",\"default\":{\"type\":\"map\"}},{\"name\":\"max_notifications\",\"kind\":\"Any\",\"default\":5},{\"name\":\"notifications\",\"kind\":\"Any\",\"default\":[]},{\"name\":\"position\",\"kind\":\"Any\",\"default\":\"bottom-right\"},{\"name\":\"_clear\",\"kind\":\"Any\",\"default\":0},{\"name\":\"types\",\"kind\":\"Any\",\"default\":[{\"type\":\"map\",\"entries\":[[\"type\",\"warning\"],[\"background\",\"#ffc107\"],[\"icon\",{\"type\":\"map\",\"entries\":[[\"className\",\"fas fa-exclamation-triangle\"],[\"tagName\",\"i\"],[\"color\",\"white\"]]}]]},{\"type\":\"map\",\"entries\":[[\"type\",\"info\"],[\"background\",\"#007bff\"],[\"icon\",{\"type\":\"map\",\"entries\":[[\"className\",\"fas fa-info-circle\"],[\"tagName\",\"i\"],[\"color\",\"white\"]]}]]}]}]},{\"type\":\"model\",\"name\":\"Notification\",\"properties\":[{\"name\":\"background\",\"kind\":\"Any\",\"default\":null},{\"name\":\"duration\",\"kind\":\"Any\",\"default\":3000},{\"name\":\"icon\",\"kind\":\"Any\",\"default\":null},{\"name\":\"message\",\"kind\":\"Any\",\"default\":\"\"},{\"name\":\"notification_type\",\"kind\":\"Any\",\"default\":null},{\"name\":\"_rendered\",\"kind\":\"Any\",\"default\":false},{\"name\":\"_destroyed\",\"kind\":\"Any\",\"default\":false}]},{\"type\":\"model\",\"name\":\"TemplateActions1\",\"properties\":[{\"name\":\"open_modal\",\"kind\":\"Any\",\"default\":0},{\"name\":\"close_modal\",\"kind\":\"Any\",\"default\":0}]},{\"type\":\"model\",\"name\":\"BootstrapTemplateActions1\",\"properties\":[{\"name\":\"open_modal\",\"kind\":\"Any\",\"default\":0},{\"name\":\"close_modal\",\"kind\":\"Any\",\"default\":0}]},{\"type\":\"model\",\"name\":\"TemplateEditor1\",\"properties\":[{\"name\":\"layout\",\"kind\":\"Any\",\"default\":[]}]},{\"type\":\"model\",\"name\":\"MaterialTemplateActions1\",\"properties\":[{\"name\":\"open_modal\",\"kind\":\"Any\",\"default\":0},{\"name\":\"close_modal\",\"kind\":\"Any\",\"default\":0}]},{\"type\":\"model\",\"name\":\"ReactiveESM1\",\"properties\":[{\"name\":\"esm_constants\",\"kind\":\"Any\",\"default\":{\"type\":\"map\"}}]},{\"type\":\"model\",\"name\":\"JSComponent1\",\"properties\":[{\"name\":\"esm_constants\",\"kind\":\"Any\",\"default\":{\"type\":\"map\"}}]},{\"type\":\"model\",\"name\":\"ReactComponent1\",\"properties\":[{\"name\":\"esm_constants\",\"kind\":\"Any\",\"default\":{\"type\":\"map\"}}]},{\"type\":\"model\",\"name\":\"AnyWidgetComponent1\",\"properties\":[{\"name\":\"esm_constants\",\"kind\":\"Any\",\"default\":{\"type\":\"map\"}}]},{\"type\":\"model\",\"name\":\"request_value1\",\"properties\":[{\"name\":\"fill\",\"kind\":\"Any\",\"default\":\"none\"},{\"name\":\"_synced\",\"kind\":\"Any\",\"default\":null},{\"name\":\"_request_sync\",\"kind\":\"Any\",\"default\":0}]}]}};\n",
       "  var render_items = [{\"docid\":\"661fe315-198f-4212-a4ad-9aa3e706be36\",\"roots\":{\"48ec4203-d3bd-4fa5-9a4f-b6304fc4c78a\":\"f312b6ce-6e48-48b5-b4cb-7432881f0413\"},\"root_ids\":[\"48ec4203-d3bd-4fa5-9a4f-b6304fc4c78a\"]}];\n",
       "  var docs = Object.values(docs_json)\n",
       "  if (!docs) {\n",
       "    return\n",
       "  }\n",
       "  const py_version = docs[0].version.replace('rc', '-rc.').replace('.dev', '-dev.')\n",
       "  async function embed_document(root) {\n",
       "    var Bokeh = get_bokeh(root)\n",
       "    await Bokeh.embed.embed_items_notebook(docs_json, render_items);\n",
       "    for (const render_item of render_items) {\n",
       "      for (const root_id of render_item.root_ids) {\n",
       "\tconst id_el = document.getElementById(root_id)\n",
       "\tif (id_el.children.length && id_el.children[0].hasAttribute('data-root-id')) {\n",
       "\t  const root_el = id_el.children[0]\n",
       "\t  root_el.id = root_el.id + '-rendered'\n",
       "\t  for (const child of root_el.children) {\n",
       "            // Ensure JupyterLab does not capture keyboard shortcuts\n",
       "            // see: https://jupyterlab.readthedocs.io/en/4.1.x/extension/notebook.html#keyboard-interaction-model\n",
       "\t    child.setAttribute('data-lm-suppress-shortcuts', 'true')\n",
       "\t  }\n",
       "\t}\n",
       "      }\n",
       "    }\n",
       "  }\n",
       "  function get_bokeh(root) {\n",
       "    if (root.Bokeh === undefined) {\n",
       "      return null\n",
       "    } else if (root.Bokeh.version !== py_version) {\n",
       "      if (root.Bokeh.versions === undefined || !root.Bokeh.versions.has(py_version)) {\n",
       "\treturn null\n",
       "      }\n",
       "      return root.Bokeh.versions.get(py_version);\n",
       "    } else if (root.Bokeh.version === py_version) {\n",
       "      return root.Bokeh\n",
       "    }\n",
       "    return null\n",
       "  }\n",
       "  function is_loaded(root) {\n",
       "    var Bokeh = get_bokeh(root)\n",
       "    return (Bokeh != null && Bokeh.Panel !== undefined)\n",
       "  }\n",
       "  if (is_loaded(root)) {\n",
       "    embed_document(root);\n",
       "  } else {\n",
       "    var attempts = 0;\n",
       "    var timer = setInterval(function(root) {\n",
       "      if (is_loaded(root)) {\n",
       "        clearInterval(timer);\n",
       "        embed_document(root);\n",
       "      } else if (document.readyState == \"complete\") {\n",
       "        attempts++;\n",
       "        if (attempts > 200) {\n",
       "          clearInterval(timer);\n",
       "\t  var Bokeh = get_bokeh(root)\n",
       "\t  if (Bokeh == null || Bokeh.Panel == null) {\n",
       "            console.warn(\"Panel: ERROR: Unable to run Panel code because Bokeh or Panel library is missing\");\n",
       "\t  } else {\n",
       "\t    console.warn(\"Panel: WARNING: Attempting to render but not all required libraries could be resolved.\")\n",
       "\t    embed_document(root)\n",
       "\t  }\n",
       "        }\n",
       "      }\n",
       "    }, 25, root)\n",
       "  }\n",
       "})(window);</script>"
      ]
     },
     "metadata": {
      "application/vnd.holoviews_exec.v0+json": {
       "id": "48ec4203-d3bd-4fa5-9a4f-b6304fc4c78a"
      }
     },
     "output_type": "display_data"
    }
   ],
   "source": [
    "from bs4 import BeautifulSoup\n",
    "# import pandas as pd\n",
    "from datetime import datetime, timedelta\n",
    "from itertools import combinations\n",
    "import json\n",
    "import requests\n",
    "import math\n",
    "from typing import Optional, List, Dict\n",
    "\n",
    "from pydantic import BaseModel\n",
    "from typing import Mapping\n",
    "import numpy as np\n",
    "import polars as pl\n",
    "import hvplot.polars\n",
    "import pandas as pd\n",
    "import altair as alt\n",
    "import math\n",
    "\n",
    "from shared.utils import formalize_data_with_str\n",
    "from shared.random_rules import RandomRules"
   ]
  },
  {
   "cell_type": "code",
   "execution_count": 68,
   "metadata": {},
   "outputs": [],
   "source": [
    "rr = RandomRules(\n",
    "  TOTAL_NUMBERS = 35,\n",
    "  CHOOSE = 5,\n",
    "  MAX_PRIMES = 3,\n",
    "  N_VALUES=[\"1\", \"2\", \"3\"],\n",
    "  # Rangos de valores de las bolillas\n",
    "  MIN_B_VALUES = [1, 2, 3, 4, 5],\n",
    "  MAX_B_VALUES = [31, 32, 33, 34, 35]\n",
    ")"
   ]
  },
  {
   "cell_type": "code",
   "execution_count": 69,
   "metadata": {},
   "outputs": [],
   "source": [
    "url = 'https://resultados.latinka.com.pe/i.do?m=historico&t=0&s=164'\n",
    "response = requests.get(url)\n",
    "soup = BeautifulSoup(response.text, 'html.parser')\n",
    "\n",
    "tables = soup.select('table')\n",
    "rows = tables[1].find_all('tr')"
   ]
  },
  {
   "cell_type": "code",
   "execution_count": 70,
   "metadata": {},
   "outputs": [
    {
     "name": "stdout",
     "output_type": "stream",
     "text": [
      "TOTAL_LINES=7728\n"
     ]
    },
    {
     "data": {
      "text/html": [
       "<div><style>\n",
       ".dataframe > thead > tr,\n",
       ".dataframe > tbody > tr {\n",
       "  text-align: right;\n",
       "  white-space: pre-wrap;\n",
       "}\n",
       "</style>\n",
       "<small>shape: (10, 21)</small><table border=\"1\" class=\"dataframe\"><thead><tr><th>fecha</th><th>sorteo</th><th>bolillas</th><th>id</th><th>combo</th><th>b1</th><th>b2</th><th>b3</th><th>b4</th><th>b5</th><th>str_b1</th><th>str_b2</th><th>str_b3</th><th>str_b4</th><th>str_b5</th><th>post_str_b1</th><th>post_str_blast</th><th>is_rare_combination</th><th>reason</th><th>jumps_map</th><th>unijump</th></tr><tr><td>str</td><td>str</td><td>str</td><td>str</td><td>array[u8, 5]</td><td>u8</td><td>u8</td><td>u8</td><td>u8</td><td>u8</td><td>str</td><td>str</td><td>str</td><td>str</td><td>str</td><td>str</td><td>str</td><td>bool</td><td>u8</td><td>str</td><td>i64</td></tr></thead><tbody><tr><td>&quot;12/04/2025&quot;</td><td>&quot;4184&quot;</td><td>&quot;23 12 10 16 03&quot;</td><td>&quot;0310121623&quot;</td><td>[3, 10, … 23]</td><td>3</td><td>10</td><td>12</td><td>16</td><td>23</td><td>&quot;03&quot;</td><td>&quot;10&quot;</td><td>&quot;12&quot;</td><td>&quot;16&quot;</td><td>&quot;23&quot;</td><td>null</td><td>null</td><td>false</td><td>0</td><td>&quot;07_02_04_07&quot;</td><td>-6</td></tr><tr><td>&quot;11/04/2025&quot;</td><td>&quot;4183&quot;</td><td>&quot;09 10 08 01 12&quot;</td><td>&quot;0108091012&quot;</td><td>[1, 8, … 12]</td><td>1</td><td>8</td><td>9</td><td>10</td><td>12</td><td>&quot;01&quot;</td><td>&quot;08&quot;</td><td>&quot;09&quot;</td><td>&quot;10&quot;</td><td>&quot;12&quot;</td><td>&quot;03&quot;</td><td>&quot;23&quot;</td><td>true</td><td>24</td><td>&quot;07_01_01_02&quot;</td><td>-5</td></tr><tr><td>&quot;10/04/2025&quot;</td><td>&quot;4182&quot;</td><td>&quot;30 33 34 10 21&quot;</td><td>&quot;1021303334&quot;</td><td>[10, 21, … 34]</td><td>10</td><td>21</td><td>30</td><td>33</td><td>34</td><td>&quot;10&quot;</td><td>&quot;21&quot;</td><td>&quot;30&quot;</td><td>&quot;33&quot;</td><td>&quot;34&quot;</td><td>&quot;01&quot;</td><td>&quot;12&quot;</td><td>false</td><td>0</td><td>&quot;11_09_03_01&quot;</td><td>8</td></tr><tr><td>&quot;09/04/2025&quot;</td><td>&quot;4181&quot;</td><td>&quot;29 21 20 28 04&quot;</td><td>&quot;0420212829&quot;</td><td>[4, 20, … 29]</td><td>4</td><td>20</td><td>21</td><td>28</td><td>29</td><td>&quot;04&quot;</td><td>&quot;20&quot;</td><td>&quot;21&quot;</td><td>&quot;28&quot;</td><td>&quot;29&quot;</td><td>&quot;10&quot;</td><td>&quot;34&quot;</td><td>true</td><td>16</td><td>&quot;16_01_07_01&quot;</td><td>-33</td></tr><tr><td>&quot;08/04/2025&quot;</td><td>&quot;4180&quot;</td><td>&quot;10 20 30 05 16&quot;</td><td>&quot;0510162030&quot;</td><td>[5, 10, … 30]</td><td>5</td><td>10</td><td>16</td><td>20</td><td>30</td><td>&quot;05&quot;</td><td>&quot;10&quot;</td><td>&quot;16&quot;</td><td>&quot;20&quot;</td><td>&quot;30&quot;</td><td>&quot;04&quot;</td><td>&quot;29&quot;</td><td>false</td><td>0</td><td>&quot;05_06_04_10&quot;</td><td>11</td></tr><tr><td>&quot;07/04/2025&quot;</td><td>&quot;4179&quot;</td><td>&quot;08 21 22 24 07&quot;</td><td>&quot;0708212224&quot;</td><td>[7, 8, … 24]</td><td>7</td><td>8</td><td>21</td><td>22</td><td>24</td><td>&quot;07&quot;</td><td>&quot;08&quot;</td><td>&quot;21&quot;</td><td>&quot;22&quot;</td><td>&quot;24&quot;</td><td>&quot;05&quot;</td><td>&quot;30&quot;</td><td>true</td><td>16</td><td>&quot;01_13_01_02&quot;</td><td>37</td></tr><tr><td>&quot;06/04/2025&quot;</td><td>&quot;4178&quot;</td><td>&quot;07 35 24 34 14&quot;</td><td>&quot;0714243435&quot;</td><td>[7, 14, … 35]</td><td>7</td><td>14</td><td>24</td><td>34</td><td>35</td><td>&quot;07&quot;</td><td>&quot;14&quot;</td><td>&quot;24&quot;</td><td>&quot;34&quot;</td><td>&quot;35&quot;</td><td>&quot;07&quot;</td><td>&quot;24&quot;</td><td>true</td><td>8</td><td>&quot;07_10_10_01&quot;</td><td>-6</td></tr><tr><td>&quot;05/04/2025&quot;</td><td>&quot;4177&quot;</td><td>&quot;34 33 15 05 16&quot;</td><td>&quot;0515163334&quot;</td><td>[5, 15, … 34]</td><td>5</td><td>15</td><td>16</td><td>33</td><td>34</td><td>&quot;05&quot;</td><td>&quot;15&quot;</td><td>&quot;16&quot;</td><td>&quot;33&quot;</td><td>&quot;34&quot;</td><td>&quot;07&quot;</td><td>&quot;35&quot;</td><td>true</td><td>16</td><td>&quot;10_01_17_01&quot;</td><td>-57</td></tr><tr><td>&quot;04/04/2025&quot;</td><td>&quot;4176&quot;</td><td>&quot;27 24 32 30 35&quot;</td><td>&quot;2427303235&quot;</td><td>[24, 27, … 35]</td><td>24</td><td>27</td><td>30</td><td>32</td><td>35</td><td>&quot;24&quot;</td><td>&quot;27&quot;</td><td>&quot;30&quot;</td><td>&quot;32&quot;</td><td>&quot;35&quot;</td><td>&quot;05&quot;</td><td>&quot;34&quot;</td><td>true</td><td>24</td><td>&quot;03_03_02_03&quot;</td><td>3</td></tr><tr><td>&quot;03/04/2025&quot;</td><td>&quot;4175&quot;</td><td>&quot;11 06 05 20 12&quot;</td><td>&quot;0506111220&quot;</td><td>[5, 6, … 20]</td><td>5</td><td>6</td><td>11</td><td>12</td><td>20</td><td>&quot;05&quot;</td><td>&quot;06&quot;</td><td>&quot;11&quot;</td><td>&quot;12&quot;</td><td>&quot;20&quot;</td><td>&quot;24&quot;</td><td>&quot;35&quot;</td><td>true</td><td>16</td><td>&quot;01_05_01_08&quot;</td><td>19</td></tr></tbody></table></div>"
      ],
      "text/plain": [
       "shape: (10, 21)\n",
       "┌────────────┬────────┬─────────────┬────────────┬───┬─────────────┬────────┬────────────┬─────────┐\n",
       "│ fecha      ┆ sorteo ┆ bolillas    ┆ id         ┆ … ┆ is_rare_com ┆ reason ┆ jumps_map  ┆ unijump │\n",
       "│ ---        ┆ ---    ┆ ---         ┆ ---        ┆   ┆ bination    ┆ ---    ┆ ---        ┆ ---     │\n",
       "│ str        ┆ str    ┆ str         ┆ str        ┆   ┆ ---         ┆ u8     ┆ str        ┆ i64     │\n",
       "│            ┆        ┆             ┆            ┆   ┆ bool        ┆        ┆            ┆         │\n",
       "╞════════════╪════════╪═════════════╪════════════╪═══╪═════════════╪════════╪════════════╪═════════╡\n",
       "│ 12/04/2025 ┆ 4184   ┆ 23 12 10 16 ┆ 0310121623 ┆ … ┆ false       ┆ 0      ┆ 07_02_04_0 ┆ -6      │\n",
       "│            ┆        ┆ 03          ┆            ┆   ┆             ┆        ┆ 7          ┆         │\n",
       "│ 11/04/2025 ┆ 4183   ┆ 09 10 08 01 ┆ 0108091012 ┆ … ┆ true        ┆ 24     ┆ 07_01_01_0 ┆ -5      │\n",
       "│            ┆        ┆ 12          ┆            ┆   ┆             ┆        ┆ 2          ┆         │\n",
       "│ 10/04/2025 ┆ 4182   ┆ 30 33 34 10 ┆ 1021303334 ┆ … ┆ false       ┆ 0      ┆ 11_09_03_0 ┆ 8       │\n",
       "│            ┆        ┆ 21          ┆            ┆   ┆             ┆        ┆ 1          ┆         │\n",
       "│ 09/04/2025 ┆ 4181   ┆ 29 21 20 28 ┆ 0420212829 ┆ … ┆ true        ┆ 16     ┆ 16_01_07_0 ┆ -33     │\n",
       "│            ┆        ┆ 04          ┆            ┆   ┆             ┆        ┆ 1          ┆         │\n",
       "│ 08/04/2025 ┆ 4180   ┆ 10 20 30 05 ┆ 0510162030 ┆ … ┆ false       ┆ 0      ┆ 05_06_04_1 ┆ 11      │\n",
       "│            ┆        ┆ 16          ┆            ┆   ┆             ┆        ┆ 0          ┆         │\n",
       "│ 07/04/2025 ┆ 4179   ┆ 08 21 22 24 ┆ 0708212224 ┆ … ┆ true        ┆ 16     ┆ 01_13_01_0 ┆ 37      │\n",
       "│            ┆        ┆ 07          ┆            ┆   ┆             ┆        ┆ 2          ┆         │\n",
       "│ 06/04/2025 ┆ 4178   ┆ 07 35 24 34 ┆ 0714243435 ┆ … ┆ true        ┆ 8      ┆ 07_10_10_0 ┆ -6      │\n",
       "│            ┆        ┆ 14          ┆            ┆   ┆             ┆        ┆ 1          ┆         │\n",
       "│ 05/04/2025 ┆ 4177   ┆ 34 33 15 05 ┆ 0515163334 ┆ … ┆ true        ┆ 16     ┆ 10_01_17_0 ┆ -57     │\n",
       "│            ┆        ┆ 16          ┆            ┆   ┆             ┆        ┆ 1          ┆         │\n",
       "│ 04/04/2025 ┆ 4176   ┆ 27 24 32 30 ┆ 2427303235 ┆ … ┆ true        ┆ 24     ┆ 03_03_02_0 ┆ 3       │\n",
       "│            ┆        ┆ 35          ┆            ┆   ┆             ┆        ┆ 3          ┆         │\n",
       "│ 03/04/2025 ┆ 4175   ┆ 11 06 05 20 ┆ 0506111220 ┆ … ┆ true        ┆ 16     ┆ 01_05_01_0 ┆ 19      │\n",
       "│            ┆        ┆ 12          ┆            ┆   ┆             ┆        ┆ 8          ┆         │\n",
       "└────────────┴────────┴─────────────┴────────────┴───┴─────────────┴────────┴────────────┴─────────┘"
      ]
     },
     "metadata": {},
     "output_type": "display_data"
    }
   ],
   "source": [
    "lst = []\n",
    "post_str_b1 = None\n",
    "post_str_blast = None\n",
    "for row in rows:\n",
    "  cols = [data.text.strip() for data in row.find_all('td')]\n",
    "  \n",
    "  id, bolillas_int, str_combo = formalize_data_with_str(bolillas_str=cols[2])\n",
    "  cols.append(id)\n",
    "  cols.append(bolillas_int)\n",
    "  cols.extend([b for b in bolillas_int])\n",
    "  cols.extend(str_combo)\n",
    "  cols.append(post_str_b1)\n",
    "  cols.append(post_str_blast)\n",
    "\n",
    "  is_rare, reason = rr.is_rare_combination(bolillas_int, id)\n",
    "  cols.append(is_rare)\n",
    "  cols.append(reason)\n",
    "\n",
    "  cols.append(rr.jumps_map(bolillas_int))\n",
    "  cols.append(rr.unijump(bolillas_int))\n",
    "  \n",
    "  lst.append(cols)\n",
    "\n",
    "  post_str_b1 = str_combo[0]\n",
    "  post_str_blast = str_combo[-1]\n",
    "\n",
    "with open('./gn_cahe_v3.json', 'w') as file: \n",
    "  json.dump(lst, file)\n",
    "\n",
    "dfRows = pl.DataFrame(\n",
    "  lst,\n",
    "  schema=[\n",
    "    'fecha', 'sorteo', 'bolillas',\n",
    "    'id', 'combo', 'b1', 'b2', 'b3', 'b4', 'b5',\n",
    "    'str_b1', 'str_b2', 'str_b3', 'str_b4', 'str_b5',\n",
    "    'post_str_b1', 'post_str_blast',\n",
    "    'is_rare_combination', 'reason',\n",
    "    \"jumps_map\", \"unijump\"\n",
    "  ],\n",
    "  schema_overrides={\n",
    "    'combo': pl.Array(pl.UInt8, 5),\n",
    "    'b1': pl.UInt8,\n",
    "    'b2': pl.UInt8,\n",
    "    'b3': pl.UInt8,\n",
    "    'b4': pl.UInt8,\n",
    "    'b5': pl.UInt8,\n",
    "    'b6': pl.UInt8,\n",
    "    'reason': pl.UInt8\n",
    "  },\n",
    "  orient='row'\n",
    ")\n",
    "\n",
    "TOTAL_LINES = len(dfRows)\n",
    "print(f'{TOTAL_LINES=}')\n",
    "display(dfRows.head(10))"
   ]
  },
  {
   "cell_type": "code",
   "execution_count": 71,
   "metadata": {},
   "outputs": [],
   "source": [
    "import holoviews as hv\n",
    "def plot_post_col (col: str, post_col: str, test_value: str):\n",
    "  df_viz = dfRows \\\n",
    "    .filter(\n",
    "      pl.col(col) == test_value,\n",
    "      pl.col(post_col).is_not_null()\n",
    "    ) \\\n",
    "    .group_by(\n",
    "      post_col\n",
    "    ).agg(pl.count(post_col).alias('count')) \\\n",
    "    .sort(\"count\", descending=True)\n",
    "  \n",
    "  \n",
    "  df_10_last = dfRows \\\n",
    "    .filter(\n",
    "      pl.col(col) == test_value,\n",
    "      pl.col(post_col).is_not_null()\n",
    "    ) \\\n",
    "    .head(10)\n",
    "  \n",
    "  # Agrega una columna que sea el porcentaje de la frecuencia relativa\n",
    "  total = df_viz['count'].sum()\n",
    "  df_viz = df_viz.with_columns(\n",
    "    ( (pl.col('count') / total) * 100 ).alias('percent')\n",
    "  )\n",
    "  mean_percent = df_viz['percent'].mean()\n",
    "  mean_percent_75 = mean_percent * 75 / 50\n",
    "  mean_percent_25 = mean_percent * 25 / 50\n",
    "\n",
    "  chart = df_viz.hvplot.bar(\n",
    "    x=post_col,\n",
    "    y='percent'\n",
    "  )\n",
    "\n",
    "  chart = chart * hv.HLine(mean_percent).opts(color='red')\n",
    "  chart = chart * hv.HLine(mean_percent_75).opts(color='blue')\n",
    "  chart = chart * hv.HLine(mean_percent_25).opts(color='blue')\n",
    "  \n",
    "  chart.opts(default_tools=[\"pan\"])\n",
    "\n",
    "  df_jumps_map = dfRows \\\n",
    "    .filter(\n",
    "      pl.col(col) == test_value,\n",
    "      pl.col(post_col).is_not_null()\n",
    "    ) \\\n",
    "    .group_by(\n",
    "      'jumps_map'\n",
    "    ).agg(pl.count('jumps_map').alias('count')) \\\n",
    "    .sort(\"count\", descending=True)\n",
    "  \n",
    "  df_unijump = dfRows \\\n",
    "    .filter(\n",
    "      pl.col(col) == test_value,\n",
    "      pl.col(post_col).is_not_null()\n",
    "    ) \\\n",
    "    .group_by(\n",
    "      'unijump'\n",
    "    ).agg(pl.count('unijump').alias('count')) \\\n",
    "    .sort(\"count\", descending=True)\n",
    "\n",
    "\n",
    "  print(f'df_viz FOR {col} = {test_value}')\n",
    "  display(df_viz)\n",
    "\n",
    "  display(chart)\n",
    "  \n",
    "  print(f'df_10_last FOR {col} = {test_value}')\n",
    "  display(df_10_last)\n",
    "  \n",
    "  print(f'df_jumps_map FOR {col} = {test_value}')\n",
    "  display(df_jumps_map)\n",
    "  # display(df_unijump)\n",
    "\n",
    "  print(f'df_unijump FOR {col} = {test_value}')\n",
    "  display(df_unijump)\n",
    "\n",
    "  lst_post_str_b = df_viz.filter(pl.col('percent') >= mean_percent)[post_col].to_list()\n",
    "  lst_jumps_map = df_jumps_map['jumps_map'].to_list() # Used to discard\n",
    "  \n",
    "  return lst_post_str_b, lst_jumps_map"
   ]
  },
  {
   "cell_type": "code",
   "execution_count": 72,
   "metadata": {},
   "outputs": [
    {
     "name": "stdout",
     "output_type": "stream",
     "text": [
      "df_viz FOR str_b1 = 03\n"
     ]
    },
    {
     "data": {
      "text/html": [
       "<div><style>\n",
       ".dataframe > thead > tr,\n",
       ".dataframe > tbody > tr {\n",
       "  text-align: right;\n",
       "  white-space: pre-wrap;\n",
       "}\n",
       "</style>\n",
       "<small>shape: (25, 3)</small><table border=\"1\" class=\"dataframe\"><thead><tr><th>post_str_b1</th><th>count</th><th>percent</th></tr><tr><td>str</td><td>u32</td><td>f64</td></tr></thead><tbody><tr><td>&quot;01&quot;</td><td>120</td><td>14.268728</td></tr><tr><td>&quot;02&quot;</td><td>119</td><td>14.149822</td></tr><tr><td>&quot;03&quot;</td><td>99</td><td>11.7717</td></tr><tr><td>&quot;04&quot;</td><td>78</td><td>9.274673</td></tr><tr><td>&quot;05&quot;</td><td>70</td><td>8.323424</td></tr><tr><td>&hellip;</td><td>&hellip;</td><td>&hellip;</td></tr><tr><td>&quot;23&quot;</td><td>1</td><td>0.118906</td></tr><tr><td>&quot;20&quot;</td><td>1</td><td>0.118906</td></tr><tr><td>&quot;24&quot;</td><td>1</td><td>0.118906</td></tr><tr><td>&quot;26&quot;</td><td>1</td><td>0.118906</td></tr><tr><td>&quot;22&quot;</td><td>1</td><td>0.118906</td></tr></tbody></table></div>"
      ],
      "text/plain": [
       "shape: (25, 3)\n",
       "┌─────────────┬───────┬───────────┐\n",
       "│ post_str_b1 ┆ count ┆ percent   │\n",
       "│ ---         ┆ ---   ┆ ---       │\n",
       "│ str         ┆ u32   ┆ f64       │\n",
       "╞═════════════╪═══════╪═══════════╡\n",
       "│ 01          ┆ 120   ┆ 14.268728 │\n",
       "│ 02          ┆ 119   ┆ 14.149822 │\n",
       "│ 03          ┆ 99    ┆ 11.7717   │\n",
       "│ 04          ┆ 78    ┆ 9.274673  │\n",
       "│ 05          ┆ 70    ┆ 8.323424  │\n",
       "│ …           ┆ …     ┆ …         │\n",
       "│ 23          ┆ 1     ┆ 0.118906  │\n",
       "│ 20          ┆ 1     ┆ 0.118906  │\n",
       "│ 24          ┆ 1     ┆ 0.118906  │\n",
       "│ 26          ┆ 1     ┆ 0.118906  │\n",
       "│ 22          ┆ 1     ┆ 0.118906  │\n",
       "└─────────────┴───────┴───────────┘"
      ]
     },
     "metadata": {},
     "output_type": "display_data"
    },
    {
     "data": {},
     "metadata": {},
     "output_type": "display_data"
    },
    {
     "data": {
      "application/vnd.holoviews_exec.v0+json": "",
      "text/html": [
       "<div id='4b05c5ef-8f63-4f46-8fd0-8b6bfe22b051'>\n",
       "  <div id=\"dc7248ee-f2ed-42f4-ab83-bda51aac54c7\" data-root-id=\"4b05c5ef-8f63-4f46-8fd0-8b6bfe22b051\" style=\"display: contents;\"></div>\n",
       "</div>\n",
       "<script type=\"application/javascript\">(function(root) {\n",
       "  var docs_json = {\"f1ad47df-86e4-42dd-8c6c-370982f8255c\":{\"version\":\"3.7.2\",\"title\":\"Bokeh Application\",\"roots\":[{\"type\":\"object\",\"name\":\"Row\",\"id\":\"4b05c5ef-8f63-4f46-8fd0-8b6bfe22b051\",\"attributes\":{\"name\":\"Row00918\",\"tags\":[\"embedded\"],\"stylesheets\":[\"\\n:host(.pn-loading):before, .pn-loading:before {\\n  background-color: #c3c3c3;\\n  mask-size: auto calc(min(50%, 400px));\\n  -webkit-mask-size: auto calc(min(50%, 400px));\\n}\",{\"type\":\"object\",\"name\":\"ImportedStyleSheet\",\"id\":\"63a7df04-6b2b-4175-ab9e-9e7282a72787\",\"attributes\":{\"url\":\"https://cdn.holoviz.org/panel/1.6.2/dist/css/loading.css\"}},{\"type\":\"object\",\"name\":\"ImportedStyleSheet\",\"id\":\"3dfdc269-815a-4b9f-aead-4a2429ebb8e2\",\"attributes\":{\"url\":\"https://cdn.holoviz.org/panel/1.6.2/dist/css/listpanel.css\"}},{\"type\":\"object\",\"name\":\"ImportedStyleSheet\",\"id\":\"bcba0892-e634-4f5a-a82c-5bf35c108b58\",\"attributes\":{\"url\":\"https://cdn.holoviz.org/panel/1.6.2/dist/bundled/theme/default.css\"}},{\"type\":\"object\",\"name\":\"ImportedStyleSheet\",\"id\":\"281a5a5c-d66f-407f-b304-34b4234b5132\",\"attributes\":{\"url\":\"https://cdn.holoviz.org/panel/1.6.2/dist/bundled/theme/native.css\"}}],\"min_width\":700,\"margin\":0,\"sizing_mode\":\"stretch_width\",\"align\":\"start\",\"children\":[{\"type\":\"object\",\"name\":\"Spacer\",\"id\":\"3194c2d0-7c30-4458-a72f-39073a2e66d0\",\"attributes\":{\"name\":\"HSpacer00922\",\"stylesheets\":[\"\\n:host(.pn-loading):before, .pn-loading:before {\\n  background-color: #c3c3c3;\\n  mask-size: auto calc(min(50%, 400px));\\n  -webkit-mask-size: auto calc(min(50%, 400px));\\n}\",{\"id\":\"63a7df04-6b2b-4175-ab9e-9e7282a72787\"},{\"id\":\"bcba0892-e634-4f5a-a82c-5bf35c108b58\"},{\"id\":\"281a5a5c-d66f-407f-b304-34b4234b5132\"}],\"margin\":0,\"sizing_mode\":\"stretch_width\",\"align\":\"start\"}},{\"type\":\"object\",\"name\":\"Figure\",\"id\":\"f9271e72-913e-4cb7-a49e-a6bf3a6440b6\",\"attributes\":{\"width\":700,\"height\":300,\"margin\":[5,10],\"sizing_mode\":\"fixed\",\"align\":\"start\",\"x_range\":{\"type\":\"object\",\"name\":\"FactorRange\",\"id\":\"de4740f1-a52c-4a57-b8d3-3761370964fb\",\"attributes\":{\"name\":\"post_str_b1\",\"tags\":[[[\"post_str_b1\",null]],[]],\"factors\":[\"01\",\"02\",\"03\",\"04\",\"05\",\"06\",\"07\",\"08\",\"09\",\"11\",\"12\",\"10\",\"13\",\"14\",\"15\",\"17\",\"16\",\"18\",\"19\",\"21\",\"23\",\"20\",\"24\",\"26\",\"22\"]}},\"y_range\":{\"type\":\"object\",\"name\":\"Range1d\",\"id\":\"7ad7dffa-5e02-49c0-88ae-38f137830b04\",\"attributes\":{\"name\":\"percent\",\"tags\":[[[\"percent\",null]],{\"type\":\"map\",\"entries\":[[\"invert_yaxis\",false],[\"autorange\",false]]}],\"end\":15.683709869203328,\"reset_start\":0.0,\"reset_end\":15.683709869203328}},\"x_scale\":{\"type\":\"object\",\"name\":\"CategoricalScale\",\"id\":\"c3e67b9b-df10-4603-a003-27b1e5647cf9\"},\"y_scale\":{\"type\":\"object\",\"name\":\"LinearScale\",\"id\":\"c676dd0b-1ecf-4d4a-bce8-2d132e4b2e37\"},\"title\":{\"type\":\"object\",\"name\":\"Title\",\"id\":\"9d4dd001-39ad-4dc2-be42-631522572c9d\",\"attributes\":{\"text_color\":\"black\",\"text_font_size\":\"12pt\"}},\"renderers\":[{\"type\":\"object\",\"name\":\"GlyphRenderer\",\"id\":\"7ae89705-880f-4ba7-a85f-e6789e560f96\",\"attributes\":{\"data_source\":{\"type\":\"object\",\"name\":\"ColumnDataSource\",\"id\":\"4d303c30-5096-4781-bea7-8e344f90287d\",\"attributes\":{\"selected\":{\"type\":\"object\",\"name\":\"Selection\",\"id\":\"cf81a389-d5c5-4311-8e08-8dc6727cf4aa\",\"attributes\":{\"indices\":[],\"line_indices\":[]}},\"selection_policy\":{\"type\":\"object\",\"name\":\"UnionRenderers\",\"id\":\"535fa88d-ec9c-4a5d-98a5-a62c1f9d5bda\"},\"data\":{\"type\":\"map\",\"entries\":[[\"post_str_b1\",[\"01\",\"02\",\"03\",\"04\",\"05\",\"06\",\"07\",\"08\",\"09\",\"11\",\"12\",\"10\",\"13\",\"14\",\"15\",\"17\",\"16\",\"18\",\"19\",\"21\",\"23\",\"20\",\"24\",\"26\",\"22\"]],[\"percent\",{\"type\":\"ndarray\",\"array\":{\"type\":\"bytes\",\"data\":\"hfqBrZaJLEAq1A9stUwsQBTVJE8ciydAo6/H8KGMIkDNfDbll6UgQHoTwEHo3R9AjuFDGUU1GUBY/KtzZAYTQDgW/+ocmRFARC4onAevCUBELiicB68JQJnIBYXz4AVAWPyrc2QGA0DZlF+Wgrv4PwRizop41PY/BGLOinjU9j9aLRO5oHDuP1otE7mgcN4/Wi0TuaBw3j8EYs6KeNTWP1otE7mgcL4/Wi0TuaBwvj9aLRO5oHC+P1otE7mgcL4/Wi0TuaBwvj8=\"},\"shape\":[25],\"dtype\":\"float64\",\"order\":\"little\"}]]}}},\"view\":{\"type\":\"object\",\"name\":\"CDSView\",\"id\":\"974930c5-966a-4307-9c12-acab3d9c4c89\",\"attributes\":{\"filter\":{\"type\":\"object\",\"name\":\"AllIndices\",\"id\":\"524a61f4-c969-4d97-8ec3-d9806b70fd41\"}}},\"glyph\":{\"type\":\"object\",\"name\":\"VBar\",\"id\":\"ef9b4562-ce4c-48f4-85e6-1a5d21ea4e6f\",\"attributes\":{\"tags\":[\"apply_ranges\"],\"x\":{\"type\":\"field\",\"field\":\"post_str_b1\"},\"width\":{\"type\":\"value\",\"value\":0.8},\"top\":{\"type\":\"field\",\"field\":\"percent\"},\"fill_color\":{\"type\":\"value\",\"value\":\"#30a2da\"},\"hatch_color\":{\"type\":\"value\",\"value\":\"#30a2da\"}}},\"selection_glyph\":{\"type\":\"object\",\"name\":\"VBar\",\"id\":\"c4a1099d-67df-488a-be18-0e92710c140b\",\"attributes\":{\"tags\":[\"apply_ranges\"],\"x\":{\"type\":\"field\",\"field\":\"post_str_b1\"},\"width\":{\"type\":\"value\",\"value\":0.8},\"bottom\":{\"type\":\"value\",\"value\":0},\"top\":{\"type\":\"field\",\"field\":\"percent\"},\"line_color\":{\"type\":\"value\",\"value\":\"black\"},\"line_alpha\":{\"type\":\"value\",\"value\":1.0},\"line_width\":{\"type\":\"value\",\"value\":1},\"line_join\":{\"type\":\"value\",\"value\":\"bevel\"},\"line_cap\":{\"type\":\"value\",\"value\":\"butt\"},\"line_dash\":{\"type\":\"value\",\"value\":[]},\"line_dash_offset\":{\"type\":\"value\",\"value\":0},\"fill_color\":{\"type\":\"value\",\"value\":\"#30a2da\"},\"fill_alpha\":{\"type\":\"value\",\"value\":1.0},\"hatch_color\":{\"type\":\"value\",\"value\":\"#30a2da\"},\"hatch_alpha\":{\"type\":\"value\",\"value\":1.0},\"hatch_scale\":{\"type\":\"value\",\"value\":12.0},\"hatch_pattern\":{\"type\":\"value\",\"value\":null},\"hatch_weight\":{\"type\":\"value\",\"value\":1.0}}},\"nonselection_glyph\":{\"type\":\"object\",\"name\":\"VBar\",\"id\":\"08b7e592-c2e5-43b2-895f-b2fbf34671cf\",\"attributes\":{\"tags\":[\"apply_ranges\"],\"x\":{\"type\":\"field\",\"field\":\"post_str_b1\"},\"width\":{\"type\":\"value\",\"value\":0.8},\"top\":{\"type\":\"field\",\"field\":\"percent\"},\"line_alpha\":{\"type\":\"value\",\"value\":0.1},\"fill_color\":{\"type\":\"value\",\"value\":\"#30a2da\"},\"fill_alpha\":{\"type\":\"value\",\"value\":0.1},\"hatch_color\":{\"type\":\"value\",\"value\":\"#30a2da\"},\"hatch_alpha\":{\"type\":\"value\",\"value\":0.1}}},\"muted_glyph\":{\"type\":\"object\",\"name\":\"VBar\",\"id\":\"dbd0296b-453c-4355-91f5-48e04420600b\",\"attributes\":{\"tags\":[\"apply_ranges\"],\"x\":{\"type\":\"field\",\"field\":\"post_str_b1\"},\"width\":{\"type\":\"value\",\"value\":0.8},\"top\":{\"type\":\"field\",\"field\":\"percent\"},\"line_alpha\":{\"type\":\"value\",\"value\":0.2},\"fill_color\":{\"type\":\"value\",\"value\":\"#30a2da\"},\"fill_alpha\":{\"type\":\"value\",\"value\":0.2},\"hatch_color\":{\"type\":\"value\",\"value\":\"#30a2da\"},\"hatch_alpha\":{\"type\":\"value\",\"value\":0.2}}}}},{\"type\":\"object\",\"name\":\"Span\",\"id\":\"9edd59a5-5dc7-41da-ac6d-eb0beeffd15e\",\"attributes\":{\"level\":\"glyph\",\"location\":3.9999999999999982,\"line_color\":\"red\",\"line_width\":3}},{\"type\":\"object\",\"name\":\"Span\",\"id\":\"8a1c24d8-ef00-4d41-bde7-f902b5d19b08\",\"attributes\":{\"level\":\"glyph\",\"location\":5.999999999999997,\"line_color\":\"blue\",\"line_width\":3}},{\"type\":\"object\",\"name\":\"Span\",\"id\":\"8390c7d4-94d8-4c19-aa98-6a5a127bd74c\",\"attributes\":{\"level\":\"glyph\",\"location\":1.9999999999999991,\"line_color\":\"blue\",\"line_width\":3}}],\"toolbar\":{\"type\":\"object\",\"name\":\"Toolbar\",\"id\":\"b2d03a79-3eb4-4d2f-b617-c9dd9898f20c\",\"attributes\":{\"tools\":[{\"type\":\"object\",\"name\":\"WheelZoomTool\",\"id\":\"084f69a3-afaa-4428-8c31-e8cd611adb27\",\"attributes\":{\"tags\":[\"hv_created\"],\"renderers\":\"auto\",\"zoom_together\":\"none\"}},{\"type\":\"object\",\"name\":\"HoverTool\",\"id\":\"c86dffde-126a-4c76-ad82-1e98ebaaffa4\",\"attributes\":{\"tags\":[\"hv_created\"],\"renderers\":[{\"id\":\"7ae89705-880f-4ba7-a85f-e6789e560f96\"}],\"tooltips\":[[\"post_str_b1\",\"@{post_str_b1}\"],[\"percent\",\"@{percent}\"]]}},{\"type\":\"object\",\"name\":\"SaveTool\",\"id\":\"45fd9547-0e3b-46e6-9ead-0fb82d56cae5\"},{\"type\":\"object\",\"name\":\"PanTool\",\"id\":\"005366e0-070a-4f3b-808f-afcf3ffe00e2\"},{\"type\":\"object\",\"name\":\"BoxZoomTool\",\"id\":\"05864b56-a7fd-455c-9311-3e26a5428cab\",\"attributes\":{\"dimensions\":\"both\",\"overlay\":{\"type\":\"object\",\"name\":\"BoxAnnotation\",\"id\":\"8366d720-0c3b-4c58-9052-b5208161d8ab\",\"attributes\":{\"syncable\":false,\"line_color\":\"black\",\"line_alpha\":1.0,\"line_width\":2,\"line_dash\":[4,4],\"fill_color\":\"lightgrey\",\"fill_alpha\":0.5,\"level\":\"overlay\",\"visible\":false,\"left\":{\"type\":\"number\",\"value\":\"nan\"},\"right\":{\"type\":\"number\",\"value\":\"nan\"},\"top\":{\"type\":\"number\",\"value\":\"nan\"},\"bottom\":{\"type\":\"number\",\"value\":\"nan\"},\"left_units\":\"canvas\",\"right_units\":\"canvas\",\"top_units\":\"canvas\",\"bottom_units\":\"canvas\",\"handles\":{\"type\":\"object\",\"name\":\"BoxInteractionHandles\",\"id\":\"bcd913fb-1794-406d-91b7-07aeefbbf677\",\"attributes\":{\"all\":{\"type\":\"object\",\"name\":\"AreaVisuals\",\"id\":\"b4133a18-f9c6-4afc-a0cb-ae917fbaaa8b\",\"attributes\":{\"fill_color\":\"white\",\"hover_fill_color\":\"lightgray\"}}}}}}}},{\"type\":\"object\",\"name\":\"ResetTool\",\"id\":\"f725a2a7-e18f-4d24-bdf5-d6ddc9694712\"}],\"active_drag\":{\"id\":\"005366e0-070a-4f3b-808f-afcf3ffe00e2\"}}},\"left\":[{\"type\":\"object\",\"name\":\"LinearAxis\",\"id\":\"dd9f30fe-df6a-4df8-8a27-e95367ab22d5\",\"attributes\":{\"ticker\":{\"type\":\"object\",\"name\":\"BasicTicker\",\"id\":\"cc0d110e-5233-41b6-ab8d-0e0e90f2cde6\",\"attributes\":{\"mantissas\":[1,2,5]}},\"formatter\":{\"type\":\"object\",\"name\":\"BasicTickFormatter\",\"id\":\"f57439b1-3d32-4518-a5cc-e35af5ed0672\"},\"axis_label\":\"percent\",\"major_label_policy\":{\"type\":\"object\",\"name\":\"AllLabels\",\"id\":\"ce152e45-c3d0-4112-b563-d70ef8fceb0a\"}}}],\"below\":[{\"type\":\"object\",\"name\":\"CategoricalAxis\",\"id\":\"d3e42b60-bca0-4e6a-98bb-16ba0dcf6f8a\",\"attributes\":{\"ticker\":{\"type\":\"object\",\"name\":\"CategoricalTicker\",\"id\":\"0258df54-5d61-4179-94b6-f5b6698924af\"},\"formatter\":{\"type\":\"object\",\"name\":\"CategoricalTickFormatter\",\"id\":\"7068a2bf-3cdc-45cb-82c9-58f8f950de37\"},\"axis_label\":\"post_str_b1\",\"major_label_policy\":{\"type\":\"object\",\"name\":\"AllLabels\",\"id\":\"5e917535-575a-40bd-bc25-4f6a6e284c52\"}}}],\"center\":[{\"type\":\"object\",\"name\":\"Grid\",\"id\":\"f519d5d3-b6bd-4002-8d68-422025deebc4\",\"attributes\":{\"axis\":{\"id\":\"d3e42b60-bca0-4e6a-98bb-16ba0dcf6f8a\"},\"grid_line_color\":null}},{\"type\":\"object\",\"name\":\"Grid\",\"id\":\"8b26372c-00db-405b-b8b9-de5c188cf8a2\",\"attributes\":{\"dimension\":1,\"axis\":{\"id\":\"dd9f30fe-df6a-4df8-8a27-e95367ab22d5\"},\"grid_line_color\":null}}],\"min_border_top\":10,\"min_border_bottom\":10,\"min_border_left\":10,\"min_border_right\":10,\"output_backend\":\"webgl\"}},{\"type\":\"object\",\"name\":\"Spacer\",\"id\":\"b2623137-959f-4af3-9e8e-8302f509c114\",\"attributes\":{\"name\":\"HSpacer00923\",\"stylesheets\":[\"\\n:host(.pn-loading):before, .pn-loading:before {\\n  background-color: #c3c3c3;\\n  mask-size: auto calc(min(50%, 400px));\\n  -webkit-mask-size: auto calc(min(50%, 400px));\\n}\",{\"id\":\"63a7df04-6b2b-4175-ab9e-9e7282a72787\"},{\"id\":\"bcba0892-e634-4f5a-a82c-5bf35c108b58\"},{\"id\":\"281a5a5c-d66f-407f-b304-34b4234b5132\"}],\"margin\":0,\"sizing_mode\":\"stretch_width\",\"align\":\"start\"}}]}}],\"defs\":[{\"type\":\"model\",\"name\":\"ReactiveHTML1\"},{\"type\":\"model\",\"name\":\"FlexBox1\",\"properties\":[{\"name\":\"align_content\",\"kind\":\"Any\",\"default\":\"flex-start\"},{\"name\":\"align_items\",\"kind\":\"Any\",\"default\":\"flex-start\"},{\"name\":\"flex_direction\",\"kind\":\"Any\",\"default\":\"row\"},{\"name\":\"flex_wrap\",\"kind\":\"Any\",\"default\":\"wrap\"},{\"name\":\"gap\",\"kind\":\"Any\",\"default\":\"\"},{\"name\":\"justify_content\",\"kind\":\"Any\",\"default\":\"flex-start\"}]},{\"type\":\"model\",\"name\":\"FloatPanel1\",\"properties\":[{\"name\":\"config\",\"kind\":\"Any\",\"default\":{\"type\":\"map\"}},{\"name\":\"contained\",\"kind\":\"Any\",\"default\":true},{\"name\":\"position\",\"kind\":\"Any\",\"default\":\"right-top\"},{\"name\":\"offsetx\",\"kind\":\"Any\",\"default\":null},{\"name\":\"offsety\",\"kind\":\"Any\",\"default\":null},{\"name\":\"theme\",\"kind\":\"Any\",\"default\":\"primary\"},{\"name\":\"status\",\"kind\":\"Any\",\"default\":\"normalized\"}]},{\"type\":\"model\",\"name\":\"GridStack1\",\"properties\":[{\"name\":\"ncols\",\"kind\":\"Any\",\"default\":null},{\"name\":\"nrows\",\"kind\":\"Any\",\"default\":null},{\"name\":\"allow_resize\",\"kind\":\"Any\",\"default\":true},{\"name\":\"allow_drag\",\"kind\":\"Any\",\"default\":true},{\"name\":\"state\",\"kind\":\"Any\",\"default\":[]}]},{\"type\":\"model\",\"name\":\"drag1\",\"properties\":[{\"name\":\"slider_width\",\"kind\":\"Any\",\"default\":5},{\"name\":\"slider_color\",\"kind\":\"Any\",\"default\":\"black\"},{\"name\":\"value\",\"kind\":\"Any\",\"default\":50}]},{\"type\":\"model\",\"name\":\"click1\",\"properties\":[{\"name\":\"terminal_output\",\"kind\":\"Any\",\"default\":\"\"},{\"name\":\"debug_name\",\"kind\":\"Any\",\"default\":\"\"},{\"name\":\"clears\",\"kind\":\"Any\",\"default\":0}]},{\"type\":\"model\",\"name\":\"FastWrapper1\",\"properties\":[{\"name\":\"object\",\"kind\":\"Any\",\"default\":null},{\"name\":\"style\",\"kind\":\"Any\",\"default\":null}]},{\"type\":\"model\",\"name\":\"NotificationArea1\",\"properties\":[{\"name\":\"js_events\",\"kind\":\"Any\",\"default\":{\"type\":\"map\"}},{\"name\":\"max_notifications\",\"kind\":\"Any\",\"default\":5},{\"name\":\"notifications\",\"kind\":\"Any\",\"default\":[]},{\"name\":\"position\",\"kind\":\"Any\",\"default\":\"bottom-right\"},{\"name\":\"_clear\",\"kind\":\"Any\",\"default\":0},{\"name\":\"types\",\"kind\":\"Any\",\"default\":[{\"type\":\"map\",\"entries\":[[\"type\",\"warning\"],[\"background\",\"#ffc107\"],[\"icon\",{\"type\":\"map\",\"entries\":[[\"className\",\"fas fa-exclamation-triangle\"],[\"tagName\",\"i\"],[\"color\",\"white\"]]}]]},{\"type\":\"map\",\"entries\":[[\"type\",\"info\"],[\"background\",\"#007bff\"],[\"icon\",{\"type\":\"map\",\"entries\":[[\"className\",\"fas fa-info-circle\"],[\"tagName\",\"i\"],[\"color\",\"white\"]]}]]}]}]},{\"type\":\"model\",\"name\":\"Notification\",\"properties\":[{\"name\":\"background\",\"kind\":\"Any\",\"default\":null},{\"name\":\"duration\",\"kind\":\"Any\",\"default\":3000},{\"name\":\"icon\",\"kind\":\"Any\",\"default\":null},{\"name\":\"message\",\"kind\":\"Any\",\"default\":\"\"},{\"name\":\"notification_type\",\"kind\":\"Any\",\"default\":null},{\"name\":\"_rendered\",\"kind\":\"Any\",\"default\":false},{\"name\":\"_destroyed\",\"kind\":\"Any\",\"default\":false}]},{\"type\":\"model\",\"name\":\"TemplateActions1\",\"properties\":[{\"name\":\"open_modal\",\"kind\":\"Any\",\"default\":0},{\"name\":\"close_modal\",\"kind\":\"Any\",\"default\":0}]},{\"type\":\"model\",\"name\":\"BootstrapTemplateActions1\",\"properties\":[{\"name\":\"open_modal\",\"kind\":\"Any\",\"default\":0},{\"name\":\"close_modal\",\"kind\":\"Any\",\"default\":0}]},{\"type\":\"model\",\"name\":\"TemplateEditor1\",\"properties\":[{\"name\":\"layout\",\"kind\":\"Any\",\"default\":[]}]},{\"type\":\"model\",\"name\":\"MaterialTemplateActions1\",\"properties\":[{\"name\":\"open_modal\",\"kind\":\"Any\",\"default\":0},{\"name\":\"close_modal\",\"kind\":\"Any\",\"default\":0}]},{\"type\":\"model\",\"name\":\"ReactiveESM1\",\"properties\":[{\"name\":\"esm_constants\",\"kind\":\"Any\",\"default\":{\"type\":\"map\"}}]},{\"type\":\"model\",\"name\":\"JSComponent1\",\"properties\":[{\"name\":\"esm_constants\",\"kind\":\"Any\",\"default\":{\"type\":\"map\"}}]},{\"type\":\"model\",\"name\":\"ReactComponent1\",\"properties\":[{\"name\":\"esm_constants\",\"kind\":\"Any\",\"default\":{\"type\":\"map\"}}]},{\"type\":\"model\",\"name\":\"AnyWidgetComponent1\",\"properties\":[{\"name\":\"esm_constants\",\"kind\":\"Any\",\"default\":{\"type\":\"map\"}}]},{\"type\":\"model\",\"name\":\"request_value1\",\"properties\":[{\"name\":\"fill\",\"kind\":\"Any\",\"default\":\"none\"},{\"name\":\"_synced\",\"kind\":\"Any\",\"default\":null},{\"name\":\"_request_sync\",\"kind\":\"Any\",\"default\":0}]}]}};\n",
       "  var render_items = [{\"docid\":\"f1ad47df-86e4-42dd-8c6c-370982f8255c\",\"roots\":{\"4b05c5ef-8f63-4f46-8fd0-8b6bfe22b051\":\"dc7248ee-f2ed-42f4-ab83-bda51aac54c7\"},\"root_ids\":[\"4b05c5ef-8f63-4f46-8fd0-8b6bfe22b051\"]}];\n",
       "  var docs = Object.values(docs_json)\n",
       "  if (!docs) {\n",
       "    return\n",
       "  }\n",
       "  const py_version = docs[0].version.replace('rc', '-rc.').replace('.dev', '-dev.')\n",
       "  async function embed_document(root) {\n",
       "    var Bokeh = get_bokeh(root)\n",
       "    await Bokeh.embed.embed_items_notebook(docs_json, render_items);\n",
       "    for (const render_item of render_items) {\n",
       "      for (const root_id of render_item.root_ids) {\n",
       "\tconst id_el = document.getElementById(root_id)\n",
       "\tif (id_el.children.length && id_el.children[0].hasAttribute('data-root-id')) {\n",
       "\t  const root_el = id_el.children[0]\n",
       "\t  root_el.id = root_el.id + '-rendered'\n",
       "\t  for (const child of root_el.children) {\n",
       "            // Ensure JupyterLab does not capture keyboard shortcuts\n",
       "            // see: https://jupyterlab.readthedocs.io/en/4.1.x/extension/notebook.html#keyboard-interaction-model\n",
       "\t    child.setAttribute('data-lm-suppress-shortcuts', 'true')\n",
       "\t  }\n",
       "\t}\n",
       "      }\n",
       "    }\n",
       "  }\n",
       "  function get_bokeh(root) {\n",
       "    if (root.Bokeh === undefined) {\n",
       "      return null\n",
       "    } else if (root.Bokeh.version !== py_version) {\n",
       "      if (root.Bokeh.versions === undefined || !root.Bokeh.versions.has(py_version)) {\n",
       "\treturn null\n",
       "      }\n",
       "      return root.Bokeh.versions.get(py_version);\n",
       "    } else if (root.Bokeh.version === py_version) {\n",
       "      return root.Bokeh\n",
       "    }\n",
       "    return null\n",
       "  }\n",
       "  function is_loaded(root) {\n",
       "    var Bokeh = get_bokeh(root)\n",
       "    return (Bokeh != null && Bokeh.Panel !== undefined)\n",
       "  }\n",
       "  if (is_loaded(root)) {\n",
       "    embed_document(root);\n",
       "  } else {\n",
       "    var attempts = 0;\n",
       "    var timer = setInterval(function(root) {\n",
       "      if (is_loaded(root)) {\n",
       "        clearInterval(timer);\n",
       "        embed_document(root);\n",
       "      } else if (document.readyState == \"complete\") {\n",
       "        attempts++;\n",
       "        if (attempts > 200) {\n",
       "          clearInterval(timer);\n",
       "\t  var Bokeh = get_bokeh(root)\n",
       "\t  if (Bokeh == null || Bokeh.Panel == null) {\n",
       "            console.warn(\"Panel: ERROR: Unable to run Panel code because Bokeh or Panel library is missing\");\n",
       "\t  } else {\n",
       "\t    console.warn(\"Panel: WARNING: Attempting to render but not all required libraries could be resolved.\")\n",
       "\t    embed_document(root)\n",
       "\t  }\n",
       "        }\n",
       "      }\n",
       "    }, 25, root)\n",
       "  }\n",
       "})(window);</script>"
      ],
      "text/plain": [
       ":Overlay\n",
       "   .Bars.I    :Bars   [post_str_b1]   (percent)\n",
       "   .HLine.I   :HLine   [x,y]\n",
       "   .HLine.II  :HLine   [x,y]\n",
       "   .HLine.III :HLine   [x,y]"
      ]
     },
     "metadata": {
      "application/vnd.holoviews_exec.v0+json": {
       "id": "4b05c5ef-8f63-4f46-8fd0-8b6bfe22b051"
      }
     },
     "output_type": "display_data"
    },
    {
     "name": "stdout",
     "output_type": "stream",
     "text": [
      "df_10_last FOR str_b1 = 03\n"
     ]
    },
    {
     "data": {
      "text/html": [
       "<div><style>\n",
       ".dataframe > thead > tr,\n",
       ".dataframe > tbody > tr {\n",
       "  text-align: right;\n",
       "  white-space: pre-wrap;\n",
       "}\n",
       "</style>\n",
       "<small>shape: (10, 21)</small><table border=\"1\" class=\"dataframe\"><thead><tr><th>fecha</th><th>sorteo</th><th>bolillas</th><th>id</th><th>combo</th><th>b1</th><th>b2</th><th>b3</th><th>b4</th><th>b5</th><th>str_b1</th><th>str_b2</th><th>str_b3</th><th>str_b4</th><th>str_b5</th><th>post_str_b1</th><th>post_str_blast</th><th>is_rare_combination</th><th>reason</th><th>jumps_map</th><th>unijump</th></tr><tr><td>str</td><td>str</td><td>str</td><td>str</td><td>array[u8, 5]</td><td>u8</td><td>u8</td><td>u8</td><td>u8</td><td>u8</td><td>str</td><td>str</td><td>str</td><td>str</td><td>str</td><td>str</td><td>str</td><td>bool</td><td>u8</td><td>str</td><td>i64</td></tr></thead><tbody><tr><td>&quot;30/03/2025&quot;</td><td>&quot;4171&quot;</td><td>&quot;35 05 15 29 03&quot;</td><td>&quot;0305152935&quot;</td><td>[3, 5, … 35]</td><td>3</td><td>5</td><td>15</td><td>29</td><td>35</td><td>&quot;03&quot;</td><td>&quot;05&quot;</td><td>&quot;15&quot;</td><td>&quot;29&quot;</td><td>&quot;35&quot;</td><td>&quot;07&quot;</td><td>&quot;34&quot;</td><td>true</td><td>2</td><td>&quot;02_10_14_06&quot;</td><td>-8</td></tr><tr><td>&quot;14/03/2025&quot;</td><td>&quot;4155&quot;</td><td>&quot;35 11 03 07 15&quot;</td><td>&quot;0307111535&quot;</td><td>[3, 7, … 35]</td><td>3</td><td>7</td><td>11</td><td>15</td><td>35</td><td>&quot;03&quot;</td><td>&quot;07&quot;</td><td>&quot;11&quot;</td><td>&quot;15&quot;</td><td>&quot;35&quot;</td><td>&quot;02&quot;</td><td>&quot;27&quot;</td><td>true</td><td>26</td><td>&quot;04_04_04_20&quot;</td><td>16</td></tr><tr><td>&quot;12/03/2025&quot;</td><td>&quot;4153&quot;</td><td>&quot;28 14 35 03 15&quot;</td><td>&quot;0314152835&quot;</td><td>[3, 14, … 35]</td><td>3</td><td>14</td><td>15</td><td>28</td><td>35</td><td>&quot;03&quot;</td><td>&quot;14&quot;</td><td>&quot;15&quot;</td><td>&quot;28&quot;</td><td>&quot;35&quot;</td><td>&quot;07&quot;</td><td>&quot;30&quot;</td><td>false</td><td>0</td><td>&quot;11_01_13_07&quot;</td><td>-40</td></tr><tr><td>&quot;07/03/2025&quot;</td><td>&quot;4148&quot;</td><td>&quot;26 07 03 24 30&quot;</td><td>&quot;0307242630&quot;</td><td>[3, 7, … 30]</td><td>3</td><td>7</td><td>24</td><td>26</td><td>30</td><td>&quot;03&quot;</td><td>&quot;07&quot;</td><td>&quot;24&quot;</td><td>&quot;26&quot;</td><td>&quot;30&quot;</td><td>&quot;02&quot;</td><td>&quot;35&quot;</td><td>true</td><td>16</td><td>&quot;04_17_02_04&quot;</td><td>45</td></tr><tr><td>&quot;27/02/2025&quot;</td><td>&quot;4140&quot;</td><td>&quot;14 29 03 04 07&quot;</td><td>&quot;0304071429&quot;</td><td>[3, 4, … 29]</td><td>3</td><td>4</td><td>7</td><td>14</td><td>29</td><td>&quot;03&quot;</td><td>&quot;04&quot;</td><td>&quot;07&quot;</td><td>&quot;14&quot;</td><td>&quot;29&quot;</td><td>&quot;04&quot;</td><td>&quot;33&quot;</td><td>false</td><td>0</td><td>&quot;01_03_07_15&quot;</td><td>2</td></tr><tr><td>&quot;22/02/2025&quot;</td><td>&quot;4135&quot;</td><td>&quot;34 33 15 24 03&quot;</td><td>&quot;0315243334&quot;</td><td>[3, 15, … 34]</td><td>3</td><td>15</td><td>24</td><td>33</td><td>34</td><td>&quot;03&quot;</td><td>&quot;15&quot;</td><td>&quot;24&quot;</td><td>&quot;33&quot;</td><td>&quot;34&quot;</td><td>&quot;11&quot;</td><td>&quot;32&quot;</td><td>true</td><td>8</td><td>&quot;12_09_09_01&quot;</td><td>-11</td></tr><tr><td>&quot;26/01/2025&quot;</td><td>&quot;4108&quot;</td><td>&quot;09 35 03 30 32&quot;</td><td>&quot;0309303235&quot;</td><td>[3, 9, … 35]</td><td>3</td><td>9</td><td>30</td><td>32</td><td>35</td><td>&quot;03&quot;</td><td>&quot;09&quot;</td><td>&quot;30&quot;</td><td>&quot;32&quot;</td><td>&quot;35&quot;</td><td>&quot;02&quot;</td><td>&quot;26&quot;</td><td>true</td><td>16</td><td>&quot;06_21_02_03&quot;</td><td>54</td></tr><tr><td>&quot;24/01/2025&quot;</td><td>&quot;4106&quot;</td><td>&quot;07 03 28 15 31&quot;</td><td>&quot;0307152831&quot;</td><td>[3, 7, … 31]</td><td>3</td><td>7</td><td>15</td><td>28</td><td>31</td><td>&quot;03&quot;</td><td>&quot;07&quot;</td><td>&quot;15&quot;</td><td>&quot;28&quot;</td><td>&quot;31&quot;</td><td>&quot;06&quot;</td><td>&quot;31&quot;</td><td>false</td><td>0</td><td>&quot;04_08_13_03&quot;</td><td>-16</td></tr><tr><td>&quot;20/01/2025&quot;</td><td>&quot;4102&quot;</td><td>&quot;19 03 34 25 04&quot;</td><td>&quot;0304192534&quot;</td><td>[3, 4, … 34]</td><td>3</td><td>4</td><td>19</td><td>25</td><td>34</td><td>&quot;03&quot;</td><td>&quot;04&quot;</td><td>&quot;19&quot;</td><td>&quot;25&quot;</td><td>&quot;34&quot;</td><td>&quot;21&quot;</td><td>&quot;34&quot;</td><td>false</td><td>0</td><td>&quot;01_15_06_09&quot;</td><td>35</td></tr><tr><td>&quot;28/12/2024&quot;</td><td>&quot;4079&quot;</td><td>&quot;28 33 03 22 32&quot;</td><td>&quot;0322283233&quot;</td><td>[3, 22, … 33]</td><td>3</td><td>22</td><td>28</td><td>32</td><td>33</td><td>&quot;03&quot;</td><td>&quot;22&quot;</td><td>&quot;28&quot;</td><td>&quot;32&quot;</td><td>&quot;33&quot;</td><td>&quot;01&quot;</td><td>&quot;34&quot;</td><td>true</td><td>16</td><td>&quot;19_06_04_01&quot;</td><td>-12</td></tr></tbody></table></div>"
      ],
      "text/plain": [
       "shape: (10, 21)\n",
       "┌────────────┬────────┬─────────────┬────────────┬───┬─────────────┬────────┬────────────┬─────────┐\n",
       "│ fecha      ┆ sorteo ┆ bolillas    ┆ id         ┆ … ┆ is_rare_com ┆ reason ┆ jumps_map  ┆ unijump │\n",
       "│ ---        ┆ ---    ┆ ---         ┆ ---        ┆   ┆ bination    ┆ ---    ┆ ---        ┆ ---     │\n",
       "│ str        ┆ str    ┆ str         ┆ str        ┆   ┆ ---         ┆ u8     ┆ str        ┆ i64     │\n",
       "│            ┆        ┆             ┆            ┆   ┆ bool        ┆        ┆            ┆         │\n",
       "╞════════════╪════════╪═════════════╪════════════╪═══╪═════════════╪════════╪════════════╪═════════╡\n",
       "│ 30/03/2025 ┆ 4171   ┆ 35 05 15 29 ┆ 0305152935 ┆ … ┆ true        ┆ 2      ┆ 02_10_14_0 ┆ -8      │\n",
       "│            ┆        ┆ 03          ┆            ┆   ┆             ┆        ┆ 6          ┆         │\n",
       "│ 14/03/2025 ┆ 4155   ┆ 35 11 03 07 ┆ 0307111535 ┆ … ┆ true        ┆ 26     ┆ 04_04_04_2 ┆ 16      │\n",
       "│            ┆        ┆ 15          ┆            ┆   ┆             ┆        ┆ 0          ┆         │\n",
       "│ 12/03/2025 ┆ 4153   ┆ 28 14 35 03 ┆ 0314152835 ┆ … ┆ false       ┆ 0      ┆ 11_01_13_0 ┆ -40     │\n",
       "│            ┆        ┆ 15          ┆            ┆   ┆             ┆        ┆ 7          ┆         │\n",
       "│ 07/03/2025 ┆ 4148   ┆ 26 07 03 24 ┆ 0307242630 ┆ … ┆ true        ┆ 16     ┆ 04_17_02_0 ┆ 45      │\n",
       "│            ┆        ┆ 30          ┆            ┆   ┆             ┆        ┆ 4          ┆         │\n",
       "│ 27/02/2025 ┆ 4140   ┆ 14 29 03 04 ┆ 0304071429 ┆ … ┆ false       ┆ 0      ┆ 01_03_07_1 ┆ 2       │\n",
       "│            ┆        ┆ 07          ┆            ┆   ┆             ┆        ┆ 5          ┆         │\n",
       "│ 22/02/2025 ┆ 4135   ┆ 34 33 15 24 ┆ 0315243334 ┆ … ┆ true        ┆ 8      ┆ 12_09_09_0 ┆ -11     │\n",
       "│            ┆        ┆ 03          ┆            ┆   ┆             ┆        ┆ 1          ┆         │\n",
       "│ 26/01/2025 ┆ 4108   ┆ 09 35 03 30 ┆ 0309303235 ┆ … ┆ true        ┆ 16     ┆ 06_21_02_0 ┆ 54      │\n",
       "│            ┆        ┆ 32          ┆            ┆   ┆             ┆        ┆ 3          ┆         │\n",
       "│ 24/01/2025 ┆ 4106   ┆ 07 03 28 15 ┆ 0307152831 ┆ … ┆ false       ┆ 0      ┆ 04_08_13_0 ┆ -16     │\n",
       "│            ┆        ┆ 31          ┆            ┆   ┆             ┆        ┆ 3          ┆         │\n",
       "│ 20/01/2025 ┆ 4102   ┆ 19 03 34 25 ┆ 0304192534 ┆ … ┆ false       ┆ 0      ┆ 01_15_06_0 ┆ 35      │\n",
       "│            ┆        ┆ 04          ┆            ┆   ┆             ┆        ┆ 9          ┆         │\n",
       "│ 28/12/2024 ┆ 4079   ┆ 28 33 03 22 ┆ 0322283233 ┆ … ┆ true        ┆ 16     ┆ 19_06_04_0 ┆ -12     │\n",
       "│            ┆        ┆ 32          ┆            ┆   ┆             ┆        ┆ 1          ┆         │\n",
       "└────────────┴────────┴─────────────┴────────────┴───┴─────────────┴────────┴────────────┴─────────┘"
      ]
     },
     "metadata": {},
     "output_type": "display_data"
    },
    {
     "name": "stdout",
     "output_type": "stream",
     "text": [
      "df_jumps_map FOR str_b1 = 03\n"
     ]
    },
    {
     "data": {
      "text/html": [
       "<div><style>\n",
       ".dataframe > thead > tr,\n",
       ".dataframe > tbody > tr {\n",
       "  text-align: right;\n",
       "  white-space: pre-wrap;\n",
       "}\n",
       "</style>\n",
       "<small>shape: (832, 2)</small><table border=\"1\" class=\"dataframe\"><thead><tr><th>jumps_map</th><th>count</th></tr><tr><td>str</td><td>u32</td></tr></thead><tbody><tr><td>&quot;11_03_11_05&quot;</td><td>2</td></tr><tr><td>&quot;11_12_01_02&quot;</td><td>2</td></tr><tr><td>&quot;20_07_02_03&quot;</td><td>2</td></tr><tr><td>&quot;04_04_04_20&quot;</td><td>2</td></tr><tr><td>&quot;02_19_07_02&quot;</td><td>2</td></tr><tr><td>&hellip;</td><td>&hellip;</td></tr><tr><td>&quot;02_06_09_13&quot;</td><td>1</td></tr><tr><td>&quot;01_01_22_05&quot;</td><td>1</td></tr><tr><td>&quot;09_06_06_11&quot;</td><td>1</td></tr><tr><td>&quot;02_08_11_06&quot;</td><td>1</td></tr><tr><td>&quot;18_06_02_05&quot;</td><td>1</td></tr></tbody></table></div>"
      ],
      "text/plain": [
       "shape: (832, 2)\n",
       "┌─────────────┬───────┐\n",
       "│ jumps_map   ┆ count │\n",
       "│ ---         ┆ ---   │\n",
       "│ str         ┆ u32   │\n",
       "╞═════════════╪═══════╡\n",
       "│ 11_03_11_05 ┆ 2     │\n",
       "│ 11_12_01_02 ┆ 2     │\n",
       "│ 20_07_02_03 ┆ 2     │\n",
       "│ 04_04_04_20 ┆ 2     │\n",
       "│ 02_19_07_02 ┆ 2     │\n",
       "│ …           ┆ …     │\n",
       "│ 02_06_09_13 ┆ 1     │\n",
       "│ 01_01_22_05 ┆ 1     │\n",
       "│ 09_06_06_11 ┆ 1     │\n",
       "│ 02_08_11_06 ┆ 1     │\n",
       "│ 18_06_02_05 ┆ 1     │\n",
       "└─────────────┴───────┘"
      ]
     },
     "metadata": {},
     "output_type": "display_data"
    },
    {
     "name": "stdout",
     "output_type": "stream",
     "text": [
      "df_unijump FOR str_b1 = 03\n"
     ]
    },
    {
     "data": {
      "text/html": [
       "<div><style>\n",
       ".dataframe > thead > tr,\n",
       ".dataframe > tbody > tr {\n",
       "  text-align: right;\n",
       "  white-space: pre-wrap;\n",
       "}\n",
       "</style>\n",
       "<small>shape: (123, 2)</small><table border=\"1\" class=\"dataframe\"><thead><tr><th>unijump</th><th>count</th></tr><tr><td>i64</td><td>u32</td></tr></thead><tbody><tr><td>-2</td><td>24</td></tr><tr><td>16</td><td>19</td></tr><tr><td>6</td><td>18</td></tr><tr><td>-8</td><td>17</td></tr><tr><td>7</td><td>17</td></tr><tr><td>&hellip;</td><td>&hellip;</td></tr><tr><td>64</td><td>1</td></tr><tr><td>-63</td><td>1</td></tr><tr><td>46</td><td>1</td></tr><tr><td>-46</td><td>1</td></tr><tr><td>-65</td><td>1</td></tr></tbody></table></div>"
      ],
      "text/plain": [
       "shape: (123, 2)\n",
       "┌─────────┬───────┐\n",
       "│ unijump ┆ count │\n",
       "│ ---     ┆ ---   │\n",
       "│ i64     ┆ u32   │\n",
       "╞═════════╪═══════╡\n",
       "│ -2      ┆ 24    │\n",
       "│ 16      ┆ 19    │\n",
       "│ 6       ┆ 18    │\n",
       "│ -8      ┆ 17    │\n",
       "│ 7       ┆ 17    │\n",
       "│ …       ┆ …     │\n",
       "│ 64      ┆ 1     │\n",
       "│ -63     ┆ 1     │\n",
       "│ 46      ┆ 1     │\n",
       "│ -46     ┆ 1     │\n",
       "│ -65     ┆ 1     │\n",
       "└─────────┴───────┘"
      ]
     },
     "metadata": {},
     "output_type": "display_data"
    }
   ],
   "source": [
    "possible_b1, exclude_jump_maps_b1 = plot_post_col(col='str_b1', post_col='post_str_b1', test_value=\"03\")"
   ]
  },
  {
   "cell_type": "code",
   "execution_count": 73,
   "metadata": {},
   "outputs": [
    {
     "name": "stdout",
     "output_type": "stream",
     "text": [
      "df_viz FOR str_b5 = 23\n"
     ]
    },
    {
     "data": {
      "text/html": [
       "<div><style>\n",
       ".dataframe > thead > tr,\n",
       ".dataframe > tbody > tr {\n",
       "  text-align: right;\n",
       "  white-space: pre-wrap;\n",
       "}\n",
       "</style>\n",
       "<small>shape: (18, 3)</small><table border=\"1\" class=\"dataframe\"><thead><tr><th>post_str_blast</th><th>count</th><th>percent</th></tr><tr><td>str</td><td>u32</td><td>f64</td></tr></thead><tbody><tr><td>&quot;35&quot;</td><td>28</td><td>17.610063</td></tr><tr><td>&quot;33&quot;</td><td>20</td><td>12.578616</td></tr><tr><td>&quot;31&quot;</td><td>16</td><td>10.062893</td></tr><tr><td>&quot;32&quot;</td><td>14</td><td>8.805031</td></tr><tr><td>&quot;34&quot;</td><td>14</td><td>8.805031</td></tr><tr><td>&hellip;</td><td>&hellip;</td><td>&hellip;</td></tr><tr><td>&quot;22&quot;</td><td>4</td><td>2.515723</td></tr><tr><td>&quot;19&quot;</td><td>3</td><td>1.886792</td></tr><tr><td>&quot;23&quot;</td><td>2</td><td>1.257862</td></tr><tr><td>&quot;20&quot;</td><td>2</td><td>1.257862</td></tr><tr><td>&quot;18&quot;</td><td>1</td><td>0.628931</td></tr></tbody></table></div>"
      ],
      "text/plain": [
       "shape: (18, 3)\n",
       "┌────────────────┬───────┬───────────┐\n",
       "│ post_str_blast ┆ count ┆ percent   │\n",
       "│ ---            ┆ ---   ┆ ---       │\n",
       "│ str            ┆ u32   ┆ f64       │\n",
       "╞════════════════╪═══════╪═══════════╡\n",
       "│ 35             ┆ 28    ┆ 17.610063 │\n",
       "│ 33             ┆ 20    ┆ 12.578616 │\n",
       "│ 31             ┆ 16    ┆ 10.062893 │\n",
       "│ 32             ┆ 14    ┆ 8.805031  │\n",
       "│ 34             ┆ 14    ┆ 8.805031  │\n",
       "│ …              ┆ …     ┆ …         │\n",
       "│ 22             ┆ 4     ┆ 2.515723  │\n",
       "│ 19             ┆ 3     ┆ 1.886792  │\n",
       "│ 23             ┆ 2     ┆ 1.257862  │\n",
       "│ 20             ┆ 2     ┆ 1.257862  │\n",
       "│ 18             ┆ 1     ┆ 0.628931  │\n",
       "└────────────────┴───────┴───────────┘"
      ]
     },
     "metadata": {},
     "output_type": "display_data"
    },
    {
     "data": {},
     "metadata": {},
     "output_type": "display_data"
    },
    {
     "data": {
      "application/vnd.holoviews_exec.v0+json": "",
      "text/html": [
       "<div id='ce82e2d3-e836-4162-9304-95ed174ec378'>\n",
       "  <div id=\"cb051fab-a32e-4cfd-8f18-39cb4480c4cd\" data-root-id=\"ce82e2d3-e836-4162-9304-95ed174ec378\" style=\"display: contents;\"></div>\n",
       "</div>\n",
       "<script type=\"application/javascript\">(function(root) {\n",
       "  var docs_json = {\"5217a960-a061-402f-bc4c-a263d0288f8b\":{\"version\":\"3.7.2\",\"title\":\"Bokeh Application\",\"roots\":[{\"type\":\"object\",\"name\":\"Row\",\"id\":\"ce82e2d3-e836-4162-9304-95ed174ec378\",\"attributes\":{\"name\":\"Row00989\",\"tags\":[\"embedded\"],\"stylesheets\":[\"\\n:host(.pn-loading):before, .pn-loading:before {\\n  background-color: #c3c3c3;\\n  mask-size: auto calc(min(50%, 400px));\\n  -webkit-mask-size: auto calc(min(50%, 400px));\\n}\",{\"type\":\"object\",\"name\":\"ImportedStyleSheet\",\"id\":\"f6ce2eae-efe8-4e8f-a8f3-4c3cf8977576\",\"attributes\":{\"url\":\"https://cdn.holoviz.org/panel/1.6.2/dist/css/loading.css\"}},{\"type\":\"object\",\"name\":\"ImportedStyleSheet\",\"id\":\"2609fef4-d949-49c3-9c2e-a3febab49a0c\",\"attributes\":{\"url\":\"https://cdn.holoviz.org/panel/1.6.2/dist/css/listpanel.css\"}},{\"type\":\"object\",\"name\":\"ImportedStyleSheet\",\"id\":\"27eb17ce-45a6-4b36-b8f8-1d1d67f38b41\",\"attributes\":{\"url\":\"https://cdn.holoviz.org/panel/1.6.2/dist/bundled/theme/default.css\"}},{\"type\":\"object\",\"name\":\"ImportedStyleSheet\",\"id\":\"472e8a1e-b0b6-4056-90cd-3e07616f6cc3\",\"attributes\":{\"url\":\"https://cdn.holoviz.org/panel/1.6.2/dist/bundled/theme/native.css\"}}],\"min_width\":700,\"margin\":0,\"sizing_mode\":\"stretch_width\",\"align\":\"start\",\"children\":[{\"type\":\"object\",\"name\":\"Spacer\",\"id\":\"06ac972c-3523-42ad-afa1-e487aba65697\",\"attributes\":{\"name\":\"HSpacer00993\",\"stylesheets\":[\"\\n:host(.pn-loading):before, .pn-loading:before {\\n  background-color: #c3c3c3;\\n  mask-size: auto calc(min(50%, 400px));\\n  -webkit-mask-size: auto calc(min(50%, 400px));\\n}\",{\"id\":\"f6ce2eae-efe8-4e8f-a8f3-4c3cf8977576\"},{\"id\":\"27eb17ce-45a6-4b36-b8f8-1d1d67f38b41\"},{\"id\":\"472e8a1e-b0b6-4056-90cd-3e07616f6cc3\"}],\"margin\":0,\"sizing_mode\":\"stretch_width\",\"align\":\"start\"}},{\"type\":\"object\",\"name\":\"Figure\",\"id\":\"3a12239f-0107-4b78-8d1c-5f684f36e305\",\"attributes\":{\"width\":700,\"height\":300,\"margin\":[5,10],\"sizing_mode\":\"fixed\",\"align\":\"start\",\"x_range\":{\"type\":\"object\",\"name\":\"FactorRange\",\"id\":\"6a3f9b6a-02a0-44f0-b70e-ca5f1d563846\",\"attributes\":{\"name\":\"post_str_blast\",\"tags\":[[[\"post_str_blast\",null]],[]],\"factors\":[\"35\",\"33\",\"31\",\"32\",\"34\",\"29\",\"28\",\"26\",\"30\",\"21\",\"24\",\"25\",\"27\",\"22\",\"19\",\"23\",\"20\",\"18\"]}},\"y_range\":{\"type\":\"object\",\"name\":\"Range1d\",\"id\":\"ba99b8d7-7acc-4713-af8f-c6b8f63098b7\",\"attributes\":{\"name\":\"percent\",\"tags\":[[[\"percent\",null]],{\"type\":\"map\",\"entries\":[[\"invert_yaxis\",false],[\"autorange\",false]]}],\"end\":19.308176100628934,\"reset_start\":0.0,\"reset_end\":19.308176100628934}},\"x_scale\":{\"type\":\"object\",\"name\":\"CategoricalScale\",\"id\":\"56dcf8fa-d96a-4d6a-8df6-591fafb7cb80\"},\"y_scale\":{\"type\":\"object\",\"name\":\"LinearScale\",\"id\":\"2f924bf3-7488-4a04-bc93-d97512846540\"},\"title\":{\"type\":\"object\",\"name\":\"Title\",\"id\":\"24a2685e-b52a-44dd-9115-c986611dcdd4\",\"attributes\":{\"text_color\":\"black\",\"text_font_size\":\"12pt\"}},\"renderers\":[{\"type\":\"object\",\"name\":\"GlyphRenderer\",\"id\":\"e056cfd7-78b6-4197-98c1-fb7774ed1778\",\"attributes\":{\"data_source\":{\"type\":\"object\",\"name\":\"ColumnDataSource\",\"id\":\"e4b421f7-21cb-43f9-b26e-0733e7e5380c\",\"attributes\":{\"selected\":{\"type\":\"object\",\"name\":\"Selection\",\"id\":\"502c5cb0-2595-4563-8655-3e5c53c56803\",\"attributes\":{\"indices\":[],\"line_indices\":[]}},\"selection_policy\":{\"type\":\"object\",\"name\":\"UnionRenderers\",\"id\":\"215c5bf6-398e-47d7-97bc-c82bcd6cdde5\"},\"data\":{\"type\":\"map\",\"entries\":[[\"post_str_blast\",[\"35\",\"33\",\"31\",\"32\",\"34\",\"29\",\"28\",\"26\",\"30\",\"21\",\"24\",\"25\",\"27\",\"22\",\"19\",\"23\",\"20\",\"18\"]],[\"percent\",{\"type\":\"ndarray\",\"array\":{\"type\":\"bytes\",\"data\":\"EUruFC2cMUA8RQtnQCgpQMqdooUzICRAEUruFC2cIUARSu4ULZwhQPWYv9dGrBtAPEULZ0AoGUCv7HNITTAOQK/sc0hNMA5Ar+xzSE0wDkCv7HNITTAOQDxFC2dAKAlAPEULZ0AoCUDKnaKFMyAEQK/sc0hNMP4/yp2ihTMg9D/KnaKFMyD0P8qdooUzIOQ/\"},\"shape\":[18],\"dtype\":\"float64\",\"order\":\"little\"}]]}}},\"view\":{\"type\":\"object\",\"name\":\"CDSView\",\"id\":\"333e7a70-dc77-4bf3-bab8-f142073546ab\",\"attributes\":{\"filter\":{\"type\":\"object\",\"name\":\"AllIndices\",\"id\":\"83324716-6472-4944-9cdd-136ea878587e\"}}},\"glyph\":{\"type\":\"object\",\"name\":\"VBar\",\"id\":\"a9b35f3f-6ff0-4840-bb9a-952008311f7e\",\"attributes\":{\"tags\":[\"apply_ranges\"],\"x\":{\"type\":\"field\",\"field\":\"post_str_blast\"},\"width\":{\"type\":\"value\",\"value\":0.8},\"top\":{\"type\":\"field\",\"field\":\"percent\"},\"fill_color\":{\"type\":\"value\",\"value\":\"#30a2da\"},\"hatch_color\":{\"type\":\"value\",\"value\":\"#30a2da\"}}},\"selection_glyph\":{\"type\":\"object\",\"name\":\"VBar\",\"id\":\"b1eb91bc-39fa-41a7-a7c0-8eb281f6bb10\",\"attributes\":{\"tags\":[\"apply_ranges\"],\"x\":{\"type\":\"field\",\"field\":\"post_str_blast\"},\"width\":{\"type\":\"value\",\"value\":0.8},\"bottom\":{\"type\":\"value\",\"value\":0},\"top\":{\"type\":\"field\",\"field\":\"percent\"},\"line_color\":{\"type\":\"value\",\"value\":\"black\"},\"line_alpha\":{\"type\":\"value\",\"value\":1.0},\"line_width\":{\"type\":\"value\",\"value\":1},\"line_join\":{\"type\":\"value\",\"value\":\"bevel\"},\"line_cap\":{\"type\":\"value\",\"value\":\"butt\"},\"line_dash\":{\"type\":\"value\",\"value\":[]},\"line_dash_offset\":{\"type\":\"value\",\"value\":0},\"fill_color\":{\"type\":\"value\",\"value\":\"#30a2da\"},\"fill_alpha\":{\"type\":\"value\",\"value\":1.0},\"hatch_color\":{\"type\":\"value\",\"value\":\"#30a2da\"},\"hatch_alpha\":{\"type\":\"value\",\"value\":1.0},\"hatch_scale\":{\"type\":\"value\",\"value\":12.0},\"hatch_pattern\":{\"type\":\"value\",\"value\":null},\"hatch_weight\":{\"type\":\"value\",\"value\":1.0}}},\"nonselection_glyph\":{\"type\":\"object\",\"name\":\"VBar\",\"id\":\"16edbc38-6577-4f0c-83a0-c086958de21d\",\"attributes\":{\"tags\":[\"apply_ranges\"],\"x\":{\"type\":\"field\",\"field\":\"post_str_blast\"},\"width\":{\"type\":\"value\",\"value\":0.8},\"top\":{\"type\":\"field\",\"field\":\"percent\"},\"line_alpha\":{\"type\":\"value\",\"value\":0.1},\"fill_color\":{\"type\":\"value\",\"value\":\"#30a2da\"},\"fill_alpha\":{\"type\":\"value\",\"value\":0.1},\"hatch_color\":{\"type\":\"value\",\"value\":\"#30a2da\"},\"hatch_alpha\":{\"type\":\"value\",\"value\":0.1}}},\"muted_glyph\":{\"type\":\"object\",\"name\":\"VBar\",\"id\":\"8efa65c5-1e65-4c21-8920-589e08aa7255\",\"attributes\":{\"tags\":[\"apply_ranges\"],\"x\":{\"type\":\"field\",\"field\":\"post_str_blast\"},\"width\":{\"type\":\"value\",\"value\":0.8},\"top\":{\"type\":\"field\",\"field\":\"percent\"},\"line_alpha\":{\"type\":\"value\",\"value\":0.2},\"fill_color\":{\"type\":\"value\",\"value\":\"#30a2da\"},\"fill_alpha\":{\"type\":\"value\",\"value\":0.2},\"hatch_color\":{\"type\":\"value\",\"value\":\"#30a2da\"},\"hatch_alpha\":{\"type\":\"value\",\"value\":0.2}}}}},{\"type\":\"object\",\"name\":\"Span\",\"id\":\"980e1b47-ed66-49f1-a6fe-65fedf0eb719\",\"attributes\":{\"level\":\"glyph\",\"location\":5.5555555555555545,\"line_color\":\"red\",\"line_width\":3}},{\"type\":\"object\",\"name\":\"Span\",\"id\":\"2d81810a-9fc6-402e-a4e3-f0a79f1951da\",\"attributes\":{\"level\":\"glyph\",\"location\":8.333333333333332,\"line_color\":\"blue\",\"line_width\":3}},{\"type\":\"object\",\"name\":\"Span\",\"id\":\"48ee9791-5fc8-4f4d-b7fe-fb2838aa615d\",\"attributes\":{\"level\":\"glyph\",\"location\":2.7777777777777772,\"line_color\":\"blue\",\"line_width\":3}}],\"toolbar\":{\"type\":\"object\",\"name\":\"Toolbar\",\"id\":\"c4736a44-71dd-49f5-af71-759a11afab1d\",\"attributes\":{\"tools\":[{\"type\":\"object\",\"name\":\"WheelZoomTool\",\"id\":\"65d67602-eb27-40ce-bda4-2ae054db8579\",\"attributes\":{\"tags\":[\"hv_created\"],\"renderers\":\"auto\",\"zoom_together\":\"none\"}},{\"type\":\"object\",\"name\":\"HoverTool\",\"id\":\"a181ceee-188a-47ec-9dc8-b4aecf4278bf\",\"attributes\":{\"tags\":[\"hv_created\"],\"renderers\":[{\"id\":\"e056cfd7-78b6-4197-98c1-fb7774ed1778\"}],\"tooltips\":[[\"post_str_blast\",\"@{post_str_blast}\"],[\"percent\",\"@{percent}\"]]}},{\"type\":\"object\",\"name\":\"SaveTool\",\"id\":\"b8c910f5-1250-4a86-9682-c2390bc3b5c9\"},{\"type\":\"object\",\"name\":\"PanTool\",\"id\":\"aba0986a-32a1-47b8-8cad-582a9bab7bfe\"},{\"type\":\"object\",\"name\":\"BoxZoomTool\",\"id\":\"e5939e46-7f3e-4a8a-aa1d-ee45118b218b\",\"attributes\":{\"dimensions\":\"both\",\"overlay\":{\"type\":\"object\",\"name\":\"BoxAnnotation\",\"id\":\"20574c22-48e8-488a-a6eb-85bd3d4baf1f\",\"attributes\":{\"syncable\":false,\"line_color\":\"black\",\"line_alpha\":1.0,\"line_width\":2,\"line_dash\":[4,4],\"fill_color\":\"lightgrey\",\"fill_alpha\":0.5,\"level\":\"overlay\",\"visible\":false,\"left\":{\"type\":\"number\",\"value\":\"nan\"},\"right\":{\"type\":\"number\",\"value\":\"nan\"},\"top\":{\"type\":\"number\",\"value\":\"nan\"},\"bottom\":{\"type\":\"number\",\"value\":\"nan\"},\"left_units\":\"canvas\",\"right_units\":\"canvas\",\"top_units\":\"canvas\",\"bottom_units\":\"canvas\",\"handles\":{\"type\":\"object\",\"name\":\"BoxInteractionHandles\",\"id\":\"73533eaf-ccff-4299-82f9-10c7b03b5929\",\"attributes\":{\"all\":{\"type\":\"object\",\"name\":\"AreaVisuals\",\"id\":\"2f48affa-29ca-47ca-b6c1-bcce450aa141\",\"attributes\":{\"fill_color\":\"white\",\"hover_fill_color\":\"lightgray\"}}}}}}}},{\"type\":\"object\",\"name\":\"ResetTool\",\"id\":\"ff8e49ca-c6a9-4d9f-bf3e-5ba6f2ab2fb2\"}],\"active_drag\":{\"id\":\"aba0986a-32a1-47b8-8cad-582a9bab7bfe\"}}},\"left\":[{\"type\":\"object\",\"name\":\"LinearAxis\",\"id\":\"24fdb51f-8f5f-455c-9970-686ee49658d3\",\"attributes\":{\"ticker\":{\"type\":\"object\",\"name\":\"BasicTicker\",\"id\":\"91399df2-e830-4278-a423-d3ae7c270bba\",\"attributes\":{\"mantissas\":[1,2,5]}},\"formatter\":{\"type\":\"object\",\"name\":\"BasicTickFormatter\",\"id\":\"20ddda46-d598-481e-8743-5ef59c8201ce\"},\"axis_label\":\"percent\",\"major_label_policy\":{\"type\":\"object\",\"name\":\"AllLabels\",\"id\":\"6582d133-c66a-4606-bb31-ebaa17d57dbc\"}}}],\"below\":[{\"type\":\"object\",\"name\":\"CategoricalAxis\",\"id\":\"18b40f7e-b668-41e8-a1ae-ffd25ac417e3\",\"attributes\":{\"ticker\":{\"type\":\"object\",\"name\":\"CategoricalTicker\",\"id\":\"c40cdcb2-edac-4bde-93a7-f1f9f3c231e4\"},\"formatter\":{\"type\":\"object\",\"name\":\"CategoricalTickFormatter\",\"id\":\"eda5ea4a-dab3-4fd4-9c88-9d66fc1d900c\"},\"axis_label\":\"post_str_blast\",\"major_label_policy\":{\"type\":\"object\",\"name\":\"AllLabels\",\"id\":\"34bcf811-6edb-4063-bcdf-795475e57742\"}}}],\"center\":[{\"type\":\"object\",\"name\":\"Grid\",\"id\":\"14927f9f-37fe-4be2-b910-acab6c1a7a50\",\"attributes\":{\"axis\":{\"id\":\"18b40f7e-b668-41e8-a1ae-ffd25ac417e3\"},\"grid_line_color\":null}},{\"type\":\"object\",\"name\":\"Grid\",\"id\":\"c614ef42-6251-48f3-b180-06671579c68d\",\"attributes\":{\"dimension\":1,\"axis\":{\"id\":\"24fdb51f-8f5f-455c-9970-686ee49658d3\"},\"grid_line_color\":null}}],\"min_border_top\":10,\"min_border_bottom\":10,\"min_border_left\":10,\"min_border_right\":10,\"output_backend\":\"webgl\"}},{\"type\":\"object\",\"name\":\"Spacer\",\"id\":\"9caace10-4a1a-46a6-af5f-fe43098f248a\",\"attributes\":{\"name\":\"HSpacer00994\",\"stylesheets\":[\"\\n:host(.pn-loading):before, .pn-loading:before {\\n  background-color: #c3c3c3;\\n  mask-size: auto calc(min(50%, 400px));\\n  -webkit-mask-size: auto calc(min(50%, 400px));\\n}\",{\"id\":\"f6ce2eae-efe8-4e8f-a8f3-4c3cf8977576\"},{\"id\":\"27eb17ce-45a6-4b36-b8f8-1d1d67f38b41\"},{\"id\":\"472e8a1e-b0b6-4056-90cd-3e07616f6cc3\"}],\"margin\":0,\"sizing_mode\":\"stretch_width\",\"align\":\"start\"}}]}}],\"defs\":[{\"type\":\"model\",\"name\":\"ReactiveHTML1\"},{\"type\":\"model\",\"name\":\"FlexBox1\",\"properties\":[{\"name\":\"align_content\",\"kind\":\"Any\",\"default\":\"flex-start\"},{\"name\":\"align_items\",\"kind\":\"Any\",\"default\":\"flex-start\"},{\"name\":\"flex_direction\",\"kind\":\"Any\",\"default\":\"row\"},{\"name\":\"flex_wrap\",\"kind\":\"Any\",\"default\":\"wrap\"},{\"name\":\"gap\",\"kind\":\"Any\",\"default\":\"\"},{\"name\":\"justify_content\",\"kind\":\"Any\",\"default\":\"flex-start\"}]},{\"type\":\"model\",\"name\":\"FloatPanel1\",\"properties\":[{\"name\":\"config\",\"kind\":\"Any\",\"default\":{\"type\":\"map\"}},{\"name\":\"contained\",\"kind\":\"Any\",\"default\":true},{\"name\":\"position\",\"kind\":\"Any\",\"default\":\"right-top\"},{\"name\":\"offsetx\",\"kind\":\"Any\",\"default\":null},{\"name\":\"offsety\",\"kind\":\"Any\",\"default\":null},{\"name\":\"theme\",\"kind\":\"Any\",\"default\":\"primary\"},{\"name\":\"status\",\"kind\":\"Any\",\"default\":\"normalized\"}]},{\"type\":\"model\",\"name\":\"GridStack1\",\"properties\":[{\"name\":\"ncols\",\"kind\":\"Any\",\"default\":null},{\"name\":\"nrows\",\"kind\":\"Any\",\"default\":null},{\"name\":\"allow_resize\",\"kind\":\"Any\",\"default\":true},{\"name\":\"allow_drag\",\"kind\":\"Any\",\"default\":true},{\"name\":\"state\",\"kind\":\"Any\",\"default\":[]}]},{\"type\":\"model\",\"name\":\"drag1\",\"properties\":[{\"name\":\"slider_width\",\"kind\":\"Any\",\"default\":5},{\"name\":\"slider_color\",\"kind\":\"Any\",\"default\":\"black\"},{\"name\":\"value\",\"kind\":\"Any\",\"default\":50}]},{\"type\":\"model\",\"name\":\"click1\",\"properties\":[{\"name\":\"terminal_output\",\"kind\":\"Any\",\"default\":\"\"},{\"name\":\"debug_name\",\"kind\":\"Any\",\"default\":\"\"},{\"name\":\"clears\",\"kind\":\"Any\",\"default\":0}]},{\"type\":\"model\",\"name\":\"FastWrapper1\",\"properties\":[{\"name\":\"object\",\"kind\":\"Any\",\"default\":null},{\"name\":\"style\",\"kind\":\"Any\",\"default\":null}]},{\"type\":\"model\",\"name\":\"NotificationArea1\",\"properties\":[{\"name\":\"js_events\",\"kind\":\"Any\",\"default\":{\"type\":\"map\"}},{\"name\":\"max_notifications\",\"kind\":\"Any\",\"default\":5},{\"name\":\"notifications\",\"kind\":\"Any\",\"default\":[]},{\"name\":\"position\",\"kind\":\"Any\",\"default\":\"bottom-right\"},{\"name\":\"_clear\",\"kind\":\"Any\",\"default\":0},{\"name\":\"types\",\"kind\":\"Any\",\"default\":[{\"type\":\"map\",\"entries\":[[\"type\",\"warning\"],[\"background\",\"#ffc107\"],[\"icon\",{\"type\":\"map\",\"entries\":[[\"className\",\"fas fa-exclamation-triangle\"],[\"tagName\",\"i\"],[\"color\",\"white\"]]}]]},{\"type\":\"map\",\"entries\":[[\"type\",\"info\"],[\"background\",\"#007bff\"],[\"icon\",{\"type\":\"map\",\"entries\":[[\"className\",\"fas fa-info-circle\"],[\"tagName\",\"i\"],[\"color\",\"white\"]]}]]}]}]},{\"type\":\"model\",\"name\":\"Notification\",\"properties\":[{\"name\":\"background\",\"kind\":\"Any\",\"default\":null},{\"name\":\"duration\",\"kind\":\"Any\",\"default\":3000},{\"name\":\"icon\",\"kind\":\"Any\",\"default\":null},{\"name\":\"message\",\"kind\":\"Any\",\"default\":\"\"},{\"name\":\"notification_type\",\"kind\":\"Any\",\"default\":null},{\"name\":\"_rendered\",\"kind\":\"Any\",\"default\":false},{\"name\":\"_destroyed\",\"kind\":\"Any\",\"default\":false}]},{\"type\":\"model\",\"name\":\"TemplateActions1\",\"properties\":[{\"name\":\"open_modal\",\"kind\":\"Any\",\"default\":0},{\"name\":\"close_modal\",\"kind\":\"Any\",\"default\":0}]},{\"type\":\"model\",\"name\":\"BootstrapTemplateActions1\",\"properties\":[{\"name\":\"open_modal\",\"kind\":\"Any\",\"default\":0},{\"name\":\"close_modal\",\"kind\":\"Any\",\"default\":0}]},{\"type\":\"model\",\"name\":\"TemplateEditor1\",\"properties\":[{\"name\":\"layout\",\"kind\":\"Any\",\"default\":[]}]},{\"type\":\"model\",\"name\":\"MaterialTemplateActions1\",\"properties\":[{\"name\":\"open_modal\",\"kind\":\"Any\",\"default\":0},{\"name\":\"close_modal\",\"kind\":\"Any\",\"default\":0}]},{\"type\":\"model\",\"name\":\"ReactiveESM1\",\"properties\":[{\"name\":\"esm_constants\",\"kind\":\"Any\",\"default\":{\"type\":\"map\"}}]},{\"type\":\"model\",\"name\":\"JSComponent1\",\"properties\":[{\"name\":\"esm_constants\",\"kind\":\"Any\",\"default\":{\"type\":\"map\"}}]},{\"type\":\"model\",\"name\":\"ReactComponent1\",\"properties\":[{\"name\":\"esm_constants\",\"kind\":\"Any\",\"default\":{\"type\":\"map\"}}]},{\"type\":\"model\",\"name\":\"AnyWidgetComponent1\",\"properties\":[{\"name\":\"esm_constants\",\"kind\":\"Any\",\"default\":{\"type\":\"map\"}}]},{\"type\":\"model\",\"name\":\"request_value1\",\"properties\":[{\"name\":\"fill\",\"kind\":\"Any\",\"default\":\"none\"},{\"name\":\"_synced\",\"kind\":\"Any\",\"default\":null},{\"name\":\"_request_sync\",\"kind\":\"Any\",\"default\":0}]}]}};\n",
       "  var render_items = [{\"docid\":\"5217a960-a061-402f-bc4c-a263d0288f8b\",\"roots\":{\"ce82e2d3-e836-4162-9304-95ed174ec378\":\"cb051fab-a32e-4cfd-8f18-39cb4480c4cd\"},\"root_ids\":[\"ce82e2d3-e836-4162-9304-95ed174ec378\"]}];\n",
       "  var docs = Object.values(docs_json)\n",
       "  if (!docs) {\n",
       "    return\n",
       "  }\n",
       "  const py_version = docs[0].version.replace('rc', '-rc.').replace('.dev', '-dev.')\n",
       "  async function embed_document(root) {\n",
       "    var Bokeh = get_bokeh(root)\n",
       "    await Bokeh.embed.embed_items_notebook(docs_json, render_items);\n",
       "    for (const render_item of render_items) {\n",
       "      for (const root_id of render_item.root_ids) {\n",
       "\tconst id_el = document.getElementById(root_id)\n",
       "\tif (id_el.children.length && id_el.children[0].hasAttribute('data-root-id')) {\n",
       "\t  const root_el = id_el.children[0]\n",
       "\t  root_el.id = root_el.id + '-rendered'\n",
       "\t  for (const child of root_el.children) {\n",
       "            // Ensure JupyterLab does not capture keyboard shortcuts\n",
       "            // see: https://jupyterlab.readthedocs.io/en/4.1.x/extension/notebook.html#keyboard-interaction-model\n",
       "\t    child.setAttribute('data-lm-suppress-shortcuts', 'true')\n",
       "\t  }\n",
       "\t}\n",
       "      }\n",
       "    }\n",
       "  }\n",
       "  function get_bokeh(root) {\n",
       "    if (root.Bokeh === undefined) {\n",
       "      return null\n",
       "    } else if (root.Bokeh.version !== py_version) {\n",
       "      if (root.Bokeh.versions === undefined || !root.Bokeh.versions.has(py_version)) {\n",
       "\treturn null\n",
       "      }\n",
       "      return root.Bokeh.versions.get(py_version);\n",
       "    } else if (root.Bokeh.version === py_version) {\n",
       "      return root.Bokeh\n",
       "    }\n",
       "    return null\n",
       "  }\n",
       "  function is_loaded(root) {\n",
       "    var Bokeh = get_bokeh(root)\n",
       "    return (Bokeh != null && Bokeh.Panel !== undefined)\n",
       "  }\n",
       "  if (is_loaded(root)) {\n",
       "    embed_document(root);\n",
       "  } else {\n",
       "    var attempts = 0;\n",
       "    var timer = setInterval(function(root) {\n",
       "      if (is_loaded(root)) {\n",
       "        clearInterval(timer);\n",
       "        embed_document(root);\n",
       "      } else if (document.readyState == \"complete\") {\n",
       "        attempts++;\n",
       "        if (attempts > 200) {\n",
       "          clearInterval(timer);\n",
       "\t  var Bokeh = get_bokeh(root)\n",
       "\t  if (Bokeh == null || Bokeh.Panel == null) {\n",
       "            console.warn(\"Panel: ERROR: Unable to run Panel code because Bokeh or Panel library is missing\");\n",
       "\t  } else {\n",
       "\t    console.warn(\"Panel: WARNING: Attempting to render but not all required libraries could be resolved.\")\n",
       "\t    embed_document(root)\n",
       "\t  }\n",
       "        }\n",
       "      }\n",
       "    }, 25, root)\n",
       "  }\n",
       "})(window);</script>"
      ],
      "text/plain": [
       ":Overlay\n",
       "   .Bars.I    :Bars   [post_str_blast]   (percent)\n",
       "   .HLine.I   :HLine   [x,y]\n",
       "   .HLine.II  :HLine   [x,y]\n",
       "   .HLine.III :HLine   [x,y]"
      ]
     },
     "metadata": {
      "application/vnd.holoviews_exec.v0+json": {
       "id": "ce82e2d3-e836-4162-9304-95ed174ec378"
      }
     },
     "output_type": "display_data"
    },
    {
     "name": "stdout",
     "output_type": "stream",
     "text": [
      "df_10_last FOR str_b5 = 23\n"
     ]
    },
    {
     "data": {
      "text/html": [
       "<div><style>\n",
       ".dataframe > thead > tr,\n",
       ".dataframe > tbody > tr {\n",
       "  text-align: right;\n",
       "  white-space: pre-wrap;\n",
       "}\n",
       "</style>\n",
       "<small>shape: (10, 21)</small><table border=\"1\" class=\"dataframe\"><thead><tr><th>fecha</th><th>sorteo</th><th>bolillas</th><th>id</th><th>combo</th><th>b1</th><th>b2</th><th>b3</th><th>b4</th><th>b5</th><th>str_b1</th><th>str_b2</th><th>str_b3</th><th>str_b4</th><th>str_b5</th><th>post_str_b1</th><th>post_str_blast</th><th>is_rare_combination</th><th>reason</th><th>jumps_map</th><th>unijump</th></tr><tr><td>str</td><td>str</td><td>str</td><td>str</td><td>array[u8, 5]</td><td>u8</td><td>u8</td><td>u8</td><td>u8</td><td>u8</td><td>str</td><td>str</td><td>str</td><td>str</td><td>str</td><td>str</td><td>str</td><td>bool</td><td>u8</td><td>str</td><td>i64</td></tr></thead><tbody><tr><td>&quot;29/03/2025&quot;</td><td>&quot;4170&quot;</td><td>&quot;23 06 04 09 10&quot;</td><td>&quot;0406091023&quot;</td><td>[4, 6, … 23]</td><td>4</td><td>6</td><td>9</td><td>10</td><td>23</td><td>&quot;04&quot;</td><td>&quot;06&quot;</td><td>&quot;09&quot;</td><td>&quot;10&quot;</td><td>&quot;23&quot;</td><td>&quot;03&quot;</td><td>&quot;35&quot;</td><td>false</td><td>0</td><td>&quot;02_03_01_13&quot;</td><td>17</td></tr><tr><td>&quot;12/01/2025&quot;</td><td>&quot;4094&quot;</td><td>&quot;16 07 23 18 04&quot;</td><td>&quot;0407161823&quot;</td><td>[4, 7, … 23]</td><td>4</td><td>7</td><td>16</td><td>18</td><td>23</td><td>&quot;04&quot;</td><td>&quot;07&quot;</td><td>&quot;16&quot;</td><td>&quot;18&quot;</td><td>&quot;23&quot;</td><td>&quot;08&quot;</td><td>&quot;28&quot;</td><td>false</td><td>0</td><td>&quot;03_09_02_05&quot;</td><td>23</td></tr><tr><td>&quot;04/12/2024&quot;</td><td>&quot;4055&quot;</td><td>&quot;05 06 11 16 23&quot;</td><td>&quot;0506111623&quot;</td><td>[5, 6, … 23]</td><td>5</td><td>6</td><td>11</td><td>16</td><td>23</td><td>&quot;05&quot;</td><td>&quot;06&quot;</td><td>&quot;11&quot;</td><td>&quot;16&quot;</td><td>&quot;23&quot;</td><td>&quot;05&quot;</td><td>&quot;24&quot;</td><td>true</td><td>8</td><td>&quot;01_05_05_07&quot;</td><td>6</td></tr><tr><td>&quot;15/11/2024&quot;</td><td>&quot;4036&quot;</td><td>&quot;16 23 12 21 14&quot;</td><td>&quot;1214162123&quot;</td><td>[12, 14, … 23]</td><td>12</td><td>14</td><td>16</td><td>21</td><td>23</td><td>&quot;12&quot;</td><td>&quot;14&quot;</td><td>&quot;16&quot;</td><td>&quot;21&quot;</td><td>&quot;23&quot;</td><td>&quot;01&quot;</td><td>&quot;26&quot;</td><td>true</td><td>8</td><td>&quot;02_02_05_02&quot;</td><td>-9</td></tr><tr><td>&quot;22/09/2024&quot;</td><td>&quot;3982&quot;</td><td>&quot;06 23 16 14 02&quot;</td><td>&quot;0206141623&quot;</td><td>[2, 6, … 23]</td><td>2</td><td>6</td><td>14</td><td>16</td><td>23</td><td>&quot;02&quot;</td><td>&quot;06&quot;</td><td>&quot;14&quot;</td><td>&quot;16&quot;</td><td>&quot;23&quot;</td><td>&quot;08&quot;</td><td>&quot;32&quot;</td><td>false</td><td>0</td><td>&quot;04_08_02_07&quot;</td><td>21</td></tr><tr><td>&quot;02/09/2024&quot;</td><td>&quot;3962&quot;</td><td>&quot;07 05 09 18 23&quot;</td><td>&quot;0507091823&quot;</td><td>[5, 7, … 23]</td><td>5</td><td>7</td><td>9</td><td>18</td><td>23</td><td>&quot;05&quot;</td><td>&quot;07&quot;</td><td>&quot;09&quot;</td><td>&quot;18&quot;</td><td>&quot;23&quot;</td><td>&quot;14&quot;</td><td>&quot;33&quot;</td><td>true</td><td>8</td><td>&quot;02_02_09_05&quot;</td><td>-18</td></tr><tr><td>&quot;07/07/2024&quot;</td><td>&quot;3905&quot;</td><td>&quot;17 08 15 23 02&quot;</td><td>&quot;0208151723&quot;</td><td>[2, 8, … 23]</td><td>2</td><td>8</td><td>15</td><td>17</td><td>23</td><td>&quot;02&quot;</td><td>&quot;08&quot;</td><td>&quot;15&quot;</td><td>&quot;17&quot;</td><td>&quot;23&quot;</td><td>&quot;17&quot;</td><td>&quot;33&quot;</td><td>false</td><td>0</td><td>&quot;06_07_02_06&quot;</td><td>15</td></tr><tr><td>&quot;17/04/2024&quot;</td><td>&quot;3824&quot;</td><td>&quot;12 20 01 23 05&quot;</td><td>&quot;0105122023&quot;</td><td>[1, 5, … 23]</td><td>1</td><td>5</td><td>12</td><td>20</td><td>23</td><td>&quot;01&quot;</td><td>&quot;05&quot;</td><td>&quot;12&quot;</td><td>&quot;20&quot;</td><td>&quot;23&quot;</td><td>&quot;03&quot;</td><td>&quot;33&quot;</td><td>false</td><td>0</td><td>&quot;04_07_08_03&quot;</td><td>-4</td></tr><tr><td>&quot;15/03/2024&quot;</td><td>&quot;3791&quot;</td><td>&quot;15 23 14 19 02&quot;</td><td>&quot;0214151923&quot;</td><td>[2, 14, … 23]</td><td>2</td><td>14</td><td>15</td><td>19</td><td>23</td><td>&quot;02&quot;</td><td>&quot;14&quot;</td><td>&quot;15&quot;</td><td>&quot;19&quot;</td><td>&quot;23&quot;</td><td>&quot;05&quot;</td><td>&quot;31&quot;</td><td>true</td><td>8</td><td>&quot;12_01_04_04&quot;</td><td>-17</td></tr><tr><td>&quot;14/03/2024&quot;</td><td>&quot;3790&quot;</td><td>&quot;23 09 20 01 19&quot;</td><td>&quot;0109192023&quot;</td><td>[1, 9, … 23]</td><td>1</td><td>9</td><td>19</td><td>20</td><td>23</td><td>&quot;01&quot;</td><td>&quot;09&quot;</td><td>&quot;19&quot;</td><td>&quot;20&quot;</td><td>&quot;23&quot;</td><td>&quot;02&quot;</td><td>&quot;23&quot;</td><td>false</td><td>0</td><td>&quot;08_10_01_03&quot;</td><td>22</td></tr></tbody></table></div>"
      ],
      "text/plain": [
       "shape: (10, 21)\n",
       "┌────────────┬────────┬─────────────┬────────────┬───┬─────────────┬────────┬────────────┬─────────┐\n",
       "│ fecha      ┆ sorteo ┆ bolillas    ┆ id         ┆ … ┆ is_rare_com ┆ reason ┆ jumps_map  ┆ unijump │\n",
       "│ ---        ┆ ---    ┆ ---         ┆ ---        ┆   ┆ bination    ┆ ---    ┆ ---        ┆ ---     │\n",
       "│ str        ┆ str    ┆ str         ┆ str        ┆   ┆ ---         ┆ u8     ┆ str        ┆ i64     │\n",
       "│            ┆        ┆             ┆            ┆   ┆ bool        ┆        ┆            ┆         │\n",
       "╞════════════╪════════╪═════════════╪════════════╪═══╪═════════════╪════════╪════════════╪═════════╡\n",
       "│ 29/03/2025 ┆ 4170   ┆ 23 06 04 09 ┆ 0406091023 ┆ … ┆ false       ┆ 0      ┆ 02_03_01_1 ┆ 17      │\n",
       "│            ┆        ┆ 10          ┆            ┆   ┆             ┆        ┆ 3          ┆         │\n",
       "│ 12/01/2025 ┆ 4094   ┆ 16 07 23 18 ┆ 0407161823 ┆ … ┆ false       ┆ 0      ┆ 03_09_02_0 ┆ 23      │\n",
       "│            ┆        ┆ 04          ┆            ┆   ┆             ┆        ┆ 5          ┆         │\n",
       "│ 04/12/2024 ┆ 4055   ┆ 05 06 11 16 ┆ 0506111623 ┆ … ┆ true        ┆ 8      ┆ 01_05_05_0 ┆ 6       │\n",
       "│            ┆        ┆ 23          ┆            ┆   ┆             ┆        ┆ 7          ┆         │\n",
       "│ 15/11/2024 ┆ 4036   ┆ 16 23 12 21 ┆ 1214162123 ┆ … ┆ true        ┆ 8      ┆ 02_02_05_0 ┆ -9      │\n",
       "│            ┆        ┆ 14          ┆            ┆   ┆             ┆        ┆ 2          ┆         │\n",
       "│ 22/09/2024 ┆ 3982   ┆ 06 23 16 14 ┆ 0206141623 ┆ … ┆ false       ┆ 0      ┆ 04_08_02_0 ┆ 21      │\n",
       "│            ┆        ┆ 02          ┆            ┆   ┆             ┆        ┆ 7          ┆         │\n",
       "│ 02/09/2024 ┆ 3962   ┆ 07 05 09 18 ┆ 0507091823 ┆ … ┆ true        ┆ 8      ┆ 02_02_09_0 ┆ -18     │\n",
       "│            ┆        ┆ 23          ┆            ┆   ┆             ┆        ┆ 5          ┆         │\n",
       "│ 07/07/2024 ┆ 3905   ┆ 17 08 15 23 ┆ 0208151723 ┆ … ┆ false       ┆ 0      ┆ 06_07_02_0 ┆ 15      │\n",
       "│            ┆        ┆ 02          ┆            ┆   ┆             ┆        ┆ 6          ┆         │\n",
       "│ 17/04/2024 ┆ 3824   ┆ 12 20 01 23 ┆ 0105122023 ┆ … ┆ false       ┆ 0      ┆ 04_07_08_0 ┆ -4      │\n",
       "│            ┆        ┆ 05          ┆            ┆   ┆             ┆        ┆ 3          ┆         │\n",
       "│ 15/03/2024 ┆ 3791   ┆ 15 23 14 19 ┆ 0214151923 ┆ … ┆ true        ┆ 8      ┆ 12_01_04_0 ┆ -17     │\n",
       "│            ┆        ┆ 02          ┆            ┆   ┆             ┆        ┆ 4          ┆         │\n",
       "│ 14/03/2024 ┆ 3790   ┆ 23 09 20 01 ┆ 0109192023 ┆ … ┆ false       ┆ 0      ┆ 08_10_01_0 ┆ 22      │\n",
       "│            ┆        ┆ 19          ┆            ┆   ┆             ┆        ┆ 3          ┆         │\n",
       "└────────────┴────────┴─────────────┴────────────┴───┴─────────────┴────────┴────────────┴─────────┘"
      ]
     },
     "metadata": {},
     "output_type": "display_data"
    },
    {
     "name": "stdout",
     "output_type": "stream",
     "text": [
      "df_jumps_map FOR str_b5 = 23\n"
     ]
    },
    {
     "data": {
      "text/html": [
       "<div><style>\n",
       ".dataframe > thead > tr,\n",
       ".dataframe > tbody > tr {\n",
       "  text-align: right;\n",
       "  white-space: pre-wrap;\n",
       "}\n",
       "</style>\n",
       "<small>shape: (157, 2)</small><table border=\"1\" class=\"dataframe\"><thead><tr><th>jumps_map</th><th>count</th></tr><tr><td>str</td><td>u32</td></tr></thead><tbody><tr><td>&quot;05_01_09_03&quot;</td><td>3</td></tr><tr><td>&quot;04_02_14_01&quot;</td><td>1</td></tr><tr><td>&quot;18_01_01_02&quot;</td><td>1</td></tr><tr><td>&quot;06_02_05_04&quot;</td><td>1</td></tr><tr><td>&quot;02_01_04_05&quot;</td><td>1</td></tr><tr><td>&hellip;</td><td>&hellip;</td></tr><tr><td>&quot;09_03_01_01&quot;</td><td>1</td></tr><tr><td>&quot;04_06_06_02&quot;</td><td>1</td></tr><tr><td>&quot;05_01_09_06&quot;</td><td>1</td></tr><tr><td>&quot;02_13_03_02&quot;</td><td>1</td></tr><tr><td>&quot;03_03_02_10&quot;</td><td>1</td></tr></tbody></table></div>"
      ],
      "text/plain": [
       "shape: (157, 2)\n",
       "┌─────────────┬───────┐\n",
       "│ jumps_map   ┆ count │\n",
       "│ ---         ┆ ---   │\n",
       "│ str         ┆ u32   │\n",
       "╞═════════════╪═══════╡\n",
       "│ 05_01_09_03 ┆ 3     │\n",
       "│ 04_02_14_01 ┆ 1     │\n",
       "│ 18_01_01_02 ┆ 1     │\n",
       "│ 06_02_05_04 ┆ 1     │\n",
       "│ 02_01_04_05 ┆ 1     │\n",
       "│ …           ┆ …     │\n",
       "│ 09_03_01_01 ┆ 1     │\n",
       "│ 04_06_06_02 ┆ 1     │\n",
       "│ 05_01_09_06 ┆ 1     │\n",
       "│ 02_13_03_02 ┆ 1     │\n",
       "│ 03_03_02_10 ┆ 1     │\n",
       "└─────────────┴───────┘"
      ]
     },
     "metadata": {},
     "output_type": "display_data"
    },
    {
     "name": "stdout",
     "output_type": "stream",
     "text": [
      "df_unijump FOR str_b5 = 23\n"
     ]
    },
    {
     "data": {
      "text/html": [
       "<div><style>\n",
       ".dataframe > thead > tr,\n",
       ".dataframe > tbody > tr {\n",
       "  text-align: right;\n",
       "  white-space: pre-wrap;\n",
       "}\n",
       "</style>\n",
       "<small>shape: (58, 2)</small><table border=\"1\" class=\"dataframe\"><thead><tr><th>unijump</th><th>count</th></tr><tr><td>i64</td><td>u32</td></tr></thead><tbody><tr><td>5</td><td>8</td></tr><tr><td>-18</td><td>7</td></tr><tr><td>10</td><td>7</td></tr><tr><td>-4</td><td>6</td></tr><tr><td>-1</td><td>6</td></tr><tr><td>&hellip;</td><td>&hellip;</td></tr><tr><td>40</td><td>1</td></tr><tr><td>-28</td><td>1</td></tr><tr><td>11</td><td>1</td></tr><tr><td>-7</td><td>1</td></tr><tr><td>-27</td><td>1</td></tr></tbody></table></div>"
      ],
      "text/plain": [
       "shape: (58, 2)\n",
       "┌─────────┬───────┐\n",
       "│ unijump ┆ count │\n",
       "│ ---     ┆ ---   │\n",
       "│ i64     ┆ u32   │\n",
       "╞═════════╪═══════╡\n",
       "│ 5       ┆ 8     │\n",
       "│ -18     ┆ 7     │\n",
       "│ 10      ┆ 7     │\n",
       "│ -4      ┆ 6     │\n",
       "│ -1      ┆ 6     │\n",
       "│ …       ┆ …     │\n",
       "│ 40      ┆ 1     │\n",
       "│ -28     ┆ 1     │\n",
       "│ 11      ┆ 1     │\n",
       "│ -7      ┆ 1     │\n",
       "│ -27     ┆ 1     │\n",
       "└─────────┴───────┘"
      ]
     },
     "metadata": {},
     "output_type": "display_data"
    }
   ],
   "source": [
    "possible_blast, exclude_jump_maps_blast = plot_post_col(col='str_b5', post_col='post_str_blast', test_value=\"23\")"
   ]
  },
  {
   "cell_type": "code",
   "execution_count": 74,
   "metadata": {},
   "outputs": [],
   "source": [
    "b_count = rr.CHOOSE\n",
    "min_b = rr.MIN_B_VALUES[0]\n",
    "max_b = rr.MAX_B_VALUES[-1]\n",
    "\n",
    "\n",
    "combos = combinations(range(min_b, max_b + 1), b_count)\n",
    "# print(\"generating combos: \", len(list(combos)))"
   ]
  },
  {
   "cell_type": "code",
   "execution_count": 75,
   "metadata": {},
   "outputs": [
    {
     "name": "stdout",
     "output_type": "stream",
     "text": [
      "TOTAL_LINES=324632\n"
     ]
    },
    {
     "data": {
      "text/html": [
       "<div><style>\n",
       ".dataframe > thead > tr,\n",
       ".dataframe > tbody > tr {\n",
       "  text-align: right;\n",
       "  white-space: pre-wrap;\n",
       "}\n",
       "</style>\n",
       "<small>shape: (10, 18)</small><table border=\"1\" class=\"dataframe\"><thead><tr><th>id</th><th>combo</th><th>b1</th><th>b2</th><th>b3</th><th>b4</th><th>b5</th><th>str_b1</th><th>str_b2</th><th>str_b3</th><th>str_b4</th><th>str_b5</th><th>post_str_b1</th><th>post_str_blast</th><th>is_rare_combination</th><th>reason</th><th>jumps_map</th><th>unijump</th></tr><tr><td>str</td><td>array[u8, 5]</td><td>u8</td><td>u8</td><td>u8</td><td>u8</td><td>u8</td><td>str</td><td>str</td><td>str</td><td>str</td><td>str</td><td>str</td><td>str</td><td>bool</td><td>u8</td><td>str</td><td>i64</td></tr></thead><tbody><tr><td>&quot;0102030405&quot;</td><td>[1, 2, … 5]</td><td>1</td><td>2</td><td>3</td><td>4</td><td>5</td><td>&quot;01&quot;</td><td>&quot;02&quot;</td><td>&quot;03&quot;</td><td>&quot;04&quot;</td><td>&quot;05&quot;</td><td>null</td><td>null</td><td>true</td><td>8</td><td>&quot;01_01_01_01&quot;</td><td>0</td></tr><tr><td>&quot;0102030406&quot;</td><td>[1, 2, … 6]</td><td>1</td><td>2</td><td>3</td><td>4</td><td>6</td><td>&quot;01&quot;</td><td>&quot;02&quot;</td><td>&quot;03&quot;</td><td>&quot;04&quot;</td><td>&quot;06&quot;</td><td>&quot;01&quot;</td><td>&quot;05&quot;</td><td>true</td><td>8</td><td>&quot;01_01_01_02&quot;</td><td>1</td></tr><tr><td>&quot;0102030407&quot;</td><td>[1, 2, … 7]</td><td>1</td><td>2</td><td>3</td><td>4</td><td>7</td><td>&quot;01&quot;</td><td>&quot;02&quot;</td><td>&quot;03&quot;</td><td>&quot;04&quot;</td><td>&quot;07&quot;</td><td>&quot;01&quot;</td><td>&quot;06&quot;</td><td>true</td><td>8</td><td>&quot;01_01_01_03&quot;</td><td>2</td></tr><tr><td>&quot;0102030408&quot;</td><td>[1, 2, … 8]</td><td>1</td><td>2</td><td>3</td><td>4</td><td>8</td><td>&quot;01&quot;</td><td>&quot;02&quot;</td><td>&quot;03&quot;</td><td>&quot;04&quot;</td><td>&quot;08&quot;</td><td>&quot;01&quot;</td><td>&quot;07&quot;</td><td>true</td><td>8</td><td>&quot;01_01_01_04&quot;</td><td>3</td></tr><tr><td>&quot;0102030409&quot;</td><td>[1, 2, … 9]</td><td>1</td><td>2</td><td>3</td><td>4</td><td>9</td><td>&quot;01&quot;</td><td>&quot;02&quot;</td><td>&quot;03&quot;</td><td>&quot;04&quot;</td><td>&quot;09&quot;</td><td>&quot;01&quot;</td><td>&quot;08&quot;</td><td>true</td><td>8</td><td>&quot;01_01_01_05&quot;</td><td>4</td></tr><tr><td>&quot;0102030410&quot;</td><td>[1, 2, … 10]</td><td>1</td><td>2</td><td>3</td><td>4</td><td>10</td><td>&quot;01&quot;</td><td>&quot;02&quot;</td><td>&quot;03&quot;</td><td>&quot;04&quot;</td><td>&quot;10&quot;</td><td>&quot;01&quot;</td><td>&quot;09&quot;</td><td>true</td><td>8</td><td>&quot;01_01_01_06&quot;</td><td>5</td></tr><tr><td>&quot;0102030411&quot;</td><td>[1, 2, … 11]</td><td>1</td><td>2</td><td>3</td><td>4</td><td>11</td><td>&quot;01&quot;</td><td>&quot;02&quot;</td><td>&quot;03&quot;</td><td>&quot;04&quot;</td><td>&quot;11&quot;</td><td>&quot;01&quot;</td><td>&quot;10&quot;</td><td>true</td><td>8</td><td>&quot;01_01_01_07&quot;</td><td>6</td></tr><tr><td>&quot;0102030412&quot;</td><td>[1, 2, … 12]</td><td>1</td><td>2</td><td>3</td><td>4</td><td>12</td><td>&quot;01&quot;</td><td>&quot;02&quot;</td><td>&quot;03&quot;</td><td>&quot;04&quot;</td><td>&quot;12&quot;</td><td>&quot;01&quot;</td><td>&quot;11&quot;</td><td>true</td><td>8</td><td>&quot;01_01_01_08&quot;</td><td>7</td></tr><tr><td>&quot;0102030413&quot;</td><td>[1, 2, … 13]</td><td>1</td><td>2</td><td>3</td><td>4</td><td>13</td><td>&quot;01&quot;</td><td>&quot;02&quot;</td><td>&quot;03&quot;</td><td>&quot;04&quot;</td><td>&quot;13&quot;</td><td>&quot;01&quot;</td><td>&quot;12&quot;</td><td>true</td><td>8</td><td>&quot;01_01_01_09&quot;</td><td>8</td></tr><tr><td>&quot;0102030414&quot;</td><td>[1, 2, … 14]</td><td>1</td><td>2</td><td>3</td><td>4</td><td>14</td><td>&quot;01&quot;</td><td>&quot;02&quot;</td><td>&quot;03&quot;</td><td>&quot;04&quot;</td><td>&quot;14&quot;</td><td>&quot;01&quot;</td><td>&quot;13&quot;</td><td>true</td><td>8</td><td>&quot;01_01_01_10&quot;</td><td>9</td></tr></tbody></table></div>"
      ],
      "text/plain": [
       "shape: (10, 18)\n",
       "┌────────────┬──────────────┬─────┬─────┬───┬─────────────────────┬────────┬─────────────┬─────────┐\n",
       "│ id         ┆ combo        ┆ b1  ┆ b2  ┆ … ┆ is_rare_combination ┆ reason ┆ jumps_map   ┆ unijump │\n",
       "│ ---        ┆ ---          ┆ --- ┆ --- ┆   ┆ ---                 ┆ ---    ┆ ---         ┆ ---     │\n",
       "│ str        ┆ array[u8, 5] ┆ u8  ┆ u8  ┆   ┆ bool                ┆ u8     ┆ str         ┆ i64     │\n",
       "╞════════════╪══════════════╪═════╪═════╪═══╪═════════════════════╪════════╪═════════════╪═════════╡\n",
       "│ 0102030405 ┆ [1, 2, … 5]  ┆ 1   ┆ 2   ┆ … ┆ true                ┆ 8      ┆ 01_01_01_01 ┆ 0       │\n",
       "│ 0102030406 ┆ [1, 2, … 6]  ┆ 1   ┆ 2   ┆ … ┆ true                ┆ 8      ┆ 01_01_01_02 ┆ 1       │\n",
       "│ 0102030407 ┆ [1, 2, … 7]  ┆ 1   ┆ 2   ┆ … ┆ true                ┆ 8      ┆ 01_01_01_03 ┆ 2       │\n",
       "│ 0102030408 ┆ [1, 2, … 8]  ┆ 1   ┆ 2   ┆ … ┆ true                ┆ 8      ┆ 01_01_01_04 ┆ 3       │\n",
       "│ 0102030409 ┆ [1, 2, … 9]  ┆ 1   ┆ 2   ┆ … ┆ true                ┆ 8      ┆ 01_01_01_05 ┆ 4       │\n",
       "│ 0102030410 ┆ [1, 2, … 10] ┆ 1   ┆ 2   ┆ … ┆ true                ┆ 8      ┆ 01_01_01_06 ┆ 5       │\n",
       "│ 0102030411 ┆ [1, 2, … 11] ┆ 1   ┆ 2   ┆ … ┆ true                ┆ 8      ┆ 01_01_01_07 ┆ 6       │\n",
       "│ 0102030412 ┆ [1, 2, … 12] ┆ 1   ┆ 2   ┆ … ┆ true                ┆ 8      ┆ 01_01_01_08 ┆ 7       │\n",
       "│ 0102030413 ┆ [1, 2, … 13] ┆ 1   ┆ 2   ┆ … ┆ true                ┆ 8      ┆ 01_01_01_09 ┆ 8       │\n",
       "│ 0102030414 ┆ [1, 2, … 14] ┆ 1   ┆ 2   ┆ … ┆ true                ┆ 8      ┆ 01_01_01_10 ┆ 9       │\n",
       "└────────────┴──────────────┴─────┴─────┴───┴─────────────────────┴────────┴─────────────┴─────────┘"
      ]
     },
     "metadata": {},
     "output_type": "display_data"
    }
   ],
   "source": [
    "lst = []\n",
    "post_str_b1 = None\n",
    "post_str_blast = None\n",
    "for row in combos:\n",
    "  cols = []\n",
    "  str_row = \" \".join([str(r).zfill(2) for r in row])\n",
    "  id, bolillas_int, str_combo = formalize_data_with_str(bolillas_str=str_row)\n",
    "  cols.append(id)\n",
    "  cols.append(bolillas_int)\n",
    "  cols.extend([b for b in bolillas_int])\n",
    "  cols.extend(str_combo)\n",
    "  cols.append(post_str_b1)\n",
    "  cols.append(post_str_blast)\n",
    "\n",
    "  is_rare, reason = rr.is_rare_combination(bolillas_int, id)\n",
    "  cols.append(is_rare)\n",
    "  cols.append(reason)\n",
    "\n",
    "  cols.append(rr.jumps_map(bolillas_int))\n",
    "  cols.append(rr.unijump(bolillas_int))\n",
    "  \n",
    "  lst.append(cols)\n",
    "\n",
    "  post_str_b1 = str_combo[0]\n",
    "  post_str_blast = str_combo[-1]\n",
    "\n",
    "with open('./gn_cahe_v3.json', 'w') as file: \n",
    "  json.dump(lst, file)\n",
    "\n",
    "df_Orows = pl.DataFrame(\n",
    "  lst,\n",
    "  schema=[\n",
    "    # 'fecha', 'sorteo', 'bolillas',\n",
    "    'id', 'combo', 'b1', 'b2', 'b3', 'b4', 'b5',\n",
    "    'str_b1', 'str_b2', 'str_b3', 'str_b4', 'str_b5',\n",
    "    'post_str_b1', 'post_str_blast',\n",
    "    'is_rare_combination', 'reason',\n",
    "    \"jumps_map\", \"unijump\"\n",
    "  ],\n",
    "  schema_overrides={\n",
    "    'combo': pl.Array(pl.UInt8, 5),\n",
    "    'b1': pl.UInt8,\n",
    "    'b2': pl.UInt8,\n",
    "    'b3': pl.UInt8,\n",
    "    'b4': pl.UInt8,\n",
    "    'b5': pl.UInt8,\n",
    "    'b6': pl.UInt8,\n",
    "    'reason': pl.UInt8\n",
    "  },\n",
    "  orient='row'\n",
    ")\n",
    "\n",
    "TOTAL_LINES = len(df_Orows)\n",
    "print(f'{TOTAL_LINES=}')\n",
    "display(df_Orows.head(10))"
   ]
  },
  {
   "cell_type": "code",
   "execution_count": 76,
   "metadata": {},
   "outputs": [
    {
     "data": {
      "text/html": [
       "<div><style>\n",
       ".dataframe > thead > tr,\n",
       ".dataframe > tbody > tr {\n",
       "  text-align: right;\n",
       "  white-space: pre-wrap;\n",
       "}\n",
       "</style>\n",
       "<small>shape: (160_296, 18)</small><table border=\"1\" class=\"dataframe\"><thead><tr><th>id</th><th>combo</th><th>b1</th><th>b2</th><th>b3</th><th>b4</th><th>b5</th><th>str_b1</th><th>str_b2</th><th>str_b3</th><th>str_b4</th><th>str_b5</th><th>post_str_b1</th><th>post_str_blast</th><th>is_rare_combination</th><th>reason</th><th>jumps_map</th><th>unijump</th></tr><tr><td>str</td><td>array[u8, 5]</td><td>u8</td><td>u8</td><td>u8</td><td>u8</td><td>u8</td><td>str</td><td>str</td><td>str</td><td>str</td><td>str</td><td>str</td><td>str</td><td>bool</td><td>u8</td><td>str</td><td>i64</td></tr></thead><tbody><tr><td>&quot;0102040513&quot;</td><td>[1, 2, … 13]</td><td>1</td><td>2</td><td>4</td><td>5</td><td>13</td><td>&quot;01&quot;</td><td>&quot;02&quot;</td><td>&quot;04&quot;</td><td>&quot;05&quot;</td><td>&quot;13&quot;</td><td>&quot;01&quot;</td><td>&quot;12&quot;</td><td>false</td><td>0</td><td>&quot;01_02_01_08&quot;</td><td>10</td></tr><tr><td>&quot;0102040523&quot;</td><td>[1, 2, … 23]</td><td>1</td><td>2</td><td>4</td><td>5</td><td>23</td><td>&quot;01&quot;</td><td>&quot;02&quot;</td><td>&quot;04&quot;</td><td>&quot;05&quot;</td><td>&quot;23&quot;</td><td>&quot;01&quot;</td><td>&quot;22&quot;</td><td>false</td><td>0</td><td>&quot;01_02_01_18&quot;</td><td>20</td></tr><tr><td>&quot;0102040530&quot;</td><td>[1, 2, … 30]</td><td>1</td><td>2</td><td>4</td><td>5</td><td>30</td><td>&quot;01&quot;</td><td>&quot;02&quot;</td><td>&quot;04&quot;</td><td>&quot;05&quot;</td><td>&quot;30&quot;</td><td>&quot;01&quot;</td><td>&quot;29&quot;</td><td>false</td><td>0</td><td>&quot;01_02_01_25&quot;</td><td>27</td></tr><tr><td>&quot;0102040531&quot;</td><td>[1, 2, … 31]</td><td>1</td><td>2</td><td>4</td><td>5</td><td>31</td><td>&quot;01&quot;</td><td>&quot;02&quot;</td><td>&quot;04&quot;</td><td>&quot;05&quot;</td><td>&quot;31&quot;</td><td>&quot;01&quot;</td><td>&quot;30&quot;</td><td>false</td><td>0</td><td>&quot;01_02_01_26&quot;</td><td>28</td></tr><tr><td>&quot;0102040532&quot;</td><td>[1, 2, … 32]</td><td>1</td><td>2</td><td>4</td><td>5</td><td>32</td><td>&quot;01&quot;</td><td>&quot;02&quot;</td><td>&quot;04&quot;</td><td>&quot;05&quot;</td><td>&quot;32&quot;</td><td>&quot;01&quot;</td><td>&quot;31&quot;</td><td>false</td><td>0</td><td>&quot;01_02_01_27&quot;</td><td>29</td></tr><tr><td>&hellip;</td><td>&hellip;</td><td>&hellip;</td><td>&hellip;</td><td>&hellip;</td><td>&hellip;</td><td>&hellip;</td><td>&hellip;</td><td>&hellip;</td><td>&hellip;</td><td>&hellip;</td><td>&hellip;</td><td>&hellip;</td><td>&hellip;</td><td>&hellip;</td><td>&hellip;</td><td>&hellip;</td><td>&hellip;</td></tr><tr><td>&quot;2829313435&quot;</td><td>[28, 29, … 35]</td><td>28</td><td>29</td><td>31</td><td>34</td><td>35</td><td>&quot;28&quot;</td><td>&quot;29&quot;</td><td>&quot;31&quot;</td><td>&quot;34&quot;</td><td>&quot;35&quot;</td><td>&quot;28&quot;</td><td>&quot;35&quot;</td><td>false</td><td>0</td><td>&quot;01_02_03_01&quot;</td><td>-3</td></tr><tr><td>&quot;2830313334&quot;</td><td>[28, 30, … 34]</td><td>28</td><td>30</td><td>31</td><td>33</td><td>34</td><td>&quot;28&quot;</td><td>&quot;30&quot;</td><td>&quot;31&quot;</td><td>&quot;33&quot;</td><td>&quot;34&quot;</td><td>&quot;28&quot;</td><td>&quot;35&quot;</td><td>false</td><td>0</td><td>&quot;02_01_02_01&quot;</td><td>-4</td></tr><tr><td>&quot;2830313435&quot;</td><td>[28, 30, … 35]</td><td>28</td><td>30</td><td>31</td><td>34</td><td>35</td><td>&quot;28&quot;</td><td>&quot;30&quot;</td><td>&quot;31&quot;</td><td>&quot;34&quot;</td><td>&quot;35&quot;</td><td>&quot;28&quot;</td><td>&quot;35&quot;</td><td>false</td><td>0</td><td>&quot;02_01_03_01&quot;</td><td>-7</td></tr><tr><td>&quot;2831323435&quot;</td><td>[28, 31, … 35]</td><td>28</td><td>31</td><td>32</td><td>34</td><td>35</td><td>&quot;28&quot;</td><td>&quot;31&quot;</td><td>&quot;32&quot;</td><td>&quot;34&quot;</td><td>&quot;35&quot;</td><td>&quot;28&quot;</td><td>&quot;35&quot;</td><td>false</td><td>0</td><td>&quot;03_01_02_01&quot;</td><td>-5</td></tr><tr><td>&quot;2931323435&quot;</td><td>[29, 31, … 35]</td><td>29</td><td>31</td><td>32</td><td>34</td><td>35</td><td>&quot;29&quot;</td><td>&quot;31&quot;</td><td>&quot;32&quot;</td><td>&quot;34&quot;</td><td>&quot;35&quot;</td><td>&quot;29&quot;</td><td>&quot;35&quot;</td><td>false</td><td>0</td><td>&quot;02_01_02_01&quot;</td><td>-4</td></tr></tbody></table></div>"
      ],
      "text/plain": [
       "shape: (160_296, 18)\n",
       "┌────────────┬────────────────┬─────┬─────┬───┬───────────────────┬────────┬─────────────┬─────────┐\n",
       "│ id         ┆ combo          ┆ b1  ┆ b2  ┆ … ┆ is_rare_combinati ┆ reason ┆ jumps_map   ┆ unijump │\n",
       "│ ---        ┆ ---            ┆ --- ┆ --- ┆   ┆ on                ┆ ---    ┆ ---         ┆ ---     │\n",
       "│ str        ┆ array[u8, 5]   ┆ u8  ┆ u8  ┆   ┆ ---               ┆ u8     ┆ str         ┆ i64     │\n",
       "│            ┆                ┆     ┆     ┆   ┆ bool              ┆        ┆             ┆         │\n",
       "╞════════════╪════════════════╪═════╪═════╪═══╪═══════════════════╪════════╪═════════════╪═════════╡\n",
       "│ 0102040513 ┆ [1, 2, … 13]   ┆ 1   ┆ 2   ┆ … ┆ false             ┆ 0      ┆ 01_02_01_08 ┆ 10      │\n",
       "│ 0102040523 ┆ [1, 2, … 23]   ┆ 1   ┆ 2   ┆ … ┆ false             ┆ 0      ┆ 01_02_01_18 ┆ 20      │\n",
       "│ 0102040530 ┆ [1, 2, … 30]   ┆ 1   ┆ 2   ┆ … ┆ false             ┆ 0      ┆ 01_02_01_25 ┆ 27      │\n",
       "│ 0102040531 ┆ [1, 2, … 31]   ┆ 1   ┆ 2   ┆ … ┆ false             ┆ 0      ┆ 01_02_01_26 ┆ 28      │\n",
       "│ 0102040532 ┆ [1, 2, … 32]   ┆ 1   ┆ 2   ┆ … ┆ false             ┆ 0      ┆ 01_02_01_27 ┆ 29      │\n",
       "│ …          ┆ …              ┆ …   ┆ …   ┆ … ┆ …                 ┆ …      ┆ …           ┆ …       │\n",
       "│ 2829313435 ┆ [28, 29, … 35] ┆ 28  ┆ 29  ┆ … ┆ false             ┆ 0      ┆ 01_02_03_01 ┆ -3      │\n",
       "│ 2830313334 ┆ [28, 30, … 34] ┆ 28  ┆ 30  ┆ … ┆ false             ┆ 0      ┆ 02_01_02_01 ┆ -4      │\n",
       "│ 2830313435 ┆ [28, 30, … 35] ┆ 28  ┆ 30  ┆ … ┆ false             ┆ 0      ┆ 02_01_03_01 ┆ -7      │\n",
       "│ 2831323435 ┆ [28, 31, … 35] ┆ 28  ┆ 31  ┆ … ┆ false             ┆ 0      ┆ 03_01_02_01 ┆ -5      │\n",
       "│ 2931323435 ┆ [29, 31, … 35] ┆ 29  ┆ 31  ┆ … ┆ false             ┆ 0      ┆ 02_01_02_01 ┆ -4      │\n",
       "└────────────┴────────────────┴─────┴─────┴───┴───────────────────┴────────┴─────────────┴─────────┘"
      ]
     },
     "execution_count": 76,
     "metadata": {},
     "output_type": "execute_result"
    }
   ],
   "source": [
    "df_Orows.filter(is_rare_combination=False)"
   ]
  },
  {
   "cell_type": "code",
   "execution_count": 77,
   "metadata": {},
   "outputs": [
    {
     "data": {
      "text/html": [
       "<div><style>\n",
       ".dataframe > thead > tr,\n",
       ".dataframe > tbody > tr {\n",
       "  text-align: right;\n",
       "  white-space: pre-wrap;\n",
       "}\n",
       "</style>\n",
       "<small>shape: (16_293, 18)</small><table border=\"1\" class=\"dataframe\"><thead><tr><th>id</th><th>combo</th><th>b1</th><th>b2</th><th>b3</th><th>b4</th><th>b5</th><th>str_b1</th><th>str_b2</th><th>str_b3</th><th>str_b4</th><th>str_b5</th><th>post_str_b1</th><th>post_str_blast</th><th>is_rare_combination</th><th>reason</th><th>jumps_map</th><th>unijump</th></tr><tr><td>str</td><td>array[u8, 5]</td><td>u8</td><td>u8</td><td>u8</td><td>u8</td><td>u8</td><td>str</td><td>str</td><td>str</td><td>str</td><td>str</td><td>str</td><td>str</td><td>bool</td><td>u8</td><td>str</td><td>i64</td></tr></thead><tbody><tr><td>&quot;1112141531&quot;</td><td>[11, 12, … 31]</td><td>11</td><td>12</td><td>14</td><td>15</td><td>31</td><td>&quot;11&quot;</td><td>&quot;12&quot;</td><td>&quot;14&quot;</td><td>&quot;15&quot;</td><td>&quot;31&quot;</td><td>&quot;11&quot;</td><td>&quot;30&quot;</td><td>false</td><td>0</td><td>&quot;01_02_01_16&quot;</td><td>18</td></tr><tr><td>&quot;1112141532&quot;</td><td>[11, 12, … 32]</td><td>11</td><td>12</td><td>14</td><td>15</td><td>32</td><td>&quot;11&quot;</td><td>&quot;12&quot;</td><td>&quot;14&quot;</td><td>&quot;15&quot;</td><td>&quot;32&quot;</td><td>&quot;11&quot;</td><td>&quot;31&quot;</td><td>false</td><td>0</td><td>&quot;01_02_01_17&quot;</td><td>19</td></tr><tr><td>&quot;1112141533&quot;</td><td>[11, 12, … 33]</td><td>11</td><td>12</td><td>14</td><td>15</td><td>33</td><td>&quot;11&quot;</td><td>&quot;12&quot;</td><td>&quot;14&quot;</td><td>&quot;15&quot;</td><td>&quot;33&quot;</td><td>&quot;11&quot;</td><td>&quot;32&quot;</td><td>false</td><td>0</td><td>&quot;01_02_01_18&quot;</td><td>20</td></tr><tr><td>&quot;1112141534&quot;</td><td>[11, 12, … 34]</td><td>11</td><td>12</td><td>14</td><td>15</td><td>34</td><td>&quot;11&quot;</td><td>&quot;12&quot;</td><td>&quot;14&quot;</td><td>&quot;15&quot;</td><td>&quot;34&quot;</td><td>&quot;11&quot;</td><td>&quot;33&quot;</td><td>false</td><td>0</td><td>&quot;01_02_01_19&quot;</td><td>21</td></tr><tr><td>&quot;1112141731&quot;</td><td>[11, 12, … 31]</td><td>11</td><td>12</td><td>14</td><td>17</td><td>31</td><td>&quot;11&quot;</td><td>&quot;12&quot;</td><td>&quot;14&quot;</td><td>&quot;17&quot;</td><td>&quot;31&quot;</td><td>&quot;11&quot;</td><td>&quot;30&quot;</td><td>false</td><td>0</td><td>&quot;01_02_03_14&quot;</td><td>10</td></tr><tr><td>&hellip;</td><td>&hellip;</td><td>&hellip;</td><td>&hellip;</td><td>&hellip;</td><td>&hellip;</td><td>&hellip;</td><td>&hellip;</td><td>&hellip;</td><td>&hellip;</td><td>&hellip;</td><td>&hellip;</td><td>&hellip;</td><td>&hellip;</td><td>&hellip;</td><td>&hellip;</td><td>&hellip;</td><td>&hellip;</td></tr><tr><td>&quot;1728313234&quot;</td><td>[17, 28, … 34]</td><td>17</td><td>28</td><td>31</td><td>32</td><td>34</td><td>&quot;17&quot;</td><td>&quot;28&quot;</td><td>&quot;31&quot;</td><td>&quot;32&quot;</td><td>&quot;34&quot;</td><td>&quot;17&quot;</td><td>&quot;33&quot;</td><td>false</td><td>0</td><td>&quot;11_03_01_02&quot;</td><td>-3</td></tr><tr><td>&quot;1728313334&quot;</td><td>[17, 28, … 34]</td><td>17</td><td>28</td><td>31</td><td>33</td><td>34</td><td>&quot;17&quot;</td><td>&quot;28&quot;</td><td>&quot;31&quot;</td><td>&quot;33&quot;</td><td>&quot;34&quot;</td><td>&quot;17&quot;</td><td>&quot;35&quot;</td><td>false</td><td>0</td><td>&quot;11_03_02_01&quot;</td><td>-7</td></tr><tr><td>&quot;1729303233&quot;</td><td>[17, 29, … 33]</td><td>17</td><td>29</td><td>30</td><td>32</td><td>33</td><td>&quot;17&quot;</td><td>&quot;29&quot;</td><td>&quot;30&quot;</td><td>&quot;32&quot;</td><td>&quot;33&quot;</td><td>&quot;17&quot;</td><td>&quot;35&quot;</td><td>false</td><td>0</td><td>&quot;12_01_02_01&quot;</td><td>-14</td></tr><tr><td>&quot;1729303334&quot;</td><td>[17, 29, … 34]</td><td>17</td><td>29</td><td>30</td><td>33</td><td>34</td><td>&quot;17&quot;</td><td>&quot;29&quot;</td><td>&quot;30&quot;</td><td>&quot;33&quot;</td><td>&quot;34&quot;</td><td>&quot;17&quot;</td><td>&quot;35&quot;</td><td>false</td><td>0</td><td>&quot;12_01_03_01&quot;</td><td>-17</td></tr><tr><td>&quot;1729313234&quot;</td><td>[17, 29, … 34]</td><td>17</td><td>29</td><td>31</td><td>32</td><td>34</td><td>&quot;17&quot;</td><td>&quot;29&quot;</td><td>&quot;31&quot;</td><td>&quot;32&quot;</td><td>&quot;34&quot;</td><td>&quot;17&quot;</td><td>&quot;33&quot;</td><td>false</td><td>0</td><td>&quot;12_02_01_02&quot;</td><td>-7</td></tr></tbody></table></div>"
      ],
      "text/plain": [
       "shape: (16_293, 18)\n",
       "┌────────────┬────────────────┬─────┬─────┬───┬───────────────────┬────────┬─────────────┬─────────┐\n",
       "│ id         ┆ combo          ┆ b1  ┆ b2  ┆ … ┆ is_rare_combinati ┆ reason ┆ jumps_map   ┆ unijump │\n",
       "│ ---        ┆ ---            ┆ --- ┆ --- ┆   ┆ on                ┆ ---    ┆ ---         ┆ ---     │\n",
       "│ str        ┆ array[u8, 5]   ┆ u8  ┆ u8  ┆   ┆ ---               ┆ u8     ┆ str         ┆ i64     │\n",
       "│            ┆                ┆     ┆     ┆   ┆ bool              ┆        ┆             ┆         │\n",
       "╞════════════╪════════════════╪═════╪═════╪═══╪═══════════════════╪════════╪═════════════╪═════════╡\n",
       "│ 1112141531 ┆ [11, 12, … 31] ┆ 11  ┆ 12  ┆ … ┆ false             ┆ 0      ┆ 01_02_01_16 ┆ 18      │\n",
       "│ 1112141532 ┆ [11, 12, … 32] ┆ 11  ┆ 12  ┆ … ┆ false             ┆ 0      ┆ 01_02_01_17 ┆ 19      │\n",
       "│ 1112141533 ┆ [11, 12, … 33] ┆ 11  ┆ 12  ┆ … ┆ false             ┆ 0      ┆ 01_02_01_18 ┆ 20      │\n",
       "│ 1112141534 ┆ [11, 12, … 34] ┆ 11  ┆ 12  ┆ … ┆ false             ┆ 0      ┆ 01_02_01_19 ┆ 21      │\n",
       "│ 1112141731 ┆ [11, 12, … 31] ┆ 11  ┆ 12  ┆ … ┆ false             ┆ 0      ┆ 01_02_03_14 ┆ 10      │\n",
       "│ …          ┆ …              ┆ …   ┆ …   ┆ … ┆ …                 ┆ …      ┆ …           ┆ …       │\n",
       "│ 1728313234 ┆ [17, 28, … 34] ┆ 17  ┆ 28  ┆ … ┆ false             ┆ 0      ┆ 11_03_01_02 ┆ -3      │\n",
       "│ 1728313334 ┆ [17, 28, … 34] ┆ 17  ┆ 28  ┆ … ┆ false             ┆ 0      ┆ 11_03_02_01 ┆ -7      │\n",
       "│ 1729303233 ┆ [17, 29, … 33] ┆ 17  ┆ 29  ┆ … ┆ false             ┆ 0      ┆ 12_01_02_01 ┆ -14     │\n",
       "│ 1729303334 ┆ [17, 29, … 34] ┆ 17  ┆ 29  ┆ … ┆ false             ┆ 0      ┆ 12_01_03_01 ┆ -17     │\n",
       "│ 1729313234 ┆ [17, 29, … 34] ┆ 17  ┆ 29  ┆ … ┆ false             ┆ 0      ┆ 12_02_01_02 ┆ -7      │\n",
       "└────────────┴────────────────┴─────┴─────┴───┴───────────────────┴────────┴─────────────┴─────────┘"
      ]
     },
     "execution_count": 77,
     "metadata": {},
     "output_type": "execute_result"
    }
   ],
   "source": [
    "# possible_b1, exclude_jump_maps_b1\n",
    "\n",
    "df_possible = df_Orows.filter(\n",
    "  # pl.col(\"str_b1\").is_in(possible_b1),\n",
    "  pl.col(\"str_b1\").is_in(['11', '12', '13', '14', '15', '16', '17']),\n",
    "  # ~pl.col(\"str_b1\").is_in(['18', '19', '20', '21', '22', '23', '24', '26']),\n",
    "  ~pl.col(\"jumps_map\").is_in(exclude_jump_maps_b1 + exclude_jump_maps_blast),\n",
    "  pl.col(\"str_b5\").is_in(possible_blast),\n",
    "  ~pl.col(\"str_b5\").is_in(['24', '38', '35']),\n",
    "  pl.col(\"is_rare_combination\") == False\n",
    ")\n",
    "\n",
    "df_possible"
   ]
  },
  {
   "cell_type": "code",
   "execution_count": 79,
   "metadata": {},
   "outputs": [
    {
     "data": {
      "text/html": [
       "<div><style>\n",
       ".dataframe > thead > tr,\n",
       ".dataframe > tbody > tr {\n",
       "  text-align: right;\n",
       "  white-space: pre-wrap;\n",
       "}\n",
       "</style>\n",
       "<small>shape: (1, 18)</small><table border=\"1\" class=\"dataframe\"><thead><tr><th>id</th><th>combo</th><th>b1</th><th>b2</th><th>b3</th><th>b4</th><th>b5</th><th>str_b1</th><th>str_b2</th><th>str_b3</th><th>str_b4</th><th>str_b5</th><th>post_str_b1</th><th>post_str_blast</th><th>is_rare_combination</th><th>reason</th><th>jumps_map</th><th>unijump</th></tr><tr><td>str</td><td>array[u8, 5]</td><td>u8</td><td>u8</td><td>u8</td><td>u8</td><td>u8</td><td>str</td><td>str</td><td>str</td><td>str</td><td>str</td><td>str</td><td>str</td><td>bool</td><td>u8</td><td>str</td><td>i64</td></tr></thead><tbody><tr><td>&quot;1522232932&quot;</td><td>[15, 22, … 32]</td><td>15</td><td>22</td><td>23</td><td>29</td><td>32</td><td>&quot;15&quot;</td><td>&quot;22&quot;</td><td>&quot;23&quot;</td><td>&quot;29&quot;</td><td>&quot;32&quot;</td><td>&quot;15&quot;</td><td>&quot;31&quot;</td><td>false</td><td>0</td><td>&quot;07_01_06_03&quot;</td><td>-19</td></tr></tbody></table></div>"
      ],
      "text/plain": [
       "shape: (1, 18)\n",
       "┌────────────┬────────────────┬─────┬─────┬───┬───────────────────┬────────┬─────────────┬─────────┐\n",
       "│ id         ┆ combo          ┆ b1  ┆ b2  ┆ … ┆ is_rare_combinati ┆ reason ┆ jumps_map   ┆ unijump │\n",
       "│ ---        ┆ ---            ┆ --- ┆ --- ┆   ┆ on                ┆ ---    ┆ ---         ┆ ---     │\n",
       "│ str        ┆ array[u8, 5]   ┆ u8  ┆ u8  ┆   ┆ ---               ┆ u8     ┆ str         ┆ i64     │\n",
       "│            ┆                ┆     ┆     ┆   ┆ bool              ┆        ┆             ┆         │\n",
       "╞════════════╪════════════════╪═════╪═════╪═══╪═══════════════════╪════════╪═════════════╪═════════╡\n",
       "│ 1522232932 ┆ [15, 22, … 32] ┆ 15  ┆ 22  ┆ … ┆ false             ┆ 0      ┆ 07_01_06_03 ┆ -19     │\n",
       "└────────────┴────────────────┴─────┴─────┴───┴───────────────────┴────────┴─────────────┴─────────┘"
      ]
     },
     "execution_count": 79,
     "metadata": {},
     "output_type": "execute_result"
    }
   ],
   "source": [
    "df_possible.sample(n=1)"
   ]
  }
 ],
 "metadata": {
  "kernelspec": {
   "display_name": ".venv",
   "language": "python",
   "name": "python3"
  },
  "language_info": {
   "codemirror_mode": {
    "name": "ipython",
    "version": 3
   },
   "file_extension": ".py",
   "mimetype": "text/x-python",
   "name": "python",
   "nbconvert_exporter": "python",
   "pygments_lexer": "ipython3",
   "version": "3.12.9"
  }
 },
 "nbformat": 4,
 "nbformat_minor": 2
}

{
 "cells": [
  {
   "cell_type": "code",
   "execution_count": 2,
   "metadata": {},
   "outputs": [
    {
     "data": {
      "text/html": [
       "<script type=\"esms-options\">{\"shimMode\": true}</script><style>*[data-root-id],\n",
       "*[data-root-id] > * {\n",
       "  box-sizing: border-box;\n",
       "  font-family: var(--jp-ui-font-family);\n",
       "  font-size: var(--jp-ui-font-size1);\n",
       "  color: var(--vscode-editor-foreground, var(--jp-ui-font-color1));\n",
       "}\n",
       "\n",
       "/* Override VSCode background color */\n",
       ".cell-output-ipywidget-background:has(\n",
       "    > .cell-output-ipywidget-background > .lm-Widget > *[data-root-id]\n",
       "  ),\n",
       ".cell-output-ipywidget-background:has(> .lm-Widget > *[data-root-id]) {\n",
       "  background-color: transparent !important;\n",
       "}\n",
       "</style>"
      ]
     },
     "metadata": {},
     "output_type": "display_data"
    },
    {
     "data": {
      "application/javascript": "(function(root) {\n  function now() {\n    return new Date();\n  }\n\n  const force = true;\n  const py_version = '3.7.2'.replace('rc', '-rc.').replace('.dev', '-dev.');\n  const reloading = false;\n  const Bokeh = root.Bokeh;\n\n  // Set a timeout for this load but only if we are not already initializing\n  if (typeof (root._bokeh_timeout) === \"undefined\" || (force || !root._bokeh_is_initializing)) {\n    root._bokeh_timeout = Date.now() + 5000;\n    root._bokeh_failed_load = false;\n  }\n\n  function run_callbacks() {\n    try {\n      root._bokeh_onload_callbacks.forEach(function(callback) {\n        if (callback != null)\n          callback();\n      });\n    } finally {\n      delete root._bokeh_onload_callbacks;\n    }\n    console.debug(\"Bokeh: all callbacks have finished\");\n  }\n\n  function load_libs(css_urls, js_urls, js_modules, js_exports, callback) {\n    if (css_urls == null) css_urls = [];\n    if (js_urls == null) js_urls = [];\n    if (js_modules == null) js_modules = [];\n    if (js_exports == null) js_exports = {};\n\n    root._bokeh_onload_callbacks.push(callback);\n\n    if (root._bokeh_is_loading > 0) {\n      // Don't load bokeh if it is still initializing\n      console.debug(\"Bokeh: BokehJS is being loaded, scheduling callback at\", now());\n      return null;\n    } else if (js_urls.length === 0 && js_modules.length === 0 && Object.keys(js_exports).length === 0) {\n      // There is nothing to load\n      run_callbacks();\n      return null;\n    }\n\n    function on_load() {\n      root._bokeh_is_loading--;\n      if (root._bokeh_is_loading === 0) {\n        console.debug(\"Bokeh: all BokehJS libraries/stylesheets loaded\");\n        run_callbacks()\n      }\n    }\n    window._bokeh_on_load = on_load\n\n    function on_error(e) {\n      const src_el = e.srcElement\n      console.error(\"failed to load \" + (src_el.href || src_el.src));\n    }\n\n    const skip = [];\n    if (window.requirejs) {\n      window.requirejs.config({'packages': {}, 'paths': {}, 'shim': {}});\n      root._bokeh_is_loading = css_urls.length + 0;\n    } else {\n      root._bokeh_is_loading = css_urls.length + js_urls.length + js_modules.length + Object.keys(js_exports).length;\n    }\n\n    const existing_stylesheets = []\n    const links = document.getElementsByTagName('link')\n    for (let i = 0; i < links.length; i++) {\n      const link = links[i]\n      if (link.href != null) {\n        existing_stylesheets.push(link.href)\n      }\n    }\n    for (let i = 0; i < css_urls.length; i++) {\n      const url = css_urls[i];\n      const escaped = encodeURI(url)\n      if (existing_stylesheets.indexOf(escaped) !== -1) {\n        on_load()\n        continue;\n      }\n      const element = document.createElement(\"link\");\n      element.onload = on_load;\n      element.onerror = on_error;\n      element.rel = \"stylesheet\";\n      element.type = \"text/css\";\n      element.href = url;\n      console.debug(\"Bokeh: injecting link tag for BokehJS stylesheet: \", url);\n      document.body.appendChild(element);\n    }    var existing_scripts = []\n    const scripts = document.getElementsByTagName('script')\n    for (let i = 0; i < scripts.length; i++) {\n      var script = scripts[i]\n      if (script.src != null) {\n        existing_scripts.push(script.src)\n      }\n    }\n    for (let i = 0; i < js_urls.length; i++) {\n      const url = js_urls[i];\n      const escaped = encodeURI(url)\n      if (skip.indexOf(escaped) !== -1 || existing_scripts.indexOf(escaped) !== -1) {\n        if (!window.requirejs) {\n          on_load();\n        }\n        continue;\n      }\n      const element = document.createElement('script');\n      element.onload = on_load;\n      element.onerror = on_error;\n      element.async = false;\n      element.src = url;\n      console.debug(\"Bokeh: injecting script tag for BokehJS library: \", url);\n      document.head.appendChild(element);\n    }\n    for (let i = 0; i < js_modules.length; i++) {\n      const url = js_modules[i];\n      const escaped = encodeURI(url)\n      if (skip.indexOf(escaped) !== -1 || existing_scripts.indexOf(escaped) !== -1) {\n        if (!window.requirejs) {\n          on_load();\n        }\n        continue;\n      }\n      var element = document.createElement('script');\n      element.onload = on_load;\n      element.onerror = on_error;\n      element.async = false;\n      element.src = url;\n      element.type = \"module\";\n      console.debug(\"Bokeh: injecting script tag for BokehJS library: \", url);\n      document.head.appendChild(element);\n    }\n    for (const name in js_exports) {\n      const url = js_exports[name];\n      const escaped = encodeURI(url)\n      if (skip.indexOf(escaped) >= 0 || root[name] != null) {\n        if (!window.requirejs) {\n          on_load();\n        }\n        continue;\n      }\n      var element = document.createElement('script');\n      element.onerror = on_error;\n      element.async = false;\n      element.type = \"module\";\n      console.debug(\"Bokeh: injecting script tag for BokehJS library: \", url);\n      element.textContent = `\n      import ${name} from \"${url}\"\n      window.${name} = ${name}\n      window._bokeh_on_load()\n      `\n      document.head.appendChild(element);\n    }\n    if (!js_urls.length && !js_modules.length) {\n      on_load()\n    }\n  };\n\n  function inject_raw_css(css) {\n    const element = document.createElement(\"style\");\n    element.appendChild(document.createTextNode(css));\n    document.body.appendChild(element);\n  }\n\n  const js_urls = [\"https://cdn.holoviz.org/panel/1.6.2/dist/bundled/reactiveesm/es-module-shims@^1.10.0/dist/es-module-shims.min.js\", \"https://cdn.bokeh.org/bokeh/release/bokeh-3.7.2.min.js\", \"https://cdn.bokeh.org/bokeh/release/bokeh-gl-3.7.2.min.js\", \"https://cdn.bokeh.org/bokeh/release/bokeh-widgets-3.7.2.min.js\", \"https://cdn.bokeh.org/bokeh/release/bokeh-tables-3.7.2.min.js\", \"https://cdn.holoviz.org/panel/1.6.2/dist/panel.min.js\"];\n  const js_modules = [];\n  const js_exports = {};\n  const css_urls = [];\n  const inline_js = [    function(Bokeh) {\n      Bokeh.set_log_level(\"info\");\n    },\nfunction(Bokeh) {} // ensure no trailing comma for IE\n  ];\n\n  function run_inline_js() {\n    if ((root.Bokeh !== undefined) || (force === true)) {\n      for (let i = 0; i < inline_js.length; i++) {\n        try {\n          inline_js[i].call(root, root.Bokeh);\n        } catch(e) {\n          if (!reloading) {\n            throw e;\n          }\n        }\n      }\n      // Cache old bokeh versions\n      if (Bokeh != undefined && !reloading) {\n        var NewBokeh = root.Bokeh;\n        if (Bokeh.versions === undefined) {\n          Bokeh.versions = new Map();\n        }\n        if (NewBokeh.version !== Bokeh.version) {\n          Bokeh.versions.set(NewBokeh.version, NewBokeh)\n        }\n        root.Bokeh = Bokeh;\n      }\n    } else if (Date.now() < root._bokeh_timeout) {\n      setTimeout(run_inline_js, 100);\n    } else if (!root._bokeh_failed_load) {\n      console.log(\"Bokeh: BokehJS failed to load within specified timeout.\");\n      root._bokeh_failed_load = true;\n    }\n    root._bokeh_is_initializing = false\n  }\n\n  function load_or_wait() {\n    // Implement a backoff loop that tries to ensure we do not load multiple\n    // versions of Bokeh and its dependencies at the same time.\n    // In recent versions we use the root._bokeh_is_initializing flag\n    // to determine whether there is an ongoing attempt to initialize\n    // bokeh, however for backward compatibility we also try to ensure\n    // that we do not start loading a newer (Panel>=1.0 and Bokeh>3) version\n    // before older versions are fully initialized.\n    if (root._bokeh_is_initializing && Date.now() > root._bokeh_timeout) {\n      // If the timeout and bokeh was not successfully loaded we reset\n      // everything and try loading again\n      root._bokeh_timeout = Date.now() + 5000;\n      root._bokeh_is_initializing = false;\n      root._bokeh_onload_callbacks = undefined;\n      root._bokeh_is_loading = 0\n      console.log(\"Bokeh: BokehJS was loaded multiple times but one version failed to initialize.\");\n      load_or_wait();\n    } else if (root._bokeh_is_initializing || (typeof root._bokeh_is_initializing === \"undefined\" && root._bokeh_onload_callbacks !== undefined)) {\n      setTimeout(load_or_wait, 100);\n    } else {\n      root._bokeh_is_initializing = true\n      root._bokeh_onload_callbacks = []\n      const bokeh_loaded = root.Bokeh != null && (root.Bokeh.version === py_version || (root.Bokeh.versions !== undefined && root.Bokeh.versions.has(py_version)));\n      if (!reloading && !bokeh_loaded) {\n        if (root.Bokeh) {\n          root.Bokeh = undefined;\n        }\n        console.debug(\"Bokeh: BokehJS not loaded, scheduling load and callback at\", now());\n      }\n      load_libs(css_urls, js_urls, js_modules, js_exports, function() {\n        console.debug(\"Bokeh: BokehJS plotting callback run at\", now());\n        run_inline_js();\n      });\n    }\n  }\n  // Give older versions of the autoload script a head-start to ensure\n  // they initialize before we start loading newer version.\n  setTimeout(load_or_wait, 100)\n}(window));",
      "application/vnd.holoviews_load.v0+json": ""
     },
     "metadata": {},
     "output_type": "display_data"
    },
    {
     "data": {
      "application/javascript": "\nif ((window.PyViz === undefined) || (window.PyViz instanceof HTMLElement)) {\n  window.PyViz = {comms: {}, comm_status:{}, kernels:{}, receivers: {}, plot_index: []}\n}\n\n\n    function JupyterCommManager() {\n    }\n\n    JupyterCommManager.prototype.register_target = function(plot_id, comm_id, msg_handler) {\n      if (window.comm_manager || ((window.Jupyter !== undefined) && (Jupyter.notebook.kernel != null))) {\n        var comm_manager = window.comm_manager || Jupyter.notebook.kernel.comm_manager;\n        comm_manager.register_target(comm_id, function(comm) {\n          comm.on_msg(msg_handler);\n        });\n      } else if ((plot_id in window.PyViz.kernels) && (window.PyViz.kernels[plot_id])) {\n        window.PyViz.kernels[plot_id].registerCommTarget(comm_id, function(comm) {\n          comm.onMsg = msg_handler;\n        });\n      } else if (typeof google != 'undefined' && google.colab.kernel != null) {\n        google.colab.kernel.comms.registerTarget(comm_id, (comm) => {\n          var messages = comm.messages[Symbol.asyncIterator]();\n          function processIteratorResult(result) {\n            var message = result.value;\n            console.log(message)\n            var content = {data: message.data, comm_id};\n            var buffers = []\n            for (var buffer of message.buffers || []) {\n              buffers.push(new DataView(buffer))\n            }\n            var metadata = message.metadata || {};\n            var msg = {content, buffers, metadata}\n            msg_handler(msg);\n            return messages.next().then(processIteratorResult);\n          }\n          return messages.next().then(processIteratorResult);\n        })\n      }\n    }\n\n    JupyterCommManager.prototype.get_client_comm = function(plot_id, comm_id, msg_handler) {\n      if (comm_id in window.PyViz.comms) {\n        return window.PyViz.comms[comm_id];\n      } else if (window.comm_manager || ((window.Jupyter !== undefined) && (Jupyter.notebook.kernel != null))) {\n        var comm_manager = window.comm_manager || Jupyter.notebook.kernel.comm_manager;\n        var comm = comm_manager.new_comm(comm_id, {}, {}, {}, comm_id);\n        if (msg_handler) {\n          comm.on_msg(msg_handler);\n        }\n      } else if ((plot_id in window.PyViz.kernels) && (window.PyViz.kernels[plot_id])) {\n        var comm = window.PyViz.kernels[plot_id].connectToComm(comm_id);\n        comm.open();\n        if (msg_handler) {\n          comm.onMsg = msg_handler;\n        }\n      } else if (typeof google != 'undefined' && google.colab.kernel != null) {\n        var comm_promise = google.colab.kernel.comms.open(comm_id)\n        comm_promise.then((comm) => {\n          window.PyViz.comms[comm_id] = comm;\n          if (msg_handler) {\n            var messages = comm.messages[Symbol.asyncIterator]();\n            function processIteratorResult(result) {\n              var message = result.value;\n              var content = {data: message.data};\n              var metadata = message.metadata || {comm_id};\n              var msg = {content, metadata}\n              msg_handler(msg);\n              return messages.next().then(processIteratorResult);\n            }\n            return messages.next().then(processIteratorResult);\n          }\n        })\n        var sendClosure = (data, metadata, buffers, disposeOnDone) => {\n          return comm_promise.then((comm) => {\n            comm.send(data, metadata, buffers, disposeOnDone);\n          });\n        };\n        var comm = {\n          send: sendClosure\n        };\n      }\n      window.PyViz.comms[comm_id] = comm;\n      return comm;\n    }\n    window.PyViz.comm_manager = new JupyterCommManager();\n    \n\n\nvar JS_MIME_TYPE = 'application/javascript';\nvar HTML_MIME_TYPE = 'text/html';\nvar EXEC_MIME_TYPE = 'application/vnd.holoviews_exec.v0+json';\nvar CLASS_NAME = 'output';\n\n/**\n * Render data to the DOM node\n */\nfunction render(props, node) {\n  var div = document.createElement(\"div\");\n  var script = document.createElement(\"script\");\n  node.appendChild(div);\n  node.appendChild(script);\n}\n\n/**\n * Handle when a new output is added\n */\nfunction handle_add_output(event, handle) {\n  var output_area = handle.output_area;\n  var output = handle.output;\n  if ((output.data == undefined) || (!output.data.hasOwnProperty(EXEC_MIME_TYPE))) {\n    return\n  }\n  var id = output.metadata[EXEC_MIME_TYPE][\"id\"];\n  var toinsert = output_area.element.find(\".\" + CLASS_NAME.split(' ')[0]);\n  if (id !== undefined) {\n    var nchildren = toinsert.length;\n    var html_node = toinsert[nchildren-1].children[0];\n    html_node.innerHTML = output.data[HTML_MIME_TYPE];\n    var scripts = [];\n    var nodelist = html_node.querySelectorAll(\"script\");\n    for (var i in nodelist) {\n      if (nodelist.hasOwnProperty(i)) {\n        scripts.push(nodelist[i])\n      }\n    }\n\n    scripts.forEach( function (oldScript) {\n      var newScript = document.createElement(\"script\");\n      var attrs = [];\n      var nodemap = oldScript.attributes;\n      for (var j in nodemap) {\n        if (nodemap.hasOwnProperty(j)) {\n          attrs.push(nodemap[j])\n        }\n      }\n      attrs.forEach(function(attr) { newScript.setAttribute(attr.name, attr.value) });\n      newScript.appendChild(document.createTextNode(oldScript.innerHTML));\n      oldScript.parentNode.replaceChild(newScript, oldScript);\n    });\n    if (JS_MIME_TYPE in output.data) {\n      toinsert[nchildren-1].children[1].textContent = output.data[JS_MIME_TYPE];\n    }\n    output_area._hv_plot_id = id;\n    if ((window.Bokeh !== undefined) && (id in Bokeh.index)) {\n      window.PyViz.plot_index[id] = Bokeh.index[id];\n    } else {\n      window.PyViz.plot_index[id] = null;\n    }\n  } else if (output.metadata[EXEC_MIME_TYPE][\"server_id\"] !== undefined) {\n    var bk_div = document.createElement(\"div\");\n    bk_div.innerHTML = output.data[HTML_MIME_TYPE];\n    var script_attrs = bk_div.children[0].attributes;\n    for (var i = 0; i < script_attrs.length; i++) {\n      toinsert[toinsert.length - 1].childNodes[1].setAttribute(script_attrs[i].name, script_attrs[i].value);\n    }\n    // store reference to server id on output_area\n    output_area._bokeh_server_id = output.metadata[EXEC_MIME_TYPE][\"server_id\"];\n  }\n}\n\n/**\n * Handle when an output is cleared or removed\n */\nfunction handle_clear_output(event, handle) {\n  var id = handle.cell.output_area._hv_plot_id;\n  var server_id = handle.cell.output_area._bokeh_server_id;\n  if (((id === undefined) || !(id in PyViz.plot_index)) && (server_id !== undefined)) { return; }\n  var comm = window.PyViz.comm_manager.get_client_comm(\"hv-extension-comm\", \"hv-extension-comm\", function () {});\n  if (server_id !== null) {\n    comm.send({event_type: 'server_delete', 'id': server_id});\n    return;\n  } else if (comm !== null) {\n    comm.send({event_type: 'delete', 'id': id});\n  }\n  delete PyViz.plot_index[id];\n  if ((window.Bokeh !== undefined) & (id in window.Bokeh.index)) {\n    var doc = window.Bokeh.index[id].model.document\n    doc.clear();\n    const i = window.Bokeh.documents.indexOf(doc);\n    if (i > -1) {\n      window.Bokeh.documents.splice(i, 1);\n    }\n  }\n}\n\n/**\n * Handle kernel restart event\n */\nfunction handle_kernel_cleanup(event, handle) {\n  delete PyViz.comms[\"hv-extension-comm\"];\n  window.PyViz.plot_index = {}\n}\n\n/**\n * Handle update_display_data messages\n */\nfunction handle_update_output(event, handle) {\n  handle_clear_output(event, {cell: {output_area: handle.output_area}})\n  handle_add_output(event, handle)\n}\n\nfunction register_renderer(events, OutputArea) {\n  function append_mime(data, metadata, element) {\n    // create a DOM node to render to\n    var toinsert = this.create_output_subarea(\n    metadata,\n    CLASS_NAME,\n    EXEC_MIME_TYPE\n    );\n    this.keyboard_manager.register_events(toinsert);\n    // Render to node\n    var props = {data: data, metadata: metadata[EXEC_MIME_TYPE]};\n    render(props, toinsert[0]);\n    element.append(toinsert);\n    return toinsert\n  }\n\n  events.on('output_added.OutputArea', handle_add_output);\n  events.on('output_updated.OutputArea', handle_update_output);\n  events.on('clear_output.CodeCell', handle_clear_output);\n  events.on('delete.Cell', handle_clear_output);\n  events.on('kernel_ready.Kernel', handle_kernel_cleanup);\n\n  OutputArea.prototype.register_mime_type(EXEC_MIME_TYPE, append_mime, {\n    safe: true,\n    index: 0\n  });\n}\n\nif (window.Jupyter !== undefined) {\n  try {\n    var events = require('base/js/events');\n    var OutputArea = require('notebook/js/outputarea').OutputArea;\n    if (OutputArea.prototype.mime_types().indexOf(EXEC_MIME_TYPE) == -1) {\n      register_renderer(events, OutputArea);\n    }\n  } catch(err) {\n  }\n}\n",
      "application/vnd.holoviews_load.v0+json": ""
     },
     "metadata": {},
     "output_type": "display_data"
    },
    {
     "data": {
      "application/vnd.holoviews_exec.v0+json": "",
      "text/html": [
       "<div id='db10aa77-d1b5-4f81-a46a-1c7f986af642'>\n",
       "  <div id=\"bf03c6d9-2dac-47ff-9cd7-85ec5fd853cb\" data-root-id=\"db10aa77-d1b5-4f81-a46a-1c7f986af642\" style=\"display: contents;\"></div>\n",
       "</div>\n",
       "<script type=\"application/javascript\">(function(root) {\n",
       "  var docs_json = {\"408acedd-b65e-4166-874b-ea778427eb49\":{\"version\":\"3.7.2\",\"title\":\"Bokeh Application\",\"roots\":[{\"type\":\"object\",\"name\":\"panel.models.browser.BrowserInfo\",\"id\":\"db10aa77-d1b5-4f81-a46a-1c7f986af642\"},{\"type\":\"object\",\"name\":\"panel.models.comm_manager.CommManager\",\"id\":\"243788cc-57e4-49f8-b932-cdefcadc00bf\",\"attributes\":{\"plot_id\":\"db10aa77-d1b5-4f81-a46a-1c7f986af642\",\"comm_id\":\"368e9084188843be99a31a39d4bd73d2\",\"client_comm_id\":\"c4a7621487ce4014b289516d27eeb926\"}}],\"defs\":[{\"type\":\"model\",\"name\":\"ReactiveHTML1\"},{\"type\":\"model\",\"name\":\"FlexBox1\",\"properties\":[{\"name\":\"align_content\",\"kind\":\"Any\",\"default\":\"flex-start\"},{\"name\":\"align_items\",\"kind\":\"Any\",\"default\":\"flex-start\"},{\"name\":\"flex_direction\",\"kind\":\"Any\",\"default\":\"row\"},{\"name\":\"flex_wrap\",\"kind\":\"Any\",\"default\":\"wrap\"},{\"name\":\"gap\",\"kind\":\"Any\",\"default\":\"\"},{\"name\":\"justify_content\",\"kind\":\"Any\",\"default\":\"flex-start\"}]},{\"type\":\"model\",\"name\":\"FloatPanel1\",\"properties\":[{\"name\":\"config\",\"kind\":\"Any\",\"default\":{\"type\":\"map\"}},{\"name\":\"contained\",\"kind\":\"Any\",\"default\":true},{\"name\":\"position\",\"kind\":\"Any\",\"default\":\"right-top\"},{\"name\":\"offsetx\",\"kind\":\"Any\",\"default\":null},{\"name\":\"offsety\",\"kind\":\"Any\",\"default\":null},{\"name\":\"theme\",\"kind\":\"Any\",\"default\":\"primary\"},{\"name\":\"status\",\"kind\":\"Any\",\"default\":\"normalized\"}]},{\"type\":\"model\",\"name\":\"GridStack1\",\"properties\":[{\"name\":\"ncols\",\"kind\":\"Any\",\"default\":null},{\"name\":\"nrows\",\"kind\":\"Any\",\"default\":null},{\"name\":\"allow_resize\",\"kind\":\"Any\",\"default\":true},{\"name\":\"allow_drag\",\"kind\":\"Any\",\"default\":true},{\"name\":\"state\",\"kind\":\"Any\",\"default\":[]}]},{\"type\":\"model\",\"name\":\"drag1\",\"properties\":[{\"name\":\"slider_width\",\"kind\":\"Any\",\"default\":5},{\"name\":\"slider_color\",\"kind\":\"Any\",\"default\":\"black\"},{\"name\":\"value\",\"kind\":\"Any\",\"default\":50}]},{\"type\":\"model\",\"name\":\"click1\",\"properties\":[{\"name\":\"terminal_output\",\"kind\":\"Any\",\"default\":\"\"},{\"name\":\"debug_name\",\"kind\":\"Any\",\"default\":\"\"},{\"name\":\"clears\",\"kind\":\"Any\",\"default\":0}]},{\"type\":\"model\",\"name\":\"FastWrapper1\",\"properties\":[{\"name\":\"object\",\"kind\":\"Any\",\"default\":null},{\"name\":\"style\",\"kind\":\"Any\",\"default\":null}]},{\"type\":\"model\",\"name\":\"NotificationArea1\",\"properties\":[{\"name\":\"js_events\",\"kind\":\"Any\",\"default\":{\"type\":\"map\"}},{\"name\":\"max_notifications\",\"kind\":\"Any\",\"default\":5},{\"name\":\"notifications\",\"kind\":\"Any\",\"default\":[]},{\"name\":\"position\",\"kind\":\"Any\",\"default\":\"bottom-right\"},{\"name\":\"_clear\",\"kind\":\"Any\",\"default\":0},{\"name\":\"types\",\"kind\":\"Any\",\"default\":[{\"type\":\"map\",\"entries\":[[\"type\",\"warning\"],[\"background\",\"#ffc107\"],[\"icon\",{\"type\":\"map\",\"entries\":[[\"className\",\"fas fa-exclamation-triangle\"],[\"tagName\",\"i\"],[\"color\",\"white\"]]}]]},{\"type\":\"map\",\"entries\":[[\"type\",\"info\"],[\"background\",\"#007bff\"],[\"icon\",{\"type\":\"map\",\"entries\":[[\"className\",\"fas fa-info-circle\"],[\"tagName\",\"i\"],[\"color\",\"white\"]]}]]}]}]},{\"type\":\"model\",\"name\":\"Notification\",\"properties\":[{\"name\":\"background\",\"kind\":\"Any\",\"default\":null},{\"name\":\"duration\",\"kind\":\"Any\",\"default\":3000},{\"name\":\"icon\",\"kind\":\"Any\",\"default\":null},{\"name\":\"message\",\"kind\":\"Any\",\"default\":\"\"},{\"name\":\"notification_type\",\"kind\":\"Any\",\"default\":null},{\"name\":\"_rendered\",\"kind\":\"Any\",\"default\":false},{\"name\":\"_destroyed\",\"kind\":\"Any\",\"default\":false}]},{\"type\":\"model\",\"name\":\"TemplateActions1\",\"properties\":[{\"name\":\"open_modal\",\"kind\":\"Any\",\"default\":0},{\"name\":\"close_modal\",\"kind\":\"Any\",\"default\":0}]},{\"type\":\"model\",\"name\":\"BootstrapTemplateActions1\",\"properties\":[{\"name\":\"open_modal\",\"kind\":\"Any\",\"default\":0},{\"name\":\"close_modal\",\"kind\":\"Any\",\"default\":0}]},{\"type\":\"model\",\"name\":\"TemplateEditor1\",\"properties\":[{\"name\":\"layout\",\"kind\":\"Any\",\"default\":[]}]},{\"type\":\"model\",\"name\":\"MaterialTemplateActions1\",\"properties\":[{\"name\":\"open_modal\",\"kind\":\"Any\",\"default\":0},{\"name\":\"close_modal\",\"kind\":\"Any\",\"default\":0}]},{\"type\":\"model\",\"name\":\"ReactiveESM1\",\"properties\":[{\"name\":\"esm_constants\",\"kind\":\"Any\",\"default\":{\"type\":\"map\"}}]},{\"type\":\"model\",\"name\":\"JSComponent1\",\"properties\":[{\"name\":\"esm_constants\",\"kind\":\"Any\",\"default\":{\"type\":\"map\"}}]},{\"type\":\"model\",\"name\":\"ReactComponent1\",\"properties\":[{\"name\":\"esm_constants\",\"kind\":\"Any\",\"default\":{\"type\":\"map\"}}]},{\"type\":\"model\",\"name\":\"AnyWidgetComponent1\",\"properties\":[{\"name\":\"esm_constants\",\"kind\":\"Any\",\"default\":{\"type\":\"map\"}}]},{\"type\":\"model\",\"name\":\"request_value1\",\"properties\":[{\"name\":\"fill\",\"kind\":\"Any\",\"default\":\"none\"},{\"name\":\"_synced\",\"kind\":\"Any\",\"default\":null},{\"name\":\"_request_sync\",\"kind\":\"Any\",\"default\":0}]}]}};\n",
       "  var render_items = [{\"docid\":\"408acedd-b65e-4166-874b-ea778427eb49\",\"roots\":{\"db10aa77-d1b5-4f81-a46a-1c7f986af642\":\"bf03c6d9-2dac-47ff-9cd7-85ec5fd853cb\"},\"root_ids\":[\"db10aa77-d1b5-4f81-a46a-1c7f986af642\"]}];\n",
       "  var docs = Object.values(docs_json)\n",
       "  if (!docs) {\n",
       "    return\n",
       "  }\n",
       "  const py_version = docs[0].version.replace('rc', '-rc.').replace('.dev', '-dev.')\n",
       "  async function embed_document(root) {\n",
       "    var Bokeh = get_bokeh(root)\n",
       "    await Bokeh.embed.embed_items_notebook(docs_json, render_items);\n",
       "    for (const render_item of render_items) {\n",
       "      for (const root_id of render_item.root_ids) {\n",
       "\tconst id_el = document.getElementById(root_id)\n",
       "\tif (id_el.children.length && id_el.children[0].hasAttribute('data-root-id')) {\n",
       "\t  const root_el = id_el.children[0]\n",
       "\t  root_el.id = root_el.id + '-rendered'\n",
       "\t  for (const child of root_el.children) {\n",
       "            // Ensure JupyterLab does not capture keyboard shortcuts\n",
       "            // see: https://jupyterlab.readthedocs.io/en/4.1.x/extension/notebook.html#keyboard-interaction-model\n",
       "\t    child.setAttribute('data-lm-suppress-shortcuts', 'true')\n",
       "\t  }\n",
       "\t}\n",
       "      }\n",
       "    }\n",
       "  }\n",
       "  function get_bokeh(root) {\n",
       "    if (root.Bokeh === undefined) {\n",
       "      return null\n",
       "    } else if (root.Bokeh.version !== py_version) {\n",
       "      if (root.Bokeh.versions === undefined || !root.Bokeh.versions.has(py_version)) {\n",
       "\treturn null\n",
       "      }\n",
       "      return root.Bokeh.versions.get(py_version);\n",
       "    } else if (root.Bokeh.version === py_version) {\n",
       "      return root.Bokeh\n",
       "    }\n",
       "    return null\n",
       "  }\n",
       "  function is_loaded(root) {\n",
       "    var Bokeh = get_bokeh(root)\n",
       "    return (Bokeh != null && Bokeh.Panel !== undefined)\n",
       "  }\n",
       "  if (is_loaded(root)) {\n",
       "    embed_document(root);\n",
       "  } else {\n",
       "    var attempts = 0;\n",
       "    var timer = setInterval(function(root) {\n",
       "      if (is_loaded(root)) {\n",
       "        clearInterval(timer);\n",
       "        embed_document(root);\n",
       "      } else if (document.readyState == \"complete\") {\n",
       "        attempts++;\n",
       "        if (attempts > 200) {\n",
       "          clearInterval(timer);\n",
       "\t  var Bokeh = get_bokeh(root)\n",
       "\t  if (Bokeh == null || Bokeh.Panel == null) {\n",
       "            console.warn(\"Panel: ERROR: Unable to run Panel code because Bokeh or Panel library is missing\");\n",
       "\t  } else {\n",
       "\t    console.warn(\"Panel: WARNING: Attempting to render but not all required libraries could be resolved.\")\n",
       "\t    embed_document(root)\n",
       "\t  }\n",
       "        }\n",
       "      }\n",
       "    }, 25, root)\n",
       "  }\n",
       "})(window);</script>"
      ]
     },
     "metadata": {
      "application/vnd.holoviews_exec.v0+json": {
       "id": "db10aa77-d1b5-4f81-a46a-1c7f986af642"
      }
     },
     "output_type": "display_data"
    }
   ],
   "source": [
    "from bs4 import BeautifulSoup\n",
    "# import pandas as pd\n",
    "from datetime import datetime, timedelta\n",
    "from itertools import combinations\n",
    "import json\n",
    "import requests\n",
    "import math\n",
    "from typing import Optional, List, Dict\n",
    "import os\n",
    "\n",
    "from pydantic import BaseModel\n",
    "from typing import Mapping\n",
    "import numpy as np\n",
    "import polars as pl\n",
    "import hvplot.polars\n",
    "import pandas as pd\n",
    "import altair as alt\n",
    "import math\n",
    "\n",
    "from shared.utils import formalize_data_with_str\n",
    "from shared.random_rules import RandomRules"
   ]
  },
  {
   "cell_type": "code",
   "execution_count": 3,
   "metadata": {},
   "outputs": [],
   "source": [
    "rr = RandomRules(\n",
    "  TOTAL_NUMBERS = 35,\n",
    "  CHOOSE = 5,\n",
    "  MAX_PRIMES = 3,\n",
    "  N_VALUES=[\"1\", \"2\", \"3\"],\n",
    "  # Rangos de valores de las bolillas\n",
    "  MIN_B_VALUES = [1, 2, 3, 4, 5],\n",
    "  MAX_B_VALUES = [31, 32, 33, 34, 35]\n",
    ")"
   ]
  },
  {
   "cell_type": "code",
   "execution_count": 4,
   "metadata": {},
   "outputs": [],
   "source": [
    "url = 'https://resultados.latinka.com.pe/i.do?m=historico&t=0&s=164'\n",
    "response = requests.get(url)\n",
    "soup = BeautifulSoup(response.text, 'html.parser')\n",
    "\n",
    "tables = soup.select('table')\n",
    "rows = tables[1].find_all('tr')"
   ]
  },
  {
   "cell_type": "code",
   "execution_count": 5,
   "metadata": {},
   "outputs": [
    {
     "name": "stdout",
     "output_type": "stream",
     "text": [
      "TOTAL_LINES=7735\n"
     ]
    },
    {
     "data": {
      "text/html": [
       "<div><style>\n",
       ".dataframe > thead > tr,\n",
       ".dataframe > tbody > tr {\n",
       "  text-align: right;\n",
       "  white-space: pre-wrap;\n",
       "}\n",
       "</style>\n",
       "<small>shape: (10, 24)</small><table border=\"1\" class=\"dataframe\"><thead><tr><th>fecha</th><th>sorteo</th><th>bolillas</th><th>id</th><th>combo</th><th>b1</th><th>b2</th><th>b3</th><th>b4</th><th>b5</th><th>str_b1</th><th>str_b2</th><th>str_b3</th><th>str_b4</th><th>str_b5</th><th>post_str_b1</th><th>post_str_b2</th><th>post_str_b3</th><th>post_str_b4</th><th>post_str_blast</th><th>is_rare_combination</th><th>reason</th><th>jumps_map</th><th>unijump</th></tr><tr><td>str</td><td>str</td><td>str</td><td>str</td><td>array[u8, 5]</td><td>u8</td><td>u8</td><td>u8</td><td>u8</td><td>u8</td><td>str</td><td>str</td><td>str</td><td>str</td><td>str</td><td>str</td><td>str</td><td>str</td><td>str</td><td>str</td><td>bool</td><td>u8</td><td>str</td><td>i64</td></tr></thead><tbody><tr><td>&quot;19/04/2025&quot;</td><td>&quot;4191&quot;</td><td>&quot;10 06 15 20 21&quot;</td><td>&quot;0610152021&quot;</td><td>[6, 10, … 21]</td><td>6</td><td>10</td><td>15</td><td>20</td><td>21</td><td>&quot;06&quot;</td><td>&quot;10&quot;</td><td>&quot;15&quot;</td><td>&quot;20&quot;</td><td>&quot;21&quot;</td><td>null</td><td>null</td><td>null</td><td>null</td><td>null</td><td>true</td><td>24</td><td>&quot;04_05_05_01&quot;</td><td>-3</td></tr><tr><td>&quot;18/04/2025&quot;</td><td>&quot;4190&quot;</td><td>&quot;21 23 31 05 25&quot;</td><td>&quot;0521232531&quot;</td><td>[5, 21, … 31]</td><td>5</td><td>21</td><td>23</td><td>25</td><td>31</td><td>&quot;05&quot;</td><td>&quot;21&quot;</td><td>&quot;23&quot;</td><td>&quot;25&quot;</td><td>&quot;31&quot;</td><td>&quot;06&quot;</td><td>&quot;10&quot;</td><td>&quot;15&quot;</td><td>&quot;20&quot;</td><td>&quot;21&quot;</td><td>true</td><td>10</td><td>&quot;16_02_02_06&quot;</td><td>-10</td></tr><tr><td>&quot;17/04/2025&quot;</td><td>&quot;4189&quot;</td><td>&quot;33 30 16 19 14&quot;</td><td>&quot;1416193033&quot;</td><td>[14, 16, … 33]</td><td>14</td><td>16</td><td>19</td><td>30</td><td>33</td><td>&quot;14&quot;</td><td>&quot;16&quot;</td><td>&quot;19&quot;</td><td>&quot;30&quot;</td><td>&quot;33&quot;</td><td>&quot;05&quot;</td><td>&quot;21&quot;</td><td>&quot;23&quot;</td><td>&quot;25&quot;</td><td>&quot;31&quot;</td><td>true</td><td>16</td><td>&quot;02_03_11_03&quot;</td><td>-23</td></tr><tr><td>&quot;16/04/2025&quot;</td><td>&quot;4188&quot;</td><td>&quot;21 13 28 29 34&quot;</td><td>&quot;1321282934&quot;</td><td>[13, 21, … 34]</td><td>13</td><td>21</td><td>28</td><td>29</td><td>34</td><td>&quot;13&quot;</td><td>&quot;21&quot;</td><td>&quot;28&quot;</td><td>&quot;29&quot;</td><td>&quot;34&quot;</td><td>&quot;14&quot;</td><td>&quot;16&quot;</td><td>&quot;19&quot;</td><td>&quot;30&quot;</td><td>&quot;33&quot;</td><td>false</td><td>0</td><td>&quot;08_07_01_05&quot;</td><td>15</td></tr><tr><td>&quot;15/04/2025&quot;</td><td>&quot;4187&quot;</td><td>&quot;29 15 23 33 10&quot;</td><td>&quot;1015232933&quot;</td><td>[10, 15, … 33]</td><td>10</td><td>15</td><td>23</td><td>29</td><td>33</td><td>&quot;10&quot;</td><td>&quot;15&quot;</td><td>&quot;23&quot;</td><td>&quot;29&quot;</td><td>&quot;33&quot;</td><td>&quot;13&quot;</td><td>&quot;21&quot;</td><td>&quot;28&quot;</td><td>&quot;29&quot;</td><td>&quot;34&quot;</td><td>false</td><td>0</td><td>&quot;05_08_06_04&quot;</td><td>5</td></tr><tr><td>&quot;14/04/2025&quot;</td><td>&quot;4186&quot;</td><td>&quot;09 27 16 14 04&quot;</td><td>&quot;0409141627&quot;</td><td>[4, 9, … 27]</td><td>4</td><td>9</td><td>14</td><td>16</td><td>27</td><td>&quot;04&quot;</td><td>&quot;09&quot;</td><td>&quot;14&quot;</td><td>&quot;16&quot;</td><td>&quot;27&quot;</td><td>&quot;10&quot;</td><td>&quot;15&quot;</td><td>&quot;23&quot;</td><td>&quot;29&quot;</td><td>&quot;33&quot;</td><td>true</td><td>24</td><td>&quot;05_05_02_11&quot;</td><td>15</td></tr><tr><td>&quot;13/04/2025&quot;</td><td>&quot;4185&quot;</td><td>&quot;26 06 13 09 27&quot;</td><td>&quot;0609132627&quot;</td><td>[6, 9, … 27]</td><td>6</td><td>9</td><td>13</td><td>26</td><td>27</td><td>&quot;06&quot;</td><td>&quot;09&quot;</td><td>&quot;13&quot;</td><td>&quot;26&quot;</td><td>&quot;27&quot;</td><td>&quot;04&quot;</td><td>&quot;09&quot;</td><td>&quot;14&quot;</td><td>&quot;16&quot;</td><td>&quot;27&quot;</td><td>false</td><td>0</td><td>&quot;03_04_13_01&quot;</td><td>-29</td></tr><tr><td>&quot;12/04/2025&quot;</td><td>&quot;4184&quot;</td><td>&quot;23 12 10 16 03&quot;</td><td>&quot;0310121623&quot;</td><td>[3, 10, … 23]</td><td>3</td><td>10</td><td>12</td><td>16</td><td>23</td><td>&quot;03&quot;</td><td>&quot;10&quot;</td><td>&quot;12&quot;</td><td>&quot;16&quot;</td><td>&quot;23&quot;</td><td>&quot;06&quot;</td><td>&quot;09&quot;</td><td>&quot;13&quot;</td><td>&quot;26&quot;</td><td>&quot;27&quot;</td><td>false</td><td>0</td><td>&quot;07_02_04_07&quot;</td><td>-6</td></tr><tr><td>&quot;11/04/2025&quot;</td><td>&quot;4183&quot;</td><td>&quot;09 10 08 01 12&quot;</td><td>&quot;0108091012&quot;</td><td>[1, 8, … 12]</td><td>1</td><td>8</td><td>9</td><td>10</td><td>12</td><td>&quot;01&quot;</td><td>&quot;08&quot;</td><td>&quot;09&quot;</td><td>&quot;10&quot;</td><td>&quot;12&quot;</td><td>&quot;03&quot;</td><td>&quot;10&quot;</td><td>&quot;12&quot;</td><td>&quot;16&quot;</td><td>&quot;23&quot;</td><td>true</td><td>24</td><td>&quot;07_01_01_02&quot;</td><td>-5</td></tr><tr><td>&quot;10/04/2025&quot;</td><td>&quot;4182&quot;</td><td>&quot;30 33 34 10 21&quot;</td><td>&quot;1021303334&quot;</td><td>[10, 21, … 34]</td><td>10</td><td>21</td><td>30</td><td>33</td><td>34</td><td>&quot;10&quot;</td><td>&quot;21&quot;</td><td>&quot;30&quot;</td><td>&quot;33&quot;</td><td>&quot;34&quot;</td><td>&quot;01&quot;</td><td>&quot;08&quot;</td><td>&quot;09&quot;</td><td>&quot;10&quot;</td><td>&quot;12&quot;</td><td>false</td><td>0</td><td>&quot;11_09_03_01&quot;</td><td>8</td></tr></tbody></table></div>"
      ],
      "text/plain": [
       "shape: (10, 24)\n",
       "┌────────────┬────────┬─────────────┬────────────┬───┬─────────────┬────────┬────────────┬─────────┐\n",
       "│ fecha      ┆ sorteo ┆ bolillas    ┆ id         ┆ … ┆ is_rare_com ┆ reason ┆ jumps_map  ┆ unijump │\n",
       "│ ---        ┆ ---    ┆ ---         ┆ ---        ┆   ┆ bination    ┆ ---    ┆ ---        ┆ ---     │\n",
       "│ str        ┆ str    ┆ str         ┆ str        ┆   ┆ ---         ┆ u8     ┆ str        ┆ i64     │\n",
       "│            ┆        ┆             ┆            ┆   ┆ bool        ┆        ┆            ┆         │\n",
       "╞════════════╪════════╪═════════════╪════════════╪═══╪═════════════╪════════╪════════════╪═════════╡\n",
       "│ 19/04/2025 ┆ 4191   ┆ 10 06 15 20 ┆ 0610152021 ┆ … ┆ true        ┆ 24     ┆ 04_05_05_0 ┆ -3      │\n",
       "│            ┆        ┆ 21          ┆            ┆   ┆             ┆        ┆ 1          ┆         │\n",
       "│ 18/04/2025 ┆ 4190   ┆ 21 23 31 05 ┆ 0521232531 ┆ … ┆ true        ┆ 10     ┆ 16_02_02_0 ┆ -10     │\n",
       "│            ┆        ┆ 25          ┆            ┆   ┆             ┆        ┆ 6          ┆         │\n",
       "│ 17/04/2025 ┆ 4189   ┆ 33 30 16 19 ┆ 1416193033 ┆ … ┆ true        ┆ 16     ┆ 02_03_11_0 ┆ -23     │\n",
       "│            ┆        ┆ 14          ┆            ┆   ┆             ┆        ┆ 3          ┆         │\n",
       "│ 16/04/2025 ┆ 4188   ┆ 21 13 28 29 ┆ 1321282934 ┆ … ┆ false       ┆ 0      ┆ 08_07_01_0 ┆ 15      │\n",
       "│            ┆        ┆ 34          ┆            ┆   ┆             ┆        ┆ 5          ┆         │\n",
       "│ 15/04/2025 ┆ 4187   ┆ 29 15 23 33 ┆ 1015232933 ┆ … ┆ false       ┆ 0      ┆ 05_08_06_0 ┆ 5       │\n",
       "│            ┆        ┆ 10          ┆            ┆   ┆             ┆        ┆ 4          ┆         │\n",
       "│ 14/04/2025 ┆ 4186   ┆ 09 27 16 14 ┆ 0409141627 ┆ … ┆ true        ┆ 24     ┆ 05_05_02_1 ┆ 15      │\n",
       "│            ┆        ┆ 04          ┆            ┆   ┆             ┆        ┆ 1          ┆         │\n",
       "│ 13/04/2025 ┆ 4185   ┆ 26 06 13 09 ┆ 0609132627 ┆ … ┆ false       ┆ 0      ┆ 03_04_13_0 ┆ -29     │\n",
       "│            ┆        ┆ 27          ┆            ┆   ┆             ┆        ┆ 1          ┆         │\n",
       "│ 12/04/2025 ┆ 4184   ┆ 23 12 10 16 ┆ 0310121623 ┆ … ┆ false       ┆ 0      ┆ 07_02_04_0 ┆ -6      │\n",
       "│            ┆        ┆ 03          ┆            ┆   ┆             ┆        ┆ 7          ┆         │\n",
       "│ 11/04/2025 ┆ 4183   ┆ 09 10 08 01 ┆ 0108091012 ┆ … ┆ true        ┆ 24     ┆ 07_01_01_0 ┆ -5      │\n",
       "│            ┆        ┆ 12          ┆            ┆   ┆             ┆        ┆ 2          ┆         │\n",
       "│ 10/04/2025 ┆ 4182   ┆ 30 33 34 10 ┆ 1021303334 ┆ … ┆ false       ┆ 0      ┆ 11_09_03_0 ┆ 8       │\n",
       "│            ┆        ┆ 21          ┆            ┆   ┆             ┆        ┆ 1          ┆         │\n",
       "└────────────┴────────┴─────────────┴────────────┴───┴─────────────┴────────┴────────────┴─────────┘"
      ]
     },
     "metadata": {},
     "output_type": "display_data"
    }
   ],
   "source": [
    "lst = []\n",
    "post_str_b1 = None\n",
    "post_str_b2 = None\n",
    "post_str_b3 = None\n",
    "post_str_b4 = None\n",
    "post_str_blast = None\n",
    "for row in rows:\n",
    "  cols = [data.text.strip() for data in row.find_all('td')]\n",
    "  \n",
    "  id, bolillas_int, str_combo = formalize_data_with_str(bolillas_str=cols[2])\n",
    "  cols.append(id)\n",
    "  cols.append(bolillas_int)\n",
    "  cols.extend([b for b in bolillas_int])\n",
    "  cols.extend(str_combo)\n",
    "  cols.append(post_str_b1)\n",
    "  cols.append(post_str_b2)\n",
    "  cols.append(post_str_b3)\n",
    "  cols.append(post_str_b4)\n",
    "  cols.append(post_str_blast)\n",
    "\n",
    "  is_rare, reason = rr.is_rare_combination(bolillas_int, id)\n",
    "  cols.append(is_rare)\n",
    "  cols.append(reason)\n",
    "\n",
    "  cols.append(rr.jumps_map(bolillas_int))\n",
    "  cols.append(rr.unijump(bolillas_int))\n",
    "  \n",
    "  lst.append(cols)\n",
    "\n",
    "  post_str_b1 = str_combo[0]\n",
    "  post_str_b2 = str_combo[1]\n",
    "  post_str_b3 = str_combo[2]\n",
    "  post_str_b4 = str_combo[3]\n",
    "  post_str_blast = str_combo[-1]\n",
    "\n",
    "with open('./gn_cahe_v3.json', 'w') as file: \n",
    "  json.dump(lst, file)\n",
    "\n",
    "dfRows = pl.DataFrame(\n",
    "  lst,\n",
    "  schema=[\n",
    "    'fecha', 'sorteo', 'bolillas',\n",
    "    'id', 'combo', 'b1', 'b2', 'b3', 'b4', 'b5',\n",
    "    'str_b1', 'str_b2', 'str_b3', 'str_b4', 'str_b5',\n",
    "    'post_str_b1', 'post_str_b2', 'post_str_b3', 'post_str_b4', 'post_str_blast',\n",
    "    'is_rare_combination', 'reason',\n",
    "    \"jumps_map\", \"unijump\"\n",
    "  ],\n",
    "  schema_overrides={\n",
    "    'combo': pl.Array(pl.UInt8, 5),\n",
    "    'b1': pl.UInt8,\n",
    "    'b2': pl.UInt8,\n",
    "    'b3': pl.UInt8,\n",
    "    'b4': pl.UInt8,\n",
    "    'b5': pl.UInt8,\n",
    "    'b6': pl.UInt8,\n",
    "    'reason': pl.UInt8\n",
    "  },\n",
    "  orient='row'\n",
    ")\n",
    "\n",
    "TOTAL_LINES = len(dfRows)\n",
    "print(f'{TOTAL_LINES=}')\n",
    "display(dfRows.head(10))"
   ]
  },
  {
   "cell_type": "code",
   "execution_count": 6,
   "metadata": {},
   "outputs": [
    {
     "data": {
      "text/plain": [
       "10"
      ]
     },
     "execution_count": 6,
     "metadata": {},
     "output_type": "execute_result"
    }
   ],
   "source": [
    "dfRows.item(0, 'b2')"
   ]
  },
  {
   "cell_type": "code",
   "execution_count": 7,
   "metadata": {},
   "outputs": [],
   "source": [
    "import holoviews as hv\n",
    "def plot_post_col (col: str, post_col: str, test_value: str | None = None):\n",
    "  if test_value == None:\n",
    "    test_value = dfRows.item(0, col)\n",
    "    print(f'Setting {test_value=}')\n",
    "\n",
    "  df_viz = dfRows \\\n",
    "    .filter(\n",
    "      pl.col(col) == test_value,\n",
    "      pl.col(post_col).is_not_null()\n",
    "    ) \\\n",
    "    .group_by(\n",
    "      post_col\n",
    "    ).agg(pl.count(post_col).alias('count')) \\\n",
    "    .sort(\"count\", descending=True)\n",
    "  \n",
    "  \n",
    "  df_10_last = dfRows \\\n",
    "    .filter(\n",
    "      pl.col(col) == test_value,\n",
    "      pl.col(post_col).is_not_null()\n",
    "    ) \\\n",
    "    .head(10)\n",
    "  \n",
    "  # Agrega una columna que sea el porcentaje de la frecuencia relativa\n",
    "  total = df_viz['count'].sum()\n",
    "  df_viz = df_viz.with_columns(\n",
    "    ( (pl.col('count') / total) * 100 ).alias('percent')\n",
    "  )\n",
    "  mean_percent = df_viz['percent'].mean()\n",
    "  mean_percent_75 = mean_percent * 75 / 50\n",
    "  mean_percent_25 = mean_percent * 25 / 50\n",
    "\n",
    "  chart = df_viz.hvplot.bar(\n",
    "    x=post_col,\n",
    "    y='percent'\n",
    "  )\n",
    "\n",
    "  chart = chart * hv.HLine(mean_percent).opts(color='red')\n",
    "  chart = chart * hv.HLine(mean_percent_75).opts(color='blue')\n",
    "  chart = chart * hv.HLine(mean_percent_25).opts(color='blue')\n",
    "  \n",
    "  chart.opts(default_tools=[\"pan\"])\n",
    "\n",
    "  df_jumps_map = dfRows \\\n",
    "    .filter(\n",
    "      pl.col(col) == test_value,\n",
    "      pl.col(post_col).is_not_null()\n",
    "    ) \\\n",
    "    .group_by(\n",
    "      'jumps_map'\n",
    "    ).agg(pl.count('jumps_map').alias('count')) \\\n",
    "    .sort(\"count\", descending=True)\n",
    "  \n",
    "  df_unijump = dfRows \\\n",
    "    .filter(\n",
    "      pl.col(col) == test_value,\n",
    "      pl.col(post_col).is_not_null()\n",
    "    ) \\\n",
    "    .group_by(\n",
    "      'unijump'\n",
    "    ).agg(pl.count('unijump').alias('count')) \\\n",
    "    .sort(\"count\", descending=True)\n",
    "\n",
    "\n",
    "  print(f'df_viz FOR {col} = {test_value}')\n",
    "  display(df_viz)\n",
    "\n",
    "  display(chart)\n",
    "  \n",
    "\n",
    "  print(f'df_10_last FOR {col} = {test_value}')\n",
    "  last_results = list(set(df_10_last[post_col][0:3]))\n",
    "  print(f'Last 3 results {last_results=}')\n",
    "  display(df_10_last)\n",
    "  \n",
    "  print(f'df_jumps_map FOR {col} = {test_value}')\n",
    "  display(df_jumps_map)\n",
    "  # display(df_unijump)\n",
    "\n",
    "  print(f'df_unijump FOR {col} = {test_value}')\n",
    "  display(df_unijump)\n",
    "\n",
    "  lst_post_str_b = df_viz.filter(pl.col('percent') >= mean_percent)[post_col].to_list()\n",
    "  lst_jumps_map = df_jumps_map['jumps_map'].to_list() # Used to discard\n",
    "  \n",
    "  return lst_post_str_b, lst_jumps_map, last_results"
   ]
  },
  {
   "cell_type": "code",
   "execution_count": 8,
   "metadata": {},
   "outputs": [
    {
     "name": "stdout",
     "output_type": "stream",
     "text": [
      "Setting test_value='06'\n",
      "df_viz FOR str_b1 = 06\n"
     ]
    },
    {
     "data": {
      "text/html": [
       "<div><style>\n",
       ".dataframe > thead > tr,\n",
       ".dataframe > tbody > tr {\n",
       "  text-align: right;\n",
       "  white-space: pre-wrap;\n",
       "}\n",
       "</style>\n",
       "<small>shape: (25, 3)</small><table border=\"1\" class=\"dataframe\"><thead><tr><th>post_str_b1</th><th>count</th><th>percent</th></tr><tr><td>str</td><td>u32</td><td>f64</td></tr></thead><tbody><tr><td>&quot;01&quot;</td><td>81</td><td>14.111498</td></tr><tr><td>&quot;02&quot;</td><td>67</td><td>11.672474</td></tr><tr><td>&quot;04&quot;</td><td>62</td><td>10.801394</td></tr><tr><td>&quot;05&quot;</td><td>49</td><td>8.536585</td></tr><tr><td>&quot;06&quot;</td><td>49</td><td>8.536585</td></tr><tr><td>&hellip;</td><td>&hellip;</td><td>&hellip;</td></tr><tr><td>&quot;18&quot;</td><td>3</td><td>0.522648</td></tr><tr><td>&quot;21&quot;</td><td>2</td><td>0.348432</td></tr><tr><td>&quot;24&quot;</td><td>1</td><td>0.174216</td></tr><tr><td>&quot;23&quot;</td><td>1</td><td>0.174216</td></tr><tr><td>&quot;26&quot;</td><td>1</td><td>0.174216</td></tr></tbody></table></div>"
      ],
      "text/plain": [
       "shape: (25, 3)\n",
       "┌─────────────┬───────┬───────────┐\n",
       "│ post_str_b1 ┆ count ┆ percent   │\n",
       "│ ---         ┆ ---   ┆ ---       │\n",
       "│ str         ┆ u32   ┆ f64       │\n",
       "╞═════════════╪═══════╪═══════════╡\n",
       "│ 01          ┆ 81    ┆ 14.111498 │\n",
       "│ 02          ┆ 67    ┆ 11.672474 │\n",
       "│ 04          ┆ 62    ┆ 10.801394 │\n",
       "│ 05          ┆ 49    ┆ 8.536585  │\n",
       "│ 06          ┆ 49    ┆ 8.536585  │\n",
       "│ …           ┆ …     ┆ …         │\n",
       "│ 18          ┆ 3     ┆ 0.522648  │\n",
       "│ 21          ┆ 2     ┆ 0.348432  │\n",
       "│ 24          ┆ 1     ┆ 0.174216  │\n",
       "│ 23          ┆ 1     ┆ 0.174216  │\n",
       "│ 26          ┆ 1     ┆ 0.174216  │\n",
       "└─────────────┴───────┴───────────┘"
      ]
     },
     "metadata": {},
     "output_type": "display_data"
    },
    {
     "data": {},
     "metadata": {},
     "output_type": "display_data"
    },
    {
     "data": {
      "application/vnd.holoviews_exec.v0+json": "",
      "text/html": [
       "<div id='9fb3c285-bd5c-4c9f-b8a9-1d7f6e1b9038'>\n",
       "  <div id=\"b986961b-40d4-4eb3-a776-c7bd84020bd4\" data-root-id=\"9fb3c285-bd5c-4c9f-b8a9-1d7f6e1b9038\" style=\"display: contents;\"></div>\n",
       "</div>\n",
       "<script type=\"application/javascript\">(function(root) {\n",
       "  var docs_json = {\"84c5914c-1fb5-45c8-962c-70676d6b804a\":{\"version\":\"3.7.2\",\"title\":\"Bokeh Application\",\"roots\":[{\"type\":\"object\",\"name\":\"Row\",\"id\":\"9fb3c285-bd5c-4c9f-b8a9-1d7f6e1b9038\",\"attributes\":{\"name\":\"Row00289\",\"tags\":[\"embedded\"],\"stylesheets\":[\"\\n:host(.pn-loading):before, .pn-loading:before {\\n  background-color: #c3c3c3;\\n  mask-size: auto calc(min(50%, 400px));\\n  -webkit-mask-size: auto calc(min(50%, 400px));\\n}\",{\"type\":\"object\",\"name\":\"ImportedStyleSheet\",\"id\":\"a3aa341a-56fe-42fa-a871-01499dd2113f\",\"attributes\":{\"url\":\"https://cdn.holoviz.org/panel/1.6.2/dist/css/loading.css\"}},{\"type\":\"object\",\"name\":\"ImportedStyleSheet\",\"id\":\"4760d0d3-c07d-4c7d-bec5-f4f752abfb87\",\"attributes\":{\"url\":\"https://cdn.holoviz.org/panel/1.6.2/dist/css/listpanel.css\"}},{\"type\":\"object\",\"name\":\"ImportedStyleSheet\",\"id\":\"d6f13615-0c27-4492-a537-1c0d12f0bd30\",\"attributes\":{\"url\":\"https://cdn.holoviz.org/panel/1.6.2/dist/bundled/theme/default.css\"}},{\"type\":\"object\",\"name\":\"ImportedStyleSheet\",\"id\":\"4b260bd4-f5c7-4fa3-9c82-4dc6aa2c062f\",\"attributes\":{\"url\":\"https://cdn.holoviz.org/panel/1.6.2/dist/bundled/theme/native.css\"}}],\"min_width\":700,\"margin\":0,\"sizing_mode\":\"stretch_width\",\"align\":\"start\",\"children\":[{\"type\":\"object\",\"name\":\"Spacer\",\"id\":\"5c10ea94-e8af-4986-8058-83d62ed3fe4a\",\"attributes\":{\"name\":\"HSpacer00293\",\"stylesheets\":[\"\\n:host(.pn-loading):before, .pn-loading:before {\\n  background-color: #c3c3c3;\\n  mask-size: auto calc(min(50%, 400px));\\n  -webkit-mask-size: auto calc(min(50%, 400px));\\n}\",{\"id\":\"a3aa341a-56fe-42fa-a871-01499dd2113f\"},{\"id\":\"d6f13615-0c27-4492-a537-1c0d12f0bd30\"},{\"id\":\"4b260bd4-f5c7-4fa3-9c82-4dc6aa2c062f\"}],\"margin\":0,\"sizing_mode\":\"stretch_width\",\"align\":\"start\"}},{\"type\":\"object\",\"name\":\"Figure\",\"id\":\"2d5d91cb-05ff-4f96-8ba5-a1315ba7062c\",\"attributes\":{\"width\":700,\"height\":300,\"margin\":[5,10],\"sizing_mode\":\"fixed\",\"align\":\"start\",\"x_range\":{\"type\":\"object\",\"name\":\"FactorRange\",\"id\":\"16af234f-6f31-4edc-9aee-2bc95e92a45c\",\"attributes\":{\"name\":\"post_str_b1\",\"tags\":[[[\"post_str_b1\",null]],[]],\"factors\":[\"01\",\"02\",\"04\",\"05\",\"06\",\"03\",\"07\",\"08\",\"11\",\"10\",\"09\",\"13\",\"12\",\"14\",\"15\",\"17\",\"16\",\"20\",\"22\",\"19\",\"18\",\"21\",\"24\",\"23\",\"26\"]}},\"y_range\":{\"type\":\"object\",\"name\":\"Range1d\",\"id\":\"dc6ac3ea-664e-40b9-86ac-ef9beb704b07\",\"attributes\":{\"name\":\"percent\",\"tags\":[[[\"percent\",null]],{\"type\":\"map\",\"entries\":[[\"invert_yaxis\",false],[\"autorange\",false]]}],\"end\":15.505226480836239,\"reset_start\":0.0,\"reset_end\":15.505226480836239}},\"x_scale\":{\"type\":\"object\",\"name\":\"CategoricalScale\",\"id\":\"3a8fe252-71f8-4308-adb1-60fe1031ccb4\"},\"y_scale\":{\"type\":\"object\",\"name\":\"LinearScale\",\"id\":\"b7a1a902-d0da-4279-a1a3-8109fc08cb96\"},\"title\":{\"type\":\"object\",\"name\":\"Title\",\"id\":\"ef069f63-5f8b-4d1b-818c-a601caf8933b\",\"attributes\":{\"text_color\":\"black\",\"text_font_size\":\"12pt\"}},\"renderers\":[{\"type\":\"object\",\"name\":\"GlyphRenderer\",\"id\":\"390a4522-5e82-47ce-a861-d6ab44995960\",\"attributes\":{\"data_source\":{\"type\":\"object\",\"name\":\"ColumnDataSource\",\"id\":\"cbd2d3e5-7126-48a7-a9b3-689c1b64ee88\",\"attributes\":{\"selected\":{\"type\":\"object\",\"name\":\"Selection\",\"id\":\"ad14e178-6252-40a8-b117-66a8dcad0f6a\",\"attributes\":{\"indices\":[],\"line_indices\":[]}},\"selection_policy\":{\"type\":\"object\",\"name\":\"UnionRenderers\",\"id\":\"5b47e785-a8e7-4515-b996-f2ce7aa1b62c\"},\"data\":{\"type\":\"map\",\"entries\":[[\"post_str_b1\",[\"01\",\"02\",\"04\",\"05\",\"06\",\"03\",\"07\",\"08\",\"11\",\"10\",\"09\",\"13\",\"12\",\"14\",\"15\",\"17\",\"16\",\"20\",\"22\",\"19\",\"18\",\"21\",\"24\",\"23\",\"26\"]],[\"percent\",{\"type\":\"ndarray\",\"array\":{\"type\":\"bytes\",\"data\":\"Ffe1TBY5LEA0eql+TlgnQOTfW0dQmiVAE7UrUbsSIUATtStRuxIhQBO1K1G7EiFApLivZbLIGUCD8zE4H4MTQOK+lskiBxBARO1K1K5EDUCEFPe1TBYJQASEFPe1TAZAwzujl+rnBECD8zE4H4MDQASl2XTj3/s/hBT3tUwW+T8EhBT3tUz2PwSEFPe1TOY/A2NPeYi54D8DY095iLngPwNjT3mIueA/BIQU97VM1j8EhBT3tUzGPwSEFPe1TMY/BIQU97VMxj8=\"},\"shape\":[25],\"dtype\":\"float64\",\"order\":\"little\"}]]}}},\"view\":{\"type\":\"object\",\"name\":\"CDSView\",\"id\":\"04e15d71-fa63-4976-90ac-66ca8cc9770c\",\"attributes\":{\"filter\":{\"type\":\"object\",\"name\":\"AllIndices\",\"id\":\"1a7cc34f-b356-44a8-9062-bbf8b943d3ca\"}}},\"glyph\":{\"type\":\"object\",\"name\":\"VBar\",\"id\":\"0de090a0-017c-48a9-b666-a5f528c7fe24\",\"attributes\":{\"tags\":[\"apply_ranges\"],\"x\":{\"type\":\"field\",\"field\":\"post_str_b1\"},\"width\":{\"type\":\"value\",\"value\":0.8},\"top\":{\"type\":\"field\",\"field\":\"percent\"},\"fill_color\":{\"type\":\"value\",\"value\":\"#30a2da\"},\"hatch_color\":{\"type\":\"value\",\"value\":\"#30a2da\"}}},\"selection_glyph\":{\"type\":\"object\",\"name\":\"VBar\",\"id\":\"a7b6cf42-63e7-4f39-af6f-6e289b096e90\",\"attributes\":{\"tags\":[\"apply_ranges\"],\"x\":{\"type\":\"field\",\"field\":\"post_str_b1\"},\"width\":{\"type\":\"value\",\"value\":0.8},\"bottom\":{\"type\":\"value\",\"value\":0},\"top\":{\"type\":\"field\",\"field\":\"percent\"},\"line_color\":{\"type\":\"value\",\"value\":\"black\"},\"line_alpha\":{\"type\":\"value\",\"value\":1.0},\"line_width\":{\"type\":\"value\",\"value\":1},\"line_join\":{\"type\":\"value\",\"value\":\"bevel\"},\"line_cap\":{\"type\":\"value\",\"value\":\"butt\"},\"line_dash\":{\"type\":\"value\",\"value\":[]},\"line_dash_offset\":{\"type\":\"value\",\"value\":0},\"fill_color\":{\"type\":\"value\",\"value\":\"#30a2da\"},\"fill_alpha\":{\"type\":\"value\",\"value\":1.0},\"hatch_color\":{\"type\":\"value\",\"value\":\"#30a2da\"},\"hatch_alpha\":{\"type\":\"value\",\"value\":1.0},\"hatch_scale\":{\"type\":\"value\",\"value\":12.0},\"hatch_pattern\":{\"type\":\"value\",\"value\":null},\"hatch_weight\":{\"type\":\"value\",\"value\":1.0}}},\"nonselection_glyph\":{\"type\":\"object\",\"name\":\"VBar\",\"id\":\"0f0859ba-7938-4c2a-baec-0ca65ae21f2c\",\"attributes\":{\"tags\":[\"apply_ranges\"],\"x\":{\"type\":\"field\",\"field\":\"post_str_b1\"},\"width\":{\"type\":\"value\",\"value\":0.8},\"top\":{\"type\":\"field\",\"field\":\"percent\"},\"line_alpha\":{\"type\":\"value\",\"value\":0.1},\"fill_color\":{\"type\":\"value\",\"value\":\"#30a2da\"},\"fill_alpha\":{\"type\":\"value\",\"value\":0.1},\"hatch_color\":{\"type\":\"value\",\"value\":\"#30a2da\"},\"hatch_alpha\":{\"type\":\"value\",\"value\":0.1}}},\"muted_glyph\":{\"type\":\"object\",\"name\":\"VBar\",\"id\":\"05f308fc-e0e9-4062-aed8-0b081db563eb\",\"attributes\":{\"tags\":[\"apply_ranges\"],\"x\":{\"type\":\"field\",\"field\":\"post_str_b1\"},\"width\":{\"type\":\"value\",\"value\":0.8},\"top\":{\"type\":\"field\",\"field\":\"percent\"},\"line_alpha\":{\"type\":\"value\",\"value\":0.2},\"fill_color\":{\"type\":\"value\",\"value\":\"#30a2da\"},\"fill_alpha\":{\"type\":\"value\",\"value\":0.2},\"hatch_color\":{\"type\":\"value\",\"value\":\"#30a2da\"},\"hatch_alpha\":{\"type\":\"value\",\"value\":0.2}}}}},{\"type\":\"object\",\"name\":\"Span\",\"id\":\"10e52455-6b3f-4e63-aef1-8106247cfb71\",\"attributes\":{\"level\":\"glyph\",\"location\":3.9999999999999996,\"line_color\":\"red\",\"line_width\":3}},{\"type\":\"object\",\"name\":\"Span\",\"id\":\"72013ffc-249a-4783-a684-cee8c146ae8e\",\"attributes\":{\"level\":\"glyph\",\"location\":5.999999999999999,\"line_color\":\"blue\",\"line_width\":3}},{\"type\":\"object\",\"name\":\"Span\",\"id\":\"d93ef66b-9b26-4c2c-a864-a79704b42446\",\"attributes\":{\"level\":\"glyph\",\"location\":1.9999999999999998,\"line_color\":\"blue\",\"line_width\":3}}],\"toolbar\":{\"type\":\"object\",\"name\":\"Toolbar\",\"id\":\"c73a182c-bd1f-4d49-8e8a-87c757bacae0\",\"attributes\":{\"tools\":[{\"type\":\"object\",\"name\":\"WheelZoomTool\",\"id\":\"4d57c48c-2fdb-48fb-adc4-001b981ab657\",\"attributes\":{\"tags\":[\"hv_created\"],\"renderers\":\"auto\",\"zoom_together\":\"none\"}},{\"type\":\"object\",\"name\":\"HoverTool\",\"id\":\"e16401e3-a855-43a9-bf54-6ad5f956bba0\",\"attributes\":{\"tags\":[\"hv_created\"],\"renderers\":[{\"id\":\"390a4522-5e82-47ce-a861-d6ab44995960\"}],\"tooltips\":[[\"post_str_b1\",\"@{post_str_b1}\"],[\"percent\",\"@{percent}\"]]}},{\"type\":\"object\",\"name\":\"SaveTool\",\"id\":\"37431c48-1b11-4a22-8ff5-1543e07dc7ea\"},{\"type\":\"object\",\"name\":\"PanTool\",\"id\":\"5bd18fd3-4e2c-4b4f-b638-13f0a254aa27\"},{\"type\":\"object\",\"name\":\"BoxZoomTool\",\"id\":\"9e7ff0d4-2aec-4ec9-a979-3c07a31d6cdb\",\"attributes\":{\"dimensions\":\"both\",\"overlay\":{\"type\":\"object\",\"name\":\"BoxAnnotation\",\"id\":\"f4505788-338c-490c-9dc9-c5fd22b37a91\",\"attributes\":{\"syncable\":false,\"line_color\":\"black\",\"line_alpha\":1.0,\"line_width\":2,\"line_dash\":[4,4],\"fill_color\":\"lightgrey\",\"fill_alpha\":0.5,\"level\":\"overlay\",\"visible\":false,\"left\":{\"type\":\"number\",\"value\":\"nan\"},\"right\":{\"type\":\"number\",\"value\":\"nan\"},\"top\":{\"type\":\"number\",\"value\":\"nan\"},\"bottom\":{\"type\":\"number\",\"value\":\"nan\"},\"left_units\":\"canvas\",\"right_units\":\"canvas\",\"top_units\":\"canvas\",\"bottom_units\":\"canvas\",\"handles\":{\"type\":\"object\",\"name\":\"BoxInteractionHandles\",\"id\":\"1ad0897f-1d67-4488-b1ca-cd81259fa44b\",\"attributes\":{\"all\":{\"type\":\"object\",\"name\":\"AreaVisuals\",\"id\":\"1c44604c-eee1-4d5a-9313-95a51f7eee6c\",\"attributes\":{\"fill_color\":\"white\",\"hover_fill_color\":\"lightgray\"}}}}}}}},{\"type\":\"object\",\"name\":\"ResetTool\",\"id\":\"59a1e85e-4b8f-4c9a-8513-8f620e0b4a25\"}],\"active_drag\":{\"id\":\"5bd18fd3-4e2c-4b4f-b638-13f0a254aa27\"}}},\"left\":[{\"type\":\"object\",\"name\":\"LinearAxis\",\"id\":\"edef029c-1e47-417f-9d6b-33406b04f60a\",\"attributes\":{\"ticker\":{\"type\":\"object\",\"name\":\"BasicTicker\",\"id\":\"e60a884d-36ca-406d-ae6d-f212578be6e3\",\"attributes\":{\"mantissas\":[1,2,5]}},\"formatter\":{\"type\":\"object\",\"name\":\"BasicTickFormatter\",\"id\":\"84e24901-0a96-4ff0-bcdf-c4ad102be7ae\"},\"axis_label\":\"percent\",\"major_label_policy\":{\"type\":\"object\",\"name\":\"AllLabels\",\"id\":\"e21592c5-82a2-4788-ad36-0073a66727e9\"}}}],\"below\":[{\"type\":\"object\",\"name\":\"CategoricalAxis\",\"id\":\"29583057-c96b-49d0-b61a-ac4461713d2a\",\"attributes\":{\"ticker\":{\"type\":\"object\",\"name\":\"CategoricalTicker\",\"id\":\"e582234e-c43f-42a1-a7e1-860bdcbb773a\"},\"formatter\":{\"type\":\"object\",\"name\":\"CategoricalTickFormatter\",\"id\":\"f8bd94d3-3335-4bd3-b2f3-15bfa2fe94fc\"},\"axis_label\":\"post_str_b1\",\"major_label_policy\":{\"type\":\"object\",\"name\":\"AllLabels\",\"id\":\"f194fe61-2ba5-4b86-9d76-189c1ceb38c3\"}}}],\"center\":[{\"type\":\"object\",\"name\":\"Grid\",\"id\":\"70004959-e216-4cd5-81bf-43f90d142b4c\",\"attributes\":{\"axis\":{\"id\":\"29583057-c96b-49d0-b61a-ac4461713d2a\"},\"grid_line_color\":null}},{\"type\":\"object\",\"name\":\"Grid\",\"id\":\"86bd17b0-eff3-466f-acfc-a777d50a6798\",\"attributes\":{\"dimension\":1,\"axis\":{\"id\":\"edef029c-1e47-417f-9d6b-33406b04f60a\"},\"grid_line_color\":null}}],\"min_border_top\":10,\"min_border_bottom\":10,\"min_border_left\":10,\"min_border_right\":10,\"output_backend\":\"webgl\"}},{\"type\":\"object\",\"name\":\"Spacer\",\"id\":\"d385ee5f-0e2a-4d80-b28f-bff0d8d364a4\",\"attributes\":{\"name\":\"HSpacer00294\",\"stylesheets\":[\"\\n:host(.pn-loading):before, .pn-loading:before {\\n  background-color: #c3c3c3;\\n  mask-size: auto calc(min(50%, 400px));\\n  -webkit-mask-size: auto calc(min(50%, 400px));\\n}\",{\"id\":\"a3aa341a-56fe-42fa-a871-01499dd2113f\"},{\"id\":\"d6f13615-0c27-4492-a537-1c0d12f0bd30\"},{\"id\":\"4b260bd4-f5c7-4fa3-9c82-4dc6aa2c062f\"}],\"margin\":0,\"sizing_mode\":\"stretch_width\",\"align\":\"start\"}}]}}],\"defs\":[{\"type\":\"model\",\"name\":\"ReactiveHTML1\"},{\"type\":\"model\",\"name\":\"FlexBox1\",\"properties\":[{\"name\":\"align_content\",\"kind\":\"Any\",\"default\":\"flex-start\"},{\"name\":\"align_items\",\"kind\":\"Any\",\"default\":\"flex-start\"},{\"name\":\"flex_direction\",\"kind\":\"Any\",\"default\":\"row\"},{\"name\":\"flex_wrap\",\"kind\":\"Any\",\"default\":\"wrap\"},{\"name\":\"gap\",\"kind\":\"Any\",\"default\":\"\"},{\"name\":\"justify_content\",\"kind\":\"Any\",\"default\":\"flex-start\"}]},{\"type\":\"model\",\"name\":\"FloatPanel1\",\"properties\":[{\"name\":\"config\",\"kind\":\"Any\",\"default\":{\"type\":\"map\"}},{\"name\":\"contained\",\"kind\":\"Any\",\"default\":true},{\"name\":\"position\",\"kind\":\"Any\",\"default\":\"right-top\"},{\"name\":\"offsetx\",\"kind\":\"Any\",\"default\":null},{\"name\":\"offsety\",\"kind\":\"Any\",\"default\":null},{\"name\":\"theme\",\"kind\":\"Any\",\"default\":\"primary\"},{\"name\":\"status\",\"kind\":\"Any\",\"default\":\"normalized\"}]},{\"type\":\"model\",\"name\":\"GridStack1\",\"properties\":[{\"name\":\"ncols\",\"kind\":\"Any\",\"default\":null},{\"name\":\"nrows\",\"kind\":\"Any\",\"default\":null},{\"name\":\"allow_resize\",\"kind\":\"Any\",\"default\":true},{\"name\":\"allow_drag\",\"kind\":\"Any\",\"default\":true},{\"name\":\"state\",\"kind\":\"Any\",\"default\":[]}]},{\"type\":\"model\",\"name\":\"drag1\",\"properties\":[{\"name\":\"slider_width\",\"kind\":\"Any\",\"default\":5},{\"name\":\"slider_color\",\"kind\":\"Any\",\"default\":\"black\"},{\"name\":\"value\",\"kind\":\"Any\",\"default\":50}]},{\"type\":\"model\",\"name\":\"click1\",\"properties\":[{\"name\":\"terminal_output\",\"kind\":\"Any\",\"default\":\"\"},{\"name\":\"debug_name\",\"kind\":\"Any\",\"default\":\"\"},{\"name\":\"clears\",\"kind\":\"Any\",\"default\":0}]},{\"type\":\"model\",\"name\":\"FastWrapper1\",\"properties\":[{\"name\":\"object\",\"kind\":\"Any\",\"default\":null},{\"name\":\"style\",\"kind\":\"Any\",\"default\":null}]},{\"type\":\"model\",\"name\":\"NotificationArea1\",\"properties\":[{\"name\":\"js_events\",\"kind\":\"Any\",\"default\":{\"type\":\"map\"}},{\"name\":\"max_notifications\",\"kind\":\"Any\",\"default\":5},{\"name\":\"notifications\",\"kind\":\"Any\",\"default\":[]},{\"name\":\"position\",\"kind\":\"Any\",\"default\":\"bottom-right\"},{\"name\":\"_clear\",\"kind\":\"Any\",\"default\":0},{\"name\":\"types\",\"kind\":\"Any\",\"default\":[{\"type\":\"map\",\"entries\":[[\"type\",\"warning\"],[\"background\",\"#ffc107\"],[\"icon\",{\"type\":\"map\",\"entries\":[[\"className\",\"fas fa-exclamation-triangle\"],[\"tagName\",\"i\"],[\"color\",\"white\"]]}]]},{\"type\":\"map\",\"entries\":[[\"type\",\"info\"],[\"background\",\"#007bff\"],[\"icon\",{\"type\":\"map\",\"entries\":[[\"className\",\"fas fa-info-circle\"],[\"tagName\",\"i\"],[\"color\",\"white\"]]}]]}]}]},{\"type\":\"model\",\"name\":\"Notification\",\"properties\":[{\"name\":\"background\",\"kind\":\"Any\",\"default\":null},{\"name\":\"duration\",\"kind\":\"Any\",\"default\":3000},{\"name\":\"icon\",\"kind\":\"Any\",\"default\":null},{\"name\":\"message\",\"kind\":\"Any\",\"default\":\"\"},{\"name\":\"notification_type\",\"kind\":\"Any\",\"default\":null},{\"name\":\"_rendered\",\"kind\":\"Any\",\"default\":false},{\"name\":\"_destroyed\",\"kind\":\"Any\",\"default\":false}]},{\"type\":\"model\",\"name\":\"TemplateActions1\",\"properties\":[{\"name\":\"open_modal\",\"kind\":\"Any\",\"default\":0},{\"name\":\"close_modal\",\"kind\":\"Any\",\"default\":0}]},{\"type\":\"model\",\"name\":\"BootstrapTemplateActions1\",\"properties\":[{\"name\":\"open_modal\",\"kind\":\"Any\",\"default\":0},{\"name\":\"close_modal\",\"kind\":\"Any\",\"default\":0}]},{\"type\":\"model\",\"name\":\"TemplateEditor1\",\"properties\":[{\"name\":\"layout\",\"kind\":\"Any\",\"default\":[]}]},{\"type\":\"model\",\"name\":\"MaterialTemplateActions1\",\"properties\":[{\"name\":\"open_modal\",\"kind\":\"Any\",\"default\":0},{\"name\":\"close_modal\",\"kind\":\"Any\",\"default\":0}]},{\"type\":\"model\",\"name\":\"ReactiveESM1\",\"properties\":[{\"name\":\"esm_constants\",\"kind\":\"Any\",\"default\":{\"type\":\"map\"}}]},{\"type\":\"model\",\"name\":\"JSComponent1\",\"properties\":[{\"name\":\"esm_constants\",\"kind\":\"Any\",\"default\":{\"type\":\"map\"}}]},{\"type\":\"model\",\"name\":\"ReactComponent1\",\"properties\":[{\"name\":\"esm_constants\",\"kind\":\"Any\",\"default\":{\"type\":\"map\"}}]},{\"type\":\"model\",\"name\":\"AnyWidgetComponent1\",\"properties\":[{\"name\":\"esm_constants\",\"kind\":\"Any\",\"default\":{\"type\":\"map\"}}]},{\"type\":\"model\",\"name\":\"request_value1\",\"properties\":[{\"name\":\"fill\",\"kind\":\"Any\",\"default\":\"none\"},{\"name\":\"_synced\",\"kind\":\"Any\",\"default\":null},{\"name\":\"_request_sync\",\"kind\":\"Any\",\"default\":0}]}]}};\n",
       "  var render_items = [{\"docid\":\"84c5914c-1fb5-45c8-962c-70676d6b804a\",\"roots\":{\"9fb3c285-bd5c-4c9f-b8a9-1d7f6e1b9038\":\"b986961b-40d4-4eb3-a776-c7bd84020bd4\"},\"root_ids\":[\"9fb3c285-bd5c-4c9f-b8a9-1d7f6e1b9038\"]}];\n",
       "  var docs = Object.values(docs_json)\n",
       "  if (!docs) {\n",
       "    return\n",
       "  }\n",
       "  const py_version = docs[0].version.replace('rc', '-rc.').replace('.dev', '-dev.')\n",
       "  async function embed_document(root) {\n",
       "    var Bokeh = get_bokeh(root)\n",
       "    await Bokeh.embed.embed_items_notebook(docs_json, render_items);\n",
       "    for (const render_item of render_items) {\n",
       "      for (const root_id of render_item.root_ids) {\n",
       "\tconst id_el = document.getElementById(root_id)\n",
       "\tif (id_el.children.length && id_el.children[0].hasAttribute('data-root-id')) {\n",
       "\t  const root_el = id_el.children[0]\n",
       "\t  root_el.id = root_el.id + '-rendered'\n",
       "\t  for (const child of root_el.children) {\n",
       "            // Ensure JupyterLab does not capture keyboard shortcuts\n",
       "            // see: https://jupyterlab.readthedocs.io/en/4.1.x/extension/notebook.html#keyboard-interaction-model\n",
       "\t    child.setAttribute('data-lm-suppress-shortcuts', 'true')\n",
       "\t  }\n",
       "\t}\n",
       "      }\n",
       "    }\n",
       "  }\n",
       "  function get_bokeh(root) {\n",
       "    if (root.Bokeh === undefined) {\n",
       "      return null\n",
       "    } else if (root.Bokeh.version !== py_version) {\n",
       "      if (root.Bokeh.versions === undefined || !root.Bokeh.versions.has(py_version)) {\n",
       "\treturn null\n",
       "      }\n",
       "      return root.Bokeh.versions.get(py_version);\n",
       "    } else if (root.Bokeh.version === py_version) {\n",
       "      return root.Bokeh\n",
       "    }\n",
       "    return null\n",
       "  }\n",
       "  function is_loaded(root) {\n",
       "    var Bokeh = get_bokeh(root)\n",
       "    return (Bokeh != null && Bokeh.Panel !== undefined)\n",
       "  }\n",
       "  if (is_loaded(root)) {\n",
       "    embed_document(root);\n",
       "  } else {\n",
       "    var attempts = 0;\n",
       "    var timer = setInterval(function(root) {\n",
       "      if (is_loaded(root)) {\n",
       "        clearInterval(timer);\n",
       "        embed_document(root);\n",
       "      } else if (document.readyState == \"complete\") {\n",
       "        attempts++;\n",
       "        if (attempts > 200) {\n",
       "          clearInterval(timer);\n",
       "\t  var Bokeh = get_bokeh(root)\n",
       "\t  if (Bokeh == null || Bokeh.Panel == null) {\n",
       "            console.warn(\"Panel: ERROR: Unable to run Panel code because Bokeh or Panel library is missing\");\n",
       "\t  } else {\n",
       "\t    console.warn(\"Panel: WARNING: Attempting to render but not all required libraries could be resolved.\")\n",
       "\t    embed_document(root)\n",
       "\t  }\n",
       "        }\n",
       "      }\n",
       "    }, 25, root)\n",
       "  }\n",
       "})(window);</script>"
      ],
      "text/plain": [
       ":Overlay\n",
       "   .Bars.I    :Bars   [post_str_b1]   (percent)\n",
       "   .HLine.I   :HLine   [x,y]\n",
       "   .HLine.II  :HLine   [x,y]\n",
       "   .HLine.III :HLine   [x,y]"
      ]
     },
     "metadata": {
      "application/vnd.holoviews_exec.v0+json": {
       "id": "9fb3c285-bd5c-4c9f-b8a9-1d7f6e1b9038"
      }
     },
     "output_type": "display_data"
    },
    {
     "name": "stdout",
     "output_type": "stream",
     "text": [
      "df_10_last FOR str_b1 = 06\n",
      "Last 3 results last_results=['04', '05']\n"
     ]
    },
    {
     "data": {
      "text/html": [
       "<div><style>\n",
       ".dataframe > thead > tr,\n",
       ".dataframe > tbody > tr {\n",
       "  text-align: right;\n",
       "  white-space: pre-wrap;\n",
       "}\n",
       "</style>\n",
       "<small>shape: (10, 24)</small><table border=\"1\" class=\"dataframe\"><thead><tr><th>fecha</th><th>sorteo</th><th>bolillas</th><th>id</th><th>combo</th><th>b1</th><th>b2</th><th>b3</th><th>b4</th><th>b5</th><th>str_b1</th><th>str_b2</th><th>str_b3</th><th>str_b4</th><th>str_b5</th><th>post_str_b1</th><th>post_str_b2</th><th>post_str_b3</th><th>post_str_b4</th><th>post_str_blast</th><th>is_rare_combination</th><th>reason</th><th>jumps_map</th><th>unijump</th></tr><tr><td>str</td><td>str</td><td>str</td><td>str</td><td>array[u8, 5]</td><td>u8</td><td>u8</td><td>u8</td><td>u8</td><td>u8</td><td>str</td><td>str</td><td>str</td><td>str</td><td>str</td><td>str</td><td>str</td><td>str</td><td>str</td><td>str</td><td>bool</td><td>u8</td><td>str</td><td>i64</td></tr></thead><tbody><tr><td>&quot;13/04/2025&quot;</td><td>&quot;4185&quot;</td><td>&quot;26 06 13 09 27&quot;</td><td>&quot;0609132627&quot;</td><td>[6, 9, … 27]</td><td>6</td><td>9</td><td>13</td><td>26</td><td>27</td><td>&quot;06&quot;</td><td>&quot;09&quot;</td><td>&quot;13&quot;</td><td>&quot;26&quot;</td><td>&quot;27&quot;</td><td>&quot;04&quot;</td><td>&quot;09&quot;</td><td>&quot;14&quot;</td><td>&quot;16&quot;</td><td>&quot;27&quot;</td><td>false</td><td>0</td><td>&quot;03_04_13_01&quot;</td><td>-29</td></tr><tr><td>&quot;26/03/2025&quot;</td><td>&quot;4167&quot;</td><td>&quot;34 29 06 24 26&quot;</td><td>&quot;0624262934&quot;</td><td>[6, 24, … 34]</td><td>6</td><td>24</td><td>26</td><td>29</td><td>34</td><td>&quot;06&quot;</td><td>&quot;24&quot;</td><td>&quot;26&quot;</td><td>&quot;29&quot;</td><td>&quot;34&quot;</td><td>&quot;05&quot;</td><td>&quot;08&quot;</td><td>&quot;27&quot;</td><td>&quot;32&quot;</td><td>&quot;35&quot;</td><td>true</td><td>16</td><td>&quot;18_02_03_05&quot;</td><td>-16</td></tr><tr><td>&quot;24/03/2025&quot;</td><td>&quot;4165&quot;</td><td>&quot;32 29 27 21 06&quot;</td><td>&quot;0621272932&quot;</td><td>[6, 21, … 32]</td><td>6</td><td>21</td><td>27</td><td>29</td><td>32</td><td>&quot;06&quot;</td><td>&quot;21&quot;</td><td>&quot;27&quot;</td><td>&quot;29&quot;</td><td>&quot;32&quot;</td><td>&quot;04&quot;</td><td>&quot;06&quot;</td><td>&quot;22&quot;</td><td>&quot;29&quot;</td><td>&quot;35&quot;</td><td>false</td><td>0</td><td>&quot;15_06_02_03&quot;</td><td>0</td></tr><tr><td>&quot;10/03/2025&quot;</td><td>&quot;4151&quot;</td><td>&quot;29 06 26 15 19&quot;</td><td>&quot;0615192629&quot;</td><td>[6, 15, … 29]</td><td>6</td><td>15</td><td>19</td><td>26</td><td>29</td><td>&quot;06&quot;</td><td>&quot;15&quot;</td><td>&quot;19&quot;</td><td>&quot;26&quot;</td><td>&quot;29&quot;</td><td>&quot;02&quot;</td><td>&quot;11&quot;</td><td>&quot;12&quot;</td><td>&quot;16&quot;</td><td>&quot;32&quot;</td><td>true</td><td>16</td><td>&quot;09_04_07_03&quot;</td><td>-15</td></tr><tr><td>&quot;05/03/2025&quot;</td><td>&quot;4146&quot;</td><td>&quot;22 18 16 06 20&quot;</td><td>&quot;0616182022&quot;</td><td>[6, 16, … 22]</td><td>6</td><td>16</td><td>18</td><td>20</td><td>22</td><td>&quot;06&quot;</td><td>&quot;16&quot;</td><td>&quot;18&quot;</td><td>&quot;20&quot;</td><td>&quot;22&quot;</td><td>&quot;13&quot;</td><td>&quot;17&quot;</td><td>&quot;21&quot;</td><td>&quot;30&quot;</td><td>&quot;35&quot;</td><td>true</td><td>28</td><td>&quot;10_02_02_02&quot;</td><td>-8</td></tr><tr><td>&quot;06/02/2025&quot;</td><td>&quot;4119&quot;</td><td>&quot;11 14 25 20 06&quot;</td><td>&quot;0611142025&quot;</td><td>[6, 11, … 25]</td><td>6</td><td>11</td><td>14</td><td>20</td><td>25</td><td>&quot;06&quot;</td><td>&quot;11&quot;</td><td>&quot;14&quot;</td><td>&quot;20&quot;</td><td>&quot;25&quot;</td><td>&quot;08&quot;</td><td>&quot;17&quot;</td><td>&quot;23&quot;</td><td>&quot;28&quot;</td><td>&quot;35&quot;</td><td>true</td><td>16</td><td>&quot;05_03_06_05&quot;</td><td>-9</td></tr><tr><td>&quot;04/02/2025&quot;</td><td>&quot;4117&quot;</td><td>&quot;34 35 06 23 13&quot;</td><td>&quot;0613233435&quot;</td><td>[6, 13, … 35]</td><td>6</td><td>13</td><td>23</td><td>34</td><td>35</td><td>&quot;06&quot;</td><td>&quot;13&quot;</td><td>&quot;23&quot;</td><td>&quot;34&quot;</td><td>&quot;35&quot;</td><td>&quot;14&quot;</td><td>&quot;19&quot;</td><td>&quot;28&quot;</td><td>&quot;31&quot;</td><td>&quot;34&quot;</td><td>false</td><td>0</td><td>&quot;07_10_11_01&quot;</td><td>-9</td></tr><tr><td>&quot;30/01/2025&quot;</td><td>&quot;4112&quot;</td><td>&quot;23 06 22 33 34&quot;</td><td>&quot;0622233334&quot;</td><td>[6, 22, … 34]</td><td>6</td><td>22</td><td>23</td><td>33</td><td>34</td><td>&quot;06&quot;</td><td>&quot;22&quot;</td><td>&quot;23&quot;</td><td>&quot;33&quot;</td><td>&quot;34&quot;</td><td>&quot;04&quot;</td><td>&quot;05&quot;</td><td>&quot;19&quot;</td><td>&quot;28&quot;</td><td>&quot;32&quot;</td><td>true</td><td>16</td><td>&quot;16_01_10_01&quot;</td><td>-42</td></tr><tr><td>&quot;25/01/2025&quot;</td><td>&quot;4107&quot;</td><td>&quot;06 07 25 29 31&quot;</td><td>&quot;0607252931&quot;</td><td>[6, 7, … 31]</td><td>6</td><td>7</td><td>25</td><td>29</td><td>31</td><td>&quot;06&quot;</td><td>&quot;07&quot;</td><td>&quot;25&quot;</td><td>&quot;29&quot;</td><td>&quot;31&quot;</td><td>&quot;03&quot;</td><td>&quot;09&quot;</td><td>&quot;30&quot;</td><td>&quot;32&quot;</td><td>&quot;35&quot;</td><td>false</td><td>0</td><td>&quot;01_18_04_02&quot;</td><td>43</td></tr><tr><td>&quot;22/01/2025&quot;</td><td>&quot;4104&quot;</td><td>&quot;06 12 35 17 18&quot;</td><td>&quot;0612171835&quot;</td><td>[6, 12, … 35]</td><td>6</td><td>12</td><td>17</td><td>18</td><td>35</td><td>&quot;06&quot;</td><td>&quot;12&quot;</td><td>&quot;17&quot;</td><td>&quot;18&quot;</td><td>&quot;35&quot;</td><td>&quot;01&quot;</td><td>&quot;10&quot;</td><td>&quot;24&quot;</td><td>&quot;26&quot;</td><td>&quot;30&quot;</td><td>false</td><td>0</td><td>&quot;06_05_01_17&quot;</td><td>23</td></tr></tbody></table></div>"
      ],
      "text/plain": [
       "shape: (10, 24)\n",
       "┌────────────┬────────┬─────────────┬────────────┬───┬─────────────┬────────┬────────────┬─────────┐\n",
       "│ fecha      ┆ sorteo ┆ bolillas    ┆ id         ┆ … ┆ is_rare_com ┆ reason ┆ jumps_map  ┆ unijump │\n",
       "│ ---        ┆ ---    ┆ ---         ┆ ---        ┆   ┆ bination    ┆ ---    ┆ ---        ┆ ---     │\n",
       "│ str        ┆ str    ┆ str         ┆ str        ┆   ┆ ---         ┆ u8     ┆ str        ┆ i64     │\n",
       "│            ┆        ┆             ┆            ┆   ┆ bool        ┆        ┆            ┆         │\n",
       "╞════════════╪════════╪═════════════╪════════════╪═══╪═════════════╪════════╪════════════╪═════════╡\n",
       "│ 13/04/2025 ┆ 4185   ┆ 26 06 13 09 ┆ 0609132627 ┆ … ┆ false       ┆ 0      ┆ 03_04_13_0 ┆ -29     │\n",
       "│            ┆        ┆ 27          ┆            ┆   ┆             ┆        ┆ 1          ┆         │\n",
       "│ 26/03/2025 ┆ 4167   ┆ 34 29 06 24 ┆ 0624262934 ┆ … ┆ true        ┆ 16     ┆ 18_02_03_0 ┆ -16     │\n",
       "│            ┆        ┆ 26          ┆            ┆   ┆             ┆        ┆ 5          ┆         │\n",
       "│ 24/03/2025 ┆ 4165   ┆ 32 29 27 21 ┆ 0621272932 ┆ … ┆ false       ┆ 0      ┆ 15_06_02_0 ┆ 0       │\n",
       "│            ┆        ┆ 06          ┆            ┆   ┆             ┆        ┆ 3          ┆         │\n",
       "│ 10/03/2025 ┆ 4151   ┆ 29 06 26 15 ┆ 0615192629 ┆ … ┆ true        ┆ 16     ┆ 09_04_07_0 ┆ -15     │\n",
       "│            ┆        ┆ 19          ┆            ┆   ┆             ┆        ┆ 3          ┆         │\n",
       "│ 05/03/2025 ┆ 4146   ┆ 22 18 16 06 ┆ 0616182022 ┆ … ┆ true        ┆ 28     ┆ 10_02_02_0 ┆ -8      │\n",
       "│            ┆        ┆ 20          ┆            ┆   ┆             ┆        ┆ 2          ┆         │\n",
       "│ 06/02/2025 ┆ 4119   ┆ 11 14 25 20 ┆ 0611142025 ┆ … ┆ true        ┆ 16     ┆ 05_03_06_0 ┆ -9      │\n",
       "│            ┆        ┆ 06          ┆            ┆   ┆             ┆        ┆ 5          ┆         │\n",
       "│ 04/02/2025 ┆ 4117   ┆ 34 35 06 23 ┆ 0613233435 ┆ … ┆ false       ┆ 0      ┆ 07_10_11_0 ┆ -9      │\n",
       "│            ┆        ┆ 13          ┆            ┆   ┆             ┆        ┆ 1          ┆         │\n",
       "│ 30/01/2025 ┆ 4112   ┆ 23 06 22 33 ┆ 0622233334 ┆ … ┆ true        ┆ 16     ┆ 16_01_10_0 ┆ -42     │\n",
       "│            ┆        ┆ 34          ┆            ┆   ┆             ┆        ┆ 1          ┆         │\n",
       "│ 25/01/2025 ┆ 4107   ┆ 06 07 25 29 ┆ 0607252931 ┆ … ┆ false       ┆ 0      ┆ 01_18_04_0 ┆ 43      │\n",
       "│            ┆        ┆ 31          ┆            ┆   ┆             ┆        ┆ 2          ┆         │\n",
       "│ 22/01/2025 ┆ 4104   ┆ 06 12 35 17 ┆ 0612171835 ┆ … ┆ false       ┆ 0      ┆ 06_05_01_1 ┆ 23      │\n",
       "│            ┆        ┆ 18          ┆            ┆   ┆             ┆        ┆ 7          ┆         │\n",
       "└────────────┴────────┴─────────────┴────────────┴───┴─────────────┴────────┴────────────┴─────────┘"
      ]
     },
     "metadata": {},
     "output_type": "display_data"
    },
    {
     "name": "stdout",
     "output_type": "stream",
     "text": [
      "df_jumps_map FOR str_b1 = 06\n"
     ]
    },
    {
     "data": {
      "text/html": [
       "<div><style>\n",
       ".dataframe > thead > tr,\n",
       ".dataframe > tbody > tr {\n",
       "  text-align: right;\n",
       "  white-space: pre-wrap;\n",
       "}\n",
       "</style>\n",
       "<small>shape: (565, 2)</small><table border=\"1\" class=\"dataframe\"><thead><tr><th>jumps_map</th><th>count</th></tr><tr><td>str</td><td>u32</td></tr></thead><tbody><tr><td>&quot;01_03_01_17&quot;</td><td>2</td></tr><tr><td>&quot;02_08_06_07&quot;</td><td>2</td></tr><tr><td>&quot;13_06_02_06&quot;</td><td>2</td></tr><tr><td>&quot;18_01_02_05&quot;</td><td>2</td></tr><tr><td>&quot;12_10_04_01&quot;</td><td>2</td></tr><tr><td>&hellip;</td><td>&hellip;</td></tr><tr><td>&quot;16_07_01_02&quot;</td><td>1</td></tr><tr><td>&quot;01_08_12_08&quot;</td><td>1</td></tr><tr><td>&quot;13_06_07_02&quot;</td><td>1</td></tr><tr><td>&quot;07_09_05_04&quot;</td><td>1</td></tr><tr><td>&quot;05_06_07_08&quot;</td><td>1</td></tr></tbody></table></div>"
      ],
      "text/plain": [
       "shape: (565, 2)\n",
       "┌─────────────┬───────┐\n",
       "│ jumps_map   ┆ count │\n",
       "│ ---         ┆ ---   │\n",
       "│ str         ┆ u32   │\n",
       "╞═════════════╪═══════╡\n",
       "│ 01_03_01_17 ┆ 2     │\n",
       "│ 02_08_06_07 ┆ 2     │\n",
       "│ 13_06_02_06 ┆ 2     │\n",
       "│ 18_01_02_05 ┆ 2     │\n",
       "│ 12_10_04_01 ┆ 2     │\n",
       "│ …           ┆ …     │\n",
       "│ 16_07_01_02 ┆ 1     │\n",
       "│ 01_08_12_08 ┆ 1     │\n",
       "│ 13_06_07_02 ┆ 1     │\n",
       "│ 07_09_05_04 ┆ 1     │\n",
       "│ 05_06_07_08 ┆ 1     │\n",
       "└─────────────┴───────┘"
      ]
     },
     "metadata": {},
     "output_type": "display_data"
    },
    {
     "name": "stdout",
     "output_type": "stream",
     "text": [
      "df_unijump FOR str_b1 = 06\n"
     ]
    },
    {
     "data": {
      "text/html": [
       "<div><style>\n",
       ".dataframe > thead > tr,\n",
       ".dataframe > tbody > tr {\n",
       "  text-align: right;\n",
       "  white-space: pre-wrap;\n",
       "}\n",
       "</style>\n",
       "<small>shape: (109, 2)</small><table border=\"1\" class=\"dataframe\"><thead><tr><th>unijump</th><th>count</th></tr><tr><td>i64</td><td>u32</td></tr></thead><tbody><tr><td>5</td><td>15</td></tr><tr><td>3</td><td>15</td></tr><tr><td>0</td><td>15</td></tr><tr><td>-9</td><td>15</td></tr><tr><td>7</td><td>14</td></tr><tr><td>&hellip;</td><td>&hellip;</td></tr><tr><td>54</td><td>1</td></tr><tr><td>58</td><td>1</td></tr><tr><td>-48</td><td>1</td></tr><tr><td>-60</td><td>1</td></tr><tr><td>59</td><td>1</td></tr></tbody></table></div>"
      ],
      "text/plain": [
       "shape: (109, 2)\n",
       "┌─────────┬───────┐\n",
       "│ unijump ┆ count │\n",
       "│ ---     ┆ ---   │\n",
       "│ i64     ┆ u32   │\n",
       "╞═════════╪═══════╡\n",
       "│ 5       ┆ 15    │\n",
       "│ 3       ┆ 15    │\n",
       "│ 0       ┆ 15    │\n",
       "│ -9      ┆ 15    │\n",
       "│ 7       ┆ 14    │\n",
       "│ …       ┆ …     │\n",
       "│ 54      ┆ 1     │\n",
       "│ 58      ┆ 1     │\n",
       "│ -48     ┆ 1     │\n",
       "│ -60     ┆ 1     │\n",
       "│ 59      ┆ 1     │\n",
       "└─────────┴───────┘"
      ]
     },
     "metadata": {},
     "output_type": "display_data"
    }
   ],
   "source": [
    "possible_b1, exclude_jump_maps_b1, last_post_b1 = plot_post_col(col='str_b1', post_col='post_str_b1')"
   ]
  },
  {
   "cell_type": "code",
   "execution_count": 9,
   "metadata": {},
   "outputs": [
    {
     "name": "stdout",
     "output_type": "stream",
     "text": [
      "Setting test_value='10'\n",
      "df_viz FOR str_b2 = 10\n"
     ]
    },
    {
     "data": {
      "text/html": [
       "<div><style>\n",
       ".dataframe > thead > tr,\n",
       ".dataframe > tbody > tr {\n",
       "  text-align: right;\n",
       "  white-space: pre-wrap;\n",
       "}\n",
       "</style>\n",
       "<small>shape: (29, 3)</small><table border=\"1\" class=\"dataframe\"><thead><tr><th>post_str_b2</th><th>count</th><th>percent</th></tr><tr><td>str</td><td>u32</td><td>f64</td></tr></thead><tbody><tr><td>&quot;07&quot;</td><td>35</td><td>7.12831</td></tr><tr><td>&quot;06&quot;</td><td>34</td><td>6.924644</td></tr><tr><td>&quot;11&quot;</td><td>33</td><td>6.720978</td></tr><tr><td>&quot;10&quot;</td><td>32</td><td>6.517312</td></tr><tr><td>&quot;12&quot;</td><td>28</td><td>5.702648</td></tr><tr><td>&hellip;</td><td>&hellip;</td><td>&hellip;</td></tr><tr><td>&quot;26&quot;</td><td>3</td><td>0.610998</td></tr><tr><td>&quot;27&quot;</td><td>2</td><td>0.407332</td></tr><tr><td>&quot;28&quot;</td><td>2</td><td>0.407332</td></tr><tr><td>&quot;29&quot;</td><td>1</td><td>0.203666</td></tr><tr><td>&quot;30&quot;</td><td>1</td><td>0.203666</td></tr></tbody></table></div>"
      ],
      "text/plain": [
       "shape: (29, 3)\n",
       "┌─────────────┬───────┬──────────┐\n",
       "│ post_str_b2 ┆ count ┆ percent  │\n",
       "│ ---         ┆ ---   ┆ ---      │\n",
       "│ str         ┆ u32   ┆ f64      │\n",
       "╞═════════════╪═══════╪══════════╡\n",
       "│ 07          ┆ 35    ┆ 7.12831  │\n",
       "│ 06          ┆ 34    ┆ 6.924644 │\n",
       "│ 11          ┆ 33    ┆ 6.720978 │\n",
       "│ 10          ┆ 32    ┆ 6.517312 │\n",
       "│ 12          ┆ 28    ┆ 5.702648 │\n",
       "│ …           ┆ …     ┆ …        │\n",
       "│ 26          ┆ 3     ┆ 0.610998 │\n",
       "│ 27          ┆ 2     ┆ 0.407332 │\n",
       "│ 28          ┆ 2     ┆ 0.407332 │\n",
       "│ 29          ┆ 1     ┆ 0.203666 │\n",
       "│ 30          ┆ 1     ┆ 0.203666 │\n",
       "└─────────────┴───────┴──────────┘"
      ]
     },
     "metadata": {},
     "output_type": "display_data"
    },
    {
     "data": {},
     "metadata": {},
     "output_type": "display_data"
    },
    {
     "data": {
      "application/vnd.holoviews_exec.v0+json": "",
      "text/html": [
       "<div id='076143af-01bf-4489-a585-a09b376d819b'>\n",
       "  <div id=\"f0f91b5b-9412-4dc2-a47c-4721aa359986\" data-root-id=\"076143af-01bf-4489-a585-a09b376d819b\" style=\"display: contents;\"></div>\n",
       "</div>\n",
       "<script type=\"application/javascript\">(function(root) {\n",
       "  var docs_json = {\"1e43dd4c-e575-41a9-8dae-fa661b5fee79\":{\"version\":\"3.7.2\",\"title\":\"Bokeh Application\",\"roots\":[{\"type\":\"object\",\"name\":\"Row\",\"id\":\"076143af-01bf-4489-a585-a09b376d819b\",\"attributes\":{\"name\":\"Row00360\",\"tags\":[\"embedded\"],\"stylesheets\":[\"\\n:host(.pn-loading):before, .pn-loading:before {\\n  background-color: #c3c3c3;\\n  mask-size: auto calc(min(50%, 400px));\\n  -webkit-mask-size: auto calc(min(50%, 400px));\\n}\",{\"type\":\"object\",\"name\":\"ImportedStyleSheet\",\"id\":\"09aaabb3-d0d5-49a0-abab-baf1fab0a7d0\",\"attributes\":{\"url\":\"https://cdn.holoviz.org/panel/1.6.2/dist/css/loading.css\"}},{\"type\":\"object\",\"name\":\"ImportedStyleSheet\",\"id\":\"087e5db8-c74d-429d-b733-08ac95ddc58e\",\"attributes\":{\"url\":\"https://cdn.holoviz.org/panel/1.6.2/dist/css/listpanel.css\"}},{\"type\":\"object\",\"name\":\"ImportedStyleSheet\",\"id\":\"ebae5f28-1cdd-4cae-bf88-3857b35f8fd6\",\"attributes\":{\"url\":\"https://cdn.holoviz.org/panel/1.6.2/dist/bundled/theme/default.css\"}},{\"type\":\"object\",\"name\":\"ImportedStyleSheet\",\"id\":\"8a6dd56b-edc2-4110-ba28-fb779f9f6085\",\"attributes\":{\"url\":\"https://cdn.holoviz.org/panel/1.6.2/dist/bundled/theme/native.css\"}}],\"min_width\":700,\"margin\":0,\"sizing_mode\":\"stretch_width\",\"align\":\"start\",\"children\":[{\"type\":\"object\",\"name\":\"Spacer\",\"id\":\"b646d543-710b-4c45-bd07-d1ff13cfc8a7\",\"attributes\":{\"name\":\"HSpacer00364\",\"stylesheets\":[\"\\n:host(.pn-loading):before, .pn-loading:before {\\n  background-color: #c3c3c3;\\n  mask-size: auto calc(min(50%, 400px));\\n  -webkit-mask-size: auto calc(min(50%, 400px));\\n}\",{\"id\":\"09aaabb3-d0d5-49a0-abab-baf1fab0a7d0\"},{\"id\":\"ebae5f28-1cdd-4cae-bf88-3857b35f8fd6\"},{\"id\":\"8a6dd56b-edc2-4110-ba28-fb779f9f6085\"}],\"margin\":0,\"sizing_mode\":\"stretch_width\",\"align\":\"start\"}},{\"type\":\"object\",\"name\":\"Figure\",\"id\":\"00857a65-40f8-4aa3-9fc9-f2c74cf44cd8\",\"attributes\":{\"width\":700,\"height\":300,\"margin\":[5,10],\"sizing_mode\":\"fixed\",\"align\":\"start\",\"x_range\":{\"type\":\"object\",\"name\":\"FactorRange\",\"id\":\"2354281e-d496-4f6c-b4bb-61b137d5aa5f\",\"attributes\":{\"name\":\"post_str_b2\",\"tags\":[[[\"post_str_b2\",null]],[]],\"factors\":[\"07\",\"06\",\"11\",\"10\",\"12\",\"05\",\"14\",\"16\",\"09\",\"13\",\"18\",\"19\",\"04\",\"15\",\"08\",\"03\",\"20\",\"24\",\"17\",\"21\",\"23\",\"22\",\"02\",\"25\",\"26\",\"27\",\"28\",\"29\",\"30\"]}},\"y_range\":{\"type\":\"object\",\"name\":\"Range1d\",\"id\":\"adfe427b-2ffb-4ed6-a61f-1e720ef35630\",\"attributes\":{\"name\":\"percent\",\"tags\":[[[\"percent\",null]],{\"type\":\"map\",\"entries\":[[\"invert_yaxis\",false],[\"autorange\",false]]}],\"end\":7.820773930753563,\"reset_start\":0.0,\"reset_end\":7.820773930753563}},\"x_scale\":{\"type\":\"object\",\"name\":\"CategoricalScale\",\"id\":\"587bd9d2-328b-44fa-982b-599fcd692df2\"},\"y_scale\":{\"type\":\"object\",\"name\":\"LinearScale\",\"id\":\"f063f76c-6589-42c5-98d3-987a995fd1c1\"},\"title\":{\"type\":\"object\",\"name\":\"Title\",\"id\":\"bb2fe85c-da89-493f-a696-75ce670074a5\",\"attributes\":{\"text_color\":\"black\",\"text_font_size\":\"12pt\"}},\"renderers\":[{\"type\":\"object\",\"name\":\"GlyphRenderer\",\"id\":\"d815b3f7-8503-4b1d-be1c-463901d284c1\",\"attributes\":{\"data_source\":{\"type\":\"object\",\"name\":\"ColumnDataSource\",\"id\":\"e253a8ed-a0da-4eb1-a8f5-f0b3e4c4ea0f\",\"attributes\":{\"selected\":{\"type\":\"object\",\"name\":\"Selection\",\"id\":\"93cee5b9-b402-4749-a9b9-e2c14cdc19e8\",\"attributes\":{\"indices\":[],\"line_indices\":[]}},\"selection_policy\":{\"type\":\"object\",\"name\":\"UnionRenderers\",\"id\":\"5a6486ea-697e-4f83-abbf-1088aa9de003\"},\"data\":{\"type\":\"map\",\"entries\":[[\"post_str_b2\",[\"07\",\"06\",\"11\",\"10\",\"12\",\"05\",\"14\",\"16\",\"09\",\"13\",\"18\",\"19\",\"04\",\"15\",\"08\",\"03\",\"20\",\"24\",\"17\",\"21\",\"23\",\"22\",\"02\",\"25\",\"26\",\"27\",\"28\",\"29\",\"30\"]],[\"percent\",{\"type\":\"ndarray\",\"array\":{\"type\":\"bytes\",\"data\":\"hzGjlWODHED45o/E1bIbQGqcfPNH4hpA21FpIroRGkCgJxzegs8WQKAnHN6CzxZAoCcc3oLPFkAQ3QgN9f4VQNWyu8i9vBJA1bK7yL28EkC4HZUmohsRQCnTgVUUSxBANBHdCA31DkD45o/E1bILQPjmj8TVsgtA21FpIroRCkCCkvU7Zy4FQGT9zplLjQNAZP3OmUuNA0BHaKj3L+wBQBd8tmbxU/0/F3y2ZvFT/T/bUWkiuhH6P6AnHN6Cz/Y/ZP3OmUuN4z/bUWkiuhHaP9tRaSK6Edo/21FpIroRyj/bUWkiuhHKPw==\"},\"shape\":[29],\"dtype\":\"float64\",\"order\":\"little\"}]]}}},\"view\":{\"type\":\"object\",\"name\":\"CDSView\",\"id\":\"b09f3c99-8169-4bcd-8900-21b789986287\",\"attributes\":{\"filter\":{\"type\":\"object\",\"name\":\"AllIndices\",\"id\":\"c6a33e78-f4a7-45e8-942a-f81843a61565\"}}},\"glyph\":{\"type\":\"object\",\"name\":\"VBar\",\"id\":\"f8ceea3c-cde9-40ac-a6ce-0da4e197e555\",\"attributes\":{\"tags\":[\"apply_ranges\"],\"x\":{\"type\":\"field\",\"field\":\"post_str_b2\"},\"width\":{\"type\":\"value\",\"value\":0.8},\"top\":{\"type\":\"field\",\"field\":\"percent\"},\"fill_color\":{\"type\":\"value\",\"value\":\"#30a2da\"},\"hatch_color\":{\"type\":\"value\",\"value\":\"#30a2da\"}}},\"selection_glyph\":{\"type\":\"object\",\"name\":\"VBar\",\"id\":\"483d8611-3d98-4791-9ed2-a3d6897b27e9\",\"attributes\":{\"tags\":[\"apply_ranges\"],\"x\":{\"type\":\"field\",\"field\":\"post_str_b2\"},\"width\":{\"type\":\"value\",\"value\":0.8},\"bottom\":{\"type\":\"value\",\"value\":0},\"top\":{\"type\":\"field\",\"field\":\"percent\"},\"line_color\":{\"type\":\"value\",\"value\":\"black\"},\"line_alpha\":{\"type\":\"value\",\"value\":1.0},\"line_width\":{\"type\":\"value\",\"value\":1},\"line_join\":{\"type\":\"value\",\"value\":\"bevel\"},\"line_cap\":{\"type\":\"value\",\"value\":\"butt\"},\"line_dash\":{\"type\":\"value\",\"value\":[]},\"line_dash_offset\":{\"type\":\"value\",\"value\":0},\"fill_color\":{\"type\":\"value\",\"value\":\"#30a2da\"},\"fill_alpha\":{\"type\":\"value\",\"value\":1.0},\"hatch_color\":{\"type\":\"value\",\"value\":\"#30a2da\"},\"hatch_alpha\":{\"type\":\"value\",\"value\":1.0},\"hatch_scale\":{\"type\":\"value\",\"value\":12.0},\"hatch_pattern\":{\"type\":\"value\",\"value\":null},\"hatch_weight\":{\"type\":\"value\",\"value\":1.0}}},\"nonselection_glyph\":{\"type\":\"object\",\"name\":\"VBar\",\"id\":\"da61c6cc-dbd3-4163-ae51-2ee225bb0815\",\"attributes\":{\"tags\":[\"apply_ranges\"],\"x\":{\"type\":\"field\",\"field\":\"post_str_b2\"},\"width\":{\"type\":\"value\",\"value\":0.8},\"top\":{\"type\":\"field\",\"field\":\"percent\"},\"line_alpha\":{\"type\":\"value\",\"value\":0.1},\"fill_color\":{\"type\":\"value\",\"value\":\"#30a2da\"},\"fill_alpha\":{\"type\":\"value\",\"value\":0.1},\"hatch_color\":{\"type\":\"value\",\"value\":\"#30a2da\"},\"hatch_alpha\":{\"type\":\"value\",\"value\":0.1}}},\"muted_glyph\":{\"type\":\"object\",\"name\":\"VBar\",\"id\":\"691b73f3-6ac0-40d1-9cce-83d47b782c45\",\"attributes\":{\"tags\":[\"apply_ranges\"],\"x\":{\"type\":\"field\",\"field\":\"post_str_b2\"},\"width\":{\"type\":\"value\",\"value\":0.8},\"top\":{\"type\":\"field\",\"field\":\"percent\"},\"line_alpha\":{\"type\":\"value\",\"value\":0.2},\"fill_color\":{\"type\":\"value\",\"value\":\"#30a2da\"},\"fill_alpha\":{\"type\":\"value\",\"value\":0.2},\"hatch_color\":{\"type\":\"value\",\"value\":\"#30a2da\"},\"hatch_alpha\":{\"type\":\"value\",\"value\":0.2}}}}},{\"type\":\"object\",\"name\":\"Span\",\"id\":\"c11c25d5-97fb-427d-877f-2b8acb5268af\",\"attributes\":{\"level\":\"glyph\",\"location\":3.448275862068965,\"line_color\":\"red\",\"line_width\":3}},{\"type\":\"object\",\"name\":\"Span\",\"id\":\"544ac3d7-be69-4bc4-b9bd-d17f60576596\",\"attributes\":{\"level\":\"glyph\",\"location\":5.1724137931034475,\"line_color\":\"blue\",\"line_width\":3}},{\"type\":\"object\",\"name\":\"Span\",\"id\":\"1e50227d-f5e7-4d28-89c1-60f56aae555f\",\"attributes\":{\"level\":\"glyph\",\"location\":1.7241379310344827,\"line_color\":\"blue\",\"line_width\":3}}],\"toolbar\":{\"type\":\"object\",\"name\":\"Toolbar\",\"id\":\"3c638327-5974-4983-801d-e7a83e7fea99\",\"attributes\":{\"tools\":[{\"type\":\"object\",\"name\":\"WheelZoomTool\",\"id\":\"f547630e-5129-40af-b006-0f93f12765b8\",\"attributes\":{\"tags\":[\"hv_created\"],\"renderers\":\"auto\",\"zoom_together\":\"none\"}},{\"type\":\"object\",\"name\":\"HoverTool\",\"id\":\"63a3ac76-7992-4053-9b7c-a72a26fabaf3\",\"attributes\":{\"tags\":[\"hv_created\"],\"renderers\":[{\"id\":\"d815b3f7-8503-4b1d-be1c-463901d284c1\"}],\"tooltips\":[[\"post_str_b2\",\"@{post_str_b2}\"],[\"percent\",\"@{percent}\"]]}},{\"type\":\"object\",\"name\":\"SaveTool\",\"id\":\"60661eff-734c-4e7a-a88a-91e851b0cbc6\"},{\"type\":\"object\",\"name\":\"PanTool\",\"id\":\"ce941204-68c5-4ab7-b8d3-4d5880b17628\"},{\"type\":\"object\",\"name\":\"BoxZoomTool\",\"id\":\"e312f3b0-b8e8-4793-9893-b62634ab2de2\",\"attributes\":{\"dimensions\":\"both\",\"overlay\":{\"type\":\"object\",\"name\":\"BoxAnnotation\",\"id\":\"622e43df-65f1-4cb9-845b-e26034ecd4fd\",\"attributes\":{\"syncable\":false,\"line_color\":\"black\",\"line_alpha\":1.0,\"line_width\":2,\"line_dash\":[4,4],\"fill_color\":\"lightgrey\",\"fill_alpha\":0.5,\"level\":\"overlay\",\"visible\":false,\"left\":{\"type\":\"number\",\"value\":\"nan\"},\"right\":{\"type\":\"number\",\"value\":\"nan\"},\"top\":{\"type\":\"number\",\"value\":\"nan\"},\"bottom\":{\"type\":\"number\",\"value\":\"nan\"},\"left_units\":\"canvas\",\"right_units\":\"canvas\",\"top_units\":\"canvas\",\"bottom_units\":\"canvas\",\"handles\":{\"type\":\"object\",\"name\":\"BoxInteractionHandles\",\"id\":\"d0922744-1e4c-45a4-afd4-41f15225332d\",\"attributes\":{\"all\":{\"type\":\"object\",\"name\":\"AreaVisuals\",\"id\":\"a04f34a2-1745-486c-8712-6c6ed2c1ed93\",\"attributes\":{\"fill_color\":\"white\",\"hover_fill_color\":\"lightgray\"}}}}}}}},{\"type\":\"object\",\"name\":\"ResetTool\",\"id\":\"ff383d57-56e9-4d51-a609-51a5a0221424\"}],\"active_drag\":{\"id\":\"ce941204-68c5-4ab7-b8d3-4d5880b17628\"}}},\"left\":[{\"type\":\"object\",\"name\":\"LinearAxis\",\"id\":\"ed2df783-a975-4f83-af03-8a704270654d\",\"attributes\":{\"ticker\":{\"type\":\"object\",\"name\":\"BasicTicker\",\"id\":\"a2c4142f-0f4a-4ba4-8b73-d1b826cf14c7\",\"attributes\":{\"mantissas\":[1,2,5]}},\"formatter\":{\"type\":\"object\",\"name\":\"BasicTickFormatter\",\"id\":\"3a2178d5-895b-4c85-b9b5-77f21dfb32b5\"},\"axis_label\":\"percent\",\"major_label_policy\":{\"type\":\"object\",\"name\":\"AllLabels\",\"id\":\"d21fd33e-78a5-4e03-8c01-143480107675\"}}}],\"below\":[{\"type\":\"object\",\"name\":\"CategoricalAxis\",\"id\":\"c2505632-1739-4311-b11b-c19536711f90\",\"attributes\":{\"ticker\":{\"type\":\"object\",\"name\":\"CategoricalTicker\",\"id\":\"2f4e6e47-a21e-412f-a217-0e08b019923a\"},\"formatter\":{\"type\":\"object\",\"name\":\"CategoricalTickFormatter\",\"id\":\"e997ba7d-36b5-41c8-84b6-c525954453ef\"},\"axis_label\":\"post_str_b2\",\"major_label_policy\":{\"type\":\"object\",\"name\":\"AllLabels\",\"id\":\"69386f9d-dd07-4449-8e55-6ed41b614769\"}}}],\"center\":[{\"type\":\"object\",\"name\":\"Grid\",\"id\":\"41872be0-b7f2-4d0e-aefd-f93fe3219795\",\"attributes\":{\"axis\":{\"id\":\"c2505632-1739-4311-b11b-c19536711f90\"},\"grid_line_color\":null}},{\"type\":\"object\",\"name\":\"Grid\",\"id\":\"64a99546-7388-425f-92b9-1626d27d64b6\",\"attributes\":{\"dimension\":1,\"axis\":{\"id\":\"ed2df783-a975-4f83-af03-8a704270654d\"},\"grid_line_color\":null}}],\"min_border_top\":10,\"min_border_bottom\":10,\"min_border_left\":10,\"min_border_right\":10,\"output_backend\":\"webgl\"}},{\"type\":\"object\",\"name\":\"Spacer\",\"id\":\"22a2f5da-3e34-40fd-a472-f020710820dd\",\"attributes\":{\"name\":\"HSpacer00365\",\"stylesheets\":[\"\\n:host(.pn-loading):before, .pn-loading:before {\\n  background-color: #c3c3c3;\\n  mask-size: auto calc(min(50%, 400px));\\n  -webkit-mask-size: auto calc(min(50%, 400px));\\n}\",{\"id\":\"09aaabb3-d0d5-49a0-abab-baf1fab0a7d0\"},{\"id\":\"ebae5f28-1cdd-4cae-bf88-3857b35f8fd6\"},{\"id\":\"8a6dd56b-edc2-4110-ba28-fb779f9f6085\"}],\"margin\":0,\"sizing_mode\":\"stretch_width\",\"align\":\"start\"}}]}}],\"defs\":[{\"type\":\"model\",\"name\":\"ReactiveHTML1\"},{\"type\":\"model\",\"name\":\"FlexBox1\",\"properties\":[{\"name\":\"align_content\",\"kind\":\"Any\",\"default\":\"flex-start\"},{\"name\":\"align_items\",\"kind\":\"Any\",\"default\":\"flex-start\"},{\"name\":\"flex_direction\",\"kind\":\"Any\",\"default\":\"row\"},{\"name\":\"flex_wrap\",\"kind\":\"Any\",\"default\":\"wrap\"},{\"name\":\"gap\",\"kind\":\"Any\",\"default\":\"\"},{\"name\":\"justify_content\",\"kind\":\"Any\",\"default\":\"flex-start\"}]},{\"type\":\"model\",\"name\":\"FloatPanel1\",\"properties\":[{\"name\":\"config\",\"kind\":\"Any\",\"default\":{\"type\":\"map\"}},{\"name\":\"contained\",\"kind\":\"Any\",\"default\":true},{\"name\":\"position\",\"kind\":\"Any\",\"default\":\"right-top\"},{\"name\":\"offsetx\",\"kind\":\"Any\",\"default\":null},{\"name\":\"offsety\",\"kind\":\"Any\",\"default\":null},{\"name\":\"theme\",\"kind\":\"Any\",\"default\":\"primary\"},{\"name\":\"status\",\"kind\":\"Any\",\"default\":\"normalized\"}]},{\"type\":\"model\",\"name\":\"GridStack1\",\"properties\":[{\"name\":\"ncols\",\"kind\":\"Any\",\"default\":null},{\"name\":\"nrows\",\"kind\":\"Any\",\"default\":null},{\"name\":\"allow_resize\",\"kind\":\"Any\",\"default\":true},{\"name\":\"allow_drag\",\"kind\":\"Any\",\"default\":true},{\"name\":\"state\",\"kind\":\"Any\",\"default\":[]}]},{\"type\":\"model\",\"name\":\"drag1\",\"properties\":[{\"name\":\"slider_width\",\"kind\":\"Any\",\"default\":5},{\"name\":\"slider_color\",\"kind\":\"Any\",\"default\":\"black\"},{\"name\":\"value\",\"kind\":\"Any\",\"default\":50}]},{\"type\":\"model\",\"name\":\"click1\",\"properties\":[{\"name\":\"terminal_output\",\"kind\":\"Any\",\"default\":\"\"},{\"name\":\"debug_name\",\"kind\":\"Any\",\"default\":\"\"},{\"name\":\"clears\",\"kind\":\"Any\",\"default\":0}]},{\"type\":\"model\",\"name\":\"FastWrapper1\",\"properties\":[{\"name\":\"object\",\"kind\":\"Any\",\"default\":null},{\"name\":\"style\",\"kind\":\"Any\",\"default\":null}]},{\"type\":\"model\",\"name\":\"NotificationArea1\",\"properties\":[{\"name\":\"js_events\",\"kind\":\"Any\",\"default\":{\"type\":\"map\"}},{\"name\":\"max_notifications\",\"kind\":\"Any\",\"default\":5},{\"name\":\"notifications\",\"kind\":\"Any\",\"default\":[]},{\"name\":\"position\",\"kind\":\"Any\",\"default\":\"bottom-right\"},{\"name\":\"_clear\",\"kind\":\"Any\",\"default\":0},{\"name\":\"types\",\"kind\":\"Any\",\"default\":[{\"type\":\"map\",\"entries\":[[\"type\",\"warning\"],[\"background\",\"#ffc107\"],[\"icon\",{\"type\":\"map\",\"entries\":[[\"className\",\"fas fa-exclamation-triangle\"],[\"tagName\",\"i\"],[\"color\",\"white\"]]}]]},{\"type\":\"map\",\"entries\":[[\"type\",\"info\"],[\"background\",\"#007bff\"],[\"icon\",{\"type\":\"map\",\"entries\":[[\"className\",\"fas fa-info-circle\"],[\"tagName\",\"i\"],[\"color\",\"white\"]]}]]}]}]},{\"type\":\"model\",\"name\":\"Notification\",\"properties\":[{\"name\":\"background\",\"kind\":\"Any\",\"default\":null},{\"name\":\"duration\",\"kind\":\"Any\",\"default\":3000},{\"name\":\"icon\",\"kind\":\"Any\",\"default\":null},{\"name\":\"message\",\"kind\":\"Any\",\"default\":\"\"},{\"name\":\"notification_type\",\"kind\":\"Any\",\"default\":null},{\"name\":\"_rendered\",\"kind\":\"Any\",\"default\":false},{\"name\":\"_destroyed\",\"kind\":\"Any\",\"default\":false}]},{\"type\":\"model\",\"name\":\"TemplateActions1\",\"properties\":[{\"name\":\"open_modal\",\"kind\":\"Any\",\"default\":0},{\"name\":\"close_modal\",\"kind\":\"Any\",\"default\":0}]},{\"type\":\"model\",\"name\":\"BootstrapTemplateActions1\",\"properties\":[{\"name\":\"open_modal\",\"kind\":\"Any\",\"default\":0},{\"name\":\"close_modal\",\"kind\":\"Any\",\"default\":0}]},{\"type\":\"model\",\"name\":\"TemplateEditor1\",\"properties\":[{\"name\":\"layout\",\"kind\":\"Any\",\"default\":[]}]},{\"type\":\"model\",\"name\":\"MaterialTemplateActions1\",\"properties\":[{\"name\":\"open_modal\",\"kind\":\"Any\",\"default\":0},{\"name\":\"close_modal\",\"kind\":\"Any\",\"default\":0}]},{\"type\":\"model\",\"name\":\"ReactiveESM1\",\"properties\":[{\"name\":\"esm_constants\",\"kind\":\"Any\",\"default\":{\"type\":\"map\"}}]},{\"type\":\"model\",\"name\":\"JSComponent1\",\"properties\":[{\"name\":\"esm_constants\",\"kind\":\"Any\",\"default\":{\"type\":\"map\"}}]},{\"type\":\"model\",\"name\":\"ReactComponent1\",\"properties\":[{\"name\":\"esm_constants\",\"kind\":\"Any\",\"default\":{\"type\":\"map\"}}]},{\"type\":\"model\",\"name\":\"AnyWidgetComponent1\",\"properties\":[{\"name\":\"esm_constants\",\"kind\":\"Any\",\"default\":{\"type\":\"map\"}}]},{\"type\":\"model\",\"name\":\"request_value1\",\"properties\":[{\"name\":\"fill\",\"kind\":\"Any\",\"default\":\"none\"},{\"name\":\"_synced\",\"kind\":\"Any\",\"default\":null},{\"name\":\"_request_sync\",\"kind\":\"Any\",\"default\":0}]}]}};\n",
       "  var render_items = [{\"docid\":\"1e43dd4c-e575-41a9-8dae-fa661b5fee79\",\"roots\":{\"076143af-01bf-4489-a585-a09b376d819b\":\"f0f91b5b-9412-4dc2-a47c-4721aa359986\"},\"root_ids\":[\"076143af-01bf-4489-a585-a09b376d819b\"]}];\n",
       "  var docs = Object.values(docs_json)\n",
       "  if (!docs) {\n",
       "    return\n",
       "  }\n",
       "  const py_version = docs[0].version.replace('rc', '-rc.').replace('.dev', '-dev.')\n",
       "  async function embed_document(root) {\n",
       "    var Bokeh = get_bokeh(root)\n",
       "    await Bokeh.embed.embed_items_notebook(docs_json, render_items);\n",
       "    for (const render_item of render_items) {\n",
       "      for (const root_id of render_item.root_ids) {\n",
       "\tconst id_el = document.getElementById(root_id)\n",
       "\tif (id_el.children.length && id_el.children[0].hasAttribute('data-root-id')) {\n",
       "\t  const root_el = id_el.children[0]\n",
       "\t  root_el.id = root_el.id + '-rendered'\n",
       "\t  for (const child of root_el.children) {\n",
       "            // Ensure JupyterLab does not capture keyboard shortcuts\n",
       "            // see: https://jupyterlab.readthedocs.io/en/4.1.x/extension/notebook.html#keyboard-interaction-model\n",
       "\t    child.setAttribute('data-lm-suppress-shortcuts', 'true')\n",
       "\t  }\n",
       "\t}\n",
       "      }\n",
       "    }\n",
       "  }\n",
       "  function get_bokeh(root) {\n",
       "    if (root.Bokeh === undefined) {\n",
       "      return null\n",
       "    } else if (root.Bokeh.version !== py_version) {\n",
       "      if (root.Bokeh.versions === undefined || !root.Bokeh.versions.has(py_version)) {\n",
       "\treturn null\n",
       "      }\n",
       "      return root.Bokeh.versions.get(py_version);\n",
       "    } else if (root.Bokeh.version === py_version) {\n",
       "      return root.Bokeh\n",
       "    }\n",
       "    return null\n",
       "  }\n",
       "  function is_loaded(root) {\n",
       "    var Bokeh = get_bokeh(root)\n",
       "    return (Bokeh != null && Bokeh.Panel !== undefined)\n",
       "  }\n",
       "  if (is_loaded(root)) {\n",
       "    embed_document(root);\n",
       "  } else {\n",
       "    var attempts = 0;\n",
       "    var timer = setInterval(function(root) {\n",
       "      if (is_loaded(root)) {\n",
       "        clearInterval(timer);\n",
       "        embed_document(root);\n",
       "      } else if (document.readyState == \"complete\") {\n",
       "        attempts++;\n",
       "        if (attempts > 200) {\n",
       "          clearInterval(timer);\n",
       "\t  var Bokeh = get_bokeh(root)\n",
       "\t  if (Bokeh == null || Bokeh.Panel == null) {\n",
       "            console.warn(\"Panel: ERROR: Unable to run Panel code because Bokeh or Panel library is missing\");\n",
       "\t  } else {\n",
       "\t    console.warn(\"Panel: WARNING: Attempting to render but not all required libraries could be resolved.\")\n",
       "\t    embed_document(root)\n",
       "\t  }\n",
       "        }\n",
       "      }\n",
       "    }, 25, root)\n",
       "  }\n",
       "})(window);</script>"
      ],
      "text/plain": [
       ":Overlay\n",
       "   .Bars.I    :Bars   [post_str_b2]   (percent)\n",
       "   .HLine.I   :HLine   [x,y]\n",
       "   .HLine.II  :HLine   [x,y]\n",
       "   .HLine.III :HLine   [x,y]"
      ]
     },
     "metadata": {
      "application/vnd.holoviews_exec.v0+json": {
       "id": "076143af-01bf-4489-a585-a09b376d819b"
      }
     },
     "output_type": "display_data"
    },
    {
     "name": "stdout",
     "output_type": "stream",
     "text": [
      "df_10_last FOR str_b2 = 10\n",
      "Last 3 results last_results=['09', '20', '07']\n"
     ]
    },
    {
     "data": {
      "text/html": [
       "<div><style>\n",
       ".dataframe > thead > tr,\n",
       ".dataframe > tbody > tr {\n",
       "  text-align: right;\n",
       "  white-space: pre-wrap;\n",
       "}\n",
       "</style>\n",
       "<small>shape: (10, 24)</small><table border=\"1\" class=\"dataframe\"><thead><tr><th>fecha</th><th>sorteo</th><th>bolillas</th><th>id</th><th>combo</th><th>b1</th><th>b2</th><th>b3</th><th>b4</th><th>b5</th><th>str_b1</th><th>str_b2</th><th>str_b3</th><th>str_b4</th><th>str_b5</th><th>post_str_b1</th><th>post_str_b2</th><th>post_str_b3</th><th>post_str_b4</th><th>post_str_blast</th><th>is_rare_combination</th><th>reason</th><th>jumps_map</th><th>unijump</th></tr><tr><td>str</td><td>str</td><td>str</td><td>str</td><td>array[u8, 5]</td><td>u8</td><td>u8</td><td>u8</td><td>u8</td><td>u8</td><td>str</td><td>str</td><td>str</td><td>str</td><td>str</td><td>str</td><td>str</td><td>str</td><td>str</td><td>str</td><td>bool</td><td>u8</td><td>str</td><td>i64</td></tr></thead><tbody><tr><td>&quot;12/04/2025&quot;</td><td>&quot;4184&quot;</td><td>&quot;23 12 10 16 03&quot;</td><td>&quot;0310121623&quot;</td><td>[3, 10, … 23]</td><td>3</td><td>10</td><td>12</td><td>16</td><td>23</td><td>&quot;03&quot;</td><td>&quot;10&quot;</td><td>&quot;12&quot;</td><td>&quot;16&quot;</td><td>&quot;23&quot;</td><td>&quot;06&quot;</td><td>&quot;09&quot;</td><td>&quot;13&quot;</td><td>&quot;26&quot;</td><td>&quot;27&quot;</td><td>false</td><td>0</td><td>&quot;07_02_04_07&quot;</td><td>-6</td></tr><tr><td>&quot;08/04/2025&quot;</td><td>&quot;4180&quot;</td><td>&quot;10 20 30 05 16&quot;</td><td>&quot;0510162030&quot;</td><td>[5, 10, … 30]</td><td>5</td><td>10</td><td>16</td><td>20</td><td>30</td><td>&quot;05&quot;</td><td>&quot;10&quot;</td><td>&quot;16&quot;</td><td>&quot;20&quot;</td><td>&quot;30&quot;</td><td>&quot;04&quot;</td><td>&quot;20&quot;</td><td>&quot;21&quot;</td><td>&quot;28&quot;</td><td>&quot;29&quot;</td><td>false</td><td>0</td><td>&quot;05_06_04_10&quot;</td><td>11</td></tr><tr><td>&quot;23/01/2025&quot;</td><td>&quot;4105&quot;</td><td>&quot;26 10 30 24 01&quot;</td><td>&quot;0110242630&quot;</td><td>[1, 10, … 30]</td><td>1</td><td>10</td><td>24</td><td>26</td><td>30</td><td>&quot;01&quot;</td><td>&quot;10&quot;</td><td>&quot;24&quot;</td><td>&quot;26&quot;</td><td>&quot;30&quot;</td><td>&quot;03&quot;</td><td>&quot;07&quot;</td><td>&quot;15&quot;</td><td>&quot;28&quot;</td><td>&quot;31&quot;</td><td>false</td><td>0</td><td>&quot;09_14_02_04&quot;</td><td>31</td></tr><tr><td>&quot;04/01/2025&quot;</td><td>&quot;4086&quot;</td><td>&quot;06 10 29 32 19&quot;</td><td>&quot;0610192932&quot;</td><td>[6, 10, … 32]</td><td>6</td><td>10</td><td>19</td><td>29</td><td>32</td><td>&quot;06&quot;</td><td>&quot;10&quot;</td><td>&quot;19&quot;</td><td>&quot;29&quot;</td><td>&quot;32&quot;</td><td>&quot;07&quot;</td><td>&quot;19&quot;</td><td>&quot;20&quot;</td><td>&quot;23&quot;</td><td>&quot;28&quot;</td><td>false</td><td>0</td><td>&quot;04_09_10_03&quot;</td><td>-4</td></tr><tr><td>&quot;20/11/2024&quot;</td><td>&quot;4041&quot;</td><td>&quot;28 10 07 15 30&quot;</td><td>&quot;0710152830&quot;</td><td>[7, 10, … 30]</td><td>7</td><td>10</td><td>15</td><td>28</td><td>30</td><td>&quot;07&quot;</td><td>&quot;10&quot;</td><td>&quot;15&quot;</td><td>&quot;28&quot;</td><td>&quot;30&quot;</td><td>&quot;12&quot;</td><td>&quot;26&quot;</td><td>&quot;28&quot;</td><td>&quot;32&quot;</td><td>&quot;34&quot;</td><td>false</td><td>0</td><td>&quot;03_05_13_02&quot;</td><td>-25</td></tr><tr><td>&quot;19/11/2024&quot;</td><td>&quot;4040&quot;</td><td>&quot;07 10 21 17 24&quot;</td><td>&quot;0710172124&quot;</td><td>[7, 10, … 24]</td><td>7</td><td>10</td><td>17</td><td>21</td><td>24</td><td>&quot;07&quot;</td><td>&quot;10&quot;</td><td>&quot;17&quot;</td><td>&quot;21&quot;</td><td>&quot;24&quot;</td><td>&quot;07&quot;</td><td>&quot;10&quot;</td><td>&quot;15&quot;</td><td>&quot;28&quot;</td><td>&quot;30&quot;</td><td>true</td><td>16</td><td>&quot;03_07_04_03&quot;</td><td>9</td></tr><tr><td>&quot;17/11/2024&quot;</td><td>&quot;4038&quot;</td><td>&quot;17 25 10 01 14&quot;</td><td>&quot;0110141725&quot;</td><td>[1, 10, … 25]</td><td>1</td><td>10</td><td>14</td><td>17</td><td>25</td><td>&quot;01&quot;</td><td>&quot;10&quot;</td><td>&quot;14&quot;</td><td>&quot;17&quot;</td><td>&quot;25&quot;</td><td>&quot;01&quot;</td><td>&quot;07&quot;</td><td>&quot;19&quot;</td><td>&quot;23&quot;</td><td>&quot;24&quot;</td><td>true</td><td>16</td><td>&quot;09_04_03_08&quot;</td><td>2</td></tr><tr><td>&quot;29/09/2024&quot;</td><td>&quot;3989&quot;</td><td>&quot;03 17 12 10 34&quot;</td><td>&quot;0310121734&quot;</td><td>[3, 10, … 34]</td><td>3</td><td>10</td><td>12</td><td>17</td><td>34</td><td>&quot;03&quot;</td><td>&quot;10&quot;</td><td>&quot;12&quot;</td><td>&quot;17&quot;</td><td>&quot;34&quot;</td><td>&quot;02&quot;</td><td>&quot;07&quot;</td><td>&quot;09&quot;</td><td>&quot;19&quot;</td><td>&quot;31&quot;</td><td>false</td><td>0</td><td>&quot;07_02_05_17&quot;</td><td>1</td></tr><tr><td>&quot;04/09/2024&quot;</td><td>&quot;3964&quot;</td><td>&quot;04 26 29 21 10&quot;</td><td>&quot;0410212629&quot;</td><td>[4, 10, … 29]</td><td>4</td><td>10</td><td>21</td><td>26</td><td>29</td><td>&quot;04&quot;</td><td>&quot;10&quot;</td><td>&quot;21&quot;</td><td>&quot;26&quot;</td><td>&quot;29&quot;</td><td>&quot;03&quot;</td><td>&quot;06&quot;</td><td>&quot;20&quot;</td><td>&quot;31&quot;</td><td>&quot;32&quot;</td><td>true</td><td>16</td><td>&quot;06_11_05_03&quot;</td><td>15</td></tr><tr><td>&quot;25/08/2024&quot;</td><td>&quot;3954&quot;</td><td>&quot;27 10 21 05 23&quot;</td><td>&quot;0510212327&quot;</td><td>[5, 10, … 27]</td><td>5</td><td>10</td><td>21</td><td>23</td><td>27</td><td>&quot;05&quot;</td><td>&quot;10&quot;</td><td>&quot;21&quot;</td><td>&quot;23&quot;</td><td>&quot;27&quot;</td><td>&quot;06&quot;</td><td>&quot;16&quot;</td><td>&quot;22&quot;</td><td>&quot;27&quot;</td><td>&quot;35&quot;</td><td>false</td><td>0</td><td>&quot;05_11_02_04&quot;</td><td>26</td></tr></tbody></table></div>"
      ],
      "text/plain": [
       "shape: (10, 24)\n",
       "┌────────────┬────────┬─────────────┬────────────┬───┬─────────────┬────────┬────────────┬─────────┐\n",
       "│ fecha      ┆ sorteo ┆ bolillas    ┆ id         ┆ … ┆ is_rare_com ┆ reason ┆ jumps_map  ┆ unijump │\n",
       "│ ---        ┆ ---    ┆ ---         ┆ ---        ┆   ┆ bination    ┆ ---    ┆ ---        ┆ ---     │\n",
       "│ str        ┆ str    ┆ str         ┆ str        ┆   ┆ ---         ┆ u8     ┆ str        ┆ i64     │\n",
       "│            ┆        ┆             ┆            ┆   ┆ bool        ┆        ┆            ┆         │\n",
       "╞════════════╪════════╪═════════════╪════════════╪═══╪═════════════╪════════╪════════════╪═════════╡\n",
       "│ 12/04/2025 ┆ 4184   ┆ 23 12 10 16 ┆ 0310121623 ┆ … ┆ false       ┆ 0      ┆ 07_02_04_0 ┆ -6      │\n",
       "│            ┆        ┆ 03          ┆            ┆   ┆             ┆        ┆ 7          ┆         │\n",
       "│ 08/04/2025 ┆ 4180   ┆ 10 20 30 05 ┆ 0510162030 ┆ … ┆ false       ┆ 0      ┆ 05_06_04_1 ┆ 11      │\n",
       "│            ┆        ┆ 16          ┆            ┆   ┆             ┆        ┆ 0          ┆         │\n",
       "│ 23/01/2025 ┆ 4105   ┆ 26 10 30 24 ┆ 0110242630 ┆ … ┆ false       ┆ 0      ┆ 09_14_02_0 ┆ 31      │\n",
       "│            ┆        ┆ 01          ┆            ┆   ┆             ┆        ┆ 4          ┆         │\n",
       "│ 04/01/2025 ┆ 4086   ┆ 06 10 29 32 ┆ 0610192932 ┆ … ┆ false       ┆ 0      ┆ 04_09_10_0 ┆ -4      │\n",
       "│            ┆        ┆ 19          ┆            ┆   ┆             ┆        ┆ 3          ┆         │\n",
       "│ 20/11/2024 ┆ 4041   ┆ 28 10 07 15 ┆ 0710152830 ┆ … ┆ false       ┆ 0      ┆ 03_05_13_0 ┆ -25     │\n",
       "│            ┆        ┆ 30          ┆            ┆   ┆             ┆        ┆ 2          ┆         │\n",
       "│ 19/11/2024 ┆ 4040   ┆ 07 10 21 17 ┆ 0710172124 ┆ … ┆ true        ┆ 16     ┆ 03_07_04_0 ┆ 9       │\n",
       "│            ┆        ┆ 24          ┆            ┆   ┆             ┆        ┆ 3          ┆         │\n",
       "│ 17/11/2024 ┆ 4038   ┆ 17 25 10 01 ┆ 0110141725 ┆ … ┆ true        ┆ 16     ┆ 09_04_03_0 ┆ 2       │\n",
       "│            ┆        ┆ 14          ┆            ┆   ┆             ┆        ┆ 8          ┆         │\n",
       "│ 29/09/2024 ┆ 3989   ┆ 03 17 12 10 ┆ 0310121734 ┆ … ┆ false       ┆ 0      ┆ 07_02_05_1 ┆ 1       │\n",
       "│            ┆        ┆ 34          ┆            ┆   ┆             ┆        ┆ 7          ┆         │\n",
       "│ 04/09/2024 ┆ 3964   ┆ 04 26 29 21 ┆ 0410212629 ┆ … ┆ true        ┆ 16     ┆ 06_11_05_0 ┆ 15      │\n",
       "│            ┆        ┆ 10          ┆            ┆   ┆             ┆        ┆ 3          ┆         │\n",
       "│ 25/08/2024 ┆ 3954   ┆ 27 10 21 05 ┆ 0510212327 ┆ … ┆ false       ┆ 0      ┆ 05_11_02_0 ┆ 26      │\n",
       "│            ┆        ┆ 23          ┆            ┆   ┆             ┆        ┆ 4          ┆         │\n",
       "└────────────┴────────┴─────────────┴────────────┴───┴─────────────┴────────┴────────────┴─────────┘"
      ]
     },
     "metadata": {},
     "output_type": "display_data"
    },
    {
     "name": "stdout",
     "output_type": "stream",
     "text": [
      "df_jumps_map FOR str_b2 = 10\n"
     ]
    },
    {
     "data": {
      "text/html": [
       "<div><style>\n",
       ".dataframe > thead > tr,\n",
       ".dataframe > tbody > tr {\n",
       "  text-align: right;\n",
       "  white-space: pre-wrap;\n",
       "}\n",
       "</style>\n",
       "<small>shape: (483, 2)</small><table border=\"1\" class=\"dataframe\"><thead><tr><th>jumps_map</th><th>count</th></tr><tr><td>str</td><td>u32</td></tr></thead><tbody><tr><td>&quot;05_01_09_03&quot;</td><td>3</td></tr><tr><td>&quot;06_06_03_16&quot;</td><td>2</td></tr><tr><td>&quot;05_08_04_13&quot;</td><td>2</td></tr><tr><td>&quot;08_19_01_03&quot;</td><td>2</td></tr><tr><td>&quot;07_02_04_07&quot;</td><td>2</td></tr><tr><td>&hellip;</td><td>&hellip;</td></tr><tr><td>&quot;05_02_14_05&quot;</td><td>1</td></tr><tr><td>&quot;06_07_12_02&quot;</td><td>1</td></tr><tr><td>&quot;09_04_09_02&quot;</td><td>1</td></tr><tr><td>&quot;07_04_02_11&quot;</td><td>1</td></tr><tr><td>&quot;05_03_04_05&quot;</td><td>1</td></tr></tbody></table></div>"
      ],
      "text/plain": [
       "shape: (483, 2)\n",
       "┌─────────────┬───────┐\n",
       "│ jumps_map   ┆ count │\n",
       "│ ---         ┆ ---   │\n",
       "│ str         ┆ u32   │\n",
       "╞═════════════╪═══════╡\n",
       "│ 05_01_09_03 ┆ 3     │\n",
       "│ 06_06_03_16 ┆ 2     │\n",
       "│ 05_08_04_13 ┆ 2     │\n",
       "│ 08_19_01_03 ┆ 2     │\n",
       "│ 07_02_04_07 ┆ 2     │\n",
       "│ …           ┆ …     │\n",
       "│ 05_02_14_05 ┆ 1     │\n",
       "│ 06_07_12_02 ┆ 1     │\n",
       "│ 09_04_09_02 ┆ 1     │\n",
       "│ 07_04_02_11 ┆ 1     │\n",
       "│ 05_03_04_05 ┆ 1     │\n",
       "└─────────────┴───────┘"
      ]
     },
     "metadata": {},
     "output_type": "display_data"
    },
    {
     "name": "stdout",
     "output_type": "stream",
     "text": [
      "df_unijump FOR str_b2 = 10\n"
     ]
    },
    {
     "data": {
      "text/html": [
       "<div><style>\n",
       ".dataframe > thead > tr,\n",
       ".dataframe > tbody > tr {\n",
       "  text-align: right;\n",
       "  white-space: pre-wrap;\n",
       "}\n",
       "</style>\n",
       "<small>shape: (112, 2)</small><table border=\"1\" class=\"dataframe\"><thead><tr><th>unijump</th><th>count</th></tr><tr><td>i64</td><td>u32</td></tr></thead><tbody><tr><td>3</td><td>11</td></tr><tr><td>13</td><td>11</td></tr><tr><td>11</td><td>11</td></tr><tr><td>0</td><td>10</td></tr><tr><td>20</td><td>10</td></tr><tr><td>&hellip;</td><td>&hellip;</td></tr><tr><td>55</td><td>1</td></tr><tr><td>48</td><td>1</td></tr><tr><td>-45</td><td>1</td></tr><tr><td>56</td><td>1</td></tr><tr><td>-39</td><td>1</td></tr></tbody></table></div>"
      ],
      "text/plain": [
       "shape: (112, 2)\n",
       "┌─────────┬───────┐\n",
       "│ unijump ┆ count │\n",
       "│ ---     ┆ ---   │\n",
       "│ i64     ┆ u32   │\n",
       "╞═════════╪═══════╡\n",
       "│ 3       ┆ 11    │\n",
       "│ 13      ┆ 11    │\n",
       "│ 11      ┆ 11    │\n",
       "│ 0       ┆ 10    │\n",
       "│ 20      ┆ 10    │\n",
       "│ …       ┆ …     │\n",
       "│ 55      ┆ 1     │\n",
       "│ 48      ┆ 1     │\n",
       "│ -45     ┆ 1     │\n",
       "│ 56      ┆ 1     │\n",
       "│ -39     ┆ 1     │\n",
       "└─────────┴───────┘"
      ]
     },
     "metadata": {},
     "output_type": "display_data"
    }
   ],
   "source": [
    "possible_b2, exclude_jump_maps_b2, last_post_b2 = plot_post_col(col='str_b2', post_col='post_str_b2')"
   ]
  },
  {
   "cell_type": "code",
   "execution_count": 10,
   "metadata": {},
   "outputs": [
    {
     "name": "stdout",
     "output_type": "stream",
     "text": [
      "Setting test_value='15'\n",
      "df_viz FOR str_b3 = 15\n"
     ]
    },
    {
     "data": {
      "text/html": [
       "<div><style>\n",
       ".dataframe > thead > tr,\n",
       ".dataframe > tbody > tr {\n",
       "  text-align: right;\n",
       "  white-space: pre-wrap;\n",
       "}\n",
       "</style>\n",
       "<small>shape: (30, 3)</small><table border=\"1\" class=\"dataframe\"><thead><tr><th>post_str_b3</th><th>count</th><th>percent</th></tr><tr><td>str</td><td>u32</td><td>f64</td></tr></thead><tbody><tr><td>&quot;20&quot;</td><td>29</td><td>6.888361</td></tr><tr><td>&quot;18&quot;</td><td>27</td><td>6.413302</td></tr><tr><td>&quot;15&quot;</td><td>26</td><td>6.175772</td></tr><tr><td>&quot;16&quot;</td><td>25</td><td>5.938242</td></tr><tr><td>&quot;19&quot;</td><td>25</td><td>5.938242</td></tr><tr><td>&hellip;</td><td>&hellip;</td><td>&hellip;</td></tr><tr><td>&quot;30&quot;</td><td>4</td><td>0.950119</td></tr><tr><td>&quot;31&quot;</td><td>2</td><td>0.475059</td></tr><tr><td>&quot;33&quot;</td><td>1</td><td>0.23753</td></tr><tr><td>&quot;32&quot;</td><td>1</td><td>0.23753</td></tr><tr><td>&quot;03&quot;</td><td>1</td><td>0.23753</td></tr></tbody></table></div>"
      ],
      "text/plain": [
       "shape: (30, 3)\n",
       "┌─────────────┬───────┬──────────┐\n",
       "│ post_str_b3 ┆ count ┆ percent  │\n",
       "│ ---         ┆ ---   ┆ ---      │\n",
       "│ str         ┆ u32   ┆ f64      │\n",
       "╞═════════════╪═══════╪══════════╡\n",
       "│ 20          ┆ 29    ┆ 6.888361 │\n",
       "│ 18          ┆ 27    ┆ 6.413302 │\n",
       "│ 15          ┆ 26    ┆ 6.175772 │\n",
       "│ 16          ┆ 25    ┆ 5.938242 │\n",
       "│ 19          ┆ 25    ┆ 5.938242 │\n",
       "│ …           ┆ …     ┆ …        │\n",
       "│ 30          ┆ 4     ┆ 0.950119 │\n",
       "│ 31          ┆ 2     ┆ 0.475059 │\n",
       "│ 33          ┆ 1     ┆ 0.23753  │\n",
       "│ 32          ┆ 1     ┆ 0.23753  │\n",
       "│ 03          ┆ 1     ┆ 0.23753  │\n",
       "└─────────────┴───────┴──────────┘"
      ]
     },
     "metadata": {},
     "output_type": "display_data"
    },
    {
     "data": {},
     "metadata": {},
     "output_type": "display_data"
    },
    {
     "data": {
      "application/vnd.holoviews_exec.v0+json": "",
      "text/html": [
       "<div id='53161633-4dbc-496f-aa9d-23792767d5ce'>\n",
       "  <div id=\"d55cbb21-e334-4e09-817f-019c3a65b30a\" data-root-id=\"53161633-4dbc-496f-aa9d-23792767d5ce\" style=\"display: contents;\"></div>\n",
       "</div>\n",
       "<script type=\"application/javascript\">(function(root) {\n",
       "  var docs_json = {\"1c5db933-7240-48bf-a910-1f1b4da3f8b9\":{\"version\":\"3.7.2\",\"title\":\"Bokeh Application\",\"roots\":[{\"type\":\"object\",\"name\":\"Row\",\"id\":\"53161633-4dbc-496f-aa9d-23792767d5ce\",\"attributes\":{\"name\":\"Row00431\",\"tags\":[\"embedded\"],\"stylesheets\":[\"\\n:host(.pn-loading):before, .pn-loading:before {\\n  background-color: #c3c3c3;\\n  mask-size: auto calc(min(50%, 400px));\\n  -webkit-mask-size: auto calc(min(50%, 400px));\\n}\",{\"type\":\"object\",\"name\":\"ImportedStyleSheet\",\"id\":\"f9e38925-4640-4f75-83ac-1cabc9613ee2\",\"attributes\":{\"url\":\"https://cdn.holoviz.org/panel/1.6.2/dist/css/loading.css\"}},{\"type\":\"object\",\"name\":\"ImportedStyleSheet\",\"id\":\"45498aff-6eb9-4f97-b26d-8a681826a7ef\",\"attributes\":{\"url\":\"https://cdn.holoviz.org/panel/1.6.2/dist/css/listpanel.css\"}},{\"type\":\"object\",\"name\":\"ImportedStyleSheet\",\"id\":\"9950e447-e492-4893-aa3b-239979b60735\",\"attributes\":{\"url\":\"https://cdn.holoviz.org/panel/1.6.2/dist/bundled/theme/default.css\"}},{\"type\":\"object\",\"name\":\"ImportedStyleSheet\",\"id\":\"6a2e7e56-e981-4c80-aae9-6eb61f6a6d69\",\"attributes\":{\"url\":\"https://cdn.holoviz.org/panel/1.6.2/dist/bundled/theme/native.css\"}}],\"min_width\":700,\"margin\":0,\"sizing_mode\":\"stretch_width\",\"align\":\"start\",\"children\":[{\"type\":\"object\",\"name\":\"Spacer\",\"id\":\"737fb87f-7aa4-4ede-b657-d0aa37593b62\",\"attributes\":{\"name\":\"HSpacer00435\",\"stylesheets\":[\"\\n:host(.pn-loading):before, .pn-loading:before {\\n  background-color: #c3c3c3;\\n  mask-size: auto calc(min(50%, 400px));\\n  -webkit-mask-size: auto calc(min(50%, 400px));\\n}\",{\"id\":\"f9e38925-4640-4f75-83ac-1cabc9613ee2\"},{\"id\":\"9950e447-e492-4893-aa3b-239979b60735\"},{\"id\":\"6a2e7e56-e981-4c80-aae9-6eb61f6a6d69\"}],\"margin\":0,\"sizing_mode\":\"stretch_width\",\"align\":\"start\"}},{\"type\":\"object\",\"name\":\"Figure\",\"id\":\"6c67b4f6-c450-42dc-b433-340c0e3b6db8\",\"attributes\":{\"width\":700,\"height\":300,\"margin\":[5,10],\"sizing_mode\":\"fixed\",\"align\":\"start\",\"x_range\":{\"type\":\"object\",\"name\":\"FactorRange\",\"id\":\"80c247c7-6507-4ea9-bb98-217523e69b85\",\"attributes\":{\"name\":\"post_str_b3\",\"tags\":[[[\"post_str_b3\",null]],[]],\"factors\":[\"20\",\"18\",\"15\",\"16\",\"19\",\"22\",\"24\",\"17\",\"12\",\"26\",\"13\",\"25\",\"14\",\"11\",\"21\",\"28\",\"27\",\"23\",\"09\",\"07\",\"08\",\"29\",\"10\",\"06\",\"04\",\"30\",\"31\",\"33\",\"32\",\"03\"]}},\"y_range\":{\"type\":\"object\",\"name\":\"Range1d\",\"id\":\"a83bce5e-5a72-451c-8657-66672fc4069a\",\"attributes\":{\"name\":\"percent\",\"tags\":[[[\"percent\",null]],{\"type\":\"map\",\"entries\":[[\"invert_yaxis\",false],[\"autorange\",false]]}],\"end\":7.5534441805225665,\"reset_start\":0.0,\"reset_end\":7.5534441805225665}},\"x_scale\":{\"type\":\"object\",\"name\":\"CategoricalScale\",\"id\":\"4c2e524d-85a4-43e7-8905-d6b7788224e5\"},\"y_scale\":{\"type\":\"object\",\"name\":\"LinearScale\",\"id\":\"7307f947-a5d3-4229-a23c-a51fdda04e5f\"},\"title\":{\"type\":\"object\",\"name\":\"Title\",\"id\":\"08a08947-474f-49ae-b386-0d98ed855eaf\",\"attributes\":{\"text_color\":\"black\",\"text_font_size\":\"12pt\"}},\"renderers\":[{\"type\":\"object\",\"name\":\"GlyphRenderer\",\"id\":\"b8de756b-301d-4bd1-904b-dfec32b649d6\",\"attributes\":{\"data_source\":{\"type\":\"object\",\"name\":\"ColumnDataSource\",\"id\":\"cead5cc2-db4b-4932-9dbf-4f6f47c99d63\",\"attributes\":{\"selected\":{\"type\":\"object\",\"name\":\"Selection\",\"id\":\"ac3a9aad-b7d5-42fb-87c3-16a2bb3b40d0\",\"attributes\":{\"indices\":[],\"line_indices\":[]}},\"selection_policy\":{\"type\":\"object\",\"name\":\"UnionRenderers\",\"id\":\"27ec9bc0-3338-4ca8-979b-b221bc4a4fef\"},\"data\":{\"type\":\"map\",\"entries\":[[\"post_str_b3\",[\"20\",\"18\",\"15\",\"16\",\"19\",\"22\",\"24\",\"17\",\"12\",\"26\",\"13\",\"25\",\"14\",\"11\",\"21\",\"28\",\"27\",\"23\",\"09\",\"07\",\"08\",\"29\",\"10\",\"06\",\"04\",\"30\",\"31\",\"33\",\"32\",\"03\"]],[\"percent\",{\"type\":\"ndarray\",\"array\":{\"type\":\"bytes\",\"data\":\"hoGPhK6NG0Cy2RKNOKcZQMeFVJH9sxhA3TGWlcLAF0DdMZaVwsAXQB42W6IR5xRAHjZbohHnFEA04pym1vMTQEuO3qqbABNAYTogr2ANEkB25mGzJRoRQHbmYbMlGhFAjJKjt+omEEBEfcp3X2cOQMeFVJH9swhA893XmYfNBkAeNluiEecEQB42W6IR5wRAS47eqpsAA0BLjt6qmwADQEuO3qqbAANAduZhsyUaAUBEfcp3X2f+P0R9yndfZ/4/S47eqpsA8z9Efcp3X2fuP0R9yndfZ94/RH3Kd19nzj9Efcp3X2fOP0R9yndfZ84/\"},\"shape\":[30],\"dtype\":\"float64\",\"order\":\"little\"}]]}}},\"view\":{\"type\":\"object\",\"name\":\"CDSView\",\"id\":\"aca49e89-8c88-49e0-8e1e-662ae7aa368e\",\"attributes\":{\"filter\":{\"type\":\"object\",\"name\":\"AllIndices\",\"id\":\"482dab05-c746-4d7b-b07f-38786fcd8fde\"}}},\"glyph\":{\"type\":\"object\",\"name\":\"VBar\",\"id\":\"2b88f26c-947e-4426-9620-62f4eee6c5b8\",\"attributes\":{\"tags\":[\"apply_ranges\"],\"x\":{\"type\":\"field\",\"field\":\"post_str_b3\"},\"width\":{\"type\":\"value\",\"value\":0.8},\"top\":{\"type\":\"field\",\"field\":\"percent\"},\"fill_color\":{\"type\":\"value\",\"value\":\"#30a2da\"},\"hatch_color\":{\"type\":\"value\",\"value\":\"#30a2da\"}}},\"selection_glyph\":{\"type\":\"object\",\"name\":\"VBar\",\"id\":\"f90a2b3e-94f9-4523-97b7-957e2d88f38d\",\"attributes\":{\"tags\":[\"apply_ranges\"],\"x\":{\"type\":\"field\",\"field\":\"post_str_b3\"},\"width\":{\"type\":\"value\",\"value\":0.8},\"bottom\":{\"type\":\"value\",\"value\":0},\"top\":{\"type\":\"field\",\"field\":\"percent\"},\"line_color\":{\"type\":\"value\",\"value\":\"black\"},\"line_alpha\":{\"type\":\"value\",\"value\":1.0},\"line_width\":{\"type\":\"value\",\"value\":1},\"line_join\":{\"type\":\"value\",\"value\":\"bevel\"},\"line_cap\":{\"type\":\"value\",\"value\":\"butt\"},\"line_dash\":{\"type\":\"value\",\"value\":[]},\"line_dash_offset\":{\"type\":\"value\",\"value\":0},\"fill_color\":{\"type\":\"value\",\"value\":\"#30a2da\"},\"fill_alpha\":{\"type\":\"value\",\"value\":1.0},\"hatch_color\":{\"type\":\"value\",\"value\":\"#30a2da\"},\"hatch_alpha\":{\"type\":\"value\",\"value\":1.0},\"hatch_scale\":{\"type\":\"value\",\"value\":12.0},\"hatch_pattern\":{\"type\":\"value\",\"value\":null},\"hatch_weight\":{\"type\":\"value\",\"value\":1.0}}},\"nonselection_glyph\":{\"type\":\"object\",\"name\":\"VBar\",\"id\":\"5c949d54-105c-46a7-b5dd-ff6f53d83328\",\"attributes\":{\"tags\":[\"apply_ranges\"],\"x\":{\"type\":\"field\",\"field\":\"post_str_b3\"},\"width\":{\"type\":\"value\",\"value\":0.8},\"top\":{\"type\":\"field\",\"field\":\"percent\"},\"line_alpha\":{\"type\":\"value\",\"value\":0.1},\"fill_color\":{\"type\":\"value\",\"value\":\"#30a2da\"},\"fill_alpha\":{\"type\":\"value\",\"value\":0.1},\"hatch_color\":{\"type\":\"value\",\"value\":\"#30a2da\"},\"hatch_alpha\":{\"type\":\"value\",\"value\":0.1}}},\"muted_glyph\":{\"type\":\"object\",\"name\":\"VBar\",\"id\":\"2f748bda-b4ab-44fc-8f13-61d1355b6271\",\"attributes\":{\"tags\":[\"apply_ranges\"],\"x\":{\"type\":\"field\",\"field\":\"post_str_b3\"},\"width\":{\"type\":\"value\",\"value\":0.8},\"top\":{\"type\":\"field\",\"field\":\"percent\"},\"line_alpha\":{\"type\":\"value\",\"value\":0.2},\"fill_color\":{\"type\":\"value\",\"value\":\"#30a2da\"},\"fill_alpha\":{\"type\":\"value\",\"value\":0.2},\"hatch_color\":{\"type\":\"value\",\"value\":\"#30a2da\"},\"hatch_alpha\":{\"type\":\"value\",\"value\":0.2}}}}},{\"type\":\"object\",\"name\":\"Span\",\"id\":\"5781696f-5857-4fa1-b20e-8442dbd0f2a0\",\"attributes\":{\"level\":\"glyph\",\"location\":3.333333333333334,\"line_color\":\"red\",\"line_width\":3}},{\"type\":\"object\",\"name\":\"Span\",\"id\":\"898c44a7-f231-4112-b7cd-22a5cbb7a80b\",\"attributes\":{\"level\":\"glyph\",\"location\":5.000000000000001,\"line_color\":\"blue\",\"line_width\":3}},{\"type\":\"object\",\"name\":\"Span\",\"id\":\"95aa5fc5-c67c-4554-b0d7-180e5f8c0991\",\"attributes\":{\"level\":\"glyph\",\"location\":1.666666666666667,\"line_color\":\"blue\",\"line_width\":3}}],\"toolbar\":{\"type\":\"object\",\"name\":\"Toolbar\",\"id\":\"75ff69f2-b878-4f5b-a18a-8131a8d846ae\",\"attributes\":{\"tools\":[{\"type\":\"object\",\"name\":\"WheelZoomTool\",\"id\":\"6809cc62-998e-4251-b34e-2aa8bdd89962\",\"attributes\":{\"tags\":[\"hv_created\"],\"renderers\":\"auto\",\"zoom_together\":\"none\"}},{\"type\":\"object\",\"name\":\"HoverTool\",\"id\":\"80eadbfd-3661-44d8-8e36-4423f6fa13da\",\"attributes\":{\"tags\":[\"hv_created\"],\"renderers\":[{\"id\":\"b8de756b-301d-4bd1-904b-dfec32b649d6\"}],\"tooltips\":[[\"post_str_b3\",\"@{post_str_b3}\"],[\"percent\",\"@{percent}\"]]}},{\"type\":\"object\",\"name\":\"SaveTool\",\"id\":\"1176d9b4-a015-481a-8ee6-0792089a13be\"},{\"type\":\"object\",\"name\":\"PanTool\",\"id\":\"d839f1dc-0c8a-4bbe-abc9-3e5073c19065\"},{\"type\":\"object\",\"name\":\"BoxZoomTool\",\"id\":\"ea3a312a-750e-43e4-afb3-1ff8d63e4614\",\"attributes\":{\"dimensions\":\"both\",\"overlay\":{\"type\":\"object\",\"name\":\"BoxAnnotation\",\"id\":\"0c7fcd54-b6f0-4a84-bf6c-a080482e620a\",\"attributes\":{\"syncable\":false,\"line_color\":\"black\",\"line_alpha\":1.0,\"line_width\":2,\"line_dash\":[4,4],\"fill_color\":\"lightgrey\",\"fill_alpha\":0.5,\"level\":\"overlay\",\"visible\":false,\"left\":{\"type\":\"number\",\"value\":\"nan\"},\"right\":{\"type\":\"number\",\"value\":\"nan\"},\"top\":{\"type\":\"number\",\"value\":\"nan\"},\"bottom\":{\"type\":\"number\",\"value\":\"nan\"},\"left_units\":\"canvas\",\"right_units\":\"canvas\",\"top_units\":\"canvas\",\"bottom_units\":\"canvas\",\"handles\":{\"type\":\"object\",\"name\":\"BoxInteractionHandles\",\"id\":\"49269c60-0c2e-465c-a6b9-fc84e6cef0ed\",\"attributes\":{\"all\":{\"type\":\"object\",\"name\":\"AreaVisuals\",\"id\":\"c1154f5b-3147-46f5-8f0f-97d584a97e94\",\"attributes\":{\"fill_color\":\"white\",\"hover_fill_color\":\"lightgray\"}}}}}}}},{\"type\":\"object\",\"name\":\"ResetTool\",\"id\":\"af9331f0-a405-49e7-9a3d-6168be9c2a48\"}],\"active_drag\":{\"id\":\"d839f1dc-0c8a-4bbe-abc9-3e5073c19065\"}}},\"left\":[{\"type\":\"object\",\"name\":\"LinearAxis\",\"id\":\"391046fc-584f-47ff-9981-fee5d2ddde40\",\"attributes\":{\"ticker\":{\"type\":\"object\",\"name\":\"BasicTicker\",\"id\":\"07c6f6f6-b07b-41bf-9319-1f6775eecfab\",\"attributes\":{\"mantissas\":[1,2,5]}},\"formatter\":{\"type\":\"object\",\"name\":\"BasicTickFormatter\",\"id\":\"28525127-cf28-45dc-a781-9ac449fe3ecf\"},\"axis_label\":\"percent\",\"major_label_policy\":{\"type\":\"object\",\"name\":\"AllLabels\",\"id\":\"230b95f1-2ae8-4945-8e4d-e4c2e96101e7\"}}}],\"below\":[{\"type\":\"object\",\"name\":\"CategoricalAxis\",\"id\":\"d92acb87-cbaa-4529-a97c-ae1c43314750\",\"attributes\":{\"ticker\":{\"type\":\"object\",\"name\":\"CategoricalTicker\",\"id\":\"f4f8d067-4e27-4b99-95b0-6fede5f87743\"},\"formatter\":{\"type\":\"object\",\"name\":\"CategoricalTickFormatter\",\"id\":\"0e1b22b0-9e29-4930-a34c-5e1704223146\"},\"axis_label\":\"post_str_b3\",\"major_label_policy\":{\"type\":\"object\",\"name\":\"AllLabels\",\"id\":\"a4944277-6f59-4de8-841c-6caeaec5271f\"}}}],\"center\":[{\"type\":\"object\",\"name\":\"Grid\",\"id\":\"7fd44f7f-53ef-4ca0-bd49-f6b09cca28d6\",\"attributes\":{\"axis\":{\"id\":\"d92acb87-cbaa-4529-a97c-ae1c43314750\"},\"grid_line_color\":null}},{\"type\":\"object\",\"name\":\"Grid\",\"id\":\"8741ccc4-09a4-42d3-8836-34a02e30e6a4\",\"attributes\":{\"dimension\":1,\"axis\":{\"id\":\"391046fc-584f-47ff-9981-fee5d2ddde40\"},\"grid_line_color\":null}}],\"min_border_top\":10,\"min_border_bottom\":10,\"min_border_left\":10,\"min_border_right\":10,\"output_backend\":\"webgl\"}},{\"type\":\"object\",\"name\":\"Spacer\",\"id\":\"4c0c7b9d-d259-402f-8914-5136b4e1cc61\",\"attributes\":{\"name\":\"HSpacer00436\",\"stylesheets\":[\"\\n:host(.pn-loading):before, .pn-loading:before {\\n  background-color: #c3c3c3;\\n  mask-size: auto calc(min(50%, 400px));\\n  -webkit-mask-size: auto calc(min(50%, 400px));\\n}\",{\"id\":\"f9e38925-4640-4f75-83ac-1cabc9613ee2\"},{\"id\":\"9950e447-e492-4893-aa3b-239979b60735\"},{\"id\":\"6a2e7e56-e981-4c80-aae9-6eb61f6a6d69\"}],\"margin\":0,\"sizing_mode\":\"stretch_width\",\"align\":\"start\"}}]}}],\"defs\":[{\"type\":\"model\",\"name\":\"ReactiveHTML1\"},{\"type\":\"model\",\"name\":\"FlexBox1\",\"properties\":[{\"name\":\"align_content\",\"kind\":\"Any\",\"default\":\"flex-start\"},{\"name\":\"align_items\",\"kind\":\"Any\",\"default\":\"flex-start\"},{\"name\":\"flex_direction\",\"kind\":\"Any\",\"default\":\"row\"},{\"name\":\"flex_wrap\",\"kind\":\"Any\",\"default\":\"wrap\"},{\"name\":\"gap\",\"kind\":\"Any\",\"default\":\"\"},{\"name\":\"justify_content\",\"kind\":\"Any\",\"default\":\"flex-start\"}]},{\"type\":\"model\",\"name\":\"FloatPanel1\",\"properties\":[{\"name\":\"config\",\"kind\":\"Any\",\"default\":{\"type\":\"map\"}},{\"name\":\"contained\",\"kind\":\"Any\",\"default\":true},{\"name\":\"position\",\"kind\":\"Any\",\"default\":\"right-top\"},{\"name\":\"offsetx\",\"kind\":\"Any\",\"default\":null},{\"name\":\"offsety\",\"kind\":\"Any\",\"default\":null},{\"name\":\"theme\",\"kind\":\"Any\",\"default\":\"primary\"},{\"name\":\"status\",\"kind\":\"Any\",\"default\":\"normalized\"}]},{\"type\":\"model\",\"name\":\"GridStack1\",\"properties\":[{\"name\":\"ncols\",\"kind\":\"Any\",\"default\":null},{\"name\":\"nrows\",\"kind\":\"Any\",\"default\":null},{\"name\":\"allow_resize\",\"kind\":\"Any\",\"default\":true},{\"name\":\"allow_drag\",\"kind\":\"Any\",\"default\":true},{\"name\":\"state\",\"kind\":\"Any\",\"default\":[]}]},{\"type\":\"model\",\"name\":\"drag1\",\"properties\":[{\"name\":\"slider_width\",\"kind\":\"Any\",\"default\":5},{\"name\":\"slider_color\",\"kind\":\"Any\",\"default\":\"black\"},{\"name\":\"value\",\"kind\":\"Any\",\"default\":50}]},{\"type\":\"model\",\"name\":\"click1\",\"properties\":[{\"name\":\"terminal_output\",\"kind\":\"Any\",\"default\":\"\"},{\"name\":\"debug_name\",\"kind\":\"Any\",\"default\":\"\"},{\"name\":\"clears\",\"kind\":\"Any\",\"default\":0}]},{\"type\":\"model\",\"name\":\"FastWrapper1\",\"properties\":[{\"name\":\"object\",\"kind\":\"Any\",\"default\":null},{\"name\":\"style\",\"kind\":\"Any\",\"default\":null}]},{\"type\":\"model\",\"name\":\"NotificationArea1\",\"properties\":[{\"name\":\"js_events\",\"kind\":\"Any\",\"default\":{\"type\":\"map\"}},{\"name\":\"max_notifications\",\"kind\":\"Any\",\"default\":5},{\"name\":\"notifications\",\"kind\":\"Any\",\"default\":[]},{\"name\":\"position\",\"kind\":\"Any\",\"default\":\"bottom-right\"},{\"name\":\"_clear\",\"kind\":\"Any\",\"default\":0},{\"name\":\"types\",\"kind\":\"Any\",\"default\":[{\"type\":\"map\",\"entries\":[[\"type\",\"warning\"],[\"background\",\"#ffc107\"],[\"icon\",{\"type\":\"map\",\"entries\":[[\"className\",\"fas fa-exclamation-triangle\"],[\"tagName\",\"i\"],[\"color\",\"white\"]]}]]},{\"type\":\"map\",\"entries\":[[\"type\",\"info\"],[\"background\",\"#007bff\"],[\"icon\",{\"type\":\"map\",\"entries\":[[\"className\",\"fas fa-info-circle\"],[\"tagName\",\"i\"],[\"color\",\"white\"]]}]]}]}]},{\"type\":\"model\",\"name\":\"Notification\",\"properties\":[{\"name\":\"background\",\"kind\":\"Any\",\"default\":null},{\"name\":\"duration\",\"kind\":\"Any\",\"default\":3000},{\"name\":\"icon\",\"kind\":\"Any\",\"default\":null},{\"name\":\"message\",\"kind\":\"Any\",\"default\":\"\"},{\"name\":\"notification_type\",\"kind\":\"Any\",\"default\":null},{\"name\":\"_rendered\",\"kind\":\"Any\",\"default\":false},{\"name\":\"_destroyed\",\"kind\":\"Any\",\"default\":false}]},{\"type\":\"model\",\"name\":\"TemplateActions1\",\"properties\":[{\"name\":\"open_modal\",\"kind\":\"Any\",\"default\":0},{\"name\":\"close_modal\",\"kind\":\"Any\",\"default\":0}]},{\"type\":\"model\",\"name\":\"BootstrapTemplateActions1\",\"properties\":[{\"name\":\"open_modal\",\"kind\":\"Any\",\"default\":0},{\"name\":\"close_modal\",\"kind\":\"Any\",\"default\":0}]},{\"type\":\"model\",\"name\":\"TemplateEditor1\",\"properties\":[{\"name\":\"layout\",\"kind\":\"Any\",\"default\":[]}]},{\"type\":\"model\",\"name\":\"MaterialTemplateActions1\",\"properties\":[{\"name\":\"open_modal\",\"kind\":\"Any\",\"default\":0},{\"name\":\"close_modal\",\"kind\":\"Any\",\"default\":0}]},{\"type\":\"model\",\"name\":\"ReactiveESM1\",\"properties\":[{\"name\":\"esm_constants\",\"kind\":\"Any\",\"default\":{\"type\":\"map\"}}]},{\"type\":\"model\",\"name\":\"JSComponent1\",\"properties\":[{\"name\":\"esm_constants\",\"kind\":\"Any\",\"default\":{\"type\":\"map\"}}]},{\"type\":\"model\",\"name\":\"ReactComponent1\",\"properties\":[{\"name\":\"esm_constants\",\"kind\":\"Any\",\"default\":{\"type\":\"map\"}}]},{\"type\":\"model\",\"name\":\"AnyWidgetComponent1\",\"properties\":[{\"name\":\"esm_constants\",\"kind\":\"Any\",\"default\":{\"type\":\"map\"}}]},{\"type\":\"model\",\"name\":\"request_value1\",\"properties\":[{\"name\":\"fill\",\"kind\":\"Any\",\"default\":\"none\"},{\"name\":\"_synced\",\"kind\":\"Any\",\"default\":null},{\"name\":\"_request_sync\",\"kind\":\"Any\",\"default\":0}]}]}};\n",
       "  var render_items = [{\"docid\":\"1c5db933-7240-48bf-a910-1f1b4da3f8b9\",\"roots\":{\"53161633-4dbc-496f-aa9d-23792767d5ce\":\"d55cbb21-e334-4e09-817f-019c3a65b30a\"},\"root_ids\":[\"53161633-4dbc-496f-aa9d-23792767d5ce\"]}];\n",
       "  var docs = Object.values(docs_json)\n",
       "  if (!docs) {\n",
       "    return\n",
       "  }\n",
       "  const py_version = docs[0].version.replace('rc', '-rc.').replace('.dev', '-dev.')\n",
       "  async function embed_document(root) {\n",
       "    var Bokeh = get_bokeh(root)\n",
       "    await Bokeh.embed.embed_items_notebook(docs_json, render_items);\n",
       "    for (const render_item of render_items) {\n",
       "      for (const root_id of render_item.root_ids) {\n",
       "\tconst id_el = document.getElementById(root_id)\n",
       "\tif (id_el.children.length && id_el.children[0].hasAttribute('data-root-id')) {\n",
       "\t  const root_el = id_el.children[0]\n",
       "\t  root_el.id = root_el.id + '-rendered'\n",
       "\t  for (const child of root_el.children) {\n",
       "            // Ensure JupyterLab does not capture keyboard shortcuts\n",
       "            // see: https://jupyterlab.readthedocs.io/en/4.1.x/extension/notebook.html#keyboard-interaction-model\n",
       "\t    child.setAttribute('data-lm-suppress-shortcuts', 'true')\n",
       "\t  }\n",
       "\t}\n",
       "      }\n",
       "    }\n",
       "  }\n",
       "  function get_bokeh(root) {\n",
       "    if (root.Bokeh === undefined) {\n",
       "      return null\n",
       "    } else if (root.Bokeh.version !== py_version) {\n",
       "      if (root.Bokeh.versions === undefined || !root.Bokeh.versions.has(py_version)) {\n",
       "\treturn null\n",
       "      }\n",
       "      return root.Bokeh.versions.get(py_version);\n",
       "    } else if (root.Bokeh.version === py_version) {\n",
       "      return root.Bokeh\n",
       "    }\n",
       "    return null\n",
       "  }\n",
       "  function is_loaded(root) {\n",
       "    var Bokeh = get_bokeh(root)\n",
       "    return (Bokeh != null && Bokeh.Panel !== undefined)\n",
       "  }\n",
       "  if (is_loaded(root)) {\n",
       "    embed_document(root);\n",
       "  } else {\n",
       "    var attempts = 0;\n",
       "    var timer = setInterval(function(root) {\n",
       "      if (is_loaded(root)) {\n",
       "        clearInterval(timer);\n",
       "        embed_document(root);\n",
       "      } else if (document.readyState == \"complete\") {\n",
       "        attempts++;\n",
       "        if (attempts > 200) {\n",
       "          clearInterval(timer);\n",
       "\t  var Bokeh = get_bokeh(root)\n",
       "\t  if (Bokeh == null || Bokeh.Panel == null) {\n",
       "            console.warn(\"Panel: ERROR: Unable to run Panel code because Bokeh or Panel library is missing\");\n",
       "\t  } else {\n",
       "\t    console.warn(\"Panel: WARNING: Attempting to render but not all required libraries could be resolved.\")\n",
       "\t    embed_document(root)\n",
       "\t  }\n",
       "        }\n",
       "      }\n",
       "    }, 25, root)\n",
       "  }\n",
       "})(window);</script>"
      ],
      "text/plain": [
       ":Overlay\n",
       "   .Bars.I    :Bars   [post_str_b3]   (percent)\n",
       "   .HLine.I   :HLine   [x,y]\n",
       "   .HLine.II  :HLine   [x,y]\n",
       "   .HLine.III :HLine   [x,y]"
      ]
     },
     "metadata": {
      "application/vnd.holoviews_exec.v0+json": {
       "id": "53161633-4dbc-496f-aa9d-23792767d5ce"
      }
     },
     "output_type": "display_data"
    },
    {
     "name": "stdout",
     "output_type": "stream",
     "text": [
      "df_10_last FOR str_b3 = 15\n",
      "Last 3 results last_results=['21', '18', '22']\n"
     ]
    },
    {
     "data": {
      "text/html": [
       "<div><style>\n",
       ".dataframe > thead > tr,\n",
       ".dataframe > tbody > tr {\n",
       "  text-align: right;\n",
       "  white-space: pre-wrap;\n",
       "}\n",
       "</style>\n",
       "<small>shape: (10, 24)</small><table border=\"1\" class=\"dataframe\"><thead><tr><th>fecha</th><th>sorteo</th><th>bolillas</th><th>id</th><th>combo</th><th>b1</th><th>b2</th><th>b3</th><th>b4</th><th>b5</th><th>str_b1</th><th>str_b2</th><th>str_b3</th><th>str_b4</th><th>str_b5</th><th>post_str_b1</th><th>post_str_b2</th><th>post_str_b3</th><th>post_str_b4</th><th>post_str_blast</th><th>is_rare_combination</th><th>reason</th><th>jumps_map</th><th>unijump</th></tr><tr><td>str</td><td>str</td><td>str</td><td>str</td><td>array[u8, 5]</td><td>u8</td><td>u8</td><td>u8</td><td>u8</td><td>u8</td><td>str</td><td>str</td><td>str</td><td>str</td><td>str</td><td>str</td><td>str</td><td>str</td><td>str</td><td>str</td><td>bool</td><td>u8</td><td>str</td><td>i64</td></tr></thead><tbody><tr><td>&quot;30/03/2025&quot;</td><td>&quot;4171&quot;</td><td>&quot;35 05 15 29 03&quot;</td><td>&quot;0305152935&quot;</td><td>[3, 5, … 35]</td><td>3</td><td>5</td><td>15</td><td>29</td><td>35</td><td>&quot;03&quot;</td><td>&quot;05&quot;</td><td>&quot;15&quot;</td><td>&quot;29&quot;</td><td>&quot;35&quot;</td><td>&quot;07&quot;</td><td>&quot;16&quot;</td><td>&quot;22&quot;</td><td>&quot;26&quot;</td><td>&quot;34&quot;</td><td>true</td><td>2</td><td>&quot;02_10_14_06&quot;</td><td>-8</td></tr><tr><td>&quot;15/03/2025&quot;</td><td>&quot;4156&quot;</td><td>&quot;16 15 05 27 02&quot;</td><td>&quot;0205151627&quot;</td><td>[2, 5, … 27]</td><td>2</td><td>5</td><td>15</td><td>16</td><td>27</td><td>&quot;02&quot;</td><td>&quot;05&quot;</td><td>&quot;15&quot;</td><td>&quot;16&quot;</td><td>&quot;27&quot;</td><td>&quot;10&quot;</td><td>&quot;16&quot;</td><td>&quot;21&quot;</td><td>&quot;26&quot;</td><td>&quot;30&quot;</td><td>true</td><td>16</td><td>&quot;03_10_01_11&quot;</td><td>35</td></tr><tr><td>&quot;12/03/2025&quot;</td><td>&quot;4153&quot;</td><td>&quot;28 14 35 03 15&quot;</td><td>&quot;0314152835&quot;</td><td>[3, 14, … 35]</td><td>3</td><td>14</td><td>15</td><td>28</td><td>35</td><td>&quot;03&quot;</td><td>&quot;14&quot;</td><td>&quot;15&quot;</td><td>&quot;28&quot;</td><td>&quot;35&quot;</td><td>&quot;07&quot;</td><td>&quot;17&quot;</td><td>&quot;18&quot;</td><td>&quot;19&quot;</td><td>&quot;30&quot;</td><td>false</td><td>0</td><td>&quot;11_01_13_07&quot;</td><td>-40</td></tr><tr><td>&quot;09/03/2025&quot;</td><td>&quot;4150&quot;</td><td>&quot;15 04 16 31 02&quot;</td><td>&quot;0204151631&quot;</td><td>[2, 4, … 31]</td><td>2</td><td>4</td><td>15</td><td>16</td><td>31</td><td>&quot;02&quot;</td><td>&quot;04&quot;</td><td>&quot;15&quot;</td><td>&quot;16&quot;</td><td>&quot;31&quot;</td><td>&quot;06&quot;</td><td>&quot;15&quot;</td><td>&quot;19&quot;</td><td>&quot;26&quot;</td><td>&quot;29&quot;</td><td>false</td><td>0</td><td>&quot;02_11_01_15&quot;</td><td>43</td></tr><tr><td>&quot;14/02/2025&quot;</td><td>&quot;4127&quot;</td><td>&quot;15 09 28 26 14&quot;</td><td>&quot;0914152628&quot;</td><td>[9, 14, … 28]</td><td>9</td><td>14</td><td>15</td><td>26</td><td>28</td><td>&quot;09&quot;</td><td>&quot;14&quot;</td><td>&quot;15&quot;</td><td>&quot;26&quot;</td><td>&quot;28&quot;</td><td>&quot;09&quot;</td><td>&quot;21&quot;</td><td>&quot;26&quot;</td><td>&quot;31&quot;</td><td>&quot;32&quot;</td><td>true</td><td>16</td><td>&quot;05_01_11_02&quot;</td><td>-33</td></tr><tr><td>&quot;24/01/2025&quot;</td><td>&quot;4106&quot;</td><td>&quot;07 03 28 15 31&quot;</td><td>&quot;0307152831&quot;</td><td>[3, 7, … 31]</td><td>3</td><td>7</td><td>15</td><td>28</td><td>31</td><td>&quot;03&quot;</td><td>&quot;07&quot;</td><td>&quot;15&quot;</td><td>&quot;28&quot;</td><td>&quot;31&quot;</td><td>&quot;06&quot;</td><td>&quot;07&quot;</td><td>&quot;25&quot;</td><td>&quot;29&quot;</td><td>&quot;31&quot;</td><td>false</td><td>0</td><td>&quot;04_08_13_03&quot;</td><td>-16</td></tr><tr><td>&quot;03/01/2025&quot;</td><td>&quot;4085&quot;</td><td>&quot;13 04 15 34 18&quot;</td><td>&quot;0413151834&quot;</td><td>[4, 13, … 34]</td><td>4</td><td>13</td><td>15</td><td>18</td><td>34</td><td>&quot;04&quot;</td><td>&quot;13&quot;</td><td>&quot;15&quot;</td><td>&quot;18&quot;</td><td>&quot;34&quot;</td><td>&quot;06&quot;</td><td>&quot;10&quot;</td><td>&quot;19&quot;</td><td>&quot;29&quot;</td><td>&quot;32&quot;</td><td>true</td><td>16</td><td>&quot;09_02_03_16&quot;</td><td>4</td></tr><tr><td>&quot;31/12/2024&quot;</td><td>&quot;4082&quot;</td><td>&quot;01 13 16 24 15&quot;</td><td>&quot;0113151624&quot;</td><td>[1, 13, … 24]</td><td>1</td><td>13</td><td>15</td><td>16</td><td>24</td><td>&quot;01&quot;</td><td>&quot;13&quot;</td><td>&quot;15&quot;</td><td>&quot;16&quot;</td><td>&quot;24&quot;</td><td>&quot;17&quot;</td><td>&quot;18&quot;</td><td>&quot;29&quot;</td><td>&quot;32&quot;</td><td>&quot;35&quot;</td><td>false</td><td>0</td><td>&quot;12_02_01_08&quot;</td><td>-1</td></tr><tr><td>&quot;29/12/2024&quot;</td><td>&quot;4080&quot;</td><td>&quot;15 30 34 01 07&quot;</td><td>&quot;0107153034&quot;</td><td>[1, 7, … 34]</td><td>1</td><td>7</td><td>15</td><td>30</td><td>34</td><td>&quot;01&quot;</td><td>&quot;07&quot;</td><td>&quot;15&quot;</td><td>&quot;30&quot;</td><td>&quot;34&quot;</td><td>&quot;10&quot;</td><td>&quot;12&quot;</td><td>&quot;17&quot;</td><td>&quot;31&quot;</td><td>&quot;32&quot;</td><td>true</td><td>16</td><td>&quot;06_08_15_04&quot;</td><td>-23</td></tr><tr><td>&quot;24/12/2024&quot;</td><td>&quot;4075&quot;</td><td>&quot;07 03 24 18 15&quot;</td><td>&quot;0307151824&quot;</td><td>[3, 7, … 24]</td><td>3</td><td>7</td><td>15</td><td>18</td><td>24</td><td>&quot;03&quot;</td><td>&quot;07&quot;</td><td>&quot;15&quot;</td><td>&quot;18&quot;</td><td>&quot;24&quot;</td><td>&quot;05&quot;</td><td>&quot;14&quot;</td><td>&quot;18&quot;</td><td>&quot;21&quot;</td><td>&quot;28&quot;</td><td>false</td><td>0</td><td>&quot;04_08_03_06&quot;</td><td>17</td></tr></tbody></table></div>"
      ],
      "text/plain": [
       "shape: (10, 24)\n",
       "┌────────────┬────────┬─────────────┬────────────┬───┬─────────────┬────────┬────────────┬─────────┐\n",
       "│ fecha      ┆ sorteo ┆ bolillas    ┆ id         ┆ … ┆ is_rare_com ┆ reason ┆ jumps_map  ┆ unijump │\n",
       "│ ---        ┆ ---    ┆ ---         ┆ ---        ┆   ┆ bination    ┆ ---    ┆ ---        ┆ ---     │\n",
       "│ str        ┆ str    ┆ str         ┆ str        ┆   ┆ ---         ┆ u8     ┆ str        ┆ i64     │\n",
       "│            ┆        ┆             ┆            ┆   ┆ bool        ┆        ┆            ┆         │\n",
       "╞════════════╪════════╪═════════════╪════════════╪═══╪═════════════╪════════╪════════════╪═════════╡\n",
       "│ 30/03/2025 ┆ 4171   ┆ 35 05 15 29 ┆ 0305152935 ┆ … ┆ true        ┆ 2      ┆ 02_10_14_0 ┆ -8      │\n",
       "│            ┆        ┆ 03          ┆            ┆   ┆             ┆        ┆ 6          ┆         │\n",
       "│ 15/03/2025 ┆ 4156   ┆ 16 15 05 27 ┆ 0205151627 ┆ … ┆ true        ┆ 16     ┆ 03_10_01_1 ┆ 35      │\n",
       "│            ┆        ┆ 02          ┆            ┆   ┆             ┆        ┆ 1          ┆         │\n",
       "│ 12/03/2025 ┆ 4153   ┆ 28 14 35 03 ┆ 0314152835 ┆ … ┆ false       ┆ 0      ┆ 11_01_13_0 ┆ -40     │\n",
       "│            ┆        ┆ 15          ┆            ┆   ┆             ┆        ┆ 7          ┆         │\n",
       "│ 09/03/2025 ┆ 4150   ┆ 15 04 16 31 ┆ 0204151631 ┆ … ┆ false       ┆ 0      ┆ 02_11_01_1 ┆ 43      │\n",
       "│            ┆        ┆ 02          ┆            ┆   ┆             ┆        ┆ 5          ┆         │\n",
       "│ 14/02/2025 ┆ 4127   ┆ 15 09 28 26 ┆ 0914152628 ┆ … ┆ true        ┆ 16     ┆ 05_01_11_0 ┆ -33     │\n",
       "│            ┆        ┆ 14          ┆            ┆   ┆             ┆        ┆ 2          ┆         │\n",
       "│ 24/01/2025 ┆ 4106   ┆ 07 03 28 15 ┆ 0307152831 ┆ … ┆ false       ┆ 0      ┆ 04_08_13_0 ┆ -16     │\n",
       "│            ┆        ┆ 31          ┆            ┆   ┆             ┆        ┆ 3          ┆         │\n",
       "│ 03/01/2025 ┆ 4085   ┆ 13 04 15 34 ┆ 0413151834 ┆ … ┆ true        ┆ 16     ┆ 09_02_03_1 ┆ 4       │\n",
       "│            ┆        ┆ 18          ┆            ┆   ┆             ┆        ┆ 6          ┆         │\n",
       "│ 31/12/2024 ┆ 4082   ┆ 01 13 16 24 ┆ 0113151624 ┆ … ┆ false       ┆ 0      ┆ 12_02_01_0 ┆ -1      │\n",
       "│            ┆        ┆ 15          ┆            ┆   ┆             ┆        ┆ 8          ┆         │\n",
       "│ 29/12/2024 ┆ 4080   ┆ 15 30 34 01 ┆ 0107153034 ┆ … ┆ true        ┆ 16     ┆ 06_08_15_0 ┆ -23     │\n",
       "│            ┆        ┆ 07          ┆            ┆   ┆             ┆        ┆ 4          ┆         │\n",
       "│ 24/12/2024 ┆ 4075   ┆ 07 03 24 18 ┆ 0307151824 ┆ … ┆ false       ┆ 0      ┆ 04_08_03_0 ┆ 17      │\n",
       "│            ┆        ┆ 15          ┆            ┆   ┆             ┆        ┆ 6          ┆         │\n",
       "└────────────┴────────┴─────────────┴────────────┴───┴─────────────┴────────┴────────────┴─────────┘"
      ]
     },
     "metadata": {},
     "output_type": "display_data"
    },
    {
     "name": "stdout",
     "output_type": "stream",
     "text": [
      "df_jumps_map FOR str_b3 = 15\n"
     ]
    },
    {
     "data": {
      "text/html": [
       "<div><style>\n",
       ".dataframe > thead > tr,\n",
       ".dataframe > tbody > tr {\n",
       "  text-align: right;\n",
       "  white-space: pre-wrap;\n",
       "}\n",
       "</style>\n",
       "<small>shape: (415, 2)</small><table border=\"1\" class=\"dataframe\"><thead><tr><th>jumps_map</th><th>count</th></tr><tr><td>str</td><td>u32</td></tr></thead><tbody><tr><td>&quot;12_01_02_09&quot;</td><td>2</td></tr><tr><td>&quot;08_03_05_12&quot;</td><td>2</td></tr><tr><td>&quot;01_03_06_05&quot;</td><td>2</td></tr><tr><td>&quot;01_04_13_07&quot;</td><td>2</td></tr><tr><td>&quot;01_03_02_09&quot;</td><td>2</td></tr><tr><td>&hellip;</td><td>&hellip;</td></tr><tr><td>&quot;04_04_09_08&quot;</td><td>1</td></tr><tr><td>&quot;06_06_01_14&quot;</td><td>1</td></tr><tr><td>&quot;06_08_16_04&quot;</td><td>1</td></tr><tr><td>&quot;05_06_08_03&quot;</td><td>1</td></tr><tr><td>&quot;06_03_02_08&quot;</td><td>1</td></tr></tbody></table></div>"
      ],
      "text/plain": [
       "shape: (415, 2)\n",
       "┌─────────────┬───────┐\n",
       "│ jumps_map   ┆ count │\n",
       "│ ---         ┆ ---   │\n",
       "│ str         ┆ u32   │\n",
       "╞═════════════╪═══════╡\n",
       "│ 12_01_02_09 ┆ 2     │\n",
       "│ 08_03_05_12 ┆ 2     │\n",
       "│ 01_03_06_05 ┆ 2     │\n",
       "│ 01_04_13_07 ┆ 2     │\n",
       "│ 01_03_02_09 ┆ 2     │\n",
       "│ …           ┆ …     │\n",
       "│ 04_04_09_08 ┆ 1     │\n",
       "│ 06_06_01_14 ┆ 1     │\n",
       "│ 06_08_16_04 ┆ 1     │\n",
       "│ 05_06_08_03 ┆ 1     │\n",
       "│ 06_03_02_08 ┆ 1     │\n",
       "└─────────────┴───────┘"
      ]
     },
     "metadata": {},
     "output_type": "display_data"
    },
    {
     "name": "stdout",
     "output_type": "stream",
     "text": [
      "df_unijump FOR str_b3 = 15\n"
     ]
    },
    {
     "data": {
      "text/html": [
       "<div><style>\n",
       ".dataframe > thead > tr,\n",
       ".dataframe > tbody > tr {\n",
       "  text-align: right;\n",
       "  white-space: pre-wrap;\n",
       "}\n",
       "</style>\n",
       "<small>shape: (90, 2)</small><table border=\"1\" class=\"dataframe\"><thead><tr><th>unijump</th><th>count</th></tr><tr><td>i64</td><td>u32</td></tr></thead><tbody><tr><td>-5</td><td>14</td></tr><tr><td>-14</td><td>13</td></tr><tr><td>6</td><td>12</td></tr><tr><td>-3</td><td>12</td></tr><tr><td>-10</td><td>10</td></tr><tr><td>&hellip;</td><td>&hellip;</td></tr><tr><td>37</td><td>1</td></tr><tr><td>-45</td><td>1</td></tr><tr><td>-19</td><td>1</td></tr><tr><td>28</td><td>1</td></tr><tr><td>51</td><td>1</td></tr></tbody></table></div>"
      ],
      "text/plain": [
       "shape: (90, 2)\n",
       "┌─────────┬───────┐\n",
       "│ unijump ┆ count │\n",
       "│ ---     ┆ ---   │\n",
       "│ i64     ┆ u32   │\n",
       "╞═════════╪═══════╡\n",
       "│ -5      ┆ 14    │\n",
       "│ -14     ┆ 13    │\n",
       "│ 6       ┆ 12    │\n",
       "│ -3      ┆ 12    │\n",
       "│ -10     ┆ 10    │\n",
       "│ …       ┆ …     │\n",
       "│ 37      ┆ 1     │\n",
       "│ -45     ┆ 1     │\n",
       "│ -19     ┆ 1     │\n",
       "│ 28      ┆ 1     │\n",
       "│ 51      ┆ 1     │\n",
       "└─────────┴───────┘"
      ]
     },
     "metadata": {},
     "output_type": "display_data"
    }
   ],
   "source": [
    "possible_b3, exclude_jump_maps_b3, last_post_b3 = plot_post_col(col='str_b3', post_col='post_str_b3')"
   ]
  },
  {
   "cell_type": "code",
   "execution_count": 11,
   "metadata": {},
   "outputs": [
    {
     "name": "stdout",
     "output_type": "stream",
     "text": [
      "Setting test_value='20'\n",
      "df_viz FOR str_b4 = 20\n"
     ]
    },
    {
     "data": {
      "text/html": [
       "<div><style>\n",
       ".dataframe > thead > tr,\n",
       ".dataframe > tbody > tr {\n",
       "  text-align: right;\n",
       "  white-space: pre-wrap;\n",
       "}\n",
       "</style>\n",
       "<small>shape: (30, 3)</small><table border=\"1\" class=\"dataframe\"><thead><tr><th>post_str_b4</th><th>count</th><th>percent</th></tr><tr><td>str</td><td>u32</td><td>f64</td></tr></thead><tbody><tr><td>&quot;28&quot;</td><td>28</td><td>8.408408</td></tr><tr><td>&quot;21&quot;</td><td>27</td><td>8.108108</td></tr><tr><td>&quot;25&quot;</td><td>23</td><td>6.906907</td></tr><tr><td>&quot;24&quot;</td><td>22</td><td>6.606607</td></tr><tr><td>&quot;22&quot;</td><td>19</td><td>5.705706</td></tr><tr><td>&hellip;</td><td>&hellip;</td><td>&hellip;</td></tr><tr><td>&quot;09&quot;</td><td>2</td><td>0.600601</td></tr><tr><td>&quot;05&quot;</td><td>1</td><td>0.3003</td></tr><tr><td>&quot;06&quot;</td><td>1</td><td>0.3003</td></tr><tr><td>&quot;04&quot;</td><td>1</td><td>0.3003</td></tr><tr><td>&quot;08&quot;</td><td>1</td><td>0.3003</td></tr></tbody></table></div>"
      ],
      "text/plain": [
       "shape: (30, 3)\n",
       "┌─────────────┬───────┬──────────┐\n",
       "│ post_str_b4 ┆ count ┆ percent  │\n",
       "│ ---         ┆ ---   ┆ ---      │\n",
       "│ str         ┆ u32   ┆ f64      │\n",
       "╞═════════════╪═══════╪══════════╡\n",
       "│ 28          ┆ 28    ┆ 8.408408 │\n",
       "│ 21          ┆ 27    ┆ 8.108108 │\n",
       "│ 25          ┆ 23    ┆ 6.906907 │\n",
       "│ 24          ┆ 22    ┆ 6.606607 │\n",
       "│ 22          ┆ 19    ┆ 5.705706 │\n",
       "│ …           ┆ …     ┆ …        │\n",
       "│ 09          ┆ 2     ┆ 0.600601 │\n",
       "│ 05          ┆ 1     ┆ 0.3003   │\n",
       "│ 06          ┆ 1     ┆ 0.3003   │\n",
       "│ 04          ┆ 1     ┆ 0.3003   │\n",
       "│ 08          ┆ 1     ┆ 0.3003   │\n",
       "└─────────────┴───────┴──────────┘"
      ]
     },
     "metadata": {},
     "output_type": "display_data"
    },
    {
     "data": {},
     "metadata": {},
     "output_type": "display_data"
    },
    {
     "data": {
      "application/vnd.holoviews_exec.v0+json": "",
      "text/html": [
       "<div id='4fb605d6-d21c-47c7-9de2-119d05bd2114'>\n",
       "  <div id=\"ff460fcd-63eb-4996-8572-dcb0e79ab232\" data-root-id=\"4fb605d6-d21c-47c7-9de2-119d05bd2114\" style=\"display: contents;\"></div>\n",
       "</div>\n",
       "<script type=\"application/javascript\">(function(root) {\n",
       "  var docs_json = {\"f4ce1f55-adf1-49f0-858b-258ecc87c745\":{\"version\":\"3.7.2\",\"title\":\"Bokeh Application\",\"roots\":[{\"type\":\"object\",\"name\":\"Row\",\"id\":\"4fb605d6-d21c-47c7-9de2-119d05bd2114\",\"attributes\":{\"name\":\"Row00502\",\"tags\":[\"embedded\"],\"stylesheets\":[\"\\n:host(.pn-loading):before, .pn-loading:before {\\n  background-color: #c3c3c3;\\n  mask-size: auto calc(min(50%, 400px));\\n  -webkit-mask-size: auto calc(min(50%, 400px));\\n}\",{\"type\":\"object\",\"name\":\"ImportedStyleSheet\",\"id\":\"7fd6a785-3377-4f37-adf5-3a190e19caac\",\"attributes\":{\"url\":\"https://cdn.holoviz.org/panel/1.6.2/dist/css/loading.css\"}},{\"type\":\"object\",\"name\":\"ImportedStyleSheet\",\"id\":\"f57e37d4-2b85-44d2-b867-2815869b23e6\",\"attributes\":{\"url\":\"https://cdn.holoviz.org/panel/1.6.2/dist/css/listpanel.css\"}},{\"type\":\"object\",\"name\":\"ImportedStyleSheet\",\"id\":\"efd194ea-e1fa-4863-968d-632ecfcd3803\",\"attributes\":{\"url\":\"https://cdn.holoviz.org/panel/1.6.2/dist/bundled/theme/default.css\"}},{\"type\":\"object\",\"name\":\"ImportedStyleSheet\",\"id\":\"b059bfab-11cc-488a-9438-8b0f37667a1e\",\"attributes\":{\"url\":\"https://cdn.holoviz.org/panel/1.6.2/dist/bundled/theme/native.css\"}}],\"min_width\":700,\"margin\":0,\"sizing_mode\":\"stretch_width\",\"align\":\"start\",\"children\":[{\"type\":\"object\",\"name\":\"Spacer\",\"id\":\"5b7ae133-254c-4655-ae20-9e6767f9cef4\",\"attributes\":{\"name\":\"HSpacer00506\",\"stylesheets\":[\"\\n:host(.pn-loading):before, .pn-loading:before {\\n  background-color: #c3c3c3;\\n  mask-size: auto calc(min(50%, 400px));\\n  -webkit-mask-size: auto calc(min(50%, 400px));\\n}\",{\"id\":\"7fd6a785-3377-4f37-adf5-3a190e19caac\"},{\"id\":\"efd194ea-e1fa-4863-968d-632ecfcd3803\"},{\"id\":\"b059bfab-11cc-488a-9438-8b0f37667a1e\"}],\"margin\":0,\"sizing_mode\":\"stretch_width\",\"align\":\"start\"}},{\"type\":\"object\",\"name\":\"Figure\",\"id\":\"d09294f2-086c-4dd4-8595-bfaad8fbcabc\",\"attributes\":{\"width\":700,\"height\":300,\"margin\":[5,10],\"sizing_mode\":\"fixed\",\"align\":\"start\",\"x_range\":{\"type\":\"object\",\"name\":\"FactorRange\",\"id\":\"b092510c-f636-48f8-bd43-9daee518382a\",\"attributes\":{\"name\":\"post_str_b4\",\"tags\":[[[\"post_str_b4\",null]],[]],\"factors\":[\"28\",\"21\",\"25\",\"24\",\"22\",\"27\",\"20\",\"23\",\"26\",\"19\",\"29\",\"32\",\"30\",\"15\",\"31\",\"14\",\"33\",\"18\",\"16\",\"34\",\"17\",\"10\",\"13\",\"11\",\"12\",\"09\",\"05\",\"06\",\"04\",\"08\"]}},\"y_range\":{\"type\":\"object\",\"name\":\"Range1d\",\"id\":\"8b23f808-d347-4b7c-a438-321b0c875a1a\",\"attributes\":{\"name\":\"percent\",\"tags\":[[[\"percent\",null]],{\"type\":\"map\",\"entries\":[[\"invert_yaxis\",false],[\"autorange\",false]]}],\"end\":9.219219219219218,\"reset_start\":0.0,\"reset_end\":9.219219219219218}},\"x_scale\":{\"type\":\"object\",\"name\":\"CategoricalScale\",\"id\":\"cb36e85f-e997-42a8-bb0b-2505e27e853b\"},\"y_scale\":{\"type\":\"object\",\"name\":\"LinearScale\",\"id\":\"ea6c3377-2487-4fd0-869d-322f3bc5da7f\"},\"title\":{\"type\":\"object\",\"name\":\"Title\",\"id\":\"98c9cb17-9f33-4027-979e-96a6face02b5\",\"attributes\":{\"text_color\":\"black\",\"text_font_size\":\"12pt\"}},\"renderers\":[{\"type\":\"object\",\"name\":\"GlyphRenderer\",\"id\":\"ab53a9a0-aa6c-41e7-873f-6daddb834fc5\",\"attributes\":{\"data_source\":{\"type\":\"object\",\"name\":\"ColumnDataSource\",\"id\":\"e7ac907f-06df-4db8-a8f0-63decd6231e5\",\"attributes\":{\"selected\":{\"type\":\"object\",\"name\":\"Selection\",\"id\":\"107087ab-80d6-4597-b218-411c8beb1bc8\",\"attributes\":{\"indices\":[],\"line_indices\":[]}},\"selection_policy\":{\"type\":\"object\",\"name\":\"UnionRenderers\",\"id\":\"a0c80e85-fb9d-4721-affa-52300a246464\"},\"data\":{\"type\":\"map\",\"entries\":[[\"post_str_b4\",[\"28\",\"21\",\"25\",\"24\",\"22\",\"27\",\"20\",\"23\",\"26\",\"19\",\"29\",\"32\",\"30\",\"15\",\"31\",\"14\",\"33\",\"18\",\"16\",\"34\",\"17\",\"10\",\"13\",\"11\",\"12\",\"09\",\"05\",\"06\",\"04\",\"08\"]],[\"percent\",{\"type\":\"ndarray\",\"array\":{\"type\":\"bytes\",\"data\":\"EQ0r6BrRIEB2gynyWTcgQAq6RjSsoBtA0qZDSCptGkAqbTqEpNIWQPJZN5ginxVAukY0rKBrFEC6RjSsoGsUQIIzMcAeOBNAEQ0r6BrREEARDSvoGtEQQLPzT/gxOw9As/NP+DE7D0DSpkNIKm0KQGKAPXAmBghA8lk3mCKfBUDyWTeYIp8FQIIzMcAeOANAgjMxwB44A0ARDSvoGtEAQBENK+ga0QBAQ81JIC7U/D9igD1wJgb4P0PNSSAu1Ow/Q81JIC7U7D+CMzHAHjjjP4IzMcAeONM/gjMxwB440z+CMzHAHjjTP4IzMcAeONM/\"},\"shape\":[30],\"dtype\":\"float64\",\"order\":\"little\"}]]}}},\"view\":{\"type\":\"object\",\"name\":\"CDSView\",\"id\":\"780753e2-9caf-4188-8e8a-b1ad4d957ec9\",\"attributes\":{\"filter\":{\"type\":\"object\",\"name\":\"AllIndices\",\"id\":\"6a7b2d7d-3368-40ce-a8f9-0fa9ac9f8a32\"}}},\"glyph\":{\"type\":\"object\",\"name\":\"VBar\",\"id\":\"dda5858c-b7f0-4a72-8635-fa8ed21c4610\",\"attributes\":{\"tags\":[\"apply_ranges\"],\"x\":{\"type\":\"field\",\"field\":\"post_str_b4\"},\"width\":{\"type\":\"value\",\"value\":0.8},\"top\":{\"type\":\"field\",\"field\":\"percent\"},\"fill_color\":{\"type\":\"value\",\"value\":\"#30a2da\"},\"hatch_color\":{\"type\":\"value\",\"value\":\"#30a2da\"}}},\"selection_glyph\":{\"type\":\"object\",\"name\":\"VBar\",\"id\":\"207448fb-32bd-4128-8ba7-432bcb8d6021\",\"attributes\":{\"tags\":[\"apply_ranges\"],\"x\":{\"type\":\"field\",\"field\":\"post_str_b4\"},\"width\":{\"type\":\"value\",\"value\":0.8},\"bottom\":{\"type\":\"value\",\"value\":0},\"top\":{\"type\":\"field\",\"field\":\"percent\"},\"line_color\":{\"type\":\"value\",\"value\":\"black\"},\"line_alpha\":{\"type\":\"value\",\"value\":1.0},\"line_width\":{\"type\":\"value\",\"value\":1},\"line_join\":{\"type\":\"value\",\"value\":\"bevel\"},\"line_cap\":{\"type\":\"value\",\"value\":\"butt\"},\"line_dash\":{\"type\":\"value\",\"value\":[]},\"line_dash_offset\":{\"type\":\"value\",\"value\":0},\"fill_color\":{\"type\":\"value\",\"value\":\"#30a2da\"},\"fill_alpha\":{\"type\":\"value\",\"value\":1.0},\"hatch_color\":{\"type\":\"value\",\"value\":\"#30a2da\"},\"hatch_alpha\":{\"type\":\"value\",\"value\":1.0},\"hatch_scale\":{\"type\":\"value\",\"value\":12.0},\"hatch_pattern\":{\"type\":\"value\",\"value\":null},\"hatch_weight\":{\"type\":\"value\",\"value\":1.0}}},\"nonselection_glyph\":{\"type\":\"object\",\"name\":\"VBar\",\"id\":\"34ad6286-4f0f-4cc3-82e2-e921c8b04cd7\",\"attributes\":{\"tags\":[\"apply_ranges\"],\"x\":{\"type\":\"field\",\"field\":\"post_str_b4\"},\"width\":{\"type\":\"value\",\"value\":0.8},\"top\":{\"type\":\"field\",\"field\":\"percent\"},\"line_alpha\":{\"type\":\"value\",\"value\":0.1},\"fill_color\":{\"type\":\"value\",\"value\":\"#30a2da\"},\"fill_alpha\":{\"type\":\"value\",\"value\":0.1},\"hatch_color\":{\"type\":\"value\",\"value\":\"#30a2da\"},\"hatch_alpha\":{\"type\":\"value\",\"value\":0.1}}},\"muted_glyph\":{\"type\":\"object\",\"name\":\"VBar\",\"id\":\"c991fc85-70cf-4e3c-91d4-e28d3f8647f5\",\"attributes\":{\"tags\":[\"apply_ranges\"],\"x\":{\"type\":\"field\",\"field\":\"post_str_b4\"},\"width\":{\"type\":\"value\",\"value\":0.8},\"top\":{\"type\":\"field\",\"field\":\"percent\"},\"line_alpha\":{\"type\":\"value\",\"value\":0.2},\"fill_color\":{\"type\":\"value\",\"value\":\"#30a2da\"},\"fill_alpha\":{\"type\":\"value\",\"value\":0.2},\"hatch_color\":{\"type\":\"value\",\"value\":\"#30a2da\"},\"hatch_alpha\":{\"type\":\"value\",\"value\":0.2}}}}},{\"type\":\"object\",\"name\":\"Span\",\"id\":\"dae3ae93-2f06-46b7-a541-cc6cc188ee18\",\"attributes\":{\"level\":\"glyph\",\"location\":3.3333333333333357,\"line_color\":\"red\",\"line_width\":3}},{\"type\":\"object\",\"name\":\"Span\",\"id\":\"a3b79640-53b0-4b71-a3c8-ad031bf93c24\",\"attributes\":{\"level\":\"glyph\",\"location\":5.0000000000000036,\"line_color\":\"blue\",\"line_width\":3}},{\"type\":\"object\",\"name\":\"Span\",\"id\":\"e09687e1-9818-4a30-a93f-ec3cadab916c\",\"attributes\":{\"level\":\"glyph\",\"location\":1.666666666666668,\"line_color\":\"blue\",\"line_width\":3}}],\"toolbar\":{\"type\":\"object\",\"name\":\"Toolbar\",\"id\":\"53a84076-a8c1-496e-89a4-27df38d9c8da\",\"attributes\":{\"tools\":[{\"type\":\"object\",\"name\":\"WheelZoomTool\",\"id\":\"9e9d5939-8914-4648-907a-2f70e6873bf8\",\"attributes\":{\"tags\":[\"hv_created\"],\"renderers\":\"auto\",\"zoom_together\":\"none\"}},{\"type\":\"object\",\"name\":\"HoverTool\",\"id\":\"a644099e-fc6b-48de-b9b7-88324cfa1f42\",\"attributes\":{\"tags\":[\"hv_created\"],\"renderers\":[{\"id\":\"ab53a9a0-aa6c-41e7-873f-6daddb834fc5\"}],\"tooltips\":[[\"post_str_b4\",\"@{post_str_b4}\"],[\"percent\",\"@{percent}\"]]}},{\"type\":\"object\",\"name\":\"SaveTool\",\"id\":\"5d228dfd-6fba-4309-8b6d-248def9bde3e\"},{\"type\":\"object\",\"name\":\"PanTool\",\"id\":\"58b1487a-4e59-47ef-b4ff-4d54472a9d14\"},{\"type\":\"object\",\"name\":\"BoxZoomTool\",\"id\":\"02116b08-0355-4766-b5e3-5ebb0335c394\",\"attributes\":{\"dimensions\":\"both\",\"overlay\":{\"type\":\"object\",\"name\":\"BoxAnnotation\",\"id\":\"678598b4-75da-4c89-90a5-43883205b4ad\",\"attributes\":{\"syncable\":false,\"line_color\":\"black\",\"line_alpha\":1.0,\"line_width\":2,\"line_dash\":[4,4],\"fill_color\":\"lightgrey\",\"fill_alpha\":0.5,\"level\":\"overlay\",\"visible\":false,\"left\":{\"type\":\"number\",\"value\":\"nan\"},\"right\":{\"type\":\"number\",\"value\":\"nan\"},\"top\":{\"type\":\"number\",\"value\":\"nan\"},\"bottom\":{\"type\":\"number\",\"value\":\"nan\"},\"left_units\":\"canvas\",\"right_units\":\"canvas\",\"top_units\":\"canvas\",\"bottom_units\":\"canvas\",\"handles\":{\"type\":\"object\",\"name\":\"BoxInteractionHandles\",\"id\":\"7360267b-9d1e-47e0-bf36-85976d012306\",\"attributes\":{\"all\":{\"type\":\"object\",\"name\":\"AreaVisuals\",\"id\":\"98e98cc0-e0fc-4230-a260-5bef9b5c7980\",\"attributes\":{\"fill_color\":\"white\",\"hover_fill_color\":\"lightgray\"}}}}}}}},{\"type\":\"object\",\"name\":\"ResetTool\",\"id\":\"aae997c2-78b7-43fa-a1cd-30fb5cd837cd\"}],\"active_drag\":{\"id\":\"58b1487a-4e59-47ef-b4ff-4d54472a9d14\"}}},\"left\":[{\"type\":\"object\",\"name\":\"LinearAxis\",\"id\":\"983a08be-e112-4a39-b1c1-9bb19ee6ba00\",\"attributes\":{\"ticker\":{\"type\":\"object\",\"name\":\"BasicTicker\",\"id\":\"3c402738-9a19-42ec-b438-59957a739285\",\"attributes\":{\"mantissas\":[1,2,5]}},\"formatter\":{\"type\":\"object\",\"name\":\"BasicTickFormatter\",\"id\":\"c74cb7d4-e869-4eb4-9943-f2981d6a8460\"},\"axis_label\":\"percent\",\"major_label_policy\":{\"type\":\"object\",\"name\":\"AllLabels\",\"id\":\"8005abae-2e30-4628-b660-02468eaca3df\"}}}],\"below\":[{\"type\":\"object\",\"name\":\"CategoricalAxis\",\"id\":\"c4756aa9-7f17-4d20-a22d-61ffb235ca0d\",\"attributes\":{\"ticker\":{\"type\":\"object\",\"name\":\"CategoricalTicker\",\"id\":\"85535b4f-f32a-42ec-b1b8-e3f635ec2ee1\"},\"formatter\":{\"type\":\"object\",\"name\":\"CategoricalTickFormatter\",\"id\":\"354e94ea-a4c7-4df6-a6ee-0f9c9e7b6927\"},\"axis_label\":\"post_str_b4\",\"major_label_policy\":{\"type\":\"object\",\"name\":\"AllLabels\",\"id\":\"c4eadb07-f3e0-465e-8c29-101b40bc5ccd\"}}}],\"center\":[{\"type\":\"object\",\"name\":\"Grid\",\"id\":\"e1dfc94a-9934-458b-a34e-cd717cc87ed2\",\"attributes\":{\"axis\":{\"id\":\"c4756aa9-7f17-4d20-a22d-61ffb235ca0d\"},\"grid_line_color\":null}},{\"type\":\"object\",\"name\":\"Grid\",\"id\":\"86f6e757-0cee-4dc1-8ca4-0438bd740e84\",\"attributes\":{\"dimension\":1,\"axis\":{\"id\":\"983a08be-e112-4a39-b1c1-9bb19ee6ba00\"},\"grid_line_color\":null}}],\"min_border_top\":10,\"min_border_bottom\":10,\"min_border_left\":10,\"min_border_right\":10,\"output_backend\":\"webgl\"}},{\"type\":\"object\",\"name\":\"Spacer\",\"id\":\"f80558a9-e102-43ce-8b7a-316479d27a44\",\"attributes\":{\"name\":\"HSpacer00507\",\"stylesheets\":[\"\\n:host(.pn-loading):before, .pn-loading:before {\\n  background-color: #c3c3c3;\\n  mask-size: auto calc(min(50%, 400px));\\n  -webkit-mask-size: auto calc(min(50%, 400px));\\n}\",{\"id\":\"7fd6a785-3377-4f37-adf5-3a190e19caac\"},{\"id\":\"efd194ea-e1fa-4863-968d-632ecfcd3803\"},{\"id\":\"b059bfab-11cc-488a-9438-8b0f37667a1e\"}],\"margin\":0,\"sizing_mode\":\"stretch_width\",\"align\":\"start\"}}]}}],\"defs\":[{\"type\":\"model\",\"name\":\"ReactiveHTML1\"},{\"type\":\"model\",\"name\":\"FlexBox1\",\"properties\":[{\"name\":\"align_content\",\"kind\":\"Any\",\"default\":\"flex-start\"},{\"name\":\"align_items\",\"kind\":\"Any\",\"default\":\"flex-start\"},{\"name\":\"flex_direction\",\"kind\":\"Any\",\"default\":\"row\"},{\"name\":\"flex_wrap\",\"kind\":\"Any\",\"default\":\"wrap\"},{\"name\":\"gap\",\"kind\":\"Any\",\"default\":\"\"},{\"name\":\"justify_content\",\"kind\":\"Any\",\"default\":\"flex-start\"}]},{\"type\":\"model\",\"name\":\"FloatPanel1\",\"properties\":[{\"name\":\"config\",\"kind\":\"Any\",\"default\":{\"type\":\"map\"}},{\"name\":\"contained\",\"kind\":\"Any\",\"default\":true},{\"name\":\"position\",\"kind\":\"Any\",\"default\":\"right-top\"},{\"name\":\"offsetx\",\"kind\":\"Any\",\"default\":null},{\"name\":\"offsety\",\"kind\":\"Any\",\"default\":null},{\"name\":\"theme\",\"kind\":\"Any\",\"default\":\"primary\"},{\"name\":\"status\",\"kind\":\"Any\",\"default\":\"normalized\"}]},{\"type\":\"model\",\"name\":\"GridStack1\",\"properties\":[{\"name\":\"ncols\",\"kind\":\"Any\",\"default\":null},{\"name\":\"nrows\",\"kind\":\"Any\",\"default\":null},{\"name\":\"allow_resize\",\"kind\":\"Any\",\"default\":true},{\"name\":\"allow_drag\",\"kind\":\"Any\",\"default\":true},{\"name\":\"state\",\"kind\":\"Any\",\"default\":[]}]},{\"type\":\"model\",\"name\":\"drag1\",\"properties\":[{\"name\":\"slider_width\",\"kind\":\"Any\",\"default\":5},{\"name\":\"slider_color\",\"kind\":\"Any\",\"default\":\"black\"},{\"name\":\"value\",\"kind\":\"Any\",\"default\":50}]},{\"type\":\"model\",\"name\":\"click1\",\"properties\":[{\"name\":\"terminal_output\",\"kind\":\"Any\",\"default\":\"\"},{\"name\":\"debug_name\",\"kind\":\"Any\",\"default\":\"\"},{\"name\":\"clears\",\"kind\":\"Any\",\"default\":0}]},{\"type\":\"model\",\"name\":\"FastWrapper1\",\"properties\":[{\"name\":\"object\",\"kind\":\"Any\",\"default\":null},{\"name\":\"style\",\"kind\":\"Any\",\"default\":null}]},{\"type\":\"model\",\"name\":\"NotificationArea1\",\"properties\":[{\"name\":\"js_events\",\"kind\":\"Any\",\"default\":{\"type\":\"map\"}},{\"name\":\"max_notifications\",\"kind\":\"Any\",\"default\":5},{\"name\":\"notifications\",\"kind\":\"Any\",\"default\":[]},{\"name\":\"position\",\"kind\":\"Any\",\"default\":\"bottom-right\"},{\"name\":\"_clear\",\"kind\":\"Any\",\"default\":0},{\"name\":\"types\",\"kind\":\"Any\",\"default\":[{\"type\":\"map\",\"entries\":[[\"type\",\"warning\"],[\"background\",\"#ffc107\"],[\"icon\",{\"type\":\"map\",\"entries\":[[\"className\",\"fas fa-exclamation-triangle\"],[\"tagName\",\"i\"],[\"color\",\"white\"]]}]]},{\"type\":\"map\",\"entries\":[[\"type\",\"info\"],[\"background\",\"#007bff\"],[\"icon\",{\"type\":\"map\",\"entries\":[[\"className\",\"fas fa-info-circle\"],[\"tagName\",\"i\"],[\"color\",\"white\"]]}]]}]}]},{\"type\":\"model\",\"name\":\"Notification\",\"properties\":[{\"name\":\"background\",\"kind\":\"Any\",\"default\":null},{\"name\":\"duration\",\"kind\":\"Any\",\"default\":3000},{\"name\":\"icon\",\"kind\":\"Any\",\"default\":null},{\"name\":\"message\",\"kind\":\"Any\",\"default\":\"\"},{\"name\":\"notification_type\",\"kind\":\"Any\",\"default\":null},{\"name\":\"_rendered\",\"kind\":\"Any\",\"default\":false},{\"name\":\"_destroyed\",\"kind\":\"Any\",\"default\":false}]},{\"type\":\"model\",\"name\":\"TemplateActions1\",\"properties\":[{\"name\":\"open_modal\",\"kind\":\"Any\",\"default\":0},{\"name\":\"close_modal\",\"kind\":\"Any\",\"default\":0}]},{\"type\":\"model\",\"name\":\"BootstrapTemplateActions1\",\"properties\":[{\"name\":\"open_modal\",\"kind\":\"Any\",\"default\":0},{\"name\":\"close_modal\",\"kind\":\"Any\",\"default\":0}]},{\"type\":\"model\",\"name\":\"TemplateEditor1\",\"properties\":[{\"name\":\"layout\",\"kind\":\"Any\",\"default\":[]}]},{\"type\":\"model\",\"name\":\"MaterialTemplateActions1\",\"properties\":[{\"name\":\"open_modal\",\"kind\":\"Any\",\"default\":0},{\"name\":\"close_modal\",\"kind\":\"Any\",\"default\":0}]},{\"type\":\"model\",\"name\":\"ReactiveESM1\",\"properties\":[{\"name\":\"esm_constants\",\"kind\":\"Any\",\"default\":{\"type\":\"map\"}}]},{\"type\":\"model\",\"name\":\"JSComponent1\",\"properties\":[{\"name\":\"esm_constants\",\"kind\":\"Any\",\"default\":{\"type\":\"map\"}}]},{\"type\":\"model\",\"name\":\"ReactComponent1\",\"properties\":[{\"name\":\"esm_constants\",\"kind\":\"Any\",\"default\":{\"type\":\"map\"}}]},{\"type\":\"model\",\"name\":\"AnyWidgetComponent1\",\"properties\":[{\"name\":\"esm_constants\",\"kind\":\"Any\",\"default\":{\"type\":\"map\"}}]},{\"type\":\"model\",\"name\":\"request_value1\",\"properties\":[{\"name\":\"fill\",\"kind\":\"Any\",\"default\":\"none\"},{\"name\":\"_synced\",\"kind\":\"Any\",\"default\":null},{\"name\":\"_request_sync\",\"kind\":\"Any\",\"default\":0}]}]}};\n",
       "  var render_items = [{\"docid\":\"f4ce1f55-adf1-49f0-858b-258ecc87c745\",\"roots\":{\"4fb605d6-d21c-47c7-9de2-119d05bd2114\":\"ff460fcd-63eb-4996-8572-dcb0e79ab232\"},\"root_ids\":[\"4fb605d6-d21c-47c7-9de2-119d05bd2114\"]}];\n",
       "  var docs = Object.values(docs_json)\n",
       "  if (!docs) {\n",
       "    return\n",
       "  }\n",
       "  const py_version = docs[0].version.replace('rc', '-rc.').replace('.dev', '-dev.')\n",
       "  async function embed_document(root) {\n",
       "    var Bokeh = get_bokeh(root)\n",
       "    await Bokeh.embed.embed_items_notebook(docs_json, render_items);\n",
       "    for (const render_item of render_items) {\n",
       "      for (const root_id of render_item.root_ids) {\n",
       "\tconst id_el = document.getElementById(root_id)\n",
       "\tif (id_el.children.length && id_el.children[0].hasAttribute('data-root-id')) {\n",
       "\t  const root_el = id_el.children[0]\n",
       "\t  root_el.id = root_el.id + '-rendered'\n",
       "\t  for (const child of root_el.children) {\n",
       "            // Ensure JupyterLab does not capture keyboard shortcuts\n",
       "            // see: https://jupyterlab.readthedocs.io/en/4.1.x/extension/notebook.html#keyboard-interaction-model\n",
       "\t    child.setAttribute('data-lm-suppress-shortcuts', 'true')\n",
       "\t  }\n",
       "\t}\n",
       "      }\n",
       "    }\n",
       "  }\n",
       "  function get_bokeh(root) {\n",
       "    if (root.Bokeh === undefined) {\n",
       "      return null\n",
       "    } else if (root.Bokeh.version !== py_version) {\n",
       "      if (root.Bokeh.versions === undefined || !root.Bokeh.versions.has(py_version)) {\n",
       "\treturn null\n",
       "      }\n",
       "      return root.Bokeh.versions.get(py_version);\n",
       "    } else if (root.Bokeh.version === py_version) {\n",
       "      return root.Bokeh\n",
       "    }\n",
       "    return null\n",
       "  }\n",
       "  function is_loaded(root) {\n",
       "    var Bokeh = get_bokeh(root)\n",
       "    return (Bokeh != null && Bokeh.Panel !== undefined)\n",
       "  }\n",
       "  if (is_loaded(root)) {\n",
       "    embed_document(root);\n",
       "  } else {\n",
       "    var attempts = 0;\n",
       "    var timer = setInterval(function(root) {\n",
       "      if (is_loaded(root)) {\n",
       "        clearInterval(timer);\n",
       "        embed_document(root);\n",
       "      } else if (document.readyState == \"complete\") {\n",
       "        attempts++;\n",
       "        if (attempts > 200) {\n",
       "          clearInterval(timer);\n",
       "\t  var Bokeh = get_bokeh(root)\n",
       "\t  if (Bokeh == null || Bokeh.Panel == null) {\n",
       "            console.warn(\"Panel: ERROR: Unable to run Panel code because Bokeh or Panel library is missing\");\n",
       "\t  } else {\n",
       "\t    console.warn(\"Panel: WARNING: Attempting to render but not all required libraries could be resolved.\")\n",
       "\t    embed_document(root)\n",
       "\t  }\n",
       "        }\n",
       "      }\n",
       "    }, 25, root)\n",
       "  }\n",
       "})(window);</script>"
      ],
      "text/plain": [
       ":Overlay\n",
       "   .Bars.I    :Bars   [post_str_b4]   (percent)\n",
       "   .HLine.I   :HLine   [x,y]\n",
       "   .HLine.II  :HLine   [x,y]\n",
       "   .HLine.III :HLine   [x,y]"
      ]
     },
     "metadata": {
      "application/vnd.holoviews_exec.v0+json": {
       "id": "4fb605d6-d21c-47c7-9de2-119d05bd2114"
      }
     },
     "output_type": "display_data"
    },
    {
     "name": "stdout",
     "output_type": "stream",
     "text": [
      "df_10_last FOR str_b4 = 20\n",
      "Last 3 results last_results=['28', '10', '30']\n"
     ]
    },
    {
     "data": {
      "text/html": [
       "<div><style>\n",
       ".dataframe > thead > tr,\n",
       ".dataframe > tbody > tr {\n",
       "  text-align: right;\n",
       "  white-space: pre-wrap;\n",
       "}\n",
       "</style>\n",
       "<small>shape: (10, 24)</small><table border=\"1\" class=\"dataframe\"><thead><tr><th>fecha</th><th>sorteo</th><th>bolillas</th><th>id</th><th>combo</th><th>b1</th><th>b2</th><th>b3</th><th>b4</th><th>b5</th><th>str_b1</th><th>str_b2</th><th>str_b3</th><th>str_b4</th><th>str_b5</th><th>post_str_b1</th><th>post_str_b2</th><th>post_str_b3</th><th>post_str_b4</th><th>post_str_blast</th><th>is_rare_combination</th><th>reason</th><th>jumps_map</th><th>unijump</th></tr><tr><td>str</td><td>str</td><td>str</td><td>str</td><td>array[u8, 5]</td><td>u8</td><td>u8</td><td>u8</td><td>u8</td><td>u8</td><td>str</td><td>str</td><td>str</td><td>str</td><td>str</td><td>str</td><td>str</td><td>str</td><td>str</td><td>str</td><td>bool</td><td>u8</td><td>str</td><td>i64</td></tr></thead><tbody><tr><td>&quot;08/04/2025&quot;</td><td>&quot;4180&quot;</td><td>&quot;10 20 30 05 16&quot;</td><td>&quot;0510162030&quot;</td><td>[5, 10, … 30]</td><td>5</td><td>10</td><td>16</td><td>20</td><td>30</td><td>&quot;05&quot;</td><td>&quot;10&quot;</td><td>&quot;16&quot;</td><td>&quot;20&quot;</td><td>&quot;30&quot;</td><td>&quot;04&quot;</td><td>&quot;20&quot;</td><td>&quot;21&quot;</td><td>&quot;28&quot;</td><td>&quot;29&quot;</td><td>false</td><td>0</td><td>&quot;05_06_04_10&quot;</td><td>11</td></tr><tr><td>&quot;28/03/2025&quot;</td><td>&quot;4169&quot;</td><td>&quot;20 10 01 09 29&quot;</td><td>&quot;0109102029&quot;</td><td>[1, 9, … 29]</td><td>1</td><td>9</td><td>10</td><td>20</td><td>29</td><td>&quot;01&quot;</td><td>&quot;09&quot;</td><td>&quot;10&quot;</td><td>&quot;20&quot;</td><td>&quot;29&quot;</td><td>&quot;04&quot;</td><td>&quot;06&quot;</td><td>&quot;09&quot;</td><td>&quot;10&quot;</td><td>&quot;23&quot;</td><td>true</td><td>16</td><td>&quot;08_01_10_09&quot;</td><td>-26</td></tr><tr><td>&quot;05/03/2025&quot;</td><td>&quot;4146&quot;</td><td>&quot;22 18 16 06 20&quot;</td><td>&quot;0616182022&quot;</td><td>[6, 16, … 22]</td><td>6</td><td>16</td><td>18</td><td>20</td><td>22</td><td>&quot;06&quot;</td><td>&quot;16&quot;</td><td>&quot;18&quot;</td><td>&quot;20&quot;</td><td>&quot;22&quot;</td><td>&quot;13&quot;</td><td>&quot;17&quot;</td><td>&quot;21&quot;</td><td>&quot;30&quot;</td><td>&quot;35&quot;</td><td>true</td><td>28</td><td>&quot;10_02_02_02&quot;</td><td>-8</td></tr><tr><td>&quot;18/02/2025&quot;</td><td>&quot;4131&quot;</td><td>&quot;26 13 05 20 01&quot;</td><td>&quot;0105132026&quot;</td><td>[1, 5, … 26]</td><td>1</td><td>5</td><td>13</td><td>20</td><td>26</td><td>&quot;01&quot;</td><td>&quot;05&quot;</td><td>&quot;13&quot;</td><td>&quot;20&quot;</td><td>&quot;26&quot;</td><td>&quot;18&quot;</td><td>&quot;20&quot;</td><td>&quot;21&quot;</td><td>&quot;27&quot;</td><td>&quot;28&quot;</td><td>false</td><td>0</td><td>&quot;04_08_07_06&quot;</td><td>5</td></tr><tr><td>&quot;06/02/2025&quot;</td><td>&quot;4119&quot;</td><td>&quot;11 14 25 20 06&quot;</td><td>&quot;0611142025&quot;</td><td>[6, 11, … 25]</td><td>6</td><td>11</td><td>14</td><td>20</td><td>25</td><td>&quot;06&quot;</td><td>&quot;11&quot;</td><td>&quot;14&quot;</td><td>&quot;20&quot;</td><td>&quot;25&quot;</td><td>&quot;08&quot;</td><td>&quot;17&quot;</td><td>&quot;23&quot;</td><td>&quot;28&quot;</td><td>&quot;35&quot;</td><td>true</td><td>16</td><td>&quot;05_03_06_05&quot;</td><td>-9</td></tr><tr><td>&quot;16/01/2025&quot;</td><td>&quot;4098&quot;</td><td>&quot;21 17 20 02 09&quot;</td><td>&quot;0209172021&quot;</td><td>[2, 9, … 21]</td><td>2</td><td>9</td><td>17</td><td>20</td><td>21</td><td>&quot;02&quot;</td><td>&quot;09&quot;</td><td>&quot;17&quot;</td><td>&quot;20&quot;</td><td>&quot;21&quot;</td><td>&quot;02&quot;</td><td>&quot;14&quot;</td><td>&quot;27&quot;</td><td>&quot;29&quot;</td><td>&quot;32&quot;</td><td>true</td><td>16</td><td>&quot;07_08_03_01&quot;</td><td>9</td></tr><tr><td>&quot;22/12/2024&quot;</td><td>&quot;4073&quot;</td><td>&quot;19 20 35 07 05&quot;</td><td>&quot;0507192035&quot;</td><td>[5, 7, … 35]</td><td>5</td><td>7</td><td>19</td><td>20</td><td>35</td><td>&quot;05&quot;</td><td>&quot;07&quot;</td><td>&quot;19&quot;</td><td>&quot;20&quot;</td><td>&quot;35&quot;</td><td>&quot;06&quot;</td><td>&quot;09&quot;</td><td>&quot;22&quot;</td><td>&quot;24&quot;</td><td>&quot;32&quot;</td><td>false</td><td>0</td><td>&quot;02_12_01_15&quot;</td><td>46</td></tr><tr><td>&quot;10/12/2024&quot;</td><td>&quot;4061&quot;</td><td>&quot;05 29 08 20 15&quot;</td><td>&quot;0508152029&quot;</td><td>[5, 8, … 29]</td><td>5</td><td>8</td><td>15</td><td>20</td><td>29</td><td>&quot;05&quot;</td><td>&quot;08&quot;</td><td>&quot;15&quot;</td><td>&quot;20&quot;</td><td>&quot;29&quot;</td><td>&quot;05&quot;</td><td>&quot;14&quot;</td><td>&quot;20&quot;</td><td>&quot;22&quot;</td><td>&quot;29&quot;</td><td>true</td><td>16</td><td>&quot;03_07_05_09&quot;</td><td>12</td></tr><tr><td>&quot;12/09/2024&quot;</td><td>&quot;3972&quot;</td><td>&quot;20 30 02 08 17&quot;</td><td>&quot;0208172030&quot;</td><td>[2, 8, … 30]</td><td>2</td><td>8</td><td>17</td><td>20</td><td>30</td><td>&quot;02&quot;</td><td>&quot;08&quot;</td><td>&quot;17&quot;</td><td>&quot;20&quot;</td><td>&quot;30&quot;</td><td>&quot;05&quot;</td><td>&quot;07&quot;</td><td>&quot;28&quot;</td><td>&quot;30&quot;</td><td>&quot;31&quot;</td><td>false</td><td>0</td><td>&quot;06_09_03_10&quot;</td><td>22</td></tr><tr><td>&quot;09/08/2024&quot;</td><td>&quot;3938&quot;</td><td>&quot;09 20 26 05 08&quot;</td><td>&quot;0508092026&quot;</td><td>[5, 8, … 26]</td><td>5</td><td>8</td><td>9</td><td>20</td><td>26</td><td>&quot;05&quot;</td><td>&quot;08&quot;</td><td>&quot;09&quot;</td><td>&quot;20&quot;</td><td>&quot;26&quot;</td><td>&quot;03&quot;</td><td>&quot;04&quot;</td><td>&quot;08&quot;</td><td>&quot;19&quot;</td><td>&quot;27&quot;</td><td>true</td><td>16</td><td>&quot;03_01_11_06&quot;</td><td>-27</td></tr></tbody></table></div>"
      ],
      "text/plain": [
       "shape: (10, 24)\n",
       "┌────────────┬────────┬─────────────┬────────────┬───┬─────────────┬────────┬────────────┬─────────┐\n",
       "│ fecha      ┆ sorteo ┆ bolillas    ┆ id         ┆ … ┆ is_rare_com ┆ reason ┆ jumps_map  ┆ unijump │\n",
       "│ ---        ┆ ---    ┆ ---         ┆ ---        ┆   ┆ bination    ┆ ---    ┆ ---        ┆ ---     │\n",
       "│ str        ┆ str    ┆ str         ┆ str        ┆   ┆ ---         ┆ u8     ┆ str        ┆ i64     │\n",
       "│            ┆        ┆             ┆            ┆   ┆ bool        ┆        ┆            ┆         │\n",
       "╞════════════╪════════╪═════════════╪════════════╪═══╪═════════════╪════════╪════════════╪═════════╡\n",
       "│ 08/04/2025 ┆ 4180   ┆ 10 20 30 05 ┆ 0510162030 ┆ … ┆ false       ┆ 0      ┆ 05_06_04_1 ┆ 11      │\n",
       "│            ┆        ┆ 16          ┆            ┆   ┆             ┆        ┆ 0          ┆         │\n",
       "│ 28/03/2025 ┆ 4169   ┆ 20 10 01 09 ┆ 0109102029 ┆ … ┆ true        ┆ 16     ┆ 08_01_10_0 ┆ -26     │\n",
       "│            ┆        ┆ 29          ┆            ┆   ┆             ┆        ┆ 9          ┆         │\n",
       "│ 05/03/2025 ┆ 4146   ┆ 22 18 16 06 ┆ 0616182022 ┆ … ┆ true        ┆ 28     ┆ 10_02_02_0 ┆ -8      │\n",
       "│            ┆        ┆ 20          ┆            ┆   ┆             ┆        ┆ 2          ┆         │\n",
       "│ 18/02/2025 ┆ 4131   ┆ 26 13 05 20 ┆ 0105132026 ┆ … ┆ false       ┆ 0      ┆ 04_08_07_0 ┆ 5       │\n",
       "│            ┆        ┆ 01          ┆            ┆   ┆             ┆        ┆ 6          ┆         │\n",
       "│ 06/02/2025 ┆ 4119   ┆ 11 14 25 20 ┆ 0611142025 ┆ … ┆ true        ┆ 16     ┆ 05_03_06_0 ┆ -9      │\n",
       "│            ┆        ┆ 06          ┆            ┆   ┆             ┆        ┆ 5          ┆         │\n",
       "│ 16/01/2025 ┆ 4098   ┆ 21 17 20 02 ┆ 0209172021 ┆ … ┆ true        ┆ 16     ┆ 07_08_03_0 ┆ 9       │\n",
       "│            ┆        ┆ 09          ┆            ┆   ┆             ┆        ┆ 1          ┆         │\n",
       "│ 22/12/2024 ┆ 4073   ┆ 19 20 35 07 ┆ 0507192035 ┆ … ┆ false       ┆ 0      ┆ 02_12_01_1 ┆ 46      │\n",
       "│            ┆        ┆ 05          ┆            ┆   ┆             ┆        ┆ 5          ┆         │\n",
       "│ 10/12/2024 ┆ 4061   ┆ 05 29 08 20 ┆ 0508152029 ┆ … ┆ true        ┆ 16     ┆ 03_07_05_0 ┆ 12      │\n",
       "│            ┆        ┆ 15          ┆            ┆   ┆             ┆        ┆ 9          ┆         │\n",
       "│ 12/09/2024 ┆ 3972   ┆ 20 30 02 08 ┆ 0208172030 ┆ … ┆ false       ┆ 0      ┆ 06_09_03_1 ┆ 22      │\n",
       "│            ┆        ┆ 17          ┆            ┆   ┆             ┆        ┆ 0          ┆         │\n",
       "│ 09/08/2024 ┆ 3938   ┆ 09 20 26 05 ┆ 0508092026 ┆ … ┆ true        ┆ 16     ┆ 03_01_11_0 ┆ -27     │\n",
       "│            ┆        ┆ 08          ┆            ┆   ┆             ┆        ┆ 6          ┆         │\n",
       "└────────────┴────────┴─────────────┴────────────┴───┴─────────────┴────────┴────────────┴─────────┘"
      ]
     },
     "metadata": {},
     "output_type": "display_data"
    },
    {
     "name": "stdout",
     "output_type": "stream",
     "text": [
      "df_jumps_map FOR str_b4 = 20\n"
     ]
    },
    {
     "data": {
      "text/html": [
       "<div><style>\n",
       ".dataframe > thead > tr,\n",
       ".dataframe > tbody > tr {\n",
       "  text-align: right;\n",
       "  white-space: pre-wrap;\n",
       "}\n",
       "</style>\n",
       "<small>shape: (328, 2)</small><table border=\"1\" class=\"dataframe\"><thead><tr><th>jumps_map</th><th>count</th></tr><tr><td>str</td><td>u32</td></tr></thead><tbody><tr><td>&quot;05_01_09_03&quot;</td><td>3</td></tr><tr><td>&quot;03_05_07_12&quot;</td><td>2</td></tr><tr><td>&quot;08_03_05_12&quot;</td><td>2</td></tr><tr><td>&quot;09_01_04_04&quot;</td><td>2</td></tr><tr><td>&quot;03_04_01_09&quot;</td><td>1</td></tr><tr><td>&hellip;</td><td>&hellip;</td></tr><tr><td>&quot;07_07_05_06&quot;</td><td>1</td></tr><tr><td>&quot;01_07_09_15&quot;</td><td>1</td></tr><tr><td>&quot;03_03_04_03&quot;</td><td>1</td></tr><tr><td>&quot;01_01_10_08&quot;</td><td>1</td></tr><tr><td>&quot;05_04_02_13&quot;</td><td>1</td></tr></tbody></table></div>"
      ],
      "text/plain": [
       "shape: (328, 2)\n",
       "┌─────────────┬───────┐\n",
       "│ jumps_map   ┆ count │\n",
       "│ ---         ┆ ---   │\n",
       "│ str         ┆ u32   │\n",
       "╞═════════════╪═══════╡\n",
       "│ 05_01_09_03 ┆ 3     │\n",
       "│ 03_05_07_12 ┆ 2     │\n",
       "│ 08_03_05_12 ┆ 2     │\n",
       "│ 09_01_04_04 ┆ 2     │\n",
       "│ 03_04_01_09 ┆ 1     │\n",
       "│ …           ┆ …     │\n",
       "│ 07_07_05_06 ┆ 1     │\n",
       "│ 01_07_09_15 ┆ 1     │\n",
       "│ 03_03_04_03 ┆ 1     │\n",
       "│ 01_01_10_08 ┆ 1     │\n",
       "│ 05_04_02_13 ┆ 1     │\n",
       "└─────────────┴───────┘"
      ]
     },
     "metadata": {},
     "output_type": "display_data"
    },
    {
     "name": "stdout",
     "output_type": "stream",
     "text": [
      "df_unijump FOR str_b4 = 20\n"
     ]
    },
    {
     "data": {
      "text/html": [
       "<div><style>\n",
       ".dataframe > thead > tr,\n",
       ".dataframe > tbody > tr {\n",
       "  text-align: right;\n",
       "  white-space: pre-wrap;\n",
       "}\n",
       "</style>\n",
       "<small>shape: (77, 2)</small><table border=\"1\" class=\"dataframe\"><thead><tr><th>unijump</th><th>count</th></tr><tr><td>i64</td><td>u32</td></tr></thead><tbody><tr><td>3</td><td>13</td></tr><tr><td>8</td><td>10</td></tr><tr><td>-10</td><td>10</td></tr><tr><td>6</td><td>10</td></tr><tr><td>18</td><td>9</td></tr><tr><td>&hellip;</td><td>&hellip;</td></tr><tr><td>34</td><td>1</td></tr><tr><td>37</td><td>1</td></tr><tr><td>33</td><td>1</td></tr><tr><td>-43</td><td>1</td></tr><tr><td>-31</td><td>1</td></tr></tbody></table></div>"
      ],
      "text/plain": [
       "shape: (77, 2)\n",
       "┌─────────┬───────┐\n",
       "│ unijump ┆ count │\n",
       "│ ---     ┆ ---   │\n",
       "│ i64     ┆ u32   │\n",
       "╞═════════╪═══════╡\n",
       "│ 3       ┆ 13    │\n",
       "│ 8       ┆ 10    │\n",
       "│ -10     ┆ 10    │\n",
       "│ 6       ┆ 10    │\n",
       "│ 18      ┆ 9     │\n",
       "│ …       ┆ …     │\n",
       "│ 34      ┆ 1     │\n",
       "│ 37      ┆ 1     │\n",
       "│ 33      ┆ 1     │\n",
       "│ -43     ┆ 1     │\n",
       "│ -31     ┆ 1     │\n",
       "└─────────┴───────┘"
      ]
     },
     "metadata": {},
     "output_type": "display_data"
    }
   ],
   "source": [
    "possible_b4, exclude_jump_maps_b4, last_post_b4 = plot_post_col(col='str_b4', post_col='post_str_b4')"
   ]
  },
  {
   "cell_type": "code",
   "execution_count": 12,
   "metadata": {},
   "outputs": [
    {
     "name": "stdout",
     "output_type": "stream",
     "text": [
      "Setting test_value='21'\n",
      "df_viz FOR str_b5 = 21\n"
     ]
    },
    {
     "data": {
      "text/html": [
       "<div><style>\n",
       ".dataframe > thead > tr,\n",
       ".dataframe > tbody > tr {\n",
       "  text-align: right;\n",
       "  white-space: pre-wrap;\n",
       "}\n",
       "</style>\n",
       "<small>shape: (17, 3)</small><table border=\"1\" class=\"dataframe\"><thead><tr><th>post_str_blast</th><th>count</th><th>percent</th></tr><tr><td>str</td><td>u32</td><td>f64</td></tr></thead><tbody><tr><td>&quot;35&quot;</td><td>20</td><td>18.867925</td></tr><tr><td>&quot;31&quot;</td><td>13</td><td>12.264151</td></tr><tr><td>&quot;32&quot;</td><td>9</td><td>8.490566</td></tr><tr><td>&quot;34&quot;</td><td>7</td><td>6.603774</td></tr><tr><td>&quot;27&quot;</td><td>7</td><td>6.603774</td></tr><tr><td>&hellip;</td><td>&hellip;</td><td>&hellip;</td></tr><tr><td>&quot;21&quot;</td><td>3</td><td>2.830189</td></tr><tr><td>&quot;23&quot;</td><td>2</td><td>1.886792</td></tr><tr><td>&quot;20&quot;</td><td>2</td><td>1.886792</td></tr><tr><td>&quot;19&quot;</td><td>2</td><td>1.886792</td></tr><tr><td>&quot;24&quot;</td><td>2</td><td>1.886792</td></tr></tbody></table></div>"
      ],
      "text/plain": [
       "shape: (17, 3)\n",
       "┌────────────────┬───────┬───────────┐\n",
       "│ post_str_blast ┆ count ┆ percent   │\n",
       "│ ---            ┆ ---   ┆ ---       │\n",
       "│ str            ┆ u32   ┆ f64       │\n",
       "╞════════════════╪═══════╪═══════════╡\n",
       "│ 35             ┆ 20    ┆ 18.867925 │\n",
       "│ 31             ┆ 13    ┆ 12.264151 │\n",
       "│ 32             ┆ 9     ┆ 8.490566  │\n",
       "│ 34             ┆ 7     ┆ 6.603774  │\n",
       "│ 27             ┆ 7     ┆ 6.603774  │\n",
       "│ …              ┆ …     ┆ …         │\n",
       "│ 21             ┆ 3     ┆ 2.830189  │\n",
       "│ 23             ┆ 2     ┆ 1.886792  │\n",
       "│ 20             ┆ 2     ┆ 1.886792  │\n",
       "│ 19             ┆ 2     ┆ 1.886792  │\n",
       "│ 24             ┆ 2     ┆ 1.886792  │\n",
       "└────────────────┴───────┴───────────┘"
      ]
     },
     "metadata": {},
     "output_type": "display_data"
    },
    {
     "data": {},
     "metadata": {},
     "output_type": "display_data"
    },
    {
     "data": {
      "application/vnd.holoviews_exec.v0+json": "",
      "text/html": [
       "<div id='3bfbab43-8053-4486-badd-1c137c55669a'>\n",
       "  <div id=\"bbcc2892-9a72-4259-8bec-1fa45397a79d\" data-root-id=\"3bfbab43-8053-4486-badd-1c137c55669a\" style=\"display: contents;\"></div>\n",
       "</div>\n",
       "<script type=\"application/javascript\">(function(root) {\n",
       "  var docs_json = {\"aab8ffa7-b243-4aef-a563-fcbd3561999a\":{\"version\":\"3.7.2\",\"title\":\"Bokeh Application\",\"roots\":[{\"type\":\"object\",\"name\":\"Row\",\"id\":\"3bfbab43-8053-4486-badd-1c137c55669a\",\"attributes\":{\"name\":\"Row00573\",\"tags\":[\"embedded\"],\"stylesheets\":[\"\\n:host(.pn-loading):before, .pn-loading:before {\\n  background-color: #c3c3c3;\\n  mask-size: auto calc(min(50%, 400px));\\n  -webkit-mask-size: auto calc(min(50%, 400px));\\n}\",{\"type\":\"object\",\"name\":\"ImportedStyleSheet\",\"id\":\"f6b2b9f3-2b35-41e4-a3cb-a0e958507e39\",\"attributes\":{\"url\":\"https://cdn.holoviz.org/panel/1.6.2/dist/css/loading.css\"}},{\"type\":\"object\",\"name\":\"ImportedStyleSheet\",\"id\":\"6e3b0612-a1f3-43c3-acd9-ead5377f4912\",\"attributes\":{\"url\":\"https://cdn.holoviz.org/panel/1.6.2/dist/css/listpanel.css\"}},{\"type\":\"object\",\"name\":\"ImportedStyleSheet\",\"id\":\"e5474c3d-4ced-4057-a141-7a4d3fa5b03f\",\"attributes\":{\"url\":\"https://cdn.holoviz.org/panel/1.6.2/dist/bundled/theme/default.css\"}},{\"type\":\"object\",\"name\":\"ImportedStyleSheet\",\"id\":\"1de141cc-730a-43c8-b098-b2f1edb87aa6\",\"attributes\":{\"url\":\"https://cdn.holoviz.org/panel/1.6.2/dist/bundled/theme/native.css\"}}],\"min_width\":700,\"margin\":0,\"sizing_mode\":\"stretch_width\",\"align\":\"start\",\"children\":[{\"type\":\"object\",\"name\":\"Spacer\",\"id\":\"dd1aa143-d5b7-4a7e-ad7d-26ab64b09fbc\",\"attributes\":{\"name\":\"HSpacer00577\",\"stylesheets\":[\"\\n:host(.pn-loading):before, .pn-loading:before {\\n  background-color: #c3c3c3;\\n  mask-size: auto calc(min(50%, 400px));\\n  -webkit-mask-size: auto calc(min(50%, 400px));\\n}\",{\"id\":\"f6b2b9f3-2b35-41e4-a3cb-a0e958507e39\"},{\"id\":\"e5474c3d-4ced-4057-a141-7a4d3fa5b03f\"},{\"id\":\"1de141cc-730a-43c8-b098-b2f1edb87aa6\"}],\"margin\":0,\"sizing_mode\":\"stretch_width\",\"align\":\"start\"}},{\"type\":\"object\",\"name\":\"Figure\",\"id\":\"6b62ea97-4fab-492b-8c49-4cae3a809fc8\",\"attributes\":{\"width\":700,\"height\":300,\"margin\":[5,10],\"sizing_mode\":\"fixed\",\"align\":\"start\",\"x_range\":{\"type\":\"object\",\"name\":\"FactorRange\",\"id\":\"cf0d7bd3-134d-4ae7-b8be-4c7dec481b0b\",\"attributes\":{\"name\":\"post_str_blast\",\"tags\":[[[\"post_str_blast\",null]],[]],\"factors\":[\"35\",\"31\",\"32\",\"34\",\"27\",\"33\",\"22\",\"28\",\"26\",\"30\",\"29\",\"25\",\"21\",\"23\",\"20\",\"19\",\"24\"]}},\"y_range\":{\"type\":\"object\",\"name\":\"Range1d\",\"id\":\"3c2c3ee8-40f7-4c31-aa00-cf9e935704ae\",\"attributes\":{\"name\":\"percent\",\"tags\":[[[\"percent\",null]],{\"type\":\"map\",\"entries\":[[\"invert_yaxis\",false],[\"autorange\",false]]}],\"end\":20.566037735849054,\"reset_start\":0.0,\"reset_end\":20.566037735849054}},\"x_scale\":{\"type\":\"object\",\"name\":\"CategoricalScale\",\"id\":\"d05258c8-eac0-4e5f-8c34-28c5226c39aa\"},\"y_scale\":{\"type\":\"object\",\"name\":\"LinearScale\",\"id\":\"c8bd9d9d-e029-486e-bf7a-f8badd68b700\"},\"title\":{\"type\":\"object\",\"name\":\"Title\",\"id\":\"cfbaa0b9-a9fe-4784-8c4e-aac3095f2d4d\",\"attributes\":{\"text_color\":\"black\",\"text_font_size\":\"12pt\"}},\"renderers\":[{\"type\":\"object\",\"name\":\"GlyphRenderer\",\"id\":\"ab2e0fe7-848e-4b7c-905d-5d9cd28ff5e1\",\"attributes\":{\"data_source\":{\"type\":\"object\",\"name\":\"ColumnDataSource\",\"id\":\"cd346b70-1ff0-40e0-a580-c8788a347cb6\",\"attributes\":{\"selected\":{\"type\":\"object\",\"name\":\"Selection\",\"id\":\"80910f69-e8fa-4d1b-b12a-8dd9e7370499\",\"attributes\":{\"indices\":[],\"line_indices\":[]}},\"selection_policy\":{\"type\":\"object\",\"name\":\"UnionRenderers\",\"id\":\"c8dbb63a-b5bd-4ef5-8ae4-c4821dc49281\"},\"data\":{\"type\":\"map\",\"entries\":[[\"post_str_blast\",[\"35\",\"31\",\"32\",\"34\",\"27\",\"33\",\"22\",\"28\",\"26\",\"30\",\"29\",\"25\",\"21\",\"23\",\"20\",\"19\",\"24\"]],[\"percent\",{\"type\":\"ndarray\",\"array\":{\"type\":\"bytes\",\"data\":\"7HNITTDeMkBNMN7KPocoQCI1wXgr+yBAGG9ln0NqGkAYb2WfQ2oaQBhvZZ9DahpAGG9ln0NqGkCD8Vb2OaQWQIPxVvY5pBZA7HNITTDeEkDsc0hNMN4SQIPxVvY5pAZAg/FW9jmkBkCu7HNITTD+P67sc0hNMP4/ruxzSE0w/j+u7HNITTD+Pw==\"},\"shape\":[17],\"dtype\":\"float64\",\"order\":\"little\"}]]}}},\"view\":{\"type\":\"object\",\"name\":\"CDSView\",\"id\":\"0342f952-77e6-4169-86d0-46dea0c9ff3e\",\"attributes\":{\"filter\":{\"type\":\"object\",\"name\":\"AllIndices\",\"id\":\"76778348-c58c-412d-9a77-dd123ef16a7a\"}}},\"glyph\":{\"type\":\"object\",\"name\":\"VBar\",\"id\":\"0a5019e6-7817-4511-9347-ef4be05dfa43\",\"attributes\":{\"tags\":[\"apply_ranges\"],\"x\":{\"type\":\"field\",\"field\":\"post_str_blast\"},\"width\":{\"type\":\"value\",\"value\":0.8},\"top\":{\"type\":\"field\",\"field\":\"percent\"},\"fill_color\":{\"type\":\"value\",\"value\":\"#30a2da\"},\"hatch_color\":{\"type\":\"value\",\"value\":\"#30a2da\"}}},\"selection_glyph\":{\"type\":\"object\",\"name\":\"VBar\",\"id\":\"3ead51a2-11dd-468b-bc09-42dd5334cd8d\",\"attributes\":{\"tags\":[\"apply_ranges\"],\"x\":{\"type\":\"field\",\"field\":\"post_str_blast\"},\"width\":{\"type\":\"value\",\"value\":0.8},\"bottom\":{\"type\":\"value\",\"value\":0},\"top\":{\"type\":\"field\",\"field\":\"percent\"},\"line_color\":{\"type\":\"value\",\"value\":\"black\"},\"line_alpha\":{\"type\":\"value\",\"value\":1.0},\"line_width\":{\"type\":\"value\",\"value\":1},\"line_join\":{\"type\":\"value\",\"value\":\"bevel\"},\"line_cap\":{\"type\":\"value\",\"value\":\"butt\"},\"line_dash\":{\"type\":\"value\",\"value\":[]},\"line_dash_offset\":{\"type\":\"value\",\"value\":0},\"fill_color\":{\"type\":\"value\",\"value\":\"#30a2da\"},\"fill_alpha\":{\"type\":\"value\",\"value\":1.0},\"hatch_color\":{\"type\":\"value\",\"value\":\"#30a2da\"},\"hatch_alpha\":{\"type\":\"value\",\"value\":1.0},\"hatch_scale\":{\"type\":\"value\",\"value\":12.0},\"hatch_pattern\":{\"type\":\"value\",\"value\":null},\"hatch_weight\":{\"type\":\"value\",\"value\":1.0}}},\"nonselection_glyph\":{\"type\":\"object\",\"name\":\"VBar\",\"id\":\"2ce0bfcb-c631-48ad-9fd7-77f8c2b258f4\",\"attributes\":{\"tags\":[\"apply_ranges\"],\"x\":{\"type\":\"field\",\"field\":\"post_str_blast\"},\"width\":{\"type\":\"value\",\"value\":0.8},\"top\":{\"type\":\"field\",\"field\":\"percent\"},\"line_alpha\":{\"type\":\"value\",\"value\":0.1},\"fill_color\":{\"type\":\"value\",\"value\":\"#30a2da\"},\"fill_alpha\":{\"type\":\"value\",\"value\":0.1},\"hatch_color\":{\"type\":\"value\",\"value\":\"#30a2da\"},\"hatch_alpha\":{\"type\":\"value\",\"value\":0.1}}},\"muted_glyph\":{\"type\":\"object\",\"name\":\"VBar\",\"id\":\"3f0c39db-f2f2-46b7-8cc0-426e7d845820\",\"attributes\":{\"tags\":[\"apply_ranges\"],\"x\":{\"type\":\"field\",\"field\":\"post_str_blast\"},\"width\":{\"type\":\"value\",\"value\":0.8},\"top\":{\"type\":\"field\",\"field\":\"percent\"},\"line_alpha\":{\"type\":\"value\",\"value\":0.2},\"fill_color\":{\"type\":\"value\",\"value\":\"#30a2da\"},\"fill_alpha\":{\"type\":\"value\",\"value\":0.2},\"hatch_color\":{\"type\":\"value\",\"value\":\"#30a2da\"},\"hatch_alpha\":{\"type\":\"value\",\"value\":0.2}}}}},{\"type\":\"object\",\"name\":\"Span\",\"id\":\"51eb0d5d-855d-4bbd-87b2-a48fcbbddc9f\",\"attributes\":{\"level\":\"glyph\",\"location\":5.882352941176471,\"line_color\":\"red\",\"line_width\":3}},{\"type\":\"object\",\"name\":\"Span\",\"id\":\"4120c216-cd79-4063-8c5a-b053bfe4b249\",\"attributes\":{\"level\":\"glyph\",\"location\":8.823529411764707,\"line_color\":\"blue\",\"line_width\":3}},{\"type\":\"object\",\"name\":\"Span\",\"id\":\"192385e1-f41f-4e88-9b5d-401907760064\",\"attributes\":{\"level\":\"glyph\",\"location\":2.9411764705882355,\"line_color\":\"blue\",\"line_width\":3}}],\"toolbar\":{\"type\":\"object\",\"name\":\"Toolbar\",\"id\":\"5a092a7b-540a-4cd6-8a2f-2e001d29092f\",\"attributes\":{\"tools\":[{\"type\":\"object\",\"name\":\"WheelZoomTool\",\"id\":\"83ac0745-aca8-445c-abeb-5c7eb0b13a92\",\"attributes\":{\"tags\":[\"hv_created\"],\"renderers\":\"auto\",\"zoom_together\":\"none\"}},{\"type\":\"object\",\"name\":\"HoverTool\",\"id\":\"8c061514-b182-4995-94c9-49a0c042af44\",\"attributes\":{\"tags\":[\"hv_created\"],\"renderers\":[{\"id\":\"ab2e0fe7-848e-4b7c-905d-5d9cd28ff5e1\"}],\"tooltips\":[[\"post_str_blast\",\"@{post_str_blast}\"],[\"percent\",\"@{percent}\"]]}},{\"type\":\"object\",\"name\":\"SaveTool\",\"id\":\"98b0c788-4daa-4b4f-845c-729ae8fd132c\"},{\"type\":\"object\",\"name\":\"PanTool\",\"id\":\"a368071e-5a59-4848-8805-cbe639429522\"},{\"type\":\"object\",\"name\":\"BoxZoomTool\",\"id\":\"fb2d154d-ac9d-4ba3-bd57-c0dc95f0a9b2\",\"attributes\":{\"dimensions\":\"both\",\"overlay\":{\"type\":\"object\",\"name\":\"BoxAnnotation\",\"id\":\"29c235bc-f28b-4464-80f4-6fa4ed99a939\",\"attributes\":{\"syncable\":false,\"line_color\":\"black\",\"line_alpha\":1.0,\"line_width\":2,\"line_dash\":[4,4],\"fill_color\":\"lightgrey\",\"fill_alpha\":0.5,\"level\":\"overlay\",\"visible\":false,\"left\":{\"type\":\"number\",\"value\":\"nan\"},\"right\":{\"type\":\"number\",\"value\":\"nan\"},\"top\":{\"type\":\"number\",\"value\":\"nan\"},\"bottom\":{\"type\":\"number\",\"value\":\"nan\"},\"left_units\":\"canvas\",\"right_units\":\"canvas\",\"top_units\":\"canvas\",\"bottom_units\":\"canvas\",\"handles\":{\"type\":\"object\",\"name\":\"BoxInteractionHandles\",\"id\":\"771d90c2-06a9-4e4d-9e5e-b6fa91f0ee99\",\"attributes\":{\"all\":{\"type\":\"object\",\"name\":\"AreaVisuals\",\"id\":\"cf353e63-88d3-46ed-b70a-76ae4a54e2f3\",\"attributes\":{\"fill_color\":\"white\",\"hover_fill_color\":\"lightgray\"}}}}}}}},{\"type\":\"object\",\"name\":\"ResetTool\",\"id\":\"75dde9d1-f027-4267-971d-3b158ad149f6\"}],\"active_drag\":{\"id\":\"a368071e-5a59-4848-8805-cbe639429522\"}}},\"left\":[{\"type\":\"object\",\"name\":\"LinearAxis\",\"id\":\"984dabe1-0a03-47b6-b410-b62f5f53e18b\",\"attributes\":{\"ticker\":{\"type\":\"object\",\"name\":\"BasicTicker\",\"id\":\"381739b0-26fa-4dcc-acf5-e8e6fbe1b848\",\"attributes\":{\"mantissas\":[1,2,5]}},\"formatter\":{\"type\":\"object\",\"name\":\"BasicTickFormatter\",\"id\":\"04b621a0-edec-4b49-babc-716e9d326a50\"},\"axis_label\":\"percent\",\"major_label_policy\":{\"type\":\"object\",\"name\":\"AllLabels\",\"id\":\"d4d8cdcd-cde1-4306-85e7-a28f72f6f539\"}}}],\"below\":[{\"type\":\"object\",\"name\":\"CategoricalAxis\",\"id\":\"2c4fc15f-5e1c-4246-b86f-9b8d73d6701f\",\"attributes\":{\"ticker\":{\"type\":\"object\",\"name\":\"CategoricalTicker\",\"id\":\"04502059-f32e-4d54-afe6-28a28cf57b3b\"},\"formatter\":{\"type\":\"object\",\"name\":\"CategoricalTickFormatter\",\"id\":\"f0b9dfe7-6af5-4012-8b67-9a0b301c5b2f\"},\"axis_label\":\"post_str_blast\",\"major_label_policy\":{\"type\":\"object\",\"name\":\"AllLabels\",\"id\":\"4469e597-c5dd-4c2a-867a-51c46c5def6e\"}}}],\"center\":[{\"type\":\"object\",\"name\":\"Grid\",\"id\":\"7d8d132e-e31e-4176-8ccb-6ea51efcea79\",\"attributes\":{\"axis\":{\"id\":\"2c4fc15f-5e1c-4246-b86f-9b8d73d6701f\"},\"grid_line_color\":null}},{\"type\":\"object\",\"name\":\"Grid\",\"id\":\"d5c756de-7a0e-46e4-b6f2-d4c7759c54aa\",\"attributes\":{\"dimension\":1,\"axis\":{\"id\":\"984dabe1-0a03-47b6-b410-b62f5f53e18b\"},\"grid_line_color\":null}}],\"min_border_top\":10,\"min_border_bottom\":10,\"min_border_left\":10,\"min_border_right\":10,\"output_backend\":\"webgl\"}},{\"type\":\"object\",\"name\":\"Spacer\",\"id\":\"b691c0f8-fc58-4954-a8a4-e250adaa49d9\",\"attributes\":{\"name\":\"HSpacer00578\",\"stylesheets\":[\"\\n:host(.pn-loading):before, .pn-loading:before {\\n  background-color: #c3c3c3;\\n  mask-size: auto calc(min(50%, 400px));\\n  -webkit-mask-size: auto calc(min(50%, 400px));\\n}\",{\"id\":\"f6b2b9f3-2b35-41e4-a3cb-a0e958507e39\"},{\"id\":\"e5474c3d-4ced-4057-a141-7a4d3fa5b03f\"},{\"id\":\"1de141cc-730a-43c8-b098-b2f1edb87aa6\"}],\"margin\":0,\"sizing_mode\":\"stretch_width\",\"align\":\"start\"}}]}}],\"defs\":[{\"type\":\"model\",\"name\":\"ReactiveHTML1\"},{\"type\":\"model\",\"name\":\"FlexBox1\",\"properties\":[{\"name\":\"align_content\",\"kind\":\"Any\",\"default\":\"flex-start\"},{\"name\":\"align_items\",\"kind\":\"Any\",\"default\":\"flex-start\"},{\"name\":\"flex_direction\",\"kind\":\"Any\",\"default\":\"row\"},{\"name\":\"flex_wrap\",\"kind\":\"Any\",\"default\":\"wrap\"},{\"name\":\"gap\",\"kind\":\"Any\",\"default\":\"\"},{\"name\":\"justify_content\",\"kind\":\"Any\",\"default\":\"flex-start\"}]},{\"type\":\"model\",\"name\":\"FloatPanel1\",\"properties\":[{\"name\":\"config\",\"kind\":\"Any\",\"default\":{\"type\":\"map\"}},{\"name\":\"contained\",\"kind\":\"Any\",\"default\":true},{\"name\":\"position\",\"kind\":\"Any\",\"default\":\"right-top\"},{\"name\":\"offsetx\",\"kind\":\"Any\",\"default\":null},{\"name\":\"offsety\",\"kind\":\"Any\",\"default\":null},{\"name\":\"theme\",\"kind\":\"Any\",\"default\":\"primary\"},{\"name\":\"status\",\"kind\":\"Any\",\"default\":\"normalized\"}]},{\"type\":\"model\",\"name\":\"GridStack1\",\"properties\":[{\"name\":\"ncols\",\"kind\":\"Any\",\"default\":null},{\"name\":\"nrows\",\"kind\":\"Any\",\"default\":null},{\"name\":\"allow_resize\",\"kind\":\"Any\",\"default\":true},{\"name\":\"allow_drag\",\"kind\":\"Any\",\"default\":true},{\"name\":\"state\",\"kind\":\"Any\",\"default\":[]}]},{\"type\":\"model\",\"name\":\"drag1\",\"properties\":[{\"name\":\"slider_width\",\"kind\":\"Any\",\"default\":5},{\"name\":\"slider_color\",\"kind\":\"Any\",\"default\":\"black\"},{\"name\":\"value\",\"kind\":\"Any\",\"default\":50}]},{\"type\":\"model\",\"name\":\"click1\",\"properties\":[{\"name\":\"terminal_output\",\"kind\":\"Any\",\"default\":\"\"},{\"name\":\"debug_name\",\"kind\":\"Any\",\"default\":\"\"},{\"name\":\"clears\",\"kind\":\"Any\",\"default\":0}]},{\"type\":\"model\",\"name\":\"FastWrapper1\",\"properties\":[{\"name\":\"object\",\"kind\":\"Any\",\"default\":null},{\"name\":\"style\",\"kind\":\"Any\",\"default\":null}]},{\"type\":\"model\",\"name\":\"NotificationArea1\",\"properties\":[{\"name\":\"js_events\",\"kind\":\"Any\",\"default\":{\"type\":\"map\"}},{\"name\":\"max_notifications\",\"kind\":\"Any\",\"default\":5},{\"name\":\"notifications\",\"kind\":\"Any\",\"default\":[]},{\"name\":\"position\",\"kind\":\"Any\",\"default\":\"bottom-right\"},{\"name\":\"_clear\",\"kind\":\"Any\",\"default\":0},{\"name\":\"types\",\"kind\":\"Any\",\"default\":[{\"type\":\"map\",\"entries\":[[\"type\",\"warning\"],[\"background\",\"#ffc107\"],[\"icon\",{\"type\":\"map\",\"entries\":[[\"className\",\"fas fa-exclamation-triangle\"],[\"tagName\",\"i\"],[\"color\",\"white\"]]}]]},{\"type\":\"map\",\"entries\":[[\"type\",\"info\"],[\"background\",\"#007bff\"],[\"icon\",{\"type\":\"map\",\"entries\":[[\"className\",\"fas fa-info-circle\"],[\"tagName\",\"i\"],[\"color\",\"white\"]]}]]}]}]},{\"type\":\"model\",\"name\":\"Notification\",\"properties\":[{\"name\":\"background\",\"kind\":\"Any\",\"default\":null},{\"name\":\"duration\",\"kind\":\"Any\",\"default\":3000},{\"name\":\"icon\",\"kind\":\"Any\",\"default\":null},{\"name\":\"message\",\"kind\":\"Any\",\"default\":\"\"},{\"name\":\"notification_type\",\"kind\":\"Any\",\"default\":null},{\"name\":\"_rendered\",\"kind\":\"Any\",\"default\":false},{\"name\":\"_destroyed\",\"kind\":\"Any\",\"default\":false}]},{\"type\":\"model\",\"name\":\"TemplateActions1\",\"properties\":[{\"name\":\"open_modal\",\"kind\":\"Any\",\"default\":0},{\"name\":\"close_modal\",\"kind\":\"Any\",\"default\":0}]},{\"type\":\"model\",\"name\":\"BootstrapTemplateActions1\",\"properties\":[{\"name\":\"open_modal\",\"kind\":\"Any\",\"default\":0},{\"name\":\"close_modal\",\"kind\":\"Any\",\"default\":0}]},{\"type\":\"model\",\"name\":\"TemplateEditor1\",\"properties\":[{\"name\":\"layout\",\"kind\":\"Any\",\"default\":[]}]},{\"type\":\"model\",\"name\":\"MaterialTemplateActions1\",\"properties\":[{\"name\":\"open_modal\",\"kind\":\"Any\",\"default\":0},{\"name\":\"close_modal\",\"kind\":\"Any\",\"default\":0}]},{\"type\":\"model\",\"name\":\"ReactiveESM1\",\"properties\":[{\"name\":\"esm_constants\",\"kind\":\"Any\",\"default\":{\"type\":\"map\"}}]},{\"type\":\"model\",\"name\":\"JSComponent1\",\"properties\":[{\"name\":\"esm_constants\",\"kind\":\"Any\",\"default\":{\"type\":\"map\"}}]},{\"type\":\"model\",\"name\":\"ReactComponent1\",\"properties\":[{\"name\":\"esm_constants\",\"kind\":\"Any\",\"default\":{\"type\":\"map\"}}]},{\"type\":\"model\",\"name\":\"AnyWidgetComponent1\",\"properties\":[{\"name\":\"esm_constants\",\"kind\":\"Any\",\"default\":{\"type\":\"map\"}}]},{\"type\":\"model\",\"name\":\"request_value1\",\"properties\":[{\"name\":\"fill\",\"kind\":\"Any\",\"default\":\"none\"},{\"name\":\"_synced\",\"kind\":\"Any\",\"default\":null},{\"name\":\"_request_sync\",\"kind\":\"Any\",\"default\":0}]}]}};\n",
       "  var render_items = [{\"docid\":\"aab8ffa7-b243-4aef-a563-fcbd3561999a\",\"roots\":{\"3bfbab43-8053-4486-badd-1c137c55669a\":\"bbcc2892-9a72-4259-8bec-1fa45397a79d\"},\"root_ids\":[\"3bfbab43-8053-4486-badd-1c137c55669a\"]}];\n",
       "  var docs = Object.values(docs_json)\n",
       "  if (!docs) {\n",
       "    return\n",
       "  }\n",
       "  const py_version = docs[0].version.replace('rc', '-rc.').replace('.dev', '-dev.')\n",
       "  async function embed_document(root) {\n",
       "    var Bokeh = get_bokeh(root)\n",
       "    await Bokeh.embed.embed_items_notebook(docs_json, render_items);\n",
       "    for (const render_item of render_items) {\n",
       "      for (const root_id of render_item.root_ids) {\n",
       "\tconst id_el = document.getElementById(root_id)\n",
       "\tif (id_el.children.length && id_el.children[0].hasAttribute('data-root-id')) {\n",
       "\t  const root_el = id_el.children[0]\n",
       "\t  root_el.id = root_el.id + '-rendered'\n",
       "\t  for (const child of root_el.children) {\n",
       "            // Ensure JupyterLab does not capture keyboard shortcuts\n",
       "            // see: https://jupyterlab.readthedocs.io/en/4.1.x/extension/notebook.html#keyboard-interaction-model\n",
       "\t    child.setAttribute('data-lm-suppress-shortcuts', 'true')\n",
       "\t  }\n",
       "\t}\n",
       "      }\n",
       "    }\n",
       "  }\n",
       "  function get_bokeh(root) {\n",
       "    if (root.Bokeh === undefined) {\n",
       "      return null\n",
       "    } else if (root.Bokeh.version !== py_version) {\n",
       "      if (root.Bokeh.versions === undefined || !root.Bokeh.versions.has(py_version)) {\n",
       "\treturn null\n",
       "      }\n",
       "      return root.Bokeh.versions.get(py_version);\n",
       "    } else if (root.Bokeh.version === py_version) {\n",
       "      return root.Bokeh\n",
       "    }\n",
       "    return null\n",
       "  }\n",
       "  function is_loaded(root) {\n",
       "    var Bokeh = get_bokeh(root)\n",
       "    return (Bokeh != null && Bokeh.Panel !== undefined)\n",
       "  }\n",
       "  if (is_loaded(root)) {\n",
       "    embed_document(root);\n",
       "  } else {\n",
       "    var attempts = 0;\n",
       "    var timer = setInterval(function(root) {\n",
       "      if (is_loaded(root)) {\n",
       "        clearInterval(timer);\n",
       "        embed_document(root);\n",
       "      } else if (document.readyState == \"complete\") {\n",
       "        attempts++;\n",
       "        if (attempts > 200) {\n",
       "          clearInterval(timer);\n",
       "\t  var Bokeh = get_bokeh(root)\n",
       "\t  if (Bokeh == null || Bokeh.Panel == null) {\n",
       "            console.warn(\"Panel: ERROR: Unable to run Panel code because Bokeh or Panel library is missing\");\n",
       "\t  } else {\n",
       "\t    console.warn(\"Panel: WARNING: Attempting to render but not all required libraries could be resolved.\")\n",
       "\t    embed_document(root)\n",
       "\t  }\n",
       "        }\n",
       "      }\n",
       "    }, 25, root)\n",
       "  }\n",
       "})(window);</script>"
      ],
      "text/plain": [
       ":Overlay\n",
       "   .Bars.I    :Bars   [post_str_blast]   (percent)\n",
       "   .HLine.I   :HLine   [x,y]\n",
       "   .HLine.II  :HLine   [x,y]\n",
       "   .HLine.III :HLine   [x,y]"
      ]
     },
     "metadata": {
      "application/vnd.holoviews_exec.v0+json": {
       "id": "3bfbab43-8053-4486-badd-1c137c55669a"
      }
     },
     "output_type": "display_data"
    },
    {
     "name": "stdout",
     "output_type": "stream",
     "text": [
      "df_10_last FOR str_b5 = 21\n",
      "Last 3 results last_results=['26', '34', '32']\n"
     ]
    },
    {
     "data": {
      "text/html": [
       "<div><style>\n",
       ".dataframe > thead > tr,\n",
       ".dataframe > tbody > tr {\n",
       "  text-align: right;\n",
       "  white-space: pre-wrap;\n",
       "}\n",
       "</style>\n",
       "<small>shape: (10, 24)</small><table border=\"1\" class=\"dataframe\"><thead><tr><th>fecha</th><th>sorteo</th><th>bolillas</th><th>id</th><th>combo</th><th>b1</th><th>b2</th><th>b3</th><th>b4</th><th>b5</th><th>str_b1</th><th>str_b2</th><th>str_b3</th><th>str_b4</th><th>str_b5</th><th>post_str_b1</th><th>post_str_b2</th><th>post_str_b3</th><th>post_str_b4</th><th>post_str_blast</th><th>is_rare_combination</th><th>reason</th><th>jumps_map</th><th>unijump</th></tr><tr><td>str</td><td>str</td><td>str</td><td>str</td><td>array[u8, 5]</td><td>u8</td><td>u8</td><td>u8</td><td>u8</td><td>u8</td><td>str</td><td>str</td><td>str</td><td>str</td><td>str</td><td>str</td><td>str</td><td>str</td><td>str</td><td>str</td><td>bool</td><td>u8</td><td>str</td><td>i64</td></tr></thead><tbody><tr><td>&quot;16/01/2025&quot;</td><td>&quot;4098&quot;</td><td>&quot;21 17 20 02 09&quot;</td><td>&quot;0209172021&quot;</td><td>[2, 9, … 21]</td><td>2</td><td>9</td><td>17</td><td>20</td><td>21</td><td>&quot;02&quot;</td><td>&quot;09&quot;</td><td>&quot;17&quot;</td><td>&quot;20&quot;</td><td>&quot;21&quot;</td><td>&quot;02&quot;</td><td>&quot;14&quot;</td><td>&quot;27&quot;</td><td>&quot;29&quot;</td><td>&quot;32&quot;</td><td>true</td><td>16</td><td>&quot;07_08_03_01&quot;</td><td>9</td></tr><tr><td>&quot;08/09/2024&quot;</td><td>&quot;3968&quot;</td><td>&quot;11 06 21 15 13&quot;</td><td>&quot;0611131521&quot;</td><td>[6, 11, … 21]</td><td>6</td><td>11</td><td>13</td><td>15</td><td>21</td><td>&quot;06&quot;</td><td>&quot;11&quot;</td><td>&quot;13&quot;</td><td>&quot;15&quot;</td><td>&quot;21&quot;</td><td>&quot;01&quot;</td><td>&quot;14&quot;</td><td>&quot;21&quot;</td><td>&quot;24&quot;</td><td>&quot;26&quot;</td><td>true</td><td>8</td><td>&quot;05_02_02_06&quot;</td><td>1</td></tr><tr><td>&quot;30/08/2024&quot;</td><td>&quot;3959&quot;</td><td>&quot;07 09 14 21 10&quot;</td><td>&quot;0709101421&quot;</td><td>[7, 9, … 21]</td><td>7</td><td>9</td><td>10</td><td>14</td><td>21</td><td>&quot;07&quot;</td><td>&quot;09&quot;</td><td>&quot;10&quot;</td><td>&quot;14&quot;</td><td>&quot;21&quot;</td><td>&quot;06&quot;</td><td>&quot;08&quot;</td><td>&quot;25&quot;</td><td>&quot;26&quot;</td><td>&quot;34&quot;</td><td>true</td><td>16</td><td>&quot;02_01_04_07&quot;</td><td>-4</td></tr><tr><td>&quot;25/01/2024&quot;</td><td>&quot;3741&quot;</td><td>&quot;10 05 21 04 14&quot;</td><td>&quot;0405101421&quot;</td><td>[4, 5, … 21]</td><td>4</td><td>5</td><td>10</td><td>14</td><td>21</td><td>&quot;04&quot;</td><td>&quot;05&quot;</td><td>&quot;10&quot;</td><td>&quot;14&quot;</td><td>&quot;21&quot;</td><td>&quot;06&quot;</td><td>&quot;13&quot;</td><td>&quot;17&quot;</td><td>&quot;25&quot;</td><td>&quot;35&quot;</td><td>true</td><td>16</td><td>&quot;01_05_04_07&quot;</td><td>9</td></tr><tr><td>&quot;12/09/2023&quot;</td><td>&quot;3606&quot;</td><td>&quot;18 21 12 03 05&quot;</td><td>&quot;0305121821&quot;</td><td>[3, 5, … 21]</td><td>3</td><td>5</td><td>12</td><td>18</td><td>21</td><td>&quot;03&quot;</td><td>&quot;05&quot;</td><td>&quot;12&quot;</td><td>&quot;18&quot;</td><td>&quot;21&quot;</td><td>&quot;13&quot;</td><td>&quot;15&quot;</td><td>&quot;18&quot;</td><td>&quot;31&quot;</td><td>&quot;32&quot;</td><td>false</td><td>0</td><td>&quot;02_07_06_03&quot;</td><td>4</td></tr><tr><td>&quot;04/05/2023&quot;</td><td>&quot;3475&quot;</td><td>&quot;02 07 16 17 21&quot;</td><td>&quot;0207161721&quot;</td><td>[2, 7, … 21]</td><td>2</td><td>7</td><td>16</td><td>17</td><td>21</td><td>&quot;02&quot;</td><td>&quot;07&quot;</td><td>&quot;16&quot;</td><td>&quot;17&quot;</td><td>&quot;21&quot;</td><td>&quot;06&quot;</td><td>&quot;08&quot;</td><td>&quot;09&quot;</td><td>&quot;10&quot;</td><td>&quot;33&quot;</td><td>true</td><td>16</td><td>&quot;05_09_01_04&quot;</td><td>23</td></tr><tr><td>&quot;28/04/2023&quot;</td><td>&quot;3469&quot;</td><td>&quot;11 21 09 15 06&quot;</td><td>&quot;0609111521&quot;</td><td>[6, 9, … 21]</td><td>6</td><td>9</td><td>11</td><td>15</td><td>21</td><td>&quot;06&quot;</td><td>&quot;09&quot;</td><td>&quot;11&quot;</td><td>&quot;15&quot;</td><td>&quot;21&quot;</td><td>&quot;08&quot;</td><td>&quot;11&quot;</td><td>&quot;12&quot;</td><td>&quot;18&quot;</td><td>&quot;28&quot;</td><td>true</td><td>16</td><td>&quot;03_02_04_06&quot;</td><td>-3</td></tr><tr><td>&quot;02/04/2023&quot;</td><td>&quot;3443&quot;</td><td>&quot;01 05 21 03 17&quot;</td><td>&quot;0103051721&quot;</td><td>[1, 3, … 21]</td><td>1</td><td>3</td><td>5</td><td>17</td><td>21</td><td>&quot;01&quot;</td><td>&quot;03&quot;</td><td>&quot;05&quot;</td><td>&quot;17&quot;</td><td>&quot;21&quot;</td><td>&quot;08&quot;</td><td>&quot;10&quot;</td><td>&quot;15&quot;</td><td>&quot;30&quot;</td><td>&quot;31&quot;</td><td>true</td><td>10</td><td>&quot;02_02_12_04&quot;</td><td>-28</td></tr><tr><td>&quot;19/02/2023&quot;</td><td>&quot;3401&quot;</td><td>&quot;02 08 21 16 09&quot;</td><td>&quot;0208091621&quot;</td><td>[2, 8, … 21]</td><td>2</td><td>8</td><td>9</td><td>16</td><td>21</td><td>&quot;02&quot;</td><td>&quot;08&quot;</td><td>&quot;09&quot;</td><td>&quot;16&quot;</td><td>&quot;21&quot;</td><td>&quot;07&quot;</td><td>&quot;12&quot;</td><td>&quot;25&quot;</td><td>&quot;32&quot;</td><td>&quot;33&quot;</td><td>true</td><td>16</td><td>&quot;06_01_07_05&quot;</td><td>-19</td></tr><tr><td>&quot;07/11/2022&quot;</td><td>&quot;3297&quot;</td><td>&quot;01 21 20 02 16&quot;</td><td>&quot;0102162021&quot;</td><td>[1, 2, … 21]</td><td>1</td><td>2</td><td>16</td><td>20</td><td>21</td><td>&quot;01&quot;</td><td>&quot;02&quot;</td><td>&quot;16&quot;</td><td>&quot;20&quot;</td><td>&quot;21&quot;</td><td>&quot;03&quot;</td><td>&quot;08&quot;</td><td>&quot;09&quot;</td><td>&quot;10&quot;</td><td>&quot;22&quot;</td><td>true</td><td>16</td><td>&quot;01_14_04_01&quot;</td><td>30</td></tr></tbody></table></div>"
      ],
      "text/plain": [
       "shape: (10, 24)\n",
       "┌────────────┬────────┬─────────────┬────────────┬───┬─────────────┬────────┬────────────┬─────────┐\n",
       "│ fecha      ┆ sorteo ┆ bolillas    ┆ id         ┆ … ┆ is_rare_com ┆ reason ┆ jumps_map  ┆ unijump │\n",
       "│ ---        ┆ ---    ┆ ---         ┆ ---        ┆   ┆ bination    ┆ ---    ┆ ---        ┆ ---     │\n",
       "│ str        ┆ str    ┆ str         ┆ str        ┆   ┆ ---         ┆ u8     ┆ str        ┆ i64     │\n",
       "│            ┆        ┆             ┆            ┆   ┆ bool        ┆        ┆            ┆         │\n",
       "╞════════════╪════════╪═════════════╪════════════╪═══╪═════════════╪════════╪════════════╪═════════╡\n",
       "│ 16/01/2025 ┆ 4098   ┆ 21 17 20 02 ┆ 0209172021 ┆ … ┆ true        ┆ 16     ┆ 07_08_03_0 ┆ 9       │\n",
       "│            ┆        ┆ 09          ┆            ┆   ┆             ┆        ┆ 1          ┆         │\n",
       "│ 08/09/2024 ┆ 3968   ┆ 11 06 21 15 ┆ 0611131521 ┆ … ┆ true        ┆ 8      ┆ 05_02_02_0 ┆ 1       │\n",
       "│            ┆        ┆ 13          ┆            ┆   ┆             ┆        ┆ 6          ┆         │\n",
       "│ 30/08/2024 ┆ 3959   ┆ 07 09 14 21 ┆ 0709101421 ┆ … ┆ true        ┆ 16     ┆ 02_01_04_0 ┆ -4      │\n",
       "│            ┆        ┆ 10          ┆            ┆   ┆             ┆        ┆ 7          ┆         │\n",
       "│ 25/01/2024 ┆ 3741   ┆ 10 05 21 04 ┆ 0405101421 ┆ … ┆ true        ┆ 16     ┆ 01_05_04_0 ┆ 9       │\n",
       "│            ┆        ┆ 14          ┆            ┆   ┆             ┆        ┆ 7          ┆         │\n",
       "│ 12/09/2023 ┆ 3606   ┆ 18 21 12 03 ┆ 0305121821 ┆ … ┆ false       ┆ 0      ┆ 02_07_06_0 ┆ 4       │\n",
       "│            ┆        ┆ 05          ┆            ┆   ┆             ┆        ┆ 3          ┆         │\n",
       "│ 04/05/2023 ┆ 3475   ┆ 02 07 16 17 ┆ 0207161721 ┆ … ┆ true        ┆ 16     ┆ 05_09_01_0 ┆ 23      │\n",
       "│            ┆        ┆ 21          ┆            ┆   ┆             ┆        ┆ 4          ┆         │\n",
       "│ 28/04/2023 ┆ 3469   ┆ 11 21 09 15 ┆ 0609111521 ┆ … ┆ true        ┆ 16     ┆ 03_02_04_0 ┆ -3      │\n",
       "│            ┆        ┆ 06          ┆            ┆   ┆             ┆        ┆ 6          ┆         │\n",
       "│ 02/04/2023 ┆ 3443   ┆ 01 05 21 03 ┆ 0103051721 ┆ … ┆ true        ┆ 10     ┆ 02_02_12_0 ┆ -28     │\n",
       "│            ┆        ┆ 17          ┆            ┆   ┆             ┆        ┆ 4          ┆         │\n",
       "│ 19/02/2023 ┆ 3401   ┆ 02 08 21 16 ┆ 0208091621 ┆ … ┆ true        ┆ 16     ┆ 06_01_07_0 ┆ -19     │\n",
       "│            ┆        ┆ 09          ┆            ┆   ┆             ┆        ┆ 5          ┆         │\n",
       "│ 07/11/2022 ┆ 3297   ┆ 01 21 20 02 ┆ 0102162021 ┆ … ┆ true        ┆ 16     ┆ 01_14_04_0 ┆ 30      │\n",
       "│            ┆        ┆ 16          ┆            ┆   ┆             ┆        ┆ 1          ┆         │\n",
       "└────────────┴────────┴─────────────┴────────────┴───┴─────────────┴────────┴────────────┴─────────┘"
      ]
     },
     "metadata": {},
     "output_type": "display_data"
    },
    {
     "name": "stdout",
     "output_type": "stream",
     "text": [
      "df_jumps_map FOR str_b5 = 21\n"
     ]
    },
    {
     "data": {
      "text/html": [
       "<div><style>\n",
       ".dataframe > thead > tr,\n",
       ".dataframe > tbody > tr {\n",
       "  text-align: right;\n",
       "  white-space: pre-wrap;\n",
       "}\n",
       "</style>\n",
       "<small>shape: (106, 2)</small><table border=\"1\" class=\"dataframe\"><thead><tr><th>jumps_map</th><th>count</th></tr><tr><td>str</td><td>u32</td></tr></thead><tbody><tr><td>&quot;01_02_06_09&quot;</td><td>1</td></tr><tr><td>&quot;02_06_03_03&quot;</td><td>1</td></tr><tr><td>&quot;08_08_03_01&quot;</td><td>1</td></tr><tr><td>&quot;02_02_10_05&quot;</td><td>1</td></tr><tr><td>&quot;04_01_02_12&quot;</td><td>1</td></tr><tr><td>&hellip;</td><td>&hellip;</td></tr><tr><td>&quot;04_04_01_04&quot;</td><td>1</td></tr><tr><td>&quot;05_05_08_02&quot;</td><td>1</td></tr><tr><td>&quot;02_05_11_02&quot;</td><td>1</td></tr><tr><td>&quot;03_03_01_09&quot;</td><td>1</td></tr><tr><td>&quot;05_01_05_08&quot;</td><td>1</td></tr></tbody></table></div>"
      ],
      "text/plain": [
       "shape: (106, 2)\n",
       "┌─────────────┬───────┐\n",
       "│ jumps_map   ┆ count │\n",
       "│ ---         ┆ ---   │\n",
       "│ str         ┆ u32   │\n",
       "╞═════════════╪═══════╡\n",
       "│ 01_02_06_09 ┆ 1     │\n",
       "│ 02_06_03_03 ┆ 1     │\n",
       "│ 08_08_03_01 ┆ 1     │\n",
       "│ 02_02_10_05 ┆ 1     │\n",
       "│ 04_01_02_12 ┆ 1     │\n",
       "│ …           ┆ …     │\n",
       "│ 04_04_01_04 ┆ 1     │\n",
       "│ 05_05_08_02 ┆ 1     │\n",
       "│ 02_05_11_02 ┆ 1     │\n",
       "│ 03_03_01_09 ┆ 1     │\n",
       "│ 05_01_05_08 ┆ 1     │\n",
       "└─────────────┴───────┘"
      ]
     },
     "metadata": {},
     "output_type": "display_data"
    },
    {
     "name": "stdout",
     "output_type": "stream",
     "text": [
      "df_unijump FOR str_b5 = 21\n"
     ]
    },
    {
     "data": {
      "text/html": [
       "<div><style>\n",
       ".dataframe > thead > tr,\n",
       ".dataframe > tbody > tr {\n",
       "  text-align: right;\n",
       "  white-space: pre-wrap;\n",
       "}\n",
       "</style>\n",
       "<small>shape: (47, 2)</small><table border=\"1\" class=\"dataframe\"><thead><tr><th>unijump</th><th>count</th></tr><tr><td>i64</td><td>u32</td></tr></thead><tbody><tr><td>-4</td><td>7</td></tr><tr><td>-14</td><td>5</td></tr><tr><td>10</td><td>5</td></tr><tr><td>11</td><td>5</td></tr><tr><td>-18</td><td>5</td></tr><tr><td>&hellip;</td><td>&hellip;</td></tr><tr><td>32</td><td>1</td></tr><tr><td>28</td><td>1</td></tr><tr><td>-16</td><td>1</td></tr><tr><td>34</td><td>1</td></tr><tr><td>-19</td><td>1</td></tr></tbody></table></div>"
      ],
      "text/plain": [
       "shape: (47, 2)\n",
       "┌─────────┬───────┐\n",
       "│ unijump ┆ count │\n",
       "│ ---     ┆ ---   │\n",
       "│ i64     ┆ u32   │\n",
       "╞═════════╪═══════╡\n",
       "│ -4      ┆ 7     │\n",
       "│ -14     ┆ 5     │\n",
       "│ 10      ┆ 5     │\n",
       "│ 11      ┆ 5     │\n",
       "│ -18     ┆ 5     │\n",
       "│ …       ┆ …     │\n",
       "│ 32      ┆ 1     │\n",
       "│ 28      ┆ 1     │\n",
       "│ -16     ┆ 1     │\n",
       "│ 34      ┆ 1     │\n",
       "│ -19     ┆ 1     │\n",
       "└─────────┴───────┘"
      ]
     },
     "metadata": {},
     "output_type": "display_data"
    }
   ],
   "source": [
    "possible_blast, exclude_jump_maps_blast, last_post_blast = plot_post_col(col='str_b5', post_col='post_str_blast')"
   ]
  },
  {
   "cell_type": "code",
   "execution_count": 13,
   "metadata": {},
   "outputs": [],
   "source": [
    "b_count = rr.CHOOSE\n",
    "min_b = rr.MIN_B_VALUES[0]\n",
    "max_b = rr.MAX_B_VALUES[-1]\n",
    "\n",
    "\n",
    "combos = combinations(range(min_b, max_b + 1), b_count)\n",
    "# print(\"generating combos: \", len(list(combos)))"
   ]
  },
  {
   "cell_type": "code",
   "execution_count": 14,
   "metadata": {},
   "outputs": [],
   "source": [
    "parquet_file = './parquet_gn_v3.parquet'\n",
    "\n",
    "# check if parquet_file exists\n",
    "if not os.path.exists(parquet_file):\n",
    "  print(f'{parquet_file=} does not exists. creating')\n",
    "  lst = []\n",
    "  post_str_b1 = None\n",
    "  post_str_blast = None\n",
    "  for row in combos:\n",
    "    cols = []\n",
    "    str_row = \" \".join([str(r).zfill(2) for r in row])\n",
    "    id, bolillas_int, str_combo = formalize_data_with_str(bolillas_str=str_row)\n",
    "    cols.append(id)\n",
    "    cols.append(bolillas_int)\n",
    "    cols.extend([b for b in bolillas_int])\n",
    "    cols.extend(str_combo)\n",
    "    cols.append(post_str_b1)\n",
    "    cols.append(post_str_blast)\n",
    "\n",
    "    is_rare, reason = rr.is_rare_combination(bolillas_int, id)\n",
    "    cols.append(is_rare)\n",
    "    cols.append(reason)\n",
    "\n",
    "    cols.append(rr.jumps_map(bolillas_int))\n",
    "    cols.append(rr.unijump(bolillas_int))\n",
    "    \n",
    "    lst.append(cols)\n",
    "\n",
    "    post_str_b1 = str_combo[0]\n",
    "    post_str_blast = str_combo[-1]\n",
    "\n",
    "  with open('./gn_cahe_v3.json', 'w') as file: \n",
    "    json.dump(lst, file)\n",
    "\n",
    "  df_Orows = pl.DataFrame(\n",
    "    lst,\n",
    "    schema=[\n",
    "      # 'fecha', 'sorteo', 'bolillas',\n",
    "      'id', 'combo', 'b1', 'b2', 'b3', 'b4', 'b5',\n",
    "      'str_b1', 'str_b2', 'str_b3', 'str_b4', 'str_b5',\n",
    "      'post_str_b1', 'post_str_blast',\n",
    "      'is_rare_combination', 'reason',\n",
    "      \"jumps_map\", \"unijump\"\n",
    "    ],\n",
    "    schema_overrides={\n",
    "      'combo': pl.Array(pl.UInt8, 5),\n",
    "      'b1': pl.UInt8,\n",
    "      'b2': pl.UInt8,\n",
    "      'b3': pl.UInt8,\n",
    "      'b4': pl.UInt8,\n",
    "      'b5': pl.UInt8,\n",
    "      'b6': pl.UInt8,\n",
    "      'reason': pl.UInt8\n",
    "    },\n",
    "    orient='row'\n",
    "  )\n",
    "\n",
    "  df_Orows.write_parquet(parquet_file)\n",
    "  TOTAL_LINES = len(df_Orows)\n",
    "  print(f'{TOTAL_LINES=} loaded to {parquet_file=}')\n",
    "\n",
    "  display(df_Orows.head(10))\n",
    "else:\n",
    "  df_Orows = pl.read_parquet(parquet_file)"
   ]
  },
  {
   "cell_type": "code",
   "execution_count": 15,
   "metadata": {},
   "outputs": [
    {
     "data": {
      "text/html": [
       "<div><style>\n",
       ".dataframe > thead > tr,\n",
       ".dataframe > tbody > tr {\n",
       "  text-align: right;\n",
       "  white-space: pre-wrap;\n",
       "}\n",
       "</style>\n",
       "<small>shape: (12_174, 18)</small><table border=\"1\" class=\"dataframe\"><thead><tr><th>id</th><th>combo</th><th>b1</th><th>b2</th><th>b3</th><th>b4</th><th>b5</th><th>str_b1</th><th>str_b2</th><th>str_b3</th><th>str_b4</th><th>str_b5</th><th>post_str_b1</th><th>post_str_blast</th><th>is_rare_combination</th><th>reason</th><th>jumps_map</th><th>unijump</th></tr><tr><td>str</td><td>array[u8, 5]</td><td>u8</td><td>u8</td><td>u8</td><td>u8</td><td>u8</td><td>str</td><td>str</td><td>str</td><td>str</td><td>str</td><td>str</td><td>str</td><td>bool</td><td>u8</td><td>str</td><td>i64</td></tr></thead><tbody><tr><td>&quot;0104112031&quot;</td><td>[1, 4, … 31]</td><td>1</td><td>4</td><td>11</td><td>20</td><td>31</td><td>&quot;01&quot;</td><td>&quot;04&quot;</td><td>&quot;11&quot;</td><td>&quot;20&quot;</td><td>&quot;31&quot;</td><td>&quot;01&quot;</td><td>&quot;30&quot;</td><td>false</td><td>0</td><td>&quot;03_07_09_11&quot;</td><td>2</td></tr><tr><td>&quot;0104112033&quot;</td><td>[1, 4, … 33]</td><td>1</td><td>4</td><td>11</td><td>20</td><td>33</td><td>&quot;01&quot;</td><td>&quot;04&quot;</td><td>&quot;11&quot;</td><td>&quot;20&quot;</td><td>&quot;33&quot;</td><td>&quot;01&quot;</td><td>&quot;32&quot;</td><td>false</td><td>0</td><td>&quot;03_07_09_13&quot;</td><td>4</td></tr><tr><td>&quot;0104112035&quot;</td><td>[1, 4, … 35]</td><td>1</td><td>4</td><td>11</td><td>20</td><td>35</td><td>&quot;01&quot;</td><td>&quot;04&quot;</td><td>&quot;11&quot;</td><td>&quot;20&quot;</td><td>&quot;35&quot;</td><td>&quot;01&quot;</td><td>&quot;34&quot;</td><td>false</td><td>0</td><td>&quot;03_07_09_15&quot;</td><td>6</td></tr><tr><td>&quot;0104112133&quot;</td><td>[1, 4, … 33]</td><td>1</td><td>4</td><td>11</td><td>21</td><td>33</td><td>&quot;01&quot;</td><td>&quot;04&quot;</td><td>&quot;11&quot;</td><td>&quot;21&quot;</td><td>&quot;33&quot;</td><td>&quot;01&quot;</td><td>&quot;32&quot;</td><td>false</td><td>0</td><td>&quot;03_07_10_12&quot;</td><td>0</td></tr><tr><td>&quot;0104112135&quot;</td><td>[1, 4, … 35]</td><td>1</td><td>4</td><td>11</td><td>21</td><td>35</td><td>&quot;01&quot;</td><td>&quot;04&quot;</td><td>&quot;11&quot;</td><td>&quot;21&quot;</td><td>&quot;35&quot;</td><td>&quot;01&quot;</td><td>&quot;34&quot;</td><td>false</td><td>0</td><td>&quot;03_07_10_14&quot;</td><td>2</td></tr><tr><td>&hellip;</td><td>&hellip;</td><td>&hellip;</td><td>&hellip;</td><td>&hellip;</td><td>&hellip;</td><td>&hellip;</td><td>&hellip;</td><td>&hellip;</td><td>&hellip;</td><td>&hellip;</td><td>&hellip;</td><td>&hellip;</td><td>&hellip;</td><td>&hellip;</td><td>&hellip;</td><td>&hellip;</td><td>&hellip;</td></tr><tr><td>&quot;1119262735&quot;</td><td>[11, 19, … 35]</td><td>11</td><td>19</td><td>26</td><td>27</td><td>35</td><td>&quot;11&quot;</td><td>&quot;19&quot;</td><td>&quot;26&quot;</td><td>&quot;27&quot;</td><td>&quot;35&quot;</td><td>&quot;11&quot;</td><td>&quot;34&quot;</td><td>false</td><td>0</td><td>&quot;08_07_01_08&quot;</td><td>18</td></tr><tr><td>&quot;1119262933&quot;</td><td>[11, 19, … 33]</td><td>11</td><td>19</td><td>26</td><td>29</td><td>33</td><td>&quot;11&quot;</td><td>&quot;19&quot;</td><td>&quot;26&quot;</td><td>&quot;29&quot;</td><td>&quot;33&quot;</td><td>&quot;11&quot;</td><td>&quot;32&quot;</td><td>false</td><td>0</td><td>&quot;08_07_03_04&quot;</td><td>8</td></tr><tr><td>&quot;1119262935&quot;</td><td>[11, 19, … 35]</td><td>11</td><td>19</td><td>26</td><td>29</td><td>35</td><td>&quot;11&quot;</td><td>&quot;19&quot;</td><td>&quot;26&quot;</td><td>&quot;29&quot;</td><td>&quot;35&quot;</td><td>&quot;11&quot;</td><td>&quot;34&quot;</td><td>false</td><td>0</td><td>&quot;08_07_03_06&quot;</td><td>10</td></tr><tr><td>&quot;1119263233&quot;</td><td>[11, 19, … 33]</td><td>11</td><td>19</td><td>26</td><td>32</td><td>33</td><td>&quot;11&quot;</td><td>&quot;19&quot;</td><td>&quot;26&quot;</td><td>&quot;32&quot;</td><td>&quot;33&quot;</td><td>&quot;11&quot;</td><td>&quot;35&quot;</td><td>false</td><td>0</td><td>&quot;08_07_06_01&quot;</td><td>-4</td></tr><tr><td>&quot;1119263235&quot;</td><td>[11, 19, … 35]</td><td>11</td><td>19</td><td>26</td><td>32</td><td>35</td><td>&quot;11&quot;</td><td>&quot;19&quot;</td><td>&quot;26&quot;</td><td>&quot;32&quot;</td><td>&quot;35&quot;</td><td>&quot;11&quot;</td><td>&quot;34&quot;</td><td>false</td><td>0</td><td>&quot;08_07_06_03&quot;</td><td>-2</td></tr></tbody></table></div>"
      ],
      "text/plain": [
       "shape: (12_174, 18)\n",
       "┌────────────┬────────────────┬─────┬─────┬───┬───────────────────┬────────┬─────────────┬─────────┐\n",
       "│ id         ┆ combo          ┆ b1  ┆ b2  ┆ … ┆ is_rare_combinati ┆ reason ┆ jumps_map   ┆ unijump │\n",
       "│ ---        ┆ ---            ┆ --- ┆ --- ┆   ┆ on                ┆ ---    ┆ ---         ┆ ---     │\n",
       "│ str        ┆ array[u8, 5]   ┆ u8  ┆ u8  ┆   ┆ ---               ┆ u8     ┆ str         ┆ i64     │\n",
       "│            ┆                ┆     ┆     ┆   ┆ bool              ┆        ┆             ┆         │\n",
       "╞════════════╪════════════════╪═════╪═════╪═══╪═══════════════════╪════════╪═════════════╪═════════╡\n",
       "│ 0104112031 ┆ [1, 4, … 31]   ┆ 1   ┆ 4   ┆ … ┆ false             ┆ 0      ┆ 03_07_09_11 ┆ 2       │\n",
       "│ 0104112033 ┆ [1, 4, … 33]   ┆ 1   ┆ 4   ┆ … ┆ false             ┆ 0      ┆ 03_07_09_13 ┆ 4       │\n",
       "│ 0104112035 ┆ [1, 4, … 35]   ┆ 1   ┆ 4   ┆ … ┆ false             ┆ 0      ┆ 03_07_09_15 ┆ 6       │\n",
       "│ 0104112133 ┆ [1, 4, … 33]   ┆ 1   ┆ 4   ┆ … ┆ false             ┆ 0      ┆ 03_07_10_12 ┆ 0       │\n",
       "│ 0104112135 ┆ [1, 4, … 35]   ┆ 1   ┆ 4   ┆ … ┆ false             ┆ 0      ┆ 03_07_10_14 ┆ 2       │\n",
       "│ …          ┆ …              ┆ …   ┆ …   ┆ … ┆ …                 ┆ …      ┆ …           ┆ …       │\n",
       "│ 1119262735 ┆ [11, 19, … 35] ┆ 11  ┆ 19  ┆ … ┆ false             ┆ 0      ┆ 08_07_01_08 ┆ 18      │\n",
       "│ 1119262933 ┆ [11, 19, … 33] ┆ 11  ┆ 19  ┆ … ┆ false             ┆ 0      ┆ 08_07_03_04 ┆ 8       │\n",
       "│ 1119262935 ┆ [11, 19, … 35] ┆ 11  ┆ 19  ┆ … ┆ false             ┆ 0      ┆ 08_07_03_06 ┆ 10      │\n",
       "│ 1119263233 ┆ [11, 19, … 33] ┆ 11  ┆ 19  ┆ … ┆ false             ┆ 0      ┆ 08_07_06_01 ┆ -4      │\n",
       "│ 1119263235 ┆ [11, 19, … 35] ┆ 11  ┆ 19  ┆ … ┆ false             ┆ 0      ┆ 08_07_06_03 ┆ -2      │\n",
       "└────────────┴────────────────┴─────┴─────┴───┴───────────────────┴────────┴─────────────┴─────────┘"
      ]
     },
     "metadata": {},
     "output_type": "display_data"
    }
   ],
   "source": [
    "# possible_b1, exclude_jump_maps_b1\n",
    "df_possible = df_Orows.filter(\n",
    "  pl.col(\"str_b1\").is_in(possible_b1),\n",
    "  pl.col(\"str_b2\").is_in(possible_b2),\n",
    "  pl.col(\"str_b3\").is_in(possible_b3),\n",
    "  pl.col(\"str_b4\").is_in(possible_b4),\n",
    "  pl.col(\"str_b5\").is_in(possible_blast),\n",
    "  \n",
    "  ~pl.col(\"str_b1\").is_in(last_post_b1),\n",
    "  ~pl.col(\"str_b2\").is_in(last_post_b2),\n",
    "  ~pl.col(\"str_b3\").is_in(last_post_b3),\n",
    "  ~pl.col(\"str_b4\").is_in(last_post_b4),\n",
    "  ~pl.col(\"str_b5\").is_in(last_post_blast),\n",
    "\n",
    "  ~pl.col(\"jumps_map\").is_in(exclude_jump_maps_b1 + exclude_jump_maps_b2 + exclude_jump_maps_b3 + exclude_jump_maps_b4 + exclude_jump_maps_blast),\n",
    "  pl.col(\"is_rare_combination\") == False\n",
    ")\n",
    "\n",
    "\n",
    "display(df_possible)"
   ]
  },
  {
   "cell_type": "code",
   "execution_count": 16,
   "metadata": {},
   "outputs": [
    {
     "data": {
      "text/html": [
       "<div><style>\n",
       ".dataframe > thead > tr,\n",
       ".dataframe > tbody > tr {\n",
       "  text-align: right;\n",
       "  white-space: pre-wrap;\n",
       "}\n",
       "</style>\n",
       "<small>shape: (1, 18)</small><table border=\"1\" class=\"dataframe\"><thead><tr><th>id</th><th>combo</th><th>b1</th><th>b2</th><th>b3</th><th>b4</th><th>b5</th><th>str_b1</th><th>str_b2</th><th>str_b3</th><th>str_b4</th><th>str_b5</th><th>post_str_b1</th><th>post_str_blast</th><th>is_rare_combination</th><th>reason</th><th>jumps_map</th><th>unijump</th></tr><tr><td>str</td><td>array[u8, 5]</td><td>u8</td><td>u8</td><td>u8</td><td>u8</td><td>u8</td><td>str</td><td>str</td><td>str</td><td>str</td><td>str</td><td>str</td><td>str</td><td>bool</td><td>u8</td><td>str</td><td>i64</td></tr></thead><tbody><tr><td>&quot;0812172433&quot;</td><td>[8, 12, … 33]</td><td>8</td><td>12</td><td>17</td><td>24</td><td>33</td><td>&quot;08&quot;</td><td>&quot;12&quot;</td><td>&quot;17&quot;</td><td>&quot;24&quot;</td><td>&quot;33&quot;</td><td>&quot;08&quot;</td><td>&quot;32&quot;</td><td>false</td><td>0</td><td>&quot;04_05_07_09&quot;</td><td>-1</td></tr></tbody></table></div>"
      ],
      "text/plain": [
       "shape: (1, 18)\n",
       "┌────────────┬───────────────┬─────┬─────┬───┬────────────────────┬────────┬─────────────┬─────────┐\n",
       "│ id         ┆ combo         ┆ b1  ┆ b2  ┆ … ┆ is_rare_combinatio ┆ reason ┆ jumps_map   ┆ unijump │\n",
       "│ ---        ┆ ---           ┆ --- ┆ --- ┆   ┆ n                  ┆ ---    ┆ ---         ┆ ---     │\n",
       "│ str        ┆ array[u8, 5]  ┆ u8  ┆ u8  ┆   ┆ ---                ┆ u8     ┆ str         ┆ i64     │\n",
       "│            ┆               ┆     ┆     ┆   ┆ bool               ┆        ┆             ┆         │\n",
       "╞════════════╪═══════════════╪═════╪═════╪═══╪════════════════════╪════════╪═════════════╪═════════╡\n",
       "│ 0812172433 ┆ [8, 12, … 33] ┆ 8   ┆ 12  ┆ … ┆ false              ┆ 0      ┆ 04_05_07_09 ┆ -1      │\n",
       "└────────────┴───────────────┴─────┴─────┴───┴────────────────────┴────────┴─────────────┴─────────┘"
      ]
     },
     "execution_count": 16,
     "metadata": {},
     "output_type": "execute_result"
    }
   ],
   "source": [
    "df_possible.sample(n=1)"
   ]
  }
 ],
 "metadata": {
  "kernelspec": {
   "display_name": ".venv",
   "language": "python",
   "name": "python3"
  },
  "language_info": {
   "codemirror_mode": {
    "name": "ipython",
    "version": 3
   },
   "file_extension": ".py",
   "mimetype": "text/x-python",
   "name": "python",
   "nbconvert_exporter": "python",
   "pygments_lexer": "ipython3",
   "version": "3.12.9"
  }
 },
 "nbformat": 4,
 "nbformat_minor": 2
}

{
 "cells": [
  {
   "cell_type": "code",
   "execution_count": 1,
   "metadata": {},
   "outputs": [],
   "source": [
    "from bs4 import BeautifulSoup\n",
    "import pandas as pd\n",
    "from datetime import datetime, timedelta\n",
    "from itertools import combinations\n",
    "import json\n",
    "import requests\n",
    "import math\n",
    "from typing import Optional, List, Dict\n",
    "\n",
    "from pydantic import BaseModel\n",
    "from typing import Mapping\n",
    "import numpy as np\n",
    "import polars as pl"
   ]
  },
  {
   "cell_type": "code",
   "execution_count": 2,
   "metadata": {},
   "outputs": [
    {
     "data": {
      "text/html": [
       "<div><style>\n",
       ".dataframe > thead > tr,\n",
       ".dataframe > tbody > tr {\n",
       "  text-align: right;\n",
       "  white-space: pre-wrap;\n",
       "}\n",
       "</style>\n",
       "<small>shape: (10, 23)</small><table border=\"1\" class=\"dataframe\"><thead><tr><th>id</th><th>combo</th><th>b1</th><th>b2</th><th>b3</th><th>b4</th><th>b5</th><th>is_rare_combination</th><th>reason</th><th>score_left_b1</th><th>score_left_b2</th><th>score_left_b3</th><th>score_left_b4</th><th>score_left_b5</th><th>score_r8_b1</th><th>score_r8_b2</th><th>score_r8_b3</th><th>score_r8_b4</th><th>score_r8_b5</th><th>shared_values</th><th>shared_values_count</th><th>score_row</th><th>int_unijump</th></tr><tr><td>str</td><td>array[u8, 5]</td><td>u8</td><td>u8</td><td>u8</td><td>u8</td><td>u8</td><td>bool</td><td>i64</td><td>f64</td><td>f64</td><td>f64</td><td>f64</td><td>f64</td><td>f64</td><td>f64</td><td>f64</td><td>f64</td><td>f64</td><td>list[f64]</td><td>u8</td><td>f64</td><td>i64</td></tr></thead><tbody><tr><td>&quot;0102040507&quot;</td><td>[1, 2, … 7]</td><td>1</td><td>2</td><td>4</td><td>5</td><td>7</td><td>true</td><td>16</td><td>1.0</td><td>0.0323</td><td>0.0323</td><td>0.0333</td><td>0.0333</td><td>1.0</td><td>0.5</td><td>0.5</td><td>0.3333</td><td>0.0333</td><td>[0.0333]</td><td>1</td><td>3.4978</td><td>4</td></tr><tr><td>&quot;0102040508&quot;</td><td>[1, 2, … 8]</td><td>1</td><td>2</td><td>4</td><td>5</td><td>8</td><td>true</td><td>16</td><td>1.0</td><td>0.0323</td><td>0.0323</td><td>0.0333</td><td>0.0333</td><td>1.0</td><td>0.5</td><td>0.5</td><td>0.25</td><td>0.0333</td><td>[0.0333]</td><td>1</td><td>3.4145</td><td>5</td></tr><tr><td>&quot;0102040509&quot;</td><td>[1, 2, … 9]</td><td>1</td><td>2</td><td>4</td><td>5</td><td>9</td><td>true</td><td>16</td><td>1.0</td><td>0.0323</td><td>0.0323</td><td>0.0333</td><td>0.0333</td><td>1.0</td><td>0.5</td><td>0.5</td><td>0.2</td><td>0.0333</td><td>[0.0333]</td><td>1</td><td>3.3645</td><td>6</td></tr><tr><td>&quot;0102040510&quot;</td><td>[1, 2, … 10]</td><td>1</td><td>2</td><td>4</td><td>5</td><td>10</td><td>true</td><td>16</td><td>1.0</td><td>0.0323</td><td>0.0323</td><td>0.0333</td><td>0.0333</td><td>1.0</td><td>0.5</td><td>0.5</td><td>0.1667</td><td>0.0333</td><td>[0.0333]</td><td>1</td><td>3.3312</td><td>7</td></tr><tr><td>&quot;0102040511&quot;</td><td>[1, 2, … 11]</td><td>1</td><td>2</td><td>4</td><td>5</td><td>11</td><td>true</td><td>16</td><td>1.0</td><td>0.0323</td><td>0.0323</td><td>0.0333</td><td>0.0333</td><td>1.0</td><td>0.5</td><td>0.5</td><td>0.1429</td><td>0.0333</td><td>[0.0333]</td><td>1</td><td>3.3074</td><td>8</td></tr><tr><td>&quot;0102040512&quot;</td><td>[1, 2, … 12]</td><td>1</td><td>2</td><td>4</td><td>5</td><td>12</td><td>true</td><td>16</td><td>1.0</td><td>0.0323</td><td>0.0323</td><td>0.0333</td><td>0.0333</td><td>1.0</td><td>0.5</td><td>0.5</td><td>0.125</td><td>0.0333</td><td>[0.0333]</td><td>1</td><td>3.2895</td><td>9</td></tr><tr><td>&quot;0102040513&quot;</td><td>[1, 2, … 13]</td><td>1</td><td>2</td><td>4</td><td>5</td><td>13</td><td>false</td><td>0</td><td>1.0</td><td>0.0323</td><td>0.0323</td><td>0.0333</td><td>0.0333</td><td>1.0</td><td>0.5</td><td>0.5</td><td>0.1111</td><td>0.0333</td><td>[0.0333]</td><td>1</td><td>3.2756</td><td>10</td></tr><tr><td>&quot;0102040514&quot;</td><td>[1, 2, … 14]</td><td>1</td><td>2</td><td>4</td><td>5</td><td>14</td><td>true</td><td>16</td><td>1.0</td><td>0.0323</td><td>0.0323</td><td>0.0333</td><td>0.0333</td><td>1.0</td><td>0.5</td><td>0.5</td><td>0.1</td><td>0.0333</td><td>[0.0333]</td><td>1</td><td>3.2645</td><td>11</td></tr><tr><td>&quot;0102040515&quot;</td><td>[1, 2, … 15]</td><td>1</td><td>2</td><td>4</td><td>5</td><td>15</td><td>true</td><td>16</td><td>1.0</td><td>0.0323</td><td>0.0323</td><td>0.0333</td><td>0.0333</td><td>1.0</td><td>0.5</td><td>0.5</td><td>0.0909</td><td>0.0333</td><td>[0.0333]</td><td>1</td><td>3.2554</td><td>12</td></tr><tr><td>&quot;0102040516&quot;</td><td>[1, 2, … 16]</td><td>1</td><td>2</td><td>4</td><td>5</td><td>16</td><td>true</td><td>16</td><td>1.0</td><td>0.0323</td><td>0.0323</td><td>0.0333</td><td>0.0333</td><td>1.0</td><td>0.5</td><td>0.5</td><td>0.0833</td><td>0.0333</td><td>[0.0333]</td><td>1</td><td>3.2478</td><td>13</td></tr></tbody></table></div>"
      ],
      "text/plain": [
       "shape: (10, 23)\n",
       "┌────────────┬──────────────┬─────┬─────┬───┬──────────────┬─────────────┬───────────┬─────────────┐\n",
       "│ id         ┆ combo        ┆ b1  ┆ b2  ┆ … ┆ shared_value ┆ shared_valu ┆ score_row ┆ int_unijump │\n",
       "│ ---        ┆ ---          ┆ --- ┆ --- ┆   ┆ s            ┆ es_count    ┆ ---       ┆ ---         │\n",
       "│ str        ┆ array[u8, 5] ┆ u8  ┆ u8  ┆   ┆ ---          ┆ ---         ┆ f64       ┆ i64         │\n",
       "│            ┆              ┆     ┆     ┆   ┆ list[f64]    ┆ u8          ┆           ┆             │\n",
       "╞════════════╪══════════════╪═════╪═════╪═══╪══════════════╪═════════════╪═══════════╪═════════════╡\n",
       "│ 0102040507 ┆ [1, 2, … 7]  ┆ 1   ┆ 2   ┆ … ┆ [0.0333]     ┆ 1           ┆ 3.4978    ┆ 4           │\n",
       "│ 0102040508 ┆ [1, 2, … 8]  ┆ 1   ┆ 2   ┆ … ┆ [0.0333]     ┆ 1           ┆ 3.4145    ┆ 5           │\n",
       "│ 0102040509 ┆ [1, 2, … 9]  ┆ 1   ┆ 2   ┆ … ┆ [0.0333]     ┆ 1           ┆ 3.3645    ┆ 6           │\n",
       "│ 0102040510 ┆ [1, 2, … 10] ┆ 1   ┆ 2   ┆ … ┆ [0.0333]     ┆ 1           ┆ 3.3312    ┆ 7           │\n",
       "│ 0102040511 ┆ [1, 2, … 11] ┆ 1   ┆ 2   ┆ … ┆ [0.0333]     ┆ 1           ┆ 3.3074    ┆ 8           │\n",
       "│ 0102040512 ┆ [1, 2, … 12] ┆ 1   ┆ 2   ┆ … ┆ [0.0333]     ┆ 1           ┆ 3.2895    ┆ 9           │\n",
       "│ 0102040513 ┆ [1, 2, … 13] ┆ 1   ┆ 2   ┆ … ┆ [0.0333]     ┆ 1           ┆ 3.2756    ┆ 10          │\n",
       "│ 0102040514 ┆ [1, 2, … 14] ┆ 1   ┆ 2   ┆ … ┆ [0.0333]     ┆ 1           ┆ 3.2645    ┆ 11          │\n",
       "│ 0102040515 ┆ [1, 2, … 15] ┆ 1   ┆ 2   ┆ … ┆ [0.0333]     ┆ 1           ┆ 3.2554    ┆ 12          │\n",
       "│ 0102040516 ┆ [1, 2, … 16] ┆ 1   ┆ 2   ┆ … ┆ [0.0333]     ┆ 1           ┆ 3.2478    ┆ 13          │\n",
       "└────────────┴──────────────┴─────┴─────┴───┴──────────────┴─────────────┴───────────┴─────────────┘"
      ]
     },
     "metadata": {},
     "output_type": "display_data"
    }
   ],
   "source": [
    "dfRows = pl.read_parquet(\"./saved_bolillas_gn.parquet\")\n",
    "\n",
    "display(dfRows.head(10))"
   ]
  },
  {
   "cell_type": "markdown",
   "metadata": {},
   "source": [
    "# Get random ticket"
   ]
  },
  {
   "cell_type": "code",
   "execution_count": 23,
   "metadata": {},
   "outputs": [
    {
     "data": {
      "text/html": [
       "<div><style>\n",
       ".dataframe > thead > tr,\n",
       ".dataframe > tbody > tr {\n",
       "  text-align: right;\n",
       "  white-space: pre-wrap;\n",
       "}\n",
       "</style>\n",
       "<small>shape: (1, 23)</small><table border=\"1\" class=\"dataframe\"><thead><tr><th>id</th><th>combo</th><th>b1</th><th>b2</th><th>b3</th><th>b4</th><th>b5</th><th>is_rare_combination</th><th>reason</th><th>score_left_b1</th><th>score_left_b2</th><th>score_left_b3</th><th>score_left_b4</th><th>score_left_b5</th><th>score_r8_b1</th><th>score_r8_b2</th><th>score_r8_b3</th><th>score_r8_b4</th><th>score_r8_b5</th><th>shared_values</th><th>shared_values_count</th><th>score_row</th><th>int_unijump</th></tr><tr><td>str</td><td>array[u8, 5]</td><td>u8</td><td>u8</td><td>u8</td><td>u8</td><td>u8</td><td>bool</td><td>i64</td><td>f64</td><td>f64</td><td>f64</td><td>f64</td><td>f64</td><td>f64</td><td>f64</td><td>f64</td><td>f64</td><td>f64</td><td>list[f64]</td><td>u8</td><td>f64</td><td>i64</td></tr></thead><tbody><tr><td>&quot;0412131930&quot;</td><td>[4, 12, … 30]</td><td>4</td><td>12</td><td>13</td><td>19</td><td>30</td><td>false</td><td>0</td><td>0.0909</td><td>0.0357</td><td>0.0476</td><td>0.0476</td><td>0.0625</td><td>0.0909</td><td>0.0909</td><td>0.0625</td><td>0.0385</td><td>0.0625</td><td>[0.0909, 0.0625]</td><td>2</td><td>0.6296</td><td>-12</td></tr></tbody></table></div>"
      ],
      "text/plain": [
       "shape: (1, 23)\n",
       "┌────────────┬──────────────┬─────┬─────┬───┬──────────────┬─────────────┬───────────┬─────────────┐\n",
       "│ id         ┆ combo        ┆ b1  ┆ b2  ┆ … ┆ shared_value ┆ shared_valu ┆ score_row ┆ int_unijump │\n",
       "│ ---        ┆ ---          ┆ --- ┆ --- ┆   ┆ s            ┆ es_count    ┆ ---       ┆ ---         │\n",
       "│ str        ┆ array[u8, 5] ┆ u8  ┆ u8  ┆   ┆ ---          ┆ ---         ┆ f64       ┆ i64         │\n",
       "│            ┆              ┆     ┆     ┆   ┆ list[f64]    ┆ u8          ┆           ┆             │\n",
       "╞════════════╪══════════════╪═════╪═════╪═══╪══════════════╪═════════════╪═══════════╪═════════════╡\n",
       "│ 0412131930 ┆ [4, 12, …    ┆ 4   ┆ 12  ┆ … ┆ [0.0909,     ┆ 2           ┆ 0.6296    ┆ -12         │\n",
       "│            ┆ 30]          ┆     ┆     ┆   ┆ 0.0625]      ┆             ┆           ┆             │\n",
       "└────────────┴──────────────┴─────┴─────┴───┴──────────────┴─────────────┴───────────┴─────────────┘"
      ]
     },
     "execution_count": 23,
     "metadata": {},
     "output_type": "execute_result"
    }
   ],
   "source": [
    "dfRows.sample(n=1)  "
   ]
  },
  {
   "cell_type": "markdown",
   "metadata": {},
   "source": [
    "# ANALYZE"
   ]
  },
  {
   "cell_type": "code",
   "execution_count": 5,
   "metadata": {},
   "outputs": [
    {
     "data": {
      "text/html": [
       "<div><style>\n",
       ".dataframe > thead > tr,\n",
       ".dataframe > tbody > tr {\n",
       "  text-align: right;\n",
       "  white-space: pre-wrap;\n",
       "}\n",
       "</style>\n",
       "<small>shape: (2, 2)</small><table border=\"1\" class=\"dataframe\"><thead><tr><th>reason</th><th>count</th></tr><tr><td>i64</td><td>u32</td></tr></thead><tbody><tr><td>0</td><td>141183</td></tr><tr><td>16</td><td>68519</td></tr></tbody></table></div>"
      ],
      "text/plain": [
       "shape: (2, 2)\n",
       "┌────────┬────────┐\n",
       "│ reason ┆ count  │\n",
       "│ ---    ┆ ---    │\n",
       "│ i64    ┆ u32    │\n",
       "╞════════╪════════╡\n",
       "│ 0      ┆ 141183 │\n",
       "│ 16     ┆ 68519  │\n",
       "└────────┴────────┘"
      ]
     },
     "execution_count": 5,
     "metadata": {},
     "output_type": "execute_result"
    }
   ],
   "source": [
    "dfRows.group_by(\n",
    "  'reason'\n",
    ").agg(pl.count('reason').alias('count'))"
   ]
  },
  {
   "cell_type": "code",
   "execution_count": 6,
   "metadata": {},
   "outputs": [],
   "source": [
    "def show_b_stats (col: str):\n",
    "  df_viz = dfRows.group_by(\n",
    "    col\n",
    "  ).agg(pl.count(col).alias('count'))\n",
    "\n",
    "  chart = df_viz.plot.bar(\n",
    "    x=col,\n",
    "    y='count',\n",
    "    color=col,\n",
    "  )\n",
    "\n",
    "  display(df_viz)\n",
    "  display(chart)\n"
   ]
  },
  {
   "cell_type": "code",
   "execution_count": 7,
   "metadata": {},
   "outputs": [
    {
     "data": {
      "text/html": [
       "<div><style>\n",
       ".dataframe > thead > tr,\n",
       ".dataframe > tbody > tr {\n",
       "  text-align: right;\n",
       "  white-space: pre-wrap;\n",
       "}\n",
       "</style>\n",
       "<small>shape: (29, 2)</small><table border=\"1\" class=\"dataframe\"><thead><tr><th>score_left_b2</th><th>count</th></tr><tr><td>f64</td><td>u32</td></tr></thead><tbody><tr><td>0.0476</td><td>6993</td></tr><tr><td>0.125</td><td>158</td></tr><tr><td>0.0588</td><td>3284</td></tr><tr><td>0.0769</td><td>1130</td></tr><tr><td>0.0333</td><td>24568</td></tr><tr><td>&hellip;</td><td>&hellip;</td></tr><tr><td>0.1667</td><td>46</td></tr><tr><td>0.0909</td><td>580</td></tr><tr><td>0.0556</td><td>4088</td></tr><tr><td>0.0526</td><td>4877</td></tr><tr><td>0.0417</td><td>11838</td></tr></tbody></table></div>"
      ],
      "text/plain": [
       "shape: (29, 2)\n",
       "┌───────────────┬───────┐\n",
       "│ score_left_b2 ┆ count │\n",
       "│ ---           ┆ ---   │\n",
       "│ f64           ┆ u32   │\n",
       "╞═══════════════╪═══════╡\n",
       "│ 0.0476        ┆ 6993  │\n",
       "│ 0.125         ┆ 158   │\n",
       "│ 0.0588        ┆ 3284  │\n",
       "│ 0.0769        ┆ 1130  │\n",
       "│ 0.0333        ┆ 24568 │\n",
       "│ …             ┆ …     │\n",
       "│ 0.1667        ┆ 46    │\n",
       "│ 0.0909        ┆ 580   │\n",
       "│ 0.0556        ┆ 4088  │\n",
       "│ 0.0526        ┆ 4877  │\n",
       "│ 0.0417        ┆ 11838 │\n",
       "└───────────────┴───────┘"
      ]
     },
     "metadata": {},
     "output_type": "display_data"
    },
    {
     "data": {
      "text/html": [
       "\n",
       "<style>\n",
       "  #altair-viz-7a67ca44d5844b92b06dc4601fc48af4.vega-embed {\n",
       "    width: 100%;\n",
       "    display: flex;\n",
       "  }\n",
       "\n",
       "  #altair-viz-7a67ca44d5844b92b06dc4601fc48af4.vega-embed details,\n",
       "  #altair-viz-7a67ca44d5844b92b06dc4601fc48af4.vega-embed details summary {\n",
       "    position: relative;\n",
       "  }\n",
       "</style>\n",
       "<div id=\"altair-viz-7a67ca44d5844b92b06dc4601fc48af4\"></div>\n",
       "<script type=\"text/javascript\">\n",
       "  var VEGA_DEBUG = (typeof VEGA_DEBUG == \"undefined\") ? {} : VEGA_DEBUG;\n",
       "  (function(spec, embedOpt){\n",
       "    let outputDiv = document.currentScript.previousElementSibling;\n",
       "    if (outputDiv.id !== \"altair-viz-7a67ca44d5844b92b06dc4601fc48af4\") {\n",
       "      outputDiv = document.getElementById(\"altair-viz-7a67ca44d5844b92b06dc4601fc48af4\");\n",
       "    }\n",
       "\n",
       "    const paths = {\n",
       "      \"vega\": \"https://cdn.jsdelivr.net/npm/vega@5?noext\",\n",
       "      \"vega-lib\": \"https://cdn.jsdelivr.net/npm/vega-lib?noext\",\n",
       "      \"vega-lite\": \"https://cdn.jsdelivr.net/npm/vega-lite@5.20.1?noext\",\n",
       "      \"vega-embed\": \"https://cdn.jsdelivr.net/npm/vega-embed@6?noext\",\n",
       "    };\n",
       "\n",
       "    function maybeLoadScript(lib, version) {\n",
       "      var key = `${lib.replace(\"-\", \"\")}_version`;\n",
       "      return (VEGA_DEBUG[key] == version) ?\n",
       "        Promise.resolve(paths[lib]) :\n",
       "        new Promise(function(resolve, reject) {\n",
       "          var s = document.createElement('script');\n",
       "          document.getElementsByTagName(\"head\")[0].appendChild(s);\n",
       "          s.async = true;\n",
       "          s.onload = () => {\n",
       "            VEGA_DEBUG[key] = version;\n",
       "            return resolve(paths[lib]);\n",
       "          };\n",
       "          s.onerror = () => reject(`Error loading script: ${paths[lib]}`);\n",
       "          s.src = paths[lib];\n",
       "        });\n",
       "    }\n",
       "\n",
       "    function showError(err) {\n",
       "      outputDiv.innerHTML = `<div class=\"error\" style=\"color:red;\">${err}</div>`;\n",
       "      throw err;\n",
       "    }\n",
       "\n",
       "    function displayChart(vegaEmbed) {\n",
       "      vegaEmbed(outputDiv, spec, embedOpt)\n",
       "        .catch(err => showError(`Javascript Error: ${err.message}<br>This usually means there's a typo in your chart specification. See the javascript console for the full traceback.`));\n",
       "    }\n",
       "\n",
       "    if(typeof define === \"function\" && define.amd) {\n",
       "      requirejs.config({paths});\n",
       "      let deps = [\"vega-embed\"];\n",
       "      require(deps, displayChart, err => showError(`Error loading script: ${err.message}`));\n",
       "    } else {\n",
       "      maybeLoadScript(\"vega\", \"5\")\n",
       "        .then(() => maybeLoadScript(\"vega-lite\", \"5.20.1\"))\n",
       "        .then(() => maybeLoadScript(\"vega-embed\", \"6\"))\n",
       "        .catch(showError)\n",
       "        .then(() => displayChart(vegaEmbed));\n",
       "    }\n",
       "  })({\"config\": {\"view\": {\"continuousWidth\": 300, \"continuousHeight\": 300}}, \"data\": {\"name\": \"data-93d04b253d4431168f380ab26a1c30ea\"}, \"mark\": {\"type\": \"bar\", \"tooltip\": true}, \"encoding\": {\"color\": {\"field\": \"score_left_b2\", \"type\": \"quantitative\"}, \"x\": {\"field\": \"score_left_b2\", \"type\": \"quantitative\"}, \"y\": {\"field\": \"count\", \"type\": \"quantitative\"}}, \"params\": [{\"name\": \"param_1\", \"select\": {\"type\": \"interval\", \"encodings\": [\"x\", \"y\"]}, \"bind\": \"scales\"}], \"$schema\": \"https://vega.github.io/schema/vega-lite/v5.20.1.json\", \"datasets\": {\"data-93d04b253d4431168f380ab26a1c30ea\": [{\"score_left_b2\": 0.0476, \"count\": 6993}, {\"score_left_b2\": 0.125, \"count\": 158}, {\"score_left_b2\": 0.0588, \"count\": 3284}, {\"score_left_b2\": 0.0769, \"count\": 1130}, {\"score_left_b2\": 0.0333, \"count\": 24568}, {\"score_left_b2\": 0.037, \"count\": 17524}, {\"score_left_b2\": 0.0714, \"count\": 1536}, {\"score_left_b2\": 0.1, \"count\": 394}, {\"score_left_b2\": 0.0833, \"count\": 826}, {\"score_left_b2\": 0.3333, \"count\": 2}, {\"score_left_b2\": 0.0345, \"count\": 22574}, {\"score_left_b2\": 0.04, \"count\": 13334}, {\"score_left_b2\": 0.0625, \"count\": 2616}, {\"score_left_b2\": 0.1111, \"count\": 256}, {\"score_left_b2\": 0.0357, \"count\": 20764}, {\"score_left_b2\": 0.0667, \"count\": 1989}, {\"score_left_b2\": 0.05, \"count\": 6039}, {\"score_left_b2\": 0.0455, \"count\": 8584}, {\"score_left_b2\": 0.25, \"count\": 8}, {\"score_left_b2\": 0.0435, \"count\": 10041}, {\"score_left_b2\": 0.0323, \"count\": 29682}, {\"score_left_b2\": 0.2, \"count\": 22}, {\"score_left_b2\": 0.1429, \"count\": 92}, {\"score_left_b2\": 0.0385, \"count\": 15857}, {\"score_left_b2\": 0.1667, \"count\": 46}, {\"score_left_b2\": 0.0909, \"count\": 580}, {\"score_left_b2\": 0.0556, \"count\": 4088}, {\"score_left_b2\": 0.0526, \"count\": 4877}, {\"score_left_b2\": 0.0417, \"count\": 11838}]}}, {\"mode\": \"vega-lite\"});\n",
       "</script>"
      ],
      "text/plain": [
       "alt.Chart(...)"
      ]
     },
     "metadata": {},
     "output_type": "display_data"
    },
    {
     "data": {
      "text/html": [
       "<div><style>\n",
       ".dataframe > thead > tr,\n",
       ".dataframe > tbody > tr {\n",
       "  text-align: right;\n",
       "  white-space: pre-wrap;\n",
       "}\n",
       "</style>\n",
       "<small>shape: (29, 2)</small><table border=\"1\" class=\"dataframe\"><thead><tr><th>score_r8_b2</th><th>count</th></tr><tr><td>f64</td><td>u32</td></tr></thead><tbody><tr><td>0.0476</td><td>10093</td></tr><tr><td>0.125</td><td>6804</td></tr><tr><td>0.0588</td><td>12294</td></tr><tr><td>0.0769</td><td>11893</td></tr><tr><td>0.0333</td><td>634</td></tr><tr><td>&hellip;</td><td>&hellip;</td></tr><tr><td>0.1667</td><td>4278</td></tr><tr><td>0.0909</td><td>9415</td></tr><tr><td>0.0556</td><td>12822</td></tr><tr><td>0.0526</td><td>12083</td></tr><tr><td>0.0417</td><td>7142</td></tr></tbody></table></div>"
      ],
      "text/plain": [
       "shape: (29, 2)\n",
       "┌─────────────┬───────┐\n",
       "│ score_r8_b2 ┆ count │\n",
       "│ ---         ┆ ---   │\n",
       "│ f64         ┆ u32   │\n",
       "╞═════════════╪═══════╡\n",
       "│ 0.0476      ┆ 10093 │\n",
       "│ 0.125       ┆ 6804  │\n",
       "│ 0.0588      ┆ 12294 │\n",
       "│ 0.0769      ┆ 11893 │\n",
       "│ 0.0333      ┆ 634   │\n",
       "│ …           ┆ …     │\n",
       "│ 0.1667      ┆ 4278  │\n",
       "│ 0.0909      ┆ 9415  │\n",
       "│ 0.0556      ┆ 12822 │\n",
       "│ 0.0526      ┆ 12083 │\n",
       "│ 0.0417      ┆ 7142  │\n",
       "└─────────────┴───────┘"
      ]
     },
     "metadata": {},
     "output_type": "display_data"
    },
    {
     "data": {
      "text/html": [
       "\n",
       "<style>\n",
       "  #altair-viz-fdbed3a3349f4a01bc33b0dc90a64429.vega-embed {\n",
       "    width: 100%;\n",
       "    display: flex;\n",
       "  }\n",
       "\n",
       "  #altair-viz-fdbed3a3349f4a01bc33b0dc90a64429.vega-embed details,\n",
       "  #altair-viz-fdbed3a3349f4a01bc33b0dc90a64429.vega-embed details summary {\n",
       "    position: relative;\n",
       "  }\n",
       "</style>\n",
       "<div id=\"altair-viz-fdbed3a3349f4a01bc33b0dc90a64429\"></div>\n",
       "<script type=\"text/javascript\">\n",
       "  var VEGA_DEBUG = (typeof VEGA_DEBUG == \"undefined\") ? {} : VEGA_DEBUG;\n",
       "  (function(spec, embedOpt){\n",
       "    let outputDiv = document.currentScript.previousElementSibling;\n",
       "    if (outputDiv.id !== \"altair-viz-fdbed3a3349f4a01bc33b0dc90a64429\") {\n",
       "      outputDiv = document.getElementById(\"altair-viz-fdbed3a3349f4a01bc33b0dc90a64429\");\n",
       "    }\n",
       "\n",
       "    const paths = {\n",
       "      \"vega\": \"https://cdn.jsdelivr.net/npm/vega@5?noext\",\n",
       "      \"vega-lib\": \"https://cdn.jsdelivr.net/npm/vega-lib?noext\",\n",
       "      \"vega-lite\": \"https://cdn.jsdelivr.net/npm/vega-lite@5.20.1?noext\",\n",
       "      \"vega-embed\": \"https://cdn.jsdelivr.net/npm/vega-embed@6?noext\",\n",
       "    };\n",
       "\n",
       "    function maybeLoadScript(lib, version) {\n",
       "      var key = `${lib.replace(\"-\", \"\")}_version`;\n",
       "      return (VEGA_DEBUG[key] == version) ?\n",
       "        Promise.resolve(paths[lib]) :\n",
       "        new Promise(function(resolve, reject) {\n",
       "          var s = document.createElement('script');\n",
       "          document.getElementsByTagName(\"head\")[0].appendChild(s);\n",
       "          s.async = true;\n",
       "          s.onload = () => {\n",
       "            VEGA_DEBUG[key] = version;\n",
       "            return resolve(paths[lib]);\n",
       "          };\n",
       "          s.onerror = () => reject(`Error loading script: ${paths[lib]}`);\n",
       "          s.src = paths[lib];\n",
       "        });\n",
       "    }\n",
       "\n",
       "    function showError(err) {\n",
       "      outputDiv.innerHTML = `<div class=\"error\" style=\"color:red;\">${err}</div>`;\n",
       "      throw err;\n",
       "    }\n",
       "\n",
       "    function displayChart(vegaEmbed) {\n",
       "      vegaEmbed(outputDiv, spec, embedOpt)\n",
       "        .catch(err => showError(`Javascript Error: ${err.message}<br>This usually means there's a typo in your chart specification. See the javascript console for the full traceback.`));\n",
       "    }\n",
       "\n",
       "    if(typeof define === \"function\" && define.amd) {\n",
       "      requirejs.config({paths});\n",
       "      let deps = [\"vega-embed\"];\n",
       "      require(deps, displayChart, err => showError(`Error loading script: ${err.message}`));\n",
       "    } else {\n",
       "      maybeLoadScript(\"vega\", \"5\")\n",
       "        .then(() => maybeLoadScript(\"vega-lite\", \"5.20.1\"))\n",
       "        .then(() => maybeLoadScript(\"vega-embed\", \"6\"))\n",
       "        .catch(showError)\n",
       "        .then(() => displayChart(vegaEmbed));\n",
       "    }\n",
       "  })({\"config\": {\"view\": {\"continuousWidth\": 300, \"continuousHeight\": 300}}, \"data\": {\"name\": \"data-6c6eba0c34aea00d45b2f4a77d59210d\"}, \"mark\": {\"type\": \"bar\", \"tooltip\": true}, \"encoding\": {\"color\": {\"field\": \"score_r8_b2\", \"type\": \"quantitative\"}, \"x\": {\"field\": \"score_r8_b2\", \"type\": \"quantitative\"}, \"y\": {\"field\": \"count\", \"type\": \"quantitative\"}}, \"params\": [{\"name\": \"param_2\", \"select\": {\"type\": \"interval\", \"encodings\": [\"x\", \"y\"]}, \"bind\": \"scales\"}], \"$schema\": \"https://vega.github.io/schema/vega-lite/v5.20.1.json\", \"datasets\": {\"data-6c6eba0c34aea00d45b2f4a77d59210d\": [{\"score_r8_b2\": 0.0476, \"count\": 10093}, {\"score_r8_b2\": 0.125, \"count\": 6804}, {\"score_r8_b2\": 0.0588, \"count\": 12294}, {\"score_r8_b2\": 0.0769, \"count\": 11893}, {\"score_r8_b2\": 0.0333, \"count\": 634}, {\"score_r8_b2\": 0.5, \"count\": 586}, {\"score_r8_b2\": 0.1, \"count\": 9247}, {\"score_r8_b2\": 0.0714, \"count\": 12635}, {\"score_r8_b2\": 0.037, \"count\": 3113}, {\"score_r8_b2\": 0.0833, \"count\": 11293}, {\"score_r8_b2\": 0.3333, \"count\": 943}, {\"score_r8_b2\": 0.0345, \"count\": 1205}, {\"score_r8_b2\": 0.0625, \"count\": 11807}, {\"score_r8_b2\": 0.04, \"count\": 5649}, {\"score_r8_b2\": 0.1111, \"count\": 7284}, {\"score_r8_b2\": 0.05, \"count\": 11568}, {\"score_r8_b2\": 0.0357, \"count\": 2308}, {\"score_r8_b2\": 0.25, \"count\": 2109}, {\"score_r8_b2\": 0.0455, \"count\": 9560}, {\"score_r8_b2\": 0.0667, \"count\": 12201}, {\"score_r8_b2\": 0.0435, \"count\": 8169}, {\"score_r8_b2\": 0.2, \"count\": 2654}, {\"score_r8_b2\": 0.1429, \"count\": 5364}, {\"score_r8_b2\": 0.0385, \"count\": 4549}, {\"score_r8_b2\": 0.1667, \"count\": 4278}, {\"score_r8_b2\": 0.0909, \"count\": 9415}, {\"score_r8_b2\": 0.0556, \"count\": 12822}, {\"score_r8_b2\": 0.0526, \"count\": 12083}, {\"score_r8_b2\": 0.0417, \"count\": 7142}]}}, {\"mode\": \"vega-lite\"});\n",
       "</script>"
      ],
      "text/plain": [
       "alt.Chart(...)"
      ]
     },
     "metadata": {},
     "output_type": "display_data"
    }
   ],
   "source": [
    "show_b_stats('score_left_b2')\n",
    "show_b_stats('score_r8_b2')\n"
   ]
  },
  {
   "cell_type": "code",
   "execution_count": 44,
   "metadata": {},
   "outputs": [
    {
     "data": {
      "text/html": [
       "<div><style>\n",
       ".dataframe > thead > tr,\n",
       ".dataframe > tbody > tr {\n",
       "  text-align: right;\n",
       "  white-space: pre-wrap;\n",
       "}\n",
       "</style>\n",
       "<small>shape: (45, 2)</small><table border=\"1\" class=\"dataframe\"><thead><tr><th>score_left_b4</th><th>count</th></tr><tr><td>f64</td><td>u32</td></tr></thead><tbody><tr><td>0.0233</td><td>82862</td></tr><tr><td>0.0769</td><td>249049</td></tr><tr><td>0.125</td><td>86736</td></tr><tr><td>0.0333</td><td>648382</td></tr><tr><td>0.0476</td><td>558748</td></tr><tr><td>&hellip;</td><td>&hellip;</td></tr><tr><td>0.0227</td><td>45145</td></tr><tr><td>0.1667</td><td>44909</td></tr><tr><td>0.0417</td><td>623515</td></tr><tr><td>0.0526</td><td>488582</td></tr><tr><td>0.0556</td><td>449018</td></tr></tbody></table></div>"
      ],
      "text/plain": [
       "shape: (45, 2)\n",
       "┌───────────────┬────────┐\n",
       "│ score_left_b4 ┆ count  │\n",
       "│ ---           ┆ ---    │\n",
       "│ f64           ┆ u32    │\n",
       "╞═══════════════╪════════╡\n",
       "│ 0.0233        ┆ 82862  │\n",
       "│ 0.0769        ┆ 249049 │\n",
       "│ 0.125         ┆ 86736  │\n",
       "│ 0.0333        ┆ 648382 │\n",
       "│ 0.0476        ┆ 558748 │\n",
       "│ …             ┆ …      │\n",
       "│ 0.0227        ┆ 45145  │\n",
       "│ 0.1667        ┆ 44909  │\n",
       "│ 0.0417        ┆ 623515 │\n",
       "│ 0.0526        ┆ 488582 │\n",
       "│ 0.0556        ┆ 449018 │\n",
       "└───────────────┴────────┘"
      ]
     },
     "metadata": {},
     "output_type": "display_data"
    },
    {
     "data": {
      "text/html": [
       "\n",
       "<style>\n",
       "  #altair-viz-2996018c70e04befa12b34210d0146f3.vega-embed {\n",
       "    width: 100%;\n",
       "    display: flex;\n",
       "  }\n",
       "\n",
       "  #altair-viz-2996018c70e04befa12b34210d0146f3.vega-embed details,\n",
       "  #altair-viz-2996018c70e04befa12b34210d0146f3.vega-embed details summary {\n",
       "    position: relative;\n",
       "  }\n",
       "</style>\n",
       "<div id=\"altair-viz-2996018c70e04befa12b34210d0146f3\"></div>\n",
       "<script type=\"text/javascript\">\n",
       "  var VEGA_DEBUG = (typeof VEGA_DEBUG == \"undefined\") ? {} : VEGA_DEBUG;\n",
       "  (function(spec, embedOpt){\n",
       "    let outputDiv = document.currentScript.previousElementSibling;\n",
       "    if (outputDiv.id !== \"altair-viz-2996018c70e04befa12b34210d0146f3\") {\n",
       "      outputDiv = document.getElementById(\"altair-viz-2996018c70e04befa12b34210d0146f3\");\n",
       "    }\n",
       "\n",
       "    const paths = {\n",
       "      \"vega\": \"https://cdn.jsdelivr.net/npm/vega@5?noext\",\n",
       "      \"vega-lib\": \"https://cdn.jsdelivr.net/npm/vega-lib?noext\",\n",
       "      \"vega-lite\": \"https://cdn.jsdelivr.net/npm/vega-lite@5.20.1?noext\",\n",
       "      \"vega-embed\": \"https://cdn.jsdelivr.net/npm/vega-embed@6?noext\",\n",
       "    };\n",
       "\n",
       "    function maybeLoadScript(lib, version) {\n",
       "      var key = `${lib.replace(\"-\", \"\")}_version`;\n",
       "      return (VEGA_DEBUG[key] == version) ?\n",
       "        Promise.resolve(paths[lib]) :\n",
       "        new Promise(function(resolve, reject) {\n",
       "          var s = document.createElement('script');\n",
       "          document.getElementsByTagName(\"head\")[0].appendChild(s);\n",
       "          s.async = true;\n",
       "          s.onload = () => {\n",
       "            VEGA_DEBUG[key] = version;\n",
       "            return resolve(paths[lib]);\n",
       "          };\n",
       "          s.onerror = () => reject(`Error loading script: ${paths[lib]}`);\n",
       "          s.src = paths[lib];\n",
       "        });\n",
       "    }\n",
       "\n",
       "    function showError(err) {\n",
       "      outputDiv.innerHTML = `<div class=\"error\" style=\"color:red;\">${err}</div>`;\n",
       "      throw err;\n",
       "    }\n",
       "\n",
       "    function displayChart(vegaEmbed) {\n",
       "      vegaEmbed(outputDiv, spec, embedOpt)\n",
       "        .catch(err => showError(`Javascript Error: ${err.message}<br>This usually means there's a typo in your chart specification. See the javascript console for the full traceback.`));\n",
       "    }\n",
       "\n",
       "    if(typeof define === \"function\" && define.amd) {\n",
       "      requirejs.config({paths});\n",
       "      let deps = [\"vega-embed\"];\n",
       "      require(deps, displayChart, err => showError(`Error loading script: ${err.message}`));\n",
       "    } else {\n",
       "      maybeLoadScript(\"vega\", \"5\")\n",
       "        .then(() => maybeLoadScript(\"vega-lite\", \"5.20.1\"))\n",
       "        .then(() => maybeLoadScript(\"vega-embed\", \"6\"))\n",
       "        .catch(showError)\n",
       "        .then(() => displayChart(vegaEmbed));\n",
       "    }\n",
       "  })({\"config\": {\"view\": {\"continuousWidth\": 300, \"continuousHeight\": 300}}, \"data\": {\"name\": \"data-5d2b42035cb419ea6e54e576e7bc3e2e\"}, \"mark\": {\"type\": \"bar\", \"tooltip\": true}, \"encoding\": {\"color\": {\"field\": \"score_left_b4\", \"type\": \"quantitative\"}, \"x\": {\"field\": \"score_left_b4\", \"type\": \"quantitative\"}, \"y\": {\"field\": \"count\", \"type\": \"quantitative\"}}, \"params\": [{\"name\": \"param_15\", \"select\": {\"type\": \"interval\", \"encodings\": [\"x\", \"y\"]}, \"bind\": \"scales\"}], \"$schema\": \"https://vega.github.io/schema/vega-lite/v5.20.1.json\", \"datasets\": {\"data-5d2b42035cb419ea6e54e576e7bc3e2e\": [{\"score_left_b4\": 0.0233, \"count\": 82862}, {\"score_left_b4\": 0.0769, \"count\": 249049}, {\"score_left_b4\": 0.125, \"count\": 86736}, {\"score_left_b4\": 0.0333, \"count\": 648382}, {\"score_left_b4\": 0.0476, \"count\": 558748}, {\"score_left_b4\": 0.0588, \"count\": 410111}, {\"score_left_b4\": 0.025, \"count\": 234951}, {\"score_left_b4\": 0.0833, \"count\": 210618}, {\"score_left_b4\": 0.5, \"count\": 3938}, {\"score_left_b4\": 0.037, \"count\": 663635}, {\"score_left_b4\": 0.0714, \"count\": 287253}, {\"score_left_b4\": 0.1, \"count\": 142677}, {\"score_left_b4\": 0.0345, \"count\": 659646}, {\"score_left_b4\": 0.3333, \"count\": 9410}, {\"score_left_b4\": 0.0278, \"count\": 449502}, {\"score_left_b4\": 0.0222, \"count\": 16103}, {\"score_left_b4\": 0.0256, \"count\": 288902}, {\"score_left_b4\": 0.0312, \"count\": 605690}, {\"score_left_b4\": 0.0238, \"count\": 129740}, {\"score_left_b4\": 0.0625, \"count\": 368342}, {\"score_left_b4\": 0.04, \"count\": 642862}, {\"score_left_b4\": 0.0263, \"count\": 345464}, {\"score_left_b4\": 0.027, \"count\": 397509}, {\"score_left_b4\": 0.05, \"count\": 524085}, {\"score_left_b4\": 0.0294, \"count\": 538220}, {\"score_left_b4\": 0.0667, \"count\": 328585}, {\"score_left_b4\": 0.0303, \"count\": 573931}, {\"score_left_b4\": 0.1111, \"count\": 113677}, {\"score_left_b4\": 0.25, \"count\": 17753}, {\"score_left_b4\": 0.0455, \"count\": 588350}, {\"score_left_b4\": 0.0286, \"count\": 494960}, {\"score_left_b4\": 0.0357, \"count\": 664974}, {\"score_left_b4\": 0.1429, \"count\": 64406}, {\"score_left_b4\": 1.0, \"count\": 1031}, {\"score_left_b4\": 0.0435, \"count\": 581413}, {\"score_left_b4\": 0.2, \"count\": 29765}, {\"score_left_b4\": 0.0323, \"count\": 629626}, {\"score_left_b4\": 0.0909, \"count\": 176136}, {\"score_left_b4\": 0.0385, \"count\": 655992}, {\"score_left_b4\": 0.0244, \"count\": 179492}, {\"score_left_b4\": 0.0227, \"count\": 45145}, {\"score_left_b4\": 0.1667, \"count\": 44909}, {\"score_left_b4\": 0.0417, \"count\": 623515}, {\"score_left_b4\": 0.0526, \"count\": 488582}, {\"score_left_b4\": 0.0556, \"count\": 449018}]}}, {\"mode\": \"vega-lite\"});\n",
       "</script>"
      ],
      "text/plain": [
       "alt.Chart(...)"
      ]
     },
     "metadata": {},
     "output_type": "display_data"
    },
    {
     "data": {
      "text/html": [
       "<div><style>\n",
       ".dataframe > thead > tr,\n",
       ".dataframe > tbody > tr {\n",
       "  text-align: right;\n",
       "  white-space: pre-wrap;\n",
       "}\n",
       "</style>\n",
       "<small>shape: (45, 2)</small><table border=\"1\" class=\"dataframe\"><thead><tr><th>score_r8_b4</th><th>count</th></tr><tr><td>f64</td><td>u32</td></tr></thead><tbody><tr><td>0.0588</td><td>136677</td></tr><tr><td>0.0333</td><td>627015</td></tr><tr><td>0.0476</td><td>258255</td></tr><tr><td>0.025</td><td>713193</td></tr><tr><td>0.0769</td><td>58470</td></tr><tr><td>&hellip;</td><td>&hellip;</td></tr><tr><td>0.1667</td><td>4963</td></tr><tr><td>0.0227</td><td>345103</td></tr><tr><td>0.0526</td><td>192050</td></tr><tr><td>0.0556</td><td>163611</td></tr><tr><td>0.0417</td><td>372733</td></tr></tbody></table></div>"
      ],
      "text/plain": [
       "shape: (45, 2)\n",
       "┌─────────────┬────────┐\n",
       "│ score_r8_b4 ┆ count  │\n",
       "│ ---         ┆ ---    │\n",
       "│ f64         ┆ u32    │\n",
       "╞═════════════╪════════╡\n",
       "│ 0.0588      ┆ 136677 │\n",
       "│ 0.0333      ┆ 627015 │\n",
       "│ 0.0476      ┆ 258255 │\n",
       "│ 0.025       ┆ 713193 │\n",
       "│ 0.0769      ┆ 58470  │\n",
       "│ …           ┆ …      │\n",
       "│ 0.1667      ┆ 4963   │\n",
       "│ 0.0227      ┆ 345103 │\n",
       "│ 0.0526      ┆ 192050 │\n",
       "│ 0.0556      ┆ 163611 │\n",
       "│ 0.0417      ┆ 372733 │\n",
       "└─────────────┴────────┘"
      ]
     },
     "metadata": {},
     "output_type": "display_data"
    },
    {
     "data": {
      "text/html": [
       "\n",
       "<style>\n",
       "  #altair-viz-5d759be1fb894ea7834420c8d5268f16.vega-embed {\n",
       "    width: 100%;\n",
       "    display: flex;\n",
       "  }\n",
       "\n",
       "  #altair-viz-5d759be1fb894ea7834420c8d5268f16.vega-embed details,\n",
       "  #altair-viz-5d759be1fb894ea7834420c8d5268f16.vega-embed details summary {\n",
       "    position: relative;\n",
       "  }\n",
       "</style>\n",
       "<div id=\"altair-viz-5d759be1fb894ea7834420c8d5268f16\"></div>\n",
       "<script type=\"text/javascript\">\n",
       "  var VEGA_DEBUG = (typeof VEGA_DEBUG == \"undefined\") ? {} : VEGA_DEBUG;\n",
       "  (function(spec, embedOpt){\n",
       "    let outputDiv = document.currentScript.previousElementSibling;\n",
       "    if (outputDiv.id !== \"altair-viz-5d759be1fb894ea7834420c8d5268f16\") {\n",
       "      outputDiv = document.getElementById(\"altair-viz-5d759be1fb894ea7834420c8d5268f16\");\n",
       "    }\n",
       "\n",
       "    const paths = {\n",
       "      \"vega\": \"https://cdn.jsdelivr.net/npm/vega@5?noext\",\n",
       "      \"vega-lib\": \"https://cdn.jsdelivr.net/npm/vega-lib?noext\",\n",
       "      \"vega-lite\": \"https://cdn.jsdelivr.net/npm/vega-lite@5.20.1?noext\",\n",
       "      \"vega-embed\": \"https://cdn.jsdelivr.net/npm/vega-embed@6?noext\",\n",
       "    };\n",
       "\n",
       "    function maybeLoadScript(lib, version) {\n",
       "      var key = `${lib.replace(\"-\", \"\")}_version`;\n",
       "      return (VEGA_DEBUG[key] == version) ?\n",
       "        Promise.resolve(paths[lib]) :\n",
       "        new Promise(function(resolve, reject) {\n",
       "          var s = document.createElement('script');\n",
       "          document.getElementsByTagName(\"head\")[0].appendChild(s);\n",
       "          s.async = true;\n",
       "          s.onload = () => {\n",
       "            VEGA_DEBUG[key] = version;\n",
       "            return resolve(paths[lib]);\n",
       "          };\n",
       "          s.onerror = () => reject(`Error loading script: ${paths[lib]}`);\n",
       "          s.src = paths[lib];\n",
       "        });\n",
       "    }\n",
       "\n",
       "    function showError(err) {\n",
       "      outputDiv.innerHTML = `<div class=\"error\" style=\"color:red;\">${err}</div>`;\n",
       "      throw err;\n",
       "    }\n",
       "\n",
       "    function displayChart(vegaEmbed) {\n",
       "      vegaEmbed(outputDiv, spec, embedOpt)\n",
       "        .catch(err => showError(`Javascript Error: ${err.message}<br>This usually means there's a typo in your chart specification. See the javascript console for the full traceback.`));\n",
       "    }\n",
       "\n",
       "    if(typeof define === \"function\" && define.amd) {\n",
       "      requirejs.config({paths});\n",
       "      let deps = [\"vega-embed\"];\n",
       "      require(deps, displayChart, err => showError(`Error loading script: ${err.message}`));\n",
       "    } else {\n",
       "      maybeLoadScript(\"vega\", \"5\")\n",
       "        .then(() => maybeLoadScript(\"vega-lite\", \"5.20.1\"))\n",
       "        .then(() => maybeLoadScript(\"vega-embed\", \"6\"))\n",
       "        .catch(showError)\n",
       "        .then(() => displayChart(vegaEmbed));\n",
       "    }\n",
       "  })({\"config\": {\"view\": {\"continuousWidth\": 300, \"continuousHeight\": 300}}, \"data\": {\"name\": \"data-c7e5d33359bfa130df85094e9eca1fa2\"}, \"mark\": {\"type\": \"bar\", \"tooltip\": true}, \"encoding\": {\"color\": {\"field\": \"score_r8_b4\", \"type\": \"quantitative\"}, \"x\": {\"field\": \"score_r8_b4\", \"type\": \"quantitative\"}, \"y\": {\"field\": \"count\", \"type\": \"quantitative\"}}, \"params\": [{\"name\": \"param_16\", \"select\": {\"type\": \"interval\", \"encodings\": [\"x\", \"y\"]}, \"bind\": \"scales\"}], \"$schema\": \"https://vega.github.io/schema/vega-lite/v5.20.1.json\", \"datasets\": {\"data-c7e5d33359bfa130df85094e9eca1fa2\": [{\"score_r8_b4\": 0.0588, \"count\": 136677}, {\"score_r8_b4\": 0.0333, \"count\": 627015}, {\"score_r8_b4\": 0.0476, \"count\": 258255}, {\"score_r8_b4\": 0.025, \"count\": 713193}, {\"score_r8_b4\": 0.0769, \"count\": 58470}, {\"score_r8_b4\": 0.125, \"count\": 12321}, {\"score_r8_b4\": 0.0233, \"count\": 476055}, {\"score_r8_b4\": 0.0714, \"count\": 74484}, {\"score_r8_b4\": 0.1, \"count\": 25233}, {\"score_r8_b4\": 0.0833, \"count\": 45433}, {\"score_r8_b4\": 0.037, \"count\": 498061}, {\"score_r8_b4\": 0.5, \"count\": 218}, {\"score_r8_b4\": 0.0256, \"count\": 755040}, {\"score_r8_b4\": 0.3333, \"count\": 638}, {\"score_r8_b4\": 0.0278, \"count\": 790019}, {\"score_r8_b4\": 0.0312, \"count\": 702430}, {\"score_r8_b4\": 0.0222, \"count\": 193818}, {\"score_r8_b4\": 0.0345, \"count\": 584324}, {\"score_r8_b4\": 0.0263, \"count\": 779220}, {\"score_r8_b4\": 0.027, \"count\": 790718}, {\"score_r8_b4\": 0.0238, \"count\": 574975}, {\"score_r8_b4\": 0.0625, \"count\": 113628}, {\"score_r8_b4\": 0.04, \"count\": 412592}, {\"score_r8_b4\": 0.0294, \"count\": 760254}, {\"score_r8_b4\": 0.0357, \"count\": 542604}, {\"score_r8_b4\": 0.0303, \"count\": 733376}, {\"score_r8_b4\": 0.1111, \"count\": 17878}, {\"score_r8_b4\": 0.25, \"count\": 1452}, {\"score_r8_b4\": 0.0455, \"count\": 296057}, {\"score_r8_b4\": 0.0667, \"count\": 92325}, {\"score_r8_b4\": 0.05, \"count\": 224622}, {\"score_r8_b4\": 0.0286, \"count\": 778990}, {\"score_r8_b4\": 0.0435, \"count\": 334259}, {\"score_r8_b4\": 0.2, \"count\": 2816}, {\"score_r8_b4\": 0.0323, \"count\": 665333}, {\"score_r8_b4\": 1.0, \"count\": 45}, {\"score_r8_b4\": 0.1429, \"count\": 8010}, {\"score_r8_b4\": 0.0385, \"count\": 456067}, {\"score_r8_b4\": 0.0244, \"count\": 656202}, {\"score_r8_b4\": 0.0909, \"count\": 34128}, {\"score_r8_b4\": 0.1667, \"count\": 4963}, {\"score_r8_b4\": 0.0227, \"count\": 345103}, {\"score_r8_b4\": 0.0526, \"count\": 192050}, {\"score_r8_b4\": 0.0556, \"count\": 163611}, {\"score_r8_b4\": 0.0417, \"count\": 372733}]}}, {\"mode\": \"vega-lite\"});\n",
       "</script>"
      ],
      "text/plain": [
       "alt.Chart(...)"
      ]
     },
     "metadata": {},
     "output_type": "display_data"
    }
   ],
   "source": [
    "show_b_stats('score_left_b4')\n",
    "show_b_stats('score_r8_b4')"
   ]
  }
 ],
 "metadata": {
  "kernelspec": {
   "display_name": ".venv",
   "language": "python",
   "name": "python3"
  },
  "language_info": {
   "codemirror_mode": {
    "name": "ipython",
    "version": 3
   },
   "file_extension": ".py",
   "mimetype": "text/x-python",
   "name": "python",
   "nbconvert_exporter": "python",
   "pygments_lexer": "ipython3",
   "version": "3.12.9"
  }
 },
 "nbformat": 4,
 "nbformat_minor": 2
}

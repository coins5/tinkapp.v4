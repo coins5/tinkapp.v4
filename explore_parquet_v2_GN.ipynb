{
 "cells": [
  {
   "cell_type": "code",
   "execution_count": 1,
   "metadata": {},
   "outputs": [],
   "source": [
    "from bs4 import BeautifulSoup\n",
    "import pandas as pd\n",
    "from datetime import datetime, timedelta\n",
    "from itertools import combinations\n",
    "import json\n",
    "import requests\n",
    "import math\n",
    "from typing import Optional, List, Dict\n",
    "\n",
    "from pydantic import BaseModel\n",
    "from typing import Mapping\n",
    "import numpy as np\n",
    "import polars as pl"
   ]
  },
  {
   "cell_type": "code",
   "execution_count": 2,
   "metadata": {},
   "outputs": [
    {
     "data": {
      "text/html": [
       "<div><style>\n",
       ".dataframe > thead > tr,\n",
       ".dataframe > tbody > tr {\n",
       "  text-align: right;\n",
       "  white-space: pre-wrap;\n",
       "}\n",
       "</style>\n",
       "<small>shape: (10, 23)</small><table border=\"1\" class=\"dataframe\"><thead><tr><th>id</th><th>combo</th><th>b1</th><th>b2</th><th>b3</th><th>b4</th><th>b5</th><th>is_rare_combination</th><th>reason</th><th>score_left_b1</th><th>score_left_b2</th><th>score_left_b3</th><th>score_left_b4</th><th>score_left_b5</th><th>score_r8_b1</th><th>score_r8_b2</th><th>score_r8_b3</th><th>score_r8_b4</th><th>score_r8_b5</th><th>shared_values</th><th>shared_values_count</th><th>score_row</th><th>int_unijump</th></tr><tr><td>str</td><td>array[u8, 5]</td><td>u8</td><td>u8</td><td>u8</td><td>u8</td><td>u8</td><td>bool</td><td>i64</td><td>f64</td><td>f64</td><td>f64</td><td>f64</td><td>f64</td><td>f64</td><td>f64</td><td>f64</td><td>f64</td><td>f64</td><td>list[f64]</td><td>u8</td><td>f64</td><td>i64</td></tr></thead><tbody><tr><td>&quot;0102040507&quot;</td><td>[1, 2, … 7]</td><td>1</td><td>2</td><td>4</td><td>5</td><td>7</td><td>true</td><td>16</td><td>1.0</td><td>0.0323</td><td>0.0323</td><td>0.0333</td><td>0.0333</td><td>1.0</td><td>0.5</td><td>0.5</td><td>0.3333</td><td>0.0333</td><td>[0.0333]</td><td>1</td><td>3.4978</td><td>4</td></tr><tr><td>&quot;0102040508&quot;</td><td>[1, 2, … 8]</td><td>1</td><td>2</td><td>4</td><td>5</td><td>8</td><td>true</td><td>16</td><td>1.0</td><td>0.0323</td><td>0.0323</td><td>0.0333</td><td>0.0333</td><td>1.0</td><td>0.5</td><td>0.5</td><td>0.25</td><td>0.0333</td><td>[0.0333]</td><td>1</td><td>3.4145</td><td>5</td></tr><tr><td>&quot;0102040509&quot;</td><td>[1, 2, … 9]</td><td>1</td><td>2</td><td>4</td><td>5</td><td>9</td><td>true</td><td>16</td><td>1.0</td><td>0.0323</td><td>0.0323</td><td>0.0333</td><td>0.0333</td><td>1.0</td><td>0.5</td><td>0.5</td><td>0.2</td><td>0.0333</td><td>[0.0333]</td><td>1</td><td>3.3645</td><td>6</td></tr><tr><td>&quot;0102040510&quot;</td><td>[1, 2, … 10]</td><td>1</td><td>2</td><td>4</td><td>5</td><td>10</td><td>true</td><td>16</td><td>1.0</td><td>0.0323</td><td>0.0323</td><td>0.0333</td><td>0.0333</td><td>1.0</td><td>0.5</td><td>0.5</td><td>0.1667</td><td>0.0333</td><td>[0.0333]</td><td>1</td><td>3.3312</td><td>7</td></tr><tr><td>&quot;0102040511&quot;</td><td>[1, 2, … 11]</td><td>1</td><td>2</td><td>4</td><td>5</td><td>11</td><td>true</td><td>16</td><td>1.0</td><td>0.0323</td><td>0.0323</td><td>0.0333</td><td>0.0333</td><td>1.0</td><td>0.5</td><td>0.5</td><td>0.1429</td><td>0.0333</td><td>[0.0333]</td><td>1</td><td>3.3074</td><td>8</td></tr><tr><td>&quot;0102040512&quot;</td><td>[1, 2, … 12]</td><td>1</td><td>2</td><td>4</td><td>5</td><td>12</td><td>true</td><td>16</td><td>1.0</td><td>0.0323</td><td>0.0323</td><td>0.0333</td><td>0.0333</td><td>1.0</td><td>0.5</td><td>0.5</td><td>0.125</td><td>0.0333</td><td>[0.0333]</td><td>1</td><td>3.2895</td><td>9</td></tr><tr><td>&quot;0102040513&quot;</td><td>[1, 2, … 13]</td><td>1</td><td>2</td><td>4</td><td>5</td><td>13</td><td>false</td><td>0</td><td>1.0</td><td>0.0323</td><td>0.0323</td><td>0.0333</td><td>0.0333</td><td>1.0</td><td>0.5</td><td>0.5</td><td>0.1111</td><td>0.0333</td><td>[0.0333]</td><td>1</td><td>3.2756</td><td>10</td></tr><tr><td>&quot;0102040514&quot;</td><td>[1, 2, … 14]</td><td>1</td><td>2</td><td>4</td><td>5</td><td>14</td><td>true</td><td>16</td><td>1.0</td><td>0.0323</td><td>0.0323</td><td>0.0333</td><td>0.0333</td><td>1.0</td><td>0.5</td><td>0.5</td><td>0.1</td><td>0.0333</td><td>[0.0333]</td><td>1</td><td>3.2645</td><td>11</td></tr><tr><td>&quot;0102040515&quot;</td><td>[1, 2, … 15]</td><td>1</td><td>2</td><td>4</td><td>5</td><td>15</td><td>true</td><td>16</td><td>1.0</td><td>0.0323</td><td>0.0323</td><td>0.0333</td><td>0.0333</td><td>1.0</td><td>0.5</td><td>0.5</td><td>0.0909</td><td>0.0333</td><td>[0.0333]</td><td>1</td><td>3.2554</td><td>12</td></tr><tr><td>&quot;0102040516&quot;</td><td>[1, 2, … 16]</td><td>1</td><td>2</td><td>4</td><td>5</td><td>16</td><td>true</td><td>16</td><td>1.0</td><td>0.0323</td><td>0.0323</td><td>0.0333</td><td>0.0333</td><td>1.0</td><td>0.5</td><td>0.5</td><td>0.0833</td><td>0.0333</td><td>[0.0333]</td><td>1</td><td>3.2478</td><td>13</td></tr></tbody></table></div>"
      ],
      "text/plain": [
       "shape: (10, 23)\n",
       "┌────────────┬──────────────┬─────┬─────┬───┬──────────────┬─────────────┬───────────┬─────────────┐\n",
       "│ id         ┆ combo        ┆ b1  ┆ b2  ┆ … ┆ shared_value ┆ shared_valu ┆ score_row ┆ int_unijump │\n",
       "│ ---        ┆ ---          ┆ --- ┆ --- ┆   ┆ s            ┆ es_count    ┆ ---       ┆ ---         │\n",
       "│ str        ┆ array[u8, 5] ┆ u8  ┆ u8  ┆   ┆ ---          ┆ ---         ┆ f64       ┆ i64         │\n",
       "│            ┆              ┆     ┆     ┆   ┆ list[f64]    ┆ u8          ┆           ┆             │\n",
       "╞════════════╪══════════════╪═════╪═════╪═══╪══════════════╪═════════════╪═══════════╪═════════════╡\n",
       "│ 0102040507 ┆ [1, 2, … 7]  ┆ 1   ┆ 2   ┆ … ┆ [0.0333]     ┆ 1           ┆ 3.4978    ┆ 4           │\n",
       "│ 0102040508 ┆ [1, 2, … 8]  ┆ 1   ┆ 2   ┆ … ┆ [0.0333]     ┆ 1           ┆ 3.4145    ┆ 5           │\n",
       "│ 0102040509 ┆ [1, 2, … 9]  ┆ 1   ┆ 2   ┆ … ┆ [0.0333]     ┆ 1           ┆ 3.3645    ┆ 6           │\n",
       "│ 0102040510 ┆ [1, 2, … 10] ┆ 1   ┆ 2   ┆ … ┆ [0.0333]     ┆ 1           ┆ 3.3312    ┆ 7           │\n",
       "│ 0102040511 ┆ [1, 2, … 11] ┆ 1   ┆ 2   ┆ … ┆ [0.0333]     ┆ 1           ┆ 3.3074    ┆ 8           │\n",
       "│ 0102040512 ┆ [1, 2, … 12] ┆ 1   ┆ 2   ┆ … ┆ [0.0333]     ┆ 1           ┆ 3.2895    ┆ 9           │\n",
       "│ 0102040513 ┆ [1, 2, … 13] ┆ 1   ┆ 2   ┆ … ┆ [0.0333]     ┆ 1           ┆ 3.2756    ┆ 10          │\n",
       "│ 0102040514 ┆ [1, 2, … 14] ┆ 1   ┆ 2   ┆ … ┆ [0.0333]     ┆ 1           ┆ 3.2645    ┆ 11          │\n",
       "│ 0102040515 ┆ [1, 2, … 15] ┆ 1   ┆ 2   ┆ … ┆ [0.0333]     ┆ 1           ┆ 3.2554    ┆ 12          │\n",
       "│ 0102040516 ┆ [1, 2, … 16] ┆ 1   ┆ 2   ┆ … ┆ [0.0333]     ┆ 1           ┆ 3.2478    ┆ 13          │\n",
       "└────────────┴──────────────┴─────┴─────┴───┴──────────────┴─────────────┴───────────┴─────────────┘"
      ]
     },
     "metadata": {},
     "output_type": "display_data"
    }
   ],
   "source": [
    "dfRows = pl.read_parquet(\"./saved_bolillas_gn.parquet\")\n",
    "\n",
    "display(dfRows.head(10))"
   ]
  },
  {
   "cell_type": "markdown",
   "metadata": {},
   "source": [
    "# Get random ticket"
   ]
  },
  {
   "cell_type": "code",
   "execution_count": 8,
   "metadata": {},
   "outputs": [
    {
     "data": {
      "text/html": [
       "<div><style>\n",
       ".dataframe > thead > tr,\n",
       ".dataframe > tbody > tr {\n",
       "  text-align: right;\n",
       "  white-space: pre-wrap;\n",
       "}\n",
       "</style>\n",
       "<small>shape: (1, 23)</small><table border=\"1\" class=\"dataframe\"><thead><tr><th>id</th><th>combo</th><th>b1</th><th>b2</th><th>b3</th><th>b4</th><th>b5</th><th>is_rare_combination</th><th>reason</th><th>score_left_b1</th><th>score_left_b2</th><th>score_left_b3</th><th>score_left_b4</th><th>score_left_b5</th><th>score_r8_b1</th><th>score_r8_b2</th><th>score_r8_b3</th><th>score_r8_b4</th><th>score_r8_b5</th><th>shared_values</th><th>shared_values_count</th><th>score_row</th><th>int_unijump</th></tr><tr><td>str</td><td>array[u8, 5]</td><td>u8</td><td>u8</td><td>u8</td><td>u8</td><td>u8</td><td>bool</td><td>i64</td><td>f64</td><td>f64</td><td>f64</td><td>f64</td><td>f64</td><td>f64</td><td>f64</td><td>f64</td><td>f64</td><td>f64</td><td>list[f64]</td><td>u8</td><td>f64</td><td>i64</td></tr></thead><tbody><tr><td>&quot;0611152728&quot;</td><td>[6, 11, … 28]</td><td>6</td><td>11</td><td>15</td><td>27</td><td>28</td><td>true</td><td>16</td><td>0.1</td><td>0.0385</td><td>0.0455</td><td>0.0526</td><td>0.125</td><td>0.1</td><td>0.0769</td><td>0.0417</td><td>0.0417</td><td>0.125</td><td>[0.125]</td><td>1</td><td>0.7469</td><td>-28</td></tr></tbody></table></div>"
      ],
      "text/plain": [
       "shape: (1, 23)\n",
       "┌────────────┬──────────────┬─────┬─────┬───┬──────────────┬─────────────┬───────────┬─────────────┐\n",
       "│ id         ┆ combo        ┆ b1  ┆ b2  ┆ … ┆ shared_value ┆ shared_valu ┆ score_row ┆ int_unijump │\n",
       "│ ---        ┆ ---          ┆ --- ┆ --- ┆   ┆ s            ┆ es_count    ┆ ---       ┆ ---         │\n",
       "│ str        ┆ array[u8, 5] ┆ u8  ┆ u8  ┆   ┆ ---          ┆ ---         ┆ f64       ┆ i64         │\n",
       "│            ┆              ┆     ┆     ┆   ┆ list[f64]    ┆ u8          ┆           ┆             │\n",
       "╞════════════╪══════════════╪═════╪═════╪═══╪══════════════╪═════════════╪═══════════╪═════════════╡\n",
       "│ 0611152728 ┆ [6, 11, …    ┆ 6   ┆ 11  ┆ … ┆ [0.125]      ┆ 1           ┆ 0.7469    ┆ -28         │\n",
       "│            ┆ 28]          ┆     ┆     ┆   ┆              ┆             ┆           ┆             │\n",
       "└────────────┴──────────────┴─────┴─────┴───┴──────────────┴─────────────┴───────────┴─────────────┘"
      ]
     },
     "execution_count": 8,
     "metadata": {},
     "output_type": "execute_result"
    }
   ],
   "source": [
    "dfRows.sample(n=1)  "
   ]
  },
  {
   "cell_type": "markdown",
   "metadata": {},
   "source": [
    "# ANALYZE"
   ]
  },
  {
   "cell_type": "code",
   "execution_count": 4,
   "metadata": {},
   "outputs": [
    {
     "data": {
      "text/html": [
       "<div><style>\n",
       ".dataframe > thead > tr,\n",
       ".dataframe > tbody > tr {\n",
       "  text-align: right;\n",
       "  white-space: pre-wrap;\n",
       "}\n",
       "</style>\n",
       "<small>shape: (2, 2)</small><table border=\"1\" class=\"dataframe\"><thead><tr><th>reason</th><th>count</th></tr><tr><td>i64</td><td>u32</td></tr></thead><tbody><tr><td>0</td><td>141183</td></tr><tr><td>16</td><td>68519</td></tr></tbody></table></div>"
      ],
      "text/plain": [
       "shape: (2, 2)\n",
       "┌────────┬────────┐\n",
       "│ reason ┆ count  │\n",
       "│ ---    ┆ ---    │\n",
       "│ i64    ┆ u32    │\n",
       "╞════════╪════════╡\n",
       "│ 0      ┆ 141183 │\n",
       "│ 16     ┆ 68519  │\n",
       "└────────┴────────┘"
      ]
     },
     "execution_count": 4,
     "metadata": {},
     "output_type": "execute_result"
    }
   ],
   "source": [
    "dfRows.group_by(\n",
    "  'reason'\n",
    ").agg(pl.count('reason').alias('count'))"
   ]
  },
  {
   "cell_type": "code",
   "execution_count": 5,
   "metadata": {},
   "outputs": [],
   "source": [
    "def show_b_stats (col: str):\n",
    "  df_viz = dfRows.group_by(\n",
    "    col\n",
    "  ).agg(pl.count(col).alias('count'))\n",
    "\n",
    "  chart = df_viz.plot.bar(\n",
    "    x=col,\n",
    "    y='count',\n",
    "    color=col,\n",
    "  )\n",
    "\n",
    "  display(df_viz)\n",
    "  display(chart)\n"
   ]
  },
  {
   "cell_type": "code",
   "execution_count": 6,
   "metadata": {},
   "outputs": [
    {
     "data": {
      "text/html": [
       "<div><style>\n",
       ".dataframe > thead > tr,\n",
       ".dataframe > tbody > tr {\n",
       "  text-align: right;\n",
       "  white-space: pre-wrap;\n",
       "}\n",
       "</style>\n",
       "<small>shape: (29, 2)</small><table border=\"1\" class=\"dataframe\"><thead><tr><th>score_left_b2</th><th>count</th></tr><tr><td>f64</td><td>u32</td></tr></thead><tbody><tr><td>0.0476</td><td>6993</td></tr><tr><td>0.125</td><td>158</td></tr><tr><td>0.0333</td><td>24568</td></tr><tr><td>0.0588</td><td>3284</td></tr><tr><td>0.0769</td><td>1130</td></tr><tr><td>&hellip;</td><td>&hellip;</td></tr><tr><td>0.1667</td><td>46</td></tr><tr><td>0.0909</td><td>580</td></tr><tr><td>0.0556</td><td>4088</td></tr><tr><td>0.0526</td><td>4877</td></tr><tr><td>0.0417</td><td>11838</td></tr></tbody></table></div>"
      ],
      "text/plain": [
       "shape: (29, 2)\n",
       "┌───────────────┬───────┐\n",
       "│ score_left_b2 ┆ count │\n",
       "│ ---           ┆ ---   │\n",
       "│ f64           ┆ u32   │\n",
       "╞═══════════════╪═══════╡\n",
       "│ 0.0476        ┆ 6993  │\n",
       "│ 0.125         ┆ 158   │\n",
       "│ 0.0333        ┆ 24568 │\n",
       "│ 0.0588        ┆ 3284  │\n",
       "│ 0.0769        ┆ 1130  │\n",
       "│ …             ┆ …     │\n",
       "│ 0.1667        ┆ 46    │\n",
       "│ 0.0909        ┆ 580   │\n",
       "│ 0.0556        ┆ 4088  │\n",
       "│ 0.0526        ┆ 4877  │\n",
       "│ 0.0417        ┆ 11838 │\n",
       "└───────────────┴───────┘"
      ]
     },
     "metadata": {},
     "output_type": "display_data"
    },
    {
     "data": {
      "text/html": [
       "\n",
       "<style>\n",
       "  #altair-viz-10465f91e6144d63b4ca5fe86961cc61.vega-embed {\n",
       "    width: 100%;\n",
       "    display: flex;\n",
       "  }\n",
       "\n",
       "  #altair-viz-10465f91e6144d63b4ca5fe86961cc61.vega-embed details,\n",
       "  #altair-viz-10465f91e6144d63b4ca5fe86961cc61.vega-embed details summary {\n",
       "    position: relative;\n",
       "  }\n",
       "</style>\n",
       "<div id=\"altair-viz-10465f91e6144d63b4ca5fe86961cc61\"></div>\n",
       "<script type=\"text/javascript\">\n",
       "  var VEGA_DEBUG = (typeof VEGA_DEBUG == \"undefined\") ? {} : VEGA_DEBUG;\n",
       "  (function(spec, embedOpt){\n",
       "    let outputDiv = document.currentScript.previousElementSibling;\n",
       "    if (outputDiv.id !== \"altair-viz-10465f91e6144d63b4ca5fe86961cc61\") {\n",
       "      outputDiv = document.getElementById(\"altair-viz-10465f91e6144d63b4ca5fe86961cc61\");\n",
       "    }\n",
       "\n",
       "    const paths = {\n",
       "      \"vega\": \"https://cdn.jsdelivr.net/npm/vega@5?noext\",\n",
       "      \"vega-lib\": \"https://cdn.jsdelivr.net/npm/vega-lib?noext\",\n",
       "      \"vega-lite\": \"https://cdn.jsdelivr.net/npm/vega-lite@5.20.1?noext\",\n",
       "      \"vega-embed\": \"https://cdn.jsdelivr.net/npm/vega-embed@6?noext\",\n",
       "    };\n",
       "\n",
       "    function maybeLoadScript(lib, version) {\n",
       "      var key = `${lib.replace(\"-\", \"\")}_version`;\n",
       "      return (VEGA_DEBUG[key] == version) ?\n",
       "        Promise.resolve(paths[lib]) :\n",
       "        new Promise(function(resolve, reject) {\n",
       "          var s = document.createElement('script');\n",
       "          document.getElementsByTagName(\"head\")[0].appendChild(s);\n",
       "          s.async = true;\n",
       "          s.onload = () => {\n",
       "            VEGA_DEBUG[key] = version;\n",
       "            return resolve(paths[lib]);\n",
       "          };\n",
       "          s.onerror = () => reject(`Error loading script: ${paths[lib]}`);\n",
       "          s.src = paths[lib];\n",
       "        });\n",
       "    }\n",
       "\n",
       "    function showError(err) {\n",
       "      outputDiv.innerHTML = `<div class=\"error\" style=\"color:red;\">${err}</div>`;\n",
       "      throw err;\n",
       "    }\n",
       "\n",
       "    function displayChart(vegaEmbed) {\n",
       "      vegaEmbed(outputDiv, spec, embedOpt)\n",
       "        .catch(err => showError(`Javascript Error: ${err.message}<br>This usually means there's a typo in your chart specification. See the javascript console for the full traceback.`));\n",
       "    }\n",
       "\n",
       "    if(typeof define === \"function\" && define.amd) {\n",
       "      requirejs.config({paths});\n",
       "      let deps = [\"vega-embed\"];\n",
       "      require(deps, displayChart, err => showError(`Error loading script: ${err.message}`));\n",
       "    } else {\n",
       "      maybeLoadScript(\"vega\", \"5\")\n",
       "        .then(() => maybeLoadScript(\"vega-lite\", \"5.20.1\"))\n",
       "        .then(() => maybeLoadScript(\"vega-embed\", \"6\"))\n",
       "        .catch(showError)\n",
       "        .then(() => displayChart(vegaEmbed));\n",
       "    }\n",
       "  })({\"config\": {\"view\": {\"continuousWidth\": 300, \"continuousHeight\": 300}}, \"data\": {\"name\": \"data-581b60eb97a4e7bd86d5533daef14aec\"}, \"mark\": {\"type\": \"bar\", \"tooltip\": true}, \"encoding\": {\"color\": {\"field\": \"score_left_b2\", \"type\": \"quantitative\"}, \"x\": {\"field\": \"score_left_b2\", \"type\": \"quantitative\"}, \"y\": {\"field\": \"count\", \"type\": \"quantitative\"}}, \"params\": [{\"name\": \"param_1\", \"select\": {\"type\": \"interval\", \"encodings\": [\"x\", \"y\"]}, \"bind\": \"scales\"}], \"$schema\": \"https://vega.github.io/schema/vega-lite/v5.20.1.json\", \"datasets\": {\"data-581b60eb97a4e7bd86d5533daef14aec\": [{\"score_left_b2\": 0.0476, \"count\": 6993}, {\"score_left_b2\": 0.125, \"count\": 158}, {\"score_left_b2\": 0.0333, \"count\": 24568}, {\"score_left_b2\": 0.0588, \"count\": 3284}, {\"score_left_b2\": 0.0769, \"count\": 1130}, {\"score_left_b2\": 0.1, \"count\": 394}, {\"score_left_b2\": 0.0714, \"count\": 1536}, {\"score_left_b2\": 0.037, \"count\": 17524}, {\"score_left_b2\": 0.0833, \"count\": 826}, {\"score_left_b2\": 0.3333, \"count\": 2}, {\"score_left_b2\": 0.0345, \"count\": 22574}, {\"score_left_b2\": 0.04, \"count\": 13334}, {\"score_left_b2\": 0.0625, \"count\": 2616}, {\"score_left_b2\": 0.1111, \"count\": 256}, {\"score_left_b2\": 0.0455, \"count\": 8584}, {\"score_left_b2\": 0.0667, \"count\": 1989}, {\"score_left_b2\": 0.05, \"count\": 6039}, {\"score_left_b2\": 0.25, \"count\": 8}, {\"score_left_b2\": 0.0357, \"count\": 20764}, {\"score_left_b2\": 0.0435, \"count\": 10041}, {\"score_left_b2\": 0.0323, \"count\": 29682}, {\"score_left_b2\": 0.1429, \"count\": 92}, {\"score_left_b2\": 0.2, \"count\": 22}, {\"score_left_b2\": 0.0385, \"count\": 15857}, {\"score_left_b2\": 0.1667, \"count\": 46}, {\"score_left_b2\": 0.0909, \"count\": 580}, {\"score_left_b2\": 0.0556, \"count\": 4088}, {\"score_left_b2\": 0.0526, \"count\": 4877}, {\"score_left_b2\": 0.0417, \"count\": 11838}]}}, {\"mode\": \"vega-lite\"});\n",
       "</script>"
      ],
      "text/plain": [
       "alt.Chart(...)"
      ]
     },
     "metadata": {},
     "output_type": "display_data"
    },
    {
     "data": {
      "text/html": [
       "<div><style>\n",
       ".dataframe > thead > tr,\n",
       ".dataframe > tbody > tr {\n",
       "  text-align: right;\n",
       "  white-space: pre-wrap;\n",
       "}\n",
       "</style>\n",
       "<small>shape: (29, 2)</small><table border=\"1\" class=\"dataframe\"><thead><tr><th>score_r8_b2</th><th>count</th></tr><tr><td>f64</td><td>u32</td></tr></thead><tbody><tr><td>0.125</td><td>6804</td></tr><tr><td>0.0476</td><td>10093</td></tr><tr><td>0.0769</td><td>11893</td></tr><tr><td>0.0588</td><td>12294</td></tr><tr><td>0.0333</td><td>634</td></tr><tr><td>&hellip;</td><td>&hellip;</td></tr><tr><td>0.1667</td><td>4278</td></tr><tr><td>0.0909</td><td>9415</td></tr><tr><td>0.0526</td><td>12083</td></tr><tr><td>0.0556</td><td>12822</td></tr><tr><td>0.0417</td><td>7142</td></tr></tbody></table></div>"
      ],
      "text/plain": [
       "shape: (29, 2)\n",
       "┌─────────────┬───────┐\n",
       "│ score_r8_b2 ┆ count │\n",
       "│ ---         ┆ ---   │\n",
       "│ f64         ┆ u32   │\n",
       "╞═════════════╪═══════╡\n",
       "│ 0.125       ┆ 6804  │\n",
       "│ 0.0476      ┆ 10093 │\n",
       "│ 0.0769      ┆ 11893 │\n",
       "│ 0.0588      ┆ 12294 │\n",
       "│ 0.0333      ┆ 634   │\n",
       "│ …           ┆ …     │\n",
       "│ 0.1667      ┆ 4278  │\n",
       "│ 0.0909      ┆ 9415  │\n",
       "│ 0.0526      ┆ 12083 │\n",
       "│ 0.0556      ┆ 12822 │\n",
       "│ 0.0417      ┆ 7142  │\n",
       "└─────────────┴───────┘"
      ]
     },
     "metadata": {},
     "output_type": "display_data"
    },
    {
     "data": {
      "text/html": [
       "\n",
       "<style>\n",
       "  #altair-viz-b5fc801c0ca24b019ca898592c0feed7.vega-embed {\n",
       "    width: 100%;\n",
       "    display: flex;\n",
       "  }\n",
       "\n",
       "  #altair-viz-b5fc801c0ca24b019ca898592c0feed7.vega-embed details,\n",
       "  #altair-viz-b5fc801c0ca24b019ca898592c0feed7.vega-embed details summary {\n",
       "    position: relative;\n",
       "  }\n",
       "</style>\n",
       "<div id=\"altair-viz-b5fc801c0ca24b019ca898592c0feed7\"></div>\n",
       "<script type=\"text/javascript\">\n",
       "  var VEGA_DEBUG = (typeof VEGA_DEBUG == \"undefined\") ? {} : VEGA_DEBUG;\n",
       "  (function(spec, embedOpt){\n",
       "    let outputDiv = document.currentScript.previousElementSibling;\n",
       "    if (outputDiv.id !== \"altair-viz-b5fc801c0ca24b019ca898592c0feed7\") {\n",
       "      outputDiv = document.getElementById(\"altair-viz-b5fc801c0ca24b019ca898592c0feed7\");\n",
       "    }\n",
       "\n",
       "    const paths = {\n",
       "      \"vega\": \"https://cdn.jsdelivr.net/npm/vega@5?noext\",\n",
       "      \"vega-lib\": \"https://cdn.jsdelivr.net/npm/vega-lib?noext\",\n",
       "      \"vega-lite\": \"https://cdn.jsdelivr.net/npm/vega-lite@5.20.1?noext\",\n",
       "      \"vega-embed\": \"https://cdn.jsdelivr.net/npm/vega-embed@6?noext\",\n",
       "    };\n",
       "\n",
       "    function maybeLoadScript(lib, version) {\n",
       "      var key = `${lib.replace(\"-\", \"\")}_version`;\n",
       "      return (VEGA_DEBUG[key] == version) ?\n",
       "        Promise.resolve(paths[lib]) :\n",
       "        new Promise(function(resolve, reject) {\n",
       "          var s = document.createElement('script');\n",
       "          document.getElementsByTagName(\"head\")[0].appendChild(s);\n",
       "          s.async = true;\n",
       "          s.onload = () => {\n",
       "            VEGA_DEBUG[key] = version;\n",
       "            return resolve(paths[lib]);\n",
       "          };\n",
       "          s.onerror = () => reject(`Error loading script: ${paths[lib]}`);\n",
       "          s.src = paths[lib];\n",
       "        });\n",
       "    }\n",
       "\n",
       "    function showError(err) {\n",
       "      outputDiv.innerHTML = `<div class=\"error\" style=\"color:red;\">${err}</div>`;\n",
       "      throw err;\n",
       "    }\n",
       "\n",
       "    function displayChart(vegaEmbed) {\n",
       "      vegaEmbed(outputDiv, spec, embedOpt)\n",
       "        .catch(err => showError(`Javascript Error: ${err.message}<br>This usually means there's a typo in your chart specification. See the javascript console for the full traceback.`));\n",
       "    }\n",
       "\n",
       "    if(typeof define === \"function\" && define.amd) {\n",
       "      requirejs.config({paths});\n",
       "      let deps = [\"vega-embed\"];\n",
       "      require(deps, displayChart, err => showError(`Error loading script: ${err.message}`));\n",
       "    } else {\n",
       "      maybeLoadScript(\"vega\", \"5\")\n",
       "        .then(() => maybeLoadScript(\"vega-lite\", \"5.20.1\"))\n",
       "        .then(() => maybeLoadScript(\"vega-embed\", \"6\"))\n",
       "        .catch(showError)\n",
       "        .then(() => displayChart(vegaEmbed));\n",
       "    }\n",
       "  })({\"config\": {\"view\": {\"continuousWidth\": 300, \"continuousHeight\": 300}}, \"data\": {\"name\": \"data-ebc1641ec9797cff3e95f2ce35d256c0\"}, \"mark\": {\"type\": \"bar\", \"tooltip\": true}, \"encoding\": {\"color\": {\"field\": \"score_r8_b2\", \"type\": \"quantitative\"}, \"x\": {\"field\": \"score_r8_b2\", \"type\": \"quantitative\"}, \"y\": {\"field\": \"count\", \"type\": \"quantitative\"}}, \"params\": [{\"name\": \"param_2\", \"select\": {\"type\": \"interval\", \"encodings\": [\"x\", \"y\"]}, \"bind\": \"scales\"}], \"$schema\": \"https://vega.github.io/schema/vega-lite/v5.20.1.json\", \"datasets\": {\"data-ebc1641ec9797cff3e95f2ce35d256c0\": [{\"score_r8_b2\": 0.125, \"count\": 6804}, {\"score_r8_b2\": 0.0476, \"count\": 10093}, {\"score_r8_b2\": 0.0769, \"count\": 11893}, {\"score_r8_b2\": 0.0588, \"count\": 12294}, {\"score_r8_b2\": 0.0333, \"count\": 634}, {\"score_r8_b2\": 0.037, \"count\": 3113}, {\"score_r8_b2\": 0.0714, \"count\": 12635}, {\"score_r8_b2\": 0.1, \"count\": 9247}, {\"score_r8_b2\": 0.5, \"count\": 586}, {\"score_r8_b2\": 0.0833, \"count\": 11293}, {\"score_r8_b2\": 0.3333, \"count\": 943}, {\"score_r8_b2\": 0.0345, \"count\": 1205}, {\"score_r8_b2\": 0.04, \"count\": 5649}, {\"score_r8_b2\": 0.0625, \"count\": 11807}, {\"score_r8_b2\": 0.1111, \"count\": 7284}, {\"score_r8_b2\": 0.25, \"count\": 2109}, {\"score_r8_b2\": 0.0357, \"count\": 2308}, {\"score_r8_b2\": 0.0455, \"count\": 9560}, {\"score_r8_b2\": 0.0667, \"count\": 12201}, {\"score_r8_b2\": 0.05, \"count\": 11568}, {\"score_r8_b2\": 0.0435, \"count\": 8169}, {\"score_r8_b2\": 0.1429, \"count\": 5364}, {\"score_r8_b2\": 0.2, \"count\": 2654}, {\"score_r8_b2\": 0.0385, \"count\": 4549}, {\"score_r8_b2\": 0.1667, \"count\": 4278}, {\"score_r8_b2\": 0.0909, \"count\": 9415}, {\"score_r8_b2\": 0.0526, \"count\": 12083}, {\"score_r8_b2\": 0.0556, \"count\": 12822}, {\"score_r8_b2\": 0.0417, \"count\": 7142}]}}, {\"mode\": \"vega-lite\"});\n",
       "</script>"
      ],
      "text/plain": [
       "alt.Chart(...)"
      ]
     },
     "metadata": {},
     "output_type": "display_data"
    }
   ],
   "source": [
    "show_b_stats('score_left_b2')\n",
    "show_b_stats('score_r8_b2')\n"
   ]
  },
  {
   "cell_type": "code",
   "execution_count": 7,
   "metadata": {},
   "outputs": [
    {
     "data": {
      "text/html": [
       "<div><style>\n",
       ".dataframe > thead > tr,\n",
       ".dataframe > tbody > tr {\n",
       "  text-align: right;\n",
       "  white-space: pre-wrap;\n",
       "}\n",
       "</style>\n",
       "<small>shape: (29, 2)</small><table border=\"1\" class=\"dataframe\"><thead><tr><th>score_left_b4</th><th>count</th></tr><tr><td>f64</td><td>u32</td></tr></thead><tbody><tr><td>0.0476</td><td>9415</td></tr><tr><td>0.125</td><td>7142</td></tr><tr><td>0.0769</td><td>12083</td></tr><tr><td>0.0588</td><td>12201</td></tr><tr><td>0.0333</td><td>586</td></tr><tr><td>&hellip;</td><td>&hellip;</td></tr><tr><td>0.1667</td><td>4549</td></tr><tr><td>0.0909</td><td>10093</td></tr><tr><td>0.0526</td><td>11893</td></tr><tr><td>0.0556</td><td>12635</td></tr><tr><td>0.0417</td><td>6804</td></tr></tbody></table></div>"
      ],
      "text/plain": [
       "shape: (29, 2)\n",
       "┌───────────────┬───────┐\n",
       "│ score_left_b4 ┆ count │\n",
       "│ ---           ┆ ---   │\n",
       "│ f64           ┆ u32   │\n",
       "╞═══════════════╪═══════╡\n",
       "│ 0.0476        ┆ 9415  │\n",
       "│ 0.125         ┆ 7142  │\n",
       "│ 0.0769        ┆ 12083 │\n",
       "│ 0.0588        ┆ 12201 │\n",
       "│ 0.0333        ┆ 586   │\n",
       "│ …             ┆ …     │\n",
       "│ 0.1667        ┆ 4549  │\n",
       "│ 0.0909        ┆ 10093 │\n",
       "│ 0.0526        ┆ 11893 │\n",
       "│ 0.0556        ┆ 12635 │\n",
       "│ 0.0417        ┆ 6804  │\n",
       "└───────────────┴───────┘"
      ]
     },
     "metadata": {},
     "output_type": "display_data"
    },
    {
     "data": {
      "text/html": [
       "\n",
       "<style>\n",
       "  #altair-viz-36ac137b7e9c4c9e86f6c73784a536d3.vega-embed {\n",
       "    width: 100%;\n",
       "    display: flex;\n",
       "  }\n",
       "\n",
       "  #altair-viz-36ac137b7e9c4c9e86f6c73784a536d3.vega-embed details,\n",
       "  #altair-viz-36ac137b7e9c4c9e86f6c73784a536d3.vega-embed details summary {\n",
       "    position: relative;\n",
       "  }\n",
       "</style>\n",
       "<div id=\"altair-viz-36ac137b7e9c4c9e86f6c73784a536d3\"></div>\n",
       "<script type=\"text/javascript\">\n",
       "  var VEGA_DEBUG = (typeof VEGA_DEBUG == \"undefined\") ? {} : VEGA_DEBUG;\n",
       "  (function(spec, embedOpt){\n",
       "    let outputDiv = document.currentScript.previousElementSibling;\n",
       "    if (outputDiv.id !== \"altair-viz-36ac137b7e9c4c9e86f6c73784a536d3\") {\n",
       "      outputDiv = document.getElementById(\"altair-viz-36ac137b7e9c4c9e86f6c73784a536d3\");\n",
       "    }\n",
       "\n",
       "    const paths = {\n",
       "      \"vega\": \"https://cdn.jsdelivr.net/npm/vega@5?noext\",\n",
       "      \"vega-lib\": \"https://cdn.jsdelivr.net/npm/vega-lib?noext\",\n",
       "      \"vega-lite\": \"https://cdn.jsdelivr.net/npm/vega-lite@5.20.1?noext\",\n",
       "      \"vega-embed\": \"https://cdn.jsdelivr.net/npm/vega-embed@6?noext\",\n",
       "    };\n",
       "\n",
       "    function maybeLoadScript(lib, version) {\n",
       "      var key = `${lib.replace(\"-\", \"\")}_version`;\n",
       "      return (VEGA_DEBUG[key] == version) ?\n",
       "        Promise.resolve(paths[lib]) :\n",
       "        new Promise(function(resolve, reject) {\n",
       "          var s = document.createElement('script');\n",
       "          document.getElementsByTagName(\"head\")[0].appendChild(s);\n",
       "          s.async = true;\n",
       "          s.onload = () => {\n",
       "            VEGA_DEBUG[key] = version;\n",
       "            return resolve(paths[lib]);\n",
       "          };\n",
       "          s.onerror = () => reject(`Error loading script: ${paths[lib]}`);\n",
       "          s.src = paths[lib];\n",
       "        });\n",
       "    }\n",
       "\n",
       "    function showError(err) {\n",
       "      outputDiv.innerHTML = `<div class=\"error\" style=\"color:red;\">${err}</div>`;\n",
       "      throw err;\n",
       "    }\n",
       "\n",
       "    function displayChart(vegaEmbed) {\n",
       "      vegaEmbed(outputDiv, spec, embedOpt)\n",
       "        .catch(err => showError(`Javascript Error: ${err.message}<br>This usually means there's a typo in your chart specification. See the javascript console for the full traceback.`));\n",
       "    }\n",
       "\n",
       "    if(typeof define === \"function\" && define.amd) {\n",
       "      requirejs.config({paths});\n",
       "      let deps = [\"vega-embed\"];\n",
       "      require(deps, displayChart, err => showError(`Error loading script: ${err.message}`));\n",
       "    } else {\n",
       "      maybeLoadScript(\"vega\", \"5\")\n",
       "        .then(() => maybeLoadScript(\"vega-lite\", \"5.20.1\"))\n",
       "        .then(() => maybeLoadScript(\"vega-embed\", \"6\"))\n",
       "        .catch(showError)\n",
       "        .then(() => displayChart(vegaEmbed));\n",
       "    }\n",
       "  })({\"config\": {\"view\": {\"continuousWidth\": 300, \"continuousHeight\": 300}}, \"data\": {\"name\": \"data-2ae896573a939e511bc80271082445c8\"}, \"mark\": {\"type\": \"bar\", \"tooltip\": true}, \"encoding\": {\"color\": {\"field\": \"score_left_b4\", \"type\": \"quantitative\"}, \"x\": {\"field\": \"score_left_b4\", \"type\": \"quantitative\"}, \"y\": {\"field\": \"count\", \"type\": \"quantitative\"}}, \"params\": [{\"name\": \"param_3\", \"select\": {\"type\": \"interval\", \"encodings\": [\"x\", \"y\"]}, \"bind\": \"scales\"}], \"$schema\": \"https://vega.github.io/schema/vega-lite/v5.20.1.json\", \"datasets\": {\"data-2ae896573a939e511bc80271082445c8\": [{\"score_left_b4\": 0.0476, \"count\": 9415}, {\"score_left_b4\": 0.125, \"count\": 7142}, {\"score_left_b4\": 0.0769, \"count\": 12083}, {\"score_left_b4\": 0.0588, \"count\": 12201}, {\"score_left_b4\": 0.0333, \"count\": 586}, {\"score_left_b4\": 0.5, \"count\": 634}, {\"score_left_b4\": 0.1, \"count\": 9560}, {\"score_left_b4\": 0.0714, \"count\": 12822}, {\"score_left_b4\": 0.037, \"count\": 2654}, {\"score_left_b4\": 0.0833, \"count\": 11568}, {\"score_left_b4\": 0.0345, \"count\": 943}, {\"score_left_b4\": 0.3333, \"count\": 1205}, {\"score_left_b4\": 0.04, \"count\": 5364}, {\"score_left_b4\": 0.0625, \"count\": 11807}, {\"score_left_b4\": 0.1111, \"count\": 8169}, {\"score_left_b4\": 0.25, \"count\": 2308}, {\"score_left_b4\": 0.0455, \"count\": 9247}, {\"score_left_b4\": 0.05, \"count\": 11293}, {\"score_left_b4\": 0.0667, \"count\": 12294}, {\"score_left_b4\": 0.0357, \"count\": 2109}, {\"score_left_b4\": 0.0435, \"count\": 7284}, {\"score_left_b4\": 0.2, \"count\": 3113}, {\"score_left_b4\": 0.1429, \"count\": 5649}, {\"score_left_b4\": 0.0385, \"count\": 4278}, {\"score_left_b4\": 0.1667, \"count\": 4549}, {\"score_left_b4\": 0.0909, \"count\": 10093}, {\"score_left_b4\": 0.0526, \"count\": 11893}, {\"score_left_b4\": 0.0556, \"count\": 12635}, {\"score_left_b4\": 0.0417, \"count\": 6804}]}}, {\"mode\": \"vega-lite\"});\n",
       "</script>"
      ],
      "text/plain": [
       "alt.Chart(...)"
      ]
     },
     "metadata": {},
     "output_type": "display_data"
    },
    {
     "data": {
      "text/html": [
       "<div><style>\n",
       ".dataframe > thead > tr,\n",
       ".dataframe > tbody > tr {\n",
       "  text-align: right;\n",
       "  white-space: pre-wrap;\n",
       "}\n",
       "</style>\n",
       "<small>shape: (29, 2)</small><table border=\"1\" class=\"dataframe\"><thead><tr><th>score_r8_b4</th><th>count</th></tr><tr><td>f64</td><td>u32</td></tr></thead><tbody><tr><td>0.0476</td><td>7133</td></tr><tr><td>0.125</td><td>156</td></tr><tr><td>0.0588</td><td>3277</td></tr><tr><td>0.0333</td><td>26462</td></tr><tr><td>0.0769</td><td>1015</td></tr><tr><td>&hellip;</td><td>&hellip;</td></tr><tr><td>0.0385</td><td>15745</td></tr><tr><td>0.0909</td><td>576</td></tr><tr><td>0.0556</td><td>4049</td></tr><tr><td>0.0526</td><td>4471</td></tr><tr><td>0.0417</td><td>11772</td></tr></tbody></table></div>"
      ],
      "text/plain": [
       "shape: (29, 2)\n",
       "┌─────────────┬───────┐\n",
       "│ score_r8_b4 ┆ count │\n",
       "│ ---         ┆ ---   │\n",
       "│ f64         ┆ u32   │\n",
       "╞═════════════╪═══════╡\n",
       "│ 0.0476      ┆ 7133  │\n",
       "│ 0.125       ┆ 156   │\n",
       "│ 0.0588      ┆ 3277  │\n",
       "│ 0.0333      ┆ 26462 │\n",
       "│ 0.0769      ┆ 1015  │\n",
       "│ …           ┆ …     │\n",
       "│ 0.0385      ┆ 15745 │\n",
       "│ 0.0909      ┆ 576   │\n",
       "│ 0.0556      ┆ 4049  │\n",
       "│ 0.0526      ┆ 4471  │\n",
       "│ 0.0417      ┆ 11772 │\n",
       "└─────────────┴───────┘"
      ]
     },
     "metadata": {},
     "output_type": "display_data"
    },
    {
     "data": {
      "text/html": [
       "\n",
       "<style>\n",
       "  #altair-viz-7e41b4e7c8a74d91a17598899eebb8da.vega-embed {\n",
       "    width: 100%;\n",
       "    display: flex;\n",
       "  }\n",
       "\n",
       "  #altair-viz-7e41b4e7c8a74d91a17598899eebb8da.vega-embed details,\n",
       "  #altair-viz-7e41b4e7c8a74d91a17598899eebb8da.vega-embed details summary {\n",
       "    position: relative;\n",
       "  }\n",
       "</style>\n",
       "<div id=\"altair-viz-7e41b4e7c8a74d91a17598899eebb8da\"></div>\n",
       "<script type=\"text/javascript\">\n",
       "  var VEGA_DEBUG = (typeof VEGA_DEBUG == \"undefined\") ? {} : VEGA_DEBUG;\n",
       "  (function(spec, embedOpt){\n",
       "    let outputDiv = document.currentScript.previousElementSibling;\n",
       "    if (outputDiv.id !== \"altair-viz-7e41b4e7c8a74d91a17598899eebb8da\") {\n",
       "      outputDiv = document.getElementById(\"altair-viz-7e41b4e7c8a74d91a17598899eebb8da\");\n",
       "    }\n",
       "\n",
       "    const paths = {\n",
       "      \"vega\": \"https://cdn.jsdelivr.net/npm/vega@5?noext\",\n",
       "      \"vega-lib\": \"https://cdn.jsdelivr.net/npm/vega-lib?noext\",\n",
       "      \"vega-lite\": \"https://cdn.jsdelivr.net/npm/vega-lite@5.20.1?noext\",\n",
       "      \"vega-embed\": \"https://cdn.jsdelivr.net/npm/vega-embed@6?noext\",\n",
       "    };\n",
       "\n",
       "    function maybeLoadScript(lib, version) {\n",
       "      var key = `${lib.replace(\"-\", \"\")}_version`;\n",
       "      return (VEGA_DEBUG[key] == version) ?\n",
       "        Promise.resolve(paths[lib]) :\n",
       "        new Promise(function(resolve, reject) {\n",
       "          var s = document.createElement('script');\n",
       "          document.getElementsByTagName(\"head\")[0].appendChild(s);\n",
       "          s.async = true;\n",
       "          s.onload = () => {\n",
       "            VEGA_DEBUG[key] = version;\n",
       "            return resolve(paths[lib]);\n",
       "          };\n",
       "          s.onerror = () => reject(`Error loading script: ${paths[lib]}`);\n",
       "          s.src = paths[lib];\n",
       "        });\n",
       "    }\n",
       "\n",
       "    function showError(err) {\n",
       "      outputDiv.innerHTML = `<div class=\"error\" style=\"color:red;\">${err}</div>`;\n",
       "      throw err;\n",
       "    }\n",
       "\n",
       "    function displayChart(vegaEmbed) {\n",
       "      vegaEmbed(outputDiv, spec, embedOpt)\n",
       "        .catch(err => showError(`Javascript Error: ${err.message}<br>This usually means there's a typo in your chart specification. See the javascript console for the full traceback.`));\n",
       "    }\n",
       "\n",
       "    if(typeof define === \"function\" && define.amd) {\n",
       "      requirejs.config({paths});\n",
       "      let deps = [\"vega-embed\"];\n",
       "      require(deps, displayChart, err => showError(`Error loading script: ${err.message}`));\n",
       "    } else {\n",
       "      maybeLoadScript(\"vega\", \"5\")\n",
       "        .then(() => maybeLoadScript(\"vega-lite\", \"5.20.1\"))\n",
       "        .then(() => maybeLoadScript(\"vega-embed\", \"6\"))\n",
       "        .catch(showError)\n",
       "        .then(() => displayChart(vegaEmbed));\n",
       "    }\n",
       "  })({\"config\": {\"view\": {\"continuousWidth\": 300, \"continuousHeight\": 300}}, \"data\": {\"name\": \"data-d974d83e35a3668f0ea603950da2133f\"}, \"mark\": {\"type\": \"bar\", \"tooltip\": true}, \"encoding\": {\"color\": {\"field\": \"score_r8_b4\", \"type\": \"quantitative\"}, \"x\": {\"field\": \"score_r8_b4\", \"type\": \"quantitative\"}, \"y\": {\"field\": \"count\", \"type\": \"quantitative\"}}, \"params\": [{\"name\": \"param_4\", \"select\": {\"type\": \"interval\", \"encodings\": [\"x\", \"y\"]}, \"bind\": \"scales\"}], \"$schema\": \"https://vega.github.io/schema/vega-lite/v5.20.1.json\", \"datasets\": {\"data-d974d83e35a3668f0ea603950da2133f\": [{\"score_r8_b4\": 0.0476, \"count\": 7133}, {\"score_r8_b4\": 0.125, \"count\": 156}, {\"score_r8_b4\": 0.0588, \"count\": 3277}, {\"score_r8_b4\": 0.0333, \"count\": 26462}, {\"score_r8_b4\": 0.0769, \"count\": 1015}, {\"score_r8_b4\": 0.037, \"count\": 16715}, {\"score_r8_b4\": 0.0714, \"count\": 1511}, {\"score_r8_b4\": 0.1, \"count\": 384}, {\"score_r8_b4\": 0.0833, \"count\": 816}, {\"score_r8_b4\": 0.0345, \"count\": 23360}, {\"score_r8_b4\": 0.3333, \"count\": 2}, {\"score_r8_b4\": 0.0625, \"count\": 2567}, {\"score_r8_b4\": 0.04, \"count\": 12739}, {\"score_r8_b4\": 0.1111, \"count\": 221}, {\"score_r8_b4\": 0.05, \"count\": 5957}, {\"score_r8_b4\": 0.0455, \"count\": 8521}, {\"score_r8_b4\": 0.25, \"count\": 8}, {\"score_r8_b4\": 0.0357, \"count\": 20616}, {\"score_r8_b4\": 0.0667, \"count\": 1776}, {\"score_r8_b4\": 0.0323, \"count\": 29688}, {\"score_r8_b4\": 0.0435, \"count\": 10015}, {\"score_r8_b4\": 0.1429, \"count\": 82}, {\"score_r8_b4\": 0.2, \"count\": 22}, {\"score_r8_b4\": 0.1667, \"count\": 46}, {\"score_r8_b4\": 0.0385, \"count\": 15745}, {\"score_r8_b4\": 0.0909, \"count\": 576}, {\"score_r8_b4\": 0.0556, \"count\": 4049}, {\"score_r8_b4\": 0.0526, \"count\": 4471}, {\"score_r8_b4\": 0.0417, \"count\": 11772}]}}, {\"mode\": \"vega-lite\"});\n",
       "</script>"
      ],
      "text/plain": [
       "alt.Chart(...)"
      ]
     },
     "metadata": {},
     "output_type": "display_data"
    }
   ],
   "source": [
    "show_b_stats('score_left_b4')\n",
    "show_b_stats('score_r8_b4')"
   ]
  }
 ],
 "metadata": {
  "kernelspec": {
   "display_name": ".venv",
   "language": "python",
   "name": "python3"
  },
  "language_info": {
   "codemirror_mode": {
    "name": "ipython",
    "version": 3
   },
   "file_extension": ".py",
   "mimetype": "text/x-python",
   "name": "python",
   "nbconvert_exporter": "python",
   "pygments_lexer": "ipython3",
   "version": "3.12.9"
  }
 },
 "nbformat": 4,
 "nbformat_minor": 2
}

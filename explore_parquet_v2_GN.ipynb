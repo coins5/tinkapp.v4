{
 "cells": [
  {
   "cell_type": "code",
   "execution_count": 2,
   "metadata": {},
   "outputs": [],
   "source": [
    "from bs4 import BeautifulSoup\n",
    "import pandas as pd\n",
    "from datetime import datetime, timedelta\n",
    "from itertools import combinations\n",
    "import json\n",
    "import requests\n",
    "import math\n",
    "from typing import Optional, List, Dict\n",
    "\n",
    "from pydantic import BaseModel\n",
    "from typing import Mapping\n",
    "import numpy as np\n",
    "import polars as pl"
   ]
  },
  {
   "cell_type": "code",
   "execution_count": 3,
   "metadata": {},
   "outputs": [
    {
     "data": {
      "text/html": [
       "<div><style>\n",
       ".dataframe > thead > tr,\n",
       ".dataframe > tbody > tr {\n",
       "  text-align: right;\n",
       "  white-space: pre-wrap;\n",
       "}\n",
       "</style>\n",
       "<small>shape: (10, 23)</small><table border=\"1\" class=\"dataframe\"><thead><tr><th>id</th><th>combo</th><th>b1</th><th>b2</th><th>b3</th><th>b4</th><th>b5</th><th>is_rare_combination</th><th>reason</th><th>score_left_b1</th><th>score_left_b2</th><th>score_left_b3</th><th>score_left_b4</th><th>score_left_b5</th><th>score_r8_b1</th><th>score_r8_b2</th><th>score_r8_b3</th><th>score_r8_b4</th><th>score_r8_b5</th><th>shared_values</th><th>shared_values_count</th><th>score_row</th><th>int_unijump</th></tr><tr><td>str</td><td>array[u8, 5]</td><td>u8</td><td>u8</td><td>u8</td><td>u8</td><td>u8</td><td>bool</td><td>i64</td><td>f64</td><td>f64</td><td>f64</td><td>f64</td><td>f64</td><td>f64</td><td>f64</td><td>f64</td><td>f64</td><td>f64</td><td>list[f64]</td><td>u8</td><td>f64</td><td>i64</td></tr></thead><tbody><tr><td>&quot;0102040507&quot;</td><td>[1, 2, … 7]</td><td>1</td><td>2</td><td>4</td><td>5</td><td>7</td><td>true</td><td>16</td><td>1.0</td><td>0.0323</td><td>0.0323</td><td>0.0333</td><td>0.0333</td><td>1.0</td><td>0.5</td><td>0.5</td><td>0.3333</td><td>0.0333</td><td>[0.0333]</td><td>1</td><td>3.4978</td><td>4</td></tr><tr><td>&quot;0102040508&quot;</td><td>[1, 2, … 8]</td><td>1</td><td>2</td><td>4</td><td>5</td><td>8</td><td>true</td><td>16</td><td>1.0</td><td>0.0323</td><td>0.0323</td><td>0.0333</td><td>0.0333</td><td>1.0</td><td>0.5</td><td>0.5</td><td>0.25</td><td>0.0333</td><td>[0.0333]</td><td>1</td><td>3.4145</td><td>5</td></tr><tr><td>&quot;0102040509&quot;</td><td>[1, 2, … 9]</td><td>1</td><td>2</td><td>4</td><td>5</td><td>9</td><td>true</td><td>16</td><td>1.0</td><td>0.0323</td><td>0.0323</td><td>0.0333</td><td>0.0333</td><td>1.0</td><td>0.5</td><td>0.5</td><td>0.2</td><td>0.0333</td><td>[0.0333]</td><td>1</td><td>3.3645</td><td>6</td></tr><tr><td>&quot;0102040510&quot;</td><td>[1, 2, … 10]</td><td>1</td><td>2</td><td>4</td><td>5</td><td>10</td><td>true</td><td>16</td><td>1.0</td><td>0.0323</td><td>0.0323</td><td>0.0333</td><td>0.0333</td><td>1.0</td><td>0.5</td><td>0.5</td><td>0.1667</td><td>0.0333</td><td>[0.0333]</td><td>1</td><td>3.3312</td><td>7</td></tr><tr><td>&quot;0102040511&quot;</td><td>[1, 2, … 11]</td><td>1</td><td>2</td><td>4</td><td>5</td><td>11</td><td>true</td><td>16</td><td>1.0</td><td>0.0323</td><td>0.0323</td><td>0.0333</td><td>0.0333</td><td>1.0</td><td>0.5</td><td>0.5</td><td>0.1429</td><td>0.0333</td><td>[0.0333]</td><td>1</td><td>3.3074</td><td>8</td></tr><tr><td>&quot;0102040512&quot;</td><td>[1, 2, … 12]</td><td>1</td><td>2</td><td>4</td><td>5</td><td>12</td><td>true</td><td>16</td><td>1.0</td><td>0.0323</td><td>0.0323</td><td>0.0333</td><td>0.0333</td><td>1.0</td><td>0.5</td><td>0.5</td><td>0.125</td><td>0.0333</td><td>[0.0333]</td><td>1</td><td>3.2895</td><td>9</td></tr><tr><td>&quot;0102040513&quot;</td><td>[1, 2, … 13]</td><td>1</td><td>2</td><td>4</td><td>5</td><td>13</td><td>false</td><td>0</td><td>1.0</td><td>0.0323</td><td>0.0323</td><td>0.0333</td><td>0.0333</td><td>1.0</td><td>0.5</td><td>0.5</td><td>0.1111</td><td>0.0333</td><td>[0.0333]</td><td>1</td><td>3.2756</td><td>10</td></tr><tr><td>&quot;0102040514&quot;</td><td>[1, 2, … 14]</td><td>1</td><td>2</td><td>4</td><td>5</td><td>14</td><td>true</td><td>16</td><td>1.0</td><td>0.0323</td><td>0.0323</td><td>0.0333</td><td>0.0333</td><td>1.0</td><td>0.5</td><td>0.5</td><td>0.1</td><td>0.0333</td><td>[0.0333]</td><td>1</td><td>3.2645</td><td>11</td></tr><tr><td>&quot;0102040515&quot;</td><td>[1, 2, … 15]</td><td>1</td><td>2</td><td>4</td><td>5</td><td>15</td><td>true</td><td>16</td><td>1.0</td><td>0.0323</td><td>0.0323</td><td>0.0333</td><td>0.0333</td><td>1.0</td><td>0.5</td><td>0.5</td><td>0.0909</td><td>0.0333</td><td>[0.0333]</td><td>1</td><td>3.2554</td><td>12</td></tr><tr><td>&quot;0102040516&quot;</td><td>[1, 2, … 16]</td><td>1</td><td>2</td><td>4</td><td>5</td><td>16</td><td>true</td><td>16</td><td>1.0</td><td>0.0323</td><td>0.0323</td><td>0.0333</td><td>0.0333</td><td>1.0</td><td>0.5</td><td>0.5</td><td>0.0833</td><td>0.0333</td><td>[0.0333]</td><td>1</td><td>3.2478</td><td>13</td></tr></tbody></table></div>"
      ],
      "text/plain": [
       "shape: (10, 23)\n",
       "┌────────────┬──────────────┬─────┬─────┬───┬──────────────┬─────────────┬───────────┬─────────────┐\n",
       "│ id         ┆ combo        ┆ b1  ┆ b2  ┆ … ┆ shared_value ┆ shared_valu ┆ score_row ┆ int_unijump │\n",
       "│ ---        ┆ ---          ┆ --- ┆ --- ┆   ┆ s            ┆ es_count    ┆ ---       ┆ ---         │\n",
       "│ str        ┆ array[u8, 5] ┆ u8  ┆ u8  ┆   ┆ ---          ┆ ---         ┆ f64       ┆ i64         │\n",
       "│            ┆              ┆     ┆     ┆   ┆ list[f64]    ┆ u8          ┆           ┆             │\n",
       "╞════════════╪══════════════╪═════╪═════╪═══╪══════════════╪═════════════╪═══════════╪═════════════╡\n",
       "│ 0102040507 ┆ [1, 2, … 7]  ┆ 1   ┆ 2   ┆ … ┆ [0.0333]     ┆ 1           ┆ 3.4978    ┆ 4           │\n",
       "│ 0102040508 ┆ [1, 2, … 8]  ┆ 1   ┆ 2   ┆ … ┆ [0.0333]     ┆ 1           ┆ 3.4145    ┆ 5           │\n",
       "│ 0102040509 ┆ [1, 2, … 9]  ┆ 1   ┆ 2   ┆ … ┆ [0.0333]     ┆ 1           ┆ 3.3645    ┆ 6           │\n",
       "│ 0102040510 ┆ [1, 2, … 10] ┆ 1   ┆ 2   ┆ … ┆ [0.0333]     ┆ 1           ┆ 3.3312    ┆ 7           │\n",
       "│ 0102040511 ┆ [1, 2, … 11] ┆ 1   ┆ 2   ┆ … ┆ [0.0333]     ┆ 1           ┆ 3.3074    ┆ 8           │\n",
       "│ 0102040512 ┆ [1, 2, … 12] ┆ 1   ┆ 2   ┆ … ┆ [0.0333]     ┆ 1           ┆ 3.2895    ┆ 9           │\n",
       "│ 0102040513 ┆ [1, 2, … 13] ┆ 1   ┆ 2   ┆ … ┆ [0.0333]     ┆ 1           ┆ 3.2756    ┆ 10          │\n",
       "│ 0102040514 ┆ [1, 2, … 14] ┆ 1   ┆ 2   ┆ … ┆ [0.0333]     ┆ 1           ┆ 3.2645    ┆ 11          │\n",
       "│ 0102040515 ┆ [1, 2, … 15] ┆ 1   ┆ 2   ┆ … ┆ [0.0333]     ┆ 1           ┆ 3.2554    ┆ 12          │\n",
       "│ 0102040516 ┆ [1, 2, … 16] ┆ 1   ┆ 2   ┆ … ┆ [0.0333]     ┆ 1           ┆ 3.2478    ┆ 13          │\n",
       "└────────────┴──────────────┴─────┴─────┴───┴──────────────┴─────────────┴───────────┴─────────────┘"
      ]
     },
     "metadata": {},
     "output_type": "display_data"
    }
   ],
   "source": [
    "dfRows = pl.read_parquet(\"./saved_bolillas_gn.parquet\")\n",
    "\n",
    "display(dfRows.head(10))"
   ]
  },
  {
   "cell_type": "code",
   "execution_count": 9,
   "metadata": {},
   "outputs": [
    {
     "data": {
      "text/html": [
       "<div><style>\n",
       ".dataframe > thead > tr,\n",
       ".dataframe > tbody > tr {\n",
       "  text-align: right;\n",
       "  white-space: pre-wrap;\n",
       "}\n",
       "</style>\n",
       "<small>shape: (1, 23)</small><table border=\"1\" class=\"dataframe\"><thead><tr><th>id</th><th>combo</th><th>b1</th><th>b2</th><th>b3</th><th>b4</th><th>b5</th><th>is_rare_combination</th><th>reason</th><th>score_left_b1</th><th>score_left_b2</th><th>score_left_b3</th><th>score_left_b4</th><th>score_left_b5</th><th>score_r8_b1</th><th>score_r8_b2</th><th>score_r8_b3</th><th>score_r8_b4</th><th>score_r8_b5</th><th>shared_values</th><th>shared_values_count</th><th>score_row</th><th>int_unijump</th></tr><tr><td>str</td><td>array[u8, 5]</td><td>u8</td><td>u8</td><td>u8</td><td>u8</td><td>u8</td><td>bool</td><td>i64</td><td>f64</td><td>f64</td><td>f64</td><td>f64</td><td>f64</td><td>f64</td><td>f64</td><td>f64</td><td>f64</td><td>f64</td><td>list[f64]</td><td>u8</td><td>f64</td><td>i64</td></tr></thead><tbody><tr><td>&quot;0621272932&quot;</td><td>[6, 21, … 32]</td><td>6</td><td>21</td><td>27</td><td>29</td><td>32</td><td>false</td><td>0</td><td>0.05</td><td>0.0385</td><td>0.0833</td><td>0.1429</td><td>0.1667</td><td>0.05</td><td>0.04</td><td>0.0385</td><td>0.0357</td><td>0.1667</td><td>[0.0385, 0.1667]</td><td>2</td><td>0.8123</td><td>0</td></tr></tbody></table></div>"
      ],
      "text/plain": [
       "shape: (1, 23)\n",
       "┌────────────┬──────────────┬─────┬─────┬───┬──────────────┬─────────────┬───────────┬─────────────┐\n",
       "│ id         ┆ combo        ┆ b1  ┆ b2  ┆ … ┆ shared_value ┆ shared_valu ┆ score_row ┆ int_unijump │\n",
       "│ ---        ┆ ---          ┆ --- ┆ --- ┆   ┆ s            ┆ es_count    ┆ ---       ┆ ---         │\n",
       "│ str        ┆ array[u8, 5] ┆ u8  ┆ u8  ┆   ┆ ---          ┆ ---         ┆ f64       ┆ i64         │\n",
       "│            ┆              ┆     ┆     ┆   ┆ list[f64]    ┆ u8          ┆           ┆             │\n",
       "╞════════════╪══════════════╪═════╪═════╪═══╪══════════════╪═════════════╪═══════════╪═════════════╡\n",
       "│ 0621272932 ┆ [6, 21, …    ┆ 6   ┆ 21  ┆ … ┆ [0.0385,     ┆ 2           ┆ 0.8123    ┆ 0           │\n",
       "│            ┆ 32]          ┆     ┆     ┆   ┆ 0.1667]      ┆             ┆           ┆             │\n",
       "└────────────┴──────────────┴─────┴─────┴───┴──────────────┴─────────────┴───────────┴─────────────┘"
      ]
     },
     "execution_count": 9,
     "metadata": {},
     "output_type": "execute_result"
    }
   ],
   "source": [
    "dfRows.filter(\n",
    "  pl.col(\"id\") == \"0621272932\"\n",
    ")"
   ]
  },
  {
   "cell_type": "markdown",
   "metadata": {},
   "source": [
    "# Get random ticket"
   ]
  },
  {
   "cell_type": "code",
   "execution_count": 61,
   "metadata": {},
   "outputs": [
    {
     "data": {
      "text/html": [
       "<div><style>\n",
       ".dataframe > thead > tr,\n",
       ".dataframe > tbody > tr {\n",
       "  text-align: right;\n",
       "  white-space: pre-wrap;\n",
       "}\n",
       "</style>\n",
       "<small>shape: (1, 23)</small><table border=\"1\" class=\"dataframe\"><thead><tr><th>id</th><th>combo</th><th>b1</th><th>b2</th><th>b3</th><th>b4</th><th>b5</th><th>is_rare_combination</th><th>reason</th><th>score_left_b1</th><th>score_left_b2</th><th>score_left_b3</th><th>score_left_b4</th><th>score_left_b5</th><th>score_r8_b1</th><th>score_r8_b2</th><th>score_r8_b3</th><th>score_r8_b4</th><th>score_r8_b5</th><th>shared_values</th><th>shared_values_count</th><th>score_row</th><th>int_unijump</th></tr><tr><td>str</td><td>array[u8, 5]</td><td>u8</td><td>u8</td><td>u8</td><td>u8</td><td>u8</td><td>bool</td><td>i64</td><td>f64</td><td>f64</td><td>f64</td><td>f64</td><td>f64</td><td>f64</td><td>f64</td><td>f64</td><td>f64</td><td>f64</td><td>list[f64]</td><td>u8</td><td>f64</td><td>i64</td></tr></thead><tbody><tr><td>&quot;0610263233&quot;</td><td>[6, 10, … 33]</td><td>6</td><td>10</td><td>26</td><td>32</td><td>33</td><td>false</td><td>0</td><td>0.1111</td><td>0.0385</td><td>0.0435</td><td>0.125</td><td>0.3333</td><td>0.1111</td><td>0.0417</td><td>0.0345</td><td>0.0345</td><td>0.3333</td><td>[0.3333]</td><td>1</td><td>1.2065</td><td>27</td></tr></tbody></table></div>"
      ],
      "text/plain": [
       "shape: (1, 23)\n",
       "┌────────────┬──────────────┬─────┬─────┬───┬──────────────┬─────────────┬───────────┬─────────────┐\n",
       "│ id         ┆ combo        ┆ b1  ┆ b2  ┆ … ┆ shared_value ┆ shared_valu ┆ score_row ┆ int_unijump │\n",
       "│ ---        ┆ ---          ┆ --- ┆ --- ┆   ┆ s            ┆ es_count    ┆ ---       ┆ ---         │\n",
       "│ str        ┆ array[u8, 5] ┆ u8  ┆ u8  ┆   ┆ ---          ┆ ---         ┆ f64       ┆ i64         │\n",
       "│            ┆              ┆     ┆     ┆   ┆ list[f64]    ┆ u8          ┆           ┆             │\n",
       "╞════════════╪══════════════╪═════╪═════╪═══╪══════════════╪═════════════╪═══════════╪═════════════╡\n",
       "│ 0610263233 ┆ [6, 10, …    ┆ 6   ┆ 10  ┆ … ┆ [0.3333]     ┆ 1           ┆ 1.2065    ┆ 27          │\n",
       "│            ┆ 33]          ┆     ┆     ┆   ┆              ┆             ┆           ┆             │\n",
       "└────────────┴──────────────┴─────┴─────┴───┴──────────────┴─────────────┴───────────┴─────────────┘"
      ]
     },
     "execution_count": 61,
     "metadata": {},
     "output_type": "execute_result"
    }
   ],
   "source": [
    "dfRows.sample(n=1)  "
   ]
  },
  {
   "cell_type": "markdown",
   "metadata": {},
   "source": [
    "# ANALYZE"
   ]
  },
  {
   "cell_type": "code",
   "execution_count": 5,
   "metadata": {},
   "outputs": [
    {
     "data": {
      "text/html": [
       "<div><style>\n",
       ".dataframe > thead > tr,\n",
       ".dataframe > tbody > tr {\n",
       "  text-align: right;\n",
       "  white-space: pre-wrap;\n",
       "}\n",
       "</style>\n",
       "<small>shape: (2, 2)</small><table border=\"1\" class=\"dataframe\"><thead><tr><th>reason</th><th>count</th></tr><tr><td>i64</td><td>u32</td></tr></thead><tbody><tr><td>0</td><td>141902</td></tr><tr><td>16</td><td>68923</td></tr></tbody></table></div>"
      ],
      "text/plain": [
       "shape: (2, 2)\n",
       "┌────────┬────────┐\n",
       "│ reason ┆ count  │\n",
       "│ ---    ┆ ---    │\n",
       "│ i64    ┆ u32    │\n",
       "╞════════╪════════╡\n",
       "│ 0      ┆ 141902 │\n",
       "│ 16     ┆ 68923  │\n",
       "└────────┴────────┘"
      ]
     },
     "execution_count": 5,
     "metadata": {},
     "output_type": "execute_result"
    }
   ],
   "source": [
    "dfRows.group_by(\n",
    "  'reason'\n",
    ").agg(pl.count('reason').alias('count'))"
   ]
  },
  {
   "cell_type": "code",
   "execution_count": 6,
   "metadata": {},
   "outputs": [],
   "source": [
    "def show_b_stats (col: str):\n",
    "  df_viz = dfRows.group_by(\n",
    "    col\n",
    "  ).agg(pl.count(col).alias('count'))\n",
    "\n",
    "  chart = df_viz.plot.bar(\n",
    "    x=col,\n",
    "    y='count',\n",
    "    color=col,\n",
    "  )\n",
    "\n",
    "  display(df_viz)\n",
    "  display(chart)\n"
   ]
  },
  {
   "cell_type": "code",
   "execution_count": 7,
   "metadata": {},
   "outputs": [
    {
     "data": {
      "text/html": [
       "<div><style>\n",
       ".dataframe > thead > tr,\n",
       ".dataframe > tbody > tr {\n",
       "  text-align: right;\n",
       "  white-space: pre-wrap;\n",
       "}\n",
       "</style>\n",
       "<small>shape: (29, 2)</small><table border=\"1\" class=\"dataframe\"><thead><tr><th>score_left_b2</th><th>count</th></tr><tr><td>f64</td><td>u32</td></tr></thead><tbody><tr><td>0.0476</td><td>7024</td></tr><tr><td>0.0769</td><td>1130</td></tr><tr><td>0.0588</td><td>3292</td></tr><tr><td>0.125</td><td>158</td></tr><tr><td>0.0333</td><td>24716</td></tr><tr><td>&hellip;</td><td>&hellip;</td></tr><tr><td>0.0909</td><td>580</td></tr><tr><td>0.0385</td><td>15933</td></tr><tr><td>0.0556</td><td>4096</td></tr><tr><td>0.0417</td><td>11891</td></tr><tr><td>0.0526</td><td>4897</td></tr></tbody></table></div>"
      ],
      "text/plain": [
       "shape: (29, 2)\n",
       "┌───────────────┬───────┐\n",
       "│ score_left_b2 ┆ count │\n",
       "│ ---           ┆ ---   │\n",
       "│ f64           ┆ u32   │\n",
       "╞═══════════════╪═══════╡\n",
       "│ 0.0476        ┆ 7024  │\n",
       "│ 0.0769        ┆ 1130  │\n",
       "│ 0.0588        ┆ 3292  │\n",
       "│ 0.125         ┆ 158   │\n",
       "│ 0.0333        ┆ 24716 │\n",
       "│ …             ┆ …     │\n",
       "│ 0.0909        ┆ 580   │\n",
       "│ 0.0385        ┆ 15933 │\n",
       "│ 0.0556        ┆ 4096  │\n",
       "│ 0.0417        ┆ 11891 │\n",
       "│ 0.0526        ┆ 4897  │\n",
       "└───────────────┴───────┘"
      ]
     },
     "metadata": {},
     "output_type": "display_data"
    },
    {
     "data": {
      "text/html": [
       "\n",
       "<style>\n",
       "  #altair-viz-cf03cbe32b2e4e4b8e408bb552067f0c.vega-embed {\n",
       "    width: 100%;\n",
       "    display: flex;\n",
       "  }\n",
       "\n",
       "  #altair-viz-cf03cbe32b2e4e4b8e408bb552067f0c.vega-embed details,\n",
       "  #altair-viz-cf03cbe32b2e4e4b8e408bb552067f0c.vega-embed details summary {\n",
       "    position: relative;\n",
       "  }\n",
       "</style>\n",
       "<div id=\"altair-viz-cf03cbe32b2e4e4b8e408bb552067f0c\"></div>\n",
       "<script type=\"text/javascript\">\n",
       "  var VEGA_DEBUG = (typeof VEGA_DEBUG == \"undefined\") ? {} : VEGA_DEBUG;\n",
       "  (function(spec, embedOpt){\n",
       "    let outputDiv = document.currentScript.previousElementSibling;\n",
       "    if (outputDiv.id !== \"altair-viz-cf03cbe32b2e4e4b8e408bb552067f0c\") {\n",
       "      outputDiv = document.getElementById(\"altair-viz-cf03cbe32b2e4e4b8e408bb552067f0c\");\n",
       "    }\n",
       "\n",
       "    const paths = {\n",
       "      \"vega\": \"https://cdn.jsdelivr.net/npm/vega@5?noext\",\n",
       "      \"vega-lib\": \"https://cdn.jsdelivr.net/npm/vega-lib?noext\",\n",
       "      \"vega-lite\": \"https://cdn.jsdelivr.net/npm/vega-lite@5.20.1?noext\",\n",
       "      \"vega-embed\": \"https://cdn.jsdelivr.net/npm/vega-embed@6?noext\",\n",
       "    };\n",
       "\n",
       "    function maybeLoadScript(lib, version) {\n",
       "      var key = `${lib.replace(\"-\", \"\")}_version`;\n",
       "      return (VEGA_DEBUG[key] == version) ?\n",
       "        Promise.resolve(paths[lib]) :\n",
       "        new Promise(function(resolve, reject) {\n",
       "          var s = document.createElement('script');\n",
       "          document.getElementsByTagName(\"head\")[0].appendChild(s);\n",
       "          s.async = true;\n",
       "          s.onload = () => {\n",
       "            VEGA_DEBUG[key] = version;\n",
       "            return resolve(paths[lib]);\n",
       "          };\n",
       "          s.onerror = () => reject(`Error loading script: ${paths[lib]}`);\n",
       "          s.src = paths[lib];\n",
       "        });\n",
       "    }\n",
       "\n",
       "    function showError(err) {\n",
       "      outputDiv.innerHTML = `<div class=\"error\" style=\"color:red;\">${err}</div>`;\n",
       "      throw err;\n",
       "    }\n",
       "\n",
       "    function displayChart(vegaEmbed) {\n",
       "      vegaEmbed(outputDiv, spec, embedOpt)\n",
       "        .catch(err => showError(`Javascript Error: ${err.message}<br>This usually means there's a typo in your chart specification. See the javascript console for the full traceback.`));\n",
       "    }\n",
       "\n",
       "    if(typeof define === \"function\" && define.amd) {\n",
       "      requirejs.config({paths});\n",
       "      let deps = [\"vega-embed\"];\n",
       "      require(deps, displayChart, err => showError(`Error loading script: ${err.message}`));\n",
       "    } else {\n",
       "      maybeLoadScript(\"vega\", \"5\")\n",
       "        .then(() => maybeLoadScript(\"vega-lite\", \"5.20.1\"))\n",
       "        .then(() => maybeLoadScript(\"vega-embed\", \"6\"))\n",
       "        .catch(showError)\n",
       "        .then(() => displayChart(vegaEmbed));\n",
       "    }\n",
       "  })({\"config\": {\"view\": {\"continuousWidth\": 300, \"continuousHeight\": 300}}, \"data\": {\"name\": \"data-99a1d2d8bce5782e3919556aa7fd4708\"}, \"mark\": {\"type\": \"bar\", \"tooltip\": true}, \"encoding\": {\"color\": {\"field\": \"score_left_b2\", \"type\": \"quantitative\"}, \"x\": {\"field\": \"score_left_b2\", \"type\": \"quantitative\"}, \"y\": {\"field\": \"count\", \"type\": \"quantitative\"}}, \"params\": [{\"name\": \"param_1\", \"select\": {\"type\": \"interval\", \"encodings\": [\"x\", \"y\"]}, \"bind\": \"scales\"}], \"$schema\": \"https://vega.github.io/schema/vega-lite/v5.20.1.json\", \"datasets\": {\"data-99a1d2d8bce5782e3919556aa7fd4708\": [{\"score_left_b2\": 0.0476, \"count\": 7024}, {\"score_left_b2\": 0.0769, \"count\": 1130}, {\"score_left_b2\": 0.0588, \"count\": 3292}, {\"score_left_b2\": 0.125, \"count\": 158}, {\"score_left_b2\": 0.0333, \"count\": 24716}, {\"score_left_b2\": 0.0714, \"count\": 1536}, {\"score_left_b2\": 0.0833, \"count\": 826}, {\"score_left_b2\": 0.037, \"count\": 17636}, {\"score_left_b2\": 0.1, \"count\": 394}, {\"score_left_b2\": 0.3333, \"count\": 2}, {\"score_left_b2\": 0.0345, \"count\": 22721}, {\"score_left_b2\": 0.0625, \"count\": 2619}, {\"score_left_b2\": 0.04, \"count\": 13407}, {\"score_left_b2\": 0.1111, \"count\": 256}, {\"score_left_b2\": 0.25, \"count\": 8}, {\"score_left_b2\": 0.0667, \"count\": 1992}, {\"score_left_b2\": 0.05, \"count\": 6059}, {\"score_left_b2\": 0.0357, \"count\": 20880}, {\"score_left_b2\": 0.0455, \"count\": 8616}, {\"score_left_b2\": 0.0435, \"count\": 10096}, {\"score_left_b2\": 0.1429, \"count\": 92}, {\"score_left_b2\": 0.0323, \"count\": 29900}, {\"score_left_b2\": 0.2, \"count\": 22}, {\"score_left_b2\": 0.1667, \"count\": 46}, {\"score_left_b2\": 0.0909, \"count\": 580}, {\"score_left_b2\": 0.0385, \"count\": 15933}, {\"score_left_b2\": 0.0556, \"count\": 4096}, {\"score_left_b2\": 0.0417, \"count\": 11891}, {\"score_left_b2\": 0.0526, \"count\": 4897}]}}, {\"mode\": \"vega-lite\"});\n",
       "</script>"
      ],
      "text/plain": [
       "alt.Chart(...)"
      ]
     },
     "metadata": {},
     "output_type": "display_data"
    },
    {
     "data": {
      "text/html": [
       "<div><style>\n",
       ".dataframe > thead > tr,\n",
       ".dataframe > tbody > tr {\n",
       "  text-align: right;\n",
       "  white-space: pre-wrap;\n",
       "}\n",
       "</style>\n",
       "<small>shape: (29, 2)</small><table border=\"1\" class=\"dataframe\"><thead><tr><th>score_r8_b2</th><th>count</th></tr><tr><td>f64</td><td>u32</td></tr></thead><tbody><tr><td>0.0476</td><td>10116</td></tr><tr><td>0.0769</td><td>11980</td></tr><tr><td>0.0333</td><td>634</td></tr><tr><td>0.0588</td><td>12350</td></tr><tr><td>0.125</td><td>6877</td></tr><tr><td>&hellip;</td><td>&hellip;</td></tr><tr><td>0.1667</td><td>4330</td></tr><tr><td>0.0385</td><td>4551</td></tr><tr><td>0.0417</td><td>7149</td></tr><tr><td>0.0556</td><td>12869</td></tr><tr><td>0.0526</td><td>12123</td></tr></tbody></table></div>"
      ],
      "text/plain": [
       "shape: (29, 2)\n",
       "┌─────────────┬───────┐\n",
       "│ score_r8_b2 ┆ count │\n",
       "│ ---         ┆ ---   │\n",
       "│ f64         ┆ u32   │\n",
       "╞═════════════╪═══════╡\n",
       "│ 0.0476      ┆ 10116 │\n",
       "│ 0.0769      ┆ 11980 │\n",
       "│ 0.0333      ┆ 634   │\n",
       "│ 0.0588      ┆ 12350 │\n",
       "│ 0.125       ┆ 6877  │\n",
       "│ …           ┆ …     │\n",
       "│ 0.1667      ┆ 4330  │\n",
       "│ 0.0385      ┆ 4551  │\n",
       "│ 0.0417      ┆ 7149  │\n",
       "│ 0.0556      ┆ 12869 │\n",
       "│ 0.0526      ┆ 12123 │\n",
       "└─────────────┴───────┘"
      ]
     },
     "metadata": {},
     "output_type": "display_data"
    },
    {
     "data": {
      "text/html": [
       "\n",
       "<style>\n",
       "  #altair-viz-65e075f66c234a3e90d3aa6232dc7ea1.vega-embed {\n",
       "    width: 100%;\n",
       "    display: flex;\n",
       "  }\n",
       "\n",
       "  #altair-viz-65e075f66c234a3e90d3aa6232dc7ea1.vega-embed details,\n",
       "  #altair-viz-65e075f66c234a3e90d3aa6232dc7ea1.vega-embed details summary {\n",
       "    position: relative;\n",
       "  }\n",
       "</style>\n",
       "<div id=\"altair-viz-65e075f66c234a3e90d3aa6232dc7ea1\"></div>\n",
       "<script type=\"text/javascript\">\n",
       "  var VEGA_DEBUG = (typeof VEGA_DEBUG == \"undefined\") ? {} : VEGA_DEBUG;\n",
       "  (function(spec, embedOpt){\n",
       "    let outputDiv = document.currentScript.previousElementSibling;\n",
       "    if (outputDiv.id !== \"altair-viz-65e075f66c234a3e90d3aa6232dc7ea1\") {\n",
       "      outputDiv = document.getElementById(\"altair-viz-65e075f66c234a3e90d3aa6232dc7ea1\");\n",
       "    }\n",
       "\n",
       "    const paths = {\n",
       "      \"vega\": \"https://cdn.jsdelivr.net/npm/vega@5?noext\",\n",
       "      \"vega-lib\": \"https://cdn.jsdelivr.net/npm/vega-lib?noext\",\n",
       "      \"vega-lite\": \"https://cdn.jsdelivr.net/npm/vega-lite@5.20.1?noext\",\n",
       "      \"vega-embed\": \"https://cdn.jsdelivr.net/npm/vega-embed@6?noext\",\n",
       "    };\n",
       "\n",
       "    function maybeLoadScript(lib, version) {\n",
       "      var key = `${lib.replace(\"-\", \"\")}_version`;\n",
       "      return (VEGA_DEBUG[key] == version) ?\n",
       "        Promise.resolve(paths[lib]) :\n",
       "        new Promise(function(resolve, reject) {\n",
       "          var s = document.createElement('script');\n",
       "          document.getElementsByTagName(\"head\")[0].appendChild(s);\n",
       "          s.async = true;\n",
       "          s.onload = () => {\n",
       "            VEGA_DEBUG[key] = version;\n",
       "            return resolve(paths[lib]);\n",
       "          };\n",
       "          s.onerror = () => reject(`Error loading script: ${paths[lib]}`);\n",
       "          s.src = paths[lib];\n",
       "        });\n",
       "    }\n",
       "\n",
       "    function showError(err) {\n",
       "      outputDiv.innerHTML = `<div class=\"error\" style=\"color:red;\">${err}</div>`;\n",
       "      throw err;\n",
       "    }\n",
       "\n",
       "    function displayChart(vegaEmbed) {\n",
       "      vegaEmbed(outputDiv, spec, embedOpt)\n",
       "        .catch(err => showError(`Javascript Error: ${err.message}<br>This usually means there's a typo in your chart specification. See the javascript console for the full traceback.`));\n",
       "    }\n",
       "\n",
       "    if(typeof define === \"function\" && define.amd) {\n",
       "      requirejs.config({paths});\n",
       "      let deps = [\"vega-embed\"];\n",
       "      require(deps, displayChart, err => showError(`Error loading script: ${err.message}`));\n",
       "    } else {\n",
       "      maybeLoadScript(\"vega\", \"5\")\n",
       "        .then(() => maybeLoadScript(\"vega-lite\", \"5.20.1\"))\n",
       "        .then(() => maybeLoadScript(\"vega-embed\", \"6\"))\n",
       "        .catch(showError)\n",
       "        .then(() => displayChart(vegaEmbed));\n",
       "    }\n",
       "  })({\"config\": {\"view\": {\"continuousWidth\": 300, \"continuousHeight\": 300}}, \"data\": {\"name\": \"data-da7bb720e2812ef2af8121ea6469558f\"}, \"mark\": {\"type\": \"bar\", \"tooltip\": true}, \"encoding\": {\"color\": {\"field\": \"score_r8_b2\", \"type\": \"quantitative\"}, \"x\": {\"field\": \"score_r8_b2\", \"type\": \"quantitative\"}, \"y\": {\"field\": \"count\", \"type\": \"quantitative\"}}, \"params\": [{\"name\": \"param_2\", \"select\": {\"type\": \"interval\", \"encodings\": [\"x\", \"y\"]}, \"bind\": \"scales\"}], \"$schema\": \"https://vega.github.io/schema/vega-lite/v5.20.1.json\", \"datasets\": {\"data-da7bb720e2812ef2af8121ea6469558f\": [{\"score_r8_b2\": 0.0476, \"count\": 10116}, {\"score_r8_b2\": 0.0769, \"count\": 11980}, {\"score_r8_b2\": 0.0333, \"count\": 634}, {\"score_r8_b2\": 0.0588, \"count\": 12350}, {\"score_r8_b2\": 0.125, \"count\": 6877}, {\"score_r8_b2\": 0.037, \"count\": 3114}, {\"score_r8_b2\": 0.5, \"count\": 595}, {\"score_r8_b2\": 0.1, \"count\": 9308}, {\"score_r8_b2\": 0.0714, \"count\": 12716}, {\"score_r8_b2\": 0.0833, \"count\": 11385}, {\"score_r8_b2\": 0.3333, \"count\": 957}, {\"score_r8_b2\": 0.0345, \"count\": 1205}, {\"score_r8_b2\": 0.0625, \"count\": 11855}, {\"score_r8_b2\": 0.04, \"count\": 5654}, {\"score_r8_b2\": 0.1111, \"count\": 7364}, {\"score_r8_b2\": 0.25, \"count\": 2139}, {\"score_r8_b2\": 0.0357, \"count\": 2308}, {\"score_r8_b2\": 0.05, \"count\": 11600}, {\"score_r8_b2\": 0.0667, \"count\": 12273}, {\"score_r8_b2\": 0.0455, \"count\": 9576}, {\"score_r8_b2\": 0.2, \"count\": 2690}, {\"score_r8_b2\": 0.1429, \"count\": 5426}, {\"score_r8_b2\": 0.0435, \"count\": 8180}, {\"score_r8_b2\": 0.0909, \"count\": 9501}, {\"score_r8_b2\": 0.1667, \"count\": 4330}, {\"score_r8_b2\": 0.0385, \"count\": 4551}, {\"score_r8_b2\": 0.0417, \"count\": 7149}, {\"score_r8_b2\": 0.0556, \"count\": 12869}, {\"score_r8_b2\": 0.0526, \"count\": 12123}]}}, {\"mode\": \"vega-lite\"});\n",
       "</script>"
      ],
      "text/plain": [
       "alt.Chart(...)"
      ]
     },
     "metadata": {},
     "output_type": "display_data"
    }
   ],
   "source": [
    "show_b_stats('score_left_b2')\n",
    "show_b_stats('score_r8_b2')\n"
   ]
  },
  {
   "cell_type": "code",
   "execution_count": 8,
   "metadata": {},
   "outputs": [
    {
     "data": {
      "text/html": [
       "<div><style>\n",
       ".dataframe > thead > tr,\n",
       ".dataframe > tbody > tr {\n",
       "  text-align: right;\n",
       "  white-space: pre-wrap;\n",
       "}\n",
       "</style>\n",
       "<small>shape: (29, 2)</small><table border=\"1\" class=\"dataframe\"><thead><tr><th>score_left_b4</th><th>count</th></tr><tr><td>f64</td><td>u32</td></tr></thead><tbody><tr><td>0.0769</td><td>12123</td></tr><tr><td>0.125</td><td>7149</td></tr><tr><td>0.0333</td><td>595</td></tr><tr><td>0.0476</td><td>9501</td></tr><tr><td>0.0588</td><td>12273</td></tr><tr><td>&hellip;</td><td>&hellip;</td></tr><tr><td>0.0909</td><td>10116</td></tr><tr><td>0.0385</td><td>4330</td></tr><tr><td>0.0417</td><td>6877</td></tr><tr><td>0.0526</td><td>11980</td></tr><tr><td>0.0556</td><td>12716</td></tr></tbody></table></div>"
      ],
      "text/plain": [
       "shape: (29, 2)\n",
       "┌───────────────┬───────┐\n",
       "│ score_left_b4 ┆ count │\n",
       "│ ---           ┆ ---   │\n",
       "│ f64           ┆ u32   │\n",
       "╞═══════════════╪═══════╡\n",
       "│ 0.0769        ┆ 12123 │\n",
       "│ 0.125         ┆ 7149  │\n",
       "│ 0.0333        ┆ 595   │\n",
       "│ 0.0476        ┆ 9501  │\n",
       "│ 0.0588        ┆ 12273 │\n",
       "│ …             ┆ …     │\n",
       "│ 0.0909        ┆ 10116 │\n",
       "│ 0.0385        ┆ 4330  │\n",
       "│ 0.0417        ┆ 6877  │\n",
       "│ 0.0526        ┆ 11980 │\n",
       "│ 0.0556        ┆ 12716 │\n",
       "└───────────────┴───────┘"
      ]
     },
     "metadata": {},
     "output_type": "display_data"
    },
    {
     "data": {
      "text/html": [
       "\n",
       "<style>\n",
       "  #altair-viz-c96016ac0ff14f959074aa4456993c34.vega-embed {\n",
       "    width: 100%;\n",
       "    display: flex;\n",
       "  }\n",
       "\n",
       "  #altair-viz-c96016ac0ff14f959074aa4456993c34.vega-embed details,\n",
       "  #altair-viz-c96016ac0ff14f959074aa4456993c34.vega-embed details summary {\n",
       "    position: relative;\n",
       "  }\n",
       "</style>\n",
       "<div id=\"altair-viz-c96016ac0ff14f959074aa4456993c34\"></div>\n",
       "<script type=\"text/javascript\">\n",
       "  var VEGA_DEBUG = (typeof VEGA_DEBUG == \"undefined\") ? {} : VEGA_DEBUG;\n",
       "  (function(spec, embedOpt){\n",
       "    let outputDiv = document.currentScript.previousElementSibling;\n",
       "    if (outputDiv.id !== \"altair-viz-c96016ac0ff14f959074aa4456993c34\") {\n",
       "      outputDiv = document.getElementById(\"altair-viz-c96016ac0ff14f959074aa4456993c34\");\n",
       "    }\n",
       "\n",
       "    const paths = {\n",
       "      \"vega\": \"https://cdn.jsdelivr.net/npm/vega@5?noext\",\n",
       "      \"vega-lib\": \"https://cdn.jsdelivr.net/npm/vega-lib?noext\",\n",
       "      \"vega-lite\": \"https://cdn.jsdelivr.net/npm/vega-lite@5.20.1?noext\",\n",
       "      \"vega-embed\": \"https://cdn.jsdelivr.net/npm/vega-embed@6?noext\",\n",
       "    };\n",
       "\n",
       "    function maybeLoadScript(lib, version) {\n",
       "      var key = `${lib.replace(\"-\", \"\")}_version`;\n",
       "      return (VEGA_DEBUG[key] == version) ?\n",
       "        Promise.resolve(paths[lib]) :\n",
       "        new Promise(function(resolve, reject) {\n",
       "          var s = document.createElement('script');\n",
       "          document.getElementsByTagName(\"head\")[0].appendChild(s);\n",
       "          s.async = true;\n",
       "          s.onload = () => {\n",
       "            VEGA_DEBUG[key] = version;\n",
       "            return resolve(paths[lib]);\n",
       "          };\n",
       "          s.onerror = () => reject(`Error loading script: ${paths[lib]}`);\n",
       "          s.src = paths[lib];\n",
       "        });\n",
       "    }\n",
       "\n",
       "    function showError(err) {\n",
       "      outputDiv.innerHTML = `<div class=\"error\" style=\"color:red;\">${err}</div>`;\n",
       "      throw err;\n",
       "    }\n",
       "\n",
       "    function displayChart(vegaEmbed) {\n",
       "      vegaEmbed(outputDiv, spec, embedOpt)\n",
       "        .catch(err => showError(`Javascript Error: ${err.message}<br>This usually means there's a typo in your chart specification. See the javascript console for the full traceback.`));\n",
       "    }\n",
       "\n",
       "    if(typeof define === \"function\" && define.amd) {\n",
       "      requirejs.config({paths});\n",
       "      let deps = [\"vega-embed\"];\n",
       "      require(deps, displayChart, err => showError(`Error loading script: ${err.message}`));\n",
       "    } else {\n",
       "      maybeLoadScript(\"vega\", \"5\")\n",
       "        .then(() => maybeLoadScript(\"vega-lite\", \"5.20.1\"))\n",
       "        .then(() => maybeLoadScript(\"vega-embed\", \"6\"))\n",
       "        .catch(showError)\n",
       "        .then(() => displayChart(vegaEmbed));\n",
       "    }\n",
       "  })({\"config\": {\"view\": {\"continuousWidth\": 300, \"continuousHeight\": 300}}, \"data\": {\"name\": \"data-ea3d3a48c37e80a64095264cd9a3e57a\"}, \"mark\": {\"type\": \"bar\", \"tooltip\": true}, \"encoding\": {\"color\": {\"field\": \"score_left_b4\", \"type\": \"quantitative\"}, \"x\": {\"field\": \"score_left_b4\", \"type\": \"quantitative\"}, \"y\": {\"field\": \"count\", \"type\": \"quantitative\"}}, \"params\": [{\"name\": \"param_3\", \"select\": {\"type\": \"interval\", \"encodings\": [\"x\", \"y\"]}, \"bind\": \"scales\"}], \"$schema\": \"https://vega.github.io/schema/vega-lite/v5.20.1.json\", \"datasets\": {\"data-ea3d3a48c37e80a64095264cd9a3e57a\": [{\"score_left_b4\": 0.0769, \"count\": 12123}, {\"score_left_b4\": 0.125, \"count\": 7149}, {\"score_left_b4\": 0.0333, \"count\": 595}, {\"score_left_b4\": 0.0476, \"count\": 9501}, {\"score_left_b4\": 0.0588, \"count\": 12273}, {\"score_left_b4\": 0.0833, \"count\": 11600}, {\"score_left_b4\": 0.1, \"count\": 9576}, {\"score_left_b4\": 0.037, \"count\": 2690}, {\"score_left_b4\": 0.5, \"count\": 634}, {\"score_left_b4\": 0.0714, \"count\": 12869}, {\"score_left_b4\": 0.3333, \"count\": 1205}, {\"score_left_b4\": 0.0345, \"count\": 957}, {\"score_left_b4\": 0.0625, \"count\": 11855}, {\"score_left_b4\": 0.04, \"count\": 5426}, {\"score_left_b4\": 0.25, \"count\": 2308}, {\"score_left_b4\": 0.0455, \"count\": 9308}, {\"score_left_b4\": 0.0667, \"count\": 12350}, {\"score_left_b4\": 0.0357, \"count\": 2139}, {\"score_left_b4\": 0.1111, \"count\": 8180}, {\"score_left_b4\": 0.05, \"count\": 11385}, {\"score_left_b4\": 0.0435, \"count\": 7364}, {\"score_left_b4\": 0.1429, \"count\": 5654}, {\"score_left_b4\": 0.2, \"count\": 3114}, {\"score_left_b4\": 0.1667, \"count\": 4551}, {\"score_left_b4\": 0.0909, \"count\": 10116}, {\"score_left_b4\": 0.0385, \"count\": 4330}, {\"score_left_b4\": 0.0417, \"count\": 6877}, {\"score_left_b4\": 0.0526, \"count\": 11980}, {\"score_left_b4\": 0.0556, \"count\": 12716}]}}, {\"mode\": \"vega-lite\"});\n",
       "</script>"
      ],
      "text/plain": [
       "alt.Chart(...)"
      ]
     },
     "metadata": {},
     "output_type": "display_data"
    },
    {
     "data": {
      "text/html": [
       "<div><style>\n",
       ".dataframe > thead > tr,\n",
       ".dataframe > tbody > tr {\n",
       "  text-align: right;\n",
       "  white-space: pre-wrap;\n",
       "}\n",
       "</style>\n",
       "<small>shape: (29, 2)</small><table border=\"1\" class=\"dataframe\"><thead><tr><th>score_r8_b4</th><th>count</th></tr><tr><td>f64</td><td>u32</td></tr></thead><tbody><tr><td>0.0476</td><td>7164</td></tr><tr><td>0.0769</td><td>1015</td></tr><tr><td>0.0333</td><td>26614</td></tr><tr><td>0.125</td><td>156</td></tr><tr><td>0.0588</td><td>3285</td></tr><tr><td>&hellip;</td><td>&hellip;</td></tr><tr><td>0.0909</td><td>576</td></tr><tr><td>0.0385</td><td>15822</td></tr><tr><td>0.0556</td><td>4057</td></tr><tr><td>0.0417</td><td>11827</td></tr><tr><td>0.0526</td><td>4491</td></tr></tbody></table></div>"
      ],
      "text/plain": [
       "shape: (29, 2)\n",
       "┌─────────────┬───────┐\n",
       "│ score_r8_b4 ┆ count │\n",
       "│ ---         ┆ ---   │\n",
       "│ f64         ┆ u32   │\n",
       "╞═════════════╪═══════╡\n",
       "│ 0.0476      ┆ 7164  │\n",
       "│ 0.0769      ┆ 1015  │\n",
       "│ 0.0333      ┆ 26614 │\n",
       "│ 0.125       ┆ 156   │\n",
       "│ 0.0588      ┆ 3285  │\n",
       "│ …           ┆ …     │\n",
       "│ 0.0909      ┆ 576   │\n",
       "│ 0.0385      ┆ 15822 │\n",
       "│ 0.0556      ┆ 4057  │\n",
       "│ 0.0417      ┆ 11827 │\n",
       "│ 0.0526      ┆ 4491  │\n",
       "└─────────────┴───────┘"
      ]
     },
     "metadata": {},
     "output_type": "display_data"
    },
    {
     "data": {
      "text/html": [
       "\n",
       "<style>\n",
       "  #altair-viz-90094fcd3d294e1ab194bb829a1d3b61.vega-embed {\n",
       "    width: 100%;\n",
       "    display: flex;\n",
       "  }\n",
       "\n",
       "  #altair-viz-90094fcd3d294e1ab194bb829a1d3b61.vega-embed details,\n",
       "  #altair-viz-90094fcd3d294e1ab194bb829a1d3b61.vega-embed details summary {\n",
       "    position: relative;\n",
       "  }\n",
       "</style>\n",
       "<div id=\"altair-viz-90094fcd3d294e1ab194bb829a1d3b61\"></div>\n",
       "<script type=\"text/javascript\">\n",
       "  var VEGA_DEBUG = (typeof VEGA_DEBUG == \"undefined\") ? {} : VEGA_DEBUG;\n",
       "  (function(spec, embedOpt){\n",
       "    let outputDiv = document.currentScript.previousElementSibling;\n",
       "    if (outputDiv.id !== \"altair-viz-90094fcd3d294e1ab194bb829a1d3b61\") {\n",
       "      outputDiv = document.getElementById(\"altair-viz-90094fcd3d294e1ab194bb829a1d3b61\");\n",
       "    }\n",
       "\n",
       "    const paths = {\n",
       "      \"vega\": \"https://cdn.jsdelivr.net/npm/vega@5?noext\",\n",
       "      \"vega-lib\": \"https://cdn.jsdelivr.net/npm/vega-lib?noext\",\n",
       "      \"vega-lite\": \"https://cdn.jsdelivr.net/npm/vega-lite@5.20.1?noext\",\n",
       "      \"vega-embed\": \"https://cdn.jsdelivr.net/npm/vega-embed@6?noext\",\n",
       "    };\n",
       "\n",
       "    function maybeLoadScript(lib, version) {\n",
       "      var key = `${lib.replace(\"-\", \"\")}_version`;\n",
       "      return (VEGA_DEBUG[key] == version) ?\n",
       "        Promise.resolve(paths[lib]) :\n",
       "        new Promise(function(resolve, reject) {\n",
       "          var s = document.createElement('script');\n",
       "          document.getElementsByTagName(\"head\")[0].appendChild(s);\n",
       "          s.async = true;\n",
       "          s.onload = () => {\n",
       "            VEGA_DEBUG[key] = version;\n",
       "            return resolve(paths[lib]);\n",
       "          };\n",
       "          s.onerror = () => reject(`Error loading script: ${paths[lib]}`);\n",
       "          s.src = paths[lib];\n",
       "        });\n",
       "    }\n",
       "\n",
       "    function showError(err) {\n",
       "      outputDiv.innerHTML = `<div class=\"error\" style=\"color:red;\">${err}</div>`;\n",
       "      throw err;\n",
       "    }\n",
       "\n",
       "    function displayChart(vegaEmbed) {\n",
       "      vegaEmbed(outputDiv, spec, embedOpt)\n",
       "        .catch(err => showError(`Javascript Error: ${err.message}<br>This usually means there's a typo in your chart specification. See the javascript console for the full traceback.`));\n",
       "    }\n",
       "\n",
       "    if(typeof define === \"function\" && define.amd) {\n",
       "      requirejs.config({paths});\n",
       "      let deps = [\"vega-embed\"];\n",
       "      require(deps, displayChart, err => showError(`Error loading script: ${err.message}`));\n",
       "    } else {\n",
       "      maybeLoadScript(\"vega\", \"5\")\n",
       "        .then(() => maybeLoadScript(\"vega-lite\", \"5.20.1\"))\n",
       "        .then(() => maybeLoadScript(\"vega-embed\", \"6\"))\n",
       "        .catch(showError)\n",
       "        .then(() => displayChart(vegaEmbed));\n",
       "    }\n",
       "  })({\"config\": {\"view\": {\"continuousWidth\": 300, \"continuousHeight\": 300}}, \"data\": {\"name\": \"data-88f6ad69a77c22f1788d049bae69bf77\"}, \"mark\": {\"type\": \"bar\", \"tooltip\": true}, \"encoding\": {\"color\": {\"field\": \"score_r8_b4\", \"type\": \"quantitative\"}, \"x\": {\"field\": \"score_r8_b4\", \"type\": \"quantitative\"}, \"y\": {\"field\": \"count\", \"type\": \"quantitative\"}}, \"params\": [{\"name\": \"param_4\", \"select\": {\"type\": \"interval\", \"encodings\": [\"x\", \"y\"]}, \"bind\": \"scales\"}], \"$schema\": \"https://vega.github.io/schema/vega-lite/v5.20.1.json\", \"datasets\": {\"data-88f6ad69a77c22f1788d049bae69bf77\": [{\"score_r8_b4\": 0.0476, \"count\": 7164}, {\"score_r8_b4\": 0.0769, \"count\": 1015}, {\"score_r8_b4\": 0.0333, \"count\": 26614}, {\"score_r8_b4\": 0.125, \"count\": 156}, {\"score_r8_b4\": 0.0588, \"count\": 3285}, {\"score_r8_b4\": 0.037, \"count\": 16823}, {\"score_r8_b4\": 0.0833, \"count\": 816}, {\"score_r8_b4\": 0.0714, \"count\": 1511}, {\"score_r8_b4\": 0.1, \"count\": 384}, {\"score_r8_b4\": 0.0345, \"count\": 23511}, {\"score_r8_b4\": 0.3333, \"count\": 2}, {\"score_r8_b4\": 0.04, \"count\": 12814}, {\"score_r8_b4\": 0.0625, \"count\": 2569}, {\"score_r8_b4\": 0.1111, \"count\": 221}, {\"score_r8_b4\": 0.0667, \"count\": 1779}, {\"score_r8_b4\": 0.25, \"count\": 8}, {\"score_r8_b4\": 0.0455, \"count\": 8551}, {\"score_r8_b4\": 0.0357, \"count\": 20729}, {\"score_r8_b4\": 0.05, \"count\": 5976}, {\"score_r8_b4\": 0.1429, \"count\": 82}, {\"score_r8_b4\": 0.2, \"count\": 22}, {\"score_r8_b4\": 0.0435, \"count\": 10069}, {\"score_r8_b4\": 0.0323, \"count\": 29905}, {\"score_r8_b4\": 0.1667, \"count\": 46}, {\"score_r8_b4\": 0.0909, \"count\": 576}, {\"score_r8_b4\": 0.0385, \"count\": 15822}, {\"score_r8_b4\": 0.0556, \"count\": 4057}, {\"score_r8_b4\": 0.0417, \"count\": 11827}, {\"score_r8_b4\": 0.0526, \"count\": 4491}]}}, {\"mode\": \"vega-lite\"});\n",
       "</script>"
      ],
      "text/plain": [
       "alt.Chart(...)"
      ]
     },
     "metadata": {},
     "output_type": "display_data"
    }
   ],
   "source": [
    "show_b_stats('score_left_b4')\n",
    "show_b_stats('score_r8_b4')"
   ]
  }
 ],
 "metadata": {
  "kernelspec": {
   "display_name": ".venv",
   "language": "python",
   "name": "python3"
  },
  "language_info": {
   "codemirror_mode": {
    "name": "ipython",
    "version": 3
   },
   "file_extension": ".py",
   "mimetype": "text/x-python",
   "name": "python",
   "nbconvert_exporter": "python",
   "pygments_lexer": "ipython3",
   "version": "3.12.9"
  }
 },
 "nbformat": 4,
 "nbformat_minor": 2
}

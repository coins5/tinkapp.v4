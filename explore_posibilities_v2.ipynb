{
 "cells": [
  {
   "cell_type": "code",
   "execution_count": 22,
   "metadata": {},
   "outputs": [],
   "source": [
    "from bs4 import BeautifulSoup\n",
    "import pandas as pd\n",
    "from datetime import datetime, timedelta\n",
    "from itertools import combinations\n",
    "import json\n",
    "import requests\n",
    "import math\n",
    "from typing import Optional, List, Dict\n",
    "\n",
    "from pydantic import BaseModel\n",
    "from typing import Mapping\n",
    "import numpy as np\n",
    "import polars as pl"
   ]
  },
  {
   "cell_type": "code",
   "execution_count": 23,
   "metadata": {},
   "outputs": [
    {
     "name": "stdout",
     "output_type": "stream",
     "text": [
      "010203040506\n"
     ]
    }
   ],
   "source": [
    "def formalize_data (bolillas_tuple: tuple[int]) -> str:\n",
    "  id = \"\".join([str.zfill(str(b),2) for b in bolillas_tuple])\n",
    "  return id\n",
    "\n",
    "data = (1,2,3,4,5,6)\n",
    "a = formalize_data(bolillas_tuple=data)\n",
    "print(a)"
   ]
  },
  {
   "cell_type": "code",
   "execution_count": 24,
   "metadata": {},
   "outputs": [],
   "source": [
    "# Lista de números primos entre 1 y 50\n",
    "PRIME_NUMBERS = {2, 3, 5, 7, 11, 13, 17, 19, 23, 29, 31, 37, 41, 43, 47}\n",
    "\n",
    "# Configuración\n",
    "TOTAL_NUMBERS = 50\n",
    "CHOOSE = 6\n",
    "\n",
    "# Combinaciones pasadas\n",
    "past = [\n",
    "  [1, 2, 3, 4, 5, 6],\n",
    "  [1, 2, 3, 4, 5, 7],\n",
    "  [1, 2, 3, 4, 5, 8]\n",
    "]\n",
    "\n",
    "# Rangos de valores de las bolillas b1 a b6\n",
    "MIN_B_VALUES = [1, 2, 3, 4, 5, 6]\n",
    "MAX_B_VALUES = [45, 46, 47, 48, 49, 50]\n",
    "\n",
    "# Función para determinar si un número es primo\n",
    "# Utilizando una tabla precalculada para mayor eficiencia\n",
    "def is_prime(num):\n",
    "  return num in PRIME_NUMBERS\n",
    "\n",
    "# Función para determinar si una combinación es \"rara\"\n",
    "def is_rare_combination(combo) -> tuple[bool, str]:\n",
    "  # Regla 1: Todos los números son consecutivos\n",
    "  if all(combo[i] + 1 == combo[i + 1] for i in range(len(combo) - 1)):\n",
    "    return True, \"CONSECUTIVES\"\n",
    "\n",
    "  # Regla 2: Saltos regulares (diferencia constante entre números)\n",
    "  differences = [combo[i + 1] - combo[i] for i in range(len(combo) - 1)]\n",
    "  if len(set(differences)) == 1:\n",
    "    return True, \"REGULAR_SKIPS\"\n",
    "\n",
    "  # Regla 3: Saltos consecutivos iguales\n",
    "  if any(differences[i] == differences[i + 1] for i in range(len(differences) - 1)):\n",
    "    return True, \"REGULAR_JUMPS\"\n",
    "\n",
    "  # Regla 4: Máximo 3 números primos\n",
    "  prime_count = sum(1 for num in combo if is_prime(num))\n",
    "  if prime_count > 3:\n",
    "    return True, \"MAX_PRIMES\"\n",
    "\n",
    "  # Regla 5: Al menos un número par\n",
    "  if not any(num % 2 == 0 for num in combo):\n",
    "    return True, \"HAVENT_EVENS\"\n",
    "\n",
    "  # Regla 6: No debe estar en combinaciones pasadas\n",
    "  if list(combo) in past:\n",
    "    return True, \"PAST\"\n",
    "\n",
    "  return False, \"\"\n",
    "\n",
    "\n",
    "# Calcular probabilidades de izquierda a derecha\n",
    "def calculate_left_scores(combo):\n",
    "  left_scores = []\n",
    "\n",
    "  for i, value in enumerate(combo):\n",
    "    if i == 0:\n",
    "      possible_values = combo[i + 1] - 1\n",
    "    else:\n",
    "      possible_values = MAX_B_VALUES[i] - (combo[i - 1] + 1) + 1\n",
    "    \n",
    "    left_scores.append(1 / possible_values)\n",
    "\n",
    "  return left_scores\n",
    "\n",
    "# Calcular probabilidades de derecha a izquierda\n",
    "def calculate_right_scores(combo):\n",
    "  right_scores = []\n",
    "\n",
    "  for i, value in enumerate(combo):\n",
    "    if (i == CHOOSE - 1):\n",
    "      possible_values = MAX_B_VALUES[i] - (combo[i - 1] + 1) + 1\n",
    "    else:\n",
    "      possible_values = (combo[i + 1] - 1) - MIN_B_VALUES[i] + 1\n",
    "    \n",
    "    right_scores.append(1 / possible_values)\n",
    "\n",
    "  return right_scores\n",
    "\n",
    "\n"
   ]
  },
  {
   "cell_type": "code",
   "execution_count": 25,
   "metadata": {},
   "outputs": [],
   "source": [
    "l = [0.0588, 0.0303, 0.0345, 0.0455, 0.0526, 0.0588]\n",
    "r = [0.0588, 0.0417, 0.0370, 0.0345, 0.0333, 0.0588]\n",
    "\n",
    "def check_shared_values (left_arr: List[float], right_arr: List[float]):\n",
    "  shared_values = []\n",
    "  if (left_arr[0] == right_arr[CHOOSE-1]):\n",
    "    shared_values.append(left_arr[0])\n",
    "  if (left_arr[CHOOSE-1] == right_arr[0]):\n",
    "    shared_values.append(left_arr[CHOOSE-1])\n",
    "\n",
    "  for i in range(len(left_arr)):\n",
    "    for j in range(1, len(right_arr) - 1):\n",
    "      if left_arr[i] == right_arr[j]:\n",
    "        shared_values.append(left_arr[i])\n",
    "  return shared_values\n",
    "\n",
    "# iniciar comparacion desde aqui"
   ]
  },
  {
   "cell_type": "code",
   "execution_count": 40,
   "metadata": {},
   "outputs": [
    {
     "data": {
      "text/html": [
       "<div><style>\n",
       ".dataframe > thead > tr,\n",
       ".dataframe > tbody > tr {\n",
       "  text-align: right;\n",
       "  white-space: pre-wrap;\n",
       "}\n",
       "</style>\n",
       "<small>shape: (10, 25)</small><table border=\"1\" class=\"dataframe\"><thead><tr><th>id</th><th>combo</th><th>b1</th><th>b2</th><th>b3</th><th>b4</th><th>b5</th><th>b6</th><th>is_rare_combination</th><th>reason</th><th>score_left_b1</th><th>score_left_b2</th><th>score_left_b3</th><th>score_left_b4</th><th>score_left_b5</th><th>score_left_b6</th><th>score_r8_b1</th><th>score_r8_b2</th><th>score_r8_b3</th><th>score_r8_b4</th><th>score_r8_b5</th><th>score_r8_b6</th><th>shared_values</th><th>shared_values_count</th><th>score_row</th></tr><tr><td>str</td><td>array[u8, 6]</td><td>u8</td><td>u8</td><td>u8</td><td>u8</td><td>u8</td><td>u8</td><td>bool</td><td>str</td><td>f64</td><td>f64</td><td>f64</td><td>f64</td><td>f64</td><td>f64</td><td>f64</td><td>f64</td><td>f64</td><td>f64</td><td>f64</td><td>f64</td><td>list[f64]</td><td>u8</td><td>f64</td></tr></thead><tbody><tr><td>&quot;010203040507&quot;</td><td>[1, 2, … 7]</td><td>1</td><td>2</td><td>3</td><td>4</td><td>5</td><td>7</td><td>true</td><td>&quot;REGULAR_JUMPS&quot;</td><td>1.0</td><td>0.0222</td><td>0.0222</td><td>0.0222</td><td>0.0222</td><td>0.0222</td><td>1.0</td><td>1.0</td><td>1.0</td><td>1.0</td><td>0.5</td><td>0.0222</td><td>[0.0222, 1.0]</td><td>2</td><td>5.6332</td></tr><tr><td>&quot;010203040508&quot;</td><td>[1, 2, … 8]</td><td>1</td><td>2</td><td>3</td><td>4</td><td>5</td><td>8</td><td>true</td><td>&quot;REGULAR_JUMPS&quot;</td><td>1.0</td><td>0.0222</td><td>0.0222</td><td>0.0222</td><td>0.0222</td><td>0.0222</td><td>1.0</td><td>1.0</td><td>1.0</td><td>1.0</td><td>0.3333</td><td>0.0222</td><td>[0.0222, 1.0]</td><td>2</td><td>5.4665</td></tr><tr><td>&quot;010203040509&quot;</td><td>[1, 2, … 9]</td><td>1</td><td>2</td><td>3</td><td>4</td><td>5</td><td>9</td><td>true</td><td>&quot;REGULAR_JUMPS&quot;</td><td>1.0</td><td>0.0222</td><td>0.0222</td><td>0.0222</td><td>0.0222</td><td>0.0222</td><td>1.0</td><td>1.0</td><td>1.0</td><td>1.0</td><td>0.25</td><td>0.0222</td><td>[0.0222, 1.0]</td><td>2</td><td>5.3832</td></tr><tr><td>&quot;010203040510&quot;</td><td>[1, 2, … 10]</td><td>1</td><td>2</td><td>3</td><td>4</td><td>5</td><td>10</td><td>true</td><td>&quot;REGULAR_JUMPS&quot;</td><td>1.0</td><td>0.0222</td><td>0.0222</td><td>0.0222</td><td>0.0222</td><td>0.0222</td><td>1.0</td><td>1.0</td><td>1.0</td><td>1.0</td><td>0.2</td><td>0.0222</td><td>[0.0222, 1.0]</td><td>2</td><td>5.3332</td></tr><tr><td>&quot;010203040511&quot;</td><td>[1, 2, … 11]</td><td>1</td><td>2</td><td>3</td><td>4</td><td>5</td><td>11</td><td>true</td><td>&quot;REGULAR_JUMPS&quot;</td><td>1.0</td><td>0.0222</td><td>0.0222</td><td>0.0222</td><td>0.0222</td><td>0.0222</td><td>1.0</td><td>1.0</td><td>1.0</td><td>1.0</td><td>0.1667</td><td>0.0222</td><td>[0.0222, 1.0]</td><td>2</td><td>5.2999</td></tr><tr><td>&quot;010203040512&quot;</td><td>[1, 2, … 12]</td><td>1</td><td>2</td><td>3</td><td>4</td><td>5</td><td>12</td><td>true</td><td>&quot;REGULAR_JUMPS&quot;</td><td>1.0</td><td>0.0222</td><td>0.0222</td><td>0.0222</td><td>0.0222</td><td>0.0222</td><td>1.0</td><td>1.0</td><td>1.0</td><td>1.0</td><td>0.1429</td><td>0.0222</td><td>[0.0222, 1.0]</td><td>2</td><td>5.2761</td></tr><tr><td>&quot;010203040513&quot;</td><td>[1, 2, … 13]</td><td>1</td><td>2</td><td>3</td><td>4</td><td>5</td><td>13</td><td>true</td><td>&quot;REGULAR_JUMPS&quot;</td><td>1.0</td><td>0.0222</td><td>0.0222</td><td>0.0222</td><td>0.0222</td><td>0.0222</td><td>1.0</td><td>1.0</td><td>1.0</td><td>1.0</td><td>0.125</td><td>0.0222</td><td>[0.0222, 1.0]</td><td>2</td><td>5.2582</td></tr><tr><td>&quot;010203040514&quot;</td><td>[1, 2, … 14]</td><td>1</td><td>2</td><td>3</td><td>4</td><td>5</td><td>14</td><td>true</td><td>&quot;REGULAR_JUMPS&quot;</td><td>1.0</td><td>0.0222</td><td>0.0222</td><td>0.0222</td><td>0.0222</td><td>0.0222</td><td>1.0</td><td>1.0</td><td>1.0</td><td>1.0</td><td>0.1111</td><td>0.0222</td><td>[0.0222, 1.0]</td><td>2</td><td>5.2443</td></tr><tr><td>&quot;010203040515&quot;</td><td>[1, 2, … 15]</td><td>1</td><td>2</td><td>3</td><td>4</td><td>5</td><td>15</td><td>true</td><td>&quot;REGULAR_JUMPS&quot;</td><td>1.0</td><td>0.0222</td><td>0.0222</td><td>0.0222</td><td>0.0222</td><td>0.0222</td><td>1.0</td><td>1.0</td><td>1.0</td><td>1.0</td><td>0.1</td><td>0.0222</td><td>[0.0222, 1.0]</td><td>2</td><td>5.2332</td></tr><tr><td>&quot;010203040516&quot;</td><td>[1, 2, … 16]</td><td>1</td><td>2</td><td>3</td><td>4</td><td>5</td><td>16</td><td>true</td><td>&quot;REGULAR_JUMPS&quot;</td><td>1.0</td><td>0.0222</td><td>0.0222</td><td>0.0222</td><td>0.0222</td><td>0.0222</td><td>1.0</td><td>1.0</td><td>1.0</td><td>1.0</td><td>0.0909</td><td>0.0222</td><td>[0.0222, 1.0]</td><td>2</td><td>5.2241</td></tr></tbody></table></div>"
      ],
      "text/plain": [
       "shape: (10, 25)\n",
       "┌──────────────┬─────────────┬─────┬─────┬───┬─────────────┬─────────────┬─────────────┬───────────┐\n",
       "│ id           ┆ combo       ┆ b1  ┆ b2  ┆ … ┆ score_r8_b6 ┆ shared_valu ┆ shared_valu ┆ score_row │\n",
       "│ ---          ┆ ---         ┆ --- ┆ --- ┆   ┆ ---         ┆ es          ┆ es_count    ┆ ---       │\n",
       "│ str          ┆ array[u8,   ┆ u8  ┆ u8  ┆   ┆ f64         ┆ ---         ┆ ---         ┆ f64       │\n",
       "│              ┆ 6]          ┆     ┆     ┆   ┆             ┆ list[f64]   ┆ u8          ┆           │\n",
       "╞══════════════╪═════════════╪═════╪═════╪═══╪═════════════╪═════════════╪═════════════╪═══════════╡\n",
       "│ 010203040507 ┆ [1, 2, … 7] ┆ 1   ┆ 2   ┆ … ┆ 0.0222      ┆ [0.0222,    ┆ 2           ┆ 5.6332    │\n",
       "│              ┆             ┆     ┆     ┆   ┆             ┆ 1.0]        ┆             ┆           │\n",
       "│ 010203040508 ┆ [1, 2, … 8] ┆ 1   ┆ 2   ┆ … ┆ 0.0222      ┆ [0.0222,    ┆ 2           ┆ 5.4665    │\n",
       "│              ┆             ┆     ┆     ┆   ┆             ┆ 1.0]        ┆             ┆           │\n",
       "│ 010203040509 ┆ [1, 2, … 9] ┆ 1   ┆ 2   ┆ … ┆ 0.0222      ┆ [0.0222,    ┆ 2           ┆ 5.3832    │\n",
       "│              ┆             ┆     ┆     ┆   ┆             ┆ 1.0]        ┆             ┆           │\n",
       "│ 010203040510 ┆ [1, 2, …    ┆ 1   ┆ 2   ┆ … ┆ 0.0222      ┆ [0.0222,    ┆ 2           ┆ 5.3332    │\n",
       "│              ┆ 10]         ┆     ┆     ┆   ┆             ┆ 1.0]        ┆             ┆           │\n",
       "│ 010203040511 ┆ [1, 2, …    ┆ 1   ┆ 2   ┆ … ┆ 0.0222      ┆ [0.0222,    ┆ 2           ┆ 5.2999    │\n",
       "│              ┆ 11]         ┆     ┆     ┆   ┆             ┆ 1.0]        ┆             ┆           │\n",
       "│ 010203040512 ┆ [1, 2, …    ┆ 1   ┆ 2   ┆ … ┆ 0.0222      ┆ [0.0222,    ┆ 2           ┆ 5.2761    │\n",
       "│              ┆ 12]         ┆     ┆     ┆   ┆             ┆ 1.0]        ┆             ┆           │\n",
       "│ 010203040513 ┆ [1, 2, …    ┆ 1   ┆ 2   ┆ … ┆ 0.0222      ┆ [0.0222,    ┆ 2           ┆ 5.2582    │\n",
       "│              ┆ 13]         ┆     ┆     ┆   ┆             ┆ 1.0]        ┆             ┆           │\n",
       "│ 010203040514 ┆ [1, 2, …    ┆ 1   ┆ 2   ┆ … ┆ 0.0222      ┆ [0.0222,    ┆ 2           ┆ 5.2443    │\n",
       "│              ┆ 14]         ┆     ┆     ┆   ┆             ┆ 1.0]        ┆             ┆           │\n",
       "│ 010203040515 ┆ [1, 2, …    ┆ 1   ┆ 2   ┆ … ┆ 0.0222      ┆ [0.0222,    ┆ 2           ┆ 5.2332    │\n",
       "│              ┆ 15]         ┆     ┆     ┆   ┆             ┆ 1.0]        ┆             ┆           │\n",
       "│ 010203040516 ┆ [1, 2, …    ┆ 1   ┆ 2   ┆ … ┆ 0.0222      ┆ [0.0222,    ┆ 2           ┆ 5.2241    │\n",
       "│              ┆ 16]         ┆     ┆     ┆   ┆             ┆ 1.0]        ┆             ┆           │\n",
       "└──────────────┴─────────────┴─────┴─────┴───┴─────────────┴─────────────┴─────────────┴───────────┘"
      ]
     },
     "metadata": {},
     "output_type": "display_data"
    }
   ],
   "source": [
    "bolillas = range(1, TOTAL_NUMBERS + 1)\n",
    "# bolillas = range(1, 8) \n",
    "combos = combinations(bolillas, CHOOSE)\n",
    "\n",
    "lst = []\n",
    "for bolillas_int in combos:\n",
    "  is_rare, reason = is_rare_combination(bolillas_int)\n",
    "  if (reason not in ['', 'REGULAR_JUMPS']):\n",
    "    continue\n",
    "  \n",
    "  cols = []\n",
    "  id = formalize_data(bolillas_int)\n",
    "\n",
    "  cols.append(id)\n",
    "  cols.append(bolillas_int)\n",
    "  cols.extend([b for b in bolillas_int])\n",
    "  \n",
    "  \n",
    "  cols.append(is_rare)\n",
    "  cols.append(reason)\n",
    "\n",
    "  left_scores = [round(b, 4) for b in calculate_left_scores(bolillas_int)]\n",
    "  right_scores = [round(b, 4) for b in calculate_right_scores(bolillas_int)]\n",
    "  lr_scores = [round(left + right,4) for left, right in zip(left_scores, right_scores)]\n",
    "  row_score = round(sum(lr_scores),4)\n",
    "\n",
    "  shared_values = list(set(left_scores[0:5]) & set(right_scores[1:6]))\n",
    "  shared_values = [round(s, 4) for s in shared_values]\n",
    "  if (len(shared_values) > 2):\n",
    "    continue\n",
    "  \n",
    "  cols.extend([score for score in left_scores])\n",
    "  cols.extend([score for score in right_scores])\n",
    "  # cols.extend(lr_scores)\n",
    "  cols.append(shared_values)\n",
    "  cols.append(len(shared_values))\n",
    "  cols.append(row_score)\n",
    "  \n",
    "  lst.append(cols)\n",
    "\n",
    "\n",
    "\n",
    "dfRows = pl.DataFrame(\n",
    "  lst,\n",
    "  schema=[\n",
    "    'id', 'combo', 'b1', 'b2', 'b3', 'b4', 'b5', 'b6',\n",
    "    'is_rare_combination', 'reason',\n",
    "    \"score_left_b1\", \"score_left_b2\", \"score_left_b3\", \"score_left_b4\", \"score_left_b5\", \"score_left_b6\",\n",
    "    \"score_r8_b1\", \"score_r8_b2\", \"score_r8_b3\", \"score_r8_b4\", \"score_r8_b5\", \"score_r8_b6\",\n",
    "    # \"score_lr_b1\", \"score_lr_b2\", \"score_lr_b3\", \"score_lr_b4\", \"score_lr_b5\", \"score_lr_b6\",\n",
    "    \"shared_values\", \"shared_values_count\",\n",
    "    \"score_row\"\n",
    "  ],\n",
    "  schema_overrides={\n",
    "    'combo': pl.Array(pl.UInt8, 6),\n",
    "    'b1': pl.UInt8,\n",
    "    'b2': pl.UInt8,\n",
    "    'b3': pl.UInt8,\n",
    "    'b4': pl.UInt8,\n",
    "    'b5': pl.UInt8,\n",
    "    'b6': pl.UInt8,\n",
    "    'shared_values_count': pl.UInt8\n",
    "  },\n",
    "  orient='row'\n",
    ")\n",
    "\n",
    "display(dfRows.head(10))"
   ]
  },
  {
   "cell_type": "code",
   "execution_count": 41,
   "metadata": {},
   "outputs": [
    {
     "data": {
      "text/plain": [
       "14963876"
      ]
     },
     "execution_count": 41,
     "metadata": {},
     "output_type": "execute_result"
    }
   ],
   "source": [
    "len(dfRows)"
   ]
  },
  {
   "cell_type": "code",
   "execution_count": 75,
   "metadata": {},
   "outputs": [],
   "source": [
    "df_filtered = dfRows.filter([\n",
    "  pl.col('score_r8_b3') > 0.0256,\n",
    "  pl.col('score_r8_b3') <= 0.1667,\n",
    "\n",
    "  pl.col('score_left_b3') >= 0.0222,\n",
    "  pl.col('score_left_b3') <= 0.0556,\n",
    "  pl.col('b1').is_in((3,4,5,6,7,8,9)),\n",
    "  pl.col('b2') <= 20,\n",
    "  pl.col('b3') <= 30,\n",
    "  ~pl.col('b5').is_in((48, 49)),\n",
    "  pl.col('b4') >= 30,\n",
    "  pl.col('b5') >= 35,\n",
    "  pl.col('b6') >= 35,\n",
    "  ~pl.col('b6').is_in((49, 50)),\n",
    "  \n",
    "  ]\n",
    ")"
   ]
  },
  {
   "cell_type": "code",
   "execution_count": 76,
   "metadata": {},
   "outputs": [
    {
     "data": {
      "text/html": [
       "<div><style>\n",
       ".dataframe > thead > tr,\n",
       ".dataframe > tbody > tr {\n",
       "  text-align: right;\n",
       "  white-space: pre-wrap;\n",
       "}\n",
       "</style>\n",
       "<small>shape: (1_165_152, 25)</small><table border=\"1\" class=\"dataframe\"><thead><tr><th>id</th><th>combo</th><th>b1</th><th>b2</th><th>b3</th><th>b4</th><th>b5</th><th>b6</th><th>is_rare_combination</th><th>reason</th><th>score_left_b1</th><th>score_left_b2</th><th>score_left_b3</th><th>score_left_b4</th><th>score_left_b5</th><th>score_left_b6</th><th>score_r8_b1</th><th>score_r8_b2</th><th>score_r8_b3</th><th>score_r8_b4</th><th>score_r8_b5</th><th>score_r8_b6</th><th>shared_values</th><th>shared_values_count</th><th>score_row</th></tr><tr><td>str</td><td>array[u8, 6]</td><td>u8</td><td>u8</td><td>u8</td><td>u8</td><td>u8</td><td>u8</td><td>bool</td><td>str</td><td>f64</td><td>f64</td><td>f64</td><td>f64</td><td>f64</td><td>f64</td><td>f64</td><td>f64</td><td>f64</td><td>f64</td><td>f64</td><td>f64</td><td>list[f64]</td><td>u8</td><td>f64</td></tr></thead><tbody><tr><td>&quot;030405303536&quot;</td><td>[3, 4, … 36]</td><td>3</td><td>4</td><td>5</td><td>30</td><td>35</td><td>36</td><td>true</td><td>&quot;REGULAR_JUMPS&quot;</td><td>0.3333</td><td>0.0233</td><td>0.0233</td><td>0.0233</td><td>0.0526</td><td>0.0667</td><td>0.3333</td><td>0.3333</td><td>0.037</td><td>0.0323</td><td>0.0323</td><td>0.0667</td><td>[0.3333]</td><td>1</td><td>1.3574</td></tr><tr><td>&quot;030405303537&quot;</td><td>[3, 4, … 37]</td><td>3</td><td>4</td><td>5</td><td>30</td><td>35</td><td>37</td><td>true</td><td>&quot;REGULAR_JUMPS&quot;</td><td>0.3333</td><td>0.0233</td><td>0.0233</td><td>0.0233</td><td>0.0526</td><td>0.0667</td><td>0.3333</td><td>0.3333</td><td>0.037</td><td>0.0323</td><td>0.0312</td><td>0.0667</td><td>[0.3333]</td><td>1</td><td>1.3563</td></tr><tr><td>&quot;030405303538&quot;</td><td>[3, 4, … 38]</td><td>3</td><td>4</td><td>5</td><td>30</td><td>35</td><td>38</td><td>true</td><td>&quot;REGULAR_JUMPS&quot;</td><td>0.3333</td><td>0.0233</td><td>0.0233</td><td>0.0233</td><td>0.0526</td><td>0.0667</td><td>0.3333</td><td>0.3333</td><td>0.037</td><td>0.0323</td><td>0.0303</td><td>0.0667</td><td>[0.3333]</td><td>1</td><td>1.3554</td></tr><tr><td>&quot;030405303539&quot;</td><td>[3, 4, … 39]</td><td>3</td><td>4</td><td>5</td><td>30</td><td>35</td><td>39</td><td>true</td><td>&quot;REGULAR_JUMPS&quot;</td><td>0.3333</td><td>0.0233</td><td>0.0233</td><td>0.0233</td><td>0.0526</td><td>0.0667</td><td>0.3333</td><td>0.3333</td><td>0.037</td><td>0.0323</td><td>0.0294</td><td>0.0667</td><td>[0.3333]</td><td>1</td><td>1.3545</td></tr><tr><td>&quot;030405303540&quot;</td><td>[3, 4, … 40]</td><td>3</td><td>4</td><td>5</td><td>30</td><td>35</td><td>40</td><td>true</td><td>&quot;REGULAR_JUMPS&quot;</td><td>0.3333</td><td>0.0233</td><td>0.0233</td><td>0.0233</td><td>0.0526</td><td>0.0667</td><td>0.3333</td><td>0.3333</td><td>0.037</td><td>0.0323</td><td>0.0286</td><td>0.0667</td><td>[0.3333]</td><td>1</td><td>1.3537</td></tr><tr><td>&hellip;</td><td>&hellip;</td><td>&hellip;</td><td>&hellip;</td><td>&hellip;</td><td>&hellip;</td><td>&hellip;</td><td>&hellip;</td><td>&hellip;</td><td>&hellip;</td><td>&hellip;</td><td>&hellip;</td><td>&hellip;</td><td>&hellip;</td><td>&hellip;</td><td>&hellip;</td><td>&hellip;</td><td>&hellip;</td><td>&hellip;</td><td>&hellip;</td><td>&hellip;</td><td>&hellip;</td><td>&hellip;</td><td>&hellip;</td><td>&hellip;</td></tr><tr><td>&quot;092030414547&quot;</td><td>[9, 20, … 47]</td><td>9</td><td>20</td><td>30</td><td>41</td><td>45</td><td>47</td><td>false</td><td>&quot;&quot;</td><td>0.0526</td><td>0.027</td><td>0.037</td><td>0.0556</td><td>0.125</td><td>0.2</td><td>0.0526</td><td>0.0357</td><td>0.0263</td><td>0.0244</td><td>0.0238</td><td>0.2</td><td>[]</td><td>0</td><td>0.86</td></tr><tr><td>&quot;092030414548&quot;</td><td>[9, 20, … 48]</td><td>9</td><td>20</td><td>30</td><td>41</td><td>45</td><td>48</td><td>false</td><td>&quot;&quot;</td><td>0.0526</td><td>0.027</td><td>0.037</td><td>0.0556</td><td>0.125</td><td>0.2</td><td>0.0526</td><td>0.0357</td><td>0.0263</td><td>0.0244</td><td>0.0233</td><td>0.2</td><td>[]</td><td>0</td><td>0.8595</td></tr><tr><td>&quot;092030414647&quot;</td><td>[9, 20, … 47]</td><td>9</td><td>20</td><td>30</td><td>41</td><td>46</td><td>47</td><td>false</td><td>&quot;&quot;</td><td>0.0526</td><td>0.027</td><td>0.037</td><td>0.0556</td><td>0.125</td><td>0.25</td><td>0.0526</td><td>0.0357</td><td>0.0263</td><td>0.0238</td><td>0.0238</td><td>0.25</td><td>[]</td><td>0</td><td>0.9594</td></tr><tr><td>&quot;092030414648&quot;</td><td>[9, 20, … 48]</td><td>9</td><td>20</td><td>30</td><td>41</td><td>46</td><td>48</td><td>false</td><td>&quot;&quot;</td><td>0.0526</td><td>0.027</td><td>0.037</td><td>0.0556</td><td>0.125</td><td>0.25</td><td>0.0526</td><td>0.0357</td><td>0.0263</td><td>0.0238</td><td>0.0233</td><td>0.25</td><td>[]</td><td>0</td><td>0.9589</td></tr><tr><td>&quot;092030414748&quot;</td><td>[9, 20, … 48]</td><td>9</td><td>20</td><td>30</td><td>41</td><td>47</td><td>48</td><td>false</td><td>&quot;&quot;</td><td>0.0526</td><td>0.027</td><td>0.037</td><td>0.0556</td><td>0.125</td><td>0.3333</td><td>0.0526</td><td>0.0357</td><td>0.0263</td><td>0.0233</td><td>0.0233</td><td>0.3333</td><td>[]</td><td>0</td><td>1.125</td></tr></tbody></table></div>"
      ],
      "text/plain": [
       "shape: (1_165_152, 25)\n",
       "┌──────────────┬─────────────┬─────┬─────┬───┬─────────────┬─────────────┬─────────────┬───────────┐\n",
       "│ id           ┆ combo       ┆ b1  ┆ b2  ┆ … ┆ score_r8_b6 ┆ shared_valu ┆ shared_valu ┆ score_row │\n",
       "│ ---          ┆ ---         ┆ --- ┆ --- ┆   ┆ ---         ┆ es          ┆ es_count    ┆ ---       │\n",
       "│ str          ┆ array[u8,   ┆ u8  ┆ u8  ┆   ┆ f64         ┆ ---         ┆ ---         ┆ f64       │\n",
       "│              ┆ 6]          ┆     ┆     ┆   ┆             ┆ list[f64]   ┆ u8          ┆           │\n",
       "╞══════════════╪═════════════╪═════╪═════╪═══╪═════════════╪═════════════╪═════════════╪═══════════╡\n",
       "│ 030405303536 ┆ [3, 4, …    ┆ 3   ┆ 4   ┆ … ┆ 0.0667      ┆ [0.3333]    ┆ 1           ┆ 1.3574    │\n",
       "│              ┆ 36]         ┆     ┆     ┆   ┆             ┆             ┆             ┆           │\n",
       "│ 030405303537 ┆ [3, 4, …    ┆ 3   ┆ 4   ┆ … ┆ 0.0667      ┆ [0.3333]    ┆ 1           ┆ 1.3563    │\n",
       "│              ┆ 37]         ┆     ┆     ┆   ┆             ┆             ┆             ┆           │\n",
       "│ 030405303538 ┆ [3, 4, …    ┆ 3   ┆ 4   ┆ … ┆ 0.0667      ┆ [0.3333]    ┆ 1           ┆ 1.3554    │\n",
       "│              ┆ 38]         ┆     ┆     ┆   ┆             ┆             ┆             ┆           │\n",
       "│ 030405303539 ┆ [3, 4, …    ┆ 3   ┆ 4   ┆ … ┆ 0.0667      ┆ [0.3333]    ┆ 1           ┆ 1.3545    │\n",
       "│              ┆ 39]         ┆     ┆     ┆   ┆             ┆             ┆             ┆           │\n",
       "│ 030405303540 ┆ [3, 4, …    ┆ 3   ┆ 4   ┆ … ┆ 0.0667      ┆ [0.3333]    ┆ 1           ┆ 1.3537    │\n",
       "│              ┆ 40]         ┆     ┆     ┆   ┆             ┆             ┆             ┆           │\n",
       "│ …            ┆ …           ┆ …   ┆ …   ┆ … ┆ …           ┆ …           ┆ …           ┆ …         │\n",
       "│ 092030414547 ┆ [9, 20, …   ┆ 9   ┆ 20  ┆ … ┆ 0.2         ┆ []          ┆ 0           ┆ 0.86      │\n",
       "│              ┆ 47]         ┆     ┆     ┆   ┆             ┆             ┆             ┆           │\n",
       "│ 092030414548 ┆ [9, 20, …   ┆ 9   ┆ 20  ┆ … ┆ 0.2         ┆ []          ┆ 0           ┆ 0.8595    │\n",
       "│              ┆ 48]         ┆     ┆     ┆   ┆             ┆             ┆             ┆           │\n",
       "│ 092030414647 ┆ [9, 20, …   ┆ 9   ┆ 20  ┆ … ┆ 0.25        ┆ []          ┆ 0           ┆ 0.9594    │\n",
       "│              ┆ 47]         ┆     ┆     ┆   ┆             ┆             ┆             ┆           │\n",
       "│ 092030414648 ┆ [9, 20, …   ┆ 9   ┆ 20  ┆ … ┆ 0.25        ┆ []          ┆ 0           ┆ 0.9589    │\n",
       "│              ┆ 48]         ┆     ┆     ┆   ┆             ┆             ┆             ┆           │\n",
       "│ 092030414748 ┆ [9, 20, …   ┆ 9   ┆ 20  ┆ … ┆ 0.3333      ┆ []          ┆ 0           ┆ 1.125     │\n",
       "│              ┆ 48]         ┆     ┆     ┆   ┆             ┆             ┆             ┆           │\n",
       "└──────────────┴─────────────┴─────┴─────┴───┴─────────────┴─────────────┴─────────────┴───────────┘"
      ]
     },
     "execution_count": 76,
     "metadata": {},
     "output_type": "execute_result"
    }
   ],
   "source": [
    "df_filtered"
   ]
  },
  {
   "cell_type": "code",
   "execution_count": 109,
   "metadata": {},
   "outputs": [
    {
     "data": {
      "text/html": [
       "<div><style>\n",
       ".dataframe > thead > tr,\n",
       ".dataframe > tbody > tr {\n",
       "  text-align: right;\n",
       "  white-space: pre-wrap;\n",
       "}\n",
       "</style>\n",
       "<small>shape: (1, 25)</small><table border=\"1\" class=\"dataframe\"><thead><tr><th>id</th><th>combo</th><th>b1</th><th>b2</th><th>b3</th><th>b4</th><th>b5</th><th>b6</th><th>is_rare_combination</th><th>reason</th><th>score_left_b1</th><th>score_left_b2</th><th>score_left_b3</th><th>score_left_b4</th><th>score_left_b5</th><th>score_left_b6</th><th>score_r8_b1</th><th>score_r8_b2</th><th>score_r8_b3</th><th>score_r8_b4</th><th>score_r8_b5</th><th>score_r8_b6</th><th>shared_values</th><th>shared_values_count</th><th>score_row</th></tr><tr><td>str</td><td>array[u8, 6]</td><td>u8</td><td>u8</td><td>u8</td><td>u8</td><td>u8</td><td>u8</td><td>bool</td><td>str</td><td>f64</td><td>f64</td><td>f64</td><td>f64</td><td>f64</td><td>f64</td><td>f64</td><td>f64</td><td>f64</td><td>f64</td><td>f64</td><td>f64</td><td>list[f64]</td><td>u8</td><td>f64</td></tr></thead><tbody><tr><td>&quot;071025324445&quot;</td><td>[7, 10, … 45]</td><td>7</td><td>10</td><td>25</td><td>32</td><td>44</td><td>45</td><td>false</td><td>&quot;&quot;</td><td>0.1111</td><td>0.0256</td><td>0.027</td><td>0.0435</td><td>0.0588</td><td>0.1667</td><td>0.1111</td><td>0.0435</td><td>0.0345</td><td>0.025</td><td>0.025</td><td>0.1667</td><td>[0.0435]</td><td>1</td><td>0.8385</td></tr></tbody></table></div>"
      ],
      "text/plain": [
       "shape: (1, 25)\n",
       "┌──────────────┬─────────────┬─────┬─────┬───┬─────────────┬─────────────┬─────────────┬───────────┐\n",
       "│ id           ┆ combo       ┆ b1  ┆ b2  ┆ … ┆ score_r8_b6 ┆ shared_valu ┆ shared_valu ┆ score_row │\n",
       "│ ---          ┆ ---         ┆ --- ┆ --- ┆   ┆ ---         ┆ es          ┆ es_count    ┆ ---       │\n",
       "│ str          ┆ array[u8,   ┆ u8  ┆ u8  ┆   ┆ f64         ┆ ---         ┆ ---         ┆ f64       │\n",
       "│              ┆ 6]          ┆     ┆     ┆   ┆             ┆ list[f64]   ┆ u8          ┆           │\n",
       "╞══════════════╪═════════════╪═════╪═════╪═══╪═════════════╪═════════════╪═════════════╪═══════════╡\n",
       "│ 071025324445 ┆ [7, 10, …   ┆ 7   ┆ 10  ┆ … ┆ 0.1667      ┆ [0.0435]    ┆ 1           ┆ 0.8385    │\n",
       "│              ┆ 45]         ┆     ┆     ┆   ┆             ┆             ┆             ┆           │\n",
       "└──────────────┴─────────────┴─────┴─────┴───┴─────────────┴─────────────┴─────────────┴───────────┘"
      ]
     },
     "execution_count": 109,
     "metadata": {},
     "output_type": "execute_result"
    }
   ],
   "source": [
    "df_filtered.sample(n=1)  "
   ]
  },
  {
   "cell_type": "code",
   "execution_count": 110,
   "metadata": {},
   "outputs": [],
   "source": [
    "dfRows.write_parquet(\"./saved_bolillas.parquet\")"
   ]
  }
 ],
 "metadata": {
  "kernelspec": {
   "display_name": ".venv",
   "language": "python",
   "name": "python3"
  },
  "language_info": {
   "codemirror_mode": {
    "name": "ipython",
    "version": 3
   },
   "file_extension": ".py",
   "mimetype": "text/x-python",
   "name": "python",
   "nbconvert_exporter": "python",
   "pygments_lexer": "ipython3",
   "version": "3.12.9"
  }
 },
 "nbformat": 4,
 "nbformat_minor": 2
}

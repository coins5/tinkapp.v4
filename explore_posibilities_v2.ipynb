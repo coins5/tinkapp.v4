{
 "cells": [
  {
   "cell_type": "code",
   "execution_count": 2,
   "metadata": {},
   "outputs": [],
   "source": [
    "from bs4 import BeautifulSoup\n",
    "import pandas as pd\n",
    "from datetime import datetime, timedelta\n",
    "from itertools import combinations\n",
    "import json\n",
    "import requests\n",
    "import math\n",
    "from typing import Optional, List, Dict\n",
    "\n",
    "from pydantic import BaseModel\n",
    "from typing import Mapping\n",
    "import numpy as np\n",
    "import polars as pl"
   ]
  },
  {
   "cell_type": "code",
   "execution_count": 3,
   "metadata": {},
   "outputs": [
    {
     "name": "stdout",
     "output_type": "stream",
     "text": [
      "010203040506\n"
     ]
    }
   ],
   "source": [
    "def formalize_data (bolillas_tuple: tuple[int]) -> str:\n",
    "  id = \"\".join([str.zfill(str(b),2) for b in bolillas_tuple])\n",
    "  return id\n",
    "\n",
    "data = (1,2,3,4,5,6)\n",
    "a = formalize_data(bolillas_tuple=data)\n",
    "print(a)"
   ]
  },
  {
   "cell_type": "code",
   "execution_count": 4,
   "metadata": {},
   "outputs": [],
   "source": [
    "from enum import Enum\n",
    "\n",
    "class RARE_REASONS(Enum):\n",
    "  MAX_PRIMES = 1\n",
    "  HAVENT_EVENS = 2\n",
    "  HAVENT_ODDS = 4\n",
    "\n",
    "# Lista de números primos entre 1 y 50\n",
    "PRIME_NUMBERS = {2, 3, 5, 7, 11, 13, 17, 19, 23, 29, 31, 37, 41, 43, 47}\n",
    "\n",
    "# Configuración\n",
    "TOTAL_NUMBERS = 50\n",
    "CHOOSE = 6\n",
    "\n",
    "# Rangos de valores de las bolillas b1 a b6\n",
    "MIN_B_VALUES = [1, 2, 3, 4, 5, 6]\n",
    "MAX_B_VALUES = [45, 46, 47, 48, 49, 50]\n",
    "\n",
    "# Función para determinar si un número es primo\n",
    "# Utilizando una tabla precalculada para mayor eficiencia\n",
    "def is_prime(num):\n",
    "  return num in PRIME_NUMBERS\n",
    "\n",
    "# Función para determinar si una combinación es \"rara\"\n",
    "def is_rare_combination(combo) -> tuple[bool, int]:\n",
    "  reasons = 0\n",
    "\n",
    "  # Regla 1: Máximo 3 números primos\n",
    "  prime_count = sum(1 for num in combo if is_prime(num))\n",
    "  if prime_count > 3:\n",
    "    reasons += RARE_REASONS.MAX_PRIMES.value\n",
    "\n",
    "  # Regla 2: Al menos un número par\n",
    "  if not any(num % 2 == 0 for num in combo):\n",
    "    reasons += RARE_REASONS.HAVENT_EVENS.value\n",
    "\n",
    "  # Regla 3: Al menos un número impar\n",
    "  if not any(num % 2 == 1 for num in combo):\n",
    "    reasons += RARE_REASONS.HAVENT_ODDS.value\n",
    "\n",
    "  return reasons > 0, reasons\n",
    "\n",
    "\n",
    "# Calcular probabilidades de izquierda a derecha\n",
    "def calculate_left_scores(combo):\n",
    "  left_scores = []\n",
    "\n",
    "  for i, value in enumerate(combo):\n",
    "    if i == 0:\n",
    "      possible_values = combo[i + 1] - 1\n",
    "    else:\n",
    "      possible_values = MAX_B_VALUES[i] - (combo[i - 1] + 1) + 1\n",
    "    \n",
    "    left_scores.append(1 / possible_values)\n",
    "\n",
    "  return left_scores\n",
    "\n",
    "# Calcular probabilidades de derecha a izquierda\n",
    "def calculate_right_scores(combo):\n",
    "  right_scores = []\n",
    "\n",
    "  for i, value in enumerate(combo):\n",
    "    if (i == CHOOSE - 1):\n",
    "      possible_values = MAX_B_VALUES[i] - (combo[i - 1] + 1) + 1\n",
    "    else:\n",
    "      possible_values = (combo[i + 1] - 1) - MIN_B_VALUES[i] + 1\n",
    "    \n",
    "    right_scores.append(1 / possible_values)\n",
    "\n",
    "  return right_scores\n",
    "\n",
    "\n",
    "# Calcular los saltos entre valores\n",
    "def jumps_map (combo: tuple[int]):\n",
    "  differences = [combo[i + 1] - combo[i] for i in range(CHOOSE-1)]\n",
    "  # differences.sort()\n",
    "  result = \"_\".join([str.zfill(str(d), 2) for d in differences])\n",
    "  return result\n",
    "\n"
   ]
  },
  {
   "cell_type": "code",
   "execution_count": 5,
   "metadata": {},
   "outputs": [],
   "source": [
    "l = [0.0588, 0.0303, 0.0345, 0.0455, 0.0526, 0.0588]\n",
    "r = [0.0588, 0.0417, 0.0370, 0.0345, 0.0333, 0.0588]\n",
    "\n",
    "def check_shared_values (left_arr: List[float], right_arr: List[float]):\n",
    "  shared_values = []\n",
    "  if (left_arr[0] == right_arr[CHOOSE-1]):\n",
    "    shared_values.append(left_arr[0])\n",
    "  if (left_arr[CHOOSE-1] == right_arr[0]):\n",
    "    shared_values.append(left_arr[CHOOSE-1])\n",
    "\n",
    "  for i in range(len(left_arr)):\n",
    "    for j in range(1, len(right_arr) - 1):\n",
    "      if left_arr[i] == right_arr[j]:\n",
    "        shared_values.append(left_arr[i])\n",
    "  return shared_values\n",
    "\n",
    "# iniciar comparacion desde aqui"
   ]
  },
  {
   "cell_type": "code",
   "execution_count": 6,
   "metadata": {},
   "outputs": [
    {
     "name": "stdout",
     "output_type": "stream",
     "text": [
      "['04_02_16_02_13', '05_05_10_11_01', '05_04_13_01_06', '02_15_04_13_05', '12_05_04_04_11']\n"
     ]
    }
   ],
   "source": [
    "with open('./jumps_map.json', 'r') as file:\n",
    "  JSON_JUMPS_MAP = set(json.load(file))\n",
    "\n",
    "print(list(JSON_JUMPS_MAP)[20:25])"
   ]
  },
  {
   "cell_type": "code",
   "execution_count": 7,
   "metadata": {},
   "outputs": [
    {
     "data": {
      "text/html": [
       "<div><style>\n",
       ".dataframe > thead > tr,\n",
       ".dataframe > tbody > tr {\n",
       "  text-align: right;\n",
       "  white-space: pre-wrap;\n",
       "}\n",
       "</style>\n",
       "<small>shape: (10, 26)</small><table border=\"1\" class=\"dataframe\"><thead><tr><th>id</th><th>combo</th><th>b1</th><th>b2</th><th>b3</th><th>b4</th><th>b5</th><th>b6</th><th>is_rare_combination</th><th>reason</th><th>score_left_b1</th><th>score_left_b2</th><th>score_left_b3</th><th>score_left_b4</th><th>score_left_b5</th><th>score_left_b6</th><th>score_r8_b1</th><th>score_r8_b2</th><th>score_r8_b3</th><th>score_r8_b4</th><th>score_r8_b5</th><th>score_r8_b6</th><th>shared_values</th><th>shared_values_count</th><th>score_row</th><th>jumps_map</th></tr><tr><td>str</td><td>array[u8, 6]</td><td>u8</td><td>u8</td><td>u8</td><td>u8</td><td>u8</td><td>u8</td><td>bool</td><td>i64</td><td>f64</td><td>f64</td><td>f64</td><td>f64</td><td>f64</td><td>f64</td><td>f64</td><td>f64</td><td>f64</td><td>f64</td><td>f64</td><td>f64</td><td>list[f64]</td><td>u8</td><td>f64</td><td>str</td></tr></thead><tbody><tr><td>&quot;010203040506&quot;</td><td>[1, 2, … 6]</td><td>1</td><td>2</td><td>3</td><td>4</td><td>5</td><td>6</td><td>false</td><td>0</td><td>1.0</td><td>0.0222</td><td>0.0222</td><td>0.0222</td><td>0.0222</td><td>0.0222</td><td>1.0</td><td>1.0</td><td>1.0</td><td>1.0</td><td>1.0</td><td>0.0222</td><td>[0.0222, 1.0]</td><td>2</td><td>6.1332</td><td>&quot;01_01_01_01_01&quot;</td></tr><tr><td>&quot;010203040507&quot;</td><td>[1, 2, … 7]</td><td>1</td><td>2</td><td>3</td><td>4</td><td>5</td><td>7</td><td>true</td><td>1</td><td>1.0</td><td>0.0222</td><td>0.0222</td><td>0.0222</td><td>0.0222</td><td>0.0222</td><td>1.0</td><td>1.0</td><td>1.0</td><td>1.0</td><td>0.5</td><td>0.0222</td><td>[0.0222, 1.0]</td><td>2</td><td>5.6332</td><td>&quot;01_01_01_01_02&quot;</td></tr><tr><td>&quot;010203040508&quot;</td><td>[1, 2, … 8]</td><td>1</td><td>2</td><td>3</td><td>4</td><td>5</td><td>8</td><td>false</td><td>0</td><td>1.0</td><td>0.0222</td><td>0.0222</td><td>0.0222</td><td>0.0222</td><td>0.0222</td><td>1.0</td><td>1.0</td><td>1.0</td><td>1.0</td><td>0.3333</td><td>0.0222</td><td>[0.0222, 1.0]</td><td>2</td><td>5.4665</td><td>&quot;01_01_01_01_03&quot;</td></tr><tr><td>&quot;010203040509&quot;</td><td>[1, 2, … 9]</td><td>1</td><td>2</td><td>3</td><td>4</td><td>5</td><td>9</td><td>false</td><td>0</td><td>1.0</td><td>0.0222</td><td>0.0222</td><td>0.0222</td><td>0.0222</td><td>0.0222</td><td>1.0</td><td>1.0</td><td>1.0</td><td>1.0</td><td>0.25</td><td>0.0222</td><td>[0.0222, 1.0]</td><td>2</td><td>5.3832</td><td>&quot;01_01_01_01_04&quot;</td></tr><tr><td>&quot;010203040510&quot;</td><td>[1, 2, … 10]</td><td>1</td><td>2</td><td>3</td><td>4</td><td>5</td><td>10</td><td>false</td><td>0</td><td>1.0</td><td>0.0222</td><td>0.0222</td><td>0.0222</td><td>0.0222</td><td>0.0222</td><td>1.0</td><td>1.0</td><td>1.0</td><td>1.0</td><td>0.2</td><td>0.0222</td><td>[0.0222, 1.0]</td><td>2</td><td>5.3332</td><td>&quot;01_01_01_01_05&quot;</td></tr><tr><td>&quot;010203040511&quot;</td><td>[1, 2, … 11]</td><td>1</td><td>2</td><td>3</td><td>4</td><td>5</td><td>11</td><td>true</td><td>1</td><td>1.0</td><td>0.0222</td><td>0.0222</td><td>0.0222</td><td>0.0222</td><td>0.0222</td><td>1.0</td><td>1.0</td><td>1.0</td><td>1.0</td><td>0.1667</td><td>0.0222</td><td>[0.0222, 1.0]</td><td>2</td><td>5.2999</td><td>&quot;01_01_01_01_06&quot;</td></tr><tr><td>&quot;010203040512&quot;</td><td>[1, 2, … 12]</td><td>1</td><td>2</td><td>3</td><td>4</td><td>5</td><td>12</td><td>false</td><td>0</td><td>1.0</td><td>0.0222</td><td>0.0222</td><td>0.0222</td><td>0.0222</td><td>0.0222</td><td>1.0</td><td>1.0</td><td>1.0</td><td>1.0</td><td>0.1429</td><td>0.0222</td><td>[0.0222, 1.0]</td><td>2</td><td>5.2761</td><td>&quot;01_01_01_01_07&quot;</td></tr><tr><td>&quot;010203040513&quot;</td><td>[1, 2, … 13]</td><td>1</td><td>2</td><td>3</td><td>4</td><td>5</td><td>13</td><td>true</td><td>1</td><td>1.0</td><td>0.0222</td><td>0.0222</td><td>0.0222</td><td>0.0222</td><td>0.0222</td><td>1.0</td><td>1.0</td><td>1.0</td><td>1.0</td><td>0.125</td><td>0.0222</td><td>[0.0222, 1.0]</td><td>2</td><td>5.2582</td><td>&quot;01_01_01_01_08&quot;</td></tr><tr><td>&quot;010203040514&quot;</td><td>[1, 2, … 14]</td><td>1</td><td>2</td><td>3</td><td>4</td><td>5</td><td>14</td><td>false</td><td>0</td><td>1.0</td><td>0.0222</td><td>0.0222</td><td>0.0222</td><td>0.0222</td><td>0.0222</td><td>1.0</td><td>1.0</td><td>1.0</td><td>1.0</td><td>0.1111</td><td>0.0222</td><td>[0.0222, 1.0]</td><td>2</td><td>5.2443</td><td>&quot;01_01_01_01_09&quot;</td></tr><tr><td>&quot;010203040515&quot;</td><td>[1, 2, … 15]</td><td>1</td><td>2</td><td>3</td><td>4</td><td>5</td><td>15</td><td>false</td><td>0</td><td>1.0</td><td>0.0222</td><td>0.0222</td><td>0.0222</td><td>0.0222</td><td>0.0222</td><td>1.0</td><td>1.0</td><td>1.0</td><td>1.0</td><td>0.1</td><td>0.0222</td><td>[0.0222, 1.0]</td><td>2</td><td>5.2332</td><td>&quot;01_01_01_01_10&quot;</td></tr></tbody></table></div>"
      ],
      "text/plain": [
       "shape: (10, 26)\n",
       "┌──────────────┬─────────────┬─────┬─────┬───┬─────────────┬─────────────┬───────────┬─────────────┐\n",
       "│ id           ┆ combo       ┆ b1  ┆ b2  ┆ … ┆ shared_valu ┆ shared_valu ┆ score_row ┆ jumps_map   │\n",
       "│ ---          ┆ ---         ┆ --- ┆ --- ┆   ┆ es          ┆ es_count    ┆ ---       ┆ ---         │\n",
       "│ str          ┆ array[u8,   ┆ u8  ┆ u8  ┆   ┆ ---         ┆ ---         ┆ f64       ┆ str         │\n",
       "│              ┆ 6]          ┆     ┆     ┆   ┆ list[f64]   ┆ u8          ┆           ┆             │\n",
       "╞══════════════╪═════════════╪═════╪═════╪═══╪═════════════╪═════════════╪═══════════╪═════════════╡\n",
       "│ 010203040506 ┆ [1, 2, … 6] ┆ 1   ┆ 2   ┆ … ┆ [0.0222,    ┆ 2           ┆ 6.1332    ┆ 01_01_01_01 │\n",
       "│              ┆             ┆     ┆     ┆   ┆ 1.0]        ┆             ┆           ┆ _01         │\n",
       "│ 010203040507 ┆ [1, 2, … 7] ┆ 1   ┆ 2   ┆ … ┆ [0.0222,    ┆ 2           ┆ 5.6332    ┆ 01_01_01_01 │\n",
       "│              ┆             ┆     ┆     ┆   ┆ 1.0]        ┆             ┆           ┆ _02         │\n",
       "│ 010203040508 ┆ [1, 2, … 8] ┆ 1   ┆ 2   ┆ … ┆ [0.0222,    ┆ 2           ┆ 5.4665    ┆ 01_01_01_01 │\n",
       "│              ┆             ┆     ┆     ┆   ┆ 1.0]        ┆             ┆           ┆ _03         │\n",
       "│ 010203040509 ┆ [1, 2, … 9] ┆ 1   ┆ 2   ┆ … ┆ [0.0222,    ┆ 2           ┆ 5.3832    ┆ 01_01_01_01 │\n",
       "│              ┆             ┆     ┆     ┆   ┆ 1.0]        ┆             ┆           ┆ _04         │\n",
       "│ 010203040510 ┆ [1, 2, …    ┆ 1   ┆ 2   ┆ … ┆ [0.0222,    ┆ 2           ┆ 5.3332    ┆ 01_01_01_01 │\n",
       "│              ┆ 10]         ┆     ┆     ┆   ┆ 1.0]        ┆             ┆           ┆ _05         │\n",
       "│ 010203040511 ┆ [1, 2, …    ┆ 1   ┆ 2   ┆ … ┆ [0.0222,    ┆ 2           ┆ 5.2999    ┆ 01_01_01_01 │\n",
       "│              ┆ 11]         ┆     ┆     ┆   ┆ 1.0]        ┆             ┆           ┆ _06         │\n",
       "│ 010203040512 ┆ [1, 2, …    ┆ 1   ┆ 2   ┆ … ┆ [0.0222,    ┆ 2           ┆ 5.2761    ┆ 01_01_01_01 │\n",
       "│              ┆ 12]         ┆     ┆     ┆   ┆ 1.0]        ┆             ┆           ┆ _07         │\n",
       "│ 010203040513 ┆ [1, 2, …    ┆ 1   ┆ 2   ┆ … ┆ [0.0222,    ┆ 2           ┆ 5.2582    ┆ 01_01_01_01 │\n",
       "│              ┆ 13]         ┆     ┆     ┆   ┆ 1.0]        ┆             ┆           ┆ _08         │\n",
       "│ 010203040514 ┆ [1, 2, …    ┆ 1   ┆ 2   ┆ … ┆ [0.0222,    ┆ 2           ┆ 5.2443    ┆ 01_01_01_01 │\n",
       "│              ┆ 14]         ┆     ┆     ┆   ┆ 1.0]        ┆             ┆           ┆ _09         │\n",
       "│ 010203040515 ┆ [1, 2, …    ┆ 1   ┆ 2   ┆ … ┆ [0.0222,    ┆ 2           ┆ 5.2332    ┆ 01_01_01_01 │\n",
       "│              ┆ 15]         ┆     ┆     ┆   ┆ 1.0]        ┆             ┆           ┆ _10         │\n",
       "└──────────────┴─────────────┴─────┴─────┴───┴─────────────┴─────────────┴───────────┴─────────────┘"
      ]
     },
     "metadata": {},
     "output_type": "display_data"
    }
   ],
   "source": [
    "bolillas = range(1, TOTAL_NUMBERS + 1)\n",
    "# bolillas = range(1, 8) \n",
    "combos = combinations(bolillas, CHOOSE)\n",
    "\n",
    "\n",
    "\n",
    "lst = []\n",
    "for bolillas_int in combos:\n",
    "  str_jumps_map = jumps_map(bolillas_int)\n",
    "  if (str_jumps_map in JSON_JUMPS_MAP):\n",
    "    continue\n",
    "\n",
    "  is_rare, reason = is_rare_combination(bolillas_int)\n",
    "  if (reason not in [0, 1]):\n",
    "    continue\n",
    "  \n",
    "  \n",
    "  cols = []\n",
    "  id = formalize_data(bolillas_int)\n",
    "\n",
    "  cols.append(id)\n",
    "  cols.append(bolillas_int)\n",
    "  cols.extend([b for b in bolillas_int])\n",
    "  \n",
    "  \n",
    "  cols.append(is_rare)\n",
    "  cols.append(reason)\n",
    "\n",
    "  left_scores = [round(b, 4) for b in calculate_left_scores(bolillas_int)]\n",
    "  right_scores = [round(b, 4) for b in calculate_right_scores(bolillas_int)]\n",
    "  lr_scores = [round(left + right,4) for left, right in zip(left_scores, right_scores)]\n",
    "  row_score = round(sum(lr_scores),4)\n",
    "\n",
    "  shared_values = list(set(left_scores[0:5]) & set(right_scores[1:6]))\n",
    "  shared_values = [round(s, 4) for s in shared_values]\n",
    "  if (len(shared_values) > 2):\n",
    "    continue\n",
    "  \n",
    "  cols.extend([score for score in left_scores])\n",
    "  cols.extend([score for score in right_scores])\n",
    "  # cols.extend(lr_scores)\n",
    "  cols.append(shared_values)\n",
    "  cols.append(len(shared_values))\n",
    "  cols.append(row_score)\n",
    "\n",
    "  cols.append(str_jumps_map)\n",
    "  \n",
    "  lst.append(cols)\n",
    "\n",
    "\n",
    "\n",
    "dfRows = pl.DataFrame(\n",
    "  lst,\n",
    "  schema=[\n",
    "    'id', 'combo', 'b1', 'b2', 'b3', 'b4', 'b5', 'b6',\n",
    "    'is_rare_combination', 'reason',\n",
    "    \"score_left_b1\", \"score_left_b2\", \"score_left_b3\", \"score_left_b4\", \"score_left_b5\", \"score_left_b6\",\n",
    "    \"score_r8_b1\", \"score_r8_b2\", \"score_r8_b3\", \"score_r8_b4\", \"score_r8_b5\", \"score_r8_b6\",\n",
    "    # \"score_lr_b1\", \"score_lr_b2\", \"score_lr_b3\", \"score_lr_b4\", \"score_lr_b5\", \"score_lr_b6\",\n",
    "    \"shared_values\", \"shared_values_count\",\n",
    "    \"score_row\",\n",
    "    \"jumps_map\"\n",
    "  ],\n",
    "  schema_overrides={\n",
    "    'combo': pl.Array(pl.UInt8, 6),\n",
    "    'b1': pl.UInt8,\n",
    "    'b2': pl.UInt8,\n",
    "    'b3': pl.UInt8,\n",
    "    'b4': pl.UInt8,\n",
    "    'b5': pl.UInt8,\n",
    "    'b6': pl.UInt8,\n",
    "    'shared_values_count': pl.UInt8\n",
    "  },\n",
    "  orient='row'\n",
    ")\n",
    "\n",
    "display(dfRows.head(10))"
   ]
  },
  {
   "cell_type": "code",
   "execution_count": 8,
   "metadata": {},
   "outputs": [
    {
     "data": {
      "text/plain": [
       "15305549"
      ]
     },
     "execution_count": 8,
     "metadata": {},
     "output_type": "execute_result"
    }
   ],
   "source": [
    "len(dfRows)"
   ]
  },
  {
   "cell_type": "code",
   "execution_count": 9,
   "metadata": {},
   "outputs": [],
   "source": [
    "df_filtered = dfRows.filter([\n",
    "  pl.col('score_r8_b3') > 0.0256,\n",
    "  pl.col('score_r8_b3') <= 0.1667,\n",
    "  \n",
    "  pl.col('reason') == 0,\n",
    "  pl.col('shared_values_count').is_in((0, 1)),\n",
    "\n",
    "  pl.col('score_left_b3') >= 0.0222,\n",
    "  pl.col('score_left_b3') <= 0.0556,\n",
    "  pl.col('b1') >= 10,\n",
    "  ~pl.col('b2').is_in((32)),\n",
    "  ~pl.col('b3').is_in((34)),\n",
    "  ~pl.col('b4').is_in((37)),\n",
    "  ~pl.col('b5').is_in((41)),\n",
    "  ~pl.col('b6').is_in((42)),\n",
    "  ]\n",
    ")"
   ]
  },
  {
   "cell_type": "code",
   "execution_count": 10,
   "metadata": {},
   "outputs": [
    {
     "name": "stdout",
     "output_type": "stream",
     "text": [
      "2509299\n"
     ]
    },
    {
     "data": {
      "text/html": [
       "<div><style>\n",
       ".dataframe > thead > tr,\n",
       ".dataframe > tbody > tr {\n",
       "  text-align: right;\n",
       "  white-space: pre-wrap;\n",
       "}\n",
       "</style>\n",
       "<small>shape: (2_509_299, 26)</small><table border=\"1\" class=\"dataframe\"><thead><tr><th>id</th><th>combo</th><th>b1</th><th>b2</th><th>b3</th><th>b4</th><th>b5</th><th>b6</th><th>is_rare_combination</th><th>reason</th><th>score_left_b1</th><th>score_left_b2</th><th>score_left_b3</th><th>score_left_b4</th><th>score_left_b5</th><th>score_left_b6</th><th>score_r8_b1</th><th>score_r8_b2</th><th>score_r8_b3</th><th>score_r8_b4</th><th>score_r8_b5</th><th>score_r8_b6</th><th>shared_values</th><th>shared_values_count</th><th>score_row</th><th>jumps_map</th></tr><tr><td>str</td><td>array[u8, 6]</td><td>u8</td><td>u8</td><td>u8</td><td>u8</td><td>u8</td><td>u8</td><td>bool</td><td>i64</td><td>f64</td><td>f64</td><td>f64</td><td>f64</td><td>f64</td><td>f64</td><td>f64</td><td>f64</td><td>f64</td><td>f64</td><td>f64</td><td>f64</td><td>list[f64]</td><td>u8</td><td>f64</td><td>str</td></tr></thead><tbody><tr><td>&quot;101112131516&quot;</td><td>[10, 11, … 16]</td><td>10</td><td>11</td><td>12</td><td>13</td><td>15</td><td>16</td><td>false</td><td>0</td><td>0.1</td><td>0.0278</td><td>0.0278</td><td>0.0278</td><td>0.0278</td><td>0.0286</td><td>0.1</td><td>0.1</td><td>0.1</td><td>0.0909</td><td>0.0909</td><td>0.0286</td><td>[0.1]</td><td>1</td><td>0.7502</td><td>&quot;01_01_01_02_01&quot;</td></tr><tr><td>&quot;101112131517&quot;</td><td>[10, 11, … 17]</td><td>10</td><td>11</td><td>12</td><td>13</td><td>15</td><td>17</td><td>false</td><td>0</td><td>0.1</td><td>0.0278</td><td>0.0278</td><td>0.0278</td><td>0.0278</td><td>0.0286</td><td>0.1</td><td>0.1</td><td>0.1</td><td>0.0909</td><td>0.0833</td><td>0.0286</td><td>[0.1]</td><td>1</td><td>0.7426</td><td>&quot;01_01_01_02_02&quot;</td></tr><tr><td>&quot;101112131518&quot;</td><td>[10, 11, … 18]</td><td>10</td><td>11</td><td>12</td><td>13</td><td>15</td><td>18</td><td>false</td><td>0</td><td>0.1</td><td>0.0278</td><td>0.0278</td><td>0.0278</td><td>0.0278</td><td>0.0286</td><td>0.1</td><td>0.1</td><td>0.1</td><td>0.0909</td><td>0.0769</td><td>0.0286</td><td>[0.1]</td><td>1</td><td>0.7362</td><td>&quot;01_01_01_02_03&quot;</td></tr><tr><td>&quot;101112131519&quot;</td><td>[10, 11, … 19]</td><td>10</td><td>11</td><td>12</td><td>13</td><td>15</td><td>19</td><td>false</td><td>0</td><td>0.1</td><td>0.0278</td><td>0.0278</td><td>0.0278</td><td>0.0278</td><td>0.0286</td><td>0.1</td><td>0.1</td><td>0.1</td><td>0.0909</td><td>0.0714</td><td>0.0286</td><td>[0.1]</td><td>1</td><td>0.7307</td><td>&quot;01_01_01_02_04&quot;</td></tr><tr><td>&quot;101112131520&quot;</td><td>[10, 11, … 20]</td><td>10</td><td>11</td><td>12</td><td>13</td><td>15</td><td>20</td><td>false</td><td>0</td><td>0.1</td><td>0.0278</td><td>0.0278</td><td>0.0278</td><td>0.0278</td><td>0.0286</td><td>0.1</td><td>0.1</td><td>0.1</td><td>0.0909</td><td>0.0667</td><td>0.0286</td><td>[0.1]</td><td>1</td><td>0.726</td><td>&quot;01_01_01_02_05&quot;</td></tr><tr><td>&hellip;</td><td>&hellip;</td><td>&hellip;</td><td>&hellip;</td><td>&hellip;</td><td>&hellip;</td><td>&hellip;</td><td>&hellip;</td><td>&hellip;</td><td>&hellip;</td><td>&hellip;</td><td>&hellip;</td><td>&hellip;</td><td>&hellip;</td><td>&hellip;</td><td>&hellip;</td><td>&hellip;</td><td>&hellip;</td><td>&hellip;</td><td>&hellip;</td><td>&hellip;</td><td>&hellip;</td><td>&hellip;</td><td>&hellip;</td><td>&hellip;</td><td>&hellip;</td></tr><tr><td>&quot;282940414749&quot;</td><td>[28, 29, … 49]</td><td>28</td><td>29</td><td>40</td><td>41</td><td>47</td><td>49</td><td>false</td><td>0</td><td>0.0357</td><td>0.0556</td><td>0.0556</td><td>0.125</td><td>0.125</td><td>0.3333</td><td>0.0357</td><td>0.0263</td><td>0.0263</td><td>0.0233</td><td>0.0227</td><td>0.3333</td><td>[]</td><td>0</td><td>1.1978</td><td>&quot;01_11_01_06_02&quot;</td></tr><tr><td>&quot;282940414750&quot;</td><td>[28, 29, … 50]</td><td>28</td><td>29</td><td>40</td><td>41</td><td>47</td><td>50</td><td>false</td><td>0</td><td>0.0357</td><td>0.0556</td><td>0.0556</td><td>0.125</td><td>0.125</td><td>0.3333</td><td>0.0357</td><td>0.0263</td><td>0.0263</td><td>0.0233</td><td>0.0222</td><td>0.3333</td><td>[]</td><td>0</td><td>1.1973</td><td>&quot;01_11_01_06_03&quot;</td></tr><tr><td>&quot;282940414849&quot;</td><td>[28, 29, … 49]</td><td>28</td><td>29</td><td>40</td><td>41</td><td>48</td><td>49</td><td>false</td><td>0</td><td>0.0357</td><td>0.0556</td><td>0.0556</td><td>0.125</td><td>0.125</td><td>0.5</td><td>0.0357</td><td>0.0263</td><td>0.0263</td><td>0.0227</td><td>0.0227</td><td>0.5</td><td>[]</td><td>0</td><td>1.5306</td><td>&quot;01_11_01_07_01&quot;</td></tr><tr><td>&quot;282940414850&quot;</td><td>[28, 29, … 50]</td><td>28</td><td>29</td><td>40</td><td>41</td><td>48</td><td>50</td><td>false</td><td>0</td><td>0.0357</td><td>0.0556</td><td>0.0556</td><td>0.125</td><td>0.125</td><td>0.5</td><td>0.0357</td><td>0.0263</td><td>0.0263</td><td>0.0227</td><td>0.0222</td><td>0.5</td><td>[]</td><td>0</td><td>1.5301</td><td>&quot;01_11_01_07_02&quot;</td></tr><tr><td>&quot;282940414950&quot;</td><td>[28, 29, … 50]</td><td>28</td><td>29</td><td>40</td><td>41</td><td>49</td><td>50</td><td>false</td><td>0</td><td>0.0357</td><td>0.0556</td><td>0.0556</td><td>0.125</td><td>0.125</td><td>1.0</td><td>0.0357</td><td>0.0263</td><td>0.0263</td><td>0.0222</td><td>0.0222</td><td>1.0</td><td>[]</td><td>0</td><td>2.5296</td><td>&quot;01_11_01_08_01&quot;</td></tr></tbody></table></div>"
      ],
      "text/plain": [
       "shape: (2_509_299, 26)\n",
       "┌──────────────┬─────────────┬─────┬─────┬───┬─────────────┬─────────────┬───────────┬─────────────┐\n",
       "│ id           ┆ combo       ┆ b1  ┆ b2  ┆ … ┆ shared_valu ┆ shared_valu ┆ score_row ┆ jumps_map   │\n",
       "│ ---          ┆ ---         ┆ --- ┆ --- ┆   ┆ es          ┆ es_count    ┆ ---       ┆ ---         │\n",
       "│ str          ┆ array[u8,   ┆ u8  ┆ u8  ┆   ┆ ---         ┆ ---         ┆ f64       ┆ str         │\n",
       "│              ┆ 6]          ┆     ┆     ┆   ┆ list[f64]   ┆ u8          ┆           ┆             │\n",
       "╞══════════════╪═════════════╪═════╪═════╪═══╪═════════════╪═════════════╪═══════════╪═════════════╡\n",
       "│ 101112131516 ┆ [10, 11, …  ┆ 10  ┆ 11  ┆ … ┆ [0.1]       ┆ 1           ┆ 0.7502    ┆ 01_01_01_02 │\n",
       "│              ┆ 16]         ┆     ┆     ┆   ┆             ┆             ┆           ┆ _01         │\n",
       "│ 101112131517 ┆ [10, 11, …  ┆ 10  ┆ 11  ┆ … ┆ [0.1]       ┆ 1           ┆ 0.7426    ┆ 01_01_01_02 │\n",
       "│              ┆ 17]         ┆     ┆     ┆   ┆             ┆             ┆           ┆ _02         │\n",
       "│ 101112131518 ┆ [10, 11, …  ┆ 10  ┆ 11  ┆ … ┆ [0.1]       ┆ 1           ┆ 0.7362    ┆ 01_01_01_02 │\n",
       "│              ┆ 18]         ┆     ┆     ┆   ┆             ┆             ┆           ┆ _03         │\n",
       "│ 101112131519 ┆ [10, 11, …  ┆ 10  ┆ 11  ┆ … ┆ [0.1]       ┆ 1           ┆ 0.7307    ┆ 01_01_01_02 │\n",
       "│              ┆ 19]         ┆     ┆     ┆   ┆             ┆             ┆           ┆ _04         │\n",
       "│ 101112131520 ┆ [10, 11, …  ┆ 10  ┆ 11  ┆ … ┆ [0.1]       ┆ 1           ┆ 0.726     ┆ 01_01_01_02 │\n",
       "│              ┆ 20]         ┆     ┆     ┆   ┆             ┆             ┆           ┆ _05         │\n",
       "│ …            ┆ …           ┆ …   ┆ …   ┆ … ┆ …           ┆ …           ┆ …         ┆ …           │\n",
       "│ 282940414749 ┆ [28, 29, …  ┆ 28  ┆ 29  ┆ … ┆ []          ┆ 0           ┆ 1.1978    ┆ 01_11_01_06 │\n",
       "│              ┆ 49]         ┆     ┆     ┆   ┆             ┆             ┆           ┆ _02         │\n",
       "│ 282940414750 ┆ [28, 29, …  ┆ 28  ┆ 29  ┆ … ┆ []          ┆ 0           ┆ 1.1973    ┆ 01_11_01_06 │\n",
       "│              ┆ 50]         ┆     ┆     ┆   ┆             ┆             ┆           ┆ _03         │\n",
       "│ 282940414849 ┆ [28, 29, …  ┆ 28  ┆ 29  ┆ … ┆ []          ┆ 0           ┆ 1.5306    ┆ 01_11_01_07 │\n",
       "│              ┆ 49]         ┆     ┆     ┆   ┆             ┆             ┆           ┆ _01         │\n",
       "│ 282940414850 ┆ [28, 29, …  ┆ 28  ┆ 29  ┆ … ┆ []          ┆ 0           ┆ 1.5301    ┆ 01_11_01_07 │\n",
       "│              ┆ 50]         ┆     ┆     ┆   ┆             ┆             ┆           ┆ _02         │\n",
       "│ 282940414950 ┆ [28, 29, …  ┆ 28  ┆ 29  ┆ … ┆ []          ┆ 0           ┆ 2.5296    ┆ 01_11_01_08 │\n",
       "│              ┆ 50]         ┆     ┆     ┆   ┆             ┆             ┆           ┆ _01         │\n",
       "└──────────────┴─────────────┴─────┴─────┴───┴─────────────┴─────────────┴───────────┴─────────────┘"
      ]
     },
     "execution_count": 10,
     "metadata": {},
     "output_type": "execute_result"
    }
   ],
   "source": [
    "print(len(df_filtered))\n",
    "df_filtered"
   ]
  },
  {
   "cell_type": "code",
   "execution_count": 11,
   "metadata": {},
   "outputs": [
    {
     "data": {
      "text/html": [
       "<div><style>\n",
       ".dataframe > thead > tr,\n",
       ".dataframe > tbody > tr {\n",
       "  text-align: right;\n",
       "  white-space: pre-wrap;\n",
       "}\n",
       "</style>\n",
       "<small>shape: (1, 26)</small><table border=\"1\" class=\"dataframe\"><thead><tr><th>id</th><th>combo</th><th>b1</th><th>b2</th><th>b3</th><th>b4</th><th>b5</th><th>b6</th><th>is_rare_combination</th><th>reason</th><th>score_left_b1</th><th>score_left_b2</th><th>score_left_b3</th><th>score_left_b4</th><th>score_left_b5</th><th>score_left_b6</th><th>score_r8_b1</th><th>score_r8_b2</th><th>score_r8_b3</th><th>score_r8_b4</th><th>score_r8_b5</th><th>score_r8_b6</th><th>shared_values</th><th>shared_values_count</th><th>score_row</th><th>jumps_map</th></tr><tr><td>str</td><td>array[u8, 6]</td><td>u8</td><td>u8</td><td>u8</td><td>u8</td><td>u8</td><td>u8</td><td>bool</td><td>i64</td><td>f64</td><td>f64</td><td>f64</td><td>f64</td><td>f64</td><td>f64</td><td>f64</td><td>f64</td><td>f64</td><td>f64</td><td>f64</td><td>f64</td><td>list[f64]</td><td>u8</td><td>f64</td><td>str</td></tr></thead><tbody><tr><td>&quot;122023304346&quot;</td><td>[12, 20, … 46]</td><td>12</td><td>20</td><td>23</td><td>30</td><td>43</td><td>46</td><td>false</td><td>0</td><td>0.0526</td><td>0.0294</td><td>0.037</td><td>0.04</td><td>0.0526</td><td>0.1429</td><td>0.0526</td><td>0.0476</td><td>0.037</td><td>0.0256</td><td>0.0244</td><td>0.1429</td><td>[0.037]</td><td>1</td><td>0.6846</td><td>&quot;08_03_07_13_03&quot;</td></tr></tbody></table></div>"
      ],
      "text/plain": [
       "shape: (1, 26)\n",
       "┌──────────────┬─────────────┬─────┬─────┬───┬─────────────┬─────────────┬───────────┬─────────────┐\n",
       "│ id           ┆ combo       ┆ b1  ┆ b2  ┆ … ┆ shared_valu ┆ shared_valu ┆ score_row ┆ jumps_map   │\n",
       "│ ---          ┆ ---         ┆ --- ┆ --- ┆   ┆ es          ┆ es_count    ┆ ---       ┆ ---         │\n",
       "│ str          ┆ array[u8,   ┆ u8  ┆ u8  ┆   ┆ ---         ┆ ---         ┆ f64       ┆ str         │\n",
       "│              ┆ 6]          ┆     ┆     ┆   ┆ list[f64]   ┆ u8          ┆           ┆             │\n",
       "╞══════════════╪═════════════╪═════╪═════╪═══╪═════════════╪═════════════╪═══════════╪═════════════╡\n",
       "│ 122023304346 ┆ [12, 20, …  ┆ 12  ┆ 20  ┆ … ┆ [0.037]     ┆ 1           ┆ 0.6846    ┆ 08_03_07_13 │\n",
       "│              ┆ 46]         ┆     ┆     ┆   ┆             ┆             ┆           ┆ _03         │\n",
       "└──────────────┴─────────────┴─────┴─────┴───┴─────────────┴─────────────┴───────────┴─────────────┘"
      ]
     },
     "execution_count": 11,
     "metadata": {},
     "output_type": "execute_result"
    }
   ],
   "source": [
    "df_filtered.sample(n=1)  "
   ]
  },
  {
   "cell_type": "code",
   "execution_count": 12,
   "metadata": {},
   "outputs": [],
   "source": [
    "dfRows.write_parquet(\"./saved_bolillas.parquet\")"
   ]
  }
 ],
 "metadata": {
  "kernelspec": {
   "display_name": ".venv",
   "language": "python",
   "name": "python3"
  },
  "language_info": {
   "codemirror_mode": {
    "name": "ipython",
    "version": 3
   },
   "file_extension": ".py",
   "mimetype": "text/x-python",
   "name": "python",
   "nbconvert_exporter": "python",
   "pygments_lexer": "ipython3",
   "version": "3.12.9"
  }
 },
 "nbformat": 4,
 "nbformat_minor": 2
}

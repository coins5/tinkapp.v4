{
 "cells": [
  {
   "cell_type": "code",
   "execution_count": 19,
   "metadata": {},
   "outputs": [],
   "source": [
    "from itertools import combinations, cycle, repeat\n",
    "import polars as pl\n"
   ]
  },
  {
   "cell_type": "code",
   "execution_count": null,
   "metadata": {},
   "outputs": [],
   "source": [
    "def generate_clusters ():\n",
    "  cluster_1: cycle = cycle(('A', 'B'))\n",
    "  cluster_2: cycle = cycle(('A1', 'A2', 'B1', 'B2'))\n",
    "  cluster_3: cycle = cycle(('A11', 'A12', 'A21', 'A22', 'B11', 'B12', 'B21', 'B22'))\n",
    "  cluster_4: cycle = cycle((\n",
    "    'A111', 'A112', 'A121', 'A122', 'A211', 'A212', 'A221', 'A222',\n",
    "    'B111', 'B112', 'B121', 'B122', 'B211', 'B212', 'B221', 'B222'\n",
    "  ))\n",
    "  cluster_5: cycle = cycle((\n",
    "    'A1111', 'A1112', 'A1121', 'A1122', 'A1211', 'A1212', 'A1221', 'A1222',\n",
    "    'A2111', 'A2112', 'A2121', 'A2122', 'A2211', 'A2212', 'A2221', 'A2222',\n",
    "    'B1111', 'B1112', 'B1121', 'B1122', 'B1211', 'B1212', 'B1221', 'B1222',\n",
    "    'B2111', 'B2112', 'B2121', 'B2122', 'B2211', 'B2212', 'B2221', 'B2222'\n",
    "  ))\n",
    "  cluster_6: cycle = cycle((\n",
    "    'A11111', 'A11112', 'A11121', 'A11122', 'A11211', 'A11212', 'A11221', 'A11222',\n",
    "    'A12111', 'A12112', 'A12121', 'A12122', 'A12211', 'A12212', 'A12221', 'A12222',\n",
    "    'A21111', 'A21112', 'A21121', 'A21122', 'A21211', 'A21212', 'A21221', 'A21222',\n",
    "    'A22111', 'A22112', 'A22121', 'A22122', 'A22211', 'A22212', 'A22221', 'A22222',\n",
    "    'B11111', 'B11112', 'B11121', 'B11122', 'B11211', 'B11212', 'B11221', 'B11222',\n",
    "    'B12111', 'B12112', 'B12121', 'B12122', 'B12211', 'B12212', 'B12221', 'B12222',\n",
    "    'B21111', 'B21112', 'B21121', 'B21122', 'B21211', 'B21212', 'B21221', 'B21222',\n",
    "    'B22111', 'B22112', 'B22121', 'B22122', 'B22211', 'B22212', 'B22221', 'B22222'\n",
    "  ))\n",
    "  cluster_7: cycle = cycle((\n",
    "    'A111111', 'A111112', 'A111121', 'A111122', 'A111211', 'A111212', 'A111221', 'A111222',\n",
    "    'A112111', 'A112112', 'A112121', 'A112122', 'A112211', 'A112212', 'A112221', 'A112222',\n",
    "    'A121111', 'A121112', 'A121121', 'A121122', 'A121211', 'A121212', 'A121221', 'A121222',\n",
    "    'A122111', 'A122112', 'A122121', 'A122122', 'A122211', 'A122212', 'A122221', 'A122222',\n",
    "    'A211111', 'A211112', 'A211121', 'A211122', 'A211211', 'A211212', 'A211221', 'A211222',\n",
    "    'A212111', 'A212112', 'A212121', 'A212122', 'A212211', 'A212212', 'A212221', 'A212222',\n",
    "    'A221111', 'A221112', 'A221121', 'A221122', 'A221211', 'A221212', 'A221221', 'A221222',\n",
    "    'A222111', 'A222112', 'A222121', 'A222122', 'A222211', 'A222212', 'A222221', 'A222222',\n",
    "    'B111111', 'B111112', 'B111121', 'B111122', 'B111211', 'B111212', 'B111221', 'B111222',\n",
    "    'B112111', 'B112112', 'B112121', 'B112122', 'B112211', 'B112212', 'B112221', 'B112222',\n",
    "    'B121111', 'B121112', 'B121121', 'B121122', 'B121211', 'B121212', 'B121221', 'B121222',\n",
    "    'B122111', 'B122112', 'B122121', 'B122122', 'B122211', 'B122212', 'B122221', 'B122222',\n",
    "    'B211111', 'B211112', 'B211121', 'B211122', 'B211211', 'B211212', 'B211221', 'B211222',\n",
    "    'B212111', 'B212112', 'B212121', 'B212122', 'B212211', 'B212212', 'B212221', 'B212222',\n",
    "    'B221111', 'B221112', 'B221121', 'B221122', 'B221211', 'B221212', 'B221221', 'B221222',\n",
    "    'B222111', 'B222112', 'B222121', 'B222122', 'B222211', 'B222212', 'B222221', 'B222222'\n",
    "  ))\n",
    "\n",
    "  return cluster_1, cluster_2, cluster_3, cluster_4, cluster_5, cluster_6, cluster_7\n"
   ]
  },
  {
   "cell_type": "code",
   "execution_count": 17,
   "metadata": {},
   "outputs": [],
   "source": [
    "def generate_cluster_db (count_bolillas: int, max_value: int, parquet_file: str):\n",
    "  cluster_1, cluster_2, cluster_3, cluster_4, cluster_5, cluster_6, cluster_7 = generate_clusters()\n",
    "  bolillas = range(1, max_value + 1)\n",
    "  # bolillas = range(1, 8) \n",
    "  combos = combinations(bolillas, count_bolillas)\n",
    "\n",
    "  data = []\n",
    "  for combo in combos:\n",
    "    row = {\n",
    "      'cluster_1': next(cluster_1),\n",
    "      'cluster_2': next(cluster_2),\n",
    "      'cluster_3': next(cluster_3),\n",
    "      'cluster_4': next(cluster_4),\n",
    "      'cluster_5': next(cluster_5),\n",
    "      'cluster_6': next(cluster_6),\n",
    "      'cluster_7': next(cluster_7),\n",
    "      'bolillasid': \"\".join([str(c).zfill(2) for c in combo])\n",
    "    }\n",
    "    data.append(row)\n",
    "\n",
    "  dfRows = pl.DataFrame(\n",
    "    data,\n",
    "    schema=[\n",
    "      'cluster_1', 'cluster_2', 'cluster_3',\n",
    "      'cluster_4', 'cluster_5', 'cluster_6', 'cluster_7',\n",
    "      'bolillasid'\n",
    "    ],\n",
    "    orient='row'\n",
    "  )\n",
    "\n",
    "  dfRows.write_parquet(parquet_file)\n",
    "    "
   ]
  },
  {
   "cell_type": "code",
   "execution_count": 18,
   "metadata": {},
   "outputs": [
    {
     "name": "stdout",
     "output_type": "stream",
     "text": [
      "generating kbl ...\n",
      "generating gn ...\n",
      "generating tnk ...\n",
      "rdy\n"
     ]
    }
   ],
   "source": [
    "print(\"generating kbl ...\")\n",
    "generate_cluster_db(count_bolillas=6, max_value=40, parquet_file=\"./coin_walk_db_kbl.parquet\")\n",
    "\n",
    "print(\"generating gn ...\")\n",
    "generate_cluster_db(count_bolillas=5, max_value=35, parquet_file=\"./coin_walk_db_gn.parquet\")\n",
    "\n",
    "print(\"generating tnk ...\")\n",
    "generate_cluster_db(count_bolillas=6, max_value=50, parquet_file=\"./coin_walk_db_tnk.parquet\")\n",
    "\n",
    "print(\"rdy\")"
   ]
  }
 ],
 "metadata": {
  "kernelspec": {
   "display_name": ".venv",
   "language": "python",
   "name": "python3"
  },
  "language_info": {
   "codemirror_mode": {
    "name": "ipython",
    "version": 3
   },
   "file_extension": ".py",
   "mimetype": "text/x-python",
   "name": "python",
   "nbconvert_exporter": "python",
   "pygments_lexer": "ipython3",
   "version": "3.12.9"
  }
 },
 "nbformat": 4,
 "nbformat_minor": 2
}

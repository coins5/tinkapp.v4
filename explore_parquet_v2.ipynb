{
 "cells": [
  {
   "cell_type": "code",
   "execution_count": 36,
   "metadata": {},
   "outputs": [],
   "source": [
    "from bs4 import BeautifulSoup\n",
    "import pandas as pd\n",
    "from datetime import datetime, timedelta\n",
    "from itertools import combinations\n",
    "import json\n",
    "import requests\n",
    "import math\n",
    "from typing import Optional, List, Dict\n",
    "\n",
    "from pydantic import BaseModel\n",
    "from typing import Mapping\n",
    "import numpy as np\n",
    "import polars as pl"
   ]
  },
  {
   "cell_type": "code",
   "execution_count": 37,
   "metadata": {},
   "outputs": [
    {
     "data": {
      "text/html": [
       "<div><style>\n",
       ".dataframe > thead > tr,\n",
       ".dataframe > tbody > tr {\n",
       "  text-align: right;\n",
       "  white-space: pre-wrap;\n",
       "}\n",
       "</style>\n",
       "<small>shape: (10, 26)</small><table border=\"1\" class=\"dataframe\"><thead><tr><th>id</th><th>combo</th><th>b1</th><th>b2</th><th>b3</th><th>b4</th><th>b5</th><th>b6</th><th>is_rare_combination</th><th>reason</th><th>score_left_b1</th><th>score_left_b2</th><th>score_left_b3</th><th>score_left_b4</th><th>score_left_b5</th><th>score_left_b6</th><th>score_r8_b1</th><th>score_r8_b2</th><th>score_r8_b3</th><th>score_r8_b4</th><th>score_r8_b5</th><th>score_r8_b6</th><th>shared_values</th><th>shared_values_count</th><th>score_row</th><th>jumps_map</th></tr><tr><td>str</td><td>array[u8, 6]</td><td>u8</td><td>u8</td><td>u8</td><td>u8</td><td>u8</td><td>u8</td><td>bool</td><td>i64</td><td>f64</td><td>f64</td><td>f64</td><td>f64</td><td>f64</td><td>f64</td><td>f64</td><td>f64</td><td>f64</td><td>f64</td><td>f64</td><td>f64</td><td>list[f64]</td><td>u8</td><td>f64</td><td>str</td></tr></thead><tbody><tr><td>&quot;010203040506&quot;</td><td>[1, 2, … 6]</td><td>1</td><td>2</td><td>3</td><td>4</td><td>5</td><td>6</td><td>false</td><td>0</td><td>1.0</td><td>0.0222</td><td>0.0222</td><td>0.0222</td><td>0.0222</td><td>0.0222</td><td>1.0</td><td>1.0</td><td>1.0</td><td>1.0</td><td>1.0</td><td>0.0222</td><td>[0.0222, 1.0]</td><td>2</td><td>6.1332</td><td>&quot;01_01_01_01_01&quot;</td></tr><tr><td>&quot;010203040507&quot;</td><td>[1, 2, … 7]</td><td>1</td><td>2</td><td>3</td><td>4</td><td>5</td><td>7</td><td>true</td><td>1</td><td>1.0</td><td>0.0222</td><td>0.0222</td><td>0.0222</td><td>0.0222</td><td>0.0222</td><td>1.0</td><td>1.0</td><td>1.0</td><td>1.0</td><td>0.5</td><td>0.0222</td><td>[0.0222, 1.0]</td><td>2</td><td>5.6332</td><td>&quot;01_01_01_01_02&quot;</td></tr><tr><td>&quot;010203040508&quot;</td><td>[1, 2, … 8]</td><td>1</td><td>2</td><td>3</td><td>4</td><td>5</td><td>8</td><td>false</td><td>0</td><td>1.0</td><td>0.0222</td><td>0.0222</td><td>0.0222</td><td>0.0222</td><td>0.0222</td><td>1.0</td><td>1.0</td><td>1.0</td><td>1.0</td><td>0.3333</td><td>0.0222</td><td>[0.0222, 1.0]</td><td>2</td><td>5.4665</td><td>&quot;01_01_01_01_03&quot;</td></tr><tr><td>&quot;010203040509&quot;</td><td>[1, 2, … 9]</td><td>1</td><td>2</td><td>3</td><td>4</td><td>5</td><td>9</td><td>false</td><td>0</td><td>1.0</td><td>0.0222</td><td>0.0222</td><td>0.0222</td><td>0.0222</td><td>0.0222</td><td>1.0</td><td>1.0</td><td>1.0</td><td>1.0</td><td>0.25</td><td>0.0222</td><td>[0.0222, 1.0]</td><td>2</td><td>5.3832</td><td>&quot;01_01_01_01_04&quot;</td></tr><tr><td>&quot;010203040510&quot;</td><td>[1, 2, … 10]</td><td>1</td><td>2</td><td>3</td><td>4</td><td>5</td><td>10</td><td>false</td><td>0</td><td>1.0</td><td>0.0222</td><td>0.0222</td><td>0.0222</td><td>0.0222</td><td>0.0222</td><td>1.0</td><td>1.0</td><td>1.0</td><td>1.0</td><td>0.2</td><td>0.0222</td><td>[0.0222, 1.0]</td><td>2</td><td>5.3332</td><td>&quot;01_01_01_01_05&quot;</td></tr><tr><td>&quot;010203040511&quot;</td><td>[1, 2, … 11]</td><td>1</td><td>2</td><td>3</td><td>4</td><td>5</td><td>11</td><td>true</td><td>1</td><td>1.0</td><td>0.0222</td><td>0.0222</td><td>0.0222</td><td>0.0222</td><td>0.0222</td><td>1.0</td><td>1.0</td><td>1.0</td><td>1.0</td><td>0.1667</td><td>0.0222</td><td>[0.0222, 1.0]</td><td>2</td><td>5.2999</td><td>&quot;01_01_01_01_06&quot;</td></tr><tr><td>&quot;010203040512&quot;</td><td>[1, 2, … 12]</td><td>1</td><td>2</td><td>3</td><td>4</td><td>5</td><td>12</td><td>false</td><td>0</td><td>1.0</td><td>0.0222</td><td>0.0222</td><td>0.0222</td><td>0.0222</td><td>0.0222</td><td>1.0</td><td>1.0</td><td>1.0</td><td>1.0</td><td>0.1429</td><td>0.0222</td><td>[0.0222, 1.0]</td><td>2</td><td>5.2761</td><td>&quot;01_01_01_01_07&quot;</td></tr><tr><td>&quot;010203040513&quot;</td><td>[1, 2, … 13]</td><td>1</td><td>2</td><td>3</td><td>4</td><td>5</td><td>13</td><td>true</td><td>1</td><td>1.0</td><td>0.0222</td><td>0.0222</td><td>0.0222</td><td>0.0222</td><td>0.0222</td><td>1.0</td><td>1.0</td><td>1.0</td><td>1.0</td><td>0.125</td><td>0.0222</td><td>[0.0222, 1.0]</td><td>2</td><td>5.2582</td><td>&quot;01_01_01_01_08&quot;</td></tr><tr><td>&quot;010203040514&quot;</td><td>[1, 2, … 14]</td><td>1</td><td>2</td><td>3</td><td>4</td><td>5</td><td>14</td><td>false</td><td>0</td><td>1.0</td><td>0.0222</td><td>0.0222</td><td>0.0222</td><td>0.0222</td><td>0.0222</td><td>1.0</td><td>1.0</td><td>1.0</td><td>1.0</td><td>0.1111</td><td>0.0222</td><td>[0.0222, 1.0]</td><td>2</td><td>5.2443</td><td>&quot;01_01_01_01_09&quot;</td></tr><tr><td>&quot;010203040515&quot;</td><td>[1, 2, … 15]</td><td>1</td><td>2</td><td>3</td><td>4</td><td>5</td><td>15</td><td>false</td><td>0</td><td>1.0</td><td>0.0222</td><td>0.0222</td><td>0.0222</td><td>0.0222</td><td>0.0222</td><td>1.0</td><td>1.0</td><td>1.0</td><td>1.0</td><td>0.1</td><td>0.0222</td><td>[0.0222, 1.0]</td><td>2</td><td>5.2332</td><td>&quot;01_01_01_01_10&quot;</td></tr></tbody></table></div>"
      ],
      "text/plain": [
       "shape: (10, 26)\n",
       "┌──────────────┬─────────────┬─────┬─────┬───┬─────────────┬─────────────┬───────────┬─────────────┐\n",
       "│ id           ┆ combo       ┆ b1  ┆ b2  ┆ … ┆ shared_valu ┆ shared_valu ┆ score_row ┆ jumps_map   │\n",
       "│ ---          ┆ ---         ┆ --- ┆ --- ┆   ┆ es          ┆ es_count    ┆ ---       ┆ ---         │\n",
       "│ str          ┆ array[u8,   ┆ u8  ┆ u8  ┆   ┆ ---         ┆ ---         ┆ f64       ┆ str         │\n",
       "│              ┆ 6]          ┆     ┆     ┆   ┆ list[f64]   ┆ u8          ┆           ┆             │\n",
       "╞══════════════╪═════════════╪═════╪═════╪═══╪═════════════╪═════════════╪═══════════╪═════════════╡\n",
       "│ 010203040506 ┆ [1, 2, … 6] ┆ 1   ┆ 2   ┆ … ┆ [0.0222,    ┆ 2           ┆ 6.1332    ┆ 01_01_01_01 │\n",
       "│              ┆             ┆     ┆     ┆   ┆ 1.0]        ┆             ┆           ┆ _01         │\n",
       "│ 010203040507 ┆ [1, 2, … 7] ┆ 1   ┆ 2   ┆ … ┆ [0.0222,    ┆ 2           ┆ 5.6332    ┆ 01_01_01_01 │\n",
       "│              ┆             ┆     ┆     ┆   ┆ 1.0]        ┆             ┆           ┆ _02         │\n",
       "│ 010203040508 ┆ [1, 2, … 8] ┆ 1   ┆ 2   ┆ … ┆ [0.0222,    ┆ 2           ┆ 5.4665    ┆ 01_01_01_01 │\n",
       "│              ┆             ┆     ┆     ┆   ┆ 1.0]        ┆             ┆           ┆ _03         │\n",
       "│ 010203040509 ┆ [1, 2, … 9] ┆ 1   ┆ 2   ┆ … ┆ [0.0222,    ┆ 2           ┆ 5.3832    ┆ 01_01_01_01 │\n",
       "│              ┆             ┆     ┆     ┆   ┆ 1.0]        ┆             ┆           ┆ _04         │\n",
       "│ 010203040510 ┆ [1, 2, …    ┆ 1   ┆ 2   ┆ … ┆ [0.0222,    ┆ 2           ┆ 5.3332    ┆ 01_01_01_01 │\n",
       "│              ┆ 10]         ┆     ┆     ┆   ┆ 1.0]        ┆             ┆           ┆ _05         │\n",
       "│ 010203040511 ┆ [1, 2, …    ┆ 1   ┆ 2   ┆ … ┆ [0.0222,    ┆ 2           ┆ 5.2999    ┆ 01_01_01_01 │\n",
       "│              ┆ 11]         ┆     ┆     ┆   ┆ 1.0]        ┆             ┆           ┆ _06         │\n",
       "│ 010203040512 ┆ [1, 2, …    ┆ 1   ┆ 2   ┆ … ┆ [0.0222,    ┆ 2           ┆ 5.2761    ┆ 01_01_01_01 │\n",
       "│              ┆ 12]         ┆     ┆     ┆   ┆ 1.0]        ┆             ┆           ┆ _07         │\n",
       "│ 010203040513 ┆ [1, 2, …    ┆ 1   ┆ 2   ┆ … ┆ [0.0222,    ┆ 2           ┆ 5.2582    ┆ 01_01_01_01 │\n",
       "│              ┆ 13]         ┆     ┆     ┆   ┆ 1.0]        ┆             ┆           ┆ _08         │\n",
       "│ 010203040514 ┆ [1, 2, …    ┆ 1   ┆ 2   ┆ … ┆ [0.0222,    ┆ 2           ┆ 5.2443    ┆ 01_01_01_01 │\n",
       "│              ┆ 14]         ┆     ┆     ┆   ┆ 1.0]        ┆             ┆           ┆ _09         │\n",
       "│ 010203040515 ┆ [1, 2, …    ┆ 1   ┆ 2   ┆ … ┆ [0.0222,    ┆ 2           ┆ 5.2332    ┆ 01_01_01_01 │\n",
       "│              ┆ 15]         ┆     ┆     ┆   ┆ 1.0]        ┆             ┆           ┆ _10         │\n",
       "└──────────────┴─────────────┴─────┴─────┴───┴─────────────┴─────────────┴───────────┴─────────────┘"
      ]
     },
     "metadata": {},
     "output_type": "display_data"
    }
   ],
   "source": [
    "dfRows = pl.read_parquet(\"./saved_bolillas.parquet\")\n",
    "\n",
    "display(dfRows.head(10))"
   ]
  },
  {
   "cell_type": "markdown",
   "metadata": {},
   "source": [
    "# Get random ticket"
   ]
  },
  {
   "cell_type": "code",
   "execution_count": 38,
   "metadata": {},
   "outputs": [
    {
     "data": {
      "text/html": [
       "<div><style>\n",
       ".dataframe > thead > tr,\n",
       ".dataframe > tbody > tr {\n",
       "  text-align: right;\n",
       "  white-space: pre-wrap;\n",
       "}\n",
       "</style>\n",
       "<small>shape: (1, 26)</small><table border=\"1\" class=\"dataframe\"><thead><tr><th>id</th><th>combo</th><th>b1</th><th>b2</th><th>b3</th><th>b4</th><th>b5</th><th>b6</th><th>is_rare_combination</th><th>reason</th><th>score_left_b1</th><th>score_left_b2</th><th>score_left_b3</th><th>score_left_b4</th><th>score_left_b5</th><th>score_left_b6</th><th>score_r8_b1</th><th>score_r8_b2</th><th>score_r8_b3</th><th>score_r8_b4</th><th>score_r8_b5</th><th>score_r8_b6</th><th>shared_values</th><th>shared_values_count</th><th>score_row</th><th>jumps_map</th></tr><tr><td>str</td><td>array[u8, 6]</td><td>u8</td><td>u8</td><td>u8</td><td>u8</td><td>u8</td><td>u8</td><td>bool</td><td>i64</td><td>f64</td><td>f64</td><td>f64</td><td>f64</td><td>f64</td><td>f64</td><td>f64</td><td>f64</td><td>f64</td><td>f64</td><td>f64</td><td>f64</td><td>list[f64]</td><td>u8</td><td>f64</td><td>str</td></tr></thead><tbody><tr><td>&quot;072438394648&quot;</td><td>[7, 24, … 48]</td><td>7</td><td>24</td><td>38</td><td>39</td><td>46</td><td>48</td><td>false</td><td>0</td><td>0.0435</td><td>0.0256</td><td>0.0435</td><td>0.1</td><td>0.1</td><td>0.25</td><td>0.0435</td><td>0.0278</td><td>0.0278</td><td>0.0238</td><td>0.0233</td><td>0.25</td><td>[]</td><td>0</td><td>0.9588</td><td>&quot;17_14_01_07_02&quot;</td></tr></tbody></table></div>"
      ],
      "text/plain": [
       "shape: (1, 26)\n",
       "┌──────────────┬─────────────┬─────┬─────┬───┬─────────────┬─────────────┬───────────┬─────────────┐\n",
       "│ id           ┆ combo       ┆ b1  ┆ b2  ┆ … ┆ shared_valu ┆ shared_valu ┆ score_row ┆ jumps_map   │\n",
       "│ ---          ┆ ---         ┆ --- ┆ --- ┆   ┆ es          ┆ es_count    ┆ ---       ┆ ---         │\n",
       "│ str          ┆ array[u8,   ┆ u8  ┆ u8  ┆   ┆ ---         ┆ ---         ┆ f64       ┆ str         │\n",
       "│              ┆ 6]          ┆     ┆     ┆   ┆ list[f64]   ┆ u8          ┆           ┆             │\n",
       "╞══════════════╪═════════════╪═════╪═════╪═══╪═════════════╪═════════════╪═══════════╪═════════════╡\n",
       "│ 072438394648 ┆ [7, 24, …   ┆ 7   ┆ 24  ┆ … ┆ []          ┆ 0           ┆ 0.9588    ┆ 17_14_01_07 │\n",
       "│              ┆ 48]         ┆     ┆     ┆   ┆             ┆             ┆           ┆ _02         │\n",
       "└──────────────┴─────────────┴─────┴─────┴───┴─────────────┴─────────────┴───────────┴─────────────┘"
      ]
     },
     "execution_count": 38,
     "metadata": {},
     "output_type": "execute_result"
    }
   ],
   "source": [
    "dfRows.sample(n=1)  "
   ]
  },
  {
   "cell_type": "markdown",
   "metadata": {},
   "source": [
    "# ANALYZE"
   ]
  },
  {
   "cell_type": "code",
   "execution_count": 39,
   "metadata": {},
   "outputs": [
    {
     "data": {
      "text/html": [
       "<div><style>\n",
       ".dataframe > thead > tr,\n",
       ".dataframe > tbody > tr {\n",
       "  text-align: right;\n",
       "  white-space: pre-wrap;\n",
       "}\n",
       "</style>\n",
       "<small>shape: (2, 2)</small><table border=\"1\" class=\"dataframe\"><thead><tr><th>reason</th><th>count</th></tr><tr><td>i64</td><td>u32</td></tr></thead><tbody><tr><td>0</td><td>14470411</td></tr><tr><td>1</td><td>835284</td></tr></tbody></table></div>"
      ],
      "text/plain": [
       "shape: (2, 2)\n",
       "┌────────┬──────────┐\n",
       "│ reason ┆ count    │\n",
       "│ ---    ┆ ---      │\n",
       "│ i64    ┆ u32      │\n",
       "╞════════╪══════════╡\n",
       "│ 0      ┆ 14470411 │\n",
       "│ 1      ┆ 835284   │\n",
       "└────────┴──────────┘"
      ]
     },
     "execution_count": 39,
     "metadata": {},
     "output_type": "execute_result"
    }
   ],
   "source": [
    "dfRows.group_by(\n",
    "  'reason'\n",
    ").agg(pl.count('reason').alias('count'))"
   ]
  },
  {
   "cell_type": "code",
   "execution_count": 40,
   "metadata": {},
   "outputs": [],
   "source": [
    "def show_b_stats (col: str):\n",
    "  df_viz = dfRows.group_by(\n",
    "    col\n",
    "  ).agg(pl.count(col).alias('count'))\n",
    "\n",
    "  chart = df_viz.plot.bar(\n",
    "    x=col,\n",
    "    y='count',\n",
    "    color=col,\n",
    "  )\n",
    "\n",
    "  display(df_viz)\n",
    "  display(chart)\n"
   ]
  },
  {
   "cell_type": "code",
   "execution_count": 42,
   "metadata": {},
   "outputs": [
    {
     "data": {
      "text/html": [
       "<div><style>\n",
       ".dataframe > thead > tr,\n",
       ".dataframe > tbody > tr {\n",
       "  text-align: right;\n",
       "  white-space: pre-wrap;\n",
       "}\n",
       "</style>\n",
       "<small>shape: (45, 2)</small><table border=\"1\" class=\"dataframe\"><thead><tr><th>score_left_b2</th><th>count</th></tr><tr><td>f64</td><td>u32</td></tr></thead><tbody><tr><td>0.125</td><td>781</td></tr><tr><td>0.025</td><td>1043236</td></tr><tr><td>0.0588</td><td>19914</td></tr><tr><td>0.0233</td><td>1479260</td></tr><tr><td>0.0333</td><td>267623</td></tr><tr><td>&hellip;</td><td>&hellip;</td></tr><tr><td>0.0909</td><td>2948</td></tr><tr><td>0.0385</td><td>137857</td></tr><tr><td>0.0526</td><td>32880</td></tr><tr><td>0.0417</td><td>95483</td></tr><tr><td>0.0556</td><td>25628</td></tr></tbody></table></div>"
      ],
      "text/plain": [
       "shape: (45, 2)\n",
       "┌───────────────┬─────────┐\n",
       "│ score_left_b2 ┆ count   │\n",
       "│ ---           ┆ ---     │\n",
       "│ f64           ┆ u32     │\n",
       "╞═══════════════╪═════════╡\n",
       "│ 0.125         ┆ 781     │\n",
       "│ 0.025         ┆ 1043236 │\n",
       "│ 0.0588        ┆ 19914   │\n",
       "│ 0.0233        ┆ 1479260 │\n",
       "│ 0.0333        ┆ 267623  │\n",
       "│ …             ┆ …       │\n",
       "│ 0.0909        ┆ 2948    │\n",
       "│ 0.0385        ┆ 137857  │\n",
       "│ 0.0526        ┆ 32880   │\n",
       "│ 0.0417        ┆ 95483   │\n",
       "│ 0.0556        ┆ 25628   │\n",
       "└───────────────┴─────────┘"
      ]
     },
     "metadata": {},
     "output_type": "display_data"
    },
    {
     "data": {
      "text/html": [
       "\n",
       "<style>\n",
       "  #altair-viz-e02a5d0fe6c64ea48cd15fabd07bc620.vega-embed {\n",
       "    width: 100%;\n",
       "    display: flex;\n",
       "  }\n",
       "\n",
       "  #altair-viz-e02a5d0fe6c64ea48cd15fabd07bc620.vega-embed details,\n",
       "  #altair-viz-e02a5d0fe6c64ea48cd15fabd07bc620.vega-embed details summary {\n",
       "    position: relative;\n",
       "  }\n",
       "</style>\n",
       "<div id=\"altair-viz-e02a5d0fe6c64ea48cd15fabd07bc620\"></div>\n",
       "<script type=\"text/javascript\">\n",
       "  var VEGA_DEBUG = (typeof VEGA_DEBUG == \"undefined\") ? {} : VEGA_DEBUG;\n",
       "  (function(spec, embedOpt){\n",
       "    let outputDiv = document.currentScript.previousElementSibling;\n",
       "    if (outputDiv.id !== \"altair-viz-e02a5d0fe6c64ea48cd15fabd07bc620\") {\n",
       "      outputDiv = document.getElementById(\"altair-viz-e02a5d0fe6c64ea48cd15fabd07bc620\");\n",
       "    }\n",
       "\n",
       "    const paths = {\n",
       "      \"vega\": \"https://cdn.jsdelivr.net/npm/vega@5?noext\",\n",
       "      \"vega-lib\": \"https://cdn.jsdelivr.net/npm/vega-lib?noext\",\n",
       "      \"vega-lite\": \"https://cdn.jsdelivr.net/npm/vega-lite@5.20.1?noext\",\n",
       "      \"vega-embed\": \"https://cdn.jsdelivr.net/npm/vega-embed@6?noext\",\n",
       "    };\n",
       "\n",
       "    function maybeLoadScript(lib, version) {\n",
       "      var key = `${lib.replace(\"-\", \"\")}_version`;\n",
       "      return (VEGA_DEBUG[key] == version) ?\n",
       "        Promise.resolve(paths[lib]) :\n",
       "        new Promise(function(resolve, reject) {\n",
       "          var s = document.createElement('script');\n",
       "          document.getElementsByTagName(\"head\")[0].appendChild(s);\n",
       "          s.async = true;\n",
       "          s.onload = () => {\n",
       "            VEGA_DEBUG[key] = version;\n",
       "            return resolve(paths[lib]);\n",
       "          };\n",
       "          s.onerror = () => reject(`Error loading script: ${paths[lib]}`);\n",
       "          s.src = paths[lib];\n",
       "        });\n",
       "    }\n",
       "\n",
       "    function showError(err) {\n",
       "      outputDiv.innerHTML = `<div class=\"error\" style=\"color:red;\">${err}</div>`;\n",
       "      throw err;\n",
       "    }\n",
       "\n",
       "    function displayChart(vegaEmbed) {\n",
       "      vegaEmbed(outputDiv, spec, embedOpt)\n",
       "        .catch(err => showError(`Javascript Error: ${err.message}<br>This usually means there's a typo in your chart specification. See the javascript console for the full traceback.`));\n",
       "    }\n",
       "\n",
       "    if(typeof define === \"function\" && define.amd) {\n",
       "      requirejs.config({paths});\n",
       "      let deps = [\"vega-embed\"];\n",
       "      require(deps, displayChart, err => showError(`Error loading script: ${err.message}`));\n",
       "    } else {\n",
       "      maybeLoadScript(\"vega\", \"5\")\n",
       "        .then(() => maybeLoadScript(\"vega-lite\", \"5.20.1\"))\n",
       "        .then(() => maybeLoadScript(\"vega-embed\", \"6\"))\n",
       "        .catch(showError)\n",
       "        .then(() => displayChart(vegaEmbed));\n",
       "    }\n",
       "  })({\"config\": {\"view\": {\"continuousWidth\": 300, \"continuousHeight\": 300}}, \"data\": {\"name\": \"data-874e914ef9ef7bf552d3f1494d30eb44\"}, \"mark\": {\"type\": \"bar\", \"tooltip\": true}, \"encoding\": {\"color\": {\"field\": \"score_left_b2\", \"type\": \"quantitative\"}, \"x\": {\"field\": \"score_left_b2\", \"type\": \"quantitative\"}, \"y\": {\"field\": \"count\", \"type\": \"quantitative\"}}, \"params\": [{\"name\": \"param_11\", \"select\": {\"type\": \"interval\", \"encodings\": [\"x\", \"y\"]}, \"bind\": \"scales\"}], \"$schema\": \"https://vega.github.io/schema/vega-lite/v5.20.1.json\", \"datasets\": {\"data-874e914ef9ef7bf552d3f1494d30eb44\": [{\"score_left_b2\": 0.125, \"count\": 781}, {\"score_left_b2\": 0.025, \"count\": 1043236}, {\"score_left_b2\": 0.0588, \"count\": 19914}, {\"score_left_b2\": 0.0233, \"count\": 1479260}, {\"score_left_b2\": 0.0333, \"count\": 267623}, {\"score_left_b2\": 0.0769, \"count\": 6066}, {\"score_left_b2\": 0.0476, \"count\": 51890}, {\"score_left_b2\": 0.0833, \"count\": 4267}, {\"score_left_b2\": 0.5, \"count\": 6}, {\"score_left_b2\": 0.0714, \"count\": 8353}, {\"score_left_b2\": 0.1, \"count\": 1959}, {\"score_left_b2\": 0.037, \"count\": 164701}, {\"score_left_b2\": 0.0278, \"count\": 631560}, {\"score_left_b2\": 0.0312, \"count\": 362094}, {\"score_left_b2\": 0.0345, \"count\": 229368}, {\"score_left_b2\": 0.0256, \"count\": 927230}, {\"score_left_b2\": 0.3333, \"count\": 21}, {\"score_left_b2\": 0.0222, \"count\": 1840051}, {\"score_left_b2\": 0.0263, \"count\": 816696}, {\"score_left_b2\": 0.027, \"count\": 721616}, {\"score_left_b2\": 0.0238, \"count\": 1317692}, {\"score_left_b2\": 0.0625, \"count\": 15106}, {\"score_left_b2\": 0.04, \"count\": 115590}, {\"score_left_b2\": 0.0455, \"count\": 63961}, {\"score_left_b2\": 0.0294, \"count\": 481821}, {\"score_left_b2\": 0.1111, \"count\": 1267}, {\"score_left_b2\": 0.0286, \"count\": 554442}, {\"score_left_b2\": 0.0667, \"count\": 11377}, {\"score_left_b2\": 0.05, \"count\": 41330}, {\"score_left_b2\": 0.0303, \"count\": 419954}, {\"score_left_b2\": 0.0357, \"count\": 194139}, {\"score_left_b2\": 0.25, \"count\": 56}, {\"score_left_b2\": 0.0323, \"count\": 313107}, {\"score_left_b2\": 0.0435, \"count\": 78837}, {\"score_left_b2\": 0.1429, \"count\": 458}, {\"score_left_b2\": 1.0, \"count\": 1}, {\"score_left_b2\": 0.2, \"count\": 126}, {\"score_left_b2\": 0.0244, \"count\": 1177494}, {\"score_left_b2\": 0.0227, \"count\": 1647198}, {\"score_left_b2\": 0.1667, \"count\": 251}, {\"score_left_b2\": 0.0909, \"count\": 2948}, {\"score_left_b2\": 0.0385, \"count\": 137857}, {\"score_left_b2\": 0.0526, \"count\": 32880}, {\"score_left_b2\": 0.0417, \"count\": 95483}, {\"score_left_b2\": 0.0556, \"count\": 25628}]}}, {\"mode\": \"vega-lite\"});\n",
       "</script>"
      ],
      "text/plain": [
       "alt.Chart(...)"
      ]
     },
     "metadata": {},
     "output_type": "display_data"
    },
    {
     "data": {
      "text/html": [
       "<div><style>\n",
       ".dataframe > thead > tr,\n",
       ".dataframe > tbody > tr {\n",
       "  text-align: right;\n",
       "  white-space: pre-wrap;\n",
       "}\n",
       "</style>\n",
       "<small>shape: (45, 2)</small><table border=\"1\" class=\"dataframe\"><thead><tr><th>score_r8_b2</th><th>count</th></tr><tr><td>f64</td><td>u32</td></tr></thead><tbody><tr><td>0.0769</td><td>573931</td></tr><tr><td>0.0476</td><td>642862</td></tr><tr><td>0.0333</td><td>368342</td></tr><tr><td>0.025</td><td>44909</td></tr><tr><td>0.125</td><td>345464</td></tr><tr><td>&hellip;</td><td>&hellip;</td></tr><tr><td>0.1667</td><td>234951</td></tr><tr><td>0.0909</td><td>494960</td></tr><tr><td>0.0556</td><td>664974</td></tr><tr><td>0.0526</td><td>663635</td></tr><tr><td>0.0417</td><td>588350</td></tr></tbody></table></div>"
      ],
      "text/plain": [
       "shape: (45, 2)\n",
       "┌─────────────┬────────┐\n",
       "│ score_r8_b2 ┆ count  │\n",
       "│ ---         ┆ ---    │\n",
       "│ f64         ┆ u32    │\n",
       "╞═════════════╪════════╡\n",
       "│ 0.0769      ┆ 573931 │\n",
       "│ 0.0476      ┆ 642862 │\n",
       "│ 0.0333      ┆ 368342 │\n",
       "│ 0.025       ┆ 44909  │\n",
       "│ 0.125       ┆ 345464 │\n",
       "│ …           ┆ …      │\n",
       "│ 0.1667      ┆ 234951 │\n",
       "│ 0.0909      ┆ 494960 │\n",
       "│ 0.0556      ┆ 664974 │\n",
       "│ 0.0526      ┆ 663635 │\n",
       "│ 0.0417      ┆ 588350 │\n",
       "└─────────────┴────────┘"
      ]
     },
     "metadata": {},
     "output_type": "display_data"
    },
    {
     "data": {
      "text/html": [
       "\n",
       "<style>\n",
       "  #altair-viz-6d71696102304ea98f40db39d0732bf8.vega-embed {\n",
       "    width: 100%;\n",
       "    display: flex;\n",
       "  }\n",
       "\n",
       "  #altair-viz-6d71696102304ea98f40db39d0732bf8.vega-embed details,\n",
       "  #altair-viz-6d71696102304ea98f40db39d0732bf8.vega-embed details summary {\n",
       "    position: relative;\n",
       "  }\n",
       "</style>\n",
       "<div id=\"altair-viz-6d71696102304ea98f40db39d0732bf8\"></div>\n",
       "<script type=\"text/javascript\">\n",
       "  var VEGA_DEBUG = (typeof VEGA_DEBUG == \"undefined\") ? {} : VEGA_DEBUG;\n",
       "  (function(spec, embedOpt){\n",
       "    let outputDiv = document.currentScript.previousElementSibling;\n",
       "    if (outputDiv.id !== \"altair-viz-6d71696102304ea98f40db39d0732bf8\") {\n",
       "      outputDiv = document.getElementById(\"altair-viz-6d71696102304ea98f40db39d0732bf8\");\n",
       "    }\n",
       "\n",
       "    const paths = {\n",
       "      \"vega\": \"https://cdn.jsdelivr.net/npm/vega@5?noext\",\n",
       "      \"vega-lib\": \"https://cdn.jsdelivr.net/npm/vega-lib?noext\",\n",
       "      \"vega-lite\": \"https://cdn.jsdelivr.net/npm/vega-lite@5.20.1?noext\",\n",
       "      \"vega-embed\": \"https://cdn.jsdelivr.net/npm/vega-embed@6?noext\",\n",
       "    };\n",
       "\n",
       "    function maybeLoadScript(lib, version) {\n",
       "      var key = `${lib.replace(\"-\", \"\")}_version`;\n",
       "      return (VEGA_DEBUG[key] == version) ?\n",
       "        Promise.resolve(paths[lib]) :\n",
       "        new Promise(function(resolve, reject) {\n",
       "          var s = document.createElement('script');\n",
       "          document.getElementsByTagName(\"head\")[0].appendChild(s);\n",
       "          s.async = true;\n",
       "          s.onload = () => {\n",
       "            VEGA_DEBUG[key] = version;\n",
       "            return resolve(paths[lib]);\n",
       "          };\n",
       "          s.onerror = () => reject(`Error loading script: ${paths[lib]}`);\n",
       "          s.src = paths[lib];\n",
       "        });\n",
       "    }\n",
       "\n",
       "    function showError(err) {\n",
       "      outputDiv.innerHTML = `<div class=\"error\" style=\"color:red;\">${err}</div>`;\n",
       "      throw err;\n",
       "    }\n",
       "\n",
       "    function displayChart(vegaEmbed) {\n",
       "      vegaEmbed(outputDiv, spec, embedOpt)\n",
       "        .catch(err => showError(`Javascript Error: ${err.message}<br>This usually means there's a typo in your chart specification. See the javascript console for the full traceback.`));\n",
       "    }\n",
       "\n",
       "    if(typeof define === \"function\" && define.amd) {\n",
       "      requirejs.config({paths});\n",
       "      let deps = [\"vega-embed\"];\n",
       "      require(deps, displayChart, err => showError(`Error loading script: ${err.message}`));\n",
       "    } else {\n",
       "      maybeLoadScript(\"vega\", \"5\")\n",
       "        .then(() => maybeLoadScript(\"vega-lite\", \"5.20.1\"))\n",
       "        .then(() => maybeLoadScript(\"vega-embed\", \"6\"))\n",
       "        .catch(showError)\n",
       "        .then(() => displayChart(vegaEmbed));\n",
       "    }\n",
       "  })({\"config\": {\"view\": {\"continuousWidth\": 300, \"continuousHeight\": 300}}, \"data\": {\"name\": \"data-70a429100d747790d278d6903c8a72c1\"}, \"mark\": {\"type\": \"bar\", \"tooltip\": true}, \"encoding\": {\"color\": {\"field\": \"score_r8_b2\", \"type\": \"quantitative\"}, \"x\": {\"field\": \"score_r8_b2\", \"type\": \"quantitative\"}, \"y\": {\"field\": \"count\", \"type\": \"quantitative\"}}, \"params\": [{\"name\": \"param_12\", \"select\": {\"type\": \"interval\", \"encodings\": [\"x\", \"y\"]}, \"bind\": \"scales\"}], \"$schema\": \"https://vega.github.io/schema/vega-lite/v5.20.1.json\", \"datasets\": {\"data-70a429100d747790d278d6903c8a72c1\": [{\"score_r8_b2\": 0.0769, \"count\": 573931}, {\"score_r8_b2\": 0.0476, \"count\": 642862}, {\"score_r8_b2\": 0.0333, \"count\": 368342}, {\"score_r8_b2\": 0.025, \"count\": 44909}, {\"score_r8_b2\": 0.125, \"count\": 345464}, {\"score_r8_b2\": 0.0233, \"count\": 9410}, {\"score_r8_b2\": 0.0588, \"count\": 659646}, {\"score_r8_b2\": 0.037, \"count\": 488582}, {\"score_r8_b2\": 0.1, \"count\": 449502}, {\"score_r8_b2\": 0.0714, \"count\": 605690}, {\"score_r8_b2\": 0.0833, \"count\": 538220}, {\"score_r8_b2\": 0.5, \"count\": 45145}, {\"score_r8_b2\": 0.3333, \"count\": 82862}, {\"score_r8_b2\": 0.0256, \"count\": 64406}, {\"score_r8_b2\": 0.0312, \"count\": 287253}, {\"score_r8_b2\": 0.0345, \"count\": 410111}, {\"score_r8_b2\": 0.0278, \"count\": 142677}, {\"score_r8_b2\": 0.0222, \"count\": 1031}, {\"score_r8_b2\": 0.0263, \"count\": 86736}, {\"score_r8_b2\": 0.027, \"count\": 113677}, {\"score_r8_b2\": 0.0625, \"count\": 648382}, {\"score_r8_b2\": 0.0238, \"count\": 17753}, {\"score_r8_b2\": 0.04, \"count\": 558748}, {\"score_r8_b2\": 0.05, \"count\": 655992}, {\"score_r8_b2\": 0.1111, \"count\": 397509}, {\"score_r8_b2\": 0.0357, \"count\": 449018}, {\"score_r8_b2\": 0.0667, \"count\": 629626}, {\"score_r8_b2\": 0.0455, \"count\": 623515}, {\"score_r8_b2\": 0.0294, \"count\": 210618}, {\"score_r8_b2\": 0.25, \"count\": 129740}, {\"score_r8_b2\": 0.0303, \"count\": 249049}, {\"score_r8_b2\": 0.0286, \"count\": 176136}, {\"score_r8_b2\": 0.0435, \"count\": 581413}, {\"score_r8_b2\": 0.0323, \"count\": 328585}, {\"score_r8_b2\": 0.2, \"count\": 179492}, {\"score_r8_b2\": 0.1429, \"count\": 288902}, {\"score_r8_b2\": 1.0, \"count\": 16103}, {\"score_r8_b2\": 0.0385, \"count\": 524085}, {\"score_r8_b2\": 0.0244, \"count\": 29765}, {\"score_r8_b2\": 0.0227, \"count\": 3938}, {\"score_r8_b2\": 0.1667, \"count\": 234951}, {\"score_r8_b2\": 0.0909, \"count\": 494960}, {\"score_r8_b2\": 0.0556, \"count\": 664974}, {\"score_r8_b2\": 0.0526, \"count\": 663635}, {\"score_r8_b2\": 0.0417, \"count\": 588350}]}}, {\"mode\": \"vega-lite\"});\n",
       "</script>"
      ],
      "text/plain": [
       "alt.Chart(...)"
      ]
     },
     "metadata": {},
     "output_type": "display_data"
    }
   ],
   "source": [
    "show_b_stats('score_left_b2')\n",
    "show_b_stats('score_r8_b2')\n"
   ]
  },
  {
   "cell_type": "code",
   "execution_count": 44,
   "metadata": {},
   "outputs": [
    {
     "data": {
      "text/html": [
       "<div><style>\n",
       ".dataframe > thead > tr,\n",
       ".dataframe > tbody > tr {\n",
       "  text-align: right;\n",
       "  white-space: pre-wrap;\n",
       "}\n",
       "</style>\n",
       "<small>shape: (45, 2)</small><table border=\"1\" class=\"dataframe\"><thead><tr><th>score_left_b4</th><th>count</th></tr><tr><td>f64</td><td>u32</td></tr></thead><tbody><tr><td>0.0233</td><td>82862</td></tr><tr><td>0.0769</td><td>249049</td></tr><tr><td>0.125</td><td>86736</td></tr><tr><td>0.0333</td><td>648382</td></tr><tr><td>0.0476</td><td>558748</td></tr><tr><td>&hellip;</td><td>&hellip;</td></tr><tr><td>0.0227</td><td>45145</td></tr><tr><td>0.1667</td><td>44909</td></tr><tr><td>0.0417</td><td>623515</td></tr><tr><td>0.0526</td><td>488582</td></tr><tr><td>0.0556</td><td>449018</td></tr></tbody></table></div>"
      ],
      "text/plain": [
       "shape: (45, 2)\n",
       "┌───────────────┬────────┐\n",
       "│ score_left_b4 ┆ count  │\n",
       "│ ---           ┆ ---    │\n",
       "│ f64           ┆ u32    │\n",
       "╞═══════════════╪════════╡\n",
       "│ 0.0233        ┆ 82862  │\n",
       "│ 0.0769        ┆ 249049 │\n",
       "│ 0.125         ┆ 86736  │\n",
       "│ 0.0333        ┆ 648382 │\n",
       "│ 0.0476        ┆ 558748 │\n",
       "│ …             ┆ …      │\n",
       "│ 0.0227        ┆ 45145  │\n",
       "│ 0.1667        ┆ 44909  │\n",
       "│ 0.0417        ┆ 623515 │\n",
       "│ 0.0526        ┆ 488582 │\n",
       "│ 0.0556        ┆ 449018 │\n",
       "└───────────────┴────────┘"
      ]
     },
     "metadata": {},
     "output_type": "display_data"
    },
    {
     "data": {
      "text/html": [
       "\n",
       "<style>\n",
       "  #altair-viz-2996018c70e04befa12b34210d0146f3.vega-embed {\n",
       "    width: 100%;\n",
       "    display: flex;\n",
       "  }\n",
       "\n",
       "  #altair-viz-2996018c70e04befa12b34210d0146f3.vega-embed details,\n",
       "  #altair-viz-2996018c70e04befa12b34210d0146f3.vega-embed details summary {\n",
       "    position: relative;\n",
       "  }\n",
       "</style>\n",
       "<div id=\"altair-viz-2996018c70e04befa12b34210d0146f3\"></div>\n",
       "<script type=\"text/javascript\">\n",
       "  var VEGA_DEBUG = (typeof VEGA_DEBUG == \"undefined\") ? {} : VEGA_DEBUG;\n",
       "  (function(spec, embedOpt){\n",
       "    let outputDiv = document.currentScript.previousElementSibling;\n",
       "    if (outputDiv.id !== \"altair-viz-2996018c70e04befa12b34210d0146f3\") {\n",
       "      outputDiv = document.getElementById(\"altair-viz-2996018c70e04befa12b34210d0146f3\");\n",
       "    }\n",
       "\n",
       "    const paths = {\n",
       "      \"vega\": \"https://cdn.jsdelivr.net/npm/vega@5?noext\",\n",
       "      \"vega-lib\": \"https://cdn.jsdelivr.net/npm/vega-lib?noext\",\n",
       "      \"vega-lite\": \"https://cdn.jsdelivr.net/npm/vega-lite@5.20.1?noext\",\n",
       "      \"vega-embed\": \"https://cdn.jsdelivr.net/npm/vega-embed@6?noext\",\n",
       "    };\n",
       "\n",
       "    function maybeLoadScript(lib, version) {\n",
       "      var key = `${lib.replace(\"-\", \"\")}_version`;\n",
       "      return (VEGA_DEBUG[key] == version) ?\n",
       "        Promise.resolve(paths[lib]) :\n",
       "        new Promise(function(resolve, reject) {\n",
       "          var s = document.createElement('script');\n",
       "          document.getElementsByTagName(\"head\")[0].appendChild(s);\n",
       "          s.async = true;\n",
       "          s.onload = () => {\n",
       "            VEGA_DEBUG[key] = version;\n",
       "            return resolve(paths[lib]);\n",
       "          };\n",
       "          s.onerror = () => reject(`Error loading script: ${paths[lib]}`);\n",
       "          s.src = paths[lib];\n",
       "        });\n",
       "    }\n",
       "\n",
       "    function showError(err) {\n",
       "      outputDiv.innerHTML = `<div class=\"error\" style=\"color:red;\">${err}</div>`;\n",
       "      throw err;\n",
       "    }\n",
       "\n",
       "    function displayChart(vegaEmbed) {\n",
       "      vegaEmbed(outputDiv, spec, embedOpt)\n",
       "        .catch(err => showError(`Javascript Error: ${err.message}<br>This usually means there's a typo in your chart specification. See the javascript console for the full traceback.`));\n",
       "    }\n",
       "\n",
       "    if(typeof define === \"function\" && define.amd) {\n",
       "      requirejs.config({paths});\n",
       "      let deps = [\"vega-embed\"];\n",
       "      require(deps, displayChart, err => showError(`Error loading script: ${err.message}`));\n",
       "    } else {\n",
       "      maybeLoadScript(\"vega\", \"5\")\n",
       "        .then(() => maybeLoadScript(\"vega-lite\", \"5.20.1\"))\n",
       "        .then(() => maybeLoadScript(\"vega-embed\", \"6\"))\n",
       "        .catch(showError)\n",
       "        .then(() => displayChart(vegaEmbed));\n",
       "    }\n",
       "  })({\"config\": {\"view\": {\"continuousWidth\": 300, \"continuousHeight\": 300}}, \"data\": {\"name\": \"data-5d2b42035cb419ea6e54e576e7bc3e2e\"}, \"mark\": {\"type\": \"bar\", \"tooltip\": true}, \"encoding\": {\"color\": {\"field\": \"score_left_b4\", \"type\": \"quantitative\"}, \"x\": {\"field\": \"score_left_b4\", \"type\": \"quantitative\"}, \"y\": {\"field\": \"count\", \"type\": \"quantitative\"}}, \"params\": [{\"name\": \"param_15\", \"select\": {\"type\": \"interval\", \"encodings\": [\"x\", \"y\"]}, \"bind\": \"scales\"}], \"$schema\": \"https://vega.github.io/schema/vega-lite/v5.20.1.json\", \"datasets\": {\"data-5d2b42035cb419ea6e54e576e7bc3e2e\": [{\"score_left_b4\": 0.0233, \"count\": 82862}, {\"score_left_b4\": 0.0769, \"count\": 249049}, {\"score_left_b4\": 0.125, \"count\": 86736}, {\"score_left_b4\": 0.0333, \"count\": 648382}, {\"score_left_b4\": 0.0476, \"count\": 558748}, {\"score_left_b4\": 0.0588, \"count\": 410111}, {\"score_left_b4\": 0.025, \"count\": 234951}, {\"score_left_b4\": 0.0833, \"count\": 210618}, {\"score_left_b4\": 0.5, \"count\": 3938}, {\"score_left_b4\": 0.037, \"count\": 663635}, {\"score_left_b4\": 0.0714, \"count\": 287253}, {\"score_left_b4\": 0.1, \"count\": 142677}, {\"score_left_b4\": 0.0345, \"count\": 659646}, {\"score_left_b4\": 0.3333, \"count\": 9410}, {\"score_left_b4\": 0.0278, \"count\": 449502}, {\"score_left_b4\": 0.0222, \"count\": 16103}, {\"score_left_b4\": 0.0256, \"count\": 288902}, {\"score_left_b4\": 0.0312, \"count\": 605690}, {\"score_left_b4\": 0.0238, \"count\": 129740}, {\"score_left_b4\": 0.0625, \"count\": 368342}, {\"score_left_b4\": 0.04, \"count\": 642862}, {\"score_left_b4\": 0.0263, \"count\": 345464}, {\"score_left_b4\": 0.027, \"count\": 397509}, {\"score_left_b4\": 0.05, \"count\": 524085}, {\"score_left_b4\": 0.0294, \"count\": 538220}, {\"score_left_b4\": 0.0667, \"count\": 328585}, {\"score_left_b4\": 0.0303, \"count\": 573931}, {\"score_left_b4\": 0.1111, \"count\": 113677}, {\"score_left_b4\": 0.25, \"count\": 17753}, {\"score_left_b4\": 0.0455, \"count\": 588350}, {\"score_left_b4\": 0.0286, \"count\": 494960}, {\"score_left_b4\": 0.0357, \"count\": 664974}, {\"score_left_b4\": 0.1429, \"count\": 64406}, {\"score_left_b4\": 1.0, \"count\": 1031}, {\"score_left_b4\": 0.0435, \"count\": 581413}, {\"score_left_b4\": 0.2, \"count\": 29765}, {\"score_left_b4\": 0.0323, \"count\": 629626}, {\"score_left_b4\": 0.0909, \"count\": 176136}, {\"score_left_b4\": 0.0385, \"count\": 655992}, {\"score_left_b4\": 0.0244, \"count\": 179492}, {\"score_left_b4\": 0.0227, \"count\": 45145}, {\"score_left_b4\": 0.1667, \"count\": 44909}, {\"score_left_b4\": 0.0417, \"count\": 623515}, {\"score_left_b4\": 0.0526, \"count\": 488582}, {\"score_left_b4\": 0.0556, \"count\": 449018}]}}, {\"mode\": \"vega-lite\"});\n",
       "</script>"
      ],
      "text/plain": [
       "alt.Chart(...)"
      ]
     },
     "metadata": {},
     "output_type": "display_data"
    },
    {
     "data": {
      "text/html": [
       "<div><style>\n",
       ".dataframe > thead > tr,\n",
       ".dataframe > tbody > tr {\n",
       "  text-align: right;\n",
       "  white-space: pre-wrap;\n",
       "}\n",
       "</style>\n",
       "<small>shape: (45, 2)</small><table border=\"1\" class=\"dataframe\"><thead><tr><th>score_r8_b4</th><th>count</th></tr><tr><td>f64</td><td>u32</td></tr></thead><tbody><tr><td>0.0588</td><td>136677</td></tr><tr><td>0.0333</td><td>627015</td></tr><tr><td>0.0476</td><td>258255</td></tr><tr><td>0.025</td><td>713193</td></tr><tr><td>0.0769</td><td>58470</td></tr><tr><td>&hellip;</td><td>&hellip;</td></tr><tr><td>0.1667</td><td>4963</td></tr><tr><td>0.0227</td><td>345103</td></tr><tr><td>0.0526</td><td>192050</td></tr><tr><td>0.0556</td><td>163611</td></tr><tr><td>0.0417</td><td>372733</td></tr></tbody></table></div>"
      ],
      "text/plain": [
       "shape: (45, 2)\n",
       "┌─────────────┬────────┐\n",
       "│ score_r8_b4 ┆ count  │\n",
       "│ ---         ┆ ---    │\n",
       "│ f64         ┆ u32    │\n",
       "╞═════════════╪════════╡\n",
       "│ 0.0588      ┆ 136677 │\n",
       "│ 0.0333      ┆ 627015 │\n",
       "│ 0.0476      ┆ 258255 │\n",
       "│ 0.025       ┆ 713193 │\n",
       "│ 0.0769      ┆ 58470  │\n",
       "│ …           ┆ …      │\n",
       "│ 0.1667      ┆ 4963   │\n",
       "│ 0.0227      ┆ 345103 │\n",
       "│ 0.0526      ┆ 192050 │\n",
       "│ 0.0556      ┆ 163611 │\n",
       "│ 0.0417      ┆ 372733 │\n",
       "└─────────────┴────────┘"
      ]
     },
     "metadata": {},
     "output_type": "display_data"
    },
    {
     "data": {
      "text/html": [
       "\n",
       "<style>\n",
       "  #altair-viz-5d759be1fb894ea7834420c8d5268f16.vega-embed {\n",
       "    width: 100%;\n",
       "    display: flex;\n",
       "  }\n",
       "\n",
       "  #altair-viz-5d759be1fb894ea7834420c8d5268f16.vega-embed details,\n",
       "  #altair-viz-5d759be1fb894ea7834420c8d5268f16.vega-embed details summary {\n",
       "    position: relative;\n",
       "  }\n",
       "</style>\n",
       "<div id=\"altair-viz-5d759be1fb894ea7834420c8d5268f16\"></div>\n",
       "<script type=\"text/javascript\">\n",
       "  var VEGA_DEBUG = (typeof VEGA_DEBUG == \"undefined\") ? {} : VEGA_DEBUG;\n",
       "  (function(spec, embedOpt){\n",
       "    let outputDiv = document.currentScript.previousElementSibling;\n",
       "    if (outputDiv.id !== \"altair-viz-5d759be1fb894ea7834420c8d5268f16\") {\n",
       "      outputDiv = document.getElementById(\"altair-viz-5d759be1fb894ea7834420c8d5268f16\");\n",
       "    }\n",
       "\n",
       "    const paths = {\n",
       "      \"vega\": \"https://cdn.jsdelivr.net/npm/vega@5?noext\",\n",
       "      \"vega-lib\": \"https://cdn.jsdelivr.net/npm/vega-lib?noext\",\n",
       "      \"vega-lite\": \"https://cdn.jsdelivr.net/npm/vega-lite@5.20.1?noext\",\n",
       "      \"vega-embed\": \"https://cdn.jsdelivr.net/npm/vega-embed@6?noext\",\n",
       "    };\n",
       "\n",
       "    function maybeLoadScript(lib, version) {\n",
       "      var key = `${lib.replace(\"-\", \"\")}_version`;\n",
       "      return (VEGA_DEBUG[key] == version) ?\n",
       "        Promise.resolve(paths[lib]) :\n",
       "        new Promise(function(resolve, reject) {\n",
       "          var s = document.createElement('script');\n",
       "          document.getElementsByTagName(\"head\")[0].appendChild(s);\n",
       "          s.async = true;\n",
       "          s.onload = () => {\n",
       "            VEGA_DEBUG[key] = version;\n",
       "            return resolve(paths[lib]);\n",
       "          };\n",
       "          s.onerror = () => reject(`Error loading script: ${paths[lib]}`);\n",
       "          s.src = paths[lib];\n",
       "        });\n",
       "    }\n",
       "\n",
       "    function showError(err) {\n",
       "      outputDiv.innerHTML = `<div class=\"error\" style=\"color:red;\">${err}</div>`;\n",
       "      throw err;\n",
       "    }\n",
       "\n",
       "    function displayChart(vegaEmbed) {\n",
       "      vegaEmbed(outputDiv, spec, embedOpt)\n",
       "        .catch(err => showError(`Javascript Error: ${err.message}<br>This usually means there's a typo in your chart specification. See the javascript console for the full traceback.`));\n",
       "    }\n",
       "\n",
       "    if(typeof define === \"function\" && define.amd) {\n",
       "      requirejs.config({paths});\n",
       "      let deps = [\"vega-embed\"];\n",
       "      require(deps, displayChart, err => showError(`Error loading script: ${err.message}`));\n",
       "    } else {\n",
       "      maybeLoadScript(\"vega\", \"5\")\n",
       "        .then(() => maybeLoadScript(\"vega-lite\", \"5.20.1\"))\n",
       "        .then(() => maybeLoadScript(\"vega-embed\", \"6\"))\n",
       "        .catch(showError)\n",
       "        .then(() => displayChart(vegaEmbed));\n",
       "    }\n",
       "  })({\"config\": {\"view\": {\"continuousWidth\": 300, \"continuousHeight\": 300}}, \"data\": {\"name\": \"data-c7e5d33359bfa130df85094e9eca1fa2\"}, \"mark\": {\"type\": \"bar\", \"tooltip\": true}, \"encoding\": {\"color\": {\"field\": \"score_r8_b4\", \"type\": \"quantitative\"}, \"x\": {\"field\": \"score_r8_b4\", \"type\": \"quantitative\"}, \"y\": {\"field\": \"count\", \"type\": \"quantitative\"}}, \"params\": [{\"name\": \"param_16\", \"select\": {\"type\": \"interval\", \"encodings\": [\"x\", \"y\"]}, \"bind\": \"scales\"}], \"$schema\": \"https://vega.github.io/schema/vega-lite/v5.20.1.json\", \"datasets\": {\"data-c7e5d33359bfa130df85094e9eca1fa2\": [{\"score_r8_b4\": 0.0588, \"count\": 136677}, {\"score_r8_b4\": 0.0333, \"count\": 627015}, {\"score_r8_b4\": 0.0476, \"count\": 258255}, {\"score_r8_b4\": 0.025, \"count\": 713193}, {\"score_r8_b4\": 0.0769, \"count\": 58470}, {\"score_r8_b4\": 0.125, \"count\": 12321}, {\"score_r8_b4\": 0.0233, \"count\": 476055}, {\"score_r8_b4\": 0.0714, \"count\": 74484}, {\"score_r8_b4\": 0.1, \"count\": 25233}, {\"score_r8_b4\": 0.0833, \"count\": 45433}, {\"score_r8_b4\": 0.037, \"count\": 498061}, {\"score_r8_b4\": 0.5, \"count\": 218}, {\"score_r8_b4\": 0.0256, \"count\": 755040}, {\"score_r8_b4\": 0.3333, \"count\": 638}, {\"score_r8_b4\": 0.0278, \"count\": 790019}, {\"score_r8_b4\": 0.0312, \"count\": 702430}, {\"score_r8_b4\": 0.0222, \"count\": 193818}, {\"score_r8_b4\": 0.0345, \"count\": 584324}, {\"score_r8_b4\": 0.0263, \"count\": 779220}, {\"score_r8_b4\": 0.027, \"count\": 790718}, {\"score_r8_b4\": 0.0238, \"count\": 574975}, {\"score_r8_b4\": 0.0625, \"count\": 113628}, {\"score_r8_b4\": 0.04, \"count\": 412592}, {\"score_r8_b4\": 0.0294, \"count\": 760254}, {\"score_r8_b4\": 0.0357, \"count\": 542604}, {\"score_r8_b4\": 0.0303, \"count\": 733376}, {\"score_r8_b4\": 0.1111, \"count\": 17878}, {\"score_r8_b4\": 0.25, \"count\": 1452}, {\"score_r8_b4\": 0.0455, \"count\": 296057}, {\"score_r8_b4\": 0.0667, \"count\": 92325}, {\"score_r8_b4\": 0.05, \"count\": 224622}, {\"score_r8_b4\": 0.0286, \"count\": 778990}, {\"score_r8_b4\": 0.0435, \"count\": 334259}, {\"score_r8_b4\": 0.2, \"count\": 2816}, {\"score_r8_b4\": 0.0323, \"count\": 665333}, {\"score_r8_b4\": 1.0, \"count\": 45}, {\"score_r8_b4\": 0.1429, \"count\": 8010}, {\"score_r8_b4\": 0.0385, \"count\": 456067}, {\"score_r8_b4\": 0.0244, \"count\": 656202}, {\"score_r8_b4\": 0.0909, \"count\": 34128}, {\"score_r8_b4\": 0.1667, \"count\": 4963}, {\"score_r8_b4\": 0.0227, \"count\": 345103}, {\"score_r8_b4\": 0.0526, \"count\": 192050}, {\"score_r8_b4\": 0.0556, \"count\": 163611}, {\"score_r8_b4\": 0.0417, \"count\": 372733}]}}, {\"mode\": \"vega-lite\"});\n",
       "</script>"
      ],
      "text/plain": [
       "alt.Chart(...)"
      ]
     },
     "metadata": {},
     "output_type": "display_data"
    }
   ],
   "source": [
    "show_b_stats('score_left_b4')\n",
    "show_b_stats('score_r8_b4')"
   ]
  }
 ],
 "metadata": {
  "kernelspec": {
   "display_name": ".venv",
   "language": "python",
   "name": "python3"
  },
  "language_info": {
   "codemirror_mode": {
    "name": "ipython",
    "version": 3
   },
   "file_extension": ".py",
   "mimetype": "text/x-python",
   "name": "python",
   "nbconvert_exporter": "python",
   "pygments_lexer": "ipython3",
   "version": "3.12.9"
  }
 },
 "nbformat": 4,
 "nbformat_minor": 2
}

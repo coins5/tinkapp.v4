{
 "cells": [
  {
   "cell_type": "code",
   "execution_count": 1,
   "metadata": {},
   "outputs": [
    {
     "data": {
      "text/html": [
       "<script type=\"esms-options\">{\"shimMode\": true}</script><style>*[data-root-id],\n",
       "*[data-root-id] > * {\n",
       "  box-sizing: border-box;\n",
       "  font-family: var(--jp-ui-font-family);\n",
       "  font-size: var(--jp-ui-font-size1);\n",
       "  color: var(--vscode-editor-foreground, var(--jp-ui-font-color1));\n",
       "}\n",
       "\n",
       "/* Override VSCode background color */\n",
       ".cell-output-ipywidget-background:has(\n",
       "    > .cell-output-ipywidget-background > .lm-Widget > *[data-root-id]\n",
       "  ),\n",
       ".cell-output-ipywidget-background:has(> .lm-Widget > *[data-root-id]) {\n",
       "  background-color: transparent !important;\n",
       "}\n",
       "</style>"
      ]
     },
     "metadata": {},
     "output_type": "display_data"
    },
    {
     "data": {
      "application/javascript": "(function(root) {\n  function now() {\n    return new Date();\n  }\n\n  const force = true;\n  const py_version = '3.7.2'.replace('rc', '-rc.').replace('.dev', '-dev.');\n  const reloading = false;\n  const Bokeh = root.Bokeh;\n\n  // Set a timeout for this load but only if we are not already initializing\n  if (typeof (root._bokeh_timeout) === \"undefined\" || (force || !root._bokeh_is_initializing)) {\n    root._bokeh_timeout = Date.now() + 5000;\n    root._bokeh_failed_load = false;\n  }\n\n  function run_callbacks() {\n    try {\n      root._bokeh_onload_callbacks.forEach(function(callback) {\n        if (callback != null)\n          callback();\n      });\n    } finally {\n      delete root._bokeh_onload_callbacks;\n    }\n    console.debug(\"Bokeh: all callbacks have finished\");\n  }\n\n  function load_libs(css_urls, js_urls, js_modules, js_exports, callback) {\n    if (css_urls == null) css_urls = [];\n    if (js_urls == null) js_urls = [];\n    if (js_modules == null) js_modules = [];\n    if (js_exports == null) js_exports = {};\n\n    root._bokeh_onload_callbacks.push(callback);\n\n    if (root._bokeh_is_loading > 0) {\n      // Don't load bokeh if it is still initializing\n      console.debug(\"Bokeh: BokehJS is being loaded, scheduling callback at\", now());\n      return null;\n    } else if (js_urls.length === 0 && js_modules.length === 0 && Object.keys(js_exports).length === 0) {\n      // There is nothing to load\n      run_callbacks();\n      return null;\n    }\n\n    function on_load() {\n      root._bokeh_is_loading--;\n      if (root._bokeh_is_loading === 0) {\n        console.debug(\"Bokeh: all BokehJS libraries/stylesheets loaded\");\n        run_callbacks()\n      }\n    }\n    window._bokeh_on_load = on_load\n\n    function on_error(e) {\n      const src_el = e.srcElement\n      console.error(\"failed to load \" + (src_el.href || src_el.src));\n    }\n\n    const skip = [];\n    if (window.requirejs) {\n      window.requirejs.config({'packages': {}, 'paths': {}, 'shim': {}});\n      root._bokeh_is_loading = css_urls.length + 0;\n    } else {\n      root._bokeh_is_loading = css_urls.length + js_urls.length + js_modules.length + Object.keys(js_exports).length;\n    }\n\n    const existing_stylesheets = []\n    const links = document.getElementsByTagName('link')\n    for (let i = 0; i < links.length; i++) {\n      const link = links[i]\n      if (link.href != null) {\n        existing_stylesheets.push(link.href)\n      }\n    }\n    for (let i = 0; i < css_urls.length; i++) {\n      const url = css_urls[i];\n      const escaped = encodeURI(url)\n      if (existing_stylesheets.indexOf(escaped) !== -1) {\n        on_load()\n        continue;\n      }\n      const element = document.createElement(\"link\");\n      element.onload = on_load;\n      element.onerror = on_error;\n      element.rel = \"stylesheet\";\n      element.type = \"text/css\";\n      element.href = url;\n      console.debug(\"Bokeh: injecting link tag for BokehJS stylesheet: \", url);\n      document.body.appendChild(element);\n    }    var existing_scripts = []\n    const scripts = document.getElementsByTagName('script')\n    for (let i = 0; i < scripts.length; i++) {\n      var script = scripts[i]\n      if (script.src != null) {\n        existing_scripts.push(script.src)\n      }\n    }\n    for (let i = 0; i < js_urls.length; i++) {\n      const url = js_urls[i];\n      const escaped = encodeURI(url)\n      if (skip.indexOf(escaped) !== -1 || existing_scripts.indexOf(escaped) !== -1) {\n        if (!window.requirejs) {\n          on_load();\n        }\n        continue;\n      }\n      const element = document.createElement('script');\n      element.onload = on_load;\n      element.onerror = on_error;\n      element.async = false;\n      element.src = url;\n      console.debug(\"Bokeh: injecting script tag for BokehJS library: \", url);\n      document.head.appendChild(element);\n    }\n    for (let i = 0; i < js_modules.length; i++) {\n      const url = js_modules[i];\n      const escaped = encodeURI(url)\n      if (skip.indexOf(escaped) !== -1 || existing_scripts.indexOf(escaped) !== -1) {\n        if (!window.requirejs) {\n          on_load();\n        }\n        continue;\n      }\n      var element = document.createElement('script');\n      element.onload = on_load;\n      element.onerror = on_error;\n      element.async = false;\n      element.src = url;\n      element.type = \"module\";\n      console.debug(\"Bokeh: injecting script tag for BokehJS library: \", url);\n      document.head.appendChild(element);\n    }\n    for (const name in js_exports) {\n      const url = js_exports[name];\n      const escaped = encodeURI(url)\n      if (skip.indexOf(escaped) >= 0 || root[name] != null) {\n        if (!window.requirejs) {\n          on_load();\n        }\n        continue;\n      }\n      var element = document.createElement('script');\n      element.onerror = on_error;\n      element.async = false;\n      element.type = \"module\";\n      console.debug(\"Bokeh: injecting script tag for BokehJS library: \", url);\n      element.textContent = `\n      import ${name} from \"${url}\"\n      window.${name} = ${name}\n      window._bokeh_on_load()\n      `\n      document.head.appendChild(element);\n    }\n    if (!js_urls.length && !js_modules.length) {\n      on_load()\n    }\n  };\n\n  function inject_raw_css(css) {\n    const element = document.createElement(\"style\");\n    element.appendChild(document.createTextNode(css));\n    document.body.appendChild(element);\n  }\n\n  const js_urls = [\"https://cdn.holoviz.org/panel/1.6.2/dist/bundled/reactiveesm/es-module-shims@^1.10.0/dist/es-module-shims.min.js\", \"https://cdn.bokeh.org/bokeh/release/bokeh-3.7.2.min.js\", \"https://cdn.bokeh.org/bokeh/release/bokeh-gl-3.7.2.min.js\", \"https://cdn.bokeh.org/bokeh/release/bokeh-widgets-3.7.2.min.js\", \"https://cdn.bokeh.org/bokeh/release/bokeh-tables-3.7.2.min.js\", \"https://cdn.holoviz.org/panel/1.6.2/dist/panel.min.js\"];\n  const js_modules = [];\n  const js_exports = {};\n  const css_urls = [];\n  const inline_js = [    function(Bokeh) {\n      Bokeh.set_log_level(\"info\");\n    },\nfunction(Bokeh) {} // ensure no trailing comma for IE\n  ];\n\n  function run_inline_js() {\n    if ((root.Bokeh !== undefined) || (force === true)) {\n      for (let i = 0; i < inline_js.length; i++) {\n        try {\n          inline_js[i].call(root, root.Bokeh);\n        } catch(e) {\n          if (!reloading) {\n            throw e;\n          }\n        }\n      }\n      // Cache old bokeh versions\n      if (Bokeh != undefined && !reloading) {\n        var NewBokeh = root.Bokeh;\n        if (Bokeh.versions === undefined) {\n          Bokeh.versions = new Map();\n        }\n        if (NewBokeh.version !== Bokeh.version) {\n          Bokeh.versions.set(NewBokeh.version, NewBokeh)\n        }\n        root.Bokeh = Bokeh;\n      }\n    } else if (Date.now() < root._bokeh_timeout) {\n      setTimeout(run_inline_js, 100);\n    } else if (!root._bokeh_failed_load) {\n      console.log(\"Bokeh: BokehJS failed to load within specified timeout.\");\n      root._bokeh_failed_load = true;\n    }\n    root._bokeh_is_initializing = false\n  }\n\n  function load_or_wait() {\n    // Implement a backoff loop that tries to ensure we do not load multiple\n    // versions of Bokeh and its dependencies at the same time.\n    // In recent versions we use the root._bokeh_is_initializing flag\n    // to determine whether there is an ongoing attempt to initialize\n    // bokeh, however for backward compatibility we also try to ensure\n    // that we do not start loading a newer (Panel>=1.0 and Bokeh>3) version\n    // before older versions are fully initialized.\n    if (root._bokeh_is_initializing && Date.now() > root._bokeh_timeout) {\n      // If the timeout and bokeh was not successfully loaded we reset\n      // everything and try loading again\n      root._bokeh_timeout = Date.now() + 5000;\n      root._bokeh_is_initializing = false;\n      root._bokeh_onload_callbacks = undefined;\n      root._bokeh_is_loading = 0\n      console.log(\"Bokeh: BokehJS was loaded multiple times but one version failed to initialize.\");\n      load_or_wait();\n    } else if (root._bokeh_is_initializing || (typeof root._bokeh_is_initializing === \"undefined\" && root._bokeh_onload_callbacks !== undefined)) {\n      setTimeout(load_or_wait, 100);\n    } else {\n      root._bokeh_is_initializing = true\n      root._bokeh_onload_callbacks = []\n      const bokeh_loaded = root.Bokeh != null && (root.Bokeh.version === py_version || (root.Bokeh.versions !== undefined && root.Bokeh.versions.has(py_version)));\n      if (!reloading && !bokeh_loaded) {\n        if (root.Bokeh) {\n          root.Bokeh = undefined;\n        }\n        console.debug(\"Bokeh: BokehJS not loaded, scheduling load and callback at\", now());\n      }\n      load_libs(css_urls, js_urls, js_modules, js_exports, function() {\n        console.debug(\"Bokeh: BokehJS plotting callback run at\", now());\n        run_inline_js();\n      });\n    }\n  }\n  // Give older versions of the autoload script a head-start to ensure\n  // they initialize before we start loading newer version.\n  setTimeout(load_or_wait, 100)\n}(window));",
      "application/vnd.holoviews_load.v0+json": ""
     },
     "metadata": {},
     "output_type": "display_data"
    },
    {
     "data": {
      "application/javascript": "\nif ((window.PyViz === undefined) || (window.PyViz instanceof HTMLElement)) {\n  window.PyViz = {comms: {}, comm_status:{}, kernels:{}, receivers: {}, plot_index: []}\n}\n\n\n    function JupyterCommManager() {\n    }\n\n    JupyterCommManager.prototype.register_target = function(plot_id, comm_id, msg_handler) {\n      if (window.comm_manager || ((window.Jupyter !== undefined) && (Jupyter.notebook.kernel != null))) {\n        var comm_manager = window.comm_manager || Jupyter.notebook.kernel.comm_manager;\n        comm_manager.register_target(comm_id, function(comm) {\n          comm.on_msg(msg_handler);\n        });\n      } else if ((plot_id in window.PyViz.kernels) && (window.PyViz.kernels[plot_id])) {\n        window.PyViz.kernels[plot_id].registerCommTarget(comm_id, function(comm) {\n          comm.onMsg = msg_handler;\n        });\n      } else if (typeof google != 'undefined' && google.colab.kernel != null) {\n        google.colab.kernel.comms.registerTarget(comm_id, (comm) => {\n          var messages = comm.messages[Symbol.asyncIterator]();\n          function processIteratorResult(result) {\n            var message = result.value;\n            console.log(message)\n            var content = {data: message.data, comm_id};\n            var buffers = []\n            for (var buffer of message.buffers || []) {\n              buffers.push(new DataView(buffer))\n            }\n            var metadata = message.metadata || {};\n            var msg = {content, buffers, metadata}\n            msg_handler(msg);\n            return messages.next().then(processIteratorResult);\n          }\n          return messages.next().then(processIteratorResult);\n        })\n      }\n    }\n\n    JupyterCommManager.prototype.get_client_comm = function(plot_id, comm_id, msg_handler) {\n      if (comm_id in window.PyViz.comms) {\n        return window.PyViz.comms[comm_id];\n      } else if (window.comm_manager || ((window.Jupyter !== undefined) && (Jupyter.notebook.kernel != null))) {\n        var comm_manager = window.comm_manager || Jupyter.notebook.kernel.comm_manager;\n        var comm = comm_manager.new_comm(comm_id, {}, {}, {}, comm_id);\n        if (msg_handler) {\n          comm.on_msg(msg_handler);\n        }\n      } else if ((plot_id in window.PyViz.kernels) && (window.PyViz.kernels[plot_id])) {\n        var comm = window.PyViz.kernels[plot_id].connectToComm(comm_id);\n        comm.open();\n        if (msg_handler) {\n          comm.onMsg = msg_handler;\n        }\n      } else if (typeof google != 'undefined' && google.colab.kernel != null) {\n        var comm_promise = google.colab.kernel.comms.open(comm_id)\n        comm_promise.then((comm) => {\n          window.PyViz.comms[comm_id] = comm;\n          if (msg_handler) {\n            var messages = comm.messages[Symbol.asyncIterator]();\n            function processIteratorResult(result) {\n              var message = result.value;\n              var content = {data: message.data};\n              var metadata = message.metadata || {comm_id};\n              var msg = {content, metadata}\n              msg_handler(msg);\n              return messages.next().then(processIteratorResult);\n            }\n            return messages.next().then(processIteratorResult);\n          }\n        })\n        var sendClosure = (data, metadata, buffers, disposeOnDone) => {\n          return comm_promise.then((comm) => {\n            comm.send(data, metadata, buffers, disposeOnDone);\n          });\n        };\n        var comm = {\n          send: sendClosure\n        };\n      }\n      window.PyViz.comms[comm_id] = comm;\n      return comm;\n    }\n    window.PyViz.comm_manager = new JupyterCommManager();\n    \n\n\nvar JS_MIME_TYPE = 'application/javascript';\nvar HTML_MIME_TYPE = 'text/html';\nvar EXEC_MIME_TYPE = 'application/vnd.holoviews_exec.v0+json';\nvar CLASS_NAME = 'output';\n\n/**\n * Render data to the DOM node\n */\nfunction render(props, node) {\n  var div = document.createElement(\"div\");\n  var script = document.createElement(\"script\");\n  node.appendChild(div);\n  node.appendChild(script);\n}\n\n/**\n * Handle when a new output is added\n */\nfunction handle_add_output(event, handle) {\n  var output_area = handle.output_area;\n  var output = handle.output;\n  if ((output.data == undefined) || (!output.data.hasOwnProperty(EXEC_MIME_TYPE))) {\n    return\n  }\n  var id = output.metadata[EXEC_MIME_TYPE][\"id\"];\n  var toinsert = output_area.element.find(\".\" + CLASS_NAME.split(' ')[0]);\n  if (id !== undefined) {\n    var nchildren = toinsert.length;\n    var html_node = toinsert[nchildren-1].children[0];\n    html_node.innerHTML = output.data[HTML_MIME_TYPE];\n    var scripts = [];\n    var nodelist = html_node.querySelectorAll(\"script\");\n    for (var i in nodelist) {\n      if (nodelist.hasOwnProperty(i)) {\n        scripts.push(nodelist[i])\n      }\n    }\n\n    scripts.forEach( function (oldScript) {\n      var newScript = document.createElement(\"script\");\n      var attrs = [];\n      var nodemap = oldScript.attributes;\n      for (var j in nodemap) {\n        if (nodemap.hasOwnProperty(j)) {\n          attrs.push(nodemap[j])\n        }\n      }\n      attrs.forEach(function(attr) { newScript.setAttribute(attr.name, attr.value) });\n      newScript.appendChild(document.createTextNode(oldScript.innerHTML));\n      oldScript.parentNode.replaceChild(newScript, oldScript);\n    });\n    if (JS_MIME_TYPE in output.data) {\n      toinsert[nchildren-1].children[1].textContent = output.data[JS_MIME_TYPE];\n    }\n    output_area._hv_plot_id = id;\n    if ((window.Bokeh !== undefined) && (id in Bokeh.index)) {\n      window.PyViz.plot_index[id] = Bokeh.index[id];\n    } else {\n      window.PyViz.plot_index[id] = null;\n    }\n  } else if (output.metadata[EXEC_MIME_TYPE][\"server_id\"] !== undefined) {\n    var bk_div = document.createElement(\"div\");\n    bk_div.innerHTML = output.data[HTML_MIME_TYPE];\n    var script_attrs = bk_div.children[0].attributes;\n    for (var i = 0; i < script_attrs.length; i++) {\n      toinsert[toinsert.length - 1].childNodes[1].setAttribute(script_attrs[i].name, script_attrs[i].value);\n    }\n    // store reference to server id on output_area\n    output_area._bokeh_server_id = output.metadata[EXEC_MIME_TYPE][\"server_id\"];\n  }\n}\n\n/**\n * Handle when an output is cleared or removed\n */\nfunction handle_clear_output(event, handle) {\n  var id = handle.cell.output_area._hv_plot_id;\n  var server_id = handle.cell.output_area._bokeh_server_id;\n  if (((id === undefined) || !(id in PyViz.plot_index)) && (server_id !== undefined)) { return; }\n  var comm = window.PyViz.comm_manager.get_client_comm(\"hv-extension-comm\", \"hv-extension-comm\", function () {});\n  if (server_id !== null) {\n    comm.send({event_type: 'server_delete', 'id': server_id});\n    return;\n  } else if (comm !== null) {\n    comm.send({event_type: 'delete', 'id': id});\n  }\n  delete PyViz.plot_index[id];\n  if ((window.Bokeh !== undefined) & (id in window.Bokeh.index)) {\n    var doc = window.Bokeh.index[id].model.document\n    doc.clear();\n    const i = window.Bokeh.documents.indexOf(doc);\n    if (i > -1) {\n      window.Bokeh.documents.splice(i, 1);\n    }\n  }\n}\n\n/**\n * Handle kernel restart event\n */\nfunction handle_kernel_cleanup(event, handle) {\n  delete PyViz.comms[\"hv-extension-comm\"];\n  window.PyViz.plot_index = {}\n}\n\n/**\n * Handle update_display_data messages\n */\nfunction handle_update_output(event, handle) {\n  handle_clear_output(event, {cell: {output_area: handle.output_area}})\n  handle_add_output(event, handle)\n}\n\nfunction register_renderer(events, OutputArea) {\n  function append_mime(data, metadata, element) {\n    // create a DOM node to render to\n    var toinsert = this.create_output_subarea(\n    metadata,\n    CLASS_NAME,\n    EXEC_MIME_TYPE\n    );\n    this.keyboard_manager.register_events(toinsert);\n    // Render to node\n    var props = {data: data, metadata: metadata[EXEC_MIME_TYPE]};\n    render(props, toinsert[0]);\n    element.append(toinsert);\n    return toinsert\n  }\n\n  events.on('output_added.OutputArea', handle_add_output);\n  events.on('output_updated.OutputArea', handle_update_output);\n  events.on('clear_output.CodeCell', handle_clear_output);\n  events.on('delete.Cell', handle_clear_output);\n  events.on('kernel_ready.Kernel', handle_kernel_cleanup);\n\n  OutputArea.prototype.register_mime_type(EXEC_MIME_TYPE, append_mime, {\n    safe: true,\n    index: 0\n  });\n}\n\nif (window.Jupyter !== undefined) {\n  try {\n    var events = require('base/js/events');\n    var OutputArea = require('notebook/js/outputarea').OutputArea;\n    if (OutputArea.prototype.mime_types().indexOf(EXEC_MIME_TYPE) == -1) {\n      register_renderer(events, OutputArea);\n    }\n  } catch(err) {\n  }\n}\n",
      "application/vnd.holoviews_load.v0+json": ""
     },
     "metadata": {},
     "output_type": "display_data"
    },
    {
     "data": {
      "application/vnd.holoviews_exec.v0+json": "",
      "text/html": [
       "<div id='a8f0ac99-c8e0-4d49-8178-013073b9d147'>\n",
       "  <div id=\"b10e9eea-7142-41e2-915a-326161c11cae\" data-root-id=\"a8f0ac99-c8e0-4d49-8178-013073b9d147\" style=\"display: contents;\"></div>\n",
       "</div>\n",
       "<script type=\"application/javascript\">(function(root) {\n",
       "  var docs_json = {\"8996aae9-37cd-476f-97cd-2fedf39243eb\":{\"version\":\"3.7.2\",\"title\":\"Bokeh Application\",\"roots\":[{\"type\":\"object\",\"name\":\"panel.models.browser.BrowserInfo\",\"id\":\"a8f0ac99-c8e0-4d49-8178-013073b9d147\"},{\"type\":\"object\",\"name\":\"panel.models.comm_manager.CommManager\",\"id\":\"74c3321f-4054-4f63-bded-d575297b3679\",\"attributes\":{\"plot_id\":\"a8f0ac99-c8e0-4d49-8178-013073b9d147\",\"comm_id\":\"c551aa3296e243e996f85bab980d16b2\",\"client_comm_id\":\"e95a511726b142bab625aeb8e4f28f31\"}}],\"defs\":[{\"type\":\"model\",\"name\":\"ReactiveHTML1\"},{\"type\":\"model\",\"name\":\"FlexBox1\",\"properties\":[{\"name\":\"align_content\",\"kind\":\"Any\",\"default\":\"flex-start\"},{\"name\":\"align_items\",\"kind\":\"Any\",\"default\":\"flex-start\"},{\"name\":\"flex_direction\",\"kind\":\"Any\",\"default\":\"row\"},{\"name\":\"flex_wrap\",\"kind\":\"Any\",\"default\":\"wrap\"},{\"name\":\"gap\",\"kind\":\"Any\",\"default\":\"\"},{\"name\":\"justify_content\",\"kind\":\"Any\",\"default\":\"flex-start\"}]},{\"type\":\"model\",\"name\":\"FloatPanel1\",\"properties\":[{\"name\":\"config\",\"kind\":\"Any\",\"default\":{\"type\":\"map\"}},{\"name\":\"contained\",\"kind\":\"Any\",\"default\":true},{\"name\":\"position\",\"kind\":\"Any\",\"default\":\"right-top\"},{\"name\":\"offsetx\",\"kind\":\"Any\",\"default\":null},{\"name\":\"offsety\",\"kind\":\"Any\",\"default\":null},{\"name\":\"theme\",\"kind\":\"Any\",\"default\":\"primary\"},{\"name\":\"status\",\"kind\":\"Any\",\"default\":\"normalized\"}]},{\"type\":\"model\",\"name\":\"GridStack1\",\"properties\":[{\"name\":\"ncols\",\"kind\":\"Any\",\"default\":null},{\"name\":\"nrows\",\"kind\":\"Any\",\"default\":null},{\"name\":\"allow_resize\",\"kind\":\"Any\",\"default\":true},{\"name\":\"allow_drag\",\"kind\":\"Any\",\"default\":true},{\"name\":\"state\",\"kind\":\"Any\",\"default\":[]}]},{\"type\":\"model\",\"name\":\"drag1\",\"properties\":[{\"name\":\"slider_width\",\"kind\":\"Any\",\"default\":5},{\"name\":\"slider_color\",\"kind\":\"Any\",\"default\":\"black\"},{\"name\":\"value\",\"kind\":\"Any\",\"default\":50}]},{\"type\":\"model\",\"name\":\"click1\",\"properties\":[{\"name\":\"terminal_output\",\"kind\":\"Any\",\"default\":\"\"},{\"name\":\"debug_name\",\"kind\":\"Any\",\"default\":\"\"},{\"name\":\"clears\",\"kind\":\"Any\",\"default\":0}]},{\"type\":\"model\",\"name\":\"FastWrapper1\",\"properties\":[{\"name\":\"object\",\"kind\":\"Any\",\"default\":null},{\"name\":\"style\",\"kind\":\"Any\",\"default\":null}]},{\"type\":\"model\",\"name\":\"NotificationArea1\",\"properties\":[{\"name\":\"js_events\",\"kind\":\"Any\",\"default\":{\"type\":\"map\"}},{\"name\":\"max_notifications\",\"kind\":\"Any\",\"default\":5},{\"name\":\"notifications\",\"kind\":\"Any\",\"default\":[]},{\"name\":\"position\",\"kind\":\"Any\",\"default\":\"bottom-right\"},{\"name\":\"_clear\",\"kind\":\"Any\",\"default\":0},{\"name\":\"types\",\"kind\":\"Any\",\"default\":[{\"type\":\"map\",\"entries\":[[\"type\",\"warning\"],[\"background\",\"#ffc107\"],[\"icon\",{\"type\":\"map\",\"entries\":[[\"className\",\"fas fa-exclamation-triangle\"],[\"tagName\",\"i\"],[\"color\",\"white\"]]}]]},{\"type\":\"map\",\"entries\":[[\"type\",\"info\"],[\"background\",\"#007bff\"],[\"icon\",{\"type\":\"map\",\"entries\":[[\"className\",\"fas fa-info-circle\"],[\"tagName\",\"i\"],[\"color\",\"white\"]]}]]}]}]},{\"type\":\"model\",\"name\":\"Notification\",\"properties\":[{\"name\":\"background\",\"kind\":\"Any\",\"default\":null},{\"name\":\"duration\",\"kind\":\"Any\",\"default\":3000},{\"name\":\"icon\",\"kind\":\"Any\",\"default\":null},{\"name\":\"message\",\"kind\":\"Any\",\"default\":\"\"},{\"name\":\"notification_type\",\"kind\":\"Any\",\"default\":null},{\"name\":\"_rendered\",\"kind\":\"Any\",\"default\":false},{\"name\":\"_destroyed\",\"kind\":\"Any\",\"default\":false}]},{\"type\":\"model\",\"name\":\"TemplateActions1\",\"properties\":[{\"name\":\"open_modal\",\"kind\":\"Any\",\"default\":0},{\"name\":\"close_modal\",\"kind\":\"Any\",\"default\":0}]},{\"type\":\"model\",\"name\":\"BootstrapTemplateActions1\",\"properties\":[{\"name\":\"open_modal\",\"kind\":\"Any\",\"default\":0},{\"name\":\"close_modal\",\"kind\":\"Any\",\"default\":0}]},{\"type\":\"model\",\"name\":\"TemplateEditor1\",\"properties\":[{\"name\":\"layout\",\"kind\":\"Any\",\"default\":[]}]},{\"type\":\"model\",\"name\":\"MaterialTemplateActions1\",\"properties\":[{\"name\":\"open_modal\",\"kind\":\"Any\",\"default\":0},{\"name\":\"close_modal\",\"kind\":\"Any\",\"default\":0}]},{\"type\":\"model\",\"name\":\"ReactiveESM1\",\"properties\":[{\"name\":\"esm_constants\",\"kind\":\"Any\",\"default\":{\"type\":\"map\"}}]},{\"type\":\"model\",\"name\":\"JSComponent1\",\"properties\":[{\"name\":\"esm_constants\",\"kind\":\"Any\",\"default\":{\"type\":\"map\"}}]},{\"type\":\"model\",\"name\":\"ReactComponent1\",\"properties\":[{\"name\":\"esm_constants\",\"kind\":\"Any\",\"default\":{\"type\":\"map\"}}]},{\"type\":\"model\",\"name\":\"AnyWidgetComponent1\",\"properties\":[{\"name\":\"esm_constants\",\"kind\":\"Any\",\"default\":{\"type\":\"map\"}}]},{\"type\":\"model\",\"name\":\"request_value1\",\"properties\":[{\"name\":\"fill\",\"kind\":\"Any\",\"default\":\"none\"},{\"name\":\"_synced\",\"kind\":\"Any\",\"default\":null},{\"name\":\"_request_sync\",\"kind\":\"Any\",\"default\":0}]}]}};\n",
       "  var render_items = [{\"docid\":\"8996aae9-37cd-476f-97cd-2fedf39243eb\",\"roots\":{\"a8f0ac99-c8e0-4d49-8178-013073b9d147\":\"b10e9eea-7142-41e2-915a-326161c11cae\"},\"root_ids\":[\"a8f0ac99-c8e0-4d49-8178-013073b9d147\"]}];\n",
       "  var docs = Object.values(docs_json)\n",
       "  if (!docs) {\n",
       "    return\n",
       "  }\n",
       "  const py_version = docs[0].version.replace('rc', '-rc.').replace('.dev', '-dev.')\n",
       "  async function embed_document(root) {\n",
       "    var Bokeh = get_bokeh(root)\n",
       "    await Bokeh.embed.embed_items_notebook(docs_json, render_items);\n",
       "    for (const render_item of render_items) {\n",
       "      for (const root_id of render_item.root_ids) {\n",
       "\tconst id_el = document.getElementById(root_id)\n",
       "\tif (id_el.children.length && id_el.children[0].hasAttribute('data-root-id')) {\n",
       "\t  const root_el = id_el.children[0]\n",
       "\t  root_el.id = root_el.id + '-rendered'\n",
       "\t  for (const child of root_el.children) {\n",
       "            // Ensure JupyterLab does not capture keyboard shortcuts\n",
       "            // see: https://jupyterlab.readthedocs.io/en/4.1.x/extension/notebook.html#keyboard-interaction-model\n",
       "\t    child.setAttribute('data-lm-suppress-shortcuts', 'true')\n",
       "\t  }\n",
       "\t}\n",
       "      }\n",
       "    }\n",
       "  }\n",
       "  function get_bokeh(root) {\n",
       "    if (root.Bokeh === undefined) {\n",
       "      return null\n",
       "    } else if (root.Bokeh.version !== py_version) {\n",
       "      if (root.Bokeh.versions === undefined || !root.Bokeh.versions.has(py_version)) {\n",
       "\treturn null\n",
       "      }\n",
       "      return root.Bokeh.versions.get(py_version);\n",
       "    } else if (root.Bokeh.version === py_version) {\n",
       "      return root.Bokeh\n",
       "    }\n",
       "    return null\n",
       "  }\n",
       "  function is_loaded(root) {\n",
       "    var Bokeh = get_bokeh(root)\n",
       "    return (Bokeh != null && Bokeh.Panel !== undefined)\n",
       "  }\n",
       "  if (is_loaded(root)) {\n",
       "    embed_document(root);\n",
       "  } else {\n",
       "    var attempts = 0;\n",
       "    var timer = setInterval(function(root) {\n",
       "      if (is_loaded(root)) {\n",
       "        clearInterval(timer);\n",
       "        embed_document(root);\n",
       "      } else if (document.readyState == \"complete\") {\n",
       "        attempts++;\n",
       "        if (attempts > 200) {\n",
       "          clearInterval(timer);\n",
       "\t  var Bokeh = get_bokeh(root)\n",
       "\t  if (Bokeh == null || Bokeh.Panel == null) {\n",
       "            console.warn(\"Panel: ERROR: Unable to run Panel code because Bokeh or Panel library is missing\");\n",
       "\t  } else {\n",
       "\t    console.warn(\"Panel: WARNING: Attempting to render but not all required libraries could be resolved.\")\n",
       "\t    embed_document(root)\n",
       "\t  }\n",
       "        }\n",
       "      }\n",
       "    }, 25, root)\n",
       "  }\n",
       "})(window);</script>"
      ]
     },
     "metadata": {
      "application/vnd.holoviews_exec.v0+json": {
       "id": "a8f0ac99-c8e0-4d49-8178-013073b9d147"
      }
     },
     "output_type": "display_data"
    }
   ],
   "source": [
    "from bs4 import BeautifulSoup\n",
    "# import pandas as pd\n",
    "from datetime import datetime, timedelta\n",
    "from itertools import combinations\n",
    "import json\n",
    "import requests\n",
    "import math\n",
    "from typing import Optional, List, Dict\n",
    "import os\n",
    "\n",
    "from pydantic import BaseModel\n",
    "from typing import Mapping\n",
    "import numpy as np\n",
    "import polars as pl\n",
    "import hvplot.polars\n",
    "import pandas as pd\n",
    "import altair as alt\n",
    "import math\n",
    "\n",
    "from shared.utils import formalize_data_with_str\n",
    "from shared.random_rules import RandomRules"
   ]
  },
  {
   "cell_type": "code",
   "execution_count": 2,
   "metadata": {},
   "outputs": [],
   "source": [
    "rr = RandomRules(\n",
    "  TOTAL_NUMBERS = 40,\n",
    "  CHOOSE = 6,\n",
    "  MAX_PRIMES = 3,\n",
    "  N_VALUES=[\"1\", \"2\", \"3\"],\n",
    "  # Rangos de valores de las bolillas\n",
    "  MIN_B_VALUES = [1, 2, 3, 4, 5, 6],\n",
    "  MAX_B_VALUES = [35, 36, 37, 38, 39, 40]\n",
    ")\n"
   ]
  },
  {
   "cell_type": "code",
   "execution_count": 3,
   "metadata": {},
   "outputs": [],
   "source": [
    "url = 'https://resultados.latinka.com.pe/i.do?m=historico&t=0&s=42'\n",
    "response = requests.get(url)\n",
    "soup = BeautifulSoup(response.text, 'html.parser')\n",
    "\n",
    "tables = soup.select('table')\n",
    "rows = tables[1].find_all('tr')"
   ]
  },
  {
   "cell_type": "code",
   "execution_count": 4,
   "metadata": {},
   "outputs": [
    {
     "name": "stdout",
     "output_type": "stream",
     "text": [
      "TOTAL_LINES=5350\n"
     ]
    },
    {
     "data": {
      "text/html": [
       "<div><style>\n",
       ".dataframe > thead > tr,\n",
       ".dataframe > tbody > tr {\n",
       "  text-align: right;\n",
       "  white-space: pre-wrap;\n",
       "}\n",
       "</style>\n",
       "<small>shape: (10, 30)</small><table border=\"1\" class=\"dataframe\"><thead><tr><th>fecha</th><th>sorteo</th><th>bolillas regulares</th><th>bolillas chauchamba</th><th>cc1</th><th>cc2</th><th>id</th><th>combo</th><th>b1</th><th>b2</th><th>b3</th><th>b4</th><th>b5</th><th>b6</th><th>str_b1</th><th>str_b2</th><th>str_b3</th><th>str_b4</th><th>str_b5</th><th>str_b6</th><th>post_str_b1</th><th>post_str_b2</th><th>post_str_b3</th><th>post_str_b4</th><th>post_str_b5</th><th>post_str_blast</th><th>is_rare_combination</th><th>reason</th><th>jumps_map</th><th>unijump</th></tr><tr><td>str</td><td>str</td><td>str</td><td>str</td><td>str</td><td>str</td><td>str</td><td>array[u8, 6]</td><td>u8</td><td>u8</td><td>u8</td><td>u8</td><td>u8</td><td>u8</td><td>str</td><td>str</td><td>str</td><td>str</td><td>str</td><td>str</td><td>str</td><td>str</td><td>str</td><td>str</td><td>str</td><td>str</td><td>bool</td><td>u8</td><td>str</td><td>i64</td></tr></thead><tbody><tr><td>&quot;08/07/2025&quot;</td><td>&quot;1831&quot;</td><td>&quot;39 30 04 09 38 02&quot;</td><td>&quot;10 11 06 28 04 40&quot;</td><td>&quot;&quot;</td><td>&quot;&quot;</td><td>&quot;020409303839&quot;</td><td>[2, 4, … 39]</td><td>2</td><td>4</td><td>9</td><td>30</td><td>38</td><td>39</td><td>&quot;02&quot;</td><td>&quot;04&quot;</td><td>&quot;09&quot;</td><td>&quot;30&quot;</td><td>&quot;38&quot;</td><td>&quot;39&quot;</td><td>null</td><td>null</td><td>null</td><td>null</td><td>null</td><td>null</td><td>true</td><td>16</td><td>&quot;02_05_21_08_01&quot;</td><td>77</td></tr><tr><td>&quot;08/07/2025&quot;</td><td>&quot;1831&quot;</td><td>&quot;39 30 04 09 38 02&quot;</td><td>&quot;10 11 06 28 04 40&quot;</td><td>&quot;&quot;</td><td>&quot;&quot;</td><td>&quot;020409303839&quot;</td><td>[2, 4, … 39]</td><td>2</td><td>4</td><td>9</td><td>30</td><td>38</td><td>39</td><td>&quot;02&quot;</td><td>&quot;04&quot;</td><td>&quot;09&quot;</td><td>&quot;30&quot;</td><td>&quot;38&quot;</td><td>&quot;39&quot;</td><td>&quot;02&quot;</td><td>&quot;04&quot;</td><td>&quot;09&quot;</td><td>&quot;30&quot;</td><td>&quot;38&quot;</td><td>&quot;39&quot;</td><td>true</td><td>16</td><td>&quot;02_05_21_08_01&quot;</td><td>77</td></tr><tr><td>&quot;05/07/2025&quot;</td><td>&quot;1830&quot;</td><td>&quot;30 18 09 20 26 10&quot;</td><td>&quot;33 23 16 25 03 05&quot;</td><td>&quot;&quot;</td><td>&quot;&quot;</td><td>&quot;091018202630&quot;</td><td>[9, 10, … 30]</td><td>9</td><td>10</td><td>18</td><td>20</td><td>26</td><td>30</td><td>&quot;09&quot;</td><td>&quot;10&quot;</td><td>&quot;18&quot;</td><td>&quot;20&quot;</td><td>&quot;26&quot;</td><td>&quot;30&quot;</td><td>&quot;02&quot;</td><td>&quot;04&quot;</td><td>&quot;09&quot;</td><td>&quot;30&quot;</td><td>&quot;38&quot;</td><td>&quot;39&quot;</td><td>false</td><td>0</td><td>&quot;01_08_02_06_04&quot;</td><td>-39</td></tr><tr><td>&quot;05/07/2025&quot;</td><td>&quot;1830&quot;</td><td>&quot;30 18 09 20 26 10&quot;</td><td>&quot;33 23 16 25 03 05&quot;</td><td>&quot;&quot;</td><td>&quot;&quot;</td><td>&quot;091018202630&quot;</td><td>[9, 10, … 30]</td><td>9</td><td>10</td><td>18</td><td>20</td><td>26</td><td>30</td><td>&quot;09&quot;</td><td>&quot;10&quot;</td><td>&quot;18&quot;</td><td>&quot;20&quot;</td><td>&quot;26&quot;</td><td>&quot;30&quot;</td><td>&quot;09&quot;</td><td>&quot;10&quot;</td><td>&quot;18&quot;</td><td>&quot;20&quot;</td><td>&quot;26&quot;</td><td>&quot;30&quot;</td><td>false</td><td>0</td><td>&quot;01_08_02_06_04&quot;</td><td>-39</td></tr><tr><td>&quot;03/07/2025&quot;</td><td>&quot;1829&quot;</td><td>&quot;09 03 20 35 15 27&quot;</td><td>&quot;27 14 06 13 34 08&quot;</td><td>&quot;&quot;</td><td>&quot;&quot;</td><td>&quot;030915202735&quot;</td><td>[3, 9, … 35]</td><td>3</td><td>9</td><td>15</td><td>20</td><td>27</td><td>35</td><td>&quot;03&quot;</td><td>&quot;09&quot;</td><td>&quot;15&quot;</td><td>&quot;20&quot;</td><td>&quot;27&quot;</td><td>&quot;35&quot;</td><td>&quot;09&quot;</td><td>&quot;10&quot;</td><td>&quot;18&quot;</td><td>&quot;20&quot;</td><td>&quot;26&quot;</td><td>&quot;30&quot;</td><td>true</td><td>8</td><td>&quot;06_06_05_07_08&quot;</td><td>-8</td></tr><tr><td>&quot;03/07/2025&quot;</td><td>&quot;1829&quot;</td><td>&quot;09 03 20 35 15 27&quot;</td><td>&quot;27 14 06 13 34 08&quot;</td><td>&quot;&quot;</td><td>&quot;&quot;</td><td>&quot;030915202735&quot;</td><td>[3, 9, … 35]</td><td>3</td><td>9</td><td>15</td><td>20</td><td>27</td><td>35</td><td>&quot;03&quot;</td><td>&quot;09&quot;</td><td>&quot;15&quot;</td><td>&quot;20&quot;</td><td>&quot;27&quot;</td><td>&quot;35&quot;</td><td>&quot;03&quot;</td><td>&quot;09&quot;</td><td>&quot;15&quot;</td><td>&quot;20&quot;</td><td>&quot;27&quot;</td><td>&quot;35&quot;</td><td>true</td><td>8</td><td>&quot;06_06_05_07_08&quot;</td><td>-8</td></tr><tr><td>&quot;01/07/2025&quot;</td><td>&quot;1828&quot;</td><td>&quot;16 38 01 26 33 34&quot;</td><td>&quot;23 16 02 27 28 14&quot;</td><td>&quot;&quot;</td><td>&quot;&quot;</td><td>&quot;011626333438&quot;</td><td>[1, 16, … 38]</td><td>1</td><td>16</td><td>26</td><td>33</td><td>34</td><td>38</td><td>&quot;01&quot;</td><td>&quot;16&quot;</td><td>&quot;26&quot;</td><td>&quot;33&quot;</td><td>&quot;34&quot;</td><td>&quot;38&quot;</td><td>&quot;03&quot;</td><td>&quot;09&quot;</td><td>&quot;15&quot;</td><td>&quot;20&quot;</td><td>&quot;27&quot;</td><td>&quot;35&quot;</td><td>false</td><td>0</td><td>&quot;15_10_07_01_04&quot;</td><td>17</td></tr><tr><td>&quot;01/07/2025&quot;</td><td>&quot;1828&quot;</td><td>&quot;16 38 01 26 33 34&quot;</td><td>&quot;23 16 02 27 28 14&quot;</td><td>&quot;&quot;</td><td>&quot;&quot;</td><td>&quot;011626333438&quot;</td><td>[1, 16, … 38]</td><td>1</td><td>16</td><td>26</td><td>33</td><td>34</td><td>38</td><td>&quot;01&quot;</td><td>&quot;16&quot;</td><td>&quot;26&quot;</td><td>&quot;33&quot;</td><td>&quot;34&quot;</td><td>&quot;38&quot;</td><td>&quot;01&quot;</td><td>&quot;16&quot;</td><td>&quot;26&quot;</td><td>&quot;33&quot;</td><td>&quot;34&quot;</td><td>&quot;38&quot;</td><td>false</td><td>0</td><td>&quot;15_10_07_01_04&quot;</td><td>17</td></tr><tr><td>&quot;28/06/2025&quot;</td><td>&quot;1827&quot;</td><td>&quot;04 16 21 30 19 32&quot;</td><td>&quot;16 27 09 21 39 37&quot;</td><td>&quot;&quot;</td><td>&quot;&quot;</td><td>&quot;041619213032&quot;</td><td>[4, 16, … 32]</td><td>4</td><td>16</td><td>19</td><td>21</td><td>30</td><td>32</td><td>&quot;04&quot;</td><td>&quot;16&quot;</td><td>&quot;19&quot;</td><td>&quot;21&quot;</td><td>&quot;30&quot;</td><td>&quot;32&quot;</td><td>&quot;01&quot;</td><td>&quot;16&quot;</td><td>&quot;26&quot;</td><td>&quot;33&quot;</td><td>&quot;34&quot;</td><td>&quot;38&quot;</td><td>false</td><td>0</td><td>&quot;12_03_02_09_02&quot;</td><td>-22</td></tr><tr><td>&quot;28/06/2025&quot;</td><td>&quot;1827&quot;</td><td>&quot;04 16 21 30 19 32&quot;</td><td>&quot;16 27 09 21 39 37&quot;</td><td>&quot;&quot;</td><td>&quot;&quot;</td><td>&quot;041619213032&quot;</td><td>[4, 16, … 32]</td><td>4</td><td>16</td><td>19</td><td>21</td><td>30</td><td>32</td><td>&quot;04&quot;</td><td>&quot;16&quot;</td><td>&quot;19&quot;</td><td>&quot;21&quot;</td><td>&quot;30&quot;</td><td>&quot;32&quot;</td><td>&quot;04&quot;</td><td>&quot;16&quot;</td><td>&quot;19&quot;</td><td>&quot;21&quot;</td><td>&quot;30&quot;</td><td>&quot;32&quot;</td><td>false</td><td>0</td><td>&quot;12_03_02_09_02&quot;</td><td>-22</td></tr></tbody></table></div>"
      ],
      "text/plain": [
       "shape: (10, 30)\n",
       "┌────────────┬────────┬─────────────┬─────────────┬───┬────────────┬────────┬────────────┬─────────┐\n",
       "│ fecha      ┆ sorteo ┆ bolillas    ┆ bolillas    ┆ … ┆ is_rare_co ┆ reason ┆ jumps_map  ┆ unijump │\n",
       "│ ---        ┆ ---    ┆ regulares   ┆ chauchamba  ┆   ┆ mbination  ┆ ---    ┆ ---        ┆ ---     │\n",
       "│ str        ┆ str    ┆ ---         ┆ ---         ┆   ┆ ---        ┆ u8     ┆ str        ┆ i64     │\n",
       "│            ┆        ┆ str         ┆ str         ┆   ┆ bool       ┆        ┆            ┆         │\n",
       "╞════════════╪════════╪═════════════╪═════════════╪═══╪════════════╪════════╪════════════╪═════════╡\n",
       "│ 08/07/2025 ┆ 1831   ┆ 39 30 04 09 ┆ 10 11 06 28 ┆ … ┆ true       ┆ 16     ┆ 02_05_21_0 ┆ 77      │\n",
       "│            ┆        ┆ 38 02       ┆ 04 40       ┆   ┆            ┆        ┆ 8_01       ┆         │\n",
       "│ 08/07/2025 ┆ 1831   ┆ 39 30 04 09 ┆ 10 11 06 28 ┆ … ┆ true       ┆ 16     ┆ 02_05_21_0 ┆ 77      │\n",
       "│            ┆        ┆ 38 02       ┆ 04 40       ┆   ┆            ┆        ┆ 8_01       ┆         │\n",
       "│ 05/07/2025 ┆ 1830   ┆ 30 18 09 20 ┆ 33 23 16 25 ┆ … ┆ false      ┆ 0      ┆ 01_08_02_0 ┆ -39     │\n",
       "│            ┆        ┆ 26 10       ┆ 03 05       ┆   ┆            ┆        ┆ 6_04       ┆         │\n",
       "│ 05/07/2025 ┆ 1830   ┆ 30 18 09 20 ┆ 33 23 16 25 ┆ … ┆ false      ┆ 0      ┆ 01_08_02_0 ┆ -39     │\n",
       "│            ┆        ┆ 26 10       ┆ 03 05       ┆   ┆            ┆        ┆ 6_04       ┆         │\n",
       "│ 03/07/2025 ┆ 1829   ┆ 09 03 20 35 ┆ 27 14 06 13 ┆ … ┆ true       ┆ 8      ┆ 06_06_05_0 ┆ -8      │\n",
       "│            ┆        ┆ 15 27       ┆ 34 08       ┆   ┆            ┆        ┆ 7_08       ┆         │\n",
       "│ 03/07/2025 ┆ 1829   ┆ 09 03 20 35 ┆ 27 14 06 13 ┆ … ┆ true       ┆ 8      ┆ 06_06_05_0 ┆ -8      │\n",
       "│            ┆        ┆ 15 27       ┆ 34 08       ┆   ┆            ┆        ┆ 7_08       ┆         │\n",
       "│ 01/07/2025 ┆ 1828   ┆ 16 38 01 26 ┆ 23 16 02 27 ┆ … ┆ false      ┆ 0      ┆ 15_10_07_0 ┆ 17      │\n",
       "│            ┆        ┆ 33 34       ┆ 28 14       ┆   ┆            ┆        ┆ 1_04       ┆         │\n",
       "│ 01/07/2025 ┆ 1828   ┆ 16 38 01 26 ┆ 23 16 02 27 ┆ … ┆ false      ┆ 0      ┆ 15_10_07_0 ┆ 17      │\n",
       "│            ┆        ┆ 33 34       ┆ 28 14       ┆   ┆            ┆        ┆ 1_04       ┆         │\n",
       "│ 28/06/2025 ┆ 1827   ┆ 04 16 21 30 ┆ 16 27 09 21 ┆ … ┆ false      ┆ 0      ┆ 12_03_02_0 ┆ -22     │\n",
       "│            ┆        ┆ 19 32       ┆ 39 37       ┆   ┆            ┆        ┆ 9_02       ┆         │\n",
       "│ 28/06/2025 ┆ 1827   ┆ 04 16 21 30 ┆ 16 27 09 21 ┆ … ┆ false      ┆ 0      ┆ 12_03_02_0 ┆ -22     │\n",
       "│            ┆        ┆ 19 32       ┆ 39 37       ┆   ┆            ┆        ┆ 9_02       ┆         │\n",
       "└────────────┴────────┴─────────────┴─────────────┴───┴────────────┴────────┴────────────┴─────────┘"
      ]
     },
     "metadata": {},
     "output_type": "display_data"
    }
   ],
   "source": [
    "lst = []\n",
    "post_str_b1 = None\n",
    "post_str_b2 = None\n",
    "post_str_b3 = None\n",
    "post_str_b4 = None\n",
    "post_str_b5 = None\n",
    "post_str_blast = None\n",
    "for row in rows:\n",
    "  for col_index in [2, 3]:\n",
    "    cols = [data.text.strip() for data in row.find_all('td')]\n",
    "    if (cols[col_index] == ''):\n",
    "      continue\n",
    "\n",
    "    # cols = [data.text.strip() for data in row.find_all('td')]\n",
    "    \n",
    "    id, bolillas_int, str_combo = formalize_data_with_str(bolillas_str=cols[2])\n",
    "    cols.append(id)\n",
    "    cols.append(bolillas_int)\n",
    "    cols.extend([b for b in bolillas_int])\n",
    "    cols.extend(str_combo)\n",
    "    cols.append(post_str_b1)\n",
    "    cols.append(post_str_b2)\n",
    "    cols.append(post_str_b3)\n",
    "    cols.append(post_str_b4)\n",
    "    cols.append(post_str_b5)\n",
    "    cols.append(post_str_blast)\n",
    "\n",
    "    is_rare, reason = rr.is_rare_combination(bolillas_int, id)\n",
    "    cols.append(is_rare)\n",
    "    cols.append(reason)\n",
    "\n",
    "    cols.append(rr.jumps_map(bolillas_int))\n",
    "    cols.append(rr.unijump(bolillas_int))\n",
    "    \n",
    "    lst.append(cols)\n",
    "\n",
    "    post_str_b1 = str_combo[0]\n",
    "    post_str_b2 = str_combo[1]\n",
    "    post_str_b3 = str_combo[2]\n",
    "    post_str_b4 = str_combo[3]\n",
    "    post_str_b5 = str_combo[4]\n",
    "    post_str_blast = str_combo[-1]\n",
    "\n",
    "\n",
    "\n",
    "# lst = []\n",
    "# for row in rows:\n",
    "  \n",
    "  \n",
    "#   for col_index in [2, 3]:\n",
    "#     cols = [data.text.strip() for data in row.find_all('td')]\n",
    "#     if (cols[col_index] == ''):\n",
    "#       continue\n",
    "  \n",
    "#     id, bolillas_int = formalize_data(bolillas_str=cols[col_index])\n",
    "#     cols.append(id)\n",
    "#     cols.append(bolillas_int)\n",
    "#     cols.extend([b for b in bolillas_int])\n",
    "    \n",
    "#     is_rare, reason = rr.is_rare_combination(bolillas_int, id)\n",
    "#     cols.append(is_rare)\n",
    "#     cols.append(reason)\n",
    "#     left_scores = [round(b, 4) for b in rr.calculate_left_scores(bolillas_int)]\n",
    "\n",
    "#     right_scores = [round(b, 4) for b in rr.calculate_right_scores(bolillas_int)]\n",
    "#     lr_scores = [round(left + right,4) for left, right in zip(left_scores, right_scores)]\n",
    "#     row_score = round(sum(lr_scores),4)\n",
    "\n",
    "#     shared_values = list(set(left_scores[0:5]) & set(right_scores[1:6]))\n",
    "#     shared_values = [round(s, 4) for s in shared_values]\n",
    "#     cols.extend([score for score in left_scores])\n",
    "#     cols.extend([score for score in right_scores])\n",
    "#     # cols.extend(lr_scores)\n",
    "#     cols.append(shared_values)\n",
    "#     cols.append(len(shared_values))\n",
    "#     cols.append(row_score)\n",
    "#     cols.append(rr.jumps_map(bolillas_int))\n",
    "#     cols.append(rr.unijump(bolillas_int))\n",
    "    \n",
    "#     lst.append(cols)\n",
    "\n",
    "with open('./kbl_cache_v3.json', 'w') as file: \n",
    "  json.dump(lst, file)\n",
    "\n",
    "dfRows = pl.DataFrame(\n",
    "  lst,\n",
    "  schema=[\n",
    "    'fecha', 'sorteo', 'bolillas regulares', 'bolillas chauchamba', 'cc1', 'cc2',\n",
    "    'id', 'combo', 'b1', 'b2', 'b3', 'b4', 'b5', 'b6',\n",
    "    'str_b1', 'str_b2', 'str_b3', 'str_b4', 'str_b5', 'str_b6',\n",
    "    'post_str_b1', 'post_str_b2', 'post_str_b3', 'post_str_b4', 'post_str_b5', 'post_str_blast',\n",
    "    'is_rare_combination', 'reason',\n",
    "    \"jumps_map\", \"unijump\"\n",
    "  ],\n",
    "  schema_overrides={\n",
    "    'combo': pl.Array(pl.UInt8, 6),\n",
    "    'b1': pl.UInt8,\n",
    "    'b2': pl.UInt8,\n",
    "    'b3': pl.UInt8,\n",
    "    'b4': pl.UInt8,\n",
    "    'b5': pl.UInt8,\n",
    "    'b6': pl.UInt8,\n",
    "    'reason': pl.UInt8\n",
    "  },\n",
    "  orient='row'\n",
    ")\n",
    "\n",
    "TOTAL_LINES = len(dfRows)\n",
    "print(f'{TOTAL_LINES=}')\n",
    "display(dfRows.head(10))"
   ]
  },
  {
   "cell_type": "code",
   "execution_count": 5,
   "metadata": {},
   "outputs": [
    {
     "data": {
      "text/plain": [
       "4"
      ]
     },
     "execution_count": 5,
     "metadata": {},
     "output_type": "execute_result"
    }
   ],
   "source": [
    "dfRows.item(0, 'b2')"
   ]
  },
  {
   "cell_type": "code",
   "execution_count": 6,
   "metadata": {},
   "outputs": [],
   "source": [
    "import holoviews as hv\n",
    "def plot_post_col (col: str, post_col: str, test_value: str | None = None):\n",
    "  if test_value == None:\n",
    "    test_value = dfRows.item(0, col)\n",
    "    print(f'Setting {test_value=}')\n",
    "\n",
    "  df_viz = dfRows \\\n",
    "    .filter(\n",
    "      pl.col(col) == test_value,\n",
    "      pl.col(post_col).is_not_null()\n",
    "    ) \\\n",
    "    .group_by(\n",
    "      post_col\n",
    "    ).agg(pl.count(post_col).alias('count')) \\\n",
    "    .sort(\"count\", descending=True)\n",
    "  \n",
    "  \n",
    "  df_10_last = dfRows \\\n",
    "    .filter(\n",
    "      pl.col(col) == test_value,\n",
    "      pl.col(post_col).is_not_null()\n",
    "    ) \\\n",
    "    .head(10)\n",
    "  \n",
    "  # Agrega una columna que sea el porcentaje de la frecuencia relativa\n",
    "  total = df_viz['count'].sum()\n",
    "  df_viz = df_viz.with_columns(\n",
    "    ( (pl.col('count') / total) * 100 ).alias('percent')\n",
    "  )\n",
    "  mean_percent = df_viz['percent'].mean()\n",
    "  mean_percent_75 = mean_percent * 75 / 50\n",
    "  mean_percent_25 = mean_percent * 25 / 50\n",
    "\n",
    "  chart = df_viz.hvplot.bar(\n",
    "    x=post_col,\n",
    "    y='percent'\n",
    "  )\n",
    "\n",
    "  chart = chart * hv.HLine(mean_percent).opts(color='red')\n",
    "  chart = chart * hv.HLine(mean_percent_75).opts(color='blue')\n",
    "  chart = chart * hv.HLine(mean_percent_25).opts(color='blue')\n",
    "  \n",
    "  chart.opts(default_tools=[\"pan\"])\n",
    "\n",
    "  df_jumps_map = dfRows \\\n",
    "    .filter(\n",
    "      pl.col(col) == test_value,\n",
    "      pl.col(post_col).is_not_null()\n",
    "    ) \\\n",
    "    .group_by(\n",
    "      'jumps_map'\n",
    "    ).agg(pl.count('jumps_map').alias('count')) \\\n",
    "    .sort(\"count\", descending=True)\n",
    "  \n",
    "  df_unijump = dfRows \\\n",
    "    .filter(\n",
    "      pl.col(col) == test_value,\n",
    "      pl.col(post_col).is_not_null()\n",
    "    ) \\\n",
    "    .group_by(\n",
    "      'unijump'\n",
    "    ).agg(pl.count('unijump').alias('count')) \\\n",
    "    .sort(\"count\", descending=True)\n",
    "\n",
    "\n",
    "  print(f'df_viz FOR {col} = {test_value}')\n",
    "  display(df_viz)\n",
    "\n",
    "  display(chart)\n",
    "  \n",
    "\n",
    "  print(f'df_10_last FOR {col} = {test_value}')\n",
    "  last_results = list(set(df_10_last[post_col][0:3]))\n",
    "  print(f'Last 3 results {last_results=}')\n",
    "  display(df_10_last)\n",
    "  \n",
    "  print(f'df_jumps_map FOR {col} = {test_value}')\n",
    "  display(df_jumps_map)\n",
    "  # display(df_unijump)\n",
    "\n",
    "  print(f'df_unijump FOR {col} = {test_value}')\n",
    "  display(df_unijump)\n",
    "\n",
    "  lst_post_str_b = df_viz.filter(pl.col('percent') >= mean_percent)[post_col].to_list()\n",
    "  lst_jumps_map = df_jumps_map['jumps_map'].to_list() # Used to discard\n",
    "  \n",
    "  return lst_post_str_b, lst_jumps_map, last_results"
   ]
  },
  {
   "cell_type": "code",
   "execution_count": 7,
   "metadata": {},
   "outputs": [
    {
     "name": "stdout",
     "output_type": "stream",
     "text": [
      "Setting test_value='02'\n",
      "df_viz FOR str_b1 = 02\n"
     ]
    },
    {
     "data": {
      "text/html": [
       "<div><style>\n",
       ".dataframe > thead > tr,\n",
       ".dataframe > tbody > tr {\n",
       "  text-align: right;\n",
       "  white-space: pre-wrap;\n",
       "}\n",
       "</style>\n",
       "<small>shape: (22, 3)</small><table border=\"1\" class=\"dataframe\"><thead><tr><th>post_str_b1</th><th>count</th><th>percent</th></tr><tr><td>str</td><td>u32</td><td>f64</td></tr></thead><tbody><tr><td>&quot;02&quot;</td><td>285</td><td>41.364296</td></tr><tr><td>&quot;01&quot;</td><td>74</td><td>10.740203</td></tr><tr><td>&quot;03&quot;</td><td>70</td><td>10.159652</td></tr><tr><td>&quot;04&quot;</td><td>44</td><td>6.386067</td></tr><tr><td>&quot;05&quot;</td><td>31</td><td>4.499274</td></tr><tr><td>&hellip;</td><td>&hellip;</td><td>&hellip;</td></tr><tr><td>&quot;19&quot;</td><td>4</td><td>0.580552</td></tr><tr><td>&quot;16&quot;</td><td>3</td><td>0.435414</td></tr><tr><td>&quot;20&quot;</td><td>2</td><td>0.290276</td></tr><tr><td>&quot;26&quot;</td><td>1</td><td>0.145138</td></tr><tr><td>&quot;21&quot;</td><td>1</td><td>0.145138</td></tr></tbody></table></div>"
      ],
      "text/plain": [
       "shape: (22, 3)\n",
       "┌─────────────┬───────┬───────────┐\n",
       "│ post_str_b1 ┆ count ┆ percent   │\n",
       "│ ---         ┆ ---   ┆ ---       │\n",
       "│ str         ┆ u32   ┆ f64       │\n",
       "╞═════════════╪═══════╪═══════════╡\n",
       "│ 02          ┆ 285   ┆ 41.364296 │\n",
       "│ 01          ┆ 74    ┆ 10.740203 │\n",
       "│ 03          ┆ 70    ┆ 10.159652 │\n",
       "│ 04          ┆ 44    ┆ 6.386067  │\n",
       "│ 05          ┆ 31    ┆ 4.499274  │\n",
       "│ …           ┆ …     ┆ …         │\n",
       "│ 19          ┆ 4     ┆ 0.580552  │\n",
       "│ 16          ┆ 3     ┆ 0.435414  │\n",
       "│ 20          ┆ 2     ┆ 0.290276  │\n",
       "│ 26          ┆ 1     ┆ 0.145138  │\n",
       "│ 21          ┆ 1     ┆ 0.145138  │\n",
       "└─────────────┴───────┴───────────┘"
      ]
     },
     "metadata": {},
     "output_type": "display_data"
    },
    {
     "data": {},
     "metadata": {},
     "output_type": "display_data"
    },
    {
     "data": {
      "application/vnd.holoviews_exec.v0+json": "",
      "text/html": [
       "<div id='516a565e-1926-4b4f-bbc7-ef0adb05e74c'>\n",
       "  <div id=\"c7e7c8cc-7e09-4ad3-aa94-4a09bb9ce700\" data-root-id=\"516a565e-1926-4b4f-bbc7-ef0adb05e74c\" style=\"display: contents;\"></div>\n",
       "</div>\n",
       "<script type=\"application/javascript\">(function(root) {\n",
       "  var docs_json = {\"d75a22f9-a149-44c4-8f68-906c9a55fd8d\":{\"version\":\"3.7.2\",\"title\":\"Bokeh Application\",\"roots\":[{\"type\":\"object\",\"name\":\"Row\",\"id\":\"516a565e-1926-4b4f-bbc7-ef0adb05e74c\",\"attributes\":{\"name\":\"Row00286\",\"tags\":[\"embedded\"],\"stylesheets\":[\"\\n:host(.pn-loading):before, .pn-loading:before {\\n  background-color: #c3c3c3;\\n  mask-size: auto calc(min(50%, 400px));\\n  -webkit-mask-size: auto calc(min(50%, 400px));\\n}\",{\"type\":\"object\",\"name\":\"ImportedStyleSheet\",\"id\":\"38d8fc5e-616d-4ec2-8ae2-a5765c01608e\",\"attributes\":{\"url\":\"https://cdn.holoviz.org/panel/1.6.2/dist/css/loading.css\"}},{\"type\":\"object\",\"name\":\"ImportedStyleSheet\",\"id\":\"42a14882-0a90-40d6-a40b-9a0486f5d7cb\",\"attributes\":{\"url\":\"https://cdn.holoviz.org/panel/1.6.2/dist/css/listpanel.css\"}},{\"type\":\"object\",\"name\":\"ImportedStyleSheet\",\"id\":\"99985668-c80f-4353-8652-08de8b5cfe93\",\"attributes\":{\"url\":\"https://cdn.holoviz.org/panel/1.6.2/dist/bundled/theme/default.css\"}},{\"type\":\"object\",\"name\":\"ImportedStyleSheet\",\"id\":\"dfb927ea-2fc0-4da2-bd1e-be74aa3da6bc\",\"attributes\":{\"url\":\"https://cdn.holoviz.org/panel/1.6.2/dist/bundled/theme/native.css\"}}],\"min_width\":700,\"margin\":0,\"sizing_mode\":\"stretch_width\",\"align\":\"start\",\"children\":[{\"type\":\"object\",\"name\":\"Spacer\",\"id\":\"48d6fcce-3860-4a3b-9972-bc26dea12836\",\"attributes\":{\"name\":\"HSpacer00290\",\"stylesheets\":[\"\\n:host(.pn-loading):before, .pn-loading:before {\\n  background-color: #c3c3c3;\\n  mask-size: auto calc(min(50%, 400px));\\n  -webkit-mask-size: auto calc(min(50%, 400px));\\n}\",{\"id\":\"38d8fc5e-616d-4ec2-8ae2-a5765c01608e\"},{\"id\":\"99985668-c80f-4353-8652-08de8b5cfe93\"},{\"id\":\"dfb927ea-2fc0-4da2-bd1e-be74aa3da6bc\"}],\"margin\":0,\"sizing_mode\":\"stretch_width\",\"align\":\"start\"}},{\"type\":\"object\",\"name\":\"Figure\",\"id\":\"2a3e883a-44d7-4131-a9c1-3c58ed7a5917\",\"attributes\":{\"width\":700,\"height\":300,\"margin\":[5,10],\"sizing_mode\":\"fixed\",\"align\":\"start\",\"x_range\":{\"type\":\"object\",\"name\":\"FactorRange\",\"id\":\"f7b05e15-84da-4c56-8abf-25bd45148ac2\",\"attributes\":{\"name\":\"post_str_b1\",\"tags\":[[[\"post_str_b1\",null]],[]],\"factors\":[\"02\",\"01\",\"03\",\"04\",\"05\",\"06\",\"07\",\"08\",\"11\",\"09\",\"10\",\"14\",\"12\",\"18\",\"15\",\"13\",\"17\",\"19\",\"16\",\"20\",\"26\",\"21\"]}},\"y_range\":{\"type\":\"object\",\"name\":\"Range1d\",\"id\":\"d23385a0-8470-4bbb-a9cf-c141ae0639ad\",\"attributes\":{\"name\":\"percent\",\"tags\":[[[\"percent\",null]],{\"type\":\"map\",\"entries\":[[\"invert_yaxis\",false],[\"autorange\",false]]}],\"end\":45.486211901306234,\"reset_start\":0.0,\"reset_end\":45.486211901306234}},\"x_scale\":{\"type\":\"object\",\"name\":\"CategoricalScale\",\"id\":\"4a7484cf-4b48-4cdd-a1a9-74dcf32bdbb7\"},\"y_scale\":{\"type\":\"object\",\"name\":\"LinearScale\",\"id\":\"21906f6a-df70-4536-9c5c-2bfcc9322911\"},\"title\":{\"type\":\"object\",\"name\":\"Title\",\"id\":\"11fb87a3-8152-4f62-98bc-da6729316f19\",\"attributes\":{\"text_color\":\"black\",\"text_font_size\":\"12pt\"}},\"renderers\":[{\"type\":\"object\",\"name\":\"GlyphRenderer\",\"id\":\"3360e981-fe72-4c62-bfaf-d5a829f9b2b3\",\"attributes\":{\"data_source\":{\"type\":\"object\",\"name\":\"ColumnDataSource\",\"id\":\"6b2cfcd3-f9cd-4a29-8031-b6da56c874ed\",\"attributes\":{\"selected\":{\"type\":\"object\",\"name\":\"Selection\",\"id\":\"d8c5df0d-f410-4b16-9b5e-7f0e3aca441e\",\"attributes\":{\"indices\":[],\"line_indices\":[]}},\"selection_policy\":{\"type\":\"object\",\"name\":\"UnionRenderers\",\"id\":\"b2108de9-b478-4c8b-8afa-a9ddbb4d03ea\"},\"data\":{\"type\":\"map\",\"entries\":[[\"post_str_b1\",[\"02\",\"01\",\"03\",\"04\",\"05\",\"06\",\"07\",\"08\",\"11\",\"09\",\"10\",\"14\",\"12\",\"18\",\"15\",\"13\",\"17\",\"19\",\"16\",\"20\",\"26\",\"21\"]],[\"percent\",{\"type\":\"ndarray\",\"array\":{\"type\":\"bytes\",\"data\":\"w5IFQaGuREBB8rTp+3olQP/yEt29USRApu/rFVWLGUB79M7DQf8RQNr0fb2iahFA2vR9vaJqEUBl8EkJF2IIQCPxp/zYOAdAoPJj41zmBEAc9B/K4JMCQCPxp/zYOPc/oPJj41zm9D8q7i8v0d3rPyPxp/zYOOc/I/Gn/Ng45z8c9B/K4JPiPxz0H8rgk+I/Ku4vL9Hd2z8c9B/K4JPSPxz0H8rgk8I/HPQfyuCTwj8=\"},\"shape\":[22],\"dtype\":\"float64\",\"order\":\"little\"}]]}}},\"view\":{\"type\":\"object\",\"name\":\"CDSView\",\"id\":\"c696aa9e-781d-450a-8ca0-933396f81fc9\",\"attributes\":{\"filter\":{\"type\":\"object\",\"name\":\"AllIndices\",\"id\":\"39f86dbf-688c-49b3-b335-689d7ab23c7e\"}}},\"glyph\":{\"type\":\"object\",\"name\":\"VBar\",\"id\":\"53762948-d756-4663-807b-c8c2c01e3ae5\",\"attributes\":{\"tags\":[\"apply_ranges\"],\"x\":{\"type\":\"field\",\"field\":\"post_str_b1\"},\"width\":{\"type\":\"value\",\"value\":0.8},\"top\":{\"type\":\"field\",\"field\":\"percent\"},\"fill_color\":{\"type\":\"value\",\"value\":\"#30a2da\"},\"hatch_color\":{\"type\":\"value\",\"value\":\"#30a2da\"}}},\"selection_glyph\":{\"type\":\"object\",\"name\":\"VBar\",\"id\":\"ea9512bd-feb5-4747-b88e-c21d46ba92f3\",\"attributes\":{\"tags\":[\"apply_ranges\"],\"x\":{\"type\":\"field\",\"field\":\"post_str_b1\"},\"width\":{\"type\":\"value\",\"value\":0.8},\"bottom\":{\"type\":\"value\",\"value\":0},\"top\":{\"type\":\"field\",\"field\":\"percent\"},\"line_color\":{\"type\":\"value\",\"value\":\"black\"},\"line_alpha\":{\"type\":\"value\",\"value\":1.0},\"line_width\":{\"type\":\"value\",\"value\":1},\"line_join\":{\"type\":\"value\",\"value\":\"bevel\"},\"line_cap\":{\"type\":\"value\",\"value\":\"butt\"},\"line_dash\":{\"type\":\"value\",\"value\":[]},\"line_dash_offset\":{\"type\":\"value\",\"value\":0},\"fill_color\":{\"type\":\"value\",\"value\":\"#30a2da\"},\"fill_alpha\":{\"type\":\"value\",\"value\":1.0},\"hatch_color\":{\"type\":\"value\",\"value\":\"#30a2da\"},\"hatch_alpha\":{\"type\":\"value\",\"value\":1.0},\"hatch_scale\":{\"type\":\"value\",\"value\":12.0},\"hatch_pattern\":{\"type\":\"value\",\"value\":null},\"hatch_weight\":{\"type\":\"value\",\"value\":1.0}}},\"nonselection_glyph\":{\"type\":\"object\",\"name\":\"VBar\",\"id\":\"632a8444-9dbb-4fee-858b-fdfe7b9ee1ce\",\"attributes\":{\"tags\":[\"apply_ranges\"],\"x\":{\"type\":\"field\",\"field\":\"post_str_b1\"},\"width\":{\"type\":\"value\",\"value\":0.8},\"top\":{\"type\":\"field\",\"field\":\"percent\"},\"line_alpha\":{\"type\":\"value\",\"value\":0.1},\"fill_color\":{\"type\":\"value\",\"value\":\"#30a2da\"},\"fill_alpha\":{\"type\":\"value\",\"value\":0.1},\"hatch_color\":{\"type\":\"value\",\"value\":\"#30a2da\"},\"hatch_alpha\":{\"type\":\"value\",\"value\":0.1}}},\"muted_glyph\":{\"type\":\"object\",\"name\":\"VBar\",\"id\":\"aff371ea-b4af-4d01-801d-94c4b2a25def\",\"attributes\":{\"tags\":[\"apply_ranges\"],\"x\":{\"type\":\"field\",\"field\":\"post_str_b1\"},\"width\":{\"type\":\"value\",\"value\":0.8},\"top\":{\"type\":\"field\",\"field\":\"percent\"},\"line_alpha\":{\"type\":\"value\",\"value\":0.2},\"fill_color\":{\"type\":\"value\",\"value\":\"#30a2da\"},\"fill_alpha\":{\"type\":\"value\",\"value\":0.2},\"hatch_color\":{\"type\":\"value\",\"value\":\"#30a2da\"},\"hatch_alpha\":{\"type\":\"value\",\"value\":0.2}}}}},{\"type\":\"object\",\"name\":\"Span\",\"id\":\"4b50e1d5-66a8-4429-b780-84d5bd853a0f\",\"attributes\":{\"level\":\"glyph\",\"location\":4.545454545454546,\"line_color\":\"red\",\"line_width\":3}},{\"type\":\"object\",\"name\":\"Span\",\"id\":\"3e02c747-60c9-4ca1-b95e-82c5e588f494\",\"attributes\":{\"level\":\"glyph\",\"location\":6.818181818181818,\"line_color\":\"blue\",\"line_width\":3}},{\"type\":\"object\",\"name\":\"Span\",\"id\":\"1d608437-8f52-4638-9241-c96035b81d81\",\"attributes\":{\"level\":\"glyph\",\"location\":2.272727272727273,\"line_color\":\"blue\",\"line_width\":3}}],\"toolbar\":{\"type\":\"object\",\"name\":\"Toolbar\",\"id\":\"0d4bd4d2-339b-48d7-ac69-dbf9ff6bd9d0\",\"attributes\":{\"tools\":[{\"type\":\"object\",\"name\":\"WheelZoomTool\",\"id\":\"6b2b30b6-2311-48f1-8142-2a7f424bf8f2\",\"attributes\":{\"tags\":[\"hv_created\"],\"renderers\":\"auto\",\"zoom_together\":\"none\"}},{\"type\":\"object\",\"name\":\"HoverTool\",\"id\":\"5e6c2f3c-8cc5-46c4-ba4d-f9a97336bfc5\",\"attributes\":{\"tags\":[\"hv_created\"],\"renderers\":[{\"id\":\"3360e981-fe72-4c62-bfaf-d5a829f9b2b3\"}],\"tooltips\":[[\"post_str_b1\",\"@{post_str_b1}\"],[\"percent\",\"@{percent}\"]]}},{\"type\":\"object\",\"name\":\"SaveTool\",\"id\":\"47089980-76f5-45da-a352-8abae325d4a3\"},{\"type\":\"object\",\"name\":\"PanTool\",\"id\":\"51db1be8-49a3-484b-9d4f-475cdbda7482\"},{\"type\":\"object\",\"name\":\"BoxZoomTool\",\"id\":\"2f0ced8e-b497-4fe2-9a29-78969766a780\",\"attributes\":{\"dimensions\":\"both\",\"overlay\":{\"type\":\"object\",\"name\":\"BoxAnnotation\",\"id\":\"d687ef45-13b5-4a9e-8330-c0489d207522\",\"attributes\":{\"syncable\":false,\"line_color\":\"black\",\"line_alpha\":1.0,\"line_width\":2,\"line_dash\":[4,4],\"fill_color\":\"lightgrey\",\"fill_alpha\":0.5,\"level\":\"overlay\",\"visible\":false,\"left\":{\"type\":\"number\",\"value\":\"nan\"},\"right\":{\"type\":\"number\",\"value\":\"nan\"},\"top\":{\"type\":\"number\",\"value\":\"nan\"},\"bottom\":{\"type\":\"number\",\"value\":\"nan\"},\"left_units\":\"canvas\",\"right_units\":\"canvas\",\"top_units\":\"canvas\",\"bottom_units\":\"canvas\",\"handles\":{\"type\":\"object\",\"name\":\"BoxInteractionHandles\",\"id\":\"a579c3eb-4506-4c26-a098-f324fc9b5ba3\",\"attributes\":{\"all\":{\"type\":\"object\",\"name\":\"AreaVisuals\",\"id\":\"5d6dc73b-00b2-47b6-bc99-eee4a58f0860\",\"attributes\":{\"fill_color\":\"white\",\"hover_fill_color\":\"lightgray\"}}}}}}}},{\"type\":\"object\",\"name\":\"ResetTool\",\"id\":\"bfa119ae-a69e-4bb7-894c-8369651929a0\"}],\"active_drag\":{\"id\":\"51db1be8-49a3-484b-9d4f-475cdbda7482\"}}},\"left\":[{\"type\":\"object\",\"name\":\"LinearAxis\",\"id\":\"44a9ae33-aa4b-4aab-a7c4-c620795045fc\",\"attributes\":{\"ticker\":{\"type\":\"object\",\"name\":\"BasicTicker\",\"id\":\"6c8cea66-64d9-47e9-a6cd-de0267f3f10e\",\"attributes\":{\"mantissas\":[1,2,5]}},\"formatter\":{\"type\":\"object\",\"name\":\"BasicTickFormatter\",\"id\":\"60e1522c-8ffb-46c4-a109-f028af6e2550\"},\"axis_label\":\"percent\",\"major_label_policy\":{\"type\":\"object\",\"name\":\"AllLabels\",\"id\":\"a06df44b-5717-46b9-ab66-ef926585fc0e\"}}}],\"below\":[{\"type\":\"object\",\"name\":\"CategoricalAxis\",\"id\":\"6a4cdddc-2c45-4e3f-aded-19eb5d1cba0d\",\"attributes\":{\"ticker\":{\"type\":\"object\",\"name\":\"CategoricalTicker\",\"id\":\"655c758c-1a35-4b36-bb53-7757eae0c935\"},\"formatter\":{\"type\":\"object\",\"name\":\"CategoricalTickFormatter\",\"id\":\"d67ce7ef-f90d-4850-a562-4109deaceb72\"},\"axis_label\":\"post_str_b1\",\"major_label_policy\":{\"type\":\"object\",\"name\":\"AllLabels\",\"id\":\"fe8398ab-3733-4aff-9634-f682d92ddf71\"}}}],\"center\":[{\"type\":\"object\",\"name\":\"Grid\",\"id\":\"daf10c9a-d473-4fac-93da-1c6ce046f637\",\"attributes\":{\"axis\":{\"id\":\"6a4cdddc-2c45-4e3f-aded-19eb5d1cba0d\"},\"grid_line_color\":null}},{\"type\":\"object\",\"name\":\"Grid\",\"id\":\"862aca02-76b6-46a9-87df-5106fe5b4d91\",\"attributes\":{\"dimension\":1,\"axis\":{\"id\":\"44a9ae33-aa4b-4aab-a7c4-c620795045fc\"},\"grid_line_color\":null}}],\"min_border_top\":10,\"min_border_bottom\":10,\"min_border_left\":10,\"min_border_right\":10,\"output_backend\":\"webgl\"}},{\"type\":\"object\",\"name\":\"Spacer\",\"id\":\"1e60298e-2c9c-41b8-a14a-a51b51edea1c\",\"attributes\":{\"name\":\"HSpacer00291\",\"stylesheets\":[\"\\n:host(.pn-loading):before, .pn-loading:before {\\n  background-color: #c3c3c3;\\n  mask-size: auto calc(min(50%, 400px));\\n  -webkit-mask-size: auto calc(min(50%, 400px));\\n}\",{\"id\":\"38d8fc5e-616d-4ec2-8ae2-a5765c01608e\"},{\"id\":\"99985668-c80f-4353-8652-08de8b5cfe93\"},{\"id\":\"dfb927ea-2fc0-4da2-bd1e-be74aa3da6bc\"}],\"margin\":0,\"sizing_mode\":\"stretch_width\",\"align\":\"start\"}}]}}],\"defs\":[{\"type\":\"model\",\"name\":\"ReactiveHTML1\"},{\"type\":\"model\",\"name\":\"FlexBox1\",\"properties\":[{\"name\":\"align_content\",\"kind\":\"Any\",\"default\":\"flex-start\"},{\"name\":\"align_items\",\"kind\":\"Any\",\"default\":\"flex-start\"},{\"name\":\"flex_direction\",\"kind\":\"Any\",\"default\":\"row\"},{\"name\":\"flex_wrap\",\"kind\":\"Any\",\"default\":\"wrap\"},{\"name\":\"gap\",\"kind\":\"Any\",\"default\":\"\"},{\"name\":\"justify_content\",\"kind\":\"Any\",\"default\":\"flex-start\"}]},{\"type\":\"model\",\"name\":\"FloatPanel1\",\"properties\":[{\"name\":\"config\",\"kind\":\"Any\",\"default\":{\"type\":\"map\"}},{\"name\":\"contained\",\"kind\":\"Any\",\"default\":true},{\"name\":\"position\",\"kind\":\"Any\",\"default\":\"right-top\"},{\"name\":\"offsetx\",\"kind\":\"Any\",\"default\":null},{\"name\":\"offsety\",\"kind\":\"Any\",\"default\":null},{\"name\":\"theme\",\"kind\":\"Any\",\"default\":\"primary\"},{\"name\":\"status\",\"kind\":\"Any\",\"default\":\"normalized\"}]},{\"type\":\"model\",\"name\":\"GridStack1\",\"properties\":[{\"name\":\"ncols\",\"kind\":\"Any\",\"default\":null},{\"name\":\"nrows\",\"kind\":\"Any\",\"default\":null},{\"name\":\"allow_resize\",\"kind\":\"Any\",\"default\":true},{\"name\":\"allow_drag\",\"kind\":\"Any\",\"default\":true},{\"name\":\"state\",\"kind\":\"Any\",\"default\":[]}]},{\"type\":\"model\",\"name\":\"drag1\",\"properties\":[{\"name\":\"slider_width\",\"kind\":\"Any\",\"default\":5},{\"name\":\"slider_color\",\"kind\":\"Any\",\"default\":\"black\"},{\"name\":\"value\",\"kind\":\"Any\",\"default\":50}]},{\"type\":\"model\",\"name\":\"click1\",\"properties\":[{\"name\":\"terminal_output\",\"kind\":\"Any\",\"default\":\"\"},{\"name\":\"debug_name\",\"kind\":\"Any\",\"default\":\"\"},{\"name\":\"clears\",\"kind\":\"Any\",\"default\":0}]},{\"type\":\"model\",\"name\":\"FastWrapper1\",\"properties\":[{\"name\":\"object\",\"kind\":\"Any\",\"default\":null},{\"name\":\"style\",\"kind\":\"Any\",\"default\":null}]},{\"type\":\"model\",\"name\":\"NotificationArea1\",\"properties\":[{\"name\":\"js_events\",\"kind\":\"Any\",\"default\":{\"type\":\"map\"}},{\"name\":\"max_notifications\",\"kind\":\"Any\",\"default\":5},{\"name\":\"notifications\",\"kind\":\"Any\",\"default\":[]},{\"name\":\"position\",\"kind\":\"Any\",\"default\":\"bottom-right\"},{\"name\":\"_clear\",\"kind\":\"Any\",\"default\":0},{\"name\":\"types\",\"kind\":\"Any\",\"default\":[{\"type\":\"map\",\"entries\":[[\"type\",\"warning\"],[\"background\",\"#ffc107\"],[\"icon\",{\"type\":\"map\",\"entries\":[[\"className\",\"fas fa-exclamation-triangle\"],[\"tagName\",\"i\"],[\"color\",\"white\"]]}]]},{\"type\":\"map\",\"entries\":[[\"type\",\"info\"],[\"background\",\"#007bff\"],[\"icon\",{\"type\":\"map\",\"entries\":[[\"className\",\"fas fa-info-circle\"],[\"tagName\",\"i\"],[\"color\",\"white\"]]}]]}]}]},{\"type\":\"model\",\"name\":\"Notification\",\"properties\":[{\"name\":\"background\",\"kind\":\"Any\",\"default\":null},{\"name\":\"duration\",\"kind\":\"Any\",\"default\":3000},{\"name\":\"icon\",\"kind\":\"Any\",\"default\":null},{\"name\":\"message\",\"kind\":\"Any\",\"default\":\"\"},{\"name\":\"notification_type\",\"kind\":\"Any\",\"default\":null},{\"name\":\"_rendered\",\"kind\":\"Any\",\"default\":false},{\"name\":\"_destroyed\",\"kind\":\"Any\",\"default\":false}]},{\"type\":\"model\",\"name\":\"TemplateActions1\",\"properties\":[{\"name\":\"open_modal\",\"kind\":\"Any\",\"default\":0},{\"name\":\"close_modal\",\"kind\":\"Any\",\"default\":0}]},{\"type\":\"model\",\"name\":\"BootstrapTemplateActions1\",\"properties\":[{\"name\":\"open_modal\",\"kind\":\"Any\",\"default\":0},{\"name\":\"close_modal\",\"kind\":\"Any\",\"default\":0}]},{\"type\":\"model\",\"name\":\"TemplateEditor1\",\"properties\":[{\"name\":\"layout\",\"kind\":\"Any\",\"default\":[]}]},{\"type\":\"model\",\"name\":\"MaterialTemplateActions1\",\"properties\":[{\"name\":\"open_modal\",\"kind\":\"Any\",\"default\":0},{\"name\":\"close_modal\",\"kind\":\"Any\",\"default\":0}]},{\"type\":\"model\",\"name\":\"ReactiveESM1\",\"properties\":[{\"name\":\"esm_constants\",\"kind\":\"Any\",\"default\":{\"type\":\"map\"}}]},{\"type\":\"model\",\"name\":\"JSComponent1\",\"properties\":[{\"name\":\"esm_constants\",\"kind\":\"Any\",\"default\":{\"type\":\"map\"}}]},{\"type\":\"model\",\"name\":\"ReactComponent1\",\"properties\":[{\"name\":\"esm_constants\",\"kind\":\"Any\",\"default\":{\"type\":\"map\"}}]},{\"type\":\"model\",\"name\":\"AnyWidgetComponent1\",\"properties\":[{\"name\":\"esm_constants\",\"kind\":\"Any\",\"default\":{\"type\":\"map\"}}]},{\"type\":\"model\",\"name\":\"request_value1\",\"properties\":[{\"name\":\"fill\",\"kind\":\"Any\",\"default\":\"none\"},{\"name\":\"_synced\",\"kind\":\"Any\",\"default\":null},{\"name\":\"_request_sync\",\"kind\":\"Any\",\"default\":0}]}]}};\n",
       "  var render_items = [{\"docid\":\"d75a22f9-a149-44c4-8f68-906c9a55fd8d\",\"roots\":{\"516a565e-1926-4b4f-bbc7-ef0adb05e74c\":\"c7e7c8cc-7e09-4ad3-aa94-4a09bb9ce700\"},\"root_ids\":[\"516a565e-1926-4b4f-bbc7-ef0adb05e74c\"]}];\n",
       "  var docs = Object.values(docs_json)\n",
       "  if (!docs) {\n",
       "    return\n",
       "  }\n",
       "  const py_version = docs[0].version.replace('rc', '-rc.').replace('.dev', '-dev.')\n",
       "  async function embed_document(root) {\n",
       "    var Bokeh = get_bokeh(root)\n",
       "    await Bokeh.embed.embed_items_notebook(docs_json, render_items);\n",
       "    for (const render_item of render_items) {\n",
       "      for (const root_id of render_item.root_ids) {\n",
       "\tconst id_el = document.getElementById(root_id)\n",
       "\tif (id_el.children.length && id_el.children[0].hasAttribute('data-root-id')) {\n",
       "\t  const root_el = id_el.children[0]\n",
       "\t  root_el.id = root_el.id + '-rendered'\n",
       "\t  for (const child of root_el.children) {\n",
       "            // Ensure JupyterLab does not capture keyboard shortcuts\n",
       "            // see: https://jupyterlab.readthedocs.io/en/4.1.x/extension/notebook.html#keyboard-interaction-model\n",
       "\t    child.setAttribute('data-lm-suppress-shortcuts', 'true')\n",
       "\t  }\n",
       "\t}\n",
       "      }\n",
       "    }\n",
       "  }\n",
       "  function get_bokeh(root) {\n",
       "    if (root.Bokeh === undefined) {\n",
       "      return null\n",
       "    } else if (root.Bokeh.version !== py_version) {\n",
       "      if (root.Bokeh.versions === undefined || !root.Bokeh.versions.has(py_version)) {\n",
       "\treturn null\n",
       "      }\n",
       "      return root.Bokeh.versions.get(py_version);\n",
       "    } else if (root.Bokeh.version === py_version) {\n",
       "      return root.Bokeh\n",
       "    }\n",
       "    return null\n",
       "  }\n",
       "  function is_loaded(root) {\n",
       "    var Bokeh = get_bokeh(root)\n",
       "    return (Bokeh != null && Bokeh.Panel !== undefined)\n",
       "  }\n",
       "  if (is_loaded(root)) {\n",
       "    embed_document(root);\n",
       "  } else {\n",
       "    var attempts = 0;\n",
       "    var timer = setInterval(function(root) {\n",
       "      if (is_loaded(root)) {\n",
       "        clearInterval(timer);\n",
       "        embed_document(root);\n",
       "      } else if (document.readyState == \"complete\") {\n",
       "        attempts++;\n",
       "        if (attempts > 200) {\n",
       "          clearInterval(timer);\n",
       "\t  var Bokeh = get_bokeh(root)\n",
       "\t  if (Bokeh == null || Bokeh.Panel == null) {\n",
       "            console.warn(\"Panel: ERROR: Unable to run Panel code because Bokeh or Panel library is missing\");\n",
       "\t  } else {\n",
       "\t    console.warn(\"Panel: WARNING: Attempting to render but not all required libraries could be resolved.\")\n",
       "\t    embed_document(root)\n",
       "\t  }\n",
       "        }\n",
       "      }\n",
       "    }, 25, root)\n",
       "  }\n",
       "})(window);</script>"
      ],
      "text/plain": [
       ":Overlay\n",
       "   .Bars.I    :Bars   [post_str_b1]   (percent)\n",
       "   .HLine.I   :HLine   [x,y]\n",
       "   .HLine.II  :HLine   [x,y]\n",
       "   .HLine.III :HLine   [x,y]"
      ]
     },
     "metadata": {
      "application/vnd.holoviews_exec.v0+json": {
       "id": "516a565e-1926-4b4f-bbc7-ef0adb05e74c"
      }
     },
     "output_type": "display_data"
    },
    {
     "name": "stdout",
     "output_type": "stream",
     "text": [
      "df_10_last FOR str_b1 = 02\n",
      "Last 3 results last_results=['02', '09']\n"
     ]
    },
    {
     "data": {
      "text/html": [
       "<div><style>\n",
       ".dataframe > thead > tr,\n",
       ".dataframe > tbody > tr {\n",
       "  text-align: right;\n",
       "  white-space: pre-wrap;\n",
       "}\n",
       "</style>\n",
       "<small>shape: (10, 30)</small><table border=\"1\" class=\"dataframe\"><thead><tr><th>fecha</th><th>sorteo</th><th>bolillas regulares</th><th>bolillas chauchamba</th><th>cc1</th><th>cc2</th><th>id</th><th>combo</th><th>b1</th><th>b2</th><th>b3</th><th>b4</th><th>b5</th><th>b6</th><th>str_b1</th><th>str_b2</th><th>str_b3</th><th>str_b4</th><th>str_b5</th><th>str_b6</th><th>post_str_b1</th><th>post_str_b2</th><th>post_str_b3</th><th>post_str_b4</th><th>post_str_b5</th><th>post_str_blast</th><th>is_rare_combination</th><th>reason</th><th>jumps_map</th><th>unijump</th></tr><tr><td>str</td><td>str</td><td>str</td><td>str</td><td>str</td><td>str</td><td>str</td><td>array[u8, 6]</td><td>u8</td><td>u8</td><td>u8</td><td>u8</td><td>u8</td><td>u8</td><td>str</td><td>str</td><td>str</td><td>str</td><td>str</td><td>str</td><td>str</td><td>str</td><td>str</td><td>str</td><td>str</td><td>str</td><td>bool</td><td>u8</td><td>str</td><td>i64</td></tr></thead><tbody><tr><td>&quot;08/07/2025&quot;</td><td>&quot;1831&quot;</td><td>&quot;39 30 04 09 38 02&quot;</td><td>&quot;10 11 06 28 04 40&quot;</td><td>&quot;&quot;</td><td>&quot;&quot;</td><td>&quot;020409303839&quot;</td><td>[2, 4, … 39]</td><td>2</td><td>4</td><td>9</td><td>30</td><td>38</td><td>39</td><td>&quot;02&quot;</td><td>&quot;04&quot;</td><td>&quot;09&quot;</td><td>&quot;30&quot;</td><td>&quot;38&quot;</td><td>&quot;39&quot;</td><td>&quot;02&quot;</td><td>&quot;04&quot;</td><td>&quot;09&quot;</td><td>&quot;30&quot;</td><td>&quot;38&quot;</td><td>&quot;39&quot;</td><td>true</td><td>16</td><td>&quot;02_05_21_08_01&quot;</td><td>77</td></tr><tr><td>&quot;24/06/2025&quot;</td><td>&quot;1825&quot;</td><td>&quot;16 18 24 26 39 02&quot;</td><td>&quot;32 31 23 18 12 33&quot;</td><td>&quot;&quot;</td><td>&quot;&quot;</td><td>&quot;021618242639&quot;</td><td>[2, 16, … 39]</td><td>2</td><td>16</td><td>18</td><td>24</td><td>26</td><td>39</td><td>&quot;02&quot;</td><td>&quot;16&quot;</td><td>&quot;18&quot;</td><td>&quot;24&quot;</td><td>&quot;26&quot;</td><td>&quot;39&quot;</td><td>&quot;09&quot;</td><td>&quot;21&quot;</td><td>&quot;25&quot;</td><td>&quot;28&quot;</td><td>&quot;35&quot;</td><td>&quot;37&quot;</td><td>false</td><td>0</td><td>&quot;14_02_06_02_13&quot;</td><td>47</td></tr><tr><td>&quot;24/06/2025&quot;</td><td>&quot;1825&quot;</td><td>&quot;16 18 24 26 39 02&quot;</td><td>&quot;32 31 23 18 12 33&quot;</td><td>&quot;&quot;</td><td>&quot;&quot;</td><td>&quot;021618242639&quot;</td><td>[2, 16, … 39]</td><td>2</td><td>16</td><td>18</td><td>24</td><td>26</td><td>39</td><td>&quot;02&quot;</td><td>&quot;16&quot;</td><td>&quot;18&quot;</td><td>&quot;24&quot;</td><td>&quot;26&quot;</td><td>&quot;39&quot;</td><td>&quot;02&quot;</td><td>&quot;16&quot;</td><td>&quot;18&quot;</td><td>&quot;24&quot;</td><td>&quot;26&quot;</td><td>&quot;39&quot;</td><td>false</td><td>0</td><td>&quot;14_02_06_02_13&quot;</td><td>47</td></tr><tr><td>&quot;21/06/2025&quot;</td><td>&quot;1824&quot;</td><td>&quot;09 30 04 08 13 02&quot;</td><td>&quot;03 27 12 16 01 23&quot;</td><td>&quot;&quot;</td><td>&quot;&quot;</td><td>&quot;020408091330&quot;</td><td>[2, 4, … 30]</td><td>2</td><td>4</td><td>8</td><td>9</td><td>13</td><td>30</td><td>&quot;02&quot;</td><td>&quot;04&quot;</td><td>&quot;08&quot;</td><td>&quot;09&quot;</td><td>&quot;13&quot;</td><td>&quot;30&quot;</td><td>&quot;02&quot;</td><td>&quot;16&quot;</td><td>&quot;18&quot;</td><td>&quot;24&quot;</td><td>&quot;26&quot;</td><td>&quot;39&quot;</td><td>false</td><td>0</td><td>&quot;02_04_01_04_17&quot;</td><td>-7</td></tr><tr><td>&quot;21/06/2025&quot;</td><td>&quot;1824&quot;</td><td>&quot;09 30 04 08 13 02&quot;</td><td>&quot;03 27 12 16 01 23&quot;</td><td>&quot;&quot;</td><td>&quot;&quot;</td><td>&quot;020408091330&quot;</td><td>[2, 4, … 30]</td><td>2</td><td>4</td><td>8</td><td>9</td><td>13</td><td>30</td><td>&quot;02&quot;</td><td>&quot;04&quot;</td><td>&quot;08&quot;</td><td>&quot;09&quot;</td><td>&quot;13&quot;</td><td>&quot;30&quot;</td><td>&quot;02&quot;</td><td>&quot;04&quot;</td><td>&quot;08&quot;</td><td>&quot;09&quot;</td><td>&quot;13&quot;</td><td>&quot;30&quot;</td><td>false</td><td>0</td><td>&quot;02_04_01_04_17&quot;</td><td>-7</td></tr><tr><td>&quot;12/06/2025&quot;</td><td>&quot;1820&quot;</td><td>&quot;37 13 40 23 12 02&quot;</td><td>&quot;20 17 10 38 09 21&quot;</td><td>&quot;&quot;</td><td>&quot;&quot;</td><td>&quot;021213233740&quot;</td><td>[2, 12, … 40]</td><td>2</td><td>12</td><td>13</td><td>23</td><td>37</td><td>40</td><td>&quot;02&quot;</td><td>&quot;12&quot;</td><td>&quot;13&quot;</td><td>&quot;23&quot;</td><td>&quot;37&quot;</td><td>&quot;40&quot;</td><td>&quot;03&quot;</td><td>&quot;06&quot;</td><td>&quot;17&quot;</td><td>&quot;21&quot;</td><td>&quot;28&quot;</td><td>&quot;32&quot;</td><td>true</td><td>1</td><td>&quot;10_01_10_14_03&quot;</td><td>13</td></tr><tr><td>&quot;12/06/2025&quot;</td><td>&quot;1820&quot;</td><td>&quot;37 13 40 23 12 02&quot;</td><td>&quot;20 17 10 38 09 21&quot;</td><td>&quot;&quot;</td><td>&quot;&quot;</td><td>&quot;021213233740&quot;</td><td>[2, 12, … 40]</td><td>2</td><td>12</td><td>13</td><td>23</td><td>37</td><td>40</td><td>&quot;02&quot;</td><td>&quot;12&quot;</td><td>&quot;13&quot;</td><td>&quot;23&quot;</td><td>&quot;37&quot;</td><td>&quot;40&quot;</td><td>&quot;02&quot;</td><td>&quot;12&quot;</td><td>&quot;13&quot;</td><td>&quot;23&quot;</td><td>&quot;37&quot;</td><td>&quot;40&quot;</td><td>true</td><td>1</td><td>&quot;10_01_10_14_03&quot;</td><td>13</td></tr><tr><td>&quot;27/05/2025&quot;</td><td>&quot;1813&quot;</td><td>&quot;19 02 23 39 08 03&quot;</td><td>&quot;03 25 18 39 33 20&quot;</td><td>&quot;&quot;</td><td>&quot;&quot;</td><td>&quot;020308192339&quot;</td><td>[2, 3, … 39]</td><td>2</td><td>3</td><td>8</td><td>19</td><td>23</td><td>39</td><td>&quot;02&quot;</td><td>&quot;03&quot;</td><td>&quot;08&quot;</td><td>&quot;19&quot;</td><td>&quot;23&quot;</td><td>&quot;39&quot;</td><td>&quot;08&quot;</td><td>&quot;11&quot;</td><td>&quot;25&quot;</td><td>&quot;31&quot;</td><td>&quot;36&quot;</td><td>&quot;38&quot;</td><td>true</td><td>1</td><td>&quot;01_05_11_04_16&quot;</td><td>47</td></tr><tr><td>&quot;27/05/2025&quot;</td><td>&quot;1813&quot;</td><td>&quot;19 02 23 39 08 03&quot;</td><td>&quot;03 25 18 39 33 20&quot;</td><td>&quot;&quot;</td><td>&quot;&quot;</td><td>&quot;020308192339&quot;</td><td>[2, 3, … 39]</td><td>2</td><td>3</td><td>8</td><td>19</td><td>23</td><td>39</td><td>&quot;02&quot;</td><td>&quot;03&quot;</td><td>&quot;08&quot;</td><td>&quot;19&quot;</td><td>&quot;23&quot;</td><td>&quot;39&quot;</td><td>&quot;02&quot;</td><td>&quot;03&quot;</td><td>&quot;08&quot;</td><td>&quot;19&quot;</td><td>&quot;23&quot;</td><td>&quot;39&quot;</td><td>true</td><td>1</td><td>&quot;01_05_11_04_16&quot;</td><td>47</td></tr><tr><td>&quot;10/05/2025&quot;</td><td>&quot;1806&quot;</td><td>&quot;02 14 20 28 35 21&quot;</td><td>&quot;23 30 24 20 26 11&quot;</td><td>&quot;&quot;</td><td>&quot;&quot;</td><td>&quot;021420212835&quot;</td><td>[2, 14, … 35]</td><td>2</td><td>14</td><td>20</td><td>21</td><td>28</td><td>35</td><td>&quot;02&quot;</td><td>&quot;14&quot;</td><td>&quot;20&quot;</td><td>&quot;21&quot;</td><td>&quot;28&quot;</td><td>&quot;35&quot;</td><td>&quot;12&quot;</td><td>&quot;14&quot;</td><td>&quot;16&quot;</td><td>&quot;17&quot;</td><td>&quot;23&quot;</td><td>&quot;24&quot;</td><td>true</td><td>8</td><td>&quot;12_06_01_07_07&quot;</td><td>-27</td></tr></tbody></table></div>"
      ],
      "text/plain": [
       "shape: (10, 30)\n",
       "┌────────────┬────────┬─────────────┬─────────────┬───┬────────────┬────────┬────────────┬─────────┐\n",
       "│ fecha      ┆ sorteo ┆ bolillas    ┆ bolillas    ┆ … ┆ is_rare_co ┆ reason ┆ jumps_map  ┆ unijump │\n",
       "│ ---        ┆ ---    ┆ regulares   ┆ chauchamba  ┆   ┆ mbination  ┆ ---    ┆ ---        ┆ ---     │\n",
       "│ str        ┆ str    ┆ ---         ┆ ---         ┆   ┆ ---        ┆ u8     ┆ str        ┆ i64     │\n",
       "│            ┆        ┆ str         ┆ str         ┆   ┆ bool       ┆        ┆            ┆         │\n",
       "╞════════════╪════════╪═════════════╪═════════════╪═══╪════════════╪════════╪════════════╪═════════╡\n",
       "│ 08/07/2025 ┆ 1831   ┆ 39 30 04 09 ┆ 10 11 06 28 ┆ … ┆ true       ┆ 16     ┆ 02_05_21_0 ┆ 77      │\n",
       "│            ┆        ┆ 38 02       ┆ 04 40       ┆   ┆            ┆        ┆ 8_01       ┆         │\n",
       "│ 24/06/2025 ┆ 1825   ┆ 16 18 24 26 ┆ 32 31 23 18 ┆ … ┆ false      ┆ 0      ┆ 14_02_06_0 ┆ 47      │\n",
       "│            ┆        ┆ 39 02       ┆ 12 33       ┆   ┆            ┆        ┆ 2_13       ┆         │\n",
       "│ 24/06/2025 ┆ 1825   ┆ 16 18 24 26 ┆ 32 31 23 18 ┆ … ┆ false      ┆ 0      ┆ 14_02_06_0 ┆ 47      │\n",
       "│            ┆        ┆ 39 02       ┆ 12 33       ┆   ┆            ┆        ┆ 2_13       ┆         │\n",
       "│ 21/06/2025 ┆ 1824   ┆ 09 30 04 08 ┆ 03 27 12 16 ┆ … ┆ false      ┆ 0      ┆ 02_04_01_0 ┆ -7      │\n",
       "│            ┆        ┆ 13 02       ┆ 01 23       ┆   ┆            ┆        ┆ 4_17       ┆         │\n",
       "│ 21/06/2025 ┆ 1824   ┆ 09 30 04 08 ┆ 03 27 12 16 ┆ … ┆ false      ┆ 0      ┆ 02_04_01_0 ┆ -7      │\n",
       "│            ┆        ┆ 13 02       ┆ 01 23       ┆   ┆            ┆        ┆ 4_17       ┆         │\n",
       "│ 12/06/2025 ┆ 1820   ┆ 37 13 40 23 ┆ 20 17 10 38 ┆ … ┆ true       ┆ 1      ┆ 10_01_10_1 ┆ 13      │\n",
       "│            ┆        ┆ 12 02       ┆ 09 21       ┆   ┆            ┆        ┆ 4_03       ┆         │\n",
       "│ 12/06/2025 ┆ 1820   ┆ 37 13 40 23 ┆ 20 17 10 38 ┆ … ┆ true       ┆ 1      ┆ 10_01_10_1 ┆ 13      │\n",
       "│            ┆        ┆ 12 02       ┆ 09 21       ┆   ┆            ┆        ┆ 4_03       ┆         │\n",
       "│ 27/05/2025 ┆ 1813   ┆ 19 02 23 39 ┆ 03 25 18 39 ┆ … ┆ true       ┆ 1      ┆ 01_05_11_0 ┆ 47      │\n",
       "│            ┆        ┆ 08 03       ┆ 33 20       ┆   ┆            ┆        ┆ 4_16       ┆         │\n",
       "│ 27/05/2025 ┆ 1813   ┆ 19 02 23 39 ┆ 03 25 18 39 ┆ … ┆ true       ┆ 1      ┆ 01_05_11_0 ┆ 47      │\n",
       "│            ┆        ┆ 08 03       ┆ 33 20       ┆   ┆            ┆        ┆ 4_16       ┆         │\n",
       "│ 10/05/2025 ┆ 1806   ┆ 02 14 20 28 ┆ 23 30 24 20 ┆ … ┆ true       ┆ 8      ┆ 12_06_01_0 ┆ -27     │\n",
       "│            ┆        ┆ 35 21       ┆ 26 11       ┆   ┆            ┆        ┆ 7_07       ┆         │\n",
       "└────────────┴────────┴─────────────┴─────────────┴───┴────────────┴────────┴────────────┴─────────┘"
      ]
     },
     "metadata": {},
     "output_type": "display_data"
    },
    {
     "name": "stdout",
     "output_type": "stream",
     "text": [
      "df_jumps_map FOR str_b1 = 02\n"
     ]
    },
    {
     "data": {
      "text/html": [
       "<div><style>\n",
       ".dataframe > thead > tr,\n",
       ".dataframe > tbody > tr {\n",
       "  text-align: right;\n",
       "  white-space: pre-wrap;\n",
       "}\n",
       "</style>\n",
       "<small>shape: (463, 2)</small><table border=\"1\" class=\"dataframe\"><thead><tr><th>jumps_map</th><th>count</th></tr><tr><td>str</td><td>u32</td></tr></thead><tbody><tr><td>&quot;01_02_03_15_06&quot;</td><td>2</td></tr><tr><td>&quot;03_07_06_11_10&quot;</td><td>2</td></tr><tr><td>&quot;11_09_02_07_02&quot;</td><td>2</td></tr><tr><td>&quot;04_03_08_02_08&quot;</td><td>2</td></tr><tr><td>&quot;04_15_02_09_05&quot;</td><td>2</td></tr><tr><td>&hellip;</td><td>&hellip;</td></tr><tr><td>&quot;02_08_07_06_07&quot;</td><td>1</td></tr><tr><td>&quot;03_03_03_03_26&quot;</td><td>1</td></tr><tr><td>&quot;09_06_02_04_16&quot;</td><td>1</td></tr><tr><td>&quot;13_03_03_08_08&quot;</td><td>1</td></tr><tr><td>&quot;04_05_25_01_01&quot;</td><td>1</td></tr></tbody></table></div>"
      ],
      "text/plain": [
       "shape: (463, 2)\n",
       "┌────────────────┬───────┐\n",
       "│ jumps_map      ┆ count │\n",
       "│ ---            ┆ ---   │\n",
       "│ str            ┆ u32   │\n",
       "╞════════════════╪═══════╡\n",
       "│ 01_02_03_15_06 ┆ 2     │\n",
       "│ 03_07_06_11_10 ┆ 2     │\n",
       "│ 11_09_02_07_02 ┆ 2     │\n",
       "│ 04_03_08_02_08 ┆ 2     │\n",
       "│ 04_15_02_09_05 ┆ 2     │\n",
       "│ …              ┆ …     │\n",
       "│ 02_08_07_06_07 ┆ 1     │\n",
       "│ 03_03_03_03_26 ┆ 1     │\n",
       "│ 09_06_02_04_16 ┆ 1     │\n",
       "│ 13_03_03_08_08 ┆ 1     │\n",
       "│ 04_05_25_01_01 ┆ 1     │\n",
       "└────────────────┴───────┘"
      ]
     },
     "metadata": {},
     "output_type": "display_data"
    },
    {
     "name": "stdout",
     "output_type": "stream",
     "text": [
      "df_unijump FOR str_b1 = 02\n"
     ]
    },
    {
     "data": {
      "text/html": [
       "<div><style>\n",
       ".dataframe > thead > tr,\n",
       ".dataframe > tbody > tr {\n",
       "  text-align: right;\n",
       "  white-space: pre-wrap;\n",
       "}\n",
       "</style>\n",
       "<small>shape: (178, 2)</small><table border=\"1\" class=\"dataframe\"><thead><tr><th>unijump</th><th>count</th></tr><tr><td>i64</td><td>u32</td></tr></thead><tbody><tr><td>3</td><td>14</td></tr><tr><td>47</td><td>13</td></tr><tr><td>0</td><td>12</td></tr><tr><td>-17</td><td>12</td></tr><tr><td>-37</td><td>11</td></tr><tr><td>&hellip;</td><td>&hellip;</td></tr><tr><td>45</td><td>1</td></tr><tr><td>49</td><td>1</td></tr><tr><td>121</td><td>1</td></tr><tr><td>-107</td><td>1</td></tr><tr><td>46</td><td>1</td></tr></tbody></table></div>"
      ],
      "text/plain": [
       "shape: (178, 2)\n",
       "┌─────────┬───────┐\n",
       "│ unijump ┆ count │\n",
       "│ ---     ┆ ---   │\n",
       "│ i64     ┆ u32   │\n",
       "╞═════════╪═══════╡\n",
       "│ 3       ┆ 14    │\n",
       "│ 47      ┆ 13    │\n",
       "│ 0       ┆ 12    │\n",
       "│ -17     ┆ 12    │\n",
       "│ -37     ┆ 11    │\n",
       "│ …       ┆ …     │\n",
       "│ 45      ┆ 1     │\n",
       "│ 49      ┆ 1     │\n",
       "│ 121     ┆ 1     │\n",
       "│ -107    ┆ 1     │\n",
       "│ 46      ┆ 1     │\n",
       "└─────────┴───────┘"
      ]
     },
     "metadata": {},
     "output_type": "display_data"
    }
   ],
   "source": [
    "possible_b1, exclude_jump_maps_b1, last_post_b1 = plot_post_col(col='str_b1', post_col='post_str_b1')"
   ]
  },
  {
   "cell_type": "code",
   "execution_count": 8,
   "metadata": {},
   "outputs": [
    {
     "name": "stdout",
     "output_type": "stream",
     "text": [
      "Setting test_value='04'\n",
      "df_viz FOR str_b2 = 04\n"
     ]
    },
    {
     "data": {
      "text/html": [
       "<div><style>\n",
       ".dataframe > thead > tr,\n",
       ".dataframe > tbody > tr {\n",
       "  text-align: right;\n",
       "  white-space: pre-wrap;\n",
       "}\n",
       "</style>\n",
       "<small>shape: (25, 3)</small><table border=\"1\" class=\"dataframe\"><thead><tr><th>post_str_b2</th><th>count</th><th>percent</th></tr><tr><td>str</td><td>u32</td><td>f64</td></tr></thead><tbody><tr><td>&quot;04&quot;</td><td>85</td><td>33.464567</td></tr><tr><td>&quot;07&quot;</td><td>17</td><td>6.692913</td></tr><tr><td>&quot;08&quot;</td><td>15</td><td>5.905512</td></tr><tr><td>&quot;11&quot;</td><td>14</td><td>5.511811</td></tr><tr><td>&quot;05&quot;</td><td>12</td><td>4.724409</td></tr><tr><td>&hellip;</td><td>&hellip;</td><td>&hellip;</td></tr><tr><td>&quot;18&quot;</td><td>3</td><td>1.181102</td></tr><tr><td>&quot;23&quot;</td><td>2</td><td>0.787402</td></tr><tr><td>&quot;22&quot;</td><td>1</td><td>0.393701</td></tr><tr><td>&quot;27&quot;</td><td>1</td><td>0.393701</td></tr><tr><td>&quot;25&quot;</td><td>1</td><td>0.393701</td></tr></tbody></table></div>"
      ],
      "text/plain": [
       "shape: (25, 3)\n",
       "┌─────────────┬───────┬───────────┐\n",
       "│ post_str_b2 ┆ count ┆ percent   │\n",
       "│ ---         ┆ ---   ┆ ---       │\n",
       "│ str         ┆ u32   ┆ f64       │\n",
       "╞═════════════╪═══════╪═══════════╡\n",
       "│ 04          ┆ 85    ┆ 33.464567 │\n",
       "│ 07          ┆ 17    ┆ 6.692913  │\n",
       "│ 08          ┆ 15    ┆ 5.905512  │\n",
       "│ 11          ┆ 14    ┆ 5.511811  │\n",
       "│ 05          ┆ 12    ┆ 4.724409  │\n",
       "│ …           ┆ …     ┆ …         │\n",
       "│ 18          ┆ 3     ┆ 1.181102  │\n",
       "│ 23          ┆ 2     ┆ 0.787402  │\n",
       "│ 22          ┆ 1     ┆ 0.393701  │\n",
       "│ 27          ┆ 1     ┆ 0.393701  │\n",
       "│ 25          ┆ 1     ┆ 0.393701  │\n",
       "└─────────────┴───────┴───────────┘"
      ]
     },
     "metadata": {},
     "output_type": "display_data"
    },
    {
     "data": {},
     "metadata": {},
     "output_type": "display_data"
    },
    {
     "data": {
      "application/vnd.holoviews_exec.v0+json": "",
      "text/html": [
       "<div id='30a799f6-e244-462b-b1ea-35fe4115d101'>\n",
       "  <div id=\"b5ffe683-9dca-4c8d-9832-45a6aa8c5112\" data-root-id=\"30a799f6-e244-462b-b1ea-35fe4115d101\" style=\"display: contents;\"></div>\n",
       "</div>\n",
       "<script type=\"application/javascript\">(function(root) {\n",
       "  var docs_json = {\"2f09190d-f0c4-4584-81d7-b1b97d351ae0\":{\"version\":\"3.7.2\",\"title\":\"Bokeh Application\",\"roots\":[{\"type\":\"object\",\"name\":\"Row\",\"id\":\"30a799f6-e244-462b-b1ea-35fe4115d101\",\"attributes\":{\"name\":\"Row00357\",\"tags\":[\"embedded\"],\"stylesheets\":[\"\\n:host(.pn-loading):before, .pn-loading:before {\\n  background-color: #c3c3c3;\\n  mask-size: auto calc(min(50%, 400px));\\n  -webkit-mask-size: auto calc(min(50%, 400px));\\n}\",{\"type\":\"object\",\"name\":\"ImportedStyleSheet\",\"id\":\"b4607946-7b42-4ceb-81c7-78a9512b9e23\",\"attributes\":{\"url\":\"https://cdn.holoviz.org/panel/1.6.2/dist/css/loading.css\"}},{\"type\":\"object\",\"name\":\"ImportedStyleSheet\",\"id\":\"2bc1a056-524d-4a29-a890-8e66cc186b6a\",\"attributes\":{\"url\":\"https://cdn.holoviz.org/panel/1.6.2/dist/css/listpanel.css\"}},{\"type\":\"object\",\"name\":\"ImportedStyleSheet\",\"id\":\"10e16387-8600-4448-a38c-80963f38e05f\",\"attributes\":{\"url\":\"https://cdn.holoviz.org/panel/1.6.2/dist/bundled/theme/default.css\"}},{\"type\":\"object\",\"name\":\"ImportedStyleSheet\",\"id\":\"a388289f-64f4-4c3e-83ab-b829c4df2f18\",\"attributes\":{\"url\":\"https://cdn.holoviz.org/panel/1.6.2/dist/bundled/theme/native.css\"}}],\"min_width\":700,\"margin\":0,\"sizing_mode\":\"stretch_width\",\"align\":\"start\",\"children\":[{\"type\":\"object\",\"name\":\"Spacer\",\"id\":\"dfa1854a-9ee9-4e90-84fd-d7e79e15c008\",\"attributes\":{\"name\":\"HSpacer00361\",\"stylesheets\":[\"\\n:host(.pn-loading):before, .pn-loading:before {\\n  background-color: #c3c3c3;\\n  mask-size: auto calc(min(50%, 400px));\\n  -webkit-mask-size: auto calc(min(50%, 400px));\\n}\",{\"id\":\"b4607946-7b42-4ceb-81c7-78a9512b9e23\"},{\"id\":\"10e16387-8600-4448-a38c-80963f38e05f\"},{\"id\":\"a388289f-64f4-4c3e-83ab-b829c4df2f18\"}],\"margin\":0,\"sizing_mode\":\"stretch_width\",\"align\":\"start\"}},{\"type\":\"object\",\"name\":\"Figure\",\"id\":\"4be1b37e-5664-4f50-a003-748df083f9c4\",\"attributes\":{\"width\":700,\"height\":300,\"margin\":[5,10],\"sizing_mode\":\"fixed\",\"align\":\"start\",\"x_range\":{\"type\":\"object\",\"name\":\"FactorRange\",\"id\":\"2d78d184-3b63-4533-8b1f-d08ed0307fbe\",\"attributes\":{\"name\":\"post_str_b2\",\"tags\":[[[\"post_str_b2\",null]],[]],\"factors\":[\"04\",\"07\",\"08\",\"11\",\"05\",\"10\",\"09\",\"12\",\"06\",\"15\",\"13\",\"17\",\"19\",\"24\",\"14\",\"16\",\"02\",\"20\",\"03\",\"21\",\"18\",\"23\",\"22\",\"27\",\"25\"]}},\"y_range\":{\"type\":\"object\",\"name\":\"Range1d\",\"id\":\"6b3fffe0-a939-4cea-bcdb-5e571d3f89cd\",\"attributes\":{\"name\":\"percent\",\"tags\":[[[\"percent\",null]],{\"type\":\"map\",\"entries\":[[\"invert_yaxis\",false],[\"autorange\",false]]}],\"end\":36.77165354330709,\"reset_start\":0.0,\"reset_end\":36.77165354330709}},\"x_scale\":{\"type\":\"object\",\"name\":\"CategoricalScale\",\"id\":\"0ab6407b-3cce-4830-a240-39832c278844\"},\"y_scale\":{\"type\":\"object\",\"name\":\"LinearScale\",\"id\":\"5eba4478-ba50-4795-b863-10c5a5454264\"},\"title\":{\"type\":\"object\",\"name\":\"Title\",\"id\":\"5ea42459-1f23-4fe4-b07f-1c46c18c49af\",\"attributes\":{\"text_color\":\"black\",\"text_font_size\":\"12pt\"}},\"renderers\":[{\"type\":\"object\",\"name\":\"GlyphRenderer\",\"id\":\"17ce397a-1010-4d30-b913-1dc7b3e4038e\",\"attributes\":{\"data_source\":{\"type\":\"object\",\"name\":\"ColumnDataSource\",\"id\":\"8dc326bf-dcad-4cf5-bae5-05a90be756b6\",\"attributes\":{\"selected\":{\"type\":\"object\",\"name\":\"Selection\",\"id\":\"2d9d0318-07b0-4145-b408-3adbcab4a790\",\"attributes\":{\"indices\":[],\"line_indices\":[]}},\"selection_policy\":{\"type\":\"object\",\"name\":\"UnionRenderers\",\"id\":\"4c4bf369-6d76-46bb-a16a-f86034b3ff38\"},\"data\":{\"type\":\"map\",\"entries\":[[\"post_str_b2\",[\"04\",\"07\",\"08\",\"11\",\"05\",\"10\",\"09\",\"12\",\"06\",\"15\",\"13\",\"17\",\"19\",\"24\",\"14\",\"16\",\"02\",\"20\",\"03\",\"21\",\"18\",\"23\",\"22\",\"27\",\"25\"]],[\"percent\",{\"type\":\"ndarray\",\"array\":{\"type\":\"bytes\",\"data\":\"b7fb7Xa7QECwWCwWi8UaQOjz+Xw+nxdAg8FgMBgMFkC5XC6Xy+USQFUqlUqlUhFAVSqVSqVSEUAWi8VisVgMQEwmk8lkMglATCaTyWQyCUCDwWAwGAwGQIPBYDAYDAZAuVwul8vlAkC5XC6Xy+UCQLlcLpfL5QJAuVwul8vlAkDg7/f7/X7/P+Dv9/v9fv8/TCaTyWQy+T9MJpPJZDL5P7lcLpfL5fI/TCaTyWQy6T9MJpPJZDLZP0wmk8lkMtk/TCaTyWQy2T8=\"},\"shape\":[25],\"dtype\":\"float64\",\"order\":\"little\"}]]}}},\"view\":{\"type\":\"object\",\"name\":\"CDSView\",\"id\":\"4264c5dc-a203-4068-b6fb-241758149c8f\",\"attributes\":{\"filter\":{\"type\":\"object\",\"name\":\"AllIndices\",\"id\":\"e9dc6884-2ddb-47b7-9841-74fab785962d\"}}},\"glyph\":{\"type\":\"object\",\"name\":\"VBar\",\"id\":\"7b50b240-9cd0-4ffb-972f-232899cc380c\",\"attributes\":{\"tags\":[\"apply_ranges\"],\"x\":{\"type\":\"field\",\"field\":\"post_str_b2\"},\"width\":{\"type\":\"value\",\"value\":0.8},\"top\":{\"type\":\"field\",\"field\":\"percent\"},\"fill_color\":{\"type\":\"value\",\"value\":\"#30a2da\"},\"hatch_color\":{\"type\":\"value\",\"value\":\"#30a2da\"}}},\"selection_glyph\":{\"type\":\"object\",\"name\":\"VBar\",\"id\":\"0f146a3e-7e3b-4623-a9e1-6430e62a550b\",\"attributes\":{\"tags\":[\"apply_ranges\"],\"x\":{\"type\":\"field\",\"field\":\"post_str_b2\"},\"width\":{\"type\":\"value\",\"value\":0.8},\"bottom\":{\"type\":\"value\",\"value\":0},\"top\":{\"type\":\"field\",\"field\":\"percent\"},\"line_color\":{\"type\":\"value\",\"value\":\"black\"},\"line_alpha\":{\"type\":\"value\",\"value\":1.0},\"line_width\":{\"type\":\"value\",\"value\":1},\"line_join\":{\"type\":\"value\",\"value\":\"bevel\"},\"line_cap\":{\"type\":\"value\",\"value\":\"butt\"},\"line_dash\":{\"type\":\"value\",\"value\":[]},\"line_dash_offset\":{\"type\":\"value\",\"value\":0},\"fill_color\":{\"type\":\"value\",\"value\":\"#30a2da\"},\"fill_alpha\":{\"type\":\"value\",\"value\":1.0},\"hatch_color\":{\"type\":\"value\",\"value\":\"#30a2da\"},\"hatch_alpha\":{\"type\":\"value\",\"value\":1.0},\"hatch_scale\":{\"type\":\"value\",\"value\":12.0},\"hatch_pattern\":{\"type\":\"value\",\"value\":null},\"hatch_weight\":{\"type\":\"value\",\"value\":1.0}}},\"nonselection_glyph\":{\"type\":\"object\",\"name\":\"VBar\",\"id\":\"53acb8b7-c7a7-4480-9814-07fee5135a1e\",\"attributes\":{\"tags\":[\"apply_ranges\"],\"x\":{\"type\":\"field\",\"field\":\"post_str_b2\"},\"width\":{\"type\":\"value\",\"value\":0.8},\"top\":{\"type\":\"field\",\"field\":\"percent\"},\"line_alpha\":{\"type\":\"value\",\"value\":0.1},\"fill_color\":{\"type\":\"value\",\"value\":\"#30a2da\"},\"fill_alpha\":{\"type\":\"value\",\"value\":0.1},\"hatch_color\":{\"type\":\"value\",\"value\":\"#30a2da\"},\"hatch_alpha\":{\"type\":\"value\",\"value\":0.1}}},\"muted_glyph\":{\"type\":\"object\",\"name\":\"VBar\",\"id\":\"1fc9f86c-4042-40bc-a15b-498112d5bb5c\",\"attributes\":{\"tags\":[\"apply_ranges\"],\"x\":{\"type\":\"field\",\"field\":\"post_str_b2\"},\"width\":{\"type\":\"value\",\"value\":0.8},\"top\":{\"type\":\"field\",\"field\":\"percent\"},\"line_alpha\":{\"type\":\"value\",\"value\":0.2},\"fill_color\":{\"type\":\"value\",\"value\":\"#30a2da\"},\"fill_alpha\":{\"type\":\"value\",\"value\":0.2},\"hatch_color\":{\"type\":\"value\",\"value\":\"#30a2da\"},\"hatch_alpha\":{\"type\":\"value\",\"value\":0.2}}}}},{\"type\":\"object\",\"name\":\"Span\",\"id\":\"6495b9ee-1a10-4c96-a3a2-296dcd0c1ec4\",\"attributes\":{\"level\":\"glyph\",\"location\":4.0,\"line_color\":\"red\",\"line_width\":3}},{\"type\":\"object\",\"name\":\"Span\",\"id\":\"29e4b611-6b3e-4558-8b8b-606fe7f3b408\",\"attributes\":{\"level\":\"glyph\",\"location\":6.0,\"line_color\":\"blue\",\"line_width\":3}},{\"type\":\"object\",\"name\":\"Span\",\"id\":\"aa3be23d-b0e9-4ead-8bfe-08fb9f52731e\",\"attributes\":{\"level\":\"glyph\",\"location\":2.0,\"line_color\":\"blue\",\"line_width\":3}}],\"toolbar\":{\"type\":\"object\",\"name\":\"Toolbar\",\"id\":\"7609fb8d-d083-46fe-96fe-d6a97ba67e20\",\"attributes\":{\"tools\":[{\"type\":\"object\",\"name\":\"WheelZoomTool\",\"id\":\"17295dad-15af-426e-8726-0ea3c39cb924\",\"attributes\":{\"tags\":[\"hv_created\"],\"renderers\":\"auto\",\"zoom_together\":\"none\"}},{\"type\":\"object\",\"name\":\"HoverTool\",\"id\":\"7ea1494a-ec0f-4863-b2c7-03220e1a80a6\",\"attributes\":{\"tags\":[\"hv_created\"],\"renderers\":[{\"id\":\"17ce397a-1010-4d30-b913-1dc7b3e4038e\"}],\"tooltips\":[[\"post_str_b2\",\"@{post_str_b2}\"],[\"percent\",\"@{percent}\"]]}},{\"type\":\"object\",\"name\":\"SaveTool\",\"id\":\"ae47181c-fa55-42ae-ac3b-bd6dc2cc3107\"},{\"type\":\"object\",\"name\":\"PanTool\",\"id\":\"0ed114c6-1ee4-4038-96a5-fd34bd633f8b\"},{\"type\":\"object\",\"name\":\"BoxZoomTool\",\"id\":\"30e4c1f1-9c14-4c62-a2df-9d3fc0b9d5b6\",\"attributes\":{\"dimensions\":\"both\",\"overlay\":{\"type\":\"object\",\"name\":\"BoxAnnotation\",\"id\":\"91bcf1d9-26e6-475b-b404-20f4c6417907\",\"attributes\":{\"syncable\":false,\"line_color\":\"black\",\"line_alpha\":1.0,\"line_width\":2,\"line_dash\":[4,4],\"fill_color\":\"lightgrey\",\"fill_alpha\":0.5,\"level\":\"overlay\",\"visible\":false,\"left\":{\"type\":\"number\",\"value\":\"nan\"},\"right\":{\"type\":\"number\",\"value\":\"nan\"},\"top\":{\"type\":\"number\",\"value\":\"nan\"},\"bottom\":{\"type\":\"number\",\"value\":\"nan\"},\"left_units\":\"canvas\",\"right_units\":\"canvas\",\"top_units\":\"canvas\",\"bottom_units\":\"canvas\",\"handles\":{\"type\":\"object\",\"name\":\"BoxInteractionHandles\",\"id\":\"292fc22d-486e-4785-ada5-1b210f447479\",\"attributes\":{\"all\":{\"type\":\"object\",\"name\":\"AreaVisuals\",\"id\":\"cbca0756-f4d5-4328-9c6e-23d060ae6015\",\"attributes\":{\"fill_color\":\"white\",\"hover_fill_color\":\"lightgray\"}}}}}}}},{\"type\":\"object\",\"name\":\"ResetTool\",\"id\":\"24580f5f-3e40-4c1e-a6f4-2b4afcf4bfb6\"}],\"active_drag\":{\"id\":\"0ed114c6-1ee4-4038-96a5-fd34bd633f8b\"}}},\"left\":[{\"type\":\"object\",\"name\":\"LinearAxis\",\"id\":\"251b3085-85e2-4fe6-a6b1-0cfd9b0cb8bd\",\"attributes\":{\"ticker\":{\"type\":\"object\",\"name\":\"BasicTicker\",\"id\":\"8c754cb6-7810-404e-b405-8ef64bb03c67\",\"attributes\":{\"mantissas\":[1,2,5]}},\"formatter\":{\"type\":\"object\",\"name\":\"BasicTickFormatter\",\"id\":\"24524534-51c1-4678-a386-503909b4aa6e\"},\"axis_label\":\"percent\",\"major_label_policy\":{\"type\":\"object\",\"name\":\"AllLabels\",\"id\":\"3d6778e6-7ea2-4d8f-a65b-2f126d6f3efd\"}}}],\"below\":[{\"type\":\"object\",\"name\":\"CategoricalAxis\",\"id\":\"fb3319fe-d019-41e8-af63-d32c0e75182a\",\"attributes\":{\"ticker\":{\"type\":\"object\",\"name\":\"CategoricalTicker\",\"id\":\"52aeaf72-90d3-4ae8-9748-cf985b20ed4d\"},\"formatter\":{\"type\":\"object\",\"name\":\"CategoricalTickFormatter\",\"id\":\"eb033095-11f9-4a36-832c-4851e5d95203\"},\"axis_label\":\"post_str_b2\",\"major_label_policy\":{\"type\":\"object\",\"name\":\"AllLabels\",\"id\":\"6fa81b0e-1a70-4509-9456-17656a3462ef\"}}}],\"center\":[{\"type\":\"object\",\"name\":\"Grid\",\"id\":\"4b3c95ac-a441-4b89-b2cd-0b5105779d27\",\"attributes\":{\"axis\":{\"id\":\"fb3319fe-d019-41e8-af63-d32c0e75182a\"},\"grid_line_color\":null}},{\"type\":\"object\",\"name\":\"Grid\",\"id\":\"b55fe221-156c-4299-87ad-e7fef3b3d853\",\"attributes\":{\"dimension\":1,\"axis\":{\"id\":\"251b3085-85e2-4fe6-a6b1-0cfd9b0cb8bd\"},\"grid_line_color\":null}}],\"min_border_top\":10,\"min_border_bottom\":10,\"min_border_left\":10,\"min_border_right\":10,\"output_backend\":\"webgl\"}},{\"type\":\"object\",\"name\":\"Spacer\",\"id\":\"7c1e3ddf-6fe0-45be-b1a0-88074fc42aa5\",\"attributes\":{\"name\":\"HSpacer00362\",\"stylesheets\":[\"\\n:host(.pn-loading):before, .pn-loading:before {\\n  background-color: #c3c3c3;\\n  mask-size: auto calc(min(50%, 400px));\\n  -webkit-mask-size: auto calc(min(50%, 400px));\\n}\",{\"id\":\"b4607946-7b42-4ceb-81c7-78a9512b9e23\"},{\"id\":\"10e16387-8600-4448-a38c-80963f38e05f\"},{\"id\":\"a388289f-64f4-4c3e-83ab-b829c4df2f18\"}],\"margin\":0,\"sizing_mode\":\"stretch_width\",\"align\":\"start\"}}]}}],\"defs\":[{\"type\":\"model\",\"name\":\"ReactiveHTML1\"},{\"type\":\"model\",\"name\":\"FlexBox1\",\"properties\":[{\"name\":\"align_content\",\"kind\":\"Any\",\"default\":\"flex-start\"},{\"name\":\"align_items\",\"kind\":\"Any\",\"default\":\"flex-start\"},{\"name\":\"flex_direction\",\"kind\":\"Any\",\"default\":\"row\"},{\"name\":\"flex_wrap\",\"kind\":\"Any\",\"default\":\"wrap\"},{\"name\":\"gap\",\"kind\":\"Any\",\"default\":\"\"},{\"name\":\"justify_content\",\"kind\":\"Any\",\"default\":\"flex-start\"}]},{\"type\":\"model\",\"name\":\"FloatPanel1\",\"properties\":[{\"name\":\"config\",\"kind\":\"Any\",\"default\":{\"type\":\"map\"}},{\"name\":\"contained\",\"kind\":\"Any\",\"default\":true},{\"name\":\"position\",\"kind\":\"Any\",\"default\":\"right-top\"},{\"name\":\"offsetx\",\"kind\":\"Any\",\"default\":null},{\"name\":\"offsety\",\"kind\":\"Any\",\"default\":null},{\"name\":\"theme\",\"kind\":\"Any\",\"default\":\"primary\"},{\"name\":\"status\",\"kind\":\"Any\",\"default\":\"normalized\"}]},{\"type\":\"model\",\"name\":\"GridStack1\",\"properties\":[{\"name\":\"ncols\",\"kind\":\"Any\",\"default\":null},{\"name\":\"nrows\",\"kind\":\"Any\",\"default\":null},{\"name\":\"allow_resize\",\"kind\":\"Any\",\"default\":true},{\"name\":\"allow_drag\",\"kind\":\"Any\",\"default\":true},{\"name\":\"state\",\"kind\":\"Any\",\"default\":[]}]},{\"type\":\"model\",\"name\":\"drag1\",\"properties\":[{\"name\":\"slider_width\",\"kind\":\"Any\",\"default\":5},{\"name\":\"slider_color\",\"kind\":\"Any\",\"default\":\"black\"},{\"name\":\"value\",\"kind\":\"Any\",\"default\":50}]},{\"type\":\"model\",\"name\":\"click1\",\"properties\":[{\"name\":\"terminal_output\",\"kind\":\"Any\",\"default\":\"\"},{\"name\":\"debug_name\",\"kind\":\"Any\",\"default\":\"\"},{\"name\":\"clears\",\"kind\":\"Any\",\"default\":0}]},{\"type\":\"model\",\"name\":\"FastWrapper1\",\"properties\":[{\"name\":\"object\",\"kind\":\"Any\",\"default\":null},{\"name\":\"style\",\"kind\":\"Any\",\"default\":null}]},{\"type\":\"model\",\"name\":\"NotificationArea1\",\"properties\":[{\"name\":\"js_events\",\"kind\":\"Any\",\"default\":{\"type\":\"map\"}},{\"name\":\"max_notifications\",\"kind\":\"Any\",\"default\":5},{\"name\":\"notifications\",\"kind\":\"Any\",\"default\":[]},{\"name\":\"position\",\"kind\":\"Any\",\"default\":\"bottom-right\"},{\"name\":\"_clear\",\"kind\":\"Any\",\"default\":0},{\"name\":\"types\",\"kind\":\"Any\",\"default\":[{\"type\":\"map\",\"entries\":[[\"type\",\"warning\"],[\"background\",\"#ffc107\"],[\"icon\",{\"type\":\"map\",\"entries\":[[\"className\",\"fas fa-exclamation-triangle\"],[\"tagName\",\"i\"],[\"color\",\"white\"]]}]]},{\"type\":\"map\",\"entries\":[[\"type\",\"info\"],[\"background\",\"#007bff\"],[\"icon\",{\"type\":\"map\",\"entries\":[[\"className\",\"fas fa-info-circle\"],[\"tagName\",\"i\"],[\"color\",\"white\"]]}]]}]}]},{\"type\":\"model\",\"name\":\"Notification\",\"properties\":[{\"name\":\"background\",\"kind\":\"Any\",\"default\":null},{\"name\":\"duration\",\"kind\":\"Any\",\"default\":3000},{\"name\":\"icon\",\"kind\":\"Any\",\"default\":null},{\"name\":\"message\",\"kind\":\"Any\",\"default\":\"\"},{\"name\":\"notification_type\",\"kind\":\"Any\",\"default\":null},{\"name\":\"_rendered\",\"kind\":\"Any\",\"default\":false},{\"name\":\"_destroyed\",\"kind\":\"Any\",\"default\":false}]},{\"type\":\"model\",\"name\":\"TemplateActions1\",\"properties\":[{\"name\":\"open_modal\",\"kind\":\"Any\",\"default\":0},{\"name\":\"close_modal\",\"kind\":\"Any\",\"default\":0}]},{\"type\":\"model\",\"name\":\"BootstrapTemplateActions1\",\"properties\":[{\"name\":\"open_modal\",\"kind\":\"Any\",\"default\":0},{\"name\":\"close_modal\",\"kind\":\"Any\",\"default\":0}]},{\"type\":\"model\",\"name\":\"TemplateEditor1\",\"properties\":[{\"name\":\"layout\",\"kind\":\"Any\",\"default\":[]}]},{\"type\":\"model\",\"name\":\"MaterialTemplateActions1\",\"properties\":[{\"name\":\"open_modal\",\"kind\":\"Any\",\"default\":0},{\"name\":\"close_modal\",\"kind\":\"Any\",\"default\":0}]},{\"type\":\"model\",\"name\":\"ReactiveESM1\",\"properties\":[{\"name\":\"esm_constants\",\"kind\":\"Any\",\"default\":{\"type\":\"map\"}}]},{\"type\":\"model\",\"name\":\"JSComponent1\",\"properties\":[{\"name\":\"esm_constants\",\"kind\":\"Any\",\"default\":{\"type\":\"map\"}}]},{\"type\":\"model\",\"name\":\"ReactComponent1\",\"properties\":[{\"name\":\"esm_constants\",\"kind\":\"Any\",\"default\":{\"type\":\"map\"}}]},{\"type\":\"model\",\"name\":\"AnyWidgetComponent1\",\"properties\":[{\"name\":\"esm_constants\",\"kind\":\"Any\",\"default\":{\"type\":\"map\"}}]},{\"type\":\"model\",\"name\":\"request_value1\",\"properties\":[{\"name\":\"fill\",\"kind\":\"Any\",\"default\":\"none\"},{\"name\":\"_synced\",\"kind\":\"Any\",\"default\":null},{\"name\":\"_request_sync\",\"kind\":\"Any\",\"default\":0}]}]}};\n",
       "  var render_items = [{\"docid\":\"2f09190d-f0c4-4584-81d7-b1b97d351ae0\",\"roots\":{\"30a799f6-e244-462b-b1ea-35fe4115d101\":\"b5ffe683-9dca-4c8d-9832-45a6aa8c5112\"},\"root_ids\":[\"30a799f6-e244-462b-b1ea-35fe4115d101\"]}];\n",
       "  var docs = Object.values(docs_json)\n",
       "  if (!docs) {\n",
       "    return\n",
       "  }\n",
       "  const py_version = docs[0].version.replace('rc', '-rc.').replace('.dev', '-dev.')\n",
       "  async function embed_document(root) {\n",
       "    var Bokeh = get_bokeh(root)\n",
       "    await Bokeh.embed.embed_items_notebook(docs_json, render_items);\n",
       "    for (const render_item of render_items) {\n",
       "      for (const root_id of render_item.root_ids) {\n",
       "\tconst id_el = document.getElementById(root_id)\n",
       "\tif (id_el.children.length && id_el.children[0].hasAttribute('data-root-id')) {\n",
       "\t  const root_el = id_el.children[0]\n",
       "\t  root_el.id = root_el.id + '-rendered'\n",
       "\t  for (const child of root_el.children) {\n",
       "            // Ensure JupyterLab does not capture keyboard shortcuts\n",
       "            // see: https://jupyterlab.readthedocs.io/en/4.1.x/extension/notebook.html#keyboard-interaction-model\n",
       "\t    child.setAttribute('data-lm-suppress-shortcuts', 'true')\n",
       "\t  }\n",
       "\t}\n",
       "      }\n",
       "    }\n",
       "  }\n",
       "  function get_bokeh(root) {\n",
       "    if (root.Bokeh === undefined) {\n",
       "      return null\n",
       "    } else if (root.Bokeh.version !== py_version) {\n",
       "      if (root.Bokeh.versions === undefined || !root.Bokeh.versions.has(py_version)) {\n",
       "\treturn null\n",
       "      }\n",
       "      return root.Bokeh.versions.get(py_version);\n",
       "    } else if (root.Bokeh.version === py_version) {\n",
       "      return root.Bokeh\n",
       "    }\n",
       "    return null\n",
       "  }\n",
       "  function is_loaded(root) {\n",
       "    var Bokeh = get_bokeh(root)\n",
       "    return (Bokeh != null && Bokeh.Panel !== undefined)\n",
       "  }\n",
       "  if (is_loaded(root)) {\n",
       "    embed_document(root);\n",
       "  } else {\n",
       "    var attempts = 0;\n",
       "    var timer = setInterval(function(root) {\n",
       "      if (is_loaded(root)) {\n",
       "        clearInterval(timer);\n",
       "        embed_document(root);\n",
       "      } else if (document.readyState == \"complete\") {\n",
       "        attempts++;\n",
       "        if (attempts > 200) {\n",
       "          clearInterval(timer);\n",
       "\t  var Bokeh = get_bokeh(root)\n",
       "\t  if (Bokeh == null || Bokeh.Panel == null) {\n",
       "            console.warn(\"Panel: ERROR: Unable to run Panel code because Bokeh or Panel library is missing\");\n",
       "\t  } else {\n",
       "\t    console.warn(\"Panel: WARNING: Attempting to render but not all required libraries could be resolved.\")\n",
       "\t    embed_document(root)\n",
       "\t  }\n",
       "        }\n",
       "      }\n",
       "    }, 25, root)\n",
       "  }\n",
       "})(window);</script>"
      ],
      "text/plain": [
       ":Overlay\n",
       "   .Bars.I    :Bars   [post_str_b2]   (percent)\n",
       "   .HLine.I   :HLine   [x,y]\n",
       "   .HLine.II  :HLine   [x,y]\n",
       "   .HLine.III :HLine   [x,y]"
      ]
     },
     "metadata": {
      "application/vnd.holoviews_exec.v0+json": {
       "id": "30a799f6-e244-462b-b1ea-35fe4115d101"
      }
     },
     "output_type": "display_data"
    },
    {
     "name": "stdout",
     "output_type": "stream",
     "text": [
      "df_10_last FOR str_b2 = 04\n",
      "Last 3 results last_results=['04', '16']\n"
     ]
    },
    {
     "data": {
      "text/html": [
       "<div><style>\n",
       ".dataframe > thead > tr,\n",
       ".dataframe > tbody > tr {\n",
       "  text-align: right;\n",
       "  white-space: pre-wrap;\n",
       "}\n",
       "</style>\n",
       "<small>shape: (10, 30)</small><table border=\"1\" class=\"dataframe\"><thead><tr><th>fecha</th><th>sorteo</th><th>bolillas regulares</th><th>bolillas chauchamba</th><th>cc1</th><th>cc2</th><th>id</th><th>combo</th><th>b1</th><th>b2</th><th>b3</th><th>b4</th><th>b5</th><th>b6</th><th>str_b1</th><th>str_b2</th><th>str_b3</th><th>str_b4</th><th>str_b5</th><th>str_b6</th><th>post_str_b1</th><th>post_str_b2</th><th>post_str_b3</th><th>post_str_b4</th><th>post_str_b5</th><th>post_str_blast</th><th>is_rare_combination</th><th>reason</th><th>jumps_map</th><th>unijump</th></tr><tr><td>str</td><td>str</td><td>str</td><td>str</td><td>str</td><td>str</td><td>str</td><td>array[u8, 6]</td><td>u8</td><td>u8</td><td>u8</td><td>u8</td><td>u8</td><td>u8</td><td>str</td><td>str</td><td>str</td><td>str</td><td>str</td><td>str</td><td>str</td><td>str</td><td>str</td><td>str</td><td>str</td><td>str</td><td>bool</td><td>u8</td><td>str</td><td>i64</td></tr></thead><tbody><tr><td>&quot;08/07/2025&quot;</td><td>&quot;1831&quot;</td><td>&quot;39 30 04 09 38 02&quot;</td><td>&quot;10 11 06 28 04 40&quot;</td><td>&quot;&quot;</td><td>&quot;&quot;</td><td>&quot;020409303839&quot;</td><td>[2, 4, … 39]</td><td>2</td><td>4</td><td>9</td><td>30</td><td>38</td><td>39</td><td>&quot;02&quot;</td><td>&quot;04&quot;</td><td>&quot;09&quot;</td><td>&quot;30&quot;</td><td>&quot;38&quot;</td><td>&quot;39&quot;</td><td>&quot;02&quot;</td><td>&quot;04&quot;</td><td>&quot;09&quot;</td><td>&quot;30&quot;</td><td>&quot;38&quot;</td><td>&quot;39&quot;</td><td>true</td><td>16</td><td>&quot;02_05_21_08_01&quot;</td><td>77</td></tr><tr><td>&quot;21/06/2025&quot;</td><td>&quot;1824&quot;</td><td>&quot;09 30 04 08 13 02&quot;</td><td>&quot;03 27 12 16 01 23&quot;</td><td>&quot;&quot;</td><td>&quot;&quot;</td><td>&quot;020408091330&quot;</td><td>[2, 4, … 30]</td><td>2</td><td>4</td><td>8</td><td>9</td><td>13</td><td>30</td><td>&quot;02&quot;</td><td>&quot;04&quot;</td><td>&quot;08&quot;</td><td>&quot;09&quot;</td><td>&quot;13&quot;</td><td>&quot;30&quot;</td><td>&quot;02&quot;</td><td>&quot;16&quot;</td><td>&quot;18&quot;</td><td>&quot;24&quot;</td><td>&quot;26&quot;</td><td>&quot;39&quot;</td><td>false</td><td>0</td><td>&quot;02_04_01_04_17&quot;</td><td>-7</td></tr><tr><td>&quot;21/06/2025&quot;</td><td>&quot;1824&quot;</td><td>&quot;09 30 04 08 13 02&quot;</td><td>&quot;03 27 12 16 01 23&quot;</td><td>&quot;&quot;</td><td>&quot;&quot;</td><td>&quot;020408091330&quot;</td><td>[2, 4, … 30]</td><td>2</td><td>4</td><td>8</td><td>9</td><td>13</td><td>30</td><td>&quot;02&quot;</td><td>&quot;04&quot;</td><td>&quot;08&quot;</td><td>&quot;09&quot;</td><td>&quot;13&quot;</td><td>&quot;30&quot;</td><td>&quot;02&quot;</td><td>&quot;04&quot;</td><td>&quot;08&quot;</td><td>&quot;09&quot;</td><td>&quot;13&quot;</td><td>&quot;30&quot;</td><td>false</td><td>0</td><td>&quot;02_04_01_04_17&quot;</td><td>-7</td></tr><tr><td>&quot;17/06/2025&quot;</td><td>&quot;1822&quot;</td><td>&quot;08 13 04 19 03 18&quot;</td><td>&quot;15 18 05 02 22 20&quot;</td><td>&quot;&quot;</td><td>&quot;&quot;</td><td>&quot;030408131819&quot;</td><td>[3, 4, … 19]</td><td>3</td><td>4</td><td>8</td><td>13</td><td>18</td><td>19</td><td>&quot;03&quot;</td><td>&quot;04&quot;</td><td>&quot;08&quot;</td><td>&quot;13&quot;</td><td>&quot;18&quot;</td><td>&quot;19&quot;</td><td>&quot;04&quot;</td><td>&quot;11&quot;</td><td>&quot;18&quot;</td><td>&quot;20&quot;</td><td>&quot;29&quot;</td><td>&quot;36&quot;</td><td>true</td><td>24</td><td>&quot;01_04_05_05_01&quot;</td><td>-4</td></tr><tr><td>&quot;17/06/2025&quot;</td><td>&quot;1822&quot;</td><td>&quot;08 13 04 19 03 18&quot;</td><td>&quot;15 18 05 02 22 20&quot;</td><td>&quot;&quot;</td><td>&quot;&quot;</td><td>&quot;030408131819&quot;</td><td>[3, 4, … 19]</td><td>3</td><td>4</td><td>8</td><td>13</td><td>18</td><td>19</td><td>&quot;03&quot;</td><td>&quot;04&quot;</td><td>&quot;08&quot;</td><td>&quot;13&quot;</td><td>&quot;18&quot;</td><td>&quot;19&quot;</td><td>&quot;03&quot;</td><td>&quot;04&quot;</td><td>&quot;08&quot;</td><td>&quot;13&quot;</td><td>&quot;18&quot;</td><td>&quot;19&quot;</td><td>true</td><td>24</td><td>&quot;01_04_05_05_01&quot;</td><td>-4</td></tr><tr><td>&quot;01/05/2025&quot;</td><td>&quot;1802&quot;</td><td>&quot;21 34 01 32 04 24&quot;</td><td>&quot;07 39 16 08 17 26&quot;</td><td>&quot;&quot;</td><td>&quot;&quot;</td><td>&quot;010421243234&quot;</td><td>[1, 4, … 34]</td><td>1</td><td>4</td><td>21</td><td>24</td><td>32</td><td>34</td><td>&quot;01&quot;</td><td>&quot;04&quot;</td><td>&quot;21&quot;</td><td>&quot;24&quot;</td><td>&quot;32&quot;</td><td>&quot;34&quot;</td><td>&quot;05&quot;</td><td>&quot;11&quot;</td><td>&quot;12&quot;</td><td>&quot;22&quot;</td><td>&quot;23&quot;</td><td>&quot;35&quot;</td><td>false</td><td>0</td><td>&quot;03_17_03_08_02&quot;</td><td>-77</td></tr><tr><td>&quot;01/05/2025&quot;</td><td>&quot;1802&quot;</td><td>&quot;21 34 01 32 04 24&quot;</td><td>&quot;07 39 16 08 17 26&quot;</td><td>&quot;&quot;</td><td>&quot;&quot;</td><td>&quot;010421243234&quot;</td><td>[1, 4, … 34]</td><td>1</td><td>4</td><td>21</td><td>24</td><td>32</td><td>34</td><td>&quot;01&quot;</td><td>&quot;04&quot;</td><td>&quot;21&quot;</td><td>&quot;24&quot;</td><td>&quot;32&quot;</td><td>&quot;34&quot;</td><td>&quot;01&quot;</td><td>&quot;04&quot;</td><td>&quot;21&quot;</td><td>&quot;24&quot;</td><td>&quot;32&quot;</td><td>&quot;34&quot;</td><td>false</td><td>0</td><td>&quot;03_17_03_08_02&quot;</td><td>-77</td></tr><tr><td>&quot;03/08/2024&quot;</td><td>&quot;1686&quot;</td><td>&quot;02 04 08 26 05 33&quot;</td><td>&quot;30 12 22 29 38 23&quot;</td><td>&quot;&quot;</td><td>&quot;&quot;</td><td>&quot;020405082633&quot;</td><td>[2, 4, … 33]</td><td>2</td><td>4</td><td>5</td><td>8</td><td>26</td><td>33</td><td>&quot;02&quot;</td><td>&quot;04&quot;</td><td>&quot;05&quot;</td><td>&quot;08&quot;</td><td>&quot;26&quot;</td><td>&quot;33&quot;</td><td>&quot;01&quot;</td><td>&quot;02&quot;</td><td>&quot;09&quot;</td><td>&quot;16&quot;</td><td>&quot;22&quot;</td><td>&quot;31&quot;</td><td>true</td><td>16</td><td>&quot;02_01_03_18_07&quot;</td><td>-49</td></tr><tr><td>&quot;03/08/2024&quot;</td><td>&quot;1686&quot;</td><td>&quot;02 04 08 26 05 33&quot;</td><td>&quot;30 12 22 29 38 23&quot;</td><td>&quot;&quot;</td><td>&quot;&quot;</td><td>&quot;020405082633&quot;</td><td>[2, 4, … 33]</td><td>2</td><td>4</td><td>5</td><td>8</td><td>26</td><td>33</td><td>&quot;02&quot;</td><td>&quot;04&quot;</td><td>&quot;05&quot;</td><td>&quot;08&quot;</td><td>&quot;26&quot;</td><td>&quot;33&quot;</td><td>&quot;02&quot;</td><td>&quot;04&quot;</td><td>&quot;05&quot;</td><td>&quot;08&quot;</td><td>&quot;26&quot;</td><td>&quot;33&quot;</td><td>true</td><td>16</td><td>&quot;02_01_03_18_07&quot;</td><td>-49</td></tr><tr><td>&quot;11/06/2024&quot;</td><td>&quot;1663&quot;</td><td>&quot;10 20 26 08 04 03&quot;</td><td>&quot;22 15 02 17 07 13&quot;</td><td>&quot;&quot;</td><td>&quot;&quot;</td><td>&quot;030408102026&quot;</td><td>[3, 4, … 26]</td><td>3</td><td>4</td><td>8</td><td>10</td><td>20</td><td>26</td><td>&quot;03&quot;</td><td>&quot;04&quot;</td><td>&quot;08&quot;</td><td>&quot;10&quot;</td><td>&quot;20&quot;</td><td>&quot;26&quot;</td><td>&quot;02&quot;</td><td>&quot;07&quot;</td><td>&quot;13&quot;</td><td>&quot;29&quot;</td><td>&quot;35&quot;</td><td>&quot;37&quot;</td><td>false</td><td>0</td><td>&quot;01_04_02_10_06&quot;</td><td>-37</td></tr></tbody></table></div>"
      ],
      "text/plain": [
       "shape: (10, 30)\n",
       "┌────────────┬────────┬─────────────┬─────────────┬───┬────────────┬────────┬────────────┬─────────┐\n",
       "│ fecha      ┆ sorteo ┆ bolillas    ┆ bolillas    ┆ … ┆ is_rare_co ┆ reason ┆ jumps_map  ┆ unijump │\n",
       "│ ---        ┆ ---    ┆ regulares   ┆ chauchamba  ┆   ┆ mbination  ┆ ---    ┆ ---        ┆ ---     │\n",
       "│ str        ┆ str    ┆ ---         ┆ ---         ┆   ┆ ---        ┆ u8     ┆ str        ┆ i64     │\n",
       "│            ┆        ┆ str         ┆ str         ┆   ┆ bool       ┆        ┆            ┆         │\n",
       "╞════════════╪════════╪═════════════╪═════════════╪═══╪════════════╪════════╪════════════╪═════════╡\n",
       "│ 08/07/2025 ┆ 1831   ┆ 39 30 04 09 ┆ 10 11 06 28 ┆ … ┆ true       ┆ 16     ┆ 02_05_21_0 ┆ 77      │\n",
       "│            ┆        ┆ 38 02       ┆ 04 40       ┆   ┆            ┆        ┆ 8_01       ┆         │\n",
       "│ 21/06/2025 ┆ 1824   ┆ 09 30 04 08 ┆ 03 27 12 16 ┆ … ┆ false      ┆ 0      ┆ 02_04_01_0 ┆ -7      │\n",
       "│            ┆        ┆ 13 02       ┆ 01 23       ┆   ┆            ┆        ┆ 4_17       ┆         │\n",
       "│ 21/06/2025 ┆ 1824   ┆ 09 30 04 08 ┆ 03 27 12 16 ┆ … ┆ false      ┆ 0      ┆ 02_04_01_0 ┆ -7      │\n",
       "│            ┆        ┆ 13 02       ┆ 01 23       ┆   ┆            ┆        ┆ 4_17       ┆         │\n",
       "│ 17/06/2025 ┆ 1822   ┆ 08 13 04 19 ┆ 15 18 05 02 ┆ … ┆ true       ┆ 24     ┆ 01_04_05_0 ┆ -4      │\n",
       "│            ┆        ┆ 03 18       ┆ 22 20       ┆   ┆            ┆        ┆ 5_01       ┆         │\n",
       "│ 17/06/2025 ┆ 1822   ┆ 08 13 04 19 ┆ 15 18 05 02 ┆ … ┆ true       ┆ 24     ┆ 01_04_05_0 ┆ -4      │\n",
       "│            ┆        ┆ 03 18       ┆ 22 20       ┆   ┆            ┆        ┆ 5_01       ┆         │\n",
       "│ 01/05/2025 ┆ 1802   ┆ 21 34 01 32 ┆ 07 39 16 08 ┆ … ┆ false      ┆ 0      ┆ 03_17_03_0 ┆ -77     │\n",
       "│            ┆        ┆ 04 24       ┆ 17 26       ┆   ┆            ┆        ┆ 8_02       ┆         │\n",
       "│ 01/05/2025 ┆ 1802   ┆ 21 34 01 32 ┆ 07 39 16 08 ┆ … ┆ false      ┆ 0      ┆ 03_17_03_0 ┆ -77     │\n",
       "│            ┆        ┆ 04 24       ┆ 17 26       ┆   ┆            ┆        ┆ 8_02       ┆         │\n",
       "│ 03/08/2024 ┆ 1686   ┆ 02 04 08 26 ┆ 30 12 22 29 ┆ … ┆ true       ┆ 16     ┆ 02_01_03_1 ┆ -49     │\n",
       "│            ┆        ┆ 05 33       ┆ 38 23       ┆   ┆            ┆        ┆ 8_07       ┆         │\n",
       "│ 03/08/2024 ┆ 1686   ┆ 02 04 08 26 ┆ 30 12 22 29 ┆ … ┆ true       ┆ 16     ┆ 02_01_03_1 ┆ -49     │\n",
       "│            ┆        ┆ 05 33       ┆ 38 23       ┆   ┆            ┆        ┆ 8_07       ┆         │\n",
       "│ 11/06/2024 ┆ 1663   ┆ 10 20 26 08 ┆ 22 15 02 17 ┆ … ┆ false      ┆ 0      ┆ 01_04_02_1 ┆ -37     │\n",
       "│            ┆        ┆ 04 03       ┆ 07 13       ┆   ┆            ┆        ┆ 0_06       ┆         │\n",
       "└────────────┴────────┴─────────────┴─────────────┴───┴────────────┴────────┴────────────┴─────────┘"
      ]
     },
     "metadata": {},
     "output_type": "display_data"
    },
    {
     "name": "stdout",
     "output_type": "stream",
     "text": [
      "df_jumps_map FOR str_b2 = 04\n"
     ]
    },
    {
     "data": {
      "text/html": [
       "<div><style>\n",
       ".dataframe > thead > tr,\n",
       ".dataframe > tbody > tr {\n",
       "  text-align: right;\n",
       "  white-space: pre-wrap;\n",
       "}\n",
       "</style>\n",
       "<small>shape: (180, 2)</small><table border=\"1\" class=\"dataframe\"><thead><tr><th>jumps_map</th><th>count</th></tr><tr><td>str</td><td>u32</td></tr></thead><tbody><tr><td>&quot;01_16_03_05_09&quot;</td><td>2</td></tr><tr><td>&quot;02_01_03_18_07&quot;</td><td>2</td></tr><tr><td>&quot;03_05_01_15_14&quot;</td><td>2</td></tr><tr><td>&quot;01_04_03_10_10&quot;</td><td>2</td></tr><tr><td>&quot;02_03_01_16_11&quot;</td><td>2</td></tr><tr><td>&hellip;</td><td>&hellip;</td></tr><tr><td>&quot;02_02_09_16_03&quot;</td><td>1</td></tr><tr><td>&quot;01_16_03_08_07&quot;</td><td>1</td></tr><tr><td>&quot;01_02_01_13_06&quot;</td><td>1</td></tr><tr><td>&quot;01_04_01_09_10&quot;</td><td>1</td></tr><tr><td>&quot;03_03_09_03_20&quot;</td><td>1</td></tr></tbody></table></div>"
      ],
      "text/plain": [
       "shape: (180, 2)\n",
       "┌────────────────┬───────┐\n",
       "│ jumps_map      ┆ count │\n",
       "│ ---            ┆ ---   │\n",
       "│ str            ┆ u32   │\n",
       "╞════════════════╪═══════╡\n",
       "│ 01_16_03_05_09 ┆ 2     │\n",
       "│ 02_01_03_18_07 ┆ 2     │\n",
       "│ 03_05_01_15_14 ┆ 2     │\n",
       "│ 01_04_03_10_10 ┆ 2     │\n",
       "│ 02_03_01_16_11 ┆ 2     │\n",
       "│ …              ┆ …     │\n",
       "│ 02_02_09_16_03 ┆ 1     │\n",
       "│ 01_16_03_08_07 ┆ 1     │\n",
       "│ 01_02_01_13_06 ┆ 1     │\n",
       "│ 01_04_01_09_10 ┆ 1     │\n",
       "│ 03_03_09_03_20 ┆ 1     │\n",
       "└────────────────┴───────┘"
      ]
     },
     "metadata": {},
     "output_type": "display_data"
    },
    {
     "name": "stdout",
     "output_type": "stream",
     "text": [
      "df_unijump FOR str_b2 = 04\n"
     ]
    },
    {
     "data": {
      "text/html": [
       "<div><style>\n",
       ".dataframe > thead > tr,\n",
       ".dataframe > tbody > tr {\n",
       "  text-align: right;\n",
       "  white-space: pre-wrap;\n",
       "}\n",
       "</style>\n",
       "<small>shape: (121, 2)</small><table border=\"1\" class=\"dataframe\"><thead><tr><th>unijump</th><th>count</th></tr><tr><td>i64</td><td>u32</td></tr></thead><tbody><tr><td>-49</td><td>10</td></tr><tr><td>2</td><td>6</td></tr><tr><td>-37</td><td>5</td></tr><tr><td>0</td><td>5</td></tr><tr><td>-39</td><td>5</td></tr><tr><td>&hellip;</td><td>&hellip;</td></tr><tr><td>62</td><td>1</td></tr><tr><td>-96</td><td>1</td></tr><tr><td>-5</td><td>1</td></tr><tr><td>-30</td><td>1</td></tr><tr><td>-81</td><td>1</td></tr></tbody></table></div>"
      ],
      "text/plain": [
       "shape: (121, 2)\n",
       "┌─────────┬───────┐\n",
       "│ unijump ┆ count │\n",
       "│ ---     ┆ ---   │\n",
       "│ i64     ┆ u32   │\n",
       "╞═════════╪═══════╡\n",
       "│ -49     ┆ 10    │\n",
       "│ 2       ┆ 6     │\n",
       "│ -37     ┆ 5     │\n",
       "│ 0       ┆ 5     │\n",
       "│ -39     ┆ 5     │\n",
       "│ …       ┆ …     │\n",
       "│ 62      ┆ 1     │\n",
       "│ -96     ┆ 1     │\n",
       "│ -5      ┆ 1     │\n",
       "│ -30     ┆ 1     │\n",
       "│ -81     ┆ 1     │\n",
       "└─────────┴───────┘"
      ]
     },
     "metadata": {},
     "output_type": "display_data"
    }
   ],
   "source": [
    "possible_b2, exclude_jump_maps_b2, last_post_b2 = plot_post_col(col='str_b2', post_col='post_str_b2')"
   ]
  },
  {
   "cell_type": "code",
   "execution_count": 9,
   "metadata": {},
   "outputs": [
    {
     "name": "stdout",
     "output_type": "stream",
     "text": [
      "Setting test_value='09'\n",
      "df_viz FOR str_b3 = 09\n"
     ]
    },
    {
     "data": {
      "text/html": [
       "<div><style>\n",
       ".dataframe > thead > tr,\n",
       ".dataframe > tbody > tr {\n",
       "  text-align: right;\n",
       "  white-space: pre-wrap;\n",
       "}\n",
       "</style>\n",
       "<small>shape: (28, 3)</small><table border=\"1\" class=\"dataframe\"><thead><tr><th>post_str_b3</th><th>count</th><th>percent</th></tr><tr><td>str</td><td>u32</td><td>f64</td></tr></thead><tbody><tr><td>&quot;09&quot;</td><td>59</td><td>34.911243</td></tr><tr><td>&quot;16&quot;</td><td>9</td><td>5.325444</td></tr><tr><td>&quot;13&quot;</td><td>8</td><td>4.733728</td></tr><tr><td>&quot;15&quot;</td><td>8</td><td>4.733728</td></tr><tr><td>&quot;21&quot;</td><td>7</td><td>4.142012</td></tr><tr><td>&hellip;</td><td>&hellip;</td><td>&hellip;</td></tr><tr><td>&quot;28&quot;</td><td>2</td><td>1.183432</td></tr><tr><td>&quot;34&quot;</td><td>1</td><td>0.591716</td></tr><tr><td>&quot;32&quot;</td><td>1</td><td>0.591716</td></tr><tr><td>&quot;35&quot;</td><td>1</td><td>0.591716</td></tr><tr><td>&quot;05&quot;</td><td>1</td><td>0.591716</td></tr></tbody></table></div>"
      ],
      "text/plain": [
       "shape: (28, 3)\n",
       "┌─────────────┬───────┬───────────┐\n",
       "│ post_str_b3 ┆ count ┆ percent   │\n",
       "│ ---         ┆ ---   ┆ ---       │\n",
       "│ str         ┆ u32   ┆ f64       │\n",
       "╞═════════════╪═══════╪═══════════╡\n",
       "│ 09          ┆ 59    ┆ 34.911243 │\n",
       "│ 16          ┆ 9     ┆ 5.325444  │\n",
       "│ 13          ┆ 8     ┆ 4.733728  │\n",
       "│ 15          ┆ 8     ┆ 4.733728  │\n",
       "│ 21          ┆ 7     ┆ 4.142012  │\n",
       "│ …           ┆ …     ┆ …         │\n",
       "│ 28          ┆ 2     ┆ 1.183432  │\n",
       "│ 34          ┆ 1     ┆ 0.591716  │\n",
       "│ 32          ┆ 1     ┆ 0.591716  │\n",
       "│ 35          ┆ 1     ┆ 0.591716  │\n",
       "│ 05          ┆ 1     ┆ 0.591716  │\n",
       "└─────────────┴───────┴───────────┘"
      ]
     },
     "metadata": {},
     "output_type": "display_data"
    },
    {
     "data": {},
     "metadata": {},
     "output_type": "display_data"
    },
    {
     "data": {
      "application/vnd.holoviews_exec.v0+json": "",
      "text/html": [
       "<div id='7402cabc-ac06-48b3-8b0b-050db1077e27'>\n",
       "  <div id=\"aeee428c-45cf-4012-b9f0-a727838f737d\" data-root-id=\"7402cabc-ac06-48b3-8b0b-050db1077e27\" style=\"display: contents;\"></div>\n",
       "</div>\n",
       "<script type=\"application/javascript\">(function(root) {\n",
       "  var docs_json = {\"c4d150a7-8b23-4828-b6a9-3c63d906c214\":{\"version\":\"3.7.2\",\"title\":\"Bokeh Application\",\"roots\":[{\"type\":\"object\",\"name\":\"Row\",\"id\":\"7402cabc-ac06-48b3-8b0b-050db1077e27\",\"attributes\":{\"name\":\"Row00428\",\"tags\":[\"embedded\"],\"stylesheets\":[\"\\n:host(.pn-loading):before, .pn-loading:before {\\n  background-color: #c3c3c3;\\n  mask-size: auto calc(min(50%, 400px));\\n  -webkit-mask-size: auto calc(min(50%, 400px));\\n}\",{\"type\":\"object\",\"name\":\"ImportedStyleSheet\",\"id\":\"914015ac-2b81-43bd-9987-577508f6b830\",\"attributes\":{\"url\":\"https://cdn.holoviz.org/panel/1.6.2/dist/css/loading.css\"}},{\"type\":\"object\",\"name\":\"ImportedStyleSheet\",\"id\":\"c16ea096-2211-4e17-ab0e-d200d215ac97\",\"attributes\":{\"url\":\"https://cdn.holoviz.org/panel/1.6.2/dist/css/listpanel.css\"}},{\"type\":\"object\",\"name\":\"ImportedStyleSheet\",\"id\":\"6c6cef6e-acd4-4e35-82dc-0a2c9f5cd1d6\",\"attributes\":{\"url\":\"https://cdn.holoviz.org/panel/1.6.2/dist/bundled/theme/default.css\"}},{\"type\":\"object\",\"name\":\"ImportedStyleSheet\",\"id\":\"199dd158-4500-48a4-9ba6-9825b57f0a9b\",\"attributes\":{\"url\":\"https://cdn.holoviz.org/panel/1.6.2/dist/bundled/theme/native.css\"}}],\"min_width\":700,\"margin\":0,\"sizing_mode\":\"stretch_width\",\"align\":\"start\",\"children\":[{\"type\":\"object\",\"name\":\"Spacer\",\"id\":\"fc95dc03-0ac9-4eac-9ac3-8157ebcf7861\",\"attributes\":{\"name\":\"HSpacer00432\",\"stylesheets\":[\"\\n:host(.pn-loading):before, .pn-loading:before {\\n  background-color: #c3c3c3;\\n  mask-size: auto calc(min(50%, 400px));\\n  -webkit-mask-size: auto calc(min(50%, 400px));\\n}\",{\"id\":\"914015ac-2b81-43bd-9987-577508f6b830\"},{\"id\":\"6c6cef6e-acd4-4e35-82dc-0a2c9f5cd1d6\"},{\"id\":\"199dd158-4500-48a4-9ba6-9825b57f0a9b\"}],\"margin\":0,\"sizing_mode\":\"stretch_width\",\"align\":\"start\"}},{\"type\":\"object\",\"name\":\"Figure\",\"id\":\"7ced6835-4396-43c4-8a0c-9d7f684433aa\",\"attributes\":{\"width\":700,\"height\":300,\"margin\":[5,10],\"sizing_mode\":\"fixed\",\"align\":\"start\",\"x_range\":{\"type\":\"object\",\"name\":\"FactorRange\",\"id\":\"4d5f5f28-2313-4242-b99b-ffcb8e62c6d8\",\"attributes\":{\"name\":\"post_str_b3\",\"tags\":[[[\"post_str_b3\",null]],[]],\"factors\":[\"09\",\"16\",\"13\",\"15\",\"21\",\"20\",\"12\",\"17\",\"14\",\"10\",\"27\",\"18\",\"25\",\"19\",\"08\",\"24\",\"26\",\"11\",\"23\",\"06\",\"22\",\"07\",\"31\",\"28\",\"34\",\"32\",\"35\",\"05\"]}},\"y_range\":{\"type\":\"object\",\"name\":\"Range1d\",\"id\":\"3755c6cf-a9fa-4db7-a7e7-1d50c70cef33\",\"attributes\":{\"name\":\"percent\",\"tags\":[[[\"percent\",null]],{\"type\":\"map\",\"entries\":[[\"invert_yaxis\",false],[\"autorange\",false]]}],\"end\":38.34319526627219,\"reset_start\":0.0,\"reset_end\":38.34319526627219}},\"x_scale\":{\"type\":\"object\",\"name\":\"CategoricalScale\",\"id\":\"8fd2eac0-26b6-47ca-b0d7-ceb2f245b52f\"},\"y_scale\":{\"type\":\"object\",\"name\":\"LinearScale\",\"id\":\"ba782613-06f1-43f9-8cd5-e1604ee4ffb9\"},\"title\":{\"type\":\"object\",\"name\":\"Title\",\"id\":\"b97994a3-d08f-4924-b2b1-06e25bf862e9\",\"attributes\":{\"text_color\":\"black\",\"text_font_size\":\"12pt\"}},\"renderers\":[{\"type\":\"object\",\"name\":\"GlyphRenderer\",\"id\":\"1e769ea6-49dd-4e04-a953-e3a419caf603\",\"attributes\":{\"data_source\":{\"type\":\"object\",\"name\":\"ColumnDataSource\",\"id\":\"f81d168f-0490-42cb-b6e2-af48d473ae18\",\"attributes\":{\"selected\":{\"type\":\"object\",\"name\":\"Selection\",\"id\":\"c1c416ee-c102-44bc-9991-1d5ec2d6ca57\",\"attributes\":{\"indices\":[],\"line_indices\":[]}},\"selection_policy\":{\"type\":\"object\",\"name\":\"UnionRenderers\",\"id\":\"7d17c914-8896-46b2-a6c4-57c52b8afd6b\"},\"data\":{\"type\":\"map\",\"entries\":[[\"post_str_b3\",[\"09\",\"16\",\"13\",\"15\",\"21\",\"20\",\"12\",\"17\",\"14\",\"10\",\"27\",\"18\",\"25\",\"19\",\"08\",\"24\",\"26\",\"11\",\"23\",\"06\",\"22\",\"07\",\"31\",\"28\",\"34\",\"32\",\"35\",\"05\"]],[\"percent\",{\"type\":\"ndarray\",\"array\":{\"type\":\"bytes\",\"data\":\"N3z+mKN0QUDBGdciQU0VQB2l21dW7xJAHaXbV1bvEkB5MOCMa5EQQHkw4IxrkRBAq3fJgwFnDEBkjtLtK6sHQGSO0u0rqwdAZI7S7SurB0BkjtLtK6sHQGSO0u0rqwdAHaXbV1bvAkAdpdtXVu8CQB2l21dW7wJAHaXbV1bvAkAdpdtXVu8CQKt3yYMBZ/w/q3fJgwFn/D8dpdtXVu/yPx2l21dW7/I/HaXbV1bv8j8dpdtXVu/yPx2l21dW7/I/HaXbV1bv4j8dpdtXVu/iPx2l21dW7+I/HaXbV1bv4j8=\"},\"shape\":[28],\"dtype\":\"float64\",\"order\":\"little\"}]]}}},\"view\":{\"type\":\"object\",\"name\":\"CDSView\",\"id\":\"34cf1c20-1e78-4dc7-8a15-640e7f229104\",\"attributes\":{\"filter\":{\"type\":\"object\",\"name\":\"AllIndices\",\"id\":\"1f8c54f8-f41e-4904-b878-ec37d3451d9c\"}}},\"glyph\":{\"type\":\"object\",\"name\":\"VBar\",\"id\":\"1ba49bfb-2966-4800-9645-2969c642df54\",\"attributes\":{\"tags\":[\"apply_ranges\"],\"x\":{\"type\":\"field\",\"field\":\"post_str_b3\"},\"width\":{\"type\":\"value\",\"value\":0.8},\"top\":{\"type\":\"field\",\"field\":\"percent\"},\"fill_color\":{\"type\":\"value\",\"value\":\"#30a2da\"},\"hatch_color\":{\"type\":\"value\",\"value\":\"#30a2da\"}}},\"selection_glyph\":{\"type\":\"object\",\"name\":\"VBar\",\"id\":\"21790411-cd63-4e7b-8501-af153e76ad7e\",\"attributes\":{\"tags\":[\"apply_ranges\"],\"x\":{\"type\":\"field\",\"field\":\"post_str_b3\"},\"width\":{\"type\":\"value\",\"value\":0.8},\"bottom\":{\"type\":\"value\",\"value\":0},\"top\":{\"type\":\"field\",\"field\":\"percent\"},\"line_color\":{\"type\":\"value\",\"value\":\"black\"},\"line_alpha\":{\"type\":\"value\",\"value\":1.0},\"line_width\":{\"type\":\"value\",\"value\":1},\"line_join\":{\"type\":\"value\",\"value\":\"bevel\"},\"line_cap\":{\"type\":\"value\",\"value\":\"butt\"},\"line_dash\":{\"type\":\"value\",\"value\":[]},\"line_dash_offset\":{\"type\":\"value\",\"value\":0},\"fill_color\":{\"type\":\"value\",\"value\":\"#30a2da\"},\"fill_alpha\":{\"type\":\"value\",\"value\":1.0},\"hatch_color\":{\"type\":\"value\",\"value\":\"#30a2da\"},\"hatch_alpha\":{\"type\":\"value\",\"value\":1.0},\"hatch_scale\":{\"type\":\"value\",\"value\":12.0},\"hatch_pattern\":{\"type\":\"value\",\"value\":null},\"hatch_weight\":{\"type\":\"value\",\"value\":1.0}}},\"nonselection_glyph\":{\"type\":\"object\",\"name\":\"VBar\",\"id\":\"2cd02f54-f046-4c13-bdd7-99ea0971fa1b\",\"attributes\":{\"tags\":[\"apply_ranges\"],\"x\":{\"type\":\"field\",\"field\":\"post_str_b3\"},\"width\":{\"type\":\"value\",\"value\":0.8},\"top\":{\"type\":\"field\",\"field\":\"percent\"},\"line_alpha\":{\"type\":\"value\",\"value\":0.1},\"fill_color\":{\"type\":\"value\",\"value\":\"#30a2da\"},\"fill_alpha\":{\"type\":\"value\",\"value\":0.1},\"hatch_color\":{\"type\":\"value\",\"value\":\"#30a2da\"},\"hatch_alpha\":{\"type\":\"value\",\"value\":0.1}}},\"muted_glyph\":{\"type\":\"object\",\"name\":\"VBar\",\"id\":\"bb1105cf-a557-4ca3-bfe5-44072c30d9f5\",\"attributes\":{\"tags\":[\"apply_ranges\"],\"x\":{\"type\":\"field\",\"field\":\"post_str_b3\"},\"width\":{\"type\":\"value\",\"value\":0.8},\"top\":{\"type\":\"field\",\"field\":\"percent\"},\"line_alpha\":{\"type\":\"value\",\"value\":0.2},\"fill_color\":{\"type\":\"value\",\"value\":\"#30a2da\"},\"fill_alpha\":{\"type\":\"value\",\"value\":0.2},\"hatch_color\":{\"type\":\"value\",\"value\":\"#30a2da\"},\"hatch_alpha\":{\"type\":\"value\",\"value\":0.2}}}}},{\"type\":\"object\",\"name\":\"Span\",\"id\":\"94d4d34e-1a3b-499c-bc85-38626846ab14\",\"attributes\":{\"level\":\"glyph\",\"location\":3.5714285714285703,\"line_color\":\"red\",\"line_width\":3}},{\"type\":\"object\",\"name\":\"Span\",\"id\":\"6e17900a-eda3-4ce9-bcaf-510bb6787690\",\"attributes\":{\"level\":\"glyph\",\"location\":5.357142857142856,\"line_color\":\"blue\",\"line_width\":3}},{\"type\":\"object\",\"name\":\"Span\",\"id\":\"2c3f1edf-f396-4f8d-973d-78426ac4af63\",\"attributes\":{\"level\":\"glyph\",\"location\":1.7857142857142854,\"line_color\":\"blue\",\"line_width\":3}}],\"toolbar\":{\"type\":\"object\",\"name\":\"Toolbar\",\"id\":\"2254272f-e316-4bf3-9370-77b62c27ec5c\",\"attributes\":{\"tools\":[{\"type\":\"object\",\"name\":\"WheelZoomTool\",\"id\":\"e21b2866-9713-4fd9-b20b-13dd03acb82b\",\"attributes\":{\"tags\":[\"hv_created\"],\"renderers\":\"auto\",\"zoom_together\":\"none\"}},{\"type\":\"object\",\"name\":\"HoverTool\",\"id\":\"eb4d627c-7270-49df-98d7-3bf80769adc5\",\"attributes\":{\"tags\":[\"hv_created\"],\"renderers\":[{\"id\":\"1e769ea6-49dd-4e04-a953-e3a419caf603\"}],\"tooltips\":[[\"post_str_b3\",\"@{post_str_b3}\"],[\"percent\",\"@{percent}\"]]}},{\"type\":\"object\",\"name\":\"SaveTool\",\"id\":\"1f04ae58-d765-44d0-8c8a-77f8434d0318\"},{\"type\":\"object\",\"name\":\"PanTool\",\"id\":\"90673bc2-2951-40fb-9837-a8543bca09d2\"},{\"type\":\"object\",\"name\":\"BoxZoomTool\",\"id\":\"610eb673-3383-44f3-88da-caf145093273\",\"attributes\":{\"dimensions\":\"both\",\"overlay\":{\"type\":\"object\",\"name\":\"BoxAnnotation\",\"id\":\"9be2fb4c-61ed-47ec-bfb9-e958461239a1\",\"attributes\":{\"syncable\":false,\"line_color\":\"black\",\"line_alpha\":1.0,\"line_width\":2,\"line_dash\":[4,4],\"fill_color\":\"lightgrey\",\"fill_alpha\":0.5,\"level\":\"overlay\",\"visible\":false,\"left\":{\"type\":\"number\",\"value\":\"nan\"},\"right\":{\"type\":\"number\",\"value\":\"nan\"},\"top\":{\"type\":\"number\",\"value\":\"nan\"},\"bottom\":{\"type\":\"number\",\"value\":\"nan\"},\"left_units\":\"canvas\",\"right_units\":\"canvas\",\"top_units\":\"canvas\",\"bottom_units\":\"canvas\",\"handles\":{\"type\":\"object\",\"name\":\"BoxInteractionHandles\",\"id\":\"8b63f39d-5250-42e6-9409-ae0dc4b4654d\",\"attributes\":{\"all\":{\"type\":\"object\",\"name\":\"AreaVisuals\",\"id\":\"67b46f4f-d12b-4c53-9fe2-40a05fa310ef\",\"attributes\":{\"fill_color\":\"white\",\"hover_fill_color\":\"lightgray\"}}}}}}}},{\"type\":\"object\",\"name\":\"ResetTool\",\"id\":\"c6b91121-72a8-45b2-9849-ad076c8ab872\"}],\"active_drag\":{\"id\":\"90673bc2-2951-40fb-9837-a8543bca09d2\"}}},\"left\":[{\"type\":\"object\",\"name\":\"LinearAxis\",\"id\":\"852d1850-e574-4ebd-90b4-c50db6211551\",\"attributes\":{\"ticker\":{\"type\":\"object\",\"name\":\"BasicTicker\",\"id\":\"44d1a7c8-7ace-48f8-933c-cd4f54aa824f\",\"attributes\":{\"mantissas\":[1,2,5]}},\"formatter\":{\"type\":\"object\",\"name\":\"BasicTickFormatter\",\"id\":\"56f824ad-f34e-4178-90f3-3f48d25ca09b\"},\"axis_label\":\"percent\",\"major_label_policy\":{\"type\":\"object\",\"name\":\"AllLabels\",\"id\":\"4975217e-1688-48f5-843d-d7f5cb368fa4\"}}}],\"below\":[{\"type\":\"object\",\"name\":\"CategoricalAxis\",\"id\":\"03668ea4-91ff-4bf4-860b-adf76bf681ac\",\"attributes\":{\"ticker\":{\"type\":\"object\",\"name\":\"CategoricalTicker\",\"id\":\"4594af01-329f-443e-beb5-c0db4320d92d\"},\"formatter\":{\"type\":\"object\",\"name\":\"CategoricalTickFormatter\",\"id\":\"e3b490ac-fcb1-4196-b2a9-b02318f14fbf\"},\"axis_label\":\"post_str_b3\",\"major_label_policy\":{\"type\":\"object\",\"name\":\"AllLabels\",\"id\":\"106dfe20-11f5-411c-a65f-5cb541327ebd\"}}}],\"center\":[{\"type\":\"object\",\"name\":\"Grid\",\"id\":\"d0da4763-82c0-4d83-91b1-e13a5de4a219\",\"attributes\":{\"axis\":{\"id\":\"03668ea4-91ff-4bf4-860b-adf76bf681ac\"},\"grid_line_color\":null}},{\"type\":\"object\",\"name\":\"Grid\",\"id\":\"e188c159-d8f7-4cdf-b303-5456d574e465\",\"attributes\":{\"dimension\":1,\"axis\":{\"id\":\"852d1850-e574-4ebd-90b4-c50db6211551\"},\"grid_line_color\":null}}],\"min_border_top\":10,\"min_border_bottom\":10,\"min_border_left\":10,\"min_border_right\":10,\"output_backend\":\"webgl\"}},{\"type\":\"object\",\"name\":\"Spacer\",\"id\":\"d6291485-f2a4-4449-94c9-e59a6ea0d899\",\"attributes\":{\"name\":\"HSpacer00433\",\"stylesheets\":[\"\\n:host(.pn-loading):before, .pn-loading:before {\\n  background-color: #c3c3c3;\\n  mask-size: auto calc(min(50%, 400px));\\n  -webkit-mask-size: auto calc(min(50%, 400px));\\n}\",{\"id\":\"914015ac-2b81-43bd-9987-577508f6b830\"},{\"id\":\"6c6cef6e-acd4-4e35-82dc-0a2c9f5cd1d6\"},{\"id\":\"199dd158-4500-48a4-9ba6-9825b57f0a9b\"}],\"margin\":0,\"sizing_mode\":\"stretch_width\",\"align\":\"start\"}}]}}],\"defs\":[{\"type\":\"model\",\"name\":\"ReactiveHTML1\"},{\"type\":\"model\",\"name\":\"FlexBox1\",\"properties\":[{\"name\":\"align_content\",\"kind\":\"Any\",\"default\":\"flex-start\"},{\"name\":\"align_items\",\"kind\":\"Any\",\"default\":\"flex-start\"},{\"name\":\"flex_direction\",\"kind\":\"Any\",\"default\":\"row\"},{\"name\":\"flex_wrap\",\"kind\":\"Any\",\"default\":\"wrap\"},{\"name\":\"gap\",\"kind\":\"Any\",\"default\":\"\"},{\"name\":\"justify_content\",\"kind\":\"Any\",\"default\":\"flex-start\"}]},{\"type\":\"model\",\"name\":\"FloatPanel1\",\"properties\":[{\"name\":\"config\",\"kind\":\"Any\",\"default\":{\"type\":\"map\"}},{\"name\":\"contained\",\"kind\":\"Any\",\"default\":true},{\"name\":\"position\",\"kind\":\"Any\",\"default\":\"right-top\"},{\"name\":\"offsetx\",\"kind\":\"Any\",\"default\":null},{\"name\":\"offsety\",\"kind\":\"Any\",\"default\":null},{\"name\":\"theme\",\"kind\":\"Any\",\"default\":\"primary\"},{\"name\":\"status\",\"kind\":\"Any\",\"default\":\"normalized\"}]},{\"type\":\"model\",\"name\":\"GridStack1\",\"properties\":[{\"name\":\"ncols\",\"kind\":\"Any\",\"default\":null},{\"name\":\"nrows\",\"kind\":\"Any\",\"default\":null},{\"name\":\"allow_resize\",\"kind\":\"Any\",\"default\":true},{\"name\":\"allow_drag\",\"kind\":\"Any\",\"default\":true},{\"name\":\"state\",\"kind\":\"Any\",\"default\":[]}]},{\"type\":\"model\",\"name\":\"drag1\",\"properties\":[{\"name\":\"slider_width\",\"kind\":\"Any\",\"default\":5},{\"name\":\"slider_color\",\"kind\":\"Any\",\"default\":\"black\"},{\"name\":\"value\",\"kind\":\"Any\",\"default\":50}]},{\"type\":\"model\",\"name\":\"click1\",\"properties\":[{\"name\":\"terminal_output\",\"kind\":\"Any\",\"default\":\"\"},{\"name\":\"debug_name\",\"kind\":\"Any\",\"default\":\"\"},{\"name\":\"clears\",\"kind\":\"Any\",\"default\":0}]},{\"type\":\"model\",\"name\":\"FastWrapper1\",\"properties\":[{\"name\":\"object\",\"kind\":\"Any\",\"default\":null},{\"name\":\"style\",\"kind\":\"Any\",\"default\":null}]},{\"type\":\"model\",\"name\":\"NotificationArea1\",\"properties\":[{\"name\":\"js_events\",\"kind\":\"Any\",\"default\":{\"type\":\"map\"}},{\"name\":\"max_notifications\",\"kind\":\"Any\",\"default\":5},{\"name\":\"notifications\",\"kind\":\"Any\",\"default\":[]},{\"name\":\"position\",\"kind\":\"Any\",\"default\":\"bottom-right\"},{\"name\":\"_clear\",\"kind\":\"Any\",\"default\":0},{\"name\":\"types\",\"kind\":\"Any\",\"default\":[{\"type\":\"map\",\"entries\":[[\"type\",\"warning\"],[\"background\",\"#ffc107\"],[\"icon\",{\"type\":\"map\",\"entries\":[[\"className\",\"fas fa-exclamation-triangle\"],[\"tagName\",\"i\"],[\"color\",\"white\"]]}]]},{\"type\":\"map\",\"entries\":[[\"type\",\"info\"],[\"background\",\"#007bff\"],[\"icon\",{\"type\":\"map\",\"entries\":[[\"className\",\"fas fa-info-circle\"],[\"tagName\",\"i\"],[\"color\",\"white\"]]}]]}]}]},{\"type\":\"model\",\"name\":\"Notification\",\"properties\":[{\"name\":\"background\",\"kind\":\"Any\",\"default\":null},{\"name\":\"duration\",\"kind\":\"Any\",\"default\":3000},{\"name\":\"icon\",\"kind\":\"Any\",\"default\":null},{\"name\":\"message\",\"kind\":\"Any\",\"default\":\"\"},{\"name\":\"notification_type\",\"kind\":\"Any\",\"default\":null},{\"name\":\"_rendered\",\"kind\":\"Any\",\"default\":false},{\"name\":\"_destroyed\",\"kind\":\"Any\",\"default\":false}]},{\"type\":\"model\",\"name\":\"TemplateActions1\",\"properties\":[{\"name\":\"open_modal\",\"kind\":\"Any\",\"default\":0},{\"name\":\"close_modal\",\"kind\":\"Any\",\"default\":0}]},{\"type\":\"model\",\"name\":\"BootstrapTemplateActions1\",\"properties\":[{\"name\":\"open_modal\",\"kind\":\"Any\",\"default\":0},{\"name\":\"close_modal\",\"kind\":\"Any\",\"default\":0}]},{\"type\":\"model\",\"name\":\"TemplateEditor1\",\"properties\":[{\"name\":\"layout\",\"kind\":\"Any\",\"default\":[]}]},{\"type\":\"model\",\"name\":\"MaterialTemplateActions1\",\"properties\":[{\"name\":\"open_modal\",\"kind\":\"Any\",\"default\":0},{\"name\":\"close_modal\",\"kind\":\"Any\",\"default\":0}]},{\"type\":\"model\",\"name\":\"ReactiveESM1\",\"properties\":[{\"name\":\"esm_constants\",\"kind\":\"Any\",\"default\":{\"type\":\"map\"}}]},{\"type\":\"model\",\"name\":\"JSComponent1\",\"properties\":[{\"name\":\"esm_constants\",\"kind\":\"Any\",\"default\":{\"type\":\"map\"}}]},{\"type\":\"model\",\"name\":\"ReactComponent1\",\"properties\":[{\"name\":\"esm_constants\",\"kind\":\"Any\",\"default\":{\"type\":\"map\"}}]},{\"type\":\"model\",\"name\":\"AnyWidgetComponent1\",\"properties\":[{\"name\":\"esm_constants\",\"kind\":\"Any\",\"default\":{\"type\":\"map\"}}]},{\"type\":\"model\",\"name\":\"request_value1\",\"properties\":[{\"name\":\"fill\",\"kind\":\"Any\",\"default\":\"none\"},{\"name\":\"_synced\",\"kind\":\"Any\",\"default\":null},{\"name\":\"_request_sync\",\"kind\":\"Any\",\"default\":0}]}]}};\n",
       "  var render_items = [{\"docid\":\"c4d150a7-8b23-4828-b6a9-3c63d906c214\",\"roots\":{\"7402cabc-ac06-48b3-8b0b-050db1077e27\":\"aeee428c-45cf-4012-b9f0-a727838f737d\"},\"root_ids\":[\"7402cabc-ac06-48b3-8b0b-050db1077e27\"]}];\n",
       "  var docs = Object.values(docs_json)\n",
       "  if (!docs) {\n",
       "    return\n",
       "  }\n",
       "  const py_version = docs[0].version.replace('rc', '-rc.').replace('.dev', '-dev.')\n",
       "  async function embed_document(root) {\n",
       "    var Bokeh = get_bokeh(root)\n",
       "    await Bokeh.embed.embed_items_notebook(docs_json, render_items);\n",
       "    for (const render_item of render_items) {\n",
       "      for (const root_id of render_item.root_ids) {\n",
       "\tconst id_el = document.getElementById(root_id)\n",
       "\tif (id_el.children.length && id_el.children[0].hasAttribute('data-root-id')) {\n",
       "\t  const root_el = id_el.children[0]\n",
       "\t  root_el.id = root_el.id + '-rendered'\n",
       "\t  for (const child of root_el.children) {\n",
       "            // Ensure JupyterLab does not capture keyboard shortcuts\n",
       "            // see: https://jupyterlab.readthedocs.io/en/4.1.x/extension/notebook.html#keyboard-interaction-model\n",
       "\t    child.setAttribute('data-lm-suppress-shortcuts', 'true')\n",
       "\t  }\n",
       "\t}\n",
       "      }\n",
       "    }\n",
       "  }\n",
       "  function get_bokeh(root) {\n",
       "    if (root.Bokeh === undefined) {\n",
       "      return null\n",
       "    } else if (root.Bokeh.version !== py_version) {\n",
       "      if (root.Bokeh.versions === undefined || !root.Bokeh.versions.has(py_version)) {\n",
       "\treturn null\n",
       "      }\n",
       "      return root.Bokeh.versions.get(py_version);\n",
       "    } else if (root.Bokeh.version === py_version) {\n",
       "      return root.Bokeh\n",
       "    }\n",
       "    return null\n",
       "  }\n",
       "  function is_loaded(root) {\n",
       "    var Bokeh = get_bokeh(root)\n",
       "    return (Bokeh != null && Bokeh.Panel !== undefined)\n",
       "  }\n",
       "  if (is_loaded(root)) {\n",
       "    embed_document(root);\n",
       "  } else {\n",
       "    var attempts = 0;\n",
       "    var timer = setInterval(function(root) {\n",
       "      if (is_loaded(root)) {\n",
       "        clearInterval(timer);\n",
       "        embed_document(root);\n",
       "      } else if (document.readyState == \"complete\") {\n",
       "        attempts++;\n",
       "        if (attempts > 200) {\n",
       "          clearInterval(timer);\n",
       "\t  var Bokeh = get_bokeh(root)\n",
       "\t  if (Bokeh == null || Bokeh.Panel == null) {\n",
       "            console.warn(\"Panel: ERROR: Unable to run Panel code because Bokeh or Panel library is missing\");\n",
       "\t  } else {\n",
       "\t    console.warn(\"Panel: WARNING: Attempting to render but not all required libraries could be resolved.\")\n",
       "\t    embed_document(root)\n",
       "\t  }\n",
       "        }\n",
       "      }\n",
       "    }, 25, root)\n",
       "  }\n",
       "})(window);</script>"
      ],
      "text/plain": [
       ":Overlay\n",
       "   .Bars.I    :Bars   [post_str_b3]   (percent)\n",
       "   .HLine.I   :HLine   [x,y]\n",
       "   .HLine.II  :HLine   [x,y]\n",
       "   .HLine.III :HLine   [x,y]"
      ]
     },
     "metadata": {
      "application/vnd.holoviews_exec.v0+json": {
       "id": "7402cabc-ac06-48b3-8b0b-050db1077e27"
      }
     },
     "output_type": "display_data"
    },
    {
     "name": "stdout",
     "output_type": "stream",
     "text": [
      "df_10_last FOR str_b3 = 09\n",
      "Last 3 results last_results=['09', '15']\n"
     ]
    },
    {
     "data": {
      "text/html": [
       "<div><style>\n",
       ".dataframe > thead > tr,\n",
       ".dataframe > tbody > tr {\n",
       "  text-align: right;\n",
       "  white-space: pre-wrap;\n",
       "}\n",
       "</style>\n",
       "<small>shape: (10, 30)</small><table border=\"1\" class=\"dataframe\"><thead><tr><th>fecha</th><th>sorteo</th><th>bolillas regulares</th><th>bolillas chauchamba</th><th>cc1</th><th>cc2</th><th>id</th><th>combo</th><th>b1</th><th>b2</th><th>b3</th><th>b4</th><th>b5</th><th>b6</th><th>str_b1</th><th>str_b2</th><th>str_b3</th><th>str_b4</th><th>str_b5</th><th>str_b6</th><th>post_str_b1</th><th>post_str_b2</th><th>post_str_b3</th><th>post_str_b4</th><th>post_str_b5</th><th>post_str_blast</th><th>is_rare_combination</th><th>reason</th><th>jumps_map</th><th>unijump</th></tr><tr><td>str</td><td>str</td><td>str</td><td>str</td><td>str</td><td>str</td><td>str</td><td>array[u8, 6]</td><td>u8</td><td>u8</td><td>u8</td><td>u8</td><td>u8</td><td>u8</td><td>str</td><td>str</td><td>str</td><td>str</td><td>str</td><td>str</td><td>str</td><td>str</td><td>str</td><td>str</td><td>str</td><td>str</td><td>bool</td><td>u8</td><td>str</td><td>i64</td></tr></thead><tbody><tr><td>&quot;08/07/2025&quot;</td><td>&quot;1831&quot;</td><td>&quot;39 30 04 09 38 02&quot;</td><td>&quot;10 11 06 28 04 40&quot;</td><td>&quot;&quot;</td><td>&quot;&quot;</td><td>&quot;020409303839&quot;</td><td>[2, 4, … 39]</td><td>2</td><td>4</td><td>9</td><td>30</td><td>38</td><td>39</td><td>&quot;02&quot;</td><td>&quot;04&quot;</td><td>&quot;09&quot;</td><td>&quot;30&quot;</td><td>&quot;38&quot;</td><td>&quot;39&quot;</td><td>&quot;02&quot;</td><td>&quot;04&quot;</td><td>&quot;09&quot;</td><td>&quot;30&quot;</td><td>&quot;38&quot;</td><td>&quot;39&quot;</td><td>true</td><td>16</td><td>&quot;02_05_21_08_01&quot;</td><td>77</td></tr><tr><td>&quot;20/02/2025&quot;</td><td>&quot;1772&quot;</td><td>&quot;09 32 21 05 03 27&quot;</td><td>&quot;09 20 15 01 07 30&quot;</td><td>&quot;&quot;</td><td>&quot;&quot;</td><td>&quot;030509212732&quot;</td><td>[3, 5, … 32]</td><td>3</td><td>5</td><td>9</td><td>21</td><td>27</td><td>32</td><td>&quot;03&quot;</td><td>&quot;05&quot;</td><td>&quot;09&quot;</td><td>&quot;21&quot;</td><td>&quot;27&quot;</td><td>&quot;32&quot;</td><td>&quot;01&quot;</td><td>&quot;07&quot;</td><td>&quot;15&quot;</td><td>&quot;18&quot;</td><td>&quot;25&quot;</td><td>&quot;26&quot;</td><td>false</td><td>0</td><td>&quot;02_04_12_06_05&quot;</td><td>39</td></tr><tr><td>&quot;20/02/2025&quot;</td><td>&quot;1772&quot;</td><td>&quot;09 32 21 05 03 27&quot;</td><td>&quot;09 20 15 01 07 30&quot;</td><td>&quot;&quot;</td><td>&quot;&quot;</td><td>&quot;030509212732&quot;</td><td>[3, 5, … 32]</td><td>3</td><td>5</td><td>9</td><td>21</td><td>27</td><td>32</td><td>&quot;03&quot;</td><td>&quot;05&quot;</td><td>&quot;09&quot;</td><td>&quot;21&quot;</td><td>&quot;27&quot;</td><td>&quot;32&quot;</td><td>&quot;03&quot;</td><td>&quot;05&quot;</td><td>&quot;09&quot;</td><td>&quot;21&quot;</td><td>&quot;27&quot;</td><td>&quot;32&quot;</td><td>false</td><td>0</td><td>&quot;02_04_12_06_05&quot;</td><td>39</td></tr><tr><td>&quot;30/11/2024&quot;</td><td>&quot;1737&quot;</td><td>&quot;10 09 05 37 03 39&quot;</td><td>&quot;14 10 15 02 11 34&quot;</td><td>&quot;&quot;</td><td>&quot;&quot;</td><td>&quot;030509103739&quot;</td><td>[3, 5, … 39]</td><td>3</td><td>5</td><td>9</td><td>10</td><td>37</td><td>39</td><td>&quot;03&quot;</td><td>&quot;05&quot;</td><td>&quot;09&quot;</td><td>&quot;10&quot;</td><td>&quot;37&quot;</td><td>&quot;39&quot;</td><td>&quot;09&quot;</td><td>&quot;10&quot;</td><td>&quot;14&quot;</td><td>&quot;28&quot;</td><td>&quot;35&quot;</td><td>&quot;36&quot;</td><td>true</td><td>16</td><td>&quot;02_04_01_27_02&quot;</td><td>-114</td></tr><tr><td>&quot;30/11/2024&quot;</td><td>&quot;1737&quot;</td><td>&quot;10 09 05 37 03 39&quot;</td><td>&quot;14 10 15 02 11 34&quot;</td><td>&quot;&quot;</td><td>&quot;&quot;</td><td>&quot;030509103739&quot;</td><td>[3, 5, … 39]</td><td>3</td><td>5</td><td>9</td><td>10</td><td>37</td><td>39</td><td>&quot;03&quot;</td><td>&quot;05&quot;</td><td>&quot;09&quot;</td><td>&quot;10&quot;</td><td>&quot;37&quot;</td><td>&quot;39&quot;</td><td>&quot;03&quot;</td><td>&quot;05&quot;</td><td>&quot;09&quot;</td><td>&quot;10&quot;</td><td>&quot;37&quot;</td><td>&quot;39&quot;</td><td>true</td><td>16</td><td>&quot;02_04_01_27_02&quot;</td><td>-114</td></tr><tr><td>&quot;19/11/2024&quot;</td><td>&quot;1732&quot;</td><td>&quot;01 23 19 40 09 02&quot;</td><td>&quot;27 40 24 08 16 18&quot;</td><td>&quot;&quot;</td><td>&quot;&quot;</td><td>&quot;010209192340&quot;</td><td>[1, 2, … 40]</td><td>1</td><td>2</td><td>9</td><td>19</td><td>23</td><td>40</td><td>&quot;01&quot;</td><td>&quot;02&quot;</td><td>&quot;09&quot;</td><td>&quot;19&quot;</td><td>&quot;23&quot;</td><td>&quot;40&quot;</td><td>&quot;03&quot;</td><td>&quot;12&quot;</td><td>&quot;14&quot;</td><td>&quot;16&quot;</td><td>&quot;26&quot;</td><td>&quot;31&quot;</td><td>false</td><td>0</td><td>&quot;01_07_10_04_17&quot;</td><td>34</td></tr><tr><td>&quot;19/11/2024&quot;</td><td>&quot;1732&quot;</td><td>&quot;01 23 19 40 09 02&quot;</td><td>&quot;27 40 24 08 16 18&quot;</td><td>&quot;&quot;</td><td>&quot;&quot;</td><td>&quot;010209192340&quot;</td><td>[1, 2, … 40]</td><td>1</td><td>2</td><td>9</td><td>19</td><td>23</td><td>40</td><td>&quot;01&quot;</td><td>&quot;02&quot;</td><td>&quot;09&quot;</td><td>&quot;19&quot;</td><td>&quot;23&quot;</td><td>&quot;40&quot;</td><td>&quot;01&quot;</td><td>&quot;02&quot;</td><td>&quot;09&quot;</td><td>&quot;19&quot;</td><td>&quot;23&quot;</td><td>&quot;40&quot;</td><td>false</td><td>0</td><td>&quot;01_07_10_04_17&quot;</td><td>34</td></tr><tr><td>&quot;26/09/2024&quot;</td><td>&quot;1709&quot;</td><td>&quot;27 39 02 09 07 25&quot;</td><td>&quot;25 33 09 07 14 34&quot;</td><td>&quot;&quot;</td><td>&quot;&quot;</td><td>&quot;020709252739&quot;</td><td>[2, 7, … 39]</td><td>2</td><td>7</td><td>9</td><td>25</td><td>27</td><td>39</td><td>&quot;02&quot;</td><td>&quot;07&quot;</td><td>&quot;09&quot;</td><td>&quot;25&quot;</td><td>&quot;27&quot;</td><td>&quot;39&quot;</td><td>&quot;14&quot;</td><td>&quot;17&quot;</td><td>&quot;25&quot;</td><td>&quot;29&quot;</td><td>&quot;34&quot;</td><td>&quot;37&quot;</td><td>true</td><td>16</td><td>&quot;05_02_16_02_12&quot;</td><td>97</td></tr><tr><td>&quot;26/09/2024&quot;</td><td>&quot;1709&quot;</td><td>&quot;27 39 02 09 07 25&quot;</td><td>&quot;25 33 09 07 14 34&quot;</td><td>&quot;&quot;</td><td>&quot;&quot;</td><td>&quot;020709252739&quot;</td><td>[2, 7, … 39]</td><td>2</td><td>7</td><td>9</td><td>25</td><td>27</td><td>39</td><td>&quot;02&quot;</td><td>&quot;07&quot;</td><td>&quot;09&quot;</td><td>&quot;25&quot;</td><td>&quot;27&quot;</td><td>&quot;39&quot;</td><td>&quot;02&quot;</td><td>&quot;07&quot;</td><td>&quot;09&quot;</td><td>&quot;25&quot;</td><td>&quot;27&quot;</td><td>&quot;39&quot;</td><td>true</td><td>16</td><td>&quot;05_02_16_02_12&quot;</td><td>97</td></tr><tr><td>&quot;06/08/2024&quot;</td><td>&quot;1687&quot;</td><td>&quot;31 16 01 02 09 22&quot;</td><td>&quot;04 32 14 03 36 17&quot;</td><td>&quot;&quot;</td><td>&quot;&quot;</td><td>&quot;010209162231&quot;</td><td>[1, 2, … 31]</td><td>1</td><td>2</td><td>9</td><td>16</td><td>22</td><td>31</td><td>&quot;01&quot;</td><td>&quot;02&quot;</td><td>&quot;09&quot;</td><td>&quot;16&quot;</td><td>&quot;22&quot;</td><td>&quot;31&quot;</td><td>&quot;10&quot;</td><td>&quot;15&quot;</td><td>&quot;16&quot;</td><td>&quot;33&quot;</td><td>&quot;37&quot;</td><td>&quot;38&quot;</td><td>true</td><td>8</td><td>&quot;01_07_07_06_09&quot;</td><td>0</td></tr></tbody></table></div>"
      ],
      "text/plain": [
       "shape: (10, 30)\n",
       "┌────────────┬────────┬─────────────┬─────────────┬───┬────────────┬────────┬────────────┬─────────┐\n",
       "│ fecha      ┆ sorteo ┆ bolillas    ┆ bolillas    ┆ … ┆ is_rare_co ┆ reason ┆ jumps_map  ┆ unijump │\n",
       "│ ---        ┆ ---    ┆ regulares   ┆ chauchamba  ┆   ┆ mbination  ┆ ---    ┆ ---        ┆ ---     │\n",
       "│ str        ┆ str    ┆ ---         ┆ ---         ┆   ┆ ---        ┆ u8     ┆ str        ┆ i64     │\n",
       "│            ┆        ┆ str         ┆ str         ┆   ┆ bool       ┆        ┆            ┆         │\n",
       "╞════════════╪════════╪═════════════╪═════════════╪═══╪════════════╪════════╪════════════╪═════════╡\n",
       "│ 08/07/2025 ┆ 1831   ┆ 39 30 04 09 ┆ 10 11 06 28 ┆ … ┆ true       ┆ 16     ┆ 02_05_21_0 ┆ 77      │\n",
       "│            ┆        ┆ 38 02       ┆ 04 40       ┆   ┆            ┆        ┆ 8_01       ┆         │\n",
       "│ 20/02/2025 ┆ 1772   ┆ 09 32 21 05 ┆ 09 20 15 01 ┆ … ┆ false      ┆ 0      ┆ 02_04_12_0 ┆ 39      │\n",
       "│            ┆        ┆ 03 27       ┆ 07 30       ┆   ┆            ┆        ┆ 6_05       ┆         │\n",
       "│ 20/02/2025 ┆ 1772   ┆ 09 32 21 05 ┆ 09 20 15 01 ┆ … ┆ false      ┆ 0      ┆ 02_04_12_0 ┆ 39      │\n",
       "│            ┆        ┆ 03 27       ┆ 07 30       ┆   ┆            ┆        ┆ 6_05       ┆         │\n",
       "│ 30/11/2024 ┆ 1737   ┆ 10 09 05 37 ┆ 14 10 15 02 ┆ … ┆ true       ┆ 16     ┆ 02_04_01_2 ┆ -114    │\n",
       "│            ┆        ┆ 03 39       ┆ 11 34       ┆   ┆            ┆        ┆ 7_02       ┆         │\n",
       "│ 30/11/2024 ┆ 1737   ┆ 10 09 05 37 ┆ 14 10 15 02 ┆ … ┆ true       ┆ 16     ┆ 02_04_01_2 ┆ -114    │\n",
       "│            ┆        ┆ 03 39       ┆ 11 34       ┆   ┆            ┆        ┆ 7_02       ┆         │\n",
       "│ 19/11/2024 ┆ 1732   ┆ 01 23 19 40 ┆ 27 40 24 08 ┆ … ┆ false      ┆ 0      ┆ 01_07_10_0 ┆ 34      │\n",
       "│            ┆        ┆ 09 02       ┆ 16 18       ┆   ┆            ┆        ┆ 4_17       ┆         │\n",
       "│ 19/11/2024 ┆ 1732   ┆ 01 23 19 40 ┆ 27 40 24 08 ┆ … ┆ false      ┆ 0      ┆ 01_07_10_0 ┆ 34      │\n",
       "│            ┆        ┆ 09 02       ┆ 16 18       ┆   ┆            ┆        ┆ 4_17       ┆         │\n",
       "│ 26/09/2024 ┆ 1709   ┆ 27 39 02 09 ┆ 25 33 09 07 ┆ … ┆ true       ┆ 16     ┆ 05_02_16_0 ┆ 97      │\n",
       "│            ┆        ┆ 07 25       ┆ 14 34       ┆   ┆            ┆        ┆ 2_12       ┆         │\n",
       "│ 26/09/2024 ┆ 1709   ┆ 27 39 02 09 ┆ 25 33 09 07 ┆ … ┆ true       ┆ 16     ┆ 05_02_16_0 ┆ 97      │\n",
       "│            ┆        ┆ 07 25       ┆ 14 34       ┆   ┆            ┆        ┆ 2_12       ┆         │\n",
       "│ 06/08/2024 ┆ 1687   ┆ 31 16 01 02 ┆ 04 32 14 03 ┆ … ┆ true       ┆ 8      ┆ 01_07_07_0 ┆ 0       │\n",
       "│            ┆        ┆ 09 22       ┆ 36 17       ┆   ┆            ┆        ┆ 6_09       ┆         │\n",
       "└────────────┴────────┴─────────────┴─────────────┴───┴────────────┴────────┴────────────┴─────────┘"
      ]
     },
     "metadata": {},
     "output_type": "display_data"
    },
    {
     "name": "stdout",
     "output_type": "stream",
     "text": [
      "df_jumps_map FOR str_b3 = 09\n"
     ]
    },
    {
     "data": {
      "text/html": [
       "<div><style>\n",
       ".dataframe > thead > tr,\n",
       ".dataframe > tbody > tr {\n",
       "  text-align: right;\n",
       "  white-space: pre-wrap;\n",
       "}\n",
       "</style>\n",
       "<small>shape: (113, 2)</small><table border=\"1\" class=\"dataframe\"><thead><tr><th>jumps_map</th><th>count</th></tr><tr><td>str</td><td>u32</td></tr></thead><tbody><tr><td>&quot;01_06_02_08_09&quot;</td><td>2</td></tr><tr><td>&quot;02_02_01_14_12&quot;</td><td>2</td></tr><tr><td>&quot;06_02_16_02_07&quot;</td><td>2</td></tr><tr><td>&quot;02_04_06_03_08&quot;</td><td>2</td></tr><tr><td>&quot;04_01_12_06_01&quot;</td><td>2</td></tr><tr><td>&hellip;</td><td>&hellip;</td></tr><tr><td>&quot;01_05_02_09_12&quot;</td><td>1</td></tr><tr><td>&quot;01_03_05_04_16&quot;</td><td>1</td></tr><tr><td>&quot;06_01_15_03_08&quot;</td><td>1</td></tr><tr><td>&quot;02_02_09_03_04&quot;</td><td>1</td></tr><tr><td>&quot;04_02_11_04_02&quot;</td><td>1</td></tr></tbody></table></div>"
      ],
      "text/plain": [
       "shape: (113, 2)\n",
       "┌────────────────┬───────┐\n",
       "│ jumps_map      ┆ count │\n",
       "│ ---            ┆ ---   │\n",
       "│ str            ┆ u32   │\n",
       "╞════════════════╪═══════╡\n",
       "│ 01_06_02_08_09 ┆ 2     │\n",
       "│ 02_02_01_14_12 ┆ 2     │\n",
       "│ 06_02_16_02_07 ┆ 2     │\n",
       "│ 02_04_06_03_08 ┆ 2     │\n",
       "│ 04_01_12_06_01 ┆ 2     │\n",
       "│ …              ┆ …     │\n",
       "│ 01_05_02_09_12 ┆ 1     │\n",
       "│ 01_03_05_04_16 ┆ 1     │\n",
       "│ 06_01_15_03_08 ┆ 1     │\n",
       "│ 02_02_09_03_04 ┆ 1     │\n",
       "│ 04_02_11_04_02 ┆ 1     │\n",
       "└────────────────┴───────┘"
      ]
     },
     "metadata": {},
     "output_type": "display_data"
    },
    {
     "name": "stdout",
     "output_type": "stream",
     "text": [
      "df_unijump FOR str_b3 = 09\n"
     ]
    },
    {
     "data": {
      "text/html": [
       "<div><style>\n",
       ".dataframe > thead > tr,\n",
       ".dataframe > tbody > tr {\n",
       "  text-align: right;\n",
       "  white-space: pre-wrap;\n",
       "}\n",
       "</style>\n",
       "<small>shape: (78, 2)</small><table border=\"1\" class=\"dataframe\"><thead><tr><th>unijump</th><th>count</th></tr><tr><td>i64</td><td>u32</td></tr></thead><tbody><tr><td>51</td><td>7</td></tr><tr><td>23</td><td>5</td></tr><tr><td>34</td><td>5</td></tr><tr><td>-34</td><td>5</td></tr><tr><td>0</td><td>5</td></tr><tr><td>&hellip;</td><td>&hellip;</td></tr><tr><td>-10</td><td>1</td></tr><tr><td>1</td><td>1</td></tr><tr><td>10</td><td>1</td></tr><tr><td>8</td><td>1</td></tr><tr><td>24</td><td>1</td></tr></tbody></table></div>"
      ],
      "text/plain": [
       "shape: (78, 2)\n",
       "┌─────────┬───────┐\n",
       "│ unijump ┆ count │\n",
       "│ ---     ┆ ---   │\n",
       "│ i64     ┆ u32   │\n",
       "╞═════════╪═══════╡\n",
       "│ 51      ┆ 7     │\n",
       "│ 23      ┆ 5     │\n",
       "│ 34      ┆ 5     │\n",
       "│ -34     ┆ 5     │\n",
       "│ 0       ┆ 5     │\n",
       "│ …       ┆ …     │\n",
       "│ -10     ┆ 1     │\n",
       "│ 1       ┆ 1     │\n",
       "│ 10      ┆ 1     │\n",
       "│ 8       ┆ 1     │\n",
       "│ 24      ┆ 1     │\n",
       "└─────────┴───────┘"
      ]
     },
     "metadata": {},
     "output_type": "display_data"
    }
   ],
   "source": [
    "possible_b3, exclude_jump_maps_b3, last_post_b3 = plot_post_col(col='str_b3', post_col='post_str_b3')"
   ]
  },
  {
   "cell_type": "code",
   "execution_count": 10,
   "metadata": {},
   "outputs": [
    {
     "name": "stdout",
     "output_type": "stream",
     "text": [
      "Setting test_value='30'\n",
      "df_viz FOR str_b4 = 30\n"
     ]
    },
    {
     "data": {
      "text/html": [
       "<div><style>\n",
       ".dataframe > thead > tr,\n",
       ".dataframe > tbody > tr {\n",
       "  text-align: right;\n",
       "  white-space: pre-wrap;\n",
       "}\n",
       "</style>\n",
       "<small>shape: (28, 3)</small><table border=\"1\" class=\"dataframe\"><thead><tr><th>post_str_b4</th><th>count</th><th>percent</th></tr><tr><td>str</td><td>u32</td><td>f64</td></tr></thead><tbody><tr><td>&quot;30&quot;</td><td>81</td><td>34.322034</td></tr><tr><td>&quot;20&quot;</td><td>12</td><td>5.084746</td></tr><tr><td>&quot;23&quot;</td><td>10</td><td>4.237288</td></tr><tr><td>&quot;26&quot;</td><td>10</td><td>4.237288</td></tr><tr><td>&quot;24&quot;</td><td>9</td><td>3.813559</td></tr><tr><td>&hellip;</td><td>&hellip;</td><td>&hellip;</td></tr><tr><td>&quot;10&quot;</td><td>2</td><td>0.847458</td></tr><tr><td>&quot;08&quot;</td><td>2</td><td>0.847458</td></tr><tr><td>&quot;35&quot;</td><td>2</td><td>0.847458</td></tr><tr><td>&quot;11&quot;</td><td>1</td><td>0.423729</td></tr><tr><td>&quot;37&quot;</td><td>1</td><td>0.423729</td></tr></tbody></table></div>"
      ],
      "text/plain": [
       "shape: (28, 3)\n",
       "┌─────────────┬───────┬───────────┐\n",
       "│ post_str_b4 ┆ count ┆ percent   │\n",
       "│ ---         ┆ ---   ┆ ---       │\n",
       "│ str         ┆ u32   ┆ f64       │\n",
       "╞═════════════╪═══════╪═══════════╡\n",
       "│ 30          ┆ 81    ┆ 34.322034 │\n",
       "│ 20          ┆ 12    ┆ 5.084746  │\n",
       "│ 23          ┆ 10    ┆ 4.237288  │\n",
       "│ 26          ┆ 10    ┆ 4.237288  │\n",
       "│ 24          ┆ 9     ┆ 3.813559  │\n",
       "│ …           ┆ …     ┆ …         │\n",
       "│ 10          ┆ 2     ┆ 0.847458  │\n",
       "│ 08          ┆ 2     ┆ 0.847458  │\n",
       "│ 35          ┆ 2     ┆ 0.847458  │\n",
       "│ 11          ┆ 1     ┆ 0.423729  │\n",
       "│ 37          ┆ 1     ┆ 0.423729  │\n",
       "└─────────────┴───────┴───────────┘"
      ]
     },
     "metadata": {},
     "output_type": "display_data"
    },
    {
     "data": {},
     "metadata": {},
     "output_type": "display_data"
    },
    {
     "data": {
      "application/vnd.holoviews_exec.v0+json": "",
      "text/html": [
       "<div id='19678000-0a38-4e78-a37b-e418e740b460'>\n",
       "  <div id=\"bf09c263-7a79-47ab-b149-efb24504621a\" data-root-id=\"19678000-0a38-4e78-a37b-e418e740b460\" style=\"display: contents;\"></div>\n",
       "</div>\n",
       "<script type=\"application/javascript\">(function(root) {\n",
       "  var docs_json = {\"26e172ef-9d2e-4d34-94a0-d71136d927dc\":{\"version\":\"3.7.2\",\"title\":\"Bokeh Application\",\"roots\":[{\"type\":\"object\",\"name\":\"Row\",\"id\":\"19678000-0a38-4e78-a37b-e418e740b460\",\"attributes\":{\"name\":\"Row00499\",\"tags\":[\"embedded\"],\"stylesheets\":[\"\\n:host(.pn-loading):before, .pn-loading:before {\\n  background-color: #c3c3c3;\\n  mask-size: auto calc(min(50%, 400px));\\n  -webkit-mask-size: auto calc(min(50%, 400px));\\n}\",{\"type\":\"object\",\"name\":\"ImportedStyleSheet\",\"id\":\"562e7b43-0a14-4b10-aeca-109b7e55dc3f\",\"attributes\":{\"url\":\"https://cdn.holoviz.org/panel/1.6.2/dist/css/loading.css\"}},{\"type\":\"object\",\"name\":\"ImportedStyleSheet\",\"id\":\"11c2900a-722f-485d-9fce-322981685d45\",\"attributes\":{\"url\":\"https://cdn.holoviz.org/panel/1.6.2/dist/css/listpanel.css\"}},{\"type\":\"object\",\"name\":\"ImportedStyleSheet\",\"id\":\"8e726550-cedf-4ceb-ae9d-297aa8111b33\",\"attributes\":{\"url\":\"https://cdn.holoviz.org/panel/1.6.2/dist/bundled/theme/default.css\"}},{\"type\":\"object\",\"name\":\"ImportedStyleSheet\",\"id\":\"341374da-d3c0-4f3b-bb6d-57d6fdd68ccc\",\"attributes\":{\"url\":\"https://cdn.holoviz.org/panel/1.6.2/dist/bundled/theme/native.css\"}}],\"min_width\":700,\"margin\":0,\"sizing_mode\":\"stretch_width\",\"align\":\"start\",\"children\":[{\"type\":\"object\",\"name\":\"Spacer\",\"id\":\"0e481383-951c-4852-984e-f5cf5650004d\",\"attributes\":{\"name\":\"HSpacer00503\",\"stylesheets\":[\"\\n:host(.pn-loading):before, .pn-loading:before {\\n  background-color: #c3c3c3;\\n  mask-size: auto calc(min(50%, 400px));\\n  -webkit-mask-size: auto calc(min(50%, 400px));\\n}\",{\"id\":\"562e7b43-0a14-4b10-aeca-109b7e55dc3f\"},{\"id\":\"8e726550-cedf-4ceb-ae9d-297aa8111b33\"},{\"id\":\"341374da-d3c0-4f3b-bb6d-57d6fdd68ccc\"}],\"margin\":0,\"sizing_mode\":\"stretch_width\",\"align\":\"start\"}},{\"type\":\"object\",\"name\":\"Figure\",\"id\":\"769021c6-39b8-4f7b-9d7b-db39ae17fb89\",\"attributes\":{\"width\":700,\"height\":300,\"margin\":[5,10],\"sizing_mode\":\"fixed\",\"align\":\"start\",\"x_range\":{\"type\":\"object\",\"name\":\"FactorRange\",\"id\":\"2febf607-b748-4e06-b73d-43e52543766c\",\"attributes\":{\"name\":\"post_str_b4\",\"tags\":[[[\"post_str_b4\",null]],[]],\"factors\":[\"30\",\"20\",\"23\",\"26\",\"24\",\"28\",\"15\",\"27\",\"25\",\"18\",\"22\",\"31\",\"32\",\"21\",\"16\",\"29\",\"17\",\"12\",\"33\",\"34\",\"19\",\"14\",\"13\",\"10\",\"08\",\"35\",\"11\",\"37\"]}},\"y_range\":{\"type\":\"object\",\"name\":\"Range1d\",\"id\":\"1e4c2a4f-31a4-454a-be94-06858d33a7d3\",\"attributes\":{\"name\":\"percent\",\"tags\":[[[\"percent\",null]],{\"type\":\"map\",\"entries\":[[\"invert_yaxis\",false],[\"autorange\",false]]}],\"end\":37.711864406779654,\"reset_start\":0.0,\"reset_end\":37.711864406779654}},\"x_scale\":{\"type\":\"object\",\"name\":\"CategoricalScale\",\"id\":\"bc4fe02d-374a-44a6-951d-7db34ccf0078\"},\"y_scale\":{\"type\":\"object\",\"name\":\"LinearScale\",\"id\":\"581eea79-3cfe-4d7f-8f86-b696de21ec4c\"},\"title\":{\"type\":\"object\",\"name\":\"Title\",\"id\":\"2019c77a-8bdd-4fa4-b12b-703c4908d664\",\"attributes\":{\"text_color\":\"black\",\"text_font_size\":\"12pt\"}},\"renderers\":[{\"type\":\"object\",\"name\":\"GlyphRenderer\",\"id\":\"2479b8e6-6f77-40e2-93b5-a14888723176\",\"attributes\":{\"data_source\":{\"type\":\"object\",\"name\":\"ColumnDataSource\",\"id\":\"ad22e74b-6d97-41cc-afd9-aae9fa56a33d\",\"attributes\":{\"selected\":{\"type\":\"object\",\"name\":\"Selection\",\"id\":\"8f76e53d-8351-4075-a02b-71ebe0490e95\",\"attributes\":{\"indices\":[],\"line_indices\":[]}},\"selection_policy\":{\"type\":\"object\",\"name\":\"UnionRenderers\",\"id\":\"f737b769-1580-47da-9eef-c8dbcc809f84\"},\"data\":{\"type\":\"map\",\"entries\":[[\"post_str_b4\",[\"30\",\"20\",\"23\",\"26\",\"24\",\"28\",\"15\",\"27\",\"25\",\"18\",\"22\",\"31\",\"32\",\"21\",\"16\",\"29\",\"17\",\"12\",\"33\",\"34\",\"19\",\"14\",\"13\",\"10\",\"08\",\"35\",\"11\",\"37\"]],[\"percent\",{\"type\":\"ndarray\",\"array\":{\"type\":\"bytes\",\"data\":\"PLYiaDgpQUDESd2Xx1YUQCJoOKn78hBAImg4qfvyEECl7stjK4IOQKXuy2Mrgg5ABA0ndV8eC0AEDSd1Xx4LQAQNJ3VfHgtABA0ndV8eC0AEDSd1Xx4LQGQrgoaTugdAZCuChpO6B0BkK4KGk7oHQGQrgoaTugdAImg4qfvyAEAiaDip+/IAQAQNJ3VfHvs/BA0ndV8e+z/ESd2Xx1b0P8RJ3ZfHVvQ/xEndl8dW9D8EDSd1Xx7rPwQNJ3VfHus/BA0ndV8e6z8EDSd1Xx7rPwQNJ3VfHts/BA0ndV8e2z8=\"},\"shape\":[28],\"dtype\":\"float64\",\"order\":\"little\"}]]}}},\"view\":{\"type\":\"object\",\"name\":\"CDSView\",\"id\":\"7b781ead-2bae-4206-94ae-7469c9dd26aa\",\"attributes\":{\"filter\":{\"type\":\"object\",\"name\":\"AllIndices\",\"id\":\"da6a35b2-0a85-443b-80be-b5e9fe20f85f\"}}},\"glyph\":{\"type\":\"object\",\"name\":\"VBar\",\"id\":\"4d3dc202-d94b-4141-9166-cac506edd211\",\"attributes\":{\"tags\":[\"apply_ranges\"],\"x\":{\"type\":\"field\",\"field\":\"post_str_b4\"},\"width\":{\"type\":\"value\",\"value\":0.8},\"top\":{\"type\":\"field\",\"field\":\"percent\"},\"fill_color\":{\"type\":\"value\",\"value\":\"#30a2da\"},\"hatch_color\":{\"type\":\"value\",\"value\":\"#30a2da\"}}},\"selection_glyph\":{\"type\":\"object\",\"name\":\"VBar\",\"id\":\"be2a4fcb-8c17-4333-b0ff-858549bfd94b\",\"attributes\":{\"tags\":[\"apply_ranges\"],\"x\":{\"type\":\"field\",\"field\":\"post_str_b4\"},\"width\":{\"type\":\"value\",\"value\":0.8},\"bottom\":{\"type\":\"value\",\"value\":0},\"top\":{\"type\":\"field\",\"field\":\"percent\"},\"line_color\":{\"type\":\"value\",\"value\":\"black\"},\"line_alpha\":{\"type\":\"value\",\"value\":1.0},\"line_width\":{\"type\":\"value\",\"value\":1},\"line_join\":{\"type\":\"value\",\"value\":\"bevel\"},\"line_cap\":{\"type\":\"value\",\"value\":\"butt\"},\"line_dash\":{\"type\":\"value\",\"value\":[]},\"line_dash_offset\":{\"type\":\"value\",\"value\":0},\"fill_color\":{\"type\":\"value\",\"value\":\"#30a2da\"},\"fill_alpha\":{\"type\":\"value\",\"value\":1.0},\"hatch_color\":{\"type\":\"value\",\"value\":\"#30a2da\"},\"hatch_alpha\":{\"type\":\"value\",\"value\":1.0},\"hatch_scale\":{\"type\":\"value\",\"value\":12.0},\"hatch_pattern\":{\"type\":\"value\",\"value\":null},\"hatch_weight\":{\"type\":\"value\",\"value\":1.0}}},\"nonselection_glyph\":{\"type\":\"object\",\"name\":\"VBar\",\"id\":\"8a4d39e0-e202-431c-a1a3-8a6c1bebe880\",\"attributes\":{\"tags\":[\"apply_ranges\"],\"x\":{\"type\":\"field\",\"field\":\"post_str_b4\"},\"width\":{\"type\":\"value\",\"value\":0.8},\"top\":{\"type\":\"field\",\"field\":\"percent\"},\"line_alpha\":{\"type\":\"value\",\"value\":0.1},\"fill_color\":{\"type\":\"value\",\"value\":\"#30a2da\"},\"fill_alpha\":{\"type\":\"value\",\"value\":0.1},\"hatch_color\":{\"type\":\"value\",\"value\":\"#30a2da\"},\"hatch_alpha\":{\"type\":\"value\",\"value\":0.1}}},\"muted_glyph\":{\"type\":\"object\",\"name\":\"VBar\",\"id\":\"56fc423d-4bdb-47da-9e84-31e2e9c41826\",\"attributes\":{\"tags\":[\"apply_ranges\"],\"x\":{\"type\":\"field\",\"field\":\"post_str_b4\"},\"width\":{\"type\":\"value\",\"value\":0.8},\"top\":{\"type\":\"field\",\"field\":\"percent\"},\"line_alpha\":{\"type\":\"value\",\"value\":0.2},\"fill_color\":{\"type\":\"value\",\"value\":\"#30a2da\"},\"fill_alpha\":{\"type\":\"value\",\"value\":0.2},\"hatch_color\":{\"type\":\"value\",\"value\":\"#30a2da\"},\"hatch_alpha\":{\"type\":\"value\",\"value\":0.2}}}}},{\"type\":\"object\",\"name\":\"Span\",\"id\":\"716743b9-56d7-4a12-a2d4-b9c6c466e041\",\"attributes\":{\"level\":\"glyph\",\"location\":3.57142857142857,\"line_color\":\"red\",\"line_width\":3}},{\"type\":\"object\",\"name\":\"Span\",\"id\":\"63a72a1b-9ab7-490d-a6c5-e7f733f7aa3a\",\"attributes\":{\"level\":\"glyph\",\"location\":5.357142857142854,\"line_color\":\"blue\",\"line_width\":3}},{\"type\":\"object\",\"name\":\"Span\",\"id\":\"ad51ba62-3ed7-4122-8335-32e0a408cc9a\",\"attributes\":{\"level\":\"glyph\",\"location\":1.785714285714285,\"line_color\":\"blue\",\"line_width\":3}}],\"toolbar\":{\"type\":\"object\",\"name\":\"Toolbar\",\"id\":\"411fb896-873b-4c93-a8d8-530036ea7932\",\"attributes\":{\"tools\":[{\"type\":\"object\",\"name\":\"WheelZoomTool\",\"id\":\"5b990ca7-4cfa-4caa-85bb-45363459dda0\",\"attributes\":{\"tags\":[\"hv_created\"],\"renderers\":\"auto\",\"zoom_together\":\"none\"}},{\"type\":\"object\",\"name\":\"HoverTool\",\"id\":\"a6f6d82e-0944-47e0-bb82-8c0ca6758960\",\"attributes\":{\"tags\":[\"hv_created\"],\"renderers\":[{\"id\":\"2479b8e6-6f77-40e2-93b5-a14888723176\"}],\"tooltips\":[[\"post_str_b4\",\"@{post_str_b4}\"],[\"percent\",\"@{percent}\"]]}},{\"type\":\"object\",\"name\":\"SaveTool\",\"id\":\"007fba24-77be-4ad5-92cd-06193fe07219\"},{\"type\":\"object\",\"name\":\"PanTool\",\"id\":\"f92ad863-e216-48e9-bfd8-4045d4c29d42\"},{\"type\":\"object\",\"name\":\"BoxZoomTool\",\"id\":\"aec4792c-3304-4a24-aba8-613a4aa8ae4c\",\"attributes\":{\"dimensions\":\"both\",\"overlay\":{\"type\":\"object\",\"name\":\"BoxAnnotation\",\"id\":\"6052be6a-0054-4e33-970b-c8a17cb9a2e6\",\"attributes\":{\"syncable\":false,\"line_color\":\"black\",\"line_alpha\":1.0,\"line_width\":2,\"line_dash\":[4,4],\"fill_color\":\"lightgrey\",\"fill_alpha\":0.5,\"level\":\"overlay\",\"visible\":false,\"left\":{\"type\":\"number\",\"value\":\"nan\"},\"right\":{\"type\":\"number\",\"value\":\"nan\"},\"top\":{\"type\":\"number\",\"value\":\"nan\"},\"bottom\":{\"type\":\"number\",\"value\":\"nan\"},\"left_units\":\"canvas\",\"right_units\":\"canvas\",\"top_units\":\"canvas\",\"bottom_units\":\"canvas\",\"handles\":{\"type\":\"object\",\"name\":\"BoxInteractionHandles\",\"id\":\"e632a0a0-fd40-42f3-8d15-2a491dbbf03a\",\"attributes\":{\"all\":{\"type\":\"object\",\"name\":\"AreaVisuals\",\"id\":\"621b553a-b197-4e0c-bbe4-18b495676641\",\"attributes\":{\"fill_color\":\"white\",\"hover_fill_color\":\"lightgray\"}}}}}}}},{\"type\":\"object\",\"name\":\"ResetTool\",\"id\":\"c250156c-1bea-40fb-8b9b-5577570bdba7\"}],\"active_drag\":{\"id\":\"f92ad863-e216-48e9-bfd8-4045d4c29d42\"}}},\"left\":[{\"type\":\"object\",\"name\":\"LinearAxis\",\"id\":\"1647d881-0822-4bc9-a4b5-23d98c6a1ce0\",\"attributes\":{\"ticker\":{\"type\":\"object\",\"name\":\"BasicTicker\",\"id\":\"fe14375b-736a-41af-9410-5b54b44803bf\",\"attributes\":{\"mantissas\":[1,2,5]}},\"formatter\":{\"type\":\"object\",\"name\":\"BasicTickFormatter\",\"id\":\"26a41200-d962-4d1a-b2c5-5bb185a71fa6\"},\"axis_label\":\"percent\",\"major_label_policy\":{\"type\":\"object\",\"name\":\"AllLabels\",\"id\":\"64b19ab9-8b96-42ef-89e2-09810f0d6c7b\"}}}],\"below\":[{\"type\":\"object\",\"name\":\"CategoricalAxis\",\"id\":\"9194801b-90fd-41fe-8de2-10b0bca3f91d\",\"attributes\":{\"ticker\":{\"type\":\"object\",\"name\":\"CategoricalTicker\",\"id\":\"0441e195-d5a2-4e8c-b2a6-5e82f5c551e6\"},\"formatter\":{\"type\":\"object\",\"name\":\"CategoricalTickFormatter\",\"id\":\"0677a5bb-8fee-48a0-81dc-1f50d3204e4d\"},\"axis_label\":\"post_str_b4\",\"major_label_policy\":{\"type\":\"object\",\"name\":\"AllLabels\",\"id\":\"bf994654-233d-46fb-8197-7393f7ff7cca\"}}}],\"center\":[{\"type\":\"object\",\"name\":\"Grid\",\"id\":\"ba96b566-1051-40fb-85a3-f9c5ad9d0a0d\",\"attributes\":{\"axis\":{\"id\":\"9194801b-90fd-41fe-8de2-10b0bca3f91d\"},\"grid_line_color\":null}},{\"type\":\"object\",\"name\":\"Grid\",\"id\":\"45d0b601-b024-4024-aa6c-5dc14920e2a6\",\"attributes\":{\"dimension\":1,\"axis\":{\"id\":\"1647d881-0822-4bc9-a4b5-23d98c6a1ce0\"},\"grid_line_color\":null}}],\"min_border_top\":10,\"min_border_bottom\":10,\"min_border_left\":10,\"min_border_right\":10,\"output_backend\":\"webgl\"}},{\"type\":\"object\",\"name\":\"Spacer\",\"id\":\"d5f89c38-f43f-4437-bae6-1e06a8dc24d9\",\"attributes\":{\"name\":\"HSpacer00504\",\"stylesheets\":[\"\\n:host(.pn-loading):before, .pn-loading:before {\\n  background-color: #c3c3c3;\\n  mask-size: auto calc(min(50%, 400px));\\n  -webkit-mask-size: auto calc(min(50%, 400px));\\n}\",{\"id\":\"562e7b43-0a14-4b10-aeca-109b7e55dc3f\"},{\"id\":\"8e726550-cedf-4ceb-ae9d-297aa8111b33\"},{\"id\":\"341374da-d3c0-4f3b-bb6d-57d6fdd68ccc\"}],\"margin\":0,\"sizing_mode\":\"stretch_width\",\"align\":\"start\"}}]}}],\"defs\":[{\"type\":\"model\",\"name\":\"ReactiveHTML1\"},{\"type\":\"model\",\"name\":\"FlexBox1\",\"properties\":[{\"name\":\"align_content\",\"kind\":\"Any\",\"default\":\"flex-start\"},{\"name\":\"align_items\",\"kind\":\"Any\",\"default\":\"flex-start\"},{\"name\":\"flex_direction\",\"kind\":\"Any\",\"default\":\"row\"},{\"name\":\"flex_wrap\",\"kind\":\"Any\",\"default\":\"wrap\"},{\"name\":\"gap\",\"kind\":\"Any\",\"default\":\"\"},{\"name\":\"justify_content\",\"kind\":\"Any\",\"default\":\"flex-start\"}]},{\"type\":\"model\",\"name\":\"FloatPanel1\",\"properties\":[{\"name\":\"config\",\"kind\":\"Any\",\"default\":{\"type\":\"map\"}},{\"name\":\"contained\",\"kind\":\"Any\",\"default\":true},{\"name\":\"position\",\"kind\":\"Any\",\"default\":\"right-top\"},{\"name\":\"offsetx\",\"kind\":\"Any\",\"default\":null},{\"name\":\"offsety\",\"kind\":\"Any\",\"default\":null},{\"name\":\"theme\",\"kind\":\"Any\",\"default\":\"primary\"},{\"name\":\"status\",\"kind\":\"Any\",\"default\":\"normalized\"}]},{\"type\":\"model\",\"name\":\"GridStack1\",\"properties\":[{\"name\":\"ncols\",\"kind\":\"Any\",\"default\":null},{\"name\":\"nrows\",\"kind\":\"Any\",\"default\":null},{\"name\":\"allow_resize\",\"kind\":\"Any\",\"default\":true},{\"name\":\"allow_drag\",\"kind\":\"Any\",\"default\":true},{\"name\":\"state\",\"kind\":\"Any\",\"default\":[]}]},{\"type\":\"model\",\"name\":\"drag1\",\"properties\":[{\"name\":\"slider_width\",\"kind\":\"Any\",\"default\":5},{\"name\":\"slider_color\",\"kind\":\"Any\",\"default\":\"black\"},{\"name\":\"value\",\"kind\":\"Any\",\"default\":50}]},{\"type\":\"model\",\"name\":\"click1\",\"properties\":[{\"name\":\"terminal_output\",\"kind\":\"Any\",\"default\":\"\"},{\"name\":\"debug_name\",\"kind\":\"Any\",\"default\":\"\"},{\"name\":\"clears\",\"kind\":\"Any\",\"default\":0}]},{\"type\":\"model\",\"name\":\"FastWrapper1\",\"properties\":[{\"name\":\"object\",\"kind\":\"Any\",\"default\":null},{\"name\":\"style\",\"kind\":\"Any\",\"default\":null}]},{\"type\":\"model\",\"name\":\"NotificationArea1\",\"properties\":[{\"name\":\"js_events\",\"kind\":\"Any\",\"default\":{\"type\":\"map\"}},{\"name\":\"max_notifications\",\"kind\":\"Any\",\"default\":5},{\"name\":\"notifications\",\"kind\":\"Any\",\"default\":[]},{\"name\":\"position\",\"kind\":\"Any\",\"default\":\"bottom-right\"},{\"name\":\"_clear\",\"kind\":\"Any\",\"default\":0},{\"name\":\"types\",\"kind\":\"Any\",\"default\":[{\"type\":\"map\",\"entries\":[[\"type\",\"warning\"],[\"background\",\"#ffc107\"],[\"icon\",{\"type\":\"map\",\"entries\":[[\"className\",\"fas fa-exclamation-triangle\"],[\"tagName\",\"i\"],[\"color\",\"white\"]]}]]},{\"type\":\"map\",\"entries\":[[\"type\",\"info\"],[\"background\",\"#007bff\"],[\"icon\",{\"type\":\"map\",\"entries\":[[\"className\",\"fas fa-info-circle\"],[\"tagName\",\"i\"],[\"color\",\"white\"]]}]]}]}]},{\"type\":\"model\",\"name\":\"Notification\",\"properties\":[{\"name\":\"background\",\"kind\":\"Any\",\"default\":null},{\"name\":\"duration\",\"kind\":\"Any\",\"default\":3000},{\"name\":\"icon\",\"kind\":\"Any\",\"default\":null},{\"name\":\"message\",\"kind\":\"Any\",\"default\":\"\"},{\"name\":\"notification_type\",\"kind\":\"Any\",\"default\":null},{\"name\":\"_rendered\",\"kind\":\"Any\",\"default\":false},{\"name\":\"_destroyed\",\"kind\":\"Any\",\"default\":false}]},{\"type\":\"model\",\"name\":\"TemplateActions1\",\"properties\":[{\"name\":\"open_modal\",\"kind\":\"Any\",\"default\":0},{\"name\":\"close_modal\",\"kind\":\"Any\",\"default\":0}]},{\"type\":\"model\",\"name\":\"BootstrapTemplateActions1\",\"properties\":[{\"name\":\"open_modal\",\"kind\":\"Any\",\"default\":0},{\"name\":\"close_modal\",\"kind\":\"Any\",\"default\":0}]},{\"type\":\"model\",\"name\":\"TemplateEditor1\",\"properties\":[{\"name\":\"layout\",\"kind\":\"Any\",\"default\":[]}]},{\"type\":\"model\",\"name\":\"MaterialTemplateActions1\",\"properties\":[{\"name\":\"open_modal\",\"kind\":\"Any\",\"default\":0},{\"name\":\"close_modal\",\"kind\":\"Any\",\"default\":0}]},{\"type\":\"model\",\"name\":\"ReactiveESM1\",\"properties\":[{\"name\":\"esm_constants\",\"kind\":\"Any\",\"default\":{\"type\":\"map\"}}]},{\"type\":\"model\",\"name\":\"JSComponent1\",\"properties\":[{\"name\":\"esm_constants\",\"kind\":\"Any\",\"default\":{\"type\":\"map\"}}]},{\"type\":\"model\",\"name\":\"ReactComponent1\",\"properties\":[{\"name\":\"esm_constants\",\"kind\":\"Any\",\"default\":{\"type\":\"map\"}}]},{\"type\":\"model\",\"name\":\"AnyWidgetComponent1\",\"properties\":[{\"name\":\"esm_constants\",\"kind\":\"Any\",\"default\":{\"type\":\"map\"}}]},{\"type\":\"model\",\"name\":\"request_value1\",\"properties\":[{\"name\":\"fill\",\"kind\":\"Any\",\"default\":\"none\"},{\"name\":\"_synced\",\"kind\":\"Any\",\"default\":null},{\"name\":\"_request_sync\",\"kind\":\"Any\",\"default\":0}]}]}};\n",
       "  var render_items = [{\"docid\":\"26e172ef-9d2e-4d34-94a0-d71136d927dc\",\"roots\":{\"19678000-0a38-4e78-a37b-e418e740b460\":\"bf09c263-7a79-47ab-b149-efb24504621a\"},\"root_ids\":[\"19678000-0a38-4e78-a37b-e418e740b460\"]}];\n",
       "  var docs = Object.values(docs_json)\n",
       "  if (!docs) {\n",
       "    return\n",
       "  }\n",
       "  const py_version = docs[0].version.replace('rc', '-rc.').replace('.dev', '-dev.')\n",
       "  async function embed_document(root) {\n",
       "    var Bokeh = get_bokeh(root)\n",
       "    await Bokeh.embed.embed_items_notebook(docs_json, render_items);\n",
       "    for (const render_item of render_items) {\n",
       "      for (const root_id of render_item.root_ids) {\n",
       "\tconst id_el = document.getElementById(root_id)\n",
       "\tif (id_el.children.length && id_el.children[0].hasAttribute('data-root-id')) {\n",
       "\t  const root_el = id_el.children[0]\n",
       "\t  root_el.id = root_el.id + '-rendered'\n",
       "\t  for (const child of root_el.children) {\n",
       "            // Ensure JupyterLab does not capture keyboard shortcuts\n",
       "            // see: https://jupyterlab.readthedocs.io/en/4.1.x/extension/notebook.html#keyboard-interaction-model\n",
       "\t    child.setAttribute('data-lm-suppress-shortcuts', 'true')\n",
       "\t  }\n",
       "\t}\n",
       "      }\n",
       "    }\n",
       "  }\n",
       "  function get_bokeh(root) {\n",
       "    if (root.Bokeh === undefined) {\n",
       "      return null\n",
       "    } else if (root.Bokeh.version !== py_version) {\n",
       "      if (root.Bokeh.versions === undefined || !root.Bokeh.versions.has(py_version)) {\n",
       "\treturn null\n",
       "      }\n",
       "      return root.Bokeh.versions.get(py_version);\n",
       "    } else if (root.Bokeh.version === py_version) {\n",
       "      return root.Bokeh\n",
       "    }\n",
       "    return null\n",
       "  }\n",
       "  function is_loaded(root) {\n",
       "    var Bokeh = get_bokeh(root)\n",
       "    return (Bokeh != null && Bokeh.Panel !== undefined)\n",
       "  }\n",
       "  if (is_loaded(root)) {\n",
       "    embed_document(root);\n",
       "  } else {\n",
       "    var attempts = 0;\n",
       "    var timer = setInterval(function(root) {\n",
       "      if (is_loaded(root)) {\n",
       "        clearInterval(timer);\n",
       "        embed_document(root);\n",
       "      } else if (document.readyState == \"complete\") {\n",
       "        attempts++;\n",
       "        if (attempts > 200) {\n",
       "          clearInterval(timer);\n",
       "\t  var Bokeh = get_bokeh(root)\n",
       "\t  if (Bokeh == null || Bokeh.Panel == null) {\n",
       "            console.warn(\"Panel: ERROR: Unable to run Panel code because Bokeh or Panel library is missing\");\n",
       "\t  } else {\n",
       "\t    console.warn(\"Panel: WARNING: Attempting to render but not all required libraries could be resolved.\")\n",
       "\t    embed_document(root)\n",
       "\t  }\n",
       "        }\n",
       "      }\n",
       "    }, 25, root)\n",
       "  }\n",
       "})(window);</script>"
      ],
      "text/plain": [
       ":Overlay\n",
       "   .Bars.I    :Bars   [post_str_b4]   (percent)\n",
       "   .HLine.I   :HLine   [x,y]\n",
       "   .HLine.II  :HLine   [x,y]\n",
       "   .HLine.III :HLine   [x,y]"
      ]
     },
     "metadata": {
      "application/vnd.holoviews_exec.v0+json": {
       "id": "19678000-0a38-4e78-a37b-e418e740b460"
      }
     },
     "output_type": "display_data"
    },
    {
     "name": "stdout",
     "output_type": "stream",
     "text": [
      "df_10_last FOR str_b4 = 30\n",
      "Last 3 results last_results=['30', '20']\n"
     ]
    },
    {
     "data": {
      "text/html": [
       "<div><style>\n",
       ".dataframe > thead > tr,\n",
       ".dataframe > tbody > tr {\n",
       "  text-align: right;\n",
       "  white-space: pre-wrap;\n",
       "}\n",
       "</style>\n",
       "<small>shape: (10, 30)</small><table border=\"1\" class=\"dataframe\"><thead><tr><th>fecha</th><th>sorteo</th><th>bolillas regulares</th><th>bolillas chauchamba</th><th>cc1</th><th>cc2</th><th>id</th><th>combo</th><th>b1</th><th>b2</th><th>b3</th><th>b4</th><th>b5</th><th>b6</th><th>str_b1</th><th>str_b2</th><th>str_b3</th><th>str_b4</th><th>str_b5</th><th>str_b6</th><th>post_str_b1</th><th>post_str_b2</th><th>post_str_b3</th><th>post_str_b4</th><th>post_str_b5</th><th>post_str_blast</th><th>is_rare_combination</th><th>reason</th><th>jumps_map</th><th>unijump</th></tr><tr><td>str</td><td>str</td><td>str</td><td>str</td><td>str</td><td>str</td><td>str</td><td>array[u8, 6]</td><td>u8</td><td>u8</td><td>u8</td><td>u8</td><td>u8</td><td>u8</td><td>str</td><td>str</td><td>str</td><td>str</td><td>str</td><td>str</td><td>str</td><td>str</td><td>str</td><td>str</td><td>str</td><td>str</td><td>bool</td><td>u8</td><td>str</td><td>i64</td></tr></thead><tbody><tr><td>&quot;08/07/2025&quot;</td><td>&quot;1831&quot;</td><td>&quot;39 30 04 09 38 02&quot;</td><td>&quot;10 11 06 28 04 40&quot;</td><td>&quot;&quot;</td><td>&quot;&quot;</td><td>&quot;020409303839&quot;</td><td>[2, 4, … 39]</td><td>2</td><td>4</td><td>9</td><td>30</td><td>38</td><td>39</td><td>&quot;02&quot;</td><td>&quot;04&quot;</td><td>&quot;09&quot;</td><td>&quot;30&quot;</td><td>&quot;38&quot;</td><td>&quot;39&quot;</td><td>&quot;02&quot;</td><td>&quot;04&quot;</td><td>&quot;09&quot;</td><td>&quot;30&quot;</td><td>&quot;38&quot;</td><td>&quot;39&quot;</td><td>true</td><td>16</td><td>&quot;02_05_21_08_01&quot;</td><td>77</td></tr><tr><td>&quot;24/04/2025&quot;</td><td>&quot;1799&quot;</td><td>&quot;16 14 17 34 30 40&quot;</td><td>&quot;33 17 18 39 03 09&quot;</td><td>&quot;&quot;</td><td>&quot;&quot;</td><td>&quot;141617303440&quot;</td><td>[14, 16, … 40]</td><td>14</td><td>16</td><td>17</td><td>30</td><td>34</td><td>40</td><td>&quot;14&quot;</td><td>&quot;16&quot;</td><td>&quot;17&quot;</td><td>&quot;30&quot;</td><td>&quot;34&quot;</td><td>&quot;40&quot;</td><td>&quot;03&quot;</td><td>&quot;09&quot;</td><td>&quot;19&quot;</td><td>&quot;20&quot;</td><td>&quot;29&quot;</td><td>&quot;35&quot;</td><td>true</td><td>16</td><td>&quot;02_01_13_04_06&quot;</td><td>66</td></tr><tr><td>&quot;24/04/2025&quot;</td><td>&quot;1799&quot;</td><td>&quot;16 14 17 34 30 40&quot;</td><td>&quot;33 17 18 39 03 09&quot;</td><td>&quot;&quot;</td><td>&quot;&quot;</td><td>&quot;141617303440&quot;</td><td>[14, 16, … 40]</td><td>14</td><td>16</td><td>17</td><td>30</td><td>34</td><td>40</td><td>&quot;14&quot;</td><td>&quot;16&quot;</td><td>&quot;17&quot;</td><td>&quot;30&quot;</td><td>&quot;34&quot;</td><td>&quot;40&quot;</td><td>&quot;14&quot;</td><td>&quot;16&quot;</td><td>&quot;17&quot;</td><td>&quot;30&quot;</td><td>&quot;34&quot;</td><td>&quot;40&quot;</td><td>true</td><td>16</td><td>&quot;02_01_13_04_06&quot;</td><td>66</td></tr><tr><td>&quot;17/09/2024&quot;</td><td>&quot;1705&quot;</td><td>&quot;34 37 10 17 03 30&quot;</td><td>&quot;03 19 07 13 35 02&quot;</td><td>&quot;&quot;</td><td>&quot;&quot;</td><td>&quot;031017303437&quot;</td><td>[3, 10, … 37]</td><td>3</td><td>10</td><td>17</td><td>30</td><td>34</td><td>37</td><td>&quot;03&quot;</td><td>&quot;10&quot;</td><td>&quot;17&quot;</td><td>&quot;30&quot;</td><td>&quot;34&quot;</td><td>&quot;37&quot;</td><td>&quot;11&quot;</td><td>&quot;16&quot;</td><td>&quot;17&quot;</td><td>&quot;20&quot;</td><td>&quot;34&quot;</td><td>&quot;35&quot;</td><td>true</td><td>24</td><td>&quot;07_07_13_04_03&quot;</td><td>44</td></tr><tr><td>&quot;17/09/2024&quot;</td><td>&quot;1705&quot;</td><td>&quot;34 37 10 17 03 30&quot;</td><td>&quot;03 19 07 13 35 02&quot;</td><td>&quot;&quot;</td><td>&quot;&quot;</td><td>&quot;031017303437&quot;</td><td>[3, 10, … 37]</td><td>3</td><td>10</td><td>17</td><td>30</td><td>34</td><td>37</td><td>&quot;03&quot;</td><td>&quot;10&quot;</td><td>&quot;17&quot;</td><td>&quot;30&quot;</td><td>&quot;34&quot;</td><td>&quot;37&quot;</td><td>&quot;03&quot;</td><td>&quot;10&quot;</td><td>&quot;17&quot;</td><td>&quot;30&quot;</td><td>&quot;34&quot;</td><td>&quot;37&quot;</td><td>true</td><td>24</td><td>&quot;07_07_13_04_03&quot;</td><td>44</td></tr><tr><td>&quot;10/09/2024&quot;</td><td>&quot;1702&quot;</td><td>&quot;15 34 02 30 33 09&quot;</td><td>&quot;40 18 07 19 28 12&quot;</td><td>&quot;&quot;</td><td>&quot;&quot;</td><td>&quot;020915303334&quot;</td><td>[2, 9, … 34]</td><td>2</td><td>9</td><td>15</td><td>30</td><td>33</td><td>34</td><td>&quot;02&quot;</td><td>&quot;09&quot;</td><td>&quot;15&quot;</td><td>&quot;30&quot;</td><td>&quot;33&quot;</td><td>&quot;34&quot;</td><td>&quot;04&quot;</td><td>&quot;19&quot;</td><td>&quot;21&quot;</td><td>&quot;26&quot;</td><td>&quot;34&quot;</td><td>&quot;40&quot;</td><td>false</td><td>0</td><td>&quot;07_06_15_03_01&quot;</td><td>62</td></tr><tr><td>&quot;10/09/2024&quot;</td><td>&quot;1702&quot;</td><td>&quot;15 34 02 30 33 09&quot;</td><td>&quot;40 18 07 19 28 12&quot;</td><td>&quot;&quot;</td><td>&quot;&quot;</td><td>&quot;020915303334&quot;</td><td>[2, 9, … 34]</td><td>2</td><td>9</td><td>15</td><td>30</td><td>33</td><td>34</td><td>&quot;02&quot;</td><td>&quot;09&quot;</td><td>&quot;15&quot;</td><td>&quot;30&quot;</td><td>&quot;33&quot;</td><td>&quot;34&quot;</td><td>&quot;02&quot;</td><td>&quot;09&quot;</td><td>&quot;15&quot;</td><td>&quot;30&quot;</td><td>&quot;33&quot;</td><td>&quot;34&quot;</td><td>false</td><td>0</td><td>&quot;07_06_15_03_01&quot;</td><td>62</td></tr><tr><td>&quot;09/07/2024&quot;</td><td>&quot;1675&quot;</td><td>&quot;39 30 14 17 26 37&quot;</td><td>&quot;05 14 20 36 16 35&quot;</td><td>&quot;&quot;</td><td>&quot;&quot;</td><td>&quot;141726303739&quot;</td><td>[14, 17, … 39]</td><td>14</td><td>17</td><td>26</td><td>30</td><td>37</td><td>39</td><td>&quot;14&quot;</td><td>&quot;17&quot;</td><td>&quot;26&quot;</td><td>&quot;30&quot;</td><td>&quot;37&quot;</td><td>&quot;39&quot;</td><td>&quot;05&quot;</td><td>&quot;17&quot;</td><td>&quot;19&quot;</td><td>&quot;31&quot;</td><td>&quot;33&quot;</td><td>&quot;37&quot;</td><td>false</td><td>0</td><td>&quot;03_09_04_07_02&quot;</td><td>-35</td></tr><tr><td>&quot;09/07/2024&quot;</td><td>&quot;1675&quot;</td><td>&quot;39 30 14 17 26 37&quot;</td><td>&quot;05 14 20 36 16 35&quot;</td><td>&quot;&quot;</td><td>&quot;&quot;</td><td>&quot;141726303739&quot;</td><td>[14, 17, … 39]</td><td>14</td><td>17</td><td>26</td><td>30</td><td>37</td><td>39</td><td>&quot;14&quot;</td><td>&quot;17&quot;</td><td>&quot;26&quot;</td><td>&quot;30&quot;</td><td>&quot;37&quot;</td><td>&quot;39&quot;</td><td>&quot;14&quot;</td><td>&quot;17&quot;</td><td>&quot;26&quot;</td><td>&quot;30&quot;</td><td>&quot;37&quot;</td><td>&quot;39&quot;</td><td>false</td><td>0</td><td>&quot;03_09_04_07_02&quot;</td><td>-35</td></tr><tr><td>&quot;04/05/2024&quot;</td><td>&quot;1647&quot;</td><td>&quot;40 21 13 30 36 17&quot;</td><td>&quot;24 34 27 33 29 22&quot;</td><td>&quot;&quot;</td><td>&quot;&quot;</td><td>&quot;131721303640&quot;</td><td>[13, 17, … 40]</td><td>13</td><td>17</td><td>21</td><td>30</td><td>36</td><td>40</td><td>&quot;13&quot;</td><td>&quot;17&quot;</td><td>&quot;21&quot;</td><td>&quot;30&quot;</td><td>&quot;36&quot;</td><td>&quot;40&quot;</td><td>&quot;11&quot;</td><td>&quot;20&quot;</td><td>&quot;23&quot;</td><td>&quot;27&quot;</td><td>&quot;33&quot;</td><td>&quot;35&quot;</td><td>true</td><td>8</td><td>&quot;04_04_09_06_04&quot;</td><td>22</td></tr></tbody></table></div>"
      ],
      "text/plain": [
       "shape: (10, 30)\n",
       "┌────────────┬────────┬─────────────┬─────────────┬───┬────────────┬────────┬────────────┬─────────┐\n",
       "│ fecha      ┆ sorteo ┆ bolillas    ┆ bolillas    ┆ … ┆ is_rare_co ┆ reason ┆ jumps_map  ┆ unijump │\n",
       "│ ---        ┆ ---    ┆ regulares   ┆ chauchamba  ┆   ┆ mbination  ┆ ---    ┆ ---        ┆ ---     │\n",
       "│ str        ┆ str    ┆ ---         ┆ ---         ┆   ┆ ---        ┆ u8     ┆ str        ┆ i64     │\n",
       "│            ┆        ┆ str         ┆ str         ┆   ┆ bool       ┆        ┆            ┆         │\n",
       "╞════════════╪════════╪═════════════╪═════════════╪═══╪════════════╪════════╪════════════╪═════════╡\n",
       "│ 08/07/2025 ┆ 1831   ┆ 39 30 04 09 ┆ 10 11 06 28 ┆ … ┆ true       ┆ 16     ┆ 02_05_21_0 ┆ 77      │\n",
       "│            ┆        ┆ 38 02       ┆ 04 40       ┆   ┆            ┆        ┆ 8_01       ┆         │\n",
       "│ 24/04/2025 ┆ 1799   ┆ 16 14 17 34 ┆ 33 17 18 39 ┆ … ┆ true       ┆ 16     ┆ 02_01_13_0 ┆ 66      │\n",
       "│            ┆        ┆ 30 40       ┆ 03 09       ┆   ┆            ┆        ┆ 4_06       ┆         │\n",
       "│ 24/04/2025 ┆ 1799   ┆ 16 14 17 34 ┆ 33 17 18 39 ┆ … ┆ true       ┆ 16     ┆ 02_01_13_0 ┆ 66      │\n",
       "│            ┆        ┆ 30 40       ┆ 03 09       ┆   ┆            ┆        ┆ 4_06       ┆         │\n",
       "│ 17/09/2024 ┆ 1705   ┆ 34 37 10 17 ┆ 03 19 07 13 ┆ … ┆ true       ┆ 24     ┆ 07_07_13_0 ┆ 44      │\n",
       "│            ┆        ┆ 03 30       ┆ 35 02       ┆   ┆            ┆        ┆ 4_03       ┆         │\n",
       "│ 17/09/2024 ┆ 1705   ┆ 34 37 10 17 ┆ 03 19 07 13 ┆ … ┆ true       ┆ 24     ┆ 07_07_13_0 ┆ 44      │\n",
       "│            ┆        ┆ 03 30       ┆ 35 02       ┆   ┆            ┆        ┆ 4_03       ┆         │\n",
       "│ 10/09/2024 ┆ 1702   ┆ 15 34 02 30 ┆ 40 18 07 19 ┆ … ┆ false      ┆ 0      ┆ 07_06_15_0 ┆ 62      │\n",
       "│            ┆        ┆ 33 09       ┆ 28 12       ┆   ┆            ┆        ┆ 3_01       ┆         │\n",
       "│ 10/09/2024 ┆ 1702   ┆ 15 34 02 30 ┆ 40 18 07 19 ┆ … ┆ false      ┆ 0      ┆ 07_06_15_0 ┆ 62      │\n",
       "│            ┆        ┆ 33 09       ┆ 28 12       ┆   ┆            ┆        ┆ 3_01       ┆         │\n",
       "│ 09/07/2024 ┆ 1675   ┆ 39 30 14 17 ┆ 05 14 20 36 ┆ … ┆ false      ┆ 0      ┆ 03_09_04_0 ┆ -35     │\n",
       "│            ┆        ┆ 26 37       ┆ 16 35       ┆   ┆            ┆        ┆ 7_02       ┆         │\n",
       "│ 09/07/2024 ┆ 1675   ┆ 39 30 14 17 ┆ 05 14 20 36 ┆ … ┆ false      ┆ 0      ┆ 03_09_04_0 ┆ -35     │\n",
       "│            ┆        ┆ 26 37       ┆ 16 35       ┆   ┆            ┆        ┆ 7_02       ┆         │\n",
       "│ 04/05/2024 ┆ 1647   ┆ 40 21 13 30 ┆ 24 34 27 33 ┆ … ┆ true       ┆ 8      ┆ 04_04_09_0 ┆ 22      │\n",
       "│            ┆        ┆ 36 17       ┆ 29 22       ┆   ┆            ┆        ┆ 6_04       ┆         │\n",
       "└────────────┴────────┴─────────────┴─────────────┴───┴────────────┴────────┴────────────┴─────────┘"
      ]
     },
     "metadata": {},
     "output_type": "display_data"
    },
    {
     "name": "stdout",
     "output_type": "stream",
     "text": [
      "df_jumps_map FOR str_b4 = 30\n"
     ]
    },
    {
     "data": {
      "text/html": [
       "<div><style>\n",
       ".dataframe > thead > tr,\n",
       ".dataframe > tbody > tr {\n",
       "  text-align: right;\n",
       "  white-space: pre-wrap;\n",
       "}\n",
       "</style>\n",
       "<small>shape: (158, 2)</small><table border=\"1\" class=\"dataframe\"><thead><tr><th>jumps_map</th><th>count</th></tr><tr><td>str</td><td>u32</td></tr></thead><tbody><tr><td>&quot;11_16_01_06_04&quot;</td><td>2</td></tr><tr><td>&quot;05_20_04_02_06&quot;</td><td>2</td></tr><tr><td>&quot;03_09_05_03_06&quot;</td><td>2</td></tr><tr><td>&quot;02_01_13_04_06&quot;</td><td>2</td></tr><tr><td>&quot;12_08_02_03_03&quot;</td><td>2</td></tr><tr><td>&hellip;</td><td>&hellip;</td></tr><tr><td>&quot;02_14_10_02_02&quot;</td><td>1</td></tr><tr><td>&quot;20_03_06_03_06&quot;</td><td>1</td></tr><tr><td>&quot;10_04_12_06_02&quot;</td><td>1</td></tr><tr><td>&quot;14_01_14_03_01&quot;</td><td>1</td></tr><tr><td>&quot;10_03_11_04_03&quot;</td><td>1</td></tr></tbody></table></div>"
      ],
      "text/plain": [
       "shape: (158, 2)\n",
       "┌────────────────┬───────┐\n",
       "│ jumps_map      ┆ count │\n",
       "│ ---            ┆ ---   │\n",
       "│ str            ┆ u32   │\n",
       "╞════════════════╪═══════╡\n",
       "│ 11_16_01_06_04 ┆ 2     │\n",
       "│ 05_20_04_02_06 ┆ 2     │\n",
       "│ 03_09_05_03_06 ┆ 2     │\n",
       "│ 02_01_13_04_06 ┆ 2     │\n",
       "│ 12_08_02_03_03 ┆ 2     │\n",
       "│ …              ┆ …     │\n",
       "│ 02_14_10_02_02 ┆ 1     │\n",
       "│ 20_03_06_03_06 ┆ 1     │\n",
       "│ 10_04_12_06_02 ┆ 1     │\n",
       "│ 14_01_14_03_01 ┆ 1     │\n",
       "│ 10_03_11_04_03 ┆ 1     │\n",
       "└────────────────┴───────┘"
      ]
     },
     "metadata": {},
     "output_type": "display_data"
    },
    {
     "name": "stdout",
     "output_type": "stream",
     "text": [
      "df_unijump FOR str_b4 = 30\n"
     ]
    },
    {
     "data": {
      "text/html": [
       "<div><style>\n",
       ".dataframe > thead > tr,\n",
       ".dataframe > tbody > tr {\n",
       "  text-align: right;\n",
       "  white-space: pre-wrap;\n",
       "}\n",
       "</style>\n",
       "<small>shape: (104, 2)</small><table border=\"1\" class=\"dataframe\"><thead><tr><th>unijump</th><th>count</th></tr><tr><td>i64</td><td>u32</td></tr></thead><tbody><tr><td>37</td><td>7</td></tr><tr><td>-35</td><td>5</td></tr><tr><td>83</td><td>5</td></tr><tr><td>11</td><td>5</td></tr><tr><td>6</td><td>5</td></tr><tr><td>&hellip;</td><td>&hellip;</td></tr><tr><td>13</td><td>1</td></tr><tr><td>31</td><td>1</td></tr><tr><td>46</td><td>1</td></tr><tr><td>42</td><td>1</td></tr><tr><td>10</td><td>1</td></tr></tbody></table></div>"
      ],
      "text/plain": [
       "shape: (104, 2)\n",
       "┌─────────┬───────┐\n",
       "│ unijump ┆ count │\n",
       "│ ---     ┆ ---   │\n",
       "│ i64     ┆ u32   │\n",
       "╞═════════╪═══════╡\n",
       "│ 37      ┆ 7     │\n",
       "│ -35     ┆ 5     │\n",
       "│ 83      ┆ 5     │\n",
       "│ 11      ┆ 5     │\n",
       "│ 6       ┆ 5     │\n",
       "│ …       ┆ …     │\n",
       "│ 13      ┆ 1     │\n",
       "│ 31      ┆ 1     │\n",
       "│ 46      ┆ 1     │\n",
       "│ 42      ┆ 1     │\n",
       "│ 10      ┆ 1     │\n",
       "└─────────┴───────┘"
      ]
     },
     "metadata": {},
     "output_type": "display_data"
    }
   ],
   "source": [
    "possible_b4, exclude_jump_maps_b4, last_post_b4 = plot_post_col(col='str_b4', post_col='post_str_b4')"
   ]
  },
  {
   "cell_type": "code",
   "execution_count": 11,
   "metadata": {},
   "outputs": [
    {
     "name": "stdout",
     "output_type": "stream",
     "text": [
      "Setting test_value='38'\n",
      "df_viz FOR str_b5 = 38\n"
     ]
    },
    {
     "data": {
      "text/html": [
       "<div><style>\n",
       ".dataframe > thead > tr,\n",
       ".dataframe > tbody > tr {\n",
       "  text-align: right;\n",
       "  white-space: pre-wrap;\n",
       "}\n",
       "</style>\n",
       "<small>shape: (27, 3)</small><table border=\"1\" class=\"dataframe\"><thead><tr><th>post_str_b5</th><th>count</th><th>percent</th></tr><tr><td>str</td><td>u32</td><td>f64</td></tr></thead><tbody><tr><td>&quot;38&quot;</td><td>59</td><td>33.522727</td></tr><tr><td>&quot;34&quot;</td><td>12</td><td>6.818182</td></tr><tr><td>&quot;32&quot;</td><td>9</td><td>5.113636</td></tr><tr><td>&quot;35&quot;</td><td>9</td><td>5.113636</td></tr><tr><td>&quot;30&quot;</td><td>8</td><td>4.545455</td></tr><tr><td>&hellip;</td><td>&hellip;</td><td>&hellip;</td></tr><tr><td>&quot;17&quot;</td><td>1</td><td>0.568182</td></tr><tr><td>&quot;19&quot;</td><td>1</td><td>0.568182</td></tr><tr><td>&quot;16&quot;</td><td>1</td><td>0.568182</td></tr><tr><td>&quot;18&quot;</td><td>1</td><td>0.568182</td></tr><tr><td>&quot;21&quot;</td><td>1</td><td>0.568182</td></tr></tbody></table></div>"
      ],
      "text/plain": [
       "shape: (27, 3)\n",
       "┌─────────────┬───────┬───────────┐\n",
       "│ post_str_b5 ┆ count ┆ percent   │\n",
       "│ ---         ┆ ---   ┆ ---       │\n",
       "│ str         ┆ u32   ┆ f64       │\n",
       "╞═════════════╪═══════╪═══════════╡\n",
       "│ 38          ┆ 59    ┆ 33.522727 │\n",
       "│ 34          ┆ 12    ┆ 6.818182  │\n",
       "│ 32          ┆ 9     ┆ 5.113636  │\n",
       "│ 35          ┆ 9     ┆ 5.113636  │\n",
       "│ 30          ┆ 8     ┆ 4.545455  │\n",
       "│ …           ┆ …     ┆ …         │\n",
       "│ 17          ┆ 1     ┆ 0.568182  │\n",
       "│ 19          ┆ 1     ┆ 0.568182  │\n",
       "│ 16          ┆ 1     ┆ 0.568182  │\n",
       "│ 18          ┆ 1     ┆ 0.568182  │\n",
       "│ 21          ┆ 1     ┆ 0.568182  │\n",
       "└─────────────┴───────┴───────────┘"
      ]
     },
     "metadata": {},
     "output_type": "display_data"
    },
    {
     "data": {},
     "metadata": {},
     "output_type": "display_data"
    },
    {
     "data": {
      "application/vnd.holoviews_exec.v0+json": "",
      "text/html": [
       "<div id='ae7ecb7f-5787-4fdd-93f1-e585ca20cc28'>\n",
       "  <div id=\"a578eaf6-28ac-4244-ae97-01c386813a75\" data-root-id=\"ae7ecb7f-5787-4fdd-93f1-e585ca20cc28\" style=\"display: contents;\"></div>\n",
       "</div>\n",
       "<script type=\"application/javascript\">(function(root) {\n",
       "  var docs_json = {\"594948d0-aaaa-4ec1-b28a-47cd8b1fc633\":{\"version\":\"3.7.2\",\"title\":\"Bokeh Application\",\"roots\":[{\"type\":\"object\",\"name\":\"Row\",\"id\":\"ae7ecb7f-5787-4fdd-93f1-e585ca20cc28\",\"attributes\":{\"name\":\"Row00570\",\"tags\":[\"embedded\"],\"stylesheets\":[\"\\n:host(.pn-loading):before, .pn-loading:before {\\n  background-color: #c3c3c3;\\n  mask-size: auto calc(min(50%, 400px));\\n  -webkit-mask-size: auto calc(min(50%, 400px));\\n}\",{\"type\":\"object\",\"name\":\"ImportedStyleSheet\",\"id\":\"58e6098e-ba2c-40d6-821f-67f7ac3511a1\",\"attributes\":{\"url\":\"https://cdn.holoviz.org/panel/1.6.2/dist/css/loading.css\"}},{\"type\":\"object\",\"name\":\"ImportedStyleSheet\",\"id\":\"18afdc1c-c9e1-4e54-a3a5-00f2e90a4f62\",\"attributes\":{\"url\":\"https://cdn.holoviz.org/panel/1.6.2/dist/css/listpanel.css\"}},{\"type\":\"object\",\"name\":\"ImportedStyleSheet\",\"id\":\"1a8ac8ca-0dae-4d3a-813a-4cb10e179f75\",\"attributes\":{\"url\":\"https://cdn.holoviz.org/panel/1.6.2/dist/bundled/theme/default.css\"}},{\"type\":\"object\",\"name\":\"ImportedStyleSheet\",\"id\":\"b6031045-c021-4275-bd85-be22ac217823\",\"attributes\":{\"url\":\"https://cdn.holoviz.org/panel/1.6.2/dist/bundled/theme/native.css\"}}],\"min_width\":700,\"margin\":0,\"sizing_mode\":\"stretch_width\",\"align\":\"start\",\"children\":[{\"type\":\"object\",\"name\":\"Spacer\",\"id\":\"6cccfa24-2b76-44d0-bcdb-f221b15eeb89\",\"attributes\":{\"name\":\"HSpacer00574\",\"stylesheets\":[\"\\n:host(.pn-loading):before, .pn-loading:before {\\n  background-color: #c3c3c3;\\n  mask-size: auto calc(min(50%, 400px));\\n  -webkit-mask-size: auto calc(min(50%, 400px));\\n}\",{\"id\":\"58e6098e-ba2c-40d6-821f-67f7ac3511a1\"},{\"id\":\"1a8ac8ca-0dae-4d3a-813a-4cb10e179f75\"},{\"id\":\"b6031045-c021-4275-bd85-be22ac217823\"}],\"margin\":0,\"sizing_mode\":\"stretch_width\",\"align\":\"start\"}},{\"type\":\"object\",\"name\":\"Figure\",\"id\":\"eaa28b7b-f929-4fb5-9634-57691f8f5927\",\"attributes\":{\"width\":700,\"height\":300,\"margin\":[5,10],\"sizing_mode\":\"fixed\",\"align\":\"start\",\"x_range\":{\"type\":\"object\",\"name\":\"FactorRange\",\"id\":\"a2127911-283b-446e-b9ee-46602ae9e517\",\"attributes\":{\"name\":\"post_str_b5\",\"tags\":[[[\"post_str_b5\",null]],[]],\"factors\":[\"38\",\"34\",\"32\",\"35\",\"30\",\"36\",\"24\",\"33\",\"22\",\"29\",\"26\",\"23\",\"31\",\"25\",\"27\",\"28\",\"20\",\"37\",\"39\",\"14\",\"15\",\"12\",\"17\",\"19\",\"16\",\"18\",\"21\"]}},\"y_range\":{\"type\":\"object\",\"name\":\"Range1d\",\"id\":\"d62df387-119d-45c9-8197-0fb754109ce6\",\"attributes\":{\"name\":\"percent\",\"tags\":[[[\"percent\",null]],{\"type\":\"map\",\"entries\":[[\"invert_yaxis\",false],[\"autorange\",false]]}],\"end\":36.81818181818182,\"reset_start\":0.0,\"reset_end\":36.81818181818182}},\"x_scale\":{\"type\":\"object\",\"name\":\"CategoricalScale\",\"id\":\"21192e31-2d8b-4388-b818-09b6ff777cec\"},\"y_scale\":{\"type\":\"object\",\"name\":\"LinearScale\",\"id\":\"91a0f61a-a602-48dd-b934-f41cc6235b7e\"},\"title\":{\"type\":\"object\",\"name\":\"Title\",\"id\":\"0ed27ccb-a1ba-4fb9-abc0-35e1094429d8\",\"attributes\":{\"text_color\":\"black\",\"text_font_size\":\"12pt\"}},\"renderers\":[{\"type\":\"object\",\"name\":\"GlyphRenderer\",\"id\":\"32c8ee84-bb28-4382-8fa2-eca470449397\",\"attributes\":{\"data_source\":{\"type\":\"object\",\"name\":\"ColumnDataSource\",\"id\":\"466f1c41-c36d-4b3c-95a6-34e67d3dcc4f\",\"attributes\":{\"selected\":{\"type\":\"object\",\"name\":\"Selection\",\"id\":\"16d6347a-d3b4-4de9-a18d-fb2ceb0aefaa\",\"attributes\":{\"indices\":[],\"line_indices\":[]}},\"selection_policy\":{\"type\":\"object\",\"name\":\"UnionRenderers\",\"id\":\"8bba7f73-61b6-4946-9284-41232fb120ba\"},\"data\":{\"type\":\"map\",\"entries\":[[\"post_str_b5\",[\"38\",\"34\",\"32\",\"35\",\"30\",\"36\",\"24\",\"33\",\"22\",\"29\",\"26\",\"23\",\"31\",\"25\",\"27\",\"28\",\"20\",\"37\",\"39\",\"14\",\"15\",\"12\",\"17\",\"19\",\"16\",\"18\",\"21\"]],[\"percent\",{\"type\":\"ndarray\",\"array\":{\"type\":\"bytes\",\"data\":\"o4suuujCQEBFF1100UUbQHXRRRdddBRAddFFF110FEAvuuiiiy4SQNFFF1100Q9A0UUXXXTRD0DRRRdddNEPQEUXXXTRRQtARRdddNFFC0BFF1100UULQLvooosuugZAL7rooosuAkAvuuiiiy4CQC+66KKLLgJAL7rooosuAkBFF1100UX7P0UXXXTRRfs/RRdddNFF+z8vuuiiiy7yPy+66KKLLvI/L7rooosu4j8vuuiiiy7iPy+66KKLLuI/L7rooosu4j8vuuiiiy7iPy+66KKLLuI/\"},\"shape\":[27],\"dtype\":\"float64\",\"order\":\"little\"}]]}}},\"view\":{\"type\":\"object\",\"name\":\"CDSView\",\"id\":\"78c3514f-8331-45b5-b7e5-49ea6da1f0e3\",\"attributes\":{\"filter\":{\"type\":\"object\",\"name\":\"AllIndices\",\"id\":\"e3cef596-5857-4eee-a718-f6e35781130b\"}}},\"glyph\":{\"type\":\"object\",\"name\":\"VBar\",\"id\":\"b9ec08dc-1c95-46e3-83f2-4447bce8d272\",\"attributes\":{\"tags\":[\"apply_ranges\"],\"x\":{\"type\":\"field\",\"field\":\"post_str_b5\"},\"width\":{\"type\":\"value\",\"value\":0.8},\"top\":{\"type\":\"field\",\"field\":\"percent\"},\"fill_color\":{\"type\":\"value\",\"value\":\"#30a2da\"},\"hatch_color\":{\"type\":\"value\",\"value\":\"#30a2da\"}}},\"selection_glyph\":{\"type\":\"object\",\"name\":\"VBar\",\"id\":\"106282bd-006e-4163-b9f3-86f907e56238\",\"attributes\":{\"tags\":[\"apply_ranges\"],\"x\":{\"type\":\"field\",\"field\":\"post_str_b5\"},\"width\":{\"type\":\"value\",\"value\":0.8},\"bottom\":{\"type\":\"value\",\"value\":0},\"top\":{\"type\":\"field\",\"field\":\"percent\"},\"line_color\":{\"type\":\"value\",\"value\":\"black\"},\"line_alpha\":{\"type\":\"value\",\"value\":1.0},\"line_width\":{\"type\":\"value\",\"value\":1},\"line_join\":{\"type\":\"value\",\"value\":\"bevel\"},\"line_cap\":{\"type\":\"value\",\"value\":\"butt\"},\"line_dash\":{\"type\":\"value\",\"value\":[]},\"line_dash_offset\":{\"type\":\"value\",\"value\":0},\"fill_color\":{\"type\":\"value\",\"value\":\"#30a2da\"},\"fill_alpha\":{\"type\":\"value\",\"value\":1.0},\"hatch_color\":{\"type\":\"value\",\"value\":\"#30a2da\"},\"hatch_alpha\":{\"type\":\"value\",\"value\":1.0},\"hatch_scale\":{\"type\":\"value\",\"value\":12.0},\"hatch_pattern\":{\"type\":\"value\",\"value\":null},\"hatch_weight\":{\"type\":\"value\",\"value\":1.0}}},\"nonselection_glyph\":{\"type\":\"object\",\"name\":\"VBar\",\"id\":\"1d3ac874-a140-49f1-9ad7-9c3713080ff2\",\"attributes\":{\"tags\":[\"apply_ranges\"],\"x\":{\"type\":\"field\",\"field\":\"post_str_b5\"},\"width\":{\"type\":\"value\",\"value\":0.8},\"top\":{\"type\":\"field\",\"field\":\"percent\"},\"line_alpha\":{\"type\":\"value\",\"value\":0.1},\"fill_color\":{\"type\":\"value\",\"value\":\"#30a2da\"},\"fill_alpha\":{\"type\":\"value\",\"value\":0.1},\"hatch_color\":{\"type\":\"value\",\"value\":\"#30a2da\"},\"hatch_alpha\":{\"type\":\"value\",\"value\":0.1}}},\"muted_glyph\":{\"type\":\"object\",\"name\":\"VBar\",\"id\":\"bca686d9-b881-4247-b394-dd46d00b033d\",\"attributes\":{\"tags\":[\"apply_ranges\"],\"x\":{\"type\":\"field\",\"field\":\"post_str_b5\"},\"width\":{\"type\":\"value\",\"value\":0.8},\"top\":{\"type\":\"field\",\"field\":\"percent\"},\"line_alpha\":{\"type\":\"value\",\"value\":0.2},\"fill_color\":{\"type\":\"value\",\"value\":\"#30a2da\"},\"fill_alpha\":{\"type\":\"value\",\"value\":0.2},\"hatch_color\":{\"type\":\"value\",\"value\":\"#30a2da\"},\"hatch_alpha\":{\"type\":\"value\",\"value\":0.2}}}}},{\"type\":\"object\",\"name\":\"Span\",\"id\":\"062e7e2b-f83e-426b-b25a-248bc45a7939\",\"attributes\":{\"level\":\"glyph\",\"location\":3.703703703703702,\"line_color\":\"red\",\"line_width\":3}},{\"type\":\"object\",\"name\":\"Span\",\"id\":\"787dc0d5-cc29-4511-8523-732c76df628e\",\"attributes\":{\"level\":\"glyph\",\"location\":5.555555555555554,\"line_color\":\"blue\",\"line_width\":3}},{\"type\":\"object\",\"name\":\"Span\",\"id\":\"08919928-96a9-4f9c-bba0-cd3728c649bd\",\"attributes\":{\"level\":\"glyph\",\"location\":1.851851851851851,\"line_color\":\"blue\",\"line_width\":3}}],\"toolbar\":{\"type\":\"object\",\"name\":\"Toolbar\",\"id\":\"7ee22b57-13ac-41af-8b0a-1d94f3164f8a\",\"attributes\":{\"tools\":[{\"type\":\"object\",\"name\":\"WheelZoomTool\",\"id\":\"8fdc0906-943f-4ce2-ad54-e7a162757af2\",\"attributes\":{\"tags\":[\"hv_created\"],\"renderers\":\"auto\",\"zoom_together\":\"none\"}},{\"type\":\"object\",\"name\":\"HoverTool\",\"id\":\"c19aa040-8ccd-4a43-9e00-d73a43fbb9be\",\"attributes\":{\"tags\":[\"hv_created\"],\"renderers\":[{\"id\":\"32c8ee84-bb28-4382-8fa2-eca470449397\"}],\"tooltips\":[[\"post_str_b5\",\"@{post_str_b5}\"],[\"percent\",\"@{percent}\"]]}},{\"type\":\"object\",\"name\":\"SaveTool\",\"id\":\"3f82b492-256d-4010-8967-2ce40b304e45\"},{\"type\":\"object\",\"name\":\"PanTool\",\"id\":\"80e6323b-189a-46da-9325-a8b7690fa53e\"},{\"type\":\"object\",\"name\":\"BoxZoomTool\",\"id\":\"0c941b1c-b55f-404e-96d2-22a5ca8ae4d7\",\"attributes\":{\"dimensions\":\"both\",\"overlay\":{\"type\":\"object\",\"name\":\"BoxAnnotation\",\"id\":\"073a0fda-d161-4abb-a251-2df4ef2b9611\",\"attributes\":{\"syncable\":false,\"line_color\":\"black\",\"line_alpha\":1.0,\"line_width\":2,\"line_dash\":[4,4],\"fill_color\":\"lightgrey\",\"fill_alpha\":0.5,\"level\":\"overlay\",\"visible\":false,\"left\":{\"type\":\"number\",\"value\":\"nan\"},\"right\":{\"type\":\"number\",\"value\":\"nan\"},\"top\":{\"type\":\"number\",\"value\":\"nan\"},\"bottom\":{\"type\":\"number\",\"value\":\"nan\"},\"left_units\":\"canvas\",\"right_units\":\"canvas\",\"top_units\":\"canvas\",\"bottom_units\":\"canvas\",\"handles\":{\"type\":\"object\",\"name\":\"BoxInteractionHandles\",\"id\":\"db061fa1-69fe-48b5-9a27-cde91a6b33d2\",\"attributes\":{\"all\":{\"type\":\"object\",\"name\":\"AreaVisuals\",\"id\":\"e16d6838-2c0d-4a96-8e21-1a7c4eb0c2da\",\"attributes\":{\"fill_color\":\"white\",\"hover_fill_color\":\"lightgray\"}}}}}}}},{\"type\":\"object\",\"name\":\"ResetTool\",\"id\":\"65917efd-6d42-437d-ad9c-53417b7d0a53\"}],\"active_drag\":{\"id\":\"80e6323b-189a-46da-9325-a8b7690fa53e\"}}},\"left\":[{\"type\":\"object\",\"name\":\"LinearAxis\",\"id\":\"ee55e0ac-f0d6-47a2-811c-db4ef0027821\",\"attributes\":{\"ticker\":{\"type\":\"object\",\"name\":\"BasicTicker\",\"id\":\"caa15ae4-1525-4b64-a5e2-37d5f1d4a683\",\"attributes\":{\"mantissas\":[1,2,5]}},\"formatter\":{\"type\":\"object\",\"name\":\"BasicTickFormatter\",\"id\":\"6b923cb2-d672-41b2-8e69-8aee830c3308\"},\"axis_label\":\"percent\",\"major_label_policy\":{\"type\":\"object\",\"name\":\"AllLabels\",\"id\":\"bc5e8f35-c3c8-4468-a5ca-98172391ab51\"}}}],\"below\":[{\"type\":\"object\",\"name\":\"CategoricalAxis\",\"id\":\"b9dacc63-d52e-458c-b0d8-77d7406521c2\",\"attributes\":{\"ticker\":{\"type\":\"object\",\"name\":\"CategoricalTicker\",\"id\":\"4a5c198d-d72d-4a52-9385-f4a0dfb99d8a\"},\"formatter\":{\"type\":\"object\",\"name\":\"CategoricalTickFormatter\",\"id\":\"f4011130-587a-4b66-941f-2ae2e1b84bb3\"},\"axis_label\":\"post_str_b5\",\"major_label_policy\":{\"type\":\"object\",\"name\":\"AllLabels\",\"id\":\"bf1f0bdb-4210-48b5-b322-8569815d3290\"}}}],\"center\":[{\"type\":\"object\",\"name\":\"Grid\",\"id\":\"edb6dccb-735f-43c5-a2c0-e747b19d46e2\",\"attributes\":{\"axis\":{\"id\":\"b9dacc63-d52e-458c-b0d8-77d7406521c2\"},\"grid_line_color\":null}},{\"type\":\"object\",\"name\":\"Grid\",\"id\":\"195ba4f9-b005-4e04-abe5-b8cdd2c2eff7\",\"attributes\":{\"dimension\":1,\"axis\":{\"id\":\"ee55e0ac-f0d6-47a2-811c-db4ef0027821\"},\"grid_line_color\":null}}],\"min_border_top\":10,\"min_border_bottom\":10,\"min_border_left\":10,\"min_border_right\":10,\"output_backend\":\"webgl\"}},{\"type\":\"object\",\"name\":\"Spacer\",\"id\":\"66fc5590-235c-4e2c-8601-70046c65e8c5\",\"attributes\":{\"name\":\"HSpacer00575\",\"stylesheets\":[\"\\n:host(.pn-loading):before, .pn-loading:before {\\n  background-color: #c3c3c3;\\n  mask-size: auto calc(min(50%, 400px));\\n  -webkit-mask-size: auto calc(min(50%, 400px));\\n}\",{\"id\":\"58e6098e-ba2c-40d6-821f-67f7ac3511a1\"},{\"id\":\"1a8ac8ca-0dae-4d3a-813a-4cb10e179f75\"},{\"id\":\"b6031045-c021-4275-bd85-be22ac217823\"}],\"margin\":0,\"sizing_mode\":\"stretch_width\",\"align\":\"start\"}}]}}],\"defs\":[{\"type\":\"model\",\"name\":\"ReactiveHTML1\"},{\"type\":\"model\",\"name\":\"FlexBox1\",\"properties\":[{\"name\":\"align_content\",\"kind\":\"Any\",\"default\":\"flex-start\"},{\"name\":\"align_items\",\"kind\":\"Any\",\"default\":\"flex-start\"},{\"name\":\"flex_direction\",\"kind\":\"Any\",\"default\":\"row\"},{\"name\":\"flex_wrap\",\"kind\":\"Any\",\"default\":\"wrap\"},{\"name\":\"gap\",\"kind\":\"Any\",\"default\":\"\"},{\"name\":\"justify_content\",\"kind\":\"Any\",\"default\":\"flex-start\"}]},{\"type\":\"model\",\"name\":\"FloatPanel1\",\"properties\":[{\"name\":\"config\",\"kind\":\"Any\",\"default\":{\"type\":\"map\"}},{\"name\":\"contained\",\"kind\":\"Any\",\"default\":true},{\"name\":\"position\",\"kind\":\"Any\",\"default\":\"right-top\"},{\"name\":\"offsetx\",\"kind\":\"Any\",\"default\":null},{\"name\":\"offsety\",\"kind\":\"Any\",\"default\":null},{\"name\":\"theme\",\"kind\":\"Any\",\"default\":\"primary\"},{\"name\":\"status\",\"kind\":\"Any\",\"default\":\"normalized\"}]},{\"type\":\"model\",\"name\":\"GridStack1\",\"properties\":[{\"name\":\"ncols\",\"kind\":\"Any\",\"default\":null},{\"name\":\"nrows\",\"kind\":\"Any\",\"default\":null},{\"name\":\"allow_resize\",\"kind\":\"Any\",\"default\":true},{\"name\":\"allow_drag\",\"kind\":\"Any\",\"default\":true},{\"name\":\"state\",\"kind\":\"Any\",\"default\":[]}]},{\"type\":\"model\",\"name\":\"drag1\",\"properties\":[{\"name\":\"slider_width\",\"kind\":\"Any\",\"default\":5},{\"name\":\"slider_color\",\"kind\":\"Any\",\"default\":\"black\"},{\"name\":\"value\",\"kind\":\"Any\",\"default\":50}]},{\"type\":\"model\",\"name\":\"click1\",\"properties\":[{\"name\":\"terminal_output\",\"kind\":\"Any\",\"default\":\"\"},{\"name\":\"debug_name\",\"kind\":\"Any\",\"default\":\"\"},{\"name\":\"clears\",\"kind\":\"Any\",\"default\":0}]},{\"type\":\"model\",\"name\":\"FastWrapper1\",\"properties\":[{\"name\":\"object\",\"kind\":\"Any\",\"default\":null},{\"name\":\"style\",\"kind\":\"Any\",\"default\":null}]},{\"type\":\"model\",\"name\":\"NotificationArea1\",\"properties\":[{\"name\":\"js_events\",\"kind\":\"Any\",\"default\":{\"type\":\"map\"}},{\"name\":\"max_notifications\",\"kind\":\"Any\",\"default\":5},{\"name\":\"notifications\",\"kind\":\"Any\",\"default\":[]},{\"name\":\"position\",\"kind\":\"Any\",\"default\":\"bottom-right\"},{\"name\":\"_clear\",\"kind\":\"Any\",\"default\":0},{\"name\":\"types\",\"kind\":\"Any\",\"default\":[{\"type\":\"map\",\"entries\":[[\"type\",\"warning\"],[\"background\",\"#ffc107\"],[\"icon\",{\"type\":\"map\",\"entries\":[[\"className\",\"fas fa-exclamation-triangle\"],[\"tagName\",\"i\"],[\"color\",\"white\"]]}]]},{\"type\":\"map\",\"entries\":[[\"type\",\"info\"],[\"background\",\"#007bff\"],[\"icon\",{\"type\":\"map\",\"entries\":[[\"className\",\"fas fa-info-circle\"],[\"tagName\",\"i\"],[\"color\",\"white\"]]}]]}]}]},{\"type\":\"model\",\"name\":\"Notification\",\"properties\":[{\"name\":\"background\",\"kind\":\"Any\",\"default\":null},{\"name\":\"duration\",\"kind\":\"Any\",\"default\":3000},{\"name\":\"icon\",\"kind\":\"Any\",\"default\":null},{\"name\":\"message\",\"kind\":\"Any\",\"default\":\"\"},{\"name\":\"notification_type\",\"kind\":\"Any\",\"default\":null},{\"name\":\"_rendered\",\"kind\":\"Any\",\"default\":false},{\"name\":\"_destroyed\",\"kind\":\"Any\",\"default\":false}]},{\"type\":\"model\",\"name\":\"TemplateActions1\",\"properties\":[{\"name\":\"open_modal\",\"kind\":\"Any\",\"default\":0},{\"name\":\"close_modal\",\"kind\":\"Any\",\"default\":0}]},{\"type\":\"model\",\"name\":\"BootstrapTemplateActions1\",\"properties\":[{\"name\":\"open_modal\",\"kind\":\"Any\",\"default\":0},{\"name\":\"close_modal\",\"kind\":\"Any\",\"default\":0}]},{\"type\":\"model\",\"name\":\"TemplateEditor1\",\"properties\":[{\"name\":\"layout\",\"kind\":\"Any\",\"default\":[]}]},{\"type\":\"model\",\"name\":\"MaterialTemplateActions1\",\"properties\":[{\"name\":\"open_modal\",\"kind\":\"Any\",\"default\":0},{\"name\":\"close_modal\",\"kind\":\"Any\",\"default\":0}]},{\"type\":\"model\",\"name\":\"ReactiveESM1\",\"properties\":[{\"name\":\"esm_constants\",\"kind\":\"Any\",\"default\":{\"type\":\"map\"}}]},{\"type\":\"model\",\"name\":\"JSComponent1\",\"properties\":[{\"name\":\"esm_constants\",\"kind\":\"Any\",\"default\":{\"type\":\"map\"}}]},{\"type\":\"model\",\"name\":\"ReactComponent1\",\"properties\":[{\"name\":\"esm_constants\",\"kind\":\"Any\",\"default\":{\"type\":\"map\"}}]},{\"type\":\"model\",\"name\":\"AnyWidgetComponent1\",\"properties\":[{\"name\":\"esm_constants\",\"kind\":\"Any\",\"default\":{\"type\":\"map\"}}]},{\"type\":\"model\",\"name\":\"request_value1\",\"properties\":[{\"name\":\"fill\",\"kind\":\"Any\",\"default\":\"none\"},{\"name\":\"_synced\",\"kind\":\"Any\",\"default\":null},{\"name\":\"_request_sync\",\"kind\":\"Any\",\"default\":0}]}]}};\n",
       "  var render_items = [{\"docid\":\"594948d0-aaaa-4ec1-b28a-47cd8b1fc633\",\"roots\":{\"ae7ecb7f-5787-4fdd-93f1-e585ca20cc28\":\"a578eaf6-28ac-4244-ae97-01c386813a75\"},\"root_ids\":[\"ae7ecb7f-5787-4fdd-93f1-e585ca20cc28\"]}];\n",
       "  var docs = Object.values(docs_json)\n",
       "  if (!docs) {\n",
       "    return\n",
       "  }\n",
       "  const py_version = docs[0].version.replace('rc', '-rc.').replace('.dev', '-dev.')\n",
       "  async function embed_document(root) {\n",
       "    var Bokeh = get_bokeh(root)\n",
       "    await Bokeh.embed.embed_items_notebook(docs_json, render_items);\n",
       "    for (const render_item of render_items) {\n",
       "      for (const root_id of render_item.root_ids) {\n",
       "\tconst id_el = document.getElementById(root_id)\n",
       "\tif (id_el.children.length && id_el.children[0].hasAttribute('data-root-id')) {\n",
       "\t  const root_el = id_el.children[0]\n",
       "\t  root_el.id = root_el.id + '-rendered'\n",
       "\t  for (const child of root_el.children) {\n",
       "            // Ensure JupyterLab does not capture keyboard shortcuts\n",
       "            // see: https://jupyterlab.readthedocs.io/en/4.1.x/extension/notebook.html#keyboard-interaction-model\n",
       "\t    child.setAttribute('data-lm-suppress-shortcuts', 'true')\n",
       "\t  }\n",
       "\t}\n",
       "      }\n",
       "    }\n",
       "  }\n",
       "  function get_bokeh(root) {\n",
       "    if (root.Bokeh === undefined) {\n",
       "      return null\n",
       "    } else if (root.Bokeh.version !== py_version) {\n",
       "      if (root.Bokeh.versions === undefined || !root.Bokeh.versions.has(py_version)) {\n",
       "\treturn null\n",
       "      }\n",
       "      return root.Bokeh.versions.get(py_version);\n",
       "    } else if (root.Bokeh.version === py_version) {\n",
       "      return root.Bokeh\n",
       "    }\n",
       "    return null\n",
       "  }\n",
       "  function is_loaded(root) {\n",
       "    var Bokeh = get_bokeh(root)\n",
       "    return (Bokeh != null && Bokeh.Panel !== undefined)\n",
       "  }\n",
       "  if (is_loaded(root)) {\n",
       "    embed_document(root);\n",
       "  } else {\n",
       "    var attempts = 0;\n",
       "    var timer = setInterval(function(root) {\n",
       "      if (is_loaded(root)) {\n",
       "        clearInterval(timer);\n",
       "        embed_document(root);\n",
       "      } else if (document.readyState == \"complete\") {\n",
       "        attempts++;\n",
       "        if (attempts > 200) {\n",
       "          clearInterval(timer);\n",
       "\t  var Bokeh = get_bokeh(root)\n",
       "\t  if (Bokeh == null || Bokeh.Panel == null) {\n",
       "            console.warn(\"Panel: ERROR: Unable to run Panel code because Bokeh or Panel library is missing\");\n",
       "\t  } else {\n",
       "\t    console.warn(\"Panel: WARNING: Attempting to render but not all required libraries could be resolved.\")\n",
       "\t    embed_document(root)\n",
       "\t  }\n",
       "        }\n",
       "      }\n",
       "    }, 25, root)\n",
       "  }\n",
       "})(window);</script>"
      ],
      "text/plain": [
       ":Overlay\n",
       "   .Bars.I    :Bars   [post_str_b5]   (percent)\n",
       "   .HLine.I   :HLine   [x,y]\n",
       "   .HLine.II  :HLine   [x,y]\n",
       "   .HLine.III :HLine   [x,y]"
      ]
     },
     "metadata": {
      "application/vnd.holoviews_exec.v0+json": {
       "id": "ae7ecb7f-5787-4fdd-93f1-e585ca20cc28"
      }
     },
     "output_type": "display_data"
    },
    {
     "name": "stdout",
     "output_type": "stream",
     "text": [
      "df_10_last FOR str_b5 = 38\n",
      "Last 3 results last_results=['38', '26']\n"
     ]
    },
    {
     "data": {
      "text/html": [
       "<div><style>\n",
       ".dataframe > thead > tr,\n",
       ".dataframe > tbody > tr {\n",
       "  text-align: right;\n",
       "  white-space: pre-wrap;\n",
       "}\n",
       "</style>\n",
       "<small>shape: (10, 30)</small><table border=\"1\" class=\"dataframe\"><thead><tr><th>fecha</th><th>sorteo</th><th>bolillas regulares</th><th>bolillas chauchamba</th><th>cc1</th><th>cc2</th><th>id</th><th>combo</th><th>b1</th><th>b2</th><th>b3</th><th>b4</th><th>b5</th><th>b6</th><th>str_b1</th><th>str_b2</th><th>str_b3</th><th>str_b4</th><th>str_b5</th><th>str_b6</th><th>post_str_b1</th><th>post_str_b2</th><th>post_str_b3</th><th>post_str_b4</th><th>post_str_b5</th><th>post_str_blast</th><th>is_rare_combination</th><th>reason</th><th>jumps_map</th><th>unijump</th></tr><tr><td>str</td><td>str</td><td>str</td><td>str</td><td>str</td><td>str</td><td>str</td><td>array[u8, 6]</td><td>u8</td><td>u8</td><td>u8</td><td>u8</td><td>u8</td><td>u8</td><td>str</td><td>str</td><td>str</td><td>str</td><td>str</td><td>str</td><td>str</td><td>str</td><td>str</td><td>str</td><td>str</td><td>str</td><td>bool</td><td>u8</td><td>str</td><td>i64</td></tr></thead><tbody><tr><td>&quot;08/07/2025&quot;</td><td>&quot;1831&quot;</td><td>&quot;39 30 04 09 38 02&quot;</td><td>&quot;10 11 06 28 04 40&quot;</td><td>&quot;&quot;</td><td>&quot;&quot;</td><td>&quot;020409303839&quot;</td><td>[2, 4, … 39]</td><td>2</td><td>4</td><td>9</td><td>30</td><td>38</td><td>39</td><td>&quot;02&quot;</td><td>&quot;04&quot;</td><td>&quot;09&quot;</td><td>&quot;30&quot;</td><td>&quot;38&quot;</td><td>&quot;39&quot;</td><td>&quot;02&quot;</td><td>&quot;04&quot;</td><td>&quot;09&quot;</td><td>&quot;30&quot;</td><td>&quot;38&quot;</td><td>&quot;39&quot;</td><td>true</td><td>16</td><td>&quot;02_05_21_08_01&quot;</td><td>77</td></tr><tr><td>&quot;01/03/2025&quot;</td><td>&quot;1776&quot;</td><td>&quot;02 34 38 14 22 40&quot;</td><td>&quot;09 08 36 39 14 01&quot;</td><td>&quot;&quot;</td><td>&quot;&quot;</td><td>&quot;021422343840&quot;</td><td>[2, 14, … 40]</td><td>2</td><td>14</td><td>22</td><td>34</td><td>38</td><td>40</td><td>&quot;02&quot;</td><td>&quot;14&quot;</td><td>&quot;22&quot;</td><td>&quot;34&quot;</td><td>&quot;38&quot;</td><td>&quot;40&quot;</td><td>&quot;04&quot;</td><td>&quot;06&quot;</td><td>&quot;11&quot;</td><td>&quot;18&quot;</td><td>&quot;26&quot;</td><td>&quot;30&quot;</td><td>true</td><td>4</td><td>&quot;12_08_12_04_02&quot;</td><td>38</td></tr><tr><td>&quot;01/03/2025&quot;</td><td>&quot;1776&quot;</td><td>&quot;02 34 38 14 22 40&quot;</td><td>&quot;09 08 36 39 14 01&quot;</td><td>&quot;&quot;</td><td>&quot;&quot;</td><td>&quot;021422343840&quot;</td><td>[2, 14, … 40]</td><td>2</td><td>14</td><td>22</td><td>34</td><td>38</td><td>40</td><td>&quot;02&quot;</td><td>&quot;14&quot;</td><td>&quot;22&quot;</td><td>&quot;34&quot;</td><td>&quot;38&quot;</td><td>&quot;40&quot;</td><td>&quot;02&quot;</td><td>&quot;14&quot;</td><td>&quot;22&quot;</td><td>&quot;34&quot;</td><td>&quot;38&quot;</td><td>&quot;40&quot;</td><td>true</td><td>4</td><td>&quot;12_08_12_04_02&quot;</td><td>38</td></tr><tr><td>&quot;15/10/2024&quot;</td><td>&quot;1717&quot;</td><td>&quot;38 18 19 39 23 37&quot;</td><td>&quot;20 31 34 02 07 21&quot;</td><td>&quot;&quot;</td><td>&quot;&quot;</td><td>&quot;181923373839&quot;</td><td>[18, 19, … 39]</td><td>18</td><td>19</td><td>23</td><td>37</td><td>38</td><td>39</td><td>&quot;18&quot;</td><td>&quot;19&quot;</td><td>&quot;23&quot;</td><td>&quot;37&quot;</td><td>&quot;38&quot;</td><td>&quot;39&quot;</td><td>&quot;11&quot;</td><td>&quot;14&quot;</td><td>&quot;19&quot;</td><td>&quot;21&quot;</td><td>&quot;30&quot;</td><td>&quot;36&quot;</td><td>true</td><td>8</td><td>&quot;01_04_14_01_01&quot;</td><td>66</td></tr><tr><td>&quot;15/10/2024&quot;</td><td>&quot;1717&quot;</td><td>&quot;38 18 19 39 23 37&quot;</td><td>&quot;20 31 34 02 07 21&quot;</td><td>&quot;&quot;</td><td>&quot;&quot;</td><td>&quot;181923373839&quot;</td><td>[18, 19, … 39]</td><td>18</td><td>19</td><td>23</td><td>37</td><td>38</td><td>39</td><td>&quot;18&quot;</td><td>&quot;19&quot;</td><td>&quot;23&quot;</td><td>&quot;37&quot;</td><td>&quot;38&quot;</td><td>&quot;39&quot;</td><td>&quot;18&quot;</td><td>&quot;19&quot;</td><td>&quot;23&quot;</td><td>&quot;37&quot;</td><td>&quot;38&quot;</td><td>&quot;39&quot;</td><td>true</td><td>8</td><td>&quot;01_04_14_01_01&quot;</td><td>66</td></tr><tr><td>&quot;20/07/2024&quot;</td><td>&quot;1680&quot;</td><td>&quot;22 39 20 38 19 09&quot;</td><td>&quot;05 04 11 15 25 21&quot;</td><td>&quot;&quot;</td><td>&quot;&quot;</td><td>&quot;091920223839&quot;</td><td>[9, 19, … 39]</td><td>9</td><td>19</td><td>20</td><td>22</td><td>38</td><td>39</td><td>&quot;09&quot;</td><td>&quot;19&quot;</td><td>&quot;20&quot;</td><td>&quot;22&quot;</td><td>&quot;38&quot;</td><td>&quot;39&quot;</td><td>&quot;08&quot;</td><td>&quot;10&quot;</td><td>&quot;21&quot;</td><td>&quot;22&quot;</td><td>&quot;23&quot;</td><td>&quot;39&quot;</td><td>false</td><td>0</td><td>&quot;10_01_02_16_01&quot;</td><td>-45</td></tr><tr><td>&quot;20/07/2024&quot;</td><td>&quot;1680&quot;</td><td>&quot;22 39 20 38 19 09&quot;</td><td>&quot;05 04 11 15 25 21&quot;</td><td>&quot;&quot;</td><td>&quot;&quot;</td><td>&quot;091920223839&quot;</td><td>[9, 19, … 39]</td><td>9</td><td>19</td><td>20</td><td>22</td><td>38</td><td>39</td><td>&quot;09&quot;</td><td>&quot;19&quot;</td><td>&quot;20&quot;</td><td>&quot;22&quot;</td><td>&quot;38&quot;</td><td>&quot;39&quot;</td><td>&quot;09&quot;</td><td>&quot;19&quot;</td><td>&quot;20&quot;</td><td>&quot;22&quot;</td><td>&quot;38&quot;</td><td>&quot;39&quot;</td><td>false</td><td>0</td><td>&quot;10_01_02_16_01&quot;</td><td>-45</td></tr><tr><td>&quot;30/05/2024&quot;</td><td>&quot;1658&quot;</td><td>&quot;36 10 38 39 15 27&quot;</td><td>&quot;34 32 36 19 09 17&quot;</td><td>&quot;&quot;</td><td>&quot;&quot;</td><td>&quot;101527363839&quot;</td><td>[10, 15, … 39]</td><td>10</td><td>15</td><td>27</td><td>36</td><td>38</td><td>39</td><td>&quot;10&quot;</td><td>&quot;15&quot;</td><td>&quot;27&quot;</td><td>&quot;36&quot;</td><td>&quot;38&quot;</td><td>&quot;39&quot;</td><td>&quot;05&quot;</td><td>&quot;17&quot;</td><td>&quot;22&quot;</td><td>&quot;35&quot;</td><td>&quot;37&quot;</td><td>&quot;39&quot;</td><td>false</td><td>0</td><td>&quot;05_12_09_02_01&quot;</td><td>4</td></tr><tr><td>&quot;30/05/2024&quot;</td><td>&quot;1658&quot;</td><td>&quot;36 10 38 39 15 27&quot;</td><td>&quot;34 32 36 19 09 17&quot;</td><td>&quot;&quot;</td><td>&quot;&quot;</td><td>&quot;101527363839&quot;</td><td>[10, 15, … 39]</td><td>10</td><td>15</td><td>27</td><td>36</td><td>38</td><td>39</td><td>&quot;10&quot;</td><td>&quot;15&quot;</td><td>&quot;27&quot;</td><td>&quot;36&quot;</td><td>&quot;38&quot;</td><td>&quot;39&quot;</td><td>&quot;10&quot;</td><td>&quot;15&quot;</td><td>&quot;27&quot;</td><td>&quot;36&quot;</td><td>&quot;38&quot;</td><td>&quot;39&quot;</td><td>false</td><td>0</td><td>&quot;05_12_09_02_01&quot;</td><td>4</td></tr><tr><td>&quot;13/01/2024&quot;</td><td>&quot;1599&quot;</td><td>&quot;38 05 39 33 34 26&quot;</td><td>&quot;37 17 25 11 30 36&quot;</td><td>&quot;&quot;</td><td>&quot;&quot;</td><td>&quot;052633343839&quot;</td><td>[5, 26, … 39]</td><td>5</td><td>26</td><td>33</td><td>34</td><td>38</td><td>39</td><td>&quot;05&quot;</td><td>&quot;26&quot;</td><td>&quot;33&quot;</td><td>&quot;34&quot;</td><td>&quot;38&quot;</td><td>&quot;39&quot;</td><td>&quot;20&quot;</td><td>&quot;28&quot;</td><td>&quot;31&quot;</td><td>&quot;34&quot;</td><td>&quot;35&quot;</td><td>&quot;36&quot;</td><td>true</td><td>16</td><td>&quot;21_07_01_04_01&quot;</td><td>-16</td></tr></tbody></table></div>"
      ],
      "text/plain": [
       "shape: (10, 30)\n",
       "┌────────────┬────────┬─────────────┬─────────────┬───┬────────────┬────────┬────────────┬─────────┐\n",
       "│ fecha      ┆ sorteo ┆ bolillas    ┆ bolillas    ┆ … ┆ is_rare_co ┆ reason ┆ jumps_map  ┆ unijump │\n",
       "│ ---        ┆ ---    ┆ regulares   ┆ chauchamba  ┆   ┆ mbination  ┆ ---    ┆ ---        ┆ ---     │\n",
       "│ str        ┆ str    ┆ ---         ┆ ---         ┆   ┆ ---        ┆ u8     ┆ str        ┆ i64     │\n",
       "│            ┆        ┆ str         ┆ str         ┆   ┆ bool       ┆        ┆            ┆         │\n",
       "╞════════════╪════════╪═════════════╪═════════════╪═══╪════════════╪════════╪════════════╪═════════╡\n",
       "│ 08/07/2025 ┆ 1831   ┆ 39 30 04 09 ┆ 10 11 06 28 ┆ … ┆ true       ┆ 16     ┆ 02_05_21_0 ┆ 77      │\n",
       "│            ┆        ┆ 38 02       ┆ 04 40       ┆   ┆            ┆        ┆ 8_01       ┆         │\n",
       "│ 01/03/2025 ┆ 1776   ┆ 02 34 38 14 ┆ 09 08 36 39 ┆ … ┆ true       ┆ 4      ┆ 12_08_12_0 ┆ 38      │\n",
       "│            ┆        ┆ 22 40       ┆ 14 01       ┆   ┆            ┆        ┆ 4_02       ┆         │\n",
       "│ 01/03/2025 ┆ 1776   ┆ 02 34 38 14 ┆ 09 08 36 39 ┆ … ┆ true       ┆ 4      ┆ 12_08_12_0 ┆ 38      │\n",
       "│            ┆        ┆ 22 40       ┆ 14 01       ┆   ┆            ┆        ┆ 4_02       ┆         │\n",
       "│ 15/10/2024 ┆ 1717   ┆ 38 18 19 39 ┆ 20 31 34 02 ┆ … ┆ true       ┆ 8      ┆ 01_04_14_0 ┆ 66      │\n",
       "│            ┆        ┆ 23 37       ┆ 07 21       ┆   ┆            ┆        ┆ 1_01       ┆         │\n",
       "│ 15/10/2024 ┆ 1717   ┆ 38 18 19 39 ┆ 20 31 34 02 ┆ … ┆ true       ┆ 8      ┆ 01_04_14_0 ┆ 66      │\n",
       "│            ┆        ┆ 23 37       ┆ 07 21       ┆   ┆            ┆        ┆ 1_01       ┆         │\n",
       "│ 20/07/2024 ┆ 1680   ┆ 22 39 20 38 ┆ 05 04 11 15 ┆ … ┆ false      ┆ 0      ┆ 10_01_02_1 ┆ -45     │\n",
       "│            ┆        ┆ 19 09       ┆ 25 21       ┆   ┆            ┆        ┆ 6_01       ┆         │\n",
       "│ 20/07/2024 ┆ 1680   ┆ 22 39 20 38 ┆ 05 04 11 15 ┆ … ┆ false      ┆ 0      ┆ 10_01_02_1 ┆ -45     │\n",
       "│            ┆        ┆ 19 09       ┆ 25 21       ┆   ┆            ┆        ┆ 6_01       ┆         │\n",
       "│ 30/05/2024 ┆ 1658   ┆ 36 10 38 39 ┆ 34 32 36 19 ┆ … ┆ false      ┆ 0      ┆ 05_12_09_0 ┆ 4       │\n",
       "│            ┆        ┆ 15 27       ┆ 09 17       ┆   ┆            ┆        ┆ 2_01       ┆         │\n",
       "│ 30/05/2024 ┆ 1658   ┆ 36 10 38 39 ┆ 34 32 36 19 ┆ … ┆ false      ┆ 0      ┆ 05_12_09_0 ┆ 4       │\n",
       "│            ┆        ┆ 15 27       ┆ 09 17       ┆   ┆            ┆        ┆ 2_01       ┆         │\n",
       "│ 13/01/2024 ┆ 1599   ┆ 38 05 39 33 ┆ 37 17 25 11 ┆ … ┆ true       ┆ 16     ┆ 21_07_01_0 ┆ -16     │\n",
       "│            ┆        ┆ 34 26       ┆ 30 36       ┆   ┆            ┆        ┆ 4_01       ┆         │\n",
       "└────────────┴────────┴─────────────┴─────────────┴───┴────────────┴────────┴────────────┴─────────┘"
      ]
     },
     "metadata": {},
     "output_type": "display_data"
    },
    {
     "name": "stdout",
     "output_type": "stream",
     "text": [
      "df_jumps_map FOR str_b5 = 38\n"
     ]
    },
    {
     "data": {
      "text/html": [
       "<div><style>\n",
       ".dataframe > thead > tr,\n",
       ".dataframe > tbody > tr {\n",
       "  text-align: right;\n",
       "  white-space: pre-wrap;\n",
       "}\n",
       "</style>\n",
       "<small>shape: (122, 2)</small><table border=\"1\" class=\"dataframe\"><thead><tr><th>jumps_map</th><th>count</th></tr><tr><td>str</td><td>u32</td></tr></thead><tbody><tr><td>&quot;14_01_12_05_02&quot;</td><td>2</td></tr><tr><td>&quot;09_02_18_02_02&quot;</td><td>2</td></tr><tr><td>&quot;07_12_15_03_01&quot;</td><td>2</td></tr><tr><td>&quot;05_14_04_07_01&quot;</td><td>2</td></tr><tr><td>&quot;22_01_04_10_02&quot;</td><td>2</td></tr><tr><td>&hellip;</td><td>&hellip;</td></tr><tr><td>&quot;05_05_21_02_02&quot;</td><td>1</td></tr><tr><td>&quot;13_03_04_12_01&quot;</td><td>1</td></tr><tr><td>&quot;08_01_14_01_02&quot;</td><td>1</td></tr><tr><td>&quot;12_06_07_04_01&quot;</td><td>1</td></tr><tr><td>&quot;03_01_07_07_02&quot;</td><td>1</td></tr></tbody></table></div>"
      ],
      "text/plain": [
       "shape: (122, 2)\n",
       "┌────────────────┬───────┐\n",
       "│ jumps_map      ┆ count │\n",
       "│ ---            ┆ ---   │\n",
       "│ str            ┆ u32   │\n",
       "╞════════════════╪═══════╡\n",
       "│ 14_01_12_05_02 ┆ 2     │\n",
       "│ 09_02_18_02_02 ┆ 2     │\n",
       "│ 07_12_15_03_01 ┆ 2     │\n",
       "│ 05_14_04_07_01 ┆ 2     │\n",
       "│ 22_01_04_10_02 ┆ 2     │\n",
       "│ …              ┆ …     │\n",
       "│ 05_05_21_02_02 ┆ 1     │\n",
       "│ 13_03_04_12_01 ┆ 1     │\n",
       "│ 08_01_14_01_02 ┆ 1     │\n",
       "│ 12_06_07_04_01 ┆ 1     │\n",
       "│ 03_01_07_07_02 ┆ 1     │\n",
       "└────────────────┴───────┘"
      ]
     },
     "metadata": {},
     "output_type": "display_data"
    },
    {
     "name": "stdout",
     "output_type": "stream",
     "text": [
      "df_unijump FOR str_b5 = 38\n"
     ]
    },
    {
     "data": {
      "text/html": [
       "<div><style>\n",
       ".dataframe > thead > tr,\n",
       ".dataframe > tbody > tr {\n",
       "  text-align: right;\n",
       "  white-space: pre-wrap;\n",
       "}\n",
       "</style>\n",
       "<small>shape: (89, 2)</small><table border=\"1\" class=\"dataframe\"><thead><tr><th>unijump</th><th>count</th></tr><tr><td>i64</td><td>u32</td></tr></thead><tbody><tr><td>-46</td><td>6</td></tr><tr><td>4</td><td>5</td></tr><tr><td>38</td><td>5</td></tr><tr><td>-22</td><td>5</td></tr><tr><td>-45</td><td>4</td></tr><tr><td>&hellip;</td><td>&hellip;</td></tr><tr><td>106</td><td>1</td></tr><tr><td>-27</td><td>1</td></tr><tr><td>62</td><td>1</td></tr><tr><td>-81</td><td>1</td></tr><tr><td>32</td><td>1</td></tr></tbody></table></div>"
      ],
      "text/plain": [
       "shape: (89, 2)\n",
       "┌─────────┬───────┐\n",
       "│ unijump ┆ count │\n",
       "│ ---     ┆ ---   │\n",
       "│ i64     ┆ u32   │\n",
       "╞═════════╪═══════╡\n",
       "│ -46     ┆ 6     │\n",
       "│ 4       ┆ 5     │\n",
       "│ 38      ┆ 5     │\n",
       "│ -22     ┆ 5     │\n",
       "│ -45     ┆ 4     │\n",
       "│ …       ┆ …     │\n",
       "│ 106     ┆ 1     │\n",
       "│ -27     ┆ 1     │\n",
       "│ 62      ┆ 1     │\n",
       "│ -81     ┆ 1     │\n",
       "│ 32      ┆ 1     │\n",
       "└─────────┴───────┘"
      ]
     },
     "metadata": {},
     "output_type": "display_data"
    }
   ],
   "source": [
    "possible_b5, exclude_jump_maps_b5, last_post_b5 = plot_post_col(col='str_b5', post_col='post_str_b5')"
   ]
  },
  {
   "cell_type": "code",
   "execution_count": 12,
   "metadata": {},
   "outputs": [
    {
     "name": "stdout",
     "output_type": "stream",
     "text": [
      "Setting test_value='39'\n",
      "df_viz FOR str_b6 = 39\n"
     ]
    },
    {
     "data": {
      "text/html": [
       "<div><style>\n",
       ".dataframe > thead > tr,\n",
       ".dataframe > tbody > tr {\n",
       "  text-align: right;\n",
       "  white-space: pre-wrap;\n",
       "}\n",
       "</style>\n",
       "<small>shape: (24, 3)</small><table border=\"1\" class=\"dataframe\"><thead><tr><th>post_str_blast</th><th>count</th><th>percent</th></tr><tr><td>str</td><td>u32</td><td>f64</td></tr></thead><tbody><tr><td>&quot;39&quot;</td><td>298</td><td>42.389758</td></tr><tr><td>&quot;38&quot;</td><td>63</td><td>8.961593</td></tr><tr><td>&quot;40&quot;</td><td>55</td><td>7.823613</td></tr><tr><td>&quot;37&quot;</td><td>50</td><td>7.112376</td></tr><tr><td>&quot;35&quot;</td><td>33</td><td>4.694168</td></tr><tr><td>&hellip;</td><td>&hellip;</td><td>&hellip;</td></tr><tr><td>&quot;19&quot;</td><td>2</td><td>0.284495</td></tr><tr><td>&quot;14&quot;</td><td>1</td><td>0.142248</td></tr><tr><td>&quot;23&quot;</td><td>1</td><td>0.142248</td></tr><tr><td>&quot;18&quot;</td><td>1</td><td>0.142248</td></tr><tr><td>&quot;20&quot;</td><td>1</td><td>0.142248</td></tr></tbody></table></div>"
      ],
      "text/plain": [
       "shape: (24, 3)\n",
       "┌────────────────┬───────┬───────────┐\n",
       "│ post_str_blast ┆ count ┆ percent   │\n",
       "│ ---            ┆ ---   ┆ ---       │\n",
       "│ str            ┆ u32   ┆ f64       │\n",
       "╞════════════════╪═══════╪═══════════╡\n",
       "│ 39             ┆ 298   ┆ 42.389758 │\n",
       "│ 38             ┆ 63    ┆ 8.961593  │\n",
       "│ 40             ┆ 55    ┆ 7.823613  │\n",
       "│ 37             ┆ 50    ┆ 7.112376  │\n",
       "│ 35             ┆ 33    ┆ 4.694168  │\n",
       "│ …              ┆ …     ┆ …         │\n",
       "│ 19             ┆ 2     ┆ 0.284495  │\n",
       "│ 14             ┆ 1     ┆ 0.142248  │\n",
       "│ 23             ┆ 1     ┆ 0.142248  │\n",
       "│ 18             ┆ 1     ┆ 0.142248  │\n",
       "│ 20             ┆ 1     ┆ 0.142248  │\n",
       "└────────────────┴───────┴───────────┘"
      ]
     },
     "metadata": {},
     "output_type": "display_data"
    },
    {
     "data": {},
     "metadata": {},
     "output_type": "display_data"
    },
    {
     "data": {
      "application/vnd.holoviews_exec.v0+json": "",
      "text/html": [
       "<div id='0ad2970a-f5b2-4ba9-87cc-853b3ccdfffb'>\n",
       "  <div id=\"ffc65855-a558-46c0-a126-a78d1eb3872c\" data-root-id=\"0ad2970a-f5b2-4ba9-87cc-853b3ccdfffb\" style=\"display: contents;\"></div>\n",
       "</div>\n",
       "<script type=\"application/javascript\">(function(root) {\n",
       "  var docs_json = {\"e8331ab2-79c1-4389-90c6-6ae1f8bd1283\":{\"version\":\"3.7.2\",\"title\":\"Bokeh Application\",\"roots\":[{\"type\":\"object\",\"name\":\"Row\",\"id\":\"0ad2970a-f5b2-4ba9-87cc-853b3ccdfffb\",\"attributes\":{\"name\":\"Row00641\",\"tags\":[\"embedded\"],\"stylesheets\":[\"\\n:host(.pn-loading):before, .pn-loading:before {\\n  background-color: #c3c3c3;\\n  mask-size: auto calc(min(50%, 400px));\\n  -webkit-mask-size: auto calc(min(50%, 400px));\\n}\",{\"type\":\"object\",\"name\":\"ImportedStyleSheet\",\"id\":\"8648f507-364a-4884-8971-175d72431b8e\",\"attributes\":{\"url\":\"https://cdn.holoviz.org/panel/1.6.2/dist/css/loading.css\"}},{\"type\":\"object\",\"name\":\"ImportedStyleSheet\",\"id\":\"9510b841-48e2-4cd3-b67d-d103d877156c\",\"attributes\":{\"url\":\"https://cdn.holoviz.org/panel/1.6.2/dist/css/listpanel.css\"}},{\"type\":\"object\",\"name\":\"ImportedStyleSheet\",\"id\":\"ff7a2569-6bc7-4284-92c7-4e6a5e521157\",\"attributes\":{\"url\":\"https://cdn.holoviz.org/panel/1.6.2/dist/bundled/theme/default.css\"}},{\"type\":\"object\",\"name\":\"ImportedStyleSheet\",\"id\":\"8dc00121-a307-400a-baf6-ce4cda4d1a13\",\"attributes\":{\"url\":\"https://cdn.holoviz.org/panel/1.6.2/dist/bundled/theme/native.css\"}}],\"min_width\":700,\"margin\":0,\"sizing_mode\":\"stretch_width\",\"align\":\"start\",\"children\":[{\"type\":\"object\",\"name\":\"Spacer\",\"id\":\"46aadc7c-4809-48e9-99e5-727016a561a6\",\"attributes\":{\"name\":\"HSpacer00645\",\"stylesheets\":[\"\\n:host(.pn-loading):before, .pn-loading:before {\\n  background-color: #c3c3c3;\\n  mask-size: auto calc(min(50%, 400px));\\n  -webkit-mask-size: auto calc(min(50%, 400px));\\n}\",{\"id\":\"8648f507-364a-4884-8971-175d72431b8e\"},{\"id\":\"ff7a2569-6bc7-4284-92c7-4e6a5e521157\"},{\"id\":\"8dc00121-a307-400a-baf6-ce4cda4d1a13\"}],\"margin\":0,\"sizing_mode\":\"stretch_width\",\"align\":\"start\"}},{\"type\":\"object\",\"name\":\"Figure\",\"id\":\"f7a230a0-f94d-4a3a-bce1-529ed9e4eedb\",\"attributes\":{\"width\":700,\"height\":300,\"margin\":[5,10],\"sizing_mode\":\"fixed\",\"align\":\"start\",\"x_range\":{\"type\":\"object\",\"name\":\"FactorRange\",\"id\":\"82332629-2d48-489a-8bd3-7d4c54c21d92\",\"attributes\":{\"name\":\"post_str_blast\",\"tags\":[[[\"post_str_blast\",null]],[]],\"factors\":[\"39\",\"38\",\"40\",\"37\",\"35\",\"34\",\"36\",\"33\",\"32\",\"31\",\"30\",\"29\",\"28\",\"24\",\"26\",\"27\",\"22\",\"21\",\"25\",\"19\",\"14\",\"23\",\"18\",\"20\"]}},\"y_range\":{\"type\":\"object\",\"name\":\"Range1d\",\"id\":\"ff73aab9-96c1-4bf0-8135-3ae581a25b77\",\"attributes\":{\"name\":\"percent\",\"tags\":[[[\"percent\",null]],{\"type\":\"map\",\"entries\":[[\"invert_yaxis\",false],[\"autorange\",false]]}],\"end\":46.6145092460882,\"reset_start\":0.0,\"reset_end\":46.6145092460882}},\"x_scale\":{\"type\":\"object\",\"name\":\"CategoricalScale\",\"id\":\"c8ab7678-a7bd-4a78-9b53-06cebed718eb\"},\"y_scale\":{\"type\":\"object\",\"name\":\"LinearScale\",\"id\":\"a1770976-7436-4ca9-b711-fadcb2418d43\"},\"title\":{\"type\":\"object\",\"name\":\"Title\",\"id\":\"15c0e038-07df-4922-851c-a3fc5637663d\",\"attributes\":{\"text_color\":\"black\",\"text_font_size\":\"12pt\"}},\"renderers\":[{\"type\":\"object\",\"name\":\"GlyphRenderer\",\"id\":\"9441325e-18c3-4851-8143-ba33e494367b\",\"attributes\":{\"data_source\":{\"type\":\"object\",\"name\":\"ColumnDataSource\",\"id\":\"891adba0-ffbd-4f81-8c07-afbb723c2307\",\"attributes\":{\"selected\":{\"type\":\"object\",\"name\":\"Selection\",\"id\":\"8370237c-4fce-4f67-9848-7302e1d5d3d9\",\"attributes\":{\"indices\":[],\"line_indices\":[]}},\"selection_policy\":{\"type\":\"object\",\"name\":\"UnionRenderers\",\"id\":\"cae06c91-ca9b-45cd-9a45-91d95e6df204\"},\"data\":{\"type\":\"map\",\"entries\":[[\"post_str_blast\",[\"39\",\"38\",\"40\",\"37\",\"35\",\"34\",\"36\",\"33\",\"32\",\"31\",\"30\",\"29\",\"28\",\"24\",\"26\",\"27\",\"22\",\"21\",\"25\",\"19\",\"14\",\"23\",\"18\",\"20\"]],[\"percent\",{\"type\":\"ndarray\",\"array\":{\"type\":\"bytes\",\"data\":\"H5OUmOMxRUDFnrTwVewhQLf0oDphSx9AMsdjkhJzHEBtLPrv08YSQFMjIZsqNRJAUyMhmyo1EkA4GkhGgaMRQP20sei/TwtAHhFv8dcRAUDQ/XmPCt3/Pyds6UF1wvY/J2zpQXXC9j9TIyGbKjXyP9D9eY8K3e8//bSx6L9P6z9TIyGbKjXiP/20sei/T9s/UyMhmyo10j9TIyGbKjXSP1MjIZsqNcI/UyMhmyo1wj9TIyGbKjXCP1MjIZsqNcI/\"},\"shape\":[24],\"dtype\":\"float64\",\"order\":\"little\"}]]}}},\"view\":{\"type\":\"object\",\"name\":\"CDSView\",\"id\":\"a71b8495-73c5-4f73-a558-509b5ccb6803\",\"attributes\":{\"filter\":{\"type\":\"object\",\"name\":\"AllIndices\",\"id\":\"f6ad02cf-0892-487c-ac7e-ad4008324e4e\"}}},\"glyph\":{\"type\":\"object\",\"name\":\"VBar\",\"id\":\"fb610040-65bf-4aa3-9aa2-78fd9ccf4d3e\",\"attributes\":{\"tags\":[\"apply_ranges\"],\"x\":{\"type\":\"field\",\"field\":\"post_str_blast\"},\"width\":{\"type\":\"value\",\"value\":0.8},\"top\":{\"type\":\"field\",\"field\":\"percent\"},\"fill_color\":{\"type\":\"value\",\"value\":\"#30a2da\"},\"hatch_color\":{\"type\":\"value\",\"value\":\"#30a2da\"}}},\"selection_glyph\":{\"type\":\"object\",\"name\":\"VBar\",\"id\":\"d2214edc-c8fb-46bd-b35e-9f36b5165650\",\"attributes\":{\"tags\":[\"apply_ranges\"],\"x\":{\"type\":\"field\",\"field\":\"post_str_blast\"},\"width\":{\"type\":\"value\",\"value\":0.8},\"bottom\":{\"type\":\"value\",\"value\":0},\"top\":{\"type\":\"field\",\"field\":\"percent\"},\"line_color\":{\"type\":\"value\",\"value\":\"black\"},\"line_alpha\":{\"type\":\"value\",\"value\":1.0},\"line_width\":{\"type\":\"value\",\"value\":1},\"line_join\":{\"type\":\"value\",\"value\":\"bevel\"},\"line_cap\":{\"type\":\"value\",\"value\":\"butt\"},\"line_dash\":{\"type\":\"value\",\"value\":[]},\"line_dash_offset\":{\"type\":\"value\",\"value\":0},\"fill_color\":{\"type\":\"value\",\"value\":\"#30a2da\"},\"fill_alpha\":{\"type\":\"value\",\"value\":1.0},\"hatch_color\":{\"type\":\"value\",\"value\":\"#30a2da\"},\"hatch_alpha\":{\"type\":\"value\",\"value\":1.0},\"hatch_scale\":{\"type\":\"value\",\"value\":12.0},\"hatch_pattern\":{\"type\":\"value\",\"value\":null},\"hatch_weight\":{\"type\":\"value\",\"value\":1.0}}},\"nonselection_glyph\":{\"type\":\"object\",\"name\":\"VBar\",\"id\":\"e8ec500b-bdba-4c19-87e8-79d6ef6db380\",\"attributes\":{\"tags\":[\"apply_ranges\"],\"x\":{\"type\":\"field\",\"field\":\"post_str_blast\"},\"width\":{\"type\":\"value\",\"value\":0.8},\"top\":{\"type\":\"field\",\"field\":\"percent\"},\"line_alpha\":{\"type\":\"value\",\"value\":0.1},\"fill_color\":{\"type\":\"value\",\"value\":\"#30a2da\"},\"fill_alpha\":{\"type\":\"value\",\"value\":0.1},\"hatch_color\":{\"type\":\"value\",\"value\":\"#30a2da\"},\"hatch_alpha\":{\"type\":\"value\",\"value\":0.1}}},\"muted_glyph\":{\"type\":\"object\",\"name\":\"VBar\",\"id\":\"15e44dbf-01af-42a8-88ad-3694ad4a987c\",\"attributes\":{\"tags\":[\"apply_ranges\"],\"x\":{\"type\":\"field\",\"field\":\"post_str_blast\"},\"width\":{\"type\":\"value\",\"value\":0.8},\"top\":{\"type\":\"field\",\"field\":\"percent\"},\"line_alpha\":{\"type\":\"value\",\"value\":0.2},\"fill_color\":{\"type\":\"value\",\"value\":\"#30a2da\"},\"fill_alpha\":{\"type\":\"value\",\"value\":0.2},\"hatch_color\":{\"type\":\"value\",\"value\":\"#30a2da\"},\"hatch_alpha\":{\"type\":\"value\",\"value\":0.2}}}}},{\"type\":\"object\",\"name\":\"Span\",\"id\":\"45ab4538-f46b-45b0-9c2d-810cb387b1da\",\"attributes\":{\"level\":\"glyph\",\"location\":4.166666666666669,\"line_color\":\"red\",\"line_width\":3}},{\"type\":\"object\",\"name\":\"Span\",\"id\":\"7950a68e-e88e-4b0a-9e7d-209f3247b1fe\",\"attributes\":{\"level\":\"glyph\",\"location\":6.2500000000000036,\"line_color\":\"blue\",\"line_width\":3}},{\"type\":\"object\",\"name\":\"Span\",\"id\":\"b1feb155-a47e-4b2f-9ae3-5b81a867787d\",\"attributes\":{\"level\":\"glyph\",\"location\":2.0833333333333344,\"line_color\":\"blue\",\"line_width\":3}}],\"toolbar\":{\"type\":\"object\",\"name\":\"Toolbar\",\"id\":\"87e16555-6b8b-4e5c-babd-a7e2208fe2a1\",\"attributes\":{\"tools\":[{\"type\":\"object\",\"name\":\"WheelZoomTool\",\"id\":\"abb29077-117a-4da8-9987-eb5d87ff93a0\",\"attributes\":{\"tags\":[\"hv_created\"],\"renderers\":\"auto\",\"zoom_together\":\"none\"}},{\"type\":\"object\",\"name\":\"HoverTool\",\"id\":\"4aa9af69-5a18-4453-9c31-4ee019097176\",\"attributes\":{\"tags\":[\"hv_created\"],\"renderers\":[{\"id\":\"9441325e-18c3-4851-8143-ba33e494367b\"}],\"tooltips\":[[\"post_str_blast\",\"@{post_str_blast}\"],[\"percent\",\"@{percent}\"]]}},{\"type\":\"object\",\"name\":\"SaveTool\",\"id\":\"974c0d12-184d-447f-9c54-ef9d36cf4d46\"},{\"type\":\"object\",\"name\":\"PanTool\",\"id\":\"79b04c0c-45b7-42a4-97b7-70647fe3affa\"},{\"type\":\"object\",\"name\":\"BoxZoomTool\",\"id\":\"eb810752-b2b9-409c-890c-07f4647135a9\",\"attributes\":{\"dimensions\":\"both\",\"overlay\":{\"type\":\"object\",\"name\":\"BoxAnnotation\",\"id\":\"47dc8173-055c-4ab0-9543-76c9f8a035c4\",\"attributes\":{\"syncable\":false,\"line_color\":\"black\",\"line_alpha\":1.0,\"line_width\":2,\"line_dash\":[4,4],\"fill_color\":\"lightgrey\",\"fill_alpha\":0.5,\"level\":\"overlay\",\"visible\":false,\"left\":{\"type\":\"number\",\"value\":\"nan\"},\"right\":{\"type\":\"number\",\"value\":\"nan\"},\"top\":{\"type\":\"number\",\"value\":\"nan\"},\"bottom\":{\"type\":\"number\",\"value\":\"nan\"},\"left_units\":\"canvas\",\"right_units\":\"canvas\",\"top_units\":\"canvas\",\"bottom_units\":\"canvas\",\"handles\":{\"type\":\"object\",\"name\":\"BoxInteractionHandles\",\"id\":\"3411e3f4-6973-4658-a6d2-bdbee4b43805\",\"attributes\":{\"all\":{\"type\":\"object\",\"name\":\"AreaVisuals\",\"id\":\"47d49b51-fcdf-4b96-8108-0d32a944e5c8\",\"attributes\":{\"fill_color\":\"white\",\"hover_fill_color\":\"lightgray\"}}}}}}}},{\"type\":\"object\",\"name\":\"ResetTool\",\"id\":\"e4affd2c-8bf3-4d93-bc9f-2d4ebccad798\"}],\"active_drag\":{\"id\":\"79b04c0c-45b7-42a4-97b7-70647fe3affa\"}}},\"left\":[{\"type\":\"object\",\"name\":\"LinearAxis\",\"id\":\"624dd136-df27-447e-bdb2-50e96d9fecdf\",\"attributes\":{\"ticker\":{\"type\":\"object\",\"name\":\"BasicTicker\",\"id\":\"8b53ba3b-6233-46c1-a6b8-0defae09d56d\",\"attributes\":{\"mantissas\":[1,2,5]}},\"formatter\":{\"type\":\"object\",\"name\":\"BasicTickFormatter\",\"id\":\"705e423c-370b-461f-94cc-fa5971abf6df\"},\"axis_label\":\"percent\",\"major_label_policy\":{\"type\":\"object\",\"name\":\"AllLabels\",\"id\":\"6cc31556-5492-4f16-b076-3d09370ef0af\"}}}],\"below\":[{\"type\":\"object\",\"name\":\"CategoricalAxis\",\"id\":\"16f9e453-c51d-447b-a7b5-2fd764c0a85f\",\"attributes\":{\"ticker\":{\"type\":\"object\",\"name\":\"CategoricalTicker\",\"id\":\"1f081e85-31e3-4d00-9815-49df67f9df8b\"},\"formatter\":{\"type\":\"object\",\"name\":\"CategoricalTickFormatter\",\"id\":\"17f22f59-f759-4ce3-a90e-1302cd554187\"},\"axis_label\":\"post_str_blast\",\"major_label_policy\":{\"type\":\"object\",\"name\":\"AllLabels\",\"id\":\"06042fa2-7758-4c99-a47d-a6f6e013e8de\"}}}],\"center\":[{\"type\":\"object\",\"name\":\"Grid\",\"id\":\"3959d033-8312-42db-bffd-d9db91aef081\",\"attributes\":{\"axis\":{\"id\":\"16f9e453-c51d-447b-a7b5-2fd764c0a85f\"},\"grid_line_color\":null}},{\"type\":\"object\",\"name\":\"Grid\",\"id\":\"bfee815a-235b-4eb5-b86a-a57cc9d153ce\",\"attributes\":{\"dimension\":1,\"axis\":{\"id\":\"624dd136-df27-447e-bdb2-50e96d9fecdf\"},\"grid_line_color\":null}}],\"min_border_top\":10,\"min_border_bottom\":10,\"min_border_left\":10,\"min_border_right\":10,\"output_backend\":\"webgl\"}},{\"type\":\"object\",\"name\":\"Spacer\",\"id\":\"adc59033-cbe4-49a2-ba4e-21c5d9dee906\",\"attributes\":{\"name\":\"HSpacer00646\",\"stylesheets\":[\"\\n:host(.pn-loading):before, .pn-loading:before {\\n  background-color: #c3c3c3;\\n  mask-size: auto calc(min(50%, 400px));\\n  -webkit-mask-size: auto calc(min(50%, 400px));\\n}\",{\"id\":\"8648f507-364a-4884-8971-175d72431b8e\"},{\"id\":\"ff7a2569-6bc7-4284-92c7-4e6a5e521157\"},{\"id\":\"8dc00121-a307-400a-baf6-ce4cda4d1a13\"}],\"margin\":0,\"sizing_mode\":\"stretch_width\",\"align\":\"start\"}}]}}],\"defs\":[{\"type\":\"model\",\"name\":\"ReactiveHTML1\"},{\"type\":\"model\",\"name\":\"FlexBox1\",\"properties\":[{\"name\":\"align_content\",\"kind\":\"Any\",\"default\":\"flex-start\"},{\"name\":\"align_items\",\"kind\":\"Any\",\"default\":\"flex-start\"},{\"name\":\"flex_direction\",\"kind\":\"Any\",\"default\":\"row\"},{\"name\":\"flex_wrap\",\"kind\":\"Any\",\"default\":\"wrap\"},{\"name\":\"gap\",\"kind\":\"Any\",\"default\":\"\"},{\"name\":\"justify_content\",\"kind\":\"Any\",\"default\":\"flex-start\"}]},{\"type\":\"model\",\"name\":\"FloatPanel1\",\"properties\":[{\"name\":\"config\",\"kind\":\"Any\",\"default\":{\"type\":\"map\"}},{\"name\":\"contained\",\"kind\":\"Any\",\"default\":true},{\"name\":\"position\",\"kind\":\"Any\",\"default\":\"right-top\"},{\"name\":\"offsetx\",\"kind\":\"Any\",\"default\":null},{\"name\":\"offsety\",\"kind\":\"Any\",\"default\":null},{\"name\":\"theme\",\"kind\":\"Any\",\"default\":\"primary\"},{\"name\":\"status\",\"kind\":\"Any\",\"default\":\"normalized\"}]},{\"type\":\"model\",\"name\":\"GridStack1\",\"properties\":[{\"name\":\"ncols\",\"kind\":\"Any\",\"default\":null},{\"name\":\"nrows\",\"kind\":\"Any\",\"default\":null},{\"name\":\"allow_resize\",\"kind\":\"Any\",\"default\":true},{\"name\":\"allow_drag\",\"kind\":\"Any\",\"default\":true},{\"name\":\"state\",\"kind\":\"Any\",\"default\":[]}]},{\"type\":\"model\",\"name\":\"drag1\",\"properties\":[{\"name\":\"slider_width\",\"kind\":\"Any\",\"default\":5},{\"name\":\"slider_color\",\"kind\":\"Any\",\"default\":\"black\"},{\"name\":\"value\",\"kind\":\"Any\",\"default\":50}]},{\"type\":\"model\",\"name\":\"click1\",\"properties\":[{\"name\":\"terminal_output\",\"kind\":\"Any\",\"default\":\"\"},{\"name\":\"debug_name\",\"kind\":\"Any\",\"default\":\"\"},{\"name\":\"clears\",\"kind\":\"Any\",\"default\":0}]},{\"type\":\"model\",\"name\":\"FastWrapper1\",\"properties\":[{\"name\":\"object\",\"kind\":\"Any\",\"default\":null},{\"name\":\"style\",\"kind\":\"Any\",\"default\":null}]},{\"type\":\"model\",\"name\":\"NotificationArea1\",\"properties\":[{\"name\":\"js_events\",\"kind\":\"Any\",\"default\":{\"type\":\"map\"}},{\"name\":\"max_notifications\",\"kind\":\"Any\",\"default\":5},{\"name\":\"notifications\",\"kind\":\"Any\",\"default\":[]},{\"name\":\"position\",\"kind\":\"Any\",\"default\":\"bottom-right\"},{\"name\":\"_clear\",\"kind\":\"Any\",\"default\":0},{\"name\":\"types\",\"kind\":\"Any\",\"default\":[{\"type\":\"map\",\"entries\":[[\"type\",\"warning\"],[\"background\",\"#ffc107\"],[\"icon\",{\"type\":\"map\",\"entries\":[[\"className\",\"fas fa-exclamation-triangle\"],[\"tagName\",\"i\"],[\"color\",\"white\"]]}]]},{\"type\":\"map\",\"entries\":[[\"type\",\"info\"],[\"background\",\"#007bff\"],[\"icon\",{\"type\":\"map\",\"entries\":[[\"className\",\"fas fa-info-circle\"],[\"tagName\",\"i\"],[\"color\",\"white\"]]}]]}]}]},{\"type\":\"model\",\"name\":\"Notification\",\"properties\":[{\"name\":\"background\",\"kind\":\"Any\",\"default\":null},{\"name\":\"duration\",\"kind\":\"Any\",\"default\":3000},{\"name\":\"icon\",\"kind\":\"Any\",\"default\":null},{\"name\":\"message\",\"kind\":\"Any\",\"default\":\"\"},{\"name\":\"notification_type\",\"kind\":\"Any\",\"default\":null},{\"name\":\"_rendered\",\"kind\":\"Any\",\"default\":false},{\"name\":\"_destroyed\",\"kind\":\"Any\",\"default\":false}]},{\"type\":\"model\",\"name\":\"TemplateActions1\",\"properties\":[{\"name\":\"open_modal\",\"kind\":\"Any\",\"default\":0},{\"name\":\"close_modal\",\"kind\":\"Any\",\"default\":0}]},{\"type\":\"model\",\"name\":\"BootstrapTemplateActions1\",\"properties\":[{\"name\":\"open_modal\",\"kind\":\"Any\",\"default\":0},{\"name\":\"close_modal\",\"kind\":\"Any\",\"default\":0}]},{\"type\":\"model\",\"name\":\"TemplateEditor1\",\"properties\":[{\"name\":\"layout\",\"kind\":\"Any\",\"default\":[]}]},{\"type\":\"model\",\"name\":\"MaterialTemplateActions1\",\"properties\":[{\"name\":\"open_modal\",\"kind\":\"Any\",\"default\":0},{\"name\":\"close_modal\",\"kind\":\"Any\",\"default\":0}]},{\"type\":\"model\",\"name\":\"ReactiveESM1\",\"properties\":[{\"name\":\"esm_constants\",\"kind\":\"Any\",\"default\":{\"type\":\"map\"}}]},{\"type\":\"model\",\"name\":\"JSComponent1\",\"properties\":[{\"name\":\"esm_constants\",\"kind\":\"Any\",\"default\":{\"type\":\"map\"}}]},{\"type\":\"model\",\"name\":\"ReactComponent1\",\"properties\":[{\"name\":\"esm_constants\",\"kind\":\"Any\",\"default\":{\"type\":\"map\"}}]},{\"type\":\"model\",\"name\":\"AnyWidgetComponent1\",\"properties\":[{\"name\":\"esm_constants\",\"kind\":\"Any\",\"default\":{\"type\":\"map\"}}]},{\"type\":\"model\",\"name\":\"request_value1\",\"properties\":[{\"name\":\"fill\",\"kind\":\"Any\",\"default\":\"none\"},{\"name\":\"_synced\",\"kind\":\"Any\",\"default\":null},{\"name\":\"_request_sync\",\"kind\":\"Any\",\"default\":0}]}]}};\n",
       "  var render_items = [{\"docid\":\"e8331ab2-79c1-4389-90c6-6ae1f8bd1283\",\"roots\":{\"0ad2970a-f5b2-4ba9-87cc-853b3ccdfffb\":\"ffc65855-a558-46c0-a126-a78d1eb3872c\"},\"root_ids\":[\"0ad2970a-f5b2-4ba9-87cc-853b3ccdfffb\"]}];\n",
       "  var docs = Object.values(docs_json)\n",
       "  if (!docs) {\n",
       "    return\n",
       "  }\n",
       "  const py_version = docs[0].version.replace('rc', '-rc.').replace('.dev', '-dev.')\n",
       "  async function embed_document(root) {\n",
       "    var Bokeh = get_bokeh(root)\n",
       "    await Bokeh.embed.embed_items_notebook(docs_json, render_items);\n",
       "    for (const render_item of render_items) {\n",
       "      for (const root_id of render_item.root_ids) {\n",
       "\tconst id_el = document.getElementById(root_id)\n",
       "\tif (id_el.children.length && id_el.children[0].hasAttribute('data-root-id')) {\n",
       "\t  const root_el = id_el.children[0]\n",
       "\t  root_el.id = root_el.id + '-rendered'\n",
       "\t  for (const child of root_el.children) {\n",
       "            // Ensure JupyterLab does not capture keyboard shortcuts\n",
       "            // see: https://jupyterlab.readthedocs.io/en/4.1.x/extension/notebook.html#keyboard-interaction-model\n",
       "\t    child.setAttribute('data-lm-suppress-shortcuts', 'true')\n",
       "\t  }\n",
       "\t}\n",
       "      }\n",
       "    }\n",
       "  }\n",
       "  function get_bokeh(root) {\n",
       "    if (root.Bokeh === undefined) {\n",
       "      return null\n",
       "    } else if (root.Bokeh.version !== py_version) {\n",
       "      if (root.Bokeh.versions === undefined || !root.Bokeh.versions.has(py_version)) {\n",
       "\treturn null\n",
       "      }\n",
       "      return root.Bokeh.versions.get(py_version);\n",
       "    } else if (root.Bokeh.version === py_version) {\n",
       "      return root.Bokeh\n",
       "    }\n",
       "    return null\n",
       "  }\n",
       "  function is_loaded(root) {\n",
       "    var Bokeh = get_bokeh(root)\n",
       "    return (Bokeh != null && Bokeh.Panel !== undefined)\n",
       "  }\n",
       "  if (is_loaded(root)) {\n",
       "    embed_document(root);\n",
       "  } else {\n",
       "    var attempts = 0;\n",
       "    var timer = setInterval(function(root) {\n",
       "      if (is_loaded(root)) {\n",
       "        clearInterval(timer);\n",
       "        embed_document(root);\n",
       "      } else if (document.readyState == \"complete\") {\n",
       "        attempts++;\n",
       "        if (attempts > 200) {\n",
       "          clearInterval(timer);\n",
       "\t  var Bokeh = get_bokeh(root)\n",
       "\t  if (Bokeh == null || Bokeh.Panel == null) {\n",
       "            console.warn(\"Panel: ERROR: Unable to run Panel code because Bokeh or Panel library is missing\");\n",
       "\t  } else {\n",
       "\t    console.warn(\"Panel: WARNING: Attempting to render but not all required libraries could be resolved.\")\n",
       "\t    embed_document(root)\n",
       "\t  }\n",
       "        }\n",
       "      }\n",
       "    }, 25, root)\n",
       "  }\n",
       "})(window);</script>"
      ],
      "text/plain": [
       ":Overlay\n",
       "   .Bars.I    :Bars   [post_str_blast]   (percent)\n",
       "   .HLine.I   :HLine   [x,y]\n",
       "   .HLine.II  :HLine   [x,y]\n",
       "   .HLine.III :HLine   [x,y]"
      ]
     },
     "metadata": {
      "application/vnd.holoviews_exec.v0+json": {
       "id": "0ad2970a-f5b2-4ba9-87cc-853b3ccdfffb"
      }
     },
     "output_type": "display_data"
    },
    {
     "name": "stdout",
     "output_type": "stream",
     "text": [
      "df_10_last FOR str_b6 = 39\n",
      "Last 3 results last_results=['37', '39']\n"
     ]
    },
    {
     "data": {
      "text/html": [
       "<div><style>\n",
       ".dataframe > thead > tr,\n",
       ".dataframe > tbody > tr {\n",
       "  text-align: right;\n",
       "  white-space: pre-wrap;\n",
       "}\n",
       "</style>\n",
       "<small>shape: (10, 30)</small><table border=\"1\" class=\"dataframe\"><thead><tr><th>fecha</th><th>sorteo</th><th>bolillas regulares</th><th>bolillas chauchamba</th><th>cc1</th><th>cc2</th><th>id</th><th>combo</th><th>b1</th><th>b2</th><th>b3</th><th>b4</th><th>b5</th><th>b6</th><th>str_b1</th><th>str_b2</th><th>str_b3</th><th>str_b4</th><th>str_b5</th><th>str_b6</th><th>post_str_b1</th><th>post_str_b2</th><th>post_str_b3</th><th>post_str_b4</th><th>post_str_b5</th><th>post_str_blast</th><th>is_rare_combination</th><th>reason</th><th>jumps_map</th><th>unijump</th></tr><tr><td>str</td><td>str</td><td>str</td><td>str</td><td>str</td><td>str</td><td>str</td><td>array[u8, 6]</td><td>u8</td><td>u8</td><td>u8</td><td>u8</td><td>u8</td><td>u8</td><td>str</td><td>str</td><td>str</td><td>str</td><td>str</td><td>str</td><td>str</td><td>str</td><td>str</td><td>str</td><td>str</td><td>str</td><td>bool</td><td>u8</td><td>str</td><td>i64</td></tr></thead><tbody><tr><td>&quot;08/07/2025&quot;</td><td>&quot;1831&quot;</td><td>&quot;39 30 04 09 38 02&quot;</td><td>&quot;10 11 06 28 04 40&quot;</td><td>&quot;&quot;</td><td>&quot;&quot;</td><td>&quot;020409303839&quot;</td><td>[2, 4, … 39]</td><td>2</td><td>4</td><td>9</td><td>30</td><td>38</td><td>39</td><td>&quot;02&quot;</td><td>&quot;04&quot;</td><td>&quot;09&quot;</td><td>&quot;30&quot;</td><td>&quot;38&quot;</td><td>&quot;39&quot;</td><td>&quot;02&quot;</td><td>&quot;04&quot;</td><td>&quot;09&quot;</td><td>&quot;30&quot;</td><td>&quot;38&quot;</td><td>&quot;39&quot;</td><td>true</td><td>16</td><td>&quot;02_05_21_08_01&quot;</td><td>77</td></tr><tr><td>&quot;24/06/2025&quot;</td><td>&quot;1825&quot;</td><td>&quot;16 18 24 26 39 02&quot;</td><td>&quot;32 31 23 18 12 33&quot;</td><td>&quot;&quot;</td><td>&quot;&quot;</td><td>&quot;021618242639&quot;</td><td>[2, 16, … 39]</td><td>2</td><td>16</td><td>18</td><td>24</td><td>26</td><td>39</td><td>&quot;02&quot;</td><td>&quot;16&quot;</td><td>&quot;18&quot;</td><td>&quot;24&quot;</td><td>&quot;26&quot;</td><td>&quot;39&quot;</td><td>&quot;09&quot;</td><td>&quot;21&quot;</td><td>&quot;25&quot;</td><td>&quot;28&quot;</td><td>&quot;35&quot;</td><td>&quot;37&quot;</td><td>false</td><td>0</td><td>&quot;14_02_06_02_13&quot;</td><td>47</td></tr><tr><td>&quot;24/06/2025&quot;</td><td>&quot;1825&quot;</td><td>&quot;16 18 24 26 39 02&quot;</td><td>&quot;32 31 23 18 12 33&quot;</td><td>&quot;&quot;</td><td>&quot;&quot;</td><td>&quot;021618242639&quot;</td><td>[2, 16, … 39]</td><td>2</td><td>16</td><td>18</td><td>24</td><td>26</td><td>39</td><td>&quot;02&quot;</td><td>&quot;16&quot;</td><td>&quot;18&quot;</td><td>&quot;24&quot;</td><td>&quot;26&quot;</td><td>&quot;39&quot;</td><td>&quot;02&quot;</td><td>&quot;16&quot;</td><td>&quot;18&quot;</td><td>&quot;24&quot;</td><td>&quot;26&quot;</td><td>&quot;39&quot;</td><td>false</td><td>0</td><td>&quot;14_02_06_02_13&quot;</td><td>47</td></tr><tr><td>&quot;27/05/2025&quot;</td><td>&quot;1813&quot;</td><td>&quot;19 02 23 39 08 03&quot;</td><td>&quot;03 25 18 39 33 20&quot;</td><td>&quot;&quot;</td><td>&quot;&quot;</td><td>&quot;020308192339&quot;</td><td>[2, 3, … 39]</td><td>2</td><td>3</td><td>8</td><td>19</td><td>23</td><td>39</td><td>&quot;02&quot;</td><td>&quot;03&quot;</td><td>&quot;08&quot;</td><td>&quot;19&quot;</td><td>&quot;23&quot;</td><td>&quot;39&quot;</td><td>&quot;08&quot;</td><td>&quot;11&quot;</td><td>&quot;25&quot;</td><td>&quot;31&quot;</td><td>&quot;36&quot;</td><td>&quot;38&quot;</td><td>true</td><td>1</td><td>&quot;01_05_11_04_16&quot;</td><td>47</td></tr><tr><td>&quot;27/05/2025&quot;</td><td>&quot;1813&quot;</td><td>&quot;19 02 23 39 08 03&quot;</td><td>&quot;03 25 18 39 33 20&quot;</td><td>&quot;&quot;</td><td>&quot;&quot;</td><td>&quot;020308192339&quot;</td><td>[2, 3, … 39]</td><td>2</td><td>3</td><td>8</td><td>19</td><td>23</td><td>39</td><td>&quot;02&quot;</td><td>&quot;03&quot;</td><td>&quot;08&quot;</td><td>&quot;19&quot;</td><td>&quot;23&quot;</td><td>&quot;39&quot;</td><td>&quot;02&quot;</td><td>&quot;03&quot;</td><td>&quot;08&quot;</td><td>&quot;19&quot;</td><td>&quot;23&quot;</td><td>&quot;39&quot;</td><td>true</td><td>1</td><td>&quot;01_05_11_04_16&quot;</td><td>47</td></tr><tr><td>&quot;05/04/2025&quot;</td><td>&quot;1791&quot;</td><td>&quot;22 18 39 13 23 30&quot;</td><td>&quot;19 09 10 17 22 07&quot;</td><td>&quot;&quot;</td><td>&quot;&quot;</td><td>&quot;131822233039&quot;</td><td>[13, 18, … 39]</td><td>13</td><td>18</td><td>22</td><td>23</td><td>30</td><td>39</td><td>&quot;13&quot;</td><td>&quot;18&quot;</td><td>&quot;22&quot;</td><td>&quot;23&quot;</td><td>&quot;30&quot;</td><td>&quot;39&quot;</td><td>&quot;04&quot;</td><td>&quot;17&quot;</td><td>&quot;28&quot;</td><td>&quot;38&quot;</td><td>&quot;39&quot;</td><td>&quot;40&quot;</td><td>false</td><td>0</td><td>&quot;05_04_01_07_09&quot;</td><td>-24</td></tr><tr><td>&quot;05/04/2025&quot;</td><td>&quot;1791&quot;</td><td>&quot;22 18 39 13 23 30&quot;</td><td>&quot;19 09 10 17 22 07&quot;</td><td>&quot;&quot;</td><td>&quot;&quot;</td><td>&quot;131822233039&quot;</td><td>[13, 18, … 39]</td><td>13</td><td>18</td><td>22</td><td>23</td><td>30</td><td>39</td><td>&quot;13&quot;</td><td>&quot;18&quot;</td><td>&quot;22&quot;</td><td>&quot;23&quot;</td><td>&quot;30&quot;</td><td>&quot;39&quot;</td><td>&quot;13&quot;</td><td>&quot;18&quot;</td><td>&quot;22&quot;</td><td>&quot;23&quot;</td><td>&quot;30&quot;</td><td>&quot;39&quot;</td><td>false</td><td>0</td><td>&quot;05_04_01_07_09&quot;</td><td>-24</td></tr><tr><td>&quot;03/04/2025&quot;</td><td>&quot;1790&quot;</td><td>&quot;16 17 32 34 39 13&quot;</td><td>&quot;26 31 36 34 28 08&quot;</td><td>&quot;&quot;</td><td>&quot;&quot;</td><td>&quot;131617323439&quot;</td><td>[13, 16, … 39]</td><td>13</td><td>16</td><td>17</td><td>32</td><td>34</td><td>39</td><td>&quot;13&quot;</td><td>&quot;16&quot;</td><td>&quot;17&quot;</td><td>&quot;32&quot;</td><td>&quot;34&quot;</td><td>&quot;39&quot;</td><td>&quot;13&quot;</td><td>&quot;18&quot;</td><td>&quot;22&quot;</td><td>&quot;23&quot;</td><td>&quot;30&quot;</td><td>&quot;39&quot;</td><td>false</td><td>0</td><td>&quot;03_01_15_02_05&quot;</td><td>86</td></tr><tr><td>&quot;03/04/2025&quot;</td><td>&quot;1790&quot;</td><td>&quot;16 17 32 34 39 13&quot;</td><td>&quot;26 31 36 34 28 08&quot;</td><td>&quot;&quot;</td><td>&quot;&quot;</td><td>&quot;131617323439&quot;</td><td>[13, 16, … 39]</td><td>13</td><td>16</td><td>17</td><td>32</td><td>34</td><td>39</td><td>&quot;13&quot;</td><td>&quot;16&quot;</td><td>&quot;17&quot;</td><td>&quot;32&quot;</td><td>&quot;34&quot;</td><td>&quot;39&quot;</td><td>&quot;13&quot;</td><td>&quot;16&quot;</td><td>&quot;17&quot;</td><td>&quot;32&quot;</td><td>&quot;34&quot;</td><td>&quot;39&quot;</td><td>false</td><td>0</td><td>&quot;03_01_15_02_05&quot;</td><td>86</td></tr><tr><td>&quot;18/03/2025&quot;</td><td>&quot;1783&quot;</td><td>&quot;39 16 22 21 30 12&quot;</td><td>&quot;33 39 24 05 20 40&quot;</td><td>&quot;&quot;</td><td>&quot;&quot;</td><td>&quot;121621223039&quot;</td><td>[12, 16, … 39]</td><td>12</td><td>16</td><td>21</td><td>22</td><td>30</td><td>39</td><td>&quot;12&quot;</td><td>&quot;16&quot;</td><td>&quot;21&quot;</td><td>&quot;22&quot;</td><td>&quot;30&quot;</td><td>&quot;39&quot;</td><td>&quot;03&quot;</td><td>&quot;07&quot;</td><td>&quot;11&quot;</td><td>&quot;13&quot;</td><td>&quot;15&quot;</td><td>&quot;35&quot;</td><td>false</td><td>0</td><td>&quot;04_05_01_08_09&quot;</td><td>-33</td></tr></tbody></table></div>"
      ],
      "text/plain": [
       "shape: (10, 30)\n",
       "┌────────────┬────────┬─────────────┬─────────────┬───┬────────────┬────────┬────────────┬─────────┐\n",
       "│ fecha      ┆ sorteo ┆ bolillas    ┆ bolillas    ┆ … ┆ is_rare_co ┆ reason ┆ jumps_map  ┆ unijump │\n",
       "│ ---        ┆ ---    ┆ regulares   ┆ chauchamba  ┆   ┆ mbination  ┆ ---    ┆ ---        ┆ ---     │\n",
       "│ str        ┆ str    ┆ ---         ┆ ---         ┆   ┆ ---        ┆ u8     ┆ str        ┆ i64     │\n",
       "│            ┆        ┆ str         ┆ str         ┆   ┆ bool       ┆        ┆            ┆         │\n",
       "╞════════════╪════════╪═════════════╪═════════════╪═══╪════════════╪════════╪════════════╪═════════╡\n",
       "│ 08/07/2025 ┆ 1831   ┆ 39 30 04 09 ┆ 10 11 06 28 ┆ … ┆ true       ┆ 16     ┆ 02_05_21_0 ┆ 77      │\n",
       "│            ┆        ┆ 38 02       ┆ 04 40       ┆   ┆            ┆        ┆ 8_01       ┆         │\n",
       "│ 24/06/2025 ┆ 1825   ┆ 16 18 24 26 ┆ 32 31 23 18 ┆ … ┆ false      ┆ 0      ┆ 14_02_06_0 ┆ 47      │\n",
       "│            ┆        ┆ 39 02       ┆ 12 33       ┆   ┆            ┆        ┆ 2_13       ┆         │\n",
       "│ 24/06/2025 ┆ 1825   ┆ 16 18 24 26 ┆ 32 31 23 18 ┆ … ┆ false      ┆ 0      ┆ 14_02_06_0 ┆ 47      │\n",
       "│            ┆        ┆ 39 02       ┆ 12 33       ┆   ┆            ┆        ┆ 2_13       ┆         │\n",
       "│ 27/05/2025 ┆ 1813   ┆ 19 02 23 39 ┆ 03 25 18 39 ┆ … ┆ true       ┆ 1      ┆ 01_05_11_0 ┆ 47      │\n",
       "│            ┆        ┆ 08 03       ┆ 33 20       ┆   ┆            ┆        ┆ 4_16       ┆         │\n",
       "│ 27/05/2025 ┆ 1813   ┆ 19 02 23 39 ┆ 03 25 18 39 ┆ … ┆ true       ┆ 1      ┆ 01_05_11_0 ┆ 47      │\n",
       "│            ┆        ┆ 08 03       ┆ 33 20       ┆   ┆            ┆        ┆ 4_16       ┆         │\n",
       "│ 05/04/2025 ┆ 1791   ┆ 22 18 39 13 ┆ 19 09 10 17 ┆ … ┆ false      ┆ 0      ┆ 05_04_01_0 ┆ -24     │\n",
       "│            ┆        ┆ 23 30       ┆ 22 07       ┆   ┆            ┆        ┆ 7_09       ┆         │\n",
       "│ 05/04/2025 ┆ 1791   ┆ 22 18 39 13 ┆ 19 09 10 17 ┆ … ┆ false      ┆ 0      ┆ 05_04_01_0 ┆ -24     │\n",
       "│            ┆        ┆ 23 30       ┆ 22 07       ┆   ┆            ┆        ┆ 7_09       ┆         │\n",
       "│ 03/04/2025 ┆ 1790   ┆ 16 17 32 34 ┆ 26 31 36 34 ┆ … ┆ false      ┆ 0      ┆ 03_01_15_0 ┆ 86      │\n",
       "│            ┆        ┆ 39 13       ┆ 28 08       ┆   ┆            ┆        ┆ 2_05       ┆         │\n",
       "│ 03/04/2025 ┆ 1790   ┆ 16 17 32 34 ┆ 26 31 36 34 ┆ … ┆ false      ┆ 0      ┆ 03_01_15_0 ┆ 86      │\n",
       "│            ┆        ┆ 39 13       ┆ 28 08       ┆   ┆            ┆        ┆ 2_05       ┆         │\n",
       "│ 18/03/2025 ┆ 1783   ┆ 39 16 22 21 ┆ 33 39 24 05 ┆ … ┆ false      ┆ 0      ┆ 04_05_01_0 ┆ -33     │\n",
       "│            ┆        ┆ 30 12       ┆ 20 40       ┆   ┆            ┆        ┆ 8_09       ┆         │\n",
       "└────────────┴────────┴─────────────┴─────────────┴───┴────────────┴────────┴────────────┴─────────┘"
      ]
     },
     "metadata": {},
     "output_type": "display_data"
    },
    {
     "name": "stdout",
     "output_type": "stream",
     "text": [
      "df_jumps_map FOR str_b6 = 39\n"
     ]
    },
    {
     "data": {
      "text/html": [
       "<div><style>\n",
       ".dataframe > thead > tr,\n",
       ".dataframe > tbody > tr {\n",
       "  text-align: right;\n",
       "  white-space: pre-wrap;\n",
       "}\n",
       "</style>\n",
       "<small>shape: (475, 2)</small><table border=\"1\" class=\"dataframe\"><thead><tr><th>jumps_map</th><th>count</th></tr><tr><td>str</td><td>u32</td></tr></thead><tbody><tr><td>&quot;05_18_02_04_09&quot;</td><td>2</td></tr><tr><td>&quot;09_11_01_13_02&quot;</td><td>2</td></tr><tr><td>&quot;03_15_04_10_04&quot;</td><td>2</td></tr><tr><td>&quot;01_04_14_01_01&quot;</td><td>2</td></tr><tr><td>&quot;10_03_01_15_06&quot;</td><td>2</td></tr><tr><td>&hellip;</td><td>&hellip;</td></tr><tr><td>&quot;18_02_06_04_06&quot;</td><td>1</td></tr><tr><td>&quot;08_18_04_01_02&quot;</td><td>1</td></tr><tr><td>&quot;08_04_01_01_15&quot;</td><td>1</td></tr><tr><td>&quot;12_01_05_06_01&quot;</td><td>1</td></tr><tr><td>&quot;02_11_18_05_02&quot;</td><td>1</td></tr></tbody></table></div>"
      ],
      "text/plain": [
       "shape: (475, 2)\n",
       "┌────────────────┬───────┐\n",
       "│ jumps_map      ┆ count │\n",
       "│ ---            ┆ ---   │\n",
       "│ str            ┆ u32   │\n",
       "╞════════════════╪═══════╡\n",
       "│ 05_18_02_04_09 ┆ 2     │\n",
       "│ 09_11_01_13_02 ┆ 2     │\n",
       "│ 03_15_04_10_04 ┆ 2     │\n",
       "│ 01_04_14_01_01 ┆ 2     │\n",
       "│ 10_03_01_15_06 ┆ 2     │\n",
       "│ …              ┆ …     │\n",
       "│ 18_02_06_04_06 ┆ 1     │\n",
       "│ 08_18_04_01_02 ┆ 1     │\n",
       "│ 08_04_01_01_15 ┆ 1     │\n",
       "│ 12_01_05_06_01 ┆ 1     │\n",
       "│ 02_11_18_05_02 ┆ 1     │\n",
       "└────────────────┴───────┘"
      ]
     },
     "metadata": {},
     "output_type": "display_data"
    },
    {
     "name": "stdout",
     "output_type": "stream",
     "text": [
      "df_unijump FOR str_b6 = 39\n"
     ]
    },
    {
     "data": {
      "text/html": [
       "<div><style>\n",
       ".dataframe > thead > tr,\n",
       ".dataframe > tbody > tr {\n",
       "  text-align: right;\n",
       "  white-space: pre-wrap;\n",
       "}\n",
       "</style>\n",
       "<small>shape: (170, 2)</small><table border=\"1\" class=\"dataframe\"><thead><tr><th>unijump</th><th>count</th></tr><tr><td>i64</td><td>u32</td></tr></thead><tbody><tr><td>-22</td><td>16</td></tr><tr><td>47</td><td>11</td></tr><tr><td>16</td><td>11</td></tr><tr><td>-15</td><td>11</td></tr><tr><td>31</td><td>10</td></tr><tr><td>&hellip;</td><td>&hellip;</td></tr><tr><td>-80</td><td>1</td></tr><tr><td>-112</td><td>1</td></tr><tr><td>101</td><td>1</td></tr><tr><td>-89</td><td>1</td></tr><tr><td>-67</td><td>1</td></tr></tbody></table></div>"
      ],
      "text/plain": [
       "shape: (170, 2)\n",
       "┌─────────┬───────┐\n",
       "│ unijump ┆ count │\n",
       "│ ---     ┆ ---   │\n",
       "│ i64     ┆ u32   │\n",
       "╞═════════╪═══════╡\n",
       "│ -22     ┆ 16    │\n",
       "│ 47      ┆ 11    │\n",
       "│ 16      ┆ 11    │\n",
       "│ -15     ┆ 11    │\n",
       "│ 31      ┆ 10    │\n",
       "│ …       ┆ …     │\n",
       "│ -80     ┆ 1     │\n",
       "│ -112    ┆ 1     │\n",
       "│ 101     ┆ 1     │\n",
       "│ -89     ┆ 1     │\n",
       "│ -67     ┆ 1     │\n",
       "└─────────┴───────┘"
      ]
     },
     "metadata": {},
     "output_type": "display_data"
    }
   ],
   "source": [
    "possible_blast, exclude_jump_maps_blast, last_post_blast = plot_post_col(col='str_b6', post_col='post_str_blast')"
   ]
  },
  {
   "cell_type": "code",
   "execution_count": 13,
   "metadata": {},
   "outputs": [],
   "source": [
    "b_count = rr.CHOOSE\n",
    "min_b = rr.MIN_B_VALUES[0]\n",
    "max_b = rr.MAX_B_VALUES[-1]\n",
    "\n",
    "\n",
    "combos = combinations(range(min_b, max_b + 1), b_count)\n",
    "# print(\"generating combos: \", len(list(combos)))"
   ]
  },
  {
   "cell_type": "code",
   "execution_count": 14,
   "metadata": {},
   "outputs": [],
   "source": [
    "parquet_file = './parquet_kbl_v3.parquet'\n",
    "\n",
    "# check if parquet_file exists\n",
    "if not os.path.exists(parquet_file):\n",
    "  print(f'{parquet_file=} does not exists. creating')\n",
    "  lst = []\n",
    "\n",
    "  for row in combos:\n",
    "    cols = []\n",
    "    str_row = \" \".join([str(r).zfill(2) for r in row])\n",
    "    id, bolillas_int, str_combo = formalize_data_with_str(bolillas_str=str_row)\n",
    "    cols.append(id)\n",
    "    cols.append(bolillas_int)\n",
    "    cols.extend([b for b in bolillas_int])\n",
    "    cols.extend(str_combo)\n",
    "\n",
    "    is_rare, reason = rr.is_rare_combination(bolillas_int, id)\n",
    "    cols.append(is_rare)\n",
    "    cols.append(reason)\n",
    "\n",
    "    cols.append(rr.jumps_map(bolillas_int))\n",
    "    cols.append(rr.unijump(bolillas_int))\n",
    "    \n",
    "    lst.append(cols)\n",
    "\n",
    "\n",
    "  with open('./gn_cahe_v3.json', 'w') as file: \n",
    "    json.dump(lst, file)\n",
    "\n",
    "  \n",
    "  # dfRows = pl.DataFrame(\n",
    "  #   lst,\n",
    "  #   schema=[\n",
    "  #     'fecha', 'sorteo', 'bolillas regulares', 'bolillas chauchamba', 'cc1', 'cc2',\n",
    "  #     'id', 'combo', 'b1', 'b2', 'b3', 'b4', 'b5', 'b6',\n",
    "  #     'str_b1', 'str_b2', 'str_b3', 'str_b4', 'str_b5', 'str_b6',\n",
    "  #     'post_str_b1', 'post_str_b2', 'post_str_b3', 'post_str_b4', 'post_str_b5', 'post_str_blast',\n",
    "  #     'is_rare_combination', 'reason',\n",
    "  #     \"jumps_map\", \"unijump\"\n",
    "  #   ],\n",
    "  #   schema_overrides={\n",
    "  #     'combo': pl.Array(pl.UInt8, 6),\n",
    "  #     'b1': pl.UInt8,\n",
    "  #     'b2': pl.UInt8,\n",
    "  #     'b3': pl.UInt8,\n",
    "  #     'b4': pl.UInt8,\n",
    "  #     'b5': pl.UInt8,\n",
    "  #     'b6': pl.UInt8,\n",
    "  #     'reason': pl.UInt8\n",
    "  #   },\n",
    "  #   orient='row'\n",
    "  # )\n",
    "\n",
    "  df_Orows = pl.DataFrame(\n",
    "    lst,\n",
    "    schema=[\n",
    "      # 'fecha', 'sorteo', 'bolillas',\n",
    "      'id', 'combo', 'b1', 'b2', 'b3', 'b4', 'b5', 'b6',\n",
    "      'str_b1', 'str_b2', 'str_b3', 'str_b4', 'str_b5', 'str_b6',\n",
    "      'is_rare_combination', 'reason',\n",
    "      \"jumps_map\", \"unijump\"\n",
    "    ],\n",
    "    schema_overrides={\n",
    "      'combo': pl.Array(pl.UInt8, 6),\n",
    "      'b1': pl.UInt8,\n",
    "      'b2': pl.UInt8,\n",
    "      'b3': pl.UInt8,\n",
    "      'b4': pl.UInt8,\n",
    "      'b5': pl.UInt8,\n",
    "      'b6': pl.UInt8,\n",
    "      'reason': pl.UInt8\n",
    "    },\n",
    "    orient='row'\n",
    "  )\n",
    "\n",
    "  df_Orows.write_parquet(parquet_file)\n",
    "  TOTAL_LINES = len(df_Orows)\n",
    "  print(f'{TOTAL_LINES=} loaded to {parquet_file=}')\n",
    "\n",
    "  display(df_Orows.head(10))\n",
    "else:\n",
    "  df_Orows = pl.read_parquet(parquet_file)"
   ]
  },
  {
   "cell_type": "code",
   "execution_count": 15,
   "metadata": {},
   "outputs": [
    {
     "data": {
      "text/html": [
       "<div><style>\n",
       ".dataframe > thead > tr,\n",
       ".dataframe > tbody > tr {\n",
       "  text-align: right;\n",
       "  white-space: pre-wrap;\n",
       "}\n",
       "</style>\n",
       "<small>shape: (5_368, 18)</small><table border=\"1\" class=\"dataframe\"><thead><tr><th>id</th><th>combo</th><th>b1</th><th>b2</th><th>b3</th><th>b4</th><th>b5</th><th>b6</th><th>str_b1</th><th>str_b2</th><th>str_b3</th><th>str_b4</th><th>str_b5</th><th>str_b6</th><th>is_rare_combination</th><th>reason</th><th>jumps_map</th><th>unijump</th></tr><tr><td>str</td><td>array[u8, 6]</td><td>u8</td><td>u8</td><td>u8</td><td>u8</td><td>u8</td><td>u8</td><td>str</td><td>str</td><td>str</td><td>str</td><td>str</td><td>str</td><td>bool</td><td>u8</td><td>str</td><td>i64</td></tr></thead><tbody><tr><td>&quot;010513232433&quot;</td><td>[1, 5, … 33]</td><td>1</td><td>5</td><td>13</td><td>23</td><td>24</td><td>33</td><td>&quot;01&quot;</td><td>&quot;05&quot;</td><td>&quot;13&quot;</td><td>&quot;23&quot;</td><td>&quot;24&quot;</td><td>&quot;33&quot;</td><td>false</td><td>0</td><td>&quot;04_08_10_01_09&quot;</td><td>37</td></tr><tr><td>&quot;010513232434&quot;</td><td>[1, 5, … 34]</td><td>1</td><td>5</td><td>13</td><td>23</td><td>24</td><td>34</td><td>&quot;01&quot;</td><td>&quot;05&quot;</td><td>&quot;13&quot;</td><td>&quot;23&quot;</td><td>&quot;24&quot;</td><td>&quot;34&quot;</td><td>false</td><td>0</td><td>&quot;04_08_10_01_10&quot;</td><td>38</td></tr><tr><td>&quot;010513232435&quot;</td><td>[1, 5, … 35]</td><td>1</td><td>5</td><td>13</td><td>23</td><td>24</td><td>35</td><td>&quot;01&quot;</td><td>&quot;05&quot;</td><td>&quot;13&quot;</td><td>&quot;23&quot;</td><td>&quot;24&quot;</td><td>&quot;35&quot;</td><td>false</td><td>0</td><td>&quot;04_08_10_01_11&quot;</td><td>39</td></tr><tr><td>&quot;010513232436&quot;</td><td>[1, 5, … 36]</td><td>1</td><td>5</td><td>13</td><td>23</td><td>24</td><td>36</td><td>&quot;01&quot;</td><td>&quot;05&quot;</td><td>&quot;13&quot;</td><td>&quot;23&quot;</td><td>&quot;24&quot;</td><td>&quot;36&quot;</td><td>false</td><td>0</td><td>&quot;04_08_10_01_12&quot;</td><td>40</td></tr><tr><td>&quot;010513232438&quot;</td><td>[1, 5, … 38]</td><td>1</td><td>5</td><td>13</td><td>23</td><td>24</td><td>38</td><td>&quot;01&quot;</td><td>&quot;05&quot;</td><td>&quot;13&quot;</td><td>&quot;23&quot;</td><td>&quot;24&quot;</td><td>&quot;38&quot;</td><td>false</td><td>0</td><td>&quot;04_08_10_01_14&quot;</td><td>42</td></tr><tr><td>&hellip;</td><td>&hellip;</td><td>&hellip;</td><td>&hellip;</td><td>&hellip;</td><td>&hellip;</td><td>&hellip;</td><td>&hellip;</td><td>&hellip;</td><td>&hellip;</td><td>&hellip;</td><td>&hellip;</td><td>&hellip;</td><td>&hellip;</td><td>&hellip;</td><td>&hellip;</td><td>&hellip;</td><td>&hellip;</td></tr><tr><td>&quot;041121283435&quot;</td><td>[4, 11, … 35]</td><td>4</td><td>11</td><td>21</td><td>28</td><td>34</td><td>35</td><td>&quot;04&quot;</td><td>&quot;11&quot;</td><td>&quot;21&quot;</td><td>&quot;28&quot;</td><td>&quot;34&quot;</td><td>&quot;35&quot;</td><td>false</td><td>0</td><td>&quot;07_10_07_06_01&quot;</td><td>-14</td></tr><tr><td>&quot;041121283436&quot;</td><td>[4, 11, … 36]</td><td>4</td><td>11</td><td>21</td><td>28</td><td>34</td><td>36</td><td>&quot;04&quot;</td><td>&quot;11&quot;</td><td>&quot;21&quot;</td><td>&quot;28&quot;</td><td>&quot;34&quot;</td><td>&quot;36&quot;</td><td>false</td><td>0</td><td>&quot;07_10_07_06_02&quot;</td><td>-13</td></tr><tr><td>&quot;041121283438&quot;</td><td>[4, 11, … 38]</td><td>4</td><td>11</td><td>21</td><td>28</td><td>34</td><td>38</td><td>&quot;04&quot;</td><td>&quot;11&quot;</td><td>&quot;21&quot;</td><td>&quot;28&quot;</td><td>&quot;34&quot;</td><td>&quot;38&quot;</td><td>false</td><td>0</td><td>&quot;07_10_07_06_04&quot;</td><td>-11</td></tr><tr><td>&quot;041121283638&quot;</td><td>[4, 11, … 38]</td><td>4</td><td>11</td><td>21</td><td>28</td><td>36</td><td>38</td><td>&quot;04&quot;</td><td>&quot;11&quot;</td><td>&quot;21&quot;</td><td>&quot;28&quot;</td><td>&quot;36&quot;</td><td>&quot;38&quot;</td><td>false</td><td>0</td><td>&quot;07_10_07_08_02&quot;</td><td>-21</td></tr><tr><td>&quot;041121283640&quot;</td><td>[4, 11, … 40]</td><td>4</td><td>11</td><td>21</td><td>28</td><td>36</td><td>40</td><td>&quot;04&quot;</td><td>&quot;11&quot;</td><td>&quot;21&quot;</td><td>&quot;28&quot;</td><td>&quot;36&quot;</td><td>&quot;40&quot;</td><td>false</td><td>0</td><td>&quot;07_10_07_08_04&quot;</td><td>-19</td></tr></tbody></table></div>"
      ],
      "text/plain": [
       "shape: (5_368, 18)\n",
       "┌──────────────┬───────────────┬─────┬─────┬───┬────────────────┬────────┬───────────────┬─────────┐\n",
       "│ id           ┆ combo         ┆ b1  ┆ b2  ┆ … ┆ is_rare_combin ┆ reason ┆ jumps_map     ┆ unijump │\n",
       "│ ---          ┆ ---           ┆ --- ┆ --- ┆   ┆ ation          ┆ ---    ┆ ---           ┆ ---     │\n",
       "│ str          ┆ array[u8, 6]  ┆ u8  ┆ u8  ┆   ┆ ---            ┆ u8     ┆ str           ┆ i64     │\n",
       "│              ┆               ┆     ┆     ┆   ┆ bool           ┆        ┆               ┆         │\n",
       "╞══════════════╪═══════════════╪═════╪═════╪═══╪════════════════╪════════╪═══════════════╪═════════╡\n",
       "│ 010513232433 ┆ [1, 5, … 33]  ┆ 1   ┆ 5   ┆ … ┆ false          ┆ 0      ┆ 04_08_10_01_0 ┆ 37      │\n",
       "│              ┆               ┆     ┆     ┆   ┆                ┆        ┆ 9             ┆         │\n",
       "│ 010513232434 ┆ [1, 5, … 34]  ┆ 1   ┆ 5   ┆ … ┆ false          ┆ 0      ┆ 04_08_10_01_1 ┆ 38      │\n",
       "│              ┆               ┆     ┆     ┆   ┆                ┆        ┆ 0             ┆         │\n",
       "│ 010513232435 ┆ [1, 5, … 35]  ┆ 1   ┆ 5   ┆ … ┆ false          ┆ 0      ┆ 04_08_10_01_1 ┆ 39      │\n",
       "│              ┆               ┆     ┆     ┆   ┆                ┆        ┆ 1             ┆         │\n",
       "│ 010513232436 ┆ [1, 5, … 36]  ┆ 1   ┆ 5   ┆ … ┆ false          ┆ 0      ┆ 04_08_10_01_1 ┆ 40      │\n",
       "│              ┆               ┆     ┆     ┆   ┆                ┆        ┆ 2             ┆         │\n",
       "│ 010513232438 ┆ [1, 5, … 38]  ┆ 1   ┆ 5   ┆ … ┆ false          ┆ 0      ┆ 04_08_10_01_1 ┆ 42      │\n",
       "│              ┆               ┆     ┆     ┆   ┆                ┆        ┆ 4             ┆         │\n",
       "│ …            ┆ …             ┆ …   ┆ …   ┆ … ┆ …              ┆ …      ┆ …             ┆ …       │\n",
       "│ 041121283435 ┆ [4, 11, … 35] ┆ 4   ┆ 11  ┆ … ┆ false          ┆ 0      ┆ 07_10_07_06_0 ┆ -14     │\n",
       "│              ┆               ┆     ┆     ┆   ┆                ┆        ┆ 1             ┆         │\n",
       "│ 041121283436 ┆ [4, 11, … 36] ┆ 4   ┆ 11  ┆ … ┆ false          ┆ 0      ┆ 07_10_07_06_0 ┆ -13     │\n",
       "│              ┆               ┆     ┆     ┆   ┆                ┆        ┆ 2             ┆         │\n",
       "│ 041121283438 ┆ [4, 11, … 38] ┆ 4   ┆ 11  ┆ … ┆ false          ┆ 0      ┆ 07_10_07_06_0 ┆ -11     │\n",
       "│              ┆               ┆     ┆     ┆   ┆                ┆        ┆ 4             ┆         │\n",
       "│ 041121283638 ┆ [4, 11, … 38] ┆ 4   ┆ 11  ┆ … ┆ false          ┆ 0      ┆ 07_10_07_08_0 ┆ -21     │\n",
       "│              ┆               ┆     ┆     ┆   ┆                ┆        ┆ 2             ┆         │\n",
       "│ 041121283640 ┆ [4, 11, … 40] ┆ 4   ┆ 11  ┆ … ┆ false          ┆ 0      ┆ 07_10_07_08_0 ┆ -19     │\n",
       "│              ┆               ┆     ┆     ┆   ┆                ┆        ┆ 4             ┆         │\n",
       "└──────────────┴───────────────┴─────┴─────┴───┴────────────────┴────────┴───────────────┴─────────┘"
      ]
     },
     "metadata": {},
     "output_type": "display_data"
    }
   ],
   "source": [
    "# possible_b1, exclude_jump_maps_b1\n",
    "df_possible = df_Orows.filter(\n",
    "  pl.col(\"str_b1\").is_in(possible_b1),\n",
    "  pl.col(\"str_b2\").is_in(possible_b2),\n",
    "  pl.col(\"str_b3\").is_in(possible_b3),\n",
    "  pl.col(\"str_b4\").is_in(possible_b4),\n",
    "  pl.col(\"str_b5\").is_in(possible_b5),\n",
    "  pl.col(\"str_b6\").is_in(possible_blast),\n",
    "  \n",
    "  ~pl.col(\"str_b1\").is_in(last_post_b1),\n",
    "  ~pl.col(\"str_b2\").is_in(last_post_b2),\n",
    "  ~pl.col(\"str_b3\").is_in(last_post_b3),\n",
    "  ~pl.col(\"str_b4\").is_in(last_post_b4),\n",
    "  ~pl.col(\"str_b5\").is_in(last_post_b5),\n",
    "  ~pl.col(\"str_b6\").is_in(last_post_blast),\n",
    "\n",
    "  ~pl.col(\"jumps_map\").is_in(exclude_jump_maps_b1 + exclude_jump_maps_b2 + exclude_jump_maps_b3 + exclude_jump_maps_b4 + exclude_jump_maps_b5 + exclude_jump_maps_blast),\n",
    "  pl.col(\"is_rare_combination\") == False\n",
    ")\n",
    "\n",
    "\n",
    "display(df_possible)"
   ]
  },
  {
   "cell_type": "code",
   "execution_count": 16,
   "metadata": {},
   "outputs": [
    {
     "data": {
      "text/html": [
       "<div><style>\n",
       ".dataframe > thead > tr,\n",
       ".dataframe > tbody > tr {\n",
       "  text-align: right;\n",
       "  white-space: pre-wrap;\n",
       "}\n",
       "</style>\n",
       "<small>shape: (1, 18)</small><table border=\"1\" class=\"dataframe\"><thead><tr><th>id</th><th>combo</th><th>b1</th><th>b2</th><th>b3</th><th>b4</th><th>b5</th><th>b6</th><th>str_b1</th><th>str_b2</th><th>str_b3</th><th>str_b4</th><th>str_b5</th><th>str_b6</th><th>is_rare_combination</th><th>reason</th><th>jumps_map</th><th>unijump</th></tr><tr><td>str</td><td>array[u8, 6]</td><td>u8</td><td>u8</td><td>u8</td><td>u8</td><td>u8</td><td>u8</td><td>str</td><td>str</td><td>str</td><td>str</td><td>str</td><td>str</td><td>bool</td><td>u8</td><td>str</td><td>i64</td></tr></thead><tbody><tr><td>&quot;030521283034&quot;</td><td>[3, 5, … 34]</td><td>3</td><td>5</td><td>21</td><td>28</td><td>30</td><td>34</td><td>&quot;03&quot;</td><td>&quot;05&quot;</td><td>&quot;21&quot;</td><td>&quot;28&quot;</td><td>&quot;30&quot;</td><td>&quot;34&quot;</td><td>false</td><td>0</td><td>&quot;02_16_07_02_04&quot;</td><td>-24</td></tr></tbody></table></div>"
      ],
      "text/plain": [
       "shape: (1, 18)\n",
       "┌──────────────┬──────────────┬─────┬─────┬───┬────────────────┬────────┬────────────────┬─────────┐\n",
       "│ id           ┆ combo        ┆ b1  ┆ b2  ┆ … ┆ is_rare_combin ┆ reason ┆ jumps_map      ┆ unijump │\n",
       "│ ---          ┆ ---          ┆ --- ┆ --- ┆   ┆ ation          ┆ ---    ┆ ---            ┆ ---     │\n",
       "│ str          ┆ array[u8, 6] ┆ u8  ┆ u8  ┆   ┆ ---            ┆ u8     ┆ str            ┆ i64     │\n",
       "│              ┆              ┆     ┆     ┆   ┆ bool           ┆        ┆                ┆         │\n",
       "╞══════════════╪══════════════╪═════╪═════╪═══╪════════════════╪════════╪════════════════╪═════════╡\n",
       "│ 030521283034 ┆ [3, 5, … 34] ┆ 3   ┆ 5   ┆ … ┆ false          ┆ 0      ┆ 02_16_07_02_04 ┆ -24     │\n",
       "└──────────────┴──────────────┴─────┴─────┴───┴────────────────┴────────┴────────────────┴─────────┘"
      ]
     },
     "execution_count": 16,
     "metadata": {},
     "output_type": "execute_result"
    }
   ],
   "source": [
    "df_possible.sample(n=1)"
   ]
  }
 ],
 "metadata": {
  "kernelspec": {
   "display_name": ".venv",
   "language": "python",
   "name": "python3"
  },
  "language_info": {
   "codemirror_mode": {
    "name": "ipython",
    "version": 3
   },
   "file_extension": ".py",
   "mimetype": "text/x-python",
   "name": "python",
   "nbconvert_exporter": "python",
   "pygments_lexer": "ipython3",
   "version": "3.12.9"
  }
 },
 "nbformat": 4,
 "nbformat_minor": 2
}

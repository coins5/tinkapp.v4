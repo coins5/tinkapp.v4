{
 "cells": [
  {
   "cell_type": "code",
   "execution_count": 1,
   "metadata": {},
   "outputs": [
    {
     "data": {
      "text/html": [
       "<script type=\"esms-options\">{\"shimMode\": true}</script><style>*[data-root-id],\n",
       "*[data-root-id] > * {\n",
       "  box-sizing: border-box;\n",
       "  font-family: var(--jp-ui-font-family);\n",
       "  font-size: var(--jp-ui-font-size1);\n",
       "  color: var(--vscode-editor-foreground, var(--jp-ui-font-color1));\n",
       "}\n",
       "\n",
       "/* Override VSCode background color */\n",
       ".cell-output-ipywidget-background:has(\n",
       "    > .cell-output-ipywidget-background > .lm-Widget > *[data-root-id]\n",
       "  ),\n",
       ".cell-output-ipywidget-background:has(> .lm-Widget > *[data-root-id]) {\n",
       "  background-color: transparent !important;\n",
       "}\n",
       "</style>"
      ]
     },
     "metadata": {},
     "output_type": "display_data"
    },
    {
     "data": {
      "application/javascript": "(function(root) {\n  function now() {\n    return new Date();\n  }\n\n  const force = true;\n  const py_version = '3.7.2'.replace('rc', '-rc.').replace('.dev', '-dev.');\n  const reloading = false;\n  const Bokeh = root.Bokeh;\n\n  // Set a timeout for this load but only if we are not already initializing\n  if (typeof (root._bokeh_timeout) === \"undefined\" || (force || !root._bokeh_is_initializing)) {\n    root._bokeh_timeout = Date.now() + 5000;\n    root._bokeh_failed_load = false;\n  }\n\n  function run_callbacks() {\n    try {\n      root._bokeh_onload_callbacks.forEach(function(callback) {\n        if (callback != null)\n          callback();\n      });\n    } finally {\n      delete root._bokeh_onload_callbacks;\n    }\n    console.debug(\"Bokeh: all callbacks have finished\");\n  }\n\n  function load_libs(css_urls, js_urls, js_modules, js_exports, callback) {\n    if (css_urls == null) css_urls = [];\n    if (js_urls == null) js_urls = [];\n    if (js_modules == null) js_modules = [];\n    if (js_exports == null) js_exports = {};\n\n    root._bokeh_onload_callbacks.push(callback);\n\n    if (root._bokeh_is_loading > 0) {\n      // Don't load bokeh if it is still initializing\n      console.debug(\"Bokeh: BokehJS is being loaded, scheduling callback at\", now());\n      return null;\n    } else if (js_urls.length === 0 && js_modules.length === 0 && Object.keys(js_exports).length === 0) {\n      // There is nothing to load\n      run_callbacks();\n      return null;\n    }\n\n    function on_load() {\n      root._bokeh_is_loading--;\n      if (root._bokeh_is_loading === 0) {\n        console.debug(\"Bokeh: all BokehJS libraries/stylesheets loaded\");\n        run_callbacks()\n      }\n    }\n    window._bokeh_on_load = on_load\n\n    function on_error(e) {\n      const src_el = e.srcElement\n      console.error(\"failed to load \" + (src_el.href || src_el.src));\n    }\n\n    const skip = [];\n    if (window.requirejs) {\n      window.requirejs.config({'packages': {}, 'paths': {}, 'shim': {}});\n      root._bokeh_is_loading = css_urls.length + 0;\n    } else {\n      root._bokeh_is_loading = css_urls.length + js_urls.length + js_modules.length + Object.keys(js_exports).length;\n    }\n\n    const existing_stylesheets = []\n    const links = document.getElementsByTagName('link')\n    for (let i = 0; i < links.length; i++) {\n      const link = links[i]\n      if (link.href != null) {\n        existing_stylesheets.push(link.href)\n      }\n    }\n    for (let i = 0; i < css_urls.length; i++) {\n      const url = css_urls[i];\n      const escaped = encodeURI(url)\n      if (existing_stylesheets.indexOf(escaped) !== -1) {\n        on_load()\n        continue;\n      }\n      const element = document.createElement(\"link\");\n      element.onload = on_load;\n      element.onerror = on_error;\n      element.rel = \"stylesheet\";\n      element.type = \"text/css\";\n      element.href = url;\n      console.debug(\"Bokeh: injecting link tag for BokehJS stylesheet: \", url);\n      document.body.appendChild(element);\n    }    var existing_scripts = []\n    const scripts = document.getElementsByTagName('script')\n    for (let i = 0; i < scripts.length; i++) {\n      var script = scripts[i]\n      if (script.src != null) {\n        existing_scripts.push(script.src)\n      }\n    }\n    for (let i = 0; i < js_urls.length; i++) {\n      const url = js_urls[i];\n      const escaped = encodeURI(url)\n      if (skip.indexOf(escaped) !== -1 || existing_scripts.indexOf(escaped) !== -1) {\n        if (!window.requirejs) {\n          on_load();\n        }\n        continue;\n      }\n      const element = document.createElement('script');\n      element.onload = on_load;\n      element.onerror = on_error;\n      element.async = false;\n      element.src = url;\n      console.debug(\"Bokeh: injecting script tag for BokehJS library: \", url);\n      document.head.appendChild(element);\n    }\n    for (let i = 0; i < js_modules.length; i++) {\n      const url = js_modules[i];\n      const escaped = encodeURI(url)\n      if (skip.indexOf(escaped) !== -1 || existing_scripts.indexOf(escaped) !== -1) {\n        if (!window.requirejs) {\n          on_load();\n        }\n        continue;\n      }\n      var element = document.createElement('script');\n      element.onload = on_load;\n      element.onerror = on_error;\n      element.async = false;\n      element.src = url;\n      element.type = \"module\";\n      console.debug(\"Bokeh: injecting script tag for BokehJS library: \", url);\n      document.head.appendChild(element);\n    }\n    for (const name in js_exports) {\n      const url = js_exports[name];\n      const escaped = encodeURI(url)\n      if (skip.indexOf(escaped) >= 0 || root[name] != null) {\n        if (!window.requirejs) {\n          on_load();\n        }\n        continue;\n      }\n      var element = document.createElement('script');\n      element.onerror = on_error;\n      element.async = false;\n      element.type = \"module\";\n      console.debug(\"Bokeh: injecting script tag for BokehJS library: \", url);\n      element.textContent = `\n      import ${name} from \"${url}\"\n      window.${name} = ${name}\n      window._bokeh_on_load()\n      `\n      document.head.appendChild(element);\n    }\n    if (!js_urls.length && !js_modules.length) {\n      on_load()\n    }\n  };\n\n  function inject_raw_css(css) {\n    const element = document.createElement(\"style\");\n    element.appendChild(document.createTextNode(css));\n    document.body.appendChild(element);\n  }\n\n  const js_urls = [\"https://cdn.holoviz.org/panel/1.6.2/dist/bundled/reactiveesm/es-module-shims@^1.10.0/dist/es-module-shims.min.js\", \"https://cdn.bokeh.org/bokeh/release/bokeh-3.7.2.min.js\", \"https://cdn.bokeh.org/bokeh/release/bokeh-gl-3.7.2.min.js\", \"https://cdn.bokeh.org/bokeh/release/bokeh-widgets-3.7.2.min.js\", \"https://cdn.bokeh.org/bokeh/release/bokeh-tables-3.7.2.min.js\", \"https://cdn.holoviz.org/panel/1.6.2/dist/panel.min.js\"];\n  const js_modules = [];\n  const js_exports = {};\n  const css_urls = [];\n  const inline_js = [    function(Bokeh) {\n      Bokeh.set_log_level(\"info\");\n    },\nfunction(Bokeh) {} // ensure no trailing comma for IE\n  ];\n\n  function run_inline_js() {\n    if ((root.Bokeh !== undefined) || (force === true)) {\n      for (let i = 0; i < inline_js.length; i++) {\n        try {\n          inline_js[i].call(root, root.Bokeh);\n        } catch(e) {\n          if (!reloading) {\n            throw e;\n          }\n        }\n      }\n      // Cache old bokeh versions\n      if (Bokeh != undefined && !reloading) {\n        var NewBokeh = root.Bokeh;\n        if (Bokeh.versions === undefined) {\n          Bokeh.versions = new Map();\n        }\n        if (NewBokeh.version !== Bokeh.version) {\n          Bokeh.versions.set(NewBokeh.version, NewBokeh)\n        }\n        root.Bokeh = Bokeh;\n      }\n    } else if (Date.now() < root._bokeh_timeout) {\n      setTimeout(run_inline_js, 100);\n    } else if (!root._bokeh_failed_load) {\n      console.log(\"Bokeh: BokehJS failed to load within specified timeout.\");\n      root._bokeh_failed_load = true;\n    }\n    root._bokeh_is_initializing = false\n  }\n\n  function load_or_wait() {\n    // Implement a backoff loop that tries to ensure we do not load multiple\n    // versions of Bokeh and its dependencies at the same time.\n    // In recent versions we use the root._bokeh_is_initializing flag\n    // to determine whether there is an ongoing attempt to initialize\n    // bokeh, however for backward compatibility we also try to ensure\n    // that we do not start loading a newer (Panel>=1.0 and Bokeh>3) version\n    // before older versions are fully initialized.\n    if (root._bokeh_is_initializing && Date.now() > root._bokeh_timeout) {\n      // If the timeout and bokeh was not successfully loaded we reset\n      // everything and try loading again\n      root._bokeh_timeout = Date.now() + 5000;\n      root._bokeh_is_initializing = false;\n      root._bokeh_onload_callbacks = undefined;\n      root._bokeh_is_loading = 0\n      console.log(\"Bokeh: BokehJS was loaded multiple times but one version failed to initialize.\");\n      load_or_wait();\n    } else if (root._bokeh_is_initializing || (typeof root._bokeh_is_initializing === \"undefined\" && root._bokeh_onload_callbacks !== undefined)) {\n      setTimeout(load_or_wait, 100);\n    } else {\n      root._bokeh_is_initializing = true\n      root._bokeh_onload_callbacks = []\n      const bokeh_loaded = root.Bokeh != null && (root.Bokeh.version === py_version || (root.Bokeh.versions !== undefined && root.Bokeh.versions.has(py_version)));\n      if (!reloading && !bokeh_loaded) {\n        if (root.Bokeh) {\n          root.Bokeh = undefined;\n        }\n        console.debug(\"Bokeh: BokehJS not loaded, scheduling load and callback at\", now());\n      }\n      load_libs(css_urls, js_urls, js_modules, js_exports, function() {\n        console.debug(\"Bokeh: BokehJS plotting callback run at\", now());\n        run_inline_js();\n      });\n    }\n  }\n  // Give older versions of the autoload script a head-start to ensure\n  // they initialize before we start loading newer version.\n  setTimeout(load_or_wait, 100)\n}(window));",
      "application/vnd.holoviews_load.v0+json": ""
     },
     "metadata": {},
     "output_type": "display_data"
    },
    {
     "data": {
      "application/javascript": "\nif ((window.PyViz === undefined) || (window.PyViz instanceof HTMLElement)) {\n  window.PyViz = {comms: {}, comm_status:{}, kernels:{}, receivers: {}, plot_index: []}\n}\n\n\n    function JupyterCommManager() {\n    }\n\n    JupyterCommManager.prototype.register_target = function(plot_id, comm_id, msg_handler) {\n      if (window.comm_manager || ((window.Jupyter !== undefined) && (Jupyter.notebook.kernel != null))) {\n        var comm_manager = window.comm_manager || Jupyter.notebook.kernel.comm_manager;\n        comm_manager.register_target(comm_id, function(comm) {\n          comm.on_msg(msg_handler);\n        });\n      } else if ((plot_id in window.PyViz.kernels) && (window.PyViz.kernels[plot_id])) {\n        window.PyViz.kernels[plot_id].registerCommTarget(comm_id, function(comm) {\n          comm.onMsg = msg_handler;\n        });\n      } else if (typeof google != 'undefined' && google.colab.kernel != null) {\n        google.colab.kernel.comms.registerTarget(comm_id, (comm) => {\n          var messages = comm.messages[Symbol.asyncIterator]();\n          function processIteratorResult(result) {\n            var message = result.value;\n            console.log(message)\n            var content = {data: message.data, comm_id};\n            var buffers = []\n            for (var buffer of message.buffers || []) {\n              buffers.push(new DataView(buffer))\n            }\n            var metadata = message.metadata || {};\n            var msg = {content, buffers, metadata}\n            msg_handler(msg);\n            return messages.next().then(processIteratorResult);\n          }\n          return messages.next().then(processIteratorResult);\n        })\n      }\n    }\n\n    JupyterCommManager.prototype.get_client_comm = function(plot_id, comm_id, msg_handler) {\n      if (comm_id in window.PyViz.comms) {\n        return window.PyViz.comms[comm_id];\n      } else if (window.comm_manager || ((window.Jupyter !== undefined) && (Jupyter.notebook.kernel != null))) {\n        var comm_manager = window.comm_manager || Jupyter.notebook.kernel.comm_manager;\n        var comm = comm_manager.new_comm(comm_id, {}, {}, {}, comm_id);\n        if (msg_handler) {\n          comm.on_msg(msg_handler);\n        }\n      } else if ((plot_id in window.PyViz.kernels) && (window.PyViz.kernels[plot_id])) {\n        var comm = window.PyViz.kernels[plot_id].connectToComm(comm_id);\n        comm.open();\n        if (msg_handler) {\n          comm.onMsg = msg_handler;\n        }\n      } else if (typeof google != 'undefined' && google.colab.kernel != null) {\n        var comm_promise = google.colab.kernel.comms.open(comm_id)\n        comm_promise.then((comm) => {\n          window.PyViz.comms[comm_id] = comm;\n          if (msg_handler) {\n            var messages = comm.messages[Symbol.asyncIterator]();\n            function processIteratorResult(result) {\n              var message = result.value;\n              var content = {data: message.data};\n              var metadata = message.metadata || {comm_id};\n              var msg = {content, metadata}\n              msg_handler(msg);\n              return messages.next().then(processIteratorResult);\n            }\n            return messages.next().then(processIteratorResult);\n          }\n        })\n        var sendClosure = (data, metadata, buffers, disposeOnDone) => {\n          return comm_promise.then((comm) => {\n            comm.send(data, metadata, buffers, disposeOnDone);\n          });\n        };\n        var comm = {\n          send: sendClosure\n        };\n      }\n      window.PyViz.comms[comm_id] = comm;\n      return comm;\n    }\n    window.PyViz.comm_manager = new JupyterCommManager();\n    \n\n\nvar JS_MIME_TYPE = 'application/javascript';\nvar HTML_MIME_TYPE = 'text/html';\nvar EXEC_MIME_TYPE = 'application/vnd.holoviews_exec.v0+json';\nvar CLASS_NAME = 'output';\n\n/**\n * Render data to the DOM node\n */\nfunction render(props, node) {\n  var div = document.createElement(\"div\");\n  var script = document.createElement(\"script\");\n  node.appendChild(div);\n  node.appendChild(script);\n}\n\n/**\n * Handle when a new output is added\n */\nfunction handle_add_output(event, handle) {\n  var output_area = handle.output_area;\n  var output = handle.output;\n  if ((output.data == undefined) || (!output.data.hasOwnProperty(EXEC_MIME_TYPE))) {\n    return\n  }\n  var id = output.metadata[EXEC_MIME_TYPE][\"id\"];\n  var toinsert = output_area.element.find(\".\" + CLASS_NAME.split(' ')[0]);\n  if (id !== undefined) {\n    var nchildren = toinsert.length;\n    var html_node = toinsert[nchildren-1].children[0];\n    html_node.innerHTML = output.data[HTML_MIME_TYPE];\n    var scripts = [];\n    var nodelist = html_node.querySelectorAll(\"script\");\n    for (var i in nodelist) {\n      if (nodelist.hasOwnProperty(i)) {\n        scripts.push(nodelist[i])\n      }\n    }\n\n    scripts.forEach( function (oldScript) {\n      var newScript = document.createElement(\"script\");\n      var attrs = [];\n      var nodemap = oldScript.attributes;\n      for (var j in nodemap) {\n        if (nodemap.hasOwnProperty(j)) {\n          attrs.push(nodemap[j])\n        }\n      }\n      attrs.forEach(function(attr) { newScript.setAttribute(attr.name, attr.value) });\n      newScript.appendChild(document.createTextNode(oldScript.innerHTML));\n      oldScript.parentNode.replaceChild(newScript, oldScript);\n    });\n    if (JS_MIME_TYPE in output.data) {\n      toinsert[nchildren-1].children[1].textContent = output.data[JS_MIME_TYPE];\n    }\n    output_area._hv_plot_id = id;\n    if ((window.Bokeh !== undefined) && (id in Bokeh.index)) {\n      window.PyViz.plot_index[id] = Bokeh.index[id];\n    } else {\n      window.PyViz.plot_index[id] = null;\n    }\n  } else if (output.metadata[EXEC_MIME_TYPE][\"server_id\"] !== undefined) {\n    var bk_div = document.createElement(\"div\");\n    bk_div.innerHTML = output.data[HTML_MIME_TYPE];\n    var script_attrs = bk_div.children[0].attributes;\n    for (var i = 0; i < script_attrs.length; i++) {\n      toinsert[toinsert.length - 1].childNodes[1].setAttribute(script_attrs[i].name, script_attrs[i].value);\n    }\n    // store reference to server id on output_area\n    output_area._bokeh_server_id = output.metadata[EXEC_MIME_TYPE][\"server_id\"];\n  }\n}\n\n/**\n * Handle when an output is cleared or removed\n */\nfunction handle_clear_output(event, handle) {\n  var id = handle.cell.output_area._hv_plot_id;\n  var server_id = handle.cell.output_area._bokeh_server_id;\n  if (((id === undefined) || !(id in PyViz.plot_index)) && (server_id !== undefined)) { return; }\n  var comm = window.PyViz.comm_manager.get_client_comm(\"hv-extension-comm\", \"hv-extension-comm\", function () {});\n  if (server_id !== null) {\n    comm.send({event_type: 'server_delete', 'id': server_id});\n    return;\n  } else if (comm !== null) {\n    comm.send({event_type: 'delete', 'id': id});\n  }\n  delete PyViz.plot_index[id];\n  if ((window.Bokeh !== undefined) & (id in window.Bokeh.index)) {\n    var doc = window.Bokeh.index[id].model.document\n    doc.clear();\n    const i = window.Bokeh.documents.indexOf(doc);\n    if (i > -1) {\n      window.Bokeh.documents.splice(i, 1);\n    }\n  }\n}\n\n/**\n * Handle kernel restart event\n */\nfunction handle_kernel_cleanup(event, handle) {\n  delete PyViz.comms[\"hv-extension-comm\"];\n  window.PyViz.plot_index = {}\n}\n\n/**\n * Handle update_display_data messages\n */\nfunction handle_update_output(event, handle) {\n  handle_clear_output(event, {cell: {output_area: handle.output_area}})\n  handle_add_output(event, handle)\n}\n\nfunction register_renderer(events, OutputArea) {\n  function append_mime(data, metadata, element) {\n    // create a DOM node to render to\n    var toinsert = this.create_output_subarea(\n    metadata,\n    CLASS_NAME,\n    EXEC_MIME_TYPE\n    );\n    this.keyboard_manager.register_events(toinsert);\n    // Render to node\n    var props = {data: data, metadata: metadata[EXEC_MIME_TYPE]};\n    render(props, toinsert[0]);\n    element.append(toinsert);\n    return toinsert\n  }\n\n  events.on('output_added.OutputArea', handle_add_output);\n  events.on('output_updated.OutputArea', handle_update_output);\n  events.on('clear_output.CodeCell', handle_clear_output);\n  events.on('delete.Cell', handle_clear_output);\n  events.on('kernel_ready.Kernel', handle_kernel_cleanup);\n\n  OutputArea.prototype.register_mime_type(EXEC_MIME_TYPE, append_mime, {\n    safe: true,\n    index: 0\n  });\n}\n\nif (window.Jupyter !== undefined) {\n  try {\n    var events = require('base/js/events');\n    var OutputArea = require('notebook/js/outputarea').OutputArea;\n    if (OutputArea.prototype.mime_types().indexOf(EXEC_MIME_TYPE) == -1) {\n      register_renderer(events, OutputArea);\n    }\n  } catch(err) {\n  }\n}\n",
      "application/vnd.holoviews_load.v0+json": ""
     },
     "metadata": {},
     "output_type": "display_data"
    },
    {
     "data": {
      "application/vnd.holoviews_exec.v0+json": "",
      "text/html": [
       "<div id='104bf82a-a647-412e-8070-f61a0ce6a07a'>\n",
       "  <div id=\"d2f37077-f776-4b8d-88af-de028ddefe9a\" data-root-id=\"104bf82a-a647-412e-8070-f61a0ce6a07a\" style=\"display: contents;\"></div>\n",
       "</div>\n",
       "<script type=\"application/javascript\">(function(root) {\n",
       "  var docs_json = {\"d970efa8-496b-4aca-9cc2-a5bddd7a6d55\":{\"version\":\"3.7.2\",\"title\":\"Bokeh Application\",\"roots\":[{\"type\":\"object\",\"name\":\"panel.models.browser.BrowserInfo\",\"id\":\"104bf82a-a647-412e-8070-f61a0ce6a07a\"},{\"type\":\"object\",\"name\":\"panel.models.comm_manager.CommManager\",\"id\":\"5fa5dbdc-9a4d-4325-a0d8-70b3fcbb2ca8\",\"attributes\":{\"plot_id\":\"104bf82a-a647-412e-8070-f61a0ce6a07a\",\"comm_id\":\"ce9a94599baf4ff2a68028f14913aea6\",\"client_comm_id\":\"47e70e50f25a4901959767fc3bd8be35\"}}],\"defs\":[{\"type\":\"model\",\"name\":\"ReactiveHTML1\"},{\"type\":\"model\",\"name\":\"FlexBox1\",\"properties\":[{\"name\":\"align_content\",\"kind\":\"Any\",\"default\":\"flex-start\"},{\"name\":\"align_items\",\"kind\":\"Any\",\"default\":\"flex-start\"},{\"name\":\"flex_direction\",\"kind\":\"Any\",\"default\":\"row\"},{\"name\":\"flex_wrap\",\"kind\":\"Any\",\"default\":\"wrap\"},{\"name\":\"gap\",\"kind\":\"Any\",\"default\":\"\"},{\"name\":\"justify_content\",\"kind\":\"Any\",\"default\":\"flex-start\"}]},{\"type\":\"model\",\"name\":\"FloatPanel1\",\"properties\":[{\"name\":\"config\",\"kind\":\"Any\",\"default\":{\"type\":\"map\"}},{\"name\":\"contained\",\"kind\":\"Any\",\"default\":true},{\"name\":\"position\",\"kind\":\"Any\",\"default\":\"right-top\"},{\"name\":\"offsetx\",\"kind\":\"Any\",\"default\":null},{\"name\":\"offsety\",\"kind\":\"Any\",\"default\":null},{\"name\":\"theme\",\"kind\":\"Any\",\"default\":\"primary\"},{\"name\":\"status\",\"kind\":\"Any\",\"default\":\"normalized\"}]},{\"type\":\"model\",\"name\":\"GridStack1\",\"properties\":[{\"name\":\"ncols\",\"kind\":\"Any\",\"default\":null},{\"name\":\"nrows\",\"kind\":\"Any\",\"default\":null},{\"name\":\"allow_resize\",\"kind\":\"Any\",\"default\":true},{\"name\":\"allow_drag\",\"kind\":\"Any\",\"default\":true},{\"name\":\"state\",\"kind\":\"Any\",\"default\":[]}]},{\"type\":\"model\",\"name\":\"drag1\",\"properties\":[{\"name\":\"slider_width\",\"kind\":\"Any\",\"default\":5},{\"name\":\"slider_color\",\"kind\":\"Any\",\"default\":\"black\"},{\"name\":\"value\",\"kind\":\"Any\",\"default\":50}]},{\"type\":\"model\",\"name\":\"click1\",\"properties\":[{\"name\":\"terminal_output\",\"kind\":\"Any\",\"default\":\"\"},{\"name\":\"debug_name\",\"kind\":\"Any\",\"default\":\"\"},{\"name\":\"clears\",\"kind\":\"Any\",\"default\":0}]},{\"type\":\"model\",\"name\":\"FastWrapper1\",\"properties\":[{\"name\":\"object\",\"kind\":\"Any\",\"default\":null},{\"name\":\"style\",\"kind\":\"Any\",\"default\":null}]},{\"type\":\"model\",\"name\":\"NotificationArea1\",\"properties\":[{\"name\":\"js_events\",\"kind\":\"Any\",\"default\":{\"type\":\"map\"}},{\"name\":\"max_notifications\",\"kind\":\"Any\",\"default\":5},{\"name\":\"notifications\",\"kind\":\"Any\",\"default\":[]},{\"name\":\"position\",\"kind\":\"Any\",\"default\":\"bottom-right\"},{\"name\":\"_clear\",\"kind\":\"Any\",\"default\":0},{\"name\":\"types\",\"kind\":\"Any\",\"default\":[{\"type\":\"map\",\"entries\":[[\"type\",\"warning\"],[\"background\",\"#ffc107\"],[\"icon\",{\"type\":\"map\",\"entries\":[[\"className\",\"fas fa-exclamation-triangle\"],[\"tagName\",\"i\"],[\"color\",\"white\"]]}]]},{\"type\":\"map\",\"entries\":[[\"type\",\"info\"],[\"background\",\"#007bff\"],[\"icon\",{\"type\":\"map\",\"entries\":[[\"className\",\"fas fa-info-circle\"],[\"tagName\",\"i\"],[\"color\",\"white\"]]}]]}]}]},{\"type\":\"model\",\"name\":\"Notification\",\"properties\":[{\"name\":\"background\",\"kind\":\"Any\",\"default\":null},{\"name\":\"duration\",\"kind\":\"Any\",\"default\":3000},{\"name\":\"icon\",\"kind\":\"Any\",\"default\":null},{\"name\":\"message\",\"kind\":\"Any\",\"default\":\"\"},{\"name\":\"notification_type\",\"kind\":\"Any\",\"default\":null},{\"name\":\"_rendered\",\"kind\":\"Any\",\"default\":false},{\"name\":\"_destroyed\",\"kind\":\"Any\",\"default\":false}]},{\"type\":\"model\",\"name\":\"TemplateActions1\",\"properties\":[{\"name\":\"open_modal\",\"kind\":\"Any\",\"default\":0},{\"name\":\"close_modal\",\"kind\":\"Any\",\"default\":0}]},{\"type\":\"model\",\"name\":\"BootstrapTemplateActions1\",\"properties\":[{\"name\":\"open_modal\",\"kind\":\"Any\",\"default\":0},{\"name\":\"close_modal\",\"kind\":\"Any\",\"default\":0}]},{\"type\":\"model\",\"name\":\"TemplateEditor1\",\"properties\":[{\"name\":\"layout\",\"kind\":\"Any\",\"default\":[]}]},{\"type\":\"model\",\"name\":\"MaterialTemplateActions1\",\"properties\":[{\"name\":\"open_modal\",\"kind\":\"Any\",\"default\":0},{\"name\":\"close_modal\",\"kind\":\"Any\",\"default\":0}]},{\"type\":\"model\",\"name\":\"ReactiveESM1\",\"properties\":[{\"name\":\"esm_constants\",\"kind\":\"Any\",\"default\":{\"type\":\"map\"}}]},{\"type\":\"model\",\"name\":\"JSComponent1\",\"properties\":[{\"name\":\"esm_constants\",\"kind\":\"Any\",\"default\":{\"type\":\"map\"}}]},{\"type\":\"model\",\"name\":\"ReactComponent1\",\"properties\":[{\"name\":\"esm_constants\",\"kind\":\"Any\",\"default\":{\"type\":\"map\"}}]},{\"type\":\"model\",\"name\":\"AnyWidgetComponent1\",\"properties\":[{\"name\":\"esm_constants\",\"kind\":\"Any\",\"default\":{\"type\":\"map\"}}]},{\"type\":\"model\",\"name\":\"request_value1\",\"properties\":[{\"name\":\"fill\",\"kind\":\"Any\",\"default\":\"none\"},{\"name\":\"_synced\",\"kind\":\"Any\",\"default\":null},{\"name\":\"_request_sync\",\"kind\":\"Any\",\"default\":0}]}]}};\n",
       "  var render_items = [{\"docid\":\"d970efa8-496b-4aca-9cc2-a5bddd7a6d55\",\"roots\":{\"104bf82a-a647-412e-8070-f61a0ce6a07a\":\"d2f37077-f776-4b8d-88af-de028ddefe9a\"},\"root_ids\":[\"104bf82a-a647-412e-8070-f61a0ce6a07a\"]}];\n",
       "  var docs = Object.values(docs_json)\n",
       "  if (!docs) {\n",
       "    return\n",
       "  }\n",
       "  const py_version = docs[0].version.replace('rc', '-rc.').replace('.dev', '-dev.')\n",
       "  async function embed_document(root) {\n",
       "    var Bokeh = get_bokeh(root)\n",
       "    await Bokeh.embed.embed_items_notebook(docs_json, render_items);\n",
       "    for (const render_item of render_items) {\n",
       "      for (const root_id of render_item.root_ids) {\n",
       "\tconst id_el = document.getElementById(root_id)\n",
       "\tif (id_el.children.length && id_el.children[0].hasAttribute('data-root-id')) {\n",
       "\t  const root_el = id_el.children[0]\n",
       "\t  root_el.id = root_el.id + '-rendered'\n",
       "\t  for (const child of root_el.children) {\n",
       "            // Ensure JupyterLab does not capture keyboard shortcuts\n",
       "            // see: https://jupyterlab.readthedocs.io/en/4.1.x/extension/notebook.html#keyboard-interaction-model\n",
       "\t    child.setAttribute('data-lm-suppress-shortcuts', 'true')\n",
       "\t  }\n",
       "\t}\n",
       "      }\n",
       "    }\n",
       "  }\n",
       "  function get_bokeh(root) {\n",
       "    if (root.Bokeh === undefined) {\n",
       "      return null\n",
       "    } else if (root.Bokeh.version !== py_version) {\n",
       "      if (root.Bokeh.versions === undefined || !root.Bokeh.versions.has(py_version)) {\n",
       "\treturn null\n",
       "      }\n",
       "      return root.Bokeh.versions.get(py_version);\n",
       "    } else if (root.Bokeh.version === py_version) {\n",
       "      return root.Bokeh\n",
       "    }\n",
       "    return null\n",
       "  }\n",
       "  function is_loaded(root) {\n",
       "    var Bokeh = get_bokeh(root)\n",
       "    return (Bokeh != null && Bokeh.Panel !== undefined)\n",
       "  }\n",
       "  if (is_loaded(root)) {\n",
       "    embed_document(root);\n",
       "  } else {\n",
       "    var attempts = 0;\n",
       "    var timer = setInterval(function(root) {\n",
       "      if (is_loaded(root)) {\n",
       "        clearInterval(timer);\n",
       "        embed_document(root);\n",
       "      } else if (document.readyState == \"complete\") {\n",
       "        attempts++;\n",
       "        if (attempts > 200) {\n",
       "          clearInterval(timer);\n",
       "\t  var Bokeh = get_bokeh(root)\n",
       "\t  if (Bokeh == null || Bokeh.Panel == null) {\n",
       "            console.warn(\"Panel: ERROR: Unable to run Panel code because Bokeh or Panel library is missing\");\n",
       "\t  } else {\n",
       "\t    console.warn(\"Panel: WARNING: Attempting to render but not all required libraries could be resolved.\")\n",
       "\t    embed_document(root)\n",
       "\t  }\n",
       "        }\n",
       "      }\n",
       "    }, 25, root)\n",
       "  }\n",
       "})(window);</script>"
      ]
     },
     "metadata": {
      "application/vnd.holoviews_exec.v0+json": {
       "id": "104bf82a-a647-412e-8070-f61a0ce6a07a"
      }
     },
     "output_type": "display_data"
    }
   ],
   "source": [
    "from bs4 import BeautifulSoup\n",
    "# import pandas as pd\n",
    "from datetime import datetime, timedelta\n",
    "from itertools import combinations\n",
    "import json\n",
    "import requests\n",
    "import math\n",
    "from typing import Optional, List, Dict\n",
    "import os\n",
    "\n",
    "from pydantic import BaseModel\n",
    "from typing import Mapping\n",
    "import numpy as np\n",
    "import polars as pl\n",
    "import hvplot.polars\n",
    "import pandas as pd\n",
    "import altair as alt\n",
    "import math\n",
    "\n",
    "from shared.utils import formalize_data_with_str\n",
    "from shared.random_rules import RandomRules"
   ]
  },
  {
   "cell_type": "code",
   "execution_count": 2,
   "metadata": {},
   "outputs": [],
   "source": [
    "rr = RandomRules(\n",
    "  TOTAL_NUMBERS = 40,\n",
    "  CHOOSE = 6,\n",
    "  MAX_PRIMES = 3,\n",
    "  N_VALUES=[\"1\", \"2\", \"3\"],\n",
    "  # Rangos de valores de las bolillas\n",
    "  MIN_B_VALUES = [1, 2, 3, 4, 5, 6],\n",
    "  MAX_B_VALUES = [35, 36, 37, 38, 39, 40]\n",
    ")\n"
   ]
  },
  {
   "cell_type": "code",
   "execution_count": 3,
   "metadata": {},
   "outputs": [],
   "source": [
    "url = 'https://resultados.latinka.com.pe/i.do?m=historico&t=0&s=42'\n",
    "response = requests.get(url)\n",
    "soup = BeautifulSoup(response.text, 'html.parser')\n",
    "\n",
    "tables = soup.select('table')\n",
    "rows = tables[1].find_all('tr')"
   ]
  },
  {
   "cell_type": "code",
   "execution_count": 4,
   "metadata": {},
   "outputs": [
    {
     "name": "stdout",
     "output_type": "stream",
     "text": [
      "TOTAL_LINES=5282\n"
     ]
    },
    {
     "data": {
      "text/html": [
       "<div><style>\n",
       ".dataframe > thead > tr,\n",
       ".dataframe > tbody > tr {\n",
       "  text-align: right;\n",
       "  white-space: pre-wrap;\n",
       "}\n",
       "</style>\n",
       "<small>shape: (10, 30)</small><table border=\"1\" class=\"dataframe\"><thead><tr><th>fecha</th><th>sorteo</th><th>bolillas regulares</th><th>bolillas chauchamba</th><th>cc1</th><th>cc2</th><th>id</th><th>combo</th><th>b1</th><th>b2</th><th>b3</th><th>b4</th><th>b5</th><th>b6</th><th>str_b1</th><th>str_b2</th><th>str_b3</th><th>str_b4</th><th>str_b5</th><th>str_b6</th><th>post_str_b1</th><th>post_str_b2</th><th>post_str_b3</th><th>post_str_b4</th><th>post_str_b5</th><th>post_str_blast</th><th>is_rare_combination</th><th>reason</th><th>jumps_map</th><th>unijump</th></tr><tr><td>str</td><td>str</td><td>str</td><td>str</td><td>str</td><td>str</td><td>str</td><td>array[u8, 6]</td><td>u8</td><td>u8</td><td>u8</td><td>u8</td><td>u8</td><td>u8</td><td>str</td><td>str</td><td>str</td><td>str</td><td>str</td><td>str</td><td>str</td><td>str</td><td>str</td><td>str</td><td>str</td><td>str</td><td>bool</td><td>u8</td><td>str</td><td>i64</td></tr></thead><tbody><tr><td>&quot;19/04/2025&quot;</td><td>&quot;1797&quot;</td><td>&quot;40 34 04 03 01 22&quot;</td><td>&quot;06 02 22 09 04 21&quot;</td><td>&quot;&quot;</td><td>&quot;&quot;</td><td>&quot;010304223440&quot;</td><td>[1, 3, … 40]</td><td>1</td><td>3</td><td>4</td><td>22</td><td>34</td><td>40</td><td>&quot;01&quot;</td><td>&quot;03&quot;</td><td>&quot;04&quot;</td><td>&quot;22&quot;</td><td>&quot;34&quot;</td><td>&quot;40&quot;</td><td>null</td><td>null</td><td>null</td><td>null</td><td>null</td><td>null</td><td>false</td><td>0</td><td>&quot;02_01_18_12_06&quot;</td><td>64</td></tr><tr><td>&quot;19/04/2025&quot;</td><td>&quot;1797&quot;</td><td>&quot;40 34 04 03 01 22&quot;</td><td>&quot;06 02 22 09 04 21&quot;</td><td>&quot;&quot;</td><td>&quot;&quot;</td><td>&quot;010304223440&quot;</td><td>[1, 3, … 40]</td><td>1</td><td>3</td><td>4</td><td>22</td><td>34</td><td>40</td><td>&quot;01&quot;</td><td>&quot;03&quot;</td><td>&quot;04&quot;</td><td>&quot;22&quot;</td><td>&quot;34&quot;</td><td>&quot;40&quot;</td><td>&quot;01&quot;</td><td>&quot;03&quot;</td><td>&quot;04&quot;</td><td>&quot;22&quot;</td><td>&quot;34&quot;</td><td>&quot;40&quot;</td><td>false</td><td>0</td><td>&quot;02_01_18_12_06&quot;</td><td>64</td></tr><tr><td>&quot;17/04/2025&quot;</td><td>&quot;1796&quot;</td><td>&quot;12 06 38 15 37 02&quot;</td><td>&quot;21 11 28 24 32 20&quot;</td><td>&quot;&quot;</td><td>&quot;&quot;</td><td>&quot;020612153738&quot;</td><td>[2, 6, … 38]</td><td>2</td><td>6</td><td>12</td><td>15</td><td>37</td><td>38</td><td>&quot;02&quot;</td><td>&quot;06&quot;</td><td>&quot;12&quot;</td><td>&quot;15&quot;</td><td>&quot;37&quot;</td><td>&quot;38&quot;</td><td>&quot;01&quot;</td><td>&quot;03&quot;</td><td>&quot;04&quot;</td><td>&quot;22&quot;</td><td>&quot;34&quot;</td><td>&quot;40&quot;</td><td>false</td><td>0</td><td>&quot;04_06_03_22_01&quot;</td><td>-89</td></tr><tr><td>&quot;17/04/2025&quot;</td><td>&quot;1796&quot;</td><td>&quot;12 06 38 15 37 02&quot;</td><td>&quot;21 11 28 24 32 20&quot;</td><td>&quot;&quot;</td><td>&quot;&quot;</td><td>&quot;020612153738&quot;</td><td>[2, 6, … 38]</td><td>2</td><td>6</td><td>12</td><td>15</td><td>37</td><td>38</td><td>&quot;02&quot;</td><td>&quot;06&quot;</td><td>&quot;12&quot;</td><td>&quot;15&quot;</td><td>&quot;37&quot;</td><td>&quot;38&quot;</td><td>&quot;02&quot;</td><td>&quot;06&quot;</td><td>&quot;12&quot;</td><td>&quot;15&quot;</td><td>&quot;37&quot;</td><td>&quot;38&quot;</td><td>false</td><td>0</td><td>&quot;04_06_03_22_01&quot;</td><td>-89</td></tr><tr><td>&quot;15/04/2025&quot;</td><td>&quot;1795&quot;</td><td>&quot;05 21 37 13 08 34&quot;</td><td>&quot;38 07 03 09 04 27&quot;</td><td>&quot;&quot;</td><td>&quot;&quot;</td><td>&quot;050813213437&quot;</td><td>[5, 8, … 37]</td><td>5</td><td>8</td><td>13</td><td>21</td><td>34</td><td>37</td><td>&quot;05&quot;</td><td>&quot;08&quot;</td><td>&quot;13&quot;</td><td>&quot;21&quot;</td><td>&quot;34&quot;</td><td>&quot;37&quot;</td><td>&quot;02&quot;</td><td>&quot;06&quot;</td><td>&quot;12&quot;</td><td>&quot;15&quot;</td><td>&quot;37&quot;</td><td>&quot;38&quot;</td><td>false</td><td>0</td><td>&quot;03_05_08_13_03&quot;</td><td>-18</td></tr><tr><td>&quot;15/04/2025&quot;</td><td>&quot;1795&quot;</td><td>&quot;05 21 37 13 08 34&quot;</td><td>&quot;38 07 03 09 04 27&quot;</td><td>&quot;&quot;</td><td>&quot;&quot;</td><td>&quot;050813213437&quot;</td><td>[5, 8, … 37]</td><td>5</td><td>8</td><td>13</td><td>21</td><td>34</td><td>37</td><td>&quot;05&quot;</td><td>&quot;08&quot;</td><td>&quot;13&quot;</td><td>&quot;21&quot;</td><td>&quot;34&quot;</td><td>&quot;37&quot;</td><td>&quot;05&quot;</td><td>&quot;08&quot;</td><td>&quot;13&quot;</td><td>&quot;21&quot;</td><td>&quot;34&quot;</td><td>&quot;37&quot;</td><td>false</td><td>0</td><td>&quot;03_05_08_13_03&quot;</td><td>-18</td></tr><tr><td>&quot;12/04/2025&quot;</td><td>&quot;1794&quot;</td><td>&quot;10 32 26 03 19 11&quot;</td><td>&quot;39 07 28 21 05 12&quot;</td><td>&quot;&quot;</td><td>&quot;&quot;</td><td>&quot;031011192632&quot;</td><td>[3, 10, … 32]</td><td>3</td><td>10</td><td>11</td><td>19</td><td>26</td><td>32</td><td>&quot;03&quot;</td><td>&quot;10&quot;</td><td>&quot;11&quot;</td><td>&quot;19&quot;</td><td>&quot;26&quot;</td><td>&quot;32&quot;</td><td>&quot;05&quot;</td><td>&quot;08&quot;</td><td>&quot;13&quot;</td><td>&quot;21&quot;</td><td>&quot;34&quot;</td><td>&quot;37&quot;</td><td>false</td><td>0</td><td>&quot;07_01_08_07_06&quot;</td><td>29</td></tr><tr><td>&quot;12/04/2025&quot;</td><td>&quot;1794&quot;</td><td>&quot;10 32 26 03 19 11&quot;</td><td>&quot;39 07 28 21 05 12&quot;</td><td>&quot;&quot;</td><td>&quot;&quot;</td><td>&quot;031011192632&quot;</td><td>[3, 10, … 32]</td><td>3</td><td>10</td><td>11</td><td>19</td><td>26</td><td>32</td><td>&quot;03&quot;</td><td>&quot;10&quot;</td><td>&quot;11&quot;</td><td>&quot;19&quot;</td><td>&quot;26&quot;</td><td>&quot;32&quot;</td><td>&quot;03&quot;</td><td>&quot;10&quot;</td><td>&quot;11&quot;</td><td>&quot;19&quot;</td><td>&quot;26&quot;</td><td>&quot;32&quot;</td><td>false</td><td>0</td><td>&quot;07_01_08_07_06&quot;</td><td>29</td></tr><tr><td>&quot;10/04/2025&quot;</td><td>&quot;1793&quot;</td><td>&quot;01 36 20 18 22 02&quot;</td><td>&quot;33 17 29 39 30 36&quot;</td><td>&quot;&quot;</td><td>&quot;&quot;</td><td>&quot;010218202236&quot;</td><td>[1, 2, … 36]</td><td>1</td><td>2</td><td>18</td><td>20</td><td>22</td><td>36</td><td>&quot;01&quot;</td><td>&quot;02&quot;</td><td>&quot;18&quot;</td><td>&quot;20&quot;</td><td>&quot;22&quot;</td><td>&quot;36&quot;</td><td>&quot;03&quot;</td><td>&quot;10&quot;</td><td>&quot;11&quot;</td><td>&quot;19&quot;</td><td>&quot;26&quot;</td><td>&quot;32&quot;</td><td>true</td><td>8</td><td>&quot;01_16_02_02_14&quot;</td><td>-45</td></tr><tr><td>&quot;10/04/2025&quot;</td><td>&quot;1793&quot;</td><td>&quot;01 36 20 18 22 02&quot;</td><td>&quot;33 17 29 39 30 36&quot;</td><td>&quot;&quot;</td><td>&quot;&quot;</td><td>&quot;010218202236&quot;</td><td>[1, 2, … 36]</td><td>1</td><td>2</td><td>18</td><td>20</td><td>22</td><td>36</td><td>&quot;01&quot;</td><td>&quot;02&quot;</td><td>&quot;18&quot;</td><td>&quot;20&quot;</td><td>&quot;22&quot;</td><td>&quot;36&quot;</td><td>&quot;01&quot;</td><td>&quot;02&quot;</td><td>&quot;18&quot;</td><td>&quot;20&quot;</td><td>&quot;22&quot;</td><td>&quot;36&quot;</td><td>true</td><td>8</td><td>&quot;01_16_02_02_14&quot;</td><td>-45</td></tr></tbody></table></div>"
      ],
      "text/plain": [
       "shape: (10, 30)\n",
       "┌────────────┬────────┬─────────────┬─────────────┬───┬────────────┬────────┬────────────┬─────────┐\n",
       "│ fecha      ┆ sorteo ┆ bolillas    ┆ bolillas    ┆ … ┆ is_rare_co ┆ reason ┆ jumps_map  ┆ unijump │\n",
       "│ ---        ┆ ---    ┆ regulares   ┆ chauchamba  ┆   ┆ mbination  ┆ ---    ┆ ---        ┆ ---     │\n",
       "│ str        ┆ str    ┆ ---         ┆ ---         ┆   ┆ ---        ┆ u8     ┆ str        ┆ i64     │\n",
       "│            ┆        ┆ str         ┆ str         ┆   ┆ bool       ┆        ┆            ┆         │\n",
       "╞════════════╪════════╪═════════════╪═════════════╪═══╪════════════╪════════╪════════════╪═════════╡\n",
       "│ 19/04/2025 ┆ 1797   ┆ 40 34 04 03 ┆ 06 02 22 09 ┆ … ┆ false      ┆ 0      ┆ 02_01_18_1 ┆ 64      │\n",
       "│            ┆        ┆ 01 22       ┆ 04 21       ┆   ┆            ┆        ┆ 2_06       ┆         │\n",
       "│ 19/04/2025 ┆ 1797   ┆ 40 34 04 03 ┆ 06 02 22 09 ┆ … ┆ false      ┆ 0      ┆ 02_01_18_1 ┆ 64      │\n",
       "│            ┆        ┆ 01 22       ┆ 04 21       ┆   ┆            ┆        ┆ 2_06       ┆         │\n",
       "│ 17/04/2025 ┆ 1796   ┆ 12 06 38 15 ┆ 21 11 28 24 ┆ … ┆ false      ┆ 0      ┆ 04_06_03_2 ┆ -89     │\n",
       "│            ┆        ┆ 37 02       ┆ 32 20       ┆   ┆            ┆        ┆ 2_01       ┆         │\n",
       "│ 17/04/2025 ┆ 1796   ┆ 12 06 38 15 ┆ 21 11 28 24 ┆ … ┆ false      ┆ 0      ┆ 04_06_03_2 ┆ -89     │\n",
       "│            ┆        ┆ 37 02       ┆ 32 20       ┆   ┆            ┆        ┆ 2_01       ┆         │\n",
       "│ 15/04/2025 ┆ 1795   ┆ 05 21 37 13 ┆ 38 07 03 09 ┆ … ┆ false      ┆ 0      ┆ 03_05_08_1 ┆ -18     │\n",
       "│            ┆        ┆ 08 34       ┆ 04 27       ┆   ┆            ┆        ┆ 3_03       ┆         │\n",
       "│ 15/04/2025 ┆ 1795   ┆ 05 21 37 13 ┆ 38 07 03 09 ┆ … ┆ false      ┆ 0      ┆ 03_05_08_1 ┆ -18     │\n",
       "│            ┆        ┆ 08 34       ┆ 04 27       ┆   ┆            ┆        ┆ 3_03       ┆         │\n",
       "│ 12/04/2025 ┆ 1794   ┆ 10 32 26 03 ┆ 39 07 28 21 ┆ … ┆ false      ┆ 0      ┆ 07_01_08_0 ┆ 29      │\n",
       "│            ┆        ┆ 19 11       ┆ 05 12       ┆   ┆            ┆        ┆ 7_06       ┆         │\n",
       "│ 12/04/2025 ┆ 1794   ┆ 10 32 26 03 ┆ 39 07 28 21 ┆ … ┆ false      ┆ 0      ┆ 07_01_08_0 ┆ 29      │\n",
       "│            ┆        ┆ 19 11       ┆ 05 12       ┆   ┆            ┆        ┆ 7_06       ┆         │\n",
       "│ 10/04/2025 ┆ 1793   ┆ 01 36 20 18 ┆ 33 17 29 39 ┆ … ┆ true       ┆ 8      ┆ 01_16_02_0 ┆ -45     │\n",
       "│            ┆        ┆ 22 02       ┆ 30 36       ┆   ┆            ┆        ┆ 2_14       ┆         │\n",
       "│ 10/04/2025 ┆ 1793   ┆ 01 36 20 18 ┆ 33 17 29 39 ┆ … ┆ true       ┆ 8      ┆ 01_16_02_0 ┆ -45     │\n",
       "│            ┆        ┆ 22 02       ┆ 30 36       ┆   ┆            ┆        ┆ 2_14       ┆         │\n",
       "└────────────┴────────┴─────────────┴─────────────┴───┴────────────┴────────┴────────────┴─────────┘"
      ]
     },
     "metadata": {},
     "output_type": "display_data"
    }
   ],
   "source": [
    "lst = []\n",
    "post_str_b1 = None\n",
    "post_str_b2 = None\n",
    "post_str_b3 = None\n",
    "post_str_b4 = None\n",
    "post_str_b5 = None\n",
    "post_str_blast = None\n",
    "for row in rows:\n",
    "  for col_index in [2, 3]:\n",
    "    cols = [data.text.strip() for data in row.find_all('td')]\n",
    "    if (cols[col_index] == ''):\n",
    "      continue\n",
    "\n",
    "    # cols = [data.text.strip() for data in row.find_all('td')]\n",
    "    \n",
    "    id, bolillas_int, str_combo = formalize_data_with_str(bolillas_str=cols[2])\n",
    "    cols.append(id)\n",
    "    cols.append(bolillas_int)\n",
    "    cols.extend([b for b in bolillas_int])\n",
    "    cols.extend(str_combo)\n",
    "    cols.append(post_str_b1)\n",
    "    cols.append(post_str_b2)\n",
    "    cols.append(post_str_b3)\n",
    "    cols.append(post_str_b4)\n",
    "    cols.append(post_str_b5)\n",
    "    cols.append(post_str_blast)\n",
    "\n",
    "    is_rare, reason = rr.is_rare_combination(bolillas_int, id)\n",
    "    cols.append(is_rare)\n",
    "    cols.append(reason)\n",
    "\n",
    "    cols.append(rr.jumps_map(bolillas_int))\n",
    "    cols.append(rr.unijump(bolillas_int))\n",
    "    \n",
    "    lst.append(cols)\n",
    "\n",
    "    post_str_b1 = str_combo[0]\n",
    "    post_str_b2 = str_combo[1]\n",
    "    post_str_b3 = str_combo[2]\n",
    "    post_str_b4 = str_combo[3]\n",
    "    post_str_b5 = str_combo[4]\n",
    "    post_str_blast = str_combo[-1]\n",
    "\n",
    "\n",
    "\n",
    "# lst = []\n",
    "# for row in rows:\n",
    "  \n",
    "  \n",
    "#   for col_index in [2, 3]:\n",
    "#     cols = [data.text.strip() for data in row.find_all('td')]\n",
    "#     if (cols[col_index] == ''):\n",
    "#       continue\n",
    "  \n",
    "#     id, bolillas_int = formalize_data(bolillas_str=cols[col_index])\n",
    "#     cols.append(id)\n",
    "#     cols.append(bolillas_int)\n",
    "#     cols.extend([b for b in bolillas_int])\n",
    "    \n",
    "#     is_rare, reason = rr.is_rare_combination(bolillas_int, id)\n",
    "#     cols.append(is_rare)\n",
    "#     cols.append(reason)\n",
    "#     left_scores = [round(b, 4) for b in rr.calculate_left_scores(bolillas_int)]\n",
    "\n",
    "#     right_scores = [round(b, 4) for b in rr.calculate_right_scores(bolillas_int)]\n",
    "#     lr_scores = [round(left + right,4) for left, right in zip(left_scores, right_scores)]\n",
    "#     row_score = round(sum(lr_scores),4)\n",
    "\n",
    "#     shared_values = list(set(left_scores[0:5]) & set(right_scores[1:6]))\n",
    "#     shared_values = [round(s, 4) for s in shared_values]\n",
    "#     cols.extend([score for score in left_scores])\n",
    "#     cols.extend([score for score in right_scores])\n",
    "#     # cols.extend(lr_scores)\n",
    "#     cols.append(shared_values)\n",
    "#     cols.append(len(shared_values))\n",
    "#     cols.append(row_score)\n",
    "#     cols.append(rr.jumps_map(bolillas_int))\n",
    "#     cols.append(rr.unijump(bolillas_int))\n",
    "    \n",
    "#     lst.append(cols)\n",
    "\n",
    "with open('./kbl_cache_v3.json', 'w') as file: \n",
    "  json.dump(lst, file)\n",
    "\n",
    "dfRows = pl.DataFrame(\n",
    "  lst,\n",
    "  schema=[\n",
    "    'fecha', 'sorteo', 'bolillas regulares', 'bolillas chauchamba', 'cc1', 'cc2',\n",
    "    'id', 'combo', 'b1', 'b2', 'b3', 'b4', 'b5', 'b6',\n",
    "    'str_b1', 'str_b2', 'str_b3', 'str_b4', 'str_b5', 'str_b6',\n",
    "    'post_str_b1', 'post_str_b2', 'post_str_b3', 'post_str_b4', 'post_str_b5', 'post_str_blast',\n",
    "    'is_rare_combination', 'reason',\n",
    "    \"jumps_map\", \"unijump\"\n",
    "  ],\n",
    "  schema_overrides={\n",
    "    'combo': pl.Array(pl.UInt8, 6),\n",
    "    'b1': pl.UInt8,\n",
    "    'b2': pl.UInt8,\n",
    "    'b3': pl.UInt8,\n",
    "    'b4': pl.UInt8,\n",
    "    'b5': pl.UInt8,\n",
    "    'b6': pl.UInt8,\n",
    "    'reason': pl.UInt8\n",
    "  },\n",
    "  orient='row'\n",
    ")\n",
    "\n",
    "TOTAL_LINES = len(dfRows)\n",
    "print(f'{TOTAL_LINES=}')\n",
    "display(dfRows.head(10))"
   ]
  },
  {
   "cell_type": "code",
   "execution_count": 5,
   "metadata": {},
   "outputs": [
    {
     "data": {
      "text/plain": [
       "3"
      ]
     },
     "execution_count": 5,
     "metadata": {},
     "output_type": "execute_result"
    }
   ],
   "source": [
    "dfRows.item(0, 'b2')"
   ]
  },
  {
   "cell_type": "code",
   "execution_count": 6,
   "metadata": {},
   "outputs": [],
   "source": [
    "import holoviews as hv\n",
    "def plot_post_col (col: str, post_col: str, test_value: str | None = None):\n",
    "  if test_value == None:\n",
    "    test_value = dfRows.item(0, col)\n",
    "    print(f'Setting {test_value=}')\n",
    "\n",
    "  df_viz = dfRows \\\n",
    "    .filter(\n",
    "      pl.col(col) == test_value,\n",
    "      pl.col(post_col).is_not_null()\n",
    "    ) \\\n",
    "    .group_by(\n",
    "      post_col\n",
    "    ).agg(pl.count(post_col).alias('count')) \\\n",
    "    .sort(\"count\", descending=True)\n",
    "  \n",
    "  \n",
    "  df_10_last = dfRows \\\n",
    "    .filter(\n",
    "      pl.col(col) == test_value,\n",
    "      pl.col(post_col).is_not_null()\n",
    "    ) \\\n",
    "    .head(10)\n",
    "  \n",
    "  # Agrega una columna que sea el porcentaje de la frecuencia relativa\n",
    "  total = df_viz['count'].sum()\n",
    "  df_viz = df_viz.with_columns(\n",
    "    ( (pl.col('count') / total) * 100 ).alias('percent')\n",
    "  )\n",
    "  mean_percent = df_viz['percent'].mean()\n",
    "  mean_percent_75 = mean_percent * 75 / 50\n",
    "  mean_percent_25 = mean_percent * 25 / 50\n",
    "\n",
    "  chart = df_viz.hvplot.bar(\n",
    "    x=post_col,\n",
    "    y='percent'\n",
    "  )\n",
    "\n",
    "  chart = chart * hv.HLine(mean_percent).opts(color='red')\n",
    "  chart = chart * hv.HLine(mean_percent_75).opts(color='blue')\n",
    "  chart = chart * hv.HLine(mean_percent_25).opts(color='blue')\n",
    "  \n",
    "  chart.opts(default_tools=[\"pan\"])\n",
    "\n",
    "  df_jumps_map = dfRows \\\n",
    "    .filter(\n",
    "      pl.col(col) == test_value,\n",
    "      pl.col(post_col).is_not_null()\n",
    "    ) \\\n",
    "    .group_by(\n",
    "      'jumps_map'\n",
    "    ).agg(pl.count('jumps_map').alias('count')) \\\n",
    "    .sort(\"count\", descending=True)\n",
    "  \n",
    "  df_unijump = dfRows \\\n",
    "    .filter(\n",
    "      pl.col(col) == test_value,\n",
    "      pl.col(post_col).is_not_null()\n",
    "    ) \\\n",
    "    .group_by(\n",
    "      'unijump'\n",
    "    ).agg(pl.count('unijump').alias('count')) \\\n",
    "    .sort(\"count\", descending=True)\n",
    "\n",
    "\n",
    "  print(f'df_viz FOR {col} = {test_value}')\n",
    "  display(df_viz)\n",
    "\n",
    "  display(chart)\n",
    "  \n",
    "\n",
    "  print(f'df_10_last FOR {col} = {test_value}')\n",
    "  last_results = list(set(df_10_last[post_col][0:3]))\n",
    "  print(f'Last 3 results {last_results=}')\n",
    "  display(df_10_last)\n",
    "  \n",
    "  print(f'df_jumps_map FOR {col} = {test_value}')\n",
    "  display(df_jumps_map)\n",
    "  # display(df_unijump)\n",
    "\n",
    "  print(f'df_unijump FOR {col} = {test_value}')\n",
    "  display(df_unijump)\n",
    "\n",
    "  lst_post_str_b = df_viz.filter(pl.col('percent') >= mean_percent)[post_col].to_list()\n",
    "  lst_jumps_map = df_jumps_map['jumps_map'].to_list() # Used to discard\n",
    "  \n",
    "  return lst_post_str_b, lst_jumps_map, last_results"
   ]
  },
  {
   "cell_type": "code",
   "execution_count": 7,
   "metadata": {},
   "outputs": [
    {
     "name": "stdout",
     "output_type": "stream",
     "text": [
      "Setting test_value='01'\n",
      "df_viz FOR str_b1 = 01\n"
     ]
    },
    {
     "data": {
      "text/html": [
       "<div><style>\n",
       ".dataframe > thead > tr,\n",
       ".dataframe > tbody > tr {\n",
       "  text-align: right;\n",
       "  white-space: pre-wrap;\n",
       "}\n",
       "</style>\n",
       "<small>shape: (23, 3)</small><table border=\"1\" class=\"dataframe\"><thead><tr><th>post_str_b1</th><th>count</th><th>percent</th></tr><tr><td>str</td><td>u32</td><td>f64</td></tr></thead><tbody><tr><td>&quot;01&quot;</td><td>330</td><td>42.253521</td></tr><tr><td>&quot;03&quot;</td><td>72</td><td>9.21895</td></tr><tr><td>&quot;02&quot;</td><td>64</td><td>8.194622</td></tr><tr><td>&quot;04&quot;</td><td>62</td><td>7.93854</td></tr><tr><td>&quot;05&quot;</td><td>42</td><td>5.377721</td></tr><tr><td>&hellip;</td><td>&hellip;</td><td>&hellip;</td></tr><tr><td>&quot;28&quot;</td><td>1</td><td>0.128041</td></tr><tr><td>&quot;17&quot;</td><td>1</td><td>0.128041</td></tr><tr><td>&quot;23&quot;</td><td>1</td><td>0.128041</td></tr><tr><td>&quot;26&quot;</td><td>1</td><td>0.128041</td></tr><tr><td>&quot;19&quot;</td><td>1</td><td>0.128041</td></tr></tbody></table></div>"
      ],
      "text/plain": [
       "shape: (23, 3)\n",
       "┌─────────────┬───────┬───────────┐\n",
       "│ post_str_b1 ┆ count ┆ percent   │\n",
       "│ ---         ┆ ---   ┆ ---       │\n",
       "│ str         ┆ u32   ┆ f64       │\n",
       "╞═════════════╪═══════╪═══════════╡\n",
       "│ 01          ┆ 330   ┆ 42.253521 │\n",
       "│ 03          ┆ 72    ┆ 9.21895   │\n",
       "│ 02          ┆ 64    ┆ 8.194622  │\n",
       "│ 04          ┆ 62    ┆ 7.93854   │\n",
       "│ 05          ┆ 42    ┆ 5.377721  │\n",
       "│ …           ┆ …     ┆ …         │\n",
       "│ 28          ┆ 1     ┆ 0.128041  │\n",
       "│ 17          ┆ 1     ┆ 0.128041  │\n",
       "│ 23          ┆ 1     ┆ 0.128041  │\n",
       "│ 26          ┆ 1     ┆ 0.128041  │\n",
       "│ 19          ┆ 1     ┆ 0.128041  │\n",
       "└─────────────┴───────┴───────────┘"
      ]
     },
     "metadata": {},
     "output_type": "display_data"
    },
    {
     "data": {},
     "metadata": {},
     "output_type": "display_data"
    },
    {
     "data": {
      "application/vnd.holoviews_exec.v0+json": "",
      "text/html": [
       "<div id='c2172956-97e0-460f-befc-ff1c7e6eab9a'>\n",
       "  <div id=\"ebbd2e36-497b-492d-acd6-becfc070ec2f\" data-root-id=\"c2172956-97e0-460f-befc-ff1c7e6eab9a\" style=\"display: contents;\"></div>\n",
       "</div>\n",
       "<script type=\"application/javascript\">(function(root) {\n",
       "  var docs_json = {\"e665539d-6b91-4153-b615-d731057f028b\":{\"version\":\"3.7.2\",\"title\":\"Bokeh Application\",\"roots\":[{\"type\":\"object\",\"name\":\"Row\",\"id\":\"c2172956-97e0-460f-befc-ff1c7e6eab9a\",\"attributes\":{\"name\":\"Row00286\",\"tags\":[\"embedded\"],\"stylesheets\":[\"\\n:host(.pn-loading):before, .pn-loading:before {\\n  background-color: #c3c3c3;\\n  mask-size: auto calc(min(50%, 400px));\\n  -webkit-mask-size: auto calc(min(50%, 400px));\\n}\",{\"type\":\"object\",\"name\":\"ImportedStyleSheet\",\"id\":\"99ca42c6-655f-4675-96e9-98640d9f7d19\",\"attributes\":{\"url\":\"https://cdn.holoviz.org/panel/1.6.2/dist/css/loading.css\"}},{\"type\":\"object\",\"name\":\"ImportedStyleSheet\",\"id\":\"47c971b5-ee4a-4927-9111-e65dbaa1f1cd\",\"attributes\":{\"url\":\"https://cdn.holoviz.org/panel/1.6.2/dist/css/listpanel.css\"}},{\"type\":\"object\",\"name\":\"ImportedStyleSheet\",\"id\":\"d772fb46-cef4-43be-a5ab-4dbc93edb85a\",\"attributes\":{\"url\":\"https://cdn.holoviz.org/panel/1.6.2/dist/bundled/theme/default.css\"}},{\"type\":\"object\",\"name\":\"ImportedStyleSheet\",\"id\":\"4078e9a0-0cad-4646-8b14-68f6d945ddd2\",\"attributes\":{\"url\":\"https://cdn.holoviz.org/panel/1.6.2/dist/bundled/theme/native.css\"}}],\"min_width\":700,\"margin\":0,\"sizing_mode\":\"stretch_width\",\"align\":\"start\",\"children\":[{\"type\":\"object\",\"name\":\"Spacer\",\"id\":\"7295001f-7e59-4302-a9ec-968bd1c65829\",\"attributes\":{\"name\":\"HSpacer00290\",\"stylesheets\":[\"\\n:host(.pn-loading):before, .pn-loading:before {\\n  background-color: #c3c3c3;\\n  mask-size: auto calc(min(50%, 400px));\\n  -webkit-mask-size: auto calc(min(50%, 400px));\\n}\",{\"id\":\"99ca42c6-655f-4675-96e9-98640d9f7d19\"},{\"id\":\"d772fb46-cef4-43be-a5ab-4dbc93edb85a\"},{\"id\":\"4078e9a0-0cad-4646-8b14-68f6d945ddd2\"}],\"margin\":0,\"sizing_mode\":\"stretch_width\",\"align\":\"start\"}},{\"type\":\"object\",\"name\":\"Figure\",\"id\":\"e917e254-34e1-457b-b36e-9d4d4f396aba\",\"attributes\":{\"width\":700,\"height\":300,\"margin\":[5,10],\"sizing_mode\":\"fixed\",\"align\":\"start\",\"x_range\":{\"type\":\"object\",\"name\":\"FactorRange\",\"id\":\"2eaa9eaf-2e85-44df-ac0c-8447eb5e6867\",\"attributes\":{\"name\":\"post_str_b1\",\"tags\":[[[\"post_str_b1\",null]],[]],\"factors\":[\"01\",\"03\",\"02\",\"04\",\"05\",\"06\",\"08\",\"07\",\"10\",\"11\",\"09\",\"13\",\"15\",\"12\",\"14\",\"18\",\"21\",\"16\",\"28\",\"17\",\"23\",\"26\",\"19\"]}},\"y_range\":{\"type\":\"object\",\"name\":\"Range1d\",\"id\":\"0f49ba7a-64c9-4384-ba68-b5b41265d42f\",\"attributes\":{\"name\":\"percent\",\"tags\":[[[\"percent\",null]],{\"type\":\"map\",\"entries\":[[\"invert_yaxis\",false],[\"autorange\",false]]}],\"end\":46.46606914212548,\"reset_start\":0.0,\"reset_end\":46.46606914212548}},\"x_scale\":{\"type\":\"object\",\"name\":\"CategoricalScale\",\"id\":\"78fec2a1-9120-4cf1-9b0d-57f4858b6a5e\"},\"y_scale\":{\"type\":\"object\",\"name\":\"LinearScale\",\"id\":\"6700a654-99bc-45fb-8e97-3a52983aae29\"},\"title\":{\"type\":\"object\",\"name\":\"Title\",\"id\":\"08c452d7-4c09-4aaf-86f0-3122f4231a17\",\"attributes\":{\"text_color\":\"black\",\"text_font_size\":\"12pt\"}},\"renderers\":[{\"type\":\"object\",\"name\":\"GlyphRenderer\",\"id\":\"c2e7f968-9800-48ed-b111-7da80014fc50\",\"attributes\":{\"data_source\":{\"type\":\"object\",\"name\":\"ColumnDataSource\",\"id\":\"14520963-3b63-4ca4-88e5-3cc1bb832e60\",\"attributes\":{\"selected\":{\"type\":\"object\",\"name\":\"Selection\",\"id\":\"c368cdf5-20fd-4799-8c29-bd8dc7e45b78\",\"attributes\":{\"indices\":[],\"line_indices\":[]}},\"selection_policy\":{\"type\":\"object\",\"name\":\"UnionRenderers\",\"id\":\"b3de4f4b-4cfc-4206-92a0-5cf34ecbb6f4\"},\"data\":{\"type\":\"map\",\"entries\":[[\"post_str_b1\",[\"01\",\"03\",\"02\",\"04\",\"05\",\"06\",\"08\",\"07\",\"10\",\"11\",\"09\",\"13\",\"15\",\"12\",\"14\",\"18\",\"21\",\"16\",\"28\",\"17\",\"23\",\"26\",\"19\"]],[\"percent\",{\"type\":\"ndarray\",\"array\":{\"type\":\"bytes\",\"data\":\"DiRaYXMgRUCm2Qg5GnAiQOndB4ilYyBA8z2PtxDBH0BCU4pCyYIVQIRXiZFUdhNAhFeJkVR2E0DzPY+3EMEPQCDRCpsDiQZAhFeJkVR2A0Cm2Qg5GnACQGPVCeqOfPQ/ptkIORpw8j+m2Qg5GnDyP2PVCeqOfOQ/3cwLTHiV2D/p3QeIpWPQP+ndB4ilY9A/6d0HiKVjwD/p3QeIpWPAP+ndB4ilY8A/6d0HiKVjwD/p3QeIpWPAPw==\"},\"shape\":[23],\"dtype\":\"float64\",\"order\":\"little\"}]]}}},\"view\":{\"type\":\"object\",\"name\":\"CDSView\",\"id\":\"a0de6bb6-c153-406b-9e06-cc4d04caad62\",\"attributes\":{\"filter\":{\"type\":\"object\",\"name\":\"AllIndices\",\"id\":\"f71b3508-93d5-4e4c-af02-36ad5b1917e9\"}}},\"glyph\":{\"type\":\"object\",\"name\":\"VBar\",\"id\":\"5a4e60fa-b6d9-48b9-98b9-cdafb9f2663c\",\"attributes\":{\"tags\":[\"apply_ranges\"],\"x\":{\"type\":\"field\",\"field\":\"post_str_b1\"},\"width\":{\"type\":\"value\",\"value\":0.8},\"top\":{\"type\":\"field\",\"field\":\"percent\"},\"fill_color\":{\"type\":\"value\",\"value\":\"#30a2da\"},\"hatch_color\":{\"type\":\"value\",\"value\":\"#30a2da\"}}},\"selection_glyph\":{\"type\":\"object\",\"name\":\"VBar\",\"id\":\"89c9b653-0f86-4413-af9a-753e88f2467c\",\"attributes\":{\"tags\":[\"apply_ranges\"],\"x\":{\"type\":\"field\",\"field\":\"post_str_b1\"},\"width\":{\"type\":\"value\",\"value\":0.8},\"bottom\":{\"type\":\"value\",\"value\":0},\"top\":{\"type\":\"field\",\"field\":\"percent\"},\"line_color\":{\"type\":\"value\",\"value\":\"black\"},\"line_alpha\":{\"type\":\"value\",\"value\":1.0},\"line_width\":{\"type\":\"value\",\"value\":1},\"line_join\":{\"type\":\"value\",\"value\":\"bevel\"},\"line_cap\":{\"type\":\"value\",\"value\":\"butt\"},\"line_dash\":{\"type\":\"value\",\"value\":[]},\"line_dash_offset\":{\"type\":\"value\",\"value\":0},\"fill_color\":{\"type\":\"value\",\"value\":\"#30a2da\"},\"fill_alpha\":{\"type\":\"value\",\"value\":1.0},\"hatch_color\":{\"type\":\"value\",\"value\":\"#30a2da\"},\"hatch_alpha\":{\"type\":\"value\",\"value\":1.0},\"hatch_scale\":{\"type\":\"value\",\"value\":12.0},\"hatch_pattern\":{\"type\":\"value\",\"value\":null},\"hatch_weight\":{\"type\":\"value\",\"value\":1.0}}},\"nonselection_glyph\":{\"type\":\"object\",\"name\":\"VBar\",\"id\":\"8c869645-24ff-4e1a-ad96-631cebd7389d\",\"attributes\":{\"tags\":[\"apply_ranges\"],\"x\":{\"type\":\"field\",\"field\":\"post_str_b1\"},\"width\":{\"type\":\"value\",\"value\":0.8},\"top\":{\"type\":\"field\",\"field\":\"percent\"},\"line_alpha\":{\"type\":\"value\",\"value\":0.1},\"fill_color\":{\"type\":\"value\",\"value\":\"#30a2da\"},\"fill_alpha\":{\"type\":\"value\",\"value\":0.1},\"hatch_color\":{\"type\":\"value\",\"value\":\"#30a2da\"},\"hatch_alpha\":{\"type\":\"value\",\"value\":0.1}}},\"muted_glyph\":{\"type\":\"object\",\"name\":\"VBar\",\"id\":\"1fbb3820-a10e-42c2-82cb-3d73b50d10e6\",\"attributes\":{\"tags\":[\"apply_ranges\"],\"x\":{\"type\":\"field\",\"field\":\"post_str_b1\"},\"width\":{\"type\":\"value\",\"value\":0.8},\"top\":{\"type\":\"field\",\"field\":\"percent\"},\"line_alpha\":{\"type\":\"value\",\"value\":0.2},\"fill_color\":{\"type\":\"value\",\"value\":\"#30a2da\"},\"fill_alpha\":{\"type\":\"value\",\"value\":0.2},\"hatch_color\":{\"type\":\"value\",\"value\":\"#30a2da\"},\"hatch_alpha\":{\"type\":\"value\",\"value\":0.2}}}}},{\"type\":\"object\",\"name\":\"Span\",\"id\":\"46db2a50-a9f9-49c8-8a27-7f4f42467bc4\",\"attributes\":{\"level\":\"glyph\",\"location\":4.347826086956522,\"line_color\":\"red\",\"line_width\":3}},{\"type\":\"object\",\"name\":\"Span\",\"id\":\"ef7b20a7-bb6e-46a6-b149-4d0df903f252\",\"attributes\":{\"level\":\"glyph\",\"location\":6.521739130434784,\"line_color\":\"blue\",\"line_width\":3}},{\"type\":\"object\",\"name\":\"Span\",\"id\":\"5eb27dfa-aef9-456d-a681-607584d657f0\",\"attributes\":{\"level\":\"glyph\",\"location\":2.173913043478261,\"line_color\":\"blue\",\"line_width\":3}}],\"toolbar\":{\"type\":\"object\",\"name\":\"Toolbar\",\"id\":\"771985dd-7549-4faf-81bd-49f0b918dd63\",\"attributes\":{\"tools\":[{\"type\":\"object\",\"name\":\"WheelZoomTool\",\"id\":\"ebc03b84-9f01-4d52-9f0a-d12382321e5c\",\"attributes\":{\"tags\":[\"hv_created\"],\"renderers\":\"auto\",\"zoom_together\":\"none\"}},{\"type\":\"object\",\"name\":\"HoverTool\",\"id\":\"bbbaff7f-7d6e-4ef6-9d19-ab8d5ecf5df0\",\"attributes\":{\"tags\":[\"hv_created\"],\"renderers\":[{\"id\":\"c2e7f968-9800-48ed-b111-7da80014fc50\"}],\"tooltips\":[[\"post_str_b1\",\"@{post_str_b1}\"],[\"percent\",\"@{percent}\"]]}},{\"type\":\"object\",\"name\":\"SaveTool\",\"id\":\"93944e97-f59d-4a32-9f6b-154c53db3fb5\"},{\"type\":\"object\",\"name\":\"PanTool\",\"id\":\"ed246e07-f8dd-41db-93bb-7ff6df660735\"},{\"type\":\"object\",\"name\":\"BoxZoomTool\",\"id\":\"ccf70777-dccb-47c4-8b40-5609034020ab\",\"attributes\":{\"dimensions\":\"both\",\"overlay\":{\"type\":\"object\",\"name\":\"BoxAnnotation\",\"id\":\"a8483413-f258-4b89-b35d-b6b04e76303a\",\"attributes\":{\"syncable\":false,\"line_color\":\"black\",\"line_alpha\":1.0,\"line_width\":2,\"line_dash\":[4,4],\"fill_color\":\"lightgrey\",\"fill_alpha\":0.5,\"level\":\"overlay\",\"visible\":false,\"left\":{\"type\":\"number\",\"value\":\"nan\"},\"right\":{\"type\":\"number\",\"value\":\"nan\"},\"top\":{\"type\":\"number\",\"value\":\"nan\"},\"bottom\":{\"type\":\"number\",\"value\":\"nan\"},\"left_units\":\"canvas\",\"right_units\":\"canvas\",\"top_units\":\"canvas\",\"bottom_units\":\"canvas\",\"handles\":{\"type\":\"object\",\"name\":\"BoxInteractionHandles\",\"id\":\"402fd01f-fba8-49f1-b166-a5cafed96a91\",\"attributes\":{\"all\":{\"type\":\"object\",\"name\":\"AreaVisuals\",\"id\":\"1bb52adb-3bc7-4991-a0aa-9daf7fea5e61\",\"attributes\":{\"fill_color\":\"white\",\"hover_fill_color\":\"lightgray\"}}}}}}}},{\"type\":\"object\",\"name\":\"ResetTool\",\"id\":\"085a2098-823c-4585-ae9d-c813214c6be4\"}],\"active_drag\":{\"id\":\"ed246e07-f8dd-41db-93bb-7ff6df660735\"}}},\"left\":[{\"type\":\"object\",\"name\":\"LinearAxis\",\"id\":\"c32d6237-3e96-4bf0-a707-00c1b060918a\",\"attributes\":{\"ticker\":{\"type\":\"object\",\"name\":\"BasicTicker\",\"id\":\"113e1fec-f131-4546-83b0-2e75988912b8\",\"attributes\":{\"mantissas\":[1,2,5]}},\"formatter\":{\"type\":\"object\",\"name\":\"BasicTickFormatter\",\"id\":\"840aa6e2-fae6-4038-aac2-a7793c90a11f\"},\"axis_label\":\"percent\",\"major_label_policy\":{\"type\":\"object\",\"name\":\"AllLabels\",\"id\":\"6fcabe8e-3f51-4fd1-bf85-bfa6bb4d708f\"}}}],\"below\":[{\"type\":\"object\",\"name\":\"CategoricalAxis\",\"id\":\"c6000b22-718e-4e5c-a9c3-b5525dc0dafd\",\"attributes\":{\"ticker\":{\"type\":\"object\",\"name\":\"CategoricalTicker\",\"id\":\"4b2cd10a-671f-4f49-981b-71ee6cc69d53\"},\"formatter\":{\"type\":\"object\",\"name\":\"CategoricalTickFormatter\",\"id\":\"57a6d49f-981b-43e5-aaab-4e6cf47494a0\"},\"axis_label\":\"post_str_b1\",\"major_label_policy\":{\"type\":\"object\",\"name\":\"AllLabels\",\"id\":\"7287c2e1-54cf-4bec-ae8b-8fd4820b035b\"}}}],\"center\":[{\"type\":\"object\",\"name\":\"Grid\",\"id\":\"09b78ab5-02b2-4d7f-9ea5-528688671263\",\"attributes\":{\"axis\":{\"id\":\"c6000b22-718e-4e5c-a9c3-b5525dc0dafd\"},\"grid_line_color\":null}},{\"type\":\"object\",\"name\":\"Grid\",\"id\":\"73f301b4-42df-4669-bfa8-ab681ea5499b\",\"attributes\":{\"dimension\":1,\"axis\":{\"id\":\"c32d6237-3e96-4bf0-a707-00c1b060918a\"},\"grid_line_color\":null}}],\"min_border_top\":10,\"min_border_bottom\":10,\"min_border_left\":10,\"min_border_right\":10,\"output_backend\":\"webgl\"}},{\"type\":\"object\",\"name\":\"Spacer\",\"id\":\"ad39a1ef-e768-47f3-a74f-c75697bd4cc6\",\"attributes\":{\"name\":\"HSpacer00291\",\"stylesheets\":[\"\\n:host(.pn-loading):before, .pn-loading:before {\\n  background-color: #c3c3c3;\\n  mask-size: auto calc(min(50%, 400px));\\n  -webkit-mask-size: auto calc(min(50%, 400px));\\n}\",{\"id\":\"99ca42c6-655f-4675-96e9-98640d9f7d19\"},{\"id\":\"d772fb46-cef4-43be-a5ab-4dbc93edb85a\"},{\"id\":\"4078e9a0-0cad-4646-8b14-68f6d945ddd2\"}],\"margin\":0,\"sizing_mode\":\"stretch_width\",\"align\":\"start\"}}]}}],\"defs\":[{\"type\":\"model\",\"name\":\"ReactiveHTML1\"},{\"type\":\"model\",\"name\":\"FlexBox1\",\"properties\":[{\"name\":\"align_content\",\"kind\":\"Any\",\"default\":\"flex-start\"},{\"name\":\"align_items\",\"kind\":\"Any\",\"default\":\"flex-start\"},{\"name\":\"flex_direction\",\"kind\":\"Any\",\"default\":\"row\"},{\"name\":\"flex_wrap\",\"kind\":\"Any\",\"default\":\"wrap\"},{\"name\":\"gap\",\"kind\":\"Any\",\"default\":\"\"},{\"name\":\"justify_content\",\"kind\":\"Any\",\"default\":\"flex-start\"}]},{\"type\":\"model\",\"name\":\"FloatPanel1\",\"properties\":[{\"name\":\"config\",\"kind\":\"Any\",\"default\":{\"type\":\"map\"}},{\"name\":\"contained\",\"kind\":\"Any\",\"default\":true},{\"name\":\"position\",\"kind\":\"Any\",\"default\":\"right-top\"},{\"name\":\"offsetx\",\"kind\":\"Any\",\"default\":null},{\"name\":\"offsety\",\"kind\":\"Any\",\"default\":null},{\"name\":\"theme\",\"kind\":\"Any\",\"default\":\"primary\"},{\"name\":\"status\",\"kind\":\"Any\",\"default\":\"normalized\"}]},{\"type\":\"model\",\"name\":\"GridStack1\",\"properties\":[{\"name\":\"ncols\",\"kind\":\"Any\",\"default\":null},{\"name\":\"nrows\",\"kind\":\"Any\",\"default\":null},{\"name\":\"allow_resize\",\"kind\":\"Any\",\"default\":true},{\"name\":\"allow_drag\",\"kind\":\"Any\",\"default\":true},{\"name\":\"state\",\"kind\":\"Any\",\"default\":[]}]},{\"type\":\"model\",\"name\":\"drag1\",\"properties\":[{\"name\":\"slider_width\",\"kind\":\"Any\",\"default\":5},{\"name\":\"slider_color\",\"kind\":\"Any\",\"default\":\"black\"},{\"name\":\"value\",\"kind\":\"Any\",\"default\":50}]},{\"type\":\"model\",\"name\":\"click1\",\"properties\":[{\"name\":\"terminal_output\",\"kind\":\"Any\",\"default\":\"\"},{\"name\":\"debug_name\",\"kind\":\"Any\",\"default\":\"\"},{\"name\":\"clears\",\"kind\":\"Any\",\"default\":0}]},{\"type\":\"model\",\"name\":\"FastWrapper1\",\"properties\":[{\"name\":\"object\",\"kind\":\"Any\",\"default\":null},{\"name\":\"style\",\"kind\":\"Any\",\"default\":null}]},{\"type\":\"model\",\"name\":\"NotificationArea1\",\"properties\":[{\"name\":\"js_events\",\"kind\":\"Any\",\"default\":{\"type\":\"map\"}},{\"name\":\"max_notifications\",\"kind\":\"Any\",\"default\":5},{\"name\":\"notifications\",\"kind\":\"Any\",\"default\":[]},{\"name\":\"position\",\"kind\":\"Any\",\"default\":\"bottom-right\"},{\"name\":\"_clear\",\"kind\":\"Any\",\"default\":0},{\"name\":\"types\",\"kind\":\"Any\",\"default\":[{\"type\":\"map\",\"entries\":[[\"type\",\"warning\"],[\"background\",\"#ffc107\"],[\"icon\",{\"type\":\"map\",\"entries\":[[\"className\",\"fas fa-exclamation-triangle\"],[\"tagName\",\"i\"],[\"color\",\"white\"]]}]]},{\"type\":\"map\",\"entries\":[[\"type\",\"info\"],[\"background\",\"#007bff\"],[\"icon\",{\"type\":\"map\",\"entries\":[[\"className\",\"fas fa-info-circle\"],[\"tagName\",\"i\"],[\"color\",\"white\"]]}]]}]}]},{\"type\":\"model\",\"name\":\"Notification\",\"properties\":[{\"name\":\"background\",\"kind\":\"Any\",\"default\":null},{\"name\":\"duration\",\"kind\":\"Any\",\"default\":3000},{\"name\":\"icon\",\"kind\":\"Any\",\"default\":null},{\"name\":\"message\",\"kind\":\"Any\",\"default\":\"\"},{\"name\":\"notification_type\",\"kind\":\"Any\",\"default\":null},{\"name\":\"_rendered\",\"kind\":\"Any\",\"default\":false},{\"name\":\"_destroyed\",\"kind\":\"Any\",\"default\":false}]},{\"type\":\"model\",\"name\":\"TemplateActions1\",\"properties\":[{\"name\":\"open_modal\",\"kind\":\"Any\",\"default\":0},{\"name\":\"close_modal\",\"kind\":\"Any\",\"default\":0}]},{\"type\":\"model\",\"name\":\"BootstrapTemplateActions1\",\"properties\":[{\"name\":\"open_modal\",\"kind\":\"Any\",\"default\":0},{\"name\":\"close_modal\",\"kind\":\"Any\",\"default\":0}]},{\"type\":\"model\",\"name\":\"TemplateEditor1\",\"properties\":[{\"name\":\"layout\",\"kind\":\"Any\",\"default\":[]}]},{\"type\":\"model\",\"name\":\"MaterialTemplateActions1\",\"properties\":[{\"name\":\"open_modal\",\"kind\":\"Any\",\"default\":0},{\"name\":\"close_modal\",\"kind\":\"Any\",\"default\":0}]},{\"type\":\"model\",\"name\":\"ReactiveESM1\",\"properties\":[{\"name\":\"esm_constants\",\"kind\":\"Any\",\"default\":{\"type\":\"map\"}}]},{\"type\":\"model\",\"name\":\"JSComponent1\",\"properties\":[{\"name\":\"esm_constants\",\"kind\":\"Any\",\"default\":{\"type\":\"map\"}}]},{\"type\":\"model\",\"name\":\"ReactComponent1\",\"properties\":[{\"name\":\"esm_constants\",\"kind\":\"Any\",\"default\":{\"type\":\"map\"}}]},{\"type\":\"model\",\"name\":\"AnyWidgetComponent1\",\"properties\":[{\"name\":\"esm_constants\",\"kind\":\"Any\",\"default\":{\"type\":\"map\"}}]},{\"type\":\"model\",\"name\":\"request_value1\",\"properties\":[{\"name\":\"fill\",\"kind\":\"Any\",\"default\":\"none\"},{\"name\":\"_synced\",\"kind\":\"Any\",\"default\":null},{\"name\":\"_request_sync\",\"kind\":\"Any\",\"default\":0}]}]}};\n",
       "  var render_items = [{\"docid\":\"e665539d-6b91-4153-b615-d731057f028b\",\"roots\":{\"c2172956-97e0-460f-befc-ff1c7e6eab9a\":\"ebbd2e36-497b-492d-acd6-becfc070ec2f\"},\"root_ids\":[\"c2172956-97e0-460f-befc-ff1c7e6eab9a\"]}];\n",
       "  var docs = Object.values(docs_json)\n",
       "  if (!docs) {\n",
       "    return\n",
       "  }\n",
       "  const py_version = docs[0].version.replace('rc', '-rc.').replace('.dev', '-dev.')\n",
       "  async function embed_document(root) {\n",
       "    var Bokeh = get_bokeh(root)\n",
       "    await Bokeh.embed.embed_items_notebook(docs_json, render_items);\n",
       "    for (const render_item of render_items) {\n",
       "      for (const root_id of render_item.root_ids) {\n",
       "\tconst id_el = document.getElementById(root_id)\n",
       "\tif (id_el.children.length && id_el.children[0].hasAttribute('data-root-id')) {\n",
       "\t  const root_el = id_el.children[0]\n",
       "\t  root_el.id = root_el.id + '-rendered'\n",
       "\t  for (const child of root_el.children) {\n",
       "            // Ensure JupyterLab does not capture keyboard shortcuts\n",
       "            // see: https://jupyterlab.readthedocs.io/en/4.1.x/extension/notebook.html#keyboard-interaction-model\n",
       "\t    child.setAttribute('data-lm-suppress-shortcuts', 'true')\n",
       "\t  }\n",
       "\t}\n",
       "      }\n",
       "    }\n",
       "  }\n",
       "  function get_bokeh(root) {\n",
       "    if (root.Bokeh === undefined) {\n",
       "      return null\n",
       "    } else if (root.Bokeh.version !== py_version) {\n",
       "      if (root.Bokeh.versions === undefined || !root.Bokeh.versions.has(py_version)) {\n",
       "\treturn null\n",
       "      }\n",
       "      return root.Bokeh.versions.get(py_version);\n",
       "    } else if (root.Bokeh.version === py_version) {\n",
       "      return root.Bokeh\n",
       "    }\n",
       "    return null\n",
       "  }\n",
       "  function is_loaded(root) {\n",
       "    var Bokeh = get_bokeh(root)\n",
       "    return (Bokeh != null && Bokeh.Panel !== undefined)\n",
       "  }\n",
       "  if (is_loaded(root)) {\n",
       "    embed_document(root);\n",
       "  } else {\n",
       "    var attempts = 0;\n",
       "    var timer = setInterval(function(root) {\n",
       "      if (is_loaded(root)) {\n",
       "        clearInterval(timer);\n",
       "        embed_document(root);\n",
       "      } else if (document.readyState == \"complete\") {\n",
       "        attempts++;\n",
       "        if (attempts > 200) {\n",
       "          clearInterval(timer);\n",
       "\t  var Bokeh = get_bokeh(root)\n",
       "\t  if (Bokeh == null || Bokeh.Panel == null) {\n",
       "            console.warn(\"Panel: ERROR: Unable to run Panel code because Bokeh or Panel library is missing\");\n",
       "\t  } else {\n",
       "\t    console.warn(\"Panel: WARNING: Attempting to render but not all required libraries could be resolved.\")\n",
       "\t    embed_document(root)\n",
       "\t  }\n",
       "        }\n",
       "      }\n",
       "    }, 25, root)\n",
       "  }\n",
       "})(window);</script>"
      ],
      "text/plain": [
       ":Overlay\n",
       "   .Bars.I    :Bars   [post_str_b1]   (percent)\n",
       "   .HLine.I   :HLine   [x,y]\n",
       "   .HLine.II  :HLine   [x,y]\n",
       "   .HLine.III :HLine   [x,y]"
      ]
     },
     "metadata": {
      "application/vnd.holoviews_exec.v0+json": {
       "id": "c2172956-97e0-460f-befc-ff1c7e6eab9a"
      }
     },
     "output_type": "display_data"
    },
    {
     "name": "stdout",
     "output_type": "stream",
     "text": [
      "df_10_last FOR str_b1 = 01\n",
      "Last 3 results last_results=['03', '01']\n"
     ]
    },
    {
     "data": {
      "text/html": [
       "<div><style>\n",
       ".dataframe > thead > tr,\n",
       ".dataframe > tbody > tr {\n",
       "  text-align: right;\n",
       "  white-space: pre-wrap;\n",
       "}\n",
       "</style>\n",
       "<small>shape: (10, 30)</small><table border=\"1\" class=\"dataframe\"><thead><tr><th>fecha</th><th>sorteo</th><th>bolillas regulares</th><th>bolillas chauchamba</th><th>cc1</th><th>cc2</th><th>id</th><th>combo</th><th>b1</th><th>b2</th><th>b3</th><th>b4</th><th>b5</th><th>b6</th><th>str_b1</th><th>str_b2</th><th>str_b3</th><th>str_b4</th><th>str_b5</th><th>str_b6</th><th>post_str_b1</th><th>post_str_b2</th><th>post_str_b3</th><th>post_str_b4</th><th>post_str_b5</th><th>post_str_blast</th><th>is_rare_combination</th><th>reason</th><th>jumps_map</th><th>unijump</th></tr><tr><td>str</td><td>str</td><td>str</td><td>str</td><td>str</td><td>str</td><td>str</td><td>array[u8, 6]</td><td>u8</td><td>u8</td><td>u8</td><td>u8</td><td>u8</td><td>u8</td><td>str</td><td>str</td><td>str</td><td>str</td><td>str</td><td>str</td><td>str</td><td>str</td><td>str</td><td>str</td><td>str</td><td>str</td><td>bool</td><td>u8</td><td>str</td><td>i64</td></tr></thead><tbody><tr><td>&quot;19/04/2025&quot;</td><td>&quot;1797&quot;</td><td>&quot;40 34 04 03 01 22&quot;</td><td>&quot;06 02 22 09 04 21&quot;</td><td>&quot;&quot;</td><td>&quot;&quot;</td><td>&quot;010304223440&quot;</td><td>[1, 3, … 40]</td><td>1</td><td>3</td><td>4</td><td>22</td><td>34</td><td>40</td><td>&quot;01&quot;</td><td>&quot;03&quot;</td><td>&quot;04&quot;</td><td>&quot;22&quot;</td><td>&quot;34&quot;</td><td>&quot;40&quot;</td><td>&quot;01&quot;</td><td>&quot;03&quot;</td><td>&quot;04&quot;</td><td>&quot;22&quot;</td><td>&quot;34&quot;</td><td>&quot;40&quot;</td><td>false</td><td>0</td><td>&quot;02_01_18_12_06&quot;</td><td>64</td></tr><tr><td>&quot;10/04/2025&quot;</td><td>&quot;1793&quot;</td><td>&quot;01 36 20 18 22 02&quot;</td><td>&quot;33 17 29 39 30 36&quot;</td><td>&quot;&quot;</td><td>&quot;&quot;</td><td>&quot;010218202236&quot;</td><td>[1, 2, … 36]</td><td>1</td><td>2</td><td>18</td><td>20</td><td>22</td><td>36</td><td>&quot;01&quot;</td><td>&quot;02&quot;</td><td>&quot;18&quot;</td><td>&quot;20&quot;</td><td>&quot;22&quot;</td><td>&quot;36&quot;</td><td>&quot;03&quot;</td><td>&quot;10&quot;</td><td>&quot;11&quot;</td><td>&quot;19&quot;</td><td>&quot;26&quot;</td><td>&quot;32&quot;</td><td>true</td><td>8</td><td>&quot;01_16_02_02_14&quot;</td><td>-45</td></tr><tr><td>&quot;10/04/2025&quot;</td><td>&quot;1793&quot;</td><td>&quot;01 36 20 18 22 02&quot;</td><td>&quot;33 17 29 39 30 36&quot;</td><td>&quot;&quot;</td><td>&quot;&quot;</td><td>&quot;010218202236&quot;</td><td>[1, 2, … 36]</td><td>1</td><td>2</td><td>18</td><td>20</td><td>22</td><td>36</td><td>&quot;01&quot;</td><td>&quot;02&quot;</td><td>&quot;18&quot;</td><td>&quot;20&quot;</td><td>&quot;22&quot;</td><td>&quot;36&quot;</td><td>&quot;01&quot;</td><td>&quot;02&quot;</td><td>&quot;18&quot;</td><td>&quot;20&quot;</td><td>&quot;22&quot;</td><td>&quot;36&quot;</td><td>true</td><td>8</td><td>&quot;01_16_02_02_14&quot;</td><td>-45</td></tr><tr><td>&quot;22/02/2025&quot;</td><td>&quot;1773&quot;</td><td>&quot;25 15 26 01 07 18&quot;</td><td>&quot;13 38 06 37 18 20&quot;</td><td>&quot;&quot;</td><td>&quot;&quot;</td><td>&quot;010715182526&quot;</td><td>[1, 7, … 26]</td><td>1</td><td>7</td><td>15</td><td>18</td><td>25</td><td>26</td><td>&quot;01&quot;</td><td>&quot;07&quot;</td><td>&quot;15&quot;</td><td>&quot;18&quot;</td><td>&quot;25&quot;</td><td>&quot;26&quot;</td><td>&quot;03&quot;</td><td>&quot;06&quot;</td><td>&quot;26&quot;</td><td>&quot;31&quot;</td><td>&quot;32&quot;</td><td>&quot;40&quot;</td><td>true</td><td>16</td><td>&quot;06_08_03_07_01&quot;</td><td>-35</td></tr><tr><td>&quot;22/02/2025&quot;</td><td>&quot;1773&quot;</td><td>&quot;25 15 26 01 07 18&quot;</td><td>&quot;13 38 06 37 18 20&quot;</td><td>&quot;&quot;</td><td>&quot;&quot;</td><td>&quot;010715182526&quot;</td><td>[1, 7, … 26]</td><td>1</td><td>7</td><td>15</td><td>18</td><td>25</td><td>26</td><td>&quot;01&quot;</td><td>&quot;07&quot;</td><td>&quot;15&quot;</td><td>&quot;18&quot;</td><td>&quot;25&quot;</td><td>&quot;26&quot;</td><td>&quot;01&quot;</td><td>&quot;07&quot;</td><td>&quot;15&quot;</td><td>&quot;18&quot;</td><td>&quot;25&quot;</td><td>&quot;26&quot;</td><td>true</td><td>16</td><td>&quot;06_08_03_07_01&quot;</td><td>-35</td></tr><tr><td>&quot;28/01/2025&quot;</td><td>&quot;1762&quot;</td><td>&quot;39 24 01 06 14 18&quot;</td><td>&quot;20 13 22 37 07 11&quot;</td><td>&quot;&quot;</td><td>&quot;&quot;</td><td>&quot;010614182439&quot;</td><td>[1, 6, … 39]</td><td>1</td><td>6</td><td>14</td><td>18</td><td>24</td><td>39</td><td>&quot;01&quot;</td><td>&quot;06&quot;</td><td>&quot;14&quot;</td><td>&quot;18&quot;</td><td>&quot;24&quot;</td><td>&quot;39&quot;</td><td>&quot;04&quot;</td><td>&quot;20&quot;</td><td>&quot;31&quot;</td><td>&quot;33&quot;</td><td>&quot;36&quot;</td><td>&quot;38&quot;</td><td>false</td><td>0</td><td>&quot;05_08_04_06_15&quot;</td><td>-12</td></tr><tr><td>&quot;28/01/2025&quot;</td><td>&quot;1762&quot;</td><td>&quot;39 24 01 06 14 18&quot;</td><td>&quot;20 13 22 37 07 11&quot;</td><td>&quot;&quot;</td><td>&quot;&quot;</td><td>&quot;010614182439&quot;</td><td>[1, 6, … 39]</td><td>1</td><td>6</td><td>14</td><td>18</td><td>24</td><td>39</td><td>&quot;01&quot;</td><td>&quot;06&quot;</td><td>&quot;14&quot;</td><td>&quot;18&quot;</td><td>&quot;24&quot;</td><td>&quot;39&quot;</td><td>&quot;01&quot;</td><td>&quot;06&quot;</td><td>&quot;14&quot;</td><td>&quot;18&quot;</td><td>&quot;24&quot;</td><td>&quot;39&quot;</td><td>false</td><td>0</td><td>&quot;05_08_04_06_15&quot;</td><td>-12</td></tr><tr><td>&quot;02/01/2025&quot;</td><td>&quot;1751&quot;</td><td>&quot;10 34 24 16 35 01&quot;</td><td>&quot;11 03 18 29 15 28&quot;</td><td>&quot;&quot;</td><td>&quot;&quot;</td><td>&quot;011016243435&quot;</td><td>[1, 10, … 35]</td><td>1</td><td>10</td><td>16</td><td>24</td><td>34</td><td>35</td><td>&quot;01&quot;</td><td>&quot;10&quot;</td><td>&quot;16&quot;</td><td>&quot;24&quot;</td><td>&quot;34&quot;</td><td>&quot;35&quot;</td><td>&quot;08&quot;</td><td>&quot;12&quot;</td><td>&quot;19&quot;</td><td>&quot;27&quot;</td><td>&quot;37&quot;</td><td>&quot;39&quot;</td><td>false</td><td>0</td><td>&quot;09_06_08_10_01&quot;</td><td>-6</td></tr><tr><td>&quot;02/01/2025&quot;</td><td>&quot;1751&quot;</td><td>&quot;10 34 24 16 35 01&quot;</td><td>&quot;11 03 18 29 15 28&quot;</td><td>&quot;&quot;</td><td>&quot;&quot;</td><td>&quot;011016243435&quot;</td><td>[1, 10, … 35]</td><td>1</td><td>10</td><td>16</td><td>24</td><td>34</td><td>35</td><td>&quot;01&quot;</td><td>&quot;10&quot;</td><td>&quot;16&quot;</td><td>&quot;24&quot;</td><td>&quot;34&quot;</td><td>&quot;35&quot;</td><td>&quot;01&quot;</td><td>&quot;10&quot;</td><td>&quot;16&quot;</td><td>&quot;24&quot;</td><td>&quot;34&quot;</td><td>&quot;35&quot;</td><td>false</td><td>0</td><td>&quot;09_06_08_10_01&quot;</td><td>-6</td></tr><tr><td>&quot;24/12/2024&quot;</td><td>&quot;1747&quot;</td><td>&quot;28 19 01 34 29 33&quot;</td><td>&quot;16 10 24 04 40 32&quot;</td><td>&quot;&quot;</td><td>&quot;&quot;</td><td>&quot;011928293334&quot;</td><td>[1, 19, … 34]</td><td>1</td><td>19</td><td>28</td><td>29</td><td>33</td><td>34</td><td>&quot;01&quot;</td><td>&quot;19&quot;</td><td>&quot;28&quot;</td><td>&quot;29&quot;</td><td>&quot;33&quot;</td><td>&quot;34&quot;</td><td>&quot;03&quot;</td><td>&quot;08&quot;</td><td>&quot;10&quot;</td><td>&quot;12&quot;</td><td>&quot;34&quot;</td><td>&quot;38&quot;</td><td>false</td><td>0</td><td>&quot;18_09_01_04_01&quot;</td><td>-27</td></tr></tbody></table></div>"
      ],
      "text/plain": [
       "shape: (10, 30)\n",
       "┌────────────┬────────┬─────────────┬─────────────┬───┬────────────┬────────┬────────────┬─────────┐\n",
       "│ fecha      ┆ sorteo ┆ bolillas    ┆ bolillas    ┆ … ┆ is_rare_co ┆ reason ┆ jumps_map  ┆ unijump │\n",
       "│ ---        ┆ ---    ┆ regulares   ┆ chauchamba  ┆   ┆ mbination  ┆ ---    ┆ ---        ┆ ---     │\n",
       "│ str        ┆ str    ┆ ---         ┆ ---         ┆   ┆ ---        ┆ u8     ┆ str        ┆ i64     │\n",
       "│            ┆        ┆ str         ┆ str         ┆   ┆ bool       ┆        ┆            ┆         │\n",
       "╞════════════╪════════╪═════════════╪═════════════╪═══╪════════════╪════════╪════════════╪═════════╡\n",
       "│ 19/04/2025 ┆ 1797   ┆ 40 34 04 03 ┆ 06 02 22 09 ┆ … ┆ false      ┆ 0      ┆ 02_01_18_1 ┆ 64      │\n",
       "│            ┆        ┆ 01 22       ┆ 04 21       ┆   ┆            ┆        ┆ 2_06       ┆         │\n",
       "│ 10/04/2025 ┆ 1793   ┆ 01 36 20 18 ┆ 33 17 29 39 ┆ … ┆ true       ┆ 8      ┆ 01_16_02_0 ┆ -45     │\n",
       "│            ┆        ┆ 22 02       ┆ 30 36       ┆   ┆            ┆        ┆ 2_14       ┆         │\n",
       "│ 10/04/2025 ┆ 1793   ┆ 01 36 20 18 ┆ 33 17 29 39 ┆ … ┆ true       ┆ 8      ┆ 01_16_02_0 ┆ -45     │\n",
       "│            ┆        ┆ 22 02       ┆ 30 36       ┆   ┆            ┆        ┆ 2_14       ┆         │\n",
       "│ 22/02/2025 ┆ 1773   ┆ 25 15 26 01 ┆ 13 38 06 37 ┆ … ┆ true       ┆ 16     ┆ 06_08_03_0 ┆ -35     │\n",
       "│            ┆        ┆ 07 18       ┆ 18 20       ┆   ┆            ┆        ┆ 7_01       ┆         │\n",
       "│ 22/02/2025 ┆ 1773   ┆ 25 15 26 01 ┆ 13 38 06 37 ┆ … ┆ true       ┆ 16     ┆ 06_08_03_0 ┆ -35     │\n",
       "│            ┆        ┆ 07 18       ┆ 18 20       ┆   ┆            ┆        ┆ 7_01       ┆         │\n",
       "│ 28/01/2025 ┆ 1762   ┆ 39 24 01 06 ┆ 20 13 22 37 ┆ … ┆ false      ┆ 0      ┆ 05_08_04_0 ┆ -12     │\n",
       "│            ┆        ┆ 14 18       ┆ 07 11       ┆   ┆            ┆        ┆ 6_15       ┆         │\n",
       "│ 28/01/2025 ┆ 1762   ┆ 39 24 01 06 ┆ 20 13 22 37 ┆ … ┆ false      ┆ 0      ┆ 05_08_04_0 ┆ -12     │\n",
       "│            ┆        ┆ 14 18       ┆ 07 11       ┆   ┆            ┆        ┆ 6_15       ┆         │\n",
       "│ 02/01/2025 ┆ 1751   ┆ 10 34 24 16 ┆ 11 03 18 29 ┆ … ┆ false      ┆ 0      ┆ 09_06_08_1 ┆ -6      │\n",
       "│            ┆        ┆ 35 01       ┆ 15 28       ┆   ┆            ┆        ┆ 0_01       ┆         │\n",
       "│ 02/01/2025 ┆ 1751   ┆ 10 34 24 16 ┆ 11 03 18 29 ┆ … ┆ false      ┆ 0      ┆ 09_06_08_1 ┆ -6      │\n",
       "│            ┆        ┆ 35 01       ┆ 15 28       ┆   ┆            ┆        ┆ 0_01       ┆         │\n",
       "│ 24/12/2024 ┆ 1747   ┆ 28 19 01 34 ┆ 16 10 24 04 ┆ … ┆ false      ┆ 0      ┆ 18_09_01_0 ┆ -27     │\n",
       "│            ┆        ┆ 29 33       ┆ 40 32       ┆   ┆            ┆        ┆ 4_01       ┆         │\n",
       "└────────────┴────────┴─────────────┴─────────────┴───┴────────────┴────────┴────────────┴─────────┘"
      ]
     },
     "metadata": {},
     "output_type": "display_data"
    },
    {
     "name": "stdout",
     "output_type": "stream",
     "text": [
      "df_jumps_map FOR str_b1 = 01\n"
     ]
    },
    {
     "data": {
      "text/html": [
       "<div><style>\n",
       ".dataframe > thead > tr,\n",
       ".dataframe > tbody > tr {\n",
       "  text-align: right;\n",
       "  white-space: pre-wrap;\n",
       "}\n",
       "</style>\n",
       "<small>shape: (533, 2)</small><table border=\"1\" class=\"dataframe\"><thead><tr><th>jumps_map</th><th>count</th></tr><tr><td>str</td><td>u32</td></tr></thead><tbody><tr><td>&quot;08_09_09_08_01&quot;</td><td>2</td></tr><tr><td>&quot;09_04_13_03_09&quot;</td><td>2</td></tr><tr><td>&quot;04_07_02_23_01&quot;</td><td>2</td></tr><tr><td>&quot;11_06_11_01_10&quot;</td><td>2</td></tr><tr><td>&quot;06_11_11_03_04&quot;</td><td>2</td></tr><tr><td>&hellip;</td><td>&hellip;</td></tr><tr><td>&quot;06_09_16_01_06&quot;</td><td>1</td></tr><tr><td>&quot;07_02_13_02_08&quot;</td><td>1</td></tr><tr><td>&quot;01_14_02_17_02&quot;</td><td>1</td></tr><tr><td>&quot;02_05_10_01_16&quot;</td><td>1</td></tr><tr><td>&quot;04_01_21_06_05&quot;</td><td>1</td></tr></tbody></table></div>"
      ],
      "text/plain": [
       "shape: (533, 2)\n",
       "┌────────────────┬───────┐\n",
       "│ jumps_map      ┆ count │\n",
       "│ ---            ┆ ---   │\n",
       "│ str            ┆ u32   │\n",
       "╞════════════════╪═══════╡\n",
       "│ 08_09_09_08_01 ┆ 2     │\n",
       "│ 09_04_13_03_09 ┆ 2     │\n",
       "│ 04_07_02_23_01 ┆ 2     │\n",
       "│ 11_06_11_01_10 ┆ 2     │\n",
       "│ 06_11_11_03_04 ┆ 2     │\n",
       "│ …              ┆ …     │\n",
       "│ 06_09_16_01_06 ┆ 1     │\n",
       "│ 07_02_13_02_08 ┆ 1     │\n",
       "│ 01_14_02_17_02 ┆ 1     │\n",
       "│ 02_05_10_01_16 ┆ 1     │\n",
       "│ 04_01_21_06_05 ┆ 1     │\n",
       "└────────────────┴───────┘"
      ]
     },
     "metadata": {},
     "output_type": "display_data"
    },
    {
     "name": "stdout",
     "output_type": "stream",
     "text": [
      "df_unijump FOR str_b1 = 01\n"
     ]
    },
    {
     "data": {
      "text/html": [
       "<div><style>\n",
       ".dataframe > thead > tr,\n",
       ".dataframe > tbody > tr {\n",
       "  text-align: right;\n",
       "  white-space: pre-wrap;\n",
       "}\n",
       "</style>\n",
       "<small>shape: (183, 2)</small><table border=\"1\" class=\"dataframe\"><thead><tr><th>unijump</th><th>count</th></tr><tr><td>i64</td><td>u32</td></tr></thead><tbody><tr><td>-22</td><td>16</td></tr><tr><td>-51</td><td>13</td></tr><tr><td>-21</td><td>13</td></tr><tr><td>-17</td><td>11</td></tr><tr><td>-11</td><td>11</td></tr><tr><td>&hellip;</td><td>&hellip;</td></tr><tr><td>74</td><td>1</td></tr><tr><td>-75</td><td>1</td></tr><tr><td>106</td><td>1</td></tr><tr><td>116</td><td>1</td></tr><tr><td>103</td><td>1</td></tr></tbody></table></div>"
      ],
      "text/plain": [
       "shape: (183, 2)\n",
       "┌─────────┬───────┐\n",
       "│ unijump ┆ count │\n",
       "│ ---     ┆ ---   │\n",
       "│ i64     ┆ u32   │\n",
       "╞═════════╪═══════╡\n",
       "│ -22     ┆ 16    │\n",
       "│ -51     ┆ 13    │\n",
       "│ -21     ┆ 13    │\n",
       "│ -17     ┆ 11    │\n",
       "│ -11     ┆ 11    │\n",
       "│ …       ┆ …     │\n",
       "│ 74      ┆ 1     │\n",
       "│ -75     ┆ 1     │\n",
       "│ 106     ┆ 1     │\n",
       "│ 116     ┆ 1     │\n",
       "│ 103     ┆ 1     │\n",
       "└─────────┴───────┘"
      ]
     },
     "metadata": {},
     "output_type": "display_data"
    }
   ],
   "source": [
    "possible_b1, exclude_jump_maps_b1, last_post_b1 = plot_post_col(col='str_b1', post_col='post_str_b1')"
   ]
  },
  {
   "cell_type": "code",
   "execution_count": 8,
   "metadata": {},
   "outputs": [
    {
     "name": "stdout",
     "output_type": "stream",
     "text": [
      "Setting test_value='03'\n",
      "df_viz FOR str_b2 = 03\n"
     ]
    },
    {
     "data": {
      "text/html": [
       "<div><style>\n",
       ".dataframe > thead > tr,\n",
       ".dataframe > tbody > tr {\n",
       "  text-align: right;\n",
       "  white-space: pre-wrap;\n",
       "}\n",
       "</style>\n",
       "<small>shape: (23, 3)</small><table border=\"1\" class=\"dataframe\"><thead><tr><th>post_str_b2</th><th>count</th><th>percent</th></tr><tr><td>str</td><td>u32</td><td>f64</td></tr></thead><tbody><tr><td>&quot;03&quot;</td><td>64</td><td>35.75419</td></tr><tr><td>&quot;10&quot;</td><td>11</td><td>6.145251</td></tr><tr><td>&quot;09&quot;</td><td>10</td><td>5.586592</td></tr><tr><td>&quot;08&quot;</td><td>10</td><td>5.586592</td></tr><tr><td>&quot;04&quot;</td><td>9</td><td>5.027933</td></tr><tr><td>&hellip;</td><td>&hellip;</td><td>&hellip;</td></tr><tr><td>&quot;18&quot;</td><td>2</td><td>1.117318</td></tr><tr><td>&quot;19&quot;</td><td>2</td><td>1.117318</td></tr><tr><td>&quot;11&quot;</td><td>2</td><td>1.117318</td></tr><tr><td>&quot;24&quot;</td><td>2</td><td>1.117318</td></tr><tr><td>&quot;23&quot;</td><td>1</td><td>0.558659</td></tr></tbody></table></div>"
      ],
      "text/plain": [
       "shape: (23, 3)\n",
       "┌─────────────┬───────┬──────────┐\n",
       "│ post_str_b2 ┆ count ┆ percent  │\n",
       "│ ---         ┆ ---   ┆ ---      │\n",
       "│ str         ┆ u32   ┆ f64      │\n",
       "╞═════════════╪═══════╪══════════╡\n",
       "│ 03          ┆ 64    ┆ 35.75419 │\n",
       "│ 10          ┆ 11    ┆ 6.145251 │\n",
       "│ 09          ┆ 10    ┆ 5.586592 │\n",
       "│ 08          ┆ 10    ┆ 5.586592 │\n",
       "│ 04          ┆ 9     ┆ 5.027933 │\n",
       "│ …           ┆ …     ┆ …        │\n",
       "│ 18          ┆ 2     ┆ 1.117318 │\n",
       "│ 19          ┆ 2     ┆ 1.117318 │\n",
       "│ 11          ┆ 2     ┆ 1.117318 │\n",
       "│ 24          ┆ 2     ┆ 1.117318 │\n",
       "│ 23          ┆ 1     ┆ 0.558659 │\n",
       "└─────────────┴───────┴──────────┘"
      ]
     },
     "metadata": {},
     "output_type": "display_data"
    },
    {
     "data": {},
     "metadata": {},
     "output_type": "display_data"
    },
    {
     "data": {
      "application/vnd.holoviews_exec.v0+json": "",
      "text/html": [
       "<div id='d0732773-bee5-43b9-b4d8-5d51d2278957'>\n",
       "  <div id=\"bbe528f6-8f6b-4e33-875d-cdb99c413bf0\" data-root-id=\"d0732773-bee5-43b9-b4d8-5d51d2278957\" style=\"display: contents;\"></div>\n",
       "</div>\n",
       "<script type=\"application/javascript\">(function(root) {\n",
       "  var docs_json = {\"99dabb60-debf-40bb-bc49-c179941e6e3d\":{\"version\":\"3.7.2\",\"title\":\"Bokeh Application\",\"roots\":[{\"type\":\"object\",\"name\":\"Row\",\"id\":\"d0732773-bee5-43b9-b4d8-5d51d2278957\",\"attributes\":{\"name\":\"Row00357\",\"tags\":[\"embedded\"],\"stylesheets\":[\"\\n:host(.pn-loading):before, .pn-loading:before {\\n  background-color: #c3c3c3;\\n  mask-size: auto calc(min(50%, 400px));\\n  -webkit-mask-size: auto calc(min(50%, 400px));\\n}\",{\"type\":\"object\",\"name\":\"ImportedStyleSheet\",\"id\":\"35cfd875-905f-4391-a0d4-6d6e4dc7c85d\",\"attributes\":{\"url\":\"https://cdn.holoviz.org/panel/1.6.2/dist/css/loading.css\"}},{\"type\":\"object\",\"name\":\"ImportedStyleSheet\",\"id\":\"41f07bae-8045-423d-8c03-5815bc016992\",\"attributes\":{\"url\":\"https://cdn.holoviz.org/panel/1.6.2/dist/css/listpanel.css\"}},{\"type\":\"object\",\"name\":\"ImportedStyleSheet\",\"id\":\"183d2faf-a24e-4821-bd4b-2e8ceb0f6f6c\",\"attributes\":{\"url\":\"https://cdn.holoviz.org/panel/1.6.2/dist/bundled/theme/default.css\"}},{\"type\":\"object\",\"name\":\"ImportedStyleSheet\",\"id\":\"d900ea29-84ac-42f3-bcdc-df53bc39acf9\",\"attributes\":{\"url\":\"https://cdn.holoviz.org/panel/1.6.2/dist/bundled/theme/native.css\"}}],\"min_width\":700,\"margin\":0,\"sizing_mode\":\"stretch_width\",\"align\":\"start\",\"children\":[{\"type\":\"object\",\"name\":\"Spacer\",\"id\":\"054d0f4d-2ba6-441b-aca2-6a50aa9684e2\",\"attributes\":{\"name\":\"HSpacer00361\",\"stylesheets\":[\"\\n:host(.pn-loading):before, .pn-loading:before {\\n  background-color: #c3c3c3;\\n  mask-size: auto calc(min(50%, 400px));\\n  -webkit-mask-size: auto calc(min(50%, 400px));\\n}\",{\"id\":\"35cfd875-905f-4391-a0d4-6d6e4dc7c85d\"},{\"id\":\"183d2faf-a24e-4821-bd4b-2e8ceb0f6f6c\"},{\"id\":\"d900ea29-84ac-42f3-bcdc-df53bc39acf9\"}],\"margin\":0,\"sizing_mode\":\"stretch_width\",\"align\":\"start\"}},{\"type\":\"object\",\"name\":\"Figure\",\"id\":\"d146561f-1692-44b9-bec8-e21bff1721e3\",\"attributes\":{\"width\":700,\"height\":300,\"margin\":[5,10],\"sizing_mode\":\"fixed\",\"align\":\"start\",\"x_range\":{\"type\":\"object\",\"name\":\"FactorRange\",\"id\":\"0cf957da-9b11-4a94-bc75-cb710db97a53\",\"attributes\":{\"name\":\"post_str_b2\",\"tags\":[[[\"post_str_b2\",null]],[]],\"factors\":[\"03\",\"10\",\"09\",\"08\",\"04\",\"06\",\"12\",\"13\",\"15\",\"05\",\"17\",\"07\",\"14\",\"16\",\"02\",\"25\",\"21\",\"26\",\"18\",\"19\",\"11\",\"24\",\"23\"]}},\"y_range\":{\"type\":\"object\",\"name\":\"Range1d\",\"id\":\"b0de47b4-9de5-464e-89d2-3caf21a13557\",\"attributes\":{\"name\":\"percent\",\"tags\":[[[\"percent\",null]],{\"type\":\"map\",\"entries\":[[\"invert_yaxis\",false],[\"autorange\",false]]}],\"end\":39.273743016759774,\"reset_start\":0.0,\"reset_end\":39.273743016759774}},\"x_scale\":{\"type\":\"object\",\"name\":\"CategoricalScale\",\"id\":\"bbc7be28-7e0c-4e40-8098-0f656cb448c0\"},\"y_scale\":{\"type\":\"object\",\"name\":\"LinearScale\",\"id\":\"c87d86ef-5ff6-4d39-8c27-29deaa1e23cf\"},\"title\":{\"type\":\"object\",\"name\":\"Title\",\"id\":\"9a696d86-ccf2-48fa-a555-c508f63cf999\",\"attributes\":{\"text_color\":\"black\",\"text_font_size\":\"12pt\"}},\"renderers\":[{\"type\":\"object\",\"name\":\"GlyphRenderer\",\"id\":\"d8f83087-a51d-498f-9c99-e3077af6e541\",\"attributes\":{\"data_source\":{\"type\":\"object\",\"name\":\"ColumnDataSource\",\"id\":\"7114140e-51d6-4985-82bd-f2975b0c0f27\",\"attributes\":{\"selected\":{\"type\":\"object\",\"name\":\"Selection\",\"id\":\"b329dacb-be71-495d-a736-07892c95fe26\",\"attributes\":{\"indices\":[],\"line_indices\":[]}},\"selection_policy\":{\"type\":\"object\",\"name\":\"UnionRenderers\",\"id\":\"1a80dfb6-0ad5-4eee-9ff5-18e329944f2b\"},\"data\":{\"type\":\"map\",\"entries\":[[\"post_str_b2\",[\"03\",\"10\",\"09\",\"08\",\"04\",\"06\",\"12\",\"13\",\"15\",\"05\",\"17\",\"07\",\"14\",\"16\",\"02\",\"25\",\"21\",\"26\",\"18\",\"19\",\"11\",\"24\",\"23\"]],[\"percent\",{\"type\":\"ndarray\",\"array\":{\"type\":\"bytes\",\"data\":\"k4PMS4ngQUDrNDnIvJQYQHmkv56rWBZAeaS/nqtYFkAGFEZ1mhwUQAYURnWaHBRABhRGdZocFECTg8xLieARQELmpUTwSA9AXcWy8c3QCkBdxbLxzdAKQJODzEuJ4AFAk4PMS4ngAUCTg8xLieABQF3FsvHN0Po/k4PMS4ng8T+Tg8xLieDxP5ODzEuJ4PE/k4PMS4ng8T+Tg8xLieDxP5ODzEuJ4PE/k4PMS4ng8T+Tg8xLieDhPw==\"},\"shape\":[23],\"dtype\":\"float64\",\"order\":\"little\"}]]}}},\"view\":{\"type\":\"object\",\"name\":\"CDSView\",\"id\":\"4451db16-3f3a-434c-b743-5f55fa4f662a\",\"attributes\":{\"filter\":{\"type\":\"object\",\"name\":\"AllIndices\",\"id\":\"83af1c04-16e4-4ae8-bbe6-8ab0195008ad\"}}},\"glyph\":{\"type\":\"object\",\"name\":\"VBar\",\"id\":\"c5411c25-f81b-4729-928c-d1ce4e202120\",\"attributes\":{\"tags\":[\"apply_ranges\"],\"x\":{\"type\":\"field\",\"field\":\"post_str_b2\"},\"width\":{\"type\":\"value\",\"value\":0.8},\"top\":{\"type\":\"field\",\"field\":\"percent\"},\"fill_color\":{\"type\":\"value\",\"value\":\"#30a2da\"},\"hatch_color\":{\"type\":\"value\",\"value\":\"#30a2da\"}}},\"selection_glyph\":{\"type\":\"object\",\"name\":\"VBar\",\"id\":\"199ddf04-b937-4ed9-b356-36b15be3fdf2\",\"attributes\":{\"tags\":[\"apply_ranges\"],\"x\":{\"type\":\"field\",\"field\":\"post_str_b2\"},\"width\":{\"type\":\"value\",\"value\":0.8},\"bottom\":{\"type\":\"value\",\"value\":0},\"top\":{\"type\":\"field\",\"field\":\"percent\"},\"line_color\":{\"type\":\"value\",\"value\":\"black\"},\"line_alpha\":{\"type\":\"value\",\"value\":1.0},\"line_width\":{\"type\":\"value\",\"value\":1},\"line_join\":{\"type\":\"value\",\"value\":\"bevel\"},\"line_cap\":{\"type\":\"value\",\"value\":\"butt\"},\"line_dash\":{\"type\":\"value\",\"value\":[]},\"line_dash_offset\":{\"type\":\"value\",\"value\":0},\"fill_color\":{\"type\":\"value\",\"value\":\"#30a2da\"},\"fill_alpha\":{\"type\":\"value\",\"value\":1.0},\"hatch_color\":{\"type\":\"value\",\"value\":\"#30a2da\"},\"hatch_alpha\":{\"type\":\"value\",\"value\":1.0},\"hatch_scale\":{\"type\":\"value\",\"value\":12.0},\"hatch_pattern\":{\"type\":\"value\",\"value\":null},\"hatch_weight\":{\"type\":\"value\",\"value\":1.0}}},\"nonselection_glyph\":{\"type\":\"object\",\"name\":\"VBar\",\"id\":\"eeda6dbf-073a-4e50-899e-762af4e9e903\",\"attributes\":{\"tags\":[\"apply_ranges\"],\"x\":{\"type\":\"field\",\"field\":\"post_str_b2\"},\"width\":{\"type\":\"value\",\"value\":0.8},\"top\":{\"type\":\"field\",\"field\":\"percent\"},\"line_alpha\":{\"type\":\"value\",\"value\":0.1},\"fill_color\":{\"type\":\"value\",\"value\":\"#30a2da\"},\"fill_alpha\":{\"type\":\"value\",\"value\":0.1},\"hatch_color\":{\"type\":\"value\",\"value\":\"#30a2da\"},\"hatch_alpha\":{\"type\":\"value\",\"value\":0.1}}},\"muted_glyph\":{\"type\":\"object\",\"name\":\"VBar\",\"id\":\"fa8aaf59-5147-48c9-9cc4-7722f89e1ebe\",\"attributes\":{\"tags\":[\"apply_ranges\"],\"x\":{\"type\":\"field\",\"field\":\"post_str_b2\"},\"width\":{\"type\":\"value\",\"value\":0.8},\"top\":{\"type\":\"field\",\"field\":\"percent\"},\"line_alpha\":{\"type\":\"value\",\"value\":0.2},\"fill_color\":{\"type\":\"value\",\"value\":\"#30a2da\"},\"fill_alpha\":{\"type\":\"value\",\"value\":0.2},\"hatch_color\":{\"type\":\"value\",\"value\":\"#30a2da\"},\"hatch_alpha\":{\"type\":\"value\",\"value\":0.2}}}}},{\"type\":\"object\",\"name\":\"Span\",\"id\":\"a976b9fb-799f-42dd-912e-62d49967b14b\",\"attributes\":{\"level\":\"glyph\",\"location\":4.347826086956521,\"line_color\":\"red\",\"line_width\":3}},{\"type\":\"object\",\"name\":\"Span\",\"id\":\"429367d9-a0ca-4a58-a6b9-55ee4fc7754d\",\"attributes\":{\"level\":\"glyph\",\"location\":6.521739130434781,\"line_color\":\"blue\",\"line_width\":3}},{\"type\":\"object\",\"name\":\"Span\",\"id\":\"663eac2a-1ea3-4a78-b213-187c0274b73f\",\"attributes\":{\"level\":\"glyph\",\"location\":2.1739130434782603,\"line_color\":\"blue\",\"line_width\":3}}],\"toolbar\":{\"type\":\"object\",\"name\":\"Toolbar\",\"id\":\"7cdb87ca-3888-493d-a7e5-92b6e6a294ff\",\"attributes\":{\"tools\":[{\"type\":\"object\",\"name\":\"WheelZoomTool\",\"id\":\"6a5c8414-d7d0-44c8-a446-0243bd571e09\",\"attributes\":{\"tags\":[\"hv_created\"],\"renderers\":\"auto\",\"zoom_together\":\"none\"}},{\"type\":\"object\",\"name\":\"HoverTool\",\"id\":\"8facf707-bbe2-419e-bdbd-8d54044ef0f6\",\"attributes\":{\"tags\":[\"hv_created\"],\"renderers\":[{\"id\":\"d8f83087-a51d-498f-9c99-e3077af6e541\"}],\"tooltips\":[[\"post_str_b2\",\"@{post_str_b2}\"],[\"percent\",\"@{percent}\"]]}},{\"type\":\"object\",\"name\":\"SaveTool\",\"id\":\"98160e56-a7d9-4261-aff4-0981bdd4d8a2\"},{\"type\":\"object\",\"name\":\"PanTool\",\"id\":\"d6176f38-9eda-4651-88a2-87f9ae61ed1d\"},{\"type\":\"object\",\"name\":\"BoxZoomTool\",\"id\":\"eebdc803-e709-4ffd-8318-bb71adc3548d\",\"attributes\":{\"dimensions\":\"both\",\"overlay\":{\"type\":\"object\",\"name\":\"BoxAnnotation\",\"id\":\"10b9b340-a624-419b-b8d6-d43d288d0429\",\"attributes\":{\"syncable\":false,\"line_color\":\"black\",\"line_alpha\":1.0,\"line_width\":2,\"line_dash\":[4,4],\"fill_color\":\"lightgrey\",\"fill_alpha\":0.5,\"level\":\"overlay\",\"visible\":false,\"left\":{\"type\":\"number\",\"value\":\"nan\"},\"right\":{\"type\":\"number\",\"value\":\"nan\"},\"top\":{\"type\":\"number\",\"value\":\"nan\"},\"bottom\":{\"type\":\"number\",\"value\":\"nan\"},\"left_units\":\"canvas\",\"right_units\":\"canvas\",\"top_units\":\"canvas\",\"bottom_units\":\"canvas\",\"handles\":{\"type\":\"object\",\"name\":\"BoxInteractionHandles\",\"id\":\"0264711c-7862-4d64-b03e-a96b4d647c30\",\"attributes\":{\"all\":{\"type\":\"object\",\"name\":\"AreaVisuals\",\"id\":\"8debb4e4-2666-4c1e-9031-110a1ce74b61\",\"attributes\":{\"fill_color\":\"white\",\"hover_fill_color\":\"lightgray\"}}}}}}}},{\"type\":\"object\",\"name\":\"ResetTool\",\"id\":\"c88cc9d2-3929-4365-bc0e-28eca1a4ba5b\"}],\"active_drag\":{\"id\":\"d6176f38-9eda-4651-88a2-87f9ae61ed1d\"}}},\"left\":[{\"type\":\"object\",\"name\":\"LinearAxis\",\"id\":\"917a96c5-afb4-4bfe-ba6a-b33f9379ef2a\",\"attributes\":{\"ticker\":{\"type\":\"object\",\"name\":\"BasicTicker\",\"id\":\"435ed894-bef3-4008-83d5-116b7da15feb\",\"attributes\":{\"mantissas\":[1,2,5]}},\"formatter\":{\"type\":\"object\",\"name\":\"BasicTickFormatter\",\"id\":\"8b9e1d7a-1e7e-4399-96de-912e167ec92a\"},\"axis_label\":\"percent\",\"major_label_policy\":{\"type\":\"object\",\"name\":\"AllLabels\",\"id\":\"5d3775fc-b058-4e5c-9118-a4742a6fbce1\"}}}],\"below\":[{\"type\":\"object\",\"name\":\"CategoricalAxis\",\"id\":\"634c91c7-2441-46e4-ba2b-5dd1faad0b1c\",\"attributes\":{\"ticker\":{\"type\":\"object\",\"name\":\"CategoricalTicker\",\"id\":\"6ebcdddc-61f9-4dde-b88c-76af8159c6b2\"},\"formatter\":{\"type\":\"object\",\"name\":\"CategoricalTickFormatter\",\"id\":\"1fe699a1-d1b8-435d-9c8f-67ab380bbf46\"},\"axis_label\":\"post_str_b2\",\"major_label_policy\":{\"type\":\"object\",\"name\":\"AllLabels\",\"id\":\"aa42cdce-2abf-41cb-9f27-c13bce3de582\"}}}],\"center\":[{\"type\":\"object\",\"name\":\"Grid\",\"id\":\"349d2c01-0ce1-4f66-ba40-1feddd6ec383\",\"attributes\":{\"axis\":{\"id\":\"634c91c7-2441-46e4-ba2b-5dd1faad0b1c\"},\"grid_line_color\":null}},{\"type\":\"object\",\"name\":\"Grid\",\"id\":\"eb7e93aa-4737-4c18-8ab2-aed403997182\",\"attributes\":{\"dimension\":1,\"axis\":{\"id\":\"917a96c5-afb4-4bfe-ba6a-b33f9379ef2a\"},\"grid_line_color\":null}}],\"min_border_top\":10,\"min_border_bottom\":10,\"min_border_left\":10,\"min_border_right\":10,\"output_backend\":\"webgl\"}},{\"type\":\"object\",\"name\":\"Spacer\",\"id\":\"71ccf5b3-444f-4f68-aefd-3321687f3b54\",\"attributes\":{\"name\":\"HSpacer00362\",\"stylesheets\":[\"\\n:host(.pn-loading):before, .pn-loading:before {\\n  background-color: #c3c3c3;\\n  mask-size: auto calc(min(50%, 400px));\\n  -webkit-mask-size: auto calc(min(50%, 400px));\\n}\",{\"id\":\"35cfd875-905f-4391-a0d4-6d6e4dc7c85d\"},{\"id\":\"183d2faf-a24e-4821-bd4b-2e8ceb0f6f6c\"},{\"id\":\"d900ea29-84ac-42f3-bcdc-df53bc39acf9\"}],\"margin\":0,\"sizing_mode\":\"stretch_width\",\"align\":\"start\"}}]}}],\"defs\":[{\"type\":\"model\",\"name\":\"ReactiveHTML1\"},{\"type\":\"model\",\"name\":\"FlexBox1\",\"properties\":[{\"name\":\"align_content\",\"kind\":\"Any\",\"default\":\"flex-start\"},{\"name\":\"align_items\",\"kind\":\"Any\",\"default\":\"flex-start\"},{\"name\":\"flex_direction\",\"kind\":\"Any\",\"default\":\"row\"},{\"name\":\"flex_wrap\",\"kind\":\"Any\",\"default\":\"wrap\"},{\"name\":\"gap\",\"kind\":\"Any\",\"default\":\"\"},{\"name\":\"justify_content\",\"kind\":\"Any\",\"default\":\"flex-start\"}]},{\"type\":\"model\",\"name\":\"FloatPanel1\",\"properties\":[{\"name\":\"config\",\"kind\":\"Any\",\"default\":{\"type\":\"map\"}},{\"name\":\"contained\",\"kind\":\"Any\",\"default\":true},{\"name\":\"position\",\"kind\":\"Any\",\"default\":\"right-top\"},{\"name\":\"offsetx\",\"kind\":\"Any\",\"default\":null},{\"name\":\"offsety\",\"kind\":\"Any\",\"default\":null},{\"name\":\"theme\",\"kind\":\"Any\",\"default\":\"primary\"},{\"name\":\"status\",\"kind\":\"Any\",\"default\":\"normalized\"}]},{\"type\":\"model\",\"name\":\"GridStack1\",\"properties\":[{\"name\":\"ncols\",\"kind\":\"Any\",\"default\":null},{\"name\":\"nrows\",\"kind\":\"Any\",\"default\":null},{\"name\":\"allow_resize\",\"kind\":\"Any\",\"default\":true},{\"name\":\"allow_drag\",\"kind\":\"Any\",\"default\":true},{\"name\":\"state\",\"kind\":\"Any\",\"default\":[]}]},{\"type\":\"model\",\"name\":\"drag1\",\"properties\":[{\"name\":\"slider_width\",\"kind\":\"Any\",\"default\":5},{\"name\":\"slider_color\",\"kind\":\"Any\",\"default\":\"black\"},{\"name\":\"value\",\"kind\":\"Any\",\"default\":50}]},{\"type\":\"model\",\"name\":\"click1\",\"properties\":[{\"name\":\"terminal_output\",\"kind\":\"Any\",\"default\":\"\"},{\"name\":\"debug_name\",\"kind\":\"Any\",\"default\":\"\"},{\"name\":\"clears\",\"kind\":\"Any\",\"default\":0}]},{\"type\":\"model\",\"name\":\"FastWrapper1\",\"properties\":[{\"name\":\"object\",\"kind\":\"Any\",\"default\":null},{\"name\":\"style\",\"kind\":\"Any\",\"default\":null}]},{\"type\":\"model\",\"name\":\"NotificationArea1\",\"properties\":[{\"name\":\"js_events\",\"kind\":\"Any\",\"default\":{\"type\":\"map\"}},{\"name\":\"max_notifications\",\"kind\":\"Any\",\"default\":5},{\"name\":\"notifications\",\"kind\":\"Any\",\"default\":[]},{\"name\":\"position\",\"kind\":\"Any\",\"default\":\"bottom-right\"},{\"name\":\"_clear\",\"kind\":\"Any\",\"default\":0},{\"name\":\"types\",\"kind\":\"Any\",\"default\":[{\"type\":\"map\",\"entries\":[[\"type\",\"warning\"],[\"background\",\"#ffc107\"],[\"icon\",{\"type\":\"map\",\"entries\":[[\"className\",\"fas fa-exclamation-triangle\"],[\"tagName\",\"i\"],[\"color\",\"white\"]]}]]},{\"type\":\"map\",\"entries\":[[\"type\",\"info\"],[\"background\",\"#007bff\"],[\"icon\",{\"type\":\"map\",\"entries\":[[\"className\",\"fas fa-info-circle\"],[\"tagName\",\"i\"],[\"color\",\"white\"]]}]]}]}]},{\"type\":\"model\",\"name\":\"Notification\",\"properties\":[{\"name\":\"background\",\"kind\":\"Any\",\"default\":null},{\"name\":\"duration\",\"kind\":\"Any\",\"default\":3000},{\"name\":\"icon\",\"kind\":\"Any\",\"default\":null},{\"name\":\"message\",\"kind\":\"Any\",\"default\":\"\"},{\"name\":\"notification_type\",\"kind\":\"Any\",\"default\":null},{\"name\":\"_rendered\",\"kind\":\"Any\",\"default\":false},{\"name\":\"_destroyed\",\"kind\":\"Any\",\"default\":false}]},{\"type\":\"model\",\"name\":\"TemplateActions1\",\"properties\":[{\"name\":\"open_modal\",\"kind\":\"Any\",\"default\":0},{\"name\":\"close_modal\",\"kind\":\"Any\",\"default\":0}]},{\"type\":\"model\",\"name\":\"BootstrapTemplateActions1\",\"properties\":[{\"name\":\"open_modal\",\"kind\":\"Any\",\"default\":0},{\"name\":\"close_modal\",\"kind\":\"Any\",\"default\":0}]},{\"type\":\"model\",\"name\":\"TemplateEditor1\",\"properties\":[{\"name\":\"layout\",\"kind\":\"Any\",\"default\":[]}]},{\"type\":\"model\",\"name\":\"MaterialTemplateActions1\",\"properties\":[{\"name\":\"open_modal\",\"kind\":\"Any\",\"default\":0},{\"name\":\"close_modal\",\"kind\":\"Any\",\"default\":0}]},{\"type\":\"model\",\"name\":\"ReactiveESM1\",\"properties\":[{\"name\":\"esm_constants\",\"kind\":\"Any\",\"default\":{\"type\":\"map\"}}]},{\"type\":\"model\",\"name\":\"JSComponent1\",\"properties\":[{\"name\":\"esm_constants\",\"kind\":\"Any\",\"default\":{\"type\":\"map\"}}]},{\"type\":\"model\",\"name\":\"ReactComponent1\",\"properties\":[{\"name\":\"esm_constants\",\"kind\":\"Any\",\"default\":{\"type\":\"map\"}}]},{\"type\":\"model\",\"name\":\"AnyWidgetComponent1\",\"properties\":[{\"name\":\"esm_constants\",\"kind\":\"Any\",\"default\":{\"type\":\"map\"}}]},{\"type\":\"model\",\"name\":\"request_value1\",\"properties\":[{\"name\":\"fill\",\"kind\":\"Any\",\"default\":\"none\"},{\"name\":\"_synced\",\"kind\":\"Any\",\"default\":null},{\"name\":\"_request_sync\",\"kind\":\"Any\",\"default\":0}]}]}};\n",
       "  var render_items = [{\"docid\":\"99dabb60-debf-40bb-bc49-c179941e6e3d\",\"roots\":{\"d0732773-bee5-43b9-b4d8-5d51d2278957\":\"bbe528f6-8f6b-4e33-875d-cdb99c413bf0\"},\"root_ids\":[\"d0732773-bee5-43b9-b4d8-5d51d2278957\"]}];\n",
       "  var docs = Object.values(docs_json)\n",
       "  if (!docs) {\n",
       "    return\n",
       "  }\n",
       "  const py_version = docs[0].version.replace('rc', '-rc.').replace('.dev', '-dev.')\n",
       "  async function embed_document(root) {\n",
       "    var Bokeh = get_bokeh(root)\n",
       "    await Bokeh.embed.embed_items_notebook(docs_json, render_items);\n",
       "    for (const render_item of render_items) {\n",
       "      for (const root_id of render_item.root_ids) {\n",
       "\tconst id_el = document.getElementById(root_id)\n",
       "\tif (id_el.children.length && id_el.children[0].hasAttribute('data-root-id')) {\n",
       "\t  const root_el = id_el.children[0]\n",
       "\t  root_el.id = root_el.id + '-rendered'\n",
       "\t  for (const child of root_el.children) {\n",
       "            // Ensure JupyterLab does not capture keyboard shortcuts\n",
       "            // see: https://jupyterlab.readthedocs.io/en/4.1.x/extension/notebook.html#keyboard-interaction-model\n",
       "\t    child.setAttribute('data-lm-suppress-shortcuts', 'true')\n",
       "\t  }\n",
       "\t}\n",
       "      }\n",
       "    }\n",
       "  }\n",
       "  function get_bokeh(root) {\n",
       "    if (root.Bokeh === undefined) {\n",
       "      return null\n",
       "    } else if (root.Bokeh.version !== py_version) {\n",
       "      if (root.Bokeh.versions === undefined || !root.Bokeh.versions.has(py_version)) {\n",
       "\treturn null\n",
       "      }\n",
       "      return root.Bokeh.versions.get(py_version);\n",
       "    } else if (root.Bokeh.version === py_version) {\n",
       "      return root.Bokeh\n",
       "    }\n",
       "    return null\n",
       "  }\n",
       "  function is_loaded(root) {\n",
       "    var Bokeh = get_bokeh(root)\n",
       "    return (Bokeh != null && Bokeh.Panel !== undefined)\n",
       "  }\n",
       "  if (is_loaded(root)) {\n",
       "    embed_document(root);\n",
       "  } else {\n",
       "    var attempts = 0;\n",
       "    var timer = setInterval(function(root) {\n",
       "      if (is_loaded(root)) {\n",
       "        clearInterval(timer);\n",
       "        embed_document(root);\n",
       "      } else if (document.readyState == \"complete\") {\n",
       "        attempts++;\n",
       "        if (attempts > 200) {\n",
       "          clearInterval(timer);\n",
       "\t  var Bokeh = get_bokeh(root)\n",
       "\t  if (Bokeh == null || Bokeh.Panel == null) {\n",
       "            console.warn(\"Panel: ERROR: Unable to run Panel code because Bokeh or Panel library is missing\");\n",
       "\t  } else {\n",
       "\t    console.warn(\"Panel: WARNING: Attempting to render but not all required libraries could be resolved.\")\n",
       "\t    embed_document(root)\n",
       "\t  }\n",
       "        }\n",
       "      }\n",
       "    }, 25, root)\n",
       "  }\n",
       "})(window);</script>"
      ],
      "text/plain": [
       ":Overlay\n",
       "   .Bars.I    :Bars   [post_str_b2]   (percent)\n",
       "   .HLine.I   :HLine   [x,y]\n",
       "   .HLine.II  :HLine   [x,y]\n",
       "   .HLine.III :HLine   [x,y]"
      ]
     },
     "metadata": {
      "application/vnd.holoviews_exec.v0+json": {
       "id": "d0732773-bee5-43b9-b4d8-5d51d2278957"
      }
     },
     "output_type": "display_data"
    },
    {
     "name": "stdout",
     "output_type": "stream",
     "text": [
      "df_10_last FOR str_b2 = 03\n",
      "Last 3 results last_results=['03', '08']\n"
     ]
    },
    {
     "data": {
      "text/html": [
       "<div><style>\n",
       ".dataframe > thead > tr,\n",
       ".dataframe > tbody > tr {\n",
       "  text-align: right;\n",
       "  white-space: pre-wrap;\n",
       "}\n",
       "</style>\n",
       "<small>shape: (10, 30)</small><table border=\"1\" class=\"dataframe\"><thead><tr><th>fecha</th><th>sorteo</th><th>bolillas regulares</th><th>bolillas chauchamba</th><th>cc1</th><th>cc2</th><th>id</th><th>combo</th><th>b1</th><th>b2</th><th>b3</th><th>b4</th><th>b5</th><th>b6</th><th>str_b1</th><th>str_b2</th><th>str_b3</th><th>str_b4</th><th>str_b5</th><th>str_b6</th><th>post_str_b1</th><th>post_str_b2</th><th>post_str_b3</th><th>post_str_b4</th><th>post_str_b5</th><th>post_str_blast</th><th>is_rare_combination</th><th>reason</th><th>jumps_map</th><th>unijump</th></tr><tr><td>str</td><td>str</td><td>str</td><td>str</td><td>str</td><td>str</td><td>str</td><td>array[u8, 6]</td><td>u8</td><td>u8</td><td>u8</td><td>u8</td><td>u8</td><td>u8</td><td>str</td><td>str</td><td>str</td><td>str</td><td>str</td><td>str</td><td>str</td><td>str</td><td>str</td><td>str</td><td>str</td><td>str</td><td>bool</td><td>u8</td><td>str</td><td>i64</td></tr></thead><tbody><tr><td>&quot;19/04/2025&quot;</td><td>&quot;1797&quot;</td><td>&quot;40 34 04 03 01 22&quot;</td><td>&quot;06 02 22 09 04 21&quot;</td><td>&quot;&quot;</td><td>&quot;&quot;</td><td>&quot;010304223440&quot;</td><td>[1, 3, … 40]</td><td>1</td><td>3</td><td>4</td><td>22</td><td>34</td><td>40</td><td>&quot;01&quot;</td><td>&quot;03&quot;</td><td>&quot;04&quot;</td><td>&quot;22&quot;</td><td>&quot;34&quot;</td><td>&quot;40&quot;</td><td>&quot;01&quot;</td><td>&quot;03&quot;</td><td>&quot;04&quot;</td><td>&quot;22&quot;</td><td>&quot;34&quot;</td><td>&quot;40&quot;</td><td>false</td><td>0</td><td>&quot;02_01_18_12_06&quot;</td><td>64</td></tr><tr><td>&quot;18/01/2025&quot;</td><td>&quot;1758&quot;</td><td>&quot;28 02 18 03 16 26&quot;</td><td>&quot;34 36 24 38 01 20&quot;</td><td>&quot;&quot;</td><td>&quot;&quot;</td><td>&quot;020316182628&quot;</td><td>[2, 3, … 28]</td><td>2</td><td>3</td><td>16</td><td>18</td><td>26</td><td>28</td><td>&quot;02&quot;</td><td>&quot;03&quot;</td><td>&quot;16&quot;</td><td>&quot;18&quot;</td><td>&quot;26&quot;</td><td>&quot;28&quot;</td><td>&quot;06&quot;</td><td>&quot;08&quot;</td><td>&quot;16&quot;</td><td>&quot;19&quot;</td><td>&quot;20&quot;</td><td>&quot;38&quot;</td><td>false</td><td>0</td><td>&quot;01_13_02_08_02&quot;</td><td>-69</td></tr><tr><td>&quot;18/01/2025&quot;</td><td>&quot;1758&quot;</td><td>&quot;28 02 18 03 16 26&quot;</td><td>&quot;34 36 24 38 01 20&quot;</td><td>&quot;&quot;</td><td>&quot;&quot;</td><td>&quot;020316182628&quot;</td><td>[2, 3, … 28]</td><td>2</td><td>3</td><td>16</td><td>18</td><td>26</td><td>28</td><td>&quot;02&quot;</td><td>&quot;03&quot;</td><td>&quot;16&quot;</td><td>&quot;18&quot;</td><td>&quot;26&quot;</td><td>&quot;28&quot;</td><td>&quot;02&quot;</td><td>&quot;03&quot;</td><td>&quot;16&quot;</td><td>&quot;18&quot;</td><td>&quot;26&quot;</td><td>&quot;28&quot;</td><td>false</td><td>0</td><td>&quot;01_13_02_08_02&quot;</td><td>-69</td></tr><tr><td>&quot;07/12/2024&quot;</td><td>&quot;1740&quot;</td><td>&quot;18 26 01 16 03 23&quot;</td><td>&quot;22 10 39 23 06 25&quot;</td><td>&quot;&quot;</td><td>&quot;&quot;</td><td>&quot;010316182326&quot;</td><td>[1, 3, … 26]</td><td>1</td><td>3</td><td>16</td><td>18</td><td>23</td><td>26</td><td>&quot;01&quot;</td><td>&quot;03&quot;</td><td>&quot;16&quot;</td><td>&quot;18&quot;</td><td>&quot;23&quot;</td><td>&quot;26&quot;</td><td>&quot;01&quot;</td><td>&quot;12&quot;</td><td>&quot;14&quot;</td><td>&quot;19&quot;</td><td>&quot;35&quot;</td><td>&quot;38&quot;</td><td>false</td><td>0</td><td>&quot;02_13_02_05_03&quot;</td><td>-55</td></tr><tr><td>&quot;07/12/2024&quot;</td><td>&quot;1740&quot;</td><td>&quot;18 26 01 16 03 23&quot;</td><td>&quot;22 10 39 23 06 25&quot;</td><td>&quot;&quot;</td><td>&quot;&quot;</td><td>&quot;010316182326&quot;</td><td>[1, 3, … 26]</td><td>1</td><td>3</td><td>16</td><td>18</td><td>23</td><td>26</td><td>&quot;01&quot;</td><td>&quot;03&quot;</td><td>&quot;16&quot;</td><td>&quot;18&quot;</td><td>&quot;23&quot;</td><td>&quot;26&quot;</td><td>&quot;01&quot;</td><td>&quot;03&quot;</td><td>&quot;16&quot;</td><td>&quot;18&quot;</td><td>&quot;23&quot;</td><td>&quot;26&quot;</td><td>false</td><td>0</td><td>&quot;02_13_02_05_03&quot;</td><td>-55</td></tr><tr><td>&quot;18/05/2024&quot;</td><td>&quot;1653&quot;</td><td>&quot;35 03 01 27 14 05&quot;</td><td>&quot;30 05 29 19 39 13&quot;</td><td>&quot;&quot;</td><td>&quot;&quot;</td><td>&quot;010305142735&quot;</td><td>[1, 3, … 35]</td><td>1</td><td>3</td><td>5</td><td>14</td><td>27</td><td>35</td><td>&quot;01&quot;</td><td>&quot;03&quot;</td><td>&quot;05&quot;</td><td>&quot;14&quot;</td><td>&quot;27&quot;</td><td>&quot;35&quot;</td><td>&quot;01&quot;</td><td>&quot;04&quot;</td><td>&quot;05&quot;</td><td>&quot;16&quot;</td><td>&quot;18&quot;</td><td>&quot;37&quot;</td><td>true</td><td>8</td><td>&quot;02_02_09_13_08&quot;</td><td>4</td></tr><tr><td>&quot;18/05/2024&quot;</td><td>&quot;1653&quot;</td><td>&quot;35 03 01 27 14 05&quot;</td><td>&quot;30 05 29 19 39 13&quot;</td><td>&quot;&quot;</td><td>&quot;&quot;</td><td>&quot;010305142735&quot;</td><td>[1, 3, … 35]</td><td>1</td><td>3</td><td>5</td><td>14</td><td>27</td><td>35</td><td>&quot;01&quot;</td><td>&quot;03&quot;</td><td>&quot;05&quot;</td><td>&quot;14&quot;</td><td>&quot;27&quot;</td><td>&quot;35&quot;</td><td>&quot;01&quot;</td><td>&quot;03&quot;</td><td>&quot;05&quot;</td><td>&quot;14&quot;</td><td>&quot;27&quot;</td><td>&quot;35&quot;</td><td>true</td><td>8</td><td>&quot;02_02_09_13_08&quot;</td><td>4</td></tr><tr><td>&quot;25/04/2024&quot;</td><td>&quot;1643&quot;</td><td>&quot;18 01 03 21 33 28&quot;</td><td>&quot;35 27 19 32 34 39&quot;</td><td>&quot;&quot;</td><td>&quot;&quot;</td><td>&quot;010318212833&quot;</td><td>[1, 3, … 33]</td><td>1</td><td>3</td><td>18</td><td>21</td><td>28</td><td>33</td><td>&quot;01&quot;</td><td>&quot;03&quot;</td><td>&quot;18&quot;</td><td>&quot;21&quot;</td><td>&quot;28&quot;</td><td>&quot;33&quot;</td><td>&quot;09&quot;</td><td>&quot;10&quot;</td><td>&quot;12&quot;</td><td>&quot;15&quot;</td><td>&quot;17&quot;</td><td>&quot;40&quot;</td><td>false</td><td>0</td><td>&quot;02_15_03_07_05&quot;</td><td>-63</td></tr><tr><td>&quot;25/04/2024&quot;</td><td>&quot;1643&quot;</td><td>&quot;18 01 03 21 33 28&quot;</td><td>&quot;35 27 19 32 34 39&quot;</td><td>&quot;&quot;</td><td>&quot;&quot;</td><td>&quot;010318212833&quot;</td><td>[1, 3, … 33]</td><td>1</td><td>3</td><td>18</td><td>21</td><td>28</td><td>33</td><td>&quot;01&quot;</td><td>&quot;03&quot;</td><td>&quot;18&quot;</td><td>&quot;21&quot;</td><td>&quot;28&quot;</td><td>&quot;33&quot;</td><td>&quot;01&quot;</td><td>&quot;03&quot;</td><td>&quot;18&quot;</td><td>&quot;21&quot;</td><td>&quot;28&quot;</td><td>&quot;33&quot;</td><td>false</td><td>0</td><td>&quot;02_15_03_07_05&quot;</td><td>-63</td></tr><tr><td>&quot;09/01/2024&quot;</td><td>&quot;1597&quot;</td><td>&quot;02 28 09 03 11 19&quot;</td><td>&quot;38 14 36 04 33 06&quot;</td><td>&quot;&quot;</td><td>&quot;&quot;</td><td>&quot;020309111928&quot;</td><td>[2, 3, … 28]</td><td>2</td><td>3</td><td>9</td><td>11</td><td>19</td><td>28</td><td>&quot;02&quot;</td><td>&quot;03&quot;</td><td>&quot;09&quot;</td><td>&quot;11&quot;</td><td>&quot;19&quot;</td><td>&quot;28&quot;</td><td>&quot;06&quot;</td><td>&quot;09&quot;</td><td>&quot;12&quot;</td><td>&quot;17&quot;</td><td>&quot;34&quot;</td><td>&quot;37&quot;</td><td>true</td><td>1</td><td>&quot;01_06_02_08_09&quot;</td><td>-34</td></tr></tbody></table></div>"
      ],
      "text/plain": [
       "shape: (10, 30)\n",
       "┌────────────┬────────┬─────────────┬─────────────┬───┬────────────┬────────┬────────────┬─────────┐\n",
       "│ fecha      ┆ sorteo ┆ bolillas    ┆ bolillas    ┆ … ┆ is_rare_co ┆ reason ┆ jumps_map  ┆ unijump │\n",
       "│ ---        ┆ ---    ┆ regulares   ┆ chauchamba  ┆   ┆ mbination  ┆ ---    ┆ ---        ┆ ---     │\n",
       "│ str        ┆ str    ┆ ---         ┆ ---         ┆   ┆ ---        ┆ u8     ┆ str        ┆ i64     │\n",
       "│            ┆        ┆ str         ┆ str         ┆   ┆ bool       ┆        ┆            ┆         │\n",
       "╞════════════╪════════╪═════════════╪═════════════╪═══╪════════════╪════════╪════════════╪═════════╡\n",
       "│ 19/04/2025 ┆ 1797   ┆ 40 34 04 03 ┆ 06 02 22 09 ┆ … ┆ false      ┆ 0      ┆ 02_01_18_1 ┆ 64      │\n",
       "│            ┆        ┆ 01 22       ┆ 04 21       ┆   ┆            ┆        ┆ 2_06       ┆         │\n",
       "│ 18/01/2025 ┆ 1758   ┆ 28 02 18 03 ┆ 34 36 24 38 ┆ … ┆ false      ┆ 0      ┆ 01_13_02_0 ┆ -69     │\n",
       "│            ┆        ┆ 16 26       ┆ 01 20       ┆   ┆            ┆        ┆ 8_02       ┆         │\n",
       "│ 18/01/2025 ┆ 1758   ┆ 28 02 18 03 ┆ 34 36 24 38 ┆ … ┆ false      ┆ 0      ┆ 01_13_02_0 ┆ -69     │\n",
       "│            ┆        ┆ 16 26       ┆ 01 20       ┆   ┆            ┆        ┆ 8_02       ┆         │\n",
       "│ 07/12/2024 ┆ 1740   ┆ 18 26 01 16 ┆ 22 10 39 23 ┆ … ┆ false      ┆ 0      ┆ 02_13_02_0 ┆ -55     │\n",
       "│            ┆        ┆ 03 23       ┆ 06 25       ┆   ┆            ┆        ┆ 5_03       ┆         │\n",
       "│ 07/12/2024 ┆ 1740   ┆ 18 26 01 16 ┆ 22 10 39 23 ┆ … ┆ false      ┆ 0      ┆ 02_13_02_0 ┆ -55     │\n",
       "│            ┆        ┆ 03 23       ┆ 06 25       ┆   ┆            ┆        ┆ 5_03       ┆         │\n",
       "│ 18/05/2024 ┆ 1653   ┆ 35 03 01 27 ┆ 30 05 29 19 ┆ … ┆ true       ┆ 8      ┆ 02_02_09_1 ┆ 4       │\n",
       "│            ┆        ┆ 14 05       ┆ 39 13       ┆   ┆            ┆        ┆ 3_08       ┆         │\n",
       "│ 18/05/2024 ┆ 1653   ┆ 35 03 01 27 ┆ 30 05 29 19 ┆ … ┆ true       ┆ 8      ┆ 02_02_09_1 ┆ 4       │\n",
       "│            ┆        ┆ 14 05       ┆ 39 13       ┆   ┆            ┆        ┆ 3_08       ┆         │\n",
       "│ 25/04/2024 ┆ 1643   ┆ 18 01 03 21 ┆ 35 27 19 32 ┆ … ┆ false      ┆ 0      ┆ 02_15_03_0 ┆ -63     │\n",
       "│            ┆        ┆ 33 28       ┆ 34 39       ┆   ┆            ┆        ┆ 7_05       ┆         │\n",
       "│ 25/04/2024 ┆ 1643   ┆ 18 01 03 21 ┆ 35 27 19 32 ┆ … ┆ false      ┆ 0      ┆ 02_15_03_0 ┆ -63     │\n",
       "│            ┆        ┆ 33 28       ┆ 34 39       ┆   ┆            ┆        ┆ 7_05       ┆         │\n",
       "│ 09/01/2024 ┆ 1597   ┆ 02 28 09 03 ┆ 38 14 36 04 ┆ … ┆ true       ┆ 1      ┆ 01_06_02_0 ┆ -34     │\n",
       "│            ┆        ┆ 11 19       ┆ 33 06       ┆   ┆            ┆        ┆ 8_09       ┆         │\n",
       "└────────────┴────────┴─────────────┴─────────────┴───┴────────────┴────────┴────────────┴─────────┘"
      ]
     },
     "metadata": {},
     "output_type": "display_data"
    },
    {
     "name": "stdout",
     "output_type": "stream",
     "text": [
      "df_jumps_map FOR str_b2 = 03\n"
     ]
    },
    {
     "data": {
      "text/html": [
       "<div><style>\n",
       ".dataframe > thead > tr,\n",
       ".dataframe > tbody > tr {\n",
       "  text-align: right;\n",
       "  white-space: pre-wrap;\n",
       "}\n",
       "</style>\n",
       "<small>shape: (120, 2)</small><table border=\"1\" class=\"dataframe\"><thead><tr><th>jumps_map</th><th>count</th></tr><tr><td>str</td><td>u32</td></tr></thead><tbody><tr><td>&quot;02_07_03_04_04&quot;</td><td>2</td></tr><tr><td>&quot;01_23_02_03_09&quot;</td><td>2</td></tr><tr><td>&quot;02_11_06_12_05&quot;</td><td>2</td></tr><tr><td>&quot;02_15_03_07_05&quot;</td><td>2</td></tr><tr><td>&quot;01_14_09_04_06&quot;</td><td>2</td></tr><tr><td>&hellip;</td><td>&hellip;</td></tr><tr><td>&quot;02_04_02_07_03&quot;</td><td>1</td></tr><tr><td>&quot;02_01_18_12_06&quot;</td><td>1</td></tr><tr><td>&quot;01_08_15_01_06&quot;</td><td>1</td></tr><tr><td>&quot;02_02_09_07_03&quot;</td><td>1</td></tr><tr><td>&quot;02_12_10_01_01&quot;</td><td>1</td></tr></tbody></table></div>"
      ],
      "text/plain": [
       "shape: (120, 2)\n",
       "┌────────────────┬───────┐\n",
       "│ jumps_map      ┆ count │\n",
       "│ ---            ┆ ---   │\n",
       "│ str            ┆ u32   │\n",
       "╞════════════════╪═══════╡\n",
       "│ 02_07_03_04_04 ┆ 2     │\n",
       "│ 01_23_02_03_09 ┆ 2     │\n",
       "│ 02_11_06_12_05 ┆ 2     │\n",
       "│ 02_15_03_07_05 ┆ 2     │\n",
       "│ 01_14_09_04_06 ┆ 2     │\n",
       "│ …              ┆ …     │\n",
       "│ 02_04_02_07_03 ┆ 1     │\n",
       "│ 02_01_18_12_06 ┆ 1     │\n",
       "│ 01_08_15_01_06 ┆ 1     │\n",
       "│ 02_02_09_07_03 ┆ 1     │\n",
       "│ 02_12_10_01_01 ┆ 1     │\n",
       "└────────────────┴───────┘"
      ]
     },
     "metadata": {},
     "output_type": "display_data"
    },
    {
     "name": "stdout",
     "output_type": "stream",
     "text": [
      "df_unijump FOR str_b2 = 03\n"
     ]
    },
    {
     "data": {
      "text/html": [
       "<div><style>\n",
       ".dataframe > thead > tr,\n",
       ".dataframe > tbody > tr {\n",
       "  text-align: right;\n",
       "  white-space: pre-wrap;\n",
       "}\n",
       "</style>\n",
       "<small>shape: (92, 2)</small><table border=\"1\" class=\"dataframe\"><thead><tr><th>unijump</th><th>count</th></tr><tr><td>i64</td><td>u32</td></tr></thead><tbody><tr><td>-17</td><td>5</td></tr><tr><td>-46</td><td>5</td></tr><tr><td>14</td><td>4</td></tr><tr><td>4</td><td>4</td></tr><tr><td>-3</td><td>4</td></tr><tr><td>&hellip;</td><td>&hellip;</td></tr><tr><td>-33</td><td>1</td></tr><tr><td>-7</td><td>1</td></tr><tr><td>-107</td><td>1</td></tr><tr><td>-41</td><td>1</td></tr><tr><td>54</td><td>1</td></tr></tbody></table></div>"
      ],
      "text/plain": [
       "shape: (92, 2)\n",
       "┌─────────┬───────┐\n",
       "│ unijump ┆ count │\n",
       "│ ---     ┆ ---   │\n",
       "│ i64     ┆ u32   │\n",
       "╞═════════╪═══════╡\n",
       "│ -17     ┆ 5     │\n",
       "│ -46     ┆ 5     │\n",
       "│ 14      ┆ 4     │\n",
       "│ 4       ┆ 4     │\n",
       "│ -3      ┆ 4     │\n",
       "│ …       ┆ …     │\n",
       "│ -33     ┆ 1     │\n",
       "│ -7      ┆ 1     │\n",
       "│ -107    ┆ 1     │\n",
       "│ -41     ┆ 1     │\n",
       "│ 54      ┆ 1     │\n",
       "└─────────┴───────┘"
      ]
     },
     "metadata": {},
     "output_type": "display_data"
    }
   ],
   "source": [
    "possible_b2, exclude_jump_maps_b2, last_post_b2 = plot_post_col(col='str_b2', post_col='post_str_b2')"
   ]
  },
  {
   "cell_type": "code",
   "execution_count": 9,
   "metadata": {},
   "outputs": [
    {
     "name": "stdout",
     "output_type": "stream",
     "text": [
      "Setting test_value='04'\n",
      "df_viz FOR str_b3 = 04\n"
     ]
    },
    {
     "data": {
      "text/html": [
       "<div><style>\n",
       ".dataframe > thead > tr,\n",
       ".dataframe > tbody > tr {\n",
       "  text-align: right;\n",
       "  white-space: pre-wrap;\n",
       "}\n",
       "</style>\n",
       "<small>shape: (12, 3)</small><table border=\"1\" class=\"dataframe\"><thead><tr><th>post_str_b3</th><th>count</th><th>percent</th></tr><tr><td>str</td><td>u32</td><td>f64</td></tr></thead><tbody><tr><td>&quot;04&quot;</td><td>9</td><td>39.130435</td></tr><tr><td>&quot;14&quot;</td><td>2</td><td>8.695652</td></tr><tr><td>&quot;17&quot;</td><td>2</td><td>8.695652</td></tr><tr><td>&quot;29&quot;</td><td>2</td><td>8.695652</td></tr><tr><td>&quot;30&quot;</td><td>1</td><td>4.347826</td></tr><tr><td>&hellip;</td><td>&hellip;</td><td>&hellip;</td></tr><tr><td>&quot;06&quot;</td><td>1</td><td>4.347826</td></tr><tr><td>&quot;15&quot;</td><td>1</td><td>4.347826</td></tr><tr><td>&quot;18&quot;</td><td>1</td><td>4.347826</td></tr><tr><td>&quot;10&quot;</td><td>1</td><td>4.347826</td></tr><tr><td>&quot;21&quot;</td><td>1</td><td>4.347826</td></tr></tbody></table></div>"
      ],
      "text/plain": [
       "shape: (12, 3)\n",
       "┌─────────────┬───────┬───────────┐\n",
       "│ post_str_b3 ┆ count ┆ percent   │\n",
       "│ ---         ┆ ---   ┆ ---       │\n",
       "│ str         ┆ u32   ┆ f64       │\n",
       "╞═════════════╪═══════╪═══════════╡\n",
       "│ 04          ┆ 9     ┆ 39.130435 │\n",
       "│ 14          ┆ 2     ┆ 8.695652  │\n",
       "│ 17          ┆ 2     ┆ 8.695652  │\n",
       "│ 29          ┆ 2     ┆ 8.695652  │\n",
       "│ 30          ┆ 1     ┆ 4.347826  │\n",
       "│ …           ┆ …     ┆ …         │\n",
       "│ 06          ┆ 1     ┆ 4.347826  │\n",
       "│ 15          ┆ 1     ┆ 4.347826  │\n",
       "│ 18          ┆ 1     ┆ 4.347826  │\n",
       "│ 10          ┆ 1     ┆ 4.347826  │\n",
       "│ 21          ┆ 1     ┆ 4.347826  │\n",
       "└─────────────┴───────┴───────────┘"
      ]
     },
     "metadata": {},
     "output_type": "display_data"
    },
    {
     "data": {},
     "metadata": {},
     "output_type": "display_data"
    },
    {
     "data": {
      "application/vnd.holoviews_exec.v0+json": "",
      "text/html": [
       "<div id='2c6c27fd-75fa-46b4-9515-ad828216987e'>\n",
       "  <div id=\"dff5eb7d-c1cf-4001-8b8c-65898fe13cc2\" data-root-id=\"2c6c27fd-75fa-46b4-9515-ad828216987e\" style=\"display: contents;\"></div>\n",
       "</div>\n",
       "<script type=\"application/javascript\">(function(root) {\n",
       "  var docs_json = {\"60a4464c-73ad-478d-a5eb-248fd043cd93\":{\"version\":\"3.7.2\",\"title\":\"Bokeh Application\",\"roots\":[{\"type\":\"object\",\"name\":\"Row\",\"id\":\"2c6c27fd-75fa-46b4-9515-ad828216987e\",\"attributes\":{\"name\":\"Row00428\",\"tags\":[\"embedded\"],\"stylesheets\":[\"\\n:host(.pn-loading):before, .pn-loading:before {\\n  background-color: #c3c3c3;\\n  mask-size: auto calc(min(50%, 400px));\\n  -webkit-mask-size: auto calc(min(50%, 400px));\\n}\",{\"type\":\"object\",\"name\":\"ImportedStyleSheet\",\"id\":\"6fb33429-2617-4184-8ae4-2c8f3fcc2282\",\"attributes\":{\"url\":\"https://cdn.holoviz.org/panel/1.6.2/dist/css/loading.css\"}},{\"type\":\"object\",\"name\":\"ImportedStyleSheet\",\"id\":\"9e280dd9-6676-450b-bbf2-0449811fc10d\",\"attributes\":{\"url\":\"https://cdn.holoviz.org/panel/1.6.2/dist/css/listpanel.css\"}},{\"type\":\"object\",\"name\":\"ImportedStyleSheet\",\"id\":\"2c5665c5-7274-4036-8cbf-bacaa710265b\",\"attributes\":{\"url\":\"https://cdn.holoviz.org/panel/1.6.2/dist/bundled/theme/default.css\"}},{\"type\":\"object\",\"name\":\"ImportedStyleSheet\",\"id\":\"df5c3085-cafe-48f2-b8a3-d251ddb05259\",\"attributes\":{\"url\":\"https://cdn.holoviz.org/panel/1.6.2/dist/bundled/theme/native.css\"}}],\"min_width\":700,\"margin\":0,\"sizing_mode\":\"stretch_width\",\"align\":\"start\",\"children\":[{\"type\":\"object\",\"name\":\"Spacer\",\"id\":\"dbfcf188-4764-4682-9e22-248fa8ed8086\",\"attributes\":{\"name\":\"HSpacer00432\",\"stylesheets\":[\"\\n:host(.pn-loading):before, .pn-loading:before {\\n  background-color: #c3c3c3;\\n  mask-size: auto calc(min(50%, 400px));\\n  -webkit-mask-size: auto calc(min(50%, 400px));\\n}\",{\"id\":\"6fb33429-2617-4184-8ae4-2c8f3fcc2282\"},{\"id\":\"2c5665c5-7274-4036-8cbf-bacaa710265b\"},{\"id\":\"df5c3085-cafe-48f2-b8a3-d251ddb05259\"}],\"margin\":0,\"sizing_mode\":\"stretch_width\",\"align\":\"start\"}},{\"type\":\"object\",\"name\":\"Figure\",\"id\":\"bf29b5fd-ca4d-4982-b6e7-08b0b7c24c3d\",\"attributes\":{\"width\":700,\"height\":300,\"margin\":[5,10],\"sizing_mode\":\"fixed\",\"align\":\"start\",\"x_range\":{\"type\":\"object\",\"name\":\"FactorRange\",\"id\":\"ef7ba6be-cdfc-4446-9a5c-4fc8f15a5777\",\"attributes\":{\"name\":\"post_str_b3\",\"tags\":[[[\"post_str_b3\",null]],[]],\"factors\":[\"04\",\"14\",\"17\",\"29\",\"30\",\"19\",\"13\",\"06\",\"15\",\"18\",\"10\",\"21\"]}},\"y_range\":{\"type\":\"object\",\"name\":\"Range1d\",\"id\":\"1e683ed7-a667-4c04-948a-f82715e3f2b4\",\"attributes\":{\"name\":\"percent\",\"tags\":[[[\"percent\",null]],{\"type\":\"map\",\"entries\":[[\"invert_yaxis\",false],[\"autorange\",false]]}],\"end\":42.60869565217391,\"reset_start\":0.0,\"reset_end\":42.60869565217391}},\"x_scale\":{\"type\":\"object\",\"name\":\"CategoricalScale\",\"id\":\"bc7a33a5-c507-441e-9a00-daaa61b56b85\"},\"y_scale\":{\"type\":\"object\",\"name\":\"LinearScale\",\"id\":\"f8dcbc6a-c343-4995-8671-0ef2563b2d31\"},\"title\":{\"type\":\"object\",\"name\":\"Title\",\"id\":\"586e9f1d-0983-4026-8b39-2b344308415c\",\"attributes\":{\"text_color\":\"black\",\"text_font_size\":\"12pt\"}},\"renderers\":[{\"type\":\"object\",\"name\":\"GlyphRenderer\",\"id\":\"2891b551-d313-4092-93f0-3ac32b7b27a3\",\"attributes\":{\"data_source\":{\"type\":\"object\",\"name\":\"ColumnDataSource\",\"id\":\"f5c3761f-10a2-4ad2-9ef3-45a1bc926407\",\"attributes\":{\"selected\":{\"type\":\"object\",\"name\":\"Selection\",\"id\":\"e49d621b-63b6-4766-b522-a4ea7498a64e\",\"attributes\":{\"indices\":[],\"line_indices\":[]}},\"selection_policy\":{\"type\":\"object\",\"name\":\"UnionRenderers\",\"id\":\"fc7100f5-2bb4-4141-ad4c-5505ac0bf9f5\"},\"data\":{\"type\":\"map\",\"entries\":[[\"post_str_b3\",[\"04\",\"14\",\"17\",\"29\",\"30\",\"19\",\"13\",\"06\",\"15\",\"18\",\"10\",\"21\"]],[\"percent\",{\"type\":\"ndarray\",\"array\":{\"type\":\"bytes\",\"data\":\"WMhCFrKQQ0AWspCFLGQhQBaykIUsZCFAFrKQhSxkIUAWspCFLGQRQBaykIUsZBFAFrKQhSxkEUAWspCFLGQRQBaykIUsZBFAFrKQhSxkEUAWspCFLGQRQBaykIUsZBFA\"},\"shape\":[12],\"dtype\":\"float64\",\"order\":\"little\"}]]}}},\"view\":{\"type\":\"object\",\"name\":\"CDSView\",\"id\":\"8849accb-5811-4527-849f-8a2e226237bb\",\"attributes\":{\"filter\":{\"type\":\"object\",\"name\":\"AllIndices\",\"id\":\"9b087053-8dfa-40de-9e0b-54df20f20ceb\"}}},\"glyph\":{\"type\":\"object\",\"name\":\"VBar\",\"id\":\"e1fe0d38-4b69-4d05-8273-01513dd6313e\",\"attributes\":{\"tags\":[\"apply_ranges\"],\"x\":{\"type\":\"field\",\"field\":\"post_str_b3\"},\"width\":{\"type\":\"value\",\"value\":0.8},\"top\":{\"type\":\"field\",\"field\":\"percent\"},\"fill_color\":{\"type\":\"value\",\"value\":\"#30a2da\"},\"hatch_color\":{\"type\":\"value\",\"value\":\"#30a2da\"}}},\"selection_glyph\":{\"type\":\"object\",\"name\":\"VBar\",\"id\":\"d51c32f8-1d62-4967-9315-b39d4879a7a1\",\"attributes\":{\"tags\":[\"apply_ranges\"],\"x\":{\"type\":\"field\",\"field\":\"post_str_b3\"},\"width\":{\"type\":\"value\",\"value\":0.8},\"bottom\":{\"type\":\"value\",\"value\":0},\"top\":{\"type\":\"field\",\"field\":\"percent\"},\"line_color\":{\"type\":\"value\",\"value\":\"black\"},\"line_alpha\":{\"type\":\"value\",\"value\":1.0},\"line_width\":{\"type\":\"value\",\"value\":1},\"line_join\":{\"type\":\"value\",\"value\":\"bevel\"},\"line_cap\":{\"type\":\"value\",\"value\":\"butt\"},\"line_dash\":{\"type\":\"value\",\"value\":[]},\"line_dash_offset\":{\"type\":\"value\",\"value\":0},\"fill_color\":{\"type\":\"value\",\"value\":\"#30a2da\"},\"fill_alpha\":{\"type\":\"value\",\"value\":1.0},\"hatch_color\":{\"type\":\"value\",\"value\":\"#30a2da\"},\"hatch_alpha\":{\"type\":\"value\",\"value\":1.0},\"hatch_scale\":{\"type\":\"value\",\"value\":12.0},\"hatch_pattern\":{\"type\":\"value\",\"value\":null},\"hatch_weight\":{\"type\":\"value\",\"value\":1.0}}},\"nonselection_glyph\":{\"type\":\"object\",\"name\":\"VBar\",\"id\":\"6b9b750f-9d18-4e25-830c-3e0dff642055\",\"attributes\":{\"tags\":[\"apply_ranges\"],\"x\":{\"type\":\"field\",\"field\":\"post_str_b3\"},\"width\":{\"type\":\"value\",\"value\":0.8},\"top\":{\"type\":\"field\",\"field\":\"percent\"},\"line_alpha\":{\"type\":\"value\",\"value\":0.1},\"fill_color\":{\"type\":\"value\",\"value\":\"#30a2da\"},\"fill_alpha\":{\"type\":\"value\",\"value\":0.1},\"hatch_color\":{\"type\":\"value\",\"value\":\"#30a2da\"},\"hatch_alpha\":{\"type\":\"value\",\"value\":0.1}}},\"muted_glyph\":{\"type\":\"object\",\"name\":\"VBar\",\"id\":\"2f1c2aa2-207d-4e4d-8117-f03a96298e7c\",\"attributes\":{\"tags\":[\"apply_ranges\"],\"x\":{\"type\":\"field\",\"field\":\"post_str_b3\"},\"width\":{\"type\":\"value\",\"value\":0.8},\"top\":{\"type\":\"field\",\"field\":\"percent\"},\"line_alpha\":{\"type\":\"value\",\"value\":0.2},\"fill_color\":{\"type\":\"value\",\"value\":\"#30a2da\"},\"fill_alpha\":{\"type\":\"value\",\"value\":0.2},\"hatch_color\":{\"type\":\"value\",\"value\":\"#30a2da\"},\"hatch_alpha\":{\"type\":\"value\",\"value\":0.2}}}}},{\"type\":\"object\",\"name\":\"Span\",\"id\":\"2dba62d6-6387-4483-b085-928d015c537f\",\"attributes\":{\"level\":\"glyph\",\"location\":8.33333333333333,\"line_color\":\"red\",\"line_width\":3}},{\"type\":\"object\",\"name\":\"Span\",\"id\":\"72d7dffc-c7af-4b40-a536-15631a1d3503\",\"attributes\":{\"level\":\"glyph\",\"location\":12.499999999999995,\"line_color\":\"blue\",\"line_width\":3}},{\"type\":\"object\",\"name\":\"Span\",\"id\":\"be264e91-5c1e-41d4-9244-e152ea457698\",\"attributes\":{\"level\":\"glyph\",\"location\":4.166666666666665,\"line_color\":\"blue\",\"line_width\":3}}],\"toolbar\":{\"type\":\"object\",\"name\":\"Toolbar\",\"id\":\"d983b618-49ba-4365-b80d-b0987b0aff75\",\"attributes\":{\"tools\":[{\"type\":\"object\",\"name\":\"WheelZoomTool\",\"id\":\"3c717674-8fdc-4cda-83c4-4745eed3bf92\",\"attributes\":{\"tags\":[\"hv_created\"],\"renderers\":\"auto\",\"zoom_together\":\"none\"}},{\"type\":\"object\",\"name\":\"HoverTool\",\"id\":\"1a79d472-2625-4c3f-a892-e9b79cd4284d\",\"attributes\":{\"tags\":[\"hv_created\"],\"renderers\":[{\"id\":\"2891b551-d313-4092-93f0-3ac32b7b27a3\"}],\"tooltips\":[[\"post_str_b3\",\"@{post_str_b3}\"],[\"percent\",\"@{percent}\"]]}},{\"type\":\"object\",\"name\":\"SaveTool\",\"id\":\"e890e778-1973-41f2-a3be-c243865f30d2\"},{\"type\":\"object\",\"name\":\"PanTool\",\"id\":\"d9c516d1-7608-477a-9c5d-1adc5ef3ddca\"},{\"type\":\"object\",\"name\":\"BoxZoomTool\",\"id\":\"516326ad-50b1-49aa-9341-a6df1306f510\",\"attributes\":{\"dimensions\":\"both\",\"overlay\":{\"type\":\"object\",\"name\":\"BoxAnnotation\",\"id\":\"a754efcb-0643-4209-866f-174797e9e8ea\",\"attributes\":{\"syncable\":false,\"line_color\":\"black\",\"line_alpha\":1.0,\"line_width\":2,\"line_dash\":[4,4],\"fill_color\":\"lightgrey\",\"fill_alpha\":0.5,\"level\":\"overlay\",\"visible\":false,\"left\":{\"type\":\"number\",\"value\":\"nan\"},\"right\":{\"type\":\"number\",\"value\":\"nan\"},\"top\":{\"type\":\"number\",\"value\":\"nan\"},\"bottom\":{\"type\":\"number\",\"value\":\"nan\"},\"left_units\":\"canvas\",\"right_units\":\"canvas\",\"top_units\":\"canvas\",\"bottom_units\":\"canvas\",\"handles\":{\"type\":\"object\",\"name\":\"BoxInteractionHandles\",\"id\":\"eb3e26ca-7173-4729-8f57-8e935c74c8f9\",\"attributes\":{\"all\":{\"type\":\"object\",\"name\":\"AreaVisuals\",\"id\":\"00c4d3df-3f63-4d9e-9321-66f49c4d5764\",\"attributes\":{\"fill_color\":\"white\",\"hover_fill_color\":\"lightgray\"}}}}}}}},{\"type\":\"object\",\"name\":\"ResetTool\",\"id\":\"42e68d7d-1f6d-4dfb-9a74-c398e9d73845\"}],\"active_drag\":{\"id\":\"d9c516d1-7608-477a-9c5d-1adc5ef3ddca\"}}},\"left\":[{\"type\":\"object\",\"name\":\"LinearAxis\",\"id\":\"9dac472a-cb9a-4279-8728-1cb1a5818183\",\"attributes\":{\"ticker\":{\"type\":\"object\",\"name\":\"BasicTicker\",\"id\":\"907159e0-7bc6-461c-9366-63f62c5847e3\",\"attributes\":{\"mantissas\":[1,2,5]}},\"formatter\":{\"type\":\"object\",\"name\":\"BasicTickFormatter\",\"id\":\"1ea8b459-c65e-451d-8ff6-bf1d5f10e745\"},\"axis_label\":\"percent\",\"major_label_policy\":{\"type\":\"object\",\"name\":\"AllLabels\",\"id\":\"81b5dd41-b7d4-4fa3-84cc-2c6f6f61e760\"}}}],\"below\":[{\"type\":\"object\",\"name\":\"CategoricalAxis\",\"id\":\"98f409b9-c303-49d9-9cd6-cbbab47b0d1a\",\"attributes\":{\"ticker\":{\"type\":\"object\",\"name\":\"CategoricalTicker\",\"id\":\"c3159209-056f-4aa4-8dc8-bd377ae2a285\"},\"formatter\":{\"type\":\"object\",\"name\":\"CategoricalTickFormatter\",\"id\":\"199ae81a-3cbe-48f4-86cf-28935f4b4234\"},\"axis_label\":\"post_str_b3\",\"major_label_policy\":{\"type\":\"object\",\"name\":\"AllLabels\",\"id\":\"8073e605-6940-4d6f-bf4e-aad3a2dc1046\"}}}],\"center\":[{\"type\":\"object\",\"name\":\"Grid\",\"id\":\"0463fac1-481c-4e84-99d3-175ede3d1434\",\"attributes\":{\"axis\":{\"id\":\"98f409b9-c303-49d9-9cd6-cbbab47b0d1a\"},\"grid_line_color\":null}},{\"type\":\"object\",\"name\":\"Grid\",\"id\":\"98bf611e-4173-4dbf-84eb-b78ba02ee996\",\"attributes\":{\"dimension\":1,\"axis\":{\"id\":\"9dac472a-cb9a-4279-8728-1cb1a5818183\"},\"grid_line_color\":null}}],\"min_border_top\":10,\"min_border_bottom\":10,\"min_border_left\":10,\"min_border_right\":10,\"output_backend\":\"webgl\"}},{\"type\":\"object\",\"name\":\"Spacer\",\"id\":\"1c3b5af1-129e-4c20-8fe5-0ef2037180d9\",\"attributes\":{\"name\":\"HSpacer00433\",\"stylesheets\":[\"\\n:host(.pn-loading):before, .pn-loading:before {\\n  background-color: #c3c3c3;\\n  mask-size: auto calc(min(50%, 400px));\\n  -webkit-mask-size: auto calc(min(50%, 400px));\\n}\",{\"id\":\"6fb33429-2617-4184-8ae4-2c8f3fcc2282\"},{\"id\":\"2c5665c5-7274-4036-8cbf-bacaa710265b\"},{\"id\":\"df5c3085-cafe-48f2-b8a3-d251ddb05259\"}],\"margin\":0,\"sizing_mode\":\"stretch_width\",\"align\":\"start\"}}]}}],\"defs\":[{\"type\":\"model\",\"name\":\"ReactiveHTML1\"},{\"type\":\"model\",\"name\":\"FlexBox1\",\"properties\":[{\"name\":\"align_content\",\"kind\":\"Any\",\"default\":\"flex-start\"},{\"name\":\"align_items\",\"kind\":\"Any\",\"default\":\"flex-start\"},{\"name\":\"flex_direction\",\"kind\":\"Any\",\"default\":\"row\"},{\"name\":\"flex_wrap\",\"kind\":\"Any\",\"default\":\"wrap\"},{\"name\":\"gap\",\"kind\":\"Any\",\"default\":\"\"},{\"name\":\"justify_content\",\"kind\":\"Any\",\"default\":\"flex-start\"}]},{\"type\":\"model\",\"name\":\"FloatPanel1\",\"properties\":[{\"name\":\"config\",\"kind\":\"Any\",\"default\":{\"type\":\"map\"}},{\"name\":\"contained\",\"kind\":\"Any\",\"default\":true},{\"name\":\"position\",\"kind\":\"Any\",\"default\":\"right-top\"},{\"name\":\"offsetx\",\"kind\":\"Any\",\"default\":null},{\"name\":\"offsety\",\"kind\":\"Any\",\"default\":null},{\"name\":\"theme\",\"kind\":\"Any\",\"default\":\"primary\"},{\"name\":\"status\",\"kind\":\"Any\",\"default\":\"normalized\"}]},{\"type\":\"model\",\"name\":\"GridStack1\",\"properties\":[{\"name\":\"ncols\",\"kind\":\"Any\",\"default\":null},{\"name\":\"nrows\",\"kind\":\"Any\",\"default\":null},{\"name\":\"allow_resize\",\"kind\":\"Any\",\"default\":true},{\"name\":\"allow_drag\",\"kind\":\"Any\",\"default\":true},{\"name\":\"state\",\"kind\":\"Any\",\"default\":[]}]},{\"type\":\"model\",\"name\":\"drag1\",\"properties\":[{\"name\":\"slider_width\",\"kind\":\"Any\",\"default\":5},{\"name\":\"slider_color\",\"kind\":\"Any\",\"default\":\"black\"},{\"name\":\"value\",\"kind\":\"Any\",\"default\":50}]},{\"type\":\"model\",\"name\":\"click1\",\"properties\":[{\"name\":\"terminal_output\",\"kind\":\"Any\",\"default\":\"\"},{\"name\":\"debug_name\",\"kind\":\"Any\",\"default\":\"\"},{\"name\":\"clears\",\"kind\":\"Any\",\"default\":0}]},{\"type\":\"model\",\"name\":\"FastWrapper1\",\"properties\":[{\"name\":\"object\",\"kind\":\"Any\",\"default\":null},{\"name\":\"style\",\"kind\":\"Any\",\"default\":null}]},{\"type\":\"model\",\"name\":\"NotificationArea1\",\"properties\":[{\"name\":\"js_events\",\"kind\":\"Any\",\"default\":{\"type\":\"map\"}},{\"name\":\"max_notifications\",\"kind\":\"Any\",\"default\":5},{\"name\":\"notifications\",\"kind\":\"Any\",\"default\":[]},{\"name\":\"position\",\"kind\":\"Any\",\"default\":\"bottom-right\"},{\"name\":\"_clear\",\"kind\":\"Any\",\"default\":0},{\"name\":\"types\",\"kind\":\"Any\",\"default\":[{\"type\":\"map\",\"entries\":[[\"type\",\"warning\"],[\"background\",\"#ffc107\"],[\"icon\",{\"type\":\"map\",\"entries\":[[\"className\",\"fas fa-exclamation-triangle\"],[\"tagName\",\"i\"],[\"color\",\"white\"]]}]]},{\"type\":\"map\",\"entries\":[[\"type\",\"info\"],[\"background\",\"#007bff\"],[\"icon\",{\"type\":\"map\",\"entries\":[[\"className\",\"fas fa-info-circle\"],[\"tagName\",\"i\"],[\"color\",\"white\"]]}]]}]}]},{\"type\":\"model\",\"name\":\"Notification\",\"properties\":[{\"name\":\"background\",\"kind\":\"Any\",\"default\":null},{\"name\":\"duration\",\"kind\":\"Any\",\"default\":3000},{\"name\":\"icon\",\"kind\":\"Any\",\"default\":null},{\"name\":\"message\",\"kind\":\"Any\",\"default\":\"\"},{\"name\":\"notification_type\",\"kind\":\"Any\",\"default\":null},{\"name\":\"_rendered\",\"kind\":\"Any\",\"default\":false},{\"name\":\"_destroyed\",\"kind\":\"Any\",\"default\":false}]},{\"type\":\"model\",\"name\":\"TemplateActions1\",\"properties\":[{\"name\":\"open_modal\",\"kind\":\"Any\",\"default\":0},{\"name\":\"close_modal\",\"kind\":\"Any\",\"default\":0}]},{\"type\":\"model\",\"name\":\"BootstrapTemplateActions1\",\"properties\":[{\"name\":\"open_modal\",\"kind\":\"Any\",\"default\":0},{\"name\":\"close_modal\",\"kind\":\"Any\",\"default\":0}]},{\"type\":\"model\",\"name\":\"TemplateEditor1\",\"properties\":[{\"name\":\"layout\",\"kind\":\"Any\",\"default\":[]}]},{\"type\":\"model\",\"name\":\"MaterialTemplateActions1\",\"properties\":[{\"name\":\"open_modal\",\"kind\":\"Any\",\"default\":0},{\"name\":\"close_modal\",\"kind\":\"Any\",\"default\":0}]},{\"type\":\"model\",\"name\":\"ReactiveESM1\",\"properties\":[{\"name\":\"esm_constants\",\"kind\":\"Any\",\"default\":{\"type\":\"map\"}}]},{\"type\":\"model\",\"name\":\"JSComponent1\",\"properties\":[{\"name\":\"esm_constants\",\"kind\":\"Any\",\"default\":{\"type\":\"map\"}}]},{\"type\":\"model\",\"name\":\"ReactComponent1\",\"properties\":[{\"name\":\"esm_constants\",\"kind\":\"Any\",\"default\":{\"type\":\"map\"}}]},{\"type\":\"model\",\"name\":\"AnyWidgetComponent1\",\"properties\":[{\"name\":\"esm_constants\",\"kind\":\"Any\",\"default\":{\"type\":\"map\"}}]},{\"type\":\"model\",\"name\":\"request_value1\",\"properties\":[{\"name\":\"fill\",\"kind\":\"Any\",\"default\":\"none\"},{\"name\":\"_synced\",\"kind\":\"Any\",\"default\":null},{\"name\":\"_request_sync\",\"kind\":\"Any\",\"default\":0}]}]}};\n",
       "  var render_items = [{\"docid\":\"60a4464c-73ad-478d-a5eb-248fd043cd93\",\"roots\":{\"2c6c27fd-75fa-46b4-9515-ad828216987e\":\"dff5eb7d-c1cf-4001-8b8c-65898fe13cc2\"},\"root_ids\":[\"2c6c27fd-75fa-46b4-9515-ad828216987e\"]}];\n",
       "  var docs = Object.values(docs_json)\n",
       "  if (!docs) {\n",
       "    return\n",
       "  }\n",
       "  const py_version = docs[0].version.replace('rc', '-rc.').replace('.dev', '-dev.')\n",
       "  async function embed_document(root) {\n",
       "    var Bokeh = get_bokeh(root)\n",
       "    await Bokeh.embed.embed_items_notebook(docs_json, render_items);\n",
       "    for (const render_item of render_items) {\n",
       "      for (const root_id of render_item.root_ids) {\n",
       "\tconst id_el = document.getElementById(root_id)\n",
       "\tif (id_el.children.length && id_el.children[0].hasAttribute('data-root-id')) {\n",
       "\t  const root_el = id_el.children[0]\n",
       "\t  root_el.id = root_el.id + '-rendered'\n",
       "\t  for (const child of root_el.children) {\n",
       "            // Ensure JupyterLab does not capture keyboard shortcuts\n",
       "            // see: https://jupyterlab.readthedocs.io/en/4.1.x/extension/notebook.html#keyboard-interaction-model\n",
       "\t    child.setAttribute('data-lm-suppress-shortcuts', 'true')\n",
       "\t  }\n",
       "\t}\n",
       "      }\n",
       "    }\n",
       "  }\n",
       "  function get_bokeh(root) {\n",
       "    if (root.Bokeh === undefined) {\n",
       "      return null\n",
       "    } else if (root.Bokeh.version !== py_version) {\n",
       "      if (root.Bokeh.versions === undefined || !root.Bokeh.versions.has(py_version)) {\n",
       "\treturn null\n",
       "      }\n",
       "      return root.Bokeh.versions.get(py_version);\n",
       "    } else if (root.Bokeh.version === py_version) {\n",
       "      return root.Bokeh\n",
       "    }\n",
       "    return null\n",
       "  }\n",
       "  function is_loaded(root) {\n",
       "    var Bokeh = get_bokeh(root)\n",
       "    return (Bokeh != null && Bokeh.Panel !== undefined)\n",
       "  }\n",
       "  if (is_loaded(root)) {\n",
       "    embed_document(root);\n",
       "  } else {\n",
       "    var attempts = 0;\n",
       "    var timer = setInterval(function(root) {\n",
       "      if (is_loaded(root)) {\n",
       "        clearInterval(timer);\n",
       "        embed_document(root);\n",
       "      } else if (document.readyState == \"complete\") {\n",
       "        attempts++;\n",
       "        if (attempts > 200) {\n",
       "          clearInterval(timer);\n",
       "\t  var Bokeh = get_bokeh(root)\n",
       "\t  if (Bokeh == null || Bokeh.Panel == null) {\n",
       "            console.warn(\"Panel: ERROR: Unable to run Panel code because Bokeh or Panel library is missing\");\n",
       "\t  } else {\n",
       "\t    console.warn(\"Panel: WARNING: Attempting to render but not all required libraries could be resolved.\")\n",
       "\t    embed_document(root)\n",
       "\t  }\n",
       "        }\n",
       "      }\n",
       "    }, 25, root)\n",
       "  }\n",
       "})(window);</script>"
      ],
      "text/plain": [
       ":Overlay\n",
       "   .Bars.I    :Bars   [post_str_b3]   (percent)\n",
       "   .HLine.I   :HLine   [x,y]\n",
       "   .HLine.II  :HLine   [x,y]\n",
       "   .HLine.III :HLine   [x,y]"
      ]
     },
     "metadata": {
      "application/vnd.holoviews_exec.v0+json": {
       "id": "2c6c27fd-75fa-46b4-9515-ad828216987e"
      }
     },
     "output_type": "display_data"
    },
    {
     "name": "stdout",
     "output_type": "stream",
     "text": [
      "df_10_last FOR str_b3 = 04\n",
      "Last 3 results last_results=['04', '29']\n"
     ]
    },
    {
     "data": {
      "text/html": [
       "<div><style>\n",
       ".dataframe > thead > tr,\n",
       ".dataframe > tbody > tr {\n",
       "  text-align: right;\n",
       "  white-space: pre-wrap;\n",
       "}\n",
       "</style>\n",
       "<small>shape: (10, 30)</small><table border=\"1\" class=\"dataframe\"><thead><tr><th>fecha</th><th>sorteo</th><th>bolillas regulares</th><th>bolillas chauchamba</th><th>cc1</th><th>cc2</th><th>id</th><th>combo</th><th>b1</th><th>b2</th><th>b3</th><th>b4</th><th>b5</th><th>b6</th><th>str_b1</th><th>str_b2</th><th>str_b3</th><th>str_b4</th><th>str_b5</th><th>str_b6</th><th>post_str_b1</th><th>post_str_b2</th><th>post_str_b3</th><th>post_str_b4</th><th>post_str_b5</th><th>post_str_blast</th><th>is_rare_combination</th><th>reason</th><th>jumps_map</th><th>unijump</th></tr><tr><td>str</td><td>str</td><td>str</td><td>str</td><td>str</td><td>str</td><td>str</td><td>array[u8, 6]</td><td>u8</td><td>u8</td><td>u8</td><td>u8</td><td>u8</td><td>u8</td><td>str</td><td>str</td><td>str</td><td>str</td><td>str</td><td>str</td><td>str</td><td>str</td><td>str</td><td>str</td><td>str</td><td>str</td><td>bool</td><td>u8</td><td>str</td><td>i64</td></tr></thead><tbody><tr><td>&quot;19/04/2025&quot;</td><td>&quot;1797&quot;</td><td>&quot;40 34 04 03 01 22&quot;</td><td>&quot;06 02 22 09 04 21&quot;</td><td>&quot;&quot;</td><td>&quot;&quot;</td><td>&quot;010304223440&quot;</td><td>[1, 3, … 40]</td><td>1</td><td>3</td><td>4</td><td>22</td><td>34</td><td>40</td><td>&quot;01&quot;</td><td>&quot;03&quot;</td><td>&quot;04&quot;</td><td>&quot;22&quot;</td><td>&quot;34&quot;</td><td>&quot;40&quot;</td><td>&quot;01&quot;</td><td>&quot;03&quot;</td><td>&quot;04&quot;</td><td>&quot;22&quot;</td><td>&quot;34&quot;</td><td>&quot;40&quot;</td><td>false</td><td>0</td><td>&quot;02_01_18_12_06&quot;</td><td>64</td></tr><tr><td>&quot;20/04/2021&quot;</td><td>&quot;1171&quot;</td><td>&quot;04 40 11 02 01 21&quot;</td><td>&quot;20 29 30 02 34 38&quot;</td><td>&quot;&quot;</td><td>&quot;&quot;</td><td>&quot;010204112140&quot;</td><td>[1, 2, … 40]</td><td>1</td><td>2</td><td>4</td><td>11</td><td>21</td><td>40</td><td>&quot;01&quot;</td><td>&quot;02&quot;</td><td>&quot;04&quot;</td><td>&quot;11&quot;</td><td>&quot;21&quot;</td><td>&quot;40&quot;</td><td>&quot;06&quot;</td><td>&quot;24&quot;</td><td>&quot;29&quot;</td><td>&quot;31&quot;</td><td>&quot;34&quot;</td><td>&quot;35&quot;</td><td>true</td><td>16</td><td>&quot;01_02_07_10_19&quot;</td><td>14</td></tr><tr><td>&quot;20/04/2021&quot;</td><td>&quot;1171&quot;</td><td>&quot;04 40 11 02 01 21&quot;</td><td>&quot;20 29 30 02 34 38&quot;</td><td>&quot;&quot;</td><td>&quot;&quot;</td><td>&quot;010204112140&quot;</td><td>[1, 2, … 40]</td><td>1</td><td>2</td><td>4</td><td>11</td><td>21</td><td>40</td><td>&quot;01&quot;</td><td>&quot;02&quot;</td><td>&quot;04&quot;</td><td>&quot;11&quot;</td><td>&quot;21&quot;</td><td>&quot;40&quot;</td><td>&quot;01&quot;</td><td>&quot;02&quot;</td><td>&quot;04&quot;</td><td>&quot;11&quot;</td><td>&quot;21&quot;</td><td>&quot;40&quot;</td><td>true</td><td>16</td><td>&quot;01_02_07_10_19&quot;</td><td>14</td></tr><tr><td>&quot;19/09/2020&quot;</td><td>&quot;1080&quot;</td><td>&quot;31 04 01 02 06 11&quot;</td><td>&quot;07 27 19 10 02 03&quot;</td><td>&quot;&quot;</td><td>&quot;&quot;</td><td>&quot;010204061131&quot;</td><td>[1, 2, … 31]</td><td>1</td><td>2</td><td>4</td><td>6</td><td>11</td><td>31</td><td>&quot;01&quot;</td><td>&quot;02&quot;</td><td>&quot;04&quot;</td><td>&quot;06&quot;</td><td>&quot;11&quot;</td><td>&quot;31&quot;</td><td>&quot;03&quot;</td><td>&quot;07&quot;</td><td>&quot;18&quot;</td><td>&quot;23&quot;</td><td>&quot;27&quot;</td><td>&quot;32&quot;</td><td>true</td><td>8</td><td>&quot;01_02_02_05_20&quot;</td><td>5</td></tr><tr><td>&quot;19/09/2020&quot;</td><td>&quot;1080&quot;</td><td>&quot;31 04 01 02 06 11&quot;</td><td>&quot;07 27 19 10 02 03&quot;</td><td>&quot;&quot;</td><td>&quot;&quot;</td><td>&quot;010204061131&quot;</td><td>[1, 2, … 31]</td><td>1</td><td>2</td><td>4</td><td>6</td><td>11</td><td>31</td><td>&quot;01&quot;</td><td>&quot;02&quot;</td><td>&quot;04&quot;</td><td>&quot;06&quot;</td><td>&quot;11&quot;</td><td>&quot;31&quot;</td><td>&quot;01&quot;</td><td>&quot;02&quot;</td><td>&quot;04&quot;</td><td>&quot;06&quot;</td><td>&quot;11&quot;</td><td>&quot;31&quot;</td><td>true</td><td>8</td><td>&quot;01_02_02_05_20&quot;</td><td>5</td></tr><tr><td>&quot;14/07/2020&quot;</td><td>&quot;1051&quot;</td><td>&quot;01 14 09 03 04 30&quot;</td><td>&quot;40 37 19 15 26 20&quot;</td><td>&quot;&quot;</td><td>&quot;&quot;</td><td>&quot;010304091430&quot;</td><td>[1, 3, … 30]</td><td>1</td><td>3</td><td>4</td><td>9</td><td>14</td><td>30</td><td>&quot;01&quot;</td><td>&quot;03&quot;</td><td>&quot;04&quot;</td><td>&quot;09&quot;</td><td>&quot;14&quot;</td><td>&quot;30&quot;</td><td>&quot;03&quot;</td><td>&quot;05&quot;</td><td>&quot;17&quot;</td><td>&quot;18&quot;</td><td>&quot;20&quot;</td><td>&quot;21&quot;</td><td>true</td><td>24</td><td>&quot;02_01_05_05_16&quot;</td><td>24</td></tr><tr><td>&quot;14/07/2020&quot;</td><td>&quot;1051&quot;</td><td>&quot;01 14 09 03 04 30&quot;</td><td>&quot;40 37 19 15 26 20&quot;</td><td>&quot;&quot;</td><td>&quot;&quot;</td><td>&quot;010304091430&quot;</td><td>[1, 3, … 30]</td><td>1</td><td>3</td><td>4</td><td>9</td><td>14</td><td>30</td><td>&quot;01&quot;</td><td>&quot;03&quot;</td><td>&quot;04&quot;</td><td>&quot;09&quot;</td><td>&quot;14&quot;</td><td>&quot;30&quot;</td><td>&quot;01&quot;</td><td>&quot;03&quot;</td><td>&quot;04&quot;</td><td>&quot;09&quot;</td><td>&quot;14&quot;</td><td>&quot;30&quot;</td><td>true</td><td>24</td><td>&quot;02_01_05_05_16&quot;</td><td>24</td></tr><tr><td>&quot;12/01/2019&quot;</td><td>&quot;0849&quot;</td><td>&quot;13 14 17 04 03 01&quot;</td><td>&quot;10 26 22 09 08 16&quot;</td><td>&quot;&quot;</td><td>&quot;&quot;</td><td>&quot;010304131417&quot;</td><td>[1, 3, … 17]</td><td>1</td><td>3</td><td>4</td><td>13</td><td>14</td><td>17</td><td>&quot;01&quot;</td><td>&quot;03&quot;</td><td>&quot;04&quot;</td><td>&quot;13&quot;</td><td>&quot;14&quot;</td><td>&quot;17&quot;</td><td>&quot;11&quot;</td><td>&quot;25&quot;</td><td>&quot;29&quot;</td><td>&quot;34&quot;</td><td>&quot;38&quot;</td><td>&quot;40&quot;</td><td>true</td><td>16</td><td>&quot;02_01_09_01_03&quot;</td><td>51</td></tr><tr><td>&quot;12/01/2019&quot;</td><td>&quot;0849&quot;</td><td>&quot;13 14 17 04 03 01&quot;</td><td>&quot;10 26 22 09 08 16&quot;</td><td>&quot;&quot;</td><td>&quot;&quot;</td><td>&quot;010304131417&quot;</td><td>[1, 3, … 17]</td><td>1</td><td>3</td><td>4</td><td>13</td><td>14</td><td>17</td><td>&quot;01&quot;</td><td>&quot;03&quot;</td><td>&quot;04&quot;</td><td>&quot;13&quot;</td><td>&quot;14&quot;</td><td>&quot;17&quot;</td><td>&quot;01&quot;</td><td>&quot;03&quot;</td><td>&quot;04&quot;</td><td>&quot;13&quot;</td><td>&quot;14&quot;</td><td>&quot;17&quot;</td><td>true</td><td>16</td><td>&quot;02_01_09_01_03&quot;</td><td>51</td></tr><tr><td>&quot;06/09/2018&quot;</td><td>&quot;0794&quot;</td><td>&quot;02 01 37 04 34 06&quot;</td><td>&quot;24 01 38 04 32 06&quot;</td><td>&quot;&quot;</td><td>&quot;&quot;</td><td>&quot;010204063437&quot;</td><td>[1, 2, … 37]</td><td>1</td><td>2</td><td>4</td><td>6</td><td>34</td><td>37</td><td>&quot;01&quot;</td><td>&quot;02&quot;</td><td>&quot;04&quot;</td><td>&quot;06&quot;</td><td>&quot;34&quot;</td><td>&quot;37&quot;</td><td>&quot;05&quot;</td><td>&quot;12&quot;</td><td>&quot;30&quot;</td><td>&quot;31&quot;</td><td>&quot;34&quot;</td><td>&quot;35&quot;</td><td>true</td><td>8</td><td>&quot;01_02_02_28_03&quot;</td><td>-104</td></tr></tbody></table></div>"
      ],
      "text/plain": [
       "shape: (10, 30)\n",
       "┌────────────┬────────┬─────────────┬─────────────┬───┬────────────┬────────┬────────────┬─────────┐\n",
       "│ fecha      ┆ sorteo ┆ bolillas    ┆ bolillas    ┆ … ┆ is_rare_co ┆ reason ┆ jumps_map  ┆ unijump │\n",
       "│ ---        ┆ ---    ┆ regulares   ┆ chauchamba  ┆   ┆ mbination  ┆ ---    ┆ ---        ┆ ---     │\n",
       "│ str        ┆ str    ┆ ---         ┆ ---         ┆   ┆ ---        ┆ u8     ┆ str        ┆ i64     │\n",
       "│            ┆        ┆ str         ┆ str         ┆   ┆ bool       ┆        ┆            ┆         │\n",
       "╞════════════╪════════╪═════════════╪═════════════╪═══╪════════════╪════════╪════════════╪═════════╡\n",
       "│ 19/04/2025 ┆ 1797   ┆ 40 34 04 03 ┆ 06 02 22 09 ┆ … ┆ false      ┆ 0      ┆ 02_01_18_1 ┆ 64      │\n",
       "│            ┆        ┆ 01 22       ┆ 04 21       ┆   ┆            ┆        ┆ 2_06       ┆         │\n",
       "│ 20/04/2021 ┆ 1171   ┆ 04 40 11 02 ┆ 20 29 30 02 ┆ … ┆ true       ┆ 16     ┆ 01_02_07_1 ┆ 14      │\n",
       "│            ┆        ┆ 01 21       ┆ 34 38       ┆   ┆            ┆        ┆ 0_19       ┆         │\n",
       "│ 20/04/2021 ┆ 1171   ┆ 04 40 11 02 ┆ 20 29 30 02 ┆ … ┆ true       ┆ 16     ┆ 01_02_07_1 ┆ 14      │\n",
       "│            ┆        ┆ 01 21       ┆ 34 38       ┆   ┆            ┆        ┆ 0_19       ┆         │\n",
       "│ 19/09/2020 ┆ 1080   ┆ 31 04 01 02 ┆ 07 27 19 10 ┆ … ┆ true       ┆ 8      ┆ 01_02_02_0 ┆ 5       │\n",
       "│            ┆        ┆ 06 11       ┆ 02 03       ┆   ┆            ┆        ┆ 5_20       ┆         │\n",
       "│ 19/09/2020 ┆ 1080   ┆ 31 04 01 02 ┆ 07 27 19 10 ┆ … ┆ true       ┆ 8      ┆ 01_02_02_0 ┆ 5       │\n",
       "│            ┆        ┆ 06 11       ┆ 02 03       ┆   ┆            ┆        ┆ 5_20       ┆         │\n",
       "│ 14/07/2020 ┆ 1051   ┆ 01 14 09 03 ┆ 40 37 19 15 ┆ … ┆ true       ┆ 24     ┆ 02_01_05_0 ┆ 24      │\n",
       "│            ┆        ┆ 04 30       ┆ 26 20       ┆   ┆            ┆        ┆ 5_16       ┆         │\n",
       "│ 14/07/2020 ┆ 1051   ┆ 01 14 09 03 ┆ 40 37 19 15 ┆ … ┆ true       ┆ 24     ┆ 02_01_05_0 ┆ 24      │\n",
       "│            ┆        ┆ 04 30       ┆ 26 20       ┆   ┆            ┆        ┆ 5_16       ┆         │\n",
       "│ 12/01/2019 ┆ 0849   ┆ 13 14 17 04 ┆ 10 26 22 09 ┆ … ┆ true       ┆ 16     ┆ 02_01_09_0 ┆ 51      │\n",
       "│            ┆        ┆ 03 01       ┆ 08 16       ┆   ┆            ┆        ┆ 1_03       ┆         │\n",
       "│ 12/01/2019 ┆ 0849   ┆ 13 14 17 04 ┆ 10 26 22 09 ┆ … ┆ true       ┆ 16     ┆ 02_01_09_0 ┆ 51      │\n",
       "│            ┆        ┆ 03 01       ┆ 08 16       ┆   ┆            ┆        ┆ 1_03       ┆         │\n",
       "│ 06/09/2018 ┆ 0794   ┆ 02 01 37 04 ┆ 24 01 38 04 ┆ … ┆ true       ┆ 8      ┆ 01_02_02_2 ┆ -104    │\n",
       "│            ┆        ┆ 34 06       ┆ 32 06       ┆   ┆            ┆        ┆ 8_03       ┆         │\n",
       "└────────────┴────────┴─────────────┴─────────────┴───┴────────────┴────────┴────────────┴─────────┘"
      ]
     },
     "metadata": {},
     "output_type": "display_data"
    },
    {
     "name": "stdout",
     "output_type": "stream",
     "text": [
      "df_jumps_map FOR str_b3 = 04\n"
     ]
    },
    {
     "data": {
      "text/html": [
       "<div><style>\n",
       ".dataframe > thead > tr,\n",
       ".dataframe > tbody > tr {\n",
       "  text-align: right;\n",
       "  white-space: pre-wrap;\n",
       "}\n",
       "</style>\n",
       "<small>shape: (15, 2)</small><table border=\"1\" class=\"dataframe\"><thead><tr><th>jumps_map</th><th>count</th></tr><tr><td>str</td><td>u32</td></tr></thead><tbody><tr><td>&quot;02_01_09_01_03&quot;</td><td>2</td></tr><tr><td>&quot;01_02_02_28_03&quot;</td><td>2</td></tr><tr><td>&quot;02_01_03_26_01&quot;</td><td>2</td></tr><tr><td>&quot;02_01_03_01_16&quot;</td><td>2</td></tr><tr><td>&quot;01_02_07_10_19&quot;</td><td>2</td></tr><tr><td>&hellip;</td><td>&hellip;</td></tr><tr><td>&quot;01_01_16_03_11&quot;</td><td>1</td></tr><tr><td>&quot;02_01_18_12_06&quot;</td><td>1</td></tr><tr><td>&quot;01_02_09_08_08&quot;</td><td>1</td></tr><tr><td>&quot;01_02_01_17_03&quot;</td><td>1</td></tr><tr><td>&quot;02_01_02_16_10&quot;</td><td>1</td></tr></tbody></table></div>"
      ],
      "text/plain": [
       "shape: (15, 2)\n",
       "┌────────────────┬───────┐\n",
       "│ jumps_map      ┆ count │\n",
       "│ ---            ┆ ---   │\n",
       "│ str            ┆ u32   │\n",
       "╞════════════════╪═══════╡\n",
       "│ 02_01_09_01_03 ┆ 2     │\n",
       "│ 01_02_02_28_03 ┆ 2     │\n",
       "│ 02_01_03_26_01 ┆ 2     │\n",
       "│ 02_01_03_01_16 ┆ 2     │\n",
       "│ 01_02_07_10_19 ┆ 2     │\n",
       "│ …              ┆ …     │\n",
       "│ 01_01_16_03_11 ┆ 1     │\n",
       "│ 02_01_18_12_06 ┆ 1     │\n",
       "│ 01_02_09_08_08 ┆ 1     │\n",
       "│ 01_02_01_17_03 ┆ 1     │\n",
       "│ 02_01_02_16_10 ┆ 1     │\n",
       "└────────────────┴───────┘"
      ]
     },
     "metadata": {},
     "output_type": "display_data"
    },
    {
     "name": "stdout",
     "output_type": "stream",
     "text": [
      "df_unijump FOR str_b3 = 04\n"
     ]
    },
    {
     "data": {
      "text/html": [
       "<div><style>\n",
       ".dataframe > thead > tr,\n",
       ".dataframe > tbody > tr {\n",
       "  text-align: right;\n",
       "  white-space: pre-wrap;\n",
       "}\n",
       "</style>\n",
       "<small>shape: (15, 2)</small><table border=\"1\" class=\"dataframe\"><thead><tr><th>unijump</th><th>count</th></tr><tr><td>i64</td><td>u32</td></tr></thead><tbody><tr><td>5</td><td>2</td></tr><tr><td>-87</td><td>2</td></tr><tr><td>-104</td><td>2</td></tr><tr><td>126</td><td>2</td></tr><tr><td>51</td><td>2</td></tr><tr><td>&hellip;</td><td>&hellip;</td></tr><tr><td>-44</td><td>1</td></tr><tr><td>-66</td><td>1</td></tr><tr><td>-57</td><td>1</td></tr><tr><td>-47</td><td>1</td></tr><tr><td>23</td><td>1</td></tr></tbody></table></div>"
      ],
      "text/plain": [
       "shape: (15, 2)\n",
       "┌─────────┬───────┐\n",
       "│ unijump ┆ count │\n",
       "│ ---     ┆ ---   │\n",
       "│ i64     ┆ u32   │\n",
       "╞═════════╪═══════╡\n",
       "│ 5       ┆ 2     │\n",
       "│ -87     ┆ 2     │\n",
       "│ -104    ┆ 2     │\n",
       "│ 126     ┆ 2     │\n",
       "│ 51      ┆ 2     │\n",
       "│ …       ┆ …     │\n",
       "│ -44     ┆ 1     │\n",
       "│ -66     ┆ 1     │\n",
       "│ -57     ┆ 1     │\n",
       "│ -47     ┆ 1     │\n",
       "│ 23      ┆ 1     │\n",
       "└─────────┴───────┘"
      ]
     },
     "metadata": {},
     "output_type": "display_data"
    }
   ],
   "source": [
    "possible_b3, exclude_jump_maps_b3, last_post_b3 = plot_post_col(col='str_b3', post_col='post_str_b3')"
   ]
  },
  {
   "cell_type": "code",
   "execution_count": 10,
   "metadata": {},
   "outputs": [
    {
     "name": "stdout",
     "output_type": "stream",
     "text": [
      "Setting test_value='22'\n",
      "df_viz FOR str_b4 = 22\n"
     ]
    },
    {
     "data": {
      "text/html": [
       "<div><style>\n",
       ".dataframe > thead > tr,\n",
       ".dataframe > tbody > tr {\n",
       "  text-align: right;\n",
       "  white-space: pre-wrap;\n",
       "}\n",
       "</style>\n",
       "<small>shape: (30, 3)</small><table border=\"1\" class=\"dataframe\"><thead><tr><th>post_str_b4</th><th>count</th><th>percent</th></tr><tr><td>str</td><td>u32</td><td>f64</td></tr></thead><tbody><tr><td>&quot;22&quot;</td><td>118</td><td>38.562092</td></tr><tr><td>&quot;26&quot;</td><td>15</td><td>4.901961</td></tr><tr><td>&quot;25&quot;</td><td>14</td><td>4.575163</td></tr><tr><td>&quot;27&quot;</td><td>14</td><td>4.575163</td></tr><tr><td>&quot;19&quot;</td><td>12</td><td>3.921569</td></tr><tr><td>&hellip;</td><td>&hellip;</td><td>&hellip;</td></tr><tr><td>&quot;10&quot;</td><td>2</td><td>0.653595</td></tr><tr><td>&quot;17&quot;</td><td>2</td><td>0.653595</td></tr><tr><td>&quot;08&quot;</td><td>2</td><td>0.653595</td></tr><tr><td>&quot;06&quot;</td><td>1</td><td>0.326797</td></tr><tr><td>&quot;37&quot;</td><td>1</td><td>0.326797</td></tr></tbody></table></div>"
      ],
      "text/plain": [
       "shape: (30, 3)\n",
       "┌─────────────┬───────┬───────────┐\n",
       "│ post_str_b4 ┆ count ┆ percent   │\n",
       "│ ---         ┆ ---   ┆ ---       │\n",
       "│ str         ┆ u32   ┆ f64       │\n",
       "╞═════════════╪═══════╪═══════════╡\n",
       "│ 22          ┆ 118   ┆ 38.562092 │\n",
       "│ 26          ┆ 15    ┆ 4.901961  │\n",
       "│ 25          ┆ 14    ┆ 4.575163  │\n",
       "│ 27          ┆ 14    ┆ 4.575163  │\n",
       "│ 19          ┆ 12    ┆ 3.921569  │\n",
       "│ …           ┆ …     ┆ …         │\n",
       "│ 10          ┆ 2     ┆ 0.653595  │\n",
       "│ 17          ┆ 2     ┆ 0.653595  │\n",
       "│ 08          ┆ 2     ┆ 0.653595  │\n",
       "│ 06          ┆ 1     ┆ 0.326797  │\n",
       "│ 37          ┆ 1     ┆ 0.326797  │\n",
       "└─────────────┴───────┴───────────┘"
      ]
     },
     "metadata": {},
     "output_type": "display_data"
    },
    {
     "data": {},
     "metadata": {},
     "output_type": "display_data"
    },
    {
     "data": {
      "application/vnd.holoviews_exec.v0+json": "",
      "text/html": [
       "<div id='bc8c4f28-4303-4732-b170-5d42b9dade01'>\n",
       "  <div id=\"f1edf58c-9a37-4ab9-befa-c4e4c64b925b\" data-root-id=\"bc8c4f28-4303-4732-b170-5d42b9dade01\" style=\"display: contents;\"></div>\n",
       "</div>\n",
       "<script type=\"application/javascript\">(function(root) {\n",
       "  var docs_json = {\"86dadd0c-58aa-4018-9d06-f17b1cb0f2ed\":{\"version\":\"3.7.2\",\"title\":\"Bokeh Application\",\"roots\":[{\"type\":\"object\",\"name\":\"Row\",\"id\":\"bc8c4f28-4303-4732-b170-5d42b9dade01\",\"attributes\":{\"name\":\"Row00499\",\"tags\":[\"embedded\"],\"stylesheets\":[\"\\n:host(.pn-loading):before, .pn-loading:before {\\n  background-color: #c3c3c3;\\n  mask-size: auto calc(min(50%, 400px));\\n  -webkit-mask-size: auto calc(min(50%, 400px));\\n}\",{\"type\":\"object\",\"name\":\"ImportedStyleSheet\",\"id\":\"d77bcb0b-6451-4924-ab26-e627a68cbcd8\",\"attributes\":{\"url\":\"https://cdn.holoviz.org/panel/1.6.2/dist/css/loading.css\"}},{\"type\":\"object\",\"name\":\"ImportedStyleSheet\",\"id\":\"d11c107e-d334-470c-b3f0-b9c0435ec04d\",\"attributes\":{\"url\":\"https://cdn.holoviz.org/panel/1.6.2/dist/css/listpanel.css\"}},{\"type\":\"object\",\"name\":\"ImportedStyleSheet\",\"id\":\"60c13f17-da12-41f3-8dcf-d462c12459f0\",\"attributes\":{\"url\":\"https://cdn.holoviz.org/panel/1.6.2/dist/bundled/theme/default.css\"}},{\"type\":\"object\",\"name\":\"ImportedStyleSheet\",\"id\":\"cad8894c-31ed-41fa-bd58-10d6599e7e40\",\"attributes\":{\"url\":\"https://cdn.holoviz.org/panel/1.6.2/dist/bundled/theme/native.css\"}}],\"min_width\":700,\"margin\":0,\"sizing_mode\":\"stretch_width\",\"align\":\"start\",\"children\":[{\"type\":\"object\",\"name\":\"Spacer\",\"id\":\"da6a56b8-6f4c-498c-a708-3d5b3b393e03\",\"attributes\":{\"name\":\"HSpacer00503\",\"stylesheets\":[\"\\n:host(.pn-loading):before, .pn-loading:before {\\n  background-color: #c3c3c3;\\n  mask-size: auto calc(min(50%, 400px));\\n  -webkit-mask-size: auto calc(min(50%, 400px));\\n}\",{\"id\":\"d77bcb0b-6451-4924-ab26-e627a68cbcd8\"},{\"id\":\"60c13f17-da12-41f3-8dcf-d462c12459f0\"},{\"id\":\"cad8894c-31ed-41fa-bd58-10d6599e7e40\"}],\"margin\":0,\"sizing_mode\":\"stretch_width\",\"align\":\"start\"}},{\"type\":\"object\",\"name\":\"Figure\",\"id\":\"cbef1db9-f4eb-4638-9742-d3b0661746bc\",\"attributes\":{\"width\":700,\"height\":300,\"margin\":[5,10],\"sizing_mode\":\"fixed\",\"align\":\"start\",\"x_range\":{\"type\":\"object\",\"name\":\"FactorRange\",\"id\":\"11c168b3-7590-48ac-b842-a765e8b73153\",\"attributes\":{\"name\":\"post_str_b4\",\"tags\":[[[\"post_str_b4\",null]],[]],\"factors\":[\"22\",\"26\",\"25\",\"27\",\"19\",\"23\",\"30\",\"20\",\"18\",\"29\",\"24\",\"31\",\"21\",\"28\",\"34\",\"32\",\"09\",\"13\",\"14\",\"35\",\"16\",\"15\",\"12\",\"33\",\"11\",\"10\",\"17\",\"08\",\"06\",\"37\"]}},\"y_range\":{\"type\":\"object\",\"name\":\"Range1d\",\"id\":\"f095fcc4-fc0f-425c-806f-f057f4e81b54\",\"attributes\":{\"name\":\"percent\",\"tags\":[[[\"percent\",null]],{\"type\":\"map\",\"entries\":[[\"invert_yaxis\",false],[\"autorange\",false]]}],\"end\":42.38562091503269,\"reset_start\":0.0,\"reset_end\":42.38562091503269}},\"x_scale\":{\"type\":\"object\",\"name\":\"CategoricalScale\",\"id\":\"fb982f79-9f2f-45a3-8aab-da21584460da\"},\"y_scale\":{\"type\":\"object\",\"name\":\"LinearScale\",\"id\":\"b08b3f1d-8c53-472b-84de-c3330f622ea5\"},\"title\":{\"type\":\"object\",\"name\":\"Title\",\"id\":\"90bc86c3-f5cb-457e-a9be-d65402c3a28c\",\"attributes\":{\"text_color\":\"black\",\"text_font_size\":\"12pt\"}},\"renderers\":[{\"type\":\"object\",\"name\":\"GlyphRenderer\",\"id\":\"3a2fc954-6edc-4c76-9e16-0e07101ace25\",\"attributes\":{\"data_source\":{\"type\":\"object\",\"name\":\"ColumnDataSource\",\"id\":\"a077a9c0-177a-44bb-bd76-2b34386da77a\",\"attributes\":{\"selected\":{\"type\":\"object\",\"name\":\"Selection\",\"id\":\"ddf0a47e-daf0-4355-9351-e4217957bd7f\",\"attributes\":{\"indices\":[],\"line_indices\":[]}},\"selection_policy\":{\"type\":\"object\",\"name\":\"UnionRenderers\",\"id\":\"9b7ab656-bad5-4b68-9878-70a4636939c3\"},\"data\":{\"type\":\"map\",\"entries\":[[\"post_str_b4\",[\"22\",\"26\",\"25\",\"27\",\"19\",\"23\",\"30\",\"20\",\"18\",\"29\",\"24\",\"31\",\"21\",\"28\",\"34\",\"32\",\"09\",\"13\",\"14\",\"35\",\"16\",\"15\",\"12\",\"33\",\"11\",\"10\",\"17\",\"08\",\"06\",\"37\"]],[\"percent\",{\"type\":\"ndarray\",\"array\":{\"type\":\"bytes\",\"data\":\"nvJHnfJHQ0Ccm5ubm5sTQKP3TKL3TBJAo/dMovdMEkBfX19fX18PQG4XwmwXwgxAh4eHh4eHB0CHh4eHh4cHQIeHh4eHhwdAlT/qlD/qBECVP+qUP+oEQKP3TKL3TAJAo/dMovdMAkCj90yi90wCQF9fX19fX/8/X19fX19f/z97zyR6zyT6P3vPJHrPJPo/e88kes8k+j97zyR6zyT6P5U/6pQ/6vQ/lT/qlD/q9D+VP+qUP+r0P19fX19fX+8/X19fX19f7z+VP+qUP+rkP5U/6pQ/6uQ/lT/qlD/q5D+VP+qUP+rUP5U/6pQ/6tQ/\"},\"shape\":[30],\"dtype\":\"float64\",\"order\":\"little\"}]]}}},\"view\":{\"type\":\"object\",\"name\":\"CDSView\",\"id\":\"a1b68da4-4db8-4584-b690-f8fc284a0d44\",\"attributes\":{\"filter\":{\"type\":\"object\",\"name\":\"AllIndices\",\"id\":\"261d0f9c-c668-46e5-bdea-0b3f57dcef47\"}}},\"glyph\":{\"type\":\"object\",\"name\":\"VBar\",\"id\":\"a9ee433a-95f8-4c9a-8d79-259db3262130\",\"attributes\":{\"tags\":[\"apply_ranges\"],\"x\":{\"type\":\"field\",\"field\":\"post_str_b4\"},\"width\":{\"type\":\"value\",\"value\":0.8},\"top\":{\"type\":\"field\",\"field\":\"percent\"},\"fill_color\":{\"type\":\"value\",\"value\":\"#30a2da\"},\"hatch_color\":{\"type\":\"value\",\"value\":\"#30a2da\"}}},\"selection_glyph\":{\"type\":\"object\",\"name\":\"VBar\",\"id\":\"2792a93b-8200-4192-b161-be004908b637\",\"attributes\":{\"tags\":[\"apply_ranges\"],\"x\":{\"type\":\"field\",\"field\":\"post_str_b4\"},\"width\":{\"type\":\"value\",\"value\":0.8},\"bottom\":{\"type\":\"value\",\"value\":0},\"top\":{\"type\":\"field\",\"field\":\"percent\"},\"line_color\":{\"type\":\"value\",\"value\":\"black\"},\"line_alpha\":{\"type\":\"value\",\"value\":1.0},\"line_width\":{\"type\":\"value\",\"value\":1},\"line_join\":{\"type\":\"value\",\"value\":\"bevel\"},\"line_cap\":{\"type\":\"value\",\"value\":\"butt\"},\"line_dash\":{\"type\":\"value\",\"value\":[]},\"line_dash_offset\":{\"type\":\"value\",\"value\":0},\"fill_color\":{\"type\":\"value\",\"value\":\"#30a2da\"},\"fill_alpha\":{\"type\":\"value\",\"value\":1.0},\"hatch_color\":{\"type\":\"value\",\"value\":\"#30a2da\"},\"hatch_alpha\":{\"type\":\"value\",\"value\":1.0},\"hatch_scale\":{\"type\":\"value\",\"value\":12.0},\"hatch_pattern\":{\"type\":\"value\",\"value\":null},\"hatch_weight\":{\"type\":\"value\",\"value\":1.0}}},\"nonselection_glyph\":{\"type\":\"object\",\"name\":\"VBar\",\"id\":\"9564c255-7dbd-4f60-a426-ae18c9c98cbf\",\"attributes\":{\"tags\":[\"apply_ranges\"],\"x\":{\"type\":\"field\",\"field\":\"post_str_b4\"},\"width\":{\"type\":\"value\",\"value\":0.8},\"top\":{\"type\":\"field\",\"field\":\"percent\"},\"line_alpha\":{\"type\":\"value\",\"value\":0.1},\"fill_color\":{\"type\":\"value\",\"value\":\"#30a2da\"},\"fill_alpha\":{\"type\":\"value\",\"value\":0.1},\"hatch_color\":{\"type\":\"value\",\"value\":\"#30a2da\"},\"hatch_alpha\":{\"type\":\"value\",\"value\":0.1}}},\"muted_glyph\":{\"type\":\"object\",\"name\":\"VBar\",\"id\":\"ef7861a7-41b1-47f6-9cd0-0c9b1b9bc65b\",\"attributes\":{\"tags\":[\"apply_ranges\"],\"x\":{\"type\":\"field\",\"field\":\"post_str_b4\"},\"width\":{\"type\":\"value\",\"value\":0.8},\"top\":{\"type\":\"field\",\"field\":\"percent\"},\"line_alpha\":{\"type\":\"value\",\"value\":0.2},\"fill_color\":{\"type\":\"value\",\"value\":\"#30a2da\"},\"fill_alpha\":{\"type\":\"value\",\"value\":0.2},\"hatch_color\":{\"type\":\"value\",\"value\":\"#30a2da\"},\"hatch_alpha\":{\"type\":\"value\",\"value\":0.2}}}}},{\"type\":\"object\",\"name\":\"Span\",\"id\":\"45137928-ddd4-4cc1-a809-5ac33eb47f22\",\"attributes\":{\"level\":\"glyph\",\"location\":3.3333333333333335,\"line_color\":\"red\",\"line_width\":3}},{\"type\":\"object\",\"name\":\"Span\",\"id\":\"2ae0aa0b-1030-47ef-9077-1e04930027ce\",\"attributes\":{\"level\":\"glyph\",\"location\":5.0,\"line_color\":\"blue\",\"line_width\":3}},{\"type\":\"object\",\"name\":\"Span\",\"id\":\"9083da3b-dbd3-4634-a67a-a110e9fb014a\",\"attributes\":{\"level\":\"glyph\",\"location\":1.666666666666667,\"line_color\":\"blue\",\"line_width\":3}}],\"toolbar\":{\"type\":\"object\",\"name\":\"Toolbar\",\"id\":\"3d2fccd2-389a-4581-8037-da770336f93e\",\"attributes\":{\"tools\":[{\"type\":\"object\",\"name\":\"WheelZoomTool\",\"id\":\"c0d94831-88e6-465c-9966-bb2f50f76edc\",\"attributes\":{\"tags\":[\"hv_created\"],\"renderers\":\"auto\",\"zoom_together\":\"none\"}},{\"type\":\"object\",\"name\":\"HoverTool\",\"id\":\"7a25c413-ec31-496e-b5f6-4690e1ad8d44\",\"attributes\":{\"tags\":[\"hv_created\"],\"renderers\":[{\"id\":\"3a2fc954-6edc-4c76-9e16-0e07101ace25\"}],\"tooltips\":[[\"post_str_b4\",\"@{post_str_b4}\"],[\"percent\",\"@{percent}\"]]}},{\"type\":\"object\",\"name\":\"SaveTool\",\"id\":\"b92f3769-5554-49ae-b6fa-b6254e7b55c2\"},{\"type\":\"object\",\"name\":\"PanTool\",\"id\":\"3d57196d-2dfe-41a0-92bf-545e4e74f2cf\"},{\"type\":\"object\",\"name\":\"BoxZoomTool\",\"id\":\"32d3b14b-5458-4d31-9d39-d869144cdb6a\",\"attributes\":{\"dimensions\":\"both\",\"overlay\":{\"type\":\"object\",\"name\":\"BoxAnnotation\",\"id\":\"16ea5442-bbd4-4e40-a485-1b05e670f474\",\"attributes\":{\"syncable\":false,\"line_color\":\"black\",\"line_alpha\":1.0,\"line_width\":2,\"line_dash\":[4,4],\"fill_color\":\"lightgrey\",\"fill_alpha\":0.5,\"level\":\"overlay\",\"visible\":false,\"left\":{\"type\":\"number\",\"value\":\"nan\"},\"right\":{\"type\":\"number\",\"value\":\"nan\"},\"top\":{\"type\":\"number\",\"value\":\"nan\"},\"bottom\":{\"type\":\"number\",\"value\":\"nan\"},\"left_units\":\"canvas\",\"right_units\":\"canvas\",\"top_units\":\"canvas\",\"bottom_units\":\"canvas\",\"handles\":{\"type\":\"object\",\"name\":\"BoxInteractionHandles\",\"id\":\"5820c19c-3950-476a-b072-230f95b28424\",\"attributes\":{\"all\":{\"type\":\"object\",\"name\":\"AreaVisuals\",\"id\":\"47279e78-26c9-41ae-ad5f-e8aa1f1816c0\",\"attributes\":{\"fill_color\":\"white\",\"hover_fill_color\":\"lightgray\"}}}}}}}},{\"type\":\"object\",\"name\":\"ResetTool\",\"id\":\"e541a61c-9dbe-4916-bf52-46ba8c6f52ad\"}],\"active_drag\":{\"id\":\"3d57196d-2dfe-41a0-92bf-545e4e74f2cf\"}}},\"left\":[{\"type\":\"object\",\"name\":\"LinearAxis\",\"id\":\"a92b7724-f94c-4c1e-82c0-8ea186edb242\",\"attributes\":{\"ticker\":{\"type\":\"object\",\"name\":\"BasicTicker\",\"id\":\"78bd0960-d3ad-4530-88d4-eb5b42f1ab1c\",\"attributes\":{\"mantissas\":[1,2,5]}},\"formatter\":{\"type\":\"object\",\"name\":\"BasicTickFormatter\",\"id\":\"3ff9b545-699d-4759-a06a-b83d5a90b424\"},\"axis_label\":\"percent\",\"major_label_policy\":{\"type\":\"object\",\"name\":\"AllLabels\",\"id\":\"5cdcf533-3e2f-4b31-9d9b-cd2523465578\"}}}],\"below\":[{\"type\":\"object\",\"name\":\"CategoricalAxis\",\"id\":\"ae0f8664-7b15-4e89-8d70-67bed7792184\",\"attributes\":{\"ticker\":{\"type\":\"object\",\"name\":\"CategoricalTicker\",\"id\":\"c6e8b135-a8fa-40be-a8b4-ea3b20b67c51\"},\"formatter\":{\"type\":\"object\",\"name\":\"CategoricalTickFormatter\",\"id\":\"16d44272-2599-4064-a255-71019990aa53\"},\"axis_label\":\"post_str_b4\",\"major_label_policy\":{\"type\":\"object\",\"name\":\"AllLabels\",\"id\":\"a1bd8ec5-6266-4d25-bbc2-b3a4078fa19b\"}}}],\"center\":[{\"type\":\"object\",\"name\":\"Grid\",\"id\":\"9d6d47f4-a80b-4b13-9435-796c35c3598b\",\"attributes\":{\"axis\":{\"id\":\"ae0f8664-7b15-4e89-8d70-67bed7792184\"},\"grid_line_color\":null}},{\"type\":\"object\",\"name\":\"Grid\",\"id\":\"31879ed0-6613-4e0d-8fc1-74c739784b6c\",\"attributes\":{\"dimension\":1,\"axis\":{\"id\":\"a92b7724-f94c-4c1e-82c0-8ea186edb242\"},\"grid_line_color\":null}}],\"min_border_top\":10,\"min_border_bottom\":10,\"min_border_left\":10,\"min_border_right\":10,\"output_backend\":\"webgl\"}},{\"type\":\"object\",\"name\":\"Spacer\",\"id\":\"49c823a3-06d4-4d7d-9fc1-f20500d07173\",\"attributes\":{\"name\":\"HSpacer00504\",\"stylesheets\":[\"\\n:host(.pn-loading):before, .pn-loading:before {\\n  background-color: #c3c3c3;\\n  mask-size: auto calc(min(50%, 400px));\\n  -webkit-mask-size: auto calc(min(50%, 400px));\\n}\",{\"id\":\"d77bcb0b-6451-4924-ab26-e627a68cbcd8\"},{\"id\":\"60c13f17-da12-41f3-8dcf-d462c12459f0\"},{\"id\":\"cad8894c-31ed-41fa-bd58-10d6599e7e40\"}],\"margin\":0,\"sizing_mode\":\"stretch_width\",\"align\":\"start\"}}]}}],\"defs\":[{\"type\":\"model\",\"name\":\"ReactiveHTML1\"},{\"type\":\"model\",\"name\":\"FlexBox1\",\"properties\":[{\"name\":\"align_content\",\"kind\":\"Any\",\"default\":\"flex-start\"},{\"name\":\"align_items\",\"kind\":\"Any\",\"default\":\"flex-start\"},{\"name\":\"flex_direction\",\"kind\":\"Any\",\"default\":\"row\"},{\"name\":\"flex_wrap\",\"kind\":\"Any\",\"default\":\"wrap\"},{\"name\":\"gap\",\"kind\":\"Any\",\"default\":\"\"},{\"name\":\"justify_content\",\"kind\":\"Any\",\"default\":\"flex-start\"}]},{\"type\":\"model\",\"name\":\"FloatPanel1\",\"properties\":[{\"name\":\"config\",\"kind\":\"Any\",\"default\":{\"type\":\"map\"}},{\"name\":\"contained\",\"kind\":\"Any\",\"default\":true},{\"name\":\"position\",\"kind\":\"Any\",\"default\":\"right-top\"},{\"name\":\"offsetx\",\"kind\":\"Any\",\"default\":null},{\"name\":\"offsety\",\"kind\":\"Any\",\"default\":null},{\"name\":\"theme\",\"kind\":\"Any\",\"default\":\"primary\"},{\"name\":\"status\",\"kind\":\"Any\",\"default\":\"normalized\"}]},{\"type\":\"model\",\"name\":\"GridStack1\",\"properties\":[{\"name\":\"ncols\",\"kind\":\"Any\",\"default\":null},{\"name\":\"nrows\",\"kind\":\"Any\",\"default\":null},{\"name\":\"allow_resize\",\"kind\":\"Any\",\"default\":true},{\"name\":\"allow_drag\",\"kind\":\"Any\",\"default\":true},{\"name\":\"state\",\"kind\":\"Any\",\"default\":[]}]},{\"type\":\"model\",\"name\":\"drag1\",\"properties\":[{\"name\":\"slider_width\",\"kind\":\"Any\",\"default\":5},{\"name\":\"slider_color\",\"kind\":\"Any\",\"default\":\"black\"},{\"name\":\"value\",\"kind\":\"Any\",\"default\":50}]},{\"type\":\"model\",\"name\":\"click1\",\"properties\":[{\"name\":\"terminal_output\",\"kind\":\"Any\",\"default\":\"\"},{\"name\":\"debug_name\",\"kind\":\"Any\",\"default\":\"\"},{\"name\":\"clears\",\"kind\":\"Any\",\"default\":0}]},{\"type\":\"model\",\"name\":\"FastWrapper1\",\"properties\":[{\"name\":\"object\",\"kind\":\"Any\",\"default\":null},{\"name\":\"style\",\"kind\":\"Any\",\"default\":null}]},{\"type\":\"model\",\"name\":\"NotificationArea1\",\"properties\":[{\"name\":\"js_events\",\"kind\":\"Any\",\"default\":{\"type\":\"map\"}},{\"name\":\"max_notifications\",\"kind\":\"Any\",\"default\":5},{\"name\":\"notifications\",\"kind\":\"Any\",\"default\":[]},{\"name\":\"position\",\"kind\":\"Any\",\"default\":\"bottom-right\"},{\"name\":\"_clear\",\"kind\":\"Any\",\"default\":0},{\"name\":\"types\",\"kind\":\"Any\",\"default\":[{\"type\":\"map\",\"entries\":[[\"type\",\"warning\"],[\"background\",\"#ffc107\"],[\"icon\",{\"type\":\"map\",\"entries\":[[\"className\",\"fas fa-exclamation-triangle\"],[\"tagName\",\"i\"],[\"color\",\"white\"]]}]]},{\"type\":\"map\",\"entries\":[[\"type\",\"info\"],[\"background\",\"#007bff\"],[\"icon\",{\"type\":\"map\",\"entries\":[[\"className\",\"fas fa-info-circle\"],[\"tagName\",\"i\"],[\"color\",\"white\"]]}]]}]}]},{\"type\":\"model\",\"name\":\"Notification\",\"properties\":[{\"name\":\"background\",\"kind\":\"Any\",\"default\":null},{\"name\":\"duration\",\"kind\":\"Any\",\"default\":3000},{\"name\":\"icon\",\"kind\":\"Any\",\"default\":null},{\"name\":\"message\",\"kind\":\"Any\",\"default\":\"\"},{\"name\":\"notification_type\",\"kind\":\"Any\",\"default\":null},{\"name\":\"_rendered\",\"kind\":\"Any\",\"default\":false},{\"name\":\"_destroyed\",\"kind\":\"Any\",\"default\":false}]},{\"type\":\"model\",\"name\":\"TemplateActions1\",\"properties\":[{\"name\":\"open_modal\",\"kind\":\"Any\",\"default\":0},{\"name\":\"close_modal\",\"kind\":\"Any\",\"default\":0}]},{\"type\":\"model\",\"name\":\"BootstrapTemplateActions1\",\"properties\":[{\"name\":\"open_modal\",\"kind\":\"Any\",\"default\":0},{\"name\":\"close_modal\",\"kind\":\"Any\",\"default\":0}]},{\"type\":\"model\",\"name\":\"TemplateEditor1\",\"properties\":[{\"name\":\"layout\",\"kind\":\"Any\",\"default\":[]}]},{\"type\":\"model\",\"name\":\"MaterialTemplateActions1\",\"properties\":[{\"name\":\"open_modal\",\"kind\":\"Any\",\"default\":0},{\"name\":\"close_modal\",\"kind\":\"Any\",\"default\":0}]},{\"type\":\"model\",\"name\":\"ReactiveESM1\",\"properties\":[{\"name\":\"esm_constants\",\"kind\":\"Any\",\"default\":{\"type\":\"map\"}}]},{\"type\":\"model\",\"name\":\"JSComponent1\",\"properties\":[{\"name\":\"esm_constants\",\"kind\":\"Any\",\"default\":{\"type\":\"map\"}}]},{\"type\":\"model\",\"name\":\"ReactComponent1\",\"properties\":[{\"name\":\"esm_constants\",\"kind\":\"Any\",\"default\":{\"type\":\"map\"}}]},{\"type\":\"model\",\"name\":\"AnyWidgetComponent1\",\"properties\":[{\"name\":\"esm_constants\",\"kind\":\"Any\",\"default\":{\"type\":\"map\"}}]},{\"type\":\"model\",\"name\":\"request_value1\",\"properties\":[{\"name\":\"fill\",\"kind\":\"Any\",\"default\":\"none\"},{\"name\":\"_synced\",\"kind\":\"Any\",\"default\":null},{\"name\":\"_request_sync\",\"kind\":\"Any\",\"default\":0}]}]}};\n",
       "  var render_items = [{\"docid\":\"86dadd0c-58aa-4018-9d06-f17b1cb0f2ed\",\"roots\":{\"bc8c4f28-4303-4732-b170-5d42b9dade01\":\"f1edf58c-9a37-4ab9-befa-c4e4c64b925b\"},\"root_ids\":[\"bc8c4f28-4303-4732-b170-5d42b9dade01\"]}];\n",
       "  var docs = Object.values(docs_json)\n",
       "  if (!docs) {\n",
       "    return\n",
       "  }\n",
       "  const py_version = docs[0].version.replace('rc', '-rc.').replace('.dev', '-dev.')\n",
       "  async function embed_document(root) {\n",
       "    var Bokeh = get_bokeh(root)\n",
       "    await Bokeh.embed.embed_items_notebook(docs_json, render_items);\n",
       "    for (const render_item of render_items) {\n",
       "      for (const root_id of render_item.root_ids) {\n",
       "\tconst id_el = document.getElementById(root_id)\n",
       "\tif (id_el.children.length && id_el.children[0].hasAttribute('data-root-id')) {\n",
       "\t  const root_el = id_el.children[0]\n",
       "\t  root_el.id = root_el.id + '-rendered'\n",
       "\t  for (const child of root_el.children) {\n",
       "            // Ensure JupyterLab does not capture keyboard shortcuts\n",
       "            // see: https://jupyterlab.readthedocs.io/en/4.1.x/extension/notebook.html#keyboard-interaction-model\n",
       "\t    child.setAttribute('data-lm-suppress-shortcuts', 'true')\n",
       "\t  }\n",
       "\t}\n",
       "      }\n",
       "    }\n",
       "  }\n",
       "  function get_bokeh(root) {\n",
       "    if (root.Bokeh === undefined) {\n",
       "      return null\n",
       "    } else if (root.Bokeh.version !== py_version) {\n",
       "      if (root.Bokeh.versions === undefined || !root.Bokeh.versions.has(py_version)) {\n",
       "\treturn null\n",
       "      }\n",
       "      return root.Bokeh.versions.get(py_version);\n",
       "    } else if (root.Bokeh.version === py_version) {\n",
       "      return root.Bokeh\n",
       "    }\n",
       "    return null\n",
       "  }\n",
       "  function is_loaded(root) {\n",
       "    var Bokeh = get_bokeh(root)\n",
       "    return (Bokeh != null && Bokeh.Panel !== undefined)\n",
       "  }\n",
       "  if (is_loaded(root)) {\n",
       "    embed_document(root);\n",
       "  } else {\n",
       "    var attempts = 0;\n",
       "    var timer = setInterval(function(root) {\n",
       "      if (is_loaded(root)) {\n",
       "        clearInterval(timer);\n",
       "        embed_document(root);\n",
       "      } else if (document.readyState == \"complete\") {\n",
       "        attempts++;\n",
       "        if (attempts > 200) {\n",
       "          clearInterval(timer);\n",
       "\t  var Bokeh = get_bokeh(root)\n",
       "\t  if (Bokeh == null || Bokeh.Panel == null) {\n",
       "            console.warn(\"Panel: ERROR: Unable to run Panel code because Bokeh or Panel library is missing\");\n",
       "\t  } else {\n",
       "\t    console.warn(\"Panel: WARNING: Attempting to render but not all required libraries could be resolved.\")\n",
       "\t    embed_document(root)\n",
       "\t  }\n",
       "        }\n",
       "      }\n",
       "    }, 25, root)\n",
       "  }\n",
       "})(window);</script>"
      ],
      "text/plain": [
       ":Overlay\n",
       "   .Bars.I    :Bars   [post_str_b4]   (percent)\n",
       "   .HLine.I   :HLine   [x,y]\n",
       "   .HLine.II  :HLine   [x,y]\n",
       "   .HLine.III :HLine   [x,y]"
      ]
     },
     "metadata": {
      "application/vnd.holoviews_exec.v0+json": {
       "id": "bc8c4f28-4303-4732-b170-5d42b9dade01"
      }
     },
     "output_type": "display_data"
    },
    {
     "name": "stdout",
     "output_type": "stream",
     "text": [
      "df_10_last FOR str_b4 = 22\n",
      "Last 3 results last_results=['13', '22']\n"
     ]
    },
    {
     "data": {
      "text/html": [
       "<div><style>\n",
       ".dataframe > thead > tr,\n",
       ".dataframe > tbody > tr {\n",
       "  text-align: right;\n",
       "  white-space: pre-wrap;\n",
       "}\n",
       "</style>\n",
       "<small>shape: (10, 30)</small><table border=\"1\" class=\"dataframe\"><thead><tr><th>fecha</th><th>sorteo</th><th>bolillas regulares</th><th>bolillas chauchamba</th><th>cc1</th><th>cc2</th><th>id</th><th>combo</th><th>b1</th><th>b2</th><th>b3</th><th>b4</th><th>b5</th><th>b6</th><th>str_b1</th><th>str_b2</th><th>str_b3</th><th>str_b4</th><th>str_b5</th><th>str_b6</th><th>post_str_b1</th><th>post_str_b2</th><th>post_str_b3</th><th>post_str_b4</th><th>post_str_b5</th><th>post_str_blast</th><th>is_rare_combination</th><th>reason</th><th>jumps_map</th><th>unijump</th></tr><tr><td>str</td><td>str</td><td>str</td><td>str</td><td>str</td><td>str</td><td>str</td><td>array[u8, 6]</td><td>u8</td><td>u8</td><td>u8</td><td>u8</td><td>u8</td><td>u8</td><td>str</td><td>str</td><td>str</td><td>str</td><td>str</td><td>str</td><td>str</td><td>str</td><td>str</td><td>str</td><td>str</td><td>str</td><td>bool</td><td>u8</td><td>str</td><td>i64</td></tr></thead><tbody><tr><td>&quot;19/04/2025&quot;</td><td>&quot;1797&quot;</td><td>&quot;40 34 04 03 01 22&quot;</td><td>&quot;06 02 22 09 04 21&quot;</td><td>&quot;&quot;</td><td>&quot;&quot;</td><td>&quot;010304223440&quot;</td><td>[1, 3, … 40]</td><td>1</td><td>3</td><td>4</td><td>22</td><td>34</td><td>40</td><td>&quot;01&quot;</td><td>&quot;03&quot;</td><td>&quot;04&quot;</td><td>&quot;22&quot;</td><td>&quot;34&quot;</td><td>&quot;40&quot;</td><td>&quot;01&quot;</td><td>&quot;03&quot;</td><td>&quot;04&quot;</td><td>&quot;22&quot;</td><td>&quot;34&quot;</td><td>&quot;40&quot;</td><td>false</td><td>0</td><td>&quot;02_01_18_12_06&quot;</td><td>64</td></tr><tr><td>&quot;18/03/2025&quot;</td><td>&quot;1783&quot;</td><td>&quot;39 16 22 21 30 12&quot;</td><td>&quot;33 39 24 05 20 40&quot;</td><td>&quot;&quot;</td><td>&quot;&quot;</td><td>&quot;121621223039&quot;</td><td>[12, 16, … 39]</td><td>12</td><td>16</td><td>21</td><td>22</td><td>30</td><td>39</td><td>&quot;12&quot;</td><td>&quot;16&quot;</td><td>&quot;21&quot;</td><td>&quot;22&quot;</td><td>&quot;30&quot;</td><td>&quot;39&quot;</td><td>&quot;03&quot;</td><td>&quot;07&quot;</td><td>&quot;11&quot;</td><td>&quot;13&quot;</td><td>&quot;15&quot;</td><td>&quot;35&quot;</td><td>false</td><td>0</td><td>&quot;04_05_01_08_09&quot;</td><td>-33</td></tr><tr><td>&quot;18/03/2025&quot;</td><td>&quot;1783&quot;</td><td>&quot;39 16 22 21 30 12&quot;</td><td>&quot;33 39 24 05 20 40&quot;</td><td>&quot;&quot;</td><td>&quot;&quot;</td><td>&quot;121621223039&quot;</td><td>[12, 16, … 39]</td><td>12</td><td>16</td><td>21</td><td>22</td><td>30</td><td>39</td><td>&quot;12&quot;</td><td>&quot;16&quot;</td><td>&quot;21&quot;</td><td>&quot;22&quot;</td><td>&quot;30&quot;</td><td>&quot;39&quot;</td><td>&quot;12&quot;</td><td>&quot;16&quot;</td><td>&quot;21&quot;</td><td>&quot;22&quot;</td><td>&quot;30&quot;</td><td>&quot;39&quot;</td><td>false</td><td>0</td><td>&quot;04_05_01_08_09&quot;</td><td>-33</td></tr><tr><td>&quot;27/02/2025&quot;</td><td>&quot;1775&quot;</td><td>&quot;08 03 29 25 07 22&quot;</td><td>&quot;09 10 08 16 24 07&quot;</td><td>&quot;&quot;</td><td>&quot;&quot;</td><td>&quot;030708222529&quot;</td><td>[3, 7, … 29]</td><td>3</td><td>7</td><td>8</td><td>22</td><td>25</td><td>29</td><td>&quot;03&quot;</td><td>&quot;07&quot;</td><td>&quot;08&quot;</td><td>&quot;22&quot;</td><td>&quot;25&quot;</td><td>&quot;29&quot;</td><td>&quot;02&quot;</td><td>&quot;14&quot;</td><td>&quot;22&quot;</td><td>&quot;34&quot;</td><td>&quot;38&quot;</td><td>&quot;40&quot;</td><td>true</td><td>16</td><td>&quot;04_01_14_03_04&quot;</td><td>76</td></tr><tr><td>&quot;27/02/2025&quot;</td><td>&quot;1775&quot;</td><td>&quot;08 03 29 25 07 22&quot;</td><td>&quot;09 10 08 16 24 07&quot;</td><td>&quot;&quot;</td><td>&quot;&quot;</td><td>&quot;030708222529&quot;</td><td>[3, 7, … 29]</td><td>3</td><td>7</td><td>8</td><td>22</td><td>25</td><td>29</td><td>&quot;03&quot;</td><td>&quot;07&quot;</td><td>&quot;08&quot;</td><td>&quot;22&quot;</td><td>&quot;25&quot;</td><td>&quot;29&quot;</td><td>&quot;03&quot;</td><td>&quot;07&quot;</td><td>&quot;08&quot;</td><td>&quot;22&quot;</td><td>&quot;25&quot;</td><td>&quot;29&quot;</td><td>true</td><td>16</td><td>&quot;04_01_14_03_04&quot;</td><td>76</td></tr><tr><td>&quot;18/02/2025&quot;</td><td>&quot;1771&quot;</td><td>&quot;39 04 17 07 28 22&quot;</td><td>&quot;16 29 36 22 07 11&quot;</td><td>&quot;&quot;</td><td>&quot;&quot;</td><td>&quot;040717222839&quot;</td><td>[4, 7, … 39]</td><td>4</td><td>7</td><td>17</td><td>22</td><td>28</td><td>39</td><td>&quot;04&quot;</td><td>&quot;07&quot;</td><td>&quot;17&quot;</td><td>&quot;22&quot;</td><td>&quot;28&quot;</td><td>&quot;39&quot;</td><td>&quot;03&quot;</td><td>&quot;05&quot;</td><td>&quot;09&quot;</td><td>&quot;21&quot;</td><td>&quot;27&quot;</td><td>&quot;32&quot;</td><td>false</td><td>0</td><td>&quot;03_10_05_06_11&quot;</td><td>-20</td></tr><tr><td>&quot;18/02/2025&quot;</td><td>&quot;1771&quot;</td><td>&quot;39 04 17 07 28 22&quot;</td><td>&quot;16 29 36 22 07 11&quot;</td><td>&quot;&quot;</td><td>&quot;&quot;</td><td>&quot;040717222839&quot;</td><td>[4, 7, … 39]</td><td>4</td><td>7</td><td>17</td><td>22</td><td>28</td><td>39</td><td>&quot;04&quot;</td><td>&quot;07&quot;</td><td>&quot;17&quot;</td><td>&quot;22&quot;</td><td>&quot;28&quot;</td><td>&quot;39&quot;</td><td>&quot;04&quot;</td><td>&quot;07&quot;</td><td>&quot;17&quot;</td><td>&quot;22&quot;</td><td>&quot;28&quot;</td><td>&quot;39&quot;</td><td>false</td><td>0</td><td>&quot;03_10_05_06_11&quot;</td><td>-20</td></tr><tr><td>&quot;08/02/2025&quot;</td><td>&quot;1767&quot;</td><td>&quot;34 22 16 17 21 29&quot;</td><td>&quot;38 05 33 35 07 06&quot;</td><td>&quot;&quot;</td><td>&quot;&quot;</td><td>&quot;161721222934&quot;</td><td>[16, 17, … 34]</td><td>16</td><td>17</td><td>21</td><td>22</td><td>29</td><td>34</td><td>&quot;16&quot;</td><td>&quot;17&quot;</td><td>&quot;21&quot;</td><td>&quot;22&quot;</td><td>&quot;29&quot;</td><td>&quot;34&quot;</td><td>&quot;11&quot;</td><td>&quot;12&quot;</td><td>&quot;15&quot;</td><td>&quot;20&quot;</td><td>&quot;30&quot;</td><td>&quot;32&quot;</td><td>false</td><td>0</td><td>&quot;01_04_01_07_05&quot;</td><td>-32</td></tr><tr><td>&quot;08/02/2025&quot;</td><td>&quot;1767&quot;</td><td>&quot;34 22 16 17 21 29&quot;</td><td>&quot;38 05 33 35 07 06&quot;</td><td>&quot;&quot;</td><td>&quot;&quot;</td><td>&quot;161721222934&quot;</td><td>[16, 17, … 34]</td><td>16</td><td>17</td><td>21</td><td>22</td><td>29</td><td>34</td><td>&quot;16&quot;</td><td>&quot;17&quot;</td><td>&quot;21&quot;</td><td>&quot;22&quot;</td><td>&quot;29&quot;</td><td>&quot;34&quot;</td><td>&quot;16&quot;</td><td>&quot;17&quot;</td><td>&quot;21&quot;</td><td>&quot;22&quot;</td><td>&quot;29&quot;</td><td>&quot;34&quot;</td><td>false</td><td>0</td><td>&quot;01_04_01_07_05&quot;</td><td>-32</td></tr><tr><td>&quot;16/11/2024&quot;</td><td>&quot;1731&quot;</td><td>&quot;19 22 26 13 29 21&quot;</td><td>&quot;09 02 10 04 27 29&quot;</td><td>&quot;&quot;</td><td>&quot;&quot;</td><td>&quot;131921222629&quot;</td><td>[13, 19, … 29]</td><td>13</td><td>19</td><td>21</td><td>22</td><td>26</td><td>29</td><td>&quot;13&quot;</td><td>&quot;19&quot;</td><td>&quot;21&quot;</td><td>&quot;22&quot;</td><td>&quot;26&quot;</td><td>&quot;29&quot;</td><td>&quot;01&quot;</td><td>&quot;02&quot;</td><td>&quot;09&quot;</td><td>&quot;19&quot;</td><td>&quot;23&quot;</td><td>&quot;40&quot;</td><td>false</td><td>0</td><td>&quot;06_02_01_04_03&quot;</td><td>-9</td></tr></tbody></table></div>"
      ],
      "text/plain": [
       "shape: (10, 30)\n",
       "┌────────────┬────────┬─────────────┬─────────────┬───┬────────────┬────────┬────────────┬─────────┐\n",
       "│ fecha      ┆ sorteo ┆ bolillas    ┆ bolillas    ┆ … ┆ is_rare_co ┆ reason ┆ jumps_map  ┆ unijump │\n",
       "│ ---        ┆ ---    ┆ regulares   ┆ chauchamba  ┆   ┆ mbination  ┆ ---    ┆ ---        ┆ ---     │\n",
       "│ str        ┆ str    ┆ ---         ┆ ---         ┆   ┆ ---        ┆ u8     ┆ str        ┆ i64     │\n",
       "│            ┆        ┆ str         ┆ str         ┆   ┆ bool       ┆        ┆            ┆         │\n",
       "╞════════════╪════════╪═════════════╪═════════════╪═══╪════════════╪════════╪════════════╪═════════╡\n",
       "│ 19/04/2025 ┆ 1797   ┆ 40 34 04 03 ┆ 06 02 22 09 ┆ … ┆ false      ┆ 0      ┆ 02_01_18_1 ┆ 64      │\n",
       "│            ┆        ┆ 01 22       ┆ 04 21       ┆   ┆            ┆        ┆ 2_06       ┆         │\n",
       "│ 18/03/2025 ┆ 1783   ┆ 39 16 22 21 ┆ 33 39 24 05 ┆ … ┆ false      ┆ 0      ┆ 04_05_01_0 ┆ -33     │\n",
       "│            ┆        ┆ 30 12       ┆ 20 40       ┆   ┆            ┆        ┆ 8_09       ┆         │\n",
       "│ 18/03/2025 ┆ 1783   ┆ 39 16 22 21 ┆ 33 39 24 05 ┆ … ┆ false      ┆ 0      ┆ 04_05_01_0 ┆ -33     │\n",
       "│            ┆        ┆ 30 12       ┆ 20 40       ┆   ┆            ┆        ┆ 8_09       ┆         │\n",
       "│ 27/02/2025 ┆ 1775   ┆ 08 03 29 25 ┆ 09 10 08 16 ┆ … ┆ true       ┆ 16     ┆ 04_01_14_0 ┆ 76      │\n",
       "│            ┆        ┆ 07 22       ┆ 24 07       ┆   ┆            ┆        ┆ 3_04       ┆         │\n",
       "│ 27/02/2025 ┆ 1775   ┆ 08 03 29 25 ┆ 09 10 08 16 ┆ … ┆ true       ┆ 16     ┆ 04_01_14_0 ┆ 76      │\n",
       "│            ┆        ┆ 07 22       ┆ 24 07       ┆   ┆            ┆        ┆ 3_04       ┆         │\n",
       "│ 18/02/2025 ┆ 1771   ┆ 39 04 17 07 ┆ 16 29 36 22 ┆ … ┆ false      ┆ 0      ┆ 03_10_05_0 ┆ -20     │\n",
       "│            ┆        ┆ 28 22       ┆ 07 11       ┆   ┆            ┆        ┆ 6_11       ┆         │\n",
       "│ 18/02/2025 ┆ 1771   ┆ 39 04 17 07 ┆ 16 29 36 22 ┆ … ┆ false      ┆ 0      ┆ 03_10_05_0 ┆ -20     │\n",
       "│            ┆        ┆ 28 22       ┆ 07 11       ┆   ┆            ┆        ┆ 6_11       ┆         │\n",
       "│ 08/02/2025 ┆ 1767   ┆ 34 22 16 17 ┆ 38 05 33 35 ┆ … ┆ false      ┆ 0      ┆ 01_04_01_0 ┆ -32     │\n",
       "│            ┆        ┆ 21 29       ┆ 07 06       ┆   ┆            ┆        ┆ 7_05       ┆         │\n",
       "│ 08/02/2025 ┆ 1767   ┆ 34 22 16 17 ┆ 38 05 33 35 ┆ … ┆ false      ┆ 0      ┆ 01_04_01_0 ┆ -32     │\n",
       "│            ┆        ┆ 21 29       ┆ 07 06       ┆   ┆            ┆        ┆ 7_05       ┆         │\n",
       "│ 16/11/2024 ┆ 1731   ┆ 19 22 26 13 ┆ 09 02 10 04 ┆ … ┆ false      ┆ 0      ┆ 06_02_01_0 ┆ -9      │\n",
       "│            ┆        ┆ 29 21       ┆ 27 29       ┆   ┆            ┆        ┆ 4_03       ┆         │\n",
       "└────────────┴────────┴─────────────┴─────────────┴───┴────────────┴────────┴────────────┴─────────┘"
      ]
     },
     "metadata": {},
     "output_type": "display_data"
    },
    {
     "name": "stdout",
     "output_type": "stream",
     "text": [
      "df_jumps_map FOR str_b4 = 22\n"
     ]
    },
    {
     "data": {
      "text/html": [
       "<div><style>\n",
       ".dataframe > thead > tr,\n",
       ".dataframe > tbody > tr {\n",
       "  text-align: right;\n",
       "  white-space: pre-wrap;\n",
       "}\n",
       "</style>\n",
       "<small>shape: (204, 2)</small><table border=\"1\" class=\"dataframe\"><thead><tr><th>jumps_map</th><th>count</th></tr><tr><td>str</td><td>u32</td></tr></thead><tbody><tr><td>&quot;06_06_05_04_12&quot;</td><td>2</td></tr><tr><td>&quot;04_06_11_01_10&quot;</td><td>2</td></tr><tr><td>&quot;01_03_09_09_05&quot;</td><td>2</td></tr><tr><td>&quot;04_06_01_07_06&quot;</td><td>2</td></tr><tr><td>&quot;03_04_02_01_14&quot;</td><td>2</td></tr><tr><td>&hellip;</td><td>&hellip;</td></tr><tr><td>&quot;07_05_02_09_01&quot;</td><td>1</td></tr><tr><td>&quot;03_07_11_04_09&quot;</td><td>1</td></tr><tr><td>&quot;07_01_10_09_07&quot;</td><td>1</td></tr><tr><td>&quot;04_05_10_09_07&quot;</td><td>1</td></tr><tr><td>&quot;02_10_07_10_02&quot;</td><td>1</td></tr></tbody></table></div>"
      ],
      "text/plain": [
       "shape: (204, 2)\n",
       "┌────────────────┬───────┐\n",
       "│ jumps_map      ┆ count │\n",
       "│ ---            ┆ ---   │\n",
       "│ str            ┆ u32   │\n",
       "╞════════════════╪═══════╡\n",
       "│ 06_06_05_04_12 ┆ 2     │\n",
       "│ 04_06_11_01_10 ┆ 2     │\n",
       "│ 01_03_09_09_05 ┆ 2     │\n",
       "│ 04_06_01_07_06 ┆ 2     │\n",
       "│ 03_04_02_01_14 ┆ 2     │\n",
       "│ …              ┆ …     │\n",
       "│ 07_05_02_09_01 ┆ 1     │\n",
       "│ 03_07_11_04_09 ┆ 1     │\n",
       "│ 07_01_10_09_07 ┆ 1     │\n",
       "│ 04_05_10_09_07 ┆ 1     │\n",
       "│ 02_10_07_10_02 ┆ 1     │\n",
       "└────────────────┴───────┘"
      ]
     },
     "metadata": {},
     "output_type": "display_data"
    },
    {
     "name": "stdout",
     "output_type": "stream",
     "text": [
      "df_unijump FOR str_b4 = 22\n"
     ]
    },
    {
     "data": {
      "text/html": [
       "<div><style>\n",
       ".dataframe > thead > tr,\n",
       ".dataframe > tbody > tr {\n",
       "  text-align: right;\n",
       "  white-space: pre-wrap;\n",
       "}\n",
       "</style>\n",
       "<small>shape: (105, 2)</small><table border=\"1\" class=\"dataframe\"><thead><tr><th>unijump</th><th>count</th></tr><tr><td>i64</td><td>u32</td></tr></thead><tbody><tr><td>-7</td><td>11</td></tr><tr><td>1</td><td>8</td></tr><tr><td>9</td><td>8</td></tr><tr><td>-10</td><td>8</td></tr><tr><td>-37</td><td>8</td></tr><tr><td>&hellip;</td><td>&hellip;</td></tr><tr><td>55</td><td>1</td></tr><tr><td>-22</td><td>1</td></tr><tr><td>13</td><td>1</td></tr><tr><td>-44</td><td>1</td></tr><tr><td>19</td><td>1</td></tr></tbody></table></div>"
      ],
      "text/plain": [
       "shape: (105, 2)\n",
       "┌─────────┬───────┐\n",
       "│ unijump ┆ count │\n",
       "│ ---     ┆ ---   │\n",
       "│ i64     ┆ u32   │\n",
       "╞═════════╪═══════╡\n",
       "│ -7      ┆ 11    │\n",
       "│ 1       ┆ 8     │\n",
       "│ 9       ┆ 8     │\n",
       "│ -10     ┆ 8     │\n",
       "│ -37     ┆ 8     │\n",
       "│ …       ┆ …     │\n",
       "│ 55      ┆ 1     │\n",
       "│ -22     ┆ 1     │\n",
       "│ 13      ┆ 1     │\n",
       "│ -44     ┆ 1     │\n",
       "│ 19      ┆ 1     │\n",
       "└─────────┴───────┘"
      ]
     },
     "metadata": {},
     "output_type": "display_data"
    }
   ],
   "source": [
    "possible_b4, exclude_jump_maps_b4, last_post_b4 = plot_post_col(col='str_b4', post_col='post_str_b4')"
   ]
  },
  {
   "cell_type": "code",
   "execution_count": 11,
   "metadata": {},
   "outputs": [
    {
     "name": "stdout",
     "output_type": "stream",
     "text": [
      "Setting test_value='34'\n",
      "df_viz FOR str_b5 = 34\n"
     ]
    },
    {
     "data": {
      "text/html": [
       "<div><style>\n",
       ".dataframe > thead > tr,\n",
       ".dataframe > tbody > tr {\n",
       "  text-align: right;\n",
       "  white-space: pre-wrap;\n",
       "}\n",
       "</style>\n",
       "<small>shape: (29, 3)</small><table border=\"1\" class=\"dataframe\"><thead><tr><th>post_str_b5</th><th>count</th><th>percent</th></tr><tr><td>str</td><td>u32</td><td>f64</td></tr></thead><tbody><tr><td>&quot;34&quot;</td><td>116</td><td>34.319527</td></tr><tr><td>&quot;30&quot;</td><td>21</td><td>6.213018</td></tr><tr><td>&quot;27&quot;</td><td>16</td><td>4.733728</td></tr><tr><td>&quot;33&quot;</td><td>16</td><td>4.733728</td></tr><tr><td>&quot;31&quot;</td><td>14</td><td>4.142012</td></tr><tr><td>&hellip;</td><td>&hellip;</td><td>&hellip;</td></tr><tr><td>&quot;13&quot;</td><td>2</td><td>0.591716</td></tr><tr><td>&quot;15&quot;</td><td>2</td><td>0.591716</td></tr><tr><td>&quot;11&quot;</td><td>1</td><td>0.295858</td></tr><tr><td>&quot;08&quot;</td><td>1</td><td>0.295858</td></tr><tr><td>&quot;14&quot;</td><td>1</td><td>0.295858</td></tr></tbody></table></div>"
      ],
      "text/plain": [
       "shape: (29, 3)\n",
       "┌─────────────┬───────┬───────────┐\n",
       "│ post_str_b5 ┆ count ┆ percent   │\n",
       "│ ---         ┆ ---   ┆ ---       │\n",
       "│ str         ┆ u32   ┆ f64       │\n",
       "╞═════════════╪═══════╪═══════════╡\n",
       "│ 34          ┆ 116   ┆ 34.319527 │\n",
       "│ 30          ┆ 21    ┆ 6.213018  │\n",
       "│ 27          ┆ 16    ┆ 4.733728  │\n",
       "│ 33          ┆ 16    ┆ 4.733728  │\n",
       "│ 31          ┆ 14    ┆ 4.142012  │\n",
       "│ …           ┆ …     ┆ …         │\n",
       "│ 13          ┆ 2     ┆ 0.591716  │\n",
       "│ 15          ┆ 2     ┆ 0.591716  │\n",
       "│ 11          ┆ 1     ┆ 0.295858  │\n",
       "│ 08          ┆ 1     ┆ 0.295858  │\n",
       "│ 14          ┆ 1     ┆ 0.295858  │\n",
       "└─────────────┴───────┴───────────┘"
      ]
     },
     "metadata": {},
     "output_type": "display_data"
    },
    {
     "data": {},
     "metadata": {},
     "output_type": "display_data"
    },
    {
     "data": {
      "application/vnd.holoviews_exec.v0+json": "",
      "text/html": [
       "<div id='b172268a-6d05-4c42-91f1-63e8be0a0ae0'>\n",
       "  <div id=\"a58e325b-0cca-49ee-a1e8-f1f88ce16519\" data-root-id=\"b172268a-6d05-4c42-91f1-63e8be0a0ae0\" style=\"display: contents;\"></div>\n",
       "</div>\n",
       "<script type=\"application/javascript\">(function(root) {\n",
       "  var docs_json = {\"0f77373c-81bd-4da0-a329-ae668a1d3ed8\":{\"version\":\"3.7.2\",\"title\":\"Bokeh Application\",\"roots\":[{\"type\":\"object\",\"name\":\"Row\",\"id\":\"b172268a-6d05-4c42-91f1-63e8be0a0ae0\",\"attributes\":{\"name\":\"Row00570\",\"tags\":[\"embedded\"],\"stylesheets\":[\"\\n:host(.pn-loading):before, .pn-loading:before {\\n  background-color: #c3c3c3;\\n  mask-size: auto calc(min(50%, 400px));\\n  -webkit-mask-size: auto calc(min(50%, 400px));\\n}\",{\"type\":\"object\",\"name\":\"ImportedStyleSheet\",\"id\":\"b8f6e3ec-1e75-4734-b838-fd15424cfe4d\",\"attributes\":{\"url\":\"https://cdn.holoviz.org/panel/1.6.2/dist/css/loading.css\"}},{\"type\":\"object\",\"name\":\"ImportedStyleSheet\",\"id\":\"d12ba679-627b-41b8-99d0-9dd7d416ef0f\",\"attributes\":{\"url\":\"https://cdn.holoviz.org/panel/1.6.2/dist/css/listpanel.css\"}},{\"type\":\"object\",\"name\":\"ImportedStyleSheet\",\"id\":\"65a2928b-4916-4c55-bbb7-4ad10d740ede\",\"attributes\":{\"url\":\"https://cdn.holoviz.org/panel/1.6.2/dist/bundled/theme/default.css\"}},{\"type\":\"object\",\"name\":\"ImportedStyleSheet\",\"id\":\"c973779a-4a76-4516-aa33-baed17176f7a\",\"attributes\":{\"url\":\"https://cdn.holoviz.org/panel/1.6.2/dist/bundled/theme/native.css\"}}],\"min_width\":700,\"margin\":0,\"sizing_mode\":\"stretch_width\",\"align\":\"start\",\"children\":[{\"type\":\"object\",\"name\":\"Spacer\",\"id\":\"7241a764-4d0c-464e-9910-b0c9102e93f5\",\"attributes\":{\"name\":\"HSpacer00574\",\"stylesheets\":[\"\\n:host(.pn-loading):before, .pn-loading:before {\\n  background-color: #c3c3c3;\\n  mask-size: auto calc(min(50%, 400px));\\n  -webkit-mask-size: auto calc(min(50%, 400px));\\n}\",{\"id\":\"b8f6e3ec-1e75-4734-b838-fd15424cfe4d\"},{\"id\":\"65a2928b-4916-4c55-bbb7-4ad10d740ede\"},{\"id\":\"c973779a-4a76-4516-aa33-baed17176f7a\"}],\"margin\":0,\"sizing_mode\":\"stretch_width\",\"align\":\"start\"}},{\"type\":\"object\",\"name\":\"Figure\",\"id\":\"9aa346dc-93b8-4146-b039-1dfe100d039b\",\"attributes\":{\"width\":700,\"height\":300,\"margin\":[5,10],\"sizing_mode\":\"fixed\",\"align\":\"start\",\"x_range\":{\"type\":\"object\",\"name\":\"FactorRange\",\"id\":\"84840cb2-f2f8-40cd-af23-12db0f3a90f7\",\"attributes\":{\"name\":\"post_str_b5\",\"tags\":[[[\"post_str_b5\",null]],[]],\"factors\":[\"34\",\"30\",\"27\",\"33\",\"31\",\"28\",\"26\",\"29\",\"23\",\"39\",\"37\",\"25\",\"32\",\"38\",\"18\",\"20\",\"36\",\"35\",\"21\",\"19\",\"24\",\"22\",\"17\",\"16\",\"13\",\"15\",\"11\",\"08\",\"14\"]}},\"y_range\":{\"type\":\"object\",\"name\":\"Range1d\",\"id\":\"7966a31e-9162-4f80-9481-a676f357157e\",\"attributes\":{\"name\":\"percent\",\"tags\":[[[\"percent\",null]],{\"type\":\"map\",\"entries\":[[\"invert_yaxis\",false],[\"autorange\",false]]}],\"end\":37.72189349112426,\"reset_start\":0.0,\"reset_end\":37.72189349112426}},\"x_scale\":{\"type\":\"object\",\"name\":\"CategoricalScale\",\"id\":\"26dca62a-d6fd-4acf-aac2-29bb1aa8a61a\"},\"y_scale\":{\"type\":\"object\",\"name\":\"LinearScale\",\"id\":\"3d832ac2-2e13-48ea-a1b5-cc3f90b55119\"},\"title\":{\"type\":\"object\",\"name\":\"Title\",\"id\":\"75f0b5e5-c462-42af-ad46-5690498fefb1\",\"attributes\":{\"text_color\":\"black\",\"text_font_size\":\"12pt\"}},\"renderers\":[{\"type\":\"object\",\"name\":\"GlyphRenderer\",\"id\":\"52d33dca-9a8d-4366-a723-e5691bce5370\",\"attributes\":{\"data_source\":{\"type\":\"object\",\"name\":\"ColumnDataSource\",\"id\":\"aced9f24-ed76-416f-a99f-485ec97d6ada\",\"attributes\":{\"selected\":{\"type\":\"object\",\"name\":\"Selection\",\"id\":\"61997233-5230-4bd4-8f66-6b9a9a7b4692\",\"attributes\":{\"indices\":[],\"line_indices\":[]}},\"selection_policy\":{\"type\":\"object\",\"name\":\"UnionRenderers\",\"id\":\"f89a4a29-e6c0-4598-ac05-6ee98c3c03c6\"},\"data\":{\"type\":\"map\",\"entries\":[[\"post_str_b5\",[\"34\",\"30\",\"27\",\"33\",\"31\",\"28\",\"26\",\"29\",\"23\",\"39\",\"37\",\"25\",\"32\",\"38\",\"18\",\"20\",\"36\",\"35\",\"21\",\"19\",\"24\",\"22\",\"17\",\"16\",\"13\",\"15\",\"11\",\"08\",\"14\"]],[\"percent\",{\"type\":\"ndarray\",\"array\":{\"type\":\"bytes\",\"data\":\"og2fP+YoQUC2SFBTIdoYQB2l21dW7xJAHaXbV1bvEkB5MOCMa5EQQHkw4IxrkRBAeTDgjGuREEBP7MRO7MQOQAgDzrgWCQpAZI7S7SurB0BkjtLtK6sHQGSO0u0rqwdAZI7S7SurB0AdpdtXVu8CQHkw4IxrkQBAeTDgjGuRAECrd8mDAWf8P6t3yYMBZ/w/q3fJgwFn/D9kjtLtK6v3Px2l21dW7/I/q3fJgwFn7D8dpdtXVu/iPx2l21dW7+I/HaXbV1bv4j8dpdtXVu/iPx2l21dW79I/HaXbV1bv0j8dpdtXVu/SPw==\"},\"shape\":[29],\"dtype\":\"float64\",\"order\":\"little\"}]]}}},\"view\":{\"type\":\"object\",\"name\":\"CDSView\",\"id\":\"4b161099-36b0-4b8f-a43a-e34bdce093b5\",\"attributes\":{\"filter\":{\"type\":\"object\",\"name\":\"AllIndices\",\"id\":\"d44c4963-bdda-4364-86d3-9a624f60baf2\"}}},\"glyph\":{\"type\":\"object\",\"name\":\"VBar\",\"id\":\"fd9af7b5-4d47-42b0-9c72-fba034513917\",\"attributes\":{\"tags\":[\"apply_ranges\"],\"x\":{\"type\":\"field\",\"field\":\"post_str_b5\"},\"width\":{\"type\":\"value\",\"value\":0.8},\"top\":{\"type\":\"field\",\"field\":\"percent\"},\"fill_color\":{\"type\":\"value\",\"value\":\"#30a2da\"},\"hatch_color\":{\"type\":\"value\",\"value\":\"#30a2da\"}}},\"selection_glyph\":{\"type\":\"object\",\"name\":\"VBar\",\"id\":\"b3e98842-a475-493d-8ab0-fec8dc5eea72\",\"attributes\":{\"tags\":[\"apply_ranges\"],\"x\":{\"type\":\"field\",\"field\":\"post_str_b5\"},\"width\":{\"type\":\"value\",\"value\":0.8},\"bottom\":{\"type\":\"value\",\"value\":0},\"top\":{\"type\":\"field\",\"field\":\"percent\"},\"line_color\":{\"type\":\"value\",\"value\":\"black\"},\"line_alpha\":{\"type\":\"value\",\"value\":1.0},\"line_width\":{\"type\":\"value\",\"value\":1},\"line_join\":{\"type\":\"value\",\"value\":\"bevel\"},\"line_cap\":{\"type\":\"value\",\"value\":\"butt\"},\"line_dash\":{\"type\":\"value\",\"value\":[]},\"line_dash_offset\":{\"type\":\"value\",\"value\":0},\"fill_color\":{\"type\":\"value\",\"value\":\"#30a2da\"},\"fill_alpha\":{\"type\":\"value\",\"value\":1.0},\"hatch_color\":{\"type\":\"value\",\"value\":\"#30a2da\"},\"hatch_alpha\":{\"type\":\"value\",\"value\":1.0},\"hatch_scale\":{\"type\":\"value\",\"value\":12.0},\"hatch_pattern\":{\"type\":\"value\",\"value\":null},\"hatch_weight\":{\"type\":\"value\",\"value\":1.0}}},\"nonselection_glyph\":{\"type\":\"object\",\"name\":\"VBar\",\"id\":\"6ae3602e-c3da-4bb9-98fd-d510bf209dea\",\"attributes\":{\"tags\":[\"apply_ranges\"],\"x\":{\"type\":\"field\",\"field\":\"post_str_b5\"},\"width\":{\"type\":\"value\",\"value\":0.8},\"top\":{\"type\":\"field\",\"field\":\"percent\"},\"line_alpha\":{\"type\":\"value\",\"value\":0.1},\"fill_color\":{\"type\":\"value\",\"value\":\"#30a2da\"},\"fill_alpha\":{\"type\":\"value\",\"value\":0.1},\"hatch_color\":{\"type\":\"value\",\"value\":\"#30a2da\"},\"hatch_alpha\":{\"type\":\"value\",\"value\":0.1}}},\"muted_glyph\":{\"type\":\"object\",\"name\":\"VBar\",\"id\":\"132cbccb-72f4-402f-b0d6-4b31a3763a25\",\"attributes\":{\"tags\":[\"apply_ranges\"],\"x\":{\"type\":\"field\",\"field\":\"post_str_b5\"},\"width\":{\"type\":\"value\",\"value\":0.8},\"top\":{\"type\":\"field\",\"field\":\"percent\"},\"line_alpha\":{\"type\":\"value\",\"value\":0.2},\"fill_color\":{\"type\":\"value\",\"value\":\"#30a2da\"},\"fill_alpha\":{\"type\":\"value\",\"value\":0.2},\"hatch_color\":{\"type\":\"value\",\"value\":\"#30a2da\"},\"hatch_alpha\":{\"type\":\"value\",\"value\":0.2}}}}},{\"type\":\"object\",\"name\":\"Span\",\"id\":\"ad009282-cf46-41f4-9313-78b1f16c852a\",\"attributes\":{\"level\":\"glyph\",\"location\":3.448275862068965,\"line_color\":\"red\",\"line_width\":3}},{\"type\":\"object\",\"name\":\"Span\",\"id\":\"a6b8eb36-6fcf-49a1-b50f-af48f48e4699\",\"attributes\":{\"level\":\"glyph\",\"location\":5.1724137931034475,\"line_color\":\"blue\",\"line_width\":3}},{\"type\":\"object\",\"name\":\"Span\",\"id\":\"249e1a54-25a6-4ef4-930f-e57ee5e4bf3e\",\"attributes\":{\"level\":\"glyph\",\"location\":1.7241379310344827,\"line_color\":\"blue\",\"line_width\":3}}],\"toolbar\":{\"type\":\"object\",\"name\":\"Toolbar\",\"id\":\"c5bfad97-f147-4229-96b8-4964a332adee\",\"attributes\":{\"tools\":[{\"type\":\"object\",\"name\":\"WheelZoomTool\",\"id\":\"03aca5c9-6e2d-4bd9-a771-b3d4949a2fe4\",\"attributes\":{\"tags\":[\"hv_created\"],\"renderers\":\"auto\",\"zoom_together\":\"none\"}},{\"type\":\"object\",\"name\":\"HoverTool\",\"id\":\"a5a319b9-25e1-495f-9d27-05fc0f4225bc\",\"attributes\":{\"tags\":[\"hv_created\"],\"renderers\":[{\"id\":\"52d33dca-9a8d-4366-a723-e5691bce5370\"}],\"tooltips\":[[\"post_str_b5\",\"@{post_str_b5}\"],[\"percent\",\"@{percent}\"]]}},{\"type\":\"object\",\"name\":\"SaveTool\",\"id\":\"a69a861a-d47d-472c-bb84-223b3e90dfae\"},{\"type\":\"object\",\"name\":\"PanTool\",\"id\":\"82998bd8-607c-41b7-896c-a2a2865ef5e7\"},{\"type\":\"object\",\"name\":\"BoxZoomTool\",\"id\":\"f85a7aaf-105a-4b75-8849-9e6a6cbdcf6a\",\"attributes\":{\"dimensions\":\"both\",\"overlay\":{\"type\":\"object\",\"name\":\"BoxAnnotation\",\"id\":\"37cfdf4c-be9f-4288-945e-ea7be56dfaca\",\"attributes\":{\"syncable\":false,\"line_color\":\"black\",\"line_alpha\":1.0,\"line_width\":2,\"line_dash\":[4,4],\"fill_color\":\"lightgrey\",\"fill_alpha\":0.5,\"level\":\"overlay\",\"visible\":false,\"left\":{\"type\":\"number\",\"value\":\"nan\"},\"right\":{\"type\":\"number\",\"value\":\"nan\"},\"top\":{\"type\":\"number\",\"value\":\"nan\"},\"bottom\":{\"type\":\"number\",\"value\":\"nan\"},\"left_units\":\"canvas\",\"right_units\":\"canvas\",\"top_units\":\"canvas\",\"bottom_units\":\"canvas\",\"handles\":{\"type\":\"object\",\"name\":\"BoxInteractionHandles\",\"id\":\"e69e0b97-d215-4818-92c1-20504dfe35ba\",\"attributes\":{\"all\":{\"type\":\"object\",\"name\":\"AreaVisuals\",\"id\":\"2e341340-f721-464a-8355-de81c31f73d5\",\"attributes\":{\"fill_color\":\"white\",\"hover_fill_color\":\"lightgray\"}}}}}}}},{\"type\":\"object\",\"name\":\"ResetTool\",\"id\":\"4a7cb9ba-6a6c-4a49-ade7-362da8e218d1\"}],\"active_drag\":{\"id\":\"82998bd8-607c-41b7-896c-a2a2865ef5e7\"}}},\"left\":[{\"type\":\"object\",\"name\":\"LinearAxis\",\"id\":\"6987c2e3-196c-4893-b9ab-5e95bd99221f\",\"attributes\":{\"ticker\":{\"type\":\"object\",\"name\":\"BasicTicker\",\"id\":\"e1998352-3479-43d5-8a69-e5087a50824b\",\"attributes\":{\"mantissas\":[1,2,5]}},\"formatter\":{\"type\":\"object\",\"name\":\"BasicTickFormatter\",\"id\":\"681ca4a8-0198-46f0-b55c-35d16b6dda39\"},\"axis_label\":\"percent\",\"major_label_policy\":{\"type\":\"object\",\"name\":\"AllLabels\",\"id\":\"014d962f-1b37-4d4e-978d-065203792134\"}}}],\"below\":[{\"type\":\"object\",\"name\":\"CategoricalAxis\",\"id\":\"eb9cead6-346f-4a65-afb3-f91e0b012d7a\",\"attributes\":{\"ticker\":{\"type\":\"object\",\"name\":\"CategoricalTicker\",\"id\":\"a34e40d4-2892-4db7-ae36-c16dd7dc520f\"},\"formatter\":{\"type\":\"object\",\"name\":\"CategoricalTickFormatter\",\"id\":\"8f30c9ba-bebf-4df0-8a45-250ce3e6996a\"},\"axis_label\":\"post_str_b5\",\"major_label_policy\":{\"type\":\"object\",\"name\":\"AllLabels\",\"id\":\"db65cbba-875d-4d4b-9e34-55d92d15de9d\"}}}],\"center\":[{\"type\":\"object\",\"name\":\"Grid\",\"id\":\"71b534ed-6757-4946-ab4c-ef2154c3c8b4\",\"attributes\":{\"axis\":{\"id\":\"eb9cead6-346f-4a65-afb3-f91e0b012d7a\"},\"grid_line_color\":null}},{\"type\":\"object\",\"name\":\"Grid\",\"id\":\"5acdc5d0-d862-4a2d-8b80-99a6950d60bf\",\"attributes\":{\"dimension\":1,\"axis\":{\"id\":\"6987c2e3-196c-4893-b9ab-5e95bd99221f\"},\"grid_line_color\":null}}],\"min_border_top\":10,\"min_border_bottom\":10,\"min_border_left\":10,\"min_border_right\":10,\"output_backend\":\"webgl\"}},{\"type\":\"object\",\"name\":\"Spacer\",\"id\":\"aaa1aa53-8c84-4f11-8bb2-d22a2e3ac567\",\"attributes\":{\"name\":\"HSpacer00575\",\"stylesheets\":[\"\\n:host(.pn-loading):before, .pn-loading:before {\\n  background-color: #c3c3c3;\\n  mask-size: auto calc(min(50%, 400px));\\n  -webkit-mask-size: auto calc(min(50%, 400px));\\n}\",{\"id\":\"b8f6e3ec-1e75-4734-b838-fd15424cfe4d\"},{\"id\":\"65a2928b-4916-4c55-bbb7-4ad10d740ede\"},{\"id\":\"c973779a-4a76-4516-aa33-baed17176f7a\"}],\"margin\":0,\"sizing_mode\":\"stretch_width\",\"align\":\"start\"}}]}}],\"defs\":[{\"type\":\"model\",\"name\":\"ReactiveHTML1\"},{\"type\":\"model\",\"name\":\"FlexBox1\",\"properties\":[{\"name\":\"align_content\",\"kind\":\"Any\",\"default\":\"flex-start\"},{\"name\":\"align_items\",\"kind\":\"Any\",\"default\":\"flex-start\"},{\"name\":\"flex_direction\",\"kind\":\"Any\",\"default\":\"row\"},{\"name\":\"flex_wrap\",\"kind\":\"Any\",\"default\":\"wrap\"},{\"name\":\"gap\",\"kind\":\"Any\",\"default\":\"\"},{\"name\":\"justify_content\",\"kind\":\"Any\",\"default\":\"flex-start\"}]},{\"type\":\"model\",\"name\":\"FloatPanel1\",\"properties\":[{\"name\":\"config\",\"kind\":\"Any\",\"default\":{\"type\":\"map\"}},{\"name\":\"contained\",\"kind\":\"Any\",\"default\":true},{\"name\":\"position\",\"kind\":\"Any\",\"default\":\"right-top\"},{\"name\":\"offsetx\",\"kind\":\"Any\",\"default\":null},{\"name\":\"offsety\",\"kind\":\"Any\",\"default\":null},{\"name\":\"theme\",\"kind\":\"Any\",\"default\":\"primary\"},{\"name\":\"status\",\"kind\":\"Any\",\"default\":\"normalized\"}]},{\"type\":\"model\",\"name\":\"GridStack1\",\"properties\":[{\"name\":\"ncols\",\"kind\":\"Any\",\"default\":null},{\"name\":\"nrows\",\"kind\":\"Any\",\"default\":null},{\"name\":\"allow_resize\",\"kind\":\"Any\",\"default\":true},{\"name\":\"allow_drag\",\"kind\":\"Any\",\"default\":true},{\"name\":\"state\",\"kind\":\"Any\",\"default\":[]}]},{\"type\":\"model\",\"name\":\"drag1\",\"properties\":[{\"name\":\"slider_width\",\"kind\":\"Any\",\"default\":5},{\"name\":\"slider_color\",\"kind\":\"Any\",\"default\":\"black\"},{\"name\":\"value\",\"kind\":\"Any\",\"default\":50}]},{\"type\":\"model\",\"name\":\"click1\",\"properties\":[{\"name\":\"terminal_output\",\"kind\":\"Any\",\"default\":\"\"},{\"name\":\"debug_name\",\"kind\":\"Any\",\"default\":\"\"},{\"name\":\"clears\",\"kind\":\"Any\",\"default\":0}]},{\"type\":\"model\",\"name\":\"FastWrapper1\",\"properties\":[{\"name\":\"object\",\"kind\":\"Any\",\"default\":null},{\"name\":\"style\",\"kind\":\"Any\",\"default\":null}]},{\"type\":\"model\",\"name\":\"NotificationArea1\",\"properties\":[{\"name\":\"js_events\",\"kind\":\"Any\",\"default\":{\"type\":\"map\"}},{\"name\":\"max_notifications\",\"kind\":\"Any\",\"default\":5},{\"name\":\"notifications\",\"kind\":\"Any\",\"default\":[]},{\"name\":\"position\",\"kind\":\"Any\",\"default\":\"bottom-right\"},{\"name\":\"_clear\",\"kind\":\"Any\",\"default\":0},{\"name\":\"types\",\"kind\":\"Any\",\"default\":[{\"type\":\"map\",\"entries\":[[\"type\",\"warning\"],[\"background\",\"#ffc107\"],[\"icon\",{\"type\":\"map\",\"entries\":[[\"className\",\"fas fa-exclamation-triangle\"],[\"tagName\",\"i\"],[\"color\",\"white\"]]}]]},{\"type\":\"map\",\"entries\":[[\"type\",\"info\"],[\"background\",\"#007bff\"],[\"icon\",{\"type\":\"map\",\"entries\":[[\"className\",\"fas fa-info-circle\"],[\"tagName\",\"i\"],[\"color\",\"white\"]]}]]}]}]},{\"type\":\"model\",\"name\":\"Notification\",\"properties\":[{\"name\":\"background\",\"kind\":\"Any\",\"default\":null},{\"name\":\"duration\",\"kind\":\"Any\",\"default\":3000},{\"name\":\"icon\",\"kind\":\"Any\",\"default\":null},{\"name\":\"message\",\"kind\":\"Any\",\"default\":\"\"},{\"name\":\"notification_type\",\"kind\":\"Any\",\"default\":null},{\"name\":\"_rendered\",\"kind\":\"Any\",\"default\":false},{\"name\":\"_destroyed\",\"kind\":\"Any\",\"default\":false}]},{\"type\":\"model\",\"name\":\"TemplateActions1\",\"properties\":[{\"name\":\"open_modal\",\"kind\":\"Any\",\"default\":0},{\"name\":\"close_modal\",\"kind\":\"Any\",\"default\":0}]},{\"type\":\"model\",\"name\":\"BootstrapTemplateActions1\",\"properties\":[{\"name\":\"open_modal\",\"kind\":\"Any\",\"default\":0},{\"name\":\"close_modal\",\"kind\":\"Any\",\"default\":0}]},{\"type\":\"model\",\"name\":\"TemplateEditor1\",\"properties\":[{\"name\":\"layout\",\"kind\":\"Any\",\"default\":[]}]},{\"type\":\"model\",\"name\":\"MaterialTemplateActions1\",\"properties\":[{\"name\":\"open_modal\",\"kind\":\"Any\",\"default\":0},{\"name\":\"close_modal\",\"kind\":\"Any\",\"default\":0}]},{\"type\":\"model\",\"name\":\"ReactiveESM1\",\"properties\":[{\"name\":\"esm_constants\",\"kind\":\"Any\",\"default\":{\"type\":\"map\"}}]},{\"type\":\"model\",\"name\":\"JSComponent1\",\"properties\":[{\"name\":\"esm_constants\",\"kind\":\"Any\",\"default\":{\"type\":\"map\"}}]},{\"type\":\"model\",\"name\":\"ReactComponent1\",\"properties\":[{\"name\":\"esm_constants\",\"kind\":\"Any\",\"default\":{\"type\":\"map\"}}]},{\"type\":\"model\",\"name\":\"AnyWidgetComponent1\",\"properties\":[{\"name\":\"esm_constants\",\"kind\":\"Any\",\"default\":{\"type\":\"map\"}}]},{\"type\":\"model\",\"name\":\"request_value1\",\"properties\":[{\"name\":\"fill\",\"kind\":\"Any\",\"default\":\"none\"},{\"name\":\"_synced\",\"kind\":\"Any\",\"default\":null},{\"name\":\"_request_sync\",\"kind\":\"Any\",\"default\":0}]}]}};\n",
       "  var render_items = [{\"docid\":\"0f77373c-81bd-4da0-a329-ae668a1d3ed8\",\"roots\":{\"b172268a-6d05-4c42-91f1-63e8be0a0ae0\":\"a58e325b-0cca-49ee-a1e8-f1f88ce16519\"},\"root_ids\":[\"b172268a-6d05-4c42-91f1-63e8be0a0ae0\"]}];\n",
       "  var docs = Object.values(docs_json)\n",
       "  if (!docs) {\n",
       "    return\n",
       "  }\n",
       "  const py_version = docs[0].version.replace('rc', '-rc.').replace('.dev', '-dev.')\n",
       "  async function embed_document(root) {\n",
       "    var Bokeh = get_bokeh(root)\n",
       "    await Bokeh.embed.embed_items_notebook(docs_json, render_items);\n",
       "    for (const render_item of render_items) {\n",
       "      for (const root_id of render_item.root_ids) {\n",
       "\tconst id_el = document.getElementById(root_id)\n",
       "\tif (id_el.children.length && id_el.children[0].hasAttribute('data-root-id')) {\n",
       "\t  const root_el = id_el.children[0]\n",
       "\t  root_el.id = root_el.id + '-rendered'\n",
       "\t  for (const child of root_el.children) {\n",
       "            // Ensure JupyterLab does not capture keyboard shortcuts\n",
       "            // see: https://jupyterlab.readthedocs.io/en/4.1.x/extension/notebook.html#keyboard-interaction-model\n",
       "\t    child.setAttribute('data-lm-suppress-shortcuts', 'true')\n",
       "\t  }\n",
       "\t}\n",
       "      }\n",
       "    }\n",
       "  }\n",
       "  function get_bokeh(root) {\n",
       "    if (root.Bokeh === undefined) {\n",
       "      return null\n",
       "    } else if (root.Bokeh.version !== py_version) {\n",
       "      if (root.Bokeh.versions === undefined || !root.Bokeh.versions.has(py_version)) {\n",
       "\treturn null\n",
       "      }\n",
       "      return root.Bokeh.versions.get(py_version);\n",
       "    } else if (root.Bokeh.version === py_version) {\n",
       "      return root.Bokeh\n",
       "    }\n",
       "    return null\n",
       "  }\n",
       "  function is_loaded(root) {\n",
       "    var Bokeh = get_bokeh(root)\n",
       "    return (Bokeh != null && Bokeh.Panel !== undefined)\n",
       "  }\n",
       "  if (is_loaded(root)) {\n",
       "    embed_document(root);\n",
       "  } else {\n",
       "    var attempts = 0;\n",
       "    var timer = setInterval(function(root) {\n",
       "      if (is_loaded(root)) {\n",
       "        clearInterval(timer);\n",
       "        embed_document(root);\n",
       "      } else if (document.readyState == \"complete\") {\n",
       "        attempts++;\n",
       "        if (attempts > 200) {\n",
       "          clearInterval(timer);\n",
       "\t  var Bokeh = get_bokeh(root)\n",
       "\t  if (Bokeh == null || Bokeh.Panel == null) {\n",
       "            console.warn(\"Panel: ERROR: Unable to run Panel code because Bokeh or Panel library is missing\");\n",
       "\t  } else {\n",
       "\t    console.warn(\"Panel: WARNING: Attempting to render but not all required libraries could be resolved.\")\n",
       "\t    embed_document(root)\n",
       "\t  }\n",
       "        }\n",
       "      }\n",
       "    }, 25, root)\n",
       "  }\n",
       "})(window);</script>"
      ],
      "text/plain": [
       ":Overlay\n",
       "   .Bars.I    :Bars   [post_str_b5]   (percent)\n",
       "   .HLine.I   :HLine   [x,y]\n",
       "   .HLine.II  :HLine   [x,y]\n",
       "   .HLine.III :HLine   [x,y]"
      ]
     },
     "metadata": {
      "application/vnd.holoviews_exec.v0+json": {
       "id": "b172268a-6d05-4c42-91f1-63e8be0a0ae0"
      }
     },
     "output_type": "display_data"
    },
    {
     "name": "stdout",
     "output_type": "stream",
     "text": [
      "df_10_last FOR str_b5 = 34\n",
      "Last 3 results last_results=['34', '37']\n"
     ]
    },
    {
     "data": {
      "text/html": [
       "<div><style>\n",
       ".dataframe > thead > tr,\n",
       ".dataframe > tbody > tr {\n",
       "  text-align: right;\n",
       "  white-space: pre-wrap;\n",
       "}\n",
       "</style>\n",
       "<small>shape: (10, 30)</small><table border=\"1\" class=\"dataframe\"><thead><tr><th>fecha</th><th>sorteo</th><th>bolillas regulares</th><th>bolillas chauchamba</th><th>cc1</th><th>cc2</th><th>id</th><th>combo</th><th>b1</th><th>b2</th><th>b3</th><th>b4</th><th>b5</th><th>b6</th><th>str_b1</th><th>str_b2</th><th>str_b3</th><th>str_b4</th><th>str_b5</th><th>str_b6</th><th>post_str_b1</th><th>post_str_b2</th><th>post_str_b3</th><th>post_str_b4</th><th>post_str_b5</th><th>post_str_blast</th><th>is_rare_combination</th><th>reason</th><th>jumps_map</th><th>unijump</th></tr><tr><td>str</td><td>str</td><td>str</td><td>str</td><td>str</td><td>str</td><td>str</td><td>array[u8, 6]</td><td>u8</td><td>u8</td><td>u8</td><td>u8</td><td>u8</td><td>u8</td><td>str</td><td>str</td><td>str</td><td>str</td><td>str</td><td>str</td><td>str</td><td>str</td><td>str</td><td>str</td><td>str</td><td>str</td><td>bool</td><td>u8</td><td>str</td><td>i64</td></tr></thead><tbody><tr><td>&quot;19/04/2025&quot;</td><td>&quot;1797&quot;</td><td>&quot;40 34 04 03 01 22&quot;</td><td>&quot;06 02 22 09 04 21&quot;</td><td>&quot;&quot;</td><td>&quot;&quot;</td><td>&quot;010304223440&quot;</td><td>[1, 3, … 40]</td><td>1</td><td>3</td><td>4</td><td>22</td><td>34</td><td>40</td><td>&quot;01&quot;</td><td>&quot;03&quot;</td><td>&quot;04&quot;</td><td>&quot;22&quot;</td><td>&quot;34&quot;</td><td>&quot;40&quot;</td><td>&quot;01&quot;</td><td>&quot;03&quot;</td><td>&quot;04&quot;</td><td>&quot;22&quot;</td><td>&quot;34&quot;</td><td>&quot;40&quot;</td><td>false</td><td>0</td><td>&quot;02_01_18_12_06&quot;</td><td>64</td></tr><tr><td>&quot;15/04/2025&quot;</td><td>&quot;1795&quot;</td><td>&quot;05 21 37 13 08 34&quot;</td><td>&quot;38 07 03 09 04 27&quot;</td><td>&quot;&quot;</td><td>&quot;&quot;</td><td>&quot;050813213437&quot;</td><td>[5, 8, … 37]</td><td>5</td><td>8</td><td>13</td><td>21</td><td>34</td><td>37</td><td>&quot;05&quot;</td><td>&quot;08&quot;</td><td>&quot;13&quot;</td><td>&quot;21&quot;</td><td>&quot;34&quot;</td><td>&quot;37&quot;</td><td>&quot;02&quot;</td><td>&quot;06&quot;</td><td>&quot;12&quot;</td><td>&quot;15&quot;</td><td>&quot;37&quot;</td><td>&quot;38&quot;</td><td>false</td><td>0</td><td>&quot;03_05_08_13_03&quot;</td><td>-18</td></tr><tr><td>&quot;15/04/2025&quot;</td><td>&quot;1795&quot;</td><td>&quot;05 21 37 13 08 34&quot;</td><td>&quot;38 07 03 09 04 27&quot;</td><td>&quot;&quot;</td><td>&quot;&quot;</td><td>&quot;050813213437&quot;</td><td>[5, 8, … 37]</td><td>5</td><td>8</td><td>13</td><td>21</td><td>34</td><td>37</td><td>&quot;05&quot;</td><td>&quot;08&quot;</td><td>&quot;13&quot;</td><td>&quot;21&quot;</td><td>&quot;34&quot;</td><td>&quot;37&quot;</td><td>&quot;05&quot;</td><td>&quot;08&quot;</td><td>&quot;13&quot;</td><td>&quot;21&quot;</td><td>&quot;34&quot;</td><td>&quot;37&quot;</td><td>false</td><td>0</td><td>&quot;03_05_08_13_03&quot;</td><td>-18</td></tr><tr><td>&quot;03/04/2025&quot;</td><td>&quot;1790&quot;</td><td>&quot;16 17 32 34 39 13&quot;</td><td>&quot;26 31 36 34 28 08&quot;</td><td>&quot;&quot;</td><td>&quot;&quot;</td><td>&quot;131617323439&quot;</td><td>[13, 16, … 39]</td><td>13</td><td>16</td><td>17</td><td>32</td><td>34</td><td>39</td><td>&quot;13&quot;</td><td>&quot;16&quot;</td><td>&quot;17&quot;</td><td>&quot;32&quot;</td><td>&quot;34&quot;</td><td>&quot;39&quot;</td><td>&quot;13&quot;</td><td>&quot;18&quot;</td><td>&quot;22&quot;</td><td>&quot;23&quot;</td><td>&quot;30&quot;</td><td>&quot;39&quot;</td><td>false</td><td>0</td><td>&quot;03_01_15_02_05&quot;</td><td>86</td></tr><tr><td>&quot;03/04/2025&quot;</td><td>&quot;1790&quot;</td><td>&quot;16 17 32 34 39 13&quot;</td><td>&quot;26 31 36 34 28 08&quot;</td><td>&quot;&quot;</td><td>&quot;&quot;</td><td>&quot;131617323439&quot;</td><td>[13, 16, … 39]</td><td>13</td><td>16</td><td>17</td><td>32</td><td>34</td><td>39</td><td>&quot;13&quot;</td><td>&quot;16&quot;</td><td>&quot;17&quot;</td><td>&quot;32&quot;</td><td>&quot;34&quot;</td><td>&quot;39&quot;</td><td>&quot;13&quot;</td><td>&quot;16&quot;</td><td>&quot;17&quot;</td><td>&quot;32&quot;</td><td>&quot;34&quot;</td><td>&quot;39&quot;</td><td>false</td><td>0</td><td>&quot;03_01_15_02_05&quot;</td><td>86</td></tr><tr><td>&quot;01/04/2025&quot;</td><td>&quot;1789&quot;</td><td>&quot;32 34 28 36 22 14&quot;</td><td>&quot;22 27 17 14 08 15&quot;</td><td>&quot;&quot;</td><td>&quot;&quot;</td><td>&quot;142228323436&quot;</td><td>[14, 22, … 36]</td><td>14</td><td>22</td><td>28</td><td>32</td><td>34</td><td>36</td><td>&quot;14&quot;</td><td>&quot;22&quot;</td><td>&quot;28&quot;</td><td>&quot;32&quot;</td><td>&quot;34&quot;</td><td>&quot;36&quot;</td><td>&quot;13&quot;</td><td>&quot;16&quot;</td><td>&quot;17&quot;</td><td>&quot;32&quot;</td><td>&quot;34&quot;</td><td>&quot;39&quot;</td><td>true</td><td>12</td><td>&quot;08_06_04_02_02&quot;</td><td>2</td></tr><tr><td>&quot;01/04/2025&quot;</td><td>&quot;1789&quot;</td><td>&quot;32 34 28 36 22 14&quot;</td><td>&quot;22 27 17 14 08 15&quot;</td><td>&quot;&quot;</td><td>&quot;&quot;</td><td>&quot;142228323436&quot;</td><td>[14, 22, … 36]</td><td>14</td><td>22</td><td>28</td><td>32</td><td>34</td><td>36</td><td>&quot;14&quot;</td><td>&quot;22&quot;</td><td>&quot;28&quot;</td><td>&quot;32&quot;</td><td>&quot;34&quot;</td><td>&quot;36&quot;</td><td>&quot;14&quot;</td><td>&quot;22&quot;</td><td>&quot;28&quot;</td><td>&quot;32&quot;</td><td>&quot;34&quot;</td><td>&quot;36&quot;</td><td>true</td><td>12</td><td>&quot;08_06_04_02_02&quot;</td><td>2</td></tr><tr><td>&quot;11/03/2025&quot;</td><td>&quot;1780&quot;</td><td>&quot;15 12 34 10 06 39&quot;</td><td>&quot;10 27 16 07 02 40&quot;</td><td>&quot;&quot;</td><td>&quot;&quot;</td><td>&quot;061012153439&quot;</td><td>[6, 10, … 39]</td><td>6</td><td>10</td><td>12</td><td>15</td><td>34</td><td>39</td><td>&quot;06&quot;</td><td>&quot;10&quot;</td><td>&quot;12&quot;</td><td>&quot;15&quot;</td><td>&quot;34&quot;</td><td>&quot;39&quot;</td><td>&quot;06&quot;</td><td>&quot;07&quot;</td><td>&quot;19&quot;</td><td>&quot;21&quot;</td><td>&quot;28&quot;</td><td>&quot;40&quot;</td><td>false</td><td>0</td><td>&quot;04_02_03_19_05&quot;</td><td>-57</td></tr><tr><td>&quot;11/03/2025&quot;</td><td>&quot;1780&quot;</td><td>&quot;15 12 34 10 06 39&quot;</td><td>&quot;10 27 16 07 02 40&quot;</td><td>&quot;&quot;</td><td>&quot;&quot;</td><td>&quot;061012153439&quot;</td><td>[6, 10, … 39]</td><td>6</td><td>10</td><td>12</td><td>15</td><td>34</td><td>39</td><td>&quot;06&quot;</td><td>&quot;10&quot;</td><td>&quot;12&quot;</td><td>&quot;15&quot;</td><td>&quot;34&quot;</td><td>&quot;39&quot;</td><td>&quot;06&quot;</td><td>&quot;10&quot;</td><td>&quot;12&quot;</td><td>&quot;15&quot;</td><td>&quot;34&quot;</td><td>&quot;39&quot;</td><td>false</td><td>0</td><td>&quot;04_02_03_19_05&quot;</td><td>-57</td></tr><tr><td>&quot;25/01/2025&quot;</td><td>&quot;1761&quot;</td><td>&quot;17 35 23 33 32 34&quot;</td><td>&quot;33 02 17 20 03 13&quot;</td><td>&quot;&quot;</td><td>&quot;&quot;</td><td>&quot;172332333435&quot;</td><td>[17, 23, … 35]</td><td>17</td><td>23</td><td>32</td><td>33</td><td>34</td><td>35</td><td>&quot;17&quot;</td><td>&quot;23&quot;</td><td>&quot;32&quot;</td><td>&quot;33&quot;</td><td>&quot;34&quot;</td><td>&quot;35&quot;</td><td>&quot;01&quot;</td><td>&quot;06&quot;</td><td>&quot;14&quot;</td><td>&quot;18&quot;</td><td>&quot;24&quot;</td><td>&quot;39&quot;</td><td>true</td><td>8</td><td>&quot;06_09_01_01_01&quot;</td><td>-27</td></tr></tbody></table></div>"
      ],
      "text/plain": [
       "shape: (10, 30)\n",
       "┌────────────┬────────┬─────────────┬─────────────┬───┬────────────┬────────┬────────────┬─────────┐\n",
       "│ fecha      ┆ sorteo ┆ bolillas    ┆ bolillas    ┆ … ┆ is_rare_co ┆ reason ┆ jumps_map  ┆ unijump │\n",
       "│ ---        ┆ ---    ┆ regulares   ┆ chauchamba  ┆   ┆ mbination  ┆ ---    ┆ ---        ┆ ---     │\n",
       "│ str        ┆ str    ┆ ---         ┆ ---         ┆   ┆ ---        ┆ u8     ┆ str        ┆ i64     │\n",
       "│            ┆        ┆ str         ┆ str         ┆   ┆ bool       ┆        ┆            ┆         │\n",
       "╞════════════╪════════╪═════════════╪═════════════╪═══╪════════════╪════════╪════════════╪═════════╡\n",
       "│ 19/04/2025 ┆ 1797   ┆ 40 34 04 03 ┆ 06 02 22 09 ┆ … ┆ false      ┆ 0      ┆ 02_01_18_1 ┆ 64      │\n",
       "│            ┆        ┆ 01 22       ┆ 04 21       ┆   ┆            ┆        ┆ 2_06       ┆         │\n",
       "│ 15/04/2025 ┆ 1795   ┆ 05 21 37 13 ┆ 38 07 03 09 ┆ … ┆ false      ┆ 0      ┆ 03_05_08_1 ┆ -18     │\n",
       "│            ┆        ┆ 08 34       ┆ 04 27       ┆   ┆            ┆        ┆ 3_03       ┆         │\n",
       "│ 15/04/2025 ┆ 1795   ┆ 05 21 37 13 ┆ 38 07 03 09 ┆ … ┆ false      ┆ 0      ┆ 03_05_08_1 ┆ -18     │\n",
       "│            ┆        ┆ 08 34       ┆ 04 27       ┆   ┆            ┆        ┆ 3_03       ┆         │\n",
       "│ 03/04/2025 ┆ 1790   ┆ 16 17 32 34 ┆ 26 31 36 34 ┆ … ┆ false      ┆ 0      ┆ 03_01_15_0 ┆ 86      │\n",
       "│            ┆        ┆ 39 13       ┆ 28 08       ┆   ┆            ┆        ┆ 2_05       ┆         │\n",
       "│ 03/04/2025 ┆ 1790   ┆ 16 17 32 34 ┆ 26 31 36 34 ┆ … ┆ false      ┆ 0      ┆ 03_01_15_0 ┆ 86      │\n",
       "│            ┆        ┆ 39 13       ┆ 28 08       ┆   ┆            ┆        ┆ 2_05       ┆         │\n",
       "│ 01/04/2025 ┆ 1789   ┆ 32 34 28 36 ┆ 22 27 17 14 ┆ … ┆ true       ┆ 12     ┆ 08_06_04_0 ┆ 2       │\n",
       "│            ┆        ┆ 22 14       ┆ 08 15       ┆   ┆            ┆        ┆ 2_02       ┆         │\n",
       "│ 01/04/2025 ┆ 1789   ┆ 32 34 28 36 ┆ 22 27 17 14 ┆ … ┆ true       ┆ 12     ┆ 08_06_04_0 ┆ 2       │\n",
       "│            ┆        ┆ 22 14       ┆ 08 15       ┆   ┆            ┆        ┆ 2_02       ┆         │\n",
       "│ 11/03/2025 ┆ 1780   ┆ 15 12 34 10 ┆ 10 27 16 07 ┆ … ┆ false      ┆ 0      ┆ 04_02_03_1 ┆ -57     │\n",
       "│            ┆        ┆ 06 39       ┆ 02 40       ┆   ┆            ┆        ┆ 9_05       ┆         │\n",
       "│ 11/03/2025 ┆ 1780   ┆ 15 12 34 10 ┆ 10 27 16 07 ┆ … ┆ false      ┆ 0      ┆ 04_02_03_1 ┆ -57     │\n",
       "│            ┆        ┆ 06 39       ┆ 02 40       ┆   ┆            ┆        ┆ 9_05       ┆         │\n",
       "│ 25/01/2025 ┆ 1761   ┆ 17 35 23 33 ┆ 33 02 17 20 ┆ … ┆ true       ┆ 8      ┆ 06_09_01_0 ┆ -27     │\n",
       "│            ┆        ┆ 32 34       ┆ 03 13       ┆   ┆            ┆        ┆ 1_01       ┆         │\n",
       "└────────────┴────────┴─────────────┴─────────────┴───┴────────────┴────────┴────────────┴─────────┘"
      ]
     },
     "metadata": {},
     "output_type": "display_data"
    },
    {
     "name": "stdout",
     "output_type": "stream",
     "text": [
      "df_jumps_map FOR str_b5 = 34\n"
     ]
    },
    {
     "data": {
      "text/html": [
       "<div><style>\n",
       ".dataframe > thead > tr,\n",
       ".dataframe > tbody > tr {\n",
       "  text-align: right;\n",
       "  white-space: pre-wrap;\n",
       "}\n",
       "</style>\n",
       "<small>shape: (236, 2)</small><table border=\"1\" class=\"dataframe\"><thead><tr><th>jumps_map</th><th>count</th></tr><tr><td>str</td><td>u32</td></tr></thead><tbody><tr><td>&quot;01_12_08_02_05&quot;</td><td>2</td></tr><tr><td>&quot;07_09_13_04_05&quot;</td><td>2</td></tr><tr><td>&quot;05_09_11_02_05&quot;</td><td>2</td></tr><tr><td>&quot;20_02_03_04_05&quot;</td><td>2</td></tr><tr><td>&quot;01_10_12_10_04&quot;</td><td>2</td></tr><tr><td>&hellip;</td><td>&hellip;</td></tr><tr><td>&quot;10_02_11_06_02&quot;</td><td>1</td></tr><tr><td>&quot;16_10_04_01_03&quot;</td><td>1</td></tr><tr><td>&quot;12_03_06_04_01&quot;</td><td>1</td></tr><tr><td>&quot;02_06_03_05_01&quot;</td><td>1</td></tr><tr><td>&quot;01_15_02_12_06&quot;</td><td>1</td></tr></tbody></table></div>"
      ],
      "text/plain": [
       "shape: (236, 2)\n",
       "┌────────────────┬───────┐\n",
       "│ jumps_map      ┆ count │\n",
       "│ ---            ┆ ---   │\n",
       "│ str            ┆ u32   │\n",
       "╞════════════════╪═══════╡\n",
       "│ 01_12_08_02_05 ┆ 2     │\n",
       "│ 07_09_13_04_05 ┆ 2     │\n",
       "│ 05_09_11_02_05 ┆ 2     │\n",
       "│ 20_02_03_04_05 ┆ 2     │\n",
       "│ 01_10_12_10_04 ┆ 2     │\n",
       "│ …              ┆ …     │\n",
       "│ 10_02_11_06_02 ┆ 1     │\n",
       "│ 16_10_04_01_03 ┆ 1     │\n",
       "│ 12_03_06_04_01 ┆ 1     │\n",
       "│ 02_06_03_05_01 ┆ 1     │\n",
       "│ 01_15_02_12_06 ┆ 1     │\n",
       "└────────────────┴───────┘"
      ]
     },
     "metadata": {},
     "output_type": "display_data"
    },
    {
     "name": "stdout",
     "output_type": "stream",
     "text": [
      "df_unijump FOR str_b5 = 34\n"
     ]
    },
    {
     "data": {
      "text/html": [
       "<div><style>\n",
       ".dataframe > thead > tr,\n",
       ".dataframe > tbody > tr {\n",
       "  text-align: right;\n",
       "  white-space: pre-wrap;\n",
       "}\n",
       "</style>\n",
       "<small>shape: (144, 2)</small><table border=\"1\" class=\"dataframe\"><thead><tr><th>unijump</th><th>count</th></tr><tr><td>i64</td><td>u32</td></tr></thead><tbody><tr><td>-1</td><td>8</td></tr><tr><td>30</td><td>6</td></tr><tr><td>-26</td><td>6</td></tr><tr><td>-17</td><td>6</td></tr><tr><td>-2</td><td>5</td></tr><tr><td>&hellip;</td><td>&hellip;</td></tr><tr><td>40</td><td>1</td></tr><tr><td>45</td><td>1</td></tr><tr><td>-94</td><td>1</td></tr><tr><td>82</td><td>1</td></tr><tr><td>-10</td><td>1</td></tr></tbody></table></div>"
      ],
      "text/plain": [
       "shape: (144, 2)\n",
       "┌─────────┬───────┐\n",
       "│ unijump ┆ count │\n",
       "│ ---     ┆ ---   │\n",
       "│ i64     ┆ u32   │\n",
       "╞═════════╪═══════╡\n",
       "│ -1      ┆ 8     │\n",
       "│ 30      ┆ 6     │\n",
       "│ -26     ┆ 6     │\n",
       "│ -17     ┆ 6     │\n",
       "│ -2      ┆ 5     │\n",
       "│ …       ┆ …     │\n",
       "│ 40      ┆ 1     │\n",
       "│ 45      ┆ 1     │\n",
       "│ -94     ┆ 1     │\n",
       "│ 82      ┆ 1     │\n",
       "│ -10     ┆ 1     │\n",
       "└─────────┴───────┘"
      ]
     },
     "metadata": {},
     "output_type": "display_data"
    }
   ],
   "source": [
    "possible_b5, exclude_jump_maps_b5, last_post_b5 = plot_post_col(col='str_b5', post_col='post_str_b5')"
   ]
  },
  {
   "cell_type": "code",
   "execution_count": 12,
   "metadata": {},
   "outputs": [
    {
     "name": "stdout",
     "output_type": "stream",
     "text": [
      "Setting test_value='40'\n",
      "df_viz FOR str_b6 = 40\n"
     ]
    },
    {
     "data": {
      "text/html": [
       "<div><style>\n",
       ".dataframe > thead > tr,\n",
       ".dataframe > tbody > tr {\n",
       "  text-align: right;\n",
       "  white-space: pre-wrap;\n",
       "}\n",
       "</style>\n",
       "<small>shape: (26, 3)</small><table border=\"1\" class=\"dataframe\"><thead><tr><th>post_str_blast</th><th>count</th><th>percent</th></tr><tr><td>str</td><td>u32</td><td>f64</td></tr></thead><tbody><tr><td>&quot;40&quot;</td><td>362</td><td>43.825666</td></tr><tr><td>&quot;39&quot;</td><td>70</td><td>8.474576</td></tr><tr><td>&quot;38&quot;</td><td>57</td><td>6.900726</td></tr><tr><td>&quot;37&quot;</td><td>50</td><td>6.053269</td></tr><tr><td>&quot;35&quot;</td><td>47</td><td>5.690073</td></tr><tr><td>&hellip;</td><td>&hellip;</td><td>&hellip;</td></tr><tr><td>&quot;19&quot;</td><td>1</td><td>0.121065</td></tr><tr><td>&quot;18&quot;</td><td>1</td><td>0.121065</td></tr><tr><td>&quot;13&quot;</td><td>1</td><td>0.121065</td></tr><tr><td>&quot;16&quot;</td><td>1</td><td>0.121065</td></tr><tr><td>&quot;17&quot;</td><td>1</td><td>0.121065</td></tr></tbody></table></div>"
      ],
      "text/plain": [
       "shape: (26, 3)\n",
       "┌────────────────┬───────┬───────────┐\n",
       "│ post_str_blast ┆ count ┆ percent   │\n",
       "│ ---            ┆ ---   ┆ ---       │\n",
       "│ str            ┆ u32   ┆ f64       │\n",
       "╞════════════════╪═══════╪═══════════╡\n",
       "│ 40             ┆ 362   ┆ 43.825666 │\n",
       "│ 39             ┆ 70    ┆ 8.474576  │\n",
       "│ 38             ┆ 57    ┆ 6.900726  │\n",
       "│ 37             ┆ 50    ┆ 6.053269  │\n",
       "│ 35             ┆ 47    ┆ 5.690073  │\n",
       "│ …              ┆ …     ┆ …         │\n",
       "│ 19             ┆ 1     ┆ 0.121065  │\n",
       "│ 18             ┆ 1     ┆ 0.121065  │\n",
       "│ 13             ┆ 1     ┆ 0.121065  │\n",
       "│ 16             ┆ 1     ┆ 0.121065  │\n",
       "│ 17             ┆ 1     ┆ 0.121065  │\n",
       "└────────────────┴───────┴───────────┘"
      ]
     },
     "metadata": {},
     "output_type": "display_data"
    },
    {
     "data": {},
     "metadata": {},
     "output_type": "display_data"
    },
    {
     "data": {
      "application/vnd.holoviews_exec.v0+json": "",
      "text/html": [
       "<div id='28698f6d-dfc1-4acb-bfeb-75b46c69cdc3'>\n",
       "  <div id=\"e1019076-79ae-4e75-a6db-667ad5dd3603\" data-root-id=\"28698f6d-dfc1-4acb-bfeb-75b46c69cdc3\" style=\"display: contents;\"></div>\n",
       "</div>\n",
       "<script type=\"application/javascript\">(function(root) {\n",
       "  var docs_json = {\"9be6b550-494c-4c00-b706-1d96e5074422\":{\"version\":\"3.7.2\",\"title\":\"Bokeh Application\",\"roots\":[{\"type\":\"object\",\"name\":\"Row\",\"id\":\"28698f6d-dfc1-4acb-bfeb-75b46c69cdc3\",\"attributes\":{\"name\":\"Row00641\",\"tags\":[\"embedded\"],\"stylesheets\":[\"\\n:host(.pn-loading):before, .pn-loading:before {\\n  background-color: #c3c3c3;\\n  mask-size: auto calc(min(50%, 400px));\\n  -webkit-mask-size: auto calc(min(50%, 400px));\\n}\",{\"type\":\"object\",\"name\":\"ImportedStyleSheet\",\"id\":\"19fbba08-4ec3-4df1-a044-4a4090a924b5\",\"attributes\":{\"url\":\"https://cdn.holoviz.org/panel/1.6.2/dist/css/loading.css\"}},{\"type\":\"object\",\"name\":\"ImportedStyleSheet\",\"id\":\"a097f742-523c-4921-9285-ad8ae1002a7e\",\"attributes\":{\"url\":\"https://cdn.holoviz.org/panel/1.6.2/dist/css/listpanel.css\"}},{\"type\":\"object\",\"name\":\"ImportedStyleSheet\",\"id\":\"b3491a35-9640-46fc-a784-25f27a2a88ef\",\"attributes\":{\"url\":\"https://cdn.holoviz.org/panel/1.6.2/dist/bundled/theme/default.css\"}},{\"type\":\"object\",\"name\":\"ImportedStyleSheet\",\"id\":\"20d7dd68-cb27-4987-8375-e91bdd8f2a98\",\"attributes\":{\"url\":\"https://cdn.holoviz.org/panel/1.6.2/dist/bundled/theme/native.css\"}}],\"min_width\":700,\"margin\":0,\"sizing_mode\":\"stretch_width\",\"align\":\"start\",\"children\":[{\"type\":\"object\",\"name\":\"Spacer\",\"id\":\"2f715cb7-ffe7-43f1-8afa-2c536617734f\",\"attributes\":{\"name\":\"HSpacer00645\",\"stylesheets\":[\"\\n:host(.pn-loading):before, .pn-loading:before {\\n  background-color: #c3c3c3;\\n  mask-size: auto calc(min(50%, 400px));\\n  -webkit-mask-size: auto calc(min(50%, 400px));\\n}\",{\"id\":\"19fbba08-4ec3-4df1-a044-4a4090a924b5\"},{\"id\":\"b3491a35-9640-46fc-a784-25f27a2a88ef\"},{\"id\":\"20d7dd68-cb27-4987-8375-e91bdd8f2a98\"}],\"margin\":0,\"sizing_mode\":\"stretch_width\",\"align\":\"start\"}},{\"type\":\"object\",\"name\":\"Figure\",\"id\":\"9be72531-a621-4211-a0f1-e81f960cd028\",\"attributes\":{\"width\":700,\"height\":300,\"margin\":[5,10],\"sizing_mode\":\"fixed\",\"align\":\"start\",\"x_range\":{\"type\":\"object\",\"name\":\"FactorRange\",\"id\":\"f98e3ebc-a23a-455a-a2d7-f97a9893a15e\",\"attributes\":{\"name\":\"post_str_blast\",\"tags\":[[[\"post_str_blast\",null]],[]],\"factors\":[\"40\",\"39\",\"38\",\"37\",\"35\",\"36\",\"34\",\"32\",\"33\",\"31\",\"30\",\"28\",\"29\",\"27\",\"25\",\"26\",\"24\",\"23\",\"20\",\"22\",\"21\",\"19\",\"18\",\"13\",\"16\",\"17\"]}},\"y_range\":{\"type\":\"object\",\"name\":\"Range1d\",\"id\":\"dff3adec-e8cb-4db4-8570-4bef5dee189d\",\"attributes\":{\"name\":\"percent\",\"tags\":[[[\"percent\",null]],{\"type\":\"map\",\"entries\":[[\"invert_yaxis\",false],[\"autorange\",false]]}],\"end\":48.19612590799032,\"reset_start\":0.0,\"reset_end\":48.19612590799032}},\"x_scale\":{\"type\":\"object\",\"name\":\"CategoricalScale\",\"id\":\"27f516d8-7061-4d0e-92ad-f372f4650973\"},\"y_scale\":{\"type\":\"object\",\"name\":\"LinearScale\",\"id\":\"0f07ba6a-13c9-4b79-9017-037c22ee0b3f\"},\"title\":{\"type\":\"object\",\"name\":\"Title\",\"id\":\"cac1840e-938a-4f9e-8da5-9dfd1cb542f0\",\"attributes\":{\"text_color\":\"black\",\"text_font_size\":\"12pt\"}},\"renderers\":[{\"type\":\"object\",\"name\":\"GlyphRenderer\",\"id\":\"a42afa4e-36f3-428c-be0a-55a19e76e606\",\"attributes\":{\"data_source\":{\"type\":\"object\",\"name\":\"ColumnDataSource\",\"id\":\"1e61a641-0d87-4e11-8868-d8b630c5b739\",\"attributes\":{\"selected\":{\"type\":\"object\",\"name\":\"Selection\",\"id\":\"1ab0fd7e-a16d-47da-b593-e305a482f6a1\",\"attributes\":{\"indices\":[],\"line_indices\":[]}},\"selection_policy\":{\"type\":\"object\",\"name\":\"UnionRenderers\",\"id\":\"af20bdc0-7bbc-44c4-acec-303164c6ba7f\"},\"data\":{\"type\":\"map\",\"entries\":[[\"post_str_blast\",[\"40\",\"39\",\"38\",\"37\",\"35\",\"36\",\"34\",\"32\",\"33\",\"31\",\"30\",\"28\",\"29\",\"27\",\"25\",\"26\",\"24\",\"23\",\"20\",\"22\",\"21\",\"19\",\"18\",\"13\",\"16\",\"17\"]],[\"percent\",{\"type\":\"ndarray\",\"array\":{\"type\":\"bytes\",\"data\":\"PCA8a6/pRUAjaDip+/IgQGR29QRYmhtAxJRQFow2GECkWOVmosIWQCSzqyfA0hRAw/5pGQN3EEAEDSd1Xx4LQEQ6ilVuJgpARO8W16lGBkBDpKNY5WYCQATCs/aaPvc/BMKz9po+9z+D0QY59G7xPwVYmvMj/u4/BMKz9po+5z8EwrP2mj7nPwTCs/aaPtc/BVia8yP+zj8FWJrzI/7OPwVYmvMj/r4/BVia8yP+vj8FWJrzI/6+PwVYmvMj/r4/BVia8yP+vj8FWJrzI/6+Pw==\"},\"shape\":[26],\"dtype\":\"float64\",\"order\":\"little\"}]]}}},\"view\":{\"type\":\"object\",\"name\":\"CDSView\",\"id\":\"9ba73404-d45e-4f1e-aecc-6019c48fc5ba\",\"attributes\":{\"filter\":{\"type\":\"object\",\"name\":\"AllIndices\",\"id\":\"bd177daf-36f5-441a-970c-3f02d270b32d\"}}},\"glyph\":{\"type\":\"object\",\"name\":\"VBar\",\"id\":\"4f98634c-6ae4-4868-8a7d-5f82daa04e90\",\"attributes\":{\"tags\":[\"apply_ranges\"],\"x\":{\"type\":\"field\",\"field\":\"post_str_blast\"},\"width\":{\"type\":\"value\",\"value\":0.8},\"top\":{\"type\":\"field\",\"field\":\"percent\"},\"fill_color\":{\"type\":\"value\",\"value\":\"#30a2da\"},\"hatch_color\":{\"type\":\"value\",\"value\":\"#30a2da\"}}},\"selection_glyph\":{\"type\":\"object\",\"name\":\"VBar\",\"id\":\"f1db8611-f479-4655-97a8-16851262c870\",\"attributes\":{\"tags\":[\"apply_ranges\"],\"x\":{\"type\":\"field\",\"field\":\"post_str_blast\"},\"width\":{\"type\":\"value\",\"value\":0.8},\"bottom\":{\"type\":\"value\",\"value\":0},\"top\":{\"type\":\"field\",\"field\":\"percent\"},\"line_color\":{\"type\":\"value\",\"value\":\"black\"},\"line_alpha\":{\"type\":\"value\",\"value\":1.0},\"line_width\":{\"type\":\"value\",\"value\":1},\"line_join\":{\"type\":\"value\",\"value\":\"bevel\"},\"line_cap\":{\"type\":\"value\",\"value\":\"butt\"},\"line_dash\":{\"type\":\"value\",\"value\":[]},\"line_dash_offset\":{\"type\":\"value\",\"value\":0},\"fill_color\":{\"type\":\"value\",\"value\":\"#30a2da\"},\"fill_alpha\":{\"type\":\"value\",\"value\":1.0},\"hatch_color\":{\"type\":\"value\",\"value\":\"#30a2da\"},\"hatch_alpha\":{\"type\":\"value\",\"value\":1.0},\"hatch_scale\":{\"type\":\"value\",\"value\":12.0},\"hatch_pattern\":{\"type\":\"value\",\"value\":null},\"hatch_weight\":{\"type\":\"value\",\"value\":1.0}}},\"nonselection_glyph\":{\"type\":\"object\",\"name\":\"VBar\",\"id\":\"3015a85f-33e1-44f3-aadb-304baac242d4\",\"attributes\":{\"tags\":[\"apply_ranges\"],\"x\":{\"type\":\"field\",\"field\":\"post_str_blast\"},\"width\":{\"type\":\"value\",\"value\":0.8},\"top\":{\"type\":\"field\",\"field\":\"percent\"},\"line_alpha\":{\"type\":\"value\",\"value\":0.1},\"fill_color\":{\"type\":\"value\",\"value\":\"#30a2da\"},\"fill_alpha\":{\"type\":\"value\",\"value\":0.1},\"hatch_color\":{\"type\":\"value\",\"value\":\"#30a2da\"},\"hatch_alpha\":{\"type\":\"value\",\"value\":0.1}}},\"muted_glyph\":{\"type\":\"object\",\"name\":\"VBar\",\"id\":\"baaa55b1-cb95-4648-816c-a900855147c7\",\"attributes\":{\"tags\":[\"apply_ranges\"],\"x\":{\"type\":\"field\",\"field\":\"post_str_blast\"},\"width\":{\"type\":\"value\",\"value\":0.8},\"top\":{\"type\":\"field\",\"field\":\"percent\"},\"line_alpha\":{\"type\":\"value\",\"value\":0.2},\"fill_color\":{\"type\":\"value\",\"value\":\"#30a2da\"},\"fill_alpha\":{\"type\":\"value\",\"value\":0.2},\"hatch_color\":{\"type\":\"value\",\"value\":\"#30a2da\"},\"hatch_alpha\":{\"type\":\"value\",\"value\":0.2}}}}},{\"type\":\"object\",\"name\":\"Span\",\"id\":\"3624c5b8-409a-4ce7-9c34-5f26e4fbf528\",\"attributes\":{\"level\":\"glyph\",\"location\":3.846153846153846,\"line_color\":\"red\",\"line_width\":3}},{\"type\":\"object\",\"name\":\"Span\",\"id\":\"1b002def-e00c-42e9-80c5-46c795ab929c\",\"attributes\":{\"level\":\"glyph\",\"location\":5.769230769230769,\"line_color\":\"blue\",\"line_width\":3}},{\"type\":\"object\",\"name\":\"Span\",\"id\":\"ea7a72f6-0d40-4778-b5f4-5eb7bced6a4c\",\"attributes\":{\"level\":\"glyph\",\"location\":1.923076923076923,\"line_color\":\"blue\",\"line_width\":3}}],\"toolbar\":{\"type\":\"object\",\"name\":\"Toolbar\",\"id\":\"6af21a48-c3f3-4bc0-9d37-137fa1de592e\",\"attributes\":{\"tools\":[{\"type\":\"object\",\"name\":\"WheelZoomTool\",\"id\":\"64e2242d-4d4e-43f8-8165-4889aa3e0e3b\",\"attributes\":{\"tags\":[\"hv_created\"],\"renderers\":\"auto\",\"zoom_together\":\"none\"}},{\"type\":\"object\",\"name\":\"HoverTool\",\"id\":\"8e3e3b6b-42a3-4344-9f54-e56fa859fc8a\",\"attributes\":{\"tags\":[\"hv_created\"],\"renderers\":[{\"id\":\"a42afa4e-36f3-428c-be0a-55a19e76e606\"}],\"tooltips\":[[\"post_str_blast\",\"@{post_str_blast}\"],[\"percent\",\"@{percent}\"]]}},{\"type\":\"object\",\"name\":\"SaveTool\",\"id\":\"411448ae-9336-423f-b138-ff0d79df4900\"},{\"type\":\"object\",\"name\":\"PanTool\",\"id\":\"78ba8eb6-9b95-46b7-8301-6094d808e0d9\"},{\"type\":\"object\",\"name\":\"BoxZoomTool\",\"id\":\"2e00ca8e-9bd6-4b6a-b05b-10de1b9fb70d\",\"attributes\":{\"dimensions\":\"both\",\"overlay\":{\"type\":\"object\",\"name\":\"BoxAnnotation\",\"id\":\"7e77ec89-dcba-430c-97a9-a0605cbe3374\",\"attributes\":{\"syncable\":false,\"line_color\":\"black\",\"line_alpha\":1.0,\"line_width\":2,\"line_dash\":[4,4],\"fill_color\":\"lightgrey\",\"fill_alpha\":0.5,\"level\":\"overlay\",\"visible\":false,\"left\":{\"type\":\"number\",\"value\":\"nan\"},\"right\":{\"type\":\"number\",\"value\":\"nan\"},\"top\":{\"type\":\"number\",\"value\":\"nan\"},\"bottom\":{\"type\":\"number\",\"value\":\"nan\"},\"left_units\":\"canvas\",\"right_units\":\"canvas\",\"top_units\":\"canvas\",\"bottom_units\":\"canvas\",\"handles\":{\"type\":\"object\",\"name\":\"BoxInteractionHandles\",\"id\":\"938f4692-c4cc-4729-aed5-614014eb15a7\",\"attributes\":{\"all\":{\"type\":\"object\",\"name\":\"AreaVisuals\",\"id\":\"79c54450-0ef2-4580-b600-85ee892dc3ba\",\"attributes\":{\"fill_color\":\"white\",\"hover_fill_color\":\"lightgray\"}}}}}}}},{\"type\":\"object\",\"name\":\"ResetTool\",\"id\":\"3d027b8b-81d6-410b-bf1f-5a620bb635c7\"}],\"active_drag\":{\"id\":\"78ba8eb6-9b95-46b7-8301-6094d808e0d9\"}}},\"left\":[{\"type\":\"object\",\"name\":\"LinearAxis\",\"id\":\"30063509-33b0-4d3e-a6c9-935dc8acdafa\",\"attributes\":{\"ticker\":{\"type\":\"object\",\"name\":\"BasicTicker\",\"id\":\"0876e63f-4aaa-4582-838e-f0dfd29a0c89\",\"attributes\":{\"mantissas\":[1,2,5]}},\"formatter\":{\"type\":\"object\",\"name\":\"BasicTickFormatter\",\"id\":\"96341241-d3c7-4d4c-831c-bdc7965ab06b\"},\"axis_label\":\"percent\",\"major_label_policy\":{\"type\":\"object\",\"name\":\"AllLabels\",\"id\":\"89bc3952-d446-4b5e-be34-37b68c3e90f5\"}}}],\"below\":[{\"type\":\"object\",\"name\":\"CategoricalAxis\",\"id\":\"afd5991b-ab8c-4962-a790-56a67fbe917e\",\"attributes\":{\"ticker\":{\"type\":\"object\",\"name\":\"CategoricalTicker\",\"id\":\"d8091f9f-21fb-4df7-8d0e-d7020c96c2c0\"},\"formatter\":{\"type\":\"object\",\"name\":\"CategoricalTickFormatter\",\"id\":\"12b80227-7894-477c-a953-08375bc387d5\"},\"axis_label\":\"post_str_blast\",\"major_label_policy\":{\"type\":\"object\",\"name\":\"AllLabels\",\"id\":\"c958f5ec-8582-48a6-9cb6-9ecb32631aa7\"}}}],\"center\":[{\"type\":\"object\",\"name\":\"Grid\",\"id\":\"cc2ca613-6efc-445d-8b5f-e5467451c4eb\",\"attributes\":{\"axis\":{\"id\":\"afd5991b-ab8c-4962-a790-56a67fbe917e\"},\"grid_line_color\":null}},{\"type\":\"object\",\"name\":\"Grid\",\"id\":\"b3ffcf0e-5cfb-4e4d-9c2a-1f8e7a20d616\",\"attributes\":{\"dimension\":1,\"axis\":{\"id\":\"30063509-33b0-4d3e-a6c9-935dc8acdafa\"},\"grid_line_color\":null}}],\"min_border_top\":10,\"min_border_bottom\":10,\"min_border_left\":10,\"min_border_right\":10,\"output_backend\":\"webgl\"}},{\"type\":\"object\",\"name\":\"Spacer\",\"id\":\"6731ef04-6706-49fb-872c-671266010a2c\",\"attributes\":{\"name\":\"HSpacer00646\",\"stylesheets\":[\"\\n:host(.pn-loading):before, .pn-loading:before {\\n  background-color: #c3c3c3;\\n  mask-size: auto calc(min(50%, 400px));\\n  -webkit-mask-size: auto calc(min(50%, 400px));\\n}\",{\"id\":\"19fbba08-4ec3-4df1-a044-4a4090a924b5\"},{\"id\":\"b3491a35-9640-46fc-a784-25f27a2a88ef\"},{\"id\":\"20d7dd68-cb27-4987-8375-e91bdd8f2a98\"}],\"margin\":0,\"sizing_mode\":\"stretch_width\",\"align\":\"start\"}}]}}],\"defs\":[{\"type\":\"model\",\"name\":\"ReactiveHTML1\"},{\"type\":\"model\",\"name\":\"FlexBox1\",\"properties\":[{\"name\":\"align_content\",\"kind\":\"Any\",\"default\":\"flex-start\"},{\"name\":\"align_items\",\"kind\":\"Any\",\"default\":\"flex-start\"},{\"name\":\"flex_direction\",\"kind\":\"Any\",\"default\":\"row\"},{\"name\":\"flex_wrap\",\"kind\":\"Any\",\"default\":\"wrap\"},{\"name\":\"gap\",\"kind\":\"Any\",\"default\":\"\"},{\"name\":\"justify_content\",\"kind\":\"Any\",\"default\":\"flex-start\"}]},{\"type\":\"model\",\"name\":\"FloatPanel1\",\"properties\":[{\"name\":\"config\",\"kind\":\"Any\",\"default\":{\"type\":\"map\"}},{\"name\":\"contained\",\"kind\":\"Any\",\"default\":true},{\"name\":\"position\",\"kind\":\"Any\",\"default\":\"right-top\"},{\"name\":\"offsetx\",\"kind\":\"Any\",\"default\":null},{\"name\":\"offsety\",\"kind\":\"Any\",\"default\":null},{\"name\":\"theme\",\"kind\":\"Any\",\"default\":\"primary\"},{\"name\":\"status\",\"kind\":\"Any\",\"default\":\"normalized\"}]},{\"type\":\"model\",\"name\":\"GridStack1\",\"properties\":[{\"name\":\"ncols\",\"kind\":\"Any\",\"default\":null},{\"name\":\"nrows\",\"kind\":\"Any\",\"default\":null},{\"name\":\"allow_resize\",\"kind\":\"Any\",\"default\":true},{\"name\":\"allow_drag\",\"kind\":\"Any\",\"default\":true},{\"name\":\"state\",\"kind\":\"Any\",\"default\":[]}]},{\"type\":\"model\",\"name\":\"drag1\",\"properties\":[{\"name\":\"slider_width\",\"kind\":\"Any\",\"default\":5},{\"name\":\"slider_color\",\"kind\":\"Any\",\"default\":\"black\"},{\"name\":\"value\",\"kind\":\"Any\",\"default\":50}]},{\"type\":\"model\",\"name\":\"click1\",\"properties\":[{\"name\":\"terminal_output\",\"kind\":\"Any\",\"default\":\"\"},{\"name\":\"debug_name\",\"kind\":\"Any\",\"default\":\"\"},{\"name\":\"clears\",\"kind\":\"Any\",\"default\":0}]},{\"type\":\"model\",\"name\":\"FastWrapper1\",\"properties\":[{\"name\":\"object\",\"kind\":\"Any\",\"default\":null},{\"name\":\"style\",\"kind\":\"Any\",\"default\":null}]},{\"type\":\"model\",\"name\":\"NotificationArea1\",\"properties\":[{\"name\":\"js_events\",\"kind\":\"Any\",\"default\":{\"type\":\"map\"}},{\"name\":\"max_notifications\",\"kind\":\"Any\",\"default\":5},{\"name\":\"notifications\",\"kind\":\"Any\",\"default\":[]},{\"name\":\"position\",\"kind\":\"Any\",\"default\":\"bottom-right\"},{\"name\":\"_clear\",\"kind\":\"Any\",\"default\":0},{\"name\":\"types\",\"kind\":\"Any\",\"default\":[{\"type\":\"map\",\"entries\":[[\"type\",\"warning\"],[\"background\",\"#ffc107\"],[\"icon\",{\"type\":\"map\",\"entries\":[[\"className\",\"fas fa-exclamation-triangle\"],[\"tagName\",\"i\"],[\"color\",\"white\"]]}]]},{\"type\":\"map\",\"entries\":[[\"type\",\"info\"],[\"background\",\"#007bff\"],[\"icon\",{\"type\":\"map\",\"entries\":[[\"className\",\"fas fa-info-circle\"],[\"tagName\",\"i\"],[\"color\",\"white\"]]}]]}]}]},{\"type\":\"model\",\"name\":\"Notification\",\"properties\":[{\"name\":\"background\",\"kind\":\"Any\",\"default\":null},{\"name\":\"duration\",\"kind\":\"Any\",\"default\":3000},{\"name\":\"icon\",\"kind\":\"Any\",\"default\":null},{\"name\":\"message\",\"kind\":\"Any\",\"default\":\"\"},{\"name\":\"notification_type\",\"kind\":\"Any\",\"default\":null},{\"name\":\"_rendered\",\"kind\":\"Any\",\"default\":false},{\"name\":\"_destroyed\",\"kind\":\"Any\",\"default\":false}]},{\"type\":\"model\",\"name\":\"TemplateActions1\",\"properties\":[{\"name\":\"open_modal\",\"kind\":\"Any\",\"default\":0},{\"name\":\"close_modal\",\"kind\":\"Any\",\"default\":0}]},{\"type\":\"model\",\"name\":\"BootstrapTemplateActions1\",\"properties\":[{\"name\":\"open_modal\",\"kind\":\"Any\",\"default\":0},{\"name\":\"close_modal\",\"kind\":\"Any\",\"default\":0}]},{\"type\":\"model\",\"name\":\"TemplateEditor1\",\"properties\":[{\"name\":\"layout\",\"kind\":\"Any\",\"default\":[]}]},{\"type\":\"model\",\"name\":\"MaterialTemplateActions1\",\"properties\":[{\"name\":\"open_modal\",\"kind\":\"Any\",\"default\":0},{\"name\":\"close_modal\",\"kind\":\"Any\",\"default\":0}]},{\"type\":\"model\",\"name\":\"ReactiveESM1\",\"properties\":[{\"name\":\"esm_constants\",\"kind\":\"Any\",\"default\":{\"type\":\"map\"}}]},{\"type\":\"model\",\"name\":\"JSComponent1\",\"properties\":[{\"name\":\"esm_constants\",\"kind\":\"Any\",\"default\":{\"type\":\"map\"}}]},{\"type\":\"model\",\"name\":\"ReactComponent1\",\"properties\":[{\"name\":\"esm_constants\",\"kind\":\"Any\",\"default\":{\"type\":\"map\"}}]},{\"type\":\"model\",\"name\":\"AnyWidgetComponent1\",\"properties\":[{\"name\":\"esm_constants\",\"kind\":\"Any\",\"default\":{\"type\":\"map\"}}]},{\"type\":\"model\",\"name\":\"request_value1\",\"properties\":[{\"name\":\"fill\",\"kind\":\"Any\",\"default\":\"none\"},{\"name\":\"_synced\",\"kind\":\"Any\",\"default\":null},{\"name\":\"_request_sync\",\"kind\":\"Any\",\"default\":0}]}]}};\n",
       "  var render_items = [{\"docid\":\"9be6b550-494c-4c00-b706-1d96e5074422\",\"roots\":{\"28698f6d-dfc1-4acb-bfeb-75b46c69cdc3\":\"e1019076-79ae-4e75-a6db-667ad5dd3603\"},\"root_ids\":[\"28698f6d-dfc1-4acb-bfeb-75b46c69cdc3\"]}];\n",
       "  var docs = Object.values(docs_json)\n",
       "  if (!docs) {\n",
       "    return\n",
       "  }\n",
       "  const py_version = docs[0].version.replace('rc', '-rc.').replace('.dev', '-dev.')\n",
       "  async function embed_document(root) {\n",
       "    var Bokeh = get_bokeh(root)\n",
       "    await Bokeh.embed.embed_items_notebook(docs_json, render_items);\n",
       "    for (const render_item of render_items) {\n",
       "      for (const root_id of render_item.root_ids) {\n",
       "\tconst id_el = document.getElementById(root_id)\n",
       "\tif (id_el.children.length && id_el.children[0].hasAttribute('data-root-id')) {\n",
       "\t  const root_el = id_el.children[0]\n",
       "\t  root_el.id = root_el.id + '-rendered'\n",
       "\t  for (const child of root_el.children) {\n",
       "            // Ensure JupyterLab does not capture keyboard shortcuts\n",
       "            // see: https://jupyterlab.readthedocs.io/en/4.1.x/extension/notebook.html#keyboard-interaction-model\n",
       "\t    child.setAttribute('data-lm-suppress-shortcuts', 'true')\n",
       "\t  }\n",
       "\t}\n",
       "      }\n",
       "    }\n",
       "  }\n",
       "  function get_bokeh(root) {\n",
       "    if (root.Bokeh === undefined) {\n",
       "      return null\n",
       "    } else if (root.Bokeh.version !== py_version) {\n",
       "      if (root.Bokeh.versions === undefined || !root.Bokeh.versions.has(py_version)) {\n",
       "\treturn null\n",
       "      }\n",
       "      return root.Bokeh.versions.get(py_version);\n",
       "    } else if (root.Bokeh.version === py_version) {\n",
       "      return root.Bokeh\n",
       "    }\n",
       "    return null\n",
       "  }\n",
       "  function is_loaded(root) {\n",
       "    var Bokeh = get_bokeh(root)\n",
       "    return (Bokeh != null && Bokeh.Panel !== undefined)\n",
       "  }\n",
       "  if (is_loaded(root)) {\n",
       "    embed_document(root);\n",
       "  } else {\n",
       "    var attempts = 0;\n",
       "    var timer = setInterval(function(root) {\n",
       "      if (is_loaded(root)) {\n",
       "        clearInterval(timer);\n",
       "        embed_document(root);\n",
       "      } else if (document.readyState == \"complete\") {\n",
       "        attempts++;\n",
       "        if (attempts > 200) {\n",
       "          clearInterval(timer);\n",
       "\t  var Bokeh = get_bokeh(root)\n",
       "\t  if (Bokeh == null || Bokeh.Panel == null) {\n",
       "            console.warn(\"Panel: ERROR: Unable to run Panel code because Bokeh or Panel library is missing\");\n",
       "\t  } else {\n",
       "\t    console.warn(\"Panel: WARNING: Attempting to render but not all required libraries could be resolved.\")\n",
       "\t    embed_document(root)\n",
       "\t  }\n",
       "        }\n",
       "      }\n",
       "    }, 25, root)\n",
       "  }\n",
       "})(window);</script>"
      ],
      "text/plain": [
       ":Overlay\n",
       "   .Bars.I    :Bars   [post_str_blast]   (percent)\n",
       "   .HLine.I   :HLine   [x,y]\n",
       "   .HLine.II  :HLine   [x,y]\n",
       "   .HLine.III :HLine   [x,y]"
      ]
     },
     "metadata": {
      "application/vnd.holoviews_exec.v0+json": {
       "id": "28698f6d-dfc1-4acb-bfeb-75b46c69cdc3"
      }
     },
     "output_type": "display_data"
    },
    {
     "name": "stdout",
     "output_type": "stream",
     "text": [
      "df_10_last FOR str_b6 = 40\n",
      "Last 3 results last_results=['36', '40']\n"
     ]
    },
    {
     "data": {
      "text/html": [
       "<div><style>\n",
       ".dataframe > thead > tr,\n",
       ".dataframe > tbody > tr {\n",
       "  text-align: right;\n",
       "  white-space: pre-wrap;\n",
       "}\n",
       "</style>\n",
       "<small>shape: (10, 30)</small><table border=\"1\" class=\"dataframe\"><thead><tr><th>fecha</th><th>sorteo</th><th>bolillas regulares</th><th>bolillas chauchamba</th><th>cc1</th><th>cc2</th><th>id</th><th>combo</th><th>b1</th><th>b2</th><th>b3</th><th>b4</th><th>b5</th><th>b6</th><th>str_b1</th><th>str_b2</th><th>str_b3</th><th>str_b4</th><th>str_b5</th><th>str_b6</th><th>post_str_b1</th><th>post_str_b2</th><th>post_str_b3</th><th>post_str_b4</th><th>post_str_b5</th><th>post_str_blast</th><th>is_rare_combination</th><th>reason</th><th>jumps_map</th><th>unijump</th></tr><tr><td>str</td><td>str</td><td>str</td><td>str</td><td>str</td><td>str</td><td>str</td><td>array[u8, 6]</td><td>u8</td><td>u8</td><td>u8</td><td>u8</td><td>u8</td><td>u8</td><td>str</td><td>str</td><td>str</td><td>str</td><td>str</td><td>str</td><td>str</td><td>str</td><td>str</td><td>str</td><td>str</td><td>str</td><td>bool</td><td>u8</td><td>str</td><td>i64</td></tr></thead><tbody><tr><td>&quot;19/04/2025&quot;</td><td>&quot;1797&quot;</td><td>&quot;40 34 04 03 01 22&quot;</td><td>&quot;06 02 22 09 04 21&quot;</td><td>&quot;&quot;</td><td>&quot;&quot;</td><td>&quot;010304223440&quot;</td><td>[1, 3, … 40]</td><td>1</td><td>3</td><td>4</td><td>22</td><td>34</td><td>40</td><td>&quot;01&quot;</td><td>&quot;03&quot;</td><td>&quot;04&quot;</td><td>&quot;22&quot;</td><td>&quot;34&quot;</td><td>&quot;40&quot;</td><td>&quot;01&quot;</td><td>&quot;03&quot;</td><td>&quot;04&quot;</td><td>&quot;22&quot;</td><td>&quot;34&quot;</td><td>&quot;40&quot;</td><td>false</td><td>0</td><td>&quot;02_01_18_12_06&quot;</td><td>64</td></tr><tr><td>&quot;08/04/2025&quot;</td><td>&quot;1792&quot;</td><td>&quot;17 39 38 04 40 28&quot;</td><td>&quot;23 34 17 08 24 01&quot;</td><td>&quot;&quot;</td><td>&quot;&quot;</td><td>&quot;041728383940&quot;</td><td>[4, 17, … 40]</td><td>4</td><td>17</td><td>28</td><td>38</td><td>39</td><td>40</td><td>&quot;04&quot;</td><td>&quot;17&quot;</td><td>&quot;28&quot;</td><td>&quot;38&quot;</td><td>&quot;39&quot;</td><td>&quot;40&quot;</td><td>&quot;01&quot;</td><td>&quot;02&quot;</td><td>&quot;18&quot;</td><td>&quot;20&quot;</td><td>&quot;22&quot;</td><td>&quot;36&quot;</td><td>true</td><td>8</td><td>&quot;13_11_10_01_01&quot;</td><td>26</td></tr><tr><td>&quot;08/04/2025&quot;</td><td>&quot;1792&quot;</td><td>&quot;17 39 38 04 40 28&quot;</td><td>&quot;23 34 17 08 24 01&quot;</td><td>&quot;&quot;</td><td>&quot;&quot;</td><td>&quot;041728383940&quot;</td><td>[4, 17, … 40]</td><td>4</td><td>17</td><td>28</td><td>38</td><td>39</td><td>40</td><td>&quot;04&quot;</td><td>&quot;17&quot;</td><td>&quot;28&quot;</td><td>&quot;38&quot;</td><td>&quot;39&quot;</td><td>&quot;40&quot;</td><td>&quot;04&quot;</td><td>&quot;17&quot;</td><td>&quot;28&quot;</td><td>&quot;38&quot;</td><td>&quot;39&quot;</td><td>&quot;40&quot;</td><td>true</td><td>8</td><td>&quot;13_11_10_01_01&quot;</td><td>26</td></tr><tr><td>&quot;29/03/2025&quot;</td><td>&quot;1788&quot;</td><td>&quot;36 31 33 40 23 25&quot;</td><td>&quot;38 05 16 07 09 24&quot;</td><td>&quot;&quot;</td><td>&quot;&quot;</td><td>&quot;232531333640&quot;</td><td>[23, 25, … 40]</td><td>23</td><td>25</td><td>31</td><td>33</td><td>36</td><td>40</td><td>&quot;23&quot;</td><td>&quot;25&quot;</td><td>&quot;31&quot;</td><td>&quot;33&quot;</td><td>&quot;36&quot;</td><td>&quot;40&quot;</td><td>&quot;14&quot;</td><td>&quot;22&quot;</td><td>&quot;28&quot;</td><td>&quot;32&quot;</td><td>&quot;34&quot;</td><td>&quot;36&quot;</td><td>false</td><td>0</td><td>&quot;02_06_02_03_04&quot;</td><td>-18</td></tr><tr><td>&quot;29/03/2025&quot;</td><td>&quot;1788&quot;</td><td>&quot;36 31 33 40 23 25&quot;</td><td>&quot;38 05 16 07 09 24&quot;</td><td>&quot;&quot;</td><td>&quot;&quot;</td><td>&quot;232531333640&quot;</td><td>[23, 25, … 40]</td><td>23</td><td>25</td><td>31</td><td>33</td><td>36</td><td>40</td><td>&quot;23&quot;</td><td>&quot;25&quot;</td><td>&quot;31&quot;</td><td>&quot;33&quot;</td><td>&quot;36&quot;</td><td>&quot;40&quot;</td><td>&quot;23&quot;</td><td>&quot;25&quot;</td><td>&quot;31&quot;</td><td>&quot;33&quot;</td><td>&quot;36&quot;</td><td>&quot;40&quot;</td><td>false</td><td>0</td><td>&quot;02_06_02_03_04&quot;</td><td>-18</td></tr><tr><td>&quot;13/03/2025&quot;</td><td>&quot;1781&quot;</td><td>&quot;21 19 06 07 28 40&quot;</td><td>&quot;16 15 28 27 25 05&quot;</td><td>&quot;&quot;</td><td>&quot;&quot;</td><td>&quot;060719212840&quot;</td><td>[6, 7, … 40]</td><td>6</td><td>7</td><td>19</td><td>21</td><td>28</td><td>40</td><td>&quot;06&quot;</td><td>&quot;07&quot;</td><td>&quot;19&quot;</td><td>&quot;21&quot;</td><td>&quot;28&quot;</td><td>&quot;40&quot;</td><td>&quot;03&quot;</td><td>&quot;09&quot;</td><td>&quot;10&quot;</td><td>&quot;19&quot;</td><td>&quot;28&quot;</td><td>&quot;39&quot;</td><td>true</td><td>16</td><td>&quot;01_12_02_07_12&quot;</td><td>-51</td></tr><tr><td>&quot;13/03/2025&quot;</td><td>&quot;1781&quot;</td><td>&quot;21 19 06 07 28 40&quot;</td><td>&quot;16 15 28 27 25 05&quot;</td><td>&quot;&quot;</td><td>&quot;&quot;</td><td>&quot;060719212840&quot;</td><td>[6, 7, … 40]</td><td>6</td><td>7</td><td>19</td><td>21</td><td>28</td><td>40</td><td>&quot;06&quot;</td><td>&quot;07&quot;</td><td>&quot;19&quot;</td><td>&quot;21&quot;</td><td>&quot;28&quot;</td><td>&quot;40&quot;</td><td>&quot;06&quot;</td><td>&quot;07&quot;</td><td>&quot;19&quot;</td><td>&quot;21&quot;</td><td>&quot;28&quot;</td><td>&quot;40&quot;</td><td>true</td><td>16</td><td>&quot;01_12_02_07_12&quot;</td><td>-51</td></tr><tr><td>&quot;01/03/2025&quot;</td><td>&quot;1776&quot;</td><td>&quot;02 34 38 14 22 40&quot;</td><td>&quot;09 08 36 39 14 01&quot;</td><td>&quot;&quot;</td><td>&quot;&quot;</td><td>&quot;021422343840&quot;</td><td>[2, 14, … 40]</td><td>2</td><td>14</td><td>22</td><td>34</td><td>38</td><td>40</td><td>&quot;02&quot;</td><td>&quot;14&quot;</td><td>&quot;22&quot;</td><td>&quot;34&quot;</td><td>&quot;38&quot;</td><td>&quot;40&quot;</td><td>&quot;04&quot;</td><td>&quot;06&quot;</td><td>&quot;11&quot;</td><td>&quot;18&quot;</td><td>&quot;26&quot;</td><td>&quot;30&quot;</td><td>true</td><td>4</td><td>&quot;12_08_12_04_02&quot;</td><td>38</td></tr><tr><td>&quot;01/03/2025&quot;</td><td>&quot;1776&quot;</td><td>&quot;02 34 38 14 22 40&quot;</td><td>&quot;09 08 36 39 14 01&quot;</td><td>&quot;&quot;</td><td>&quot;&quot;</td><td>&quot;021422343840&quot;</td><td>[2, 14, … 40]</td><td>2</td><td>14</td><td>22</td><td>34</td><td>38</td><td>40</td><td>&quot;02&quot;</td><td>&quot;14&quot;</td><td>&quot;22&quot;</td><td>&quot;34&quot;</td><td>&quot;38&quot;</td><td>&quot;40&quot;</td><td>&quot;02&quot;</td><td>&quot;14&quot;</td><td>&quot;22&quot;</td><td>&quot;34&quot;</td><td>&quot;38&quot;</td><td>&quot;40&quot;</td><td>true</td><td>4</td><td>&quot;12_08_12_04_02&quot;</td><td>38</td></tr><tr><td>&quot;25/02/2025&quot;</td><td>&quot;1774&quot;</td><td>&quot;40 06 31 03 26 32&quot;</td><td>&quot;36 37 07 14 22 02&quot;</td><td>&quot;&quot;</td><td>&quot;&quot;</td><td>&quot;030626313240&quot;</td><td>[3, 6, … 40]</td><td>3</td><td>6</td><td>26</td><td>31</td><td>32</td><td>40</td><td>&quot;03&quot;</td><td>&quot;06&quot;</td><td>&quot;26&quot;</td><td>&quot;31&quot;</td><td>&quot;32&quot;</td><td>&quot;40&quot;</td><td>&quot;03&quot;</td><td>&quot;07&quot;</td><td>&quot;08&quot;</td><td>&quot;22&quot;</td><td>&quot;25&quot;</td><td>&quot;29&quot;</td><td>false</td><td>0</td><td>&quot;03_20_05_01_08&quot;</td><td>-43</td></tr></tbody></table></div>"
      ],
      "text/plain": [
       "shape: (10, 30)\n",
       "┌────────────┬────────┬─────────────┬─────────────┬───┬────────────┬────────┬────────────┬─────────┐\n",
       "│ fecha      ┆ sorteo ┆ bolillas    ┆ bolillas    ┆ … ┆ is_rare_co ┆ reason ┆ jumps_map  ┆ unijump │\n",
       "│ ---        ┆ ---    ┆ regulares   ┆ chauchamba  ┆   ┆ mbination  ┆ ---    ┆ ---        ┆ ---     │\n",
       "│ str        ┆ str    ┆ ---         ┆ ---         ┆   ┆ ---        ┆ u8     ┆ str        ┆ i64     │\n",
       "│            ┆        ┆ str         ┆ str         ┆   ┆ bool       ┆        ┆            ┆         │\n",
       "╞════════════╪════════╪═════════════╪═════════════╪═══╪════════════╪════════╪════════════╪═════════╡\n",
       "│ 19/04/2025 ┆ 1797   ┆ 40 34 04 03 ┆ 06 02 22 09 ┆ … ┆ false      ┆ 0      ┆ 02_01_18_1 ┆ 64      │\n",
       "│            ┆        ┆ 01 22       ┆ 04 21       ┆   ┆            ┆        ┆ 2_06       ┆         │\n",
       "│ 08/04/2025 ┆ 1792   ┆ 17 39 38 04 ┆ 23 34 17 08 ┆ … ┆ true       ┆ 8      ┆ 13_11_10_0 ┆ 26      │\n",
       "│            ┆        ┆ 40 28       ┆ 24 01       ┆   ┆            ┆        ┆ 1_01       ┆         │\n",
       "│ 08/04/2025 ┆ 1792   ┆ 17 39 38 04 ┆ 23 34 17 08 ┆ … ┆ true       ┆ 8      ┆ 13_11_10_0 ┆ 26      │\n",
       "│            ┆        ┆ 40 28       ┆ 24 01       ┆   ┆            ┆        ┆ 1_01       ┆         │\n",
       "│ 29/03/2025 ┆ 1788   ┆ 36 31 33 40 ┆ 38 05 16 07 ┆ … ┆ false      ┆ 0      ┆ 02_06_02_0 ┆ -18     │\n",
       "│            ┆        ┆ 23 25       ┆ 09 24       ┆   ┆            ┆        ┆ 3_04       ┆         │\n",
       "│ 29/03/2025 ┆ 1788   ┆ 36 31 33 40 ┆ 38 05 16 07 ┆ … ┆ false      ┆ 0      ┆ 02_06_02_0 ┆ -18     │\n",
       "│            ┆        ┆ 23 25       ┆ 09 24       ┆   ┆            ┆        ┆ 3_04       ┆         │\n",
       "│ 13/03/2025 ┆ 1781   ┆ 21 19 06 07 ┆ 16 15 28 27 ┆ … ┆ true       ┆ 16     ┆ 01_12_02_0 ┆ -51     │\n",
       "│            ┆        ┆ 28 40       ┆ 25 05       ┆   ┆            ┆        ┆ 7_12       ┆         │\n",
       "│ 13/03/2025 ┆ 1781   ┆ 21 19 06 07 ┆ 16 15 28 27 ┆ … ┆ true       ┆ 16     ┆ 01_12_02_0 ┆ -51     │\n",
       "│            ┆        ┆ 28 40       ┆ 25 05       ┆   ┆            ┆        ┆ 7_12       ┆         │\n",
       "│ 01/03/2025 ┆ 1776   ┆ 02 34 38 14 ┆ 09 08 36 39 ┆ … ┆ true       ┆ 4      ┆ 12_08_12_0 ┆ 38      │\n",
       "│            ┆        ┆ 22 40       ┆ 14 01       ┆   ┆            ┆        ┆ 4_02       ┆         │\n",
       "│ 01/03/2025 ┆ 1776   ┆ 02 34 38 14 ┆ 09 08 36 39 ┆ … ┆ true       ┆ 4      ┆ 12_08_12_0 ┆ 38      │\n",
       "│            ┆        ┆ 22 40       ┆ 14 01       ┆   ┆            ┆        ┆ 4_02       ┆         │\n",
       "│ 25/02/2025 ┆ 1774   ┆ 40 06 31 03 ┆ 36 37 07 14 ┆ … ┆ false      ┆ 0      ┆ 03_20_05_0 ┆ -43     │\n",
       "│            ┆        ┆ 26 32       ┆ 22 02       ┆   ┆            ┆        ┆ 1_08       ┆         │\n",
       "└────────────┴────────┴─────────────┴─────────────┴───┴────────────┴────────┴────────────┴─────────┘"
      ]
     },
     "metadata": {},
     "output_type": "display_data"
    },
    {
     "name": "stdout",
     "output_type": "stream",
     "text": [
      "df_jumps_map FOR str_b6 = 40\n"
     ]
    },
    {
     "data": {
      "text/html": [
       "<div><style>\n",
       ".dataframe > thead > tr,\n",
       ".dataframe > tbody > tr {\n",
       "  text-align: right;\n",
       "  white-space: pre-wrap;\n",
       "}\n",
       "</style>\n",
       "<small>shape: (562, 2)</small><table border=\"1\" class=\"dataframe\"><thead><tr><th>jumps_map</th><th>count</th></tr><tr><td>str</td><td>u32</td></tr></thead><tbody><tr><td>&quot;06_07_03_10_05&quot;</td><td>2</td></tr><tr><td>&quot;10_08_01_03_10&quot;</td><td>2</td></tr><tr><td>&quot;01_06_05_14_01&quot;</td><td>2</td></tr><tr><td>&quot;09_02_18_02_02&quot;</td><td>2</td></tr><tr><td>&quot;04_02_05_06_07&quot;</td><td>2</td></tr><tr><td>&hellip;</td><td>&hellip;</td></tr><tr><td>&quot;05_24_02_02_03&quot;</td><td>1</td></tr><tr><td>&quot;03_01_13_07_02&quot;</td><td>1</td></tr><tr><td>&quot;05_03_03_10_14&quot;</td><td>1</td></tr><tr><td>&quot;14_01_01_01_12&quot;</td><td>1</td></tr><tr><td>&quot;04_03_03_02_02&quot;</td><td>1</td></tr></tbody></table></div>"
      ],
      "text/plain": [
       "shape: (562, 2)\n",
       "┌────────────────┬───────┐\n",
       "│ jumps_map      ┆ count │\n",
       "│ ---            ┆ ---   │\n",
       "│ str            ┆ u32   │\n",
       "╞════════════════╪═══════╡\n",
       "│ 06_07_03_10_05 ┆ 2     │\n",
       "│ 10_08_01_03_10 ┆ 2     │\n",
       "│ 01_06_05_14_01 ┆ 2     │\n",
       "│ 09_02_18_02_02 ┆ 2     │\n",
       "│ 04_02_05_06_07 ┆ 2     │\n",
       "│ …              ┆ …     │\n",
       "│ 05_24_02_02_03 ┆ 1     │\n",
       "│ 03_01_13_07_02 ┆ 1     │\n",
       "│ 05_03_03_10_14 ┆ 1     │\n",
       "│ 14_01_01_01_12 ┆ 1     │\n",
       "│ 04_03_03_02_02 ┆ 1     │\n",
       "└────────────────┴───────┘"
      ]
     },
     "metadata": {},
     "output_type": "display_data"
    },
    {
     "name": "stdout",
     "output_type": "stream",
     "text": [
      "df_unijump FOR str_b6 = 40\n"
     ]
    },
    {
     "data": {
      "text/html": [
       "<div><style>\n",
       ".dataframe > thead > tr,\n",
       ".dataframe > tbody > tr {\n",
       "  text-align: right;\n",
       "  white-space: pre-wrap;\n",
       "}\n",
       "</style>\n",
       "<small>shape: (180, 2)</small><table border=\"1\" class=\"dataframe\"><thead><tr><th>unijump</th><th>count</th></tr><tr><td>i64</td><td>u32</td></tr></thead><tbody><tr><td>-17</td><td>18</td></tr><tr><td>-11</td><td>16</td></tr><tr><td>27</td><td>14</td></tr><tr><td>-51</td><td>14</td></tr><tr><td>4</td><td>13</td></tr><tr><td>&hellip;</td><td>&hellip;</td></tr><tr><td>-59</td><td>1</td></tr><tr><td>116</td><td>1</td></tr><tr><td>-63</td><td>1</td></tr><tr><td>-77</td><td>1</td></tr><tr><td>21</td><td>1</td></tr></tbody></table></div>"
      ],
      "text/plain": [
       "shape: (180, 2)\n",
       "┌─────────┬───────┐\n",
       "│ unijump ┆ count │\n",
       "│ ---     ┆ ---   │\n",
       "│ i64     ┆ u32   │\n",
       "╞═════════╪═══════╡\n",
       "│ -17     ┆ 18    │\n",
       "│ -11     ┆ 16    │\n",
       "│ 27      ┆ 14    │\n",
       "│ -51     ┆ 14    │\n",
       "│ 4       ┆ 13    │\n",
       "│ …       ┆ …     │\n",
       "│ -59     ┆ 1     │\n",
       "│ 116     ┆ 1     │\n",
       "│ -63     ┆ 1     │\n",
       "│ -77     ┆ 1     │\n",
       "│ 21      ┆ 1     │\n",
       "└─────────┴───────┘"
      ]
     },
     "metadata": {},
     "output_type": "display_data"
    }
   ],
   "source": [
    "possible_blast, exclude_jump_maps_blast, last_post_blast = plot_post_col(col='str_b6', post_col='post_str_blast')"
   ]
  },
  {
   "cell_type": "code",
   "execution_count": 13,
   "metadata": {},
   "outputs": [],
   "source": [
    "b_count = rr.CHOOSE\n",
    "min_b = rr.MIN_B_VALUES[0]\n",
    "max_b = rr.MAX_B_VALUES[-1]\n",
    "\n",
    "\n",
    "combos = combinations(range(min_b, max_b + 1), b_count)\n",
    "# print(\"generating combos: \", len(list(combos)))"
   ]
  },
  {
   "cell_type": "code",
   "execution_count": 14,
   "metadata": {},
   "outputs": [],
   "source": [
    "parquet_file = './parquet_kbl_v3.parquet'\n",
    "\n",
    "# check if parquet_file exists\n",
    "if not os.path.exists(parquet_file):\n",
    "  print(f'{parquet_file=} does not exists. creating')\n",
    "  lst = []\n",
    "\n",
    "  for row in combos:\n",
    "    cols = []\n",
    "    str_row = \" \".join([str(r).zfill(2) for r in row])\n",
    "    id, bolillas_int, str_combo = formalize_data_with_str(bolillas_str=str_row)\n",
    "    cols.append(id)\n",
    "    cols.append(bolillas_int)\n",
    "    cols.extend([b for b in bolillas_int])\n",
    "    cols.extend(str_combo)\n",
    "\n",
    "    is_rare, reason = rr.is_rare_combination(bolillas_int, id)\n",
    "    cols.append(is_rare)\n",
    "    cols.append(reason)\n",
    "\n",
    "    cols.append(rr.jumps_map(bolillas_int))\n",
    "    cols.append(rr.unijump(bolillas_int))\n",
    "    \n",
    "    lst.append(cols)\n",
    "\n",
    "\n",
    "  with open('./gn_cahe_v3.json', 'w') as file: \n",
    "    json.dump(lst, file)\n",
    "\n",
    "  \n",
    "  # dfRows = pl.DataFrame(\n",
    "  #   lst,\n",
    "  #   schema=[\n",
    "  #     'fecha', 'sorteo', 'bolillas regulares', 'bolillas chauchamba', 'cc1', 'cc2',\n",
    "  #     'id', 'combo', 'b1', 'b2', 'b3', 'b4', 'b5', 'b6',\n",
    "  #     'str_b1', 'str_b2', 'str_b3', 'str_b4', 'str_b5', 'str_b6',\n",
    "  #     'post_str_b1', 'post_str_b2', 'post_str_b3', 'post_str_b4', 'post_str_b5', 'post_str_blast',\n",
    "  #     'is_rare_combination', 'reason',\n",
    "  #     \"jumps_map\", \"unijump\"\n",
    "  #   ],\n",
    "  #   schema_overrides={\n",
    "  #     'combo': pl.Array(pl.UInt8, 6),\n",
    "  #     'b1': pl.UInt8,\n",
    "  #     'b2': pl.UInt8,\n",
    "  #     'b3': pl.UInt8,\n",
    "  #     'b4': pl.UInt8,\n",
    "  #     'b5': pl.UInt8,\n",
    "  #     'b6': pl.UInt8,\n",
    "  #     'reason': pl.UInt8\n",
    "  #   },\n",
    "  #   orient='row'\n",
    "  # )\n",
    "\n",
    "  df_Orows = pl.DataFrame(\n",
    "    lst,\n",
    "    schema=[\n",
    "      # 'fecha', 'sorteo', 'bolillas',\n",
    "      'id', 'combo', 'b1', 'b2', 'b3', 'b4', 'b5', 'b6',\n",
    "      'str_b1', 'str_b2', 'str_b3', 'str_b4', 'str_b5', 'str_b6',\n",
    "      'is_rare_combination', 'reason',\n",
    "      \"jumps_map\", \"unijump\"\n",
    "    ],\n",
    "    schema_overrides={\n",
    "      'combo': pl.Array(pl.UInt8, 6),\n",
    "      'b1': pl.UInt8,\n",
    "      'b2': pl.UInt8,\n",
    "      'b3': pl.UInt8,\n",
    "      'b4': pl.UInt8,\n",
    "      'b5': pl.UInt8,\n",
    "      'b6': pl.UInt8,\n",
    "      'reason': pl.UInt8\n",
    "    },\n",
    "    orient='row'\n",
    "  )\n",
    "\n",
    "  df_Orows.write_parquet(parquet_file)\n",
    "  TOTAL_LINES = len(df_Orows)\n",
    "  print(f'{TOTAL_LINES=} loaded to {parquet_file=}')\n",
    "\n",
    "  display(df_Orows.head(10))\n",
    "else:\n",
    "  df_Orows = pl.read_parquet(parquet_file)"
   ]
  },
  {
   "cell_type": "code",
   "execution_count": 15,
   "metadata": {},
   "outputs": [
    {
     "data": {
      "text/html": [
       "<div><style>\n",
       ".dataframe > thead > tr,\n",
       ".dataframe > tbody > tr {\n",
       "  text-align: right;\n",
       "  white-space: pre-wrap;\n",
       "}\n",
       "</style>\n",
       "<small>shape: (5_400, 18)</small><table border=\"1\" class=\"dataframe\"><thead><tr><th>id</th><th>combo</th><th>b1</th><th>b2</th><th>b3</th><th>b4</th><th>b5</th><th>b6</th><th>str_b1</th><th>str_b2</th><th>str_b3</th><th>str_b4</th><th>str_b5</th><th>str_b6</th><th>is_rare_combination</th><th>reason</th><th>jumps_map</th><th>unijump</th></tr><tr><td>str</td><td>array[u8, 6]</td><td>u8</td><td>u8</td><td>u8</td><td>u8</td><td>u8</td><td>u8</td><td>str</td><td>str</td><td>str</td><td>str</td><td>str</td><td>str</td><td>bool</td><td>u8</td><td>str</td><td>i64</td></tr></thead><tbody><tr><td>&quot;020414192634&quot;</td><td>[2, 4, … 34]</td><td>2</td><td>4</td><td>14</td><td>19</td><td>26</td><td>34</td><td>&quot;02&quot;</td><td>&quot;04&quot;</td><td>&quot;14&quot;</td><td>&quot;19&quot;</td><td>&quot;26&quot;</td><td>&quot;34&quot;</td><td>false</td><td>0</td><td>&quot;02_10_05_07_08&quot;</td><td>-28</td></tr><tr><td>&quot;020414192635&quot;</td><td>[2, 4, … 35]</td><td>2</td><td>4</td><td>14</td><td>19</td><td>26</td><td>35</td><td>&quot;02&quot;</td><td>&quot;04&quot;</td><td>&quot;14&quot;</td><td>&quot;19&quot;</td><td>&quot;26&quot;</td><td>&quot;35&quot;</td><td>false</td><td>0</td><td>&quot;02_10_05_07_09&quot;</td><td>-27</td></tr><tr><td>&quot;020414192637&quot;</td><td>[2, 4, … 37]</td><td>2</td><td>4</td><td>14</td><td>19</td><td>26</td><td>37</td><td>&quot;02&quot;</td><td>&quot;04&quot;</td><td>&quot;14&quot;</td><td>&quot;19&quot;</td><td>&quot;26&quot;</td><td>&quot;37&quot;</td><td>false</td><td>0</td><td>&quot;02_10_05_07_11&quot;</td><td>-25</td></tr><tr><td>&quot;020414192638&quot;</td><td>[2, 4, … 38]</td><td>2</td><td>4</td><td>14</td><td>19</td><td>26</td><td>38</td><td>&quot;02&quot;</td><td>&quot;04&quot;</td><td>&quot;14&quot;</td><td>&quot;19&quot;</td><td>&quot;26&quot;</td><td>&quot;38&quot;</td><td>false</td><td>0</td><td>&quot;02_10_05_07_12&quot;</td><td>-24</td></tr><tr><td>&quot;020414192639&quot;</td><td>[2, 4, … 39]</td><td>2</td><td>4</td><td>14</td><td>19</td><td>26</td><td>39</td><td>&quot;02&quot;</td><td>&quot;04&quot;</td><td>&quot;14&quot;</td><td>&quot;19&quot;</td><td>&quot;26&quot;</td><td>&quot;39&quot;</td><td>false</td><td>0</td><td>&quot;02_10_05_07_13&quot;</td><td>-23</td></tr><tr><td>&hellip;</td><td>&hellip;</td><td>&hellip;</td><td>&hellip;</td><td>&hellip;</td><td>&hellip;</td><td>&hellip;</td><td>&hellip;</td><td>&hellip;</td><td>&hellip;</td><td>&hellip;</td><td>&hellip;</td><td>&hellip;</td><td>&hellip;</td><td>&hellip;</td><td>&hellip;</td><td>&hellip;</td><td>&hellip;</td></tr><tr><td>&quot;081317273139&quot;</td><td>[8, 13, … 39]</td><td>8</td><td>13</td><td>17</td><td>27</td><td>31</td><td>39</td><td>&quot;08&quot;</td><td>&quot;13&quot;</td><td>&quot;17&quot;</td><td>&quot;27&quot;</td><td>&quot;31&quot;</td><td>&quot;39&quot;</td><td>false</td><td>0</td><td>&quot;05_04_10_04_08&quot;</td><td>41</td></tr><tr><td>&quot;081317273334&quot;</td><td>[8, 13, … 34]</td><td>8</td><td>13</td><td>17</td><td>27</td><td>33</td><td>34</td><td>&quot;08&quot;</td><td>&quot;13&quot;</td><td>&quot;17&quot;</td><td>&quot;27&quot;</td><td>&quot;33&quot;</td><td>&quot;34&quot;</td><td>false</td><td>0</td><td>&quot;05_04_10_06_01&quot;</td><td>26</td></tr><tr><td>&quot;081317273335&quot;</td><td>[8, 13, … 35]</td><td>8</td><td>13</td><td>17</td><td>27</td><td>33</td><td>35</td><td>&quot;08&quot;</td><td>&quot;13&quot;</td><td>&quot;17&quot;</td><td>&quot;27&quot;</td><td>&quot;33&quot;</td><td>&quot;35&quot;</td><td>false</td><td>0</td><td>&quot;05_04_10_06_02&quot;</td><td>27</td></tr><tr><td>&quot;081317273337&quot;</td><td>[8, 13, … 37]</td><td>8</td><td>13</td><td>17</td><td>27</td><td>33</td><td>37</td><td>&quot;08&quot;</td><td>&quot;13&quot;</td><td>&quot;17&quot;</td><td>&quot;27&quot;</td><td>&quot;33&quot;</td><td>&quot;37&quot;</td><td>false</td><td>0</td><td>&quot;05_04_10_06_04&quot;</td><td>29</td></tr><tr><td>&quot;081317273338&quot;</td><td>[8, 13, … 38]</td><td>8</td><td>13</td><td>17</td><td>27</td><td>33</td><td>38</td><td>&quot;08&quot;</td><td>&quot;13&quot;</td><td>&quot;17&quot;</td><td>&quot;27&quot;</td><td>&quot;33&quot;</td><td>&quot;38&quot;</td><td>false</td><td>0</td><td>&quot;05_04_10_06_05&quot;</td><td>30</td></tr></tbody></table></div>"
      ],
      "text/plain": [
       "shape: (5_400, 18)\n",
       "┌──────────────┬───────────────┬─────┬─────┬───┬────────────────┬────────┬───────────────┬─────────┐\n",
       "│ id           ┆ combo         ┆ b1  ┆ b2  ┆ … ┆ is_rare_combin ┆ reason ┆ jumps_map     ┆ unijump │\n",
       "│ ---          ┆ ---           ┆ --- ┆ --- ┆   ┆ ation          ┆ ---    ┆ ---           ┆ ---     │\n",
       "│ str          ┆ array[u8, 6]  ┆ u8  ┆ u8  ┆   ┆ ---            ┆ u8     ┆ str           ┆ i64     │\n",
       "│              ┆               ┆     ┆     ┆   ┆ bool           ┆        ┆               ┆         │\n",
       "╞══════════════╪═══════════════╪═════╪═════╪═══╪════════════════╪════════╪═══════════════╪═════════╡\n",
       "│ 020414192634 ┆ [2, 4, … 34]  ┆ 2   ┆ 4   ┆ … ┆ false          ┆ 0      ┆ 02_10_05_07_0 ┆ -28     │\n",
       "│              ┆               ┆     ┆     ┆   ┆                ┆        ┆ 8             ┆         │\n",
       "│ 020414192635 ┆ [2, 4, … 35]  ┆ 2   ┆ 4   ┆ … ┆ false          ┆ 0      ┆ 02_10_05_07_0 ┆ -27     │\n",
       "│              ┆               ┆     ┆     ┆   ┆                ┆        ┆ 9             ┆         │\n",
       "│ 020414192637 ┆ [2, 4, … 37]  ┆ 2   ┆ 4   ┆ … ┆ false          ┆ 0      ┆ 02_10_05_07_1 ┆ -25     │\n",
       "│              ┆               ┆     ┆     ┆   ┆                ┆        ┆ 1             ┆         │\n",
       "│ 020414192638 ┆ [2, 4, … 38]  ┆ 2   ┆ 4   ┆ … ┆ false          ┆ 0      ┆ 02_10_05_07_1 ┆ -24     │\n",
       "│              ┆               ┆     ┆     ┆   ┆                ┆        ┆ 2             ┆         │\n",
       "│ 020414192639 ┆ [2, 4, … 39]  ┆ 2   ┆ 4   ┆ … ┆ false          ┆ 0      ┆ 02_10_05_07_1 ┆ -23     │\n",
       "│              ┆               ┆     ┆     ┆   ┆                ┆        ┆ 3             ┆         │\n",
       "│ …            ┆ …             ┆ …   ┆ …   ┆ … ┆ …              ┆ …      ┆ …             ┆ …       │\n",
       "│ 081317273139 ┆ [8, 13, … 39] ┆ 8   ┆ 13  ┆ … ┆ false          ┆ 0      ┆ 05_04_10_04_0 ┆ 41      │\n",
       "│              ┆               ┆     ┆     ┆   ┆                ┆        ┆ 8             ┆         │\n",
       "│ 081317273334 ┆ [8, 13, … 34] ┆ 8   ┆ 13  ┆ … ┆ false          ┆ 0      ┆ 05_04_10_06_0 ┆ 26      │\n",
       "│              ┆               ┆     ┆     ┆   ┆                ┆        ┆ 1             ┆         │\n",
       "│ 081317273335 ┆ [8, 13, … 35] ┆ 8   ┆ 13  ┆ … ┆ false          ┆ 0      ┆ 05_04_10_06_0 ┆ 27      │\n",
       "│              ┆               ┆     ┆     ┆   ┆                ┆        ┆ 2             ┆         │\n",
       "│ 081317273337 ┆ [8, 13, … 37] ┆ 8   ┆ 13  ┆ … ┆ false          ┆ 0      ┆ 05_04_10_06_0 ┆ 29      │\n",
       "│              ┆               ┆     ┆     ┆   ┆                ┆        ┆ 4             ┆         │\n",
       "│ 081317273338 ┆ [8, 13, … 38] ┆ 8   ┆ 13  ┆ … ┆ false          ┆ 0      ┆ 05_04_10_06_0 ┆ 30      │\n",
       "│              ┆               ┆     ┆     ┆   ┆                ┆        ┆ 5             ┆         │\n",
       "└──────────────┴───────────────┴─────┴─────┴───┴────────────────┴────────┴───────────────┴─────────┘"
      ]
     },
     "metadata": {},
     "output_type": "display_data"
    }
   ],
   "source": [
    "# possible_b1, exclude_jump_maps_b1\n",
    "df_possible = df_Orows.filter(\n",
    "  pl.col(\"str_b1\").is_in(possible_b1),\n",
    "  pl.col(\"str_b2\").is_in(possible_b2),\n",
    "  pl.col(\"str_b3\").is_in(possible_b3),\n",
    "  pl.col(\"str_b4\").is_in(possible_b4),\n",
    "  pl.col(\"str_b5\").is_in(possible_b5),\n",
    "  pl.col(\"str_b6\").is_in(possible_blast),\n",
    "  \n",
    "  ~pl.col(\"str_b1\").is_in(last_post_b1),\n",
    "  ~pl.col(\"str_b2\").is_in(last_post_b2),\n",
    "  ~pl.col(\"str_b3\").is_in(last_post_b3),\n",
    "  ~pl.col(\"str_b4\").is_in(last_post_b4),\n",
    "  ~pl.col(\"str_b5\").is_in(last_post_b5),\n",
    "  ~pl.col(\"str_b6\").is_in(last_post_blast),\n",
    "\n",
    "  ~pl.col(\"jumps_map\").is_in(exclude_jump_maps_b1 + exclude_jump_maps_b2 + exclude_jump_maps_b3 + exclude_jump_maps_b4 + exclude_jump_maps_b5 + exclude_jump_maps_blast),\n",
    "  pl.col(\"is_rare_combination\") == False\n",
    ")\n",
    "\n",
    "\n",
    "display(df_possible)"
   ]
  },
  {
   "cell_type": "code",
   "execution_count": 16,
   "metadata": {},
   "outputs": [
    {
     "data": {
      "text/html": [
       "<div><style>\n",
       ".dataframe > thead > tr,\n",
       ".dataframe > tbody > tr {\n",
       "  text-align: right;\n",
       "  white-space: pre-wrap;\n",
       "}\n",
       "</style>\n",
       "<small>shape: (1, 18)</small><table border=\"1\" class=\"dataframe\"><thead><tr><th>id</th><th>combo</th><th>b1</th><th>b2</th><th>b3</th><th>b4</th><th>b5</th><th>b6</th><th>str_b1</th><th>str_b2</th><th>str_b3</th><th>str_b4</th><th>str_b5</th><th>str_b6</th><th>is_rare_combination</th><th>reason</th><th>jumps_map</th><th>unijump</th></tr><tr><td>str</td><td>array[u8, 6]</td><td>u8</td><td>u8</td><td>u8</td><td>u8</td><td>u8</td><td>u8</td><td>str</td><td>str</td><td>str</td><td>str</td><td>str</td><td>str</td><td>bool</td><td>u8</td><td>str</td><td>i64</td></tr></thead><tbody><tr><td>&quot;020414273334&quot;</td><td>[2, 4, … 34]</td><td>2</td><td>4</td><td>14</td><td>27</td><td>33</td><td>34</td><td>&quot;02&quot;</td><td>&quot;04&quot;</td><td>&quot;14&quot;</td><td>&quot;27&quot;</td><td>&quot;33&quot;</td><td>&quot;34&quot;</td><td>false</td><td>0</td><td>&quot;02_10_13_06_01&quot;</td><td>17</td></tr></tbody></table></div>"
      ],
      "text/plain": [
       "shape: (1, 18)\n",
       "┌──────────────┬──────────────┬─────┬─────┬───┬────────────────┬────────┬────────────────┬─────────┐\n",
       "│ id           ┆ combo        ┆ b1  ┆ b2  ┆ … ┆ is_rare_combin ┆ reason ┆ jumps_map      ┆ unijump │\n",
       "│ ---          ┆ ---          ┆ --- ┆ --- ┆   ┆ ation          ┆ ---    ┆ ---            ┆ ---     │\n",
       "│ str          ┆ array[u8, 6] ┆ u8  ┆ u8  ┆   ┆ ---            ┆ u8     ┆ str            ┆ i64     │\n",
       "│              ┆              ┆     ┆     ┆   ┆ bool           ┆        ┆                ┆         │\n",
       "╞══════════════╪══════════════╪═════╪═════╪═══╪════════════════╪════════╪════════════════╪═════════╡\n",
       "│ 020414273334 ┆ [2, 4, … 34] ┆ 2   ┆ 4   ┆ … ┆ false          ┆ 0      ┆ 02_10_13_06_01 ┆ 17      │\n",
       "└──────────────┴──────────────┴─────┴─────┴───┴────────────────┴────────┴────────────────┴─────────┘"
      ]
     },
     "execution_count": 16,
     "metadata": {},
     "output_type": "execute_result"
    }
   ],
   "source": [
    "df_possible.sample(n=1)"
   ]
  }
 ],
 "metadata": {
  "kernelspec": {
   "display_name": ".venv",
   "language": "python",
   "name": "python3"
  },
  "language_info": {
   "codemirror_mode": {
    "name": "ipython",
    "version": 3
   },
   "file_extension": ".py",
   "mimetype": "text/x-python",
   "name": "python",
   "nbconvert_exporter": "python",
   "pygments_lexer": "ipython3",
   "version": "3.12.9"
  }
 },
 "nbformat": 4,
 "nbformat_minor": 2
}

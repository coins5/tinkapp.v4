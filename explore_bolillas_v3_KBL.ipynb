{
 "cells": [
  {
   "cell_type": "code",
   "execution_count": 1,
   "metadata": {},
   "outputs": [
    {
     "data": {
      "text/html": [
       "<script type=\"esms-options\">{\"shimMode\": true}</script><style>*[data-root-id],\n",
       "*[data-root-id] > * {\n",
       "  box-sizing: border-box;\n",
       "  font-family: var(--jp-ui-font-family);\n",
       "  font-size: var(--jp-ui-font-size1);\n",
       "  color: var(--vscode-editor-foreground, var(--jp-ui-font-color1));\n",
       "}\n",
       "\n",
       "/* Override VSCode background color */\n",
       ".cell-output-ipywidget-background:has(\n",
       "    > .cell-output-ipywidget-background > .lm-Widget > *[data-root-id]\n",
       "  ),\n",
       ".cell-output-ipywidget-background:has(> .lm-Widget > *[data-root-id]) {\n",
       "  background-color: transparent !important;\n",
       "}\n",
       "</style>"
      ]
     },
     "metadata": {},
     "output_type": "display_data"
    },
    {
     "data": {
      "application/javascript": "(function(root) {\n  function now() {\n    return new Date();\n  }\n\n  const force = true;\n  const py_version = '3.7.2'.replace('rc', '-rc.').replace('.dev', '-dev.');\n  const reloading = false;\n  const Bokeh = root.Bokeh;\n\n  // Set a timeout for this load but only if we are not already initializing\n  if (typeof (root._bokeh_timeout) === \"undefined\" || (force || !root._bokeh_is_initializing)) {\n    root._bokeh_timeout = Date.now() + 5000;\n    root._bokeh_failed_load = false;\n  }\n\n  function run_callbacks() {\n    try {\n      root._bokeh_onload_callbacks.forEach(function(callback) {\n        if (callback != null)\n          callback();\n      });\n    } finally {\n      delete root._bokeh_onload_callbacks;\n    }\n    console.debug(\"Bokeh: all callbacks have finished\");\n  }\n\n  function load_libs(css_urls, js_urls, js_modules, js_exports, callback) {\n    if (css_urls == null) css_urls = [];\n    if (js_urls == null) js_urls = [];\n    if (js_modules == null) js_modules = [];\n    if (js_exports == null) js_exports = {};\n\n    root._bokeh_onload_callbacks.push(callback);\n\n    if (root._bokeh_is_loading > 0) {\n      // Don't load bokeh if it is still initializing\n      console.debug(\"Bokeh: BokehJS is being loaded, scheduling callback at\", now());\n      return null;\n    } else if (js_urls.length === 0 && js_modules.length === 0 && Object.keys(js_exports).length === 0) {\n      // There is nothing to load\n      run_callbacks();\n      return null;\n    }\n\n    function on_load() {\n      root._bokeh_is_loading--;\n      if (root._bokeh_is_loading === 0) {\n        console.debug(\"Bokeh: all BokehJS libraries/stylesheets loaded\");\n        run_callbacks()\n      }\n    }\n    window._bokeh_on_load = on_load\n\n    function on_error(e) {\n      const src_el = e.srcElement\n      console.error(\"failed to load \" + (src_el.href || src_el.src));\n    }\n\n    const skip = [];\n    if (window.requirejs) {\n      window.requirejs.config({'packages': {}, 'paths': {}, 'shim': {}});\n      root._bokeh_is_loading = css_urls.length + 0;\n    } else {\n      root._bokeh_is_loading = css_urls.length + js_urls.length + js_modules.length + Object.keys(js_exports).length;\n    }\n\n    const existing_stylesheets = []\n    const links = document.getElementsByTagName('link')\n    for (let i = 0; i < links.length; i++) {\n      const link = links[i]\n      if (link.href != null) {\n        existing_stylesheets.push(link.href)\n      }\n    }\n    for (let i = 0; i < css_urls.length; i++) {\n      const url = css_urls[i];\n      const escaped = encodeURI(url)\n      if (existing_stylesheets.indexOf(escaped) !== -1) {\n        on_load()\n        continue;\n      }\n      const element = document.createElement(\"link\");\n      element.onload = on_load;\n      element.onerror = on_error;\n      element.rel = \"stylesheet\";\n      element.type = \"text/css\";\n      element.href = url;\n      console.debug(\"Bokeh: injecting link tag for BokehJS stylesheet: \", url);\n      document.body.appendChild(element);\n    }    var existing_scripts = []\n    const scripts = document.getElementsByTagName('script')\n    for (let i = 0; i < scripts.length; i++) {\n      var script = scripts[i]\n      if (script.src != null) {\n        existing_scripts.push(script.src)\n      }\n    }\n    for (let i = 0; i < js_urls.length; i++) {\n      const url = js_urls[i];\n      const escaped = encodeURI(url)\n      if (skip.indexOf(escaped) !== -1 || existing_scripts.indexOf(escaped) !== -1) {\n        if (!window.requirejs) {\n          on_load();\n        }\n        continue;\n      }\n      const element = document.createElement('script');\n      element.onload = on_load;\n      element.onerror = on_error;\n      element.async = false;\n      element.src = url;\n      console.debug(\"Bokeh: injecting script tag for BokehJS library: \", url);\n      document.head.appendChild(element);\n    }\n    for (let i = 0; i < js_modules.length; i++) {\n      const url = js_modules[i];\n      const escaped = encodeURI(url)\n      if (skip.indexOf(escaped) !== -1 || existing_scripts.indexOf(escaped) !== -1) {\n        if (!window.requirejs) {\n          on_load();\n        }\n        continue;\n      }\n      var element = document.createElement('script');\n      element.onload = on_load;\n      element.onerror = on_error;\n      element.async = false;\n      element.src = url;\n      element.type = \"module\";\n      console.debug(\"Bokeh: injecting script tag for BokehJS library: \", url);\n      document.head.appendChild(element);\n    }\n    for (const name in js_exports) {\n      const url = js_exports[name];\n      const escaped = encodeURI(url)\n      if (skip.indexOf(escaped) >= 0 || root[name] != null) {\n        if (!window.requirejs) {\n          on_load();\n        }\n        continue;\n      }\n      var element = document.createElement('script');\n      element.onerror = on_error;\n      element.async = false;\n      element.type = \"module\";\n      console.debug(\"Bokeh: injecting script tag for BokehJS library: \", url);\n      element.textContent = `\n      import ${name} from \"${url}\"\n      window.${name} = ${name}\n      window._bokeh_on_load()\n      `\n      document.head.appendChild(element);\n    }\n    if (!js_urls.length && !js_modules.length) {\n      on_load()\n    }\n  };\n\n  function inject_raw_css(css) {\n    const element = document.createElement(\"style\");\n    element.appendChild(document.createTextNode(css));\n    document.body.appendChild(element);\n  }\n\n  const js_urls = [\"https://cdn.holoviz.org/panel/1.6.2/dist/bundled/reactiveesm/es-module-shims@^1.10.0/dist/es-module-shims.min.js\", \"https://cdn.bokeh.org/bokeh/release/bokeh-3.7.2.min.js\", \"https://cdn.bokeh.org/bokeh/release/bokeh-gl-3.7.2.min.js\", \"https://cdn.bokeh.org/bokeh/release/bokeh-widgets-3.7.2.min.js\", \"https://cdn.bokeh.org/bokeh/release/bokeh-tables-3.7.2.min.js\", \"https://cdn.holoviz.org/panel/1.6.2/dist/panel.min.js\"];\n  const js_modules = [];\n  const js_exports = {};\n  const css_urls = [];\n  const inline_js = [    function(Bokeh) {\n      Bokeh.set_log_level(\"info\");\n    },\nfunction(Bokeh) {} // ensure no trailing comma for IE\n  ];\n\n  function run_inline_js() {\n    if ((root.Bokeh !== undefined) || (force === true)) {\n      for (let i = 0; i < inline_js.length; i++) {\n        try {\n          inline_js[i].call(root, root.Bokeh);\n        } catch(e) {\n          if (!reloading) {\n            throw e;\n          }\n        }\n      }\n      // Cache old bokeh versions\n      if (Bokeh != undefined && !reloading) {\n        var NewBokeh = root.Bokeh;\n        if (Bokeh.versions === undefined) {\n          Bokeh.versions = new Map();\n        }\n        if (NewBokeh.version !== Bokeh.version) {\n          Bokeh.versions.set(NewBokeh.version, NewBokeh)\n        }\n        root.Bokeh = Bokeh;\n      }\n    } else if (Date.now() < root._bokeh_timeout) {\n      setTimeout(run_inline_js, 100);\n    } else if (!root._bokeh_failed_load) {\n      console.log(\"Bokeh: BokehJS failed to load within specified timeout.\");\n      root._bokeh_failed_load = true;\n    }\n    root._bokeh_is_initializing = false\n  }\n\n  function load_or_wait() {\n    // Implement a backoff loop that tries to ensure we do not load multiple\n    // versions of Bokeh and its dependencies at the same time.\n    // In recent versions we use the root._bokeh_is_initializing flag\n    // to determine whether there is an ongoing attempt to initialize\n    // bokeh, however for backward compatibility we also try to ensure\n    // that we do not start loading a newer (Panel>=1.0 and Bokeh>3) version\n    // before older versions are fully initialized.\n    if (root._bokeh_is_initializing && Date.now() > root._bokeh_timeout) {\n      // If the timeout and bokeh was not successfully loaded we reset\n      // everything and try loading again\n      root._bokeh_timeout = Date.now() + 5000;\n      root._bokeh_is_initializing = false;\n      root._bokeh_onload_callbacks = undefined;\n      root._bokeh_is_loading = 0\n      console.log(\"Bokeh: BokehJS was loaded multiple times but one version failed to initialize.\");\n      load_or_wait();\n    } else if (root._bokeh_is_initializing || (typeof root._bokeh_is_initializing === \"undefined\" && root._bokeh_onload_callbacks !== undefined)) {\n      setTimeout(load_or_wait, 100);\n    } else {\n      root._bokeh_is_initializing = true\n      root._bokeh_onload_callbacks = []\n      const bokeh_loaded = root.Bokeh != null && (root.Bokeh.version === py_version || (root.Bokeh.versions !== undefined && root.Bokeh.versions.has(py_version)));\n      if (!reloading && !bokeh_loaded) {\n        if (root.Bokeh) {\n          root.Bokeh = undefined;\n        }\n        console.debug(\"Bokeh: BokehJS not loaded, scheduling load and callback at\", now());\n      }\n      load_libs(css_urls, js_urls, js_modules, js_exports, function() {\n        console.debug(\"Bokeh: BokehJS plotting callback run at\", now());\n        run_inline_js();\n      });\n    }\n  }\n  // Give older versions of the autoload script a head-start to ensure\n  // they initialize before we start loading newer version.\n  setTimeout(load_or_wait, 100)\n}(window));",
      "application/vnd.holoviews_load.v0+json": ""
     },
     "metadata": {},
     "output_type": "display_data"
    },
    {
     "data": {
      "application/javascript": "\nif ((window.PyViz === undefined) || (window.PyViz instanceof HTMLElement)) {\n  window.PyViz = {comms: {}, comm_status:{}, kernels:{}, receivers: {}, plot_index: []}\n}\n\n\n    function JupyterCommManager() {\n    }\n\n    JupyterCommManager.prototype.register_target = function(plot_id, comm_id, msg_handler) {\n      if (window.comm_manager || ((window.Jupyter !== undefined) && (Jupyter.notebook.kernel != null))) {\n        var comm_manager = window.comm_manager || Jupyter.notebook.kernel.comm_manager;\n        comm_manager.register_target(comm_id, function(comm) {\n          comm.on_msg(msg_handler);\n        });\n      } else if ((plot_id in window.PyViz.kernels) && (window.PyViz.kernels[plot_id])) {\n        window.PyViz.kernels[plot_id].registerCommTarget(comm_id, function(comm) {\n          comm.onMsg = msg_handler;\n        });\n      } else if (typeof google != 'undefined' && google.colab.kernel != null) {\n        google.colab.kernel.comms.registerTarget(comm_id, (comm) => {\n          var messages = comm.messages[Symbol.asyncIterator]();\n          function processIteratorResult(result) {\n            var message = result.value;\n            console.log(message)\n            var content = {data: message.data, comm_id};\n            var buffers = []\n            for (var buffer of message.buffers || []) {\n              buffers.push(new DataView(buffer))\n            }\n            var metadata = message.metadata || {};\n            var msg = {content, buffers, metadata}\n            msg_handler(msg);\n            return messages.next().then(processIteratorResult);\n          }\n          return messages.next().then(processIteratorResult);\n        })\n      }\n    }\n\n    JupyterCommManager.prototype.get_client_comm = function(plot_id, comm_id, msg_handler) {\n      if (comm_id in window.PyViz.comms) {\n        return window.PyViz.comms[comm_id];\n      } else if (window.comm_manager || ((window.Jupyter !== undefined) && (Jupyter.notebook.kernel != null))) {\n        var comm_manager = window.comm_manager || Jupyter.notebook.kernel.comm_manager;\n        var comm = comm_manager.new_comm(comm_id, {}, {}, {}, comm_id);\n        if (msg_handler) {\n          comm.on_msg(msg_handler);\n        }\n      } else if ((plot_id in window.PyViz.kernels) && (window.PyViz.kernels[plot_id])) {\n        var comm = window.PyViz.kernels[plot_id].connectToComm(comm_id);\n        comm.open();\n        if (msg_handler) {\n          comm.onMsg = msg_handler;\n        }\n      } else if (typeof google != 'undefined' && google.colab.kernel != null) {\n        var comm_promise = google.colab.kernel.comms.open(comm_id)\n        comm_promise.then((comm) => {\n          window.PyViz.comms[comm_id] = comm;\n          if (msg_handler) {\n            var messages = comm.messages[Symbol.asyncIterator]();\n            function processIteratorResult(result) {\n              var message = result.value;\n              var content = {data: message.data};\n              var metadata = message.metadata || {comm_id};\n              var msg = {content, metadata}\n              msg_handler(msg);\n              return messages.next().then(processIteratorResult);\n            }\n            return messages.next().then(processIteratorResult);\n          }\n        })\n        var sendClosure = (data, metadata, buffers, disposeOnDone) => {\n          return comm_promise.then((comm) => {\n            comm.send(data, metadata, buffers, disposeOnDone);\n          });\n        };\n        var comm = {\n          send: sendClosure\n        };\n      }\n      window.PyViz.comms[comm_id] = comm;\n      return comm;\n    }\n    window.PyViz.comm_manager = new JupyterCommManager();\n    \n\n\nvar JS_MIME_TYPE = 'application/javascript';\nvar HTML_MIME_TYPE = 'text/html';\nvar EXEC_MIME_TYPE = 'application/vnd.holoviews_exec.v0+json';\nvar CLASS_NAME = 'output';\n\n/**\n * Render data to the DOM node\n */\nfunction render(props, node) {\n  var div = document.createElement(\"div\");\n  var script = document.createElement(\"script\");\n  node.appendChild(div);\n  node.appendChild(script);\n}\n\n/**\n * Handle when a new output is added\n */\nfunction handle_add_output(event, handle) {\n  var output_area = handle.output_area;\n  var output = handle.output;\n  if ((output.data == undefined) || (!output.data.hasOwnProperty(EXEC_MIME_TYPE))) {\n    return\n  }\n  var id = output.metadata[EXEC_MIME_TYPE][\"id\"];\n  var toinsert = output_area.element.find(\".\" + CLASS_NAME.split(' ')[0]);\n  if (id !== undefined) {\n    var nchildren = toinsert.length;\n    var html_node = toinsert[nchildren-1].children[0];\n    html_node.innerHTML = output.data[HTML_MIME_TYPE];\n    var scripts = [];\n    var nodelist = html_node.querySelectorAll(\"script\");\n    for (var i in nodelist) {\n      if (nodelist.hasOwnProperty(i)) {\n        scripts.push(nodelist[i])\n      }\n    }\n\n    scripts.forEach( function (oldScript) {\n      var newScript = document.createElement(\"script\");\n      var attrs = [];\n      var nodemap = oldScript.attributes;\n      for (var j in nodemap) {\n        if (nodemap.hasOwnProperty(j)) {\n          attrs.push(nodemap[j])\n        }\n      }\n      attrs.forEach(function(attr) { newScript.setAttribute(attr.name, attr.value) });\n      newScript.appendChild(document.createTextNode(oldScript.innerHTML));\n      oldScript.parentNode.replaceChild(newScript, oldScript);\n    });\n    if (JS_MIME_TYPE in output.data) {\n      toinsert[nchildren-1].children[1].textContent = output.data[JS_MIME_TYPE];\n    }\n    output_area._hv_plot_id = id;\n    if ((window.Bokeh !== undefined) && (id in Bokeh.index)) {\n      window.PyViz.plot_index[id] = Bokeh.index[id];\n    } else {\n      window.PyViz.plot_index[id] = null;\n    }\n  } else if (output.metadata[EXEC_MIME_TYPE][\"server_id\"] !== undefined) {\n    var bk_div = document.createElement(\"div\");\n    bk_div.innerHTML = output.data[HTML_MIME_TYPE];\n    var script_attrs = bk_div.children[0].attributes;\n    for (var i = 0; i < script_attrs.length; i++) {\n      toinsert[toinsert.length - 1].childNodes[1].setAttribute(script_attrs[i].name, script_attrs[i].value);\n    }\n    // store reference to server id on output_area\n    output_area._bokeh_server_id = output.metadata[EXEC_MIME_TYPE][\"server_id\"];\n  }\n}\n\n/**\n * Handle when an output is cleared or removed\n */\nfunction handle_clear_output(event, handle) {\n  var id = handle.cell.output_area._hv_plot_id;\n  var server_id = handle.cell.output_area._bokeh_server_id;\n  if (((id === undefined) || !(id in PyViz.plot_index)) && (server_id !== undefined)) { return; }\n  var comm = window.PyViz.comm_manager.get_client_comm(\"hv-extension-comm\", \"hv-extension-comm\", function () {});\n  if (server_id !== null) {\n    comm.send({event_type: 'server_delete', 'id': server_id});\n    return;\n  } else if (comm !== null) {\n    comm.send({event_type: 'delete', 'id': id});\n  }\n  delete PyViz.plot_index[id];\n  if ((window.Bokeh !== undefined) & (id in window.Bokeh.index)) {\n    var doc = window.Bokeh.index[id].model.document\n    doc.clear();\n    const i = window.Bokeh.documents.indexOf(doc);\n    if (i > -1) {\n      window.Bokeh.documents.splice(i, 1);\n    }\n  }\n}\n\n/**\n * Handle kernel restart event\n */\nfunction handle_kernel_cleanup(event, handle) {\n  delete PyViz.comms[\"hv-extension-comm\"];\n  window.PyViz.plot_index = {}\n}\n\n/**\n * Handle update_display_data messages\n */\nfunction handle_update_output(event, handle) {\n  handle_clear_output(event, {cell: {output_area: handle.output_area}})\n  handle_add_output(event, handle)\n}\n\nfunction register_renderer(events, OutputArea) {\n  function append_mime(data, metadata, element) {\n    // create a DOM node to render to\n    var toinsert = this.create_output_subarea(\n    metadata,\n    CLASS_NAME,\n    EXEC_MIME_TYPE\n    );\n    this.keyboard_manager.register_events(toinsert);\n    // Render to node\n    var props = {data: data, metadata: metadata[EXEC_MIME_TYPE]};\n    render(props, toinsert[0]);\n    element.append(toinsert);\n    return toinsert\n  }\n\n  events.on('output_added.OutputArea', handle_add_output);\n  events.on('output_updated.OutputArea', handle_update_output);\n  events.on('clear_output.CodeCell', handle_clear_output);\n  events.on('delete.Cell', handle_clear_output);\n  events.on('kernel_ready.Kernel', handle_kernel_cleanup);\n\n  OutputArea.prototype.register_mime_type(EXEC_MIME_TYPE, append_mime, {\n    safe: true,\n    index: 0\n  });\n}\n\nif (window.Jupyter !== undefined) {\n  try {\n    var events = require('base/js/events');\n    var OutputArea = require('notebook/js/outputarea').OutputArea;\n    if (OutputArea.prototype.mime_types().indexOf(EXEC_MIME_TYPE) == -1) {\n      register_renderer(events, OutputArea);\n    }\n  } catch(err) {\n  }\n}\n",
      "application/vnd.holoviews_load.v0+json": ""
     },
     "metadata": {},
     "output_type": "display_data"
    },
    {
     "data": {
      "application/vnd.holoviews_exec.v0+json": "",
      "text/html": [
       "<div id='a07d518e-e195-4e44-ac09-4ad25f78df82'>\n",
       "  <div id=\"bc97888f-d2e7-4fe6-a7b7-0c5674564242\" data-root-id=\"a07d518e-e195-4e44-ac09-4ad25f78df82\" style=\"display: contents;\"></div>\n",
       "</div>\n",
       "<script type=\"application/javascript\">(function(root) {\n",
       "  var docs_json = {\"8b24cf74-a69a-4ba9-a884-f508b34717a3\":{\"version\":\"3.7.2\",\"title\":\"Bokeh Application\",\"roots\":[{\"type\":\"object\",\"name\":\"panel.models.browser.BrowserInfo\",\"id\":\"a07d518e-e195-4e44-ac09-4ad25f78df82\"},{\"type\":\"object\",\"name\":\"panel.models.comm_manager.CommManager\",\"id\":\"951e3c35-4d4f-46f7-89d3-cf8d1ea37c4d\",\"attributes\":{\"plot_id\":\"a07d518e-e195-4e44-ac09-4ad25f78df82\",\"comm_id\":\"d25d53a2b7114996a83af831dca90660\",\"client_comm_id\":\"f07cf40a3a074e419ff286b83d52dc4f\"}}],\"defs\":[{\"type\":\"model\",\"name\":\"ReactiveHTML1\"},{\"type\":\"model\",\"name\":\"FlexBox1\",\"properties\":[{\"name\":\"align_content\",\"kind\":\"Any\",\"default\":\"flex-start\"},{\"name\":\"align_items\",\"kind\":\"Any\",\"default\":\"flex-start\"},{\"name\":\"flex_direction\",\"kind\":\"Any\",\"default\":\"row\"},{\"name\":\"flex_wrap\",\"kind\":\"Any\",\"default\":\"wrap\"},{\"name\":\"gap\",\"kind\":\"Any\",\"default\":\"\"},{\"name\":\"justify_content\",\"kind\":\"Any\",\"default\":\"flex-start\"}]},{\"type\":\"model\",\"name\":\"FloatPanel1\",\"properties\":[{\"name\":\"config\",\"kind\":\"Any\",\"default\":{\"type\":\"map\"}},{\"name\":\"contained\",\"kind\":\"Any\",\"default\":true},{\"name\":\"position\",\"kind\":\"Any\",\"default\":\"right-top\"},{\"name\":\"offsetx\",\"kind\":\"Any\",\"default\":null},{\"name\":\"offsety\",\"kind\":\"Any\",\"default\":null},{\"name\":\"theme\",\"kind\":\"Any\",\"default\":\"primary\"},{\"name\":\"status\",\"kind\":\"Any\",\"default\":\"normalized\"}]},{\"type\":\"model\",\"name\":\"GridStack1\",\"properties\":[{\"name\":\"ncols\",\"kind\":\"Any\",\"default\":null},{\"name\":\"nrows\",\"kind\":\"Any\",\"default\":null},{\"name\":\"allow_resize\",\"kind\":\"Any\",\"default\":true},{\"name\":\"allow_drag\",\"kind\":\"Any\",\"default\":true},{\"name\":\"state\",\"kind\":\"Any\",\"default\":[]}]},{\"type\":\"model\",\"name\":\"drag1\",\"properties\":[{\"name\":\"slider_width\",\"kind\":\"Any\",\"default\":5},{\"name\":\"slider_color\",\"kind\":\"Any\",\"default\":\"black\"},{\"name\":\"value\",\"kind\":\"Any\",\"default\":50}]},{\"type\":\"model\",\"name\":\"click1\",\"properties\":[{\"name\":\"terminal_output\",\"kind\":\"Any\",\"default\":\"\"},{\"name\":\"debug_name\",\"kind\":\"Any\",\"default\":\"\"},{\"name\":\"clears\",\"kind\":\"Any\",\"default\":0}]},{\"type\":\"model\",\"name\":\"FastWrapper1\",\"properties\":[{\"name\":\"object\",\"kind\":\"Any\",\"default\":null},{\"name\":\"style\",\"kind\":\"Any\",\"default\":null}]},{\"type\":\"model\",\"name\":\"NotificationArea1\",\"properties\":[{\"name\":\"js_events\",\"kind\":\"Any\",\"default\":{\"type\":\"map\"}},{\"name\":\"max_notifications\",\"kind\":\"Any\",\"default\":5},{\"name\":\"notifications\",\"kind\":\"Any\",\"default\":[]},{\"name\":\"position\",\"kind\":\"Any\",\"default\":\"bottom-right\"},{\"name\":\"_clear\",\"kind\":\"Any\",\"default\":0},{\"name\":\"types\",\"kind\":\"Any\",\"default\":[{\"type\":\"map\",\"entries\":[[\"type\",\"warning\"],[\"background\",\"#ffc107\"],[\"icon\",{\"type\":\"map\",\"entries\":[[\"className\",\"fas fa-exclamation-triangle\"],[\"tagName\",\"i\"],[\"color\",\"white\"]]}]]},{\"type\":\"map\",\"entries\":[[\"type\",\"info\"],[\"background\",\"#007bff\"],[\"icon\",{\"type\":\"map\",\"entries\":[[\"className\",\"fas fa-info-circle\"],[\"tagName\",\"i\"],[\"color\",\"white\"]]}]]}]}]},{\"type\":\"model\",\"name\":\"Notification\",\"properties\":[{\"name\":\"background\",\"kind\":\"Any\",\"default\":null},{\"name\":\"duration\",\"kind\":\"Any\",\"default\":3000},{\"name\":\"icon\",\"kind\":\"Any\",\"default\":null},{\"name\":\"message\",\"kind\":\"Any\",\"default\":\"\"},{\"name\":\"notification_type\",\"kind\":\"Any\",\"default\":null},{\"name\":\"_rendered\",\"kind\":\"Any\",\"default\":false},{\"name\":\"_destroyed\",\"kind\":\"Any\",\"default\":false}]},{\"type\":\"model\",\"name\":\"TemplateActions1\",\"properties\":[{\"name\":\"open_modal\",\"kind\":\"Any\",\"default\":0},{\"name\":\"close_modal\",\"kind\":\"Any\",\"default\":0}]},{\"type\":\"model\",\"name\":\"BootstrapTemplateActions1\",\"properties\":[{\"name\":\"open_modal\",\"kind\":\"Any\",\"default\":0},{\"name\":\"close_modal\",\"kind\":\"Any\",\"default\":0}]},{\"type\":\"model\",\"name\":\"TemplateEditor1\",\"properties\":[{\"name\":\"layout\",\"kind\":\"Any\",\"default\":[]}]},{\"type\":\"model\",\"name\":\"MaterialTemplateActions1\",\"properties\":[{\"name\":\"open_modal\",\"kind\":\"Any\",\"default\":0},{\"name\":\"close_modal\",\"kind\":\"Any\",\"default\":0}]},{\"type\":\"model\",\"name\":\"ReactiveESM1\",\"properties\":[{\"name\":\"esm_constants\",\"kind\":\"Any\",\"default\":{\"type\":\"map\"}}]},{\"type\":\"model\",\"name\":\"JSComponent1\",\"properties\":[{\"name\":\"esm_constants\",\"kind\":\"Any\",\"default\":{\"type\":\"map\"}}]},{\"type\":\"model\",\"name\":\"ReactComponent1\",\"properties\":[{\"name\":\"esm_constants\",\"kind\":\"Any\",\"default\":{\"type\":\"map\"}}]},{\"type\":\"model\",\"name\":\"AnyWidgetComponent1\",\"properties\":[{\"name\":\"esm_constants\",\"kind\":\"Any\",\"default\":{\"type\":\"map\"}}]},{\"type\":\"model\",\"name\":\"request_value1\",\"properties\":[{\"name\":\"fill\",\"kind\":\"Any\",\"default\":\"none\"},{\"name\":\"_synced\",\"kind\":\"Any\",\"default\":null},{\"name\":\"_request_sync\",\"kind\":\"Any\",\"default\":0}]}]}};\n",
       "  var render_items = [{\"docid\":\"8b24cf74-a69a-4ba9-a884-f508b34717a3\",\"roots\":{\"a07d518e-e195-4e44-ac09-4ad25f78df82\":\"bc97888f-d2e7-4fe6-a7b7-0c5674564242\"},\"root_ids\":[\"a07d518e-e195-4e44-ac09-4ad25f78df82\"]}];\n",
       "  var docs = Object.values(docs_json)\n",
       "  if (!docs) {\n",
       "    return\n",
       "  }\n",
       "  const py_version = docs[0].version.replace('rc', '-rc.').replace('.dev', '-dev.')\n",
       "  async function embed_document(root) {\n",
       "    var Bokeh = get_bokeh(root)\n",
       "    await Bokeh.embed.embed_items_notebook(docs_json, render_items);\n",
       "    for (const render_item of render_items) {\n",
       "      for (const root_id of render_item.root_ids) {\n",
       "\tconst id_el = document.getElementById(root_id)\n",
       "\tif (id_el.children.length && id_el.children[0].hasAttribute('data-root-id')) {\n",
       "\t  const root_el = id_el.children[0]\n",
       "\t  root_el.id = root_el.id + '-rendered'\n",
       "\t  for (const child of root_el.children) {\n",
       "            // Ensure JupyterLab does not capture keyboard shortcuts\n",
       "            // see: https://jupyterlab.readthedocs.io/en/4.1.x/extension/notebook.html#keyboard-interaction-model\n",
       "\t    child.setAttribute('data-lm-suppress-shortcuts', 'true')\n",
       "\t  }\n",
       "\t}\n",
       "      }\n",
       "    }\n",
       "  }\n",
       "  function get_bokeh(root) {\n",
       "    if (root.Bokeh === undefined) {\n",
       "      return null\n",
       "    } else if (root.Bokeh.version !== py_version) {\n",
       "      if (root.Bokeh.versions === undefined || !root.Bokeh.versions.has(py_version)) {\n",
       "\treturn null\n",
       "      }\n",
       "      return root.Bokeh.versions.get(py_version);\n",
       "    } else if (root.Bokeh.version === py_version) {\n",
       "      return root.Bokeh\n",
       "    }\n",
       "    return null\n",
       "  }\n",
       "  function is_loaded(root) {\n",
       "    var Bokeh = get_bokeh(root)\n",
       "    return (Bokeh != null && Bokeh.Panel !== undefined)\n",
       "  }\n",
       "  if (is_loaded(root)) {\n",
       "    embed_document(root);\n",
       "  } else {\n",
       "    var attempts = 0;\n",
       "    var timer = setInterval(function(root) {\n",
       "      if (is_loaded(root)) {\n",
       "        clearInterval(timer);\n",
       "        embed_document(root);\n",
       "      } else if (document.readyState == \"complete\") {\n",
       "        attempts++;\n",
       "        if (attempts > 200) {\n",
       "          clearInterval(timer);\n",
       "\t  var Bokeh = get_bokeh(root)\n",
       "\t  if (Bokeh == null || Bokeh.Panel == null) {\n",
       "            console.warn(\"Panel: ERROR: Unable to run Panel code because Bokeh or Panel library is missing\");\n",
       "\t  } else {\n",
       "\t    console.warn(\"Panel: WARNING: Attempting to render but not all required libraries could be resolved.\")\n",
       "\t    embed_document(root)\n",
       "\t  }\n",
       "        }\n",
       "      }\n",
       "    }, 25, root)\n",
       "  }\n",
       "})(window);</script>"
      ]
     },
     "metadata": {
      "application/vnd.holoviews_exec.v0+json": {
       "id": "a07d518e-e195-4e44-ac09-4ad25f78df82"
      }
     },
     "output_type": "display_data"
    }
   ],
   "source": [
    "from bs4 import BeautifulSoup\n",
    "# import pandas as pd\n",
    "from datetime import datetime, timedelta\n",
    "from itertools import combinations\n",
    "import json\n",
    "import requests\n",
    "import math\n",
    "from typing import Optional, List, Dict\n",
    "import os\n",
    "\n",
    "from pydantic import BaseModel\n",
    "from typing import Mapping\n",
    "import numpy as np\n",
    "import polars as pl\n",
    "import hvplot.polars\n",
    "import pandas as pd\n",
    "import altair as alt\n",
    "import math\n",
    "\n",
    "from shared.utils import formalize_data_with_str\n",
    "from shared.random_rules import RandomRules"
   ]
  },
  {
   "cell_type": "code",
   "execution_count": 2,
   "metadata": {},
   "outputs": [],
   "source": [
    "rr = RandomRules(\n",
    "  TOTAL_NUMBERS = 40,\n",
    "  CHOOSE = 6,\n",
    "  MAX_PRIMES = 3,\n",
    "  N_VALUES=[\"1\", \"2\", \"3\"],\n",
    "  # Rangos de valores de las bolillas\n",
    "  MIN_B_VALUES = [1, 2, 3, 4, 5, 6],\n",
    "  MAX_B_VALUES = [35, 36, 37, 38, 39, 40]\n",
    ")\n"
   ]
  },
  {
   "cell_type": "code",
   "execution_count": 3,
   "metadata": {},
   "outputs": [],
   "source": [
    "url = 'https://resultados.latinka.com.pe/i.do?m=historico&t=0&s=42'\n",
    "response = requests.get(url)\n",
    "soup = BeautifulSoup(response.text, 'html.parser')\n",
    "\n",
    "tables = soup.select('table')\n",
    "rows = tables[1].find_all('tr')"
   ]
  },
  {
   "cell_type": "code",
   "execution_count": 13,
   "metadata": {},
   "outputs": [
    {
     "name": "stdout",
     "output_type": "stream",
     "text": [
      "TOTAL_LINES=5280\n"
     ]
    },
    {
     "data": {
      "text/html": [
       "<div><style>\n",
       ".dataframe > thead > tr,\n",
       ".dataframe > tbody > tr {\n",
       "  text-align: right;\n",
       "  white-space: pre-wrap;\n",
       "}\n",
       "</style>\n",
       "<small>shape: (10, 30)</small><table border=\"1\" class=\"dataframe\"><thead><tr><th>fecha</th><th>sorteo</th><th>bolillas regulares</th><th>bolillas chauchamba</th><th>cc1</th><th>cc2</th><th>id</th><th>combo</th><th>b1</th><th>b2</th><th>b3</th><th>b4</th><th>b5</th><th>b6</th><th>str_b1</th><th>str_b2</th><th>str_b3</th><th>str_b4</th><th>str_b5</th><th>str_b6</th><th>post_str_b1</th><th>post_str_b2</th><th>post_str_b3</th><th>post_str_b4</th><th>post_str_b5</th><th>post_str_blast</th><th>is_rare_combination</th><th>reason</th><th>jumps_map</th><th>unijump</th></tr><tr><td>str</td><td>str</td><td>str</td><td>str</td><td>str</td><td>str</td><td>str</td><td>array[u8, 6]</td><td>u8</td><td>u8</td><td>u8</td><td>u8</td><td>u8</td><td>u8</td><td>str</td><td>str</td><td>str</td><td>str</td><td>str</td><td>str</td><td>str</td><td>str</td><td>str</td><td>str</td><td>str</td><td>str</td><td>bool</td><td>u8</td><td>str</td><td>i64</td></tr></thead><tbody><tr><td>&quot;17/04/2025&quot;</td><td>&quot;1796&quot;</td><td>&quot;12 06 38 15 37 02&quot;</td><td>&quot;21 11 28 24 32 20&quot;</td><td>&quot;&quot;</td><td>&quot;&quot;</td><td>&quot;020612153738&quot;</td><td>[2, 6, … 38]</td><td>2</td><td>6</td><td>12</td><td>15</td><td>37</td><td>38</td><td>&quot;02&quot;</td><td>&quot;06&quot;</td><td>&quot;12&quot;</td><td>&quot;15&quot;</td><td>&quot;37&quot;</td><td>&quot;38&quot;</td><td>null</td><td>null</td><td>null</td><td>null</td><td>null</td><td>null</td><td>false</td><td>0</td><td>&quot;04_06_03_22_01&quot;</td><td>-89</td></tr><tr><td>&quot;17/04/2025&quot;</td><td>&quot;1796&quot;</td><td>&quot;12 06 38 15 37 02&quot;</td><td>&quot;21 11 28 24 32 20&quot;</td><td>&quot;&quot;</td><td>&quot;&quot;</td><td>&quot;020612153738&quot;</td><td>[2, 6, … 38]</td><td>2</td><td>6</td><td>12</td><td>15</td><td>37</td><td>38</td><td>&quot;02&quot;</td><td>&quot;06&quot;</td><td>&quot;12&quot;</td><td>&quot;15&quot;</td><td>&quot;37&quot;</td><td>&quot;38&quot;</td><td>&quot;02&quot;</td><td>&quot;06&quot;</td><td>&quot;12&quot;</td><td>&quot;15&quot;</td><td>&quot;37&quot;</td><td>&quot;38&quot;</td><td>false</td><td>0</td><td>&quot;04_06_03_22_01&quot;</td><td>-89</td></tr><tr><td>&quot;15/04/2025&quot;</td><td>&quot;1795&quot;</td><td>&quot;05 21 37 13 08 34&quot;</td><td>&quot;38 07 03 09 04 27&quot;</td><td>&quot;&quot;</td><td>&quot;&quot;</td><td>&quot;050813213437&quot;</td><td>[5, 8, … 37]</td><td>5</td><td>8</td><td>13</td><td>21</td><td>34</td><td>37</td><td>&quot;05&quot;</td><td>&quot;08&quot;</td><td>&quot;13&quot;</td><td>&quot;21&quot;</td><td>&quot;34&quot;</td><td>&quot;37&quot;</td><td>&quot;02&quot;</td><td>&quot;06&quot;</td><td>&quot;12&quot;</td><td>&quot;15&quot;</td><td>&quot;37&quot;</td><td>&quot;38&quot;</td><td>false</td><td>0</td><td>&quot;03_05_08_13_03&quot;</td><td>-18</td></tr><tr><td>&quot;15/04/2025&quot;</td><td>&quot;1795&quot;</td><td>&quot;05 21 37 13 08 34&quot;</td><td>&quot;38 07 03 09 04 27&quot;</td><td>&quot;&quot;</td><td>&quot;&quot;</td><td>&quot;050813213437&quot;</td><td>[5, 8, … 37]</td><td>5</td><td>8</td><td>13</td><td>21</td><td>34</td><td>37</td><td>&quot;05&quot;</td><td>&quot;08&quot;</td><td>&quot;13&quot;</td><td>&quot;21&quot;</td><td>&quot;34&quot;</td><td>&quot;37&quot;</td><td>&quot;05&quot;</td><td>&quot;08&quot;</td><td>&quot;13&quot;</td><td>&quot;21&quot;</td><td>&quot;34&quot;</td><td>&quot;37&quot;</td><td>false</td><td>0</td><td>&quot;03_05_08_13_03&quot;</td><td>-18</td></tr><tr><td>&quot;12/04/2025&quot;</td><td>&quot;1794&quot;</td><td>&quot;10 32 26 03 19 11&quot;</td><td>&quot;39 07 28 21 05 12&quot;</td><td>&quot;&quot;</td><td>&quot;&quot;</td><td>&quot;031011192632&quot;</td><td>[3, 10, … 32]</td><td>3</td><td>10</td><td>11</td><td>19</td><td>26</td><td>32</td><td>&quot;03&quot;</td><td>&quot;10&quot;</td><td>&quot;11&quot;</td><td>&quot;19&quot;</td><td>&quot;26&quot;</td><td>&quot;32&quot;</td><td>&quot;05&quot;</td><td>&quot;08&quot;</td><td>&quot;13&quot;</td><td>&quot;21&quot;</td><td>&quot;34&quot;</td><td>&quot;37&quot;</td><td>false</td><td>0</td><td>&quot;07_01_08_07_06&quot;</td><td>29</td></tr><tr><td>&quot;12/04/2025&quot;</td><td>&quot;1794&quot;</td><td>&quot;10 32 26 03 19 11&quot;</td><td>&quot;39 07 28 21 05 12&quot;</td><td>&quot;&quot;</td><td>&quot;&quot;</td><td>&quot;031011192632&quot;</td><td>[3, 10, … 32]</td><td>3</td><td>10</td><td>11</td><td>19</td><td>26</td><td>32</td><td>&quot;03&quot;</td><td>&quot;10&quot;</td><td>&quot;11&quot;</td><td>&quot;19&quot;</td><td>&quot;26&quot;</td><td>&quot;32&quot;</td><td>&quot;03&quot;</td><td>&quot;10&quot;</td><td>&quot;11&quot;</td><td>&quot;19&quot;</td><td>&quot;26&quot;</td><td>&quot;32&quot;</td><td>false</td><td>0</td><td>&quot;07_01_08_07_06&quot;</td><td>29</td></tr><tr><td>&quot;10/04/2025&quot;</td><td>&quot;1793&quot;</td><td>&quot;01 36 20 18 22 02&quot;</td><td>&quot;33 17 29 39 30 36&quot;</td><td>&quot;&quot;</td><td>&quot;&quot;</td><td>&quot;010218202236&quot;</td><td>[1, 2, … 36]</td><td>1</td><td>2</td><td>18</td><td>20</td><td>22</td><td>36</td><td>&quot;01&quot;</td><td>&quot;02&quot;</td><td>&quot;18&quot;</td><td>&quot;20&quot;</td><td>&quot;22&quot;</td><td>&quot;36&quot;</td><td>&quot;03&quot;</td><td>&quot;10&quot;</td><td>&quot;11&quot;</td><td>&quot;19&quot;</td><td>&quot;26&quot;</td><td>&quot;32&quot;</td><td>true</td><td>8</td><td>&quot;01_16_02_02_14&quot;</td><td>-45</td></tr><tr><td>&quot;10/04/2025&quot;</td><td>&quot;1793&quot;</td><td>&quot;01 36 20 18 22 02&quot;</td><td>&quot;33 17 29 39 30 36&quot;</td><td>&quot;&quot;</td><td>&quot;&quot;</td><td>&quot;010218202236&quot;</td><td>[1, 2, … 36]</td><td>1</td><td>2</td><td>18</td><td>20</td><td>22</td><td>36</td><td>&quot;01&quot;</td><td>&quot;02&quot;</td><td>&quot;18&quot;</td><td>&quot;20&quot;</td><td>&quot;22&quot;</td><td>&quot;36&quot;</td><td>&quot;01&quot;</td><td>&quot;02&quot;</td><td>&quot;18&quot;</td><td>&quot;20&quot;</td><td>&quot;22&quot;</td><td>&quot;36&quot;</td><td>true</td><td>8</td><td>&quot;01_16_02_02_14&quot;</td><td>-45</td></tr><tr><td>&quot;08/04/2025&quot;</td><td>&quot;1792&quot;</td><td>&quot;17 39 38 04 40 28&quot;</td><td>&quot;23 34 17 08 24 01&quot;</td><td>&quot;&quot;</td><td>&quot;&quot;</td><td>&quot;041728383940&quot;</td><td>[4, 17, … 40]</td><td>4</td><td>17</td><td>28</td><td>38</td><td>39</td><td>40</td><td>&quot;04&quot;</td><td>&quot;17&quot;</td><td>&quot;28&quot;</td><td>&quot;38&quot;</td><td>&quot;39&quot;</td><td>&quot;40&quot;</td><td>&quot;01&quot;</td><td>&quot;02&quot;</td><td>&quot;18&quot;</td><td>&quot;20&quot;</td><td>&quot;22&quot;</td><td>&quot;36&quot;</td><td>true</td><td>8</td><td>&quot;13_11_10_01_01&quot;</td><td>26</td></tr><tr><td>&quot;08/04/2025&quot;</td><td>&quot;1792&quot;</td><td>&quot;17 39 38 04 40 28&quot;</td><td>&quot;23 34 17 08 24 01&quot;</td><td>&quot;&quot;</td><td>&quot;&quot;</td><td>&quot;041728383940&quot;</td><td>[4, 17, … 40]</td><td>4</td><td>17</td><td>28</td><td>38</td><td>39</td><td>40</td><td>&quot;04&quot;</td><td>&quot;17&quot;</td><td>&quot;28&quot;</td><td>&quot;38&quot;</td><td>&quot;39&quot;</td><td>&quot;40&quot;</td><td>&quot;04&quot;</td><td>&quot;17&quot;</td><td>&quot;28&quot;</td><td>&quot;38&quot;</td><td>&quot;39&quot;</td><td>&quot;40&quot;</td><td>true</td><td>8</td><td>&quot;13_11_10_01_01&quot;</td><td>26</td></tr></tbody></table></div>"
      ],
      "text/plain": [
       "shape: (10, 30)\n",
       "┌────────────┬────────┬─────────────┬─────────────┬───┬────────────┬────────┬────────────┬─────────┐\n",
       "│ fecha      ┆ sorteo ┆ bolillas    ┆ bolillas    ┆ … ┆ is_rare_co ┆ reason ┆ jumps_map  ┆ unijump │\n",
       "│ ---        ┆ ---    ┆ regulares   ┆ chauchamba  ┆   ┆ mbination  ┆ ---    ┆ ---        ┆ ---     │\n",
       "│ str        ┆ str    ┆ ---         ┆ ---         ┆   ┆ ---        ┆ u8     ┆ str        ┆ i64     │\n",
       "│            ┆        ┆ str         ┆ str         ┆   ┆ bool       ┆        ┆            ┆         │\n",
       "╞════════════╪════════╪═════════════╪═════════════╪═══╪════════════╪════════╪════════════╪═════════╡\n",
       "│ 17/04/2025 ┆ 1796   ┆ 12 06 38 15 ┆ 21 11 28 24 ┆ … ┆ false      ┆ 0      ┆ 04_06_03_2 ┆ -89     │\n",
       "│            ┆        ┆ 37 02       ┆ 32 20       ┆   ┆            ┆        ┆ 2_01       ┆         │\n",
       "│ 17/04/2025 ┆ 1796   ┆ 12 06 38 15 ┆ 21 11 28 24 ┆ … ┆ false      ┆ 0      ┆ 04_06_03_2 ┆ -89     │\n",
       "│            ┆        ┆ 37 02       ┆ 32 20       ┆   ┆            ┆        ┆ 2_01       ┆         │\n",
       "│ 15/04/2025 ┆ 1795   ┆ 05 21 37 13 ┆ 38 07 03 09 ┆ … ┆ false      ┆ 0      ┆ 03_05_08_1 ┆ -18     │\n",
       "│            ┆        ┆ 08 34       ┆ 04 27       ┆   ┆            ┆        ┆ 3_03       ┆         │\n",
       "│ 15/04/2025 ┆ 1795   ┆ 05 21 37 13 ┆ 38 07 03 09 ┆ … ┆ false      ┆ 0      ┆ 03_05_08_1 ┆ -18     │\n",
       "│            ┆        ┆ 08 34       ┆ 04 27       ┆   ┆            ┆        ┆ 3_03       ┆         │\n",
       "│ 12/04/2025 ┆ 1794   ┆ 10 32 26 03 ┆ 39 07 28 21 ┆ … ┆ false      ┆ 0      ┆ 07_01_08_0 ┆ 29      │\n",
       "│            ┆        ┆ 19 11       ┆ 05 12       ┆   ┆            ┆        ┆ 7_06       ┆         │\n",
       "│ 12/04/2025 ┆ 1794   ┆ 10 32 26 03 ┆ 39 07 28 21 ┆ … ┆ false      ┆ 0      ┆ 07_01_08_0 ┆ 29      │\n",
       "│            ┆        ┆ 19 11       ┆ 05 12       ┆   ┆            ┆        ┆ 7_06       ┆         │\n",
       "│ 10/04/2025 ┆ 1793   ┆ 01 36 20 18 ┆ 33 17 29 39 ┆ … ┆ true       ┆ 8      ┆ 01_16_02_0 ┆ -45     │\n",
       "│            ┆        ┆ 22 02       ┆ 30 36       ┆   ┆            ┆        ┆ 2_14       ┆         │\n",
       "│ 10/04/2025 ┆ 1793   ┆ 01 36 20 18 ┆ 33 17 29 39 ┆ … ┆ true       ┆ 8      ┆ 01_16_02_0 ┆ -45     │\n",
       "│            ┆        ┆ 22 02       ┆ 30 36       ┆   ┆            ┆        ┆ 2_14       ┆         │\n",
       "│ 08/04/2025 ┆ 1792   ┆ 17 39 38 04 ┆ 23 34 17 08 ┆ … ┆ true       ┆ 8      ┆ 13_11_10_0 ┆ 26      │\n",
       "│            ┆        ┆ 40 28       ┆ 24 01       ┆   ┆            ┆        ┆ 1_01       ┆         │\n",
       "│ 08/04/2025 ┆ 1792   ┆ 17 39 38 04 ┆ 23 34 17 08 ┆ … ┆ true       ┆ 8      ┆ 13_11_10_0 ┆ 26      │\n",
       "│            ┆        ┆ 40 28       ┆ 24 01       ┆   ┆            ┆        ┆ 1_01       ┆         │\n",
       "└────────────┴────────┴─────────────┴─────────────┴───┴────────────┴────────┴────────────┴─────────┘"
      ]
     },
     "metadata": {},
     "output_type": "display_data"
    }
   ],
   "source": [
    "lst = []\n",
    "post_str_b1 = None\n",
    "post_str_b2 = None\n",
    "post_str_b3 = None\n",
    "post_str_b4 = None\n",
    "post_str_b5 = None\n",
    "post_str_blast = None\n",
    "for row in rows:\n",
    "  for col_index in [2, 3]:\n",
    "    cols = [data.text.strip() for data in row.find_all('td')]\n",
    "    if (cols[col_index] == ''):\n",
    "      continue\n",
    "\n",
    "    # cols = [data.text.strip() for data in row.find_all('td')]\n",
    "    \n",
    "    id, bolillas_int, str_combo = formalize_data_with_str(bolillas_str=cols[2])\n",
    "    cols.append(id)\n",
    "    cols.append(bolillas_int)\n",
    "    cols.extend([b for b in bolillas_int])\n",
    "    cols.extend(str_combo)\n",
    "    cols.append(post_str_b1)\n",
    "    cols.append(post_str_b2)\n",
    "    cols.append(post_str_b3)\n",
    "    cols.append(post_str_b4)\n",
    "    cols.append(post_str_b5)\n",
    "    cols.append(post_str_blast)\n",
    "\n",
    "    is_rare, reason = rr.is_rare_combination(bolillas_int, id)\n",
    "    cols.append(is_rare)\n",
    "    cols.append(reason)\n",
    "\n",
    "    cols.append(rr.jumps_map(bolillas_int))\n",
    "    cols.append(rr.unijump(bolillas_int))\n",
    "    \n",
    "    lst.append(cols)\n",
    "\n",
    "    post_str_b1 = str_combo[0]\n",
    "    post_str_b2 = str_combo[1]\n",
    "    post_str_b3 = str_combo[2]\n",
    "    post_str_b4 = str_combo[3]\n",
    "    post_str_b5 = str_combo[4]\n",
    "    post_str_blast = str_combo[-1]\n",
    "\n",
    "\n",
    "\n",
    "# lst = []\n",
    "# for row in rows:\n",
    "  \n",
    "  \n",
    "#   for col_index in [2, 3]:\n",
    "#     cols = [data.text.strip() for data in row.find_all('td')]\n",
    "#     if (cols[col_index] == ''):\n",
    "#       continue\n",
    "  \n",
    "#     id, bolillas_int = formalize_data(bolillas_str=cols[col_index])\n",
    "#     cols.append(id)\n",
    "#     cols.append(bolillas_int)\n",
    "#     cols.extend([b for b in bolillas_int])\n",
    "    \n",
    "#     is_rare, reason = rr.is_rare_combination(bolillas_int, id)\n",
    "#     cols.append(is_rare)\n",
    "#     cols.append(reason)\n",
    "#     left_scores = [round(b, 4) for b in rr.calculate_left_scores(bolillas_int)]\n",
    "\n",
    "#     right_scores = [round(b, 4) for b in rr.calculate_right_scores(bolillas_int)]\n",
    "#     lr_scores = [round(left + right,4) for left, right in zip(left_scores, right_scores)]\n",
    "#     row_score = round(sum(lr_scores),4)\n",
    "\n",
    "#     shared_values = list(set(left_scores[0:5]) & set(right_scores[1:6]))\n",
    "#     shared_values = [round(s, 4) for s in shared_values]\n",
    "#     cols.extend([score for score in left_scores])\n",
    "#     cols.extend([score for score in right_scores])\n",
    "#     # cols.extend(lr_scores)\n",
    "#     cols.append(shared_values)\n",
    "#     cols.append(len(shared_values))\n",
    "#     cols.append(row_score)\n",
    "#     cols.append(rr.jumps_map(bolillas_int))\n",
    "#     cols.append(rr.unijump(bolillas_int))\n",
    "    \n",
    "#     lst.append(cols)\n",
    "\n",
    "with open('./kbl_cache_v3.json', 'w') as file: \n",
    "  json.dump(lst, file)\n",
    "\n",
    "dfRows = pl.DataFrame(\n",
    "  lst,\n",
    "  schema=[\n",
    "    'fecha', 'sorteo', 'bolillas regulares', 'bolillas chauchamba', 'cc1', 'cc2',\n",
    "    'id', 'combo', 'b1', 'b2', 'b3', 'b4', 'b5', 'b6',\n",
    "    'str_b1', 'str_b2', 'str_b3', 'str_b4', 'str_b5', 'str_b6',\n",
    "    'post_str_b1', 'post_str_b2', 'post_str_b3', 'post_str_b4', 'post_str_b5', 'post_str_blast',\n",
    "    'is_rare_combination', 'reason',\n",
    "    \"jumps_map\", \"unijump\"\n",
    "  ],\n",
    "  schema_overrides={\n",
    "    'combo': pl.Array(pl.UInt8, 6),\n",
    "    'b1': pl.UInt8,\n",
    "    'b2': pl.UInt8,\n",
    "    'b3': pl.UInt8,\n",
    "    'b4': pl.UInt8,\n",
    "    'b5': pl.UInt8,\n",
    "    'b6': pl.UInt8,\n",
    "    'reason': pl.UInt8\n",
    "  },\n",
    "  orient='row'\n",
    ")\n",
    "\n",
    "TOTAL_LINES = len(dfRows)\n",
    "print(f'{TOTAL_LINES=}')\n",
    "display(dfRows.head(10))"
   ]
  },
  {
   "cell_type": "code",
   "execution_count": 14,
   "metadata": {},
   "outputs": [
    {
     "data": {
      "text/plain": [
       "6"
      ]
     },
     "execution_count": 14,
     "metadata": {},
     "output_type": "execute_result"
    }
   ],
   "source": [
    "dfRows.item(0, 'b2')"
   ]
  },
  {
   "cell_type": "code",
   "execution_count": 15,
   "metadata": {},
   "outputs": [],
   "source": [
    "import holoviews as hv\n",
    "def plot_post_col (col: str, post_col: str, test_value: str | None = None):\n",
    "  if test_value == None:\n",
    "    test_value = dfRows.item(0, col)\n",
    "    print(f'Setting {test_value=}')\n",
    "\n",
    "  df_viz = dfRows \\\n",
    "    .filter(\n",
    "      pl.col(col) == test_value,\n",
    "      pl.col(post_col).is_not_null()\n",
    "    ) \\\n",
    "    .group_by(\n",
    "      post_col\n",
    "    ).agg(pl.count(post_col).alias('count')) \\\n",
    "    .sort(\"count\", descending=True)\n",
    "  \n",
    "  \n",
    "  df_10_last = dfRows \\\n",
    "    .filter(\n",
    "      pl.col(col) == test_value,\n",
    "      pl.col(post_col).is_not_null()\n",
    "    ) \\\n",
    "    .head(10)\n",
    "  \n",
    "  # Agrega una columna que sea el porcentaje de la frecuencia relativa\n",
    "  total = df_viz['count'].sum()\n",
    "  df_viz = df_viz.with_columns(\n",
    "    ( (pl.col('count') / total) * 100 ).alias('percent')\n",
    "  )\n",
    "  mean_percent = df_viz['percent'].mean()\n",
    "  mean_percent_75 = mean_percent * 75 / 50\n",
    "  mean_percent_25 = mean_percent * 25 / 50\n",
    "\n",
    "  chart = df_viz.hvplot.bar(\n",
    "    x=post_col,\n",
    "    y='percent'\n",
    "  )\n",
    "\n",
    "  chart = chart * hv.HLine(mean_percent).opts(color='red')\n",
    "  chart = chart * hv.HLine(mean_percent_75).opts(color='blue')\n",
    "  chart = chart * hv.HLine(mean_percent_25).opts(color='blue')\n",
    "  \n",
    "  chart.opts(default_tools=[\"pan\"])\n",
    "\n",
    "  df_jumps_map = dfRows \\\n",
    "    .filter(\n",
    "      pl.col(col) == test_value,\n",
    "      pl.col(post_col).is_not_null()\n",
    "    ) \\\n",
    "    .group_by(\n",
    "      'jumps_map'\n",
    "    ).agg(pl.count('jumps_map').alias('count')) \\\n",
    "    .sort(\"count\", descending=True)\n",
    "  \n",
    "  df_unijump = dfRows \\\n",
    "    .filter(\n",
    "      pl.col(col) == test_value,\n",
    "      pl.col(post_col).is_not_null()\n",
    "    ) \\\n",
    "    .group_by(\n",
    "      'unijump'\n",
    "    ).agg(pl.count('unijump').alias('count')) \\\n",
    "    .sort(\"count\", descending=True)\n",
    "\n",
    "\n",
    "  print(f'df_viz FOR {col} = {test_value}')\n",
    "  display(df_viz)\n",
    "\n",
    "  display(chart)\n",
    "  \n",
    "\n",
    "  print(f'df_10_last FOR {col} = {test_value}')\n",
    "  last_results = list(set(df_10_last[post_col][0:3]))\n",
    "  print(f'Last 3 results {last_results=}')\n",
    "  display(df_10_last)\n",
    "  \n",
    "  print(f'df_jumps_map FOR {col} = {test_value}')\n",
    "  display(df_jumps_map)\n",
    "  # display(df_unijump)\n",
    "\n",
    "  print(f'df_unijump FOR {col} = {test_value}')\n",
    "  display(df_unijump)\n",
    "\n",
    "  lst_post_str_b = df_viz.filter(pl.col('percent') >= mean_percent)[post_col].to_list()\n",
    "  lst_jumps_map = df_jumps_map['jumps_map'].to_list() # Used to discard\n",
    "  \n",
    "  return lst_post_str_b, lst_jumps_map, last_results"
   ]
  },
  {
   "cell_type": "code",
   "execution_count": 16,
   "metadata": {},
   "outputs": [
    {
     "name": "stdout",
     "output_type": "stream",
     "text": [
      "Setting test_value='02'\n",
      "df_viz FOR str_b1 = 02\n"
     ]
    },
    {
     "data": {
      "text/html": [
       "<div><style>\n",
       ".dataframe > thead > tr,\n",
       ".dataframe > tbody > tr {\n",
       "  text-align: right;\n",
       "  white-space: pre-wrap;\n",
       "}\n",
       "</style>\n",
       "<small>shape: (22, 3)</small><table border=\"1\" class=\"dataframe\"><thead><tr><th>post_str_b1</th><th>count</th><th>percent</th></tr><tr><td>str</td><td>u32</td><td>f64</td></tr></thead><tbody><tr><td>&quot;02&quot;</td><td>278</td><td>41.063516</td></tr><tr><td>&quot;01&quot;</td><td>73</td><td>10.782866</td></tr><tr><td>&quot;03&quot;</td><td>69</td><td>10.192024</td></tr><tr><td>&quot;04&quot;</td><td>44</td><td>6.499261</td></tr><tr><td>&quot;05&quot;</td><td>31</td><td>4.579025</td></tr><tr><td>&hellip;</td><td>&hellip;</td><td>&hellip;</td></tr><tr><td>&quot;17&quot;</td><td>4</td><td>0.590842</td></tr><tr><td>&quot;16&quot;</td><td>3</td><td>0.443131</td></tr><tr><td>&quot;20&quot;</td><td>2</td><td>0.295421</td></tr><tr><td>&quot;26&quot;</td><td>1</td><td>0.14771</td></tr><tr><td>&quot;21&quot;</td><td>1</td><td>0.14771</td></tr></tbody></table></div>"
      ],
      "text/plain": [
       "shape: (22, 3)\n",
       "┌─────────────┬───────┬───────────┐\n",
       "│ post_str_b1 ┆ count ┆ percent   │\n",
       "│ ---         ┆ ---   ┆ ---       │\n",
       "│ str         ┆ u32   ┆ f64       │\n",
       "╞═════════════╪═══════╪═══════════╡\n",
       "│ 02          ┆ 278   ┆ 41.063516 │\n",
       "│ 01          ┆ 73    ┆ 10.782866 │\n",
       "│ 03          ┆ 69    ┆ 10.192024 │\n",
       "│ 04          ┆ 44    ┆ 6.499261  │\n",
       "│ 05          ┆ 31    ┆ 4.579025  │\n",
       "│ …           ┆ …     ┆ …         │\n",
       "│ 17          ┆ 4     ┆ 0.590842  │\n",
       "│ 16          ┆ 3     ┆ 0.443131  │\n",
       "│ 20          ┆ 2     ┆ 0.295421  │\n",
       "│ 26          ┆ 1     ┆ 0.14771   │\n",
       "│ 21          ┆ 1     ┆ 0.14771   │\n",
       "└─────────────┴───────┴───────────┘"
      ]
     },
     "metadata": {},
     "output_type": "display_data"
    },
    {
     "data": {},
     "metadata": {},
     "output_type": "display_data"
    },
    {
     "data": {
      "application/vnd.holoviews_exec.v0+json": "",
      "text/html": [
       "<div id='bbfc347c-1459-42b3-9085-34a14d4661d8'>\n",
       "  <div id=\"f4d7c9a1-ec70-4415-afaa-5ba22c71b39f\" data-root-id=\"bbfc347c-1459-42b3-9085-34a14d4661d8\" style=\"display: contents;\"></div>\n",
       "</div>\n",
       "<script type=\"application/javascript\">(function(root) {\n",
       "  var docs_json = {\"8ca00799-8ab2-4893-86bb-f895faa53a2c\":{\"version\":\"3.7.2\",\"title\":\"Bokeh Application\",\"roots\":[{\"type\":\"object\",\"name\":\"Row\",\"id\":\"bbfc347c-1459-42b3-9085-34a14d4661d8\",\"attributes\":{\"name\":\"Row00286\",\"tags\":[\"embedded\"],\"stylesheets\":[\"\\n:host(.pn-loading):before, .pn-loading:before {\\n  background-color: #c3c3c3;\\n  mask-size: auto calc(min(50%, 400px));\\n  -webkit-mask-size: auto calc(min(50%, 400px));\\n}\",{\"type\":\"object\",\"name\":\"ImportedStyleSheet\",\"id\":\"14850329-8147-43f8-9901-ac1ac357760d\",\"attributes\":{\"url\":\"https://cdn.holoviz.org/panel/1.6.2/dist/css/loading.css\"}},{\"type\":\"object\",\"name\":\"ImportedStyleSheet\",\"id\":\"e8192066-a2d4-419b-9ef9-8e51be7f08c3\",\"attributes\":{\"url\":\"https://cdn.holoviz.org/panel/1.6.2/dist/css/listpanel.css\"}},{\"type\":\"object\",\"name\":\"ImportedStyleSheet\",\"id\":\"4307d542-d67b-4a2b-a33c-4ae0fe0080d9\",\"attributes\":{\"url\":\"https://cdn.holoviz.org/panel/1.6.2/dist/bundled/theme/default.css\"}},{\"type\":\"object\",\"name\":\"ImportedStyleSheet\",\"id\":\"412d7105-75ae-4aee-8439-ebb51fde9f9a\",\"attributes\":{\"url\":\"https://cdn.holoviz.org/panel/1.6.2/dist/bundled/theme/native.css\"}}],\"min_width\":700,\"margin\":0,\"sizing_mode\":\"stretch_width\",\"align\":\"start\",\"children\":[{\"type\":\"object\",\"name\":\"Spacer\",\"id\":\"9ef257d8-7299-4108-b7a5-a6a3a2f9cba6\",\"attributes\":{\"name\":\"HSpacer00290\",\"stylesheets\":[\"\\n:host(.pn-loading):before, .pn-loading:before {\\n  background-color: #c3c3c3;\\n  mask-size: auto calc(min(50%, 400px));\\n  -webkit-mask-size: auto calc(min(50%, 400px));\\n}\",{\"id\":\"14850329-8147-43f8-9901-ac1ac357760d\"},{\"id\":\"4307d542-d67b-4a2b-a33c-4ae0fe0080d9\"},{\"id\":\"412d7105-75ae-4aee-8439-ebb51fde9f9a\"}],\"margin\":0,\"sizing_mode\":\"stretch_width\",\"align\":\"start\"}},{\"type\":\"object\",\"name\":\"Figure\",\"id\":\"12275dfd-8f62-4042-bb65-1edb05e91f4b\",\"attributes\":{\"width\":700,\"height\":300,\"margin\":[5,10],\"sizing_mode\":\"fixed\",\"align\":\"start\",\"x_range\":{\"type\":\"object\",\"name\":\"FactorRange\",\"id\":\"21ea3496-d09f-41c3-931a-458f5c0d8e7e\",\"attributes\":{\"name\":\"post_str_b1\",\"tags\":[[[\"post_str_b1\",null]],[]],\"factors\":[\"02\",\"01\",\"03\",\"04\",\"05\",\"06\",\"07\",\"11\",\"08\",\"09\",\"10\",\"14\",\"12\",\"18\",\"13\",\"15\",\"19\",\"17\",\"16\",\"20\",\"26\",\"21\"]}},\"y_range\":{\"type\":\"object\",\"name\":\"Range1d\",\"id\":\"c45c7448-c84c-4dee-87a3-722459f63daa\",\"attributes\":{\"name\":\"percent\",\"tags\":[[[\"percent\",null]],{\"type\":\"map\",\"entries\":[[\"invert_yaxis\",false],[\"autorange\",false]]}],\"end\":45.15509601181684,\"reset_start\":0.0,\"reset_end\":45.15509601181684}},\"x_scale\":{\"type\":\"object\",\"name\":\"CategoricalScale\",\"id\":\"0710b979-466b-48f6-b34b-e53eb21200ee\"},\"y_scale\":{\"type\":\"object\",\"name\":\"LinearScale\",\"id\":\"b9a0e89d-8326-4ec0-9583-5475a81382b2\"},\"title\":{\"type\":\"object\",\"name\":\"Title\",\"id\":\"bc32c369-be16-4e54-8bdf-51c064c86ba0\",\"attributes\":{\"text_color\":\"black\",\"text_font_size\":\"12pt\"}},\"renderers\":[{\"type\":\"object\",\"name\":\"GlyphRenderer\",\"id\":\"2b8f1206-6b50-4421-9fd1-f2b632917ea0\",\"attributes\":{\"data_source\":{\"type\":\"object\",\"name\":\"ColumnDataSource\",\"id\":\"60bbf45a-a0f3-4377-b7c7-fa556b1eea89\",\"attributes\":{\"selected\":{\"type\":\"object\",\"name\":\"Selection\",\"id\":\"80684a9e-de5b-43cc-8bfc-ebfed9676bd0\",\"attributes\":{\"indices\":[],\"line_indices\":[]}},\"selection_policy\":{\"type\":\"object\",\"name\":\"UnionRenderers\",\"id\":\"c51b3540-964c-42c5-aaa2-a5294ea7466b\"},\"data\":{\"type\":\"map\",\"entries\":[[\"post_str_b1\",[\"02\",\"01\",\"03\",\"04\",\"05\",\"06\",\"07\",\"11\",\"08\",\"09\",\"10\",\"14\",\"12\",\"18\",\"13\",\"15\",\"19\",\"17\",\"16\",\"20\",\"26\",\"21\"]],[\"percent\",{\"type\":\"ndarray\",\"array\":{\"type\":\"bytes\",\"data\":\"T0O2RiGIRED3N/zB05AlQIFp9etQYiRANb6VZD7/GUAxgGn161ASQPYYZoqquRFA9hhmiqq5EUBHIYi4OKIHQEchiLg4ogdA47VzNrAWBEBs52xgLegCQEchiLg4ovc/bOdsYC3o8j8iW6MQRFzsP0chiLg4ouc/RyGIuDii5z9s52xgLejiP2znbGAt6OI/IlujEERc3D9s52xgLejSP2znbGAt6MI/bOdsYC3owj8=\"},\"shape\":[22],\"dtype\":\"float64\",\"order\":\"little\"}]]}}},\"view\":{\"type\":\"object\",\"name\":\"CDSView\",\"id\":\"591b36d5-0a49-4e71-8619-fa08a728539b\",\"attributes\":{\"filter\":{\"type\":\"object\",\"name\":\"AllIndices\",\"id\":\"89c13667-5e9a-4b3c-96a9-1f8711d3982e\"}}},\"glyph\":{\"type\":\"object\",\"name\":\"VBar\",\"id\":\"9b3f9bcf-01d2-4330-bf22-99b16caa3b46\",\"attributes\":{\"tags\":[\"apply_ranges\"],\"x\":{\"type\":\"field\",\"field\":\"post_str_b1\"},\"width\":{\"type\":\"value\",\"value\":0.8},\"top\":{\"type\":\"field\",\"field\":\"percent\"},\"fill_color\":{\"type\":\"value\",\"value\":\"#30a2da\"},\"hatch_color\":{\"type\":\"value\",\"value\":\"#30a2da\"}}},\"selection_glyph\":{\"type\":\"object\",\"name\":\"VBar\",\"id\":\"9ac95971-56da-48b8-9c59-4b3c86aadf26\",\"attributes\":{\"tags\":[\"apply_ranges\"],\"x\":{\"type\":\"field\",\"field\":\"post_str_b1\"},\"width\":{\"type\":\"value\",\"value\":0.8},\"bottom\":{\"type\":\"value\",\"value\":0},\"top\":{\"type\":\"field\",\"field\":\"percent\"},\"line_color\":{\"type\":\"value\",\"value\":\"black\"},\"line_alpha\":{\"type\":\"value\",\"value\":1.0},\"line_width\":{\"type\":\"value\",\"value\":1},\"line_join\":{\"type\":\"value\",\"value\":\"bevel\"},\"line_cap\":{\"type\":\"value\",\"value\":\"butt\"},\"line_dash\":{\"type\":\"value\",\"value\":[]},\"line_dash_offset\":{\"type\":\"value\",\"value\":0},\"fill_color\":{\"type\":\"value\",\"value\":\"#30a2da\"},\"fill_alpha\":{\"type\":\"value\",\"value\":1.0},\"hatch_color\":{\"type\":\"value\",\"value\":\"#30a2da\"},\"hatch_alpha\":{\"type\":\"value\",\"value\":1.0},\"hatch_scale\":{\"type\":\"value\",\"value\":12.0},\"hatch_pattern\":{\"type\":\"value\",\"value\":null},\"hatch_weight\":{\"type\":\"value\",\"value\":1.0}}},\"nonselection_glyph\":{\"type\":\"object\",\"name\":\"VBar\",\"id\":\"a929ad25-7c3d-4a43-a29b-e928e5e16bf0\",\"attributes\":{\"tags\":[\"apply_ranges\"],\"x\":{\"type\":\"field\",\"field\":\"post_str_b1\"},\"width\":{\"type\":\"value\",\"value\":0.8},\"top\":{\"type\":\"field\",\"field\":\"percent\"},\"line_alpha\":{\"type\":\"value\",\"value\":0.1},\"fill_color\":{\"type\":\"value\",\"value\":\"#30a2da\"},\"fill_alpha\":{\"type\":\"value\",\"value\":0.1},\"hatch_color\":{\"type\":\"value\",\"value\":\"#30a2da\"},\"hatch_alpha\":{\"type\":\"value\",\"value\":0.1}}},\"muted_glyph\":{\"type\":\"object\",\"name\":\"VBar\",\"id\":\"53939dfb-0381-4ef6-81cd-209782c4e592\",\"attributes\":{\"tags\":[\"apply_ranges\"],\"x\":{\"type\":\"field\",\"field\":\"post_str_b1\"},\"width\":{\"type\":\"value\",\"value\":0.8},\"top\":{\"type\":\"field\",\"field\":\"percent\"},\"line_alpha\":{\"type\":\"value\",\"value\":0.2},\"fill_color\":{\"type\":\"value\",\"value\":\"#30a2da\"},\"fill_alpha\":{\"type\":\"value\",\"value\":0.2},\"hatch_color\":{\"type\":\"value\",\"value\":\"#30a2da\"},\"hatch_alpha\":{\"type\":\"value\",\"value\":0.2}}}}},{\"type\":\"object\",\"name\":\"Span\",\"id\":\"72617331-fffd-4ec9-b35a-945353870749\",\"attributes\":{\"level\":\"glyph\",\"location\":4.545454545454546,\"line_color\":\"red\",\"line_width\":3}},{\"type\":\"object\",\"name\":\"Span\",\"id\":\"a9c190d3-65d1-42d6-81e9-8feb22738196\",\"attributes\":{\"level\":\"glyph\",\"location\":6.818181818181818,\"line_color\":\"blue\",\"line_width\":3}},{\"type\":\"object\",\"name\":\"Span\",\"id\":\"359194aa-dbbb-4ba1-a96e-312d5c9c818c\",\"attributes\":{\"level\":\"glyph\",\"location\":2.272727272727273,\"line_color\":\"blue\",\"line_width\":3}}],\"toolbar\":{\"type\":\"object\",\"name\":\"Toolbar\",\"id\":\"74b1c210-938d-4eda-9e79-f4ad98992c15\",\"attributes\":{\"tools\":[{\"type\":\"object\",\"name\":\"WheelZoomTool\",\"id\":\"33199789-a267-42db-8003-246b1b732fec\",\"attributes\":{\"tags\":[\"hv_created\"],\"renderers\":\"auto\",\"zoom_together\":\"none\"}},{\"type\":\"object\",\"name\":\"HoverTool\",\"id\":\"d2b26def-d621-47ea-b6cb-cc565a297d55\",\"attributes\":{\"tags\":[\"hv_created\"],\"renderers\":[{\"id\":\"2b8f1206-6b50-4421-9fd1-f2b632917ea0\"}],\"tooltips\":[[\"post_str_b1\",\"@{post_str_b1}\"],[\"percent\",\"@{percent}\"]]}},{\"type\":\"object\",\"name\":\"SaveTool\",\"id\":\"9dec7fdc-a61d-4757-a142-29432fd5b1fa\"},{\"type\":\"object\",\"name\":\"PanTool\",\"id\":\"2f9e7b82-dc9f-429d-b7a9-3680292c0d47\"},{\"type\":\"object\",\"name\":\"BoxZoomTool\",\"id\":\"e1173a9a-4bb4-4986-b4c6-fc66bf09ebd3\",\"attributes\":{\"dimensions\":\"both\",\"overlay\":{\"type\":\"object\",\"name\":\"BoxAnnotation\",\"id\":\"b1c92b18-ef8f-45e5-8cbf-666e9d3974e6\",\"attributes\":{\"syncable\":false,\"line_color\":\"black\",\"line_alpha\":1.0,\"line_width\":2,\"line_dash\":[4,4],\"fill_color\":\"lightgrey\",\"fill_alpha\":0.5,\"level\":\"overlay\",\"visible\":false,\"left\":{\"type\":\"number\",\"value\":\"nan\"},\"right\":{\"type\":\"number\",\"value\":\"nan\"},\"top\":{\"type\":\"number\",\"value\":\"nan\"},\"bottom\":{\"type\":\"number\",\"value\":\"nan\"},\"left_units\":\"canvas\",\"right_units\":\"canvas\",\"top_units\":\"canvas\",\"bottom_units\":\"canvas\",\"handles\":{\"type\":\"object\",\"name\":\"BoxInteractionHandles\",\"id\":\"0d9b7fc3-bfea-45c7-8271-24d03792c4a8\",\"attributes\":{\"all\":{\"type\":\"object\",\"name\":\"AreaVisuals\",\"id\":\"b4ddf901-8320-4009-a13f-f4c7f8fc55d8\",\"attributes\":{\"fill_color\":\"white\",\"hover_fill_color\":\"lightgray\"}}}}}}}},{\"type\":\"object\",\"name\":\"ResetTool\",\"id\":\"cd94658a-c280-4a94-a01d-1bead4bb11ee\"}],\"active_drag\":{\"id\":\"2f9e7b82-dc9f-429d-b7a9-3680292c0d47\"}}},\"left\":[{\"type\":\"object\",\"name\":\"LinearAxis\",\"id\":\"282c745b-56e8-497e-9118-d85e7bb98867\",\"attributes\":{\"ticker\":{\"type\":\"object\",\"name\":\"BasicTicker\",\"id\":\"177827b2-9d05-4193-ae38-19d3e2fb6147\",\"attributes\":{\"mantissas\":[1,2,5]}},\"formatter\":{\"type\":\"object\",\"name\":\"BasicTickFormatter\",\"id\":\"e3922701-f5ee-44b5-a8fc-2e6ee77c56cb\"},\"axis_label\":\"percent\",\"major_label_policy\":{\"type\":\"object\",\"name\":\"AllLabels\",\"id\":\"626e55f8-a89b-4880-bcdf-86d85dc16a8e\"}}}],\"below\":[{\"type\":\"object\",\"name\":\"CategoricalAxis\",\"id\":\"ff3fc569-6060-44a2-8e75-ee94657bbde8\",\"attributes\":{\"ticker\":{\"type\":\"object\",\"name\":\"CategoricalTicker\",\"id\":\"7f6463d0-8bfd-4d57-a0af-09705b541a46\"},\"formatter\":{\"type\":\"object\",\"name\":\"CategoricalTickFormatter\",\"id\":\"654b1df2-d445-4730-bc1c-5f1e6236a367\"},\"axis_label\":\"post_str_b1\",\"major_label_policy\":{\"type\":\"object\",\"name\":\"AllLabels\",\"id\":\"29abecbb-a151-4cf5-8a4d-7f35967d62fa\"}}}],\"center\":[{\"type\":\"object\",\"name\":\"Grid\",\"id\":\"a89661d9-e58f-4d8a-9cde-c54f2b43732c\",\"attributes\":{\"axis\":{\"id\":\"ff3fc569-6060-44a2-8e75-ee94657bbde8\"},\"grid_line_color\":null}},{\"type\":\"object\",\"name\":\"Grid\",\"id\":\"ec59dc3a-131b-487e-9d64-3bf736ce0a69\",\"attributes\":{\"dimension\":1,\"axis\":{\"id\":\"282c745b-56e8-497e-9118-d85e7bb98867\"},\"grid_line_color\":null}}],\"min_border_top\":10,\"min_border_bottom\":10,\"min_border_left\":10,\"min_border_right\":10,\"output_backend\":\"webgl\"}},{\"type\":\"object\",\"name\":\"Spacer\",\"id\":\"a7242a00-f8ae-4460-88cd-87fa08272ec2\",\"attributes\":{\"name\":\"HSpacer00291\",\"stylesheets\":[\"\\n:host(.pn-loading):before, .pn-loading:before {\\n  background-color: #c3c3c3;\\n  mask-size: auto calc(min(50%, 400px));\\n  -webkit-mask-size: auto calc(min(50%, 400px));\\n}\",{\"id\":\"14850329-8147-43f8-9901-ac1ac357760d\"},{\"id\":\"4307d542-d67b-4a2b-a33c-4ae0fe0080d9\"},{\"id\":\"412d7105-75ae-4aee-8439-ebb51fde9f9a\"}],\"margin\":0,\"sizing_mode\":\"stretch_width\",\"align\":\"start\"}}]}}],\"defs\":[{\"type\":\"model\",\"name\":\"ReactiveHTML1\"},{\"type\":\"model\",\"name\":\"FlexBox1\",\"properties\":[{\"name\":\"align_content\",\"kind\":\"Any\",\"default\":\"flex-start\"},{\"name\":\"align_items\",\"kind\":\"Any\",\"default\":\"flex-start\"},{\"name\":\"flex_direction\",\"kind\":\"Any\",\"default\":\"row\"},{\"name\":\"flex_wrap\",\"kind\":\"Any\",\"default\":\"wrap\"},{\"name\":\"gap\",\"kind\":\"Any\",\"default\":\"\"},{\"name\":\"justify_content\",\"kind\":\"Any\",\"default\":\"flex-start\"}]},{\"type\":\"model\",\"name\":\"FloatPanel1\",\"properties\":[{\"name\":\"config\",\"kind\":\"Any\",\"default\":{\"type\":\"map\"}},{\"name\":\"contained\",\"kind\":\"Any\",\"default\":true},{\"name\":\"position\",\"kind\":\"Any\",\"default\":\"right-top\"},{\"name\":\"offsetx\",\"kind\":\"Any\",\"default\":null},{\"name\":\"offsety\",\"kind\":\"Any\",\"default\":null},{\"name\":\"theme\",\"kind\":\"Any\",\"default\":\"primary\"},{\"name\":\"status\",\"kind\":\"Any\",\"default\":\"normalized\"}]},{\"type\":\"model\",\"name\":\"GridStack1\",\"properties\":[{\"name\":\"ncols\",\"kind\":\"Any\",\"default\":null},{\"name\":\"nrows\",\"kind\":\"Any\",\"default\":null},{\"name\":\"allow_resize\",\"kind\":\"Any\",\"default\":true},{\"name\":\"allow_drag\",\"kind\":\"Any\",\"default\":true},{\"name\":\"state\",\"kind\":\"Any\",\"default\":[]}]},{\"type\":\"model\",\"name\":\"drag1\",\"properties\":[{\"name\":\"slider_width\",\"kind\":\"Any\",\"default\":5},{\"name\":\"slider_color\",\"kind\":\"Any\",\"default\":\"black\"},{\"name\":\"value\",\"kind\":\"Any\",\"default\":50}]},{\"type\":\"model\",\"name\":\"click1\",\"properties\":[{\"name\":\"terminal_output\",\"kind\":\"Any\",\"default\":\"\"},{\"name\":\"debug_name\",\"kind\":\"Any\",\"default\":\"\"},{\"name\":\"clears\",\"kind\":\"Any\",\"default\":0}]},{\"type\":\"model\",\"name\":\"FastWrapper1\",\"properties\":[{\"name\":\"object\",\"kind\":\"Any\",\"default\":null},{\"name\":\"style\",\"kind\":\"Any\",\"default\":null}]},{\"type\":\"model\",\"name\":\"NotificationArea1\",\"properties\":[{\"name\":\"js_events\",\"kind\":\"Any\",\"default\":{\"type\":\"map\"}},{\"name\":\"max_notifications\",\"kind\":\"Any\",\"default\":5},{\"name\":\"notifications\",\"kind\":\"Any\",\"default\":[]},{\"name\":\"position\",\"kind\":\"Any\",\"default\":\"bottom-right\"},{\"name\":\"_clear\",\"kind\":\"Any\",\"default\":0},{\"name\":\"types\",\"kind\":\"Any\",\"default\":[{\"type\":\"map\",\"entries\":[[\"type\",\"warning\"],[\"background\",\"#ffc107\"],[\"icon\",{\"type\":\"map\",\"entries\":[[\"className\",\"fas fa-exclamation-triangle\"],[\"tagName\",\"i\"],[\"color\",\"white\"]]}]]},{\"type\":\"map\",\"entries\":[[\"type\",\"info\"],[\"background\",\"#007bff\"],[\"icon\",{\"type\":\"map\",\"entries\":[[\"className\",\"fas fa-info-circle\"],[\"tagName\",\"i\"],[\"color\",\"white\"]]}]]}]}]},{\"type\":\"model\",\"name\":\"Notification\",\"properties\":[{\"name\":\"background\",\"kind\":\"Any\",\"default\":null},{\"name\":\"duration\",\"kind\":\"Any\",\"default\":3000},{\"name\":\"icon\",\"kind\":\"Any\",\"default\":null},{\"name\":\"message\",\"kind\":\"Any\",\"default\":\"\"},{\"name\":\"notification_type\",\"kind\":\"Any\",\"default\":null},{\"name\":\"_rendered\",\"kind\":\"Any\",\"default\":false},{\"name\":\"_destroyed\",\"kind\":\"Any\",\"default\":false}]},{\"type\":\"model\",\"name\":\"TemplateActions1\",\"properties\":[{\"name\":\"open_modal\",\"kind\":\"Any\",\"default\":0},{\"name\":\"close_modal\",\"kind\":\"Any\",\"default\":0}]},{\"type\":\"model\",\"name\":\"BootstrapTemplateActions1\",\"properties\":[{\"name\":\"open_modal\",\"kind\":\"Any\",\"default\":0},{\"name\":\"close_modal\",\"kind\":\"Any\",\"default\":0}]},{\"type\":\"model\",\"name\":\"TemplateEditor1\",\"properties\":[{\"name\":\"layout\",\"kind\":\"Any\",\"default\":[]}]},{\"type\":\"model\",\"name\":\"MaterialTemplateActions1\",\"properties\":[{\"name\":\"open_modal\",\"kind\":\"Any\",\"default\":0},{\"name\":\"close_modal\",\"kind\":\"Any\",\"default\":0}]},{\"type\":\"model\",\"name\":\"ReactiveESM1\",\"properties\":[{\"name\":\"esm_constants\",\"kind\":\"Any\",\"default\":{\"type\":\"map\"}}]},{\"type\":\"model\",\"name\":\"JSComponent1\",\"properties\":[{\"name\":\"esm_constants\",\"kind\":\"Any\",\"default\":{\"type\":\"map\"}}]},{\"type\":\"model\",\"name\":\"ReactComponent1\",\"properties\":[{\"name\":\"esm_constants\",\"kind\":\"Any\",\"default\":{\"type\":\"map\"}}]},{\"type\":\"model\",\"name\":\"AnyWidgetComponent1\",\"properties\":[{\"name\":\"esm_constants\",\"kind\":\"Any\",\"default\":{\"type\":\"map\"}}]},{\"type\":\"model\",\"name\":\"request_value1\",\"properties\":[{\"name\":\"fill\",\"kind\":\"Any\",\"default\":\"none\"},{\"name\":\"_synced\",\"kind\":\"Any\",\"default\":null},{\"name\":\"_request_sync\",\"kind\":\"Any\",\"default\":0}]}]}};\n",
       "  var render_items = [{\"docid\":\"8ca00799-8ab2-4893-86bb-f895faa53a2c\",\"roots\":{\"bbfc347c-1459-42b3-9085-34a14d4661d8\":\"f4d7c9a1-ec70-4415-afaa-5ba22c71b39f\"},\"root_ids\":[\"bbfc347c-1459-42b3-9085-34a14d4661d8\"]}];\n",
       "  var docs = Object.values(docs_json)\n",
       "  if (!docs) {\n",
       "    return\n",
       "  }\n",
       "  const py_version = docs[0].version.replace('rc', '-rc.').replace('.dev', '-dev.')\n",
       "  async function embed_document(root) {\n",
       "    var Bokeh = get_bokeh(root)\n",
       "    await Bokeh.embed.embed_items_notebook(docs_json, render_items);\n",
       "    for (const render_item of render_items) {\n",
       "      for (const root_id of render_item.root_ids) {\n",
       "\tconst id_el = document.getElementById(root_id)\n",
       "\tif (id_el.children.length && id_el.children[0].hasAttribute('data-root-id')) {\n",
       "\t  const root_el = id_el.children[0]\n",
       "\t  root_el.id = root_el.id + '-rendered'\n",
       "\t  for (const child of root_el.children) {\n",
       "            // Ensure JupyterLab does not capture keyboard shortcuts\n",
       "            // see: https://jupyterlab.readthedocs.io/en/4.1.x/extension/notebook.html#keyboard-interaction-model\n",
       "\t    child.setAttribute('data-lm-suppress-shortcuts', 'true')\n",
       "\t  }\n",
       "\t}\n",
       "      }\n",
       "    }\n",
       "  }\n",
       "  function get_bokeh(root) {\n",
       "    if (root.Bokeh === undefined) {\n",
       "      return null\n",
       "    } else if (root.Bokeh.version !== py_version) {\n",
       "      if (root.Bokeh.versions === undefined || !root.Bokeh.versions.has(py_version)) {\n",
       "\treturn null\n",
       "      }\n",
       "      return root.Bokeh.versions.get(py_version);\n",
       "    } else if (root.Bokeh.version === py_version) {\n",
       "      return root.Bokeh\n",
       "    }\n",
       "    return null\n",
       "  }\n",
       "  function is_loaded(root) {\n",
       "    var Bokeh = get_bokeh(root)\n",
       "    return (Bokeh != null && Bokeh.Panel !== undefined)\n",
       "  }\n",
       "  if (is_loaded(root)) {\n",
       "    embed_document(root);\n",
       "  } else {\n",
       "    var attempts = 0;\n",
       "    var timer = setInterval(function(root) {\n",
       "      if (is_loaded(root)) {\n",
       "        clearInterval(timer);\n",
       "        embed_document(root);\n",
       "      } else if (document.readyState == \"complete\") {\n",
       "        attempts++;\n",
       "        if (attempts > 200) {\n",
       "          clearInterval(timer);\n",
       "\t  var Bokeh = get_bokeh(root)\n",
       "\t  if (Bokeh == null || Bokeh.Panel == null) {\n",
       "            console.warn(\"Panel: ERROR: Unable to run Panel code because Bokeh or Panel library is missing\");\n",
       "\t  } else {\n",
       "\t    console.warn(\"Panel: WARNING: Attempting to render but not all required libraries could be resolved.\")\n",
       "\t    embed_document(root)\n",
       "\t  }\n",
       "        }\n",
       "      }\n",
       "    }, 25, root)\n",
       "  }\n",
       "})(window);</script>"
      ],
      "text/plain": [
       ":Overlay\n",
       "   .Bars.I    :Bars   [post_str_b1]   (percent)\n",
       "   .HLine.I   :HLine   [x,y]\n",
       "   .HLine.II  :HLine   [x,y]\n",
       "   .HLine.III :HLine   [x,y]"
      ]
     },
     "metadata": {
      "application/vnd.holoviews_exec.v0+json": {
       "id": "bbfc347c-1459-42b3-9085-34a14d4661d8"
      }
     },
     "output_type": "display_data"
    },
    {
     "name": "stdout",
     "output_type": "stream",
     "text": [
      "df_10_last FOR str_b1 = 02\n",
      "Last 3 results last_results=['04', '02']\n"
     ]
    },
    {
     "data": {
      "text/html": [
       "<div><style>\n",
       ".dataframe > thead > tr,\n",
       ".dataframe > tbody > tr {\n",
       "  text-align: right;\n",
       "  white-space: pre-wrap;\n",
       "}\n",
       "</style>\n",
       "<small>shape: (10, 30)</small><table border=\"1\" class=\"dataframe\"><thead><tr><th>fecha</th><th>sorteo</th><th>bolillas regulares</th><th>bolillas chauchamba</th><th>cc1</th><th>cc2</th><th>id</th><th>combo</th><th>b1</th><th>b2</th><th>b3</th><th>b4</th><th>b5</th><th>b6</th><th>str_b1</th><th>str_b2</th><th>str_b3</th><th>str_b4</th><th>str_b5</th><th>str_b6</th><th>post_str_b1</th><th>post_str_b2</th><th>post_str_b3</th><th>post_str_b4</th><th>post_str_b5</th><th>post_str_blast</th><th>is_rare_combination</th><th>reason</th><th>jumps_map</th><th>unijump</th></tr><tr><td>str</td><td>str</td><td>str</td><td>str</td><td>str</td><td>str</td><td>str</td><td>array[u8, 6]</td><td>u8</td><td>u8</td><td>u8</td><td>u8</td><td>u8</td><td>u8</td><td>str</td><td>str</td><td>str</td><td>str</td><td>str</td><td>str</td><td>str</td><td>str</td><td>str</td><td>str</td><td>str</td><td>str</td><td>bool</td><td>u8</td><td>str</td><td>i64</td></tr></thead><tbody><tr><td>&quot;17/04/2025&quot;</td><td>&quot;1796&quot;</td><td>&quot;12 06 38 15 37 02&quot;</td><td>&quot;21 11 28 24 32 20&quot;</td><td>&quot;&quot;</td><td>&quot;&quot;</td><td>&quot;020612153738&quot;</td><td>[2, 6, … 38]</td><td>2</td><td>6</td><td>12</td><td>15</td><td>37</td><td>38</td><td>&quot;02&quot;</td><td>&quot;06&quot;</td><td>&quot;12&quot;</td><td>&quot;15&quot;</td><td>&quot;37&quot;</td><td>&quot;38&quot;</td><td>&quot;02&quot;</td><td>&quot;06&quot;</td><td>&quot;12&quot;</td><td>&quot;15&quot;</td><td>&quot;37&quot;</td><td>&quot;38&quot;</td><td>false</td><td>0</td><td>&quot;04_06_03_22_01&quot;</td><td>-89</td></tr><tr><td>&quot;01/03/2025&quot;</td><td>&quot;1776&quot;</td><td>&quot;02 34 38 14 22 40&quot;</td><td>&quot;09 08 36 39 14 01&quot;</td><td>&quot;&quot;</td><td>&quot;&quot;</td><td>&quot;021422343840&quot;</td><td>[2, 14, … 40]</td><td>2</td><td>14</td><td>22</td><td>34</td><td>38</td><td>40</td><td>&quot;02&quot;</td><td>&quot;14&quot;</td><td>&quot;22&quot;</td><td>&quot;34&quot;</td><td>&quot;38&quot;</td><td>&quot;40&quot;</td><td>&quot;04&quot;</td><td>&quot;06&quot;</td><td>&quot;11&quot;</td><td>&quot;18&quot;</td><td>&quot;26&quot;</td><td>&quot;30&quot;</td><td>true</td><td>4</td><td>&quot;12_08_12_04_02&quot;</td><td>38</td></tr><tr><td>&quot;01/03/2025&quot;</td><td>&quot;1776&quot;</td><td>&quot;02 34 38 14 22 40&quot;</td><td>&quot;09 08 36 39 14 01&quot;</td><td>&quot;&quot;</td><td>&quot;&quot;</td><td>&quot;021422343840&quot;</td><td>[2, 14, … 40]</td><td>2</td><td>14</td><td>22</td><td>34</td><td>38</td><td>40</td><td>&quot;02&quot;</td><td>&quot;14&quot;</td><td>&quot;22&quot;</td><td>&quot;34&quot;</td><td>&quot;38&quot;</td><td>&quot;40&quot;</td><td>&quot;02&quot;</td><td>&quot;14&quot;</td><td>&quot;22&quot;</td><td>&quot;34&quot;</td><td>&quot;38&quot;</td><td>&quot;40&quot;</td><td>true</td><td>4</td><td>&quot;12_08_12_04_02&quot;</td><td>38</td></tr><tr><td>&quot;13/02/2025&quot;</td><td>&quot;1769&quot;</td><td>&quot;20 07 02 12 27 08&quot;</td><td>&quot;23 11 16 26 32 17&quot;</td><td>&quot;&quot;</td><td>&quot;&quot;</td><td>&quot;020708122027&quot;</td><td>[2, 7, … 27]</td><td>2</td><td>7</td><td>8</td><td>12</td><td>20</td><td>27</td><td>&quot;02&quot;</td><td>&quot;07&quot;</td><td>&quot;08&quot;</td><td>&quot;12&quot;</td><td>&quot;20&quot;</td><td>&quot;27&quot;</td><td>&quot;08&quot;</td><td>&quot;16&quot;</td><td>&quot;24&quot;</td><td>&quot;29&quot;</td><td>&quot;33&quot;</td><td>&quot;39&quot;</td><td>true</td><td>16</td><td>&quot;05_01_04_08_07&quot;</td><td>0</td></tr><tr><td>&quot;13/02/2025&quot;</td><td>&quot;1769&quot;</td><td>&quot;20 07 02 12 27 08&quot;</td><td>&quot;23 11 16 26 32 17&quot;</td><td>&quot;&quot;</td><td>&quot;&quot;</td><td>&quot;020708122027&quot;</td><td>[2, 7, … 27]</td><td>2</td><td>7</td><td>8</td><td>12</td><td>20</td><td>27</td><td>&quot;02&quot;</td><td>&quot;07&quot;</td><td>&quot;08&quot;</td><td>&quot;12&quot;</td><td>&quot;20&quot;</td><td>&quot;27&quot;</td><td>&quot;02&quot;</td><td>&quot;07&quot;</td><td>&quot;08&quot;</td><td>&quot;12&quot;</td><td>&quot;20&quot;</td><td>&quot;27&quot;</td><td>true</td><td>16</td><td>&quot;05_01_04_08_07&quot;</td><td>0</td></tr><tr><td>&quot;18/01/2025&quot;</td><td>&quot;1758&quot;</td><td>&quot;28 02 18 03 16 26&quot;</td><td>&quot;34 36 24 38 01 20&quot;</td><td>&quot;&quot;</td><td>&quot;&quot;</td><td>&quot;020316182628&quot;</td><td>[2, 3, … 28]</td><td>2</td><td>3</td><td>16</td><td>18</td><td>26</td><td>28</td><td>&quot;02&quot;</td><td>&quot;03&quot;</td><td>&quot;16&quot;</td><td>&quot;18&quot;</td><td>&quot;26&quot;</td><td>&quot;28&quot;</td><td>&quot;06&quot;</td><td>&quot;08&quot;</td><td>&quot;16&quot;</td><td>&quot;19&quot;</td><td>&quot;20&quot;</td><td>&quot;38&quot;</td><td>false</td><td>0</td><td>&quot;01_13_02_08_02&quot;</td><td>-69</td></tr><tr><td>&quot;18/01/2025&quot;</td><td>&quot;1758&quot;</td><td>&quot;28 02 18 03 16 26&quot;</td><td>&quot;34 36 24 38 01 20&quot;</td><td>&quot;&quot;</td><td>&quot;&quot;</td><td>&quot;020316182628&quot;</td><td>[2, 3, … 28]</td><td>2</td><td>3</td><td>16</td><td>18</td><td>26</td><td>28</td><td>&quot;02&quot;</td><td>&quot;03&quot;</td><td>&quot;16&quot;</td><td>&quot;18&quot;</td><td>&quot;26&quot;</td><td>&quot;28&quot;</td><td>&quot;02&quot;</td><td>&quot;03&quot;</td><td>&quot;16&quot;</td><td>&quot;18&quot;</td><td>&quot;26&quot;</td><td>&quot;28&quot;</td><td>false</td><td>0</td><td>&quot;01_13_02_08_02&quot;</td><td>-69</td></tr><tr><td>&quot;14/01/2025&quot;</td><td>&quot;1756&quot;</td><td>&quot;18 02 23 34 31 16&quot;</td><td>&quot;33 24 27 14 26 31&quot;</td><td>&quot;&quot;</td><td>&quot;&quot;</td><td>&quot;021618233134&quot;</td><td>[2, 16, … 34]</td><td>2</td><td>16</td><td>18</td><td>23</td><td>31</td><td>34</td><td>&quot;02&quot;</td><td>&quot;16&quot;</td><td>&quot;18&quot;</td><td>&quot;23&quot;</td><td>&quot;31&quot;</td><td>&quot;34&quot;</td><td>&quot;07&quot;</td><td>&quot;10&quot;</td><td>&quot;18&quot;</td><td>&quot;19&quot;</td><td>&quot;37&quot;</td><td>&quot;39&quot;</td><td>false</td><td>0</td><td>&quot;14_02_05_08_03&quot;</td><td>7</td></tr><tr><td>&quot;14/01/2025&quot;</td><td>&quot;1756&quot;</td><td>&quot;18 02 23 34 31 16&quot;</td><td>&quot;33 24 27 14 26 31&quot;</td><td>&quot;&quot;</td><td>&quot;&quot;</td><td>&quot;021618233134&quot;</td><td>[2, 16, … 34]</td><td>2</td><td>16</td><td>18</td><td>23</td><td>31</td><td>34</td><td>&quot;02&quot;</td><td>&quot;16&quot;</td><td>&quot;18&quot;</td><td>&quot;23&quot;</td><td>&quot;31&quot;</td><td>&quot;34&quot;</td><td>&quot;02&quot;</td><td>&quot;16&quot;</td><td>&quot;18&quot;</td><td>&quot;23&quot;</td><td>&quot;31&quot;</td><td>&quot;34&quot;</td><td>false</td><td>0</td><td>&quot;14_02_05_08_03&quot;</td><td>7</td></tr><tr><td>&quot;09/01/2025&quot;</td><td>&quot;1754&quot;</td><td>&quot;39 11 22 18 14 02&quot;</td><td>&quot;38 32 28 24 23 40&quot;</td><td>&quot;&quot;</td><td>&quot;&quot;</td><td>&quot;021114182239&quot;</td><td>[2, 11, … 39]</td><td>2</td><td>11</td><td>14</td><td>18</td><td>22</td><td>39</td><td>&quot;02&quot;</td><td>&quot;11&quot;</td><td>&quot;14&quot;</td><td>&quot;18&quot;</td><td>&quot;22&quot;</td><td>&quot;39&quot;</td><td>&quot;05&quot;</td><td>&quot;13&quot;</td><td>&quot;19&quot;</td><td>&quot;24&quot;</td><td>&quot;25&quot;</td><td>&quot;30&quot;</td><td>true</td><td>8</td><td>&quot;09_03_04_04_17&quot;</td><td>22</td></tr></tbody></table></div>"
      ],
      "text/plain": [
       "shape: (10, 30)\n",
       "┌────────────┬────────┬─────────────┬─────────────┬───┬────────────┬────────┬────────────┬─────────┐\n",
       "│ fecha      ┆ sorteo ┆ bolillas    ┆ bolillas    ┆ … ┆ is_rare_co ┆ reason ┆ jumps_map  ┆ unijump │\n",
       "│ ---        ┆ ---    ┆ regulares   ┆ chauchamba  ┆   ┆ mbination  ┆ ---    ┆ ---        ┆ ---     │\n",
       "│ str        ┆ str    ┆ ---         ┆ ---         ┆   ┆ ---        ┆ u8     ┆ str        ┆ i64     │\n",
       "│            ┆        ┆ str         ┆ str         ┆   ┆ bool       ┆        ┆            ┆         │\n",
       "╞════════════╪════════╪═════════════╪═════════════╪═══╪════════════╪════════╪════════════╪═════════╡\n",
       "│ 17/04/2025 ┆ 1796   ┆ 12 06 38 15 ┆ 21 11 28 24 ┆ … ┆ false      ┆ 0      ┆ 04_06_03_2 ┆ -89     │\n",
       "│            ┆        ┆ 37 02       ┆ 32 20       ┆   ┆            ┆        ┆ 2_01       ┆         │\n",
       "│ 01/03/2025 ┆ 1776   ┆ 02 34 38 14 ┆ 09 08 36 39 ┆ … ┆ true       ┆ 4      ┆ 12_08_12_0 ┆ 38      │\n",
       "│            ┆        ┆ 22 40       ┆ 14 01       ┆   ┆            ┆        ┆ 4_02       ┆         │\n",
       "│ 01/03/2025 ┆ 1776   ┆ 02 34 38 14 ┆ 09 08 36 39 ┆ … ┆ true       ┆ 4      ┆ 12_08_12_0 ┆ 38      │\n",
       "│            ┆        ┆ 22 40       ┆ 14 01       ┆   ┆            ┆        ┆ 4_02       ┆         │\n",
       "│ 13/02/2025 ┆ 1769   ┆ 20 07 02 12 ┆ 23 11 16 26 ┆ … ┆ true       ┆ 16     ┆ 05_01_04_0 ┆ 0       │\n",
       "│            ┆        ┆ 27 08       ┆ 32 17       ┆   ┆            ┆        ┆ 8_07       ┆         │\n",
       "│ 13/02/2025 ┆ 1769   ┆ 20 07 02 12 ┆ 23 11 16 26 ┆ … ┆ true       ┆ 16     ┆ 05_01_04_0 ┆ 0       │\n",
       "│            ┆        ┆ 27 08       ┆ 32 17       ┆   ┆            ┆        ┆ 8_07       ┆         │\n",
       "│ 18/01/2025 ┆ 1758   ┆ 28 02 18 03 ┆ 34 36 24 38 ┆ … ┆ false      ┆ 0      ┆ 01_13_02_0 ┆ -69     │\n",
       "│            ┆        ┆ 16 26       ┆ 01 20       ┆   ┆            ┆        ┆ 8_02       ┆         │\n",
       "│ 18/01/2025 ┆ 1758   ┆ 28 02 18 03 ┆ 34 36 24 38 ┆ … ┆ false      ┆ 0      ┆ 01_13_02_0 ┆ -69     │\n",
       "│            ┆        ┆ 16 26       ┆ 01 20       ┆   ┆            ┆        ┆ 8_02       ┆         │\n",
       "│ 14/01/2025 ┆ 1756   ┆ 18 02 23 34 ┆ 33 24 27 14 ┆ … ┆ false      ┆ 0      ┆ 14_02_05_0 ┆ 7       │\n",
       "│            ┆        ┆ 31 16       ┆ 26 31       ┆   ┆            ┆        ┆ 8_03       ┆         │\n",
       "│ 14/01/2025 ┆ 1756   ┆ 18 02 23 34 ┆ 33 24 27 14 ┆ … ┆ false      ┆ 0      ┆ 14_02_05_0 ┆ 7       │\n",
       "│            ┆        ┆ 31 16       ┆ 26 31       ┆   ┆            ┆        ┆ 8_03       ┆         │\n",
       "│ 09/01/2025 ┆ 1754   ┆ 39 11 22 18 ┆ 38 32 28 24 ┆ … ┆ true       ┆ 8      ┆ 09_03_04_0 ┆ 22      │\n",
       "│            ┆        ┆ 14 02       ┆ 23 40       ┆   ┆            ┆        ┆ 4_17       ┆         │\n",
       "└────────────┴────────┴─────────────┴─────────────┴───┴────────────┴────────┴────────────┴─────────┘"
      ]
     },
     "metadata": {},
     "output_type": "display_data"
    },
    {
     "name": "stdout",
     "output_type": "stream",
     "text": [
      "df_jumps_map FOR str_b1 = 02\n"
     ]
    },
    {
     "data": {
      "text/html": [
       "<div><style>\n",
       ".dataframe > thead > tr,\n",
       ".dataframe > tbody > tr {\n",
       "  text-align: right;\n",
       "  white-space: pre-wrap;\n",
       "}\n",
       "</style>\n",
       "<small>shape: (457, 2)</small><table border=\"1\" class=\"dataframe\"><thead><tr><th>jumps_map</th><th>count</th></tr><tr><td>str</td><td>u32</td></tr></thead><tbody><tr><td>&quot;03_03_24_03_01&quot;</td><td>2</td></tr><tr><td>&quot;02_06_02_03_05&quot;</td><td>2</td></tr><tr><td>&quot;03_05_17_01_12&quot;</td><td>2</td></tr><tr><td>&quot;05_03_09_09_04&quot;</td><td>2</td></tr><tr><td>&quot;08_06_08_03_02&quot;</td><td>2</td></tr><tr><td>&hellip;</td><td>&hellip;</td></tr><tr><td>&quot;07_18_01_07_01&quot;</td><td>1</td></tr><tr><td>&quot;09_03_02_13_10&quot;</td><td>1</td></tr><tr><td>&quot;04_10_06_08_03&quot;</td><td>1</td></tr><tr><td>&quot;05_13_07_06_04&quot;</td><td>1</td></tr><tr><td>&quot;03_01_01_04_16&quot;</td><td>1</td></tr></tbody></table></div>"
      ],
      "text/plain": [
       "shape: (457, 2)\n",
       "┌────────────────┬───────┐\n",
       "│ jumps_map      ┆ count │\n",
       "│ ---            ┆ ---   │\n",
       "│ str            ┆ u32   │\n",
       "╞════════════════╪═══════╡\n",
       "│ 03_03_24_03_01 ┆ 2     │\n",
       "│ 02_06_02_03_05 ┆ 2     │\n",
       "│ 03_05_17_01_12 ┆ 2     │\n",
       "│ 05_03_09_09_04 ┆ 2     │\n",
       "│ 08_06_08_03_02 ┆ 2     │\n",
       "│ …              ┆ …     │\n",
       "│ 07_18_01_07_01 ┆ 1     │\n",
       "│ 09_03_02_13_10 ┆ 1     │\n",
       "│ 04_10_06_08_03 ┆ 1     │\n",
       "│ 05_13_07_06_04 ┆ 1     │\n",
       "│ 03_01_01_04_16 ┆ 1     │\n",
       "└────────────────┴───────┘"
      ]
     },
     "metadata": {},
     "output_type": "display_data"
    },
    {
     "name": "stdout",
     "output_type": "stream",
     "text": [
      "df_unijump FOR str_b1 = 02\n"
     ]
    },
    {
     "data": {
      "text/html": [
       "<div><style>\n",
       ".dataframe > thead > tr,\n",
       ".dataframe > tbody > tr {\n",
       "  text-align: right;\n",
       "  white-space: pre-wrap;\n",
       "}\n",
       "</style>\n",
       "<small>shape: (177, 2)</small><table border=\"1\" class=\"dataframe\"><thead><tr><th>unijump</th><th>count</th></tr><tr><td>i64</td><td>u32</td></tr></thead><tbody><tr><td>3</td><td>14</td></tr><tr><td>0</td><td>12</td></tr><tr><td>-17</td><td>12</td></tr><tr><td>-37</td><td>11</td></tr><tr><td>-38</td><td>10</td></tr><tr><td>&hellip;</td><td>&hellip;</td></tr><tr><td>45</td><td>1</td></tr><tr><td>88</td><td>1</td></tr><tr><td>-65</td><td>1</td></tr><tr><td>-86</td><td>1</td></tr><tr><td>-77</td><td>1</td></tr></tbody></table></div>"
      ],
      "text/plain": [
       "shape: (177, 2)\n",
       "┌─────────┬───────┐\n",
       "│ unijump ┆ count │\n",
       "│ ---     ┆ ---   │\n",
       "│ i64     ┆ u32   │\n",
       "╞═════════╪═══════╡\n",
       "│ 3       ┆ 14    │\n",
       "│ 0       ┆ 12    │\n",
       "│ -17     ┆ 12    │\n",
       "│ -37     ┆ 11    │\n",
       "│ -38     ┆ 10    │\n",
       "│ …       ┆ …     │\n",
       "│ 45      ┆ 1     │\n",
       "│ 88      ┆ 1     │\n",
       "│ -65     ┆ 1     │\n",
       "│ -86     ┆ 1     │\n",
       "│ -77     ┆ 1     │\n",
       "└─────────┴───────┘"
      ]
     },
     "metadata": {},
     "output_type": "display_data"
    }
   ],
   "source": [
    "possible_b1, exclude_jump_maps_b1, last_post_b1 = plot_post_col(col='str_b1', post_col='post_str_b1')"
   ]
  },
  {
   "cell_type": "code",
   "execution_count": 17,
   "metadata": {},
   "outputs": [
    {
     "name": "stdout",
     "output_type": "stream",
     "text": [
      "Setting test_value='06'\n",
      "df_viz FOR str_b2 = 06\n"
     ]
    },
    {
     "data": {
      "text/html": [
       "<div><style>\n",
       ".dataframe > thead > tr,\n",
       ".dataframe > tbody > tr {\n",
       "  text-align: right;\n",
       "  white-space: pre-wrap;\n",
       "}\n",
       "</style>\n",
       "<small>shape: (29, 3)</small><table border=\"1\" class=\"dataframe\"><thead><tr><th>post_str_b2</th><th>count</th><th>percent</th></tr><tr><td>str</td><td>u32</td><td>f64</td></tr></thead><tbody><tr><td>&quot;06&quot;</td><td>106</td><td>36.933798</td></tr><tr><td>&quot;10&quot;</td><td>15</td><td>5.226481</td></tr><tr><td>&quot;09&quot;</td><td>14</td><td>4.878049</td></tr><tr><td>&quot;05&quot;</td><td>14</td><td>4.878049</td></tr><tr><td>&quot;07&quot;</td><td>13</td><td>4.529617</td></tr><tr><td>&hellip;</td><td>&hellip;</td><td>&hellip;</td></tr><tr><td>&quot;25&quot;</td><td>1</td><td>0.348432</td></tr><tr><td>&quot;23&quot;</td><td>1</td><td>0.348432</td></tr><tr><td>&quot;26&quot;</td><td>1</td><td>0.348432</td></tr><tr><td>&quot;30&quot;</td><td>1</td><td>0.348432</td></tr><tr><td>&quot;28&quot;</td><td>1</td><td>0.348432</td></tr></tbody></table></div>"
      ],
      "text/plain": [
       "shape: (29, 3)\n",
       "┌─────────────┬───────┬───────────┐\n",
       "│ post_str_b2 ┆ count ┆ percent   │\n",
       "│ ---         ┆ ---   ┆ ---       │\n",
       "│ str         ┆ u32   ┆ f64       │\n",
       "╞═════════════╪═══════╪═══════════╡\n",
       "│ 06          ┆ 106   ┆ 36.933798 │\n",
       "│ 10          ┆ 15    ┆ 5.226481  │\n",
       "│ 09          ┆ 14    ┆ 4.878049  │\n",
       "│ 05          ┆ 14    ┆ 4.878049  │\n",
       "│ 07          ┆ 13    ┆ 4.529617  │\n",
       "│ …           ┆ …     ┆ …         │\n",
       "│ 25          ┆ 1     ┆ 0.348432  │\n",
       "│ 23          ┆ 1     ┆ 0.348432  │\n",
       "│ 26          ┆ 1     ┆ 0.348432  │\n",
       "│ 30          ┆ 1     ┆ 0.348432  │\n",
       "│ 28          ┆ 1     ┆ 0.348432  │\n",
       "└─────────────┴───────┴───────────┘"
      ]
     },
     "metadata": {},
     "output_type": "display_data"
    },
    {
     "data": {},
     "metadata": {},
     "output_type": "display_data"
    },
    {
     "data": {
      "application/vnd.holoviews_exec.v0+json": "",
      "text/html": [
       "<div id='2afc2683-8687-4a2a-a0f2-58d7ba698119'>\n",
       "  <div id=\"bbb59ead-96fe-44aa-961e-cfe771897f28\" data-root-id=\"2afc2683-8687-4a2a-a0f2-58d7ba698119\" style=\"display: contents;\"></div>\n",
       "</div>\n",
       "<script type=\"application/javascript\">(function(root) {\n",
       "  var docs_json = {\"f262e570-4cc5-45fb-9f72-962124995d08\":{\"version\":\"3.7.2\",\"title\":\"Bokeh Application\",\"roots\":[{\"type\":\"object\",\"name\":\"Row\",\"id\":\"2afc2683-8687-4a2a-a0f2-58d7ba698119\",\"attributes\":{\"name\":\"Row00357\",\"tags\":[\"embedded\"],\"stylesheets\":[\"\\n:host(.pn-loading):before, .pn-loading:before {\\n  background-color: #c3c3c3;\\n  mask-size: auto calc(min(50%, 400px));\\n  -webkit-mask-size: auto calc(min(50%, 400px));\\n}\",{\"type\":\"object\",\"name\":\"ImportedStyleSheet\",\"id\":\"5ac31de1-4737-4e54-a06c-8478fde5b4cc\",\"attributes\":{\"url\":\"https://cdn.holoviz.org/panel/1.6.2/dist/css/loading.css\"}},{\"type\":\"object\",\"name\":\"ImportedStyleSheet\",\"id\":\"fb02c571-fdc3-4fae-98da-d9fb5c81a907\",\"attributes\":{\"url\":\"https://cdn.holoviz.org/panel/1.6.2/dist/css/listpanel.css\"}},{\"type\":\"object\",\"name\":\"ImportedStyleSheet\",\"id\":\"2972b153-51bf-4400-8892-4c6b75a23ab8\",\"attributes\":{\"url\":\"https://cdn.holoviz.org/panel/1.6.2/dist/bundled/theme/default.css\"}},{\"type\":\"object\",\"name\":\"ImportedStyleSheet\",\"id\":\"e9bd8979-80ce-48ff-a267-70b64bc08439\",\"attributes\":{\"url\":\"https://cdn.holoviz.org/panel/1.6.2/dist/bundled/theme/native.css\"}}],\"min_width\":700,\"margin\":0,\"sizing_mode\":\"stretch_width\",\"align\":\"start\",\"children\":[{\"type\":\"object\",\"name\":\"Spacer\",\"id\":\"fd54a75b-5899-4f69-92ab-bc5e37ecaa8b\",\"attributes\":{\"name\":\"HSpacer00361\",\"stylesheets\":[\"\\n:host(.pn-loading):before, .pn-loading:before {\\n  background-color: #c3c3c3;\\n  mask-size: auto calc(min(50%, 400px));\\n  -webkit-mask-size: auto calc(min(50%, 400px));\\n}\",{\"id\":\"5ac31de1-4737-4e54-a06c-8478fde5b4cc\"},{\"id\":\"2972b153-51bf-4400-8892-4c6b75a23ab8\"},{\"id\":\"e9bd8979-80ce-48ff-a267-70b64bc08439\"}],\"margin\":0,\"sizing_mode\":\"stretch_width\",\"align\":\"start\"}},{\"type\":\"object\",\"name\":\"Figure\",\"id\":\"c147b9a1-def4-4ef0-adcd-42506ca36d91\",\"attributes\":{\"width\":700,\"height\":300,\"margin\":[5,10],\"sizing_mode\":\"fixed\",\"align\":\"start\",\"x_range\":{\"type\":\"object\",\"name\":\"FactorRange\",\"id\":\"fa805dd0-1ae2-45e9-b339-1712cfc4d451\",\"attributes\":{\"name\":\"post_str_b2\",\"tags\":[[[\"post_str_b2\",null]],[]],\"factors\":[\"06\",\"10\",\"09\",\"05\",\"07\",\"12\",\"11\",\"13\",\"15\",\"03\",\"08\",\"17\",\"20\",\"02\",\"16\",\"04\",\"18\",\"22\",\"27\",\"21\",\"14\",\"29\",\"19\",\"24\",\"25\",\"23\",\"26\",\"30\",\"28\"]}},\"y_range\":{\"type\":\"object\",\"name\":\"Range1d\",\"id\":\"fab61796-83e1-4f8f-a655-40131cdc3c59\",\"attributes\":{\"name\":\"percent\",\"tags\":[[[\"percent\",null]],{\"type\":\"map\",\"entries\":[[\"invert_yaxis\",false],[\"autorange\",false]]}],\"end\":40.59233449477352,\"reset_start\":0.0,\"reset_end\":40.59233449477352}},\"x_scale\":{\"type\":\"object\",\"name\":\"CategoricalScale\",\"id\":\"daea2029-174b-4bc0-bc9c-2071c54c34b3\"},\"y_scale\":{\"type\":\"object\",\"name\":\"LinearScale\",\"id\":\"d194eb7f-b31b-4f7f-b023-070edf3748e5\"},\"title\":{\"type\":\"object\",\"name\":\"Title\",\"id\":\"f4e85f50-7d94-455f-a8d9-ea32b74ec855\",\"attributes\":{\"text_color\":\"black\",\"text_font_size\":\"12pt\"}},\"renderers\":[{\"type\":\"object\",\"name\":\"GlyphRenderer\",\"id\":\"bb81e004-e0b6-4bbe-98cb-71c150a0022a\",\"attributes\":{\"data_source\":{\"type\":\"object\",\"name\":\"ColumnDataSource\",\"id\":\"ff5457aa-977f-432c-9e1e-a4c3dde1bd06\",\"attributes\":{\"selected\":{\"type\":\"object\",\"name\":\"Selection\",\"id\":\"dd443b58-15c9-40eb-8a76-a2cf407b6527\",\"attributes\":{\"indices\":[],\"line_indices\":[]}},\"selection_policy\":{\"type\":\"object\",\"name\":\"UnionRenderers\",\"id\":\"dc8e0f50-cd92-4e82-ae80-f4baaa8e4004\"},\"data\":{\"type\":\"map\",\"entries\":[[\"post_str_b2\",[\"06\",\"10\",\"09\",\"05\",\"07\",\"12\",\"11\",\"13\",\"15\",\"03\",\"08\",\"17\",\"20\",\"02\",\"16\",\"04\",\"18\",\"22\",\"27\",\"21\",\"14\",\"29\",\"19\",\"24\",\"25\",\"23\",\"26\",\"30\",\"28\"]],[\"percent\",{\"type\":\"ndarray\",\"array\":{\"type\":\"bytes\",\"data\":\"U/2csIZ3QkDDO6OX6ucUQIPzMTgfgxNAg/MxOB+DE0BDq8DYUx4SQEOrwNhTHhJAhDW8M3qpDkCENbwzeqkOQASl2XTj3wtAhBT3tUwWCUCEFPe1TBYJQIQU97VMFglAg/MxOB+DA0CD8zE4H4MDQANjT3mIuQBABKXZdOPf+z8Epdl049/7PwSEFPe1TPY/A2NPeYi58D8DY095iLnwPwSEFPe1TOY/BIQU97VM5j8EhBT3tUzmPwSEFPe1TOY/BIQU97VM1j8EhBT3tUzWPwSEFPe1TNY/BIQU97VM1j8EhBT3tUzWPw==\"},\"shape\":[29],\"dtype\":\"float64\",\"order\":\"little\"}]]}}},\"view\":{\"type\":\"object\",\"name\":\"CDSView\",\"id\":\"80e7b084-09ec-4df8-92ca-0e9168e1157c\",\"attributes\":{\"filter\":{\"type\":\"object\",\"name\":\"AllIndices\",\"id\":\"2063b61d-f70e-4e81-8073-69eaf2471408\"}}},\"glyph\":{\"type\":\"object\",\"name\":\"VBar\",\"id\":\"1d1daca2-0946-4a4f-927b-3eab0f0be7ad\",\"attributes\":{\"tags\":[\"apply_ranges\"],\"x\":{\"type\":\"field\",\"field\":\"post_str_b2\"},\"width\":{\"type\":\"value\",\"value\":0.8},\"top\":{\"type\":\"field\",\"field\":\"percent\"},\"fill_color\":{\"type\":\"value\",\"value\":\"#30a2da\"},\"hatch_color\":{\"type\":\"value\",\"value\":\"#30a2da\"}}},\"selection_glyph\":{\"type\":\"object\",\"name\":\"VBar\",\"id\":\"56a2aa94-53e0-473d-955d-101c7e5a5da4\",\"attributes\":{\"tags\":[\"apply_ranges\"],\"x\":{\"type\":\"field\",\"field\":\"post_str_b2\"},\"width\":{\"type\":\"value\",\"value\":0.8},\"bottom\":{\"type\":\"value\",\"value\":0},\"top\":{\"type\":\"field\",\"field\":\"percent\"},\"line_color\":{\"type\":\"value\",\"value\":\"black\"},\"line_alpha\":{\"type\":\"value\",\"value\":1.0},\"line_width\":{\"type\":\"value\",\"value\":1},\"line_join\":{\"type\":\"value\",\"value\":\"bevel\"},\"line_cap\":{\"type\":\"value\",\"value\":\"butt\"},\"line_dash\":{\"type\":\"value\",\"value\":[]},\"line_dash_offset\":{\"type\":\"value\",\"value\":0},\"fill_color\":{\"type\":\"value\",\"value\":\"#30a2da\"},\"fill_alpha\":{\"type\":\"value\",\"value\":1.0},\"hatch_color\":{\"type\":\"value\",\"value\":\"#30a2da\"},\"hatch_alpha\":{\"type\":\"value\",\"value\":1.0},\"hatch_scale\":{\"type\":\"value\",\"value\":12.0},\"hatch_pattern\":{\"type\":\"value\",\"value\":null},\"hatch_weight\":{\"type\":\"value\",\"value\":1.0}}},\"nonselection_glyph\":{\"type\":\"object\",\"name\":\"VBar\",\"id\":\"23fb6000-12b0-47de-9b19-83e2c1a70ed4\",\"attributes\":{\"tags\":[\"apply_ranges\"],\"x\":{\"type\":\"field\",\"field\":\"post_str_b2\"},\"width\":{\"type\":\"value\",\"value\":0.8},\"top\":{\"type\":\"field\",\"field\":\"percent\"},\"line_alpha\":{\"type\":\"value\",\"value\":0.1},\"fill_color\":{\"type\":\"value\",\"value\":\"#30a2da\"},\"fill_alpha\":{\"type\":\"value\",\"value\":0.1},\"hatch_color\":{\"type\":\"value\",\"value\":\"#30a2da\"},\"hatch_alpha\":{\"type\":\"value\",\"value\":0.1}}},\"muted_glyph\":{\"type\":\"object\",\"name\":\"VBar\",\"id\":\"ab5f6eb6-64f5-4b1d-9cd8-9b041db7512f\",\"attributes\":{\"tags\":[\"apply_ranges\"],\"x\":{\"type\":\"field\",\"field\":\"post_str_b2\"},\"width\":{\"type\":\"value\",\"value\":0.8},\"top\":{\"type\":\"field\",\"field\":\"percent\"},\"line_alpha\":{\"type\":\"value\",\"value\":0.2},\"fill_color\":{\"type\":\"value\",\"value\":\"#30a2da\"},\"fill_alpha\":{\"type\":\"value\",\"value\":0.2},\"hatch_color\":{\"type\":\"value\",\"value\":\"#30a2da\"},\"hatch_alpha\":{\"type\":\"value\",\"value\":0.2}}}}},{\"type\":\"object\",\"name\":\"Span\",\"id\":\"ae56b8d6-4383-4678-a18f-d15ca22a4c05\",\"attributes\":{\"level\":\"glyph\",\"location\":3.4482758620689644,\"line_color\":\"red\",\"line_width\":3}},{\"type\":\"object\",\"name\":\"Span\",\"id\":\"abe260ba-39ad-4ef4-b5d8-7f8229e3dc14\",\"attributes\":{\"level\":\"glyph\",\"location\":5.172413793103447,\"line_color\":\"blue\",\"line_width\":3}},{\"type\":\"object\",\"name\":\"Span\",\"id\":\"cb0dc590-f4b9-448e-be92-866407a52b65\",\"attributes\":{\"level\":\"glyph\",\"location\":1.7241379310344822,\"line_color\":\"blue\",\"line_width\":3}}],\"toolbar\":{\"type\":\"object\",\"name\":\"Toolbar\",\"id\":\"a404d864-b604-4637-827d-da030ae13b72\",\"attributes\":{\"tools\":[{\"type\":\"object\",\"name\":\"WheelZoomTool\",\"id\":\"309e5098-af2c-461a-b308-54b82c93a383\",\"attributes\":{\"tags\":[\"hv_created\"],\"renderers\":\"auto\",\"zoom_together\":\"none\"}},{\"type\":\"object\",\"name\":\"HoverTool\",\"id\":\"c461b78f-4394-4631-b30f-5411b856e8c1\",\"attributes\":{\"tags\":[\"hv_created\"],\"renderers\":[{\"id\":\"bb81e004-e0b6-4bbe-98cb-71c150a0022a\"}],\"tooltips\":[[\"post_str_b2\",\"@{post_str_b2}\"],[\"percent\",\"@{percent}\"]]}},{\"type\":\"object\",\"name\":\"SaveTool\",\"id\":\"4a3fbc9d-826f-4bcb-b006-7001edb16cd1\"},{\"type\":\"object\",\"name\":\"PanTool\",\"id\":\"4f2e8bdb-b632-41fc-bf9d-60115a5cb0fd\"},{\"type\":\"object\",\"name\":\"BoxZoomTool\",\"id\":\"0b53450f-66f5-4405-909a-ec55fda73eaa\",\"attributes\":{\"dimensions\":\"both\",\"overlay\":{\"type\":\"object\",\"name\":\"BoxAnnotation\",\"id\":\"968b1290-fc75-4104-b6eb-1e72bef04ef9\",\"attributes\":{\"syncable\":false,\"line_color\":\"black\",\"line_alpha\":1.0,\"line_width\":2,\"line_dash\":[4,4],\"fill_color\":\"lightgrey\",\"fill_alpha\":0.5,\"level\":\"overlay\",\"visible\":false,\"left\":{\"type\":\"number\",\"value\":\"nan\"},\"right\":{\"type\":\"number\",\"value\":\"nan\"},\"top\":{\"type\":\"number\",\"value\":\"nan\"},\"bottom\":{\"type\":\"number\",\"value\":\"nan\"},\"left_units\":\"canvas\",\"right_units\":\"canvas\",\"top_units\":\"canvas\",\"bottom_units\":\"canvas\",\"handles\":{\"type\":\"object\",\"name\":\"BoxInteractionHandles\",\"id\":\"4b1c5a1a-6a70-4cab-9c45-c390d97bcb44\",\"attributes\":{\"all\":{\"type\":\"object\",\"name\":\"AreaVisuals\",\"id\":\"cd31167d-da0a-4836-ab60-cbd2a5dca684\",\"attributes\":{\"fill_color\":\"white\",\"hover_fill_color\":\"lightgray\"}}}}}}}},{\"type\":\"object\",\"name\":\"ResetTool\",\"id\":\"86db9cba-c1ed-4e3e-8893-9db017b6b4b6\"}],\"active_drag\":{\"id\":\"4f2e8bdb-b632-41fc-bf9d-60115a5cb0fd\"}}},\"left\":[{\"type\":\"object\",\"name\":\"LinearAxis\",\"id\":\"27a6e987-8268-43ed-8d6e-a794622b5dc8\",\"attributes\":{\"ticker\":{\"type\":\"object\",\"name\":\"BasicTicker\",\"id\":\"43c13475-2c10-44b4-9804-580f1d8918a5\",\"attributes\":{\"mantissas\":[1,2,5]}},\"formatter\":{\"type\":\"object\",\"name\":\"BasicTickFormatter\",\"id\":\"6bd265fd-0019-4921-a761-c34db11018bb\"},\"axis_label\":\"percent\",\"major_label_policy\":{\"type\":\"object\",\"name\":\"AllLabels\",\"id\":\"98b8d25b-96ad-48d6-a913-10fa0f2aa9fc\"}}}],\"below\":[{\"type\":\"object\",\"name\":\"CategoricalAxis\",\"id\":\"68c59896-f9e4-4341-8867-c4139dbb6522\",\"attributes\":{\"ticker\":{\"type\":\"object\",\"name\":\"CategoricalTicker\",\"id\":\"d4a8cb0e-dfbd-48e4-a75b-1df945816154\"},\"formatter\":{\"type\":\"object\",\"name\":\"CategoricalTickFormatter\",\"id\":\"3d339189-081c-4feb-a109-3a9c1ca72239\"},\"axis_label\":\"post_str_b2\",\"major_label_policy\":{\"type\":\"object\",\"name\":\"AllLabels\",\"id\":\"2313555c-53ab-46c2-a3ec-c2ede875f8dd\"}}}],\"center\":[{\"type\":\"object\",\"name\":\"Grid\",\"id\":\"29d0ce1e-6f3f-4dee-bce2-0444974710b1\",\"attributes\":{\"axis\":{\"id\":\"68c59896-f9e4-4341-8867-c4139dbb6522\"},\"grid_line_color\":null}},{\"type\":\"object\",\"name\":\"Grid\",\"id\":\"dc72a53f-b1a6-4b50-b409-6623f96c2201\",\"attributes\":{\"dimension\":1,\"axis\":{\"id\":\"27a6e987-8268-43ed-8d6e-a794622b5dc8\"},\"grid_line_color\":null}}],\"min_border_top\":10,\"min_border_bottom\":10,\"min_border_left\":10,\"min_border_right\":10,\"output_backend\":\"webgl\"}},{\"type\":\"object\",\"name\":\"Spacer\",\"id\":\"2ecaf1b3-d0f3-42ae-b774-cb490295105d\",\"attributes\":{\"name\":\"HSpacer00362\",\"stylesheets\":[\"\\n:host(.pn-loading):before, .pn-loading:before {\\n  background-color: #c3c3c3;\\n  mask-size: auto calc(min(50%, 400px));\\n  -webkit-mask-size: auto calc(min(50%, 400px));\\n}\",{\"id\":\"5ac31de1-4737-4e54-a06c-8478fde5b4cc\"},{\"id\":\"2972b153-51bf-4400-8892-4c6b75a23ab8\"},{\"id\":\"e9bd8979-80ce-48ff-a267-70b64bc08439\"}],\"margin\":0,\"sizing_mode\":\"stretch_width\",\"align\":\"start\"}}]}}],\"defs\":[{\"type\":\"model\",\"name\":\"ReactiveHTML1\"},{\"type\":\"model\",\"name\":\"FlexBox1\",\"properties\":[{\"name\":\"align_content\",\"kind\":\"Any\",\"default\":\"flex-start\"},{\"name\":\"align_items\",\"kind\":\"Any\",\"default\":\"flex-start\"},{\"name\":\"flex_direction\",\"kind\":\"Any\",\"default\":\"row\"},{\"name\":\"flex_wrap\",\"kind\":\"Any\",\"default\":\"wrap\"},{\"name\":\"gap\",\"kind\":\"Any\",\"default\":\"\"},{\"name\":\"justify_content\",\"kind\":\"Any\",\"default\":\"flex-start\"}]},{\"type\":\"model\",\"name\":\"FloatPanel1\",\"properties\":[{\"name\":\"config\",\"kind\":\"Any\",\"default\":{\"type\":\"map\"}},{\"name\":\"contained\",\"kind\":\"Any\",\"default\":true},{\"name\":\"position\",\"kind\":\"Any\",\"default\":\"right-top\"},{\"name\":\"offsetx\",\"kind\":\"Any\",\"default\":null},{\"name\":\"offsety\",\"kind\":\"Any\",\"default\":null},{\"name\":\"theme\",\"kind\":\"Any\",\"default\":\"primary\"},{\"name\":\"status\",\"kind\":\"Any\",\"default\":\"normalized\"}]},{\"type\":\"model\",\"name\":\"GridStack1\",\"properties\":[{\"name\":\"ncols\",\"kind\":\"Any\",\"default\":null},{\"name\":\"nrows\",\"kind\":\"Any\",\"default\":null},{\"name\":\"allow_resize\",\"kind\":\"Any\",\"default\":true},{\"name\":\"allow_drag\",\"kind\":\"Any\",\"default\":true},{\"name\":\"state\",\"kind\":\"Any\",\"default\":[]}]},{\"type\":\"model\",\"name\":\"drag1\",\"properties\":[{\"name\":\"slider_width\",\"kind\":\"Any\",\"default\":5},{\"name\":\"slider_color\",\"kind\":\"Any\",\"default\":\"black\"},{\"name\":\"value\",\"kind\":\"Any\",\"default\":50}]},{\"type\":\"model\",\"name\":\"click1\",\"properties\":[{\"name\":\"terminal_output\",\"kind\":\"Any\",\"default\":\"\"},{\"name\":\"debug_name\",\"kind\":\"Any\",\"default\":\"\"},{\"name\":\"clears\",\"kind\":\"Any\",\"default\":0}]},{\"type\":\"model\",\"name\":\"FastWrapper1\",\"properties\":[{\"name\":\"object\",\"kind\":\"Any\",\"default\":null},{\"name\":\"style\",\"kind\":\"Any\",\"default\":null}]},{\"type\":\"model\",\"name\":\"NotificationArea1\",\"properties\":[{\"name\":\"js_events\",\"kind\":\"Any\",\"default\":{\"type\":\"map\"}},{\"name\":\"max_notifications\",\"kind\":\"Any\",\"default\":5},{\"name\":\"notifications\",\"kind\":\"Any\",\"default\":[]},{\"name\":\"position\",\"kind\":\"Any\",\"default\":\"bottom-right\"},{\"name\":\"_clear\",\"kind\":\"Any\",\"default\":0},{\"name\":\"types\",\"kind\":\"Any\",\"default\":[{\"type\":\"map\",\"entries\":[[\"type\",\"warning\"],[\"background\",\"#ffc107\"],[\"icon\",{\"type\":\"map\",\"entries\":[[\"className\",\"fas fa-exclamation-triangle\"],[\"tagName\",\"i\"],[\"color\",\"white\"]]}]]},{\"type\":\"map\",\"entries\":[[\"type\",\"info\"],[\"background\",\"#007bff\"],[\"icon\",{\"type\":\"map\",\"entries\":[[\"className\",\"fas fa-info-circle\"],[\"tagName\",\"i\"],[\"color\",\"white\"]]}]]}]}]},{\"type\":\"model\",\"name\":\"Notification\",\"properties\":[{\"name\":\"background\",\"kind\":\"Any\",\"default\":null},{\"name\":\"duration\",\"kind\":\"Any\",\"default\":3000},{\"name\":\"icon\",\"kind\":\"Any\",\"default\":null},{\"name\":\"message\",\"kind\":\"Any\",\"default\":\"\"},{\"name\":\"notification_type\",\"kind\":\"Any\",\"default\":null},{\"name\":\"_rendered\",\"kind\":\"Any\",\"default\":false},{\"name\":\"_destroyed\",\"kind\":\"Any\",\"default\":false}]},{\"type\":\"model\",\"name\":\"TemplateActions1\",\"properties\":[{\"name\":\"open_modal\",\"kind\":\"Any\",\"default\":0},{\"name\":\"close_modal\",\"kind\":\"Any\",\"default\":0}]},{\"type\":\"model\",\"name\":\"BootstrapTemplateActions1\",\"properties\":[{\"name\":\"open_modal\",\"kind\":\"Any\",\"default\":0},{\"name\":\"close_modal\",\"kind\":\"Any\",\"default\":0}]},{\"type\":\"model\",\"name\":\"TemplateEditor1\",\"properties\":[{\"name\":\"layout\",\"kind\":\"Any\",\"default\":[]}]},{\"type\":\"model\",\"name\":\"MaterialTemplateActions1\",\"properties\":[{\"name\":\"open_modal\",\"kind\":\"Any\",\"default\":0},{\"name\":\"close_modal\",\"kind\":\"Any\",\"default\":0}]},{\"type\":\"model\",\"name\":\"ReactiveESM1\",\"properties\":[{\"name\":\"esm_constants\",\"kind\":\"Any\",\"default\":{\"type\":\"map\"}}]},{\"type\":\"model\",\"name\":\"JSComponent1\",\"properties\":[{\"name\":\"esm_constants\",\"kind\":\"Any\",\"default\":{\"type\":\"map\"}}]},{\"type\":\"model\",\"name\":\"ReactComponent1\",\"properties\":[{\"name\":\"esm_constants\",\"kind\":\"Any\",\"default\":{\"type\":\"map\"}}]},{\"type\":\"model\",\"name\":\"AnyWidgetComponent1\",\"properties\":[{\"name\":\"esm_constants\",\"kind\":\"Any\",\"default\":{\"type\":\"map\"}}]},{\"type\":\"model\",\"name\":\"request_value1\",\"properties\":[{\"name\":\"fill\",\"kind\":\"Any\",\"default\":\"none\"},{\"name\":\"_synced\",\"kind\":\"Any\",\"default\":null},{\"name\":\"_request_sync\",\"kind\":\"Any\",\"default\":0}]}]}};\n",
       "  var render_items = [{\"docid\":\"f262e570-4cc5-45fb-9f72-962124995d08\",\"roots\":{\"2afc2683-8687-4a2a-a0f2-58d7ba698119\":\"bbb59ead-96fe-44aa-961e-cfe771897f28\"},\"root_ids\":[\"2afc2683-8687-4a2a-a0f2-58d7ba698119\"]}];\n",
       "  var docs = Object.values(docs_json)\n",
       "  if (!docs) {\n",
       "    return\n",
       "  }\n",
       "  const py_version = docs[0].version.replace('rc', '-rc.').replace('.dev', '-dev.')\n",
       "  async function embed_document(root) {\n",
       "    var Bokeh = get_bokeh(root)\n",
       "    await Bokeh.embed.embed_items_notebook(docs_json, render_items);\n",
       "    for (const render_item of render_items) {\n",
       "      for (const root_id of render_item.root_ids) {\n",
       "\tconst id_el = document.getElementById(root_id)\n",
       "\tif (id_el.children.length && id_el.children[0].hasAttribute('data-root-id')) {\n",
       "\t  const root_el = id_el.children[0]\n",
       "\t  root_el.id = root_el.id + '-rendered'\n",
       "\t  for (const child of root_el.children) {\n",
       "            // Ensure JupyterLab does not capture keyboard shortcuts\n",
       "            // see: https://jupyterlab.readthedocs.io/en/4.1.x/extension/notebook.html#keyboard-interaction-model\n",
       "\t    child.setAttribute('data-lm-suppress-shortcuts', 'true')\n",
       "\t  }\n",
       "\t}\n",
       "      }\n",
       "    }\n",
       "  }\n",
       "  function get_bokeh(root) {\n",
       "    if (root.Bokeh === undefined) {\n",
       "      return null\n",
       "    } else if (root.Bokeh.version !== py_version) {\n",
       "      if (root.Bokeh.versions === undefined || !root.Bokeh.versions.has(py_version)) {\n",
       "\treturn null\n",
       "      }\n",
       "      return root.Bokeh.versions.get(py_version);\n",
       "    } else if (root.Bokeh.version === py_version) {\n",
       "      return root.Bokeh\n",
       "    }\n",
       "    return null\n",
       "  }\n",
       "  function is_loaded(root) {\n",
       "    var Bokeh = get_bokeh(root)\n",
       "    return (Bokeh != null && Bokeh.Panel !== undefined)\n",
       "  }\n",
       "  if (is_loaded(root)) {\n",
       "    embed_document(root);\n",
       "  } else {\n",
       "    var attempts = 0;\n",
       "    var timer = setInterval(function(root) {\n",
       "      if (is_loaded(root)) {\n",
       "        clearInterval(timer);\n",
       "        embed_document(root);\n",
       "      } else if (document.readyState == \"complete\") {\n",
       "        attempts++;\n",
       "        if (attempts > 200) {\n",
       "          clearInterval(timer);\n",
       "\t  var Bokeh = get_bokeh(root)\n",
       "\t  if (Bokeh == null || Bokeh.Panel == null) {\n",
       "            console.warn(\"Panel: ERROR: Unable to run Panel code because Bokeh or Panel library is missing\");\n",
       "\t  } else {\n",
       "\t    console.warn(\"Panel: WARNING: Attempting to render but not all required libraries could be resolved.\")\n",
       "\t    embed_document(root)\n",
       "\t  }\n",
       "        }\n",
       "      }\n",
       "    }, 25, root)\n",
       "  }\n",
       "})(window);</script>"
      ],
      "text/plain": [
       ":Overlay\n",
       "   .Bars.I    :Bars   [post_str_b2]   (percent)\n",
       "   .HLine.I   :HLine   [x,y]\n",
       "   .HLine.II  :HLine   [x,y]\n",
       "   .HLine.III :HLine   [x,y]"
      ]
     },
     "metadata": {
      "application/vnd.holoviews_exec.v0+json": {
       "id": "2afc2683-8687-4a2a-a0f2-58d7ba698119"
      }
     },
     "output_type": "display_data"
    },
    {
     "name": "stdout",
     "output_type": "stream",
     "text": [
      "df_10_last FOR str_b2 = 06\n",
      "Last 3 results last_results=['06', '15']\n"
     ]
    },
    {
     "data": {
      "text/html": [
       "<div><style>\n",
       ".dataframe > thead > tr,\n",
       ".dataframe > tbody > tr {\n",
       "  text-align: right;\n",
       "  white-space: pre-wrap;\n",
       "}\n",
       "</style>\n",
       "<small>shape: (10, 30)</small><table border=\"1\" class=\"dataframe\"><thead><tr><th>fecha</th><th>sorteo</th><th>bolillas regulares</th><th>bolillas chauchamba</th><th>cc1</th><th>cc2</th><th>id</th><th>combo</th><th>b1</th><th>b2</th><th>b3</th><th>b4</th><th>b5</th><th>b6</th><th>str_b1</th><th>str_b2</th><th>str_b3</th><th>str_b4</th><th>str_b5</th><th>str_b6</th><th>post_str_b1</th><th>post_str_b2</th><th>post_str_b3</th><th>post_str_b4</th><th>post_str_b5</th><th>post_str_blast</th><th>is_rare_combination</th><th>reason</th><th>jumps_map</th><th>unijump</th></tr><tr><td>str</td><td>str</td><td>str</td><td>str</td><td>str</td><td>str</td><td>str</td><td>array[u8, 6]</td><td>u8</td><td>u8</td><td>u8</td><td>u8</td><td>u8</td><td>u8</td><td>str</td><td>str</td><td>str</td><td>str</td><td>str</td><td>str</td><td>str</td><td>str</td><td>str</td><td>str</td><td>str</td><td>str</td><td>bool</td><td>u8</td><td>str</td><td>i64</td></tr></thead><tbody><tr><td>&quot;17/04/2025&quot;</td><td>&quot;1796&quot;</td><td>&quot;12 06 38 15 37 02&quot;</td><td>&quot;21 11 28 24 32 20&quot;</td><td>&quot;&quot;</td><td>&quot;&quot;</td><td>&quot;020612153738&quot;</td><td>[2, 6, … 38]</td><td>2</td><td>6</td><td>12</td><td>15</td><td>37</td><td>38</td><td>&quot;02&quot;</td><td>&quot;06&quot;</td><td>&quot;12&quot;</td><td>&quot;15&quot;</td><td>&quot;37&quot;</td><td>&quot;38&quot;</td><td>&quot;02&quot;</td><td>&quot;06&quot;</td><td>&quot;12&quot;</td><td>&quot;15&quot;</td><td>&quot;37&quot;</td><td>&quot;38&quot;</td><td>false</td><td>0</td><td>&quot;04_06_03_22_01&quot;</td><td>-89</td></tr><tr><td>&quot;04/03/2025&quot;</td><td>&quot;1777&quot;</td><td>&quot;18 11 04 06 26 30&quot;</td><td>&quot;40 25 08 27 07 24&quot;</td><td>&quot;&quot;</td><td>&quot;&quot;</td><td>&quot;040611182630&quot;</td><td>[4, 6, … 30]</td><td>4</td><td>6</td><td>11</td><td>18</td><td>26</td><td>30</td><td>&quot;04&quot;</td><td>&quot;06&quot;</td><td>&quot;11&quot;</td><td>&quot;18&quot;</td><td>&quot;26&quot;</td><td>&quot;30&quot;</td><td>&quot;05&quot;</td><td>&quot;15&quot;</td><td>&quot;18&quot;</td><td>&quot;29&quot;</td><td>&quot;30&quot;</td><td>&quot;39&quot;</td><td>false</td><td>0</td><td>&quot;02_05_07_08_04&quot;</td><td>-4</td></tr><tr><td>&quot;04/03/2025&quot;</td><td>&quot;1777&quot;</td><td>&quot;18 11 04 06 26 30&quot;</td><td>&quot;40 25 08 27 07 24&quot;</td><td>&quot;&quot;</td><td>&quot;&quot;</td><td>&quot;040611182630&quot;</td><td>[4, 6, … 30]</td><td>4</td><td>6</td><td>11</td><td>18</td><td>26</td><td>30</td><td>&quot;04&quot;</td><td>&quot;06&quot;</td><td>&quot;11&quot;</td><td>&quot;18&quot;</td><td>&quot;26&quot;</td><td>&quot;30&quot;</td><td>&quot;04&quot;</td><td>&quot;06&quot;</td><td>&quot;11&quot;</td><td>&quot;18&quot;</td><td>&quot;26&quot;</td><td>&quot;30&quot;</td><td>false</td><td>0</td><td>&quot;02_05_07_08_04&quot;</td><td>-4</td></tr><tr><td>&quot;25/02/2025&quot;</td><td>&quot;1774&quot;</td><td>&quot;40 06 31 03 26 32&quot;</td><td>&quot;36 37 07 14 22 02&quot;</td><td>&quot;&quot;</td><td>&quot;&quot;</td><td>&quot;030626313240&quot;</td><td>[3, 6, … 40]</td><td>3</td><td>6</td><td>26</td><td>31</td><td>32</td><td>40</td><td>&quot;03&quot;</td><td>&quot;06&quot;</td><td>&quot;26&quot;</td><td>&quot;31&quot;</td><td>&quot;32&quot;</td><td>&quot;40&quot;</td><td>&quot;03&quot;</td><td>&quot;07&quot;</td><td>&quot;08&quot;</td><td>&quot;22&quot;</td><td>&quot;25&quot;</td><td>&quot;29&quot;</td><td>false</td><td>0</td><td>&quot;03_20_05_01_08&quot;</td><td>-43</td></tr><tr><td>&quot;25/02/2025&quot;</td><td>&quot;1774&quot;</td><td>&quot;40 06 31 03 26 32&quot;</td><td>&quot;36 37 07 14 22 02&quot;</td><td>&quot;&quot;</td><td>&quot;&quot;</td><td>&quot;030626313240&quot;</td><td>[3, 6, … 40]</td><td>3</td><td>6</td><td>26</td><td>31</td><td>32</td><td>40</td><td>&quot;03&quot;</td><td>&quot;06&quot;</td><td>&quot;26&quot;</td><td>&quot;31&quot;</td><td>&quot;32&quot;</td><td>&quot;40&quot;</td><td>&quot;03&quot;</td><td>&quot;06&quot;</td><td>&quot;26&quot;</td><td>&quot;31&quot;</td><td>&quot;32&quot;</td><td>&quot;40&quot;</td><td>false</td><td>0</td><td>&quot;03_20_05_01_08&quot;</td><td>-43</td></tr><tr><td>&quot;28/01/2025&quot;</td><td>&quot;1762&quot;</td><td>&quot;39 24 01 06 14 18&quot;</td><td>&quot;20 13 22 37 07 11&quot;</td><td>&quot;&quot;</td><td>&quot;&quot;</td><td>&quot;010614182439&quot;</td><td>[1, 6, … 39]</td><td>1</td><td>6</td><td>14</td><td>18</td><td>24</td><td>39</td><td>&quot;01&quot;</td><td>&quot;06&quot;</td><td>&quot;14&quot;</td><td>&quot;18&quot;</td><td>&quot;24&quot;</td><td>&quot;39&quot;</td><td>&quot;04&quot;</td><td>&quot;20&quot;</td><td>&quot;31&quot;</td><td>&quot;33&quot;</td><td>&quot;36&quot;</td><td>&quot;38&quot;</td><td>false</td><td>0</td><td>&quot;05_08_04_06_15&quot;</td><td>-12</td></tr><tr><td>&quot;28/01/2025&quot;</td><td>&quot;1762&quot;</td><td>&quot;39 24 01 06 14 18&quot;</td><td>&quot;20 13 22 37 07 11&quot;</td><td>&quot;&quot;</td><td>&quot;&quot;</td><td>&quot;010614182439&quot;</td><td>[1, 6, … 39]</td><td>1</td><td>6</td><td>14</td><td>18</td><td>24</td><td>39</td><td>&quot;01&quot;</td><td>&quot;06&quot;</td><td>&quot;14&quot;</td><td>&quot;18&quot;</td><td>&quot;24&quot;</td><td>&quot;39&quot;</td><td>&quot;01&quot;</td><td>&quot;06&quot;</td><td>&quot;14&quot;</td><td>&quot;18&quot;</td><td>&quot;24&quot;</td><td>&quot;39&quot;</td><td>false</td><td>0</td><td>&quot;05_08_04_06_15&quot;</td><td>-12</td></tr><tr><td>&quot;07/01/2025&quot;</td><td>&quot;1753&quot;</td><td>&quot;38 27 07 04 08 06&quot;</td><td>&quot;36 33 40 01 09 02&quot;</td><td>&quot;&quot;</td><td>&quot;&quot;</td><td>&quot;040607082738&quot;</td><td>[4, 6, … 38]</td><td>4</td><td>6</td><td>7</td><td>8</td><td>27</td><td>38</td><td>&quot;04&quot;</td><td>&quot;06&quot;</td><td>&quot;07&quot;</td><td>&quot;08&quot;</td><td>&quot;27&quot;</td><td>&quot;38&quot;</td><td>&quot;02&quot;</td><td>&quot;11&quot;</td><td>&quot;14&quot;</td><td>&quot;18&quot;</td><td>&quot;22&quot;</td><td>&quot;39&quot;</td><td>true</td><td>24</td><td>&quot;02_01_01_19_11&quot;</td><td>-61</td></tr><tr><td>&quot;07/01/2025&quot;</td><td>&quot;1753&quot;</td><td>&quot;38 27 07 04 08 06&quot;</td><td>&quot;36 33 40 01 09 02&quot;</td><td>&quot;&quot;</td><td>&quot;&quot;</td><td>&quot;040607082738&quot;</td><td>[4, 6, … 38]</td><td>4</td><td>6</td><td>7</td><td>8</td><td>27</td><td>38</td><td>&quot;04&quot;</td><td>&quot;06&quot;</td><td>&quot;07&quot;</td><td>&quot;08&quot;</td><td>&quot;27&quot;</td><td>&quot;38&quot;</td><td>&quot;04&quot;</td><td>&quot;06&quot;</td><td>&quot;07&quot;</td><td>&quot;08&quot;</td><td>&quot;27&quot;</td><td>&quot;38&quot;</td><td>true</td><td>24</td><td>&quot;02_01_01_19_11&quot;</td><td>-61</td></tr><tr><td>&quot;26/11/2024&quot;</td><td>&quot;1735&quot;</td><td>&quot;02 32 37 06 23 21&quot;</td><td>&quot;04 18 29 31 27 39&quot;</td><td>&quot;&quot;</td><td>&quot;&quot;</td><td>&quot;020621233237&quot;</td><td>[2, 6, … 37]</td><td>2</td><td>6</td><td>21</td><td>23</td><td>32</td><td>37</td><td>&quot;02&quot;</td><td>&quot;06&quot;</td><td>&quot;21&quot;</td><td>&quot;23&quot;</td><td>&quot;32&quot;</td><td>&quot;37&quot;</td><td>&quot;08&quot;</td><td>&quot;10&quot;</td><td>&quot;19&quot;</td><td>&quot;20&quot;</td><td>&quot;26&quot;</td><td>&quot;39&quot;</td><td>false</td><td>0</td><td>&quot;04_15_02_09_05&quot;</td><td>-75</td></tr></tbody></table></div>"
      ],
      "text/plain": [
       "shape: (10, 30)\n",
       "┌────────────┬────────┬─────────────┬─────────────┬───┬────────────┬────────┬────────────┬─────────┐\n",
       "│ fecha      ┆ sorteo ┆ bolillas    ┆ bolillas    ┆ … ┆ is_rare_co ┆ reason ┆ jumps_map  ┆ unijump │\n",
       "│ ---        ┆ ---    ┆ regulares   ┆ chauchamba  ┆   ┆ mbination  ┆ ---    ┆ ---        ┆ ---     │\n",
       "│ str        ┆ str    ┆ ---         ┆ ---         ┆   ┆ ---        ┆ u8     ┆ str        ┆ i64     │\n",
       "│            ┆        ┆ str         ┆ str         ┆   ┆ bool       ┆        ┆            ┆         │\n",
       "╞════════════╪════════╪═════════════╪═════════════╪═══╪════════════╪════════╪════════════╪═════════╡\n",
       "│ 17/04/2025 ┆ 1796   ┆ 12 06 38 15 ┆ 21 11 28 24 ┆ … ┆ false      ┆ 0      ┆ 04_06_03_2 ┆ -89     │\n",
       "│            ┆        ┆ 37 02       ┆ 32 20       ┆   ┆            ┆        ┆ 2_01       ┆         │\n",
       "│ 04/03/2025 ┆ 1777   ┆ 18 11 04 06 ┆ 40 25 08 27 ┆ … ┆ false      ┆ 0      ┆ 02_05_07_0 ┆ -4      │\n",
       "│            ┆        ┆ 26 30       ┆ 07 24       ┆   ┆            ┆        ┆ 8_04       ┆         │\n",
       "│ 04/03/2025 ┆ 1777   ┆ 18 11 04 06 ┆ 40 25 08 27 ┆ … ┆ false      ┆ 0      ┆ 02_05_07_0 ┆ -4      │\n",
       "│            ┆        ┆ 26 30       ┆ 07 24       ┆   ┆            ┆        ┆ 8_04       ┆         │\n",
       "│ 25/02/2025 ┆ 1774   ┆ 40 06 31 03 ┆ 36 37 07 14 ┆ … ┆ false      ┆ 0      ┆ 03_20_05_0 ┆ -43     │\n",
       "│            ┆        ┆ 26 32       ┆ 22 02       ┆   ┆            ┆        ┆ 1_08       ┆         │\n",
       "│ 25/02/2025 ┆ 1774   ┆ 40 06 31 03 ┆ 36 37 07 14 ┆ … ┆ false      ┆ 0      ┆ 03_20_05_0 ┆ -43     │\n",
       "│            ┆        ┆ 26 32       ┆ 22 02       ┆   ┆            ┆        ┆ 1_08       ┆         │\n",
       "│ 28/01/2025 ┆ 1762   ┆ 39 24 01 06 ┆ 20 13 22 37 ┆ … ┆ false      ┆ 0      ┆ 05_08_04_0 ┆ -12     │\n",
       "│            ┆        ┆ 14 18       ┆ 07 11       ┆   ┆            ┆        ┆ 6_15       ┆         │\n",
       "│ 28/01/2025 ┆ 1762   ┆ 39 24 01 06 ┆ 20 13 22 37 ┆ … ┆ false      ┆ 0      ┆ 05_08_04_0 ┆ -12     │\n",
       "│            ┆        ┆ 14 18       ┆ 07 11       ┆   ┆            ┆        ┆ 6_15       ┆         │\n",
       "│ 07/01/2025 ┆ 1753   ┆ 38 27 07 04 ┆ 36 33 40 01 ┆ … ┆ true       ┆ 24     ┆ 02_01_01_1 ┆ -61     │\n",
       "│            ┆        ┆ 08 06       ┆ 09 02       ┆   ┆            ┆        ┆ 9_11       ┆         │\n",
       "│ 07/01/2025 ┆ 1753   ┆ 38 27 07 04 ┆ 36 33 40 01 ┆ … ┆ true       ┆ 24     ┆ 02_01_01_1 ┆ -61     │\n",
       "│            ┆        ┆ 08 06       ┆ 09 02       ┆   ┆            ┆        ┆ 9_11       ┆         │\n",
       "│ 26/11/2024 ┆ 1735   ┆ 02 32 37 06 ┆ 04 18 29 31 ┆ … ┆ false      ┆ 0      ┆ 04_15_02_0 ┆ -75     │\n",
       "│            ┆        ┆ 23 21       ┆ 27 39       ┆   ┆            ┆        ┆ 9_05       ┆         │\n",
       "└────────────┴────────┴─────────────┴─────────────┴───┴────────────┴────────┴────────────┴─────────┘"
      ]
     },
     "metadata": {},
     "output_type": "display_data"
    },
    {
     "name": "stdout",
     "output_type": "stream",
     "text": [
      "df_jumps_map FOR str_b2 = 06\n"
     ]
    },
    {
     "data": {
      "text/html": [
       "<div><style>\n",
       ".dataframe > thead > tr,\n",
       ".dataframe > tbody > tr {\n",
       "  text-align: right;\n",
       "  white-space: pre-wrap;\n",
       "}\n",
       "</style>\n",
       "<small>shape: (193, 2)</small><table border=\"1\" class=\"dataframe\"><thead><tr><th>jumps_map</th><th>count</th></tr><tr><td>str</td><td>u32</td></tr></thead><tbody><tr><td>&quot;04_04_01_04_14&quot;</td><td>2</td></tr><tr><td>&quot;02_13_04_02_03&quot;</td><td>2</td></tr><tr><td>&quot;03_09_01_03_15&quot;</td><td>2</td></tr><tr><td>&quot;04_14_10_05_03&quot;</td><td>2</td></tr><tr><td>&quot;03_20_05_01_08&quot;</td><td>2</td></tr><tr><td>&hellip;</td><td>&hellip;</td></tr><tr><td>&quot;05_07_11_02_14&quot;</td><td>1</td></tr><tr><td>&quot;02_05_04_04_12&quot;</td><td>1</td></tr><tr><td>&quot;05_02_21_01_08&quot;</td><td>1</td></tr><tr><td>&quot;01_14_03_05_05&quot;</td><td>1</td></tr><tr><td>&quot;03_03_07_07_03&quot;</td><td>1</td></tr></tbody></table></div>"
      ],
      "text/plain": [
       "shape: (193, 2)\n",
       "┌────────────────┬───────┐\n",
       "│ jumps_map      ┆ count │\n",
       "│ ---            ┆ ---   │\n",
       "│ str            ┆ u32   │\n",
       "╞════════════════╪═══════╡\n",
       "│ 04_04_01_04_14 ┆ 2     │\n",
       "│ 02_13_04_02_03 ┆ 2     │\n",
       "│ 03_09_01_03_15 ┆ 2     │\n",
       "│ 04_14_10_05_03 ┆ 2     │\n",
       "│ 03_20_05_01_08 ┆ 2     │\n",
       "│ …              ┆ …     │\n",
       "│ 05_07_11_02_14 ┆ 1     │\n",
       "│ 02_05_04_04_12 ┆ 1     │\n",
       "│ 05_02_21_01_08 ┆ 1     │\n",
       "│ 01_14_03_05_05 ┆ 1     │\n",
       "│ 03_03_07_07_03 ┆ 1     │\n",
       "└────────────────┴───────┘"
      ]
     },
     "metadata": {},
     "output_type": "display_data"
    },
    {
     "name": "stdout",
     "output_type": "stream",
     "text": [
      "df_unijump FOR str_b2 = 06\n"
     ]
    },
    {
     "data": {
      "text/html": [
       "<div><style>\n",
       ".dataframe > thead > tr,\n",
       ".dataframe > tbody > tr {\n",
       "  text-align: right;\n",
       "  white-space: pre-wrap;\n",
       "}\n",
       "</style>\n",
       "<small>shape: (124, 2)</small><table border=\"1\" class=\"dataframe\"><thead><tr><th>unijump</th><th>count</th></tr><tr><td>i64</td><td>u32</td></tr></thead><tbody><tr><td>-15</td><td>7</td></tr><tr><td>-1</td><td>6</td></tr><tr><td>19</td><td>6</td></tr><tr><td>-49</td><td>6</td></tr><tr><td>0</td><td>6</td></tr><tr><td>&hellip;</td><td>&hellip;</td></tr><tr><td>-37</td><td>1</td></tr><tr><td>-23</td><td>1</td></tr><tr><td>-22</td><td>1</td></tr><tr><td>97</td><td>1</td></tr><tr><td>-93</td><td>1</td></tr></tbody></table></div>"
      ],
      "text/plain": [
       "shape: (124, 2)\n",
       "┌─────────┬───────┐\n",
       "│ unijump ┆ count │\n",
       "│ ---     ┆ ---   │\n",
       "│ i64     ┆ u32   │\n",
       "╞═════════╪═══════╡\n",
       "│ -15     ┆ 7     │\n",
       "│ -1      ┆ 6     │\n",
       "│ 19      ┆ 6     │\n",
       "│ -49     ┆ 6     │\n",
       "│ 0       ┆ 6     │\n",
       "│ …       ┆ …     │\n",
       "│ -37     ┆ 1     │\n",
       "│ -23     ┆ 1     │\n",
       "│ -22     ┆ 1     │\n",
       "│ 97      ┆ 1     │\n",
       "│ -93     ┆ 1     │\n",
       "└─────────┴───────┘"
      ]
     },
     "metadata": {},
     "output_type": "display_data"
    }
   ],
   "source": [
    "possible_b2, exclude_jump_maps_b2, last_post_b2 = plot_post_col(col='str_b2', post_col='post_str_b2')"
   ]
  },
  {
   "cell_type": "code",
   "execution_count": 18,
   "metadata": {},
   "outputs": [
    {
     "name": "stdout",
     "output_type": "stream",
     "text": [
      "Setting test_value='12'\n",
      "df_viz FOR str_b3 = 12\n"
     ]
    },
    {
     "data": {
      "text/html": [
       "<div><style>\n",
       ".dataframe > thead > tr,\n",
       ".dataframe > tbody > tr {\n",
       "  text-align: right;\n",
       "  white-space: pre-wrap;\n",
       "}\n",
       "</style>\n",
       "<small>shape: (29, 3)</small><table border=\"1\" class=\"dataframe\"><thead><tr><th>post_str_b3</th><th>count</th><th>percent</th></tr><tr><td>str</td><td>u32</td><td>f64</td></tr></thead><tbody><tr><td>&quot;12&quot;</td><td>75</td><td>35.377358</td></tr><tr><td>&quot;20&quot;</td><td>13</td><td>6.132075</td></tr><tr><td>&quot;15&quot;</td><td>11</td><td>5.188679</td></tr><tr><td>&quot;21&quot;</td><td>11</td><td>5.188679</td></tr><tr><td>&quot;17&quot;</td><td>11</td><td>5.188679</td></tr><tr><td>&hellip;</td><td>&hellip;</td><td>&hellip;</td></tr><tr><td>&quot;03&quot;</td><td>1</td><td>0.471698</td></tr><tr><td>&quot;07&quot;</td><td>1</td><td>0.471698</td></tr><tr><td>&quot;05&quot;</td><td>1</td><td>0.471698</td></tr><tr><td>&quot;32&quot;</td><td>1</td><td>0.471698</td></tr><tr><td>&quot;31&quot;</td><td>1</td><td>0.471698</td></tr></tbody></table></div>"
      ],
      "text/plain": [
       "shape: (29, 3)\n",
       "┌─────────────┬───────┬───────────┐\n",
       "│ post_str_b3 ┆ count ┆ percent   │\n",
       "│ ---         ┆ ---   ┆ ---       │\n",
       "│ str         ┆ u32   ┆ f64       │\n",
       "╞═════════════╪═══════╪═══════════╡\n",
       "│ 12          ┆ 75    ┆ 35.377358 │\n",
       "│ 20          ┆ 13    ┆ 6.132075  │\n",
       "│ 15          ┆ 11    ┆ 5.188679  │\n",
       "│ 21          ┆ 11    ┆ 5.188679  │\n",
       "│ 17          ┆ 11    ┆ 5.188679  │\n",
       "│ …           ┆ …     ┆ …         │\n",
       "│ 03          ┆ 1     ┆ 0.471698  │\n",
       "│ 07          ┆ 1     ┆ 0.471698  │\n",
       "│ 05          ┆ 1     ┆ 0.471698  │\n",
       "│ 32          ┆ 1     ┆ 0.471698  │\n",
       "│ 31          ┆ 1     ┆ 0.471698  │\n",
       "└─────────────┴───────┴───────────┘"
      ]
     },
     "metadata": {},
     "output_type": "display_data"
    },
    {
     "data": {},
     "metadata": {},
     "output_type": "display_data"
    },
    {
     "data": {
      "application/vnd.holoviews_exec.v0+json": "",
      "text/html": [
       "<div id='5c2500ad-c5ba-4b7f-aa73-2c593d97b04e'>\n",
       "  <div id=\"e9c5b80d-9371-4155-bac3-efb03e92936e\" data-root-id=\"5c2500ad-c5ba-4b7f-aa73-2c593d97b04e\" style=\"display: contents;\"></div>\n",
       "</div>\n",
       "<script type=\"application/javascript\">(function(root) {\n",
       "  var docs_json = {\"7ac97413-9bb6-4d22-a13f-1983d64ea79f\":{\"version\":\"3.7.2\",\"title\":\"Bokeh Application\",\"roots\":[{\"type\":\"object\",\"name\":\"Row\",\"id\":\"5c2500ad-c5ba-4b7f-aa73-2c593d97b04e\",\"attributes\":{\"name\":\"Row00428\",\"tags\":[\"embedded\"],\"stylesheets\":[\"\\n:host(.pn-loading):before, .pn-loading:before {\\n  background-color: #c3c3c3;\\n  mask-size: auto calc(min(50%, 400px));\\n  -webkit-mask-size: auto calc(min(50%, 400px));\\n}\",{\"type\":\"object\",\"name\":\"ImportedStyleSheet\",\"id\":\"54d28436-eca1-4920-bd66-6e9009ead095\",\"attributes\":{\"url\":\"https://cdn.holoviz.org/panel/1.6.2/dist/css/loading.css\"}},{\"type\":\"object\",\"name\":\"ImportedStyleSheet\",\"id\":\"bcfbc94f-1470-4edb-b986-de095961e076\",\"attributes\":{\"url\":\"https://cdn.holoviz.org/panel/1.6.2/dist/css/listpanel.css\"}},{\"type\":\"object\",\"name\":\"ImportedStyleSheet\",\"id\":\"10fab61a-c56b-4e08-beec-da2490cbf721\",\"attributes\":{\"url\":\"https://cdn.holoviz.org/panel/1.6.2/dist/bundled/theme/default.css\"}},{\"type\":\"object\",\"name\":\"ImportedStyleSheet\",\"id\":\"acf08635-78ce-4a3d-b735-f8fd7cf6b882\",\"attributes\":{\"url\":\"https://cdn.holoviz.org/panel/1.6.2/dist/bundled/theme/native.css\"}}],\"min_width\":700,\"margin\":0,\"sizing_mode\":\"stretch_width\",\"align\":\"start\",\"children\":[{\"type\":\"object\",\"name\":\"Spacer\",\"id\":\"3ec0f5f1-aad3-44b3-915f-93de88a79c90\",\"attributes\":{\"name\":\"HSpacer00432\",\"stylesheets\":[\"\\n:host(.pn-loading):before, .pn-loading:before {\\n  background-color: #c3c3c3;\\n  mask-size: auto calc(min(50%, 400px));\\n  -webkit-mask-size: auto calc(min(50%, 400px));\\n}\",{\"id\":\"54d28436-eca1-4920-bd66-6e9009ead095\"},{\"id\":\"10fab61a-c56b-4e08-beec-da2490cbf721\"},{\"id\":\"acf08635-78ce-4a3d-b735-f8fd7cf6b882\"}],\"margin\":0,\"sizing_mode\":\"stretch_width\",\"align\":\"start\"}},{\"type\":\"object\",\"name\":\"Figure\",\"id\":\"78dd1161-22ed-4dc8-9217-605d7c867a2a\",\"attributes\":{\"width\":700,\"height\":300,\"margin\":[5,10],\"sizing_mode\":\"fixed\",\"align\":\"start\",\"x_range\":{\"type\":\"object\",\"name\":\"FactorRange\",\"id\":\"e662d613-d4b8-441f-ac26-954d140fecd0\",\"attributes\":{\"name\":\"post_str_b3\",\"tags\":[[[\"post_str_b3\",null]],[]],\"factors\":[\"12\",\"20\",\"15\",\"21\",\"17\",\"19\",\"25\",\"18\",\"09\",\"22\",\"16\",\"29\",\"06\",\"14\",\"27\",\"24\",\"26\",\"11\",\"28\",\"13\",\"08\",\"04\",\"33\",\"10\",\"03\",\"07\",\"05\",\"32\",\"31\"]}},\"y_range\":{\"type\":\"object\",\"name\":\"Range1d\",\"id\":\"3d1587f1-0b45-4a50-8627-ff9cfb17ac93\",\"attributes\":{\"name\":\"percent\",\"tags\":[[[\"percent\",null]],{\"type\":\"map\",\"entries\":[[\"invert_yaxis\",false],[\"autorange\",false]]}],\"end\":38.867924528301884,\"reset_start\":0.0,\"reset_end\":38.867924528301884}},\"x_scale\":{\"type\":\"object\",\"name\":\"CategoricalScale\",\"id\":\"fbae6c0c-94a5-43df-864b-b342cb7061d1\"},\"y_scale\":{\"type\":\"object\",\"name\":\"LinearScale\",\"id\":\"38eab913-ec97-442b-b135-5db8446e7cc1\"},\"title\":{\"type\":\"object\",\"name\":\"Title\",\"id\":\"1f177a96-a133-49da-95a3-6975f7ff4ae5\",\"attributes\":{\"text_color\":\"black\",\"text_font_size\":\"12pt\"}},\"renderers\":[{\"type\":\"object\",\"name\":\"GlyphRenderer\",\"id\":\"e3fa5a53-a389-40e8-a540-7c94723672f3\",\"attributes\":{\"data_source\":{\"type\":\"object\",\"name\":\"ColumnDataSource\",\"id\":\"e6e11dd6-956e-412b-8662-aed30738a74b\",\"attributes\":{\"selected\":{\"type\":\"object\",\"name\":\"Selection\",\"id\":\"19cb5ee6-274e-4b56-bc34-924f0294c6b0\",\"attributes\":{\"indices\":[],\"line_indices\":[]}},\"selection_policy\":{\"type\":\"object\",\"name\":\"UnionRenderers\",\"id\":\"af8accab-54c2-4697-88ce-0401c722642e\"},\"data\":{\"type\":\"map\",\"entries\":[[\"post_str_b3\",[\"12\",\"20\",\"15\",\"21\",\"17\",\"19\",\"25\",\"18\",\"09\",\"22\",\"16\",\"29\",\"06\",\"14\",\"27\",\"24\",\"26\",\"11\",\"28\",\"13\",\"08\",\"04\",\"33\",\"10\",\"03\",\"07\",\"05\",\"32\",\"31\"]],[\"percent\",{\"type\":\"ndarray\",\"array\":{\"type\":\"bytes\",\"data\":\"ruxzSE2wQUBNMN7KPocYQLeyzyE1wRRAt7LPITXBFEC3ss8hNcEUQCI1wXgr+xBAruxzSE0wDkCu7HNITTAOQBhvZZ9DagpAGG9ln0NqCkAYb2WfQ2oKQOxzSE0w3gJAruxzSE0w/j+u7HNITTD+P67sc0hNMP4/g/FW9jmk9j+D8Vb2OaT2P4PxVvY5pPY/g/FW9jmk9j+D8Vb2OaT2P4PxVvY5pPY/ruxzSE0w7j+u7HNITTDuP67sc0hNMN4/ruxzSE0w3j+u7HNITTDeP67sc0hNMN4/ruxzSE0w3j+u7HNITTDePw==\"},\"shape\":[29],\"dtype\":\"float64\",\"order\":\"little\"}]]}}},\"view\":{\"type\":\"object\",\"name\":\"CDSView\",\"id\":\"7c7c1c58-1b82-4df3-a5c1-1134136c2070\",\"attributes\":{\"filter\":{\"type\":\"object\",\"name\":\"AllIndices\",\"id\":\"85e06186-1213-4b8a-b244-fcf97cc84b3a\"}}},\"glyph\":{\"type\":\"object\",\"name\":\"VBar\",\"id\":\"c1702154-a81a-436d-868f-578046d944dc\",\"attributes\":{\"tags\":[\"apply_ranges\"],\"x\":{\"type\":\"field\",\"field\":\"post_str_b3\"},\"width\":{\"type\":\"value\",\"value\":0.8},\"top\":{\"type\":\"field\",\"field\":\"percent\"},\"fill_color\":{\"type\":\"value\",\"value\":\"#30a2da\"},\"hatch_color\":{\"type\":\"value\",\"value\":\"#30a2da\"}}},\"selection_glyph\":{\"type\":\"object\",\"name\":\"VBar\",\"id\":\"ceb280d5-f2bf-42b0-ab4f-305ae6b1881f\",\"attributes\":{\"tags\":[\"apply_ranges\"],\"x\":{\"type\":\"field\",\"field\":\"post_str_b3\"},\"width\":{\"type\":\"value\",\"value\":0.8},\"bottom\":{\"type\":\"value\",\"value\":0},\"top\":{\"type\":\"field\",\"field\":\"percent\"},\"line_color\":{\"type\":\"value\",\"value\":\"black\"},\"line_alpha\":{\"type\":\"value\",\"value\":1.0},\"line_width\":{\"type\":\"value\",\"value\":1},\"line_join\":{\"type\":\"value\",\"value\":\"bevel\"},\"line_cap\":{\"type\":\"value\",\"value\":\"butt\"},\"line_dash\":{\"type\":\"value\",\"value\":[]},\"line_dash_offset\":{\"type\":\"value\",\"value\":0},\"fill_color\":{\"type\":\"value\",\"value\":\"#30a2da\"},\"fill_alpha\":{\"type\":\"value\",\"value\":1.0},\"hatch_color\":{\"type\":\"value\",\"value\":\"#30a2da\"},\"hatch_alpha\":{\"type\":\"value\",\"value\":1.0},\"hatch_scale\":{\"type\":\"value\",\"value\":12.0},\"hatch_pattern\":{\"type\":\"value\",\"value\":null},\"hatch_weight\":{\"type\":\"value\",\"value\":1.0}}},\"nonselection_glyph\":{\"type\":\"object\",\"name\":\"VBar\",\"id\":\"a878b2bd-50a8-4808-8a5a-76c66c0c8a58\",\"attributes\":{\"tags\":[\"apply_ranges\"],\"x\":{\"type\":\"field\",\"field\":\"post_str_b3\"},\"width\":{\"type\":\"value\",\"value\":0.8},\"top\":{\"type\":\"field\",\"field\":\"percent\"},\"line_alpha\":{\"type\":\"value\",\"value\":0.1},\"fill_color\":{\"type\":\"value\",\"value\":\"#30a2da\"},\"fill_alpha\":{\"type\":\"value\",\"value\":0.1},\"hatch_color\":{\"type\":\"value\",\"value\":\"#30a2da\"},\"hatch_alpha\":{\"type\":\"value\",\"value\":0.1}}},\"muted_glyph\":{\"type\":\"object\",\"name\":\"VBar\",\"id\":\"f7aedb82-5e3c-4aad-b460-c210f5fdae1b\",\"attributes\":{\"tags\":[\"apply_ranges\"],\"x\":{\"type\":\"field\",\"field\":\"post_str_b3\"},\"width\":{\"type\":\"value\",\"value\":0.8},\"top\":{\"type\":\"field\",\"field\":\"percent\"},\"line_alpha\":{\"type\":\"value\",\"value\":0.2},\"fill_color\":{\"type\":\"value\",\"value\":\"#30a2da\"},\"fill_alpha\":{\"type\":\"value\",\"value\":0.2},\"hatch_color\":{\"type\":\"value\",\"value\":\"#30a2da\"},\"hatch_alpha\":{\"type\":\"value\",\"value\":0.2}}}}},{\"type\":\"object\",\"name\":\"Span\",\"id\":\"e77e8566-a0bf-4499-8c42-30879794e690\",\"attributes\":{\"level\":\"glyph\",\"location\":3.4482758620689666,\"line_color\":\"red\",\"line_width\":3}},{\"type\":\"object\",\"name\":\"Span\",\"id\":\"c7031f78-6aae-402e-a19f-06774cc071aa\",\"attributes\":{\"level\":\"glyph\",\"location\":5.17241379310345,\"line_color\":\"blue\",\"line_width\":3}},{\"type\":\"object\",\"name\":\"Span\",\"id\":\"82c8c8a7-7063-4e6f-9155-16e0f2fafbdd\",\"attributes\":{\"level\":\"glyph\",\"location\":1.7241379310344833,\"line_color\":\"blue\",\"line_width\":3}}],\"toolbar\":{\"type\":\"object\",\"name\":\"Toolbar\",\"id\":\"77c9a4c0-215a-4c2f-9860-2dcd69c7c575\",\"attributes\":{\"tools\":[{\"type\":\"object\",\"name\":\"WheelZoomTool\",\"id\":\"640603a0-d3e2-457d-93ea-e949c1e282bc\",\"attributes\":{\"tags\":[\"hv_created\"],\"renderers\":\"auto\",\"zoom_together\":\"none\"}},{\"type\":\"object\",\"name\":\"HoverTool\",\"id\":\"c2e88c35-19cb-4252-82a0-48863639ae1c\",\"attributes\":{\"tags\":[\"hv_created\"],\"renderers\":[{\"id\":\"e3fa5a53-a389-40e8-a540-7c94723672f3\"}],\"tooltips\":[[\"post_str_b3\",\"@{post_str_b3}\"],[\"percent\",\"@{percent}\"]]}},{\"type\":\"object\",\"name\":\"SaveTool\",\"id\":\"15d7608c-f08f-4c85-9e34-017cf3c30e7c\"},{\"type\":\"object\",\"name\":\"PanTool\",\"id\":\"4a8fd2d4-b06a-4bad-aaae-842789a5389e\"},{\"type\":\"object\",\"name\":\"BoxZoomTool\",\"id\":\"a53c818d-a5dc-4219-b070-fea78bfcfb17\",\"attributes\":{\"dimensions\":\"both\",\"overlay\":{\"type\":\"object\",\"name\":\"BoxAnnotation\",\"id\":\"1bddedf1-09ae-457d-a4f1-2d4f1b6f8bc3\",\"attributes\":{\"syncable\":false,\"line_color\":\"black\",\"line_alpha\":1.0,\"line_width\":2,\"line_dash\":[4,4],\"fill_color\":\"lightgrey\",\"fill_alpha\":0.5,\"level\":\"overlay\",\"visible\":false,\"left\":{\"type\":\"number\",\"value\":\"nan\"},\"right\":{\"type\":\"number\",\"value\":\"nan\"},\"top\":{\"type\":\"number\",\"value\":\"nan\"},\"bottom\":{\"type\":\"number\",\"value\":\"nan\"},\"left_units\":\"canvas\",\"right_units\":\"canvas\",\"top_units\":\"canvas\",\"bottom_units\":\"canvas\",\"handles\":{\"type\":\"object\",\"name\":\"BoxInteractionHandles\",\"id\":\"554267ea-e875-49f6-8b6d-4b2fb6e8f5d5\",\"attributes\":{\"all\":{\"type\":\"object\",\"name\":\"AreaVisuals\",\"id\":\"66c46559-944d-4497-817c-49c95f335ec6\",\"attributes\":{\"fill_color\":\"white\",\"hover_fill_color\":\"lightgray\"}}}}}}}},{\"type\":\"object\",\"name\":\"ResetTool\",\"id\":\"b241fef6-67b3-4768-97a1-8cbc898f11e1\"}],\"active_drag\":{\"id\":\"4a8fd2d4-b06a-4bad-aaae-842789a5389e\"}}},\"left\":[{\"type\":\"object\",\"name\":\"LinearAxis\",\"id\":\"a2517bd9-889c-4484-b506-57d98f5ebaae\",\"attributes\":{\"ticker\":{\"type\":\"object\",\"name\":\"BasicTicker\",\"id\":\"b159ea99-98eb-435c-852c-8be82c60c8d1\",\"attributes\":{\"mantissas\":[1,2,5]}},\"formatter\":{\"type\":\"object\",\"name\":\"BasicTickFormatter\",\"id\":\"3d6ad4ad-8cfe-405f-a1d7-3f3b43f29469\"},\"axis_label\":\"percent\",\"major_label_policy\":{\"type\":\"object\",\"name\":\"AllLabels\",\"id\":\"b4c63754-9758-4c7d-a7cc-5c963538837c\"}}}],\"below\":[{\"type\":\"object\",\"name\":\"CategoricalAxis\",\"id\":\"4d177e99-d259-43d3-af0b-aee861bbb7ef\",\"attributes\":{\"ticker\":{\"type\":\"object\",\"name\":\"CategoricalTicker\",\"id\":\"ca5bfca4-2bbc-42d5-aa1e-d417bfba4bc3\"},\"formatter\":{\"type\":\"object\",\"name\":\"CategoricalTickFormatter\",\"id\":\"2ab2a5e1-53bf-4fbb-97a5-2fe5b9c2dc5a\"},\"axis_label\":\"post_str_b3\",\"major_label_policy\":{\"type\":\"object\",\"name\":\"AllLabels\",\"id\":\"7a2a528e-f19f-427b-b2e7-7a7c653a2f9a\"}}}],\"center\":[{\"type\":\"object\",\"name\":\"Grid\",\"id\":\"d08f25a2-65d5-405b-93ef-fe790e6ed257\",\"attributes\":{\"axis\":{\"id\":\"4d177e99-d259-43d3-af0b-aee861bbb7ef\"},\"grid_line_color\":null}},{\"type\":\"object\",\"name\":\"Grid\",\"id\":\"825eb3cf-6310-42c8-aaec-a6805d05b7e7\",\"attributes\":{\"dimension\":1,\"axis\":{\"id\":\"a2517bd9-889c-4484-b506-57d98f5ebaae\"},\"grid_line_color\":null}}],\"min_border_top\":10,\"min_border_bottom\":10,\"min_border_left\":10,\"min_border_right\":10,\"output_backend\":\"webgl\"}},{\"type\":\"object\",\"name\":\"Spacer\",\"id\":\"bf85a0a8-b788-4cc7-be96-ec084dc91b2c\",\"attributes\":{\"name\":\"HSpacer00433\",\"stylesheets\":[\"\\n:host(.pn-loading):before, .pn-loading:before {\\n  background-color: #c3c3c3;\\n  mask-size: auto calc(min(50%, 400px));\\n  -webkit-mask-size: auto calc(min(50%, 400px));\\n}\",{\"id\":\"54d28436-eca1-4920-bd66-6e9009ead095\"},{\"id\":\"10fab61a-c56b-4e08-beec-da2490cbf721\"},{\"id\":\"acf08635-78ce-4a3d-b735-f8fd7cf6b882\"}],\"margin\":0,\"sizing_mode\":\"stretch_width\",\"align\":\"start\"}}]}}],\"defs\":[{\"type\":\"model\",\"name\":\"ReactiveHTML1\"},{\"type\":\"model\",\"name\":\"FlexBox1\",\"properties\":[{\"name\":\"align_content\",\"kind\":\"Any\",\"default\":\"flex-start\"},{\"name\":\"align_items\",\"kind\":\"Any\",\"default\":\"flex-start\"},{\"name\":\"flex_direction\",\"kind\":\"Any\",\"default\":\"row\"},{\"name\":\"flex_wrap\",\"kind\":\"Any\",\"default\":\"wrap\"},{\"name\":\"gap\",\"kind\":\"Any\",\"default\":\"\"},{\"name\":\"justify_content\",\"kind\":\"Any\",\"default\":\"flex-start\"}]},{\"type\":\"model\",\"name\":\"FloatPanel1\",\"properties\":[{\"name\":\"config\",\"kind\":\"Any\",\"default\":{\"type\":\"map\"}},{\"name\":\"contained\",\"kind\":\"Any\",\"default\":true},{\"name\":\"position\",\"kind\":\"Any\",\"default\":\"right-top\"},{\"name\":\"offsetx\",\"kind\":\"Any\",\"default\":null},{\"name\":\"offsety\",\"kind\":\"Any\",\"default\":null},{\"name\":\"theme\",\"kind\":\"Any\",\"default\":\"primary\"},{\"name\":\"status\",\"kind\":\"Any\",\"default\":\"normalized\"}]},{\"type\":\"model\",\"name\":\"GridStack1\",\"properties\":[{\"name\":\"ncols\",\"kind\":\"Any\",\"default\":null},{\"name\":\"nrows\",\"kind\":\"Any\",\"default\":null},{\"name\":\"allow_resize\",\"kind\":\"Any\",\"default\":true},{\"name\":\"allow_drag\",\"kind\":\"Any\",\"default\":true},{\"name\":\"state\",\"kind\":\"Any\",\"default\":[]}]},{\"type\":\"model\",\"name\":\"drag1\",\"properties\":[{\"name\":\"slider_width\",\"kind\":\"Any\",\"default\":5},{\"name\":\"slider_color\",\"kind\":\"Any\",\"default\":\"black\"},{\"name\":\"value\",\"kind\":\"Any\",\"default\":50}]},{\"type\":\"model\",\"name\":\"click1\",\"properties\":[{\"name\":\"terminal_output\",\"kind\":\"Any\",\"default\":\"\"},{\"name\":\"debug_name\",\"kind\":\"Any\",\"default\":\"\"},{\"name\":\"clears\",\"kind\":\"Any\",\"default\":0}]},{\"type\":\"model\",\"name\":\"FastWrapper1\",\"properties\":[{\"name\":\"object\",\"kind\":\"Any\",\"default\":null},{\"name\":\"style\",\"kind\":\"Any\",\"default\":null}]},{\"type\":\"model\",\"name\":\"NotificationArea1\",\"properties\":[{\"name\":\"js_events\",\"kind\":\"Any\",\"default\":{\"type\":\"map\"}},{\"name\":\"max_notifications\",\"kind\":\"Any\",\"default\":5},{\"name\":\"notifications\",\"kind\":\"Any\",\"default\":[]},{\"name\":\"position\",\"kind\":\"Any\",\"default\":\"bottom-right\"},{\"name\":\"_clear\",\"kind\":\"Any\",\"default\":0},{\"name\":\"types\",\"kind\":\"Any\",\"default\":[{\"type\":\"map\",\"entries\":[[\"type\",\"warning\"],[\"background\",\"#ffc107\"],[\"icon\",{\"type\":\"map\",\"entries\":[[\"className\",\"fas fa-exclamation-triangle\"],[\"tagName\",\"i\"],[\"color\",\"white\"]]}]]},{\"type\":\"map\",\"entries\":[[\"type\",\"info\"],[\"background\",\"#007bff\"],[\"icon\",{\"type\":\"map\",\"entries\":[[\"className\",\"fas fa-info-circle\"],[\"tagName\",\"i\"],[\"color\",\"white\"]]}]]}]}]},{\"type\":\"model\",\"name\":\"Notification\",\"properties\":[{\"name\":\"background\",\"kind\":\"Any\",\"default\":null},{\"name\":\"duration\",\"kind\":\"Any\",\"default\":3000},{\"name\":\"icon\",\"kind\":\"Any\",\"default\":null},{\"name\":\"message\",\"kind\":\"Any\",\"default\":\"\"},{\"name\":\"notification_type\",\"kind\":\"Any\",\"default\":null},{\"name\":\"_rendered\",\"kind\":\"Any\",\"default\":false},{\"name\":\"_destroyed\",\"kind\":\"Any\",\"default\":false}]},{\"type\":\"model\",\"name\":\"TemplateActions1\",\"properties\":[{\"name\":\"open_modal\",\"kind\":\"Any\",\"default\":0},{\"name\":\"close_modal\",\"kind\":\"Any\",\"default\":0}]},{\"type\":\"model\",\"name\":\"BootstrapTemplateActions1\",\"properties\":[{\"name\":\"open_modal\",\"kind\":\"Any\",\"default\":0},{\"name\":\"close_modal\",\"kind\":\"Any\",\"default\":0}]},{\"type\":\"model\",\"name\":\"TemplateEditor1\",\"properties\":[{\"name\":\"layout\",\"kind\":\"Any\",\"default\":[]}]},{\"type\":\"model\",\"name\":\"MaterialTemplateActions1\",\"properties\":[{\"name\":\"open_modal\",\"kind\":\"Any\",\"default\":0},{\"name\":\"close_modal\",\"kind\":\"Any\",\"default\":0}]},{\"type\":\"model\",\"name\":\"ReactiveESM1\",\"properties\":[{\"name\":\"esm_constants\",\"kind\":\"Any\",\"default\":{\"type\":\"map\"}}]},{\"type\":\"model\",\"name\":\"JSComponent1\",\"properties\":[{\"name\":\"esm_constants\",\"kind\":\"Any\",\"default\":{\"type\":\"map\"}}]},{\"type\":\"model\",\"name\":\"ReactComponent1\",\"properties\":[{\"name\":\"esm_constants\",\"kind\":\"Any\",\"default\":{\"type\":\"map\"}}]},{\"type\":\"model\",\"name\":\"AnyWidgetComponent1\",\"properties\":[{\"name\":\"esm_constants\",\"kind\":\"Any\",\"default\":{\"type\":\"map\"}}]},{\"type\":\"model\",\"name\":\"request_value1\",\"properties\":[{\"name\":\"fill\",\"kind\":\"Any\",\"default\":\"none\"},{\"name\":\"_synced\",\"kind\":\"Any\",\"default\":null},{\"name\":\"_request_sync\",\"kind\":\"Any\",\"default\":0}]}]}};\n",
       "  var render_items = [{\"docid\":\"7ac97413-9bb6-4d22-a13f-1983d64ea79f\",\"roots\":{\"5c2500ad-c5ba-4b7f-aa73-2c593d97b04e\":\"e9c5b80d-9371-4155-bac3-efb03e92936e\"},\"root_ids\":[\"5c2500ad-c5ba-4b7f-aa73-2c593d97b04e\"]}];\n",
       "  var docs = Object.values(docs_json)\n",
       "  if (!docs) {\n",
       "    return\n",
       "  }\n",
       "  const py_version = docs[0].version.replace('rc', '-rc.').replace('.dev', '-dev.')\n",
       "  async function embed_document(root) {\n",
       "    var Bokeh = get_bokeh(root)\n",
       "    await Bokeh.embed.embed_items_notebook(docs_json, render_items);\n",
       "    for (const render_item of render_items) {\n",
       "      for (const root_id of render_item.root_ids) {\n",
       "\tconst id_el = document.getElementById(root_id)\n",
       "\tif (id_el.children.length && id_el.children[0].hasAttribute('data-root-id')) {\n",
       "\t  const root_el = id_el.children[0]\n",
       "\t  root_el.id = root_el.id + '-rendered'\n",
       "\t  for (const child of root_el.children) {\n",
       "            // Ensure JupyterLab does not capture keyboard shortcuts\n",
       "            // see: https://jupyterlab.readthedocs.io/en/4.1.x/extension/notebook.html#keyboard-interaction-model\n",
       "\t    child.setAttribute('data-lm-suppress-shortcuts', 'true')\n",
       "\t  }\n",
       "\t}\n",
       "      }\n",
       "    }\n",
       "  }\n",
       "  function get_bokeh(root) {\n",
       "    if (root.Bokeh === undefined) {\n",
       "      return null\n",
       "    } else if (root.Bokeh.version !== py_version) {\n",
       "      if (root.Bokeh.versions === undefined || !root.Bokeh.versions.has(py_version)) {\n",
       "\treturn null\n",
       "      }\n",
       "      return root.Bokeh.versions.get(py_version);\n",
       "    } else if (root.Bokeh.version === py_version) {\n",
       "      return root.Bokeh\n",
       "    }\n",
       "    return null\n",
       "  }\n",
       "  function is_loaded(root) {\n",
       "    var Bokeh = get_bokeh(root)\n",
       "    return (Bokeh != null && Bokeh.Panel !== undefined)\n",
       "  }\n",
       "  if (is_loaded(root)) {\n",
       "    embed_document(root);\n",
       "  } else {\n",
       "    var attempts = 0;\n",
       "    var timer = setInterval(function(root) {\n",
       "      if (is_loaded(root)) {\n",
       "        clearInterval(timer);\n",
       "        embed_document(root);\n",
       "      } else if (document.readyState == \"complete\") {\n",
       "        attempts++;\n",
       "        if (attempts > 200) {\n",
       "          clearInterval(timer);\n",
       "\t  var Bokeh = get_bokeh(root)\n",
       "\t  if (Bokeh == null || Bokeh.Panel == null) {\n",
       "            console.warn(\"Panel: ERROR: Unable to run Panel code because Bokeh or Panel library is missing\");\n",
       "\t  } else {\n",
       "\t    console.warn(\"Panel: WARNING: Attempting to render but not all required libraries could be resolved.\")\n",
       "\t    embed_document(root)\n",
       "\t  }\n",
       "        }\n",
       "      }\n",
       "    }, 25, root)\n",
       "  }\n",
       "})(window);</script>"
      ],
      "text/plain": [
       ":Overlay\n",
       "   .Bars.I    :Bars   [post_str_b3]   (percent)\n",
       "   .HLine.I   :HLine   [x,y]\n",
       "   .HLine.II  :HLine   [x,y]\n",
       "   .HLine.III :HLine   [x,y]"
      ]
     },
     "metadata": {
      "application/vnd.holoviews_exec.v0+json": {
       "id": "5c2500ad-c5ba-4b7f-aa73-2c593d97b04e"
      }
     },
     "output_type": "display_data"
    },
    {
     "name": "stdout",
     "output_type": "stream",
     "text": [
      "df_10_last FOR str_b3 = 12\n",
      "Last 3 results last_results=['19', '12']\n"
     ]
    },
    {
     "data": {
      "text/html": [
       "<div><style>\n",
       ".dataframe > thead > tr,\n",
       ".dataframe > tbody > tr {\n",
       "  text-align: right;\n",
       "  white-space: pre-wrap;\n",
       "}\n",
       "</style>\n",
       "<small>shape: (10, 30)</small><table border=\"1\" class=\"dataframe\"><thead><tr><th>fecha</th><th>sorteo</th><th>bolillas regulares</th><th>bolillas chauchamba</th><th>cc1</th><th>cc2</th><th>id</th><th>combo</th><th>b1</th><th>b2</th><th>b3</th><th>b4</th><th>b5</th><th>b6</th><th>str_b1</th><th>str_b2</th><th>str_b3</th><th>str_b4</th><th>str_b5</th><th>str_b6</th><th>post_str_b1</th><th>post_str_b2</th><th>post_str_b3</th><th>post_str_b4</th><th>post_str_b5</th><th>post_str_blast</th><th>is_rare_combination</th><th>reason</th><th>jumps_map</th><th>unijump</th></tr><tr><td>str</td><td>str</td><td>str</td><td>str</td><td>str</td><td>str</td><td>str</td><td>array[u8, 6]</td><td>u8</td><td>u8</td><td>u8</td><td>u8</td><td>u8</td><td>u8</td><td>str</td><td>str</td><td>str</td><td>str</td><td>str</td><td>str</td><td>str</td><td>str</td><td>str</td><td>str</td><td>str</td><td>str</td><td>bool</td><td>u8</td><td>str</td><td>i64</td></tr></thead><tbody><tr><td>&quot;17/04/2025&quot;</td><td>&quot;1796&quot;</td><td>&quot;12 06 38 15 37 02&quot;</td><td>&quot;21 11 28 24 32 20&quot;</td><td>&quot;&quot;</td><td>&quot;&quot;</td><td>&quot;020612153738&quot;</td><td>[2, 6, … 38]</td><td>2</td><td>6</td><td>12</td><td>15</td><td>37</td><td>38</td><td>&quot;02&quot;</td><td>&quot;06&quot;</td><td>&quot;12&quot;</td><td>&quot;15&quot;</td><td>&quot;37&quot;</td><td>&quot;38&quot;</td><td>&quot;02&quot;</td><td>&quot;06&quot;</td><td>&quot;12&quot;</td><td>&quot;15&quot;</td><td>&quot;37&quot;</td><td>&quot;38&quot;</td><td>false</td><td>0</td><td>&quot;04_06_03_22_01&quot;</td><td>-89</td></tr><tr><td>&quot;11/03/2025&quot;</td><td>&quot;1780&quot;</td><td>&quot;15 12 34 10 06 39&quot;</td><td>&quot;10 27 16 07 02 40&quot;</td><td>&quot;&quot;</td><td>&quot;&quot;</td><td>&quot;061012153439&quot;</td><td>[6, 10, … 39]</td><td>6</td><td>10</td><td>12</td><td>15</td><td>34</td><td>39</td><td>&quot;06&quot;</td><td>&quot;10&quot;</td><td>&quot;12&quot;</td><td>&quot;15&quot;</td><td>&quot;34&quot;</td><td>&quot;39&quot;</td><td>&quot;06&quot;</td><td>&quot;07&quot;</td><td>&quot;19&quot;</td><td>&quot;21&quot;</td><td>&quot;28&quot;</td><td>&quot;40&quot;</td><td>false</td><td>0</td><td>&quot;04_02_03_19_05&quot;</td><td>-57</td></tr><tr><td>&quot;11/03/2025&quot;</td><td>&quot;1780&quot;</td><td>&quot;15 12 34 10 06 39&quot;</td><td>&quot;10 27 16 07 02 40&quot;</td><td>&quot;&quot;</td><td>&quot;&quot;</td><td>&quot;061012153439&quot;</td><td>[6, 10, … 39]</td><td>6</td><td>10</td><td>12</td><td>15</td><td>34</td><td>39</td><td>&quot;06&quot;</td><td>&quot;10&quot;</td><td>&quot;12&quot;</td><td>&quot;15&quot;</td><td>&quot;34&quot;</td><td>&quot;39&quot;</td><td>&quot;06&quot;</td><td>&quot;10&quot;</td><td>&quot;12&quot;</td><td>&quot;15&quot;</td><td>&quot;34&quot;</td><td>&quot;39&quot;</td><td>false</td><td>0</td><td>&quot;04_02_03_19_05&quot;</td><td>-57</td></tr><tr><td>&quot;31/12/2024&quot;</td><td>&quot;1750&quot;</td><td>&quot;28 25 09 30 12 04&quot;</td><td>&quot;23 12 25 39 24 32&quot;</td><td>&quot;&quot;</td><td>&quot;&quot;</td><td>&quot;040912252830&quot;</td><td>[4, 9, … 30]</td><td>4</td><td>9</td><td>12</td><td>25</td><td>28</td><td>30</td><td>&quot;04&quot;</td><td>&quot;09&quot;</td><td>&quot;12&quot;</td><td>&quot;25&quot;</td><td>&quot;28&quot;</td><td>&quot;30&quot;</td><td>&quot;01&quot;</td><td>&quot;10&quot;</td><td>&quot;16&quot;</td><td>&quot;24&quot;</td><td>&quot;34&quot;</td><td>&quot;35&quot;</td><td>false</td><td>0</td><td>&quot;05_03_13_03_02&quot;</td><td>61</td></tr><tr><td>&quot;31/12/2024&quot;</td><td>&quot;1750&quot;</td><td>&quot;28 25 09 30 12 04&quot;</td><td>&quot;23 12 25 39 24 32&quot;</td><td>&quot;&quot;</td><td>&quot;&quot;</td><td>&quot;040912252830&quot;</td><td>[4, 9, … 30]</td><td>4</td><td>9</td><td>12</td><td>25</td><td>28</td><td>30</td><td>&quot;04&quot;</td><td>&quot;09&quot;</td><td>&quot;12&quot;</td><td>&quot;25&quot;</td><td>&quot;28&quot;</td><td>&quot;30&quot;</td><td>&quot;04&quot;</td><td>&quot;09&quot;</td><td>&quot;12&quot;</td><td>&quot;25&quot;</td><td>&quot;28&quot;</td><td>&quot;30&quot;</td><td>false</td><td>0</td><td>&quot;05_03_13_03_02&quot;</td><td>61</td></tr><tr><td>&quot;27/04/2024&quot;</td><td>&quot;1644&quot;</td><td>&quot;12 17 09 40 15 10&quot;</td><td>&quot;38 32 01 28 21 39&quot;</td><td>&quot;&quot;</td><td>&quot;&quot;</td><td>&quot;091012151740&quot;</td><td>[9, 10, … 40]</td><td>9</td><td>10</td><td>12</td><td>15</td><td>17</td><td>40</td><td>&quot;09&quot;</td><td>&quot;10&quot;</td><td>&quot;12&quot;</td><td>&quot;15&quot;</td><td>&quot;17&quot;</td><td>&quot;40&quot;</td><td>&quot;10&quot;</td><td>&quot;16&quot;</td><td>&quot;22&quot;</td><td>&quot;27&quot;</td><td>&quot;28&quot;</td><td>&quot;37&quot;</td><td>true</td><td>16</td><td>&quot;01_02_03_02_23&quot;</td><td>26</td></tr><tr><td>&quot;27/04/2024&quot;</td><td>&quot;1644&quot;</td><td>&quot;12 17 09 40 15 10&quot;</td><td>&quot;38 32 01 28 21 39&quot;</td><td>&quot;&quot;</td><td>&quot;&quot;</td><td>&quot;091012151740&quot;</td><td>[9, 10, … 40]</td><td>9</td><td>10</td><td>12</td><td>15</td><td>17</td><td>40</td><td>&quot;09&quot;</td><td>&quot;10&quot;</td><td>&quot;12&quot;</td><td>&quot;15&quot;</td><td>&quot;17&quot;</td><td>&quot;40&quot;</td><td>&quot;09&quot;</td><td>&quot;10&quot;</td><td>&quot;12&quot;</td><td>&quot;15&quot;</td><td>&quot;17&quot;</td><td>&quot;40&quot;</td><td>true</td><td>16</td><td>&quot;01_02_03_02_23&quot;</td><td>26</td></tr><tr><td>&quot;17/02/2024&quot;</td><td>&quot;1614&quot;</td><td>&quot;21 23 37 04 10 12&quot;</td><td>&quot;08 04 25 13 31 02&quot;</td><td>&quot;&quot;</td><td>&quot;&quot;</td><td>&quot;041012212337&quot;</td><td>[4, 10, … 37]</td><td>4</td><td>10</td><td>12</td><td>21</td><td>23</td><td>37</td><td>&quot;04&quot;</td><td>&quot;10&quot;</td><td>&quot;12&quot;</td><td>&quot;21&quot;</td><td>&quot;23&quot;</td><td>&quot;37&quot;</td><td>&quot;06&quot;</td><td>&quot;13&quot;</td><td>&quot;18&quot;</td><td>&quot;21&quot;</td><td>&quot;35&quot;</td><td>&quot;37&quot;</td><td>false</td><td>0</td><td>&quot;06_02_09_02_14&quot;</td><td>58</td></tr><tr><td>&quot;17/02/2024&quot;</td><td>&quot;1614&quot;</td><td>&quot;21 23 37 04 10 12&quot;</td><td>&quot;08 04 25 13 31 02&quot;</td><td>&quot;&quot;</td><td>&quot;&quot;</td><td>&quot;041012212337&quot;</td><td>[4, 10, … 37]</td><td>4</td><td>10</td><td>12</td><td>21</td><td>23</td><td>37</td><td>&quot;04&quot;</td><td>&quot;10&quot;</td><td>&quot;12&quot;</td><td>&quot;21&quot;</td><td>&quot;23&quot;</td><td>&quot;37&quot;</td><td>&quot;04&quot;</td><td>&quot;10&quot;</td><td>&quot;12&quot;</td><td>&quot;21&quot;</td><td>&quot;23&quot;</td><td>&quot;37&quot;</td><td>false</td><td>0</td><td>&quot;06_02_09_02_14&quot;</td><td>58</td></tr><tr><td>&quot;06/02/2024&quot;</td><td>&quot;1609&quot;</td><td>&quot;40 05 25 33 04 12&quot;</td><td>&quot;26 29 07 13 17 22&quot;</td><td>&quot;&quot;</td><td>&quot;&quot;</td><td>&quot;040512253340&quot;</td><td>[4, 5, … 40]</td><td>4</td><td>5</td><td>12</td><td>25</td><td>33</td><td>40</td><td>&quot;04&quot;</td><td>&quot;05&quot;</td><td>&quot;12&quot;</td><td>&quot;25&quot;</td><td>&quot;33&quot;</td><td>&quot;40&quot;</td><td>&quot;11&quot;</td><td>&quot;21&quot;</td><td>&quot;29&quot;</td><td>&quot;34&quot;</td><td>&quot;36&quot;</td><td>&quot;40&quot;</td><td>false</td><td>0</td><td>&quot;01_07_13_08_07&quot;</td><td>26</td></tr></tbody></table></div>"
      ],
      "text/plain": [
       "shape: (10, 30)\n",
       "┌────────────┬────────┬─────────────┬─────────────┬───┬────────────┬────────┬────────────┬─────────┐\n",
       "│ fecha      ┆ sorteo ┆ bolillas    ┆ bolillas    ┆ … ┆ is_rare_co ┆ reason ┆ jumps_map  ┆ unijump │\n",
       "│ ---        ┆ ---    ┆ regulares   ┆ chauchamba  ┆   ┆ mbination  ┆ ---    ┆ ---        ┆ ---     │\n",
       "│ str        ┆ str    ┆ ---         ┆ ---         ┆   ┆ ---        ┆ u8     ┆ str        ┆ i64     │\n",
       "│            ┆        ┆ str         ┆ str         ┆   ┆ bool       ┆        ┆            ┆         │\n",
       "╞════════════╪════════╪═════════════╪═════════════╪═══╪════════════╪════════╪════════════╪═════════╡\n",
       "│ 17/04/2025 ┆ 1796   ┆ 12 06 38 15 ┆ 21 11 28 24 ┆ … ┆ false      ┆ 0      ┆ 04_06_03_2 ┆ -89     │\n",
       "│            ┆        ┆ 37 02       ┆ 32 20       ┆   ┆            ┆        ┆ 2_01       ┆         │\n",
       "│ 11/03/2025 ┆ 1780   ┆ 15 12 34 10 ┆ 10 27 16 07 ┆ … ┆ false      ┆ 0      ┆ 04_02_03_1 ┆ -57     │\n",
       "│            ┆        ┆ 06 39       ┆ 02 40       ┆   ┆            ┆        ┆ 9_05       ┆         │\n",
       "│ 11/03/2025 ┆ 1780   ┆ 15 12 34 10 ┆ 10 27 16 07 ┆ … ┆ false      ┆ 0      ┆ 04_02_03_1 ┆ -57     │\n",
       "│            ┆        ┆ 06 39       ┆ 02 40       ┆   ┆            ┆        ┆ 9_05       ┆         │\n",
       "│ 31/12/2024 ┆ 1750   ┆ 28 25 09 30 ┆ 23 12 25 39 ┆ … ┆ false      ┆ 0      ┆ 05_03_13_0 ┆ 61      │\n",
       "│            ┆        ┆ 12 04       ┆ 24 32       ┆   ┆            ┆        ┆ 3_02       ┆         │\n",
       "│ 31/12/2024 ┆ 1750   ┆ 28 25 09 30 ┆ 23 12 25 39 ┆ … ┆ false      ┆ 0      ┆ 05_03_13_0 ┆ 61      │\n",
       "│            ┆        ┆ 12 04       ┆ 24 32       ┆   ┆            ┆        ┆ 3_02       ┆         │\n",
       "│ 27/04/2024 ┆ 1644   ┆ 12 17 09 40 ┆ 38 32 01 28 ┆ … ┆ true       ┆ 16     ┆ 01_02_03_0 ┆ 26      │\n",
       "│            ┆        ┆ 15 10       ┆ 21 39       ┆   ┆            ┆        ┆ 2_23       ┆         │\n",
       "│ 27/04/2024 ┆ 1644   ┆ 12 17 09 40 ┆ 38 32 01 28 ┆ … ┆ true       ┆ 16     ┆ 01_02_03_0 ┆ 26      │\n",
       "│            ┆        ┆ 15 10       ┆ 21 39       ┆   ┆            ┆        ┆ 2_23       ┆         │\n",
       "│ 17/02/2024 ┆ 1614   ┆ 21 23 37 04 ┆ 08 04 25 13 ┆ … ┆ false      ┆ 0      ┆ 06_02_09_0 ┆ 58      │\n",
       "│            ┆        ┆ 10 12       ┆ 31 02       ┆   ┆            ┆        ┆ 2_14       ┆         │\n",
       "│ 17/02/2024 ┆ 1614   ┆ 21 23 37 04 ┆ 08 04 25 13 ┆ … ┆ false      ┆ 0      ┆ 06_02_09_0 ┆ 58      │\n",
       "│            ┆        ┆ 10 12       ┆ 31 02       ┆   ┆            ┆        ┆ 2_14       ┆         │\n",
       "│ 06/02/2024 ┆ 1609   ┆ 40 05 25 33 ┆ 26 29 07 13 ┆ … ┆ false      ┆ 0      ┆ 01_07_13_0 ┆ 26      │\n",
       "│            ┆        ┆ 04 12       ┆ 17 22       ┆   ┆            ┆        ┆ 8_07       ┆         │\n",
       "└────────────┴────────┴─────────────┴─────────────┴───┴────────────┴────────┴────────────┴─────────┘"
      ]
     },
     "metadata": {},
     "output_type": "display_data"
    },
    {
     "name": "stdout",
     "output_type": "stream",
     "text": [
      "df_jumps_map FOR str_b3 = 12\n"
     ]
    },
    {
     "data": {
      "text/html": [
       "<div><style>\n",
       ".dataframe > thead > tr,\n",
       ".dataframe > tbody > tr {\n",
       "  text-align: right;\n",
       "  white-space: pre-wrap;\n",
       "}\n",
       "</style>\n",
       "<small>shape: (145, 2)</small><table border=\"1\" class=\"dataframe\"><thead><tr><th>jumps_map</th><th>count</th></tr><tr><td>str</td><td>u32</td></tr></thead><tbody><tr><td>&quot;04_02_03_19_05&quot;</td><td>2</td></tr><tr><td>&quot;06_02_09_02_14&quot;</td><td>2</td></tr><tr><td>&quot;03_06_12_01_04&quot;</td><td>2</td></tr><tr><td>&quot;08_01_03_18_04&quot;</td><td>2</td></tr><tr><td>&quot;10_01_06_03_17&quot;</td><td>2</td></tr><tr><td>&hellip;</td><td>&hellip;</td></tr><tr><td>&quot;06_05_09_09_10&quot;</td><td>1</td></tr><tr><td>&quot;04_05_03_08_05&quot;</td><td>1</td></tr><tr><td>&quot;06_01_12_05_11&quot;</td><td>1</td></tr><tr><td>&quot;10_01_09_01_09&quot;</td><td>1</td></tr><tr><td>&quot;03_08_22_01_02&quot;</td><td>1</td></tr></tbody></table></div>"
      ],
      "text/plain": [
       "shape: (145, 2)\n",
       "┌────────────────┬───────┐\n",
       "│ jumps_map      ┆ count │\n",
       "│ ---            ┆ ---   │\n",
       "│ str            ┆ u32   │\n",
       "╞════════════════╪═══════╡\n",
       "│ 04_02_03_19_05 ┆ 2     │\n",
       "│ 06_02_09_02_14 ┆ 2     │\n",
       "│ 03_06_12_01_04 ┆ 2     │\n",
       "│ 08_01_03_18_04 ┆ 2     │\n",
       "│ 10_01_06_03_17 ┆ 2     │\n",
       "│ …              ┆ …     │\n",
       "│ 06_05_09_09_10 ┆ 1     │\n",
       "│ 04_05_03_08_05 ┆ 1     │\n",
       "│ 06_01_12_05_11 ┆ 1     │\n",
       "│ 10_01_09_01_09 ┆ 1     │\n",
       "│ 03_08_22_01_02 ┆ 1     │\n",
       "└────────────────┴───────┘"
      ]
     },
     "metadata": {},
     "output_type": "display_data"
    },
    {
     "name": "stdout",
     "output_type": "stream",
     "text": [
      "df_unijump FOR str_b3 = 12\n"
     ]
    },
    {
     "data": {
      "text/html": [
       "<div><style>\n",
       ".dataframe > thead > tr,\n",
       ".dataframe > tbody > tr {\n",
       "  text-align: right;\n",
       "  white-space: pre-wrap;\n",
       "}\n",
       "</style>\n",
       "<small>shape: (93, 2)</small><table border=\"1\" class=\"dataframe\"><thead><tr><th>unijump</th><th>count</th></tr><tr><td>i64</td><td>u32</td></tr></thead><tbody><tr><td>26</td><td>8</td></tr><tr><td>-44</td><td>7</td></tr><tr><td>-15</td><td>6</td></tr><tr><td>19</td><td>6</td></tr><tr><td>51</td><td>5</td></tr><tr><td>&hellip;</td><td>&hellip;</td></tr><tr><td>67</td><td>1</td></tr><tr><td>107</td><td>1</td></tr><tr><td>-14</td><td>1</td></tr><tr><td>-53</td><td>1</td></tr><tr><td>15</td><td>1</td></tr></tbody></table></div>"
      ],
      "text/plain": [
       "shape: (93, 2)\n",
       "┌─────────┬───────┐\n",
       "│ unijump ┆ count │\n",
       "│ ---     ┆ ---   │\n",
       "│ i64     ┆ u32   │\n",
       "╞═════════╪═══════╡\n",
       "│ 26      ┆ 8     │\n",
       "│ -44     ┆ 7     │\n",
       "│ -15     ┆ 6     │\n",
       "│ 19      ┆ 6     │\n",
       "│ 51      ┆ 5     │\n",
       "│ …       ┆ …     │\n",
       "│ 67      ┆ 1     │\n",
       "│ 107     ┆ 1     │\n",
       "│ -14     ┆ 1     │\n",
       "│ -53     ┆ 1     │\n",
       "│ 15      ┆ 1     │\n",
       "└─────────┴───────┘"
      ]
     },
     "metadata": {},
     "output_type": "display_data"
    }
   ],
   "source": [
    "possible_b3, exclude_jump_maps_b3, last_post_b3 = plot_post_col(col='str_b3', post_col='post_str_b3')"
   ]
  },
  {
   "cell_type": "code",
   "execution_count": 19,
   "metadata": {},
   "outputs": [
    {
     "name": "stdout",
     "output_type": "stream",
     "text": [
      "Setting test_value='15'\n",
      "df_viz FOR str_b4 = 15\n"
     ]
    },
    {
     "data": {
      "text/html": [
       "<div><style>\n",
       ".dataframe > thead > tr,\n",
       ".dataframe > tbody > tr {\n",
       "  text-align: right;\n",
       "  white-space: pre-wrap;\n",
       "}\n",
       "</style>\n",
       "<small>shape: (28, 3)</small><table border=\"1\" class=\"dataframe\"><thead><tr><th>post_str_b4</th><th>count</th><th>percent</th></tr><tr><td>str</td><td>u32</td><td>f64</td></tr></thead><tbody><tr><td>&quot;15&quot;</td><td>53</td><td>32.716049</td></tr><tr><td>&quot;22&quot;</td><td>12</td><td>7.407407</td></tr><tr><td>&quot;25&quot;</td><td>10</td><td>6.17284</td></tr><tr><td>&quot;30&quot;</td><td>9</td><td>5.555556</td></tr><tr><td>&quot;21&quot;</td><td>9</td><td>5.555556</td></tr><tr><td>&hellip;</td><td>&hellip;</td><td>&hellip;</td></tr><tr><td>&quot;09&quot;</td><td>1</td><td>0.617284</td></tr><tr><td>&quot;10&quot;</td><td>1</td><td>0.617284</td></tr><tr><td>&quot;11&quot;</td><td>1</td><td>0.617284</td></tr><tr><td>&quot;05&quot;</td><td>1</td><td>0.617284</td></tr><tr><td>&quot;13&quot;</td><td>1</td><td>0.617284</td></tr></tbody></table></div>"
      ],
      "text/plain": [
       "shape: (28, 3)\n",
       "┌─────────────┬───────┬───────────┐\n",
       "│ post_str_b4 ┆ count ┆ percent   │\n",
       "│ ---         ┆ ---   ┆ ---       │\n",
       "│ str         ┆ u32   ┆ f64       │\n",
       "╞═════════════╪═══════╪═══════════╡\n",
       "│ 15          ┆ 53    ┆ 32.716049 │\n",
       "│ 22          ┆ 12    ┆ 7.407407  │\n",
       "│ 25          ┆ 10    ┆ 6.17284   │\n",
       "│ 30          ┆ 9     ┆ 5.555556  │\n",
       "│ 21          ┆ 9     ┆ 5.555556  │\n",
       "│ …           ┆ …     ┆ …         │\n",
       "│ 09          ┆ 1     ┆ 0.617284  │\n",
       "│ 10          ┆ 1     ┆ 0.617284  │\n",
       "│ 11          ┆ 1     ┆ 0.617284  │\n",
       "│ 05          ┆ 1     ┆ 0.617284  │\n",
       "│ 13          ┆ 1     ┆ 0.617284  │\n",
       "└─────────────┴───────┴───────────┘"
      ]
     },
     "metadata": {},
     "output_type": "display_data"
    },
    {
     "data": {},
     "metadata": {},
     "output_type": "display_data"
    },
    {
     "data": {
      "application/vnd.holoviews_exec.v0+json": "",
      "text/html": [
       "<div id='497a0406-f58a-425d-ac76-4937380997fd'>\n",
       "  <div id=\"bb88d199-9370-40d0-85b6-bae04d9f269e\" data-root-id=\"497a0406-f58a-425d-ac76-4937380997fd\" style=\"display: contents;\"></div>\n",
       "</div>\n",
       "<script type=\"application/javascript\">(function(root) {\n",
       "  var docs_json = {\"21f74ae8-696c-4cbe-8a88-9516262ae0e6\":{\"version\":\"3.7.2\",\"title\":\"Bokeh Application\",\"roots\":[{\"type\":\"object\",\"name\":\"Row\",\"id\":\"497a0406-f58a-425d-ac76-4937380997fd\",\"attributes\":{\"name\":\"Row00499\",\"tags\":[\"embedded\"],\"stylesheets\":[\"\\n:host(.pn-loading):before, .pn-loading:before {\\n  background-color: #c3c3c3;\\n  mask-size: auto calc(min(50%, 400px));\\n  -webkit-mask-size: auto calc(min(50%, 400px));\\n}\",{\"type\":\"object\",\"name\":\"ImportedStyleSheet\",\"id\":\"f886545c-be8c-445b-83c1-aa276502bb6a\",\"attributes\":{\"url\":\"https://cdn.holoviz.org/panel/1.6.2/dist/css/loading.css\"}},{\"type\":\"object\",\"name\":\"ImportedStyleSheet\",\"id\":\"d6d334f3-6c8d-4dda-8627-d7c9a3ac5487\",\"attributes\":{\"url\":\"https://cdn.holoviz.org/panel/1.6.2/dist/css/listpanel.css\"}},{\"type\":\"object\",\"name\":\"ImportedStyleSheet\",\"id\":\"773c8037-91cd-48a8-84ab-4cfdcb776205\",\"attributes\":{\"url\":\"https://cdn.holoviz.org/panel/1.6.2/dist/bundled/theme/default.css\"}},{\"type\":\"object\",\"name\":\"ImportedStyleSheet\",\"id\":\"b1c23053-e134-42ce-a8f2-6b9ba74ecbfa\",\"attributes\":{\"url\":\"https://cdn.holoviz.org/panel/1.6.2/dist/bundled/theme/native.css\"}}],\"min_width\":700,\"margin\":0,\"sizing_mode\":\"stretch_width\",\"align\":\"start\",\"children\":[{\"type\":\"object\",\"name\":\"Spacer\",\"id\":\"ac993a6f-3a90-4187-85d4-2c2e82afbb58\",\"attributes\":{\"name\":\"HSpacer00503\",\"stylesheets\":[\"\\n:host(.pn-loading):before, .pn-loading:before {\\n  background-color: #c3c3c3;\\n  mask-size: auto calc(min(50%, 400px));\\n  -webkit-mask-size: auto calc(min(50%, 400px));\\n}\",{\"id\":\"f886545c-be8c-445b-83c1-aa276502bb6a\"},{\"id\":\"773c8037-91cd-48a8-84ab-4cfdcb776205\"},{\"id\":\"b1c23053-e134-42ce-a8f2-6b9ba74ecbfa\"}],\"margin\":0,\"sizing_mode\":\"stretch_width\",\"align\":\"start\"}},{\"type\":\"object\",\"name\":\"Figure\",\"id\":\"c7c1a401-78b1-41a8-8265-a0e4da3b173e\",\"attributes\":{\"width\":700,\"height\":300,\"margin\":[5,10],\"sizing_mode\":\"fixed\",\"align\":\"start\",\"x_range\":{\"type\":\"object\",\"name\":\"FactorRange\",\"id\":\"e715cfd7-8ba6-4c9a-a92c-c150c9eba8d3\",\"attributes\":{\"name\":\"post_str_b4\",\"tags\":[[[\"post_str_b4\",null]],[]],\"factors\":[\"15\",\"22\",\"25\",\"30\",\"21\",\"23\",\"29\",\"24\",\"31\",\"16\",\"28\",\"19\",\"26\",\"20\",\"17\",\"27\",\"18\",\"36\",\"32\",\"33\",\"35\",\"12\",\"07\",\"09\",\"10\",\"11\",\"05\",\"13\"]}},\"y_range\":{\"type\":\"object\",\"name\":\"Range1d\",\"id\":\"63297769-62f7-4ad7-83fd-35f843dec15c\",\"attributes\":{\"name\":\"percent\",\"tags\":[[[\"percent\",null]],{\"type\":\"map\",\"entries\":[[\"invert_yaxis\",false],[\"autorange\",false]]}],\"end\":35.925925925925924,\"reset_start\":0.0,\"reset_end\":35.925925925925924}},\"x_scale\":{\"type\":\"object\",\"name\":\"CategoricalScale\",\"id\":\"76dfe6cf-4ebd-4118-9170-eccf604100c6\"},\"y_scale\":{\"type\":\"object\",\"name\":\"LinearScale\",\"id\":\"3d650113-32a9-448e-869c-39b726755010\"},\"title\":{\"type\":\"object\",\"name\":\"Title\",\"id\":\"73061d3a-e9e7-4212-9985-409d085fecf4\",\"attributes\":{\"text_color\":\"black\",\"text_font_size\":\"12pt\"}},\"renderers\":[{\"type\":\"object\",\"name\":\"GlyphRenderer\",\"id\":\"febcbc6f-e16f-4013-b091-5dcb75e0fe89\",\"attributes\":{\"data_source\":{\"type\":\"object\",\"name\":\"ColumnDataSource\",\"id\":\"cf8deeda-27be-4df3-bef9-92dd4f16e407\",\"attributes\":{\"selected\":{\"type\":\"object\",\"name\":\"Selection\",\"id\":\"bef283bd-2e25-4e24-b910-5a463b53c12c\",\"attributes\":{\"indices\":[],\"line_indices\":[]}},\"selection_policy\":{\"type\":\"object\",\"name\":\"UnionRenderers\",\"id\":\"2df50bd5-a82a-4a08-9f40-53d6561778be\"},\"data\":{\"type\":\"map\",\"entries\":[[\"post_str_b4\",[\"15\",\"22\",\"25\",\"30\",\"21\",\"23\",\"29\",\"24\",\"31\",\"16\",\"28\",\"19\",\"26\",\"20\",\"17\",\"27\",\"18\",\"36\",\"32\",\"33\",\"35\",\"12\",\"07\",\"09\",\"10\",\"11\",\"05\",\"13\"]],[\"percent\",{\"type\":\"ndarray\",\"array\":{\"type\":\"bytes\",\"data\":\"EIuUgadbQEAS2ktoL6EdQGXg6db8sBhAjuM4juM4FkCO4ziO4zgWQODp1vywSBFAEtpLaC+hDUAS2ktoL6ENQGXg6db8sAhAt+aHRcrAA0C35odFysADQLfmh0XKwANAt+aHRcrAA0C35odFysADQBLaS2gvof0/EtpLaC+h/T8S2ktoL6H9PxLaS2gvof0/EtpLaC+h/T+35odFysDzP7fmh0XKwOM/t+aHRcrA4z+35odFysDjP7fmh0XKwOM/t+aHRcrA4z+35odFysDjP7fmh0XKwOM/t+aHRcrA4z8=\"},\"shape\":[28],\"dtype\":\"float64\",\"order\":\"little\"}]]}}},\"view\":{\"type\":\"object\",\"name\":\"CDSView\",\"id\":\"2b54e901-d00c-4bea-a095-a46ff6d5c6da\",\"attributes\":{\"filter\":{\"type\":\"object\",\"name\":\"AllIndices\",\"id\":\"575b0542-eeb7-4aaa-8a4b-a82fcc42c4c6\"}}},\"glyph\":{\"type\":\"object\",\"name\":\"VBar\",\"id\":\"f75f46f4-793b-4389-9b40-a5436a01c381\",\"attributes\":{\"tags\":[\"apply_ranges\"],\"x\":{\"type\":\"field\",\"field\":\"post_str_b4\"},\"width\":{\"type\":\"value\",\"value\":0.8},\"top\":{\"type\":\"field\",\"field\":\"percent\"},\"fill_color\":{\"type\":\"value\",\"value\":\"#30a2da\"},\"hatch_color\":{\"type\":\"value\",\"value\":\"#30a2da\"}}},\"selection_glyph\":{\"type\":\"object\",\"name\":\"VBar\",\"id\":\"651ae059-dd30-4279-af94-4aa1fda31b61\",\"attributes\":{\"tags\":[\"apply_ranges\"],\"x\":{\"type\":\"field\",\"field\":\"post_str_b4\"},\"width\":{\"type\":\"value\",\"value\":0.8},\"bottom\":{\"type\":\"value\",\"value\":0},\"top\":{\"type\":\"field\",\"field\":\"percent\"},\"line_color\":{\"type\":\"value\",\"value\":\"black\"},\"line_alpha\":{\"type\":\"value\",\"value\":1.0},\"line_width\":{\"type\":\"value\",\"value\":1},\"line_join\":{\"type\":\"value\",\"value\":\"bevel\"},\"line_cap\":{\"type\":\"value\",\"value\":\"butt\"},\"line_dash\":{\"type\":\"value\",\"value\":[]},\"line_dash_offset\":{\"type\":\"value\",\"value\":0},\"fill_color\":{\"type\":\"value\",\"value\":\"#30a2da\"},\"fill_alpha\":{\"type\":\"value\",\"value\":1.0},\"hatch_color\":{\"type\":\"value\",\"value\":\"#30a2da\"},\"hatch_alpha\":{\"type\":\"value\",\"value\":1.0},\"hatch_scale\":{\"type\":\"value\",\"value\":12.0},\"hatch_pattern\":{\"type\":\"value\",\"value\":null},\"hatch_weight\":{\"type\":\"value\",\"value\":1.0}}},\"nonselection_glyph\":{\"type\":\"object\",\"name\":\"VBar\",\"id\":\"c09027fd-43c6-4379-b41f-c30a16368d9b\",\"attributes\":{\"tags\":[\"apply_ranges\"],\"x\":{\"type\":\"field\",\"field\":\"post_str_b4\"},\"width\":{\"type\":\"value\",\"value\":0.8},\"top\":{\"type\":\"field\",\"field\":\"percent\"},\"line_alpha\":{\"type\":\"value\",\"value\":0.1},\"fill_color\":{\"type\":\"value\",\"value\":\"#30a2da\"},\"fill_alpha\":{\"type\":\"value\",\"value\":0.1},\"hatch_color\":{\"type\":\"value\",\"value\":\"#30a2da\"},\"hatch_alpha\":{\"type\":\"value\",\"value\":0.1}}},\"muted_glyph\":{\"type\":\"object\",\"name\":\"VBar\",\"id\":\"e026e08e-0227-4506-b821-b2cb5b5d19a8\",\"attributes\":{\"tags\":[\"apply_ranges\"],\"x\":{\"type\":\"field\",\"field\":\"post_str_b4\"},\"width\":{\"type\":\"value\",\"value\":0.8},\"top\":{\"type\":\"field\",\"field\":\"percent\"},\"line_alpha\":{\"type\":\"value\",\"value\":0.2},\"fill_color\":{\"type\":\"value\",\"value\":\"#30a2da\"},\"fill_alpha\":{\"type\":\"value\",\"value\":0.2},\"hatch_color\":{\"type\":\"value\",\"value\":\"#30a2da\"},\"hatch_alpha\":{\"type\":\"value\",\"value\":0.2}}}}},{\"type\":\"object\",\"name\":\"Span\",\"id\":\"ae3afc63-461c-404a-b744-b1773836e6b5\",\"attributes\":{\"level\":\"glyph\",\"location\":3.57142857142857,\"line_color\":\"red\",\"line_width\":3}},{\"type\":\"object\",\"name\":\"Span\",\"id\":\"2cbbeebe-3b72-4cb3-9e48-4e9a58177b8b\",\"attributes\":{\"level\":\"glyph\",\"location\":5.357142857142854,\"line_color\":\"blue\",\"line_width\":3}},{\"type\":\"object\",\"name\":\"Span\",\"id\":\"1429f5db-8924-422a-86f3-8530aff67bb2\",\"attributes\":{\"level\":\"glyph\",\"location\":1.785714285714285,\"line_color\":\"blue\",\"line_width\":3}}],\"toolbar\":{\"type\":\"object\",\"name\":\"Toolbar\",\"id\":\"dcafccde-4e33-4717-86b3-834d34fa7eb7\",\"attributes\":{\"tools\":[{\"type\":\"object\",\"name\":\"WheelZoomTool\",\"id\":\"ac01d48f-5204-45d6-8e7d-87516a0d8c25\",\"attributes\":{\"tags\":[\"hv_created\"],\"renderers\":\"auto\",\"zoom_together\":\"none\"}},{\"type\":\"object\",\"name\":\"HoverTool\",\"id\":\"0edee9ef-49c6-482d-b7fb-58481ed99d53\",\"attributes\":{\"tags\":[\"hv_created\"],\"renderers\":[{\"id\":\"febcbc6f-e16f-4013-b091-5dcb75e0fe89\"}],\"tooltips\":[[\"post_str_b4\",\"@{post_str_b4}\"],[\"percent\",\"@{percent}\"]]}},{\"type\":\"object\",\"name\":\"SaveTool\",\"id\":\"cfe7cafb-5ae4-4fff-b76a-fdb064a133c7\"},{\"type\":\"object\",\"name\":\"PanTool\",\"id\":\"cab16f47-11b0-4bf9-afd9-12b09005b614\"},{\"type\":\"object\",\"name\":\"BoxZoomTool\",\"id\":\"5b5bb17e-bea4-4186-a045-736042cd149b\",\"attributes\":{\"dimensions\":\"both\",\"overlay\":{\"type\":\"object\",\"name\":\"BoxAnnotation\",\"id\":\"81838785-35eb-4e83-9efc-97f8d432ba50\",\"attributes\":{\"syncable\":false,\"line_color\":\"black\",\"line_alpha\":1.0,\"line_width\":2,\"line_dash\":[4,4],\"fill_color\":\"lightgrey\",\"fill_alpha\":0.5,\"level\":\"overlay\",\"visible\":false,\"left\":{\"type\":\"number\",\"value\":\"nan\"},\"right\":{\"type\":\"number\",\"value\":\"nan\"},\"top\":{\"type\":\"number\",\"value\":\"nan\"},\"bottom\":{\"type\":\"number\",\"value\":\"nan\"},\"left_units\":\"canvas\",\"right_units\":\"canvas\",\"top_units\":\"canvas\",\"bottom_units\":\"canvas\",\"handles\":{\"type\":\"object\",\"name\":\"BoxInteractionHandles\",\"id\":\"e0528abd-f2d3-491a-a7fc-83e0dc2a1c22\",\"attributes\":{\"all\":{\"type\":\"object\",\"name\":\"AreaVisuals\",\"id\":\"257ddcf1-f32f-47d4-a872-ccb890a81e95\",\"attributes\":{\"fill_color\":\"white\",\"hover_fill_color\":\"lightgray\"}}}}}}}},{\"type\":\"object\",\"name\":\"ResetTool\",\"id\":\"7a12959c-29c8-4473-8dc0-402038ad8e96\"}],\"active_drag\":{\"id\":\"cab16f47-11b0-4bf9-afd9-12b09005b614\"}}},\"left\":[{\"type\":\"object\",\"name\":\"LinearAxis\",\"id\":\"5d208b7c-d4ed-4fa9-8211-5c5a25524d1c\",\"attributes\":{\"ticker\":{\"type\":\"object\",\"name\":\"BasicTicker\",\"id\":\"c47c6d97-5c35-46f7-9ddf-27a8f4904c29\",\"attributes\":{\"mantissas\":[1,2,5]}},\"formatter\":{\"type\":\"object\",\"name\":\"BasicTickFormatter\",\"id\":\"68341d12-a101-4b87-aae1-0c2b51930d55\"},\"axis_label\":\"percent\",\"major_label_policy\":{\"type\":\"object\",\"name\":\"AllLabels\",\"id\":\"a442e55d-65f3-4759-8646-94d0140ac701\"}}}],\"below\":[{\"type\":\"object\",\"name\":\"CategoricalAxis\",\"id\":\"c7d617cf-8706-4859-8fd1-80276be7e519\",\"attributes\":{\"ticker\":{\"type\":\"object\",\"name\":\"CategoricalTicker\",\"id\":\"ddaab711-0a3a-4357-8e65-b2bfd4762169\"},\"formatter\":{\"type\":\"object\",\"name\":\"CategoricalTickFormatter\",\"id\":\"07843edc-35b6-48b5-9d46-af627f267a31\"},\"axis_label\":\"post_str_b4\",\"major_label_policy\":{\"type\":\"object\",\"name\":\"AllLabels\",\"id\":\"fef7b9da-2d72-41b2-9648-347f861f01ce\"}}}],\"center\":[{\"type\":\"object\",\"name\":\"Grid\",\"id\":\"b4b0e77d-f7ab-4add-a1a8-a3a63f42fcc7\",\"attributes\":{\"axis\":{\"id\":\"c7d617cf-8706-4859-8fd1-80276be7e519\"},\"grid_line_color\":null}},{\"type\":\"object\",\"name\":\"Grid\",\"id\":\"c519ee95-fb29-4205-bd43-20d0006e36a2\",\"attributes\":{\"dimension\":1,\"axis\":{\"id\":\"5d208b7c-d4ed-4fa9-8211-5c5a25524d1c\"},\"grid_line_color\":null}}],\"min_border_top\":10,\"min_border_bottom\":10,\"min_border_left\":10,\"min_border_right\":10,\"output_backend\":\"webgl\"}},{\"type\":\"object\",\"name\":\"Spacer\",\"id\":\"219f3890-5c1f-40c3-8abc-d0b01e2b7931\",\"attributes\":{\"name\":\"HSpacer00504\",\"stylesheets\":[\"\\n:host(.pn-loading):before, .pn-loading:before {\\n  background-color: #c3c3c3;\\n  mask-size: auto calc(min(50%, 400px));\\n  -webkit-mask-size: auto calc(min(50%, 400px));\\n}\",{\"id\":\"f886545c-be8c-445b-83c1-aa276502bb6a\"},{\"id\":\"773c8037-91cd-48a8-84ab-4cfdcb776205\"},{\"id\":\"b1c23053-e134-42ce-a8f2-6b9ba74ecbfa\"}],\"margin\":0,\"sizing_mode\":\"stretch_width\",\"align\":\"start\"}}]}}],\"defs\":[{\"type\":\"model\",\"name\":\"ReactiveHTML1\"},{\"type\":\"model\",\"name\":\"FlexBox1\",\"properties\":[{\"name\":\"align_content\",\"kind\":\"Any\",\"default\":\"flex-start\"},{\"name\":\"align_items\",\"kind\":\"Any\",\"default\":\"flex-start\"},{\"name\":\"flex_direction\",\"kind\":\"Any\",\"default\":\"row\"},{\"name\":\"flex_wrap\",\"kind\":\"Any\",\"default\":\"wrap\"},{\"name\":\"gap\",\"kind\":\"Any\",\"default\":\"\"},{\"name\":\"justify_content\",\"kind\":\"Any\",\"default\":\"flex-start\"}]},{\"type\":\"model\",\"name\":\"FloatPanel1\",\"properties\":[{\"name\":\"config\",\"kind\":\"Any\",\"default\":{\"type\":\"map\"}},{\"name\":\"contained\",\"kind\":\"Any\",\"default\":true},{\"name\":\"position\",\"kind\":\"Any\",\"default\":\"right-top\"},{\"name\":\"offsetx\",\"kind\":\"Any\",\"default\":null},{\"name\":\"offsety\",\"kind\":\"Any\",\"default\":null},{\"name\":\"theme\",\"kind\":\"Any\",\"default\":\"primary\"},{\"name\":\"status\",\"kind\":\"Any\",\"default\":\"normalized\"}]},{\"type\":\"model\",\"name\":\"GridStack1\",\"properties\":[{\"name\":\"ncols\",\"kind\":\"Any\",\"default\":null},{\"name\":\"nrows\",\"kind\":\"Any\",\"default\":null},{\"name\":\"allow_resize\",\"kind\":\"Any\",\"default\":true},{\"name\":\"allow_drag\",\"kind\":\"Any\",\"default\":true},{\"name\":\"state\",\"kind\":\"Any\",\"default\":[]}]},{\"type\":\"model\",\"name\":\"drag1\",\"properties\":[{\"name\":\"slider_width\",\"kind\":\"Any\",\"default\":5},{\"name\":\"slider_color\",\"kind\":\"Any\",\"default\":\"black\"},{\"name\":\"value\",\"kind\":\"Any\",\"default\":50}]},{\"type\":\"model\",\"name\":\"click1\",\"properties\":[{\"name\":\"terminal_output\",\"kind\":\"Any\",\"default\":\"\"},{\"name\":\"debug_name\",\"kind\":\"Any\",\"default\":\"\"},{\"name\":\"clears\",\"kind\":\"Any\",\"default\":0}]},{\"type\":\"model\",\"name\":\"FastWrapper1\",\"properties\":[{\"name\":\"object\",\"kind\":\"Any\",\"default\":null},{\"name\":\"style\",\"kind\":\"Any\",\"default\":null}]},{\"type\":\"model\",\"name\":\"NotificationArea1\",\"properties\":[{\"name\":\"js_events\",\"kind\":\"Any\",\"default\":{\"type\":\"map\"}},{\"name\":\"max_notifications\",\"kind\":\"Any\",\"default\":5},{\"name\":\"notifications\",\"kind\":\"Any\",\"default\":[]},{\"name\":\"position\",\"kind\":\"Any\",\"default\":\"bottom-right\"},{\"name\":\"_clear\",\"kind\":\"Any\",\"default\":0},{\"name\":\"types\",\"kind\":\"Any\",\"default\":[{\"type\":\"map\",\"entries\":[[\"type\",\"warning\"],[\"background\",\"#ffc107\"],[\"icon\",{\"type\":\"map\",\"entries\":[[\"className\",\"fas fa-exclamation-triangle\"],[\"tagName\",\"i\"],[\"color\",\"white\"]]}]]},{\"type\":\"map\",\"entries\":[[\"type\",\"info\"],[\"background\",\"#007bff\"],[\"icon\",{\"type\":\"map\",\"entries\":[[\"className\",\"fas fa-info-circle\"],[\"tagName\",\"i\"],[\"color\",\"white\"]]}]]}]}]},{\"type\":\"model\",\"name\":\"Notification\",\"properties\":[{\"name\":\"background\",\"kind\":\"Any\",\"default\":null},{\"name\":\"duration\",\"kind\":\"Any\",\"default\":3000},{\"name\":\"icon\",\"kind\":\"Any\",\"default\":null},{\"name\":\"message\",\"kind\":\"Any\",\"default\":\"\"},{\"name\":\"notification_type\",\"kind\":\"Any\",\"default\":null},{\"name\":\"_rendered\",\"kind\":\"Any\",\"default\":false},{\"name\":\"_destroyed\",\"kind\":\"Any\",\"default\":false}]},{\"type\":\"model\",\"name\":\"TemplateActions1\",\"properties\":[{\"name\":\"open_modal\",\"kind\":\"Any\",\"default\":0},{\"name\":\"close_modal\",\"kind\":\"Any\",\"default\":0}]},{\"type\":\"model\",\"name\":\"BootstrapTemplateActions1\",\"properties\":[{\"name\":\"open_modal\",\"kind\":\"Any\",\"default\":0},{\"name\":\"close_modal\",\"kind\":\"Any\",\"default\":0}]},{\"type\":\"model\",\"name\":\"TemplateEditor1\",\"properties\":[{\"name\":\"layout\",\"kind\":\"Any\",\"default\":[]}]},{\"type\":\"model\",\"name\":\"MaterialTemplateActions1\",\"properties\":[{\"name\":\"open_modal\",\"kind\":\"Any\",\"default\":0},{\"name\":\"close_modal\",\"kind\":\"Any\",\"default\":0}]},{\"type\":\"model\",\"name\":\"ReactiveESM1\",\"properties\":[{\"name\":\"esm_constants\",\"kind\":\"Any\",\"default\":{\"type\":\"map\"}}]},{\"type\":\"model\",\"name\":\"JSComponent1\",\"properties\":[{\"name\":\"esm_constants\",\"kind\":\"Any\",\"default\":{\"type\":\"map\"}}]},{\"type\":\"model\",\"name\":\"ReactComponent1\",\"properties\":[{\"name\":\"esm_constants\",\"kind\":\"Any\",\"default\":{\"type\":\"map\"}}]},{\"type\":\"model\",\"name\":\"AnyWidgetComponent1\",\"properties\":[{\"name\":\"esm_constants\",\"kind\":\"Any\",\"default\":{\"type\":\"map\"}}]},{\"type\":\"model\",\"name\":\"request_value1\",\"properties\":[{\"name\":\"fill\",\"kind\":\"Any\",\"default\":\"none\"},{\"name\":\"_synced\",\"kind\":\"Any\",\"default\":null},{\"name\":\"_request_sync\",\"kind\":\"Any\",\"default\":0}]}]}};\n",
       "  var render_items = [{\"docid\":\"21f74ae8-696c-4cbe-8a88-9516262ae0e6\",\"roots\":{\"497a0406-f58a-425d-ac76-4937380997fd\":\"bb88d199-9370-40d0-85b6-bae04d9f269e\"},\"root_ids\":[\"497a0406-f58a-425d-ac76-4937380997fd\"]}];\n",
       "  var docs = Object.values(docs_json)\n",
       "  if (!docs) {\n",
       "    return\n",
       "  }\n",
       "  const py_version = docs[0].version.replace('rc', '-rc.').replace('.dev', '-dev.')\n",
       "  async function embed_document(root) {\n",
       "    var Bokeh = get_bokeh(root)\n",
       "    await Bokeh.embed.embed_items_notebook(docs_json, render_items);\n",
       "    for (const render_item of render_items) {\n",
       "      for (const root_id of render_item.root_ids) {\n",
       "\tconst id_el = document.getElementById(root_id)\n",
       "\tif (id_el.children.length && id_el.children[0].hasAttribute('data-root-id')) {\n",
       "\t  const root_el = id_el.children[0]\n",
       "\t  root_el.id = root_el.id + '-rendered'\n",
       "\t  for (const child of root_el.children) {\n",
       "            // Ensure JupyterLab does not capture keyboard shortcuts\n",
       "            // see: https://jupyterlab.readthedocs.io/en/4.1.x/extension/notebook.html#keyboard-interaction-model\n",
       "\t    child.setAttribute('data-lm-suppress-shortcuts', 'true')\n",
       "\t  }\n",
       "\t}\n",
       "      }\n",
       "    }\n",
       "  }\n",
       "  function get_bokeh(root) {\n",
       "    if (root.Bokeh === undefined) {\n",
       "      return null\n",
       "    } else if (root.Bokeh.version !== py_version) {\n",
       "      if (root.Bokeh.versions === undefined || !root.Bokeh.versions.has(py_version)) {\n",
       "\treturn null\n",
       "      }\n",
       "      return root.Bokeh.versions.get(py_version);\n",
       "    } else if (root.Bokeh.version === py_version) {\n",
       "      return root.Bokeh\n",
       "    }\n",
       "    return null\n",
       "  }\n",
       "  function is_loaded(root) {\n",
       "    var Bokeh = get_bokeh(root)\n",
       "    return (Bokeh != null && Bokeh.Panel !== undefined)\n",
       "  }\n",
       "  if (is_loaded(root)) {\n",
       "    embed_document(root);\n",
       "  } else {\n",
       "    var attempts = 0;\n",
       "    var timer = setInterval(function(root) {\n",
       "      if (is_loaded(root)) {\n",
       "        clearInterval(timer);\n",
       "        embed_document(root);\n",
       "      } else if (document.readyState == \"complete\") {\n",
       "        attempts++;\n",
       "        if (attempts > 200) {\n",
       "          clearInterval(timer);\n",
       "\t  var Bokeh = get_bokeh(root)\n",
       "\t  if (Bokeh == null || Bokeh.Panel == null) {\n",
       "            console.warn(\"Panel: ERROR: Unable to run Panel code because Bokeh or Panel library is missing\");\n",
       "\t  } else {\n",
       "\t    console.warn(\"Panel: WARNING: Attempting to render but not all required libraries could be resolved.\")\n",
       "\t    embed_document(root)\n",
       "\t  }\n",
       "        }\n",
       "      }\n",
       "    }, 25, root)\n",
       "  }\n",
       "})(window);</script>"
      ],
      "text/plain": [
       ":Overlay\n",
       "   .Bars.I    :Bars   [post_str_b4]   (percent)\n",
       "   .HLine.I   :HLine   [x,y]\n",
       "   .HLine.II  :HLine   [x,y]\n",
       "   .HLine.III :HLine   [x,y]"
      ]
     },
     "metadata": {
      "application/vnd.holoviews_exec.v0+json": {
       "id": "497a0406-f58a-425d-ac76-4937380997fd"
      }
     },
     "output_type": "display_data"
    },
    {
     "name": "stdout",
     "output_type": "stream",
     "text": [
      "df_10_last FOR str_b4 = 15\n",
      "Last 3 results last_results=['15', '21']\n"
     ]
    },
    {
     "data": {
      "text/html": [
       "<div><style>\n",
       ".dataframe > thead > tr,\n",
       ".dataframe > tbody > tr {\n",
       "  text-align: right;\n",
       "  white-space: pre-wrap;\n",
       "}\n",
       "</style>\n",
       "<small>shape: (10, 30)</small><table border=\"1\" class=\"dataframe\"><thead><tr><th>fecha</th><th>sorteo</th><th>bolillas regulares</th><th>bolillas chauchamba</th><th>cc1</th><th>cc2</th><th>id</th><th>combo</th><th>b1</th><th>b2</th><th>b3</th><th>b4</th><th>b5</th><th>b6</th><th>str_b1</th><th>str_b2</th><th>str_b3</th><th>str_b4</th><th>str_b5</th><th>str_b6</th><th>post_str_b1</th><th>post_str_b2</th><th>post_str_b3</th><th>post_str_b4</th><th>post_str_b5</th><th>post_str_blast</th><th>is_rare_combination</th><th>reason</th><th>jumps_map</th><th>unijump</th></tr><tr><td>str</td><td>str</td><td>str</td><td>str</td><td>str</td><td>str</td><td>str</td><td>array[u8, 6]</td><td>u8</td><td>u8</td><td>u8</td><td>u8</td><td>u8</td><td>u8</td><td>str</td><td>str</td><td>str</td><td>str</td><td>str</td><td>str</td><td>str</td><td>str</td><td>str</td><td>str</td><td>str</td><td>str</td><td>bool</td><td>u8</td><td>str</td><td>i64</td></tr></thead><tbody><tr><td>&quot;17/04/2025&quot;</td><td>&quot;1796&quot;</td><td>&quot;12 06 38 15 37 02&quot;</td><td>&quot;21 11 28 24 32 20&quot;</td><td>&quot;&quot;</td><td>&quot;&quot;</td><td>&quot;020612153738&quot;</td><td>[2, 6, … 38]</td><td>2</td><td>6</td><td>12</td><td>15</td><td>37</td><td>38</td><td>&quot;02&quot;</td><td>&quot;06&quot;</td><td>&quot;12&quot;</td><td>&quot;15&quot;</td><td>&quot;37&quot;</td><td>&quot;38&quot;</td><td>&quot;02&quot;</td><td>&quot;06&quot;</td><td>&quot;12&quot;</td><td>&quot;15&quot;</td><td>&quot;37&quot;</td><td>&quot;38&quot;</td><td>false</td><td>0</td><td>&quot;04_06_03_22_01&quot;</td><td>-89</td></tr><tr><td>&quot;11/03/2025&quot;</td><td>&quot;1780&quot;</td><td>&quot;15 12 34 10 06 39&quot;</td><td>&quot;10 27 16 07 02 40&quot;</td><td>&quot;&quot;</td><td>&quot;&quot;</td><td>&quot;061012153439&quot;</td><td>[6, 10, … 39]</td><td>6</td><td>10</td><td>12</td><td>15</td><td>34</td><td>39</td><td>&quot;06&quot;</td><td>&quot;10&quot;</td><td>&quot;12&quot;</td><td>&quot;15&quot;</td><td>&quot;34&quot;</td><td>&quot;39&quot;</td><td>&quot;06&quot;</td><td>&quot;07&quot;</td><td>&quot;19&quot;</td><td>&quot;21&quot;</td><td>&quot;28&quot;</td><td>&quot;40&quot;</td><td>false</td><td>0</td><td>&quot;04_02_03_19_05&quot;</td><td>-57</td></tr><tr><td>&quot;11/03/2025&quot;</td><td>&quot;1780&quot;</td><td>&quot;15 12 34 10 06 39&quot;</td><td>&quot;10 27 16 07 02 40&quot;</td><td>&quot;&quot;</td><td>&quot;&quot;</td><td>&quot;061012153439&quot;</td><td>[6, 10, … 39]</td><td>6</td><td>10</td><td>12</td><td>15</td><td>34</td><td>39</td><td>&quot;06&quot;</td><td>&quot;10&quot;</td><td>&quot;12&quot;</td><td>&quot;15&quot;</td><td>&quot;34&quot;</td><td>&quot;39&quot;</td><td>&quot;06&quot;</td><td>&quot;10&quot;</td><td>&quot;12&quot;</td><td>&quot;15&quot;</td><td>&quot;34&quot;</td><td>&quot;39&quot;</td><td>false</td><td>0</td><td>&quot;04_02_03_19_05&quot;</td><td>-57</td></tr><tr><td>&quot;07/11/2024&quot;</td><td>&quot;1727&quot;</td><td>&quot;15 36 22 09 04 13&quot;</td><td>&quot;32 06 23 01 11 39&quot;</td><td>&quot;&quot;</td><td>&quot;&quot;</td><td>&quot;040913152236&quot;</td><td>[4, 9, … 36]</td><td>4</td><td>9</td><td>13</td><td>15</td><td>22</td><td>36</td><td>&quot;04&quot;</td><td>&quot;09&quot;</td><td>&quot;13&quot;</td><td>&quot;15&quot;</td><td>&quot;22&quot;</td><td>&quot;36&quot;</td><td>&quot;07&quot;</td><td>&quot;10&quot;</td><td>&quot;20&quot;</td><td>&quot;24&quot;</td><td>&quot;26&quot;</td><td>&quot;35&quot;</td><td>false</td><td>0</td><td>&quot;05_04_02_07_14&quot;</td><td>-13</td></tr><tr><td>&quot;07/11/2024&quot;</td><td>&quot;1727&quot;</td><td>&quot;15 36 22 09 04 13&quot;</td><td>&quot;32 06 23 01 11 39&quot;</td><td>&quot;&quot;</td><td>&quot;&quot;</td><td>&quot;040913152236&quot;</td><td>[4, 9, … 36]</td><td>4</td><td>9</td><td>13</td><td>15</td><td>22</td><td>36</td><td>&quot;04&quot;</td><td>&quot;09&quot;</td><td>&quot;13&quot;</td><td>&quot;15&quot;</td><td>&quot;22&quot;</td><td>&quot;36&quot;</td><td>&quot;04&quot;</td><td>&quot;09&quot;</td><td>&quot;13&quot;</td><td>&quot;15&quot;</td><td>&quot;22&quot;</td><td>&quot;36&quot;</td><td>false</td><td>0</td><td>&quot;05_04_02_07_14&quot;</td><td>-13</td></tr><tr><td>&quot;05/10/2024&quot;</td><td>&quot;1713&quot;</td><td>&quot;14 07 15 25 40 04&quot;</td><td>&quot;17 33 23 26 30 04&quot;</td><td>&quot;&quot;</td><td>&quot;&quot;</td><td>&quot;040714152540&quot;</td><td>[4, 7, … 40]</td><td>4</td><td>7</td><td>14</td><td>15</td><td>25</td><td>40</td><td>&quot;04&quot;</td><td>&quot;07&quot;</td><td>&quot;14&quot;</td><td>&quot;15&quot;</td><td>&quot;25&quot;</td><td>&quot;40&quot;</td><td>&quot;09&quot;</td><td>&quot;14&quot;</td><td>&quot;20&quot;</td><td>&quot;23&quot;</td><td>&quot;28&quot;</td><td>&quot;34&quot;</td><td>true</td><td>16</td><td>&quot;03_07_01_10_15&quot;</td><td>-44</td></tr><tr><td>&quot;05/10/2024&quot;</td><td>&quot;1713&quot;</td><td>&quot;14 07 15 25 40 04&quot;</td><td>&quot;17 33 23 26 30 04&quot;</td><td>&quot;&quot;</td><td>&quot;&quot;</td><td>&quot;040714152540&quot;</td><td>[4, 7, … 40]</td><td>4</td><td>7</td><td>14</td><td>15</td><td>25</td><td>40</td><td>&quot;04&quot;</td><td>&quot;07&quot;</td><td>&quot;14&quot;</td><td>&quot;15&quot;</td><td>&quot;25&quot;</td><td>&quot;40&quot;</td><td>&quot;04&quot;</td><td>&quot;07&quot;</td><td>&quot;14&quot;</td><td>&quot;15&quot;</td><td>&quot;25&quot;</td><td>&quot;40&quot;</td><td>true</td><td>16</td><td>&quot;03_07_01_10_15&quot;</td><td>-44</td></tr><tr><td>&quot;06/07/2024&quot;</td><td>&quot;1674&quot;</td><td>&quot;15 09 07 23 24 10&quot;</td><td>&quot;05 09 39 10 01 21&quot;</td><td>&quot;&quot;</td><td>&quot;&quot;</td><td>&quot;070910152324&quot;</td><td>[7, 9, … 24]</td><td>7</td><td>9</td><td>10</td><td>15</td><td>23</td><td>24</td><td>&quot;07&quot;</td><td>&quot;09&quot;</td><td>&quot;10&quot;</td><td>&quot;15&quot;</td><td>&quot;23&quot;</td><td>&quot;24&quot;</td><td>&quot;14&quot;</td><td>&quot;17&quot;</td><td>&quot;26&quot;</td><td>&quot;30&quot;</td><td>&quot;37&quot;</td><td>&quot;39&quot;</td><td>false</td><td>0</td><td>&quot;02_01_05_08_01&quot;</td><td>-3</td></tr><tr><td>&quot;06/07/2024&quot;</td><td>&quot;1674&quot;</td><td>&quot;15 09 07 23 24 10&quot;</td><td>&quot;05 09 39 10 01 21&quot;</td><td>&quot;&quot;</td><td>&quot;&quot;</td><td>&quot;070910152324&quot;</td><td>[7, 9, … 24]</td><td>7</td><td>9</td><td>10</td><td>15</td><td>23</td><td>24</td><td>&quot;07&quot;</td><td>&quot;09&quot;</td><td>&quot;10&quot;</td><td>&quot;15&quot;</td><td>&quot;23&quot;</td><td>&quot;24&quot;</td><td>&quot;07&quot;</td><td>&quot;09&quot;</td><td>&quot;10&quot;</td><td>&quot;15&quot;</td><td>&quot;23&quot;</td><td>&quot;24&quot;</td><td>false</td><td>0</td><td>&quot;02_01_05_08_01&quot;</td><td>-3</td></tr><tr><td>&quot;27/06/2024&quot;</td><td>&quot;1670&quot;</td><td>&quot;24 13 40 15 12 02&quot;</td><td>&quot;32 31 22 04 17 13&quot;</td><td>&quot;&quot;</td><td>&quot;&quot;</td><td>&quot;021213152440&quot;</td><td>[2, 12, … 40]</td><td>2</td><td>12</td><td>13</td><td>15</td><td>24</td><td>40</td><td>&quot;02&quot;</td><td>&quot;12&quot;</td><td>&quot;13&quot;</td><td>&quot;15&quot;</td><td>&quot;24&quot;</td><td>&quot;40&quot;</td><td>&quot;09&quot;</td><td>&quot;14&quot;</td><td>&quot;18&quot;</td><td>&quot;22&quot;</td><td>&quot;29&quot;</td><td>&quot;32&quot;</td><td>false</td><td>0</td><td>&quot;10_01_02_09_16&quot;</td><td>-2</td></tr></tbody></table></div>"
      ],
      "text/plain": [
       "shape: (10, 30)\n",
       "┌────────────┬────────┬─────────────┬─────────────┬───┬────────────┬────────┬────────────┬─────────┐\n",
       "│ fecha      ┆ sorteo ┆ bolillas    ┆ bolillas    ┆ … ┆ is_rare_co ┆ reason ┆ jumps_map  ┆ unijump │\n",
       "│ ---        ┆ ---    ┆ regulares   ┆ chauchamba  ┆   ┆ mbination  ┆ ---    ┆ ---        ┆ ---     │\n",
       "│ str        ┆ str    ┆ ---         ┆ ---         ┆   ┆ ---        ┆ u8     ┆ str        ┆ i64     │\n",
       "│            ┆        ┆ str         ┆ str         ┆   ┆ bool       ┆        ┆            ┆         │\n",
       "╞════════════╪════════╪═════════════╪═════════════╪═══╪════════════╪════════╪════════════╪═════════╡\n",
       "│ 17/04/2025 ┆ 1796   ┆ 12 06 38 15 ┆ 21 11 28 24 ┆ … ┆ false      ┆ 0      ┆ 04_06_03_2 ┆ -89     │\n",
       "│            ┆        ┆ 37 02       ┆ 32 20       ┆   ┆            ┆        ┆ 2_01       ┆         │\n",
       "│ 11/03/2025 ┆ 1780   ┆ 15 12 34 10 ┆ 10 27 16 07 ┆ … ┆ false      ┆ 0      ┆ 04_02_03_1 ┆ -57     │\n",
       "│            ┆        ┆ 06 39       ┆ 02 40       ┆   ┆            ┆        ┆ 9_05       ┆         │\n",
       "│ 11/03/2025 ┆ 1780   ┆ 15 12 34 10 ┆ 10 27 16 07 ┆ … ┆ false      ┆ 0      ┆ 04_02_03_1 ┆ -57     │\n",
       "│            ┆        ┆ 06 39       ┆ 02 40       ┆   ┆            ┆        ┆ 9_05       ┆         │\n",
       "│ 07/11/2024 ┆ 1727   ┆ 15 36 22 09 ┆ 32 06 23 01 ┆ … ┆ false      ┆ 0      ┆ 05_04_02_0 ┆ -13     │\n",
       "│            ┆        ┆ 04 13       ┆ 11 39       ┆   ┆            ┆        ┆ 7_14       ┆         │\n",
       "│ 07/11/2024 ┆ 1727   ┆ 15 36 22 09 ┆ 32 06 23 01 ┆ … ┆ false      ┆ 0      ┆ 05_04_02_0 ┆ -13     │\n",
       "│            ┆        ┆ 04 13       ┆ 11 39       ┆   ┆            ┆        ┆ 7_14       ┆         │\n",
       "│ 05/10/2024 ┆ 1713   ┆ 14 07 15 25 ┆ 17 33 23 26 ┆ … ┆ true       ┆ 16     ┆ 03_07_01_1 ┆ -44     │\n",
       "│            ┆        ┆ 40 04       ┆ 30 04       ┆   ┆            ┆        ┆ 0_15       ┆         │\n",
       "│ 05/10/2024 ┆ 1713   ┆ 14 07 15 25 ┆ 17 33 23 26 ┆ … ┆ true       ┆ 16     ┆ 03_07_01_1 ┆ -44     │\n",
       "│            ┆        ┆ 40 04       ┆ 30 04       ┆   ┆            ┆        ┆ 0_15       ┆         │\n",
       "│ 06/07/2024 ┆ 1674   ┆ 15 09 07 23 ┆ 05 09 39 10 ┆ … ┆ false      ┆ 0      ┆ 02_01_05_0 ┆ -3      │\n",
       "│            ┆        ┆ 24 10       ┆ 01 21       ┆   ┆            ┆        ┆ 8_01       ┆         │\n",
       "│ 06/07/2024 ┆ 1674   ┆ 15 09 07 23 ┆ 05 09 39 10 ┆ … ┆ false      ┆ 0      ┆ 02_01_05_0 ┆ -3      │\n",
       "│            ┆        ┆ 24 10       ┆ 01 21       ┆   ┆            ┆        ┆ 8_01       ┆         │\n",
       "│ 27/06/2024 ┆ 1670   ┆ 24 13 40 15 ┆ 32 31 22 04 ┆ … ┆ false      ┆ 0      ┆ 10_01_02_0 ┆ -2      │\n",
       "│            ┆        ┆ 12 02       ┆ 17 13       ┆   ┆            ┆        ┆ 9_16       ┆         │\n",
       "└────────────┴────────┴─────────────┴─────────────┴───┴────────────┴────────┴────────────┴─────────┘"
      ]
     },
     "metadata": {},
     "output_type": "display_data"
    },
    {
     "name": "stdout",
     "output_type": "stream",
     "text": [
      "df_jumps_map FOR str_b4 = 15\n"
     ]
    },
    {
     "data": {
      "text/html": [
       "<div><style>\n",
       ".dataframe > thead > tr,\n",
       ".dataframe > tbody > tr {\n",
       "  text-align: right;\n",
       "  white-space: pre-wrap;\n",
       "}\n",
       "</style>\n",
       "<small>shape: (114, 2)</small><table border=\"1\" class=\"dataframe\"><thead><tr><th>jumps_map</th><th>count</th></tr><tr><td>str</td><td>u32</td></tr></thead><tbody><tr><td>&quot;03_03_04_02_01&quot;</td><td>2</td></tr><tr><td>&quot;05_04_02_07_14&quot;</td><td>2</td></tr><tr><td>&quot;07_03_03_01_17&quot;</td><td>2</td></tr><tr><td>&quot;01_01_05_01_09&quot;</td><td>2</td></tr><tr><td>&quot;02_09_02_03_13&quot;</td><td>2</td></tr><tr><td>&hellip;</td><td>&hellip;</td></tr><tr><td>&quot;02_05_03_04_21&quot;</td><td>1</td></tr><tr><td>&quot;01_04_01_22_02&quot;</td><td>1</td></tr><tr><td>&quot;02_03_05_11_11&quot;</td><td>1</td></tr><tr><td>&quot;02_11_01_02_08&quot;</td><td>1</td></tr><tr><td>&quot;01_04_02_21_02&quot;</td><td>1</td></tr></tbody></table></div>"
      ],
      "text/plain": [
       "shape: (114, 2)\n",
       "┌────────────────┬───────┐\n",
       "│ jumps_map      ┆ count │\n",
       "│ ---            ┆ ---   │\n",
       "│ str            ┆ u32   │\n",
       "╞════════════════╪═══════╡\n",
       "│ 03_03_04_02_01 ┆ 2     │\n",
       "│ 05_04_02_07_14 ┆ 2     │\n",
       "│ 07_03_03_01_17 ┆ 2     │\n",
       "│ 01_01_05_01_09 ┆ 2     │\n",
       "│ 02_09_02_03_13 ┆ 2     │\n",
       "│ …              ┆ …     │\n",
       "│ 02_05_03_04_21 ┆ 1     │\n",
       "│ 01_04_01_22_02 ┆ 1     │\n",
       "│ 02_03_05_11_11 ┆ 1     │\n",
       "│ 02_11_01_02_08 ┆ 1     │\n",
       "│ 01_04_02_21_02 ┆ 1     │\n",
       "└────────────────┴───────┘"
      ]
     },
     "metadata": {},
     "output_type": "display_data"
    },
    {
     "name": "stdout",
     "output_type": "stream",
     "text": [
      "df_unijump FOR str_b4 = 15\n"
     ]
    },
    {
     "data": {
      "text/html": [
       "<div><style>\n",
       ".dataframe > thead > tr,\n",
       ".dataframe > tbody > tr {\n",
       "  text-align: right;\n",
       "  white-space: pre-wrap;\n",
       "}\n",
       "</style>\n",
       "<small>shape: (73, 2)</small><table border=\"1\" class=\"dataframe\"><thead><tr><th>unijump</th><th>count</th></tr><tr><td>i64</td><td>u32</td></tr></thead><tbody><tr><td>-44</td><td>10</td></tr><tr><td>-13</td><td>6</td></tr><tr><td>-24</td><td>6</td></tr><tr><td>-2</td><td>6</td></tr><tr><td>18</td><td>5</td></tr><tr><td>&hellip;</td><td>&hellip;</td></tr><tr><td>9</td><td>1</td></tr><tr><td>-89</td><td>1</td></tr><tr><td>-15</td><td>1</td></tr><tr><td>-14</td><td>1</td></tr><tr><td>2</td><td>1</td></tr></tbody></table></div>"
      ],
      "text/plain": [
       "shape: (73, 2)\n",
       "┌─────────┬───────┐\n",
       "│ unijump ┆ count │\n",
       "│ ---     ┆ ---   │\n",
       "│ i64     ┆ u32   │\n",
       "╞═════════╪═══════╡\n",
       "│ -44     ┆ 10    │\n",
       "│ -13     ┆ 6     │\n",
       "│ -24     ┆ 6     │\n",
       "│ -2      ┆ 6     │\n",
       "│ 18      ┆ 5     │\n",
       "│ …       ┆ …     │\n",
       "│ 9       ┆ 1     │\n",
       "│ -89     ┆ 1     │\n",
       "│ -15     ┆ 1     │\n",
       "│ -14     ┆ 1     │\n",
       "│ 2       ┆ 1     │\n",
       "└─────────┴───────┘"
      ]
     },
     "metadata": {},
     "output_type": "display_data"
    }
   ],
   "source": [
    "possible_b4, exclude_jump_maps_b4, last_post_b4 = plot_post_col(col='str_b4', post_col='post_str_b4')"
   ]
  },
  {
   "cell_type": "code",
   "execution_count": 21,
   "metadata": {},
   "outputs": [
    {
     "name": "stdout",
     "output_type": "stream",
     "text": [
      "Setting test_value='37'\n",
      "df_viz FOR str_b5 = 37\n"
     ]
    },
    {
     "data": {
      "text/html": [
       "<div><style>\n",
       ".dataframe > thead > tr,\n",
       ".dataframe > tbody > tr {\n",
       "  text-align: right;\n",
       "  white-space: pre-wrap;\n",
       "}\n",
       "</style>\n",
       "<small>shape: (25, 3)</small><table border=\"1\" class=\"dataframe\"><thead><tr><th>post_str_b5</th><th>count</th><th>percent</th></tr><tr><td>str</td><td>u32</td><td>f64</td></tr></thead><tbody><tr><td>&quot;37&quot;</td><td>78</td><td>32.098765</td></tr><tr><td>&quot;30&quot;</td><td>14</td><td>5.761317</td></tr><tr><td>&quot;33&quot;</td><td>12</td><td>4.938272</td></tr><tr><td>&quot;27&quot;</td><td>12</td><td>4.938272</td></tr><tr><td>&quot;36&quot;</td><td>10</td><td>4.115226</td></tr><tr><td>&hellip;</td><td>&hellip;</td><td>&hellip;</td></tr><tr><td>&quot;21&quot;</td><td>3</td><td>1.234568</td></tr><tr><td>&quot;22&quot;</td><td>2</td><td>0.823045</td></tr><tr><td>&quot;16&quot;</td><td>2</td><td>0.823045</td></tr><tr><td>&quot;17&quot;</td><td>2</td><td>0.823045</td></tr><tr><td>&quot;14&quot;</td><td>1</td><td>0.411523</td></tr></tbody></table></div>"
      ],
      "text/plain": [
       "shape: (25, 3)\n",
       "┌─────────────┬───────┬───────────┐\n",
       "│ post_str_b5 ┆ count ┆ percent   │\n",
       "│ ---         ┆ ---   ┆ ---       │\n",
       "│ str         ┆ u32   ┆ f64       │\n",
       "╞═════════════╪═══════╪═══════════╡\n",
       "│ 37          ┆ 78    ┆ 32.098765 │\n",
       "│ 30          ┆ 14    ┆ 5.761317  │\n",
       "│ 33          ┆ 12    ┆ 4.938272  │\n",
       "│ 27          ┆ 12    ┆ 4.938272  │\n",
       "│ 36          ┆ 10    ┆ 4.115226  │\n",
       "│ …           ┆ …     ┆ …         │\n",
       "│ 21          ┆ 3     ┆ 1.234568  │\n",
       "│ 22          ┆ 2     ┆ 0.823045  │\n",
       "│ 16          ┆ 2     ┆ 0.823045  │\n",
       "│ 17          ┆ 2     ┆ 0.823045  │\n",
       "│ 14          ┆ 1     ┆ 0.411523  │\n",
       "└─────────────┴───────┴───────────┘"
      ]
     },
     "metadata": {},
     "output_type": "display_data"
    },
    {
     "data": {},
     "metadata": {},
     "output_type": "display_data"
    },
    {
     "data": {
      "application/vnd.holoviews_exec.v0+json": "",
      "text/html": [
       "<div id='ec4c15dd-05d9-4990-81bd-40c2833c793e'>\n",
       "  <div id=\"b91ead15-be4a-40e9-82c2-ea15c36cb81d\" data-root-id=\"ec4c15dd-05d9-4990-81bd-40c2833c793e\" style=\"display: contents;\"></div>\n",
       "</div>\n",
       "<script type=\"application/javascript\">(function(root) {\n",
       "  var docs_json = {\"4c5be0ab-65cb-4a36-8da8-b5ba951f470f\":{\"version\":\"3.7.2\",\"title\":\"Bokeh Application\",\"roots\":[{\"type\":\"object\",\"name\":\"Row\",\"id\":\"ec4c15dd-05d9-4990-81bd-40c2833c793e\",\"attributes\":{\"name\":\"Row00641\",\"tags\":[\"embedded\"],\"stylesheets\":[\"\\n:host(.pn-loading):before, .pn-loading:before {\\n  background-color: #c3c3c3;\\n  mask-size: auto calc(min(50%, 400px));\\n  -webkit-mask-size: auto calc(min(50%, 400px));\\n}\",{\"type\":\"object\",\"name\":\"ImportedStyleSheet\",\"id\":\"4c1b4631-6fd4-49ce-81e7-47a9384e6512\",\"attributes\":{\"url\":\"https://cdn.holoviz.org/panel/1.6.2/dist/css/loading.css\"}},{\"type\":\"object\",\"name\":\"ImportedStyleSheet\",\"id\":\"550de046-82d6-42fc-827c-e20708272da7\",\"attributes\":{\"url\":\"https://cdn.holoviz.org/panel/1.6.2/dist/css/listpanel.css\"}},{\"type\":\"object\",\"name\":\"ImportedStyleSheet\",\"id\":\"ed718596-2d01-403b-a6bc-21e003313a67\",\"attributes\":{\"url\":\"https://cdn.holoviz.org/panel/1.6.2/dist/bundled/theme/default.css\"}},{\"type\":\"object\",\"name\":\"ImportedStyleSheet\",\"id\":\"4f24235d-883f-4218-9d3a-36958128b8db\",\"attributes\":{\"url\":\"https://cdn.holoviz.org/panel/1.6.2/dist/bundled/theme/native.css\"}}],\"min_width\":700,\"margin\":0,\"sizing_mode\":\"stretch_width\",\"align\":\"start\",\"children\":[{\"type\":\"object\",\"name\":\"Spacer\",\"id\":\"0ee2832c-bc43-4bc2-b112-a03cdb61318f\",\"attributes\":{\"name\":\"HSpacer00645\",\"stylesheets\":[\"\\n:host(.pn-loading):before, .pn-loading:before {\\n  background-color: #c3c3c3;\\n  mask-size: auto calc(min(50%, 400px));\\n  -webkit-mask-size: auto calc(min(50%, 400px));\\n}\",{\"id\":\"4c1b4631-6fd4-49ce-81e7-47a9384e6512\"},{\"id\":\"ed718596-2d01-403b-a6bc-21e003313a67\"},{\"id\":\"4f24235d-883f-4218-9d3a-36958128b8db\"}],\"margin\":0,\"sizing_mode\":\"stretch_width\",\"align\":\"start\"}},{\"type\":\"object\",\"name\":\"Figure\",\"id\":\"779aaf07-f721-4a33-a79f-4ee4dfe61765\",\"attributes\":{\"width\":700,\"height\":300,\"margin\":[5,10],\"sizing_mode\":\"fixed\",\"align\":\"start\",\"x_range\":{\"type\":\"object\",\"name\":\"FactorRange\",\"id\":\"4dc48fc3-c72f-4a30-9b51-a067aec8addc\",\"attributes\":{\"name\":\"post_str_b5\",\"tags\":[[[\"post_str_b5\",null]],[]],\"factors\":[\"37\",\"30\",\"33\",\"27\",\"36\",\"24\",\"34\",\"32\",\"29\",\"35\",\"31\",\"28\",\"25\",\"26\",\"38\",\"23\",\"19\",\"39\",\"20\",\"15\",\"21\",\"22\",\"16\",\"17\",\"14\"]}},\"y_range\":{\"type\":\"object\",\"name\":\"Range1d\",\"id\":\"06601547-cd2c-43d3-956b-0ec2fafdda9c\",\"attributes\":{\"name\":\"percent\",\"tags\":[[[\"percent\",null]],{\"type\":\"map\",\"entries\":[[\"invert_yaxis\",false],[\"autorange\",false]]}],\"end\":35.26748971193416,\"reset_start\":0.0,\"reset_end\":35.26748971193416}},\"x_scale\":{\"type\":\"object\",\"name\":\"CategoricalScale\",\"id\":\"85a32079-4cf0-4acc-9a88-df898d8c3c8f\"},\"y_scale\":{\"type\":\"object\",\"name\":\"LinearScale\",\"id\":\"82fa5115-a445-4ad7-8fbd-0c1f1aa520db\"},\"title\":{\"type\":\"object\",\"name\":\"Title\",\"id\":\"44c645c6-37d0-4243-bf46-7628ce4c71b2\",\"attributes\":{\"text_color\":\"black\",\"text_font_size\":\"12pt\"}},\"renderers\":[{\"type\":\"object\",\"name\":\"GlyphRenderer\",\"id\":\"4e2a4730-febf-4fb5-9bf6-b96653887f2c\",\"attributes\":{\"data_source\":{\"type\":\"object\",\"name\":\"ColumnDataSource\",\"id\":\"8f3cac4f-b75a-4145-b028-faeea055ba91\",\"attributes\":{\"selected\":{\"type\":\"object\",\"name\":\"Selection\",\"id\":\"7bec1c7b-210f-4832-b05f-80d336c3c626\",\"attributes\":{\"indices\":[],\"line_indices\":[]}},\"selection_policy\":{\"type\":\"object\",\"name\":\"UnionRenderers\",\"id\":\"62496f65-0bb7-4b2a-bbfb-ff79886343f8\"},\"data\":{\"type\":\"map\",\"entries\":[[\"post_str_b5\",[\"37\",\"30\",\"33\",\"27\",\"36\",\"24\",\"34\",\"32\",\"29\",\"35\",\"31\",\"28\",\"25\",\"26\",\"38\",\"23\",\"19\",\"39\",\"20\",\"15\",\"21\",\"22\",\"16\",\"17\",\"14\"]],[\"percent\",{\"type\":\"ndarray\",\"array\":{\"type\":\"bytes\",\"data\":\"dWt+WKQMQECB4nOmlgsXQLjmh0XKwBNAuOaHRcrAE0Dv6pvk/XUQQO/qm+T9dRBA7+qb5P11EEDv6pvk/XUQQO/qm+T9dRBAFNpLaC+hDUAU2ktoL6ENQBTaS2gvoQ1ASt5fB2NWCkCB4nOmlgsHQLjmh0XKwANA7+qb5P11AEBK3l8HY1b6P0reXwdjVvo/uOaHRcrA8z+45odFysDzP7jmh0XKwPM/St5fB2NW6j9K3l8HY1bqP0reXwdjVuo/St5fB2NW2j8=\"},\"shape\":[25],\"dtype\":\"float64\",\"order\":\"little\"}]]}}},\"view\":{\"type\":\"object\",\"name\":\"CDSView\",\"id\":\"53aa19b3-d90c-4c6b-88d3-2d9129e706ee\",\"attributes\":{\"filter\":{\"type\":\"object\",\"name\":\"AllIndices\",\"id\":\"7ac5fb98-4bdb-4f70-bee2-4e60883de70b\"}}},\"glyph\":{\"type\":\"object\",\"name\":\"VBar\",\"id\":\"dcbfdf5f-6219-40d1-a96e-de27b1312c22\",\"attributes\":{\"tags\":[\"apply_ranges\"],\"x\":{\"type\":\"field\",\"field\":\"post_str_b5\"},\"width\":{\"type\":\"value\",\"value\":0.8},\"top\":{\"type\":\"field\",\"field\":\"percent\"},\"fill_color\":{\"type\":\"value\",\"value\":\"#30a2da\"},\"hatch_color\":{\"type\":\"value\",\"value\":\"#30a2da\"}}},\"selection_glyph\":{\"type\":\"object\",\"name\":\"VBar\",\"id\":\"adb93f6c-c301-45b0-9bcb-6108ab7b2a23\",\"attributes\":{\"tags\":[\"apply_ranges\"],\"x\":{\"type\":\"field\",\"field\":\"post_str_b5\"},\"width\":{\"type\":\"value\",\"value\":0.8},\"bottom\":{\"type\":\"value\",\"value\":0},\"top\":{\"type\":\"field\",\"field\":\"percent\"},\"line_color\":{\"type\":\"value\",\"value\":\"black\"},\"line_alpha\":{\"type\":\"value\",\"value\":1.0},\"line_width\":{\"type\":\"value\",\"value\":1},\"line_join\":{\"type\":\"value\",\"value\":\"bevel\"},\"line_cap\":{\"type\":\"value\",\"value\":\"butt\"},\"line_dash\":{\"type\":\"value\",\"value\":[]},\"line_dash_offset\":{\"type\":\"value\",\"value\":0},\"fill_color\":{\"type\":\"value\",\"value\":\"#30a2da\"},\"fill_alpha\":{\"type\":\"value\",\"value\":1.0},\"hatch_color\":{\"type\":\"value\",\"value\":\"#30a2da\"},\"hatch_alpha\":{\"type\":\"value\",\"value\":1.0},\"hatch_scale\":{\"type\":\"value\",\"value\":12.0},\"hatch_pattern\":{\"type\":\"value\",\"value\":null},\"hatch_weight\":{\"type\":\"value\",\"value\":1.0}}},\"nonselection_glyph\":{\"type\":\"object\",\"name\":\"VBar\",\"id\":\"5207109a-e7ec-4bcb-9c3e-1c314c57115b\",\"attributes\":{\"tags\":[\"apply_ranges\"],\"x\":{\"type\":\"field\",\"field\":\"post_str_b5\"},\"width\":{\"type\":\"value\",\"value\":0.8},\"top\":{\"type\":\"field\",\"field\":\"percent\"},\"line_alpha\":{\"type\":\"value\",\"value\":0.1},\"fill_color\":{\"type\":\"value\",\"value\":\"#30a2da\"},\"fill_alpha\":{\"type\":\"value\",\"value\":0.1},\"hatch_color\":{\"type\":\"value\",\"value\":\"#30a2da\"},\"hatch_alpha\":{\"type\":\"value\",\"value\":0.1}}},\"muted_glyph\":{\"type\":\"object\",\"name\":\"VBar\",\"id\":\"14e4c9e0-17e2-40c4-9f00-6f0e5787b910\",\"attributes\":{\"tags\":[\"apply_ranges\"],\"x\":{\"type\":\"field\",\"field\":\"post_str_b5\"},\"width\":{\"type\":\"value\",\"value\":0.8},\"top\":{\"type\":\"field\",\"field\":\"percent\"},\"line_alpha\":{\"type\":\"value\",\"value\":0.2},\"fill_color\":{\"type\":\"value\",\"value\":\"#30a2da\"},\"fill_alpha\":{\"type\":\"value\",\"value\":0.2},\"hatch_color\":{\"type\":\"value\",\"value\":\"#30a2da\"},\"hatch_alpha\":{\"type\":\"value\",\"value\":0.2}}}}},{\"type\":\"object\",\"name\":\"Span\",\"id\":\"6285f754-1227-4366-974c-d92fc42d77df\",\"attributes\":{\"level\":\"glyph\",\"location\":4.000000000000001,\"line_color\":\"red\",\"line_width\":3}},{\"type\":\"object\",\"name\":\"Span\",\"id\":\"cc657a29-ea7e-4c89-907b-c1bef12de8a4\",\"attributes\":{\"level\":\"glyph\",\"location\":6.000000000000001,\"line_color\":\"blue\",\"line_width\":3}},{\"type\":\"object\",\"name\":\"Span\",\"id\":\"a55d0605-0f78-49fc-82e5-3a0c4219edb0\",\"attributes\":{\"level\":\"glyph\",\"location\":2.0000000000000004,\"line_color\":\"blue\",\"line_width\":3}}],\"toolbar\":{\"type\":\"object\",\"name\":\"Toolbar\",\"id\":\"2c8989c9-6717-4fa0-9e44-249bcb583127\",\"attributes\":{\"tools\":[{\"type\":\"object\",\"name\":\"WheelZoomTool\",\"id\":\"7c1ae8d7-a51e-44dc-ae71-65e3d05d10f6\",\"attributes\":{\"tags\":[\"hv_created\"],\"renderers\":\"auto\",\"zoom_together\":\"none\"}},{\"type\":\"object\",\"name\":\"HoverTool\",\"id\":\"efd1aa95-0369-4ae8-9395-05eae9c390cb\",\"attributes\":{\"tags\":[\"hv_created\"],\"renderers\":[{\"id\":\"4e2a4730-febf-4fb5-9bf6-b96653887f2c\"}],\"tooltips\":[[\"post_str_b5\",\"@{post_str_b5}\"],[\"percent\",\"@{percent}\"]]}},{\"type\":\"object\",\"name\":\"SaveTool\",\"id\":\"9fd8be2b-ef8b-4753-9fda-83ae47dcad08\"},{\"type\":\"object\",\"name\":\"PanTool\",\"id\":\"c62afa5a-3fea-46f2-89c2-2a0d5031e00f\"},{\"type\":\"object\",\"name\":\"BoxZoomTool\",\"id\":\"371e25ae-fddd-49fd-8adb-54c737baa3a5\",\"attributes\":{\"dimensions\":\"both\",\"overlay\":{\"type\":\"object\",\"name\":\"BoxAnnotation\",\"id\":\"ac3c2a48-c5ef-4830-ba00-f9560b1c1210\",\"attributes\":{\"syncable\":false,\"line_color\":\"black\",\"line_alpha\":1.0,\"line_width\":2,\"line_dash\":[4,4],\"fill_color\":\"lightgrey\",\"fill_alpha\":0.5,\"level\":\"overlay\",\"visible\":false,\"left\":{\"type\":\"number\",\"value\":\"nan\"},\"right\":{\"type\":\"number\",\"value\":\"nan\"},\"top\":{\"type\":\"number\",\"value\":\"nan\"},\"bottom\":{\"type\":\"number\",\"value\":\"nan\"},\"left_units\":\"canvas\",\"right_units\":\"canvas\",\"top_units\":\"canvas\",\"bottom_units\":\"canvas\",\"handles\":{\"type\":\"object\",\"name\":\"BoxInteractionHandles\",\"id\":\"9c25a9d0-2108-4dd1-9f0d-0a8d997fdadd\",\"attributes\":{\"all\":{\"type\":\"object\",\"name\":\"AreaVisuals\",\"id\":\"2e8c70e8-94e7-40d9-a001-4b7ab9142c3b\",\"attributes\":{\"fill_color\":\"white\",\"hover_fill_color\":\"lightgray\"}}}}}}}},{\"type\":\"object\",\"name\":\"ResetTool\",\"id\":\"d14f2b41-18b5-41cc-9ea8-deb838acd532\"}],\"active_drag\":{\"id\":\"c62afa5a-3fea-46f2-89c2-2a0d5031e00f\"}}},\"left\":[{\"type\":\"object\",\"name\":\"LinearAxis\",\"id\":\"abe703ea-3905-4c84-95bd-754c049df39d\",\"attributes\":{\"ticker\":{\"type\":\"object\",\"name\":\"BasicTicker\",\"id\":\"6855839d-7211-42f3-b7b7-27a71a772e7b\",\"attributes\":{\"mantissas\":[1,2,5]}},\"formatter\":{\"type\":\"object\",\"name\":\"BasicTickFormatter\",\"id\":\"f4fffa87-45d7-4c25-b80f-5a5017cf3558\"},\"axis_label\":\"percent\",\"major_label_policy\":{\"type\":\"object\",\"name\":\"AllLabels\",\"id\":\"253d627d-fe5d-4cbc-91ba-2aae4966b097\"}}}],\"below\":[{\"type\":\"object\",\"name\":\"CategoricalAxis\",\"id\":\"a37510c6-add1-4a75-b5de-2f14f307deee\",\"attributes\":{\"ticker\":{\"type\":\"object\",\"name\":\"CategoricalTicker\",\"id\":\"966e392d-b4ad-43c6-8de1-9f2968badb77\"},\"formatter\":{\"type\":\"object\",\"name\":\"CategoricalTickFormatter\",\"id\":\"d00f6fb3-2353-408e-8365-7a6f9bd434c4\"},\"axis_label\":\"post_str_b5\",\"major_label_policy\":{\"type\":\"object\",\"name\":\"AllLabels\",\"id\":\"0095681f-6a71-4ff3-aa62-15e28f3d8021\"}}}],\"center\":[{\"type\":\"object\",\"name\":\"Grid\",\"id\":\"d5ace572-23a6-4dcb-860a-b0d23ae376f4\",\"attributes\":{\"axis\":{\"id\":\"a37510c6-add1-4a75-b5de-2f14f307deee\"},\"grid_line_color\":null}},{\"type\":\"object\",\"name\":\"Grid\",\"id\":\"34960130-554e-4a1a-ad67-e2103d8f6dff\",\"attributes\":{\"dimension\":1,\"axis\":{\"id\":\"abe703ea-3905-4c84-95bd-754c049df39d\"},\"grid_line_color\":null}}],\"min_border_top\":10,\"min_border_bottom\":10,\"min_border_left\":10,\"min_border_right\":10,\"output_backend\":\"webgl\"}},{\"type\":\"object\",\"name\":\"Spacer\",\"id\":\"3b0eabbb-95f7-408b-8bec-0b686d6f2b00\",\"attributes\":{\"name\":\"HSpacer00646\",\"stylesheets\":[\"\\n:host(.pn-loading):before, .pn-loading:before {\\n  background-color: #c3c3c3;\\n  mask-size: auto calc(min(50%, 400px));\\n  -webkit-mask-size: auto calc(min(50%, 400px));\\n}\",{\"id\":\"4c1b4631-6fd4-49ce-81e7-47a9384e6512\"},{\"id\":\"ed718596-2d01-403b-a6bc-21e003313a67\"},{\"id\":\"4f24235d-883f-4218-9d3a-36958128b8db\"}],\"margin\":0,\"sizing_mode\":\"stretch_width\",\"align\":\"start\"}}]}}],\"defs\":[{\"type\":\"model\",\"name\":\"ReactiveHTML1\"},{\"type\":\"model\",\"name\":\"FlexBox1\",\"properties\":[{\"name\":\"align_content\",\"kind\":\"Any\",\"default\":\"flex-start\"},{\"name\":\"align_items\",\"kind\":\"Any\",\"default\":\"flex-start\"},{\"name\":\"flex_direction\",\"kind\":\"Any\",\"default\":\"row\"},{\"name\":\"flex_wrap\",\"kind\":\"Any\",\"default\":\"wrap\"},{\"name\":\"gap\",\"kind\":\"Any\",\"default\":\"\"},{\"name\":\"justify_content\",\"kind\":\"Any\",\"default\":\"flex-start\"}]},{\"type\":\"model\",\"name\":\"FloatPanel1\",\"properties\":[{\"name\":\"config\",\"kind\":\"Any\",\"default\":{\"type\":\"map\"}},{\"name\":\"contained\",\"kind\":\"Any\",\"default\":true},{\"name\":\"position\",\"kind\":\"Any\",\"default\":\"right-top\"},{\"name\":\"offsetx\",\"kind\":\"Any\",\"default\":null},{\"name\":\"offsety\",\"kind\":\"Any\",\"default\":null},{\"name\":\"theme\",\"kind\":\"Any\",\"default\":\"primary\"},{\"name\":\"status\",\"kind\":\"Any\",\"default\":\"normalized\"}]},{\"type\":\"model\",\"name\":\"GridStack1\",\"properties\":[{\"name\":\"ncols\",\"kind\":\"Any\",\"default\":null},{\"name\":\"nrows\",\"kind\":\"Any\",\"default\":null},{\"name\":\"allow_resize\",\"kind\":\"Any\",\"default\":true},{\"name\":\"allow_drag\",\"kind\":\"Any\",\"default\":true},{\"name\":\"state\",\"kind\":\"Any\",\"default\":[]}]},{\"type\":\"model\",\"name\":\"drag1\",\"properties\":[{\"name\":\"slider_width\",\"kind\":\"Any\",\"default\":5},{\"name\":\"slider_color\",\"kind\":\"Any\",\"default\":\"black\"},{\"name\":\"value\",\"kind\":\"Any\",\"default\":50}]},{\"type\":\"model\",\"name\":\"click1\",\"properties\":[{\"name\":\"terminal_output\",\"kind\":\"Any\",\"default\":\"\"},{\"name\":\"debug_name\",\"kind\":\"Any\",\"default\":\"\"},{\"name\":\"clears\",\"kind\":\"Any\",\"default\":0}]},{\"type\":\"model\",\"name\":\"FastWrapper1\",\"properties\":[{\"name\":\"object\",\"kind\":\"Any\",\"default\":null},{\"name\":\"style\",\"kind\":\"Any\",\"default\":null}]},{\"type\":\"model\",\"name\":\"NotificationArea1\",\"properties\":[{\"name\":\"js_events\",\"kind\":\"Any\",\"default\":{\"type\":\"map\"}},{\"name\":\"max_notifications\",\"kind\":\"Any\",\"default\":5},{\"name\":\"notifications\",\"kind\":\"Any\",\"default\":[]},{\"name\":\"position\",\"kind\":\"Any\",\"default\":\"bottom-right\"},{\"name\":\"_clear\",\"kind\":\"Any\",\"default\":0},{\"name\":\"types\",\"kind\":\"Any\",\"default\":[{\"type\":\"map\",\"entries\":[[\"type\",\"warning\"],[\"background\",\"#ffc107\"],[\"icon\",{\"type\":\"map\",\"entries\":[[\"className\",\"fas fa-exclamation-triangle\"],[\"tagName\",\"i\"],[\"color\",\"white\"]]}]]},{\"type\":\"map\",\"entries\":[[\"type\",\"info\"],[\"background\",\"#007bff\"],[\"icon\",{\"type\":\"map\",\"entries\":[[\"className\",\"fas fa-info-circle\"],[\"tagName\",\"i\"],[\"color\",\"white\"]]}]]}]}]},{\"type\":\"model\",\"name\":\"Notification\",\"properties\":[{\"name\":\"background\",\"kind\":\"Any\",\"default\":null},{\"name\":\"duration\",\"kind\":\"Any\",\"default\":3000},{\"name\":\"icon\",\"kind\":\"Any\",\"default\":null},{\"name\":\"message\",\"kind\":\"Any\",\"default\":\"\"},{\"name\":\"notification_type\",\"kind\":\"Any\",\"default\":null},{\"name\":\"_rendered\",\"kind\":\"Any\",\"default\":false},{\"name\":\"_destroyed\",\"kind\":\"Any\",\"default\":false}]},{\"type\":\"model\",\"name\":\"TemplateActions1\",\"properties\":[{\"name\":\"open_modal\",\"kind\":\"Any\",\"default\":0},{\"name\":\"close_modal\",\"kind\":\"Any\",\"default\":0}]},{\"type\":\"model\",\"name\":\"BootstrapTemplateActions1\",\"properties\":[{\"name\":\"open_modal\",\"kind\":\"Any\",\"default\":0},{\"name\":\"close_modal\",\"kind\":\"Any\",\"default\":0}]},{\"type\":\"model\",\"name\":\"TemplateEditor1\",\"properties\":[{\"name\":\"layout\",\"kind\":\"Any\",\"default\":[]}]},{\"type\":\"model\",\"name\":\"MaterialTemplateActions1\",\"properties\":[{\"name\":\"open_modal\",\"kind\":\"Any\",\"default\":0},{\"name\":\"close_modal\",\"kind\":\"Any\",\"default\":0}]},{\"type\":\"model\",\"name\":\"ReactiveESM1\",\"properties\":[{\"name\":\"esm_constants\",\"kind\":\"Any\",\"default\":{\"type\":\"map\"}}]},{\"type\":\"model\",\"name\":\"JSComponent1\",\"properties\":[{\"name\":\"esm_constants\",\"kind\":\"Any\",\"default\":{\"type\":\"map\"}}]},{\"type\":\"model\",\"name\":\"ReactComponent1\",\"properties\":[{\"name\":\"esm_constants\",\"kind\":\"Any\",\"default\":{\"type\":\"map\"}}]},{\"type\":\"model\",\"name\":\"AnyWidgetComponent1\",\"properties\":[{\"name\":\"esm_constants\",\"kind\":\"Any\",\"default\":{\"type\":\"map\"}}]},{\"type\":\"model\",\"name\":\"request_value1\",\"properties\":[{\"name\":\"fill\",\"kind\":\"Any\",\"default\":\"none\"},{\"name\":\"_synced\",\"kind\":\"Any\",\"default\":null},{\"name\":\"_request_sync\",\"kind\":\"Any\",\"default\":0}]}]}};\n",
       "  var render_items = [{\"docid\":\"4c5be0ab-65cb-4a36-8da8-b5ba951f470f\",\"roots\":{\"ec4c15dd-05d9-4990-81bd-40c2833c793e\":\"b91ead15-be4a-40e9-82c2-ea15c36cb81d\"},\"root_ids\":[\"ec4c15dd-05d9-4990-81bd-40c2833c793e\"]}];\n",
       "  var docs = Object.values(docs_json)\n",
       "  if (!docs) {\n",
       "    return\n",
       "  }\n",
       "  const py_version = docs[0].version.replace('rc', '-rc.').replace('.dev', '-dev.')\n",
       "  async function embed_document(root) {\n",
       "    var Bokeh = get_bokeh(root)\n",
       "    await Bokeh.embed.embed_items_notebook(docs_json, render_items);\n",
       "    for (const render_item of render_items) {\n",
       "      for (const root_id of render_item.root_ids) {\n",
       "\tconst id_el = document.getElementById(root_id)\n",
       "\tif (id_el.children.length && id_el.children[0].hasAttribute('data-root-id')) {\n",
       "\t  const root_el = id_el.children[0]\n",
       "\t  root_el.id = root_el.id + '-rendered'\n",
       "\t  for (const child of root_el.children) {\n",
       "            // Ensure JupyterLab does not capture keyboard shortcuts\n",
       "            // see: https://jupyterlab.readthedocs.io/en/4.1.x/extension/notebook.html#keyboard-interaction-model\n",
       "\t    child.setAttribute('data-lm-suppress-shortcuts', 'true')\n",
       "\t  }\n",
       "\t}\n",
       "      }\n",
       "    }\n",
       "  }\n",
       "  function get_bokeh(root) {\n",
       "    if (root.Bokeh === undefined) {\n",
       "      return null\n",
       "    } else if (root.Bokeh.version !== py_version) {\n",
       "      if (root.Bokeh.versions === undefined || !root.Bokeh.versions.has(py_version)) {\n",
       "\treturn null\n",
       "      }\n",
       "      return root.Bokeh.versions.get(py_version);\n",
       "    } else if (root.Bokeh.version === py_version) {\n",
       "      return root.Bokeh\n",
       "    }\n",
       "    return null\n",
       "  }\n",
       "  function is_loaded(root) {\n",
       "    var Bokeh = get_bokeh(root)\n",
       "    return (Bokeh != null && Bokeh.Panel !== undefined)\n",
       "  }\n",
       "  if (is_loaded(root)) {\n",
       "    embed_document(root);\n",
       "  } else {\n",
       "    var attempts = 0;\n",
       "    var timer = setInterval(function(root) {\n",
       "      if (is_loaded(root)) {\n",
       "        clearInterval(timer);\n",
       "        embed_document(root);\n",
       "      } else if (document.readyState == \"complete\") {\n",
       "        attempts++;\n",
       "        if (attempts > 200) {\n",
       "          clearInterval(timer);\n",
       "\t  var Bokeh = get_bokeh(root)\n",
       "\t  if (Bokeh == null || Bokeh.Panel == null) {\n",
       "            console.warn(\"Panel: ERROR: Unable to run Panel code because Bokeh or Panel library is missing\");\n",
       "\t  } else {\n",
       "\t    console.warn(\"Panel: WARNING: Attempting to render but not all required libraries could be resolved.\")\n",
       "\t    embed_document(root)\n",
       "\t  }\n",
       "        }\n",
       "      }\n",
       "    }, 25, root)\n",
       "  }\n",
       "})(window);</script>"
      ],
      "text/plain": [
       ":Overlay\n",
       "   .Bars.I    :Bars   [post_str_b5]   (percent)\n",
       "   .HLine.I   :HLine   [x,y]\n",
       "   .HLine.II  :HLine   [x,y]\n",
       "   .HLine.III :HLine   [x,y]"
      ]
     },
     "metadata": {
      "application/vnd.holoviews_exec.v0+json": {
       "id": "ec4c15dd-05d9-4990-81bd-40c2833c793e"
      }
     },
     "output_type": "display_data"
    },
    {
     "name": "stdout",
     "output_type": "stream",
     "text": [
      "df_10_last FOR str_b5 = 37\n",
      "Last 3 results last_results=['25', '37']\n"
     ]
    },
    {
     "data": {
      "text/html": [
       "<div><style>\n",
       ".dataframe > thead > tr,\n",
       ".dataframe > tbody > tr {\n",
       "  text-align: right;\n",
       "  white-space: pre-wrap;\n",
       "}\n",
       "</style>\n",
       "<small>shape: (10, 30)</small><table border=\"1\" class=\"dataframe\"><thead><tr><th>fecha</th><th>sorteo</th><th>bolillas regulares</th><th>bolillas chauchamba</th><th>cc1</th><th>cc2</th><th>id</th><th>combo</th><th>b1</th><th>b2</th><th>b3</th><th>b4</th><th>b5</th><th>b6</th><th>str_b1</th><th>str_b2</th><th>str_b3</th><th>str_b4</th><th>str_b5</th><th>str_b6</th><th>post_str_b1</th><th>post_str_b2</th><th>post_str_b3</th><th>post_str_b4</th><th>post_str_b5</th><th>post_str_blast</th><th>is_rare_combination</th><th>reason</th><th>jumps_map</th><th>unijump</th></tr><tr><td>str</td><td>str</td><td>str</td><td>str</td><td>str</td><td>str</td><td>str</td><td>array[u8, 6]</td><td>u8</td><td>u8</td><td>u8</td><td>u8</td><td>u8</td><td>u8</td><td>str</td><td>str</td><td>str</td><td>str</td><td>str</td><td>str</td><td>str</td><td>str</td><td>str</td><td>str</td><td>str</td><td>str</td><td>bool</td><td>u8</td><td>str</td><td>i64</td></tr></thead><tbody><tr><td>&quot;17/04/2025&quot;</td><td>&quot;1796&quot;</td><td>&quot;12 06 38 15 37 02&quot;</td><td>&quot;21 11 28 24 32 20&quot;</td><td>&quot;&quot;</td><td>&quot;&quot;</td><td>&quot;020612153738&quot;</td><td>[2, 6, … 38]</td><td>2</td><td>6</td><td>12</td><td>15</td><td>37</td><td>38</td><td>&quot;02&quot;</td><td>&quot;06&quot;</td><td>&quot;12&quot;</td><td>&quot;15&quot;</td><td>&quot;37&quot;</td><td>&quot;38&quot;</td><td>&quot;02&quot;</td><td>&quot;06&quot;</td><td>&quot;12&quot;</td><td>&quot;15&quot;</td><td>&quot;37&quot;</td><td>&quot;38&quot;</td><td>false</td><td>0</td><td>&quot;04_06_03_22_01&quot;</td><td>-89</td></tr><tr><td>&quot;04/02/2025&quot;</td><td>&quot;1765&quot;</td><td>&quot;38 15 20 24 35 37&quot;</td><td>&quot;17 07 30 10 20 38&quot;</td><td>&quot;&quot;</td><td>&quot;&quot;</td><td>&quot;152024353738&quot;</td><td>[15, 20, … 38]</td><td>15</td><td>20</td><td>24</td><td>35</td><td>37</td><td>38</td><td>&quot;15&quot;</td><td>&quot;20&quot;</td><td>&quot;24&quot;</td><td>&quot;35&quot;</td><td>&quot;37&quot;</td><td>&quot;38&quot;</td><td>&quot;03&quot;</td><td>&quot;08&quot;</td><td>&quot;13&quot;</td><td>&quot;17&quot;</td><td>&quot;25&quot;</td><td>&quot;26&quot;</td><td>false</td><td>0</td><td>&quot;05_04_11_02_01&quot;</td><td>48</td></tr><tr><td>&quot;04/02/2025&quot;</td><td>&quot;1765&quot;</td><td>&quot;38 15 20 24 35 37&quot;</td><td>&quot;17 07 30 10 20 38&quot;</td><td>&quot;&quot;</td><td>&quot;&quot;</td><td>&quot;152024353738&quot;</td><td>[15, 20, … 38]</td><td>15</td><td>20</td><td>24</td><td>35</td><td>37</td><td>38</td><td>&quot;15&quot;</td><td>&quot;20&quot;</td><td>&quot;24&quot;</td><td>&quot;35&quot;</td><td>&quot;37&quot;</td><td>&quot;38&quot;</td><td>&quot;15&quot;</td><td>&quot;20&quot;</td><td>&quot;24&quot;</td><td>&quot;35&quot;</td><td>&quot;37&quot;</td><td>&quot;38&quot;</td><td>false</td><td>0</td><td>&quot;05_04_11_02_01&quot;</td><td>48</td></tr><tr><td>&quot;16/01/2025&quot;</td><td>&quot;1757&quot;</td><td>&quot;37 07 39 10 18 19&quot;</td><td>&quot;35 27 26 17 19 37&quot;</td><td>&quot;&quot;</td><td>&quot;&quot;</td><td>&quot;071018193739&quot;</td><td>[7, 10, … 39]</td><td>7</td><td>10</td><td>18</td><td>19</td><td>37</td><td>39</td><td>&quot;07&quot;</td><td>&quot;10&quot;</td><td>&quot;18&quot;</td><td>&quot;19&quot;</td><td>&quot;37&quot;</td><td>&quot;39&quot;</td><td>&quot;02&quot;</td><td>&quot;03&quot;</td><td>&quot;16&quot;</td><td>&quot;18&quot;</td><td>&quot;26&quot;</td><td>&quot;28&quot;</td><td>true</td><td>16</td><td>&quot;03_08_01_18_02&quot;</td><td>-93</td></tr><tr><td>&quot;16/01/2025&quot;</td><td>&quot;1757&quot;</td><td>&quot;37 07 39 10 18 19&quot;</td><td>&quot;35 27 26 17 19 37&quot;</td><td>&quot;&quot;</td><td>&quot;&quot;</td><td>&quot;071018193739&quot;</td><td>[7, 10, … 39]</td><td>7</td><td>10</td><td>18</td><td>19</td><td>37</td><td>39</td><td>&quot;07&quot;</td><td>&quot;10&quot;</td><td>&quot;18&quot;</td><td>&quot;19&quot;</td><td>&quot;37&quot;</td><td>&quot;39&quot;</td><td>&quot;07&quot;</td><td>&quot;10&quot;</td><td>&quot;18&quot;</td><td>&quot;19&quot;</td><td>&quot;37&quot;</td><td>&quot;39&quot;</td><td>true</td><td>16</td><td>&quot;03_08_01_18_02&quot;</td><td>-93</td></tr><tr><td>&quot;04/01/2025&quot;</td><td>&quot;1752&quot;</td><td>&quot;27 37 08 39 19 12&quot;</td><td>&quot;40 02 30 07 09 03&quot;</td><td>&quot;&quot;</td><td>&quot;&quot;</td><td>&quot;081219273739&quot;</td><td>[8, 12, … 39]</td><td>8</td><td>12</td><td>19</td><td>27</td><td>37</td><td>39</td><td>&quot;08&quot;</td><td>&quot;12&quot;</td><td>&quot;19&quot;</td><td>&quot;27&quot;</td><td>&quot;37&quot;</td><td>&quot;39&quot;</td><td>&quot;04&quot;</td><td>&quot;06&quot;</td><td>&quot;07&quot;</td><td>&quot;08&quot;</td><td>&quot;27&quot;</td><td>&quot;38&quot;</td><td>false</td><td>0</td><td>&quot;04_07_08_10_02&quot;</td><td>-14</td></tr><tr><td>&quot;04/01/2025&quot;</td><td>&quot;1752&quot;</td><td>&quot;27 37 08 39 19 12&quot;</td><td>&quot;40 02 30 07 09 03&quot;</td><td>&quot;&quot;</td><td>&quot;&quot;</td><td>&quot;081219273739&quot;</td><td>[8, 12, … 39]</td><td>8</td><td>12</td><td>19</td><td>27</td><td>37</td><td>39</td><td>&quot;08&quot;</td><td>&quot;12&quot;</td><td>&quot;19&quot;</td><td>&quot;27&quot;</td><td>&quot;37&quot;</td><td>&quot;39&quot;</td><td>&quot;08&quot;</td><td>&quot;12&quot;</td><td>&quot;19&quot;</td><td>&quot;27&quot;</td><td>&quot;37&quot;</td><td>&quot;39&quot;</td><td>false</td><td>0</td><td>&quot;04_07_08_10_02&quot;</td><td>-14</td></tr><tr><td>&quot;30/11/2024&quot;</td><td>&quot;1737&quot;</td><td>&quot;10 09 05 37 03 39&quot;</td><td>&quot;14 10 15 02 11 34&quot;</td><td>&quot;&quot;</td><td>&quot;&quot;</td><td>&quot;030509103739&quot;</td><td>[3, 5, … 39]</td><td>3</td><td>5</td><td>9</td><td>10</td><td>37</td><td>39</td><td>&quot;03&quot;</td><td>&quot;05&quot;</td><td>&quot;09&quot;</td><td>&quot;10&quot;</td><td>&quot;37&quot;</td><td>&quot;39&quot;</td><td>&quot;09&quot;</td><td>&quot;10&quot;</td><td>&quot;14&quot;</td><td>&quot;28&quot;</td><td>&quot;35&quot;</td><td>&quot;36&quot;</td><td>true</td><td>16</td><td>&quot;02_04_01_27_02&quot;</td><td>-114</td></tr><tr><td>&quot;30/11/2024&quot;</td><td>&quot;1737&quot;</td><td>&quot;10 09 05 37 03 39&quot;</td><td>&quot;14 10 15 02 11 34&quot;</td><td>&quot;&quot;</td><td>&quot;&quot;</td><td>&quot;030509103739&quot;</td><td>[3, 5, … 39]</td><td>3</td><td>5</td><td>9</td><td>10</td><td>37</td><td>39</td><td>&quot;03&quot;</td><td>&quot;05&quot;</td><td>&quot;09&quot;</td><td>&quot;10&quot;</td><td>&quot;37&quot;</td><td>&quot;39&quot;</td><td>&quot;03&quot;</td><td>&quot;05&quot;</td><td>&quot;09&quot;</td><td>&quot;10&quot;</td><td>&quot;37&quot;</td><td>&quot;39&quot;</td><td>true</td><td>16</td><td>&quot;02_04_01_27_02&quot;</td><td>-114</td></tr><tr><td>&quot;31/10/2024&quot;</td><td>&quot;1724&quot;</td><td>&quot;30 13 37 19 33 40&quot;</td><td>&quot;07 13 33 22 31 12&quot;</td><td>&quot;&quot;</td><td>&quot;&quot;</td><td>&quot;131930333740&quot;</td><td>[13, 19, … 40]</td><td>13</td><td>19</td><td>30</td><td>33</td><td>37</td><td>40</td><td>&quot;13&quot;</td><td>&quot;19&quot;</td><td>&quot;30&quot;</td><td>&quot;33&quot;</td><td>&quot;37&quot;</td><td>&quot;40&quot;</td><td>&quot;11&quot;</td><td>&quot;15&quot;</td><td>&quot;20&quot;</td><td>&quot;21&quot;</td><td>&quot;25&quot;</td><td>&quot;35&quot;</td><td>true</td><td>16</td><td>&quot;06_11_03_04_03&quot;</td><td>-33</td></tr></tbody></table></div>"
      ],
      "text/plain": [
       "shape: (10, 30)\n",
       "┌────────────┬────────┬─────────────┬─────────────┬───┬────────────┬────────┬────────────┬─────────┐\n",
       "│ fecha      ┆ sorteo ┆ bolillas    ┆ bolillas    ┆ … ┆ is_rare_co ┆ reason ┆ jumps_map  ┆ unijump │\n",
       "│ ---        ┆ ---    ┆ regulares   ┆ chauchamba  ┆   ┆ mbination  ┆ ---    ┆ ---        ┆ ---     │\n",
       "│ str        ┆ str    ┆ ---         ┆ ---         ┆   ┆ ---        ┆ u8     ┆ str        ┆ i64     │\n",
       "│            ┆        ┆ str         ┆ str         ┆   ┆ bool       ┆        ┆            ┆         │\n",
       "╞════════════╪════════╪═════════════╪═════════════╪═══╪════════════╪════════╪════════════╪═════════╡\n",
       "│ 17/04/2025 ┆ 1796   ┆ 12 06 38 15 ┆ 21 11 28 24 ┆ … ┆ false      ┆ 0      ┆ 04_06_03_2 ┆ -89     │\n",
       "│            ┆        ┆ 37 02       ┆ 32 20       ┆   ┆            ┆        ┆ 2_01       ┆         │\n",
       "│ 04/02/2025 ┆ 1765   ┆ 38 15 20 24 ┆ 17 07 30 10 ┆ … ┆ false      ┆ 0      ┆ 05_04_11_0 ┆ 48      │\n",
       "│            ┆        ┆ 35 37       ┆ 20 38       ┆   ┆            ┆        ┆ 2_01       ┆         │\n",
       "│ 04/02/2025 ┆ 1765   ┆ 38 15 20 24 ┆ 17 07 30 10 ┆ … ┆ false      ┆ 0      ┆ 05_04_11_0 ┆ 48      │\n",
       "│            ┆        ┆ 35 37       ┆ 20 38       ┆   ┆            ┆        ┆ 2_01       ┆         │\n",
       "│ 16/01/2025 ┆ 1757   ┆ 37 07 39 10 ┆ 35 27 26 17 ┆ … ┆ true       ┆ 16     ┆ 03_08_01_1 ┆ -93     │\n",
       "│            ┆        ┆ 18 19       ┆ 19 37       ┆   ┆            ┆        ┆ 8_02       ┆         │\n",
       "│ 16/01/2025 ┆ 1757   ┆ 37 07 39 10 ┆ 35 27 26 17 ┆ … ┆ true       ┆ 16     ┆ 03_08_01_1 ┆ -93     │\n",
       "│            ┆        ┆ 18 19       ┆ 19 37       ┆   ┆            ┆        ┆ 8_02       ┆         │\n",
       "│ 04/01/2025 ┆ 1752   ┆ 27 37 08 39 ┆ 40 02 30 07 ┆ … ┆ false      ┆ 0      ┆ 04_07_08_1 ┆ -14     │\n",
       "│            ┆        ┆ 19 12       ┆ 09 03       ┆   ┆            ┆        ┆ 0_02       ┆         │\n",
       "│ 04/01/2025 ┆ 1752   ┆ 27 37 08 39 ┆ 40 02 30 07 ┆ … ┆ false      ┆ 0      ┆ 04_07_08_1 ┆ -14     │\n",
       "│            ┆        ┆ 19 12       ┆ 09 03       ┆   ┆            ┆        ┆ 0_02       ┆         │\n",
       "│ 30/11/2024 ┆ 1737   ┆ 10 09 05 37 ┆ 14 10 15 02 ┆ … ┆ true       ┆ 16     ┆ 02_04_01_2 ┆ -114    │\n",
       "│            ┆        ┆ 03 39       ┆ 11 34       ┆   ┆            ┆        ┆ 7_02       ┆         │\n",
       "│ 30/11/2024 ┆ 1737   ┆ 10 09 05 37 ┆ 14 10 15 02 ┆ … ┆ true       ┆ 16     ┆ 02_04_01_2 ┆ -114    │\n",
       "│            ┆        ┆ 03 39       ┆ 11 34       ┆   ┆            ┆        ┆ 7_02       ┆         │\n",
       "│ 31/10/2024 ┆ 1724   ┆ 30 13 37 19 ┆ 07 13 33 22 ┆ … ┆ true       ┆ 16     ┆ 06_11_03_0 ┆ -33     │\n",
       "│            ┆        ┆ 33 40       ┆ 31 12       ┆   ┆            ┆        ┆ 4_03       ┆         │\n",
       "└────────────┴────────┴─────────────┴─────────────┴───┴────────────┴────────┴────────────┴─────────┘"
      ]
     },
     "metadata": {},
     "output_type": "display_data"
    },
    {
     "name": "stdout",
     "output_type": "stream",
     "text": [
      "df_jumps_map FOR str_b5 = 37\n"
     ]
    },
    {
     "data": {
      "text/html": [
       "<div><style>\n",
       ".dataframe > thead > tr,\n",
       ".dataframe > tbody > tr {\n",
       "  text-align: right;\n",
       "  white-space: pre-wrap;\n",
       "}\n",
       "</style>\n",
       "<small>shape: (173, 2)</small><table border=\"1\" class=\"dataframe\"><thead><tr><th>jumps_map</th><th>count</th></tr><tr><td>str</td><td>u32</td></tr></thead><tbody><tr><td>&quot;03_04_03_01_03&quot;</td><td>2</td></tr><tr><td>&quot;18_14_01_02_02&quot;</td><td>2</td></tr><tr><td>&quot;06_14_04_05_03&quot;</td><td>2</td></tr><tr><td>&quot;17_12_03_03_03&quot;</td><td>2</td></tr><tr><td>&quot;08_10_10_04_02&quot;</td><td>2</td></tr><tr><td>&hellip;</td><td>&hellip;</td></tr><tr><td>&quot;05_24_02_02_03&quot;</td><td>1</td></tr><tr><td>&quot;07_07_10_01_02&quot;</td><td>1</td></tr><tr><td>&quot;07_22_06_01_03&quot;</td><td>1</td></tr><tr><td>&quot;02_01_09_01_03&quot;</td><td>1</td></tr><tr><td>&quot;01_03_16_13_02&quot;</td><td>1</td></tr></tbody></table></div>"
      ],
      "text/plain": [
       "shape: (173, 2)\n",
       "┌────────────────┬───────┐\n",
       "│ jumps_map      ┆ count │\n",
       "│ ---            ┆ ---   │\n",
       "│ str            ┆ u32   │\n",
       "╞════════════════╪═══════╡\n",
       "│ 03_04_03_01_03 ┆ 2     │\n",
       "│ 18_14_01_02_02 ┆ 2     │\n",
       "│ 06_14_04_05_03 ┆ 2     │\n",
       "│ 17_12_03_03_03 ┆ 2     │\n",
       "│ 08_10_10_04_02 ┆ 2     │\n",
       "│ …              ┆ …     │\n",
       "│ 05_24_02_02_03 ┆ 1     │\n",
       "│ 07_07_10_01_02 ┆ 1     │\n",
       "│ 07_22_06_01_03 ┆ 1     │\n",
       "│ 02_01_09_01_03 ┆ 1     │\n",
       "│ 01_03_16_13_02 ┆ 1     │\n",
       "└────────────────┴───────┘"
      ]
     },
     "metadata": {},
     "output_type": "display_data"
    },
    {
     "name": "stdout",
     "output_type": "stream",
     "text": [
      "df_unijump FOR str_b5 = 37\n"
     ]
    },
    {
     "data": {
      "text/html": [
       "<div><style>\n",
       ".dataframe > thead > tr,\n",
       ".dataframe > tbody > tr {\n",
       "  text-align: right;\n",
       "  white-space: pre-wrap;\n",
       "}\n",
       "</style>\n",
       "<small>shape: (119, 2)</small><table border=\"1\" class=\"dataframe\"><thead><tr><th>unijump</th><th>count</th></tr><tr><td>i64</td><td>u32</td></tr></thead><tbody><tr><td>-27</td><td>6</td></tr><tr><td>-22</td><td>5</td></tr><tr><td>48</td><td>5</td></tr><tr><td>-6</td><td>4</td></tr><tr><td>-85</td><td>4</td></tr><tr><td>&hellip;</td><td>&hellip;</td></tr><tr><td>-48</td><td>1</td></tr><tr><td>-89</td><td>1</td></tr><tr><td>-55</td><td>1</td></tr><tr><td>51</td><td>1</td></tr><tr><td>-20</td><td>1</td></tr></tbody></table></div>"
      ],
      "text/plain": [
       "shape: (119, 2)\n",
       "┌─────────┬───────┐\n",
       "│ unijump ┆ count │\n",
       "│ ---     ┆ ---   │\n",
       "│ i64     ┆ u32   │\n",
       "╞═════════╪═══════╡\n",
       "│ -27     ┆ 6     │\n",
       "│ -22     ┆ 5     │\n",
       "│ 48      ┆ 5     │\n",
       "│ -6      ┆ 4     │\n",
       "│ -85     ┆ 4     │\n",
       "│ …       ┆ …     │\n",
       "│ -48     ┆ 1     │\n",
       "│ -89     ┆ 1     │\n",
       "│ -55     ┆ 1     │\n",
       "│ 51      ┆ 1     │\n",
       "│ -20     ┆ 1     │\n",
       "└─────────┴───────┘"
      ]
     },
     "metadata": {},
     "output_type": "display_data"
    }
   ],
   "source": [
    "possible_b5, exclude_jump_maps_b5, last_post_b5 = plot_post_col(col='str_b5', post_col='post_str_b5')"
   ]
  },
  {
   "cell_type": "code",
   "execution_count": 22,
   "metadata": {},
   "outputs": [
    {
     "name": "stdout",
     "output_type": "stream",
     "text": [
      "Setting test_value='38'\n",
      "df_viz FOR str_b6 = 38\n"
     ]
    },
    {
     "data": {
      "text/html": [
       "<div><style>\n",
       ".dataframe > thead > tr,\n",
       ".dataframe > tbody > tr {\n",
       "  text-align: right;\n",
       "  white-space: pre-wrap;\n",
       "}\n",
       "</style>\n",
       "<small>shape: (21, 3)</small><table border=\"1\" class=\"dataframe\"><thead><tr><th>post_str_blast</th><th>count</th><th>percent</th></tr><tr><td>str</td><td>u32</td><td>f64</td></tr></thead><tbody><tr><td>&quot;38&quot;</td><td>209</td><td>36.795775</td></tr><tr><td>&quot;40&quot;</td><td>62</td><td>10.915493</td></tr><tr><td>&quot;39&quot;</td><td>53</td><td>9.330986</td></tr><tr><td>&quot;37&quot;</td><td>45</td><td>7.922535</td></tr><tr><td>&quot;35&quot;</td><td>30</td><td>5.28169</td></tr><tr><td>&hellip;</td><td>&hellip;</td><td>&hellip;</td></tr><tr><td>&quot;24&quot;</td><td>2</td><td>0.352113</td></tr><tr><td>&quot;23&quot;</td><td>2</td><td>0.352113</td></tr><tr><td>&quot;21&quot;</td><td>2</td><td>0.352113</td></tr><tr><td>&quot;19&quot;</td><td>1</td><td>0.176056</td></tr><tr><td>&quot;20&quot;</td><td>1</td><td>0.176056</td></tr></tbody></table></div>"
      ],
      "text/plain": [
       "shape: (21, 3)\n",
       "┌────────────────┬───────┬───────────┐\n",
       "│ post_str_blast ┆ count ┆ percent   │\n",
       "│ ---            ┆ ---   ┆ ---       │\n",
       "│ str            ┆ u32   ┆ f64       │\n",
       "╞════════════════╪═══════╪═══════════╡\n",
       "│ 38             ┆ 209   ┆ 36.795775 │\n",
       "│ 40             ┆ 62    ┆ 10.915493 │\n",
       "│ 39             ┆ 53    ┆ 9.330986  │\n",
       "│ 37             ┆ 45    ┆ 7.922535  │\n",
       "│ 35             ┆ 30    ┆ 5.28169   │\n",
       "│ …              ┆ …     ┆ …         │\n",
       "│ 24             ┆ 2     ┆ 0.352113  │\n",
       "│ 23             ┆ 2     ┆ 0.352113  │\n",
       "│ 21             ┆ 2     ┆ 0.352113  │\n",
       "│ 19             ┆ 1     ┆ 0.176056  │\n",
       "│ 20             ┆ 1     ┆ 0.176056  │\n",
       "└────────────────┴───────┴───────────┘"
      ]
     },
     "metadata": {},
     "output_type": "display_data"
    },
    {
     "data": {},
     "metadata": {},
     "output_type": "display_data"
    },
    {
     "data": {
      "application/vnd.holoviews_exec.v0+json": "",
      "text/html": [
       "<div id='eddbf42d-a786-4d23-9708-756e53558abc'>\n",
       "  <div id=\"c00ed5fc-1f3f-4d26-8d96-1b498a40418d\" data-root-id=\"eddbf42d-a786-4d23-9708-756e53558abc\" style=\"display: contents;\"></div>\n",
       "</div>\n",
       "<script type=\"application/javascript\">(function(root) {\n",
       "  var docs_json = {\"09385385-0ff6-4451-b949-db26389368cd\":{\"version\":\"3.7.2\",\"title\":\"Bokeh Application\",\"roots\":[{\"type\":\"object\",\"name\":\"Row\",\"id\":\"eddbf42d-a786-4d23-9708-756e53558abc\",\"attributes\":{\"name\":\"Row00712\",\"tags\":[\"embedded\"],\"stylesheets\":[\"\\n:host(.pn-loading):before, .pn-loading:before {\\n  background-color: #c3c3c3;\\n  mask-size: auto calc(min(50%, 400px));\\n  -webkit-mask-size: auto calc(min(50%, 400px));\\n}\",{\"type\":\"object\",\"name\":\"ImportedStyleSheet\",\"id\":\"6e9bf4ff-e1a5-4371-a5a4-b6836172a5fd\",\"attributes\":{\"url\":\"https://cdn.holoviz.org/panel/1.6.2/dist/css/loading.css\"}},{\"type\":\"object\",\"name\":\"ImportedStyleSheet\",\"id\":\"d571380d-cefc-41b2-912c-56819f836918\",\"attributes\":{\"url\":\"https://cdn.holoviz.org/panel/1.6.2/dist/css/listpanel.css\"}},{\"type\":\"object\",\"name\":\"ImportedStyleSheet\",\"id\":\"1bc09eff-2860-40c8-a03c-eea98984da39\",\"attributes\":{\"url\":\"https://cdn.holoviz.org/panel/1.6.2/dist/bundled/theme/default.css\"}},{\"type\":\"object\",\"name\":\"ImportedStyleSheet\",\"id\":\"2f67155a-5fab-4e48-b443-696f67259f6b\",\"attributes\":{\"url\":\"https://cdn.holoviz.org/panel/1.6.2/dist/bundled/theme/native.css\"}}],\"min_width\":700,\"margin\":0,\"sizing_mode\":\"stretch_width\",\"align\":\"start\",\"children\":[{\"type\":\"object\",\"name\":\"Spacer\",\"id\":\"d290b0b4-f1df-494f-b809-9971a89d95fb\",\"attributes\":{\"name\":\"HSpacer00716\",\"stylesheets\":[\"\\n:host(.pn-loading):before, .pn-loading:before {\\n  background-color: #c3c3c3;\\n  mask-size: auto calc(min(50%, 400px));\\n  -webkit-mask-size: auto calc(min(50%, 400px));\\n}\",{\"id\":\"6e9bf4ff-e1a5-4371-a5a4-b6836172a5fd\"},{\"id\":\"1bc09eff-2860-40c8-a03c-eea98984da39\"},{\"id\":\"2f67155a-5fab-4e48-b443-696f67259f6b\"}],\"margin\":0,\"sizing_mode\":\"stretch_width\",\"align\":\"start\"}},{\"type\":\"object\",\"name\":\"Figure\",\"id\":\"4f03fb57-3307-4ce5-b887-7faffbf582de\",\"attributes\":{\"width\":700,\"height\":300,\"margin\":[5,10],\"sizing_mode\":\"fixed\",\"align\":\"start\",\"x_range\":{\"type\":\"object\",\"name\":\"FactorRange\",\"id\":\"64fb2259-b195-4a53-b9b5-785f22bed555\",\"attributes\":{\"name\":\"post_str_blast\",\"tags\":[[[\"post_str_blast\",null]],[]],\"factors\":[\"38\",\"40\",\"39\",\"37\",\"35\",\"34\",\"36\",\"33\",\"32\",\"27\",\"30\",\"29\",\"31\",\"28\",\"26\",\"25\",\"24\",\"23\",\"21\",\"19\",\"20\"]}},\"y_range\":{\"type\":\"object\",\"name\":\"Range1d\",\"id\":\"0a6da496-8a4a-486f-865e-74cc4d72a314\",\"attributes\":{\"name\":\"percent\",\"tags\":[[[\"percent\",null]],{\"type\":\"map\",\"entries\":[[\"invert_yaxis\",false],[\"autorange\",false]]}],\"end\":40.45774647887325,\"reset_start\":0.0,\"reset_end\":40.45774647887325}},\"x_scale\":{\"type\":\"object\",\"name\":\"CategoricalScale\",\"id\":\"a0487f05-c403-42f8-8070-afb58981de40\"},\"y_scale\":{\"type\":\"object\",\"name\":\"LinearScale\",\"id\":\"786d744c-8ac3-422a-b10e-3619bd77626d\"},\"title\":{\"type\":\"object\",\"name\":\"Title\",\"id\":\"00f5343b-db45-4892-9dcd-4417068f3ea1\",\"attributes\":{\"text_color\":\"black\",\"text_font_size\":\"12pt\"}},\"renderers\":[{\"type\":\"object\",\"name\":\"GlyphRenderer\",\"id\":\"5ef65edc-8000-4202-990e-0266a2696766\",\"attributes\":{\"data_source\":{\"type\":\"object\",\"name\":\"ColumnDataSource\",\"id\":\"029fdef2-056d-4186-a0c8-49f88a0398b0\",\"attributes\":{\"selected\":{\"type\":\"object\",\"name\":\"Selection\",\"id\":\"583708a6-64f7-4b11-9759-933804ba6585\",\"attributes\":{\"indices\":[],\"line_indices\":[]}},\"selection_policy\":{\"type\":\"object\",\"name\":\"UnionRenderers\",\"id\":\"d5485a9a-4267-4fd6-b3c8-075aafc13083\"},\"data\":{\"type\":\"map\",\"entries\":[[\"post_str_blast\",[\"38\",\"40\",\"39\",\"37\",\"35\",\"34\",\"36\",\"33\",\"32\",\"27\",\"30\",\"29\",\"31\",\"28\",\"26\",\"25\",\"24\",\"23\",\"21\",\"19\",\"20\"]],[\"percent\",{\"type\":\"ndarray\",\"array\":{\"type\":\"bytes\",\"data\":\"vNST8dtlQkCYejJ+u9QlQC/1ZPx2qSJAFjYHEq2wH0AOJFphcyAVQA4kWmFzIBVAcyDRCpsDE0DryfjtUk8SQCHRCpsDiQZAjt8u9WT8/j+O3y71ZPz+P2mFzYFEK/w/RCtsDiRa+T8h0QqbA4n2P/12qSfjt/M/2BxItMLm8D8h0QqbA4nWPyHRCpsDidY/IdEKmwOJ1j8h0QqbA4nGPyHRCpsDicY/\"},\"shape\":[21],\"dtype\":\"float64\",\"order\":\"little\"}]]}}},\"view\":{\"type\":\"object\",\"name\":\"CDSView\",\"id\":\"2873e04e-968f-40e3-9068-24c0f810fc3a\",\"attributes\":{\"filter\":{\"type\":\"object\",\"name\":\"AllIndices\",\"id\":\"19618bbf-cde3-4458-a3fe-fd3da0a9d084\"}}},\"glyph\":{\"type\":\"object\",\"name\":\"VBar\",\"id\":\"fd55d94f-e758-4e18-a266-76800d1d799b\",\"attributes\":{\"tags\":[\"apply_ranges\"],\"x\":{\"type\":\"field\",\"field\":\"post_str_blast\"},\"width\":{\"type\":\"value\",\"value\":0.8},\"top\":{\"type\":\"field\",\"field\":\"percent\"},\"fill_color\":{\"type\":\"value\",\"value\":\"#30a2da\"},\"hatch_color\":{\"type\":\"value\",\"value\":\"#30a2da\"}}},\"selection_glyph\":{\"type\":\"object\",\"name\":\"VBar\",\"id\":\"b821e620-8118-4e55-af34-0e4e5b149105\",\"attributes\":{\"tags\":[\"apply_ranges\"],\"x\":{\"type\":\"field\",\"field\":\"post_str_blast\"},\"width\":{\"type\":\"value\",\"value\":0.8},\"bottom\":{\"type\":\"value\",\"value\":0},\"top\":{\"type\":\"field\",\"field\":\"percent\"},\"line_color\":{\"type\":\"value\",\"value\":\"black\"},\"line_alpha\":{\"type\":\"value\",\"value\":1.0},\"line_width\":{\"type\":\"value\",\"value\":1},\"line_join\":{\"type\":\"value\",\"value\":\"bevel\"},\"line_cap\":{\"type\":\"value\",\"value\":\"butt\"},\"line_dash\":{\"type\":\"value\",\"value\":[]},\"line_dash_offset\":{\"type\":\"value\",\"value\":0},\"fill_color\":{\"type\":\"value\",\"value\":\"#30a2da\"},\"fill_alpha\":{\"type\":\"value\",\"value\":1.0},\"hatch_color\":{\"type\":\"value\",\"value\":\"#30a2da\"},\"hatch_alpha\":{\"type\":\"value\",\"value\":1.0},\"hatch_scale\":{\"type\":\"value\",\"value\":12.0},\"hatch_pattern\":{\"type\":\"value\",\"value\":null},\"hatch_weight\":{\"type\":\"value\",\"value\":1.0}}},\"nonselection_glyph\":{\"type\":\"object\",\"name\":\"VBar\",\"id\":\"aa32cf13-51f4-48f8-8561-ca9b1c767560\",\"attributes\":{\"tags\":[\"apply_ranges\"],\"x\":{\"type\":\"field\",\"field\":\"post_str_blast\"},\"width\":{\"type\":\"value\",\"value\":0.8},\"top\":{\"type\":\"field\",\"field\":\"percent\"},\"line_alpha\":{\"type\":\"value\",\"value\":0.1},\"fill_color\":{\"type\":\"value\",\"value\":\"#30a2da\"},\"fill_alpha\":{\"type\":\"value\",\"value\":0.1},\"hatch_color\":{\"type\":\"value\",\"value\":\"#30a2da\"},\"hatch_alpha\":{\"type\":\"value\",\"value\":0.1}}},\"muted_glyph\":{\"type\":\"object\",\"name\":\"VBar\",\"id\":\"c35d71a8-e109-41af-a47c-609fbd584d40\",\"attributes\":{\"tags\":[\"apply_ranges\"],\"x\":{\"type\":\"field\",\"field\":\"post_str_blast\"},\"width\":{\"type\":\"value\",\"value\":0.8},\"top\":{\"type\":\"field\",\"field\":\"percent\"},\"line_alpha\":{\"type\":\"value\",\"value\":0.2},\"fill_color\":{\"type\":\"value\",\"value\":\"#30a2da\"},\"fill_alpha\":{\"type\":\"value\",\"value\":0.2},\"hatch_color\":{\"type\":\"value\",\"value\":\"#30a2da\"},\"hatch_alpha\":{\"type\":\"value\",\"value\":0.2}}}}},{\"type\":\"object\",\"name\":\"Span\",\"id\":\"b9abf388-c21a-4354-82e3-fa60a4e23508\",\"attributes\":{\"level\":\"glyph\",\"location\":4.761904761904763,\"line_color\":\"red\",\"line_width\":3}},{\"type\":\"object\",\"name\":\"Span\",\"id\":\"c53dd11e-001d-48eb-a8dd-e9637c55bfe7\",\"attributes\":{\"level\":\"glyph\",\"location\":7.142857142857144,\"line_color\":\"blue\",\"line_width\":3}},{\"type\":\"object\",\"name\":\"Span\",\"id\":\"ed779715-fb30-4929-9b14-2b7cd9844f23\",\"attributes\":{\"level\":\"glyph\",\"location\":2.3809523809523814,\"line_color\":\"blue\",\"line_width\":3}}],\"toolbar\":{\"type\":\"object\",\"name\":\"Toolbar\",\"id\":\"4d2a44df-d40a-4c5c-a521-a6c8d6c531fe\",\"attributes\":{\"tools\":[{\"type\":\"object\",\"name\":\"WheelZoomTool\",\"id\":\"2abd7a80-b9e3-45a8-8dbe-a81f8cb2ad95\",\"attributes\":{\"tags\":[\"hv_created\"],\"renderers\":\"auto\",\"zoom_together\":\"none\"}},{\"type\":\"object\",\"name\":\"HoverTool\",\"id\":\"b9032364-9a74-4f93-9d27-e3824b18b6e3\",\"attributes\":{\"tags\":[\"hv_created\"],\"renderers\":[{\"id\":\"5ef65edc-8000-4202-990e-0266a2696766\"}],\"tooltips\":[[\"post_str_blast\",\"@{post_str_blast}\"],[\"percent\",\"@{percent}\"]]}},{\"type\":\"object\",\"name\":\"SaveTool\",\"id\":\"dbfd18de-f767-48d2-a3d6-2916d385d369\"},{\"type\":\"object\",\"name\":\"PanTool\",\"id\":\"a1df43bf-11c2-4b04-86ad-8b9c38d5b4b2\"},{\"type\":\"object\",\"name\":\"BoxZoomTool\",\"id\":\"fa6eb0aa-a238-4ac7-a249-2da05699c08e\",\"attributes\":{\"dimensions\":\"both\",\"overlay\":{\"type\":\"object\",\"name\":\"BoxAnnotation\",\"id\":\"f09fe185-d695-407b-adf4-25f7b6e06aeb\",\"attributes\":{\"syncable\":false,\"line_color\":\"black\",\"line_alpha\":1.0,\"line_width\":2,\"line_dash\":[4,4],\"fill_color\":\"lightgrey\",\"fill_alpha\":0.5,\"level\":\"overlay\",\"visible\":false,\"left\":{\"type\":\"number\",\"value\":\"nan\"},\"right\":{\"type\":\"number\",\"value\":\"nan\"},\"top\":{\"type\":\"number\",\"value\":\"nan\"},\"bottom\":{\"type\":\"number\",\"value\":\"nan\"},\"left_units\":\"canvas\",\"right_units\":\"canvas\",\"top_units\":\"canvas\",\"bottom_units\":\"canvas\",\"handles\":{\"type\":\"object\",\"name\":\"BoxInteractionHandles\",\"id\":\"63da1abc-ee33-4ca6-9046-9bddceb4638f\",\"attributes\":{\"all\":{\"type\":\"object\",\"name\":\"AreaVisuals\",\"id\":\"8394547d-834f-44ba-ad35-6355ddf9c4bc\",\"attributes\":{\"fill_color\":\"white\",\"hover_fill_color\":\"lightgray\"}}}}}}}},{\"type\":\"object\",\"name\":\"ResetTool\",\"id\":\"05a210e3-7011-468a-882f-6e255ddbe4e2\"}],\"active_drag\":{\"id\":\"a1df43bf-11c2-4b04-86ad-8b9c38d5b4b2\"}}},\"left\":[{\"type\":\"object\",\"name\":\"LinearAxis\",\"id\":\"38efa012-7cc3-4bd1-9ef0-99266cefb583\",\"attributes\":{\"ticker\":{\"type\":\"object\",\"name\":\"BasicTicker\",\"id\":\"a3f69710-0c81-425b-8d24-aaf3757b260f\",\"attributes\":{\"mantissas\":[1,2,5]}},\"formatter\":{\"type\":\"object\",\"name\":\"BasicTickFormatter\",\"id\":\"17134b60-853b-4e3b-99fe-c4fac84929b5\"},\"axis_label\":\"percent\",\"major_label_policy\":{\"type\":\"object\",\"name\":\"AllLabels\",\"id\":\"ef48f540-429b-4fc6-a248-fcc84cc00f38\"}}}],\"below\":[{\"type\":\"object\",\"name\":\"CategoricalAxis\",\"id\":\"61359d7f-1772-423f-bb0e-d4d96e5b58e0\",\"attributes\":{\"ticker\":{\"type\":\"object\",\"name\":\"CategoricalTicker\",\"id\":\"c0c86ab5-d617-4165-91cd-89504be0b866\"},\"formatter\":{\"type\":\"object\",\"name\":\"CategoricalTickFormatter\",\"id\":\"b583991e-7d7a-4075-9dcf-ee039bcc68a0\"},\"axis_label\":\"post_str_blast\",\"major_label_policy\":{\"type\":\"object\",\"name\":\"AllLabels\",\"id\":\"93e97a4b-fbca-47e4-b8c4-e75f5cb90972\"}}}],\"center\":[{\"type\":\"object\",\"name\":\"Grid\",\"id\":\"a3e5f715-716a-4b3f-b120-9e2998d832fc\",\"attributes\":{\"axis\":{\"id\":\"61359d7f-1772-423f-bb0e-d4d96e5b58e0\"},\"grid_line_color\":null}},{\"type\":\"object\",\"name\":\"Grid\",\"id\":\"a25c3131-f229-4f5c-8371-2ee5460052ce\",\"attributes\":{\"dimension\":1,\"axis\":{\"id\":\"38efa012-7cc3-4bd1-9ef0-99266cefb583\"},\"grid_line_color\":null}}],\"min_border_top\":10,\"min_border_bottom\":10,\"min_border_left\":10,\"min_border_right\":10,\"output_backend\":\"webgl\"}},{\"type\":\"object\",\"name\":\"Spacer\",\"id\":\"3f387ccd-3fd8-40f8-b466-c21fd8c07297\",\"attributes\":{\"name\":\"HSpacer00717\",\"stylesheets\":[\"\\n:host(.pn-loading):before, .pn-loading:before {\\n  background-color: #c3c3c3;\\n  mask-size: auto calc(min(50%, 400px));\\n  -webkit-mask-size: auto calc(min(50%, 400px));\\n}\",{\"id\":\"6e9bf4ff-e1a5-4371-a5a4-b6836172a5fd\"},{\"id\":\"1bc09eff-2860-40c8-a03c-eea98984da39\"},{\"id\":\"2f67155a-5fab-4e48-b443-696f67259f6b\"}],\"margin\":0,\"sizing_mode\":\"stretch_width\",\"align\":\"start\"}}]}}],\"defs\":[{\"type\":\"model\",\"name\":\"ReactiveHTML1\"},{\"type\":\"model\",\"name\":\"FlexBox1\",\"properties\":[{\"name\":\"align_content\",\"kind\":\"Any\",\"default\":\"flex-start\"},{\"name\":\"align_items\",\"kind\":\"Any\",\"default\":\"flex-start\"},{\"name\":\"flex_direction\",\"kind\":\"Any\",\"default\":\"row\"},{\"name\":\"flex_wrap\",\"kind\":\"Any\",\"default\":\"wrap\"},{\"name\":\"gap\",\"kind\":\"Any\",\"default\":\"\"},{\"name\":\"justify_content\",\"kind\":\"Any\",\"default\":\"flex-start\"}]},{\"type\":\"model\",\"name\":\"FloatPanel1\",\"properties\":[{\"name\":\"config\",\"kind\":\"Any\",\"default\":{\"type\":\"map\"}},{\"name\":\"contained\",\"kind\":\"Any\",\"default\":true},{\"name\":\"position\",\"kind\":\"Any\",\"default\":\"right-top\"},{\"name\":\"offsetx\",\"kind\":\"Any\",\"default\":null},{\"name\":\"offsety\",\"kind\":\"Any\",\"default\":null},{\"name\":\"theme\",\"kind\":\"Any\",\"default\":\"primary\"},{\"name\":\"status\",\"kind\":\"Any\",\"default\":\"normalized\"}]},{\"type\":\"model\",\"name\":\"GridStack1\",\"properties\":[{\"name\":\"ncols\",\"kind\":\"Any\",\"default\":null},{\"name\":\"nrows\",\"kind\":\"Any\",\"default\":null},{\"name\":\"allow_resize\",\"kind\":\"Any\",\"default\":true},{\"name\":\"allow_drag\",\"kind\":\"Any\",\"default\":true},{\"name\":\"state\",\"kind\":\"Any\",\"default\":[]}]},{\"type\":\"model\",\"name\":\"drag1\",\"properties\":[{\"name\":\"slider_width\",\"kind\":\"Any\",\"default\":5},{\"name\":\"slider_color\",\"kind\":\"Any\",\"default\":\"black\"},{\"name\":\"value\",\"kind\":\"Any\",\"default\":50}]},{\"type\":\"model\",\"name\":\"click1\",\"properties\":[{\"name\":\"terminal_output\",\"kind\":\"Any\",\"default\":\"\"},{\"name\":\"debug_name\",\"kind\":\"Any\",\"default\":\"\"},{\"name\":\"clears\",\"kind\":\"Any\",\"default\":0}]},{\"type\":\"model\",\"name\":\"FastWrapper1\",\"properties\":[{\"name\":\"object\",\"kind\":\"Any\",\"default\":null},{\"name\":\"style\",\"kind\":\"Any\",\"default\":null}]},{\"type\":\"model\",\"name\":\"NotificationArea1\",\"properties\":[{\"name\":\"js_events\",\"kind\":\"Any\",\"default\":{\"type\":\"map\"}},{\"name\":\"max_notifications\",\"kind\":\"Any\",\"default\":5},{\"name\":\"notifications\",\"kind\":\"Any\",\"default\":[]},{\"name\":\"position\",\"kind\":\"Any\",\"default\":\"bottom-right\"},{\"name\":\"_clear\",\"kind\":\"Any\",\"default\":0},{\"name\":\"types\",\"kind\":\"Any\",\"default\":[{\"type\":\"map\",\"entries\":[[\"type\",\"warning\"],[\"background\",\"#ffc107\"],[\"icon\",{\"type\":\"map\",\"entries\":[[\"className\",\"fas fa-exclamation-triangle\"],[\"tagName\",\"i\"],[\"color\",\"white\"]]}]]},{\"type\":\"map\",\"entries\":[[\"type\",\"info\"],[\"background\",\"#007bff\"],[\"icon\",{\"type\":\"map\",\"entries\":[[\"className\",\"fas fa-info-circle\"],[\"tagName\",\"i\"],[\"color\",\"white\"]]}]]}]}]},{\"type\":\"model\",\"name\":\"Notification\",\"properties\":[{\"name\":\"background\",\"kind\":\"Any\",\"default\":null},{\"name\":\"duration\",\"kind\":\"Any\",\"default\":3000},{\"name\":\"icon\",\"kind\":\"Any\",\"default\":null},{\"name\":\"message\",\"kind\":\"Any\",\"default\":\"\"},{\"name\":\"notification_type\",\"kind\":\"Any\",\"default\":null},{\"name\":\"_rendered\",\"kind\":\"Any\",\"default\":false},{\"name\":\"_destroyed\",\"kind\":\"Any\",\"default\":false}]},{\"type\":\"model\",\"name\":\"TemplateActions1\",\"properties\":[{\"name\":\"open_modal\",\"kind\":\"Any\",\"default\":0},{\"name\":\"close_modal\",\"kind\":\"Any\",\"default\":0}]},{\"type\":\"model\",\"name\":\"BootstrapTemplateActions1\",\"properties\":[{\"name\":\"open_modal\",\"kind\":\"Any\",\"default\":0},{\"name\":\"close_modal\",\"kind\":\"Any\",\"default\":0}]},{\"type\":\"model\",\"name\":\"TemplateEditor1\",\"properties\":[{\"name\":\"layout\",\"kind\":\"Any\",\"default\":[]}]},{\"type\":\"model\",\"name\":\"MaterialTemplateActions1\",\"properties\":[{\"name\":\"open_modal\",\"kind\":\"Any\",\"default\":0},{\"name\":\"close_modal\",\"kind\":\"Any\",\"default\":0}]},{\"type\":\"model\",\"name\":\"ReactiveESM1\",\"properties\":[{\"name\":\"esm_constants\",\"kind\":\"Any\",\"default\":{\"type\":\"map\"}}]},{\"type\":\"model\",\"name\":\"JSComponent1\",\"properties\":[{\"name\":\"esm_constants\",\"kind\":\"Any\",\"default\":{\"type\":\"map\"}}]},{\"type\":\"model\",\"name\":\"ReactComponent1\",\"properties\":[{\"name\":\"esm_constants\",\"kind\":\"Any\",\"default\":{\"type\":\"map\"}}]},{\"type\":\"model\",\"name\":\"AnyWidgetComponent1\",\"properties\":[{\"name\":\"esm_constants\",\"kind\":\"Any\",\"default\":{\"type\":\"map\"}}]},{\"type\":\"model\",\"name\":\"request_value1\",\"properties\":[{\"name\":\"fill\",\"kind\":\"Any\",\"default\":\"none\"},{\"name\":\"_synced\",\"kind\":\"Any\",\"default\":null},{\"name\":\"_request_sync\",\"kind\":\"Any\",\"default\":0}]}]}};\n",
       "  var render_items = [{\"docid\":\"09385385-0ff6-4451-b949-db26389368cd\",\"roots\":{\"eddbf42d-a786-4d23-9708-756e53558abc\":\"c00ed5fc-1f3f-4d26-8d96-1b498a40418d\"},\"root_ids\":[\"eddbf42d-a786-4d23-9708-756e53558abc\"]}];\n",
       "  var docs = Object.values(docs_json)\n",
       "  if (!docs) {\n",
       "    return\n",
       "  }\n",
       "  const py_version = docs[0].version.replace('rc', '-rc.').replace('.dev', '-dev.')\n",
       "  async function embed_document(root) {\n",
       "    var Bokeh = get_bokeh(root)\n",
       "    await Bokeh.embed.embed_items_notebook(docs_json, render_items);\n",
       "    for (const render_item of render_items) {\n",
       "      for (const root_id of render_item.root_ids) {\n",
       "\tconst id_el = document.getElementById(root_id)\n",
       "\tif (id_el.children.length && id_el.children[0].hasAttribute('data-root-id')) {\n",
       "\t  const root_el = id_el.children[0]\n",
       "\t  root_el.id = root_el.id + '-rendered'\n",
       "\t  for (const child of root_el.children) {\n",
       "            // Ensure JupyterLab does not capture keyboard shortcuts\n",
       "            // see: https://jupyterlab.readthedocs.io/en/4.1.x/extension/notebook.html#keyboard-interaction-model\n",
       "\t    child.setAttribute('data-lm-suppress-shortcuts', 'true')\n",
       "\t  }\n",
       "\t}\n",
       "      }\n",
       "    }\n",
       "  }\n",
       "  function get_bokeh(root) {\n",
       "    if (root.Bokeh === undefined) {\n",
       "      return null\n",
       "    } else if (root.Bokeh.version !== py_version) {\n",
       "      if (root.Bokeh.versions === undefined || !root.Bokeh.versions.has(py_version)) {\n",
       "\treturn null\n",
       "      }\n",
       "      return root.Bokeh.versions.get(py_version);\n",
       "    } else if (root.Bokeh.version === py_version) {\n",
       "      return root.Bokeh\n",
       "    }\n",
       "    return null\n",
       "  }\n",
       "  function is_loaded(root) {\n",
       "    var Bokeh = get_bokeh(root)\n",
       "    return (Bokeh != null && Bokeh.Panel !== undefined)\n",
       "  }\n",
       "  if (is_loaded(root)) {\n",
       "    embed_document(root);\n",
       "  } else {\n",
       "    var attempts = 0;\n",
       "    var timer = setInterval(function(root) {\n",
       "      if (is_loaded(root)) {\n",
       "        clearInterval(timer);\n",
       "        embed_document(root);\n",
       "      } else if (document.readyState == \"complete\") {\n",
       "        attempts++;\n",
       "        if (attempts > 200) {\n",
       "          clearInterval(timer);\n",
       "\t  var Bokeh = get_bokeh(root)\n",
       "\t  if (Bokeh == null || Bokeh.Panel == null) {\n",
       "            console.warn(\"Panel: ERROR: Unable to run Panel code because Bokeh or Panel library is missing\");\n",
       "\t  } else {\n",
       "\t    console.warn(\"Panel: WARNING: Attempting to render but not all required libraries could be resolved.\")\n",
       "\t    embed_document(root)\n",
       "\t  }\n",
       "        }\n",
       "      }\n",
       "    }, 25, root)\n",
       "  }\n",
       "})(window);</script>"
      ],
      "text/plain": [
       ":Overlay\n",
       "   .Bars.I    :Bars   [post_str_blast]   (percent)\n",
       "   .HLine.I   :HLine   [x,y]\n",
       "   .HLine.II  :HLine   [x,y]\n",
       "   .HLine.III :HLine   [x,y]"
      ]
     },
     "metadata": {
      "application/vnd.holoviews_exec.v0+json": {
       "id": "eddbf42d-a786-4d23-9708-756e53558abc"
      }
     },
     "output_type": "display_data"
    },
    {
     "name": "stdout",
     "output_type": "stream",
     "text": [
      "df_10_last FOR str_b6 = 38\n",
      "Last 3 results last_results=['26', '38']\n"
     ]
    },
    {
     "data": {
      "text/html": [
       "<div><style>\n",
       ".dataframe > thead > tr,\n",
       ".dataframe > tbody > tr {\n",
       "  text-align: right;\n",
       "  white-space: pre-wrap;\n",
       "}\n",
       "</style>\n",
       "<small>shape: (10, 30)</small><table border=\"1\" class=\"dataframe\"><thead><tr><th>fecha</th><th>sorteo</th><th>bolillas regulares</th><th>bolillas chauchamba</th><th>cc1</th><th>cc2</th><th>id</th><th>combo</th><th>b1</th><th>b2</th><th>b3</th><th>b4</th><th>b5</th><th>b6</th><th>str_b1</th><th>str_b2</th><th>str_b3</th><th>str_b4</th><th>str_b5</th><th>str_b6</th><th>post_str_b1</th><th>post_str_b2</th><th>post_str_b3</th><th>post_str_b4</th><th>post_str_b5</th><th>post_str_blast</th><th>is_rare_combination</th><th>reason</th><th>jumps_map</th><th>unijump</th></tr><tr><td>str</td><td>str</td><td>str</td><td>str</td><td>str</td><td>str</td><td>str</td><td>array[u8, 6]</td><td>u8</td><td>u8</td><td>u8</td><td>u8</td><td>u8</td><td>u8</td><td>str</td><td>str</td><td>str</td><td>str</td><td>str</td><td>str</td><td>str</td><td>str</td><td>str</td><td>str</td><td>str</td><td>str</td><td>bool</td><td>u8</td><td>str</td><td>i64</td></tr></thead><tbody><tr><td>&quot;17/04/2025&quot;</td><td>&quot;1796&quot;</td><td>&quot;12 06 38 15 37 02&quot;</td><td>&quot;21 11 28 24 32 20&quot;</td><td>&quot;&quot;</td><td>&quot;&quot;</td><td>&quot;020612153738&quot;</td><td>[2, 6, … 38]</td><td>2</td><td>6</td><td>12</td><td>15</td><td>37</td><td>38</td><td>&quot;02&quot;</td><td>&quot;06&quot;</td><td>&quot;12&quot;</td><td>&quot;15&quot;</td><td>&quot;37&quot;</td><td>&quot;38&quot;</td><td>&quot;02&quot;</td><td>&quot;06&quot;</td><td>&quot;12&quot;</td><td>&quot;15&quot;</td><td>&quot;37&quot;</td><td>&quot;38&quot;</td><td>false</td><td>0</td><td>&quot;04_06_03_22_01&quot;</td><td>-89</td></tr><tr><td>&quot;04/02/2025&quot;</td><td>&quot;1765&quot;</td><td>&quot;38 15 20 24 35 37&quot;</td><td>&quot;17 07 30 10 20 38&quot;</td><td>&quot;&quot;</td><td>&quot;&quot;</td><td>&quot;152024353738&quot;</td><td>[15, 20, … 38]</td><td>15</td><td>20</td><td>24</td><td>35</td><td>37</td><td>38</td><td>&quot;15&quot;</td><td>&quot;20&quot;</td><td>&quot;24&quot;</td><td>&quot;35&quot;</td><td>&quot;37&quot;</td><td>&quot;38&quot;</td><td>&quot;03&quot;</td><td>&quot;08&quot;</td><td>&quot;13&quot;</td><td>&quot;17&quot;</td><td>&quot;25&quot;</td><td>&quot;26&quot;</td><td>false</td><td>0</td><td>&quot;05_04_11_02_01&quot;</td><td>48</td></tr><tr><td>&quot;04/02/2025&quot;</td><td>&quot;1765&quot;</td><td>&quot;38 15 20 24 35 37&quot;</td><td>&quot;17 07 30 10 20 38&quot;</td><td>&quot;&quot;</td><td>&quot;&quot;</td><td>&quot;152024353738&quot;</td><td>[15, 20, … 38]</td><td>15</td><td>20</td><td>24</td><td>35</td><td>37</td><td>38</td><td>&quot;15&quot;</td><td>&quot;20&quot;</td><td>&quot;24&quot;</td><td>&quot;35&quot;</td><td>&quot;37&quot;</td><td>&quot;38&quot;</td><td>&quot;15&quot;</td><td>&quot;20&quot;</td><td>&quot;24&quot;</td><td>&quot;35&quot;</td><td>&quot;37&quot;</td><td>&quot;38&quot;</td><td>false</td><td>0</td><td>&quot;05_04_11_02_01&quot;</td><td>48</td></tr><tr><td>&quot;30/01/2025&quot;</td><td>&quot;1763&quot;</td><td>&quot;38 36 33 31 04 20&quot;</td><td>&quot;17 09 03 12 18 10&quot;</td><td>&quot;&quot;</td><td>&quot;&quot;</td><td>&quot;042031333638&quot;</td><td>[4, 20, … 38]</td><td>4</td><td>20</td><td>31</td><td>33</td><td>36</td><td>38</td><td>&quot;04&quot;</td><td>&quot;20&quot;</td><td>&quot;31&quot;</td><td>&quot;33&quot;</td><td>&quot;36&quot;</td><td>&quot;38&quot;</td><td>&quot;04&quot;</td><td>&quot;14&quot;</td><td>&quot;26&quot;</td><td>&quot;27&quot;</td><td>&quot;28&quot;</td><td>&quot;33&quot;</td><td>false</td><td>0</td><td>&quot;16_11_02_03_02&quot;</td><td>-26</td></tr><tr><td>&quot;30/01/2025&quot;</td><td>&quot;1763&quot;</td><td>&quot;38 36 33 31 04 20&quot;</td><td>&quot;17 09 03 12 18 10&quot;</td><td>&quot;&quot;</td><td>&quot;&quot;</td><td>&quot;042031333638&quot;</td><td>[4, 20, … 38]</td><td>4</td><td>20</td><td>31</td><td>33</td><td>36</td><td>38</td><td>&quot;04&quot;</td><td>&quot;20&quot;</td><td>&quot;31&quot;</td><td>&quot;33&quot;</td><td>&quot;36&quot;</td><td>&quot;38&quot;</td><td>&quot;04&quot;</td><td>&quot;20&quot;</td><td>&quot;31&quot;</td><td>&quot;33&quot;</td><td>&quot;36&quot;</td><td>&quot;38&quot;</td><td>false</td><td>0</td><td>&quot;16_11_02_03_02&quot;</td><td>-26</td></tr><tr><td>&quot;21/01/2025&quot;</td><td>&quot;1759&quot;</td><td>&quot;16 38 06 08 19 20&quot;</td><td>&quot;35 30 28 23 05 24&quot;</td><td>&quot;&quot;</td><td>&quot;&quot;</td><td>&quot;060816192038&quot;</td><td>[6, 8, … 38]</td><td>6</td><td>8</td><td>16</td><td>19</td><td>20</td><td>38</td><td>&quot;06&quot;</td><td>&quot;08&quot;</td><td>&quot;16&quot;</td><td>&quot;19&quot;</td><td>&quot;20&quot;</td><td>&quot;38&quot;</td><td>&quot;10&quot;</td><td>&quot;14&quot;</td><td>&quot;19&quot;</td><td>&quot;25&quot;</td><td>&quot;27&quot;</td><td>&quot;34&quot;</td><td>false</td><td>0</td><td>&quot;02_08_03_01_18&quot;</td><td>2</td></tr><tr><td>&quot;21/01/2025&quot;</td><td>&quot;1759&quot;</td><td>&quot;16 38 06 08 19 20&quot;</td><td>&quot;35 30 28 23 05 24&quot;</td><td>&quot;&quot;</td><td>&quot;&quot;</td><td>&quot;060816192038&quot;</td><td>[6, 8, … 38]</td><td>6</td><td>8</td><td>16</td><td>19</td><td>20</td><td>38</td><td>&quot;06&quot;</td><td>&quot;08&quot;</td><td>&quot;16&quot;</td><td>&quot;19&quot;</td><td>&quot;20&quot;</td><td>&quot;38&quot;</td><td>&quot;06&quot;</td><td>&quot;08&quot;</td><td>&quot;16&quot;</td><td>&quot;19&quot;</td><td>&quot;20&quot;</td><td>&quot;38&quot;</td><td>false</td><td>0</td><td>&quot;02_08_03_01_18&quot;</td><td>2</td></tr><tr><td>&quot;07/01/2025&quot;</td><td>&quot;1753&quot;</td><td>&quot;38 27 07 04 08 06&quot;</td><td>&quot;36 33 40 01 09 02&quot;</td><td>&quot;&quot;</td><td>&quot;&quot;</td><td>&quot;040607082738&quot;</td><td>[4, 6, … 38]</td><td>4</td><td>6</td><td>7</td><td>8</td><td>27</td><td>38</td><td>&quot;04&quot;</td><td>&quot;06&quot;</td><td>&quot;07&quot;</td><td>&quot;08&quot;</td><td>&quot;27&quot;</td><td>&quot;38&quot;</td><td>&quot;02&quot;</td><td>&quot;11&quot;</td><td>&quot;14&quot;</td><td>&quot;18&quot;</td><td>&quot;22&quot;</td><td>&quot;39&quot;</td><td>true</td><td>24</td><td>&quot;02_01_01_19_11&quot;</td><td>-61</td></tr><tr><td>&quot;07/01/2025&quot;</td><td>&quot;1753&quot;</td><td>&quot;38 27 07 04 08 06&quot;</td><td>&quot;36 33 40 01 09 02&quot;</td><td>&quot;&quot;</td><td>&quot;&quot;</td><td>&quot;040607082738&quot;</td><td>[4, 6, … 38]</td><td>4</td><td>6</td><td>7</td><td>8</td><td>27</td><td>38</td><td>&quot;04&quot;</td><td>&quot;06&quot;</td><td>&quot;07&quot;</td><td>&quot;08&quot;</td><td>&quot;27&quot;</td><td>&quot;38&quot;</td><td>&quot;04&quot;</td><td>&quot;06&quot;</td><td>&quot;07&quot;</td><td>&quot;08&quot;</td><td>&quot;27&quot;</td><td>&quot;38&quot;</td><td>true</td><td>24</td><td>&quot;02_01_01_19_11&quot;</td><td>-61</td></tr><tr><td>&quot;26/12/2024&quot;</td><td>&quot;1748&quot;</td><td>&quot;34 10 12 38 03 08&quot;</td><td>&quot;22 02 35 01 26 19&quot;</td><td>&quot;&quot;</td><td>&quot;&quot;</td><td>&quot;030810123438&quot;</td><td>[3, 8, … 38]</td><td>3</td><td>8</td><td>10</td><td>12</td><td>34</td><td>38</td><td>&quot;03&quot;</td><td>&quot;08&quot;</td><td>&quot;10&quot;</td><td>&quot;12&quot;</td><td>&quot;34&quot;</td><td>&quot;38&quot;</td><td>&quot;04&quot;</td><td>&quot;17&quot;</td><td>&quot;24&quot;</td><td>&quot;27&quot;</td><td>&quot;29&quot;</td><td>&quot;33&quot;</td><td>true</td><td>8</td><td>&quot;05_02_02_22_04&quot;</td><td>-75</td></tr></tbody></table></div>"
      ],
      "text/plain": [
       "shape: (10, 30)\n",
       "┌────────────┬────────┬─────────────┬─────────────┬───┬────────────┬────────┬────────────┬─────────┐\n",
       "│ fecha      ┆ sorteo ┆ bolillas    ┆ bolillas    ┆ … ┆ is_rare_co ┆ reason ┆ jumps_map  ┆ unijump │\n",
       "│ ---        ┆ ---    ┆ regulares   ┆ chauchamba  ┆   ┆ mbination  ┆ ---    ┆ ---        ┆ ---     │\n",
       "│ str        ┆ str    ┆ ---         ┆ ---         ┆   ┆ ---        ┆ u8     ┆ str        ┆ i64     │\n",
       "│            ┆        ┆ str         ┆ str         ┆   ┆ bool       ┆        ┆            ┆         │\n",
       "╞════════════╪════════╪═════════════╪═════════════╪═══╪════════════╪════════╪════════════╪═════════╡\n",
       "│ 17/04/2025 ┆ 1796   ┆ 12 06 38 15 ┆ 21 11 28 24 ┆ … ┆ false      ┆ 0      ┆ 04_06_03_2 ┆ -89     │\n",
       "│            ┆        ┆ 37 02       ┆ 32 20       ┆   ┆            ┆        ┆ 2_01       ┆         │\n",
       "│ 04/02/2025 ┆ 1765   ┆ 38 15 20 24 ┆ 17 07 30 10 ┆ … ┆ false      ┆ 0      ┆ 05_04_11_0 ┆ 48      │\n",
       "│            ┆        ┆ 35 37       ┆ 20 38       ┆   ┆            ┆        ┆ 2_01       ┆         │\n",
       "│ 04/02/2025 ┆ 1765   ┆ 38 15 20 24 ┆ 17 07 30 10 ┆ … ┆ false      ┆ 0      ┆ 05_04_11_0 ┆ 48      │\n",
       "│            ┆        ┆ 35 37       ┆ 20 38       ┆   ┆            ┆        ┆ 2_01       ┆         │\n",
       "│ 30/01/2025 ┆ 1763   ┆ 38 36 33 31 ┆ 17 09 03 12 ┆ … ┆ false      ┆ 0      ┆ 16_11_02_0 ┆ -26     │\n",
       "│            ┆        ┆ 04 20       ┆ 18 10       ┆   ┆            ┆        ┆ 3_02       ┆         │\n",
       "│ 30/01/2025 ┆ 1763   ┆ 38 36 33 31 ┆ 17 09 03 12 ┆ … ┆ false      ┆ 0      ┆ 16_11_02_0 ┆ -26     │\n",
       "│            ┆        ┆ 04 20       ┆ 18 10       ┆   ┆            ┆        ┆ 3_02       ┆         │\n",
       "│ 21/01/2025 ┆ 1759   ┆ 16 38 06 08 ┆ 35 30 28 23 ┆ … ┆ false      ┆ 0      ┆ 02_08_03_0 ┆ 2       │\n",
       "│            ┆        ┆ 19 20       ┆ 05 24       ┆   ┆            ┆        ┆ 1_18       ┆         │\n",
       "│ 21/01/2025 ┆ 1759   ┆ 16 38 06 08 ┆ 35 30 28 23 ┆ … ┆ false      ┆ 0      ┆ 02_08_03_0 ┆ 2       │\n",
       "│            ┆        ┆ 19 20       ┆ 05 24       ┆   ┆            ┆        ┆ 1_18       ┆         │\n",
       "│ 07/01/2025 ┆ 1753   ┆ 38 27 07 04 ┆ 36 33 40 01 ┆ … ┆ true       ┆ 24     ┆ 02_01_01_1 ┆ -61     │\n",
       "│            ┆        ┆ 08 06       ┆ 09 02       ┆   ┆            ┆        ┆ 9_11       ┆         │\n",
       "│ 07/01/2025 ┆ 1753   ┆ 38 27 07 04 ┆ 36 33 40 01 ┆ … ┆ true       ┆ 24     ┆ 02_01_01_1 ┆ -61     │\n",
       "│            ┆        ┆ 08 06       ┆ 09 02       ┆   ┆            ┆        ┆ 9_11       ┆         │\n",
       "│ 26/12/2024 ┆ 1748   ┆ 34 10 12 38 ┆ 22 02 35 01 ┆ … ┆ true       ┆ 8      ┆ 05_02_02_2 ┆ -75     │\n",
       "│            ┆        ┆ 03 08       ┆ 26 19       ┆   ┆            ┆        ┆ 2_04       ┆         │\n",
       "└────────────┴────────┴─────────────┴─────────────┴───┴────────────┴────────┴────────────┴─────────┘"
      ]
     },
     "metadata": {},
     "output_type": "display_data"
    },
    {
     "name": "stdout",
     "output_type": "stream",
     "text": [
      "df_jumps_map FOR str_b6 = 38\n"
     ]
    },
    {
     "data": {
      "text/html": [
       "<div><style>\n",
       ".dataframe > thead > tr,\n",
       ".dataframe > tbody > tr {\n",
       "  text-align: right;\n",
       "  white-space: pre-wrap;\n",
       "}\n",
       "</style>\n",
       "<small>shape: (397, 2)</small><table border=\"1\" class=\"dataframe\"><thead><tr><th>jumps_map</th><th>count</th></tr><tr><td>str</td><td>u32</td></tr></thead><tbody><tr><td>&quot;21_02_09_01_03&quot;</td><td>2</td></tr><tr><td>&quot;03_05_15_02_09&quot;</td><td>2</td></tr><tr><td>&quot;09_04_09_01_06&quot;</td><td>2</td></tr><tr><td>&quot;01_10_01_04_21&quot;</td><td>2</td></tr><tr><td>&quot;08_04_01_09_09&quot;</td><td>2</td></tr><tr><td>&hellip;</td><td>&hellip;</td></tr><tr><td>&quot;02_04_09_12_10&quot;</td><td>1</td></tr><tr><td>&quot;09_02_04_07_08&quot;</td><td>1</td></tr><tr><td>&quot;08_04_02_09_02&quot;</td><td>1</td></tr><tr><td>&quot;17_03_03_02_12&quot;</td><td>1</td></tr><tr><td>&quot;03_10_08_02_05&quot;</td><td>1</td></tr></tbody></table></div>"
      ],
      "text/plain": [
       "shape: (397, 2)\n",
       "┌────────────────┬───────┐\n",
       "│ jumps_map      ┆ count │\n",
       "│ ---            ┆ ---   │\n",
       "│ str            ┆ u32   │\n",
       "╞════════════════╪═══════╡\n",
       "│ 21_02_09_01_03 ┆ 2     │\n",
       "│ 03_05_15_02_09 ┆ 2     │\n",
       "│ 09_04_09_01_06 ┆ 2     │\n",
       "│ 01_10_01_04_21 ┆ 2     │\n",
       "│ 08_04_01_09_09 ┆ 2     │\n",
       "│ …              ┆ …     │\n",
       "│ 02_04_09_12_10 ┆ 1     │\n",
       "│ 09_02_04_07_08 ┆ 1     │\n",
       "│ 08_04_02_09_02 ┆ 1     │\n",
       "│ 17_03_03_02_12 ┆ 1     │\n",
       "│ 03_10_08_02_05 ┆ 1     │\n",
       "└────────────────┴───────┘"
      ]
     },
     "metadata": {},
     "output_type": "display_data"
    },
    {
     "name": "stdout",
     "output_type": "stream",
     "text": [
      "df_unijump FOR str_b6 = 38\n"
     ]
    },
    {
     "data": {
      "text/html": [
       "<div><style>\n",
       ".dataframe > thead > tr,\n",
       ".dataframe > tbody > tr {\n",
       "  text-align: right;\n",
       "  white-space: pre-wrap;\n",
       "}\n",
       "</style>\n",
       "<small>shape: (162, 2)</small><table border=\"1\" class=\"dataframe\"><thead><tr><th>unijump</th><th>count</th></tr><tr><td>i64</td><td>u32</td></tr></thead><tbody><tr><td>2</td><td>13</td></tr><tr><td>-3</td><td>12</td></tr><tr><td>3</td><td>11</td></tr><tr><td>-18</td><td>10</td></tr><tr><td>-28</td><td>9</td></tr><tr><td>&hellip;</td><td>&hellip;</td></tr><tr><td>39</td><td>1</td></tr><tr><td>-58</td><td>1</td></tr><tr><td>23</td><td>1</td></tr><tr><td>50</td><td>1</td></tr><tr><td>-65</td><td>1</td></tr></tbody></table></div>"
      ],
      "text/plain": [
       "shape: (162, 2)\n",
       "┌─────────┬───────┐\n",
       "│ unijump ┆ count │\n",
       "│ ---     ┆ ---   │\n",
       "│ i64     ┆ u32   │\n",
       "╞═════════╪═══════╡\n",
       "│ 2       ┆ 13    │\n",
       "│ -3      ┆ 12    │\n",
       "│ 3       ┆ 11    │\n",
       "│ -18     ┆ 10    │\n",
       "│ -28     ┆ 9     │\n",
       "│ …       ┆ …     │\n",
       "│ 39      ┆ 1     │\n",
       "│ -58     ┆ 1     │\n",
       "│ 23      ┆ 1     │\n",
       "│ 50      ┆ 1     │\n",
       "│ -65     ┆ 1     │\n",
       "└─────────┴───────┘"
      ]
     },
     "metadata": {},
     "output_type": "display_data"
    }
   ],
   "source": [
    "possible_blast, exclude_jump_maps_blast, last_post_blast = plot_post_col(col='str_b6', post_col='post_str_blast')"
   ]
  },
  {
   "cell_type": "code",
   "execution_count": 23,
   "metadata": {},
   "outputs": [],
   "source": [
    "b_count = rr.CHOOSE\n",
    "min_b = rr.MIN_B_VALUES[0]\n",
    "max_b = rr.MAX_B_VALUES[-1]\n",
    "\n",
    "\n",
    "combos = combinations(range(min_b, max_b + 1), b_count)\n",
    "# print(\"generating combos: \", len(list(combos)))"
   ]
  },
  {
   "cell_type": "code",
   "execution_count": 24,
   "metadata": {},
   "outputs": [
    {
     "name": "stdout",
     "output_type": "stream",
     "text": [
      "parquet_file='./parquet_kbl_v3.parquet' does not exists. creating\n",
      "TOTAL_LINES=3838380 loaded to parquet_file='./parquet_kbl_v3.parquet'\n"
     ]
    },
    {
     "data": {
      "text/html": [
       "<div><style>\n",
       ".dataframe > thead > tr,\n",
       ".dataframe > tbody > tr {\n",
       "  text-align: right;\n",
       "  white-space: pre-wrap;\n",
       "}\n",
       "</style>\n",
       "<small>shape: (10, 18)</small><table border=\"1\" class=\"dataframe\"><thead><tr><th>id</th><th>combo</th><th>b1</th><th>b2</th><th>b3</th><th>b4</th><th>b5</th><th>b6</th><th>str_b1</th><th>str_b2</th><th>str_b3</th><th>str_b4</th><th>str_b5</th><th>str_b6</th><th>is_rare_combination</th><th>reason</th><th>jumps_map</th><th>unijump</th></tr><tr><td>str</td><td>array[u8, 6]</td><td>u8</td><td>u8</td><td>u8</td><td>u8</td><td>u8</td><td>u8</td><td>str</td><td>str</td><td>str</td><td>str</td><td>str</td><td>str</td><td>bool</td><td>u8</td><td>str</td><td>i64</td></tr></thead><tbody><tr><td>&quot;010203040506&quot;</td><td>[1, 2, … 6]</td><td>1</td><td>2</td><td>3</td><td>4</td><td>5</td><td>6</td><td>&quot;01&quot;</td><td>&quot;02&quot;</td><td>&quot;03&quot;</td><td>&quot;04&quot;</td><td>&quot;05&quot;</td><td>&quot;06&quot;</td><td>true</td><td>8</td><td>&quot;01_01_01_01_01&quot;</td><td>0</td></tr><tr><td>&quot;010203040507&quot;</td><td>[1, 2, … 7]</td><td>1</td><td>2</td><td>3</td><td>4</td><td>5</td><td>7</td><td>&quot;01&quot;</td><td>&quot;02&quot;</td><td>&quot;03&quot;</td><td>&quot;04&quot;</td><td>&quot;05&quot;</td><td>&quot;07&quot;</td><td>true</td><td>9</td><td>&quot;01_01_01_01_02&quot;</td><td>1</td></tr><tr><td>&quot;010203040508&quot;</td><td>[1, 2, … 8]</td><td>1</td><td>2</td><td>3</td><td>4</td><td>5</td><td>8</td><td>&quot;01&quot;</td><td>&quot;02&quot;</td><td>&quot;03&quot;</td><td>&quot;04&quot;</td><td>&quot;05&quot;</td><td>&quot;08&quot;</td><td>true</td><td>8</td><td>&quot;01_01_01_01_03&quot;</td><td>2</td></tr><tr><td>&quot;010203040509&quot;</td><td>[1, 2, … 9]</td><td>1</td><td>2</td><td>3</td><td>4</td><td>5</td><td>9</td><td>&quot;01&quot;</td><td>&quot;02&quot;</td><td>&quot;03&quot;</td><td>&quot;04&quot;</td><td>&quot;05&quot;</td><td>&quot;09&quot;</td><td>true</td><td>8</td><td>&quot;01_01_01_01_04&quot;</td><td>3</td></tr><tr><td>&quot;010203040510&quot;</td><td>[1, 2, … 10]</td><td>1</td><td>2</td><td>3</td><td>4</td><td>5</td><td>10</td><td>&quot;01&quot;</td><td>&quot;02&quot;</td><td>&quot;03&quot;</td><td>&quot;04&quot;</td><td>&quot;05&quot;</td><td>&quot;10&quot;</td><td>true</td><td>8</td><td>&quot;01_01_01_01_05&quot;</td><td>4</td></tr><tr><td>&quot;010203040511&quot;</td><td>[1, 2, … 11]</td><td>1</td><td>2</td><td>3</td><td>4</td><td>5</td><td>11</td><td>&quot;01&quot;</td><td>&quot;02&quot;</td><td>&quot;03&quot;</td><td>&quot;04&quot;</td><td>&quot;05&quot;</td><td>&quot;11&quot;</td><td>true</td><td>9</td><td>&quot;01_01_01_01_06&quot;</td><td>5</td></tr><tr><td>&quot;010203040512&quot;</td><td>[1, 2, … 12]</td><td>1</td><td>2</td><td>3</td><td>4</td><td>5</td><td>12</td><td>&quot;01&quot;</td><td>&quot;02&quot;</td><td>&quot;03&quot;</td><td>&quot;04&quot;</td><td>&quot;05&quot;</td><td>&quot;12&quot;</td><td>true</td><td>8</td><td>&quot;01_01_01_01_07&quot;</td><td>6</td></tr><tr><td>&quot;010203040513&quot;</td><td>[1, 2, … 13]</td><td>1</td><td>2</td><td>3</td><td>4</td><td>5</td><td>13</td><td>&quot;01&quot;</td><td>&quot;02&quot;</td><td>&quot;03&quot;</td><td>&quot;04&quot;</td><td>&quot;05&quot;</td><td>&quot;13&quot;</td><td>true</td><td>9</td><td>&quot;01_01_01_01_08&quot;</td><td>7</td></tr><tr><td>&quot;010203040514&quot;</td><td>[1, 2, … 14]</td><td>1</td><td>2</td><td>3</td><td>4</td><td>5</td><td>14</td><td>&quot;01&quot;</td><td>&quot;02&quot;</td><td>&quot;03&quot;</td><td>&quot;04&quot;</td><td>&quot;05&quot;</td><td>&quot;14&quot;</td><td>true</td><td>8</td><td>&quot;01_01_01_01_09&quot;</td><td>8</td></tr><tr><td>&quot;010203040515&quot;</td><td>[1, 2, … 15]</td><td>1</td><td>2</td><td>3</td><td>4</td><td>5</td><td>15</td><td>&quot;01&quot;</td><td>&quot;02&quot;</td><td>&quot;03&quot;</td><td>&quot;04&quot;</td><td>&quot;05&quot;</td><td>&quot;15&quot;</td><td>true</td><td>8</td><td>&quot;01_01_01_01_10&quot;</td><td>9</td></tr></tbody></table></div>"
      ],
      "text/plain": [
       "shape: (10, 18)\n",
       "┌──────────────┬──────────────┬─────┬─────┬───┬────────────────┬────────┬────────────────┬─────────┐\n",
       "│ id           ┆ combo        ┆ b1  ┆ b2  ┆ … ┆ is_rare_combin ┆ reason ┆ jumps_map      ┆ unijump │\n",
       "│ ---          ┆ ---          ┆ --- ┆ --- ┆   ┆ ation          ┆ ---    ┆ ---            ┆ ---     │\n",
       "│ str          ┆ array[u8, 6] ┆ u8  ┆ u8  ┆   ┆ ---            ┆ u8     ┆ str            ┆ i64     │\n",
       "│              ┆              ┆     ┆     ┆   ┆ bool           ┆        ┆                ┆         │\n",
       "╞══════════════╪══════════════╪═════╪═════╪═══╪════════════════╪════════╪════════════════╪═════════╡\n",
       "│ 010203040506 ┆ [1, 2, … 6]  ┆ 1   ┆ 2   ┆ … ┆ true           ┆ 8      ┆ 01_01_01_01_01 ┆ 0       │\n",
       "│ 010203040507 ┆ [1, 2, … 7]  ┆ 1   ┆ 2   ┆ … ┆ true           ┆ 9      ┆ 01_01_01_01_02 ┆ 1       │\n",
       "│ 010203040508 ┆ [1, 2, … 8]  ┆ 1   ┆ 2   ┆ … ┆ true           ┆ 8      ┆ 01_01_01_01_03 ┆ 2       │\n",
       "│ 010203040509 ┆ [1, 2, … 9]  ┆ 1   ┆ 2   ┆ … ┆ true           ┆ 8      ┆ 01_01_01_01_04 ┆ 3       │\n",
       "│ 010203040510 ┆ [1, 2, … 10] ┆ 1   ┆ 2   ┆ … ┆ true           ┆ 8      ┆ 01_01_01_01_05 ┆ 4       │\n",
       "│ 010203040511 ┆ [1, 2, … 11] ┆ 1   ┆ 2   ┆ … ┆ true           ┆ 9      ┆ 01_01_01_01_06 ┆ 5       │\n",
       "│ 010203040512 ┆ [1, 2, … 12] ┆ 1   ┆ 2   ┆ … ┆ true           ┆ 8      ┆ 01_01_01_01_07 ┆ 6       │\n",
       "│ 010203040513 ┆ [1, 2, … 13] ┆ 1   ┆ 2   ┆ … ┆ true           ┆ 9      ┆ 01_01_01_01_08 ┆ 7       │\n",
       "│ 010203040514 ┆ [1, 2, … 14] ┆ 1   ┆ 2   ┆ … ┆ true           ┆ 8      ┆ 01_01_01_01_09 ┆ 8       │\n",
       "│ 010203040515 ┆ [1, 2, … 15] ┆ 1   ┆ 2   ┆ … ┆ true           ┆ 8      ┆ 01_01_01_01_10 ┆ 9       │\n",
       "└──────────────┴──────────────┴─────┴─────┴───┴────────────────┴────────┴────────────────┴─────────┘"
      ]
     },
     "metadata": {},
     "output_type": "display_data"
    }
   ],
   "source": [
    "parquet_file = './parquet_kbl_v3.parquet'\n",
    "\n",
    "# check if parquet_file exists\n",
    "if not os.path.exists(parquet_file):\n",
    "  print(f'{parquet_file=} does not exists. creating')\n",
    "  lst = []\n",
    "\n",
    "  for row in combos:\n",
    "    cols = []\n",
    "    str_row = \" \".join([str(r).zfill(2) for r in row])\n",
    "    id, bolillas_int, str_combo = formalize_data_with_str(bolillas_str=str_row)\n",
    "    cols.append(id)\n",
    "    cols.append(bolillas_int)\n",
    "    cols.extend([b for b in bolillas_int])\n",
    "    cols.extend(str_combo)\n",
    "\n",
    "    is_rare, reason = rr.is_rare_combination(bolillas_int, id)\n",
    "    cols.append(is_rare)\n",
    "    cols.append(reason)\n",
    "\n",
    "    cols.append(rr.jumps_map(bolillas_int))\n",
    "    cols.append(rr.unijump(bolillas_int))\n",
    "    \n",
    "    lst.append(cols)\n",
    "\n",
    "\n",
    "  with open('./gn_cahe_v3.json', 'w') as file: \n",
    "    json.dump(lst, file)\n",
    "\n",
    "  \n",
    "  # dfRows = pl.DataFrame(\n",
    "  #   lst,\n",
    "  #   schema=[\n",
    "  #     'fecha', 'sorteo', 'bolillas regulares', 'bolillas chauchamba', 'cc1', 'cc2',\n",
    "  #     'id', 'combo', 'b1', 'b2', 'b3', 'b4', 'b5', 'b6',\n",
    "  #     'str_b1', 'str_b2', 'str_b3', 'str_b4', 'str_b5', 'str_b6',\n",
    "  #     'post_str_b1', 'post_str_b2', 'post_str_b3', 'post_str_b4', 'post_str_b5', 'post_str_blast',\n",
    "  #     'is_rare_combination', 'reason',\n",
    "  #     \"jumps_map\", \"unijump\"\n",
    "  #   ],\n",
    "  #   schema_overrides={\n",
    "  #     'combo': pl.Array(pl.UInt8, 6),\n",
    "  #     'b1': pl.UInt8,\n",
    "  #     'b2': pl.UInt8,\n",
    "  #     'b3': pl.UInt8,\n",
    "  #     'b4': pl.UInt8,\n",
    "  #     'b5': pl.UInt8,\n",
    "  #     'b6': pl.UInt8,\n",
    "  #     'reason': pl.UInt8\n",
    "  #   },\n",
    "  #   orient='row'\n",
    "  # )\n",
    "\n",
    "  df_Orows = pl.DataFrame(\n",
    "    lst,\n",
    "    schema=[\n",
    "      # 'fecha', 'sorteo', 'bolillas',\n",
    "      'id', 'combo', 'b1', 'b2', 'b3', 'b4', 'b5', 'b6',\n",
    "      'str_b1', 'str_b2', 'str_b3', 'str_b4', 'str_b5', 'str_b6',\n",
    "      'is_rare_combination', 'reason',\n",
    "      \"jumps_map\", \"unijump\"\n",
    "    ],\n",
    "    schema_overrides={\n",
    "      'combo': pl.Array(pl.UInt8, 6),\n",
    "      'b1': pl.UInt8,\n",
    "      'b2': pl.UInt8,\n",
    "      'b3': pl.UInt8,\n",
    "      'b4': pl.UInt8,\n",
    "      'b5': pl.UInt8,\n",
    "      'b6': pl.UInt8,\n",
    "      'reason': pl.UInt8\n",
    "    },\n",
    "    orient='row'\n",
    "  )\n",
    "\n",
    "  df_Orows.write_parquet(parquet_file)\n",
    "  TOTAL_LINES = len(df_Orows)\n",
    "  print(f'{TOTAL_LINES=} loaded to {parquet_file=}')\n",
    "\n",
    "  display(df_Orows.head(10))\n",
    "else:\n",
    "  df_Orows = pl.read_parquet(parquet_file)"
   ]
  },
  {
   "cell_type": "code",
   "execution_count": 26,
   "metadata": {},
   "outputs": [
    {
     "data": {
      "text/html": [
       "<div><style>\n",
       ".dataframe > thead > tr,\n",
       ".dataframe > tbody > tr {\n",
       "  text-align: right;\n",
       "  white-space: pre-wrap;\n",
       "}\n",
       "</style>\n",
       "<small>shape: (10_945, 18)</small><table border=\"1\" class=\"dataframe\"><thead><tr><th>id</th><th>combo</th><th>b1</th><th>b2</th><th>b3</th><th>b4</th><th>b5</th><th>b6</th><th>str_b1</th><th>str_b2</th><th>str_b3</th><th>str_b4</th><th>str_b5</th><th>str_b6</th><th>is_rare_combination</th><th>reason</th><th>jumps_map</th><th>unijump</th></tr><tr><td>str</td><td>array[u8, 6]</td><td>u8</td><td>u8</td><td>u8</td><td>u8</td><td>u8</td><td>u8</td><td>str</td><td>str</td><td>str</td><td>str</td><td>str</td><td>str</td><td>bool</td><td>u8</td><td>str</td><td>i64</td></tr></thead><tbody><tr><td>&quot;010515222434&quot;</td><td>[1, 5, … 34]</td><td>1</td><td>5</td><td>15</td><td>22</td><td>24</td><td>34</td><td>&quot;01&quot;</td><td>&quot;05&quot;</td><td>&quot;15&quot;</td><td>&quot;22&quot;</td><td>&quot;24&quot;</td><td>&quot;34&quot;</td><td>false</td><td>0</td><td>&quot;04_10_07_02_10&quot;</td><td>8</td></tr><tr><td>&quot;010515222435&quot;</td><td>[1, 5, … 35]</td><td>1</td><td>5</td><td>15</td><td>22</td><td>24</td><td>35</td><td>&quot;01&quot;</td><td>&quot;05&quot;</td><td>&quot;15&quot;</td><td>&quot;22&quot;</td><td>&quot;24&quot;</td><td>&quot;35&quot;</td><td>false</td><td>0</td><td>&quot;04_10_07_02_11&quot;</td><td>9</td></tr><tr><td>&quot;010515222437&quot;</td><td>[1, 5, … 37]</td><td>1</td><td>5</td><td>15</td><td>22</td><td>24</td><td>37</td><td>&quot;01&quot;</td><td>&quot;05&quot;</td><td>&quot;15&quot;</td><td>&quot;22&quot;</td><td>&quot;24&quot;</td><td>&quot;37&quot;</td><td>false</td><td>0</td><td>&quot;04_10_07_02_13&quot;</td><td>11</td></tr><tr><td>&quot;010515222439&quot;</td><td>[1, 5, … 39]</td><td>1</td><td>5</td><td>15</td><td>22</td><td>24</td><td>39</td><td>&quot;01&quot;</td><td>&quot;05&quot;</td><td>&quot;15&quot;</td><td>&quot;22&quot;</td><td>&quot;24&quot;</td><td>&quot;39&quot;</td><td>false</td><td>0</td><td>&quot;04_10_07_02_15&quot;</td><td>13</td></tr><tr><td>&quot;010515222734&quot;</td><td>[1, 5, … 34]</td><td>1</td><td>5</td><td>15</td><td>22</td><td>27</td><td>34</td><td>&quot;01&quot;</td><td>&quot;05&quot;</td><td>&quot;15&quot;</td><td>&quot;22&quot;</td><td>&quot;27&quot;</td><td>&quot;34&quot;</td><td>false</td><td>0</td><td>&quot;04_10_07_05_07&quot;</td><td>-7</td></tr><tr><td>&hellip;</td><td>&hellip;</td><td>&hellip;</td><td>&hellip;</td><td>&hellip;</td><td>&hellip;</td><td>&hellip;</td><td>&hellip;</td><td>&hellip;</td><td>&hellip;</td><td>&hellip;</td><td>&hellip;</td><td>&hellip;</td><td>&hellip;</td><td>&hellip;</td><td>&hellip;</td><td>&hellip;</td><td>&hellip;</td></tr><tr><td>&quot;051325303439&quot;</td><td>[5, 13, … 39]</td><td>5</td><td>13</td><td>25</td><td>30</td><td>34</td><td>39</td><td>&quot;05&quot;</td><td>&quot;13&quot;</td><td>&quot;25&quot;</td><td>&quot;30&quot;</td><td>&quot;34&quot;</td><td>&quot;39&quot;</td><td>false</td><td>0</td><td>&quot;08_12_05_04_05&quot;</td><td>-21</td></tr><tr><td>&quot;051325303440&quot;</td><td>[5, 13, … 40]</td><td>5</td><td>13</td><td>25</td><td>30</td><td>34</td><td>40</td><td>&quot;05&quot;</td><td>&quot;13&quot;</td><td>&quot;25&quot;</td><td>&quot;30&quot;</td><td>&quot;34&quot;</td><td>&quot;40&quot;</td><td>false</td><td>0</td><td>&quot;08_12_05_04_06&quot;</td><td>-20</td></tr><tr><td>&quot;051325303637&quot;</td><td>[5, 13, … 37]</td><td>5</td><td>13</td><td>25</td><td>30</td><td>36</td><td>37</td><td>&quot;05&quot;</td><td>&quot;13&quot;</td><td>&quot;25&quot;</td><td>&quot;30&quot;</td><td>&quot;36&quot;</td><td>&quot;37&quot;</td><td>false</td><td>0</td><td>&quot;08_12_05_06_01&quot;</td><td>-33</td></tr><tr><td>&quot;051325303639&quot;</td><td>[5, 13, … 39]</td><td>5</td><td>13</td><td>25</td><td>30</td><td>36</td><td>39</td><td>&quot;05&quot;</td><td>&quot;13&quot;</td><td>&quot;25&quot;</td><td>&quot;30&quot;</td><td>&quot;36&quot;</td><td>&quot;39&quot;</td><td>false</td><td>0</td><td>&quot;08_12_05_06_03&quot;</td><td>-31</td></tr><tr><td>&quot;051325303640&quot;</td><td>[5, 13, … 40]</td><td>5</td><td>13</td><td>25</td><td>30</td><td>36</td><td>40</td><td>&quot;05&quot;</td><td>&quot;13&quot;</td><td>&quot;25&quot;</td><td>&quot;30&quot;</td><td>&quot;36&quot;</td><td>&quot;40&quot;</td><td>false</td><td>0</td><td>&quot;08_12_05_06_04&quot;</td><td>-30</td></tr></tbody></table></div>"
      ],
      "text/plain": [
       "shape: (10_945, 18)\n",
       "┌──────────────┬───────────────┬─────┬─────┬───┬────────────────┬────────┬───────────────┬─────────┐\n",
       "│ id           ┆ combo         ┆ b1  ┆ b2  ┆ … ┆ is_rare_combin ┆ reason ┆ jumps_map     ┆ unijump │\n",
       "│ ---          ┆ ---           ┆ --- ┆ --- ┆   ┆ ation          ┆ ---    ┆ ---           ┆ ---     │\n",
       "│ str          ┆ array[u8, 6]  ┆ u8  ┆ u8  ┆   ┆ ---            ┆ u8     ┆ str           ┆ i64     │\n",
       "│              ┆               ┆     ┆     ┆   ┆ bool           ┆        ┆               ┆         │\n",
       "╞══════════════╪═══════════════╪═════╪═════╪═══╪════════════════╪════════╪═══════════════╪═════════╡\n",
       "│ 010515222434 ┆ [1, 5, … 34]  ┆ 1   ┆ 5   ┆ … ┆ false          ┆ 0      ┆ 04_10_07_02_1 ┆ 8       │\n",
       "│              ┆               ┆     ┆     ┆   ┆                ┆        ┆ 0             ┆         │\n",
       "│ 010515222435 ┆ [1, 5, … 35]  ┆ 1   ┆ 5   ┆ … ┆ false          ┆ 0      ┆ 04_10_07_02_1 ┆ 9       │\n",
       "│              ┆               ┆     ┆     ┆   ┆                ┆        ┆ 1             ┆         │\n",
       "│ 010515222437 ┆ [1, 5, … 37]  ┆ 1   ┆ 5   ┆ … ┆ false          ┆ 0      ┆ 04_10_07_02_1 ┆ 11      │\n",
       "│              ┆               ┆     ┆     ┆   ┆                ┆        ┆ 3             ┆         │\n",
       "│ 010515222439 ┆ [1, 5, … 39]  ┆ 1   ┆ 5   ┆ … ┆ false          ┆ 0      ┆ 04_10_07_02_1 ┆ 13      │\n",
       "│              ┆               ┆     ┆     ┆   ┆                ┆        ┆ 5             ┆         │\n",
       "│ 010515222734 ┆ [1, 5, … 34]  ┆ 1   ┆ 5   ┆ … ┆ false          ┆ 0      ┆ 04_10_07_05_0 ┆ -7      │\n",
       "│              ┆               ┆     ┆     ┆   ┆                ┆        ┆ 7             ┆         │\n",
       "│ …            ┆ …             ┆ …   ┆ …   ┆ … ┆ …              ┆ …      ┆ …             ┆ …       │\n",
       "│ 051325303439 ┆ [5, 13, … 39] ┆ 5   ┆ 13  ┆ … ┆ false          ┆ 0      ┆ 08_12_05_04_0 ┆ -21     │\n",
       "│              ┆               ┆     ┆     ┆   ┆                ┆        ┆ 5             ┆         │\n",
       "│ 051325303440 ┆ [5, 13, … 40] ┆ 5   ┆ 13  ┆ … ┆ false          ┆ 0      ┆ 08_12_05_04_0 ┆ -20     │\n",
       "│              ┆               ┆     ┆     ┆   ┆                ┆        ┆ 6             ┆         │\n",
       "│ 051325303637 ┆ [5, 13, … 37] ┆ 5   ┆ 13  ┆ … ┆ false          ┆ 0      ┆ 08_12_05_06_0 ┆ -33     │\n",
       "│              ┆               ┆     ┆     ┆   ┆                ┆        ┆ 1             ┆         │\n",
       "│ 051325303639 ┆ [5, 13, … 39] ┆ 5   ┆ 13  ┆ … ┆ false          ┆ 0      ┆ 08_12_05_06_0 ┆ -31     │\n",
       "│              ┆               ┆     ┆     ┆   ┆                ┆        ┆ 3             ┆         │\n",
       "│ 051325303640 ┆ [5, 13, … 40] ┆ 5   ┆ 13  ┆ … ┆ false          ┆ 0      ┆ 08_12_05_06_0 ┆ -30     │\n",
       "│              ┆               ┆     ┆     ┆   ┆                ┆        ┆ 4             ┆         │\n",
       "└──────────────┴───────────────┴─────┴─────┴───┴────────────────┴────────┴───────────────┴─────────┘"
      ]
     },
     "metadata": {},
     "output_type": "display_data"
    }
   ],
   "source": [
    "# possible_b1, exclude_jump_maps_b1\n",
    "df_possible = df_Orows.filter(\n",
    "  pl.col(\"str_b1\").is_in(possible_b1),\n",
    "  pl.col(\"str_b2\").is_in(possible_b2),\n",
    "  pl.col(\"str_b3\").is_in(possible_b3),\n",
    "  pl.col(\"str_b4\").is_in(possible_b4),\n",
    "  pl.col(\"str_b5\").is_in(possible_b5),\n",
    "  pl.col(\"str_b6\").is_in(possible_blast),\n",
    "  \n",
    "  ~pl.col(\"str_b1\").is_in(last_post_b1),\n",
    "  ~pl.col(\"str_b2\").is_in(last_post_b2),\n",
    "  ~pl.col(\"str_b3\").is_in(last_post_b3),\n",
    "  ~pl.col(\"str_b4\").is_in(last_post_b4),\n",
    "  ~pl.col(\"str_b5\").is_in(last_post_b5),\n",
    "  ~pl.col(\"str_b6\").is_in(last_post_blast),\n",
    "\n",
    "  ~pl.col(\"jumps_map\").is_in(exclude_jump_maps_b1 + exclude_jump_maps_b2 + exclude_jump_maps_b3 + exclude_jump_maps_b4 + exclude_jump_maps_b5 + exclude_jump_maps_blast),\n",
    "  pl.col(\"is_rare_combination\") == False\n",
    ")\n",
    "\n",
    "\n",
    "display(df_possible)"
   ]
  },
  {
   "cell_type": "code",
   "execution_count": 27,
   "metadata": {},
   "outputs": [
    {
     "data": {
      "text/html": [
       "<div><style>\n",
       ".dataframe > thead > tr,\n",
       ".dataframe > tbody > tr {\n",
       "  text-align: right;\n",
       "  white-space: pre-wrap;\n",
       "}\n",
       "</style>\n",
       "<small>shape: (1, 18)</small><table border=\"1\" class=\"dataframe\"><thead><tr><th>id</th><th>combo</th><th>b1</th><th>b2</th><th>b3</th><th>b4</th><th>b5</th><th>b6</th><th>str_b1</th><th>str_b2</th><th>str_b3</th><th>str_b4</th><th>str_b5</th><th>str_b6</th><th>is_rare_combination</th><th>reason</th><th>jumps_map</th><th>unijump</th></tr><tr><td>str</td><td>array[u8, 6]</td><td>u8</td><td>u8</td><td>u8</td><td>u8</td><td>u8</td><td>u8</td><td>str</td><td>str</td><td>str</td><td>str</td><td>str</td><td>str</td><td>bool</td><td>u8</td><td>str</td><td>i64</td></tr></thead><tbody><tr><td>&quot;011317243337&quot;</td><td>[1, 13, … 37]</td><td>1</td><td>13</td><td>17</td><td>24</td><td>33</td><td>37</td><td>&quot;01&quot;</td><td>&quot;13&quot;</td><td>&quot;17&quot;</td><td>&quot;24&quot;</td><td>&quot;33&quot;</td><td>&quot;37&quot;</td><td>false</td><td>0</td><td>&quot;12_04_07_09_04&quot;</td><td>6</td></tr></tbody></table></div>"
      ],
      "text/plain": [
       "shape: (1, 18)\n",
       "┌──────────────┬───────────────┬─────┬─────┬───┬────────────────┬────────┬───────────────┬─────────┐\n",
       "│ id           ┆ combo         ┆ b1  ┆ b2  ┆ … ┆ is_rare_combin ┆ reason ┆ jumps_map     ┆ unijump │\n",
       "│ ---          ┆ ---           ┆ --- ┆ --- ┆   ┆ ation          ┆ ---    ┆ ---           ┆ ---     │\n",
       "│ str          ┆ array[u8, 6]  ┆ u8  ┆ u8  ┆   ┆ ---            ┆ u8     ┆ str           ┆ i64     │\n",
       "│              ┆               ┆     ┆     ┆   ┆ bool           ┆        ┆               ┆         │\n",
       "╞══════════════╪═══════════════╪═════╪═════╪═══╪════════════════╪════════╪═══════════════╪═════════╡\n",
       "│ 011317243337 ┆ [1, 13, … 37] ┆ 1   ┆ 13  ┆ … ┆ false          ┆ 0      ┆ 12_04_07_09_0 ┆ 6       │\n",
       "│              ┆               ┆     ┆     ┆   ┆                ┆        ┆ 4             ┆         │\n",
       "└──────────────┴───────────────┴─────┴─────┴───┴────────────────┴────────┴───────────────┴─────────┘"
      ]
     },
     "execution_count": 27,
     "metadata": {},
     "output_type": "execute_result"
    }
   ],
   "source": [
    "df_possible.sample(n=1)"
   ]
  }
 ],
 "metadata": {
  "kernelspec": {
   "display_name": ".venv",
   "language": "python",
   "name": "python3"
  },
  "language_info": {
   "codemirror_mode": {
    "name": "ipython",
    "version": 3
   },
   "file_extension": ".py",
   "mimetype": "text/x-python",
   "name": "python",
   "nbconvert_exporter": "python",
   "pygments_lexer": "ipython3",
   "version": "3.12.9"
  }
 },
 "nbformat": 4,
 "nbformat_minor": 2
}

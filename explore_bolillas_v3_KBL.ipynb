{
 "cells": [
  {
   "cell_type": "code",
   "execution_count": 1,
   "metadata": {},
   "outputs": [
    {
     "data": {
      "text/html": [
       "<script type=\"esms-options\">{\"shimMode\": true}</script><style>*[data-root-id],\n",
       "*[data-root-id] > * {\n",
       "  box-sizing: border-box;\n",
       "  font-family: var(--jp-ui-font-family);\n",
       "  font-size: var(--jp-ui-font-size1);\n",
       "  color: var(--vscode-editor-foreground, var(--jp-ui-font-color1));\n",
       "}\n",
       "\n",
       "/* Override VSCode background color */\n",
       ".cell-output-ipywidget-background:has(\n",
       "    > .cell-output-ipywidget-background > .lm-Widget > *[data-root-id]\n",
       "  ),\n",
       ".cell-output-ipywidget-background:has(> .lm-Widget > *[data-root-id]) {\n",
       "  background-color: transparent !important;\n",
       "}\n",
       "</style>"
      ]
     },
     "metadata": {},
     "output_type": "display_data"
    },
    {
     "data": {
      "application/javascript": "(function(root) {\n  function now() {\n    return new Date();\n  }\n\n  const force = true;\n  const py_version = '3.7.2'.replace('rc', '-rc.').replace('.dev', '-dev.');\n  const reloading = false;\n  const Bokeh = root.Bokeh;\n\n  // Set a timeout for this load but only if we are not already initializing\n  if (typeof (root._bokeh_timeout) === \"undefined\" || (force || !root._bokeh_is_initializing)) {\n    root._bokeh_timeout = Date.now() + 5000;\n    root._bokeh_failed_load = false;\n  }\n\n  function run_callbacks() {\n    try {\n      root._bokeh_onload_callbacks.forEach(function(callback) {\n        if (callback != null)\n          callback();\n      });\n    } finally {\n      delete root._bokeh_onload_callbacks;\n    }\n    console.debug(\"Bokeh: all callbacks have finished\");\n  }\n\n  function load_libs(css_urls, js_urls, js_modules, js_exports, callback) {\n    if (css_urls == null) css_urls = [];\n    if (js_urls == null) js_urls = [];\n    if (js_modules == null) js_modules = [];\n    if (js_exports == null) js_exports = {};\n\n    root._bokeh_onload_callbacks.push(callback);\n\n    if (root._bokeh_is_loading > 0) {\n      // Don't load bokeh if it is still initializing\n      console.debug(\"Bokeh: BokehJS is being loaded, scheduling callback at\", now());\n      return null;\n    } else if (js_urls.length === 0 && js_modules.length === 0 && Object.keys(js_exports).length === 0) {\n      // There is nothing to load\n      run_callbacks();\n      return null;\n    }\n\n    function on_load() {\n      root._bokeh_is_loading--;\n      if (root._bokeh_is_loading === 0) {\n        console.debug(\"Bokeh: all BokehJS libraries/stylesheets loaded\");\n        run_callbacks()\n      }\n    }\n    window._bokeh_on_load = on_load\n\n    function on_error(e) {\n      const src_el = e.srcElement\n      console.error(\"failed to load \" + (src_el.href || src_el.src));\n    }\n\n    const skip = [];\n    if (window.requirejs) {\n      window.requirejs.config({'packages': {}, 'paths': {}, 'shim': {}});\n      root._bokeh_is_loading = css_urls.length + 0;\n    } else {\n      root._bokeh_is_loading = css_urls.length + js_urls.length + js_modules.length + Object.keys(js_exports).length;\n    }\n\n    const existing_stylesheets = []\n    const links = document.getElementsByTagName('link')\n    for (let i = 0; i < links.length; i++) {\n      const link = links[i]\n      if (link.href != null) {\n        existing_stylesheets.push(link.href)\n      }\n    }\n    for (let i = 0; i < css_urls.length; i++) {\n      const url = css_urls[i];\n      const escaped = encodeURI(url)\n      if (existing_stylesheets.indexOf(escaped) !== -1) {\n        on_load()\n        continue;\n      }\n      const element = document.createElement(\"link\");\n      element.onload = on_load;\n      element.onerror = on_error;\n      element.rel = \"stylesheet\";\n      element.type = \"text/css\";\n      element.href = url;\n      console.debug(\"Bokeh: injecting link tag for BokehJS stylesheet: \", url);\n      document.body.appendChild(element);\n    }    var existing_scripts = []\n    const scripts = document.getElementsByTagName('script')\n    for (let i = 0; i < scripts.length; i++) {\n      var script = scripts[i]\n      if (script.src != null) {\n        existing_scripts.push(script.src)\n      }\n    }\n    for (let i = 0; i < js_urls.length; i++) {\n      const url = js_urls[i];\n      const escaped = encodeURI(url)\n      if (skip.indexOf(escaped) !== -1 || existing_scripts.indexOf(escaped) !== -1) {\n        if (!window.requirejs) {\n          on_load();\n        }\n        continue;\n      }\n      const element = document.createElement('script');\n      element.onload = on_load;\n      element.onerror = on_error;\n      element.async = false;\n      element.src = url;\n      console.debug(\"Bokeh: injecting script tag for BokehJS library: \", url);\n      document.head.appendChild(element);\n    }\n    for (let i = 0; i < js_modules.length; i++) {\n      const url = js_modules[i];\n      const escaped = encodeURI(url)\n      if (skip.indexOf(escaped) !== -1 || existing_scripts.indexOf(escaped) !== -1) {\n        if (!window.requirejs) {\n          on_load();\n        }\n        continue;\n      }\n      var element = document.createElement('script');\n      element.onload = on_load;\n      element.onerror = on_error;\n      element.async = false;\n      element.src = url;\n      element.type = \"module\";\n      console.debug(\"Bokeh: injecting script tag for BokehJS library: \", url);\n      document.head.appendChild(element);\n    }\n    for (const name in js_exports) {\n      const url = js_exports[name];\n      const escaped = encodeURI(url)\n      if (skip.indexOf(escaped) >= 0 || root[name] != null) {\n        if (!window.requirejs) {\n          on_load();\n        }\n        continue;\n      }\n      var element = document.createElement('script');\n      element.onerror = on_error;\n      element.async = false;\n      element.type = \"module\";\n      console.debug(\"Bokeh: injecting script tag for BokehJS library: \", url);\n      element.textContent = `\n      import ${name} from \"${url}\"\n      window.${name} = ${name}\n      window._bokeh_on_load()\n      `\n      document.head.appendChild(element);\n    }\n    if (!js_urls.length && !js_modules.length) {\n      on_load()\n    }\n  };\n\n  function inject_raw_css(css) {\n    const element = document.createElement(\"style\");\n    element.appendChild(document.createTextNode(css));\n    document.body.appendChild(element);\n  }\n\n  const js_urls = [\"https://cdn.holoviz.org/panel/1.6.2/dist/bundled/reactiveesm/es-module-shims@^1.10.0/dist/es-module-shims.min.js\", \"https://cdn.bokeh.org/bokeh/release/bokeh-3.7.2.min.js\", \"https://cdn.bokeh.org/bokeh/release/bokeh-gl-3.7.2.min.js\", \"https://cdn.bokeh.org/bokeh/release/bokeh-widgets-3.7.2.min.js\", \"https://cdn.bokeh.org/bokeh/release/bokeh-tables-3.7.2.min.js\", \"https://cdn.holoviz.org/panel/1.6.2/dist/panel.min.js\"];\n  const js_modules = [];\n  const js_exports = {};\n  const css_urls = [];\n  const inline_js = [    function(Bokeh) {\n      Bokeh.set_log_level(\"info\");\n    },\nfunction(Bokeh) {} // ensure no trailing comma for IE\n  ];\n\n  function run_inline_js() {\n    if ((root.Bokeh !== undefined) || (force === true)) {\n      for (let i = 0; i < inline_js.length; i++) {\n        try {\n          inline_js[i].call(root, root.Bokeh);\n        } catch(e) {\n          if (!reloading) {\n            throw e;\n          }\n        }\n      }\n      // Cache old bokeh versions\n      if (Bokeh != undefined && !reloading) {\n        var NewBokeh = root.Bokeh;\n        if (Bokeh.versions === undefined) {\n          Bokeh.versions = new Map();\n        }\n        if (NewBokeh.version !== Bokeh.version) {\n          Bokeh.versions.set(NewBokeh.version, NewBokeh)\n        }\n        root.Bokeh = Bokeh;\n      }\n    } else if (Date.now() < root._bokeh_timeout) {\n      setTimeout(run_inline_js, 100);\n    } else if (!root._bokeh_failed_load) {\n      console.log(\"Bokeh: BokehJS failed to load within specified timeout.\");\n      root._bokeh_failed_load = true;\n    }\n    root._bokeh_is_initializing = false\n  }\n\n  function load_or_wait() {\n    // Implement a backoff loop that tries to ensure we do not load multiple\n    // versions of Bokeh and its dependencies at the same time.\n    // In recent versions we use the root._bokeh_is_initializing flag\n    // to determine whether there is an ongoing attempt to initialize\n    // bokeh, however for backward compatibility we also try to ensure\n    // that we do not start loading a newer (Panel>=1.0 and Bokeh>3) version\n    // before older versions are fully initialized.\n    if (root._bokeh_is_initializing && Date.now() > root._bokeh_timeout) {\n      // If the timeout and bokeh was not successfully loaded we reset\n      // everything and try loading again\n      root._bokeh_timeout = Date.now() + 5000;\n      root._bokeh_is_initializing = false;\n      root._bokeh_onload_callbacks = undefined;\n      root._bokeh_is_loading = 0\n      console.log(\"Bokeh: BokehJS was loaded multiple times but one version failed to initialize.\");\n      load_or_wait();\n    } else if (root._bokeh_is_initializing || (typeof root._bokeh_is_initializing === \"undefined\" && root._bokeh_onload_callbacks !== undefined)) {\n      setTimeout(load_or_wait, 100);\n    } else {\n      root._bokeh_is_initializing = true\n      root._bokeh_onload_callbacks = []\n      const bokeh_loaded = root.Bokeh != null && (root.Bokeh.version === py_version || (root.Bokeh.versions !== undefined && root.Bokeh.versions.has(py_version)));\n      if (!reloading && !bokeh_loaded) {\n        if (root.Bokeh) {\n          root.Bokeh = undefined;\n        }\n        console.debug(\"Bokeh: BokehJS not loaded, scheduling load and callback at\", now());\n      }\n      load_libs(css_urls, js_urls, js_modules, js_exports, function() {\n        console.debug(\"Bokeh: BokehJS plotting callback run at\", now());\n        run_inline_js();\n      });\n    }\n  }\n  // Give older versions of the autoload script a head-start to ensure\n  // they initialize before we start loading newer version.\n  setTimeout(load_or_wait, 100)\n}(window));",
      "application/vnd.holoviews_load.v0+json": ""
     },
     "metadata": {},
     "output_type": "display_data"
    },
    {
     "data": {
      "application/javascript": "\nif ((window.PyViz === undefined) || (window.PyViz instanceof HTMLElement)) {\n  window.PyViz = {comms: {}, comm_status:{}, kernels:{}, receivers: {}, plot_index: []}\n}\n\n\n    function JupyterCommManager() {\n    }\n\n    JupyterCommManager.prototype.register_target = function(plot_id, comm_id, msg_handler) {\n      if (window.comm_manager || ((window.Jupyter !== undefined) && (Jupyter.notebook.kernel != null))) {\n        var comm_manager = window.comm_manager || Jupyter.notebook.kernel.comm_manager;\n        comm_manager.register_target(comm_id, function(comm) {\n          comm.on_msg(msg_handler);\n        });\n      } else if ((plot_id in window.PyViz.kernels) && (window.PyViz.kernels[plot_id])) {\n        window.PyViz.kernels[plot_id].registerCommTarget(comm_id, function(comm) {\n          comm.onMsg = msg_handler;\n        });\n      } else if (typeof google != 'undefined' && google.colab.kernel != null) {\n        google.colab.kernel.comms.registerTarget(comm_id, (comm) => {\n          var messages = comm.messages[Symbol.asyncIterator]();\n          function processIteratorResult(result) {\n            var message = result.value;\n            console.log(message)\n            var content = {data: message.data, comm_id};\n            var buffers = []\n            for (var buffer of message.buffers || []) {\n              buffers.push(new DataView(buffer))\n            }\n            var metadata = message.metadata || {};\n            var msg = {content, buffers, metadata}\n            msg_handler(msg);\n            return messages.next().then(processIteratorResult);\n          }\n          return messages.next().then(processIteratorResult);\n        })\n      }\n    }\n\n    JupyterCommManager.prototype.get_client_comm = function(plot_id, comm_id, msg_handler) {\n      if (comm_id in window.PyViz.comms) {\n        return window.PyViz.comms[comm_id];\n      } else if (window.comm_manager || ((window.Jupyter !== undefined) && (Jupyter.notebook.kernel != null))) {\n        var comm_manager = window.comm_manager || Jupyter.notebook.kernel.comm_manager;\n        var comm = comm_manager.new_comm(comm_id, {}, {}, {}, comm_id);\n        if (msg_handler) {\n          comm.on_msg(msg_handler);\n        }\n      } else if ((plot_id in window.PyViz.kernels) && (window.PyViz.kernels[plot_id])) {\n        var comm = window.PyViz.kernels[plot_id].connectToComm(comm_id);\n        comm.open();\n        if (msg_handler) {\n          comm.onMsg = msg_handler;\n        }\n      } else if (typeof google != 'undefined' && google.colab.kernel != null) {\n        var comm_promise = google.colab.kernel.comms.open(comm_id)\n        comm_promise.then((comm) => {\n          window.PyViz.comms[comm_id] = comm;\n          if (msg_handler) {\n            var messages = comm.messages[Symbol.asyncIterator]();\n            function processIteratorResult(result) {\n              var message = result.value;\n              var content = {data: message.data};\n              var metadata = message.metadata || {comm_id};\n              var msg = {content, metadata}\n              msg_handler(msg);\n              return messages.next().then(processIteratorResult);\n            }\n            return messages.next().then(processIteratorResult);\n          }\n        })\n        var sendClosure = (data, metadata, buffers, disposeOnDone) => {\n          return comm_promise.then((comm) => {\n            comm.send(data, metadata, buffers, disposeOnDone);\n          });\n        };\n        var comm = {\n          send: sendClosure\n        };\n      }\n      window.PyViz.comms[comm_id] = comm;\n      return comm;\n    }\n    window.PyViz.comm_manager = new JupyterCommManager();\n    \n\n\nvar JS_MIME_TYPE = 'application/javascript';\nvar HTML_MIME_TYPE = 'text/html';\nvar EXEC_MIME_TYPE = 'application/vnd.holoviews_exec.v0+json';\nvar CLASS_NAME = 'output';\n\n/**\n * Render data to the DOM node\n */\nfunction render(props, node) {\n  var div = document.createElement(\"div\");\n  var script = document.createElement(\"script\");\n  node.appendChild(div);\n  node.appendChild(script);\n}\n\n/**\n * Handle when a new output is added\n */\nfunction handle_add_output(event, handle) {\n  var output_area = handle.output_area;\n  var output = handle.output;\n  if ((output.data == undefined) || (!output.data.hasOwnProperty(EXEC_MIME_TYPE))) {\n    return\n  }\n  var id = output.metadata[EXEC_MIME_TYPE][\"id\"];\n  var toinsert = output_area.element.find(\".\" + CLASS_NAME.split(' ')[0]);\n  if (id !== undefined) {\n    var nchildren = toinsert.length;\n    var html_node = toinsert[nchildren-1].children[0];\n    html_node.innerHTML = output.data[HTML_MIME_TYPE];\n    var scripts = [];\n    var nodelist = html_node.querySelectorAll(\"script\");\n    for (var i in nodelist) {\n      if (nodelist.hasOwnProperty(i)) {\n        scripts.push(nodelist[i])\n      }\n    }\n\n    scripts.forEach( function (oldScript) {\n      var newScript = document.createElement(\"script\");\n      var attrs = [];\n      var nodemap = oldScript.attributes;\n      for (var j in nodemap) {\n        if (nodemap.hasOwnProperty(j)) {\n          attrs.push(nodemap[j])\n        }\n      }\n      attrs.forEach(function(attr) { newScript.setAttribute(attr.name, attr.value) });\n      newScript.appendChild(document.createTextNode(oldScript.innerHTML));\n      oldScript.parentNode.replaceChild(newScript, oldScript);\n    });\n    if (JS_MIME_TYPE in output.data) {\n      toinsert[nchildren-1].children[1].textContent = output.data[JS_MIME_TYPE];\n    }\n    output_area._hv_plot_id = id;\n    if ((window.Bokeh !== undefined) && (id in Bokeh.index)) {\n      window.PyViz.plot_index[id] = Bokeh.index[id];\n    } else {\n      window.PyViz.plot_index[id] = null;\n    }\n  } else if (output.metadata[EXEC_MIME_TYPE][\"server_id\"] !== undefined) {\n    var bk_div = document.createElement(\"div\");\n    bk_div.innerHTML = output.data[HTML_MIME_TYPE];\n    var script_attrs = bk_div.children[0].attributes;\n    for (var i = 0; i < script_attrs.length; i++) {\n      toinsert[toinsert.length - 1].childNodes[1].setAttribute(script_attrs[i].name, script_attrs[i].value);\n    }\n    // store reference to server id on output_area\n    output_area._bokeh_server_id = output.metadata[EXEC_MIME_TYPE][\"server_id\"];\n  }\n}\n\n/**\n * Handle when an output is cleared or removed\n */\nfunction handle_clear_output(event, handle) {\n  var id = handle.cell.output_area._hv_plot_id;\n  var server_id = handle.cell.output_area._bokeh_server_id;\n  if (((id === undefined) || !(id in PyViz.plot_index)) && (server_id !== undefined)) { return; }\n  var comm = window.PyViz.comm_manager.get_client_comm(\"hv-extension-comm\", \"hv-extension-comm\", function () {});\n  if (server_id !== null) {\n    comm.send({event_type: 'server_delete', 'id': server_id});\n    return;\n  } else if (comm !== null) {\n    comm.send({event_type: 'delete', 'id': id});\n  }\n  delete PyViz.plot_index[id];\n  if ((window.Bokeh !== undefined) & (id in window.Bokeh.index)) {\n    var doc = window.Bokeh.index[id].model.document\n    doc.clear();\n    const i = window.Bokeh.documents.indexOf(doc);\n    if (i > -1) {\n      window.Bokeh.documents.splice(i, 1);\n    }\n  }\n}\n\n/**\n * Handle kernel restart event\n */\nfunction handle_kernel_cleanup(event, handle) {\n  delete PyViz.comms[\"hv-extension-comm\"];\n  window.PyViz.plot_index = {}\n}\n\n/**\n * Handle update_display_data messages\n */\nfunction handle_update_output(event, handle) {\n  handle_clear_output(event, {cell: {output_area: handle.output_area}})\n  handle_add_output(event, handle)\n}\n\nfunction register_renderer(events, OutputArea) {\n  function append_mime(data, metadata, element) {\n    // create a DOM node to render to\n    var toinsert = this.create_output_subarea(\n    metadata,\n    CLASS_NAME,\n    EXEC_MIME_TYPE\n    );\n    this.keyboard_manager.register_events(toinsert);\n    // Render to node\n    var props = {data: data, metadata: metadata[EXEC_MIME_TYPE]};\n    render(props, toinsert[0]);\n    element.append(toinsert);\n    return toinsert\n  }\n\n  events.on('output_added.OutputArea', handle_add_output);\n  events.on('output_updated.OutputArea', handle_update_output);\n  events.on('clear_output.CodeCell', handle_clear_output);\n  events.on('delete.Cell', handle_clear_output);\n  events.on('kernel_ready.Kernel', handle_kernel_cleanup);\n\n  OutputArea.prototype.register_mime_type(EXEC_MIME_TYPE, append_mime, {\n    safe: true,\n    index: 0\n  });\n}\n\nif (window.Jupyter !== undefined) {\n  try {\n    var events = require('base/js/events');\n    var OutputArea = require('notebook/js/outputarea').OutputArea;\n    if (OutputArea.prototype.mime_types().indexOf(EXEC_MIME_TYPE) == -1) {\n      register_renderer(events, OutputArea);\n    }\n  } catch(err) {\n  }\n}\n",
      "application/vnd.holoviews_load.v0+json": ""
     },
     "metadata": {},
     "output_type": "display_data"
    },
    {
     "data": {
      "application/vnd.holoviews_exec.v0+json": "",
      "text/html": [
       "<div id='091b224d-9e6f-4c68-8b53-8a91192f1f56'>\n",
       "  <div id=\"a018c155-d28b-4437-8288-78fe97ebb2d6\" data-root-id=\"091b224d-9e6f-4c68-8b53-8a91192f1f56\" style=\"display: contents;\"></div>\n",
       "</div>\n",
       "<script type=\"application/javascript\">(function(root) {\n",
       "  var docs_json = {\"4c5d1569-a016-49cc-9135-07ae27210ddb\":{\"version\":\"3.7.2\",\"title\":\"Bokeh Application\",\"roots\":[{\"type\":\"object\",\"name\":\"panel.models.browser.BrowserInfo\",\"id\":\"091b224d-9e6f-4c68-8b53-8a91192f1f56\"},{\"type\":\"object\",\"name\":\"panel.models.comm_manager.CommManager\",\"id\":\"bda93316-e773-4281-8d70-8be7a4d594fb\",\"attributes\":{\"plot_id\":\"091b224d-9e6f-4c68-8b53-8a91192f1f56\",\"comm_id\":\"2ba05c5724c74c18b84e9ecec3b932a1\",\"client_comm_id\":\"1cd4ff0c52854d72acac88bc73c23f71\"}}],\"defs\":[{\"type\":\"model\",\"name\":\"ReactiveHTML1\"},{\"type\":\"model\",\"name\":\"FlexBox1\",\"properties\":[{\"name\":\"align_content\",\"kind\":\"Any\",\"default\":\"flex-start\"},{\"name\":\"align_items\",\"kind\":\"Any\",\"default\":\"flex-start\"},{\"name\":\"flex_direction\",\"kind\":\"Any\",\"default\":\"row\"},{\"name\":\"flex_wrap\",\"kind\":\"Any\",\"default\":\"wrap\"},{\"name\":\"gap\",\"kind\":\"Any\",\"default\":\"\"},{\"name\":\"justify_content\",\"kind\":\"Any\",\"default\":\"flex-start\"}]},{\"type\":\"model\",\"name\":\"FloatPanel1\",\"properties\":[{\"name\":\"config\",\"kind\":\"Any\",\"default\":{\"type\":\"map\"}},{\"name\":\"contained\",\"kind\":\"Any\",\"default\":true},{\"name\":\"position\",\"kind\":\"Any\",\"default\":\"right-top\"},{\"name\":\"offsetx\",\"kind\":\"Any\",\"default\":null},{\"name\":\"offsety\",\"kind\":\"Any\",\"default\":null},{\"name\":\"theme\",\"kind\":\"Any\",\"default\":\"primary\"},{\"name\":\"status\",\"kind\":\"Any\",\"default\":\"normalized\"}]},{\"type\":\"model\",\"name\":\"GridStack1\",\"properties\":[{\"name\":\"ncols\",\"kind\":\"Any\",\"default\":null},{\"name\":\"nrows\",\"kind\":\"Any\",\"default\":null},{\"name\":\"allow_resize\",\"kind\":\"Any\",\"default\":true},{\"name\":\"allow_drag\",\"kind\":\"Any\",\"default\":true},{\"name\":\"state\",\"kind\":\"Any\",\"default\":[]}]},{\"type\":\"model\",\"name\":\"drag1\",\"properties\":[{\"name\":\"slider_width\",\"kind\":\"Any\",\"default\":5},{\"name\":\"slider_color\",\"kind\":\"Any\",\"default\":\"black\"},{\"name\":\"value\",\"kind\":\"Any\",\"default\":50}]},{\"type\":\"model\",\"name\":\"click1\",\"properties\":[{\"name\":\"terminal_output\",\"kind\":\"Any\",\"default\":\"\"},{\"name\":\"debug_name\",\"kind\":\"Any\",\"default\":\"\"},{\"name\":\"clears\",\"kind\":\"Any\",\"default\":0}]},{\"type\":\"model\",\"name\":\"FastWrapper1\",\"properties\":[{\"name\":\"object\",\"kind\":\"Any\",\"default\":null},{\"name\":\"style\",\"kind\":\"Any\",\"default\":null}]},{\"type\":\"model\",\"name\":\"NotificationArea1\",\"properties\":[{\"name\":\"js_events\",\"kind\":\"Any\",\"default\":{\"type\":\"map\"}},{\"name\":\"max_notifications\",\"kind\":\"Any\",\"default\":5},{\"name\":\"notifications\",\"kind\":\"Any\",\"default\":[]},{\"name\":\"position\",\"kind\":\"Any\",\"default\":\"bottom-right\"},{\"name\":\"_clear\",\"kind\":\"Any\",\"default\":0},{\"name\":\"types\",\"kind\":\"Any\",\"default\":[{\"type\":\"map\",\"entries\":[[\"type\",\"warning\"],[\"background\",\"#ffc107\"],[\"icon\",{\"type\":\"map\",\"entries\":[[\"className\",\"fas fa-exclamation-triangle\"],[\"tagName\",\"i\"],[\"color\",\"white\"]]}]]},{\"type\":\"map\",\"entries\":[[\"type\",\"info\"],[\"background\",\"#007bff\"],[\"icon\",{\"type\":\"map\",\"entries\":[[\"className\",\"fas fa-info-circle\"],[\"tagName\",\"i\"],[\"color\",\"white\"]]}]]}]}]},{\"type\":\"model\",\"name\":\"Notification\",\"properties\":[{\"name\":\"background\",\"kind\":\"Any\",\"default\":null},{\"name\":\"duration\",\"kind\":\"Any\",\"default\":3000},{\"name\":\"icon\",\"kind\":\"Any\",\"default\":null},{\"name\":\"message\",\"kind\":\"Any\",\"default\":\"\"},{\"name\":\"notification_type\",\"kind\":\"Any\",\"default\":null},{\"name\":\"_rendered\",\"kind\":\"Any\",\"default\":false},{\"name\":\"_destroyed\",\"kind\":\"Any\",\"default\":false}]},{\"type\":\"model\",\"name\":\"TemplateActions1\",\"properties\":[{\"name\":\"open_modal\",\"kind\":\"Any\",\"default\":0},{\"name\":\"close_modal\",\"kind\":\"Any\",\"default\":0}]},{\"type\":\"model\",\"name\":\"BootstrapTemplateActions1\",\"properties\":[{\"name\":\"open_modal\",\"kind\":\"Any\",\"default\":0},{\"name\":\"close_modal\",\"kind\":\"Any\",\"default\":0}]},{\"type\":\"model\",\"name\":\"TemplateEditor1\",\"properties\":[{\"name\":\"layout\",\"kind\":\"Any\",\"default\":[]}]},{\"type\":\"model\",\"name\":\"MaterialTemplateActions1\",\"properties\":[{\"name\":\"open_modal\",\"kind\":\"Any\",\"default\":0},{\"name\":\"close_modal\",\"kind\":\"Any\",\"default\":0}]},{\"type\":\"model\",\"name\":\"ReactiveESM1\",\"properties\":[{\"name\":\"esm_constants\",\"kind\":\"Any\",\"default\":{\"type\":\"map\"}}]},{\"type\":\"model\",\"name\":\"JSComponent1\",\"properties\":[{\"name\":\"esm_constants\",\"kind\":\"Any\",\"default\":{\"type\":\"map\"}}]},{\"type\":\"model\",\"name\":\"ReactComponent1\",\"properties\":[{\"name\":\"esm_constants\",\"kind\":\"Any\",\"default\":{\"type\":\"map\"}}]},{\"type\":\"model\",\"name\":\"AnyWidgetComponent1\",\"properties\":[{\"name\":\"esm_constants\",\"kind\":\"Any\",\"default\":{\"type\":\"map\"}}]},{\"type\":\"model\",\"name\":\"request_value1\",\"properties\":[{\"name\":\"fill\",\"kind\":\"Any\",\"default\":\"none\"},{\"name\":\"_synced\",\"kind\":\"Any\",\"default\":null},{\"name\":\"_request_sync\",\"kind\":\"Any\",\"default\":0}]}]}};\n",
       "  var render_items = [{\"docid\":\"4c5d1569-a016-49cc-9135-07ae27210ddb\",\"roots\":{\"091b224d-9e6f-4c68-8b53-8a91192f1f56\":\"a018c155-d28b-4437-8288-78fe97ebb2d6\"},\"root_ids\":[\"091b224d-9e6f-4c68-8b53-8a91192f1f56\"]}];\n",
       "  var docs = Object.values(docs_json)\n",
       "  if (!docs) {\n",
       "    return\n",
       "  }\n",
       "  const py_version = docs[0].version.replace('rc', '-rc.').replace('.dev', '-dev.')\n",
       "  async function embed_document(root) {\n",
       "    var Bokeh = get_bokeh(root)\n",
       "    await Bokeh.embed.embed_items_notebook(docs_json, render_items);\n",
       "    for (const render_item of render_items) {\n",
       "      for (const root_id of render_item.root_ids) {\n",
       "\tconst id_el = document.getElementById(root_id)\n",
       "\tif (id_el.children.length && id_el.children[0].hasAttribute('data-root-id')) {\n",
       "\t  const root_el = id_el.children[0]\n",
       "\t  root_el.id = root_el.id + '-rendered'\n",
       "\t  for (const child of root_el.children) {\n",
       "            // Ensure JupyterLab does not capture keyboard shortcuts\n",
       "            // see: https://jupyterlab.readthedocs.io/en/4.1.x/extension/notebook.html#keyboard-interaction-model\n",
       "\t    child.setAttribute('data-lm-suppress-shortcuts', 'true')\n",
       "\t  }\n",
       "\t}\n",
       "      }\n",
       "    }\n",
       "  }\n",
       "  function get_bokeh(root) {\n",
       "    if (root.Bokeh === undefined) {\n",
       "      return null\n",
       "    } else if (root.Bokeh.version !== py_version) {\n",
       "      if (root.Bokeh.versions === undefined || !root.Bokeh.versions.has(py_version)) {\n",
       "\treturn null\n",
       "      }\n",
       "      return root.Bokeh.versions.get(py_version);\n",
       "    } else if (root.Bokeh.version === py_version) {\n",
       "      return root.Bokeh\n",
       "    }\n",
       "    return null\n",
       "  }\n",
       "  function is_loaded(root) {\n",
       "    var Bokeh = get_bokeh(root)\n",
       "    return (Bokeh != null && Bokeh.Panel !== undefined)\n",
       "  }\n",
       "  if (is_loaded(root)) {\n",
       "    embed_document(root);\n",
       "  } else {\n",
       "    var attempts = 0;\n",
       "    var timer = setInterval(function(root) {\n",
       "      if (is_loaded(root)) {\n",
       "        clearInterval(timer);\n",
       "        embed_document(root);\n",
       "      } else if (document.readyState == \"complete\") {\n",
       "        attempts++;\n",
       "        if (attempts > 200) {\n",
       "          clearInterval(timer);\n",
       "\t  var Bokeh = get_bokeh(root)\n",
       "\t  if (Bokeh == null || Bokeh.Panel == null) {\n",
       "            console.warn(\"Panel: ERROR: Unable to run Panel code because Bokeh or Panel library is missing\");\n",
       "\t  } else {\n",
       "\t    console.warn(\"Panel: WARNING: Attempting to render but not all required libraries could be resolved.\")\n",
       "\t    embed_document(root)\n",
       "\t  }\n",
       "        }\n",
       "      }\n",
       "    }, 25, root)\n",
       "  }\n",
       "})(window);</script>"
      ]
     },
     "metadata": {
      "application/vnd.holoviews_exec.v0+json": {
       "id": "091b224d-9e6f-4c68-8b53-8a91192f1f56"
      }
     },
     "output_type": "display_data"
    }
   ],
   "source": [
    "from bs4 import BeautifulSoup\n",
    "# import pandas as pd\n",
    "from datetime import datetime, timedelta\n",
    "from itertools import combinations\n",
    "import json\n",
    "import requests\n",
    "import math\n",
    "from typing import Optional, List, Dict\n",
    "import os\n",
    "\n",
    "from pydantic import BaseModel\n",
    "from typing import Mapping\n",
    "import numpy as np\n",
    "import polars as pl\n",
    "import hvplot.polars\n",
    "import pandas as pd\n",
    "import altair as alt\n",
    "import math\n",
    "\n",
    "from shared.utils import formalize_data_with_str\n",
    "from shared.random_rules import RandomRules"
   ]
  },
  {
   "cell_type": "code",
   "execution_count": 2,
   "metadata": {},
   "outputs": [],
   "source": [
    "rr = RandomRules(\n",
    "  TOTAL_NUMBERS = 40,\n",
    "  CHOOSE = 6,\n",
    "  MAX_PRIMES = 3,\n",
    "  N_VALUES=[\"1\", \"2\", \"3\"],\n",
    "  # Rangos de valores de las bolillas\n",
    "  MIN_B_VALUES = [1, 2, 3, 4, 5, 6],\n",
    "  MAX_B_VALUES = [35, 36, 37, 38, 39, 40]\n",
    ")\n"
   ]
  },
  {
   "cell_type": "code",
   "execution_count": 3,
   "metadata": {},
   "outputs": [],
   "source": [
    "url = 'https://resultados.latinka.com.pe/i.do?m=historico&t=0&s=42'\n",
    "response = requests.get(url)\n",
    "soup = BeautifulSoup(response.text, 'html.parser')\n",
    "\n",
    "tables = soup.select('table')\n",
    "rows = tables[1].find_all('tr')"
   ]
  },
  {
   "cell_type": "code",
   "execution_count": 4,
   "metadata": {},
   "outputs": [
    {
     "name": "stdout",
     "output_type": "stream",
     "text": [
      "TOTAL_LINES=5288\n"
     ]
    },
    {
     "data": {
      "text/html": [
       "<div><style>\n",
       ".dataframe > thead > tr,\n",
       ".dataframe > tbody > tr {\n",
       "  text-align: right;\n",
       "  white-space: pre-wrap;\n",
       "}\n",
       "</style>\n",
       "<small>shape: (10, 30)</small><table border=\"1\" class=\"dataframe\"><thead><tr><th>fecha</th><th>sorteo</th><th>bolillas regulares</th><th>bolillas chauchamba</th><th>cc1</th><th>cc2</th><th>id</th><th>combo</th><th>b1</th><th>b2</th><th>b3</th><th>b4</th><th>b5</th><th>b6</th><th>str_b1</th><th>str_b2</th><th>str_b3</th><th>str_b4</th><th>str_b5</th><th>str_b6</th><th>post_str_b1</th><th>post_str_b2</th><th>post_str_b3</th><th>post_str_b4</th><th>post_str_b5</th><th>post_str_blast</th><th>is_rare_combination</th><th>reason</th><th>jumps_map</th><th>unijump</th></tr><tr><td>str</td><td>str</td><td>str</td><td>str</td><td>str</td><td>str</td><td>str</td><td>array[u8, 6]</td><td>u8</td><td>u8</td><td>u8</td><td>u8</td><td>u8</td><td>u8</td><td>str</td><td>str</td><td>str</td><td>str</td><td>str</td><td>str</td><td>str</td><td>str</td><td>str</td><td>str</td><td>str</td><td>str</td><td>bool</td><td>u8</td><td>str</td><td>i64</td></tr></thead><tbody><tr><td>&quot;26/04/2025&quot;</td><td>&quot;1800&quot;</td><td>&quot;20 35 03 19 09 29&quot;</td><td>&quot;09 17 29 39 31 34&quot;</td><td>&quot;&quot;</td><td>&quot;&quot;</td><td>&quot;030919202935&quot;</td><td>[3, 9, … 35]</td><td>3</td><td>9</td><td>19</td><td>20</td><td>29</td><td>35</td><td>&quot;03&quot;</td><td>&quot;09&quot;</td><td>&quot;19&quot;</td><td>&quot;20&quot;</td><td>&quot;29&quot;</td><td>&quot;35&quot;</td><td>null</td><td>null</td><td>null</td><td>null</td><td>null</td><td>null</td><td>false</td><td>0</td><td>&quot;06_10_01_09_06&quot;</td><td>-58</td></tr><tr><td>&quot;26/04/2025&quot;</td><td>&quot;1800&quot;</td><td>&quot;20 35 03 19 09 29&quot;</td><td>&quot;09 17 29 39 31 34&quot;</td><td>&quot;&quot;</td><td>&quot;&quot;</td><td>&quot;030919202935&quot;</td><td>[3, 9, … 35]</td><td>3</td><td>9</td><td>19</td><td>20</td><td>29</td><td>35</td><td>&quot;03&quot;</td><td>&quot;09&quot;</td><td>&quot;19&quot;</td><td>&quot;20&quot;</td><td>&quot;29&quot;</td><td>&quot;35&quot;</td><td>&quot;03&quot;</td><td>&quot;09&quot;</td><td>&quot;19&quot;</td><td>&quot;20&quot;</td><td>&quot;29&quot;</td><td>&quot;35&quot;</td><td>false</td><td>0</td><td>&quot;06_10_01_09_06&quot;</td><td>-58</td></tr><tr><td>&quot;24/04/2025&quot;</td><td>&quot;1799&quot;</td><td>&quot;16 14 17 34 30 40&quot;</td><td>&quot;33 17 18 39 03 09&quot;</td><td>&quot;&quot;</td><td>&quot;&quot;</td><td>&quot;141617303440&quot;</td><td>[14, 16, … 40]</td><td>14</td><td>16</td><td>17</td><td>30</td><td>34</td><td>40</td><td>&quot;14&quot;</td><td>&quot;16&quot;</td><td>&quot;17&quot;</td><td>&quot;30&quot;</td><td>&quot;34&quot;</td><td>&quot;40&quot;</td><td>&quot;03&quot;</td><td>&quot;09&quot;</td><td>&quot;19&quot;</td><td>&quot;20&quot;</td><td>&quot;29&quot;</td><td>&quot;35&quot;</td><td>true</td><td>16</td><td>&quot;02_01_13_04_06&quot;</td><td>66</td></tr><tr><td>&quot;24/04/2025&quot;</td><td>&quot;1799&quot;</td><td>&quot;16 14 17 34 30 40&quot;</td><td>&quot;33 17 18 39 03 09&quot;</td><td>&quot;&quot;</td><td>&quot;&quot;</td><td>&quot;141617303440&quot;</td><td>[14, 16, … 40]</td><td>14</td><td>16</td><td>17</td><td>30</td><td>34</td><td>40</td><td>&quot;14&quot;</td><td>&quot;16&quot;</td><td>&quot;17&quot;</td><td>&quot;30&quot;</td><td>&quot;34&quot;</td><td>&quot;40&quot;</td><td>&quot;14&quot;</td><td>&quot;16&quot;</td><td>&quot;17&quot;</td><td>&quot;30&quot;</td><td>&quot;34&quot;</td><td>&quot;40&quot;</td><td>true</td><td>16</td><td>&quot;02_01_13_04_06&quot;</td><td>66</td></tr><tr><td>&quot;22/04/2025&quot;</td><td>&quot;1798&quot;</td><td>&quot;33 18 12 13 27 24&quot;</td><td>&quot;17 40 34 23 18 32&quot;</td><td>&quot;&quot;</td><td>&quot;&quot;</td><td>&quot;121318242733&quot;</td><td>[12, 13, … 33]</td><td>12</td><td>13</td><td>18</td><td>24</td><td>27</td><td>33</td><td>&quot;12&quot;</td><td>&quot;13&quot;</td><td>&quot;18&quot;</td><td>&quot;24&quot;</td><td>&quot;27&quot;</td><td>&quot;33&quot;</td><td>&quot;14&quot;</td><td>&quot;16&quot;</td><td>&quot;17&quot;</td><td>&quot;30&quot;</td><td>&quot;34&quot;</td><td>&quot;40&quot;</td><td>false</td><td>0</td><td>&quot;01_05_06_03_06&quot;</td><td>11</td></tr><tr><td>&quot;22/04/2025&quot;</td><td>&quot;1798&quot;</td><td>&quot;33 18 12 13 27 24&quot;</td><td>&quot;17 40 34 23 18 32&quot;</td><td>&quot;&quot;</td><td>&quot;&quot;</td><td>&quot;121318242733&quot;</td><td>[12, 13, … 33]</td><td>12</td><td>13</td><td>18</td><td>24</td><td>27</td><td>33</td><td>&quot;12&quot;</td><td>&quot;13&quot;</td><td>&quot;18&quot;</td><td>&quot;24&quot;</td><td>&quot;27&quot;</td><td>&quot;33&quot;</td><td>&quot;12&quot;</td><td>&quot;13&quot;</td><td>&quot;18&quot;</td><td>&quot;24&quot;</td><td>&quot;27&quot;</td><td>&quot;33&quot;</td><td>false</td><td>0</td><td>&quot;01_05_06_03_06&quot;</td><td>11</td></tr><tr><td>&quot;19/04/2025&quot;</td><td>&quot;1797&quot;</td><td>&quot;40 34 04 03 01 22&quot;</td><td>&quot;06 02 22 09 04 21&quot;</td><td>&quot;&quot;</td><td>&quot;&quot;</td><td>&quot;010304223440&quot;</td><td>[1, 3, … 40]</td><td>1</td><td>3</td><td>4</td><td>22</td><td>34</td><td>40</td><td>&quot;01&quot;</td><td>&quot;03&quot;</td><td>&quot;04&quot;</td><td>&quot;22&quot;</td><td>&quot;34&quot;</td><td>&quot;40&quot;</td><td>&quot;12&quot;</td><td>&quot;13&quot;</td><td>&quot;18&quot;</td><td>&quot;24&quot;</td><td>&quot;27&quot;</td><td>&quot;33&quot;</td><td>false</td><td>0</td><td>&quot;02_01_18_12_06&quot;</td><td>64</td></tr><tr><td>&quot;19/04/2025&quot;</td><td>&quot;1797&quot;</td><td>&quot;40 34 04 03 01 22&quot;</td><td>&quot;06 02 22 09 04 21&quot;</td><td>&quot;&quot;</td><td>&quot;&quot;</td><td>&quot;010304223440&quot;</td><td>[1, 3, … 40]</td><td>1</td><td>3</td><td>4</td><td>22</td><td>34</td><td>40</td><td>&quot;01&quot;</td><td>&quot;03&quot;</td><td>&quot;04&quot;</td><td>&quot;22&quot;</td><td>&quot;34&quot;</td><td>&quot;40&quot;</td><td>&quot;01&quot;</td><td>&quot;03&quot;</td><td>&quot;04&quot;</td><td>&quot;22&quot;</td><td>&quot;34&quot;</td><td>&quot;40&quot;</td><td>false</td><td>0</td><td>&quot;02_01_18_12_06&quot;</td><td>64</td></tr><tr><td>&quot;17/04/2025&quot;</td><td>&quot;1796&quot;</td><td>&quot;12 06 38 15 37 02&quot;</td><td>&quot;21 11 28 24 32 20&quot;</td><td>&quot;&quot;</td><td>&quot;&quot;</td><td>&quot;020612153738&quot;</td><td>[2, 6, … 38]</td><td>2</td><td>6</td><td>12</td><td>15</td><td>37</td><td>38</td><td>&quot;02&quot;</td><td>&quot;06&quot;</td><td>&quot;12&quot;</td><td>&quot;15&quot;</td><td>&quot;37&quot;</td><td>&quot;38&quot;</td><td>&quot;01&quot;</td><td>&quot;03&quot;</td><td>&quot;04&quot;</td><td>&quot;22&quot;</td><td>&quot;34&quot;</td><td>&quot;40&quot;</td><td>false</td><td>0</td><td>&quot;04_06_03_22_01&quot;</td><td>-89</td></tr><tr><td>&quot;17/04/2025&quot;</td><td>&quot;1796&quot;</td><td>&quot;12 06 38 15 37 02&quot;</td><td>&quot;21 11 28 24 32 20&quot;</td><td>&quot;&quot;</td><td>&quot;&quot;</td><td>&quot;020612153738&quot;</td><td>[2, 6, … 38]</td><td>2</td><td>6</td><td>12</td><td>15</td><td>37</td><td>38</td><td>&quot;02&quot;</td><td>&quot;06&quot;</td><td>&quot;12&quot;</td><td>&quot;15&quot;</td><td>&quot;37&quot;</td><td>&quot;38&quot;</td><td>&quot;02&quot;</td><td>&quot;06&quot;</td><td>&quot;12&quot;</td><td>&quot;15&quot;</td><td>&quot;37&quot;</td><td>&quot;38&quot;</td><td>false</td><td>0</td><td>&quot;04_06_03_22_01&quot;</td><td>-89</td></tr></tbody></table></div>"
      ],
      "text/plain": [
       "shape: (10, 30)\n",
       "┌────────────┬────────┬─────────────┬─────────────┬───┬────────────┬────────┬────────────┬─────────┐\n",
       "│ fecha      ┆ sorteo ┆ bolillas    ┆ bolillas    ┆ … ┆ is_rare_co ┆ reason ┆ jumps_map  ┆ unijump │\n",
       "│ ---        ┆ ---    ┆ regulares   ┆ chauchamba  ┆   ┆ mbination  ┆ ---    ┆ ---        ┆ ---     │\n",
       "│ str        ┆ str    ┆ ---         ┆ ---         ┆   ┆ ---        ┆ u8     ┆ str        ┆ i64     │\n",
       "│            ┆        ┆ str         ┆ str         ┆   ┆ bool       ┆        ┆            ┆         │\n",
       "╞════════════╪════════╪═════════════╪═════════════╪═══╪════════════╪════════╪════════════╪═════════╡\n",
       "│ 26/04/2025 ┆ 1800   ┆ 20 35 03 19 ┆ 09 17 29 39 ┆ … ┆ false      ┆ 0      ┆ 06_10_01_0 ┆ -58     │\n",
       "│            ┆        ┆ 09 29       ┆ 31 34       ┆   ┆            ┆        ┆ 9_06       ┆         │\n",
       "│ 26/04/2025 ┆ 1800   ┆ 20 35 03 19 ┆ 09 17 29 39 ┆ … ┆ false      ┆ 0      ┆ 06_10_01_0 ┆ -58     │\n",
       "│            ┆        ┆ 09 29       ┆ 31 34       ┆   ┆            ┆        ┆ 9_06       ┆         │\n",
       "│ 24/04/2025 ┆ 1799   ┆ 16 14 17 34 ┆ 33 17 18 39 ┆ … ┆ true       ┆ 16     ┆ 02_01_13_0 ┆ 66      │\n",
       "│            ┆        ┆ 30 40       ┆ 03 09       ┆   ┆            ┆        ┆ 4_06       ┆         │\n",
       "│ 24/04/2025 ┆ 1799   ┆ 16 14 17 34 ┆ 33 17 18 39 ┆ … ┆ true       ┆ 16     ┆ 02_01_13_0 ┆ 66      │\n",
       "│            ┆        ┆ 30 40       ┆ 03 09       ┆   ┆            ┆        ┆ 4_06       ┆         │\n",
       "│ 22/04/2025 ┆ 1798   ┆ 33 18 12 13 ┆ 17 40 34 23 ┆ … ┆ false      ┆ 0      ┆ 01_05_06_0 ┆ 11      │\n",
       "│            ┆        ┆ 27 24       ┆ 18 32       ┆   ┆            ┆        ┆ 3_06       ┆         │\n",
       "│ 22/04/2025 ┆ 1798   ┆ 33 18 12 13 ┆ 17 40 34 23 ┆ … ┆ false      ┆ 0      ┆ 01_05_06_0 ┆ 11      │\n",
       "│            ┆        ┆ 27 24       ┆ 18 32       ┆   ┆            ┆        ┆ 3_06       ┆         │\n",
       "│ 19/04/2025 ┆ 1797   ┆ 40 34 04 03 ┆ 06 02 22 09 ┆ … ┆ false      ┆ 0      ┆ 02_01_18_1 ┆ 64      │\n",
       "│            ┆        ┆ 01 22       ┆ 04 21       ┆   ┆            ┆        ┆ 2_06       ┆         │\n",
       "│ 19/04/2025 ┆ 1797   ┆ 40 34 04 03 ┆ 06 02 22 09 ┆ … ┆ false      ┆ 0      ┆ 02_01_18_1 ┆ 64      │\n",
       "│            ┆        ┆ 01 22       ┆ 04 21       ┆   ┆            ┆        ┆ 2_06       ┆         │\n",
       "│ 17/04/2025 ┆ 1796   ┆ 12 06 38 15 ┆ 21 11 28 24 ┆ … ┆ false      ┆ 0      ┆ 04_06_03_2 ┆ -89     │\n",
       "│            ┆        ┆ 37 02       ┆ 32 20       ┆   ┆            ┆        ┆ 2_01       ┆         │\n",
       "│ 17/04/2025 ┆ 1796   ┆ 12 06 38 15 ┆ 21 11 28 24 ┆ … ┆ false      ┆ 0      ┆ 04_06_03_2 ┆ -89     │\n",
       "│            ┆        ┆ 37 02       ┆ 32 20       ┆   ┆            ┆        ┆ 2_01       ┆         │\n",
       "└────────────┴────────┴─────────────┴─────────────┴───┴────────────┴────────┴────────────┴─────────┘"
      ]
     },
     "metadata": {},
     "output_type": "display_data"
    }
   ],
   "source": [
    "lst = []\n",
    "post_str_b1 = None\n",
    "post_str_b2 = None\n",
    "post_str_b3 = None\n",
    "post_str_b4 = None\n",
    "post_str_b5 = None\n",
    "post_str_blast = None\n",
    "for row in rows:\n",
    "  for col_index in [2, 3]:\n",
    "    cols = [data.text.strip() for data in row.find_all('td')]\n",
    "    if (cols[col_index] == ''):\n",
    "      continue\n",
    "\n",
    "    # cols = [data.text.strip() for data in row.find_all('td')]\n",
    "    \n",
    "    id, bolillas_int, str_combo = formalize_data_with_str(bolillas_str=cols[2])\n",
    "    cols.append(id)\n",
    "    cols.append(bolillas_int)\n",
    "    cols.extend([b for b in bolillas_int])\n",
    "    cols.extend(str_combo)\n",
    "    cols.append(post_str_b1)\n",
    "    cols.append(post_str_b2)\n",
    "    cols.append(post_str_b3)\n",
    "    cols.append(post_str_b4)\n",
    "    cols.append(post_str_b5)\n",
    "    cols.append(post_str_blast)\n",
    "\n",
    "    is_rare, reason = rr.is_rare_combination(bolillas_int, id)\n",
    "    cols.append(is_rare)\n",
    "    cols.append(reason)\n",
    "\n",
    "    cols.append(rr.jumps_map(bolillas_int))\n",
    "    cols.append(rr.unijump(bolillas_int))\n",
    "    \n",
    "    lst.append(cols)\n",
    "\n",
    "    post_str_b1 = str_combo[0]\n",
    "    post_str_b2 = str_combo[1]\n",
    "    post_str_b3 = str_combo[2]\n",
    "    post_str_b4 = str_combo[3]\n",
    "    post_str_b5 = str_combo[4]\n",
    "    post_str_blast = str_combo[-1]\n",
    "\n",
    "\n",
    "\n",
    "# lst = []\n",
    "# for row in rows:\n",
    "  \n",
    "  \n",
    "#   for col_index in [2, 3]:\n",
    "#     cols = [data.text.strip() for data in row.find_all('td')]\n",
    "#     if (cols[col_index] == ''):\n",
    "#       continue\n",
    "  \n",
    "#     id, bolillas_int = formalize_data(bolillas_str=cols[col_index])\n",
    "#     cols.append(id)\n",
    "#     cols.append(bolillas_int)\n",
    "#     cols.extend([b for b in bolillas_int])\n",
    "    \n",
    "#     is_rare, reason = rr.is_rare_combination(bolillas_int, id)\n",
    "#     cols.append(is_rare)\n",
    "#     cols.append(reason)\n",
    "#     left_scores = [round(b, 4) for b in rr.calculate_left_scores(bolillas_int)]\n",
    "\n",
    "#     right_scores = [round(b, 4) for b in rr.calculate_right_scores(bolillas_int)]\n",
    "#     lr_scores = [round(left + right,4) for left, right in zip(left_scores, right_scores)]\n",
    "#     row_score = round(sum(lr_scores),4)\n",
    "\n",
    "#     shared_values = list(set(left_scores[0:5]) & set(right_scores[1:6]))\n",
    "#     shared_values = [round(s, 4) for s in shared_values]\n",
    "#     cols.extend([score for score in left_scores])\n",
    "#     cols.extend([score for score in right_scores])\n",
    "#     # cols.extend(lr_scores)\n",
    "#     cols.append(shared_values)\n",
    "#     cols.append(len(shared_values))\n",
    "#     cols.append(row_score)\n",
    "#     cols.append(rr.jumps_map(bolillas_int))\n",
    "#     cols.append(rr.unijump(bolillas_int))\n",
    "    \n",
    "#     lst.append(cols)\n",
    "\n",
    "with open('./kbl_cache_v3.json', 'w') as file: \n",
    "  json.dump(lst, file)\n",
    "\n",
    "dfRows = pl.DataFrame(\n",
    "  lst,\n",
    "  schema=[\n",
    "    'fecha', 'sorteo', 'bolillas regulares', 'bolillas chauchamba', 'cc1', 'cc2',\n",
    "    'id', 'combo', 'b1', 'b2', 'b3', 'b4', 'b5', 'b6',\n",
    "    'str_b1', 'str_b2', 'str_b3', 'str_b4', 'str_b5', 'str_b6',\n",
    "    'post_str_b1', 'post_str_b2', 'post_str_b3', 'post_str_b4', 'post_str_b5', 'post_str_blast',\n",
    "    'is_rare_combination', 'reason',\n",
    "    \"jumps_map\", \"unijump\"\n",
    "  ],\n",
    "  schema_overrides={\n",
    "    'combo': pl.Array(pl.UInt8, 6),\n",
    "    'b1': pl.UInt8,\n",
    "    'b2': pl.UInt8,\n",
    "    'b3': pl.UInt8,\n",
    "    'b4': pl.UInt8,\n",
    "    'b5': pl.UInt8,\n",
    "    'b6': pl.UInt8,\n",
    "    'reason': pl.UInt8\n",
    "  },\n",
    "  orient='row'\n",
    ")\n",
    "\n",
    "TOTAL_LINES = len(dfRows)\n",
    "print(f'{TOTAL_LINES=}')\n",
    "display(dfRows.head(10))"
   ]
  },
  {
   "cell_type": "code",
   "execution_count": 5,
   "metadata": {},
   "outputs": [
    {
     "data": {
      "text/plain": [
       "9"
      ]
     },
     "execution_count": 5,
     "metadata": {},
     "output_type": "execute_result"
    }
   ],
   "source": [
    "dfRows.item(0, 'b2')"
   ]
  },
  {
   "cell_type": "code",
   "execution_count": 6,
   "metadata": {},
   "outputs": [],
   "source": [
    "import holoviews as hv\n",
    "def plot_post_col (col: str, post_col: str, test_value: str | None = None):\n",
    "  if test_value == None:\n",
    "    test_value = dfRows.item(0, col)\n",
    "    print(f'Setting {test_value=}')\n",
    "\n",
    "  df_viz = dfRows \\\n",
    "    .filter(\n",
    "      pl.col(col) == test_value,\n",
    "      pl.col(post_col).is_not_null()\n",
    "    ) \\\n",
    "    .group_by(\n",
    "      post_col\n",
    "    ).agg(pl.count(post_col).alias('count')) \\\n",
    "    .sort(\"count\", descending=True)\n",
    "  \n",
    "  \n",
    "  df_10_last = dfRows \\\n",
    "    .filter(\n",
    "      pl.col(col) == test_value,\n",
    "      pl.col(post_col).is_not_null()\n",
    "    ) \\\n",
    "    .head(10)\n",
    "  \n",
    "  # Agrega una columna que sea el porcentaje de la frecuencia relativa\n",
    "  total = df_viz['count'].sum()\n",
    "  df_viz = df_viz.with_columns(\n",
    "    ( (pl.col('count') / total) * 100 ).alias('percent')\n",
    "  )\n",
    "  mean_percent = df_viz['percent'].mean()\n",
    "  mean_percent_75 = mean_percent * 75 / 50\n",
    "  mean_percent_25 = mean_percent * 25 / 50\n",
    "\n",
    "  chart = df_viz.hvplot.bar(\n",
    "    x=post_col,\n",
    "    y='percent'\n",
    "  )\n",
    "\n",
    "  chart = chart * hv.HLine(mean_percent).opts(color='red')\n",
    "  chart = chart * hv.HLine(mean_percent_75).opts(color='blue')\n",
    "  chart = chart * hv.HLine(mean_percent_25).opts(color='blue')\n",
    "  \n",
    "  chart.opts(default_tools=[\"pan\"])\n",
    "\n",
    "  df_jumps_map = dfRows \\\n",
    "    .filter(\n",
    "      pl.col(col) == test_value,\n",
    "      pl.col(post_col).is_not_null()\n",
    "    ) \\\n",
    "    .group_by(\n",
    "      'jumps_map'\n",
    "    ).agg(pl.count('jumps_map').alias('count')) \\\n",
    "    .sort(\"count\", descending=True)\n",
    "  \n",
    "  df_unijump = dfRows \\\n",
    "    .filter(\n",
    "      pl.col(col) == test_value,\n",
    "      pl.col(post_col).is_not_null()\n",
    "    ) \\\n",
    "    .group_by(\n",
    "      'unijump'\n",
    "    ).agg(pl.count('unijump').alias('count')) \\\n",
    "    .sort(\"count\", descending=True)\n",
    "\n",
    "\n",
    "  print(f'df_viz FOR {col} = {test_value}')\n",
    "  display(df_viz)\n",
    "\n",
    "  display(chart)\n",
    "  \n",
    "\n",
    "  print(f'df_10_last FOR {col} = {test_value}')\n",
    "  last_results = list(set(df_10_last[post_col][0:3]))\n",
    "  print(f'Last 3 results {last_results=}')\n",
    "  display(df_10_last)\n",
    "  \n",
    "  print(f'df_jumps_map FOR {col} = {test_value}')\n",
    "  display(df_jumps_map)\n",
    "  # display(df_unijump)\n",
    "\n",
    "  print(f'df_unijump FOR {col} = {test_value}')\n",
    "  display(df_unijump)\n",
    "\n",
    "  lst_post_str_b = df_viz.filter(pl.col('percent') >= mean_percent)[post_col].to_list()\n",
    "  lst_jumps_map = df_jumps_map['jumps_map'].to_list() # Used to discard\n",
    "  \n",
    "  return lst_post_str_b, lst_jumps_map, last_results"
   ]
  },
  {
   "cell_type": "code",
   "execution_count": 7,
   "metadata": {},
   "outputs": [
    {
     "name": "stdout",
     "output_type": "stream",
     "text": [
      "Setting test_value='03'\n",
      "df_viz FOR str_b1 = 03\n"
     ]
    },
    {
     "data": {
      "text/html": [
       "<div><style>\n",
       ".dataframe > thead > tr,\n",
       ".dataframe > tbody > tr {\n",
       "  text-align: right;\n",
       "  white-space: pre-wrap;\n",
       "}\n",
       "</style>\n",
       "<small>shape: (24, 3)</small><table border=\"1\" class=\"dataframe\"><thead><tr><th>post_str_b1</th><th>count</th><th>percent</th></tr><tr><td>str</td><td>u32</td><td>f64</td></tr></thead><tbody><tr><td>&quot;03&quot;</td><td>267</td><td>40.271493</td></tr><tr><td>&quot;02&quot;</td><td>69</td><td>10.40724</td></tr><tr><td>&quot;01&quot;</td><td>60</td><td>9.049774</td></tr><tr><td>&quot;05&quot;</td><td>46</td><td>6.93816</td></tr><tr><td>&quot;04&quot;</td><td>40</td><td>6.033183</td></tr><tr><td>&hellip;</td><td>&hellip;</td><td>&hellip;</td></tr><tr><td>&quot;20&quot;</td><td>2</td><td>0.301659</td></tr><tr><td>&quot;16&quot;</td><td>2</td><td>0.301659</td></tr><tr><td>&quot;21&quot;</td><td>1</td><td>0.15083</td></tr><tr><td>&quot;23&quot;</td><td>1</td><td>0.15083</td></tr><tr><td>&quot;26&quot;</td><td>1</td><td>0.15083</td></tr></tbody></table></div>"
      ],
      "text/plain": [
       "shape: (24, 3)\n",
       "┌─────────────┬───────┬───────────┐\n",
       "│ post_str_b1 ┆ count ┆ percent   │\n",
       "│ ---         ┆ ---   ┆ ---       │\n",
       "│ str         ┆ u32   ┆ f64       │\n",
       "╞═════════════╪═══════╪═══════════╡\n",
       "│ 03          ┆ 267   ┆ 40.271493 │\n",
       "│ 02          ┆ 69    ┆ 10.40724  │\n",
       "│ 01          ┆ 60    ┆ 9.049774  │\n",
       "│ 05          ┆ 46    ┆ 6.93816   │\n",
       "│ 04          ┆ 40    ┆ 6.033183  │\n",
       "│ …           ┆ …     ┆ …         │\n",
       "│ 20          ┆ 2     ┆ 0.301659  │\n",
       "│ 16          ┆ 2     ┆ 0.301659  │\n",
       "│ 21          ┆ 1     ┆ 0.15083   │\n",
       "│ 23          ┆ 1     ┆ 0.15083   │\n",
       "│ 26          ┆ 1     ┆ 0.15083   │\n",
       "└─────────────┴───────┴───────────┘"
      ]
     },
     "metadata": {},
     "output_type": "display_data"
    },
    {
     "data": {},
     "metadata": {},
     "output_type": "display_data"
    },
    {
     "data": {
      "application/vnd.holoviews_exec.v0+json": "",
      "text/html": [
       "<div id='efa6074e-6d7a-4b58-8f06-a86fee1f642e'>\n",
       "  <div id=\"aa17917d-ebce-4b3f-89b3-d2a1e4eb9f45\" data-root-id=\"efa6074e-6d7a-4b58-8f06-a86fee1f642e\" style=\"display: contents;\"></div>\n",
       "</div>\n",
       "<script type=\"application/javascript\">(function(root) {\n",
       "  var docs_json = {\"9420562d-cd30-41f2-a3e1-c1d7f0d175fd\":{\"version\":\"3.7.2\",\"title\":\"Bokeh Application\",\"roots\":[{\"type\":\"object\",\"name\":\"Row\",\"id\":\"efa6074e-6d7a-4b58-8f06-a86fee1f642e\",\"attributes\":{\"name\":\"Row00286\",\"tags\":[\"embedded\"],\"stylesheets\":[\"\\n:host(.pn-loading):before, .pn-loading:before {\\n  background-color: #c3c3c3;\\n  mask-size: auto calc(min(50%, 400px));\\n  -webkit-mask-size: auto calc(min(50%, 400px));\\n}\",{\"type\":\"object\",\"name\":\"ImportedStyleSheet\",\"id\":\"3a71fda9-f64d-42c7-8f8a-565d211c4191\",\"attributes\":{\"url\":\"https://cdn.holoviz.org/panel/1.6.2/dist/css/loading.css\"}},{\"type\":\"object\",\"name\":\"ImportedStyleSheet\",\"id\":\"9ca7dcec-0e0a-4a43-85ae-71e96bf9549a\",\"attributes\":{\"url\":\"https://cdn.holoviz.org/panel/1.6.2/dist/css/listpanel.css\"}},{\"type\":\"object\",\"name\":\"ImportedStyleSheet\",\"id\":\"1cad2ee4-279e-40eb-9771-7de61627896e\",\"attributes\":{\"url\":\"https://cdn.holoviz.org/panel/1.6.2/dist/bundled/theme/default.css\"}},{\"type\":\"object\",\"name\":\"ImportedStyleSheet\",\"id\":\"c868a2be-982f-4069-be2e-ab60a55eb0d7\",\"attributes\":{\"url\":\"https://cdn.holoviz.org/panel/1.6.2/dist/bundled/theme/native.css\"}}],\"min_width\":700,\"margin\":0,\"sizing_mode\":\"stretch_width\",\"align\":\"start\",\"children\":[{\"type\":\"object\",\"name\":\"Spacer\",\"id\":\"81bcef87-23a7-4166-97c4-1b2b1dfa5afc\",\"attributes\":{\"name\":\"HSpacer00290\",\"stylesheets\":[\"\\n:host(.pn-loading):before, .pn-loading:before {\\n  background-color: #c3c3c3;\\n  mask-size: auto calc(min(50%, 400px));\\n  -webkit-mask-size: auto calc(min(50%, 400px));\\n}\",{\"id\":\"3a71fda9-f64d-42c7-8f8a-565d211c4191\"},{\"id\":\"1cad2ee4-279e-40eb-9771-7de61627896e\"},{\"id\":\"c868a2be-982f-4069-be2e-ab60a55eb0d7\"}],\"margin\":0,\"sizing_mode\":\"stretch_width\",\"align\":\"start\"}},{\"type\":\"object\",\"name\":\"Figure\",\"id\":\"7d1bf4e3-d819-49b3-82c6-ffa181c0e11a\",\"attributes\":{\"width\":700,\"height\":300,\"margin\":[5,10],\"sizing_mode\":\"fixed\",\"align\":\"start\",\"x_range\":{\"type\":\"object\",\"name\":\"FactorRange\",\"id\":\"d9ed3006-3cfa-43c4-bce8-b17c73d8a4fd\",\"attributes\":{\"name\":\"post_str_b1\",\"tags\":[[[\"post_str_b1\",null]],[]],\"factors\":[\"03\",\"02\",\"01\",\"05\",\"04\",\"07\",\"06\",\"08\",\"10\",\"11\",\"12\",\"09\",\"13\",\"19\",\"17\",\"15\",\"14\",\"18\",\"22\",\"20\",\"16\",\"21\",\"23\",\"26\"]}},\"y_range\":{\"type\":\"object\",\"name\":\"Range1d\",\"id\":\"3335567e-efde-493a-812b-a418669903fe\",\"attributes\":{\"name\":\"percent\",\"tags\":[[[\"percent\",null]],{\"type\":\"map\",\"entries\":[[\"invert_yaxis\",false],[\"autorange\",false]]}],\"end\":44.283559577677224,\"reset_start\":0.0,\"reset_end\":44.283559577677224}},\"x_scale\":{\"type\":\"object\",\"name\":\"CategoricalScale\",\"id\":\"4a100b33-30c7-4b36-9906-7e159531b6b8\"},\"y_scale\":{\"type\":\"object\",\"name\":\"LinearScale\",\"id\":\"c06438c8-27ca-4bc9-9f4e-93b3ac880292\"},\"title\":{\"type\":\"object\",\"name\":\"Title\",\"id\":\"6df9070f-1d89-4ad7-88db-ddfc71cf8692\",\"attributes\":{\"text_color\":\"black\",\"text_font_size\":\"12pt\"}},\"renderers\":[{\"type\":\"object\",\"name\":\"GlyphRenderer\",\"id\":\"2f713ee3-44e8-4310-a720-e16618b4f044\",\"attributes\":{\"data_source\":{\"type\":\"object\",\"name\":\"ColumnDataSource\",\"id\":\"fd879ac6-496f-4844-8306-b682d7faf738\",\"attributes\":{\"selected\":{\"type\":\"object\",\"name\":\"Selection\",\"id\":\"716b3931-b166-454a-a3e7-b16a384775cb\",\"attributes\":{\"indices\":[],\"line_indices\":[]}},\"selection_policy\":{\"type\":\"object\",\"name\":\"UnionRenderers\",\"id\":\"e4644598-aeec-42cc-93e0-6bea4fe037ee\"},\"data\":{\"type\":\"map\",\"entries\":[[\"post_str_b1\",[\"03\",\"02\",\"01\",\"05\",\"04\",\"07\",\"06\",\"08\",\"10\",\"11\",\"12\",\"09\",\"13\",\"19\",\"17\",\"15\",\"14\",\"18\",\"22\",\"20\",\"16\",\"21\",\"23\",\"26\"]],[\"percent\",{\"type\":\"ndarray\",\"array\":{\"type\":\"bytes\",\"data\":\"SsAiSsAiREC9gdC8gdAkQPJ7GfJ7GSJA/KzA+6zAG0CY+iGY+iEYQEW7HUW7HRVAHpP1HJP1DEDbxovaxosKQDVIgzRIgwRA0ZXk0JXkAEBfX19fX1//Px6T9RyT9fw/mPohmPoh+D8UYk4TYk7zP5j6IZj6Ieg/mPohmPoh6D8UYk4TYk7jPx6T9RyT9dw/FGJOE2JO0z8UYk4TYk7TPxRiThNiTtM/FGJOE2JOwz8UYk4TYk7DPxRiThNiTsM/\"},\"shape\":[24],\"dtype\":\"float64\",\"order\":\"little\"}]]}}},\"view\":{\"type\":\"object\",\"name\":\"CDSView\",\"id\":\"a6fb92fd-4361-4897-8574-f637f0aeba67\",\"attributes\":{\"filter\":{\"type\":\"object\",\"name\":\"AllIndices\",\"id\":\"ddfabfa0-6c14-4d9d-99f0-50cddb8e22ef\"}}},\"glyph\":{\"type\":\"object\",\"name\":\"VBar\",\"id\":\"1eab2d79-6720-4832-b273-eb048b7192a4\",\"attributes\":{\"tags\":[\"apply_ranges\"],\"x\":{\"type\":\"field\",\"field\":\"post_str_b1\"},\"width\":{\"type\":\"value\",\"value\":0.8},\"top\":{\"type\":\"field\",\"field\":\"percent\"},\"fill_color\":{\"type\":\"value\",\"value\":\"#30a2da\"},\"hatch_color\":{\"type\":\"value\",\"value\":\"#30a2da\"}}},\"selection_glyph\":{\"type\":\"object\",\"name\":\"VBar\",\"id\":\"ba70b15f-2d69-46fb-b45b-c00b9b61b3cb\",\"attributes\":{\"tags\":[\"apply_ranges\"],\"x\":{\"type\":\"field\",\"field\":\"post_str_b1\"},\"width\":{\"type\":\"value\",\"value\":0.8},\"bottom\":{\"type\":\"value\",\"value\":0},\"top\":{\"type\":\"field\",\"field\":\"percent\"},\"line_color\":{\"type\":\"value\",\"value\":\"black\"},\"line_alpha\":{\"type\":\"value\",\"value\":1.0},\"line_width\":{\"type\":\"value\",\"value\":1},\"line_join\":{\"type\":\"value\",\"value\":\"bevel\"},\"line_cap\":{\"type\":\"value\",\"value\":\"butt\"},\"line_dash\":{\"type\":\"value\",\"value\":[]},\"line_dash_offset\":{\"type\":\"value\",\"value\":0},\"fill_color\":{\"type\":\"value\",\"value\":\"#30a2da\"},\"fill_alpha\":{\"type\":\"value\",\"value\":1.0},\"hatch_color\":{\"type\":\"value\",\"value\":\"#30a2da\"},\"hatch_alpha\":{\"type\":\"value\",\"value\":1.0},\"hatch_scale\":{\"type\":\"value\",\"value\":12.0},\"hatch_pattern\":{\"type\":\"value\",\"value\":null},\"hatch_weight\":{\"type\":\"value\",\"value\":1.0}}},\"nonselection_glyph\":{\"type\":\"object\",\"name\":\"VBar\",\"id\":\"bbf5d487-a81d-40ce-b92e-38044f21a0fe\",\"attributes\":{\"tags\":[\"apply_ranges\"],\"x\":{\"type\":\"field\",\"field\":\"post_str_b1\"},\"width\":{\"type\":\"value\",\"value\":0.8},\"top\":{\"type\":\"field\",\"field\":\"percent\"},\"line_alpha\":{\"type\":\"value\",\"value\":0.1},\"fill_color\":{\"type\":\"value\",\"value\":\"#30a2da\"},\"fill_alpha\":{\"type\":\"value\",\"value\":0.1},\"hatch_color\":{\"type\":\"value\",\"value\":\"#30a2da\"},\"hatch_alpha\":{\"type\":\"value\",\"value\":0.1}}},\"muted_glyph\":{\"type\":\"object\",\"name\":\"VBar\",\"id\":\"5a23a021-97bb-4e75-99b0-151fc4c8cda7\",\"attributes\":{\"tags\":[\"apply_ranges\"],\"x\":{\"type\":\"field\",\"field\":\"post_str_b1\"},\"width\":{\"type\":\"value\",\"value\":0.8},\"top\":{\"type\":\"field\",\"field\":\"percent\"},\"line_alpha\":{\"type\":\"value\",\"value\":0.2},\"fill_color\":{\"type\":\"value\",\"value\":\"#30a2da\"},\"fill_alpha\":{\"type\":\"value\",\"value\":0.2},\"hatch_color\":{\"type\":\"value\",\"value\":\"#30a2da\"},\"hatch_alpha\":{\"type\":\"value\",\"value\":0.2}}}}},{\"type\":\"object\",\"name\":\"Span\",\"id\":\"806fa04e-9fde-4d53-9397-f39e33460bd9\",\"attributes\":{\"level\":\"glyph\",\"location\":4.166666666666665,\"line_color\":\"red\",\"line_width\":3}},{\"type\":\"object\",\"name\":\"Span\",\"id\":\"52919ffa-0467-4502-a4dd-c2fe8d11becc\",\"attributes\":{\"level\":\"glyph\",\"location\":6.249999999999997,\"line_color\":\"blue\",\"line_width\":3}},{\"type\":\"object\",\"name\":\"Span\",\"id\":\"4a4af4f0-c205-4b82-85ec-a0959016df2a\",\"attributes\":{\"level\":\"glyph\",\"location\":2.0833333333333326,\"line_color\":\"blue\",\"line_width\":3}}],\"toolbar\":{\"type\":\"object\",\"name\":\"Toolbar\",\"id\":\"353475ea-1de1-42ca-8a1f-c655a12127ea\",\"attributes\":{\"tools\":[{\"type\":\"object\",\"name\":\"WheelZoomTool\",\"id\":\"6b3b3f08-eabc-482a-96ab-254174121ee7\",\"attributes\":{\"tags\":[\"hv_created\"],\"renderers\":\"auto\",\"zoom_together\":\"none\"}},{\"type\":\"object\",\"name\":\"HoverTool\",\"id\":\"ec6100ac-14e9-4673-a82c-c40577263ce7\",\"attributes\":{\"tags\":[\"hv_created\"],\"renderers\":[{\"id\":\"2f713ee3-44e8-4310-a720-e16618b4f044\"}],\"tooltips\":[[\"post_str_b1\",\"@{post_str_b1}\"],[\"percent\",\"@{percent}\"]]}},{\"type\":\"object\",\"name\":\"SaveTool\",\"id\":\"bd51e541-fb9c-4308-8a99-1a625ec1f328\"},{\"type\":\"object\",\"name\":\"PanTool\",\"id\":\"d8f850b0-d79e-433b-a018-fb6945d916cd\"},{\"type\":\"object\",\"name\":\"BoxZoomTool\",\"id\":\"b47b60e0-8467-43d3-9381-4927263fc321\",\"attributes\":{\"dimensions\":\"both\",\"overlay\":{\"type\":\"object\",\"name\":\"BoxAnnotation\",\"id\":\"11ea7a77-fb93-4889-ad59-ffdbe544d241\",\"attributes\":{\"syncable\":false,\"line_color\":\"black\",\"line_alpha\":1.0,\"line_width\":2,\"line_dash\":[4,4],\"fill_color\":\"lightgrey\",\"fill_alpha\":0.5,\"level\":\"overlay\",\"visible\":false,\"left\":{\"type\":\"number\",\"value\":\"nan\"},\"right\":{\"type\":\"number\",\"value\":\"nan\"},\"top\":{\"type\":\"number\",\"value\":\"nan\"},\"bottom\":{\"type\":\"number\",\"value\":\"nan\"},\"left_units\":\"canvas\",\"right_units\":\"canvas\",\"top_units\":\"canvas\",\"bottom_units\":\"canvas\",\"handles\":{\"type\":\"object\",\"name\":\"BoxInteractionHandles\",\"id\":\"3e5f033a-edce-4dbf-9c64-e3df624e1317\",\"attributes\":{\"all\":{\"type\":\"object\",\"name\":\"AreaVisuals\",\"id\":\"04ac0163-61c8-47da-a3cb-007087249d47\",\"attributes\":{\"fill_color\":\"white\",\"hover_fill_color\":\"lightgray\"}}}}}}}},{\"type\":\"object\",\"name\":\"ResetTool\",\"id\":\"80234df0-16ae-484d-9888-79bca081d05e\"}],\"active_drag\":{\"id\":\"d8f850b0-d79e-433b-a018-fb6945d916cd\"}}},\"left\":[{\"type\":\"object\",\"name\":\"LinearAxis\",\"id\":\"595ca733-ecb4-4ff7-a2e6-796a98f5082f\",\"attributes\":{\"ticker\":{\"type\":\"object\",\"name\":\"BasicTicker\",\"id\":\"22d844f6-56b5-4447-818a-3f038ee1bc57\",\"attributes\":{\"mantissas\":[1,2,5]}},\"formatter\":{\"type\":\"object\",\"name\":\"BasicTickFormatter\",\"id\":\"2ec70354-aab8-4b15-97b2-50f913ddeb0b\"},\"axis_label\":\"percent\",\"major_label_policy\":{\"type\":\"object\",\"name\":\"AllLabels\",\"id\":\"beea0112-d7b3-4bde-bb13-e77c46a9ea8a\"}}}],\"below\":[{\"type\":\"object\",\"name\":\"CategoricalAxis\",\"id\":\"155ee7de-46c4-44d0-8bbe-9d397ca8de43\",\"attributes\":{\"ticker\":{\"type\":\"object\",\"name\":\"CategoricalTicker\",\"id\":\"9d5308e0-5c7e-4230-a1c9-f93dce72d3e9\"},\"formatter\":{\"type\":\"object\",\"name\":\"CategoricalTickFormatter\",\"id\":\"a2964dcd-7289-4f53-be65-de21acbb0682\"},\"axis_label\":\"post_str_b1\",\"major_label_policy\":{\"type\":\"object\",\"name\":\"AllLabels\",\"id\":\"a8651605-b35d-4b4e-948b-f4bfa7f866cf\"}}}],\"center\":[{\"type\":\"object\",\"name\":\"Grid\",\"id\":\"dc4a75e2-c877-459e-a1c6-fb9aa6b879da\",\"attributes\":{\"axis\":{\"id\":\"155ee7de-46c4-44d0-8bbe-9d397ca8de43\"},\"grid_line_color\":null}},{\"type\":\"object\",\"name\":\"Grid\",\"id\":\"4476ebbc-2bd7-4352-885b-6dc95a247ed7\",\"attributes\":{\"dimension\":1,\"axis\":{\"id\":\"595ca733-ecb4-4ff7-a2e6-796a98f5082f\"},\"grid_line_color\":null}}],\"min_border_top\":10,\"min_border_bottom\":10,\"min_border_left\":10,\"min_border_right\":10,\"output_backend\":\"webgl\"}},{\"type\":\"object\",\"name\":\"Spacer\",\"id\":\"7f0958b5-3bc1-4d76-9ac7-a552a83817b2\",\"attributes\":{\"name\":\"HSpacer00291\",\"stylesheets\":[\"\\n:host(.pn-loading):before, .pn-loading:before {\\n  background-color: #c3c3c3;\\n  mask-size: auto calc(min(50%, 400px));\\n  -webkit-mask-size: auto calc(min(50%, 400px));\\n}\",{\"id\":\"3a71fda9-f64d-42c7-8f8a-565d211c4191\"},{\"id\":\"1cad2ee4-279e-40eb-9771-7de61627896e\"},{\"id\":\"c868a2be-982f-4069-be2e-ab60a55eb0d7\"}],\"margin\":0,\"sizing_mode\":\"stretch_width\",\"align\":\"start\"}}]}}],\"defs\":[{\"type\":\"model\",\"name\":\"ReactiveHTML1\"},{\"type\":\"model\",\"name\":\"FlexBox1\",\"properties\":[{\"name\":\"align_content\",\"kind\":\"Any\",\"default\":\"flex-start\"},{\"name\":\"align_items\",\"kind\":\"Any\",\"default\":\"flex-start\"},{\"name\":\"flex_direction\",\"kind\":\"Any\",\"default\":\"row\"},{\"name\":\"flex_wrap\",\"kind\":\"Any\",\"default\":\"wrap\"},{\"name\":\"gap\",\"kind\":\"Any\",\"default\":\"\"},{\"name\":\"justify_content\",\"kind\":\"Any\",\"default\":\"flex-start\"}]},{\"type\":\"model\",\"name\":\"FloatPanel1\",\"properties\":[{\"name\":\"config\",\"kind\":\"Any\",\"default\":{\"type\":\"map\"}},{\"name\":\"contained\",\"kind\":\"Any\",\"default\":true},{\"name\":\"position\",\"kind\":\"Any\",\"default\":\"right-top\"},{\"name\":\"offsetx\",\"kind\":\"Any\",\"default\":null},{\"name\":\"offsety\",\"kind\":\"Any\",\"default\":null},{\"name\":\"theme\",\"kind\":\"Any\",\"default\":\"primary\"},{\"name\":\"status\",\"kind\":\"Any\",\"default\":\"normalized\"}]},{\"type\":\"model\",\"name\":\"GridStack1\",\"properties\":[{\"name\":\"ncols\",\"kind\":\"Any\",\"default\":null},{\"name\":\"nrows\",\"kind\":\"Any\",\"default\":null},{\"name\":\"allow_resize\",\"kind\":\"Any\",\"default\":true},{\"name\":\"allow_drag\",\"kind\":\"Any\",\"default\":true},{\"name\":\"state\",\"kind\":\"Any\",\"default\":[]}]},{\"type\":\"model\",\"name\":\"drag1\",\"properties\":[{\"name\":\"slider_width\",\"kind\":\"Any\",\"default\":5},{\"name\":\"slider_color\",\"kind\":\"Any\",\"default\":\"black\"},{\"name\":\"value\",\"kind\":\"Any\",\"default\":50}]},{\"type\":\"model\",\"name\":\"click1\",\"properties\":[{\"name\":\"terminal_output\",\"kind\":\"Any\",\"default\":\"\"},{\"name\":\"debug_name\",\"kind\":\"Any\",\"default\":\"\"},{\"name\":\"clears\",\"kind\":\"Any\",\"default\":0}]},{\"type\":\"model\",\"name\":\"FastWrapper1\",\"properties\":[{\"name\":\"object\",\"kind\":\"Any\",\"default\":null},{\"name\":\"style\",\"kind\":\"Any\",\"default\":null}]},{\"type\":\"model\",\"name\":\"NotificationArea1\",\"properties\":[{\"name\":\"js_events\",\"kind\":\"Any\",\"default\":{\"type\":\"map\"}},{\"name\":\"max_notifications\",\"kind\":\"Any\",\"default\":5},{\"name\":\"notifications\",\"kind\":\"Any\",\"default\":[]},{\"name\":\"position\",\"kind\":\"Any\",\"default\":\"bottom-right\"},{\"name\":\"_clear\",\"kind\":\"Any\",\"default\":0},{\"name\":\"types\",\"kind\":\"Any\",\"default\":[{\"type\":\"map\",\"entries\":[[\"type\",\"warning\"],[\"background\",\"#ffc107\"],[\"icon\",{\"type\":\"map\",\"entries\":[[\"className\",\"fas fa-exclamation-triangle\"],[\"tagName\",\"i\"],[\"color\",\"white\"]]}]]},{\"type\":\"map\",\"entries\":[[\"type\",\"info\"],[\"background\",\"#007bff\"],[\"icon\",{\"type\":\"map\",\"entries\":[[\"className\",\"fas fa-info-circle\"],[\"tagName\",\"i\"],[\"color\",\"white\"]]}]]}]}]},{\"type\":\"model\",\"name\":\"Notification\",\"properties\":[{\"name\":\"background\",\"kind\":\"Any\",\"default\":null},{\"name\":\"duration\",\"kind\":\"Any\",\"default\":3000},{\"name\":\"icon\",\"kind\":\"Any\",\"default\":null},{\"name\":\"message\",\"kind\":\"Any\",\"default\":\"\"},{\"name\":\"notification_type\",\"kind\":\"Any\",\"default\":null},{\"name\":\"_rendered\",\"kind\":\"Any\",\"default\":false},{\"name\":\"_destroyed\",\"kind\":\"Any\",\"default\":false}]},{\"type\":\"model\",\"name\":\"TemplateActions1\",\"properties\":[{\"name\":\"open_modal\",\"kind\":\"Any\",\"default\":0},{\"name\":\"close_modal\",\"kind\":\"Any\",\"default\":0}]},{\"type\":\"model\",\"name\":\"BootstrapTemplateActions1\",\"properties\":[{\"name\":\"open_modal\",\"kind\":\"Any\",\"default\":0},{\"name\":\"close_modal\",\"kind\":\"Any\",\"default\":0}]},{\"type\":\"model\",\"name\":\"TemplateEditor1\",\"properties\":[{\"name\":\"layout\",\"kind\":\"Any\",\"default\":[]}]},{\"type\":\"model\",\"name\":\"MaterialTemplateActions1\",\"properties\":[{\"name\":\"open_modal\",\"kind\":\"Any\",\"default\":0},{\"name\":\"close_modal\",\"kind\":\"Any\",\"default\":0}]},{\"type\":\"model\",\"name\":\"ReactiveESM1\",\"properties\":[{\"name\":\"esm_constants\",\"kind\":\"Any\",\"default\":{\"type\":\"map\"}}]},{\"type\":\"model\",\"name\":\"JSComponent1\",\"properties\":[{\"name\":\"esm_constants\",\"kind\":\"Any\",\"default\":{\"type\":\"map\"}}]},{\"type\":\"model\",\"name\":\"ReactComponent1\",\"properties\":[{\"name\":\"esm_constants\",\"kind\":\"Any\",\"default\":{\"type\":\"map\"}}]},{\"type\":\"model\",\"name\":\"AnyWidgetComponent1\",\"properties\":[{\"name\":\"esm_constants\",\"kind\":\"Any\",\"default\":{\"type\":\"map\"}}]},{\"type\":\"model\",\"name\":\"request_value1\",\"properties\":[{\"name\":\"fill\",\"kind\":\"Any\",\"default\":\"none\"},{\"name\":\"_synced\",\"kind\":\"Any\",\"default\":null},{\"name\":\"_request_sync\",\"kind\":\"Any\",\"default\":0}]}]}};\n",
       "  var render_items = [{\"docid\":\"9420562d-cd30-41f2-a3e1-c1d7f0d175fd\",\"roots\":{\"efa6074e-6d7a-4b58-8f06-a86fee1f642e\":\"aa17917d-ebce-4b3f-89b3-d2a1e4eb9f45\"},\"root_ids\":[\"efa6074e-6d7a-4b58-8f06-a86fee1f642e\"]}];\n",
       "  var docs = Object.values(docs_json)\n",
       "  if (!docs) {\n",
       "    return\n",
       "  }\n",
       "  const py_version = docs[0].version.replace('rc', '-rc.').replace('.dev', '-dev.')\n",
       "  async function embed_document(root) {\n",
       "    var Bokeh = get_bokeh(root)\n",
       "    await Bokeh.embed.embed_items_notebook(docs_json, render_items);\n",
       "    for (const render_item of render_items) {\n",
       "      for (const root_id of render_item.root_ids) {\n",
       "\tconst id_el = document.getElementById(root_id)\n",
       "\tif (id_el.children.length && id_el.children[0].hasAttribute('data-root-id')) {\n",
       "\t  const root_el = id_el.children[0]\n",
       "\t  root_el.id = root_el.id + '-rendered'\n",
       "\t  for (const child of root_el.children) {\n",
       "            // Ensure JupyterLab does not capture keyboard shortcuts\n",
       "            // see: https://jupyterlab.readthedocs.io/en/4.1.x/extension/notebook.html#keyboard-interaction-model\n",
       "\t    child.setAttribute('data-lm-suppress-shortcuts', 'true')\n",
       "\t  }\n",
       "\t}\n",
       "      }\n",
       "    }\n",
       "  }\n",
       "  function get_bokeh(root) {\n",
       "    if (root.Bokeh === undefined) {\n",
       "      return null\n",
       "    } else if (root.Bokeh.version !== py_version) {\n",
       "      if (root.Bokeh.versions === undefined || !root.Bokeh.versions.has(py_version)) {\n",
       "\treturn null\n",
       "      }\n",
       "      return root.Bokeh.versions.get(py_version);\n",
       "    } else if (root.Bokeh.version === py_version) {\n",
       "      return root.Bokeh\n",
       "    }\n",
       "    return null\n",
       "  }\n",
       "  function is_loaded(root) {\n",
       "    var Bokeh = get_bokeh(root)\n",
       "    return (Bokeh != null && Bokeh.Panel !== undefined)\n",
       "  }\n",
       "  if (is_loaded(root)) {\n",
       "    embed_document(root);\n",
       "  } else {\n",
       "    var attempts = 0;\n",
       "    var timer = setInterval(function(root) {\n",
       "      if (is_loaded(root)) {\n",
       "        clearInterval(timer);\n",
       "        embed_document(root);\n",
       "      } else if (document.readyState == \"complete\") {\n",
       "        attempts++;\n",
       "        if (attempts > 200) {\n",
       "          clearInterval(timer);\n",
       "\t  var Bokeh = get_bokeh(root)\n",
       "\t  if (Bokeh == null || Bokeh.Panel == null) {\n",
       "            console.warn(\"Panel: ERROR: Unable to run Panel code because Bokeh or Panel library is missing\");\n",
       "\t  } else {\n",
       "\t    console.warn(\"Panel: WARNING: Attempting to render but not all required libraries could be resolved.\")\n",
       "\t    embed_document(root)\n",
       "\t  }\n",
       "        }\n",
       "      }\n",
       "    }, 25, root)\n",
       "  }\n",
       "})(window);</script>"
      ],
      "text/plain": [
       ":Overlay\n",
       "   .Bars.I    :Bars   [post_str_b1]   (percent)\n",
       "   .HLine.I   :HLine   [x,y]\n",
       "   .HLine.II  :HLine   [x,y]\n",
       "   .HLine.III :HLine   [x,y]"
      ]
     },
     "metadata": {
      "application/vnd.holoviews_exec.v0+json": {
       "id": "efa6074e-6d7a-4b58-8f06-a86fee1f642e"
      }
     },
     "output_type": "display_data"
    },
    {
     "name": "stdout",
     "output_type": "stream",
     "text": [
      "df_10_last FOR str_b1 = 03\n",
      "Last 3 results last_results=['05', '03']\n"
     ]
    },
    {
     "data": {
      "text/html": [
       "<div><style>\n",
       ".dataframe > thead > tr,\n",
       ".dataframe > tbody > tr {\n",
       "  text-align: right;\n",
       "  white-space: pre-wrap;\n",
       "}\n",
       "</style>\n",
       "<small>shape: (10, 30)</small><table border=\"1\" class=\"dataframe\"><thead><tr><th>fecha</th><th>sorteo</th><th>bolillas regulares</th><th>bolillas chauchamba</th><th>cc1</th><th>cc2</th><th>id</th><th>combo</th><th>b1</th><th>b2</th><th>b3</th><th>b4</th><th>b5</th><th>b6</th><th>str_b1</th><th>str_b2</th><th>str_b3</th><th>str_b4</th><th>str_b5</th><th>str_b6</th><th>post_str_b1</th><th>post_str_b2</th><th>post_str_b3</th><th>post_str_b4</th><th>post_str_b5</th><th>post_str_blast</th><th>is_rare_combination</th><th>reason</th><th>jumps_map</th><th>unijump</th></tr><tr><td>str</td><td>str</td><td>str</td><td>str</td><td>str</td><td>str</td><td>str</td><td>array[u8, 6]</td><td>u8</td><td>u8</td><td>u8</td><td>u8</td><td>u8</td><td>u8</td><td>str</td><td>str</td><td>str</td><td>str</td><td>str</td><td>str</td><td>str</td><td>str</td><td>str</td><td>str</td><td>str</td><td>str</td><td>bool</td><td>u8</td><td>str</td><td>i64</td></tr></thead><tbody><tr><td>&quot;26/04/2025&quot;</td><td>&quot;1800&quot;</td><td>&quot;20 35 03 19 09 29&quot;</td><td>&quot;09 17 29 39 31 34&quot;</td><td>&quot;&quot;</td><td>&quot;&quot;</td><td>&quot;030919202935&quot;</td><td>[3, 9, … 35]</td><td>3</td><td>9</td><td>19</td><td>20</td><td>29</td><td>35</td><td>&quot;03&quot;</td><td>&quot;09&quot;</td><td>&quot;19&quot;</td><td>&quot;20&quot;</td><td>&quot;29&quot;</td><td>&quot;35&quot;</td><td>&quot;03&quot;</td><td>&quot;09&quot;</td><td>&quot;19&quot;</td><td>&quot;20&quot;</td><td>&quot;29&quot;</td><td>&quot;35&quot;</td><td>false</td><td>0</td><td>&quot;06_10_01_09_06&quot;</td><td>-58</td></tr><tr><td>&quot;12/04/2025&quot;</td><td>&quot;1794&quot;</td><td>&quot;10 32 26 03 19 11&quot;</td><td>&quot;39 07 28 21 05 12&quot;</td><td>&quot;&quot;</td><td>&quot;&quot;</td><td>&quot;031011192632&quot;</td><td>[3, 10, … 32]</td><td>3</td><td>10</td><td>11</td><td>19</td><td>26</td><td>32</td><td>&quot;03&quot;</td><td>&quot;10&quot;</td><td>&quot;11&quot;</td><td>&quot;19&quot;</td><td>&quot;26&quot;</td><td>&quot;32&quot;</td><td>&quot;05&quot;</td><td>&quot;08&quot;</td><td>&quot;13&quot;</td><td>&quot;21&quot;</td><td>&quot;34&quot;</td><td>&quot;37&quot;</td><td>false</td><td>0</td><td>&quot;07_01_08_07_06&quot;</td><td>29</td></tr><tr><td>&quot;12/04/2025&quot;</td><td>&quot;1794&quot;</td><td>&quot;10 32 26 03 19 11&quot;</td><td>&quot;39 07 28 21 05 12&quot;</td><td>&quot;&quot;</td><td>&quot;&quot;</td><td>&quot;031011192632&quot;</td><td>[3, 10, … 32]</td><td>3</td><td>10</td><td>11</td><td>19</td><td>26</td><td>32</td><td>&quot;03&quot;</td><td>&quot;10&quot;</td><td>&quot;11&quot;</td><td>&quot;19&quot;</td><td>&quot;26&quot;</td><td>&quot;32&quot;</td><td>&quot;03&quot;</td><td>&quot;10&quot;</td><td>&quot;11&quot;</td><td>&quot;19&quot;</td><td>&quot;26&quot;</td><td>&quot;32&quot;</td><td>false</td><td>0</td><td>&quot;07_01_08_07_06&quot;</td><td>29</td></tr><tr><td>&quot;25/03/2025&quot;</td><td>&quot;1786&quot;</td><td>&quot;31 03 36 24 14 33&quot;</td><td>&quot;21 40 02 16 05 27&quot;</td><td>&quot;&quot;</td><td>&quot;&quot;</td><td>&quot;031424313336&quot;</td><td>[3, 14, … 36]</td><td>3</td><td>14</td><td>24</td><td>31</td><td>33</td><td>36</td><td>&quot;03&quot;</td><td>&quot;14&quot;</td><td>&quot;24&quot;</td><td>&quot;31&quot;</td><td>&quot;33&quot;</td><td>&quot;36&quot;</td><td>&quot;06&quot;</td><td>&quot;10&quot;</td><td>&quot;16&quot;</td><td>&quot;23&quot;</td><td>&quot;26&quot;</td><td>&quot;32&quot;</td><td>false</td><td>0</td><td>&quot;11_10_07_02_03&quot;</td><td>8</td></tr><tr><td>&quot;25/03/2025&quot;</td><td>&quot;1786&quot;</td><td>&quot;31 03 36 24 14 33&quot;</td><td>&quot;21 40 02 16 05 27&quot;</td><td>&quot;&quot;</td><td>&quot;&quot;</td><td>&quot;031424313336&quot;</td><td>[3, 14, … 36]</td><td>3</td><td>14</td><td>24</td><td>31</td><td>33</td><td>36</td><td>&quot;03&quot;</td><td>&quot;14&quot;</td><td>&quot;24&quot;</td><td>&quot;31&quot;</td><td>&quot;33&quot;</td><td>&quot;36&quot;</td><td>&quot;03&quot;</td><td>&quot;14&quot;</td><td>&quot;24&quot;</td><td>&quot;31&quot;</td><td>&quot;33&quot;</td><td>&quot;36&quot;</td><td>false</td><td>0</td><td>&quot;11_10_07_02_03&quot;</td><td>8</td></tr><tr><td>&quot;20/03/2025&quot;</td><td>&quot;1784&quot;</td><td>&quot;13 07 35 15 03 11&quot;</td><td>&quot;28 12 22 35 08 37&quot;</td><td>&quot;&quot;</td><td>&quot;&quot;</td><td>&quot;030711131535&quot;</td><td>[3, 7, … 35]</td><td>3</td><td>7</td><td>11</td><td>13</td><td>15</td><td>35</td><td>&quot;03&quot;</td><td>&quot;07&quot;</td><td>&quot;11&quot;</td><td>&quot;13&quot;</td><td>&quot;15&quot;</td><td>&quot;35&quot;</td><td>&quot;07&quot;</td><td>&quot;23&quot;</td><td>&quot;24&quot;</td><td>&quot;25&quot;</td><td>&quot;29&quot;</td><td>&quot;34&quot;</td><td>true</td><td>27</td><td>&quot;04_04_02_02_20&quot;</td><td>12</td></tr><tr><td>&quot;20/03/2025&quot;</td><td>&quot;1784&quot;</td><td>&quot;13 07 35 15 03 11&quot;</td><td>&quot;28 12 22 35 08 37&quot;</td><td>&quot;&quot;</td><td>&quot;&quot;</td><td>&quot;030711131535&quot;</td><td>[3, 7, … 35]</td><td>3</td><td>7</td><td>11</td><td>13</td><td>15</td><td>35</td><td>&quot;03&quot;</td><td>&quot;07&quot;</td><td>&quot;11&quot;</td><td>&quot;13&quot;</td><td>&quot;15&quot;</td><td>&quot;35&quot;</td><td>&quot;03&quot;</td><td>&quot;07&quot;</td><td>&quot;11&quot;</td><td>&quot;13&quot;</td><td>&quot;15&quot;</td><td>&quot;35&quot;</td><td>true</td><td>27</td><td>&quot;04_04_02_02_20&quot;</td><td>12</td></tr><tr><td>&quot;15/03/2025&quot;</td><td>&quot;1782&quot;</td><td>&quot;19 28 03 39 10 09&quot;</td><td>&quot;06 35 12 28 09 18&quot;</td><td>&quot;&quot;</td><td>&quot;&quot;</td><td>&quot;030910192839&quot;</td><td>[3, 9, … 39]</td><td>3</td><td>9</td><td>10</td><td>19</td><td>28</td><td>39</td><td>&quot;03&quot;</td><td>&quot;09&quot;</td><td>&quot;10&quot;</td><td>&quot;19&quot;</td><td>&quot;28&quot;</td><td>&quot;39&quot;</td><td>&quot;12&quot;</td><td>&quot;16&quot;</td><td>&quot;21&quot;</td><td>&quot;22&quot;</td><td>&quot;30&quot;</td><td>&quot;39&quot;</td><td>true</td><td>8</td><td>&quot;06_01_09_09_11&quot;</td><td>31</td></tr><tr><td>&quot;15/03/2025&quot;</td><td>&quot;1782&quot;</td><td>&quot;19 28 03 39 10 09&quot;</td><td>&quot;06 35 12 28 09 18&quot;</td><td>&quot;&quot;</td><td>&quot;&quot;</td><td>&quot;030910192839&quot;</td><td>[3, 9, … 39]</td><td>3</td><td>9</td><td>10</td><td>19</td><td>28</td><td>39</td><td>&quot;03&quot;</td><td>&quot;09&quot;</td><td>&quot;10&quot;</td><td>&quot;19&quot;</td><td>&quot;28&quot;</td><td>&quot;39&quot;</td><td>&quot;03&quot;</td><td>&quot;09&quot;</td><td>&quot;10&quot;</td><td>&quot;19&quot;</td><td>&quot;28&quot;</td><td>&quot;39&quot;</td><td>true</td><td>8</td><td>&quot;06_01_09_09_11&quot;</td><td>31</td></tr><tr><td>&quot;27/02/2025&quot;</td><td>&quot;1775&quot;</td><td>&quot;08 03 29 25 07 22&quot;</td><td>&quot;09 10 08 16 24 07&quot;</td><td>&quot;&quot;</td><td>&quot;&quot;</td><td>&quot;030708222529&quot;</td><td>[3, 7, … 29]</td><td>3</td><td>7</td><td>8</td><td>22</td><td>25</td><td>29</td><td>&quot;03&quot;</td><td>&quot;07&quot;</td><td>&quot;08&quot;</td><td>&quot;22&quot;</td><td>&quot;25&quot;</td><td>&quot;29&quot;</td><td>&quot;02&quot;</td><td>&quot;14&quot;</td><td>&quot;22&quot;</td><td>&quot;34&quot;</td><td>&quot;38&quot;</td><td>&quot;40&quot;</td><td>true</td><td>16</td><td>&quot;04_01_14_03_04&quot;</td><td>76</td></tr></tbody></table></div>"
      ],
      "text/plain": [
       "shape: (10, 30)\n",
       "┌────────────┬────────┬─────────────┬─────────────┬───┬────────────┬────────┬────────────┬─────────┐\n",
       "│ fecha      ┆ sorteo ┆ bolillas    ┆ bolillas    ┆ … ┆ is_rare_co ┆ reason ┆ jumps_map  ┆ unijump │\n",
       "│ ---        ┆ ---    ┆ regulares   ┆ chauchamba  ┆   ┆ mbination  ┆ ---    ┆ ---        ┆ ---     │\n",
       "│ str        ┆ str    ┆ ---         ┆ ---         ┆   ┆ ---        ┆ u8     ┆ str        ┆ i64     │\n",
       "│            ┆        ┆ str         ┆ str         ┆   ┆ bool       ┆        ┆            ┆         │\n",
       "╞════════════╪════════╪═════════════╪═════════════╪═══╪════════════╪════════╪════════════╪═════════╡\n",
       "│ 26/04/2025 ┆ 1800   ┆ 20 35 03 19 ┆ 09 17 29 39 ┆ … ┆ false      ┆ 0      ┆ 06_10_01_0 ┆ -58     │\n",
       "│            ┆        ┆ 09 29       ┆ 31 34       ┆   ┆            ┆        ┆ 9_06       ┆         │\n",
       "│ 12/04/2025 ┆ 1794   ┆ 10 32 26 03 ┆ 39 07 28 21 ┆ … ┆ false      ┆ 0      ┆ 07_01_08_0 ┆ 29      │\n",
       "│            ┆        ┆ 19 11       ┆ 05 12       ┆   ┆            ┆        ┆ 7_06       ┆         │\n",
       "│ 12/04/2025 ┆ 1794   ┆ 10 32 26 03 ┆ 39 07 28 21 ┆ … ┆ false      ┆ 0      ┆ 07_01_08_0 ┆ 29      │\n",
       "│            ┆        ┆ 19 11       ┆ 05 12       ┆   ┆            ┆        ┆ 7_06       ┆         │\n",
       "│ 25/03/2025 ┆ 1786   ┆ 31 03 36 24 ┆ 21 40 02 16 ┆ … ┆ false      ┆ 0      ┆ 11_10_07_0 ┆ 8       │\n",
       "│            ┆        ┆ 14 33       ┆ 05 27       ┆   ┆            ┆        ┆ 2_03       ┆         │\n",
       "│ 25/03/2025 ┆ 1786   ┆ 31 03 36 24 ┆ 21 40 02 16 ┆ … ┆ false      ┆ 0      ┆ 11_10_07_0 ┆ 8       │\n",
       "│            ┆        ┆ 14 33       ┆ 05 27       ┆   ┆            ┆        ┆ 2_03       ┆         │\n",
       "│ 20/03/2025 ┆ 1784   ┆ 13 07 35 15 ┆ 28 12 22 35 ┆ … ┆ true       ┆ 27     ┆ 04_04_02_0 ┆ 12      │\n",
       "│            ┆        ┆ 03 11       ┆ 08 37       ┆   ┆            ┆        ┆ 2_20       ┆         │\n",
       "│ 20/03/2025 ┆ 1784   ┆ 13 07 35 15 ┆ 28 12 22 35 ┆ … ┆ true       ┆ 27     ┆ 04_04_02_0 ┆ 12      │\n",
       "│            ┆        ┆ 03 11       ┆ 08 37       ┆   ┆            ┆        ┆ 2_20       ┆         │\n",
       "│ 15/03/2025 ┆ 1782   ┆ 19 28 03 39 ┆ 06 35 12 28 ┆ … ┆ true       ┆ 8      ┆ 06_01_09_0 ┆ 31      │\n",
       "│            ┆        ┆ 10 09       ┆ 09 18       ┆   ┆            ┆        ┆ 9_11       ┆         │\n",
       "│ 15/03/2025 ┆ 1782   ┆ 19 28 03 39 ┆ 06 35 12 28 ┆ … ┆ true       ┆ 8      ┆ 06_01_09_0 ┆ 31      │\n",
       "│            ┆        ┆ 10 09       ┆ 09 18       ┆   ┆            ┆        ┆ 9_11       ┆         │\n",
       "│ 27/02/2025 ┆ 1775   ┆ 08 03 29 25 ┆ 09 10 08 16 ┆ … ┆ true       ┆ 16     ┆ 04_01_14_0 ┆ 76      │\n",
       "│            ┆        ┆ 07 22       ┆ 24 07       ┆   ┆            ┆        ┆ 3_04       ┆         │\n",
       "└────────────┴────────┴─────────────┴─────────────┴───┴────────────┴────────┴────────────┴─────────┘"
      ]
     },
     "metadata": {},
     "output_type": "display_data"
    },
    {
     "name": "stdout",
     "output_type": "stream",
     "text": [
      "df_jumps_map FOR str_b1 = 03\n"
     ]
    },
    {
     "data": {
      "text/html": [
       "<div><style>\n",
       ".dataframe > thead > tr,\n",
       ".dataframe > tbody > tr {\n",
       "  text-align: right;\n",
       "  white-space: pre-wrap;\n",
       "}\n",
       "</style>\n",
       "<small>shape: (460, 2)</small><table border=\"1\" class=\"dataframe\"><thead><tr><th>jumps_map</th><th>count</th></tr><tr><td>str</td><td>u32</td></tr></thead><tbody><tr><td>&quot;06_01_09_09_11&quot;</td><td>2</td></tr><tr><td>&quot;07_07_10_03_08&quot;</td><td>2</td></tr><tr><td>&quot;04_09_09_04_04&quot;</td><td>2</td></tr><tr><td>&quot;09_05_03_01_19&quot;</td><td>2</td></tr><tr><td>&quot;02_04_12_06_05&quot;</td><td>2</td></tr><tr><td>&hellip;</td><td>&hellip;</td></tr><tr><td>&quot;06_06_09_01_05&quot;</td><td>1</td></tr><tr><td>&quot;01_01_11_19_03&quot;</td><td>1</td></tr><tr><td>&quot;06_11_07_02_09&quot;</td><td>1</td></tr><tr><td>&quot;08_04_03_03_19&quot;</td><td>1</td></tr><tr><td>&quot;06_10_01_09_06&quot;</td><td>1</td></tr></tbody></table></div>"
      ],
      "text/plain": [
       "shape: (460, 2)\n",
       "┌────────────────┬───────┐\n",
       "│ jumps_map      ┆ count │\n",
       "│ ---            ┆ ---   │\n",
       "│ str            ┆ u32   │\n",
       "╞════════════════╪═══════╡\n",
       "│ 06_01_09_09_11 ┆ 2     │\n",
       "│ 07_07_10_03_08 ┆ 2     │\n",
       "│ 04_09_09_04_04 ┆ 2     │\n",
       "│ 09_05_03_01_19 ┆ 2     │\n",
       "│ 02_04_12_06_05 ┆ 2     │\n",
       "│ …              ┆ …     │\n",
       "│ 06_06_09_01_05 ┆ 1     │\n",
       "│ 01_01_11_19_03 ┆ 1     │\n",
       "│ 06_11_07_02_09 ┆ 1     │\n",
       "│ 08_04_03_03_19 ┆ 1     │\n",
       "│ 06_10_01_09_06 ┆ 1     │\n",
       "└────────────────┴───────┘"
      ]
     },
     "metadata": {},
     "output_type": "display_data"
    },
    {
     "name": "stdout",
     "output_type": "stream",
     "text": [
      "df_unijump FOR str_b1 = 03\n"
     ]
    },
    {
     "data": {
      "text/html": [
       "<div><style>\n",
       ".dataframe > thead > tr,\n",
       ".dataframe > tbody > tr {\n",
       "  text-align: right;\n",
       "  white-space: pre-wrap;\n",
       "}\n",
       "</style>\n",
       "<small>shape: (174, 2)</small><table border=\"1\" class=\"dataframe\"><thead><tr><th>unijump</th><th>count</th></tr><tr><td>i64</td><td>u32</td></tr></thead><tbody><tr><td>-2</td><td>11</td></tr><tr><td>5</td><td>10</td></tr><tr><td>2</td><td>10</td></tr><tr><td>27</td><td>9</td></tr><tr><td>-11</td><td>9</td></tr><tr><td>&hellip;</td><td>&hellip;</td></tr><tr><td>88</td><td>1</td></tr><tr><td>78</td><td>1</td></tr><tr><td>-72</td><td>1</td></tr><tr><td>108</td><td>1</td></tr><tr><td>127</td><td>1</td></tr></tbody></table></div>"
      ],
      "text/plain": [
       "shape: (174, 2)\n",
       "┌─────────┬───────┐\n",
       "│ unijump ┆ count │\n",
       "│ ---     ┆ ---   │\n",
       "│ i64     ┆ u32   │\n",
       "╞═════════╪═══════╡\n",
       "│ -2      ┆ 11    │\n",
       "│ 5       ┆ 10    │\n",
       "│ 2       ┆ 10    │\n",
       "│ 27      ┆ 9     │\n",
       "│ -11     ┆ 9     │\n",
       "│ …       ┆ …     │\n",
       "│ 88      ┆ 1     │\n",
       "│ 78      ┆ 1     │\n",
       "│ -72     ┆ 1     │\n",
       "│ 108     ┆ 1     │\n",
       "│ 127     ┆ 1     │\n",
       "└─────────┴───────┘"
      ]
     },
     "metadata": {},
     "output_type": "display_data"
    }
   ],
   "source": [
    "possible_b1, exclude_jump_maps_b1, last_post_b1 = plot_post_col(col='str_b1', post_col='post_str_b1')"
   ]
  },
  {
   "cell_type": "code",
   "execution_count": 8,
   "metadata": {},
   "outputs": [
    {
     "name": "stdout",
     "output_type": "stream",
     "text": [
      "Setting test_value='09'\n",
      "df_viz FOR str_b2 = 09\n"
     ]
    },
    {
     "data": {
      "text/html": [
       "<div><style>\n",
       ".dataframe > thead > tr,\n",
       ".dataframe > tbody > tr {\n",
       "  text-align: right;\n",
       "  white-space: pre-wrap;\n",
       "}\n",
       "</style>\n",
       "<small>shape: (27, 3)</small><table border=\"1\" class=\"dataframe\"><thead><tr><th>post_str_b2</th><th>count</th><th>percent</th></tr><tr><td>str</td><td>u32</td><td>f64</td></tr></thead><tbody><tr><td>&quot;09&quot;</td><td>132</td><td>35.106383</td></tr><tr><td>&quot;08&quot;</td><td>21</td><td>5.585106</td></tr><tr><td>&quot;04&quot;</td><td>20</td><td>5.319149</td></tr><tr><td>&quot;07&quot;</td><td>18</td><td>4.787234</td></tr><tr><td>&quot;10&quot;</td><td>17</td><td>4.521277</td></tr><tr><td>&hellip;</td><td>&hellip;</td><td>&hellip;</td></tr><tr><td>&quot;21&quot;</td><td>3</td><td>0.797872</td></tr><tr><td>&quot;24&quot;</td><td>3</td><td>0.797872</td></tr><tr><td>&quot;22&quot;</td><td>2</td><td>0.531915</td></tr><tr><td>&quot;28&quot;</td><td>1</td><td>0.265957</td></tr><tr><td>&quot;29&quot;</td><td>1</td><td>0.265957</td></tr></tbody></table></div>"
      ],
      "text/plain": [
       "shape: (27, 3)\n",
       "┌─────────────┬───────┬───────────┐\n",
       "│ post_str_b2 ┆ count ┆ percent   │\n",
       "│ ---         ┆ ---   ┆ ---       │\n",
       "│ str         ┆ u32   ┆ f64       │\n",
       "╞═════════════╪═══════╪═══════════╡\n",
       "│ 09          ┆ 132   ┆ 35.106383 │\n",
       "│ 08          ┆ 21    ┆ 5.585106  │\n",
       "│ 04          ┆ 20    ┆ 5.319149  │\n",
       "│ 07          ┆ 18    ┆ 4.787234  │\n",
       "│ 10          ┆ 17    ┆ 4.521277  │\n",
       "│ …           ┆ …     ┆ …         │\n",
       "│ 21          ┆ 3     ┆ 0.797872  │\n",
       "│ 24          ┆ 3     ┆ 0.797872  │\n",
       "│ 22          ┆ 2     ┆ 0.531915  │\n",
       "│ 28          ┆ 1     ┆ 0.265957  │\n",
       "│ 29          ┆ 1     ┆ 0.265957  │\n",
       "└─────────────┴───────┴───────────┘"
      ]
     },
     "metadata": {},
     "output_type": "display_data"
    },
    {
     "data": {},
     "metadata": {},
     "output_type": "display_data"
    },
    {
     "data": {
      "application/vnd.holoviews_exec.v0+json": "",
      "text/html": [
       "<div id='56126ace-9b31-4aaa-b4d0-3eb601a16adb'>\n",
       "  <div id=\"c10b1381-35da-4b45-939f-268f20b27f16\" data-root-id=\"56126ace-9b31-4aaa-b4d0-3eb601a16adb\" style=\"display: contents;\"></div>\n",
       "</div>\n",
       "<script type=\"application/javascript\">(function(root) {\n",
       "  var docs_json = {\"b398ab67-91c9-44c2-b218-6c499be5c99c\":{\"version\":\"3.7.2\",\"title\":\"Bokeh Application\",\"roots\":[{\"type\":\"object\",\"name\":\"Row\",\"id\":\"56126ace-9b31-4aaa-b4d0-3eb601a16adb\",\"attributes\":{\"name\":\"Row00357\",\"tags\":[\"embedded\"],\"stylesheets\":[\"\\n:host(.pn-loading):before, .pn-loading:before {\\n  background-color: #c3c3c3;\\n  mask-size: auto calc(min(50%, 400px));\\n  -webkit-mask-size: auto calc(min(50%, 400px));\\n}\",{\"type\":\"object\",\"name\":\"ImportedStyleSheet\",\"id\":\"65f16191-3db0-4179-92fd-0c74e72009d7\",\"attributes\":{\"url\":\"https://cdn.holoviz.org/panel/1.6.2/dist/css/loading.css\"}},{\"type\":\"object\",\"name\":\"ImportedStyleSheet\",\"id\":\"46243857-0213-4471-8c2e-cd6251079b2f\",\"attributes\":{\"url\":\"https://cdn.holoviz.org/panel/1.6.2/dist/css/listpanel.css\"}},{\"type\":\"object\",\"name\":\"ImportedStyleSheet\",\"id\":\"6721e05b-1dfb-4755-8baa-f10af44552e6\",\"attributes\":{\"url\":\"https://cdn.holoviz.org/panel/1.6.2/dist/bundled/theme/default.css\"}},{\"type\":\"object\",\"name\":\"ImportedStyleSheet\",\"id\":\"6b5513da-6470-4b7c-ac80-ef24c1d2f21b\",\"attributes\":{\"url\":\"https://cdn.holoviz.org/panel/1.6.2/dist/bundled/theme/native.css\"}}],\"min_width\":700,\"margin\":0,\"sizing_mode\":\"stretch_width\",\"align\":\"start\",\"children\":[{\"type\":\"object\",\"name\":\"Spacer\",\"id\":\"7e9e6387-7780-422a-bc1a-ab1099c4adb6\",\"attributes\":{\"name\":\"HSpacer00361\",\"stylesheets\":[\"\\n:host(.pn-loading):before, .pn-loading:before {\\n  background-color: #c3c3c3;\\n  mask-size: auto calc(min(50%, 400px));\\n  -webkit-mask-size: auto calc(min(50%, 400px));\\n}\",{\"id\":\"65f16191-3db0-4179-92fd-0c74e72009d7\"},{\"id\":\"6721e05b-1dfb-4755-8baa-f10af44552e6\"},{\"id\":\"6b5513da-6470-4b7c-ac80-ef24c1d2f21b\"}],\"margin\":0,\"sizing_mode\":\"stretch_width\",\"align\":\"start\"}},{\"type\":\"object\",\"name\":\"Figure\",\"id\":\"64559851-3bab-4384-9344-730551cae981\",\"attributes\":{\"width\":700,\"height\":300,\"margin\":[5,10],\"sizing_mode\":\"fixed\",\"align\":\"start\",\"x_range\":{\"type\":\"object\",\"name\":\"FactorRange\",\"id\":\"d930da17-6a59-4212-b7e2-6c302817c5a5\",\"attributes\":{\"name\":\"post_str_b2\",\"tags\":[[[\"post_str_b2\",null]],[]],\"factors\":[\"09\",\"08\",\"04\",\"07\",\"10\",\"12\",\"15\",\"17\",\"11\",\"16\",\"13\",\"06\",\"05\",\"14\",\"19\",\"18\",\"02\",\"03\",\"25\",\"26\",\"23\",\"20\",\"21\",\"24\",\"22\",\"28\",\"29\"]}},\"y_range\":{\"type\":\"object\",\"name\":\"Range1d\",\"id\":\"affd254d-9f25-442a-aea8-5b344e336818\",\"attributes\":{\"name\":\"percent\",\"tags\":[[[\"percent\",null]],{\"type\":\"map\",\"entries\":[[\"invert_yaxis\",false],[\"autorange\",false]]}],\"end\":38.59042553191489,\"reset_start\":0.0,\"reset_end\":38.59042553191489}},\"x_scale\":{\"type\":\"object\",\"name\":\"CategoricalScale\",\"id\":\"d1d005f2-4135-43a1-9aad-fc3cea114dde\"},\"y_scale\":{\"type\":\"object\",\"name\":\"LinearScale\",\"id\":\"6d522c00-6391-414e-a092-b3b167d99285\"},\"title\":{\"type\":\"object\",\"name\":\"Title\",\"id\":\"0a9bd96d-2eae-47f5-93a7-8b6882aa1eaa\",\"attributes\":{\"text_color\":\"black\",\"text_font_size\":\"12pt\"}},\"renderers\":[{\"type\":\"object\",\"name\":\"GlyphRenderer\",\"id\":\"feddbe7a-5878-430c-aa3f-868d5b013f8f\",\"attributes\":{\"data_source\":{\"type\":\"object\",\"name\":\"ColumnDataSource\",\"id\":\"24c8367c-fd84-4bf7-a9f8-fdd9f507f8f5\",\"attributes\":{\"selected\":{\"type\":\"object\",\"name\":\"Selection\",\"id\":\"130385ac-845b-480a-af37-740e301ea768\",\"attributes\":{\"indices\":[],\"line_indices\":[]}},\"selection_policy\":{\"type\":\"object\",\"name\":\"UnionRenderers\",\"id\":\"288da838-419f-429e-b5bc-d8d855883941\"},\"data\":{\"type\":\"map\",\"entries\":[[\"post_str_b2\",[\"09\",\"08\",\"04\",\"07\",\"10\",\"12\",\"15\",\"17\",\"11\",\"16\",\"13\",\"06\",\"05\",\"14\",\"19\",\"18\",\"02\",\"03\",\"25\",\"26\",\"23\",\"20\",\"21\",\"24\",\"22\",\"28\",\"29\"]],[\"percent\",{\"type\":\"ndarray\",\"array\":{\"type\":\"bytes\",\"data\":\"6jsb9Z2NQUBBTK4gJlcWQPWdjfrORhVAXUFMriAmE0AQkyuIyRUSQMTkCmJyBRFA8GzUdzbqD0BXEJMriMkNQL+zUd/ZqAtAv7NR39moC0AmVxCTK4gJQI76zkZ9ZwdAjvrORn1nB0CO+s5GfWcHQF1BTK4gJgNAVxCTK4jJ/T9XEJMriMn9PyZXEJMriPk/xOQKYnIF8T8mVxCTK4jpPyZXEJMriOk/JlcQkyuI6T8mVxCTK4jpPyZXEJMriOk/xOQKYnIF4T/E5ApicgXRP8TkCmJyBdE/\"},\"shape\":[27],\"dtype\":\"float64\",\"order\":\"little\"}]]}}},\"view\":{\"type\":\"object\",\"name\":\"CDSView\",\"id\":\"790c60fd-093f-44e0-8d51-d42bf4a0c7f8\",\"attributes\":{\"filter\":{\"type\":\"object\",\"name\":\"AllIndices\",\"id\":\"16a3b5f6-9d85-4305-8ddb-4ea383b71529\"}}},\"glyph\":{\"type\":\"object\",\"name\":\"VBar\",\"id\":\"0d6a28fb-8458-4335-8fde-b7ee298e4ad5\",\"attributes\":{\"tags\":[\"apply_ranges\"],\"x\":{\"type\":\"field\",\"field\":\"post_str_b2\"},\"width\":{\"type\":\"value\",\"value\":0.8},\"top\":{\"type\":\"field\",\"field\":\"percent\"},\"fill_color\":{\"type\":\"value\",\"value\":\"#30a2da\"},\"hatch_color\":{\"type\":\"value\",\"value\":\"#30a2da\"}}},\"selection_glyph\":{\"type\":\"object\",\"name\":\"VBar\",\"id\":\"ba95cab1-e974-42b8-9642-63f1ff4073d1\",\"attributes\":{\"tags\":[\"apply_ranges\"],\"x\":{\"type\":\"field\",\"field\":\"post_str_b2\"},\"width\":{\"type\":\"value\",\"value\":0.8},\"bottom\":{\"type\":\"value\",\"value\":0},\"top\":{\"type\":\"field\",\"field\":\"percent\"},\"line_color\":{\"type\":\"value\",\"value\":\"black\"},\"line_alpha\":{\"type\":\"value\",\"value\":1.0},\"line_width\":{\"type\":\"value\",\"value\":1},\"line_join\":{\"type\":\"value\",\"value\":\"bevel\"},\"line_cap\":{\"type\":\"value\",\"value\":\"butt\"},\"line_dash\":{\"type\":\"value\",\"value\":[]},\"line_dash_offset\":{\"type\":\"value\",\"value\":0},\"fill_color\":{\"type\":\"value\",\"value\":\"#30a2da\"},\"fill_alpha\":{\"type\":\"value\",\"value\":1.0},\"hatch_color\":{\"type\":\"value\",\"value\":\"#30a2da\"},\"hatch_alpha\":{\"type\":\"value\",\"value\":1.0},\"hatch_scale\":{\"type\":\"value\",\"value\":12.0},\"hatch_pattern\":{\"type\":\"value\",\"value\":null},\"hatch_weight\":{\"type\":\"value\",\"value\":1.0}}},\"nonselection_glyph\":{\"type\":\"object\",\"name\":\"VBar\",\"id\":\"b33091cf-e2ce-4086-981a-5d69c5eb6d9a\",\"attributes\":{\"tags\":[\"apply_ranges\"],\"x\":{\"type\":\"field\",\"field\":\"post_str_b2\"},\"width\":{\"type\":\"value\",\"value\":0.8},\"top\":{\"type\":\"field\",\"field\":\"percent\"},\"line_alpha\":{\"type\":\"value\",\"value\":0.1},\"fill_color\":{\"type\":\"value\",\"value\":\"#30a2da\"},\"fill_alpha\":{\"type\":\"value\",\"value\":0.1},\"hatch_color\":{\"type\":\"value\",\"value\":\"#30a2da\"},\"hatch_alpha\":{\"type\":\"value\",\"value\":0.1}}},\"muted_glyph\":{\"type\":\"object\",\"name\":\"VBar\",\"id\":\"6b41f27c-84f4-4da1-8656-f9a64922303c\",\"attributes\":{\"tags\":[\"apply_ranges\"],\"x\":{\"type\":\"field\",\"field\":\"post_str_b2\"},\"width\":{\"type\":\"value\",\"value\":0.8},\"top\":{\"type\":\"field\",\"field\":\"percent\"},\"line_alpha\":{\"type\":\"value\",\"value\":0.2},\"fill_color\":{\"type\":\"value\",\"value\":\"#30a2da\"},\"fill_alpha\":{\"type\":\"value\",\"value\":0.2},\"hatch_color\":{\"type\":\"value\",\"value\":\"#30a2da\"},\"hatch_alpha\":{\"type\":\"value\",\"value\":0.2}}}}},{\"type\":\"object\",\"name\":\"Span\",\"id\":\"669be56d-6a3b-4829-a654-3994dece4e90\",\"attributes\":{\"level\":\"glyph\",\"location\":3.703703703703703,\"line_color\":\"red\",\"line_width\":3}},{\"type\":\"object\",\"name\":\"Span\",\"id\":\"e4503882-3133-433a-80c8-1f36a3ede174\",\"attributes\":{\"level\":\"glyph\",\"location\":5.5555555555555545,\"line_color\":\"blue\",\"line_width\":3}},{\"type\":\"object\",\"name\":\"Span\",\"id\":\"e7702123-c090-4103-9706-8a079083238c\",\"attributes\":{\"level\":\"glyph\",\"location\":1.8518518518518514,\"line_color\":\"blue\",\"line_width\":3}}],\"toolbar\":{\"type\":\"object\",\"name\":\"Toolbar\",\"id\":\"62f29378-45a6-47d8-bba5-941ffb6f83bf\",\"attributes\":{\"tools\":[{\"type\":\"object\",\"name\":\"WheelZoomTool\",\"id\":\"56bcd3d3-aaf1-4ddf-ba2e-b3dd8e12d824\",\"attributes\":{\"tags\":[\"hv_created\"],\"renderers\":\"auto\",\"zoom_together\":\"none\"}},{\"type\":\"object\",\"name\":\"HoverTool\",\"id\":\"7f0f9d78-e26e-443a-9693-ef0390cbac47\",\"attributes\":{\"tags\":[\"hv_created\"],\"renderers\":[{\"id\":\"feddbe7a-5878-430c-aa3f-868d5b013f8f\"}],\"tooltips\":[[\"post_str_b2\",\"@{post_str_b2}\"],[\"percent\",\"@{percent}\"]]}},{\"type\":\"object\",\"name\":\"SaveTool\",\"id\":\"8a5d7a53-8112-45cf-b248-c91de6cd60ab\"},{\"type\":\"object\",\"name\":\"PanTool\",\"id\":\"73601d39-6849-4796-ab18-d3cc969d7aba\"},{\"type\":\"object\",\"name\":\"BoxZoomTool\",\"id\":\"47ae6396-7b6f-4419-b936-c8691253fa74\",\"attributes\":{\"dimensions\":\"both\",\"overlay\":{\"type\":\"object\",\"name\":\"BoxAnnotation\",\"id\":\"a07bc725-7e1e-4e4b-a978-42c17795b582\",\"attributes\":{\"syncable\":false,\"line_color\":\"black\",\"line_alpha\":1.0,\"line_width\":2,\"line_dash\":[4,4],\"fill_color\":\"lightgrey\",\"fill_alpha\":0.5,\"level\":\"overlay\",\"visible\":false,\"left\":{\"type\":\"number\",\"value\":\"nan\"},\"right\":{\"type\":\"number\",\"value\":\"nan\"},\"top\":{\"type\":\"number\",\"value\":\"nan\"},\"bottom\":{\"type\":\"number\",\"value\":\"nan\"},\"left_units\":\"canvas\",\"right_units\":\"canvas\",\"top_units\":\"canvas\",\"bottom_units\":\"canvas\",\"handles\":{\"type\":\"object\",\"name\":\"BoxInteractionHandles\",\"id\":\"4c48f29a-e3d3-45e7-91e9-9364a9d81c4b\",\"attributes\":{\"all\":{\"type\":\"object\",\"name\":\"AreaVisuals\",\"id\":\"f88229e4-28c4-4af6-9359-5646566a7465\",\"attributes\":{\"fill_color\":\"white\",\"hover_fill_color\":\"lightgray\"}}}}}}}},{\"type\":\"object\",\"name\":\"ResetTool\",\"id\":\"0e27840e-8229-4eb1-95b4-7ff90a8ac992\"}],\"active_drag\":{\"id\":\"73601d39-6849-4796-ab18-d3cc969d7aba\"}}},\"left\":[{\"type\":\"object\",\"name\":\"LinearAxis\",\"id\":\"df447275-2083-4f38-9f36-fc59bac11e89\",\"attributes\":{\"ticker\":{\"type\":\"object\",\"name\":\"BasicTicker\",\"id\":\"5b7ba47e-d407-4663-95f2-c0bd3f790ebd\",\"attributes\":{\"mantissas\":[1,2,5]}},\"formatter\":{\"type\":\"object\",\"name\":\"BasicTickFormatter\",\"id\":\"7a29700a-5eb3-4ed4-b0ae-086a989c6091\"},\"axis_label\":\"percent\",\"major_label_policy\":{\"type\":\"object\",\"name\":\"AllLabels\",\"id\":\"67376b29-c567-4ae4-9e79-06f0a121ac10\"}}}],\"below\":[{\"type\":\"object\",\"name\":\"CategoricalAxis\",\"id\":\"40b8abd3-6e29-4f83-abc2-9ef0ec458863\",\"attributes\":{\"ticker\":{\"type\":\"object\",\"name\":\"CategoricalTicker\",\"id\":\"3f5710f6-70d6-4064-952e-f8363192e344\"},\"formatter\":{\"type\":\"object\",\"name\":\"CategoricalTickFormatter\",\"id\":\"8fd166df-d826-44f2-b092-0a12b60f97a1\"},\"axis_label\":\"post_str_b2\",\"major_label_policy\":{\"type\":\"object\",\"name\":\"AllLabels\",\"id\":\"a22fd621-4434-43ff-a44f-5b86e8089bff\"}}}],\"center\":[{\"type\":\"object\",\"name\":\"Grid\",\"id\":\"290a50ec-7775-4268-ab6a-5bd9d650d4e9\",\"attributes\":{\"axis\":{\"id\":\"40b8abd3-6e29-4f83-abc2-9ef0ec458863\"},\"grid_line_color\":null}},{\"type\":\"object\",\"name\":\"Grid\",\"id\":\"df5f4307-4d76-471c-b005-1493afeb1a37\",\"attributes\":{\"dimension\":1,\"axis\":{\"id\":\"df447275-2083-4f38-9f36-fc59bac11e89\"},\"grid_line_color\":null}}],\"min_border_top\":10,\"min_border_bottom\":10,\"min_border_left\":10,\"min_border_right\":10,\"output_backend\":\"webgl\"}},{\"type\":\"object\",\"name\":\"Spacer\",\"id\":\"c192afd7-5573-48c5-ac7f-3b0877ac1a95\",\"attributes\":{\"name\":\"HSpacer00362\",\"stylesheets\":[\"\\n:host(.pn-loading):before, .pn-loading:before {\\n  background-color: #c3c3c3;\\n  mask-size: auto calc(min(50%, 400px));\\n  -webkit-mask-size: auto calc(min(50%, 400px));\\n}\",{\"id\":\"65f16191-3db0-4179-92fd-0c74e72009d7\"},{\"id\":\"6721e05b-1dfb-4755-8baa-f10af44552e6\"},{\"id\":\"6b5513da-6470-4b7c-ac80-ef24c1d2f21b\"}],\"margin\":0,\"sizing_mode\":\"stretch_width\",\"align\":\"start\"}}]}}],\"defs\":[{\"type\":\"model\",\"name\":\"ReactiveHTML1\"},{\"type\":\"model\",\"name\":\"FlexBox1\",\"properties\":[{\"name\":\"align_content\",\"kind\":\"Any\",\"default\":\"flex-start\"},{\"name\":\"align_items\",\"kind\":\"Any\",\"default\":\"flex-start\"},{\"name\":\"flex_direction\",\"kind\":\"Any\",\"default\":\"row\"},{\"name\":\"flex_wrap\",\"kind\":\"Any\",\"default\":\"wrap\"},{\"name\":\"gap\",\"kind\":\"Any\",\"default\":\"\"},{\"name\":\"justify_content\",\"kind\":\"Any\",\"default\":\"flex-start\"}]},{\"type\":\"model\",\"name\":\"FloatPanel1\",\"properties\":[{\"name\":\"config\",\"kind\":\"Any\",\"default\":{\"type\":\"map\"}},{\"name\":\"contained\",\"kind\":\"Any\",\"default\":true},{\"name\":\"position\",\"kind\":\"Any\",\"default\":\"right-top\"},{\"name\":\"offsetx\",\"kind\":\"Any\",\"default\":null},{\"name\":\"offsety\",\"kind\":\"Any\",\"default\":null},{\"name\":\"theme\",\"kind\":\"Any\",\"default\":\"primary\"},{\"name\":\"status\",\"kind\":\"Any\",\"default\":\"normalized\"}]},{\"type\":\"model\",\"name\":\"GridStack1\",\"properties\":[{\"name\":\"ncols\",\"kind\":\"Any\",\"default\":null},{\"name\":\"nrows\",\"kind\":\"Any\",\"default\":null},{\"name\":\"allow_resize\",\"kind\":\"Any\",\"default\":true},{\"name\":\"allow_drag\",\"kind\":\"Any\",\"default\":true},{\"name\":\"state\",\"kind\":\"Any\",\"default\":[]}]},{\"type\":\"model\",\"name\":\"drag1\",\"properties\":[{\"name\":\"slider_width\",\"kind\":\"Any\",\"default\":5},{\"name\":\"slider_color\",\"kind\":\"Any\",\"default\":\"black\"},{\"name\":\"value\",\"kind\":\"Any\",\"default\":50}]},{\"type\":\"model\",\"name\":\"click1\",\"properties\":[{\"name\":\"terminal_output\",\"kind\":\"Any\",\"default\":\"\"},{\"name\":\"debug_name\",\"kind\":\"Any\",\"default\":\"\"},{\"name\":\"clears\",\"kind\":\"Any\",\"default\":0}]},{\"type\":\"model\",\"name\":\"FastWrapper1\",\"properties\":[{\"name\":\"object\",\"kind\":\"Any\",\"default\":null},{\"name\":\"style\",\"kind\":\"Any\",\"default\":null}]},{\"type\":\"model\",\"name\":\"NotificationArea1\",\"properties\":[{\"name\":\"js_events\",\"kind\":\"Any\",\"default\":{\"type\":\"map\"}},{\"name\":\"max_notifications\",\"kind\":\"Any\",\"default\":5},{\"name\":\"notifications\",\"kind\":\"Any\",\"default\":[]},{\"name\":\"position\",\"kind\":\"Any\",\"default\":\"bottom-right\"},{\"name\":\"_clear\",\"kind\":\"Any\",\"default\":0},{\"name\":\"types\",\"kind\":\"Any\",\"default\":[{\"type\":\"map\",\"entries\":[[\"type\",\"warning\"],[\"background\",\"#ffc107\"],[\"icon\",{\"type\":\"map\",\"entries\":[[\"className\",\"fas fa-exclamation-triangle\"],[\"tagName\",\"i\"],[\"color\",\"white\"]]}]]},{\"type\":\"map\",\"entries\":[[\"type\",\"info\"],[\"background\",\"#007bff\"],[\"icon\",{\"type\":\"map\",\"entries\":[[\"className\",\"fas fa-info-circle\"],[\"tagName\",\"i\"],[\"color\",\"white\"]]}]]}]}]},{\"type\":\"model\",\"name\":\"Notification\",\"properties\":[{\"name\":\"background\",\"kind\":\"Any\",\"default\":null},{\"name\":\"duration\",\"kind\":\"Any\",\"default\":3000},{\"name\":\"icon\",\"kind\":\"Any\",\"default\":null},{\"name\":\"message\",\"kind\":\"Any\",\"default\":\"\"},{\"name\":\"notification_type\",\"kind\":\"Any\",\"default\":null},{\"name\":\"_rendered\",\"kind\":\"Any\",\"default\":false},{\"name\":\"_destroyed\",\"kind\":\"Any\",\"default\":false}]},{\"type\":\"model\",\"name\":\"TemplateActions1\",\"properties\":[{\"name\":\"open_modal\",\"kind\":\"Any\",\"default\":0},{\"name\":\"close_modal\",\"kind\":\"Any\",\"default\":0}]},{\"type\":\"model\",\"name\":\"BootstrapTemplateActions1\",\"properties\":[{\"name\":\"open_modal\",\"kind\":\"Any\",\"default\":0},{\"name\":\"close_modal\",\"kind\":\"Any\",\"default\":0}]},{\"type\":\"model\",\"name\":\"TemplateEditor1\",\"properties\":[{\"name\":\"layout\",\"kind\":\"Any\",\"default\":[]}]},{\"type\":\"model\",\"name\":\"MaterialTemplateActions1\",\"properties\":[{\"name\":\"open_modal\",\"kind\":\"Any\",\"default\":0},{\"name\":\"close_modal\",\"kind\":\"Any\",\"default\":0}]},{\"type\":\"model\",\"name\":\"ReactiveESM1\",\"properties\":[{\"name\":\"esm_constants\",\"kind\":\"Any\",\"default\":{\"type\":\"map\"}}]},{\"type\":\"model\",\"name\":\"JSComponent1\",\"properties\":[{\"name\":\"esm_constants\",\"kind\":\"Any\",\"default\":{\"type\":\"map\"}}]},{\"type\":\"model\",\"name\":\"ReactComponent1\",\"properties\":[{\"name\":\"esm_constants\",\"kind\":\"Any\",\"default\":{\"type\":\"map\"}}]},{\"type\":\"model\",\"name\":\"AnyWidgetComponent1\",\"properties\":[{\"name\":\"esm_constants\",\"kind\":\"Any\",\"default\":{\"type\":\"map\"}}]},{\"type\":\"model\",\"name\":\"request_value1\",\"properties\":[{\"name\":\"fill\",\"kind\":\"Any\",\"default\":\"none\"},{\"name\":\"_synced\",\"kind\":\"Any\",\"default\":null},{\"name\":\"_request_sync\",\"kind\":\"Any\",\"default\":0}]}]}};\n",
       "  var render_items = [{\"docid\":\"b398ab67-91c9-44c2-b218-6c499be5c99c\",\"roots\":{\"56126ace-9b31-4aaa-b4d0-3eb601a16adb\":\"c10b1381-35da-4b45-939f-268f20b27f16\"},\"root_ids\":[\"56126ace-9b31-4aaa-b4d0-3eb601a16adb\"]}];\n",
       "  var docs = Object.values(docs_json)\n",
       "  if (!docs) {\n",
       "    return\n",
       "  }\n",
       "  const py_version = docs[0].version.replace('rc', '-rc.').replace('.dev', '-dev.')\n",
       "  async function embed_document(root) {\n",
       "    var Bokeh = get_bokeh(root)\n",
       "    await Bokeh.embed.embed_items_notebook(docs_json, render_items);\n",
       "    for (const render_item of render_items) {\n",
       "      for (const root_id of render_item.root_ids) {\n",
       "\tconst id_el = document.getElementById(root_id)\n",
       "\tif (id_el.children.length && id_el.children[0].hasAttribute('data-root-id')) {\n",
       "\t  const root_el = id_el.children[0]\n",
       "\t  root_el.id = root_el.id + '-rendered'\n",
       "\t  for (const child of root_el.children) {\n",
       "            // Ensure JupyterLab does not capture keyboard shortcuts\n",
       "            // see: https://jupyterlab.readthedocs.io/en/4.1.x/extension/notebook.html#keyboard-interaction-model\n",
       "\t    child.setAttribute('data-lm-suppress-shortcuts', 'true')\n",
       "\t  }\n",
       "\t}\n",
       "      }\n",
       "    }\n",
       "  }\n",
       "  function get_bokeh(root) {\n",
       "    if (root.Bokeh === undefined) {\n",
       "      return null\n",
       "    } else if (root.Bokeh.version !== py_version) {\n",
       "      if (root.Bokeh.versions === undefined || !root.Bokeh.versions.has(py_version)) {\n",
       "\treturn null\n",
       "      }\n",
       "      return root.Bokeh.versions.get(py_version);\n",
       "    } else if (root.Bokeh.version === py_version) {\n",
       "      return root.Bokeh\n",
       "    }\n",
       "    return null\n",
       "  }\n",
       "  function is_loaded(root) {\n",
       "    var Bokeh = get_bokeh(root)\n",
       "    return (Bokeh != null && Bokeh.Panel !== undefined)\n",
       "  }\n",
       "  if (is_loaded(root)) {\n",
       "    embed_document(root);\n",
       "  } else {\n",
       "    var attempts = 0;\n",
       "    var timer = setInterval(function(root) {\n",
       "      if (is_loaded(root)) {\n",
       "        clearInterval(timer);\n",
       "        embed_document(root);\n",
       "      } else if (document.readyState == \"complete\") {\n",
       "        attempts++;\n",
       "        if (attempts > 200) {\n",
       "          clearInterval(timer);\n",
       "\t  var Bokeh = get_bokeh(root)\n",
       "\t  if (Bokeh == null || Bokeh.Panel == null) {\n",
       "            console.warn(\"Panel: ERROR: Unable to run Panel code because Bokeh or Panel library is missing\");\n",
       "\t  } else {\n",
       "\t    console.warn(\"Panel: WARNING: Attempting to render but not all required libraries could be resolved.\")\n",
       "\t    embed_document(root)\n",
       "\t  }\n",
       "        }\n",
       "      }\n",
       "    }, 25, root)\n",
       "  }\n",
       "})(window);</script>"
      ],
      "text/plain": [
       ":Overlay\n",
       "   .Bars.I    :Bars   [post_str_b2]   (percent)\n",
       "   .HLine.I   :HLine   [x,y]\n",
       "   .HLine.II  :HLine   [x,y]\n",
       "   .HLine.III :HLine   [x,y]"
      ]
     },
     "metadata": {
      "application/vnd.holoviews_exec.v0+json": {
       "id": "56126ace-9b31-4aaa-b4d0-3eb601a16adb"
      }
     },
     "output_type": "display_data"
    },
    {
     "name": "stdout",
     "output_type": "stream",
     "text": [
      "df_10_last FOR str_b2 = 09\n",
      "Last 3 results last_results=['09', '16']\n"
     ]
    },
    {
     "data": {
      "text/html": [
       "<div><style>\n",
       ".dataframe > thead > tr,\n",
       ".dataframe > tbody > tr {\n",
       "  text-align: right;\n",
       "  white-space: pre-wrap;\n",
       "}\n",
       "</style>\n",
       "<small>shape: (10, 30)</small><table border=\"1\" class=\"dataframe\"><thead><tr><th>fecha</th><th>sorteo</th><th>bolillas regulares</th><th>bolillas chauchamba</th><th>cc1</th><th>cc2</th><th>id</th><th>combo</th><th>b1</th><th>b2</th><th>b3</th><th>b4</th><th>b5</th><th>b6</th><th>str_b1</th><th>str_b2</th><th>str_b3</th><th>str_b4</th><th>str_b5</th><th>str_b6</th><th>post_str_b1</th><th>post_str_b2</th><th>post_str_b3</th><th>post_str_b4</th><th>post_str_b5</th><th>post_str_blast</th><th>is_rare_combination</th><th>reason</th><th>jumps_map</th><th>unijump</th></tr><tr><td>str</td><td>str</td><td>str</td><td>str</td><td>str</td><td>str</td><td>str</td><td>array[u8, 6]</td><td>u8</td><td>u8</td><td>u8</td><td>u8</td><td>u8</td><td>u8</td><td>str</td><td>str</td><td>str</td><td>str</td><td>str</td><td>str</td><td>str</td><td>str</td><td>str</td><td>str</td><td>str</td><td>str</td><td>bool</td><td>u8</td><td>str</td><td>i64</td></tr></thead><tbody><tr><td>&quot;26/04/2025&quot;</td><td>&quot;1800&quot;</td><td>&quot;20 35 03 19 09 29&quot;</td><td>&quot;09 17 29 39 31 34&quot;</td><td>&quot;&quot;</td><td>&quot;&quot;</td><td>&quot;030919202935&quot;</td><td>[3, 9, … 35]</td><td>3</td><td>9</td><td>19</td><td>20</td><td>29</td><td>35</td><td>&quot;03&quot;</td><td>&quot;09&quot;</td><td>&quot;19&quot;</td><td>&quot;20&quot;</td><td>&quot;29&quot;</td><td>&quot;35&quot;</td><td>&quot;03&quot;</td><td>&quot;09&quot;</td><td>&quot;19&quot;</td><td>&quot;20&quot;</td><td>&quot;29&quot;</td><td>&quot;35&quot;</td><td>false</td><td>0</td><td>&quot;06_10_01_09_06&quot;</td><td>-58</td></tr><tr><td>&quot;15/03/2025&quot;</td><td>&quot;1782&quot;</td><td>&quot;19 28 03 39 10 09&quot;</td><td>&quot;06 35 12 28 09 18&quot;</td><td>&quot;&quot;</td><td>&quot;&quot;</td><td>&quot;030910192839&quot;</td><td>[3, 9, … 39]</td><td>3</td><td>9</td><td>10</td><td>19</td><td>28</td><td>39</td><td>&quot;03&quot;</td><td>&quot;09&quot;</td><td>&quot;10&quot;</td><td>&quot;19&quot;</td><td>&quot;28&quot;</td><td>&quot;39&quot;</td><td>&quot;12&quot;</td><td>&quot;16&quot;</td><td>&quot;21&quot;</td><td>&quot;22&quot;</td><td>&quot;30&quot;</td><td>&quot;39&quot;</td><td>true</td><td>8</td><td>&quot;06_01_09_09_11&quot;</td><td>31</td></tr><tr><td>&quot;15/03/2025&quot;</td><td>&quot;1782&quot;</td><td>&quot;19 28 03 39 10 09&quot;</td><td>&quot;06 35 12 28 09 18&quot;</td><td>&quot;&quot;</td><td>&quot;&quot;</td><td>&quot;030910192839&quot;</td><td>[3, 9, … 39]</td><td>3</td><td>9</td><td>10</td><td>19</td><td>28</td><td>39</td><td>&quot;03&quot;</td><td>&quot;09&quot;</td><td>&quot;10&quot;</td><td>&quot;19&quot;</td><td>&quot;28&quot;</td><td>&quot;39&quot;</td><td>&quot;03&quot;</td><td>&quot;09&quot;</td><td>&quot;10&quot;</td><td>&quot;19&quot;</td><td>&quot;28&quot;</td><td>&quot;39&quot;</td><td>true</td><td>8</td><td>&quot;06_01_09_09_11&quot;</td><td>31</td></tr><tr><td>&quot;08/03/2025&quot;</td><td>&quot;1779&quot;</td><td>&quot;14 07 39 23 30 09&quot;</td><td>&quot;33 08 10 36 32 09&quot;</td><td>&quot;&quot;</td><td>&quot;&quot;</td><td>&quot;070914233039&quot;</td><td>[7, 9, … 39]</td><td>7</td><td>9</td><td>14</td><td>23</td><td>30</td><td>39</td><td>&quot;07&quot;</td><td>&quot;09&quot;</td><td>&quot;14&quot;</td><td>&quot;23&quot;</td><td>&quot;30&quot;</td><td>&quot;39&quot;</td><td>&quot;06&quot;</td><td>&quot;10&quot;</td><td>&quot;12&quot;</td><td>&quot;15&quot;</td><td>&quot;34&quot;</td><td>&quot;39&quot;</td><td>false</td><td>0</td><td>&quot;02_05_09_07_09&quot;</td><td>17</td></tr><tr><td>&quot;08/03/2025&quot;</td><td>&quot;1779&quot;</td><td>&quot;14 07 39 23 30 09&quot;</td><td>&quot;33 08 10 36 32 09&quot;</td><td>&quot;&quot;</td><td>&quot;&quot;</td><td>&quot;070914233039&quot;</td><td>[7, 9, … 39]</td><td>7</td><td>9</td><td>14</td><td>23</td><td>30</td><td>39</td><td>&quot;07&quot;</td><td>&quot;09&quot;</td><td>&quot;14&quot;</td><td>&quot;23&quot;</td><td>&quot;30&quot;</td><td>&quot;39&quot;</td><td>&quot;07&quot;</td><td>&quot;09&quot;</td><td>&quot;14&quot;</td><td>&quot;23&quot;</td><td>&quot;30&quot;</td><td>&quot;39&quot;</td><td>false</td><td>0</td><td>&quot;02_05_09_07_09&quot;</td><td>17</td></tr><tr><td>&quot;31/12/2024&quot;</td><td>&quot;1750&quot;</td><td>&quot;28 25 09 30 12 04&quot;</td><td>&quot;23 12 25 39 24 32&quot;</td><td>&quot;&quot;</td><td>&quot;&quot;</td><td>&quot;040912252830&quot;</td><td>[4, 9, … 30]</td><td>4</td><td>9</td><td>12</td><td>25</td><td>28</td><td>30</td><td>&quot;04&quot;</td><td>&quot;09&quot;</td><td>&quot;12&quot;</td><td>&quot;25&quot;</td><td>&quot;28&quot;</td><td>&quot;30&quot;</td><td>&quot;01&quot;</td><td>&quot;10&quot;</td><td>&quot;16&quot;</td><td>&quot;24&quot;</td><td>&quot;34&quot;</td><td>&quot;35&quot;</td><td>false</td><td>0</td><td>&quot;05_03_13_03_02&quot;</td><td>61</td></tr><tr><td>&quot;31/12/2024&quot;</td><td>&quot;1750&quot;</td><td>&quot;28 25 09 30 12 04&quot;</td><td>&quot;23 12 25 39 24 32&quot;</td><td>&quot;&quot;</td><td>&quot;&quot;</td><td>&quot;040912252830&quot;</td><td>[4, 9, … 30]</td><td>4</td><td>9</td><td>12</td><td>25</td><td>28</td><td>30</td><td>&quot;04&quot;</td><td>&quot;09&quot;</td><td>&quot;12&quot;</td><td>&quot;25&quot;</td><td>&quot;28&quot;</td><td>&quot;30&quot;</td><td>&quot;04&quot;</td><td>&quot;09&quot;</td><td>&quot;12&quot;</td><td>&quot;25&quot;</td><td>&quot;28&quot;</td><td>&quot;30&quot;</td><td>false</td><td>0</td><td>&quot;05_03_13_03_02&quot;</td><td>61</td></tr><tr><td>&quot;12/11/2024&quot;</td><td>&quot;1729&quot;</td><td>&quot;34 33 38 01 10 09&quot;</td><td>&quot;07 33 35 31 26 22&quot;</td><td>&quot;&quot;</td><td>&quot;&quot;</td><td>&quot;010910333438&quot;</td><td>[1, 9, … 38]</td><td>1</td><td>9</td><td>10</td><td>33</td><td>34</td><td>38</td><td>&quot;01&quot;</td><td>&quot;09&quot;</td><td>&quot;10&quot;</td><td>&quot;33&quot;</td><td>&quot;34&quot;</td><td>&quot;38&quot;</td><td>&quot;06&quot;</td><td>&quot;10&quot;</td><td>&quot;14&quot;</td><td>&quot;19&quot;</td><td>&quot;20&quot;</td><td>&quot;27&quot;</td><td>true</td><td>16</td><td>&quot;08_01_23_01_04&quot;</td><td>142</td></tr><tr><td>&quot;12/11/2024&quot;</td><td>&quot;1729&quot;</td><td>&quot;34 33 38 01 10 09&quot;</td><td>&quot;07 33 35 31 26 22&quot;</td><td>&quot;&quot;</td><td>&quot;&quot;</td><td>&quot;010910333438&quot;</td><td>[1, 9, … 38]</td><td>1</td><td>9</td><td>10</td><td>33</td><td>34</td><td>38</td><td>&quot;01&quot;</td><td>&quot;09&quot;</td><td>&quot;10&quot;</td><td>&quot;33&quot;</td><td>&quot;34&quot;</td><td>&quot;38&quot;</td><td>&quot;01&quot;</td><td>&quot;09&quot;</td><td>&quot;10&quot;</td><td>&quot;33&quot;</td><td>&quot;34&quot;</td><td>&quot;38&quot;</td><td>true</td><td>16</td><td>&quot;08_01_23_01_04&quot;</td><td>142</td></tr><tr><td>&quot;07/11/2024&quot;</td><td>&quot;1727&quot;</td><td>&quot;15 36 22 09 04 13&quot;</td><td>&quot;32 06 23 01 11 39&quot;</td><td>&quot;&quot;</td><td>&quot;&quot;</td><td>&quot;040913152236&quot;</td><td>[4, 9, … 36]</td><td>4</td><td>9</td><td>13</td><td>15</td><td>22</td><td>36</td><td>&quot;04&quot;</td><td>&quot;09&quot;</td><td>&quot;13&quot;</td><td>&quot;15&quot;</td><td>&quot;22&quot;</td><td>&quot;36&quot;</td><td>&quot;07&quot;</td><td>&quot;10&quot;</td><td>&quot;20&quot;</td><td>&quot;24&quot;</td><td>&quot;26&quot;</td><td>&quot;35&quot;</td><td>false</td><td>0</td><td>&quot;05_04_02_07_14&quot;</td><td>-13</td></tr></tbody></table></div>"
      ],
      "text/plain": [
       "shape: (10, 30)\n",
       "┌────────────┬────────┬─────────────┬─────────────┬───┬────────────┬────────┬────────────┬─────────┐\n",
       "│ fecha      ┆ sorteo ┆ bolillas    ┆ bolillas    ┆ … ┆ is_rare_co ┆ reason ┆ jumps_map  ┆ unijump │\n",
       "│ ---        ┆ ---    ┆ regulares   ┆ chauchamba  ┆   ┆ mbination  ┆ ---    ┆ ---        ┆ ---     │\n",
       "│ str        ┆ str    ┆ ---         ┆ ---         ┆   ┆ ---        ┆ u8     ┆ str        ┆ i64     │\n",
       "│            ┆        ┆ str         ┆ str         ┆   ┆ bool       ┆        ┆            ┆         │\n",
       "╞════════════╪════════╪═════════════╪═════════════╪═══╪════════════╪════════╪════════════╪═════════╡\n",
       "│ 26/04/2025 ┆ 1800   ┆ 20 35 03 19 ┆ 09 17 29 39 ┆ … ┆ false      ┆ 0      ┆ 06_10_01_0 ┆ -58     │\n",
       "│            ┆        ┆ 09 29       ┆ 31 34       ┆   ┆            ┆        ┆ 9_06       ┆         │\n",
       "│ 15/03/2025 ┆ 1782   ┆ 19 28 03 39 ┆ 06 35 12 28 ┆ … ┆ true       ┆ 8      ┆ 06_01_09_0 ┆ 31      │\n",
       "│            ┆        ┆ 10 09       ┆ 09 18       ┆   ┆            ┆        ┆ 9_11       ┆         │\n",
       "│ 15/03/2025 ┆ 1782   ┆ 19 28 03 39 ┆ 06 35 12 28 ┆ … ┆ true       ┆ 8      ┆ 06_01_09_0 ┆ 31      │\n",
       "│            ┆        ┆ 10 09       ┆ 09 18       ┆   ┆            ┆        ┆ 9_11       ┆         │\n",
       "│ 08/03/2025 ┆ 1779   ┆ 14 07 39 23 ┆ 33 08 10 36 ┆ … ┆ false      ┆ 0      ┆ 02_05_09_0 ┆ 17      │\n",
       "│            ┆        ┆ 30 09       ┆ 32 09       ┆   ┆            ┆        ┆ 7_09       ┆         │\n",
       "│ 08/03/2025 ┆ 1779   ┆ 14 07 39 23 ┆ 33 08 10 36 ┆ … ┆ false      ┆ 0      ┆ 02_05_09_0 ┆ 17      │\n",
       "│            ┆        ┆ 30 09       ┆ 32 09       ┆   ┆            ┆        ┆ 7_09       ┆         │\n",
       "│ 31/12/2024 ┆ 1750   ┆ 28 25 09 30 ┆ 23 12 25 39 ┆ … ┆ false      ┆ 0      ┆ 05_03_13_0 ┆ 61      │\n",
       "│            ┆        ┆ 12 04       ┆ 24 32       ┆   ┆            ┆        ┆ 3_02       ┆         │\n",
       "│ 31/12/2024 ┆ 1750   ┆ 28 25 09 30 ┆ 23 12 25 39 ┆ … ┆ false      ┆ 0      ┆ 05_03_13_0 ┆ 61      │\n",
       "│            ┆        ┆ 12 04       ┆ 24 32       ┆   ┆            ┆        ┆ 3_02       ┆         │\n",
       "│ 12/11/2024 ┆ 1729   ┆ 34 33 38 01 ┆ 07 33 35 31 ┆ … ┆ true       ┆ 16     ┆ 08_01_23_0 ┆ 142     │\n",
       "│            ┆        ┆ 10 09       ┆ 26 22       ┆   ┆            ┆        ┆ 1_04       ┆         │\n",
       "│ 12/11/2024 ┆ 1729   ┆ 34 33 38 01 ┆ 07 33 35 31 ┆ … ┆ true       ┆ 16     ┆ 08_01_23_0 ┆ 142     │\n",
       "│            ┆        ┆ 10 09       ┆ 26 22       ┆   ┆            ┆        ┆ 1_04       ┆         │\n",
       "│ 07/11/2024 ┆ 1727   ┆ 15 36 22 09 ┆ 32 06 23 01 ┆ … ┆ false      ┆ 0      ┆ 05_04_02_0 ┆ -13     │\n",
       "│            ┆        ┆ 04 13       ┆ 11 39       ┆   ┆            ┆        ┆ 7_14       ┆         │\n",
       "└────────────┴────────┴─────────────┴─────────────┴───┴────────────┴────────┴────────────┴─────────┘"
      ]
     },
     "metadata": {},
     "output_type": "display_data"
    },
    {
     "name": "stdout",
     "output_type": "stream",
     "text": [
      "df_jumps_map FOR str_b2 = 09\n"
     ]
    },
    {
     "data": {
      "text/html": [
       "<div><style>\n",
       ".dataframe > thead > tr,\n",
       ".dataframe > tbody > tr {\n",
       "  text-align: right;\n",
       "  white-space: pre-wrap;\n",
       "}\n",
       "</style>\n",
       "<small>shape: (259, 2)</small><table border=\"1\" class=\"dataframe\"><thead><tr><th>jumps_map</th><th>count</th></tr><tr><td>str</td><td>u32</td></tr></thead><tbody><tr><td>&quot;07_01_17_01_08&quot;</td><td>2</td></tr><tr><td>&quot;05_02_02_11_15&quot;</td><td>2</td></tr><tr><td>&quot;04_01_01_04_02&quot;</td><td>2</td></tr><tr><td>&quot;08_01_08_11_07&quot;</td><td>2</td></tr><tr><td>&quot;01_04_06_07_04&quot;</td><td>2</td></tr><tr><td>&hellip;</td><td>&hellip;</td></tr><tr><td>&quot;02_03_02_12_11&quot;</td><td>1</td></tr><tr><td>&quot;04_13_03_05_10&quot;</td><td>1</td></tr><tr><td>&quot;01_04_19_03_01&quot;</td><td>1</td></tr><tr><td>&quot;06_01_04_20_02&quot;</td><td>1</td></tr><tr><td>&quot;06_21_02_01_07&quot;</td><td>1</td></tr></tbody></table></div>"
      ],
      "text/plain": [
       "shape: (259, 2)\n",
       "┌────────────────┬───────┐\n",
       "│ jumps_map      ┆ count │\n",
       "│ ---            ┆ ---   │\n",
       "│ str            ┆ u32   │\n",
       "╞════════════════╪═══════╡\n",
       "│ 07_01_17_01_08 ┆ 2     │\n",
       "│ 05_02_02_11_15 ┆ 2     │\n",
       "│ 04_01_01_04_02 ┆ 2     │\n",
       "│ 08_01_08_11_07 ┆ 2     │\n",
       "│ 01_04_06_07_04 ┆ 2     │\n",
       "│ …              ┆ …     │\n",
       "│ 02_03_02_12_11 ┆ 1     │\n",
       "│ 04_13_03_05_10 ┆ 1     │\n",
       "│ 01_04_19_03_01 ┆ 1     │\n",
       "│ 06_01_04_20_02 ┆ 1     │\n",
       "│ 06_21_02_01_07 ┆ 1     │\n",
       "└────────────────┴───────┘"
      ]
     },
     "metadata": {},
     "output_type": "display_data"
    },
    {
     "name": "stdout",
     "output_type": "stream",
     "text": [
      "df_unijump FOR str_b2 = 09\n"
     ]
    },
    {
     "data": {
      "text/html": [
       "<div><style>\n",
       ".dataframe > thead > tr,\n",
       ".dataframe > tbody > tr {\n",
       "  text-align: right;\n",
       "  white-space: pre-wrap;\n",
       "}\n",
       "</style>\n",
       "<small>shape: (138, 2)</small><table border=\"1\" class=\"dataframe\"><thead><tr><th>unijump</th><th>count</th></tr><tr><td>i64</td><td>u32</td></tr></thead><tbody><tr><td>17</td><td>9</td></tr><tr><td>-15</td><td>8</td></tr><tr><td>2</td><td>8</td></tr><tr><td>-3</td><td>7</td></tr><tr><td>18</td><td>6</td></tr><tr><td>&hellip;</td><td>&hellip;</td></tr><tr><td>16</td><td>1</td></tr><tr><td>-99</td><td>1</td></tr><tr><td>105</td><td>1</td></tr><tr><td>67</td><td>1</td></tr><tr><td>86</td><td>1</td></tr></tbody></table></div>"
      ],
      "text/plain": [
       "shape: (138, 2)\n",
       "┌─────────┬───────┐\n",
       "│ unijump ┆ count │\n",
       "│ ---     ┆ ---   │\n",
       "│ i64     ┆ u32   │\n",
       "╞═════════╪═══════╡\n",
       "│ 17      ┆ 9     │\n",
       "│ -15     ┆ 8     │\n",
       "│ 2       ┆ 8     │\n",
       "│ -3      ┆ 7     │\n",
       "│ 18      ┆ 6     │\n",
       "│ …       ┆ …     │\n",
       "│ 16      ┆ 1     │\n",
       "│ -99     ┆ 1     │\n",
       "│ 105     ┆ 1     │\n",
       "│ 67      ┆ 1     │\n",
       "│ 86      ┆ 1     │\n",
       "└─────────┴───────┘"
      ]
     },
     "metadata": {},
     "output_type": "display_data"
    }
   ],
   "source": [
    "possible_b2, exclude_jump_maps_b2, last_post_b2 = plot_post_col(col='str_b2', post_col='post_str_b2')"
   ]
  },
  {
   "cell_type": "code",
   "execution_count": 9,
   "metadata": {},
   "outputs": [
    {
     "name": "stdout",
     "output_type": "stream",
     "text": [
      "Setting test_value='19'\n",
      "df_viz FOR str_b3 = 19\n"
     ]
    },
    {
     "data": {
      "text/html": [
       "<div><style>\n",
       ".dataframe > thead > tr,\n",
       ".dataframe > tbody > tr {\n",
       "  text-align: right;\n",
       "  white-space: pre-wrap;\n",
       "}\n",
       "</style>\n",
       "<small>shape: (29, 3)</small><table border=\"1\" class=\"dataframe\"><thead><tr><th>post_str_b3</th><th>count</th><th>percent</th></tr><tr><td>str</td><td>u32</td><td>f64</td></tr></thead><tbody><tr><td>&quot;19&quot;</td><td>109</td><td>37.201365</td></tr><tr><td>&quot;22&quot;</td><td>15</td><td>5.119454</td></tr><tr><td>&quot;18&quot;</td><td>13</td><td>4.43686</td></tr><tr><td>&quot;16&quot;</td><td>12</td><td>4.095563</td></tr><tr><td>&quot;11&quot;</td><td>11</td><td>3.754266</td></tr><tr><td>&hellip;</td><td>&hellip;</td><td>&hellip;</td></tr><tr><td>&quot;32&quot;</td><td>2</td><td>0.682594</td></tr><tr><td>&quot;34&quot;</td><td>2</td><td>0.682594</td></tr><tr><td>&quot;04&quot;</td><td>1</td><td>0.341297</td></tr><tr><td>&quot;06&quot;</td><td>1</td><td>0.341297</td></tr><tr><td>&quot;05&quot;</td><td>1</td><td>0.341297</td></tr></tbody></table></div>"
      ],
      "text/plain": [
       "shape: (29, 3)\n",
       "┌─────────────┬───────┬───────────┐\n",
       "│ post_str_b3 ┆ count ┆ percent   │\n",
       "│ ---         ┆ ---   ┆ ---       │\n",
       "│ str         ┆ u32   ┆ f64       │\n",
       "╞═════════════╪═══════╪═══════════╡\n",
       "│ 19          ┆ 109   ┆ 37.201365 │\n",
       "│ 22          ┆ 15    ┆ 5.119454  │\n",
       "│ 18          ┆ 13    ┆ 4.43686   │\n",
       "│ 16          ┆ 12    ┆ 4.095563  │\n",
       "│ 11          ┆ 11    ┆ 3.754266  │\n",
       "│ …           ┆ …     ┆ …         │\n",
       "│ 32          ┆ 2     ┆ 0.682594  │\n",
       "│ 34          ┆ 2     ┆ 0.682594  │\n",
       "│ 04          ┆ 1     ┆ 0.341297  │\n",
       "│ 06          ┆ 1     ┆ 0.341297  │\n",
       "│ 05          ┆ 1     ┆ 0.341297  │\n",
       "└─────────────┴───────┴───────────┘"
      ]
     },
     "metadata": {},
     "output_type": "display_data"
    },
    {
     "data": {},
     "metadata": {},
     "output_type": "display_data"
    },
    {
     "data": {
      "application/vnd.holoviews_exec.v0+json": "",
      "text/html": [
       "<div id='09702618-9a1b-46fe-9afe-2ce5bca32838'>\n",
       "  <div id=\"f54b9abd-d049-4ea2-a18b-74ac8160f360\" data-root-id=\"09702618-9a1b-46fe-9afe-2ce5bca32838\" style=\"display: contents;\"></div>\n",
       "</div>\n",
       "<script type=\"application/javascript\">(function(root) {\n",
       "  var docs_json = {\"57876a17-a2a2-4ec5-bae3-041d71171c31\":{\"version\":\"3.7.2\",\"title\":\"Bokeh Application\",\"roots\":[{\"type\":\"object\",\"name\":\"Row\",\"id\":\"09702618-9a1b-46fe-9afe-2ce5bca32838\",\"attributes\":{\"name\":\"Row00428\",\"tags\":[\"embedded\"],\"stylesheets\":[\"\\n:host(.pn-loading):before, .pn-loading:before {\\n  background-color: #c3c3c3;\\n  mask-size: auto calc(min(50%, 400px));\\n  -webkit-mask-size: auto calc(min(50%, 400px));\\n}\",{\"type\":\"object\",\"name\":\"ImportedStyleSheet\",\"id\":\"741b4fae-ac93-4c16-8543-e54eee61552e\",\"attributes\":{\"url\":\"https://cdn.holoviz.org/panel/1.6.2/dist/css/loading.css\"}},{\"type\":\"object\",\"name\":\"ImportedStyleSheet\",\"id\":\"174a2198-163e-4cc9-b1a9-ef507c4cc62b\",\"attributes\":{\"url\":\"https://cdn.holoviz.org/panel/1.6.2/dist/css/listpanel.css\"}},{\"type\":\"object\",\"name\":\"ImportedStyleSheet\",\"id\":\"1199d14e-a2ad-453e-b668-4904bfe4289b\",\"attributes\":{\"url\":\"https://cdn.holoviz.org/panel/1.6.2/dist/bundled/theme/default.css\"}},{\"type\":\"object\",\"name\":\"ImportedStyleSheet\",\"id\":\"508b3db6-b100-436c-af4f-24bead9f3c7b\",\"attributes\":{\"url\":\"https://cdn.holoviz.org/panel/1.6.2/dist/bundled/theme/native.css\"}}],\"min_width\":700,\"margin\":0,\"sizing_mode\":\"stretch_width\",\"align\":\"start\",\"children\":[{\"type\":\"object\",\"name\":\"Spacer\",\"id\":\"4ff4cf2a-a800-413c-a7b3-e849b216c47b\",\"attributes\":{\"name\":\"HSpacer00432\",\"stylesheets\":[\"\\n:host(.pn-loading):before, .pn-loading:before {\\n  background-color: #c3c3c3;\\n  mask-size: auto calc(min(50%, 400px));\\n  -webkit-mask-size: auto calc(min(50%, 400px));\\n}\",{\"id\":\"741b4fae-ac93-4c16-8543-e54eee61552e\"},{\"id\":\"1199d14e-a2ad-453e-b668-4904bfe4289b\"},{\"id\":\"508b3db6-b100-436c-af4f-24bead9f3c7b\"}],\"margin\":0,\"sizing_mode\":\"stretch_width\",\"align\":\"start\"}},{\"type\":\"object\",\"name\":\"Figure\",\"id\":\"b1540ed9-48e7-416c-a54c-3c6de27be1d1\",\"attributes\":{\"width\":700,\"height\":300,\"margin\":[5,10],\"sizing_mode\":\"fixed\",\"align\":\"start\",\"x_range\":{\"type\":\"object\",\"name\":\"FactorRange\",\"id\":\"c68b0aae-930b-4755-8fe9-b97312bc96da\",\"attributes\":{\"name\":\"post_str_b3\",\"tags\":[[[\"post_str_b3\",null]],[]],\"factors\":[\"19\",\"22\",\"18\",\"16\",\"11\",\"17\",\"10\",\"15\",\"20\",\"21\",\"23\",\"13\",\"07\",\"08\",\"27\",\"25\",\"09\",\"12\",\"24\",\"26\",\"29\",\"28\",\"30\",\"14\",\"32\",\"34\",\"04\",\"06\",\"05\"]}},\"y_range\":{\"type\":\"object\",\"name\":\"Range1d\",\"id\":\"6bb70398-42cd-42cf-9ab3-5f817e033885\",\"attributes\":{\"name\":\"percent\",\"tags\":[[[\"percent\",null]],{\"type\":\"map\",\"entries\":[[\"invert_yaxis\",false],[\"autorange\",false]]}],\"end\":40.88737201365187,\"reset_start\":0.0,\"reset_end\":40.88737201365187}},\"x_scale\":{\"type\":\"object\",\"name\":\"CategoricalScale\",\"id\":\"02a300f6-e9a7-4253-b20e-901f81cb34d2\"},\"y_scale\":{\"type\":\"object\",\"name\":\"LinearScale\",\"id\":\"6567dc2d-cc1f-4b53-9ed7-4ddec61a95dd\"},\"title\":{\"type\":\"object\",\"name\":\"Title\",\"id\":\"d23fb881-1039-4311-9748-5b94763073f7\",\"attributes\":{\"text_color\":\"black\",\"text_font_size\":\"12pt\"}},\"renderers\":[{\"type\":\"object\",\"name\":\"GlyphRenderer\",\"id\":\"e000866e-1b0d-4d8f-b2b4-00fa2df075b3\",\"attributes\":{\"data_source\":{\"type\":\"object\",\"name\":\"ColumnDataSource\",\"id\":\"768b3eab-c688-4193-adf2-1c7739fb1f4d\",\"attributes\":{\"selected\":{\"type\":\"object\",\"name\":\"Selection\",\"id\":\"9e245662-a592-4d6a-a1f7-d2fde617bed8\",\"attributes\":{\"indices\":[],\"line_indices\":[]}},\"selection_policy\":{\"type\":\"object\",\"name\":\"UnionRenderers\",\"id\":\"cb00ebd2-8092-4c8b-a8c7-11b1754ad3c5\"},\"data\":{\"type\":\"map\",\"entries\":[[\"post_str_b3\",[\"19\",\"22\",\"18\",\"16\",\"11\",\"17\",\"10\",\"15\",\"20\",\"21\",\"23\",\"13\",\"07\",\"08\",\"27\",\"25\",\"09\",\"12\",\"24\",\"26\",\"29\",\"28\",\"30\",\"14\",\"32\",\"34\",\"04\",\"06\",\"05\"]],[\"percent\",{\"type\":\"ndarray\",\"array\":{\"type\":\"bytes\",\"data\":\"CuSfVcaZQkCrjDMhUnoUQNlo6D5YvxFA79bCTdthEEANijq5vAgOQA2KOrm8CA5AOmbv1sJNC0A6Zu/Wwk0LQDpm79bCTQtAZ0Kk9MiSCEBnQqT0yJIIQGdCpPTIkghAZ0Kk9MiSCEDC+g0w1RwDQO/Wwk3bYQBA79bCTdthAEDv1sJN22EAQDpm79bCTfs/lR5ZEs/X9T/v1sJN22HwP+/Wwk3bYfA/79bCTdth8D/v1sJN22HwP+/Wwk3bYfA/lR5ZEs/X5T+VHlkSz9flP5UeWRLP19U/lR5ZEs/X1T+VHlkSz9fVPw==\"},\"shape\":[29],\"dtype\":\"float64\",\"order\":\"little\"}]]}}},\"view\":{\"type\":\"object\",\"name\":\"CDSView\",\"id\":\"0c1b72f3-9cce-4797-b9f2-5867312f5f92\",\"attributes\":{\"filter\":{\"type\":\"object\",\"name\":\"AllIndices\",\"id\":\"181d4721-7211-4d3b-ab16-f7feb3cfa931\"}}},\"glyph\":{\"type\":\"object\",\"name\":\"VBar\",\"id\":\"c3da0c14-9a4a-4b69-b102-3ab9c3f2aed2\",\"attributes\":{\"tags\":[\"apply_ranges\"],\"x\":{\"type\":\"field\",\"field\":\"post_str_b3\"},\"width\":{\"type\":\"value\",\"value\":0.8},\"top\":{\"type\":\"field\",\"field\":\"percent\"},\"fill_color\":{\"type\":\"value\",\"value\":\"#30a2da\"},\"hatch_color\":{\"type\":\"value\",\"value\":\"#30a2da\"}}},\"selection_glyph\":{\"type\":\"object\",\"name\":\"VBar\",\"id\":\"831d89fa-9a0d-40e5-8568-2102271ddb13\",\"attributes\":{\"tags\":[\"apply_ranges\"],\"x\":{\"type\":\"field\",\"field\":\"post_str_b3\"},\"width\":{\"type\":\"value\",\"value\":0.8},\"bottom\":{\"type\":\"value\",\"value\":0},\"top\":{\"type\":\"field\",\"field\":\"percent\"},\"line_color\":{\"type\":\"value\",\"value\":\"black\"},\"line_alpha\":{\"type\":\"value\",\"value\":1.0},\"line_width\":{\"type\":\"value\",\"value\":1},\"line_join\":{\"type\":\"value\",\"value\":\"bevel\"},\"line_cap\":{\"type\":\"value\",\"value\":\"butt\"},\"line_dash\":{\"type\":\"value\",\"value\":[]},\"line_dash_offset\":{\"type\":\"value\",\"value\":0},\"fill_color\":{\"type\":\"value\",\"value\":\"#30a2da\"},\"fill_alpha\":{\"type\":\"value\",\"value\":1.0},\"hatch_color\":{\"type\":\"value\",\"value\":\"#30a2da\"},\"hatch_alpha\":{\"type\":\"value\",\"value\":1.0},\"hatch_scale\":{\"type\":\"value\",\"value\":12.0},\"hatch_pattern\":{\"type\":\"value\",\"value\":null},\"hatch_weight\":{\"type\":\"value\",\"value\":1.0}}},\"nonselection_glyph\":{\"type\":\"object\",\"name\":\"VBar\",\"id\":\"59e9a0bd-c679-4ed8-b792-7728ec88fa9d\",\"attributes\":{\"tags\":[\"apply_ranges\"],\"x\":{\"type\":\"field\",\"field\":\"post_str_b3\"},\"width\":{\"type\":\"value\",\"value\":0.8},\"top\":{\"type\":\"field\",\"field\":\"percent\"},\"line_alpha\":{\"type\":\"value\",\"value\":0.1},\"fill_color\":{\"type\":\"value\",\"value\":\"#30a2da\"},\"fill_alpha\":{\"type\":\"value\",\"value\":0.1},\"hatch_color\":{\"type\":\"value\",\"value\":\"#30a2da\"},\"hatch_alpha\":{\"type\":\"value\",\"value\":0.1}}},\"muted_glyph\":{\"type\":\"object\",\"name\":\"VBar\",\"id\":\"67de46e6-b9ef-4d8f-ba7d-a95471aeeb4f\",\"attributes\":{\"tags\":[\"apply_ranges\"],\"x\":{\"type\":\"field\",\"field\":\"post_str_b3\"},\"width\":{\"type\":\"value\",\"value\":0.8},\"top\":{\"type\":\"field\",\"field\":\"percent\"},\"line_alpha\":{\"type\":\"value\",\"value\":0.2},\"fill_color\":{\"type\":\"value\",\"value\":\"#30a2da\"},\"fill_alpha\":{\"type\":\"value\",\"value\":0.2},\"hatch_color\":{\"type\":\"value\",\"value\":\"#30a2da\"},\"hatch_alpha\":{\"type\":\"value\",\"value\":0.2}}}}},{\"type\":\"object\",\"name\":\"Span\",\"id\":\"1c9c9df6-3011-44b6-b409-23b1e2346252\",\"attributes\":{\"level\":\"glyph\",\"location\":3.4482758620689653,\"line_color\":\"red\",\"line_width\":3}},{\"type\":\"object\",\"name\":\"Span\",\"id\":\"1bb1c5dd-5a9d-403c-afb1-325aa6d3eea9\",\"attributes\":{\"level\":\"glyph\",\"location\":5.1724137931034475,\"line_color\":\"blue\",\"line_width\":3}},{\"type\":\"object\",\"name\":\"Span\",\"id\":\"ad7a6fc3-8955-465d-8e52-8476884fb7f9\",\"attributes\":{\"level\":\"glyph\",\"location\":1.7241379310344827,\"line_color\":\"blue\",\"line_width\":3}}],\"toolbar\":{\"type\":\"object\",\"name\":\"Toolbar\",\"id\":\"0a801aa4-b57b-44ed-8db0-b2e524bdacfd\",\"attributes\":{\"tools\":[{\"type\":\"object\",\"name\":\"WheelZoomTool\",\"id\":\"dd3f117c-732b-42b1-a672-8f5a3492b825\",\"attributes\":{\"tags\":[\"hv_created\"],\"renderers\":\"auto\",\"zoom_together\":\"none\"}},{\"type\":\"object\",\"name\":\"HoverTool\",\"id\":\"3605bbe8-3e3f-4b95-b493-70663599aef1\",\"attributes\":{\"tags\":[\"hv_created\"],\"renderers\":[{\"id\":\"e000866e-1b0d-4d8f-b2b4-00fa2df075b3\"}],\"tooltips\":[[\"post_str_b3\",\"@{post_str_b3}\"],[\"percent\",\"@{percent}\"]]}},{\"type\":\"object\",\"name\":\"SaveTool\",\"id\":\"98fc9cf0-ff06-41c3-b61d-729adbccfbff\"},{\"type\":\"object\",\"name\":\"PanTool\",\"id\":\"b85135b7-4dc7-4fab-a4e2-537f9efa7560\"},{\"type\":\"object\",\"name\":\"BoxZoomTool\",\"id\":\"ac5009b9-9d38-42c3-a850-d23e1064f8ba\",\"attributes\":{\"dimensions\":\"both\",\"overlay\":{\"type\":\"object\",\"name\":\"BoxAnnotation\",\"id\":\"aa135fb6-9f85-4993-8b28-a8209b1f3732\",\"attributes\":{\"syncable\":false,\"line_color\":\"black\",\"line_alpha\":1.0,\"line_width\":2,\"line_dash\":[4,4],\"fill_color\":\"lightgrey\",\"fill_alpha\":0.5,\"level\":\"overlay\",\"visible\":false,\"left\":{\"type\":\"number\",\"value\":\"nan\"},\"right\":{\"type\":\"number\",\"value\":\"nan\"},\"top\":{\"type\":\"number\",\"value\":\"nan\"},\"bottom\":{\"type\":\"number\",\"value\":\"nan\"},\"left_units\":\"canvas\",\"right_units\":\"canvas\",\"top_units\":\"canvas\",\"bottom_units\":\"canvas\",\"handles\":{\"type\":\"object\",\"name\":\"BoxInteractionHandles\",\"id\":\"4259e802-f3bf-4248-81ce-b1383797db23\",\"attributes\":{\"all\":{\"type\":\"object\",\"name\":\"AreaVisuals\",\"id\":\"287537b7-2dcb-437c-a292-eb0ad8882053\",\"attributes\":{\"fill_color\":\"white\",\"hover_fill_color\":\"lightgray\"}}}}}}}},{\"type\":\"object\",\"name\":\"ResetTool\",\"id\":\"665832c3-01cc-4ca1-abc1-5d5a511250ea\"}],\"active_drag\":{\"id\":\"b85135b7-4dc7-4fab-a4e2-537f9efa7560\"}}},\"left\":[{\"type\":\"object\",\"name\":\"LinearAxis\",\"id\":\"7d069cff-e59a-497f-864f-05068683d37d\",\"attributes\":{\"ticker\":{\"type\":\"object\",\"name\":\"BasicTicker\",\"id\":\"36d74c0e-8f30-45e7-b0a7-1a4ed04591e1\",\"attributes\":{\"mantissas\":[1,2,5]}},\"formatter\":{\"type\":\"object\",\"name\":\"BasicTickFormatter\",\"id\":\"e96f9d16-db54-4195-85cf-7f71254be60f\"},\"axis_label\":\"percent\",\"major_label_policy\":{\"type\":\"object\",\"name\":\"AllLabels\",\"id\":\"8f344bc2-cbd8-49d8-bc02-4f892d6c7726\"}}}],\"below\":[{\"type\":\"object\",\"name\":\"CategoricalAxis\",\"id\":\"fa4012bd-43f5-4af5-9874-790f128f65ed\",\"attributes\":{\"ticker\":{\"type\":\"object\",\"name\":\"CategoricalTicker\",\"id\":\"e349664f-cd1d-416d-886f-f2fba568a55a\"},\"formatter\":{\"type\":\"object\",\"name\":\"CategoricalTickFormatter\",\"id\":\"a32f3317-eca9-480e-a871-fd0a92b342fc\"},\"axis_label\":\"post_str_b3\",\"major_label_policy\":{\"type\":\"object\",\"name\":\"AllLabels\",\"id\":\"50aa7add-9c3f-4be6-ba84-5b5fdb142c2c\"}}}],\"center\":[{\"type\":\"object\",\"name\":\"Grid\",\"id\":\"724e079d-80ce-4141-9e2a-6347177c89fb\",\"attributes\":{\"axis\":{\"id\":\"fa4012bd-43f5-4af5-9874-790f128f65ed\"},\"grid_line_color\":null}},{\"type\":\"object\",\"name\":\"Grid\",\"id\":\"ba51a54a-4821-4fa9-8055-8f75b15b0926\",\"attributes\":{\"dimension\":1,\"axis\":{\"id\":\"7d069cff-e59a-497f-864f-05068683d37d\"},\"grid_line_color\":null}}],\"min_border_top\":10,\"min_border_bottom\":10,\"min_border_left\":10,\"min_border_right\":10,\"output_backend\":\"webgl\"}},{\"type\":\"object\",\"name\":\"Spacer\",\"id\":\"eadb7de0-8aed-4746-b90b-41617cd86caa\",\"attributes\":{\"name\":\"HSpacer00433\",\"stylesheets\":[\"\\n:host(.pn-loading):before, .pn-loading:before {\\n  background-color: #c3c3c3;\\n  mask-size: auto calc(min(50%, 400px));\\n  -webkit-mask-size: auto calc(min(50%, 400px));\\n}\",{\"id\":\"741b4fae-ac93-4c16-8543-e54eee61552e\"},{\"id\":\"1199d14e-a2ad-453e-b668-4904bfe4289b\"},{\"id\":\"508b3db6-b100-436c-af4f-24bead9f3c7b\"}],\"margin\":0,\"sizing_mode\":\"stretch_width\",\"align\":\"start\"}}]}}],\"defs\":[{\"type\":\"model\",\"name\":\"ReactiveHTML1\"},{\"type\":\"model\",\"name\":\"FlexBox1\",\"properties\":[{\"name\":\"align_content\",\"kind\":\"Any\",\"default\":\"flex-start\"},{\"name\":\"align_items\",\"kind\":\"Any\",\"default\":\"flex-start\"},{\"name\":\"flex_direction\",\"kind\":\"Any\",\"default\":\"row\"},{\"name\":\"flex_wrap\",\"kind\":\"Any\",\"default\":\"wrap\"},{\"name\":\"gap\",\"kind\":\"Any\",\"default\":\"\"},{\"name\":\"justify_content\",\"kind\":\"Any\",\"default\":\"flex-start\"}]},{\"type\":\"model\",\"name\":\"FloatPanel1\",\"properties\":[{\"name\":\"config\",\"kind\":\"Any\",\"default\":{\"type\":\"map\"}},{\"name\":\"contained\",\"kind\":\"Any\",\"default\":true},{\"name\":\"position\",\"kind\":\"Any\",\"default\":\"right-top\"},{\"name\":\"offsetx\",\"kind\":\"Any\",\"default\":null},{\"name\":\"offsety\",\"kind\":\"Any\",\"default\":null},{\"name\":\"theme\",\"kind\":\"Any\",\"default\":\"primary\"},{\"name\":\"status\",\"kind\":\"Any\",\"default\":\"normalized\"}]},{\"type\":\"model\",\"name\":\"GridStack1\",\"properties\":[{\"name\":\"ncols\",\"kind\":\"Any\",\"default\":null},{\"name\":\"nrows\",\"kind\":\"Any\",\"default\":null},{\"name\":\"allow_resize\",\"kind\":\"Any\",\"default\":true},{\"name\":\"allow_drag\",\"kind\":\"Any\",\"default\":true},{\"name\":\"state\",\"kind\":\"Any\",\"default\":[]}]},{\"type\":\"model\",\"name\":\"drag1\",\"properties\":[{\"name\":\"slider_width\",\"kind\":\"Any\",\"default\":5},{\"name\":\"slider_color\",\"kind\":\"Any\",\"default\":\"black\"},{\"name\":\"value\",\"kind\":\"Any\",\"default\":50}]},{\"type\":\"model\",\"name\":\"click1\",\"properties\":[{\"name\":\"terminal_output\",\"kind\":\"Any\",\"default\":\"\"},{\"name\":\"debug_name\",\"kind\":\"Any\",\"default\":\"\"},{\"name\":\"clears\",\"kind\":\"Any\",\"default\":0}]},{\"type\":\"model\",\"name\":\"FastWrapper1\",\"properties\":[{\"name\":\"object\",\"kind\":\"Any\",\"default\":null},{\"name\":\"style\",\"kind\":\"Any\",\"default\":null}]},{\"type\":\"model\",\"name\":\"NotificationArea1\",\"properties\":[{\"name\":\"js_events\",\"kind\":\"Any\",\"default\":{\"type\":\"map\"}},{\"name\":\"max_notifications\",\"kind\":\"Any\",\"default\":5},{\"name\":\"notifications\",\"kind\":\"Any\",\"default\":[]},{\"name\":\"position\",\"kind\":\"Any\",\"default\":\"bottom-right\"},{\"name\":\"_clear\",\"kind\":\"Any\",\"default\":0},{\"name\":\"types\",\"kind\":\"Any\",\"default\":[{\"type\":\"map\",\"entries\":[[\"type\",\"warning\"],[\"background\",\"#ffc107\"],[\"icon\",{\"type\":\"map\",\"entries\":[[\"className\",\"fas fa-exclamation-triangle\"],[\"tagName\",\"i\"],[\"color\",\"white\"]]}]]},{\"type\":\"map\",\"entries\":[[\"type\",\"info\"],[\"background\",\"#007bff\"],[\"icon\",{\"type\":\"map\",\"entries\":[[\"className\",\"fas fa-info-circle\"],[\"tagName\",\"i\"],[\"color\",\"white\"]]}]]}]}]},{\"type\":\"model\",\"name\":\"Notification\",\"properties\":[{\"name\":\"background\",\"kind\":\"Any\",\"default\":null},{\"name\":\"duration\",\"kind\":\"Any\",\"default\":3000},{\"name\":\"icon\",\"kind\":\"Any\",\"default\":null},{\"name\":\"message\",\"kind\":\"Any\",\"default\":\"\"},{\"name\":\"notification_type\",\"kind\":\"Any\",\"default\":null},{\"name\":\"_rendered\",\"kind\":\"Any\",\"default\":false},{\"name\":\"_destroyed\",\"kind\":\"Any\",\"default\":false}]},{\"type\":\"model\",\"name\":\"TemplateActions1\",\"properties\":[{\"name\":\"open_modal\",\"kind\":\"Any\",\"default\":0},{\"name\":\"close_modal\",\"kind\":\"Any\",\"default\":0}]},{\"type\":\"model\",\"name\":\"BootstrapTemplateActions1\",\"properties\":[{\"name\":\"open_modal\",\"kind\":\"Any\",\"default\":0},{\"name\":\"close_modal\",\"kind\":\"Any\",\"default\":0}]},{\"type\":\"model\",\"name\":\"TemplateEditor1\",\"properties\":[{\"name\":\"layout\",\"kind\":\"Any\",\"default\":[]}]},{\"type\":\"model\",\"name\":\"MaterialTemplateActions1\",\"properties\":[{\"name\":\"open_modal\",\"kind\":\"Any\",\"default\":0},{\"name\":\"close_modal\",\"kind\":\"Any\",\"default\":0}]},{\"type\":\"model\",\"name\":\"ReactiveESM1\",\"properties\":[{\"name\":\"esm_constants\",\"kind\":\"Any\",\"default\":{\"type\":\"map\"}}]},{\"type\":\"model\",\"name\":\"JSComponent1\",\"properties\":[{\"name\":\"esm_constants\",\"kind\":\"Any\",\"default\":{\"type\":\"map\"}}]},{\"type\":\"model\",\"name\":\"ReactComponent1\",\"properties\":[{\"name\":\"esm_constants\",\"kind\":\"Any\",\"default\":{\"type\":\"map\"}}]},{\"type\":\"model\",\"name\":\"AnyWidgetComponent1\",\"properties\":[{\"name\":\"esm_constants\",\"kind\":\"Any\",\"default\":{\"type\":\"map\"}}]},{\"type\":\"model\",\"name\":\"request_value1\",\"properties\":[{\"name\":\"fill\",\"kind\":\"Any\",\"default\":\"none\"},{\"name\":\"_synced\",\"kind\":\"Any\",\"default\":null},{\"name\":\"_request_sync\",\"kind\":\"Any\",\"default\":0}]}]}};\n",
       "  var render_items = [{\"docid\":\"57876a17-a2a2-4ec5-bae3-041d71171c31\",\"roots\":{\"09702618-9a1b-46fe-9afe-2ce5bca32838\":\"f54b9abd-d049-4ea2-a18b-74ac8160f360\"},\"root_ids\":[\"09702618-9a1b-46fe-9afe-2ce5bca32838\"]}];\n",
       "  var docs = Object.values(docs_json)\n",
       "  if (!docs) {\n",
       "    return\n",
       "  }\n",
       "  const py_version = docs[0].version.replace('rc', '-rc.').replace('.dev', '-dev.')\n",
       "  async function embed_document(root) {\n",
       "    var Bokeh = get_bokeh(root)\n",
       "    await Bokeh.embed.embed_items_notebook(docs_json, render_items);\n",
       "    for (const render_item of render_items) {\n",
       "      for (const root_id of render_item.root_ids) {\n",
       "\tconst id_el = document.getElementById(root_id)\n",
       "\tif (id_el.children.length && id_el.children[0].hasAttribute('data-root-id')) {\n",
       "\t  const root_el = id_el.children[0]\n",
       "\t  root_el.id = root_el.id + '-rendered'\n",
       "\t  for (const child of root_el.children) {\n",
       "            // Ensure JupyterLab does not capture keyboard shortcuts\n",
       "            // see: https://jupyterlab.readthedocs.io/en/4.1.x/extension/notebook.html#keyboard-interaction-model\n",
       "\t    child.setAttribute('data-lm-suppress-shortcuts', 'true')\n",
       "\t  }\n",
       "\t}\n",
       "      }\n",
       "    }\n",
       "  }\n",
       "  function get_bokeh(root) {\n",
       "    if (root.Bokeh === undefined) {\n",
       "      return null\n",
       "    } else if (root.Bokeh.version !== py_version) {\n",
       "      if (root.Bokeh.versions === undefined || !root.Bokeh.versions.has(py_version)) {\n",
       "\treturn null\n",
       "      }\n",
       "      return root.Bokeh.versions.get(py_version);\n",
       "    } else if (root.Bokeh.version === py_version) {\n",
       "      return root.Bokeh\n",
       "    }\n",
       "    return null\n",
       "  }\n",
       "  function is_loaded(root) {\n",
       "    var Bokeh = get_bokeh(root)\n",
       "    return (Bokeh != null && Bokeh.Panel !== undefined)\n",
       "  }\n",
       "  if (is_loaded(root)) {\n",
       "    embed_document(root);\n",
       "  } else {\n",
       "    var attempts = 0;\n",
       "    var timer = setInterval(function(root) {\n",
       "      if (is_loaded(root)) {\n",
       "        clearInterval(timer);\n",
       "        embed_document(root);\n",
       "      } else if (document.readyState == \"complete\") {\n",
       "        attempts++;\n",
       "        if (attempts > 200) {\n",
       "          clearInterval(timer);\n",
       "\t  var Bokeh = get_bokeh(root)\n",
       "\t  if (Bokeh == null || Bokeh.Panel == null) {\n",
       "            console.warn(\"Panel: ERROR: Unable to run Panel code because Bokeh or Panel library is missing\");\n",
       "\t  } else {\n",
       "\t    console.warn(\"Panel: WARNING: Attempting to render but not all required libraries could be resolved.\")\n",
       "\t    embed_document(root)\n",
       "\t  }\n",
       "        }\n",
       "      }\n",
       "    }, 25, root)\n",
       "  }\n",
       "})(window);</script>"
      ],
      "text/plain": [
       ":Overlay\n",
       "   .Bars.I    :Bars   [post_str_b3]   (percent)\n",
       "   .HLine.I   :HLine   [x,y]\n",
       "   .HLine.II  :HLine   [x,y]\n",
       "   .HLine.III :HLine   [x,y]"
      ]
     },
     "metadata": {
      "application/vnd.holoviews_exec.v0+json": {
       "id": "09702618-9a1b-46fe-9afe-2ce5bca32838"
      }
     },
     "output_type": "display_data"
    },
    {
     "name": "stdout",
     "output_type": "stream",
     "text": [
      "df_10_last FOR str_b3 = 19\n",
      "Last 3 results last_results=['19', '10']\n"
     ]
    },
    {
     "data": {
      "text/html": [
       "<div><style>\n",
       ".dataframe > thead > tr,\n",
       ".dataframe > tbody > tr {\n",
       "  text-align: right;\n",
       "  white-space: pre-wrap;\n",
       "}\n",
       "</style>\n",
       "<small>shape: (10, 30)</small><table border=\"1\" class=\"dataframe\"><thead><tr><th>fecha</th><th>sorteo</th><th>bolillas regulares</th><th>bolillas chauchamba</th><th>cc1</th><th>cc2</th><th>id</th><th>combo</th><th>b1</th><th>b2</th><th>b3</th><th>b4</th><th>b5</th><th>b6</th><th>str_b1</th><th>str_b2</th><th>str_b3</th><th>str_b4</th><th>str_b5</th><th>str_b6</th><th>post_str_b1</th><th>post_str_b2</th><th>post_str_b3</th><th>post_str_b4</th><th>post_str_b5</th><th>post_str_blast</th><th>is_rare_combination</th><th>reason</th><th>jumps_map</th><th>unijump</th></tr><tr><td>str</td><td>str</td><td>str</td><td>str</td><td>str</td><td>str</td><td>str</td><td>array[u8, 6]</td><td>u8</td><td>u8</td><td>u8</td><td>u8</td><td>u8</td><td>u8</td><td>str</td><td>str</td><td>str</td><td>str</td><td>str</td><td>str</td><td>str</td><td>str</td><td>str</td><td>str</td><td>str</td><td>str</td><td>bool</td><td>u8</td><td>str</td><td>i64</td></tr></thead><tbody><tr><td>&quot;26/04/2025&quot;</td><td>&quot;1800&quot;</td><td>&quot;20 35 03 19 09 29&quot;</td><td>&quot;09 17 29 39 31 34&quot;</td><td>&quot;&quot;</td><td>&quot;&quot;</td><td>&quot;030919202935&quot;</td><td>[3, 9, … 35]</td><td>3</td><td>9</td><td>19</td><td>20</td><td>29</td><td>35</td><td>&quot;03&quot;</td><td>&quot;09&quot;</td><td>&quot;19&quot;</td><td>&quot;20&quot;</td><td>&quot;29&quot;</td><td>&quot;35&quot;</td><td>&quot;03&quot;</td><td>&quot;09&quot;</td><td>&quot;19&quot;</td><td>&quot;20&quot;</td><td>&quot;29&quot;</td><td>&quot;35&quot;</td><td>false</td><td>0</td><td>&quot;06_10_01_09_06&quot;</td><td>-58</td></tr><tr><td>&quot;13/03/2025&quot;</td><td>&quot;1781&quot;</td><td>&quot;21 19 06 07 28 40&quot;</td><td>&quot;16 15 28 27 25 05&quot;</td><td>&quot;&quot;</td><td>&quot;&quot;</td><td>&quot;060719212840&quot;</td><td>[6, 7, … 40]</td><td>6</td><td>7</td><td>19</td><td>21</td><td>28</td><td>40</td><td>&quot;06&quot;</td><td>&quot;07&quot;</td><td>&quot;19&quot;</td><td>&quot;21&quot;</td><td>&quot;28&quot;</td><td>&quot;40&quot;</td><td>&quot;03&quot;</td><td>&quot;09&quot;</td><td>&quot;10&quot;</td><td>&quot;19&quot;</td><td>&quot;28&quot;</td><td>&quot;39&quot;</td><td>true</td><td>16</td><td>&quot;01_12_02_07_12&quot;</td><td>-51</td></tr><tr><td>&quot;13/03/2025&quot;</td><td>&quot;1781&quot;</td><td>&quot;21 19 06 07 28 40&quot;</td><td>&quot;16 15 28 27 25 05&quot;</td><td>&quot;&quot;</td><td>&quot;&quot;</td><td>&quot;060719212840&quot;</td><td>[6, 7, … 40]</td><td>6</td><td>7</td><td>19</td><td>21</td><td>28</td><td>40</td><td>&quot;06&quot;</td><td>&quot;07&quot;</td><td>&quot;19&quot;</td><td>&quot;21&quot;</td><td>&quot;28&quot;</td><td>&quot;40&quot;</td><td>&quot;06&quot;</td><td>&quot;07&quot;</td><td>&quot;19&quot;</td><td>&quot;21&quot;</td><td>&quot;28&quot;</td><td>&quot;40&quot;</td><td>true</td><td>16</td><td>&quot;01_12_02_07_12&quot;</td><td>-51</td></tr><tr><td>&quot;23/01/2025&quot;</td><td>&quot;1760&quot;</td><td>&quot;34 25 14 27 10 19&quot;</td><td>&quot;36 12 35 30 40 09&quot;</td><td>&quot;&quot;</td><td>&quot;&quot;</td><td>&quot;101419252734&quot;</td><td>[10, 14, … 34]</td><td>10</td><td>14</td><td>19</td><td>25</td><td>27</td><td>34</td><td>&quot;10&quot;</td><td>&quot;14&quot;</td><td>&quot;19&quot;</td><td>&quot;25&quot;</td><td>&quot;27&quot;</td><td>&quot;34&quot;</td><td>&quot;17&quot;</td><td>&quot;23&quot;</td><td>&quot;32&quot;</td><td>&quot;33&quot;</td><td>&quot;34&quot;</td><td>&quot;35&quot;</td><td>false</td><td>0</td><td>&quot;04_05_06_02_07&quot;</td><td>19</td></tr><tr><td>&quot;23/01/2025&quot;</td><td>&quot;1760&quot;</td><td>&quot;34 25 14 27 10 19&quot;</td><td>&quot;36 12 35 30 40 09&quot;</td><td>&quot;&quot;</td><td>&quot;&quot;</td><td>&quot;101419252734&quot;</td><td>[10, 14, … 34]</td><td>10</td><td>14</td><td>19</td><td>25</td><td>27</td><td>34</td><td>&quot;10&quot;</td><td>&quot;14&quot;</td><td>&quot;19&quot;</td><td>&quot;25&quot;</td><td>&quot;27&quot;</td><td>&quot;34&quot;</td><td>&quot;10&quot;</td><td>&quot;14&quot;</td><td>&quot;19&quot;</td><td>&quot;25&quot;</td><td>&quot;27&quot;</td><td>&quot;34&quot;</td><td>false</td><td>0</td><td>&quot;04_05_06_02_07&quot;</td><td>19</td></tr><tr><td>&quot;11/01/2025&quot;</td><td>&quot;1755&quot;</td><td>&quot;05 24 25 30 13 19&quot;</td><td>&quot;35 18 28 22 27 05&quot;</td><td>&quot;&quot;</td><td>&quot;&quot;</td><td>&quot;051319242530&quot;</td><td>[5, 13, … 30]</td><td>5</td><td>13</td><td>19</td><td>24</td><td>25</td><td>30</td><td>&quot;05&quot;</td><td>&quot;13&quot;</td><td>&quot;19&quot;</td><td>&quot;24&quot;</td><td>&quot;25&quot;</td><td>&quot;30&quot;</td><td>&quot;02&quot;</td><td>&quot;16&quot;</td><td>&quot;18&quot;</td><td>&quot;23&quot;</td><td>&quot;31&quot;</td><td>&quot;34&quot;</td><td>false</td><td>0</td><td>&quot;08_06_05_01_05&quot;</td><td>15</td></tr><tr><td>&quot;11/01/2025&quot;</td><td>&quot;1755&quot;</td><td>&quot;05 24 25 30 13 19&quot;</td><td>&quot;35 18 28 22 27 05&quot;</td><td>&quot;&quot;</td><td>&quot;&quot;</td><td>&quot;051319242530&quot;</td><td>[5, 13, … 30]</td><td>5</td><td>13</td><td>19</td><td>24</td><td>25</td><td>30</td><td>&quot;05&quot;</td><td>&quot;13&quot;</td><td>&quot;19&quot;</td><td>&quot;24&quot;</td><td>&quot;25&quot;</td><td>&quot;30&quot;</td><td>&quot;05&quot;</td><td>&quot;13&quot;</td><td>&quot;19&quot;</td><td>&quot;24&quot;</td><td>&quot;25&quot;</td><td>&quot;30&quot;</td><td>false</td><td>0</td><td>&quot;08_06_05_01_05&quot;</td><td>15</td></tr><tr><td>&quot;04/01/2025&quot;</td><td>&quot;1752&quot;</td><td>&quot;27 37 08 39 19 12&quot;</td><td>&quot;40 02 30 07 09 03&quot;</td><td>&quot;&quot;</td><td>&quot;&quot;</td><td>&quot;081219273739&quot;</td><td>[8, 12, … 39]</td><td>8</td><td>12</td><td>19</td><td>27</td><td>37</td><td>39</td><td>&quot;08&quot;</td><td>&quot;12&quot;</td><td>&quot;19&quot;</td><td>&quot;27&quot;</td><td>&quot;37&quot;</td><td>&quot;39&quot;</td><td>&quot;04&quot;</td><td>&quot;06&quot;</td><td>&quot;07&quot;</td><td>&quot;08&quot;</td><td>&quot;27&quot;</td><td>&quot;38&quot;</td><td>false</td><td>0</td><td>&quot;04_07_08_10_02&quot;</td><td>-14</td></tr><tr><td>&quot;04/01/2025&quot;</td><td>&quot;1752&quot;</td><td>&quot;27 37 08 39 19 12&quot;</td><td>&quot;40 02 30 07 09 03&quot;</td><td>&quot;&quot;</td><td>&quot;&quot;</td><td>&quot;081219273739&quot;</td><td>[8, 12, … 39]</td><td>8</td><td>12</td><td>19</td><td>27</td><td>37</td><td>39</td><td>&quot;08&quot;</td><td>&quot;12&quot;</td><td>&quot;19&quot;</td><td>&quot;27&quot;</td><td>&quot;37&quot;</td><td>&quot;39&quot;</td><td>&quot;08&quot;</td><td>&quot;12&quot;</td><td>&quot;19&quot;</td><td>&quot;27&quot;</td><td>&quot;37&quot;</td><td>&quot;39&quot;</td><td>false</td><td>0</td><td>&quot;04_07_08_10_02&quot;</td><td>-14</td></tr><tr><td>&quot;28/11/2024&quot;</td><td>&quot;1736&quot;</td><td>&quot;20 26 39 08 19 10&quot;</td><td>&quot;09 26 13 23 24 05&quot;</td><td>&quot;&quot;</td><td>&quot;&quot;</td><td>&quot;081019202639&quot;</td><td>[8, 10, … 39]</td><td>8</td><td>10</td><td>19</td><td>20</td><td>26</td><td>39</td><td>&quot;08&quot;</td><td>&quot;10&quot;</td><td>&quot;19&quot;</td><td>&quot;20&quot;</td><td>&quot;26&quot;</td><td>&quot;39&quot;</td><td>&quot;03&quot;</td><td>&quot;05&quot;</td><td>&quot;09&quot;</td><td>&quot;10&quot;</td><td>&quot;37&quot;</td><td>&quot;39&quot;</td><td>false</td><td>0</td><td>&quot;02_09_01_06_13&quot;</td><td>-39</td></tr></tbody></table></div>"
      ],
      "text/plain": [
       "shape: (10, 30)\n",
       "┌────────────┬────────┬─────────────┬─────────────┬───┬────────────┬────────┬────────────┬─────────┐\n",
       "│ fecha      ┆ sorteo ┆ bolillas    ┆ bolillas    ┆ … ┆ is_rare_co ┆ reason ┆ jumps_map  ┆ unijump │\n",
       "│ ---        ┆ ---    ┆ regulares   ┆ chauchamba  ┆   ┆ mbination  ┆ ---    ┆ ---        ┆ ---     │\n",
       "│ str        ┆ str    ┆ ---         ┆ ---         ┆   ┆ ---        ┆ u8     ┆ str        ┆ i64     │\n",
       "│            ┆        ┆ str         ┆ str         ┆   ┆ bool       ┆        ┆            ┆         │\n",
       "╞════════════╪════════╪═════════════╪═════════════╪═══╪════════════╪════════╪════════════╪═════════╡\n",
       "│ 26/04/2025 ┆ 1800   ┆ 20 35 03 19 ┆ 09 17 29 39 ┆ … ┆ false      ┆ 0      ┆ 06_10_01_0 ┆ -58     │\n",
       "│            ┆        ┆ 09 29       ┆ 31 34       ┆   ┆            ┆        ┆ 9_06       ┆         │\n",
       "│ 13/03/2025 ┆ 1781   ┆ 21 19 06 07 ┆ 16 15 28 27 ┆ … ┆ true       ┆ 16     ┆ 01_12_02_0 ┆ -51     │\n",
       "│            ┆        ┆ 28 40       ┆ 25 05       ┆   ┆            ┆        ┆ 7_12       ┆         │\n",
       "│ 13/03/2025 ┆ 1781   ┆ 21 19 06 07 ┆ 16 15 28 27 ┆ … ┆ true       ┆ 16     ┆ 01_12_02_0 ┆ -51     │\n",
       "│            ┆        ┆ 28 40       ┆ 25 05       ┆   ┆            ┆        ┆ 7_12       ┆         │\n",
       "│ 23/01/2025 ┆ 1760   ┆ 34 25 14 27 ┆ 36 12 35 30 ┆ … ┆ false      ┆ 0      ┆ 04_05_06_0 ┆ 19      │\n",
       "│            ┆        ┆ 10 19       ┆ 40 09       ┆   ┆            ┆        ┆ 2_07       ┆         │\n",
       "│ 23/01/2025 ┆ 1760   ┆ 34 25 14 27 ┆ 36 12 35 30 ┆ … ┆ false      ┆ 0      ┆ 04_05_06_0 ┆ 19      │\n",
       "│            ┆        ┆ 10 19       ┆ 40 09       ┆   ┆            ┆        ┆ 2_07       ┆         │\n",
       "│ 11/01/2025 ┆ 1755   ┆ 05 24 25 30 ┆ 35 18 28 22 ┆ … ┆ false      ┆ 0      ┆ 08_06_05_0 ┆ 15      │\n",
       "│            ┆        ┆ 13 19       ┆ 27 05       ┆   ┆            ┆        ┆ 1_05       ┆         │\n",
       "│ 11/01/2025 ┆ 1755   ┆ 05 24 25 30 ┆ 35 18 28 22 ┆ … ┆ false      ┆ 0      ┆ 08_06_05_0 ┆ 15      │\n",
       "│            ┆        ┆ 13 19       ┆ 27 05       ┆   ┆            ┆        ┆ 1_05       ┆         │\n",
       "│ 04/01/2025 ┆ 1752   ┆ 27 37 08 39 ┆ 40 02 30 07 ┆ … ┆ false      ┆ 0      ┆ 04_07_08_1 ┆ -14     │\n",
       "│            ┆        ┆ 19 12       ┆ 09 03       ┆   ┆            ┆        ┆ 0_02       ┆         │\n",
       "│ 04/01/2025 ┆ 1752   ┆ 27 37 08 39 ┆ 40 02 30 07 ┆ … ┆ false      ┆ 0      ┆ 04_07_08_1 ┆ -14     │\n",
       "│            ┆        ┆ 19 12       ┆ 09 03       ┆   ┆            ┆        ┆ 0_02       ┆         │\n",
       "│ 28/11/2024 ┆ 1736   ┆ 20 26 39 08 ┆ 09 26 13 23 ┆ … ┆ false      ┆ 0      ┆ 02_09_01_0 ┆ -39     │\n",
       "│            ┆        ┆ 19 10       ┆ 24 05       ┆   ┆            ┆        ┆ 6_13       ┆         │\n",
       "└────────────┴────────┴─────────────┴─────────────┴───┴────────────┴────────┴────────────┴─────────┘"
      ]
     },
     "metadata": {},
     "output_type": "display_data"
    },
    {
     "name": "stdout",
     "output_type": "stream",
     "text": [
      "df_jumps_map FOR str_b3 = 19\n"
     ]
    },
    {
     "data": {
      "text/html": [
       "<div><style>\n",
       ".dataframe > thead > tr,\n",
       ".dataframe > tbody > tr {\n",
       "  text-align: right;\n",
       "  white-space: pre-wrap;\n",
       "}\n",
       "</style>\n",
       "<small>shape: (195, 2)</small><table border=\"1\" class=\"dataframe\"><thead><tr><th>jumps_map</th><th>count</th></tr><tr><td>str</td><td>u32</td></tr></thead><tbody><tr><td>&quot;06_07_09_02_01&quot;</td><td>2</td></tr><tr><td>&quot;02_08_01_06_02&quot;</td><td>2</td></tr><tr><td>&quot;01_12_02_07_12&quot;</td><td>2</td></tr><tr><td>&quot;11_06_08_09_04&quot;</td><td>2</td></tr><tr><td>&quot;09_04_18_02_01&quot;</td><td>2</td></tr><tr><td>&hellip;</td><td>&hellip;</td></tr><tr><td>&quot;02_04_01_17_03&quot;</td><td>1</td></tr><tr><td>&quot;05_09_01_07_09&quot;</td><td>1</td></tr><tr><td>&quot;09_05_10_06_05&quot;</td><td>1</td></tr><tr><td>&quot;16_02_01_11_07&quot;</td><td>1</td></tr><tr><td>&quot;04_11_04_11_02&quot;</td><td>1</td></tr></tbody></table></div>"
      ],
      "text/plain": [
       "shape: (195, 2)\n",
       "┌────────────────┬───────┐\n",
       "│ jumps_map      ┆ count │\n",
       "│ ---            ┆ ---   │\n",
       "│ str            ┆ u32   │\n",
       "╞════════════════╪═══════╡\n",
       "│ 06_07_09_02_01 ┆ 2     │\n",
       "│ 02_08_01_06_02 ┆ 2     │\n",
       "│ 01_12_02_07_12 ┆ 2     │\n",
       "│ 11_06_08_09_04 ┆ 2     │\n",
       "│ 09_04_18_02_01 ┆ 2     │\n",
       "│ …              ┆ …     │\n",
       "│ 02_04_01_17_03 ┆ 1     │\n",
       "│ 05_09_01_07_09 ┆ 1     │\n",
       "│ 09_05_10_06_05 ┆ 1     │\n",
       "│ 16_02_01_11_07 ┆ 1     │\n",
       "│ 04_11_04_11_02 ┆ 1     │\n",
       "└────────────────┴───────┘"
      ]
     },
     "metadata": {},
     "output_type": "display_data"
    },
    {
     "name": "stdout",
     "output_type": "stream",
     "text": [
      "df_unijump FOR str_b3 = 19\n"
     ]
    },
    {
     "data": {
      "text/html": [
       "<div><style>\n",
       ".dataframe > thead > tr,\n",
       ".dataframe > tbody > tr {\n",
       "  text-align: right;\n",
       "  white-space: pre-wrap;\n",
       "}\n",
       "</style>\n",
       "<small>shape: (107, 2)</small><table border=\"1\" class=\"dataframe\"><thead><tr><th>unijump</th><th>count</th></tr><tr><td>i64</td><td>u32</td></tr></thead><tbody><tr><td>14</td><td>8</td></tr><tr><td>29</td><td>7</td></tr><tr><td>-31</td><td>7</td></tr><tr><td>-11</td><td>6</td></tr><tr><td>-39</td><td>6</td></tr><tr><td>&hellip;</td><td>&hellip;</td></tr><tr><td>23</td><td>1</td></tr><tr><td>-62</td><td>1</td></tr><tr><td>65</td><td>1</td></tr><tr><td>35</td><td>1</td></tr><tr><td>-42</td><td>1</td></tr></tbody></table></div>"
      ],
      "text/plain": [
       "shape: (107, 2)\n",
       "┌─────────┬───────┐\n",
       "│ unijump ┆ count │\n",
       "│ ---     ┆ ---   │\n",
       "│ i64     ┆ u32   │\n",
       "╞═════════╪═══════╡\n",
       "│ 14      ┆ 8     │\n",
       "│ 29      ┆ 7     │\n",
       "│ -31     ┆ 7     │\n",
       "│ -11     ┆ 6     │\n",
       "│ -39     ┆ 6     │\n",
       "│ …       ┆ …     │\n",
       "│ 23      ┆ 1     │\n",
       "│ -62     ┆ 1     │\n",
       "│ 65      ┆ 1     │\n",
       "│ 35      ┆ 1     │\n",
       "│ -42     ┆ 1     │\n",
       "└─────────┴───────┘"
      ]
     },
     "metadata": {},
     "output_type": "display_data"
    }
   ],
   "source": [
    "possible_b3, exclude_jump_maps_b3, last_post_b3 = plot_post_col(col='str_b3', post_col='post_str_b3')"
   ]
  },
  {
   "cell_type": "code",
   "execution_count": 10,
   "metadata": {},
   "outputs": [
    {
     "name": "stdout",
     "output_type": "stream",
     "text": [
      "Setting test_value='20'\n",
      "df_viz FOR str_b4 = 20\n"
     ]
    },
    {
     "data": {
      "text/html": [
       "<div><style>\n",
       ".dataframe > thead > tr,\n",
       ".dataframe > tbody > tr {\n",
       "  text-align: right;\n",
       "  white-space: pre-wrap;\n",
       "}\n",
       "</style>\n",
       "<small>shape: (28, 3)</small><table border=\"1\" class=\"dataframe\"><thead><tr><th>post_str_b4</th><th>count</th><th>percent</th></tr><tr><td>str</td><td>u32</td><td>f64</td></tr></thead><tbody><tr><td>&quot;20&quot;</td><td>95</td><td>36.259542</td></tr><tr><td>&quot;29&quot;</td><td>18</td><td>6.870229</td></tr><tr><td>&quot;23&quot;</td><td>15</td><td>5.725191</td></tr><tr><td>&quot;19&quot;</td><td>12</td><td>4.580153</td></tr><tr><td>&quot;27&quot;</td><td>11</td><td>4.198473</td></tr><tr><td>&hellip;</td><td>&hellip;</td><td>&hellip;</td></tr><tr><td>&quot;16&quot;</td><td>3</td><td>1.145038</td></tr><tr><td>&quot;11&quot;</td><td>3</td><td>1.145038</td></tr><tr><td>&quot;08&quot;</td><td>2</td><td>0.763359</td></tr><tr><td>&quot;34&quot;</td><td>2</td><td>0.763359</td></tr><tr><td>&quot;36&quot;</td><td>1</td><td>0.381679</td></tr></tbody></table></div>"
      ],
      "text/plain": [
       "shape: (28, 3)\n",
       "┌─────────────┬───────┬───────────┐\n",
       "│ post_str_b4 ┆ count ┆ percent   │\n",
       "│ ---         ┆ ---   ┆ ---       │\n",
       "│ str         ┆ u32   ┆ f64       │\n",
       "╞═════════════╪═══════╪═══════════╡\n",
       "│ 20          ┆ 95    ┆ 36.259542 │\n",
       "│ 29          ┆ 18    ┆ 6.870229  │\n",
       "│ 23          ┆ 15    ┆ 5.725191  │\n",
       "│ 19          ┆ 12    ┆ 4.580153  │\n",
       "│ 27          ┆ 11    ┆ 4.198473  │\n",
       "│ …           ┆ …     ┆ …         │\n",
       "│ 16          ┆ 3     ┆ 1.145038  │\n",
       "│ 11          ┆ 3     ┆ 1.145038  │\n",
       "│ 08          ┆ 2     ┆ 0.763359  │\n",
       "│ 34          ┆ 2     ┆ 0.763359  │\n",
       "│ 36          ┆ 1     ┆ 0.381679  │\n",
       "└─────────────┴───────┴───────────┘"
      ]
     },
     "metadata": {},
     "output_type": "display_data"
    },
    {
     "data": {},
     "metadata": {},
     "output_type": "display_data"
    },
    {
     "data": {
      "application/vnd.holoviews_exec.v0+json": "",
      "text/html": [
       "<div id='56d9ea38-291d-4f5c-ba7f-425911889aa1'>\n",
       "  <div id=\"c072b9c0-0b03-4a3b-87b2-3ff0efaef125\" data-root-id=\"56d9ea38-291d-4f5c-ba7f-425911889aa1\" style=\"display: contents;\"></div>\n",
       "</div>\n",
       "<script type=\"application/javascript\">(function(root) {\n",
       "  var docs_json = {\"98d1e1ee-32d1-4cc8-8f8b-58887647759c\":{\"version\":\"3.7.2\",\"title\":\"Bokeh Application\",\"roots\":[{\"type\":\"object\",\"name\":\"Row\",\"id\":\"56d9ea38-291d-4f5c-ba7f-425911889aa1\",\"attributes\":{\"name\":\"Row00499\",\"tags\":[\"embedded\"],\"stylesheets\":[\"\\n:host(.pn-loading):before, .pn-loading:before {\\n  background-color: #c3c3c3;\\n  mask-size: auto calc(min(50%, 400px));\\n  -webkit-mask-size: auto calc(min(50%, 400px));\\n}\",{\"type\":\"object\",\"name\":\"ImportedStyleSheet\",\"id\":\"1032e1be-caa7-4bf0-b087-774f7c49f496\",\"attributes\":{\"url\":\"https://cdn.holoviz.org/panel/1.6.2/dist/css/loading.css\"}},{\"type\":\"object\",\"name\":\"ImportedStyleSheet\",\"id\":\"85ff5f1a-a8f9-4c02-9340-60cf8f8a5e43\",\"attributes\":{\"url\":\"https://cdn.holoviz.org/panel/1.6.2/dist/css/listpanel.css\"}},{\"type\":\"object\",\"name\":\"ImportedStyleSheet\",\"id\":\"25db40ba-fc72-4f9c-8e09-1ba1304e03d7\",\"attributes\":{\"url\":\"https://cdn.holoviz.org/panel/1.6.2/dist/bundled/theme/default.css\"}},{\"type\":\"object\",\"name\":\"ImportedStyleSheet\",\"id\":\"ad4ade70-8f08-48c8-8a9e-912fd72e1683\",\"attributes\":{\"url\":\"https://cdn.holoviz.org/panel/1.6.2/dist/bundled/theme/native.css\"}}],\"min_width\":700,\"margin\":0,\"sizing_mode\":\"stretch_width\",\"align\":\"start\",\"children\":[{\"type\":\"object\",\"name\":\"Spacer\",\"id\":\"2569b6f0-1bbd-4225-a137-ab0b5f9342c7\",\"attributes\":{\"name\":\"HSpacer00503\",\"stylesheets\":[\"\\n:host(.pn-loading):before, .pn-loading:before {\\n  background-color: #c3c3c3;\\n  mask-size: auto calc(min(50%, 400px));\\n  -webkit-mask-size: auto calc(min(50%, 400px));\\n}\",{\"id\":\"1032e1be-caa7-4bf0-b087-774f7c49f496\"},{\"id\":\"25db40ba-fc72-4f9c-8e09-1ba1304e03d7\"},{\"id\":\"ad4ade70-8f08-48c8-8a9e-912fd72e1683\"}],\"margin\":0,\"sizing_mode\":\"stretch_width\",\"align\":\"start\"}},{\"type\":\"object\",\"name\":\"Figure\",\"id\":\"2fa3ddba-aafb-4578-84b2-304253a47c76\",\"attributes\":{\"width\":700,\"height\":300,\"margin\":[5,10],\"sizing_mode\":\"fixed\",\"align\":\"start\",\"x_range\":{\"type\":\"object\",\"name\":\"FactorRange\",\"id\":\"d561e5e9-4ca6-4ca3-9510-2357aa426f7b\",\"attributes\":{\"name\":\"post_str_b4\",\"tags\":[[[\"post_str_b4\",null]],[]],\"factors\":[\"20\",\"29\",\"23\",\"19\",\"27\",\"25\",\"30\",\"17\",\"21\",\"28\",\"22\",\"24\",\"35\",\"31\",\"15\",\"12\",\"32\",\"10\",\"14\",\"33\",\"18\",\"13\",\"26\",\"16\",\"11\",\"08\",\"34\",\"36\"]}},\"y_range\":{\"type\":\"object\",\"name\":\"Range1d\",\"id\":\"15b01ed6-3847-484a-b874-2514f194bc45\",\"attributes\":{\"name\":\"percent\",\"tags\":[[[\"percent\",null]],{\"type\":\"map\",\"entries\":[[\"invert_yaxis\",false],[\"autorange\",false]]}],\"end\":39.847328244274806,\"reset_start\":0.0,\"reset_end\":39.847328244274806}},\"x_scale\":{\"type\":\"object\",\"name\":\"CategoricalScale\",\"id\":\"39b7d6c9-3ba2-463b-9f93-9f95020324e0\"},\"y_scale\":{\"type\":\"object\",\"name\":\"LinearScale\",\"id\":\"9e7e8947-77c4-4965-ab89-d7479425fe8d\"},\"title\":{\"type\":\"object\",\"name\":\"Title\",\"id\":\"7695f7cd-9ffe-4a67-8413-269549114574\",\"attributes\":{\"text_color\":\"black\",\"text_font_size\":\"12pt\"}},\"renderers\":[{\"type\":\"object\",\"name\":\"GlyphRenderer\",\"id\":\"0222dc76-f422-4c00-ae2e-0860c9928842\",\"attributes\":{\"data_source\":{\"type\":\"object\",\"name\":\"ColumnDataSource\",\"id\":\"52450310-0456-4f4a-a4b8-6a91e707cb17\",\"attributes\":{\"selected\":{\"type\":\"object\",\"name\":\"Selection\",\"id\":\"57d7875d-e46d-499e-b84c-b0efb14d1f85\",\"attributes\":{\"indices\":[],\"line_indices\":[]}},\"selection_policy\":{\"type\":\"object\",\"name\":\"UnionRenderers\",\"id\":\"8dcf1a40-66db-47f5-9666-ae08a41e52a6\"},\"data\":{\"type\":\"map\",\"entries\":[[\"post_str_b4\",[\"20\",\"29\",\"23\",\"19\",\"27\",\"25\",\"30\",\"17\",\"21\",\"28\",\"22\",\"24\",\"35\",\"31\",\"15\",\"12\",\"32\",\"10\",\"14\",\"33\",\"18\",\"13\",\"26\",\"16\",\"11\",\"08\",\"34\",\"36\"]],[\"percent\",{\"type\":\"ndarray\",\"array\":{\"type\":\"bytes\",\"data\":\"5i74qzghQkBmRB9QHXsbQKpjb22Y5hZA7oK/ihNSEkCw4oSUPMsQQOOElDzLiA5A44SUPMuIDkBmRB9QHXsLQGvDNHfBXwVAa8M0d8FfBUBrwzR3wV8FQO6Cv4oTUgJA44SUPMuI/j/jhJQ8y4j+P+gDqmNvbfg/6AOqY29t+D/oA6pjb234P+gDqmNvbfg/6AOqY29t+D/oA6pjb234P+gDqmNvbfg/7oK/ihNS8j/ugr+KE1LyP+6Cv4oTUvI/7oK/ihNS8j/oA6pjb23oP+gDqmNvbeg/6AOqY29t2D8=\"},\"shape\":[28],\"dtype\":\"float64\",\"order\":\"little\"}]]}}},\"view\":{\"type\":\"object\",\"name\":\"CDSView\",\"id\":\"eae2c9c3-6e86-45bd-b162-60231bf40036\",\"attributes\":{\"filter\":{\"type\":\"object\",\"name\":\"AllIndices\",\"id\":\"cc9da985-1cb5-4b62-8236-3a93244e61fb\"}}},\"glyph\":{\"type\":\"object\",\"name\":\"VBar\",\"id\":\"6ec6b8a2-2024-46a8-9c0e-d760b10e928e\",\"attributes\":{\"tags\":[\"apply_ranges\"],\"x\":{\"type\":\"field\",\"field\":\"post_str_b4\"},\"width\":{\"type\":\"value\",\"value\":0.8},\"top\":{\"type\":\"field\",\"field\":\"percent\"},\"fill_color\":{\"type\":\"value\",\"value\":\"#30a2da\"},\"hatch_color\":{\"type\":\"value\",\"value\":\"#30a2da\"}}},\"selection_glyph\":{\"type\":\"object\",\"name\":\"VBar\",\"id\":\"099dd337-767d-48a6-9280-0e43cd68352d\",\"attributes\":{\"tags\":[\"apply_ranges\"],\"x\":{\"type\":\"field\",\"field\":\"post_str_b4\"},\"width\":{\"type\":\"value\",\"value\":0.8},\"bottom\":{\"type\":\"value\",\"value\":0},\"top\":{\"type\":\"field\",\"field\":\"percent\"},\"line_color\":{\"type\":\"value\",\"value\":\"black\"},\"line_alpha\":{\"type\":\"value\",\"value\":1.0},\"line_width\":{\"type\":\"value\",\"value\":1},\"line_join\":{\"type\":\"value\",\"value\":\"bevel\"},\"line_cap\":{\"type\":\"value\",\"value\":\"butt\"},\"line_dash\":{\"type\":\"value\",\"value\":[]},\"line_dash_offset\":{\"type\":\"value\",\"value\":0},\"fill_color\":{\"type\":\"value\",\"value\":\"#30a2da\"},\"fill_alpha\":{\"type\":\"value\",\"value\":1.0},\"hatch_color\":{\"type\":\"value\",\"value\":\"#30a2da\"},\"hatch_alpha\":{\"type\":\"value\",\"value\":1.0},\"hatch_scale\":{\"type\":\"value\",\"value\":12.0},\"hatch_pattern\":{\"type\":\"value\",\"value\":null},\"hatch_weight\":{\"type\":\"value\",\"value\":1.0}}},\"nonselection_glyph\":{\"type\":\"object\",\"name\":\"VBar\",\"id\":\"2a2ac445-bb36-4045-b39b-93c71fd08c6c\",\"attributes\":{\"tags\":[\"apply_ranges\"],\"x\":{\"type\":\"field\",\"field\":\"post_str_b4\"},\"width\":{\"type\":\"value\",\"value\":0.8},\"top\":{\"type\":\"field\",\"field\":\"percent\"},\"line_alpha\":{\"type\":\"value\",\"value\":0.1},\"fill_color\":{\"type\":\"value\",\"value\":\"#30a2da\"},\"fill_alpha\":{\"type\":\"value\",\"value\":0.1},\"hatch_color\":{\"type\":\"value\",\"value\":\"#30a2da\"},\"hatch_alpha\":{\"type\":\"value\",\"value\":0.1}}},\"muted_glyph\":{\"type\":\"object\",\"name\":\"VBar\",\"id\":\"c43ca03d-8198-48ce-ad9c-81d87f9a4213\",\"attributes\":{\"tags\":[\"apply_ranges\"],\"x\":{\"type\":\"field\",\"field\":\"post_str_b4\"},\"width\":{\"type\":\"value\",\"value\":0.8},\"top\":{\"type\":\"field\",\"field\":\"percent\"},\"line_alpha\":{\"type\":\"value\",\"value\":0.2},\"fill_color\":{\"type\":\"value\",\"value\":\"#30a2da\"},\"fill_alpha\":{\"type\":\"value\",\"value\":0.2},\"hatch_color\":{\"type\":\"value\",\"value\":\"#30a2da\"},\"hatch_alpha\":{\"type\":\"value\",\"value\":0.2}}}}},{\"type\":\"object\",\"name\":\"Span\",\"id\":\"3b6e1055-8ba5-4c7b-975a-1ce4006bd7ac\",\"attributes\":{\"level\":\"glyph\",\"location\":3.571428571428573,\"line_color\":\"red\",\"line_width\":3}},{\"type\":\"object\",\"name\":\"Span\",\"id\":\"159677ba-2527-46ab-a07d-9cc4b6f2ea59\",\"attributes\":{\"level\":\"glyph\",\"location\":5.3571428571428585,\"line_color\":\"blue\",\"line_width\":3}},{\"type\":\"object\",\"name\":\"Span\",\"id\":\"99037259-2995-4926-b959-27aea4fd1d3c\",\"attributes\":{\"level\":\"glyph\",\"location\":1.7857142857142865,\"line_color\":\"blue\",\"line_width\":3}}],\"toolbar\":{\"type\":\"object\",\"name\":\"Toolbar\",\"id\":\"c0d1f365-54d1-439a-b779-2ee80c11a8a5\",\"attributes\":{\"tools\":[{\"type\":\"object\",\"name\":\"WheelZoomTool\",\"id\":\"0f83d8fb-767f-4cb7-8965-ab39f05fb82c\",\"attributes\":{\"tags\":[\"hv_created\"],\"renderers\":\"auto\",\"zoom_together\":\"none\"}},{\"type\":\"object\",\"name\":\"HoverTool\",\"id\":\"fcf2b8c5-7969-4c75-94c9-9b82ee69a176\",\"attributes\":{\"tags\":[\"hv_created\"],\"renderers\":[{\"id\":\"0222dc76-f422-4c00-ae2e-0860c9928842\"}],\"tooltips\":[[\"post_str_b4\",\"@{post_str_b4}\"],[\"percent\",\"@{percent}\"]]}},{\"type\":\"object\",\"name\":\"SaveTool\",\"id\":\"2d39d0d3-4331-488f-8c4b-5ed77b5ac7eb\"},{\"type\":\"object\",\"name\":\"PanTool\",\"id\":\"8e9d8914-b577-4119-a09a-bff850c684c8\"},{\"type\":\"object\",\"name\":\"BoxZoomTool\",\"id\":\"7b324cbf-1e7b-453a-86a1-2550c5d8df37\",\"attributes\":{\"dimensions\":\"both\",\"overlay\":{\"type\":\"object\",\"name\":\"BoxAnnotation\",\"id\":\"0e4ae34b-9e9f-41a2-bcfb-0c9b077f1238\",\"attributes\":{\"syncable\":false,\"line_color\":\"black\",\"line_alpha\":1.0,\"line_width\":2,\"line_dash\":[4,4],\"fill_color\":\"lightgrey\",\"fill_alpha\":0.5,\"level\":\"overlay\",\"visible\":false,\"left\":{\"type\":\"number\",\"value\":\"nan\"},\"right\":{\"type\":\"number\",\"value\":\"nan\"},\"top\":{\"type\":\"number\",\"value\":\"nan\"},\"bottom\":{\"type\":\"number\",\"value\":\"nan\"},\"left_units\":\"canvas\",\"right_units\":\"canvas\",\"top_units\":\"canvas\",\"bottom_units\":\"canvas\",\"handles\":{\"type\":\"object\",\"name\":\"BoxInteractionHandles\",\"id\":\"982032cc-4060-4dba-948b-f383c209c74f\",\"attributes\":{\"all\":{\"type\":\"object\",\"name\":\"AreaVisuals\",\"id\":\"162d2bcc-cb5f-48ac-b437-952982a54587\",\"attributes\":{\"fill_color\":\"white\",\"hover_fill_color\":\"lightgray\"}}}}}}}},{\"type\":\"object\",\"name\":\"ResetTool\",\"id\":\"50631c68-2ad2-4c61-9dfd-9385e786a060\"}],\"active_drag\":{\"id\":\"8e9d8914-b577-4119-a09a-bff850c684c8\"}}},\"left\":[{\"type\":\"object\",\"name\":\"LinearAxis\",\"id\":\"1116863e-b956-4366-a545-7683e81d3717\",\"attributes\":{\"ticker\":{\"type\":\"object\",\"name\":\"BasicTicker\",\"id\":\"6e100ef0-91ce-40e3-8b76-4fe41d1badae\",\"attributes\":{\"mantissas\":[1,2,5]}},\"formatter\":{\"type\":\"object\",\"name\":\"BasicTickFormatter\",\"id\":\"a3aa3d5c-7fba-4980-82e6-edf8e4dd9d19\"},\"axis_label\":\"percent\",\"major_label_policy\":{\"type\":\"object\",\"name\":\"AllLabels\",\"id\":\"beff252f-0119-4657-88a6-0f820ced5820\"}}}],\"below\":[{\"type\":\"object\",\"name\":\"CategoricalAxis\",\"id\":\"a8f92c96-3952-4abe-8a82-2f35d2f4fc43\",\"attributes\":{\"ticker\":{\"type\":\"object\",\"name\":\"CategoricalTicker\",\"id\":\"90f8ba24-3295-4589-ac76-91a0a78d487f\"},\"formatter\":{\"type\":\"object\",\"name\":\"CategoricalTickFormatter\",\"id\":\"8173ec8e-2f74-4679-8909-1d8dd0300870\"},\"axis_label\":\"post_str_b4\",\"major_label_policy\":{\"type\":\"object\",\"name\":\"AllLabels\",\"id\":\"00bd897c-f079-463c-b30b-fa5ca5ce24dd\"}}}],\"center\":[{\"type\":\"object\",\"name\":\"Grid\",\"id\":\"b2921b96-c4bb-4b39-a297-6243a95bde91\",\"attributes\":{\"axis\":{\"id\":\"a8f92c96-3952-4abe-8a82-2f35d2f4fc43\"},\"grid_line_color\":null}},{\"type\":\"object\",\"name\":\"Grid\",\"id\":\"0b25a54c-e9ab-43a6-addd-1d243fb13fec\",\"attributes\":{\"dimension\":1,\"axis\":{\"id\":\"1116863e-b956-4366-a545-7683e81d3717\"},\"grid_line_color\":null}}],\"min_border_top\":10,\"min_border_bottom\":10,\"min_border_left\":10,\"min_border_right\":10,\"output_backend\":\"webgl\"}},{\"type\":\"object\",\"name\":\"Spacer\",\"id\":\"308d5545-6c90-4e7a-9597-3f0e4d32963f\",\"attributes\":{\"name\":\"HSpacer00504\",\"stylesheets\":[\"\\n:host(.pn-loading):before, .pn-loading:before {\\n  background-color: #c3c3c3;\\n  mask-size: auto calc(min(50%, 400px));\\n  -webkit-mask-size: auto calc(min(50%, 400px));\\n}\",{\"id\":\"1032e1be-caa7-4bf0-b087-774f7c49f496\"},{\"id\":\"25db40ba-fc72-4f9c-8e09-1ba1304e03d7\"},{\"id\":\"ad4ade70-8f08-48c8-8a9e-912fd72e1683\"}],\"margin\":0,\"sizing_mode\":\"stretch_width\",\"align\":\"start\"}}]}}],\"defs\":[{\"type\":\"model\",\"name\":\"ReactiveHTML1\"},{\"type\":\"model\",\"name\":\"FlexBox1\",\"properties\":[{\"name\":\"align_content\",\"kind\":\"Any\",\"default\":\"flex-start\"},{\"name\":\"align_items\",\"kind\":\"Any\",\"default\":\"flex-start\"},{\"name\":\"flex_direction\",\"kind\":\"Any\",\"default\":\"row\"},{\"name\":\"flex_wrap\",\"kind\":\"Any\",\"default\":\"wrap\"},{\"name\":\"gap\",\"kind\":\"Any\",\"default\":\"\"},{\"name\":\"justify_content\",\"kind\":\"Any\",\"default\":\"flex-start\"}]},{\"type\":\"model\",\"name\":\"FloatPanel1\",\"properties\":[{\"name\":\"config\",\"kind\":\"Any\",\"default\":{\"type\":\"map\"}},{\"name\":\"contained\",\"kind\":\"Any\",\"default\":true},{\"name\":\"position\",\"kind\":\"Any\",\"default\":\"right-top\"},{\"name\":\"offsetx\",\"kind\":\"Any\",\"default\":null},{\"name\":\"offsety\",\"kind\":\"Any\",\"default\":null},{\"name\":\"theme\",\"kind\":\"Any\",\"default\":\"primary\"},{\"name\":\"status\",\"kind\":\"Any\",\"default\":\"normalized\"}]},{\"type\":\"model\",\"name\":\"GridStack1\",\"properties\":[{\"name\":\"ncols\",\"kind\":\"Any\",\"default\":null},{\"name\":\"nrows\",\"kind\":\"Any\",\"default\":null},{\"name\":\"allow_resize\",\"kind\":\"Any\",\"default\":true},{\"name\":\"allow_drag\",\"kind\":\"Any\",\"default\":true},{\"name\":\"state\",\"kind\":\"Any\",\"default\":[]}]},{\"type\":\"model\",\"name\":\"drag1\",\"properties\":[{\"name\":\"slider_width\",\"kind\":\"Any\",\"default\":5},{\"name\":\"slider_color\",\"kind\":\"Any\",\"default\":\"black\"},{\"name\":\"value\",\"kind\":\"Any\",\"default\":50}]},{\"type\":\"model\",\"name\":\"click1\",\"properties\":[{\"name\":\"terminal_output\",\"kind\":\"Any\",\"default\":\"\"},{\"name\":\"debug_name\",\"kind\":\"Any\",\"default\":\"\"},{\"name\":\"clears\",\"kind\":\"Any\",\"default\":0}]},{\"type\":\"model\",\"name\":\"FastWrapper1\",\"properties\":[{\"name\":\"object\",\"kind\":\"Any\",\"default\":null},{\"name\":\"style\",\"kind\":\"Any\",\"default\":null}]},{\"type\":\"model\",\"name\":\"NotificationArea1\",\"properties\":[{\"name\":\"js_events\",\"kind\":\"Any\",\"default\":{\"type\":\"map\"}},{\"name\":\"max_notifications\",\"kind\":\"Any\",\"default\":5},{\"name\":\"notifications\",\"kind\":\"Any\",\"default\":[]},{\"name\":\"position\",\"kind\":\"Any\",\"default\":\"bottom-right\"},{\"name\":\"_clear\",\"kind\":\"Any\",\"default\":0},{\"name\":\"types\",\"kind\":\"Any\",\"default\":[{\"type\":\"map\",\"entries\":[[\"type\",\"warning\"],[\"background\",\"#ffc107\"],[\"icon\",{\"type\":\"map\",\"entries\":[[\"className\",\"fas fa-exclamation-triangle\"],[\"tagName\",\"i\"],[\"color\",\"white\"]]}]]},{\"type\":\"map\",\"entries\":[[\"type\",\"info\"],[\"background\",\"#007bff\"],[\"icon\",{\"type\":\"map\",\"entries\":[[\"className\",\"fas fa-info-circle\"],[\"tagName\",\"i\"],[\"color\",\"white\"]]}]]}]}]},{\"type\":\"model\",\"name\":\"Notification\",\"properties\":[{\"name\":\"background\",\"kind\":\"Any\",\"default\":null},{\"name\":\"duration\",\"kind\":\"Any\",\"default\":3000},{\"name\":\"icon\",\"kind\":\"Any\",\"default\":null},{\"name\":\"message\",\"kind\":\"Any\",\"default\":\"\"},{\"name\":\"notification_type\",\"kind\":\"Any\",\"default\":null},{\"name\":\"_rendered\",\"kind\":\"Any\",\"default\":false},{\"name\":\"_destroyed\",\"kind\":\"Any\",\"default\":false}]},{\"type\":\"model\",\"name\":\"TemplateActions1\",\"properties\":[{\"name\":\"open_modal\",\"kind\":\"Any\",\"default\":0},{\"name\":\"close_modal\",\"kind\":\"Any\",\"default\":0}]},{\"type\":\"model\",\"name\":\"BootstrapTemplateActions1\",\"properties\":[{\"name\":\"open_modal\",\"kind\":\"Any\",\"default\":0},{\"name\":\"close_modal\",\"kind\":\"Any\",\"default\":0}]},{\"type\":\"model\",\"name\":\"TemplateEditor1\",\"properties\":[{\"name\":\"layout\",\"kind\":\"Any\",\"default\":[]}]},{\"type\":\"model\",\"name\":\"MaterialTemplateActions1\",\"properties\":[{\"name\":\"open_modal\",\"kind\":\"Any\",\"default\":0},{\"name\":\"close_modal\",\"kind\":\"Any\",\"default\":0}]},{\"type\":\"model\",\"name\":\"ReactiveESM1\",\"properties\":[{\"name\":\"esm_constants\",\"kind\":\"Any\",\"default\":{\"type\":\"map\"}}]},{\"type\":\"model\",\"name\":\"JSComponent1\",\"properties\":[{\"name\":\"esm_constants\",\"kind\":\"Any\",\"default\":{\"type\":\"map\"}}]},{\"type\":\"model\",\"name\":\"ReactComponent1\",\"properties\":[{\"name\":\"esm_constants\",\"kind\":\"Any\",\"default\":{\"type\":\"map\"}}]},{\"type\":\"model\",\"name\":\"AnyWidgetComponent1\",\"properties\":[{\"name\":\"esm_constants\",\"kind\":\"Any\",\"default\":{\"type\":\"map\"}}]},{\"type\":\"model\",\"name\":\"request_value1\",\"properties\":[{\"name\":\"fill\",\"kind\":\"Any\",\"default\":\"none\"},{\"name\":\"_synced\",\"kind\":\"Any\",\"default\":null},{\"name\":\"_request_sync\",\"kind\":\"Any\",\"default\":0}]}]}};\n",
       "  var render_items = [{\"docid\":\"98d1e1ee-32d1-4cc8-8f8b-58887647759c\",\"roots\":{\"56d9ea38-291d-4f5c-ba7f-425911889aa1\":\"c072b9c0-0b03-4a3b-87b2-3ff0efaef125\"},\"root_ids\":[\"56d9ea38-291d-4f5c-ba7f-425911889aa1\"]}];\n",
       "  var docs = Object.values(docs_json)\n",
       "  if (!docs) {\n",
       "    return\n",
       "  }\n",
       "  const py_version = docs[0].version.replace('rc', '-rc.').replace('.dev', '-dev.')\n",
       "  async function embed_document(root) {\n",
       "    var Bokeh = get_bokeh(root)\n",
       "    await Bokeh.embed.embed_items_notebook(docs_json, render_items);\n",
       "    for (const render_item of render_items) {\n",
       "      for (const root_id of render_item.root_ids) {\n",
       "\tconst id_el = document.getElementById(root_id)\n",
       "\tif (id_el.children.length && id_el.children[0].hasAttribute('data-root-id')) {\n",
       "\t  const root_el = id_el.children[0]\n",
       "\t  root_el.id = root_el.id + '-rendered'\n",
       "\t  for (const child of root_el.children) {\n",
       "            // Ensure JupyterLab does not capture keyboard shortcuts\n",
       "            // see: https://jupyterlab.readthedocs.io/en/4.1.x/extension/notebook.html#keyboard-interaction-model\n",
       "\t    child.setAttribute('data-lm-suppress-shortcuts', 'true')\n",
       "\t  }\n",
       "\t}\n",
       "      }\n",
       "    }\n",
       "  }\n",
       "  function get_bokeh(root) {\n",
       "    if (root.Bokeh === undefined) {\n",
       "      return null\n",
       "    } else if (root.Bokeh.version !== py_version) {\n",
       "      if (root.Bokeh.versions === undefined || !root.Bokeh.versions.has(py_version)) {\n",
       "\treturn null\n",
       "      }\n",
       "      return root.Bokeh.versions.get(py_version);\n",
       "    } else if (root.Bokeh.version === py_version) {\n",
       "      return root.Bokeh\n",
       "    }\n",
       "    return null\n",
       "  }\n",
       "  function is_loaded(root) {\n",
       "    var Bokeh = get_bokeh(root)\n",
       "    return (Bokeh != null && Bokeh.Panel !== undefined)\n",
       "  }\n",
       "  if (is_loaded(root)) {\n",
       "    embed_document(root);\n",
       "  } else {\n",
       "    var attempts = 0;\n",
       "    var timer = setInterval(function(root) {\n",
       "      if (is_loaded(root)) {\n",
       "        clearInterval(timer);\n",
       "        embed_document(root);\n",
       "      } else if (document.readyState == \"complete\") {\n",
       "        attempts++;\n",
       "        if (attempts > 200) {\n",
       "          clearInterval(timer);\n",
       "\t  var Bokeh = get_bokeh(root)\n",
       "\t  if (Bokeh == null || Bokeh.Panel == null) {\n",
       "            console.warn(\"Panel: ERROR: Unable to run Panel code because Bokeh or Panel library is missing\");\n",
       "\t  } else {\n",
       "\t    console.warn(\"Panel: WARNING: Attempting to render but not all required libraries could be resolved.\")\n",
       "\t    embed_document(root)\n",
       "\t  }\n",
       "        }\n",
       "      }\n",
       "    }, 25, root)\n",
       "  }\n",
       "})(window);</script>"
      ],
      "text/plain": [
       ":Overlay\n",
       "   .Bars.I    :Bars   [post_str_b4]   (percent)\n",
       "   .HLine.I   :HLine   [x,y]\n",
       "   .HLine.II  :HLine   [x,y]\n",
       "   .HLine.III :HLine   [x,y]"
      ]
     },
     "metadata": {
      "application/vnd.holoviews_exec.v0+json": {
       "id": "56d9ea38-291d-4f5c-ba7f-425911889aa1"
      }
     },
     "output_type": "display_data"
    },
    {
     "name": "stdout",
     "output_type": "stream",
     "text": [
      "df_10_last FOR str_b4 = 20\n",
      "Last 3 results last_results=['19', '20']\n"
     ]
    },
    {
     "data": {
      "text/html": [
       "<div><style>\n",
       ".dataframe > thead > tr,\n",
       ".dataframe > tbody > tr {\n",
       "  text-align: right;\n",
       "  white-space: pre-wrap;\n",
       "}\n",
       "</style>\n",
       "<small>shape: (10, 30)</small><table border=\"1\" class=\"dataframe\"><thead><tr><th>fecha</th><th>sorteo</th><th>bolillas regulares</th><th>bolillas chauchamba</th><th>cc1</th><th>cc2</th><th>id</th><th>combo</th><th>b1</th><th>b2</th><th>b3</th><th>b4</th><th>b5</th><th>b6</th><th>str_b1</th><th>str_b2</th><th>str_b3</th><th>str_b4</th><th>str_b5</th><th>str_b6</th><th>post_str_b1</th><th>post_str_b2</th><th>post_str_b3</th><th>post_str_b4</th><th>post_str_b5</th><th>post_str_blast</th><th>is_rare_combination</th><th>reason</th><th>jumps_map</th><th>unijump</th></tr><tr><td>str</td><td>str</td><td>str</td><td>str</td><td>str</td><td>str</td><td>str</td><td>array[u8, 6]</td><td>u8</td><td>u8</td><td>u8</td><td>u8</td><td>u8</td><td>u8</td><td>str</td><td>str</td><td>str</td><td>str</td><td>str</td><td>str</td><td>str</td><td>str</td><td>str</td><td>str</td><td>str</td><td>str</td><td>bool</td><td>u8</td><td>str</td><td>i64</td></tr></thead><tbody><tr><td>&quot;26/04/2025&quot;</td><td>&quot;1800&quot;</td><td>&quot;20 35 03 19 09 29&quot;</td><td>&quot;09 17 29 39 31 34&quot;</td><td>&quot;&quot;</td><td>&quot;&quot;</td><td>&quot;030919202935&quot;</td><td>[3, 9, … 35]</td><td>3</td><td>9</td><td>19</td><td>20</td><td>29</td><td>35</td><td>&quot;03&quot;</td><td>&quot;09&quot;</td><td>&quot;19&quot;</td><td>&quot;20&quot;</td><td>&quot;29&quot;</td><td>&quot;35&quot;</td><td>&quot;03&quot;</td><td>&quot;09&quot;</td><td>&quot;19&quot;</td><td>&quot;20&quot;</td><td>&quot;29&quot;</td><td>&quot;35&quot;</td><td>false</td><td>0</td><td>&quot;06_10_01_09_06&quot;</td><td>-58</td></tr><tr><td>&quot;10/04/2025&quot;</td><td>&quot;1793&quot;</td><td>&quot;01 36 20 18 22 02&quot;</td><td>&quot;33 17 29 39 30 36&quot;</td><td>&quot;&quot;</td><td>&quot;&quot;</td><td>&quot;010218202236&quot;</td><td>[1, 2, … 36]</td><td>1</td><td>2</td><td>18</td><td>20</td><td>22</td><td>36</td><td>&quot;01&quot;</td><td>&quot;02&quot;</td><td>&quot;18&quot;</td><td>&quot;20&quot;</td><td>&quot;22&quot;</td><td>&quot;36&quot;</td><td>&quot;03&quot;</td><td>&quot;10&quot;</td><td>&quot;11&quot;</td><td>&quot;19&quot;</td><td>&quot;26&quot;</td><td>&quot;32&quot;</td><td>true</td><td>8</td><td>&quot;01_16_02_02_14&quot;</td><td>-45</td></tr><tr><td>&quot;10/04/2025&quot;</td><td>&quot;1793&quot;</td><td>&quot;01 36 20 18 22 02&quot;</td><td>&quot;33 17 29 39 30 36&quot;</td><td>&quot;&quot;</td><td>&quot;&quot;</td><td>&quot;010218202236&quot;</td><td>[1, 2, … 36]</td><td>1</td><td>2</td><td>18</td><td>20</td><td>22</td><td>36</td><td>&quot;01&quot;</td><td>&quot;02&quot;</td><td>&quot;18&quot;</td><td>&quot;20&quot;</td><td>&quot;22&quot;</td><td>&quot;36&quot;</td><td>&quot;01&quot;</td><td>&quot;02&quot;</td><td>&quot;18&quot;</td><td>&quot;20&quot;</td><td>&quot;22&quot;</td><td>&quot;36&quot;</td><td>true</td><td>8</td><td>&quot;01_16_02_02_14&quot;</td><td>-45</td></tr><tr><td>&quot;11/02/2025&quot;</td><td>&quot;1768&quot;</td><td>&quot;32 20 15 12 30 11&quot;</td><td>&quot;37 26 38 35 02 31&quot;</td><td>&quot;&quot;</td><td>&quot;&quot;</td><td>&quot;111215203032&quot;</td><td>[11, 12, … 32]</td><td>11</td><td>12</td><td>15</td><td>20</td><td>30</td><td>32</td><td>&quot;11&quot;</td><td>&quot;12&quot;</td><td>&quot;15&quot;</td><td>&quot;20&quot;</td><td>&quot;30&quot;</td><td>&quot;32&quot;</td><td>&quot;02&quot;</td><td>&quot;07&quot;</td><td>&quot;08&quot;</td><td>&quot;12&quot;</td><td>&quot;20&quot;</td><td>&quot;27&quot;</td><td>false</td><td>0</td><td>&quot;01_03_05_10_02&quot;</td><td>-19</td></tr><tr><td>&quot;11/02/2025&quot;</td><td>&quot;1768&quot;</td><td>&quot;32 20 15 12 30 11&quot;</td><td>&quot;37 26 38 35 02 31&quot;</td><td>&quot;&quot;</td><td>&quot;&quot;</td><td>&quot;111215203032&quot;</td><td>[11, 12, … 32]</td><td>11</td><td>12</td><td>15</td><td>20</td><td>30</td><td>32</td><td>&quot;11&quot;</td><td>&quot;12&quot;</td><td>&quot;15&quot;</td><td>&quot;20&quot;</td><td>&quot;30&quot;</td><td>&quot;32&quot;</td><td>&quot;11&quot;</td><td>&quot;12&quot;</td><td>&quot;15&quot;</td><td>&quot;20&quot;</td><td>&quot;30&quot;</td><td>&quot;32&quot;</td><td>false</td><td>0</td><td>&quot;01_03_05_10_02&quot;</td><td>-19</td></tr><tr><td>&quot;28/11/2024&quot;</td><td>&quot;1736&quot;</td><td>&quot;20 26 39 08 19 10&quot;</td><td>&quot;09 26 13 23 24 05&quot;</td><td>&quot;&quot;</td><td>&quot;&quot;</td><td>&quot;081019202639&quot;</td><td>[8, 10, … 39]</td><td>8</td><td>10</td><td>19</td><td>20</td><td>26</td><td>39</td><td>&quot;08&quot;</td><td>&quot;10&quot;</td><td>&quot;19&quot;</td><td>&quot;20&quot;</td><td>&quot;26&quot;</td><td>&quot;39&quot;</td><td>&quot;03&quot;</td><td>&quot;05&quot;</td><td>&quot;09&quot;</td><td>&quot;10&quot;</td><td>&quot;37&quot;</td><td>&quot;39&quot;</td><td>false</td><td>0</td><td>&quot;02_09_01_06_13&quot;</td><td>-39</td></tr><tr><td>&quot;28/11/2024&quot;</td><td>&quot;1736&quot;</td><td>&quot;20 26 39 08 19 10&quot;</td><td>&quot;09 26 13 23 24 05&quot;</td><td>&quot;&quot;</td><td>&quot;&quot;</td><td>&quot;081019202639&quot;</td><td>[8, 10, … 39]</td><td>8</td><td>10</td><td>19</td><td>20</td><td>26</td><td>39</td><td>&quot;08&quot;</td><td>&quot;10&quot;</td><td>&quot;19&quot;</td><td>&quot;20&quot;</td><td>&quot;26&quot;</td><td>&quot;39&quot;</td><td>&quot;08&quot;</td><td>&quot;10&quot;</td><td>&quot;19&quot;</td><td>&quot;20&quot;</td><td>&quot;26&quot;</td><td>&quot;39&quot;</td><td>false</td><td>0</td><td>&quot;02_09_01_06_13&quot;</td><td>-39</td></tr><tr><td>&quot;23/11/2024&quot;</td><td>&quot;1734&quot;</td><td>&quot;29 25 13 20 19 07&quot;</td><td>&quot;08 01 32 11 14 12&quot;</td><td>&quot;&quot;</td><td>&quot;&quot;</td><td>&quot;071319202529&quot;</td><td>[7, 13, … 29]</td><td>7</td><td>13</td><td>19</td><td>20</td><td>25</td><td>29</td><td>&quot;07&quot;</td><td>&quot;13&quot;</td><td>&quot;19&quot;</td><td>&quot;20&quot;</td><td>&quot;25&quot;</td><td>&quot;29&quot;</td><td>&quot;02&quot;</td><td>&quot;06&quot;</td><td>&quot;21&quot;</td><td>&quot;23&quot;</td><td>&quot;32&quot;</td><td>&quot;37&quot;</td><td>true</td><td>9</td><td>&quot;06_06_01_05_04&quot;</td><td>-28</td></tr><tr><td>&quot;23/11/2024&quot;</td><td>&quot;1734&quot;</td><td>&quot;29 25 13 20 19 07&quot;</td><td>&quot;08 01 32 11 14 12&quot;</td><td>&quot;&quot;</td><td>&quot;&quot;</td><td>&quot;071319202529&quot;</td><td>[7, 13, … 29]</td><td>7</td><td>13</td><td>19</td><td>20</td><td>25</td><td>29</td><td>&quot;07&quot;</td><td>&quot;13&quot;</td><td>&quot;19&quot;</td><td>&quot;20&quot;</td><td>&quot;25&quot;</td><td>&quot;29&quot;</td><td>&quot;07&quot;</td><td>&quot;13&quot;</td><td>&quot;19&quot;</td><td>&quot;20&quot;</td><td>&quot;25&quot;</td><td>&quot;29&quot;</td><td>true</td><td>9</td><td>&quot;06_06_01_05_04&quot;</td><td>-28</td></tr><tr><td>&quot;19/09/2024&quot;</td><td>&quot;1706&quot;</td><td>&quot;20 16 35 17 34 11&quot;</td><td>&quot;27 15 09 35 05 39&quot;</td><td>&quot;&quot;</td><td>&quot;&quot;</td><td>&quot;111617203435&quot;</td><td>[11, 16, … 35]</td><td>11</td><td>16</td><td>17</td><td>20</td><td>34</td><td>35</td><td>&quot;11&quot;</td><td>&quot;16&quot;</td><td>&quot;17&quot;</td><td>&quot;20&quot;</td><td>&quot;34&quot;</td><td>&quot;35&quot;</td><td>&quot;12&quot;</td><td>&quot;13&quot;</td><td>&quot;16&quot;</td><td>&quot;22&quot;</td><td>&quot;32&quot;</td><td>&quot;37&quot;</td><td>false</td><td>0</td><td>&quot;05_01_03_14_01&quot;</td><td>-36</td></tr></tbody></table></div>"
      ],
      "text/plain": [
       "shape: (10, 30)\n",
       "┌────────────┬────────┬─────────────┬─────────────┬───┬────────────┬────────┬────────────┬─────────┐\n",
       "│ fecha      ┆ sorteo ┆ bolillas    ┆ bolillas    ┆ … ┆ is_rare_co ┆ reason ┆ jumps_map  ┆ unijump │\n",
       "│ ---        ┆ ---    ┆ regulares   ┆ chauchamba  ┆   ┆ mbination  ┆ ---    ┆ ---        ┆ ---     │\n",
       "│ str        ┆ str    ┆ ---         ┆ ---         ┆   ┆ ---        ┆ u8     ┆ str        ┆ i64     │\n",
       "│            ┆        ┆ str         ┆ str         ┆   ┆ bool       ┆        ┆            ┆         │\n",
       "╞════════════╪════════╪═════════════╪═════════════╪═══╪════════════╪════════╪════════════╪═════════╡\n",
       "│ 26/04/2025 ┆ 1800   ┆ 20 35 03 19 ┆ 09 17 29 39 ┆ … ┆ false      ┆ 0      ┆ 06_10_01_0 ┆ -58     │\n",
       "│            ┆        ┆ 09 29       ┆ 31 34       ┆   ┆            ┆        ┆ 9_06       ┆         │\n",
       "│ 10/04/2025 ┆ 1793   ┆ 01 36 20 18 ┆ 33 17 29 39 ┆ … ┆ true       ┆ 8      ┆ 01_16_02_0 ┆ -45     │\n",
       "│            ┆        ┆ 22 02       ┆ 30 36       ┆   ┆            ┆        ┆ 2_14       ┆         │\n",
       "│ 10/04/2025 ┆ 1793   ┆ 01 36 20 18 ┆ 33 17 29 39 ┆ … ┆ true       ┆ 8      ┆ 01_16_02_0 ┆ -45     │\n",
       "│            ┆        ┆ 22 02       ┆ 30 36       ┆   ┆            ┆        ┆ 2_14       ┆         │\n",
       "│ 11/02/2025 ┆ 1768   ┆ 32 20 15 12 ┆ 37 26 38 35 ┆ … ┆ false      ┆ 0      ┆ 01_03_05_1 ┆ -19     │\n",
       "│            ┆        ┆ 30 11       ┆ 02 31       ┆   ┆            ┆        ┆ 0_02       ┆         │\n",
       "│ 11/02/2025 ┆ 1768   ┆ 32 20 15 12 ┆ 37 26 38 35 ┆ … ┆ false      ┆ 0      ┆ 01_03_05_1 ┆ -19     │\n",
       "│            ┆        ┆ 30 11       ┆ 02 31       ┆   ┆            ┆        ┆ 0_02       ┆         │\n",
       "│ 28/11/2024 ┆ 1736   ┆ 20 26 39 08 ┆ 09 26 13 23 ┆ … ┆ false      ┆ 0      ┆ 02_09_01_0 ┆ -39     │\n",
       "│            ┆        ┆ 19 10       ┆ 24 05       ┆   ┆            ┆        ┆ 6_13       ┆         │\n",
       "│ 28/11/2024 ┆ 1736   ┆ 20 26 39 08 ┆ 09 26 13 23 ┆ … ┆ false      ┆ 0      ┆ 02_09_01_0 ┆ -39     │\n",
       "│            ┆        ┆ 19 10       ┆ 24 05       ┆   ┆            ┆        ┆ 6_13       ┆         │\n",
       "│ 23/11/2024 ┆ 1734   ┆ 29 25 13 20 ┆ 08 01 32 11 ┆ … ┆ true       ┆ 9      ┆ 06_06_01_0 ┆ -28     │\n",
       "│            ┆        ┆ 19 07       ┆ 14 12       ┆   ┆            ┆        ┆ 5_04       ┆         │\n",
       "│ 23/11/2024 ┆ 1734   ┆ 29 25 13 20 ┆ 08 01 32 11 ┆ … ┆ true       ┆ 9      ┆ 06_06_01_0 ┆ -28     │\n",
       "│            ┆        ┆ 19 07       ┆ 14 12       ┆   ┆            ┆        ┆ 5_04       ┆         │\n",
       "│ 19/09/2024 ┆ 1706   ┆ 20 16 35 17 ┆ 27 15 09 35 ┆ … ┆ false      ┆ 0      ┆ 05_01_03_1 ┆ -36     │\n",
       "│            ┆        ┆ 34 11       ┆ 05 39       ┆   ┆            ┆        ┆ 4_01       ┆         │\n",
       "└────────────┴────────┴─────────────┴─────────────┴───┴────────────┴────────┴────────────┴─────────┘"
      ]
     },
     "metadata": {},
     "output_type": "display_data"
    },
    {
     "name": "stdout",
     "output_type": "stream",
     "text": [
      "df_jumps_map FOR str_b4 = 20\n"
     ]
    },
    {
     "data": {
      "text/html": [
       "<div><style>\n",
       ".dataframe > thead > tr,\n",
       ".dataframe > tbody > tr {\n",
       "  text-align: right;\n",
       "  white-space: pre-wrap;\n",
       "}\n",
       "</style>\n",
       "<small>shape: (181, 2)</small><table border=\"1\" class=\"dataframe\"><thead><tr><th>jumps_map</th><th>count</th></tr><tr><td>str</td><td>u32</td></tr></thead><tbody><tr><td>&quot;01_04_01_03_08&quot;</td><td>2</td></tr><tr><td>&quot;08_05_03_15_02&quot;</td><td>2</td></tr><tr><td>&quot;02_04_12_06_09&quot;</td><td>2</td></tr><tr><td>&quot;01_01_04_05_01&quot;</td><td>2</td></tr><tr><td>&quot;02_11_04_09_03&quot;</td><td>2</td></tr><tr><td>&hellip;</td><td>&hellip;</td></tr><tr><td>&quot;03_07_06_02_10&quot;</td><td>1</td></tr><tr><td>&quot;14_01_01_13_06&quot;</td><td>1</td></tr><tr><td>&quot;10_06_02_01_18&quot;</td><td>1</td></tr><tr><td>&quot;16_02_01_02_14&quot;</td><td>1</td></tr><tr><td>&quot;02_07_08_05_11&quot;</td><td>1</td></tr></tbody></table></div>"
      ],
      "text/plain": [
       "shape: (181, 2)\n",
       "┌────────────────┬───────┐\n",
       "│ jumps_map      ┆ count │\n",
       "│ ---            ┆ ---   │\n",
       "│ str            ┆ u32   │\n",
       "╞════════════════╪═══════╡\n",
       "│ 01_04_01_03_08 ┆ 2     │\n",
       "│ 08_05_03_15_02 ┆ 2     │\n",
       "│ 02_04_12_06_09 ┆ 2     │\n",
       "│ 01_01_04_05_01 ┆ 2     │\n",
       "│ 02_11_04_09_03 ┆ 2     │\n",
       "│ …              ┆ …     │\n",
       "│ 03_07_06_02_10 ┆ 1     │\n",
       "│ 14_01_01_13_06 ┆ 1     │\n",
       "│ 10_06_02_01_18 ┆ 1     │\n",
       "│ 16_02_01_02_14 ┆ 1     │\n",
       "│ 02_07_08_05_11 ┆ 1     │\n",
       "└────────────────┴───────┘"
      ]
     },
     "metadata": {},
     "output_type": "display_data"
    },
    {
     "name": "stdout",
     "output_type": "stream",
     "text": [
      "df_unijump FOR str_b4 = 20\n"
     ]
    },
    {
     "data": {
      "text/html": [
       "<div><style>\n",
       ".dataframe > thead > tr,\n",
       ".dataframe > tbody > tr {\n",
       "  text-align: right;\n",
       "  white-space: pre-wrap;\n",
       "}\n",
       "</style>\n",
       "<small>shape: (92, 2)</small><table border=\"1\" class=\"dataframe\"><thead><tr><th>unijump</th><th>count</th></tr><tr><td>i64</td><td>u32</td></tr></thead><tbody><tr><td>10</td><td>8</td></tr><tr><td>26</td><td>7</td></tr><tr><td>11</td><td>7</td></tr><tr><td>-3</td><td>7</td></tr><tr><td>-20</td><td>6</td></tr><tr><td>&hellip;</td><td>&hellip;</td></tr><tr><td>-67</td><td>1</td></tr><tr><td>-69</td><td>1</td></tr><tr><td>68</td><td>1</td></tr><tr><td>-38</td><td>1</td></tr><tr><td>32</td><td>1</td></tr></tbody></table></div>"
      ],
      "text/plain": [
       "shape: (92, 2)\n",
       "┌─────────┬───────┐\n",
       "│ unijump ┆ count │\n",
       "│ ---     ┆ ---   │\n",
       "│ i64     ┆ u32   │\n",
       "╞═════════╪═══════╡\n",
       "│ 10      ┆ 8     │\n",
       "│ 26      ┆ 7     │\n",
       "│ 11      ┆ 7     │\n",
       "│ -3      ┆ 7     │\n",
       "│ -20     ┆ 6     │\n",
       "│ …       ┆ …     │\n",
       "│ -67     ┆ 1     │\n",
       "│ -69     ┆ 1     │\n",
       "│ 68      ┆ 1     │\n",
       "│ -38     ┆ 1     │\n",
       "│ 32      ┆ 1     │\n",
       "└─────────┴───────┘"
      ]
     },
     "metadata": {},
     "output_type": "display_data"
    }
   ],
   "source": [
    "possible_b4, exclude_jump_maps_b4, last_post_b4 = plot_post_col(col='str_b4', post_col='post_str_b4')"
   ]
  },
  {
   "cell_type": "code",
   "execution_count": 11,
   "metadata": {},
   "outputs": [
    {
     "name": "stdout",
     "output_type": "stream",
     "text": [
      "Setting test_value='29'\n",
      "df_viz FOR str_b5 = 29\n"
     ]
    },
    {
     "data": {
      "text/html": [
       "<div><style>\n",
       ".dataframe > thead > tr,\n",
       ".dataframe > tbody > tr {\n",
       "  text-align: right;\n",
       "  white-space: pre-wrap;\n",
       "}\n",
       "</style>\n",
       "<small>shape: (28, 3)</small><table border=\"1\" class=\"dataframe\"><thead><tr><th>post_str_b5</th><th>count</th><th>percent</th></tr><tr><td>str</td><td>u32</td><td>f64</td></tr></thead><tbody><tr><td>&quot;29&quot;</td><td>114</td><td>36.075949</td></tr><tr><td>&quot;33&quot;</td><td>16</td><td>5.063291</td></tr><tr><td>&quot;32&quot;</td><td>15</td><td>4.746835</td></tr><tr><td>&quot;31&quot;</td><td>14</td><td>4.43038</td></tr><tr><td>&quot;35&quot;</td><td>14</td><td>4.43038</td></tr><tr><td>&hellip;</td><td>&hellip;</td><td>&hellip;</td></tr><tr><td>&quot;17&quot;</td><td>1</td><td>0.316456</td></tr><tr><td>&quot;16&quot;</td><td>1</td><td>0.316456</td></tr><tr><td>&quot;14&quot;</td><td>1</td><td>0.316456</td></tr><tr><td>&quot;15&quot;</td><td>1</td><td>0.316456</td></tr><tr><td>&quot;11&quot;</td><td>1</td><td>0.316456</td></tr></tbody></table></div>"
      ],
      "text/plain": [
       "shape: (28, 3)\n",
       "┌─────────────┬───────┬───────────┐\n",
       "│ post_str_b5 ┆ count ┆ percent   │\n",
       "│ ---         ┆ ---   ┆ ---       │\n",
       "│ str         ┆ u32   ┆ f64       │\n",
       "╞═════════════╪═══════╪═══════════╡\n",
       "│ 29          ┆ 114   ┆ 36.075949 │\n",
       "│ 33          ┆ 16    ┆ 5.063291  │\n",
       "│ 32          ┆ 15    ┆ 4.746835  │\n",
       "│ 31          ┆ 14    ┆ 4.43038   │\n",
       "│ 35          ┆ 14    ┆ 4.43038   │\n",
       "│ …           ┆ …     ┆ …         │\n",
       "│ 17          ┆ 1     ┆ 0.316456  │\n",
       "│ 16          ┆ 1     ┆ 0.316456  │\n",
       "│ 14          ┆ 1     ┆ 0.316456  │\n",
       "│ 15          ┆ 1     ┆ 0.316456  │\n",
       "│ 11          ┆ 1     ┆ 0.316456  │\n",
       "└─────────────┴───────┴───────────┘"
      ]
     },
     "metadata": {},
     "output_type": "display_data"
    },
    {
     "data": {},
     "metadata": {},
     "output_type": "display_data"
    },
    {
     "data": {
      "application/vnd.holoviews_exec.v0+json": "",
      "text/html": [
       "<div id='a76117f8-2b25-47e6-b6df-d1e0fe51c410'>\n",
       "  <div id=\"edf6c0c4-c5c2-4756-a8d0-e9b08c4836c4\" data-root-id=\"a76117f8-2b25-47e6-b6df-d1e0fe51c410\" style=\"display: contents;\"></div>\n",
       "</div>\n",
       "<script type=\"application/javascript\">(function(root) {\n",
       "  var docs_json = {\"20f32add-0158-4de1-a947-c55f2f5d7c87\":{\"version\":\"3.7.2\",\"title\":\"Bokeh Application\",\"roots\":[{\"type\":\"object\",\"name\":\"Row\",\"id\":\"a76117f8-2b25-47e6-b6df-d1e0fe51c410\",\"attributes\":{\"name\":\"Row00570\",\"tags\":[\"embedded\"],\"stylesheets\":[\"\\n:host(.pn-loading):before, .pn-loading:before {\\n  background-color: #c3c3c3;\\n  mask-size: auto calc(min(50%, 400px));\\n  -webkit-mask-size: auto calc(min(50%, 400px));\\n}\",{\"type\":\"object\",\"name\":\"ImportedStyleSheet\",\"id\":\"96957aa5-ef94-439f-ac75-862d88281ba7\",\"attributes\":{\"url\":\"https://cdn.holoviz.org/panel/1.6.2/dist/css/loading.css\"}},{\"type\":\"object\",\"name\":\"ImportedStyleSheet\",\"id\":\"9468a6a2-6284-43be-aded-76b9145cfe17\",\"attributes\":{\"url\":\"https://cdn.holoviz.org/panel/1.6.2/dist/css/listpanel.css\"}},{\"type\":\"object\",\"name\":\"ImportedStyleSheet\",\"id\":\"d7c8066d-840a-49fe-89b1-6a36cc1859ff\",\"attributes\":{\"url\":\"https://cdn.holoviz.org/panel/1.6.2/dist/bundled/theme/default.css\"}},{\"type\":\"object\",\"name\":\"ImportedStyleSheet\",\"id\":\"ddbbdf5f-1379-485d-9412-dd799a962b58\",\"attributes\":{\"url\":\"https://cdn.holoviz.org/panel/1.6.2/dist/bundled/theme/native.css\"}}],\"min_width\":700,\"margin\":0,\"sizing_mode\":\"stretch_width\",\"align\":\"start\",\"children\":[{\"type\":\"object\",\"name\":\"Spacer\",\"id\":\"b4a043be-c8c8-4b57-96c5-3e42efcca786\",\"attributes\":{\"name\":\"HSpacer00574\",\"stylesheets\":[\"\\n:host(.pn-loading):before, .pn-loading:before {\\n  background-color: #c3c3c3;\\n  mask-size: auto calc(min(50%, 400px));\\n  -webkit-mask-size: auto calc(min(50%, 400px));\\n}\",{\"id\":\"96957aa5-ef94-439f-ac75-862d88281ba7\"},{\"id\":\"d7c8066d-840a-49fe-89b1-6a36cc1859ff\"},{\"id\":\"ddbbdf5f-1379-485d-9412-dd799a962b58\"}],\"margin\":0,\"sizing_mode\":\"stretch_width\",\"align\":\"start\"}},{\"type\":\"object\",\"name\":\"Figure\",\"id\":\"3f54a83c-d372-4532-aeb7-47ab6207074b\",\"attributes\":{\"width\":700,\"height\":300,\"margin\":[5,10],\"sizing_mode\":\"fixed\",\"align\":\"start\",\"x_range\":{\"type\":\"object\",\"name\":\"FactorRange\",\"id\":\"5a5ae783-c3e0-4cb2-9e2b-b09570a68554\",\"attributes\":{\"name\":\"post_str_b5\",\"tags\":[[[\"post_str_b5\",null]],[]],\"factors\":[\"29\",\"33\",\"32\",\"31\",\"35\",\"30\",\"25\",\"27\",\"37\",\"36\",\"34\",\"28\",\"38\",\"19\",\"23\",\"24\",\"22\",\"39\",\"26\",\"21\",\"18\",\"20\",\"13\",\"17\",\"16\",\"14\",\"15\",\"11\"]}},\"y_range\":{\"type\":\"object\",\"name\":\"Range1d\",\"id\":\"8e751548-374e-4232-8807-934c1022c064\",\"attributes\":{\"name\":\"percent\",\"tags\":[[[\"percent\",null]],{\"type\":\"map\",\"entries\":[[\"invert_yaxis\",false],[\"autorange\",false]]}],\"end\":39.65189873417721,\"reset_start\":0.0,\"reset_end\":39.65189873417721}},\"x_scale\":{\"type\":\"object\",\"name\":\"CategoricalScale\",\"id\":\"9d346696-f886-44f4-977b-1b1a9de3956c\"},\"y_scale\":{\"type\":\"object\",\"name\":\"LinearScale\",\"id\":\"3406c35f-708b-4ef9-93b5-949436790d78\"},\"title\":{\"type\":\"object\",\"name\":\"Title\",\"id\":\"1025ba66-f13a-41f9-8783-b56367474323\",\"attributes\":{\"text_color\":\"black\",\"text_font_size\":\"12pt\"}},\"renderers\":[{\"type\":\"object\",\"name\":\"GlyphRenderer\",\"id\":\"0bb9f030-8f4a-44c0-8f58-b5afcf3474b8\",\"attributes\":{\"data_source\":{\"type\":\"object\",\"name\":\"ColumnDataSource\",\"id\":\"7de87087-bf2d-4bd1-93bb-bdd0886f811c\",\"attributes\":{\"selected\":{\"type\":\"object\",\"name\":\"Selection\",\"id\":\"833e67fa-c88c-4dd6-8d4b-ca52ee45c277\",\"attributes\":{\"indices\":[],\"line_indices\":[]}},\"selection_policy\":{\"type\":\"object\",\"name\":\"UnionRenderers\",\"id\":\"d2a2c52b-a3e3-491a-8b26-df1e3e97d8fc\"},\"data\":{\"type\":\"map\",\"entries\":[[\"post_str_b5\",[\"29\",\"33\",\"32\",\"31\",\"35\",\"30\",\"25\",\"27\",\"37\",\"36\",\"34\",\"28\",\"38\",\"19\",\"23\",\"24\",\"22\",\"39\",\"26\",\"21\",\"18\",\"20\",\"13\",\"17\",\"16\",\"14\",\"15\",\"11\"]],[\"percent\",{\"type\":\"ndarray\",\"array\":{\"type\":\"bytes\",\"data\":\"E+Z3tbgJQkCCqHRkz0AUQPldLW7C/BJAcRPmd7W4EUBxE+Z3tbgRQHET5ne1uBFA6ciegah0EEDpyJ6BqHQQQMP8rhY3YQ5AsmcgKh3ZC0CyZyAqHdkLQKLSkT0DUQlAcRPmd7W4AUDD/K4WN2H+P8P8rhY3Yf4/w/yuFjdh/j+i0pE9A1H5P6LSkT0DUfk/otKRPQNR+T+CqHRkz0D0P4KodGTPQPQ/gqh0ZM9A9D+CqHRkz0DkP4KodGTPQNQ/gqh0ZM9A1D+CqHRkz0DUP4KodGTPQNQ/gqh0ZM9A1D8=\"},\"shape\":[28],\"dtype\":\"float64\",\"order\":\"little\"}]]}}},\"view\":{\"type\":\"object\",\"name\":\"CDSView\",\"id\":\"1e0beffa-d7f0-4232-8e62-76794c0fc040\",\"attributes\":{\"filter\":{\"type\":\"object\",\"name\":\"AllIndices\",\"id\":\"32627cfd-82e2-43a4-9cb9-d78cd3146868\"}}},\"glyph\":{\"type\":\"object\",\"name\":\"VBar\",\"id\":\"773bd6e6-ca3a-42b5-a3db-0755297d6505\",\"attributes\":{\"tags\":[\"apply_ranges\"],\"x\":{\"type\":\"field\",\"field\":\"post_str_b5\"},\"width\":{\"type\":\"value\",\"value\":0.8},\"top\":{\"type\":\"field\",\"field\":\"percent\"},\"fill_color\":{\"type\":\"value\",\"value\":\"#30a2da\"},\"hatch_color\":{\"type\":\"value\",\"value\":\"#30a2da\"}}},\"selection_glyph\":{\"type\":\"object\",\"name\":\"VBar\",\"id\":\"6cd7425e-40ed-45e0-9bd3-66e87086ca88\",\"attributes\":{\"tags\":[\"apply_ranges\"],\"x\":{\"type\":\"field\",\"field\":\"post_str_b5\"},\"width\":{\"type\":\"value\",\"value\":0.8},\"bottom\":{\"type\":\"value\",\"value\":0},\"top\":{\"type\":\"field\",\"field\":\"percent\"},\"line_color\":{\"type\":\"value\",\"value\":\"black\"},\"line_alpha\":{\"type\":\"value\",\"value\":1.0},\"line_width\":{\"type\":\"value\",\"value\":1},\"line_join\":{\"type\":\"value\",\"value\":\"bevel\"},\"line_cap\":{\"type\":\"value\",\"value\":\"butt\"},\"line_dash\":{\"type\":\"value\",\"value\":[]},\"line_dash_offset\":{\"type\":\"value\",\"value\":0},\"fill_color\":{\"type\":\"value\",\"value\":\"#30a2da\"},\"fill_alpha\":{\"type\":\"value\",\"value\":1.0},\"hatch_color\":{\"type\":\"value\",\"value\":\"#30a2da\"},\"hatch_alpha\":{\"type\":\"value\",\"value\":1.0},\"hatch_scale\":{\"type\":\"value\",\"value\":12.0},\"hatch_pattern\":{\"type\":\"value\",\"value\":null},\"hatch_weight\":{\"type\":\"value\",\"value\":1.0}}},\"nonselection_glyph\":{\"type\":\"object\",\"name\":\"VBar\",\"id\":\"709b2059-1f05-4b40-ab12-e4c7fc791ff3\",\"attributes\":{\"tags\":[\"apply_ranges\"],\"x\":{\"type\":\"field\",\"field\":\"post_str_b5\"},\"width\":{\"type\":\"value\",\"value\":0.8},\"top\":{\"type\":\"field\",\"field\":\"percent\"},\"line_alpha\":{\"type\":\"value\",\"value\":0.1},\"fill_color\":{\"type\":\"value\",\"value\":\"#30a2da\"},\"fill_alpha\":{\"type\":\"value\",\"value\":0.1},\"hatch_color\":{\"type\":\"value\",\"value\":\"#30a2da\"},\"hatch_alpha\":{\"type\":\"value\",\"value\":0.1}}},\"muted_glyph\":{\"type\":\"object\",\"name\":\"VBar\",\"id\":\"c5e963bf-0a7f-4029-b402-5a1eac1c3d76\",\"attributes\":{\"tags\":[\"apply_ranges\"],\"x\":{\"type\":\"field\",\"field\":\"post_str_b5\"},\"width\":{\"type\":\"value\",\"value\":0.8},\"top\":{\"type\":\"field\",\"field\":\"percent\"},\"line_alpha\":{\"type\":\"value\",\"value\":0.2},\"fill_color\":{\"type\":\"value\",\"value\":\"#30a2da\"},\"fill_alpha\":{\"type\":\"value\",\"value\":0.2},\"hatch_color\":{\"type\":\"value\",\"value\":\"#30a2da\"},\"hatch_alpha\":{\"type\":\"value\",\"value\":0.2}}}}},{\"type\":\"object\",\"name\":\"Span\",\"id\":\"8f82cee1-f15e-4673-9a19-f6262617c09e\",\"attributes\":{\"level\":\"glyph\",\"location\":3.5714285714285734,\"line_color\":\"red\",\"line_width\":3}},{\"type\":\"object\",\"name\":\"Span\",\"id\":\"444a1e49-40e8-430e-bffa-532e6f96ac73\",\"attributes\":{\"level\":\"glyph\",\"location\":5.35714285714286,\"line_color\":\"blue\",\"line_width\":3}},{\"type\":\"object\",\"name\":\"Span\",\"id\":\"7c7de350-5176-4688-8226-9b19becfed25\",\"attributes\":{\"level\":\"glyph\",\"location\":1.7857142857142867,\"line_color\":\"blue\",\"line_width\":3}}],\"toolbar\":{\"type\":\"object\",\"name\":\"Toolbar\",\"id\":\"d6976773-0e6c-4f57-9527-d6988c0db135\",\"attributes\":{\"tools\":[{\"type\":\"object\",\"name\":\"WheelZoomTool\",\"id\":\"3f688b65-358d-47fa-90c1-75e7f7439fb0\",\"attributes\":{\"tags\":[\"hv_created\"],\"renderers\":\"auto\",\"zoom_together\":\"none\"}},{\"type\":\"object\",\"name\":\"HoverTool\",\"id\":\"b9a05ae8-5c6b-454b-b759-38992328bb6e\",\"attributes\":{\"tags\":[\"hv_created\"],\"renderers\":[{\"id\":\"0bb9f030-8f4a-44c0-8f58-b5afcf3474b8\"}],\"tooltips\":[[\"post_str_b5\",\"@{post_str_b5}\"],[\"percent\",\"@{percent}\"]]}},{\"type\":\"object\",\"name\":\"SaveTool\",\"id\":\"098417fc-a4ff-495e-9d14-211972854304\"},{\"type\":\"object\",\"name\":\"PanTool\",\"id\":\"a3554336-08f6-4f66-8687-a5849d964194\"},{\"type\":\"object\",\"name\":\"BoxZoomTool\",\"id\":\"c96314dc-d46e-47fa-98f2-d8a7c2ade2e7\",\"attributes\":{\"dimensions\":\"both\",\"overlay\":{\"type\":\"object\",\"name\":\"BoxAnnotation\",\"id\":\"cc7818b6-f542-43a4-b077-27e332a15a0f\",\"attributes\":{\"syncable\":false,\"line_color\":\"black\",\"line_alpha\":1.0,\"line_width\":2,\"line_dash\":[4,4],\"fill_color\":\"lightgrey\",\"fill_alpha\":0.5,\"level\":\"overlay\",\"visible\":false,\"left\":{\"type\":\"number\",\"value\":\"nan\"},\"right\":{\"type\":\"number\",\"value\":\"nan\"},\"top\":{\"type\":\"number\",\"value\":\"nan\"},\"bottom\":{\"type\":\"number\",\"value\":\"nan\"},\"left_units\":\"canvas\",\"right_units\":\"canvas\",\"top_units\":\"canvas\",\"bottom_units\":\"canvas\",\"handles\":{\"type\":\"object\",\"name\":\"BoxInteractionHandles\",\"id\":\"fd607493-d8e8-44eb-8b60-59560e1534ae\",\"attributes\":{\"all\":{\"type\":\"object\",\"name\":\"AreaVisuals\",\"id\":\"0e704824-13cb-48f2-9769-071f1e6da778\",\"attributes\":{\"fill_color\":\"white\",\"hover_fill_color\":\"lightgray\"}}}}}}}},{\"type\":\"object\",\"name\":\"ResetTool\",\"id\":\"bc661b8f-0f30-4cf6-8a07-cc9d4be67135\"}],\"active_drag\":{\"id\":\"a3554336-08f6-4f66-8687-a5849d964194\"}}},\"left\":[{\"type\":\"object\",\"name\":\"LinearAxis\",\"id\":\"912c9c48-92d0-4f31-a6f5-a4435625c889\",\"attributes\":{\"ticker\":{\"type\":\"object\",\"name\":\"BasicTicker\",\"id\":\"3a35a3db-7e6c-4888-8b48-5429fd220b1e\",\"attributes\":{\"mantissas\":[1,2,5]}},\"formatter\":{\"type\":\"object\",\"name\":\"BasicTickFormatter\",\"id\":\"b6464d32-f76b-4cb6-bb49-1f20a20e7d4b\"},\"axis_label\":\"percent\",\"major_label_policy\":{\"type\":\"object\",\"name\":\"AllLabels\",\"id\":\"6d302c89-5199-4db9-a5dc-211d9ee455cf\"}}}],\"below\":[{\"type\":\"object\",\"name\":\"CategoricalAxis\",\"id\":\"80f436bd-591a-474c-a6de-902b5688cd53\",\"attributes\":{\"ticker\":{\"type\":\"object\",\"name\":\"CategoricalTicker\",\"id\":\"68626100-0802-4828-b12a-2f95216e5af9\"},\"formatter\":{\"type\":\"object\",\"name\":\"CategoricalTickFormatter\",\"id\":\"bd8636b7-2fd6-4b23-b79e-9741f2c1db3c\"},\"axis_label\":\"post_str_b5\",\"major_label_policy\":{\"type\":\"object\",\"name\":\"AllLabels\",\"id\":\"46fc98f1-741f-4c96-b5b0-6433f374aac5\"}}}],\"center\":[{\"type\":\"object\",\"name\":\"Grid\",\"id\":\"0e3745c8-6075-4f03-b894-1f8747b9629f\",\"attributes\":{\"axis\":{\"id\":\"80f436bd-591a-474c-a6de-902b5688cd53\"},\"grid_line_color\":null}},{\"type\":\"object\",\"name\":\"Grid\",\"id\":\"07a92614-53d3-489a-94ac-eeb977779ce7\",\"attributes\":{\"dimension\":1,\"axis\":{\"id\":\"912c9c48-92d0-4f31-a6f5-a4435625c889\"},\"grid_line_color\":null}}],\"min_border_top\":10,\"min_border_bottom\":10,\"min_border_left\":10,\"min_border_right\":10,\"output_backend\":\"webgl\"}},{\"type\":\"object\",\"name\":\"Spacer\",\"id\":\"4684ec25-cef4-4b53-ad7b-1ea9420b8469\",\"attributes\":{\"name\":\"HSpacer00575\",\"stylesheets\":[\"\\n:host(.pn-loading):before, .pn-loading:before {\\n  background-color: #c3c3c3;\\n  mask-size: auto calc(min(50%, 400px));\\n  -webkit-mask-size: auto calc(min(50%, 400px));\\n}\",{\"id\":\"96957aa5-ef94-439f-ac75-862d88281ba7\"},{\"id\":\"d7c8066d-840a-49fe-89b1-6a36cc1859ff\"},{\"id\":\"ddbbdf5f-1379-485d-9412-dd799a962b58\"}],\"margin\":0,\"sizing_mode\":\"stretch_width\",\"align\":\"start\"}}]}}],\"defs\":[{\"type\":\"model\",\"name\":\"ReactiveHTML1\"},{\"type\":\"model\",\"name\":\"FlexBox1\",\"properties\":[{\"name\":\"align_content\",\"kind\":\"Any\",\"default\":\"flex-start\"},{\"name\":\"align_items\",\"kind\":\"Any\",\"default\":\"flex-start\"},{\"name\":\"flex_direction\",\"kind\":\"Any\",\"default\":\"row\"},{\"name\":\"flex_wrap\",\"kind\":\"Any\",\"default\":\"wrap\"},{\"name\":\"gap\",\"kind\":\"Any\",\"default\":\"\"},{\"name\":\"justify_content\",\"kind\":\"Any\",\"default\":\"flex-start\"}]},{\"type\":\"model\",\"name\":\"FloatPanel1\",\"properties\":[{\"name\":\"config\",\"kind\":\"Any\",\"default\":{\"type\":\"map\"}},{\"name\":\"contained\",\"kind\":\"Any\",\"default\":true},{\"name\":\"position\",\"kind\":\"Any\",\"default\":\"right-top\"},{\"name\":\"offsetx\",\"kind\":\"Any\",\"default\":null},{\"name\":\"offsety\",\"kind\":\"Any\",\"default\":null},{\"name\":\"theme\",\"kind\":\"Any\",\"default\":\"primary\"},{\"name\":\"status\",\"kind\":\"Any\",\"default\":\"normalized\"}]},{\"type\":\"model\",\"name\":\"GridStack1\",\"properties\":[{\"name\":\"ncols\",\"kind\":\"Any\",\"default\":null},{\"name\":\"nrows\",\"kind\":\"Any\",\"default\":null},{\"name\":\"allow_resize\",\"kind\":\"Any\",\"default\":true},{\"name\":\"allow_drag\",\"kind\":\"Any\",\"default\":true},{\"name\":\"state\",\"kind\":\"Any\",\"default\":[]}]},{\"type\":\"model\",\"name\":\"drag1\",\"properties\":[{\"name\":\"slider_width\",\"kind\":\"Any\",\"default\":5},{\"name\":\"slider_color\",\"kind\":\"Any\",\"default\":\"black\"},{\"name\":\"value\",\"kind\":\"Any\",\"default\":50}]},{\"type\":\"model\",\"name\":\"click1\",\"properties\":[{\"name\":\"terminal_output\",\"kind\":\"Any\",\"default\":\"\"},{\"name\":\"debug_name\",\"kind\":\"Any\",\"default\":\"\"},{\"name\":\"clears\",\"kind\":\"Any\",\"default\":0}]},{\"type\":\"model\",\"name\":\"FastWrapper1\",\"properties\":[{\"name\":\"object\",\"kind\":\"Any\",\"default\":null},{\"name\":\"style\",\"kind\":\"Any\",\"default\":null}]},{\"type\":\"model\",\"name\":\"NotificationArea1\",\"properties\":[{\"name\":\"js_events\",\"kind\":\"Any\",\"default\":{\"type\":\"map\"}},{\"name\":\"max_notifications\",\"kind\":\"Any\",\"default\":5},{\"name\":\"notifications\",\"kind\":\"Any\",\"default\":[]},{\"name\":\"position\",\"kind\":\"Any\",\"default\":\"bottom-right\"},{\"name\":\"_clear\",\"kind\":\"Any\",\"default\":0},{\"name\":\"types\",\"kind\":\"Any\",\"default\":[{\"type\":\"map\",\"entries\":[[\"type\",\"warning\"],[\"background\",\"#ffc107\"],[\"icon\",{\"type\":\"map\",\"entries\":[[\"className\",\"fas fa-exclamation-triangle\"],[\"tagName\",\"i\"],[\"color\",\"white\"]]}]]},{\"type\":\"map\",\"entries\":[[\"type\",\"info\"],[\"background\",\"#007bff\"],[\"icon\",{\"type\":\"map\",\"entries\":[[\"className\",\"fas fa-info-circle\"],[\"tagName\",\"i\"],[\"color\",\"white\"]]}]]}]}]},{\"type\":\"model\",\"name\":\"Notification\",\"properties\":[{\"name\":\"background\",\"kind\":\"Any\",\"default\":null},{\"name\":\"duration\",\"kind\":\"Any\",\"default\":3000},{\"name\":\"icon\",\"kind\":\"Any\",\"default\":null},{\"name\":\"message\",\"kind\":\"Any\",\"default\":\"\"},{\"name\":\"notification_type\",\"kind\":\"Any\",\"default\":null},{\"name\":\"_rendered\",\"kind\":\"Any\",\"default\":false},{\"name\":\"_destroyed\",\"kind\":\"Any\",\"default\":false}]},{\"type\":\"model\",\"name\":\"TemplateActions1\",\"properties\":[{\"name\":\"open_modal\",\"kind\":\"Any\",\"default\":0},{\"name\":\"close_modal\",\"kind\":\"Any\",\"default\":0}]},{\"type\":\"model\",\"name\":\"BootstrapTemplateActions1\",\"properties\":[{\"name\":\"open_modal\",\"kind\":\"Any\",\"default\":0},{\"name\":\"close_modal\",\"kind\":\"Any\",\"default\":0}]},{\"type\":\"model\",\"name\":\"TemplateEditor1\",\"properties\":[{\"name\":\"layout\",\"kind\":\"Any\",\"default\":[]}]},{\"type\":\"model\",\"name\":\"MaterialTemplateActions1\",\"properties\":[{\"name\":\"open_modal\",\"kind\":\"Any\",\"default\":0},{\"name\":\"close_modal\",\"kind\":\"Any\",\"default\":0}]},{\"type\":\"model\",\"name\":\"ReactiveESM1\",\"properties\":[{\"name\":\"esm_constants\",\"kind\":\"Any\",\"default\":{\"type\":\"map\"}}]},{\"type\":\"model\",\"name\":\"JSComponent1\",\"properties\":[{\"name\":\"esm_constants\",\"kind\":\"Any\",\"default\":{\"type\":\"map\"}}]},{\"type\":\"model\",\"name\":\"ReactComponent1\",\"properties\":[{\"name\":\"esm_constants\",\"kind\":\"Any\",\"default\":{\"type\":\"map\"}}]},{\"type\":\"model\",\"name\":\"AnyWidgetComponent1\",\"properties\":[{\"name\":\"esm_constants\",\"kind\":\"Any\",\"default\":{\"type\":\"map\"}}]},{\"type\":\"model\",\"name\":\"request_value1\",\"properties\":[{\"name\":\"fill\",\"kind\":\"Any\",\"default\":\"none\"},{\"name\":\"_synced\",\"kind\":\"Any\",\"default\":null},{\"name\":\"_request_sync\",\"kind\":\"Any\",\"default\":0}]}]}};\n",
       "  var render_items = [{\"docid\":\"20f32add-0158-4de1-a947-c55f2f5d7c87\",\"roots\":{\"a76117f8-2b25-47e6-b6df-d1e0fe51c410\":\"edf6c0c4-c5c2-4756-a8d0-e9b08c4836c4\"},\"root_ids\":[\"a76117f8-2b25-47e6-b6df-d1e0fe51c410\"]}];\n",
       "  var docs = Object.values(docs_json)\n",
       "  if (!docs) {\n",
       "    return\n",
       "  }\n",
       "  const py_version = docs[0].version.replace('rc', '-rc.').replace('.dev', '-dev.')\n",
       "  async function embed_document(root) {\n",
       "    var Bokeh = get_bokeh(root)\n",
       "    await Bokeh.embed.embed_items_notebook(docs_json, render_items);\n",
       "    for (const render_item of render_items) {\n",
       "      for (const root_id of render_item.root_ids) {\n",
       "\tconst id_el = document.getElementById(root_id)\n",
       "\tif (id_el.children.length && id_el.children[0].hasAttribute('data-root-id')) {\n",
       "\t  const root_el = id_el.children[0]\n",
       "\t  root_el.id = root_el.id + '-rendered'\n",
       "\t  for (const child of root_el.children) {\n",
       "            // Ensure JupyterLab does not capture keyboard shortcuts\n",
       "            // see: https://jupyterlab.readthedocs.io/en/4.1.x/extension/notebook.html#keyboard-interaction-model\n",
       "\t    child.setAttribute('data-lm-suppress-shortcuts', 'true')\n",
       "\t  }\n",
       "\t}\n",
       "      }\n",
       "    }\n",
       "  }\n",
       "  function get_bokeh(root) {\n",
       "    if (root.Bokeh === undefined) {\n",
       "      return null\n",
       "    } else if (root.Bokeh.version !== py_version) {\n",
       "      if (root.Bokeh.versions === undefined || !root.Bokeh.versions.has(py_version)) {\n",
       "\treturn null\n",
       "      }\n",
       "      return root.Bokeh.versions.get(py_version);\n",
       "    } else if (root.Bokeh.version === py_version) {\n",
       "      return root.Bokeh\n",
       "    }\n",
       "    return null\n",
       "  }\n",
       "  function is_loaded(root) {\n",
       "    var Bokeh = get_bokeh(root)\n",
       "    return (Bokeh != null && Bokeh.Panel !== undefined)\n",
       "  }\n",
       "  if (is_loaded(root)) {\n",
       "    embed_document(root);\n",
       "  } else {\n",
       "    var attempts = 0;\n",
       "    var timer = setInterval(function(root) {\n",
       "      if (is_loaded(root)) {\n",
       "        clearInterval(timer);\n",
       "        embed_document(root);\n",
       "      } else if (document.readyState == \"complete\") {\n",
       "        attempts++;\n",
       "        if (attempts > 200) {\n",
       "          clearInterval(timer);\n",
       "\t  var Bokeh = get_bokeh(root)\n",
       "\t  if (Bokeh == null || Bokeh.Panel == null) {\n",
       "            console.warn(\"Panel: ERROR: Unable to run Panel code because Bokeh or Panel library is missing\");\n",
       "\t  } else {\n",
       "\t    console.warn(\"Panel: WARNING: Attempting to render but not all required libraries could be resolved.\")\n",
       "\t    embed_document(root)\n",
       "\t  }\n",
       "        }\n",
       "      }\n",
       "    }, 25, root)\n",
       "  }\n",
       "})(window);</script>"
      ],
      "text/plain": [
       ":Overlay\n",
       "   .Bars.I    :Bars   [post_str_b5]   (percent)\n",
       "   .HLine.I   :HLine   [x,y]\n",
       "   .HLine.II  :HLine   [x,y]\n",
       "   .HLine.III :HLine   [x,y]"
      ]
     },
     "metadata": {
      "application/vnd.holoviews_exec.v0+json": {
       "id": "a76117f8-2b25-47e6-b6df-d1e0fe51c410"
      }
     },
     "output_type": "display_data"
    },
    {
     "name": "stdout",
     "output_type": "stream",
     "text": [
      "df_10_last FOR str_b5 = 29\n",
      "Last 3 results last_results=['29', '33']\n"
     ]
    },
    {
     "data": {
      "text/html": [
       "<div><style>\n",
       ".dataframe > thead > tr,\n",
       ".dataframe > tbody > tr {\n",
       "  text-align: right;\n",
       "  white-space: pre-wrap;\n",
       "}\n",
       "</style>\n",
       "<small>shape: (10, 30)</small><table border=\"1\" class=\"dataframe\"><thead><tr><th>fecha</th><th>sorteo</th><th>bolillas regulares</th><th>bolillas chauchamba</th><th>cc1</th><th>cc2</th><th>id</th><th>combo</th><th>b1</th><th>b2</th><th>b3</th><th>b4</th><th>b5</th><th>b6</th><th>str_b1</th><th>str_b2</th><th>str_b3</th><th>str_b4</th><th>str_b5</th><th>str_b6</th><th>post_str_b1</th><th>post_str_b2</th><th>post_str_b3</th><th>post_str_b4</th><th>post_str_b5</th><th>post_str_blast</th><th>is_rare_combination</th><th>reason</th><th>jumps_map</th><th>unijump</th></tr><tr><td>str</td><td>str</td><td>str</td><td>str</td><td>str</td><td>str</td><td>str</td><td>array[u8, 6]</td><td>u8</td><td>u8</td><td>u8</td><td>u8</td><td>u8</td><td>u8</td><td>str</td><td>str</td><td>str</td><td>str</td><td>str</td><td>str</td><td>str</td><td>str</td><td>str</td><td>str</td><td>str</td><td>str</td><td>bool</td><td>u8</td><td>str</td><td>i64</td></tr></thead><tbody><tr><td>&quot;26/04/2025&quot;</td><td>&quot;1800&quot;</td><td>&quot;20 35 03 19 09 29&quot;</td><td>&quot;09 17 29 39 31 34&quot;</td><td>&quot;&quot;</td><td>&quot;&quot;</td><td>&quot;030919202935&quot;</td><td>[3, 9, … 35]</td><td>3</td><td>9</td><td>19</td><td>20</td><td>29</td><td>35</td><td>&quot;03&quot;</td><td>&quot;09&quot;</td><td>&quot;19&quot;</td><td>&quot;20&quot;</td><td>&quot;29&quot;</td><td>&quot;35&quot;</td><td>&quot;03&quot;</td><td>&quot;09&quot;</td><td>&quot;19&quot;</td><td>&quot;20&quot;</td><td>&quot;29&quot;</td><td>&quot;35&quot;</td><td>false</td><td>0</td><td>&quot;06_10_01_09_06&quot;</td><td>-58</td></tr><tr><td>&quot;22/03/2025&quot;</td><td>&quot;1785&quot;</td><td>&quot;25 07 34 29 24 23&quot;</td><td>&quot;36 12 20 40 06 17&quot;</td><td>&quot;&quot;</td><td>&quot;&quot;</td><td>&quot;072324252934&quot;</td><td>[7, 23, … 34]</td><td>7</td><td>23</td><td>24</td><td>25</td><td>29</td><td>34</td><td>&quot;07&quot;</td><td>&quot;23&quot;</td><td>&quot;24&quot;</td><td>&quot;25&quot;</td><td>&quot;29&quot;</td><td>&quot;34&quot;</td><td>&quot;03&quot;</td><td>&quot;14&quot;</td><td>&quot;24&quot;</td><td>&quot;31&quot;</td><td>&quot;33&quot;</td><td>&quot;36&quot;</td><td>true</td><td>24</td><td>&quot;16_01_01_04_05&quot;</td><td>7</td></tr><tr><td>&quot;22/03/2025&quot;</td><td>&quot;1785&quot;</td><td>&quot;25 07 34 29 24 23&quot;</td><td>&quot;36 12 20 40 06 17&quot;</td><td>&quot;&quot;</td><td>&quot;&quot;</td><td>&quot;072324252934&quot;</td><td>[7, 23, … 34]</td><td>7</td><td>23</td><td>24</td><td>25</td><td>29</td><td>34</td><td>&quot;07&quot;</td><td>&quot;23&quot;</td><td>&quot;24&quot;</td><td>&quot;25&quot;</td><td>&quot;29&quot;</td><td>&quot;34&quot;</td><td>&quot;07&quot;</td><td>&quot;23&quot;</td><td>&quot;24&quot;</td><td>&quot;25&quot;</td><td>&quot;29&quot;</td><td>&quot;34&quot;</td><td>true</td><td>24</td><td>&quot;16_01_01_04_05&quot;</td><td>7</td></tr><tr><td>&quot;08/02/2025&quot;</td><td>&quot;1767&quot;</td><td>&quot;34 22 16 17 21 29&quot;</td><td>&quot;38 05 33 35 07 06&quot;</td><td>&quot;&quot;</td><td>&quot;&quot;</td><td>&quot;161721222934&quot;</td><td>[16, 17, … 34]</td><td>16</td><td>17</td><td>21</td><td>22</td><td>29</td><td>34</td><td>&quot;16&quot;</td><td>&quot;17&quot;</td><td>&quot;21&quot;</td><td>&quot;22&quot;</td><td>&quot;29&quot;</td><td>&quot;34&quot;</td><td>&quot;11&quot;</td><td>&quot;12&quot;</td><td>&quot;15&quot;</td><td>&quot;20&quot;</td><td>&quot;30&quot;</td><td>&quot;32&quot;</td><td>false</td><td>0</td><td>&quot;01_04_01_07_05&quot;</td><td>-32</td></tr><tr><td>&quot;08/02/2025&quot;</td><td>&quot;1767&quot;</td><td>&quot;34 22 16 17 21 29&quot;</td><td>&quot;38 05 33 35 07 06&quot;</td><td>&quot;&quot;</td><td>&quot;&quot;</td><td>&quot;161721222934&quot;</td><td>[16, 17, … 34]</td><td>16</td><td>17</td><td>21</td><td>22</td><td>29</td><td>34</td><td>&quot;16&quot;</td><td>&quot;17&quot;</td><td>&quot;21&quot;</td><td>&quot;22&quot;</td><td>&quot;29&quot;</td><td>&quot;34&quot;</td><td>&quot;16&quot;</td><td>&quot;17&quot;</td><td>&quot;21&quot;</td><td>&quot;22&quot;</td><td>&quot;29&quot;</td><td>&quot;34&quot;</td><td>false</td><td>0</td><td>&quot;01_04_01_07_05&quot;</td><td>-32</td></tr><tr><td>&quot;28/12/2024&quot;</td><td>&quot;1749&quot;</td><td>&quot;04 27 33 17 24 29&quot;</td><td>&quot;34 25 22 21 04 09&quot;</td><td>&quot;&quot;</td><td>&quot;&quot;</td><td>&quot;041724272933&quot;</td><td>[4, 17, … 33]</td><td>4</td><td>17</td><td>24</td><td>27</td><td>29</td><td>33</td><td>&quot;04&quot;</td><td>&quot;17&quot;</td><td>&quot;24&quot;</td><td>&quot;27&quot;</td><td>&quot;29&quot;</td><td>&quot;33&quot;</td><td>&quot;04&quot;</td><td>&quot;09&quot;</td><td>&quot;12&quot;</td><td>&quot;25&quot;</td><td>&quot;28&quot;</td><td>&quot;30&quot;</td><td>false</td><td>0</td><td>&quot;13_07_03_02_04&quot;</td><td>-1</td></tr><tr><td>&quot;28/12/2024&quot;</td><td>&quot;1749&quot;</td><td>&quot;04 27 33 17 24 29&quot;</td><td>&quot;34 25 22 21 04 09&quot;</td><td>&quot;&quot;</td><td>&quot;&quot;</td><td>&quot;041724272933&quot;</td><td>[4, 17, … 33]</td><td>4</td><td>17</td><td>24</td><td>27</td><td>29</td><td>33</td><td>&quot;04&quot;</td><td>&quot;17&quot;</td><td>&quot;24&quot;</td><td>&quot;27&quot;</td><td>&quot;29&quot;</td><td>&quot;33&quot;</td><td>&quot;04&quot;</td><td>&quot;17&quot;</td><td>&quot;24&quot;</td><td>&quot;27&quot;</td><td>&quot;29&quot;</td><td>&quot;33&quot;</td><td>false</td><td>0</td><td>&quot;13_07_03_02_04&quot;</td><td>-1</td></tr><tr><td>&quot;26/10/2024&quot;</td><td>&quot;1722&quot;</td><td>&quot;25 11 14 29 36 07&quot;</td><td>&quot;18 08 21 06 09 35&quot;</td><td>&quot;&quot;</td><td>&quot;&quot;</td><td>&quot;071114252936&quot;</td><td>[7, 11, … 36]</td><td>7</td><td>11</td><td>14</td><td>25</td><td>29</td><td>36</td><td>&quot;07&quot;</td><td>&quot;11&quot;</td><td>&quot;14&quot;</td><td>&quot;25&quot;</td><td>&quot;29&quot;</td><td>&quot;36&quot;</td><td>&quot;01&quot;</td><td>&quot;09&quot;</td><td>&quot;27&quot;</td><td>&quot;31&quot;</td><td>&quot;35&quot;</td><td>&quot;38&quot;</td><td>false</td><td>0</td><td>&quot;04_03_11_04_07&quot;</td><td>49</td></tr><tr><td>&quot;26/10/2024&quot;</td><td>&quot;1722&quot;</td><td>&quot;25 11 14 29 36 07&quot;</td><td>&quot;18 08 21 06 09 35&quot;</td><td>&quot;&quot;</td><td>&quot;&quot;</td><td>&quot;071114252936&quot;</td><td>[7, 11, … 36]</td><td>7</td><td>11</td><td>14</td><td>25</td><td>29</td><td>36</td><td>&quot;07&quot;</td><td>&quot;11&quot;</td><td>&quot;14&quot;</td><td>&quot;25&quot;</td><td>&quot;29&quot;</td><td>&quot;36&quot;</td><td>&quot;07&quot;</td><td>&quot;11&quot;</td><td>&quot;14&quot;</td><td>&quot;25&quot;</td><td>&quot;29&quot;</td><td>&quot;36&quot;</td><td>false</td><td>0</td><td>&quot;04_03_11_04_07&quot;</td><td>49</td></tr><tr><td>&quot;31/08/2024&quot;</td><td>&quot;1698&quot;</td><td>&quot;28 40 29 16 24 10&quot;</td><td>&quot;32 15 20 02 14 22&quot;</td><td>&quot;&quot;</td><td>&quot;&quot;</td><td>&quot;101624282940&quot;</td><td>[10, 16, … 40]</td><td>10</td><td>16</td><td>24</td><td>28</td><td>29</td><td>40</td><td>&quot;10&quot;</td><td>&quot;16&quot;</td><td>&quot;24&quot;</td><td>&quot;28&quot;</td><td>&quot;29&quot;</td><td>&quot;40&quot;</td><td>&quot;04&quot;</td><td>&quot;13&quot;</td><td>&quot;16&quot;</td><td>&quot;19&quot;</td><td>&quot;25&quot;</td><td>&quot;31&quot;</td><td>true</td><td>16</td><td>&quot;06_08_04_01_11&quot;</td><td>5</td></tr></tbody></table></div>"
      ],
      "text/plain": [
       "shape: (10, 30)\n",
       "┌────────────┬────────┬─────────────┬─────────────┬───┬────────────┬────────┬────────────┬─────────┐\n",
       "│ fecha      ┆ sorteo ┆ bolillas    ┆ bolillas    ┆ … ┆ is_rare_co ┆ reason ┆ jumps_map  ┆ unijump │\n",
       "│ ---        ┆ ---    ┆ regulares   ┆ chauchamba  ┆   ┆ mbination  ┆ ---    ┆ ---        ┆ ---     │\n",
       "│ str        ┆ str    ┆ ---         ┆ ---         ┆   ┆ ---        ┆ u8     ┆ str        ┆ i64     │\n",
       "│            ┆        ┆ str         ┆ str         ┆   ┆ bool       ┆        ┆            ┆         │\n",
       "╞════════════╪════════╪═════════════╪═════════════╪═══╪════════════╪════════╪════════════╪═════════╡\n",
       "│ 26/04/2025 ┆ 1800   ┆ 20 35 03 19 ┆ 09 17 29 39 ┆ … ┆ false      ┆ 0      ┆ 06_10_01_0 ┆ -58     │\n",
       "│            ┆        ┆ 09 29       ┆ 31 34       ┆   ┆            ┆        ┆ 9_06       ┆         │\n",
       "│ 22/03/2025 ┆ 1785   ┆ 25 07 34 29 ┆ 36 12 20 40 ┆ … ┆ true       ┆ 24     ┆ 16_01_01_0 ┆ 7       │\n",
       "│            ┆        ┆ 24 23       ┆ 06 17       ┆   ┆            ┆        ┆ 4_05       ┆         │\n",
       "│ 22/03/2025 ┆ 1785   ┆ 25 07 34 29 ┆ 36 12 20 40 ┆ … ┆ true       ┆ 24     ┆ 16_01_01_0 ┆ 7       │\n",
       "│            ┆        ┆ 24 23       ┆ 06 17       ┆   ┆            ┆        ┆ 4_05       ┆         │\n",
       "│ 08/02/2025 ┆ 1767   ┆ 34 22 16 17 ┆ 38 05 33 35 ┆ … ┆ false      ┆ 0      ┆ 01_04_01_0 ┆ -32     │\n",
       "│            ┆        ┆ 21 29       ┆ 07 06       ┆   ┆            ┆        ┆ 7_05       ┆         │\n",
       "│ 08/02/2025 ┆ 1767   ┆ 34 22 16 17 ┆ 38 05 33 35 ┆ … ┆ false      ┆ 0      ┆ 01_04_01_0 ┆ -32     │\n",
       "│            ┆        ┆ 21 29       ┆ 07 06       ┆   ┆            ┆        ┆ 7_05       ┆         │\n",
       "│ 28/12/2024 ┆ 1749   ┆ 04 27 33 17 ┆ 34 25 22 21 ┆ … ┆ false      ┆ 0      ┆ 13_07_03_0 ┆ -1      │\n",
       "│            ┆        ┆ 24 29       ┆ 04 09       ┆   ┆            ┆        ┆ 2_04       ┆         │\n",
       "│ 28/12/2024 ┆ 1749   ┆ 04 27 33 17 ┆ 34 25 22 21 ┆ … ┆ false      ┆ 0      ┆ 13_07_03_0 ┆ -1      │\n",
       "│            ┆        ┆ 24 29       ┆ 04 09       ┆   ┆            ┆        ┆ 2_04       ┆         │\n",
       "│ 26/10/2024 ┆ 1722   ┆ 25 11 14 29 ┆ 18 08 21 06 ┆ … ┆ false      ┆ 0      ┆ 04_03_11_0 ┆ 49      │\n",
       "│            ┆        ┆ 36 07       ┆ 09 35       ┆   ┆            ┆        ┆ 4_07       ┆         │\n",
       "│ 26/10/2024 ┆ 1722   ┆ 25 11 14 29 ┆ 18 08 21 06 ┆ … ┆ false      ┆ 0      ┆ 04_03_11_0 ┆ 49      │\n",
       "│            ┆        ┆ 36 07       ┆ 09 35       ┆   ┆            ┆        ┆ 4_07       ┆         │\n",
       "│ 31/08/2024 ┆ 1698   ┆ 28 40 29 16 ┆ 32 15 20 02 ┆ … ┆ true       ┆ 16     ┆ 06_08_04_0 ┆ 5       │\n",
       "│            ┆        ┆ 24 10       ┆ 14 22       ┆   ┆            ┆        ┆ 1_11       ┆         │\n",
       "└────────────┴────────┴─────────────┴─────────────┴───┴────────────┴────────┴────────────┴─────────┘"
      ]
     },
     "metadata": {},
     "output_type": "display_data"
    },
    {
     "name": "stdout",
     "output_type": "stream",
     "text": [
      "df_jumps_map FOR str_b5 = 29\n"
     ]
    },
    {
     "data": {
      "text/html": [
       "<div><style>\n",
       ".dataframe > thead > tr,\n",
       ".dataframe > tbody > tr {\n",
       "  text-align: right;\n",
       "  white-space: pre-wrap;\n",
       "}\n",
       "</style>\n",
       "<small>shape: (211, 2)</small><table border=\"1\" class=\"dataframe\"><thead><tr><th>jumps_map</th><th>count</th></tr><tr><td>str</td><td>u32</td></tr></thead><tbody><tr><td>&quot;10_04_01_11_08&quot;</td><td>2</td></tr><tr><td>&quot;02_11_04_09_03&quot;</td><td>2</td></tr><tr><td>&quot;05_05_11_03_09&quot;</td><td>2</td></tr><tr><td>&quot;02_10_09_04_06&quot;</td><td>2</td></tr><tr><td>&quot;01_06_10_03_03&quot;</td><td>2</td></tr><tr><td>&hellip;</td><td>&hellip;</td></tr><tr><td>&quot;11_07_01_07_02&quot;</td><td>1</td></tr><tr><td>&quot;10_11_03_04_11&quot;</td><td>1</td></tr><tr><td>&quot;02_02_04_10_10&quot;</td><td>1</td></tr><tr><td>&quot;04_05_09_05_08&quot;</td><td>1</td></tr><tr><td>&quot;10_01_05_09_06&quot;</td><td>1</td></tr></tbody></table></div>"
      ],
      "text/plain": [
       "shape: (211, 2)\n",
       "┌────────────────┬───────┐\n",
       "│ jumps_map      ┆ count │\n",
       "│ ---            ┆ ---   │\n",
       "│ str            ┆ u32   │\n",
       "╞════════════════╪═══════╡\n",
       "│ 10_04_01_11_08 ┆ 2     │\n",
       "│ 02_11_04_09_03 ┆ 2     │\n",
       "│ 05_05_11_03_09 ┆ 2     │\n",
       "│ 02_10_09_04_06 ┆ 2     │\n",
       "│ 01_06_10_03_03 ┆ 2     │\n",
       "│ …              ┆ …     │\n",
       "│ 11_07_01_07_02 ┆ 1     │\n",
       "│ 10_11_03_04_11 ┆ 1     │\n",
       "│ 02_02_04_10_10 ┆ 1     │\n",
       "│ 04_05_09_05_08 ┆ 1     │\n",
       "│ 10_01_05_09_06 ┆ 1     │\n",
       "└────────────────┴───────┘"
      ]
     },
     "metadata": {},
     "output_type": "display_data"
    },
    {
     "name": "stdout",
     "output_type": "stream",
     "text": [
      "df_unijump FOR str_b5 = 29\n"
     ]
    },
    {
     "data": {
      "text/html": [
       "<div><style>\n",
       ".dataframe > thead > tr,\n",
       ".dataframe > tbody > tr {\n",
       "  text-align: right;\n",
       "  white-space: pre-wrap;\n",
       "}\n",
       "</style>\n",
       "<small>shape: (114, 2)</small><table border=\"1\" class=\"dataframe\"><thead><tr><th>unijump</th><th>count</th></tr><tr><td>i64</td><td>u32</td></tr></thead><tbody><tr><td>5</td><td>8</td></tr><tr><td>-17</td><td>7</td></tr><tr><td>10</td><td>7</td></tr><tr><td>6</td><td>7</td></tr><tr><td>16</td><td>7</td></tr><tr><td>&hellip;</td><td>&hellip;</td></tr><tr><td>13</td><td>1</td></tr><tr><td>-38</td><td>1</td></tr><tr><td>-35</td><td>1</td></tr><tr><td>64</td><td>1</td></tr><tr><td>26</td><td>1</td></tr></tbody></table></div>"
      ],
      "text/plain": [
       "shape: (114, 2)\n",
       "┌─────────┬───────┐\n",
       "│ unijump ┆ count │\n",
       "│ ---     ┆ ---   │\n",
       "│ i64     ┆ u32   │\n",
       "╞═════════╪═══════╡\n",
       "│ 5       ┆ 8     │\n",
       "│ -17     ┆ 7     │\n",
       "│ 10      ┆ 7     │\n",
       "│ 6       ┆ 7     │\n",
       "│ 16      ┆ 7     │\n",
       "│ …       ┆ …     │\n",
       "│ 13      ┆ 1     │\n",
       "│ -38     ┆ 1     │\n",
       "│ -35     ┆ 1     │\n",
       "│ 64      ┆ 1     │\n",
       "│ 26      ┆ 1     │\n",
       "└─────────┴───────┘"
      ]
     },
     "metadata": {},
     "output_type": "display_data"
    }
   ],
   "source": [
    "possible_b5, exclude_jump_maps_b5, last_post_b5 = plot_post_col(col='str_b5', post_col='post_str_b5')"
   ]
  },
  {
   "cell_type": "code",
   "execution_count": 12,
   "metadata": {},
   "outputs": [
    {
     "name": "stdout",
     "output_type": "stream",
     "text": [
      "Setting test_value='35'\n",
      "df_viz FOR str_b6 = 35\n"
     ]
    },
    {
     "data": {
      "text/html": [
       "<div><style>\n",
       ".dataframe > thead > tr,\n",
       ".dataframe > tbody > tr {\n",
       "  text-align: right;\n",
       "  white-space: pre-wrap;\n",
       "}\n",
       "</style>\n",
       "<small>shape: (21, 3)</small><table border=\"1\" class=\"dataframe\"><thead><tr><th>post_str_blast</th><th>count</th><th>percent</th></tr><tr><td>str</td><td>u32</td><td>f64</td></tr></thead><tbody><tr><td>&quot;35&quot;</td><td>142</td><td>38.172043</td></tr><tr><td>&quot;40&quot;</td><td>50</td><td>13.44086</td></tr><tr><td>&quot;39&quot;</td><td>32</td><td>8.602151</td></tr><tr><td>&quot;37&quot;</td><td>24</td><td>6.451613</td></tr><tr><td>&quot;36&quot;</td><td>23</td><td>6.182796</td></tr><tr><td>&hellip;</td><td>&hellip;</td><td>&hellip;</td></tr><tr><td>&quot;21&quot;</td><td>2</td><td>0.537634</td></tr><tr><td>&quot;24&quot;</td><td>2</td><td>0.537634</td></tr><tr><td>&quot;22&quot;</td><td>1</td><td>0.268817</td></tr><tr><td>&quot;23&quot;</td><td>1</td><td>0.268817</td></tr><tr><td>&quot;25&quot;</td><td>1</td><td>0.268817</td></tr></tbody></table></div>"
      ],
      "text/plain": [
       "shape: (21, 3)\n",
       "┌────────────────┬───────┬───────────┐\n",
       "│ post_str_blast ┆ count ┆ percent   │\n",
       "│ ---            ┆ ---   ┆ ---       │\n",
       "│ str            ┆ u32   ┆ f64       │\n",
       "╞════════════════╪═══════╪═══════════╡\n",
       "│ 35             ┆ 142   ┆ 38.172043 │\n",
       "│ 40             ┆ 50    ┆ 13.44086  │\n",
       "│ 39             ┆ 32    ┆ 8.602151  │\n",
       "│ 37             ┆ 24    ┆ 6.451613  │\n",
       "│ 36             ┆ 23    ┆ 6.182796  │\n",
       "│ …              ┆ …     ┆ …         │\n",
       "│ 21             ┆ 2     ┆ 0.537634  │\n",
       "│ 24             ┆ 2     ┆ 0.537634  │\n",
       "│ 22             ┆ 1     ┆ 0.268817  │\n",
       "│ 23             ┆ 1     ┆ 0.268817  │\n",
       "│ 25             ┆ 1     ┆ 0.268817  │\n",
       "└────────────────┴───────┴───────────┘"
      ]
     },
     "metadata": {},
     "output_type": "display_data"
    },
    {
     "data": {},
     "metadata": {},
     "output_type": "display_data"
    },
    {
     "data": {
      "application/vnd.holoviews_exec.v0+json": "",
      "text/html": [
       "<div id='6955751e-4455-40b8-b2b3-8301aa48cf1b'>\n",
       "  <div id=\"e37a5c37-b85b-489a-a3d9-f7eaf803690a\" data-root-id=\"6955751e-4455-40b8-b2b3-8301aa48cf1b\" style=\"display: contents;\"></div>\n",
       "</div>\n",
       "<script type=\"application/javascript\">(function(root) {\n",
       "  var docs_json = {\"93f47c21-0201-42b5-8f65-00bfe889c992\":{\"version\":\"3.7.2\",\"title\":\"Bokeh Application\",\"roots\":[{\"type\":\"object\",\"name\":\"Row\",\"id\":\"6955751e-4455-40b8-b2b3-8301aa48cf1b\",\"attributes\":{\"name\":\"Row00641\",\"tags\":[\"embedded\"],\"stylesheets\":[\"\\n:host(.pn-loading):before, .pn-loading:before {\\n  background-color: #c3c3c3;\\n  mask-size: auto calc(min(50%, 400px));\\n  -webkit-mask-size: auto calc(min(50%, 400px));\\n}\",{\"type\":\"object\",\"name\":\"ImportedStyleSheet\",\"id\":\"9c4af616-7d04-473c-a5e4-5046f2a48c88\",\"attributes\":{\"url\":\"https://cdn.holoviz.org/panel/1.6.2/dist/css/loading.css\"}},{\"type\":\"object\",\"name\":\"ImportedStyleSheet\",\"id\":\"2d756da6-0f0a-498f-be5c-9a55d78cc917\",\"attributes\":{\"url\":\"https://cdn.holoviz.org/panel/1.6.2/dist/css/listpanel.css\"}},{\"type\":\"object\",\"name\":\"ImportedStyleSheet\",\"id\":\"7b9dcb29-0dc9-4c77-b0dc-833fa9c0b674\",\"attributes\":{\"url\":\"https://cdn.holoviz.org/panel/1.6.2/dist/bundled/theme/default.css\"}},{\"type\":\"object\",\"name\":\"ImportedStyleSheet\",\"id\":\"152d49b6-cf5e-46ad-8c39-67b90a92bcb1\",\"attributes\":{\"url\":\"https://cdn.holoviz.org/panel/1.6.2/dist/bundled/theme/native.css\"}}],\"min_width\":700,\"margin\":0,\"sizing_mode\":\"stretch_width\",\"align\":\"start\",\"children\":[{\"type\":\"object\",\"name\":\"Spacer\",\"id\":\"7d9a2712-d007-4157-983c-22fc603c19a6\",\"attributes\":{\"name\":\"HSpacer00645\",\"stylesheets\":[\"\\n:host(.pn-loading):before, .pn-loading:before {\\n  background-color: #c3c3c3;\\n  mask-size: auto calc(min(50%, 400px));\\n  -webkit-mask-size: auto calc(min(50%, 400px));\\n}\",{\"id\":\"9c4af616-7d04-473c-a5e4-5046f2a48c88\"},{\"id\":\"7b9dcb29-0dc9-4c77-b0dc-833fa9c0b674\"},{\"id\":\"152d49b6-cf5e-46ad-8c39-67b90a92bcb1\"}],\"margin\":0,\"sizing_mode\":\"stretch_width\",\"align\":\"start\"}},{\"type\":\"object\",\"name\":\"Figure\",\"id\":\"cb87b0ed-8699-4e8d-bc88-73f56f8f93e0\",\"attributes\":{\"width\":700,\"height\":300,\"margin\":[5,10],\"sizing_mode\":\"fixed\",\"align\":\"start\",\"x_range\":{\"type\":\"object\",\"name\":\"FactorRange\",\"id\":\"ef8de740-db78-45eb-8592-946e212a081f\",\"attributes\":{\"name\":\"post_str_blast\",\"tags\":[[[\"post_str_blast\",null]],[]],\"factors\":[\"35\",\"40\",\"39\",\"37\",\"36\",\"38\",\"34\",\"33\",\"29\",\"32\",\"31\",\"27\",\"30\",\"28\",\"26\",\"20\",\"21\",\"24\",\"22\",\"23\",\"25\"]}},\"y_range\":{\"type\":\"object\",\"name\":\"Range1d\",\"id\":\"7ae06cd7-d565-4969-a4bb-8385de860db0\",\"attributes\":{\"name\":\"percent\",\"tags\":[[[\"percent\",null]],{\"type\":\"map\",\"entries\":[[\"invert_yaxis\",false],[\"autorange\",false]]}],\"end\":41.962365591397855,\"reset_start\":0.0,\"reset_end\":41.962365591397855}},\"x_scale\":{\"type\":\"object\",\"name\":\"CategoricalScale\",\"id\":\"7c762192-fe03-407c-82bf-e1ed3f5a87bf\"},\"y_scale\":{\"type\":\"object\",\"name\":\"LinearScale\",\"id\":\"f987b718-c3bb-4dbc-ac6a-42d4ec5c011c\"},\"title\":{\"type\":\"object\",\"name\":\"Title\",\"id\":\"aef4e148-5e20-4422-be83-1f7755dd5316\",\"attributes\":{\"text_color\":\"black\",\"text_font_size\":\"12pt\"}},\"renderers\":[{\"type\":\"object\",\"name\":\"GlyphRenderer\",\"id\":\"2b4238a7-440e-47f4-9964-82c7370003d2\",\"attributes\":{\"data_source\":{\"type\":\"object\",\"name\":\"ColumnDataSource\",\"id\":\"33f28224-b3a7-48fd-970e-fc7d06ce773b\",\"attributes\":{\"selected\":{\"type\":\"object\",\"name\":\"Selection\",\"id\":\"678c32eb-0086-4bea-9df5-ac5b7faac144\",\"attributes\":{\"indices\":[],\"line_indices\":[]}},\"selection_policy\":{\"type\":\"object\",\"name\":\"UnionRenderers\",\"id\":\"060f5331-1be9-49c5-b8dd-e7768808fb85\"},\"data\":{\"type\":\"map\",\"entries\":[[\"post_str_blast\",[\"35\",\"40\",\"39\",\"37\",\"36\",\"38\",\"34\",\"33\",\"29\",\"32\",\"31\",\"27\",\"30\",\"28\",\"26\",\"20\",\"21\",\"24\",\"22\",\"23\",\"25\"]],[\"percent\",{\"type\":\"ndarray\",\"array\":{\"type\":\"bytes\",\"data\":\"F1hggQUWQ0DjhhtuuOEqQDXRRBNNNCFAzjnnnHPOGUC87LLLLrsYQFtrrbXWWhNAIoQQQgghEEDOOeecc84JQM4555xzzglAW2uttdZaA0A10UQTTTQBQIIFFlhggfU/ggUWWGCB9T+CBRZYYIH1P84555xzzuk/NdFEE0004T810UQTTTThPzXRRBNNNOE/NdFEE0000T810UQTTTTRPzXRRBNNNNE/\"},\"shape\":[21],\"dtype\":\"float64\",\"order\":\"little\"}]]}}},\"view\":{\"type\":\"object\",\"name\":\"CDSView\",\"id\":\"3c94d9ed-33c0-4db6-b1a1-b241657d4ba1\",\"attributes\":{\"filter\":{\"type\":\"object\",\"name\":\"AllIndices\",\"id\":\"57f4a6eb-ea56-42f2-b2fa-3095b8a8c560\"}}},\"glyph\":{\"type\":\"object\",\"name\":\"VBar\",\"id\":\"5aa4ea33-72e4-4c5e-9287-f7dd2e5da678\",\"attributes\":{\"tags\":[\"apply_ranges\"],\"x\":{\"type\":\"field\",\"field\":\"post_str_blast\"},\"width\":{\"type\":\"value\",\"value\":0.8},\"top\":{\"type\":\"field\",\"field\":\"percent\"},\"fill_color\":{\"type\":\"value\",\"value\":\"#30a2da\"},\"hatch_color\":{\"type\":\"value\",\"value\":\"#30a2da\"}}},\"selection_glyph\":{\"type\":\"object\",\"name\":\"VBar\",\"id\":\"8b9c8af5-1686-4e5b-af67-15f265c9e65b\",\"attributes\":{\"tags\":[\"apply_ranges\"],\"x\":{\"type\":\"field\",\"field\":\"post_str_blast\"},\"width\":{\"type\":\"value\",\"value\":0.8},\"bottom\":{\"type\":\"value\",\"value\":0},\"top\":{\"type\":\"field\",\"field\":\"percent\"},\"line_color\":{\"type\":\"value\",\"value\":\"black\"},\"line_alpha\":{\"type\":\"value\",\"value\":1.0},\"line_width\":{\"type\":\"value\",\"value\":1},\"line_join\":{\"type\":\"value\",\"value\":\"bevel\"},\"line_cap\":{\"type\":\"value\",\"value\":\"butt\"},\"line_dash\":{\"type\":\"value\",\"value\":[]},\"line_dash_offset\":{\"type\":\"value\",\"value\":0},\"fill_color\":{\"type\":\"value\",\"value\":\"#30a2da\"},\"fill_alpha\":{\"type\":\"value\",\"value\":1.0},\"hatch_color\":{\"type\":\"value\",\"value\":\"#30a2da\"},\"hatch_alpha\":{\"type\":\"value\",\"value\":1.0},\"hatch_scale\":{\"type\":\"value\",\"value\":12.0},\"hatch_pattern\":{\"type\":\"value\",\"value\":null},\"hatch_weight\":{\"type\":\"value\",\"value\":1.0}}},\"nonselection_glyph\":{\"type\":\"object\",\"name\":\"VBar\",\"id\":\"3a18d70e-7b1e-4d5a-bd59-ecc2a1e4083a\",\"attributes\":{\"tags\":[\"apply_ranges\"],\"x\":{\"type\":\"field\",\"field\":\"post_str_blast\"},\"width\":{\"type\":\"value\",\"value\":0.8},\"top\":{\"type\":\"field\",\"field\":\"percent\"},\"line_alpha\":{\"type\":\"value\",\"value\":0.1},\"fill_color\":{\"type\":\"value\",\"value\":\"#30a2da\"},\"fill_alpha\":{\"type\":\"value\",\"value\":0.1},\"hatch_color\":{\"type\":\"value\",\"value\":\"#30a2da\"},\"hatch_alpha\":{\"type\":\"value\",\"value\":0.1}}},\"muted_glyph\":{\"type\":\"object\",\"name\":\"VBar\",\"id\":\"50e2f663-bf5b-4ac1-a6a9-40d83bcdd8c6\",\"attributes\":{\"tags\":[\"apply_ranges\"],\"x\":{\"type\":\"field\",\"field\":\"post_str_blast\"},\"width\":{\"type\":\"value\",\"value\":0.8},\"top\":{\"type\":\"field\",\"field\":\"percent\"},\"line_alpha\":{\"type\":\"value\",\"value\":0.2},\"fill_color\":{\"type\":\"value\",\"value\":\"#30a2da\"},\"fill_alpha\":{\"type\":\"value\",\"value\":0.2},\"hatch_color\":{\"type\":\"value\",\"value\":\"#30a2da\"},\"hatch_alpha\":{\"type\":\"value\",\"value\":0.2}}}}},{\"type\":\"object\",\"name\":\"Span\",\"id\":\"2391fb08-9d07-49ab-9497-ff2f4bab010b\",\"attributes\":{\"level\":\"glyph\",\"location\":4.761904761904761,\"line_color\":\"red\",\"line_width\":3}},{\"type\":\"object\",\"name\":\"Span\",\"id\":\"01aebae1-e106-4e83-970d-d3299231df4e\",\"attributes\":{\"level\":\"glyph\",\"location\":7.1428571428571415,\"line_color\":\"blue\",\"line_width\":3}},{\"type\":\"object\",\"name\":\"Span\",\"id\":\"8ad00a4c-b99a-4652-a196-818c1ef980f6\",\"attributes\":{\"level\":\"glyph\",\"location\":2.3809523809523805,\"line_color\":\"blue\",\"line_width\":3}}],\"toolbar\":{\"type\":\"object\",\"name\":\"Toolbar\",\"id\":\"1849155b-82ef-4f32-8f21-e8f0da7b286d\",\"attributes\":{\"tools\":[{\"type\":\"object\",\"name\":\"WheelZoomTool\",\"id\":\"9813bbfe-7a68-4106-989f-a304f76f6a64\",\"attributes\":{\"tags\":[\"hv_created\"],\"renderers\":\"auto\",\"zoom_together\":\"none\"}},{\"type\":\"object\",\"name\":\"HoverTool\",\"id\":\"7bb546c6-93d8-4ee0-af9c-9809e11190a1\",\"attributes\":{\"tags\":[\"hv_created\"],\"renderers\":[{\"id\":\"2b4238a7-440e-47f4-9964-82c7370003d2\"}],\"tooltips\":[[\"post_str_blast\",\"@{post_str_blast}\"],[\"percent\",\"@{percent}\"]]}},{\"type\":\"object\",\"name\":\"SaveTool\",\"id\":\"514f62ae-4048-4669-a43c-f7d559e0a56b\"},{\"type\":\"object\",\"name\":\"PanTool\",\"id\":\"0713191a-55b0-4b91-9b76-59dd1758afe0\"},{\"type\":\"object\",\"name\":\"BoxZoomTool\",\"id\":\"9819dfbb-2680-4709-b2ce-87a77ef6fe10\",\"attributes\":{\"dimensions\":\"both\",\"overlay\":{\"type\":\"object\",\"name\":\"BoxAnnotation\",\"id\":\"5a84ddca-5e08-46f6-aa32-666c41bfa062\",\"attributes\":{\"syncable\":false,\"line_color\":\"black\",\"line_alpha\":1.0,\"line_width\":2,\"line_dash\":[4,4],\"fill_color\":\"lightgrey\",\"fill_alpha\":0.5,\"level\":\"overlay\",\"visible\":false,\"left\":{\"type\":\"number\",\"value\":\"nan\"},\"right\":{\"type\":\"number\",\"value\":\"nan\"},\"top\":{\"type\":\"number\",\"value\":\"nan\"},\"bottom\":{\"type\":\"number\",\"value\":\"nan\"},\"left_units\":\"canvas\",\"right_units\":\"canvas\",\"top_units\":\"canvas\",\"bottom_units\":\"canvas\",\"handles\":{\"type\":\"object\",\"name\":\"BoxInteractionHandles\",\"id\":\"a90e9518-f484-4d81-985b-920c54a5b6b9\",\"attributes\":{\"all\":{\"type\":\"object\",\"name\":\"AreaVisuals\",\"id\":\"e5ead18f-c78e-432e-bdb7-b135da934223\",\"attributes\":{\"fill_color\":\"white\",\"hover_fill_color\":\"lightgray\"}}}}}}}},{\"type\":\"object\",\"name\":\"ResetTool\",\"id\":\"46361257-b325-47fc-ba25-1b3370a4b7cc\"}],\"active_drag\":{\"id\":\"0713191a-55b0-4b91-9b76-59dd1758afe0\"}}},\"left\":[{\"type\":\"object\",\"name\":\"LinearAxis\",\"id\":\"45066fbe-256f-440f-89af-d5a416572ad6\",\"attributes\":{\"ticker\":{\"type\":\"object\",\"name\":\"BasicTicker\",\"id\":\"b921fe13-02de-42de-bbd7-c1c1a44927ce\",\"attributes\":{\"mantissas\":[1,2,5]}},\"formatter\":{\"type\":\"object\",\"name\":\"BasicTickFormatter\",\"id\":\"8a8d9765-7e37-4c24-b536-aa604d290eac\"},\"axis_label\":\"percent\",\"major_label_policy\":{\"type\":\"object\",\"name\":\"AllLabels\",\"id\":\"eba019b8-e40f-43ca-a794-b0167d50f8ea\"}}}],\"below\":[{\"type\":\"object\",\"name\":\"CategoricalAxis\",\"id\":\"438ad7fd-e7b6-4c63-9ac9-cdfc6a9ce754\",\"attributes\":{\"ticker\":{\"type\":\"object\",\"name\":\"CategoricalTicker\",\"id\":\"566c83a3-caf3-42df-9be4-e18fc059e394\"},\"formatter\":{\"type\":\"object\",\"name\":\"CategoricalTickFormatter\",\"id\":\"1d053d69-67fb-44fc-8b4f-fa2695a953e7\"},\"axis_label\":\"post_str_blast\",\"major_label_policy\":{\"type\":\"object\",\"name\":\"AllLabels\",\"id\":\"46910b18-85e2-4092-b1ad-ac32271195bb\"}}}],\"center\":[{\"type\":\"object\",\"name\":\"Grid\",\"id\":\"165e63db-136e-4b96-8579-07bad32cd1d2\",\"attributes\":{\"axis\":{\"id\":\"438ad7fd-e7b6-4c63-9ac9-cdfc6a9ce754\"},\"grid_line_color\":null}},{\"type\":\"object\",\"name\":\"Grid\",\"id\":\"1059f0b0-090f-48d5-b27f-2f20c5abbb02\",\"attributes\":{\"dimension\":1,\"axis\":{\"id\":\"45066fbe-256f-440f-89af-d5a416572ad6\"},\"grid_line_color\":null}}],\"min_border_top\":10,\"min_border_bottom\":10,\"min_border_left\":10,\"min_border_right\":10,\"output_backend\":\"webgl\"}},{\"type\":\"object\",\"name\":\"Spacer\",\"id\":\"f811cf2d-c8f8-4131-a869-b1ce99fbe754\",\"attributes\":{\"name\":\"HSpacer00646\",\"stylesheets\":[\"\\n:host(.pn-loading):before, .pn-loading:before {\\n  background-color: #c3c3c3;\\n  mask-size: auto calc(min(50%, 400px));\\n  -webkit-mask-size: auto calc(min(50%, 400px));\\n}\",{\"id\":\"9c4af616-7d04-473c-a5e4-5046f2a48c88\"},{\"id\":\"7b9dcb29-0dc9-4c77-b0dc-833fa9c0b674\"},{\"id\":\"152d49b6-cf5e-46ad-8c39-67b90a92bcb1\"}],\"margin\":0,\"sizing_mode\":\"stretch_width\",\"align\":\"start\"}}]}}],\"defs\":[{\"type\":\"model\",\"name\":\"ReactiveHTML1\"},{\"type\":\"model\",\"name\":\"FlexBox1\",\"properties\":[{\"name\":\"align_content\",\"kind\":\"Any\",\"default\":\"flex-start\"},{\"name\":\"align_items\",\"kind\":\"Any\",\"default\":\"flex-start\"},{\"name\":\"flex_direction\",\"kind\":\"Any\",\"default\":\"row\"},{\"name\":\"flex_wrap\",\"kind\":\"Any\",\"default\":\"wrap\"},{\"name\":\"gap\",\"kind\":\"Any\",\"default\":\"\"},{\"name\":\"justify_content\",\"kind\":\"Any\",\"default\":\"flex-start\"}]},{\"type\":\"model\",\"name\":\"FloatPanel1\",\"properties\":[{\"name\":\"config\",\"kind\":\"Any\",\"default\":{\"type\":\"map\"}},{\"name\":\"contained\",\"kind\":\"Any\",\"default\":true},{\"name\":\"position\",\"kind\":\"Any\",\"default\":\"right-top\"},{\"name\":\"offsetx\",\"kind\":\"Any\",\"default\":null},{\"name\":\"offsety\",\"kind\":\"Any\",\"default\":null},{\"name\":\"theme\",\"kind\":\"Any\",\"default\":\"primary\"},{\"name\":\"status\",\"kind\":\"Any\",\"default\":\"normalized\"}]},{\"type\":\"model\",\"name\":\"GridStack1\",\"properties\":[{\"name\":\"ncols\",\"kind\":\"Any\",\"default\":null},{\"name\":\"nrows\",\"kind\":\"Any\",\"default\":null},{\"name\":\"allow_resize\",\"kind\":\"Any\",\"default\":true},{\"name\":\"allow_drag\",\"kind\":\"Any\",\"default\":true},{\"name\":\"state\",\"kind\":\"Any\",\"default\":[]}]},{\"type\":\"model\",\"name\":\"drag1\",\"properties\":[{\"name\":\"slider_width\",\"kind\":\"Any\",\"default\":5},{\"name\":\"slider_color\",\"kind\":\"Any\",\"default\":\"black\"},{\"name\":\"value\",\"kind\":\"Any\",\"default\":50}]},{\"type\":\"model\",\"name\":\"click1\",\"properties\":[{\"name\":\"terminal_output\",\"kind\":\"Any\",\"default\":\"\"},{\"name\":\"debug_name\",\"kind\":\"Any\",\"default\":\"\"},{\"name\":\"clears\",\"kind\":\"Any\",\"default\":0}]},{\"type\":\"model\",\"name\":\"FastWrapper1\",\"properties\":[{\"name\":\"object\",\"kind\":\"Any\",\"default\":null},{\"name\":\"style\",\"kind\":\"Any\",\"default\":null}]},{\"type\":\"model\",\"name\":\"NotificationArea1\",\"properties\":[{\"name\":\"js_events\",\"kind\":\"Any\",\"default\":{\"type\":\"map\"}},{\"name\":\"max_notifications\",\"kind\":\"Any\",\"default\":5},{\"name\":\"notifications\",\"kind\":\"Any\",\"default\":[]},{\"name\":\"position\",\"kind\":\"Any\",\"default\":\"bottom-right\"},{\"name\":\"_clear\",\"kind\":\"Any\",\"default\":0},{\"name\":\"types\",\"kind\":\"Any\",\"default\":[{\"type\":\"map\",\"entries\":[[\"type\",\"warning\"],[\"background\",\"#ffc107\"],[\"icon\",{\"type\":\"map\",\"entries\":[[\"className\",\"fas fa-exclamation-triangle\"],[\"tagName\",\"i\"],[\"color\",\"white\"]]}]]},{\"type\":\"map\",\"entries\":[[\"type\",\"info\"],[\"background\",\"#007bff\"],[\"icon\",{\"type\":\"map\",\"entries\":[[\"className\",\"fas fa-info-circle\"],[\"tagName\",\"i\"],[\"color\",\"white\"]]}]]}]}]},{\"type\":\"model\",\"name\":\"Notification\",\"properties\":[{\"name\":\"background\",\"kind\":\"Any\",\"default\":null},{\"name\":\"duration\",\"kind\":\"Any\",\"default\":3000},{\"name\":\"icon\",\"kind\":\"Any\",\"default\":null},{\"name\":\"message\",\"kind\":\"Any\",\"default\":\"\"},{\"name\":\"notification_type\",\"kind\":\"Any\",\"default\":null},{\"name\":\"_rendered\",\"kind\":\"Any\",\"default\":false},{\"name\":\"_destroyed\",\"kind\":\"Any\",\"default\":false}]},{\"type\":\"model\",\"name\":\"TemplateActions1\",\"properties\":[{\"name\":\"open_modal\",\"kind\":\"Any\",\"default\":0},{\"name\":\"close_modal\",\"kind\":\"Any\",\"default\":0}]},{\"type\":\"model\",\"name\":\"BootstrapTemplateActions1\",\"properties\":[{\"name\":\"open_modal\",\"kind\":\"Any\",\"default\":0},{\"name\":\"close_modal\",\"kind\":\"Any\",\"default\":0}]},{\"type\":\"model\",\"name\":\"TemplateEditor1\",\"properties\":[{\"name\":\"layout\",\"kind\":\"Any\",\"default\":[]}]},{\"type\":\"model\",\"name\":\"MaterialTemplateActions1\",\"properties\":[{\"name\":\"open_modal\",\"kind\":\"Any\",\"default\":0},{\"name\":\"close_modal\",\"kind\":\"Any\",\"default\":0}]},{\"type\":\"model\",\"name\":\"ReactiveESM1\",\"properties\":[{\"name\":\"esm_constants\",\"kind\":\"Any\",\"default\":{\"type\":\"map\"}}]},{\"type\":\"model\",\"name\":\"JSComponent1\",\"properties\":[{\"name\":\"esm_constants\",\"kind\":\"Any\",\"default\":{\"type\":\"map\"}}]},{\"type\":\"model\",\"name\":\"ReactComponent1\",\"properties\":[{\"name\":\"esm_constants\",\"kind\":\"Any\",\"default\":{\"type\":\"map\"}}]},{\"type\":\"model\",\"name\":\"AnyWidgetComponent1\",\"properties\":[{\"name\":\"esm_constants\",\"kind\":\"Any\",\"default\":{\"type\":\"map\"}}]},{\"type\":\"model\",\"name\":\"request_value1\",\"properties\":[{\"name\":\"fill\",\"kind\":\"Any\",\"default\":\"none\"},{\"name\":\"_synced\",\"kind\":\"Any\",\"default\":null},{\"name\":\"_request_sync\",\"kind\":\"Any\",\"default\":0}]}]}};\n",
       "  var render_items = [{\"docid\":\"93f47c21-0201-42b5-8f65-00bfe889c992\",\"roots\":{\"6955751e-4455-40b8-b2b3-8301aa48cf1b\":\"e37a5c37-b85b-489a-a3d9-f7eaf803690a\"},\"root_ids\":[\"6955751e-4455-40b8-b2b3-8301aa48cf1b\"]}];\n",
       "  var docs = Object.values(docs_json)\n",
       "  if (!docs) {\n",
       "    return\n",
       "  }\n",
       "  const py_version = docs[0].version.replace('rc', '-rc.').replace('.dev', '-dev.')\n",
       "  async function embed_document(root) {\n",
       "    var Bokeh = get_bokeh(root)\n",
       "    await Bokeh.embed.embed_items_notebook(docs_json, render_items);\n",
       "    for (const render_item of render_items) {\n",
       "      for (const root_id of render_item.root_ids) {\n",
       "\tconst id_el = document.getElementById(root_id)\n",
       "\tif (id_el.children.length && id_el.children[0].hasAttribute('data-root-id')) {\n",
       "\t  const root_el = id_el.children[0]\n",
       "\t  root_el.id = root_el.id + '-rendered'\n",
       "\t  for (const child of root_el.children) {\n",
       "            // Ensure JupyterLab does not capture keyboard shortcuts\n",
       "            // see: https://jupyterlab.readthedocs.io/en/4.1.x/extension/notebook.html#keyboard-interaction-model\n",
       "\t    child.setAttribute('data-lm-suppress-shortcuts', 'true')\n",
       "\t  }\n",
       "\t}\n",
       "      }\n",
       "    }\n",
       "  }\n",
       "  function get_bokeh(root) {\n",
       "    if (root.Bokeh === undefined) {\n",
       "      return null\n",
       "    } else if (root.Bokeh.version !== py_version) {\n",
       "      if (root.Bokeh.versions === undefined || !root.Bokeh.versions.has(py_version)) {\n",
       "\treturn null\n",
       "      }\n",
       "      return root.Bokeh.versions.get(py_version);\n",
       "    } else if (root.Bokeh.version === py_version) {\n",
       "      return root.Bokeh\n",
       "    }\n",
       "    return null\n",
       "  }\n",
       "  function is_loaded(root) {\n",
       "    var Bokeh = get_bokeh(root)\n",
       "    return (Bokeh != null && Bokeh.Panel !== undefined)\n",
       "  }\n",
       "  if (is_loaded(root)) {\n",
       "    embed_document(root);\n",
       "  } else {\n",
       "    var attempts = 0;\n",
       "    var timer = setInterval(function(root) {\n",
       "      if (is_loaded(root)) {\n",
       "        clearInterval(timer);\n",
       "        embed_document(root);\n",
       "      } else if (document.readyState == \"complete\") {\n",
       "        attempts++;\n",
       "        if (attempts > 200) {\n",
       "          clearInterval(timer);\n",
       "\t  var Bokeh = get_bokeh(root)\n",
       "\t  if (Bokeh == null || Bokeh.Panel == null) {\n",
       "            console.warn(\"Panel: ERROR: Unable to run Panel code because Bokeh or Panel library is missing\");\n",
       "\t  } else {\n",
       "\t    console.warn(\"Panel: WARNING: Attempting to render but not all required libraries could be resolved.\")\n",
       "\t    embed_document(root)\n",
       "\t  }\n",
       "        }\n",
       "      }\n",
       "    }, 25, root)\n",
       "  }\n",
       "})(window);</script>"
      ],
      "text/plain": [
       ":Overlay\n",
       "   .Bars.I    :Bars   [post_str_blast]   (percent)\n",
       "   .HLine.I   :HLine   [x,y]\n",
       "   .HLine.II  :HLine   [x,y]\n",
       "   .HLine.III :HLine   [x,y]"
      ]
     },
     "metadata": {
      "application/vnd.holoviews_exec.v0+json": {
       "id": "6955751e-4455-40b8-b2b3-8301aa48cf1b"
      }
     },
     "output_type": "display_data"
    },
    {
     "name": "stdout",
     "output_type": "stream",
     "text": [
      "df_10_last FOR str_b6 = 35\n",
      "Last 3 results last_results=['34', '35']\n"
     ]
    },
    {
     "data": {
      "text/html": [
       "<div><style>\n",
       ".dataframe > thead > tr,\n",
       ".dataframe > tbody > tr {\n",
       "  text-align: right;\n",
       "  white-space: pre-wrap;\n",
       "}\n",
       "</style>\n",
       "<small>shape: (10, 30)</small><table border=\"1\" class=\"dataframe\"><thead><tr><th>fecha</th><th>sorteo</th><th>bolillas regulares</th><th>bolillas chauchamba</th><th>cc1</th><th>cc2</th><th>id</th><th>combo</th><th>b1</th><th>b2</th><th>b3</th><th>b4</th><th>b5</th><th>b6</th><th>str_b1</th><th>str_b2</th><th>str_b3</th><th>str_b4</th><th>str_b5</th><th>str_b6</th><th>post_str_b1</th><th>post_str_b2</th><th>post_str_b3</th><th>post_str_b4</th><th>post_str_b5</th><th>post_str_blast</th><th>is_rare_combination</th><th>reason</th><th>jumps_map</th><th>unijump</th></tr><tr><td>str</td><td>str</td><td>str</td><td>str</td><td>str</td><td>str</td><td>str</td><td>array[u8, 6]</td><td>u8</td><td>u8</td><td>u8</td><td>u8</td><td>u8</td><td>u8</td><td>str</td><td>str</td><td>str</td><td>str</td><td>str</td><td>str</td><td>str</td><td>str</td><td>str</td><td>str</td><td>str</td><td>str</td><td>bool</td><td>u8</td><td>str</td><td>i64</td></tr></thead><tbody><tr><td>&quot;26/04/2025&quot;</td><td>&quot;1800&quot;</td><td>&quot;20 35 03 19 09 29&quot;</td><td>&quot;09 17 29 39 31 34&quot;</td><td>&quot;&quot;</td><td>&quot;&quot;</td><td>&quot;030919202935&quot;</td><td>[3, 9, … 35]</td><td>3</td><td>9</td><td>19</td><td>20</td><td>29</td><td>35</td><td>&quot;03&quot;</td><td>&quot;09&quot;</td><td>&quot;19&quot;</td><td>&quot;20&quot;</td><td>&quot;29&quot;</td><td>&quot;35&quot;</td><td>&quot;03&quot;</td><td>&quot;09&quot;</td><td>&quot;19&quot;</td><td>&quot;20&quot;</td><td>&quot;29&quot;</td><td>&quot;35&quot;</td><td>false</td><td>0</td><td>&quot;06_10_01_09_06&quot;</td><td>-58</td></tr><tr><td>&quot;20/03/2025&quot;</td><td>&quot;1784&quot;</td><td>&quot;13 07 35 15 03 11&quot;</td><td>&quot;28 12 22 35 08 37&quot;</td><td>&quot;&quot;</td><td>&quot;&quot;</td><td>&quot;030711131535&quot;</td><td>[3, 7, … 35]</td><td>3</td><td>7</td><td>11</td><td>13</td><td>15</td><td>35</td><td>&quot;03&quot;</td><td>&quot;07&quot;</td><td>&quot;11&quot;</td><td>&quot;13&quot;</td><td>&quot;15&quot;</td><td>&quot;35&quot;</td><td>&quot;07&quot;</td><td>&quot;23&quot;</td><td>&quot;24&quot;</td><td>&quot;25&quot;</td><td>&quot;29&quot;</td><td>&quot;34&quot;</td><td>true</td><td>27</td><td>&quot;04_04_02_02_20&quot;</td><td>12</td></tr><tr><td>&quot;20/03/2025&quot;</td><td>&quot;1784&quot;</td><td>&quot;13 07 35 15 03 11&quot;</td><td>&quot;28 12 22 35 08 37&quot;</td><td>&quot;&quot;</td><td>&quot;&quot;</td><td>&quot;030711131535&quot;</td><td>[3, 7, … 35]</td><td>3</td><td>7</td><td>11</td><td>13</td><td>15</td><td>35</td><td>&quot;03&quot;</td><td>&quot;07&quot;</td><td>&quot;11&quot;</td><td>&quot;13&quot;</td><td>&quot;15&quot;</td><td>&quot;35&quot;</td><td>&quot;03&quot;</td><td>&quot;07&quot;</td><td>&quot;11&quot;</td><td>&quot;13&quot;</td><td>&quot;15&quot;</td><td>&quot;35&quot;</td><td>true</td><td>27</td><td>&quot;04_04_02_02_20&quot;</td><td>12</td></tr><tr><td>&quot;25/01/2025&quot;</td><td>&quot;1761&quot;</td><td>&quot;17 35 23 33 32 34&quot;</td><td>&quot;33 02 17 20 03 13&quot;</td><td>&quot;&quot;</td><td>&quot;&quot;</td><td>&quot;172332333435&quot;</td><td>[17, 23, … 35]</td><td>17</td><td>23</td><td>32</td><td>33</td><td>34</td><td>35</td><td>&quot;17&quot;</td><td>&quot;23&quot;</td><td>&quot;32&quot;</td><td>&quot;33&quot;</td><td>&quot;34&quot;</td><td>&quot;35&quot;</td><td>&quot;01&quot;</td><td>&quot;06&quot;</td><td>&quot;14&quot;</td><td>&quot;18&quot;</td><td>&quot;24&quot;</td><td>&quot;39&quot;</td><td>true</td><td>8</td><td>&quot;06_09_01_01_01&quot;</td><td>-27</td></tr><tr><td>&quot;25/01/2025&quot;</td><td>&quot;1761&quot;</td><td>&quot;17 35 23 33 32 34&quot;</td><td>&quot;33 02 17 20 03 13&quot;</td><td>&quot;&quot;</td><td>&quot;&quot;</td><td>&quot;172332333435&quot;</td><td>[17, 23, … 35]</td><td>17</td><td>23</td><td>32</td><td>33</td><td>34</td><td>35</td><td>&quot;17&quot;</td><td>&quot;23&quot;</td><td>&quot;32&quot;</td><td>&quot;33&quot;</td><td>&quot;34&quot;</td><td>&quot;35&quot;</td><td>&quot;17&quot;</td><td>&quot;23&quot;</td><td>&quot;32&quot;</td><td>&quot;33&quot;</td><td>&quot;34&quot;</td><td>&quot;35&quot;</td><td>true</td><td>8</td><td>&quot;06_09_01_01_01&quot;</td><td>-27</td></tr><tr><td>&quot;02/01/2025&quot;</td><td>&quot;1751&quot;</td><td>&quot;10 34 24 16 35 01&quot;</td><td>&quot;11 03 18 29 15 28&quot;</td><td>&quot;&quot;</td><td>&quot;&quot;</td><td>&quot;011016243435&quot;</td><td>[1, 10, … 35]</td><td>1</td><td>10</td><td>16</td><td>24</td><td>34</td><td>35</td><td>&quot;01&quot;</td><td>&quot;10&quot;</td><td>&quot;16&quot;</td><td>&quot;24&quot;</td><td>&quot;34&quot;</td><td>&quot;35&quot;</td><td>&quot;08&quot;</td><td>&quot;12&quot;</td><td>&quot;19&quot;</td><td>&quot;27&quot;</td><td>&quot;37&quot;</td><td>&quot;39&quot;</td><td>false</td><td>0</td><td>&quot;09_06_08_10_01&quot;</td><td>-6</td></tr><tr><td>&quot;02/01/2025&quot;</td><td>&quot;1751&quot;</td><td>&quot;10 34 24 16 35 01&quot;</td><td>&quot;11 03 18 29 15 28&quot;</td><td>&quot;&quot;</td><td>&quot;&quot;</td><td>&quot;011016243435&quot;</td><td>[1, 10, … 35]</td><td>1</td><td>10</td><td>16</td><td>24</td><td>34</td><td>35</td><td>&quot;01&quot;</td><td>&quot;10&quot;</td><td>&quot;16&quot;</td><td>&quot;24&quot;</td><td>&quot;34&quot;</td><td>&quot;35&quot;</td><td>&quot;01&quot;</td><td>&quot;10&quot;</td><td>&quot;16&quot;</td><td>&quot;24&quot;</td><td>&quot;34&quot;</td><td>&quot;35&quot;</td><td>false</td><td>0</td><td>&quot;09_06_08_10_01&quot;</td><td>-6</td></tr><tr><td>&quot;19/12/2024&quot;</td><td>&quot;1745&quot;</td><td>&quot;10 13 25 35 20 30&quot;</td><td>&quot;25 11 10 23 31 17&quot;</td><td>&quot;&quot;</td><td>&quot;&quot;</td><td>&quot;101320253035&quot;</td><td>[10, 13, … 35]</td><td>10</td><td>13</td><td>20</td><td>25</td><td>30</td><td>35</td><td>&quot;10&quot;</td><td>&quot;13&quot;</td><td>&quot;20&quot;</td><td>&quot;25&quot;</td><td>&quot;30&quot;</td><td>&quot;35&quot;</td><td>&quot;04&quot;</td><td>&quot;13&quot;</td><td>&quot;15&quot;</td><td>&quot;16&quot;</td><td>&quot;20&quot;</td><td>&quot;29&quot;</td><td>true</td><td>8</td><td>&quot;03_07_05_05_05&quot;</td><td>-10</td></tr><tr><td>&quot;19/12/2024&quot;</td><td>&quot;1745&quot;</td><td>&quot;10 13 25 35 20 30&quot;</td><td>&quot;25 11 10 23 31 17&quot;</td><td>&quot;&quot;</td><td>&quot;&quot;</td><td>&quot;101320253035&quot;</td><td>[10, 13, … 35]</td><td>10</td><td>13</td><td>20</td><td>25</td><td>30</td><td>35</td><td>&quot;10&quot;</td><td>&quot;13&quot;</td><td>&quot;20&quot;</td><td>&quot;25&quot;</td><td>&quot;30&quot;</td><td>&quot;35&quot;</td><td>&quot;10&quot;</td><td>&quot;13&quot;</td><td>&quot;20&quot;</td><td>&quot;25&quot;</td><td>&quot;30&quot;</td><td>&quot;35&quot;</td><td>true</td><td>8</td><td>&quot;03_07_05_05_05&quot;</td><td>-10</td></tr><tr><td>&quot;09/11/2024&quot;</td><td>&quot;1728&quot;</td><td>&quot;20 10 07 35 24 26&quot;</td><td>&quot;31 12 34 06 14 20&quot;</td><td>&quot;&quot;</td><td>&quot;&quot;</td><td>&quot;071020242635&quot;</td><td>[7, 10, … 35]</td><td>7</td><td>10</td><td>20</td><td>24</td><td>26</td><td>35</td><td>&quot;07&quot;</td><td>&quot;10&quot;</td><td>&quot;20&quot;</td><td>&quot;24&quot;</td><td>&quot;26&quot;</td><td>&quot;35&quot;</td><td>&quot;01&quot;</td><td>&quot;09&quot;</td><td>&quot;10&quot;</td><td>&quot;33&quot;</td><td>&quot;34&quot;</td><td>&quot;38&quot;</td><td>false</td><td>0</td><td>&quot;03_10_04_02_09&quot;</td><td>-12</td></tr></tbody></table></div>"
      ],
      "text/plain": [
       "shape: (10, 30)\n",
       "┌────────────┬────────┬─────────────┬─────────────┬───┬────────────┬────────┬────────────┬─────────┐\n",
       "│ fecha      ┆ sorteo ┆ bolillas    ┆ bolillas    ┆ … ┆ is_rare_co ┆ reason ┆ jumps_map  ┆ unijump │\n",
       "│ ---        ┆ ---    ┆ regulares   ┆ chauchamba  ┆   ┆ mbination  ┆ ---    ┆ ---        ┆ ---     │\n",
       "│ str        ┆ str    ┆ ---         ┆ ---         ┆   ┆ ---        ┆ u8     ┆ str        ┆ i64     │\n",
       "│            ┆        ┆ str         ┆ str         ┆   ┆ bool       ┆        ┆            ┆         │\n",
       "╞════════════╪════════╪═════════════╪═════════════╪═══╪════════════╪════════╪════════════╪═════════╡\n",
       "│ 26/04/2025 ┆ 1800   ┆ 20 35 03 19 ┆ 09 17 29 39 ┆ … ┆ false      ┆ 0      ┆ 06_10_01_0 ┆ -58     │\n",
       "│            ┆        ┆ 09 29       ┆ 31 34       ┆   ┆            ┆        ┆ 9_06       ┆         │\n",
       "│ 20/03/2025 ┆ 1784   ┆ 13 07 35 15 ┆ 28 12 22 35 ┆ … ┆ true       ┆ 27     ┆ 04_04_02_0 ┆ 12      │\n",
       "│            ┆        ┆ 03 11       ┆ 08 37       ┆   ┆            ┆        ┆ 2_20       ┆         │\n",
       "│ 20/03/2025 ┆ 1784   ┆ 13 07 35 15 ┆ 28 12 22 35 ┆ … ┆ true       ┆ 27     ┆ 04_04_02_0 ┆ 12      │\n",
       "│            ┆        ┆ 03 11       ┆ 08 37       ┆   ┆            ┆        ┆ 2_20       ┆         │\n",
       "│ 25/01/2025 ┆ 1761   ┆ 17 35 23 33 ┆ 33 02 17 20 ┆ … ┆ true       ┆ 8      ┆ 06_09_01_0 ┆ -27     │\n",
       "│            ┆        ┆ 32 34       ┆ 03 13       ┆   ┆            ┆        ┆ 1_01       ┆         │\n",
       "│ 25/01/2025 ┆ 1761   ┆ 17 35 23 33 ┆ 33 02 17 20 ┆ … ┆ true       ┆ 8      ┆ 06_09_01_0 ┆ -27     │\n",
       "│            ┆        ┆ 32 34       ┆ 03 13       ┆   ┆            ┆        ┆ 1_01       ┆         │\n",
       "│ 02/01/2025 ┆ 1751   ┆ 10 34 24 16 ┆ 11 03 18 29 ┆ … ┆ false      ┆ 0      ┆ 09_06_08_1 ┆ -6      │\n",
       "│            ┆        ┆ 35 01       ┆ 15 28       ┆   ┆            ┆        ┆ 0_01       ┆         │\n",
       "│ 02/01/2025 ┆ 1751   ┆ 10 34 24 16 ┆ 11 03 18 29 ┆ … ┆ false      ┆ 0      ┆ 09_06_08_1 ┆ -6      │\n",
       "│            ┆        ┆ 35 01       ┆ 15 28       ┆   ┆            ┆        ┆ 0_01       ┆         │\n",
       "│ 19/12/2024 ┆ 1745   ┆ 10 13 25 35 ┆ 25 11 10 23 ┆ … ┆ true       ┆ 8      ┆ 03_07_05_0 ┆ -10     │\n",
       "│            ┆        ┆ 20 30       ┆ 31 17       ┆   ┆            ┆        ┆ 5_05       ┆         │\n",
       "│ 19/12/2024 ┆ 1745   ┆ 10 13 25 35 ┆ 25 11 10 23 ┆ … ┆ true       ┆ 8      ┆ 03_07_05_0 ┆ -10     │\n",
       "│            ┆        ┆ 20 30       ┆ 31 17       ┆   ┆            ┆        ┆ 5_05       ┆         │\n",
       "│ 09/11/2024 ┆ 1728   ┆ 20 10 07 35 ┆ 31 12 34 06 ┆ … ┆ false      ┆ 0      ┆ 03_10_04_0 ┆ -12     │\n",
       "│            ┆        ┆ 24 26       ┆ 14 20       ┆   ┆            ┆        ┆ 2_09       ┆         │\n",
       "└────────────┴────────┴─────────────┴─────────────┴───┴────────────┴────────┴────────────┴─────────┘"
      ]
     },
     "metadata": {},
     "output_type": "display_data"
    },
    {
     "name": "stdout",
     "output_type": "stream",
     "text": [
      "df_jumps_map FOR str_b6 = 35\n"
     ]
    },
    {
     "data": {
      "text/html": [
       "<div><style>\n",
       ".dataframe > thead > tr,\n",
       ".dataframe > tbody > tr {\n",
       "  text-align: right;\n",
       "  white-space: pre-wrap;\n",
       "}\n",
       "</style>\n",
       "<small>shape: (248, 2)</small><table border=\"1\" class=\"dataframe\"><thead><tr><th>jumps_map</th><th>count</th></tr><tr><td>str</td><td>u32</td></tr></thead><tbody><tr><td>&quot;02_10_09_04_06&quot;</td><td>2</td></tr><tr><td>&quot;17_01_04_01_02&quot;</td><td>2</td></tr><tr><td>&quot;03_06_02_13_03&quot;</td><td>2</td></tr><tr><td>&quot;08_01_07_03_08&quot;</td><td>2</td></tr><tr><td>&quot;02_03_02_04_05&quot;</td><td>2</td></tr><tr><td>&hellip;</td><td>&hellip;</td></tr><tr><td>&quot;03_08_02_08_03&quot;</td><td>1</td></tr><tr><td>&quot;02_07_02_05_07&quot;</td><td>1</td></tr><tr><td>&quot;06_03_05_16_04&quot;</td><td>1</td></tr><tr><td>&quot;13_06_01_03_05&quot;</td><td>1</td></tr><tr><td>&quot;16_07_01_08_01&quot;</td><td>1</td></tr></tbody></table></div>"
      ],
      "text/plain": [
       "shape: (248, 2)\n",
       "┌────────────────┬───────┐\n",
       "│ jumps_map      ┆ count │\n",
       "│ ---            ┆ ---   │\n",
       "│ str            ┆ u32   │\n",
       "╞════════════════╪═══════╡\n",
       "│ 02_10_09_04_06 ┆ 2     │\n",
       "│ 17_01_04_01_02 ┆ 2     │\n",
       "│ 03_06_02_13_03 ┆ 2     │\n",
       "│ 08_01_07_03_08 ┆ 2     │\n",
       "│ 02_03_02_04_05 ┆ 2     │\n",
       "│ …              ┆ …     │\n",
       "│ 03_08_02_08_03 ┆ 1     │\n",
       "│ 02_07_02_05_07 ┆ 1     │\n",
       "│ 06_03_05_16_04 ┆ 1     │\n",
       "│ 13_06_01_03_05 ┆ 1     │\n",
       "│ 16_07_01_08_01 ┆ 1     │\n",
       "└────────────────┴───────┘"
      ]
     },
     "metadata": {},
     "output_type": "display_data"
    },
    {
     "name": "stdout",
     "output_type": "stream",
     "text": [
      "df_unijump FOR str_b6 = 35\n"
     ]
    },
    {
     "data": {
      "text/html": [
       "<div><style>\n",
       ".dataframe > thead > tr,\n",
       ".dataframe > tbody > tr {\n",
       "  text-align: right;\n",
       "  white-space: pre-wrap;\n",
       "}\n",
       "</style>\n",
       "<small>shape: (118, 2)</small><table border=\"1\" class=\"dataframe\"><thead><tr><th>unijump</th><th>count</th></tr><tr><td>i64</td><td>u32</td></tr></thead><tbody><tr><td>14</td><td>12</td></tr><tr><td>-21</td><td>9</td></tr><tr><td>6</td><td>9</td></tr><tr><td>21</td><td>9</td></tr><tr><td>29</td><td>8</td></tr><tr><td>&hellip;</td><td>&hellip;</td></tr><tr><td>-76</td><td>1</td></tr><tr><td>-66</td><td>1</td></tr><tr><td>-4</td><td>1</td></tr><tr><td>118</td><td>1</td></tr><tr><td>-5</td><td>1</td></tr></tbody></table></div>"
      ],
      "text/plain": [
       "shape: (118, 2)\n",
       "┌─────────┬───────┐\n",
       "│ unijump ┆ count │\n",
       "│ ---     ┆ ---   │\n",
       "│ i64     ┆ u32   │\n",
       "╞═════════╪═══════╡\n",
       "│ 14      ┆ 12    │\n",
       "│ -21     ┆ 9     │\n",
       "│ 6       ┆ 9     │\n",
       "│ 21      ┆ 9     │\n",
       "│ 29      ┆ 8     │\n",
       "│ …       ┆ …     │\n",
       "│ -76     ┆ 1     │\n",
       "│ -66     ┆ 1     │\n",
       "│ -4      ┆ 1     │\n",
       "│ 118     ┆ 1     │\n",
       "│ -5      ┆ 1     │\n",
       "└─────────┴───────┘"
      ]
     },
     "metadata": {},
     "output_type": "display_data"
    }
   ],
   "source": [
    "possible_blast, exclude_jump_maps_blast, last_post_blast = plot_post_col(col='str_b6', post_col='post_str_blast')"
   ]
  },
  {
   "cell_type": "code",
   "execution_count": 13,
   "metadata": {},
   "outputs": [],
   "source": [
    "b_count = rr.CHOOSE\n",
    "min_b = rr.MIN_B_VALUES[0]\n",
    "max_b = rr.MAX_B_VALUES[-1]\n",
    "\n",
    "\n",
    "combos = combinations(range(min_b, max_b + 1), b_count)\n",
    "# print(\"generating combos: \", len(list(combos)))"
   ]
  },
  {
   "cell_type": "code",
   "execution_count": 14,
   "metadata": {},
   "outputs": [],
   "source": [
    "parquet_file = './parquet_kbl_v3.parquet'\n",
    "\n",
    "# check if parquet_file exists\n",
    "if not os.path.exists(parquet_file):\n",
    "  print(f'{parquet_file=} does not exists. creating')\n",
    "  lst = []\n",
    "\n",
    "  for row in combos:\n",
    "    cols = []\n",
    "    str_row = \" \".join([str(r).zfill(2) for r in row])\n",
    "    id, bolillas_int, str_combo = formalize_data_with_str(bolillas_str=str_row)\n",
    "    cols.append(id)\n",
    "    cols.append(bolillas_int)\n",
    "    cols.extend([b for b in bolillas_int])\n",
    "    cols.extend(str_combo)\n",
    "\n",
    "    is_rare, reason = rr.is_rare_combination(bolillas_int, id)\n",
    "    cols.append(is_rare)\n",
    "    cols.append(reason)\n",
    "\n",
    "    cols.append(rr.jumps_map(bolillas_int))\n",
    "    cols.append(rr.unijump(bolillas_int))\n",
    "    \n",
    "    lst.append(cols)\n",
    "\n",
    "\n",
    "  with open('./gn_cahe_v3.json', 'w') as file: \n",
    "    json.dump(lst, file)\n",
    "\n",
    "  \n",
    "  # dfRows = pl.DataFrame(\n",
    "  #   lst,\n",
    "  #   schema=[\n",
    "  #     'fecha', 'sorteo', 'bolillas regulares', 'bolillas chauchamba', 'cc1', 'cc2',\n",
    "  #     'id', 'combo', 'b1', 'b2', 'b3', 'b4', 'b5', 'b6',\n",
    "  #     'str_b1', 'str_b2', 'str_b3', 'str_b4', 'str_b5', 'str_b6',\n",
    "  #     'post_str_b1', 'post_str_b2', 'post_str_b3', 'post_str_b4', 'post_str_b5', 'post_str_blast',\n",
    "  #     'is_rare_combination', 'reason',\n",
    "  #     \"jumps_map\", \"unijump\"\n",
    "  #   ],\n",
    "  #   schema_overrides={\n",
    "  #     'combo': pl.Array(pl.UInt8, 6),\n",
    "  #     'b1': pl.UInt8,\n",
    "  #     'b2': pl.UInt8,\n",
    "  #     'b3': pl.UInt8,\n",
    "  #     'b4': pl.UInt8,\n",
    "  #     'b5': pl.UInt8,\n",
    "  #     'b6': pl.UInt8,\n",
    "  #     'reason': pl.UInt8\n",
    "  #   },\n",
    "  #   orient='row'\n",
    "  # )\n",
    "\n",
    "  df_Orows = pl.DataFrame(\n",
    "    lst,\n",
    "    schema=[\n",
    "      # 'fecha', 'sorteo', 'bolillas',\n",
    "      'id', 'combo', 'b1', 'b2', 'b3', 'b4', 'b5', 'b6',\n",
    "      'str_b1', 'str_b2', 'str_b3', 'str_b4', 'str_b5', 'str_b6',\n",
    "      'is_rare_combination', 'reason',\n",
    "      \"jumps_map\", \"unijump\"\n",
    "    ],\n",
    "    schema_overrides={\n",
    "      'combo': pl.Array(pl.UInt8, 6),\n",
    "      'b1': pl.UInt8,\n",
    "      'b2': pl.UInt8,\n",
    "      'b3': pl.UInt8,\n",
    "      'b4': pl.UInt8,\n",
    "      'b5': pl.UInt8,\n",
    "      'b6': pl.UInt8,\n",
    "      'reason': pl.UInt8\n",
    "    },\n",
    "    orient='row'\n",
    "  )\n",
    "\n",
    "  df_Orows.write_parquet(parquet_file)\n",
    "  TOTAL_LINES = len(df_Orows)\n",
    "  print(f'{TOTAL_LINES=} loaded to {parquet_file=}')\n",
    "\n",
    "  display(df_Orows.head(10))\n",
    "else:\n",
    "  df_Orows = pl.read_parquet(parquet_file)"
   ]
  },
  {
   "cell_type": "code",
   "execution_count": 15,
   "metadata": {},
   "outputs": [
    {
     "data": {
      "text/html": [
       "<div><style>\n",
       ".dataframe > thead > tr,\n",
       ".dataframe > tbody > tr {\n",
       "  text-align: right;\n",
       "  white-space: pre-wrap;\n",
       "}\n",
       "</style>\n",
       "<small>shape: (9_128, 18)</small><table border=\"1\" class=\"dataframe\"><thead><tr><th>id</th><th>combo</th><th>b1</th><th>b2</th><th>b3</th><th>b4</th><th>b5</th><th>b6</th><th>str_b1</th><th>str_b2</th><th>str_b3</th><th>str_b4</th><th>str_b5</th><th>str_b6</th><th>is_rare_combination</th><th>reason</th><th>jumps_map</th><th>unijump</th></tr><tr><td>str</td><td>array[u8, 6]</td><td>u8</td><td>u8</td><td>u8</td><td>u8</td><td>u8</td><td>u8</td><td>str</td><td>str</td><td>str</td><td>str</td><td>str</td><td>str</td><td>bool</td><td>u8</td><td>str</td><td>i64</td></tr></thead><tbody><tr><td>&quot;010411232536&quot;</td><td>[1, 4, … 36]</td><td>1</td><td>4</td><td>11</td><td>23</td><td>25</td><td>36</td><td>&quot;01&quot;</td><td>&quot;04&quot;</td><td>&quot;11&quot;</td><td>&quot;23&quot;</td><td>&quot;25&quot;</td><td>&quot;36&quot;</td><td>false</td><td>0</td><td>&quot;03_07_12_02_11&quot;</td><td>50</td></tr><tr><td>&quot;010411232537&quot;</td><td>[1, 4, … 37]</td><td>1</td><td>4</td><td>11</td><td>23</td><td>25</td><td>37</td><td>&quot;01&quot;</td><td>&quot;04&quot;</td><td>&quot;11&quot;</td><td>&quot;23&quot;</td><td>&quot;25&quot;</td><td>&quot;37&quot;</td><td>false</td><td>0</td><td>&quot;03_07_12_02_12&quot;</td><td>51</td></tr><tr><td>&quot;010411232538&quot;</td><td>[1, 4, … 38]</td><td>1</td><td>4</td><td>11</td><td>23</td><td>25</td><td>38</td><td>&quot;01&quot;</td><td>&quot;04&quot;</td><td>&quot;11&quot;</td><td>&quot;23&quot;</td><td>&quot;25&quot;</td><td>&quot;38&quot;</td><td>false</td><td>0</td><td>&quot;03_07_12_02_13&quot;</td><td>52</td></tr><tr><td>&quot;010411232539&quot;</td><td>[1, 4, … 39]</td><td>1</td><td>4</td><td>11</td><td>23</td><td>25</td><td>39</td><td>&quot;01&quot;</td><td>&quot;04&quot;</td><td>&quot;11&quot;</td><td>&quot;23&quot;</td><td>&quot;25&quot;</td><td>&quot;39&quot;</td><td>false</td><td>0</td><td>&quot;03_07_12_02_14&quot;</td><td>53</td></tr><tr><td>&quot;010411232540&quot;</td><td>[1, 4, … 40]</td><td>1</td><td>4</td><td>11</td><td>23</td><td>25</td><td>40</td><td>&quot;01&quot;</td><td>&quot;04&quot;</td><td>&quot;11&quot;</td><td>&quot;23&quot;</td><td>&quot;25&quot;</td><td>&quot;40&quot;</td><td>false</td><td>0</td><td>&quot;03_07_12_02_15&quot;</td><td>54</td></tr><tr><td>&hellip;</td><td>&hellip;</td><td>&hellip;</td><td>&hellip;</td><td>&hellip;</td><td>&hellip;</td><td>&hellip;</td><td>&hellip;</td><td>&hellip;</td><td>&hellip;</td><td>&hellip;</td><td>&hellip;</td><td>&hellip;</td><td>&hellip;</td><td>&hellip;</td><td>&hellip;</td><td>&hellip;</td><td>&hellip;</td></tr><tr><td>&quot;071722303538&quot;</td><td>[7, 17, … 38]</td><td>7</td><td>17</td><td>22</td><td>30</td><td>35</td><td>38</td><td>&quot;07&quot;</td><td>&quot;17&quot;</td><td>&quot;22&quot;</td><td>&quot;30&quot;</td><td>&quot;35&quot;</td><td>&quot;38&quot;</td><td>false</td><td>0</td><td>&quot;10_05_08_05_03&quot;</td><td>21</td></tr><tr><td>&quot;071722303539&quot;</td><td>[7, 17, … 39]</td><td>7</td><td>17</td><td>22</td><td>30</td><td>35</td><td>39</td><td>&quot;07&quot;</td><td>&quot;17&quot;</td><td>&quot;22&quot;</td><td>&quot;30&quot;</td><td>&quot;35&quot;</td><td>&quot;39&quot;</td><td>false</td><td>0</td><td>&quot;10_05_08_05_04&quot;</td><td>22</td></tr><tr><td>&quot;071722303738&quot;</td><td>[7, 17, … 38]</td><td>7</td><td>17</td><td>22</td><td>30</td><td>37</td><td>38</td><td>&quot;07&quot;</td><td>&quot;17&quot;</td><td>&quot;22&quot;</td><td>&quot;30&quot;</td><td>&quot;37&quot;</td><td>&quot;38&quot;</td><td>false</td><td>0</td><td>&quot;10_05_08_07_01&quot;</td><td>11</td></tr><tr><td>&quot;071722303739&quot;</td><td>[7, 17, … 39]</td><td>7</td><td>17</td><td>22</td><td>30</td><td>37</td><td>39</td><td>&quot;07&quot;</td><td>&quot;17&quot;</td><td>&quot;22&quot;</td><td>&quot;30&quot;</td><td>&quot;37&quot;</td><td>&quot;39&quot;</td><td>false</td><td>0</td><td>&quot;10_05_08_07_02&quot;</td><td>12</td></tr><tr><td>&quot;071722303740&quot;</td><td>[7, 17, … 40]</td><td>7</td><td>17</td><td>22</td><td>30</td><td>37</td><td>40</td><td>&quot;07&quot;</td><td>&quot;17&quot;</td><td>&quot;22&quot;</td><td>&quot;30&quot;</td><td>&quot;37&quot;</td><td>&quot;40&quot;</td><td>false</td><td>0</td><td>&quot;10_05_08_07_03&quot;</td><td>13</td></tr></tbody></table></div>"
      ],
      "text/plain": [
       "shape: (9_128, 18)\n",
       "┌──────────────┬───────────────┬─────┬─────┬───┬────────────────┬────────┬───────────────┬─────────┐\n",
       "│ id           ┆ combo         ┆ b1  ┆ b2  ┆ … ┆ is_rare_combin ┆ reason ┆ jumps_map     ┆ unijump │\n",
       "│ ---          ┆ ---           ┆ --- ┆ --- ┆   ┆ ation          ┆ ---    ┆ ---           ┆ ---     │\n",
       "│ str          ┆ array[u8, 6]  ┆ u8  ┆ u8  ┆   ┆ ---            ┆ u8     ┆ str           ┆ i64     │\n",
       "│              ┆               ┆     ┆     ┆   ┆ bool           ┆        ┆               ┆         │\n",
       "╞══════════════╪═══════════════╪═════╪═════╪═══╪════════════════╪════════╪═══════════════╪═════════╡\n",
       "│ 010411232536 ┆ [1, 4, … 36]  ┆ 1   ┆ 4   ┆ … ┆ false          ┆ 0      ┆ 03_07_12_02_1 ┆ 50      │\n",
       "│              ┆               ┆     ┆     ┆   ┆                ┆        ┆ 1             ┆         │\n",
       "│ 010411232537 ┆ [1, 4, … 37]  ┆ 1   ┆ 4   ┆ … ┆ false          ┆ 0      ┆ 03_07_12_02_1 ┆ 51      │\n",
       "│              ┆               ┆     ┆     ┆   ┆                ┆        ┆ 2             ┆         │\n",
       "│ 010411232538 ┆ [1, 4, … 38]  ┆ 1   ┆ 4   ┆ … ┆ false          ┆ 0      ┆ 03_07_12_02_1 ┆ 52      │\n",
       "│              ┆               ┆     ┆     ┆   ┆                ┆        ┆ 3             ┆         │\n",
       "│ 010411232539 ┆ [1, 4, … 39]  ┆ 1   ┆ 4   ┆ … ┆ false          ┆ 0      ┆ 03_07_12_02_1 ┆ 53      │\n",
       "│              ┆               ┆     ┆     ┆   ┆                ┆        ┆ 4             ┆         │\n",
       "│ 010411232540 ┆ [1, 4, … 40]  ┆ 1   ┆ 4   ┆ … ┆ false          ┆ 0      ┆ 03_07_12_02_1 ┆ 54      │\n",
       "│              ┆               ┆     ┆     ┆   ┆                ┆        ┆ 5             ┆         │\n",
       "│ …            ┆ …             ┆ …   ┆ …   ┆ … ┆ …              ┆ …      ┆ …             ┆ …       │\n",
       "│ 071722303538 ┆ [7, 17, … 38] ┆ 7   ┆ 17  ┆ … ┆ false          ┆ 0      ┆ 10_05_08_05_0 ┆ 21      │\n",
       "│              ┆               ┆     ┆     ┆   ┆                ┆        ┆ 3             ┆         │\n",
       "│ 071722303539 ┆ [7, 17, … 39] ┆ 7   ┆ 17  ┆ … ┆ false          ┆ 0      ┆ 10_05_08_05_0 ┆ 22      │\n",
       "│              ┆               ┆     ┆     ┆   ┆                ┆        ┆ 4             ┆         │\n",
       "│ 071722303738 ┆ [7, 17, … 38] ┆ 7   ┆ 17  ┆ … ┆ false          ┆ 0      ┆ 10_05_08_07_0 ┆ 11      │\n",
       "│              ┆               ┆     ┆     ┆   ┆                ┆        ┆ 1             ┆         │\n",
       "│ 071722303739 ┆ [7, 17, … 39] ┆ 7   ┆ 17  ┆ … ┆ false          ┆ 0      ┆ 10_05_08_07_0 ┆ 12      │\n",
       "│              ┆               ┆     ┆     ┆   ┆                ┆        ┆ 2             ┆         │\n",
       "│ 071722303740 ┆ [7, 17, … 40] ┆ 7   ┆ 17  ┆ … ┆ false          ┆ 0      ┆ 10_05_08_07_0 ┆ 13      │\n",
       "│              ┆               ┆     ┆     ┆   ┆                ┆        ┆ 3             ┆         │\n",
       "└──────────────┴───────────────┴─────┴─────┴───┴────────────────┴────────┴───────────────┴─────────┘"
      ]
     },
     "metadata": {},
     "output_type": "display_data"
    }
   ],
   "source": [
    "# possible_b1, exclude_jump_maps_b1\n",
    "df_possible = df_Orows.filter(\n",
    "  pl.col(\"str_b1\").is_in(possible_b1),\n",
    "  pl.col(\"str_b2\").is_in(possible_b2),\n",
    "  pl.col(\"str_b3\").is_in(possible_b3),\n",
    "  pl.col(\"str_b4\").is_in(possible_b4),\n",
    "  pl.col(\"str_b5\").is_in(possible_b5),\n",
    "  pl.col(\"str_b6\").is_in(possible_blast),\n",
    "  \n",
    "  ~pl.col(\"str_b1\").is_in(last_post_b1),\n",
    "  ~pl.col(\"str_b2\").is_in(last_post_b2),\n",
    "  ~pl.col(\"str_b3\").is_in(last_post_b3),\n",
    "  ~pl.col(\"str_b4\").is_in(last_post_b4),\n",
    "  ~pl.col(\"str_b5\").is_in(last_post_b5),\n",
    "  ~pl.col(\"str_b6\").is_in(last_post_blast),\n",
    "\n",
    "  ~pl.col(\"jumps_map\").is_in(exclude_jump_maps_b1 + exclude_jump_maps_b2 + exclude_jump_maps_b3 + exclude_jump_maps_b4 + exclude_jump_maps_b5 + exclude_jump_maps_blast),\n",
    "  pl.col(\"is_rare_combination\") == False\n",
    ")\n",
    "\n",
    "\n",
    "display(df_possible)"
   ]
  },
  {
   "cell_type": "code",
   "execution_count": 16,
   "metadata": {},
   "outputs": [
    {
     "data": {
      "text/html": [
       "<div><style>\n",
       ".dataframe > thead > tr,\n",
       ".dataframe > tbody > tr {\n",
       "  text-align: right;\n",
       "  white-space: pre-wrap;\n",
       "}\n",
       "</style>\n",
       "<small>shape: (1, 18)</small><table border=\"1\" class=\"dataframe\"><thead><tr><th>id</th><th>combo</th><th>b1</th><th>b2</th><th>b3</th><th>b4</th><th>b5</th><th>b6</th><th>str_b1</th><th>str_b2</th><th>str_b3</th><th>str_b4</th><th>str_b5</th><th>str_b6</th><th>is_rare_combination</th><th>reason</th><th>jumps_map</th><th>unijump</th></tr><tr><td>str</td><td>array[u8, 6]</td><td>u8</td><td>u8</td><td>u8</td><td>u8</td><td>u8</td><td>u8</td><td>str</td><td>str</td><td>str</td><td>str</td><td>str</td><td>str</td><td>bool</td><td>u8</td><td>str</td><td>i64</td></tr></thead><tbody><tr><td>&quot;070811253138&quot;</td><td>[7, 8, … 38]</td><td>7</td><td>8</td><td>11</td><td>25</td><td>31</td><td>38</td><td>&quot;07&quot;</td><td>&quot;08&quot;</td><td>&quot;11&quot;</td><td>&quot;25&quot;</td><td>&quot;31&quot;</td><td>&quot;38&quot;</td><td>false</td><td>0</td><td>&quot;01_03_14_06_07&quot;</td><td>56</td></tr></tbody></table></div>"
      ],
      "text/plain": [
       "shape: (1, 18)\n",
       "┌──────────────┬──────────────┬─────┬─────┬───┬────────────────┬────────┬────────────────┬─────────┐\n",
       "│ id           ┆ combo        ┆ b1  ┆ b2  ┆ … ┆ is_rare_combin ┆ reason ┆ jumps_map      ┆ unijump │\n",
       "│ ---          ┆ ---          ┆ --- ┆ --- ┆   ┆ ation          ┆ ---    ┆ ---            ┆ ---     │\n",
       "│ str          ┆ array[u8, 6] ┆ u8  ┆ u8  ┆   ┆ ---            ┆ u8     ┆ str            ┆ i64     │\n",
       "│              ┆              ┆     ┆     ┆   ┆ bool           ┆        ┆                ┆         │\n",
       "╞══════════════╪══════════════╪═════╪═════╪═══╪════════════════╪════════╪════════════════╪═════════╡\n",
       "│ 070811253138 ┆ [7, 8, … 38] ┆ 7   ┆ 8   ┆ … ┆ false          ┆ 0      ┆ 01_03_14_06_07 ┆ 56      │\n",
       "└──────────────┴──────────────┴─────┴─────┴───┴────────────────┴────────┴────────────────┴─────────┘"
      ]
     },
     "execution_count": 16,
     "metadata": {},
     "output_type": "execute_result"
    }
   ],
   "source": [
    "df_possible.sample(n=1)"
   ]
  }
 ],
 "metadata": {
  "kernelspec": {
   "display_name": ".venv",
   "language": "python",
   "name": "python3"
  },
  "language_info": {
   "codemirror_mode": {
    "name": "ipython",
    "version": 3
   },
   "file_extension": ".py",
   "mimetype": "text/x-python",
   "name": "python",
   "nbconvert_exporter": "python",
   "pygments_lexer": "ipython3",
   "version": "3.12.9"
  }
 },
 "nbformat": 4,
 "nbformat_minor": 2
}

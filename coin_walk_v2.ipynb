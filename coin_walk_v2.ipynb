{
 "cells": [
  {
   "cell_type": "code",
   "execution_count": 25,
   "metadata": {},
   "outputs": [],
   "source": [
    "from itertools import combinations, cycle, repeat\n",
    "import polars as pl\n"
   ]
  },
  {
   "cell_type": "code",
   "execution_count": 26,
   "metadata": {},
   "outputs": [],
   "source": [
    "def generate_arrays(n, prefix=\"A\"):\n",
    "  arrays = []\n",
    "  \n",
    "  # Inicializamos arr1 con el prefijo dado\n",
    "  arr1 = [prefix] * (2 ** (n - 1))\n",
    "  arrays.append(arr1)\n",
    "  \n",
    "  for i in range(2, n + 1):\n",
    "    prev_arr = arrays[-1]\n",
    "    new_arr = []\n",
    "    step = 2 ** (n - i)\n",
    "    \n",
    "    for j in range(0, len(prev_arr), step * 2):\n",
    "      base = prev_arr[j]  # Tomamos el valor base\n",
    "      for _ in range(step):\n",
    "        new_arr.append(base + \"1\")\n",
    "      for _ in range(step):\n",
    "        new_arr.append(base + \"2\")\n",
    "    \n",
    "    arrays.append(new_arr)\n",
    "  \n",
    "  return arrays\n",
    "\n",
    "def merge_arrays(n):\n",
    "  arrays_A = generate_arrays(n, \"A\")\n",
    "  arrays_B = generate_arrays(n, \"B\")\n",
    "  \n",
    "  merged_arrays = []\n",
    "  for arr_A, arr_B in zip(arrays_A, arrays_B):\n",
    "    merged_arrays.append([val for pair in zip(arr_A, arr_B) for val in pair])\n",
    "  \n",
    "  return merged_arrays\n",
    "\n",
    "# Ejemplo de uso\n",
    "\n",
    "\n",
    "\n",
    "def generate_clusters ():\n",
    "  n = 10\n",
    "  arrays = merge_arrays(n)\n",
    "\n",
    "  cluster_1: cycle = cycle(arrays[0])\n",
    "  cluster_2: cycle = cycle(arrays[1])\n",
    "  cluster_3: cycle = cycle(arrays[2])\n",
    "  cluster_4: cycle = cycle(arrays[3])\n",
    "  cluster_5: cycle = cycle(arrays[4])\n",
    "  cluster_6: cycle = cycle(arrays[5])\n",
    "  cluster_7: cycle = cycle(arrays[6])\n",
    "  cluster_8: cycle = cycle(arrays[7])\n",
    "  cluster_9: cycle = cycle(arrays[8])\n",
    "  cluster_10: cycle = cycle(arrays[9])\n",
    "\n",
    "  return \\\n",
    "    cluster_1, cluster_2, cluster_3, cluster_4, \\\n",
    "    cluster_5, cluster_6, cluster_7, cluster_8, cluster_9, cluster_10\n"
   ]
  },
  {
   "cell_type": "code",
   "execution_count": 27,
   "metadata": {},
   "outputs": [],
   "source": [
    "def generate_cluster_db (count_bolillas: int, max_value: int, parquet_file: str):\n",
    "  cluster_1, cluster_2, cluster_3, cluster_4, \\\n",
    "  cluster_5, cluster_6, cluster_7, cluster_8, cluster_9, cluster_10 = generate_clusters()\n",
    "  bolillas = range(1, max_value + 1)\n",
    "  # bolillas = range(1, 8) \n",
    "  combos = combinations(bolillas, count_bolillas)\n",
    "\n",
    "  data = []\n",
    "  for combo in combos:\n",
    "    row = {\n",
    "      'cluster_1': next(cluster_1),\n",
    "      'cluster_2': next(cluster_2),\n",
    "      'cluster_3': next(cluster_3),\n",
    "      'cluster_4': next(cluster_4),\n",
    "      'cluster_5': next(cluster_5),\n",
    "      'cluster_6': next(cluster_6),\n",
    "      'cluster_7': next(cluster_7),\n",
    "      'cluster_8': next(cluster_8),\n",
    "      'cluster_9': next(cluster_9),\n",
    "      'cluster_10': next(cluster_10),\n",
    "      'bolillasid': \"\".join([str(c).zfill(2) for c in combo])\n",
    "    }\n",
    "    data.append(row)\n",
    "\n",
    "  dfRows = pl.DataFrame(\n",
    "    data,\n",
    "    schema=[\n",
    "      'cluster_1', 'cluster_2', 'cluster_3',\n",
    "      'cluster_4', 'cluster_5', 'cluster_6', 'cluster_7',\n",
    "      'cluster_8', 'cluster_9', 'cluster_10',\n",
    "      'bolillasid'\n",
    "    ],\n",
    "    orient='row'\n",
    "  )\n",
    "\n",
    "  dfRows.write_parquet(parquet_file)\n",
    "    "
   ]
  },
  {
   "cell_type": "code",
   "execution_count": 28,
   "metadata": {},
   "outputs": [
    {
     "name": "stdout",
     "output_type": "stream",
     "text": [
      "generating kbl ...\n",
      "generating gn ...\n",
      "generating tnk ...\n",
      "rdy\n"
     ]
    }
   ],
   "source": [
    "print(\"generating kbl ...\")\n",
    "generate_cluster_db(count_bolillas=6, max_value=40, parquet_file=\"./coin_walk_db_kbl.parquet\")\n",
    "\n",
    "print(\"generating gn ...\")\n",
    "generate_cluster_db(count_bolillas=5, max_value=35, parquet_file=\"./coin_walk_db_gn.parquet\")\n",
    "\n",
    "print(\"generating tnk ...\")\n",
    "generate_cluster_db(count_bolillas=6, max_value=50, parquet_file=\"./coin_walk_db_tnk.parquet\")\n",
    "\n",
    "print(\"rdy\")"
   ]
  },
  {
   "cell_type": "code",
   "execution_count": 29,
   "metadata": {},
   "outputs": [
    {
     "name": "stdout",
     "output_type": "stream",
     "text": [
      "arr1 = ['A', 'A', 'A', 'A', 'A', 'A', 'A', 'A', 'A', 'A', 'A', 'A', 'A', 'A', 'A', 'A', 'A', 'A', 'A', 'A', 'A', 'A', 'A', 'A', 'A', 'A', 'A', 'A', 'A', 'A', 'A', 'A']\n",
      "arr2 = ['A1', 'A1', 'A1', 'A1', 'A1', 'A1', 'A1', 'A1', 'A1', 'A1', 'A1', 'A1', 'A1', 'A1', 'A1', 'A1', 'A2', 'A2', 'A2', 'A2', 'A2', 'A2', 'A2', 'A2', 'A2', 'A2', 'A2', 'A2', 'A2', 'A2', 'A2', 'A2']\n",
      "arr3 = ['A11', 'A11', 'A11', 'A11', 'A11', 'A11', 'A11', 'A11', 'A11', 'A11', 'A11', 'A11', 'A11', 'A11', 'A11', 'A11', 'A22', 'A22', 'A22', 'A22', 'A22', 'A22', 'A22', 'A22', 'A22', 'A22', 'A22', 'A22', 'A22', 'A22', 'A22', 'A22']\n",
      "arr4 = ['A111', 'A111', 'A111', 'A111', 'A111', 'A111', 'A111', 'A111', 'A111', 'A111', 'A111', 'A111', 'A111', 'A111', 'A111', 'A111', 'A222', 'A222', 'A222', 'A222', 'A222', 'A222', 'A222', 'A222', 'A222', 'A222', 'A222', 'A222', 'A222', 'A222', 'A222', 'A222']\n",
      "arr5 = ['A1111', 'A1111', 'A1111', 'A1111', 'A1111', 'A1111', 'A1111', 'A1111', 'A1111', 'A1111', 'A1111', 'A1111', 'A1111', 'A1111', 'A1111', 'A1111', 'A2222', 'A2222', 'A2222', 'A2222', 'A2222', 'A2222', 'A2222', 'A2222', 'A2222', 'A2222', 'A2222', 'A2222', 'A2222', 'A2222', 'A2222', 'A2222']\n",
      "arr6 = ['A11111', 'A11111', 'A11111', 'A11111', 'A11111', 'A11111', 'A11111', 'A11111', 'A11111', 'A11111', 'A11111', 'A11111', 'A11111', 'A11111', 'A11111', 'A11111', 'A22222', 'A22222', 'A22222', 'A22222', 'A22222', 'A22222', 'A22222', 'A22222', 'A22222', 'A22222', 'A22222', 'A22222', 'A22222', 'A22222', 'A22222', 'A22222']\n"
     ]
    }
   ],
   "source": [
    "def generate_arrays(n):\n",
    "  if n < 1:\n",
    "    return {}\n",
    "\n",
    "  # Generamos arrN con la cantidad correcta de elementos\n",
    "  num_elements = 2 ** (n - 1)  # Cantidad de elementos en el último array\n",
    "  arrays = {1: [\"A\"] * num_elements}  # arr1 con todos los elementos iguales\n",
    "\n",
    "  # Generamos los siguientes arrays basados en el anterior\n",
    "  for i in range(2, n + 1):\n",
    "    arrays[i] = [x + \"1\" for x in arrays[i - 1][: num_elements // 2]] + \\\n",
    "                [x + \"2\" for x in arrays[i - 1][num_elements // 2:]]\n",
    "\n",
    "  return arrays\n",
    "\n",
    "# Ejemplo: Generar hasta arr6\n",
    "n = 6\n",
    "arrays = generate_arrays(n)\n",
    "\n",
    "# Imprimir resultados\n",
    "for i in range(1, n + 1):\n",
    "    print(f\"arr{i} =\", arrays[i])"
   ]
  },
  {
   "cell_type": "code",
   "execution_count": 30,
   "metadata": {},
   "outputs": [
    {
     "name": "stdout",
     "output_type": "stream",
     "text": [
      "arr1 =\tA\tA\tA\tA\tA\tA\tA\tA\tA\tA\tA\tA\tA\tA\tA\tA\tA\tA\tA\tA\tA\tA\tA\tA\tA\tA\tA\tA\tA\tA\tA\tA\n",
      "arr2 =\tA1\tA1\tA1\tA1\tA1\tA1\tA1\tA1\tA1\tA1\tA1\tA1\tA1\tA1\tA1\tA1\tA2\tA2\tA2\tA2\tA2\tA2\tA2\tA2\tA2\tA2\tA2\tA2\tA2\tA2\tA2\tA2\n",
      "arr3 =\tA11\tA11\tA11\tA11\tA11\tA11\tA11\tA11\tA12\tA12\tA12\tA12\tA12\tA12\tA12\tA12\tA21\tA21\tA21\tA21\tA21\tA21\tA21\tA21\tA22\tA22\tA22\tA22\tA22\tA22\tA22\tA22\n",
      "arr4 =\tA111\tA111\tA111\tA111\tA112\tA112\tA112\tA112\tA121\tA121\tA121\tA121\tA122\tA122\tA122\tA122\tA211\tA211\tA211\tA211\tA212\tA212\tA212\tA212\tA221\tA221\tA221\tA221\tA222\tA222\tA222\tA222\n",
      "arr5 =\tA1111\tA1111\tA1112\tA1112\tA1121\tA1121\tA1122\tA1122\tA1211\tA1211\tA1212\tA1212\tA1221\tA1221\tA1222\tA1222\tA2111\tA2111\tA2112\tA2112\tA2121\tA2121\tA2122\tA2122\tA2211\tA2211\tA2212\tA2212\tA2221\tA2221\tA2222\tA2222\n",
      "arr6 =\tA11111\tA11112\tA11121\tA11122\tA11211\tA11212\tA11221\tA11222\tA12111\tA12112\tA12121\tA12122\tA12211\tA12212\tA12221\tA12222\tA21111\tA21112\tA21121\tA21122\tA21211\tA21212\tA21221\tA21222\tA22111\tA22112\tA22121\tA22122\tA22211\tA22212\tA22221\tA22222\n"
     ]
    }
   ],
   "source": [
    "def generate_arrays(n):\n",
    "    arrays = []\n",
    "    \n",
    "    # Inicializamos arr1 con solo \"A\"\n",
    "    arr1 = [\"A\"] * (2 ** (n - 1))\n",
    "    arrays.append(arr1)\n",
    "    \n",
    "    for i in range(2, n + 1):\n",
    "        prev_arr = arrays[-1]\n",
    "        new_arr = []\n",
    "        step = 2 ** (n - i)\n",
    "        \n",
    "        for j in range(0, len(prev_arr), step * 2):\n",
    "            prefix = prev_arr[j]  # Tomamos el valor base\n",
    "            for _ in range(step):\n",
    "                new_arr.append(prefix + \"1\")\n",
    "            for _ in range(step):\n",
    "                new_arr.append(prefix + \"2\")\n",
    "        \n",
    "        arrays.append(new_arr)\n",
    "    \n",
    "    return arrays\n",
    "\n",
    "# Ejemplo de uso\n",
    "n = 6\n",
    "arrays = generate_arrays(n)\n",
    "for i, arr in enumerate(arrays):\n",
    "    print(f\"arr{i+1} =\\t\" + \"\\t\".join(arr))\n"
   ]
  },
  {
   "cell_type": "code",
   "execution_count": 31,
   "metadata": {},
   "outputs": [
    {
     "name": "stdout",
     "output_type": "stream",
     "text": [
      "arr1 =\tA\tB\tA\tB\tA\tB\tA\tB\tA\tB\tA\tB\tA\tB\tA\tB\tA\tB\tA\tB\tA\tB\tA\tB\tA\tB\tA\tB\tA\tB\tA\tB\tA\tB\tA\tB\tA\tB\tA\tB\tA\tB\tA\tB\tA\tB\tA\tB\tA\tB\tA\tB\tA\tB\tA\tB\tA\tB\tA\tB\tA\tB\tA\tB\tA\tB\tA\tB\tA\tB\tA\tB\tA\tB\tA\tB\tA\tB\tA\tB\tA\tB\tA\tB\tA\tB\tA\tB\tA\tB\tA\tB\tA\tB\tA\tB\tA\tB\tA\tB\tA\tB\tA\tB\tA\tB\tA\tB\tA\tB\tA\tB\tA\tB\tA\tB\tA\tB\tA\tB\tA\tB\tA\tB\tA\tB\tA\tB\n",
      "arr2 =\tA1\tB1\tA1\tB1\tA1\tB1\tA1\tB1\tA1\tB1\tA1\tB1\tA1\tB1\tA1\tB1\tA1\tB1\tA1\tB1\tA1\tB1\tA1\tB1\tA1\tB1\tA1\tB1\tA1\tB1\tA1\tB1\tA1\tB1\tA1\tB1\tA1\tB1\tA1\tB1\tA1\tB1\tA1\tB1\tA1\tB1\tA1\tB1\tA1\tB1\tA1\tB1\tA1\tB1\tA1\tB1\tA1\tB1\tA1\tB1\tA1\tB1\tA1\tB1\tA2\tB2\tA2\tB2\tA2\tB2\tA2\tB2\tA2\tB2\tA2\tB2\tA2\tB2\tA2\tB2\tA2\tB2\tA2\tB2\tA2\tB2\tA2\tB2\tA2\tB2\tA2\tB2\tA2\tB2\tA2\tB2\tA2\tB2\tA2\tB2\tA2\tB2\tA2\tB2\tA2\tB2\tA2\tB2\tA2\tB2\tA2\tB2\tA2\tB2\tA2\tB2\tA2\tB2\tA2\tB2\tA2\tB2\tA2\tB2\tA2\tB2\tA2\tB2\n",
      "arr3 =\tA11\tB11\tA11\tB11\tA11\tB11\tA11\tB11\tA11\tB11\tA11\tB11\tA11\tB11\tA11\tB11\tA11\tB11\tA11\tB11\tA11\tB11\tA11\tB11\tA11\tB11\tA11\tB11\tA11\tB11\tA11\tB11\tA12\tB12\tA12\tB12\tA12\tB12\tA12\tB12\tA12\tB12\tA12\tB12\tA12\tB12\tA12\tB12\tA12\tB12\tA12\tB12\tA12\tB12\tA12\tB12\tA12\tB12\tA12\tB12\tA12\tB12\tA12\tB12\tA21\tB21\tA21\tB21\tA21\tB21\tA21\tB21\tA21\tB21\tA21\tB21\tA21\tB21\tA21\tB21\tA21\tB21\tA21\tB21\tA21\tB21\tA21\tB21\tA21\tB21\tA21\tB21\tA21\tB21\tA21\tB21\tA22\tB22\tA22\tB22\tA22\tB22\tA22\tB22\tA22\tB22\tA22\tB22\tA22\tB22\tA22\tB22\tA22\tB22\tA22\tB22\tA22\tB22\tA22\tB22\tA22\tB22\tA22\tB22\tA22\tB22\tA22\tB22\n",
      "arr4 =\tA111\tB111\tA111\tB111\tA111\tB111\tA111\tB111\tA111\tB111\tA111\tB111\tA111\tB111\tA111\tB111\tA112\tB112\tA112\tB112\tA112\tB112\tA112\tB112\tA112\tB112\tA112\tB112\tA112\tB112\tA112\tB112\tA121\tB121\tA121\tB121\tA121\tB121\tA121\tB121\tA121\tB121\tA121\tB121\tA121\tB121\tA121\tB121\tA122\tB122\tA122\tB122\tA122\tB122\tA122\tB122\tA122\tB122\tA122\tB122\tA122\tB122\tA122\tB122\tA211\tB211\tA211\tB211\tA211\tB211\tA211\tB211\tA211\tB211\tA211\tB211\tA211\tB211\tA211\tB211\tA212\tB212\tA212\tB212\tA212\tB212\tA212\tB212\tA212\tB212\tA212\tB212\tA212\tB212\tA212\tB212\tA221\tB221\tA221\tB221\tA221\tB221\tA221\tB221\tA221\tB221\tA221\tB221\tA221\tB221\tA221\tB221\tA222\tB222\tA222\tB222\tA222\tB222\tA222\tB222\tA222\tB222\tA222\tB222\tA222\tB222\tA222\tB222\n",
      "arr5 =\tA1111\tB1111\tA1111\tB1111\tA1111\tB1111\tA1111\tB1111\tA1112\tB1112\tA1112\tB1112\tA1112\tB1112\tA1112\tB1112\tA1121\tB1121\tA1121\tB1121\tA1121\tB1121\tA1121\tB1121\tA1122\tB1122\tA1122\tB1122\tA1122\tB1122\tA1122\tB1122\tA1211\tB1211\tA1211\tB1211\tA1211\tB1211\tA1211\tB1211\tA1212\tB1212\tA1212\tB1212\tA1212\tB1212\tA1212\tB1212\tA1221\tB1221\tA1221\tB1221\tA1221\tB1221\tA1221\tB1221\tA1222\tB1222\tA1222\tB1222\tA1222\tB1222\tA1222\tB1222\tA2111\tB2111\tA2111\tB2111\tA2111\tB2111\tA2111\tB2111\tA2112\tB2112\tA2112\tB2112\tA2112\tB2112\tA2112\tB2112\tA2121\tB2121\tA2121\tB2121\tA2121\tB2121\tA2121\tB2121\tA2122\tB2122\tA2122\tB2122\tA2122\tB2122\tA2122\tB2122\tA2211\tB2211\tA2211\tB2211\tA2211\tB2211\tA2211\tB2211\tA2212\tB2212\tA2212\tB2212\tA2212\tB2212\tA2212\tB2212\tA2221\tB2221\tA2221\tB2221\tA2221\tB2221\tA2221\tB2221\tA2222\tB2222\tA2222\tB2222\tA2222\tB2222\tA2222\tB2222\n",
      "arr6 =\tA11111\tB11111\tA11111\tB11111\tA11112\tB11112\tA11112\tB11112\tA11121\tB11121\tA11121\tB11121\tA11122\tB11122\tA11122\tB11122\tA11211\tB11211\tA11211\tB11211\tA11212\tB11212\tA11212\tB11212\tA11221\tB11221\tA11221\tB11221\tA11222\tB11222\tA11222\tB11222\tA12111\tB12111\tA12111\tB12111\tA12112\tB12112\tA12112\tB12112\tA12121\tB12121\tA12121\tB12121\tA12122\tB12122\tA12122\tB12122\tA12211\tB12211\tA12211\tB12211\tA12212\tB12212\tA12212\tB12212\tA12221\tB12221\tA12221\tB12221\tA12222\tB12222\tA12222\tB12222\tA21111\tB21111\tA21111\tB21111\tA21112\tB21112\tA21112\tB21112\tA21121\tB21121\tA21121\tB21121\tA21122\tB21122\tA21122\tB21122\tA21211\tB21211\tA21211\tB21211\tA21212\tB21212\tA21212\tB21212\tA21221\tB21221\tA21221\tB21221\tA21222\tB21222\tA21222\tB21222\tA22111\tB22111\tA22111\tB22111\tA22112\tB22112\tA22112\tB22112\tA22121\tB22121\tA22121\tB22121\tA22122\tB22122\tA22122\tB22122\tA22211\tB22211\tA22211\tB22211\tA22212\tB22212\tA22212\tB22212\tA22221\tB22221\tA22221\tB22221\tA22222\tB22222\tA22222\tB22222\n",
      "arr7 =\tA111111\tB111111\tA111112\tB111112\tA111121\tB111121\tA111122\tB111122\tA111211\tB111211\tA111212\tB111212\tA111221\tB111221\tA111222\tB111222\tA112111\tB112111\tA112112\tB112112\tA112121\tB112121\tA112122\tB112122\tA112211\tB112211\tA112212\tB112212\tA112221\tB112221\tA112222\tB112222\tA121111\tB121111\tA121112\tB121112\tA121121\tB121121\tA121122\tB121122\tA121211\tB121211\tA121212\tB121212\tA121221\tB121221\tA121222\tB121222\tA122111\tB122111\tA122112\tB122112\tA122121\tB122121\tA122122\tB122122\tA122211\tB122211\tA122212\tB122212\tA122221\tB122221\tA122222\tB122222\tA211111\tB211111\tA211112\tB211112\tA211121\tB211121\tA211122\tB211122\tA211211\tB211211\tA211212\tB211212\tA211221\tB211221\tA211222\tB211222\tA212111\tB212111\tA212112\tB212112\tA212121\tB212121\tA212122\tB212122\tA212211\tB212211\tA212212\tB212212\tA212221\tB212221\tA212222\tB212222\tA221111\tB221111\tA221112\tB221112\tA221121\tB221121\tA221122\tB221122\tA221211\tB221211\tA221212\tB221212\tA221221\tB221221\tA221222\tB221222\tA222111\tB222111\tA222112\tB222112\tA222121\tB222121\tA222122\tB222122\tA222211\tB222211\tA222212\tB222212\tA222221\tB222221\tA222222\tB222222\n",
      "128\n"
     ]
    }
   ],
   "source": [
    "def generate_arrays(n, prefix=\"A\"):\n",
    "  arrays = []\n",
    "  \n",
    "  # Inicializamos arr1 con el prefijo dado\n",
    "  arr1 = [prefix] * (2 ** (n - 1))\n",
    "  arrays.append(arr1)\n",
    "  \n",
    "  for i in range(2, n + 1):\n",
    "    prev_arr = arrays[-1]\n",
    "    new_arr = []\n",
    "    step = 2 ** (n - i)\n",
    "    \n",
    "    for j in range(0, len(prev_arr), step * 2):\n",
    "      base = prev_arr[j]  # Tomamos el valor base\n",
    "      for _ in range(step):\n",
    "        new_arr.append(base + \"1\")\n",
    "      for _ in range(step):\n",
    "        new_arr.append(base + \"2\")\n",
    "    \n",
    "    arrays.append(new_arr)\n",
    "  \n",
    "  return arrays\n",
    "\n",
    "def merge_arrays(n):\n",
    "  arrays_A = generate_arrays(n, \"A\")\n",
    "  arrays_B = generate_arrays(n, \"B\")\n",
    "  \n",
    "  merged_arrays = []\n",
    "  for arr_A, arr_B in zip(arrays_A, arrays_B):\n",
    "    merged_arrays.append([val for pair in zip(arr_A, arr_B) for val in pair])\n",
    "  \n",
    "  return merged_arrays\n",
    "\n",
    "# Ejemplo de uso\n",
    "n = 7\n",
    "arrays = merge_arrays(n)\n",
    "for i, arr in enumerate(arrays):\n",
    "    print(f\"arr{i+1} =\\t\" + \"\\t\".join(arr))\n",
    "\n",
    "print(len(arrays[6]))"
   ]
  }
 ],
 "metadata": {
  "kernelspec": {
   "display_name": ".venv",
   "language": "python",
   "name": "python3"
  },
  "language_info": {
   "codemirror_mode": {
    "name": "ipython",
    "version": 3
   },
   "file_extension": ".py",
   "mimetype": "text/x-python",
   "name": "python",
   "nbconvert_exporter": "python",
   "pygments_lexer": "ipython3",
   "version": "3.12.9"
  }
 },
 "nbformat": 4,
 "nbformat_minor": 2
}

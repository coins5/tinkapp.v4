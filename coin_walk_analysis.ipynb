{
 "cells": [
  {
   "cell_type": "code",
   "execution_count": 62,
   "metadata": {},
   "outputs": [],
   "source": [
    "from bs4 import BeautifulSoup\n",
    "import json\n",
    "import requests\n",
    "import polars as pl\n",
    "from shared.utils import formalize_data\n",
    "import datetime"
   ]
  },
  {
   "cell_type": "code",
   "execution_count": 63,
   "metadata": {},
   "outputs": [
    {
     "name": "stdout",
     "output_type": "stream",
     "text": [
      "len(df_cw_gn)=324632 | cluster_size=317.0234375\n",
      "len(df_cw_kbl)=3838380 | cluster_size=3748.41796875\n",
      "len(df_cw_tnk)=15890700 | cluster_size=15518.26171875\n"
     ]
    }
   ],
   "source": [
    "df_cw_gn = pl.read_parquet(\"./coin_walk_db_gn.parquet\")\n",
    "df_cw_kbl = pl.read_parquet(\"./coin_walk_db_kbl.parquet\")\n",
    "df_cw_tnk = pl.read_parquet(\"./coin_walk_db_tnk.parquet\")\n",
    "\n",
    "print(f'{len(df_cw_gn)=} | cluster_size={len(df_cw_gn)/1024}')\n",
    "print(f'{len(df_cw_kbl)=} | cluster_size={len(df_cw_kbl)/1024}')\n",
    "print(f'{len(df_cw_tnk)=} | cluster_size={len(df_cw_tnk)/1024}')"
   ]
  },
  {
   "cell_type": "code",
   "execution_count": 64,
   "metadata": {},
   "outputs": [
    {
     "data": {
      "text/html": [
       "<div><style>\n",
       ".dataframe > thead > tr,\n",
       ".dataframe > tbody > tr {\n",
       "  text-align: right;\n",
       "  white-space: pre-wrap;\n",
       "}\n",
       "</style>\n",
       "<small>shape: (1, 11)</small><table border=\"1\" class=\"dataframe\"><thead><tr><th>cluster_1</th><th>cluster_2</th><th>cluster_3</th><th>cluster_4</th><th>cluster_5</th><th>cluster_6</th><th>cluster_7</th><th>cluster_8</th><th>cluster_9</th><th>cluster_10</th><th>bolillasid</th></tr><tr><td>str</td><td>str</td><td>str</td><td>str</td><td>str</td><td>str</td><td>str</td><td>str</td><td>str</td><td>str</td><td>str</td></tr></thead><tbody><tr><td>&quot;A&quot;</td><td>&quot;A1&quot;</td><td>&quot;A11&quot;</td><td>&quot;A111&quot;</td><td>&quot;A1111&quot;</td><td>&quot;A11111&quot;</td><td>&quot;A111111&quot;</td><td>&quot;A1111111&quot;</td><td>&quot;A11111111&quot;</td><td>&quot;A111111111&quot;</td><td>&quot;0102030405&quot;</td></tr></tbody></table></div>"
      ],
      "text/plain": [
       "shape: (1, 11)\n",
       "┌───────────┬───────────┬───────────┬───────────┬───┬───────────┬───────────┬───────────┬──────────┐\n",
       "│ cluster_1 ┆ cluster_2 ┆ cluster_3 ┆ cluster_4 ┆ … ┆ cluster_8 ┆ cluster_9 ┆ cluster_1 ┆ bolillas │\n",
       "│ ---       ┆ ---       ┆ ---       ┆ ---       ┆   ┆ ---       ┆ ---       ┆ 0         ┆ id       │\n",
       "│ str       ┆ str       ┆ str       ┆ str       ┆   ┆ str       ┆ str       ┆ ---       ┆ ---      │\n",
       "│           ┆           ┆           ┆           ┆   ┆           ┆           ┆ str       ┆ str      │\n",
       "╞═══════════╪═══════════╪═══════════╪═══════════╪═══╪═══════════╪═══════════╪═══════════╪══════════╡\n",
       "│ A         ┆ A1        ┆ A11       ┆ A111      ┆ … ┆ A1111111  ┆ A11111111 ┆ A11111111 ┆ 01020304 │\n",
       "│           ┆           ┆           ┆           ┆   ┆           ┆           ┆ 1         ┆ 05       │\n",
       "└───────────┴───────────┴───────────┴───────────┴───┴───────────┴───────────┴───────────┴──────────┘"
      ]
     },
     "execution_count": 64,
     "metadata": {},
     "output_type": "execute_result"
    }
   ],
   "source": [
    "df_cw_gn[0]\n"
   ]
  },
  {
   "cell_type": "code",
   "execution_count": 65,
   "metadata": {},
   "outputs": [],
   "source": [
    "\n",
    "url = 'https://resultados.latinka.com.pe/i.do?m=historico&t=0&s=164'\n",
    "response = requests.get(url)\n",
    "soup = BeautifulSoup(response.text, 'html.parser')\n",
    "\n",
    "tables = soup.select('table')\n",
    "rows = tables[1].find_all('tr')\n",
    "\n"
   ]
  },
  {
   "cell_type": "code",
   "execution_count": 66,
   "metadata": {},
   "outputs": [
    {
     "name": "stdout",
     "output_type": "stream",
     "text": [
      "TOTAL_LINES=7709\n"
     ]
    },
    {
     "data": {
      "text/html": [
       "<div><style>\n",
       ".dataframe > thead > tr,\n",
       ".dataframe > tbody > tr {\n",
       "  text-align: right;\n",
       "  white-space: pre-wrap;\n",
       "}\n",
       "</style>\n",
       "<small>shape: (10, 4)</small><table border=\"1\" class=\"dataframe\"><thead><tr><th>fecha</th><th>sorteo</th><th>bolillas</th><th>bolillasid</th></tr><tr><td>str</td><td>str</td><td>str</td><td>str</td></tr></thead><tbody><tr><td>&quot;2025-03-24&quot;</td><td>&quot;4165&quot;</td><td>&quot;32 29 27 21 06&quot;</td><td>&quot;0621272932&quot;</td></tr><tr><td>&quot;2025-03-23&quot;</td><td>&quot;4164&quot;</td><td>&quot;13 10 04 15 08&quot;</td><td>&quot;0408101315&quot;</td></tr><tr><td>&quot;2025-03-22&quot;</td><td>&quot;4163&quot;</td><td>&quot;19 32 17 10 22&quot;</td><td>&quot;1017192232&quot;</td></tr><tr><td>&quot;2025-03-21&quot;</td><td>&quot;4162&quot;</td><td>&quot;32 33 01 17 26&quot;</td><td>&quot;0117263233&quot;</td></tr><tr><td>&quot;2025-03-20&quot;</td><td>&quot;4161&quot;</td><td>&quot;32 24 17 12 27&quot;</td><td>&quot;1217242732&quot;</td></tr><tr><td>&quot;2025-03-19&quot;</td><td>&quot;4160&quot;</td><td>&quot;01 13 07 22 14&quot;</td><td>&quot;0107131422&quot;</td></tr><tr><td>&quot;2025-03-18&quot;</td><td>&quot;4159&quot;</td><td>&quot;07 34 16 12 21&quot;</td><td>&quot;0712162134&quot;</td></tr><tr><td>&quot;2025-03-17&quot;</td><td>&quot;4158&quot;</td><td>&quot;20 30 04 08 24&quot;</td><td>&quot;0408202430&quot;</td></tr><tr><td>&quot;2025-03-16&quot;</td><td>&quot;4157&quot;</td><td>&quot;26 10 21 16 30&quot;</td><td>&quot;1016212630&quot;</td></tr><tr><td>&quot;2025-03-15&quot;</td><td>&quot;4156&quot;</td><td>&quot;16 15 05 27 02&quot;</td><td>&quot;0205151627&quot;</td></tr></tbody></table></div>"
      ],
      "text/plain": [
       "shape: (10, 4)\n",
       "┌────────────┬────────┬────────────────┬────────────┐\n",
       "│ fecha      ┆ sorteo ┆ bolillas       ┆ bolillasid │\n",
       "│ ---        ┆ ---    ┆ ---            ┆ ---        │\n",
       "│ str        ┆ str    ┆ str            ┆ str        │\n",
       "╞════════════╪════════╪════════════════╪════════════╡\n",
       "│ 2025-03-24 ┆ 4165   ┆ 32 29 27 21 06 ┆ 0621272932 │\n",
       "│ 2025-03-23 ┆ 4164   ┆ 13 10 04 15 08 ┆ 0408101315 │\n",
       "│ 2025-03-22 ┆ 4163   ┆ 19 32 17 10 22 ┆ 1017192232 │\n",
       "│ 2025-03-21 ┆ 4162   ┆ 32 33 01 17 26 ┆ 0117263233 │\n",
       "│ 2025-03-20 ┆ 4161   ┆ 32 24 17 12 27 ┆ 1217242732 │\n",
       "│ 2025-03-19 ┆ 4160   ┆ 01 13 07 22 14 ┆ 0107131422 │\n",
       "│ 2025-03-18 ┆ 4159   ┆ 07 34 16 12 21 ┆ 0712162134 │\n",
       "│ 2025-03-17 ┆ 4158   ┆ 20 30 04 08 24 ┆ 0408202430 │\n",
       "│ 2025-03-16 ┆ 4157   ┆ 26 10 21 16 30 ┆ 1016212630 │\n",
       "│ 2025-03-15 ┆ 4156   ┆ 16 15 05 27 02 ┆ 0205151627 │\n",
       "└────────────┴────────┴────────────────┴────────────┘"
      ]
     },
     "metadata": {},
     "output_type": "display_data"
    }
   ],
   "source": [
    "lst = []\n",
    "for row in rows:\n",
    "  cols = [data.text.strip() for data in row.find_all('td')]\n",
    "  cols[0] = (datetime.datetime.strptime(cols[0], \"%d/%m/%Y\").strftime(\"%Y-%m-%d\"))\n",
    "  id, bolillas_int = formalize_data(bolillas_str=cols[2])\n",
    "  cols.append(id)\n",
    "  \n",
    "  lst.append(cols)\n",
    "\n",
    "df_gn = pl.DataFrame(\n",
    "  lst,\n",
    "  schema=[\n",
    "    'fecha', 'sorteo', 'bolillas',\n",
    "    'bolillasid'\n",
    "  ],\n",
    "  orient='row'\n",
    ")\n",
    "\n",
    "TOTAL_LINES = len(df_gn)\n",
    "print(f'{TOTAL_LINES=}')\n",
    "display(df_gn.head(10))"
   ]
  },
  {
   "cell_type": "code",
   "execution_count": 67,
   "metadata": {},
   "outputs": [],
   "source": [
    "\n",
    "df_clustered = df_gn.join(df_cw_gn, on=\"bolillasid\")"
   ]
  },
  {
   "cell_type": "code",
   "execution_count": 68,
   "metadata": {},
   "outputs": [
    {
     "data": {
      "text/html": [
       "<div><style>\n",
       ".dataframe > thead > tr,\n",
       ".dataframe > tbody > tr {\n",
       "  text-align: right;\n",
       "  white-space: pre-wrap;\n",
       "}\n",
       "</style>\n",
       "<small>shape: (10, 14)</small><table border=\"1\" class=\"dataframe\"><thead><tr><th>fecha</th><th>sorteo</th><th>bolillas</th><th>bolillasid</th><th>cluster_1</th><th>cluster_2</th><th>cluster_3</th><th>cluster_4</th><th>cluster_5</th><th>cluster_6</th><th>cluster_7</th><th>cluster_8</th><th>cluster_9</th><th>cluster_10</th></tr><tr><td>str</td><td>str</td><td>str</td><td>str</td><td>str</td><td>str</td><td>str</td><td>str</td><td>str</td><td>str</td><td>str</td><td>str</td><td>str</td><td>str</td></tr></thead><tbody><tr><td>&quot;2025-03-24&quot;</td><td>&quot;4165&quot;</td><td>&quot;32 29 27 21 06&quot;</td><td>&quot;0621272932&quot;</td><td>&quot;B&quot;</td><td>&quot;B1&quot;</td><td>&quot;B11&quot;</td><td>&quot;B111&quot;</td><td>&quot;B1111&quot;</td><td>&quot;B11111&quot;</td><td>&quot;B111111&quot;</td><td>&quot;B1111111&quot;</td><td>&quot;B11111111&quot;</td><td>&quot;B111111111&quot;</td></tr><tr><td>&quot;2025-03-23&quot;</td><td>&quot;4164&quot;</td><td>&quot;13 10 04 15 08&quot;</td><td>&quot;0408101315&quot;</td><td>&quot;B&quot;</td><td>&quot;B1&quot;</td><td>&quot;B12&quot;</td><td>&quot;B122&quot;</td><td>&quot;B1222&quot;</td><td>&quot;B12221&quot;</td><td>&quot;B122212&quot;</td><td>&quot;B1222122&quot;</td><td>&quot;B12221221&quot;</td><td>&quot;B122212212&quot;</td></tr><tr><td>&quot;2025-03-22&quot;</td><td>&quot;4163&quot;</td><td>&quot;19 32 17 10 22&quot;</td><td>&quot;1017192232&quot;</td><td>&quot;A&quot;</td><td>&quot;A2&quot;</td><td>&quot;A21&quot;</td><td>&quot;A211&quot;</td><td>&quot;A2111&quot;</td><td>&quot;A21111&quot;</td><td>&quot;A211112&quot;</td><td>&quot;A2111122&quot;</td><td>&quot;A21111221&quot;</td><td>&quot;A211112211&quot;</td></tr><tr><td>&quot;2025-03-21&quot;</td><td>&quot;4162&quot;</td><td>&quot;32 33 01 17 26&quot;</td><td>&quot;0117263233&quot;</td><td>&quot;A&quot;</td><td>&quot;A1&quot;</td><td>&quot;A11&quot;</td><td>&quot;A112&quot;</td><td>&quot;A1122&quot;</td><td>&quot;A11221&quot;</td><td>&quot;A112212&quot;</td><td>&quot;A1122122&quot;</td><td>&quot;A11221221&quot;</td><td>&quot;A112212212&quot;</td></tr><tr><td>&quot;2025-03-20&quot;</td><td>&quot;4161&quot;</td><td>&quot;32 24 17 12 27&quot;</td><td>&quot;1217242732&quot;</td><td>&quot;A&quot;</td><td>&quot;A2&quot;</td><td>&quot;A22&quot;</td><td>&quot;A222&quot;</td><td>&quot;A2222&quot;</td><td>&quot;A22222&quot;</td><td>&quot;A222221&quot;</td><td>&quot;A2222212&quot;</td><td>&quot;A22222122&quot;</td><td>&quot;A222221222&quot;</td></tr><tr><td>&quot;2025-03-19&quot;</td><td>&quot;4160&quot;</td><td>&quot;01 13 07 22 14&quot;</td><td>&quot;0107131422&quot;</td><td>&quot;B&quot;</td><td>&quot;B2&quot;</td><td>&quot;B21&quot;</td><td>&quot;B211&quot;</td><td>&quot;B2112&quot;</td><td>&quot;B21121&quot;</td><td>&quot;B211211&quot;</td><td>&quot;B2112112&quot;</td><td>&quot;B21121121&quot;</td><td>&quot;B211211211&quot;</td></tr><tr><td>&quot;2025-03-18&quot;</td><td>&quot;4159&quot;</td><td>&quot;07 34 16 12 21&quot;</td><td>&quot;0712162134&quot;</td><td>&quot;B&quot;</td><td>&quot;B1&quot;</td><td>&quot;B12&quot;</td><td>&quot;B121&quot;</td><td>&quot;B1212&quot;</td><td>&quot;B12122&quot;</td><td>&quot;B121222&quot;</td><td>&quot;B1212221&quot;</td><td>&quot;B12122211&quot;</td><td>&quot;B121222112&quot;</td></tr><tr><td>&quot;2025-03-17&quot;</td><td>&quot;4158&quot;</td><td>&quot;20 30 04 08 24&quot;</td><td>&quot;0408202430&quot;</td><td>&quot;B&quot;</td><td>&quot;B1&quot;</td><td>&quot;B12&quot;</td><td>&quot;B122&quot;</td><td>&quot;B1222&quot;</td><td>&quot;B12221&quot;</td><td>&quot;B122211&quot;</td><td>&quot;B1222112&quot;</td><td>&quot;B12221122&quot;</td><td>&quot;B122211222&quot;</td></tr><tr><td>&quot;2025-03-16&quot;</td><td>&quot;4157&quot;</td><td>&quot;26 10 21 16 30&quot;</td><td>&quot;1016212630&quot;</td><td>&quot;A&quot;</td><td>&quot;A2&quot;</td><td>&quot;A22&quot;</td><td>&quot;A222&quot;</td><td>&quot;A2222&quot;</td><td>&quot;A22221&quot;</td><td>&quot;A222212&quot;</td><td>&quot;A2222121&quot;</td><td>&quot;A22221212&quot;</td><td>&quot;A222212121&quot;</td></tr><tr><td>&quot;2025-03-15&quot;</td><td>&quot;4156&quot;</td><td>&quot;16 15 05 27 02&quot;</td><td>&quot;0205151627&quot;</td><td>&quot;B&quot;</td><td>&quot;B1&quot;</td><td>&quot;B11&quot;</td><td>&quot;B112&quot;</td><td>&quot;B1122&quot;</td><td>&quot;B11221&quot;</td><td>&quot;B112211&quot;</td><td>&quot;B1122112&quot;</td><td>&quot;B11221121&quot;</td><td>&quot;B112211212&quot;</td></tr></tbody></table></div>"
      ],
      "text/plain": [
       "shape: (10, 14)\n",
       "┌────────────┬────────┬────────────┬───────────┬───┬───────────┬───────────┬───────────┬───────────┐\n",
       "│ fecha      ┆ sorteo ┆ bolillas   ┆ bolillasi ┆ … ┆ cluster_7 ┆ cluster_8 ┆ cluster_9 ┆ cluster_1 │\n",
       "│ ---        ┆ ---    ┆ ---        ┆ d         ┆   ┆ ---       ┆ ---       ┆ ---       ┆ 0         │\n",
       "│ str        ┆ str    ┆ str        ┆ ---       ┆   ┆ str       ┆ str       ┆ str       ┆ ---       │\n",
       "│            ┆        ┆            ┆ str       ┆   ┆           ┆           ┆           ┆ str       │\n",
       "╞════════════╪════════╪════════════╪═══════════╪═══╪═══════════╪═══════════╪═══════════╪═══════════╡\n",
       "│ 2025-03-24 ┆ 4165   ┆ 32 29 27   ┆ 062127293 ┆ … ┆ B111111   ┆ B1111111  ┆ B11111111 ┆ B11111111 │\n",
       "│            ┆        ┆ 21 06      ┆ 2         ┆   ┆           ┆           ┆           ┆ 1         │\n",
       "│ 2025-03-23 ┆ 4164   ┆ 13 10 04   ┆ 040810131 ┆ … ┆ B122212   ┆ B1222122  ┆ B12221221 ┆ B12221221 │\n",
       "│            ┆        ┆ 15 08      ┆ 5         ┆   ┆           ┆           ┆           ┆ 2         │\n",
       "│ 2025-03-22 ┆ 4163   ┆ 19 32 17   ┆ 101719223 ┆ … ┆ A211112   ┆ A2111122  ┆ A21111221 ┆ A21111221 │\n",
       "│            ┆        ┆ 10 22      ┆ 2         ┆   ┆           ┆           ┆           ┆ 1         │\n",
       "│ 2025-03-21 ┆ 4162   ┆ 32 33 01   ┆ 011726323 ┆ … ┆ A112212   ┆ A1122122  ┆ A11221221 ┆ A11221221 │\n",
       "│            ┆        ┆ 17 26      ┆ 3         ┆   ┆           ┆           ┆           ┆ 2         │\n",
       "│ 2025-03-20 ┆ 4161   ┆ 32 24 17   ┆ 121724273 ┆ … ┆ A222221   ┆ A2222212  ┆ A22222122 ┆ A22222122 │\n",
       "│            ┆        ┆ 12 27      ┆ 2         ┆   ┆           ┆           ┆           ┆ 2         │\n",
       "│ 2025-03-19 ┆ 4160   ┆ 01 13 07   ┆ 010713142 ┆ … ┆ B211211   ┆ B2112112  ┆ B21121121 ┆ B21121121 │\n",
       "│            ┆        ┆ 22 14      ┆ 2         ┆   ┆           ┆           ┆           ┆ 1         │\n",
       "│ 2025-03-18 ┆ 4159   ┆ 07 34 16   ┆ 071216213 ┆ … ┆ B121222   ┆ B1212221  ┆ B12122211 ┆ B12122211 │\n",
       "│            ┆        ┆ 12 21      ┆ 4         ┆   ┆           ┆           ┆           ┆ 2         │\n",
       "│ 2025-03-17 ┆ 4158   ┆ 20 30 04   ┆ 040820243 ┆ … ┆ B122211   ┆ B1222112  ┆ B12221122 ┆ B12221122 │\n",
       "│            ┆        ┆ 08 24      ┆ 0         ┆   ┆           ┆           ┆           ┆ 2         │\n",
       "│ 2025-03-16 ┆ 4157   ┆ 26 10 21   ┆ 101621263 ┆ … ┆ A222212   ┆ A2222121  ┆ A22221212 ┆ A22221212 │\n",
       "│            ┆        ┆ 16 30      ┆ 0         ┆   ┆           ┆           ┆           ┆ 1         │\n",
       "│ 2025-03-15 ┆ 4156   ┆ 16 15 05   ┆ 020515162 ┆ … ┆ B112211   ┆ B1122112  ┆ B11221121 ┆ B11221121 │\n",
       "│            ┆        ┆ 27 02      ┆ 7         ┆   ┆           ┆           ┆           ┆ 2         │\n",
       "└────────────┴────────┴────────────┴───────────┴───┴───────────┴───────────┴───────────┴───────────┘"
      ]
     },
     "execution_count": 68,
     "metadata": {},
     "output_type": "execute_result"
    }
   ],
   "source": [
    "\n",
    "df_clustered = df_clustered.sort('fecha', descending=True)\n",
    "df_clustered.write_excel(\"./coin_walk_gn.xlsx\")\n",
    "df_clustered[0:10]"
   ]
  },
  {
   "cell_type": "code",
   "execution_count": 80,
   "metadata": {},
   "outputs": [],
   "source": [
    "def show_b_stats (col: str, df: pl.DataFrame):\n",
    "  df_viz = df.group_by(\n",
    "    col\n",
    "  ).agg(pl.count(col).alias('count')).sort('count', descending=True)\n",
    "\n",
    "  chart = df_viz.plot.bar(\n",
    "    x=col,\n",
    "    y='count',\n",
    "    color=col,\n",
    "  )\n",
    "\n",
    "  display(df_viz)\n",
    "  display(chart)\n",
    "\n",
    "  return df_viz"
   ]
  },
  {
   "cell_type": "code",
   "execution_count": 70,
   "metadata": {},
   "outputs": [
    {
     "data": {
      "text/html": [
       "<div><style>\n",
       ".dataframe > thead > tr,\n",
       ".dataframe > tbody > tr {\n",
       "  text-align: right;\n",
       "  white-space: pre-wrap;\n",
       "}\n",
       "</style>\n",
       "<small>shape: (2, 2)</small><table border=\"1\" class=\"dataframe\"><thead><tr><th>cluster_1</th><th>count</th></tr><tr><td>str</td><td>u32</td></tr></thead><tbody><tr><td>&quot;A&quot;</td><td>3871</td></tr><tr><td>&quot;B&quot;</td><td>3838</td></tr></tbody></table></div>"
      ],
      "text/plain": [
       "shape: (2, 2)\n",
       "┌───────────┬───────┐\n",
       "│ cluster_1 ┆ count │\n",
       "│ ---       ┆ ---   │\n",
       "│ str       ┆ u32   │\n",
       "╞═══════════╪═══════╡\n",
       "│ A         ┆ 3871  │\n",
       "│ B         ┆ 3838  │\n",
       "└───────────┴───────┘"
      ]
     },
     "metadata": {},
     "output_type": "display_data"
    },
    {
     "data": {
      "text/html": [
       "\n",
       "<style>\n",
       "  #altair-viz-3cd6f89d51dc4e08bb4b27d52f85a7a9.vega-embed {\n",
       "    width: 100%;\n",
       "    display: flex;\n",
       "  }\n",
       "\n",
       "  #altair-viz-3cd6f89d51dc4e08bb4b27d52f85a7a9.vega-embed details,\n",
       "  #altair-viz-3cd6f89d51dc4e08bb4b27d52f85a7a9.vega-embed details summary {\n",
       "    position: relative;\n",
       "  }\n",
       "</style>\n",
       "<div id=\"altair-viz-3cd6f89d51dc4e08bb4b27d52f85a7a9\"></div>\n",
       "<script type=\"text/javascript\">\n",
       "  var VEGA_DEBUG = (typeof VEGA_DEBUG == \"undefined\") ? {} : VEGA_DEBUG;\n",
       "  (function(spec, embedOpt){\n",
       "    let outputDiv = document.currentScript.previousElementSibling;\n",
       "    if (outputDiv.id !== \"altair-viz-3cd6f89d51dc4e08bb4b27d52f85a7a9\") {\n",
       "      outputDiv = document.getElementById(\"altair-viz-3cd6f89d51dc4e08bb4b27d52f85a7a9\");\n",
       "    }\n",
       "\n",
       "    const paths = {\n",
       "      \"vega\": \"https://cdn.jsdelivr.net/npm/vega@5?noext\",\n",
       "      \"vega-lib\": \"https://cdn.jsdelivr.net/npm/vega-lib?noext\",\n",
       "      \"vega-lite\": \"https://cdn.jsdelivr.net/npm/vega-lite@5.20.1?noext\",\n",
       "      \"vega-embed\": \"https://cdn.jsdelivr.net/npm/vega-embed@6?noext\",\n",
       "    };\n",
       "\n",
       "    function maybeLoadScript(lib, version) {\n",
       "      var key = `${lib.replace(\"-\", \"\")}_version`;\n",
       "      return (VEGA_DEBUG[key] == version) ?\n",
       "        Promise.resolve(paths[lib]) :\n",
       "        new Promise(function(resolve, reject) {\n",
       "          var s = document.createElement('script');\n",
       "          document.getElementsByTagName(\"head\")[0].appendChild(s);\n",
       "          s.async = true;\n",
       "          s.onload = () => {\n",
       "            VEGA_DEBUG[key] = version;\n",
       "            return resolve(paths[lib]);\n",
       "          };\n",
       "          s.onerror = () => reject(`Error loading script: ${paths[lib]}`);\n",
       "          s.src = paths[lib];\n",
       "        });\n",
       "    }\n",
       "\n",
       "    function showError(err) {\n",
       "      outputDiv.innerHTML = `<div class=\"error\" style=\"color:red;\">${err}</div>`;\n",
       "      throw err;\n",
       "    }\n",
       "\n",
       "    function displayChart(vegaEmbed) {\n",
       "      vegaEmbed(outputDiv, spec, embedOpt)\n",
       "        .catch(err => showError(`Javascript Error: ${err.message}<br>This usually means there's a typo in your chart specification. See the javascript console for the full traceback.`));\n",
       "    }\n",
       "\n",
       "    if(typeof define === \"function\" && define.amd) {\n",
       "      requirejs.config({paths});\n",
       "      let deps = [\"vega-embed\"];\n",
       "      require(deps, displayChart, err => showError(`Error loading script: ${err.message}`));\n",
       "    } else {\n",
       "      maybeLoadScript(\"vega\", \"5\")\n",
       "        .then(() => maybeLoadScript(\"vega-lite\", \"5.20.1\"))\n",
       "        .then(() => maybeLoadScript(\"vega-embed\", \"6\"))\n",
       "        .catch(showError)\n",
       "        .then(() => displayChart(vegaEmbed));\n",
       "    }\n",
       "  })({\"config\": {\"view\": {\"continuousWidth\": 300, \"continuousHeight\": 300}}, \"data\": {\"name\": \"data-b9b3806152dfa89947d6027aded701c8\"}, \"mark\": {\"type\": \"bar\", \"tooltip\": true}, \"encoding\": {\"color\": {\"field\": \"cluster_1\", \"type\": \"nominal\"}, \"x\": {\"field\": \"cluster_1\", \"type\": \"nominal\"}, \"y\": {\"field\": \"count\", \"type\": \"quantitative\"}}, \"params\": [{\"name\": \"param_22\", \"select\": {\"type\": \"interval\", \"encodings\": [\"x\", \"y\"]}, \"bind\": \"scales\"}], \"$schema\": \"https://vega.github.io/schema/vega-lite/v5.20.1.json\", \"datasets\": {\"data-b9b3806152dfa89947d6027aded701c8\": [{\"cluster_1\": \"A\", \"count\": 3871}, {\"cluster_1\": \"B\", \"count\": 3838}]}}, {\"mode\": \"vega-lite\"});\n",
       "</script>"
      ],
      "text/plain": [
       "alt.Chart(...)"
      ]
     },
     "metadata": {},
     "output_type": "display_data"
    }
   ],
   "source": [
    "show_b_stats('cluster_1', df_clustered)"
   ]
  },
  {
   "cell_type": "code",
   "execution_count": 71,
   "metadata": {},
   "outputs": [
    {
     "data": {
      "text/html": [
       "<div><style>\n",
       ".dataframe > thead > tr,\n",
       ".dataframe > tbody > tr {\n",
       "  text-align: right;\n",
       "  white-space: pre-wrap;\n",
       "}\n",
       "</style>\n",
       "<small>shape: (4, 2)</small><table border=\"1\" class=\"dataframe\"><thead><tr><th>cluster_2</th><th>count</th></tr><tr><td>str</td><td>u32</td></tr></thead><tbody><tr><td>&quot;A2&quot;</td><td>1938</td></tr><tr><td>&quot;B2&quot;</td><td>1937</td></tr><tr><td>&quot;A1&quot;</td><td>1933</td></tr><tr><td>&quot;B1&quot;</td><td>1901</td></tr></tbody></table></div>"
      ],
      "text/plain": [
       "shape: (4, 2)\n",
       "┌───────────┬───────┐\n",
       "│ cluster_2 ┆ count │\n",
       "│ ---       ┆ ---   │\n",
       "│ str       ┆ u32   │\n",
       "╞═══════════╪═══════╡\n",
       "│ A2        ┆ 1938  │\n",
       "│ B2        ┆ 1937  │\n",
       "│ A1        ┆ 1933  │\n",
       "│ B1        ┆ 1901  │\n",
       "└───────────┴───────┘"
      ]
     },
     "metadata": {},
     "output_type": "display_data"
    },
    {
     "data": {
      "text/html": [
       "\n",
       "<style>\n",
       "  #altair-viz-895024376ada420685405b2747fc8b9b.vega-embed {\n",
       "    width: 100%;\n",
       "    display: flex;\n",
       "  }\n",
       "\n",
       "  #altair-viz-895024376ada420685405b2747fc8b9b.vega-embed details,\n",
       "  #altair-viz-895024376ada420685405b2747fc8b9b.vega-embed details summary {\n",
       "    position: relative;\n",
       "  }\n",
       "</style>\n",
       "<div id=\"altair-viz-895024376ada420685405b2747fc8b9b\"></div>\n",
       "<script type=\"text/javascript\">\n",
       "  var VEGA_DEBUG = (typeof VEGA_DEBUG == \"undefined\") ? {} : VEGA_DEBUG;\n",
       "  (function(spec, embedOpt){\n",
       "    let outputDiv = document.currentScript.previousElementSibling;\n",
       "    if (outputDiv.id !== \"altair-viz-895024376ada420685405b2747fc8b9b\") {\n",
       "      outputDiv = document.getElementById(\"altair-viz-895024376ada420685405b2747fc8b9b\");\n",
       "    }\n",
       "\n",
       "    const paths = {\n",
       "      \"vega\": \"https://cdn.jsdelivr.net/npm/vega@5?noext\",\n",
       "      \"vega-lib\": \"https://cdn.jsdelivr.net/npm/vega-lib?noext\",\n",
       "      \"vega-lite\": \"https://cdn.jsdelivr.net/npm/vega-lite@5.20.1?noext\",\n",
       "      \"vega-embed\": \"https://cdn.jsdelivr.net/npm/vega-embed@6?noext\",\n",
       "    };\n",
       "\n",
       "    function maybeLoadScript(lib, version) {\n",
       "      var key = `${lib.replace(\"-\", \"\")}_version`;\n",
       "      return (VEGA_DEBUG[key] == version) ?\n",
       "        Promise.resolve(paths[lib]) :\n",
       "        new Promise(function(resolve, reject) {\n",
       "          var s = document.createElement('script');\n",
       "          document.getElementsByTagName(\"head\")[0].appendChild(s);\n",
       "          s.async = true;\n",
       "          s.onload = () => {\n",
       "            VEGA_DEBUG[key] = version;\n",
       "            return resolve(paths[lib]);\n",
       "          };\n",
       "          s.onerror = () => reject(`Error loading script: ${paths[lib]}`);\n",
       "          s.src = paths[lib];\n",
       "        });\n",
       "    }\n",
       "\n",
       "    function showError(err) {\n",
       "      outputDiv.innerHTML = `<div class=\"error\" style=\"color:red;\">${err}</div>`;\n",
       "      throw err;\n",
       "    }\n",
       "\n",
       "    function displayChart(vegaEmbed) {\n",
       "      vegaEmbed(outputDiv, spec, embedOpt)\n",
       "        .catch(err => showError(`Javascript Error: ${err.message}<br>This usually means there's a typo in your chart specification. See the javascript console for the full traceback.`));\n",
       "    }\n",
       "\n",
       "    if(typeof define === \"function\" && define.amd) {\n",
       "      requirejs.config({paths});\n",
       "      let deps = [\"vega-embed\"];\n",
       "      require(deps, displayChart, err => showError(`Error loading script: ${err.message}`));\n",
       "    } else {\n",
       "      maybeLoadScript(\"vega\", \"5\")\n",
       "        .then(() => maybeLoadScript(\"vega-lite\", \"5.20.1\"))\n",
       "        .then(() => maybeLoadScript(\"vega-embed\", \"6\"))\n",
       "        .catch(showError)\n",
       "        .then(() => displayChart(vegaEmbed));\n",
       "    }\n",
       "  })({\"config\": {\"view\": {\"continuousWidth\": 300, \"continuousHeight\": 300}}, \"data\": {\"name\": \"data-53f62f0e7c01ba8570eef554ab5089af\"}, \"mark\": {\"type\": \"bar\", \"tooltip\": true}, \"encoding\": {\"color\": {\"field\": \"cluster_2\", \"type\": \"nominal\"}, \"x\": {\"field\": \"cluster_2\", \"type\": \"nominal\"}, \"y\": {\"field\": \"count\", \"type\": \"quantitative\"}}, \"params\": [{\"name\": \"param_23\", \"select\": {\"type\": \"interval\", \"encodings\": [\"x\", \"y\"]}, \"bind\": \"scales\"}], \"$schema\": \"https://vega.github.io/schema/vega-lite/v5.20.1.json\", \"datasets\": {\"data-53f62f0e7c01ba8570eef554ab5089af\": [{\"cluster_2\": \"A2\", \"count\": 1938}, {\"cluster_2\": \"B2\", \"count\": 1937}, {\"cluster_2\": \"A1\", \"count\": 1933}, {\"cluster_2\": \"B1\", \"count\": 1901}]}}, {\"mode\": \"vega-lite\"});\n",
       "</script>"
      ],
      "text/plain": [
       "alt.Chart(...)"
      ]
     },
     "metadata": {},
     "output_type": "display_data"
    }
   ],
   "source": [
    "show_b_stats('cluster_2', df_clustered)"
   ]
  },
  {
   "cell_type": "code",
   "execution_count": 72,
   "metadata": {},
   "outputs": [
    {
     "data": {
      "text/html": [
       "<div><style>\n",
       ".dataframe > thead > tr,\n",
       ".dataframe > tbody > tr {\n",
       "  text-align: right;\n",
       "  white-space: pre-wrap;\n",
       "}\n",
       "</style>\n",
       "<small>shape: (8, 2)</small><table border=\"1\" class=\"dataframe\"><thead><tr><th>cluster_3</th><th>count</th></tr><tr><td>str</td><td>u32</td></tr></thead><tbody><tr><td>&quot;A11&quot;</td><td>1011</td></tr><tr><td>&quot;B21&quot;</td><td>1000</td></tr><tr><td>&quot;A22&quot;</td><td>976</td></tr><tr><td>&quot;B11&quot;</td><td>975</td></tr><tr><td>&quot;A21&quot;</td><td>962</td></tr><tr><td>&quot;B22&quot;</td><td>937</td></tr><tr><td>&quot;B12&quot;</td><td>926</td></tr><tr><td>&quot;A12&quot;</td><td>922</td></tr></tbody></table></div>"
      ],
      "text/plain": [
       "shape: (8, 2)\n",
       "┌───────────┬───────┐\n",
       "│ cluster_3 ┆ count │\n",
       "│ ---       ┆ ---   │\n",
       "│ str       ┆ u32   │\n",
       "╞═══════════╪═══════╡\n",
       "│ A11       ┆ 1011  │\n",
       "│ B21       ┆ 1000  │\n",
       "│ A22       ┆ 976   │\n",
       "│ B11       ┆ 975   │\n",
       "│ A21       ┆ 962   │\n",
       "│ B22       ┆ 937   │\n",
       "│ B12       ┆ 926   │\n",
       "│ A12       ┆ 922   │\n",
       "└───────────┴───────┘"
      ]
     },
     "metadata": {},
     "output_type": "display_data"
    },
    {
     "data": {
      "text/html": [
       "\n",
       "<style>\n",
       "  #altair-viz-963d4e4e1541498190885db3ef9bf44c.vega-embed {\n",
       "    width: 100%;\n",
       "    display: flex;\n",
       "  }\n",
       "\n",
       "  #altair-viz-963d4e4e1541498190885db3ef9bf44c.vega-embed details,\n",
       "  #altair-viz-963d4e4e1541498190885db3ef9bf44c.vega-embed details summary {\n",
       "    position: relative;\n",
       "  }\n",
       "</style>\n",
       "<div id=\"altair-viz-963d4e4e1541498190885db3ef9bf44c\"></div>\n",
       "<script type=\"text/javascript\">\n",
       "  var VEGA_DEBUG = (typeof VEGA_DEBUG == \"undefined\") ? {} : VEGA_DEBUG;\n",
       "  (function(spec, embedOpt){\n",
       "    let outputDiv = document.currentScript.previousElementSibling;\n",
       "    if (outputDiv.id !== \"altair-viz-963d4e4e1541498190885db3ef9bf44c\") {\n",
       "      outputDiv = document.getElementById(\"altair-viz-963d4e4e1541498190885db3ef9bf44c\");\n",
       "    }\n",
       "\n",
       "    const paths = {\n",
       "      \"vega\": \"https://cdn.jsdelivr.net/npm/vega@5?noext\",\n",
       "      \"vega-lib\": \"https://cdn.jsdelivr.net/npm/vega-lib?noext\",\n",
       "      \"vega-lite\": \"https://cdn.jsdelivr.net/npm/vega-lite@5.20.1?noext\",\n",
       "      \"vega-embed\": \"https://cdn.jsdelivr.net/npm/vega-embed@6?noext\",\n",
       "    };\n",
       "\n",
       "    function maybeLoadScript(lib, version) {\n",
       "      var key = `${lib.replace(\"-\", \"\")}_version`;\n",
       "      return (VEGA_DEBUG[key] == version) ?\n",
       "        Promise.resolve(paths[lib]) :\n",
       "        new Promise(function(resolve, reject) {\n",
       "          var s = document.createElement('script');\n",
       "          document.getElementsByTagName(\"head\")[0].appendChild(s);\n",
       "          s.async = true;\n",
       "          s.onload = () => {\n",
       "            VEGA_DEBUG[key] = version;\n",
       "            return resolve(paths[lib]);\n",
       "          };\n",
       "          s.onerror = () => reject(`Error loading script: ${paths[lib]}`);\n",
       "          s.src = paths[lib];\n",
       "        });\n",
       "    }\n",
       "\n",
       "    function showError(err) {\n",
       "      outputDiv.innerHTML = `<div class=\"error\" style=\"color:red;\">${err}</div>`;\n",
       "      throw err;\n",
       "    }\n",
       "\n",
       "    function displayChart(vegaEmbed) {\n",
       "      vegaEmbed(outputDiv, spec, embedOpt)\n",
       "        .catch(err => showError(`Javascript Error: ${err.message}<br>This usually means there's a typo in your chart specification. See the javascript console for the full traceback.`));\n",
       "    }\n",
       "\n",
       "    if(typeof define === \"function\" && define.amd) {\n",
       "      requirejs.config({paths});\n",
       "      let deps = [\"vega-embed\"];\n",
       "      require(deps, displayChart, err => showError(`Error loading script: ${err.message}`));\n",
       "    } else {\n",
       "      maybeLoadScript(\"vega\", \"5\")\n",
       "        .then(() => maybeLoadScript(\"vega-lite\", \"5.20.1\"))\n",
       "        .then(() => maybeLoadScript(\"vega-embed\", \"6\"))\n",
       "        .catch(showError)\n",
       "        .then(() => displayChart(vegaEmbed));\n",
       "    }\n",
       "  })({\"config\": {\"view\": {\"continuousWidth\": 300, \"continuousHeight\": 300}}, \"data\": {\"name\": \"data-f56a9806757b92c6c515bc36d36201a0\"}, \"mark\": {\"type\": \"bar\", \"tooltip\": true}, \"encoding\": {\"color\": {\"field\": \"cluster_3\", \"type\": \"nominal\"}, \"x\": {\"field\": \"cluster_3\", \"type\": \"nominal\"}, \"y\": {\"field\": \"count\", \"type\": \"quantitative\"}}, \"params\": [{\"name\": \"param_24\", \"select\": {\"type\": \"interval\", \"encodings\": [\"x\", \"y\"]}, \"bind\": \"scales\"}], \"$schema\": \"https://vega.github.io/schema/vega-lite/v5.20.1.json\", \"datasets\": {\"data-f56a9806757b92c6c515bc36d36201a0\": [{\"cluster_3\": \"A11\", \"count\": 1011}, {\"cluster_3\": \"B21\", \"count\": 1000}, {\"cluster_3\": \"A22\", \"count\": 976}, {\"cluster_3\": \"B11\", \"count\": 975}, {\"cluster_3\": \"A21\", \"count\": 962}, {\"cluster_3\": \"B22\", \"count\": 937}, {\"cluster_3\": \"B12\", \"count\": 926}, {\"cluster_3\": \"A12\", \"count\": 922}]}}, {\"mode\": \"vega-lite\"});\n",
       "</script>"
      ],
      "text/plain": [
       "alt.Chart(...)"
      ]
     },
     "metadata": {},
     "output_type": "display_data"
    }
   ],
   "source": [
    "show_b_stats('cluster_3', df_clustered)"
   ]
  },
  {
   "cell_type": "code",
   "execution_count": 73,
   "metadata": {},
   "outputs": [
    {
     "data": {
      "text/html": [
       "<div><style>\n",
       ".dataframe > thead > tr,\n",
       ".dataframe > tbody > tr {\n",
       "  text-align: right;\n",
       "  white-space: pre-wrap;\n",
       "}\n",
       "</style>\n",
       "<small>shape: (16, 2)</small><table border=\"1\" class=\"dataframe\"><thead><tr><th>cluster_4</th><th>count</th></tr><tr><td>str</td><td>u32</td></tr></thead><tbody><tr><td>&quot;A212&quot;</td><td>523</td></tr><tr><td>&quot;A111&quot;</td><td>515</td></tr><tr><td>&quot;A222&quot;</td><td>502</td></tr><tr><td>&quot;B212&quot;</td><td>502</td></tr><tr><td>&quot;B111&quot;</td><td>499</td></tr><tr><td>&hellip;</td><td>&hellip;</td></tr><tr><td>&quot;A121&quot;</td><td>463</td></tr><tr><td>&quot;A122&quot;</td><td>459</td></tr><tr><td>&quot;B222&quot;</td><td>454</td></tr><tr><td>&quot;B121&quot;</td><td>445</td></tr><tr><td>&quot;A211&quot;</td><td>439</td></tr></tbody></table></div>"
      ],
      "text/plain": [
       "shape: (16, 2)\n",
       "┌───────────┬───────┐\n",
       "│ cluster_4 ┆ count │\n",
       "│ ---       ┆ ---   │\n",
       "│ str       ┆ u32   │\n",
       "╞═══════════╪═══════╡\n",
       "│ A212      ┆ 523   │\n",
       "│ A111      ┆ 515   │\n",
       "│ A222      ┆ 502   │\n",
       "│ B212      ┆ 502   │\n",
       "│ B111      ┆ 499   │\n",
       "│ …         ┆ …     │\n",
       "│ A121      ┆ 463   │\n",
       "│ A122      ┆ 459   │\n",
       "│ B222      ┆ 454   │\n",
       "│ B121      ┆ 445   │\n",
       "│ A211      ┆ 439   │\n",
       "└───────────┴───────┘"
      ]
     },
     "metadata": {},
     "output_type": "display_data"
    },
    {
     "data": {
      "text/html": [
       "\n",
       "<style>\n",
       "  #altair-viz-3034a9ec8a924627a6be0553a59f6cac.vega-embed {\n",
       "    width: 100%;\n",
       "    display: flex;\n",
       "  }\n",
       "\n",
       "  #altair-viz-3034a9ec8a924627a6be0553a59f6cac.vega-embed details,\n",
       "  #altair-viz-3034a9ec8a924627a6be0553a59f6cac.vega-embed details summary {\n",
       "    position: relative;\n",
       "  }\n",
       "</style>\n",
       "<div id=\"altair-viz-3034a9ec8a924627a6be0553a59f6cac\"></div>\n",
       "<script type=\"text/javascript\">\n",
       "  var VEGA_DEBUG = (typeof VEGA_DEBUG == \"undefined\") ? {} : VEGA_DEBUG;\n",
       "  (function(spec, embedOpt){\n",
       "    let outputDiv = document.currentScript.previousElementSibling;\n",
       "    if (outputDiv.id !== \"altair-viz-3034a9ec8a924627a6be0553a59f6cac\") {\n",
       "      outputDiv = document.getElementById(\"altair-viz-3034a9ec8a924627a6be0553a59f6cac\");\n",
       "    }\n",
       "\n",
       "    const paths = {\n",
       "      \"vega\": \"https://cdn.jsdelivr.net/npm/vega@5?noext\",\n",
       "      \"vega-lib\": \"https://cdn.jsdelivr.net/npm/vega-lib?noext\",\n",
       "      \"vega-lite\": \"https://cdn.jsdelivr.net/npm/vega-lite@5.20.1?noext\",\n",
       "      \"vega-embed\": \"https://cdn.jsdelivr.net/npm/vega-embed@6?noext\",\n",
       "    };\n",
       "\n",
       "    function maybeLoadScript(lib, version) {\n",
       "      var key = `${lib.replace(\"-\", \"\")}_version`;\n",
       "      return (VEGA_DEBUG[key] == version) ?\n",
       "        Promise.resolve(paths[lib]) :\n",
       "        new Promise(function(resolve, reject) {\n",
       "          var s = document.createElement('script');\n",
       "          document.getElementsByTagName(\"head\")[0].appendChild(s);\n",
       "          s.async = true;\n",
       "          s.onload = () => {\n",
       "            VEGA_DEBUG[key] = version;\n",
       "            return resolve(paths[lib]);\n",
       "          };\n",
       "          s.onerror = () => reject(`Error loading script: ${paths[lib]}`);\n",
       "          s.src = paths[lib];\n",
       "        });\n",
       "    }\n",
       "\n",
       "    function showError(err) {\n",
       "      outputDiv.innerHTML = `<div class=\"error\" style=\"color:red;\">${err}</div>`;\n",
       "      throw err;\n",
       "    }\n",
       "\n",
       "    function displayChart(vegaEmbed) {\n",
       "      vegaEmbed(outputDiv, spec, embedOpt)\n",
       "        .catch(err => showError(`Javascript Error: ${err.message}<br>This usually means there's a typo in your chart specification. See the javascript console for the full traceback.`));\n",
       "    }\n",
       "\n",
       "    if(typeof define === \"function\" && define.amd) {\n",
       "      requirejs.config({paths});\n",
       "      let deps = [\"vega-embed\"];\n",
       "      require(deps, displayChart, err => showError(`Error loading script: ${err.message}`));\n",
       "    } else {\n",
       "      maybeLoadScript(\"vega\", \"5\")\n",
       "        .then(() => maybeLoadScript(\"vega-lite\", \"5.20.1\"))\n",
       "        .then(() => maybeLoadScript(\"vega-embed\", \"6\"))\n",
       "        .catch(showError)\n",
       "        .then(() => displayChart(vegaEmbed));\n",
       "    }\n",
       "  })({\"config\": {\"view\": {\"continuousWidth\": 300, \"continuousHeight\": 300}}, \"data\": {\"name\": \"data-7202113b53d4d692c669dfd755b50c53\"}, \"mark\": {\"type\": \"bar\", \"tooltip\": true}, \"encoding\": {\"color\": {\"field\": \"cluster_4\", \"type\": \"nominal\"}, \"x\": {\"field\": \"cluster_4\", \"type\": \"nominal\"}, \"y\": {\"field\": \"count\", \"type\": \"quantitative\"}}, \"params\": [{\"name\": \"param_25\", \"select\": {\"type\": \"interval\", \"encodings\": [\"x\", \"y\"]}, \"bind\": \"scales\"}], \"$schema\": \"https://vega.github.io/schema/vega-lite/v5.20.1.json\", \"datasets\": {\"data-7202113b53d4d692c669dfd755b50c53\": [{\"cluster_4\": \"A212\", \"count\": 523}, {\"cluster_4\": \"A111\", \"count\": 515}, {\"cluster_4\": \"A222\", \"count\": 502}, {\"cluster_4\": \"B212\", \"count\": 502}, {\"cluster_4\": \"B111\", \"count\": 499}, {\"cluster_4\": \"B211\", \"count\": 498}, {\"cluster_4\": \"A112\", \"count\": 496}, {\"cluster_4\": \"B221\", \"count\": 483}, {\"cluster_4\": \"B122\", \"count\": 481}, {\"cluster_4\": \"B112\", \"count\": 476}, {\"cluster_4\": \"A221\", \"count\": 474}, {\"cluster_4\": \"A121\", \"count\": 463}, {\"cluster_4\": \"A122\", \"count\": 459}, {\"cluster_4\": \"B222\", \"count\": 454}, {\"cluster_4\": \"B121\", \"count\": 445}, {\"cluster_4\": \"A211\", \"count\": 439}]}}, {\"mode\": \"vega-lite\"});\n",
       "</script>"
      ],
      "text/plain": [
       "alt.Chart(...)"
      ]
     },
     "metadata": {},
     "output_type": "display_data"
    }
   ],
   "source": [
    "show_b_stats('cluster_4', df_clustered)"
   ]
  },
  {
   "cell_type": "code",
   "execution_count": 74,
   "metadata": {},
   "outputs": [
    {
     "data": {
      "text/html": [
       "<div><style>\n",
       ".dataframe > thead > tr,\n",
       ".dataframe > tbody > tr {\n",
       "  text-align: right;\n",
       "  white-space: pre-wrap;\n",
       "}\n",
       "</style>\n",
       "<small>shape: (32, 2)</small><table border=\"1\" class=\"dataframe\"><thead><tr><th>cluster_5</th><th>count</th></tr><tr><td>str</td><td>u32</td></tr></thead><tbody><tr><td>&quot;B2122&quot;</td><td>265</td></tr><tr><td>&quot;A2121&quot;</td><td>262</td></tr><tr><td>&quot;A2221&quot;</td><td>261</td></tr><tr><td>&quot;A1121&quot;</td><td>261</td></tr><tr><td>&quot;A1112&quot;</td><td>261</td></tr><tr><td>&hellip;</td><td>&hellip;</td></tr><tr><td>&quot;B1212&quot;</td><td>223</td></tr><tr><td>&quot;B1211&quot;</td><td>222</td></tr><tr><td>&quot;B2221&quot;</td><td>222</td></tr><tr><td>&quot;A1212&quot;</td><td>215</td></tr><tr><td>&quot;A2112&quot;</td><td>208</td></tr></tbody></table></div>"
      ],
      "text/plain": [
       "shape: (32, 2)\n",
       "┌───────────┬───────┐\n",
       "│ cluster_5 ┆ count │\n",
       "│ ---       ┆ ---   │\n",
       "│ str       ┆ u32   │\n",
       "╞═══════════╪═══════╡\n",
       "│ B2122     ┆ 265   │\n",
       "│ A2121     ┆ 262   │\n",
       "│ A2221     ┆ 261   │\n",
       "│ A1121     ┆ 261   │\n",
       "│ A1112     ┆ 261   │\n",
       "│ …         ┆ …     │\n",
       "│ B1212     ┆ 223   │\n",
       "│ B1211     ┆ 222   │\n",
       "│ B2221     ┆ 222   │\n",
       "│ A1212     ┆ 215   │\n",
       "│ A2112     ┆ 208   │\n",
       "└───────────┴───────┘"
      ]
     },
     "metadata": {},
     "output_type": "display_data"
    },
    {
     "data": {
      "text/html": [
       "\n",
       "<style>\n",
       "  #altair-viz-7900c02706594bcd93a9b0407b6a10f3.vega-embed {\n",
       "    width: 100%;\n",
       "    display: flex;\n",
       "  }\n",
       "\n",
       "  #altair-viz-7900c02706594bcd93a9b0407b6a10f3.vega-embed details,\n",
       "  #altair-viz-7900c02706594bcd93a9b0407b6a10f3.vega-embed details summary {\n",
       "    position: relative;\n",
       "  }\n",
       "</style>\n",
       "<div id=\"altair-viz-7900c02706594bcd93a9b0407b6a10f3\"></div>\n",
       "<script type=\"text/javascript\">\n",
       "  var VEGA_DEBUG = (typeof VEGA_DEBUG == \"undefined\") ? {} : VEGA_DEBUG;\n",
       "  (function(spec, embedOpt){\n",
       "    let outputDiv = document.currentScript.previousElementSibling;\n",
       "    if (outputDiv.id !== \"altair-viz-7900c02706594bcd93a9b0407b6a10f3\") {\n",
       "      outputDiv = document.getElementById(\"altair-viz-7900c02706594bcd93a9b0407b6a10f3\");\n",
       "    }\n",
       "\n",
       "    const paths = {\n",
       "      \"vega\": \"https://cdn.jsdelivr.net/npm/vega@5?noext\",\n",
       "      \"vega-lib\": \"https://cdn.jsdelivr.net/npm/vega-lib?noext\",\n",
       "      \"vega-lite\": \"https://cdn.jsdelivr.net/npm/vega-lite@5.20.1?noext\",\n",
       "      \"vega-embed\": \"https://cdn.jsdelivr.net/npm/vega-embed@6?noext\",\n",
       "    };\n",
       "\n",
       "    function maybeLoadScript(lib, version) {\n",
       "      var key = `${lib.replace(\"-\", \"\")}_version`;\n",
       "      return (VEGA_DEBUG[key] == version) ?\n",
       "        Promise.resolve(paths[lib]) :\n",
       "        new Promise(function(resolve, reject) {\n",
       "          var s = document.createElement('script');\n",
       "          document.getElementsByTagName(\"head\")[0].appendChild(s);\n",
       "          s.async = true;\n",
       "          s.onload = () => {\n",
       "            VEGA_DEBUG[key] = version;\n",
       "            return resolve(paths[lib]);\n",
       "          };\n",
       "          s.onerror = () => reject(`Error loading script: ${paths[lib]}`);\n",
       "          s.src = paths[lib];\n",
       "        });\n",
       "    }\n",
       "\n",
       "    function showError(err) {\n",
       "      outputDiv.innerHTML = `<div class=\"error\" style=\"color:red;\">${err}</div>`;\n",
       "      throw err;\n",
       "    }\n",
       "\n",
       "    function displayChart(vegaEmbed) {\n",
       "      vegaEmbed(outputDiv, spec, embedOpt)\n",
       "        .catch(err => showError(`Javascript Error: ${err.message}<br>This usually means there's a typo in your chart specification. See the javascript console for the full traceback.`));\n",
       "    }\n",
       "\n",
       "    if(typeof define === \"function\" && define.amd) {\n",
       "      requirejs.config({paths});\n",
       "      let deps = [\"vega-embed\"];\n",
       "      require(deps, displayChart, err => showError(`Error loading script: ${err.message}`));\n",
       "    } else {\n",
       "      maybeLoadScript(\"vega\", \"5\")\n",
       "        .then(() => maybeLoadScript(\"vega-lite\", \"5.20.1\"))\n",
       "        .then(() => maybeLoadScript(\"vega-embed\", \"6\"))\n",
       "        .catch(showError)\n",
       "        .then(() => displayChart(vegaEmbed));\n",
       "    }\n",
       "  })({\"config\": {\"view\": {\"continuousWidth\": 300, \"continuousHeight\": 300}}, \"data\": {\"name\": \"data-f5531273c1fc98c7ee87c871d5ba4208\"}, \"mark\": {\"type\": \"bar\", \"tooltip\": true}, \"encoding\": {\"color\": {\"field\": \"cluster_5\", \"type\": \"nominal\"}, \"x\": {\"field\": \"cluster_5\", \"type\": \"nominal\"}, \"y\": {\"field\": \"count\", \"type\": \"quantitative\"}}, \"params\": [{\"name\": \"param_26\", \"select\": {\"type\": \"interval\", \"encodings\": [\"x\", \"y\"]}, \"bind\": \"scales\"}], \"$schema\": \"https://vega.github.io/schema/vega-lite/v5.20.1.json\", \"datasets\": {\"data-f5531273c1fc98c7ee87c871d5ba4208\": [{\"cluster_5\": \"B2122\", \"count\": 265}, {\"cluster_5\": \"A2121\", \"count\": 262}, {\"cluster_5\": \"A2221\", \"count\": 261}, {\"cluster_5\": \"A1121\", \"count\": 261}, {\"cluster_5\": \"A1112\", \"count\": 261}, {\"cluster_5\": \"A2122\", \"count\": 261}, {\"cluster_5\": \"B1111\", \"count\": 257}, {\"cluster_5\": \"B2112\", \"count\": 255}, {\"cluster_5\": \"A1111\", \"count\": 254}, {\"cluster_5\": \"A1211\", \"count\": 248}, {\"cluster_5\": \"B1222\", \"count\": 246}, {\"cluster_5\": \"B2211\", \"count\": 244}, {\"cluster_5\": \"B1122\", \"count\": 244}, {\"cluster_5\": \"B2111\", \"count\": 243}, {\"cluster_5\": \"B1112\", \"count\": 242}, {\"cluster_5\": \"A2212\", \"count\": 241}, {\"cluster_5\": \"A2222\", \"count\": 241}, {\"cluster_5\": \"B2212\", \"count\": 239}, {\"cluster_5\": \"B2121\", \"count\": 237}, {\"cluster_5\": \"A1122\", \"count\": 235}, {\"cluster_5\": \"B1221\", \"count\": 235}, {\"cluster_5\": \"A1221\", \"count\": 233}, {\"cluster_5\": \"A2211\", \"count\": 233}, {\"cluster_5\": \"B2222\", \"count\": 232}, {\"cluster_5\": \"B1121\", \"count\": 232}, {\"cluster_5\": \"A2111\", \"count\": 231}, {\"cluster_5\": \"A1222\", \"count\": 226}, {\"cluster_5\": \"B1212\", \"count\": 223}, {\"cluster_5\": \"B1211\", \"count\": 222}, {\"cluster_5\": \"B2221\", \"count\": 222}, {\"cluster_5\": \"A1212\", \"count\": 215}, {\"cluster_5\": \"A2112\", \"count\": 208}]}}, {\"mode\": \"vega-lite\"});\n",
       "</script>"
      ],
      "text/plain": [
       "alt.Chart(...)"
      ]
     },
     "metadata": {},
     "output_type": "display_data"
    }
   ],
   "source": [
    "show_b_stats('cluster_5', df_clustered)"
   ]
  },
  {
   "cell_type": "code",
   "execution_count": 75,
   "metadata": {},
   "outputs": [
    {
     "data": {
      "text/html": [
       "<div><style>\n",
       ".dataframe > thead > tr,\n",
       ".dataframe > tbody > tr {\n",
       "  text-align: right;\n",
       "  white-space: pre-wrap;\n",
       "}\n",
       "</style>\n",
       "<small>shape: (64, 2)</small><table border=\"1\" class=\"dataframe\"><thead><tr><th>cluster_6</th><th>count</th></tr><tr><td>str</td><td>u32</td></tr></thead><tbody><tr><td>&quot;A11122&quot;</td><td>153</td></tr><tr><td>&quot;A21221&quot;</td><td>139</td></tr><tr><td>&quot;B12211&quot;</td><td>138</td></tr><tr><td>&quot;B21221&quot;</td><td>137</td></tr><tr><td>&quot;B11222&quot;</td><td>136</td></tr><tr><td>&hellip;</td><td>&hellip;</td></tr><tr><td>&quot;A21121&quot;</td><td>102</td></tr><tr><td>&quot;B12121&quot;</td><td>101</td></tr><tr><td>&quot;A21112&quot;</td><td>98</td></tr><tr><td>&quot;B12212&quot;</td><td>97</td></tr><tr><td>&quot;A12122&quot;</td><td>90</td></tr></tbody></table></div>"
      ],
      "text/plain": [
       "shape: (64, 2)\n",
       "┌───────────┬───────┐\n",
       "│ cluster_6 ┆ count │\n",
       "│ ---       ┆ ---   │\n",
       "│ str       ┆ u32   │\n",
       "╞═══════════╪═══════╡\n",
       "│ A11122    ┆ 153   │\n",
       "│ A21221    ┆ 139   │\n",
       "│ B12211    ┆ 138   │\n",
       "│ B21221    ┆ 137   │\n",
       "│ B11222    ┆ 136   │\n",
       "│ …         ┆ …     │\n",
       "│ A21121    ┆ 102   │\n",
       "│ B12121    ┆ 101   │\n",
       "│ A21112    ┆ 98    │\n",
       "│ B12212    ┆ 97    │\n",
       "│ A12122    ┆ 90    │\n",
       "└───────────┴───────┘"
      ]
     },
     "metadata": {},
     "output_type": "display_data"
    },
    {
     "data": {
      "text/html": [
       "\n",
       "<style>\n",
       "  #altair-viz-eed2b192ae22418984487bd042dcc222.vega-embed {\n",
       "    width: 100%;\n",
       "    display: flex;\n",
       "  }\n",
       "\n",
       "  #altair-viz-eed2b192ae22418984487bd042dcc222.vega-embed details,\n",
       "  #altair-viz-eed2b192ae22418984487bd042dcc222.vega-embed details summary {\n",
       "    position: relative;\n",
       "  }\n",
       "</style>\n",
       "<div id=\"altair-viz-eed2b192ae22418984487bd042dcc222\"></div>\n",
       "<script type=\"text/javascript\">\n",
       "  var VEGA_DEBUG = (typeof VEGA_DEBUG == \"undefined\") ? {} : VEGA_DEBUG;\n",
       "  (function(spec, embedOpt){\n",
       "    let outputDiv = document.currentScript.previousElementSibling;\n",
       "    if (outputDiv.id !== \"altair-viz-eed2b192ae22418984487bd042dcc222\") {\n",
       "      outputDiv = document.getElementById(\"altair-viz-eed2b192ae22418984487bd042dcc222\");\n",
       "    }\n",
       "\n",
       "    const paths = {\n",
       "      \"vega\": \"https://cdn.jsdelivr.net/npm/vega@5?noext\",\n",
       "      \"vega-lib\": \"https://cdn.jsdelivr.net/npm/vega-lib?noext\",\n",
       "      \"vega-lite\": \"https://cdn.jsdelivr.net/npm/vega-lite@5.20.1?noext\",\n",
       "      \"vega-embed\": \"https://cdn.jsdelivr.net/npm/vega-embed@6?noext\",\n",
       "    };\n",
       "\n",
       "    function maybeLoadScript(lib, version) {\n",
       "      var key = `${lib.replace(\"-\", \"\")}_version`;\n",
       "      return (VEGA_DEBUG[key] == version) ?\n",
       "        Promise.resolve(paths[lib]) :\n",
       "        new Promise(function(resolve, reject) {\n",
       "          var s = document.createElement('script');\n",
       "          document.getElementsByTagName(\"head\")[0].appendChild(s);\n",
       "          s.async = true;\n",
       "          s.onload = () => {\n",
       "            VEGA_DEBUG[key] = version;\n",
       "            return resolve(paths[lib]);\n",
       "          };\n",
       "          s.onerror = () => reject(`Error loading script: ${paths[lib]}`);\n",
       "          s.src = paths[lib];\n",
       "        });\n",
       "    }\n",
       "\n",
       "    function showError(err) {\n",
       "      outputDiv.innerHTML = `<div class=\"error\" style=\"color:red;\">${err}</div>`;\n",
       "      throw err;\n",
       "    }\n",
       "\n",
       "    function displayChart(vegaEmbed) {\n",
       "      vegaEmbed(outputDiv, spec, embedOpt)\n",
       "        .catch(err => showError(`Javascript Error: ${err.message}<br>This usually means there's a typo in your chart specification. See the javascript console for the full traceback.`));\n",
       "    }\n",
       "\n",
       "    if(typeof define === \"function\" && define.amd) {\n",
       "      requirejs.config({paths});\n",
       "      let deps = [\"vega-embed\"];\n",
       "      require(deps, displayChart, err => showError(`Error loading script: ${err.message}`));\n",
       "    } else {\n",
       "      maybeLoadScript(\"vega\", \"5\")\n",
       "        .then(() => maybeLoadScript(\"vega-lite\", \"5.20.1\"))\n",
       "        .then(() => maybeLoadScript(\"vega-embed\", \"6\"))\n",
       "        .catch(showError)\n",
       "        .then(() => displayChart(vegaEmbed));\n",
       "    }\n",
       "  })({\"config\": {\"view\": {\"continuousWidth\": 300, \"continuousHeight\": 300}}, \"data\": {\"name\": \"data-ac8a2b4ab8a258f563c59b43d645bea8\"}, \"mark\": {\"type\": \"bar\", \"tooltip\": true}, \"encoding\": {\"color\": {\"field\": \"cluster_6\", \"type\": \"nominal\"}, \"x\": {\"field\": \"cluster_6\", \"type\": \"nominal\"}, \"y\": {\"field\": \"count\", \"type\": \"quantitative\"}}, \"params\": [{\"name\": \"param_27\", \"select\": {\"type\": \"interval\", \"encodings\": [\"x\", \"y\"]}, \"bind\": \"scales\"}], \"$schema\": \"https://vega.github.io/schema/vega-lite/v5.20.1.json\", \"datasets\": {\"data-ac8a2b4ab8a258f563c59b43d645bea8\": [{\"cluster_6\": \"A11122\", \"count\": 153}, {\"cluster_6\": \"A21221\", \"count\": 139}, {\"cluster_6\": \"B12211\", \"count\": 138}, {\"cluster_6\": \"B21221\", \"count\": 137}, {\"cluster_6\": \"B11222\", \"count\": 136}, {\"cluster_6\": \"A21211\", \"count\": 135}, {\"cluster_6\": \"B21122\", \"count\": 134}, {\"cluster_6\": \"A21111\", \"count\": 133}, {\"cluster_6\": \"A11212\", \"count\": 133}, {\"cluster_6\": \"A22122\", \"count\": 133}, {\"cluster_6\": \"A22211\", \"count\": 133}, {\"cluster_6\": \"B21111\", \"count\": 132}, {\"cluster_6\": \"B22122\", \"count\": 132}, {\"cluster_6\": \"A11112\", \"count\": 131}, {\"cluster_6\": \"B11111\", \"count\": 131}, {\"cluster_6\": \"B21222\", \"count\": 128}, {\"cluster_6\": \"A11211\", \"count\": 128}, {\"cluster_6\": \"A22212\", \"count\": 128}, {\"cluster_6\": \"A22222\", \"count\": 128}, {\"cluster_6\": \"A12112\", \"count\": 128}, {\"cluster_6\": \"B21212\", \"count\": 127}, {\"cluster_6\": \"A21212\", \"count\": 127}, {\"cluster_6\": \"A22112\", \"count\": 126}, {\"cluster_6\": \"B11112\", \"count\": 126}, {\"cluster_6\": \"B12221\", \"count\": 125}, {\"cluster_6\": \"A12121\", \"count\": 125}, {\"cluster_6\": \"B22111\", \"count\": 125}, {\"cluster_6\": \"B22222\", \"count\": 123}, {\"cluster_6\": \"A11111\", \"count\": 123}, {\"cluster_6\": \"B12122\", \"count\": 122}, {\"cluster_6\": \"A12212\", \"count\": 122}, {\"cluster_6\": \"A21222\", \"count\": 122}, {\"cluster_6\": \"A11221\", \"count\": 122}, {\"cluster_6\": \"B12222\", \"count\": 121}, {\"cluster_6\": \"B11122\", \"count\": 121}, {\"cluster_6\": \"B11121\", \"count\": 121}, {\"cluster_6\": \"B11211\", \"count\": 121}, {\"cluster_6\": \"B21121\", \"count\": 121}, {\"cluster_6\": \"A12111\", \"count\": 120}, {\"cluster_6\": \"B22112\", \"count\": 119}, {\"cluster_6\": \"A12222\", \"count\": 118}, {\"cluster_6\": \"B12112\", \"count\": 116}, {\"cluster_6\": \"B22212\", \"count\": 113}, {\"cluster_6\": \"A11222\", \"count\": 113}, {\"cluster_6\": \"A22221\", \"count\": 113}, {\"cluster_6\": \"A12211\", \"count\": 111}, {\"cluster_6\": \"B21112\", \"count\": 111}, {\"cluster_6\": \"B11212\", \"count\": 111}, {\"cluster_6\": \"B21211\", \"count\": 110}, {\"cluster_6\": \"B22211\", \"count\": 109}, {\"cluster_6\": \"B22221\", \"count\": 109}, {\"cluster_6\": \"B11221\", \"count\": 108}, {\"cluster_6\": \"A11121\", \"count\": 108}, {\"cluster_6\": \"A22121\", \"count\": 108}, {\"cluster_6\": \"A12221\", \"count\": 108}, {\"cluster_6\": \"B22121\", \"count\": 107}, {\"cluster_6\": \"A22111\", \"count\": 107}, {\"cluster_6\": \"A21122\", \"count\": 106}, {\"cluster_6\": \"B12111\", \"count\": 106}, {\"cluster_6\": \"A21121\", \"count\": 102}, {\"cluster_6\": \"B12121\", \"count\": 101}, {\"cluster_6\": \"A21112\", \"count\": 98}, {\"cluster_6\": \"B12212\", \"count\": 97}, {\"cluster_6\": \"A12122\", \"count\": 90}]}}, {\"mode\": \"vega-lite\"});\n",
       "</script>"
      ],
      "text/plain": [
       "alt.Chart(...)"
      ]
     },
     "metadata": {},
     "output_type": "display_data"
    }
   ],
   "source": [
    "show_b_stats('cluster_6', df_clustered)"
   ]
  },
  {
   "cell_type": "code",
   "execution_count": 76,
   "metadata": {},
   "outputs": [
    {
     "data": {
      "text/html": [
       "<div><style>\n",
       ".dataframe > thead > tr,\n",
       ".dataframe > tbody > tr {\n",
       "  text-align: right;\n",
       "  white-space: pre-wrap;\n",
       "}\n",
       "</style>\n",
       "<small>shape: (128, 2)</small><table border=\"1\" class=\"dataframe\"><thead><tr><th>cluster_7</th><th>count</th></tr><tr><td>str</td><td>u32</td></tr></thead><tbody><tr><td>&quot;A112122&quot;</td><td>84</td></tr><tr><td>&quot;A111221&quot;</td><td>82</td></tr><tr><td>&quot;B111112&quot;</td><td>78</td></tr><tr><td>&quot;B112112&quot;</td><td>76</td></tr><tr><td>&quot;A222112&quot;</td><td>76</td></tr><tr><td>&hellip;</td><td>&hellip;</td></tr><tr><td>&quot;B112111&quot;</td><td>45</td></tr><tr><td>&quot;B122122&quot;</td><td>44</td></tr><tr><td>&quot;A211122&quot;</td><td>43</td></tr><tr><td>&quot;B121212&quot;</td><td>42</td></tr><tr><td>&quot;A121222&quot;</td><td>41</td></tr></tbody></table></div>"
      ],
      "text/plain": [
       "shape: (128, 2)\n",
       "┌───────────┬───────┐\n",
       "│ cluster_7 ┆ count │\n",
       "│ ---       ┆ ---   │\n",
       "│ str       ┆ u32   │\n",
       "╞═══════════╪═══════╡\n",
       "│ A112122   ┆ 84    │\n",
       "│ A111221   ┆ 82    │\n",
       "│ B111112   ┆ 78    │\n",
       "│ B112112   ┆ 76    │\n",
       "│ A222112   ┆ 76    │\n",
       "│ …         ┆ …     │\n",
       "│ B112111   ┆ 45    │\n",
       "│ B122122   ┆ 44    │\n",
       "│ A211122   ┆ 43    │\n",
       "│ B121212   ┆ 42    │\n",
       "│ A121222   ┆ 41    │\n",
       "└───────────┴───────┘"
      ]
     },
     "metadata": {},
     "output_type": "display_data"
    },
    {
     "data": {
      "text/html": [
       "\n",
       "<style>\n",
       "  #altair-viz-add70566b5cc4a169d0147e5a516638d.vega-embed {\n",
       "    width: 100%;\n",
       "    display: flex;\n",
       "  }\n",
       "\n",
       "  #altair-viz-add70566b5cc4a169d0147e5a516638d.vega-embed details,\n",
       "  #altair-viz-add70566b5cc4a169d0147e5a516638d.vega-embed details summary {\n",
       "    position: relative;\n",
       "  }\n",
       "</style>\n",
       "<div id=\"altair-viz-add70566b5cc4a169d0147e5a516638d\"></div>\n",
       "<script type=\"text/javascript\">\n",
       "  var VEGA_DEBUG = (typeof VEGA_DEBUG == \"undefined\") ? {} : VEGA_DEBUG;\n",
       "  (function(spec, embedOpt){\n",
       "    let outputDiv = document.currentScript.previousElementSibling;\n",
       "    if (outputDiv.id !== \"altair-viz-add70566b5cc4a169d0147e5a516638d\") {\n",
       "      outputDiv = document.getElementById(\"altair-viz-add70566b5cc4a169d0147e5a516638d\");\n",
       "    }\n",
       "\n",
       "    const paths = {\n",
       "      \"vega\": \"https://cdn.jsdelivr.net/npm/vega@5?noext\",\n",
       "      \"vega-lib\": \"https://cdn.jsdelivr.net/npm/vega-lib?noext\",\n",
       "      \"vega-lite\": \"https://cdn.jsdelivr.net/npm/vega-lite@5.20.1?noext\",\n",
       "      \"vega-embed\": \"https://cdn.jsdelivr.net/npm/vega-embed@6?noext\",\n",
       "    };\n",
       "\n",
       "    function maybeLoadScript(lib, version) {\n",
       "      var key = `${lib.replace(\"-\", \"\")}_version`;\n",
       "      return (VEGA_DEBUG[key] == version) ?\n",
       "        Promise.resolve(paths[lib]) :\n",
       "        new Promise(function(resolve, reject) {\n",
       "          var s = document.createElement('script');\n",
       "          document.getElementsByTagName(\"head\")[0].appendChild(s);\n",
       "          s.async = true;\n",
       "          s.onload = () => {\n",
       "            VEGA_DEBUG[key] = version;\n",
       "            return resolve(paths[lib]);\n",
       "          };\n",
       "          s.onerror = () => reject(`Error loading script: ${paths[lib]}`);\n",
       "          s.src = paths[lib];\n",
       "        });\n",
       "    }\n",
       "\n",
       "    function showError(err) {\n",
       "      outputDiv.innerHTML = `<div class=\"error\" style=\"color:red;\">${err}</div>`;\n",
       "      throw err;\n",
       "    }\n",
       "\n",
       "    function displayChart(vegaEmbed) {\n",
       "      vegaEmbed(outputDiv, spec, embedOpt)\n",
       "        .catch(err => showError(`Javascript Error: ${err.message}<br>This usually means there's a typo in your chart specification. See the javascript console for the full traceback.`));\n",
       "    }\n",
       "\n",
       "    if(typeof define === \"function\" && define.amd) {\n",
       "      requirejs.config({paths});\n",
       "      let deps = [\"vega-embed\"];\n",
       "      require(deps, displayChart, err => showError(`Error loading script: ${err.message}`));\n",
       "    } else {\n",
       "      maybeLoadScript(\"vega\", \"5\")\n",
       "        .then(() => maybeLoadScript(\"vega-lite\", \"5.20.1\"))\n",
       "        .then(() => maybeLoadScript(\"vega-embed\", \"6\"))\n",
       "        .catch(showError)\n",
       "        .then(() => displayChart(vegaEmbed));\n",
       "    }\n",
       "  })({\"config\": {\"view\": {\"continuousWidth\": 300, \"continuousHeight\": 300}}, \"data\": {\"name\": \"data-71a180240d7dc53d38496e51e62530c6\"}, \"mark\": {\"type\": \"bar\", \"tooltip\": true}, \"encoding\": {\"color\": {\"field\": \"cluster_7\", \"type\": \"nominal\"}, \"x\": {\"field\": \"cluster_7\", \"type\": \"nominal\"}, \"y\": {\"field\": \"count\", \"type\": \"quantitative\"}}, \"params\": [{\"name\": \"param_28\", \"select\": {\"type\": \"interval\", \"encodings\": [\"x\", \"y\"]}, \"bind\": \"scales\"}], \"$schema\": \"https://vega.github.io/schema/vega-lite/v5.20.1.json\", \"datasets\": {\"data-71a180240d7dc53d38496e51e62530c6\": [{\"cluster_7\": \"A112122\", \"count\": 84}, {\"cluster_7\": \"A111221\", \"count\": 82}, {\"cluster_7\": \"B111112\", \"count\": 78}, {\"cluster_7\": \"B112112\", \"count\": 76}, {\"cluster_7\": \"A222112\", \"count\": 76}, {\"cluster_7\": \"B212212\", \"count\": 75}, {\"cluster_7\": \"B111211\", \"count\": 74}, {\"cluster_7\": \"B111121\", \"count\": 73}, {\"cluster_7\": \"B112221\", \"count\": 73}, {\"cluster_7\": \"B221112\", \"count\": 72}, {\"cluster_7\": \"B212122\", \"count\": 72}, {\"cluster_7\": \"A212212\", \"count\": 72}, {\"cluster_7\": \"B211221\", \"count\": 71}, {\"cluster_7\": \"A111222\", \"count\": 71}, {\"cluster_7\": \"B211111\", \"count\": 70}, {\"cluster_7\": \"A121121\", \"count\": 69}, {\"cluster_7\": \"A221121\", \"count\": 69}, {\"cluster_7\": \"B122112\", \"count\": 69}, {\"cluster_7\": \"B121221\", \"count\": 69}, {\"cluster_7\": \"B122222\", \"count\": 69}, {\"cluster_7\": \"B122111\", \"count\": 69}, {\"cluster_7\": \"A212112\", \"count\": 68}, {\"cluster_7\": \"A222122\", \"count\": 68}, {\"cluster_7\": \"A211111\", \"count\": 68}, {\"cluster_7\": \"B222122\", \"count\": 68}, {\"cluster_7\": \"A221221\", \"count\": 68}, {\"cluster_7\": \"A111122\", \"count\": 67}, {\"cluster_7\": \"A212111\", \"count\": 67}, {\"cluster_7\": \"A212211\", \"count\": 67}, {\"cluster_7\": \"A222222\", \"count\": 67}, {\"cluster_7\": \"B221222\", \"count\": 67}, {\"cluster_7\": \"B212221\", \"count\": 66}, {\"cluster_7\": \"A212121\", \"count\": 66}, {\"cluster_7\": \"B221221\", \"count\": 65}, {\"cluster_7\": \"A112212\", \"count\": 65}, {\"cluster_7\": \"A121111\", \"count\": 65}, {\"cluster_7\": \"A221222\", \"count\": 65}, {\"cluster_7\": \"B222222\", \"count\": 65}, {\"cluster_7\": \"A211112\", \"count\": 65}, {\"cluster_7\": \"A112111\", \"count\": 64}, {\"cluster_7\": \"B122211\", \"count\": 64}, {\"cluster_7\": \"A112112\", \"count\": 64}, {\"cluster_7\": \"A111121\", \"count\": 64}, {\"cluster_7\": \"A122121\", \"count\": 63}, {\"cluster_7\": \"B112222\", \"count\": 63}, {\"cluster_7\": \"A212222\", \"count\": 63}, {\"cluster_7\": \"A111112\", \"count\": 63}, {\"cluster_7\": \"B211222\", \"count\": 63}, {\"cluster_7\": \"A121212\", \"count\": 63}, {\"cluster_7\": \"B212222\", \"count\": 62}, {\"cluster_7\": \"A122221\", \"count\": 62}, {\"cluster_7\": \"B111221\", \"count\": 62}, {\"cluster_7\": \"A121211\", \"count\": 62}, {\"cluster_7\": \"B211212\", \"count\": 62}, {\"cluster_7\": \"B212211\", \"count\": 62}, {\"cluster_7\": \"B211112\", \"count\": 62}, {\"cluster_7\": \"B112122\", \"count\": 61}, {\"cluster_7\": \"B122212\", \"count\": 61}, {\"cluster_7\": \"A212122\", \"count\": 61}, {\"cluster_7\": \"A222221\", \"count\": 61}, {\"cluster_7\": \"B121121\", \"count\": 61}, {\"cluster_7\": \"A222121\", \"count\": 60}, {\"cluster_7\": \"B112212\", \"count\": 60}, {\"cluster_7\": \"B222112\", \"count\": 60}, {\"cluster_7\": \"A111111\", \"count\": 60}, {\"cluster_7\": \"B221121\", \"count\": 60}, {\"cluster_7\": \"B211211\", \"count\": 59}, {\"cluster_7\": \"A122211\", \"count\": 59}, {\"cluster_7\": \"A212221\", \"count\": 59}, {\"cluster_7\": \"B221122\", \"count\": 59}, {\"cluster_7\": \"A112221\", \"count\": 59}, {\"cluster_7\": \"B121211\", \"count\": 59}, {\"cluster_7\": \"B211122\", \"count\": 59}, {\"cluster_7\": \"A122122\", \"count\": 59}, {\"cluster_7\": \"B111222\", \"count\": 59}, {\"cluster_7\": \"A121122\", \"count\": 59}, {\"cluster_7\": \"B222221\", \"count\": 58}, {\"cluster_7\": \"A222212\", \"count\": 58}, {\"cluster_7\": \"B222211\", \"count\": 58}, {\"cluster_7\": \"A111212\", \"count\": 58}, {\"cluster_7\": \"A221122\", \"count\": 57}, {\"cluster_7\": \"A112211\", \"count\": 57}, {\"cluster_7\": \"B221212\", \"count\": 57}, {\"cluster_7\": \"A221211\", \"count\": 57}, {\"cluster_7\": \"A222111\", \"count\": 57}, {\"cluster_7\": \"A122111\", \"count\": 57}, {\"cluster_7\": \"B212111\", \"count\": 56}, {\"cluster_7\": \"A122222\", \"count\": 56}, {\"cluster_7\": \"A221112\", \"count\": 56}, {\"cluster_7\": \"A121112\", \"count\": 55}, {\"cluster_7\": \"B212121\", \"count\": 55}, {\"cluster_7\": \"A211221\", \"count\": 55}, {\"cluster_7\": \"A211121\", \"count\": 55}, {\"cluster_7\": \"A222211\", \"count\": 55}, {\"cluster_7\": \"B121122\", \"count\": 55}, {\"cluster_7\": \"B212112\", \"count\": 54}, {\"cluster_7\": \"A122112\", \"count\": 54}, {\"cluster_7\": \"A112222\", \"count\": 54}, {\"cluster_7\": \"B121112\", \"count\": 54}, {\"cluster_7\": \"B111111\", \"count\": 53}, {\"cluster_7\": \"B221111\", \"count\": 53}, {\"cluster_7\": \"B121222\", \"count\": 53}, {\"cluster_7\": \"B122121\", \"count\": 53}, {\"cluster_7\": \"B111122\", \"count\": 53}, {\"cluster_7\": \"B121111\", \"count\": 52}, {\"cluster_7\": \"B122221\", \"count\": 52}, {\"cluster_7\": \"B211121\", \"count\": 52}, {\"cluster_7\": \"A211212\", \"count\": 51}, {\"cluster_7\": \"A221111\", \"count\": 51}, {\"cluster_7\": \"B222212\", \"count\": 51}, {\"cluster_7\": \"A221212\", \"count\": 51}, {\"cluster_7\": \"A211211\", \"count\": 51}, {\"cluster_7\": \"A211222\", \"count\": 51}, {\"cluster_7\": \"B112121\", \"count\": 50}, {\"cluster_7\": \"B221211\", \"count\": 50}, {\"cluster_7\": \"A111211\", \"count\": 50}, {\"cluster_7\": \"A121221\", \"count\": 49}, {\"cluster_7\": \"A122212\", \"count\": 49}, {\"cluster_7\": \"A112121\", \"count\": 49}, {\"cluster_7\": \"B222111\", \"count\": 49}, {\"cluster_7\": \"B112211\", \"count\": 48}, {\"cluster_7\": \"B111212\", \"count\": 47}, {\"cluster_7\": \"B222121\", \"count\": 45}, {\"cluster_7\": \"B112111\", \"count\": 45}, {\"cluster_7\": \"B122122\", \"count\": 44}, {\"cluster_7\": \"A211122\", \"count\": 43}, {\"cluster_7\": \"B121212\", \"count\": 42}, {\"cluster_7\": \"A121222\", \"count\": 41}]}}, {\"mode\": \"vega-lite\"});\n",
       "</script>"
      ],
      "text/plain": [
       "alt.Chart(...)"
      ]
     },
     "metadata": {},
     "output_type": "display_data"
    }
   ],
   "source": [
    "show_b_stats('cluster_7', df_clustered)"
   ]
  },
  {
   "cell_type": "code",
   "execution_count": 77,
   "metadata": {},
   "outputs": [
    {
     "data": {
      "text/html": [
       "<div><style>\n",
       ".dataframe > thead > tr,\n",
       ".dataframe > tbody > tr {\n",
       "  text-align: right;\n",
       "  white-space: pre-wrap;\n",
       "}\n",
       "</style>\n",
       "<small>shape: (256, 2)</small><table border=\"1\" class=\"dataframe\"><thead><tr><th>cluster_8</th><th>count</th></tr><tr><td>str</td><td>u32</td></tr></thead><tbody><tr><td>&quot;A1112212&quot;</td><td>47</td></tr><tr><td>&quot;A1121222&quot;</td><td>44</td></tr><tr><td>&quot;A2221122&quot;</td><td>44</td></tr><tr><td>&quot;B1112111&quot;</td><td>44</td></tr><tr><td>&quot;B1111211&quot;</td><td>44</td></tr><tr><td>&hellip;</td><td>&hellip;</td></tr><tr><td>&quot;A1222121&quot;</td><td>18</td></tr><tr><td>&quot;A1122221&quot;</td><td>17</td></tr><tr><td>&quot;B2212112&quot;</td><td>16</td></tr><tr><td>&quot;A1212212&quot;</td><td>15</td></tr><tr><td>&quot;B1212122&quot;</td><td>13</td></tr></tbody></table></div>"
      ],
      "text/plain": [
       "shape: (256, 2)\n",
       "┌───────────┬───────┐\n",
       "│ cluster_8 ┆ count │\n",
       "│ ---       ┆ ---   │\n",
       "│ str       ┆ u32   │\n",
       "╞═══════════╪═══════╡\n",
       "│ A1112212  ┆ 47    │\n",
       "│ A1121222  ┆ 44    │\n",
       "│ A2221122  ┆ 44    │\n",
       "│ B1112111  ┆ 44    │\n",
       "│ B1111211  ┆ 44    │\n",
       "│ …         ┆ …     │\n",
       "│ A1222121  ┆ 18    │\n",
       "│ A1122221  ┆ 17    │\n",
       "│ B2212112  ┆ 16    │\n",
       "│ A1212212  ┆ 15    │\n",
       "│ B1212122  ┆ 13    │\n",
       "└───────────┴───────┘"
      ]
     },
     "metadata": {},
     "output_type": "display_data"
    },
    {
     "data": {
      "text/html": [
       "\n",
       "<style>\n",
       "  #altair-viz-d0968691f0e24b06b79b066374fda729.vega-embed {\n",
       "    width: 100%;\n",
       "    display: flex;\n",
       "  }\n",
       "\n",
       "  #altair-viz-d0968691f0e24b06b79b066374fda729.vega-embed details,\n",
       "  #altair-viz-d0968691f0e24b06b79b066374fda729.vega-embed details summary {\n",
       "    position: relative;\n",
       "  }\n",
       "</style>\n",
       "<div id=\"altair-viz-d0968691f0e24b06b79b066374fda729\"></div>\n",
       "<script type=\"text/javascript\">\n",
       "  var VEGA_DEBUG = (typeof VEGA_DEBUG == \"undefined\") ? {} : VEGA_DEBUG;\n",
       "  (function(spec, embedOpt){\n",
       "    let outputDiv = document.currentScript.previousElementSibling;\n",
       "    if (outputDiv.id !== \"altair-viz-d0968691f0e24b06b79b066374fda729\") {\n",
       "      outputDiv = document.getElementById(\"altair-viz-d0968691f0e24b06b79b066374fda729\");\n",
       "    }\n",
       "\n",
       "    const paths = {\n",
       "      \"vega\": \"https://cdn.jsdelivr.net/npm/vega@5?noext\",\n",
       "      \"vega-lib\": \"https://cdn.jsdelivr.net/npm/vega-lib?noext\",\n",
       "      \"vega-lite\": \"https://cdn.jsdelivr.net/npm/vega-lite@5.20.1?noext\",\n",
       "      \"vega-embed\": \"https://cdn.jsdelivr.net/npm/vega-embed@6?noext\",\n",
       "    };\n",
       "\n",
       "    function maybeLoadScript(lib, version) {\n",
       "      var key = `${lib.replace(\"-\", \"\")}_version`;\n",
       "      return (VEGA_DEBUG[key] == version) ?\n",
       "        Promise.resolve(paths[lib]) :\n",
       "        new Promise(function(resolve, reject) {\n",
       "          var s = document.createElement('script');\n",
       "          document.getElementsByTagName(\"head\")[0].appendChild(s);\n",
       "          s.async = true;\n",
       "          s.onload = () => {\n",
       "            VEGA_DEBUG[key] = version;\n",
       "            return resolve(paths[lib]);\n",
       "          };\n",
       "          s.onerror = () => reject(`Error loading script: ${paths[lib]}`);\n",
       "          s.src = paths[lib];\n",
       "        });\n",
       "    }\n",
       "\n",
       "    function showError(err) {\n",
       "      outputDiv.innerHTML = `<div class=\"error\" style=\"color:red;\">${err}</div>`;\n",
       "      throw err;\n",
       "    }\n",
       "\n",
       "    function displayChart(vegaEmbed) {\n",
       "      vegaEmbed(outputDiv, spec, embedOpt)\n",
       "        .catch(err => showError(`Javascript Error: ${err.message}<br>This usually means there's a typo in your chart specification. See the javascript console for the full traceback.`));\n",
       "    }\n",
       "\n",
       "    if(typeof define === \"function\" && define.amd) {\n",
       "      requirejs.config({paths});\n",
       "      let deps = [\"vega-embed\"];\n",
       "      require(deps, displayChart, err => showError(`Error loading script: ${err.message}`));\n",
       "    } else {\n",
       "      maybeLoadScript(\"vega\", \"5\")\n",
       "        .then(() => maybeLoadScript(\"vega-lite\", \"5.20.1\"))\n",
       "        .then(() => maybeLoadScript(\"vega-embed\", \"6\"))\n",
       "        .catch(showError)\n",
       "        .then(() => displayChart(vegaEmbed));\n",
       "    }\n",
       "  })({\"config\": {\"view\": {\"continuousWidth\": 300, \"continuousHeight\": 300}}, \"data\": {\"name\": \"data-5c2660c206b47679499b4ad8f347ce1d\"}, \"mark\": {\"type\": \"bar\", \"tooltip\": true}, \"encoding\": {\"color\": {\"field\": \"cluster_8\", \"type\": \"nominal\"}, \"x\": {\"field\": \"cluster_8\", \"type\": \"nominal\"}, \"y\": {\"field\": \"count\", \"type\": \"quantitative\"}}, \"params\": [{\"name\": \"param_29\", \"select\": {\"type\": \"interval\", \"encodings\": [\"x\", \"y\"]}, \"bind\": \"scales\"}], \"$schema\": \"https://vega.github.io/schema/vega-lite/v5.20.1.json\", \"datasets\": {\"data-5c2660c206b47679499b4ad8f347ce1d\": [{\"cluster_8\": \"A1112212\", \"count\": 47}, {\"cluster_8\": \"A1121222\", \"count\": 44}, {\"cluster_8\": \"A2221122\", \"count\": 44}, {\"cluster_8\": \"B1112111\", \"count\": 44}, {\"cluster_8\": \"B1111211\", \"count\": 44}, {\"cluster_8\": \"B2212211\", \"count\": 43}, {\"cluster_8\": \"B2111112\", \"count\": 43}, {\"cluster_8\": \"B1222222\", \"count\": 43}, {\"cluster_8\": \"A2121111\", \"count\": 42}, {\"cluster_8\": \"A1112222\", \"count\": 41}, {\"cluster_8\": \"B1212212\", \"count\": 40}, {\"cluster_8\": \"A1121221\", \"count\": 40}, {\"cluster_8\": \"B1111122\", \"count\": 40}, {\"cluster_8\": \"B2112212\", \"count\": 40}, {\"cluster_8\": \"B2122212\", \"count\": 40}, {\"cluster_8\": \"A2122121\", \"count\": 39}, {\"cluster_8\": \"B1121122\", \"count\": 39}, {\"cluster_8\": \"B2121221\", \"count\": 39}, {\"cluster_8\": \"A1111212\", \"count\": 39}, {\"cluster_8\": \"B2122121\", \"count\": 38}, {\"cluster_8\": \"B1122211\", \"count\": 38}, {\"cluster_8\": \"A2212212\", \"count\": 38}, {\"cluster_8\": \"B2211122\", \"count\": 38}, {\"cluster_8\": \"B1111121\", \"count\": 38}, {\"cluster_8\": \"A2212221\", \"count\": 38}, {\"cluster_8\": \"B1221122\", \"count\": 38}, {\"cluster_8\": \"A2111122\", \"count\": 38}, {\"cluster_8\": \"A2111111\", \"count\": 38}, {\"cluster_8\": \"A1122121\", \"count\": 38}, {\"cluster_8\": \"A2211211\", \"count\": 38}, {\"cluster_8\": \"B1121121\", \"count\": 37}, {\"cluster_8\": \"B2122122\", \"count\": 37}, {\"cluster_8\": \"B1222112\", \"count\": 37}, {\"cluster_8\": \"B1221112\", \"count\": 37}, {\"cluster_8\": \"A1122222\", \"count\": 37}, {\"cluster_8\": \"A2221221\", \"count\": 36}, {\"cluster_8\": \"A1211212\", \"count\": 36}, {\"cluster_8\": \"A2122112\", \"count\": 36}, {\"cluster_8\": \"A2122212\", \"count\": 36}, {\"cluster_8\": \"B2222111\", \"count\": 36}, {\"cluster_8\": \"A1121121\", \"count\": 36}, {\"cluster_8\": \"A1111221\", \"count\": 36}, {\"cluster_8\": \"A1111122\", \"count\": 36}, {\"cluster_8\": \"A2222221\", \"count\": 36}, {\"cluster_8\": \"A1121112\", \"count\": 35}, {\"cluster_8\": \"A1112211\", \"count\": 35}, {\"cluster_8\": \"A2121122\", \"count\": 35}, {\"cluster_8\": \"A1122111\", \"count\": 35}, {\"cluster_8\": \"B1122222\", \"count\": 35}, {\"cluster_8\": \"B1122212\", \"count\": 35}, {\"cluster_8\": \"B2221221\", \"count\": 35}, {\"cluster_8\": \"B2111222\", \"count\": 35}, {\"cluster_8\": \"A1211111\", \"count\": 35}, {\"cluster_8\": \"A1212122\", \"count\": 35}, {\"cluster_8\": \"B2222222\", \"count\": 34}, {\"cluster_8\": \"A1221211\", \"count\": 34}, {\"cluster_8\": \"B2222212\", \"count\": 34}, {\"cluster_8\": \"B2212111\", \"count\": 34}, {\"cluster_8\": \"B2122112\", \"count\": 34}, {\"cluster_8\": \"B1112212\", \"count\": 34}, {\"cluster_8\": \"B1112221\", \"count\": 34}, {\"cluster_8\": \"B1222121\", \"count\": 34}, {\"cluster_8\": \"B2212221\", \"count\": 34}, {\"cluster_8\": \"B2121211\", \"count\": 34}, {\"cluster_8\": \"B2211121\", \"count\": 34}, {\"cluster_8\": \"B1111111\", \"count\": 34}, {\"cluster_8\": \"A1212211\", \"count\": 34}, {\"cluster_8\": \"B2122222\", \"count\": 34}, {\"cluster_8\": \"A2121211\", \"count\": 33}, {\"cluster_8\": \"A1222212\", \"count\": 33}, {\"cluster_8\": \"B2111122\", \"count\": 33}, {\"cluster_8\": \"A2121222\", \"count\": 33}, {\"cluster_8\": \"B1121222\", \"count\": 33}, {\"cluster_8\": \"A2122122\", \"count\": 33}, {\"cluster_8\": \"A2121212\", \"count\": 33}, {\"cluster_8\": \"B2112222\", \"count\": 33}, {\"cluster_8\": \"A2212112\", \"count\": 33}, {\"cluster_8\": \"A2121121\", \"count\": 33}, {\"cluster_8\": \"A1122212\", \"count\": 33}, {\"cluster_8\": \"A1211211\", \"count\": 33}, {\"cluster_8\": \"B2212222\", \"count\": 33}, {\"cluster_8\": \"B2221222\", \"count\": 33}, {\"cluster_8\": \"B1211222\", \"count\": 33}, {\"cluster_8\": \"A1211221\", \"count\": 33}, {\"cluster_8\": \"B2112121\", \"count\": 33}, {\"cluster_8\": \"B2121222\", \"count\": 33}, {\"cluster_8\": \"B1221111\", \"count\": 32}, {\"cluster_8\": \"A2221222\", \"count\": 32}, {\"cluster_8\": \"A1221112\", \"count\": 32}, {\"cluster_8\": \"A1111112\", \"count\": 32}, {\"cluster_8\": \"B1212112\", \"count\": 32}, {\"cluster_8\": \"B2211221\", \"count\": 32}, {\"cluster_8\": \"B1211211\", \"count\": 32}, {\"cluster_8\": \"A2122222\", \"count\": 32}, {\"cluster_8\": \"A2221121\", \"count\": 32}, {\"cluster_8\": \"A2211121\", \"count\": 32}, {\"cluster_8\": \"A1222112\", \"count\": 32}, {\"cluster_8\": \"A2222212\", \"count\": 32}, {\"cluster_8\": \"A1212111\", \"count\": 32}, {\"cluster_8\": \"A2222111\", \"count\": 32}, {\"cluster_8\": \"A2221112\", \"count\": 31}, {\"cluster_8\": \"B2112111\", \"count\": 31}, {\"cluster_8\": \"B2222221\", \"count\": 31}, {\"cluster_8\": \"A1111222\", \"count\": 31}, {\"cluster_8\": \"B2212121\", \"count\": 31}, {\"cluster_8\": \"A1222122\", \"count\": 31}, {\"cluster_8\": \"A2222121\", \"count\": 31}, {\"cluster_8\": \"B2112211\", \"count\": 31}, {\"cluster_8\": \"A2222222\", \"count\": 31}, {\"cluster_8\": \"B2221122\", \"count\": 31}, {\"cluster_8\": \"A2211212\", \"count\": 31}, {\"cluster_8\": \"A2122221\", \"count\": 31}, {\"cluster_8\": \"A2122111\", \"count\": 31}, {\"cluster_8\": \"B1221121\", \"count\": 31}, {\"cluster_8\": \"B2112221\", \"count\": 30}, {\"cluster_8\": \"A1222221\", \"count\": 30}, {\"cluster_8\": \"B2211211\", \"count\": 30}, {\"cluster_8\": \"B1112112\", \"count\": 30}, {\"cluster_8\": \"B2111212\", \"count\": 30}, {\"cluster_8\": \"A2221211\", \"count\": 30}, {\"cluster_8\": \"A2221212\", \"count\": 30}, {\"cluster_8\": \"B1122122\", \"count\": 30}, {\"cluster_8\": \"B1122121\", \"count\": 30}, {\"cluster_8\": \"A2111112\", \"count\": 30}, {\"cluster_8\": \"A1112221\", \"count\": 30}, {\"cluster_8\": \"A1221222\", \"count\": 30}, {\"cluster_8\": \"A1212112\", \"count\": 30}, {\"cluster_8\": \"B2211212\", \"count\": 30}, {\"cluster_8\": \"A2212211\", \"count\": 30}, {\"cluster_8\": \"A1211112\", \"count\": 30}, {\"cluster_8\": \"B1212211\", \"count\": 29}, {\"cluster_8\": \"B1221212\", \"count\": 29}, {\"cluster_8\": \"B1211212\", \"count\": 29}, {\"cluster_8\": \"B2221111\", \"count\": 29}, {\"cluster_8\": \"A2222211\", \"count\": 29}, {\"cluster_8\": \"A2211221\", \"count\": 29}, {\"cluster_8\": \"B2111121\", \"count\": 29}, {\"cluster_8\": \"A1221212\", \"count\": 29}, {\"cluster_8\": \"A1221221\", \"count\": 29}, {\"cluster_8\": \"A1112122\", \"count\": 29}, {\"cluster_8\": \"A2212121\", \"count\": 29}, {\"cluster_8\": \"A1112121\", \"count\": 29}, {\"cluster_8\": \"B2112122\", \"count\": 29}, {\"cluster_8\": \"B1212221\", \"count\": 29}, {\"cluster_8\": \"B1111212\", \"count\": 29}, {\"cluster_8\": \"A1121111\", \"count\": 29}, {\"cluster_8\": \"B1212121\", \"count\": 29}, {\"cluster_8\": \"B2121122\", \"count\": 29}, {\"cluster_8\": \"B2121111\", \"count\": 29}, {\"cluster_8\": \"A1222211\", \"count\": 29}, {\"cluster_8\": \"B2221121\", \"count\": 29}, {\"cluster_8\": \"B2122221\", \"count\": 28}, {\"cluster_8\": \"A1211122\", \"count\": 28}, {\"cluster_8\": \"B1121221\", \"count\": 28}, {\"cluster_8\": \"A1121211\", \"count\": 28}, {\"cluster_8\": \"A2112212\", \"count\": 28}, {\"cluster_8\": \"B2122111\", \"count\": 28}, {\"cluster_8\": \"A1111111\", \"count\": 28}, {\"cluster_8\": \"B1122221\", \"count\": 28}, {\"cluster_8\": \"B1111222\", \"count\": 28}, {\"cluster_8\": \"A2112112\", \"count\": 28}, {\"cluster_8\": \"A2111212\", \"count\": 28}, {\"cluster_8\": \"B1222211\", \"count\": 28}, {\"cluster_8\": \"B1112211\", \"count\": 28}, {\"cluster_8\": \"A1212121\", \"count\": 28}, {\"cluster_8\": \"A2121221\", \"count\": 28}, {\"cluster_8\": \"A1221122\", \"count\": 28}, {\"cluster_8\": \"A1121122\", \"count\": 28}, {\"cluster_8\": \"B2112112\", \"count\": 28}, {\"cluster_8\": \"A2211222\", \"count\": 28}, {\"cluster_8\": \"B1222111\", \"count\": 27}, {\"cluster_8\": \"B1211121\", \"count\": 27}, {\"cluster_8\": \"B2121112\", \"count\": 27}, {\"cluster_8\": \"A2111211\", \"count\": 27}, {\"cluster_8\": \"B1211112\", \"count\": 27}, {\"cluster_8\": \"A2112211\", \"count\": 27}, {\"cluster_8\": \"A2222122\", \"count\": 27}, {\"cluster_8\": \"B2111111\", \"count\": 27}, {\"cluster_8\": \"A2112121\", \"count\": 27}, {\"cluster_8\": \"A1122122\", \"count\": 27}, {\"cluster_8\": \"A1111121\", \"count\": 27}, {\"cluster_8\": \"A2212222\", \"count\": 27}, {\"cluster_8\": \"B1222122\", \"count\": 27}, {\"cluster_8\": \"A2111121\", \"count\": 27}, {\"cluster_8\": \"A1222111\", \"count\": 27}, {\"cluster_8\": \"B1121211\", \"count\": 27}, {\"cluster_8\": \"A2211111\", \"count\": 27}, {\"cluster_8\": \"A2112222\", \"count\": 27}, {\"cluster_8\": \"B2211222\", \"count\": 27}, {\"cluster_8\": \"A1211121\", \"count\": 27}, {\"cluster_8\": \"B1211122\", \"count\": 27}, {\"cluster_8\": \"B2211111\", \"count\": 27}, {\"cluster_8\": \"B1212111\", \"count\": 27}, {\"cluster_8\": \"A1222222\", \"count\": 26}, {\"cluster_8\": \"A1112111\", \"count\": 26}, {\"cluster_8\": \"A1221121\", \"count\": 26}, {\"cluster_8\": \"A2221111\", \"count\": 26}, {\"cluster_8\": \"A1122211\", \"count\": 26}, {\"cluster_8\": \"B2122211\", \"count\": 26}, {\"cluster_8\": \"A1211222\", \"count\": 26}, {\"cluster_8\": \"B2212122\", \"count\": 26}, {\"cluster_8\": \"B2211112\", \"count\": 26}, {\"cluster_8\": \"B1222221\", \"count\": 26}, {\"cluster_8\": \"B1112122\", \"count\": 26}, {\"cluster_8\": \"B2222121\", \"count\": 26}, {\"cluster_8\": \"A2121112\", \"count\": 25}, {\"cluster_8\": \"B1211111\", \"count\": 25}, {\"cluster_8\": \"B2222122\", \"count\": 25}, {\"cluster_8\": \"B2121121\", \"count\": 25}, {\"cluster_8\": \"A1221111\", \"count\": 25}, {\"cluster_8\": \"A1111211\", \"count\": 25}, {\"cluster_8\": \"B1112222\", \"count\": 25}, {\"cluster_8\": \"B1111221\", \"count\": 25}, {\"cluster_8\": \"A2211122\", \"count\": 24}, {\"cluster_8\": \"A2212111\", \"count\": 24}, {\"cluster_8\": \"B2221212\", \"count\": 24}, {\"cluster_8\": \"B1222212\", \"count\": 24}, {\"cluster_8\": \"B1121112\", \"count\": 24}, {\"cluster_8\": \"A2112221\", \"count\": 24}, {\"cluster_8\": \"A1112112\", \"count\": 24}, {\"cluster_8\": \"B1212222\", \"count\": 24}, {\"cluster_8\": \"B1221211\", \"count\": 24}, {\"cluster_8\": \"B2222211\", \"count\": 24}, {\"cluster_8\": \"B1122112\", \"count\": 24}, {\"cluster_8\": \"B1122111\", \"count\": 24}, {\"cluster_8\": \"B2111221\", \"count\": 24}, {\"cluster_8\": \"A2112122\", \"count\": 24}, {\"cluster_8\": \"A2211112\", \"count\": 24}, {\"cluster_8\": \"B1221222\", \"count\": 23}, {\"cluster_8\": \"A2122211\", \"count\": 23}, {\"cluster_8\": \"B1121212\", \"count\": 23}, {\"cluster_8\": \"A2112111\", \"count\": 23}, {\"cluster_8\": \"A1212222\", \"count\": 23}, {\"cluster_8\": \"A2222112\", \"count\": 23}, {\"cluster_8\": \"B1211221\", \"count\": 22}, {\"cluster_8\": \"A2111221\", \"count\": 22}, {\"cluster_8\": \"B2212212\", \"count\": 22}, {\"cluster_8\": \"A2212122\", \"count\": 22}, {\"cluster_8\": \"B2222112\", \"count\": 22}, {\"cluster_8\": \"A1122112\", \"count\": 22}, {\"cluster_8\": \"B2111211\", \"count\": 22}, {\"cluster_8\": \"B1221221\", \"count\": 21}, {\"cluster_8\": \"B2121212\", \"count\": 21}, {\"cluster_8\": \"B2221211\", \"count\": 21}, {\"cluster_8\": \"B1121111\", \"count\": 21}, {\"cluster_8\": \"A1121212\", \"count\": 21}, {\"cluster_8\": \"B1112121\", \"count\": 21}, {\"cluster_8\": \"A2111222\", \"count\": 21}, {\"cluster_8\": \"B2221112\", \"count\": 20}, {\"cluster_8\": \"B1111112\", \"count\": 19}, {\"cluster_8\": \"A1212221\", \"count\": 18}, {\"cluster_8\": \"A1222121\", \"count\": 18}, {\"cluster_8\": \"A1122221\", \"count\": 17}, {\"cluster_8\": \"B2212112\", \"count\": 16}, {\"cluster_8\": \"A1212212\", \"count\": 15}, {\"cluster_8\": \"B1212122\", \"count\": 13}]}}, {\"mode\": \"vega-lite\"});\n",
       "</script>"
      ],
      "text/plain": [
       "alt.Chart(...)"
      ]
     },
     "metadata": {},
     "output_type": "display_data"
    }
   ],
   "source": [
    "show_b_stats('cluster_8', df_clustered)"
   ]
  },
  {
   "cell_type": "code",
   "execution_count": 78,
   "metadata": {},
   "outputs": [
    {
     "data": {
      "text/html": [
       "<div><style>\n",
       ".dataframe > thead > tr,\n",
       ".dataframe > tbody > tr {\n",
       "  text-align: right;\n",
       "  white-space: pre-wrap;\n",
       "}\n",
       "</style>\n",
       "<small>shape: (512, 2)</small><table border=\"1\" class=\"dataframe\"><thead><tr><th>cluster_9</th><th>count</th></tr><tr><td>str</td><td>u32</td></tr></thead><tbody><tr><td>&quot;B22122111&quot;</td><td>26</td></tr><tr><td>&quot;B11112111&quot;</td><td>25</td></tr><tr><td>&quot;A11122122&quot;</td><td>25</td></tr><tr><td>&quot;B22111221&quot;</td><td>24</td></tr><tr><td>&quot;B11121112&quot;</td><td>24</td></tr><tr><td>&hellip;</td><td>&hellip;</td></tr><tr><td>&quot;A22121112&quot;</td><td>7</td></tr><tr><td>&quot;B11112211&quot;</td><td>6</td></tr><tr><td>&quot;A11221121&quot;</td><td>6</td></tr><tr><td>&quot;B22121122&quot;</td><td>5</td></tr><tr><td>&quot;B12121221&quot;</td><td>3</td></tr></tbody></table></div>"
      ],
      "text/plain": [
       "shape: (512, 2)\n",
       "┌───────────┬───────┐\n",
       "│ cluster_9 ┆ count │\n",
       "│ ---       ┆ ---   │\n",
       "│ str       ┆ u32   │\n",
       "╞═══════════╪═══════╡\n",
       "│ B22122111 ┆ 26    │\n",
       "│ B11112111 ┆ 25    │\n",
       "│ A11122122 ┆ 25    │\n",
       "│ B22111221 ┆ 24    │\n",
       "│ B11121112 ┆ 24    │\n",
       "│ …         ┆ …     │\n",
       "│ A22121112 ┆ 7     │\n",
       "│ B11112211 ┆ 6     │\n",
       "│ A11221121 ┆ 6     │\n",
       "│ B22121122 ┆ 5     │\n",
       "│ B12121221 ┆ 3     │\n",
       "└───────────┴───────┘"
      ]
     },
     "metadata": {},
     "output_type": "display_data"
    },
    {
     "data": {
      "text/html": [
       "\n",
       "<style>\n",
       "  #altair-viz-fea6b937c7814a9db0a5eec7e8a3202a.vega-embed {\n",
       "    width: 100%;\n",
       "    display: flex;\n",
       "  }\n",
       "\n",
       "  #altair-viz-fea6b937c7814a9db0a5eec7e8a3202a.vega-embed details,\n",
       "  #altair-viz-fea6b937c7814a9db0a5eec7e8a3202a.vega-embed details summary {\n",
       "    position: relative;\n",
       "  }\n",
       "</style>\n",
       "<div id=\"altair-viz-fea6b937c7814a9db0a5eec7e8a3202a\"></div>\n",
       "<script type=\"text/javascript\">\n",
       "  var VEGA_DEBUG = (typeof VEGA_DEBUG == \"undefined\") ? {} : VEGA_DEBUG;\n",
       "  (function(spec, embedOpt){\n",
       "    let outputDiv = document.currentScript.previousElementSibling;\n",
       "    if (outputDiv.id !== \"altair-viz-fea6b937c7814a9db0a5eec7e8a3202a\") {\n",
       "      outputDiv = document.getElementById(\"altair-viz-fea6b937c7814a9db0a5eec7e8a3202a\");\n",
       "    }\n",
       "\n",
       "    const paths = {\n",
       "      \"vega\": \"https://cdn.jsdelivr.net/npm/vega@5?noext\",\n",
       "      \"vega-lib\": \"https://cdn.jsdelivr.net/npm/vega-lib?noext\",\n",
       "      \"vega-lite\": \"https://cdn.jsdelivr.net/npm/vega-lite@5.20.1?noext\",\n",
       "      \"vega-embed\": \"https://cdn.jsdelivr.net/npm/vega-embed@6?noext\",\n",
       "    };\n",
       "\n",
       "    function maybeLoadScript(lib, version) {\n",
       "      var key = `${lib.replace(\"-\", \"\")}_version`;\n",
       "      return (VEGA_DEBUG[key] == version) ?\n",
       "        Promise.resolve(paths[lib]) :\n",
       "        new Promise(function(resolve, reject) {\n",
       "          var s = document.createElement('script');\n",
       "          document.getElementsByTagName(\"head\")[0].appendChild(s);\n",
       "          s.async = true;\n",
       "          s.onload = () => {\n",
       "            VEGA_DEBUG[key] = version;\n",
       "            return resolve(paths[lib]);\n",
       "          };\n",
       "          s.onerror = () => reject(`Error loading script: ${paths[lib]}`);\n",
       "          s.src = paths[lib];\n",
       "        });\n",
       "    }\n",
       "\n",
       "    function showError(err) {\n",
       "      outputDiv.innerHTML = `<div class=\"error\" style=\"color:red;\">${err}</div>`;\n",
       "      throw err;\n",
       "    }\n",
       "\n",
       "    function displayChart(vegaEmbed) {\n",
       "      vegaEmbed(outputDiv, spec, embedOpt)\n",
       "        .catch(err => showError(`Javascript Error: ${err.message}<br>This usually means there's a typo in your chart specification. See the javascript console for the full traceback.`));\n",
       "    }\n",
       "\n",
       "    if(typeof define === \"function\" && define.amd) {\n",
       "      requirejs.config({paths});\n",
       "      let deps = [\"vega-embed\"];\n",
       "      require(deps, displayChart, err => showError(`Error loading script: ${err.message}`));\n",
       "    } else {\n",
       "      maybeLoadScript(\"vega\", \"5\")\n",
       "        .then(() => maybeLoadScript(\"vega-lite\", \"5.20.1\"))\n",
       "        .then(() => maybeLoadScript(\"vega-embed\", \"6\"))\n",
       "        .catch(showError)\n",
       "        .then(() => displayChart(vegaEmbed));\n",
       "    }\n",
       "  })({\"config\": {\"view\": {\"continuousWidth\": 300, \"continuousHeight\": 300}}, \"data\": {\"name\": \"data-bee3ae48d90503be47523ad666b2b953\"}, \"mark\": {\"type\": \"bar\", \"tooltip\": true}, \"encoding\": {\"color\": {\"field\": \"cluster_9\", \"type\": \"nominal\"}, \"x\": {\"field\": \"cluster_9\", \"type\": \"nominal\"}, \"y\": {\"field\": \"count\", \"type\": \"quantitative\"}}, \"params\": [{\"name\": \"param_30\", \"select\": {\"type\": \"interval\", \"encodings\": [\"x\", \"y\"]}, \"bind\": \"scales\"}], \"$schema\": \"https://vega.github.io/schema/vega-lite/v5.20.1.json\", \"datasets\": {\"data-bee3ae48d90503be47523ad666b2b953\": [{\"cluster_9\": \"B22122111\", \"count\": 26}, {\"cluster_9\": \"B11112111\", \"count\": 25}, {\"cluster_9\": \"A11122122\", \"count\": 25}, {\"cluster_9\": \"B22111221\", \"count\": 24}, {\"cluster_9\": \"B11121112\", \"count\": 24}, {\"cluster_9\": \"A21211111\", \"count\": 24}, {\"cluster_9\": \"B11111222\", \"count\": 23}, {\"cluster_9\": \"A11212212\", \"count\": 23}, {\"cluster_9\": \"A22212211\", \"count\": 23}, {\"cluster_9\": \"A22112112\", \"count\": 23}, {\"cluster_9\": \"A22211222\", \"count\": 23}, {\"cluster_9\": \"A22122121\", \"count\": 23}, {\"cluster_9\": \"A22122212\", \"count\": 23}, {\"cluster_9\": \"B21221222\", \"count\": 23}, {\"cluster_9\": \"A11122221\", \"count\": 23}, {\"cluster_9\": \"A12222122\", \"count\": 22}, {\"cluster_9\": \"A11122121\", \"count\": 22}, {\"cluster_9\": \"B11222111\", \"count\": 22}, {\"cluster_9\": \"A11212222\", \"count\": 22}, {\"cluster_9\": \"A11112122\", \"count\": 22}, {\"cluster_9\": \"A11212221\", \"count\": 22}, {\"cluster_9\": \"B21122121\", \"count\": 22}, {\"cluster_9\": \"B12222222\", \"count\": 22}, {\"cluster_9\": \"B21111122\", \"count\": 22}, {\"cluster_9\": \"A21211221\", \"count\": 22}, {\"cluster_9\": \"A21111112\", \"count\": 22}, {\"cluster_9\": \"B12221211\", \"count\": 22}, {\"cluster_9\": \"B22121111\", \"count\": 22}, {\"cluster_9\": \"A11211212\", \"count\": 22}, {\"cluster_9\": \"B11122212\", \"count\": 22}, {\"cluster_9\": \"A21212121\", \"count\": 21}, {\"cluster_9\": \"B12222221\", \"count\": 21}, {\"cluster_9\": \"B11222122\", \"count\": 21}, {\"cluster_9\": \"A21212111\", \"count\": 21}, {\"cluster_9\": \"B22212211\", \"count\": 21}, {\"cluster_9\": \"B12211222\", \"count\": 21}, {\"cluster_9\": \"B11211222\", \"count\": 21}, {\"cluster_9\": \"A21222211\", \"count\": 21}, {\"cluster_9\": \"B12122122\", \"count\": 21}, {\"cluster_9\": \"A11111222\", \"count\": 21}, {\"cluster_9\": \"B21111121\", \"count\": 21}, {\"cluster_9\": \"A22211221\", \"count\": 21}, {\"cluster_9\": \"A11122111\", \"count\": 20}, {\"cluster_9\": \"B21212212\", \"count\": 20}, {\"cluster_9\": \"A21221211\", \"count\": 20}, {\"cluster_9\": \"B22211222\", \"count\": 20}, {\"cluster_9\": \"A12112211\", \"count\": 20}, {\"cluster_9\": \"B21222121\", \"count\": 20}, {\"cluster_9\": \"A22122221\", \"count\": 20}, {\"cluster_9\": \"B11211211\", \"count\": 20}, {\"cluster_9\": \"A22122111\", \"count\": 20}, {\"cluster_9\": \"B21221211\", \"count\": 20}, {\"cluster_9\": \"B22221112\", \"count\": 20}, {\"cluster_9\": \"B12121212\", \"count\": 20}, {\"cluster_9\": \"B21222122\", \"count\": 20}, {\"cluster_9\": \"B21212222\", \"count\": 20}, {\"cluster_9\": \"A21222222\", \"count\": 20}, {\"cluster_9\": \"B22212222\", \"count\": 20}, {\"cluster_9\": \"A22212122\", \"count\": 20}, {\"cluster_9\": \"A12122111\", \"count\": 20}, {\"cluster_9\": \"A22222121\", \"count\": 20}, {\"cluster_9\": \"B21111221\", \"count\": 20}, {\"cluster_9\": \"A21211211\", \"count\": 20}, {\"cluster_9\": \"A21221122\", \"count\": 20}, {\"cluster_9\": \"B11121111\", \"count\": 20}, {\"cluster_9\": \"B21222221\", \"count\": 20}, {\"cluster_9\": \"A21111222\", \"count\": 20}, {\"cluster_9\": \"B12211121\", \"count\": 20}, {\"cluster_9\": \"B21212211\", \"count\": 19}, {\"cluster_9\": \"B11222222\", \"count\": 19}, {\"cluster_9\": \"A22221211\", \"count\": 19}, {\"cluster_9\": \"A11211222\", \"count\": 19}, {\"cluster_9\": \"A12111112\", \"count\": 19}, {\"cluster_9\": \"B21122211\", \"count\": 19}, {\"cluster_9\": \"B12122121\", \"count\": 19}, {\"cluster_9\": \"A12212111\", \"count\": 19}, {\"cluster_9\": \"B22211212\", \"count\": 19}, {\"cluster_9\": \"B11112212\", \"count\": 19}, {\"cluster_9\": \"A21221221\", \"count\": 19}, {\"cluster_9\": \"B11111111\", \"count\": 19}, {\"cluster_9\": \"B22122221\", \"count\": 19}, {\"cluster_9\": \"A11211122\", \"count\": 19}, {\"cluster_9\": \"B11111212\", \"count\": 19}, {\"cluster_9\": \"B11111211\", \"count\": 19}, {\"cluster_9\": \"A21212221\", \"count\": 19}, {\"cluster_9\": \"A12222211\", \"count\": 19}, {\"cluster_9\": \"A11122212\", \"count\": 19}, {\"cluster_9\": \"A11222221\", \"count\": 19}, {\"cluster_9\": \"A21221212\", \"count\": 19}, {\"cluster_9\": \"B11212221\", \"count\": 19}, {\"cluster_9\": \"B11112112\", \"count\": 19}, {\"cluster_9\": \"B12221121\", \"count\": 19}, {\"cluster_9\": \"B21221121\", \"count\": 19}, {\"cluster_9\": \"A11221211\", \"count\": 19}, {\"cluster_9\": \"A11221212\", \"count\": 19}, {\"cluster_9\": \"A22222211\", \"count\": 19}, {\"cluster_9\": \"A12212212\", \"count\": 19}, {\"cluster_9\": \"B22112111\", \"count\": 18}, {\"cluster_9\": \"B22111211\", \"count\": 18}, {\"cluster_9\": \"B11112221\", \"count\": 18}, {\"cluster_9\": \"A12112122\", \"count\": 18}, {\"cluster_9\": \"A11111121\", \"count\": 18}, {\"cluster_9\": \"A12221122\", \"count\": 18}, {\"cluster_9\": \"A21222122\", \"count\": 18}, {\"cluster_9\": \"B21222111\", \"count\": 18}, {\"cluster_9\": \"B12222112\", \"count\": 18}, {\"cluster_9\": \"A21112122\", \"count\": 18}, {\"cluster_9\": \"B21122111\", \"count\": 18}, {\"cluster_9\": \"A12222221\", \"count\": 18}, {\"cluster_9\": \"A22212111\", \"count\": 18}, {\"cluster_9\": \"B21212112\", \"count\": 18}, {\"cluster_9\": \"B11211221\", \"count\": 18}, {\"cluster_9\": \"B22122211\", \"count\": 18}, {\"cluster_9\": \"A22212221\", \"count\": 18}, {\"cluster_9\": \"B22222211\", \"count\": 18}, {\"cluster_9\": \"A12111221\", \"count\": 18}, {\"cluster_9\": \"A22121122\", \"count\": 18}, {\"cluster_9\": \"A21211112\", \"count\": 18}, {\"cluster_9\": \"A11112211\", \"count\": 18}, {\"cluster_9\": \"A11121221\", \"count\": 18}, {\"cluster_9\": \"B21221212\", \"count\": 18}, {\"cluster_9\": \"B22211112\", \"count\": 18}, {\"cluster_9\": \"B22222121\", \"count\": 18}, {\"cluster_9\": \"A11221112\", \"count\": 18}, {\"cluster_9\": \"B12112221\", \"count\": 18}, {\"cluster_9\": \"A11222222\", \"count\": 18}, {\"cluster_9\": \"B12221122\", \"count\": 18}, {\"cluster_9\": \"A12121221\", \"count\": 18}, {\"cluster_9\": \"A21122222\", \"count\": 18}, {\"cluster_9\": \"A12112121\", \"count\": 18}, {\"cluster_9\": \"A21111221\", \"count\": 18}, {\"cluster_9\": \"A12222112\", \"count\": 18}, {\"cluster_9\": \"B22112121\", \"count\": 18}, {\"cluster_9\": \"B21121111\", \"count\": 18}, {\"cluster_9\": \"B21112222\", \"count\": 18}, {\"cluster_9\": \"B21122122\", \"count\": 18}, {\"cluster_9\": \"A11212112\", \"count\": 18}, {\"cluster_9\": \"A11122222\", \"count\": 18}, {\"cluster_9\": \"A11112212\", \"count\": 18}, {\"cluster_9\": \"A21222121\", \"count\": 18}, {\"cluster_9\": \"A11221111\", \"count\": 17}, {\"cluster_9\": \"B11211212\", \"count\": 17}, {\"cluster_9\": \"A22221221\", \"count\": 17}, {\"cluster_9\": \"B11121221\", \"count\": 17}, {\"cluster_9\": \"A22222212\", \"count\": 17}, {\"cluster_9\": \"A12112111\", \"count\": 17}, {\"cluster_9\": \"B12211111\", \"count\": 17}, {\"cluster_9\": \"B11111221\", \"count\": 17}, {\"cluster_9\": \"B21222212\", \"count\": 17}, {\"cluster_9\": \"B22222222\", \"count\": 17}, {\"cluster_9\": \"A11222121\", \"count\": 17}, {\"cluster_9\": \"B22122112\", \"count\": 17}, {\"cluster_9\": \"A21221111\", \"count\": 17}, {\"cluster_9\": \"B12211221\", \"count\": 17}, {\"cluster_9\": \"A12121222\", \"count\": 17}, {\"cluster_9\": \"A11212211\", \"count\": 17}, {\"cluster_9\": \"A12212122\", \"count\": 17}, {\"cluster_9\": \"A12211121\", \"count\": 17}, {\"cluster_9\": \"A21111122\", \"count\": 17}, {\"cluster_9\": \"A21112111\", \"count\": 17}, {\"cluster_9\": \"B21112221\", \"count\": 17}, {\"cluster_9\": \"A21122111\", \"count\": 17}, {\"cluster_9\": \"B12112112\", \"count\": 17}, {\"cluster_9\": \"A11112121\", \"count\": 17}, {\"cluster_9\": \"A22221112\", \"count\": 17}, {\"cluster_9\": \"B11122121\", \"count\": 17}, {\"cluster_9\": \"A11121122\", \"count\": 17}, {\"cluster_9\": \"A21122122\", \"count\": 17}, {\"cluster_9\": \"A22121111\", \"count\": 17}, {\"cluster_9\": \"B12211211\", \"count\": 17}, {\"cluster_9\": \"A22211212\", \"count\": 17}, {\"cluster_9\": \"B12222211\", \"count\": 17}, {\"cluster_9\": \"A21212211\", \"count\": 17}, {\"cluster_9\": \"B22121212\", \"count\": 17}, {\"cluster_9\": \"A12221221\", \"count\": 17}, {\"cluster_9\": \"B21122221\", \"count\": 17}, {\"cluster_9\": \"B11221211\", \"count\": 17}, {\"cluster_9\": \"B21121121\", \"count\": 17}, {\"cluster_9\": \"A22121212\", \"count\": 17}, {\"cluster_9\": \"B21121211\", \"count\": 17}, {\"cluster_9\": \"A11211111\", \"count\": 17}, {\"cluster_9\": \"B12211122\", \"count\": 17}, {\"cluster_9\": \"A12121121\", \"count\": 17}, {\"cluster_9\": \"B11122122\", \"count\": 17}, {\"cluster_9\": \"B12212122\", \"count\": 17}, {\"cluster_9\": \"B11222212\", \"count\": 17}, {\"cluster_9\": \"B22222221\", \"count\": 17}, {\"cluster_9\": \"A22111212\", \"count\": 16}, {\"cluster_9\": \"B11221222\", \"count\": 16}, {\"cluster_9\": \"A12112112\", \"count\": 16}, {\"cluster_9\": \"A22112121\", \"count\": 16}, {\"cluster_9\": \"A12212222\", \"count\": 16}, {\"cluster_9\": \"A11222122\", \"count\": 16}, {\"cluster_9\": \"B12111211\", \"count\": 16}, {\"cluster_9\": \"A21111111\", \"count\": 16}, {\"cluster_9\": \"B11212111\", \"count\": 16}, {\"cluster_9\": \"A12121111\", \"count\": 16}, {\"cluster_9\": \"B21112121\", \"count\": 16}, {\"cluster_9\": \"B21221111\", \"count\": 16}, {\"cluster_9\": \"A11112222\", \"count\": 16}, {\"cluster_9\": \"B12212112\", \"count\": 16}, {\"cluster_9\": \"B11122222\", \"count\": 16}, {\"cluster_9\": \"B12221112\", \"count\": 16}, {\"cluster_9\": \"A11221122\", \"count\": 16}, {\"cluster_9\": \"A22222222\", \"count\": 16}, {\"cluster_9\": \"A11211121\", \"count\": 16}, {\"cluster_9\": \"B21121221\", \"count\": 16}, {\"cluster_9\": \"A11121111\", \"count\": 16}, {\"cluster_9\": \"B22221212\", \"count\": 16}, {\"cluster_9\": \"B11222221\", \"count\": 16}, {\"cluster_9\": \"B12121122\", \"count\": 16}, {\"cluster_9\": \"B22112222\", \"count\": 16}, {\"cluster_9\": \"B12221222\", \"count\": 16}, {\"cluster_9\": \"B21212111\", \"count\": 16}, {\"cluster_9\": \"A22211111\", \"count\": 16}, {\"cluster_9\": \"B12112122\", \"count\": 16}, {\"cluster_9\": \"B22221111\", \"count\": 16}, {\"cluster_9\": \"B22111212\", \"count\": 16}, {\"cluster_9\": \"A12121212\", \"count\": 16}, {\"cluster_9\": \"A12111111\", \"count\": 16}, {\"cluster_9\": \"A11221222\", \"count\": 16}, {\"cluster_9\": \"B21121212\", \"count\": 16}, {\"cluster_9\": \"A22211121\", \"count\": 16}, {\"cluster_9\": \"B11222112\", \"count\": 16}, {\"cluster_9\": \"A11111212\", \"count\": 16}, {\"cluster_9\": \"B22112211\", \"count\": 16}, {\"cluster_9\": \"B22122212\", \"count\": 16}, {\"cluster_9\": \"B12122111\", \"count\": 16}, {\"cluster_9\": \"B22112212\", \"count\": 16}, {\"cluster_9\": \"A12111122\", \"count\": 16}, {\"cluster_9\": \"A21221121\", \"count\": 16}, {\"cluster_9\": \"A22111211\", \"count\": 16}, {\"cluster_9\": \"B21122222\", \"count\": 16}, {\"cluster_9\": \"B22222122\", \"count\": 16}, {\"cluster_9\": \"B12121121\", \"count\": 16}, {\"cluster_9\": \"B21211221\", \"count\": 16}, {\"cluster_9\": \"B21211212\", \"count\": 16}, {\"cluster_9\": \"A12121112\", \"count\": 16}, {\"cluster_9\": \"A11112221\", \"count\": 15}, {\"cluster_9\": \"A22211211\", \"count\": 15}, {\"cluster_9\": \"A22221111\", \"count\": 15}, {\"cluster_9\": \"B21211111\", \"count\": 15}, {\"cluster_9\": \"A12211221\", \"count\": 15}, {\"cluster_9\": \"A22122211\", \"count\": 15}, {\"cluster_9\": \"A22121121\", \"count\": 15}, {\"cluster_9\": \"B12112222\", \"count\": 15}, {\"cluster_9\": \"A22222221\", \"count\": 15}, {\"cluster_9\": \"A11121212\", \"count\": 15}, {\"cluster_9\": \"A11111221\", \"count\": 15}, {\"cluster_9\": \"B11112122\", \"count\": 15}, {\"cluster_9\": \"B11121122\", \"count\": 15}, {\"cluster_9\": \"B11111112\", \"count\": 15}, {\"cluster_9\": \"B21221122\", \"count\": 15}, {\"cluster_9\": \"A12211122\", \"count\": 15}, {\"cluster_9\": \"A22222111\", \"count\": 15}, {\"cluster_9\": \"A12212112\", \"count\": 15}, {\"cluster_9\": \"B22221222\", \"count\": 15}, {\"cluster_9\": \"A11122112\", \"count\": 15}, {\"cluster_9\": \"A12111211\", \"count\": 15}, {\"cluster_9\": \"B12112111\", \"count\": 15}, {\"cluster_9\": \"B11221121\", \"count\": 15}, {\"cluster_9\": \"A22211122\", \"count\": 15}, {\"cluster_9\": \"B12111222\", \"count\": 15}, {\"cluster_9\": \"B11212212\", \"count\": 15}, {\"cluster_9\": \"A22112122\", \"count\": 15}, {\"cluster_9\": \"A12221111\", \"count\": 15}, {\"cluster_9\": \"A22111122\", \"count\": 15}, {\"cluster_9\": \"B12122212\", \"count\": 15}, {\"cluster_9\": \"B12211112\", \"count\": 15}, {\"cluster_9\": \"A22112111\", \"count\": 15}, {\"cluster_9\": \"A21211122\", \"count\": 15}, {\"cluster_9\": \"B21111212\", \"count\": 15}, {\"cluster_9\": \"A21111211\", \"count\": 15}, {\"cluster_9\": \"B11122112\", \"count\": 15}, {\"cluster_9\": \"A22112212\", \"count\": 15}, {\"cluster_9\": \"B11121121\", \"count\": 15}, {\"cluster_9\": \"B22221121\", \"count\": 15}, {\"cluster_9\": \"A11222111\", \"count\": 15}, {\"cluster_9\": \"A22122122\", \"count\": 15}, {\"cluster_9\": \"B21111211\", \"count\": 14}, {\"cluster_9\": \"B12212222\", \"count\": 14}, {\"cluster_9\": \"A22221122\", \"count\": 14}, {\"cluster_9\": \"A12212221\", \"count\": 14}, {\"cluster_9\": \"B21211112\", \"count\": 14}, {\"cluster_9\": \"A11111122\", \"count\": 14}, {\"cluster_9\": \"B12211212\", \"count\": 14}, {\"cluster_9\": \"A11211211\", \"count\": 14}, {\"cluster_9\": \"A12221222\", \"count\": 14}, {\"cluster_9\": \"B12222121\", \"count\": 14}, {\"cluster_9\": \"A21121121\", \"count\": 14}, {\"cluster_9\": \"B22111111\", \"count\": 14}, {\"cluster_9\": \"B21221221\", \"count\": 14}, {\"cluster_9\": \"B21112122\", \"count\": 14}, {\"cluster_9\": \"B21111112\", \"count\": 14}, {\"cluster_9\": \"A12122112\", \"count\": 14}, {\"cluster_9\": \"B11221221\", \"count\": 14}, {\"cluster_9\": \"A22112222\", \"count\": 14}, {\"cluster_9\": \"A22112221\", \"count\": 14}, {\"cluster_9\": \"A22112211\", \"count\": 14}, {\"cluster_9\": \"B11112121\", \"count\": 14}, {\"cluster_9\": \"A22222112\", \"count\": 14}, {\"cluster_9\": \"B22121222\", \"count\": 14}, {\"cluster_9\": \"A22111221\", \"count\": 14}, {\"cluster_9\": \"B21112212\", \"count\": 14}, {\"cluster_9\": \"B22121211\", \"count\": 14}, {\"cluster_9\": \"B12111121\", \"count\": 14}, {\"cluster_9\": \"A12211112\", \"count\": 14}, {\"cluster_9\": \"A21221222\", \"count\": 14}, {\"cluster_9\": \"A22212222\", \"count\": 14}, {\"cluster_9\": \"A21121211\", \"count\": 14}, {\"cluster_9\": \"B12122211\", \"count\": 14}, {\"cluster_9\": \"B11222121\", \"count\": 14}, {\"cluster_9\": \"A21121111\", \"count\": 14}, {\"cluster_9\": \"A12111121\", \"count\": 14}, {\"cluster_9\": \"A21121122\", \"count\": 14}, {\"cluster_9\": \"A12221121\", \"count\": 14}, {\"cluster_9\": \"A11111112\", \"count\": 14}, {\"cluster_9\": \"A21212222\", \"count\": 14}, {\"cluster_9\": \"A21221112\", \"count\": 14}, {\"cluster_9\": \"A11121211\", \"count\": 14}, {\"cluster_9\": \"B22122222\", \"count\": 14}, {\"cluster_9\": \"B22111121\", \"count\": 14}, {\"cluster_9\": \"B12121112\", \"count\": 14}, {\"cluster_9\": \"A12112222\", \"count\": 14}, {\"cluster_9\": \"B21222222\", \"count\": 14}, {\"cluster_9\": \"B11221112\", \"count\": 14}, {\"cluster_9\": \"A22111112\", \"count\": 14}, {\"cluster_9\": \"B22212212\", \"count\": 14}, {\"cluster_9\": \"B11212222\", \"count\": 14}, {\"cluster_9\": \"B21211122\", \"count\": 14}, {\"cluster_9\": \"A11111111\", \"count\": 14}, {\"cluster_9\": \"B22111222\", \"count\": 14}, {\"cluster_9\": \"B12112121\", \"count\": 13}, {\"cluster_9\": \"A21112222\", \"count\": 13}, {\"cluster_9\": \"A21121222\", \"count\": 13}, {\"cluster_9\": \"B21211121\", \"count\": 13}, {\"cluster_9\": \"A21211212\", \"count\": 13}, {\"cluster_9\": \"B21111111\", \"count\": 13}, {\"cluster_9\": \"B11221212\", \"count\": 13}, {\"cluster_9\": \"B22222212\", \"count\": 13}, {\"cluster_9\": \"B12122222\", \"count\": 13}, {\"cluster_9\": \"B12121111\", \"count\": 13}, {\"cluster_9\": \"B21212221\", \"count\": 13}, {\"cluster_9\": \"B21212122\", \"count\": 13}, {\"cluster_9\": \"B21211222\", \"count\": 13}, {\"cluster_9\": \"A12211211\", \"count\": 13}, {\"cluster_9\": \"B12122112\", \"count\": 13}, {\"cluster_9\": \"B12111111\", \"count\": 13}, {\"cluster_9\": \"A12112212\", \"count\": 13}, {\"cluster_9\": \"B21121222\", \"count\": 13}, {\"cluster_9\": \"B22122121\", \"count\": 13}, {\"cluster_9\": \"A21111121\", \"count\": 13}, {\"cluster_9\": \"A21211222\", \"count\": 13}, {\"cluster_9\": \"A11212121\", \"count\": 13}, {\"cluster_9\": \"B22111112\", \"count\": 13}, {\"cluster_9\": \"A12121122\", \"count\": 13}, {\"cluster_9\": \"B12111122\", \"count\": 13}, {\"cluster_9\": \"A21121212\", \"count\": 13}, {\"cluster_9\": \"B21111222\", \"count\": 13}, {\"cluster_9\": \"B21122112\", \"count\": 13}, {\"cluster_9\": \"B11211121\", \"count\": 13}, {\"cluster_9\": \"A12211212\", \"count\": 13}, {\"cluster_9\": \"A21222112\", \"count\": 13}, {\"cluster_9\": \"B11212211\", \"count\": 13}, {\"cluster_9\": \"A22212212\", \"count\": 13}, {\"cluster_9\": \"A11112111\", \"count\": 13}, {\"cluster_9\": \"A22111111\", \"count\": 13}, {\"cluster_9\": \"B21121112\", \"count\": 13}, {\"cluster_9\": \"A12122221\", \"count\": 13}, {\"cluster_9\": \"B11122111\", \"count\": 13}, {\"cluster_9\": \"B22212221\", \"count\": 13}, {\"cluster_9\": \"A12211222\", \"count\": 13}, {\"cluster_9\": \"B22222112\", \"count\": 13}, {\"cluster_9\": \"B22211121\", \"count\": 12}, {\"cluster_9\": \"B22121221\", \"count\": 12}, {\"cluster_9\": \"A11112112\", \"count\": 12}, {\"cluster_9\": \"A22121222\", \"count\": 12}, {\"cluster_9\": \"A21212112\", \"count\": 12}, {\"cluster_9\": \"A12121211\", \"count\": 12}, {\"cluster_9\": \"A22222122\", \"count\": 12}, {\"cluster_9\": \"A12111212\", \"count\": 12}, {\"cluster_9\": \"A22121211\", \"count\": 12}, {\"cluster_9\": \"A21212122\", \"count\": 12}, {\"cluster_9\": \"A22221212\", \"count\": 12}, {\"cluster_9\": \"A12221112\", \"count\": 12}, {\"cluster_9\": \"A21111212\", \"count\": 12}, {\"cluster_9\": \"A21122211\", \"count\": 12}, {\"cluster_9\": \"A21222221\", \"count\": 12}, {\"cluster_9\": \"B22121112\", \"count\": 12}, {\"cluster_9\": \"B22212121\", \"count\": 12}, {\"cluster_9\": \"B21221112\", \"count\": 12}, {\"cluster_9\": \"B22112122\", \"count\": 12}, {\"cluster_9\": \"B22111122\", \"count\": 12}, {\"cluster_9\": \"B12111221\", \"count\": 12}, {\"cluster_9\": \"A21122212\", \"count\": 12}, {\"cluster_9\": \"A22212112\", \"count\": 12}, {\"cluster_9\": \"B12111112\", \"count\": 12}, {\"cluster_9\": \"B12212211\", \"count\": 12}, {\"cluster_9\": \"B11122211\", \"count\": 12}, {\"cluster_9\": \"A12112221\", \"count\": 12}, {\"cluster_9\": \"B12212121\", \"count\": 12}, {\"cluster_9\": \"B11211112\", \"count\": 12}, {\"cluster_9\": \"A21112212\", \"count\": 12}, {\"cluster_9\": \"B22212122\", \"count\": 12}, {\"cluster_9\": \"B12221212\", \"count\": 12}, {\"cluster_9\": \"B22112112\", \"count\": 12}, {\"cluster_9\": \"B11212122\", \"count\": 12}, {\"cluster_9\": \"A12212121\", \"count\": 12}, {\"cluster_9\": \"A11211112\", \"count\": 12}, {\"cluster_9\": \"B22112221\", \"count\": 11}, {\"cluster_9\": \"B11222211\", \"count\": 11}, {\"cluster_9\": \"B12122221\", \"count\": 11}, {\"cluster_9\": \"B22211111\", \"count\": 11}, {\"cluster_9\": \"B22121121\", \"count\": 11}, {\"cluster_9\": \"A11221221\", \"count\": 11}, {\"cluster_9\": \"B11121212\", \"count\": 11}, {\"cluster_9\": \"B22222111\", \"count\": 11}, {\"cluster_9\": \"B21121122\", \"count\": 11}, {\"cluster_9\": \"B21222211\", \"count\": 11}, {\"cluster_9\": \"B21122212\", \"count\": 11}, {\"cluster_9\": \"B11212112\", \"count\": 11}, {\"cluster_9\": \"A21212212\", \"count\": 11}, {\"cluster_9\": \"B12112212\", \"count\": 11}, {\"cluster_9\": \"B12221221\", \"count\": 11}, {\"cluster_9\": \"B22211221\", \"count\": 11}, {\"cluster_9\": \"A21121221\", \"count\": 11}, {\"cluster_9\": \"A11111211\", \"count\": 11}, {\"cluster_9\": \"B11211122\", \"count\": 11}, {\"cluster_9\": \"B21112112\", \"count\": 11}, {\"cluster_9\": \"B12112211\", \"count\": 11}, {\"cluster_9\": \"A21122121\", \"count\": 11}, {\"cluster_9\": \"B12111212\", \"count\": 11}, {\"cluster_9\": \"A12211111\", \"count\": 11}, {\"cluster_9\": \"A12222212\", \"count\": 11}, {\"cluster_9\": \"B11212121\", \"count\": 11}, {\"cluster_9\": \"B21112111\", \"count\": 11}, {\"cluster_9\": \"A12222111\", \"count\": 11}, {\"cluster_9\": \"A11121222\", \"count\": 11}, {\"cluster_9\": \"A11222112\", \"count\": 11}, {\"cluster_9\": \"B22212111\", \"count\": 11}, {\"cluster_9\": \"A11122211\", \"count\": 11}, {\"cluster_9\": \"A12222121\", \"count\": 11}, {\"cluster_9\": \"B12221111\", \"count\": 11}, {\"cluster_9\": \"B22221211\", \"count\": 10}, {\"cluster_9\": \"B22221221\", \"count\": 10}, {\"cluster_9\": \"B22211211\", \"count\": 10}, {\"cluster_9\": \"B22212112\", \"count\": 10}, {\"cluster_9\": \"B21112211\", \"count\": 10}, {\"cluster_9\": \"A12122222\", \"count\": 10}, {\"cluster_9\": \"B12222111\", \"count\": 10}, {\"cluster_9\": \"A12122212\", \"count\": 10}, {\"cluster_9\": \"A22121221\", \"count\": 10}, {\"cluster_9\": \"A21222212\", \"count\": 10}, {\"cluster_9\": \"A22221222\", \"count\": 10}, {\"cluster_9\": \"B11121211\", \"count\": 10}, {\"cluster_9\": \"A12212211\", \"count\": 10}, {\"cluster_9\": \"A21211121\", \"count\": 10}, {\"cluster_9\": \"B11221111\", \"count\": 10}, {\"cluster_9\": \"A22211112\", \"count\": 10}, {\"cluster_9\": \"B11111122\", \"count\": 10}, {\"cluster_9\": \"A22122112\", \"count\": 10}, {\"cluster_9\": \"A12111222\", \"count\": 10}, {\"cluster_9\": \"A12221212\", \"count\": 10}, {\"cluster_9\": \"A21222111\", \"count\": 10}, {\"cluster_9\": \"A21122112\", \"count\": 10}, {\"cluster_9\": \"B11112222\", \"count\": 10}, {\"cluster_9\": \"A21112121\", \"count\": 10}, {\"cluster_9\": \"A21112211\", \"count\": 10}, {\"cluster_9\": \"A22212121\", \"count\": 10}, {\"cluster_9\": \"B12222122\", \"count\": 10}, {\"cluster_9\": \"A21112112\", \"count\": 10}, {\"cluster_9\": \"A11212111\", \"count\": 10}, {\"cluster_9\": \"B12121222\", \"count\": 10}, {\"cluster_9\": \"A11121112\", \"count\": 10}, {\"cluster_9\": \"A22111222\", \"count\": 10}, {\"cluster_9\": \"B12212212\", \"count\": 9}, {\"cluster_9\": \"A22221121\", \"count\": 9}, {\"cluster_9\": \"B11111121\", \"count\": 9}, {\"cluster_9\": \"A11211221\", \"count\": 9}, {\"cluster_9\": \"B12212221\", \"count\": 9}, {\"cluster_9\": \"A22111121\", \"count\": 9}, {\"cluster_9\": \"B12222212\", \"count\": 9}, {\"cluster_9\": \"B11122221\", \"count\": 9}, {\"cluster_9\": \"B11121222\", \"count\": 9}, {\"cluster_9\": \"A11222211\", \"count\": 9}, {\"cluster_9\": \"B12121211\", \"count\": 9}, {\"cluster_9\": \"B11211111\", \"count\": 9}, {\"cluster_9\": \"B22122122\", \"count\": 9}, {\"cluster_9\": \"B11221122\", \"count\": 9}, {\"cluster_9\": \"B21211211\", \"count\": 9}, {\"cluster_9\": \"A21122221\", \"count\": 9}, {\"cluster_9\": \"A21121112\", \"count\": 9}, {\"cluster_9\": \"A11222212\", \"count\": 8}, {\"cluster_9\": \"A12122122\", \"count\": 8}, {\"cluster_9\": \"A12222222\", \"count\": 8}, {\"cluster_9\": \"A11212122\", \"count\": 8}, {\"cluster_9\": \"A12122211\", \"count\": 8}, {\"cluster_9\": \"A12221211\", \"count\": 8}, {\"cluster_9\": \"B21212121\", \"count\": 8}, {\"cluster_9\": \"B12212111\", \"count\": 8}, {\"cluster_9\": \"B21222112\", \"count\": 8}, {\"cluster_9\": \"A21112221\", \"count\": 8}, {\"cluster_9\": \"B22211122\", \"count\": 8}, {\"cluster_9\": \"B22221122\", \"count\": 7}, {\"cluster_9\": \"A11121121\", \"count\": 7}, {\"cluster_9\": \"A22122222\", \"count\": 7}, {\"cluster_9\": \"A12122121\", \"count\": 7}, {\"cluster_9\": \"A22121112\", \"count\": 7}, {\"cluster_9\": \"B11112211\", \"count\": 6}, {\"cluster_9\": \"A11221121\", \"count\": 6}, {\"cluster_9\": \"B22121122\", \"count\": 5}, {\"cluster_9\": \"B12121221\", \"count\": 3}]}}, {\"mode\": \"vega-lite\"});\n",
       "</script>"
      ],
      "text/plain": [
       "alt.Chart(...)"
      ]
     },
     "metadata": {},
     "output_type": "display_data"
    }
   ],
   "source": [
    "show_b_stats('cluster_9', df_clustered)"
   ]
  },
  {
   "cell_type": "code",
   "execution_count": 81,
   "metadata": {},
   "outputs": [
    {
     "data": {
      "text/html": [
       "<div><style>\n",
       ".dataframe > thead > tr,\n",
       ".dataframe > tbody > tr {\n",
       "  text-align: right;\n",
       "  white-space: pre-wrap;\n",
       "}\n",
       "</style>\n",
       "<small>shape: (1_023, 2)</small><table border=\"1\" class=\"dataframe\"><thead><tr><th>cluster_10</th><th>count</th></tr><tr><td>str</td><td>u32</td></tr></thead><tbody><tr><td>&quot;A221222121&quot;</td><td>16</td></tr><tr><td>&quot;A111221222&quot;</td><td>16</td></tr><tr><td>&quot;A221211221&quot;</td><td>15</td></tr><tr><td>&quot;B221221111&quot;</td><td>15</td></tr><tr><td>&quot;B211221211&quot;</td><td>15</td></tr><tr><td>&hellip;</td><td>&hellip;</td></tr><tr><td>&quot;B122122212&quot;</td><td>2</td></tr><tr><td>&quot;B222221111&quot;</td><td>2</td></tr><tr><td>&quot;B222211221&quot;</td><td>1</td></tr><tr><td>&quot;B211211222&quot;</td><td>1</td></tr><tr><td>&quot;B111122221&quot;</td><td>1</td></tr></tbody></table></div>"
      ],
      "text/plain": [
       "shape: (1_023, 2)\n",
       "┌────────────┬───────┐\n",
       "│ cluster_10 ┆ count │\n",
       "│ ---        ┆ ---   │\n",
       "│ str        ┆ u32   │\n",
       "╞════════════╪═══════╡\n",
       "│ A221222121 ┆ 16    │\n",
       "│ A111221222 ┆ 16    │\n",
       "│ A221211221 ┆ 15    │\n",
       "│ B221221111 ┆ 15    │\n",
       "│ B211221211 ┆ 15    │\n",
       "│ …          ┆ …     │\n",
       "│ B122122212 ┆ 2     │\n",
       "│ B222221111 ┆ 2     │\n",
       "│ B222211221 ┆ 1     │\n",
       "│ B211211222 ┆ 1     │\n",
       "│ B111122221 ┆ 1     │\n",
       "└────────────┴───────┘"
      ]
     },
     "metadata": {},
     "output_type": "display_data"
    },
    {
     "data": {
      "text/html": [
       "\n",
       "<style>\n",
       "  #altair-viz-e3c1ef22468043bcbd2ca7a971b1c651.vega-embed {\n",
       "    width: 100%;\n",
       "    display: flex;\n",
       "  }\n",
       "\n",
       "  #altair-viz-e3c1ef22468043bcbd2ca7a971b1c651.vega-embed details,\n",
       "  #altair-viz-e3c1ef22468043bcbd2ca7a971b1c651.vega-embed details summary {\n",
       "    position: relative;\n",
       "  }\n",
       "</style>\n",
       "<div id=\"altair-viz-e3c1ef22468043bcbd2ca7a971b1c651\"></div>\n",
       "<script type=\"text/javascript\">\n",
       "  var VEGA_DEBUG = (typeof VEGA_DEBUG == \"undefined\") ? {} : VEGA_DEBUG;\n",
       "  (function(spec, embedOpt){\n",
       "    let outputDiv = document.currentScript.previousElementSibling;\n",
       "    if (outputDiv.id !== \"altair-viz-e3c1ef22468043bcbd2ca7a971b1c651\") {\n",
       "      outputDiv = document.getElementById(\"altair-viz-e3c1ef22468043bcbd2ca7a971b1c651\");\n",
       "    }\n",
       "\n",
       "    const paths = {\n",
       "      \"vega\": \"https://cdn.jsdelivr.net/npm/vega@5?noext\",\n",
       "      \"vega-lib\": \"https://cdn.jsdelivr.net/npm/vega-lib?noext\",\n",
       "      \"vega-lite\": \"https://cdn.jsdelivr.net/npm/vega-lite@5.20.1?noext\",\n",
       "      \"vega-embed\": \"https://cdn.jsdelivr.net/npm/vega-embed@6?noext\",\n",
       "    };\n",
       "\n",
       "    function maybeLoadScript(lib, version) {\n",
       "      var key = `${lib.replace(\"-\", \"\")}_version`;\n",
       "      return (VEGA_DEBUG[key] == version) ?\n",
       "        Promise.resolve(paths[lib]) :\n",
       "        new Promise(function(resolve, reject) {\n",
       "          var s = document.createElement('script');\n",
       "          document.getElementsByTagName(\"head\")[0].appendChild(s);\n",
       "          s.async = true;\n",
       "          s.onload = () => {\n",
       "            VEGA_DEBUG[key] = version;\n",
       "            return resolve(paths[lib]);\n",
       "          };\n",
       "          s.onerror = () => reject(`Error loading script: ${paths[lib]}`);\n",
       "          s.src = paths[lib];\n",
       "        });\n",
       "    }\n",
       "\n",
       "    function showError(err) {\n",
       "      outputDiv.innerHTML = `<div class=\"error\" style=\"color:red;\">${err}</div>`;\n",
       "      throw err;\n",
       "    }\n",
       "\n",
       "    function displayChart(vegaEmbed) {\n",
       "      vegaEmbed(outputDiv, spec, embedOpt)\n",
       "        .catch(err => showError(`Javascript Error: ${err.message}<br>This usually means there's a typo in your chart specification. See the javascript console for the full traceback.`));\n",
       "    }\n",
       "\n",
       "    if(typeof define === \"function\" && define.amd) {\n",
       "      requirejs.config({paths});\n",
       "      let deps = [\"vega-embed\"];\n",
       "      require(deps, displayChart, err => showError(`Error loading script: ${err.message}`));\n",
       "    } else {\n",
       "      maybeLoadScript(\"vega\", \"5\")\n",
       "        .then(() => maybeLoadScript(\"vega-lite\", \"5.20.1\"))\n",
       "        .then(() => maybeLoadScript(\"vega-embed\", \"6\"))\n",
       "        .catch(showError)\n",
       "        .then(() => displayChart(vegaEmbed));\n",
       "    }\n",
       "  })({\"config\": {\"view\": {\"continuousWidth\": 300, \"continuousHeight\": 300}}, \"data\": {\"name\": \"data-e854c6c21b71bfc458bd535b3c7d9574\"}, \"mark\": {\"type\": \"bar\", \"tooltip\": true}, \"encoding\": {\"color\": {\"field\": \"cluster_10\", \"type\": \"nominal\"}, \"x\": {\"field\": \"cluster_10\", \"type\": \"nominal\"}, \"y\": {\"field\": \"count\", \"type\": \"quantitative\"}}, \"params\": [{\"name\": \"param_32\", \"select\": {\"type\": \"interval\", \"encodings\": [\"x\", \"y\"]}, \"bind\": \"scales\"}], \"$schema\": \"https://vega.github.io/schema/vega-lite/v5.20.1.json\", \"datasets\": {\"data-e854c6c21b71bfc458bd535b3c7d9574\": [{\"cluster_10\": \"A221222121\", \"count\": 16}, {\"cluster_10\": \"A111221222\", \"count\": 16}, {\"cluster_10\": \"A221211221\", \"count\": 15}, {\"cluster_10\": \"B221221111\", \"count\": 15}, {\"cluster_10\": \"B211221211\", \"count\": 15}, {\"cluster_10\": \"A221221211\", \"count\": 14}, {\"cluster_10\": \"B221211112\", \"count\": 14}, {\"cluster_10\": \"A122122222\", \"count\": 14}, {\"cluster_10\": \"B212122121\", \"count\": 14}, {\"cluster_10\": \"B111222121\", \"count\": 14}, {\"cluster_10\": \"A111222211\", \"count\": 14}, {\"cluster_10\": \"A222122111\", \"count\": 14}, {\"cluster_10\": \"B221222212\", \"count\": 14}, {\"cluster_10\": \"B121212121\", \"count\": 14}, {\"cluster_10\": \"A121122112\", \"count\": 14}, {\"cluster_10\": \"A212111111\", \"count\": 14}, {\"cluster_10\": \"B111211121\", \"count\": 14}, {\"cluster_10\": \"A122221122\", \"count\": 13}, {\"cluster_10\": \"B122222221\", \"count\": 13}, {\"cluster_10\": \"A212212112\", \"count\": 13}, {\"cluster_10\": \"B222211122\", \"count\": 13}, {\"cluster_10\": \"A111112221\", \"count\": 13}, {\"cluster_10\": \"B111122121\", \"count\": 13}, {\"cluster_10\": \"B112221112\", \"count\": 13}, {\"cluster_10\": \"B111122211\", \"count\": 13}, {\"cluster_10\": \"B112221121\", \"count\": 13}, {\"cluster_10\": \"A212122211\", \"count\": 13}, {\"cluster_10\": \"B211112211\", \"count\": 13}, {\"cluster_10\": \"A222212112\", \"count\": 13}, {\"cluster_10\": \"A112212111\", \"count\": 13}, {\"cluster_10\": \"B112122211\", \"count\": 13}, {\"cluster_10\": \"A221121121\", \"count\": 13}, {\"cluster_10\": \"A222221211\", \"count\": 13}, {\"cluster_10\": \"B212212221\", \"count\": 13}, {\"cluster_10\": \"B122222211\", \"count\": 13}, {\"cluster_10\": \"A112211122\", \"count\": 13}, {\"cluster_10\": \"B111121111\", \"count\": 13}, {\"cluster_10\": \"A221121112\", \"count\": 13}, {\"cluster_10\": \"B221112211\", \"count\": 13}, {\"cluster_10\": \"A221221111\", \"count\": 13}, {\"cluster_10\": \"A212112212\", \"count\": 13}, {\"cluster_10\": \"B212221222\", \"count\": 12}, {\"cluster_10\": \"B111112122\", \"count\": 12}, {\"cluster_10\": \"B111112222\", \"count\": 12}, {\"cluster_10\": \"A112111222\", \"count\": 12}, {\"cluster_10\": \"B111211221\", \"count\": 12}, {\"cluster_10\": \"B122212221\", \"count\": 12}, {\"cluster_10\": \"A121111112\", \"count\": 12}, {\"cluster_10\": \"A212121211\", \"count\": 12}, {\"cluster_10\": \"B112112122\", \"count\": 12}, {\"cluster_10\": \"B122111112\", \"count\": 12}, {\"cluster_10\": \"A212212121\", \"count\": 12}, {\"cluster_10\": \"B112222222\", \"count\": 12}, {\"cluster_10\": \"B221222222\", \"count\": 12}, {\"cluster_10\": \"B222122111\", \"count\": 12}, {\"cluster_10\": \"B122112222\", \"count\": 12}, {\"cluster_10\": \"B111121112\", \"count\": 12}, {\"cluster_10\": \"A112122221\", \"count\": 12}, {\"cluster_10\": \"B111221222\", \"count\": 12}, {\"cluster_10\": \"B212211212\", \"count\": 12}, {\"cluster_10\": \"B211111222\", \"count\": 12}, {\"cluster_10\": \"A121221112\", \"count\": 12}, {\"cluster_10\": \"B212122222\", \"count\": 12}, {\"cluster_10\": \"A222112222\", \"count\": 12}, {\"cluster_10\": \"A122222112\", \"count\": 12}, {\"cluster_10\": \"A111122111\", \"count\": 12}, {\"cluster_10\": \"A112222212\", \"count\": 12}, {\"cluster_10\": \"A112122121\", \"count\": 12}, {\"cluster_10\": \"B221212122\", \"count\": 12}, {\"cluster_10\": \"A221222211\", \"count\": 12}, {\"cluster_10\": \"A211222221\", \"count\": 12}, {\"cluster_10\": \"B122212111\", \"count\": 12}, {\"cluster_10\": \"B222221222\", \"count\": 12}, {\"cluster_10\": \"B121221212\", \"count\": 12}, {\"cluster_10\": \"A212222112\", \"count\": 12}, {\"cluster_10\": \"B121221112\", \"count\": 12}, {\"cluster_10\": \"A111221211\", \"count\": 12}, {\"cluster_10\": \"A111121221\", \"count\": 12}, {\"cluster_10\": \"A112122212\", \"count\": 12}, {\"cluster_10\": \"A221121212\", \"count\": 11}, {\"cluster_10\": \"A122121222\", \"count\": 11}, {\"cluster_10\": \"A122121112\", \"count\": 11}, {\"cluster_10\": \"B221111112\", \"count\": 11}, {\"cluster_10\": \"B211221221\", \"count\": 11}, {\"cluster_10\": \"A112112122\", \"count\": 11}, {\"cluster_10\": \"B221221112\", \"count\": 11}, {\"cluster_10\": \"A222222221\", \"count\": 11}, {\"cluster_10\": \"A211111222\", \"count\": 11}, {\"cluster_10\": \"A222221112\", \"count\": 11}, {\"cluster_10\": \"B121122212\", \"count\": 11}, {\"cluster_10\": \"B212212111\", \"count\": 11}, {\"cluster_10\": \"B222122222\", \"count\": 11}, {\"cluster_10\": \"A111121211\", \"count\": 11}, {\"cluster_10\": \"B211212212\", \"count\": 11}, {\"cluster_10\": \"A222111211\", \"count\": 11}, {\"cluster_10\": \"B112112212\", \"count\": 11}, {\"cluster_10\": \"A212212212\", \"count\": 11}, {\"cluster_10\": \"A112211112\", \"count\": 11}, {\"cluster_10\": \"A112122122\", \"count\": 11}, {\"cluster_10\": \"A122212211\", \"count\": 11}, {\"cluster_10\": \"A122221222\", \"count\": 11}, {\"cluster_10\": \"A112112121\", \"count\": 11}, {\"cluster_10\": \"B122112121\", \"count\": 11}, {\"cluster_10\": \"A211111122\", \"count\": 11}, {\"cluster_10\": \"A111212212\", \"count\": 11}, {\"cluster_10\": \"B111112111\", \"count\": 11}, {\"cluster_10\": \"B211111211\", \"count\": 11}, {\"cluster_10\": \"A212211222\", \"count\": 11}, {\"cluster_10\": \"B211211111\", \"count\": 11}, {\"cluster_10\": \"A122121122\", \"count\": 11}, {\"cluster_10\": \"B122211211\", \"count\": 11}, {\"cluster_10\": \"A112212122\", \"count\": 11}, {\"cluster_10\": \"B211212112\", \"count\": 11}, {\"cluster_10\": \"B121122221\", \"count\": 11}, {\"cluster_10\": \"B212121122\", \"count\": 11}, {\"cluster_10\": \"B111111111\", \"count\": 11}, {\"cluster_10\": \"B112112221\", \"count\": 11}, {\"cluster_10\": \"B222211111\", \"count\": 11}, {\"cluster_10\": \"B122112112\", \"count\": 11}, {\"cluster_10\": \"B221112212\", \"count\": 11}, {\"cluster_10\": \"A211111121\", \"count\": 11}, {\"cluster_10\": \"A122221221\", \"count\": 11}, {\"cluster_10\": \"B211221112\", \"count\": 11}, {\"cluster_10\": \"A222112221\", \"count\": 11}, {\"cluster_10\": \"A222112211\", \"count\": 11}, {\"cluster_10\": \"B212221211\", \"count\": 11}, {\"cluster_10\": \"B112222121\", \"count\": 11}, {\"cluster_10\": \"A121212222\", \"count\": 11}, {\"cluster_10\": \"B111112221\", \"count\": 11}, {\"cluster_10\": \"A211112211\", \"count\": 11}, {\"cluster_10\": \"A221122112\", \"count\": 11}, {\"cluster_10\": \"A112221212\", \"count\": 11}, {\"cluster_10\": \"B222222221\", \"count\": 11}, {\"cluster_10\": \"B111211111\", \"count\": 11}, {\"cluster_10\": \"A212211212\", \"count\": 11}, {\"cluster_10\": \"B122111211\", \"count\": 11}, {\"cluster_10\": \"B121221221\", \"count\": 11}, {\"cluster_10\": \"B211122211\", \"count\": 11}, {\"cluster_10\": \"B122221211\", \"count\": 11}, {\"cluster_10\": \"A222222112\", \"count\": 11}, {\"cluster_10\": \"B111121121\", \"count\": 11}, {\"cluster_10\": \"A212112111\", \"count\": 11}, {\"cluster_10\": \"B211222111\", \"count\": 11}, {\"cluster_10\": \"A212121112\", \"count\": 11}, {\"cluster_10\": \"A222121222\", \"count\": 11}, {\"cluster_10\": \"B222112222\", \"count\": 11}, {\"cluster_10\": \"B112221222\", \"count\": 11}, {\"cluster_10\": \"B122122221\", \"count\": 10}, {\"cluster_10\": \"B121221222\", \"count\": 10}, {\"cluster_10\": \"A212122112\", \"count\": 10}, {\"cluster_10\": \"A221121122\", \"count\": 10}, {\"cluster_10\": \"B112221221\", \"count\": 10}, {\"cluster_10\": \"B222111122\", \"count\": 10}, {\"cluster_10\": \"B122211222\", \"count\": 10}, {\"cluster_10\": \"A122211222\", \"count\": 10}, {\"cluster_10\": \"A222211122\", \"count\": 10}, {\"cluster_10\": \"A112221222\", \"count\": 10}, {\"cluster_10\": \"B112121111\", \"count\": 10}, {\"cluster_10\": \"A211111112\", \"count\": 10}, {\"cluster_10\": \"B122121121\", \"count\": 10}, {\"cluster_10\": \"A111121222\", \"count\": 10}, {\"cluster_10\": \"B111211122\", \"count\": 10}, {\"cluster_10\": \"A212222221\", \"count\": 10}, {\"cluster_10\": \"B121121211\", \"count\": 10}, {\"cluster_10\": \"B211211221\", \"count\": 10}, {\"cluster_10\": \"B222212121\", \"count\": 10}, {\"cluster_10\": \"B112112112\", \"count\": 10}, {\"cluster_10\": \"B121211221\", \"count\": 10}, {\"cluster_10\": \"A111221112\", \"count\": 10}, {\"cluster_10\": \"B112112222\", \"count\": 10}, {\"cluster_10\": \"B122111221\", \"count\": 10}, {\"cluster_10\": \"A112122222\", \"count\": 10}, {\"cluster_10\": \"A121121212\", \"count\": 10}, {\"cluster_10\": \"A122111211\", \"count\": 10}, {\"cluster_10\": \"A121112211\", \"count\": 10}, {\"cluster_10\": \"A121112112\", \"count\": 10}, {\"cluster_10\": \"A212111112\", \"count\": 10}, {\"cluster_10\": \"A212122222\", \"count\": 10}, {\"cluster_10\": \"B221122111\", \"count\": 10}, {\"cluster_10\": \"A112122211\", \"count\": 10}, {\"cluster_10\": \"A222112122\", \"count\": 10}, {\"cluster_10\": \"A211221111\", \"count\": 10}, {\"cluster_10\": \"B111221121\", \"count\": 10}, {\"cluster_10\": \"B122212112\", \"count\": 10}, {\"cluster_10\": \"A111221212\", \"count\": 10}, {\"cluster_10\": \"A121111121\", \"count\": 10}, {\"cluster_10\": \"B212212122\", \"count\": 10}, {\"cluster_10\": \"B221221121\", \"count\": 10}, {\"cluster_10\": \"B221121212\", \"count\": 10}, {\"cluster_10\": \"A222121112\", \"count\": 10}, {\"cluster_10\": \"B122222111\", \"count\": 10}, {\"cluster_10\": \"B211111212\", \"count\": 10}, {\"cluster_10\": \"A212222222\", \"count\": 10}, {\"cluster_10\": \"A211121112\", \"count\": 10}, {\"cluster_10\": \"A111211111\", \"count\": 10}, {\"cluster_10\": \"B212211222\", \"count\": 10}, {\"cluster_10\": \"B221121111\", \"count\": 10}, {\"cluster_10\": \"A111221111\", \"count\": 10}, {\"cluster_10\": \"A111221121\", \"count\": 10}, {\"cluster_10\": \"A222112212\", \"count\": 10}, {\"cluster_10\": \"A211221221\", \"count\": 10}, {\"cluster_10\": \"B211122221\", \"count\": 10}, {\"cluster_10\": \"A112121121\", \"count\": 10}, {\"cluster_10\": \"A211112222\", \"count\": 10}, {\"cluster_10\": \"B111222222\", \"count\": 10}, {\"cluster_10\": \"A111222121\", \"count\": 10}, {\"cluster_10\": \"A121212212\", \"count\": 10}, {\"cluster_10\": \"A121121222\", \"count\": 10}, {\"cluster_10\": \"B112212111\", \"count\": 10}, {\"cluster_10\": \"A212121111\", \"count\": 10}, {\"cluster_10\": \"A212221212\", \"count\": 10}, {\"cluster_10\": \"A112222221\", \"count\": 10}, {\"cluster_10\": \"B112122111\", \"count\": 10}, {\"cluster_10\": \"A211112221\", \"count\": 10}, {\"cluster_10\": \"B211111221\", \"count\": 10}, {\"cluster_10\": \"B222112122\", \"count\": 10}, {\"cluster_10\": \"B122112211\", \"count\": 10}, {\"cluster_10\": \"A122122122\", \"count\": 10}, {\"cluster_10\": \"A122222211\", \"count\": 10}, {\"cluster_10\": \"A212111121\", \"count\": 10}, {\"cluster_10\": \"B211112122\", \"count\": 10}, {\"cluster_10\": \"B212212222\", \"count\": 10}, {\"cluster_10\": \"B112112111\", \"count\": 10}, {\"cluster_10\": \"B121121121\", \"count\": 10}, {\"cluster_10\": \"B112122222\", \"count\": 10}, {\"cluster_10\": \"B122121222\", \"count\": 10}, {\"cluster_10\": \"B212222211\", \"count\": 10}, {\"cluster_10\": \"B222221211\", \"count\": 10}, {\"cluster_10\": \"B122211121\", \"count\": 10}, {\"cluster_10\": \"B212222212\", \"count\": 10}, {\"cluster_10\": \"B221111221\", \"count\": 10}, {\"cluster_10\": \"A222122212\", \"count\": 10}, {\"cluster_10\": \"A112112221\", \"count\": 10}, {\"cluster_10\": \"B221112111\", \"count\": 10}, {\"cluster_10\": \"B212221112\", \"count\": 10}, {\"cluster_10\": \"A211121221\", \"count\": 10}, {\"cluster_10\": \"B111121211\", \"count\": 10}, {\"cluster_10\": \"B221122221\", \"count\": 10}, {\"cluster_10\": \"B212122111\", \"count\": 10}, {\"cluster_10\": \"B111112211\", \"count\": 9}, {\"cluster_10\": \"B222112221\", \"count\": 9}, {\"cluster_10\": \"A111112122\", \"count\": 9}, {\"cluster_10\": \"A212211112\", \"count\": 9}, {\"cluster_10\": \"A111222122\", \"count\": 9}, {\"cluster_10\": \"B212211112\", \"count\": 9}, {\"cluster_10\": \"A121121112\", \"count\": 9}, {\"cluster_10\": \"A122122121\", \"count\": 9}, {\"cluster_10\": \"A111122121\", \"count\": 9}, {\"cluster_10\": \"A121111221\", \"count\": 9}, {\"cluster_10\": \"B221222111\", \"count\": 9}, {\"cluster_10\": \"B112222211\", \"count\": 9}, {\"cluster_10\": \"B221112221\", \"count\": 9}, {\"cluster_10\": \"A211122222\", \"count\": 9}, {\"cluster_10\": \"B221212111\", \"count\": 9}, {\"cluster_10\": \"A212222111\", \"count\": 9}, {\"cluster_10\": \"B211122122\", \"count\": 9}, {\"cluster_10\": \"B221221212\", \"count\": 9}, {\"cluster_10\": \"A222212121\", \"count\": 9}, {\"cluster_10\": \"A111221221\", \"count\": 9}, {\"cluster_10\": \"A111211221\", \"count\": 9}, {\"cluster_10\": \"A122112112\", \"count\": 9}, {\"cluster_10\": \"A112112222\", \"count\": 9}, {\"cluster_10\": \"A121111122\", \"count\": 9}, {\"cluster_10\": \"A121211221\", \"count\": 9}, {\"cluster_10\": \"B212212112\", \"count\": 9}, {\"cluster_10\": \"A112112112\", \"count\": 9}, {\"cluster_10\": \"A112122112\", \"count\": 9}, {\"cluster_10\": \"B111221211\", \"count\": 9}, {\"cluster_10\": \"B111122222\", \"count\": 9}, {\"cluster_10\": \"B122222222\", \"count\": 9}, {\"cluster_10\": \"A222222122\", \"count\": 9}, {\"cluster_10\": \"A222122112\", \"count\": 9}, {\"cluster_10\": \"B222122112\", \"count\": 9}, {\"cluster_10\": \"B221222122\", \"count\": 9}, {\"cluster_10\": \"B212111221\", \"count\": 9}, {\"cluster_10\": \"A221221212\", \"count\": 9}, {\"cluster_10\": \"A221121221\", \"count\": 9}, {\"cluster_10\": \"A212221122\", \"count\": 9}, {\"cluster_10\": \"B112221111\", \"count\": 9}, {\"cluster_10\": \"A221211111\", \"count\": 9}, {\"cluster_10\": \"A121211112\", \"count\": 9}, {\"cluster_10\": \"A121212122\", \"count\": 9}, {\"cluster_10\": \"B111212211\", \"count\": 9}, {\"cluster_10\": \"A212112112\", \"count\": 9}, {\"cluster_10\": \"B112122121\", \"count\": 9}, {\"cluster_10\": \"B211222211\", \"count\": 9}, {\"cluster_10\": \"B221112121\", \"count\": 9}, {\"cluster_10\": \"A111122122\", \"count\": 9}, {\"cluster_10\": \"A222121221\", \"count\": 9}, {\"cluster_10\": \"A212112122\", \"count\": 9}, {\"cluster_10\": \"A221221221\", \"count\": 9}, {\"cluster_10\": \"B122111212\", \"count\": 9}, {\"cluster_10\": \"B121211211\", \"count\": 9}, {\"cluster_10\": \"A111121112\", \"count\": 9}, {\"cluster_10\": \"A222111112\", \"count\": 9}, {\"cluster_10\": \"B212112221\", \"count\": 9}, {\"cluster_10\": \"A221111121\", \"count\": 9}, {\"cluster_10\": \"B111211112\", \"count\": 9}, {\"cluster_10\": \"B211121212\", \"count\": 9}, {\"cluster_10\": \"B211211211\", \"count\": 9}, {\"cluster_10\": \"A111222221\", \"count\": 9}, {\"cluster_10\": \"A111122211\", \"count\": 9}, {\"cluster_10\": \"A111222212\", \"count\": 9}, {\"cluster_10\": \"B222112121\", \"count\": 9}, {\"cluster_10\": \"B211121122\", \"count\": 9}, {\"cluster_10\": \"B212112211\", \"count\": 9}, {\"cluster_10\": \"B222222112\", \"count\": 9}, {\"cluster_10\": \"A212112211\", \"count\": 9}, {\"cluster_10\": \"A212221221\", \"count\": 9}, {\"cluster_10\": \"A122212221\", \"count\": 9}, {\"cluster_10\": \"A221111222\", \"count\": 9}, {\"cluster_10\": \"A112212222\", \"count\": 9}, {\"cluster_10\": \"B121112221\", \"count\": 9}, {\"cluster_10\": \"B122112221\", \"count\": 9}, {\"cluster_10\": \"B211222221\", \"count\": 9}, {\"cluster_10\": \"B212221212\", \"count\": 9}, {\"cluster_10\": \"A111222111\", \"count\": 9}, {\"cluster_10\": \"B112211121\", \"count\": 9}, {\"cluster_10\": \"A111222222\", \"count\": 9}, {\"cluster_10\": \"B112212221\", \"count\": 9}, {\"cluster_10\": \"A112111112\", \"count\": 9}, {\"cluster_10\": \"A111111212\", \"count\": 9}, {\"cluster_10\": \"A121211121\", \"count\": 9}, {\"cluster_10\": \"B112221211\", \"count\": 9}, {\"cluster_10\": \"B122111121\", \"count\": 9}, {\"cluster_10\": \"A222122221\", \"count\": 9}, {\"cluster_10\": \"A221212121\", \"count\": 9}, {\"cluster_10\": \"A121211212\", \"count\": 9}, {\"cluster_10\": \"B222222212\", \"count\": 9}, {\"cluster_10\": \"B122221121\", \"count\": 9}, {\"cluster_10\": \"B212222121\", \"count\": 9}, {\"cluster_10\": \"B222122221\", \"count\": 9}, {\"cluster_10\": \"B122221122\", \"count\": 9}, {\"cluster_10\": \"B212122112\", \"count\": 9}, {\"cluster_10\": \"A211112112\", \"count\": 9}, {\"cluster_10\": \"A212121212\", \"count\": 9}, {\"cluster_10\": \"A221222111\", \"count\": 9}, {\"cluster_10\": \"A212221222\", \"count\": 9}, {\"cluster_10\": \"A111112212\", \"count\": 9}, {\"cluster_10\": \"B221222112\", \"count\": 9}, {\"cluster_10\": \"A212211221\", \"count\": 9}, {\"cluster_10\": \"B222221112\", \"count\": 9}, {\"cluster_10\": \"A222212211\", \"count\": 9}, {\"cluster_10\": \"B222222111\", \"count\": 9}, {\"cluster_10\": \"A111111211\", \"count\": 9}, {\"cluster_10\": \"B212111111\", \"count\": 9}, {\"cluster_10\": \"A121121121\", \"count\": 9}, {\"cluster_10\": \"A222221121\", \"count\": 8}, {\"cluster_10\": \"A112211222\", \"count\": 8}, {\"cluster_10\": \"B222222211\", \"count\": 8}, {\"cluster_10\": \"B121112112\", \"count\": 8}, {\"cluster_10\": \"B111121122\", \"count\": 8}, {\"cluster_10\": \"B212112121\", \"count\": 8}, {\"cluster_10\": \"A221112212\", \"count\": 8}, {\"cluster_10\": \"B121121221\", \"count\": 8}, {\"cluster_10\": \"B111121221\", \"count\": 8}, {\"cluster_10\": \"B211121111\", \"count\": 8}, {\"cluster_10\": \"B212221111\", \"count\": 8}, {\"cluster_10\": \"A212212222\", \"count\": 8}, {\"cluster_10\": \"A122112121\", \"count\": 8}, {\"cluster_10\": \"A111212122\", \"count\": 8}, {\"cluster_10\": \"B212212212\", \"count\": 8}, {\"cluster_10\": \"A111111112\", \"count\": 8}, {\"cluster_10\": \"A221111112\", \"count\": 8}, {\"cluster_10\": \"B121222121\", \"count\": 8}, {\"cluster_10\": \"B221211111\", \"count\": 8}, {\"cluster_10\": \"B221212211\", \"count\": 8}, {\"cluster_10\": \"A112111211\", \"count\": 8}, {\"cluster_10\": \"B221211211\", \"count\": 8}, {\"cluster_10\": \"B222211212\", \"count\": 8}, {\"cluster_10\": \"B111221111\", \"count\": 8}, {\"cluster_10\": \"A122211211\", \"count\": 8}, {\"cluster_10\": \"A112211221\", \"count\": 8}, {\"cluster_10\": \"A212111221\", \"count\": 8}, {\"cluster_10\": \"B211222112\", \"count\": 8}, {\"cluster_10\": \"A112111111\", \"count\": 8}, {\"cluster_10\": \"B211222212\", \"count\": 8}, {\"cluster_10\": \"A112111212\", \"count\": 8}, {\"cluster_10\": \"B222221212\", \"count\": 8}, {\"cluster_10\": \"B221121121\", \"count\": 8}, {\"cluster_10\": \"B211212121\", \"count\": 8}, {\"cluster_10\": \"A122211221\", \"count\": 8}, {\"cluster_10\": \"A111211222\", \"count\": 8}, {\"cluster_10\": \"A212121121\", \"count\": 8}, {\"cluster_10\": \"B211111112\", \"count\": 8}, {\"cluster_10\": \"A221122212\", \"count\": 8}, {\"cluster_10\": \"B121112111\", \"count\": 8}, {\"cluster_10\": \"B112212211\", \"count\": 8}, {\"cluster_10\": \"A212222211\", \"count\": 8}, {\"cluster_10\": \"B111222122\", \"count\": 8}, {\"cluster_10\": \"B212121111\", \"count\": 8}, {\"cluster_10\": \"A211212122\", \"count\": 8}, {\"cluster_10\": \"B111212212\", \"count\": 8}, {\"cluster_10\": \"B112211212\", \"count\": 8}, {\"cluster_10\": \"B211212122\", \"count\": 8}, {\"cluster_10\": \"B222111121\", \"count\": 8}, {\"cluster_10\": \"B212121112\", \"count\": 8}, {\"cluster_10\": \"B122121212\", \"count\": 8}, {\"cluster_10\": \"A221112121\", \"count\": 8}, {\"cluster_10\": \"A112212121\", \"count\": 8}, {\"cluster_10\": \"B221111122\", \"count\": 8}, {\"cluster_10\": \"A222212212\", \"count\": 8}, {\"cluster_10\": \"A221122122\", \"count\": 8}, {\"cluster_10\": \"A111122222\", \"count\": 8}, {\"cluster_10\": \"B121122121\", \"count\": 8}, {\"cluster_10\": \"A121122222\", \"count\": 8}, {\"cluster_10\": \"A121121111\", \"count\": 8}, {\"cluster_10\": \"A221222212\", \"count\": 8}, {\"cluster_10\": \"B211112111\", \"count\": 8}, {\"cluster_10\": \"A221112111\", \"count\": 8}, {\"cluster_10\": \"B212112122\", \"count\": 8}, {\"cluster_10\": \"B212111212\", \"count\": 8}, {\"cluster_10\": \"A222211112\", \"count\": 8}, {\"cluster_10\": \"B121121222\", \"count\": 8}, {\"cluster_10\": \"A222121111\", \"count\": 8}, {\"cluster_10\": \"A121121221\", \"count\": 8}, {\"cluster_10\": \"B211122222\", \"count\": 8}, {\"cluster_10\": \"B222122122\", \"count\": 8}, {\"cluster_10\": \"B122222212\", \"count\": 8}, {\"cluster_10\": \"B121121112\", \"count\": 8}, {\"cluster_10\": \"A121212211\", \"count\": 8}, {\"cluster_10\": \"B121111121\", \"count\": 8}, {\"cluster_10\": \"A221221121\", \"count\": 8}, {\"cluster_10\": \"B121112212\", \"count\": 8}, {\"cluster_10\": \"A122121211\", \"count\": 8}, {\"cluster_10\": \"B221121211\", \"count\": 8}, {\"cluster_10\": \"A122211112\", \"count\": 8}, {\"cluster_10\": \"A122111221\", \"count\": 8}, {\"cluster_10\": \"A221212122\", \"count\": 8}, {\"cluster_10\": \"A112121212\", \"count\": 8}, {\"cluster_10\": \"B111112212\", \"count\": 8}, {\"cluster_10\": \"A111122221\", \"count\": 8}, {\"cluster_10\": \"A212111122\", \"count\": 8}, {\"cluster_10\": \"A112222222\", \"count\": 8}, {\"cluster_10\": \"B111211211\", \"count\": 8}, {\"cluster_10\": \"A211211111\", \"count\": 8}, {\"cluster_10\": \"A112221112\", \"count\": 8}, {\"cluster_10\": \"A222112111\", \"count\": 8}, {\"cluster_10\": \"B221121112\", \"count\": 8}, {\"cluster_10\": \"B211211121\", \"count\": 8}, {\"cluster_10\": \"B221111212\", \"count\": 8}, {\"cluster_10\": \"A122112212\", \"count\": 8}, {\"cluster_10\": \"B221112112\", \"count\": 8}, {\"cluster_10\": \"B122211212\", \"count\": 8}, {\"cluster_10\": \"B222212221\", \"count\": 8}, {\"cluster_10\": \"B221122121\", \"count\": 8}, {\"cluster_10\": \"A211211211\", \"count\": 8}, {\"cluster_10\": \"A121221122\", \"count\": 8}, {\"cluster_10\": \"A111112222\", \"count\": 8}, {\"cluster_10\": \"B111111112\", \"count\": 8}, {\"cluster_10\": \"A122222212\", \"count\": 8}, {\"cluster_10\": \"B122211112\", \"count\": 8}, {\"cluster_10\": \"B111111121\", \"count\": 8}, {\"cluster_10\": \"A222111221\", \"count\": 8}, {\"cluster_10\": \"A222211222\", \"count\": 8}, {\"cluster_10\": \"A222222211\", \"count\": 8}, {\"cluster_10\": \"B222111212\", \"count\": 8}, {\"cluster_10\": \"A221112112\", \"count\": 8}, {\"cluster_10\": \"A222122211\", \"count\": 8}, {\"cluster_10\": \"A122121111\", \"count\": 8}, {\"cluster_10\": \"A112121122\", \"count\": 8}, {\"cluster_10\": \"B221122122\", \"count\": 8}, {\"cluster_10\": \"A121211211\", \"count\": 8}, {\"cluster_10\": \"A222222111\", \"count\": 8}, {\"cluster_10\": \"B212221221\", \"count\": 8}, {\"cluster_10\": \"A212211111\", \"count\": 8}, {\"cluster_10\": \"B212122221\", \"count\": 8}, {\"cluster_10\": \"B212212121\", \"count\": 8}, {\"cluster_10\": \"A212212211\", \"count\": 8}, {\"cluster_10\": \"B122211221\", \"count\": 8}, {\"cluster_10\": \"A121111212\", \"count\": 8}, {\"cluster_10\": \"A211121222\", \"count\": 8}, {\"cluster_10\": \"A121122212\", \"count\": 8}, {\"cluster_10\": \"A221112122\", \"count\": 8}, {\"cluster_10\": \"A221211212\", \"count\": 8}, {\"cluster_10\": \"A121112212\", \"count\": 8}, {\"cluster_10\": \"A121121211\", \"count\": 8}, {\"cluster_10\": \"A112122111\", \"count\": 8}, {\"cluster_10\": \"B212222122\", \"count\": 8}, {\"cluster_10\": \"B211111122\", \"count\": 8}, {\"cluster_10\": \"B121211122\", \"count\": 8}, {\"cluster_10\": \"A211112121\", \"count\": 8}, {\"cluster_10\": \"A211221211\", \"count\": 8}, {\"cluster_10\": \"B212111121\", \"count\": 8}, {\"cluster_10\": \"A221211112\", \"count\": 8}, {\"cluster_10\": \"B111112112\", \"count\": 8}, {\"cluster_10\": \"A222222121\", \"count\": 8}, {\"cluster_10\": \"A121221111\", \"count\": 8}, {\"cluster_10\": \"A222122122\", \"count\": 8}, {\"cluster_10\": \"B211211212\", \"count\": 8}, {\"cluster_10\": \"B211121221\", \"count\": 8}, {\"cluster_10\": \"A212221211\", \"count\": 8}, {\"cluster_10\": \"A211211222\", \"count\": 8}, {\"cluster_10\": \"B111221212\", \"count\": 8}, {\"cluster_10\": \"B212222222\", \"count\": 7}, {\"cluster_10\": \"A211111212\", \"count\": 7}, {\"cluster_10\": \"B121122211\", \"count\": 7}, {\"cluster_10\": \"B211221222\", \"count\": 7}, {\"cluster_10\": \"A121111222\", \"count\": 7}, {\"cluster_10\": \"A211222112\", \"count\": 7}, {\"cluster_10\": \"B222121222\", \"count\": 7}, {\"cluster_10\": \"B122121221\", \"count\": 7}, {\"cluster_10\": \"A121222121\", \"count\": 7}, {\"cluster_10\": \"A112221111\", \"count\": 7}, {\"cluster_10\": \"B222222121\", \"count\": 7}, {\"cluster_10\": \"B121121122\", \"count\": 7}, {\"cluster_10\": \"A111111221\", \"count\": 7}, {\"cluster_10\": \"B212112212\", \"count\": 7}, {\"cluster_10\": \"A221221112\", \"count\": 7}, {\"cluster_10\": \"B211121211\", \"count\": 7}, {\"cluster_10\": \"A111121122\", \"count\": 7}, {\"cluster_10\": \"B212211211\", \"count\": 7}, {\"cluster_10\": \"A222222212\", \"count\": 7}, {\"cluster_10\": \"A111212211\", \"count\": 7}, {\"cluster_10\": \"A211212111\", \"count\": 7}, {\"cluster_10\": \"B112212222\", \"count\": 7}, {\"cluster_10\": \"B112212112\", \"count\": 7}, {\"cluster_10\": \"A222211111\", \"count\": 7}, {\"cluster_10\": \"A212112221\", \"count\": 7}, {\"cluster_10\": \"A111212112\", \"count\": 7}, {\"cluster_10\": \"B211112222\", \"count\": 7}, {\"cluster_10\": \"B221221122\", \"count\": 7}, {\"cluster_10\": \"A212111222\", \"count\": 7}, {\"cluster_10\": \"A212212111\", \"count\": 7}, {\"cluster_10\": \"B111222111\", \"count\": 7}, {\"cluster_10\": \"B222212222\", \"count\": 7}, {\"cluster_10\": \"A212211121\", \"count\": 7}, {\"cluster_10\": \"A211212222\", \"count\": 7}, {\"cluster_10\": \"A122112211\", \"count\": 7}, {\"cluster_10\": \"B211221111\", \"count\": 7}, {\"cluster_10\": \"B112112211\", \"count\": 7}, {\"cluster_10\": \"A221122221\", \"count\": 7}, {\"cluster_10\": \"B211112212\", \"count\": 7}, {\"cluster_10\": \"A212211122\", \"count\": 7}, {\"cluster_10\": \"B221121221\", \"count\": 7}, {\"cluster_10\": \"B121222112\", \"count\": 7}, {\"cluster_10\": \"A221212222\", \"count\": 7}, {\"cluster_10\": \"A111112121\", \"count\": 7}, {\"cluster_10\": \"B121222222\", \"count\": 7}, {\"cluster_10\": \"A122111121\", \"count\": 7}, {\"cluster_10\": \"A121211111\", \"count\": 7}, {\"cluster_10\": \"B212121222\", \"count\": 7}, {\"cluster_10\": \"B222122212\", \"count\": 7}, {\"cluster_10\": \"A112111122\", \"count\": 7}, {\"cluster_10\": \"A122112222\", \"count\": 7}, {\"cluster_10\": \"A222112112\", \"count\": 7}, {\"cluster_10\": \"B221211121\", \"count\": 7}, {\"cluster_10\": \"B121112122\", \"count\": 7}, {\"cluster_10\": \"B211222121\", \"count\": 7}, {\"cluster_10\": \"A221222122\", \"count\": 7}, {\"cluster_10\": \"A211221222\", \"count\": 7}, {\"cluster_10\": \"A121222211\", \"count\": 7}, {\"cluster_10\": \"B212211121\", \"count\": 7}, {\"cluster_10\": \"B122122211\", \"count\": 7}, {\"cluster_10\": \"A111212121\", \"count\": 7}, {\"cluster_10\": \"B121211112\", \"count\": 7}, {\"cluster_10\": \"A112222211\", \"count\": 7}, {\"cluster_10\": \"B222221122\", \"count\": 7}, {\"cluster_10\": \"B212122211\", \"count\": 7}, {\"cluster_10\": \"B121222111\", \"count\": 7}, {\"cluster_10\": \"B211221122\", \"count\": 7}, {\"cluster_10\": \"A222112121\", \"count\": 7}, {\"cluster_10\": \"A222111222\", \"count\": 7}, {\"cluster_10\": \"B111112121\", \"count\": 7}, {\"cluster_10\": \"A222211121\", \"count\": 7}, {\"cluster_10\": \"A111212111\", \"count\": 7}, {\"cluster_10\": \"A121212111\", \"count\": 7}, {\"cluster_10\": \"B111211212\", \"count\": 7}, {\"cluster_10\": \"A122222121\", \"count\": 7}, {\"cluster_10\": \"A122122212\", \"count\": 7}, {\"cluster_10\": \"B111212112\", \"count\": 7}, {\"cluster_10\": \"A221211211\", \"count\": 7}, {\"cluster_10\": \"B121221211\", \"count\": 7}, {\"cluster_10\": \"A112212221\", \"count\": 7}, {\"cluster_10\": \"B121222211\", \"count\": 7}, {\"cluster_10\": \"A212122111\", \"count\": 7}, {\"cluster_10\": \"B112222212\", \"count\": 7}, {\"cluster_10\": \"B121121111\", \"count\": 7}, {\"cluster_10\": \"A121121122\", \"count\": 7}, {\"cluster_10\": \"B121111112\", \"count\": 7}, {\"cluster_10\": \"A222111111\", \"count\": 7}, {\"cluster_10\": \"A121112122\", \"count\": 7}, {\"cluster_10\": \"B122111222\", \"count\": 7}, {\"cluster_10\": \"B121221122\", \"count\": 7}, {\"cluster_10\": \"B122222112\", \"count\": 7}, {\"cluster_10\": \"B221222121\", \"count\": 7}, {\"cluster_10\": \"B111111122\", \"count\": 7}, {\"cluster_10\": \"B121111211\", \"count\": 7}, {\"cluster_10\": \"B211212221\", \"count\": 7}, {\"cluster_10\": \"B111121222\", \"count\": 7}, {\"cluster_10\": \"B222121211\", \"count\": 7}, {\"cluster_10\": \"A211112212\", \"count\": 7}, {\"cluster_10\": \"B212222221\", \"count\": 7}, {\"cluster_10\": \"B212211111\", \"count\": 7}, {\"cluster_10\": \"A121122121\", \"count\": 7}, {\"cluster_10\": \"A211221112\", \"count\": 7}, {\"cluster_10\": \"B112111211\", \"count\": 7}, {\"cluster_10\": \"B221112122\", \"count\": 7}, {\"cluster_10\": \"A122122211\", \"count\": 7}, {\"cluster_10\": \"B122212211\", \"count\": 7}, {\"cluster_10\": \"B121222122\", \"count\": 7}, {\"cluster_10\": \"A212212122\", \"count\": 7}, {\"cluster_10\": \"B221212222\", \"count\": 7}, {\"cluster_10\": \"A121212121\", \"count\": 7}, {\"cluster_10\": \"A221122222\", \"count\": 7}, {\"cluster_10\": \"A121211122\", \"count\": 7}, {\"cluster_10\": \"A122211111\", \"count\": 7}, {\"cluster_10\": \"B222211211\", \"count\": 7}, {\"cluster_10\": \"B212121121\", \"count\": 7}, {\"cluster_10\": \"A211122122\", \"count\": 7}, {\"cluster_10\": \"B112121221\", \"count\": 7}, {\"cluster_10\": \"A112111221\", \"count\": 7}, {\"cluster_10\": \"A122111122\", \"count\": 7}, {\"cluster_10\": \"A122222111\", \"count\": 7}, {\"cluster_10\": \"B121122112\", \"count\": 7}, {\"cluster_10\": \"A222221212\", \"count\": 7}, {\"cluster_10\": \"B122112212\", \"count\": 7}, {\"cluster_10\": \"A221122121\", \"count\": 7}, {\"cluster_10\": \"B211221212\", \"count\": 7}, {\"cluster_10\": \"B211211112\", \"count\": 7}, {\"cluster_10\": \"B112111221\", \"count\": 7}, {\"cluster_10\": \"B121111212\", \"count\": 7}, {\"cluster_10\": \"B111111221\", \"count\": 7}, {\"cluster_10\": \"A122111212\", \"count\": 7}, {\"cluster_10\": \"B211222222\", \"count\": 7}, {\"cluster_10\": \"A221212112\", \"count\": 7}, {\"cluster_10\": \"A111111122\", \"count\": 7}, {\"cluster_10\": \"B112222221\", \"count\": 7}, {\"cluster_10\": \"B112212122\", \"count\": 7}, {\"cluster_10\": \"A211121111\", \"count\": 7}, {\"cluster_10\": \"A121112221\", \"count\": 7}, {\"cluster_10\": \"B112211211\", \"count\": 7}, {\"cluster_10\": \"A222221221\", \"count\": 7}, {\"cluster_10\": \"A112221122\", \"count\": 7}, {\"cluster_10\": \"B121111221\", \"count\": 7}, {\"cluster_10\": \"A211212112\", \"count\": 7}, {\"cluster_10\": \"B222211121\", \"count\": 7}, {\"cluster_10\": \"A211222121\", \"count\": 7}, {\"cluster_10\": \"B121211212\", \"count\": 7}, {\"cluster_10\": \"B221212221\", \"count\": 7}, {\"cluster_10\": \"A111112112\", \"count\": 7}, {\"cluster_10\": \"A122111222\", \"count\": 7}, {\"cluster_10\": \"A111111222\", \"count\": 7}, {\"cluster_10\": \"A122211121\", \"count\": 7}, {\"cluster_10\": \"A122221211\", \"count\": 7}, {\"cluster_10\": \"A111111121\", \"count\": 7}, {\"cluster_10\": \"A221111221\", \"count\": 6}, {\"cluster_10\": \"A112221221\", \"count\": 6}, {\"cluster_10\": \"A221112222\", \"count\": 6}, {\"cluster_10\": \"B211111121\", \"count\": 6}, {\"cluster_10\": \"A111121212\", \"count\": 6}, {\"cluster_10\": \"B112122212\", \"count\": 6}, {\"cluster_10\": \"B222221121\", \"count\": 6}, {\"cluster_10\": \"A122112221\", \"count\": 6}, {\"cluster_10\": \"A211211212\", \"count\": 6}, {\"cluster_10\": \"B211122111\", \"count\": 6}, {\"cluster_10\": \"B122121112\", \"count\": 6}, {\"cluster_10\": \"B122212121\", \"count\": 6}, {\"cluster_10\": \"B212121211\", \"count\": 6}, {\"cluster_10\": \"A121212221\", \"count\": 6}, {\"cluster_10\": \"A111122212\", \"count\": 6}, {\"cluster_10\": \"B222222122\", \"count\": 6}, {\"cluster_10\": \"B112122122\", \"count\": 6}, {\"cluster_10\": \"A222121212\", \"count\": 6}, {\"cluster_10\": \"B112121212\", \"count\": 6}, {\"cluster_10\": \"B112121121\", \"count\": 6}, {\"cluster_10\": \"B211112221\", \"count\": 6}, {\"cluster_10\": \"B211122212\", \"count\": 6}, {\"cluster_10\": \"A111212222\", \"count\": 6}, {\"cluster_10\": \"B122122122\", \"count\": 6}, {\"cluster_10\": \"B212122212\", \"count\": 6}, {\"cluster_10\": \"B222112211\", \"count\": 6}, {\"cluster_10\": \"B211212111\", \"count\": 6}, {\"cluster_10\": \"A221221222\", \"count\": 6}, {\"cluster_10\": \"B111222221\", \"count\": 6}, {\"cluster_10\": \"A112212112\", \"count\": 6}, {\"cluster_10\": \"A222211221\", \"count\": 6}, {\"cluster_10\": \"B122112111\", \"count\": 6}, {\"cluster_10\": \"B212121221\", \"count\": 6}, {\"cluster_10\": \"B222122211\", \"count\": 6}, {\"cluster_10\": \"A212122212\", \"count\": 6}, {\"cluster_10\": \"A211112111\", \"count\": 6}, {\"cluster_10\": \"A122212212\", \"count\": 6}, {\"cluster_10\": \"A211121121\", \"count\": 6}, {\"cluster_10\": \"A222221122\", \"count\": 6}, {\"cluster_10\": \"B211112112\", \"count\": 6}, {\"cluster_10\": \"A211122112\", \"count\": 6}, {\"cluster_10\": \"B221122112\", \"count\": 6}, {\"cluster_10\": \"A121122122\", \"count\": 6}, {\"cluster_10\": \"B121222221\", \"count\": 6}, {\"cluster_10\": \"A211212221\", \"count\": 6}, {\"cluster_10\": \"A122221112\", \"count\": 6}, {\"cluster_10\": \"A222121121\", \"count\": 6}, {\"cluster_10\": \"A121122111\", \"count\": 6}, {\"cluster_10\": \"A211221122\", \"count\": 6}, {\"cluster_10\": \"B112222112\", \"count\": 6}, {\"cluster_10\": \"A211111111\", \"count\": 6}, {\"cluster_10\": \"B121111222\", \"count\": 6}, {\"cluster_10\": \"A221122211\", \"count\": 6}, {\"cluster_10\": \"A112212211\", \"count\": 6}, {\"cluster_10\": \"B112111121\", \"count\": 6}, {\"cluster_10\": \"B222122121\", \"count\": 6}, {\"cluster_10\": \"A221121222\", \"count\": 6}, {\"cluster_10\": \"B211121222\", \"count\": 6}, {\"cluster_10\": \"A222121122\", \"count\": 6}, {\"cluster_10\": \"B121212222\", \"count\": 6}, {\"cluster_10\": \"B112212121\", \"count\": 6}, {\"cluster_10\": \"A222212111\", \"count\": 6}, {\"cluster_10\": \"B222212122\", \"count\": 6}, {\"cluster_10\": \"A221222112\", \"count\": 6}, {\"cluster_10\": \"B221122222\", \"count\": 6}, {\"cluster_10\": \"B121111111\", \"count\": 6}, {\"cluster_10\": \"A212121221\", \"count\": 6}, {\"cluster_10\": \"A121122221\", \"count\": 6}, {\"cluster_10\": \"A222211212\", \"count\": 6}, {\"cluster_10\": \"A111122112\", \"count\": 6}, {\"cluster_10\": \"B222111111\", \"count\": 6}, {\"cluster_10\": \"B222211222\", \"count\": 6}, {\"cluster_10\": \"A221112211\", \"count\": 6}, {\"cluster_10\": \"A212221111\", \"count\": 6}, {\"cluster_10\": \"A121222212\", \"count\": 6}, {\"cluster_10\": \"A122121221\", \"count\": 6}, {\"cluster_10\": \"A211111211\", \"count\": 6}, {\"cluster_10\": \"B121211121\", \"count\": 6}, {\"cluster_10\": \"B212111122\", \"count\": 6}, {\"cluster_10\": \"B112111122\", \"count\": 6}, {\"cluster_10\": \"B221111211\", \"count\": 6}, {\"cluster_10\": \"B121212122\", \"count\": 6}, {\"cluster_10\": \"B112121112\", \"count\": 6}, {\"cluster_10\": \"A112121112\", \"count\": 6}, {\"cluster_10\": \"B212222111\", \"count\": 6}, {\"cluster_10\": \"A211222222\", \"count\": 6}, {\"cluster_10\": \"A111111111\", \"count\": 6}, {\"cluster_10\": \"A121221121\", \"count\": 6}, {\"cluster_10\": \"B122122111\", \"count\": 6}, {\"cluster_10\": \"A212121222\", \"count\": 6}, {\"cluster_10\": \"B221122212\", \"count\": 6}, {\"cluster_10\": \"A122211212\", \"count\": 6}, {\"cluster_10\": \"A221212211\", \"count\": 6}, {\"cluster_10\": \"B222212111\", \"count\": 6}, {\"cluster_10\": \"B222222222\", \"count\": 6}, {\"cluster_10\": \"B122211122\", \"count\": 6}, {\"cluster_10\": \"A121222221\", \"count\": 6}, {\"cluster_10\": \"B122121122\", \"count\": 6}, {\"cluster_10\": \"A212112222\", \"count\": 6}, {\"cluster_10\": \"B122122112\", \"count\": 6}, {\"cluster_10\": \"A222111122\", \"count\": 6}, {\"cluster_10\": \"B121221121\", \"count\": 6}, {\"cluster_10\": \"B112222122\", \"count\": 6}, {\"cluster_10\": \"B121211222\", \"count\": 6}, {\"cluster_10\": \"B222121111\", \"count\": 6}, {\"cluster_10\": \"A122111112\", \"count\": 6}, {\"cluster_10\": \"B112212212\", \"count\": 6}, {\"cluster_10\": \"B122221222\", \"count\": 6}, {\"cluster_10\": \"B121211111\", \"count\": 6}, {\"cluster_10\": \"A112211111\", \"count\": 6}, {\"cluster_10\": \"A211211221\", \"count\": 6}, {\"cluster_10\": \"B212122122\", \"count\": 6}, {\"cluster_10\": \"A222212221\", \"count\": 6}, {\"cluster_10\": \"A211111221\", \"count\": 6}, {\"cluster_10\": \"A111211112\", \"count\": 6}, {\"cluster_10\": \"A211212212\", \"count\": 6}, {\"cluster_10\": \"B122111122\", \"count\": 6}, {\"cluster_10\": \"B211212222\", \"count\": 6}, {\"cluster_10\": \"B121112222\", \"count\": 6}, {\"cluster_10\": \"A212122121\", \"count\": 6}, {\"cluster_10\": \"A211211112\", \"count\": 6}, {\"cluster_10\": \"B212111112\", \"count\": 6}, {\"cluster_10\": \"B112111212\", \"count\": 6}, {\"cluster_10\": \"B111122122\", \"count\": 6}, {\"cluster_10\": \"A111112211\", \"count\": 6}, {\"cluster_10\": \"B122212122\", \"count\": 6}, {\"cluster_10\": \"A212111211\", \"count\": 6}, {\"cluster_10\": \"A121111211\", \"count\": 6}, {\"cluster_10\": \"A112221211\", \"count\": 6}, {\"cluster_10\": \"A212212221\", \"count\": 6}, {\"cluster_10\": \"B111212122\", \"count\": 6}, {\"cluster_10\": \"B211221121\", \"count\": 6}, {\"cluster_10\": \"B212212211\", \"count\": 6}, {\"cluster_10\": \"A112212212\", \"count\": 5}, {\"cluster_10\": \"B112222111\", \"count\": 5}, {\"cluster_10\": \"B222212212\", \"count\": 5}, {\"cluster_10\": \"B111222211\", \"count\": 5}, {\"cluster_10\": \"A221121211\", \"count\": 5}, {\"cluster_10\": \"A122221111\", \"count\": 5}, {\"cluster_10\": \"A211212211\", \"count\": 5}, {\"cluster_10\": \"B222121112\", \"count\": 5}, {\"cluster_10\": \"B121212112\", \"count\": 5}, {\"cluster_10\": \"A212222121\", \"count\": 5}, {\"cluster_10\": \"A211122212\", \"count\": 5}, {\"cluster_10\": \"B212111222\", \"count\": 5}, {\"cluster_10\": \"B221212112\", \"count\": 5}, {\"cluster_10\": \"B221121222\", \"count\": 5}, {\"cluster_10\": \"A122122111\", \"count\": 5}, {\"cluster_10\": \"B212211122\", \"count\": 5}, {\"cluster_10\": \"B111222112\", \"count\": 5}, {\"cluster_10\": \"A122122112\", \"count\": 5}, {\"cluster_10\": \"B221212121\", \"count\": 5}, {\"cluster_10\": \"A221212221\", \"count\": 5}, {\"cluster_10\": \"B221111121\", \"count\": 5}, {\"cluster_10\": \"B112112121\", \"count\": 5}, {\"cluster_10\": \"B211122121\", \"count\": 5}, {\"cluster_10\": \"B111221221\", \"count\": 5}, {\"cluster_10\": \"A222221222\", \"count\": 5}, {\"cluster_10\": \"A112222112\", \"count\": 5}, {\"cluster_10\": \"B111111211\", \"count\": 5}, {\"cluster_10\": \"A121222112\", \"count\": 5}, {\"cluster_10\": \"A212211211\", \"count\": 5}, {\"cluster_10\": \"A122111111\", \"count\": 5}, {\"cluster_10\": \"A211212121\", \"count\": 5}, {\"cluster_10\": \"A111211122\", \"count\": 5}, {\"cluster_10\": \"A111211121\", \"count\": 5}, {\"cluster_10\": \"B112111111\", \"count\": 5}, {\"cluster_10\": \"A112121222\", \"count\": 5}, {\"cluster_10\": \"B222211112\", \"count\": 5}, {\"cluster_10\": \"B112211221\", \"count\": 5}, {\"cluster_10\": \"B222111221\", \"count\": 5}, {\"cluster_10\": \"B111212221\", \"count\": 5}, {\"cluster_10\": \"A211222212\", \"count\": 5}, {\"cluster_10\": \"B222121221\", \"count\": 5}, {\"cluster_10\": \"A111121121\", \"count\": 5}, {\"cluster_10\": \"A211121211\", \"count\": 5}, {\"cluster_10\": \"B112121222\", \"count\": 5}, {\"cluster_10\": \"A122222222\", \"count\": 5}, {\"cluster_10\": \"A112112212\", \"count\": 5}, {\"cluster_10\": \"A122112122\", \"count\": 5}, {\"cluster_10\": \"B112211112\", \"count\": 5}, {\"cluster_10\": \"B222121121\", \"count\": 5}, {\"cluster_10\": \"B221211122\", \"count\": 5}, {\"cluster_10\": \"B222212211\", \"count\": 5}, {\"cluster_10\": \"A121112111\", \"count\": 5}, {\"cluster_10\": \"A221111111\", \"count\": 5}, {\"cluster_10\": \"A222111212\", \"count\": 5}, {\"cluster_10\": \"A121112121\", \"count\": 5}, {\"cluster_10\": \"B212111211\", \"count\": 5}, {\"cluster_10\": \"B122221111\", \"count\": 5}, {\"cluster_10\": \"A122221121\", \"count\": 5}, {\"cluster_10\": \"B222121122\", \"count\": 5}, {\"cluster_10\": \"A211122121\", \"count\": 5}, {\"cluster_10\": \"B221122211\", \"count\": 5}, {\"cluster_10\": \"A212222122\", \"count\": 5}, {\"cluster_10\": \"A112112111\", \"count\": 5}, {\"cluster_10\": \"B122221112\", \"count\": 5}, {\"cluster_10\": \"B211211122\", \"count\": 5}, {\"cluster_10\": \"B222112212\", \"count\": 5}, {\"cluster_10\": \"A112121211\", \"count\": 5}, {\"cluster_10\": \"A121212112\", \"count\": 5}, {\"cluster_10\": \"B221112222\", \"count\": 5}, {\"cluster_10\": \"A211222122\", \"count\": 5}, {\"cluster_10\": \"B112121122\", \"count\": 5}, {\"cluster_10\": \"A221212111\", \"count\": 5}, {\"cluster_10\": \"A221111212\", \"count\": 5}, {\"cluster_10\": \"B112221212\", \"count\": 5}, {\"cluster_10\": \"A222122222\", \"count\": 5}, {\"cluster_10\": \"B111122212\", \"count\": 5}, {\"cluster_10\": \"A221111122\", \"count\": 5}, {\"cluster_10\": \"A211121212\", \"count\": 5}, {\"cluster_10\": \"B122111111\", \"count\": 5}, {\"cluster_10\": \"B212112112\", \"count\": 5}, {\"cluster_10\": \"B211111111\", \"count\": 5}, {\"cluster_10\": \"A112211121\", \"count\": 5}, {\"cluster_10\": \"A111221122\", \"count\": 5}, {\"cluster_10\": \"A212122122\", \"count\": 5}, {\"cluster_10\": \"B212222112\", \"count\": 5}, {\"cluster_10\": \"B222121212\", \"count\": 5}, {\"cluster_10\": \"A112111121\", \"count\": 5}, {\"cluster_10\": \"B221221222\", \"count\": 5}, {\"cluster_10\": \"B211212211\", \"count\": 5}, {\"cluster_10\": \"B212221121\", \"count\": 5}, {\"cluster_10\": \"A111212221\", \"count\": 5}, {\"cluster_10\": \"B112211111\", \"count\": 5}, {\"cluster_10\": \"A222122121\", \"count\": 5}, {\"cluster_10\": \"B212211221\", \"count\": 5}, {\"cluster_10\": \"A121221221\", \"count\": 5}, {\"cluster_10\": \"A222222222\", \"count\": 5}, {\"cluster_10\": \"A122212121\", \"count\": 5}, {\"cluster_10\": \"B111221112\", \"count\": 5}, {\"cluster_10\": \"B111221122\", \"count\": 5}, {\"cluster_10\": \"A122211122\", \"count\": 5}, {\"cluster_10\": \"B111212121\", \"count\": 5}, {\"cluster_10\": \"A122212122\", \"count\": 5}, {\"cluster_10\": \"B122222122\", \"count\": 5}, {\"cluster_10\": \"A211222111\", \"count\": 5}, {\"cluster_10\": \"B222111112\", \"count\": 5}, {\"cluster_10\": \"B112211122\", \"count\": 5}, {\"cluster_10\": \"A122212222\", \"count\": 5}, {\"cluster_10\": \"B211112121\", \"count\": 5}, {\"cluster_10\": \"B222112112\", \"count\": 5}, {\"cluster_10\": \"A211211122\", \"count\": 5}, {\"cluster_10\": \"B221222211\", \"count\": 5}, {\"cluster_10\": \"B112121211\", \"count\": 5}, {\"cluster_10\": \"B222112111\", \"count\": 5}, {\"cluster_10\": \"A222221111\", \"count\": 4}, {\"cluster_10\": \"A221111211\", \"count\": 4}, {\"cluster_10\": \"B111121212\", \"count\": 4}, {\"cluster_10\": \"B121221111\", \"count\": 4}, {\"cluster_10\": \"B211222122\", \"count\": 4}, {\"cluster_10\": \"A112222121\", \"count\": 4}, {\"cluster_10\": \"A122121121\", \"count\": 4}, {\"cluster_10\": \"B121111122\", \"count\": 4}, {\"cluster_10\": \"A111112111\", \"count\": 4}, {\"cluster_10\": \"A212222212\", \"count\": 4}, {\"cluster_10\": \"B121222212\", \"count\": 4}, {\"cluster_10\": \"B121212111\", \"count\": 4}, {\"cluster_10\": \"A212221121\", \"count\": 4}, {\"cluster_10\": \"B112122221\", \"count\": 4}, {\"cluster_10\": \"A211221121\", \"count\": 4}, {\"cluster_10\": \"A222111121\", \"count\": 4}, {\"cluster_10\": \"B122212222\", \"count\": 4}, {\"cluster_10\": \"B112111112\", \"count\": 4}, {\"cluster_10\": \"A112112211\", \"count\": 4}, {\"cluster_10\": \"A212112121\", \"count\": 4}, {\"cluster_10\": \"B221121122\", \"count\": 4}, {\"cluster_10\": \"B212112111\", \"count\": 4}, {\"cluster_10\": \"A221211122\", \"count\": 4}, {\"cluster_10\": \"B121112121\", \"count\": 4}, {\"cluster_10\": \"A211112122\", \"count\": 4}, {\"cluster_10\": \"A121122211\", \"count\": 4}, {\"cluster_10\": \"B122222121\", \"count\": 4}, {\"cluster_10\": \"A221212212\", \"count\": 4}, {\"cluster_10\": \"B112111222\", \"count\": 4}, {\"cluster_10\": \"A212111212\", \"count\": 4}, {\"cluster_10\": \"A111211212\", \"count\": 4}, {\"cluster_10\": \"B121112211\", \"count\": 4}, {\"cluster_10\": \"A122221212\", \"count\": 4}, {\"cluster_10\": \"A211222211\", \"count\": 4}, {\"cluster_10\": \"A112211211\", \"count\": 4}, {\"cluster_10\": \"A221222221\", \"count\": 4}, {\"cluster_10\": \"A122222122\", \"count\": 4}, {\"cluster_10\": \"B222212112\", \"count\": 4}, {\"cluster_10\": \"A112222122\", \"count\": 4}, {\"cluster_10\": \"A121211222\", \"count\": 4}, {\"cluster_10\": \"B122122222\", \"count\": 4}, {\"cluster_10\": \"A122212111\", \"count\": 4}, {\"cluster_10\": \"A212221112\", \"count\": 4}, {\"cluster_10\": \"A111121111\", \"count\": 4}, {\"cluster_10\": \"A222121211\", \"count\": 4}, {\"cluster_10\": \"A122121212\", \"count\": 4}, {\"cluster_10\": \"A122212112\", \"count\": 4}, {\"cluster_10\": \"B121212221\", \"count\": 4}, {\"cluster_10\": \"B121122111\", \"count\": 4}, {\"cluster_10\": \"B111212222\", \"count\": 4}, {\"cluster_10\": \"A211121122\", \"count\": 4}, {\"cluster_10\": \"A221112221\", \"count\": 4}, {\"cluster_10\": \"A112221121\", \"count\": 4}, {\"cluster_10\": \"A121111111\", \"count\": 4}, {\"cluster_10\": \"A121221212\", \"count\": 4}, {\"cluster_10\": \"B212112222\", \"count\": 4}, {\"cluster_10\": \"A211122221\", \"count\": 4}, {\"cluster_10\": \"B121122222\", \"count\": 4}, {\"cluster_10\": \"B222221221\", \"count\": 4}, {\"cluster_10\": \"B112211222\", \"count\": 4}, {\"cluster_10\": \"B222111211\", \"count\": 4}, {\"cluster_10\": \"B111222212\", \"count\": 4}, {\"cluster_10\": \"A222212222\", \"count\": 4}, {\"cluster_10\": \"B211122112\", \"count\": 4}, {\"cluster_10\": \"B122212212\", \"count\": 4}, {\"cluster_10\": \"A121222222\", \"count\": 4}, {\"cluster_10\": \"B221221221\", \"count\": 4}, {\"cluster_10\": \"A112222111\", \"count\": 4}, {\"cluster_10\": \"B122121211\", \"count\": 4}, {\"cluster_10\": \"B221212212\", \"count\": 4}, {\"cluster_10\": \"B221221211\", \"count\": 4}, {\"cluster_10\": \"A212121122\", \"count\": 4}, {\"cluster_10\": \"A211211121\", \"count\": 4}, {\"cluster_10\": \"B111111212\", \"count\": 4}, {\"cluster_10\": \"A112121111\", \"count\": 4}, {\"cluster_10\": \"B122221221\", \"count\": 4}, {\"cluster_10\": \"A212122221\", \"count\": 4}, {\"cluster_10\": \"A211122111\", \"count\": 4}, {\"cluster_10\": \"A122112111\", \"count\": 4}, {\"cluster_10\": \"A121222122\", \"count\": 3}, {\"cluster_10\": \"B121121212\", \"count\": 3}, {\"cluster_10\": \"A222211211\", \"count\": 3}, {\"cluster_10\": \"A221211121\", \"count\": 3}, {\"cluster_10\": \"B111122111\", \"count\": 3}, {\"cluster_10\": \"B211121112\", \"count\": 3}, {\"cluster_10\": \"B112122112\", \"count\": 3}, {\"cluster_10\": \"B122112122\", \"count\": 3}, {\"cluster_10\": \"B121212211\", \"count\": 3}, {\"cluster_10\": \"B122221212\", \"count\": 3}, {\"cluster_10\": \"A111211211\", \"count\": 3}, {\"cluster_10\": \"A112121221\", \"count\": 3}, {\"cluster_10\": \"B122122121\", \"count\": 3}, {\"cluster_10\": \"A121222111\", \"count\": 3}, {\"cluster_10\": \"A211221212\", \"count\": 3}, {\"cluster_10\": \"B111211222\", \"count\": 3}, {\"cluster_10\": \"B111111222\", \"count\": 3}, {\"cluster_10\": \"A122222221\", \"count\": 3}, {\"cluster_10\": \"B221211212\", \"count\": 3}, {\"cluster_10\": \"B212221122\", \"count\": 3}, {\"cluster_10\": \"A221211222\", \"count\": 3}, {\"cluster_10\": \"B121122122\", \"count\": 3}, {\"cluster_10\": \"B222111222\", \"count\": 3}, {\"cluster_10\": \"A121221211\", \"count\": 3}, {\"cluster_10\": \"A121112222\", \"count\": 3}, {\"cluster_10\": \"A222212122\", \"count\": 3}, {\"cluster_10\": \"A221222222\", \"count\": 3}, {\"cluster_10\": \"A221122111\", \"count\": 3}, {\"cluster_10\": \"B111122112\", \"count\": 3}, {\"cluster_10\": \"B221211221\", \"count\": 3}, {\"cluster_10\": \"B112221122\", \"count\": 3}, {\"cluster_10\": \"A121221222\", \"count\": 3}, {\"cluster_10\": \"B122211111\", \"count\": 3}, {\"cluster_10\": \"B111212111\", \"count\": 3}, {\"cluster_10\": \"A211122211\", \"count\": 3}, {\"cluster_10\": \"B221111111\", \"count\": 3}, {\"cluster_10\": \"A221221122\", \"count\": 2}, {\"cluster_10\": \"A122122221\", \"count\": 2}, {\"cluster_10\": \"A112211212\", \"count\": 2}, {\"cluster_10\": \"B221211222\", \"count\": 2}, {\"cluster_10\": \"B211121121\", \"count\": 2}, {\"cluster_10\": \"A111222112\", \"count\": 2}, {\"cluster_10\": \"B221222221\", \"count\": 2}, {\"cluster_10\": \"A221121111\", \"count\": 2}, {\"cluster_10\": \"B221111222\", \"count\": 2}, {\"cluster_10\": \"B212121212\", \"count\": 2}, {\"cluster_10\": \"B122121111\", \"count\": 2}, {\"cluster_10\": \"B122122212\", \"count\": 2}, {\"cluster_10\": \"B222221111\", \"count\": 2}, {\"cluster_10\": \"B222211221\", \"count\": 1}, {\"cluster_10\": \"B211211222\", \"count\": 1}, {\"cluster_10\": \"B111122221\", \"count\": 1}]}}, {\"mode\": \"vega-lite\"});\n",
       "</script>"
      ],
      "text/plain": [
       "alt.Chart(...)"
      ]
     },
     "metadata": {},
     "output_type": "display_data"
    },
    {
     "data": {
      "text/plain": [
       "<xlsxwriter.workbook.Workbook at 0x1230d75f0>"
      ]
     },
     "execution_count": 81,
     "metadata": {},
     "output_type": "execute_result"
    }
   ],
   "source": [
    "test = show_b_stats('cluster_10', df_clustered)\n",
    "test.write_excel(\"./gn_cluster10.xlsx\")"
   ]
  }
 ],
 "metadata": {
  "kernelspec": {
   "display_name": ".venv",
   "language": "python",
   "name": "python3"
  },
  "language_info": {
   "codemirror_mode": {
    "name": "ipython",
    "version": 3
   },
   "file_extension": ".py",
   "mimetype": "text/x-python",
   "name": "python",
   "nbconvert_exporter": "python",
   "pygments_lexer": "ipython3",
   "version": "3.12.9"
  }
 },
 "nbformat": 4,
 "nbformat_minor": 2
}

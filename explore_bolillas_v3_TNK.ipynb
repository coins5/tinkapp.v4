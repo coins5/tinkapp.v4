{
 "cells": [
  {
   "cell_type": "code",
   "execution_count": 1,
   "metadata": {},
   "outputs": [
    {
     "data": {
      "text/html": [
       "<script type=\"esms-options\">{\"shimMode\": true}</script><style>*[data-root-id],\n",
       "*[data-root-id] > * {\n",
       "  box-sizing: border-box;\n",
       "  font-family: var(--jp-ui-font-family);\n",
       "  font-size: var(--jp-ui-font-size1);\n",
       "  color: var(--vscode-editor-foreground, var(--jp-ui-font-color1));\n",
       "}\n",
       "\n",
       "/* Override VSCode background color */\n",
       ".cell-output-ipywidget-background:has(\n",
       "    > .cell-output-ipywidget-background > .lm-Widget > *[data-root-id]\n",
       "  ),\n",
       ".cell-output-ipywidget-background:has(> .lm-Widget > *[data-root-id]) {\n",
       "  background-color: transparent !important;\n",
       "}\n",
       "</style>"
      ]
     },
     "metadata": {},
     "output_type": "display_data"
    },
    {
     "data": {
      "application/javascript": "(function(root) {\n  function now() {\n    return new Date();\n  }\n\n  const force = true;\n  const py_version = '3.7.2'.replace('rc', '-rc.').replace('.dev', '-dev.');\n  const reloading = false;\n  const Bokeh = root.Bokeh;\n\n  // Set a timeout for this load but only if we are not already initializing\n  if (typeof (root._bokeh_timeout) === \"undefined\" || (force || !root._bokeh_is_initializing)) {\n    root._bokeh_timeout = Date.now() + 5000;\n    root._bokeh_failed_load = false;\n  }\n\n  function run_callbacks() {\n    try {\n      root._bokeh_onload_callbacks.forEach(function(callback) {\n        if (callback != null)\n          callback();\n      });\n    } finally {\n      delete root._bokeh_onload_callbacks;\n    }\n    console.debug(\"Bokeh: all callbacks have finished\");\n  }\n\n  function load_libs(css_urls, js_urls, js_modules, js_exports, callback) {\n    if (css_urls == null) css_urls = [];\n    if (js_urls == null) js_urls = [];\n    if (js_modules == null) js_modules = [];\n    if (js_exports == null) js_exports = {};\n\n    root._bokeh_onload_callbacks.push(callback);\n\n    if (root._bokeh_is_loading > 0) {\n      // Don't load bokeh if it is still initializing\n      console.debug(\"Bokeh: BokehJS is being loaded, scheduling callback at\", now());\n      return null;\n    } else if (js_urls.length === 0 && js_modules.length === 0 && Object.keys(js_exports).length === 0) {\n      // There is nothing to load\n      run_callbacks();\n      return null;\n    }\n\n    function on_load() {\n      root._bokeh_is_loading--;\n      if (root._bokeh_is_loading === 0) {\n        console.debug(\"Bokeh: all BokehJS libraries/stylesheets loaded\");\n        run_callbacks()\n      }\n    }\n    window._bokeh_on_load = on_load\n\n    function on_error(e) {\n      const src_el = e.srcElement\n      console.error(\"failed to load \" + (src_el.href || src_el.src));\n    }\n\n    const skip = [];\n    if (window.requirejs) {\n      window.requirejs.config({'packages': {}, 'paths': {}, 'shim': {}});\n      root._bokeh_is_loading = css_urls.length + 0;\n    } else {\n      root._bokeh_is_loading = css_urls.length + js_urls.length + js_modules.length + Object.keys(js_exports).length;\n    }\n\n    const existing_stylesheets = []\n    const links = document.getElementsByTagName('link')\n    for (let i = 0; i < links.length; i++) {\n      const link = links[i]\n      if (link.href != null) {\n        existing_stylesheets.push(link.href)\n      }\n    }\n    for (let i = 0; i < css_urls.length; i++) {\n      const url = css_urls[i];\n      const escaped = encodeURI(url)\n      if (existing_stylesheets.indexOf(escaped) !== -1) {\n        on_load()\n        continue;\n      }\n      const element = document.createElement(\"link\");\n      element.onload = on_load;\n      element.onerror = on_error;\n      element.rel = \"stylesheet\";\n      element.type = \"text/css\";\n      element.href = url;\n      console.debug(\"Bokeh: injecting link tag for BokehJS stylesheet: \", url);\n      document.body.appendChild(element);\n    }    var existing_scripts = []\n    const scripts = document.getElementsByTagName('script')\n    for (let i = 0; i < scripts.length; i++) {\n      var script = scripts[i]\n      if (script.src != null) {\n        existing_scripts.push(script.src)\n      }\n    }\n    for (let i = 0; i < js_urls.length; i++) {\n      const url = js_urls[i];\n      const escaped = encodeURI(url)\n      if (skip.indexOf(escaped) !== -1 || existing_scripts.indexOf(escaped) !== -1) {\n        if (!window.requirejs) {\n          on_load();\n        }\n        continue;\n      }\n      const element = document.createElement('script');\n      element.onload = on_load;\n      element.onerror = on_error;\n      element.async = false;\n      element.src = url;\n      console.debug(\"Bokeh: injecting script tag for BokehJS library: \", url);\n      document.head.appendChild(element);\n    }\n    for (let i = 0; i < js_modules.length; i++) {\n      const url = js_modules[i];\n      const escaped = encodeURI(url)\n      if (skip.indexOf(escaped) !== -1 || existing_scripts.indexOf(escaped) !== -1) {\n        if (!window.requirejs) {\n          on_load();\n        }\n        continue;\n      }\n      var element = document.createElement('script');\n      element.onload = on_load;\n      element.onerror = on_error;\n      element.async = false;\n      element.src = url;\n      element.type = \"module\";\n      console.debug(\"Bokeh: injecting script tag for BokehJS library: \", url);\n      document.head.appendChild(element);\n    }\n    for (const name in js_exports) {\n      const url = js_exports[name];\n      const escaped = encodeURI(url)\n      if (skip.indexOf(escaped) >= 0 || root[name] != null) {\n        if (!window.requirejs) {\n          on_load();\n        }\n        continue;\n      }\n      var element = document.createElement('script');\n      element.onerror = on_error;\n      element.async = false;\n      element.type = \"module\";\n      console.debug(\"Bokeh: injecting script tag for BokehJS library: \", url);\n      element.textContent = `\n      import ${name} from \"${url}\"\n      window.${name} = ${name}\n      window._bokeh_on_load()\n      `\n      document.head.appendChild(element);\n    }\n    if (!js_urls.length && !js_modules.length) {\n      on_load()\n    }\n  };\n\n  function inject_raw_css(css) {\n    const element = document.createElement(\"style\");\n    element.appendChild(document.createTextNode(css));\n    document.body.appendChild(element);\n  }\n\n  const js_urls = [\"https://cdn.holoviz.org/panel/1.6.2/dist/bundled/reactiveesm/es-module-shims@^1.10.0/dist/es-module-shims.min.js\", \"https://cdn.bokeh.org/bokeh/release/bokeh-3.7.2.min.js\", \"https://cdn.bokeh.org/bokeh/release/bokeh-gl-3.7.2.min.js\", \"https://cdn.bokeh.org/bokeh/release/bokeh-widgets-3.7.2.min.js\", \"https://cdn.bokeh.org/bokeh/release/bokeh-tables-3.7.2.min.js\", \"https://cdn.holoviz.org/panel/1.6.2/dist/panel.min.js\"];\n  const js_modules = [];\n  const js_exports = {};\n  const css_urls = [];\n  const inline_js = [    function(Bokeh) {\n      Bokeh.set_log_level(\"info\");\n    },\nfunction(Bokeh) {} // ensure no trailing comma for IE\n  ];\n\n  function run_inline_js() {\n    if ((root.Bokeh !== undefined) || (force === true)) {\n      for (let i = 0; i < inline_js.length; i++) {\n        try {\n          inline_js[i].call(root, root.Bokeh);\n        } catch(e) {\n          if (!reloading) {\n            throw e;\n          }\n        }\n      }\n      // Cache old bokeh versions\n      if (Bokeh != undefined && !reloading) {\n        var NewBokeh = root.Bokeh;\n        if (Bokeh.versions === undefined) {\n          Bokeh.versions = new Map();\n        }\n        if (NewBokeh.version !== Bokeh.version) {\n          Bokeh.versions.set(NewBokeh.version, NewBokeh)\n        }\n        root.Bokeh = Bokeh;\n      }\n    } else if (Date.now() < root._bokeh_timeout) {\n      setTimeout(run_inline_js, 100);\n    } else if (!root._bokeh_failed_load) {\n      console.log(\"Bokeh: BokehJS failed to load within specified timeout.\");\n      root._bokeh_failed_load = true;\n    }\n    root._bokeh_is_initializing = false\n  }\n\n  function load_or_wait() {\n    // Implement a backoff loop that tries to ensure we do not load multiple\n    // versions of Bokeh and its dependencies at the same time.\n    // In recent versions we use the root._bokeh_is_initializing flag\n    // to determine whether there is an ongoing attempt to initialize\n    // bokeh, however for backward compatibility we also try to ensure\n    // that we do not start loading a newer (Panel>=1.0 and Bokeh>3) version\n    // before older versions are fully initialized.\n    if (root._bokeh_is_initializing && Date.now() > root._bokeh_timeout) {\n      // If the timeout and bokeh was not successfully loaded we reset\n      // everything and try loading again\n      root._bokeh_timeout = Date.now() + 5000;\n      root._bokeh_is_initializing = false;\n      root._bokeh_onload_callbacks = undefined;\n      root._bokeh_is_loading = 0\n      console.log(\"Bokeh: BokehJS was loaded multiple times but one version failed to initialize.\");\n      load_or_wait();\n    } else if (root._bokeh_is_initializing || (typeof root._bokeh_is_initializing === \"undefined\" && root._bokeh_onload_callbacks !== undefined)) {\n      setTimeout(load_or_wait, 100);\n    } else {\n      root._bokeh_is_initializing = true\n      root._bokeh_onload_callbacks = []\n      const bokeh_loaded = root.Bokeh != null && (root.Bokeh.version === py_version || (root.Bokeh.versions !== undefined && root.Bokeh.versions.has(py_version)));\n      if (!reloading && !bokeh_loaded) {\n        if (root.Bokeh) {\n          root.Bokeh = undefined;\n        }\n        console.debug(\"Bokeh: BokehJS not loaded, scheduling load and callback at\", now());\n      }\n      load_libs(css_urls, js_urls, js_modules, js_exports, function() {\n        console.debug(\"Bokeh: BokehJS plotting callback run at\", now());\n        run_inline_js();\n      });\n    }\n  }\n  // Give older versions of the autoload script a head-start to ensure\n  // they initialize before we start loading newer version.\n  setTimeout(load_or_wait, 100)\n}(window));",
      "application/vnd.holoviews_load.v0+json": ""
     },
     "metadata": {},
     "output_type": "display_data"
    },
    {
     "data": {
      "application/javascript": "\nif ((window.PyViz === undefined) || (window.PyViz instanceof HTMLElement)) {\n  window.PyViz = {comms: {}, comm_status:{}, kernels:{}, receivers: {}, plot_index: []}\n}\n\n\n    function JupyterCommManager() {\n    }\n\n    JupyterCommManager.prototype.register_target = function(plot_id, comm_id, msg_handler) {\n      if (window.comm_manager || ((window.Jupyter !== undefined) && (Jupyter.notebook.kernel != null))) {\n        var comm_manager = window.comm_manager || Jupyter.notebook.kernel.comm_manager;\n        comm_manager.register_target(comm_id, function(comm) {\n          comm.on_msg(msg_handler);\n        });\n      } else if ((plot_id in window.PyViz.kernels) && (window.PyViz.kernels[plot_id])) {\n        window.PyViz.kernels[plot_id].registerCommTarget(comm_id, function(comm) {\n          comm.onMsg = msg_handler;\n        });\n      } else if (typeof google != 'undefined' && google.colab.kernel != null) {\n        google.colab.kernel.comms.registerTarget(comm_id, (comm) => {\n          var messages = comm.messages[Symbol.asyncIterator]();\n          function processIteratorResult(result) {\n            var message = result.value;\n            console.log(message)\n            var content = {data: message.data, comm_id};\n            var buffers = []\n            for (var buffer of message.buffers || []) {\n              buffers.push(new DataView(buffer))\n            }\n            var metadata = message.metadata || {};\n            var msg = {content, buffers, metadata}\n            msg_handler(msg);\n            return messages.next().then(processIteratorResult);\n          }\n          return messages.next().then(processIteratorResult);\n        })\n      }\n    }\n\n    JupyterCommManager.prototype.get_client_comm = function(plot_id, comm_id, msg_handler) {\n      if (comm_id in window.PyViz.comms) {\n        return window.PyViz.comms[comm_id];\n      } else if (window.comm_manager || ((window.Jupyter !== undefined) && (Jupyter.notebook.kernel != null))) {\n        var comm_manager = window.comm_manager || Jupyter.notebook.kernel.comm_manager;\n        var comm = comm_manager.new_comm(comm_id, {}, {}, {}, comm_id);\n        if (msg_handler) {\n          comm.on_msg(msg_handler);\n        }\n      } else if ((plot_id in window.PyViz.kernels) && (window.PyViz.kernels[plot_id])) {\n        var comm = window.PyViz.kernels[plot_id].connectToComm(comm_id);\n        comm.open();\n        if (msg_handler) {\n          comm.onMsg = msg_handler;\n        }\n      } else if (typeof google != 'undefined' && google.colab.kernel != null) {\n        var comm_promise = google.colab.kernel.comms.open(comm_id)\n        comm_promise.then((comm) => {\n          window.PyViz.comms[comm_id] = comm;\n          if (msg_handler) {\n            var messages = comm.messages[Symbol.asyncIterator]();\n            function processIteratorResult(result) {\n              var message = result.value;\n              var content = {data: message.data};\n              var metadata = message.metadata || {comm_id};\n              var msg = {content, metadata}\n              msg_handler(msg);\n              return messages.next().then(processIteratorResult);\n            }\n            return messages.next().then(processIteratorResult);\n          }\n        })\n        var sendClosure = (data, metadata, buffers, disposeOnDone) => {\n          return comm_promise.then((comm) => {\n            comm.send(data, metadata, buffers, disposeOnDone);\n          });\n        };\n        var comm = {\n          send: sendClosure\n        };\n      }\n      window.PyViz.comms[comm_id] = comm;\n      return comm;\n    }\n    window.PyViz.comm_manager = new JupyterCommManager();\n    \n\n\nvar JS_MIME_TYPE = 'application/javascript';\nvar HTML_MIME_TYPE = 'text/html';\nvar EXEC_MIME_TYPE = 'application/vnd.holoviews_exec.v0+json';\nvar CLASS_NAME = 'output';\n\n/**\n * Render data to the DOM node\n */\nfunction render(props, node) {\n  var div = document.createElement(\"div\");\n  var script = document.createElement(\"script\");\n  node.appendChild(div);\n  node.appendChild(script);\n}\n\n/**\n * Handle when a new output is added\n */\nfunction handle_add_output(event, handle) {\n  var output_area = handle.output_area;\n  var output = handle.output;\n  if ((output.data == undefined) || (!output.data.hasOwnProperty(EXEC_MIME_TYPE))) {\n    return\n  }\n  var id = output.metadata[EXEC_MIME_TYPE][\"id\"];\n  var toinsert = output_area.element.find(\".\" + CLASS_NAME.split(' ')[0]);\n  if (id !== undefined) {\n    var nchildren = toinsert.length;\n    var html_node = toinsert[nchildren-1].children[0];\n    html_node.innerHTML = output.data[HTML_MIME_TYPE];\n    var scripts = [];\n    var nodelist = html_node.querySelectorAll(\"script\");\n    for (var i in nodelist) {\n      if (nodelist.hasOwnProperty(i)) {\n        scripts.push(nodelist[i])\n      }\n    }\n\n    scripts.forEach( function (oldScript) {\n      var newScript = document.createElement(\"script\");\n      var attrs = [];\n      var nodemap = oldScript.attributes;\n      for (var j in nodemap) {\n        if (nodemap.hasOwnProperty(j)) {\n          attrs.push(nodemap[j])\n        }\n      }\n      attrs.forEach(function(attr) { newScript.setAttribute(attr.name, attr.value) });\n      newScript.appendChild(document.createTextNode(oldScript.innerHTML));\n      oldScript.parentNode.replaceChild(newScript, oldScript);\n    });\n    if (JS_MIME_TYPE in output.data) {\n      toinsert[nchildren-1].children[1].textContent = output.data[JS_MIME_TYPE];\n    }\n    output_area._hv_plot_id = id;\n    if ((window.Bokeh !== undefined) && (id in Bokeh.index)) {\n      window.PyViz.plot_index[id] = Bokeh.index[id];\n    } else {\n      window.PyViz.plot_index[id] = null;\n    }\n  } else if (output.metadata[EXEC_MIME_TYPE][\"server_id\"] !== undefined) {\n    var bk_div = document.createElement(\"div\");\n    bk_div.innerHTML = output.data[HTML_MIME_TYPE];\n    var script_attrs = bk_div.children[0].attributes;\n    for (var i = 0; i < script_attrs.length; i++) {\n      toinsert[toinsert.length - 1].childNodes[1].setAttribute(script_attrs[i].name, script_attrs[i].value);\n    }\n    // store reference to server id on output_area\n    output_area._bokeh_server_id = output.metadata[EXEC_MIME_TYPE][\"server_id\"];\n  }\n}\n\n/**\n * Handle when an output is cleared or removed\n */\nfunction handle_clear_output(event, handle) {\n  var id = handle.cell.output_area._hv_plot_id;\n  var server_id = handle.cell.output_area._bokeh_server_id;\n  if (((id === undefined) || !(id in PyViz.plot_index)) && (server_id !== undefined)) { return; }\n  var comm = window.PyViz.comm_manager.get_client_comm(\"hv-extension-comm\", \"hv-extension-comm\", function () {});\n  if (server_id !== null) {\n    comm.send({event_type: 'server_delete', 'id': server_id});\n    return;\n  } else if (comm !== null) {\n    comm.send({event_type: 'delete', 'id': id});\n  }\n  delete PyViz.plot_index[id];\n  if ((window.Bokeh !== undefined) & (id in window.Bokeh.index)) {\n    var doc = window.Bokeh.index[id].model.document\n    doc.clear();\n    const i = window.Bokeh.documents.indexOf(doc);\n    if (i > -1) {\n      window.Bokeh.documents.splice(i, 1);\n    }\n  }\n}\n\n/**\n * Handle kernel restart event\n */\nfunction handle_kernel_cleanup(event, handle) {\n  delete PyViz.comms[\"hv-extension-comm\"];\n  window.PyViz.plot_index = {}\n}\n\n/**\n * Handle update_display_data messages\n */\nfunction handle_update_output(event, handle) {\n  handle_clear_output(event, {cell: {output_area: handle.output_area}})\n  handle_add_output(event, handle)\n}\n\nfunction register_renderer(events, OutputArea) {\n  function append_mime(data, metadata, element) {\n    // create a DOM node to render to\n    var toinsert = this.create_output_subarea(\n    metadata,\n    CLASS_NAME,\n    EXEC_MIME_TYPE\n    );\n    this.keyboard_manager.register_events(toinsert);\n    // Render to node\n    var props = {data: data, metadata: metadata[EXEC_MIME_TYPE]};\n    render(props, toinsert[0]);\n    element.append(toinsert);\n    return toinsert\n  }\n\n  events.on('output_added.OutputArea', handle_add_output);\n  events.on('output_updated.OutputArea', handle_update_output);\n  events.on('clear_output.CodeCell', handle_clear_output);\n  events.on('delete.Cell', handle_clear_output);\n  events.on('kernel_ready.Kernel', handle_kernel_cleanup);\n\n  OutputArea.prototype.register_mime_type(EXEC_MIME_TYPE, append_mime, {\n    safe: true,\n    index: 0\n  });\n}\n\nif (window.Jupyter !== undefined) {\n  try {\n    var events = require('base/js/events');\n    var OutputArea = require('notebook/js/outputarea').OutputArea;\n    if (OutputArea.prototype.mime_types().indexOf(EXEC_MIME_TYPE) == -1) {\n      register_renderer(events, OutputArea);\n    }\n  } catch(err) {\n  }\n}\n",
      "application/vnd.holoviews_load.v0+json": ""
     },
     "metadata": {},
     "output_type": "display_data"
    },
    {
     "data": {
      "application/vnd.holoviews_exec.v0+json": "",
      "text/html": [
       "<div id='ab2045c7-fdc3-4894-87ed-d5afbfe4ed53'>\n",
       "  <div id=\"ac8983e1-ca43-4b0c-ae88-21724b272c59\" data-root-id=\"ab2045c7-fdc3-4894-87ed-d5afbfe4ed53\" style=\"display: contents;\"></div>\n",
       "</div>\n",
       "<script type=\"application/javascript\">(function(root) {\n",
       "  var docs_json = {\"94cca457-8dd0-4f9c-9c3f-43de1ab4fc1b\":{\"version\":\"3.7.2\",\"title\":\"Bokeh Application\",\"roots\":[{\"type\":\"object\",\"name\":\"panel.models.browser.BrowserInfo\",\"id\":\"ab2045c7-fdc3-4894-87ed-d5afbfe4ed53\"},{\"type\":\"object\",\"name\":\"panel.models.comm_manager.CommManager\",\"id\":\"a3751307-117e-4953-8a88-8ee250a20def\",\"attributes\":{\"plot_id\":\"ab2045c7-fdc3-4894-87ed-d5afbfe4ed53\",\"comm_id\":\"5d5a98d4e2d345b3affbf90c42f12d25\",\"client_comm_id\":\"0689bb79a96b4a9d91be62ecc28cd816\"}}],\"defs\":[{\"type\":\"model\",\"name\":\"ReactiveHTML1\"},{\"type\":\"model\",\"name\":\"FlexBox1\",\"properties\":[{\"name\":\"align_content\",\"kind\":\"Any\",\"default\":\"flex-start\"},{\"name\":\"align_items\",\"kind\":\"Any\",\"default\":\"flex-start\"},{\"name\":\"flex_direction\",\"kind\":\"Any\",\"default\":\"row\"},{\"name\":\"flex_wrap\",\"kind\":\"Any\",\"default\":\"wrap\"},{\"name\":\"gap\",\"kind\":\"Any\",\"default\":\"\"},{\"name\":\"justify_content\",\"kind\":\"Any\",\"default\":\"flex-start\"}]},{\"type\":\"model\",\"name\":\"FloatPanel1\",\"properties\":[{\"name\":\"config\",\"kind\":\"Any\",\"default\":{\"type\":\"map\"}},{\"name\":\"contained\",\"kind\":\"Any\",\"default\":true},{\"name\":\"position\",\"kind\":\"Any\",\"default\":\"right-top\"},{\"name\":\"offsetx\",\"kind\":\"Any\",\"default\":null},{\"name\":\"offsety\",\"kind\":\"Any\",\"default\":null},{\"name\":\"theme\",\"kind\":\"Any\",\"default\":\"primary\"},{\"name\":\"status\",\"kind\":\"Any\",\"default\":\"normalized\"}]},{\"type\":\"model\",\"name\":\"GridStack1\",\"properties\":[{\"name\":\"ncols\",\"kind\":\"Any\",\"default\":null},{\"name\":\"nrows\",\"kind\":\"Any\",\"default\":null},{\"name\":\"allow_resize\",\"kind\":\"Any\",\"default\":true},{\"name\":\"allow_drag\",\"kind\":\"Any\",\"default\":true},{\"name\":\"state\",\"kind\":\"Any\",\"default\":[]}]},{\"type\":\"model\",\"name\":\"drag1\",\"properties\":[{\"name\":\"slider_width\",\"kind\":\"Any\",\"default\":5},{\"name\":\"slider_color\",\"kind\":\"Any\",\"default\":\"black\"},{\"name\":\"value\",\"kind\":\"Any\",\"default\":50}]},{\"type\":\"model\",\"name\":\"click1\",\"properties\":[{\"name\":\"terminal_output\",\"kind\":\"Any\",\"default\":\"\"},{\"name\":\"debug_name\",\"kind\":\"Any\",\"default\":\"\"},{\"name\":\"clears\",\"kind\":\"Any\",\"default\":0}]},{\"type\":\"model\",\"name\":\"FastWrapper1\",\"properties\":[{\"name\":\"object\",\"kind\":\"Any\",\"default\":null},{\"name\":\"style\",\"kind\":\"Any\",\"default\":null}]},{\"type\":\"model\",\"name\":\"NotificationArea1\",\"properties\":[{\"name\":\"js_events\",\"kind\":\"Any\",\"default\":{\"type\":\"map\"}},{\"name\":\"max_notifications\",\"kind\":\"Any\",\"default\":5},{\"name\":\"notifications\",\"kind\":\"Any\",\"default\":[]},{\"name\":\"position\",\"kind\":\"Any\",\"default\":\"bottom-right\"},{\"name\":\"_clear\",\"kind\":\"Any\",\"default\":0},{\"name\":\"types\",\"kind\":\"Any\",\"default\":[{\"type\":\"map\",\"entries\":[[\"type\",\"warning\"],[\"background\",\"#ffc107\"],[\"icon\",{\"type\":\"map\",\"entries\":[[\"className\",\"fas fa-exclamation-triangle\"],[\"tagName\",\"i\"],[\"color\",\"white\"]]}]]},{\"type\":\"map\",\"entries\":[[\"type\",\"info\"],[\"background\",\"#007bff\"],[\"icon\",{\"type\":\"map\",\"entries\":[[\"className\",\"fas fa-info-circle\"],[\"tagName\",\"i\"],[\"color\",\"white\"]]}]]}]}]},{\"type\":\"model\",\"name\":\"Notification\",\"properties\":[{\"name\":\"background\",\"kind\":\"Any\",\"default\":null},{\"name\":\"duration\",\"kind\":\"Any\",\"default\":3000},{\"name\":\"icon\",\"kind\":\"Any\",\"default\":null},{\"name\":\"message\",\"kind\":\"Any\",\"default\":\"\"},{\"name\":\"notification_type\",\"kind\":\"Any\",\"default\":null},{\"name\":\"_rendered\",\"kind\":\"Any\",\"default\":false},{\"name\":\"_destroyed\",\"kind\":\"Any\",\"default\":false}]},{\"type\":\"model\",\"name\":\"TemplateActions1\",\"properties\":[{\"name\":\"open_modal\",\"kind\":\"Any\",\"default\":0},{\"name\":\"close_modal\",\"kind\":\"Any\",\"default\":0}]},{\"type\":\"model\",\"name\":\"BootstrapTemplateActions1\",\"properties\":[{\"name\":\"open_modal\",\"kind\":\"Any\",\"default\":0},{\"name\":\"close_modal\",\"kind\":\"Any\",\"default\":0}]},{\"type\":\"model\",\"name\":\"TemplateEditor1\",\"properties\":[{\"name\":\"layout\",\"kind\":\"Any\",\"default\":[]}]},{\"type\":\"model\",\"name\":\"MaterialTemplateActions1\",\"properties\":[{\"name\":\"open_modal\",\"kind\":\"Any\",\"default\":0},{\"name\":\"close_modal\",\"kind\":\"Any\",\"default\":0}]},{\"type\":\"model\",\"name\":\"ReactiveESM1\",\"properties\":[{\"name\":\"esm_constants\",\"kind\":\"Any\",\"default\":{\"type\":\"map\"}}]},{\"type\":\"model\",\"name\":\"JSComponent1\",\"properties\":[{\"name\":\"esm_constants\",\"kind\":\"Any\",\"default\":{\"type\":\"map\"}}]},{\"type\":\"model\",\"name\":\"ReactComponent1\",\"properties\":[{\"name\":\"esm_constants\",\"kind\":\"Any\",\"default\":{\"type\":\"map\"}}]},{\"type\":\"model\",\"name\":\"AnyWidgetComponent1\",\"properties\":[{\"name\":\"esm_constants\",\"kind\":\"Any\",\"default\":{\"type\":\"map\"}}]},{\"type\":\"model\",\"name\":\"request_value1\",\"properties\":[{\"name\":\"fill\",\"kind\":\"Any\",\"default\":\"none\"},{\"name\":\"_synced\",\"kind\":\"Any\",\"default\":null},{\"name\":\"_request_sync\",\"kind\":\"Any\",\"default\":0}]}]}};\n",
       "  var render_items = [{\"docid\":\"94cca457-8dd0-4f9c-9c3f-43de1ab4fc1b\",\"roots\":{\"ab2045c7-fdc3-4894-87ed-d5afbfe4ed53\":\"ac8983e1-ca43-4b0c-ae88-21724b272c59\"},\"root_ids\":[\"ab2045c7-fdc3-4894-87ed-d5afbfe4ed53\"]}];\n",
       "  var docs = Object.values(docs_json)\n",
       "  if (!docs) {\n",
       "    return\n",
       "  }\n",
       "  const py_version = docs[0].version.replace('rc', '-rc.').replace('.dev', '-dev.')\n",
       "  async function embed_document(root) {\n",
       "    var Bokeh = get_bokeh(root)\n",
       "    await Bokeh.embed.embed_items_notebook(docs_json, render_items);\n",
       "    for (const render_item of render_items) {\n",
       "      for (const root_id of render_item.root_ids) {\n",
       "\tconst id_el = document.getElementById(root_id)\n",
       "\tif (id_el.children.length && id_el.children[0].hasAttribute('data-root-id')) {\n",
       "\t  const root_el = id_el.children[0]\n",
       "\t  root_el.id = root_el.id + '-rendered'\n",
       "\t  for (const child of root_el.children) {\n",
       "            // Ensure JupyterLab does not capture keyboard shortcuts\n",
       "            // see: https://jupyterlab.readthedocs.io/en/4.1.x/extension/notebook.html#keyboard-interaction-model\n",
       "\t    child.setAttribute('data-lm-suppress-shortcuts', 'true')\n",
       "\t  }\n",
       "\t}\n",
       "      }\n",
       "    }\n",
       "  }\n",
       "  function get_bokeh(root) {\n",
       "    if (root.Bokeh === undefined) {\n",
       "      return null\n",
       "    } else if (root.Bokeh.version !== py_version) {\n",
       "      if (root.Bokeh.versions === undefined || !root.Bokeh.versions.has(py_version)) {\n",
       "\treturn null\n",
       "      }\n",
       "      return root.Bokeh.versions.get(py_version);\n",
       "    } else if (root.Bokeh.version === py_version) {\n",
       "      return root.Bokeh\n",
       "    }\n",
       "    return null\n",
       "  }\n",
       "  function is_loaded(root) {\n",
       "    var Bokeh = get_bokeh(root)\n",
       "    return (Bokeh != null && Bokeh.Panel !== undefined)\n",
       "  }\n",
       "  if (is_loaded(root)) {\n",
       "    embed_document(root);\n",
       "  } else {\n",
       "    var attempts = 0;\n",
       "    var timer = setInterval(function(root) {\n",
       "      if (is_loaded(root)) {\n",
       "        clearInterval(timer);\n",
       "        embed_document(root);\n",
       "      } else if (document.readyState == \"complete\") {\n",
       "        attempts++;\n",
       "        if (attempts > 200) {\n",
       "          clearInterval(timer);\n",
       "\t  var Bokeh = get_bokeh(root)\n",
       "\t  if (Bokeh == null || Bokeh.Panel == null) {\n",
       "            console.warn(\"Panel: ERROR: Unable to run Panel code because Bokeh or Panel library is missing\");\n",
       "\t  } else {\n",
       "\t    console.warn(\"Panel: WARNING: Attempting to render but not all required libraries could be resolved.\")\n",
       "\t    embed_document(root)\n",
       "\t  }\n",
       "        }\n",
       "      }\n",
       "    }, 25, root)\n",
       "  }\n",
       "})(window);</script>"
      ]
     },
     "metadata": {
      "application/vnd.holoviews_exec.v0+json": {
       "id": "ab2045c7-fdc3-4894-87ed-d5afbfe4ed53"
      }
     },
     "output_type": "display_data"
    }
   ],
   "source": [
    "from bs4 import BeautifulSoup\n",
    "# import pandas as pd\n",
    "from datetime import datetime, timedelta\n",
    "from itertools import combinations\n",
    "import json\n",
    "import requests\n",
    "import math\n",
    "from typing import Optional, List, Dict\n",
    "import os\n",
    "\n",
    "from pydantic import BaseModel\n",
    "from typing import Mapping\n",
    "import numpy as np\n",
    "import polars as pl\n",
    "import hvplot.polars\n",
    "import pandas as pd\n",
    "import altair as alt\n",
    "import math\n",
    "\n",
    "from shared.utils import formalize_data_with_str\n",
    "from shared.random_rules import RandomRules"
   ]
  },
  {
   "cell_type": "code",
   "execution_count": 2,
   "metadata": {},
   "outputs": [],
   "source": [
    "rr = RandomRules(\n",
    "  TOTAL_NUMBERS = 50,\n",
    "  CHOOSE = 6,\n",
    "  MAX_PRIMES = 3,\n",
    "  N_VALUES=[\"1\", \"2\", \"3\"],\n",
    "  # Rangos de valores de las bolillas\n",
    "  MIN_B_VALUES = [1, 2, 3, 4, 5, 6],\n",
    "  MAX_B_VALUES = [45, 46, 47, 48, 49, 50]\n",
    ")"
   ]
  },
  {
   "cell_type": "code",
   "execution_count": 3,
   "metadata": {},
   "outputs": [],
   "source": [
    "url = 'https://resultados.latinka.com.pe/i.do?m=historico&t=0&s=41'\n",
    "response = requests.get(url)\n",
    "soup = BeautifulSoup(response.text, 'html.parser')\n",
    "\n",
    "tables = soup.select('table')\n",
    "rows = tables[1].find_all('tr')"
   ]
  },
  {
   "cell_type": "code",
   "execution_count": 4,
   "metadata": {},
   "outputs": [
    {
     "name": "stdout",
     "output_type": "stream",
     "text": [
      "TOTAL_LINES=2479\n"
     ]
    },
    {
     "data": {
      "text/html": [
       "<div><style>\n",
       ".dataframe > thead > tr,\n",
       ".dataframe > tbody > tr {\n",
       "  text-align: right;\n",
       "  white-space: pre-wrap;\n",
       "}\n",
       "</style>\n",
       "<small>shape: (10, 30)</small><table border=\"1\" class=\"dataframe\"><thead><tr><th>fecha</th><th>sorteo</th><th>bolillas</th><th>yapa</th><th>adicionales</th><th>sorteo_extra</th><th>id</th><th>combo</th><th>b1</th><th>b2</th><th>b3</th><th>b4</th><th>b5</th><th>b6</th><th>str_b1</th><th>str_b2</th><th>str_b3</th><th>str_b4</th><th>str_b5</th><th>str_b6</th><th>post_str_b1</th><th>post_str_b2</th><th>post_str_b3</th><th>post_str_b4</th><th>post_str_b5</th><th>post_str_blast</th><th>is_rare_combination</th><th>reason</th><th>jumps_map</th><th>unijump</th></tr><tr><td>str</td><td>str</td><td>str</td><td>str</td><td>str</td><td>str</td><td>str</td><td>array[u8, 6]</td><td>u8</td><td>u8</td><td>u8</td><td>u8</td><td>u8</td><td>u8</td><td>str</td><td>str</td><td>str</td><td>str</td><td>str</td><td>str</td><td>str</td><td>str</td><td>str</td><td>str</td><td>str</td><td>str</td><td>bool</td><td>u8</td><td>str</td><td>i64</td></tr></thead><tbody><tr><td>&quot;25/05/2025&quot;</td><td>&quot;1197&quot;</td><td>&quot;21 31 01 09 04 08&quot;</td><td>&quot;25&quot;</td><td>&quot;35 41 24&quot;</td><td>&quot;Promoción Sí o Sí&quot;</td><td>&quot;010408092131&quot;</td><td>[1, 4, … 31]</td><td>1</td><td>4</td><td>8</td><td>9</td><td>21</td><td>31</td><td>&quot;01&quot;</td><td>&quot;04&quot;</td><td>&quot;08&quot;</td><td>&quot;09&quot;</td><td>&quot;21&quot;</td><td>&quot;31&quot;</td><td>null</td><td>null</td><td>null</td><td>null</td><td>null</td><td>null</td><td>false</td><td>0</td><td>&quot;03_04_01_12_10&quot;</td><td>-45</td></tr><tr><td>&quot;21/05/2025&quot;</td><td>&quot;1196&quot;</td><td>&quot;07 36 24 34 45 11&quot;</td><td>&quot;01&quot;</td><td>&quot;33 47&quot;</td><td>&quot;Promoción Sí o Sí&quot;</td><td>&quot;071124343645&quot;</td><td>[7, 11, … 45]</td><td>7</td><td>11</td><td>24</td><td>34</td><td>36</td><td>45</td><td>&quot;07&quot;</td><td>&quot;11&quot;</td><td>&quot;24&quot;</td><td>&quot;34&quot;</td><td>&quot;36&quot;</td><td>&quot;45&quot;</td><td>&quot;01&quot;</td><td>&quot;04&quot;</td><td>&quot;08&quot;</td><td>&quot;09&quot;</td><td>&quot;21&quot;</td><td>&quot;31&quot;</td><td>false</td><td>0</td><td>&quot;04_13_10_02_09&quot;</td><td>13</td></tr><tr><td>&quot;18/05/2025&quot;</td><td>&quot;1195&quot;</td><td>&quot;11 13 42 09 33 15&quot;</td><td>&quot;46&quot;</td><td>&quot;12&quot;</td><td>&quot;Promoción Sí o Sí&quot;</td><td>&quot;091113153342&quot;</td><td>[9, 11, … 42]</td><td>9</td><td>11</td><td>13</td><td>15</td><td>33</td><td>42</td><td>&quot;09&quot;</td><td>&quot;11&quot;</td><td>&quot;13&quot;</td><td>&quot;15&quot;</td><td>&quot;33&quot;</td><td>&quot;42&quot;</td><td>&quot;07&quot;</td><td>&quot;11&quot;</td><td>&quot;24&quot;</td><td>&quot;34&quot;</td><td>&quot;36&quot;</td><td>&quot;45&quot;</td><td>true</td><td>8</td><td>&quot;02_02_02_18_09&quot;</td><td>-57</td></tr><tr><td>&quot;14/05/2025&quot;</td><td>&quot;1194&quot;</td><td>&quot;38 07 12 13 04 09&quot;</td><td>&quot;42&quot;</td><td>&quot;46 28&quot;</td><td>&quot;Promoción Sí o Sí&quot;</td><td>&quot;040709121338&quot;</td><td>[4, 7, … 38]</td><td>4</td><td>7</td><td>9</td><td>12</td><td>13</td><td>38</td><td>&quot;04&quot;</td><td>&quot;07&quot;</td><td>&quot;09&quot;</td><td>&quot;12&quot;</td><td>&quot;13&quot;</td><td>&quot;38&quot;</td><td>&quot;09&quot;</td><td>&quot;11&quot;</td><td>&quot;13&quot;</td><td>&quot;15&quot;</td><td>&quot;33&quot;</td><td>&quot;42&quot;</td><td>false</td><td>0</td><td>&quot;03_02_03_01_25&quot;</td><td>34</td></tr><tr><td>&quot;11/05/2025&quot;</td><td>&quot;1193&quot;</td><td>&quot;46 21 49 45 03 43&quot;</td><td>&quot;17&quot;</td><td>&quot;20 30 32 44&quot;</td><td>&quot;Promoción Sí o Sí&quot;</td><td>&quot;032143454649&quot;</td><td>[3, 21, … 49]</td><td>3</td><td>21</td><td>43</td><td>45</td><td>46</td><td>49</td><td>&quot;03&quot;</td><td>&quot;21&quot;</td><td>&quot;43&quot;</td><td>&quot;45&quot;</td><td>&quot;46&quot;</td><td>&quot;49&quot;</td><td>&quot;04&quot;</td><td>&quot;07&quot;</td><td>&quot;09&quot;</td><td>&quot;12&quot;</td><td>&quot;13&quot;</td><td>&quot;38&quot;</td><td>false</td><td>0</td><td>&quot;18_22_02_01_03&quot;</td><td>-59</td></tr><tr><td>&quot;07/05/2025&quot;</td><td>&quot;1192&quot;</td><td>&quot;48 02 38 50 33 35&quot;</td><td>&quot;49&quot;</td><td>&quot;20 16&quot;</td><td>&quot;Promoción Sí o Sí&quot;</td><td>&quot;023335384850&quot;</td><td>[2, 33, … 50]</td><td>2</td><td>33</td><td>35</td><td>38</td><td>48</td><td>50</td><td>&quot;02&quot;</td><td>&quot;33&quot;</td><td>&quot;35&quot;</td><td>&quot;38&quot;</td><td>&quot;48&quot;</td><td>&quot;50&quot;</td><td>&quot;03&quot;</td><td>&quot;21&quot;</td><td>&quot;43&quot;</td><td>&quot;45&quot;</td><td>&quot;46&quot;</td><td>&quot;49&quot;</td><td>true</td><td>16</td><td>&quot;31_02_03_10_02&quot;</td><td>3</td></tr><tr><td>&quot;04/05/2025&quot;</td><td>&quot;1191&quot;</td><td>&quot;09 35 19 15 37 10&quot;</td><td>&quot;46&quot;</td><td>&quot;25 02 38&quot;</td><td>&quot;Promoción Sí o Sí&quot;</td><td>&quot;091015193537&quot;</td><td>[9, 10, … 37]</td><td>9</td><td>10</td><td>15</td><td>19</td><td>35</td><td>37</td><td>&quot;09&quot;</td><td>&quot;10&quot;</td><td>&quot;15&quot;</td><td>&quot;19&quot;</td><td>&quot;35&quot;</td><td>&quot;37&quot;</td><td>&quot;02&quot;</td><td>&quot;33&quot;</td><td>&quot;35&quot;</td><td>&quot;38&quot;</td><td>&quot;48&quot;</td><td>&quot;50&quot;</td><td>true</td><td>16</td><td>&quot;01_05_04_16_02&quot;</td><td>-57</td></tr><tr><td>&quot;30/04/2025&quot;</td><td>&quot;1190&quot;</td><td>&quot;11 36 33 06 02 16&quot;</td><td>&quot;37&quot;</td><td>&quot;14 07 10 01&quot;</td><td>&quot;Promoción Sí o Sí&quot;</td><td>&quot;020611163336&quot;</td><td>[2, 6, … 36]</td><td>2</td><td>6</td><td>11</td><td>16</td><td>33</td><td>36</td><td>&quot;02&quot;</td><td>&quot;06&quot;</td><td>&quot;11&quot;</td><td>&quot;16&quot;</td><td>&quot;33&quot;</td><td>&quot;36&quot;</td><td>&quot;09&quot;</td><td>&quot;10&quot;</td><td>&quot;15&quot;</td><td>&quot;19&quot;</td><td>&quot;35&quot;</td><td>&quot;37&quot;</td><td>true</td><td>8</td><td>&quot;04_05_05_17_03&quot;</td><td>-51</td></tr><tr><td>&quot;27/04/2025&quot;</td><td>&quot;1189&quot;</td><td>&quot;46 33 21 08 07 41&quot;</td><td>&quot;39&quot;</td><td>&quot;36 09 37&quot;</td><td>&quot;Promoción Sí o Sí&quot;</td><td>&quot;070821334146&quot;</td><td>[7, 8, … 46]</td><td>7</td><td>8</td><td>21</td><td>33</td><td>41</td><td>46</td><td>&quot;07&quot;</td><td>&quot;08&quot;</td><td>&quot;21&quot;</td><td>&quot;33&quot;</td><td>&quot;41&quot;</td><td>&quot;46&quot;</td><td>&quot;02&quot;</td><td>&quot;06&quot;</td><td>&quot;11&quot;</td><td>&quot;16&quot;</td><td>&quot;33&quot;</td><td>&quot;36&quot;</td><td>false</td><td>0</td><td>&quot;01_13_12_08_05&quot;</td><td>-6</td></tr><tr><td>&quot;23/04/2025&quot;</td><td>&quot;1188&quot;</td><td>&quot;22 16 20 33 35 09&quot;</td><td>&quot;46&quot;</td><td>&quot;24&quot;</td><td>&quot;Promoción Sí o Sí&quot;</td><td>&quot;091620223335&quot;</td><td>[9, 16, … 35]</td><td>9</td><td>16</td><td>20</td><td>22</td><td>33</td><td>35</td><td>&quot;09&quot;</td><td>&quot;16&quot;</td><td>&quot;20&quot;</td><td>&quot;22&quot;</td><td>&quot;33&quot;</td><td>&quot;35&quot;</td><td>&quot;07&quot;</td><td>&quot;08&quot;</td><td>&quot;21&quot;</td><td>&quot;33&quot;</td><td>&quot;41&quot;</td><td>&quot;46&quot;</td><td>false</td><td>0</td><td>&quot;07_04_02_11_02&quot;</td><td>-39</td></tr></tbody></table></div>"
      ],
      "text/plain": [
       "shape: (10, 30)\n",
       "┌────────────┬────────┬───────────────┬──────┬───┬───────────────┬────────┬──────────────┬─────────┐\n",
       "│ fecha      ┆ sorteo ┆ bolillas      ┆ yapa ┆ … ┆ is_rare_combi ┆ reason ┆ jumps_map    ┆ unijump │\n",
       "│ ---        ┆ ---    ┆ ---           ┆ ---  ┆   ┆ nation        ┆ ---    ┆ ---          ┆ ---     │\n",
       "│ str        ┆ str    ┆ str           ┆ str  ┆   ┆ ---           ┆ u8     ┆ str          ┆ i64     │\n",
       "│            ┆        ┆               ┆      ┆   ┆ bool          ┆        ┆              ┆         │\n",
       "╞════════════╪════════╪═══════════════╪══════╪═══╪═══════════════╪════════╪══════════════╪═════════╡\n",
       "│ 25/05/2025 ┆ 1197   ┆ 21 31 01 09   ┆ 25   ┆ … ┆ false         ┆ 0      ┆ 03_04_01_12_ ┆ -45     │\n",
       "│            ┆        ┆ 04 08         ┆      ┆   ┆               ┆        ┆ 10           ┆         │\n",
       "│ 21/05/2025 ┆ 1196   ┆ 07 36 24 34   ┆ 01   ┆ … ┆ false         ┆ 0      ┆ 04_13_10_02_ ┆ 13      │\n",
       "│            ┆        ┆ 45 11         ┆      ┆   ┆               ┆        ┆ 09           ┆         │\n",
       "│ 18/05/2025 ┆ 1195   ┆ 11 13 42 09   ┆ 46   ┆ … ┆ true          ┆ 8      ┆ 02_02_02_18_ ┆ -57     │\n",
       "│            ┆        ┆ 33 15         ┆      ┆   ┆               ┆        ┆ 09           ┆         │\n",
       "│ 14/05/2025 ┆ 1194   ┆ 38 07 12 13   ┆ 42   ┆ … ┆ false         ┆ 0      ┆ 03_02_03_01_ ┆ 34      │\n",
       "│            ┆        ┆ 04 09         ┆      ┆   ┆               ┆        ┆ 25           ┆         │\n",
       "│ 11/05/2025 ┆ 1193   ┆ 46 21 49 45   ┆ 17   ┆ … ┆ false         ┆ 0      ┆ 18_22_02_01_ ┆ -59     │\n",
       "│            ┆        ┆ 03 43         ┆      ┆   ┆               ┆        ┆ 03           ┆         │\n",
       "│ 07/05/2025 ┆ 1192   ┆ 48 02 38 50   ┆ 49   ┆ … ┆ true          ┆ 16     ┆ 31_02_03_10_ ┆ 3       │\n",
       "│            ┆        ┆ 33 35         ┆      ┆   ┆               ┆        ┆ 02           ┆         │\n",
       "│ 04/05/2025 ┆ 1191   ┆ 09 35 19 15   ┆ 46   ┆ … ┆ true          ┆ 16     ┆ 01_05_04_16_ ┆ -57     │\n",
       "│            ┆        ┆ 37 10         ┆      ┆   ┆               ┆        ┆ 02           ┆         │\n",
       "│ 30/04/2025 ┆ 1190   ┆ 11 36 33 06   ┆ 37   ┆ … ┆ true          ┆ 8      ┆ 04_05_05_17_ ┆ -51     │\n",
       "│            ┆        ┆ 02 16         ┆      ┆   ┆               ┆        ┆ 03           ┆         │\n",
       "│ 27/04/2025 ┆ 1189   ┆ 46 33 21 08   ┆ 39   ┆ … ┆ false         ┆ 0      ┆ 01_13_12_08_ ┆ -6      │\n",
       "│            ┆        ┆ 07 41         ┆      ┆   ┆               ┆        ┆ 05           ┆         │\n",
       "│ 23/04/2025 ┆ 1188   ┆ 22 16 20 33   ┆ 46   ┆ … ┆ false         ┆ 0      ┆ 07_04_02_11_ ┆ -39     │\n",
       "│            ┆        ┆ 35 09         ┆      ┆   ┆               ┆        ┆ 02           ┆         │\n",
       "└────────────┴────────┴───────────────┴──────┴───┴───────────────┴────────┴──────────────┴─────────┘"
      ]
     },
     "metadata": {},
     "output_type": "display_data"
    }
   ],
   "source": [
    "lst = []\n",
    "post_str_b1 = None\n",
    "post_str_b2 = None\n",
    "post_str_b3 = None\n",
    "post_str_b4 = None\n",
    "post_str_b5 = None\n",
    "post_str_blast = None\n",
    "for row in rows:\n",
    "  cols = [data.text.strip() for data in row.find_all('td')]\n",
    "  \n",
    "  id, bolillas_int, str_combo = formalize_data_with_str(bolillas_str=cols[2])\n",
    "  cols.append(id)\n",
    "  cols.append(bolillas_int)\n",
    "  cols.extend([b for b in bolillas_int])\n",
    "  cols.extend(str_combo)\n",
    "  cols.append(post_str_b1)\n",
    "  cols.append(post_str_b2)\n",
    "  cols.append(post_str_b3)\n",
    "  cols.append(post_str_b4)\n",
    "  cols.append(post_str_b5)\n",
    "  cols.append(post_str_blast)\n",
    "\n",
    "  is_rare, reason = rr.is_rare_combination(bolillas_int, id)\n",
    "  cols.append(is_rare)\n",
    "  cols.append(reason)\n",
    "\n",
    "  cols.append(rr.jumps_map(bolillas_int))\n",
    "  cols.append(rr.unijump(bolillas_int))\n",
    "  \n",
    "  lst.append(cols)\n",
    "\n",
    "  post_str_b1 = str_combo[0]\n",
    "  post_str_b2 = str_combo[1]\n",
    "  post_str_b3 = str_combo[2]\n",
    "  post_str_b4 = str_combo[3]\n",
    "  post_str_b5 = str_combo[4]\n",
    "  post_str_blast = str_combo[-1]\n",
    "\n",
    "with open('./gn_tnk_v3.json', 'w') as file: \n",
    "  json.dump(lst, file)\n",
    "\n",
    "dfRows = pl.DataFrame(\n",
    "  lst,\n",
    "  schema=[\n",
    "    'fecha', 'sorteo', 'bolillas', 'yapa', 'adicionales', 'sorteo_extra',\n",
    "    'id', 'combo', 'b1', 'b2', 'b3', 'b4', 'b5', 'b6',\n",
    "    'str_b1', 'str_b2', 'str_b3', 'str_b4', 'str_b5', 'str_b6',\n",
    "    'post_str_b1', 'post_str_b2', 'post_str_b3', 'post_str_b4', 'post_str_b5', 'post_str_blast',\n",
    "    'is_rare_combination', 'reason',\n",
    "    \"jumps_map\", \"unijump\"\n",
    "  ],\n",
    "  schema_overrides={\n",
    "    'combo': pl.Array(pl.UInt8, 6),\n",
    "    'b1': pl.UInt8,\n",
    "    'b2': pl.UInt8,\n",
    "    'b3': pl.UInt8,\n",
    "    'b4': pl.UInt8,\n",
    "    'b5': pl.UInt8,\n",
    "    'b6': pl.UInt8,\n",
    "    'reason': pl.UInt8\n",
    "  },\n",
    "  orient='row'\n",
    ")\n",
    "\n",
    "TOTAL_LINES = len(dfRows)\n",
    "print(f'{TOTAL_LINES=}')\n",
    "display(dfRows.head(10))\n",
    "dfRows.write_parquet('dfrows_tnk.parquet')"
   ]
  },
  {
   "cell_type": "code",
   "execution_count": 5,
   "metadata": {},
   "outputs": [
    {
     "data": {
      "text/plain": [
       "4"
      ]
     },
     "execution_count": 5,
     "metadata": {},
     "output_type": "execute_result"
    }
   ],
   "source": [
    "dfRows.item(0, 'b2')"
   ]
  },
  {
   "cell_type": "code",
   "execution_count": 6,
   "metadata": {},
   "outputs": [],
   "source": [
    "import holoviews as hv\n",
    "def plot_post_col (col: str, post_col: str, test_value: str | None = None):\n",
    "  if test_value == None:\n",
    "    test_value = dfRows.item(0, col)\n",
    "    print(f'Setting {test_value=}')\n",
    "\n",
    "  df_viz = dfRows \\\n",
    "    .filter(\n",
    "      pl.col(col) == test_value,\n",
    "      pl.col(post_col).is_not_null()\n",
    "    ) \\\n",
    "    .group_by(\n",
    "      post_col\n",
    "    ).agg(pl.count(post_col).alias('count')) \\\n",
    "    .sort(\"count\", descending=True)\n",
    "  \n",
    "  \n",
    "  df_10_last = dfRows \\\n",
    "    .filter(\n",
    "      pl.col(col) == test_value,\n",
    "      pl.col(post_col).is_not_null()\n",
    "    ) \\\n",
    "    .head(10)\n",
    "  \n",
    "  # Agrega una columna que sea el porcentaje de la frecuencia relativa\n",
    "  total = df_viz['count'].sum()\n",
    "  df_viz = df_viz.with_columns(\n",
    "    ( (pl.col('count') / total) * 100 ).alias('percent')\n",
    "  )\n",
    "\n",
    "  mean_percent = df_viz['percent'].mean()\n",
    "  mean_percent_75 = mean_percent * 75 / 50\n",
    "  mean_percent_25 = mean_percent * 25 / 50\n",
    "\n",
    "  chart = df_viz.hvplot.bar(\n",
    "    x=post_col,\n",
    "    y='percent'\n",
    "  )\n",
    "\n",
    "  chart = chart * hv.HLine(mean_percent).opts(color='red')\n",
    "  chart = chart * hv.HLine(mean_percent_75).opts(color='blue')\n",
    "  chart = chart * hv.HLine(mean_percent_25).opts(color='blue')\n",
    "  \n",
    "  chart.opts(default_tools=[\"pan\"])\n",
    "\n",
    "  df_jumps_map = dfRows \\\n",
    "    .filter(\n",
    "      pl.col(col) == test_value,\n",
    "      pl.col(post_col).is_not_null()\n",
    "    ) \\\n",
    "    .group_by(\n",
    "      'jumps_map'\n",
    "    ).agg(pl.count('jumps_map').alias('count')) \\\n",
    "    .sort(\"count\", descending=True)\n",
    "  \n",
    "  df_unijump = dfRows \\\n",
    "    .filter(\n",
    "      pl.col(col) == test_value,\n",
    "      pl.col(post_col).is_not_null()\n",
    "    ) \\\n",
    "    .group_by(\n",
    "      'unijump'\n",
    "    ).agg(pl.count('unijump').alias('count')) \\\n",
    "    .sort(\"count\", descending=True)\n",
    "\n",
    "\n",
    "  print(f'df_viz FOR {col} = {test_value}')\n",
    "  display(df_viz)\n",
    "\n",
    "  display(chart)\n",
    "  \n",
    "\n",
    "  print(f'df_10_last FOR {col} = {test_value}')\n",
    "  last_results = list(set(df_10_last[post_col][0:3]))\n",
    "  print(f'Last 3 results {last_results=}')\n",
    "  display(df_10_last)\n",
    "  \n",
    "  print(f'df_jumps_map FOR {col} = {test_value}')\n",
    "  display(df_jumps_map)\n",
    "  # display(df_unijump)\n",
    "\n",
    "  print(f'df_unijump FOR {col} = {test_value}')\n",
    "  display(df_unijump)\n",
    "\n",
    "  lst_post_str_b = df_viz.filter(pl.col('percent') >= mean_percent)[post_col].to_list()\n",
    "  lst_jumps_map = df_jumps_map['jumps_map'].to_list() # Used to discard\n",
    "  \n",
    "  return lst_post_str_b, lst_jumps_map, last_results"
   ]
  },
  {
   "cell_type": "code",
   "execution_count": 7,
   "metadata": {},
   "outputs": [
    {
     "name": "stdout",
     "output_type": "stream",
     "text": [
      "Setting test_value='01'\n",
      "df_viz FOR str_b1 = 01\n"
     ]
    },
    {
     "data": {
      "text/html": [
       "<div><style>\n",
       ".dataframe > thead > tr,\n",
       ".dataframe > tbody > tr {\n",
       "  text-align: right;\n",
       "  white-space: pre-wrap;\n",
       "}\n",
       "</style>\n",
       "<small>shape: (26, 3)</small><table border=\"1\" class=\"dataframe\"><thead><tr><th>post_str_b1</th><th>count</th><th>percent</th></tr><tr><td>str</td><td>u32</td><td>f64</td></tr></thead><tbody><tr><td>&quot;01&quot;</td><td>58</td><td>17.210682</td></tr><tr><td>&quot;02&quot;</td><td>42</td><td>12.462908</td></tr><tr><td>&quot;05&quot;</td><td>30</td><td>8.902077</td></tr><tr><td>&quot;03&quot;</td><td>28</td><td>8.308605</td></tr><tr><td>&quot;04&quot;</td><td>22</td><td>6.52819</td></tr><tr><td>&hellip;</td><td>&hellip;</td><td>&hellip;</td></tr><tr><td>&quot;21&quot;</td><td>2</td><td>0.593472</td></tr><tr><td>&quot;28&quot;</td><td>1</td><td>0.296736</td></tr><tr><td>&quot;24&quot;</td><td>1</td><td>0.296736</td></tr><tr><td>&quot;27&quot;</td><td>1</td><td>0.296736</td></tr><tr><td>&quot;25&quot;</td><td>1</td><td>0.296736</td></tr></tbody></table></div>"
      ],
      "text/plain": [
       "shape: (26, 3)\n",
       "┌─────────────┬───────┬───────────┐\n",
       "│ post_str_b1 ┆ count ┆ percent   │\n",
       "│ ---         ┆ ---   ┆ ---       │\n",
       "│ str         ┆ u32   ┆ f64       │\n",
       "╞═════════════╪═══════╪═══════════╡\n",
       "│ 01          ┆ 58    ┆ 17.210682 │\n",
       "│ 02          ┆ 42    ┆ 12.462908 │\n",
       "│ 05          ┆ 30    ┆ 8.902077  │\n",
       "│ 03          ┆ 28    ┆ 8.308605  │\n",
       "│ 04          ┆ 22    ┆ 6.52819   │\n",
       "│ …           ┆ …     ┆ …         │\n",
       "│ 21          ┆ 2     ┆ 0.593472  │\n",
       "│ 28          ┆ 1     ┆ 0.296736  │\n",
       "│ 24          ┆ 1     ┆ 0.296736  │\n",
       "│ 27          ┆ 1     ┆ 0.296736  │\n",
       "│ 25          ┆ 1     ┆ 0.296736  │\n",
       "└─────────────┴───────┴───────────┘"
      ]
     },
     "metadata": {},
     "output_type": "display_data"
    },
    {
     "data": {},
     "metadata": {},
     "output_type": "display_data"
    },
    {
     "data": {
      "application/vnd.holoviews_exec.v0+json": "",
      "text/html": [
       "<div id='f327264c-0024-4df1-98ac-6ac0494f4a56'>\n",
       "  <div id=\"bc951a27-b5e5-48b3-b1de-027e3749f181\" data-root-id=\"f327264c-0024-4df1-98ac-6ac0494f4a56\" style=\"display: contents;\"></div>\n",
       "</div>\n",
       "<script type=\"application/javascript\">(function(root) {\n",
       "  var docs_json = {\"2ab76fab-8573-4ddc-b97a-9880b313249a\":{\"version\":\"3.7.2\",\"title\":\"Bokeh Application\",\"roots\":[{\"type\":\"object\",\"name\":\"Row\",\"id\":\"f327264c-0024-4df1-98ac-6ac0494f4a56\",\"attributes\":{\"name\":\"Row00286\",\"tags\":[\"embedded\"],\"stylesheets\":[\"\\n:host(.pn-loading):before, .pn-loading:before {\\n  background-color: #c3c3c3;\\n  mask-size: auto calc(min(50%, 400px));\\n  -webkit-mask-size: auto calc(min(50%, 400px));\\n}\",{\"type\":\"object\",\"name\":\"ImportedStyleSheet\",\"id\":\"2e966350-3c24-41c5-ac87-393ee7b9c16d\",\"attributes\":{\"url\":\"https://cdn.holoviz.org/panel/1.6.2/dist/css/loading.css\"}},{\"type\":\"object\",\"name\":\"ImportedStyleSheet\",\"id\":\"60eed23c-825b-4f96-baa8-9abc10c65a76\",\"attributes\":{\"url\":\"https://cdn.holoviz.org/panel/1.6.2/dist/css/listpanel.css\"}},{\"type\":\"object\",\"name\":\"ImportedStyleSheet\",\"id\":\"c155f3ba-a9ff-4838-a8e5-8d29c0938d7c\",\"attributes\":{\"url\":\"https://cdn.holoviz.org/panel/1.6.2/dist/bundled/theme/default.css\"}},{\"type\":\"object\",\"name\":\"ImportedStyleSheet\",\"id\":\"dd9369a3-82e0-4c25-a038-e190382551c5\",\"attributes\":{\"url\":\"https://cdn.holoviz.org/panel/1.6.2/dist/bundled/theme/native.css\"}}],\"min_width\":700,\"margin\":0,\"sizing_mode\":\"stretch_width\",\"align\":\"start\",\"children\":[{\"type\":\"object\",\"name\":\"Spacer\",\"id\":\"d65d77f7-1854-4a1d-925e-cf1c4db16ce3\",\"attributes\":{\"name\":\"HSpacer00290\",\"stylesheets\":[\"\\n:host(.pn-loading):before, .pn-loading:before {\\n  background-color: #c3c3c3;\\n  mask-size: auto calc(min(50%, 400px));\\n  -webkit-mask-size: auto calc(min(50%, 400px));\\n}\",{\"id\":\"2e966350-3c24-41c5-ac87-393ee7b9c16d\"},{\"id\":\"c155f3ba-a9ff-4838-a8e5-8d29c0938d7c\"},{\"id\":\"dd9369a3-82e0-4c25-a038-e190382551c5\"}],\"margin\":0,\"sizing_mode\":\"stretch_width\",\"align\":\"start\"}},{\"type\":\"object\",\"name\":\"Figure\",\"id\":\"930d09c2-e2ea-4cb0-ad06-4931ef625241\",\"attributes\":{\"width\":700,\"height\":300,\"margin\":[5,10],\"sizing_mode\":\"fixed\",\"align\":\"start\",\"x_range\":{\"type\":\"object\",\"name\":\"FactorRange\",\"id\":\"1567be3e-9021-40f3-a33d-36ad48ce3ed6\",\"attributes\":{\"name\":\"post_str_b1\",\"tags\":[[[\"post_str_b1\",null]],[]],\"factors\":[\"01\",\"02\",\"05\",\"03\",\"04\",\"09\",\"06\",\"08\",\"10\",\"12\",\"07\",\"13\",\"20\",\"15\",\"16\",\"14\",\"11\",\"22\",\"18\",\"19\",\"17\",\"21\",\"28\",\"24\",\"27\",\"25\"]}},\"y_range\":{\"type\":\"object\",\"name\":\"Range1d\",\"id\":\"5acec552-e3d0-423b-99b3-5b34ebb7424a\",\"attributes\":{\"name\":\"percent\",\"tags\":[[[\"percent\",null]],{\"type\":\"map\",\"entries\":[[\"invert_yaxis\",false],[\"autorange\",false]]}],\"end\":18.902077151335313,\"reset_start\":0.0,\"reset_end\":18.902077151335313}},\"x_scale\":{\"type\":\"object\",\"name\":\"CategoricalScale\",\"id\":\"d270cb17-d84c-4e6d-a069-4b9f82a22c0c\"},\"y_scale\":{\"type\":\"object\",\"name\":\"LinearScale\",\"id\":\"e6f3988a-5639-4edd-821c-665f67e1a4c1\"},\"title\":{\"type\":\"object\",\"name\":\"Title\",\"id\":\"5ee2fe65-6e79-491e-81eb-c2061921ace2\",\"attributes\":{\"text_color\":\"black\",\"text_font_size\":\"12pt\"}},\"renderers\":[{\"type\":\"object\",\"name\":\"GlyphRenderer\",\"id\":\"a5977629-2d69-4f5a-bdf0-43ff97137027\",\"attributes\":{\"data_source\":{\"type\":\"object\",\"name\":\"ColumnDataSource\",\"id\":\"cba43010-1058-49cc-afd8-1bc57ded4d9f\",\"attributes\":{\"selected\":{\"type\":\"object\",\"name\":\"Selection\",\"id\":\"fead237e-41ba-4087-a6d9-d839435cdf6c\",\"attributes\":{\"indices\":[],\"line_indices\":[]}},\"selection_policy\":{\"type\":\"object\",\"name\":\"UnionRenderers\",\"id\":\"9735f551-a3f3-439b-8c81-6583ffe84076\"},\"data\":{\"type\":\"map\",\"entries\":[[\"post_str_b1\",[\"01\",\"02\",\"05\",\"03\",\"04\",\"09\",\"06\",\"08\",\"10\",\"12\",\"07\",\"13\",\"20\",\"15\",\"16\",\"14\",\"11\",\"22\",\"18\",\"19\",\"17\",\"21\",\"28\",\"24\",\"27\",\"25\"]],[\"percent\",{\"type\":\"ndarray\",\"array\":{\"type\":\"bytes\",\"data\":\"TnqvSe81MUA7EmhHAu0oQHTobg7dzSFAKAzwhAGeIECI7ubQ3RwaQIju5tDdHBpAiO7m0N0cGkBXfeuqb10VQHTobg7dzRFAH6fk45R8DECI7ubQ3RwKQFd966pvXQVAKAzwhAGeAEAoDPCEAZ4AQCgM8IQBngBA8DXpvSa99z/wNem9Jr33Px+n5OOUfOw/H6fk45R87D8fp+TjlHzsP8DE7Ze4/eI/wMTtl7j94j/AxO2XuP3SP8DE7Ze4/dI/wMTtl7j90j/AxO2XuP3SPw==\"},\"shape\":[26],\"dtype\":\"float64\",\"order\":\"little\"}]]}}},\"view\":{\"type\":\"object\",\"name\":\"CDSView\",\"id\":\"5376feb5-dc29-4c36-b6a5-0d8d61a33178\",\"attributes\":{\"filter\":{\"type\":\"object\",\"name\":\"AllIndices\",\"id\":\"d6174b52-49a3-4494-8e12-78303031a8cf\"}}},\"glyph\":{\"type\":\"object\",\"name\":\"VBar\",\"id\":\"a49329be-e059-49a0-a38a-b13dfc0e178f\",\"attributes\":{\"tags\":[\"apply_ranges\"],\"x\":{\"type\":\"field\",\"field\":\"post_str_b1\"},\"width\":{\"type\":\"value\",\"value\":0.8},\"top\":{\"type\":\"field\",\"field\":\"percent\"},\"fill_color\":{\"type\":\"value\",\"value\":\"#30a2da\"},\"hatch_color\":{\"type\":\"value\",\"value\":\"#30a2da\"}}},\"selection_glyph\":{\"type\":\"object\",\"name\":\"VBar\",\"id\":\"7ed07d48-a7ad-4682-ad3f-5c24b3dd1c3a\",\"attributes\":{\"tags\":[\"apply_ranges\"],\"x\":{\"type\":\"field\",\"field\":\"post_str_b1\"},\"width\":{\"type\":\"value\",\"value\":0.8},\"bottom\":{\"type\":\"value\",\"value\":0},\"top\":{\"type\":\"field\",\"field\":\"percent\"},\"line_color\":{\"type\":\"value\",\"value\":\"black\"},\"line_alpha\":{\"type\":\"value\",\"value\":1.0},\"line_width\":{\"type\":\"value\",\"value\":1},\"line_join\":{\"type\":\"value\",\"value\":\"bevel\"},\"line_cap\":{\"type\":\"value\",\"value\":\"butt\"},\"line_dash\":{\"type\":\"value\",\"value\":[]},\"line_dash_offset\":{\"type\":\"value\",\"value\":0},\"fill_color\":{\"type\":\"value\",\"value\":\"#30a2da\"},\"fill_alpha\":{\"type\":\"value\",\"value\":1.0},\"hatch_color\":{\"type\":\"value\",\"value\":\"#30a2da\"},\"hatch_alpha\":{\"type\":\"value\",\"value\":1.0},\"hatch_scale\":{\"type\":\"value\",\"value\":12.0},\"hatch_pattern\":{\"type\":\"value\",\"value\":null},\"hatch_weight\":{\"type\":\"value\",\"value\":1.0}}},\"nonselection_glyph\":{\"type\":\"object\",\"name\":\"VBar\",\"id\":\"321af1fe-53e2-491a-9e57-d2f5d064b97b\",\"attributes\":{\"tags\":[\"apply_ranges\"],\"x\":{\"type\":\"field\",\"field\":\"post_str_b1\"},\"width\":{\"type\":\"value\",\"value\":0.8},\"top\":{\"type\":\"field\",\"field\":\"percent\"},\"line_alpha\":{\"type\":\"value\",\"value\":0.1},\"fill_color\":{\"type\":\"value\",\"value\":\"#30a2da\"},\"fill_alpha\":{\"type\":\"value\",\"value\":0.1},\"hatch_color\":{\"type\":\"value\",\"value\":\"#30a2da\"},\"hatch_alpha\":{\"type\":\"value\",\"value\":0.1}}},\"muted_glyph\":{\"type\":\"object\",\"name\":\"VBar\",\"id\":\"d1d4896c-17b6-4f02-8c74-33b1a87cf99e\",\"attributes\":{\"tags\":[\"apply_ranges\"],\"x\":{\"type\":\"field\",\"field\":\"post_str_b1\"},\"width\":{\"type\":\"value\",\"value\":0.8},\"top\":{\"type\":\"field\",\"field\":\"percent\"},\"line_alpha\":{\"type\":\"value\",\"value\":0.2},\"fill_color\":{\"type\":\"value\",\"value\":\"#30a2da\"},\"fill_alpha\":{\"type\":\"value\",\"value\":0.2},\"hatch_color\":{\"type\":\"value\",\"value\":\"#30a2da\"},\"hatch_alpha\":{\"type\":\"value\",\"value\":0.2}}}}},{\"type\":\"object\",\"name\":\"Span\",\"id\":\"8950b576-2f5b-4898-8094-3f96b83527bf\",\"attributes\":{\"level\":\"glyph\",\"location\":3.8461538461538463,\"line_color\":\"red\",\"line_width\":3}},{\"type\":\"object\",\"name\":\"Span\",\"id\":\"b84f7268-33c2-4acb-92ff-eb2f95da7815\",\"attributes\":{\"level\":\"glyph\",\"location\":5.769230769230769,\"line_color\":\"blue\",\"line_width\":3}},{\"type\":\"object\",\"name\":\"Span\",\"id\":\"da2739b0-0cca-4362-bc27-dfd117b516b1\",\"attributes\":{\"level\":\"glyph\",\"location\":1.9230769230769231,\"line_color\":\"blue\",\"line_width\":3}}],\"toolbar\":{\"type\":\"object\",\"name\":\"Toolbar\",\"id\":\"62cc62bb-892a-4161-b0a0-79a60fcfdb7d\",\"attributes\":{\"tools\":[{\"type\":\"object\",\"name\":\"WheelZoomTool\",\"id\":\"a785e7be-72cd-4204-a937-984ad2e5c655\",\"attributes\":{\"tags\":[\"hv_created\"],\"renderers\":\"auto\",\"zoom_together\":\"none\"}},{\"type\":\"object\",\"name\":\"HoverTool\",\"id\":\"47f85e33-d2e6-435d-89a5-87904dc3bd1d\",\"attributes\":{\"tags\":[\"hv_created\"],\"renderers\":[{\"id\":\"a5977629-2d69-4f5a-bdf0-43ff97137027\"}],\"tooltips\":[[\"post_str_b1\",\"@{post_str_b1}\"],[\"percent\",\"@{percent}\"]]}},{\"type\":\"object\",\"name\":\"SaveTool\",\"id\":\"efed289f-39ea-4794-a449-c265fe72102e\"},{\"type\":\"object\",\"name\":\"PanTool\",\"id\":\"be63ae48-ce1b-47a4-968c-00bfb71ae03c\"},{\"type\":\"object\",\"name\":\"BoxZoomTool\",\"id\":\"32dc9c28-47d1-4e34-a89b-cad641825198\",\"attributes\":{\"dimensions\":\"both\",\"overlay\":{\"type\":\"object\",\"name\":\"BoxAnnotation\",\"id\":\"0c695943-2073-4bf3-aa29-fd3b825b4021\",\"attributes\":{\"syncable\":false,\"line_color\":\"black\",\"line_alpha\":1.0,\"line_width\":2,\"line_dash\":[4,4],\"fill_color\":\"lightgrey\",\"fill_alpha\":0.5,\"level\":\"overlay\",\"visible\":false,\"left\":{\"type\":\"number\",\"value\":\"nan\"},\"right\":{\"type\":\"number\",\"value\":\"nan\"},\"top\":{\"type\":\"number\",\"value\":\"nan\"},\"bottom\":{\"type\":\"number\",\"value\":\"nan\"},\"left_units\":\"canvas\",\"right_units\":\"canvas\",\"top_units\":\"canvas\",\"bottom_units\":\"canvas\",\"handles\":{\"type\":\"object\",\"name\":\"BoxInteractionHandles\",\"id\":\"c705845d-8bbc-45c6-93d4-6a9459135c77\",\"attributes\":{\"all\":{\"type\":\"object\",\"name\":\"AreaVisuals\",\"id\":\"3a23895c-7f21-414e-81bd-7f1243ff2a6e\",\"attributes\":{\"fill_color\":\"white\",\"hover_fill_color\":\"lightgray\"}}}}}}}},{\"type\":\"object\",\"name\":\"ResetTool\",\"id\":\"3878741a-4b34-4a81-8eab-d52a4e00b973\"}],\"active_drag\":{\"id\":\"be63ae48-ce1b-47a4-968c-00bfb71ae03c\"}}},\"left\":[{\"type\":\"object\",\"name\":\"LinearAxis\",\"id\":\"f8717725-1e6e-4345-bc37-323b0e3b3eed\",\"attributes\":{\"ticker\":{\"type\":\"object\",\"name\":\"BasicTicker\",\"id\":\"db1495d2-4d49-436f-b114-0f9706b9b08e\",\"attributes\":{\"mantissas\":[1,2,5]}},\"formatter\":{\"type\":\"object\",\"name\":\"BasicTickFormatter\",\"id\":\"0fb7c417-d238-471b-9e46-043ae84bad4f\"},\"axis_label\":\"percent\",\"major_label_policy\":{\"type\":\"object\",\"name\":\"AllLabels\",\"id\":\"3b8a417a-2efe-4c14-ba91-aaa33c71e233\"}}}],\"below\":[{\"type\":\"object\",\"name\":\"CategoricalAxis\",\"id\":\"ce3abf32-4a86-49c2-ab0d-19e23ca00a8b\",\"attributes\":{\"ticker\":{\"type\":\"object\",\"name\":\"CategoricalTicker\",\"id\":\"32976f36-90b4-4f34-9022-b511721f54d1\"},\"formatter\":{\"type\":\"object\",\"name\":\"CategoricalTickFormatter\",\"id\":\"ffd161e4-ea66-4449-a807-e7dd829e9bda\"},\"axis_label\":\"post_str_b1\",\"major_label_policy\":{\"type\":\"object\",\"name\":\"AllLabels\",\"id\":\"caa19bc9-4094-453d-bdc6-81f41dddf7da\"}}}],\"center\":[{\"type\":\"object\",\"name\":\"Grid\",\"id\":\"9141eec5-daff-4c48-9f82-3fa0ef7c7922\",\"attributes\":{\"axis\":{\"id\":\"ce3abf32-4a86-49c2-ab0d-19e23ca00a8b\"},\"grid_line_color\":null}},{\"type\":\"object\",\"name\":\"Grid\",\"id\":\"6368ac3b-f636-4310-86cc-b6b468a12e6d\",\"attributes\":{\"dimension\":1,\"axis\":{\"id\":\"f8717725-1e6e-4345-bc37-323b0e3b3eed\"},\"grid_line_color\":null}}],\"min_border_top\":10,\"min_border_bottom\":10,\"min_border_left\":10,\"min_border_right\":10,\"output_backend\":\"webgl\"}},{\"type\":\"object\",\"name\":\"Spacer\",\"id\":\"918daacf-a505-429b-ba12-b753561a5d52\",\"attributes\":{\"name\":\"HSpacer00291\",\"stylesheets\":[\"\\n:host(.pn-loading):before, .pn-loading:before {\\n  background-color: #c3c3c3;\\n  mask-size: auto calc(min(50%, 400px));\\n  -webkit-mask-size: auto calc(min(50%, 400px));\\n}\",{\"id\":\"2e966350-3c24-41c5-ac87-393ee7b9c16d\"},{\"id\":\"c155f3ba-a9ff-4838-a8e5-8d29c0938d7c\"},{\"id\":\"dd9369a3-82e0-4c25-a038-e190382551c5\"}],\"margin\":0,\"sizing_mode\":\"stretch_width\",\"align\":\"start\"}}]}}],\"defs\":[{\"type\":\"model\",\"name\":\"ReactiveHTML1\"},{\"type\":\"model\",\"name\":\"FlexBox1\",\"properties\":[{\"name\":\"align_content\",\"kind\":\"Any\",\"default\":\"flex-start\"},{\"name\":\"align_items\",\"kind\":\"Any\",\"default\":\"flex-start\"},{\"name\":\"flex_direction\",\"kind\":\"Any\",\"default\":\"row\"},{\"name\":\"flex_wrap\",\"kind\":\"Any\",\"default\":\"wrap\"},{\"name\":\"gap\",\"kind\":\"Any\",\"default\":\"\"},{\"name\":\"justify_content\",\"kind\":\"Any\",\"default\":\"flex-start\"}]},{\"type\":\"model\",\"name\":\"FloatPanel1\",\"properties\":[{\"name\":\"config\",\"kind\":\"Any\",\"default\":{\"type\":\"map\"}},{\"name\":\"contained\",\"kind\":\"Any\",\"default\":true},{\"name\":\"position\",\"kind\":\"Any\",\"default\":\"right-top\"},{\"name\":\"offsetx\",\"kind\":\"Any\",\"default\":null},{\"name\":\"offsety\",\"kind\":\"Any\",\"default\":null},{\"name\":\"theme\",\"kind\":\"Any\",\"default\":\"primary\"},{\"name\":\"status\",\"kind\":\"Any\",\"default\":\"normalized\"}]},{\"type\":\"model\",\"name\":\"GridStack1\",\"properties\":[{\"name\":\"ncols\",\"kind\":\"Any\",\"default\":null},{\"name\":\"nrows\",\"kind\":\"Any\",\"default\":null},{\"name\":\"allow_resize\",\"kind\":\"Any\",\"default\":true},{\"name\":\"allow_drag\",\"kind\":\"Any\",\"default\":true},{\"name\":\"state\",\"kind\":\"Any\",\"default\":[]}]},{\"type\":\"model\",\"name\":\"drag1\",\"properties\":[{\"name\":\"slider_width\",\"kind\":\"Any\",\"default\":5},{\"name\":\"slider_color\",\"kind\":\"Any\",\"default\":\"black\"},{\"name\":\"value\",\"kind\":\"Any\",\"default\":50}]},{\"type\":\"model\",\"name\":\"click1\",\"properties\":[{\"name\":\"terminal_output\",\"kind\":\"Any\",\"default\":\"\"},{\"name\":\"debug_name\",\"kind\":\"Any\",\"default\":\"\"},{\"name\":\"clears\",\"kind\":\"Any\",\"default\":0}]},{\"type\":\"model\",\"name\":\"FastWrapper1\",\"properties\":[{\"name\":\"object\",\"kind\":\"Any\",\"default\":null},{\"name\":\"style\",\"kind\":\"Any\",\"default\":null}]},{\"type\":\"model\",\"name\":\"NotificationArea1\",\"properties\":[{\"name\":\"js_events\",\"kind\":\"Any\",\"default\":{\"type\":\"map\"}},{\"name\":\"max_notifications\",\"kind\":\"Any\",\"default\":5},{\"name\":\"notifications\",\"kind\":\"Any\",\"default\":[]},{\"name\":\"position\",\"kind\":\"Any\",\"default\":\"bottom-right\"},{\"name\":\"_clear\",\"kind\":\"Any\",\"default\":0},{\"name\":\"types\",\"kind\":\"Any\",\"default\":[{\"type\":\"map\",\"entries\":[[\"type\",\"warning\"],[\"background\",\"#ffc107\"],[\"icon\",{\"type\":\"map\",\"entries\":[[\"className\",\"fas fa-exclamation-triangle\"],[\"tagName\",\"i\"],[\"color\",\"white\"]]}]]},{\"type\":\"map\",\"entries\":[[\"type\",\"info\"],[\"background\",\"#007bff\"],[\"icon\",{\"type\":\"map\",\"entries\":[[\"className\",\"fas fa-info-circle\"],[\"tagName\",\"i\"],[\"color\",\"white\"]]}]]}]}]},{\"type\":\"model\",\"name\":\"Notification\",\"properties\":[{\"name\":\"background\",\"kind\":\"Any\",\"default\":null},{\"name\":\"duration\",\"kind\":\"Any\",\"default\":3000},{\"name\":\"icon\",\"kind\":\"Any\",\"default\":null},{\"name\":\"message\",\"kind\":\"Any\",\"default\":\"\"},{\"name\":\"notification_type\",\"kind\":\"Any\",\"default\":null},{\"name\":\"_rendered\",\"kind\":\"Any\",\"default\":false},{\"name\":\"_destroyed\",\"kind\":\"Any\",\"default\":false}]},{\"type\":\"model\",\"name\":\"TemplateActions1\",\"properties\":[{\"name\":\"open_modal\",\"kind\":\"Any\",\"default\":0},{\"name\":\"close_modal\",\"kind\":\"Any\",\"default\":0}]},{\"type\":\"model\",\"name\":\"BootstrapTemplateActions1\",\"properties\":[{\"name\":\"open_modal\",\"kind\":\"Any\",\"default\":0},{\"name\":\"close_modal\",\"kind\":\"Any\",\"default\":0}]},{\"type\":\"model\",\"name\":\"TemplateEditor1\",\"properties\":[{\"name\":\"layout\",\"kind\":\"Any\",\"default\":[]}]},{\"type\":\"model\",\"name\":\"MaterialTemplateActions1\",\"properties\":[{\"name\":\"open_modal\",\"kind\":\"Any\",\"default\":0},{\"name\":\"close_modal\",\"kind\":\"Any\",\"default\":0}]},{\"type\":\"model\",\"name\":\"ReactiveESM1\",\"properties\":[{\"name\":\"esm_constants\",\"kind\":\"Any\",\"default\":{\"type\":\"map\"}}]},{\"type\":\"model\",\"name\":\"JSComponent1\",\"properties\":[{\"name\":\"esm_constants\",\"kind\":\"Any\",\"default\":{\"type\":\"map\"}}]},{\"type\":\"model\",\"name\":\"ReactComponent1\",\"properties\":[{\"name\":\"esm_constants\",\"kind\":\"Any\",\"default\":{\"type\":\"map\"}}]},{\"type\":\"model\",\"name\":\"AnyWidgetComponent1\",\"properties\":[{\"name\":\"esm_constants\",\"kind\":\"Any\",\"default\":{\"type\":\"map\"}}]},{\"type\":\"model\",\"name\":\"request_value1\",\"properties\":[{\"name\":\"fill\",\"kind\":\"Any\",\"default\":\"none\"},{\"name\":\"_synced\",\"kind\":\"Any\",\"default\":null},{\"name\":\"_request_sync\",\"kind\":\"Any\",\"default\":0}]}]}};\n",
       "  var render_items = [{\"docid\":\"2ab76fab-8573-4ddc-b97a-9880b313249a\",\"roots\":{\"f327264c-0024-4df1-98ac-6ac0494f4a56\":\"bc951a27-b5e5-48b3-b1de-027e3749f181\"},\"root_ids\":[\"f327264c-0024-4df1-98ac-6ac0494f4a56\"]}];\n",
       "  var docs = Object.values(docs_json)\n",
       "  if (!docs) {\n",
       "    return\n",
       "  }\n",
       "  const py_version = docs[0].version.replace('rc', '-rc.').replace('.dev', '-dev.')\n",
       "  async function embed_document(root) {\n",
       "    var Bokeh = get_bokeh(root)\n",
       "    await Bokeh.embed.embed_items_notebook(docs_json, render_items);\n",
       "    for (const render_item of render_items) {\n",
       "      for (const root_id of render_item.root_ids) {\n",
       "\tconst id_el = document.getElementById(root_id)\n",
       "\tif (id_el.children.length && id_el.children[0].hasAttribute('data-root-id')) {\n",
       "\t  const root_el = id_el.children[0]\n",
       "\t  root_el.id = root_el.id + '-rendered'\n",
       "\t  for (const child of root_el.children) {\n",
       "            // Ensure JupyterLab does not capture keyboard shortcuts\n",
       "            // see: https://jupyterlab.readthedocs.io/en/4.1.x/extension/notebook.html#keyboard-interaction-model\n",
       "\t    child.setAttribute('data-lm-suppress-shortcuts', 'true')\n",
       "\t  }\n",
       "\t}\n",
       "      }\n",
       "    }\n",
       "  }\n",
       "  function get_bokeh(root) {\n",
       "    if (root.Bokeh === undefined) {\n",
       "      return null\n",
       "    } else if (root.Bokeh.version !== py_version) {\n",
       "      if (root.Bokeh.versions === undefined || !root.Bokeh.versions.has(py_version)) {\n",
       "\treturn null\n",
       "      }\n",
       "      return root.Bokeh.versions.get(py_version);\n",
       "    } else if (root.Bokeh.version === py_version) {\n",
       "      return root.Bokeh\n",
       "    }\n",
       "    return null\n",
       "  }\n",
       "  function is_loaded(root) {\n",
       "    var Bokeh = get_bokeh(root)\n",
       "    return (Bokeh != null && Bokeh.Panel !== undefined)\n",
       "  }\n",
       "  if (is_loaded(root)) {\n",
       "    embed_document(root);\n",
       "  } else {\n",
       "    var attempts = 0;\n",
       "    var timer = setInterval(function(root) {\n",
       "      if (is_loaded(root)) {\n",
       "        clearInterval(timer);\n",
       "        embed_document(root);\n",
       "      } else if (document.readyState == \"complete\") {\n",
       "        attempts++;\n",
       "        if (attempts > 200) {\n",
       "          clearInterval(timer);\n",
       "\t  var Bokeh = get_bokeh(root)\n",
       "\t  if (Bokeh == null || Bokeh.Panel == null) {\n",
       "            console.warn(\"Panel: ERROR: Unable to run Panel code because Bokeh or Panel library is missing\");\n",
       "\t  } else {\n",
       "\t    console.warn(\"Panel: WARNING: Attempting to render but not all required libraries could be resolved.\")\n",
       "\t    embed_document(root)\n",
       "\t  }\n",
       "        }\n",
       "      }\n",
       "    }, 25, root)\n",
       "  }\n",
       "})(window);</script>"
      ],
      "text/plain": [
       ":Overlay\n",
       "   .Bars.I    :Bars   [post_str_b1]   (percent)\n",
       "   .HLine.I   :HLine   [x,y]\n",
       "   .HLine.II  :HLine   [x,y]\n",
       "   .HLine.III :HLine   [x,y]"
      ]
     },
     "metadata": {
      "application/vnd.holoviews_exec.v0+json": {
       "id": "f327264c-0024-4df1-98ac-6ac0494f4a56"
      }
     },
     "output_type": "display_data"
    },
    {
     "name": "stdout",
     "output_type": "stream",
     "text": [
      "df_10_last FOR str_b1 = 01\n",
      "Last 3 results last_results=['07', '25', '22']\n"
     ]
    },
    {
     "data": {
      "text/html": [
       "<div><style>\n",
       ".dataframe > thead > tr,\n",
       ".dataframe > tbody > tr {\n",
       "  text-align: right;\n",
       "  white-space: pre-wrap;\n",
       "}\n",
       "</style>\n",
       "<small>shape: (10, 30)</small><table border=\"1\" class=\"dataframe\"><thead><tr><th>fecha</th><th>sorteo</th><th>bolillas</th><th>yapa</th><th>adicionales</th><th>sorteo_extra</th><th>id</th><th>combo</th><th>b1</th><th>b2</th><th>b3</th><th>b4</th><th>b5</th><th>b6</th><th>str_b1</th><th>str_b2</th><th>str_b3</th><th>str_b4</th><th>str_b5</th><th>str_b6</th><th>post_str_b1</th><th>post_str_b2</th><th>post_str_b3</th><th>post_str_b4</th><th>post_str_b5</th><th>post_str_blast</th><th>is_rare_combination</th><th>reason</th><th>jumps_map</th><th>unijump</th></tr><tr><td>str</td><td>str</td><td>str</td><td>str</td><td>str</td><td>str</td><td>str</td><td>array[u8, 6]</td><td>u8</td><td>u8</td><td>u8</td><td>u8</td><td>u8</td><td>u8</td><td>str</td><td>str</td><td>str</td><td>str</td><td>str</td><td>str</td><td>str</td><td>str</td><td>str</td><td>str</td><td>str</td><td>str</td><td>bool</td><td>u8</td><td>str</td><td>i64</td></tr></thead><tbody><tr><td>&quot;09/04/2025&quot;</td><td>&quot;1184&quot;</td><td>&quot;35 24 49 01 12 39&quot;</td><td>&quot;21&quot;</td><td>&quot;13 07 26&quot;</td><td>&quot;Promoción Sí o Sí&quot;</td><td>&quot;011224353949&quot;</td><td>[1, 12, … 49]</td><td>1</td><td>12</td><td>24</td><td>35</td><td>39</td><td>49</td><td>&quot;01&quot;</td><td>&quot;12&quot;</td><td>&quot;24&quot;</td><td>&quot;35&quot;</td><td>&quot;39&quot;</td><td>&quot;49&quot;</td><td>&quot;22&quot;</td><td>&quot;36&quot;</td><td>&quot;39&quot;</td><td>&quot;44&quot;</td><td>&quot;46&quot;</td><td>&quot;48&quot;</td><td>false</td><td>0</td><td>&quot;11_12_11_04_10&quot;</td><td>23</td></tr><tr><td>&quot;26/03/2025&quot;</td><td>&quot;1180&quot;</td><td>&quot;43 01 05 37 35 13&quot;</td><td>&quot;39&quot;</td><td>&quot;38 07 45 16&quot;</td><td>&quot;Promoción Sí o Sí&quot;</td><td>&quot;010513353743&quot;</td><td>[1, 5, … 43]</td><td>1</td><td>5</td><td>13</td><td>35</td><td>37</td><td>43</td><td>&quot;01&quot;</td><td>&quot;05&quot;</td><td>&quot;13&quot;</td><td>&quot;35&quot;</td><td>&quot;37&quot;</td><td>&quot;43&quot;</td><td>&quot;25&quot;</td><td>&quot;28&quot;</td><td>&quot;29&quot;</td><td>&quot;31&quot;</td><td>&quot;46&quot;</td><td>&quot;47&quot;</td><td>true</td><td>19</td><td>&quot;04_08_22_02_06&quot;</td><td>102</td></tr><tr><td>&quot;09/03/2025&quot;</td><td>&quot;1175&quot;</td><td>&quot;01 42 44 20 38 23&quot;</td><td>&quot;14&quot;</td><td>&quot;35 36 34 45 41&quot;</td><td>&quot;Promoción Sí o Sí&quot;</td><td>&quot;012023384244&quot;</td><td>[1, 20, … 44]</td><td>1</td><td>20</td><td>23</td><td>38</td><td>42</td><td>44</td><td>&quot;01&quot;</td><td>&quot;20&quot;</td><td>&quot;23&quot;</td><td>&quot;38&quot;</td><td>&quot;42&quot;</td><td>&quot;44&quot;</td><td>&quot;07&quot;</td><td>&quot;16&quot;</td><td>&quot;17&quot;</td><td>&quot;32&quot;</td><td>&quot;34&quot;</td><td>&quot;44&quot;</td><td>false</td><td>0</td><td>&quot;19_03_15_04_02&quot;</td><td>83</td></tr><tr><td>&quot;05/03/2025&quot;</td><td>&quot;1174&quot;</td><td>&quot;01 32 03 12 28 47&quot;</td><td>&quot;20&quot;</td><td>&quot;49 06 23 24&quot;</td><td>&quot;Promoción Sí o Sí&quot;</td><td>&quot;010312283247&quot;</td><td>[1, 3, … 47]</td><td>1</td><td>3</td><td>12</td><td>28</td><td>32</td><td>47</td><td>&quot;01&quot;</td><td>&quot;03&quot;</td><td>&quot;12&quot;</td><td>&quot;28&quot;</td><td>&quot;32&quot;</td><td>&quot;47&quot;</td><td>&quot;01&quot;</td><td>&quot;20&quot;</td><td>&quot;23&quot;</td><td>&quot;38&quot;</td><td>&quot;42&quot;</td><td>&quot;44&quot;</td><td>false</td><td>0</td><td>&quot;02_09_16_04_15&quot;</td><td>61</td></tr><tr><td>&quot;19/01/2025&quot;</td><td>&quot;1161&quot;</td><td>&quot;23 44 45 05 02 01&quot;</td><td>&quot;16&quot;</td><td>&quot;24 19&quot;</td><td>&quot;Promoción Sí o Sí&quot;</td><td>&quot;010205234445&quot;</td><td>[1, 2, … 45]</td><td>1</td><td>2</td><td>5</td><td>23</td><td>44</td><td>45</td><td>&quot;01&quot;</td><td>&quot;02&quot;</td><td>&quot;05&quot;</td><td>&quot;23&quot;</td><td>&quot;44&quot;</td><td>&quot;45&quot;</td><td>&quot;06&quot;</td><td>&quot;10&quot;</td><td>&quot;21&quot;</td><td>&quot;31&quot;</td><td>&quot;32&quot;</td><td>&quot;49&quot;</td><td>false</td><td>0</td><td>&quot;01_03_18_21_01&quot;</td><td>14</td></tr><tr><td>&quot;22/12/2024&quot;</td><td>&quot;1153&quot;</td><td>&quot;17 02 49 40 24 01&quot;</td><td>&quot;45&quot;</td><td>&quot;14 22 05&quot;</td><td>&quot;Promoción Sí o Sí&quot;</td><td>&quot;010217244049&quot;</td><td>[1, 2, … 49]</td><td>1</td><td>2</td><td>17</td><td>24</td><td>40</td><td>49</td><td>&quot;01&quot;</td><td>&quot;02&quot;</td><td>&quot;17&quot;</td><td>&quot;24&quot;</td><td>&quot;40&quot;</td><td>&quot;49&quot;</td><td>&quot;02&quot;</td><td>&quot;05&quot;</td><td>&quot;14&quot;</td><td>&quot;15&quot;</td><td>&quot;24&quot;</td><td>&quot;39&quot;</td><td>true</td><td>16</td><td>&quot;01_15_07_16_09&quot;</td><td>-72</td></tr><tr><td>&quot;23/10/2024&quot;</td><td>&quot;1136&quot;</td><td>&quot;28 09 16 01 46 40&quot;</td><td>&quot;50&quot;</td><td>&quot;37 41 27&quot;</td><td>&quot;Promoción Sí o Sí&quot;</td><td>&quot;010916284046&quot;</td><td>[1, 9, … 46]</td><td>1</td><td>9</td><td>16</td><td>28</td><td>40</td><td>46</td><td>&quot;01&quot;</td><td>&quot;09&quot;</td><td>&quot;16&quot;</td><td>&quot;28&quot;</td><td>&quot;40&quot;</td><td>&quot;46&quot;</td><td>&quot;06&quot;</td><td>&quot;16&quot;</td><td>&quot;24&quot;</td><td>&quot;27&quot;</td><td>&quot;32&quot;</td><td>&quot;47&quot;</td><td>true</td><td>24</td><td>&quot;08_07_12_12_06&quot;</td><td>10</td></tr><tr><td>&quot;15/09/2024&quot;</td><td>&quot;1125&quot;</td><td>&quot;36 43 29 01 03 38&quot;</td><td>&quot;25&quot;</td><td>&quot;19 18 35 02&quot;</td><td>&quot;Promoción Sí o Sí&quot;</td><td>&quot;010329363843&quot;</td><td>[1, 3, … 43]</td><td>1</td><td>3</td><td>29</td><td>36</td><td>38</td><td>43</td><td>&quot;01&quot;</td><td>&quot;03&quot;</td><td>&quot;29&quot;</td><td>&quot;36&quot;</td><td>&quot;38&quot;</td><td>&quot;43&quot;</td><td>&quot;10&quot;</td><td>&quot;21&quot;</td><td>&quot;26&quot;</td><td>&quot;32&quot;</td><td>&quot;34&quot;</td><td>&quot;37&quot;</td><td>false</td><td>0</td><td>&quot;02_26_07_02_05&quot;</td><td>-63</td></tr><tr><td>&quot;25/08/2024&quot;</td><td>&quot;1119&quot;</td><td>&quot;49 01 42 14 27 36&quot;</td><td>&quot;05&quot;</td><td>&quot;21 45&quot;</td><td>&quot;Promoción Sí o Sí&quot;</td><td>&quot;011427364249&quot;</td><td>[1, 14, … 49]</td><td>1</td><td>14</td><td>27</td><td>36</td><td>42</td><td>49</td><td>&quot;01&quot;</td><td>&quot;14&quot;</td><td>&quot;27&quot;</td><td>&quot;36&quot;</td><td>&quot;42&quot;</td><td>&quot;49&quot;</td><td>&quot;03&quot;</td><td>&quot;06&quot;</td><td>&quot;11&quot;</td><td>&quot;37&quot;</td><td>&quot;46&quot;</td><td>&quot;47&quot;</td><td>true</td><td>8</td><td>&quot;13_13_09_06_07&quot;</td><td>-2</td></tr><tr><td>&quot;17/07/2024&quot;</td><td>&quot;1108&quot;</td><td>&quot;40 47 01 43 19 38&quot;</td><td>&quot;16&quot;</td><td>&quot;05 17 35 32&quot;</td><td>&quot;Promoción Sí o Sí&quot;</td><td>&quot;011938404347&quot;</td><td>[1, 19, … 47]</td><td>1</td><td>19</td><td>38</td><td>40</td><td>43</td><td>47</td><td>&quot;01&quot;</td><td>&quot;19&quot;</td><td>&quot;38&quot;</td><td>&quot;40&quot;</td><td>&quot;43&quot;</td><td>&quot;47&quot;</td><td>&quot;11&quot;</td><td>&quot;25&quot;</td><td>&quot;26&quot;</td><td>&quot;30&quot;</td><td>&quot;39&quot;</td><td>&quot;47&quot;</td><td>true</td><td>16</td><td>&quot;18_19_02_03_04&quot;</td><td>-54</td></tr></tbody></table></div>"
      ],
      "text/plain": [
       "shape: (10, 30)\n",
       "┌────────────┬────────┬───────────────┬──────┬───┬───────────────┬────────┬──────────────┬─────────┐\n",
       "│ fecha      ┆ sorteo ┆ bolillas      ┆ yapa ┆ … ┆ is_rare_combi ┆ reason ┆ jumps_map    ┆ unijump │\n",
       "│ ---        ┆ ---    ┆ ---           ┆ ---  ┆   ┆ nation        ┆ ---    ┆ ---          ┆ ---     │\n",
       "│ str        ┆ str    ┆ str           ┆ str  ┆   ┆ ---           ┆ u8     ┆ str          ┆ i64     │\n",
       "│            ┆        ┆               ┆      ┆   ┆ bool          ┆        ┆              ┆         │\n",
       "╞════════════╪════════╪═══════════════╪══════╪═══╪═══════════════╪════════╪══════════════╪═════════╡\n",
       "│ 09/04/2025 ┆ 1184   ┆ 35 24 49 01   ┆ 21   ┆ … ┆ false         ┆ 0      ┆ 11_12_11_04_ ┆ 23      │\n",
       "│            ┆        ┆ 12 39         ┆      ┆   ┆               ┆        ┆ 10           ┆         │\n",
       "│ 26/03/2025 ┆ 1180   ┆ 43 01 05 37   ┆ 39   ┆ … ┆ true          ┆ 19     ┆ 04_08_22_02_ ┆ 102     │\n",
       "│            ┆        ┆ 35 13         ┆      ┆   ┆               ┆        ┆ 06           ┆         │\n",
       "│ 09/03/2025 ┆ 1175   ┆ 01 42 44 20   ┆ 14   ┆ … ┆ false         ┆ 0      ┆ 19_03_15_04_ ┆ 83      │\n",
       "│            ┆        ┆ 38 23         ┆      ┆   ┆               ┆        ┆ 02           ┆         │\n",
       "│ 05/03/2025 ┆ 1174   ┆ 01 32 03 12   ┆ 20   ┆ … ┆ false         ┆ 0      ┆ 02_09_16_04_ ┆ 61      │\n",
       "│            ┆        ┆ 28 47         ┆      ┆   ┆               ┆        ┆ 15           ┆         │\n",
       "│ 19/01/2025 ┆ 1161   ┆ 23 44 45 05   ┆ 16   ┆ … ┆ false         ┆ 0      ┆ 01_03_18_21_ ┆ 14      │\n",
       "│            ┆        ┆ 02 01         ┆      ┆   ┆               ┆        ┆ 01           ┆         │\n",
       "│ 22/12/2024 ┆ 1153   ┆ 17 02 49 40   ┆ 45   ┆ … ┆ true          ┆ 16     ┆ 01_15_07_16_ ┆ -72     │\n",
       "│            ┆        ┆ 24 01         ┆      ┆   ┆               ┆        ┆ 09           ┆         │\n",
       "│ 23/10/2024 ┆ 1136   ┆ 28 09 16 01   ┆ 50   ┆ … ┆ true          ┆ 24     ┆ 08_07_12_12_ ┆ 10      │\n",
       "│            ┆        ┆ 46 40         ┆      ┆   ┆               ┆        ┆ 06           ┆         │\n",
       "│ 15/09/2024 ┆ 1125   ┆ 36 43 29 01   ┆ 25   ┆ … ┆ false         ┆ 0      ┆ 02_26_07_02_ ┆ -63     │\n",
       "│            ┆        ┆ 03 38         ┆      ┆   ┆               ┆        ┆ 05           ┆         │\n",
       "│ 25/08/2024 ┆ 1119   ┆ 49 01 42 14   ┆ 05   ┆ … ┆ true          ┆ 8      ┆ 13_13_09_06_ ┆ -2      │\n",
       "│            ┆        ┆ 27 36         ┆      ┆   ┆               ┆        ┆ 07           ┆         │\n",
       "│ 17/07/2024 ┆ 1108   ┆ 40 47 01 43   ┆ 16   ┆ … ┆ true          ┆ 16     ┆ 18_19_02_03_ ┆ -54     │\n",
       "│            ┆        ┆ 19 38         ┆      ┆   ┆               ┆        ┆ 04           ┆         │\n",
       "└────────────┴────────┴───────────────┴──────┴───┴───────────────┴────────┴──────────────┴─────────┘"
      ]
     },
     "metadata": {},
     "output_type": "display_data"
    },
    {
     "name": "stdout",
     "output_type": "stream",
     "text": [
      "df_jumps_map FOR str_b1 = 01\n"
     ]
    },
    {
     "data": {
      "text/html": [
       "<div><style>\n",
       ".dataframe > thead > tr,\n",
       ".dataframe > tbody > tr {\n",
       "  text-align: right;\n",
       "  white-space: pre-wrap;\n",
       "}\n",
       "</style>\n",
       "<small>shape: (337, 2)</small><table border=\"1\" class=\"dataframe\"><thead><tr><th>jumps_map</th><th>count</th></tr><tr><td>str</td><td>u32</td></tr></thead><tbody><tr><td>&quot;07_05_06_02_14&quot;</td><td>1</td></tr><tr><td>&quot;02_03_18_01_14&quot;</td><td>1</td></tr><tr><td>&quot;07_06_03_03_07&quot;</td><td>1</td></tr><tr><td>&quot;03_12_03_05_11&quot;</td><td>1</td></tr><tr><td>&quot;01_09_03_02_29&quot;</td><td>1</td></tr><tr><td>&hellip;</td><td>&hellip;</td></tr><tr><td>&quot;01_03_18_21_01&quot;</td><td>1</td></tr><tr><td>&quot;15_17_01_08_02&quot;</td><td>1</td></tr><tr><td>&quot;10_11_01_04_06&quot;</td><td>1</td></tr><tr><td>&quot;21_07_09_01_04&quot;</td><td>1</td></tr><tr><td>&quot;01_07_14_07_13&quot;</td><td>1</td></tr></tbody></table></div>"
      ],
      "text/plain": [
       "shape: (337, 2)\n",
       "┌────────────────┬───────┐\n",
       "│ jumps_map      ┆ count │\n",
       "│ ---            ┆ ---   │\n",
       "│ str            ┆ u32   │\n",
       "╞════════════════╪═══════╡\n",
       "│ 07_05_06_02_14 ┆ 1     │\n",
       "│ 02_03_18_01_14 ┆ 1     │\n",
       "│ 07_06_03_03_07 ┆ 1     │\n",
       "│ 03_12_03_05_11 ┆ 1     │\n",
       "│ 01_09_03_02_29 ┆ 1     │\n",
       "│ …              ┆ …     │\n",
       "│ 01_03_18_21_01 ┆ 1     │\n",
       "│ 15_17_01_08_02 ┆ 1     │\n",
       "│ 10_11_01_04_06 ┆ 1     │\n",
       "│ 21_07_09_01_04 ┆ 1     │\n",
       "│ 01_07_14_07_13 ┆ 1     │\n",
       "└────────────────┴───────┘"
      ]
     },
     "metadata": {},
     "output_type": "display_data"
    },
    {
     "name": "stdout",
     "output_type": "stream",
     "text": [
      "df_unijump FOR str_b1 = 01\n"
     ]
    },
    {
     "data": {
      "text/html": [
       "<div><style>\n",
       ".dataframe > thead > tr,\n",
       ".dataframe > tbody > tr {\n",
       "  text-align: right;\n",
       "  white-space: pre-wrap;\n",
       "}\n",
       "</style>\n",
       "<small>shape: (172, 2)</small><table border=\"1\" class=\"dataframe\"><thead><tr><th>unijump</th><th>count</th></tr><tr><td>i64</td><td>u32</td></tr></thead><tbody><tr><td>-20</td><td>10</td></tr><tr><td>1</td><td>7</td></tr><tr><td>11</td><td>6</td></tr><tr><td>-16</td><td>6</td></tr><tr><td>-26</td><td>6</td></tr><tr><td>&hellip;</td><td>&hellip;</td></tr><tr><td>-8</td><td>1</td></tr><tr><td>88</td><td>1</td></tr><tr><td>-28</td><td>1</td></tr><tr><td>-59</td><td>1</td></tr><tr><td>7</td><td>1</td></tr></tbody></table></div>"
      ],
      "text/plain": [
       "shape: (172, 2)\n",
       "┌─────────┬───────┐\n",
       "│ unijump ┆ count │\n",
       "│ ---     ┆ ---   │\n",
       "│ i64     ┆ u32   │\n",
       "╞═════════╪═══════╡\n",
       "│ -20     ┆ 10    │\n",
       "│ 1       ┆ 7     │\n",
       "│ 11      ┆ 6     │\n",
       "│ -16     ┆ 6     │\n",
       "│ -26     ┆ 6     │\n",
       "│ …       ┆ …     │\n",
       "│ -8      ┆ 1     │\n",
       "│ 88      ┆ 1     │\n",
       "│ -28     ┆ 1     │\n",
       "│ -59     ┆ 1     │\n",
       "│ 7       ┆ 1     │\n",
       "└─────────┴───────┘"
      ]
     },
     "metadata": {},
     "output_type": "display_data"
    }
   ],
   "source": [
    "possible_b1, exclude_jump_maps_b1, last_post_b1 = plot_post_col(col='str_b1', post_col='post_str_b1')"
   ]
  },
  {
   "cell_type": "code",
   "execution_count": 8,
   "metadata": {},
   "outputs": [
    {
     "name": "stdout",
     "output_type": "stream",
     "text": [
      "Setting test_value='04'\n",
      "df_viz FOR str_b2 = 04\n"
     ]
    },
    {
     "data": {
      "text/html": [
       "<div><style>\n",
       ".dataframe > thead > tr,\n",
       ".dataframe > tbody > tr {\n",
       "  text-align: right;\n",
       "  white-space: pre-wrap;\n",
       "}\n",
       "</style>\n",
       "<small>shape: (26, 3)</small><table border=\"1\" class=\"dataframe\"><thead><tr><th>post_str_b2</th><th>count</th><th>percent</th></tr><tr><td>str</td><td>u32</td><td>f64</td></tr></thead><tbody><tr><td>&quot;15&quot;</td><td>9</td><td>9.090909</td></tr><tr><td>&quot;18&quot;</td><td>8</td><td>8.080808</td></tr><tr><td>&quot;16&quot;</td><td>7</td><td>7.070707</td></tr><tr><td>&quot;13&quot;</td><td>6</td><td>6.060606</td></tr><tr><td>&quot;12&quot;</td><td>6</td><td>6.060606</td></tr><tr><td>&hellip;</td><td>&hellip;</td><td>&hellip;</td></tr><tr><td>&quot;11&quot;</td><td>2</td><td>2.020202</td></tr><tr><td>&quot;02&quot;</td><td>2</td><td>2.020202</td></tr><tr><td>&quot;28&quot;</td><td>1</td><td>1.010101</td></tr><tr><td>&quot;29&quot;</td><td>1</td><td>1.010101</td></tr><tr><td>&quot;34&quot;</td><td>1</td><td>1.010101</td></tr></tbody></table></div>"
      ],
      "text/plain": [
       "shape: (26, 3)\n",
       "┌─────────────┬───────┬──────────┐\n",
       "│ post_str_b2 ┆ count ┆ percent  │\n",
       "│ ---         ┆ ---   ┆ ---      │\n",
       "│ str         ┆ u32   ┆ f64      │\n",
       "╞═════════════╪═══════╪══════════╡\n",
       "│ 15          ┆ 9     ┆ 9.090909 │\n",
       "│ 18          ┆ 8     ┆ 8.080808 │\n",
       "│ 16          ┆ 7     ┆ 7.070707 │\n",
       "│ 13          ┆ 6     ┆ 6.060606 │\n",
       "│ 12          ┆ 6     ┆ 6.060606 │\n",
       "│ …           ┆ …     ┆ …        │\n",
       "│ 11          ┆ 2     ┆ 2.020202 │\n",
       "│ 02          ┆ 2     ┆ 2.020202 │\n",
       "│ 28          ┆ 1     ┆ 1.010101 │\n",
       "│ 29          ┆ 1     ┆ 1.010101 │\n",
       "│ 34          ┆ 1     ┆ 1.010101 │\n",
       "└─────────────┴───────┴──────────┘"
      ]
     },
     "metadata": {},
     "output_type": "display_data"
    },
    {
     "data": {},
     "metadata": {},
     "output_type": "display_data"
    },
    {
     "data": {
      "application/vnd.holoviews_exec.v0+json": "",
      "text/html": [
       "<div id='7f83325d-82f0-404e-b79a-6e0b30d6c08d'>\n",
       "  <div id=\"a691b2a3-6c12-422f-a64e-1fe0289b97c0\" data-root-id=\"7f83325d-82f0-404e-b79a-6e0b30d6c08d\" style=\"display: contents;\"></div>\n",
       "</div>\n",
       "<script type=\"application/javascript\">(function(root) {\n",
       "  var docs_json = {\"dc1d8539-56db-464c-bf2c-9286e49f3268\":{\"version\":\"3.7.2\",\"title\":\"Bokeh Application\",\"roots\":[{\"type\":\"object\",\"name\":\"Row\",\"id\":\"7f83325d-82f0-404e-b79a-6e0b30d6c08d\",\"attributes\":{\"name\":\"Row00357\",\"tags\":[\"embedded\"],\"stylesheets\":[\"\\n:host(.pn-loading):before, .pn-loading:before {\\n  background-color: #c3c3c3;\\n  mask-size: auto calc(min(50%, 400px));\\n  -webkit-mask-size: auto calc(min(50%, 400px));\\n}\",{\"type\":\"object\",\"name\":\"ImportedStyleSheet\",\"id\":\"383d5699-cad8-48d6-a859-c37c2366d652\",\"attributes\":{\"url\":\"https://cdn.holoviz.org/panel/1.6.2/dist/css/loading.css\"}},{\"type\":\"object\",\"name\":\"ImportedStyleSheet\",\"id\":\"3947fe93-1c4b-4079-a5bf-d95f2dd53af5\",\"attributes\":{\"url\":\"https://cdn.holoviz.org/panel/1.6.2/dist/css/listpanel.css\"}},{\"type\":\"object\",\"name\":\"ImportedStyleSheet\",\"id\":\"72f8ea5f-3349-4fbe-825a-b81b48d9aa9d\",\"attributes\":{\"url\":\"https://cdn.holoviz.org/panel/1.6.2/dist/bundled/theme/default.css\"}},{\"type\":\"object\",\"name\":\"ImportedStyleSheet\",\"id\":\"8da375ba-5ee0-475e-aa22-80168e26e943\",\"attributes\":{\"url\":\"https://cdn.holoviz.org/panel/1.6.2/dist/bundled/theme/native.css\"}}],\"min_width\":700,\"margin\":0,\"sizing_mode\":\"stretch_width\",\"align\":\"start\",\"children\":[{\"type\":\"object\",\"name\":\"Spacer\",\"id\":\"8f8e94ec-3f38-47cf-a8fe-bab6fdfaf801\",\"attributes\":{\"name\":\"HSpacer00361\",\"stylesheets\":[\"\\n:host(.pn-loading):before, .pn-loading:before {\\n  background-color: #c3c3c3;\\n  mask-size: auto calc(min(50%, 400px));\\n  -webkit-mask-size: auto calc(min(50%, 400px));\\n}\",{\"id\":\"383d5699-cad8-48d6-a859-c37c2366d652\"},{\"id\":\"72f8ea5f-3349-4fbe-825a-b81b48d9aa9d\"},{\"id\":\"8da375ba-5ee0-475e-aa22-80168e26e943\"}],\"margin\":0,\"sizing_mode\":\"stretch_width\",\"align\":\"start\"}},{\"type\":\"object\",\"name\":\"Figure\",\"id\":\"303ccc69-5c19-43ab-ac98-1c17f928937e\",\"attributes\":{\"width\":700,\"height\":300,\"margin\":[5,10],\"sizing_mode\":\"fixed\",\"align\":\"start\",\"x_range\":{\"type\":\"object\",\"name\":\"FactorRange\",\"id\":\"5f662055-182f-4698-b5d4-cb626f64cc00\",\"attributes\":{\"name\":\"post_str_b2\",\"tags\":[[[\"post_str_b2\",null]],[]],\"factors\":[\"15\",\"18\",\"16\",\"13\",\"12\",\"10\",\"04\",\"14\",\"19\",\"06\",\"09\",\"05\",\"20\",\"17\",\"08\",\"25\",\"23\",\"21\",\"22\",\"24\",\"03\",\"11\",\"02\",\"28\",\"29\",\"34\"]}},\"y_range\":{\"type\":\"object\",\"name\":\"Range1d\",\"id\":\"46614cce-885d-4ee2-b730-8ebac2371bc8\",\"attributes\":{\"name\":\"percent\",\"tags\":[[[\"percent\",null]],{\"type\":\"map\",\"entries\":[[\"invert_yaxis\",false],[\"autorange\",false]]}],\"end\":9.8989898989899,\"reset_start\":0.0,\"reset_end\":9.8989898989899}},\"x_scale\":{\"type\":\"object\",\"name\":\"CategoricalScale\",\"id\":\"1598c70d-ca80-4dab-943d-29532daa299d\"},\"y_scale\":{\"type\":\"object\",\"name\":\"LinearScale\",\"id\":\"22d453ca-b7a6-4272-9b04-cbeede34b7fd\"},\"title\":{\"type\":\"object\",\"name\":\"Title\",\"id\":\"a937f38f-5c87-41e8-8521-3dc5ab10fcf6\",\"attributes\":{\"text_color\":\"black\",\"text_font_size\":\"12pt\"}},\"renderers\":[{\"type\":\"object\",\"name\":\"GlyphRenderer\",\"id\":\"3076ceb2-683b-4245-8c4b-8d21bf5738ec\",\"attributes\":{\"data_source\":{\"type\":\"object\",\"name\":\"ColumnDataSource\",\"id\":\"717c7a39-59f9-4483-916a-5f8be4f5c7fc\",\"attributes\":{\"selected\":{\"type\":\"object\",\"name\":\"Selection\",\"id\":\"926cefb8-f9f6-490e-8c29-b47e684e7dd2\",\"attributes\":{\"indices\":[],\"line_indices\":[]}},\"selection_policy\":{\"type\":\"object\",\"name\":\"UnionRenderers\",\"id\":\"a3a04e35-e59a-41b8-8e8e-d0a904454c37\"},\"data\":{\"type\":\"map\",\"entries\":[[\"post_str_b2\",[\"15\",\"18\",\"16\",\"13\",\"12\",\"10\",\"04\",\"14\",\"19\",\"06\",\"09\",\"05\",\"20\",\"17\",\"08\",\"25\",\"23\",\"21\",\"22\",\"24\",\"03\",\"11\",\"02\",\"28\",\"29\",\"34\"]],[\"percent\",{\"type\":\"ndarray\",\"array\":{\"type\":\"bytes\",\"data\":\"L7rooosuIkB/pUCtXykgQJ8hMW9nSBxAPvjggw8+GEA++OCDDz4YQD744IMPPhhA386QmLczFEDfzpCYtzMUQN/OkJi3MxRAf6VArV8pEEB/pUCtXykQQH+lQK1fKRBAf6VArV8pEEA++OCDDz4IQD744IMPPghAPvjggw8+CEB/pUCtXykAQH+lQK1fKQBAf6VArV8pAEB/pUCtXykAQH+lQK1fKQBAf6VArV8pAEB/pUCtXykAQH+lQK1fKfA/f6VArV8p8D9/pUCtXynwPw==\"},\"shape\":[26],\"dtype\":\"float64\",\"order\":\"little\"}]]}}},\"view\":{\"type\":\"object\",\"name\":\"CDSView\",\"id\":\"289958bc-26ad-4050-99ce-00715880fdd2\",\"attributes\":{\"filter\":{\"type\":\"object\",\"name\":\"AllIndices\",\"id\":\"ff7f87b2-3306-4510-94b6-6193bd47cdab\"}}},\"glyph\":{\"type\":\"object\",\"name\":\"VBar\",\"id\":\"7d2ad3a8-20c0-427f-8d2b-6ed105dbe129\",\"attributes\":{\"tags\":[\"apply_ranges\"],\"x\":{\"type\":\"field\",\"field\":\"post_str_b2\"},\"width\":{\"type\":\"value\",\"value\":0.8},\"top\":{\"type\":\"field\",\"field\":\"percent\"},\"fill_color\":{\"type\":\"value\",\"value\":\"#30a2da\"},\"hatch_color\":{\"type\":\"value\",\"value\":\"#30a2da\"}}},\"selection_glyph\":{\"type\":\"object\",\"name\":\"VBar\",\"id\":\"2c13da19-5346-4ff1-a555-8443ac552810\",\"attributes\":{\"tags\":[\"apply_ranges\"],\"x\":{\"type\":\"field\",\"field\":\"post_str_b2\"},\"width\":{\"type\":\"value\",\"value\":0.8},\"bottom\":{\"type\":\"value\",\"value\":0},\"top\":{\"type\":\"field\",\"field\":\"percent\"},\"line_color\":{\"type\":\"value\",\"value\":\"black\"},\"line_alpha\":{\"type\":\"value\",\"value\":1.0},\"line_width\":{\"type\":\"value\",\"value\":1},\"line_join\":{\"type\":\"value\",\"value\":\"bevel\"},\"line_cap\":{\"type\":\"value\",\"value\":\"butt\"},\"line_dash\":{\"type\":\"value\",\"value\":[]},\"line_dash_offset\":{\"type\":\"value\",\"value\":0},\"fill_color\":{\"type\":\"value\",\"value\":\"#30a2da\"},\"fill_alpha\":{\"type\":\"value\",\"value\":1.0},\"hatch_color\":{\"type\":\"value\",\"value\":\"#30a2da\"},\"hatch_alpha\":{\"type\":\"value\",\"value\":1.0},\"hatch_scale\":{\"type\":\"value\",\"value\":12.0},\"hatch_pattern\":{\"type\":\"value\",\"value\":null},\"hatch_weight\":{\"type\":\"value\",\"value\":1.0}}},\"nonselection_glyph\":{\"type\":\"object\",\"name\":\"VBar\",\"id\":\"e2d2e927-e53b-4621-a0cd-7b8d3e95a796\",\"attributes\":{\"tags\":[\"apply_ranges\"],\"x\":{\"type\":\"field\",\"field\":\"post_str_b2\"},\"width\":{\"type\":\"value\",\"value\":0.8},\"top\":{\"type\":\"field\",\"field\":\"percent\"},\"line_alpha\":{\"type\":\"value\",\"value\":0.1},\"fill_color\":{\"type\":\"value\",\"value\":\"#30a2da\"},\"fill_alpha\":{\"type\":\"value\",\"value\":0.1},\"hatch_color\":{\"type\":\"value\",\"value\":\"#30a2da\"},\"hatch_alpha\":{\"type\":\"value\",\"value\":0.1}}},\"muted_glyph\":{\"type\":\"object\",\"name\":\"VBar\",\"id\":\"31a62483-9f13-4ac8-a015-cc55dac8bc42\",\"attributes\":{\"tags\":[\"apply_ranges\"],\"x\":{\"type\":\"field\",\"field\":\"post_str_b2\"},\"width\":{\"type\":\"value\",\"value\":0.8},\"top\":{\"type\":\"field\",\"field\":\"percent\"},\"line_alpha\":{\"type\":\"value\",\"value\":0.2},\"fill_color\":{\"type\":\"value\",\"value\":\"#30a2da\"},\"fill_alpha\":{\"type\":\"value\",\"value\":0.2},\"hatch_color\":{\"type\":\"value\",\"value\":\"#30a2da\"},\"hatch_alpha\":{\"type\":\"value\",\"value\":0.2}}}}},{\"type\":\"object\",\"name\":\"Span\",\"id\":\"1f869b37-997e-49ca-af01-0b88d1517ece\",\"attributes\":{\"level\":\"glyph\",\"location\":3.8461538461538467,\"line_color\":\"red\",\"line_width\":3}},{\"type\":\"object\",\"name\":\"Span\",\"id\":\"54d4b4c8-0c10-467a-940a-56b0f2048ce2\",\"attributes\":{\"level\":\"glyph\",\"location\":5.76923076923077,\"line_color\":\"blue\",\"line_width\":3}},{\"type\":\"object\",\"name\":\"Span\",\"id\":\"1a538d04-d484-44a8-b870-514c4e432b30\",\"attributes\":{\"level\":\"glyph\",\"location\":1.9230769230769231,\"line_color\":\"blue\",\"line_width\":3}}],\"toolbar\":{\"type\":\"object\",\"name\":\"Toolbar\",\"id\":\"9fed18af-c8f4-48b6-84b6-9aecf3b81479\",\"attributes\":{\"tools\":[{\"type\":\"object\",\"name\":\"WheelZoomTool\",\"id\":\"489ac169-147e-42c0-88d5-f2be2e1ecf55\",\"attributes\":{\"tags\":[\"hv_created\"],\"renderers\":\"auto\",\"zoom_together\":\"none\"}},{\"type\":\"object\",\"name\":\"HoverTool\",\"id\":\"b4fbf161-8acb-41ad-982b-1d63369ed473\",\"attributes\":{\"tags\":[\"hv_created\"],\"renderers\":[{\"id\":\"3076ceb2-683b-4245-8c4b-8d21bf5738ec\"}],\"tooltips\":[[\"post_str_b2\",\"@{post_str_b2}\"],[\"percent\",\"@{percent}\"]]}},{\"type\":\"object\",\"name\":\"SaveTool\",\"id\":\"6dc489f8-ea2c-4dea-9f6f-d8029a129343\"},{\"type\":\"object\",\"name\":\"PanTool\",\"id\":\"764e1eb1-6561-4808-8f6c-04921c071a94\"},{\"type\":\"object\",\"name\":\"BoxZoomTool\",\"id\":\"c4e1cde6-76a1-4d05-8361-0300a24b5cd1\",\"attributes\":{\"dimensions\":\"both\",\"overlay\":{\"type\":\"object\",\"name\":\"BoxAnnotation\",\"id\":\"8292be1f-f957-47a1-92cc-bd762d235401\",\"attributes\":{\"syncable\":false,\"line_color\":\"black\",\"line_alpha\":1.0,\"line_width\":2,\"line_dash\":[4,4],\"fill_color\":\"lightgrey\",\"fill_alpha\":0.5,\"level\":\"overlay\",\"visible\":false,\"left\":{\"type\":\"number\",\"value\":\"nan\"},\"right\":{\"type\":\"number\",\"value\":\"nan\"},\"top\":{\"type\":\"number\",\"value\":\"nan\"},\"bottom\":{\"type\":\"number\",\"value\":\"nan\"},\"left_units\":\"canvas\",\"right_units\":\"canvas\",\"top_units\":\"canvas\",\"bottom_units\":\"canvas\",\"handles\":{\"type\":\"object\",\"name\":\"BoxInteractionHandles\",\"id\":\"1859a0b5-2de4-46ec-b075-19aa07347761\",\"attributes\":{\"all\":{\"type\":\"object\",\"name\":\"AreaVisuals\",\"id\":\"7a79a160-464c-4262-96c4-36ead1418701\",\"attributes\":{\"fill_color\":\"white\",\"hover_fill_color\":\"lightgray\"}}}}}}}},{\"type\":\"object\",\"name\":\"ResetTool\",\"id\":\"bd718ce7-9f19-40b2-821b-5f2f41acf31e\"}],\"active_drag\":{\"id\":\"764e1eb1-6561-4808-8f6c-04921c071a94\"}}},\"left\":[{\"type\":\"object\",\"name\":\"LinearAxis\",\"id\":\"a5128e93-2630-4fd0-86f3-6846e625643b\",\"attributes\":{\"ticker\":{\"type\":\"object\",\"name\":\"BasicTicker\",\"id\":\"7c7a61b0-cb7b-4507-984f-f1b563f6e09a\",\"attributes\":{\"mantissas\":[1,2,5]}},\"formatter\":{\"type\":\"object\",\"name\":\"BasicTickFormatter\",\"id\":\"24ac13ad-c0e3-45b9-9e14-41588587c3fc\"},\"axis_label\":\"percent\",\"major_label_policy\":{\"type\":\"object\",\"name\":\"AllLabels\",\"id\":\"7c6804cb-fdaf-4954-8d77-f720b1f63dac\"}}}],\"below\":[{\"type\":\"object\",\"name\":\"CategoricalAxis\",\"id\":\"d494a74a-35d8-45f4-afd7-a5bce4d6e3ee\",\"attributes\":{\"ticker\":{\"type\":\"object\",\"name\":\"CategoricalTicker\",\"id\":\"803b9923-5d09-4f66-91b2-331a17569c5d\"},\"formatter\":{\"type\":\"object\",\"name\":\"CategoricalTickFormatter\",\"id\":\"bb9cebf6-a6b8-48e6-9d7e-db6b8c46d5de\"},\"axis_label\":\"post_str_b2\",\"major_label_policy\":{\"type\":\"object\",\"name\":\"AllLabels\",\"id\":\"901f4482-4bea-42ad-a812-9b87b52b66e1\"}}}],\"center\":[{\"type\":\"object\",\"name\":\"Grid\",\"id\":\"d9baacf1-5e66-415c-94a8-18ff1f24444e\",\"attributes\":{\"axis\":{\"id\":\"d494a74a-35d8-45f4-afd7-a5bce4d6e3ee\"},\"grid_line_color\":null}},{\"type\":\"object\",\"name\":\"Grid\",\"id\":\"1cf8ea7c-2ff9-489d-8321-de357245a0ba\",\"attributes\":{\"dimension\":1,\"axis\":{\"id\":\"a5128e93-2630-4fd0-86f3-6846e625643b\"},\"grid_line_color\":null}}],\"min_border_top\":10,\"min_border_bottom\":10,\"min_border_left\":10,\"min_border_right\":10,\"output_backend\":\"webgl\"}},{\"type\":\"object\",\"name\":\"Spacer\",\"id\":\"25fcfab6-ac8c-4611-a09a-79ba03264c97\",\"attributes\":{\"name\":\"HSpacer00362\",\"stylesheets\":[\"\\n:host(.pn-loading):before, .pn-loading:before {\\n  background-color: #c3c3c3;\\n  mask-size: auto calc(min(50%, 400px));\\n  -webkit-mask-size: auto calc(min(50%, 400px));\\n}\",{\"id\":\"383d5699-cad8-48d6-a859-c37c2366d652\"},{\"id\":\"72f8ea5f-3349-4fbe-825a-b81b48d9aa9d\"},{\"id\":\"8da375ba-5ee0-475e-aa22-80168e26e943\"}],\"margin\":0,\"sizing_mode\":\"stretch_width\",\"align\":\"start\"}}]}}],\"defs\":[{\"type\":\"model\",\"name\":\"ReactiveHTML1\"},{\"type\":\"model\",\"name\":\"FlexBox1\",\"properties\":[{\"name\":\"align_content\",\"kind\":\"Any\",\"default\":\"flex-start\"},{\"name\":\"align_items\",\"kind\":\"Any\",\"default\":\"flex-start\"},{\"name\":\"flex_direction\",\"kind\":\"Any\",\"default\":\"row\"},{\"name\":\"flex_wrap\",\"kind\":\"Any\",\"default\":\"wrap\"},{\"name\":\"gap\",\"kind\":\"Any\",\"default\":\"\"},{\"name\":\"justify_content\",\"kind\":\"Any\",\"default\":\"flex-start\"}]},{\"type\":\"model\",\"name\":\"FloatPanel1\",\"properties\":[{\"name\":\"config\",\"kind\":\"Any\",\"default\":{\"type\":\"map\"}},{\"name\":\"contained\",\"kind\":\"Any\",\"default\":true},{\"name\":\"position\",\"kind\":\"Any\",\"default\":\"right-top\"},{\"name\":\"offsetx\",\"kind\":\"Any\",\"default\":null},{\"name\":\"offsety\",\"kind\":\"Any\",\"default\":null},{\"name\":\"theme\",\"kind\":\"Any\",\"default\":\"primary\"},{\"name\":\"status\",\"kind\":\"Any\",\"default\":\"normalized\"}]},{\"type\":\"model\",\"name\":\"GridStack1\",\"properties\":[{\"name\":\"ncols\",\"kind\":\"Any\",\"default\":null},{\"name\":\"nrows\",\"kind\":\"Any\",\"default\":null},{\"name\":\"allow_resize\",\"kind\":\"Any\",\"default\":true},{\"name\":\"allow_drag\",\"kind\":\"Any\",\"default\":true},{\"name\":\"state\",\"kind\":\"Any\",\"default\":[]}]},{\"type\":\"model\",\"name\":\"drag1\",\"properties\":[{\"name\":\"slider_width\",\"kind\":\"Any\",\"default\":5},{\"name\":\"slider_color\",\"kind\":\"Any\",\"default\":\"black\"},{\"name\":\"value\",\"kind\":\"Any\",\"default\":50}]},{\"type\":\"model\",\"name\":\"click1\",\"properties\":[{\"name\":\"terminal_output\",\"kind\":\"Any\",\"default\":\"\"},{\"name\":\"debug_name\",\"kind\":\"Any\",\"default\":\"\"},{\"name\":\"clears\",\"kind\":\"Any\",\"default\":0}]},{\"type\":\"model\",\"name\":\"FastWrapper1\",\"properties\":[{\"name\":\"object\",\"kind\":\"Any\",\"default\":null},{\"name\":\"style\",\"kind\":\"Any\",\"default\":null}]},{\"type\":\"model\",\"name\":\"NotificationArea1\",\"properties\":[{\"name\":\"js_events\",\"kind\":\"Any\",\"default\":{\"type\":\"map\"}},{\"name\":\"max_notifications\",\"kind\":\"Any\",\"default\":5},{\"name\":\"notifications\",\"kind\":\"Any\",\"default\":[]},{\"name\":\"position\",\"kind\":\"Any\",\"default\":\"bottom-right\"},{\"name\":\"_clear\",\"kind\":\"Any\",\"default\":0},{\"name\":\"types\",\"kind\":\"Any\",\"default\":[{\"type\":\"map\",\"entries\":[[\"type\",\"warning\"],[\"background\",\"#ffc107\"],[\"icon\",{\"type\":\"map\",\"entries\":[[\"className\",\"fas fa-exclamation-triangle\"],[\"tagName\",\"i\"],[\"color\",\"white\"]]}]]},{\"type\":\"map\",\"entries\":[[\"type\",\"info\"],[\"background\",\"#007bff\"],[\"icon\",{\"type\":\"map\",\"entries\":[[\"className\",\"fas fa-info-circle\"],[\"tagName\",\"i\"],[\"color\",\"white\"]]}]]}]}]},{\"type\":\"model\",\"name\":\"Notification\",\"properties\":[{\"name\":\"background\",\"kind\":\"Any\",\"default\":null},{\"name\":\"duration\",\"kind\":\"Any\",\"default\":3000},{\"name\":\"icon\",\"kind\":\"Any\",\"default\":null},{\"name\":\"message\",\"kind\":\"Any\",\"default\":\"\"},{\"name\":\"notification_type\",\"kind\":\"Any\",\"default\":null},{\"name\":\"_rendered\",\"kind\":\"Any\",\"default\":false},{\"name\":\"_destroyed\",\"kind\":\"Any\",\"default\":false}]},{\"type\":\"model\",\"name\":\"TemplateActions1\",\"properties\":[{\"name\":\"open_modal\",\"kind\":\"Any\",\"default\":0},{\"name\":\"close_modal\",\"kind\":\"Any\",\"default\":0}]},{\"type\":\"model\",\"name\":\"BootstrapTemplateActions1\",\"properties\":[{\"name\":\"open_modal\",\"kind\":\"Any\",\"default\":0},{\"name\":\"close_modal\",\"kind\":\"Any\",\"default\":0}]},{\"type\":\"model\",\"name\":\"TemplateEditor1\",\"properties\":[{\"name\":\"layout\",\"kind\":\"Any\",\"default\":[]}]},{\"type\":\"model\",\"name\":\"MaterialTemplateActions1\",\"properties\":[{\"name\":\"open_modal\",\"kind\":\"Any\",\"default\":0},{\"name\":\"close_modal\",\"kind\":\"Any\",\"default\":0}]},{\"type\":\"model\",\"name\":\"ReactiveESM1\",\"properties\":[{\"name\":\"esm_constants\",\"kind\":\"Any\",\"default\":{\"type\":\"map\"}}]},{\"type\":\"model\",\"name\":\"JSComponent1\",\"properties\":[{\"name\":\"esm_constants\",\"kind\":\"Any\",\"default\":{\"type\":\"map\"}}]},{\"type\":\"model\",\"name\":\"ReactComponent1\",\"properties\":[{\"name\":\"esm_constants\",\"kind\":\"Any\",\"default\":{\"type\":\"map\"}}]},{\"type\":\"model\",\"name\":\"AnyWidgetComponent1\",\"properties\":[{\"name\":\"esm_constants\",\"kind\":\"Any\",\"default\":{\"type\":\"map\"}}]},{\"type\":\"model\",\"name\":\"request_value1\",\"properties\":[{\"name\":\"fill\",\"kind\":\"Any\",\"default\":\"none\"},{\"name\":\"_synced\",\"kind\":\"Any\",\"default\":null},{\"name\":\"_request_sync\",\"kind\":\"Any\",\"default\":0}]}]}};\n",
       "  var render_items = [{\"docid\":\"dc1d8539-56db-464c-bf2c-9286e49f3268\",\"roots\":{\"7f83325d-82f0-404e-b79a-6e0b30d6c08d\":\"a691b2a3-6c12-422f-a64e-1fe0289b97c0\"},\"root_ids\":[\"7f83325d-82f0-404e-b79a-6e0b30d6c08d\"]}];\n",
       "  var docs = Object.values(docs_json)\n",
       "  if (!docs) {\n",
       "    return\n",
       "  }\n",
       "  const py_version = docs[0].version.replace('rc', '-rc.').replace('.dev', '-dev.')\n",
       "  async function embed_document(root) {\n",
       "    var Bokeh = get_bokeh(root)\n",
       "    await Bokeh.embed.embed_items_notebook(docs_json, render_items);\n",
       "    for (const render_item of render_items) {\n",
       "      for (const root_id of render_item.root_ids) {\n",
       "\tconst id_el = document.getElementById(root_id)\n",
       "\tif (id_el.children.length && id_el.children[0].hasAttribute('data-root-id')) {\n",
       "\t  const root_el = id_el.children[0]\n",
       "\t  root_el.id = root_el.id + '-rendered'\n",
       "\t  for (const child of root_el.children) {\n",
       "            // Ensure JupyterLab does not capture keyboard shortcuts\n",
       "            // see: https://jupyterlab.readthedocs.io/en/4.1.x/extension/notebook.html#keyboard-interaction-model\n",
       "\t    child.setAttribute('data-lm-suppress-shortcuts', 'true')\n",
       "\t  }\n",
       "\t}\n",
       "      }\n",
       "    }\n",
       "  }\n",
       "  function get_bokeh(root) {\n",
       "    if (root.Bokeh === undefined) {\n",
       "      return null\n",
       "    } else if (root.Bokeh.version !== py_version) {\n",
       "      if (root.Bokeh.versions === undefined || !root.Bokeh.versions.has(py_version)) {\n",
       "\treturn null\n",
       "      }\n",
       "      return root.Bokeh.versions.get(py_version);\n",
       "    } else if (root.Bokeh.version === py_version) {\n",
       "      return root.Bokeh\n",
       "    }\n",
       "    return null\n",
       "  }\n",
       "  function is_loaded(root) {\n",
       "    var Bokeh = get_bokeh(root)\n",
       "    return (Bokeh != null && Bokeh.Panel !== undefined)\n",
       "  }\n",
       "  if (is_loaded(root)) {\n",
       "    embed_document(root);\n",
       "  } else {\n",
       "    var attempts = 0;\n",
       "    var timer = setInterval(function(root) {\n",
       "      if (is_loaded(root)) {\n",
       "        clearInterval(timer);\n",
       "        embed_document(root);\n",
       "      } else if (document.readyState == \"complete\") {\n",
       "        attempts++;\n",
       "        if (attempts > 200) {\n",
       "          clearInterval(timer);\n",
       "\t  var Bokeh = get_bokeh(root)\n",
       "\t  if (Bokeh == null || Bokeh.Panel == null) {\n",
       "            console.warn(\"Panel: ERROR: Unable to run Panel code because Bokeh or Panel library is missing\");\n",
       "\t  } else {\n",
       "\t    console.warn(\"Panel: WARNING: Attempting to render but not all required libraries could be resolved.\")\n",
       "\t    embed_document(root)\n",
       "\t  }\n",
       "        }\n",
       "      }\n",
       "    }, 25, root)\n",
       "  }\n",
       "})(window);</script>"
      ],
      "text/plain": [
       ":Overlay\n",
       "   .Bars.I    :Bars   [post_str_b2]   (percent)\n",
       "   .HLine.I   :HLine   [x,y]\n",
       "   .HLine.II  :HLine   [x,y]\n",
       "   .HLine.III :HLine   [x,y]"
      ]
     },
     "metadata": {
      "application/vnd.holoviews_exec.v0+json": {
       "id": "7f83325d-82f0-404e-b79a-6e0b30d6c08d"
      }
     },
     "output_type": "display_data"
    },
    {
     "name": "stdout",
     "output_type": "stream",
     "text": [
      "df_10_last FOR str_b2 = 04\n",
      "Last 3 results last_results=['15', '20']\n"
     ]
    },
    {
     "data": {
      "text/html": [
       "<div><style>\n",
       ".dataframe > thead > tr,\n",
       ".dataframe > tbody > tr {\n",
       "  text-align: right;\n",
       "  white-space: pre-wrap;\n",
       "}\n",
       "</style>\n",
       "<small>shape: (10, 30)</small><table border=\"1\" class=\"dataframe\"><thead><tr><th>fecha</th><th>sorteo</th><th>bolillas</th><th>yapa</th><th>adicionales</th><th>sorteo_extra</th><th>id</th><th>combo</th><th>b1</th><th>b2</th><th>b3</th><th>b4</th><th>b5</th><th>b6</th><th>str_b1</th><th>str_b2</th><th>str_b3</th><th>str_b4</th><th>str_b5</th><th>str_b6</th><th>post_str_b1</th><th>post_str_b2</th><th>post_str_b3</th><th>post_str_b4</th><th>post_str_b5</th><th>post_str_blast</th><th>is_rare_combination</th><th>reason</th><th>jumps_map</th><th>unijump</th></tr><tr><td>str</td><td>str</td><td>str</td><td>str</td><td>str</td><td>str</td><td>str</td><td>array[u8, 6]</td><td>u8</td><td>u8</td><td>u8</td><td>u8</td><td>u8</td><td>u8</td><td>str</td><td>str</td><td>str</td><td>str</td><td>str</td><td>str</td><td>str</td><td>str</td><td>str</td><td>str</td><td>str</td><td>str</td><td>bool</td><td>u8</td><td>str</td><td>i64</td></tr></thead><tbody><tr><td>&quot;03/11/2024&quot;</td><td>&quot;1139&quot;</td><td>&quot;04 24 37 36 14 02&quot;</td><td>&quot;03&quot;</td><td>&quot;50 12 42 10&quot;</td><td>&quot;Promoción Sí o Sí&quot;</td><td>&quot;020414243637&quot;</td><td>[2, 4, … 37]</td><td>2</td><td>4</td><td>14</td><td>24</td><td>36</td><td>37</td><td>&quot;02&quot;</td><td>&quot;04&quot;</td><td>&quot;14&quot;</td><td>&quot;24&quot;</td><td>&quot;36&quot;</td><td>&quot;37&quot;</td><td>&quot;02&quot;</td><td>&quot;15&quot;</td><td>&quot;17&quot;</td><td>&quot;40&quot;</td><td>&quot;46&quot;</td><td>&quot;48&quot;</td><td>true</td><td>8</td><td>&quot;02_10_10_12_01&quot;</td><td>-25</td></tr><tr><td>&quot;08/05/2024&quot;</td><td>&quot;1088&quot;</td><td>&quot;04 45 01 47 27 20&quot;</td><td>&quot;46&quot;</td><td>&quot;44&quot;</td><td>&quot;Promoción Sí o Sí&quot;</td><td>&quot;010420274547&quot;</td><td>[1, 4, … 47]</td><td>1</td><td>4</td><td>20</td><td>27</td><td>45</td><td>47</td><td>&quot;01&quot;</td><td>&quot;04&quot;</td><td>&quot;20&quot;</td><td>&quot;27&quot;</td><td>&quot;45&quot;</td><td>&quot;47&quot;</td><td>&quot;10&quot;</td><td>&quot;20&quot;</td><td>&quot;25&quot;</td><td>&quot;37&quot;</td><td>&quot;43&quot;</td><td>&quot;46&quot;</td><td>true</td><td>16</td><td>&quot;03_16_07_18_02&quot;</td><td>-89</td></tr><tr><td>&quot;24/01/2024&quot;</td><td>&quot;1058&quot;</td><td>&quot;04 01 46 24 38 39&quot;</td><td>&quot;25&quot;</td><td>&quot;21&quot;</td><td>&quot;Promoción Sí o Sí&quot;</td><td>&quot;010424383946&quot;</td><td>[1, 4, … 46]</td><td>1</td><td>4</td><td>24</td><td>38</td><td>39</td><td>46</td><td>&quot;01&quot;</td><td>&quot;04&quot;</td><td>&quot;24&quot;</td><td>&quot;38&quot;</td><td>&quot;39&quot;</td><td>&quot;46&quot;</td><td>&quot;03&quot;</td><td>&quot;15&quot;</td><td>&quot;19&quot;</td><td>&quot;21&quot;</td><td>&quot;24&quot;</td><td>&quot;25&quot;</td><td>false</td><td>0</td><td>&quot;03_20_14_01_07&quot;</td><td>10</td></tr><tr><td>&quot;07/01/2024&quot;</td><td>&quot;1053&quot;</td><td>&quot;18 27 04 33 07 01&quot;</td><td>&quot;31&quot;</td><td>&quot;23 02 37&quot;</td><td>&quot;Promoción Sí o Sí&quot;</td><td>&quot;010407182733&quot;</td><td>[1, 4, … 33]</td><td>1</td><td>4</td><td>7</td><td>18</td><td>27</td><td>33</td><td>&quot;01&quot;</td><td>&quot;04&quot;</td><td>&quot;07&quot;</td><td>&quot;18&quot;</td><td>&quot;27&quot;</td><td>&quot;33&quot;</td><td>&quot;01&quot;</td><td>&quot;10&quot;</td><td>&quot;11&quot;</td><td>&quot;29&quot;</td><td>&quot;30&quot;</td><td>&quot;36&quot;</td><td>true</td><td>8</td><td>&quot;03_03_11_09_06&quot;</td><td>27</td></tr><tr><td>&quot;07/05/2023&quot;</td><td>&quot;0983&quot;</td><td>&quot;05 22 04 01 09 23&quot;</td><td>&quot;34&quot;</td><td>&quot;35 44&quot;</td><td>&quot;Promoción Sí o Sí&quot;</td><td>&quot;010405092223&quot;</td><td>[1, 4, … 23]</td><td>1</td><td>4</td><td>5</td><td>9</td><td>22</td><td>23</td><td>&quot;01&quot;</td><td>&quot;04&quot;</td><td>&quot;05&quot;</td><td>&quot;09&quot;</td><td>&quot;22&quot;</td><td>&quot;23&quot;</td><td>&quot;09&quot;</td><td>&quot;15&quot;</td><td>&quot;16&quot;</td><td>&quot;20&quot;</td><td>&quot;22&quot;</td><td>&quot;34&quot;</td><td>false</td><td>0</td><td>&quot;03_01_04_13_01&quot;</td><td>-28</td></tr><tr><td>&quot;29/03/2023&quot;</td><td>&quot;0972&quot;</td><td>&quot;14 04 08 23 03 18&quot;</td><td>&quot;42&quot;</td><td>&quot;45 26&quot;</td><td>&quot;Promoción Sí o Sí&quot;</td><td>&quot;030408141823&quot;</td><td>[3, 4, … 23]</td><td>3</td><td>4</td><td>8</td><td>14</td><td>18</td><td>23</td><td>&quot;03&quot;</td><td>&quot;04&quot;</td><td>&quot;08&quot;</td><td>&quot;14&quot;</td><td>&quot;18&quot;</td><td>&quot;23&quot;</td><td>&quot;02&quot;</td><td>&quot;14&quot;</td><td>&quot;24&quot;</td><td>&quot;28&quot;</td><td>&quot;31&quot;</td><td>&quot;34&quot;</td><td>false</td><td>0</td><td>&quot;01_04_06_04_05&quot;</td><td>10</td></tr><tr><td>&quot;22/02/2023&quot;</td><td>&quot;0962&quot;</td><td>&quot;24 29 19 04 03 43&quot;</td><td>&quot;11&quot;</td><td>&quot;08 20&quot;</td><td>&quot;Promoción Sí o Sí&quot;</td><td>&quot;030419242943&quot;</td><td>[3, 4, … 43]</td><td>3</td><td>4</td><td>19</td><td>24</td><td>29</td><td>43</td><td>&quot;03&quot;</td><td>&quot;04&quot;</td><td>&quot;19&quot;</td><td>&quot;24&quot;</td><td>&quot;29&quot;</td><td>&quot;43&quot;</td><td>&quot;02&quot;</td><td>&quot;05&quot;</td><td>&quot;16&quot;</td><td>&quot;28&quot;</td><td>&quot;43&quot;</td><td>&quot;46&quot;</td><td>true</td><td>9</td><td>&quot;01_15_05_05_14&quot;</td><td>-35</td></tr><tr><td>&quot;08/01/2023&quot;</td><td>&quot;0949&quot;</td><td>&quot;04 44 22 10 03 42&quot;</td><td>&quot;38&quot;</td><td>&quot;33 46 17&quot;</td><td>&quot;Promoción Sí o Sí&quot;</td><td>&quot;030410224244&quot;</td><td>[3, 4, … 44]</td><td>3</td><td>4</td><td>10</td><td>22</td><td>42</td><td>44</td><td>&quot;03&quot;</td><td>&quot;04&quot;</td><td>&quot;10&quot;</td><td>&quot;22&quot;</td><td>&quot;42&quot;</td><td>&quot;44&quot;</td><td>&quot;15&quot;</td><td>&quot;25&quot;</td><td>&quot;28&quot;</td><td>&quot;34&quot;</td><td>&quot;38&quot;</td><td>&quot;43&quot;</td><td>false</td><td>0</td><td>&quot;01_06_12_20_02&quot;</td><td>-29</td></tr><tr><td>&quot;04/01/2023&quot;</td><td>&quot;0948&quot;</td><td>&quot;45 04 38 01 14 17&quot;</td><td>&quot;07&quot;</td><td>&quot;34 42&quot;</td><td>&quot;Promoción Sí o Sí&quot;</td><td>&quot;010414173845&quot;</td><td>[1, 4, … 45]</td><td>1</td><td>4</td><td>14</td><td>17</td><td>38</td><td>45</td><td>&quot;01&quot;</td><td>&quot;04&quot;</td><td>&quot;14&quot;</td><td>&quot;17&quot;</td><td>&quot;38&quot;</td><td>&quot;45&quot;</td><td>&quot;03&quot;</td><td>&quot;04&quot;</td><td>&quot;10&quot;</td><td>&quot;22&quot;</td><td>&quot;42&quot;</td><td>&quot;44&quot;</td><td>true</td><td>16</td><td>&quot;03_10_03_21_07&quot;</td><td>-96</td></tr><tr><td>&quot;26/10/2022&quot;</td><td>&quot;0928&quot;</td><td>&quot;04 09 07 12 02 27&quot;</td><td>&quot;45&quot;</td><td>&quot;41 03&quot;</td><td>&quot;Promoción Sí o Sí&quot;</td><td>&quot;020407091227&quot;</td><td>[2, 4, … 27]</td><td>2</td><td>4</td><td>7</td><td>9</td><td>12</td><td>27</td><td>&quot;02&quot;</td><td>&quot;04&quot;</td><td>&quot;07&quot;</td><td>&quot;09&quot;</td><td>&quot;12&quot;</td><td>&quot;27&quot;</td><td>&quot;10&quot;</td><td>&quot;14&quot;</td><td>&quot;22&quot;</td><td>&quot;30&quot;</td><td>&quot;35&quot;</td><td>&quot;44&quot;</td><td>true</td><td>16</td><td>&quot;02_03_02_03_15&quot;</td><td>5</td></tr></tbody></table></div>"
      ],
      "text/plain": [
       "shape: (10, 30)\n",
       "┌────────────┬────────┬───────────────┬──────┬───┬───────────────┬────────┬──────────────┬─────────┐\n",
       "│ fecha      ┆ sorteo ┆ bolillas      ┆ yapa ┆ … ┆ is_rare_combi ┆ reason ┆ jumps_map    ┆ unijump │\n",
       "│ ---        ┆ ---    ┆ ---           ┆ ---  ┆   ┆ nation        ┆ ---    ┆ ---          ┆ ---     │\n",
       "│ str        ┆ str    ┆ str           ┆ str  ┆   ┆ ---           ┆ u8     ┆ str          ┆ i64     │\n",
       "│            ┆        ┆               ┆      ┆   ┆ bool          ┆        ┆              ┆         │\n",
       "╞════════════╪════════╪═══════════════╪══════╪═══╪═══════════════╪════════╪══════════════╪═════════╡\n",
       "│ 03/11/2024 ┆ 1139   ┆ 04 24 37 36   ┆ 03   ┆ … ┆ true          ┆ 8      ┆ 02_10_10_12_ ┆ -25     │\n",
       "│            ┆        ┆ 14 02         ┆      ┆   ┆               ┆        ┆ 01           ┆         │\n",
       "│ 08/05/2024 ┆ 1088   ┆ 04 45 01 47   ┆ 46   ┆ … ┆ true          ┆ 16     ┆ 03_16_07_18_ ┆ -89     │\n",
       "│            ┆        ┆ 27 20         ┆      ┆   ┆               ┆        ┆ 02           ┆         │\n",
       "│ 24/01/2024 ┆ 1058   ┆ 04 01 46 24   ┆ 25   ┆ … ┆ false         ┆ 0      ┆ 03_20_14_01_ ┆ 10      │\n",
       "│            ┆        ┆ 38 39         ┆      ┆   ┆               ┆        ┆ 07           ┆         │\n",
       "│ 07/01/2024 ┆ 1053   ┆ 18 27 04 33   ┆ 31   ┆ … ┆ true          ┆ 8      ┆ 03_03_11_09_ ┆ 27      │\n",
       "│            ┆        ┆ 07 01         ┆      ┆   ┆               ┆        ┆ 06           ┆         │\n",
       "│ 07/05/2023 ┆ 0983   ┆ 05 22 04 01   ┆ 34   ┆ … ┆ false         ┆ 0      ┆ 03_01_04_13_ ┆ -28     │\n",
       "│            ┆        ┆ 09 23         ┆      ┆   ┆               ┆        ┆ 01           ┆         │\n",
       "│ 29/03/2023 ┆ 0972   ┆ 14 04 08 23   ┆ 42   ┆ … ┆ false         ┆ 0      ┆ 01_04_06_04_ ┆ 10      │\n",
       "│            ┆        ┆ 03 18         ┆      ┆   ┆               ┆        ┆ 05           ┆         │\n",
       "│ 22/02/2023 ┆ 0962   ┆ 24 29 19 04   ┆ 11   ┆ … ┆ true          ┆ 9      ┆ 01_15_05_05_ ┆ -35     │\n",
       "│            ┆        ┆ 03 43         ┆      ┆   ┆               ┆        ┆ 14           ┆         │\n",
       "│ 08/01/2023 ┆ 0949   ┆ 04 44 22 10   ┆ 38   ┆ … ┆ false         ┆ 0      ┆ 01_06_12_20_ ┆ -29     │\n",
       "│            ┆        ┆ 03 42         ┆      ┆   ┆               ┆        ┆ 02           ┆         │\n",
       "│ 04/01/2023 ┆ 0948   ┆ 45 04 38 01   ┆ 07   ┆ … ┆ true          ┆ 16     ┆ 03_10_03_21_ ┆ -96     │\n",
       "│            ┆        ┆ 14 17         ┆      ┆   ┆               ┆        ┆ 07           ┆         │\n",
       "│ 26/10/2022 ┆ 0928   ┆ 04 09 07 12   ┆ 45   ┆ … ┆ true          ┆ 16     ┆ 02_03_02_03_ ┆ 5       │\n",
       "│            ┆        ┆ 02 27         ┆      ┆   ┆               ┆        ┆ 15           ┆         │\n",
       "└────────────┴────────┴───────────────┴──────┴───┴───────────────┴────────┴──────────────┴─────────┘"
      ]
     },
     "metadata": {},
     "output_type": "display_data"
    },
    {
     "name": "stdout",
     "output_type": "stream",
     "text": [
      "df_jumps_map FOR str_b2 = 04\n"
     ]
    },
    {
     "data": {
      "text/html": [
       "<div><style>\n",
       ".dataframe > thead > tr,\n",
       ".dataframe > tbody > tr {\n",
       "  text-align: right;\n",
       "  white-space: pre-wrap;\n",
       "}\n",
       "</style>\n",
       "<small>shape: (99, 2)</small><table border=\"1\" class=\"dataframe\"><thead><tr><th>jumps_map</th><th>count</th></tr><tr><td>str</td><td>u32</td></tr></thead><tbody><tr><td>&quot;01_01_08_14_10&quot;</td><td>1</td></tr><tr><td>&quot;01_02_04_06_13&quot;</td><td>1</td></tr><tr><td>&quot;02_17_09_06_06&quot;</td><td>1</td></tr><tr><td>&quot;01_05_21_10_04&quot;</td><td>1</td></tr><tr><td>&quot;03_02_09_01_02&quot;</td><td>1</td></tr><tr><td>&hellip;</td><td>&hellip;</td></tr><tr><td>&quot;01_03_09_27_02&quot;</td><td>1</td></tr><tr><td>&quot;02_04_17_04_06&quot;</td><td>1</td></tr><tr><td>&quot;01_21_15_01_01&quot;</td><td>1</td></tr><tr><td>&quot;01_11_01_25_02&quot;</td><td>1</td></tr><tr><td>&quot;01_12_11_02_13&quot;</td><td>1</td></tr></tbody></table></div>"
      ],
      "text/plain": [
       "shape: (99, 2)\n",
       "┌────────────────┬───────┐\n",
       "│ jumps_map      ┆ count │\n",
       "│ ---            ┆ ---   │\n",
       "│ str            ┆ u32   │\n",
       "╞════════════════╪═══════╡\n",
       "│ 01_01_08_14_10 ┆ 1     │\n",
       "│ 01_02_04_06_13 ┆ 1     │\n",
       "│ 02_17_09_06_06 ┆ 1     │\n",
       "│ 01_05_21_10_04 ┆ 1     │\n",
       "│ 03_02_09_01_02 ┆ 1     │\n",
       "│ …              ┆ …     │\n",
       "│ 01_03_09_27_02 ┆ 1     │\n",
       "│ 02_04_17_04_06 ┆ 1     │\n",
       "│ 01_21_15_01_01 ┆ 1     │\n",
       "│ 01_11_01_25_02 ┆ 1     │\n",
       "│ 01_12_11_02_13 ┆ 1     │\n",
       "└────────────────┴───────┘"
      ]
     },
     "metadata": {},
     "output_type": "display_data"
    },
    {
     "name": "stdout",
     "output_type": "stream",
     "text": [
      "df_unijump FOR str_b2 = 04\n"
     ]
    },
    {
     "data": {
      "text/html": [
       "<div><style>\n",
       ".dataframe > thead > tr,\n",
       ".dataframe > tbody > tr {\n",
       "  text-align: right;\n",
       "  white-space: pre-wrap;\n",
       "}\n",
       "</style>\n",
       "<small>shape: (73, 2)</small><table border=\"1\" class=\"dataframe\"><thead><tr><th>unijump</th><th>count</th></tr><tr><td>i64</td><td>u32</td></tr></thead><tbody><tr><td>79</td><td>3</td></tr><tr><td>-25</td><td>3</td></tr><tr><td>1</td><td>3</td></tr><tr><td>-21</td><td>3</td></tr><tr><td>6</td><td>3</td></tr><tr><td>&hellip;</td><td>&hellip;</td></tr><tr><td>50</td><td>1</td></tr><tr><td>112</td><td>1</td></tr><tr><td>20</td><td>1</td></tr><tr><td>72</td><td>1</td></tr><tr><td>80</td><td>1</td></tr></tbody></table></div>"
      ],
      "text/plain": [
       "shape: (73, 2)\n",
       "┌─────────┬───────┐\n",
       "│ unijump ┆ count │\n",
       "│ ---     ┆ ---   │\n",
       "│ i64     ┆ u32   │\n",
       "╞═════════╪═══════╡\n",
       "│ 79      ┆ 3     │\n",
       "│ -25     ┆ 3     │\n",
       "│ 1       ┆ 3     │\n",
       "│ -21     ┆ 3     │\n",
       "│ 6       ┆ 3     │\n",
       "│ …       ┆ …     │\n",
       "│ 50      ┆ 1     │\n",
       "│ 112     ┆ 1     │\n",
       "│ 20      ┆ 1     │\n",
       "│ 72      ┆ 1     │\n",
       "│ 80      ┆ 1     │\n",
       "└─────────┴───────┘"
      ]
     },
     "metadata": {},
     "output_type": "display_data"
    }
   ],
   "source": [
    "possible_b2, exclude_jump_maps_b2, last_post_b2 = plot_post_col(col='str_b2', post_col='post_str_b2')"
   ]
  },
  {
   "cell_type": "code",
   "execution_count": 9,
   "metadata": {},
   "outputs": [
    {
     "name": "stdout",
     "output_type": "stream",
     "text": [
      "Setting test_value='08'\n",
      "df_viz FOR str_b3 = 08\n"
     ]
    },
    {
     "data": {
      "text/html": [
       "<div><style>\n",
       ".dataframe > thead > tr,\n",
       ".dataframe > tbody > tr {\n",
       "  text-align: right;\n",
       "  white-space: pre-wrap;\n",
       "}\n",
       "</style>\n",
       "<small>shape: (25, 3)</small><table border=\"1\" class=\"dataframe\"><thead><tr><th>post_str_b3</th><th>count</th><th>percent</th></tr><tr><td>str</td><td>u32</td><td>f64</td></tr></thead><tbody><tr><td>&quot;14&quot;</td><td>10</td><td>17.857143</td></tr><tr><td>&quot;21&quot;</td><td>6</td><td>10.714286</td></tr><tr><td>&quot;15&quot;</td><td>4</td><td>7.142857</td></tr><tr><td>&quot;28&quot;</td><td>4</td><td>7.142857</td></tr><tr><td>&quot;13&quot;</td><td>3</td><td>5.357143</td></tr><tr><td>&hellip;</td><td>&hellip;</td><td>&hellip;</td></tr><tr><td>&quot;32&quot;</td><td>1</td><td>1.785714</td></tr><tr><td>&quot;22&quot;</td><td>1</td><td>1.785714</td></tr><tr><td>&quot;12&quot;</td><td>1</td><td>1.785714</td></tr><tr><td>&quot;27&quot;</td><td>1</td><td>1.785714</td></tr><tr><td>&quot;20&quot;</td><td>1</td><td>1.785714</td></tr></tbody></table></div>"
      ],
      "text/plain": [
       "shape: (25, 3)\n",
       "┌─────────────┬───────┬───────────┐\n",
       "│ post_str_b3 ┆ count ┆ percent   │\n",
       "│ ---         ┆ ---   ┆ ---       │\n",
       "│ str         ┆ u32   ┆ f64       │\n",
       "╞═════════════╪═══════╪═══════════╡\n",
       "│ 14          ┆ 10    ┆ 17.857143 │\n",
       "│ 21          ┆ 6     ┆ 10.714286 │\n",
       "│ 15          ┆ 4     ┆ 7.142857  │\n",
       "│ 28          ┆ 4     ┆ 7.142857  │\n",
       "│ 13          ┆ 3     ┆ 5.357143  │\n",
       "│ …           ┆ …     ┆ …         │\n",
       "│ 32          ┆ 1     ┆ 1.785714  │\n",
       "│ 22          ┆ 1     ┆ 1.785714  │\n",
       "│ 12          ┆ 1     ┆ 1.785714  │\n",
       "│ 27          ┆ 1     ┆ 1.785714  │\n",
       "│ 20          ┆ 1     ┆ 1.785714  │\n",
       "└─────────────┴───────┴───────────┘"
      ]
     },
     "metadata": {},
     "output_type": "display_data"
    },
    {
     "data": {},
     "metadata": {},
     "output_type": "display_data"
    },
    {
     "data": {
      "application/vnd.holoviews_exec.v0+json": "",
      "text/html": [
       "<div id='dec81845-f03e-44f4-8ef9-791c2668475a'>\n",
       "  <div id=\"a5b8c3b4-522f-4df4-b541-27d4e2b1a1cf\" data-root-id=\"dec81845-f03e-44f4-8ef9-791c2668475a\" style=\"display: contents;\"></div>\n",
       "</div>\n",
       "<script type=\"application/javascript\">(function(root) {\n",
       "  var docs_json = {\"adc6393c-e14c-449c-b35c-6a29bc8cce01\":{\"version\":\"3.7.2\",\"title\":\"Bokeh Application\",\"roots\":[{\"type\":\"object\",\"name\":\"Row\",\"id\":\"dec81845-f03e-44f4-8ef9-791c2668475a\",\"attributes\":{\"name\":\"Row00428\",\"tags\":[\"embedded\"],\"stylesheets\":[\"\\n:host(.pn-loading):before, .pn-loading:before {\\n  background-color: #c3c3c3;\\n  mask-size: auto calc(min(50%, 400px));\\n  -webkit-mask-size: auto calc(min(50%, 400px));\\n}\",{\"type\":\"object\",\"name\":\"ImportedStyleSheet\",\"id\":\"b1d4f8be-406e-4791-a8e3-fb069b714386\",\"attributes\":{\"url\":\"https://cdn.holoviz.org/panel/1.6.2/dist/css/loading.css\"}},{\"type\":\"object\",\"name\":\"ImportedStyleSheet\",\"id\":\"f5a05cc3-179e-417f-bc6a-f7af0e46aa4e\",\"attributes\":{\"url\":\"https://cdn.holoviz.org/panel/1.6.2/dist/css/listpanel.css\"}},{\"type\":\"object\",\"name\":\"ImportedStyleSheet\",\"id\":\"d1874715-9a6a-41a9-b257-631559429983\",\"attributes\":{\"url\":\"https://cdn.holoviz.org/panel/1.6.2/dist/bundled/theme/default.css\"}},{\"type\":\"object\",\"name\":\"ImportedStyleSheet\",\"id\":\"b5f01c16-8b77-4594-9c34-f87d1653e996\",\"attributes\":{\"url\":\"https://cdn.holoviz.org/panel/1.6.2/dist/bundled/theme/native.css\"}}],\"min_width\":700,\"margin\":0,\"sizing_mode\":\"stretch_width\",\"align\":\"start\",\"children\":[{\"type\":\"object\",\"name\":\"Spacer\",\"id\":\"3be4e5e6-d066-4761-8508-e57f99c781b3\",\"attributes\":{\"name\":\"HSpacer00432\",\"stylesheets\":[\"\\n:host(.pn-loading):before, .pn-loading:before {\\n  background-color: #c3c3c3;\\n  mask-size: auto calc(min(50%, 400px));\\n  -webkit-mask-size: auto calc(min(50%, 400px));\\n}\",{\"id\":\"b1d4f8be-406e-4791-a8e3-fb069b714386\"},{\"id\":\"d1874715-9a6a-41a9-b257-631559429983\"},{\"id\":\"b5f01c16-8b77-4594-9c34-f87d1653e996\"}],\"margin\":0,\"sizing_mode\":\"stretch_width\",\"align\":\"start\"}},{\"type\":\"object\",\"name\":\"Figure\",\"id\":\"36a882a5-5ec4-4c53-b227-3fc45a5ae5ad\",\"attributes\":{\"width\":700,\"height\":300,\"margin\":[5,10],\"sizing_mode\":\"fixed\",\"align\":\"start\",\"x_range\":{\"type\":\"object\",\"name\":\"FactorRange\",\"id\":\"45838fb1-fa29-4b10-bb46-f457d5632d90\",\"attributes\":{\"name\":\"post_str_b3\",\"tags\":[[[\"post_str_b3\",null]],[]],\"factors\":[\"14\",\"21\",\"15\",\"28\",\"13\",\"07\",\"24\",\"23\",\"08\",\"26\",\"17\",\"25\",\"10\",\"09\",\"11\",\"31\",\"19\",\"36\",\"16\",\"30\",\"32\",\"22\",\"12\",\"27\",\"20\"]}},\"y_range\":{\"type\":\"object\",\"name\":\"Range1d\",\"id\":\"3412a2d7-4823-43de-9fb5-33f16bd731ce\",\"attributes\":{\"name\":\"percent\",\"tags\":[[[\"percent\",null]],{\"type\":\"map\",\"entries\":[[\"invert_yaxis\",false],[\"autorange\",false]]}],\"end\":19.46428571428571,\"reset_start\":0.0,\"reset_end\":19.46428571428571}},\"x_scale\":{\"type\":\"object\",\"name\":\"CategoricalScale\",\"id\":\"a6c640ba-38b6-4ff6-9e1a-855926fdcf88\"},\"y_scale\":{\"type\":\"object\",\"name\":\"LinearScale\",\"id\":\"2f8467de-8efe-45d7-8756-0d87b4005220\"},\"title\":{\"type\":\"object\",\"name\":\"Title\",\"id\":\"16ef1581-5ddc-49ff-b173-7865ef2985f6\",\"attributes\":{\"text_color\":\"black\",\"text_font_size\":\"12pt\"}},\"renderers\":[{\"type\":\"object\",\"name\":\"GlyphRenderer\",\"id\":\"8d9401bc-8535-4451-8e8f-304e52f956b6\",\"attributes\":{\"data_source\":{\"type\":\"object\",\"name\":\"ColumnDataSource\",\"id\":\"7653505c-7ba1-4e49-a533-be2b04e2783d\",\"attributes\":{\"selected\":{\"type\":\"object\",\"name\":\"Selection\",\"id\":\"6b5bdd9e-4544-44ff-acf6-72ebbafdd83c\",\"attributes\":{\"indices\":[],\"line_indices\":[]}},\"selection_policy\":{\"type\":\"object\",\"name\":\"UnionRenderers\",\"id\":\"038b86c3-e937-4ebc-9223-3f0c8ea5b11d\"},\"data\":{\"type\":\"map\",\"entries\":[[\"post_str_b3\",[\"14\",\"21\",\"15\",\"28\",\"13\",\"07\",\"24\",\"23\",\"08\",\"26\",\"17\",\"25\",\"10\",\"09\",\"11\",\"31\",\"19\",\"36\",\"16\",\"30\",\"32\",\"22\",\"12\",\"27\",\"20\"]],[\"percent\",{\"type\":\"ndarray\",\"array\":{\"type\":\"bytes\",\"data\":\"tm3btm3bMUDbtm3btm0lQCRJkiRJkhxAJEmSJEmSHEDbtm3btm0VQNu2bdu2bRVAJEmSJEmSDEAkSZIkSZIMQCRJkiRJkgxAJEmSJEmSDEAkSZIkSZIMQCRJkiRJkgxAJEmSJEmSDEAkSZIkSZL8PyRJkiRJkvw/JEmSJEmS/D8kSZIkSZL8PyRJkiRJkvw/JEmSJEmS/D8kSZIkSZL8PyRJkiRJkvw/JEmSJEmS/D8kSZIkSZL8PyRJkiRJkvw/JEmSJEmS/D8=\"},\"shape\":[25],\"dtype\":\"float64\",\"order\":\"little\"}]]}}},\"view\":{\"type\":\"object\",\"name\":\"CDSView\",\"id\":\"aef8508f-b118-48e1-a30d-1cd4499ec141\",\"attributes\":{\"filter\":{\"type\":\"object\",\"name\":\"AllIndices\",\"id\":\"3d106246-a592-4729-9ce3-6f55bdcde754\"}}},\"glyph\":{\"type\":\"object\",\"name\":\"VBar\",\"id\":\"cad4d6f6-7978-40dc-b66d-410191f8ff80\",\"attributes\":{\"tags\":[\"apply_ranges\"],\"x\":{\"type\":\"field\",\"field\":\"post_str_b3\"},\"width\":{\"type\":\"value\",\"value\":0.8},\"top\":{\"type\":\"field\",\"field\":\"percent\"},\"fill_color\":{\"type\":\"value\",\"value\":\"#30a2da\"},\"hatch_color\":{\"type\":\"value\",\"value\":\"#30a2da\"}}},\"selection_glyph\":{\"type\":\"object\",\"name\":\"VBar\",\"id\":\"42ca4b42-8692-47f6-ab23-6c42abfb9f4f\",\"attributes\":{\"tags\":[\"apply_ranges\"],\"x\":{\"type\":\"field\",\"field\":\"post_str_b3\"},\"width\":{\"type\":\"value\",\"value\":0.8},\"bottom\":{\"type\":\"value\",\"value\":0},\"top\":{\"type\":\"field\",\"field\":\"percent\"},\"line_color\":{\"type\":\"value\",\"value\":\"black\"},\"line_alpha\":{\"type\":\"value\",\"value\":1.0},\"line_width\":{\"type\":\"value\",\"value\":1},\"line_join\":{\"type\":\"value\",\"value\":\"bevel\"},\"line_cap\":{\"type\":\"value\",\"value\":\"butt\"},\"line_dash\":{\"type\":\"value\",\"value\":[]},\"line_dash_offset\":{\"type\":\"value\",\"value\":0},\"fill_color\":{\"type\":\"value\",\"value\":\"#30a2da\"},\"fill_alpha\":{\"type\":\"value\",\"value\":1.0},\"hatch_color\":{\"type\":\"value\",\"value\":\"#30a2da\"},\"hatch_alpha\":{\"type\":\"value\",\"value\":1.0},\"hatch_scale\":{\"type\":\"value\",\"value\":12.0},\"hatch_pattern\":{\"type\":\"value\",\"value\":null},\"hatch_weight\":{\"type\":\"value\",\"value\":1.0}}},\"nonselection_glyph\":{\"type\":\"object\",\"name\":\"VBar\",\"id\":\"3680b19f-1170-4a8c-a3da-76dfa17c6040\",\"attributes\":{\"tags\":[\"apply_ranges\"],\"x\":{\"type\":\"field\",\"field\":\"post_str_b3\"},\"width\":{\"type\":\"value\",\"value\":0.8},\"top\":{\"type\":\"field\",\"field\":\"percent\"},\"line_alpha\":{\"type\":\"value\",\"value\":0.1},\"fill_color\":{\"type\":\"value\",\"value\":\"#30a2da\"},\"fill_alpha\":{\"type\":\"value\",\"value\":0.1},\"hatch_color\":{\"type\":\"value\",\"value\":\"#30a2da\"},\"hatch_alpha\":{\"type\":\"value\",\"value\":0.1}}},\"muted_glyph\":{\"type\":\"object\",\"name\":\"VBar\",\"id\":\"edb92b73-a4df-4d10-8ff4-416713cbc101\",\"attributes\":{\"tags\":[\"apply_ranges\"],\"x\":{\"type\":\"field\",\"field\":\"post_str_b3\"},\"width\":{\"type\":\"value\",\"value\":0.8},\"top\":{\"type\":\"field\",\"field\":\"percent\"},\"line_alpha\":{\"type\":\"value\",\"value\":0.2},\"fill_color\":{\"type\":\"value\",\"value\":\"#30a2da\"},\"fill_alpha\":{\"type\":\"value\",\"value\":0.2},\"hatch_color\":{\"type\":\"value\",\"value\":\"#30a2da\"},\"hatch_alpha\":{\"type\":\"value\",\"value\":0.2}}}}},{\"type\":\"object\",\"name\":\"Span\",\"id\":\"490d5c68-df8e-4bee-a23c-235e0c95cf7a\",\"attributes\":{\"level\":\"glyph\",\"location\":4.000000000000002,\"line_color\":\"red\",\"line_width\":3}},{\"type\":\"object\",\"name\":\"Span\",\"id\":\"ddd188e4-d4fb-4c95-ae7c-72e11c7d69a6\",\"attributes\":{\"level\":\"glyph\",\"location\":6.000000000000003,\"line_color\":\"blue\",\"line_width\":3}},{\"type\":\"object\",\"name\":\"Span\",\"id\":\"a3073cc8-7401-41d5-9774-84e0efec99aa\",\"attributes\":{\"level\":\"glyph\",\"location\":2.000000000000001,\"line_color\":\"blue\",\"line_width\":3}}],\"toolbar\":{\"type\":\"object\",\"name\":\"Toolbar\",\"id\":\"129ba07f-2df9-48fd-8f90-bbc51b8d3e5a\",\"attributes\":{\"tools\":[{\"type\":\"object\",\"name\":\"WheelZoomTool\",\"id\":\"f5056e0c-ec8b-4e25-9c6f-37af61d5b512\",\"attributes\":{\"tags\":[\"hv_created\"],\"renderers\":\"auto\",\"zoom_together\":\"none\"}},{\"type\":\"object\",\"name\":\"HoverTool\",\"id\":\"d17544a5-8df5-4bbf-884f-d3f0a276e62c\",\"attributes\":{\"tags\":[\"hv_created\"],\"renderers\":[{\"id\":\"8d9401bc-8535-4451-8e8f-304e52f956b6\"}],\"tooltips\":[[\"post_str_b3\",\"@{post_str_b3}\"],[\"percent\",\"@{percent}\"]]}},{\"type\":\"object\",\"name\":\"SaveTool\",\"id\":\"fadcb186-4803-44f7-8e1c-a67b05f582ea\"},{\"type\":\"object\",\"name\":\"PanTool\",\"id\":\"0c39f5aa-66bd-415b-90c7-63d51cdfcffa\"},{\"type\":\"object\",\"name\":\"BoxZoomTool\",\"id\":\"586bec41-7421-4fc2-be48-9cb7c47bb675\",\"attributes\":{\"dimensions\":\"both\",\"overlay\":{\"type\":\"object\",\"name\":\"BoxAnnotation\",\"id\":\"875b4501-f6d0-4664-be81-c1b7f8076ec2\",\"attributes\":{\"syncable\":false,\"line_color\":\"black\",\"line_alpha\":1.0,\"line_width\":2,\"line_dash\":[4,4],\"fill_color\":\"lightgrey\",\"fill_alpha\":0.5,\"level\":\"overlay\",\"visible\":false,\"left\":{\"type\":\"number\",\"value\":\"nan\"},\"right\":{\"type\":\"number\",\"value\":\"nan\"},\"top\":{\"type\":\"number\",\"value\":\"nan\"},\"bottom\":{\"type\":\"number\",\"value\":\"nan\"},\"left_units\":\"canvas\",\"right_units\":\"canvas\",\"top_units\":\"canvas\",\"bottom_units\":\"canvas\",\"handles\":{\"type\":\"object\",\"name\":\"BoxInteractionHandles\",\"id\":\"fd3a7f58-d73e-4599-b026-664bbea88886\",\"attributes\":{\"all\":{\"type\":\"object\",\"name\":\"AreaVisuals\",\"id\":\"f32d7bdc-246f-48c9-a92d-d53348f9f4a7\",\"attributes\":{\"fill_color\":\"white\",\"hover_fill_color\":\"lightgray\"}}}}}}}},{\"type\":\"object\",\"name\":\"ResetTool\",\"id\":\"7ec16df7-a23e-4eab-b8e7-768113b7d682\"}],\"active_drag\":{\"id\":\"0c39f5aa-66bd-415b-90c7-63d51cdfcffa\"}}},\"left\":[{\"type\":\"object\",\"name\":\"LinearAxis\",\"id\":\"991431d8-26e3-4913-a2be-a979ddd3e617\",\"attributes\":{\"ticker\":{\"type\":\"object\",\"name\":\"BasicTicker\",\"id\":\"d559acbe-7726-49f9-a5b3-026b1f728ef8\",\"attributes\":{\"mantissas\":[1,2,5]}},\"formatter\":{\"type\":\"object\",\"name\":\"BasicTickFormatter\",\"id\":\"d49725ff-308e-464a-9b01-78cd03f90784\"},\"axis_label\":\"percent\",\"major_label_policy\":{\"type\":\"object\",\"name\":\"AllLabels\",\"id\":\"6afff79b-c046-42c5-8c49-7f883fa9b906\"}}}],\"below\":[{\"type\":\"object\",\"name\":\"CategoricalAxis\",\"id\":\"a1e77774-35a4-4f00-9cd5-be55291deb6e\",\"attributes\":{\"ticker\":{\"type\":\"object\",\"name\":\"CategoricalTicker\",\"id\":\"11b82e44-2cf6-4dfd-9403-fe986d6ff6bd\"},\"formatter\":{\"type\":\"object\",\"name\":\"CategoricalTickFormatter\",\"id\":\"bcbf8c6c-87c2-4cb8-bb22-6abb10a4ba84\"},\"axis_label\":\"post_str_b3\",\"major_label_policy\":{\"type\":\"object\",\"name\":\"AllLabels\",\"id\":\"07e2ce01-e2ff-4d68-a31f-0195d30301e0\"}}}],\"center\":[{\"type\":\"object\",\"name\":\"Grid\",\"id\":\"a29edd99-6274-4668-9edc-212831cb1264\",\"attributes\":{\"axis\":{\"id\":\"a1e77774-35a4-4f00-9cd5-be55291deb6e\"},\"grid_line_color\":null}},{\"type\":\"object\",\"name\":\"Grid\",\"id\":\"4858a9ac-2051-4f9f-981b-cff1d290099c\",\"attributes\":{\"dimension\":1,\"axis\":{\"id\":\"991431d8-26e3-4913-a2be-a979ddd3e617\"},\"grid_line_color\":null}}],\"min_border_top\":10,\"min_border_bottom\":10,\"min_border_left\":10,\"min_border_right\":10,\"output_backend\":\"webgl\"}},{\"type\":\"object\",\"name\":\"Spacer\",\"id\":\"10e96535-8cdd-43eb-8de5-99294fc2716b\",\"attributes\":{\"name\":\"HSpacer00433\",\"stylesheets\":[\"\\n:host(.pn-loading):before, .pn-loading:before {\\n  background-color: #c3c3c3;\\n  mask-size: auto calc(min(50%, 400px));\\n  -webkit-mask-size: auto calc(min(50%, 400px));\\n}\",{\"id\":\"b1d4f8be-406e-4791-a8e3-fb069b714386\"},{\"id\":\"d1874715-9a6a-41a9-b257-631559429983\"},{\"id\":\"b5f01c16-8b77-4594-9c34-f87d1653e996\"}],\"margin\":0,\"sizing_mode\":\"stretch_width\",\"align\":\"start\"}}]}}],\"defs\":[{\"type\":\"model\",\"name\":\"ReactiveHTML1\"},{\"type\":\"model\",\"name\":\"FlexBox1\",\"properties\":[{\"name\":\"align_content\",\"kind\":\"Any\",\"default\":\"flex-start\"},{\"name\":\"align_items\",\"kind\":\"Any\",\"default\":\"flex-start\"},{\"name\":\"flex_direction\",\"kind\":\"Any\",\"default\":\"row\"},{\"name\":\"flex_wrap\",\"kind\":\"Any\",\"default\":\"wrap\"},{\"name\":\"gap\",\"kind\":\"Any\",\"default\":\"\"},{\"name\":\"justify_content\",\"kind\":\"Any\",\"default\":\"flex-start\"}]},{\"type\":\"model\",\"name\":\"FloatPanel1\",\"properties\":[{\"name\":\"config\",\"kind\":\"Any\",\"default\":{\"type\":\"map\"}},{\"name\":\"contained\",\"kind\":\"Any\",\"default\":true},{\"name\":\"position\",\"kind\":\"Any\",\"default\":\"right-top\"},{\"name\":\"offsetx\",\"kind\":\"Any\",\"default\":null},{\"name\":\"offsety\",\"kind\":\"Any\",\"default\":null},{\"name\":\"theme\",\"kind\":\"Any\",\"default\":\"primary\"},{\"name\":\"status\",\"kind\":\"Any\",\"default\":\"normalized\"}]},{\"type\":\"model\",\"name\":\"GridStack1\",\"properties\":[{\"name\":\"ncols\",\"kind\":\"Any\",\"default\":null},{\"name\":\"nrows\",\"kind\":\"Any\",\"default\":null},{\"name\":\"allow_resize\",\"kind\":\"Any\",\"default\":true},{\"name\":\"allow_drag\",\"kind\":\"Any\",\"default\":true},{\"name\":\"state\",\"kind\":\"Any\",\"default\":[]}]},{\"type\":\"model\",\"name\":\"drag1\",\"properties\":[{\"name\":\"slider_width\",\"kind\":\"Any\",\"default\":5},{\"name\":\"slider_color\",\"kind\":\"Any\",\"default\":\"black\"},{\"name\":\"value\",\"kind\":\"Any\",\"default\":50}]},{\"type\":\"model\",\"name\":\"click1\",\"properties\":[{\"name\":\"terminal_output\",\"kind\":\"Any\",\"default\":\"\"},{\"name\":\"debug_name\",\"kind\":\"Any\",\"default\":\"\"},{\"name\":\"clears\",\"kind\":\"Any\",\"default\":0}]},{\"type\":\"model\",\"name\":\"FastWrapper1\",\"properties\":[{\"name\":\"object\",\"kind\":\"Any\",\"default\":null},{\"name\":\"style\",\"kind\":\"Any\",\"default\":null}]},{\"type\":\"model\",\"name\":\"NotificationArea1\",\"properties\":[{\"name\":\"js_events\",\"kind\":\"Any\",\"default\":{\"type\":\"map\"}},{\"name\":\"max_notifications\",\"kind\":\"Any\",\"default\":5},{\"name\":\"notifications\",\"kind\":\"Any\",\"default\":[]},{\"name\":\"position\",\"kind\":\"Any\",\"default\":\"bottom-right\"},{\"name\":\"_clear\",\"kind\":\"Any\",\"default\":0},{\"name\":\"types\",\"kind\":\"Any\",\"default\":[{\"type\":\"map\",\"entries\":[[\"type\",\"warning\"],[\"background\",\"#ffc107\"],[\"icon\",{\"type\":\"map\",\"entries\":[[\"className\",\"fas fa-exclamation-triangle\"],[\"tagName\",\"i\"],[\"color\",\"white\"]]}]]},{\"type\":\"map\",\"entries\":[[\"type\",\"info\"],[\"background\",\"#007bff\"],[\"icon\",{\"type\":\"map\",\"entries\":[[\"className\",\"fas fa-info-circle\"],[\"tagName\",\"i\"],[\"color\",\"white\"]]}]]}]}]},{\"type\":\"model\",\"name\":\"Notification\",\"properties\":[{\"name\":\"background\",\"kind\":\"Any\",\"default\":null},{\"name\":\"duration\",\"kind\":\"Any\",\"default\":3000},{\"name\":\"icon\",\"kind\":\"Any\",\"default\":null},{\"name\":\"message\",\"kind\":\"Any\",\"default\":\"\"},{\"name\":\"notification_type\",\"kind\":\"Any\",\"default\":null},{\"name\":\"_rendered\",\"kind\":\"Any\",\"default\":false},{\"name\":\"_destroyed\",\"kind\":\"Any\",\"default\":false}]},{\"type\":\"model\",\"name\":\"TemplateActions1\",\"properties\":[{\"name\":\"open_modal\",\"kind\":\"Any\",\"default\":0},{\"name\":\"close_modal\",\"kind\":\"Any\",\"default\":0}]},{\"type\":\"model\",\"name\":\"BootstrapTemplateActions1\",\"properties\":[{\"name\":\"open_modal\",\"kind\":\"Any\",\"default\":0},{\"name\":\"close_modal\",\"kind\":\"Any\",\"default\":0}]},{\"type\":\"model\",\"name\":\"TemplateEditor1\",\"properties\":[{\"name\":\"layout\",\"kind\":\"Any\",\"default\":[]}]},{\"type\":\"model\",\"name\":\"MaterialTemplateActions1\",\"properties\":[{\"name\":\"open_modal\",\"kind\":\"Any\",\"default\":0},{\"name\":\"close_modal\",\"kind\":\"Any\",\"default\":0}]},{\"type\":\"model\",\"name\":\"ReactiveESM1\",\"properties\":[{\"name\":\"esm_constants\",\"kind\":\"Any\",\"default\":{\"type\":\"map\"}}]},{\"type\":\"model\",\"name\":\"JSComponent1\",\"properties\":[{\"name\":\"esm_constants\",\"kind\":\"Any\",\"default\":{\"type\":\"map\"}}]},{\"type\":\"model\",\"name\":\"ReactComponent1\",\"properties\":[{\"name\":\"esm_constants\",\"kind\":\"Any\",\"default\":{\"type\":\"map\"}}]},{\"type\":\"model\",\"name\":\"AnyWidgetComponent1\",\"properties\":[{\"name\":\"esm_constants\",\"kind\":\"Any\",\"default\":{\"type\":\"map\"}}]},{\"type\":\"model\",\"name\":\"request_value1\",\"properties\":[{\"name\":\"fill\",\"kind\":\"Any\",\"default\":\"none\"},{\"name\":\"_synced\",\"kind\":\"Any\",\"default\":null},{\"name\":\"_request_sync\",\"kind\":\"Any\",\"default\":0}]}]}};\n",
       "  var render_items = [{\"docid\":\"adc6393c-e14c-449c-b35c-6a29bc8cce01\",\"roots\":{\"dec81845-f03e-44f4-8ef9-791c2668475a\":\"a5b8c3b4-522f-4df4-b541-27d4e2b1a1cf\"},\"root_ids\":[\"dec81845-f03e-44f4-8ef9-791c2668475a\"]}];\n",
       "  var docs = Object.values(docs_json)\n",
       "  if (!docs) {\n",
       "    return\n",
       "  }\n",
       "  const py_version = docs[0].version.replace('rc', '-rc.').replace('.dev', '-dev.')\n",
       "  async function embed_document(root) {\n",
       "    var Bokeh = get_bokeh(root)\n",
       "    await Bokeh.embed.embed_items_notebook(docs_json, render_items);\n",
       "    for (const render_item of render_items) {\n",
       "      for (const root_id of render_item.root_ids) {\n",
       "\tconst id_el = document.getElementById(root_id)\n",
       "\tif (id_el.children.length && id_el.children[0].hasAttribute('data-root-id')) {\n",
       "\t  const root_el = id_el.children[0]\n",
       "\t  root_el.id = root_el.id + '-rendered'\n",
       "\t  for (const child of root_el.children) {\n",
       "            // Ensure JupyterLab does not capture keyboard shortcuts\n",
       "            // see: https://jupyterlab.readthedocs.io/en/4.1.x/extension/notebook.html#keyboard-interaction-model\n",
       "\t    child.setAttribute('data-lm-suppress-shortcuts', 'true')\n",
       "\t  }\n",
       "\t}\n",
       "      }\n",
       "    }\n",
       "  }\n",
       "  function get_bokeh(root) {\n",
       "    if (root.Bokeh === undefined) {\n",
       "      return null\n",
       "    } else if (root.Bokeh.version !== py_version) {\n",
       "      if (root.Bokeh.versions === undefined || !root.Bokeh.versions.has(py_version)) {\n",
       "\treturn null\n",
       "      }\n",
       "      return root.Bokeh.versions.get(py_version);\n",
       "    } else if (root.Bokeh.version === py_version) {\n",
       "      return root.Bokeh\n",
       "    }\n",
       "    return null\n",
       "  }\n",
       "  function is_loaded(root) {\n",
       "    var Bokeh = get_bokeh(root)\n",
       "    return (Bokeh != null && Bokeh.Panel !== undefined)\n",
       "  }\n",
       "  if (is_loaded(root)) {\n",
       "    embed_document(root);\n",
       "  } else {\n",
       "    var attempts = 0;\n",
       "    var timer = setInterval(function(root) {\n",
       "      if (is_loaded(root)) {\n",
       "        clearInterval(timer);\n",
       "        embed_document(root);\n",
       "      } else if (document.readyState == \"complete\") {\n",
       "        attempts++;\n",
       "        if (attempts > 200) {\n",
       "          clearInterval(timer);\n",
       "\t  var Bokeh = get_bokeh(root)\n",
       "\t  if (Bokeh == null || Bokeh.Panel == null) {\n",
       "            console.warn(\"Panel: ERROR: Unable to run Panel code because Bokeh or Panel library is missing\");\n",
       "\t  } else {\n",
       "\t    console.warn(\"Panel: WARNING: Attempting to render but not all required libraries could be resolved.\")\n",
       "\t    embed_document(root)\n",
       "\t  }\n",
       "        }\n",
       "      }\n",
       "    }, 25, root)\n",
       "  }\n",
       "})(window);</script>"
      ],
      "text/plain": [
       ":Overlay\n",
       "   .Bars.I    :Bars   [post_str_b3]   (percent)\n",
       "   .HLine.I   :HLine   [x,y]\n",
       "   .HLine.II  :HLine   [x,y]\n",
       "   .HLine.III :HLine   [x,y]"
      ]
     },
     "metadata": {
      "application/vnd.holoviews_exec.v0+json": {
       "id": "dec81845-f03e-44f4-8ef9-791c2668475a"
      }
     },
     "output_type": "display_data"
    },
    {
     "name": "stdout",
     "output_type": "stream",
     "text": [
      "df_10_last FOR str_b3 = 08\n",
      "Last 3 results last_results=['23', '28', '14']\n"
     ]
    },
    {
     "data": {
      "text/html": [
       "<div><style>\n",
       ".dataframe > thead > tr,\n",
       ".dataframe > tbody > tr {\n",
       "  text-align: right;\n",
       "  white-space: pre-wrap;\n",
       "}\n",
       "</style>\n",
       "<small>shape: (10, 30)</small><table border=\"1\" class=\"dataframe\"><thead><tr><th>fecha</th><th>sorteo</th><th>bolillas</th><th>yapa</th><th>adicionales</th><th>sorteo_extra</th><th>id</th><th>combo</th><th>b1</th><th>b2</th><th>b3</th><th>b4</th><th>b5</th><th>b6</th><th>str_b1</th><th>str_b2</th><th>str_b3</th><th>str_b4</th><th>str_b5</th><th>str_b6</th><th>post_str_b1</th><th>post_str_b2</th><th>post_str_b3</th><th>post_str_b4</th><th>post_str_b5</th><th>post_str_blast</th><th>is_rare_combination</th><th>reason</th><th>jumps_map</th><th>unijump</th></tr><tr><td>str</td><td>str</td><td>str</td><td>str</td><td>str</td><td>str</td><td>str</td><td>array[u8, 6]</td><td>u8</td><td>u8</td><td>u8</td><td>u8</td><td>u8</td><td>u8</td><td>str</td><td>str</td><td>str</td><td>str</td><td>str</td><td>str</td><td>str</td><td>str</td><td>str</td><td>str</td><td>str</td><td>str</td><td>bool</td><td>u8</td><td>str</td><td>i64</td></tr></thead><tbody><tr><td>&quot;15/12/2024&quot;</td><td>&quot;1151&quot;</td><td>&quot;48 26 45 08 06 04&quot;</td><td>&quot;44&quot;</td><td>&quot;15 29&quot;</td><td>&quot;Promoción Sí o Sí&quot;</td><td>&quot;040608264548&quot;</td><td>[4, 6, … 48]</td><td>4</td><td>6</td><td>8</td><td>26</td><td>45</td><td>48</td><td>&quot;04&quot;</td><td>&quot;06&quot;</td><td>&quot;08&quot;</td><td>&quot;26&quot;</td><td>&quot;45&quot;</td><td>&quot;48&quot;</td><td>&quot;19&quot;</td><td>&quot;22&quot;</td><td>&quot;28&quot;</td><td>&quot;33&quot;</td><td>&quot;35&quot;</td><td>&quot;47&quot;</td><td>true</td><td>24</td><td>&quot;02_02_18_19_03&quot;</td><td>29</td></tr><tr><td>&quot;06/10/2024&quot;</td><td>&quot;1131&quot;</td><td>&quot;14 09 02 25 08 06&quot;</td><td>&quot;44&quot;</td><td>&quot;05 19 15&quot;</td><td>&quot;Promoción Sí o Sí&quot;</td><td>&quot;020608091425&quot;</td><td>[2, 6, … 25]</td><td>2</td><td>6</td><td>8</td><td>9</td><td>14</td><td>25</td><td>&quot;02&quot;</td><td>&quot;06&quot;</td><td>&quot;08&quot;</td><td>&quot;09&quot;</td><td>&quot;14&quot;</td><td>&quot;25&quot;</td><td>&quot;15&quot;</td><td>&quot;20&quot;</td><td>&quot;23&quot;</td><td>&quot;27&quot;</td><td>&quot;37&quot;</td><td>&quot;48&quot;</td><td>true</td><td>16</td><td>&quot;04_02_01_05_11&quot;</td><td>-7</td></tr><tr><td>&quot;03/12/2023&quot;</td><td>&quot;1043&quot;</td><td>&quot;22 08 03 01 27 19&quot;</td><td>&quot;34&quot;</td><td>&quot;16&quot;</td><td>&quot;Promoción Sí o Sí&quot;</td><td>&quot;010308192227&quot;</td><td>[1, 3, … 27]</td><td>1</td><td>3</td><td>8</td><td>19</td><td>22</td><td>27</td><td>&quot;01&quot;</td><td>&quot;03&quot;</td><td>&quot;08&quot;</td><td>&quot;19&quot;</td><td>&quot;22&quot;</td><td>&quot;27&quot;</td><td>&quot;02&quot;</td><td>&quot;12&quot;</td><td>&quot;14&quot;</td><td>&quot;15&quot;</td><td>&quot;18&quot;</td><td>&quot;27&quot;</td><td>false</td><td>0</td><td>&quot;02_05_11_03_05&quot;</td><td>41</td></tr><tr><td>&quot;17/09/2023&quot;</td><td>&quot;1021&quot;</td><td>&quot;36 05 47 46 07 08&quot;</td><td>&quot;14&quot;</td><td>&quot;02 01 18&quot;</td><td>&quot;Promoción Sí o Sí&quot;</td><td>&quot;050708364647&quot;</td><td>[5, 7, … 47]</td><td>5</td><td>7</td><td>8</td><td>36</td><td>46</td><td>47</td><td>&quot;05&quot;</td><td>&quot;07&quot;</td><td>&quot;08&quot;</td><td>&quot;36&quot;</td><td>&quot;46&quot;</td><td>&quot;47&quot;</td><td>&quot;19&quot;</td><td>&quot;24&quot;</td><td>&quot;27&quot;</td><td>&quot;34&quot;</td><td>&quot;42&quot;</td><td>&quot;47&quot;</td><td>true</td><td>16</td><td>&quot;02_01_28_10_01&quot;</td><td>127</td></tr><tr><td>&quot;29/03/2023&quot;</td><td>&quot;0972&quot;</td><td>&quot;14 04 08 23 03 18&quot;</td><td>&quot;42&quot;</td><td>&quot;45 26&quot;</td><td>&quot;Promoción Sí o Sí&quot;</td><td>&quot;030408141823&quot;</td><td>[3, 4, … 23]</td><td>3</td><td>4</td><td>8</td><td>14</td><td>18</td><td>23</td><td>&quot;03&quot;</td><td>&quot;04&quot;</td><td>&quot;08&quot;</td><td>&quot;14&quot;</td><td>&quot;18&quot;</td><td>&quot;23&quot;</td><td>&quot;02&quot;</td><td>&quot;14&quot;</td><td>&quot;24&quot;</td><td>&quot;28&quot;</td><td>&quot;31&quot;</td><td>&quot;34&quot;</td><td>false</td><td>0</td><td>&quot;01_04_06_04_05&quot;</td><td>10</td></tr><tr><td>&quot;03/04/2022&quot;</td><td>&quot;0869&quot;</td><td>&quot;04 35 34 08 05 36&quot;</td><td>&quot;30&quot;</td><td>&quot;19 14&quot;</td><td>&quot;Promoción Sí o Sí&quot;</td><td>&quot;040508343536&quot;</td><td>[4, 5, … 36]</td><td>4</td><td>5</td><td>8</td><td>34</td><td>35</td><td>36</td><td>&quot;04&quot;</td><td>&quot;05&quot;</td><td>&quot;08&quot;</td><td>&quot;34&quot;</td><td>&quot;35&quot;</td><td>&quot;36&quot;</td><td>&quot;05&quot;</td><td>&quot;10&quot;</td><td>&quot;13&quot;</td><td>&quot;15&quot;</td><td>&quot;18&quot;</td><td>&quot;31&quot;</td><td>true</td><td>24</td><td>&quot;01_03_26_01_01&quot;</td><td>142</td></tr><tr><td>&quot;16/03/2022&quot;</td><td>&quot;0864&quot;</td><td>&quot;39 06 02 08 24 26&quot;</td><td>&quot;23&quot;</td><td>&quot;11 33&quot;</td><td>&quot;Promoción Sí o Sí&quot;</td><td>&quot;020608242639&quot;</td><td>[2, 6, … 39]</td><td>2</td><td>6</td><td>8</td><td>24</td><td>26</td><td>39</td><td>&quot;02&quot;</td><td>&quot;06&quot;</td><td>&quot;08&quot;</td><td>&quot;24&quot;</td><td>&quot;26&quot;</td><td>&quot;39&quot;</td><td>&quot;04&quot;</td><td>&quot;19&quot;</td><td>&quot;21&quot;</td><td>&quot;23&quot;</td><td>&quot;33&quot;</td><td>&quot;46&quot;</td><td>true</td><td>16</td><td>&quot;04_02_16_02_13&quot;</td><td>97</td></tr><tr><td>&quot;27/10/2021&quot;</td><td>&quot;0824&quot;</td><td>&quot;01 38 09 06 08 42&quot;</td><td>&quot;21&quot;</td><td>&quot;&quot;</td><td>&quot;&quot;</td><td>&quot;010608093842&quot;</td><td>[1, 6, … 42]</td><td>1</td><td>6</td><td>8</td><td>9</td><td>38</td><td>42</td><td>&quot;01&quot;</td><td>&quot;06&quot;</td><td>&quot;08&quot;</td><td>&quot;09&quot;</td><td>&quot;38&quot;</td><td>&quot;42&quot;</td><td>&quot;28&quot;</td><td>&quot;29&quot;</td><td>&quot;31&quot;</td><td>&quot;33&quot;</td><td>&quot;35&quot;</td><td>&quot;39&quot;</td><td>false</td><td>0</td><td>&quot;05_02_01_29_04&quot;</td><td>-109</td></tr><tr><td>&quot;14/07/2021&quot;</td><td>&quot;0794&quot;</td><td>&quot;11 42 09 01 08 03&quot;</td><td>&quot;19&quot;</td><td>&quot;&quot;</td><td>&quot;&quot;</td><td>&quot;010308091142&quot;</td><td>[1, 3, … 42]</td><td>1</td><td>3</td><td>8</td><td>9</td><td>11</td><td>42</td><td>&quot;01&quot;</td><td>&quot;03&quot;</td><td>&quot;08&quot;</td><td>&quot;09&quot;</td><td>&quot;11&quot;</td><td>&quot;42&quot;</td><td>&quot;02&quot;</td><td>&quot;04&quot;</td><td>&quot;16&quot;</td><td>&quot;34&quot;</td><td>&quot;36&quot;</td><td>&quot;39&quot;</td><td>false</td><td>0</td><td>&quot;02_05_01_02_31&quot;</td><td>11</td></tr><tr><td>&quot;07/07/2021&quot;</td><td>&quot;0792&quot;</td><td>&quot;05 13 08 22 24 07&quot;</td><td>&quot;01&quot;</td><td>&quot;&quot;</td><td>&quot;&quot;</td><td>&quot;050708132224&quot;</td><td>[5, 7, … 24]</td><td>5</td><td>7</td><td>8</td><td>13</td><td>22</td><td>24</td><td>&quot;05&quot;</td><td>&quot;07&quot;</td><td>&quot;08&quot;</td><td>&quot;13&quot;</td><td>&quot;22&quot;</td><td>&quot;24&quot;</td><td>&quot;06&quot;</td><td>&quot;11&quot;</td><td>&quot;14&quot;</td><td>&quot;23&quot;</td><td>&quot;35&quot;</td><td>&quot;44&quot;</td><td>false</td><td>0</td><td>&quot;02_01_05_09_02&quot;</td><td>-6</td></tr></tbody></table></div>"
      ],
      "text/plain": [
       "shape: (10, 30)\n",
       "┌────────────┬────────┬───────────────┬──────┬───┬───────────────┬────────┬──────────────┬─────────┐\n",
       "│ fecha      ┆ sorteo ┆ bolillas      ┆ yapa ┆ … ┆ is_rare_combi ┆ reason ┆ jumps_map    ┆ unijump │\n",
       "│ ---        ┆ ---    ┆ ---           ┆ ---  ┆   ┆ nation        ┆ ---    ┆ ---          ┆ ---     │\n",
       "│ str        ┆ str    ┆ str           ┆ str  ┆   ┆ ---           ┆ u8     ┆ str          ┆ i64     │\n",
       "│            ┆        ┆               ┆      ┆   ┆ bool          ┆        ┆              ┆         │\n",
       "╞════════════╪════════╪═══════════════╪══════╪═══╪═══════════════╪════════╪══════════════╪═════════╡\n",
       "│ 15/12/2024 ┆ 1151   ┆ 48 26 45 08   ┆ 44   ┆ … ┆ true          ┆ 24     ┆ 02_02_18_19_ ┆ 29      │\n",
       "│            ┆        ┆ 06 04         ┆      ┆   ┆               ┆        ┆ 03           ┆         │\n",
       "│ 06/10/2024 ┆ 1131   ┆ 14 09 02 25   ┆ 44   ┆ … ┆ true          ┆ 16     ┆ 04_02_01_05_ ┆ -7      │\n",
       "│            ┆        ┆ 08 06         ┆      ┆   ┆               ┆        ┆ 11           ┆         │\n",
       "│ 03/12/2023 ┆ 1043   ┆ 22 08 03 01   ┆ 34   ┆ … ┆ false         ┆ 0      ┆ 02_05_11_03_ ┆ 41      │\n",
       "│            ┆        ┆ 27 19         ┆      ┆   ┆               ┆        ┆ 05           ┆         │\n",
       "│ 17/09/2023 ┆ 1021   ┆ 36 05 47 46   ┆ 14   ┆ … ┆ true          ┆ 16     ┆ 02_01_28_10_ ┆ 127     │\n",
       "│            ┆        ┆ 07 08         ┆      ┆   ┆               ┆        ┆ 01           ┆         │\n",
       "│ 29/03/2023 ┆ 0972   ┆ 14 04 08 23   ┆ 42   ┆ … ┆ false         ┆ 0      ┆ 01_04_06_04_ ┆ 10      │\n",
       "│            ┆        ┆ 03 18         ┆      ┆   ┆               ┆        ┆ 05           ┆         │\n",
       "│ 03/04/2022 ┆ 0869   ┆ 04 35 34 08   ┆ 30   ┆ … ┆ true          ┆ 24     ┆ 01_03_26_01_ ┆ 142     │\n",
       "│            ┆        ┆ 05 36         ┆      ┆   ┆               ┆        ┆ 01           ┆         │\n",
       "│ 16/03/2022 ┆ 0864   ┆ 39 06 02 08   ┆ 23   ┆ … ┆ true          ┆ 16     ┆ 04_02_16_02_ ┆ 97      │\n",
       "│            ┆        ┆ 24 26         ┆      ┆   ┆               ┆        ┆ 13           ┆         │\n",
       "│ 27/10/2021 ┆ 0824   ┆ 01 38 09 06   ┆ 21   ┆ … ┆ false         ┆ 0      ┆ 05_02_01_29_ ┆ -109    │\n",
       "│            ┆        ┆ 08 42         ┆      ┆   ┆               ┆        ┆ 04           ┆         │\n",
       "│ 14/07/2021 ┆ 0794   ┆ 11 42 09 01   ┆ 19   ┆ … ┆ false         ┆ 0      ┆ 02_05_01_02_ ┆ 11      │\n",
       "│            ┆        ┆ 08 03         ┆      ┆   ┆               ┆        ┆ 31           ┆         │\n",
       "│ 07/07/2021 ┆ 0792   ┆ 05 13 08 22   ┆ 01   ┆ … ┆ false         ┆ 0      ┆ 02_01_05_09_ ┆ -6      │\n",
       "│            ┆        ┆ 24 07         ┆      ┆   ┆               ┆        ┆ 02           ┆         │\n",
       "└────────────┴────────┴───────────────┴──────┴───┴───────────────┴────────┴──────────────┴─────────┘"
      ]
     },
     "metadata": {},
     "output_type": "display_data"
    },
    {
     "name": "stdout",
     "output_type": "stream",
     "text": [
      "df_jumps_map FOR str_b3 = 08\n"
     ]
    },
    {
     "data": {
      "text/html": [
       "<div><style>\n",
       ".dataframe > thead > tr,\n",
       ".dataframe > tbody > tr {\n",
       "  text-align: right;\n",
       "  white-space: pre-wrap;\n",
       "}\n",
       "</style>\n",
       "<small>shape: (56, 2)</small><table border=\"1\" class=\"dataframe\"><thead><tr><th>jumps_map</th><th>count</th></tr><tr><td>str</td><td>u32</td></tr></thead><tbody><tr><td>&quot;05_02_01_29_04&quot;</td><td>1</td></tr><tr><td>&quot;02_01_28_10_01&quot;</td><td>1</td></tr><tr><td>&quot;03_04_05_02_27&quot;</td><td>1</td></tr><tr><td>&quot;02_02_01_06_07&quot;</td><td>1</td></tr><tr><td>&quot;04_02_16_02_13&quot;</td><td>1</td></tr><tr><td>&hellip;</td><td>&hellip;</td></tr><tr><td>&quot;05_01_02_16_09&quot;</td><td>1</td></tr><tr><td>&quot;03_01_16_12_06&quot;</td><td>1</td></tr><tr><td>&quot;03_03_06_11_12&quot;</td><td>1</td></tr><tr><td>&quot;06_01_01_17_08&quot;</td><td>1</td></tr><tr><td>&quot;02_01_02_15_16&quot;</td><td>1</td></tr></tbody></table></div>"
      ],
      "text/plain": [
       "shape: (56, 2)\n",
       "┌────────────────┬───────┐\n",
       "│ jumps_map      ┆ count │\n",
       "│ ---            ┆ ---   │\n",
       "│ str            ┆ u32   │\n",
       "╞════════════════╪═══════╡\n",
       "│ 05_02_01_29_04 ┆ 1     │\n",
       "│ 02_01_28_10_01 ┆ 1     │\n",
       "│ 03_04_05_02_27 ┆ 1     │\n",
       "│ 02_02_01_06_07 ┆ 1     │\n",
       "│ 04_02_16_02_13 ┆ 1     │\n",
       "│ …              ┆ …     │\n",
       "│ 05_01_02_16_09 ┆ 1     │\n",
       "│ 03_01_16_12_06 ┆ 1     │\n",
       "│ 03_03_06_11_12 ┆ 1     │\n",
       "│ 06_01_01_17_08 ┆ 1     │\n",
       "│ 02_01_02_15_16 ┆ 1     │\n",
       "└────────────────┴───────┘"
      ]
     },
     "metadata": {},
     "output_type": "display_data"
    },
    {
     "name": "stdout",
     "output_type": "stream",
     "text": [
      "df_unijump FOR str_b3 = 08\n"
     ]
    },
    {
     "data": {
      "text/html": [
       "<div><style>\n",
       ".dataframe > thead > tr,\n",
       ".dataframe > tbody > tr {\n",
       "  text-align: right;\n",
       "  white-space: pre-wrap;\n",
       "}\n",
       "</style>\n",
       "<small>shape: (54, 2)</small><table border=\"1\" class=\"dataframe\"><thead><tr><th>unijump</th><th>count</th></tr><tr><td>i64</td><td>u32</td></tr></thead><tbody><tr><td>80</td><td>2</td></tr><tr><td>127</td><td>2</td></tr><tr><td>41</td><td>1</td></tr><tr><td>39</td><td>1</td></tr><tr><td>-66</td><td>1</td></tr><tr><td>&hellip;</td><td>&hellip;</td></tr><tr><td>142</td><td>1</td></tr><tr><td>53</td><td>1</td></tr><tr><td>28</td><td>1</td></tr><tr><td>-34</td><td>1</td></tr><tr><td>97</td><td>1</td></tr></tbody></table></div>"
      ],
      "text/plain": [
       "shape: (54, 2)\n",
       "┌─────────┬───────┐\n",
       "│ unijump ┆ count │\n",
       "│ ---     ┆ ---   │\n",
       "│ i64     ┆ u32   │\n",
       "╞═════════╪═══════╡\n",
       "│ 80      ┆ 2     │\n",
       "│ 127     ┆ 2     │\n",
       "│ 41      ┆ 1     │\n",
       "│ 39      ┆ 1     │\n",
       "│ -66     ┆ 1     │\n",
       "│ …       ┆ …     │\n",
       "│ 142     ┆ 1     │\n",
       "│ 53      ┆ 1     │\n",
       "│ 28      ┆ 1     │\n",
       "│ -34     ┆ 1     │\n",
       "│ 97      ┆ 1     │\n",
       "└─────────┴───────┘"
      ]
     },
     "metadata": {},
     "output_type": "display_data"
    }
   ],
   "source": [
    "possible_b3, exclude_jump_maps_b3, last_post_b3 = plot_post_col(col='str_b3', post_col='post_str_b3')"
   ]
  },
  {
   "cell_type": "code",
   "execution_count": 10,
   "metadata": {},
   "outputs": [
    {
     "name": "stdout",
     "output_type": "stream",
     "text": [
      "Setting test_value='09'\n",
      "df_viz FOR str_b4 = 09\n"
     ]
    },
    {
     "data": {
      "text/html": [
       "<div><style>\n",
       ".dataframe > thead > tr,\n",
       ".dataframe > tbody > tr {\n",
       "  text-align: right;\n",
       "  white-space: pre-wrap;\n",
       "}\n",
       "</style>\n",
       "<small>shape: (11, 3)</small><table border=\"1\" class=\"dataframe\"><thead><tr><th>post_str_b4</th><th>count</th><th>percent</th></tr><tr><td>str</td><td>u32</td><td>f64</td></tr></thead><tbody><tr><td>&quot;33&quot;</td><td>3</td><td>20.0</td></tr><tr><td>&quot;22&quot;</td><td>2</td><td>13.333333</td></tr><tr><td>&quot;30&quot;</td><td>2</td><td>13.333333</td></tr><tr><td>&quot;31&quot;</td><td>1</td><td>6.666667</td></tr><tr><td>&quot;16&quot;</td><td>1</td><td>6.666667</td></tr><tr><td>&hellip;</td><td>&hellip;</td><td>&hellip;</td></tr><tr><td>&quot;14&quot;</td><td>1</td><td>6.666667</td></tr><tr><td>&quot;27&quot;</td><td>1</td><td>6.666667</td></tr><tr><td>&quot;17&quot;</td><td>1</td><td>6.666667</td></tr><tr><td>&quot;25&quot;</td><td>1</td><td>6.666667</td></tr><tr><td>&quot;34&quot;</td><td>1</td><td>6.666667</td></tr></tbody></table></div>"
      ],
      "text/plain": [
       "shape: (11, 3)\n",
       "┌─────────────┬───────┬───────────┐\n",
       "│ post_str_b4 ┆ count ┆ percent   │\n",
       "│ ---         ┆ ---   ┆ ---       │\n",
       "│ str         ┆ u32   ┆ f64       │\n",
       "╞═════════════╪═══════╪═══════════╡\n",
       "│ 33          ┆ 3     ┆ 20.0      │\n",
       "│ 22          ┆ 2     ┆ 13.333333 │\n",
       "│ 30          ┆ 2     ┆ 13.333333 │\n",
       "│ 31          ┆ 1     ┆ 6.666667  │\n",
       "│ 16          ┆ 1     ┆ 6.666667  │\n",
       "│ …           ┆ …     ┆ …         │\n",
       "│ 14          ┆ 1     ┆ 6.666667  │\n",
       "│ 27          ┆ 1     ┆ 6.666667  │\n",
       "│ 17          ┆ 1     ┆ 6.666667  │\n",
       "│ 25          ┆ 1     ┆ 6.666667  │\n",
       "│ 34          ┆ 1     ┆ 6.666667  │\n",
       "└─────────────┴───────┴───────────┘"
      ]
     },
     "metadata": {},
     "output_type": "display_data"
    },
    {
     "data": {},
     "metadata": {},
     "output_type": "display_data"
    },
    {
     "data": {
      "application/vnd.holoviews_exec.v0+json": "",
      "text/html": [
       "<div id='81a1d939-11e2-41d0-b83b-db43a1695ada'>\n",
       "  <div id=\"ddd4f3fe-7ccb-47b3-a08a-6d388e3c465b\" data-root-id=\"81a1d939-11e2-41d0-b83b-db43a1695ada\" style=\"display: contents;\"></div>\n",
       "</div>\n",
       "<script type=\"application/javascript\">(function(root) {\n",
       "  var docs_json = {\"3a768b92-7910-4ff3-858a-add1497c3b09\":{\"version\":\"3.7.2\",\"title\":\"Bokeh Application\",\"roots\":[{\"type\":\"object\",\"name\":\"Row\",\"id\":\"81a1d939-11e2-41d0-b83b-db43a1695ada\",\"attributes\":{\"name\":\"Row00499\",\"tags\":[\"embedded\"],\"stylesheets\":[\"\\n:host(.pn-loading):before, .pn-loading:before {\\n  background-color: #c3c3c3;\\n  mask-size: auto calc(min(50%, 400px));\\n  -webkit-mask-size: auto calc(min(50%, 400px));\\n}\",{\"type\":\"object\",\"name\":\"ImportedStyleSheet\",\"id\":\"2612c7cc-0c7f-4fc0-b8ae-2fd283578d28\",\"attributes\":{\"url\":\"https://cdn.holoviz.org/panel/1.6.2/dist/css/loading.css\"}},{\"type\":\"object\",\"name\":\"ImportedStyleSheet\",\"id\":\"a33e4f4e-7149-407a-adc3-d476e0326e93\",\"attributes\":{\"url\":\"https://cdn.holoviz.org/panel/1.6.2/dist/css/listpanel.css\"}},{\"type\":\"object\",\"name\":\"ImportedStyleSheet\",\"id\":\"4bd07312-d805-4151-8e77-0393f6ee1256\",\"attributes\":{\"url\":\"https://cdn.holoviz.org/panel/1.6.2/dist/bundled/theme/default.css\"}},{\"type\":\"object\",\"name\":\"ImportedStyleSheet\",\"id\":\"028a1d94-0e52-4805-b510-1581b8cc1742\",\"attributes\":{\"url\":\"https://cdn.holoviz.org/panel/1.6.2/dist/bundled/theme/native.css\"}}],\"min_width\":700,\"margin\":0,\"sizing_mode\":\"stretch_width\",\"align\":\"start\",\"children\":[{\"type\":\"object\",\"name\":\"Spacer\",\"id\":\"dc5ba880-f62f-4e94-89b5-e8e52cfef6a6\",\"attributes\":{\"name\":\"HSpacer00503\",\"stylesheets\":[\"\\n:host(.pn-loading):before, .pn-loading:before {\\n  background-color: #c3c3c3;\\n  mask-size: auto calc(min(50%, 400px));\\n  -webkit-mask-size: auto calc(min(50%, 400px));\\n}\",{\"id\":\"2612c7cc-0c7f-4fc0-b8ae-2fd283578d28\"},{\"id\":\"4bd07312-d805-4151-8e77-0393f6ee1256\"},{\"id\":\"028a1d94-0e52-4805-b510-1581b8cc1742\"}],\"margin\":0,\"sizing_mode\":\"stretch_width\",\"align\":\"start\"}},{\"type\":\"object\",\"name\":\"Figure\",\"id\":\"2f6696c2-7b51-48fa-9b86-174ead16c57e\",\"attributes\":{\"width\":700,\"height\":300,\"margin\":[5,10],\"sizing_mode\":\"fixed\",\"align\":\"start\",\"x_range\":{\"type\":\"object\",\"name\":\"FactorRange\",\"id\":\"70005727-800f-4712-925d-ad7bc965f179\",\"attributes\":{\"name\":\"post_str_b4\",\"tags\":[[[\"post_str_b4\",null]],[]],\"factors\":[\"33\",\"22\",\"30\",\"31\",\"16\",\"20\",\"14\",\"27\",\"17\",\"25\",\"34\"]}},\"y_range\":{\"type\":\"object\",\"name\":\"Range1d\",\"id\":\"fec70378-a313-4dd6-8987-d09f2d2d4e2c\",\"attributes\":{\"name\":\"percent\",\"tags\":[[[\"percent\",null]],{\"type\":\"map\",\"entries\":[[\"invert_yaxis\",false],[\"autorange\",false]]}],\"end\":21.333333333333332,\"reset_start\":0.0,\"reset_end\":21.333333333333332}},\"x_scale\":{\"type\":\"object\",\"name\":\"CategoricalScale\",\"id\":\"64c6ae66-807a-4a44-addc-31a31380d7b6\"},\"y_scale\":{\"type\":\"object\",\"name\":\"LinearScale\",\"id\":\"97e25707-9203-483d-8e9c-75d8569ccc44\"},\"title\":{\"type\":\"object\",\"name\":\"Title\",\"id\":\"f687d02f-29e1-47b3-8e10-a28994f7befa\",\"attributes\":{\"text_color\":\"black\",\"text_font_size\":\"12pt\"}},\"renderers\":[{\"type\":\"object\",\"name\":\"GlyphRenderer\",\"id\":\"4027c82f-6026-4b0b-a8b2-d1a97bd2d196\",\"attributes\":{\"data_source\":{\"type\":\"object\",\"name\":\"ColumnDataSource\",\"id\":\"d67e6aa3-f8d1-41b0-b2a3-34b7647683a4\",\"attributes\":{\"selected\":{\"type\":\"object\",\"name\":\"Selection\",\"id\":\"8790b9f0-bfe6-47cd-a53a-1ac2e4a6d7e8\",\"attributes\":{\"indices\":[],\"line_indices\":[]}},\"selection_policy\":{\"type\":\"object\",\"name\":\"UnionRenderers\",\"id\":\"a05fad39-bf31-41d0-8aac-f74c1aafbb91\"},\"data\":{\"type\":\"map\",\"entries\":[[\"post_str_b4\",[\"33\",\"22\",\"30\",\"31\",\"16\",\"20\",\"14\",\"27\",\"17\",\"25\",\"34\"]],[\"percent\",{\"type\":\"ndarray\",\"array\":{\"type\":\"bytes\",\"data\":\"AAAAAAAANECrqqqqqqoqQKuqqqqqqipAq6qqqqqqGkCrqqqqqqoaQKuqqqqqqhpAq6qqqqqqGkCrqqqqqqoaQKuqqqqqqhpAq6qqqqqqGkCrqqqqqqoaQA==\"},\"shape\":[11],\"dtype\":\"float64\",\"order\":\"little\"}]]}}},\"view\":{\"type\":\"object\",\"name\":\"CDSView\",\"id\":\"8ec24314-aef1-4b53-93fd-9b73d606fe87\",\"attributes\":{\"filter\":{\"type\":\"object\",\"name\":\"AllIndices\",\"id\":\"6bb0e26d-139f-4fc1-abb3-70dc8e0def57\"}}},\"glyph\":{\"type\":\"object\",\"name\":\"VBar\",\"id\":\"edcc60b8-0b0b-4c0c-9bab-0799d2177d69\",\"attributes\":{\"tags\":[\"apply_ranges\"],\"x\":{\"type\":\"field\",\"field\":\"post_str_b4\"},\"width\":{\"type\":\"value\",\"value\":0.8},\"top\":{\"type\":\"field\",\"field\":\"percent\"},\"fill_color\":{\"type\":\"value\",\"value\":\"#30a2da\"},\"hatch_color\":{\"type\":\"value\",\"value\":\"#30a2da\"}}},\"selection_glyph\":{\"type\":\"object\",\"name\":\"VBar\",\"id\":\"0bb876a8-aefd-466c-a35a-a4642137047f\",\"attributes\":{\"tags\":[\"apply_ranges\"],\"x\":{\"type\":\"field\",\"field\":\"post_str_b4\"},\"width\":{\"type\":\"value\",\"value\":0.8},\"bottom\":{\"type\":\"value\",\"value\":0},\"top\":{\"type\":\"field\",\"field\":\"percent\"},\"line_color\":{\"type\":\"value\",\"value\":\"black\"},\"line_alpha\":{\"type\":\"value\",\"value\":1.0},\"line_width\":{\"type\":\"value\",\"value\":1},\"line_join\":{\"type\":\"value\",\"value\":\"bevel\"},\"line_cap\":{\"type\":\"value\",\"value\":\"butt\"},\"line_dash\":{\"type\":\"value\",\"value\":[]},\"line_dash_offset\":{\"type\":\"value\",\"value\":0},\"fill_color\":{\"type\":\"value\",\"value\":\"#30a2da\"},\"fill_alpha\":{\"type\":\"value\",\"value\":1.0},\"hatch_color\":{\"type\":\"value\",\"value\":\"#30a2da\"},\"hatch_alpha\":{\"type\":\"value\",\"value\":1.0},\"hatch_scale\":{\"type\":\"value\",\"value\":12.0},\"hatch_pattern\":{\"type\":\"value\",\"value\":null},\"hatch_weight\":{\"type\":\"value\",\"value\":1.0}}},\"nonselection_glyph\":{\"type\":\"object\",\"name\":\"VBar\",\"id\":\"3216a1ea-144e-4540-8fb9-09ed795b3738\",\"attributes\":{\"tags\":[\"apply_ranges\"],\"x\":{\"type\":\"field\",\"field\":\"post_str_b4\"},\"width\":{\"type\":\"value\",\"value\":0.8},\"top\":{\"type\":\"field\",\"field\":\"percent\"},\"line_alpha\":{\"type\":\"value\",\"value\":0.1},\"fill_color\":{\"type\":\"value\",\"value\":\"#30a2da\"},\"fill_alpha\":{\"type\":\"value\",\"value\":0.1},\"hatch_color\":{\"type\":\"value\",\"value\":\"#30a2da\"},\"hatch_alpha\":{\"type\":\"value\",\"value\":0.1}}},\"muted_glyph\":{\"type\":\"object\",\"name\":\"VBar\",\"id\":\"2d7ef467-1aea-499c-8cfb-85152fd6bbab\",\"attributes\":{\"tags\":[\"apply_ranges\"],\"x\":{\"type\":\"field\",\"field\":\"post_str_b4\"},\"width\":{\"type\":\"value\",\"value\":0.8},\"top\":{\"type\":\"field\",\"field\":\"percent\"},\"line_alpha\":{\"type\":\"value\",\"value\":0.2},\"fill_color\":{\"type\":\"value\",\"value\":\"#30a2da\"},\"fill_alpha\":{\"type\":\"value\",\"value\":0.2},\"hatch_color\":{\"type\":\"value\",\"value\":\"#30a2da\"},\"hatch_alpha\":{\"type\":\"value\",\"value\":0.2}}}}},{\"type\":\"object\",\"name\":\"Span\",\"id\":\"9b984ba6-d96d-4cd5-800d-98a95e0074f5\",\"attributes\":{\"level\":\"glyph\",\"location\":9.090909090909093,\"line_color\":\"red\",\"line_width\":3}},{\"type\":\"object\",\"name\":\"Span\",\"id\":\"ff696ea8-e6af-4620-8eab-2db11afe9c02\",\"attributes\":{\"level\":\"glyph\",\"location\":13.63636363636364,\"line_color\":\"blue\",\"line_width\":3}},{\"type\":\"object\",\"name\":\"Span\",\"id\":\"5d535160-7c7d-4fb3-8feb-432fdbb2ce5e\",\"attributes\":{\"level\":\"glyph\",\"location\":4.545454545454547,\"line_color\":\"blue\",\"line_width\":3}}],\"toolbar\":{\"type\":\"object\",\"name\":\"Toolbar\",\"id\":\"ddbfb000-b253-4814-aeaf-9c018b01a50b\",\"attributes\":{\"tools\":[{\"type\":\"object\",\"name\":\"WheelZoomTool\",\"id\":\"e4493cd3-181c-4b8a-9248-cd525dd16ab9\",\"attributes\":{\"tags\":[\"hv_created\"],\"renderers\":\"auto\",\"zoom_together\":\"none\"}},{\"type\":\"object\",\"name\":\"HoverTool\",\"id\":\"e49c43a2-88dc-4a60-8a3d-5aef888795e5\",\"attributes\":{\"tags\":[\"hv_created\"],\"renderers\":[{\"id\":\"4027c82f-6026-4b0b-a8b2-d1a97bd2d196\"}],\"tooltips\":[[\"post_str_b4\",\"@{post_str_b4}\"],[\"percent\",\"@{percent}\"]]}},{\"type\":\"object\",\"name\":\"SaveTool\",\"id\":\"d4232a9f-7417-48e6-afd1-f82a15d44573\"},{\"type\":\"object\",\"name\":\"PanTool\",\"id\":\"20f3d10d-fdf0-41ab-b623-3004e99c4bc9\"},{\"type\":\"object\",\"name\":\"BoxZoomTool\",\"id\":\"6f10d1dc-c1c8-4dd0-a6fd-d4763fb53e82\",\"attributes\":{\"dimensions\":\"both\",\"overlay\":{\"type\":\"object\",\"name\":\"BoxAnnotation\",\"id\":\"023ae918-2926-41c9-a92e-9de654540805\",\"attributes\":{\"syncable\":false,\"line_color\":\"black\",\"line_alpha\":1.0,\"line_width\":2,\"line_dash\":[4,4],\"fill_color\":\"lightgrey\",\"fill_alpha\":0.5,\"level\":\"overlay\",\"visible\":false,\"left\":{\"type\":\"number\",\"value\":\"nan\"},\"right\":{\"type\":\"number\",\"value\":\"nan\"},\"top\":{\"type\":\"number\",\"value\":\"nan\"},\"bottom\":{\"type\":\"number\",\"value\":\"nan\"},\"left_units\":\"canvas\",\"right_units\":\"canvas\",\"top_units\":\"canvas\",\"bottom_units\":\"canvas\",\"handles\":{\"type\":\"object\",\"name\":\"BoxInteractionHandles\",\"id\":\"90d1e7e7-dc64-4e69-8823-87e10c7bcc5f\",\"attributes\":{\"all\":{\"type\":\"object\",\"name\":\"AreaVisuals\",\"id\":\"69702879-c4e0-4f47-8b92-77d206058ccd\",\"attributes\":{\"fill_color\":\"white\",\"hover_fill_color\":\"lightgray\"}}}}}}}},{\"type\":\"object\",\"name\":\"ResetTool\",\"id\":\"6cc2694b-bc4f-4515-8243-ff78709544ae\"}],\"active_drag\":{\"id\":\"20f3d10d-fdf0-41ab-b623-3004e99c4bc9\"}}},\"left\":[{\"type\":\"object\",\"name\":\"LinearAxis\",\"id\":\"b288997a-02ce-4904-b444-be57da39ddbe\",\"attributes\":{\"ticker\":{\"type\":\"object\",\"name\":\"BasicTicker\",\"id\":\"7a23cdd1-86c0-4deb-a4f8-2ded6484d8ae\",\"attributes\":{\"mantissas\":[1,2,5]}},\"formatter\":{\"type\":\"object\",\"name\":\"BasicTickFormatter\",\"id\":\"27d674d4-d0b1-459b-b1da-76574ff45331\"},\"axis_label\":\"percent\",\"major_label_policy\":{\"type\":\"object\",\"name\":\"AllLabels\",\"id\":\"2cffb19f-789b-451b-a2f3-634d72e16b81\"}}}],\"below\":[{\"type\":\"object\",\"name\":\"CategoricalAxis\",\"id\":\"84ce6552-8aaa-4f1a-991f-341c0e0f8249\",\"attributes\":{\"ticker\":{\"type\":\"object\",\"name\":\"CategoricalTicker\",\"id\":\"3e021c2f-e04c-4675-81ff-164efb46b037\"},\"formatter\":{\"type\":\"object\",\"name\":\"CategoricalTickFormatter\",\"id\":\"e97954c1-e151-4628-94e1-2fcb07ce0957\"},\"axis_label\":\"post_str_b4\",\"major_label_policy\":{\"type\":\"object\",\"name\":\"AllLabels\",\"id\":\"0a186ef8-890c-4798-8d0c-736407672ec1\"}}}],\"center\":[{\"type\":\"object\",\"name\":\"Grid\",\"id\":\"8cb615ab-1b39-4f17-8de5-b7a06ec2a17a\",\"attributes\":{\"axis\":{\"id\":\"84ce6552-8aaa-4f1a-991f-341c0e0f8249\"},\"grid_line_color\":null}},{\"type\":\"object\",\"name\":\"Grid\",\"id\":\"6fef0eaf-5070-47e1-94cc-50a6aa4c4e90\",\"attributes\":{\"dimension\":1,\"axis\":{\"id\":\"b288997a-02ce-4904-b444-be57da39ddbe\"},\"grid_line_color\":null}}],\"min_border_top\":10,\"min_border_bottom\":10,\"min_border_left\":10,\"min_border_right\":10,\"output_backend\":\"webgl\"}},{\"type\":\"object\",\"name\":\"Spacer\",\"id\":\"9a3d6220-1a7e-4289-9950-d4e89f37042f\",\"attributes\":{\"name\":\"HSpacer00504\",\"stylesheets\":[\"\\n:host(.pn-loading):before, .pn-loading:before {\\n  background-color: #c3c3c3;\\n  mask-size: auto calc(min(50%, 400px));\\n  -webkit-mask-size: auto calc(min(50%, 400px));\\n}\",{\"id\":\"2612c7cc-0c7f-4fc0-b8ae-2fd283578d28\"},{\"id\":\"4bd07312-d805-4151-8e77-0393f6ee1256\"},{\"id\":\"028a1d94-0e52-4805-b510-1581b8cc1742\"}],\"margin\":0,\"sizing_mode\":\"stretch_width\",\"align\":\"start\"}}]}}],\"defs\":[{\"type\":\"model\",\"name\":\"ReactiveHTML1\"},{\"type\":\"model\",\"name\":\"FlexBox1\",\"properties\":[{\"name\":\"align_content\",\"kind\":\"Any\",\"default\":\"flex-start\"},{\"name\":\"align_items\",\"kind\":\"Any\",\"default\":\"flex-start\"},{\"name\":\"flex_direction\",\"kind\":\"Any\",\"default\":\"row\"},{\"name\":\"flex_wrap\",\"kind\":\"Any\",\"default\":\"wrap\"},{\"name\":\"gap\",\"kind\":\"Any\",\"default\":\"\"},{\"name\":\"justify_content\",\"kind\":\"Any\",\"default\":\"flex-start\"}]},{\"type\":\"model\",\"name\":\"FloatPanel1\",\"properties\":[{\"name\":\"config\",\"kind\":\"Any\",\"default\":{\"type\":\"map\"}},{\"name\":\"contained\",\"kind\":\"Any\",\"default\":true},{\"name\":\"position\",\"kind\":\"Any\",\"default\":\"right-top\"},{\"name\":\"offsetx\",\"kind\":\"Any\",\"default\":null},{\"name\":\"offsety\",\"kind\":\"Any\",\"default\":null},{\"name\":\"theme\",\"kind\":\"Any\",\"default\":\"primary\"},{\"name\":\"status\",\"kind\":\"Any\",\"default\":\"normalized\"}]},{\"type\":\"model\",\"name\":\"GridStack1\",\"properties\":[{\"name\":\"ncols\",\"kind\":\"Any\",\"default\":null},{\"name\":\"nrows\",\"kind\":\"Any\",\"default\":null},{\"name\":\"allow_resize\",\"kind\":\"Any\",\"default\":true},{\"name\":\"allow_drag\",\"kind\":\"Any\",\"default\":true},{\"name\":\"state\",\"kind\":\"Any\",\"default\":[]}]},{\"type\":\"model\",\"name\":\"drag1\",\"properties\":[{\"name\":\"slider_width\",\"kind\":\"Any\",\"default\":5},{\"name\":\"slider_color\",\"kind\":\"Any\",\"default\":\"black\"},{\"name\":\"value\",\"kind\":\"Any\",\"default\":50}]},{\"type\":\"model\",\"name\":\"click1\",\"properties\":[{\"name\":\"terminal_output\",\"kind\":\"Any\",\"default\":\"\"},{\"name\":\"debug_name\",\"kind\":\"Any\",\"default\":\"\"},{\"name\":\"clears\",\"kind\":\"Any\",\"default\":0}]},{\"type\":\"model\",\"name\":\"FastWrapper1\",\"properties\":[{\"name\":\"object\",\"kind\":\"Any\",\"default\":null},{\"name\":\"style\",\"kind\":\"Any\",\"default\":null}]},{\"type\":\"model\",\"name\":\"NotificationArea1\",\"properties\":[{\"name\":\"js_events\",\"kind\":\"Any\",\"default\":{\"type\":\"map\"}},{\"name\":\"max_notifications\",\"kind\":\"Any\",\"default\":5},{\"name\":\"notifications\",\"kind\":\"Any\",\"default\":[]},{\"name\":\"position\",\"kind\":\"Any\",\"default\":\"bottom-right\"},{\"name\":\"_clear\",\"kind\":\"Any\",\"default\":0},{\"name\":\"types\",\"kind\":\"Any\",\"default\":[{\"type\":\"map\",\"entries\":[[\"type\",\"warning\"],[\"background\",\"#ffc107\"],[\"icon\",{\"type\":\"map\",\"entries\":[[\"className\",\"fas fa-exclamation-triangle\"],[\"tagName\",\"i\"],[\"color\",\"white\"]]}]]},{\"type\":\"map\",\"entries\":[[\"type\",\"info\"],[\"background\",\"#007bff\"],[\"icon\",{\"type\":\"map\",\"entries\":[[\"className\",\"fas fa-info-circle\"],[\"tagName\",\"i\"],[\"color\",\"white\"]]}]]}]}]},{\"type\":\"model\",\"name\":\"Notification\",\"properties\":[{\"name\":\"background\",\"kind\":\"Any\",\"default\":null},{\"name\":\"duration\",\"kind\":\"Any\",\"default\":3000},{\"name\":\"icon\",\"kind\":\"Any\",\"default\":null},{\"name\":\"message\",\"kind\":\"Any\",\"default\":\"\"},{\"name\":\"notification_type\",\"kind\":\"Any\",\"default\":null},{\"name\":\"_rendered\",\"kind\":\"Any\",\"default\":false},{\"name\":\"_destroyed\",\"kind\":\"Any\",\"default\":false}]},{\"type\":\"model\",\"name\":\"TemplateActions1\",\"properties\":[{\"name\":\"open_modal\",\"kind\":\"Any\",\"default\":0},{\"name\":\"close_modal\",\"kind\":\"Any\",\"default\":0}]},{\"type\":\"model\",\"name\":\"BootstrapTemplateActions1\",\"properties\":[{\"name\":\"open_modal\",\"kind\":\"Any\",\"default\":0},{\"name\":\"close_modal\",\"kind\":\"Any\",\"default\":0}]},{\"type\":\"model\",\"name\":\"TemplateEditor1\",\"properties\":[{\"name\":\"layout\",\"kind\":\"Any\",\"default\":[]}]},{\"type\":\"model\",\"name\":\"MaterialTemplateActions1\",\"properties\":[{\"name\":\"open_modal\",\"kind\":\"Any\",\"default\":0},{\"name\":\"close_modal\",\"kind\":\"Any\",\"default\":0}]},{\"type\":\"model\",\"name\":\"ReactiveESM1\",\"properties\":[{\"name\":\"esm_constants\",\"kind\":\"Any\",\"default\":{\"type\":\"map\"}}]},{\"type\":\"model\",\"name\":\"JSComponent1\",\"properties\":[{\"name\":\"esm_constants\",\"kind\":\"Any\",\"default\":{\"type\":\"map\"}}]},{\"type\":\"model\",\"name\":\"ReactComponent1\",\"properties\":[{\"name\":\"esm_constants\",\"kind\":\"Any\",\"default\":{\"type\":\"map\"}}]},{\"type\":\"model\",\"name\":\"AnyWidgetComponent1\",\"properties\":[{\"name\":\"esm_constants\",\"kind\":\"Any\",\"default\":{\"type\":\"map\"}}]},{\"type\":\"model\",\"name\":\"request_value1\",\"properties\":[{\"name\":\"fill\",\"kind\":\"Any\",\"default\":\"none\"},{\"name\":\"_synced\",\"kind\":\"Any\",\"default\":null},{\"name\":\"_request_sync\",\"kind\":\"Any\",\"default\":0}]}]}};\n",
       "  var render_items = [{\"docid\":\"3a768b92-7910-4ff3-858a-add1497c3b09\",\"roots\":{\"81a1d939-11e2-41d0-b83b-db43a1695ada\":\"ddd4f3fe-7ccb-47b3-a08a-6d388e3c465b\"},\"root_ids\":[\"81a1d939-11e2-41d0-b83b-db43a1695ada\"]}];\n",
       "  var docs = Object.values(docs_json)\n",
       "  if (!docs) {\n",
       "    return\n",
       "  }\n",
       "  const py_version = docs[0].version.replace('rc', '-rc.').replace('.dev', '-dev.')\n",
       "  async function embed_document(root) {\n",
       "    var Bokeh = get_bokeh(root)\n",
       "    await Bokeh.embed.embed_items_notebook(docs_json, render_items);\n",
       "    for (const render_item of render_items) {\n",
       "      for (const root_id of render_item.root_ids) {\n",
       "\tconst id_el = document.getElementById(root_id)\n",
       "\tif (id_el.children.length && id_el.children[0].hasAttribute('data-root-id')) {\n",
       "\t  const root_el = id_el.children[0]\n",
       "\t  root_el.id = root_el.id + '-rendered'\n",
       "\t  for (const child of root_el.children) {\n",
       "            // Ensure JupyterLab does not capture keyboard shortcuts\n",
       "            // see: https://jupyterlab.readthedocs.io/en/4.1.x/extension/notebook.html#keyboard-interaction-model\n",
       "\t    child.setAttribute('data-lm-suppress-shortcuts', 'true')\n",
       "\t  }\n",
       "\t}\n",
       "      }\n",
       "    }\n",
       "  }\n",
       "  function get_bokeh(root) {\n",
       "    if (root.Bokeh === undefined) {\n",
       "      return null\n",
       "    } else if (root.Bokeh.version !== py_version) {\n",
       "      if (root.Bokeh.versions === undefined || !root.Bokeh.versions.has(py_version)) {\n",
       "\treturn null\n",
       "      }\n",
       "      return root.Bokeh.versions.get(py_version);\n",
       "    } else if (root.Bokeh.version === py_version) {\n",
       "      return root.Bokeh\n",
       "    }\n",
       "    return null\n",
       "  }\n",
       "  function is_loaded(root) {\n",
       "    var Bokeh = get_bokeh(root)\n",
       "    return (Bokeh != null && Bokeh.Panel !== undefined)\n",
       "  }\n",
       "  if (is_loaded(root)) {\n",
       "    embed_document(root);\n",
       "  } else {\n",
       "    var attempts = 0;\n",
       "    var timer = setInterval(function(root) {\n",
       "      if (is_loaded(root)) {\n",
       "        clearInterval(timer);\n",
       "        embed_document(root);\n",
       "      } else if (document.readyState == \"complete\") {\n",
       "        attempts++;\n",
       "        if (attempts > 200) {\n",
       "          clearInterval(timer);\n",
       "\t  var Bokeh = get_bokeh(root)\n",
       "\t  if (Bokeh == null || Bokeh.Panel == null) {\n",
       "            console.warn(\"Panel: ERROR: Unable to run Panel code because Bokeh or Panel library is missing\");\n",
       "\t  } else {\n",
       "\t    console.warn(\"Panel: WARNING: Attempting to render but not all required libraries could be resolved.\")\n",
       "\t    embed_document(root)\n",
       "\t  }\n",
       "        }\n",
       "      }\n",
       "    }, 25, root)\n",
       "  }\n",
       "})(window);</script>"
      ],
      "text/plain": [
       ":Overlay\n",
       "   .Bars.I    :Bars   [post_str_b4]   (percent)\n",
       "   .HLine.I   :HLine   [x,y]\n",
       "   .HLine.II  :HLine   [x,y]\n",
       "   .HLine.III :HLine   [x,y]"
      ]
     },
     "metadata": {
      "application/vnd.holoviews_exec.v0+json": {
       "id": "81a1d939-11e2-41d0-b83b-db43a1695ada"
      }
     },
     "output_type": "display_data"
    },
    {
     "name": "stdout",
     "output_type": "stream",
     "text": [
      "df_10_last FOR str_b4 = 09\n",
      "Last 3 results last_results=['20', '30', '27']\n"
     ]
    },
    {
     "data": {
      "text/html": [
       "<div><style>\n",
       ".dataframe > thead > tr,\n",
       ".dataframe > tbody > tr {\n",
       "  text-align: right;\n",
       "  white-space: pre-wrap;\n",
       "}\n",
       "</style>\n",
       "<small>shape: (10, 30)</small><table border=\"1\" class=\"dataframe\"><thead><tr><th>fecha</th><th>sorteo</th><th>bolillas</th><th>yapa</th><th>adicionales</th><th>sorteo_extra</th><th>id</th><th>combo</th><th>b1</th><th>b2</th><th>b3</th><th>b4</th><th>b5</th><th>b6</th><th>str_b1</th><th>str_b2</th><th>str_b3</th><th>str_b4</th><th>str_b5</th><th>str_b6</th><th>post_str_b1</th><th>post_str_b2</th><th>post_str_b3</th><th>post_str_b4</th><th>post_str_b5</th><th>post_str_blast</th><th>is_rare_combination</th><th>reason</th><th>jumps_map</th><th>unijump</th></tr><tr><td>str</td><td>str</td><td>str</td><td>str</td><td>str</td><td>str</td><td>str</td><td>array[u8, 6]</td><td>u8</td><td>u8</td><td>u8</td><td>u8</td><td>u8</td><td>u8</td><td>str</td><td>str</td><td>str</td><td>str</td><td>str</td><td>str</td><td>str</td><td>str</td><td>str</td><td>str</td><td>str</td><td>str</td><td>bool</td><td>u8</td><td>str</td><td>i64</td></tr></thead><tbody><tr><td>&quot;06/10/2024&quot;</td><td>&quot;1131&quot;</td><td>&quot;14 09 02 25 08 06&quot;</td><td>&quot;44&quot;</td><td>&quot;05 19 15&quot;</td><td>&quot;Promoción Sí o Sí&quot;</td><td>&quot;020608091425&quot;</td><td>[2, 6, … 25]</td><td>2</td><td>6</td><td>8</td><td>9</td><td>14</td><td>25</td><td>&quot;02&quot;</td><td>&quot;06&quot;</td><td>&quot;08&quot;</td><td>&quot;09&quot;</td><td>&quot;14&quot;</td><td>&quot;25&quot;</td><td>&quot;15&quot;</td><td>&quot;20&quot;</td><td>&quot;23&quot;</td><td>&quot;27&quot;</td><td>&quot;37&quot;</td><td>&quot;48&quot;</td><td>true</td><td>16</td><td>&quot;04_02_01_05_11&quot;</td><td>-7</td></tr><tr><td>&quot;07/05/2023&quot;</td><td>&quot;0983&quot;</td><td>&quot;05 22 04 01 09 23&quot;</td><td>&quot;34&quot;</td><td>&quot;35 44&quot;</td><td>&quot;Promoción Sí o Sí&quot;</td><td>&quot;010405092223&quot;</td><td>[1, 4, … 23]</td><td>1</td><td>4</td><td>5</td><td>9</td><td>22</td><td>23</td><td>&quot;01&quot;</td><td>&quot;04&quot;</td><td>&quot;05&quot;</td><td>&quot;09&quot;</td><td>&quot;22&quot;</td><td>&quot;23&quot;</td><td>&quot;09&quot;</td><td>&quot;15&quot;</td><td>&quot;16&quot;</td><td>&quot;20&quot;</td><td>&quot;22&quot;</td><td>&quot;34&quot;</td><td>false</td><td>0</td><td>&quot;03_01_04_13_01&quot;</td><td>-28</td></tr><tr><td>&quot;26/10/2022&quot;</td><td>&quot;0928&quot;</td><td>&quot;04 09 07 12 02 27&quot;</td><td>&quot;45&quot;</td><td>&quot;41 03&quot;</td><td>&quot;Promoción Sí o Sí&quot;</td><td>&quot;020407091227&quot;</td><td>[2, 4, … 27]</td><td>2</td><td>4</td><td>7</td><td>9</td><td>12</td><td>27</td><td>&quot;02&quot;</td><td>&quot;04&quot;</td><td>&quot;07&quot;</td><td>&quot;09&quot;</td><td>&quot;12&quot;</td><td>&quot;27&quot;</td><td>&quot;10&quot;</td><td>&quot;14&quot;</td><td>&quot;22&quot;</td><td>&quot;30&quot;</td><td>&quot;35&quot;</td><td>&quot;44&quot;</td><td>true</td><td>16</td><td>&quot;02_03_02_03_15&quot;</td><td>5</td></tr><tr><td>&quot;27/04/2022&quot;</td><td>&quot;0876&quot;</td><td>&quot;09 21 42 01 05 03&quot;</td><td>&quot;19&quot;</td><td>&quot;18 22&quot;</td><td>&quot;Promoción Sí o Sí&quot;</td><td>&quot;010305092142&quot;</td><td>[1, 3, … 42]</td><td>1</td><td>3</td><td>5</td><td>9</td><td>21</td><td>42</td><td>&quot;01&quot;</td><td>&quot;03&quot;</td><td>&quot;05&quot;</td><td>&quot;09&quot;</td><td>&quot;21&quot;</td><td>&quot;42&quot;</td><td>&quot;16&quot;</td><td>&quot;24&quot;</td><td>&quot;26&quot;</td><td>&quot;33&quot;</td><td>&quot;39&quot;</td><td>&quot;43&quot;</td><td>true</td><td>8</td><td>&quot;02_02_04_12_21&quot;</td><td>-9</td></tr><tr><td>&quot;27/10/2021&quot;</td><td>&quot;0824&quot;</td><td>&quot;01 38 09 06 08 42&quot;</td><td>&quot;21&quot;</td><td>&quot;&quot;</td><td>&quot;&quot;</td><td>&quot;010608093842&quot;</td><td>[1, 6, … 42]</td><td>1</td><td>6</td><td>8</td><td>9</td><td>38</td><td>42</td><td>&quot;01&quot;</td><td>&quot;06&quot;</td><td>&quot;08&quot;</td><td>&quot;09&quot;</td><td>&quot;38&quot;</td><td>&quot;42&quot;</td><td>&quot;28&quot;</td><td>&quot;29&quot;</td><td>&quot;31&quot;</td><td>&quot;33&quot;</td><td>&quot;35&quot;</td><td>&quot;39&quot;</td><td>false</td><td>0</td><td>&quot;05_02_01_29_04&quot;</td><td>-109</td></tr><tr><td>&quot;14/07/2021&quot;</td><td>&quot;0794&quot;</td><td>&quot;11 42 09 01 08 03&quot;</td><td>&quot;19&quot;</td><td>&quot;&quot;</td><td>&quot;&quot;</td><td>&quot;010308091142&quot;</td><td>[1, 3, … 42]</td><td>1</td><td>3</td><td>8</td><td>9</td><td>11</td><td>42</td><td>&quot;01&quot;</td><td>&quot;03&quot;</td><td>&quot;08&quot;</td><td>&quot;09&quot;</td><td>&quot;11&quot;</td><td>&quot;42&quot;</td><td>&quot;02&quot;</td><td>&quot;04&quot;</td><td>&quot;16&quot;</td><td>&quot;34&quot;</td><td>&quot;36&quot;</td><td>&quot;39&quot;</td><td>false</td><td>0</td><td>&quot;02_05_01_02_31&quot;</td><td>11</td></tr><tr><td>&quot;22/09/2019&quot;</td><td>&quot;0638&quot;</td><td>&quot;03 09 19 08 17 02&quot;</td><td>&quot;27&quot;</td><td>&quot;&quot;</td><td>&quot;&quot;</td><td>&quot;020308091719&quot;</td><td>[2, 3, … 19]</td><td>2</td><td>3</td><td>8</td><td>9</td><td>17</td><td>19</td><td>&quot;02&quot;</td><td>&quot;03&quot;</td><td>&quot;08&quot;</td><td>&quot;09&quot;</td><td>&quot;17&quot;</td><td>&quot;19&quot;</td><td>&quot;04&quot;</td><td>&quot;16&quot;</td><td>&quot;28&quot;</td><td>&quot;30&quot;</td><td>&quot;34&quot;</td><td>&quot;40&quot;</td><td>true</td><td>1</td><td>&quot;01_05_01_08_02&quot;</td><td>-43</td></tr><tr><td>&quot;30/03/2016&quot;</td><td>&quot;0275&quot;</td><td>&quot;01 07 08 09 26 34&quot;</td><td>&quot;37&quot;</td><td>&quot;&quot;</td><td>&quot;&quot;</td><td>&quot;010708092634&quot;</td><td>[1, 7, … 34]</td><td>1</td><td>7</td><td>8</td><td>9</td><td>26</td><td>34</td><td>&quot;01&quot;</td><td>&quot;07&quot;</td><td>&quot;08&quot;</td><td>&quot;09&quot;</td><td>&quot;26&quot;</td><td>&quot;34&quot;</td><td>&quot;04&quot;</td><td>&quot;10&quot;</td><td>&quot;14&quot;</td><td>&quot;25&quot;</td><td>&quot;30&quot;</td><td>&quot;40&quot;</td><td>true</td><td>8</td><td>&quot;06_01_01_17_08&quot;</td><td>-52</td></tr><tr><td>&quot;14/10/2009&quot;</td><td>&quot;1067&quot;</td><td>&quot;05 07 08 09 21 24&quot;</td><td>&quot;26&quot;</td><td>&quot;28 31 36 43&quot;</td><td>&quot;Promoción Sí o Sí&quot;</td><td>&quot;050708092124&quot;</td><td>[5, 7, … 24]</td><td>5</td><td>7</td><td>8</td><td>9</td><td>21</td><td>24</td><td>&quot;05&quot;</td><td>&quot;07&quot;</td><td>&quot;08&quot;</td><td>&quot;09&quot;</td><td>&quot;21&quot;</td><td>&quot;24&quot;</td><td>&quot;05&quot;</td><td>&quot;13&quot;</td><td>&quot;14&quot;</td><td>&quot;22&quot;</td><td>&quot;40&quot;</td><td>&quot;43&quot;</td><td>true</td><td>24</td><td>&quot;02_01_01_12_03&quot;</td><td>-41</td></tr><tr><td>&quot;03/06/2007&quot;</td><td>&quot;0819&quot;</td><td>&quot;09 17 01 08 37 03&quot;</td><td>&quot;41&quot;</td><td>&quot;&quot;</td><td>&quot;&quot;</td><td>&quot;010308091737&quot;</td><td>[1, 3, … 37]</td><td>1</td><td>3</td><td>8</td><td>9</td><td>17</td><td>37</td><td>&quot;01&quot;</td><td>&quot;03&quot;</td><td>&quot;08&quot;</td><td>&quot;09&quot;</td><td>&quot;17&quot;</td><td>&quot;37&quot;</td><td>&quot;07&quot;</td><td>&quot;13&quot;</td><td>&quot;15&quot;</td><td>&quot;33&quot;</td><td>&quot;38&quot;</td><td>&quot;41&quot;</td><td>true</td><td>16</td><td>&quot;02_05_01_08_20&quot;</td><td>-24</td></tr></tbody></table></div>"
      ],
      "text/plain": [
       "shape: (10, 30)\n",
       "┌────────────┬────────┬───────────────┬──────┬───┬───────────────┬────────┬──────────────┬─────────┐\n",
       "│ fecha      ┆ sorteo ┆ bolillas      ┆ yapa ┆ … ┆ is_rare_combi ┆ reason ┆ jumps_map    ┆ unijump │\n",
       "│ ---        ┆ ---    ┆ ---           ┆ ---  ┆   ┆ nation        ┆ ---    ┆ ---          ┆ ---     │\n",
       "│ str        ┆ str    ┆ str           ┆ str  ┆   ┆ ---           ┆ u8     ┆ str          ┆ i64     │\n",
       "│            ┆        ┆               ┆      ┆   ┆ bool          ┆        ┆              ┆         │\n",
       "╞════════════╪════════╪═══════════════╪══════╪═══╪═══════════════╪════════╪══════════════╪═════════╡\n",
       "│ 06/10/2024 ┆ 1131   ┆ 14 09 02 25   ┆ 44   ┆ … ┆ true          ┆ 16     ┆ 04_02_01_05_ ┆ -7      │\n",
       "│            ┆        ┆ 08 06         ┆      ┆   ┆               ┆        ┆ 11           ┆         │\n",
       "│ 07/05/2023 ┆ 0983   ┆ 05 22 04 01   ┆ 34   ┆ … ┆ false         ┆ 0      ┆ 03_01_04_13_ ┆ -28     │\n",
       "│            ┆        ┆ 09 23         ┆      ┆   ┆               ┆        ┆ 01           ┆         │\n",
       "│ 26/10/2022 ┆ 0928   ┆ 04 09 07 12   ┆ 45   ┆ … ┆ true          ┆ 16     ┆ 02_03_02_03_ ┆ 5       │\n",
       "│            ┆        ┆ 02 27         ┆      ┆   ┆               ┆        ┆ 15           ┆         │\n",
       "│ 27/04/2022 ┆ 0876   ┆ 09 21 42 01   ┆ 19   ┆ … ┆ true          ┆ 8      ┆ 02_02_04_12_ ┆ -9      │\n",
       "│            ┆        ┆ 05 03         ┆      ┆   ┆               ┆        ┆ 21           ┆         │\n",
       "│ 27/10/2021 ┆ 0824   ┆ 01 38 09 06   ┆ 21   ┆ … ┆ false         ┆ 0      ┆ 05_02_01_29_ ┆ -109    │\n",
       "│            ┆        ┆ 08 42         ┆      ┆   ┆               ┆        ┆ 04           ┆         │\n",
       "│ 14/07/2021 ┆ 0794   ┆ 11 42 09 01   ┆ 19   ┆ … ┆ false         ┆ 0      ┆ 02_05_01_02_ ┆ 11      │\n",
       "│            ┆        ┆ 08 03         ┆      ┆   ┆               ┆        ┆ 31           ┆         │\n",
       "│ 22/09/2019 ┆ 0638   ┆ 03 09 19 08   ┆ 27   ┆ … ┆ true          ┆ 1      ┆ 01_05_01_08_ ┆ -43     │\n",
       "│            ┆        ┆ 17 02         ┆      ┆   ┆               ┆        ┆ 02           ┆         │\n",
       "│ 30/03/2016 ┆ 0275   ┆ 01 07 08 09   ┆ 37   ┆ … ┆ true          ┆ 8      ┆ 06_01_01_17_ ┆ -52     │\n",
       "│            ┆        ┆ 26 34         ┆      ┆   ┆               ┆        ┆ 08           ┆         │\n",
       "│ 14/10/2009 ┆ 1067   ┆ 05 07 08 09   ┆ 26   ┆ … ┆ true          ┆ 24     ┆ 02_01_01_12_ ┆ -41     │\n",
       "│            ┆        ┆ 21 24         ┆      ┆   ┆               ┆        ┆ 03           ┆         │\n",
       "│ 03/06/2007 ┆ 0819   ┆ 09 17 01 08   ┆ 41   ┆ … ┆ true          ┆ 16     ┆ 02_05_01_08_ ┆ -24     │\n",
       "│            ┆        ┆ 37 03         ┆      ┆   ┆               ┆        ┆ 20           ┆         │\n",
       "└────────────┴────────┴───────────────┴──────┴───┴───────────────┴────────┴──────────────┴─────────┘"
      ]
     },
     "metadata": {},
     "output_type": "display_data"
    },
    {
     "name": "stdout",
     "output_type": "stream",
     "text": [
      "df_jumps_map FOR str_b4 = 09\n"
     ]
    },
    {
     "data": {
      "text/html": [
       "<div><style>\n",
       ".dataframe > thead > tr,\n",
       ".dataframe > tbody > tr {\n",
       "  text-align: right;\n",
       "  white-space: pre-wrap;\n",
       "}\n",
       "</style>\n",
       "<small>shape: (15, 2)</small><table border=\"1\" class=\"dataframe\"><thead><tr><th>jumps_map</th><th>count</th></tr><tr><td>str</td><td>u32</td></tr></thead><tbody><tr><td>&quot;01_05_01_08_02&quot;</td><td>1</td></tr><tr><td>&quot;01_02_01_05_20&quot;</td><td>1</td></tr><tr><td>&quot;02_01_01_12_03&quot;</td><td>1</td></tr><tr><td>&quot;02_02_04_12_21&quot;</td><td>1</td></tr><tr><td>&quot;05_02_01_29_04&quot;</td><td>1</td></tr><tr><td>&hellip;</td><td>&hellip;</td></tr><tr><td>&quot;02_05_01_08_20&quot;</td><td>1</td></tr><tr><td>&quot;06_01_01_17_08&quot;</td><td>1</td></tr><tr><td>&quot;02_03_01_05_01&quot;</td><td>1</td></tr><tr><td>&quot;04_02_01_05_11&quot;</td><td>1</td></tr><tr><td>&quot;03_01_01_11_08&quot;</td><td>1</td></tr></tbody></table></div>"
      ],
      "text/plain": [
       "shape: (15, 2)\n",
       "┌────────────────┬───────┐\n",
       "│ jumps_map      ┆ count │\n",
       "│ ---            ┆ ---   │\n",
       "│ str            ┆ u32   │\n",
       "╞════════════════╪═══════╡\n",
       "│ 01_05_01_08_02 ┆ 1     │\n",
       "│ 01_02_01_05_20 ┆ 1     │\n",
       "│ 02_01_01_12_03 ┆ 1     │\n",
       "│ 02_02_04_12_21 ┆ 1     │\n",
       "│ 05_02_01_29_04 ┆ 1     │\n",
       "│ …              ┆ …     │\n",
       "│ 02_05_01_08_20 ┆ 1     │\n",
       "│ 06_01_01_17_08 ┆ 1     │\n",
       "│ 02_03_01_05_01 ┆ 1     │\n",
       "│ 04_02_01_05_11 ┆ 1     │\n",
       "│ 03_01_01_11_08 ┆ 1     │\n",
       "└────────────────┴───────┘"
      ]
     },
     "metadata": {},
     "output_type": "display_data"
    },
    {
     "name": "stdout",
     "output_type": "stream",
     "text": [
      "df_unijump FOR str_b4 = 09\n"
     ]
    },
    {
     "data": {
      "text/html": [
       "<div><style>\n",
       ".dataframe > thead > tr,\n",
       ".dataframe > tbody > tr {\n",
       "  text-align: right;\n",
       "  white-space: pre-wrap;\n",
       "}\n",
       "</style>\n",
       "<small>shape: (15, 2)</small><table border=\"1\" class=\"dataframe\"><thead><tr><th>unijump</th><th>count</th></tr><tr><td>i64</td><td>u32</td></tr></thead><tbody><tr><td>-112</td><td>1</td></tr><tr><td>-52</td><td>1</td></tr><tr><td>-24</td><td>1</td></tr><tr><td>-1</td><td>1</td></tr><tr><td>-9</td><td>1</td></tr><tr><td>&hellip;</td><td>&hellip;</td></tr><tr><td>-17</td><td>1</td></tr><tr><td>-109</td><td>1</td></tr><tr><td>-41</td><td>1</td></tr><tr><td>11</td><td>1</td></tr><tr><td>-43</td><td>1</td></tr></tbody></table></div>"
      ],
      "text/plain": [
       "shape: (15, 2)\n",
       "┌─────────┬───────┐\n",
       "│ unijump ┆ count │\n",
       "│ ---     ┆ ---   │\n",
       "│ i64     ┆ u32   │\n",
       "╞═════════╪═══════╡\n",
       "│ -112    ┆ 1     │\n",
       "│ -52     ┆ 1     │\n",
       "│ -24     ┆ 1     │\n",
       "│ -1      ┆ 1     │\n",
       "│ -9      ┆ 1     │\n",
       "│ …       ┆ …     │\n",
       "│ -17     ┆ 1     │\n",
       "│ -109    ┆ 1     │\n",
       "│ -41     ┆ 1     │\n",
       "│ 11      ┆ 1     │\n",
       "│ -43     ┆ 1     │\n",
       "└─────────┴───────┘"
      ]
     },
     "metadata": {},
     "output_type": "display_data"
    }
   ],
   "source": [
    "possible_b4, exclude_jump_maps_b4, last_post_b4 = plot_post_col(col='str_b4', post_col='post_str_b4')"
   ]
  },
  {
   "cell_type": "code",
   "execution_count": 11,
   "metadata": {},
   "outputs": [
    {
     "name": "stdout",
     "output_type": "stream",
     "text": [
      "Setting test_value='21'\n",
      "df_viz FOR str_b5 = 21\n"
     ]
    },
    {
     "data": {
      "text/html": [
       "<div><style>\n",
       ".dataframe > thead > tr,\n",
       ".dataframe > tbody > tr {\n",
       "  text-align: right;\n",
       "  white-space: pre-wrap;\n",
       "}\n",
       "</style>\n",
       "<small>shape: (23, 3)</small><table border=\"1\" class=\"dataframe\"><thead><tr><th>post_str_b5</th><th>count</th><th>percent</th></tr><tr><td>str</td><td>u32</td><td>f64</td></tr></thead><tbody><tr><td>&quot;34&quot;</td><td>5</td><td>11.627907</td></tr><tr><td>&quot;33&quot;</td><td>5</td><td>11.627907</td></tr><tr><td>&quot;32&quot;</td><td>4</td><td>9.302326</td></tr><tr><td>&quot;39&quot;</td><td>3</td><td>6.976744</td></tr><tr><td>&quot;37&quot;</td><td>3</td><td>6.976744</td></tr><tr><td>&hellip;</td><td>&hellip;</td><td>&hellip;</td></tr><tr><td>&quot;42&quot;</td><td>1</td><td>2.325581</td></tr><tr><td>&quot;44&quot;</td><td>1</td><td>2.325581</td></tr><tr><td>&quot;26&quot;</td><td>1</td><td>2.325581</td></tr><tr><td>&quot;27&quot;</td><td>1</td><td>2.325581</td></tr><tr><td>&quot;22&quot;</td><td>1</td><td>2.325581</td></tr></tbody></table></div>"
      ],
      "text/plain": [
       "shape: (23, 3)\n",
       "┌─────────────┬───────┬───────────┐\n",
       "│ post_str_b5 ┆ count ┆ percent   │\n",
       "│ ---         ┆ ---   ┆ ---       │\n",
       "│ str         ┆ u32   ┆ f64       │\n",
       "╞═════════════╪═══════╪═══════════╡\n",
       "│ 34          ┆ 5     ┆ 11.627907 │\n",
       "│ 33          ┆ 5     ┆ 11.627907 │\n",
       "│ 32          ┆ 4     ┆ 9.302326  │\n",
       "│ 39          ┆ 3     ┆ 6.976744  │\n",
       "│ 37          ┆ 3     ┆ 6.976744  │\n",
       "│ …           ┆ …     ┆ …         │\n",
       "│ 42          ┆ 1     ┆ 2.325581  │\n",
       "│ 44          ┆ 1     ┆ 2.325581  │\n",
       "│ 26          ┆ 1     ┆ 2.325581  │\n",
       "│ 27          ┆ 1     ┆ 2.325581  │\n",
       "│ 22          ┆ 1     ┆ 2.325581  │\n",
       "└─────────────┴───────┴───────────┘"
      ]
     },
     "metadata": {},
     "output_type": "display_data"
    },
    {
     "data": {},
     "metadata": {},
     "output_type": "display_data"
    },
    {
     "data": {
      "application/vnd.holoviews_exec.v0+json": "",
      "text/html": [
       "<div id='1d023aea-9748-42aa-81f8-2e3782fd8562'>\n",
       "  <div id=\"cadcbd7b-de5d-44cc-b15d-609af57acfb9\" data-root-id=\"1d023aea-9748-42aa-81f8-2e3782fd8562\" style=\"display: contents;\"></div>\n",
       "</div>\n",
       "<script type=\"application/javascript\">(function(root) {\n",
       "  var docs_json = {\"3eeb576e-7b1c-4538-bcb5-b842cba614eb\":{\"version\":\"3.7.2\",\"title\":\"Bokeh Application\",\"roots\":[{\"type\":\"object\",\"name\":\"Row\",\"id\":\"1d023aea-9748-42aa-81f8-2e3782fd8562\",\"attributes\":{\"name\":\"Row00570\",\"tags\":[\"embedded\"],\"stylesheets\":[\"\\n:host(.pn-loading):before, .pn-loading:before {\\n  background-color: #c3c3c3;\\n  mask-size: auto calc(min(50%, 400px));\\n  -webkit-mask-size: auto calc(min(50%, 400px));\\n}\",{\"type\":\"object\",\"name\":\"ImportedStyleSheet\",\"id\":\"108df8f6-a774-4078-ae25-7b6698c8deb5\",\"attributes\":{\"url\":\"https://cdn.holoviz.org/panel/1.6.2/dist/css/loading.css\"}},{\"type\":\"object\",\"name\":\"ImportedStyleSheet\",\"id\":\"ef072a45-a6ab-4696-8873-34d2f3bdf805\",\"attributes\":{\"url\":\"https://cdn.holoviz.org/panel/1.6.2/dist/css/listpanel.css\"}},{\"type\":\"object\",\"name\":\"ImportedStyleSheet\",\"id\":\"a6fd8540-128a-46cd-aa5e-6a47047c131c\",\"attributes\":{\"url\":\"https://cdn.holoviz.org/panel/1.6.2/dist/bundled/theme/default.css\"}},{\"type\":\"object\",\"name\":\"ImportedStyleSheet\",\"id\":\"5c4ccb1b-bcb5-49ac-9c3a-06791171e3c6\",\"attributes\":{\"url\":\"https://cdn.holoviz.org/panel/1.6.2/dist/bundled/theme/native.css\"}}],\"min_width\":700,\"margin\":0,\"sizing_mode\":\"stretch_width\",\"align\":\"start\",\"children\":[{\"type\":\"object\",\"name\":\"Spacer\",\"id\":\"72520fd9-c0df-4cc2-a471-2befdec9fd99\",\"attributes\":{\"name\":\"HSpacer00574\",\"stylesheets\":[\"\\n:host(.pn-loading):before, .pn-loading:before {\\n  background-color: #c3c3c3;\\n  mask-size: auto calc(min(50%, 400px));\\n  -webkit-mask-size: auto calc(min(50%, 400px));\\n}\",{\"id\":\"108df8f6-a774-4078-ae25-7b6698c8deb5\"},{\"id\":\"a6fd8540-128a-46cd-aa5e-6a47047c131c\"},{\"id\":\"5c4ccb1b-bcb5-49ac-9c3a-06791171e3c6\"}],\"margin\":0,\"sizing_mode\":\"stretch_width\",\"align\":\"start\"}},{\"type\":\"object\",\"name\":\"Figure\",\"id\":\"e5dfa94f-d72d-475b-b693-51b261d98ae4\",\"attributes\":{\"width\":700,\"height\":300,\"margin\":[5,10],\"sizing_mode\":\"fixed\",\"align\":\"start\",\"x_range\":{\"type\":\"object\",\"name\":\"FactorRange\",\"id\":\"83db5985-9c2a-4039-aec5-d8be8f3d0169\",\"attributes\":{\"name\":\"post_str_b5\",\"tags\":[[[\"post_str_b5\",null]],[]],\"factors\":[\"34\",\"33\",\"32\",\"39\",\"37\",\"43\",\"18\",\"40\",\"31\",\"41\",\"35\",\"36\",\"29\",\"23\",\"38\",\"25\",\"30\",\"17\",\"42\",\"44\",\"26\",\"27\",\"22\"]}},\"y_range\":{\"type\":\"object\",\"name\":\"Range1d\",\"id\":\"d6ee0e9d-e82c-497e-8fe5-f94362c8867c\",\"attributes\":{\"name\":\"percent\",\"tags\":[[[\"percent\",null]],{\"type\":\"map\",\"entries\":[[\"invert_yaxis\",false],[\"autorange\",false]]}],\"end\":12.55813953488372,\"reset_start\":0.0,\"reset_end\":12.55813953488372}},\"x_scale\":{\"type\":\"object\",\"name\":\"CategoricalScale\",\"id\":\"942f445a-1b92-4d2c-902a-5baadc533e25\"},\"y_scale\":{\"type\":\"object\",\"name\":\"LinearScale\",\"id\":\"6332f48a-829e-496d-82ea-ae5c9e49fae2\"},\"title\":{\"type\":\"object\",\"name\":\"Title\",\"id\":\"c9a053b6-b579-4051-85bc-0eeda5a34dd2\",\"attributes\":{\"text_color\":\"black\",\"text_font_size\":\"12pt\"}},\"renderers\":[{\"type\":\"object\",\"name\":\"GlyphRenderer\",\"id\":\"4bc8f271-8cf9-4c4e-b767-cce51a255c85\",\"attributes\":{\"data_source\":{\"type\":\"object\",\"name\":\"ColumnDataSource\",\"id\":\"93ab57ce-7fd8-4efa-9e38-b2ada4a3e407\",\"attributes\":{\"selected\":{\"type\":\"object\",\"name\":\"Selection\",\"id\":\"189059d8-d59b-4c21-8967-0ffce06c4397\",\"attributes\":{\"indices\":[],\"line_indices\":[]}},\"selection_policy\":{\"type\":\"object\",\"name\":\"UnionRenderers\",\"id\":\"c9e8d766-cc08-4ca0-b0ef-17bf15ca8710\"},\"data\":{\"type\":\"map\",\"entries\":[[\"post_str_b5\",[\"34\",\"33\",\"32\",\"39\",\"37\",\"43\",\"18\",\"40\",\"31\",\"41\",\"35\",\"36\",\"29\",\"23\",\"38\",\"25\",\"30\",\"17\",\"42\",\"44\",\"26\",\"27\",\"22\"]],[\"percent\",{\"type\":\"ndarray\",\"array\":{\"type\":\"bytes\",\"data\":\"0Bf0BX1BJ0DQF/QFfUEnQKesKWvKmiJA+oK+oC/oG0D6gr6gL+gbQKesKWvKmhJAp6wpa8qaEkCnrClrypoSQKesKWvKmhJAp6wpa8qaEkCnrClrypoCQKesKWvKmgJAp6wpa8qaAkCnrClrypoCQKesKWvKmgJAp6wpa8qaAkCnrClrypoCQKesKWvKmgJAp6wpa8qaAkCnrClrypoCQKesKWvKmgJAp6wpa8qaAkCnrClrypoCQA==\"},\"shape\":[23],\"dtype\":\"float64\",\"order\":\"little\"}]]}}},\"view\":{\"type\":\"object\",\"name\":\"CDSView\",\"id\":\"d949738c-8f03-4760-a278-1c04cd02e1e5\",\"attributes\":{\"filter\":{\"type\":\"object\",\"name\":\"AllIndices\",\"id\":\"90a4ee01-c2b0-46e4-b1f3-d3d537c8e77d\"}}},\"glyph\":{\"type\":\"object\",\"name\":\"VBar\",\"id\":\"69a2492f-f0cc-4c2f-bd50-9b60624c02b6\",\"attributes\":{\"tags\":[\"apply_ranges\"],\"x\":{\"type\":\"field\",\"field\":\"post_str_b5\"},\"width\":{\"type\":\"value\",\"value\":0.8},\"top\":{\"type\":\"field\",\"field\":\"percent\"},\"fill_color\":{\"type\":\"value\",\"value\":\"#30a2da\"},\"hatch_color\":{\"type\":\"value\",\"value\":\"#30a2da\"}}},\"selection_glyph\":{\"type\":\"object\",\"name\":\"VBar\",\"id\":\"37a1ce2d-4588-406d-b59f-da7eb45031bb\",\"attributes\":{\"tags\":[\"apply_ranges\"],\"x\":{\"type\":\"field\",\"field\":\"post_str_b5\"},\"width\":{\"type\":\"value\",\"value\":0.8},\"bottom\":{\"type\":\"value\",\"value\":0},\"top\":{\"type\":\"field\",\"field\":\"percent\"},\"line_color\":{\"type\":\"value\",\"value\":\"black\"},\"line_alpha\":{\"type\":\"value\",\"value\":1.0},\"line_width\":{\"type\":\"value\",\"value\":1},\"line_join\":{\"type\":\"value\",\"value\":\"bevel\"},\"line_cap\":{\"type\":\"value\",\"value\":\"butt\"},\"line_dash\":{\"type\":\"value\",\"value\":[]},\"line_dash_offset\":{\"type\":\"value\",\"value\":0},\"fill_color\":{\"type\":\"value\",\"value\":\"#30a2da\"},\"fill_alpha\":{\"type\":\"value\",\"value\":1.0},\"hatch_color\":{\"type\":\"value\",\"value\":\"#30a2da\"},\"hatch_alpha\":{\"type\":\"value\",\"value\":1.0},\"hatch_scale\":{\"type\":\"value\",\"value\":12.0},\"hatch_pattern\":{\"type\":\"value\",\"value\":null},\"hatch_weight\":{\"type\":\"value\",\"value\":1.0}}},\"nonselection_glyph\":{\"type\":\"object\",\"name\":\"VBar\",\"id\":\"eddf03b2-be6f-4644-94d5-03c31cb3198d\",\"attributes\":{\"tags\":[\"apply_ranges\"],\"x\":{\"type\":\"field\",\"field\":\"post_str_b5\"},\"width\":{\"type\":\"value\",\"value\":0.8},\"top\":{\"type\":\"field\",\"field\":\"percent\"},\"line_alpha\":{\"type\":\"value\",\"value\":0.1},\"fill_color\":{\"type\":\"value\",\"value\":\"#30a2da\"},\"fill_alpha\":{\"type\":\"value\",\"value\":0.1},\"hatch_color\":{\"type\":\"value\",\"value\":\"#30a2da\"},\"hatch_alpha\":{\"type\":\"value\",\"value\":0.1}}},\"muted_glyph\":{\"type\":\"object\",\"name\":\"VBar\",\"id\":\"ef5e1050-7c5d-42af-b7e0-ff556f76389d\",\"attributes\":{\"tags\":[\"apply_ranges\"],\"x\":{\"type\":\"field\",\"field\":\"post_str_b5\"},\"width\":{\"type\":\"value\",\"value\":0.8},\"top\":{\"type\":\"field\",\"field\":\"percent\"},\"line_alpha\":{\"type\":\"value\",\"value\":0.2},\"fill_color\":{\"type\":\"value\",\"value\":\"#30a2da\"},\"fill_alpha\":{\"type\":\"value\",\"value\":0.2},\"hatch_color\":{\"type\":\"value\",\"value\":\"#30a2da\"},\"hatch_alpha\":{\"type\":\"value\",\"value\":0.2}}}}},{\"type\":\"object\",\"name\":\"Span\",\"id\":\"1ace126a-792d-4983-a7dc-78b9d193fdf7\",\"attributes\":{\"level\":\"glyph\",\"location\":4.34782608695652,\"line_color\":\"red\",\"line_width\":3}},{\"type\":\"object\",\"name\":\"Span\",\"id\":\"8c291818-b3e8-42d2-ac6c-bc287c55bd74\",\"attributes\":{\"level\":\"glyph\",\"location\":6.521739130434779,\"line_color\":\"blue\",\"line_width\":3}},{\"type\":\"object\",\"name\":\"Span\",\"id\":\"b2be68f8-5f4a-46c3-90b4-9415027a7bed\",\"attributes\":{\"level\":\"glyph\",\"location\":2.17391304347826,\"line_color\":\"blue\",\"line_width\":3}}],\"toolbar\":{\"type\":\"object\",\"name\":\"Toolbar\",\"id\":\"e439b951-93e5-44ac-a810-a98dc23fb93a\",\"attributes\":{\"tools\":[{\"type\":\"object\",\"name\":\"WheelZoomTool\",\"id\":\"d252842d-cab4-45be-aee4-97aa7884a032\",\"attributes\":{\"tags\":[\"hv_created\"],\"renderers\":\"auto\",\"zoom_together\":\"none\"}},{\"type\":\"object\",\"name\":\"HoverTool\",\"id\":\"26e2b1ec-a1d8-4762-a2fc-399c5b0ff350\",\"attributes\":{\"tags\":[\"hv_created\"],\"renderers\":[{\"id\":\"4bc8f271-8cf9-4c4e-b767-cce51a255c85\"}],\"tooltips\":[[\"post_str_b5\",\"@{post_str_b5}\"],[\"percent\",\"@{percent}\"]]}},{\"type\":\"object\",\"name\":\"SaveTool\",\"id\":\"20ae346d-5960-4dd8-bac8-cf7797d962d9\"},{\"type\":\"object\",\"name\":\"PanTool\",\"id\":\"a7e31938-7810-4119-89e8-126c993619a4\"},{\"type\":\"object\",\"name\":\"BoxZoomTool\",\"id\":\"b3c8ea7d-3ce4-4440-a527-33f3e1d89a21\",\"attributes\":{\"dimensions\":\"both\",\"overlay\":{\"type\":\"object\",\"name\":\"BoxAnnotation\",\"id\":\"16c428f6-a26b-488e-aa91-fb2f960f28ea\",\"attributes\":{\"syncable\":false,\"line_color\":\"black\",\"line_alpha\":1.0,\"line_width\":2,\"line_dash\":[4,4],\"fill_color\":\"lightgrey\",\"fill_alpha\":0.5,\"level\":\"overlay\",\"visible\":false,\"left\":{\"type\":\"number\",\"value\":\"nan\"},\"right\":{\"type\":\"number\",\"value\":\"nan\"},\"top\":{\"type\":\"number\",\"value\":\"nan\"},\"bottom\":{\"type\":\"number\",\"value\":\"nan\"},\"left_units\":\"canvas\",\"right_units\":\"canvas\",\"top_units\":\"canvas\",\"bottom_units\":\"canvas\",\"handles\":{\"type\":\"object\",\"name\":\"BoxInteractionHandles\",\"id\":\"67b85e5a-b8f7-4ab5-9cec-b547a3f1b2e7\",\"attributes\":{\"all\":{\"type\":\"object\",\"name\":\"AreaVisuals\",\"id\":\"1a4f008f-3d87-40bf-9107-d7154491beb7\",\"attributes\":{\"fill_color\":\"white\",\"hover_fill_color\":\"lightgray\"}}}}}}}},{\"type\":\"object\",\"name\":\"ResetTool\",\"id\":\"22aa2279-448d-4b50-a376-c787a96f0898\"}],\"active_drag\":{\"id\":\"a7e31938-7810-4119-89e8-126c993619a4\"}}},\"left\":[{\"type\":\"object\",\"name\":\"LinearAxis\",\"id\":\"d89c6a81-f9ba-4c49-9dc5-565ee61867bd\",\"attributes\":{\"ticker\":{\"type\":\"object\",\"name\":\"BasicTicker\",\"id\":\"d467c99e-4c54-4428-8dc5-4e7441c4cf8c\",\"attributes\":{\"mantissas\":[1,2,5]}},\"formatter\":{\"type\":\"object\",\"name\":\"BasicTickFormatter\",\"id\":\"db2db44f-118c-41d9-9594-93238d6c887d\"},\"axis_label\":\"percent\",\"major_label_policy\":{\"type\":\"object\",\"name\":\"AllLabels\",\"id\":\"0a90b341-ef2e-4a08-83a6-f60324c074e5\"}}}],\"below\":[{\"type\":\"object\",\"name\":\"CategoricalAxis\",\"id\":\"ad19623a-35aa-4073-bd6c-afac06935b11\",\"attributes\":{\"ticker\":{\"type\":\"object\",\"name\":\"CategoricalTicker\",\"id\":\"ebb2913f-a48f-4199-ab46-d8c19982bf4f\"},\"formatter\":{\"type\":\"object\",\"name\":\"CategoricalTickFormatter\",\"id\":\"044afc4b-12b7-4385-b75f-e57b417ca7ad\"},\"axis_label\":\"post_str_b5\",\"major_label_policy\":{\"type\":\"object\",\"name\":\"AllLabels\",\"id\":\"fd499372-0421-40fe-bfc3-971bc390f81f\"}}}],\"center\":[{\"type\":\"object\",\"name\":\"Grid\",\"id\":\"32d0b28c-3c37-45d1-8773-b795b3cca918\",\"attributes\":{\"axis\":{\"id\":\"ad19623a-35aa-4073-bd6c-afac06935b11\"},\"grid_line_color\":null}},{\"type\":\"object\",\"name\":\"Grid\",\"id\":\"fa157121-ac4d-4ee7-b372-6d48a65be661\",\"attributes\":{\"dimension\":1,\"axis\":{\"id\":\"d89c6a81-f9ba-4c49-9dc5-565ee61867bd\"},\"grid_line_color\":null}}],\"min_border_top\":10,\"min_border_bottom\":10,\"min_border_left\":10,\"min_border_right\":10,\"output_backend\":\"webgl\"}},{\"type\":\"object\",\"name\":\"Spacer\",\"id\":\"abf05d57-d393-434b-aa1b-eca0ebe0d294\",\"attributes\":{\"name\":\"HSpacer00575\",\"stylesheets\":[\"\\n:host(.pn-loading):before, .pn-loading:before {\\n  background-color: #c3c3c3;\\n  mask-size: auto calc(min(50%, 400px));\\n  -webkit-mask-size: auto calc(min(50%, 400px));\\n}\",{\"id\":\"108df8f6-a774-4078-ae25-7b6698c8deb5\"},{\"id\":\"a6fd8540-128a-46cd-aa5e-6a47047c131c\"},{\"id\":\"5c4ccb1b-bcb5-49ac-9c3a-06791171e3c6\"}],\"margin\":0,\"sizing_mode\":\"stretch_width\",\"align\":\"start\"}}]}}],\"defs\":[{\"type\":\"model\",\"name\":\"ReactiveHTML1\"},{\"type\":\"model\",\"name\":\"FlexBox1\",\"properties\":[{\"name\":\"align_content\",\"kind\":\"Any\",\"default\":\"flex-start\"},{\"name\":\"align_items\",\"kind\":\"Any\",\"default\":\"flex-start\"},{\"name\":\"flex_direction\",\"kind\":\"Any\",\"default\":\"row\"},{\"name\":\"flex_wrap\",\"kind\":\"Any\",\"default\":\"wrap\"},{\"name\":\"gap\",\"kind\":\"Any\",\"default\":\"\"},{\"name\":\"justify_content\",\"kind\":\"Any\",\"default\":\"flex-start\"}]},{\"type\":\"model\",\"name\":\"FloatPanel1\",\"properties\":[{\"name\":\"config\",\"kind\":\"Any\",\"default\":{\"type\":\"map\"}},{\"name\":\"contained\",\"kind\":\"Any\",\"default\":true},{\"name\":\"position\",\"kind\":\"Any\",\"default\":\"right-top\"},{\"name\":\"offsetx\",\"kind\":\"Any\",\"default\":null},{\"name\":\"offsety\",\"kind\":\"Any\",\"default\":null},{\"name\":\"theme\",\"kind\":\"Any\",\"default\":\"primary\"},{\"name\":\"status\",\"kind\":\"Any\",\"default\":\"normalized\"}]},{\"type\":\"model\",\"name\":\"GridStack1\",\"properties\":[{\"name\":\"ncols\",\"kind\":\"Any\",\"default\":null},{\"name\":\"nrows\",\"kind\":\"Any\",\"default\":null},{\"name\":\"allow_resize\",\"kind\":\"Any\",\"default\":true},{\"name\":\"allow_drag\",\"kind\":\"Any\",\"default\":true},{\"name\":\"state\",\"kind\":\"Any\",\"default\":[]}]},{\"type\":\"model\",\"name\":\"drag1\",\"properties\":[{\"name\":\"slider_width\",\"kind\":\"Any\",\"default\":5},{\"name\":\"slider_color\",\"kind\":\"Any\",\"default\":\"black\"},{\"name\":\"value\",\"kind\":\"Any\",\"default\":50}]},{\"type\":\"model\",\"name\":\"click1\",\"properties\":[{\"name\":\"terminal_output\",\"kind\":\"Any\",\"default\":\"\"},{\"name\":\"debug_name\",\"kind\":\"Any\",\"default\":\"\"},{\"name\":\"clears\",\"kind\":\"Any\",\"default\":0}]},{\"type\":\"model\",\"name\":\"FastWrapper1\",\"properties\":[{\"name\":\"object\",\"kind\":\"Any\",\"default\":null},{\"name\":\"style\",\"kind\":\"Any\",\"default\":null}]},{\"type\":\"model\",\"name\":\"NotificationArea1\",\"properties\":[{\"name\":\"js_events\",\"kind\":\"Any\",\"default\":{\"type\":\"map\"}},{\"name\":\"max_notifications\",\"kind\":\"Any\",\"default\":5},{\"name\":\"notifications\",\"kind\":\"Any\",\"default\":[]},{\"name\":\"position\",\"kind\":\"Any\",\"default\":\"bottom-right\"},{\"name\":\"_clear\",\"kind\":\"Any\",\"default\":0},{\"name\":\"types\",\"kind\":\"Any\",\"default\":[{\"type\":\"map\",\"entries\":[[\"type\",\"warning\"],[\"background\",\"#ffc107\"],[\"icon\",{\"type\":\"map\",\"entries\":[[\"className\",\"fas fa-exclamation-triangle\"],[\"tagName\",\"i\"],[\"color\",\"white\"]]}]]},{\"type\":\"map\",\"entries\":[[\"type\",\"info\"],[\"background\",\"#007bff\"],[\"icon\",{\"type\":\"map\",\"entries\":[[\"className\",\"fas fa-info-circle\"],[\"tagName\",\"i\"],[\"color\",\"white\"]]}]]}]}]},{\"type\":\"model\",\"name\":\"Notification\",\"properties\":[{\"name\":\"background\",\"kind\":\"Any\",\"default\":null},{\"name\":\"duration\",\"kind\":\"Any\",\"default\":3000},{\"name\":\"icon\",\"kind\":\"Any\",\"default\":null},{\"name\":\"message\",\"kind\":\"Any\",\"default\":\"\"},{\"name\":\"notification_type\",\"kind\":\"Any\",\"default\":null},{\"name\":\"_rendered\",\"kind\":\"Any\",\"default\":false},{\"name\":\"_destroyed\",\"kind\":\"Any\",\"default\":false}]},{\"type\":\"model\",\"name\":\"TemplateActions1\",\"properties\":[{\"name\":\"open_modal\",\"kind\":\"Any\",\"default\":0},{\"name\":\"close_modal\",\"kind\":\"Any\",\"default\":0}]},{\"type\":\"model\",\"name\":\"BootstrapTemplateActions1\",\"properties\":[{\"name\":\"open_modal\",\"kind\":\"Any\",\"default\":0},{\"name\":\"close_modal\",\"kind\":\"Any\",\"default\":0}]},{\"type\":\"model\",\"name\":\"TemplateEditor1\",\"properties\":[{\"name\":\"layout\",\"kind\":\"Any\",\"default\":[]}]},{\"type\":\"model\",\"name\":\"MaterialTemplateActions1\",\"properties\":[{\"name\":\"open_modal\",\"kind\":\"Any\",\"default\":0},{\"name\":\"close_modal\",\"kind\":\"Any\",\"default\":0}]},{\"type\":\"model\",\"name\":\"ReactiveESM1\",\"properties\":[{\"name\":\"esm_constants\",\"kind\":\"Any\",\"default\":{\"type\":\"map\"}}]},{\"type\":\"model\",\"name\":\"JSComponent1\",\"properties\":[{\"name\":\"esm_constants\",\"kind\":\"Any\",\"default\":{\"type\":\"map\"}}]},{\"type\":\"model\",\"name\":\"ReactComponent1\",\"properties\":[{\"name\":\"esm_constants\",\"kind\":\"Any\",\"default\":{\"type\":\"map\"}}]},{\"type\":\"model\",\"name\":\"AnyWidgetComponent1\",\"properties\":[{\"name\":\"esm_constants\",\"kind\":\"Any\",\"default\":{\"type\":\"map\"}}]},{\"type\":\"model\",\"name\":\"request_value1\",\"properties\":[{\"name\":\"fill\",\"kind\":\"Any\",\"default\":\"none\"},{\"name\":\"_synced\",\"kind\":\"Any\",\"default\":null},{\"name\":\"_request_sync\",\"kind\":\"Any\",\"default\":0}]}]}};\n",
       "  var render_items = [{\"docid\":\"3eeb576e-7b1c-4538-bcb5-b842cba614eb\",\"roots\":{\"1d023aea-9748-42aa-81f8-2e3782fd8562\":\"cadcbd7b-de5d-44cc-b15d-609af57acfb9\"},\"root_ids\":[\"1d023aea-9748-42aa-81f8-2e3782fd8562\"]}];\n",
       "  var docs = Object.values(docs_json)\n",
       "  if (!docs) {\n",
       "    return\n",
       "  }\n",
       "  const py_version = docs[0].version.replace('rc', '-rc.').replace('.dev', '-dev.')\n",
       "  async function embed_document(root) {\n",
       "    var Bokeh = get_bokeh(root)\n",
       "    await Bokeh.embed.embed_items_notebook(docs_json, render_items);\n",
       "    for (const render_item of render_items) {\n",
       "      for (const root_id of render_item.root_ids) {\n",
       "\tconst id_el = document.getElementById(root_id)\n",
       "\tif (id_el.children.length && id_el.children[0].hasAttribute('data-root-id')) {\n",
       "\t  const root_el = id_el.children[0]\n",
       "\t  root_el.id = root_el.id + '-rendered'\n",
       "\t  for (const child of root_el.children) {\n",
       "            // Ensure JupyterLab does not capture keyboard shortcuts\n",
       "            // see: https://jupyterlab.readthedocs.io/en/4.1.x/extension/notebook.html#keyboard-interaction-model\n",
       "\t    child.setAttribute('data-lm-suppress-shortcuts', 'true')\n",
       "\t  }\n",
       "\t}\n",
       "      }\n",
       "    }\n",
       "  }\n",
       "  function get_bokeh(root) {\n",
       "    if (root.Bokeh === undefined) {\n",
       "      return null\n",
       "    } else if (root.Bokeh.version !== py_version) {\n",
       "      if (root.Bokeh.versions === undefined || !root.Bokeh.versions.has(py_version)) {\n",
       "\treturn null\n",
       "      }\n",
       "      return root.Bokeh.versions.get(py_version);\n",
       "    } else if (root.Bokeh.version === py_version) {\n",
       "      return root.Bokeh\n",
       "    }\n",
       "    return null\n",
       "  }\n",
       "  function is_loaded(root) {\n",
       "    var Bokeh = get_bokeh(root)\n",
       "    return (Bokeh != null && Bokeh.Panel !== undefined)\n",
       "  }\n",
       "  if (is_loaded(root)) {\n",
       "    embed_document(root);\n",
       "  } else {\n",
       "    var attempts = 0;\n",
       "    var timer = setInterval(function(root) {\n",
       "      if (is_loaded(root)) {\n",
       "        clearInterval(timer);\n",
       "        embed_document(root);\n",
       "      } else if (document.readyState == \"complete\") {\n",
       "        attempts++;\n",
       "        if (attempts > 200) {\n",
       "          clearInterval(timer);\n",
       "\t  var Bokeh = get_bokeh(root)\n",
       "\t  if (Bokeh == null || Bokeh.Panel == null) {\n",
       "            console.warn(\"Panel: ERROR: Unable to run Panel code because Bokeh or Panel library is missing\");\n",
       "\t  } else {\n",
       "\t    console.warn(\"Panel: WARNING: Attempting to render but not all required libraries could be resolved.\")\n",
       "\t    embed_document(root)\n",
       "\t  }\n",
       "        }\n",
       "      }\n",
       "    }, 25, root)\n",
       "  }\n",
       "})(window);</script>"
      ],
      "text/plain": [
       ":Overlay\n",
       "   .Bars.I    :Bars   [post_str_b5]   (percent)\n",
       "   .HLine.I   :HLine   [x,y]\n",
       "   .HLine.II  :HLine   [x,y]\n",
       "   .HLine.III :HLine   [x,y]"
      ]
     },
     "metadata": {
      "application/vnd.holoviews_exec.v0+json": {
       "id": "1d023aea-9748-42aa-81f8-2e3782fd8562"
      }
     },
     "output_type": "display_data"
    },
    {
     "name": "stdout",
     "output_type": "stream",
     "text": [
      "df_10_last FOR str_b5 = 21\n",
      "Last 3 results last_results=['39', '33', '43']\n"
     ]
    },
    {
     "data": {
      "text/html": [
       "<div><style>\n",
       ".dataframe > thead > tr,\n",
       ".dataframe > tbody > tr {\n",
       "  text-align: right;\n",
       "  white-space: pre-wrap;\n",
       "}\n",
       "</style>\n",
       "<small>shape: (10, 30)</small><table border=\"1\" class=\"dataframe\"><thead><tr><th>fecha</th><th>sorteo</th><th>bolillas</th><th>yapa</th><th>adicionales</th><th>sorteo_extra</th><th>id</th><th>combo</th><th>b1</th><th>b2</th><th>b3</th><th>b4</th><th>b5</th><th>b6</th><th>str_b1</th><th>str_b2</th><th>str_b3</th><th>str_b4</th><th>str_b5</th><th>str_b6</th><th>post_str_b1</th><th>post_str_b2</th><th>post_str_b3</th><th>post_str_b4</th><th>post_str_b5</th><th>post_str_blast</th><th>is_rare_combination</th><th>reason</th><th>jumps_map</th><th>unijump</th></tr><tr><td>str</td><td>str</td><td>str</td><td>str</td><td>str</td><td>str</td><td>str</td><td>array[u8, 6]</td><td>u8</td><td>u8</td><td>u8</td><td>u8</td><td>u8</td><td>u8</td><td>str</td><td>str</td><td>str</td><td>str</td><td>str</td><td>str</td><td>str</td><td>str</td><td>str</td><td>str</td><td>str</td><td>str</td><td>bool</td><td>u8</td><td>str</td><td>i64</td></tr></thead><tbody><tr><td>&quot;09/04/2023&quot;</td><td>&quot;0975&quot;</td><td>&quot;02 19 21 25 18 08&quot;</td><td>&quot;35&quot;</td><td>&quot;28 34&quot;</td><td>&quot;Promoción Sí o Sí&quot;</td><td>&quot;020818192125&quot;</td><td>[2, 8, … 25]</td><td>2</td><td>8</td><td>18</td><td>19</td><td>21</td><td>25</td><td>&quot;02&quot;</td><td>&quot;08&quot;</td><td>&quot;18&quot;</td><td>&quot;19&quot;</td><td>&quot;21&quot;</td><td>&quot;25&quot;</td><td>&quot;06&quot;</td><td>&quot;08&quot;</td><td>&quot;22&quot;</td><td>&quot;25&quot;</td><td>&quot;33&quot;</td><td>&quot;38&quot;</td><td>true</td><td>16</td><td>&quot;06_10_01_02_04&quot;</td><td>-32</td></tr><tr><td>&quot;22/05/2022&quot;</td><td>&quot;0883&quot;</td><td>&quot;11 10 12 21 01 26&quot;</td><td>&quot;36&quot;</td><td>&quot;33 38&quot;</td><td>&quot;Promoción Sí o Sí&quot;</td><td>&quot;011011122126&quot;</td><td>[1, 10, … 26]</td><td>1</td><td>10</td><td>11</td><td>12</td><td>21</td><td>26</td><td>&quot;01&quot;</td><td>&quot;10&quot;</td><td>&quot;11&quot;</td><td>&quot;12&quot;</td><td>&quot;21&quot;</td><td>&quot;26&quot;</td><td>&quot;12&quot;</td><td>&quot;28&quot;</td><td>&quot;39&quot;</td><td>&quot;42&quot;</td><td>&quot;43&quot;</td><td>&quot;45&quot;</td><td>true</td><td>24</td><td>&quot;09_01_01_09_05&quot;</td><td>-20</td></tr><tr><td>&quot;27/04/2022&quot;</td><td>&quot;0876&quot;</td><td>&quot;09 21 42 01 05 03&quot;</td><td>&quot;19&quot;</td><td>&quot;18 22&quot;</td><td>&quot;Promoción Sí o Sí&quot;</td><td>&quot;010305092142&quot;</td><td>[1, 3, … 42]</td><td>1</td><td>3</td><td>5</td><td>9</td><td>21</td><td>42</td><td>&quot;01&quot;</td><td>&quot;03&quot;</td><td>&quot;05&quot;</td><td>&quot;09&quot;</td><td>&quot;21&quot;</td><td>&quot;42&quot;</td><td>&quot;16&quot;</td><td>&quot;24&quot;</td><td>&quot;26&quot;</td><td>&quot;33&quot;</td><td>&quot;39&quot;</td><td>&quot;43&quot;</td><td>true</td><td>8</td><td>&quot;02_02_04_12_21&quot;</td><td>-9</td></tr><tr><td>&quot;23/02/2022&quot;</td><td>&quot;0858&quot;</td><td>&quot;13 35 19 01 21 08&quot;</td><td>&quot;10&quot;</td><td>&quot;45 44 16&quot;</td><td>&quot;Promoción Sí o Sí&quot;</td><td>&quot;010813192135&quot;</td><td>[1, 8, … 35]</td><td>1</td><td>8</td><td>13</td><td>19</td><td>21</td><td>35</td><td>&quot;01&quot;</td><td>&quot;08&quot;</td><td>&quot;13&quot;</td><td>&quot;19&quot;</td><td>&quot;21&quot;</td><td>&quot;35&quot;</td><td>&quot;10&quot;</td><td>&quot;11&quot;</td><td>&quot;21&quot;</td><td>&quot;23&quot;</td><td>&quot;30&quot;</td><td>&quot;45&quot;</td><td>false</td><td>0</td><td>&quot;07_05_06_02_14&quot;</td><td>29</td></tr><tr><td>&quot;23/01/2022&quot;</td><td>&quot;0849&quot;</td><td>&quot;21 19 14 01 08 26&quot;</td><td>&quot;22&quot;</td><td>&quot;&quot;</td><td>&quot;&quot;</td><td>&quot;010814192126&quot;</td><td>[1, 8, … 26]</td><td>1</td><td>8</td><td>14</td><td>19</td><td>21</td><td>26</td><td>&quot;01&quot;</td><td>&quot;08&quot;</td><td>&quot;14&quot;</td><td>&quot;19&quot;</td><td>&quot;21&quot;</td><td>&quot;26&quot;</td><td>&quot;11&quot;</td><td>&quot;26&quot;</td><td>&quot;30&quot;</td><td>&quot;33&quot;</td><td>&quot;40&quot;</td><td>&quot;43&quot;</td><td>true</td><td>16</td><td>&quot;07_06_05_02_05&quot;</td><td>10</td></tr><tr><td>&quot;21/03/2018&quot;</td><td>&quot;0481&quot;</td><td>&quot;21 02 19 20 17 33&quot;</td><td>&quot;05&quot;</td><td>&quot;&quot;</td><td>&quot;&quot;</td><td>&quot;021719202133&quot;</td><td>[2, 17, … 33]</td><td>2</td><td>17</td><td>19</td><td>20</td><td>21</td><td>33</td><td>&quot;02&quot;</td><td>&quot;17&quot;</td><td>&quot;19&quot;</td><td>&quot;20&quot;</td><td>&quot;21&quot;</td><td>&quot;33&quot;</td><td>&quot;02&quot;</td><td>&quot;06&quot;</td><td>&quot;08&quot;</td><td>&quot;20&quot;</td><td>&quot;41&quot;</td><td>&quot;43&quot;</td><td>true</td><td>8</td><td>&quot;15_02_01_01_12&quot;</td><td>21</td></tr><tr><td>&quot;01/11/2017&quot;</td><td>&quot;0441&quot;</td><td>&quot;16 01 21 11 15 25&quot;</td><td>&quot;13&quot;</td><td>&quot;&quot;</td><td>&quot;&quot;</td><td>&quot;011115162125&quot;</td><td>[1, 11, … 25]</td><td>1</td><td>11</td><td>15</td><td>16</td><td>21</td><td>25</td><td>&quot;01&quot;</td><td>&quot;11&quot;</td><td>&quot;15&quot;</td><td>&quot;16&quot;</td><td>&quot;21&quot;</td><td>&quot;25&quot;</td><td>&quot;05&quot;</td><td>&quot;13&quot;</td><td>&quot;19&quot;</td><td>&quot;22&quot;</td><td>&quot;34&quot;</td><td>&quot;44&quot;</td><td>true</td><td>16</td><td>&quot;10_04_01_05_04&quot;</td><td>-16</td></tr><tr><td>&quot;18/09/2016&quot;</td><td>&quot;0324&quot;</td><td>&quot;05 06 11 13 21 42&quot;</td><td>&quot;40&quot;</td><td>&quot;&quot;</td><td>&quot;&quot;</td><td>&quot;050611132142&quot;</td><td>[5, 6, … 42]</td><td>5</td><td>6</td><td>11</td><td>13</td><td>21</td><td>42</td><td>&quot;05&quot;</td><td>&quot;06&quot;</td><td>&quot;11&quot;</td><td>&quot;13&quot;</td><td>&quot;21&quot;</td><td>&quot;42&quot;</td><td>&quot;11&quot;</td><td>&quot;17&quot;</td><td>&quot;20&quot;</td><td>&quot;35&quot;</td><td>&quot;36&quot;</td><td>&quot;37&quot;</td><td>false</td><td>0</td><td>&quot;01_05_02_08_21&quot;</td><td>-18</td></tr><tr><td>&quot;17/06/2015&quot;</td><td>&quot;0193&quot;</td><td>&quot;01 05 10 14 21 22&quot;</td><td>&quot;32&quot;</td><td>&quot;&quot;</td><td>&quot;&quot;</td><td>&quot;010510142122&quot;</td><td>[1, 5, … 22]</td><td>1</td><td>5</td><td>10</td><td>14</td><td>21</td><td>22</td><td>&quot;01&quot;</td><td>&quot;05&quot;</td><td>&quot;10&quot;</td><td>&quot;14&quot;</td><td>&quot;21&quot;</td><td>&quot;22&quot;</td><td>&quot;09&quot;</td><td>&quot;11&quot;</td><td>&quot;12&quot;</td><td>&quot;15&quot;</td><td>&quot;32&quot;</td><td>&quot;33&quot;</td><td>true</td><td>16</td><td>&quot;04_05_04_07_01&quot;</td><td>-19</td></tr><tr><td>&quot;11/03/2015&quot;</td><td>&quot;0165&quot;</td><td>&quot;12 13 18 19 21 34&quot;</td><td>&quot;28&quot;</td><td>&quot;&quot;</td><td>&quot;&quot;</td><td>&quot;121318192134&quot;</td><td>[12, 13, … 34]</td><td>12</td><td>13</td><td>18</td><td>19</td><td>21</td><td>34</td><td>&quot;12&quot;</td><td>&quot;13&quot;</td><td>&quot;18&quot;</td><td>&quot;19&quot;</td><td>&quot;21&quot;</td><td>&quot;34&quot;</td><td>&quot;01&quot;</td><td>&quot;18&quot;</td><td>&quot;21&quot;</td><td>&quot;23&quot;</td><td>&quot;35&quot;</td><td>&quot;40&quot;</td><td>false</td><td>0</td><td>&quot;01_05_01_02_13&quot;</td><td>-8</td></tr></tbody></table></div>"
      ],
      "text/plain": [
       "shape: (10, 30)\n",
       "┌────────────┬────────┬───────────────┬──────┬───┬───────────────┬────────┬──────────────┬─────────┐\n",
       "│ fecha      ┆ sorteo ┆ bolillas      ┆ yapa ┆ … ┆ is_rare_combi ┆ reason ┆ jumps_map    ┆ unijump │\n",
       "│ ---        ┆ ---    ┆ ---           ┆ ---  ┆   ┆ nation        ┆ ---    ┆ ---          ┆ ---     │\n",
       "│ str        ┆ str    ┆ str           ┆ str  ┆   ┆ ---           ┆ u8     ┆ str          ┆ i64     │\n",
       "│            ┆        ┆               ┆      ┆   ┆ bool          ┆        ┆              ┆         │\n",
       "╞════════════╪════════╪═══════════════╪══════╪═══╪═══════════════╪════════╪══════════════╪═════════╡\n",
       "│ 09/04/2023 ┆ 0975   ┆ 02 19 21 25   ┆ 35   ┆ … ┆ true          ┆ 16     ┆ 06_10_01_02_ ┆ -32     │\n",
       "│            ┆        ┆ 18 08         ┆      ┆   ┆               ┆        ┆ 04           ┆         │\n",
       "│ 22/05/2022 ┆ 0883   ┆ 11 10 12 21   ┆ 36   ┆ … ┆ true          ┆ 24     ┆ 09_01_01_09_ ┆ -20     │\n",
       "│            ┆        ┆ 01 26         ┆      ┆   ┆               ┆        ┆ 05           ┆         │\n",
       "│ 27/04/2022 ┆ 0876   ┆ 09 21 42 01   ┆ 19   ┆ … ┆ true          ┆ 8      ┆ 02_02_04_12_ ┆ -9      │\n",
       "│            ┆        ┆ 05 03         ┆      ┆   ┆               ┆        ┆ 21           ┆         │\n",
       "│ 23/02/2022 ┆ 0858   ┆ 13 35 19 01   ┆ 10   ┆ … ┆ false         ┆ 0      ┆ 07_05_06_02_ ┆ 29      │\n",
       "│            ┆        ┆ 21 08         ┆      ┆   ┆               ┆        ┆ 14           ┆         │\n",
       "│ 23/01/2022 ┆ 0849   ┆ 21 19 14 01   ┆ 22   ┆ … ┆ true          ┆ 16     ┆ 07_06_05_02_ ┆ 10      │\n",
       "│            ┆        ┆ 08 26         ┆      ┆   ┆               ┆        ┆ 05           ┆         │\n",
       "│ 21/03/2018 ┆ 0481   ┆ 21 02 19 20   ┆ 05   ┆ … ┆ true          ┆ 8      ┆ 15_02_01_01_ ┆ 21      │\n",
       "│            ┆        ┆ 17 33         ┆      ┆   ┆               ┆        ┆ 12           ┆         │\n",
       "│ 01/11/2017 ┆ 0441   ┆ 16 01 21 11   ┆ 13   ┆ … ┆ true          ┆ 16     ┆ 10_04_01_05_ ┆ -16     │\n",
       "│            ┆        ┆ 15 25         ┆      ┆   ┆               ┆        ┆ 04           ┆         │\n",
       "│ 18/09/2016 ┆ 0324   ┆ 05 06 11 13   ┆ 40   ┆ … ┆ false         ┆ 0      ┆ 01_05_02_08_ ┆ -18     │\n",
       "│            ┆        ┆ 21 42         ┆      ┆   ┆               ┆        ┆ 21           ┆         │\n",
       "│ 17/06/2015 ┆ 0193   ┆ 01 05 10 14   ┆ 32   ┆ … ┆ true          ┆ 16     ┆ 04_05_04_07_ ┆ -19     │\n",
       "│            ┆        ┆ 21 22         ┆      ┆   ┆               ┆        ┆ 01           ┆         │\n",
       "│ 11/03/2015 ┆ 0165   ┆ 12 13 18 19   ┆ 28   ┆ … ┆ false         ┆ 0      ┆ 01_05_01_02_ ┆ -8      │\n",
       "│            ┆        ┆ 21 34         ┆      ┆   ┆               ┆        ┆ 13           ┆         │\n",
       "└────────────┴────────┴───────────────┴──────┴───┴───────────────┴────────┴──────────────┴─────────┘"
      ]
     },
     "metadata": {},
     "output_type": "display_data"
    },
    {
     "name": "stdout",
     "output_type": "stream",
     "text": [
      "df_jumps_map FOR str_b5 = 21\n"
     ]
    },
    {
     "data": {
      "text/html": [
       "<div><style>\n",
       ".dataframe > thead > tr,\n",
       ".dataframe > tbody > tr {\n",
       "  text-align: right;\n",
       "  white-space: pre-wrap;\n",
       "}\n",
       "</style>\n",
       "<small>shape: (43, 2)</small><table border=\"1\" class=\"dataframe\"><thead><tr><th>jumps_map</th><th>count</th></tr><tr><td>str</td><td>u32</td></tr></thead><tbody><tr><td>&quot;04_04_02_06_07&quot;</td><td>1</td></tr><tr><td>&quot;02_05_01_05_04&quot;</td><td>1</td></tr><tr><td>&quot;10_04_02_03_16&quot;</td><td>1</td></tr><tr><td>&quot;02_05_02_05_18&quot;</td><td>1</td></tr><tr><td>&quot;02_03_01_01_24&quot;</td><td>1</td></tr><tr><td>&hellip;</td><td>&hellip;</td></tr><tr><td>&quot;01_09_04_06_03&quot;</td><td>1</td></tr><tr><td>&quot;09_01_01_09_05&quot;</td><td>1</td></tr><tr><td>&quot;05_04_04_04_09&quot;</td><td>1</td></tr><tr><td>&quot;09_04_01_01_08&quot;</td><td>1</td></tr><tr><td>&quot;03_11_02_03_06&quot;</td><td>1</td></tr></tbody></table></div>"
      ],
      "text/plain": [
       "shape: (43, 2)\n",
       "┌────────────────┬───────┐\n",
       "│ jumps_map      ┆ count │\n",
       "│ ---            ┆ ---   │\n",
       "│ str            ┆ u32   │\n",
       "╞════════════════╪═══════╡\n",
       "│ 04_04_02_06_07 ┆ 1     │\n",
       "│ 02_05_01_05_04 ┆ 1     │\n",
       "│ 10_04_02_03_16 ┆ 1     │\n",
       "│ 02_05_02_05_18 ┆ 1     │\n",
       "│ 02_03_01_01_24 ┆ 1     │\n",
       "│ …              ┆ …     │\n",
       "│ 01_09_04_06_03 ┆ 1     │\n",
       "│ 09_01_01_09_05 ┆ 1     │\n",
       "│ 05_04_04_04_09 ┆ 1     │\n",
       "│ 09_04_01_01_08 ┆ 1     │\n",
       "│ 03_11_02_03_06 ┆ 1     │\n",
       "└────────────────┴───────┘"
      ]
     },
     "metadata": {},
     "output_type": "display_data"
    },
    {
     "name": "stdout",
     "output_type": "stream",
     "text": [
      "df_unijump FOR str_b5 = 21\n"
     ]
    },
    {
     "data": {
      "text/html": [
       "<div><style>\n",
       ".dataframe > thead > tr,\n",
       ".dataframe > tbody > tr {\n",
       "  text-align: right;\n",
       "  white-space: pre-wrap;\n",
       "}\n",
       "</style>\n",
       "<small>shape: (34, 2)</small><table border=\"1\" class=\"dataframe\"><thead><tr><th>unijump</th><th>count</th></tr><tr><td>i64</td><td>u32</td></tr></thead><tbody><tr><td>10</td><td>3</td></tr><tr><td>2</td><td>2</td></tr><tr><td>-16</td><td>2</td></tr><tr><td>-32</td><td>2</td></tr><tr><td>11</td><td>2</td></tr><tr><td>&hellip;</td><td>&hellip;</td></tr><tr><td>-28</td><td>1</td></tr><tr><td>-20</td><td>1</td></tr><tr><td>-33</td><td>1</td></tr><tr><td>28</td><td>1</td></tr><tr><td>6</td><td>1</td></tr></tbody></table></div>"
      ],
      "text/plain": [
       "shape: (34, 2)\n",
       "┌─────────┬───────┐\n",
       "│ unijump ┆ count │\n",
       "│ ---     ┆ ---   │\n",
       "│ i64     ┆ u32   │\n",
       "╞═════════╪═══════╡\n",
       "│ 10      ┆ 3     │\n",
       "│ 2       ┆ 2     │\n",
       "│ -16     ┆ 2     │\n",
       "│ -32     ┆ 2     │\n",
       "│ 11      ┆ 2     │\n",
       "│ …       ┆ …     │\n",
       "│ -28     ┆ 1     │\n",
       "│ -20     ┆ 1     │\n",
       "│ -33     ┆ 1     │\n",
       "│ 28      ┆ 1     │\n",
       "│ 6       ┆ 1     │\n",
       "└─────────┴───────┘"
      ]
     },
     "metadata": {},
     "output_type": "display_data"
    }
   ],
   "source": [
    "possible_b5, exclude_jump_maps_b5, last_post_b5 = plot_post_col(col='str_b5', post_col='post_str_b5')"
   ]
  },
  {
   "cell_type": "code",
   "execution_count": 12,
   "metadata": {},
   "outputs": [
    {
     "name": "stdout",
     "output_type": "stream",
     "text": [
      "Setting test_value='31'\n",
      "df_viz FOR str_b6 = 31\n"
     ]
    },
    {
     "data": {
      "text/html": [
       "<div><style>\n",
       ".dataframe > thead > tr,\n",
       ".dataframe > tbody > tr {\n",
       "  text-align: right;\n",
       "  white-space: pre-wrap;\n",
       "}\n",
       "</style>\n",
       "<small>shape: (21, 3)</small><table border=\"1\" class=\"dataframe\"><thead><tr><th>post_str_blast</th><th>count</th><th>percent</th></tr><tr><td>str</td><td>u32</td><td>f64</td></tr></thead><tbody><tr><td>&quot;45&quot;</td><td>7</td><td>12.280702</td></tr><tr><td>&quot;41&quot;</td><td>6</td><td>10.526316</td></tr><tr><td>&quot;34&quot;</td><td>5</td><td>8.77193</td></tr><tr><td>&quot;43&quot;</td><td>4</td><td>7.017544</td></tr><tr><td>&quot;39&quot;</td><td>4</td><td>7.017544</td></tr><tr><td>&hellip;</td><td>&hellip;</td><td>&hellip;</td></tr><tr><td>&quot;26&quot;</td><td>1</td><td>1.754386</td></tr><tr><td>&quot;24&quot;</td><td>1</td><td>1.754386</td></tr><tr><td>&quot;27&quot;</td><td>1</td><td>1.754386</td></tr><tr><td>&quot;44&quot;</td><td>1</td><td>1.754386</td></tr><tr><td>&quot;33&quot;</td><td>1</td><td>1.754386</td></tr></tbody></table></div>"
      ],
      "text/plain": [
       "shape: (21, 3)\n",
       "┌────────────────┬───────┬───────────┐\n",
       "│ post_str_blast ┆ count ┆ percent   │\n",
       "│ ---            ┆ ---   ┆ ---       │\n",
       "│ str            ┆ u32   ┆ f64       │\n",
       "╞════════════════╪═══════╪═══════════╡\n",
       "│ 45             ┆ 7     ┆ 12.280702 │\n",
       "│ 41             ┆ 6     ┆ 10.526316 │\n",
       "│ 34             ┆ 5     ┆ 8.77193   │\n",
       "│ 43             ┆ 4     ┆ 7.017544  │\n",
       "│ 39             ┆ 4     ┆ 7.017544  │\n",
       "│ …              ┆ …     ┆ …         │\n",
       "│ 26             ┆ 1     ┆ 1.754386  │\n",
       "│ 24             ┆ 1     ┆ 1.754386  │\n",
       "│ 27             ┆ 1     ┆ 1.754386  │\n",
       "│ 44             ┆ 1     ┆ 1.754386  │\n",
       "│ 33             ┆ 1     ┆ 1.754386  │\n",
       "└────────────────┴───────┴───────────┘"
      ]
     },
     "metadata": {},
     "output_type": "display_data"
    },
    {
     "data": {},
     "metadata": {},
     "output_type": "display_data"
    },
    {
     "data": {
      "application/vnd.holoviews_exec.v0+json": "",
      "text/html": [
       "<div id='6eaadafc-a5c2-4524-8423-ae0df7e12299'>\n",
       "  <div id=\"ca72c8c8-9fa0-45e9-8dba-e8e347e0e12e\" data-root-id=\"6eaadafc-a5c2-4524-8423-ae0df7e12299\" style=\"display: contents;\"></div>\n",
       "</div>\n",
       "<script type=\"application/javascript\">(function(root) {\n",
       "  var docs_json = {\"9a60dc14-a9d2-4a00-a6fb-74886f79eaba\":{\"version\":\"3.7.2\",\"title\":\"Bokeh Application\",\"roots\":[{\"type\":\"object\",\"name\":\"Row\",\"id\":\"6eaadafc-a5c2-4524-8423-ae0df7e12299\",\"attributes\":{\"name\":\"Row00641\",\"tags\":[\"embedded\"],\"stylesheets\":[\"\\n:host(.pn-loading):before, .pn-loading:before {\\n  background-color: #c3c3c3;\\n  mask-size: auto calc(min(50%, 400px));\\n  -webkit-mask-size: auto calc(min(50%, 400px));\\n}\",{\"type\":\"object\",\"name\":\"ImportedStyleSheet\",\"id\":\"05d77263-a459-4417-a8fd-d965e0078ed8\",\"attributes\":{\"url\":\"https://cdn.holoviz.org/panel/1.6.2/dist/css/loading.css\"}},{\"type\":\"object\",\"name\":\"ImportedStyleSheet\",\"id\":\"a3f33f83-d6d9-4dfc-bece-a1c6a9cda04b\",\"attributes\":{\"url\":\"https://cdn.holoviz.org/panel/1.6.2/dist/css/listpanel.css\"}},{\"type\":\"object\",\"name\":\"ImportedStyleSheet\",\"id\":\"e6078d42-15d3-4901-844d-4fcac3492d65\",\"attributes\":{\"url\":\"https://cdn.holoviz.org/panel/1.6.2/dist/bundled/theme/default.css\"}},{\"type\":\"object\",\"name\":\"ImportedStyleSheet\",\"id\":\"b5072420-c9ad-4529-b20f-a0d215850547\",\"attributes\":{\"url\":\"https://cdn.holoviz.org/panel/1.6.2/dist/bundled/theme/native.css\"}}],\"min_width\":700,\"margin\":0,\"sizing_mode\":\"stretch_width\",\"align\":\"start\",\"children\":[{\"type\":\"object\",\"name\":\"Spacer\",\"id\":\"e4b03468-5996-4669-8019-f3c1051ccf7c\",\"attributes\":{\"name\":\"HSpacer00645\",\"stylesheets\":[\"\\n:host(.pn-loading):before, .pn-loading:before {\\n  background-color: #c3c3c3;\\n  mask-size: auto calc(min(50%, 400px));\\n  -webkit-mask-size: auto calc(min(50%, 400px));\\n}\",{\"id\":\"05d77263-a459-4417-a8fd-d965e0078ed8\"},{\"id\":\"e6078d42-15d3-4901-844d-4fcac3492d65\"},{\"id\":\"b5072420-c9ad-4529-b20f-a0d215850547\"}],\"margin\":0,\"sizing_mode\":\"stretch_width\",\"align\":\"start\"}},{\"type\":\"object\",\"name\":\"Figure\",\"id\":\"037ef3bf-121f-41a0-b39a-ae9094aaed2b\",\"attributes\":{\"width\":700,\"height\":300,\"margin\":[5,10],\"sizing_mode\":\"fixed\",\"align\":\"start\",\"x_range\":{\"type\":\"object\",\"name\":\"FactorRange\",\"id\":\"ef0675cb-f929-479d-8c4e-3ffeab471063\",\"attributes\":{\"name\":\"post_str_blast\",\"tags\":[[[\"post_str_blast\",null]],[]],\"factors\":[\"45\",\"41\",\"34\",\"43\",\"39\",\"42\",\"35\",\"36\",\"32\",\"40\",\"48\",\"37\",\"25\",\"31\",\"30\",\"47\",\"26\",\"24\",\"27\",\"44\",\"33\"]}},\"y_range\":{\"type\":\"object\",\"name\":\"Range1d\",\"id\":\"8ba6ee87-6724-4a20-aac8-7eaa1360417a\",\"attributes\":{\"name\":\"percent\",\"tags\":[[[\"percent\",null]],{\"type\":\"map\",\"entries\":[[\"invert_yaxis\",false],[\"autorange\",false]]}],\"end\":13.333333333333332,\"reset_start\":0.0,\"reset_end\":13.333333333333332}},\"x_scale\":{\"type\":\"object\",\"name\":\"CategoricalScale\",\"id\":\"ecf14d62-2521-4f38-bd16-006d5baedf74\"},\"y_scale\":{\"type\":\"object\",\"name\":\"LinearScale\",\"id\":\"8d2ef7bb-6e28-481b-a237-2e15a727f7df\"},\"title\":{\"type\":\"object\",\"name\":\"Title\",\"id\":\"453211d3-7dc7-4580-874a-80e604c47917\",\"attributes\":{\"text_color\":\"black\",\"text_font_size\":\"12pt\"}},\"renderers\":[{\"type\":\"object\",\"name\":\"GlyphRenderer\",\"id\":\"1005098d-fe9e-4719-81be-3bbee41ae64c\",\"attributes\":{\"data_source\":{\"type\":\"object\",\"name\":\"ColumnDataSource\",\"id\":\"0ff5da40-723c-461c-9c4b-c594219fc033\",\"attributes\":{\"selected\":{\"type\":\"object\",\"name\":\"Selection\",\"id\":\"af3c2748-6dfa-4a64-9347-7f1dc2617415\",\"attributes\":{\"indices\":[],\"line_indices\":[]}},\"selection_policy\":{\"type\":\"object\",\"name\":\"UnionRenderers\",\"id\":\"70f0c6ca-e01b-4803-a4cb-98393009ee43\"},\"data\":{\"type\":\"map\",\"entries\":[[\"post_str_blast\",[\"45\",\"41\",\"34\",\"43\",\"39\",\"42\",\"35\",\"36\",\"32\",\"40\",\"48\",\"37\",\"25\",\"31\",\"30\",\"47\",\"26\",\"24\",\"27\",\"44\",\"33\"]],[\"percent\",{\"type\":\"ndarray\",\"array\":{\"type\":\"bytes\",\"data\":\"+wjuI7iPKEDXUF5DeQ0lQLOYzmI6iyFAH8F9BPcRHEAfwX0E9xEcQB/BfQT3ERxA11BeQ3kNFUDXUF5DeQ0VQNdQXkN5DRVAH8F9BPcRDEAfwX0E9xEMQB/BfQT3EQxAH8F9BPcRDEAfwX0E9xEMQB/BfQT3EQxAH8F9BPcR/D8fwX0E9xH8Px/BfQT3Efw/H8F9BPcR/D8fwX0E9xH8Px/BfQT3Efw/\"},\"shape\":[21],\"dtype\":\"float64\",\"order\":\"little\"}]]}}},\"view\":{\"type\":\"object\",\"name\":\"CDSView\",\"id\":\"e8640680-5739-4f1f-9b76-d5306c29c937\",\"attributes\":{\"filter\":{\"type\":\"object\",\"name\":\"AllIndices\",\"id\":\"79836b23-0912-40e4-94f2-54d94a7040dc\"}}},\"glyph\":{\"type\":\"object\",\"name\":\"VBar\",\"id\":\"84645e0c-d8c8-41e6-8c83-0b53f9ae5459\",\"attributes\":{\"tags\":[\"apply_ranges\"],\"x\":{\"type\":\"field\",\"field\":\"post_str_blast\"},\"width\":{\"type\":\"value\",\"value\":0.8},\"top\":{\"type\":\"field\",\"field\":\"percent\"},\"fill_color\":{\"type\":\"value\",\"value\":\"#30a2da\"},\"hatch_color\":{\"type\":\"value\",\"value\":\"#30a2da\"}}},\"selection_glyph\":{\"type\":\"object\",\"name\":\"VBar\",\"id\":\"aa0c647e-eb4c-4241-a1e3-ce1472e39d5a\",\"attributes\":{\"tags\":[\"apply_ranges\"],\"x\":{\"type\":\"field\",\"field\":\"post_str_blast\"},\"width\":{\"type\":\"value\",\"value\":0.8},\"bottom\":{\"type\":\"value\",\"value\":0},\"top\":{\"type\":\"field\",\"field\":\"percent\"},\"line_color\":{\"type\":\"value\",\"value\":\"black\"},\"line_alpha\":{\"type\":\"value\",\"value\":1.0},\"line_width\":{\"type\":\"value\",\"value\":1},\"line_join\":{\"type\":\"value\",\"value\":\"bevel\"},\"line_cap\":{\"type\":\"value\",\"value\":\"butt\"},\"line_dash\":{\"type\":\"value\",\"value\":[]},\"line_dash_offset\":{\"type\":\"value\",\"value\":0},\"fill_color\":{\"type\":\"value\",\"value\":\"#30a2da\"},\"fill_alpha\":{\"type\":\"value\",\"value\":1.0},\"hatch_color\":{\"type\":\"value\",\"value\":\"#30a2da\"},\"hatch_alpha\":{\"type\":\"value\",\"value\":1.0},\"hatch_scale\":{\"type\":\"value\",\"value\":12.0},\"hatch_pattern\":{\"type\":\"value\",\"value\":null},\"hatch_weight\":{\"type\":\"value\",\"value\":1.0}}},\"nonselection_glyph\":{\"type\":\"object\",\"name\":\"VBar\",\"id\":\"6b3347fb-2216-4fed-8b28-b4b298d4801b\",\"attributes\":{\"tags\":[\"apply_ranges\"],\"x\":{\"type\":\"field\",\"field\":\"post_str_blast\"},\"width\":{\"type\":\"value\",\"value\":0.8},\"top\":{\"type\":\"field\",\"field\":\"percent\"},\"line_alpha\":{\"type\":\"value\",\"value\":0.1},\"fill_color\":{\"type\":\"value\",\"value\":\"#30a2da\"},\"fill_alpha\":{\"type\":\"value\",\"value\":0.1},\"hatch_color\":{\"type\":\"value\",\"value\":\"#30a2da\"},\"hatch_alpha\":{\"type\":\"value\",\"value\":0.1}}},\"muted_glyph\":{\"type\":\"object\",\"name\":\"VBar\",\"id\":\"ba55d39c-8388-46be-a652-37315ef439b9\",\"attributes\":{\"tags\":[\"apply_ranges\"],\"x\":{\"type\":\"field\",\"field\":\"post_str_blast\"},\"width\":{\"type\":\"value\",\"value\":0.8},\"top\":{\"type\":\"field\",\"field\":\"percent\"},\"line_alpha\":{\"type\":\"value\",\"value\":0.2},\"fill_color\":{\"type\":\"value\",\"value\":\"#30a2da\"},\"fill_alpha\":{\"type\":\"value\",\"value\":0.2},\"hatch_color\":{\"type\":\"value\",\"value\":\"#30a2da\"},\"hatch_alpha\":{\"type\":\"value\",\"value\":0.2}}}}},{\"type\":\"object\",\"name\":\"Span\",\"id\":\"e1d843f1-1287-4442-a61d-59759ec6b19f\",\"attributes\":{\"level\":\"glyph\",\"location\":4.76190476190476,\"line_color\":\"red\",\"line_width\":3}},{\"type\":\"object\",\"name\":\"Span\",\"id\":\"3924dbbd-dfad-4330-923e-8b0f5c431463\",\"attributes\":{\"level\":\"glyph\",\"location\":7.14285714285714,\"line_color\":\"blue\",\"line_width\":3}},{\"type\":\"object\",\"name\":\"Span\",\"id\":\"b3949dde-9722-4b5d-a4c5-7fb36c30a601\",\"attributes\":{\"level\":\"glyph\",\"location\":2.38095238095238,\"line_color\":\"blue\",\"line_width\":3}}],\"toolbar\":{\"type\":\"object\",\"name\":\"Toolbar\",\"id\":\"2c9780cc-7b4b-4535-a677-d683905406c3\",\"attributes\":{\"tools\":[{\"type\":\"object\",\"name\":\"WheelZoomTool\",\"id\":\"1083d4fb-e5b4-4dd2-9c91-513563e25768\",\"attributes\":{\"tags\":[\"hv_created\"],\"renderers\":\"auto\",\"zoom_together\":\"none\"}},{\"type\":\"object\",\"name\":\"HoverTool\",\"id\":\"47ef4b87-2963-4c25-a6d9-7d7e58a00468\",\"attributes\":{\"tags\":[\"hv_created\"],\"renderers\":[{\"id\":\"1005098d-fe9e-4719-81be-3bbee41ae64c\"}],\"tooltips\":[[\"post_str_blast\",\"@{post_str_blast}\"],[\"percent\",\"@{percent}\"]]}},{\"type\":\"object\",\"name\":\"SaveTool\",\"id\":\"2d749d47-dbd8-497a-baa6-9dc279aa158f\"},{\"type\":\"object\",\"name\":\"PanTool\",\"id\":\"f9505c34-041c-46d0-a255-8c25c7b12005\"},{\"type\":\"object\",\"name\":\"BoxZoomTool\",\"id\":\"3973a777-cd1b-4d8d-93f5-f2f010603212\",\"attributes\":{\"dimensions\":\"both\",\"overlay\":{\"type\":\"object\",\"name\":\"BoxAnnotation\",\"id\":\"285d0cf7-600e-438f-b3df-ec3259bbe422\",\"attributes\":{\"syncable\":false,\"line_color\":\"black\",\"line_alpha\":1.0,\"line_width\":2,\"line_dash\":[4,4],\"fill_color\":\"lightgrey\",\"fill_alpha\":0.5,\"level\":\"overlay\",\"visible\":false,\"left\":{\"type\":\"number\",\"value\":\"nan\"},\"right\":{\"type\":\"number\",\"value\":\"nan\"},\"top\":{\"type\":\"number\",\"value\":\"nan\"},\"bottom\":{\"type\":\"number\",\"value\":\"nan\"},\"left_units\":\"canvas\",\"right_units\":\"canvas\",\"top_units\":\"canvas\",\"bottom_units\":\"canvas\",\"handles\":{\"type\":\"object\",\"name\":\"BoxInteractionHandles\",\"id\":\"bad07ff0-4cbe-4a0a-8a29-8f6c1b3fcbf0\",\"attributes\":{\"all\":{\"type\":\"object\",\"name\":\"AreaVisuals\",\"id\":\"0b5ee5ea-481a-45d9-bd23-e79eb5a09c1b\",\"attributes\":{\"fill_color\":\"white\",\"hover_fill_color\":\"lightgray\"}}}}}}}},{\"type\":\"object\",\"name\":\"ResetTool\",\"id\":\"fab24b3a-6fc6-4adb-96f5-6bf68ba27fa6\"}],\"active_drag\":{\"id\":\"f9505c34-041c-46d0-a255-8c25c7b12005\"}}},\"left\":[{\"type\":\"object\",\"name\":\"LinearAxis\",\"id\":\"17ed1b46-564c-4232-8c09-eaa84a120825\",\"attributes\":{\"ticker\":{\"type\":\"object\",\"name\":\"BasicTicker\",\"id\":\"886351e0-e99b-46e2-826e-18fce04623cd\",\"attributes\":{\"mantissas\":[1,2,5]}},\"formatter\":{\"type\":\"object\",\"name\":\"BasicTickFormatter\",\"id\":\"fcae2729-4521-4227-93e7-ffbbf08a2670\"},\"axis_label\":\"percent\",\"major_label_policy\":{\"type\":\"object\",\"name\":\"AllLabels\",\"id\":\"2134aa06-1920-4458-bdc5-9aa4ede9fc74\"}}}],\"below\":[{\"type\":\"object\",\"name\":\"CategoricalAxis\",\"id\":\"8b29064a-f0f7-4dea-94be-0f6c40127a8e\",\"attributes\":{\"ticker\":{\"type\":\"object\",\"name\":\"CategoricalTicker\",\"id\":\"ea6df62b-ad70-4fa7-833b-86566f70594c\"},\"formatter\":{\"type\":\"object\",\"name\":\"CategoricalTickFormatter\",\"id\":\"06b1a2e1-e6cd-4319-8b8e-f0eca8445e46\"},\"axis_label\":\"post_str_blast\",\"major_label_policy\":{\"type\":\"object\",\"name\":\"AllLabels\",\"id\":\"6845cdc0-2a01-496a-a930-091ef545cc1c\"}}}],\"center\":[{\"type\":\"object\",\"name\":\"Grid\",\"id\":\"c1dc1d26-1de2-4b95-94f8-98d81c70ed1d\",\"attributes\":{\"axis\":{\"id\":\"8b29064a-f0f7-4dea-94be-0f6c40127a8e\"},\"grid_line_color\":null}},{\"type\":\"object\",\"name\":\"Grid\",\"id\":\"38621870-6869-48e7-81c1-16640448a2de\",\"attributes\":{\"dimension\":1,\"axis\":{\"id\":\"17ed1b46-564c-4232-8c09-eaa84a120825\"},\"grid_line_color\":null}}],\"min_border_top\":10,\"min_border_bottom\":10,\"min_border_left\":10,\"min_border_right\":10,\"output_backend\":\"webgl\"}},{\"type\":\"object\",\"name\":\"Spacer\",\"id\":\"72511218-4605-42dc-94e3-6c9816325c7c\",\"attributes\":{\"name\":\"HSpacer00646\",\"stylesheets\":[\"\\n:host(.pn-loading):before, .pn-loading:before {\\n  background-color: #c3c3c3;\\n  mask-size: auto calc(min(50%, 400px));\\n  -webkit-mask-size: auto calc(min(50%, 400px));\\n}\",{\"id\":\"05d77263-a459-4417-a8fd-d965e0078ed8\"},{\"id\":\"e6078d42-15d3-4901-844d-4fcac3492d65\"},{\"id\":\"b5072420-c9ad-4529-b20f-a0d215850547\"}],\"margin\":0,\"sizing_mode\":\"stretch_width\",\"align\":\"start\"}}]}}],\"defs\":[{\"type\":\"model\",\"name\":\"ReactiveHTML1\"},{\"type\":\"model\",\"name\":\"FlexBox1\",\"properties\":[{\"name\":\"align_content\",\"kind\":\"Any\",\"default\":\"flex-start\"},{\"name\":\"align_items\",\"kind\":\"Any\",\"default\":\"flex-start\"},{\"name\":\"flex_direction\",\"kind\":\"Any\",\"default\":\"row\"},{\"name\":\"flex_wrap\",\"kind\":\"Any\",\"default\":\"wrap\"},{\"name\":\"gap\",\"kind\":\"Any\",\"default\":\"\"},{\"name\":\"justify_content\",\"kind\":\"Any\",\"default\":\"flex-start\"}]},{\"type\":\"model\",\"name\":\"FloatPanel1\",\"properties\":[{\"name\":\"config\",\"kind\":\"Any\",\"default\":{\"type\":\"map\"}},{\"name\":\"contained\",\"kind\":\"Any\",\"default\":true},{\"name\":\"position\",\"kind\":\"Any\",\"default\":\"right-top\"},{\"name\":\"offsetx\",\"kind\":\"Any\",\"default\":null},{\"name\":\"offsety\",\"kind\":\"Any\",\"default\":null},{\"name\":\"theme\",\"kind\":\"Any\",\"default\":\"primary\"},{\"name\":\"status\",\"kind\":\"Any\",\"default\":\"normalized\"}]},{\"type\":\"model\",\"name\":\"GridStack1\",\"properties\":[{\"name\":\"ncols\",\"kind\":\"Any\",\"default\":null},{\"name\":\"nrows\",\"kind\":\"Any\",\"default\":null},{\"name\":\"allow_resize\",\"kind\":\"Any\",\"default\":true},{\"name\":\"allow_drag\",\"kind\":\"Any\",\"default\":true},{\"name\":\"state\",\"kind\":\"Any\",\"default\":[]}]},{\"type\":\"model\",\"name\":\"drag1\",\"properties\":[{\"name\":\"slider_width\",\"kind\":\"Any\",\"default\":5},{\"name\":\"slider_color\",\"kind\":\"Any\",\"default\":\"black\"},{\"name\":\"value\",\"kind\":\"Any\",\"default\":50}]},{\"type\":\"model\",\"name\":\"click1\",\"properties\":[{\"name\":\"terminal_output\",\"kind\":\"Any\",\"default\":\"\"},{\"name\":\"debug_name\",\"kind\":\"Any\",\"default\":\"\"},{\"name\":\"clears\",\"kind\":\"Any\",\"default\":0}]},{\"type\":\"model\",\"name\":\"FastWrapper1\",\"properties\":[{\"name\":\"object\",\"kind\":\"Any\",\"default\":null},{\"name\":\"style\",\"kind\":\"Any\",\"default\":null}]},{\"type\":\"model\",\"name\":\"NotificationArea1\",\"properties\":[{\"name\":\"js_events\",\"kind\":\"Any\",\"default\":{\"type\":\"map\"}},{\"name\":\"max_notifications\",\"kind\":\"Any\",\"default\":5},{\"name\":\"notifications\",\"kind\":\"Any\",\"default\":[]},{\"name\":\"position\",\"kind\":\"Any\",\"default\":\"bottom-right\"},{\"name\":\"_clear\",\"kind\":\"Any\",\"default\":0},{\"name\":\"types\",\"kind\":\"Any\",\"default\":[{\"type\":\"map\",\"entries\":[[\"type\",\"warning\"],[\"background\",\"#ffc107\"],[\"icon\",{\"type\":\"map\",\"entries\":[[\"className\",\"fas fa-exclamation-triangle\"],[\"tagName\",\"i\"],[\"color\",\"white\"]]}]]},{\"type\":\"map\",\"entries\":[[\"type\",\"info\"],[\"background\",\"#007bff\"],[\"icon\",{\"type\":\"map\",\"entries\":[[\"className\",\"fas fa-info-circle\"],[\"tagName\",\"i\"],[\"color\",\"white\"]]}]]}]}]},{\"type\":\"model\",\"name\":\"Notification\",\"properties\":[{\"name\":\"background\",\"kind\":\"Any\",\"default\":null},{\"name\":\"duration\",\"kind\":\"Any\",\"default\":3000},{\"name\":\"icon\",\"kind\":\"Any\",\"default\":null},{\"name\":\"message\",\"kind\":\"Any\",\"default\":\"\"},{\"name\":\"notification_type\",\"kind\":\"Any\",\"default\":null},{\"name\":\"_rendered\",\"kind\":\"Any\",\"default\":false},{\"name\":\"_destroyed\",\"kind\":\"Any\",\"default\":false}]},{\"type\":\"model\",\"name\":\"TemplateActions1\",\"properties\":[{\"name\":\"open_modal\",\"kind\":\"Any\",\"default\":0},{\"name\":\"close_modal\",\"kind\":\"Any\",\"default\":0}]},{\"type\":\"model\",\"name\":\"BootstrapTemplateActions1\",\"properties\":[{\"name\":\"open_modal\",\"kind\":\"Any\",\"default\":0},{\"name\":\"close_modal\",\"kind\":\"Any\",\"default\":0}]},{\"type\":\"model\",\"name\":\"TemplateEditor1\",\"properties\":[{\"name\":\"layout\",\"kind\":\"Any\",\"default\":[]}]},{\"type\":\"model\",\"name\":\"MaterialTemplateActions1\",\"properties\":[{\"name\":\"open_modal\",\"kind\":\"Any\",\"default\":0},{\"name\":\"close_modal\",\"kind\":\"Any\",\"default\":0}]},{\"type\":\"model\",\"name\":\"ReactiveESM1\",\"properties\":[{\"name\":\"esm_constants\",\"kind\":\"Any\",\"default\":{\"type\":\"map\"}}]},{\"type\":\"model\",\"name\":\"JSComponent1\",\"properties\":[{\"name\":\"esm_constants\",\"kind\":\"Any\",\"default\":{\"type\":\"map\"}}]},{\"type\":\"model\",\"name\":\"ReactComponent1\",\"properties\":[{\"name\":\"esm_constants\",\"kind\":\"Any\",\"default\":{\"type\":\"map\"}}]},{\"type\":\"model\",\"name\":\"AnyWidgetComponent1\",\"properties\":[{\"name\":\"esm_constants\",\"kind\":\"Any\",\"default\":{\"type\":\"map\"}}]},{\"type\":\"model\",\"name\":\"request_value1\",\"properties\":[{\"name\":\"fill\",\"kind\":\"Any\",\"default\":\"none\"},{\"name\":\"_synced\",\"kind\":\"Any\",\"default\":null},{\"name\":\"_request_sync\",\"kind\":\"Any\",\"default\":0}]}]}};\n",
       "  var render_items = [{\"docid\":\"9a60dc14-a9d2-4a00-a6fb-74886f79eaba\",\"roots\":{\"6eaadafc-a5c2-4524-8423-ae0df7e12299\":\"ca72c8c8-9fa0-45e9-8dba-e8e347e0e12e\"},\"root_ids\":[\"6eaadafc-a5c2-4524-8423-ae0df7e12299\"]}];\n",
       "  var docs = Object.values(docs_json)\n",
       "  if (!docs) {\n",
       "    return\n",
       "  }\n",
       "  const py_version = docs[0].version.replace('rc', '-rc.').replace('.dev', '-dev.')\n",
       "  async function embed_document(root) {\n",
       "    var Bokeh = get_bokeh(root)\n",
       "    await Bokeh.embed.embed_items_notebook(docs_json, render_items);\n",
       "    for (const render_item of render_items) {\n",
       "      for (const root_id of render_item.root_ids) {\n",
       "\tconst id_el = document.getElementById(root_id)\n",
       "\tif (id_el.children.length && id_el.children[0].hasAttribute('data-root-id')) {\n",
       "\t  const root_el = id_el.children[0]\n",
       "\t  root_el.id = root_el.id + '-rendered'\n",
       "\t  for (const child of root_el.children) {\n",
       "            // Ensure JupyterLab does not capture keyboard shortcuts\n",
       "            // see: https://jupyterlab.readthedocs.io/en/4.1.x/extension/notebook.html#keyboard-interaction-model\n",
       "\t    child.setAttribute('data-lm-suppress-shortcuts', 'true')\n",
       "\t  }\n",
       "\t}\n",
       "      }\n",
       "    }\n",
       "  }\n",
       "  function get_bokeh(root) {\n",
       "    if (root.Bokeh === undefined) {\n",
       "      return null\n",
       "    } else if (root.Bokeh.version !== py_version) {\n",
       "      if (root.Bokeh.versions === undefined || !root.Bokeh.versions.has(py_version)) {\n",
       "\treturn null\n",
       "      }\n",
       "      return root.Bokeh.versions.get(py_version);\n",
       "    } else if (root.Bokeh.version === py_version) {\n",
       "      return root.Bokeh\n",
       "    }\n",
       "    return null\n",
       "  }\n",
       "  function is_loaded(root) {\n",
       "    var Bokeh = get_bokeh(root)\n",
       "    return (Bokeh != null && Bokeh.Panel !== undefined)\n",
       "  }\n",
       "  if (is_loaded(root)) {\n",
       "    embed_document(root);\n",
       "  } else {\n",
       "    var attempts = 0;\n",
       "    var timer = setInterval(function(root) {\n",
       "      if (is_loaded(root)) {\n",
       "        clearInterval(timer);\n",
       "        embed_document(root);\n",
       "      } else if (document.readyState == \"complete\") {\n",
       "        attempts++;\n",
       "        if (attempts > 200) {\n",
       "          clearInterval(timer);\n",
       "\t  var Bokeh = get_bokeh(root)\n",
       "\t  if (Bokeh == null || Bokeh.Panel == null) {\n",
       "            console.warn(\"Panel: ERROR: Unable to run Panel code because Bokeh or Panel library is missing\");\n",
       "\t  } else {\n",
       "\t    console.warn(\"Panel: WARNING: Attempting to render but not all required libraries could be resolved.\")\n",
       "\t    embed_document(root)\n",
       "\t  }\n",
       "        }\n",
       "      }\n",
       "    }, 25, root)\n",
       "  }\n",
       "})(window);</script>"
      ],
      "text/plain": [
       ":Overlay\n",
       "   .Bars.I    :Bars   [post_str_blast]   (percent)\n",
       "   .HLine.I   :HLine   [x,y]\n",
       "   .HLine.II  :HLine   [x,y]\n",
       "   .HLine.III :HLine   [x,y]"
      ]
     },
     "metadata": {
      "application/vnd.holoviews_exec.v0+json": {
       "id": "6eaadafc-a5c2-4524-8423-ae0df7e12299"
      }
     },
     "output_type": "display_data"
    },
    {
     "name": "stdout",
     "output_type": "stream",
     "text": [
      "df_10_last FOR str_b6 = 31\n",
      "Last 3 results last_results=['47', '48']\n"
     ]
    },
    {
     "data": {
      "text/html": [
       "<div><style>\n",
       ".dataframe > thead > tr,\n",
       ".dataframe > tbody > tr {\n",
       "  text-align: right;\n",
       "  white-space: pre-wrap;\n",
       "}\n",
       "</style>\n",
       "<small>shape: (10, 30)</small><table border=\"1\" class=\"dataframe\"><thead><tr><th>fecha</th><th>sorteo</th><th>bolillas</th><th>yapa</th><th>adicionales</th><th>sorteo_extra</th><th>id</th><th>combo</th><th>b1</th><th>b2</th><th>b3</th><th>b4</th><th>b5</th><th>b6</th><th>str_b1</th><th>str_b2</th><th>str_b3</th><th>str_b4</th><th>str_b5</th><th>str_b6</th><th>post_str_b1</th><th>post_str_b2</th><th>post_str_b3</th><th>post_str_b4</th><th>post_str_b5</th><th>post_str_blast</th><th>is_rare_combination</th><th>reason</th><th>jumps_map</th><th>unijump</th></tr><tr><td>str</td><td>str</td><td>str</td><td>str</td><td>str</td><td>str</td><td>str</td><td>array[u8, 6]</td><td>u8</td><td>u8</td><td>u8</td><td>u8</td><td>u8</td><td>u8</td><td>str</td><td>str</td><td>str</td><td>str</td><td>str</td><td>str</td><td>str</td><td>str</td><td>str</td><td>str</td><td>str</td><td>str</td><td>bool</td><td>u8</td><td>str</td><td>i64</td></tr></thead><tbody><tr><td>&quot;13/10/2024&quot;</td><td>&quot;1133&quot;</td><td>&quot;31 17 28 09 21 05&quot;</td><td>&quot;08&quot;</td><td>&quot;22 27&quot;</td><td>&quot;Promoción Sí o Sí&quot;</td><td>&quot;050917212831&quot;</td><td>[5, 9, … 31]</td><td>5</td><td>9</td><td>17</td><td>21</td><td>28</td><td>31</td><td>&quot;05&quot;</td><td>&quot;09&quot;</td><td>&quot;17&quot;</td><td>&quot;21&quot;</td><td>&quot;28&quot;</td><td>&quot;31&quot;</td><td>&quot;08&quot;</td><td>&quot;10&quot;</td><td>&quot;12&quot;</td><td>&quot;29&quot;</td><td>&quot;31&quot;</td><td>&quot;47&quot;</td><td>false</td><td>0</td><td>&quot;04_08_04_07_03&quot;</td><td>-29</td></tr><tr><td>&quot;20/03/2024&quot;</td><td>&quot;1074&quot;</td><td>&quot;22 08 31 11 10 21&quot;</td><td>&quot;06&quot;</td><td>&quot;16 43&quot;</td><td>&quot;Promoción Sí o Sí&quot;</td><td>&quot;081011212231&quot;</td><td>[8, 10, … 31]</td><td>8</td><td>10</td><td>11</td><td>21</td><td>22</td><td>31</td><td>&quot;08&quot;</td><td>&quot;10&quot;</td><td>&quot;11&quot;</td><td>&quot;21&quot;</td><td>&quot;22&quot;</td><td>&quot;31&quot;</td><td>&quot;09&quot;</td><td>&quot;21&quot;</td><td>&quot;25&quot;</td><td>&quot;28&quot;</td><td>&quot;32&quot;</td><td>&quot;48&quot;</td><td>false</td><td>0</td><td>&quot;02_01_10_01_09&quot;</td><td>63</td></tr><tr><td>&quot;19/11/2023&quot;</td><td>&quot;1039&quot;</td><td>&quot;08 23 21 31 19 20&quot;</td><td>&quot;16&quot;</td><td>&quot;28 33&quot;</td><td>&quot;Promoción Sí o Sí&quot;</td><td>&quot;081920212331&quot;</td><td>[8, 19, … 31]</td><td>8</td><td>19</td><td>20</td><td>21</td><td>23</td><td>31</td><td>&quot;08&quot;</td><td>&quot;19&quot;</td><td>&quot;20&quot;</td><td>&quot;21&quot;</td><td>&quot;23&quot;</td><td>&quot;31&quot;</td><td>&quot;09&quot;</td><td>&quot;22&quot;</td><td>&quot;23&quot;</td><td>&quot;29&quot;</td><td>&quot;43&quot;</td><td>&quot;48&quot;</td><td>true</td><td>8</td><td>&quot;11_01_01_02_08&quot;</td><td>13</td></tr><tr><td>&quot;27/07/2022&quot;</td><td>&quot;0902&quot;</td><td>&quot;11 29 06 02 31 27&quot;</td><td>&quot;33&quot;</td><td>&quot;25 37&quot;</td><td>&quot;Promoción Sí o Sí&quot;</td><td>&quot;020611272931&quot;</td><td>[2, 6, … 31]</td><td>2</td><td>6</td><td>11</td><td>27</td><td>29</td><td>31</td><td>&quot;02&quot;</td><td>&quot;06&quot;</td><td>&quot;11&quot;</td><td>&quot;27&quot;</td><td>&quot;29&quot;</td><td>&quot;31&quot;</td><td>&quot;12&quot;</td><td>&quot;19&quot;</td><td>&quot;20&quot;</td><td>&quot;23&quot;</td><td>&quot;25&quot;</td><td>&quot;41&quot;</td><td>true</td><td>9</td><td>&quot;04_05_16_02_02&quot;</td><td>74</td></tr><tr><td>&quot;24/07/2022&quot;</td><td>&quot;0901&quot;</td><td>&quot;07 23 04 12 03 31&quot;</td><td>&quot;22&quot;</td><td>&quot;41&quot;</td><td>&quot;Promoción Sí o Sí&quot;</td><td>&quot;030407122331&quot;</td><td>[3, 4, … 31]</td><td>3</td><td>4</td><td>7</td><td>12</td><td>23</td><td>31</td><td>&quot;03&quot;</td><td>&quot;04&quot;</td><td>&quot;07&quot;</td><td>&quot;12&quot;</td><td>&quot;23&quot;</td><td>&quot;31&quot;</td><td>&quot;02&quot;</td><td>&quot;06&quot;</td><td>&quot;11&quot;</td><td>&quot;27&quot;</td><td>&quot;29&quot;</td><td>&quot;31&quot;</td><td>true</td><td>1</td><td>&quot;01_03_05_11_08&quot;</td><td>-17</td></tr><tr><td>&quot;06/04/2022&quot;</td><td>&quot;0870&quot;</td><td>&quot;31 10 13 05 15 18&quot;</td><td>&quot;43&quot;</td><td>&quot;38 28&quot;</td><td>&quot;Promoción Sí o Sí&quot;</td><td>&quot;051013151831&quot;</td><td>[5, 10, … 31]</td><td>5</td><td>10</td><td>13</td><td>15</td><td>18</td><td>31</td><td>&quot;05&quot;</td><td>&quot;10&quot;</td><td>&quot;13&quot;</td><td>&quot;15&quot;</td><td>&quot;18&quot;</td><td>&quot;31&quot;</td><td>&quot;10&quot;</td><td>&quot;19&quot;</td><td>&quot;25&quot;</td><td>&quot;32&quot;</td><td>&quot;35&quot;</td><td>&quot;42&quot;</td><td>true</td><td>16</td><td>&quot;05_03_02_03_13&quot;</td><td>6</td></tr><tr><td>&quot;21/04/2021&quot;</td><td>&quot;0770&quot;</td><td>&quot;16 12 31 24 20 28&quot;</td><td>&quot;40&quot;</td><td>&quot;&quot;</td><td>&quot;&quot;</td><td>&quot;121620242831&quot;</td><td>[12, 16, … 31]</td><td>12</td><td>16</td><td>20</td><td>24</td><td>28</td><td>31</td><td>&quot;12&quot;</td><td>&quot;16&quot;</td><td>&quot;20&quot;</td><td>&quot;24&quot;</td><td>&quot;28&quot;</td><td>&quot;31&quot;</td><td>&quot;23&quot;</td><td>&quot;26&quot;</td><td>&quot;30&quot;</td><td>&quot;33&quot;</td><td>&quot;39&quot;</td><td>&quot;41&quot;</td><td>true</td><td>8</td><td>&quot;04_04_04_04_03&quot;</td><td>-1</td></tr><tr><td>&quot;09/12/2020&quot;</td><td>&quot;0732&quot;</td><td>&quot;07 10 30 31 27 15&quot;</td><td>&quot;05&quot;</td><td>&quot;&quot;</td><td>&quot;&quot;</td><td>&quot;071015273031&quot;</td><td>[7, 10, … 31]</td><td>7</td><td>10</td><td>15</td><td>27</td><td>30</td><td>31</td><td>&quot;07&quot;</td><td>&quot;10&quot;</td><td>&quot;15&quot;</td><td>&quot;27&quot;</td><td>&quot;30&quot;</td><td>&quot;31&quot;</td><td>&quot;02&quot;</td><td>&quot;13&quot;</td><td>&quot;23&quot;</td><td>&quot;24&quot;</td><td>&quot;25&quot;</td><td>&quot;34&quot;</td><td>false</td><td>0</td><td>&quot;03_05_12_03_01&quot;</td><td>44</td></tr><tr><td>&quot;02/12/2018&quot;</td><td>&quot;0554&quot;</td><td>&quot;18 23 01 31 03 27&quot;</td><td>&quot;33&quot;</td><td>&quot;&quot;</td><td>&quot;&quot;</td><td>&quot;010318232731&quot;</td><td>[1, 3, … 31]</td><td>1</td><td>3</td><td>18</td><td>23</td><td>27</td><td>31</td><td>&quot;01&quot;</td><td>&quot;03&quot;</td><td>&quot;18&quot;</td><td>&quot;23&quot;</td><td>&quot;27&quot;</td><td>&quot;31&quot;</td><td>&quot;03&quot;</td><td>&quot;09&quot;</td><td>&quot;14&quot;</td><td>&quot;24&quot;</td><td>&quot;29&quot;</td><td>&quot;45&quot;</td><td>true</td><td>8</td><td>&quot;02_15_05_04_04&quot;</td><td>-40</td></tr><tr><td>&quot;02/09/2018&quot;</td><td>&quot;0528&quot;</td><td>&quot;16 31 17 09 02 29&quot;</td><td>&quot;36&quot;</td><td>&quot;&quot;</td><td>&quot;&quot;</td><td>&quot;020916172931&quot;</td><td>[2, 9, … 31]</td><td>2</td><td>9</td><td>16</td><td>17</td><td>29</td><td>31</td><td>&quot;02&quot;</td><td>&quot;09&quot;</td><td>&quot;16&quot;</td><td>&quot;17&quot;</td><td>&quot;29&quot;</td><td>&quot;31&quot;</td><td>&quot;05&quot;</td><td>&quot;16&quot;</td><td>&quot;22&quot;</td><td>&quot;30&quot;</td><td>&quot;33&quot;</td><td>&quot;34&quot;</td><td>true</td><td>9</td><td>&quot;07_07_01_12_02&quot;</td><td>-61</td></tr></tbody></table></div>"
      ],
      "text/plain": [
       "shape: (10, 30)\n",
       "┌────────────┬────────┬───────────────┬──────┬───┬───────────────┬────────┬──────────────┬─────────┐\n",
       "│ fecha      ┆ sorteo ┆ bolillas      ┆ yapa ┆ … ┆ is_rare_combi ┆ reason ┆ jumps_map    ┆ unijump │\n",
       "│ ---        ┆ ---    ┆ ---           ┆ ---  ┆   ┆ nation        ┆ ---    ┆ ---          ┆ ---     │\n",
       "│ str        ┆ str    ┆ str           ┆ str  ┆   ┆ ---           ┆ u8     ┆ str          ┆ i64     │\n",
       "│            ┆        ┆               ┆      ┆   ┆ bool          ┆        ┆              ┆         │\n",
       "╞════════════╪════════╪═══════════════╪══════╪═══╪═══════════════╪════════╪══════════════╪═════════╡\n",
       "│ 13/10/2024 ┆ 1133   ┆ 31 17 28 09   ┆ 08   ┆ … ┆ false         ┆ 0      ┆ 04_08_04_07_ ┆ -29     │\n",
       "│            ┆        ┆ 21 05         ┆      ┆   ┆               ┆        ┆ 03           ┆         │\n",
       "│ 20/03/2024 ┆ 1074   ┆ 22 08 31 11   ┆ 06   ┆ … ┆ false         ┆ 0      ┆ 02_01_10_01_ ┆ 63      │\n",
       "│            ┆        ┆ 10 21         ┆      ┆   ┆               ┆        ┆ 09           ┆         │\n",
       "│ 19/11/2023 ┆ 1039   ┆ 08 23 21 31   ┆ 16   ┆ … ┆ true          ┆ 8      ┆ 11_01_01_02_ ┆ 13      │\n",
       "│            ┆        ┆ 19 20         ┆      ┆   ┆               ┆        ┆ 08           ┆         │\n",
       "│ 27/07/2022 ┆ 0902   ┆ 11 29 06 02   ┆ 33   ┆ … ┆ true          ┆ 9      ┆ 04_05_16_02_ ┆ 74      │\n",
       "│            ┆        ┆ 31 27         ┆      ┆   ┆               ┆        ┆ 02           ┆         │\n",
       "│ 24/07/2022 ┆ 0901   ┆ 07 23 04 12   ┆ 22   ┆ … ┆ true          ┆ 1      ┆ 01_03_05_11_ ┆ -17     │\n",
       "│            ┆        ┆ 03 31         ┆      ┆   ┆               ┆        ┆ 08           ┆         │\n",
       "│ 06/04/2022 ┆ 0870   ┆ 31 10 13 05   ┆ 43   ┆ … ┆ true          ┆ 16     ┆ 05_03_02_03_ ┆ 6       │\n",
       "│            ┆        ┆ 15 18         ┆      ┆   ┆               ┆        ┆ 13           ┆         │\n",
       "│ 21/04/2021 ┆ 0770   ┆ 16 12 31 24   ┆ 40   ┆ … ┆ true          ┆ 8      ┆ 04_04_04_04_ ┆ -1      │\n",
       "│            ┆        ┆ 20 28         ┆      ┆   ┆               ┆        ┆ 03           ┆         │\n",
       "│ 09/12/2020 ┆ 0732   ┆ 07 10 30 31   ┆ 05   ┆ … ┆ false         ┆ 0      ┆ 03_05_12_03_ ┆ 44      │\n",
       "│            ┆        ┆ 27 15         ┆      ┆   ┆               ┆        ┆ 01           ┆         │\n",
       "│ 02/12/2018 ┆ 0554   ┆ 18 23 01 31   ┆ 33   ┆ … ┆ true          ┆ 8      ┆ 02_15_05_04_ ┆ -40     │\n",
       "│            ┆        ┆ 03 27         ┆      ┆   ┆               ┆        ┆ 04           ┆         │\n",
       "│ 02/09/2018 ┆ 0528   ┆ 16 31 17 09   ┆ 36   ┆ … ┆ true          ┆ 9      ┆ 07_07_01_12_ ┆ -61     │\n",
       "│            ┆        ┆ 02 29         ┆      ┆   ┆               ┆        ┆ 02           ┆         │\n",
       "└────────────┴────────┴───────────────┴──────┴───┴───────────────┴────────┴──────────────┴─────────┘"
      ]
     },
     "metadata": {},
     "output_type": "display_data"
    },
    {
     "name": "stdout",
     "output_type": "stream",
     "text": [
      "df_jumps_map FOR str_b6 = 31\n"
     ]
    },
    {
     "data": {
      "text/html": [
       "<div><style>\n",
       ".dataframe > thead > tr,\n",
       ".dataframe > tbody > tr {\n",
       "  text-align: right;\n",
       "  white-space: pre-wrap;\n",
       "}\n",
       "</style>\n",
       "<small>shape: (57, 2)</small><table border=\"1\" class=\"dataframe\"><thead><tr><th>jumps_map</th><th>count</th></tr><tr><td>str</td><td>u32</td></tr></thead><tbody><tr><td>&quot;01_02_08_01_06&quot;</td><td>1</td></tr><tr><td>&quot;08_11_01_02_04&quot;</td><td>1</td></tr><tr><td>&quot;02_01_10_01_09&quot;</td><td>1</td></tr><tr><td>&quot;15_07_02_03_02&quot;</td><td>1</td></tr><tr><td>&quot;04_01_07_10_02&quot;</td><td>1</td></tr><tr><td>&hellip;</td><td>&hellip;</td></tr><tr><td>&quot;04_06_04_02_13&quot;</td><td>1</td></tr><tr><td>&quot;04_07_04_06_01&quot;</td><td>1</td></tr><tr><td>&quot;04_03_14_05_01&quot;</td><td>1</td></tr><tr><td>&quot;07_11_01_02_09&quot;</td><td>1</td></tr><tr><td>&quot;02_12_12_02_01&quot;</td><td>1</td></tr></tbody></table></div>"
      ],
      "text/plain": [
       "shape: (57, 2)\n",
       "┌────────────────┬───────┐\n",
       "│ jumps_map      ┆ count │\n",
       "│ ---            ┆ ---   │\n",
       "│ str            ┆ u32   │\n",
       "╞════════════════╪═══════╡\n",
       "│ 01_02_08_01_06 ┆ 1     │\n",
       "│ 08_11_01_02_04 ┆ 1     │\n",
       "│ 02_01_10_01_09 ┆ 1     │\n",
       "│ 15_07_02_03_02 ┆ 1     │\n",
       "│ 04_01_07_10_02 ┆ 1     │\n",
       "│ …              ┆ …     │\n",
       "│ 04_06_04_02_13 ┆ 1     │\n",
       "│ 04_07_04_06_01 ┆ 1     │\n",
       "│ 04_03_14_05_01 ┆ 1     │\n",
       "│ 07_11_01_02_09 ┆ 1     │\n",
       "│ 02_12_12_02_01 ┆ 1     │\n",
       "└────────────────┴───────┘"
      ]
     },
     "metadata": {},
     "output_type": "display_data"
    },
    {
     "name": "stdout",
     "output_type": "stream",
     "text": [
      "df_unijump FOR str_b6 = 31\n"
     ]
    },
    {
     "data": {
      "text/html": [
       "<div><style>\n",
       ".dataframe > thead > tr,\n",
       ".dataframe > tbody > tr {\n",
       "  text-align: right;\n",
       "  white-space: pre-wrap;\n",
       "}\n",
       "</style>\n",
       "<small>shape: (46, 2)</small><table border=\"1\" class=\"dataframe\"><thead><tr><th>unijump</th><th>count</th></tr><tr><td>i64</td><td>u32</td></tr></thead><tbody><tr><td>-30</td><td>3</td></tr><tr><td>-9</td><td>2</td></tr><tr><td>-38</td><td>2</td></tr><tr><td>4</td><td>2</td></tr><tr><td>-5</td><td>2</td></tr><tr><td>&hellip;</td><td>&hellip;</td></tr><tr><td>-40</td><td>1</td></tr><tr><td>9</td><td>1</td></tr><tr><td>-41</td><td>1</td></tr><tr><td>-87</td><td>1</td></tr><tr><td>-35</td><td>1</td></tr></tbody></table></div>"
      ],
      "text/plain": [
       "shape: (46, 2)\n",
       "┌─────────┬───────┐\n",
       "│ unijump ┆ count │\n",
       "│ ---     ┆ ---   │\n",
       "│ i64     ┆ u32   │\n",
       "╞═════════╪═══════╡\n",
       "│ -30     ┆ 3     │\n",
       "│ -9      ┆ 2     │\n",
       "│ -38     ┆ 2     │\n",
       "│ 4       ┆ 2     │\n",
       "│ -5      ┆ 2     │\n",
       "│ …       ┆ …     │\n",
       "│ -40     ┆ 1     │\n",
       "│ 9       ┆ 1     │\n",
       "│ -41     ┆ 1     │\n",
       "│ -87     ┆ 1     │\n",
       "│ -35     ┆ 1     │\n",
       "└─────────┴───────┘"
      ]
     },
     "metadata": {},
     "output_type": "display_data"
    }
   ],
   "source": [
    "possible_blast, exclude_jump_maps_blast, last_post_blast = plot_post_col(col='str_b6', post_col='post_str_blast')"
   ]
  },
  {
   "cell_type": "code",
   "execution_count": 13,
   "metadata": {},
   "outputs": [],
   "source": [
    "b_count = rr.CHOOSE\n",
    "min_b = rr.MIN_B_VALUES[0]\n",
    "max_b = rr.MAX_B_VALUES[-1]\n",
    "\n",
    "\n",
    "combos = combinations(range(min_b, max_b + 1), b_count)\n",
    "# print(\"generating combos: \", len(list(combos)))"
   ]
  },
  {
   "cell_type": "code",
   "execution_count": 14,
   "metadata": {},
   "outputs": [],
   "source": [
    "parquet_file = './parquet_tnk_v3.parquet'\n",
    "\n",
    "# check if parquet_file exists\n",
    "if not os.path.exists(parquet_file):\n",
    "  print(f'{parquet_file=} does not exists. creating')\n",
    "  lst = []\n",
    "  post_str_b1 = None\n",
    "  post_str_blast = None\n",
    "  for row in combos:\n",
    "    cols = []\n",
    "    str_row = \" \".join([str(r).zfill(2) for r in row])\n",
    "    id, bolillas_int, str_combo = formalize_data_with_str(bolillas_str=str_row)\n",
    "    cols.append(id)\n",
    "    cols.append(bolillas_int)\n",
    "    cols.extend([b for b in bolillas_int])\n",
    "    cols.extend(str_combo)\n",
    "    cols.append(post_str_b1)\n",
    "    cols.append(post_str_blast)\n",
    "\n",
    "    is_rare, reason = rr.is_rare_combination(bolillas_int, id)\n",
    "    cols.append(is_rare)\n",
    "    cols.append(reason)\n",
    "\n",
    "    cols.append(rr.jumps_map(bolillas_int))\n",
    "    cols.append(rr.unijump(bolillas_int))\n",
    "    \n",
    "    lst.append(cols)\n",
    "\n",
    "    post_str_b1 = str_combo[0]\n",
    "    post_str_blast = str_combo[-1]\n",
    "\n",
    "  df_Orows = pl.DataFrame(\n",
    "    lst,\n",
    "    schema=[\n",
    "      # 'fecha', 'sorteo', 'bolillas',\n",
    "      'id', 'combo', 'b1', 'b2', 'b3', 'b4', 'b5', 'b6',\n",
    "      'str_b1', 'str_b2', 'str_b3', 'str_b4', 'str_b5', 'str_b6',\n",
    "      'post_str_b1', 'post_str_blast',\n",
    "      'is_rare_combination', 'reason',\n",
    "      \"jumps_map\", \"unijump\"\n",
    "    ],\n",
    "    schema_overrides={\n",
    "      'combo': pl.Array(pl.UInt8, 6),\n",
    "      'b1': pl.UInt8,\n",
    "      'b2': pl.UInt8,\n",
    "      'b3': pl.UInt8,\n",
    "      'b4': pl.UInt8,\n",
    "      'b5': pl.UInt8,\n",
    "      'b6': pl.UInt8,\n",
    "      'reason': pl.UInt8\n",
    "    },\n",
    "    orient='row'\n",
    "  )\n",
    "\n",
    "  df_Orows.write_parquet(parquet_file)\n",
    "  TOTAL_LINES = len(df_Orows)\n",
    "  print(f'{TOTAL_LINES=} loaded to {parquet_file=}')\n",
    "\n",
    "  display(df_Orows.head(10))\n",
    "else:\n",
    "  df_Orows = pl.read_parquet(parquet_file)"
   ]
  },
  {
   "cell_type": "code",
   "execution_count": 28,
   "metadata": {},
   "outputs": [
    {
     "data": {
      "text/html": [
       "<div><style>\n",
       ".dataframe > thead > tr,\n",
       ".dataframe > tbody > tr {\n",
       "  text-align: right;\n",
       "  white-space: pre-wrap;\n",
       "}\n",
       "</style>\n",
       "<small>shape: (606_668, 20)</small><table border=\"1\" class=\"dataframe\"><thead><tr><th>id</th><th>combo</th><th>b1</th><th>b2</th><th>b3</th><th>b4</th><th>b5</th><th>b6</th><th>str_b1</th><th>str_b2</th><th>str_b3</th><th>str_b4</th><th>str_b5</th><th>str_b6</th><th>post_str_b1</th><th>post_str_blast</th><th>is_rare_combination</th><th>reason</th><th>jumps_map</th><th>unijump</th></tr><tr><td>str</td><td>array[u8, 6]</td><td>u8</td><td>u8</td><td>u8</td><td>u8</td><td>u8</td><td>u8</td><td>str</td><td>str</td><td>str</td><td>str</td><td>str</td><td>str</td><td>str</td><td>str</td><td>bool</td><td>u8</td><td>str</td><td>i64</td></tr></thead><tbody><tr><td>&quot;101113262835&quot;</td><td>[10, 11, … 35]</td><td>10</td><td>11</td><td>13</td><td>26</td><td>28</td><td>35</td><td>&quot;10&quot;</td><td>&quot;11&quot;</td><td>&quot;13&quot;</td><td>&quot;26&quot;</td><td>&quot;28&quot;</td><td>&quot;35&quot;</td><td>&quot;10&quot;</td><td>&quot;34&quot;</td><td>false</td><td>0</td><td>&quot;01_02_13_02_07&quot;</td><td>70</td></tr><tr><td>&quot;101113262836&quot;</td><td>[10, 11, … 36]</td><td>10</td><td>11</td><td>13</td><td>26</td><td>28</td><td>36</td><td>&quot;10&quot;</td><td>&quot;11&quot;</td><td>&quot;13&quot;</td><td>&quot;26&quot;</td><td>&quot;28&quot;</td><td>&quot;36&quot;</td><td>&quot;10&quot;</td><td>&quot;35&quot;</td><td>false</td><td>0</td><td>&quot;01_02_13_02_08&quot;</td><td>71</td></tr><tr><td>&quot;101113262837&quot;</td><td>[10, 11, … 37]</td><td>10</td><td>11</td><td>13</td><td>26</td><td>28</td><td>37</td><td>&quot;10&quot;</td><td>&quot;11&quot;</td><td>&quot;13&quot;</td><td>&quot;26&quot;</td><td>&quot;28&quot;</td><td>&quot;37&quot;</td><td>&quot;10&quot;</td><td>&quot;36&quot;</td><td>false</td><td>0</td><td>&quot;01_02_13_02_09&quot;</td><td>72</td></tr><tr><td>&quot;101113262838&quot;</td><td>[10, 11, … 38]</td><td>10</td><td>11</td><td>13</td><td>26</td><td>28</td><td>38</td><td>&quot;10&quot;</td><td>&quot;11&quot;</td><td>&quot;13&quot;</td><td>&quot;26&quot;</td><td>&quot;28&quot;</td><td>&quot;38&quot;</td><td>&quot;10&quot;</td><td>&quot;37&quot;</td><td>false</td><td>0</td><td>&quot;01_02_13_02_10&quot;</td><td>73</td></tr><tr><td>&quot;101113262839&quot;</td><td>[10, 11, … 39]</td><td>10</td><td>11</td><td>13</td><td>26</td><td>28</td><td>39</td><td>&quot;10&quot;</td><td>&quot;11&quot;</td><td>&quot;13&quot;</td><td>&quot;26&quot;</td><td>&quot;28&quot;</td><td>&quot;39&quot;</td><td>&quot;10&quot;</td><td>&quot;38&quot;</td><td>false</td><td>0</td><td>&quot;01_02_13_02_11&quot;</td><td>74</td></tr><tr><td>&hellip;</td><td>&hellip;</td><td>&hellip;</td><td>&hellip;</td><td>&hellip;</td><td>&hellip;</td><td>&hellip;</td><td>&hellip;</td><td>&hellip;</td><td>&hellip;</td><td>&hellip;</td><td>&hellip;</td><td>&hellip;</td><td>&hellip;</td><td>&hellip;</td><td>&hellip;</td><td>&hellip;</td><td>&hellip;</td><td>&hellip;</td><td>&hellip;</td></tr><tr><td>&quot;163839424749&quot;</td><td>[16, 38, … 49]</td><td>16</td><td>38</td><td>39</td><td>42</td><td>47</td><td>49</td><td>&quot;16&quot;</td><td>&quot;38&quot;</td><td>&quot;39&quot;</td><td>&quot;42&quot;</td><td>&quot;47&quot;</td><td>&quot;49&quot;</td><td>&quot;16&quot;</td><td>&quot;48&quot;</td><td>false</td><td>0</td><td>&quot;22_01_03_05_02&quot;</td><td>18</td></tr><tr><td>&quot;163839424750&quot;</td><td>[16, 38, … 50]</td><td>16</td><td>38</td><td>39</td><td>42</td><td>47</td><td>50</td><td>&quot;16&quot;</td><td>&quot;38&quot;</td><td>&quot;39&quot;</td><td>&quot;42&quot;</td><td>&quot;47&quot;</td><td>&quot;50&quot;</td><td>&quot;16&quot;</td><td>&quot;49&quot;</td><td>false</td><td>0</td><td>&quot;22_01_03_05_03&quot;</td><td>19</td></tr><tr><td>&quot;163839424849&quot;</td><td>[16, 38, … 49]</td><td>16</td><td>38</td><td>39</td><td>42</td><td>48</td><td>49</td><td>&quot;16&quot;</td><td>&quot;38&quot;</td><td>&quot;39&quot;</td><td>&quot;42&quot;</td><td>&quot;48&quot;</td><td>&quot;49&quot;</td><td>&quot;16&quot;</td><td>&quot;50&quot;</td><td>false</td><td>0</td><td>&quot;22_01_03_06_01&quot;</td><td>13</td></tr><tr><td>&quot;163839424850&quot;</td><td>[16, 38, … 50]</td><td>16</td><td>38</td><td>39</td><td>42</td><td>48</td><td>50</td><td>&quot;16&quot;</td><td>&quot;38&quot;</td><td>&quot;39&quot;</td><td>&quot;42&quot;</td><td>&quot;48&quot;</td><td>&quot;50&quot;</td><td>&quot;16&quot;</td><td>&quot;49&quot;</td><td>false</td><td>0</td><td>&quot;22_01_03_06_02&quot;</td><td>14</td></tr><tr><td>&quot;163839424950&quot;</td><td>[16, 38, … 50]</td><td>16</td><td>38</td><td>39</td><td>42</td><td>49</td><td>50</td><td>&quot;16&quot;</td><td>&quot;38&quot;</td><td>&quot;39&quot;</td><td>&quot;42&quot;</td><td>&quot;49&quot;</td><td>&quot;50&quot;</td><td>&quot;16&quot;</td><td>&quot;50&quot;</td><td>false</td><td>0</td><td>&quot;22_01_03_07_01&quot;</td><td>9</td></tr></tbody></table></div>"
      ],
      "text/plain": [
       "shape: (606_668, 20)\n",
       "┌──────────────┬────────────────┬─────┬─────┬───┬───────────────┬────────┬───────────────┬─────────┐\n",
       "│ id           ┆ combo          ┆ b1  ┆ b2  ┆ … ┆ is_rare_combi ┆ reason ┆ jumps_map     ┆ unijump │\n",
       "│ ---          ┆ ---            ┆ --- ┆ --- ┆   ┆ nation        ┆ ---    ┆ ---           ┆ ---     │\n",
       "│ str          ┆ array[u8, 6]   ┆ u8  ┆ u8  ┆   ┆ ---           ┆ u8     ┆ str           ┆ i64     │\n",
       "│              ┆                ┆     ┆     ┆   ┆ bool          ┆        ┆               ┆         │\n",
       "╞══════════════╪════════════════╪═════╪═════╪═══╪═══════════════╪════════╪═══════════════╪═════════╡\n",
       "│ 101113262835 ┆ [10, 11, … 35] ┆ 10  ┆ 11  ┆ … ┆ false         ┆ 0      ┆ 01_02_13_02_0 ┆ 70      │\n",
       "│              ┆                ┆     ┆     ┆   ┆               ┆        ┆ 7             ┆         │\n",
       "│ 101113262836 ┆ [10, 11, … 36] ┆ 10  ┆ 11  ┆ … ┆ false         ┆ 0      ┆ 01_02_13_02_0 ┆ 71      │\n",
       "│              ┆                ┆     ┆     ┆   ┆               ┆        ┆ 8             ┆         │\n",
       "│ 101113262837 ┆ [10, 11, … 37] ┆ 10  ┆ 11  ┆ … ┆ false         ┆ 0      ┆ 01_02_13_02_0 ┆ 72      │\n",
       "│              ┆                ┆     ┆     ┆   ┆               ┆        ┆ 9             ┆         │\n",
       "│ 101113262838 ┆ [10, 11, … 38] ┆ 10  ┆ 11  ┆ … ┆ false         ┆ 0      ┆ 01_02_13_02_1 ┆ 73      │\n",
       "│              ┆                ┆     ┆     ┆   ┆               ┆        ┆ 0             ┆         │\n",
       "│ 101113262839 ┆ [10, 11, … 39] ┆ 10  ┆ 11  ┆ … ┆ false         ┆ 0      ┆ 01_02_13_02_1 ┆ 74      │\n",
       "│              ┆                ┆     ┆     ┆   ┆               ┆        ┆ 1             ┆         │\n",
       "│ …            ┆ …              ┆ …   ┆ …   ┆ … ┆ …             ┆ …      ┆ …             ┆ …       │\n",
       "│ 163839424749 ┆ [16, 38, … 49] ┆ 16  ┆ 38  ┆ … ┆ false         ┆ 0      ┆ 22_01_03_05_0 ┆ 18      │\n",
       "│              ┆                ┆     ┆     ┆   ┆               ┆        ┆ 2             ┆         │\n",
       "│ 163839424750 ┆ [16, 38, … 50] ┆ 16  ┆ 38  ┆ … ┆ false         ┆ 0      ┆ 22_01_03_05_0 ┆ 19      │\n",
       "│              ┆                ┆     ┆     ┆   ┆               ┆        ┆ 3             ┆         │\n",
       "│ 163839424849 ┆ [16, 38, … 49] ┆ 16  ┆ 38  ┆ … ┆ false         ┆ 0      ┆ 22_01_03_06_0 ┆ 13      │\n",
       "│              ┆                ┆     ┆     ┆   ┆               ┆        ┆ 1             ┆         │\n",
       "│ 163839424850 ┆ [16, 38, … 50] ┆ 16  ┆ 38  ┆ … ┆ false         ┆ 0      ┆ 22_01_03_06_0 ┆ 14      │\n",
       "│              ┆                ┆     ┆     ┆   ┆               ┆        ┆ 2             ┆         │\n",
       "│ 163839424950 ┆ [16, 38, … 50] ┆ 16  ┆ 38  ┆ … ┆ false         ┆ 0      ┆ 22_01_03_07_0 ┆ 9       │\n",
       "│              ┆                ┆     ┆     ┆   ┆               ┆        ┆ 1             ┆         │\n",
       "└──────────────┴────────────────┴─────┴─────┴───┴───────────────┴────────┴───────────────┴─────────┘"
      ]
     },
     "metadata": {},
     "output_type": "display_data"
    }
   ],
   "source": [
    "# possible_b1, exclude_jump_maps_b1\n",
    "df_possible = df_Orows.filter(\n",
    "  pl.col(\"str_b1\").is_in([\"10\", \"11\", \"12\", \"13\", \"14\", \"15\", \"16\"]),\n",
    "  # pl.col(\"str_b1\").is_in(possible_b1),\n",
    "  # pl.col(\"str_b2\").is_in(possible_b2),\n",
    "  # pl.col(\"str_b3\").is_in(possible_b3),\n",
    "  # pl.col(\"str_b4\").is_in(possible_b4),\n",
    "  # pl.col(\"str_b5\").is_in(possible_b5),\n",
    "  # pl.col(\"str_b6\").is_in(possible_blast),\n",
    "  \n",
    "  # ~pl.col(\"str_b1\").is_in(last_post_b1),\n",
    "  ~pl.col(\"str_b2\").is_in(last_post_b2 + [\"40\", \"41\", \"42\", \"43\", \"44\", \"45\", \"46\", \"47\", \"48\", \"49\"]),\n",
    "  ~pl.col(\"str_b3\").is_in(last_post_b3 + [\"40\", \"41\", \"42\", \"43\", \"44\", \"45\", \"46\", \"47\", \"48\", \"49\"]),\n",
    "  ~pl.col(\"str_b4\").is_in(last_post_b4 + [\"10\", \"11\", \"12\", \"13\", \"14\", \"15\", \"16\", \"17\", \"18\", \"19\", \"20\", \"21\", \"22\", \"23\", \"24\", \"25\"]),\n",
    "  ~pl.col(\"str_b5\").is_in(last_post_b5 + [\"27\"]),\n",
    "  ~pl.col(\"str_b6\").is_in(last_post_blast + [\"20\", \"21\", \"22\", \"23\", \"24\", \"25\", \"26\", \"27\", \"28\", \"29\", \"30\", \"31\", \"32\", \"33\", \"34\"]),\n",
    "\n",
    "  ~pl.col(\"jumps_map\").is_in(exclude_jump_maps_b1 + exclude_jump_maps_b2 + exclude_jump_maps_b3 + exclude_jump_maps_b4 + exclude_jump_maps_b5 + exclude_jump_maps_blast),\n",
    "  # ~pl.col(\"jumps_map\").is_in(exclude_jump_maps_b1 + exclude_jump_maps_b2 + exclude_jump_maps_blast),\n",
    "  pl.col(\"is_rare_combination\") == False\n",
    ")\n",
    "\n",
    "\n",
    "display(df_possible)"
   ]
  },
  {
   "cell_type": "code",
   "execution_count": 29,
   "metadata": {},
   "outputs": [
    {
     "data": {
      "text/html": [
       "<div><style>\n",
       ".dataframe > thead > tr,\n",
       ".dataframe > tbody > tr {\n",
       "  text-align: right;\n",
       "  white-space: pre-wrap;\n",
       "}\n",
       "</style>\n",
       "<small>shape: (1, 20)</small><table border=\"1\" class=\"dataframe\"><thead><tr><th>id</th><th>combo</th><th>b1</th><th>b2</th><th>b3</th><th>b4</th><th>b5</th><th>b6</th><th>str_b1</th><th>str_b2</th><th>str_b3</th><th>str_b4</th><th>str_b5</th><th>str_b6</th><th>post_str_b1</th><th>post_str_blast</th><th>is_rare_combination</th><th>reason</th><th>jumps_map</th><th>unijump</th></tr><tr><td>str</td><td>array[u8, 6]</td><td>u8</td><td>u8</td><td>u8</td><td>u8</td><td>u8</td><td>u8</td><td>str</td><td>str</td><td>str</td><td>str</td><td>str</td><td>str</td><td>str</td><td>str</td><td>bool</td><td>u8</td><td>str</td><td>i64</td></tr></thead><tbody><tr><td>&quot;152933404143&quot;</td><td>[15, 29, … 43]</td><td>15</td><td>29</td><td>33</td><td>40</td><td>41</td><td>43</td><td>&quot;15&quot;</td><td>&quot;29&quot;</td><td>&quot;33&quot;</td><td>&quot;40&quot;</td><td>&quot;41&quot;</td><td>&quot;43&quot;</td><td>&quot;15&quot;</td><td>&quot;42&quot;</td><td>false</td><td>0</td><td>&quot;14_04_07_01_02&quot;</td><td>38</td></tr></tbody></table></div>"
      ],
      "text/plain": [
       "shape: (1, 20)\n",
       "┌──────────────┬────────────────┬─────┬─────┬───┬───────────────┬────────┬───────────────┬─────────┐\n",
       "│ id           ┆ combo          ┆ b1  ┆ b2  ┆ … ┆ is_rare_combi ┆ reason ┆ jumps_map     ┆ unijump │\n",
       "│ ---          ┆ ---            ┆ --- ┆ --- ┆   ┆ nation        ┆ ---    ┆ ---           ┆ ---     │\n",
       "│ str          ┆ array[u8, 6]   ┆ u8  ┆ u8  ┆   ┆ ---           ┆ u8     ┆ str           ┆ i64     │\n",
       "│              ┆                ┆     ┆     ┆   ┆ bool          ┆        ┆               ┆         │\n",
       "╞══════════════╪════════════════╪═════╪═════╪═══╪═══════════════╪════════╪═══════════════╪═════════╡\n",
       "│ 152933404143 ┆ [15, 29, … 43] ┆ 15  ┆ 29  ┆ … ┆ false         ┆ 0      ┆ 14_04_07_01_0 ┆ 38      │\n",
       "│              ┆                ┆     ┆     ┆   ┆               ┆        ┆ 2             ┆         │\n",
       "└──────────────┴────────────────┴─────┴─────┴───┴───────────────┴────────┴───────────────┴─────────┘"
      ]
     },
     "execution_count": 29,
     "metadata": {},
     "output_type": "execute_result"
    }
   ],
   "source": [
    "df_possible.sample(n=1)\n"
   ]
  },
  {
   "cell_type": "markdown",
   "metadata": {},
   "source": []
  }
 ],
 "metadata": {
  "kernelspec": {
   "display_name": ".venv",
   "language": "python",
   "name": "python3"
  },
  "language_info": {
   "codemirror_mode": {
    "name": "ipython",
    "version": 3
   },
   "file_extension": ".py",
   "mimetype": "text/x-python",
   "name": "python",
   "nbconvert_exporter": "python",
   "pygments_lexer": "ipython3",
   "version": "3.12.9"
  }
 },
 "nbformat": 4,
 "nbformat_minor": 2
}

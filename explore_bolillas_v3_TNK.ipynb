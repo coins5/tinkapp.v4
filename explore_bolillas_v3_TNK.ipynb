{
 "cells": [
  {
   "cell_type": "code",
   "execution_count": 3,
   "metadata": {},
   "outputs": [
    {
     "data": {
      "text/html": [
       "<script type=\"esms-options\">{\"shimMode\": true}</script><style>*[data-root-id],\n",
       "*[data-root-id] > * {\n",
       "  box-sizing: border-box;\n",
       "  font-family: var(--jp-ui-font-family);\n",
       "  font-size: var(--jp-ui-font-size1);\n",
       "  color: var(--vscode-editor-foreground, var(--jp-ui-font-color1));\n",
       "}\n",
       "\n",
       "/* Override VSCode background color */\n",
       ".cell-output-ipywidget-background:has(\n",
       "    > .cell-output-ipywidget-background > .lm-Widget > *[data-root-id]\n",
       "  ),\n",
       ".cell-output-ipywidget-background:has(> .lm-Widget > *[data-root-id]) {\n",
       "  background-color: transparent !important;\n",
       "}\n",
       "</style>"
      ]
     },
     "metadata": {},
     "output_type": "display_data"
    },
    {
     "data": {
      "application/javascript": "(function(root) {\n  function now() {\n    return new Date();\n  }\n\n  const force = true;\n  const py_version = '3.7.2'.replace('rc', '-rc.').replace('.dev', '-dev.');\n  const reloading = false;\n  const Bokeh = root.Bokeh;\n\n  // Set a timeout for this load but only if we are not already initializing\n  if (typeof (root._bokeh_timeout) === \"undefined\" || (force || !root._bokeh_is_initializing)) {\n    root._bokeh_timeout = Date.now() + 5000;\n    root._bokeh_failed_load = false;\n  }\n\n  function run_callbacks() {\n    try {\n      root._bokeh_onload_callbacks.forEach(function(callback) {\n        if (callback != null)\n          callback();\n      });\n    } finally {\n      delete root._bokeh_onload_callbacks;\n    }\n    console.debug(\"Bokeh: all callbacks have finished\");\n  }\n\n  function load_libs(css_urls, js_urls, js_modules, js_exports, callback) {\n    if (css_urls == null) css_urls = [];\n    if (js_urls == null) js_urls = [];\n    if (js_modules == null) js_modules = [];\n    if (js_exports == null) js_exports = {};\n\n    root._bokeh_onload_callbacks.push(callback);\n\n    if (root._bokeh_is_loading > 0) {\n      // Don't load bokeh if it is still initializing\n      console.debug(\"Bokeh: BokehJS is being loaded, scheduling callback at\", now());\n      return null;\n    } else if (js_urls.length === 0 && js_modules.length === 0 && Object.keys(js_exports).length === 0) {\n      // There is nothing to load\n      run_callbacks();\n      return null;\n    }\n\n    function on_load() {\n      root._bokeh_is_loading--;\n      if (root._bokeh_is_loading === 0) {\n        console.debug(\"Bokeh: all BokehJS libraries/stylesheets loaded\");\n        run_callbacks()\n      }\n    }\n    window._bokeh_on_load = on_load\n\n    function on_error(e) {\n      const src_el = e.srcElement\n      console.error(\"failed to load \" + (src_el.href || src_el.src));\n    }\n\n    const skip = [];\n    if (window.requirejs) {\n      window.requirejs.config({'packages': {}, 'paths': {}, 'shim': {}});\n      root._bokeh_is_loading = css_urls.length + 0;\n    } else {\n      root._bokeh_is_loading = css_urls.length + js_urls.length + js_modules.length + Object.keys(js_exports).length;\n    }\n\n    const existing_stylesheets = []\n    const links = document.getElementsByTagName('link')\n    for (let i = 0; i < links.length; i++) {\n      const link = links[i]\n      if (link.href != null) {\n        existing_stylesheets.push(link.href)\n      }\n    }\n    for (let i = 0; i < css_urls.length; i++) {\n      const url = css_urls[i];\n      const escaped = encodeURI(url)\n      if (existing_stylesheets.indexOf(escaped) !== -1) {\n        on_load()\n        continue;\n      }\n      const element = document.createElement(\"link\");\n      element.onload = on_load;\n      element.onerror = on_error;\n      element.rel = \"stylesheet\";\n      element.type = \"text/css\";\n      element.href = url;\n      console.debug(\"Bokeh: injecting link tag for BokehJS stylesheet: \", url);\n      document.body.appendChild(element);\n    }    var existing_scripts = []\n    const scripts = document.getElementsByTagName('script')\n    for (let i = 0; i < scripts.length; i++) {\n      var script = scripts[i]\n      if (script.src != null) {\n        existing_scripts.push(script.src)\n      }\n    }\n    for (let i = 0; i < js_urls.length; i++) {\n      const url = js_urls[i];\n      const escaped = encodeURI(url)\n      if (skip.indexOf(escaped) !== -1 || existing_scripts.indexOf(escaped) !== -1) {\n        if (!window.requirejs) {\n          on_load();\n        }\n        continue;\n      }\n      const element = document.createElement('script');\n      element.onload = on_load;\n      element.onerror = on_error;\n      element.async = false;\n      element.src = url;\n      console.debug(\"Bokeh: injecting script tag for BokehJS library: \", url);\n      document.head.appendChild(element);\n    }\n    for (let i = 0; i < js_modules.length; i++) {\n      const url = js_modules[i];\n      const escaped = encodeURI(url)\n      if (skip.indexOf(escaped) !== -1 || existing_scripts.indexOf(escaped) !== -1) {\n        if (!window.requirejs) {\n          on_load();\n        }\n        continue;\n      }\n      var element = document.createElement('script');\n      element.onload = on_load;\n      element.onerror = on_error;\n      element.async = false;\n      element.src = url;\n      element.type = \"module\";\n      console.debug(\"Bokeh: injecting script tag for BokehJS library: \", url);\n      document.head.appendChild(element);\n    }\n    for (const name in js_exports) {\n      const url = js_exports[name];\n      const escaped = encodeURI(url)\n      if (skip.indexOf(escaped) >= 0 || root[name] != null) {\n        if (!window.requirejs) {\n          on_load();\n        }\n        continue;\n      }\n      var element = document.createElement('script');\n      element.onerror = on_error;\n      element.async = false;\n      element.type = \"module\";\n      console.debug(\"Bokeh: injecting script tag for BokehJS library: \", url);\n      element.textContent = `\n      import ${name} from \"${url}\"\n      window.${name} = ${name}\n      window._bokeh_on_load()\n      `\n      document.head.appendChild(element);\n    }\n    if (!js_urls.length && !js_modules.length) {\n      on_load()\n    }\n  };\n\n  function inject_raw_css(css) {\n    const element = document.createElement(\"style\");\n    element.appendChild(document.createTextNode(css));\n    document.body.appendChild(element);\n  }\n\n  const js_urls = [\"https://cdn.holoviz.org/panel/1.6.2/dist/bundled/reactiveesm/es-module-shims@^1.10.0/dist/es-module-shims.min.js\", \"https://cdn.bokeh.org/bokeh/release/bokeh-3.7.2.min.js\", \"https://cdn.bokeh.org/bokeh/release/bokeh-gl-3.7.2.min.js\", \"https://cdn.bokeh.org/bokeh/release/bokeh-widgets-3.7.2.min.js\", \"https://cdn.bokeh.org/bokeh/release/bokeh-tables-3.7.2.min.js\", \"https://cdn.holoviz.org/panel/1.6.2/dist/panel.min.js\"];\n  const js_modules = [];\n  const js_exports = {};\n  const css_urls = [];\n  const inline_js = [    function(Bokeh) {\n      Bokeh.set_log_level(\"info\");\n    },\nfunction(Bokeh) {} // ensure no trailing comma for IE\n  ];\n\n  function run_inline_js() {\n    if ((root.Bokeh !== undefined) || (force === true)) {\n      for (let i = 0; i < inline_js.length; i++) {\n        try {\n          inline_js[i].call(root, root.Bokeh);\n        } catch(e) {\n          if (!reloading) {\n            throw e;\n          }\n        }\n      }\n      // Cache old bokeh versions\n      if (Bokeh != undefined && !reloading) {\n        var NewBokeh = root.Bokeh;\n        if (Bokeh.versions === undefined) {\n          Bokeh.versions = new Map();\n        }\n        if (NewBokeh.version !== Bokeh.version) {\n          Bokeh.versions.set(NewBokeh.version, NewBokeh)\n        }\n        root.Bokeh = Bokeh;\n      }\n    } else if (Date.now() < root._bokeh_timeout) {\n      setTimeout(run_inline_js, 100);\n    } else if (!root._bokeh_failed_load) {\n      console.log(\"Bokeh: BokehJS failed to load within specified timeout.\");\n      root._bokeh_failed_load = true;\n    }\n    root._bokeh_is_initializing = false\n  }\n\n  function load_or_wait() {\n    // Implement a backoff loop that tries to ensure we do not load multiple\n    // versions of Bokeh and its dependencies at the same time.\n    // In recent versions we use the root._bokeh_is_initializing flag\n    // to determine whether there is an ongoing attempt to initialize\n    // bokeh, however for backward compatibility we also try to ensure\n    // that we do not start loading a newer (Panel>=1.0 and Bokeh>3) version\n    // before older versions are fully initialized.\n    if (root._bokeh_is_initializing && Date.now() > root._bokeh_timeout) {\n      // If the timeout and bokeh was not successfully loaded we reset\n      // everything and try loading again\n      root._bokeh_timeout = Date.now() + 5000;\n      root._bokeh_is_initializing = false;\n      root._bokeh_onload_callbacks = undefined;\n      root._bokeh_is_loading = 0\n      console.log(\"Bokeh: BokehJS was loaded multiple times but one version failed to initialize.\");\n      load_or_wait();\n    } else if (root._bokeh_is_initializing || (typeof root._bokeh_is_initializing === \"undefined\" && root._bokeh_onload_callbacks !== undefined)) {\n      setTimeout(load_or_wait, 100);\n    } else {\n      root._bokeh_is_initializing = true\n      root._bokeh_onload_callbacks = []\n      const bokeh_loaded = root.Bokeh != null && (root.Bokeh.version === py_version || (root.Bokeh.versions !== undefined && root.Bokeh.versions.has(py_version)));\n      if (!reloading && !bokeh_loaded) {\n        if (root.Bokeh) {\n          root.Bokeh = undefined;\n        }\n        console.debug(\"Bokeh: BokehJS not loaded, scheduling load and callback at\", now());\n      }\n      load_libs(css_urls, js_urls, js_modules, js_exports, function() {\n        console.debug(\"Bokeh: BokehJS plotting callback run at\", now());\n        run_inline_js();\n      });\n    }\n  }\n  // Give older versions of the autoload script a head-start to ensure\n  // they initialize before we start loading newer version.\n  setTimeout(load_or_wait, 100)\n}(window));",
      "application/vnd.holoviews_load.v0+json": ""
     },
     "metadata": {},
     "output_type": "display_data"
    },
    {
     "data": {
      "application/javascript": "\nif ((window.PyViz === undefined) || (window.PyViz instanceof HTMLElement)) {\n  window.PyViz = {comms: {}, comm_status:{}, kernels:{}, receivers: {}, plot_index: []}\n}\n\n\n    function JupyterCommManager() {\n    }\n\n    JupyterCommManager.prototype.register_target = function(plot_id, comm_id, msg_handler) {\n      if (window.comm_manager || ((window.Jupyter !== undefined) && (Jupyter.notebook.kernel != null))) {\n        var comm_manager = window.comm_manager || Jupyter.notebook.kernel.comm_manager;\n        comm_manager.register_target(comm_id, function(comm) {\n          comm.on_msg(msg_handler);\n        });\n      } else if ((plot_id in window.PyViz.kernels) && (window.PyViz.kernels[plot_id])) {\n        window.PyViz.kernels[plot_id].registerCommTarget(comm_id, function(comm) {\n          comm.onMsg = msg_handler;\n        });\n      } else if (typeof google != 'undefined' && google.colab.kernel != null) {\n        google.colab.kernel.comms.registerTarget(comm_id, (comm) => {\n          var messages = comm.messages[Symbol.asyncIterator]();\n          function processIteratorResult(result) {\n            var message = result.value;\n            console.log(message)\n            var content = {data: message.data, comm_id};\n            var buffers = []\n            for (var buffer of message.buffers || []) {\n              buffers.push(new DataView(buffer))\n            }\n            var metadata = message.metadata || {};\n            var msg = {content, buffers, metadata}\n            msg_handler(msg);\n            return messages.next().then(processIteratorResult);\n          }\n          return messages.next().then(processIteratorResult);\n        })\n      }\n    }\n\n    JupyterCommManager.prototype.get_client_comm = function(plot_id, comm_id, msg_handler) {\n      if (comm_id in window.PyViz.comms) {\n        return window.PyViz.comms[comm_id];\n      } else if (window.comm_manager || ((window.Jupyter !== undefined) && (Jupyter.notebook.kernel != null))) {\n        var comm_manager = window.comm_manager || Jupyter.notebook.kernel.comm_manager;\n        var comm = comm_manager.new_comm(comm_id, {}, {}, {}, comm_id);\n        if (msg_handler) {\n          comm.on_msg(msg_handler);\n        }\n      } else if ((plot_id in window.PyViz.kernels) && (window.PyViz.kernels[plot_id])) {\n        var comm = window.PyViz.kernels[plot_id].connectToComm(comm_id);\n        comm.open();\n        if (msg_handler) {\n          comm.onMsg = msg_handler;\n        }\n      } else if (typeof google != 'undefined' && google.colab.kernel != null) {\n        var comm_promise = google.colab.kernel.comms.open(comm_id)\n        comm_promise.then((comm) => {\n          window.PyViz.comms[comm_id] = comm;\n          if (msg_handler) {\n            var messages = comm.messages[Symbol.asyncIterator]();\n            function processIteratorResult(result) {\n              var message = result.value;\n              var content = {data: message.data};\n              var metadata = message.metadata || {comm_id};\n              var msg = {content, metadata}\n              msg_handler(msg);\n              return messages.next().then(processIteratorResult);\n            }\n            return messages.next().then(processIteratorResult);\n          }\n        })\n        var sendClosure = (data, metadata, buffers, disposeOnDone) => {\n          return comm_promise.then((comm) => {\n            comm.send(data, metadata, buffers, disposeOnDone);\n          });\n        };\n        var comm = {\n          send: sendClosure\n        };\n      }\n      window.PyViz.comms[comm_id] = comm;\n      return comm;\n    }\n    window.PyViz.comm_manager = new JupyterCommManager();\n    \n\n\nvar JS_MIME_TYPE = 'application/javascript';\nvar HTML_MIME_TYPE = 'text/html';\nvar EXEC_MIME_TYPE = 'application/vnd.holoviews_exec.v0+json';\nvar CLASS_NAME = 'output';\n\n/**\n * Render data to the DOM node\n */\nfunction render(props, node) {\n  var div = document.createElement(\"div\");\n  var script = document.createElement(\"script\");\n  node.appendChild(div);\n  node.appendChild(script);\n}\n\n/**\n * Handle when a new output is added\n */\nfunction handle_add_output(event, handle) {\n  var output_area = handle.output_area;\n  var output = handle.output;\n  if ((output.data == undefined) || (!output.data.hasOwnProperty(EXEC_MIME_TYPE))) {\n    return\n  }\n  var id = output.metadata[EXEC_MIME_TYPE][\"id\"];\n  var toinsert = output_area.element.find(\".\" + CLASS_NAME.split(' ')[0]);\n  if (id !== undefined) {\n    var nchildren = toinsert.length;\n    var html_node = toinsert[nchildren-1].children[0];\n    html_node.innerHTML = output.data[HTML_MIME_TYPE];\n    var scripts = [];\n    var nodelist = html_node.querySelectorAll(\"script\");\n    for (var i in nodelist) {\n      if (nodelist.hasOwnProperty(i)) {\n        scripts.push(nodelist[i])\n      }\n    }\n\n    scripts.forEach( function (oldScript) {\n      var newScript = document.createElement(\"script\");\n      var attrs = [];\n      var nodemap = oldScript.attributes;\n      for (var j in nodemap) {\n        if (nodemap.hasOwnProperty(j)) {\n          attrs.push(nodemap[j])\n        }\n      }\n      attrs.forEach(function(attr) { newScript.setAttribute(attr.name, attr.value) });\n      newScript.appendChild(document.createTextNode(oldScript.innerHTML));\n      oldScript.parentNode.replaceChild(newScript, oldScript);\n    });\n    if (JS_MIME_TYPE in output.data) {\n      toinsert[nchildren-1].children[1].textContent = output.data[JS_MIME_TYPE];\n    }\n    output_area._hv_plot_id = id;\n    if ((window.Bokeh !== undefined) && (id in Bokeh.index)) {\n      window.PyViz.plot_index[id] = Bokeh.index[id];\n    } else {\n      window.PyViz.plot_index[id] = null;\n    }\n  } else if (output.metadata[EXEC_MIME_TYPE][\"server_id\"] !== undefined) {\n    var bk_div = document.createElement(\"div\");\n    bk_div.innerHTML = output.data[HTML_MIME_TYPE];\n    var script_attrs = bk_div.children[0].attributes;\n    for (var i = 0; i < script_attrs.length; i++) {\n      toinsert[toinsert.length - 1].childNodes[1].setAttribute(script_attrs[i].name, script_attrs[i].value);\n    }\n    // store reference to server id on output_area\n    output_area._bokeh_server_id = output.metadata[EXEC_MIME_TYPE][\"server_id\"];\n  }\n}\n\n/**\n * Handle when an output is cleared or removed\n */\nfunction handle_clear_output(event, handle) {\n  var id = handle.cell.output_area._hv_plot_id;\n  var server_id = handle.cell.output_area._bokeh_server_id;\n  if (((id === undefined) || !(id in PyViz.plot_index)) && (server_id !== undefined)) { return; }\n  var comm = window.PyViz.comm_manager.get_client_comm(\"hv-extension-comm\", \"hv-extension-comm\", function () {});\n  if (server_id !== null) {\n    comm.send({event_type: 'server_delete', 'id': server_id});\n    return;\n  } else if (comm !== null) {\n    comm.send({event_type: 'delete', 'id': id});\n  }\n  delete PyViz.plot_index[id];\n  if ((window.Bokeh !== undefined) & (id in window.Bokeh.index)) {\n    var doc = window.Bokeh.index[id].model.document\n    doc.clear();\n    const i = window.Bokeh.documents.indexOf(doc);\n    if (i > -1) {\n      window.Bokeh.documents.splice(i, 1);\n    }\n  }\n}\n\n/**\n * Handle kernel restart event\n */\nfunction handle_kernel_cleanup(event, handle) {\n  delete PyViz.comms[\"hv-extension-comm\"];\n  window.PyViz.plot_index = {}\n}\n\n/**\n * Handle update_display_data messages\n */\nfunction handle_update_output(event, handle) {\n  handle_clear_output(event, {cell: {output_area: handle.output_area}})\n  handle_add_output(event, handle)\n}\n\nfunction register_renderer(events, OutputArea) {\n  function append_mime(data, metadata, element) {\n    // create a DOM node to render to\n    var toinsert = this.create_output_subarea(\n    metadata,\n    CLASS_NAME,\n    EXEC_MIME_TYPE\n    );\n    this.keyboard_manager.register_events(toinsert);\n    // Render to node\n    var props = {data: data, metadata: metadata[EXEC_MIME_TYPE]};\n    render(props, toinsert[0]);\n    element.append(toinsert);\n    return toinsert\n  }\n\n  events.on('output_added.OutputArea', handle_add_output);\n  events.on('output_updated.OutputArea', handle_update_output);\n  events.on('clear_output.CodeCell', handle_clear_output);\n  events.on('delete.Cell', handle_clear_output);\n  events.on('kernel_ready.Kernel', handle_kernel_cleanup);\n\n  OutputArea.prototype.register_mime_type(EXEC_MIME_TYPE, append_mime, {\n    safe: true,\n    index: 0\n  });\n}\n\nif (window.Jupyter !== undefined) {\n  try {\n    var events = require('base/js/events');\n    var OutputArea = require('notebook/js/outputarea').OutputArea;\n    if (OutputArea.prototype.mime_types().indexOf(EXEC_MIME_TYPE) == -1) {\n      register_renderer(events, OutputArea);\n    }\n  } catch(err) {\n  }\n}\n",
      "application/vnd.holoviews_load.v0+json": ""
     },
     "metadata": {},
     "output_type": "display_data"
    },
    {
     "data": {
      "application/vnd.holoviews_exec.v0+json": "",
      "text/html": [
       "<div id='b4e3db52-ec29-4c26-82d9-8d3f3af0a988'>\n",
       "  <div id=\"cd56a39d-0d2f-4429-8d59-111499a7222f\" data-root-id=\"b4e3db52-ec29-4c26-82d9-8d3f3af0a988\" style=\"display: contents;\"></div>\n",
       "</div>\n",
       "<script type=\"application/javascript\">(function(root) {\n",
       "  var docs_json = {\"370723ba-00d1-4f34-b541-7cfb8e39421e\":{\"version\":\"3.7.2\",\"title\":\"Bokeh Application\",\"roots\":[{\"type\":\"object\",\"name\":\"panel.models.browser.BrowserInfo\",\"id\":\"b4e3db52-ec29-4c26-82d9-8d3f3af0a988\"},{\"type\":\"object\",\"name\":\"panel.models.comm_manager.CommManager\",\"id\":\"b7628385-6ad9-4b84-839d-4b6e61602644\",\"attributes\":{\"plot_id\":\"b4e3db52-ec29-4c26-82d9-8d3f3af0a988\",\"comm_id\":\"9b544912e2e447cc97da2373be364777\",\"client_comm_id\":\"633333b751134237a71bc5fdd8db9b94\"}}],\"defs\":[{\"type\":\"model\",\"name\":\"ReactiveHTML1\"},{\"type\":\"model\",\"name\":\"FlexBox1\",\"properties\":[{\"name\":\"align_content\",\"kind\":\"Any\",\"default\":\"flex-start\"},{\"name\":\"align_items\",\"kind\":\"Any\",\"default\":\"flex-start\"},{\"name\":\"flex_direction\",\"kind\":\"Any\",\"default\":\"row\"},{\"name\":\"flex_wrap\",\"kind\":\"Any\",\"default\":\"wrap\"},{\"name\":\"gap\",\"kind\":\"Any\",\"default\":\"\"},{\"name\":\"justify_content\",\"kind\":\"Any\",\"default\":\"flex-start\"}]},{\"type\":\"model\",\"name\":\"FloatPanel1\",\"properties\":[{\"name\":\"config\",\"kind\":\"Any\",\"default\":{\"type\":\"map\"}},{\"name\":\"contained\",\"kind\":\"Any\",\"default\":true},{\"name\":\"position\",\"kind\":\"Any\",\"default\":\"right-top\"},{\"name\":\"offsetx\",\"kind\":\"Any\",\"default\":null},{\"name\":\"offsety\",\"kind\":\"Any\",\"default\":null},{\"name\":\"theme\",\"kind\":\"Any\",\"default\":\"primary\"},{\"name\":\"status\",\"kind\":\"Any\",\"default\":\"normalized\"}]},{\"type\":\"model\",\"name\":\"GridStack1\",\"properties\":[{\"name\":\"ncols\",\"kind\":\"Any\",\"default\":null},{\"name\":\"nrows\",\"kind\":\"Any\",\"default\":null},{\"name\":\"allow_resize\",\"kind\":\"Any\",\"default\":true},{\"name\":\"allow_drag\",\"kind\":\"Any\",\"default\":true},{\"name\":\"state\",\"kind\":\"Any\",\"default\":[]}]},{\"type\":\"model\",\"name\":\"drag1\",\"properties\":[{\"name\":\"slider_width\",\"kind\":\"Any\",\"default\":5},{\"name\":\"slider_color\",\"kind\":\"Any\",\"default\":\"black\"},{\"name\":\"value\",\"kind\":\"Any\",\"default\":50}]},{\"type\":\"model\",\"name\":\"click1\",\"properties\":[{\"name\":\"terminal_output\",\"kind\":\"Any\",\"default\":\"\"},{\"name\":\"debug_name\",\"kind\":\"Any\",\"default\":\"\"},{\"name\":\"clears\",\"kind\":\"Any\",\"default\":0}]},{\"type\":\"model\",\"name\":\"FastWrapper1\",\"properties\":[{\"name\":\"object\",\"kind\":\"Any\",\"default\":null},{\"name\":\"style\",\"kind\":\"Any\",\"default\":null}]},{\"type\":\"model\",\"name\":\"NotificationArea1\",\"properties\":[{\"name\":\"js_events\",\"kind\":\"Any\",\"default\":{\"type\":\"map\"}},{\"name\":\"max_notifications\",\"kind\":\"Any\",\"default\":5},{\"name\":\"notifications\",\"kind\":\"Any\",\"default\":[]},{\"name\":\"position\",\"kind\":\"Any\",\"default\":\"bottom-right\"},{\"name\":\"_clear\",\"kind\":\"Any\",\"default\":0},{\"name\":\"types\",\"kind\":\"Any\",\"default\":[{\"type\":\"map\",\"entries\":[[\"type\",\"warning\"],[\"background\",\"#ffc107\"],[\"icon\",{\"type\":\"map\",\"entries\":[[\"className\",\"fas fa-exclamation-triangle\"],[\"tagName\",\"i\"],[\"color\",\"white\"]]}]]},{\"type\":\"map\",\"entries\":[[\"type\",\"info\"],[\"background\",\"#007bff\"],[\"icon\",{\"type\":\"map\",\"entries\":[[\"className\",\"fas fa-info-circle\"],[\"tagName\",\"i\"],[\"color\",\"white\"]]}]]}]}]},{\"type\":\"model\",\"name\":\"Notification\",\"properties\":[{\"name\":\"background\",\"kind\":\"Any\",\"default\":null},{\"name\":\"duration\",\"kind\":\"Any\",\"default\":3000},{\"name\":\"icon\",\"kind\":\"Any\",\"default\":null},{\"name\":\"message\",\"kind\":\"Any\",\"default\":\"\"},{\"name\":\"notification_type\",\"kind\":\"Any\",\"default\":null},{\"name\":\"_rendered\",\"kind\":\"Any\",\"default\":false},{\"name\":\"_destroyed\",\"kind\":\"Any\",\"default\":false}]},{\"type\":\"model\",\"name\":\"TemplateActions1\",\"properties\":[{\"name\":\"open_modal\",\"kind\":\"Any\",\"default\":0},{\"name\":\"close_modal\",\"kind\":\"Any\",\"default\":0}]},{\"type\":\"model\",\"name\":\"BootstrapTemplateActions1\",\"properties\":[{\"name\":\"open_modal\",\"kind\":\"Any\",\"default\":0},{\"name\":\"close_modal\",\"kind\":\"Any\",\"default\":0}]},{\"type\":\"model\",\"name\":\"TemplateEditor1\",\"properties\":[{\"name\":\"layout\",\"kind\":\"Any\",\"default\":[]}]},{\"type\":\"model\",\"name\":\"MaterialTemplateActions1\",\"properties\":[{\"name\":\"open_modal\",\"kind\":\"Any\",\"default\":0},{\"name\":\"close_modal\",\"kind\":\"Any\",\"default\":0}]},{\"type\":\"model\",\"name\":\"ReactiveESM1\",\"properties\":[{\"name\":\"esm_constants\",\"kind\":\"Any\",\"default\":{\"type\":\"map\"}}]},{\"type\":\"model\",\"name\":\"JSComponent1\",\"properties\":[{\"name\":\"esm_constants\",\"kind\":\"Any\",\"default\":{\"type\":\"map\"}}]},{\"type\":\"model\",\"name\":\"ReactComponent1\",\"properties\":[{\"name\":\"esm_constants\",\"kind\":\"Any\",\"default\":{\"type\":\"map\"}}]},{\"type\":\"model\",\"name\":\"AnyWidgetComponent1\",\"properties\":[{\"name\":\"esm_constants\",\"kind\":\"Any\",\"default\":{\"type\":\"map\"}}]},{\"type\":\"model\",\"name\":\"request_value1\",\"properties\":[{\"name\":\"fill\",\"kind\":\"Any\",\"default\":\"none\"},{\"name\":\"_synced\",\"kind\":\"Any\",\"default\":null},{\"name\":\"_request_sync\",\"kind\":\"Any\",\"default\":0}]}]}};\n",
       "  var render_items = [{\"docid\":\"370723ba-00d1-4f34-b541-7cfb8e39421e\",\"roots\":{\"b4e3db52-ec29-4c26-82d9-8d3f3af0a988\":\"cd56a39d-0d2f-4429-8d59-111499a7222f\"},\"root_ids\":[\"b4e3db52-ec29-4c26-82d9-8d3f3af0a988\"]}];\n",
       "  var docs = Object.values(docs_json)\n",
       "  if (!docs) {\n",
       "    return\n",
       "  }\n",
       "  const py_version = docs[0].version.replace('rc', '-rc.').replace('.dev', '-dev.')\n",
       "  async function embed_document(root) {\n",
       "    var Bokeh = get_bokeh(root)\n",
       "    await Bokeh.embed.embed_items_notebook(docs_json, render_items);\n",
       "    for (const render_item of render_items) {\n",
       "      for (const root_id of render_item.root_ids) {\n",
       "\tconst id_el = document.getElementById(root_id)\n",
       "\tif (id_el.children.length && id_el.children[0].hasAttribute('data-root-id')) {\n",
       "\t  const root_el = id_el.children[0]\n",
       "\t  root_el.id = root_el.id + '-rendered'\n",
       "\t  for (const child of root_el.children) {\n",
       "            // Ensure JupyterLab does not capture keyboard shortcuts\n",
       "            // see: https://jupyterlab.readthedocs.io/en/4.1.x/extension/notebook.html#keyboard-interaction-model\n",
       "\t    child.setAttribute('data-lm-suppress-shortcuts', 'true')\n",
       "\t  }\n",
       "\t}\n",
       "      }\n",
       "    }\n",
       "  }\n",
       "  function get_bokeh(root) {\n",
       "    if (root.Bokeh === undefined) {\n",
       "      return null\n",
       "    } else if (root.Bokeh.version !== py_version) {\n",
       "      if (root.Bokeh.versions === undefined || !root.Bokeh.versions.has(py_version)) {\n",
       "\treturn null\n",
       "      }\n",
       "      return root.Bokeh.versions.get(py_version);\n",
       "    } else if (root.Bokeh.version === py_version) {\n",
       "      return root.Bokeh\n",
       "    }\n",
       "    return null\n",
       "  }\n",
       "  function is_loaded(root) {\n",
       "    var Bokeh = get_bokeh(root)\n",
       "    return (Bokeh != null && Bokeh.Panel !== undefined)\n",
       "  }\n",
       "  if (is_loaded(root)) {\n",
       "    embed_document(root);\n",
       "  } else {\n",
       "    var attempts = 0;\n",
       "    var timer = setInterval(function(root) {\n",
       "      if (is_loaded(root)) {\n",
       "        clearInterval(timer);\n",
       "        embed_document(root);\n",
       "      } else if (document.readyState == \"complete\") {\n",
       "        attempts++;\n",
       "        if (attempts > 200) {\n",
       "          clearInterval(timer);\n",
       "\t  var Bokeh = get_bokeh(root)\n",
       "\t  if (Bokeh == null || Bokeh.Panel == null) {\n",
       "            console.warn(\"Panel: ERROR: Unable to run Panel code because Bokeh or Panel library is missing\");\n",
       "\t  } else {\n",
       "\t    console.warn(\"Panel: WARNING: Attempting to render but not all required libraries could be resolved.\")\n",
       "\t    embed_document(root)\n",
       "\t  }\n",
       "        }\n",
       "      }\n",
       "    }, 25, root)\n",
       "  }\n",
       "})(window);</script>"
      ]
     },
     "metadata": {
      "application/vnd.holoviews_exec.v0+json": {
       "id": "b4e3db52-ec29-4c26-82d9-8d3f3af0a988"
      }
     },
     "output_type": "display_data"
    }
   ],
   "source": [
    "from bs4 import BeautifulSoup\n",
    "# import pandas as pd\n",
    "from datetime import datetime, timedelta\n",
    "from itertools import combinations\n",
    "import json\n",
    "import requests\n",
    "import math\n",
    "from typing import Optional, List, Dict\n",
    "import os\n",
    "\n",
    "from pydantic import BaseModel\n",
    "from typing import Mapping\n",
    "import numpy as np\n",
    "import polars as pl\n",
    "import hvplot.polars\n",
    "import pandas as pd\n",
    "import altair as alt\n",
    "import math\n",
    "\n",
    "from shared.utils import formalize_data_with_str\n",
    "from shared.random_rules import RandomRules"
   ]
  },
  {
   "cell_type": "code",
   "execution_count": 4,
   "metadata": {},
   "outputs": [],
   "source": [
    "rr = RandomRules(\n",
    "  TOTAL_NUMBERS = 50,\n",
    "  CHOOSE = 6,\n",
    "  MAX_PRIMES = 3,\n",
    "  N_VALUES=[\"1\", \"2\", \"3\"],\n",
    "  # Rangos de valores de las bolillas\n",
    "  MIN_B_VALUES = [1, 2, 3, 4, 5, 6],\n",
    "  MAX_B_VALUES = [45, 46, 47, 48, 49, 50]\n",
    ")"
   ]
  },
  {
   "cell_type": "code",
   "execution_count": 5,
   "metadata": {},
   "outputs": [],
   "source": [
    "url = 'https://resultados.latinka.com.pe/i.do?m=historico&t=0&s=41'\n",
    "response = requests.get(url)\n",
    "soup = BeautifulSoup(response.text, 'html.parser')\n",
    "\n",
    "tables = soup.select('table')\n",
    "rows = tables[1].find_all('tr')"
   ]
  },
  {
   "cell_type": "code",
   "execution_count": 6,
   "metadata": {},
   "outputs": [
    {
     "name": "stdout",
     "output_type": "stream",
     "text": [
      "TOTAL_LINES=2489\n"
     ]
    },
    {
     "data": {
      "text/html": [
       "<div><style>\n",
       ".dataframe > thead > tr,\n",
       ".dataframe > tbody > tr {\n",
       "  text-align: right;\n",
       "  white-space: pre-wrap;\n",
       "}\n",
       "</style>\n",
       "<small>shape: (10, 30)</small><table border=\"1\" class=\"dataframe\"><thead><tr><th>fecha</th><th>sorteo</th><th>bolillas</th><th>yapa</th><th>adicionales</th><th>sorteo_extra</th><th>id</th><th>combo</th><th>b1</th><th>b2</th><th>b3</th><th>b4</th><th>b5</th><th>b6</th><th>str_b1</th><th>str_b2</th><th>str_b3</th><th>str_b4</th><th>str_b5</th><th>str_b6</th><th>post_str_b1</th><th>post_str_b2</th><th>post_str_b3</th><th>post_str_b4</th><th>post_str_b5</th><th>post_str_blast</th><th>is_rare_combination</th><th>reason</th><th>jumps_map</th><th>unijump</th></tr><tr><td>str</td><td>str</td><td>str</td><td>str</td><td>str</td><td>str</td><td>str</td><td>array[u8, 6]</td><td>u8</td><td>u8</td><td>u8</td><td>u8</td><td>u8</td><td>u8</td><td>str</td><td>str</td><td>str</td><td>str</td><td>str</td><td>str</td><td>str</td><td>str</td><td>str</td><td>str</td><td>str</td><td>str</td><td>bool</td><td>u8</td><td>str</td><td>i64</td></tr></thead><tbody><tr><td>&quot;29/06/2025&quot;</td><td>&quot;1207&quot;</td><td>&quot;47 37 32 22 24 23&quot;</td><td>&quot;04&quot;</td><td>&quot;20 39 09&quot;</td><td>&quot;Promoción Sí o Sí&quot;</td><td>&quot;222324323747&quot;</td><td>[22, 23, … 47]</td><td>22</td><td>23</td><td>24</td><td>32</td><td>37</td><td>47</td><td>&quot;22&quot;</td><td>&quot;23&quot;</td><td>&quot;24&quot;</td><td>&quot;32&quot;</td><td>&quot;37&quot;</td><td>&quot;47&quot;</td><td>null</td><td>null</td><td>null</td><td>null</td><td>null</td><td>null</td><td>true</td><td>24</td><td>&quot;01_01_08_05_10&quot;</td><td>35</td></tr><tr><td>&quot;25/06/2025&quot;</td><td>&quot;1206&quot;</td><td>&quot;38 30 08 27 48 14&quot;</td><td>&quot;17&quot;</td><td>&quot;18&quot;</td><td>&quot;Promoción Sí o Sí&quot;</td><td>&quot;081427303848&quot;</td><td>[8, 14, … 48]</td><td>8</td><td>14</td><td>27</td><td>30</td><td>38</td><td>48</td><td>&quot;08&quot;</td><td>&quot;14&quot;</td><td>&quot;27&quot;</td><td>&quot;30&quot;</td><td>&quot;38&quot;</td><td>&quot;48&quot;</td><td>&quot;22&quot;</td><td>&quot;23&quot;</td><td>&quot;24&quot;</td><td>&quot;32&quot;</td><td>&quot;37&quot;</td><td>&quot;47&quot;</td><td>false</td><td>0</td><td>&quot;06_13_03_08_10&quot;</td><td>-50</td></tr><tr><td>&quot;22/06/2025&quot;</td><td>&quot;1205&quot;</td><td>&quot;07 45 25 33 02 46&quot;</td><td>&quot;22&quot;</td><td>&quot;27 44&quot;</td><td>&quot;Promoción Sí o Sí&quot;</td><td>&quot;020725334546&quot;</td><td>[2, 7, … 46]</td><td>2</td><td>7</td><td>25</td><td>33</td><td>45</td><td>46</td><td>&quot;02&quot;</td><td>&quot;07&quot;</td><td>&quot;25&quot;</td><td>&quot;33&quot;</td><td>&quot;45&quot;</td><td>&quot;46&quot;</td><td>&quot;08&quot;</td><td>&quot;14&quot;</td><td>&quot;27&quot;</td><td>&quot;30&quot;</td><td>&quot;38&quot;</td><td>&quot;48&quot;</td><td>true</td><td>16</td><td>&quot;05_18_08_12_01&quot;</td><td>-66</td></tr><tr><td>&quot;18/06/2025&quot;</td><td>&quot;1204&quot;</td><td>&quot;26 45 28 09 24 50&quot;</td><td>&quot;14&quot;</td><td>&quot;07&quot;</td><td>&quot;Promoción Sí o Sí&quot;</td><td>&quot;092426284550&quot;</td><td>[9, 24, … 50]</td><td>9</td><td>24</td><td>26</td><td>28</td><td>45</td><td>50</td><td>&quot;09&quot;</td><td>&quot;24&quot;</td><td>&quot;26&quot;</td><td>&quot;28&quot;</td><td>&quot;45&quot;</td><td>&quot;50&quot;</td><td>&quot;02&quot;</td><td>&quot;07&quot;</td><td>&quot;25&quot;</td><td>&quot;33&quot;</td><td>&quot;45&quot;</td><td>&quot;46&quot;</td><td>true</td><td>24</td><td>&quot;15_02_02_17_05&quot;</td><td>-44</td></tr><tr><td>&quot;15/06/2025&quot;</td><td>&quot;1203&quot;</td><td>&quot;41 24 42 34 29 44&quot;</td><td>&quot;26&quot;</td><td>&quot;08 30 39&quot;</td><td>&quot;Promoción Sí o Sí&quot;</td><td>&quot;242934414244&quot;</td><td>[24, 29, … 44]</td><td>24</td><td>29</td><td>34</td><td>41</td><td>42</td><td>44</td><td>&quot;24&quot;</td><td>&quot;29&quot;</td><td>&quot;34&quot;</td><td>&quot;41&quot;</td><td>&quot;42&quot;</td><td>&quot;44&quot;</td><td>&quot;09&quot;</td><td>&quot;24&quot;</td><td>&quot;26&quot;</td><td>&quot;28&quot;</td><td>&quot;45&quot;</td><td>&quot;50&quot;</td><td>true</td><td>8</td><td>&quot;05_05_07_01_02&quot;</td><td>25</td></tr><tr><td>&quot;11/06/2025&quot;</td><td>&quot;1202&quot;</td><td>&quot;22 39 20 19 38 15&quot;</td><td>&quot;32&quot;</td><td>&quot;13 35 25&quot;</td><td>&quot;Promoción Sí o Sí&quot;</td><td>&quot;151920223839&quot;</td><td>[15, 19, … 39]</td><td>15</td><td>19</td><td>20</td><td>22</td><td>38</td><td>39</td><td>&quot;15&quot;</td><td>&quot;19&quot;</td><td>&quot;20&quot;</td><td>&quot;22&quot;</td><td>&quot;38&quot;</td><td>&quot;39&quot;</td><td>&quot;24&quot;</td><td>&quot;29&quot;</td><td>&quot;34&quot;</td><td>&quot;41&quot;</td><td>&quot;42&quot;</td><td>&quot;44&quot;</td><td>false</td><td>0</td><td>&quot;04_01_02_16_01&quot;</td><td>-51</td></tr><tr><td>&quot;08/06/2025&quot;</td><td>&quot;1201&quot;</td><td>&quot;05 08 25 18 34 12&quot;</td><td>&quot;14&quot;</td><td>&quot;44&quot;</td><td>&quot;Promoción Sí o Sí&quot;</td><td>&quot;050812182534&quot;</td><td>[5, 8, … 34]</td><td>5</td><td>8</td><td>12</td><td>18</td><td>25</td><td>34</td><td>&quot;05&quot;</td><td>&quot;08&quot;</td><td>&quot;12&quot;</td><td>&quot;18&quot;</td><td>&quot;25&quot;</td><td>&quot;34&quot;</td><td>&quot;15&quot;</td><td>&quot;19&quot;</td><td>&quot;20&quot;</td><td>&quot;22&quot;</td><td>&quot;38&quot;</td><td>&quot;39&quot;</td><td>false</td><td>0</td><td>&quot;03_04_06_07_09&quot;</td><td>4</td></tr><tr><td>&quot;04/06/2025&quot;</td><td>&quot;1200&quot;</td><td>&quot;01 36 50 30 05 21&quot;</td><td>&quot;37&quot;</td><td>&quot;09 24 43&quot;</td><td>&quot;Promoción Sí o Sí&quot;</td><td>&quot;010521303650&quot;</td><td>[1, 5, … 50]</td><td>1</td><td>5</td><td>21</td><td>30</td><td>36</td><td>50</td><td>&quot;01&quot;</td><td>&quot;05&quot;</td><td>&quot;21&quot;</td><td>&quot;30&quot;</td><td>&quot;36&quot;</td><td>&quot;50&quot;</td><td>&quot;05&quot;</td><td>&quot;08&quot;</td><td>&quot;12&quot;</td><td>&quot;18&quot;</td><td>&quot;25&quot;</td><td>&quot;34&quot;</td><td>false</td><td>0</td><td>&quot;04_16_09_06_14&quot;</td><td>-16</td></tr><tr><td>&quot;01/06/2025&quot;</td><td>&quot;1199&quot;</td><td>&quot;02 16 19 14 43 22&quot;</td><td>&quot;04&quot;</td><td>&quot;17 48 27&quot;</td><td>&quot;Promoción Sí o Sí&quot;</td><td>&quot;021416192243&quot;</td><td>[2, 14, … 43]</td><td>2</td><td>14</td><td>16</td><td>19</td><td>22</td><td>43</td><td>&quot;02&quot;</td><td>&quot;14&quot;</td><td>&quot;16&quot;</td><td>&quot;19&quot;</td><td>&quot;22&quot;</td><td>&quot;43&quot;</td><td>&quot;01&quot;</td><td>&quot;05&quot;</td><td>&quot;21&quot;</td><td>&quot;30&quot;</td><td>&quot;36&quot;</td><td>&quot;50&quot;</td><td>true</td><td>8</td><td>&quot;12_02_03_03_21&quot;</td><td>31</td></tr><tr><td>&quot;28/05/2025&quot;</td><td>&quot;1198&quot;</td><td>&quot;02 16 15 50 09 04&quot;</td><td>&quot;37&quot;</td><td>&quot;30 25 49 13&quot;</td><td>&quot;Promoción Sí o Sí&quot;</td><td>&quot;020409151650&quot;</td><td>[2, 4, … 50]</td><td>2</td><td>4</td><td>9</td><td>15</td><td>16</td><td>50</td><td>&quot;02&quot;</td><td>&quot;04&quot;</td><td>&quot;09&quot;</td><td>&quot;15&quot;</td><td>&quot;16&quot;</td><td>&quot;50&quot;</td><td>&quot;02&quot;</td><td>&quot;14&quot;</td><td>&quot;16&quot;</td><td>&quot;19&quot;</td><td>&quot;22&quot;</td><td>&quot;43&quot;</td><td>true</td><td>16</td><td>&quot;02_05_06_01_34&quot;</td><td>48</td></tr></tbody></table></div>"
      ],
      "text/plain": [
       "shape: (10, 30)\n",
       "┌────────────┬────────┬───────────────┬──────┬───┬───────────────┬────────┬──────────────┬─────────┐\n",
       "│ fecha      ┆ sorteo ┆ bolillas      ┆ yapa ┆ … ┆ is_rare_combi ┆ reason ┆ jumps_map    ┆ unijump │\n",
       "│ ---        ┆ ---    ┆ ---           ┆ ---  ┆   ┆ nation        ┆ ---    ┆ ---          ┆ ---     │\n",
       "│ str        ┆ str    ┆ str           ┆ str  ┆   ┆ ---           ┆ u8     ┆ str          ┆ i64     │\n",
       "│            ┆        ┆               ┆      ┆   ┆ bool          ┆        ┆              ┆         │\n",
       "╞════════════╪════════╪═══════════════╪══════╪═══╪═══════════════╪════════╪══════════════╪═════════╡\n",
       "│ 29/06/2025 ┆ 1207   ┆ 47 37 32 22   ┆ 04   ┆ … ┆ true          ┆ 24     ┆ 01_01_08_05_ ┆ 35      │\n",
       "│            ┆        ┆ 24 23         ┆      ┆   ┆               ┆        ┆ 10           ┆         │\n",
       "│ 25/06/2025 ┆ 1206   ┆ 38 30 08 27   ┆ 17   ┆ … ┆ false         ┆ 0      ┆ 06_13_03_08_ ┆ -50     │\n",
       "│            ┆        ┆ 48 14         ┆      ┆   ┆               ┆        ┆ 10           ┆         │\n",
       "│ 22/06/2025 ┆ 1205   ┆ 07 45 25 33   ┆ 22   ┆ … ┆ true          ┆ 16     ┆ 05_18_08_12_ ┆ -66     │\n",
       "│            ┆        ┆ 02 46         ┆      ┆   ┆               ┆        ┆ 01           ┆         │\n",
       "│ 18/06/2025 ┆ 1204   ┆ 26 45 28 09   ┆ 14   ┆ … ┆ true          ┆ 24     ┆ 15_02_02_17_ ┆ -44     │\n",
       "│            ┆        ┆ 24 50         ┆      ┆   ┆               ┆        ┆ 05           ┆         │\n",
       "│ 15/06/2025 ┆ 1203   ┆ 41 24 42 34   ┆ 26   ┆ … ┆ true          ┆ 8      ┆ 05_05_07_01_ ┆ 25      │\n",
       "│            ┆        ┆ 29 44         ┆      ┆   ┆               ┆        ┆ 02           ┆         │\n",
       "│ 11/06/2025 ┆ 1202   ┆ 22 39 20 19   ┆ 32   ┆ … ┆ false         ┆ 0      ┆ 04_01_02_16_ ┆ -51     │\n",
       "│            ┆        ┆ 38 15         ┆      ┆   ┆               ┆        ┆ 01           ┆         │\n",
       "│ 08/06/2025 ┆ 1201   ┆ 05 08 25 18   ┆ 14   ┆ … ┆ false         ┆ 0      ┆ 03_04_06_07_ ┆ 4       │\n",
       "│            ┆        ┆ 34 12         ┆      ┆   ┆               ┆        ┆ 09           ┆         │\n",
       "│ 04/06/2025 ┆ 1200   ┆ 01 36 50 30   ┆ 37   ┆ … ┆ false         ┆ 0      ┆ 04_16_09_06_ ┆ -16     │\n",
       "│            ┆        ┆ 05 21         ┆      ┆   ┆               ┆        ┆ 14           ┆         │\n",
       "│ 01/06/2025 ┆ 1199   ┆ 02 16 19 14   ┆ 04   ┆ … ┆ true          ┆ 8      ┆ 12_02_03_03_ ┆ 31      │\n",
       "│            ┆        ┆ 43 22         ┆      ┆   ┆               ┆        ┆ 21           ┆         │\n",
       "│ 28/05/2025 ┆ 1198   ┆ 02 16 15 50   ┆ 37   ┆ … ┆ true          ┆ 16     ┆ 02_05_06_01_ ┆ 48      │\n",
       "│            ┆        ┆ 09 04         ┆      ┆   ┆               ┆        ┆ 34           ┆         │\n",
       "└────────────┴────────┴───────────────┴──────┴───┴───────────────┴────────┴──────────────┴─────────┘"
      ]
     },
     "metadata": {},
     "output_type": "display_data"
    }
   ],
   "source": [
    "lst = []\n",
    "post_str_b1 = None\n",
    "post_str_b2 = None\n",
    "post_str_b3 = None\n",
    "post_str_b4 = None\n",
    "post_str_b5 = None\n",
    "post_str_blast = None\n",
    "for row in rows:\n",
    "  cols = [data.text.strip() for data in row.find_all('td')]\n",
    "  \n",
    "  id, bolillas_int, str_combo = formalize_data_with_str(bolillas_str=cols[2])\n",
    "  cols.append(id)\n",
    "  cols.append(bolillas_int)\n",
    "  cols.extend([b for b in bolillas_int])\n",
    "  cols.extend(str_combo)\n",
    "  cols.append(post_str_b1)\n",
    "  cols.append(post_str_b2)\n",
    "  cols.append(post_str_b3)\n",
    "  cols.append(post_str_b4)\n",
    "  cols.append(post_str_b5)\n",
    "  cols.append(post_str_blast)\n",
    "\n",
    "  is_rare, reason = rr.is_rare_combination(bolillas_int, id)\n",
    "  cols.append(is_rare)\n",
    "  cols.append(reason)\n",
    "\n",
    "  cols.append(rr.jumps_map(bolillas_int))\n",
    "  cols.append(rr.unijump(bolillas_int))\n",
    "  \n",
    "  lst.append(cols)\n",
    "\n",
    "  post_str_b1 = str_combo[0]\n",
    "  post_str_b2 = str_combo[1]\n",
    "  post_str_b3 = str_combo[2]\n",
    "  post_str_b4 = str_combo[3]\n",
    "  post_str_b5 = str_combo[4]\n",
    "  post_str_blast = str_combo[-1]\n",
    "\n",
    "with open('./gn_tnk_v3.json', 'w') as file: \n",
    "  json.dump(lst, file)\n",
    "\n",
    "dfRows = pl.DataFrame(\n",
    "  lst,\n",
    "  schema=[\n",
    "    'fecha', 'sorteo', 'bolillas', 'yapa', 'adicionales', 'sorteo_extra',\n",
    "    'id', 'combo', 'b1', 'b2', 'b3', 'b4', 'b5', 'b6',\n",
    "    'str_b1', 'str_b2', 'str_b3', 'str_b4', 'str_b5', 'str_b6',\n",
    "    'post_str_b1', 'post_str_b2', 'post_str_b3', 'post_str_b4', 'post_str_b5', 'post_str_blast',\n",
    "    'is_rare_combination', 'reason',\n",
    "    \"jumps_map\", \"unijump\"\n",
    "  ],\n",
    "  schema_overrides={\n",
    "    'combo': pl.Array(pl.UInt8, 6),\n",
    "    'b1': pl.UInt8,\n",
    "    'b2': pl.UInt8,\n",
    "    'b3': pl.UInt8,\n",
    "    'b4': pl.UInt8,\n",
    "    'b5': pl.UInt8,\n",
    "    'b6': pl.UInt8,\n",
    "    'reason': pl.UInt8\n",
    "  },\n",
    "  orient='row'\n",
    ")\n",
    "\n",
    "TOTAL_LINES = len(dfRows)\n",
    "print(f'{TOTAL_LINES=}')\n",
    "display(dfRows.head(10))\n",
    "dfRows.write_parquet('dfrows_tnk.parquet')"
   ]
  },
  {
   "cell_type": "code",
   "execution_count": 7,
   "metadata": {},
   "outputs": [
    {
     "data": {
      "text/plain": [
       "23"
      ]
     },
     "execution_count": 7,
     "metadata": {},
     "output_type": "execute_result"
    }
   ],
   "source": [
    "dfRows.item(0, 'b2')"
   ]
  },
  {
   "cell_type": "code",
   "execution_count": 8,
   "metadata": {},
   "outputs": [],
   "source": [
    "import holoviews as hv\n",
    "def plot_post_col (col: str, post_col: str, test_value: str | None = None):\n",
    "  if test_value == None:\n",
    "    test_value = dfRows.item(0, col)\n",
    "    print(f'Setting {test_value=}')\n",
    "\n",
    "  df_viz = dfRows \\\n",
    "    .filter(\n",
    "      pl.col(col) == test_value,\n",
    "      pl.col(post_col).is_not_null()\n",
    "    ) \\\n",
    "    .group_by(\n",
    "      post_col\n",
    "    ).agg(pl.count(post_col).alias('count')) \\\n",
    "    .sort(\"count\", descending=True)\n",
    "  \n",
    "  \n",
    "  df_10_last = dfRows \\\n",
    "    .filter(\n",
    "      pl.col(col) == test_value,\n",
    "      pl.col(post_col).is_not_null()\n",
    "    ) \\\n",
    "    .head(10)\n",
    "  \n",
    "  # Agrega una columna que sea el porcentaje de la frecuencia relativa\n",
    "  total = df_viz['count'].sum()\n",
    "  df_viz = df_viz.with_columns(\n",
    "    ( (pl.col('count') / total) * 100 ).alias('percent')\n",
    "  )\n",
    "\n",
    "  mean_percent = df_viz['percent'].mean()\n",
    "  mean_percent_75 = mean_percent * 75 / 50\n",
    "  mean_percent_25 = mean_percent * 25 / 50\n",
    "\n",
    "  chart = df_viz.hvplot.bar(\n",
    "    x=post_col,\n",
    "    y='percent'\n",
    "  )\n",
    "\n",
    "  chart = chart * hv.HLine(mean_percent).opts(color='red')\n",
    "  chart = chart * hv.HLine(mean_percent_75).opts(color='blue')\n",
    "  chart = chart * hv.HLine(mean_percent_25).opts(color='blue')\n",
    "  \n",
    "  chart.opts(default_tools=[\"pan\"])\n",
    "\n",
    "  df_jumps_map = dfRows \\\n",
    "    .filter(\n",
    "      pl.col(col) == test_value,\n",
    "      pl.col(post_col).is_not_null()\n",
    "    ) \\\n",
    "    .group_by(\n",
    "      'jumps_map'\n",
    "    ).agg(pl.count('jumps_map').alias('count')) \\\n",
    "    .sort(\"count\", descending=True)\n",
    "  \n",
    "  df_unijump = dfRows \\\n",
    "    .filter(\n",
    "      pl.col(col) == test_value,\n",
    "      pl.col(post_col).is_not_null()\n",
    "    ) \\\n",
    "    .group_by(\n",
    "      'unijump'\n",
    "    ).agg(pl.count('unijump').alias('count')) \\\n",
    "    .sort(\"count\", descending=True)\n",
    "\n",
    "\n",
    "  print(f'df_viz FOR {col} = {test_value}')\n",
    "  display(df_viz)\n",
    "\n",
    "  display(chart)\n",
    "  \n",
    "\n",
    "  print(f'df_10_last FOR {col} = {test_value}')\n",
    "  last_results = list(set(df_10_last[post_col][0:3]))\n",
    "  print(f'Last 3 results {last_results=}')\n",
    "  display(df_10_last)\n",
    "  \n",
    "  print(f'df_jumps_map FOR {col} = {test_value}')\n",
    "  display(df_jumps_map)\n",
    "  # display(df_unijump)\n",
    "\n",
    "  print(f'df_unijump FOR {col} = {test_value}')\n",
    "  display(df_unijump)\n",
    "\n",
    "  lst_post_str_b = df_viz.filter(pl.col('percent') >= mean_percent)[post_col].to_list()\n",
    "  lst_jumps_map = df_jumps_map['jumps_map'].to_list() # Used to discard\n",
    "  \n",
    "  return lst_post_str_b, lst_jumps_map, last_results"
   ]
  },
  {
   "cell_type": "code",
   "execution_count": 9,
   "metadata": {},
   "outputs": [
    {
     "name": "stdout",
     "output_type": "stream",
     "text": [
      "Setting test_value='22'\n",
      "df_viz FOR str_b1 = 22\n"
     ]
    },
    {
     "data": {
      "text/html": [
       "<div><style>\n",
       ".dataframe > thead > tr,\n",
       ".dataframe > tbody > tr {\n",
       "  text-align: right;\n",
       "  white-space: pre-wrap;\n",
       "}\n",
       "</style>\n",
       "<small>shape: (8, 3)</small><table border=\"1\" class=\"dataframe\"><thead><tr><th>post_str_b1</th><th>count</th><th>percent</th></tr><tr><td>str</td><td>u32</td><td>f64</td></tr></thead><tbody><tr><td>&quot;02&quot;</td><td>2</td><td>18.181818</td></tr><tr><td>&quot;03&quot;</td><td>2</td><td>18.181818</td></tr><tr><td>&quot;12&quot;</td><td>2</td><td>18.181818</td></tr><tr><td>&quot;04&quot;</td><td>1</td><td>9.090909</td></tr><tr><td>&quot;14&quot;</td><td>1</td><td>9.090909</td></tr><tr><td>&quot;08&quot;</td><td>1</td><td>9.090909</td></tr><tr><td>&quot;07&quot;</td><td>1</td><td>9.090909</td></tr><tr><td>&quot;09&quot;</td><td>1</td><td>9.090909</td></tr></tbody></table></div>"
      ],
      "text/plain": [
       "shape: (8, 3)\n",
       "┌─────────────┬───────┬───────────┐\n",
       "│ post_str_b1 ┆ count ┆ percent   │\n",
       "│ ---         ┆ ---   ┆ ---       │\n",
       "│ str         ┆ u32   ┆ f64       │\n",
       "╞═════════════╪═══════╪═══════════╡\n",
       "│ 02          ┆ 2     ┆ 18.181818 │\n",
       "│ 03          ┆ 2     ┆ 18.181818 │\n",
       "│ 12          ┆ 2     ┆ 18.181818 │\n",
       "│ 04          ┆ 1     ┆ 9.090909  │\n",
       "│ 14          ┆ 1     ┆ 9.090909  │\n",
       "│ 08          ┆ 1     ┆ 9.090909  │\n",
       "│ 07          ┆ 1     ┆ 9.090909  │\n",
       "│ 09          ┆ 1     ┆ 9.090909  │\n",
       "└─────────────┴───────┴───────────┘"
      ]
     },
     "metadata": {},
     "output_type": "display_data"
    },
    {
     "data": {},
     "metadata": {},
     "output_type": "display_data"
    },
    {
     "data": {
      "application/vnd.holoviews_exec.v0+json": "",
      "text/html": [
       "<div id='30f7580b-58d7-424b-8863-c6aef49bef9e'>\n",
       "  <div id=\"ac6f2a17-238e-4407-88aa-2710aa293b73\" data-root-id=\"30f7580b-58d7-424b-8863-c6aef49bef9e\" style=\"display: contents;\"></div>\n",
       "</div>\n",
       "<script type=\"application/javascript\">(function(root) {\n",
       "  var docs_json = {\"1d0e6090-b383-4b6a-a2f9-f15c064b76ed\":{\"version\":\"3.7.2\",\"title\":\"Bokeh Application\",\"roots\":[{\"type\":\"object\",\"name\":\"Row\",\"id\":\"30f7580b-58d7-424b-8863-c6aef49bef9e\",\"attributes\":{\"name\":\"Row00286\",\"tags\":[\"embedded\"],\"stylesheets\":[\"\\n:host(.pn-loading):before, .pn-loading:before {\\n  background-color: #c3c3c3;\\n  mask-size: auto calc(min(50%, 400px));\\n  -webkit-mask-size: auto calc(min(50%, 400px));\\n}\",{\"type\":\"object\",\"name\":\"ImportedStyleSheet\",\"id\":\"40cc4368-9308-4390-a7bb-27c1893a5a22\",\"attributes\":{\"url\":\"https://cdn.holoviz.org/panel/1.6.2/dist/css/loading.css\"}},{\"type\":\"object\",\"name\":\"ImportedStyleSheet\",\"id\":\"16ab4d68-7308-41f4-8a4d-720c9d59578f\",\"attributes\":{\"url\":\"https://cdn.holoviz.org/panel/1.6.2/dist/css/listpanel.css\"}},{\"type\":\"object\",\"name\":\"ImportedStyleSheet\",\"id\":\"a1438740-b64f-4fab-9cda-72cc320869dd\",\"attributes\":{\"url\":\"https://cdn.holoviz.org/panel/1.6.2/dist/bundled/theme/default.css\"}},{\"type\":\"object\",\"name\":\"ImportedStyleSheet\",\"id\":\"9d35293b-b7d4-4697-81aa-a5d40419ec9b\",\"attributes\":{\"url\":\"https://cdn.holoviz.org/panel/1.6.2/dist/bundled/theme/native.css\"}}],\"min_width\":700,\"margin\":0,\"sizing_mode\":\"stretch_width\",\"align\":\"start\",\"children\":[{\"type\":\"object\",\"name\":\"Spacer\",\"id\":\"b6d984e2-46bf-4715-9014-a14e7d0b04ba\",\"attributes\":{\"name\":\"HSpacer00290\",\"stylesheets\":[\"\\n:host(.pn-loading):before, .pn-loading:before {\\n  background-color: #c3c3c3;\\n  mask-size: auto calc(min(50%, 400px));\\n  -webkit-mask-size: auto calc(min(50%, 400px));\\n}\",{\"id\":\"40cc4368-9308-4390-a7bb-27c1893a5a22\"},{\"id\":\"a1438740-b64f-4fab-9cda-72cc320869dd\"},{\"id\":\"9d35293b-b7d4-4697-81aa-a5d40419ec9b\"}],\"margin\":0,\"sizing_mode\":\"stretch_width\",\"align\":\"start\"}},{\"type\":\"object\",\"name\":\"Figure\",\"id\":\"d2a1376c-5cb3-44da-aebf-66035c7789b6\",\"attributes\":{\"width\":700,\"height\":300,\"margin\":[5,10],\"sizing_mode\":\"fixed\",\"align\":\"start\",\"x_range\":{\"type\":\"object\",\"name\":\"FactorRange\",\"id\":\"1aff0527-3253-4694-b3fa-c07d70421bd0\",\"attributes\":{\"name\":\"post_str_b1\",\"tags\":[[[\"post_str_b1\",null]],[]],\"factors\":[\"02\",\"03\",\"12\",\"04\",\"14\",\"08\",\"07\",\"09\"]}},\"y_range\":{\"type\":\"object\",\"name\":\"Range1d\",\"id\":\"bf8a1db0-9cb2-477c-a748-e263265ada05\",\"attributes\":{\"name\":\"percent\",\"tags\":[[[\"percent\",null]],{\"type\":\"map\",\"entries\":[[\"invert_yaxis\",false],[\"autorange\",false]]}],\"end\":19.090909090909093,\"reset_start\":0.0,\"reset_end\":19.090909090909093}},\"x_scale\":{\"type\":\"object\",\"name\":\"CategoricalScale\",\"id\":\"8a73483b-a0b9-4cda-af6a-3c7564decd6a\"},\"y_scale\":{\"type\":\"object\",\"name\":\"LinearScale\",\"id\":\"741227ce-0a60-41cd-b915-17317c6dfe7e\"},\"title\":{\"type\":\"object\",\"name\":\"Title\",\"id\":\"089487c0-0920-4c2f-931a-931f26c06665\",\"attributes\":{\"text_color\":\"black\",\"text_font_size\":\"12pt\"}},\"renderers\":[{\"type\":\"object\",\"name\":\"GlyphRenderer\",\"id\":\"3b150e8a-9a13-45f7-a5a5-05a7a33fad1c\",\"attributes\":{\"data_source\":{\"type\":\"object\",\"name\":\"ColumnDataSource\",\"id\":\"e4a2b7e6-38d3-4e0b-bebd-5bd664ac1d3c\",\"attributes\":{\"selected\":{\"type\":\"object\",\"name\":\"Selection\",\"id\":\"42130bd6-3164-430f-9658-efd55d3067d0\",\"attributes\":{\"indices\":[],\"line_indices\":[]}},\"selection_policy\":{\"type\":\"object\",\"name\":\"UnionRenderers\",\"id\":\"7cb1c304-4765-40f1-bb1c-bcf39697d32d\"},\"data\":{\"type\":\"map\",\"entries\":[[\"post_str_b1\",[\"02\",\"03\",\"12\",\"04\",\"14\",\"08\",\"07\",\"09\"]],[\"percent\",{\"type\":\"ndarray\",\"array\":{\"type\":\"bytes\",\"data\":\"L7rooosuMkAvuuiiiy4yQC+66KKLLjJAL7rooosuIkAvuuiiiy4iQC+66KKLLiJAL7rooosuIkAvuuiiiy4iQA==\"},\"shape\":[8],\"dtype\":\"float64\",\"order\":\"little\"}]]}}},\"view\":{\"type\":\"object\",\"name\":\"CDSView\",\"id\":\"349433de-d2ab-466a-a514-131e2e5bddec\",\"attributes\":{\"filter\":{\"type\":\"object\",\"name\":\"AllIndices\",\"id\":\"b1ab3a19-ffaf-4aa0-a6bc-dc31c3a06fb6\"}}},\"glyph\":{\"type\":\"object\",\"name\":\"VBar\",\"id\":\"642311fb-3c64-4e50-8713-87bc671f21d3\",\"attributes\":{\"tags\":[\"apply_ranges\"],\"x\":{\"type\":\"field\",\"field\":\"post_str_b1\"},\"width\":{\"type\":\"value\",\"value\":0.8},\"top\":{\"type\":\"field\",\"field\":\"percent\"},\"fill_color\":{\"type\":\"value\",\"value\":\"#30a2da\"},\"hatch_color\":{\"type\":\"value\",\"value\":\"#30a2da\"}}},\"selection_glyph\":{\"type\":\"object\",\"name\":\"VBar\",\"id\":\"56223f50-94e3-4ff4-854e-0363b2b6cd72\",\"attributes\":{\"tags\":[\"apply_ranges\"],\"x\":{\"type\":\"field\",\"field\":\"post_str_b1\"},\"width\":{\"type\":\"value\",\"value\":0.8},\"bottom\":{\"type\":\"value\",\"value\":0},\"top\":{\"type\":\"field\",\"field\":\"percent\"},\"line_color\":{\"type\":\"value\",\"value\":\"black\"},\"line_alpha\":{\"type\":\"value\",\"value\":1.0},\"line_width\":{\"type\":\"value\",\"value\":1},\"line_join\":{\"type\":\"value\",\"value\":\"bevel\"},\"line_cap\":{\"type\":\"value\",\"value\":\"butt\"},\"line_dash\":{\"type\":\"value\",\"value\":[]},\"line_dash_offset\":{\"type\":\"value\",\"value\":0},\"fill_color\":{\"type\":\"value\",\"value\":\"#30a2da\"},\"fill_alpha\":{\"type\":\"value\",\"value\":1.0},\"hatch_color\":{\"type\":\"value\",\"value\":\"#30a2da\"},\"hatch_alpha\":{\"type\":\"value\",\"value\":1.0},\"hatch_scale\":{\"type\":\"value\",\"value\":12.0},\"hatch_pattern\":{\"type\":\"value\",\"value\":null},\"hatch_weight\":{\"type\":\"value\",\"value\":1.0}}},\"nonselection_glyph\":{\"type\":\"object\",\"name\":\"VBar\",\"id\":\"c2199b2c-820e-4f08-be4b-d511a20a0062\",\"attributes\":{\"tags\":[\"apply_ranges\"],\"x\":{\"type\":\"field\",\"field\":\"post_str_b1\"},\"width\":{\"type\":\"value\",\"value\":0.8},\"top\":{\"type\":\"field\",\"field\":\"percent\"},\"line_alpha\":{\"type\":\"value\",\"value\":0.1},\"fill_color\":{\"type\":\"value\",\"value\":\"#30a2da\"},\"fill_alpha\":{\"type\":\"value\",\"value\":0.1},\"hatch_color\":{\"type\":\"value\",\"value\":\"#30a2da\"},\"hatch_alpha\":{\"type\":\"value\",\"value\":0.1}}},\"muted_glyph\":{\"type\":\"object\",\"name\":\"VBar\",\"id\":\"68952b91-cd13-4819-b00b-317335d40120\",\"attributes\":{\"tags\":[\"apply_ranges\"],\"x\":{\"type\":\"field\",\"field\":\"post_str_b1\"},\"width\":{\"type\":\"value\",\"value\":0.8},\"top\":{\"type\":\"field\",\"field\":\"percent\"},\"line_alpha\":{\"type\":\"value\",\"value\":0.2},\"fill_color\":{\"type\":\"value\",\"value\":\"#30a2da\"},\"fill_alpha\":{\"type\":\"value\",\"value\":0.2},\"hatch_color\":{\"type\":\"value\",\"value\":\"#30a2da\"},\"hatch_alpha\":{\"type\":\"value\",\"value\":0.2}}}}},{\"type\":\"object\",\"name\":\"Span\",\"id\":\"8b5eefed-cb7a-4d91-9e96-131c50a97371\",\"attributes\":{\"level\":\"glyph\",\"location\":12.500000000000002,\"line_color\":\"red\",\"line_width\":3}},{\"type\":\"object\",\"name\":\"Span\",\"id\":\"0ec33ca0-5ebd-4dc6-a725-6f7cc19a131a\",\"attributes\":{\"level\":\"glyph\",\"location\":18.750000000000004,\"line_color\":\"blue\",\"line_width\":3}},{\"type\":\"object\",\"name\":\"Span\",\"id\":\"d08ee9ee-89ed-4346-8d7a-c54bb10156ba\",\"attributes\":{\"level\":\"glyph\",\"location\":6.250000000000001,\"line_color\":\"blue\",\"line_width\":3}}],\"toolbar\":{\"type\":\"object\",\"name\":\"Toolbar\",\"id\":\"2e574f19-503c-4490-8370-6ef88f868291\",\"attributes\":{\"tools\":[{\"type\":\"object\",\"name\":\"WheelZoomTool\",\"id\":\"8f5ca075-1da4-4325-a4ba-be2e30719dfb\",\"attributes\":{\"tags\":[\"hv_created\"],\"renderers\":\"auto\",\"zoom_together\":\"none\"}},{\"type\":\"object\",\"name\":\"HoverTool\",\"id\":\"3443a20d-d842-41c0-8492-4c05ccc6e819\",\"attributes\":{\"tags\":[\"hv_created\"],\"renderers\":[{\"id\":\"3b150e8a-9a13-45f7-a5a5-05a7a33fad1c\"}],\"tooltips\":[[\"post_str_b1\",\"@{post_str_b1}\"],[\"percent\",\"@{percent}\"]]}},{\"type\":\"object\",\"name\":\"SaveTool\",\"id\":\"be32761b-fab5-4a91-9666-d2e99d19a364\"},{\"type\":\"object\",\"name\":\"PanTool\",\"id\":\"552832f2-f159-48b7-a46a-3e8d7a9fad0f\"},{\"type\":\"object\",\"name\":\"BoxZoomTool\",\"id\":\"74db8b96-031b-4d31-944a-2b69bb0b3a86\",\"attributes\":{\"dimensions\":\"both\",\"overlay\":{\"type\":\"object\",\"name\":\"BoxAnnotation\",\"id\":\"4c92bbb8-f9d5-41ef-b0ce-8eebff1981c0\",\"attributes\":{\"syncable\":false,\"line_color\":\"black\",\"line_alpha\":1.0,\"line_width\":2,\"line_dash\":[4,4],\"fill_color\":\"lightgrey\",\"fill_alpha\":0.5,\"level\":\"overlay\",\"visible\":false,\"left\":{\"type\":\"number\",\"value\":\"nan\"},\"right\":{\"type\":\"number\",\"value\":\"nan\"},\"top\":{\"type\":\"number\",\"value\":\"nan\"},\"bottom\":{\"type\":\"number\",\"value\":\"nan\"},\"left_units\":\"canvas\",\"right_units\":\"canvas\",\"top_units\":\"canvas\",\"bottom_units\":\"canvas\",\"handles\":{\"type\":\"object\",\"name\":\"BoxInteractionHandles\",\"id\":\"281c5204-42fe-400f-8e15-3ae962b2c4d5\",\"attributes\":{\"all\":{\"type\":\"object\",\"name\":\"AreaVisuals\",\"id\":\"76253b46-b14c-4004-a8e7-5f0932a9b21c\",\"attributes\":{\"fill_color\":\"white\",\"hover_fill_color\":\"lightgray\"}}}}}}}},{\"type\":\"object\",\"name\":\"ResetTool\",\"id\":\"6023c467-69d8-4f23-8814-cb6f21706d55\"}],\"active_drag\":{\"id\":\"552832f2-f159-48b7-a46a-3e8d7a9fad0f\"}}},\"left\":[{\"type\":\"object\",\"name\":\"LinearAxis\",\"id\":\"71f016e4-e998-4665-ad48-1fc1abf63436\",\"attributes\":{\"ticker\":{\"type\":\"object\",\"name\":\"BasicTicker\",\"id\":\"3f8fb66d-3e99-4219-8ec7-0876ae196522\",\"attributes\":{\"mantissas\":[1,2,5]}},\"formatter\":{\"type\":\"object\",\"name\":\"BasicTickFormatter\",\"id\":\"58267beb-9d3e-44b7-b934-cbd14f2f8f73\"},\"axis_label\":\"percent\",\"major_label_policy\":{\"type\":\"object\",\"name\":\"AllLabels\",\"id\":\"467c7b52-b690-443a-85fa-1d1f7e755422\"}}}],\"below\":[{\"type\":\"object\",\"name\":\"CategoricalAxis\",\"id\":\"8ac2246f-d449-4d99-ae55-7fa228f12c5a\",\"attributes\":{\"ticker\":{\"type\":\"object\",\"name\":\"CategoricalTicker\",\"id\":\"e1648018-ee63-40a0-80c8-0a87a873b19a\"},\"formatter\":{\"type\":\"object\",\"name\":\"CategoricalTickFormatter\",\"id\":\"fad97283-813d-4217-9325-5df0689df194\"},\"axis_label\":\"post_str_b1\",\"major_label_policy\":{\"type\":\"object\",\"name\":\"AllLabels\",\"id\":\"d69ddcf4-07be-4237-88af-61a94446f450\"}}}],\"center\":[{\"type\":\"object\",\"name\":\"Grid\",\"id\":\"2f70d16e-764a-44cf-8de5-b35fe1763d1f\",\"attributes\":{\"axis\":{\"id\":\"8ac2246f-d449-4d99-ae55-7fa228f12c5a\"},\"grid_line_color\":null}},{\"type\":\"object\",\"name\":\"Grid\",\"id\":\"678d2f1f-91b2-40cc-a73c-769a0ab00b08\",\"attributes\":{\"dimension\":1,\"axis\":{\"id\":\"71f016e4-e998-4665-ad48-1fc1abf63436\"},\"grid_line_color\":null}}],\"min_border_top\":10,\"min_border_bottom\":10,\"min_border_left\":10,\"min_border_right\":10,\"output_backend\":\"webgl\"}},{\"type\":\"object\",\"name\":\"Spacer\",\"id\":\"d0787812-75a2-4d4e-bfca-008b2644cecb\",\"attributes\":{\"name\":\"HSpacer00291\",\"stylesheets\":[\"\\n:host(.pn-loading):before, .pn-loading:before {\\n  background-color: #c3c3c3;\\n  mask-size: auto calc(min(50%, 400px));\\n  -webkit-mask-size: auto calc(min(50%, 400px));\\n}\",{\"id\":\"40cc4368-9308-4390-a7bb-27c1893a5a22\"},{\"id\":\"a1438740-b64f-4fab-9cda-72cc320869dd\"},{\"id\":\"9d35293b-b7d4-4697-81aa-a5d40419ec9b\"}],\"margin\":0,\"sizing_mode\":\"stretch_width\",\"align\":\"start\"}}]}}],\"defs\":[{\"type\":\"model\",\"name\":\"ReactiveHTML1\"},{\"type\":\"model\",\"name\":\"FlexBox1\",\"properties\":[{\"name\":\"align_content\",\"kind\":\"Any\",\"default\":\"flex-start\"},{\"name\":\"align_items\",\"kind\":\"Any\",\"default\":\"flex-start\"},{\"name\":\"flex_direction\",\"kind\":\"Any\",\"default\":\"row\"},{\"name\":\"flex_wrap\",\"kind\":\"Any\",\"default\":\"wrap\"},{\"name\":\"gap\",\"kind\":\"Any\",\"default\":\"\"},{\"name\":\"justify_content\",\"kind\":\"Any\",\"default\":\"flex-start\"}]},{\"type\":\"model\",\"name\":\"FloatPanel1\",\"properties\":[{\"name\":\"config\",\"kind\":\"Any\",\"default\":{\"type\":\"map\"}},{\"name\":\"contained\",\"kind\":\"Any\",\"default\":true},{\"name\":\"position\",\"kind\":\"Any\",\"default\":\"right-top\"},{\"name\":\"offsetx\",\"kind\":\"Any\",\"default\":null},{\"name\":\"offsety\",\"kind\":\"Any\",\"default\":null},{\"name\":\"theme\",\"kind\":\"Any\",\"default\":\"primary\"},{\"name\":\"status\",\"kind\":\"Any\",\"default\":\"normalized\"}]},{\"type\":\"model\",\"name\":\"GridStack1\",\"properties\":[{\"name\":\"ncols\",\"kind\":\"Any\",\"default\":null},{\"name\":\"nrows\",\"kind\":\"Any\",\"default\":null},{\"name\":\"allow_resize\",\"kind\":\"Any\",\"default\":true},{\"name\":\"allow_drag\",\"kind\":\"Any\",\"default\":true},{\"name\":\"state\",\"kind\":\"Any\",\"default\":[]}]},{\"type\":\"model\",\"name\":\"drag1\",\"properties\":[{\"name\":\"slider_width\",\"kind\":\"Any\",\"default\":5},{\"name\":\"slider_color\",\"kind\":\"Any\",\"default\":\"black\"},{\"name\":\"value\",\"kind\":\"Any\",\"default\":50}]},{\"type\":\"model\",\"name\":\"click1\",\"properties\":[{\"name\":\"terminal_output\",\"kind\":\"Any\",\"default\":\"\"},{\"name\":\"debug_name\",\"kind\":\"Any\",\"default\":\"\"},{\"name\":\"clears\",\"kind\":\"Any\",\"default\":0}]},{\"type\":\"model\",\"name\":\"FastWrapper1\",\"properties\":[{\"name\":\"object\",\"kind\":\"Any\",\"default\":null},{\"name\":\"style\",\"kind\":\"Any\",\"default\":null}]},{\"type\":\"model\",\"name\":\"NotificationArea1\",\"properties\":[{\"name\":\"js_events\",\"kind\":\"Any\",\"default\":{\"type\":\"map\"}},{\"name\":\"max_notifications\",\"kind\":\"Any\",\"default\":5},{\"name\":\"notifications\",\"kind\":\"Any\",\"default\":[]},{\"name\":\"position\",\"kind\":\"Any\",\"default\":\"bottom-right\"},{\"name\":\"_clear\",\"kind\":\"Any\",\"default\":0},{\"name\":\"types\",\"kind\":\"Any\",\"default\":[{\"type\":\"map\",\"entries\":[[\"type\",\"warning\"],[\"background\",\"#ffc107\"],[\"icon\",{\"type\":\"map\",\"entries\":[[\"className\",\"fas fa-exclamation-triangle\"],[\"tagName\",\"i\"],[\"color\",\"white\"]]}]]},{\"type\":\"map\",\"entries\":[[\"type\",\"info\"],[\"background\",\"#007bff\"],[\"icon\",{\"type\":\"map\",\"entries\":[[\"className\",\"fas fa-info-circle\"],[\"tagName\",\"i\"],[\"color\",\"white\"]]}]]}]}]},{\"type\":\"model\",\"name\":\"Notification\",\"properties\":[{\"name\":\"background\",\"kind\":\"Any\",\"default\":null},{\"name\":\"duration\",\"kind\":\"Any\",\"default\":3000},{\"name\":\"icon\",\"kind\":\"Any\",\"default\":null},{\"name\":\"message\",\"kind\":\"Any\",\"default\":\"\"},{\"name\":\"notification_type\",\"kind\":\"Any\",\"default\":null},{\"name\":\"_rendered\",\"kind\":\"Any\",\"default\":false},{\"name\":\"_destroyed\",\"kind\":\"Any\",\"default\":false}]},{\"type\":\"model\",\"name\":\"TemplateActions1\",\"properties\":[{\"name\":\"open_modal\",\"kind\":\"Any\",\"default\":0},{\"name\":\"close_modal\",\"kind\":\"Any\",\"default\":0}]},{\"type\":\"model\",\"name\":\"BootstrapTemplateActions1\",\"properties\":[{\"name\":\"open_modal\",\"kind\":\"Any\",\"default\":0},{\"name\":\"close_modal\",\"kind\":\"Any\",\"default\":0}]},{\"type\":\"model\",\"name\":\"TemplateEditor1\",\"properties\":[{\"name\":\"layout\",\"kind\":\"Any\",\"default\":[]}]},{\"type\":\"model\",\"name\":\"MaterialTemplateActions1\",\"properties\":[{\"name\":\"open_modal\",\"kind\":\"Any\",\"default\":0},{\"name\":\"close_modal\",\"kind\":\"Any\",\"default\":0}]},{\"type\":\"model\",\"name\":\"ReactiveESM1\",\"properties\":[{\"name\":\"esm_constants\",\"kind\":\"Any\",\"default\":{\"type\":\"map\"}}]},{\"type\":\"model\",\"name\":\"JSComponent1\",\"properties\":[{\"name\":\"esm_constants\",\"kind\":\"Any\",\"default\":{\"type\":\"map\"}}]},{\"type\":\"model\",\"name\":\"ReactComponent1\",\"properties\":[{\"name\":\"esm_constants\",\"kind\":\"Any\",\"default\":{\"type\":\"map\"}}]},{\"type\":\"model\",\"name\":\"AnyWidgetComponent1\",\"properties\":[{\"name\":\"esm_constants\",\"kind\":\"Any\",\"default\":{\"type\":\"map\"}}]},{\"type\":\"model\",\"name\":\"request_value1\",\"properties\":[{\"name\":\"fill\",\"kind\":\"Any\",\"default\":\"none\"},{\"name\":\"_synced\",\"kind\":\"Any\",\"default\":null},{\"name\":\"_request_sync\",\"kind\":\"Any\",\"default\":0}]}]}};\n",
       "  var render_items = [{\"docid\":\"1d0e6090-b383-4b6a-a2f9-f15c064b76ed\",\"roots\":{\"30f7580b-58d7-424b-8863-c6aef49bef9e\":\"ac6f2a17-238e-4407-88aa-2710aa293b73\"},\"root_ids\":[\"30f7580b-58d7-424b-8863-c6aef49bef9e\"]}];\n",
       "  var docs = Object.values(docs_json)\n",
       "  if (!docs) {\n",
       "    return\n",
       "  }\n",
       "  const py_version = docs[0].version.replace('rc', '-rc.').replace('.dev', '-dev.')\n",
       "  async function embed_document(root) {\n",
       "    var Bokeh = get_bokeh(root)\n",
       "    await Bokeh.embed.embed_items_notebook(docs_json, render_items);\n",
       "    for (const render_item of render_items) {\n",
       "      for (const root_id of render_item.root_ids) {\n",
       "\tconst id_el = document.getElementById(root_id)\n",
       "\tif (id_el.children.length && id_el.children[0].hasAttribute('data-root-id')) {\n",
       "\t  const root_el = id_el.children[0]\n",
       "\t  root_el.id = root_el.id + '-rendered'\n",
       "\t  for (const child of root_el.children) {\n",
       "            // Ensure JupyterLab does not capture keyboard shortcuts\n",
       "            // see: https://jupyterlab.readthedocs.io/en/4.1.x/extension/notebook.html#keyboard-interaction-model\n",
       "\t    child.setAttribute('data-lm-suppress-shortcuts', 'true')\n",
       "\t  }\n",
       "\t}\n",
       "      }\n",
       "    }\n",
       "  }\n",
       "  function get_bokeh(root) {\n",
       "    if (root.Bokeh === undefined) {\n",
       "      return null\n",
       "    } else if (root.Bokeh.version !== py_version) {\n",
       "      if (root.Bokeh.versions === undefined || !root.Bokeh.versions.has(py_version)) {\n",
       "\treturn null\n",
       "      }\n",
       "      return root.Bokeh.versions.get(py_version);\n",
       "    } else if (root.Bokeh.version === py_version) {\n",
       "      return root.Bokeh\n",
       "    }\n",
       "    return null\n",
       "  }\n",
       "  function is_loaded(root) {\n",
       "    var Bokeh = get_bokeh(root)\n",
       "    return (Bokeh != null && Bokeh.Panel !== undefined)\n",
       "  }\n",
       "  if (is_loaded(root)) {\n",
       "    embed_document(root);\n",
       "  } else {\n",
       "    var attempts = 0;\n",
       "    var timer = setInterval(function(root) {\n",
       "      if (is_loaded(root)) {\n",
       "        clearInterval(timer);\n",
       "        embed_document(root);\n",
       "      } else if (document.readyState == \"complete\") {\n",
       "        attempts++;\n",
       "        if (attempts > 200) {\n",
       "          clearInterval(timer);\n",
       "\t  var Bokeh = get_bokeh(root)\n",
       "\t  if (Bokeh == null || Bokeh.Panel == null) {\n",
       "            console.warn(\"Panel: ERROR: Unable to run Panel code because Bokeh or Panel library is missing\");\n",
       "\t  } else {\n",
       "\t    console.warn(\"Panel: WARNING: Attempting to render but not all required libraries could be resolved.\")\n",
       "\t    embed_document(root)\n",
       "\t  }\n",
       "        }\n",
       "      }\n",
       "    }, 25, root)\n",
       "  }\n",
       "})(window);</script>"
      ],
      "text/plain": [
       ":Overlay\n",
       "   .Bars.I    :Bars   [post_str_b1]   (percent)\n",
       "   .HLine.I   :HLine   [x,y]\n",
       "   .HLine.II  :HLine   [x,y]\n",
       "   .HLine.III :HLine   [x,y]"
      ]
     },
     "metadata": {
      "application/vnd.holoviews_exec.v0+json": {
       "id": "30f7580b-58d7-424b-8863-c6aef49bef9e"
      }
     },
     "output_type": "display_data"
    },
    {
     "name": "stdout",
     "output_type": "stream",
     "text": [
      "df_10_last FOR str_b1 = 22\n",
      "Last 3 results last_results=['12', '02', '09']\n"
     ]
    },
    {
     "data": {
      "text/html": [
       "<div><style>\n",
       ".dataframe > thead > tr,\n",
       ".dataframe > tbody > tr {\n",
       "  text-align: right;\n",
       "  white-space: pre-wrap;\n",
       "}\n",
       "</style>\n",
       "<small>shape: (10, 30)</small><table border=\"1\" class=\"dataframe\"><thead><tr><th>fecha</th><th>sorteo</th><th>bolillas</th><th>yapa</th><th>adicionales</th><th>sorteo_extra</th><th>id</th><th>combo</th><th>b1</th><th>b2</th><th>b3</th><th>b4</th><th>b5</th><th>b6</th><th>str_b1</th><th>str_b2</th><th>str_b3</th><th>str_b4</th><th>str_b5</th><th>str_b6</th><th>post_str_b1</th><th>post_str_b2</th><th>post_str_b3</th><th>post_str_b4</th><th>post_str_b5</th><th>post_str_blast</th><th>is_rare_combination</th><th>reason</th><th>jumps_map</th><th>unijump</th></tr><tr><td>str</td><td>str</td><td>str</td><td>str</td><td>str</td><td>str</td><td>str</td><td>array[u8, 6]</td><td>u8</td><td>u8</td><td>u8</td><td>u8</td><td>u8</td><td>u8</td><td>str</td><td>str</td><td>str</td><td>str</td><td>str</td><td>str</td><td>str</td><td>str</td><td>str</td><td>str</td><td>str</td><td>str</td><td>bool</td><td>u8</td><td>str</td><td>i64</td></tr></thead><tbody><tr><td>&quot;13/04/2025&quot;</td><td>&quot;1185&quot;</td><td>&quot;22 36 39 48 46 44&quot;</td><td>&quot;28&quot;</td><td>&quot;09 40&quot;</td><td>&quot;Promoción Sí o Sí&quot;</td><td>&quot;223639444648&quot;</td><td>[22, 36, … 48]</td><td>22</td><td>36</td><td>39</td><td>44</td><td>46</td><td>48</td><td>&quot;22&quot;</td><td>&quot;36&quot;</td><td>&quot;39&quot;</td><td>&quot;44&quot;</td><td>&quot;46&quot;</td><td>&quot;48&quot;</td><td>&quot;12&quot;</td><td>&quot;14&quot;</td><td>&quot;31&quot;</td><td>&quot;38&quot;</td><td>&quot;46&quot;</td><td>&quot;48&quot;</td><td>true</td><td>24</td><td>&quot;14_03_05_02_02&quot;</td><td>26</td></tr><tr><td>&quot;07/06/2023&quot;</td><td>&quot;0992&quot;</td><td>&quot;22 27 26 42 30 38&quot;</td><td>&quot;40&quot;</td><td>&quot;34 13 37&quot;</td><td>&quot;Promoción Sí o Sí&quot;</td><td>&quot;222627303842&quot;</td><td>[22, 26, … 42]</td><td>22</td><td>26</td><td>27</td><td>30</td><td>38</td><td>42</td><td>&quot;22&quot;</td><td>&quot;26&quot;</td><td>&quot;27&quot;</td><td>&quot;30&quot;</td><td>&quot;38&quot;</td><td>&quot;42&quot;</td><td>&quot;02&quot;</td><td>&quot;08&quot;</td><td>&quot;12&quot;</td><td>&quot;20&quot;</td><td>&quot;26&quot;</td><td>&quot;35&quot;</td><td>true</td><td>16</td><td>&quot;04_01_03_08_04&quot;</td><td>-10</td></tr><tr><td>&quot;05/02/2023&quot;</td><td>&quot;0957&quot;</td><td>&quot;30 23 37 26 22 39&quot;</td><td>&quot;21&quot;</td><td>&quot;29 27&quot;</td><td>&quot;Promoción Sí o Sí&quot;</td><td>&quot;222326303739&quot;</td><td>[22, 23, … 39]</td><td>22</td><td>23</td><td>26</td><td>30</td><td>37</td><td>39</td><td>&quot;22&quot;</td><td>&quot;23&quot;</td><td>&quot;26&quot;</td><td>&quot;30&quot;</td><td>&quot;37&quot;</td><td>&quot;39&quot;</td><td>&quot;09&quot;</td><td>&quot;14&quot;</td><td>&quot;16&quot;</td><td>&quot;27&quot;</td><td>&quot;31&quot;</td><td>&quot;45&quot;</td><td>true</td><td>16</td><td>&quot;01_03_04_07_02&quot;</td><td>-13</td></tr><tr><td>&quot;13/03/2022&quot;</td><td>&quot;0863&quot;</td><td>&quot;31 43 44 29 33 22&quot;</td><td>&quot;16&quot;</td><td>&quot;23 39 32&quot;</td><td>&quot;Promoción Sí o Sí&quot;</td><td>&quot;222931334344&quot;</td><td>[22, 29, … 44]</td><td>22</td><td>29</td><td>31</td><td>33</td><td>43</td><td>44</td><td>&quot;22&quot;</td><td>&quot;29&quot;</td><td>&quot;31&quot;</td><td>&quot;33&quot;</td><td>&quot;43&quot;</td><td>&quot;44&quot;</td><td>&quot;02&quot;</td><td>&quot;06&quot;</td><td>&quot;08&quot;</td><td>&quot;24&quot;</td><td>&quot;26&quot;</td><td>&quot;39&quot;</td><td>true</td><td>8</td><td>&quot;07_02_02_10_01&quot;</td><td>-28</td></tr><tr><td>&quot;09/05/2021&quot;</td><td>&quot;0775&quot;</td><td>&quot;43 26 22 44 27 29&quot;</td><td>&quot;04&quot;</td><td>&quot;&quot;</td><td>&quot;&quot;</td><td>&quot;222627294344&quot;</td><td>[22, 26, … 44]</td><td>22</td><td>26</td><td>27</td><td>29</td><td>43</td><td>44</td><td>&quot;22&quot;</td><td>&quot;26&quot;</td><td>&quot;27&quot;</td><td>&quot;29&quot;</td><td>&quot;43&quot;</td><td>&quot;44&quot;</td><td>&quot;12&quot;</td><td>&quot;13&quot;</td><td>&quot;14&quot;</td><td>&quot;15&quot;</td><td>&quot;31&quot;</td><td>&quot;42&quot;</td><td>true</td><td>16</td><td>&quot;04_01_02_14_01&quot;</td><td>-43</td></tr><tr><td>&quot;26/06/2019&quot;</td><td>&quot;0613&quot;</td><td>&quot;35 28 22 25 40 34&quot;</td><td>&quot;15&quot;</td><td>&quot;&quot;</td><td>&quot;&quot;</td><td>&quot;222528343540&quot;</td><td>[22, 25, … 40]</td><td>22</td><td>25</td><td>28</td><td>34</td><td>35</td><td>40</td><td>&quot;22&quot;</td><td>&quot;25&quot;</td><td>&quot;28&quot;</td><td>&quot;34&quot;</td><td>&quot;35&quot;</td><td>&quot;40&quot;</td><td>&quot;07&quot;</td><td>&quot;08&quot;</td><td>&quot;12&quot;</td><td>&quot;19&quot;</td><td>&quot;26&quot;</td><td>&quot;42&quot;</td><td>true</td><td>24</td><td>&quot;03_03_06_01_05&quot;</td><td>28</td></tr><tr><td>&quot;14/02/2018&quot;</td><td>&quot;0471&quot;</td><td>&quot;39 44 26 38 22 43&quot;</td><td>&quot;27&quot;</td><td>&quot;&quot;</td><td>&quot;&quot;</td><td>&quot;222638394344&quot;</td><td>[22, 26, … 44]</td><td>22</td><td>26</td><td>38</td><td>39</td><td>43</td><td>44</td><td>&quot;22&quot;</td><td>&quot;26&quot;</td><td>&quot;38&quot;</td><td>&quot;39&quot;</td><td>&quot;43&quot;</td><td>&quot;44&quot;</td><td>&quot;04&quot;</td><td>&quot;11&quot;</td><td>&quot;18&quot;</td><td>&quot;21&quot;</td><td>&quot;27&quot;</td><td>&quot;45&quot;</td><td>true</td><td>16</td><td>&quot;04_12_01_04_01&quot;</td><td>-53</td></tr><tr><td>&quot;27/09/2017&quot;</td><td>&quot;0431&quot;</td><td>&quot;35 24 45 29 22 31&quot;</td><td>&quot;41&quot;</td><td>&quot;&quot;</td><td>&quot;&quot;</td><td>&quot;222429313545&quot;</td><td>[22, 24, … 45]</td><td>22</td><td>24</td><td>29</td><td>31</td><td>35</td><td>45</td><td>&quot;22&quot;</td><td>&quot;24&quot;</td><td>&quot;29&quot;</td><td>&quot;31&quot;</td><td>&quot;35&quot;</td><td>&quot;45&quot;</td><td>&quot;14&quot;</td><td>&quot;17&quot;</td><td>&quot;19&quot;</td><td>&quot;30&quot;</td><td>&quot;33&quot;</td><td>&quot;35&quot;</td><td>false</td><td>0</td><td>&quot;02_05_02_04_10&quot;</td><td>-12</td></tr><tr><td>&quot;21/05/2006&quot;</td><td>&quot;0711&quot;</td><td>&quot;22 35 40 30 43 29&quot;</td><td>&quot;16&quot;</td><td>&quot;&quot;</td><td>&quot;&quot;</td><td>&quot;222930354043&quot;</td><td>[22, 29, … 43]</td><td>22</td><td>29</td><td>30</td><td>35</td><td>40</td><td>43</td><td>&quot;22&quot;</td><td>&quot;29&quot;</td><td>&quot;30&quot;</td><td>&quot;35&quot;</td><td>&quot;40&quot;</td><td>&quot;43&quot;</td><td>&quot;03&quot;</td><td>&quot;07&quot;</td><td>&quot;18&quot;</td><td>&quot;37&quot;</td><td>&quot;40&quot;</td><td>&quot;41&quot;</td><td>true</td><td>24</td><td>&quot;07_01_05_05_03&quot;</td><td>16</td></tr><tr><td>&quot;22/05/2005&quot;</td><td>&quot;0607&quot;</td><td>&quot;25 22 44 38 33 42&quot;</td><td>&quot;43&quot;</td><td>&quot;&quot;</td><td>&quot;&quot;</td><td>&quot;222533384244&quot;</td><td>[22, 25, … 44]</td><td>22</td><td>25</td><td>33</td><td>38</td><td>42</td><td>44</td><td>&quot;22&quot;</td><td>&quot;25&quot;</td><td>&quot;33&quot;</td><td>&quot;38&quot;</td><td>&quot;42&quot;</td><td>&quot;44&quot;</td><td>&quot;08&quot;</td><td>&quot;16&quot;</td><td>&quot;24&quot;</td><td>&quot;29&quot;</td><td>&quot;36&quot;</td><td>&quot;40&quot;</td><td>true</td><td>16</td><td>&quot;03_08_05_04_02&quot;</td><td>-13</td></tr></tbody></table></div>"
      ],
      "text/plain": [
       "shape: (10, 30)\n",
       "┌────────────┬────────┬───────────────┬──────┬───┬───────────────┬────────┬──────────────┬─────────┐\n",
       "│ fecha      ┆ sorteo ┆ bolillas      ┆ yapa ┆ … ┆ is_rare_combi ┆ reason ┆ jumps_map    ┆ unijump │\n",
       "│ ---        ┆ ---    ┆ ---           ┆ ---  ┆   ┆ nation        ┆ ---    ┆ ---          ┆ ---     │\n",
       "│ str        ┆ str    ┆ str           ┆ str  ┆   ┆ ---           ┆ u8     ┆ str          ┆ i64     │\n",
       "│            ┆        ┆               ┆      ┆   ┆ bool          ┆        ┆              ┆         │\n",
       "╞════════════╪════════╪═══════════════╪══════╪═══╪═══════════════╪════════╪══════════════╪═════════╡\n",
       "│ 13/04/2025 ┆ 1185   ┆ 22 36 39 48   ┆ 28   ┆ … ┆ true          ┆ 24     ┆ 14_03_05_02_ ┆ 26      │\n",
       "│            ┆        ┆ 46 44         ┆      ┆   ┆               ┆        ┆ 02           ┆         │\n",
       "│ 07/06/2023 ┆ 0992   ┆ 22 27 26 42   ┆ 40   ┆ … ┆ true          ┆ 16     ┆ 04_01_03_08_ ┆ -10     │\n",
       "│            ┆        ┆ 30 38         ┆      ┆   ┆               ┆        ┆ 04           ┆         │\n",
       "│ 05/02/2023 ┆ 0957   ┆ 30 23 37 26   ┆ 21   ┆ … ┆ true          ┆ 16     ┆ 01_03_04_07_ ┆ -13     │\n",
       "│            ┆        ┆ 22 39         ┆      ┆   ┆               ┆        ┆ 02           ┆         │\n",
       "│ 13/03/2022 ┆ 0863   ┆ 31 43 44 29   ┆ 16   ┆ … ┆ true          ┆ 8      ┆ 07_02_02_10_ ┆ -28     │\n",
       "│            ┆        ┆ 33 22         ┆      ┆   ┆               ┆        ┆ 01           ┆         │\n",
       "│ 09/05/2021 ┆ 0775   ┆ 43 26 22 44   ┆ 04   ┆ … ┆ true          ┆ 16     ┆ 04_01_02_14_ ┆ -43     │\n",
       "│            ┆        ┆ 27 29         ┆      ┆   ┆               ┆        ┆ 01           ┆         │\n",
       "│ 26/06/2019 ┆ 0613   ┆ 35 28 22 25   ┆ 15   ┆ … ┆ true          ┆ 24     ┆ 03_03_06_01_ ┆ 28      │\n",
       "│            ┆        ┆ 40 34         ┆      ┆   ┆               ┆        ┆ 05           ┆         │\n",
       "│ 14/02/2018 ┆ 0471   ┆ 39 44 26 38   ┆ 27   ┆ … ┆ true          ┆ 16     ┆ 04_12_01_04_ ┆ -53     │\n",
       "│            ┆        ┆ 22 43         ┆      ┆   ┆               ┆        ┆ 01           ┆         │\n",
       "│ 27/09/2017 ┆ 0431   ┆ 35 24 45 29   ┆ 41   ┆ … ┆ false         ┆ 0      ┆ 02_05_02_04_ ┆ -12     │\n",
       "│            ┆        ┆ 22 31         ┆      ┆   ┆               ┆        ┆ 10           ┆         │\n",
       "│ 21/05/2006 ┆ 0711   ┆ 22 35 40 30   ┆ 16   ┆ … ┆ true          ┆ 24     ┆ 07_01_05_05_ ┆ 16      │\n",
       "│            ┆        ┆ 43 29         ┆      ┆   ┆               ┆        ┆ 03           ┆         │\n",
       "│ 22/05/2005 ┆ 0607   ┆ 25 22 44 38   ┆ 43   ┆ … ┆ true          ┆ 16     ┆ 03_08_05_04_ ┆ -13     │\n",
       "│            ┆        ┆ 33 42         ┆      ┆   ┆               ┆        ┆ 02           ┆         │\n",
       "└────────────┴────────┴───────────────┴──────┴───┴───────────────┴────────┴──────────────┴─────────┘"
      ]
     },
     "metadata": {},
     "output_type": "display_data"
    },
    {
     "name": "stdout",
     "output_type": "stream",
     "text": [
      "df_jumps_map FOR str_b1 = 22\n"
     ]
    },
    {
     "data": {
      "text/html": [
       "<div><style>\n",
       ".dataframe > thead > tr,\n",
       ".dataframe > tbody > tr {\n",
       "  text-align: right;\n",
       "  white-space: pre-wrap;\n",
       "}\n",
       "</style>\n",
       "<small>shape: (11, 2)</small><table border=\"1\" class=\"dataframe\"><thead><tr><th>jumps_map</th><th>count</th></tr><tr><td>str</td><td>u32</td></tr></thead><tbody><tr><td>&quot;14_03_05_02_02&quot;</td><td>1</td></tr><tr><td>&quot;07_02_02_10_01&quot;</td><td>1</td></tr><tr><td>&quot;04_01_02_14_01&quot;</td><td>1</td></tr><tr><td>&quot;04_12_01_04_01&quot;</td><td>1</td></tr><tr><td>&quot;03_08_05_04_02&quot;</td><td>1</td></tr><tr><td>&hellip;</td><td>&hellip;</td></tr><tr><td>&quot;10_01_01_02_05&quot;</td><td>1</td></tr><tr><td>&quot;07_01_05_05_03&quot;</td><td>1</td></tr><tr><td>&quot;01_03_04_07_02&quot;</td><td>1</td></tr><tr><td>&quot;04_01_03_08_04&quot;</td><td>1</td></tr><tr><td>&quot;02_05_02_04_10&quot;</td><td>1</td></tr></tbody></table></div>"
      ],
      "text/plain": [
       "shape: (11, 2)\n",
       "┌────────────────┬───────┐\n",
       "│ jumps_map      ┆ count │\n",
       "│ ---            ┆ ---   │\n",
       "│ str            ┆ u32   │\n",
       "╞════════════════╪═══════╡\n",
       "│ 14_03_05_02_02 ┆ 1     │\n",
       "│ 07_02_02_10_01 ┆ 1     │\n",
       "│ 04_01_02_14_01 ┆ 1     │\n",
       "│ 04_12_01_04_01 ┆ 1     │\n",
       "│ 03_08_05_04_02 ┆ 1     │\n",
       "│ …              ┆ …     │\n",
       "│ 10_01_01_02_05 ┆ 1     │\n",
       "│ 07_01_05_05_03 ┆ 1     │\n",
       "│ 01_03_04_07_02 ┆ 1     │\n",
       "│ 04_01_03_08_04 ┆ 1     │\n",
       "│ 02_05_02_04_10 ┆ 1     │\n",
       "└────────────────┴───────┘"
      ]
     },
     "metadata": {},
     "output_type": "display_data"
    },
    {
     "name": "stdout",
     "output_type": "stream",
     "text": [
      "df_unijump FOR str_b1 = 22\n"
     ]
    },
    {
     "data": {
      "text/html": [
       "<div><style>\n",
       ".dataframe > thead > tr,\n",
       ".dataframe > tbody > tr {\n",
       "  text-align: right;\n",
       "  white-space: pre-wrap;\n",
       "}\n",
       "</style>\n",
       "<small>shape: (10, 2)</small><table border=\"1\" class=\"dataframe\"><thead><tr><th>unijump</th><th>count</th></tr><tr><td>i64</td><td>u32</td></tr></thead><tbody><tr><td>-13</td><td>2</td></tr><tr><td>-12</td><td>1</td></tr><tr><td>-43</td><td>1</td></tr><tr><td>-10</td><td>1</td></tr><tr><td>16</td><td>1</td></tr><tr><td>-53</td><td>1</td></tr><tr><td>26</td><td>1</td></tr><tr><td>28</td><td>1</td></tr><tr><td>-28</td><td>1</td></tr><tr><td>9</td><td>1</td></tr></tbody></table></div>"
      ],
      "text/plain": [
       "shape: (10, 2)\n",
       "┌─────────┬───────┐\n",
       "│ unijump ┆ count │\n",
       "│ ---     ┆ ---   │\n",
       "│ i64     ┆ u32   │\n",
       "╞═════════╪═══════╡\n",
       "│ -13     ┆ 2     │\n",
       "│ -12     ┆ 1     │\n",
       "│ -43     ┆ 1     │\n",
       "│ -10     ┆ 1     │\n",
       "│ 16      ┆ 1     │\n",
       "│ -53     ┆ 1     │\n",
       "│ 26      ┆ 1     │\n",
       "│ 28      ┆ 1     │\n",
       "│ -28     ┆ 1     │\n",
       "│ 9       ┆ 1     │\n",
       "└─────────┴───────┘"
      ]
     },
     "metadata": {},
     "output_type": "display_data"
    }
   ],
   "source": [
    "possible_b1, exclude_jump_maps_b1, last_post_b1 = plot_post_col(col='str_b1', post_col='post_str_b1')"
   ]
  },
  {
   "cell_type": "code",
   "execution_count": 10,
   "metadata": {},
   "outputs": [
    {
     "name": "stdout",
     "output_type": "stream",
     "text": [
      "Setting test_value='23'\n",
      "df_viz FOR str_b2 = 23\n"
     ]
    },
    {
     "data": {
      "text/html": [
       "<div><style>\n",
       ".dataframe > thead > tr,\n",
       ".dataframe > tbody > tr {\n",
       "  text-align: right;\n",
       "  white-space: pre-wrap;\n",
       "}\n",
       "</style>\n",
       "<small>shape: (23, 3)</small><table border=\"1\" class=\"dataframe\"><thead><tr><th>post_str_b2</th><th>count</th><th>percent</th></tr><tr><td>str</td><td>u32</td><td>f64</td></tr></thead><tbody><tr><td>&quot;12&quot;</td><td>7</td><td>11.666667</td></tr><tr><td>&quot;08&quot;</td><td>6</td><td>10.0</td></tr><tr><td>&quot;14&quot;</td><td>5</td><td>8.333333</td></tr><tr><td>&quot;11&quot;</td><td>4</td><td>6.666667</td></tr><tr><td>&quot;09&quot;</td><td>4</td><td>6.666667</td></tr><tr><td>&hellip;</td><td>&hellip;</td><td>&hellip;</td></tr><tr><td>&quot;21&quot;</td><td>1</td><td>1.666667</td></tr><tr><td>&quot;25&quot;</td><td>1</td><td>1.666667</td></tr><tr><td>&quot;06&quot;</td><td>1</td><td>1.666667</td></tr><tr><td>&quot;20&quot;</td><td>1</td><td>1.666667</td></tr><tr><td>&quot;03&quot;</td><td>1</td><td>1.666667</td></tr></tbody></table></div>"
      ],
      "text/plain": [
       "shape: (23, 3)\n",
       "┌─────────────┬───────┬───────────┐\n",
       "│ post_str_b2 ┆ count ┆ percent   │\n",
       "│ ---         ┆ ---   ┆ ---       │\n",
       "│ str         ┆ u32   ┆ f64       │\n",
       "╞═════════════╪═══════╪═══════════╡\n",
       "│ 12          ┆ 7     ┆ 11.666667 │\n",
       "│ 08          ┆ 6     ┆ 10.0      │\n",
       "│ 14          ┆ 5     ┆ 8.333333  │\n",
       "│ 11          ┆ 4     ┆ 6.666667  │\n",
       "│ 09          ┆ 4     ┆ 6.666667  │\n",
       "│ …           ┆ …     ┆ …         │\n",
       "│ 21          ┆ 1     ┆ 1.666667  │\n",
       "│ 25          ┆ 1     ┆ 1.666667  │\n",
       "│ 06          ┆ 1     ┆ 1.666667  │\n",
       "│ 20          ┆ 1     ┆ 1.666667  │\n",
       "│ 03          ┆ 1     ┆ 1.666667  │\n",
       "└─────────────┴───────┴───────────┘"
      ]
     },
     "metadata": {},
     "output_type": "display_data"
    },
    {
     "data": {},
     "metadata": {},
     "output_type": "display_data"
    },
    {
     "data": {
      "application/vnd.holoviews_exec.v0+json": "",
      "text/html": [
       "<div id='55dbd0f8-006a-424a-a73b-864038f495b6'>\n",
       "  <div id=\"f95d4df8-cce9-45a9-8cd7-f6ec034a3e02\" data-root-id=\"55dbd0f8-006a-424a-a73b-864038f495b6\" style=\"display: contents;\"></div>\n",
       "</div>\n",
       "<script type=\"application/javascript\">(function(root) {\n",
       "  var docs_json = {\"fabd85ce-afb7-459f-8500-84d798756bf3\":{\"version\":\"3.7.2\",\"title\":\"Bokeh Application\",\"roots\":[{\"type\":\"object\",\"name\":\"Row\",\"id\":\"55dbd0f8-006a-424a-a73b-864038f495b6\",\"attributes\":{\"name\":\"Row00357\",\"tags\":[\"embedded\"],\"stylesheets\":[\"\\n:host(.pn-loading):before, .pn-loading:before {\\n  background-color: #c3c3c3;\\n  mask-size: auto calc(min(50%, 400px));\\n  -webkit-mask-size: auto calc(min(50%, 400px));\\n}\",{\"type\":\"object\",\"name\":\"ImportedStyleSheet\",\"id\":\"68508f12-5764-4f4b-a42c-a5681aa764db\",\"attributes\":{\"url\":\"https://cdn.holoviz.org/panel/1.6.2/dist/css/loading.css\"}},{\"type\":\"object\",\"name\":\"ImportedStyleSheet\",\"id\":\"bb7d8a04-9538-464d-8ada-29da3be550d9\",\"attributes\":{\"url\":\"https://cdn.holoviz.org/panel/1.6.2/dist/css/listpanel.css\"}},{\"type\":\"object\",\"name\":\"ImportedStyleSheet\",\"id\":\"49b0742b-fa00-4b75-8835-c28c00ba774b\",\"attributes\":{\"url\":\"https://cdn.holoviz.org/panel/1.6.2/dist/bundled/theme/default.css\"}},{\"type\":\"object\",\"name\":\"ImportedStyleSheet\",\"id\":\"03f0cf8a-05e4-45f4-968e-3fa3637eb851\",\"attributes\":{\"url\":\"https://cdn.holoviz.org/panel/1.6.2/dist/bundled/theme/native.css\"}}],\"min_width\":700,\"margin\":0,\"sizing_mode\":\"stretch_width\",\"align\":\"start\",\"children\":[{\"type\":\"object\",\"name\":\"Spacer\",\"id\":\"1372c78b-d9f6-4dac-ab68-3e74f18c7b78\",\"attributes\":{\"name\":\"HSpacer00361\",\"stylesheets\":[\"\\n:host(.pn-loading):before, .pn-loading:before {\\n  background-color: #c3c3c3;\\n  mask-size: auto calc(min(50%, 400px));\\n  -webkit-mask-size: auto calc(min(50%, 400px));\\n}\",{\"id\":\"68508f12-5764-4f4b-a42c-a5681aa764db\"},{\"id\":\"49b0742b-fa00-4b75-8835-c28c00ba774b\"},{\"id\":\"03f0cf8a-05e4-45f4-968e-3fa3637eb851\"}],\"margin\":0,\"sizing_mode\":\"stretch_width\",\"align\":\"start\"}},{\"type\":\"object\",\"name\":\"Figure\",\"id\":\"a4f593df-6ca1-423f-bee3-00da8b528ca2\",\"attributes\":{\"width\":700,\"height\":300,\"margin\":[5,10],\"sizing_mode\":\"fixed\",\"align\":\"start\",\"x_range\":{\"type\":\"object\",\"name\":\"FactorRange\",\"id\":\"b0743b99-aeae-4a59-b04c-0cfc9635ab92\",\"attributes\":{\"name\":\"post_str_b2\",\"tags\":[[[\"post_str_b2\",null]],[]],\"factors\":[\"12\",\"08\",\"14\",\"11\",\"09\",\"16\",\"22\",\"02\",\"10\",\"05\",\"17\",\"23\",\"19\",\"15\",\"13\",\"18\",\"04\",\"07\",\"21\",\"25\",\"06\",\"20\",\"03\"]}},\"y_range\":{\"type\":\"object\",\"name\":\"Range1d\",\"id\":\"2f10df6a-8fc8-4d50-9f23-aaa0cc024280\",\"attributes\":{\"name\":\"percent\",\"tags\":[[[\"percent\",null]],{\"type\":\"map\",\"entries\":[[\"invert_yaxis\",false],[\"autorange\",false]]}],\"end\":12.666666666666666,\"reset_start\":0.0,\"reset_end\":12.666666666666666}},\"x_scale\":{\"type\":\"object\",\"name\":\"CategoricalScale\",\"id\":\"6bbff316-f212-423c-a6f9-dcf9c9233c09\"},\"y_scale\":{\"type\":\"object\",\"name\":\"LinearScale\",\"id\":\"bbd07994-5916-4fa1-bff0-c6882d849f6b\"},\"title\":{\"type\":\"object\",\"name\":\"Title\",\"id\":\"83de587c-ce73-4da3-abca-f5ab8c093c7f\",\"attributes\":{\"text_color\":\"black\",\"text_font_size\":\"12pt\"}},\"renderers\":[{\"type\":\"object\",\"name\":\"GlyphRenderer\",\"id\":\"66165ded-2349-4b28-8fa2-9f1941152d85\",\"attributes\":{\"data_source\":{\"type\":\"object\",\"name\":\"ColumnDataSource\",\"id\":\"070e0458-a802-4e1c-a6ff-e45e440c2753\",\"attributes\":{\"selected\":{\"type\":\"object\",\"name\":\"Selection\",\"id\":\"fb5baf4d-6ede-4eb8-a79a-154f31426fb6\",\"attributes\":{\"indices\":[],\"line_indices\":[]}},\"selection_policy\":{\"type\":\"object\",\"name\":\"UnionRenderers\",\"id\":\"9df23769-f4b3-43eb-a654-8a516f53c25c\"},\"data\":{\"type\":\"map\",\"entries\":[[\"post_str_b2\",[\"12\",\"08\",\"14\",\"11\",\"09\",\"16\",\"22\",\"02\",\"10\",\"05\",\"17\",\"23\",\"19\",\"15\",\"13\",\"18\",\"04\",\"07\",\"21\",\"25\",\"06\",\"20\",\"03\"]],[\"percent\",{\"type\":\"ndarray\",\"array\":{\"type\":\"bytes\",\"data\":\"VVVVVVVVJ0AAAAAAAAAkQKqqqqqqqiBAq6qqqqqqGkCrqqqqqqoaQKuqqqqqqhpAq6qqqqqqGkAAAAAAAAAUQAAAAAAAABRAAAAAAAAAFECrqqqqqqoKQKuqqqqqqgpAq6qqqqqqCkCrqqqqqqoKQKuqqqqqqvo/q6qqqqqq+j+rqqqqqqr6P6uqqqqqqvo/q6qqqqqq+j+rqqqqqqr6P6uqqqqqqvo/q6qqqqqq+j+rqqqqqqr6Pw==\"},\"shape\":[23],\"dtype\":\"float64\",\"order\":\"little\"}]]}}},\"view\":{\"type\":\"object\",\"name\":\"CDSView\",\"id\":\"97e1179c-b0bf-48b7-9ea3-8aae5e70c7d4\",\"attributes\":{\"filter\":{\"type\":\"object\",\"name\":\"AllIndices\",\"id\":\"93a6d108-e528-41cb-9d42-e03ca61ae2ca\"}}},\"glyph\":{\"type\":\"object\",\"name\":\"VBar\",\"id\":\"641a0da8-da9c-400a-a330-f25203f41760\",\"attributes\":{\"tags\":[\"apply_ranges\"],\"x\":{\"type\":\"field\",\"field\":\"post_str_b2\"},\"width\":{\"type\":\"value\",\"value\":0.8},\"top\":{\"type\":\"field\",\"field\":\"percent\"},\"fill_color\":{\"type\":\"value\",\"value\":\"#30a2da\"},\"hatch_color\":{\"type\":\"value\",\"value\":\"#30a2da\"}}},\"selection_glyph\":{\"type\":\"object\",\"name\":\"VBar\",\"id\":\"479b0ad6-f98c-4a69-a5e9-b986b013bfe8\",\"attributes\":{\"tags\":[\"apply_ranges\"],\"x\":{\"type\":\"field\",\"field\":\"post_str_b2\"},\"width\":{\"type\":\"value\",\"value\":0.8},\"bottom\":{\"type\":\"value\",\"value\":0},\"top\":{\"type\":\"field\",\"field\":\"percent\"},\"line_color\":{\"type\":\"value\",\"value\":\"black\"},\"line_alpha\":{\"type\":\"value\",\"value\":1.0},\"line_width\":{\"type\":\"value\",\"value\":1},\"line_join\":{\"type\":\"value\",\"value\":\"bevel\"},\"line_cap\":{\"type\":\"value\",\"value\":\"butt\"},\"line_dash\":{\"type\":\"value\",\"value\":[]},\"line_dash_offset\":{\"type\":\"value\",\"value\":0},\"fill_color\":{\"type\":\"value\",\"value\":\"#30a2da\"},\"fill_alpha\":{\"type\":\"value\",\"value\":1.0},\"hatch_color\":{\"type\":\"value\",\"value\":\"#30a2da\"},\"hatch_alpha\":{\"type\":\"value\",\"value\":1.0},\"hatch_scale\":{\"type\":\"value\",\"value\":12.0},\"hatch_pattern\":{\"type\":\"value\",\"value\":null},\"hatch_weight\":{\"type\":\"value\",\"value\":1.0}}},\"nonselection_glyph\":{\"type\":\"object\",\"name\":\"VBar\",\"id\":\"ec7901da-2b98-4a8f-90a9-10eb28694e33\",\"attributes\":{\"tags\":[\"apply_ranges\"],\"x\":{\"type\":\"field\",\"field\":\"post_str_b2\"},\"width\":{\"type\":\"value\",\"value\":0.8},\"top\":{\"type\":\"field\",\"field\":\"percent\"},\"line_alpha\":{\"type\":\"value\",\"value\":0.1},\"fill_color\":{\"type\":\"value\",\"value\":\"#30a2da\"},\"fill_alpha\":{\"type\":\"value\",\"value\":0.1},\"hatch_color\":{\"type\":\"value\",\"value\":\"#30a2da\"},\"hatch_alpha\":{\"type\":\"value\",\"value\":0.1}}},\"muted_glyph\":{\"type\":\"object\",\"name\":\"VBar\",\"id\":\"a0211997-4f79-4d70-a4e5-85404985a18b\",\"attributes\":{\"tags\":[\"apply_ranges\"],\"x\":{\"type\":\"field\",\"field\":\"post_str_b2\"},\"width\":{\"type\":\"value\",\"value\":0.8},\"top\":{\"type\":\"field\",\"field\":\"percent\"},\"line_alpha\":{\"type\":\"value\",\"value\":0.2},\"fill_color\":{\"type\":\"value\",\"value\":\"#30a2da\"},\"fill_alpha\":{\"type\":\"value\",\"value\":0.2},\"hatch_color\":{\"type\":\"value\",\"value\":\"#30a2da\"},\"hatch_alpha\":{\"type\":\"value\",\"value\":0.2}}}}},{\"type\":\"object\",\"name\":\"Span\",\"id\":\"82177a27-97c7-4713-afc6-4ba9e723133a\",\"attributes\":{\"level\":\"glyph\",\"location\":4.347826086956522,\"line_color\":\"red\",\"line_width\":3}},{\"type\":\"object\",\"name\":\"Span\",\"id\":\"553f62d1-064a-43ac-aad4-40b561947aec\",\"attributes\":{\"level\":\"glyph\",\"location\":6.521739130434784,\"line_color\":\"blue\",\"line_width\":3}},{\"type\":\"object\",\"name\":\"Span\",\"id\":\"fa500f95-24e4-4e8e-91bc-09a6db9a3cc7\",\"attributes\":{\"level\":\"glyph\",\"location\":2.173913043478261,\"line_color\":\"blue\",\"line_width\":3}}],\"toolbar\":{\"type\":\"object\",\"name\":\"Toolbar\",\"id\":\"71ed0026-a5d2-4bf8-bd43-2c128b89c9b9\",\"attributes\":{\"tools\":[{\"type\":\"object\",\"name\":\"WheelZoomTool\",\"id\":\"91a3dd27-ffb5-42ef-b76e-57af3f419e57\",\"attributes\":{\"tags\":[\"hv_created\"],\"renderers\":\"auto\",\"zoom_together\":\"none\"}},{\"type\":\"object\",\"name\":\"HoverTool\",\"id\":\"63ef8631-5a39-4c95-9b43-e7c27bd6fef7\",\"attributes\":{\"tags\":[\"hv_created\"],\"renderers\":[{\"id\":\"66165ded-2349-4b28-8fa2-9f1941152d85\"}],\"tooltips\":[[\"post_str_b2\",\"@{post_str_b2}\"],[\"percent\",\"@{percent}\"]]}},{\"type\":\"object\",\"name\":\"SaveTool\",\"id\":\"aa0e485b-0009-4d33-bfdb-9d5e25453019\"},{\"type\":\"object\",\"name\":\"PanTool\",\"id\":\"98e5f682-2ed1-4027-8c67-4f3f8a041fd1\"},{\"type\":\"object\",\"name\":\"BoxZoomTool\",\"id\":\"cefcbd49-582f-4ed5-9e6a-f752b853a7ad\",\"attributes\":{\"dimensions\":\"both\",\"overlay\":{\"type\":\"object\",\"name\":\"BoxAnnotation\",\"id\":\"ffb7e1e3-e3cf-421c-bd78-5c2057535006\",\"attributes\":{\"syncable\":false,\"line_color\":\"black\",\"line_alpha\":1.0,\"line_width\":2,\"line_dash\":[4,4],\"fill_color\":\"lightgrey\",\"fill_alpha\":0.5,\"level\":\"overlay\",\"visible\":false,\"left\":{\"type\":\"number\",\"value\":\"nan\"},\"right\":{\"type\":\"number\",\"value\":\"nan\"},\"top\":{\"type\":\"number\",\"value\":\"nan\"},\"bottom\":{\"type\":\"number\",\"value\":\"nan\"},\"left_units\":\"canvas\",\"right_units\":\"canvas\",\"top_units\":\"canvas\",\"bottom_units\":\"canvas\",\"handles\":{\"type\":\"object\",\"name\":\"BoxInteractionHandles\",\"id\":\"35bf4882-41c5-421a-aff7-f90632849ef7\",\"attributes\":{\"all\":{\"type\":\"object\",\"name\":\"AreaVisuals\",\"id\":\"06bde59e-96b6-4afa-abbf-9078289a917e\",\"attributes\":{\"fill_color\":\"white\",\"hover_fill_color\":\"lightgray\"}}}}}}}},{\"type\":\"object\",\"name\":\"ResetTool\",\"id\":\"89a430f2-fe0b-4a54-98c6-88b9c6c5b9e6\"}],\"active_drag\":{\"id\":\"98e5f682-2ed1-4027-8c67-4f3f8a041fd1\"}}},\"left\":[{\"type\":\"object\",\"name\":\"LinearAxis\",\"id\":\"982e8139-7378-4da4-8259-18fe68c582f1\",\"attributes\":{\"ticker\":{\"type\":\"object\",\"name\":\"BasicTicker\",\"id\":\"ec7c2e60-3bcd-449f-9944-28ad14e80f1e\",\"attributes\":{\"mantissas\":[1,2,5]}},\"formatter\":{\"type\":\"object\",\"name\":\"BasicTickFormatter\",\"id\":\"8f708c96-69e7-4e40-97e0-b292c58dccea\"},\"axis_label\":\"percent\",\"major_label_policy\":{\"type\":\"object\",\"name\":\"AllLabels\",\"id\":\"b7047506-7d00-4d49-8e97-840449c4c4aa\"}}}],\"below\":[{\"type\":\"object\",\"name\":\"CategoricalAxis\",\"id\":\"dbd635d6-00a7-4645-aebb-41006d115438\",\"attributes\":{\"ticker\":{\"type\":\"object\",\"name\":\"CategoricalTicker\",\"id\":\"72efa807-c961-4e9a-8c79-42c7c72be11d\"},\"formatter\":{\"type\":\"object\",\"name\":\"CategoricalTickFormatter\",\"id\":\"699115df-f85d-43b1-ae80-31139a8b7292\"},\"axis_label\":\"post_str_b2\",\"major_label_policy\":{\"type\":\"object\",\"name\":\"AllLabels\",\"id\":\"29ec477f-d9ed-4e3c-832e-1563ca97b363\"}}}],\"center\":[{\"type\":\"object\",\"name\":\"Grid\",\"id\":\"70cde095-17a1-4953-be4c-8f897215768a\",\"attributes\":{\"axis\":{\"id\":\"dbd635d6-00a7-4645-aebb-41006d115438\"},\"grid_line_color\":null}},{\"type\":\"object\",\"name\":\"Grid\",\"id\":\"b20c3e99-cf18-4c22-8a4c-0bd43064ee17\",\"attributes\":{\"dimension\":1,\"axis\":{\"id\":\"982e8139-7378-4da4-8259-18fe68c582f1\"},\"grid_line_color\":null}}],\"min_border_top\":10,\"min_border_bottom\":10,\"min_border_left\":10,\"min_border_right\":10,\"output_backend\":\"webgl\"}},{\"type\":\"object\",\"name\":\"Spacer\",\"id\":\"61d50bfb-8657-47e6-a10e-56d8f18841d8\",\"attributes\":{\"name\":\"HSpacer00362\",\"stylesheets\":[\"\\n:host(.pn-loading):before, .pn-loading:before {\\n  background-color: #c3c3c3;\\n  mask-size: auto calc(min(50%, 400px));\\n  -webkit-mask-size: auto calc(min(50%, 400px));\\n}\",{\"id\":\"68508f12-5764-4f4b-a42c-a5681aa764db\"},{\"id\":\"49b0742b-fa00-4b75-8835-c28c00ba774b\"},{\"id\":\"03f0cf8a-05e4-45f4-968e-3fa3637eb851\"}],\"margin\":0,\"sizing_mode\":\"stretch_width\",\"align\":\"start\"}}]}}],\"defs\":[{\"type\":\"model\",\"name\":\"ReactiveHTML1\"},{\"type\":\"model\",\"name\":\"FlexBox1\",\"properties\":[{\"name\":\"align_content\",\"kind\":\"Any\",\"default\":\"flex-start\"},{\"name\":\"align_items\",\"kind\":\"Any\",\"default\":\"flex-start\"},{\"name\":\"flex_direction\",\"kind\":\"Any\",\"default\":\"row\"},{\"name\":\"flex_wrap\",\"kind\":\"Any\",\"default\":\"wrap\"},{\"name\":\"gap\",\"kind\":\"Any\",\"default\":\"\"},{\"name\":\"justify_content\",\"kind\":\"Any\",\"default\":\"flex-start\"}]},{\"type\":\"model\",\"name\":\"FloatPanel1\",\"properties\":[{\"name\":\"config\",\"kind\":\"Any\",\"default\":{\"type\":\"map\"}},{\"name\":\"contained\",\"kind\":\"Any\",\"default\":true},{\"name\":\"position\",\"kind\":\"Any\",\"default\":\"right-top\"},{\"name\":\"offsetx\",\"kind\":\"Any\",\"default\":null},{\"name\":\"offsety\",\"kind\":\"Any\",\"default\":null},{\"name\":\"theme\",\"kind\":\"Any\",\"default\":\"primary\"},{\"name\":\"status\",\"kind\":\"Any\",\"default\":\"normalized\"}]},{\"type\":\"model\",\"name\":\"GridStack1\",\"properties\":[{\"name\":\"ncols\",\"kind\":\"Any\",\"default\":null},{\"name\":\"nrows\",\"kind\":\"Any\",\"default\":null},{\"name\":\"allow_resize\",\"kind\":\"Any\",\"default\":true},{\"name\":\"allow_drag\",\"kind\":\"Any\",\"default\":true},{\"name\":\"state\",\"kind\":\"Any\",\"default\":[]}]},{\"type\":\"model\",\"name\":\"drag1\",\"properties\":[{\"name\":\"slider_width\",\"kind\":\"Any\",\"default\":5},{\"name\":\"slider_color\",\"kind\":\"Any\",\"default\":\"black\"},{\"name\":\"value\",\"kind\":\"Any\",\"default\":50}]},{\"type\":\"model\",\"name\":\"click1\",\"properties\":[{\"name\":\"terminal_output\",\"kind\":\"Any\",\"default\":\"\"},{\"name\":\"debug_name\",\"kind\":\"Any\",\"default\":\"\"},{\"name\":\"clears\",\"kind\":\"Any\",\"default\":0}]},{\"type\":\"model\",\"name\":\"FastWrapper1\",\"properties\":[{\"name\":\"object\",\"kind\":\"Any\",\"default\":null},{\"name\":\"style\",\"kind\":\"Any\",\"default\":null}]},{\"type\":\"model\",\"name\":\"NotificationArea1\",\"properties\":[{\"name\":\"js_events\",\"kind\":\"Any\",\"default\":{\"type\":\"map\"}},{\"name\":\"max_notifications\",\"kind\":\"Any\",\"default\":5},{\"name\":\"notifications\",\"kind\":\"Any\",\"default\":[]},{\"name\":\"position\",\"kind\":\"Any\",\"default\":\"bottom-right\"},{\"name\":\"_clear\",\"kind\":\"Any\",\"default\":0},{\"name\":\"types\",\"kind\":\"Any\",\"default\":[{\"type\":\"map\",\"entries\":[[\"type\",\"warning\"],[\"background\",\"#ffc107\"],[\"icon\",{\"type\":\"map\",\"entries\":[[\"className\",\"fas fa-exclamation-triangle\"],[\"tagName\",\"i\"],[\"color\",\"white\"]]}]]},{\"type\":\"map\",\"entries\":[[\"type\",\"info\"],[\"background\",\"#007bff\"],[\"icon\",{\"type\":\"map\",\"entries\":[[\"className\",\"fas fa-info-circle\"],[\"tagName\",\"i\"],[\"color\",\"white\"]]}]]}]}]},{\"type\":\"model\",\"name\":\"Notification\",\"properties\":[{\"name\":\"background\",\"kind\":\"Any\",\"default\":null},{\"name\":\"duration\",\"kind\":\"Any\",\"default\":3000},{\"name\":\"icon\",\"kind\":\"Any\",\"default\":null},{\"name\":\"message\",\"kind\":\"Any\",\"default\":\"\"},{\"name\":\"notification_type\",\"kind\":\"Any\",\"default\":null},{\"name\":\"_rendered\",\"kind\":\"Any\",\"default\":false},{\"name\":\"_destroyed\",\"kind\":\"Any\",\"default\":false}]},{\"type\":\"model\",\"name\":\"TemplateActions1\",\"properties\":[{\"name\":\"open_modal\",\"kind\":\"Any\",\"default\":0},{\"name\":\"close_modal\",\"kind\":\"Any\",\"default\":0}]},{\"type\":\"model\",\"name\":\"BootstrapTemplateActions1\",\"properties\":[{\"name\":\"open_modal\",\"kind\":\"Any\",\"default\":0},{\"name\":\"close_modal\",\"kind\":\"Any\",\"default\":0}]},{\"type\":\"model\",\"name\":\"TemplateEditor1\",\"properties\":[{\"name\":\"layout\",\"kind\":\"Any\",\"default\":[]}]},{\"type\":\"model\",\"name\":\"MaterialTemplateActions1\",\"properties\":[{\"name\":\"open_modal\",\"kind\":\"Any\",\"default\":0},{\"name\":\"close_modal\",\"kind\":\"Any\",\"default\":0}]},{\"type\":\"model\",\"name\":\"ReactiveESM1\",\"properties\":[{\"name\":\"esm_constants\",\"kind\":\"Any\",\"default\":{\"type\":\"map\"}}]},{\"type\":\"model\",\"name\":\"JSComponent1\",\"properties\":[{\"name\":\"esm_constants\",\"kind\":\"Any\",\"default\":{\"type\":\"map\"}}]},{\"type\":\"model\",\"name\":\"ReactComponent1\",\"properties\":[{\"name\":\"esm_constants\",\"kind\":\"Any\",\"default\":{\"type\":\"map\"}}]},{\"type\":\"model\",\"name\":\"AnyWidgetComponent1\",\"properties\":[{\"name\":\"esm_constants\",\"kind\":\"Any\",\"default\":{\"type\":\"map\"}}]},{\"type\":\"model\",\"name\":\"request_value1\",\"properties\":[{\"name\":\"fill\",\"kind\":\"Any\",\"default\":\"none\"},{\"name\":\"_synced\",\"kind\":\"Any\",\"default\":null},{\"name\":\"_request_sync\",\"kind\":\"Any\",\"default\":0}]}]}};\n",
       "  var render_items = [{\"docid\":\"fabd85ce-afb7-459f-8500-84d798756bf3\",\"roots\":{\"55dbd0f8-006a-424a-a73b-864038f495b6\":\"f95d4df8-cce9-45a9-8cd7-f6ec034a3e02\"},\"root_ids\":[\"55dbd0f8-006a-424a-a73b-864038f495b6\"]}];\n",
       "  var docs = Object.values(docs_json)\n",
       "  if (!docs) {\n",
       "    return\n",
       "  }\n",
       "  const py_version = docs[0].version.replace('rc', '-rc.').replace('.dev', '-dev.')\n",
       "  async function embed_document(root) {\n",
       "    var Bokeh = get_bokeh(root)\n",
       "    await Bokeh.embed.embed_items_notebook(docs_json, render_items);\n",
       "    for (const render_item of render_items) {\n",
       "      for (const root_id of render_item.root_ids) {\n",
       "\tconst id_el = document.getElementById(root_id)\n",
       "\tif (id_el.children.length && id_el.children[0].hasAttribute('data-root-id')) {\n",
       "\t  const root_el = id_el.children[0]\n",
       "\t  root_el.id = root_el.id + '-rendered'\n",
       "\t  for (const child of root_el.children) {\n",
       "            // Ensure JupyterLab does not capture keyboard shortcuts\n",
       "            // see: https://jupyterlab.readthedocs.io/en/4.1.x/extension/notebook.html#keyboard-interaction-model\n",
       "\t    child.setAttribute('data-lm-suppress-shortcuts', 'true')\n",
       "\t  }\n",
       "\t}\n",
       "      }\n",
       "    }\n",
       "  }\n",
       "  function get_bokeh(root) {\n",
       "    if (root.Bokeh === undefined) {\n",
       "      return null\n",
       "    } else if (root.Bokeh.version !== py_version) {\n",
       "      if (root.Bokeh.versions === undefined || !root.Bokeh.versions.has(py_version)) {\n",
       "\treturn null\n",
       "      }\n",
       "      return root.Bokeh.versions.get(py_version);\n",
       "    } else if (root.Bokeh.version === py_version) {\n",
       "      return root.Bokeh\n",
       "    }\n",
       "    return null\n",
       "  }\n",
       "  function is_loaded(root) {\n",
       "    var Bokeh = get_bokeh(root)\n",
       "    return (Bokeh != null && Bokeh.Panel !== undefined)\n",
       "  }\n",
       "  if (is_loaded(root)) {\n",
       "    embed_document(root);\n",
       "  } else {\n",
       "    var attempts = 0;\n",
       "    var timer = setInterval(function(root) {\n",
       "      if (is_loaded(root)) {\n",
       "        clearInterval(timer);\n",
       "        embed_document(root);\n",
       "      } else if (document.readyState == \"complete\") {\n",
       "        attempts++;\n",
       "        if (attempts > 200) {\n",
       "          clearInterval(timer);\n",
       "\t  var Bokeh = get_bokeh(root)\n",
       "\t  if (Bokeh == null || Bokeh.Panel == null) {\n",
       "            console.warn(\"Panel: ERROR: Unable to run Panel code because Bokeh or Panel library is missing\");\n",
       "\t  } else {\n",
       "\t    console.warn(\"Panel: WARNING: Attempting to render but not all required libraries could be resolved.\")\n",
       "\t    embed_document(root)\n",
       "\t  }\n",
       "        }\n",
       "      }\n",
       "    }, 25, root)\n",
       "  }\n",
       "})(window);</script>"
      ],
      "text/plain": [
       ":Overlay\n",
       "   .Bars.I    :Bars   [post_str_b2]   (percent)\n",
       "   .HLine.I   :HLine   [x,y]\n",
       "   .HLine.II  :HLine   [x,y]\n",
       "   .HLine.III :HLine   [x,y]"
      ]
     },
     "metadata": {
      "application/vnd.holoviews_exec.v0+json": {
       "id": "55dbd0f8-006a-424a-a73b-864038f495b6"
      }
     },
     "output_type": "display_data"
    },
    {
     "name": "stdout",
     "output_type": "stream",
     "text": [
      "df_10_last FOR str_b2 = 23\n",
      "Last 3 results last_results=['08', '11']\n"
     ]
    },
    {
     "data": {
      "text/html": [
       "<div><style>\n",
       ".dataframe > thead > tr,\n",
       ".dataframe > tbody > tr {\n",
       "  text-align: right;\n",
       "  white-space: pre-wrap;\n",
       "}\n",
       "</style>\n",
       "<small>shape: (10, 30)</small><table border=\"1\" class=\"dataframe\"><thead><tr><th>fecha</th><th>sorteo</th><th>bolillas</th><th>yapa</th><th>adicionales</th><th>sorteo_extra</th><th>id</th><th>combo</th><th>b1</th><th>b2</th><th>b3</th><th>b4</th><th>b5</th><th>b6</th><th>str_b1</th><th>str_b2</th><th>str_b3</th><th>str_b4</th><th>str_b5</th><th>str_b6</th><th>post_str_b1</th><th>post_str_b2</th><th>post_str_b3</th><th>post_str_b4</th><th>post_str_b5</th><th>post_str_blast</th><th>is_rare_combination</th><th>reason</th><th>jumps_map</th><th>unijump</th></tr><tr><td>str</td><td>str</td><td>str</td><td>str</td><td>str</td><td>str</td><td>str</td><td>array[u8, 6]</td><td>u8</td><td>u8</td><td>u8</td><td>u8</td><td>u8</td><td>u8</td><td>str</td><td>str</td><td>str</td><td>str</td><td>str</td><td>str</td><td>str</td><td>str</td><td>str</td><td>str</td><td>str</td><td>str</td><td>bool</td><td>u8</td><td>str</td><td>i64</td></tr></thead><tbody><tr><td>&quot;12/02/2025&quot;</td><td>&quot;1168&quot;</td><td>&quot;23 18 32 33 24 44&quot;</td><td>&quot;48&quot;</td><td>&quot;02 27 07&quot;</td><td>&quot;Promoción Sí o Sí&quot;</td><td>&quot;182324323344&quot;</td><td>[18, 23, … 44]</td><td>18</td><td>23</td><td>24</td><td>32</td><td>33</td><td>44</td><td>&quot;18&quot;</td><td>&quot;23&quot;</td><td>&quot;24&quot;</td><td>&quot;32&quot;</td><td>&quot;33&quot;</td><td>&quot;44&quot;</td><td>&quot;06&quot;</td><td>&quot;11&quot;</td><td>&quot;16&quot;</td><td>&quot;22&quot;</td><td>&quot;34&quot;</td><td>&quot;45&quot;</td><td>false</td><td>0</td><td>&quot;05_01_08_01_11&quot;</td><td>56</td></tr><tr><td>&quot;24/07/2024&quot;</td><td>&quot;1110&quot;</td><td>&quot;23 32 28 19 38 25&quot;</td><td>&quot;40&quot;</td><td>&quot;03&quot;</td><td>&quot;Promoción Sí o Sí&quot;</td><td>&quot;192325283238&quot;</td><td>[19, 23, … 38]</td><td>19</td><td>23</td><td>25</td><td>28</td><td>32</td><td>38</td><td>&quot;19&quot;</td><td>&quot;23&quot;</td><td>&quot;25&quot;</td><td>&quot;28&quot;</td><td>&quot;32&quot;</td><td>&quot;38&quot;</td><td>&quot;03&quot;</td><td>&quot;08&quot;</td><td>&quot;14&quot;</td><td>&quot;19&quot;</td><td>&quot;25&quot;</td><td>&quot;26&quot;</td><td>false</td><td>0</td><td>&quot;04_02_03_04_06&quot;</td><td>4</td></tr><tr><td>&quot;18/02/2024&quot;</td><td>&quot;1065&quot;</td><td>&quot;42 24 31 12 35 23&quot;</td><td>&quot;28&quot;</td><td>&quot;37 14 33 07&quot;</td><td>&quot;Promoción Sí o Sí&quot;</td><td>&quot;122324313542&quot;</td><td>[12, 23, … 42]</td><td>12</td><td>23</td><td>24</td><td>31</td><td>35</td><td>42</td><td>&quot;12&quot;</td><td>&quot;23&quot;</td><td>&quot;24&quot;</td><td>&quot;31&quot;</td><td>&quot;35&quot;</td><td>&quot;42&quot;</td><td>&quot;02&quot;</td><td>&quot;08&quot;</td><td>&quot;14&quot;</td><td>&quot;30&quot;</td><td>&quot;35&quot;</td><td>&quot;39&quot;</td><td>false</td><td>0</td><td>&quot;11_01_07_04_07&quot;</td><td>40</td></tr><tr><td>&quot;09/08/2023&quot;</td><td>&quot;1010&quot;</td><td>&quot;32 42 23 02 24 27&quot;</td><td>&quot;25&quot;</td><td>&quot;45 34 09&quot;</td><td>&quot;Promoción Sí o Sí&quot;</td><td>&quot;022324273242&quot;</td><td>[2, 23, … 42]</td><td>2</td><td>23</td><td>24</td><td>27</td><td>32</td><td>42</td><td>&quot;02&quot;</td><td>&quot;23&quot;</td><td>&quot;24&quot;</td><td>&quot;27&quot;</td><td>&quot;32&quot;</td><td>&quot;42&quot;</td><td>&quot;12&quot;</td><td>&quot;19&quot;</td><td>&quot;25&quot;</td><td>&quot;37&quot;</td><td>&quot;38&quot;</td><td>&quot;42&quot;</td><td>true</td><td>16</td><td>&quot;21_01_03_05_10&quot;</td><td>25</td></tr><tr><td>&quot;05/02/2023&quot;</td><td>&quot;0957&quot;</td><td>&quot;30 23 37 26 22 39&quot;</td><td>&quot;21&quot;</td><td>&quot;29 27&quot;</td><td>&quot;Promoción Sí o Sí&quot;</td><td>&quot;222326303739&quot;</td><td>[22, 23, … 39]</td><td>22</td><td>23</td><td>26</td><td>30</td><td>37</td><td>39</td><td>&quot;22&quot;</td><td>&quot;23&quot;</td><td>&quot;26&quot;</td><td>&quot;30&quot;</td><td>&quot;37&quot;</td><td>&quot;39&quot;</td><td>&quot;09&quot;</td><td>&quot;14&quot;</td><td>&quot;16&quot;</td><td>&quot;27&quot;</td><td>&quot;31&quot;</td><td>&quot;45&quot;</td><td>true</td><td>16</td><td>&quot;01_03_04_07_02&quot;</td><td>-13</td></tr><tr><td>&quot;04/09/2022&quot;</td><td>&quot;0913&quot;</td><td>&quot;28 23 42 03 37 31&quot;</td><td>&quot;21&quot;</td><td>&quot;38 45 43 05&quot;</td><td>&quot;Promoción Sí o Sí&quot;</td><td>&quot;032328313742&quot;</td><td>[3, 23, … 42]</td><td>3</td><td>23</td><td>28</td><td>31</td><td>37</td><td>42</td><td>&quot;03&quot;</td><td>&quot;23&quot;</td><td>&quot;28&quot;</td><td>&quot;31&quot;</td><td>&quot;37&quot;</td><td>&quot;42&quot;</td><td>&quot;01&quot;</td><td>&quot;02&quot;</td><td>&quot;07&quot;</td><td>&quot;21&quot;</td><td>&quot;32&quot;</td><td>&quot;38&quot;</td><td>true</td><td>1</td><td>&quot;20_05_03_06_05&quot;</td><td>-1</td></tr><tr><td>&quot;16/01/2022&quot;</td><td>&quot;0847&quot;</td><td>&quot;24 23 39 33 44 12&quot;</td><td>&quot;05&quot;</td><td>&quot;&quot;</td><td>&quot;&quot;</td><td>&quot;122324333944&quot;</td><td>[12, 23, … 44]</td><td>12</td><td>23</td><td>24</td><td>33</td><td>39</td><td>44</td><td>&quot;12&quot;</td><td>&quot;23&quot;</td><td>&quot;24&quot;</td><td>&quot;33&quot;</td><td>&quot;39&quot;</td><td>&quot;44&quot;</td><td>&quot;09&quot;</td><td>&quot;18&quot;</td><td>&quot;19&quot;</td><td>&quot;25&quot;</td><td>&quot;32&quot;</td><td>&quot;38&quot;</td><td>false</td><td>0</td><td>&quot;11_01_09_06_05&quot;</td><td>42</td></tr><tr><td>&quot;26/12/2021&quot;</td><td>&quot;0841&quot;</td><td>&quot;29 39 17 36 23 33&quot;</td><td>&quot;35&quot;</td><td>&quot;38 14 09&quot;</td><td>&quot;Promoción Sí o Sí&quot;</td><td>&quot;172329333639&quot;</td><td>[17, 23, … 39]</td><td>17</td><td>23</td><td>29</td><td>33</td><td>36</td><td>39</td><td>&quot;17&quot;</td><td>&quot;23&quot;</td><td>&quot;29&quot;</td><td>&quot;33&quot;</td><td>&quot;36&quot;</td><td>&quot;39&quot;</td><td>&quot;07&quot;</td><td>&quot;08&quot;</td><td>&quot;11&quot;</td><td>&quot;14&quot;</td><td>&quot;17&quot;</td><td>&quot;21&quot;</td><td>true</td><td>8</td><td>&quot;06_06_04_03_03&quot;</td><td>-3</td></tr><tr><td>&quot;10/10/2021&quot;</td><td>&quot;0819&quot;</td><td>&quot;45 20 26 37 23 39&quot;</td><td>&quot;08&quot;</td><td>&quot;&quot;</td><td>&quot;&quot;</td><td>&quot;202326373945&quot;</td><td>[20, 23, … 45]</td><td>20</td><td>23</td><td>26</td><td>37</td><td>39</td><td>45</td><td>&quot;20&quot;</td><td>&quot;23&quot;</td><td>&quot;26&quot;</td><td>&quot;37&quot;</td><td>&quot;39&quot;</td><td>&quot;45&quot;</td><td>&quot;05&quot;</td><td>&quot;22&quot;</td><td>&quot;24&quot;</td><td>&quot;25&quot;</td><td>&quot;29&quot;</td><td>&quot;32&quot;</td><td>true</td><td>24</td><td>&quot;03_03_11_02_06&quot;</td><td>55</td></tr><tr><td>&quot;09/06/2021&quot;</td><td>&quot;0784&quot;</td><td>&quot;44 42 36 20 23 33&quot;</td><td>&quot;34&quot;</td><td>&quot;&quot;</td><td>&quot;&quot;</td><td>&quot;202333364244&quot;</td><td>[20, 23, … 44]</td><td>20</td><td>23</td><td>33</td><td>36</td><td>42</td><td>44</td><td>&quot;20&quot;</td><td>&quot;23&quot;</td><td>&quot;33&quot;</td><td>&quot;36&quot;</td><td>&quot;42&quot;</td><td>&quot;44&quot;</td><td>&quot;04&quot;</td><td>&quot;16&quot;</td><td>&quot;20&quot;</td><td>&quot;27&quot;</td><td>&quot;28&quot;</td><td>&quot;39&quot;</td><td>true</td><td>16</td><td>&quot;03_10_03_06_02&quot;</td><td>-41</td></tr></tbody></table></div>"
      ],
      "text/plain": [
       "shape: (10, 30)\n",
       "┌────────────┬────────┬───────────────┬──────┬───┬───────────────┬────────┬──────────────┬─────────┐\n",
       "│ fecha      ┆ sorteo ┆ bolillas      ┆ yapa ┆ … ┆ is_rare_combi ┆ reason ┆ jumps_map    ┆ unijump │\n",
       "│ ---        ┆ ---    ┆ ---           ┆ ---  ┆   ┆ nation        ┆ ---    ┆ ---          ┆ ---     │\n",
       "│ str        ┆ str    ┆ str           ┆ str  ┆   ┆ ---           ┆ u8     ┆ str          ┆ i64     │\n",
       "│            ┆        ┆               ┆      ┆   ┆ bool          ┆        ┆              ┆         │\n",
       "╞════════════╪════════╪═══════════════╪══════╪═══╪═══════════════╪════════╪══════════════╪═════════╡\n",
       "│ 12/02/2025 ┆ 1168   ┆ 23 18 32 33   ┆ 48   ┆ … ┆ false         ┆ 0      ┆ 05_01_08_01_ ┆ 56      │\n",
       "│            ┆        ┆ 24 44         ┆      ┆   ┆               ┆        ┆ 11           ┆         │\n",
       "│ 24/07/2024 ┆ 1110   ┆ 23 32 28 19   ┆ 40   ┆ … ┆ false         ┆ 0      ┆ 04_02_03_04_ ┆ 4       │\n",
       "│            ┆        ┆ 38 25         ┆      ┆   ┆               ┆        ┆ 06           ┆         │\n",
       "│ 18/02/2024 ┆ 1065   ┆ 42 24 31 12   ┆ 28   ┆ … ┆ false         ┆ 0      ┆ 11_01_07_04_ ┆ 40      │\n",
       "│            ┆        ┆ 35 23         ┆      ┆   ┆               ┆        ┆ 07           ┆         │\n",
       "│ 09/08/2023 ┆ 1010   ┆ 32 42 23 02   ┆ 25   ┆ … ┆ true          ┆ 16     ┆ 21_01_03_05_ ┆ 25      │\n",
       "│            ┆        ┆ 24 27         ┆      ┆   ┆               ┆        ┆ 10           ┆         │\n",
       "│ 05/02/2023 ┆ 0957   ┆ 30 23 37 26   ┆ 21   ┆ … ┆ true          ┆ 16     ┆ 01_03_04_07_ ┆ -13     │\n",
       "│            ┆        ┆ 22 39         ┆      ┆   ┆               ┆        ┆ 02           ┆         │\n",
       "│ 04/09/2022 ┆ 0913   ┆ 28 23 42 03   ┆ 21   ┆ … ┆ true          ┆ 1      ┆ 20_05_03_06_ ┆ -1      │\n",
       "│            ┆        ┆ 37 31         ┆      ┆   ┆               ┆        ┆ 05           ┆         │\n",
       "│ 16/01/2022 ┆ 0847   ┆ 24 23 39 33   ┆ 05   ┆ … ┆ false         ┆ 0      ┆ 11_01_09_06_ ┆ 42      │\n",
       "│            ┆        ┆ 44 12         ┆      ┆   ┆               ┆        ┆ 05           ┆         │\n",
       "│ 26/12/2021 ┆ 0841   ┆ 29 39 17 36   ┆ 35   ┆ … ┆ true          ┆ 8      ┆ 06_06_04_03_ ┆ -3      │\n",
       "│            ┆        ┆ 23 33         ┆      ┆   ┆               ┆        ┆ 03           ┆         │\n",
       "│ 10/10/2021 ┆ 0819   ┆ 45 20 26 37   ┆ 08   ┆ … ┆ true          ┆ 24     ┆ 03_03_11_02_ ┆ 55      │\n",
       "│            ┆        ┆ 23 39         ┆      ┆   ┆               ┆        ┆ 06           ┆         │\n",
       "│ 09/06/2021 ┆ 0784   ┆ 44 42 36 20   ┆ 34   ┆ … ┆ true          ┆ 16     ┆ 03_10_03_06_ ┆ -41     │\n",
       "│            ┆        ┆ 23 33         ┆      ┆   ┆               ┆        ┆ 02           ┆         │\n",
       "└────────────┴────────┴───────────────┴──────┴───┴───────────────┴────────┴──────────────┴─────────┘"
      ]
     },
     "metadata": {},
     "output_type": "display_data"
    },
    {
     "name": "stdout",
     "output_type": "stream",
     "text": [
      "df_jumps_map FOR str_b2 = 23\n"
     ]
    },
    {
     "data": {
      "text/html": [
       "<div><style>\n",
       ".dataframe > thead > tr,\n",
       ".dataframe > tbody > tr {\n",
       "  text-align: right;\n",
       "  white-space: pre-wrap;\n",
       "}\n",
       "</style>\n",
       "<small>shape: (60, 2)</small><table border=\"1\" class=\"dataframe\"><thead><tr><th>jumps_map</th><th>count</th></tr><tr><td>str</td><td>u32</td></tr></thead><tbody><tr><td>&quot;11_01_04_09_05&quot;</td><td>1</td></tr><tr><td>&quot;08_05_02_04_09&quot;</td><td>1</td></tr><tr><td>&quot;04_09_02_02_09&quot;</td><td>1</td></tr><tr><td>&quot;20_05_03_06_05&quot;</td><td>1</td></tr><tr><td>&quot;17_08_03_05_03&quot;</td><td>1</td></tr><tr><td>&hellip;</td><td>&hellip;</td></tr><tr><td>&quot;13_01_04_13_04&quot;</td><td>1</td></tr><tr><td>&quot;11_01_07_04_07&quot;</td><td>1</td></tr><tr><td>&quot;12_10_03_02_06&quot;</td><td>1</td></tr><tr><td>&quot;02_08_02_06_06&quot;</td><td>1</td></tr><tr><td>&quot;18_02_09_08_03&quot;</td><td>1</td></tr></tbody></table></div>"
      ],
      "text/plain": [
       "shape: (60, 2)\n",
       "┌────────────────┬───────┐\n",
       "│ jumps_map      ┆ count │\n",
       "│ ---            ┆ ---   │\n",
       "│ str            ┆ u32   │\n",
       "╞════════════════╪═══════╡\n",
       "│ 11_01_04_09_05 ┆ 1     │\n",
       "│ 08_05_02_04_09 ┆ 1     │\n",
       "│ 04_09_02_02_09 ┆ 1     │\n",
       "│ 20_05_03_06_05 ┆ 1     │\n",
       "│ 17_08_03_05_03 ┆ 1     │\n",
       "│ …              ┆ …     │\n",
       "│ 13_01_04_13_04 ┆ 1     │\n",
       "│ 11_01_07_04_07 ┆ 1     │\n",
       "│ 12_10_03_02_06 ┆ 1     │\n",
       "│ 02_08_02_06_06 ┆ 1     │\n",
       "│ 18_02_09_08_03 ┆ 1     │\n",
       "└────────────────┴───────┘"
      ]
     },
     "metadata": {},
     "output_type": "display_data"
    },
    {
     "name": "stdout",
     "output_type": "stream",
     "text": [
      "df_unijump FOR str_b2 = 23\n"
     ]
    },
    {
     "data": {
      "text/html": [
       "<div><style>\n",
       ".dataframe > thead > tr,\n",
       ".dataframe > tbody > tr {\n",
       "  text-align: right;\n",
       "  white-space: pre-wrap;\n",
       "}\n",
       "</style>\n",
       "<small>shape: (47, 2)</small><table border=\"1\" class=\"dataframe\"><thead><tr><th>unijump</th><th>count</th></tr><tr><td>i64</td><td>u32</td></tr></thead><tbody><tr><td>23</td><td>3</td></tr><tr><td>22</td><td>3</td></tr><tr><td>1</td><td>2</td></tr><tr><td>-17</td><td>2</td></tr><tr><td>-19</td><td>2</td></tr><tr><td>&hellip;</td><td>&hellip;</td></tr><tr><td>16</td><td>1</td></tr><tr><td>39</td><td>1</td></tr><tr><td>42</td><td>1</td></tr><tr><td>-29</td><td>1</td></tr><tr><td>40</td><td>1</td></tr></tbody></table></div>"
      ],
      "text/plain": [
       "shape: (47, 2)\n",
       "┌─────────┬───────┐\n",
       "│ unijump ┆ count │\n",
       "│ ---     ┆ ---   │\n",
       "│ i64     ┆ u32   │\n",
       "╞═════════╪═══════╡\n",
       "│ 23      ┆ 3     │\n",
       "│ 22      ┆ 3     │\n",
       "│ 1       ┆ 2     │\n",
       "│ -17     ┆ 2     │\n",
       "│ -19     ┆ 2     │\n",
       "│ …       ┆ …     │\n",
       "│ 16      ┆ 1     │\n",
       "│ 39      ┆ 1     │\n",
       "│ 42      ┆ 1     │\n",
       "│ -29     ┆ 1     │\n",
       "│ 40      ┆ 1     │\n",
       "└─────────┴───────┘"
      ]
     },
     "metadata": {},
     "output_type": "display_data"
    }
   ],
   "source": [
    "possible_b2, exclude_jump_maps_b2, last_post_b2 = plot_post_col(col='str_b2', post_col='post_str_b2')"
   ]
  },
  {
   "cell_type": "code",
   "execution_count": 11,
   "metadata": {},
   "outputs": [
    {
     "name": "stdout",
     "output_type": "stream",
     "text": [
      "Setting test_value='24'\n",
      "df_viz FOR str_b3 = 24\n"
     ]
    },
    {
     "data": {
      "text/html": [
       "<div><style>\n",
       ".dataframe > thead > tr,\n",
       ".dataframe > tbody > tr {\n",
       "  text-align: right;\n",
       "  white-space: pre-wrap;\n",
       "}\n",
       "</style>\n",
       "<small>shape: (32, 3)</small><table border=\"1\" class=\"dataframe\"><thead><tr><th>post_str_b3</th><th>count</th><th>percent</th></tr><tr><td>str</td><td>u32</td><td>f64</td></tr></thead><tbody><tr><td>&quot;19&quot;</td><td>9</td><td>8.571429</td></tr><tr><td>&quot;17&quot;</td><td>8</td><td>7.619048</td></tr><tr><td>&quot;10&quot;</td><td>7</td><td>6.666667</td></tr><tr><td>&quot;20&quot;</td><td>7</td><td>6.666667</td></tr><tr><td>&quot;25&quot;</td><td>5</td><td>4.761905</td></tr><tr><td>&hellip;</td><td>&hellip;</td><td>&hellip;</td></tr><tr><td>&quot;28&quot;</td><td>1</td><td>0.952381</td></tr><tr><td>&quot;05&quot;</td><td>1</td><td>0.952381</td></tr><tr><td>&quot;33&quot;</td><td>1</td><td>0.952381</td></tr><tr><td>&quot;39&quot;</td><td>1</td><td>0.952381</td></tr><tr><td>&quot;38&quot;</td><td>1</td><td>0.952381</td></tr></tbody></table></div>"
      ],
      "text/plain": [
       "shape: (32, 3)\n",
       "┌─────────────┬───────┬──────────┐\n",
       "│ post_str_b3 ┆ count ┆ percent  │\n",
       "│ ---         ┆ ---   ┆ ---      │\n",
       "│ str         ┆ u32   ┆ f64      │\n",
       "╞═════════════╪═══════╪══════════╡\n",
       "│ 19          ┆ 9     ┆ 8.571429 │\n",
       "│ 17          ┆ 8     ┆ 7.619048 │\n",
       "│ 10          ┆ 7     ┆ 6.666667 │\n",
       "│ 20          ┆ 7     ┆ 6.666667 │\n",
       "│ 25          ┆ 5     ┆ 4.761905 │\n",
       "│ …           ┆ …     ┆ …        │\n",
       "│ 28          ┆ 1     ┆ 0.952381 │\n",
       "│ 05          ┆ 1     ┆ 0.952381 │\n",
       "│ 33          ┆ 1     ┆ 0.952381 │\n",
       "│ 39          ┆ 1     ┆ 0.952381 │\n",
       "│ 38          ┆ 1     ┆ 0.952381 │\n",
       "└─────────────┴───────┴──────────┘"
      ]
     },
     "metadata": {},
     "output_type": "display_data"
    },
    {
     "data": {},
     "metadata": {},
     "output_type": "display_data"
    },
    {
     "data": {
      "application/vnd.holoviews_exec.v0+json": "",
      "text/html": [
       "<div id='f915bf50-33c4-459b-8170-7605ca83f11e'>\n",
       "  <div id=\"d8fc970c-83a2-474e-bd4b-aaf689fa7abf\" data-root-id=\"f915bf50-33c4-459b-8170-7605ca83f11e\" style=\"display: contents;\"></div>\n",
       "</div>\n",
       "<script type=\"application/javascript\">(function(root) {\n",
       "  var docs_json = {\"b3757cae-64e9-41d6-a89d-b39a93a71f46\":{\"version\":\"3.7.2\",\"title\":\"Bokeh Application\",\"roots\":[{\"type\":\"object\",\"name\":\"Row\",\"id\":\"f915bf50-33c4-459b-8170-7605ca83f11e\",\"attributes\":{\"name\":\"Row00428\",\"tags\":[\"embedded\"],\"stylesheets\":[\"\\n:host(.pn-loading):before, .pn-loading:before {\\n  background-color: #c3c3c3;\\n  mask-size: auto calc(min(50%, 400px));\\n  -webkit-mask-size: auto calc(min(50%, 400px));\\n}\",{\"type\":\"object\",\"name\":\"ImportedStyleSheet\",\"id\":\"6039822e-bdbd-4f3e-82b3-0088ea696c27\",\"attributes\":{\"url\":\"https://cdn.holoviz.org/panel/1.6.2/dist/css/loading.css\"}},{\"type\":\"object\",\"name\":\"ImportedStyleSheet\",\"id\":\"149238f4-5886-45ea-a3b4-892dab645c6c\",\"attributes\":{\"url\":\"https://cdn.holoviz.org/panel/1.6.2/dist/css/listpanel.css\"}},{\"type\":\"object\",\"name\":\"ImportedStyleSheet\",\"id\":\"bea4fa8c-02a7-48a7-bf1c-f86a76077f76\",\"attributes\":{\"url\":\"https://cdn.holoviz.org/panel/1.6.2/dist/bundled/theme/default.css\"}},{\"type\":\"object\",\"name\":\"ImportedStyleSheet\",\"id\":\"7e05da33-6a08-4c74-b75a-2e0e7ba8c8fd\",\"attributes\":{\"url\":\"https://cdn.holoviz.org/panel/1.6.2/dist/bundled/theme/native.css\"}}],\"min_width\":700,\"margin\":0,\"sizing_mode\":\"stretch_width\",\"align\":\"start\",\"children\":[{\"type\":\"object\",\"name\":\"Spacer\",\"id\":\"83e649b4-3f9a-4d97-bc5c-974a9a215d5c\",\"attributes\":{\"name\":\"HSpacer00432\",\"stylesheets\":[\"\\n:host(.pn-loading):before, .pn-loading:before {\\n  background-color: #c3c3c3;\\n  mask-size: auto calc(min(50%, 400px));\\n  -webkit-mask-size: auto calc(min(50%, 400px));\\n}\",{\"id\":\"6039822e-bdbd-4f3e-82b3-0088ea696c27\"},{\"id\":\"bea4fa8c-02a7-48a7-bf1c-f86a76077f76\"},{\"id\":\"7e05da33-6a08-4c74-b75a-2e0e7ba8c8fd\"}],\"margin\":0,\"sizing_mode\":\"stretch_width\",\"align\":\"start\"}},{\"type\":\"object\",\"name\":\"Figure\",\"id\":\"2752212a-1fca-416c-9a18-7326f8c75450\",\"attributes\":{\"width\":700,\"height\":300,\"margin\":[5,10],\"sizing_mode\":\"fixed\",\"align\":\"start\",\"x_range\":{\"type\":\"object\",\"name\":\"FactorRange\",\"id\":\"c8b88ff5-54ad-4e68-87b5-75ea00665db9\",\"attributes\":{\"name\":\"post_str_b3\",\"tags\":[[[\"post_str_b3\",null]],[]],\"factors\":[\"19\",\"17\",\"10\",\"20\",\"25\",\"31\",\"14\",\"23\",\"22\",\"30\",\"07\",\"12\",\"13\",\"32\",\"15\",\"24\",\"09\",\"26\",\"21\",\"18\",\"08\",\"16\",\"29\",\"11\",\"34\",\"27\",\"35\",\"28\",\"05\",\"33\",\"39\",\"38\"]}},\"y_range\":{\"type\":\"object\",\"name\":\"Range1d\",\"id\":\"80d2066c-93bf-4c95-884a-04ff33163b44\",\"attributes\":{\"name\":\"percent\",\"tags\":[[[\"percent\",null]],{\"type\":\"map\",\"entries\":[[\"invert_yaxis\",false],[\"autorange\",false]]}],\"end\":9.333333333333332,\"reset_start\":0.0,\"reset_end\":9.333333333333332}},\"x_scale\":{\"type\":\"object\",\"name\":\"CategoricalScale\",\"id\":\"4f62ec3d-944f-464a-accd-284bedbe2692\"},\"y_scale\":{\"type\":\"object\",\"name\":\"LinearScale\",\"id\":\"bb800cdd-d45d-4e3f-a0db-34ec61677bfa\"},\"title\":{\"type\":\"object\",\"name\":\"Title\",\"id\":\"e27732dd-e533-44dd-a69a-eab9bc6dff78\",\"attributes\":{\"text_color\":\"black\",\"text_font_size\":\"12pt\"}},\"renderers\":[{\"type\":\"object\",\"name\":\"GlyphRenderer\",\"id\":\"849cf269-525d-4da3-b3bd-7c99b679ec61\",\"attributes\":{\"data_source\":{\"type\":\"object\",\"name\":\"ColumnDataSource\",\"id\":\"ec72b2cb-2009-4a32-89f8-da5bfcfbfcac\",\"attributes\":{\"selected\":{\"type\":\"object\",\"name\":\"Selection\",\"id\":\"73586630-9ee5-4843-99a0-59cd964f5e87\",\"attributes\":{\"indices\":[],\"line_indices\":[]}},\"selection_policy\":{\"type\":\"object\",\"name\":\"UnionRenderers\",\"id\":\"ac886d64-596a-4340-961c-14e8163bfb5d\"},\"data\":{\"type\":\"map\",\"entries\":[[\"post_str_b3\",[\"19\",\"17\",\"10\",\"20\",\"25\",\"31\",\"14\",\"23\",\"22\",\"30\",\"07\",\"12\",\"13\",\"32\",\"15\",\"24\",\"09\",\"26\",\"21\",\"18\",\"08\",\"16\",\"29\",\"11\",\"34\",\"27\",\"35\",\"28\",\"05\",\"33\",\"39\",\"38\"]],[\"percent\",{\"type\":\"ndarray\",\"array\":{\"type\":\"bytes\",\"data\":\"SZIkSZIkIUCf53me53keQKyqqqqqqhpArKqqqqqqGkDEMAzDMAwTQMQwDMMwDBNAxDAMwzAME0Cf53me53kOQJ/neZ7neQ5An+d5nud5DkCf53me53kOQLdt27Zt2wZAt23btm3bBkC3bdu2bdsGQLdt27Zt2wZAt23btm3bBkC3bdu2bdsGQLdt27Zt2wZAt23btm3bBkCf53me53n+P5/neZ7nef4/n+d5nud5/j+f53me53n+P5/neZ7nef4/n+d5nud5/j+f53me53nuP5/neZ7nee4/n+d5nud57j+f53me53nuP5/neZ7nee4/n+d5nud57j+f53me53nuPw==\"},\"shape\":[32],\"dtype\":\"float64\",\"order\":\"little\"}]]}}},\"view\":{\"type\":\"object\",\"name\":\"CDSView\",\"id\":\"c17bf497-e463-42df-a232-e45a6222aeab\",\"attributes\":{\"filter\":{\"type\":\"object\",\"name\":\"AllIndices\",\"id\":\"ac2791c2-9a51-4297-a05b-c83a100da774\"}}},\"glyph\":{\"type\":\"object\",\"name\":\"VBar\",\"id\":\"5823b103-c193-440a-bdc8-4603f32fd7ed\",\"attributes\":{\"tags\":[\"apply_ranges\"],\"x\":{\"type\":\"field\",\"field\":\"post_str_b3\"},\"width\":{\"type\":\"value\",\"value\":0.8},\"top\":{\"type\":\"field\",\"field\":\"percent\"},\"fill_color\":{\"type\":\"value\",\"value\":\"#30a2da\"},\"hatch_color\":{\"type\":\"value\",\"value\":\"#30a2da\"}}},\"selection_glyph\":{\"type\":\"object\",\"name\":\"VBar\",\"id\":\"9b0c842e-8d25-4f40-a740-4d0e614109d3\",\"attributes\":{\"tags\":[\"apply_ranges\"],\"x\":{\"type\":\"field\",\"field\":\"post_str_b3\"},\"width\":{\"type\":\"value\",\"value\":0.8},\"bottom\":{\"type\":\"value\",\"value\":0},\"top\":{\"type\":\"field\",\"field\":\"percent\"},\"line_color\":{\"type\":\"value\",\"value\":\"black\"},\"line_alpha\":{\"type\":\"value\",\"value\":1.0},\"line_width\":{\"type\":\"value\",\"value\":1},\"line_join\":{\"type\":\"value\",\"value\":\"bevel\"},\"line_cap\":{\"type\":\"value\",\"value\":\"butt\"},\"line_dash\":{\"type\":\"value\",\"value\":[]},\"line_dash_offset\":{\"type\":\"value\",\"value\":0},\"fill_color\":{\"type\":\"value\",\"value\":\"#30a2da\"},\"fill_alpha\":{\"type\":\"value\",\"value\":1.0},\"hatch_color\":{\"type\":\"value\",\"value\":\"#30a2da\"},\"hatch_alpha\":{\"type\":\"value\",\"value\":1.0},\"hatch_scale\":{\"type\":\"value\",\"value\":12.0},\"hatch_pattern\":{\"type\":\"value\",\"value\":null},\"hatch_weight\":{\"type\":\"value\",\"value\":1.0}}},\"nonselection_glyph\":{\"type\":\"object\",\"name\":\"VBar\",\"id\":\"b520dd0f-169b-40f3-8225-d7dc859fb84b\",\"attributes\":{\"tags\":[\"apply_ranges\"],\"x\":{\"type\":\"field\",\"field\":\"post_str_b3\"},\"width\":{\"type\":\"value\",\"value\":0.8},\"top\":{\"type\":\"field\",\"field\":\"percent\"},\"line_alpha\":{\"type\":\"value\",\"value\":0.1},\"fill_color\":{\"type\":\"value\",\"value\":\"#30a2da\"},\"fill_alpha\":{\"type\":\"value\",\"value\":0.1},\"hatch_color\":{\"type\":\"value\",\"value\":\"#30a2da\"},\"hatch_alpha\":{\"type\":\"value\",\"value\":0.1}}},\"muted_glyph\":{\"type\":\"object\",\"name\":\"VBar\",\"id\":\"f76cad5f-bd7d-4d6f-a2df-d66922009497\",\"attributes\":{\"tags\":[\"apply_ranges\"],\"x\":{\"type\":\"field\",\"field\":\"post_str_b3\"},\"width\":{\"type\":\"value\",\"value\":0.8},\"top\":{\"type\":\"field\",\"field\":\"percent\"},\"line_alpha\":{\"type\":\"value\",\"value\":0.2},\"fill_color\":{\"type\":\"value\",\"value\":\"#30a2da\"},\"fill_alpha\":{\"type\":\"value\",\"value\":0.2},\"hatch_color\":{\"type\":\"value\",\"value\":\"#30a2da\"},\"hatch_alpha\":{\"type\":\"value\",\"value\":0.2}}}}},{\"type\":\"object\",\"name\":\"Span\",\"id\":\"b28f6791-a921-4bef-9332-743243dd4ea8\",\"attributes\":{\"level\":\"glyph\",\"location\":3.1249999999999987,\"line_color\":\"red\",\"line_width\":3}},{\"type\":\"object\",\"name\":\"Span\",\"id\":\"0b2d258e-25ac-47b0-8b50-4312f8649c17\",\"attributes\":{\"level\":\"glyph\",\"location\":4.687499999999997,\"line_color\":\"blue\",\"line_width\":3}},{\"type\":\"object\",\"name\":\"Span\",\"id\":\"dd1fc8fb-d145-45d6-a00b-fa228340d9d3\",\"attributes\":{\"level\":\"glyph\",\"location\":1.5624999999999993,\"line_color\":\"blue\",\"line_width\":3}}],\"toolbar\":{\"type\":\"object\",\"name\":\"Toolbar\",\"id\":\"00404a48-e594-4839-960d-fbc009cdd801\",\"attributes\":{\"tools\":[{\"type\":\"object\",\"name\":\"WheelZoomTool\",\"id\":\"87d408fa-4eaf-4638-8cbc-0bff45a29932\",\"attributes\":{\"tags\":[\"hv_created\"],\"renderers\":\"auto\",\"zoom_together\":\"none\"}},{\"type\":\"object\",\"name\":\"HoverTool\",\"id\":\"e31b5e64-7d50-421e-9424-c1a2e0e0ac27\",\"attributes\":{\"tags\":[\"hv_created\"],\"renderers\":[{\"id\":\"849cf269-525d-4da3-b3bd-7c99b679ec61\"}],\"tooltips\":[[\"post_str_b3\",\"@{post_str_b3}\"],[\"percent\",\"@{percent}\"]]}},{\"type\":\"object\",\"name\":\"SaveTool\",\"id\":\"bd0332de-f9f3-449f-87b6-6d95ff37887d\"},{\"type\":\"object\",\"name\":\"PanTool\",\"id\":\"8c5ce893-6b4b-4310-b7ad-2f5cc01e8c70\"},{\"type\":\"object\",\"name\":\"BoxZoomTool\",\"id\":\"52841350-8a8a-490c-a083-11fc5a61141c\",\"attributes\":{\"dimensions\":\"both\",\"overlay\":{\"type\":\"object\",\"name\":\"BoxAnnotation\",\"id\":\"e32d8a29-340e-46f2-ac05-8302a3c34710\",\"attributes\":{\"syncable\":false,\"line_color\":\"black\",\"line_alpha\":1.0,\"line_width\":2,\"line_dash\":[4,4],\"fill_color\":\"lightgrey\",\"fill_alpha\":0.5,\"level\":\"overlay\",\"visible\":false,\"left\":{\"type\":\"number\",\"value\":\"nan\"},\"right\":{\"type\":\"number\",\"value\":\"nan\"},\"top\":{\"type\":\"number\",\"value\":\"nan\"},\"bottom\":{\"type\":\"number\",\"value\":\"nan\"},\"left_units\":\"canvas\",\"right_units\":\"canvas\",\"top_units\":\"canvas\",\"bottom_units\":\"canvas\",\"handles\":{\"type\":\"object\",\"name\":\"BoxInteractionHandles\",\"id\":\"77ee4277-851a-470b-ba8e-52f1771f3e04\",\"attributes\":{\"all\":{\"type\":\"object\",\"name\":\"AreaVisuals\",\"id\":\"101a9373-61e1-469c-b592-2d518bed71bd\",\"attributes\":{\"fill_color\":\"white\",\"hover_fill_color\":\"lightgray\"}}}}}}}},{\"type\":\"object\",\"name\":\"ResetTool\",\"id\":\"223d5e1f-5ced-4f25-80a6-3e452722ed7c\"}],\"active_drag\":{\"id\":\"8c5ce893-6b4b-4310-b7ad-2f5cc01e8c70\"}}},\"left\":[{\"type\":\"object\",\"name\":\"LinearAxis\",\"id\":\"8a544f98-13e4-4843-8910-25234a707218\",\"attributes\":{\"ticker\":{\"type\":\"object\",\"name\":\"BasicTicker\",\"id\":\"2c857354-b33e-4c84-86be-6a744e27180b\",\"attributes\":{\"mantissas\":[1,2,5]}},\"formatter\":{\"type\":\"object\",\"name\":\"BasicTickFormatter\",\"id\":\"12e9c926-c738-4134-9ad1-d356568e1f76\"},\"axis_label\":\"percent\",\"major_label_policy\":{\"type\":\"object\",\"name\":\"AllLabels\",\"id\":\"c6318dda-ee13-4924-9ca2-cb9aec1df240\"}}}],\"below\":[{\"type\":\"object\",\"name\":\"CategoricalAxis\",\"id\":\"47a58920-1b20-42a7-a497-7f785371d356\",\"attributes\":{\"ticker\":{\"type\":\"object\",\"name\":\"CategoricalTicker\",\"id\":\"e3371d07-4e00-4970-9a23-258303cb1525\"},\"formatter\":{\"type\":\"object\",\"name\":\"CategoricalTickFormatter\",\"id\":\"0ff81edd-d00c-4503-a53e-c8ef4499ece6\"},\"axis_label\":\"post_str_b3\",\"major_label_policy\":{\"type\":\"object\",\"name\":\"AllLabels\",\"id\":\"51f0629a-0730-4002-8a37-65bbf4843e80\"}}}],\"center\":[{\"type\":\"object\",\"name\":\"Grid\",\"id\":\"537e7ad3-8eb0-46a2-a1d7-b1819d44e0fa\",\"attributes\":{\"axis\":{\"id\":\"47a58920-1b20-42a7-a497-7f785371d356\"},\"grid_line_color\":null}},{\"type\":\"object\",\"name\":\"Grid\",\"id\":\"1d116c60-083b-4d9c-b91e-709e09604dcc\",\"attributes\":{\"dimension\":1,\"axis\":{\"id\":\"8a544f98-13e4-4843-8910-25234a707218\"},\"grid_line_color\":null}}],\"min_border_top\":10,\"min_border_bottom\":10,\"min_border_left\":10,\"min_border_right\":10,\"output_backend\":\"webgl\"}},{\"type\":\"object\",\"name\":\"Spacer\",\"id\":\"66c8fb44-b81c-4171-97e5-a84dd4969d3f\",\"attributes\":{\"name\":\"HSpacer00433\",\"stylesheets\":[\"\\n:host(.pn-loading):before, .pn-loading:before {\\n  background-color: #c3c3c3;\\n  mask-size: auto calc(min(50%, 400px));\\n  -webkit-mask-size: auto calc(min(50%, 400px));\\n}\",{\"id\":\"6039822e-bdbd-4f3e-82b3-0088ea696c27\"},{\"id\":\"bea4fa8c-02a7-48a7-bf1c-f86a76077f76\"},{\"id\":\"7e05da33-6a08-4c74-b75a-2e0e7ba8c8fd\"}],\"margin\":0,\"sizing_mode\":\"stretch_width\",\"align\":\"start\"}}]}}],\"defs\":[{\"type\":\"model\",\"name\":\"ReactiveHTML1\"},{\"type\":\"model\",\"name\":\"FlexBox1\",\"properties\":[{\"name\":\"align_content\",\"kind\":\"Any\",\"default\":\"flex-start\"},{\"name\":\"align_items\",\"kind\":\"Any\",\"default\":\"flex-start\"},{\"name\":\"flex_direction\",\"kind\":\"Any\",\"default\":\"row\"},{\"name\":\"flex_wrap\",\"kind\":\"Any\",\"default\":\"wrap\"},{\"name\":\"gap\",\"kind\":\"Any\",\"default\":\"\"},{\"name\":\"justify_content\",\"kind\":\"Any\",\"default\":\"flex-start\"}]},{\"type\":\"model\",\"name\":\"FloatPanel1\",\"properties\":[{\"name\":\"config\",\"kind\":\"Any\",\"default\":{\"type\":\"map\"}},{\"name\":\"contained\",\"kind\":\"Any\",\"default\":true},{\"name\":\"position\",\"kind\":\"Any\",\"default\":\"right-top\"},{\"name\":\"offsetx\",\"kind\":\"Any\",\"default\":null},{\"name\":\"offsety\",\"kind\":\"Any\",\"default\":null},{\"name\":\"theme\",\"kind\":\"Any\",\"default\":\"primary\"},{\"name\":\"status\",\"kind\":\"Any\",\"default\":\"normalized\"}]},{\"type\":\"model\",\"name\":\"GridStack1\",\"properties\":[{\"name\":\"ncols\",\"kind\":\"Any\",\"default\":null},{\"name\":\"nrows\",\"kind\":\"Any\",\"default\":null},{\"name\":\"allow_resize\",\"kind\":\"Any\",\"default\":true},{\"name\":\"allow_drag\",\"kind\":\"Any\",\"default\":true},{\"name\":\"state\",\"kind\":\"Any\",\"default\":[]}]},{\"type\":\"model\",\"name\":\"drag1\",\"properties\":[{\"name\":\"slider_width\",\"kind\":\"Any\",\"default\":5},{\"name\":\"slider_color\",\"kind\":\"Any\",\"default\":\"black\"},{\"name\":\"value\",\"kind\":\"Any\",\"default\":50}]},{\"type\":\"model\",\"name\":\"click1\",\"properties\":[{\"name\":\"terminal_output\",\"kind\":\"Any\",\"default\":\"\"},{\"name\":\"debug_name\",\"kind\":\"Any\",\"default\":\"\"},{\"name\":\"clears\",\"kind\":\"Any\",\"default\":0}]},{\"type\":\"model\",\"name\":\"FastWrapper1\",\"properties\":[{\"name\":\"object\",\"kind\":\"Any\",\"default\":null},{\"name\":\"style\",\"kind\":\"Any\",\"default\":null}]},{\"type\":\"model\",\"name\":\"NotificationArea1\",\"properties\":[{\"name\":\"js_events\",\"kind\":\"Any\",\"default\":{\"type\":\"map\"}},{\"name\":\"max_notifications\",\"kind\":\"Any\",\"default\":5},{\"name\":\"notifications\",\"kind\":\"Any\",\"default\":[]},{\"name\":\"position\",\"kind\":\"Any\",\"default\":\"bottom-right\"},{\"name\":\"_clear\",\"kind\":\"Any\",\"default\":0},{\"name\":\"types\",\"kind\":\"Any\",\"default\":[{\"type\":\"map\",\"entries\":[[\"type\",\"warning\"],[\"background\",\"#ffc107\"],[\"icon\",{\"type\":\"map\",\"entries\":[[\"className\",\"fas fa-exclamation-triangle\"],[\"tagName\",\"i\"],[\"color\",\"white\"]]}]]},{\"type\":\"map\",\"entries\":[[\"type\",\"info\"],[\"background\",\"#007bff\"],[\"icon\",{\"type\":\"map\",\"entries\":[[\"className\",\"fas fa-info-circle\"],[\"tagName\",\"i\"],[\"color\",\"white\"]]}]]}]}]},{\"type\":\"model\",\"name\":\"Notification\",\"properties\":[{\"name\":\"background\",\"kind\":\"Any\",\"default\":null},{\"name\":\"duration\",\"kind\":\"Any\",\"default\":3000},{\"name\":\"icon\",\"kind\":\"Any\",\"default\":null},{\"name\":\"message\",\"kind\":\"Any\",\"default\":\"\"},{\"name\":\"notification_type\",\"kind\":\"Any\",\"default\":null},{\"name\":\"_rendered\",\"kind\":\"Any\",\"default\":false},{\"name\":\"_destroyed\",\"kind\":\"Any\",\"default\":false}]},{\"type\":\"model\",\"name\":\"TemplateActions1\",\"properties\":[{\"name\":\"open_modal\",\"kind\":\"Any\",\"default\":0},{\"name\":\"close_modal\",\"kind\":\"Any\",\"default\":0}]},{\"type\":\"model\",\"name\":\"BootstrapTemplateActions1\",\"properties\":[{\"name\":\"open_modal\",\"kind\":\"Any\",\"default\":0},{\"name\":\"close_modal\",\"kind\":\"Any\",\"default\":0}]},{\"type\":\"model\",\"name\":\"TemplateEditor1\",\"properties\":[{\"name\":\"layout\",\"kind\":\"Any\",\"default\":[]}]},{\"type\":\"model\",\"name\":\"MaterialTemplateActions1\",\"properties\":[{\"name\":\"open_modal\",\"kind\":\"Any\",\"default\":0},{\"name\":\"close_modal\",\"kind\":\"Any\",\"default\":0}]},{\"type\":\"model\",\"name\":\"ReactiveESM1\",\"properties\":[{\"name\":\"esm_constants\",\"kind\":\"Any\",\"default\":{\"type\":\"map\"}}]},{\"type\":\"model\",\"name\":\"JSComponent1\",\"properties\":[{\"name\":\"esm_constants\",\"kind\":\"Any\",\"default\":{\"type\":\"map\"}}]},{\"type\":\"model\",\"name\":\"ReactComponent1\",\"properties\":[{\"name\":\"esm_constants\",\"kind\":\"Any\",\"default\":{\"type\":\"map\"}}]},{\"type\":\"model\",\"name\":\"AnyWidgetComponent1\",\"properties\":[{\"name\":\"esm_constants\",\"kind\":\"Any\",\"default\":{\"type\":\"map\"}}]},{\"type\":\"model\",\"name\":\"request_value1\",\"properties\":[{\"name\":\"fill\",\"kind\":\"Any\",\"default\":\"none\"},{\"name\":\"_synced\",\"kind\":\"Any\",\"default\":null},{\"name\":\"_request_sync\",\"kind\":\"Any\",\"default\":0}]}]}};\n",
       "  var render_items = [{\"docid\":\"b3757cae-64e9-41d6-a89d-b39a93a71f46\",\"roots\":{\"f915bf50-33c4-459b-8170-7605ca83f11e\":\"d8fc970c-83a2-474e-bd4b-aaf689fa7abf\"},\"root_ids\":[\"f915bf50-33c4-459b-8170-7605ca83f11e\"]}];\n",
       "  var docs = Object.values(docs_json)\n",
       "  if (!docs) {\n",
       "    return\n",
       "  }\n",
       "  const py_version = docs[0].version.replace('rc', '-rc.').replace('.dev', '-dev.')\n",
       "  async function embed_document(root) {\n",
       "    var Bokeh = get_bokeh(root)\n",
       "    await Bokeh.embed.embed_items_notebook(docs_json, render_items);\n",
       "    for (const render_item of render_items) {\n",
       "      for (const root_id of render_item.root_ids) {\n",
       "\tconst id_el = document.getElementById(root_id)\n",
       "\tif (id_el.children.length && id_el.children[0].hasAttribute('data-root-id')) {\n",
       "\t  const root_el = id_el.children[0]\n",
       "\t  root_el.id = root_el.id + '-rendered'\n",
       "\t  for (const child of root_el.children) {\n",
       "            // Ensure JupyterLab does not capture keyboard shortcuts\n",
       "            // see: https://jupyterlab.readthedocs.io/en/4.1.x/extension/notebook.html#keyboard-interaction-model\n",
       "\t    child.setAttribute('data-lm-suppress-shortcuts', 'true')\n",
       "\t  }\n",
       "\t}\n",
       "      }\n",
       "    }\n",
       "  }\n",
       "  function get_bokeh(root) {\n",
       "    if (root.Bokeh === undefined) {\n",
       "      return null\n",
       "    } else if (root.Bokeh.version !== py_version) {\n",
       "      if (root.Bokeh.versions === undefined || !root.Bokeh.versions.has(py_version)) {\n",
       "\treturn null\n",
       "      }\n",
       "      return root.Bokeh.versions.get(py_version);\n",
       "    } else if (root.Bokeh.version === py_version) {\n",
       "      return root.Bokeh\n",
       "    }\n",
       "    return null\n",
       "  }\n",
       "  function is_loaded(root) {\n",
       "    var Bokeh = get_bokeh(root)\n",
       "    return (Bokeh != null && Bokeh.Panel !== undefined)\n",
       "  }\n",
       "  if (is_loaded(root)) {\n",
       "    embed_document(root);\n",
       "  } else {\n",
       "    var attempts = 0;\n",
       "    var timer = setInterval(function(root) {\n",
       "      if (is_loaded(root)) {\n",
       "        clearInterval(timer);\n",
       "        embed_document(root);\n",
       "      } else if (document.readyState == \"complete\") {\n",
       "        attempts++;\n",
       "        if (attempts > 200) {\n",
       "          clearInterval(timer);\n",
       "\t  var Bokeh = get_bokeh(root)\n",
       "\t  if (Bokeh == null || Bokeh.Panel == null) {\n",
       "            console.warn(\"Panel: ERROR: Unable to run Panel code because Bokeh or Panel library is missing\");\n",
       "\t  } else {\n",
       "\t    console.warn(\"Panel: WARNING: Attempting to render but not all required libraries could be resolved.\")\n",
       "\t    embed_document(root)\n",
       "\t  }\n",
       "        }\n",
       "      }\n",
       "    }, 25, root)\n",
       "  }\n",
       "})(window);</script>"
      ],
      "text/plain": [
       ":Overlay\n",
       "   .Bars.I    :Bars   [post_str_b3]   (percent)\n",
       "   .HLine.I   :HLine   [x,y]\n",
       "   .HLine.II  :HLine   [x,y]\n",
       "   .HLine.III :HLine   [x,y]"
      ]
     },
     "metadata": {
      "application/vnd.holoviews_exec.v0+json": {
       "id": "f915bf50-33c4-459b-8170-7605ca83f11e"
      }
     },
     "output_type": "display_data"
    },
    {
     "name": "stdout",
     "output_type": "stream",
     "text": [
      "df_10_last FOR str_b3 = 24\n",
      "Last 3 results last_results=['39', '08', '16']\n"
     ]
    },
    {
     "data": {
      "text/html": [
       "<div><style>\n",
       ".dataframe > thead > tr,\n",
       ".dataframe > tbody > tr {\n",
       "  text-align: right;\n",
       "  white-space: pre-wrap;\n",
       "}\n",
       "</style>\n",
       "<small>shape: (10, 30)</small><table border=\"1\" class=\"dataframe\"><thead><tr><th>fecha</th><th>sorteo</th><th>bolillas</th><th>yapa</th><th>adicionales</th><th>sorteo_extra</th><th>id</th><th>combo</th><th>b1</th><th>b2</th><th>b3</th><th>b4</th><th>b5</th><th>b6</th><th>str_b1</th><th>str_b2</th><th>str_b3</th><th>str_b4</th><th>str_b5</th><th>str_b6</th><th>post_str_b1</th><th>post_str_b2</th><th>post_str_b3</th><th>post_str_b4</th><th>post_str_b5</th><th>post_str_blast</th><th>is_rare_combination</th><th>reason</th><th>jumps_map</th><th>unijump</th></tr><tr><td>str</td><td>str</td><td>str</td><td>str</td><td>str</td><td>str</td><td>str</td><td>array[u8, 6]</td><td>u8</td><td>u8</td><td>u8</td><td>u8</td><td>u8</td><td>u8</td><td>str</td><td>str</td><td>str</td><td>str</td><td>str</td><td>str</td><td>str</td><td>str</td><td>str</td><td>str</td><td>str</td><td>str</td><td>bool</td><td>u8</td><td>str</td><td>i64</td></tr></thead><tbody><tr><td>&quot;21/05/2025&quot;</td><td>&quot;1196&quot;</td><td>&quot;07 36 24 34 45 11&quot;</td><td>&quot;01&quot;</td><td>&quot;33 47&quot;</td><td>&quot;Promoción Sí o Sí&quot;</td><td>&quot;071124343645&quot;</td><td>[7, 11, … 45]</td><td>7</td><td>11</td><td>24</td><td>34</td><td>36</td><td>45</td><td>&quot;07&quot;</td><td>&quot;11&quot;</td><td>&quot;24&quot;</td><td>&quot;34&quot;</td><td>&quot;36&quot;</td><td>&quot;45&quot;</td><td>&quot;01&quot;</td><td>&quot;04&quot;</td><td>&quot;08&quot;</td><td>&quot;09&quot;</td><td>&quot;21&quot;</td><td>&quot;31&quot;</td><td>false</td><td>0</td><td>&quot;04_13_10_02_09&quot;</td><td>13</td></tr><tr><td>&quot;09/04/2025&quot;</td><td>&quot;1184&quot;</td><td>&quot;35 24 49 01 12 39&quot;</td><td>&quot;21&quot;</td><td>&quot;13 07 26&quot;</td><td>&quot;Promoción Sí o Sí&quot;</td><td>&quot;011224353949&quot;</td><td>[1, 12, … 49]</td><td>1</td><td>12</td><td>24</td><td>35</td><td>39</td><td>49</td><td>&quot;01&quot;</td><td>&quot;12&quot;</td><td>&quot;24&quot;</td><td>&quot;35&quot;</td><td>&quot;39&quot;</td><td>&quot;49&quot;</td><td>&quot;22&quot;</td><td>&quot;36&quot;</td><td>&quot;39&quot;</td><td>&quot;44&quot;</td><td>&quot;46&quot;</td><td>&quot;48&quot;</td><td>false</td><td>0</td><td>&quot;11_12_11_04_10&quot;</td><td>23</td></tr><tr><td>&quot;12/02/2025&quot;</td><td>&quot;1168&quot;</td><td>&quot;23 18 32 33 24 44&quot;</td><td>&quot;48&quot;</td><td>&quot;02 27 07&quot;</td><td>&quot;Promoción Sí o Sí&quot;</td><td>&quot;182324323344&quot;</td><td>[18, 23, … 44]</td><td>18</td><td>23</td><td>24</td><td>32</td><td>33</td><td>44</td><td>&quot;18&quot;</td><td>&quot;23&quot;</td><td>&quot;24&quot;</td><td>&quot;32&quot;</td><td>&quot;33&quot;</td><td>&quot;44&quot;</td><td>&quot;06&quot;</td><td>&quot;11&quot;</td><td>&quot;16&quot;</td><td>&quot;22&quot;</td><td>&quot;34&quot;</td><td>&quot;45&quot;</td><td>false</td><td>0</td><td>&quot;05_01_08_01_11&quot;</td><td>56</td></tr><tr><td>&quot;05/02/2025&quot;</td><td>&quot;1166&quot;</td><td>&quot;19 12 27 33 24 30&quot;</td><td>&quot;17&quot;</td><td>&quot;07&quot;</td><td>&quot;Promoción Sí o Sí&quot;</td><td>&quot;121924273033&quot;</td><td>[12, 19, … 33]</td><td>12</td><td>19</td><td>24</td><td>27</td><td>30</td><td>33</td><td>&quot;12&quot;</td><td>&quot;19&quot;</td><td>&quot;24&quot;</td><td>&quot;27&quot;</td><td>&quot;30&quot;</td><td>&quot;33&quot;</td><td>&quot;03&quot;</td><td>&quot;12&quot;</td><td>&quot;33&quot;</td><td>&quot;34&quot;</td><td>&quot;35&quot;</td><td>&quot;46&quot;</td><td>true</td><td>8</td><td>&quot;07_05_03_03_03&quot;</td><td>-4</td></tr><tr><td>&quot;01/01/2025&quot;</td><td>&quot;1156&quot;</td><td>&quot;33 24 09 38 22 46&quot;</td><td>&quot;15&quot;</td><td>&quot;&quot;</td><td>&quot;&quot;</td><td>&quot;092224333846&quot;</td><td>[9, 22, … 46]</td><td>9</td><td>22</td><td>24</td><td>33</td><td>38</td><td>46</td><td>&quot;09&quot;</td><td>&quot;22&quot;</td><td>&quot;24&quot;</td><td>&quot;33&quot;</td><td>&quot;38&quot;</td><td>&quot;46&quot;</td><td>&quot;13&quot;</td><td>&quot;18&quot;</td><td>&quot;22&quot;</td><td>&quot;35&quot;</td><td>&quot;45&quot;</td><td>&quot;49&quot;</td><td>true</td><td>16</td><td>&quot;13_02_09_05_08&quot;</td><td>47</td></tr><tr><td>&quot;27/10/2024&quot;</td><td>&quot;1137&quot;</td><td>&quot;06 27 32 16 24 47&quot;</td><td>&quot;42&quot;</td><td>&quot;33 34&quot;</td><td>&quot;Promoción Sí o Sí&quot;</td><td>&quot;061624273247&quot;</td><td>[6, 16, … 47]</td><td>6</td><td>16</td><td>24</td><td>27</td><td>32</td><td>47</td><td>&quot;06&quot;</td><td>&quot;16&quot;</td><td>&quot;24&quot;</td><td>&quot;27&quot;</td><td>&quot;32&quot;</td><td>&quot;47&quot;</td><td>&quot;07&quot;</td><td>&quot;09&quot;</td><td>&quot;15&quot;</td><td>&quot;18&quot;</td><td>&quot;22&quot;</td><td>&quot;42&quot;</td><td>false</td><td>0</td><td>&quot;10_08_03_05_15&quot;</td><td>-9</td></tr><tr><td>&quot;25/09/2024&quot;</td><td>&quot;1128&quot;</td><td>&quot;39 24 38 50 18 06&quot;</td><td>&quot;15&quot;</td><td>&quot;23 45 49 44&quot;</td><td>&quot;Promoción Sí o Sí&quot;</td><td>&quot;061824383950&quot;</td><td>[6, 18, … 50]</td><td>6</td><td>18</td><td>24</td><td>38</td><td>39</td><td>50</td><td>&quot;06&quot;</td><td>&quot;18&quot;</td><td>&quot;24&quot;</td><td>&quot;38&quot;</td><td>&quot;39&quot;</td><td>&quot;50&quot;</td><td>&quot;12&quot;</td><td>&quot;15&quot;</td><td>&quot;26&quot;</td><td>&quot;35&quot;</td><td>&quot;43&quot;</td><td>&quot;47&quot;</td><td>false</td><td>0</td><td>&quot;12_06_14_01_11&quot;</td><td>79</td></tr><tr><td>&quot;24/04/2024&quot;</td><td>&quot;1084&quot;</td><td>&quot;43 05 24 37 26 04&quot;</td><td>&quot;46&quot;</td><td>&quot;23 15&quot;</td><td>&quot;Promoción Sí o Sí&quot;</td><td>&quot;040524263743&quot;</td><td>[4, 5, … 43]</td><td>4</td><td>5</td><td>24</td><td>26</td><td>37</td><td>43</td><td>&quot;04&quot;</td><td>&quot;05&quot;</td><td>&quot;24&quot;</td><td>&quot;26&quot;</td><td>&quot;37&quot;</td><td>&quot;43&quot;</td><td>&quot;06&quot;</td><td>&quot;22&quot;</td><td>&quot;25&quot;</td><td>&quot;36&quot;</td><td>&quot;41&quot;</td><td>&quot;43&quot;</td><td>true</td><td>16</td><td>&quot;01_19_02_11_06&quot;</td><td>-101</td></tr><tr><td>&quot;18/02/2024&quot;</td><td>&quot;1065&quot;</td><td>&quot;42 24 31 12 35 23&quot;</td><td>&quot;28&quot;</td><td>&quot;37 14 33 07&quot;</td><td>&quot;Promoción Sí o Sí&quot;</td><td>&quot;122324313542&quot;</td><td>[12, 23, … 42]</td><td>12</td><td>23</td><td>24</td><td>31</td><td>35</td><td>42</td><td>&quot;12&quot;</td><td>&quot;23&quot;</td><td>&quot;24&quot;</td><td>&quot;31&quot;</td><td>&quot;35&quot;</td><td>&quot;42&quot;</td><td>&quot;02&quot;</td><td>&quot;08&quot;</td><td>&quot;14&quot;</td><td>&quot;30&quot;</td><td>&quot;35&quot;</td><td>&quot;39&quot;</td><td>false</td><td>0</td><td>&quot;11_01_07_04_07&quot;</td><td>40</td></tr><tr><td>&quot;24/01/2024&quot;</td><td>&quot;1058&quot;</td><td>&quot;04 01 46 24 38 39&quot;</td><td>&quot;25&quot;</td><td>&quot;21&quot;</td><td>&quot;Promoción Sí o Sí&quot;</td><td>&quot;010424383946&quot;</td><td>[1, 4, … 46]</td><td>1</td><td>4</td><td>24</td><td>38</td><td>39</td><td>46</td><td>&quot;01&quot;</td><td>&quot;04&quot;</td><td>&quot;24&quot;</td><td>&quot;38&quot;</td><td>&quot;39&quot;</td><td>&quot;46&quot;</td><td>&quot;03&quot;</td><td>&quot;15&quot;</td><td>&quot;19&quot;</td><td>&quot;21&quot;</td><td>&quot;24&quot;</td><td>&quot;25&quot;</td><td>false</td><td>0</td><td>&quot;03_20_14_01_07&quot;</td><td>10</td></tr></tbody></table></div>"
      ],
      "text/plain": [
       "shape: (10, 30)\n",
       "┌────────────┬────────┬───────────────┬──────┬───┬───────────────┬────────┬──────────────┬─────────┐\n",
       "│ fecha      ┆ sorteo ┆ bolillas      ┆ yapa ┆ … ┆ is_rare_combi ┆ reason ┆ jumps_map    ┆ unijump │\n",
       "│ ---        ┆ ---    ┆ ---           ┆ ---  ┆   ┆ nation        ┆ ---    ┆ ---          ┆ ---     │\n",
       "│ str        ┆ str    ┆ str           ┆ str  ┆   ┆ ---           ┆ u8     ┆ str          ┆ i64     │\n",
       "│            ┆        ┆               ┆      ┆   ┆ bool          ┆        ┆              ┆         │\n",
       "╞════════════╪════════╪═══════════════╪══════╪═══╪═══════════════╪════════╪══════════════╪═════════╡\n",
       "│ 21/05/2025 ┆ 1196   ┆ 07 36 24 34   ┆ 01   ┆ … ┆ false         ┆ 0      ┆ 04_13_10_02_ ┆ 13      │\n",
       "│            ┆        ┆ 45 11         ┆      ┆   ┆               ┆        ┆ 09           ┆         │\n",
       "│ 09/04/2025 ┆ 1184   ┆ 35 24 49 01   ┆ 21   ┆ … ┆ false         ┆ 0      ┆ 11_12_11_04_ ┆ 23      │\n",
       "│            ┆        ┆ 12 39         ┆      ┆   ┆               ┆        ┆ 10           ┆         │\n",
       "│ 12/02/2025 ┆ 1168   ┆ 23 18 32 33   ┆ 48   ┆ … ┆ false         ┆ 0      ┆ 05_01_08_01_ ┆ 56      │\n",
       "│            ┆        ┆ 24 44         ┆      ┆   ┆               ┆        ┆ 11           ┆         │\n",
       "│ 05/02/2025 ┆ 1166   ┆ 19 12 27 33   ┆ 17   ┆ … ┆ true          ┆ 8      ┆ 07_05_03_03_ ┆ -4      │\n",
       "│            ┆        ┆ 24 30         ┆      ┆   ┆               ┆        ┆ 03           ┆         │\n",
       "│ 01/01/2025 ┆ 1156   ┆ 33 24 09 38   ┆ 15   ┆ … ┆ true          ┆ 16     ┆ 13_02_09_05_ ┆ 47      │\n",
       "│            ┆        ┆ 22 46         ┆      ┆   ┆               ┆        ┆ 08           ┆         │\n",
       "│ 27/10/2024 ┆ 1137   ┆ 06 27 32 16   ┆ 42   ┆ … ┆ false         ┆ 0      ┆ 10_08_03_05_ ┆ -9      │\n",
       "│            ┆        ┆ 24 47         ┆      ┆   ┆               ┆        ┆ 15           ┆         │\n",
       "│ 25/09/2024 ┆ 1128   ┆ 39 24 38 50   ┆ 15   ┆ … ┆ false         ┆ 0      ┆ 12_06_14_01_ ┆ 79      │\n",
       "│            ┆        ┆ 18 06         ┆      ┆   ┆               ┆        ┆ 11           ┆         │\n",
       "│ 24/04/2024 ┆ 1084   ┆ 43 05 24 37   ┆ 46   ┆ … ┆ true          ┆ 16     ┆ 01_19_02_11_ ┆ -101    │\n",
       "│            ┆        ┆ 26 04         ┆      ┆   ┆               ┆        ┆ 06           ┆         │\n",
       "│ 18/02/2024 ┆ 1065   ┆ 42 24 31 12   ┆ 28   ┆ … ┆ false         ┆ 0      ┆ 11_01_07_04_ ┆ 40      │\n",
       "│            ┆        ┆ 35 23         ┆      ┆   ┆               ┆        ┆ 07           ┆         │\n",
       "│ 24/01/2024 ┆ 1058   ┆ 04 01 46 24   ┆ 25   ┆ … ┆ false         ┆ 0      ┆ 03_20_14_01_ ┆ 10      │\n",
       "│            ┆        ┆ 38 39         ┆      ┆   ┆               ┆        ┆ 07           ┆         │\n",
       "└────────────┴────────┴───────────────┴──────┴───┴───────────────┴────────┴──────────────┴─────────┘"
      ]
     },
     "metadata": {},
     "output_type": "display_data"
    },
    {
     "name": "stdout",
     "output_type": "stream",
     "text": [
      "df_jumps_map FOR str_b3 = 24\n"
     ]
    },
    {
     "data": {
      "text/html": [
       "<div><style>\n",
       ".dataframe > thead > tr,\n",
       ".dataframe > tbody > tr {\n",
       "  text-align: right;\n",
       "  white-space: pre-wrap;\n",
       "}\n",
       "</style>\n",
       "<small>shape: (105, 2)</small><table border=\"1\" class=\"dataframe\"><thead><tr><th>jumps_map</th><th>count</th></tr><tr><td>str</td><td>u32</td></tr></thead><tbody><tr><td>&quot;10_06_03_05_08&quot;</td><td>1</td></tr><tr><td>&quot;08_08_08_05_03&quot;</td><td>1</td></tr><tr><td>&quot;10_08_03_05_15&quot;</td><td>1</td></tr><tr><td>&quot;09_02_03_04_05&quot;</td><td>1</td></tr><tr><td>&quot;06_10_04_04_01&quot;</td><td>1</td></tr><tr><td>&hellip;</td><td>&hellip;</td></tr><tr><td>&quot;17_06_06_02_05&quot;</td><td>1</td></tr><tr><td>&quot;14_09_12_01_03&quot;</td><td>1</td></tr><tr><td>&quot;03_10_04_03_07&quot;</td><td>1</td></tr><tr><td>&quot;08_11_01_02_04&quot;</td><td>1</td></tr><tr><td>&quot;08_15_06_07_05&quot;</td><td>1</td></tr></tbody></table></div>"
      ],
      "text/plain": [
       "shape: (105, 2)\n",
       "┌────────────────┬───────┐\n",
       "│ jumps_map      ┆ count │\n",
       "│ ---            ┆ ---   │\n",
       "│ str            ┆ u32   │\n",
       "╞════════════════╪═══════╡\n",
       "│ 10_06_03_05_08 ┆ 1     │\n",
       "│ 08_08_08_05_03 ┆ 1     │\n",
       "│ 10_08_03_05_15 ┆ 1     │\n",
       "│ 09_02_03_04_05 ┆ 1     │\n",
       "│ 06_10_04_04_01 ┆ 1     │\n",
       "│ …              ┆ …     │\n",
       "│ 17_06_06_02_05 ┆ 1     │\n",
       "│ 14_09_12_01_03 ┆ 1     │\n",
       "│ 03_10_04_03_07 ┆ 1     │\n",
       "│ 08_11_01_02_04 ┆ 1     │\n",
       "│ 08_15_06_07_05 ┆ 1     │\n",
       "└────────────────┴───────┘"
      ]
     },
     "metadata": {},
     "output_type": "display_data"
    },
    {
     "name": "stdout",
     "output_type": "stream",
     "text": [
      "df_unijump FOR str_b3 = 24\n"
     ]
    },
    {
     "data": {
      "text/html": [
       "<div><style>\n",
       ".dataframe > thead > tr,\n",
       ".dataframe > tbody > tr {\n",
       "  text-align: right;\n",
       "  white-space: pre-wrap;\n",
       "}\n",
       "</style>\n",
       "<small>shape: (78, 2)</small><table border=\"1\" class=\"dataframe\"><thead><tr><th>unijump</th><th>count</th></tr><tr><td>i64</td><td>u32</td></tr></thead><tbody><tr><td>-41</td><td>3</td></tr><tr><td>-30</td><td>3</td></tr><tr><td>-9</td><td>3</td></tr><tr><td>23</td><td>3</td></tr><tr><td>-4</td><td>2</td></tr><tr><td>&hellip;</td><td>&hellip;</td></tr><tr><td>16</td><td>1</td></tr><tr><td>79</td><td>1</td></tr><tr><td>-48</td><td>1</td></tr><tr><td>-25</td><td>1</td></tr><tr><td>41</td><td>1</td></tr></tbody></table></div>"
      ],
      "text/plain": [
       "shape: (78, 2)\n",
       "┌─────────┬───────┐\n",
       "│ unijump ┆ count │\n",
       "│ ---     ┆ ---   │\n",
       "│ i64     ┆ u32   │\n",
       "╞═════════╪═══════╡\n",
       "│ -41     ┆ 3     │\n",
       "│ -30     ┆ 3     │\n",
       "│ -9      ┆ 3     │\n",
       "│ 23      ┆ 3     │\n",
       "│ -4      ┆ 2     │\n",
       "│ …       ┆ …     │\n",
       "│ 16      ┆ 1     │\n",
       "│ 79      ┆ 1     │\n",
       "│ -48     ┆ 1     │\n",
       "│ -25     ┆ 1     │\n",
       "│ 41      ┆ 1     │\n",
       "└─────────┴───────┘"
      ]
     },
     "metadata": {},
     "output_type": "display_data"
    }
   ],
   "source": [
    "possible_b3, exclude_jump_maps_b3, last_post_b3 = plot_post_col(col='str_b3', post_col='post_str_b3')"
   ]
  },
  {
   "cell_type": "code",
   "execution_count": 12,
   "metadata": {},
   "outputs": [
    {
     "name": "stdout",
     "output_type": "stream",
     "text": [
      "Setting test_value='32'\n",
      "df_viz FOR str_b4 = 32\n"
     ]
    },
    {
     "data": {
      "text/html": [
       "<div><style>\n",
       ".dataframe > thead > tr,\n",
       ".dataframe > tbody > tr {\n",
       "  text-align: right;\n",
       "  white-space: pre-wrap;\n",
       "}\n",
       "</style>\n",
       "<small>shape: (30, 3)</small><table border=\"1\" class=\"dataframe\"><thead><tr><th>post_str_b4</th><th>count</th><th>percent</th></tr><tr><td>str</td><td>u32</td><td>f64</td></tr></thead><tbody><tr><td>&quot;26&quot;</td><td>7</td><td>6.930693</td></tr><tr><td>&quot;22&quot;</td><td>7</td><td>6.930693</td></tr><tr><td>&quot;36&quot;</td><td>6</td><td>5.940594</td></tr><tr><td>&quot;30&quot;</td><td>6</td><td>5.940594</td></tr><tr><td>&quot;16&quot;</td><td>6</td><td>5.940594</td></tr><tr><td>&hellip;</td><td>&hellip;</td><td>&hellip;</td></tr><tr><td>&quot;35&quot;</td><td>1</td><td>0.990099</td></tr><tr><td>&quot;18&quot;</td><td>1</td><td>0.990099</td></tr><tr><td>&quot;28&quot;</td><td>1</td><td>0.990099</td></tr><tr><td>&quot;12&quot;</td><td>1</td><td>0.990099</td></tr><tr><td>&quot;11&quot;</td><td>1</td><td>0.990099</td></tr></tbody></table></div>"
      ],
      "text/plain": [
       "shape: (30, 3)\n",
       "┌─────────────┬───────┬──────────┐\n",
       "│ post_str_b4 ┆ count ┆ percent  │\n",
       "│ ---         ┆ ---   ┆ ---      │\n",
       "│ str         ┆ u32   ┆ f64      │\n",
       "╞═════════════╪═══════╪══════════╡\n",
       "│ 26          ┆ 7     ┆ 6.930693 │\n",
       "│ 22          ┆ 7     ┆ 6.930693 │\n",
       "│ 36          ┆ 6     ┆ 5.940594 │\n",
       "│ 30          ┆ 6     ┆ 5.940594 │\n",
       "│ 16          ┆ 6     ┆ 5.940594 │\n",
       "│ …           ┆ …     ┆ …        │\n",
       "│ 35          ┆ 1     ┆ 0.990099 │\n",
       "│ 18          ┆ 1     ┆ 0.990099 │\n",
       "│ 28          ┆ 1     ┆ 0.990099 │\n",
       "│ 12          ┆ 1     ┆ 0.990099 │\n",
       "│ 11          ┆ 1     ┆ 0.990099 │\n",
       "└─────────────┴───────┴──────────┘"
      ]
     },
     "metadata": {},
     "output_type": "display_data"
    },
    {
     "data": {},
     "metadata": {},
     "output_type": "display_data"
    },
    {
     "data": {
      "application/vnd.holoviews_exec.v0+json": "",
      "text/html": [
       "<div id='bc100b4a-b128-4cd1-81ea-34d98643ca6c'>\n",
       "  <div id=\"ce2a8bc0-fefb-4dc1-a4ba-3e57f9a7611b\" data-root-id=\"bc100b4a-b128-4cd1-81ea-34d98643ca6c\" style=\"display: contents;\"></div>\n",
       "</div>\n",
       "<script type=\"application/javascript\">(function(root) {\n",
       "  var docs_json = {\"62ad9cb2-e6e7-4c10-b14d-1550e5ef4a9b\":{\"version\":\"3.7.2\",\"title\":\"Bokeh Application\",\"roots\":[{\"type\":\"object\",\"name\":\"Row\",\"id\":\"bc100b4a-b128-4cd1-81ea-34d98643ca6c\",\"attributes\":{\"name\":\"Row00499\",\"tags\":[\"embedded\"],\"stylesheets\":[\"\\n:host(.pn-loading):before, .pn-loading:before {\\n  background-color: #c3c3c3;\\n  mask-size: auto calc(min(50%, 400px));\\n  -webkit-mask-size: auto calc(min(50%, 400px));\\n}\",{\"type\":\"object\",\"name\":\"ImportedStyleSheet\",\"id\":\"e94c6ac7-9e7e-4bdf-8fea-df04f78cf4e6\",\"attributes\":{\"url\":\"https://cdn.holoviz.org/panel/1.6.2/dist/css/loading.css\"}},{\"type\":\"object\",\"name\":\"ImportedStyleSheet\",\"id\":\"47b2c80c-674c-463e-baf8-859ef7e1bc4d\",\"attributes\":{\"url\":\"https://cdn.holoviz.org/panel/1.6.2/dist/css/listpanel.css\"}},{\"type\":\"object\",\"name\":\"ImportedStyleSheet\",\"id\":\"9210f15d-4b91-4bf2-9806-0d3785a88fbe\",\"attributes\":{\"url\":\"https://cdn.holoviz.org/panel/1.6.2/dist/bundled/theme/default.css\"}},{\"type\":\"object\",\"name\":\"ImportedStyleSheet\",\"id\":\"ddf422de-ecd1-4164-938d-3a588390d0b3\",\"attributes\":{\"url\":\"https://cdn.holoviz.org/panel/1.6.2/dist/bundled/theme/native.css\"}}],\"min_width\":700,\"margin\":0,\"sizing_mode\":\"stretch_width\",\"align\":\"start\",\"children\":[{\"type\":\"object\",\"name\":\"Spacer\",\"id\":\"92b3f69c-ebf9-44a3-a809-d018439b653b\",\"attributes\":{\"name\":\"HSpacer00503\",\"stylesheets\":[\"\\n:host(.pn-loading):before, .pn-loading:before {\\n  background-color: #c3c3c3;\\n  mask-size: auto calc(min(50%, 400px));\\n  -webkit-mask-size: auto calc(min(50%, 400px));\\n}\",{\"id\":\"e94c6ac7-9e7e-4bdf-8fea-df04f78cf4e6\"},{\"id\":\"9210f15d-4b91-4bf2-9806-0d3785a88fbe\"},{\"id\":\"ddf422de-ecd1-4164-938d-3a588390d0b3\"}],\"margin\":0,\"sizing_mode\":\"stretch_width\",\"align\":\"start\"}},{\"type\":\"object\",\"name\":\"Figure\",\"id\":\"3858af37-a2ff-4c3a-95ed-8fa026c20290\",\"attributes\":{\"width\":700,\"height\":300,\"margin\":[5,10],\"sizing_mode\":\"fixed\",\"align\":\"start\",\"x_range\":{\"type\":\"object\",\"name\":\"FactorRange\",\"id\":\"9d9be43e-f9b9-4447-9080-812b95351943\",\"attributes\":{\"name\":\"post_str_b4\",\"tags\":[[[\"post_str_b4\",null]],[]],\"factors\":[\"26\",\"22\",\"36\",\"30\",\"16\",\"15\",\"37\",\"31\",\"32\",\"14\",\"17\",\"27\",\"24\",\"33\",\"23\",\"38\",\"29\",\"34\",\"21\",\"25\",\"43\",\"39\",\"19\",\"10\",\"13\",\"35\",\"18\",\"28\",\"12\",\"11\"]}},\"y_range\":{\"type\":\"object\",\"name\":\"Range1d\",\"id\":\"9ffec6e6-519c-4c94-9a66-1b1520ada813\",\"attributes\":{\"name\":\"percent\",\"tags\":[[[\"percent\",null]],{\"type\":\"map\",\"entries\":[[\"invert_yaxis\",false],[\"autorange\",false]]}],\"end\":7.524752475247526,\"reset_start\":0.0,\"reset_end\":7.524752475247526}},\"x_scale\":{\"type\":\"object\",\"name\":\"CategoricalScale\",\"id\":\"06ac1b7a-9927-47e9-a30e-65f4718b6c6a\"},\"y_scale\":{\"type\":\"object\",\"name\":\"LinearScale\",\"id\":\"3fc3d4cf-552b-484a-b7b0-b1fd43a43e81\"},\"title\":{\"type\":\"object\",\"name\":\"Title\",\"id\":\"df28e46b-d226-452d-b5bd-6fc1ed7afdca\",\"attributes\":{\"text_color\":\"black\",\"text_font_size\":\"12pt\"}},\"renderers\":[{\"type\":\"object\",\"name\":\"GlyphRenderer\",\"id\":\"8d6b93f3-a1d1-495f-9268-f6de9baa30ee\",\"attributes\":{\"data_source\":{\"type\":\"object\",\"name\":\"ColumnDataSource\",\"id\":\"1eb2c4c4-f5fd-491f-bb11-0ae5194f3af8\",\"attributes\":{\"selected\":{\"type\":\"object\",\"name\":\"Selection\",\"id\":\"80149980-840e-45cf-a26a-66094a4c653c\",\"attributes\":{\"indices\":[],\"line_indices\":[]}},\"selection_policy\":{\"type\":\"object\",\"name\":\"UnionRenderers\",\"id\":\"1c0ee19b-d416-48ac-8663-3bd0dfb5f3da\"},\"data\":{\"type\":\"map\",\"entries\":[[\"post_str_b4\",[\"26\",\"22\",\"36\",\"30\",\"16\",\"15\",\"37\",\"31\",\"32\",\"14\",\"17\",\"27\",\"24\",\"33\",\"23\",\"38\",\"29\",\"34\",\"21\",\"25\",\"43\",\"39\",\"19\",\"10\",\"13\",\"35\",\"18\",\"28\",\"12\",\"11\"]],[\"percent\",{\"type\":\"ndarray\",\"array\":{\"type\":\"bytes\",\"data\":\"Biadmge5G0AGJp2aB7kbQHLXzxYrwxdActfPFivDF0By188WK8MXQN+IApNOzRNA34gCk07NE0CYdGoe5K4PQJh0ah7krg9AmHRqHuSuD0CYdGoe5K4PQJh0ah7krg9AmHRqHuSuD0CYdGoe5K4PQHLXzxYrwwdActfPFivDB0By188WK8MHQHLXzxYrwwdActfPFivDB0By188WK8MHQJh0ah7krv8/mHRqHuSu/z+YdGoe5K7/P5h0ah7kru8/mHRqHuSu7z+YdGoe5K7vP5h0ah7kru8/mHRqHuSu7z+YdGoe5K7vP5h0ah7kru8/\"},\"shape\":[30],\"dtype\":\"float64\",\"order\":\"little\"}]]}}},\"view\":{\"type\":\"object\",\"name\":\"CDSView\",\"id\":\"590dcc44-7256-4bb0-9c5b-ca80a8248aa9\",\"attributes\":{\"filter\":{\"type\":\"object\",\"name\":\"AllIndices\",\"id\":\"7b79e732-a0e0-49d7-8e53-8bec3cb66f17\"}}},\"glyph\":{\"type\":\"object\",\"name\":\"VBar\",\"id\":\"e07b537e-fa3b-4cee-bbd0-6e797eb04e31\",\"attributes\":{\"tags\":[\"apply_ranges\"],\"x\":{\"type\":\"field\",\"field\":\"post_str_b4\"},\"width\":{\"type\":\"value\",\"value\":0.8},\"top\":{\"type\":\"field\",\"field\":\"percent\"},\"fill_color\":{\"type\":\"value\",\"value\":\"#30a2da\"},\"hatch_color\":{\"type\":\"value\",\"value\":\"#30a2da\"}}},\"selection_glyph\":{\"type\":\"object\",\"name\":\"VBar\",\"id\":\"bce692b0-e3e3-4241-b605-52306f14bee3\",\"attributes\":{\"tags\":[\"apply_ranges\"],\"x\":{\"type\":\"field\",\"field\":\"post_str_b4\"},\"width\":{\"type\":\"value\",\"value\":0.8},\"bottom\":{\"type\":\"value\",\"value\":0},\"top\":{\"type\":\"field\",\"field\":\"percent\"},\"line_color\":{\"type\":\"value\",\"value\":\"black\"},\"line_alpha\":{\"type\":\"value\",\"value\":1.0},\"line_width\":{\"type\":\"value\",\"value\":1},\"line_join\":{\"type\":\"value\",\"value\":\"bevel\"},\"line_cap\":{\"type\":\"value\",\"value\":\"butt\"},\"line_dash\":{\"type\":\"value\",\"value\":[]},\"line_dash_offset\":{\"type\":\"value\",\"value\":0},\"fill_color\":{\"type\":\"value\",\"value\":\"#30a2da\"},\"fill_alpha\":{\"type\":\"value\",\"value\":1.0},\"hatch_color\":{\"type\":\"value\",\"value\":\"#30a2da\"},\"hatch_alpha\":{\"type\":\"value\",\"value\":1.0},\"hatch_scale\":{\"type\":\"value\",\"value\":12.0},\"hatch_pattern\":{\"type\":\"value\",\"value\":null},\"hatch_weight\":{\"type\":\"value\",\"value\":1.0}}},\"nonselection_glyph\":{\"type\":\"object\",\"name\":\"VBar\",\"id\":\"1e28a8a4-932d-48c3-96c6-d487522bfd88\",\"attributes\":{\"tags\":[\"apply_ranges\"],\"x\":{\"type\":\"field\",\"field\":\"post_str_b4\"},\"width\":{\"type\":\"value\",\"value\":0.8},\"top\":{\"type\":\"field\",\"field\":\"percent\"},\"line_alpha\":{\"type\":\"value\",\"value\":0.1},\"fill_color\":{\"type\":\"value\",\"value\":\"#30a2da\"},\"fill_alpha\":{\"type\":\"value\",\"value\":0.1},\"hatch_color\":{\"type\":\"value\",\"value\":\"#30a2da\"},\"hatch_alpha\":{\"type\":\"value\",\"value\":0.1}}},\"muted_glyph\":{\"type\":\"object\",\"name\":\"VBar\",\"id\":\"f5b3c13e-7b17-4484-b1a5-ce0d41c3882a\",\"attributes\":{\"tags\":[\"apply_ranges\"],\"x\":{\"type\":\"field\",\"field\":\"post_str_b4\"},\"width\":{\"type\":\"value\",\"value\":0.8},\"top\":{\"type\":\"field\",\"field\":\"percent\"},\"line_alpha\":{\"type\":\"value\",\"value\":0.2},\"fill_color\":{\"type\":\"value\",\"value\":\"#30a2da\"},\"fill_alpha\":{\"type\":\"value\",\"value\":0.2},\"hatch_color\":{\"type\":\"value\",\"value\":\"#30a2da\"},\"hatch_alpha\":{\"type\":\"value\",\"value\":0.2}}}}},{\"type\":\"object\",\"name\":\"Span\",\"id\":\"bb37f577-1b56-4862-926f-61138f640c99\",\"attributes\":{\"level\":\"glyph\",\"location\":3.3333333333333344,\"line_color\":\"red\",\"line_width\":3}},{\"type\":\"object\",\"name\":\"Span\",\"id\":\"40700228-db8f-4961-8c4d-aa9bfff8ae22\",\"attributes\":{\"level\":\"glyph\",\"location\":5.000000000000002,\"line_color\":\"blue\",\"line_width\":3}},{\"type\":\"object\",\"name\":\"Span\",\"id\":\"3ba7e2a1-9152-4ca7-911c-a341bdae443b\",\"attributes\":{\"level\":\"glyph\",\"location\":1.6666666666666672,\"line_color\":\"blue\",\"line_width\":3}}],\"toolbar\":{\"type\":\"object\",\"name\":\"Toolbar\",\"id\":\"8c852002-6347-44c7-9efc-9c10658b108c\",\"attributes\":{\"tools\":[{\"type\":\"object\",\"name\":\"WheelZoomTool\",\"id\":\"bc24cf3d-5b38-490d-8e93-a9026973f0e6\",\"attributes\":{\"tags\":[\"hv_created\"],\"renderers\":\"auto\",\"zoom_together\":\"none\"}},{\"type\":\"object\",\"name\":\"HoverTool\",\"id\":\"6cf6b4ca-1453-4395-be28-df910b3764b5\",\"attributes\":{\"tags\":[\"hv_created\"],\"renderers\":[{\"id\":\"8d6b93f3-a1d1-495f-9268-f6de9baa30ee\"}],\"tooltips\":[[\"post_str_b4\",\"@{post_str_b4}\"],[\"percent\",\"@{percent}\"]]}},{\"type\":\"object\",\"name\":\"SaveTool\",\"id\":\"d8f0b8e4-2756-4835-ac89-0ad4e1678afe\"},{\"type\":\"object\",\"name\":\"PanTool\",\"id\":\"87d66b46-7858-4046-9e54-bb4725273169\"},{\"type\":\"object\",\"name\":\"BoxZoomTool\",\"id\":\"f99f280a-c614-4476-b18e-a40780054974\",\"attributes\":{\"dimensions\":\"both\",\"overlay\":{\"type\":\"object\",\"name\":\"BoxAnnotation\",\"id\":\"b4d88370-b944-4a79-b707-51e7f8c7d287\",\"attributes\":{\"syncable\":false,\"line_color\":\"black\",\"line_alpha\":1.0,\"line_width\":2,\"line_dash\":[4,4],\"fill_color\":\"lightgrey\",\"fill_alpha\":0.5,\"level\":\"overlay\",\"visible\":false,\"left\":{\"type\":\"number\",\"value\":\"nan\"},\"right\":{\"type\":\"number\",\"value\":\"nan\"},\"top\":{\"type\":\"number\",\"value\":\"nan\"},\"bottom\":{\"type\":\"number\",\"value\":\"nan\"},\"left_units\":\"canvas\",\"right_units\":\"canvas\",\"top_units\":\"canvas\",\"bottom_units\":\"canvas\",\"handles\":{\"type\":\"object\",\"name\":\"BoxInteractionHandles\",\"id\":\"82135507-25dc-43b7-8ce7-d99e0f42630c\",\"attributes\":{\"all\":{\"type\":\"object\",\"name\":\"AreaVisuals\",\"id\":\"23acc98e-bc4a-4108-87fe-392ecf8949d4\",\"attributes\":{\"fill_color\":\"white\",\"hover_fill_color\":\"lightgray\"}}}}}}}},{\"type\":\"object\",\"name\":\"ResetTool\",\"id\":\"73f5879f-eb2a-4fca-9bc2-9659f46b3ddc\"}],\"active_drag\":{\"id\":\"87d66b46-7858-4046-9e54-bb4725273169\"}}},\"left\":[{\"type\":\"object\",\"name\":\"LinearAxis\",\"id\":\"e2db556b-5a19-447b-8f56-c34c644c5a82\",\"attributes\":{\"ticker\":{\"type\":\"object\",\"name\":\"BasicTicker\",\"id\":\"bd5a86d1-c438-48b7-8772-6705e1ed8669\",\"attributes\":{\"mantissas\":[1,2,5]}},\"formatter\":{\"type\":\"object\",\"name\":\"BasicTickFormatter\",\"id\":\"06aab20e-2bb7-46fc-ab93-ed48aa3a61cf\"},\"axis_label\":\"percent\",\"major_label_policy\":{\"type\":\"object\",\"name\":\"AllLabels\",\"id\":\"452f3ae8-952b-4327-8570-d457ada008db\"}}}],\"below\":[{\"type\":\"object\",\"name\":\"CategoricalAxis\",\"id\":\"05200590-194a-48f2-bb88-481cb9e51d87\",\"attributes\":{\"ticker\":{\"type\":\"object\",\"name\":\"CategoricalTicker\",\"id\":\"fd05cd0f-b80e-4741-af90-28505863a282\"},\"formatter\":{\"type\":\"object\",\"name\":\"CategoricalTickFormatter\",\"id\":\"e731bbaf-094a-4abb-8472-77aaee8e7f46\"},\"axis_label\":\"post_str_b4\",\"major_label_policy\":{\"type\":\"object\",\"name\":\"AllLabels\",\"id\":\"91ea62af-ab72-42fe-a2b1-b67047ac40cf\"}}}],\"center\":[{\"type\":\"object\",\"name\":\"Grid\",\"id\":\"f32010b4-3fdd-4530-abfa-38e31eb1eb5a\",\"attributes\":{\"axis\":{\"id\":\"05200590-194a-48f2-bb88-481cb9e51d87\"},\"grid_line_color\":null}},{\"type\":\"object\",\"name\":\"Grid\",\"id\":\"aa505162-ed30-4639-9fd0-e7fddbe1198a\",\"attributes\":{\"dimension\":1,\"axis\":{\"id\":\"e2db556b-5a19-447b-8f56-c34c644c5a82\"},\"grid_line_color\":null}}],\"min_border_top\":10,\"min_border_bottom\":10,\"min_border_left\":10,\"min_border_right\":10,\"output_backend\":\"webgl\"}},{\"type\":\"object\",\"name\":\"Spacer\",\"id\":\"bbe7d438-6163-406c-ae85-1933d3455ab1\",\"attributes\":{\"name\":\"HSpacer00504\",\"stylesheets\":[\"\\n:host(.pn-loading):before, .pn-loading:before {\\n  background-color: #c3c3c3;\\n  mask-size: auto calc(min(50%, 400px));\\n  -webkit-mask-size: auto calc(min(50%, 400px));\\n}\",{\"id\":\"e94c6ac7-9e7e-4bdf-8fea-df04f78cf4e6\"},{\"id\":\"9210f15d-4b91-4bf2-9806-0d3785a88fbe\"},{\"id\":\"ddf422de-ecd1-4164-938d-3a588390d0b3\"}],\"margin\":0,\"sizing_mode\":\"stretch_width\",\"align\":\"start\"}}]}}],\"defs\":[{\"type\":\"model\",\"name\":\"ReactiveHTML1\"},{\"type\":\"model\",\"name\":\"FlexBox1\",\"properties\":[{\"name\":\"align_content\",\"kind\":\"Any\",\"default\":\"flex-start\"},{\"name\":\"align_items\",\"kind\":\"Any\",\"default\":\"flex-start\"},{\"name\":\"flex_direction\",\"kind\":\"Any\",\"default\":\"row\"},{\"name\":\"flex_wrap\",\"kind\":\"Any\",\"default\":\"wrap\"},{\"name\":\"gap\",\"kind\":\"Any\",\"default\":\"\"},{\"name\":\"justify_content\",\"kind\":\"Any\",\"default\":\"flex-start\"}]},{\"type\":\"model\",\"name\":\"FloatPanel1\",\"properties\":[{\"name\":\"config\",\"kind\":\"Any\",\"default\":{\"type\":\"map\"}},{\"name\":\"contained\",\"kind\":\"Any\",\"default\":true},{\"name\":\"position\",\"kind\":\"Any\",\"default\":\"right-top\"},{\"name\":\"offsetx\",\"kind\":\"Any\",\"default\":null},{\"name\":\"offsety\",\"kind\":\"Any\",\"default\":null},{\"name\":\"theme\",\"kind\":\"Any\",\"default\":\"primary\"},{\"name\":\"status\",\"kind\":\"Any\",\"default\":\"normalized\"}]},{\"type\":\"model\",\"name\":\"GridStack1\",\"properties\":[{\"name\":\"ncols\",\"kind\":\"Any\",\"default\":null},{\"name\":\"nrows\",\"kind\":\"Any\",\"default\":null},{\"name\":\"allow_resize\",\"kind\":\"Any\",\"default\":true},{\"name\":\"allow_drag\",\"kind\":\"Any\",\"default\":true},{\"name\":\"state\",\"kind\":\"Any\",\"default\":[]}]},{\"type\":\"model\",\"name\":\"drag1\",\"properties\":[{\"name\":\"slider_width\",\"kind\":\"Any\",\"default\":5},{\"name\":\"slider_color\",\"kind\":\"Any\",\"default\":\"black\"},{\"name\":\"value\",\"kind\":\"Any\",\"default\":50}]},{\"type\":\"model\",\"name\":\"click1\",\"properties\":[{\"name\":\"terminal_output\",\"kind\":\"Any\",\"default\":\"\"},{\"name\":\"debug_name\",\"kind\":\"Any\",\"default\":\"\"},{\"name\":\"clears\",\"kind\":\"Any\",\"default\":0}]},{\"type\":\"model\",\"name\":\"FastWrapper1\",\"properties\":[{\"name\":\"object\",\"kind\":\"Any\",\"default\":null},{\"name\":\"style\",\"kind\":\"Any\",\"default\":null}]},{\"type\":\"model\",\"name\":\"NotificationArea1\",\"properties\":[{\"name\":\"js_events\",\"kind\":\"Any\",\"default\":{\"type\":\"map\"}},{\"name\":\"max_notifications\",\"kind\":\"Any\",\"default\":5},{\"name\":\"notifications\",\"kind\":\"Any\",\"default\":[]},{\"name\":\"position\",\"kind\":\"Any\",\"default\":\"bottom-right\"},{\"name\":\"_clear\",\"kind\":\"Any\",\"default\":0},{\"name\":\"types\",\"kind\":\"Any\",\"default\":[{\"type\":\"map\",\"entries\":[[\"type\",\"warning\"],[\"background\",\"#ffc107\"],[\"icon\",{\"type\":\"map\",\"entries\":[[\"className\",\"fas fa-exclamation-triangle\"],[\"tagName\",\"i\"],[\"color\",\"white\"]]}]]},{\"type\":\"map\",\"entries\":[[\"type\",\"info\"],[\"background\",\"#007bff\"],[\"icon\",{\"type\":\"map\",\"entries\":[[\"className\",\"fas fa-info-circle\"],[\"tagName\",\"i\"],[\"color\",\"white\"]]}]]}]}]},{\"type\":\"model\",\"name\":\"Notification\",\"properties\":[{\"name\":\"background\",\"kind\":\"Any\",\"default\":null},{\"name\":\"duration\",\"kind\":\"Any\",\"default\":3000},{\"name\":\"icon\",\"kind\":\"Any\",\"default\":null},{\"name\":\"message\",\"kind\":\"Any\",\"default\":\"\"},{\"name\":\"notification_type\",\"kind\":\"Any\",\"default\":null},{\"name\":\"_rendered\",\"kind\":\"Any\",\"default\":false},{\"name\":\"_destroyed\",\"kind\":\"Any\",\"default\":false}]},{\"type\":\"model\",\"name\":\"TemplateActions1\",\"properties\":[{\"name\":\"open_modal\",\"kind\":\"Any\",\"default\":0},{\"name\":\"close_modal\",\"kind\":\"Any\",\"default\":0}]},{\"type\":\"model\",\"name\":\"BootstrapTemplateActions1\",\"properties\":[{\"name\":\"open_modal\",\"kind\":\"Any\",\"default\":0},{\"name\":\"close_modal\",\"kind\":\"Any\",\"default\":0}]},{\"type\":\"model\",\"name\":\"TemplateEditor1\",\"properties\":[{\"name\":\"layout\",\"kind\":\"Any\",\"default\":[]}]},{\"type\":\"model\",\"name\":\"MaterialTemplateActions1\",\"properties\":[{\"name\":\"open_modal\",\"kind\":\"Any\",\"default\":0},{\"name\":\"close_modal\",\"kind\":\"Any\",\"default\":0}]},{\"type\":\"model\",\"name\":\"ReactiveESM1\",\"properties\":[{\"name\":\"esm_constants\",\"kind\":\"Any\",\"default\":{\"type\":\"map\"}}]},{\"type\":\"model\",\"name\":\"JSComponent1\",\"properties\":[{\"name\":\"esm_constants\",\"kind\":\"Any\",\"default\":{\"type\":\"map\"}}]},{\"type\":\"model\",\"name\":\"ReactComponent1\",\"properties\":[{\"name\":\"esm_constants\",\"kind\":\"Any\",\"default\":{\"type\":\"map\"}}]},{\"type\":\"model\",\"name\":\"AnyWidgetComponent1\",\"properties\":[{\"name\":\"esm_constants\",\"kind\":\"Any\",\"default\":{\"type\":\"map\"}}]},{\"type\":\"model\",\"name\":\"request_value1\",\"properties\":[{\"name\":\"fill\",\"kind\":\"Any\",\"default\":\"none\"},{\"name\":\"_synced\",\"kind\":\"Any\",\"default\":null},{\"name\":\"_request_sync\",\"kind\":\"Any\",\"default\":0}]}]}};\n",
       "  var render_items = [{\"docid\":\"62ad9cb2-e6e7-4c10-b14d-1550e5ef4a9b\",\"roots\":{\"bc100b4a-b128-4cd1-81ea-34d98643ca6c\":\"ce2a8bc0-fefb-4dc1-a4ba-3e57f9a7611b\"},\"root_ids\":[\"bc100b4a-b128-4cd1-81ea-34d98643ca6c\"]}];\n",
       "  var docs = Object.values(docs_json)\n",
       "  if (!docs) {\n",
       "    return\n",
       "  }\n",
       "  const py_version = docs[0].version.replace('rc', '-rc.').replace('.dev', '-dev.')\n",
       "  async function embed_document(root) {\n",
       "    var Bokeh = get_bokeh(root)\n",
       "    await Bokeh.embed.embed_items_notebook(docs_json, render_items);\n",
       "    for (const render_item of render_items) {\n",
       "      for (const root_id of render_item.root_ids) {\n",
       "\tconst id_el = document.getElementById(root_id)\n",
       "\tif (id_el.children.length && id_el.children[0].hasAttribute('data-root-id')) {\n",
       "\t  const root_el = id_el.children[0]\n",
       "\t  root_el.id = root_el.id + '-rendered'\n",
       "\t  for (const child of root_el.children) {\n",
       "            // Ensure JupyterLab does not capture keyboard shortcuts\n",
       "            // see: https://jupyterlab.readthedocs.io/en/4.1.x/extension/notebook.html#keyboard-interaction-model\n",
       "\t    child.setAttribute('data-lm-suppress-shortcuts', 'true')\n",
       "\t  }\n",
       "\t}\n",
       "      }\n",
       "    }\n",
       "  }\n",
       "  function get_bokeh(root) {\n",
       "    if (root.Bokeh === undefined) {\n",
       "      return null\n",
       "    } else if (root.Bokeh.version !== py_version) {\n",
       "      if (root.Bokeh.versions === undefined || !root.Bokeh.versions.has(py_version)) {\n",
       "\treturn null\n",
       "      }\n",
       "      return root.Bokeh.versions.get(py_version);\n",
       "    } else if (root.Bokeh.version === py_version) {\n",
       "      return root.Bokeh\n",
       "    }\n",
       "    return null\n",
       "  }\n",
       "  function is_loaded(root) {\n",
       "    var Bokeh = get_bokeh(root)\n",
       "    return (Bokeh != null && Bokeh.Panel !== undefined)\n",
       "  }\n",
       "  if (is_loaded(root)) {\n",
       "    embed_document(root);\n",
       "  } else {\n",
       "    var attempts = 0;\n",
       "    var timer = setInterval(function(root) {\n",
       "      if (is_loaded(root)) {\n",
       "        clearInterval(timer);\n",
       "        embed_document(root);\n",
       "      } else if (document.readyState == \"complete\") {\n",
       "        attempts++;\n",
       "        if (attempts > 200) {\n",
       "          clearInterval(timer);\n",
       "\t  var Bokeh = get_bokeh(root)\n",
       "\t  if (Bokeh == null || Bokeh.Panel == null) {\n",
       "            console.warn(\"Panel: ERROR: Unable to run Panel code because Bokeh or Panel library is missing\");\n",
       "\t  } else {\n",
       "\t    console.warn(\"Panel: WARNING: Attempting to render but not all required libraries could be resolved.\")\n",
       "\t    embed_document(root)\n",
       "\t  }\n",
       "        }\n",
       "      }\n",
       "    }, 25, root)\n",
       "  }\n",
       "})(window);</script>"
      ],
      "text/plain": [
       ":Overlay\n",
       "   .Bars.I    :Bars   [post_str_b4]   (percent)\n",
       "   .HLine.I   :HLine   [x,y]\n",
       "   .HLine.II  :HLine   [x,y]\n",
       "   .HLine.III :HLine   [x,y]"
      ]
     },
     "metadata": {
      "application/vnd.holoviews_exec.v0+json": {
       "id": "bc100b4a-b128-4cd1-81ea-34d98643ca6c"
      }
     },
     "output_type": "display_data"
    },
    {
     "name": "stdout",
     "output_type": "stream",
     "text": [
      "df_10_last FOR str_b4 = 32\n",
      "Last 3 results last_results=['37', '27', '22']\n"
     ]
    },
    {
     "data": {
      "text/html": [
       "<div><style>\n",
       ".dataframe > thead > tr,\n",
       ".dataframe > tbody > tr {\n",
       "  text-align: right;\n",
       "  white-space: pre-wrap;\n",
       "}\n",
       "</style>\n",
       "<small>shape: (10, 30)</small><table border=\"1\" class=\"dataframe\"><thead><tr><th>fecha</th><th>sorteo</th><th>bolillas</th><th>yapa</th><th>adicionales</th><th>sorteo_extra</th><th>id</th><th>combo</th><th>b1</th><th>b2</th><th>b3</th><th>b4</th><th>b5</th><th>b6</th><th>str_b1</th><th>str_b2</th><th>str_b3</th><th>str_b4</th><th>str_b5</th><th>str_b6</th><th>post_str_b1</th><th>post_str_b2</th><th>post_str_b3</th><th>post_str_b4</th><th>post_str_b5</th><th>post_str_blast</th><th>is_rare_combination</th><th>reason</th><th>jumps_map</th><th>unijump</th></tr><tr><td>str</td><td>str</td><td>str</td><td>str</td><td>str</td><td>str</td><td>str</td><td>array[u8, 6]</td><td>u8</td><td>u8</td><td>u8</td><td>u8</td><td>u8</td><td>u8</td><td>str</td><td>str</td><td>str</td><td>str</td><td>str</td><td>str</td><td>str</td><td>str</td><td>str</td><td>str</td><td>str</td><td>str</td><td>bool</td><td>u8</td><td>str</td><td>i64</td></tr></thead><tbody><tr><td>&quot;12/03/2025&quot;</td><td>&quot;1176&quot;</td><td>&quot;44 34 07 17 16 32&quot;</td><td>&quot;11&quot;</td><td>&quot;47 40&quot;</td><td>&quot;Promoción Sí o Sí&quot;</td><td>&quot;071617323444&quot;</td><td>[7, 16, … 44]</td><td>7</td><td>16</td><td>17</td><td>32</td><td>34</td><td>44</td><td>&quot;07&quot;</td><td>&quot;16&quot;</td><td>&quot;17&quot;</td><td>&quot;32&quot;</td><td>&quot;34&quot;</td><td>&quot;44&quot;</td><td>&quot;05&quot;</td><td>&quot;12&quot;</td><td>&quot;15&quot;</td><td>&quot;27&quot;</td><td>&quot;30&quot;</td><td>&quot;49&quot;</td><td>false</td><td>0</td><td>&quot;09_01_15_02_10&quot;</td><td>97</td></tr><tr><td>&quot;12/02/2025&quot;</td><td>&quot;1168&quot;</td><td>&quot;23 18 32 33 24 44&quot;</td><td>&quot;48&quot;</td><td>&quot;02 27 07&quot;</td><td>&quot;Promoción Sí o Sí&quot;</td><td>&quot;182324323344&quot;</td><td>[18, 23, … 44]</td><td>18</td><td>23</td><td>24</td><td>32</td><td>33</td><td>44</td><td>&quot;18&quot;</td><td>&quot;23&quot;</td><td>&quot;24&quot;</td><td>&quot;32&quot;</td><td>&quot;33&quot;</td><td>&quot;44&quot;</td><td>&quot;06&quot;</td><td>&quot;11&quot;</td><td>&quot;16&quot;</td><td>&quot;22&quot;</td><td>&quot;34&quot;</td><td>&quot;45&quot;</td><td>false</td><td>0</td><td>&quot;05_01_08_01_11&quot;</td><td>56</td></tr><tr><td>&quot;18/09/2024&quot;</td><td>&quot;1126&quot;</td><td>&quot;26 10 34 37 21 32&quot;</td><td>&quot;45&quot;</td><td>&quot;20 15&quot;</td><td>&quot;Promoción Sí o Sí&quot;</td><td>&quot;102126323437&quot;</td><td>[10, 21, … 37]</td><td>10</td><td>21</td><td>26</td><td>32</td><td>34</td><td>37</td><td>&quot;10&quot;</td><td>&quot;21&quot;</td><td>&quot;26&quot;</td><td>&quot;32&quot;</td><td>&quot;34&quot;</td><td>&quot;37&quot;</td><td>&quot;04&quot;</td><td>&quot;17&quot;</td><td>&quot;20&quot;</td><td>&quot;37&quot;</td><td>&quot;38&quot;</td><td>&quot;48&quot;</td><td>false</td><td>0</td><td>&quot;11_05_06_02_03&quot;</td><td>22</td></tr><tr><td>&quot;07/08/2024&quot;</td><td>&quot;1114&quot;</td><td>&quot;10 38 36 18 32 14&quot;</td><td>&quot;33&quot;</td><td>&quot;31 29 42 28&quot;</td><td>&quot;Promoción Sí o Sí&quot;</td><td>&quot;101418323638&quot;</td><td>[10, 14, … 38]</td><td>10</td><td>14</td><td>18</td><td>32</td><td>36</td><td>38</td><td>&quot;10&quot;</td><td>&quot;14&quot;</td><td>&quot;18&quot;</td><td>&quot;32&quot;</td><td>&quot;36&quot;</td><td>&quot;38&quot;</td><td>&quot;12&quot;</td><td>&quot;18&quot;</td><td>&quot;38&quot;</td><td>&quot;43&quot;</td><td>&quot;47&quot;</td><td>&quot;50&quot;</td><td>true</td><td>12</td><td>&quot;04_04_14_04_02&quot;</td><td>58</td></tr><tr><td>&quot;10/03/2024&quot;</td><td>&quot;1071&quot;</td><td>&quot;35 34 18 32 12 30&quot;</td><td>&quot;24&quot;</td><td>&quot;07 04 19&quot;</td><td>&quot;Promoción Sí o Sí&quot;</td><td>&quot;121830323435&quot;</td><td>[12, 18, … 35]</td><td>12</td><td>18</td><td>30</td><td>32</td><td>34</td><td>35</td><td>&quot;12&quot;</td><td>&quot;18&quot;</td><td>&quot;30&quot;</td><td>&quot;32&quot;</td><td>&quot;34&quot;</td><td>&quot;35&quot;</td><td>&quot;16&quot;</td><td>&quot;18&quot;</td><td>&quot;34&quot;</td><td>&quot;43&quot;</td><td>&quot;46&quot;</td><td>&quot;48&quot;</td><td>true</td><td>8</td><td>&quot;06_12_02_02_01&quot;</td><td>-37</td></tr><tr><td>&quot;13/12/2023&quot;</td><td>&quot;1046&quot;</td><td>&quot;10 42 37 02 32 01&quot;</td><td>&quot;25&quot;</td><td>&quot;16 46 04&quot;</td><td>&quot;Promoción Sí o Sí&quot;</td><td>&quot;010210323742&quot;</td><td>[1, 2, … 42]</td><td>1</td><td>2</td><td>10</td><td>32</td><td>37</td><td>42</td><td>&quot;01&quot;</td><td>&quot;02&quot;</td><td>&quot;10&quot;</td><td>&quot;32&quot;</td><td>&quot;37&quot;</td><td>&quot;42&quot;</td><td>&quot;05&quot;</td><td>&quot;10&quot;</td><td>&quot;11&quot;</td><td>&quot;17&quot;</td><td>&quot;22&quot;</td><td>&quot;38&quot;</td><td>true</td><td>8</td><td>&quot;01_08_22_05_05&quot;</td><td>86</td></tr><tr><td>&quot;10/12/2023&quot;</td><td>&quot;1045&quot;</td><td>&quot;06 40 32 17 47 24&quot;</td><td>&quot;18&quot;</td><td>&quot;07&quot;</td><td>&quot;Promoción Sí o Sí&quot;</td><td>&quot;061724324047&quot;</td><td>[6, 17, … 47]</td><td>6</td><td>17</td><td>24</td><td>32</td><td>40</td><td>47</td><td>&quot;06&quot;</td><td>&quot;17&quot;</td><td>&quot;24&quot;</td><td>&quot;32&quot;</td><td>&quot;40&quot;</td><td>&quot;47&quot;</td><td>&quot;01&quot;</td><td>&quot;02&quot;</td><td>&quot;10&quot;</td><td>&quot;32&quot;</td><td>&quot;37&quot;</td><td>&quot;42&quot;</td><td>true</td><td>8</td><td>&quot;11_07_08_08_07&quot;</td><td>6</td></tr><tr><td>&quot;12/11/2023&quot;</td><td>&quot;1037&quot;</td><td>&quot;27 43 17 26 46 32&quot;</td><td>&quot;06&quot;</td><td>&quot;19 44 01 37&quot;</td><td>&quot;Promoción Sí o Sí&quot;</td><td>&quot;172627324346&quot;</td><td>[17, 26, … 46]</td><td>17</td><td>26</td><td>27</td><td>32</td><td>43</td><td>46</td><td>&quot;17&quot;</td><td>&quot;26&quot;</td><td>&quot;27&quot;</td><td>&quot;32&quot;</td><td>&quot;43&quot;</td><td>&quot;46&quot;</td><td>&quot;08&quot;</td><td>&quot;10&quot;</td><td>&quot;12&quot;</td><td>&quot;15&quot;</td><td>&quot;19&quot;</td><td>&quot;29&quot;</td><td>false</td><td>0</td><td>&quot;09_01_05_11_03&quot;</td><td>-6</td></tr><tr><td>&quot;23/08/2023&quot;</td><td>&quot;1014&quot;</td><td>&quot;32 43 38 25 24 11&quot;</td><td>&quot;20&quot;</td><td>&quot;34 06&quot;</td><td>&quot;Promoción Sí o Sí&quot;</td><td>&quot;112425323843&quot;</td><td>[11, 24, … 43]</td><td>11</td><td>24</td><td>25</td><td>32</td><td>38</td><td>43</td><td>&quot;11&quot;</td><td>&quot;24&quot;</td><td>&quot;25&quot;</td><td>&quot;32&quot;</td><td>&quot;38&quot;</td><td>&quot;43&quot;</td><td>&quot;14&quot;</td><td>&quot;16&quot;</td><td>&quot;20&quot;</td><td>&quot;22&quot;</td><td>&quot;28&quot;</td><td>&quot;38&quot;</td><td>false</td><td>0</td><td>&quot;13_01_07_06_05&quot;</td><td>32</td></tr><tr><td>&quot;19/04/2023&quot;</td><td>&quot;0978&quot;</td><td>&quot;39 32 42 01 19 18&quot;</td><td>&quot;17&quot;</td><td>&quot;05 45 14&quot;</td><td>&quot;Promoción Sí o Sí&quot;</td><td>&quot;011819323942&quot;</td><td>[1, 18, … 42]</td><td>1</td><td>18</td><td>19</td><td>32</td><td>39</td><td>42</td><td>&quot;01&quot;</td><td>&quot;18&quot;</td><td>&quot;19&quot;</td><td>&quot;32&quot;</td><td>&quot;39&quot;</td><td>&quot;42&quot;</td><td>&quot;12&quot;</td><td>&quot;16&quot;</td><td>&quot;25&quot;</td><td>&quot;26&quot;</td><td>&quot;30&quot;</td><td>&quot;42&quot;</td><td>false</td><td>0</td><td>&quot;17_01_13_07_03&quot;</td><td>66</td></tr></tbody></table></div>"
      ],
      "text/plain": [
       "shape: (10, 30)\n",
       "┌────────────┬────────┬───────────────┬──────┬───┬───────────────┬────────┬──────────────┬─────────┐\n",
       "│ fecha      ┆ sorteo ┆ bolillas      ┆ yapa ┆ … ┆ is_rare_combi ┆ reason ┆ jumps_map    ┆ unijump │\n",
       "│ ---        ┆ ---    ┆ ---           ┆ ---  ┆   ┆ nation        ┆ ---    ┆ ---          ┆ ---     │\n",
       "│ str        ┆ str    ┆ str           ┆ str  ┆   ┆ ---           ┆ u8     ┆ str          ┆ i64     │\n",
       "│            ┆        ┆               ┆      ┆   ┆ bool          ┆        ┆              ┆         │\n",
       "╞════════════╪════════╪═══════════════╪══════╪═══╪═══════════════╪════════╪══════════════╪═════════╡\n",
       "│ 12/03/2025 ┆ 1176   ┆ 44 34 07 17   ┆ 11   ┆ … ┆ false         ┆ 0      ┆ 09_01_15_02_ ┆ 97      │\n",
       "│            ┆        ┆ 16 32         ┆      ┆   ┆               ┆        ┆ 10           ┆         │\n",
       "│ 12/02/2025 ┆ 1168   ┆ 23 18 32 33   ┆ 48   ┆ … ┆ false         ┆ 0      ┆ 05_01_08_01_ ┆ 56      │\n",
       "│            ┆        ┆ 24 44         ┆      ┆   ┆               ┆        ┆ 11           ┆         │\n",
       "│ 18/09/2024 ┆ 1126   ┆ 26 10 34 37   ┆ 45   ┆ … ┆ false         ┆ 0      ┆ 11_05_06_02_ ┆ 22      │\n",
       "│            ┆        ┆ 21 32         ┆      ┆   ┆               ┆        ┆ 03           ┆         │\n",
       "│ 07/08/2024 ┆ 1114   ┆ 10 38 36 18   ┆ 33   ┆ … ┆ true          ┆ 12     ┆ 04_04_14_04_ ┆ 58      │\n",
       "│            ┆        ┆ 32 14         ┆      ┆   ┆               ┆        ┆ 02           ┆         │\n",
       "│ 10/03/2024 ┆ 1071   ┆ 35 34 18 32   ┆ 24   ┆ … ┆ true          ┆ 8      ┆ 06_12_02_02_ ┆ -37     │\n",
       "│            ┆        ┆ 12 30         ┆      ┆   ┆               ┆        ┆ 01           ┆         │\n",
       "│ 13/12/2023 ┆ 1046   ┆ 10 42 37 02   ┆ 25   ┆ … ┆ true          ┆ 8      ┆ 01_08_22_05_ ┆ 86      │\n",
       "│            ┆        ┆ 32 01         ┆      ┆   ┆               ┆        ┆ 05           ┆         │\n",
       "│ 10/12/2023 ┆ 1045   ┆ 06 40 32 17   ┆ 18   ┆ … ┆ true          ┆ 8      ┆ 11_07_08_08_ ┆ 6       │\n",
       "│            ┆        ┆ 47 24         ┆      ┆   ┆               ┆        ┆ 07           ┆         │\n",
       "│ 12/11/2023 ┆ 1037   ┆ 27 43 17 26   ┆ 06   ┆ … ┆ false         ┆ 0      ┆ 09_01_05_11_ ┆ -6      │\n",
       "│            ┆        ┆ 46 32         ┆      ┆   ┆               ┆        ┆ 03           ┆         │\n",
       "│ 23/08/2023 ┆ 1014   ┆ 32 43 38 25   ┆ 20   ┆ … ┆ false         ┆ 0      ┆ 13_01_07_06_ ┆ 32      │\n",
       "│            ┆        ┆ 24 11         ┆      ┆   ┆               ┆        ┆ 05           ┆         │\n",
       "│ 19/04/2023 ┆ 0978   ┆ 39 32 42 01   ┆ 17   ┆ … ┆ false         ┆ 0      ┆ 17_01_13_07_ ┆ 66      │\n",
       "│            ┆        ┆ 19 18         ┆      ┆   ┆               ┆        ┆ 03           ┆         │\n",
       "└────────────┴────────┴───────────────┴──────┴───┴───────────────┴────────┴──────────────┴─────────┘"
      ]
     },
     "metadata": {},
     "output_type": "display_data"
    },
    {
     "name": "stdout",
     "output_type": "stream",
     "text": [
      "df_jumps_map FOR str_b4 = 32\n"
     ]
    },
    {
     "data": {
      "text/html": [
       "<div><style>\n",
       ".dataframe > thead > tr,\n",
       ".dataframe > tbody > tr {\n",
       "  text-align: right;\n",
       "  white-space: pre-wrap;\n",
       "}\n",
       "</style>\n",
       "<small>shape: (101, 2)</small><table border=\"1\" class=\"dataframe\"><thead><tr><th>jumps_map</th><th>count</th></tr><tr><td>str</td><td>u32</td></tr></thead><tbody><tr><td>&quot;12_03_09_03_02&quot;</td><td>1</td></tr><tr><td>&quot;07_08_15_06_06&quot;</td><td>1</td></tr><tr><td>&quot;07_09_14_01_01&quot;</td><td>1</td></tr><tr><td>&quot;09_03_06_04_06&quot;</td><td>1</td></tr><tr><td>&quot;06_06_14_04_06&quot;</td><td>1</td></tr><tr><td>&hellip;</td><td>&hellip;</td></tr><tr><td>&quot;16_04_04_03_10&quot;</td><td>1</td></tr><tr><td>&quot;17_04_04_09_01&quot;</td><td>1</td></tr><tr><td>&quot;05_07_14_01_03&quot;</td><td>1</td></tr><tr><td>&quot;14_02_15_05_03&quot;</td><td>1</td></tr><tr><td>&quot;08_08_08_05_03&quot;</td><td>1</td></tr></tbody></table></div>"
      ],
      "text/plain": [
       "shape: (101, 2)\n",
       "┌────────────────┬───────┐\n",
       "│ jumps_map      ┆ count │\n",
       "│ ---            ┆ ---   │\n",
       "│ str            ┆ u32   │\n",
       "╞════════════════╪═══════╡\n",
       "│ 12_03_09_03_02 ┆ 1     │\n",
       "│ 07_08_15_06_06 ┆ 1     │\n",
       "│ 07_09_14_01_01 ┆ 1     │\n",
       "│ 09_03_06_04_06 ┆ 1     │\n",
       "│ 06_06_14_04_06 ┆ 1     │\n",
       "│ …              ┆ …     │\n",
       "│ 16_04_04_03_10 ┆ 1     │\n",
       "│ 17_04_04_09_01 ┆ 1     │\n",
       "│ 05_07_14_01_03 ┆ 1     │\n",
       "│ 14_02_15_05_03 ┆ 1     │\n",
       "│ 08_08_08_05_03 ┆ 1     │\n",
       "└────────────────┴───────┘"
      ]
     },
     "metadata": {},
     "output_type": "display_data"
    },
    {
     "name": "stdout",
     "output_type": "stream",
     "text": [
      "df_unijump FOR str_b4 = 32\n"
     ]
    },
    {
     "data": {
      "text/html": [
       "<div><style>\n",
       ".dataframe > thead > tr,\n",
       ".dataframe > tbody > tr {\n",
       "  text-align: right;\n",
       "  white-space: pre-wrap;\n",
       "}\n",
       "</style>\n",
       "<small>shape: (77, 2)</small><table border=\"1\" class=\"dataframe\"><thead><tr><th>unijump</th><th>count</th></tr><tr><td>i64</td><td>u32</td></tr></thead><tbody><tr><td>22</td><td>4</td></tr><tr><td>23</td><td>3</td></tr><tr><td>-30</td><td>2</td></tr><tr><td>-32</td><td>2</td></tr><tr><td>-11</td><td>2</td></tr><tr><td>&hellip;</td><td>&hellip;</td></tr><tr><td>-42</td><td>1</td></tr><tr><td>-86</td><td>1</td></tr><tr><td>-26</td><td>1</td></tr><tr><td>-12</td><td>1</td></tr><tr><td>26</td><td>1</td></tr></tbody></table></div>"
      ],
      "text/plain": [
       "shape: (77, 2)\n",
       "┌─────────┬───────┐\n",
       "│ unijump ┆ count │\n",
       "│ ---     ┆ ---   │\n",
       "│ i64     ┆ u32   │\n",
       "╞═════════╪═══════╡\n",
       "│ 22      ┆ 4     │\n",
       "│ 23      ┆ 3     │\n",
       "│ -30     ┆ 2     │\n",
       "│ -32     ┆ 2     │\n",
       "│ -11     ┆ 2     │\n",
       "│ …       ┆ …     │\n",
       "│ -42     ┆ 1     │\n",
       "│ -86     ┆ 1     │\n",
       "│ -26     ┆ 1     │\n",
       "│ -12     ┆ 1     │\n",
       "│ 26      ┆ 1     │\n",
       "└─────────┴───────┘"
      ]
     },
     "metadata": {},
     "output_type": "display_data"
    }
   ],
   "source": [
    "possible_b4, exclude_jump_maps_b4, last_post_b4 = plot_post_col(col='str_b4', post_col='post_str_b4')"
   ]
  },
  {
   "cell_type": "code",
   "execution_count": 13,
   "metadata": {},
   "outputs": [
    {
     "name": "stdout",
     "output_type": "stream",
     "text": [
      "Setting test_value='37'\n",
      "df_viz FOR str_b5 = 37\n"
     ]
    },
    {
     "data": {
      "text/html": [
       "<div><style>\n",
       ".dataframe > thead > tr,\n",
       ".dataframe > tbody > tr {\n",
       "  text-align: right;\n",
       "  white-space: pre-wrap;\n",
       "}\n",
       "</style>\n",
       "<small>shape: (30, 3)</small><table border=\"1\" class=\"dataframe\"><thead><tr><th>post_str_b5</th><th>count</th><th>percent</th></tr><tr><td>str</td><td>u32</td><td>f64</td></tr></thead><tbody><tr><td>&quot;41&quot;</td><td>12</td><td>8.391608</td></tr><tr><td>&quot;37&quot;</td><td>11</td><td>7.692308</td></tr><tr><td>&quot;40&quot;</td><td>9</td><td>6.293706</td></tr><tr><td>&quot;42&quot;</td><td>8</td><td>5.594406</td></tr><tr><td>&quot;36&quot;</td><td>8</td><td>5.594406</td></tr><tr><td>&hellip;</td><td>&hellip;</td><td>&hellip;</td></tr><tr><td>&quot;12&quot;</td><td>1</td><td>0.699301</td></tr><tr><td>&quot;14&quot;</td><td>1</td><td>0.699301</td></tr><tr><td>&quot;16&quot;</td><td>1</td><td>0.699301</td></tr><tr><td>&quot;44&quot;</td><td>1</td><td>0.699301</td></tr><tr><td>&quot;46&quot;</td><td>1</td><td>0.699301</td></tr></tbody></table></div>"
      ],
      "text/plain": [
       "shape: (30, 3)\n",
       "┌─────────────┬───────┬──────────┐\n",
       "│ post_str_b5 ┆ count ┆ percent  │\n",
       "│ ---         ┆ ---   ┆ ---      │\n",
       "│ str         ┆ u32   ┆ f64      │\n",
       "╞═════════════╪═══════╪══════════╡\n",
       "│ 41          ┆ 12    ┆ 8.391608 │\n",
       "│ 37          ┆ 11    ┆ 7.692308 │\n",
       "│ 40          ┆ 9     ┆ 6.293706 │\n",
       "│ 42          ┆ 8     ┆ 5.594406 │\n",
       "│ 36          ┆ 8     ┆ 5.594406 │\n",
       "│ …           ┆ …     ┆ …        │\n",
       "│ 12          ┆ 1     ┆ 0.699301 │\n",
       "│ 14          ┆ 1     ┆ 0.699301 │\n",
       "│ 16          ┆ 1     ┆ 0.699301 │\n",
       "│ 44          ┆ 1     ┆ 0.699301 │\n",
       "│ 46          ┆ 1     ┆ 0.699301 │\n",
       "└─────────────┴───────┴──────────┘"
      ]
     },
     "metadata": {},
     "output_type": "display_data"
    },
    {
     "data": {},
     "metadata": {},
     "output_type": "display_data"
    },
    {
     "data": {
      "application/vnd.holoviews_exec.v0+json": "",
      "text/html": [
       "<div id='ffa8215e-6c0c-449a-871e-bd5a8160f223'>\n",
       "  <div id=\"dd673683-d177-4a5f-8521-61060c717d91\" data-root-id=\"ffa8215e-6c0c-449a-871e-bd5a8160f223\" style=\"display: contents;\"></div>\n",
       "</div>\n",
       "<script type=\"application/javascript\">(function(root) {\n",
       "  var docs_json = {\"0cb0b085-7076-4bc9-8215-20912e74895b\":{\"version\":\"3.7.2\",\"title\":\"Bokeh Application\",\"roots\":[{\"type\":\"object\",\"name\":\"Row\",\"id\":\"ffa8215e-6c0c-449a-871e-bd5a8160f223\",\"attributes\":{\"name\":\"Row00570\",\"tags\":[\"embedded\"],\"stylesheets\":[\"\\n:host(.pn-loading):before, .pn-loading:before {\\n  background-color: #c3c3c3;\\n  mask-size: auto calc(min(50%, 400px));\\n  -webkit-mask-size: auto calc(min(50%, 400px));\\n}\",{\"type\":\"object\",\"name\":\"ImportedStyleSheet\",\"id\":\"a049ffed-585f-4a63-b248-683ee93fddf0\",\"attributes\":{\"url\":\"https://cdn.holoviz.org/panel/1.6.2/dist/css/loading.css\"}},{\"type\":\"object\",\"name\":\"ImportedStyleSheet\",\"id\":\"08899949-5d31-4b1f-abf6-cd6cfd7c0174\",\"attributes\":{\"url\":\"https://cdn.holoviz.org/panel/1.6.2/dist/css/listpanel.css\"}},{\"type\":\"object\",\"name\":\"ImportedStyleSheet\",\"id\":\"962fdb2a-ca3e-4e8c-9fc5-e76aa0fc1cc8\",\"attributes\":{\"url\":\"https://cdn.holoviz.org/panel/1.6.2/dist/bundled/theme/default.css\"}},{\"type\":\"object\",\"name\":\"ImportedStyleSheet\",\"id\":\"23781bbb-f661-4d70-b138-dc7a39928c68\",\"attributes\":{\"url\":\"https://cdn.holoviz.org/panel/1.6.2/dist/bundled/theme/native.css\"}}],\"min_width\":700,\"margin\":0,\"sizing_mode\":\"stretch_width\",\"align\":\"start\",\"children\":[{\"type\":\"object\",\"name\":\"Spacer\",\"id\":\"775956cb-ae3b-4ffb-a4a8-b61d35ab2af9\",\"attributes\":{\"name\":\"HSpacer00574\",\"stylesheets\":[\"\\n:host(.pn-loading):before, .pn-loading:before {\\n  background-color: #c3c3c3;\\n  mask-size: auto calc(min(50%, 400px));\\n  -webkit-mask-size: auto calc(min(50%, 400px));\\n}\",{\"id\":\"a049ffed-585f-4a63-b248-683ee93fddf0\"},{\"id\":\"962fdb2a-ca3e-4e8c-9fc5-e76aa0fc1cc8\"},{\"id\":\"23781bbb-f661-4d70-b138-dc7a39928c68\"}],\"margin\":0,\"sizing_mode\":\"stretch_width\",\"align\":\"start\"}},{\"type\":\"object\",\"name\":\"Figure\",\"id\":\"f03426aa-95fc-4ca2-a03f-6bd407d050f9\",\"attributes\":{\"width\":700,\"height\":300,\"margin\":[5,10],\"sizing_mode\":\"fixed\",\"align\":\"start\",\"x_range\":{\"type\":\"object\",\"name\":\"FactorRange\",\"id\":\"cd0d094a-3696-4de8-94bd-52ed3db94e05\",\"attributes\":{\"name\":\"post_str_b5\",\"tags\":[[[\"post_str_b5\",null]],[]],\"factors\":[\"41\",\"37\",\"40\",\"42\",\"36\",\"38\",\"35\",\"31\",\"34\",\"39\",\"28\",\"32\",\"22\",\"29\",\"24\",\"23\",\"33\",\"30\",\"25\",\"21\",\"19\",\"27\",\"26\",\"43\",\"17\",\"12\",\"14\",\"16\",\"44\",\"46\"]}},\"y_range\":{\"type\":\"object\",\"name\":\"Range1d\",\"id\":\"a82741b1-ecc9-4949-b73b-a5486565e254\",\"attributes\":{\"name\":\"percent\",\"tags\":[[[\"percent\",null]],{\"type\":\"map\",\"entries\":[[\"invert_yaxis\",false],[\"autorange\",false]]}],\"end\":9.160839160839162,\"reset_start\":0.0,\"reset_end\":9.160839160839162}},\"x_scale\":{\"type\":\"object\",\"name\":\"CategoricalScale\",\"id\":\"e508b72b-1f90-45bd-8e91-32ad4f2b8256\"},\"y_scale\":{\"type\":\"object\",\"name\":\"LinearScale\",\"id\":\"b4ad6f81-f83c-4ccd-ac71-afcb51f7e321\"},\"title\":{\"type\":\"object\",\"name\":\"Title\",\"id\":\"ac1600d6-9506-4206-ae48-74da2c1d41a3\",\"attributes\":{\"text_color\":\"black\",\"text_font_size\":\"12pt\"}},\"renderers\":[{\"type\":\"object\",\"name\":\"GlyphRenderer\",\"id\":\"bbfa51b2-4071-425a-ae6e-77a30affca0f\",\"attributes\":{\"data_source\":{\"type\":\"object\",\"name\":\"ColumnDataSource\",\"id\":\"0538fe53-28c5-4b85-86aa-e4155503f890\",\"attributes\":{\"selected\":{\"type\":\"object\",\"name\":\"Selection\",\"id\":\"e9e7deec-737a-4576-b8c6-df874ae7c588\",\"attributes\":{\"indices\":[],\"line_indices\":[]}},\"selection_policy\":{\"type\":\"object\",\"name\":\"UnionRenderers\",\"id\":\"3dc8e326-2c98-4bc3-afbc-2db36aa22c51\"},\"data\":{\"type\":\"map\",\"entries\":[[\"post_str_b5\",[\"41\",\"37\",\"40\",\"42\",\"36\",\"38\",\"35\",\"31\",\"34\",\"39\",\"28\",\"32\",\"22\",\"29\",\"24\",\"23\",\"33\",\"30\",\"25\",\"21\",\"19\",\"27\",\"26\",\"43\",\"17\",\"12\",\"14\",\"16\",\"44\",\"46\"]],[\"percent\",{\"type\":\"ndarray\",\"array\":{\"type\":\"bytes\",\"data\":\"K5gl5YDIIEBP7MRO7MQeQEFkuFfBLBlAOSAy3KtgFkA5IDLcq2AWQDkgMtyrYBZAOSAy3KtgFkAy3KtglpQTQDLcq2CWlBNAK5gl5YDIEEArmCXlgMgQQCuYJeWAyBBAK5gl5YDIEEBIqD7T1vgLQEioPtPW+AtAOSAy3KtgBkA5IDLcq2AGQCuYJeWAyABAK5gl5YDIAEArmCXlgMgAQDkgMtyrYPY/OSAy3Ktg9j85IDLcq2D2PzkgMtyrYPY/OSAy3Ktg5j85IDLcq2DmPzkgMtyrYOY/OSAy3Ktg5j85IDLcq2DmPzkgMtyrYOY/\"},\"shape\":[30],\"dtype\":\"float64\",\"order\":\"little\"}]]}}},\"view\":{\"type\":\"object\",\"name\":\"CDSView\",\"id\":\"3106e7ec-a30b-40e6-aa89-bf65910a3293\",\"attributes\":{\"filter\":{\"type\":\"object\",\"name\":\"AllIndices\",\"id\":\"839b3e21-3122-4dd1-92f5-957738a47281\"}}},\"glyph\":{\"type\":\"object\",\"name\":\"VBar\",\"id\":\"9d1f165a-1852-4cf7-9f68-2eb049836d5e\",\"attributes\":{\"tags\":[\"apply_ranges\"],\"x\":{\"type\":\"field\",\"field\":\"post_str_b5\"},\"width\":{\"type\":\"value\",\"value\":0.8},\"top\":{\"type\":\"field\",\"field\":\"percent\"},\"fill_color\":{\"type\":\"value\",\"value\":\"#30a2da\"},\"hatch_color\":{\"type\":\"value\",\"value\":\"#30a2da\"}}},\"selection_glyph\":{\"type\":\"object\",\"name\":\"VBar\",\"id\":\"2eb7f3fe-5a87-4b8d-bd4f-904d0bcf6448\",\"attributes\":{\"tags\":[\"apply_ranges\"],\"x\":{\"type\":\"field\",\"field\":\"post_str_b5\"},\"width\":{\"type\":\"value\",\"value\":0.8},\"bottom\":{\"type\":\"value\",\"value\":0},\"top\":{\"type\":\"field\",\"field\":\"percent\"},\"line_color\":{\"type\":\"value\",\"value\":\"black\"},\"line_alpha\":{\"type\":\"value\",\"value\":1.0},\"line_width\":{\"type\":\"value\",\"value\":1},\"line_join\":{\"type\":\"value\",\"value\":\"bevel\"},\"line_cap\":{\"type\":\"value\",\"value\":\"butt\"},\"line_dash\":{\"type\":\"value\",\"value\":[]},\"line_dash_offset\":{\"type\":\"value\",\"value\":0},\"fill_color\":{\"type\":\"value\",\"value\":\"#30a2da\"},\"fill_alpha\":{\"type\":\"value\",\"value\":1.0},\"hatch_color\":{\"type\":\"value\",\"value\":\"#30a2da\"},\"hatch_alpha\":{\"type\":\"value\",\"value\":1.0},\"hatch_scale\":{\"type\":\"value\",\"value\":12.0},\"hatch_pattern\":{\"type\":\"value\",\"value\":null},\"hatch_weight\":{\"type\":\"value\",\"value\":1.0}}},\"nonselection_glyph\":{\"type\":\"object\",\"name\":\"VBar\",\"id\":\"4e34bf3b-3187-44f9-b0fc-abe10fde9f91\",\"attributes\":{\"tags\":[\"apply_ranges\"],\"x\":{\"type\":\"field\",\"field\":\"post_str_b5\"},\"width\":{\"type\":\"value\",\"value\":0.8},\"top\":{\"type\":\"field\",\"field\":\"percent\"},\"line_alpha\":{\"type\":\"value\",\"value\":0.1},\"fill_color\":{\"type\":\"value\",\"value\":\"#30a2da\"},\"fill_alpha\":{\"type\":\"value\",\"value\":0.1},\"hatch_color\":{\"type\":\"value\",\"value\":\"#30a2da\"},\"hatch_alpha\":{\"type\":\"value\",\"value\":0.1}}},\"muted_glyph\":{\"type\":\"object\",\"name\":\"VBar\",\"id\":\"cb4d9809-8836-4188-9504-de3729f31e5e\",\"attributes\":{\"tags\":[\"apply_ranges\"],\"x\":{\"type\":\"field\",\"field\":\"post_str_b5\"},\"width\":{\"type\":\"value\",\"value\":0.8},\"top\":{\"type\":\"field\",\"field\":\"percent\"},\"line_alpha\":{\"type\":\"value\",\"value\":0.2},\"fill_color\":{\"type\":\"value\",\"value\":\"#30a2da\"},\"fill_alpha\":{\"type\":\"value\",\"value\":0.2},\"hatch_color\":{\"type\":\"value\",\"value\":\"#30a2da\"},\"hatch_alpha\":{\"type\":\"value\",\"value\":0.2}}}}},{\"type\":\"object\",\"name\":\"Span\",\"id\":\"a212a066-fc85-4787-83a5-b6668dc31f3a\",\"attributes\":{\"level\":\"glyph\",\"location\":3.3333333333333313,\"line_color\":\"red\",\"line_width\":3}},{\"type\":\"object\",\"name\":\"Span\",\"id\":\"61d5af16-07b8-441c-949a-d93ad3fc0d0f\",\"attributes\":{\"level\":\"glyph\",\"location\":4.999999999999997,\"line_color\":\"blue\",\"line_width\":3}},{\"type\":\"object\",\"name\":\"Span\",\"id\":\"1c30e951-756d-401d-97fe-bd16616b9a2d\",\"attributes\":{\"level\":\"glyph\",\"location\":1.6666666666666656,\"line_color\":\"blue\",\"line_width\":3}}],\"toolbar\":{\"type\":\"object\",\"name\":\"Toolbar\",\"id\":\"720eb49a-9662-425f-a32f-766c9c57063b\",\"attributes\":{\"tools\":[{\"type\":\"object\",\"name\":\"WheelZoomTool\",\"id\":\"d6737aef-19ff-4d3e-921c-2ee7e5bfbcc7\",\"attributes\":{\"tags\":[\"hv_created\"],\"renderers\":\"auto\",\"zoom_together\":\"none\"}},{\"type\":\"object\",\"name\":\"HoverTool\",\"id\":\"60f1f52c-cdd6-4b37-ba7c-53d79fae9f47\",\"attributes\":{\"tags\":[\"hv_created\"],\"renderers\":[{\"id\":\"bbfa51b2-4071-425a-ae6e-77a30affca0f\"}],\"tooltips\":[[\"post_str_b5\",\"@{post_str_b5}\"],[\"percent\",\"@{percent}\"]]}},{\"type\":\"object\",\"name\":\"SaveTool\",\"id\":\"9bb34bbb-31bc-451e-a09e-469aa10bece9\"},{\"type\":\"object\",\"name\":\"PanTool\",\"id\":\"f2ee74e3-3e7f-4fbb-af26-f1bcfad62eb7\"},{\"type\":\"object\",\"name\":\"BoxZoomTool\",\"id\":\"c430e1fb-593f-4e9b-8ed0-8bf20abb081b\",\"attributes\":{\"dimensions\":\"both\",\"overlay\":{\"type\":\"object\",\"name\":\"BoxAnnotation\",\"id\":\"ed6b87be-4df0-41fc-8db3-7c0b00a97b3f\",\"attributes\":{\"syncable\":false,\"line_color\":\"black\",\"line_alpha\":1.0,\"line_width\":2,\"line_dash\":[4,4],\"fill_color\":\"lightgrey\",\"fill_alpha\":0.5,\"level\":\"overlay\",\"visible\":false,\"left\":{\"type\":\"number\",\"value\":\"nan\"},\"right\":{\"type\":\"number\",\"value\":\"nan\"},\"top\":{\"type\":\"number\",\"value\":\"nan\"},\"bottom\":{\"type\":\"number\",\"value\":\"nan\"},\"left_units\":\"canvas\",\"right_units\":\"canvas\",\"top_units\":\"canvas\",\"bottom_units\":\"canvas\",\"handles\":{\"type\":\"object\",\"name\":\"BoxInteractionHandles\",\"id\":\"b8999419-ad31-438c-9731-eb9d6a8a3d6a\",\"attributes\":{\"all\":{\"type\":\"object\",\"name\":\"AreaVisuals\",\"id\":\"df563c44-de0d-4b48-b395-f2f89c6e4a4c\",\"attributes\":{\"fill_color\":\"white\",\"hover_fill_color\":\"lightgray\"}}}}}}}},{\"type\":\"object\",\"name\":\"ResetTool\",\"id\":\"c63a267b-04bb-49ed-aade-d191ca051cb5\"}],\"active_drag\":{\"id\":\"f2ee74e3-3e7f-4fbb-af26-f1bcfad62eb7\"}}},\"left\":[{\"type\":\"object\",\"name\":\"LinearAxis\",\"id\":\"78aafc33-ca7a-417f-946d-d4a4c682f93a\",\"attributes\":{\"ticker\":{\"type\":\"object\",\"name\":\"BasicTicker\",\"id\":\"94143000-c15a-4504-a76c-37e8690db11d\",\"attributes\":{\"mantissas\":[1,2,5]}},\"formatter\":{\"type\":\"object\",\"name\":\"BasicTickFormatter\",\"id\":\"1c9d8ffb-5c35-461f-b1de-fdc9291f1bf9\"},\"axis_label\":\"percent\",\"major_label_policy\":{\"type\":\"object\",\"name\":\"AllLabels\",\"id\":\"6d1bb428-6de9-4da9-a19b-7c99f9420330\"}}}],\"below\":[{\"type\":\"object\",\"name\":\"CategoricalAxis\",\"id\":\"5325efff-c1be-4d1e-a9ce-be49a54bac03\",\"attributes\":{\"ticker\":{\"type\":\"object\",\"name\":\"CategoricalTicker\",\"id\":\"3808eb78-ec19-4105-bccf-93dce2af7246\"},\"formatter\":{\"type\":\"object\",\"name\":\"CategoricalTickFormatter\",\"id\":\"7b966fe2-34a1-4787-b504-bf21aec980df\"},\"axis_label\":\"post_str_b5\",\"major_label_policy\":{\"type\":\"object\",\"name\":\"AllLabels\",\"id\":\"59f4ec04-3b51-4cf1-b353-d06ea7d2392d\"}}}],\"center\":[{\"type\":\"object\",\"name\":\"Grid\",\"id\":\"bbd3ae24-4da1-40b9-b47d-b2df87f737cf\",\"attributes\":{\"axis\":{\"id\":\"5325efff-c1be-4d1e-a9ce-be49a54bac03\"},\"grid_line_color\":null}},{\"type\":\"object\",\"name\":\"Grid\",\"id\":\"b35a8dbb-423e-42e3-bc5a-ebc34a318be9\",\"attributes\":{\"dimension\":1,\"axis\":{\"id\":\"78aafc33-ca7a-417f-946d-d4a4c682f93a\"},\"grid_line_color\":null}}],\"min_border_top\":10,\"min_border_bottom\":10,\"min_border_left\":10,\"min_border_right\":10,\"output_backend\":\"webgl\"}},{\"type\":\"object\",\"name\":\"Spacer\",\"id\":\"18f3974c-6ae1-42fb-960f-955cd66e4cd9\",\"attributes\":{\"name\":\"HSpacer00575\",\"stylesheets\":[\"\\n:host(.pn-loading):before, .pn-loading:before {\\n  background-color: #c3c3c3;\\n  mask-size: auto calc(min(50%, 400px));\\n  -webkit-mask-size: auto calc(min(50%, 400px));\\n}\",{\"id\":\"a049ffed-585f-4a63-b248-683ee93fddf0\"},{\"id\":\"962fdb2a-ca3e-4e8c-9fc5-e76aa0fc1cc8\"},{\"id\":\"23781bbb-f661-4d70-b138-dc7a39928c68\"}],\"margin\":0,\"sizing_mode\":\"stretch_width\",\"align\":\"start\"}}]}}],\"defs\":[{\"type\":\"model\",\"name\":\"ReactiveHTML1\"},{\"type\":\"model\",\"name\":\"FlexBox1\",\"properties\":[{\"name\":\"align_content\",\"kind\":\"Any\",\"default\":\"flex-start\"},{\"name\":\"align_items\",\"kind\":\"Any\",\"default\":\"flex-start\"},{\"name\":\"flex_direction\",\"kind\":\"Any\",\"default\":\"row\"},{\"name\":\"flex_wrap\",\"kind\":\"Any\",\"default\":\"wrap\"},{\"name\":\"gap\",\"kind\":\"Any\",\"default\":\"\"},{\"name\":\"justify_content\",\"kind\":\"Any\",\"default\":\"flex-start\"}]},{\"type\":\"model\",\"name\":\"FloatPanel1\",\"properties\":[{\"name\":\"config\",\"kind\":\"Any\",\"default\":{\"type\":\"map\"}},{\"name\":\"contained\",\"kind\":\"Any\",\"default\":true},{\"name\":\"position\",\"kind\":\"Any\",\"default\":\"right-top\"},{\"name\":\"offsetx\",\"kind\":\"Any\",\"default\":null},{\"name\":\"offsety\",\"kind\":\"Any\",\"default\":null},{\"name\":\"theme\",\"kind\":\"Any\",\"default\":\"primary\"},{\"name\":\"status\",\"kind\":\"Any\",\"default\":\"normalized\"}]},{\"type\":\"model\",\"name\":\"GridStack1\",\"properties\":[{\"name\":\"ncols\",\"kind\":\"Any\",\"default\":null},{\"name\":\"nrows\",\"kind\":\"Any\",\"default\":null},{\"name\":\"allow_resize\",\"kind\":\"Any\",\"default\":true},{\"name\":\"allow_drag\",\"kind\":\"Any\",\"default\":true},{\"name\":\"state\",\"kind\":\"Any\",\"default\":[]}]},{\"type\":\"model\",\"name\":\"drag1\",\"properties\":[{\"name\":\"slider_width\",\"kind\":\"Any\",\"default\":5},{\"name\":\"slider_color\",\"kind\":\"Any\",\"default\":\"black\"},{\"name\":\"value\",\"kind\":\"Any\",\"default\":50}]},{\"type\":\"model\",\"name\":\"click1\",\"properties\":[{\"name\":\"terminal_output\",\"kind\":\"Any\",\"default\":\"\"},{\"name\":\"debug_name\",\"kind\":\"Any\",\"default\":\"\"},{\"name\":\"clears\",\"kind\":\"Any\",\"default\":0}]},{\"type\":\"model\",\"name\":\"FastWrapper1\",\"properties\":[{\"name\":\"object\",\"kind\":\"Any\",\"default\":null},{\"name\":\"style\",\"kind\":\"Any\",\"default\":null}]},{\"type\":\"model\",\"name\":\"NotificationArea1\",\"properties\":[{\"name\":\"js_events\",\"kind\":\"Any\",\"default\":{\"type\":\"map\"}},{\"name\":\"max_notifications\",\"kind\":\"Any\",\"default\":5},{\"name\":\"notifications\",\"kind\":\"Any\",\"default\":[]},{\"name\":\"position\",\"kind\":\"Any\",\"default\":\"bottom-right\"},{\"name\":\"_clear\",\"kind\":\"Any\",\"default\":0},{\"name\":\"types\",\"kind\":\"Any\",\"default\":[{\"type\":\"map\",\"entries\":[[\"type\",\"warning\"],[\"background\",\"#ffc107\"],[\"icon\",{\"type\":\"map\",\"entries\":[[\"className\",\"fas fa-exclamation-triangle\"],[\"tagName\",\"i\"],[\"color\",\"white\"]]}]]},{\"type\":\"map\",\"entries\":[[\"type\",\"info\"],[\"background\",\"#007bff\"],[\"icon\",{\"type\":\"map\",\"entries\":[[\"className\",\"fas fa-info-circle\"],[\"tagName\",\"i\"],[\"color\",\"white\"]]}]]}]}]},{\"type\":\"model\",\"name\":\"Notification\",\"properties\":[{\"name\":\"background\",\"kind\":\"Any\",\"default\":null},{\"name\":\"duration\",\"kind\":\"Any\",\"default\":3000},{\"name\":\"icon\",\"kind\":\"Any\",\"default\":null},{\"name\":\"message\",\"kind\":\"Any\",\"default\":\"\"},{\"name\":\"notification_type\",\"kind\":\"Any\",\"default\":null},{\"name\":\"_rendered\",\"kind\":\"Any\",\"default\":false},{\"name\":\"_destroyed\",\"kind\":\"Any\",\"default\":false}]},{\"type\":\"model\",\"name\":\"TemplateActions1\",\"properties\":[{\"name\":\"open_modal\",\"kind\":\"Any\",\"default\":0},{\"name\":\"close_modal\",\"kind\":\"Any\",\"default\":0}]},{\"type\":\"model\",\"name\":\"BootstrapTemplateActions1\",\"properties\":[{\"name\":\"open_modal\",\"kind\":\"Any\",\"default\":0},{\"name\":\"close_modal\",\"kind\":\"Any\",\"default\":0}]},{\"type\":\"model\",\"name\":\"TemplateEditor1\",\"properties\":[{\"name\":\"layout\",\"kind\":\"Any\",\"default\":[]}]},{\"type\":\"model\",\"name\":\"MaterialTemplateActions1\",\"properties\":[{\"name\":\"open_modal\",\"kind\":\"Any\",\"default\":0},{\"name\":\"close_modal\",\"kind\":\"Any\",\"default\":0}]},{\"type\":\"model\",\"name\":\"ReactiveESM1\",\"properties\":[{\"name\":\"esm_constants\",\"kind\":\"Any\",\"default\":{\"type\":\"map\"}}]},{\"type\":\"model\",\"name\":\"JSComponent1\",\"properties\":[{\"name\":\"esm_constants\",\"kind\":\"Any\",\"default\":{\"type\":\"map\"}}]},{\"type\":\"model\",\"name\":\"ReactComponent1\",\"properties\":[{\"name\":\"esm_constants\",\"kind\":\"Any\",\"default\":{\"type\":\"map\"}}]},{\"type\":\"model\",\"name\":\"AnyWidgetComponent1\",\"properties\":[{\"name\":\"esm_constants\",\"kind\":\"Any\",\"default\":{\"type\":\"map\"}}]},{\"type\":\"model\",\"name\":\"request_value1\",\"properties\":[{\"name\":\"fill\",\"kind\":\"Any\",\"default\":\"none\"},{\"name\":\"_synced\",\"kind\":\"Any\",\"default\":null},{\"name\":\"_request_sync\",\"kind\":\"Any\",\"default\":0}]}]}};\n",
       "  var render_items = [{\"docid\":\"0cb0b085-7076-4bc9-8215-20912e74895b\",\"roots\":{\"ffa8215e-6c0c-449a-871e-bd5a8160f223\":\"dd673683-d177-4a5f-8521-61060c717d91\"},\"root_ids\":[\"ffa8215e-6c0c-449a-871e-bd5a8160f223\"]}];\n",
       "  var docs = Object.values(docs_json)\n",
       "  if (!docs) {\n",
       "    return\n",
       "  }\n",
       "  const py_version = docs[0].version.replace('rc', '-rc.').replace('.dev', '-dev.')\n",
       "  async function embed_document(root) {\n",
       "    var Bokeh = get_bokeh(root)\n",
       "    await Bokeh.embed.embed_items_notebook(docs_json, render_items);\n",
       "    for (const render_item of render_items) {\n",
       "      for (const root_id of render_item.root_ids) {\n",
       "\tconst id_el = document.getElementById(root_id)\n",
       "\tif (id_el.children.length && id_el.children[0].hasAttribute('data-root-id')) {\n",
       "\t  const root_el = id_el.children[0]\n",
       "\t  root_el.id = root_el.id + '-rendered'\n",
       "\t  for (const child of root_el.children) {\n",
       "            // Ensure JupyterLab does not capture keyboard shortcuts\n",
       "            // see: https://jupyterlab.readthedocs.io/en/4.1.x/extension/notebook.html#keyboard-interaction-model\n",
       "\t    child.setAttribute('data-lm-suppress-shortcuts', 'true')\n",
       "\t  }\n",
       "\t}\n",
       "      }\n",
       "    }\n",
       "  }\n",
       "  function get_bokeh(root) {\n",
       "    if (root.Bokeh === undefined) {\n",
       "      return null\n",
       "    } else if (root.Bokeh.version !== py_version) {\n",
       "      if (root.Bokeh.versions === undefined || !root.Bokeh.versions.has(py_version)) {\n",
       "\treturn null\n",
       "      }\n",
       "      return root.Bokeh.versions.get(py_version);\n",
       "    } else if (root.Bokeh.version === py_version) {\n",
       "      return root.Bokeh\n",
       "    }\n",
       "    return null\n",
       "  }\n",
       "  function is_loaded(root) {\n",
       "    var Bokeh = get_bokeh(root)\n",
       "    return (Bokeh != null && Bokeh.Panel !== undefined)\n",
       "  }\n",
       "  if (is_loaded(root)) {\n",
       "    embed_document(root);\n",
       "  } else {\n",
       "    var attempts = 0;\n",
       "    var timer = setInterval(function(root) {\n",
       "      if (is_loaded(root)) {\n",
       "        clearInterval(timer);\n",
       "        embed_document(root);\n",
       "      } else if (document.readyState == \"complete\") {\n",
       "        attempts++;\n",
       "        if (attempts > 200) {\n",
       "          clearInterval(timer);\n",
       "\t  var Bokeh = get_bokeh(root)\n",
       "\t  if (Bokeh == null || Bokeh.Panel == null) {\n",
       "            console.warn(\"Panel: ERROR: Unable to run Panel code because Bokeh or Panel library is missing\");\n",
       "\t  } else {\n",
       "\t    console.warn(\"Panel: WARNING: Attempting to render but not all required libraries could be resolved.\")\n",
       "\t    embed_document(root)\n",
       "\t  }\n",
       "        }\n",
       "      }\n",
       "    }, 25, root)\n",
       "  }\n",
       "})(window);</script>"
      ],
      "text/plain": [
       ":Overlay\n",
       "   .Bars.I    :Bars   [post_str_b5]   (percent)\n",
       "   .HLine.I   :HLine   [x,y]\n",
       "   .HLine.II  :HLine   [x,y]\n",
       "   .HLine.III :HLine   [x,y]"
      ]
     },
     "metadata": {
      "application/vnd.holoviews_exec.v0+json": {
       "id": "ffa8215e-6c0c-449a-871e-bd5a8160f223"
      }
     },
     "output_type": "display_data"
    },
    {
     "name": "stdout",
     "output_type": "stream",
     "text": [
      "df_10_last FOR str_b5 = 37\n",
      "Last 3 results last_results=['37', '28', '46']\n"
     ]
    },
    {
     "data": {
      "text/html": [
       "<div><style>\n",
       ".dataframe > thead > tr,\n",
       ".dataframe > tbody > tr {\n",
       "  text-align: right;\n",
       "  white-space: pre-wrap;\n",
       "}\n",
       "</style>\n",
       "<small>shape: (10, 30)</small><table border=\"1\" class=\"dataframe\"><thead><tr><th>fecha</th><th>sorteo</th><th>bolillas</th><th>yapa</th><th>adicionales</th><th>sorteo_extra</th><th>id</th><th>combo</th><th>b1</th><th>b2</th><th>b3</th><th>b4</th><th>b5</th><th>b6</th><th>str_b1</th><th>str_b2</th><th>str_b3</th><th>str_b4</th><th>str_b5</th><th>str_b6</th><th>post_str_b1</th><th>post_str_b2</th><th>post_str_b3</th><th>post_str_b4</th><th>post_str_b5</th><th>post_str_blast</th><th>is_rare_combination</th><th>reason</th><th>jumps_map</th><th>unijump</th></tr><tr><td>str</td><td>str</td><td>str</td><td>str</td><td>str</td><td>str</td><td>str</td><td>array[u8, 6]</td><td>u8</td><td>u8</td><td>u8</td><td>u8</td><td>u8</td><td>u8</td><td>str</td><td>str</td><td>str</td><td>str</td><td>str</td><td>str</td><td>str</td><td>str</td><td>str</td><td>str</td><td>str</td><td>str</td><td>bool</td><td>u8</td><td>str</td><td>i64</td></tr></thead><tbody><tr><td>&quot;26/03/2025&quot;</td><td>&quot;1180&quot;</td><td>&quot;43 01 05 37 35 13&quot;</td><td>&quot;39&quot;</td><td>&quot;38 07 45 16&quot;</td><td>&quot;Promoción Sí o Sí&quot;</td><td>&quot;010513353743&quot;</td><td>[1, 5, … 43]</td><td>1</td><td>5</td><td>13</td><td>35</td><td>37</td><td>43</td><td>&quot;01&quot;</td><td>&quot;05&quot;</td><td>&quot;13&quot;</td><td>&quot;35&quot;</td><td>&quot;37&quot;</td><td>&quot;43&quot;</td><td>&quot;25&quot;</td><td>&quot;28&quot;</td><td>&quot;29&quot;</td><td>&quot;31&quot;</td><td>&quot;46&quot;</td><td>&quot;47&quot;</td><td>true</td><td>19</td><td>&quot;04_08_22_02_06&quot;</td><td>102</td></tr><tr><td>&quot;23/03/2025&quot;</td><td>&quot;1179&quot;</td><td>&quot;24 07 18 03 37 49&quot;</td><td>&quot;43&quot;</td><td>&quot;50 28&quot;</td><td>&quot;Promoción Sí o Sí&quot;</td><td>&quot;030718243749&quot;</td><td>[3, 7, … 49]</td><td>3</td><td>7</td><td>18</td><td>24</td><td>37</td><td>49</td><td>&quot;03&quot;</td><td>&quot;07&quot;</td><td>&quot;18&quot;</td><td>&quot;24&quot;</td><td>&quot;37&quot;</td><td>&quot;49&quot;</td><td>&quot;01&quot;</td><td>&quot;05&quot;</td><td>&quot;13&quot;</td><td>&quot;35&quot;</td><td>&quot;37&quot;</td><td>&quot;43&quot;</td><td>false</td><td>0</td><td>&quot;04_11_06_13_12&quot;</td><td>-44</td></tr><tr><td>&quot;09/10/2024&quot;</td><td>&quot;1132&quot;</td><td>&quot;15 20 48 37 27 23&quot;</td><td>&quot;39&quot;</td><td>&quot;07 38 19&quot;</td><td>&quot;Promoción Sí o Sí&quot;</td><td>&quot;152023273748&quot;</td><td>[15, 20, … 48]</td><td>15</td><td>20</td><td>23</td><td>27</td><td>37</td><td>48</td><td>&quot;15&quot;</td><td>&quot;20&quot;</td><td>&quot;23&quot;</td><td>&quot;27&quot;</td><td>&quot;37&quot;</td><td>&quot;48&quot;</td><td>&quot;05&quot;</td><td>&quot;09&quot;</td><td>&quot;17&quot;</td><td>&quot;21&quot;</td><td>&quot;28&quot;</td><td>&quot;31&quot;</td><td>false</td><td>0</td><td>&quot;05_03_04_10_11&quot;</td><td>-12</td></tr><tr><td>&quot;24/04/2024&quot;</td><td>&quot;1084&quot;</td><td>&quot;43 05 24 37 26 04&quot;</td><td>&quot;46&quot;</td><td>&quot;23 15&quot;</td><td>&quot;Promoción Sí o Sí&quot;</td><td>&quot;040524263743&quot;</td><td>[4, 5, … 43]</td><td>4</td><td>5</td><td>24</td><td>26</td><td>37</td><td>43</td><td>&quot;04&quot;</td><td>&quot;05&quot;</td><td>&quot;24&quot;</td><td>&quot;26&quot;</td><td>&quot;37&quot;</td><td>&quot;43&quot;</td><td>&quot;06&quot;</td><td>&quot;22&quot;</td><td>&quot;25&quot;</td><td>&quot;36&quot;</td><td>&quot;41&quot;</td><td>&quot;43&quot;</td><td>true</td><td>16</td><td>&quot;01_19_02_11_06&quot;</td><td>-101</td></tr><tr><td>&quot;06/03/2024&quot;</td><td>&quot;1070&quot;</td><td>&quot;30 22 04 07 39 37&quot;</td><td>&quot;38&quot;</td><td>&quot;43 02 18&quot;</td><td>&quot;Promoción Sí o Sí&quot;</td><td>&quot;040722303739&quot;</td><td>[4, 7, … 39]</td><td>4</td><td>7</td><td>22</td><td>30</td><td>37</td><td>39</td><td>&quot;04&quot;</td><td>&quot;07&quot;</td><td>&quot;22&quot;</td><td>&quot;30&quot;</td><td>&quot;37&quot;</td><td>&quot;39&quot;</td><td>&quot;12&quot;</td><td>&quot;18&quot;</td><td>&quot;30&quot;</td><td>&quot;32&quot;</td><td>&quot;34&quot;</td><td>&quot;35&quot;</td><td>true</td><td>16</td><td>&quot;03_15_08_07_02&quot;</td><td>-35</td></tr><tr><td>&quot;13/12/2023&quot;</td><td>&quot;1046&quot;</td><td>&quot;10 42 37 02 32 01&quot;</td><td>&quot;25&quot;</td><td>&quot;16 46 04&quot;</td><td>&quot;Promoción Sí o Sí&quot;</td><td>&quot;010210323742&quot;</td><td>[1, 2, … 42]</td><td>1</td><td>2</td><td>10</td><td>32</td><td>37</td><td>42</td><td>&quot;01&quot;</td><td>&quot;02&quot;</td><td>&quot;10&quot;</td><td>&quot;32&quot;</td><td>&quot;37&quot;</td><td>&quot;42&quot;</td><td>&quot;05&quot;</td><td>&quot;10&quot;</td><td>&quot;11&quot;</td><td>&quot;17&quot;</td><td>&quot;22&quot;</td><td>&quot;38&quot;</td><td>true</td><td>8</td><td>&quot;01_08_22_05_05&quot;</td><td>86</td></tr><tr><td>&quot;16/08/2023&quot;</td><td>&quot;1012&quot;</td><td>&quot;37 19 13 26 45 02&quot;</td><td>&quot;32&quot;</td><td>&quot;25 33 38&quot;</td><td>&quot;Promoción Sí o Sí&quot;</td><td>&quot;021319263745&quot;</td><td>[2, 13, … 45]</td><td>2</td><td>13</td><td>19</td><td>26</td><td>37</td><td>45</td><td>&quot;02&quot;</td><td>&quot;13&quot;</td><td>&quot;19&quot;</td><td>&quot;26&quot;</td><td>&quot;37&quot;</td><td>&quot;45&quot;</td><td>&quot;06&quot;</td><td>&quot;07&quot;</td><td>&quot;25&quot;</td><td>&quot;27&quot;</td><td>&quot;34&quot;</td><td>&quot;43&quot;</td><td>true</td><td>1</td><td>&quot;11_06_07_11_08&quot;</td><td>-7</td></tr><tr><td>&quot;05/02/2023&quot;</td><td>&quot;0957&quot;</td><td>&quot;30 23 37 26 22 39&quot;</td><td>&quot;21&quot;</td><td>&quot;29 27&quot;</td><td>&quot;Promoción Sí o Sí&quot;</td><td>&quot;222326303739&quot;</td><td>[22, 23, … 39]</td><td>22</td><td>23</td><td>26</td><td>30</td><td>37</td><td>39</td><td>&quot;22&quot;</td><td>&quot;23&quot;</td><td>&quot;26&quot;</td><td>&quot;30&quot;</td><td>&quot;37&quot;</td><td>&quot;39&quot;</td><td>&quot;09&quot;</td><td>&quot;14&quot;</td><td>&quot;16&quot;</td><td>&quot;27&quot;</td><td>&quot;31&quot;</td><td>&quot;45&quot;</td><td>true</td><td>16</td><td>&quot;01_03_04_07_02&quot;</td><td>-13</td></tr><tr><td>&quot;27/11/2022&quot;</td><td>&quot;0937&quot;</td><td>&quot;37 36 20 01 11 38&quot;</td><td>&quot;35&quot;</td><td>&quot;16 39 27&quot;</td><td>&quot;Promoción Sí o Sí&quot;</td><td>&quot;011120363738&quot;</td><td>[1, 11, … 38]</td><td>1</td><td>11</td><td>20</td><td>36</td><td>37</td><td>38</td><td>&quot;01&quot;</td><td>&quot;11&quot;</td><td>&quot;20&quot;</td><td>&quot;36&quot;</td><td>&quot;37&quot;</td><td>&quot;38&quot;</td><td>&quot;01&quot;</td><td>&quot;05&quot;</td><td>&quot;09&quot;</td><td>&quot;17&quot;</td><td>&quot;33&quot;</td><td>&quot;41&quot;</td><td>true</td><td>8</td><td>&quot;10_09_16_01_01&quot;</td><td>67</td></tr><tr><td>&quot;23/11/2022&quot;</td><td>&quot;0936&quot;</td><td>&quot;33 27 37 45 14 01&quot;</td><td>&quot;06&quot;</td><td>&quot;23 11 31&quot;</td><td>&quot;Promoción Sí o Sí&quot;</td><td>&quot;011427333745&quot;</td><td>[1, 14, … 45]</td><td>1</td><td>14</td><td>27</td><td>33</td><td>37</td><td>45</td><td>&quot;01&quot;</td><td>&quot;14&quot;</td><td>&quot;27&quot;</td><td>&quot;33&quot;</td><td>&quot;37&quot;</td><td>&quot;45&quot;</td><td>&quot;01&quot;</td><td>&quot;11&quot;</td><td>&quot;20&quot;</td><td>&quot;36&quot;</td><td>&quot;37&quot;</td><td>&quot;38&quot;</td><td>true</td><td>8</td><td>&quot;13_13_06_04_08&quot;</td><td>-11</td></tr></tbody></table></div>"
      ],
      "text/plain": [
       "shape: (10, 30)\n",
       "┌────────────┬────────┬───────────────┬──────┬───┬───────────────┬────────┬──────────────┬─────────┐\n",
       "│ fecha      ┆ sorteo ┆ bolillas      ┆ yapa ┆ … ┆ is_rare_combi ┆ reason ┆ jumps_map    ┆ unijump │\n",
       "│ ---        ┆ ---    ┆ ---           ┆ ---  ┆   ┆ nation        ┆ ---    ┆ ---          ┆ ---     │\n",
       "│ str        ┆ str    ┆ str           ┆ str  ┆   ┆ ---           ┆ u8     ┆ str          ┆ i64     │\n",
       "│            ┆        ┆               ┆      ┆   ┆ bool          ┆        ┆              ┆         │\n",
       "╞════════════╪════════╪═══════════════╪══════╪═══╪═══════════════╪════════╪══════════════╪═════════╡\n",
       "│ 26/03/2025 ┆ 1180   ┆ 43 01 05 37   ┆ 39   ┆ … ┆ true          ┆ 19     ┆ 04_08_22_02_ ┆ 102     │\n",
       "│            ┆        ┆ 35 13         ┆      ┆   ┆               ┆        ┆ 06           ┆         │\n",
       "│ 23/03/2025 ┆ 1179   ┆ 24 07 18 03   ┆ 43   ┆ … ┆ false         ┆ 0      ┆ 04_11_06_13_ ┆ -44     │\n",
       "│            ┆        ┆ 37 49         ┆      ┆   ┆               ┆        ┆ 12           ┆         │\n",
       "│ 09/10/2024 ┆ 1132   ┆ 15 20 48 37   ┆ 39   ┆ … ┆ false         ┆ 0      ┆ 05_03_04_10_ ┆ -12     │\n",
       "│            ┆        ┆ 27 23         ┆      ┆   ┆               ┆        ┆ 11           ┆         │\n",
       "│ 24/04/2024 ┆ 1084   ┆ 43 05 24 37   ┆ 46   ┆ … ┆ true          ┆ 16     ┆ 01_19_02_11_ ┆ -101    │\n",
       "│            ┆        ┆ 26 04         ┆      ┆   ┆               ┆        ┆ 06           ┆         │\n",
       "│ 06/03/2024 ┆ 1070   ┆ 30 22 04 07   ┆ 38   ┆ … ┆ true          ┆ 16     ┆ 03_15_08_07_ ┆ -35     │\n",
       "│            ┆        ┆ 39 37         ┆      ┆   ┆               ┆        ┆ 02           ┆         │\n",
       "│ 13/12/2023 ┆ 1046   ┆ 10 42 37 02   ┆ 25   ┆ … ┆ true          ┆ 8      ┆ 01_08_22_05_ ┆ 86      │\n",
       "│            ┆        ┆ 32 01         ┆      ┆   ┆               ┆        ┆ 05           ┆         │\n",
       "│ 16/08/2023 ┆ 1012   ┆ 37 19 13 26   ┆ 32   ┆ … ┆ true          ┆ 1      ┆ 11_06_07_11_ ┆ -7      │\n",
       "│            ┆        ┆ 45 02         ┆      ┆   ┆               ┆        ┆ 08           ┆         │\n",
       "│ 05/02/2023 ┆ 0957   ┆ 30 23 37 26   ┆ 21   ┆ … ┆ true          ┆ 16     ┆ 01_03_04_07_ ┆ -13     │\n",
       "│            ┆        ┆ 22 39         ┆      ┆   ┆               ┆        ┆ 02           ┆         │\n",
       "│ 27/11/2022 ┆ 0937   ┆ 37 36 20 01   ┆ 35   ┆ … ┆ true          ┆ 8      ┆ 10_09_16_01_ ┆ 67      │\n",
       "│            ┆        ┆ 11 38         ┆      ┆   ┆               ┆        ┆ 01           ┆         │\n",
       "│ 23/11/2022 ┆ 0936   ┆ 33 27 37 45   ┆ 06   ┆ … ┆ true          ┆ 8      ┆ 13_13_06_04_ ┆ -11     │\n",
       "│            ┆        ┆ 14 01         ┆      ┆   ┆               ┆        ┆ 08           ┆         │\n",
       "└────────────┴────────┴───────────────┴──────┴───┴───────────────┴────────┴──────────────┴─────────┘"
      ]
     },
     "metadata": {},
     "output_type": "display_data"
    },
    {
     "name": "stdout",
     "output_type": "stream",
     "text": [
      "df_jumps_map FOR str_b5 = 37\n"
     ]
    },
    {
     "data": {
      "text/html": [
       "<div><style>\n",
       ".dataframe > thead > tr,\n",
       ".dataframe > tbody > tr {\n",
       "  text-align: right;\n",
       "  white-space: pre-wrap;\n",
       "}\n",
       "</style>\n",
       "<small>shape: (143, 2)</small><table border=\"1\" class=\"dataframe\"><thead><tr><th>jumps_map</th><th>count</th></tr><tr><td>str</td><td>u32</td></tr></thead><tbody><tr><td>&quot;02_17_10_03_02&quot;</td><td>1</td></tr><tr><td>&quot;13_03_04_07_03&quot;</td><td>1</td></tr><tr><td>&quot;03_03_03_05_06&quot;</td><td>1</td></tr><tr><td>&quot;02_01_13_18_03&quot;</td><td>1</td></tr><tr><td>&quot;06_05_07_01_07&quot;</td><td>1</td></tr><tr><td>&hellip;</td><td>&hellip;</td></tr><tr><td>&quot;11_01_04_09_05&quot;</td><td>1</td></tr><tr><td>&quot;04_11_06_13_12&quot;</td><td>1</td></tr><tr><td>&quot;02_12_15_06_06&quot;</td><td>1</td></tr><tr><td>&quot;10_02_10_01_05&quot;</td><td>1</td></tr><tr><td>&quot;10_09_16_01_01&quot;</td><td>1</td></tr></tbody></table></div>"
      ],
      "text/plain": [
       "shape: (143, 2)\n",
       "┌────────────────┬───────┐\n",
       "│ jumps_map      ┆ count │\n",
       "│ ---            ┆ ---   │\n",
       "│ str            ┆ u32   │\n",
       "╞════════════════╪═══════╡\n",
       "│ 02_17_10_03_02 ┆ 1     │\n",
       "│ 13_03_04_07_03 ┆ 1     │\n",
       "│ 03_03_03_05_06 ┆ 1     │\n",
       "│ 02_01_13_18_03 ┆ 1     │\n",
       "│ 06_05_07_01_07 ┆ 1     │\n",
       "│ …              ┆ …     │\n",
       "│ 11_01_04_09_05 ┆ 1     │\n",
       "│ 04_11_06_13_12 ┆ 1     │\n",
       "│ 02_12_15_06_06 ┆ 1     │\n",
       "│ 10_02_10_01_05 ┆ 1     │\n",
       "│ 10_09_16_01_01 ┆ 1     │\n",
       "└────────────────┴───────┘"
      ]
     },
     "metadata": {},
     "output_type": "display_data"
    },
    {
     "name": "stdout",
     "output_type": "stream",
     "text": [
      "df_unijump FOR str_b5 = 37\n"
     ]
    },
    {
     "data": {
      "text/html": [
       "<div><style>\n",
       ".dataframe > thead > tr,\n",
       ".dataframe > tbody > tr {\n",
       "  text-align: right;\n",
       "  white-space: pre-wrap;\n",
       "}\n",
       "</style>\n",
       "<small>shape: (96, 2)</small><table border=\"1\" class=\"dataframe\"><thead><tr><th>unijump</th><th>count</th></tr><tr><td>i64</td><td>u32</td></tr></thead><tbody><tr><td>0</td><td>6</td></tr><tr><td>-59</td><td>4</td></tr><tr><td>-41</td><td>3</td></tr><tr><td>-1</td><td>3</td></tr><tr><td>-5</td><td>3</td></tr><tr><td>&hellip;</td><td>&hellip;</td></tr><tr><td>31</td><td>1</td></tr><tr><td>-45</td><td>1</td></tr><tr><td>115</td><td>1</td></tr><tr><td>86</td><td>1</td></tr><tr><td>-28</td><td>1</td></tr></tbody></table></div>"
      ],
      "text/plain": [
       "shape: (96, 2)\n",
       "┌─────────┬───────┐\n",
       "│ unijump ┆ count │\n",
       "│ ---     ┆ ---   │\n",
       "│ i64     ┆ u32   │\n",
       "╞═════════╪═══════╡\n",
       "│ 0       ┆ 6     │\n",
       "│ -59     ┆ 4     │\n",
       "│ -41     ┆ 3     │\n",
       "│ -1      ┆ 3     │\n",
       "│ -5      ┆ 3     │\n",
       "│ …       ┆ …     │\n",
       "│ 31      ┆ 1     │\n",
       "│ -45     ┆ 1     │\n",
       "│ 115     ┆ 1     │\n",
       "│ 86      ┆ 1     │\n",
       "│ -28     ┆ 1     │\n",
       "└─────────┴───────┘"
      ]
     },
     "metadata": {},
     "output_type": "display_data"
    }
   ],
   "source": [
    "possible_b5, exclude_jump_maps_b5, last_post_b5 = plot_post_col(col='str_b5', post_col='post_str_b5')"
   ]
  },
  {
   "cell_type": "code",
   "execution_count": 14,
   "metadata": {},
   "outputs": [
    {
     "name": "stdout",
     "output_type": "stream",
     "text": [
      "Setting test_value='47'\n",
      "df_viz FOR str_b6 = 47\n"
     ]
    },
    {
     "data": {
      "text/html": [
       "<div><style>\n",
       ".dataframe > thead > tr,\n",
       ".dataframe > tbody > tr {\n",
       "  text-align: right;\n",
       "  white-space: pre-wrap;\n",
       "}\n",
       "</style>\n",
       "<small>shape: (14, 3)</small><table border=\"1\" class=\"dataframe\"><thead><tr><th>post_str_blast</th><th>count</th><th>percent</th></tr><tr><td>str</td><td>u32</td><td>f64</td></tr></thead><tbody><tr><td>&quot;47&quot;</td><td>5</td><td>17.857143</td></tr><tr><td>&quot;42&quot;</td><td>4</td><td>14.285714</td></tr><tr><td>&quot;44&quot;</td><td>3</td><td>10.714286</td></tr><tr><td>&quot;50&quot;</td><td>3</td><td>10.714286</td></tr><tr><td>&quot;49&quot;</td><td>2</td><td>7.142857</td></tr><tr><td>&hellip;</td><td>&hellip;</td><td>&hellip;</td></tr><tr><td>&quot;48&quot;</td><td>1</td><td>3.571429</td></tr><tr><td>&quot;41&quot;</td><td>1</td><td>3.571429</td></tr><tr><td>&quot;35&quot;</td><td>1</td><td>3.571429</td></tr><tr><td>&quot;39&quot;</td><td>1</td><td>3.571429</td></tr><tr><td>&quot;40&quot;</td><td>1</td><td>3.571429</td></tr></tbody></table></div>"
      ],
      "text/plain": [
       "shape: (14, 3)\n",
       "┌────────────────┬───────┬───────────┐\n",
       "│ post_str_blast ┆ count ┆ percent   │\n",
       "│ ---            ┆ ---   ┆ ---       │\n",
       "│ str            ┆ u32   ┆ f64       │\n",
       "╞════════════════╪═══════╪═══════════╡\n",
       "│ 47             ┆ 5     ┆ 17.857143 │\n",
       "│ 42             ┆ 4     ┆ 14.285714 │\n",
       "│ 44             ┆ 3     ┆ 10.714286 │\n",
       "│ 50             ┆ 3     ┆ 10.714286 │\n",
       "│ 49             ┆ 2     ┆ 7.142857  │\n",
       "│ …              ┆ …     ┆ …         │\n",
       "│ 48             ┆ 1     ┆ 3.571429  │\n",
       "│ 41             ┆ 1     ┆ 3.571429  │\n",
       "│ 35             ┆ 1     ┆ 3.571429  │\n",
       "│ 39             ┆ 1     ┆ 3.571429  │\n",
       "│ 40             ┆ 1     ┆ 3.571429  │\n",
       "└────────────────┴───────┴───────────┘"
      ]
     },
     "metadata": {},
     "output_type": "display_data"
    },
    {
     "data": {},
     "metadata": {},
     "output_type": "display_data"
    },
    {
     "data": {
      "application/vnd.holoviews_exec.v0+json": "",
      "text/html": [
       "<div id='49367c21-285e-4953-9e11-d99becf28c55'>\n",
       "  <div id=\"f96c1ee0-725c-4f80-843e-3a26b2722840\" data-root-id=\"49367c21-285e-4953-9e11-d99becf28c55\" style=\"display: contents;\"></div>\n",
       "</div>\n",
       "<script type=\"application/javascript\">(function(root) {\n",
       "  var docs_json = {\"7196d0bc-2451-4794-9969-653317c7f111\":{\"version\":\"3.7.2\",\"title\":\"Bokeh Application\",\"roots\":[{\"type\":\"object\",\"name\":\"Row\",\"id\":\"49367c21-285e-4953-9e11-d99becf28c55\",\"attributes\":{\"name\":\"Row00641\",\"tags\":[\"embedded\"],\"stylesheets\":[\"\\n:host(.pn-loading):before, .pn-loading:before {\\n  background-color: #c3c3c3;\\n  mask-size: auto calc(min(50%, 400px));\\n  -webkit-mask-size: auto calc(min(50%, 400px));\\n}\",{\"type\":\"object\",\"name\":\"ImportedStyleSheet\",\"id\":\"9e49873e-da49-42a6-ab64-49397368d2a4\",\"attributes\":{\"url\":\"https://cdn.holoviz.org/panel/1.6.2/dist/css/loading.css\"}},{\"type\":\"object\",\"name\":\"ImportedStyleSheet\",\"id\":\"6120d6e3-3399-4ec6-9927-8c5e0392648f\",\"attributes\":{\"url\":\"https://cdn.holoviz.org/panel/1.6.2/dist/css/listpanel.css\"}},{\"type\":\"object\",\"name\":\"ImportedStyleSheet\",\"id\":\"bcf37c53-db2b-42d5-9b48-4ef43ee8bfd6\",\"attributes\":{\"url\":\"https://cdn.holoviz.org/panel/1.6.2/dist/bundled/theme/default.css\"}},{\"type\":\"object\",\"name\":\"ImportedStyleSheet\",\"id\":\"b98f5b67-317f-42f3-8a8f-731f9a180af6\",\"attributes\":{\"url\":\"https://cdn.holoviz.org/panel/1.6.2/dist/bundled/theme/native.css\"}}],\"min_width\":700,\"margin\":0,\"sizing_mode\":\"stretch_width\",\"align\":\"start\",\"children\":[{\"type\":\"object\",\"name\":\"Spacer\",\"id\":\"21656f0d-fe4c-4224-b040-52e70d710106\",\"attributes\":{\"name\":\"HSpacer00645\",\"stylesheets\":[\"\\n:host(.pn-loading):before, .pn-loading:before {\\n  background-color: #c3c3c3;\\n  mask-size: auto calc(min(50%, 400px));\\n  -webkit-mask-size: auto calc(min(50%, 400px));\\n}\",{\"id\":\"9e49873e-da49-42a6-ab64-49397368d2a4\"},{\"id\":\"bcf37c53-db2b-42d5-9b48-4ef43ee8bfd6\"},{\"id\":\"b98f5b67-317f-42f3-8a8f-731f9a180af6\"}],\"margin\":0,\"sizing_mode\":\"stretch_width\",\"align\":\"start\"}},{\"type\":\"object\",\"name\":\"Figure\",\"id\":\"54531b88-9463-4190-a5ca-bbc12820053c\",\"attributes\":{\"width\":700,\"height\":300,\"margin\":[5,10],\"sizing_mode\":\"fixed\",\"align\":\"start\",\"x_range\":{\"type\":\"object\",\"name\":\"FactorRange\",\"id\":\"582511f0-0def-41dc-a41a-bb810f122ea8\",\"attributes\":{\"name\":\"post_str_blast\",\"tags\":[[[\"post_str_blast\",null]],[]],\"factors\":[\"47\",\"42\",\"44\",\"50\",\"49\",\"38\",\"46\",\"45\",\"36\",\"48\",\"41\",\"35\",\"39\",\"40\"]}},\"y_range\":{\"type\":\"object\",\"name\":\"Range1d\",\"id\":\"7840041a-1c53-4194-bcbe-a90af5e7e2ab\",\"attributes\":{\"name\":\"percent\",\"tags\":[[[\"percent\",null]],{\"type\":\"map\",\"entries\":[[\"invert_yaxis\",false],[\"autorange\",false]]}],\"end\":19.28571428571428,\"reset_start\":0.0,\"reset_end\":19.28571428571428}},\"x_scale\":{\"type\":\"object\",\"name\":\"CategoricalScale\",\"id\":\"968da355-9c26-42c6-8700-00b757549bea\"},\"y_scale\":{\"type\":\"object\",\"name\":\"LinearScale\",\"id\":\"8adb23d0-66f0-447f-8f57-adf4ddb61da1\"},\"title\":{\"type\":\"object\",\"name\":\"Title\",\"id\":\"8f9d77a2-b5a6-470f-ad62-e31e5b2b6cc5\",\"attributes\":{\"text_color\":\"black\",\"text_font_size\":\"12pt\"}},\"renderers\":[{\"type\":\"object\",\"name\":\"GlyphRenderer\",\"id\":\"662ecb01-01b1-41ff-8bab-c1830fd6c541\",\"attributes\":{\"data_source\":{\"type\":\"object\",\"name\":\"ColumnDataSource\",\"id\":\"2b6e067a-307d-4f25-8df2-4db31e6e7ff0\",\"attributes\":{\"selected\":{\"type\":\"object\",\"name\":\"Selection\",\"id\":\"149c65d6-6720-486e-bf85-70c57eead0e8\",\"attributes\":{\"indices\":[],\"line_indices\":[]}},\"selection_policy\":{\"type\":\"object\",\"name\":\"UnionRenderers\",\"id\":\"1e8bc2f9-1b48-4171-ae6c-1854cf8431bc\"},\"data\":{\"type\":\"map\",\"entries\":[[\"post_str_blast\",[\"47\",\"42\",\"44\",\"50\",\"49\",\"38\",\"46\",\"45\",\"36\",\"48\",\"41\",\"35\",\"39\",\"40\"]],[\"percent\",{\"type\":\"ndarray\",\"array\":{\"type\":\"bytes\",\"data\":\"tm3btm3bMUAkSZIkSZIsQNu2bdu2bSVA27Zt27ZtJUAkSZIkSZIcQCRJkiRJkhxAJEmSJEmSHEAkSZIkSZIMQCRJkiRJkgxAJEmSJEmSDEAkSZIkSZIMQCRJkiRJkgxAJEmSJEmSDEAkSZIkSZIMQA==\"},\"shape\":[14],\"dtype\":\"float64\",\"order\":\"little\"}]]}}},\"view\":{\"type\":\"object\",\"name\":\"CDSView\",\"id\":\"1c76114c-544f-4f44-9138-d4a1fc15cb9b\",\"attributes\":{\"filter\":{\"type\":\"object\",\"name\":\"AllIndices\",\"id\":\"4ce54326-0c6f-4459-89cd-d8f0764d6d60\"}}},\"glyph\":{\"type\":\"object\",\"name\":\"VBar\",\"id\":\"6d1d3811-789a-40ee-beb8-532aa2d1fb78\",\"attributes\":{\"tags\":[\"apply_ranges\"],\"x\":{\"type\":\"field\",\"field\":\"post_str_blast\"},\"width\":{\"type\":\"value\",\"value\":0.8},\"top\":{\"type\":\"field\",\"field\":\"percent\"},\"fill_color\":{\"type\":\"value\",\"value\":\"#30a2da\"},\"hatch_color\":{\"type\":\"value\",\"value\":\"#30a2da\"}}},\"selection_glyph\":{\"type\":\"object\",\"name\":\"VBar\",\"id\":\"db3daa56-fa47-4d91-81fe-a0567037d4f8\",\"attributes\":{\"tags\":[\"apply_ranges\"],\"x\":{\"type\":\"field\",\"field\":\"post_str_blast\"},\"width\":{\"type\":\"value\",\"value\":0.8},\"bottom\":{\"type\":\"value\",\"value\":0},\"top\":{\"type\":\"field\",\"field\":\"percent\"},\"line_color\":{\"type\":\"value\",\"value\":\"black\"},\"line_alpha\":{\"type\":\"value\",\"value\":1.0},\"line_width\":{\"type\":\"value\",\"value\":1},\"line_join\":{\"type\":\"value\",\"value\":\"bevel\"},\"line_cap\":{\"type\":\"value\",\"value\":\"butt\"},\"line_dash\":{\"type\":\"value\",\"value\":[]},\"line_dash_offset\":{\"type\":\"value\",\"value\":0},\"fill_color\":{\"type\":\"value\",\"value\":\"#30a2da\"},\"fill_alpha\":{\"type\":\"value\",\"value\":1.0},\"hatch_color\":{\"type\":\"value\",\"value\":\"#30a2da\"},\"hatch_alpha\":{\"type\":\"value\",\"value\":1.0},\"hatch_scale\":{\"type\":\"value\",\"value\":12.0},\"hatch_pattern\":{\"type\":\"value\",\"value\":null},\"hatch_weight\":{\"type\":\"value\",\"value\":1.0}}},\"nonselection_glyph\":{\"type\":\"object\",\"name\":\"VBar\",\"id\":\"bddd3dc0-625e-4f76-ad5d-cd39365dc44f\",\"attributes\":{\"tags\":[\"apply_ranges\"],\"x\":{\"type\":\"field\",\"field\":\"post_str_blast\"},\"width\":{\"type\":\"value\",\"value\":0.8},\"top\":{\"type\":\"field\",\"field\":\"percent\"},\"line_alpha\":{\"type\":\"value\",\"value\":0.1},\"fill_color\":{\"type\":\"value\",\"value\":\"#30a2da\"},\"fill_alpha\":{\"type\":\"value\",\"value\":0.1},\"hatch_color\":{\"type\":\"value\",\"value\":\"#30a2da\"},\"hatch_alpha\":{\"type\":\"value\",\"value\":0.1}}},\"muted_glyph\":{\"type\":\"object\",\"name\":\"VBar\",\"id\":\"57cdd80d-3166-429f-9e72-926ee2e7f4a9\",\"attributes\":{\"tags\":[\"apply_ranges\"],\"x\":{\"type\":\"field\",\"field\":\"post_str_blast\"},\"width\":{\"type\":\"value\",\"value\":0.8},\"top\":{\"type\":\"field\",\"field\":\"percent\"},\"line_alpha\":{\"type\":\"value\",\"value\":0.2},\"fill_color\":{\"type\":\"value\",\"value\":\"#30a2da\"},\"fill_alpha\":{\"type\":\"value\",\"value\":0.2},\"hatch_color\":{\"type\":\"value\",\"value\":\"#30a2da\"},\"hatch_alpha\":{\"type\":\"value\",\"value\":0.2}}}}},{\"type\":\"object\",\"name\":\"Span\",\"id\":\"4804c1eb-5060-4848-a226-f2982f762f2d\",\"attributes\":{\"level\":\"glyph\",\"location\":7.142857142857141,\"line_color\":\"red\",\"line_width\":3}},{\"type\":\"object\",\"name\":\"Span\",\"id\":\"b45b9bdf-6fde-4609-be40-79ee90ed6d76\",\"attributes\":{\"level\":\"glyph\",\"location\":10.714285714285712,\"line_color\":\"blue\",\"line_width\":3}},{\"type\":\"object\",\"name\":\"Span\",\"id\":\"33752229-15b4-4ec9-b9ee-b9bd7590faf0\",\"attributes\":{\"level\":\"glyph\",\"location\":3.5714285714285707,\"line_color\":\"blue\",\"line_width\":3}}],\"toolbar\":{\"type\":\"object\",\"name\":\"Toolbar\",\"id\":\"2278b5ad-efdf-49b1-ab33-9b35a8fbafe8\",\"attributes\":{\"tools\":[{\"type\":\"object\",\"name\":\"WheelZoomTool\",\"id\":\"40730bd1-be8a-4271-a331-65cc2acdd4e7\",\"attributes\":{\"tags\":[\"hv_created\"],\"renderers\":\"auto\",\"zoom_together\":\"none\"}},{\"type\":\"object\",\"name\":\"HoverTool\",\"id\":\"0b6cfff7-1f3f-4eda-ad43-38675d2cb4c8\",\"attributes\":{\"tags\":[\"hv_created\"],\"renderers\":[{\"id\":\"662ecb01-01b1-41ff-8bab-c1830fd6c541\"}],\"tooltips\":[[\"post_str_blast\",\"@{post_str_blast}\"],[\"percent\",\"@{percent}\"]]}},{\"type\":\"object\",\"name\":\"SaveTool\",\"id\":\"c4146f69-9178-4169-a74d-ad1d017f6f94\"},{\"type\":\"object\",\"name\":\"PanTool\",\"id\":\"e8c05d60-8d0b-46c5-bb2c-286b1549bbf5\"},{\"type\":\"object\",\"name\":\"BoxZoomTool\",\"id\":\"0b980379-e2cd-4e9e-9d10-c4c44b8f1412\",\"attributes\":{\"dimensions\":\"both\",\"overlay\":{\"type\":\"object\",\"name\":\"BoxAnnotation\",\"id\":\"e99d7d85-8521-4fa1-9d9d-827875078239\",\"attributes\":{\"syncable\":false,\"line_color\":\"black\",\"line_alpha\":1.0,\"line_width\":2,\"line_dash\":[4,4],\"fill_color\":\"lightgrey\",\"fill_alpha\":0.5,\"level\":\"overlay\",\"visible\":false,\"left\":{\"type\":\"number\",\"value\":\"nan\"},\"right\":{\"type\":\"number\",\"value\":\"nan\"},\"top\":{\"type\":\"number\",\"value\":\"nan\"},\"bottom\":{\"type\":\"number\",\"value\":\"nan\"},\"left_units\":\"canvas\",\"right_units\":\"canvas\",\"top_units\":\"canvas\",\"bottom_units\":\"canvas\",\"handles\":{\"type\":\"object\",\"name\":\"BoxInteractionHandles\",\"id\":\"391d1a12-4c9a-43b9-a801-6c4509fde8f4\",\"attributes\":{\"all\":{\"type\":\"object\",\"name\":\"AreaVisuals\",\"id\":\"f6fae96d-3172-4115-a3fb-e33459e8b30a\",\"attributes\":{\"fill_color\":\"white\",\"hover_fill_color\":\"lightgray\"}}}}}}}},{\"type\":\"object\",\"name\":\"ResetTool\",\"id\":\"792faa7c-c184-4177-a54b-7152ffe8e934\"}],\"active_drag\":{\"id\":\"e8c05d60-8d0b-46c5-bb2c-286b1549bbf5\"}}},\"left\":[{\"type\":\"object\",\"name\":\"LinearAxis\",\"id\":\"42c07da0-20e0-4ec1-8ae5-9ae5493c268f\",\"attributes\":{\"ticker\":{\"type\":\"object\",\"name\":\"BasicTicker\",\"id\":\"d26cd5ab-d9bb-4372-9282-e46e447862d5\",\"attributes\":{\"mantissas\":[1,2,5]}},\"formatter\":{\"type\":\"object\",\"name\":\"BasicTickFormatter\",\"id\":\"105e7335-8efd-4f0e-9ab1-7caef296be3c\"},\"axis_label\":\"percent\",\"major_label_policy\":{\"type\":\"object\",\"name\":\"AllLabels\",\"id\":\"03b1b737-b447-44b6-8155-3071ea7b01b4\"}}}],\"below\":[{\"type\":\"object\",\"name\":\"CategoricalAxis\",\"id\":\"880cb7db-5a7e-43a7-aaba-41e4600554a8\",\"attributes\":{\"ticker\":{\"type\":\"object\",\"name\":\"CategoricalTicker\",\"id\":\"2bad87d0-7137-4aeb-a3f1-db9c4d3d7e05\"},\"formatter\":{\"type\":\"object\",\"name\":\"CategoricalTickFormatter\",\"id\":\"8672a94b-9e1a-4b84-a0b6-c1946e1429fe\"},\"axis_label\":\"post_str_blast\",\"major_label_policy\":{\"type\":\"object\",\"name\":\"AllLabels\",\"id\":\"81f1c3ab-32da-4d9c-af29-2087ff80972e\"}}}],\"center\":[{\"type\":\"object\",\"name\":\"Grid\",\"id\":\"33da14fe-3e53-4420-85b8-f7c9b0e8c962\",\"attributes\":{\"axis\":{\"id\":\"880cb7db-5a7e-43a7-aaba-41e4600554a8\"},\"grid_line_color\":null}},{\"type\":\"object\",\"name\":\"Grid\",\"id\":\"34e8f568-5ebc-4aec-b0d5-48f357e90707\",\"attributes\":{\"dimension\":1,\"axis\":{\"id\":\"42c07da0-20e0-4ec1-8ae5-9ae5493c268f\"},\"grid_line_color\":null}}],\"min_border_top\":10,\"min_border_bottom\":10,\"min_border_left\":10,\"min_border_right\":10,\"output_backend\":\"webgl\"}},{\"type\":\"object\",\"name\":\"Spacer\",\"id\":\"37812d2b-002f-4e73-9aa3-7f4b2250ec5e\",\"attributes\":{\"name\":\"HSpacer00646\",\"stylesheets\":[\"\\n:host(.pn-loading):before, .pn-loading:before {\\n  background-color: #c3c3c3;\\n  mask-size: auto calc(min(50%, 400px));\\n  -webkit-mask-size: auto calc(min(50%, 400px));\\n}\",{\"id\":\"9e49873e-da49-42a6-ab64-49397368d2a4\"},{\"id\":\"bcf37c53-db2b-42d5-9b48-4ef43ee8bfd6\"},{\"id\":\"b98f5b67-317f-42f3-8a8f-731f9a180af6\"}],\"margin\":0,\"sizing_mode\":\"stretch_width\",\"align\":\"start\"}}]}}],\"defs\":[{\"type\":\"model\",\"name\":\"ReactiveHTML1\"},{\"type\":\"model\",\"name\":\"FlexBox1\",\"properties\":[{\"name\":\"align_content\",\"kind\":\"Any\",\"default\":\"flex-start\"},{\"name\":\"align_items\",\"kind\":\"Any\",\"default\":\"flex-start\"},{\"name\":\"flex_direction\",\"kind\":\"Any\",\"default\":\"row\"},{\"name\":\"flex_wrap\",\"kind\":\"Any\",\"default\":\"wrap\"},{\"name\":\"gap\",\"kind\":\"Any\",\"default\":\"\"},{\"name\":\"justify_content\",\"kind\":\"Any\",\"default\":\"flex-start\"}]},{\"type\":\"model\",\"name\":\"FloatPanel1\",\"properties\":[{\"name\":\"config\",\"kind\":\"Any\",\"default\":{\"type\":\"map\"}},{\"name\":\"contained\",\"kind\":\"Any\",\"default\":true},{\"name\":\"position\",\"kind\":\"Any\",\"default\":\"right-top\"},{\"name\":\"offsetx\",\"kind\":\"Any\",\"default\":null},{\"name\":\"offsety\",\"kind\":\"Any\",\"default\":null},{\"name\":\"theme\",\"kind\":\"Any\",\"default\":\"primary\"},{\"name\":\"status\",\"kind\":\"Any\",\"default\":\"normalized\"}]},{\"type\":\"model\",\"name\":\"GridStack1\",\"properties\":[{\"name\":\"ncols\",\"kind\":\"Any\",\"default\":null},{\"name\":\"nrows\",\"kind\":\"Any\",\"default\":null},{\"name\":\"allow_resize\",\"kind\":\"Any\",\"default\":true},{\"name\":\"allow_drag\",\"kind\":\"Any\",\"default\":true},{\"name\":\"state\",\"kind\":\"Any\",\"default\":[]}]},{\"type\":\"model\",\"name\":\"drag1\",\"properties\":[{\"name\":\"slider_width\",\"kind\":\"Any\",\"default\":5},{\"name\":\"slider_color\",\"kind\":\"Any\",\"default\":\"black\"},{\"name\":\"value\",\"kind\":\"Any\",\"default\":50}]},{\"type\":\"model\",\"name\":\"click1\",\"properties\":[{\"name\":\"terminal_output\",\"kind\":\"Any\",\"default\":\"\"},{\"name\":\"debug_name\",\"kind\":\"Any\",\"default\":\"\"},{\"name\":\"clears\",\"kind\":\"Any\",\"default\":0}]},{\"type\":\"model\",\"name\":\"FastWrapper1\",\"properties\":[{\"name\":\"object\",\"kind\":\"Any\",\"default\":null},{\"name\":\"style\",\"kind\":\"Any\",\"default\":null}]},{\"type\":\"model\",\"name\":\"NotificationArea1\",\"properties\":[{\"name\":\"js_events\",\"kind\":\"Any\",\"default\":{\"type\":\"map\"}},{\"name\":\"max_notifications\",\"kind\":\"Any\",\"default\":5},{\"name\":\"notifications\",\"kind\":\"Any\",\"default\":[]},{\"name\":\"position\",\"kind\":\"Any\",\"default\":\"bottom-right\"},{\"name\":\"_clear\",\"kind\":\"Any\",\"default\":0},{\"name\":\"types\",\"kind\":\"Any\",\"default\":[{\"type\":\"map\",\"entries\":[[\"type\",\"warning\"],[\"background\",\"#ffc107\"],[\"icon\",{\"type\":\"map\",\"entries\":[[\"className\",\"fas fa-exclamation-triangle\"],[\"tagName\",\"i\"],[\"color\",\"white\"]]}]]},{\"type\":\"map\",\"entries\":[[\"type\",\"info\"],[\"background\",\"#007bff\"],[\"icon\",{\"type\":\"map\",\"entries\":[[\"className\",\"fas fa-info-circle\"],[\"tagName\",\"i\"],[\"color\",\"white\"]]}]]}]}]},{\"type\":\"model\",\"name\":\"Notification\",\"properties\":[{\"name\":\"background\",\"kind\":\"Any\",\"default\":null},{\"name\":\"duration\",\"kind\":\"Any\",\"default\":3000},{\"name\":\"icon\",\"kind\":\"Any\",\"default\":null},{\"name\":\"message\",\"kind\":\"Any\",\"default\":\"\"},{\"name\":\"notification_type\",\"kind\":\"Any\",\"default\":null},{\"name\":\"_rendered\",\"kind\":\"Any\",\"default\":false},{\"name\":\"_destroyed\",\"kind\":\"Any\",\"default\":false}]},{\"type\":\"model\",\"name\":\"TemplateActions1\",\"properties\":[{\"name\":\"open_modal\",\"kind\":\"Any\",\"default\":0},{\"name\":\"close_modal\",\"kind\":\"Any\",\"default\":0}]},{\"type\":\"model\",\"name\":\"BootstrapTemplateActions1\",\"properties\":[{\"name\":\"open_modal\",\"kind\":\"Any\",\"default\":0},{\"name\":\"close_modal\",\"kind\":\"Any\",\"default\":0}]},{\"type\":\"model\",\"name\":\"TemplateEditor1\",\"properties\":[{\"name\":\"layout\",\"kind\":\"Any\",\"default\":[]}]},{\"type\":\"model\",\"name\":\"MaterialTemplateActions1\",\"properties\":[{\"name\":\"open_modal\",\"kind\":\"Any\",\"default\":0},{\"name\":\"close_modal\",\"kind\":\"Any\",\"default\":0}]},{\"type\":\"model\",\"name\":\"ReactiveESM1\",\"properties\":[{\"name\":\"esm_constants\",\"kind\":\"Any\",\"default\":{\"type\":\"map\"}}]},{\"type\":\"model\",\"name\":\"JSComponent1\",\"properties\":[{\"name\":\"esm_constants\",\"kind\":\"Any\",\"default\":{\"type\":\"map\"}}]},{\"type\":\"model\",\"name\":\"ReactComponent1\",\"properties\":[{\"name\":\"esm_constants\",\"kind\":\"Any\",\"default\":{\"type\":\"map\"}}]},{\"type\":\"model\",\"name\":\"AnyWidgetComponent1\",\"properties\":[{\"name\":\"esm_constants\",\"kind\":\"Any\",\"default\":{\"type\":\"map\"}}]},{\"type\":\"model\",\"name\":\"request_value1\",\"properties\":[{\"name\":\"fill\",\"kind\":\"Any\",\"default\":\"none\"},{\"name\":\"_synced\",\"kind\":\"Any\",\"default\":null},{\"name\":\"_request_sync\",\"kind\":\"Any\",\"default\":0}]}]}};\n",
       "  var render_items = [{\"docid\":\"7196d0bc-2451-4794-9969-653317c7f111\",\"roots\":{\"49367c21-285e-4953-9e11-d99becf28c55\":\"f96c1ee0-725c-4f80-843e-3a26b2722840\"},\"root_ids\":[\"49367c21-285e-4953-9e11-d99becf28c55\"]}];\n",
       "  var docs = Object.values(docs_json)\n",
       "  if (!docs) {\n",
       "    return\n",
       "  }\n",
       "  const py_version = docs[0].version.replace('rc', '-rc.').replace('.dev', '-dev.')\n",
       "  async function embed_document(root) {\n",
       "    var Bokeh = get_bokeh(root)\n",
       "    await Bokeh.embed.embed_items_notebook(docs_json, render_items);\n",
       "    for (const render_item of render_items) {\n",
       "      for (const root_id of render_item.root_ids) {\n",
       "\tconst id_el = document.getElementById(root_id)\n",
       "\tif (id_el.children.length && id_el.children[0].hasAttribute('data-root-id')) {\n",
       "\t  const root_el = id_el.children[0]\n",
       "\t  root_el.id = root_el.id + '-rendered'\n",
       "\t  for (const child of root_el.children) {\n",
       "            // Ensure JupyterLab does not capture keyboard shortcuts\n",
       "            // see: https://jupyterlab.readthedocs.io/en/4.1.x/extension/notebook.html#keyboard-interaction-model\n",
       "\t    child.setAttribute('data-lm-suppress-shortcuts', 'true')\n",
       "\t  }\n",
       "\t}\n",
       "      }\n",
       "    }\n",
       "  }\n",
       "  function get_bokeh(root) {\n",
       "    if (root.Bokeh === undefined) {\n",
       "      return null\n",
       "    } else if (root.Bokeh.version !== py_version) {\n",
       "      if (root.Bokeh.versions === undefined || !root.Bokeh.versions.has(py_version)) {\n",
       "\treturn null\n",
       "      }\n",
       "      return root.Bokeh.versions.get(py_version);\n",
       "    } else if (root.Bokeh.version === py_version) {\n",
       "      return root.Bokeh\n",
       "    }\n",
       "    return null\n",
       "  }\n",
       "  function is_loaded(root) {\n",
       "    var Bokeh = get_bokeh(root)\n",
       "    return (Bokeh != null && Bokeh.Panel !== undefined)\n",
       "  }\n",
       "  if (is_loaded(root)) {\n",
       "    embed_document(root);\n",
       "  } else {\n",
       "    var attempts = 0;\n",
       "    var timer = setInterval(function(root) {\n",
       "      if (is_loaded(root)) {\n",
       "        clearInterval(timer);\n",
       "        embed_document(root);\n",
       "      } else if (document.readyState == \"complete\") {\n",
       "        attempts++;\n",
       "        if (attempts > 200) {\n",
       "          clearInterval(timer);\n",
       "\t  var Bokeh = get_bokeh(root)\n",
       "\t  if (Bokeh == null || Bokeh.Panel == null) {\n",
       "            console.warn(\"Panel: ERROR: Unable to run Panel code because Bokeh or Panel library is missing\");\n",
       "\t  } else {\n",
       "\t    console.warn(\"Panel: WARNING: Attempting to render but not all required libraries could be resolved.\")\n",
       "\t    embed_document(root)\n",
       "\t  }\n",
       "        }\n",
       "      }\n",
       "    }, 25, root)\n",
       "  }\n",
       "})(window);</script>"
      ],
      "text/plain": [
       ":Overlay\n",
       "   .Bars.I    :Bars   [post_str_blast]   (percent)\n",
       "   .HLine.I   :HLine   [x,y]\n",
       "   .HLine.II  :HLine   [x,y]\n",
       "   .HLine.III :HLine   [x,y]"
      ]
     },
     "metadata": {
      "application/vnd.holoviews_exec.v0+json": {
       "id": "49367c21-285e-4953-9e11-d99becf28c55"
      }
     },
     "output_type": "display_data"
    },
    {
     "name": "stdout",
     "output_type": "stream",
     "text": [
      "df_10_last FOR str_b6 = 47\n",
      "Last 3 results last_results=['44', '46']\n"
     ]
    },
    {
     "data": {
      "text/html": [
       "<div><style>\n",
       ".dataframe > thead > tr,\n",
       ".dataframe > tbody > tr {\n",
       "  text-align: right;\n",
       "  white-space: pre-wrap;\n",
       "}\n",
       "</style>\n",
       "<small>shape: (10, 30)</small><table border=\"1\" class=\"dataframe\"><thead><tr><th>fecha</th><th>sorteo</th><th>bolillas</th><th>yapa</th><th>adicionales</th><th>sorteo_extra</th><th>id</th><th>combo</th><th>b1</th><th>b2</th><th>b3</th><th>b4</th><th>b5</th><th>b6</th><th>str_b1</th><th>str_b2</th><th>str_b3</th><th>str_b4</th><th>str_b5</th><th>str_b6</th><th>post_str_b1</th><th>post_str_b2</th><th>post_str_b3</th><th>post_str_b4</th><th>post_str_b5</th><th>post_str_blast</th><th>is_rare_combination</th><th>reason</th><th>jumps_map</th><th>unijump</th></tr><tr><td>str</td><td>str</td><td>str</td><td>str</td><td>str</td><td>str</td><td>str</td><td>array[u8, 6]</td><td>u8</td><td>u8</td><td>u8</td><td>u8</td><td>u8</td><td>u8</td><td>str</td><td>str</td><td>str</td><td>str</td><td>str</td><td>str</td><td>str</td><td>str</td><td>str</td><td>str</td><td>str</td><td>str</td><td>bool</td><td>u8</td><td>str</td><td>i64</td></tr></thead><tbody><tr><td>&quot;30/03/2025&quot;</td><td>&quot;1181&quot;</td><td>&quot;46 29 25 31 28 47&quot;</td><td>&quot;13&quot;</td><td>&quot;18 34 23&quot;</td><td>&quot;Promoción Sí o Sí&quot;</td><td>&quot;252829314647&quot;</td><td>[25, 28, … 47]</td><td>25</td><td>28</td><td>29</td><td>31</td><td>46</td><td>47</td><td>&quot;25&quot;</td><td>&quot;28&quot;</td><td>&quot;29&quot;</td><td>&quot;31&quot;</td><td>&quot;46&quot;</td><td>&quot;47&quot;</td><td>&quot;10&quot;</td><td>&quot;22&quot;</td><td>&quot;23&quot;</td><td>&quot;31&quot;</td><td>&quot;40&quot;</td><td>&quot;46&quot;</td><td>false</td><td>0</td><td>&quot;03_01_02_15_01&quot;</td><td>-48</td></tr><tr><td>&quot;05/03/2025&quot;</td><td>&quot;1174&quot;</td><td>&quot;01 32 03 12 28 47&quot;</td><td>&quot;20&quot;</td><td>&quot;49 06 23 24&quot;</td><td>&quot;Promoción Sí o Sí&quot;</td><td>&quot;010312283247&quot;</td><td>[1, 3, … 47]</td><td>1</td><td>3</td><td>12</td><td>28</td><td>32</td><td>47</td><td>&quot;01&quot;</td><td>&quot;03&quot;</td><td>&quot;12&quot;</td><td>&quot;28&quot;</td><td>&quot;32&quot;</td><td>&quot;47&quot;</td><td>&quot;01&quot;</td><td>&quot;20&quot;</td><td>&quot;23&quot;</td><td>&quot;38&quot;</td><td>&quot;42&quot;</td><td>&quot;44&quot;</td><td>false</td><td>0</td><td>&quot;02_09_16_04_15&quot;</td><td>61</td></tr><tr><td>&quot;19/02/2025&quot;</td><td>&quot;1170&quot;</td><td>&quot;44 02 19 47 29 31&quot;</td><td>&quot;21&quot;</td><td>&quot;32 14 35&quot;</td><td>&quot;Promoción Sí o Sí&quot;</td><td>&quot;021929314447&quot;</td><td>[2, 19, … 47]</td><td>2</td><td>19</td><td>29</td><td>31</td><td>44</td><td>47</td><td>&quot;02&quot;</td><td>&quot;19&quot;</td><td>&quot;29&quot;</td><td>&quot;31&quot;</td><td>&quot;44&quot;</td><td>&quot;47&quot;</td><td>&quot;05&quot;</td><td>&quot;08&quot;</td><td>&quot;10&quot;</td><td>&quot;30&quot;</td><td>&quot;36&quot;</td><td>&quot;44&quot;</td><td>true</td><td>1</td><td>&quot;17_10_02_13_03&quot;</td><td>-60</td></tr><tr><td>&quot;15/01/2025&quot;</td><td>&quot;1160&quot;</td><td>&quot;36 16 47 38 19 46&quot;</td><td>&quot;32&quot;</td><td>&quot;18 24 43 08&quot;</td><td>&quot;Promoción Sí o Sí&quot;</td><td>&quot;161936384647&quot;</td><td>[16, 19, … 47]</td><td>16</td><td>19</td><td>36</td><td>38</td><td>46</td><td>47</td><td>&quot;16&quot;</td><td>&quot;19&quot;</td><td>&quot;36&quot;</td><td>&quot;38&quot;</td><td>&quot;46&quot;</td><td>&quot;47&quot;</td><td>&quot;01&quot;</td><td>&quot;02&quot;</td><td>&quot;05&quot;</td><td>&quot;23&quot;</td><td>&quot;44&quot;</td><td>&quot;45&quot;</td><td>true</td><td>16</td><td>&quot;03_17_02_08_01&quot;</td><td>-84</td></tr><tr><td>&quot;08/01/2025&quot;</td><td>&quot;1158&quot;</td><td>&quot;40 25 24 47 20 44&quot;</td><td>&quot;31&quot;</td><td>&quot;46 30 09&quot;</td><td>&quot;Promoción Sí o Sí&quot;</td><td>&quot;202425404447&quot;</td><td>[20, 24, … 47]</td><td>20</td><td>24</td><td>25</td><td>40</td><td>44</td><td>47</td><td>&quot;20&quot;</td><td>&quot;24&quot;</td><td>&quot;25&quot;</td><td>&quot;40&quot;</td><td>&quot;44&quot;</td><td>&quot;47&quot;</td><td>&quot;26&quot;</td><td>&quot;32&quot;</td><td>&quot;34&quot;</td><td>&quot;41&quot;</td><td>&quot;44&quot;</td><td>&quot;49&quot;</td><td>true</td><td>16</td><td>&quot;04_01_15_04_03&quot;</td><td>77</td></tr><tr><td>&quot;18/12/2024&quot;</td><td>&quot;1152&quot;</td><td>&quot;22 28 33 19 47 35&quot;</td><td>&quot;44&quot;</td><td>&quot;13 32&quot;</td><td>&quot;Promoción Sí o Sí&quot;</td><td>&quot;192228333547&quot;</td><td>[19, 22, … 47]</td><td>19</td><td>22</td><td>28</td><td>33</td><td>35</td><td>47</td><td>&quot;19&quot;</td><td>&quot;22&quot;</td><td>&quot;28&quot;</td><td>&quot;33&quot;</td><td>&quot;35&quot;</td><td>&quot;47&quot;</td><td>&quot;01&quot;</td><td>&quot;02&quot;</td><td>&quot;17&quot;</td><td>&quot;24&quot;</td><td>&quot;40&quot;</td><td>&quot;49&quot;</td><td>false</td><td>0</td><td>&quot;03_06_05_02_12&quot;</td><td>13</td></tr><tr><td>&quot;27/10/2024&quot;</td><td>&quot;1137&quot;</td><td>&quot;06 27 32 16 24 47&quot;</td><td>&quot;42&quot;</td><td>&quot;33 34&quot;</td><td>&quot;Promoción Sí o Sí&quot;</td><td>&quot;061624273247&quot;</td><td>[6, 16, … 47]</td><td>6</td><td>16</td><td>24</td><td>27</td><td>32</td><td>47</td><td>&quot;06&quot;</td><td>&quot;16&quot;</td><td>&quot;24&quot;</td><td>&quot;27&quot;</td><td>&quot;32&quot;</td><td>&quot;47&quot;</td><td>&quot;07&quot;</td><td>&quot;09&quot;</td><td>&quot;15&quot;</td><td>&quot;18&quot;</td><td>&quot;22&quot;</td><td>&quot;42&quot;</td><td>false</td><td>0</td><td>&quot;10_08_03_05_15&quot;</td><td>-9</td></tr><tr><td>&quot;16/10/2024&quot;</td><td>&quot;1134&quot;</td><td>&quot;29 31 08 47 12 10&quot;</td><td>&quot;50&quot;</td><td>&quot;41 33&quot;</td><td>&quot;Promoción Sí o Sí&quot;</td><td>&quot;081012293147&quot;</td><td>[8, 10, … 47]</td><td>8</td><td>10</td><td>12</td><td>29</td><td>31</td><td>47</td><td>&quot;08&quot;</td><td>&quot;10&quot;</td><td>&quot;12&quot;</td><td>&quot;29&quot;</td><td>&quot;31&quot;</td><td>&quot;47&quot;</td><td>&quot;08&quot;</td><td>&quot;10&quot;</td><td>&quot;15&quot;</td><td>&quot;24&quot;</td><td>&quot;33&quot;</td><td>&quot;50&quot;</td><td>true</td><td>8</td><td>&quot;02_02_17_02_16&quot;</td><td>104</td></tr><tr><td>&quot;29/09/2024&quot;</td><td>&quot;1129&quot;</td><td>&quot;43 47 26 35 15 12&quot;</td><td>&quot;45&quot;</td><td>&quot;08 04 06&quot;</td><td>&quot;Promoción Sí o Sí&quot;</td><td>&quot;121526354347&quot;</td><td>[12, 15, … 47]</td><td>12</td><td>15</td><td>26</td><td>35</td><td>43</td><td>47</td><td>&quot;12&quot;</td><td>&quot;15&quot;</td><td>&quot;26&quot;</td><td>&quot;35&quot;</td><td>&quot;43&quot;</td><td>&quot;47&quot;</td><td>&quot;13&quot;</td><td>&quot;17&quot;</td><td>&quot;20&quot;</td><td>&quot;43&quot;</td><td>&quot;47&quot;</td><td>&quot;50&quot;</td><td>false</td><td>0</td><td>&quot;03_11_09_08_04&quot;</td><td>-15</td></tr><tr><td>&quot;28/08/2024&quot;</td><td>&quot;1120&quot;</td><td>&quot;11 37 46 47 06 03&quot;</td><td>&quot;29&quot;</td><td>&quot;14 09 05 40&quot;</td><td>&quot;Promoción Sí o Sí&quot;</td><td>&quot;030611374647&quot;</td><td>[3, 6, … 47]</td><td>3</td><td>6</td><td>11</td><td>37</td><td>46</td><td>47</td><td>&quot;03&quot;</td><td>&quot;06&quot;</td><td>&quot;11&quot;</td><td>&quot;37&quot;</td><td>&quot;46&quot;</td><td>&quot;47&quot;</td><td>&quot;04&quot;</td><td>&quot;19&quot;</td><td>&quot;23&quot;</td><td>&quot;37&quot;</td><td>&quot;41&quot;</td><td>&quot;50&quot;</td><td>true</td><td>17</td><td>&quot;03_05_26_09_01&quot;</td><td>104</td></tr></tbody></table></div>"
      ],
      "text/plain": [
       "shape: (10, 30)\n",
       "┌────────────┬────────┬───────────────┬──────┬───┬───────────────┬────────┬──────────────┬─────────┐\n",
       "│ fecha      ┆ sorteo ┆ bolillas      ┆ yapa ┆ … ┆ is_rare_combi ┆ reason ┆ jumps_map    ┆ unijump │\n",
       "│ ---        ┆ ---    ┆ ---           ┆ ---  ┆   ┆ nation        ┆ ---    ┆ ---          ┆ ---     │\n",
       "│ str        ┆ str    ┆ str           ┆ str  ┆   ┆ ---           ┆ u8     ┆ str          ┆ i64     │\n",
       "│            ┆        ┆               ┆      ┆   ┆ bool          ┆        ┆              ┆         │\n",
       "╞════════════╪════════╪═══════════════╪══════╪═══╪═══════════════╪════════╪══════════════╪═════════╡\n",
       "│ 30/03/2025 ┆ 1181   ┆ 46 29 25 31   ┆ 13   ┆ … ┆ false         ┆ 0      ┆ 03_01_02_15_ ┆ -48     │\n",
       "│            ┆        ┆ 28 47         ┆      ┆   ┆               ┆        ┆ 01           ┆         │\n",
       "│ 05/03/2025 ┆ 1174   ┆ 01 32 03 12   ┆ 20   ┆ … ┆ false         ┆ 0      ┆ 02_09_16_04_ ┆ 61      │\n",
       "│            ┆        ┆ 28 47         ┆      ┆   ┆               ┆        ┆ 15           ┆         │\n",
       "│ 19/02/2025 ┆ 1170   ┆ 44 02 19 47   ┆ 21   ┆ … ┆ true          ┆ 1      ┆ 17_10_02_13_ ┆ -60     │\n",
       "│            ┆        ┆ 29 31         ┆      ┆   ┆               ┆        ┆ 03           ┆         │\n",
       "│ 15/01/2025 ┆ 1160   ┆ 36 16 47 38   ┆ 32   ┆ … ┆ true          ┆ 16     ┆ 03_17_02_08_ ┆ -84     │\n",
       "│            ┆        ┆ 19 46         ┆      ┆   ┆               ┆        ┆ 01           ┆         │\n",
       "│ 08/01/2025 ┆ 1158   ┆ 40 25 24 47   ┆ 31   ┆ … ┆ true          ┆ 16     ┆ 04_01_15_04_ ┆ 77      │\n",
       "│            ┆        ┆ 20 44         ┆      ┆   ┆               ┆        ┆ 03           ┆         │\n",
       "│ 18/12/2024 ┆ 1152   ┆ 22 28 33 19   ┆ 44   ┆ … ┆ false         ┆ 0      ┆ 03_06_05_02_ ┆ 13      │\n",
       "│            ┆        ┆ 47 35         ┆      ┆   ┆               ┆        ┆ 12           ┆         │\n",
       "│ 27/10/2024 ┆ 1137   ┆ 06 27 32 16   ┆ 42   ┆ … ┆ false         ┆ 0      ┆ 10_08_03_05_ ┆ -9      │\n",
       "│            ┆        ┆ 24 47         ┆      ┆   ┆               ┆        ┆ 15           ┆         │\n",
       "│ 16/10/2024 ┆ 1134   ┆ 29 31 08 47   ┆ 50   ┆ … ┆ true          ┆ 8      ┆ 02_02_17_02_ ┆ 104     │\n",
       "│            ┆        ┆ 12 10         ┆      ┆   ┆               ┆        ┆ 16           ┆         │\n",
       "│ 29/09/2024 ┆ 1129   ┆ 43 47 26 35   ┆ 45   ┆ … ┆ false         ┆ 0      ┆ 03_11_09_08_ ┆ -15     │\n",
       "│            ┆        ┆ 15 12         ┆      ┆   ┆               ┆        ┆ 04           ┆         │\n",
       "│ 28/08/2024 ┆ 1120   ┆ 11 37 46 47   ┆ 29   ┆ … ┆ true          ┆ 17     ┆ 03_05_26_09_ ┆ 104     │\n",
       "│            ┆        ┆ 06 03         ┆      ┆   ┆               ┆        ┆ 01           ┆         │\n",
       "└────────────┴────────┴───────────────┴──────┴───┴───────────────┴────────┴──────────────┴─────────┘"
      ]
     },
     "metadata": {},
     "output_type": "display_data"
    },
    {
     "name": "stdout",
     "output_type": "stream",
     "text": [
      "df_jumps_map FOR str_b6 = 47\n"
     ]
    },
    {
     "data": {
      "text/html": [
       "<div><style>\n",
       ".dataframe > thead > tr,\n",
       ".dataframe > tbody > tr {\n",
       "  text-align: right;\n",
       "  white-space: pre-wrap;\n",
       "}\n",
       "</style>\n",
       "<small>shape: (28, 2)</small><table border=\"1\" class=\"dataframe\"><thead><tr><th>jumps_map</th><th>count</th></tr><tr><td>str</td><td>u32</td></tr></thead><tbody><tr><td>&quot;07_01_13_03_03&quot;</td><td>1</td></tr><tr><td>&quot;04_01_15_04_03&quot;</td><td>1</td></tr><tr><td>&quot;02_01_28_10_01&quot;</td><td>1</td></tr><tr><td>&quot;13_04_21_01_02&quot;</td><td>1</td></tr><tr><td>&quot;05_03_07_08_05&quot;</td><td>1</td></tr><tr><td>&hellip;</td><td>&hellip;</td></tr><tr><td>&quot;15_05_01_13_07&quot;</td><td>1</td></tr><tr><td>&quot;02_10_02_22_06&quot;</td><td>1</td></tr><tr><td>&quot;03_11_09_08_04&quot;</td><td>1</td></tr><tr><td>&quot;03_06_05_02_12&quot;</td><td>1</td></tr><tr><td>&quot;03_17_02_08_01&quot;</td><td>1</td></tr></tbody></table></div>"
      ],
      "text/plain": [
       "shape: (28, 2)\n",
       "┌────────────────┬───────┐\n",
       "│ jumps_map      ┆ count │\n",
       "│ ---            ┆ ---   │\n",
       "│ str            ┆ u32   │\n",
       "╞════════════════╪═══════╡\n",
       "│ 07_01_13_03_03 ┆ 1     │\n",
       "│ 04_01_15_04_03 ┆ 1     │\n",
       "│ 02_01_28_10_01 ┆ 1     │\n",
       "│ 13_04_21_01_02 ┆ 1     │\n",
       "│ 05_03_07_08_05 ┆ 1     │\n",
       "│ …              ┆ …     │\n",
       "│ 15_05_01_13_07 ┆ 1     │\n",
       "│ 02_10_02_22_06 ┆ 1     │\n",
       "│ 03_11_09_08_04 ┆ 1     │\n",
       "│ 03_06_05_02_12 ┆ 1     │\n",
       "│ 03_17_02_08_01 ┆ 1     │\n",
       "└────────────────┴───────┘"
      ]
     },
     "metadata": {},
     "output_type": "display_data"
    },
    {
     "name": "stdout",
     "output_type": "stream",
     "text": [
      "df_unijump FOR str_b6 = 47\n"
     ]
    },
    {
     "data": {
      "text/html": [
       "<div><style>\n",
       ".dataframe > thead > tr,\n",
       ".dataframe > tbody > tr {\n",
       "  text-align: right;\n",
       "  white-space: pre-wrap;\n",
       "}\n",
       "</style>\n",
       "<small>shape: (26, 2)</small><table border=\"1\" class=\"dataframe\"><thead><tr><th>unijump</th><th>count</th></tr><tr><td>i64</td><td>u32</td></tr></thead><tbody><tr><td>104</td><td>2</td></tr><tr><td>6</td><td>2</td></tr><tr><td>-44</td><td>1</td></tr><tr><td>-54</td><td>1</td></tr><tr><td>1</td><td>1</td></tr><tr><td>&hellip;</td><td>&hellip;</td></tr><tr><td>81</td><td>1</td></tr><tr><td>-78</td><td>1</td></tr><tr><td>-84</td><td>1</td></tr><tr><td>127</td><td>1</td></tr><tr><td>77</td><td>1</td></tr></tbody></table></div>"
      ],
      "text/plain": [
       "shape: (26, 2)\n",
       "┌─────────┬───────┐\n",
       "│ unijump ┆ count │\n",
       "│ ---     ┆ ---   │\n",
       "│ i64     ┆ u32   │\n",
       "╞═════════╪═══════╡\n",
       "│ 104     ┆ 2     │\n",
       "│ 6       ┆ 2     │\n",
       "│ -44     ┆ 1     │\n",
       "│ -54     ┆ 1     │\n",
       "│ 1       ┆ 1     │\n",
       "│ …       ┆ …     │\n",
       "│ 81      ┆ 1     │\n",
       "│ -78     ┆ 1     │\n",
       "│ -84     ┆ 1     │\n",
       "│ 127     ┆ 1     │\n",
       "│ 77      ┆ 1     │\n",
       "└─────────┴───────┘"
      ]
     },
     "metadata": {},
     "output_type": "display_data"
    }
   ],
   "source": [
    "possible_blast, exclude_jump_maps_blast, last_post_blast = plot_post_col(col='str_b6', post_col='post_str_blast')"
   ]
  },
  {
   "cell_type": "code",
   "execution_count": 15,
   "metadata": {},
   "outputs": [],
   "source": [
    "b_count = rr.CHOOSE\n",
    "min_b = rr.MIN_B_VALUES[0]\n",
    "max_b = rr.MAX_B_VALUES[-1]\n",
    "\n",
    "\n",
    "combos = combinations(range(min_b, max_b + 1), b_count)\n",
    "# print(\"generating combos: \", len(list(combos)))"
   ]
  },
  {
   "cell_type": "code",
   "execution_count": 16,
   "metadata": {},
   "outputs": [],
   "source": [
    "parquet_file = './parquet_tnk_v3.parquet'\n",
    "\n",
    "# check if parquet_file exists\n",
    "if not os.path.exists(parquet_file):\n",
    "  print(f'{parquet_file=} does not exists. creating')\n",
    "  lst = []\n",
    "  post_str_b1 = None\n",
    "  post_str_blast = None\n",
    "  for row in combos:\n",
    "    cols = []\n",
    "    str_row = \" \".join([str(r).zfill(2) for r in row])\n",
    "    id, bolillas_int, str_combo = formalize_data_with_str(bolillas_str=str_row)\n",
    "    cols.append(id)\n",
    "    cols.append(bolillas_int)\n",
    "    cols.extend([b for b in bolillas_int])\n",
    "    cols.extend(str_combo)\n",
    "    cols.append(post_str_b1)\n",
    "    cols.append(post_str_blast)\n",
    "\n",
    "    is_rare, reason = rr.is_rare_combination(bolillas_int, id)\n",
    "    cols.append(is_rare)\n",
    "    cols.append(reason)\n",
    "\n",
    "    cols.append(rr.jumps_map(bolillas_int))\n",
    "    cols.append(rr.unijump(bolillas_int))\n",
    "    \n",
    "    lst.append(cols)\n",
    "\n",
    "    post_str_b1 = str_combo[0]\n",
    "    post_str_blast = str_combo[-1]\n",
    "\n",
    "  df_Orows = pl.DataFrame(\n",
    "    lst,\n",
    "    schema=[\n",
    "      # 'fecha', 'sorteo', 'bolillas',\n",
    "      'id', 'combo', 'b1', 'b2', 'b3', 'b4', 'b5', 'b6',\n",
    "      'str_b1', 'str_b2', 'str_b3', 'str_b4', 'str_b5', 'str_b6',\n",
    "      'post_str_b1', 'post_str_blast',\n",
    "      'is_rare_combination', 'reason',\n",
    "      \"jumps_map\", \"unijump\"\n",
    "    ],\n",
    "    schema_overrides={\n",
    "      'combo': pl.Array(pl.UInt8, 6),\n",
    "      'b1': pl.UInt8,\n",
    "      'b2': pl.UInt8,\n",
    "      'b3': pl.UInt8,\n",
    "      'b4': pl.UInt8,\n",
    "      'b5': pl.UInt8,\n",
    "      'b6': pl.UInt8,\n",
    "      'reason': pl.UInt8\n",
    "    },\n",
    "    orient='row'\n",
    "  )\n",
    "\n",
    "  df_Orows.write_parquet(parquet_file)\n",
    "  TOTAL_LINES = len(df_Orows)\n",
    "  print(f'{TOTAL_LINES=} loaded to {parquet_file=}')\n",
    "\n",
    "  display(df_Orows.head(10))\n",
    "else:\n",
    "  df_Orows = pl.read_parquet(parquet_file)"
   ]
  },
  {
   "cell_type": "code",
   "execution_count": 17,
   "metadata": {},
   "outputs": [
    {
     "data": {
      "text/html": [
       "<div><style>\n",
       ".dataframe > thead > tr,\n",
       ".dataframe > tbody > tr {\n",
       "  text-align: right;\n",
       "  white-space: pre-wrap;\n",
       "}\n",
       "</style>\n",
       "<small>shape: (261_904, 20)</small><table border=\"1\" class=\"dataframe\"><thead><tr><th>id</th><th>combo</th><th>b1</th><th>b2</th><th>b3</th><th>b4</th><th>b5</th><th>b6</th><th>str_b1</th><th>str_b2</th><th>str_b3</th><th>str_b4</th><th>str_b5</th><th>str_b6</th><th>post_str_b1</th><th>post_str_blast</th><th>is_rare_combination</th><th>reason</th><th>jumps_map</th><th>unijump</th></tr><tr><td>str</td><td>array[u8, 6]</td><td>u8</td><td>u8</td><td>u8</td><td>u8</td><td>u8</td><td>u8</td><td>str</td><td>str</td><td>str</td><td>str</td><td>str</td><td>str</td><td>str</td><td>str</td><td>bool</td><td>u8</td><td>str</td><td>i64</td></tr></thead><tbody><tr><td>&quot;030406070912&quot;</td><td>[3, 4, … 12]</td><td>3</td><td>4</td><td>6</td><td>7</td><td>9</td><td>12</td><td>&quot;03&quot;</td><td>&quot;04&quot;</td><td>&quot;06&quot;</td><td>&quot;07&quot;</td><td>&quot;09&quot;</td><td>&quot;12&quot;</td><td>&quot;03&quot;</td><td>&quot;11&quot;</td><td>false</td><td>0</td><td>&quot;01_02_01_02_03&quot;</td><td>-6</td></tr><tr><td>&quot;030406071012&quot;</td><td>[3, 4, … 12]</td><td>3</td><td>4</td><td>6</td><td>7</td><td>10</td><td>12</td><td>&quot;03&quot;</td><td>&quot;04&quot;</td><td>&quot;06&quot;</td><td>&quot;07&quot;</td><td>&quot;10&quot;</td><td>&quot;12&quot;</td><td>&quot;03&quot;</td><td>&quot;11&quot;</td><td>false</td><td>0</td><td>&quot;01_02_01_03_02&quot;</td><td>-11</td></tr><tr><td>&quot;030406071042&quot;</td><td>[3, 4, … 42]</td><td>3</td><td>4</td><td>6</td><td>7</td><td>10</td><td>42</td><td>&quot;03&quot;</td><td>&quot;04&quot;</td><td>&quot;06&quot;</td><td>&quot;07&quot;</td><td>&quot;10&quot;</td><td>&quot;42&quot;</td><td>&quot;03&quot;</td><td>&quot;41&quot;</td><td>false</td><td>0</td><td>&quot;01_02_01_03_32&quot;</td><td>19</td></tr><tr><td>&quot;030406071112&quot;</td><td>[3, 4, … 12]</td><td>3</td><td>4</td><td>6</td><td>7</td><td>11</td><td>12</td><td>&quot;03&quot;</td><td>&quot;04&quot;</td><td>&quot;06&quot;</td><td>&quot;07&quot;</td><td>&quot;11&quot;</td><td>&quot;12&quot;</td><td>&quot;03&quot;</td><td>&quot;50&quot;</td><td>false</td><td>0</td><td>&quot;01_02_01_04_01&quot;</td><td>-16</td></tr><tr><td>&quot;030406071142&quot;</td><td>[3, 4, … 42]</td><td>3</td><td>4</td><td>6</td><td>7</td><td>11</td><td>42</td><td>&quot;03&quot;</td><td>&quot;04&quot;</td><td>&quot;06&quot;</td><td>&quot;07&quot;</td><td>&quot;11&quot;</td><td>&quot;42&quot;</td><td>&quot;03&quot;</td><td>&quot;41&quot;</td><td>false</td><td>0</td><td>&quot;01_02_01_04_31&quot;</td><td>14</td></tr><tr><td>&hellip;</td><td>&hellip;</td><td>&hellip;</td><td>&hellip;</td><td>&hellip;</td><td>&hellip;</td><td>&hellip;</td><td>&hellip;</td><td>&hellip;</td><td>&hellip;</td><td>&hellip;</td><td>&hellip;</td><td>&hellip;</td><td>&hellip;</td><td>&hellip;</td><td>&hellip;</td><td>&hellip;</td><td>&hellip;</td><td>&hellip;</td><td>&hellip;</td></tr><tr><td>&quot;073536384142&quot;</td><td>[7, 35, … 42]</td><td>7</td><td>35</td><td>36</td><td>38</td><td>41</td><td>42</td><td>&quot;07&quot;</td><td>&quot;35&quot;</td><td>&quot;36&quot;</td><td>&quot;38&quot;</td><td>&quot;41&quot;</td><td>&quot;42&quot;</td><td>&quot;07&quot;</td><td>&quot;50&quot;</td><td>false</td><td>0</td><td>&quot;28_01_02_03_01&quot;</td><td>25</td></tr><tr><td>&quot;073536394142&quot;</td><td>[7, 35, … 42]</td><td>7</td><td>35</td><td>36</td><td>39</td><td>41</td><td>42</td><td>&quot;07&quot;</td><td>&quot;35&quot;</td><td>&quot;36&quot;</td><td>&quot;39&quot;</td><td>&quot;41&quot;</td><td>&quot;42&quot;</td><td>&quot;07&quot;</td><td>&quot;50&quot;</td><td>false</td><td>0</td><td>&quot;28_01_03_02_01&quot;</td><td>35</td></tr><tr><td>&quot;073537384142&quot;</td><td>[7, 35, … 42]</td><td>7</td><td>35</td><td>37</td><td>38</td><td>41</td><td>42</td><td>&quot;07&quot;</td><td>&quot;35&quot;</td><td>&quot;37&quot;</td><td>&quot;38&quot;</td><td>&quot;41&quot;</td><td>&quot;42&quot;</td><td>&quot;07&quot;</td><td>&quot;50&quot;</td><td>false</td><td>0</td><td>&quot;28_02_01_03_01&quot;</td><td>15</td></tr><tr><td>&quot;073538394142&quot;</td><td>[7, 35, … 42]</td><td>7</td><td>35</td><td>38</td><td>39</td><td>41</td><td>42</td><td>&quot;07&quot;</td><td>&quot;35&quot;</td><td>&quot;38&quot;</td><td>&quot;39&quot;</td><td>&quot;41&quot;</td><td>&quot;42&quot;</td><td>&quot;07&quot;</td><td>&quot;50&quot;</td><td>false</td><td>0</td><td>&quot;28_03_01_02_01&quot;</td><td>15</td></tr><tr><td>&quot;073638394142&quot;</td><td>[7, 36, … 42]</td><td>7</td><td>36</td><td>38</td><td>39</td><td>41</td><td>42</td><td>&quot;07&quot;</td><td>&quot;36&quot;</td><td>&quot;38&quot;</td><td>&quot;39&quot;</td><td>&quot;41&quot;</td><td>&quot;42&quot;</td><td>&quot;07&quot;</td><td>&quot;50&quot;</td><td>false</td><td>0</td><td>&quot;29_02_01_02_01&quot;</td><td>20</td></tr></tbody></table></div>"
      ],
      "text/plain": [
       "shape: (261_904, 20)\n",
       "┌──────────────┬───────────────┬─────┬─────┬───┬────────────────┬────────┬───────────────┬─────────┐\n",
       "│ id           ┆ combo         ┆ b1  ┆ b2  ┆ … ┆ is_rare_combin ┆ reason ┆ jumps_map     ┆ unijump │\n",
       "│ ---          ┆ ---           ┆ --- ┆ --- ┆   ┆ ation          ┆ ---    ┆ ---           ┆ ---     │\n",
       "│ str          ┆ array[u8, 6]  ┆ u8  ┆ u8  ┆   ┆ ---            ┆ u8     ┆ str           ┆ i64     │\n",
       "│              ┆               ┆     ┆     ┆   ┆ bool           ┆        ┆               ┆         │\n",
       "╞══════════════╪═══════════════╪═════╪═════╪═══╪════════════════╪════════╪═══════════════╪═════════╡\n",
       "│ 030406070912 ┆ [3, 4, … 12]  ┆ 3   ┆ 4   ┆ … ┆ false          ┆ 0      ┆ 01_02_01_02_0 ┆ -6      │\n",
       "│              ┆               ┆     ┆     ┆   ┆                ┆        ┆ 3             ┆         │\n",
       "│ 030406071012 ┆ [3, 4, … 12]  ┆ 3   ┆ 4   ┆ … ┆ false          ┆ 0      ┆ 01_02_01_03_0 ┆ -11     │\n",
       "│              ┆               ┆     ┆     ┆   ┆                ┆        ┆ 2             ┆         │\n",
       "│ 030406071042 ┆ [3, 4, … 42]  ┆ 3   ┆ 4   ┆ … ┆ false          ┆ 0      ┆ 01_02_01_03_3 ┆ 19      │\n",
       "│              ┆               ┆     ┆     ┆   ┆                ┆        ┆ 2             ┆         │\n",
       "│ 030406071112 ┆ [3, 4, … 12]  ┆ 3   ┆ 4   ┆ … ┆ false          ┆ 0      ┆ 01_02_01_04_0 ┆ -16     │\n",
       "│              ┆               ┆     ┆     ┆   ┆                ┆        ┆ 1             ┆         │\n",
       "│ 030406071142 ┆ [3, 4, … 42]  ┆ 3   ┆ 4   ┆ … ┆ false          ┆ 0      ┆ 01_02_01_04_3 ┆ 14      │\n",
       "│              ┆               ┆     ┆     ┆   ┆                ┆        ┆ 1             ┆         │\n",
       "│ …            ┆ …             ┆ …   ┆ …   ┆ … ┆ …              ┆ …      ┆ …             ┆ …       │\n",
       "│ 073536384142 ┆ [7, 35, … 42] ┆ 7   ┆ 35  ┆ … ┆ false          ┆ 0      ┆ 28_01_02_03_0 ┆ 25      │\n",
       "│              ┆               ┆     ┆     ┆   ┆                ┆        ┆ 1             ┆         │\n",
       "│ 073536394142 ┆ [7, 35, … 42] ┆ 7   ┆ 35  ┆ … ┆ false          ┆ 0      ┆ 28_01_03_02_0 ┆ 35      │\n",
       "│              ┆               ┆     ┆     ┆   ┆                ┆        ┆ 1             ┆         │\n",
       "│ 073537384142 ┆ [7, 35, … 42] ┆ 7   ┆ 35  ┆ … ┆ false          ┆ 0      ┆ 28_02_01_03_0 ┆ 15      │\n",
       "│              ┆               ┆     ┆     ┆   ┆                ┆        ┆ 1             ┆         │\n",
       "│ 073538394142 ┆ [7, 35, … 42] ┆ 7   ┆ 35  ┆ … ┆ false          ┆ 0      ┆ 28_03_01_02_0 ┆ 15      │\n",
       "│              ┆               ┆     ┆     ┆   ┆                ┆        ┆ 1             ┆         │\n",
       "│ 073638394142 ┆ [7, 36, … 42] ┆ 7   ┆ 36  ┆ … ┆ false          ┆ 0      ┆ 29_02_01_02_0 ┆ 20      │\n",
       "│              ┆               ┆     ┆     ┆   ┆                ┆        ┆ 1             ┆         │\n",
       "└──────────────┴───────────────┴─────┴─────┴───┴────────────────┴────────┴───────────────┴─────────┘"
      ]
     },
     "metadata": {},
     "output_type": "display_data"
    }
   ],
   "source": [
    "# possible_b1, exclude_jump_maps_b1\n",
    "df_possible = df_Orows.filter(\n",
    "  # pl.col(\"str_b1\").is_in([\"10\", \"11\", \"12\", \"13\", \"14\", \"15\", \"16\"]),\n",
    "  pl.col(\"str_b1\").is_in([\"03\", \"04\", \"06\", \"07\",]),\n",
    "  # pl.col(\"str_b1\").is_in(possible_b1),\n",
    "  # pl.col(\"str_b2\").is_in(possible_b2),\n",
    "  # pl.col(\"str_b3\").is_in(possible_b3),\n",
    "  # pl.col(\"str_b4\").is_in(possible_b4),\n",
    "  # pl.col(\"str_b5\").is_in(possible_b5),\n",
    "  # pl.col(\"str_b6\").is_in(possible_blast),\n",
    "  \n",
    "  # ~pl.col(\"str_b1\").is_in(last_post_b1),\n",
    "  ~pl.col(\"str_b2\").is_in(last_post_b2 + [\"40\", \"41\", \"42\", \"43\", \"44\", \"45\", \"46\", \"47\", \"48\", \"49\"]),\n",
    "  ~pl.col(\"str_b3\").is_in(last_post_b3 + [\"40\", \"41\", \"42\", \"43\", \"44\", \"45\", \"46\", \"47\", \"48\", \"49\"]),\n",
    "  ~pl.col(\"str_b4\").is_in(last_post_b4 + [\"10\", \"11\", \"12\", \"13\", \"14\", \"15\", \"16\", \"17\", \"18\", \"19\", \"20\", \"21\", \"22\", \"23\", \"24\", \"25\"]),\n",
    "  ~pl.col(\"str_b5\").is_in(last_post_b5 + [\"27\"]),\n",
    "  ~pl.col(\"str_b6\").is_in(last_post_blast + [\"20\", \"21\", \"22\", \"23\", \"24\", \"25\", \"26\", \"27\", \"28\", \"29\", \"30\", \"31\", \"32\", \"33\", \"34\", \"45\", \"46\", \"47\", \"48\", \"49\", \"50\"]),\n",
    "\n",
    "  ~pl.col(\"jumps_map\").is_in(exclude_jump_maps_b1 + exclude_jump_maps_b2 + exclude_jump_maps_b3 + exclude_jump_maps_b4 + exclude_jump_maps_b5 + exclude_jump_maps_blast),\n",
    "  # ~pl.col(\"jumps_map\").is_in(exclude_jump_maps_b1 + exclude_jump_maps_b2 + exclude_jump_maps_blast),\n",
    "  pl.col(\"is_rare_combination\") == False\n",
    ")\n",
    "\n",
    "\n",
    "display(df_possible)"
   ]
  },
  {
   "cell_type": "code",
   "execution_count": 18,
   "metadata": {},
   "outputs": [
    {
     "data": {
      "text/html": [
       "<div><style>\n",
       ".dataframe > thead > tr,\n",
       ".dataframe > tbody > tr {\n",
       "  text-align: right;\n",
       "  white-space: pre-wrap;\n",
       "}\n",
       "</style>\n",
       "<small>shape: (1, 20)</small><table border=\"1\" class=\"dataframe\"><thead><tr><th>id</th><th>combo</th><th>b1</th><th>b2</th><th>b3</th><th>b4</th><th>b5</th><th>b6</th><th>str_b1</th><th>str_b2</th><th>str_b3</th><th>str_b4</th><th>str_b5</th><th>str_b6</th><th>post_str_b1</th><th>post_str_blast</th><th>is_rare_combination</th><th>reason</th><th>jumps_map</th><th>unijump</th></tr><tr><td>str</td><td>array[u8, 6]</td><td>u8</td><td>u8</td><td>u8</td><td>u8</td><td>u8</td><td>u8</td><td>str</td><td>str</td><td>str</td><td>str</td><td>str</td><td>str</td><td>str</td><td>str</td><td>bool</td><td>u8</td><td>str</td><td>i64</td></tr></thead><tbody><tr><td>&quot;030610262936&quot;</td><td>[3, 6, … 36]</td><td>3</td><td>6</td><td>10</td><td>26</td><td>29</td><td>36</td><td>&quot;03&quot;</td><td>&quot;06&quot;</td><td>&quot;10&quot;</td><td>&quot;26&quot;</td><td>&quot;29&quot;</td><td>&quot;36&quot;</td><td>&quot;03&quot;</td><td>&quot;35&quot;</td><td>false</td><td>0</td><td>&quot;03_04_16_03_07&quot;</td><td>78</td></tr></tbody></table></div>"
      ],
      "text/plain": [
       "shape: (1, 20)\n",
       "┌──────────────┬──────────────┬─────┬─────┬───┬────────────────┬────────┬────────────────┬─────────┐\n",
       "│ id           ┆ combo        ┆ b1  ┆ b2  ┆ … ┆ is_rare_combin ┆ reason ┆ jumps_map      ┆ unijump │\n",
       "│ ---          ┆ ---          ┆ --- ┆ --- ┆   ┆ ation          ┆ ---    ┆ ---            ┆ ---     │\n",
       "│ str          ┆ array[u8, 6] ┆ u8  ┆ u8  ┆   ┆ ---            ┆ u8     ┆ str            ┆ i64     │\n",
       "│              ┆              ┆     ┆     ┆   ┆ bool           ┆        ┆                ┆         │\n",
       "╞══════════════╪══════════════╪═════╪═════╪═══╪════════════════╪════════╪════════════════╪═════════╡\n",
       "│ 030610262936 ┆ [3, 6, … 36] ┆ 3   ┆ 6   ┆ … ┆ false          ┆ 0      ┆ 03_04_16_03_07 ┆ 78      │\n",
       "└──────────────┴──────────────┴─────┴─────┴───┴────────────────┴────────┴────────────────┴─────────┘"
      ]
     },
     "execution_count": 18,
     "metadata": {},
     "output_type": "execute_result"
    }
   ],
   "source": [
    "df_possible.sample(n=1)\n"
   ]
  },
  {
   "cell_type": "markdown",
   "metadata": {},
   "source": [
    "# Aplicando Laplace + dist teórica"
   ]
  },
  {
   "cell_type": "code",
   "execution_count": 19,
   "metadata": {},
   "outputs": [],
   "source": [
    "import numpy as np\n",
    "from collections import defaultdict\n",
    "import matplotlib.pyplot as plt\n",
    "from scipy.stats import norm\n",
    "\n",
    "# Parámetros por casilla\n",
    "PARAMETROS_CASILLA = {\n",
    "    \"b1\": {\"rango\": (1, 45), \"mu\": 5, \"sigma\": 5},\n",
    "    \"b2\": {\"rango\": (2, 46), \"mu\": 13.5, \"sigma\": 5},\n",
    "    \"b3\": {\"rango\": (3, 47), \"mu\": 21, \"sigma\": 4},\n",
    "    \"b4\": {\"rango\": (4, 48), \"mu\": 28, \"sigma\": 4},\n",
    "    \"b5\": {\"rango\": (5, 49), \"mu\": 35.5, \"sigma\": 5},\n",
    "    \"b6\": {\"rango\": (6, 50), \"mu\": 45, \"sigma\": 5},\n",
    "}\n",
    "\n",
    "def calcular_probabilidades_hibridas(casilla, valores, suavizado=1, mezcla=0.5, top_n=5, graficar=False):\n",
    "    # Obtener parámetros\n",
    "    param = PARAMETROS_CASILLA[casilla]\n",
    "    r_min, r_max = param[\"rango\"]\n",
    "    mu = param[\"mu\"]\n",
    "    sigma = param[\"sigma\"]\n",
    "    \n",
    "    rango = list(range(r_min, r_max + 1))\n",
    "    total_posibles = len(rango)\n",
    "    total_observaciones = len(valores)\n",
    "\n",
    "    # --- Probabilidad teórica (distribución normal)\n",
    "    dist_normal = norm(loc=mu, scale=sigma)\n",
    "    p_teorica = {v: dist_normal.pdf(v) for v in rango}\n",
    "\n",
    "    # Normalizar las probabilidades teóricas\n",
    "    suma_teorica = sum(p_teorica.values())\n",
    "    for v in p_teorica:\n",
    "        p_teorica[v] /= suma_teorica\n",
    "\n",
    "    # --- Probabilidad empírica con Laplace\n",
    "    conteo = defaultdict(int)\n",
    "    for v in valores:\n",
    "        conteo[v] += 1\n",
    "\n",
    "    p_laplace = {\n",
    "        v: (conteo[v] + suavizado) / (total_observaciones + total_posibles * suavizado)\n",
    "        for v in rango\n",
    "    }\n",
    "\n",
    "    # --- Mezcla de ambos modelos\n",
    "    p_combinada = {\n",
    "        v: mezcla * p_teorica[v] + (1 - mezcla) * p_laplace[v]\n",
    "        for v in rango\n",
    "    }\n",
    "\n",
    "    # Ordenar resultados\n",
    "    p_ordenada = dict(sorted(p_combinada.items(), key=lambda x: x[1], reverse=True))\n",
    "\n",
    "    # Graficar si se desea\n",
    "    if graficar:\n",
    "        plt.figure(figsize=(10, 4))\n",
    "        plt.plot(list(p_teorica.keys()), list(p_teorica.values()), label='Distribución Teórica', linestyle='--', alpha=0.7)\n",
    "        plt.plot(list(p_laplace.keys()), list(p_laplace.values()), label='Laplace (Empírica)', linestyle=':', alpha=0.7)\n",
    "        plt.plot(list(p_combinada.keys()), list(p_combinada.values()), label='Combinada', linewidth=2)\n",
    "        plt.title(f\"Probabilidades combinadas para {casilla}\")\n",
    "        plt.xlabel(\"Valor\")\n",
    "        plt.ylabel(\"Probabilidad\")\n",
    "        plt.legend()\n",
    "        plt.grid(True)\n",
    "        plt.tight_layout()\n",
    "        plt.show()\n",
    "\n",
    "    # Retornar los valores más probables\n",
    "    return list(p_ordenada.items())[:top_n]\n"
   ]
  },
  {
   "cell_type": "code",
   "execution_count": 33,
   "metadata": {},
   "outputs": [
    {
     "data": {
      "image/png": "[encoded data removed]",
      "text/plain": [
       "<Figure size 1000x400 with 1 Axes>"
      ]
     },
     "metadata": {},
     "output_type": "display_data"
    },
    {
     "name": "stdout",
     "output_type": "stream",
     "text": [
      "🎯 Siguientes valores más probables para b2:\n",
      "  13: 0.0671\n",
      "  12: 0.0659\n",
      "  14: 0.0633\n",
      "  11: 0.0625\n",
      "  15: 0.0617\n",
      "  10: 0.0601\n",
      "  16: 0.0590\n",
      "  9: 0.0550\n",
      "  8: 0.0516\n",
      "  17: 0.0490\n"
     ]
    }
   ],
   "source": [
    "col_analyze = \"b2\"\n",
    "values_explore = dfRows[col_analyze].to_list()\n",
    "values_explore.reverse()\n",
    "\n",
    "# valores más probables usando mezcla 50% teórica y 50% datos\n",
    "top_valores = calcular_probabilidades_hibridas(col_analyze, values_explore, mezcla=0.5, graficar=True, top_n=10)\n",
    "\n",
    "print(f\"🎯 Siguientes valores más probables para {col_analyze}:\")\n",
    "for val, prob in top_valores:\n",
    "    print(f\"  {val}: {prob:.4f}\")\n"
   ]
  }
 ],
 "metadata": {
  "kernelspec": {
   "display_name": ".venv",
   "language": "python",
   "name": "python3"
  },
  "language_info": {
   "codemirror_mode": {
    "name": "ipython",
    "version": 3
   },
   "file_extension": ".py",
   "mimetype": "text/x-python",
   "name": "python",
   "nbconvert_exporter": "python",
   "pygments_lexer": "ipython3",
   "version": "3.12.9"
  }
 },
 "nbformat": 4,
 "nbformat_minor": 2
}

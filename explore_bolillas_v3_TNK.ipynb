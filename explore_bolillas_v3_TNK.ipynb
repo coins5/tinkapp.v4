{
 "cells": [
  {
   "cell_type": "code",
   "execution_count": 42,
   "metadata": {},
   "outputs": [
    {
     "data": {
      "text/html": [
       "<script type=\"esms-options\">{\"shimMode\": true}</script><style>*[data-root-id],\n",
       "*[data-root-id] > * {\n",
       "  box-sizing: border-box;\n",
       "  font-family: var(--jp-ui-font-family);\n",
       "  font-size: var(--jp-ui-font-size1);\n",
       "  color: var(--vscode-editor-foreground, var(--jp-ui-font-color1));\n",
       "}\n",
       "\n",
       "/* Override VSCode background color */\n",
       ".cell-output-ipywidget-background:has(\n",
       "    > .cell-output-ipywidget-background > .lm-Widget > *[data-root-id]\n",
       "  ),\n",
       ".cell-output-ipywidget-background:has(> .lm-Widget > *[data-root-id]) {\n",
       "  background-color: transparent !important;\n",
       "}\n",
       "</style>"
      ]
     },
     "metadata": {},
     "output_type": "display_data"
    },
    {
     "data": {
      "application/javascript": "(function(root) {\n  function now() {\n    return new Date();\n  }\n\n  const force = true;\n  const py_version = '3.7.2'.replace('rc', '-rc.').replace('.dev', '-dev.');\n  const reloading = false;\n  const Bokeh = root.Bokeh;\n\n  // Set a timeout for this load but only if we are not already initializing\n  if (typeof (root._bokeh_timeout) === \"undefined\" || (force || !root._bokeh_is_initializing)) {\n    root._bokeh_timeout = Date.now() + 5000;\n    root._bokeh_failed_load = false;\n  }\n\n  function run_callbacks() {\n    try {\n      root._bokeh_onload_callbacks.forEach(function(callback) {\n        if (callback != null)\n          callback();\n      });\n    } finally {\n      delete root._bokeh_onload_callbacks;\n    }\n    console.debug(\"Bokeh: all callbacks have finished\");\n  }\n\n  function load_libs(css_urls, js_urls, js_modules, js_exports, callback) {\n    if (css_urls == null) css_urls = [];\n    if (js_urls == null) js_urls = [];\n    if (js_modules == null) js_modules = [];\n    if (js_exports == null) js_exports = {};\n\n    root._bokeh_onload_callbacks.push(callback);\n\n    if (root._bokeh_is_loading > 0) {\n      // Don't load bokeh if it is still initializing\n      console.debug(\"Bokeh: BokehJS is being loaded, scheduling callback at\", now());\n      return null;\n    } else if (js_urls.length === 0 && js_modules.length === 0 && Object.keys(js_exports).length === 0) {\n      // There is nothing to load\n      run_callbacks();\n      return null;\n    }\n\n    function on_load() {\n      root._bokeh_is_loading--;\n      if (root._bokeh_is_loading === 0) {\n        console.debug(\"Bokeh: all BokehJS libraries/stylesheets loaded\");\n        run_callbacks()\n      }\n    }\n    window._bokeh_on_load = on_load\n\n    function on_error(e) {\n      const src_el = e.srcElement\n      console.error(\"failed to load \" + (src_el.href || src_el.src));\n    }\n\n    const skip = [];\n    if (window.requirejs) {\n      window.requirejs.config({'packages': {}, 'paths': {}, 'shim': {}});\n      root._bokeh_is_loading = css_urls.length + 0;\n    } else {\n      root._bokeh_is_loading = css_urls.length + js_urls.length + js_modules.length + Object.keys(js_exports).length;\n    }\n\n    const existing_stylesheets = []\n    const links = document.getElementsByTagName('link')\n    for (let i = 0; i < links.length; i++) {\n      const link = links[i]\n      if (link.href != null) {\n        existing_stylesheets.push(link.href)\n      }\n    }\n    for (let i = 0; i < css_urls.length; i++) {\n      const url = css_urls[i];\n      const escaped = encodeURI(url)\n      if (existing_stylesheets.indexOf(escaped) !== -1) {\n        on_load()\n        continue;\n      }\n      const element = document.createElement(\"link\");\n      element.onload = on_load;\n      element.onerror = on_error;\n      element.rel = \"stylesheet\";\n      element.type = \"text/css\";\n      element.href = url;\n      console.debug(\"Bokeh: injecting link tag for BokehJS stylesheet: \", url);\n      document.body.appendChild(element);\n    }    var existing_scripts = []\n    const scripts = document.getElementsByTagName('script')\n    for (let i = 0; i < scripts.length; i++) {\n      var script = scripts[i]\n      if (script.src != null) {\n        existing_scripts.push(script.src)\n      }\n    }\n    for (let i = 0; i < js_urls.length; i++) {\n      const url = js_urls[i];\n      const escaped = encodeURI(url)\n      if (skip.indexOf(escaped) !== -1 || existing_scripts.indexOf(escaped) !== -1) {\n        if (!window.requirejs) {\n          on_load();\n        }\n        continue;\n      }\n      const element = document.createElement('script');\n      element.onload = on_load;\n      element.onerror = on_error;\n      element.async = false;\n      element.src = url;\n      console.debug(\"Bokeh: injecting script tag for BokehJS library: \", url);\n      document.head.appendChild(element);\n    }\n    for (let i = 0; i < js_modules.length; i++) {\n      const url = js_modules[i];\n      const escaped = encodeURI(url)\n      if (skip.indexOf(escaped) !== -1 || existing_scripts.indexOf(escaped) !== -1) {\n        if (!window.requirejs) {\n          on_load();\n        }\n        continue;\n      }\n      var element = document.createElement('script');\n      element.onload = on_load;\n      element.onerror = on_error;\n      element.async = false;\n      element.src = url;\n      element.type = \"module\";\n      console.debug(\"Bokeh: injecting script tag for BokehJS library: \", url);\n      document.head.appendChild(element);\n    }\n    for (const name in js_exports) {\n      const url = js_exports[name];\n      const escaped = encodeURI(url)\n      if (skip.indexOf(escaped) >= 0 || root[name] != null) {\n        if (!window.requirejs) {\n          on_load();\n        }\n        continue;\n      }\n      var element = document.createElement('script');\n      element.onerror = on_error;\n      element.async = false;\n      element.type = \"module\";\n      console.debug(\"Bokeh: injecting script tag for BokehJS library: \", url);\n      element.textContent = `\n      import ${name} from \"${url}\"\n      window.${name} = ${name}\n      window._bokeh_on_load()\n      `\n      document.head.appendChild(element);\n    }\n    if (!js_urls.length && !js_modules.length) {\n      on_load()\n    }\n  };\n\n  function inject_raw_css(css) {\n    const element = document.createElement(\"style\");\n    element.appendChild(document.createTextNode(css));\n    document.body.appendChild(element);\n  }\n\n  const js_urls = [\"https://cdn.holoviz.org/panel/1.6.2/dist/bundled/reactiveesm/es-module-shims@^1.10.0/dist/es-module-shims.min.js\", \"https://cdn.bokeh.org/bokeh/release/bokeh-3.7.2.min.js\", \"https://cdn.bokeh.org/bokeh/release/bokeh-gl-3.7.2.min.js\", \"https://cdn.bokeh.org/bokeh/release/bokeh-widgets-3.7.2.min.js\", \"https://cdn.bokeh.org/bokeh/release/bokeh-tables-3.7.2.min.js\", \"https://cdn.holoviz.org/panel/1.6.2/dist/panel.min.js\"];\n  const js_modules = [];\n  const js_exports = {};\n  const css_urls = [];\n  const inline_js = [    function(Bokeh) {\n      Bokeh.set_log_level(\"info\");\n    },\nfunction(Bokeh) {} // ensure no trailing comma for IE\n  ];\n\n  function run_inline_js() {\n    if ((root.Bokeh !== undefined) || (force === true)) {\n      for (let i = 0; i < inline_js.length; i++) {\n        try {\n          inline_js[i].call(root, root.Bokeh);\n        } catch(e) {\n          if (!reloading) {\n            throw e;\n          }\n        }\n      }\n      // Cache old bokeh versions\n      if (Bokeh != undefined && !reloading) {\n        var NewBokeh = root.Bokeh;\n        if (Bokeh.versions === undefined) {\n          Bokeh.versions = new Map();\n        }\n        if (NewBokeh.version !== Bokeh.version) {\n          Bokeh.versions.set(NewBokeh.version, NewBokeh)\n        }\n        root.Bokeh = Bokeh;\n      }\n    } else if (Date.now() < root._bokeh_timeout) {\n      setTimeout(run_inline_js, 100);\n    } else if (!root._bokeh_failed_load) {\n      console.log(\"Bokeh: BokehJS failed to load within specified timeout.\");\n      root._bokeh_failed_load = true;\n    }\n    root._bokeh_is_initializing = false\n  }\n\n  function load_or_wait() {\n    // Implement a backoff loop that tries to ensure we do not load multiple\n    // versions of Bokeh and its dependencies at the same time.\n    // In recent versions we use the root._bokeh_is_initializing flag\n    // to determine whether there is an ongoing attempt to initialize\n    // bokeh, however for backward compatibility we also try to ensure\n    // that we do not start loading a newer (Panel>=1.0 and Bokeh>3) version\n    // before older versions are fully initialized.\n    if (root._bokeh_is_initializing && Date.now() > root._bokeh_timeout) {\n      // If the timeout and bokeh was not successfully loaded we reset\n      // everything and try loading again\n      root._bokeh_timeout = Date.now() + 5000;\n      root._bokeh_is_initializing = false;\n      root._bokeh_onload_callbacks = undefined;\n      root._bokeh_is_loading = 0\n      console.log(\"Bokeh: BokehJS was loaded multiple times but one version failed to initialize.\");\n      load_or_wait();\n    } else if (root._bokeh_is_initializing || (typeof root._bokeh_is_initializing === \"undefined\" && root._bokeh_onload_callbacks !== undefined)) {\n      setTimeout(load_or_wait, 100);\n    } else {\n      root._bokeh_is_initializing = true\n      root._bokeh_onload_callbacks = []\n      const bokeh_loaded = root.Bokeh != null && (root.Bokeh.version === py_version || (root.Bokeh.versions !== undefined && root.Bokeh.versions.has(py_version)));\n      if (!reloading && !bokeh_loaded) {\n        if (root.Bokeh) {\n          root.Bokeh = undefined;\n        }\n        console.debug(\"Bokeh: BokehJS not loaded, scheduling load and callback at\", now());\n      }\n      load_libs(css_urls, js_urls, js_modules, js_exports, function() {\n        console.debug(\"Bokeh: BokehJS plotting callback run at\", now());\n        run_inline_js();\n      });\n    }\n  }\n  // Give older versions of the autoload script a head-start to ensure\n  // they initialize before we start loading newer version.\n  setTimeout(load_or_wait, 100)\n}(window));",
      "application/vnd.holoviews_load.v0+json": ""
     },
     "metadata": {},
     "output_type": "display_data"
    },
    {
     "data": {
      "application/javascript": "\nif ((window.PyViz === undefined) || (window.PyViz instanceof HTMLElement)) {\n  window.PyViz = {comms: {}, comm_status:{}, kernels:{}, receivers: {}, plot_index: []}\n}\n\n\n    function JupyterCommManager() {\n    }\n\n    JupyterCommManager.prototype.register_target = function(plot_id, comm_id, msg_handler) {\n      if (window.comm_manager || ((window.Jupyter !== undefined) && (Jupyter.notebook.kernel != null))) {\n        var comm_manager = window.comm_manager || Jupyter.notebook.kernel.comm_manager;\n        comm_manager.register_target(comm_id, function(comm) {\n          comm.on_msg(msg_handler);\n        });\n      } else if ((plot_id in window.PyViz.kernels) && (window.PyViz.kernels[plot_id])) {\n        window.PyViz.kernels[plot_id].registerCommTarget(comm_id, function(comm) {\n          comm.onMsg = msg_handler;\n        });\n      } else if (typeof google != 'undefined' && google.colab.kernel != null) {\n        google.colab.kernel.comms.registerTarget(comm_id, (comm) => {\n          var messages = comm.messages[Symbol.asyncIterator]();\n          function processIteratorResult(result) {\n            var message = result.value;\n            console.log(message)\n            var content = {data: message.data, comm_id};\n            var buffers = []\n            for (var buffer of message.buffers || []) {\n              buffers.push(new DataView(buffer))\n            }\n            var metadata = message.metadata || {};\n            var msg = {content, buffers, metadata}\n            msg_handler(msg);\n            return messages.next().then(processIteratorResult);\n          }\n          return messages.next().then(processIteratorResult);\n        })\n      }\n    }\n\n    JupyterCommManager.prototype.get_client_comm = function(plot_id, comm_id, msg_handler) {\n      if (comm_id in window.PyViz.comms) {\n        return window.PyViz.comms[comm_id];\n      } else if (window.comm_manager || ((window.Jupyter !== undefined) && (Jupyter.notebook.kernel != null))) {\n        var comm_manager = window.comm_manager || Jupyter.notebook.kernel.comm_manager;\n        var comm = comm_manager.new_comm(comm_id, {}, {}, {}, comm_id);\n        if (msg_handler) {\n          comm.on_msg(msg_handler);\n        }\n      } else if ((plot_id in window.PyViz.kernels) && (window.PyViz.kernels[plot_id])) {\n        var comm = window.PyViz.kernels[plot_id].connectToComm(comm_id);\n        comm.open();\n        if (msg_handler) {\n          comm.onMsg = msg_handler;\n        }\n      } else if (typeof google != 'undefined' && google.colab.kernel != null) {\n        var comm_promise = google.colab.kernel.comms.open(comm_id)\n        comm_promise.then((comm) => {\n          window.PyViz.comms[comm_id] = comm;\n          if (msg_handler) {\n            var messages = comm.messages[Symbol.asyncIterator]();\n            function processIteratorResult(result) {\n              var message = result.value;\n              var content = {data: message.data};\n              var metadata = message.metadata || {comm_id};\n              var msg = {content, metadata}\n              msg_handler(msg);\n              return messages.next().then(processIteratorResult);\n            }\n            return messages.next().then(processIteratorResult);\n          }\n        })\n        var sendClosure = (data, metadata, buffers, disposeOnDone) => {\n          return comm_promise.then((comm) => {\n            comm.send(data, metadata, buffers, disposeOnDone);\n          });\n        };\n        var comm = {\n          send: sendClosure\n        };\n      }\n      window.PyViz.comms[comm_id] = comm;\n      return comm;\n    }\n    window.PyViz.comm_manager = new JupyterCommManager();\n    \n\n\nvar JS_MIME_TYPE = 'application/javascript';\nvar HTML_MIME_TYPE = 'text/html';\nvar EXEC_MIME_TYPE = 'application/vnd.holoviews_exec.v0+json';\nvar CLASS_NAME = 'output';\n\n/**\n * Render data to the DOM node\n */\nfunction render(props, node) {\n  var div = document.createElement(\"div\");\n  var script = document.createElement(\"script\");\n  node.appendChild(div);\n  node.appendChild(script);\n}\n\n/**\n * Handle when a new output is added\n */\nfunction handle_add_output(event, handle) {\n  var output_area = handle.output_area;\n  var output = handle.output;\n  if ((output.data == undefined) || (!output.data.hasOwnProperty(EXEC_MIME_TYPE))) {\n    return\n  }\n  var id = output.metadata[EXEC_MIME_TYPE][\"id\"];\n  var toinsert = output_area.element.find(\".\" + CLASS_NAME.split(' ')[0]);\n  if (id !== undefined) {\n    var nchildren = toinsert.length;\n    var html_node = toinsert[nchildren-1].children[0];\n    html_node.innerHTML = output.data[HTML_MIME_TYPE];\n    var scripts = [];\n    var nodelist = html_node.querySelectorAll(\"script\");\n    for (var i in nodelist) {\n      if (nodelist.hasOwnProperty(i)) {\n        scripts.push(nodelist[i])\n      }\n    }\n\n    scripts.forEach( function (oldScript) {\n      var newScript = document.createElement(\"script\");\n      var attrs = [];\n      var nodemap = oldScript.attributes;\n      for (var j in nodemap) {\n        if (nodemap.hasOwnProperty(j)) {\n          attrs.push(nodemap[j])\n        }\n      }\n      attrs.forEach(function(attr) { newScript.setAttribute(attr.name, attr.value) });\n      newScript.appendChild(document.createTextNode(oldScript.innerHTML));\n      oldScript.parentNode.replaceChild(newScript, oldScript);\n    });\n    if (JS_MIME_TYPE in output.data) {\n      toinsert[nchildren-1].children[1].textContent = output.data[JS_MIME_TYPE];\n    }\n    output_area._hv_plot_id = id;\n    if ((window.Bokeh !== undefined) && (id in Bokeh.index)) {\n      window.PyViz.plot_index[id] = Bokeh.index[id];\n    } else {\n      window.PyViz.plot_index[id] = null;\n    }\n  } else if (output.metadata[EXEC_MIME_TYPE][\"server_id\"] !== undefined) {\n    var bk_div = document.createElement(\"div\");\n    bk_div.innerHTML = output.data[HTML_MIME_TYPE];\n    var script_attrs = bk_div.children[0].attributes;\n    for (var i = 0; i < script_attrs.length; i++) {\n      toinsert[toinsert.length - 1].childNodes[1].setAttribute(script_attrs[i].name, script_attrs[i].value);\n    }\n    // store reference to server id on output_area\n    output_area._bokeh_server_id = output.metadata[EXEC_MIME_TYPE][\"server_id\"];\n  }\n}\n\n/**\n * Handle when an output is cleared or removed\n */\nfunction handle_clear_output(event, handle) {\n  var id = handle.cell.output_area._hv_plot_id;\n  var server_id = handle.cell.output_area._bokeh_server_id;\n  if (((id === undefined) || !(id in PyViz.plot_index)) && (server_id !== undefined)) { return; }\n  var comm = window.PyViz.comm_manager.get_client_comm(\"hv-extension-comm\", \"hv-extension-comm\", function () {});\n  if (server_id !== null) {\n    comm.send({event_type: 'server_delete', 'id': server_id});\n    return;\n  } else if (comm !== null) {\n    comm.send({event_type: 'delete', 'id': id});\n  }\n  delete PyViz.plot_index[id];\n  if ((window.Bokeh !== undefined) & (id in window.Bokeh.index)) {\n    var doc = window.Bokeh.index[id].model.document\n    doc.clear();\n    const i = window.Bokeh.documents.indexOf(doc);\n    if (i > -1) {\n      window.Bokeh.documents.splice(i, 1);\n    }\n  }\n}\n\n/**\n * Handle kernel restart event\n */\nfunction handle_kernel_cleanup(event, handle) {\n  delete PyViz.comms[\"hv-extension-comm\"];\n  window.PyViz.plot_index = {}\n}\n\n/**\n * Handle update_display_data messages\n */\nfunction handle_update_output(event, handle) {\n  handle_clear_output(event, {cell: {output_area: handle.output_area}})\n  handle_add_output(event, handle)\n}\n\nfunction register_renderer(events, OutputArea) {\n  function append_mime(data, metadata, element) {\n    // create a DOM node to render to\n    var toinsert = this.create_output_subarea(\n    metadata,\n    CLASS_NAME,\n    EXEC_MIME_TYPE\n    );\n    this.keyboard_manager.register_events(toinsert);\n    // Render to node\n    var props = {data: data, metadata: metadata[EXEC_MIME_TYPE]};\n    render(props, toinsert[0]);\n    element.append(toinsert);\n    return toinsert\n  }\n\n  events.on('output_added.OutputArea', handle_add_output);\n  events.on('output_updated.OutputArea', handle_update_output);\n  events.on('clear_output.CodeCell', handle_clear_output);\n  events.on('delete.Cell', handle_clear_output);\n  events.on('kernel_ready.Kernel', handle_kernel_cleanup);\n\n  OutputArea.prototype.register_mime_type(EXEC_MIME_TYPE, append_mime, {\n    safe: true,\n    index: 0\n  });\n}\n\nif (window.Jupyter !== undefined) {\n  try {\n    var events = require('base/js/events');\n    var OutputArea = require('notebook/js/outputarea').OutputArea;\n    if (OutputArea.prototype.mime_types().indexOf(EXEC_MIME_TYPE) == -1) {\n      register_renderer(events, OutputArea);\n    }\n  } catch(err) {\n  }\n}\n",
      "application/vnd.holoviews_load.v0+json": ""
     },
     "metadata": {},
     "output_type": "display_data"
    },
    {
     "data": {
      "application/vnd.holoviews_exec.v0+json": "",
      "text/html": [
       "<div id='7416a12b-13cd-4ad0-84b7-ae81c50d4585'>\n",
       "  <div id=\"a739442c-ebc3-4d0e-885d-ca25c35d8900\" data-root-id=\"7416a12b-13cd-4ad0-84b7-ae81c50d4585\" style=\"display: contents;\"></div>\n",
       "</div>\n",
       "<script type=\"application/javascript\">(function(root) {\n",
       "  var docs_json = {\"e34df296-2e50-4c76-9bde-b820d22168e2\":{\"version\":\"3.7.2\",\"title\":\"Bokeh Application\",\"roots\":[{\"type\":\"object\",\"name\":\"panel.models.browser.BrowserInfo\",\"id\":\"7416a12b-13cd-4ad0-84b7-ae81c50d4585\"},{\"type\":\"object\",\"name\":\"panel.models.comm_manager.CommManager\",\"id\":\"6dec13ec-71c3-48d2-bc61-30fec38f9e81\",\"attributes\":{\"plot_id\":\"7416a12b-13cd-4ad0-84b7-ae81c50d4585\",\"comm_id\":\"81cb2a6b389d4082b1aa6f05151ada25\",\"client_comm_id\":\"cb81bec79f42450185489ae68c206f0c\"}}],\"defs\":[{\"type\":\"model\",\"name\":\"ReactiveHTML1\"},{\"type\":\"model\",\"name\":\"FlexBox1\",\"properties\":[{\"name\":\"align_content\",\"kind\":\"Any\",\"default\":\"flex-start\"},{\"name\":\"align_items\",\"kind\":\"Any\",\"default\":\"flex-start\"},{\"name\":\"flex_direction\",\"kind\":\"Any\",\"default\":\"row\"},{\"name\":\"flex_wrap\",\"kind\":\"Any\",\"default\":\"wrap\"},{\"name\":\"gap\",\"kind\":\"Any\",\"default\":\"\"},{\"name\":\"justify_content\",\"kind\":\"Any\",\"default\":\"flex-start\"}]},{\"type\":\"model\",\"name\":\"FloatPanel1\",\"properties\":[{\"name\":\"config\",\"kind\":\"Any\",\"default\":{\"type\":\"map\"}},{\"name\":\"contained\",\"kind\":\"Any\",\"default\":true},{\"name\":\"position\",\"kind\":\"Any\",\"default\":\"right-top\"},{\"name\":\"offsetx\",\"kind\":\"Any\",\"default\":null},{\"name\":\"offsety\",\"kind\":\"Any\",\"default\":null},{\"name\":\"theme\",\"kind\":\"Any\",\"default\":\"primary\"},{\"name\":\"status\",\"kind\":\"Any\",\"default\":\"normalized\"}]},{\"type\":\"model\",\"name\":\"GridStack1\",\"properties\":[{\"name\":\"ncols\",\"kind\":\"Any\",\"default\":null},{\"name\":\"nrows\",\"kind\":\"Any\",\"default\":null},{\"name\":\"allow_resize\",\"kind\":\"Any\",\"default\":true},{\"name\":\"allow_drag\",\"kind\":\"Any\",\"default\":true},{\"name\":\"state\",\"kind\":\"Any\",\"default\":[]}]},{\"type\":\"model\",\"name\":\"drag1\",\"properties\":[{\"name\":\"slider_width\",\"kind\":\"Any\",\"default\":5},{\"name\":\"slider_color\",\"kind\":\"Any\",\"default\":\"black\"},{\"name\":\"value\",\"kind\":\"Any\",\"default\":50}]},{\"type\":\"model\",\"name\":\"click1\",\"properties\":[{\"name\":\"terminal_output\",\"kind\":\"Any\",\"default\":\"\"},{\"name\":\"debug_name\",\"kind\":\"Any\",\"default\":\"\"},{\"name\":\"clears\",\"kind\":\"Any\",\"default\":0}]},{\"type\":\"model\",\"name\":\"FastWrapper1\",\"properties\":[{\"name\":\"object\",\"kind\":\"Any\",\"default\":null},{\"name\":\"style\",\"kind\":\"Any\",\"default\":null}]},{\"type\":\"model\",\"name\":\"NotificationArea1\",\"properties\":[{\"name\":\"js_events\",\"kind\":\"Any\",\"default\":{\"type\":\"map\"}},{\"name\":\"max_notifications\",\"kind\":\"Any\",\"default\":5},{\"name\":\"notifications\",\"kind\":\"Any\",\"default\":[]},{\"name\":\"position\",\"kind\":\"Any\",\"default\":\"bottom-right\"},{\"name\":\"_clear\",\"kind\":\"Any\",\"default\":0},{\"name\":\"types\",\"kind\":\"Any\",\"default\":[{\"type\":\"map\",\"entries\":[[\"type\",\"warning\"],[\"background\",\"#ffc107\"],[\"icon\",{\"type\":\"map\",\"entries\":[[\"className\",\"fas fa-exclamation-triangle\"],[\"tagName\",\"i\"],[\"color\",\"white\"]]}]]},{\"type\":\"map\",\"entries\":[[\"type\",\"info\"],[\"background\",\"#007bff\"],[\"icon\",{\"type\":\"map\",\"entries\":[[\"className\",\"fas fa-info-circle\"],[\"tagName\",\"i\"],[\"color\",\"white\"]]}]]}]}]},{\"type\":\"model\",\"name\":\"Notification\",\"properties\":[{\"name\":\"background\",\"kind\":\"Any\",\"default\":null},{\"name\":\"duration\",\"kind\":\"Any\",\"default\":3000},{\"name\":\"icon\",\"kind\":\"Any\",\"default\":null},{\"name\":\"message\",\"kind\":\"Any\",\"default\":\"\"},{\"name\":\"notification_type\",\"kind\":\"Any\",\"default\":null},{\"name\":\"_rendered\",\"kind\":\"Any\",\"default\":false},{\"name\":\"_destroyed\",\"kind\":\"Any\",\"default\":false}]},{\"type\":\"model\",\"name\":\"TemplateActions1\",\"properties\":[{\"name\":\"open_modal\",\"kind\":\"Any\",\"default\":0},{\"name\":\"close_modal\",\"kind\":\"Any\",\"default\":0}]},{\"type\":\"model\",\"name\":\"BootstrapTemplateActions1\",\"properties\":[{\"name\":\"open_modal\",\"kind\":\"Any\",\"default\":0},{\"name\":\"close_modal\",\"kind\":\"Any\",\"default\":0}]},{\"type\":\"model\",\"name\":\"TemplateEditor1\",\"properties\":[{\"name\":\"layout\",\"kind\":\"Any\",\"default\":[]}]},{\"type\":\"model\",\"name\":\"MaterialTemplateActions1\",\"properties\":[{\"name\":\"open_modal\",\"kind\":\"Any\",\"default\":0},{\"name\":\"close_modal\",\"kind\":\"Any\",\"default\":0}]},{\"type\":\"model\",\"name\":\"ReactiveESM1\",\"properties\":[{\"name\":\"esm_constants\",\"kind\":\"Any\",\"default\":{\"type\":\"map\"}}]},{\"type\":\"model\",\"name\":\"JSComponent1\",\"properties\":[{\"name\":\"esm_constants\",\"kind\":\"Any\",\"default\":{\"type\":\"map\"}}]},{\"type\":\"model\",\"name\":\"ReactComponent1\",\"properties\":[{\"name\":\"esm_constants\",\"kind\":\"Any\",\"default\":{\"type\":\"map\"}}]},{\"type\":\"model\",\"name\":\"AnyWidgetComponent1\",\"properties\":[{\"name\":\"esm_constants\",\"kind\":\"Any\",\"default\":{\"type\":\"map\"}}]},{\"type\":\"model\",\"name\":\"request_value1\",\"properties\":[{\"name\":\"fill\",\"kind\":\"Any\",\"default\":\"none\"},{\"name\":\"_synced\",\"kind\":\"Any\",\"default\":null},{\"name\":\"_request_sync\",\"kind\":\"Any\",\"default\":0}]}]}};\n",
       "  var render_items = [{\"docid\":\"e34df296-2e50-4c76-9bde-b820d22168e2\",\"roots\":{\"7416a12b-13cd-4ad0-84b7-ae81c50d4585\":\"a739442c-ebc3-4d0e-885d-ca25c35d8900\"},\"root_ids\":[\"7416a12b-13cd-4ad0-84b7-ae81c50d4585\"]}];\n",
       "  var docs = Object.values(docs_json)\n",
       "  if (!docs) {\n",
       "    return\n",
       "  }\n",
       "  const py_version = docs[0].version.replace('rc', '-rc.').replace('.dev', '-dev.')\n",
       "  async function embed_document(root) {\n",
       "    var Bokeh = get_bokeh(root)\n",
       "    await Bokeh.embed.embed_items_notebook(docs_json, render_items);\n",
       "    for (const render_item of render_items) {\n",
       "      for (const root_id of render_item.root_ids) {\n",
       "\tconst id_el = document.getElementById(root_id)\n",
       "\tif (id_el.children.length && id_el.children[0].hasAttribute('data-root-id')) {\n",
       "\t  const root_el = id_el.children[0]\n",
       "\t  root_el.id = root_el.id + '-rendered'\n",
       "\t  for (const child of root_el.children) {\n",
       "            // Ensure JupyterLab does not capture keyboard shortcuts\n",
       "            // see: https://jupyterlab.readthedocs.io/en/4.1.x/extension/notebook.html#keyboard-interaction-model\n",
       "\t    child.setAttribute('data-lm-suppress-shortcuts', 'true')\n",
       "\t  }\n",
       "\t}\n",
       "      }\n",
       "    }\n",
       "  }\n",
       "  function get_bokeh(root) {\n",
       "    if (root.Bokeh === undefined) {\n",
       "      return null\n",
       "    } else if (root.Bokeh.version !== py_version) {\n",
       "      if (root.Bokeh.versions === undefined || !root.Bokeh.versions.has(py_version)) {\n",
       "\treturn null\n",
       "      }\n",
       "      return root.Bokeh.versions.get(py_version);\n",
       "    } else if (root.Bokeh.version === py_version) {\n",
       "      return root.Bokeh\n",
       "    }\n",
       "    return null\n",
       "  }\n",
       "  function is_loaded(root) {\n",
       "    var Bokeh = get_bokeh(root)\n",
       "    return (Bokeh != null && Bokeh.Panel !== undefined)\n",
       "  }\n",
       "  if (is_loaded(root)) {\n",
       "    embed_document(root);\n",
       "  } else {\n",
       "    var attempts = 0;\n",
       "    var timer = setInterval(function(root) {\n",
       "      if (is_loaded(root)) {\n",
       "        clearInterval(timer);\n",
       "        embed_document(root);\n",
       "      } else if (document.readyState == \"complete\") {\n",
       "        attempts++;\n",
       "        if (attempts > 200) {\n",
       "          clearInterval(timer);\n",
       "\t  var Bokeh = get_bokeh(root)\n",
       "\t  if (Bokeh == null || Bokeh.Panel == null) {\n",
       "            console.warn(\"Panel: ERROR: Unable to run Panel code because Bokeh or Panel library is missing\");\n",
       "\t  } else {\n",
       "\t    console.warn(\"Panel: WARNING: Attempting to render but not all required libraries could be resolved.\")\n",
       "\t    embed_document(root)\n",
       "\t  }\n",
       "        }\n",
       "      }\n",
       "    }, 25, root)\n",
       "  }\n",
       "})(window);</script>"
      ]
     },
     "metadata": {
      "application/vnd.holoviews_exec.v0+json": {
       "id": "7416a12b-13cd-4ad0-84b7-ae81c50d4585"
      }
     },
     "output_type": "display_data"
    }
   ],
   "source": [
    "from bs4 import BeautifulSoup\n",
    "# import pandas as pd\n",
    "from datetime import datetime, timedelta\n",
    "from itertools import combinations\n",
    "import json\n",
    "import requests\n",
    "import math\n",
    "from typing import Optional, List, Dict\n",
    "import os\n",
    "\n",
    "from pydantic import BaseModel\n",
    "from typing import Mapping\n",
    "import numpy as np\n",
    "import polars as pl\n",
    "import hvplot.polars\n",
    "import pandas as pd\n",
    "import altair as alt\n",
    "import math\n",
    "\n",
    "from shared.utils import formalize_data_with_str\n",
    "from shared.random_rules import RandomRules"
   ]
  },
  {
   "cell_type": "code",
   "execution_count": 43,
   "metadata": {},
   "outputs": [],
   "source": [
    "rr = RandomRules(\n",
    "  TOTAL_NUMBERS = 50,\n",
    "  CHOOSE = 6,\n",
    "  MAX_PRIMES = 3,\n",
    "  N_VALUES=[\"1\", \"2\", \"3\"],\n",
    "  # Rangos de valores de las bolillas\n",
    "  MIN_B_VALUES = [1, 2, 3, 4, 5, 6],\n",
    "  MAX_B_VALUES = [45, 46, 47, 48, 49, 50]\n",
    ")"
   ]
  },
  {
   "cell_type": "code",
   "execution_count": 44,
   "metadata": {},
   "outputs": [],
   "source": [
    "url = 'https://resultados.latinka.com.pe/i.do?m=historico&t=0&s=41'\n",
    "response = requests.get(url)\n",
    "soup = BeautifulSoup(response.text, 'html.parser')\n",
    "\n",
    "tables = soup.select('table')\n",
    "rows = tables[1].find_all('tr')"
   ]
  },
  {
   "cell_type": "code",
   "execution_count": 58,
   "metadata": {},
   "outputs": [
    {
     "name": "stdout",
     "output_type": "stream",
     "text": [
      "TOTAL_LINES=2476\n"
     ]
    },
    {
     "data": {
      "text/html": [
       "<div><style>\n",
       ".dataframe > thead > tr,\n",
       ".dataframe > tbody > tr {\n",
       "  text-align: right;\n",
       "  white-space: pre-wrap;\n",
       "}\n",
       "</style>\n",
       "<small>shape: (10, 30)</small><table border=\"1\" class=\"dataframe\"><thead><tr><th>fecha</th><th>sorteo</th><th>bolillas</th><th>yapa</th><th>adicionales</th><th>sorteo_extra</th><th>id</th><th>combo</th><th>b1</th><th>b2</th><th>b3</th><th>b4</th><th>b5</th><th>b6</th><th>str_b1</th><th>str_b2</th><th>str_b3</th><th>str_b4</th><th>str_b5</th><th>str_b6</th><th>post_str_b1</th><th>post_str_b2</th><th>post_str_b3</th><th>post_str_b4</th><th>post_str_b5</th><th>post_str_blast</th><th>is_rare_combination</th><th>reason</th><th>jumps_map</th><th>unijump</th></tr><tr><td>str</td><td>str</td><td>str</td><td>str</td><td>str</td><td>str</td><td>str</td><td>array[u8, 6]</td><td>u8</td><td>u8</td><td>u8</td><td>u8</td><td>u8</td><td>u8</td><td>str</td><td>str</td><td>str</td><td>str</td><td>str</td><td>str</td><td>str</td><td>str</td><td>str</td><td>str</td><td>str</td><td>str</td><td>bool</td><td>u8</td><td>str</td><td>i64</td></tr></thead><tbody><tr><td>&quot;14/05/2025&quot;</td><td>&quot;1194&quot;</td><td>&quot;38 07 12 13 04 09&quot;</td><td>&quot;42&quot;</td><td>&quot;46 28&quot;</td><td>&quot;Promoción Sí o Sí&quot;</td><td>&quot;040709121338&quot;</td><td>[4, 7, … 38]</td><td>4</td><td>7</td><td>9</td><td>12</td><td>13</td><td>38</td><td>&quot;04&quot;</td><td>&quot;07&quot;</td><td>&quot;09&quot;</td><td>&quot;12&quot;</td><td>&quot;13&quot;</td><td>&quot;38&quot;</td><td>null</td><td>null</td><td>null</td><td>null</td><td>null</td><td>null</td><td>false</td><td>0</td><td>&quot;03_02_03_01_25&quot;</td><td>34</td></tr><tr><td>&quot;11/05/2025&quot;</td><td>&quot;1193&quot;</td><td>&quot;46 21 49 45 03 43&quot;</td><td>&quot;17&quot;</td><td>&quot;20 30 32 44&quot;</td><td>&quot;Promoción Sí o Sí&quot;</td><td>&quot;032143454649&quot;</td><td>[3, 21, … 49]</td><td>3</td><td>21</td><td>43</td><td>45</td><td>46</td><td>49</td><td>&quot;03&quot;</td><td>&quot;21&quot;</td><td>&quot;43&quot;</td><td>&quot;45&quot;</td><td>&quot;46&quot;</td><td>&quot;49&quot;</td><td>&quot;04&quot;</td><td>&quot;07&quot;</td><td>&quot;09&quot;</td><td>&quot;12&quot;</td><td>&quot;13&quot;</td><td>&quot;38&quot;</td><td>false</td><td>0</td><td>&quot;18_22_02_01_03&quot;</td><td>-59</td></tr><tr><td>&quot;07/05/2025&quot;</td><td>&quot;1192&quot;</td><td>&quot;48 02 38 50 33 35&quot;</td><td>&quot;49&quot;</td><td>&quot;20 16&quot;</td><td>&quot;Promoción Sí o Sí&quot;</td><td>&quot;023335384850&quot;</td><td>[2, 33, … 50]</td><td>2</td><td>33</td><td>35</td><td>38</td><td>48</td><td>50</td><td>&quot;02&quot;</td><td>&quot;33&quot;</td><td>&quot;35&quot;</td><td>&quot;38&quot;</td><td>&quot;48&quot;</td><td>&quot;50&quot;</td><td>&quot;03&quot;</td><td>&quot;21&quot;</td><td>&quot;43&quot;</td><td>&quot;45&quot;</td><td>&quot;46&quot;</td><td>&quot;49&quot;</td><td>true</td><td>16</td><td>&quot;31_02_03_10_02&quot;</td><td>3</td></tr><tr><td>&quot;04/05/2025&quot;</td><td>&quot;1191&quot;</td><td>&quot;09 35 19 15 37 10&quot;</td><td>&quot;46&quot;</td><td>&quot;25 02 38&quot;</td><td>&quot;Promoción Sí o Sí&quot;</td><td>&quot;091015193537&quot;</td><td>[9, 10, … 37]</td><td>9</td><td>10</td><td>15</td><td>19</td><td>35</td><td>37</td><td>&quot;09&quot;</td><td>&quot;10&quot;</td><td>&quot;15&quot;</td><td>&quot;19&quot;</td><td>&quot;35&quot;</td><td>&quot;37&quot;</td><td>&quot;02&quot;</td><td>&quot;33&quot;</td><td>&quot;35&quot;</td><td>&quot;38&quot;</td><td>&quot;48&quot;</td><td>&quot;50&quot;</td><td>true</td><td>16</td><td>&quot;01_05_04_16_02&quot;</td><td>-57</td></tr><tr><td>&quot;30/04/2025&quot;</td><td>&quot;1190&quot;</td><td>&quot;11 36 33 06 02 16&quot;</td><td>&quot;37&quot;</td><td>&quot;14 07 10 01&quot;</td><td>&quot;Promoción Sí o Sí&quot;</td><td>&quot;020611163336&quot;</td><td>[2, 6, … 36]</td><td>2</td><td>6</td><td>11</td><td>16</td><td>33</td><td>36</td><td>&quot;02&quot;</td><td>&quot;06&quot;</td><td>&quot;11&quot;</td><td>&quot;16&quot;</td><td>&quot;33&quot;</td><td>&quot;36&quot;</td><td>&quot;09&quot;</td><td>&quot;10&quot;</td><td>&quot;15&quot;</td><td>&quot;19&quot;</td><td>&quot;35&quot;</td><td>&quot;37&quot;</td><td>true</td><td>8</td><td>&quot;04_05_05_17_03&quot;</td><td>-51</td></tr><tr><td>&quot;27/04/2025&quot;</td><td>&quot;1189&quot;</td><td>&quot;46 33 21 08 07 41&quot;</td><td>&quot;39&quot;</td><td>&quot;36 09 37&quot;</td><td>&quot;Promoción Sí o Sí&quot;</td><td>&quot;070821334146&quot;</td><td>[7, 8, … 46]</td><td>7</td><td>8</td><td>21</td><td>33</td><td>41</td><td>46</td><td>&quot;07&quot;</td><td>&quot;08&quot;</td><td>&quot;21&quot;</td><td>&quot;33&quot;</td><td>&quot;41&quot;</td><td>&quot;46&quot;</td><td>&quot;02&quot;</td><td>&quot;06&quot;</td><td>&quot;11&quot;</td><td>&quot;16&quot;</td><td>&quot;33&quot;</td><td>&quot;36&quot;</td><td>false</td><td>0</td><td>&quot;01_13_12_08_05&quot;</td><td>-6</td></tr><tr><td>&quot;23/04/2025&quot;</td><td>&quot;1188&quot;</td><td>&quot;22 16 20 33 35 09&quot;</td><td>&quot;46&quot;</td><td>&quot;24&quot;</td><td>&quot;Promoción Sí o Sí&quot;</td><td>&quot;091620223335&quot;</td><td>[9, 16, … 35]</td><td>9</td><td>16</td><td>20</td><td>22</td><td>33</td><td>35</td><td>&quot;09&quot;</td><td>&quot;16&quot;</td><td>&quot;20&quot;</td><td>&quot;22&quot;</td><td>&quot;33&quot;</td><td>&quot;35&quot;</td><td>&quot;07&quot;</td><td>&quot;08&quot;</td><td>&quot;21&quot;</td><td>&quot;33&quot;</td><td>&quot;41&quot;</td><td>&quot;46&quot;</td><td>false</td><td>0</td><td>&quot;07_04_02_11_02&quot;</td><td>-39</td></tr><tr><td>&quot;20/04/2025&quot;</td><td>&quot;1187&quot;</td><td>&quot;33 02 06 42 34 11&quot;</td><td>&quot;37&quot;</td><td>&quot;49 20&quot;</td><td>&quot;Promoción Sí o Sí&quot;</td><td>&quot;020611333442&quot;</td><td>[2, 6, … 42]</td><td>2</td><td>6</td><td>11</td><td>33</td><td>34</td><td>42</td><td>&quot;02&quot;</td><td>&quot;06&quot;</td><td>&quot;11&quot;</td><td>&quot;33&quot;</td><td>&quot;34&quot;</td><td>&quot;42&quot;</td><td>&quot;09&quot;</td><td>&quot;16&quot;</td><td>&quot;20&quot;</td><td>&quot;22&quot;</td><td>&quot;33&quot;</td><td>&quot;35&quot;</td><td>false</td><td>0</td><td>&quot;04_05_22_01_08&quot;</td><td>120</td></tr><tr><td>&quot;16/04/2025&quot;</td><td>&quot;1186&quot;</td><td>&quot;14 31 46 38 48 12&quot;</td><td>&quot;15&quot;</td><td>&quot;39 30&quot;</td><td>&quot;Promoción Sí o Sí&quot;</td><td>&quot;121431384648&quot;</td><td>[12, 14, … 48]</td><td>12</td><td>14</td><td>31</td><td>38</td><td>46</td><td>48</td><td>&quot;12&quot;</td><td>&quot;14&quot;</td><td>&quot;31&quot;</td><td>&quot;38&quot;</td><td>&quot;46&quot;</td><td>&quot;48&quot;</td><td>&quot;02&quot;</td><td>&quot;06&quot;</td><td>&quot;11&quot;</td><td>&quot;33&quot;</td><td>&quot;34&quot;</td><td>&quot;42&quot;</td><td>false</td><td>0</td><td>&quot;02_17_07_08_02&quot;</td><td>-54</td></tr><tr><td>&quot;13/04/2025&quot;</td><td>&quot;1185&quot;</td><td>&quot;22 36 39 48 46 44&quot;</td><td>&quot;28&quot;</td><td>&quot;09 40&quot;</td><td>&quot;Promoción Sí o Sí&quot;</td><td>&quot;223639444648&quot;</td><td>[22, 36, … 48]</td><td>22</td><td>36</td><td>39</td><td>44</td><td>46</td><td>48</td><td>&quot;22&quot;</td><td>&quot;36&quot;</td><td>&quot;39&quot;</td><td>&quot;44&quot;</td><td>&quot;46&quot;</td><td>&quot;48&quot;</td><td>&quot;12&quot;</td><td>&quot;14&quot;</td><td>&quot;31&quot;</td><td>&quot;38&quot;</td><td>&quot;46&quot;</td><td>&quot;48&quot;</td><td>true</td><td>24</td><td>&quot;14_03_05_02_02&quot;</td><td>26</td></tr></tbody></table></div>"
      ],
      "text/plain": [
       "shape: (10, 30)\n",
       "┌────────────┬────────┬───────────────┬──────┬───┬───────────────┬────────┬──────────────┬─────────┐\n",
       "│ fecha      ┆ sorteo ┆ bolillas      ┆ yapa ┆ … ┆ is_rare_combi ┆ reason ┆ jumps_map    ┆ unijump │\n",
       "│ ---        ┆ ---    ┆ ---           ┆ ---  ┆   ┆ nation        ┆ ---    ┆ ---          ┆ ---     │\n",
       "│ str        ┆ str    ┆ str           ┆ str  ┆   ┆ ---           ┆ u8     ┆ str          ┆ i64     │\n",
       "│            ┆        ┆               ┆      ┆   ┆ bool          ┆        ┆              ┆         │\n",
       "╞════════════╪════════╪═══════════════╪══════╪═══╪═══════════════╪════════╪══════════════╪═════════╡\n",
       "│ 14/05/2025 ┆ 1194   ┆ 38 07 12 13   ┆ 42   ┆ … ┆ false         ┆ 0      ┆ 03_02_03_01_ ┆ 34      │\n",
       "│            ┆        ┆ 04 09         ┆      ┆   ┆               ┆        ┆ 25           ┆         │\n",
       "│ 11/05/2025 ┆ 1193   ┆ 46 21 49 45   ┆ 17   ┆ … ┆ false         ┆ 0      ┆ 18_22_02_01_ ┆ -59     │\n",
       "│            ┆        ┆ 03 43         ┆      ┆   ┆               ┆        ┆ 03           ┆         │\n",
       "│ 07/05/2025 ┆ 1192   ┆ 48 02 38 50   ┆ 49   ┆ … ┆ true          ┆ 16     ┆ 31_02_03_10_ ┆ 3       │\n",
       "│            ┆        ┆ 33 35         ┆      ┆   ┆               ┆        ┆ 02           ┆         │\n",
       "│ 04/05/2025 ┆ 1191   ┆ 09 35 19 15   ┆ 46   ┆ … ┆ true          ┆ 16     ┆ 01_05_04_16_ ┆ -57     │\n",
       "│            ┆        ┆ 37 10         ┆      ┆   ┆               ┆        ┆ 02           ┆         │\n",
       "│ 30/04/2025 ┆ 1190   ┆ 11 36 33 06   ┆ 37   ┆ … ┆ true          ┆ 8      ┆ 04_05_05_17_ ┆ -51     │\n",
       "│            ┆        ┆ 02 16         ┆      ┆   ┆               ┆        ┆ 03           ┆         │\n",
       "│ 27/04/2025 ┆ 1189   ┆ 46 33 21 08   ┆ 39   ┆ … ┆ false         ┆ 0      ┆ 01_13_12_08_ ┆ -6      │\n",
       "│            ┆        ┆ 07 41         ┆      ┆   ┆               ┆        ┆ 05           ┆         │\n",
       "│ 23/04/2025 ┆ 1188   ┆ 22 16 20 33   ┆ 46   ┆ … ┆ false         ┆ 0      ┆ 07_04_02_11_ ┆ -39     │\n",
       "│            ┆        ┆ 35 09         ┆      ┆   ┆               ┆        ┆ 02           ┆         │\n",
       "│ 20/04/2025 ┆ 1187   ┆ 33 02 06 42   ┆ 37   ┆ … ┆ false         ┆ 0      ┆ 04_05_22_01_ ┆ 120     │\n",
       "│            ┆        ┆ 34 11         ┆      ┆   ┆               ┆        ┆ 08           ┆         │\n",
       "│ 16/04/2025 ┆ 1186   ┆ 14 31 46 38   ┆ 15   ┆ … ┆ false         ┆ 0      ┆ 02_17_07_08_ ┆ -54     │\n",
       "│            ┆        ┆ 48 12         ┆      ┆   ┆               ┆        ┆ 02           ┆         │\n",
       "│ 13/04/2025 ┆ 1185   ┆ 22 36 39 48   ┆ 28   ┆ … ┆ true          ┆ 24     ┆ 14_03_05_02_ ┆ 26      │\n",
       "│            ┆        ┆ 46 44         ┆      ┆   ┆               ┆        ┆ 02           ┆         │\n",
       "└────────────┴────────┴───────────────┴──────┴───┴───────────────┴────────┴──────────────┴─────────┘"
      ]
     },
     "metadata": {},
     "output_type": "display_data"
    }
   ],
   "source": [
    "lst = []\n",
    "post_str_b1 = None\n",
    "post_str_b2 = None\n",
    "post_str_b3 = None\n",
    "post_str_b4 = None\n",
    "post_str_b5 = None\n",
    "post_str_blast = None\n",
    "for row in rows:\n",
    "  cols = [data.text.strip() for data in row.find_all('td')]\n",
    "  \n",
    "  id, bolillas_int, str_combo = formalize_data_with_str(bolillas_str=cols[2])\n",
    "  cols.append(id)\n",
    "  cols.append(bolillas_int)\n",
    "  cols.extend([b for b in bolillas_int])\n",
    "  cols.extend(str_combo)\n",
    "  cols.append(post_str_b1)\n",
    "  cols.append(post_str_b2)\n",
    "  cols.append(post_str_b3)\n",
    "  cols.append(post_str_b4)\n",
    "  cols.append(post_str_b5)\n",
    "  cols.append(post_str_blast)\n",
    "\n",
    "  is_rare, reason = rr.is_rare_combination(bolillas_int, id)\n",
    "  cols.append(is_rare)\n",
    "  cols.append(reason)\n",
    "\n",
    "  cols.append(rr.jumps_map(bolillas_int))\n",
    "  cols.append(rr.unijump(bolillas_int))\n",
    "  \n",
    "  lst.append(cols)\n",
    "\n",
    "  post_str_b1 = str_combo[0]\n",
    "  post_str_b2 = str_combo[1]\n",
    "  post_str_b3 = str_combo[2]\n",
    "  post_str_b4 = str_combo[3]\n",
    "  post_str_b5 = str_combo[4]\n",
    "  post_str_blast = str_combo[-1]\n",
    "\n",
    "with open('./gn_tnk_v3.json', 'w') as file: \n",
    "  json.dump(lst, file)\n",
    "\n",
    "dfRows = pl.DataFrame(\n",
    "  lst,\n",
    "  schema=[\n",
    "    'fecha', 'sorteo', 'bolillas', 'yapa', 'adicionales', 'sorteo_extra',\n",
    "    'id', 'combo', 'b1', 'b2', 'b3', 'b4', 'b5', 'b6',\n",
    "    'str_b1', 'str_b2', 'str_b3', 'str_b4', 'str_b5', 'str_b6',\n",
    "    'post_str_b1', 'post_str_b2', 'post_str_b3', 'post_str_b4', 'post_str_b5', 'post_str_blast',\n",
    "    'is_rare_combination', 'reason',\n",
    "    \"jumps_map\", \"unijump\"\n",
    "  ],\n",
    "  schema_overrides={\n",
    "    'combo': pl.Array(pl.UInt8, 6),\n",
    "    'b1': pl.UInt8,\n",
    "    'b2': pl.UInt8,\n",
    "    'b3': pl.UInt8,\n",
    "    'b4': pl.UInt8,\n",
    "    'b5': pl.UInt8,\n",
    "    'b6': pl.UInt8,\n",
    "    'reason': pl.UInt8\n",
    "  },\n",
    "  orient='row'\n",
    ")\n",
    "\n",
    "TOTAL_LINES = len(dfRows)\n",
    "print(f'{TOTAL_LINES=}')\n",
    "display(dfRows.head(10))\n",
    "dfRows.write_parquet('dfrows_tnk.parquet')"
   ]
  },
  {
   "cell_type": "code",
   "execution_count": 46,
   "metadata": {},
   "outputs": [
    {
     "data": {
      "text/plain": [
       "7"
      ]
     },
     "execution_count": 46,
     "metadata": {},
     "output_type": "execute_result"
    }
   ],
   "source": [
    "dfRows.item(0, 'b2')"
   ]
  },
  {
   "cell_type": "code",
   "execution_count": 47,
   "metadata": {},
   "outputs": [],
   "source": [
    "import holoviews as hv\n",
    "def plot_post_col (col: str, post_col: str, test_value: str | None = None):\n",
    "  if test_value == None:\n",
    "    test_value = dfRows.item(0, col)\n",
    "    print(f'Setting {test_value=}')\n",
    "\n",
    "  df_viz = dfRows \\\n",
    "    .filter(\n",
    "      pl.col(col) == test_value,\n",
    "      pl.col(post_col).is_not_null()\n",
    "    ) \\\n",
    "    .group_by(\n",
    "      post_col\n",
    "    ).agg(pl.count(post_col).alias('count')) \\\n",
    "    .sort(\"count\", descending=True)\n",
    "  \n",
    "  \n",
    "  df_10_last = dfRows \\\n",
    "    .filter(\n",
    "      pl.col(col) == test_value,\n",
    "      pl.col(post_col).is_not_null()\n",
    "    ) \\\n",
    "    .head(10)\n",
    "  \n",
    "  # Agrega una columna que sea el porcentaje de la frecuencia relativa\n",
    "  total = df_viz['count'].sum()\n",
    "  df_viz = df_viz.with_columns(\n",
    "    ( (pl.col('count') / total) * 100 ).alias('percent')\n",
    "  )\n",
    "\n",
    "  mean_percent = df_viz['percent'].mean()\n",
    "  mean_percent_75 = mean_percent * 75 / 50\n",
    "  mean_percent_25 = mean_percent * 25 / 50\n",
    "\n",
    "  chart = df_viz.hvplot.bar(\n",
    "    x=post_col,\n",
    "    y='percent'\n",
    "  )\n",
    "\n",
    "  chart = chart * hv.HLine(mean_percent).opts(color='red')\n",
    "  chart = chart * hv.HLine(mean_percent_75).opts(color='blue')\n",
    "  chart = chart * hv.HLine(mean_percent_25).opts(color='blue')\n",
    "  \n",
    "  chart.opts(default_tools=[\"pan\"])\n",
    "\n",
    "  df_jumps_map = dfRows \\\n",
    "    .filter(\n",
    "      pl.col(col) == test_value,\n",
    "      pl.col(post_col).is_not_null()\n",
    "    ) \\\n",
    "    .group_by(\n",
    "      'jumps_map'\n",
    "    ).agg(pl.count('jumps_map').alias('count')) \\\n",
    "    .sort(\"count\", descending=True)\n",
    "  \n",
    "  df_unijump = dfRows \\\n",
    "    .filter(\n",
    "      pl.col(col) == test_value,\n",
    "      pl.col(post_col).is_not_null()\n",
    "    ) \\\n",
    "    .group_by(\n",
    "      'unijump'\n",
    "    ).agg(pl.count('unijump').alias('count')) \\\n",
    "    .sort(\"count\", descending=True)\n",
    "\n",
    "\n",
    "  print(f'df_viz FOR {col} = {test_value}')\n",
    "  display(df_viz)\n",
    "\n",
    "  display(chart)\n",
    "  \n",
    "\n",
    "  print(f'df_10_last FOR {col} = {test_value}')\n",
    "  last_results = list(set(df_10_last[post_col][0:3]))\n",
    "  print(f'Last 3 results {last_results=}')\n",
    "  display(df_10_last)\n",
    "  \n",
    "  print(f'df_jumps_map FOR {col} = {test_value}')\n",
    "  display(df_jumps_map)\n",
    "  # display(df_unijump)\n",
    "\n",
    "  print(f'df_unijump FOR {col} = {test_value}')\n",
    "  display(df_unijump)\n",
    "\n",
    "  lst_post_str_b = df_viz.filter(pl.col('percent') >= mean_percent)[post_col].to_list()\n",
    "  lst_jumps_map = df_jumps_map['jumps_map'].to_list() # Used to discard\n",
    "  \n",
    "  return lst_post_str_b, lst_jumps_map, last_results"
   ]
  },
  {
   "cell_type": "code",
   "execution_count": 48,
   "metadata": {},
   "outputs": [
    {
     "name": "stdout",
     "output_type": "stream",
     "text": [
      "Setting test_value='04'\n",
      "df_viz FOR str_b1 = 04\n"
     ]
    },
    {
     "data": {
      "text/html": [
       "<div><style>\n",
       ".dataframe > thead > tr,\n",
       ".dataframe > tbody > tr {\n",
       "  text-align: right;\n",
       "  white-space: pre-wrap;\n",
       "}\n",
       "</style>\n",
       "<small>shape: (24, 3)</small><table border=\"1\" class=\"dataframe\"><thead><tr><th>post_str_b1</th><th>count</th><th>percent</th></tr><tr><td>str</td><td>u32</td><td>f64</td></tr></thead><tbody><tr><td>&quot;02&quot;</td><td>30</td><td>13.824885</td></tr><tr><td>&quot;05&quot;</td><td>26</td><td>11.981567</td></tr><tr><td>&quot;03&quot;</td><td>22</td><td>10.138249</td></tr><tr><td>&quot;01&quot;</td><td>22</td><td>10.138249</td></tr><tr><td>&quot;04&quot;</td><td>20</td><td>9.21659</td></tr><tr><td>&hellip;</td><td>&hellip;</td><td>&hellip;</td></tr><tr><td>&quot;20&quot;</td><td>2</td><td>0.921659</td></tr><tr><td>&quot;28&quot;</td><td>1</td><td>0.460829</td></tr><tr><td>&quot;17&quot;</td><td>1</td><td>0.460829</td></tr><tr><td>&quot;22&quot;</td><td>1</td><td>0.460829</td></tr><tr><td>&quot;21&quot;</td><td>1</td><td>0.460829</td></tr></tbody></table></div>"
      ],
      "text/plain": [
       "shape: (24, 3)\n",
       "┌─────────────┬───────┬───────────┐\n",
       "│ post_str_b1 ┆ count ┆ percent   │\n",
       "│ ---         ┆ ---   ┆ ---       │\n",
       "│ str         ┆ u32   ┆ f64       │\n",
       "╞═════════════╪═══════╪═══════════╡\n",
       "│ 02          ┆ 30    ┆ 13.824885 │\n",
       "│ 05          ┆ 26    ┆ 11.981567 │\n",
       "│ 03          ┆ 22    ┆ 10.138249 │\n",
       "│ 01          ┆ 22    ┆ 10.138249 │\n",
       "│ 04          ┆ 20    ┆ 9.21659   │\n",
       "│ …           ┆ …     ┆ …         │\n",
       "│ 20          ┆ 2     ┆ 0.921659  │\n",
       "│ 28          ┆ 1     ┆ 0.460829  │\n",
       "│ 17          ┆ 1     ┆ 0.460829  │\n",
       "│ 22          ┆ 1     ┆ 0.460829  │\n",
       "│ 21          ┆ 1     ┆ 0.460829  │\n",
       "└─────────────┴───────┴───────────┘"
      ]
     },
     "metadata": {},
     "output_type": "display_data"
    },
    {
     "data": {},
     "metadata": {},
     "output_type": "display_data"
    },
    {
     "data": {
      "application/vnd.holoviews_exec.v0+json": "",
      "text/html": [
       "<div id='05d293bb-a6e4-48ac-b815-910bbeac48cb'>\n",
       "  <div id=\"b8ac2923-3eb2-47da-b737-098788fbbe65\" data-root-id=\"05d293bb-a6e4-48ac-b815-910bbeac48cb\" style=\"display: contents;\"></div>\n",
       "</div>\n",
       "<script type=\"application/javascript\">(function(root) {\n",
       "  var docs_json = {\"dddb6e4a-97db-4f94-a35f-95e3289a617f\":{\"version\":\"3.7.2\",\"title\":\"Bokeh Application\",\"roots\":[{\"type\":\"object\",\"name\":\"Row\",\"id\":\"05d293bb-a6e4-48ac-b815-910bbeac48cb\",\"attributes\":{\"name\":\"Row01215\",\"tags\":[\"embedded\"],\"stylesheets\":[\"\\n:host(.pn-loading):before, .pn-loading:before {\\n  background-color: #c3c3c3;\\n  mask-size: auto calc(min(50%, 400px));\\n  -webkit-mask-size: auto calc(min(50%, 400px));\\n}\",{\"type\":\"object\",\"name\":\"ImportedStyleSheet\",\"id\":\"6fc2b601-1bbc-4b38-9810-6ae701fa0a24\",\"attributes\":{\"url\":\"https://cdn.holoviz.org/panel/1.6.2/dist/css/loading.css\"}},{\"type\":\"object\",\"name\":\"ImportedStyleSheet\",\"id\":\"19dbbf01-da08-4b1c-9399-f2b8d8c0d4f5\",\"attributes\":{\"url\":\"https://cdn.holoviz.org/panel/1.6.2/dist/css/listpanel.css\"}},{\"type\":\"object\",\"name\":\"ImportedStyleSheet\",\"id\":\"9988806d-744d-4fed-9d4a-ee4bf5a1c3db\",\"attributes\":{\"url\":\"https://cdn.holoviz.org/panel/1.6.2/dist/bundled/theme/default.css\"}},{\"type\":\"object\",\"name\":\"ImportedStyleSheet\",\"id\":\"89d6771e-f0c6-429f-9cbd-67c78d3b08f7\",\"attributes\":{\"url\":\"https://cdn.holoviz.org/panel/1.6.2/dist/bundled/theme/native.css\"}}],\"min_width\":700,\"margin\":0,\"sizing_mode\":\"stretch_width\",\"align\":\"start\",\"children\":[{\"type\":\"object\",\"name\":\"Spacer\",\"id\":\"505d8870-f597-48e4-a773-77751319216c\",\"attributes\":{\"name\":\"HSpacer01219\",\"stylesheets\":[\"\\n:host(.pn-loading):before, .pn-loading:before {\\n  background-color: #c3c3c3;\\n  mask-size: auto calc(min(50%, 400px));\\n  -webkit-mask-size: auto calc(min(50%, 400px));\\n}\",{\"id\":\"6fc2b601-1bbc-4b38-9810-6ae701fa0a24\"},{\"id\":\"9988806d-744d-4fed-9d4a-ee4bf5a1c3db\"},{\"id\":\"89d6771e-f0c6-429f-9cbd-67c78d3b08f7\"}],\"margin\":0,\"sizing_mode\":\"stretch_width\",\"align\":\"start\"}},{\"type\":\"object\",\"name\":\"Figure\",\"id\":\"f3f11cb9-d2eb-4507-aa34-d8cc656ad28f\",\"attributes\":{\"width\":700,\"height\":300,\"margin\":[5,10],\"sizing_mode\":\"fixed\",\"align\":\"start\",\"x_range\":{\"type\":\"object\",\"name\":\"FactorRange\",\"id\":\"4005d6cf-c42a-4dd4-9c44-ce3716d7add4\",\"attributes\":{\"name\":\"post_str_b1\",\"tags\":[[[\"post_str_b1\",null]],[]],\"factors\":[\"02\",\"05\",\"03\",\"01\",\"04\",\"07\",\"06\",\"14\",\"09\",\"11\",\"10\",\"08\",\"13\",\"18\",\"12\",\"15\",\"16\",\"19\",\"24\",\"20\",\"28\",\"17\",\"22\",\"21\"]}},\"y_range\":{\"type\":\"object\",\"name\":\"Range1d\",\"id\":\"439affdb-8248-4cd4-90c8-804dcc0c82b8\",\"attributes\":{\"name\":\"percent\",\"tags\":[[[\"percent\",null]],{\"type\":\"map\",\"entries\":[[\"invert_yaxis\",false],[\"autorange\",false]]}],\"end\":15.161290322580648,\"reset_start\":0.0,\"reset_end\":15.161290322580648}},\"x_scale\":{\"type\":\"object\",\"name\":\"CategoricalScale\",\"id\":\"75a31a20-f24a-4a6e-8db8-ab36756f4aef\"},\"y_scale\":{\"type\":\"object\",\"name\":\"LinearScale\",\"id\":\"bb3533e8-78ff-44fd-a1d6-afe3777f0200\"},\"title\":{\"type\":\"object\",\"name\":\"Title\",\"id\":\"75a78198-d1f1-459c-b96e-300856e13b63\",\"attributes\":{\"text_color\":\"black\",\"text_font_size\":\"12pt\"}},\"renderers\":[{\"type\":\"object\",\"name\":\"GlyphRenderer\",\"id\":\"545c1136-b730-446d-b7f1-3404525a0f42\",\"attributes\":{\"data_source\":{\"type\":\"object\",\"name\":\"ColumnDataSource\",\"id\":\"7dfed40d-2fb9-476f-8af6-02a1dfc459d3\",\"attributes\":{\"selected\":{\"type\":\"object\",\"name\":\"Selection\",\"id\":\"51d35f58-cc95-4978-8584-5b26c014eb25\",\"attributes\":{\"indices\":[],\"line_indices\":[]}},\"selection_policy\":{\"type\":\"object\",\"name\":\"UnionRenderers\",\"id\":\"9e2bfb5d-5413-4265-b951-bc9a8a63161d\"},\"data\":{\"type\":\"map\",\"entries\":[[\"post_str_b1\",[\"02\",\"05\",\"03\",\"01\",\"04\",\"07\",\"06\",\"14\",\"09\",\"11\",\"10\",\"08\",\"13\",\"18\",\"12\",\"15\",\"16\",\"19\",\"24\",\"20\",\"28\",\"17\",\"22\",\"21\"]],[\"percent\",{\"type\":\"ndarray\",\"array\":{\"type\":\"bytes\",\"data\":\"XpmuTFemK0A/2h/tj/YnQCIbkY3IRiRAIhuRjchGJECUu8nd5G4iQOz4dfw6fh1AzjnnnHPOGUAFXAIuAZcQQOz4dfw6fg1AzjnnnHPOCUDOOeecc84JQLF6WD2sHgZAlLvJ3eRuAkCUu8nd5G4CQOz4dfw6fv0/sXpYPawe9j+xelg9rB72P+z4dfw6fu0/7Ph1/Dp+7T/s+HX8On7tP+z4dfw6ft0/7Ph1/Dp+3T/s+HX8On7dP+z4dfw6ft0/\"},\"shape\":[24],\"dtype\":\"float64\",\"order\":\"little\"}]]}}},\"view\":{\"type\":\"object\",\"name\":\"CDSView\",\"id\":\"b4238a16-4726-4b48-8e2e-a16c9694b438\",\"attributes\":{\"filter\":{\"type\":\"object\",\"name\":\"AllIndices\",\"id\":\"40c1bd0c-8064-42a5-8174-a47efb7bee2c\"}}},\"glyph\":{\"type\":\"object\",\"name\":\"VBar\",\"id\":\"9377a843-b533-4e1b-80e3-754140abf02e\",\"attributes\":{\"tags\":[\"apply_ranges\"],\"x\":{\"type\":\"field\",\"field\":\"post_str_b1\"},\"width\":{\"type\":\"value\",\"value\":0.8},\"top\":{\"type\":\"field\",\"field\":\"percent\"},\"fill_color\":{\"type\":\"value\",\"value\":\"#30a2da\"},\"hatch_color\":{\"type\":\"value\",\"value\":\"#30a2da\"}}},\"selection_glyph\":{\"type\":\"object\",\"name\":\"VBar\",\"id\":\"ecb16e19-33a2-4c2e-93d0-528cde2dcbfc\",\"attributes\":{\"tags\":[\"apply_ranges\"],\"x\":{\"type\":\"field\",\"field\":\"post_str_b1\"},\"width\":{\"type\":\"value\",\"value\":0.8},\"bottom\":{\"type\":\"value\",\"value\":0},\"top\":{\"type\":\"field\",\"field\":\"percent\"},\"line_color\":{\"type\":\"value\",\"value\":\"black\"},\"line_alpha\":{\"type\":\"value\",\"value\":1.0},\"line_width\":{\"type\":\"value\",\"value\":1},\"line_join\":{\"type\":\"value\",\"value\":\"bevel\"},\"line_cap\":{\"type\":\"value\",\"value\":\"butt\"},\"line_dash\":{\"type\":\"value\",\"value\":[]},\"line_dash_offset\":{\"type\":\"value\",\"value\":0},\"fill_color\":{\"type\":\"value\",\"value\":\"#30a2da\"},\"fill_alpha\":{\"type\":\"value\",\"value\":1.0},\"hatch_color\":{\"type\":\"value\",\"value\":\"#30a2da\"},\"hatch_alpha\":{\"type\":\"value\",\"value\":1.0},\"hatch_scale\":{\"type\":\"value\",\"value\":12.0},\"hatch_pattern\":{\"type\":\"value\",\"value\":null},\"hatch_weight\":{\"type\":\"value\",\"value\":1.0}}},\"nonselection_glyph\":{\"type\":\"object\",\"name\":\"VBar\",\"id\":\"a3897d87-18a1-4fb2-9bee-609414eba12c\",\"attributes\":{\"tags\":[\"apply_ranges\"],\"x\":{\"type\":\"field\",\"field\":\"post_str_b1\"},\"width\":{\"type\":\"value\",\"value\":0.8},\"top\":{\"type\":\"field\",\"field\":\"percent\"},\"line_alpha\":{\"type\":\"value\",\"value\":0.1},\"fill_color\":{\"type\":\"value\",\"value\":\"#30a2da\"},\"fill_alpha\":{\"type\":\"value\",\"value\":0.1},\"hatch_color\":{\"type\":\"value\",\"value\":\"#30a2da\"},\"hatch_alpha\":{\"type\":\"value\",\"value\":0.1}}},\"muted_glyph\":{\"type\":\"object\",\"name\":\"VBar\",\"id\":\"76158939-b982-4b32-a1d9-3006cfe2e7b5\",\"attributes\":{\"tags\":[\"apply_ranges\"],\"x\":{\"type\":\"field\",\"field\":\"post_str_b1\"},\"width\":{\"type\":\"value\",\"value\":0.8},\"top\":{\"type\":\"field\",\"field\":\"percent\"},\"line_alpha\":{\"type\":\"value\",\"value\":0.2},\"fill_color\":{\"type\":\"value\",\"value\":\"#30a2da\"},\"fill_alpha\":{\"type\":\"value\",\"value\":0.2},\"hatch_color\":{\"type\":\"value\",\"value\":\"#30a2da\"},\"hatch_alpha\":{\"type\":\"value\",\"value\":0.2}}}}},{\"type\":\"object\",\"name\":\"Span\",\"id\":\"3e67e044-0d41-4011-8aaf-61cc4af11ef1\",\"attributes\":{\"level\":\"glyph\",\"location\":4.166666666666667,\"line_color\":\"red\",\"line_width\":3}},{\"type\":\"object\",\"name\":\"Span\",\"id\":\"435e8628-70f9-4418-8736-3416bc9ee7c6\",\"attributes\":{\"level\":\"glyph\",\"location\":6.25,\"line_color\":\"blue\",\"line_width\":3}},{\"type\":\"object\",\"name\":\"Span\",\"id\":\"20070f4b-2b53-41c1-86a0-f7febbd7fcbc\",\"attributes\":{\"level\":\"glyph\",\"location\":2.0833333333333335,\"line_color\":\"blue\",\"line_width\":3}}],\"toolbar\":{\"type\":\"object\",\"name\":\"Toolbar\",\"id\":\"65309a13-3042-4559-a67a-b196cdcfd147\",\"attributes\":{\"tools\":[{\"type\":\"object\",\"name\":\"WheelZoomTool\",\"id\":\"8da935ef-e34b-4697-8f86-00930456eb6e\",\"attributes\":{\"tags\":[\"hv_created\"],\"renderers\":\"auto\",\"zoom_together\":\"none\"}},{\"type\":\"object\",\"name\":\"HoverTool\",\"id\":\"57abfdd9-0a92-4c1d-b5be-7363c04683e0\",\"attributes\":{\"tags\":[\"hv_created\"],\"renderers\":[{\"id\":\"545c1136-b730-446d-b7f1-3404525a0f42\"}],\"tooltips\":[[\"post_str_b1\",\"@{post_str_b1}\"],[\"percent\",\"@{percent}\"]]}},{\"type\":\"object\",\"name\":\"SaveTool\",\"id\":\"a7f0f395-ca4a-4c88-ab7b-fd19a56203c8\"},{\"type\":\"object\",\"name\":\"PanTool\",\"id\":\"dd970536-770a-446d-8bd8-bb1692588225\"},{\"type\":\"object\",\"name\":\"BoxZoomTool\",\"id\":\"6f1e8b5a-7bac-4dc3-9c54-fafd2ef58c2b\",\"attributes\":{\"dimensions\":\"both\",\"overlay\":{\"type\":\"object\",\"name\":\"BoxAnnotation\",\"id\":\"2e4b643d-f8e9-4899-ad60-0f012afd1040\",\"attributes\":{\"syncable\":false,\"line_color\":\"black\",\"line_alpha\":1.0,\"line_width\":2,\"line_dash\":[4,4],\"fill_color\":\"lightgrey\",\"fill_alpha\":0.5,\"level\":\"overlay\",\"visible\":false,\"left\":{\"type\":\"number\",\"value\":\"nan\"},\"right\":{\"type\":\"number\",\"value\":\"nan\"},\"top\":{\"type\":\"number\",\"value\":\"nan\"},\"bottom\":{\"type\":\"number\",\"value\":\"nan\"},\"left_units\":\"canvas\",\"right_units\":\"canvas\",\"top_units\":\"canvas\",\"bottom_units\":\"canvas\",\"handles\":{\"type\":\"object\",\"name\":\"BoxInteractionHandles\",\"id\":\"96e1f362-d206-4974-9b3b-88acfcb3aa16\",\"attributes\":{\"all\":{\"type\":\"object\",\"name\":\"AreaVisuals\",\"id\":\"deca4393-9276-4a77-b3e0-8039d7ead2cb\",\"attributes\":{\"fill_color\":\"white\",\"hover_fill_color\":\"lightgray\"}}}}}}}},{\"type\":\"object\",\"name\":\"ResetTool\",\"id\":\"4ed4f0a8-9f1a-42b0-9e04-caa49e456f79\"}],\"active_drag\":{\"id\":\"dd970536-770a-446d-8bd8-bb1692588225\"}}},\"left\":[{\"type\":\"object\",\"name\":\"LinearAxis\",\"id\":\"8b6dd7ed-0b1f-4e4d-81cf-f977debc1bde\",\"attributes\":{\"ticker\":{\"type\":\"object\",\"name\":\"BasicTicker\",\"id\":\"84cc30de-8cdc-4d10-90c1-c0be07223d80\",\"attributes\":{\"mantissas\":[1,2,5]}},\"formatter\":{\"type\":\"object\",\"name\":\"BasicTickFormatter\",\"id\":\"91b00527-9766-45e6-b8d1-b790c219913d\"},\"axis_label\":\"percent\",\"major_label_policy\":{\"type\":\"object\",\"name\":\"AllLabels\",\"id\":\"8a5f2f42-4ac8-4444-b804-8dd91fb9e9d8\"}}}],\"below\":[{\"type\":\"object\",\"name\":\"CategoricalAxis\",\"id\":\"f9e86e58-4410-4ad0-bf39-a43dcbf09b3c\",\"attributes\":{\"ticker\":{\"type\":\"object\",\"name\":\"CategoricalTicker\",\"id\":\"33fa1430-3a67-4d77-9cde-7134f02f9d36\"},\"formatter\":{\"type\":\"object\",\"name\":\"CategoricalTickFormatter\",\"id\":\"c5a92130-6ca0-4484-959f-6107879f34c5\"},\"axis_label\":\"post_str_b1\",\"major_label_policy\":{\"type\":\"object\",\"name\":\"AllLabels\",\"id\":\"0ba5cba7-b904-4123-b826-5f38b1ea5f2e\"}}}],\"center\":[{\"type\":\"object\",\"name\":\"Grid\",\"id\":\"9b66f891-bb3a-4b54-894a-4100e839b879\",\"attributes\":{\"axis\":{\"id\":\"f9e86e58-4410-4ad0-bf39-a43dcbf09b3c\"},\"grid_line_color\":null}},{\"type\":\"object\",\"name\":\"Grid\",\"id\":\"91ebe796-ed93-46a3-8cd0-9ca5e6e881de\",\"attributes\":{\"dimension\":1,\"axis\":{\"id\":\"8b6dd7ed-0b1f-4e4d-81cf-f977debc1bde\"},\"grid_line_color\":null}}],\"min_border_top\":10,\"min_border_bottom\":10,\"min_border_left\":10,\"min_border_right\":10,\"output_backend\":\"webgl\"}},{\"type\":\"object\",\"name\":\"Spacer\",\"id\":\"1114e8e2-36fe-4bea-9c00-6f5284fb27cc\",\"attributes\":{\"name\":\"HSpacer01220\",\"stylesheets\":[\"\\n:host(.pn-loading):before, .pn-loading:before {\\n  background-color: #c3c3c3;\\n  mask-size: auto calc(min(50%, 400px));\\n  -webkit-mask-size: auto calc(min(50%, 400px));\\n}\",{\"id\":\"6fc2b601-1bbc-4b38-9810-6ae701fa0a24\"},{\"id\":\"9988806d-744d-4fed-9d4a-ee4bf5a1c3db\"},{\"id\":\"89d6771e-f0c6-429f-9cbd-67c78d3b08f7\"}],\"margin\":0,\"sizing_mode\":\"stretch_width\",\"align\":\"start\"}}]}}],\"defs\":[{\"type\":\"model\",\"name\":\"ReactiveHTML1\"},{\"type\":\"model\",\"name\":\"FlexBox1\",\"properties\":[{\"name\":\"align_content\",\"kind\":\"Any\",\"default\":\"flex-start\"},{\"name\":\"align_items\",\"kind\":\"Any\",\"default\":\"flex-start\"},{\"name\":\"flex_direction\",\"kind\":\"Any\",\"default\":\"row\"},{\"name\":\"flex_wrap\",\"kind\":\"Any\",\"default\":\"wrap\"},{\"name\":\"gap\",\"kind\":\"Any\",\"default\":\"\"},{\"name\":\"justify_content\",\"kind\":\"Any\",\"default\":\"flex-start\"}]},{\"type\":\"model\",\"name\":\"FloatPanel1\",\"properties\":[{\"name\":\"config\",\"kind\":\"Any\",\"default\":{\"type\":\"map\"}},{\"name\":\"contained\",\"kind\":\"Any\",\"default\":true},{\"name\":\"position\",\"kind\":\"Any\",\"default\":\"right-top\"},{\"name\":\"offsetx\",\"kind\":\"Any\",\"default\":null},{\"name\":\"offsety\",\"kind\":\"Any\",\"default\":null},{\"name\":\"theme\",\"kind\":\"Any\",\"default\":\"primary\"},{\"name\":\"status\",\"kind\":\"Any\",\"default\":\"normalized\"}]},{\"type\":\"model\",\"name\":\"GridStack1\",\"properties\":[{\"name\":\"ncols\",\"kind\":\"Any\",\"default\":null},{\"name\":\"nrows\",\"kind\":\"Any\",\"default\":null},{\"name\":\"allow_resize\",\"kind\":\"Any\",\"default\":true},{\"name\":\"allow_drag\",\"kind\":\"Any\",\"default\":true},{\"name\":\"state\",\"kind\":\"Any\",\"default\":[]}]},{\"type\":\"model\",\"name\":\"drag1\",\"properties\":[{\"name\":\"slider_width\",\"kind\":\"Any\",\"default\":5},{\"name\":\"slider_color\",\"kind\":\"Any\",\"default\":\"black\"},{\"name\":\"value\",\"kind\":\"Any\",\"default\":50}]},{\"type\":\"model\",\"name\":\"click1\",\"properties\":[{\"name\":\"terminal_output\",\"kind\":\"Any\",\"default\":\"\"},{\"name\":\"debug_name\",\"kind\":\"Any\",\"default\":\"\"},{\"name\":\"clears\",\"kind\":\"Any\",\"default\":0}]},{\"type\":\"model\",\"name\":\"FastWrapper1\",\"properties\":[{\"name\":\"object\",\"kind\":\"Any\",\"default\":null},{\"name\":\"style\",\"kind\":\"Any\",\"default\":null}]},{\"type\":\"model\",\"name\":\"NotificationArea1\",\"properties\":[{\"name\":\"js_events\",\"kind\":\"Any\",\"default\":{\"type\":\"map\"}},{\"name\":\"max_notifications\",\"kind\":\"Any\",\"default\":5},{\"name\":\"notifications\",\"kind\":\"Any\",\"default\":[]},{\"name\":\"position\",\"kind\":\"Any\",\"default\":\"bottom-right\"},{\"name\":\"_clear\",\"kind\":\"Any\",\"default\":0},{\"name\":\"types\",\"kind\":\"Any\",\"default\":[{\"type\":\"map\",\"entries\":[[\"type\",\"warning\"],[\"background\",\"#ffc107\"],[\"icon\",{\"type\":\"map\",\"entries\":[[\"className\",\"fas fa-exclamation-triangle\"],[\"tagName\",\"i\"],[\"color\",\"white\"]]}]]},{\"type\":\"map\",\"entries\":[[\"type\",\"info\"],[\"background\",\"#007bff\"],[\"icon\",{\"type\":\"map\",\"entries\":[[\"className\",\"fas fa-info-circle\"],[\"tagName\",\"i\"],[\"color\",\"white\"]]}]]}]}]},{\"type\":\"model\",\"name\":\"Notification\",\"properties\":[{\"name\":\"background\",\"kind\":\"Any\",\"default\":null},{\"name\":\"duration\",\"kind\":\"Any\",\"default\":3000},{\"name\":\"icon\",\"kind\":\"Any\",\"default\":null},{\"name\":\"message\",\"kind\":\"Any\",\"default\":\"\"},{\"name\":\"notification_type\",\"kind\":\"Any\",\"default\":null},{\"name\":\"_rendered\",\"kind\":\"Any\",\"default\":false},{\"name\":\"_destroyed\",\"kind\":\"Any\",\"default\":false}]},{\"type\":\"model\",\"name\":\"TemplateActions1\",\"properties\":[{\"name\":\"open_modal\",\"kind\":\"Any\",\"default\":0},{\"name\":\"close_modal\",\"kind\":\"Any\",\"default\":0}]},{\"type\":\"model\",\"name\":\"BootstrapTemplateActions1\",\"properties\":[{\"name\":\"open_modal\",\"kind\":\"Any\",\"default\":0},{\"name\":\"close_modal\",\"kind\":\"Any\",\"default\":0}]},{\"type\":\"model\",\"name\":\"TemplateEditor1\",\"properties\":[{\"name\":\"layout\",\"kind\":\"Any\",\"default\":[]}]},{\"type\":\"model\",\"name\":\"MaterialTemplateActions1\",\"properties\":[{\"name\":\"open_modal\",\"kind\":\"Any\",\"default\":0},{\"name\":\"close_modal\",\"kind\":\"Any\",\"default\":0}]},{\"type\":\"model\",\"name\":\"ReactiveESM1\",\"properties\":[{\"name\":\"esm_constants\",\"kind\":\"Any\",\"default\":{\"type\":\"map\"}}]},{\"type\":\"model\",\"name\":\"JSComponent1\",\"properties\":[{\"name\":\"esm_constants\",\"kind\":\"Any\",\"default\":{\"type\":\"map\"}}]},{\"type\":\"model\",\"name\":\"ReactComponent1\",\"properties\":[{\"name\":\"esm_constants\",\"kind\":\"Any\",\"default\":{\"type\":\"map\"}}]},{\"type\":\"model\",\"name\":\"AnyWidgetComponent1\",\"properties\":[{\"name\":\"esm_constants\",\"kind\":\"Any\",\"default\":{\"type\":\"map\"}}]},{\"type\":\"model\",\"name\":\"request_value1\",\"properties\":[{\"name\":\"fill\",\"kind\":\"Any\",\"default\":\"none\"},{\"name\":\"_synced\",\"kind\":\"Any\",\"default\":null},{\"name\":\"_request_sync\",\"kind\":\"Any\",\"default\":0}]}]}};\n",
       "  var render_items = [{\"docid\":\"dddb6e4a-97db-4f94-a35f-95e3289a617f\",\"roots\":{\"05d293bb-a6e4-48ac-b815-910bbeac48cb\":\"b8ac2923-3eb2-47da-b737-098788fbbe65\"},\"root_ids\":[\"05d293bb-a6e4-48ac-b815-910bbeac48cb\"]}];\n",
       "  var docs = Object.values(docs_json)\n",
       "  if (!docs) {\n",
       "    return\n",
       "  }\n",
       "  const py_version = docs[0].version.replace('rc', '-rc.').replace('.dev', '-dev.')\n",
       "  async function embed_document(root) {\n",
       "    var Bokeh = get_bokeh(root)\n",
       "    await Bokeh.embed.embed_items_notebook(docs_json, render_items);\n",
       "    for (const render_item of render_items) {\n",
       "      for (const root_id of render_item.root_ids) {\n",
       "\tconst id_el = document.getElementById(root_id)\n",
       "\tif (id_el.children.length && id_el.children[0].hasAttribute('data-root-id')) {\n",
       "\t  const root_el = id_el.children[0]\n",
       "\t  root_el.id = root_el.id + '-rendered'\n",
       "\t  for (const child of root_el.children) {\n",
       "            // Ensure JupyterLab does not capture keyboard shortcuts\n",
       "            // see: https://jupyterlab.readthedocs.io/en/4.1.x/extension/notebook.html#keyboard-interaction-model\n",
       "\t    child.setAttribute('data-lm-suppress-shortcuts', 'true')\n",
       "\t  }\n",
       "\t}\n",
       "      }\n",
       "    }\n",
       "  }\n",
       "  function get_bokeh(root) {\n",
       "    if (root.Bokeh === undefined) {\n",
       "      return null\n",
       "    } else if (root.Bokeh.version !== py_version) {\n",
       "      if (root.Bokeh.versions === undefined || !root.Bokeh.versions.has(py_version)) {\n",
       "\treturn null\n",
       "      }\n",
       "      return root.Bokeh.versions.get(py_version);\n",
       "    } else if (root.Bokeh.version === py_version) {\n",
       "      return root.Bokeh\n",
       "    }\n",
       "    return null\n",
       "  }\n",
       "  function is_loaded(root) {\n",
       "    var Bokeh = get_bokeh(root)\n",
       "    return (Bokeh != null && Bokeh.Panel !== undefined)\n",
       "  }\n",
       "  if (is_loaded(root)) {\n",
       "    embed_document(root);\n",
       "  } else {\n",
       "    var attempts = 0;\n",
       "    var timer = setInterval(function(root) {\n",
       "      if (is_loaded(root)) {\n",
       "        clearInterval(timer);\n",
       "        embed_document(root);\n",
       "      } else if (document.readyState == \"complete\") {\n",
       "        attempts++;\n",
       "        if (attempts > 200) {\n",
       "          clearInterval(timer);\n",
       "\t  var Bokeh = get_bokeh(root)\n",
       "\t  if (Bokeh == null || Bokeh.Panel == null) {\n",
       "            console.warn(\"Panel: ERROR: Unable to run Panel code because Bokeh or Panel library is missing\");\n",
       "\t  } else {\n",
       "\t    console.warn(\"Panel: WARNING: Attempting to render but not all required libraries could be resolved.\")\n",
       "\t    embed_document(root)\n",
       "\t  }\n",
       "        }\n",
       "      }\n",
       "    }, 25, root)\n",
       "  }\n",
       "})(window);</script>"
      ],
      "text/plain": [
       ":Overlay\n",
       "   .Bars.I    :Bars   [post_str_b1]   (percent)\n",
       "   .HLine.I   :HLine   [x,y]\n",
       "   .HLine.II  :HLine   [x,y]\n",
       "   .HLine.III :HLine   [x,y]"
      ]
     },
     "metadata": {
      "application/vnd.holoviews_exec.v0+json": {
       "id": "05d293bb-a6e4-48ac-b815-910bbeac48cb"
      }
     },
     "output_type": "display_data"
    },
    {
     "name": "stdout",
     "output_type": "stream",
     "text": [
      "df_10_last FOR str_b1 = 04\n",
      "Last 3 results last_results=['19', '03', '12']\n"
     ]
    },
    {
     "data": {
      "text/html": [
       "<div><style>\n",
       ".dataframe > thead > tr,\n",
       ".dataframe > tbody > tr {\n",
       "  text-align: right;\n",
       "  white-space: pre-wrap;\n",
       "}\n",
       "</style>\n",
       "<small>shape: (10, 30)</small><table border=\"1\" class=\"dataframe\"><thead><tr><th>fecha</th><th>sorteo</th><th>bolillas</th><th>yapa</th><th>adicionales</th><th>sorteo_extra</th><th>id</th><th>combo</th><th>b1</th><th>b2</th><th>b3</th><th>b4</th><th>b5</th><th>b6</th><th>str_b1</th><th>str_b2</th><th>str_b3</th><th>str_b4</th><th>str_b5</th><th>str_b6</th><th>post_str_b1</th><th>post_str_b2</th><th>post_str_b3</th><th>post_str_b4</th><th>post_str_b5</th><th>post_str_blast</th><th>is_rare_combination</th><th>reason</th><th>jumps_map</th><th>unijump</th></tr><tr><td>str</td><td>str</td><td>str</td><td>str</td><td>str</td><td>str</td><td>str</td><td>array[u8, 6]</td><td>u8</td><td>u8</td><td>u8</td><td>u8</td><td>u8</td><td>u8</td><td>str</td><td>str</td><td>str</td><td>str</td><td>str</td><td>str</td><td>str</td><td>str</td><td>str</td><td>str</td><td>str</td><td>str</td><td>bool</td><td>u8</td><td>str</td><td>i64</td></tr></thead><tbody><tr><td>&quot;19/03/2025&quot;</td><td>&quot;1178&quot;</td><td>&quot;32 41 42 37 34 04&quot;</td><td>&quot;48&quot;</td><td>&quot;07 46 19&quot;</td><td>&quot;Promoción Sí o Sí&quot;</td><td>&quot;043234374142&quot;</td><td>[4, 32, … 42]</td><td>4</td><td>32</td><td>34</td><td>37</td><td>41</td><td>42</td><td>&quot;04&quot;</td><td>&quot;32&quot;</td><td>&quot;34&quot;</td><td>&quot;37&quot;</td><td>&quot;41&quot;</td><td>&quot;42&quot;</td><td>&quot;03&quot;</td><td>&quot;07&quot;</td><td>&quot;18&quot;</td><td>&quot;24&quot;</td><td>&quot;37&quot;</td><td>&quot;49&quot;</td><td>false</td><td>0</td><td>&quot;28_02_03_04_01&quot;</td><td>23</td></tr><tr><td>&quot;02/02/2025&quot;</td><td>&quot;1165&quot;</td><td>&quot;20 48 14 12 28 04&quot;</td><td>&quot;02&quot;</td><td>&quot;40&quot;</td><td>&quot;Promoción Sí o Sí&quot;</td><td>&quot;041214202848&quot;</td><td>[4, 12, … 48]</td><td>4</td><td>12</td><td>14</td><td>20</td><td>28</td><td>48</td><td>&quot;04&quot;</td><td>&quot;12&quot;</td><td>&quot;14&quot;</td><td>&quot;20&quot;</td><td>&quot;28&quot;</td><td>&quot;48&quot;</td><td>&quot;12&quot;</td><td>&quot;19&quot;</td><td>&quot;24&quot;</td><td>&quot;27&quot;</td><td>&quot;30&quot;</td><td>&quot;33&quot;</td><td>true</td><td>20</td><td>&quot;08_02_06_08_20&quot;</td><td>24</td></tr><tr><td>&quot;15/12/2024&quot;</td><td>&quot;1151&quot;</td><td>&quot;48 26 45 08 06 04&quot;</td><td>&quot;44&quot;</td><td>&quot;15 29&quot;</td><td>&quot;Promoción Sí o Sí&quot;</td><td>&quot;040608264548&quot;</td><td>[4, 6, … 48]</td><td>4</td><td>6</td><td>8</td><td>26</td><td>45</td><td>48</td><td>&quot;04&quot;</td><td>&quot;06&quot;</td><td>&quot;08&quot;</td><td>&quot;26&quot;</td><td>&quot;45&quot;</td><td>&quot;48&quot;</td><td>&quot;19&quot;</td><td>&quot;22&quot;</td><td>&quot;28&quot;</td><td>&quot;33&quot;</td><td>&quot;35&quot;</td><td>&quot;47&quot;</td><td>true</td><td>24</td><td>&quot;02_02_18_19_03&quot;</td><td>29</td></tr><tr><td>&quot;11/12/2024&quot;</td><td>&quot;1150&quot;</td><td>&quot;43 04 39 31 10 46&quot;</td><td>&quot;06&quot;</td><td>&quot;36 07 22&quot;</td><td>&quot;Promoción Sí o Sí&quot;</td><td>&quot;041031394346&quot;</td><td>[4, 10, … 46]</td><td>4</td><td>10</td><td>31</td><td>39</td><td>43</td><td>46</td><td>&quot;04&quot;</td><td>&quot;10&quot;</td><td>&quot;31&quot;</td><td>&quot;39&quot;</td><td>&quot;43&quot;</td><td>&quot;46&quot;</td><td>&quot;04&quot;</td><td>&quot;06&quot;</td><td>&quot;08&quot;</td><td>&quot;26&quot;</td><td>&quot;45&quot;</td><td>&quot;48&quot;</td><td>true</td><td>16</td><td>&quot;06_21_08_04_03&quot;</td><td>-43</td></tr><tr><td>&quot;22/09/2024&quot;</td><td>&quot;1127&quot;</td><td>&quot;20 37 48 17 38 04&quot;</td><td>&quot;45&quot;</td><td>&quot;01 44&quot;</td><td>&quot;Promoción Sí o Sí&quot;</td><td>&quot;041720373848&quot;</td><td>[4, 17, … 48]</td><td>4</td><td>17</td><td>20</td><td>37</td><td>38</td><td>48</td><td>&quot;04&quot;</td><td>&quot;17&quot;</td><td>&quot;20&quot;</td><td>&quot;37&quot;</td><td>&quot;38&quot;</td><td>&quot;48&quot;</td><td>&quot;06&quot;</td><td>&quot;18&quot;</td><td>&quot;24&quot;</td><td>&quot;38&quot;</td><td>&quot;39&quot;</td><td>&quot;50&quot;</td><td>false</td><td>0</td><td>&quot;13_03_17_01_10&quot;</td><td>109</td></tr><tr><td>&quot;11/09/2024&quot;</td><td>&quot;1124&quot;</td><td>&quot;04 41 07 28 29 46&quot;</td><td>&quot;20&quot;</td><td>&quot;11&quot;</td><td>&quot;Promoción Sí o Sí&quot;</td><td>&quot;040728294146&quot;</td><td>[4, 7, … 46]</td><td>4</td><td>7</td><td>28</td><td>29</td><td>41</td><td>46</td><td>&quot;04&quot;</td><td>&quot;07&quot;</td><td>&quot;28&quot;</td><td>&quot;29&quot;</td><td>&quot;41&quot;</td><td>&quot;46&quot;</td><td>&quot;01&quot;</td><td>&quot;03&quot;</td><td>&quot;29&quot;</td><td>&quot;36&quot;</td><td>&quot;38&quot;</td><td>&quot;43&quot;</td><td>true</td><td>16</td><td>&quot;03_21_01_12_05&quot;</td><td>-118</td></tr><tr><td>&quot;04/09/2024&quot;</td><td>&quot;1122&quot;</td><td>&quot;50 30 04 09 15 40&quot;</td><td>&quot;31&quot;</td><td>&quot;29 16 32&quot;</td><td>&quot;Promoción Sí o Sí&quot;</td><td>&quot;040915304050&quot;</td><td>[4, 9, … 50]</td><td>4</td><td>9</td><td>15</td><td>30</td><td>40</td><td>50</td><td>&quot;04&quot;</td><td>&quot;09&quot;</td><td>&quot;15&quot;</td><td>&quot;30&quot;</td><td>&quot;40&quot;</td><td>&quot;50&quot;</td><td>&quot;07&quot;</td><td>&quot;14&quot;</td><td>&quot;15&quot;</td><td>&quot;18&quot;</td><td>&quot;23&quot;</td><td>&quot;35&quot;</td><td>true</td><td>24</td><td>&quot;05_06_15_10_10&quot;</td><td>41</td></tr><tr><td>&quot;01/09/2024&quot;</td><td>&quot;1121&quot;</td><td>&quot;23 50 41 19 04 37&quot;</td><td>&quot;28&quot;</td><td>&quot;09 06&quot;</td><td>&quot;Promoción Sí o Sí&quot;</td><td>&quot;041923374150&quot;</td><td>[4, 19, … 50]</td><td>4</td><td>19</td><td>23</td><td>37</td><td>41</td><td>50</td><td>&quot;04&quot;</td><td>&quot;19&quot;</td><td>&quot;23&quot;</td><td>&quot;37&quot;</td><td>&quot;41&quot;</td><td>&quot;50&quot;</td><td>&quot;04&quot;</td><td>&quot;09&quot;</td><td>&quot;15&quot;</td><td>&quot;30&quot;</td><td>&quot;40&quot;</td><td>&quot;50&quot;</td><td>true</td><td>1</td><td>&quot;15_04_14_04_09&quot;</td><td>76</td></tr><tr><td>&quot;29/05/2024&quot;</td><td>&quot;1094&quot;</td><td>&quot;04 34 16 10 20 29&quot;</td><td>&quot;21&quot;</td><td>&quot;28 24 30&quot;</td><td>&quot;Promoción Sí o Sí&quot;</td><td>&quot;041016202934&quot;</td><td>[4, 10, … 34]</td><td>4</td><td>10</td><td>16</td><td>20</td><td>29</td><td>34</td><td>&quot;04&quot;</td><td>&quot;10&quot;</td><td>&quot;16&quot;</td><td>&quot;20&quot;</td><td>&quot;29&quot;</td><td>&quot;34&quot;</td><td>&quot;02&quot;</td><td>&quot;08&quot;</td><td>&quot;12&quot;</td><td>&quot;13&quot;</td><td>&quot;26&quot;</td><td>&quot;37&quot;</td><td>true</td><td>8</td><td>&quot;06_06_04_09_05&quot;</td><td>-25</td></tr><tr><td>&quot;24/04/2024&quot;</td><td>&quot;1084&quot;</td><td>&quot;43 05 24 37 26 04&quot;</td><td>&quot;46&quot;</td><td>&quot;23 15&quot;</td><td>&quot;Promoción Sí o Sí&quot;</td><td>&quot;040524263743&quot;</td><td>[4, 5, … 43]</td><td>4</td><td>5</td><td>24</td><td>26</td><td>37</td><td>43</td><td>&quot;04&quot;</td><td>&quot;05&quot;</td><td>&quot;24&quot;</td><td>&quot;26&quot;</td><td>&quot;37&quot;</td><td>&quot;43&quot;</td><td>&quot;06&quot;</td><td>&quot;22&quot;</td><td>&quot;25&quot;</td><td>&quot;36&quot;</td><td>&quot;41&quot;</td><td>&quot;43&quot;</td><td>true</td><td>16</td><td>&quot;01_19_02_11_06&quot;</td><td>-101</td></tr></tbody></table></div>"
      ],
      "text/plain": [
       "shape: (10, 30)\n",
       "┌────────────┬────────┬───────────────┬──────┬───┬───────────────┬────────┬──────────────┬─────────┐\n",
       "│ fecha      ┆ sorteo ┆ bolillas      ┆ yapa ┆ … ┆ is_rare_combi ┆ reason ┆ jumps_map    ┆ unijump │\n",
       "│ ---        ┆ ---    ┆ ---           ┆ ---  ┆   ┆ nation        ┆ ---    ┆ ---          ┆ ---     │\n",
       "│ str        ┆ str    ┆ str           ┆ str  ┆   ┆ ---           ┆ u8     ┆ str          ┆ i64     │\n",
       "│            ┆        ┆               ┆      ┆   ┆ bool          ┆        ┆              ┆         │\n",
       "╞════════════╪════════╪═══════════════╪══════╪═══╪═══════════════╪════════╪══════════════╪═════════╡\n",
       "│ 19/03/2025 ┆ 1178   ┆ 32 41 42 37   ┆ 48   ┆ … ┆ false         ┆ 0      ┆ 28_02_03_04_ ┆ 23      │\n",
       "│            ┆        ┆ 34 04         ┆      ┆   ┆               ┆        ┆ 01           ┆         │\n",
       "│ 02/02/2025 ┆ 1165   ┆ 20 48 14 12   ┆ 02   ┆ … ┆ true          ┆ 20     ┆ 08_02_06_08_ ┆ 24      │\n",
       "│            ┆        ┆ 28 04         ┆      ┆   ┆               ┆        ┆ 20           ┆         │\n",
       "│ 15/12/2024 ┆ 1151   ┆ 48 26 45 08   ┆ 44   ┆ … ┆ true          ┆ 24     ┆ 02_02_18_19_ ┆ 29      │\n",
       "│            ┆        ┆ 06 04         ┆      ┆   ┆               ┆        ┆ 03           ┆         │\n",
       "│ 11/12/2024 ┆ 1150   ┆ 43 04 39 31   ┆ 06   ┆ … ┆ true          ┆ 16     ┆ 06_21_08_04_ ┆ -43     │\n",
       "│            ┆        ┆ 10 46         ┆      ┆   ┆               ┆        ┆ 03           ┆         │\n",
       "│ 22/09/2024 ┆ 1127   ┆ 20 37 48 17   ┆ 45   ┆ … ┆ false         ┆ 0      ┆ 13_03_17_01_ ┆ 109     │\n",
       "│            ┆        ┆ 38 04         ┆      ┆   ┆               ┆        ┆ 10           ┆         │\n",
       "│ 11/09/2024 ┆ 1124   ┆ 04 41 07 28   ┆ 20   ┆ … ┆ true          ┆ 16     ┆ 03_21_01_12_ ┆ -118    │\n",
       "│            ┆        ┆ 29 46         ┆      ┆   ┆               ┆        ┆ 05           ┆         │\n",
       "│ 04/09/2024 ┆ 1122   ┆ 50 30 04 09   ┆ 31   ┆ … ┆ true          ┆ 24     ┆ 05_06_15_10_ ┆ 41      │\n",
       "│            ┆        ┆ 15 40         ┆      ┆   ┆               ┆        ┆ 10           ┆         │\n",
       "│ 01/09/2024 ┆ 1121   ┆ 23 50 41 19   ┆ 28   ┆ … ┆ true          ┆ 1      ┆ 15_04_14_04_ ┆ 76      │\n",
       "│            ┆        ┆ 04 37         ┆      ┆   ┆               ┆        ┆ 09           ┆         │\n",
       "│ 29/05/2024 ┆ 1094   ┆ 04 34 16 10   ┆ 21   ┆ … ┆ true          ┆ 8      ┆ 06_06_04_09_ ┆ -25     │\n",
       "│            ┆        ┆ 20 29         ┆      ┆   ┆               ┆        ┆ 05           ┆         │\n",
       "│ 24/04/2024 ┆ 1084   ┆ 43 05 24 37   ┆ 46   ┆ … ┆ true          ┆ 16     ┆ 01_19_02_11_ ┆ -101    │\n",
       "│            ┆        ┆ 26 04         ┆      ┆   ┆               ┆        ┆ 06           ┆         │\n",
       "└────────────┴────────┴───────────────┴──────┴───┴───────────────┴────────┴──────────────┴─────────┘"
      ]
     },
     "metadata": {},
     "output_type": "display_data"
    },
    {
     "name": "stdout",
     "output_type": "stream",
     "text": [
      "df_jumps_map FOR str_b1 = 04\n"
     ]
    },
    {
     "data": {
      "text/html": [
       "<div><style>\n",
       ".dataframe > thead > tr,\n",
       ".dataframe > tbody > tr {\n",
       "  text-align: right;\n",
       "  white-space: pre-wrap;\n",
       "}\n",
       "</style>\n",
       "<small>shape: (217, 2)</small><table border=\"1\" class=\"dataframe\"><thead><tr><th>jumps_map</th><th>count</th></tr><tr><td>str</td><td>u32</td></tr></thead><tbody><tr><td>&quot;02_07_06_21_03&quot;</td><td>1</td></tr><tr><td>&quot;06_08_08_02_13&quot;</td><td>1</td></tr><tr><td>&quot;08_07_05_04_06&quot;</td><td>1</td></tr><tr><td>&quot;03_13_04_01_10&quot;</td><td>1</td></tr><tr><td>&quot;01_08_06_02_05&quot;</td><td>1</td></tr><tr><td>&hellip;</td><td>&hellip;</td></tr><tr><td>&quot;09_01_03_05_17&quot;</td><td>1</td></tr><tr><td>&quot;19_03_04_06_09&quot;</td><td>1</td></tr><tr><td>&quot;04_01_03_05_01&quot;</td><td>1</td></tr><tr><td>&quot;04_03_14_10_07&quot;</td><td>1</td></tr><tr><td>&quot;02_15_04_13_05&quot;</td><td>1</td></tr></tbody></table></div>"
      ],
      "text/plain": [
       "shape: (217, 2)\n",
       "┌────────────────┬───────┐\n",
       "│ jumps_map      ┆ count │\n",
       "│ ---            ┆ ---   │\n",
       "│ str            ┆ u32   │\n",
       "╞════════════════╪═══════╡\n",
       "│ 02_07_06_21_03 ┆ 1     │\n",
       "│ 06_08_08_02_13 ┆ 1     │\n",
       "│ 08_07_05_04_06 ┆ 1     │\n",
       "│ 03_13_04_01_10 ┆ 1     │\n",
       "│ 01_08_06_02_05 ┆ 1     │\n",
       "│ …              ┆ …     │\n",
       "│ 09_01_03_05_17 ┆ 1     │\n",
       "│ 19_03_04_06_09 ┆ 1     │\n",
       "│ 04_01_03_05_01 ┆ 1     │\n",
       "│ 04_03_14_10_07 ┆ 1     │\n",
       "│ 02_15_04_13_05 ┆ 1     │\n",
       "└────────────────┴───────┘"
      ]
     },
     "metadata": {},
     "output_type": "display_data"
    },
    {
     "name": "stdout",
     "output_type": "stream",
     "text": [
      "df_unijump FOR str_b1 = 04\n"
     ]
    },
    {
     "data": {
      "text/html": [
       "<div><style>\n",
       ".dataframe > thead > tr,\n",
       ".dataframe > tbody > tr {\n",
       "  text-align: right;\n",
       "  white-space: pre-wrap;\n",
       "}\n",
       "</style>\n",
       "<small>shape: (124, 2)</small><table border=\"1\" class=\"dataframe\"><thead><tr><th>unijump</th><th>count</th></tr><tr><td>i64</td><td>u32</td></tr></thead><tbody><tr><td>24</td><td>5</td></tr><tr><td>-24</td><td>4</td></tr><tr><td>12</td><td>4</td></tr><tr><td>-9</td><td>4</td></tr><tr><td>29</td><td>4</td></tr><tr><td>&hellip;</td><td>&hellip;</td></tr><tr><td>77</td><td>1</td></tr><tr><td>57</td><td>1</td></tr><tr><td>-91</td><td>1</td></tr><tr><td>11</td><td>1</td></tr><tr><td>-99</td><td>1</td></tr></tbody></table></div>"
      ],
      "text/plain": [
       "shape: (124, 2)\n",
       "┌─────────┬───────┐\n",
       "│ unijump ┆ count │\n",
       "│ ---     ┆ ---   │\n",
       "│ i64     ┆ u32   │\n",
       "╞═════════╪═══════╡\n",
       "│ 24      ┆ 5     │\n",
       "│ -24     ┆ 4     │\n",
       "│ 12      ┆ 4     │\n",
       "│ -9      ┆ 4     │\n",
       "│ 29      ┆ 4     │\n",
       "│ …       ┆ …     │\n",
       "│ 77      ┆ 1     │\n",
       "│ 57      ┆ 1     │\n",
       "│ -91     ┆ 1     │\n",
       "│ 11      ┆ 1     │\n",
       "│ -99     ┆ 1     │\n",
       "└─────────┴───────┘"
      ]
     },
     "metadata": {},
     "output_type": "display_data"
    }
   ],
   "source": [
    "possible_b1, exclude_jump_maps_b1, last_post_b1 = plot_post_col(col='str_b1', post_col='post_str_b1')"
   ]
  },
  {
   "cell_type": "code",
   "execution_count": 49,
   "metadata": {},
   "outputs": [
    {
     "name": "stdout",
     "output_type": "stream",
     "text": [
      "Setting test_value='07'\n",
      "df_viz FOR str_b2 = 07\n"
     ]
    },
    {
     "data": {
      "text/html": [
       "<div><style>\n",
       ".dataframe > thead > tr,\n",
       ".dataframe > tbody > tr {\n",
       "  text-align: right;\n",
       "  white-space: pre-wrap;\n",
       "}\n",
       "</style>\n",
       "<small>shape: (24, 3)</small><table border=\"1\" class=\"dataframe\"><thead><tr><th>post_str_b2</th><th>count</th><th>percent</th></tr><tr><td>str</td><td>u32</td><td>f64</td></tr></thead><tbody><tr><td>&quot;05&quot;</td><td>11</td><td>9.482759</td></tr><tr><td>&quot;10&quot;</td><td>10</td><td>8.62069</td></tr><tr><td>&quot;03&quot;</td><td>8</td><td>6.896552</td></tr><tr><td>&quot;07&quot;</td><td>7</td><td>6.034483</td></tr><tr><td>&quot;08&quot;</td><td>6</td><td>5.172414</td></tr><tr><td>&hellip;</td><td>&hellip;</td><td>&hellip;</td></tr><tr><td>&quot;18&quot;</td><td>3</td><td>2.586207</td></tr><tr><td>&quot;14&quot;</td><td>3</td><td>2.586207</td></tr><tr><td>&quot;25&quot;</td><td>3</td><td>2.586207</td></tr><tr><td>&quot;19&quot;</td><td>2</td><td>1.724138</td></tr><tr><td>&quot;32&quot;</td><td>1</td><td>0.862069</td></tr></tbody></table></div>"
      ],
      "text/plain": [
       "shape: (24, 3)\n",
       "┌─────────────┬───────┬──────────┐\n",
       "│ post_str_b2 ┆ count ┆ percent  │\n",
       "│ ---         ┆ ---   ┆ ---      │\n",
       "│ str         ┆ u32   ┆ f64      │\n",
       "╞═════════════╪═══════╪══════════╡\n",
       "│ 05          ┆ 11    ┆ 9.482759 │\n",
       "│ 10          ┆ 10    ┆ 8.62069  │\n",
       "│ 03          ┆ 8     ┆ 6.896552 │\n",
       "│ 07          ┆ 7     ┆ 6.034483 │\n",
       "│ 08          ┆ 6     ┆ 5.172414 │\n",
       "│ …           ┆ …     ┆ …        │\n",
       "│ 18          ┆ 3     ┆ 2.586207 │\n",
       "│ 14          ┆ 3     ┆ 2.586207 │\n",
       "│ 25          ┆ 3     ┆ 2.586207 │\n",
       "│ 19          ┆ 2     ┆ 1.724138 │\n",
       "│ 32          ┆ 1     ┆ 0.862069 │\n",
       "└─────────────┴───────┴──────────┘"
      ]
     },
     "metadata": {},
     "output_type": "display_data"
    },
    {
     "data": {},
     "metadata": {},
     "output_type": "display_data"
    },
    {
     "data": {
      "application/vnd.holoviews_exec.v0+json": "",
      "text/html": [
       "<div id='2d570fe9-1820-4181-bd80-52e5248cfe83'>\n",
       "  <div id=\"bf8138f6-17cb-45ba-b20f-02b156abedaa\" data-root-id=\"2d570fe9-1820-4181-bd80-52e5248cfe83\" style=\"display: contents;\"></div>\n",
       "</div>\n",
       "<script type=\"application/javascript\">(function(root) {\n",
       "  var docs_json = {\"03197049-ea8f-4792-93c9-a2962486b323\":{\"version\":\"3.7.2\",\"title\":\"Bokeh Application\",\"roots\":[{\"type\":\"object\",\"name\":\"Row\",\"id\":\"2d570fe9-1820-4181-bd80-52e5248cfe83\",\"attributes\":{\"name\":\"Row01286\",\"tags\":[\"embedded\"],\"stylesheets\":[\"\\n:host(.pn-loading):before, .pn-loading:before {\\n  background-color: #c3c3c3;\\n  mask-size: auto calc(min(50%, 400px));\\n  -webkit-mask-size: auto calc(min(50%, 400px));\\n}\",{\"type\":\"object\",\"name\":\"ImportedStyleSheet\",\"id\":\"87885711-8e06-4266-b8f2-b7b4dd15403a\",\"attributes\":{\"url\":\"https://cdn.holoviz.org/panel/1.6.2/dist/css/loading.css\"}},{\"type\":\"object\",\"name\":\"ImportedStyleSheet\",\"id\":\"429406b1-9fa1-44a3-b295-4a9ddeb1089b\",\"attributes\":{\"url\":\"https://cdn.holoviz.org/panel/1.6.2/dist/css/listpanel.css\"}},{\"type\":\"object\",\"name\":\"ImportedStyleSheet\",\"id\":\"dd519a6d-4d1e-472f-97b8-cb6a502cccfb\",\"attributes\":{\"url\":\"https://cdn.holoviz.org/panel/1.6.2/dist/bundled/theme/default.css\"}},{\"type\":\"object\",\"name\":\"ImportedStyleSheet\",\"id\":\"dd9f4c4e-ce27-449c-abab-222e7693c165\",\"attributes\":{\"url\":\"https://cdn.holoviz.org/panel/1.6.2/dist/bundled/theme/native.css\"}}],\"min_width\":700,\"margin\":0,\"sizing_mode\":\"stretch_width\",\"align\":\"start\",\"children\":[{\"type\":\"object\",\"name\":\"Spacer\",\"id\":\"382e7039-b11d-4606-81f1-03e92d011881\",\"attributes\":{\"name\":\"HSpacer01290\",\"stylesheets\":[\"\\n:host(.pn-loading):before, .pn-loading:before {\\n  background-color: #c3c3c3;\\n  mask-size: auto calc(min(50%, 400px));\\n  -webkit-mask-size: auto calc(min(50%, 400px));\\n}\",{\"id\":\"87885711-8e06-4266-b8f2-b7b4dd15403a\"},{\"id\":\"dd519a6d-4d1e-472f-97b8-cb6a502cccfb\"},{\"id\":\"dd9f4c4e-ce27-449c-abab-222e7693c165\"}],\"margin\":0,\"sizing_mode\":\"stretch_width\",\"align\":\"start\"}},{\"type\":\"object\",\"name\":\"Figure\",\"id\":\"379d8f5e-7bf2-4b38-8adc-eaf71d2cd13f\",\"attributes\":{\"width\":700,\"height\":300,\"margin\":[5,10],\"sizing_mode\":\"fixed\",\"align\":\"start\",\"x_range\":{\"type\":\"object\",\"name\":\"FactorRange\",\"id\":\"7c54d140-63df-43b5-8490-418a451bbc14\",\"attributes\":{\"name\":\"post_str_b2\",\"tags\":[[[\"post_str_b2\",null]],[]],\"factors\":[\"05\",\"10\",\"03\",\"07\",\"08\",\"11\",\"12\",\"04\",\"22\",\"06\",\"15\",\"13\",\"16\",\"24\",\"21\",\"20\",\"09\",\"23\",\"26\",\"18\",\"14\",\"25\",\"19\",\"32\"]}},\"y_range\":{\"type\":\"object\",\"name\":\"Range1d\",\"id\":\"04e1a4df-e4ce-4010-8b5c-0c19209c5387\",\"attributes\":{\"name\":\"percent\",\"tags\":[[[\"percent\",null]],{\"type\":\"map\",\"entries\":[[\"invert_yaxis\",false],[\"autorange\",false]]}],\"end\":10.344827586206897,\"reset_start\":0.0,\"reset_end\":10.344827586206897}},\"x_scale\":{\"type\":\"object\",\"name\":\"CategoricalScale\",\"id\":\"5c64ae34-9a26-4215-be0c-38b7e6b930df\"},\"y_scale\":{\"type\":\"object\",\"name\":\"LinearScale\",\"id\":\"d5ce5429-f836-45bb-b0b5-b04e5274d119\"},\"title\":{\"type\":\"object\",\"name\":\"Title\",\"id\":\"f4ba3e29-576e-418e-8c96-4f60d19a639a\",\"attributes\":{\"text_color\":\"black\",\"text_font_size\":\"12pt\"}},\"renderers\":[{\"type\":\"object\",\"name\":\"GlyphRenderer\",\"id\":\"0fe37610-d36f-4541-bf1f-f022d1485c2c\",\"attributes\":{\"data_source\":{\"type\":\"object\",\"name\":\"ColumnDataSource\",\"id\":\"968bf2a4-da3f-462c-bad8-3de8d7f99d5a\",\"attributes\":{\"selected\":{\"type\":\"object\",\"name\":\"Selection\",\"id\":\"f2145dc0-1483-4385-aa3c-6d63054758e8\",\"attributes\":{\"indices\":[],\"line_indices\":[]}},\"selection_policy\":{\"type\":\"object\",\"name\":\"UnionRenderers\",\"id\":\"16f62228-7e2b-43ec-8e99-7ee864ecdb80\"},\"data\":{\"type\":\"map\",\"entries\":[[\"post_str_b2\",[\"05\",\"10\",\"03\",\"07\",\"08\",\"11\",\"12\",\"04\",\"22\",\"06\",\"15\",\"13\",\"16\",\"24\",\"21\",\"20\",\"09\",\"23\",\"26\",\"18\",\"14\",\"25\",\"19\",\"32\"]],[\"percent\",{\"type\":\"ndarray\",\"array\":{\"type\":\"bytes\",\"data\":\"wnJPIyz3IkCx3NMIyz0hQBphuacRlhtA9zTCck8jGEDUCMs9jbAUQNQIyz2NsBRAsdzTCMs9EUCx3NMIyz0RQLHc0wjLPRFAsdzTCMs9EUCx3NMIyz0RQBphuacRlgtAGmG5pxGWC0AaYbmnEZYLQBphuacRlgtAGmG5pxGWC0AaYbmnEZYLQBphuacRlgtA1AjLPY2wBEDUCMs9jbAEQNQIyz2NsARA1AjLPY2wBEAaYbmnEZb7PxphuacRlus/\"},\"shape\":[24],\"dtype\":\"float64\",\"order\":\"little\"}]]}}},\"view\":{\"type\":\"object\",\"name\":\"CDSView\",\"id\":\"63216e03-a173-471c-86fe-74a5998b3e2a\",\"attributes\":{\"filter\":{\"type\":\"object\",\"name\":\"AllIndices\",\"id\":\"9635b3b8-0b47-4ae1-a175-34e15b0a437b\"}}},\"glyph\":{\"type\":\"object\",\"name\":\"VBar\",\"id\":\"93716476-9547-4e54-9790-e95e0e75603f\",\"attributes\":{\"tags\":[\"apply_ranges\"],\"x\":{\"type\":\"field\",\"field\":\"post_str_b2\"},\"width\":{\"type\":\"value\",\"value\":0.8},\"top\":{\"type\":\"field\",\"field\":\"percent\"},\"fill_color\":{\"type\":\"value\",\"value\":\"#30a2da\"},\"hatch_color\":{\"type\":\"value\",\"value\":\"#30a2da\"}}},\"selection_glyph\":{\"type\":\"object\",\"name\":\"VBar\",\"id\":\"e84017b2-951a-4790-abca-144283cce167\",\"attributes\":{\"tags\":[\"apply_ranges\"],\"x\":{\"type\":\"field\",\"field\":\"post_str_b2\"},\"width\":{\"type\":\"value\",\"value\":0.8},\"bottom\":{\"type\":\"value\",\"value\":0},\"top\":{\"type\":\"field\",\"field\":\"percent\"},\"line_color\":{\"type\":\"value\",\"value\":\"black\"},\"line_alpha\":{\"type\":\"value\",\"value\":1.0},\"line_width\":{\"type\":\"value\",\"value\":1},\"line_join\":{\"type\":\"value\",\"value\":\"bevel\"},\"line_cap\":{\"type\":\"value\",\"value\":\"butt\"},\"line_dash\":{\"type\":\"value\",\"value\":[]},\"line_dash_offset\":{\"type\":\"value\",\"value\":0},\"fill_color\":{\"type\":\"value\",\"value\":\"#30a2da\"},\"fill_alpha\":{\"type\":\"value\",\"value\":1.0},\"hatch_color\":{\"type\":\"value\",\"value\":\"#30a2da\"},\"hatch_alpha\":{\"type\":\"value\",\"value\":1.0},\"hatch_scale\":{\"type\":\"value\",\"value\":12.0},\"hatch_pattern\":{\"type\":\"value\",\"value\":null},\"hatch_weight\":{\"type\":\"value\",\"value\":1.0}}},\"nonselection_glyph\":{\"type\":\"object\",\"name\":\"VBar\",\"id\":\"b0c80a38-3fd2-438e-8a47-5b384b83340c\",\"attributes\":{\"tags\":[\"apply_ranges\"],\"x\":{\"type\":\"field\",\"field\":\"post_str_b2\"},\"width\":{\"type\":\"value\",\"value\":0.8},\"top\":{\"type\":\"field\",\"field\":\"percent\"},\"line_alpha\":{\"type\":\"value\",\"value\":0.1},\"fill_color\":{\"type\":\"value\",\"value\":\"#30a2da\"},\"fill_alpha\":{\"type\":\"value\",\"value\":0.1},\"hatch_color\":{\"type\":\"value\",\"value\":\"#30a2da\"},\"hatch_alpha\":{\"type\":\"value\",\"value\":0.1}}},\"muted_glyph\":{\"type\":\"object\",\"name\":\"VBar\",\"id\":\"75e0576d-79f8-495c-951e-61f6cdaccb67\",\"attributes\":{\"tags\":[\"apply_ranges\"],\"x\":{\"type\":\"field\",\"field\":\"post_str_b2\"},\"width\":{\"type\":\"value\",\"value\":0.8},\"top\":{\"type\":\"field\",\"field\":\"percent\"},\"line_alpha\":{\"type\":\"value\",\"value\":0.2},\"fill_color\":{\"type\":\"value\",\"value\":\"#30a2da\"},\"fill_alpha\":{\"type\":\"value\",\"value\":0.2},\"hatch_color\":{\"type\":\"value\",\"value\":\"#30a2da\"},\"hatch_alpha\":{\"type\":\"value\",\"value\":0.2}}}}},{\"type\":\"object\",\"name\":\"Span\",\"id\":\"8f64ab57-2f0d-4c5d-a094-28a7eaf46a78\",\"attributes\":{\"level\":\"glyph\",\"location\":4.166666666666668,\"line_color\":\"red\",\"line_width\":3}},{\"type\":\"object\",\"name\":\"Span\",\"id\":\"0992d314-bb1d-4b34-8a2d-20328afeab8f\",\"attributes\":{\"level\":\"glyph\",\"location\":6.250000000000003,\"line_color\":\"blue\",\"line_width\":3}},{\"type\":\"object\",\"name\":\"Span\",\"id\":\"c007d551-6311-4bae-a2de-ed525631f6d7\",\"attributes\":{\"level\":\"glyph\",\"location\":2.083333333333334,\"line_color\":\"blue\",\"line_width\":3}}],\"toolbar\":{\"type\":\"object\",\"name\":\"Toolbar\",\"id\":\"ae2bd74d-cdcb-4e6c-95e6-fdb6e9d8542c\",\"attributes\":{\"tools\":[{\"type\":\"object\",\"name\":\"WheelZoomTool\",\"id\":\"161c0f93-6ecf-4219-b459-6a6e94aa0244\",\"attributes\":{\"tags\":[\"hv_created\"],\"renderers\":\"auto\",\"zoom_together\":\"none\"}},{\"type\":\"object\",\"name\":\"HoverTool\",\"id\":\"c4fd52be-48e3-444b-910e-08b94e91e1e0\",\"attributes\":{\"tags\":[\"hv_created\"],\"renderers\":[{\"id\":\"0fe37610-d36f-4541-bf1f-f022d1485c2c\"}],\"tooltips\":[[\"post_str_b2\",\"@{post_str_b2}\"],[\"percent\",\"@{percent}\"]]}},{\"type\":\"object\",\"name\":\"SaveTool\",\"id\":\"def4bba7-89bc-46c1-8d84-45e2f77fd8d9\"},{\"type\":\"object\",\"name\":\"PanTool\",\"id\":\"07b183ac-2600-4b4f-8ed7-5a5e939b0d84\"},{\"type\":\"object\",\"name\":\"BoxZoomTool\",\"id\":\"668647e7-235e-41a8-bb93-242d3e853263\",\"attributes\":{\"dimensions\":\"both\",\"overlay\":{\"type\":\"object\",\"name\":\"BoxAnnotation\",\"id\":\"77a39127-4e31-47c4-b1c6-9eb403c07d6d\",\"attributes\":{\"syncable\":false,\"line_color\":\"black\",\"line_alpha\":1.0,\"line_width\":2,\"line_dash\":[4,4],\"fill_color\":\"lightgrey\",\"fill_alpha\":0.5,\"level\":\"overlay\",\"visible\":false,\"left\":{\"type\":\"number\",\"value\":\"nan\"},\"right\":{\"type\":\"number\",\"value\":\"nan\"},\"top\":{\"type\":\"number\",\"value\":\"nan\"},\"bottom\":{\"type\":\"number\",\"value\":\"nan\"},\"left_units\":\"canvas\",\"right_units\":\"canvas\",\"top_units\":\"canvas\",\"bottom_units\":\"canvas\",\"handles\":{\"type\":\"object\",\"name\":\"BoxInteractionHandles\",\"id\":\"dda13560-60ce-4dca-9aed-45deb9590fda\",\"attributes\":{\"all\":{\"type\":\"object\",\"name\":\"AreaVisuals\",\"id\":\"b37b60c9-2a06-42c4-bc0f-71921c4f47c0\",\"attributes\":{\"fill_color\":\"white\",\"hover_fill_color\":\"lightgray\"}}}}}}}},{\"type\":\"object\",\"name\":\"ResetTool\",\"id\":\"34f5ba65-6b17-471c-b32c-8bcc3a52fb08\"}],\"active_drag\":{\"id\":\"07b183ac-2600-4b4f-8ed7-5a5e939b0d84\"}}},\"left\":[{\"type\":\"object\",\"name\":\"LinearAxis\",\"id\":\"a3a35a27-e5e2-4792-9d6b-fa99af858474\",\"attributes\":{\"ticker\":{\"type\":\"object\",\"name\":\"BasicTicker\",\"id\":\"47f1922b-3ba9-4091-8516-ef4c6973b793\",\"attributes\":{\"mantissas\":[1,2,5]}},\"formatter\":{\"type\":\"object\",\"name\":\"BasicTickFormatter\",\"id\":\"81e946ec-6274-466d-8250-6b436212c21b\"},\"axis_label\":\"percent\",\"major_label_policy\":{\"type\":\"object\",\"name\":\"AllLabels\",\"id\":\"8fe79654-1a74-4037-a616-b7620d359b61\"}}}],\"below\":[{\"type\":\"object\",\"name\":\"CategoricalAxis\",\"id\":\"f95ab06b-15c2-47a2-92b9-0090e1ce1c64\",\"attributes\":{\"ticker\":{\"type\":\"object\",\"name\":\"CategoricalTicker\",\"id\":\"54c23390-ac8d-4821-9884-68b83d6a9e03\"},\"formatter\":{\"type\":\"object\",\"name\":\"CategoricalTickFormatter\",\"id\":\"d5a0884e-c565-4d06-bc40-1b360fbf0c1b\"},\"axis_label\":\"post_str_b2\",\"major_label_policy\":{\"type\":\"object\",\"name\":\"AllLabels\",\"id\":\"e56c2406-91ea-47d2-95ef-b27424620878\"}}}],\"center\":[{\"type\":\"object\",\"name\":\"Grid\",\"id\":\"1165fa13-7932-438f-846f-e8bff318974a\",\"attributes\":{\"axis\":{\"id\":\"f95ab06b-15c2-47a2-92b9-0090e1ce1c64\"},\"grid_line_color\":null}},{\"type\":\"object\",\"name\":\"Grid\",\"id\":\"a9e98e0a-719d-4d97-8e55-432049721b38\",\"attributes\":{\"dimension\":1,\"axis\":{\"id\":\"a3a35a27-e5e2-4792-9d6b-fa99af858474\"},\"grid_line_color\":null}}],\"min_border_top\":10,\"min_border_bottom\":10,\"min_border_left\":10,\"min_border_right\":10,\"output_backend\":\"webgl\"}},{\"type\":\"object\",\"name\":\"Spacer\",\"id\":\"e4d42eaa-d65c-4237-80d0-a27aa271359b\",\"attributes\":{\"name\":\"HSpacer01291\",\"stylesheets\":[\"\\n:host(.pn-loading):before, .pn-loading:before {\\n  background-color: #c3c3c3;\\n  mask-size: auto calc(min(50%, 400px));\\n  -webkit-mask-size: auto calc(min(50%, 400px));\\n}\",{\"id\":\"87885711-8e06-4266-b8f2-b7b4dd15403a\"},{\"id\":\"dd519a6d-4d1e-472f-97b8-cb6a502cccfb\"},{\"id\":\"dd9f4c4e-ce27-449c-abab-222e7693c165\"}],\"margin\":0,\"sizing_mode\":\"stretch_width\",\"align\":\"start\"}}]}}],\"defs\":[{\"type\":\"model\",\"name\":\"ReactiveHTML1\"},{\"type\":\"model\",\"name\":\"FlexBox1\",\"properties\":[{\"name\":\"align_content\",\"kind\":\"Any\",\"default\":\"flex-start\"},{\"name\":\"align_items\",\"kind\":\"Any\",\"default\":\"flex-start\"},{\"name\":\"flex_direction\",\"kind\":\"Any\",\"default\":\"row\"},{\"name\":\"flex_wrap\",\"kind\":\"Any\",\"default\":\"wrap\"},{\"name\":\"gap\",\"kind\":\"Any\",\"default\":\"\"},{\"name\":\"justify_content\",\"kind\":\"Any\",\"default\":\"flex-start\"}]},{\"type\":\"model\",\"name\":\"FloatPanel1\",\"properties\":[{\"name\":\"config\",\"kind\":\"Any\",\"default\":{\"type\":\"map\"}},{\"name\":\"contained\",\"kind\":\"Any\",\"default\":true},{\"name\":\"position\",\"kind\":\"Any\",\"default\":\"right-top\"},{\"name\":\"offsetx\",\"kind\":\"Any\",\"default\":null},{\"name\":\"offsety\",\"kind\":\"Any\",\"default\":null},{\"name\":\"theme\",\"kind\":\"Any\",\"default\":\"primary\"},{\"name\":\"status\",\"kind\":\"Any\",\"default\":\"normalized\"}]},{\"type\":\"model\",\"name\":\"GridStack1\",\"properties\":[{\"name\":\"ncols\",\"kind\":\"Any\",\"default\":null},{\"name\":\"nrows\",\"kind\":\"Any\",\"default\":null},{\"name\":\"allow_resize\",\"kind\":\"Any\",\"default\":true},{\"name\":\"allow_drag\",\"kind\":\"Any\",\"default\":true},{\"name\":\"state\",\"kind\":\"Any\",\"default\":[]}]},{\"type\":\"model\",\"name\":\"drag1\",\"properties\":[{\"name\":\"slider_width\",\"kind\":\"Any\",\"default\":5},{\"name\":\"slider_color\",\"kind\":\"Any\",\"default\":\"black\"},{\"name\":\"value\",\"kind\":\"Any\",\"default\":50}]},{\"type\":\"model\",\"name\":\"click1\",\"properties\":[{\"name\":\"terminal_output\",\"kind\":\"Any\",\"default\":\"\"},{\"name\":\"debug_name\",\"kind\":\"Any\",\"default\":\"\"},{\"name\":\"clears\",\"kind\":\"Any\",\"default\":0}]},{\"type\":\"model\",\"name\":\"FastWrapper1\",\"properties\":[{\"name\":\"object\",\"kind\":\"Any\",\"default\":null},{\"name\":\"style\",\"kind\":\"Any\",\"default\":null}]},{\"type\":\"model\",\"name\":\"NotificationArea1\",\"properties\":[{\"name\":\"js_events\",\"kind\":\"Any\",\"default\":{\"type\":\"map\"}},{\"name\":\"max_notifications\",\"kind\":\"Any\",\"default\":5},{\"name\":\"notifications\",\"kind\":\"Any\",\"default\":[]},{\"name\":\"position\",\"kind\":\"Any\",\"default\":\"bottom-right\"},{\"name\":\"_clear\",\"kind\":\"Any\",\"default\":0},{\"name\":\"types\",\"kind\":\"Any\",\"default\":[{\"type\":\"map\",\"entries\":[[\"type\",\"warning\"],[\"background\",\"#ffc107\"],[\"icon\",{\"type\":\"map\",\"entries\":[[\"className\",\"fas fa-exclamation-triangle\"],[\"tagName\",\"i\"],[\"color\",\"white\"]]}]]},{\"type\":\"map\",\"entries\":[[\"type\",\"info\"],[\"background\",\"#007bff\"],[\"icon\",{\"type\":\"map\",\"entries\":[[\"className\",\"fas fa-info-circle\"],[\"tagName\",\"i\"],[\"color\",\"white\"]]}]]}]}]},{\"type\":\"model\",\"name\":\"Notification\",\"properties\":[{\"name\":\"background\",\"kind\":\"Any\",\"default\":null},{\"name\":\"duration\",\"kind\":\"Any\",\"default\":3000},{\"name\":\"icon\",\"kind\":\"Any\",\"default\":null},{\"name\":\"message\",\"kind\":\"Any\",\"default\":\"\"},{\"name\":\"notification_type\",\"kind\":\"Any\",\"default\":null},{\"name\":\"_rendered\",\"kind\":\"Any\",\"default\":false},{\"name\":\"_destroyed\",\"kind\":\"Any\",\"default\":false}]},{\"type\":\"model\",\"name\":\"TemplateActions1\",\"properties\":[{\"name\":\"open_modal\",\"kind\":\"Any\",\"default\":0},{\"name\":\"close_modal\",\"kind\":\"Any\",\"default\":0}]},{\"type\":\"model\",\"name\":\"BootstrapTemplateActions1\",\"properties\":[{\"name\":\"open_modal\",\"kind\":\"Any\",\"default\":0},{\"name\":\"close_modal\",\"kind\":\"Any\",\"default\":0}]},{\"type\":\"model\",\"name\":\"TemplateEditor1\",\"properties\":[{\"name\":\"layout\",\"kind\":\"Any\",\"default\":[]}]},{\"type\":\"model\",\"name\":\"MaterialTemplateActions1\",\"properties\":[{\"name\":\"open_modal\",\"kind\":\"Any\",\"default\":0},{\"name\":\"close_modal\",\"kind\":\"Any\",\"default\":0}]},{\"type\":\"model\",\"name\":\"ReactiveESM1\",\"properties\":[{\"name\":\"esm_constants\",\"kind\":\"Any\",\"default\":{\"type\":\"map\"}}]},{\"type\":\"model\",\"name\":\"JSComponent1\",\"properties\":[{\"name\":\"esm_constants\",\"kind\":\"Any\",\"default\":{\"type\":\"map\"}}]},{\"type\":\"model\",\"name\":\"ReactComponent1\",\"properties\":[{\"name\":\"esm_constants\",\"kind\":\"Any\",\"default\":{\"type\":\"map\"}}]},{\"type\":\"model\",\"name\":\"AnyWidgetComponent1\",\"properties\":[{\"name\":\"esm_constants\",\"kind\":\"Any\",\"default\":{\"type\":\"map\"}}]},{\"type\":\"model\",\"name\":\"request_value1\",\"properties\":[{\"name\":\"fill\",\"kind\":\"Any\",\"default\":\"none\"},{\"name\":\"_synced\",\"kind\":\"Any\",\"default\":null},{\"name\":\"_request_sync\",\"kind\":\"Any\",\"default\":0}]}]}};\n",
       "  var render_items = [{\"docid\":\"03197049-ea8f-4792-93c9-a2962486b323\",\"roots\":{\"2d570fe9-1820-4181-bd80-52e5248cfe83\":\"bf8138f6-17cb-45ba-b20f-02b156abedaa\"},\"root_ids\":[\"2d570fe9-1820-4181-bd80-52e5248cfe83\"]}];\n",
       "  var docs = Object.values(docs_json)\n",
       "  if (!docs) {\n",
       "    return\n",
       "  }\n",
       "  const py_version = docs[0].version.replace('rc', '-rc.').replace('.dev', '-dev.')\n",
       "  async function embed_document(root) {\n",
       "    var Bokeh = get_bokeh(root)\n",
       "    await Bokeh.embed.embed_items_notebook(docs_json, render_items);\n",
       "    for (const render_item of render_items) {\n",
       "      for (const root_id of render_item.root_ids) {\n",
       "\tconst id_el = document.getElementById(root_id)\n",
       "\tif (id_el.children.length && id_el.children[0].hasAttribute('data-root-id')) {\n",
       "\t  const root_el = id_el.children[0]\n",
       "\t  root_el.id = root_el.id + '-rendered'\n",
       "\t  for (const child of root_el.children) {\n",
       "            // Ensure JupyterLab does not capture keyboard shortcuts\n",
       "            // see: https://jupyterlab.readthedocs.io/en/4.1.x/extension/notebook.html#keyboard-interaction-model\n",
       "\t    child.setAttribute('data-lm-suppress-shortcuts', 'true')\n",
       "\t  }\n",
       "\t}\n",
       "      }\n",
       "    }\n",
       "  }\n",
       "  function get_bokeh(root) {\n",
       "    if (root.Bokeh === undefined) {\n",
       "      return null\n",
       "    } else if (root.Bokeh.version !== py_version) {\n",
       "      if (root.Bokeh.versions === undefined || !root.Bokeh.versions.has(py_version)) {\n",
       "\treturn null\n",
       "      }\n",
       "      return root.Bokeh.versions.get(py_version);\n",
       "    } else if (root.Bokeh.version === py_version) {\n",
       "      return root.Bokeh\n",
       "    }\n",
       "    return null\n",
       "  }\n",
       "  function is_loaded(root) {\n",
       "    var Bokeh = get_bokeh(root)\n",
       "    return (Bokeh != null && Bokeh.Panel !== undefined)\n",
       "  }\n",
       "  if (is_loaded(root)) {\n",
       "    embed_document(root);\n",
       "  } else {\n",
       "    var attempts = 0;\n",
       "    var timer = setInterval(function(root) {\n",
       "      if (is_loaded(root)) {\n",
       "        clearInterval(timer);\n",
       "        embed_document(root);\n",
       "      } else if (document.readyState == \"complete\") {\n",
       "        attempts++;\n",
       "        if (attempts > 200) {\n",
       "          clearInterval(timer);\n",
       "\t  var Bokeh = get_bokeh(root)\n",
       "\t  if (Bokeh == null || Bokeh.Panel == null) {\n",
       "            console.warn(\"Panel: ERROR: Unable to run Panel code because Bokeh or Panel library is missing\");\n",
       "\t  } else {\n",
       "\t    console.warn(\"Panel: WARNING: Attempting to render but not all required libraries could be resolved.\")\n",
       "\t    embed_document(root)\n",
       "\t  }\n",
       "        }\n",
       "      }\n",
       "    }, 25, root)\n",
       "  }\n",
       "})(window);</script>"
      ],
      "text/plain": [
       ":Overlay\n",
       "   .Bars.I    :Bars   [post_str_b2]   (percent)\n",
       "   .HLine.I   :HLine   [x,y]\n",
       "   .HLine.II  :HLine   [x,y]\n",
       "   .HLine.III :HLine   [x,y]"
      ]
     },
     "metadata": {
      "application/vnd.holoviews_exec.v0+json": {
       "id": "2d570fe9-1820-4181-bd80-52e5248cfe83"
      }
     },
     "output_type": "display_data"
    },
    {
     "name": "stdout",
     "output_type": "stream",
     "text": [
      "df_10_last FOR str_b2 = 07\n",
      "Last 3 results last_results=['08', '03', '05']\n"
     ]
    },
    {
     "data": {
      "text/html": [
       "<div><style>\n",
       ".dataframe > thead > tr,\n",
       ".dataframe > tbody > tr {\n",
       "  text-align: right;\n",
       "  white-space: pre-wrap;\n",
       "}\n",
       "</style>\n",
       "<small>shape: (10, 30)</small><table border=\"1\" class=\"dataframe\"><thead><tr><th>fecha</th><th>sorteo</th><th>bolillas</th><th>yapa</th><th>adicionales</th><th>sorteo_extra</th><th>id</th><th>combo</th><th>b1</th><th>b2</th><th>b3</th><th>b4</th><th>b5</th><th>b6</th><th>str_b1</th><th>str_b2</th><th>str_b3</th><th>str_b4</th><th>str_b5</th><th>str_b6</th><th>post_str_b1</th><th>post_str_b2</th><th>post_str_b3</th><th>post_str_b4</th><th>post_str_b5</th><th>post_str_blast</th><th>is_rare_combination</th><th>reason</th><th>jumps_map</th><th>unijump</th></tr><tr><td>str</td><td>str</td><td>str</td><td>str</td><td>str</td><td>str</td><td>str</td><td>array[u8, 6]</td><td>u8</td><td>u8</td><td>u8</td><td>u8</td><td>u8</td><td>u8</td><td>str</td><td>str</td><td>str</td><td>str</td><td>str</td><td>str</td><td>str</td><td>str</td><td>str</td><td>str</td><td>str</td><td>str</td><td>bool</td><td>u8</td><td>str</td><td>i64</td></tr></thead><tbody><tr><td>&quot;23/03/2025&quot;</td><td>&quot;1179&quot;</td><td>&quot;24 07 18 03 37 49&quot;</td><td>&quot;43&quot;</td><td>&quot;50 28&quot;</td><td>&quot;Promoción Sí o Sí&quot;</td><td>&quot;030718243749&quot;</td><td>[3, 7, … 49]</td><td>3</td><td>7</td><td>18</td><td>24</td><td>37</td><td>49</td><td>&quot;03&quot;</td><td>&quot;07&quot;</td><td>&quot;18&quot;</td><td>&quot;24&quot;</td><td>&quot;37&quot;</td><td>&quot;49&quot;</td><td>&quot;01&quot;</td><td>&quot;05&quot;</td><td>&quot;13&quot;</td><td>&quot;35&quot;</td><td>&quot;37&quot;</td><td>&quot;43&quot;</td><td>false</td><td>0</td><td>&quot;04_11_06_13_12&quot;</td><td>-44</td></tr><tr><td>&quot;11/09/2024&quot;</td><td>&quot;1124&quot;</td><td>&quot;04 41 07 28 29 46&quot;</td><td>&quot;20&quot;</td><td>&quot;11&quot;</td><td>&quot;Promoción Sí o Sí&quot;</td><td>&quot;040728294146&quot;</td><td>[4, 7, … 46]</td><td>4</td><td>7</td><td>28</td><td>29</td><td>41</td><td>46</td><td>&quot;04&quot;</td><td>&quot;07&quot;</td><td>&quot;28&quot;</td><td>&quot;29&quot;</td><td>&quot;41&quot;</td><td>&quot;46&quot;</td><td>&quot;01&quot;</td><td>&quot;03&quot;</td><td>&quot;29&quot;</td><td>&quot;36&quot;</td><td>&quot;38&quot;</td><td>&quot;43&quot;</td><td>true</td><td>16</td><td>&quot;03_21_01_12_05&quot;</td><td>-118</td></tr><tr><td>&quot;09/06/2024&quot;</td><td>&quot;1097&quot;</td><td>&quot;39 20 29 03 07 11&quot;</td><td>&quot;27&quot;</td><td>&quot;21 08&quot;</td><td>&quot;Promoción Sí o Sí&quot;</td><td>&quot;030711202939&quot;</td><td>[3, 7, … 39]</td><td>3</td><td>7</td><td>11</td><td>20</td><td>29</td><td>39</td><td>&quot;03&quot;</td><td>&quot;07&quot;</td><td>&quot;11&quot;</td><td>&quot;20&quot;</td><td>&quot;29&quot;</td><td>&quot;39&quot;</td><td>&quot;03&quot;</td><td>&quot;08&quot;</td><td>&quot;11&quot;</td><td>&quot;16&quot;</td><td>&quot;32&quot;</td><td>&quot;48&quot;</td><td>true</td><td>9</td><td>&quot;04_04_09_09_10&quot;</td><td>16</td></tr><tr><td>&quot;14/04/2024&quot;</td><td>&quot;1081&quot;</td><td>&quot;05 17 07 47 41 19&quot;</td><td>&quot;04&quot;</td><td>&quot;33 03&quot;</td><td>&quot;Promoción Sí o Sí&quot;</td><td>&quot;050717194147&quot;</td><td>[5, 7, … 47]</td><td>5</td><td>7</td><td>17</td><td>19</td><td>41</td><td>47</td><td>&quot;05&quot;</td><td>&quot;07&quot;</td><td>&quot;17&quot;</td><td>&quot;19&quot;</td><td>&quot;41&quot;</td><td>&quot;47&quot;</td><td>&quot;06&quot;</td><td>&quot;21&quot;</td><td>&quot;26&quot;</td><td>&quot;27&quot;</td><td>&quot;40&quot;</td><td>&quot;47&quot;</td><td>true</td><td>19</td><td>&quot;02_10_02_22_06&quot;</td><td>-108</td></tr><tr><td>&quot;03/04/2024&quot;</td><td>&quot;1078&quot;</td><td>&quot;02 07 38 18 31 26&quot;</td><td>&quot;17&quot;</td><td>&quot;41 03&quot;</td><td>&quot;Promoción Sí o Sí&quot;</td><td>&quot;020718263138&quot;</td><td>[2, 7, … 38]</td><td>2</td><td>7</td><td>18</td><td>26</td><td>31</td><td>38</td><td>&quot;02&quot;</td><td>&quot;07&quot;</td><td>&quot;18&quot;</td><td>&quot;26&quot;</td><td>&quot;31&quot;</td><td>&quot;38&quot;</td><td>&quot;05&quot;</td><td>&quot;10&quot;</td><td>&quot;20&quot;</td><td>&quot;22&quot;</td><td>&quot;25&quot;</td><td>&quot;35&quot;</td><td>false</td><td>0</td><td>&quot;05_11_08_05_07&quot;</td><td>-4</td></tr><tr><td>&quot;06/03/2024&quot;</td><td>&quot;1070&quot;</td><td>&quot;30 22 04 07 39 37&quot;</td><td>&quot;38&quot;</td><td>&quot;43 02 18&quot;</td><td>&quot;Promoción Sí o Sí&quot;</td><td>&quot;040722303739&quot;</td><td>[4, 7, … 39]</td><td>4</td><td>7</td><td>22</td><td>30</td><td>37</td><td>39</td><td>&quot;04&quot;</td><td>&quot;07&quot;</td><td>&quot;22&quot;</td><td>&quot;30&quot;</td><td>&quot;37&quot;</td><td>&quot;39&quot;</td><td>&quot;12&quot;</td><td>&quot;18&quot;</td><td>&quot;30&quot;</td><td>&quot;32&quot;</td><td>&quot;34&quot;</td><td>&quot;35&quot;</td><td>true</td><td>16</td><td>&quot;03_15_08_07_02&quot;</td><td>-35</td></tr><tr><td>&quot;14/02/2024&quot;</td><td>&quot;1064&quot;</td><td>&quot;42 03 18 07 29 39&quot;</td><td>&quot;30&quot;</td><td>&quot;28 31&quot;</td><td>&quot;Promoción Sí o Sí&quot;</td><td>&quot;030718293942&quot;</td><td>[3, 7, … 42]</td><td>3</td><td>7</td><td>18</td><td>29</td><td>39</td><td>42</td><td>&quot;03&quot;</td><td>&quot;07&quot;</td><td>&quot;18&quot;</td><td>&quot;29&quot;</td><td>&quot;39&quot;</td><td>&quot;42&quot;</td><td>&quot;12&quot;</td><td>&quot;23&quot;</td><td>&quot;24&quot;</td><td>&quot;31&quot;</td><td>&quot;35&quot;</td><td>&quot;42&quot;</td><td>true</td><td>8</td><td>&quot;04_11_11_10_03&quot;</td><td>-11</td></tr><tr><td>&quot;17/09/2023&quot;</td><td>&quot;1021&quot;</td><td>&quot;36 05 47 46 07 08&quot;</td><td>&quot;14&quot;</td><td>&quot;02 01 18&quot;</td><td>&quot;Promoción Sí o Sí&quot;</td><td>&quot;050708364647&quot;</td><td>[5, 7, … 47]</td><td>5</td><td>7</td><td>8</td><td>36</td><td>46</td><td>47</td><td>&quot;05&quot;</td><td>&quot;07&quot;</td><td>&quot;08&quot;</td><td>&quot;36&quot;</td><td>&quot;46&quot;</td><td>&quot;47&quot;</td><td>&quot;19&quot;</td><td>&quot;24&quot;</td><td>&quot;27&quot;</td><td>&quot;34&quot;</td><td>&quot;42&quot;</td><td>&quot;47&quot;</td><td>true</td><td>16</td><td>&quot;02_01_28_10_01&quot;</td><td>127</td></tr><tr><td>&quot;10/09/2023&quot;</td><td>&quot;1019&quot;</td><td>&quot;34 41 47 07 20 03&quot;</td><td>&quot;16&quot;</td><td>&quot;22&quot;</td><td>&quot;Promoción Sí o Sí&quot;</td><td>&quot;030720344147&quot;</td><td>[3, 7, … 47]</td><td>3</td><td>7</td><td>20</td><td>34</td><td>41</td><td>47</td><td>&quot;03&quot;</td><td>&quot;07&quot;</td><td>&quot;20&quot;</td><td>&quot;34&quot;</td><td>&quot;41&quot;</td><td>&quot;47&quot;</td><td>&quot;19&quot;</td><td>&quot;24&quot;</td><td>&quot;28&quot;</td><td>&quot;41&quot;</td><td>&quot;42&quot;</td><td>&quot;48&quot;</td><td>true</td><td>1</td><td>&quot;04_13_14_07_06&quot;</td><td>14</td></tr><tr><td>&quot;20/08/2023&quot;</td><td>&quot;1013&quot;</td><td>&quot;43 25 27 34 06 07&quot;</td><td>&quot;31&quot;</td><td>&quot;09 35&quot;</td><td>&quot;Promoción Sí o Sí&quot;</td><td>&quot;060725273443&quot;</td><td>[6, 7, … 43]</td><td>6</td><td>7</td><td>25</td><td>27</td><td>34</td><td>43</td><td>&quot;06&quot;</td><td>&quot;07&quot;</td><td>&quot;25&quot;</td><td>&quot;27&quot;</td><td>&quot;34&quot;</td><td>&quot;43&quot;</td><td>&quot;11&quot;</td><td>&quot;24&quot;</td><td>&quot;25&quot;</td><td>&quot;32&quot;</td><td>&quot;38&quot;</td><td>&quot;43&quot;</td><td>true</td><td>16</td><td>&quot;01_18_02_07_09&quot;</td><td>-78</td></tr></tbody></table></div>"
      ],
      "text/plain": [
       "shape: (10, 30)\n",
       "┌────────────┬────────┬───────────────┬──────┬───┬───────────────┬────────┬──────────────┬─────────┐\n",
       "│ fecha      ┆ sorteo ┆ bolillas      ┆ yapa ┆ … ┆ is_rare_combi ┆ reason ┆ jumps_map    ┆ unijump │\n",
       "│ ---        ┆ ---    ┆ ---           ┆ ---  ┆   ┆ nation        ┆ ---    ┆ ---          ┆ ---     │\n",
       "│ str        ┆ str    ┆ str           ┆ str  ┆   ┆ ---           ┆ u8     ┆ str          ┆ i64     │\n",
       "│            ┆        ┆               ┆      ┆   ┆ bool          ┆        ┆              ┆         │\n",
       "╞════════════╪════════╪═══════════════╪══════╪═══╪═══════════════╪════════╪══════════════╪═════════╡\n",
       "│ 23/03/2025 ┆ 1179   ┆ 24 07 18 03   ┆ 43   ┆ … ┆ false         ┆ 0      ┆ 04_11_06_13_ ┆ -44     │\n",
       "│            ┆        ┆ 37 49         ┆      ┆   ┆               ┆        ┆ 12           ┆         │\n",
       "│ 11/09/2024 ┆ 1124   ┆ 04 41 07 28   ┆ 20   ┆ … ┆ true          ┆ 16     ┆ 03_21_01_12_ ┆ -118    │\n",
       "│            ┆        ┆ 29 46         ┆      ┆   ┆               ┆        ┆ 05           ┆         │\n",
       "│ 09/06/2024 ┆ 1097   ┆ 39 20 29 03   ┆ 27   ┆ … ┆ true          ┆ 9      ┆ 04_04_09_09_ ┆ 16      │\n",
       "│            ┆        ┆ 07 11         ┆      ┆   ┆               ┆        ┆ 10           ┆         │\n",
       "│ 14/04/2024 ┆ 1081   ┆ 05 17 07 47   ┆ 04   ┆ … ┆ true          ┆ 19     ┆ 02_10_02_22_ ┆ -108    │\n",
       "│            ┆        ┆ 41 19         ┆      ┆   ┆               ┆        ┆ 06           ┆         │\n",
       "│ 03/04/2024 ┆ 1078   ┆ 02 07 38 18   ┆ 17   ┆ … ┆ false         ┆ 0      ┆ 05_11_08_05_ ┆ -4      │\n",
       "│            ┆        ┆ 31 26         ┆      ┆   ┆               ┆        ┆ 07           ┆         │\n",
       "│ 06/03/2024 ┆ 1070   ┆ 30 22 04 07   ┆ 38   ┆ … ┆ true          ┆ 16     ┆ 03_15_08_07_ ┆ -35     │\n",
       "│            ┆        ┆ 39 37         ┆      ┆   ┆               ┆        ┆ 02           ┆         │\n",
       "│ 14/02/2024 ┆ 1064   ┆ 42 03 18 07   ┆ 30   ┆ … ┆ true          ┆ 8      ┆ 04_11_11_10_ ┆ -11     │\n",
       "│            ┆        ┆ 29 39         ┆      ┆   ┆               ┆        ┆ 03           ┆         │\n",
       "│ 17/09/2023 ┆ 1021   ┆ 36 05 47 46   ┆ 14   ┆ … ┆ true          ┆ 16     ┆ 02_01_28_10_ ┆ 127     │\n",
       "│            ┆        ┆ 07 08         ┆      ┆   ┆               ┆        ┆ 01           ┆         │\n",
       "│ 10/09/2023 ┆ 1019   ┆ 34 41 47 07   ┆ 16   ┆ … ┆ true          ┆ 1      ┆ 04_13_14_07_ ┆ 14      │\n",
       "│            ┆        ┆ 20 03         ┆      ┆   ┆               ┆        ┆ 06           ┆         │\n",
       "│ 20/08/2023 ┆ 1013   ┆ 43 25 27 34   ┆ 31   ┆ … ┆ true          ┆ 16     ┆ 01_18_02_07_ ┆ -78     │\n",
       "│            ┆        ┆ 06 07         ┆      ┆   ┆               ┆        ┆ 09           ┆         │\n",
       "└────────────┴────────┴───────────────┴──────┴───┴───────────────┴────────┴──────────────┴─────────┘"
      ]
     },
     "metadata": {},
     "output_type": "display_data"
    },
    {
     "name": "stdout",
     "output_type": "stream",
     "text": [
      "df_jumps_map FOR str_b2 = 07\n"
     ]
    },
    {
     "data": {
      "text/html": [
       "<div><style>\n",
       ".dataframe > thead > tr,\n",
       ".dataframe > tbody > tr {\n",
       "  text-align: right;\n",
       "  white-space: pre-wrap;\n",
       "}\n",
       "</style>\n",
       "<small>shape: (115, 2)</small><table border=\"1\" class=\"dataframe\"><thead><tr><th>jumps_map</th><th>count</th></tr><tr><td>str</td><td>u32</td></tr></thead><tbody><tr><td>&quot;01_04_05_23_05&quot;</td><td>2</td></tr><tr><td>&quot;01_18_02_07_09&quot;</td><td>1</td></tr><tr><td>&quot;05_03_12_16_02&quot;</td><td>1</td></tr><tr><td>&quot;01_03_13_15_05&quot;</td><td>1</td></tr><tr><td>&quot;04_01_26_01_02&quot;</td><td>1</td></tr><tr><td>&hellip;</td><td>&hellip;</td></tr><tr><td>&quot;04_12_02_16_05&quot;</td><td>1</td></tr><tr><td>&quot;02_03_04_11_05&quot;</td><td>1</td></tr><tr><td>&quot;06_06_17_04_01&quot;</td><td>1</td></tr><tr><td>&quot;05_03_21_02_04&quot;</td><td>1</td></tr><tr><td>&quot;01_07_09_04_01&quot;</td><td>1</td></tr></tbody></table></div>"
      ],
      "text/plain": [
       "shape: (115, 2)\n",
       "┌────────────────┬───────┐\n",
       "│ jumps_map      ┆ count │\n",
       "│ ---            ┆ ---   │\n",
       "│ str            ┆ u32   │\n",
       "╞════════════════╪═══════╡\n",
       "│ 01_04_05_23_05 ┆ 2     │\n",
       "│ 01_18_02_07_09 ┆ 1     │\n",
       "│ 05_03_12_16_02 ┆ 1     │\n",
       "│ 01_03_13_15_05 ┆ 1     │\n",
       "│ 04_01_26_01_02 ┆ 1     │\n",
       "│ …              ┆ …     │\n",
       "│ 04_12_02_16_05 ┆ 1     │\n",
       "│ 02_03_04_11_05 ┆ 1     │\n",
       "│ 06_06_17_04_01 ┆ 1     │\n",
       "│ 05_03_21_02_04 ┆ 1     │\n",
       "│ 01_07_09_04_01 ┆ 1     │\n",
       "└────────────────┴───────┘"
      ]
     },
     "metadata": {},
     "output_type": "display_data"
    },
    {
     "name": "stdout",
     "output_type": "stream",
     "text": [
      "df_unijump FOR str_b2 = 07\n"
     ]
    },
    {
     "data": {
      "text/html": [
       "<div><style>\n",
       ".dataframe > thead > tr,\n",
       ".dataframe > tbody > tr {\n",
       "  text-align: right;\n",
       "  white-space: pre-wrap;\n",
       "}\n",
       "</style>\n",
       "<small>shape: (93, 2)</small><table border=\"1\" class=\"dataframe\"><thead><tr><th>unijump</th><th>count</th></tr><tr><td>i64</td><td>u32</td></tr></thead><tbody><tr><td>16</td><td>4</td></tr><tr><td>-64</td><td>3</td></tr><tr><td>-2</td><td>2</td></tr><tr><td>3</td><td>2</td></tr><tr><td>-9</td><td>2</td></tr><tr><td>&hellip;</td><td>&hellip;</td></tr><tr><td>24</td><td>1</td></tr><tr><td>-87</td><td>1</td></tr><tr><td>-49</td><td>1</td></tr><tr><td>28</td><td>1</td></tr><tr><td>154</td><td>1</td></tr></tbody></table></div>"
      ],
      "text/plain": [
       "shape: (93, 2)\n",
       "┌─────────┬───────┐\n",
       "│ unijump ┆ count │\n",
       "│ ---     ┆ ---   │\n",
       "│ i64     ┆ u32   │\n",
       "╞═════════╪═══════╡\n",
       "│ 16      ┆ 4     │\n",
       "│ -64     ┆ 3     │\n",
       "│ -2      ┆ 2     │\n",
       "│ 3       ┆ 2     │\n",
       "│ -9      ┆ 2     │\n",
       "│ …       ┆ …     │\n",
       "│ 24      ┆ 1     │\n",
       "│ -87     ┆ 1     │\n",
       "│ -49     ┆ 1     │\n",
       "│ 28      ┆ 1     │\n",
       "│ 154     ┆ 1     │\n",
       "└─────────┴───────┘"
      ]
     },
     "metadata": {},
     "output_type": "display_data"
    }
   ],
   "source": [
    "possible_b2, exclude_jump_maps_b2, last_post_b2 = plot_post_col(col='str_b2', post_col='post_str_b2')"
   ]
  },
  {
   "cell_type": "code",
   "execution_count": 50,
   "metadata": {},
   "outputs": [
    {
     "name": "stdout",
     "output_type": "stream",
     "text": [
      "Setting test_value='09'\n",
      "df_viz FOR str_b3 = 09\n"
     ]
    },
    {
     "data": {
      "text/html": [
       "<div><style>\n",
       ".dataframe > thead > tr,\n",
       ".dataframe > tbody > tr {\n",
       "  text-align: right;\n",
       "  white-space: pre-wrap;\n",
       "}\n",
       "</style>\n",
       "<small>shape: (20, 3)</small><table border=\"1\" class=\"dataframe\"><thead><tr><th>post_str_b3</th><th>count</th><th>percent</th></tr><tr><td>str</td><td>u32</td><td>f64</td></tr></thead><tbody><tr><td>&quot;25&quot;</td><td>5</td><td>11.904762</td></tr><tr><td>&quot;14&quot;</td><td>4</td><td>9.52381</td></tr><tr><td>&quot;16&quot;</td><td>4</td><td>9.52381</td></tr><tr><td>&quot;21&quot;</td><td>3</td><td>7.142857</td></tr><tr><td>&quot;17&quot;</td><td>3</td><td>7.142857</td></tr><tr><td>&hellip;</td><td>&hellip;</td><td>&hellip;</td></tr><tr><td>&quot;32&quot;</td><td>1</td><td>2.380952</td></tr><tr><td>&quot;27&quot;</td><td>1</td><td>2.380952</td></tr><tr><td>&quot;10&quot;</td><td>1</td><td>2.380952</td></tr><tr><td>&quot;23&quot;</td><td>1</td><td>2.380952</td></tr><tr><td>&quot;05&quot;</td><td>1</td><td>2.380952</td></tr></tbody></table></div>"
      ],
      "text/plain": [
       "shape: (20, 3)\n",
       "┌─────────────┬───────┬───────────┐\n",
       "│ post_str_b3 ┆ count ┆ percent   │\n",
       "│ ---         ┆ ---   ┆ ---       │\n",
       "│ str         ┆ u32   ┆ f64       │\n",
       "╞═════════════╪═══════╪═══════════╡\n",
       "│ 25          ┆ 5     ┆ 11.904762 │\n",
       "│ 14          ┆ 4     ┆ 9.52381   │\n",
       "│ 16          ┆ 4     ┆ 9.52381   │\n",
       "│ 21          ┆ 3     ┆ 7.142857  │\n",
       "│ 17          ┆ 3     ┆ 7.142857  │\n",
       "│ …           ┆ …     ┆ …         │\n",
       "│ 32          ┆ 1     ┆ 2.380952  │\n",
       "│ 27          ┆ 1     ┆ 2.380952  │\n",
       "│ 10          ┆ 1     ┆ 2.380952  │\n",
       "│ 23          ┆ 1     ┆ 2.380952  │\n",
       "│ 05          ┆ 1     ┆ 2.380952  │\n",
       "└─────────────┴───────┴───────────┘"
      ]
     },
     "metadata": {},
     "output_type": "display_data"
    },
    {
     "data": {},
     "metadata": {},
     "output_type": "display_data"
    },
    {
     "data": {
      "application/vnd.holoviews_exec.v0+json": "",
      "text/html": [
       "<div id='c68f069a-d035-4976-a56a-839a9181c0db'>\n",
       "  <div id=\"f572bb92-5d43-436f-a700-e131b395a08a\" data-root-id=\"c68f069a-d035-4976-a56a-839a9181c0db\" style=\"display: contents;\"></div>\n",
       "</div>\n",
       "<script type=\"application/javascript\">(function(root) {\n",
       "  var docs_json = {\"67a0a57d-a117-4e7a-8762-bf18d53dd614\":{\"version\":\"3.7.2\",\"title\":\"Bokeh Application\",\"roots\":[{\"type\":\"object\",\"name\":\"Row\",\"id\":\"c68f069a-d035-4976-a56a-839a9181c0db\",\"attributes\":{\"name\":\"Row01357\",\"tags\":[\"embedded\"],\"stylesheets\":[\"\\n:host(.pn-loading):before, .pn-loading:before {\\n  background-color: #c3c3c3;\\n  mask-size: auto calc(min(50%, 400px));\\n  -webkit-mask-size: auto calc(min(50%, 400px));\\n}\",{\"type\":\"object\",\"name\":\"ImportedStyleSheet\",\"id\":\"be9aff93-7bde-44e6-aa7d-303ef6f740c2\",\"attributes\":{\"url\":\"https://cdn.holoviz.org/panel/1.6.2/dist/css/loading.css\"}},{\"type\":\"object\",\"name\":\"ImportedStyleSheet\",\"id\":\"d7d44fe9-c001-4f71-843a-5d7cd9644000\",\"attributes\":{\"url\":\"https://cdn.holoviz.org/panel/1.6.2/dist/css/listpanel.css\"}},{\"type\":\"object\",\"name\":\"ImportedStyleSheet\",\"id\":\"d0c102d2-6851-4ac3-aa97-4206ed617838\",\"attributes\":{\"url\":\"https://cdn.holoviz.org/panel/1.6.2/dist/bundled/theme/default.css\"}},{\"type\":\"object\",\"name\":\"ImportedStyleSheet\",\"id\":\"2c0a526e-dabe-4b24-88e2-f63945072afe\",\"attributes\":{\"url\":\"https://cdn.holoviz.org/panel/1.6.2/dist/bundled/theme/native.css\"}}],\"min_width\":700,\"margin\":0,\"sizing_mode\":\"stretch_width\",\"align\":\"start\",\"children\":[{\"type\":\"object\",\"name\":\"Spacer\",\"id\":\"30a5e6a9-1cbf-4ffd-8426-bc579a9fbd47\",\"attributes\":{\"name\":\"HSpacer01361\",\"stylesheets\":[\"\\n:host(.pn-loading):before, .pn-loading:before {\\n  background-color: #c3c3c3;\\n  mask-size: auto calc(min(50%, 400px));\\n  -webkit-mask-size: auto calc(min(50%, 400px));\\n}\",{\"id\":\"be9aff93-7bde-44e6-aa7d-303ef6f740c2\"},{\"id\":\"d0c102d2-6851-4ac3-aa97-4206ed617838\"},{\"id\":\"2c0a526e-dabe-4b24-88e2-f63945072afe\"}],\"margin\":0,\"sizing_mode\":\"stretch_width\",\"align\":\"start\"}},{\"type\":\"object\",\"name\":\"Figure\",\"id\":\"ed3eca06-1f49-4cfa-b71f-518c621efc7a\",\"attributes\":{\"width\":700,\"height\":300,\"margin\":[5,10],\"sizing_mode\":\"fixed\",\"align\":\"start\",\"x_range\":{\"type\":\"object\",\"name\":\"FactorRange\",\"id\":\"09ff6925-aacd-4f3e-8487-769b23704a9a\",\"attributes\":{\"name\":\"post_str_b3\",\"tags\":[[[\"post_str_b3\",null]],[]],\"factors\":[\"25\",\"14\",\"16\",\"21\",\"17\",\"19\",\"13\",\"28\",\"34\",\"22\",\"24\",\"33\",\"26\",\"12\",\"15\",\"32\",\"27\",\"10\",\"23\",\"05\"]}},\"y_range\":{\"type\":\"object\",\"name\":\"Range1d\",\"id\":\"6283394c-04b6-4919-90bd-2ae090008aba\",\"attributes\":{\"name\":\"percent\",\"tags\":[[[\"percent\",null]],{\"type\":\"map\",\"entries\":[[\"invert_yaxis\",false],[\"autorange\",false]]}],\"end\":12.857142857142856,\"reset_start\":0.0,\"reset_end\":12.857142857142856}},\"x_scale\":{\"type\":\"object\",\"name\":\"CategoricalScale\",\"id\":\"cc9f8b03-5f32-4a39-8f34-1d63f17b0049\"},\"y_scale\":{\"type\":\"object\",\"name\":\"LinearScale\",\"id\":\"34bf49dd-0e42-4b73-a7c4-3b02057db3dd\"},\"title\":{\"type\":\"object\",\"name\":\"Title\",\"id\":\"0abb57b2-0eb4-45e0-84a8-08b164844713\",\"attributes\":{\"text_color\":\"black\",\"text_font_size\":\"12pt\"}},\"renderers\":[{\"type\":\"object\",\"name\":\"GlyphRenderer\",\"id\":\"aab9d037-d9b5-4c80-a7ce-03787d9c091f\",\"attributes\":{\"data_source\":{\"type\":\"object\",\"name\":\"ColumnDataSource\",\"id\":\"c30e5fa9-2186-4f83-87f1-581241759500\",\"attributes\":{\"selected\":{\"type\":\"object\",\"name\":\"Selection\",\"id\":\"327c4540-f17d-4446-b1d3-09fffdf4ecbc\",\"attributes\":{\"indices\":[],\"line_indices\":[]}},\"selection_policy\":{\"type\":\"object\",\"name\":\"UnionRenderers\",\"id\":\"f9466521-1d3a-4614-87dd-fef357a382aa\"},\"data\":{\"type\":\"map\",\"entries\":[[\"post_str_b3\",[\"25\",\"14\",\"16\",\"21\",\"17\",\"19\",\"13\",\"28\",\"34\",\"22\",\"24\",\"33\",\"26\",\"12\",\"15\",\"32\",\"27\",\"10\",\"23\",\"05\"]],[\"percent\",{\"type\":\"ndarray\",\"array\":{\"type\":\"bytes\",\"data\":\"8zzP8zzPJ0DDMAzDMAwjQMMwDMMwDCNAJEmSJEmSHEAkSZIkSZIcQCRJkiRJkhxAJEmSJEmSHEDDMAzDMAwTQMMwDMMwDBNAwzAMwzAME0DDMAzDMAwTQMMwDMMwDANAwzAMwzAMA0DDMAzDMAwDQMMwDMMwDANAwzAMwzAMA0DDMAzDMAwDQMMwDMMwDANAwzAMwzAMA0DDMAzDMAwDQA==\"},\"shape\":[20],\"dtype\":\"float64\",\"order\":\"little\"}]]}}},\"view\":{\"type\":\"object\",\"name\":\"CDSView\",\"id\":\"719403a9-fb53-4571-9244-5707bf4c66a2\",\"attributes\":{\"filter\":{\"type\":\"object\",\"name\":\"AllIndices\",\"id\":\"435dc6e7-8cc2-4d31-878a-5e129ec45ebb\"}}},\"glyph\":{\"type\":\"object\",\"name\":\"VBar\",\"id\":\"492e5fb0-0354-48be-a055-9182682e3a4b\",\"attributes\":{\"tags\":[\"apply_ranges\"],\"x\":{\"type\":\"field\",\"field\":\"post_str_b3\"},\"width\":{\"type\":\"value\",\"value\":0.8},\"top\":{\"type\":\"field\",\"field\":\"percent\"},\"fill_color\":{\"type\":\"value\",\"value\":\"#30a2da\"},\"hatch_color\":{\"type\":\"value\",\"value\":\"#30a2da\"}}},\"selection_glyph\":{\"type\":\"object\",\"name\":\"VBar\",\"id\":\"364c8dca-6773-45d2-9d6f-69ffccc96609\",\"attributes\":{\"tags\":[\"apply_ranges\"],\"x\":{\"type\":\"field\",\"field\":\"post_str_b3\"},\"width\":{\"type\":\"value\",\"value\":0.8},\"bottom\":{\"type\":\"value\",\"value\":0},\"top\":{\"type\":\"field\",\"field\":\"percent\"},\"line_color\":{\"type\":\"value\",\"value\":\"black\"},\"line_alpha\":{\"type\":\"value\",\"value\":1.0},\"line_width\":{\"type\":\"value\",\"value\":1},\"line_join\":{\"type\":\"value\",\"value\":\"bevel\"},\"line_cap\":{\"type\":\"value\",\"value\":\"butt\"},\"line_dash\":{\"type\":\"value\",\"value\":[]},\"line_dash_offset\":{\"type\":\"value\",\"value\":0},\"fill_color\":{\"type\":\"value\",\"value\":\"#30a2da\"},\"fill_alpha\":{\"type\":\"value\",\"value\":1.0},\"hatch_color\":{\"type\":\"value\",\"value\":\"#30a2da\"},\"hatch_alpha\":{\"type\":\"value\",\"value\":1.0},\"hatch_scale\":{\"type\":\"value\",\"value\":12.0},\"hatch_pattern\":{\"type\":\"value\",\"value\":null},\"hatch_weight\":{\"type\":\"value\",\"value\":1.0}}},\"nonselection_glyph\":{\"type\":\"object\",\"name\":\"VBar\",\"id\":\"948dd571-945f-4859-8cb2-f749bbc90fe2\",\"attributes\":{\"tags\":[\"apply_ranges\"],\"x\":{\"type\":\"field\",\"field\":\"post_str_b3\"},\"width\":{\"type\":\"value\",\"value\":0.8},\"top\":{\"type\":\"field\",\"field\":\"percent\"},\"line_alpha\":{\"type\":\"value\",\"value\":0.1},\"fill_color\":{\"type\":\"value\",\"value\":\"#30a2da\"},\"fill_alpha\":{\"type\":\"value\",\"value\":0.1},\"hatch_color\":{\"type\":\"value\",\"value\":\"#30a2da\"},\"hatch_alpha\":{\"type\":\"value\",\"value\":0.1}}},\"muted_glyph\":{\"type\":\"object\",\"name\":\"VBar\",\"id\":\"bbc48d2b-8cd0-47ff-aa19-a1af871f1e2b\",\"attributes\":{\"tags\":[\"apply_ranges\"],\"x\":{\"type\":\"field\",\"field\":\"post_str_b3\"},\"width\":{\"type\":\"value\",\"value\":0.8},\"top\":{\"type\":\"field\",\"field\":\"percent\"},\"line_alpha\":{\"type\":\"value\",\"value\":0.2},\"fill_color\":{\"type\":\"value\",\"value\":\"#30a2da\"},\"fill_alpha\":{\"type\":\"value\",\"value\":0.2},\"hatch_color\":{\"type\":\"value\",\"value\":\"#30a2da\"},\"hatch_alpha\":{\"type\":\"value\",\"value\":0.2}}}}},{\"type\":\"object\",\"name\":\"Span\",\"id\":\"fe7651a4-8574-44c6-bd7c-af365659de71\",\"attributes\":{\"level\":\"glyph\",\"location\":4.999999999999998,\"line_color\":\"red\",\"line_width\":3}},{\"type\":\"object\",\"name\":\"Span\",\"id\":\"a91e1bd8-31d0-404c-9ffe-15b0ca17912c\",\"attributes\":{\"level\":\"glyph\",\"location\":7.499999999999997,\"line_color\":\"blue\",\"line_width\":3}},{\"type\":\"object\",\"name\":\"Span\",\"id\":\"2f728d92-6264-4ba9-a008-138e9f2008d7\",\"attributes\":{\"level\":\"glyph\",\"location\":2.499999999999999,\"line_color\":\"blue\",\"line_width\":3}}],\"toolbar\":{\"type\":\"object\",\"name\":\"Toolbar\",\"id\":\"b9ab3bf8-2a44-4e96-ad4e-b8664bba98cd\",\"attributes\":{\"tools\":[{\"type\":\"object\",\"name\":\"WheelZoomTool\",\"id\":\"379565c8-88a9-41b0-85d0-f1e708c532d2\",\"attributes\":{\"tags\":[\"hv_created\"],\"renderers\":\"auto\",\"zoom_together\":\"none\"}},{\"type\":\"object\",\"name\":\"HoverTool\",\"id\":\"5e25532f-d14f-49c0-bb36-825f8f0bc1b8\",\"attributes\":{\"tags\":[\"hv_created\"],\"renderers\":[{\"id\":\"aab9d037-d9b5-4c80-a7ce-03787d9c091f\"}],\"tooltips\":[[\"post_str_b3\",\"@{post_str_b3}\"],[\"percent\",\"@{percent}\"]]}},{\"type\":\"object\",\"name\":\"SaveTool\",\"id\":\"1e23e0f7-1061-40b8-a282-1259e9e15343\"},{\"type\":\"object\",\"name\":\"PanTool\",\"id\":\"d86f3d97-51f6-48e5-b749-84f88688e4b5\"},{\"type\":\"object\",\"name\":\"BoxZoomTool\",\"id\":\"f6a87862-35b1-41f9-ace0-2576fb355fcf\",\"attributes\":{\"dimensions\":\"both\",\"overlay\":{\"type\":\"object\",\"name\":\"BoxAnnotation\",\"id\":\"eb0d400d-b7d1-4817-8b54-4d19f8d0333a\",\"attributes\":{\"syncable\":false,\"line_color\":\"black\",\"line_alpha\":1.0,\"line_width\":2,\"line_dash\":[4,4],\"fill_color\":\"lightgrey\",\"fill_alpha\":0.5,\"level\":\"overlay\",\"visible\":false,\"left\":{\"type\":\"number\",\"value\":\"nan\"},\"right\":{\"type\":\"number\",\"value\":\"nan\"},\"top\":{\"type\":\"number\",\"value\":\"nan\"},\"bottom\":{\"type\":\"number\",\"value\":\"nan\"},\"left_units\":\"canvas\",\"right_units\":\"canvas\",\"top_units\":\"canvas\",\"bottom_units\":\"canvas\",\"handles\":{\"type\":\"object\",\"name\":\"BoxInteractionHandles\",\"id\":\"0c9bac68-1be4-4545-90e3-bb565c4ca3ce\",\"attributes\":{\"all\":{\"type\":\"object\",\"name\":\"AreaVisuals\",\"id\":\"de303e62-7aeb-4d9d-916d-9d1e4213fde7\",\"attributes\":{\"fill_color\":\"white\",\"hover_fill_color\":\"lightgray\"}}}}}}}},{\"type\":\"object\",\"name\":\"ResetTool\",\"id\":\"2c0397d7-1c3a-4eed-9d7e-efc2fabff285\"}],\"active_drag\":{\"id\":\"d86f3d97-51f6-48e5-b749-84f88688e4b5\"}}},\"left\":[{\"type\":\"object\",\"name\":\"LinearAxis\",\"id\":\"32899b38-76e3-4a2b-beae-a168eeb6a3bc\",\"attributes\":{\"ticker\":{\"type\":\"object\",\"name\":\"BasicTicker\",\"id\":\"c5401043-c212-4acb-bfa7-be23ef86bf3d\",\"attributes\":{\"mantissas\":[1,2,5]}},\"formatter\":{\"type\":\"object\",\"name\":\"BasicTickFormatter\",\"id\":\"995169e8-d13a-4dec-a68e-6708902ed136\"},\"axis_label\":\"percent\",\"major_label_policy\":{\"type\":\"object\",\"name\":\"AllLabels\",\"id\":\"b324c87c-d547-45bf-9954-e003d968e660\"}}}],\"below\":[{\"type\":\"object\",\"name\":\"CategoricalAxis\",\"id\":\"ef91c900-334a-456d-9752-684ba3addf3c\",\"attributes\":{\"ticker\":{\"type\":\"object\",\"name\":\"CategoricalTicker\",\"id\":\"5bf1123e-a2cc-45d5-a449-dade40169feb\"},\"formatter\":{\"type\":\"object\",\"name\":\"CategoricalTickFormatter\",\"id\":\"269a888e-4688-4261-bf48-2f23c18d11d7\"},\"axis_label\":\"post_str_b3\",\"major_label_policy\":{\"type\":\"object\",\"name\":\"AllLabels\",\"id\":\"79e6cc03-d1f4-4f92-a322-ce770ae5d855\"}}}],\"center\":[{\"type\":\"object\",\"name\":\"Grid\",\"id\":\"bcf2fe27-2a8e-45d9-80c3-790e6e84b2f5\",\"attributes\":{\"axis\":{\"id\":\"ef91c900-334a-456d-9752-684ba3addf3c\"},\"grid_line_color\":null}},{\"type\":\"object\",\"name\":\"Grid\",\"id\":\"5e2d58f4-2365-4148-8d65-201e0e4e5427\",\"attributes\":{\"dimension\":1,\"axis\":{\"id\":\"32899b38-76e3-4a2b-beae-a168eeb6a3bc\"},\"grid_line_color\":null}}],\"min_border_top\":10,\"min_border_bottom\":10,\"min_border_left\":10,\"min_border_right\":10,\"output_backend\":\"webgl\"}},{\"type\":\"object\",\"name\":\"Spacer\",\"id\":\"912eee03-ba30-46f1-a467-38a7c197e228\",\"attributes\":{\"name\":\"HSpacer01362\",\"stylesheets\":[\"\\n:host(.pn-loading):before, .pn-loading:before {\\n  background-color: #c3c3c3;\\n  mask-size: auto calc(min(50%, 400px));\\n  -webkit-mask-size: auto calc(min(50%, 400px));\\n}\",{\"id\":\"be9aff93-7bde-44e6-aa7d-303ef6f740c2\"},{\"id\":\"d0c102d2-6851-4ac3-aa97-4206ed617838\"},{\"id\":\"2c0a526e-dabe-4b24-88e2-f63945072afe\"}],\"margin\":0,\"sizing_mode\":\"stretch_width\",\"align\":\"start\"}}]}}],\"defs\":[{\"type\":\"model\",\"name\":\"ReactiveHTML1\"},{\"type\":\"model\",\"name\":\"FlexBox1\",\"properties\":[{\"name\":\"align_content\",\"kind\":\"Any\",\"default\":\"flex-start\"},{\"name\":\"align_items\",\"kind\":\"Any\",\"default\":\"flex-start\"},{\"name\":\"flex_direction\",\"kind\":\"Any\",\"default\":\"row\"},{\"name\":\"flex_wrap\",\"kind\":\"Any\",\"default\":\"wrap\"},{\"name\":\"gap\",\"kind\":\"Any\",\"default\":\"\"},{\"name\":\"justify_content\",\"kind\":\"Any\",\"default\":\"flex-start\"}]},{\"type\":\"model\",\"name\":\"FloatPanel1\",\"properties\":[{\"name\":\"config\",\"kind\":\"Any\",\"default\":{\"type\":\"map\"}},{\"name\":\"contained\",\"kind\":\"Any\",\"default\":true},{\"name\":\"position\",\"kind\":\"Any\",\"default\":\"right-top\"},{\"name\":\"offsetx\",\"kind\":\"Any\",\"default\":null},{\"name\":\"offsety\",\"kind\":\"Any\",\"default\":null},{\"name\":\"theme\",\"kind\":\"Any\",\"default\":\"primary\"},{\"name\":\"status\",\"kind\":\"Any\",\"default\":\"normalized\"}]},{\"type\":\"model\",\"name\":\"GridStack1\",\"properties\":[{\"name\":\"ncols\",\"kind\":\"Any\",\"default\":null},{\"name\":\"nrows\",\"kind\":\"Any\",\"default\":null},{\"name\":\"allow_resize\",\"kind\":\"Any\",\"default\":true},{\"name\":\"allow_drag\",\"kind\":\"Any\",\"default\":true},{\"name\":\"state\",\"kind\":\"Any\",\"default\":[]}]},{\"type\":\"model\",\"name\":\"drag1\",\"properties\":[{\"name\":\"slider_width\",\"kind\":\"Any\",\"default\":5},{\"name\":\"slider_color\",\"kind\":\"Any\",\"default\":\"black\"},{\"name\":\"value\",\"kind\":\"Any\",\"default\":50}]},{\"type\":\"model\",\"name\":\"click1\",\"properties\":[{\"name\":\"terminal_output\",\"kind\":\"Any\",\"default\":\"\"},{\"name\":\"debug_name\",\"kind\":\"Any\",\"default\":\"\"},{\"name\":\"clears\",\"kind\":\"Any\",\"default\":0}]},{\"type\":\"model\",\"name\":\"FastWrapper1\",\"properties\":[{\"name\":\"object\",\"kind\":\"Any\",\"default\":null},{\"name\":\"style\",\"kind\":\"Any\",\"default\":null}]},{\"type\":\"model\",\"name\":\"NotificationArea1\",\"properties\":[{\"name\":\"js_events\",\"kind\":\"Any\",\"default\":{\"type\":\"map\"}},{\"name\":\"max_notifications\",\"kind\":\"Any\",\"default\":5},{\"name\":\"notifications\",\"kind\":\"Any\",\"default\":[]},{\"name\":\"position\",\"kind\":\"Any\",\"default\":\"bottom-right\"},{\"name\":\"_clear\",\"kind\":\"Any\",\"default\":0},{\"name\":\"types\",\"kind\":\"Any\",\"default\":[{\"type\":\"map\",\"entries\":[[\"type\",\"warning\"],[\"background\",\"#ffc107\"],[\"icon\",{\"type\":\"map\",\"entries\":[[\"className\",\"fas fa-exclamation-triangle\"],[\"tagName\",\"i\"],[\"color\",\"white\"]]}]]},{\"type\":\"map\",\"entries\":[[\"type\",\"info\"],[\"background\",\"#007bff\"],[\"icon\",{\"type\":\"map\",\"entries\":[[\"className\",\"fas fa-info-circle\"],[\"tagName\",\"i\"],[\"color\",\"white\"]]}]]}]}]},{\"type\":\"model\",\"name\":\"Notification\",\"properties\":[{\"name\":\"background\",\"kind\":\"Any\",\"default\":null},{\"name\":\"duration\",\"kind\":\"Any\",\"default\":3000},{\"name\":\"icon\",\"kind\":\"Any\",\"default\":null},{\"name\":\"message\",\"kind\":\"Any\",\"default\":\"\"},{\"name\":\"notification_type\",\"kind\":\"Any\",\"default\":null},{\"name\":\"_rendered\",\"kind\":\"Any\",\"default\":false},{\"name\":\"_destroyed\",\"kind\":\"Any\",\"default\":false}]},{\"type\":\"model\",\"name\":\"TemplateActions1\",\"properties\":[{\"name\":\"open_modal\",\"kind\":\"Any\",\"default\":0},{\"name\":\"close_modal\",\"kind\":\"Any\",\"default\":0}]},{\"type\":\"model\",\"name\":\"BootstrapTemplateActions1\",\"properties\":[{\"name\":\"open_modal\",\"kind\":\"Any\",\"default\":0},{\"name\":\"close_modal\",\"kind\":\"Any\",\"default\":0}]},{\"type\":\"model\",\"name\":\"TemplateEditor1\",\"properties\":[{\"name\":\"layout\",\"kind\":\"Any\",\"default\":[]}]},{\"type\":\"model\",\"name\":\"MaterialTemplateActions1\",\"properties\":[{\"name\":\"open_modal\",\"kind\":\"Any\",\"default\":0},{\"name\":\"close_modal\",\"kind\":\"Any\",\"default\":0}]},{\"type\":\"model\",\"name\":\"ReactiveESM1\",\"properties\":[{\"name\":\"esm_constants\",\"kind\":\"Any\",\"default\":{\"type\":\"map\"}}]},{\"type\":\"model\",\"name\":\"JSComponent1\",\"properties\":[{\"name\":\"esm_constants\",\"kind\":\"Any\",\"default\":{\"type\":\"map\"}}]},{\"type\":\"model\",\"name\":\"ReactComponent1\",\"properties\":[{\"name\":\"esm_constants\",\"kind\":\"Any\",\"default\":{\"type\":\"map\"}}]},{\"type\":\"model\",\"name\":\"AnyWidgetComponent1\",\"properties\":[{\"name\":\"esm_constants\",\"kind\":\"Any\",\"default\":{\"type\":\"map\"}}]},{\"type\":\"model\",\"name\":\"request_value1\",\"properties\":[{\"name\":\"fill\",\"kind\":\"Any\",\"default\":\"none\"},{\"name\":\"_synced\",\"kind\":\"Any\",\"default\":null},{\"name\":\"_request_sync\",\"kind\":\"Any\",\"default\":0}]}]}};\n",
       "  var render_items = [{\"docid\":\"67a0a57d-a117-4e7a-8762-bf18d53dd614\",\"roots\":{\"c68f069a-d035-4976-a56a-839a9181c0db\":\"f572bb92-5d43-436f-a700-e131b395a08a\"},\"root_ids\":[\"c68f069a-d035-4976-a56a-839a9181c0db\"]}];\n",
       "  var docs = Object.values(docs_json)\n",
       "  if (!docs) {\n",
       "    return\n",
       "  }\n",
       "  const py_version = docs[0].version.replace('rc', '-rc.').replace('.dev', '-dev.')\n",
       "  async function embed_document(root) {\n",
       "    var Bokeh = get_bokeh(root)\n",
       "    await Bokeh.embed.embed_items_notebook(docs_json, render_items);\n",
       "    for (const render_item of render_items) {\n",
       "      for (const root_id of render_item.root_ids) {\n",
       "\tconst id_el = document.getElementById(root_id)\n",
       "\tif (id_el.children.length && id_el.children[0].hasAttribute('data-root-id')) {\n",
       "\t  const root_el = id_el.children[0]\n",
       "\t  root_el.id = root_el.id + '-rendered'\n",
       "\t  for (const child of root_el.children) {\n",
       "            // Ensure JupyterLab does not capture keyboard shortcuts\n",
       "            // see: https://jupyterlab.readthedocs.io/en/4.1.x/extension/notebook.html#keyboard-interaction-model\n",
       "\t    child.setAttribute('data-lm-suppress-shortcuts', 'true')\n",
       "\t  }\n",
       "\t}\n",
       "      }\n",
       "    }\n",
       "  }\n",
       "  function get_bokeh(root) {\n",
       "    if (root.Bokeh === undefined) {\n",
       "      return null\n",
       "    } else if (root.Bokeh.version !== py_version) {\n",
       "      if (root.Bokeh.versions === undefined || !root.Bokeh.versions.has(py_version)) {\n",
       "\treturn null\n",
       "      }\n",
       "      return root.Bokeh.versions.get(py_version);\n",
       "    } else if (root.Bokeh.version === py_version) {\n",
       "      return root.Bokeh\n",
       "    }\n",
       "    return null\n",
       "  }\n",
       "  function is_loaded(root) {\n",
       "    var Bokeh = get_bokeh(root)\n",
       "    return (Bokeh != null && Bokeh.Panel !== undefined)\n",
       "  }\n",
       "  if (is_loaded(root)) {\n",
       "    embed_document(root);\n",
       "  } else {\n",
       "    var attempts = 0;\n",
       "    var timer = setInterval(function(root) {\n",
       "      if (is_loaded(root)) {\n",
       "        clearInterval(timer);\n",
       "        embed_document(root);\n",
       "      } else if (document.readyState == \"complete\") {\n",
       "        attempts++;\n",
       "        if (attempts > 200) {\n",
       "          clearInterval(timer);\n",
       "\t  var Bokeh = get_bokeh(root)\n",
       "\t  if (Bokeh == null || Bokeh.Panel == null) {\n",
       "            console.warn(\"Panel: ERROR: Unable to run Panel code because Bokeh or Panel library is missing\");\n",
       "\t  } else {\n",
       "\t    console.warn(\"Panel: WARNING: Attempting to render but not all required libraries could be resolved.\")\n",
       "\t    embed_document(root)\n",
       "\t  }\n",
       "        }\n",
       "      }\n",
       "    }, 25, root)\n",
       "  }\n",
       "})(window);</script>"
      ],
      "text/plain": [
       ":Overlay\n",
       "   .Bars.I    :Bars   [post_str_b3]   (percent)\n",
       "   .HLine.I   :HLine   [x,y]\n",
       "   .HLine.II  :HLine   [x,y]\n",
       "   .HLine.III :HLine   [x,y]"
      ]
     },
     "metadata": {
      "application/vnd.holoviews_exec.v0+json": {
       "id": "c68f069a-d035-4976-a56a-839a9181c0db"
      }
     },
     "output_type": "display_data"
    },
    {
     "name": "stdout",
     "output_type": "stream",
     "text": [
      "df_10_last FOR str_b3 = 09\n",
      "Last 3 results last_results=['24', '34', '13']\n"
     ]
    },
    {
     "data": {
      "text/html": [
       "<div><style>\n",
       ".dataframe > thead > tr,\n",
       ".dataframe > tbody > tr {\n",
       "  text-align: right;\n",
       "  white-space: pre-wrap;\n",
       "}\n",
       "</style>\n",
       "<small>shape: (10, 30)</small><table border=\"1\" class=\"dataframe\"><thead><tr><th>fecha</th><th>sorteo</th><th>bolillas</th><th>yapa</th><th>adicionales</th><th>sorteo_extra</th><th>id</th><th>combo</th><th>b1</th><th>b2</th><th>b3</th><th>b4</th><th>b5</th><th>b6</th><th>str_b1</th><th>str_b2</th><th>str_b3</th><th>str_b4</th><th>str_b5</th><th>str_b6</th><th>post_str_b1</th><th>post_str_b2</th><th>post_str_b3</th><th>post_str_b4</th><th>post_str_b5</th><th>post_str_blast</th><th>is_rare_combination</th><th>reason</th><th>jumps_map</th><th>unijump</th></tr><tr><td>str</td><td>str</td><td>str</td><td>str</td><td>str</td><td>str</td><td>str</td><td>array[u8, 6]</td><td>u8</td><td>u8</td><td>u8</td><td>u8</td><td>u8</td><td>u8</td><td>str</td><td>str</td><td>str</td><td>str</td><td>str</td><td>str</td><td>str</td><td>str</td><td>str</td><td>str</td><td>str</td><td>str</td><td>bool</td><td>u8</td><td>str</td><td>i64</td></tr></thead><tbody><tr><td>&quot;26/06/2024&quot;</td><td>&quot;1102&quot;</td><td>&quot;43 06 14 01 09 11&quot;</td><td>&quot;30&quot;</td><td>&quot;17 42 45 20&quot;</td><td>&quot;Promoción Sí o Sí&quot;</td><td>&quot;010609111443&quot;</td><td>[1, 6, … 43]</td><td>1</td><td>6</td><td>9</td><td>11</td><td>14</td><td>43</td><td>&quot;01&quot;</td><td>&quot;06&quot;</td><td>&quot;09&quot;</td><td>&quot;11&quot;</td><td>&quot;14&quot;</td><td>&quot;43&quot;</td><td>&quot;13&quot;</td><td>&quot;15&quot;</td><td>&quot;34&quot;</td><td>&quot;38&quot;</td><td>&quot;42&quot;</td><td>&quot;48&quot;</td><td>true</td><td>16</td><td>&quot;05_03_02_03_29&quot;</td><td>22</td></tr><tr><td>&quot;30/11/2022&quot;</td><td>&quot;0938&quot;</td><td>&quot;33 41 09 01 05 17&quot;</td><td>&quot;35&quot;</td><td>&quot;02 13 36&quot;</td><td>&quot;Promoción Sí o Sí&quot;</td><td>&quot;010509173341&quot;</td><td>[1, 5, … 41]</td><td>1</td><td>5</td><td>9</td><td>17</td><td>33</td><td>41</td><td>&quot;01&quot;</td><td>&quot;05&quot;</td><td>&quot;09&quot;</td><td>&quot;17&quot;</td><td>&quot;33&quot;</td><td>&quot;41&quot;</td><td>&quot;05&quot;</td><td>&quot;14&quot;</td><td>&quot;24&quot;</td><td>&quot;27&quot;</td><td>&quot;33&quot;</td><td>&quot;40&quot;</td><td>true</td><td>26</td><td>&quot;04_04_08_16_08&quot;</td><td>-20</td></tr><tr><td>&quot;05/12/2021&quot;</td><td>&quot;0835&quot;</td><td>&quot;01 06 16 29 17 09&quot;</td><td>&quot;41&quot;</td><td>&quot;44 04&quot;</td><td>&quot;Promoción Sí o Sí&quot;</td><td>&quot;010609161729&quot;</td><td>[1, 6, … 29]</td><td>1</td><td>6</td><td>9</td><td>16</td><td>17</td><td>29</td><td>&quot;01&quot;</td><td>&quot;06&quot;</td><td>&quot;09&quot;</td><td>&quot;16&quot;</td><td>&quot;17&quot;</td><td>&quot;29&quot;</td><td>&quot;01&quot;</td><td>&quot;10&quot;</td><td>&quot;13&quot;</td><td>&quot;16&quot;</td><td>&quot;19&quot;</td><td>&quot;42&quot;</td><td>true</td><td>16</td><td>&quot;05_03_07_01_12&quot;</td><td>43</td></tr><tr><td>&quot;31/03/2021&quot;</td><td>&quot;0764&quot;</td><td>&quot;09 10 05 01 16 39&quot;</td><td>&quot;36&quot;</td><td>&quot;&quot;</td><td>&quot;&quot;</td><td>&quot;010509101639&quot;</td><td>[1, 5, … 39]</td><td>1</td><td>5</td><td>9</td><td>10</td><td>16</td><td>39</td><td>&quot;01&quot;</td><td>&quot;05&quot;</td><td>&quot;09&quot;</td><td>&quot;10&quot;</td><td>&quot;16&quot;</td><td>&quot;39&quot;</td><td>&quot;04&quot;</td><td>&quot;15&quot;</td><td>&quot;17&quot;</td><td>&quot;26&quot;</td><td>&quot;31&quot;</td><td>&quot;41&quot;</td><td>true</td><td>24</td><td>&quot;04_04_01_06_23&quot;</td><td>-7</td></tr><tr><td>&quot;01/03/2020&quot;</td><td>&quot;0684&quot;</td><td>&quot;08 06 27 09 33 26&quot;</td><td>&quot;17&quot;</td><td>&quot;&quot;</td><td>&quot;&quot;</td><td>&quot;060809262733&quot;</td><td>[6, 8, … 33]</td><td>6</td><td>8</td><td>9</td><td>26</td><td>27</td><td>33</td><td>&quot;06&quot;</td><td>&quot;08&quot;</td><td>&quot;09&quot;</td><td>&quot;26&quot;</td><td>&quot;27&quot;</td><td>&quot;33&quot;</td><td>&quot;09&quot;</td><td>&quot;12&quot;</td><td>&quot;19&quot;</td><td>&quot;21&quot;</td><td>&quot;30&quot;</td><td>&quot;43&quot;</td><td>true</td><td>16</td><td>&quot;02_01_17_01_06&quot;</td><td>102</td></tr><tr><td>&quot;19/01/2020&quot;</td><td>&quot;0672&quot;</td><td>&quot;06 02 12 18 23 09&quot;</td><td>&quot;01&quot;</td><td>&quot;&quot;</td><td>&quot;&quot;</td><td>&quot;020609121823&quot;</td><td>[2, 6, … 23]</td><td>2</td><td>6</td><td>9</td><td>12</td><td>18</td><td>23</td><td>&quot;02&quot;</td><td>&quot;06&quot;</td><td>&quot;09&quot;</td><td>&quot;12&quot;</td><td>&quot;18&quot;</td><td>&quot;23&quot;</td><td>&quot;05&quot;</td><td>&quot;11&quot;</td><td>&quot;34&quot;</td><td>&quot;35&quot;</td><td>&quot;40&quot;</td><td>&quot;42&quot;</td><td>true</td><td>8</td><td>&quot;04_03_03_06_05&quot;</td><td>-9</td></tr><tr><td>&quot;19/12/2018&quot;</td><td>&quot;0559&quot;</td><td>&quot;09 03 23 40 33 05&quot;</td><td>&quot;08&quot;</td><td>&quot;&quot;</td><td>&quot;&quot;</td><td>&quot;030509233340&quot;</td><td>[3, 5, … 40]</td><td>3</td><td>5</td><td>9</td><td>23</td><td>33</td><td>40</td><td>&quot;03&quot;</td><td>&quot;05&quot;</td><td>&quot;09&quot;</td><td>&quot;23&quot;</td><td>&quot;33&quot;</td><td>&quot;40&quot;</td><td>&quot;02&quot;</td><td>&quot;12&quot;</td><td>&quot;16&quot;</td><td>&quot;21&quot;</td><td>&quot;35&quot;</td><td>&quot;45&quot;</td><td>true</td><td>16</td><td>&quot;02_04_14_10_07&quot;</td><td>37</td></tr><tr><td>&quot;08/10/2017&quot;</td><td>&quot;0434&quot;</td><td>&quot;26 05 24 35 09 06&quot;</td><td>&quot;32&quot;</td><td>&quot;&quot;</td><td>&quot;&quot;</td><td>&quot;050609242635&quot;</td><td>[5, 6, … 35]</td><td>5</td><td>6</td><td>9</td><td>24</td><td>26</td><td>35</td><td>&quot;05&quot;</td><td>&quot;06&quot;</td><td>&quot;09&quot;</td><td>&quot;24&quot;</td><td>&quot;26&quot;</td><td>&quot;35&quot;</td><td>&quot;13&quot;</td><td>&quot;19&quot;</td><td>&quot;25&quot;</td><td>&quot;30&quot;</td><td>&quot;40&quot;</td><td>&quot;44&quot;</td><td>true</td><td>16</td><td>&quot;01_03_15_02_09&quot;</td><td>80</td></tr><tr><td>&quot;03/09/2017&quot;</td><td>&quot;0424&quot;</td><td>&quot;31 09 43 01 03 44&quot;</td><td>&quot;06&quot;</td><td>&quot;&quot;</td><td>&quot;&quot;</td><td>&quot;010309314344&quot;</td><td>[1, 3, … 44]</td><td>1</td><td>3</td><td>9</td><td>31</td><td>43</td><td>44</td><td>&quot;01&quot;</td><td>&quot;03&quot;</td><td>&quot;09&quot;</td><td>&quot;31&quot;</td><td>&quot;43&quot;</td><td>&quot;44&quot;</td><td>&quot;09&quot;</td><td>&quot;13&quot;</td><td>&quot;17&quot;</td><td>&quot;21&quot;</td><td>&quot;36&quot;</td><td>&quot;37&quot;</td><td>true</td><td>16</td><td>&quot;02_06_22_12_01&quot;</td><td>63</td></tr><tr><td>&quot;11/06/2017&quot;</td><td>&quot;0400&quot;</td><td>&quot;41 03 28 01 13 09&quot;</td><td>&quot;37&quot;</td><td>&quot;&quot;</td><td>&quot;&quot;</td><td>&quot;010309132841&quot;</td><td>[1, 3, … 41]</td><td>1</td><td>3</td><td>9</td><td>13</td><td>28</td><td>41</td><td>&quot;01&quot;</td><td>&quot;03&quot;</td><td>&quot;09&quot;</td><td>&quot;13&quot;</td><td>&quot;28&quot;</td><td>&quot;41&quot;</td><td>&quot;02&quot;</td><td>&quot;03&quot;</td><td>&quot;05&quot;</td><td>&quot;13&quot;</td><td>&quot;35&quot;</td><td>&quot;39&quot;</td><td>false</td><td>0</td><td>&quot;02_06_04_15_13&quot;</td><td>-45</td></tr></tbody></table></div>"
      ],
      "text/plain": [
       "shape: (10, 30)\n",
       "┌────────────┬────────┬───────────────┬──────┬───┬───────────────┬────────┬──────────────┬─────────┐\n",
       "│ fecha      ┆ sorteo ┆ bolillas      ┆ yapa ┆ … ┆ is_rare_combi ┆ reason ┆ jumps_map    ┆ unijump │\n",
       "│ ---        ┆ ---    ┆ ---           ┆ ---  ┆   ┆ nation        ┆ ---    ┆ ---          ┆ ---     │\n",
       "│ str        ┆ str    ┆ str           ┆ str  ┆   ┆ ---           ┆ u8     ┆ str          ┆ i64     │\n",
       "│            ┆        ┆               ┆      ┆   ┆ bool          ┆        ┆              ┆         │\n",
       "╞════════════╪════════╪═══════════════╪══════╪═══╪═══════════════╪════════╪══════════════╪═════════╡\n",
       "│ 26/06/2024 ┆ 1102   ┆ 43 06 14 01   ┆ 30   ┆ … ┆ true          ┆ 16     ┆ 05_03_02_03_ ┆ 22      │\n",
       "│            ┆        ┆ 09 11         ┆      ┆   ┆               ┆        ┆ 29           ┆         │\n",
       "│ 30/11/2022 ┆ 0938   ┆ 33 41 09 01   ┆ 35   ┆ … ┆ true          ┆ 26     ┆ 04_04_08_16_ ┆ -20     │\n",
       "│            ┆        ┆ 05 17         ┆      ┆   ┆               ┆        ┆ 08           ┆         │\n",
       "│ 05/12/2021 ┆ 0835   ┆ 01 06 16 29   ┆ 41   ┆ … ┆ true          ┆ 16     ┆ 05_03_07_01_ ┆ 43      │\n",
       "│            ┆        ┆ 17 09         ┆      ┆   ┆               ┆        ┆ 12           ┆         │\n",
       "│ 31/03/2021 ┆ 0764   ┆ 09 10 05 01   ┆ 36   ┆ … ┆ true          ┆ 24     ┆ 04_04_01_06_ ┆ -7      │\n",
       "│            ┆        ┆ 16 39         ┆      ┆   ┆               ┆        ┆ 23           ┆         │\n",
       "│ 01/03/2020 ┆ 0684   ┆ 08 06 27 09   ┆ 17   ┆ … ┆ true          ┆ 16     ┆ 02_01_17_01_ ┆ 102     │\n",
       "│            ┆        ┆ 33 26         ┆      ┆   ┆               ┆        ┆ 06           ┆         │\n",
       "│ 19/01/2020 ┆ 0672   ┆ 06 02 12 18   ┆ 01   ┆ … ┆ true          ┆ 8      ┆ 04_03_03_06_ ┆ -9      │\n",
       "│            ┆        ┆ 23 09         ┆      ┆   ┆               ┆        ┆ 05           ┆         │\n",
       "│ 19/12/2018 ┆ 0559   ┆ 09 03 23 40   ┆ 08   ┆ … ┆ true          ┆ 16     ┆ 02_04_14_10_ ┆ 37      │\n",
       "│            ┆        ┆ 33 05         ┆      ┆   ┆               ┆        ┆ 07           ┆         │\n",
       "│ 08/10/2017 ┆ 0434   ┆ 26 05 24 35   ┆ 32   ┆ … ┆ true          ┆ 16     ┆ 01_03_15_02_ ┆ 80      │\n",
       "│            ┆        ┆ 09 06         ┆      ┆   ┆               ┆        ┆ 09           ┆         │\n",
       "│ 03/09/2017 ┆ 0424   ┆ 31 09 43 01   ┆ 06   ┆ … ┆ true          ┆ 16     ┆ 02_06_22_12_ ┆ 63      │\n",
       "│            ┆        ┆ 03 44         ┆      ┆   ┆               ┆        ┆ 01           ┆         │\n",
       "│ 11/06/2017 ┆ 0400   ┆ 41 03 28 01   ┆ 37   ┆ … ┆ false         ┆ 0      ┆ 02_06_04_15_ ┆ -45     │\n",
       "│            ┆        ┆ 13 09         ┆      ┆   ┆               ┆        ┆ 13           ┆         │\n",
       "└────────────┴────────┴───────────────┴──────┴───┴───────────────┴────────┴──────────────┴─────────┘"
      ]
     },
     "metadata": {},
     "output_type": "display_data"
    },
    {
     "name": "stdout",
     "output_type": "stream",
     "text": [
      "df_jumps_map FOR str_b3 = 09\n"
     ]
    },
    {
     "data": {
      "text/html": [
       "<div><style>\n",
       ".dataframe > thead > tr,\n",
       ".dataframe > tbody > tr {\n",
       "  text-align: right;\n",
       "  white-space: pre-wrap;\n",
       "}\n",
       "</style>\n",
       "<small>shape: (42, 2)</small><table border=\"1\" class=\"dataframe\"><thead><tr><th>jumps_map</th><th>count</th></tr><tr><td>str</td><td>u32</td></tr></thead><tbody><tr><td>&quot;02_04_14_10_07&quot;</td><td>1</td></tr><tr><td>&quot;04_03_05_20_08&quot;</td><td>1</td></tr><tr><td>&quot;02_06_22_12_01&quot;</td><td>1</td></tr><tr><td>&quot;02_02_14_16_01&quot;</td><td>1</td></tr><tr><td>&quot;03_03_01_02_13&quot;</td><td>1</td></tr><tr><td>&hellip;</td><td>&hellip;</td></tr><tr><td>&quot;01_04_21_01_01&quot;</td><td>1</td></tr><tr><td>&quot;02_02_05_04_08&quot;</td><td>1</td></tr><tr><td>&quot;03_01_12_04_07&quot;</td><td>1</td></tr><tr><td>&quot;01_07_14_07_13&quot;</td><td>1</td></tr><tr><td>&quot;04_01_03_05_01&quot;</td><td>1</td></tr></tbody></table></div>"
      ],
      "text/plain": [
       "shape: (42, 2)\n",
       "┌────────────────┬───────┐\n",
       "│ jumps_map      ┆ count │\n",
       "│ ---            ┆ ---   │\n",
       "│ str            ┆ u32   │\n",
       "╞════════════════╪═══════╡\n",
       "│ 02_04_14_10_07 ┆ 1     │\n",
       "│ 04_03_05_20_08 ┆ 1     │\n",
       "│ 02_06_22_12_01 ┆ 1     │\n",
       "│ 02_02_14_16_01 ┆ 1     │\n",
       "│ 03_03_01_02_13 ┆ 1     │\n",
       "│ …              ┆ …     │\n",
       "│ 01_04_21_01_01 ┆ 1     │\n",
       "│ 02_02_05_04_08 ┆ 1     │\n",
       "│ 03_01_12_04_07 ┆ 1     │\n",
       "│ 01_07_14_07_13 ┆ 1     │\n",
       "│ 04_01_03_05_01 ┆ 1     │\n",
       "└────────────────┴───────┘"
      ]
     },
     "metadata": {},
     "output_type": "display_data"
    },
    {
     "name": "stdout",
     "output_type": "stream",
     "text": [
      "df_unijump FOR str_b3 = 09\n"
     ]
    },
    {
     "data": {
      "text/html": [
       "<div><style>\n",
       ".dataframe > thead > tr,\n",
       ".dataframe > tbody > tr {\n",
       "  text-align: right;\n",
       "  white-space: pre-wrap;\n",
       "}\n",
       "</style>\n",
       "<small>shape: (40, 2)</small><table border=\"1\" class=\"dataframe\"><thead><tr><th>unijump</th><th>count</th></tr><tr><td>i64</td><td>u32</td></tr></thead><tbody><tr><td>15</td><td>2</td></tr><tr><td>-13</td><td>2</td></tr><tr><td>61</td><td>1</td></tr><tr><td>42</td><td>1</td></tr><tr><td>32</td><td>1</td></tr><tr><td>&hellip;</td><td>&hellip;</td></tr><tr><td>102</td><td>1</td></tr><tr><td>34</td><td>1</td></tr><tr><td>43</td><td>1</td></tr><tr><td>22</td><td>1</td></tr><tr><td>-3</td><td>1</td></tr></tbody></table></div>"
      ],
      "text/plain": [
       "shape: (40, 2)\n",
       "┌─────────┬───────┐\n",
       "│ unijump ┆ count │\n",
       "│ ---     ┆ ---   │\n",
       "│ i64     ┆ u32   │\n",
       "╞═════════╪═══════╡\n",
       "│ 15      ┆ 2     │\n",
       "│ -13     ┆ 2     │\n",
       "│ 61      ┆ 1     │\n",
       "│ 42      ┆ 1     │\n",
       "│ 32      ┆ 1     │\n",
       "│ …       ┆ …     │\n",
       "│ 102     ┆ 1     │\n",
       "│ 34      ┆ 1     │\n",
       "│ 43      ┆ 1     │\n",
       "│ 22      ┆ 1     │\n",
       "│ -3      ┆ 1     │\n",
       "└─────────┴───────┘"
      ]
     },
     "metadata": {},
     "output_type": "display_data"
    }
   ],
   "source": [
    "possible_b3, exclude_jump_maps_b3, last_post_b3 = plot_post_col(col='str_b3', post_col='post_str_b3')"
   ]
  },
  {
   "cell_type": "code",
   "execution_count": 51,
   "metadata": {},
   "outputs": [
    {
     "name": "stdout",
     "output_type": "stream",
     "text": [
      "Setting test_value='12'\n",
      "df_viz FOR str_b4 = 12\n"
     ]
    },
    {
     "data": {
      "text/html": [
       "<div><style>\n",
       ".dataframe > thead > tr,\n",
       ".dataframe > tbody > tr {\n",
       "  text-align: right;\n",
       "  white-space: pre-wrap;\n",
       "}\n",
       "</style>\n",
       "<small>shape: (18, 3)</small><table border=\"1\" class=\"dataframe\"><thead><tr><th>post_str_b4</th><th>count</th><th>percent</th></tr><tr><td>str</td><td>u32</td><td>f64</td></tr></thead><tbody><tr><td>&quot;19&quot;</td><td>4</td><td>11.764706</td></tr><tr><td>&quot;35&quot;</td><td>4</td><td>11.764706</td></tr><tr><td>&quot;30&quot;</td><td>3</td><td>8.823529</td></tr><tr><td>&quot;27&quot;</td><td>3</td><td>8.823529</td></tr><tr><td>&quot;20&quot;</td><td>3</td><td>8.823529</td></tr><tr><td>&hellip;</td><td>&hellip;</td><td>&hellip;</td></tr><tr><td>&quot;22&quot;</td><td>1</td><td>2.941176</td></tr><tr><td>&quot;31&quot;</td><td>1</td><td>2.941176</td></tr><tr><td>&quot;29&quot;</td><td>1</td><td>2.941176</td></tr><tr><td>&quot;28&quot;</td><td>1</td><td>2.941176</td></tr><tr><td>&quot;32&quot;</td><td>1</td><td>2.941176</td></tr></tbody></table></div>"
      ],
      "text/plain": [
       "shape: (18, 3)\n",
       "┌─────────────┬───────┬───────────┐\n",
       "│ post_str_b4 ┆ count ┆ percent   │\n",
       "│ ---         ┆ ---   ┆ ---       │\n",
       "│ str         ┆ u32   ┆ f64       │\n",
       "╞═════════════╪═══════╪═══════════╡\n",
       "│ 19          ┆ 4     ┆ 11.764706 │\n",
       "│ 35          ┆ 4     ┆ 11.764706 │\n",
       "│ 30          ┆ 3     ┆ 8.823529  │\n",
       "│ 27          ┆ 3     ┆ 8.823529  │\n",
       "│ 20          ┆ 3     ┆ 8.823529  │\n",
       "│ …           ┆ …     ┆ …         │\n",
       "│ 22          ┆ 1     ┆ 2.941176  │\n",
       "│ 31          ┆ 1     ┆ 2.941176  │\n",
       "│ 29          ┆ 1     ┆ 2.941176  │\n",
       "│ 28          ┆ 1     ┆ 2.941176  │\n",
       "│ 32          ┆ 1     ┆ 2.941176  │\n",
       "└─────────────┴───────┴───────────┘"
      ]
     },
     "metadata": {},
     "output_type": "display_data"
    },
    {
     "data": {},
     "metadata": {},
     "output_type": "display_data"
    },
    {
     "data": {
      "application/vnd.holoviews_exec.v0+json": "",
      "text/html": [
       "<div id='9f2a5f5b-e3ab-4036-91a2-6119ae087381'>\n",
       "  <div id=\"d155b6ba-f071-4c90-83d4-342aba207fde\" data-root-id=\"9f2a5f5b-e3ab-4036-91a2-6119ae087381\" style=\"display: contents;\"></div>\n",
       "</div>\n",
       "<script type=\"application/javascript\">(function(root) {\n",
       "  var docs_json = {\"be770afe-5daa-4aad-9f97-9dba6bc984d5\":{\"version\":\"3.7.2\",\"title\":\"Bokeh Application\",\"roots\":[{\"type\":\"object\",\"name\":\"Row\",\"id\":\"9f2a5f5b-e3ab-4036-91a2-6119ae087381\",\"attributes\":{\"name\":\"Row01428\",\"tags\":[\"embedded\"],\"stylesheets\":[\"\\n:host(.pn-loading):before, .pn-loading:before {\\n  background-color: #c3c3c3;\\n  mask-size: auto calc(min(50%, 400px));\\n  -webkit-mask-size: auto calc(min(50%, 400px));\\n}\",{\"type\":\"object\",\"name\":\"ImportedStyleSheet\",\"id\":\"a09cb1b1-4234-44bf-90e9-4a6e41f65bab\",\"attributes\":{\"url\":\"https://cdn.holoviz.org/panel/1.6.2/dist/css/loading.css\"}},{\"type\":\"object\",\"name\":\"ImportedStyleSheet\",\"id\":\"eeb80682-a973-4dbe-ba7b-73246c1d5fbc\",\"attributes\":{\"url\":\"https://cdn.holoviz.org/panel/1.6.2/dist/css/listpanel.css\"}},{\"type\":\"object\",\"name\":\"ImportedStyleSheet\",\"id\":\"9656484c-d42a-438f-be6c-904ed7f1914e\",\"attributes\":{\"url\":\"https://cdn.holoviz.org/panel/1.6.2/dist/bundled/theme/default.css\"}},{\"type\":\"object\",\"name\":\"ImportedStyleSheet\",\"id\":\"7e4b6715-0d75-4bdf-aad1-d92dc2f54ac7\",\"attributes\":{\"url\":\"https://cdn.holoviz.org/panel/1.6.2/dist/bundled/theme/native.css\"}}],\"min_width\":700,\"margin\":0,\"sizing_mode\":\"stretch_width\",\"align\":\"start\",\"children\":[{\"type\":\"object\",\"name\":\"Spacer\",\"id\":\"e4a78867-8b57-4cdb-944b-e43cac2482fe\",\"attributes\":{\"name\":\"HSpacer01432\",\"stylesheets\":[\"\\n:host(.pn-loading):before, .pn-loading:before {\\n  background-color: #c3c3c3;\\n  mask-size: auto calc(min(50%, 400px));\\n  -webkit-mask-size: auto calc(min(50%, 400px));\\n}\",{\"id\":\"a09cb1b1-4234-44bf-90e9-4a6e41f65bab\"},{\"id\":\"9656484c-d42a-438f-be6c-904ed7f1914e\"},{\"id\":\"7e4b6715-0d75-4bdf-aad1-d92dc2f54ac7\"}],\"margin\":0,\"sizing_mode\":\"stretch_width\",\"align\":\"start\"}},{\"type\":\"object\",\"name\":\"Figure\",\"id\":\"81326f63-d36c-4c72-aaf2-c6f1f798e7a9\",\"attributes\":{\"width\":700,\"height\":300,\"margin\":[5,10],\"sizing_mode\":\"fixed\",\"align\":\"start\",\"x_range\":{\"type\":\"object\",\"name\":\"FactorRange\",\"id\":\"92ddb614-2232-4fbb-a0d6-c117a6c1640a\",\"attributes\":{\"name\":\"post_str_b4\",\"tags\":[[[\"post_str_b4\",null]],[]],\"factors\":[\"19\",\"35\",\"30\",\"27\",\"20\",\"16\",\"24\",\"42\",\"25\",\"33\",\"23\",\"36\",\"17\",\"22\",\"31\",\"29\",\"28\",\"32\"]}},\"y_range\":{\"type\":\"object\",\"name\":\"Range1d\",\"id\":\"eee7b7b2-9fce-4599-b929-b81ba2500bd9\",\"attributes\":{\"name\":\"percent\",\"tags\":[[[\"percent\",null]],{\"type\":\"map\",\"entries\":[[\"invert_yaxis\",false],[\"autorange\",false]]}],\"end\":12.647058823529411,\"reset_start\":0.0,\"reset_end\":12.647058823529411}},\"x_scale\":{\"type\":\"object\",\"name\":\"CategoricalScale\",\"id\":\"fb27b16f-4f03-4159-a32a-cf2405d77943\"},\"y_scale\":{\"type\":\"object\",\"name\":\"LinearScale\",\"id\":\"95537068-a2bf-453b-9574-723ef778feda\"},\"title\":{\"type\":\"object\",\"name\":\"Title\",\"id\":\"93159656-df39-4df1-93fc-6b6261865242\",\"attributes\":{\"text_color\":\"black\",\"text_font_size\":\"12pt\"}},\"renderers\":[{\"type\":\"object\",\"name\":\"GlyphRenderer\",\"id\":\"74bba29f-796e-4309-8f6e-0dde7d16a65b\",\"attributes\":{\"data_source\":{\"type\":\"object\",\"name\":\"ColumnDataSource\",\"id\":\"79fa197d-487b-4d70-925d-8e0d8873267e\",\"attributes\":{\"selected\":{\"type\":\"object\",\"name\":\"Selection\",\"id\":\"9587ba5e-a2c6-4133-af55-2280b1adf756\",\"attributes\":{\"indices\":[],\"line_indices\":[]}},\"selection_policy\":{\"type\":\"object\",\"name\":\"UnionRenderers\",\"id\":\"b11dad7a-90dc-4902-b9b7-4acb52374feb\"},\"data\":{\"type\":\"map\",\"entries\":[[\"post_str_b4\",[\"19\",\"35\",\"30\",\"27\",\"20\",\"16\",\"24\",\"42\",\"25\",\"33\",\"23\",\"36\",\"17\",\"22\",\"31\",\"29\",\"28\",\"32\"]],[\"percent\",{\"type\":\"ndarray\",\"array\":{\"type\":\"bytes\",\"data\":\"h4eHh4eHJ0CHh4eHh4cnQKWlpaWlpSFApaWlpaWlIUClpaWlpaUhQIeHh4eHhxdAh4eHh4eHF0CHh4eHh4cXQIeHh4eHhxdAh4eHh4eHB0CHh4eHh4cHQIeHh4eHhwdAh4eHh4eHB0CHh4eHh4cHQIeHh4eHhwdAh4eHh4eHB0CHh4eHh4cHQIeHh4eHhwdA\"},\"shape\":[18],\"dtype\":\"float64\",\"order\":\"little\"}]]}}},\"view\":{\"type\":\"object\",\"name\":\"CDSView\",\"id\":\"a4ebb094-e1dc-427c-a354-2a4b5e06a479\",\"attributes\":{\"filter\":{\"type\":\"object\",\"name\":\"AllIndices\",\"id\":\"d319d8c1-e8c6-480b-b687-256133b62c25\"}}},\"glyph\":{\"type\":\"object\",\"name\":\"VBar\",\"id\":\"bb5fb97e-f327-409a-8bf2-4df32cc38358\",\"attributes\":{\"tags\":[\"apply_ranges\"],\"x\":{\"type\":\"field\",\"field\":\"post_str_b4\"},\"width\":{\"type\":\"value\",\"value\":0.8},\"top\":{\"type\":\"field\",\"field\":\"percent\"},\"fill_color\":{\"type\":\"value\",\"value\":\"#30a2da\"},\"hatch_color\":{\"type\":\"value\",\"value\":\"#30a2da\"}}},\"selection_glyph\":{\"type\":\"object\",\"name\":\"VBar\",\"id\":\"98bfc128-8a4f-4179-963c-3a1ddf63c53d\",\"attributes\":{\"tags\":[\"apply_ranges\"],\"x\":{\"type\":\"field\",\"field\":\"post_str_b4\"},\"width\":{\"type\":\"value\",\"value\":0.8},\"bottom\":{\"type\":\"value\",\"value\":0},\"top\":{\"type\":\"field\",\"field\":\"percent\"},\"line_color\":{\"type\":\"value\",\"value\":\"black\"},\"line_alpha\":{\"type\":\"value\",\"value\":1.0},\"line_width\":{\"type\":\"value\",\"value\":1},\"line_join\":{\"type\":\"value\",\"value\":\"bevel\"},\"line_cap\":{\"type\":\"value\",\"value\":\"butt\"},\"line_dash\":{\"type\":\"value\",\"value\":[]},\"line_dash_offset\":{\"type\":\"value\",\"value\":0},\"fill_color\":{\"type\":\"value\",\"value\":\"#30a2da\"},\"fill_alpha\":{\"type\":\"value\",\"value\":1.0},\"hatch_color\":{\"type\":\"value\",\"value\":\"#30a2da\"},\"hatch_alpha\":{\"type\":\"value\",\"value\":1.0},\"hatch_scale\":{\"type\":\"value\",\"value\":12.0},\"hatch_pattern\":{\"type\":\"value\",\"value\":null},\"hatch_weight\":{\"type\":\"value\",\"value\":1.0}}},\"nonselection_glyph\":{\"type\":\"object\",\"name\":\"VBar\",\"id\":\"61b1f9ae-1fcb-4ffd-b4d7-aaa786fa27c3\",\"attributes\":{\"tags\":[\"apply_ranges\"],\"x\":{\"type\":\"field\",\"field\":\"post_str_b4\"},\"width\":{\"type\":\"value\",\"value\":0.8},\"top\":{\"type\":\"field\",\"field\":\"percent\"},\"line_alpha\":{\"type\":\"value\",\"value\":0.1},\"fill_color\":{\"type\":\"value\",\"value\":\"#30a2da\"},\"fill_alpha\":{\"type\":\"value\",\"value\":0.1},\"hatch_color\":{\"type\":\"value\",\"value\":\"#30a2da\"},\"hatch_alpha\":{\"type\":\"value\",\"value\":0.1}}},\"muted_glyph\":{\"type\":\"object\",\"name\":\"VBar\",\"id\":\"1bfce6e8-cf8c-40b6-bca8-269b48f99760\",\"attributes\":{\"tags\":[\"apply_ranges\"],\"x\":{\"type\":\"field\",\"field\":\"post_str_b4\"},\"width\":{\"type\":\"value\",\"value\":0.8},\"top\":{\"type\":\"field\",\"field\":\"percent\"},\"line_alpha\":{\"type\":\"value\",\"value\":0.2},\"fill_color\":{\"type\":\"value\",\"value\":\"#30a2da\"},\"fill_alpha\":{\"type\":\"value\",\"value\":0.2},\"hatch_color\":{\"type\":\"value\",\"value\":\"#30a2da\"},\"hatch_alpha\":{\"type\":\"value\",\"value\":0.2}}}}},{\"type\":\"object\",\"name\":\"Span\",\"id\":\"4956765f-3554-46be-b36e-2604539a6c95\",\"attributes\":{\"level\":\"glyph\",\"location\":5.555555555555554,\"line_color\":\"red\",\"line_width\":3}},{\"type\":\"object\",\"name\":\"Span\",\"id\":\"ac2a767d-7baf-4713-9e1e-e380295fdb75\",\"attributes\":{\"level\":\"glyph\",\"location\":8.33333333333333,\"line_color\":\"blue\",\"line_width\":3}},{\"type\":\"object\",\"name\":\"Span\",\"id\":\"2db283d9-b362-4421-9ad0-e4eb46d7ac20\",\"attributes\":{\"level\":\"glyph\",\"location\":2.777777777777777,\"line_color\":\"blue\",\"line_width\":3}}],\"toolbar\":{\"type\":\"object\",\"name\":\"Toolbar\",\"id\":\"fa29dbf7-8e1e-4dd1-bfcf-4ed2a5d2f07f\",\"attributes\":{\"tools\":[{\"type\":\"object\",\"name\":\"WheelZoomTool\",\"id\":\"f779f75c-5dfb-4be6-ae3b-78e8cc1f5db6\",\"attributes\":{\"tags\":[\"hv_created\"],\"renderers\":\"auto\",\"zoom_together\":\"none\"}},{\"type\":\"object\",\"name\":\"HoverTool\",\"id\":\"57e65d6f-87bb-4c9b-9781-ef27fcbab3bf\",\"attributes\":{\"tags\":[\"hv_created\"],\"renderers\":[{\"id\":\"74bba29f-796e-4309-8f6e-0dde7d16a65b\"}],\"tooltips\":[[\"post_str_b4\",\"@{post_str_b4}\"],[\"percent\",\"@{percent}\"]]}},{\"type\":\"object\",\"name\":\"SaveTool\",\"id\":\"a3cda1cc-bbbe-4ed4-875c-a283daa47797\"},{\"type\":\"object\",\"name\":\"PanTool\",\"id\":\"baca091e-45c0-4ed2-bf1c-6b2add5e50f3\"},{\"type\":\"object\",\"name\":\"BoxZoomTool\",\"id\":\"a2fbc6f1-8080-4491-bd6b-f588eb146d78\",\"attributes\":{\"dimensions\":\"both\",\"overlay\":{\"type\":\"object\",\"name\":\"BoxAnnotation\",\"id\":\"99df60cc-e671-4dc1-b526-4ef9d142b8e3\",\"attributes\":{\"syncable\":false,\"line_color\":\"black\",\"line_alpha\":1.0,\"line_width\":2,\"line_dash\":[4,4],\"fill_color\":\"lightgrey\",\"fill_alpha\":0.5,\"level\":\"overlay\",\"visible\":false,\"left\":{\"type\":\"number\",\"value\":\"nan\"},\"right\":{\"type\":\"number\",\"value\":\"nan\"},\"top\":{\"type\":\"number\",\"value\":\"nan\"},\"bottom\":{\"type\":\"number\",\"value\":\"nan\"},\"left_units\":\"canvas\",\"right_units\":\"canvas\",\"top_units\":\"canvas\",\"bottom_units\":\"canvas\",\"handles\":{\"type\":\"object\",\"name\":\"BoxInteractionHandles\",\"id\":\"ddcc7f4f-a0d7-4699-a07d-6d06b78f67ae\",\"attributes\":{\"all\":{\"type\":\"object\",\"name\":\"AreaVisuals\",\"id\":\"12850392-897e-4dba-8286-d0f0a15d52ca\",\"attributes\":{\"fill_color\":\"white\",\"hover_fill_color\":\"lightgray\"}}}}}}}},{\"type\":\"object\",\"name\":\"ResetTool\",\"id\":\"8daa9b13-c36f-4f34-bfe0-ab30ac96940f\"}],\"active_drag\":{\"id\":\"baca091e-45c0-4ed2-bf1c-6b2add5e50f3\"}}},\"left\":[{\"type\":\"object\",\"name\":\"LinearAxis\",\"id\":\"2363af6c-3fa8-4c87-99c8-a04399f0392a\",\"attributes\":{\"ticker\":{\"type\":\"object\",\"name\":\"BasicTicker\",\"id\":\"6f7b49a9-dc85-432e-83e1-451c23aeff98\",\"attributes\":{\"mantissas\":[1,2,5]}},\"formatter\":{\"type\":\"object\",\"name\":\"BasicTickFormatter\",\"id\":\"4b18b20b-f961-4b73-9617-38db69e59b40\"},\"axis_label\":\"percent\",\"major_label_policy\":{\"type\":\"object\",\"name\":\"AllLabels\",\"id\":\"532468c3-ad17-4271-8619-549274f93cc7\"}}}],\"below\":[{\"type\":\"object\",\"name\":\"CategoricalAxis\",\"id\":\"189162e9-9111-465e-9408-aa33edf8f7a5\",\"attributes\":{\"ticker\":{\"type\":\"object\",\"name\":\"CategoricalTicker\",\"id\":\"0fcad23c-aaf4-44b2-95a0-4952cbbf36be\"},\"formatter\":{\"type\":\"object\",\"name\":\"CategoricalTickFormatter\",\"id\":\"ae7d7ac8-a237-4b7b-8560-1e08ef8e4bb2\"},\"axis_label\":\"post_str_b4\",\"major_label_policy\":{\"type\":\"object\",\"name\":\"AllLabels\",\"id\":\"6867b340-e433-4af8-87d2-75af8e0658b0\"}}}],\"center\":[{\"type\":\"object\",\"name\":\"Grid\",\"id\":\"04741225-6958-4216-935f-4954f7bbc031\",\"attributes\":{\"axis\":{\"id\":\"189162e9-9111-465e-9408-aa33edf8f7a5\"},\"grid_line_color\":null}},{\"type\":\"object\",\"name\":\"Grid\",\"id\":\"f701e3e6-f5ff-4ada-b44f-d44ad1c32590\",\"attributes\":{\"dimension\":1,\"axis\":{\"id\":\"2363af6c-3fa8-4c87-99c8-a04399f0392a\"},\"grid_line_color\":null}}],\"min_border_top\":10,\"min_border_bottom\":10,\"min_border_left\":10,\"min_border_right\":10,\"output_backend\":\"webgl\"}},{\"type\":\"object\",\"name\":\"Spacer\",\"id\":\"c9e419c0-b5e6-4a31-9f97-1ae65579a98c\",\"attributes\":{\"name\":\"HSpacer01433\",\"stylesheets\":[\"\\n:host(.pn-loading):before, .pn-loading:before {\\n  background-color: #c3c3c3;\\n  mask-size: auto calc(min(50%, 400px));\\n  -webkit-mask-size: auto calc(min(50%, 400px));\\n}\",{\"id\":\"a09cb1b1-4234-44bf-90e9-4a6e41f65bab\"},{\"id\":\"9656484c-d42a-438f-be6c-904ed7f1914e\"},{\"id\":\"7e4b6715-0d75-4bdf-aad1-d92dc2f54ac7\"}],\"margin\":0,\"sizing_mode\":\"stretch_width\",\"align\":\"start\"}}]}}],\"defs\":[{\"type\":\"model\",\"name\":\"ReactiveHTML1\"},{\"type\":\"model\",\"name\":\"FlexBox1\",\"properties\":[{\"name\":\"align_content\",\"kind\":\"Any\",\"default\":\"flex-start\"},{\"name\":\"align_items\",\"kind\":\"Any\",\"default\":\"flex-start\"},{\"name\":\"flex_direction\",\"kind\":\"Any\",\"default\":\"row\"},{\"name\":\"flex_wrap\",\"kind\":\"Any\",\"default\":\"wrap\"},{\"name\":\"gap\",\"kind\":\"Any\",\"default\":\"\"},{\"name\":\"justify_content\",\"kind\":\"Any\",\"default\":\"flex-start\"}]},{\"type\":\"model\",\"name\":\"FloatPanel1\",\"properties\":[{\"name\":\"config\",\"kind\":\"Any\",\"default\":{\"type\":\"map\"}},{\"name\":\"contained\",\"kind\":\"Any\",\"default\":true},{\"name\":\"position\",\"kind\":\"Any\",\"default\":\"right-top\"},{\"name\":\"offsetx\",\"kind\":\"Any\",\"default\":null},{\"name\":\"offsety\",\"kind\":\"Any\",\"default\":null},{\"name\":\"theme\",\"kind\":\"Any\",\"default\":\"primary\"},{\"name\":\"status\",\"kind\":\"Any\",\"default\":\"normalized\"}]},{\"type\":\"model\",\"name\":\"GridStack1\",\"properties\":[{\"name\":\"ncols\",\"kind\":\"Any\",\"default\":null},{\"name\":\"nrows\",\"kind\":\"Any\",\"default\":null},{\"name\":\"allow_resize\",\"kind\":\"Any\",\"default\":true},{\"name\":\"allow_drag\",\"kind\":\"Any\",\"default\":true},{\"name\":\"state\",\"kind\":\"Any\",\"default\":[]}]},{\"type\":\"model\",\"name\":\"drag1\",\"properties\":[{\"name\":\"slider_width\",\"kind\":\"Any\",\"default\":5},{\"name\":\"slider_color\",\"kind\":\"Any\",\"default\":\"black\"},{\"name\":\"value\",\"kind\":\"Any\",\"default\":50}]},{\"type\":\"model\",\"name\":\"click1\",\"properties\":[{\"name\":\"terminal_output\",\"kind\":\"Any\",\"default\":\"\"},{\"name\":\"debug_name\",\"kind\":\"Any\",\"default\":\"\"},{\"name\":\"clears\",\"kind\":\"Any\",\"default\":0}]},{\"type\":\"model\",\"name\":\"FastWrapper1\",\"properties\":[{\"name\":\"object\",\"kind\":\"Any\",\"default\":null},{\"name\":\"style\",\"kind\":\"Any\",\"default\":null}]},{\"type\":\"model\",\"name\":\"NotificationArea1\",\"properties\":[{\"name\":\"js_events\",\"kind\":\"Any\",\"default\":{\"type\":\"map\"}},{\"name\":\"max_notifications\",\"kind\":\"Any\",\"default\":5},{\"name\":\"notifications\",\"kind\":\"Any\",\"default\":[]},{\"name\":\"position\",\"kind\":\"Any\",\"default\":\"bottom-right\"},{\"name\":\"_clear\",\"kind\":\"Any\",\"default\":0},{\"name\":\"types\",\"kind\":\"Any\",\"default\":[{\"type\":\"map\",\"entries\":[[\"type\",\"warning\"],[\"background\",\"#ffc107\"],[\"icon\",{\"type\":\"map\",\"entries\":[[\"className\",\"fas fa-exclamation-triangle\"],[\"tagName\",\"i\"],[\"color\",\"white\"]]}]]},{\"type\":\"map\",\"entries\":[[\"type\",\"info\"],[\"background\",\"#007bff\"],[\"icon\",{\"type\":\"map\",\"entries\":[[\"className\",\"fas fa-info-circle\"],[\"tagName\",\"i\"],[\"color\",\"white\"]]}]]}]}]},{\"type\":\"model\",\"name\":\"Notification\",\"properties\":[{\"name\":\"background\",\"kind\":\"Any\",\"default\":null},{\"name\":\"duration\",\"kind\":\"Any\",\"default\":3000},{\"name\":\"icon\",\"kind\":\"Any\",\"default\":null},{\"name\":\"message\",\"kind\":\"Any\",\"default\":\"\"},{\"name\":\"notification_type\",\"kind\":\"Any\",\"default\":null},{\"name\":\"_rendered\",\"kind\":\"Any\",\"default\":false},{\"name\":\"_destroyed\",\"kind\":\"Any\",\"default\":false}]},{\"type\":\"model\",\"name\":\"TemplateActions1\",\"properties\":[{\"name\":\"open_modal\",\"kind\":\"Any\",\"default\":0},{\"name\":\"close_modal\",\"kind\":\"Any\",\"default\":0}]},{\"type\":\"model\",\"name\":\"BootstrapTemplateActions1\",\"properties\":[{\"name\":\"open_modal\",\"kind\":\"Any\",\"default\":0},{\"name\":\"close_modal\",\"kind\":\"Any\",\"default\":0}]},{\"type\":\"model\",\"name\":\"TemplateEditor1\",\"properties\":[{\"name\":\"layout\",\"kind\":\"Any\",\"default\":[]}]},{\"type\":\"model\",\"name\":\"MaterialTemplateActions1\",\"properties\":[{\"name\":\"open_modal\",\"kind\":\"Any\",\"default\":0},{\"name\":\"close_modal\",\"kind\":\"Any\",\"default\":0}]},{\"type\":\"model\",\"name\":\"ReactiveESM1\",\"properties\":[{\"name\":\"esm_constants\",\"kind\":\"Any\",\"default\":{\"type\":\"map\"}}]},{\"type\":\"model\",\"name\":\"JSComponent1\",\"properties\":[{\"name\":\"esm_constants\",\"kind\":\"Any\",\"default\":{\"type\":\"map\"}}]},{\"type\":\"model\",\"name\":\"ReactComponent1\",\"properties\":[{\"name\":\"esm_constants\",\"kind\":\"Any\",\"default\":{\"type\":\"map\"}}]},{\"type\":\"model\",\"name\":\"AnyWidgetComponent1\",\"properties\":[{\"name\":\"esm_constants\",\"kind\":\"Any\",\"default\":{\"type\":\"map\"}}]},{\"type\":\"model\",\"name\":\"request_value1\",\"properties\":[{\"name\":\"fill\",\"kind\":\"Any\",\"default\":\"none\"},{\"name\":\"_synced\",\"kind\":\"Any\",\"default\":null},{\"name\":\"_request_sync\",\"kind\":\"Any\",\"default\":0}]}]}};\n",
       "  var render_items = [{\"docid\":\"be770afe-5daa-4aad-9f97-9dba6bc984d5\",\"roots\":{\"9f2a5f5b-e3ab-4036-91a2-6119ae087381\":\"d155b6ba-f071-4c90-83d4-342aba207fde\"},\"root_ids\":[\"9f2a5f5b-e3ab-4036-91a2-6119ae087381\"]}];\n",
       "  var docs = Object.values(docs_json)\n",
       "  if (!docs) {\n",
       "    return\n",
       "  }\n",
       "  const py_version = docs[0].version.replace('rc', '-rc.').replace('.dev', '-dev.')\n",
       "  async function embed_document(root) {\n",
       "    var Bokeh = get_bokeh(root)\n",
       "    await Bokeh.embed.embed_items_notebook(docs_json, render_items);\n",
       "    for (const render_item of render_items) {\n",
       "      for (const root_id of render_item.root_ids) {\n",
       "\tconst id_el = document.getElementById(root_id)\n",
       "\tif (id_el.children.length && id_el.children[0].hasAttribute('data-root-id')) {\n",
       "\t  const root_el = id_el.children[0]\n",
       "\t  root_el.id = root_el.id + '-rendered'\n",
       "\t  for (const child of root_el.children) {\n",
       "            // Ensure JupyterLab does not capture keyboard shortcuts\n",
       "            // see: https://jupyterlab.readthedocs.io/en/4.1.x/extension/notebook.html#keyboard-interaction-model\n",
       "\t    child.setAttribute('data-lm-suppress-shortcuts', 'true')\n",
       "\t  }\n",
       "\t}\n",
       "      }\n",
       "    }\n",
       "  }\n",
       "  function get_bokeh(root) {\n",
       "    if (root.Bokeh === undefined) {\n",
       "      return null\n",
       "    } else if (root.Bokeh.version !== py_version) {\n",
       "      if (root.Bokeh.versions === undefined || !root.Bokeh.versions.has(py_version)) {\n",
       "\treturn null\n",
       "      }\n",
       "      return root.Bokeh.versions.get(py_version);\n",
       "    } else if (root.Bokeh.version === py_version) {\n",
       "      return root.Bokeh\n",
       "    }\n",
       "    return null\n",
       "  }\n",
       "  function is_loaded(root) {\n",
       "    var Bokeh = get_bokeh(root)\n",
       "    return (Bokeh != null && Bokeh.Panel !== undefined)\n",
       "  }\n",
       "  if (is_loaded(root)) {\n",
       "    embed_document(root);\n",
       "  } else {\n",
       "    var attempts = 0;\n",
       "    var timer = setInterval(function(root) {\n",
       "      if (is_loaded(root)) {\n",
       "        clearInterval(timer);\n",
       "        embed_document(root);\n",
       "      } else if (document.readyState == \"complete\") {\n",
       "        attempts++;\n",
       "        if (attempts > 200) {\n",
       "          clearInterval(timer);\n",
       "\t  var Bokeh = get_bokeh(root)\n",
       "\t  if (Bokeh == null || Bokeh.Panel == null) {\n",
       "            console.warn(\"Panel: ERROR: Unable to run Panel code because Bokeh or Panel library is missing\");\n",
       "\t  } else {\n",
       "\t    console.warn(\"Panel: WARNING: Attempting to render but not all required libraries could be resolved.\")\n",
       "\t    embed_document(root)\n",
       "\t  }\n",
       "        }\n",
       "      }\n",
       "    }, 25, root)\n",
       "  }\n",
       "})(window);</script>"
      ],
      "text/plain": [
       ":Overlay\n",
       "   .Bars.I    :Bars   [post_str_b4]   (percent)\n",
       "   .HLine.I   :HLine   [x,y]\n",
       "   .HLine.II  :HLine   [x,y]\n",
       "   .HLine.III :HLine   [x,y]"
      ]
     },
     "metadata": {
      "application/vnd.holoviews_exec.v0+json": {
       "id": "9f2a5f5b-e3ab-4036-91a2-6119ae087381"
      }
     },
     "output_type": "display_data"
    },
    {
     "name": "stdout",
     "output_type": "stream",
     "text": [
      "df_10_last FOR str_b4 = 12\n",
      "Last 3 results last_results=['27', '42', '28']\n"
     ]
    },
    {
     "data": {
      "text/html": [
       "<div><style>\n",
       ".dataframe > thead > tr,\n",
       ".dataframe > tbody > tr {\n",
       "  text-align: right;\n",
       "  white-space: pre-wrap;\n",
       "}\n",
       "</style>\n",
       "<small>shape: (10, 30)</small><table border=\"1\" class=\"dataframe\"><thead><tr><th>fecha</th><th>sorteo</th><th>bolillas</th><th>yapa</th><th>adicionales</th><th>sorteo_extra</th><th>id</th><th>combo</th><th>b1</th><th>b2</th><th>b3</th><th>b4</th><th>b5</th><th>b6</th><th>str_b1</th><th>str_b2</th><th>str_b3</th><th>str_b4</th><th>str_b5</th><th>str_b6</th><th>post_str_b1</th><th>post_str_b2</th><th>post_str_b3</th><th>post_str_b4</th><th>post_str_b5</th><th>post_str_blast</th><th>is_rare_combination</th><th>reason</th><th>jumps_map</th><th>unijump</th></tr><tr><td>str</td><td>str</td><td>str</td><td>str</td><td>str</td><td>str</td><td>str</td><td>array[u8, 6]</td><td>u8</td><td>u8</td><td>u8</td><td>u8</td><td>u8</td><td>u8</td><td>str</td><td>str</td><td>str</td><td>str</td><td>str</td><td>str</td><td>str</td><td>str</td><td>str</td><td>str</td><td>str</td><td>str</td><td>bool</td><td>u8</td><td>str</td><td>i64</td></tr></thead><tbody><tr><td>&quot;24/07/2022&quot;</td><td>&quot;0901&quot;</td><td>&quot;07 23 04 12 03 31&quot;</td><td>&quot;22&quot;</td><td>&quot;41&quot;</td><td>&quot;Promoción Sí o Sí&quot;</td><td>&quot;030407122331&quot;</td><td>[3, 4, … 31]</td><td>3</td><td>4</td><td>7</td><td>12</td><td>23</td><td>31</td><td>&quot;03&quot;</td><td>&quot;04&quot;</td><td>&quot;07&quot;</td><td>&quot;12&quot;</td><td>&quot;23&quot;</td><td>&quot;31&quot;</td><td>&quot;02&quot;</td><td>&quot;06&quot;</td><td>&quot;11&quot;</td><td>&quot;27&quot;</td><td>&quot;29&quot;</td><td>&quot;31&quot;</td><td>true</td><td>1</td><td>&quot;01_03_05_11_08&quot;</td><td>-17</td></tr><tr><td>&quot;22/05/2022&quot;</td><td>&quot;0883&quot;</td><td>&quot;11 10 12 21 01 26&quot;</td><td>&quot;36&quot;</td><td>&quot;33 38&quot;</td><td>&quot;Promoción Sí o Sí&quot;</td><td>&quot;011011122126&quot;</td><td>[1, 10, … 26]</td><td>1</td><td>10</td><td>11</td><td>12</td><td>21</td><td>26</td><td>&quot;01&quot;</td><td>&quot;10&quot;</td><td>&quot;11&quot;</td><td>&quot;12&quot;</td><td>&quot;21&quot;</td><td>&quot;26&quot;</td><td>&quot;12&quot;</td><td>&quot;28&quot;</td><td>&quot;39&quot;</td><td>&quot;42&quot;</td><td>&quot;43&quot;</td><td>&quot;45&quot;</td><td>true</td><td>24</td><td>&quot;09_01_01_09_05&quot;</td><td>-20</td></tr><tr><td>&quot;17/11/2021&quot;</td><td>&quot;0830&quot;</td><td>&quot;02 03 10 30 36 12&quot;</td><td>&quot;06&quot;</td><td>&quot;&quot;</td><td>&quot;&quot;</td><td>&quot;020310123036&quot;</td><td>[2, 3, … 36]</td><td>2</td><td>3</td><td>10</td><td>12</td><td>30</td><td>36</td><td>&quot;02&quot;</td><td>&quot;03&quot;</td><td>&quot;10&quot;</td><td>&quot;12&quot;</td><td>&quot;30&quot;</td><td>&quot;36&quot;</td><td>&quot;15&quot;</td><td>&quot;24&quot;</td><td>&quot;26&quot;</td><td>&quot;28&quot;</td><td>&quot;38&quot;</td><td>&quot;44&quot;</td><td>false</td><td>0</td><td>&quot;01_07_02_18_06&quot;</td><td>-81</td></tr><tr><td>&quot;19/01/2020&quot;</td><td>&quot;0672&quot;</td><td>&quot;06 02 12 18 23 09&quot;</td><td>&quot;01&quot;</td><td>&quot;&quot;</td><td>&quot;&quot;</td><td>&quot;020609121823&quot;</td><td>[2, 6, … 23]</td><td>2</td><td>6</td><td>9</td><td>12</td><td>18</td><td>23</td><td>&quot;02&quot;</td><td>&quot;06&quot;</td><td>&quot;09&quot;</td><td>&quot;12&quot;</td><td>&quot;18&quot;</td><td>&quot;23&quot;</td><td>&quot;05&quot;</td><td>&quot;11&quot;</td><td>&quot;34&quot;</td><td>&quot;35&quot;</td><td>&quot;40&quot;</td><td>&quot;42&quot;</td><td>true</td><td>8</td><td>&quot;04_03_03_06_05&quot;</td><td>-9</td></tr><tr><td>&quot;17/03/2019&quot;</td><td>&quot;0584&quot;</td><td>&quot;24 07 41 11 04 12&quot;</td><td>&quot;18&quot;</td><td>&quot;&quot;</td><td>&quot;&quot;</td><td>&quot;040711122441&quot;</td><td>[4, 7, … 41]</td><td>4</td><td>7</td><td>11</td><td>12</td><td>24</td><td>41</td><td>&quot;04&quot;</td><td>&quot;07&quot;</td><td>&quot;11&quot;</td><td>&quot;12&quot;</td><td>&quot;24&quot;</td><td>&quot;41&quot;</td><td>&quot;12&quot;</td><td>&quot;13&quot;</td><td>&quot;15&quot;</td><td>&quot;16&quot;</td><td>&quot;43&quot;</td><td>&quot;44&quot;</td><td>true</td><td>16</td><td>&quot;03_04_01_12_17&quot;</td><td>-38</td></tr><tr><td>&quot;27/05/2018&quot;</td><td>&quot;0500&quot;</td><td>&quot;12 28 05 10 14 01&quot;</td><td>&quot;42&quot;</td><td>&quot;&quot;</td><td>&quot;&quot;</td><td>&quot;010510121428&quot;</td><td>[1, 5, … 28]</td><td>1</td><td>5</td><td>10</td><td>12</td><td>14</td><td>28</td><td>&quot;01&quot;</td><td>&quot;05&quot;</td><td>&quot;10&quot;</td><td>&quot;12&quot;</td><td>&quot;14&quot;</td><td>&quot;28&quot;</td><td>&quot;09&quot;</td><td>&quot;13&quot;</td><td>&quot;14&quot;</td><td>&quot;20&quot;</td><td>&quot;22&quot;</td><td>&quot;26&quot;</td><td>true</td><td>24</td><td>&quot;04_05_02_02_14&quot;</td><td>2</td></tr><tr><td>&quot;12/06/2016&quot;</td><td>&quot;0296&quot;</td><td>&quot;01 08 11 12 15 36&quot;</td><td>&quot;22&quot;</td><td>&quot;&quot;</td><td>&quot;&quot;</td><td>&quot;010811121536&quot;</td><td>[1, 8, … 36]</td><td>1</td><td>8</td><td>11</td><td>12</td><td>15</td><td>36</td><td>&quot;01&quot;</td><td>&quot;08&quot;</td><td>&quot;11&quot;</td><td>&quot;12&quot;</td><td>&quot;15&quot;</td><td>&quot;36&quot;</td><td>&quot;06&quot;</td><td>&quot;20&quot;</td><td>&quot;32&quot;</td><td>&quot;35&quot;</td><td>&quot;43&quot;</td><td>&quot;45&quot;</td><td>false</td><td>0</td><td>&quot;07_03_01_03_21&quot;</td><td>10</td></tr><tr><td>&quot;25/05/2016&quot;</td><td>&quot;0291&quot;</td><td>&quot;05 08 11 12 33 44&quot;</td><td>&quot;45&quot;</td><td>&quot;&quot;</td><td>&quot;&quot;</td><td>&quot;050811123344&quot;</td><td>[5, 8, … 44]</td><td>5</td><td>8</td><td>11</td><td>12</td><td>33</td><td>44</td><td>&quot;05&quot;</td><td>&quot;08&quot;</td><td>&quot;11&quot;</td><td>&quot;12&quot;</td><td>&quot;33&quot;</td><td>&quot;44&quot;</td><td>&quot;02&quot;</td><td>&quot;17&quot;</td><td>&quot;19&quot;</td><td>&quot;27&quot;</td><td>&quot;37&quot;</td><td>&quot;42&quot;</td><td>true</td><td>8</td><td>&quot;03_03_01_21_11&quot;</td><td>-76</td></tr><tr><td>&quot;17/01/2016&quot;</td><td>&quot;0254&quot;</td><td>&quot;01 05 06 12 24 40&quot;</td><td>&quot;19&quot;</td><td>&quot;&quot;</td><td>&quot;&quot;</td><td>&quot;010506122440&quot;</td><td>[1, 5, … 40]</td><td>1</td><td>5</td><td>6</td><td>12</td><td>24</td><td>40</td><td>&quot;01&quot;</td><td>&quot;05&quot;</td><td>&quot;06&quot;</td><td>&quot;12&quot;</td><td>&quot;24&quot;</td><td>&quot;40&quot;</td><td>&quot;12&quot;</td><td>&quot;18&quot;</td><td>&quot;21&quot;</td><td>&quot;30&quot;</td><td>&quot;40&quot;</td><td>&quot;45&quot;</td><td>true</td><td>16</td><td>&quot;04_01_06_12_16&quot;</td><td>4</td></tr><tr><td>&quot;16/09/2015&quot;</td><td>&quot;0219&quot;</td><td>&quot;08 09 11 12 14 43&quot;</td><td>&quot;26&quot;</td><td>&quot;&quot;</td><td>&quot;&quot;</td><td>&quot;080911121443&quot;</td><td>[8, 9, … 43]</td><td>8</td><td>9</td><td>11</td><td>12</td><td>14</td><td>43</td><td>&quot;08&quot;</td><td>&quot;09&quot;</td><td>&quot;11&quot;</td><td>&quot;12&quot;</td><td>&quot;14&quot;</td><td>&quot;43&quot;</td><td>&quot;06&quot;</td><td>&quot;07&quot;</td><td>&quot;14&quot;</td><td>&quot;23&quot;</td><td>&quot;27&quot;</td><td>&quot;28&quot;</td><td>false</td><td>0</td><td>&quot;01_02_01_02_29&quot;</td><td>20</td></tr></tbody></table></div>"
      ],
      "text/plain": [
       "shape: (10, 30)\n",
       "┌────────────┬────────┬───────────────┬──────┬───┬───────────────┬────────┬──────────────┬─────────┐\n",
       "│ fecha      ┆ sorteo ┆ bolillas      ┆ yapa ┆ … ┆ is_rare_combi ┆ reason ┆ jumps_map    ┆ unijump │\n",
       "│ ---        ┆ ---    ┆ ---           ┆ ---  ┆   ┆ nation        ┆ ---    ┆ ---          ┆ ---     │\n",
       "│ str        ┆ str    ┆ str           ┆ str  ┆   ┆ ---           ┆ u8     ┆ str          ┆ i64     │\n",
       "│            ┆        ┆               ┆      ┆   ┆ bool          ┆        ┆              ┆         │\n",
       "╞════════════╪════════╪═══════════════╪══════╪═══╪═══════════════╪════════╪══════════════╪═════════╡\n",
       "│ 24/07/2022 ┆ 0901   ┆ 07 23 04 12   ┆ 22   ┆ … ┆ true          ┆ 1      ┆ 01_03_05_11_ ┆ -17     │\n",
       "│            ┆        ┆ 03 31         ┆      ┆   ┆               ┆        ┆ 08           ┆         │\n",
       "│ 22/05/2022 ┆ 0883   ┆ 11 10 12 21   ┆ 36   ┆ … ┆ true          ┆ 24     ┆ 09_01_01_09_ ┆ -20     │\n",
       "│            ┆        ┆ 01 26         ┆      ┆   ┆               ┆        ┆ 05           ┆         │\n",
       "│ 17/11/2021 ┆ 0830   ┆ 02 03 10 30   ┆ 06   ┆ … ┆ false         ┆ 0      ┆ 01_07_02_18_ ┆ -81     │\n",
       "│            ┆        ┆ 36 12         ┆      ┆   ┆               ┆        ┆ 06           ┆         │\n",
       "│ 19/01/2020 ┆ 0672   ┆ 06 02 12 18   ┆ 01   ┆ … ┆ true          ┆ 8      ┆ 04_03_03_06_ ┆ -9      │\n",
       "│            ┆        ┆ 23 09         ┆      ┆   ┆               ┆        ┆ 05           ┆         │\n",
       "│ 17/03/2019 ┆ 0584   ┆ 24 07 41 11   ┆ 18   ┆ … ┆ true          ┆ 16     ┆ 03_04_01_12_ ┆ -38     │\n",
       "│            ┆        ┆ 04 12         ┆      ┆   ┆               ┆        ┆ 17           ┆         │\n",
       "│ 27/05/2018 ┆ 0500   ┆ 12 28 05 10   ┆ 42   ┆ … ┆ true          ┆ 24     ┆ 04_05_02_02_ ┆ 2       │\n",
       "│            ┆        ┆ 14 01         ┆      ┆   ┆               ┆        ┆ 14           ┆         │\n",
       "│ 12/06/2016 ┆ 0296   ┆ 01 08 11 12   ┆ 22   ┆ … ┆ false         ┆ 0      ┆ 07_03_01_03_ ┆ 10      │\n",
       "│            ┆        ┆ 15 36         ┆      ┆   ┆               ┆        ┆ 21           ┆         │\n",
       "│ 25/05/2016 ┆ 0291   ┆ 05 08 11 12   ┆ 45   ┆ … ┆ true          ┆ 8      ┆ 03_03_01_21_ ┆ -76     │\n",
       "│            ┆        ┆ 33 44         ┆      ┆   ┆               ┆        ┆ 11           ┆         │\n",
       "│ 17/01/2016 ┆ 0254   ┆ 01 05 06 12   ┆ 19   ┆ … ┆ true          ┆ 16     ┆ 04_01_06_12_ ┆ 4       │\n",
       "│            ┆        ┆ 24 40         ┆      ┆   ┆               ┆        ┆ 16           ┆         │\n",
       "│ 16/09/2015 ┆ 0219   ┆ 08 09 11 12   ┆ 26   ┆ … ┆ false         ┆ 0      ┆ 01_02_01_02_ ┆ 20      │\n",
       "│            ┆        ┆ 14 43         ┆      ┆   ┆               ┆        ┆ 29           ┆         │\n",
       "└────────────┴────────┴───────────────┴──────┴───┴───────────────┴────────┴──────────────┴─────────┘"
      ]
     },
     "metadata": {},
     "output_type": "display_data"
    },
    {
     "name": "stdout",
     "output_type": "stream",
     "text": [
      "df_jumps_map FOR str_b4 = 12\n"
     ]
    },
    {
     "data": {
      "text/html": [
       "<div><style>\n",
       ".dataframe > thead > tr,\n",
       ".dataframe > tbody > tr {\n",
       "  text-align: right;\n",
       "  white-space: pre-wrap;\n",
       "}\n",
       "</style>\n",
       "<small>shape: (34, 2)</small><table border=\"1\" class=\"dataframe\"><thead><tr><th>jumps_map</th><th>count</th></tr><tr><td>str</td><td>u32</td></tr></thead><tbody><tr><td>&quot;03_01_04_01_09&quot;</td><td>1</td></tr><tr><td>&quot;04_04_02_12_12&quot;</td><td>1</td></tr><tr><td>&quot;01_04_06_07_01&quot;</td><td>1</td></tr><tr><td>&quot;02_03_06_25_05&quot;</td><td>1</td></tr><tr><td>&quot;03_02_03_06_03&quot;</td><td>1</td></tr><tr><td>&hellip;</td><td>&hellip;</td></tr><tr><td>&quot;01_04_02_21_05&quot;</td><td>1</td></tr><tr><td>&quot;09_01_01_09_05&quot;</td><td>1</td></tr><tr><td>&quot;06_01_01_12_13&quot;</td><td>1</td></tr><tr><td>&quot;05_04_01_23_05&quot;</td><td>1</td></tr><tr><td>&quot;03_06_02_01_14&quot;</td><td>1</td></tr></tbody></table></div>"
      ],
      "text/plain": [
       "shape: (34, 2)\n",
       "┌────────────────┬───────┐\n",
       "│ jumps_map      ┆ count │\n",
       "│ ---            ┆ ---   │\n",
       "│ str            ┆ u32   │\n",
       "╞════════════════╪═══════╡\n",
       "│ 03_01_04_01_09 ┆ 1     │\n",
       "│ 04_04_02_12_12 ┆ 1     │\n",
       "│ 01_04_06_07_01 ┆ 1     │\n",
       "│ 02_03_06_25_05 ┆ 1     │\n",
       "│ 03_02_03_06_03 ┆ 1     │\n",
       "│ …              ┆ …     │\n",
       "│ 01_04_02_21_05 ┆ 1     │\n",
       "│ 09_01_01_09_05 ┆ 1     │\n",
       "│ 06_01_01_12_13 ┆ 1     │\n",
       "│ 05_04_01_23_05 ┆ 1     │\n",
       "│ 03_06_02_01_14 ┆ 1     │\n",
       "└────────────────┴───────┘"
      ]
     },
     "metadata": {},
     "output_type": "display_data"
    },
    {
     "name": "stdout",
     "output_type": "stream",
     "text": [
      "df_unijump FOR str_b4 = 12\n"
     ]
    },
    {
     "data": {
      "text/html": [
       "<div><style>\n",
       ".dataframe > thead > tr,\n",
       ".dataframe > tbody > tr {\n",
       "  text-align: right;\n",
       "  white-space: pre-wrap;\n",
       "}\n",
       "</style>\n",
       "<small>shape: (31, 2)</small><table border=\"1\" class=\"dataframe\"><thead><tr><th>unijump</th><th>count</th></tr><tr><td>i64</td><td>u32</td></tr></thead><tbody><tr><td>-36</td><td>2</td></tr><tr><td>-43</td><td>2</td></tr><tr><td>-20</td><td>2</td></tr><tr><td>-92</td><td>1</td></tr><tr><td>10</td><td>1</td></tr><tr><td>&hellip;</td><td>&hellip;</td></tr><tr><td>-8</td><td>1</td></tr><tr><td>-69</td><td>1</td></tr><tr><td>-63</td><td>1</td></tr><tr><td>-1</td><td>1</td></tr><tr><td>28</td><td>1</td></tr></tbody></table></div>"
      ],
      "text/plain": [
       "shape: (31, 2)\n",
       "┌─────────┬───────┐\n",
       "│ unijump ┆ count │\n",
       "│ ---     ┆ ---   │\n",
       "│ i64     ┆ u32   │\n",
       "╞═════════╪═══════╡\n",
       "│ -36     ┆ 2     │\n",
       "│ -43     ┆ 2     │\n",
       "│ -20     ┆ 2     │\n",
       "│ -92     ┆ 1     │\n",
       "│ 10      ┆ 1     │\n",
       "│ …       ┆ …     │\n",
       "│ -8      ┆ 1     │\n",
       "│ -69     ┆ 1     │\n",
       "│ -63     ┆ 1     │\n",
       "│ -1      ┆ 1     │\n",
       "│ 28      ┆ 1     │\n",
       "└─────────┴───────┘"
      ]
     },
     "metadata": {},
     "output_type": "display_data"
    }
   ],
   "source": [
    "possible_b4, exclude_jump_maps_b4, last_post_b4 = plot_post_col(col='str_b4', post_col='post_str_b4')"
   ]
  },
  {
   "cell_type": "code",
   "execution_count": 52,
   "metadata": {},
   "outputs": [
    {
     "name": "stdout",
     "output_type": "stream",
     "text": [
      "Setting test_value='13'\n",
      "df_viz FOR str_b5 = 13\n"
     ]
    },
    {
     "data": {
      "text/html": [
       "<div><style>\n",
       ".dataframe > thead > tr,\n",
       ".dataframe > tbody > tr {\n",
       "  text-align: right;\n",
       "  white-space: pre-wrap;\n",
       "}\n",
       "</style>\n",
       "<small>shape: (3, 3)</small><table border=\"1\" class=\"dataframe\"><thead><tr><th>post_str_b5</th><th>count</th><th>percent</th></tr><tr><td>str</td><td>u32</td><td>f64</td></tr></thead><tbody><tr><td>&quot;33&quot;</td><td>1</td><td>33.333333</td></tr><tr><td>&quot;28&quot;</td><td>1</td><td>33.333333</td></tr><tr><td>&quot;20&quot;</td><td>1</td><td>33.333333</td></tr></tbody></table></div>"
      ],
      "text/plain": [
       "shape: (3, 3)\n",
       "┌─────────────┬───────┬───────────┐\n",
       "│ post_str_b5 ┆ count ┆ percent   │\n",
       "│ ---         ┆ ---   ┆ ---       │\n",
       "│ str         ┆ u32   ┆ f64       │\n",
       "╞═════════════╪═══════╪═══════════╡\n",
       "│ 33          ┆ 1     ┆ 33.333333 │\n",
       "│ 28          ┆ 1     ┆ 33.333333 │\n",
       "│ 20          ┆ 1     ┆ 33.333333 │\n",
       "└─────────────┴───────┴───────────┘"
      ]
     },
     "metadata": {},
     "output_type": "display_data"
    },
    {
     "data": {},
     "metadata": {},
     "output_type": "display_data"
    },
    {
     "data": {
      "application/vnd.holoviews_exec.v0+json": "",
      "text/html": [
       "<div id='251eaf42-3300-4a81-a9f7-2e468d7d4012'>\n",
       "  <div id=\"c8832027-7172-4ad2-8b02-75355ff9a83e\" data-root-id=\"251eaf42-3300-4a81-a9f7-2e468d7d4012\" style=\"display: contents;\"></div>\n",
       "</div>\n",
       "<script type=\"application/javascript\">(function(root) {\n",
       "  var docs_json = {\"5d1a62c1-1282-4ff6-a11e-5c23017aaf86\":{\"version\":\"3.7.2\",\"title\":\"Bokeh Application\",\"roots\":[{\"type\":\"object\",\"name\":\"Row\",\"id\":\"251eaf42-3300-4a81-a9f7-2e468d7d4012\",\"attributes\":{\"name\":\"Row01499\",\"tags\":[\"embedded\"],\"stylesheets\":[\"\\n:host(.pn-loading):before, .pn-loading:before {\\n  background-color: #c3c3c3;\\n  mask-size: auto calc(min(50%, 400px));\\n  -webkit-mask-size: auto calc(min(50%, 400px));\\n}\",{\"type\":\"object\",\"name\":\"ImportedStyleSheet\",\"id\":\"133a4a42-3170-451b-a7a1-094f431fa9b5\",\"attributes\":{\"url\":\"https://cdn.holoviz.org/panel/1.6.2/dist/css/loading.css\"}},{\"type\":\"object\",\"name\":\"ImportedStyleSheet\",\"id\":\"9880558c-88e8-4565-a4b3-20b31dc74dba\",\"attributes\":{\"url\":\"https://cdn.holoviz.org/panel/1.6.2/dist/css/listpanel.css\"}},{\"type\":\"object\",\"name\":\"ImportedStyleSheet\",\"id\":\"b7741e4b-29a5-4463-915c-025b11be3da5\",\"attributes\":{\"url\":\"https://cdn.holoviz.org/panel/1.6.2/dist/bundled/theme/default.css\"}},{\"type\":\"object\",\"name\":\"ImportedStyleSheet\",\"id\":\"8443fab1-025b-4707-9748-d2b3821a69dc\",\"attributes\":{\"url\":\"https://cdn.holoviz.org/panel/1.6.2/dist/bundled/theme/native.css\"}}],\"min_width\":700,\"margin\":0,\"sizing_mode\":\"stretch_width\",\"align\":\"start\",\"children\":[{\"type\":\"object\",\"name\":\"Spacer\",\"id\":\"1a8b75eb-a201-49cf-884c-dc468bfa0329\",\"attributes\":{\"name\":\"HSpacer01503\",\"stylesheets\":[\"\\n:host(.pn-loading):before, .pn-loading:before {\\n  background-color: #c3c3c3;\\n  mask-size: auto calc(min(50%, 400px));\\n  -webkit-mask-size: auto calc(min(50%, 400px));\\n}\",{\"id\":\"133a4a42-3170-451b-a7a1-094f431fa9b5\"},{\"id\":\"b7741e4b-29a5-4463-915c-025b11be3da5\"},{\"id\":\"8443fab1-025b-4707-9748-d2b3821a69dc\"}],\"margin\":0,\"sizing_mode\":\"stretch_width\",\"align\":\"start\"}},{\"type\":\"object\",\"name\":\"Figure\",\"id\":\"00477e2a-6c20-4b93-bb73-5c62992c3f8d\",\"attributes\":{\"width\":700,\"height\":300,\"margin\":[5,10],\"sizing_mode\":\"fixed\",\"align\":\"start\",\"x_range\":{\"type\":\"object\",\"name\":\"FactorRange\",\"id\":\"4e9d29b1-d294-44ae-9c4b-7d492308113a\",\"attributes\":{\"name\":\"post_str_b5\",\"tags\":[[[\"post_str_b5\",null]],[]],\"factors\":[\"33\",\"28\",\"20\"]}},\"y_range\":{\"type\":\"object\",\"name\":\"Range1d\",\"id\":\"f77e0b6c-8265-43b8-8deb-eacf5b6eaccd\",\"attributes\":{\"name\":\"percent\",\"tags\":[[[\"percent\",null]],{\"type\":\"map\",\"entries\":[[\"invert_yaxis\",false],[\"autorange\",false]]}],\"end\":34.53333333333333,\"reset_start\":0.0,\"reset_end\":34.53333333333333}},\"x_scale\":{\"type\":\"object\",\"name\":\"CategoricalScale\",\"id\":\"97b452a9-0ae5-42c8-9877-af93933a038d\"},\"y_scale\":{\"type\":\"object\",\"name\":\"LinearScale\",\"id\":\"e1cee644-582a-4201-b83b-74146dd9e0e3\"},\"title\":{\"type\":\"object\",\"name\":\"Title\",\"id\":\"fe2d1e9c-7ff5-46bd-b126-776ba42b1d2c\",\"attributes\":{\"text_color\":\"black\",\"text_font_size\":\"12pt\"}},\"renderers\":[{\"type\":\"object\",\"name\":\"GlyphRenderer\",\"id\":\"7acf2702-fe3a-44e3-b9a4-d9d371d269f7\",\"attributes\":{\"data_source\":{\"type\":\"object\",\"name\":\"ColumnDataSource\",\"id\":\"68718f3b-66c7-4a67-8cc7-e21b1c64ed81\",\"attributes\":{\"selected\":{\"type\":\"object\",\"name\":\"Selection\",\"id\":\"9d182870-38a1-470d-9210-3b2df4d42793\",\"attributes\":{\"indices\":[],\"line_indices\":[]}},\"selection_policy\":{\"type\":\"object\",\"name\":\"UnionRenderers\",\"id\":\"5b4b82df-37be-47c3-9cb6-fdd746417565\"},\"data\":{\"type\":\"map\",\"entries\":[[\"post_str_b5\",[\"33\",\"28\",\"20\"]],[\"percent\",{\"type\":\"ndarray\",\"array\":{\"type\":\"bytes\",\"data\":\"qqqqqqqqQECqqqqqqqpAQKqqqqqqqkBA\"},\"shape\":[3],\"dtype\":\"float64\",\"order\":\"little\"}]]}}},\"view\":{\"type\":\"object\",\"name\":\"CDSView\",\"id\":\"9fd8c32c-0733-4614-84cf-edd8cca26dd0\",\"attributes\":{\"filter\":{\"type\":\"object\",\"name\":\"AllIndices\",\"id\":\"e36dbc89-5fb9-40c6-9ea4-3eaa3ebde81a\"}}},\"glyph\":{\"type\":\"object\",\"name\":\"VBar\",\"id\":\"0279acf9-e570-4398-b8f8-0924aca5bb9c\",\"attributes\":{\"tags\":[\"apply_ranges\"],\"x\":{\"type\":\"field\",\"field\":\"post_str_b5\"},\"width\":{\"type\":\"value\",\"value\":0.8},\"top\":{\"type\":\"field\",\"field\":\"percent\"},\"fill_color\":{\"type\":\"value\",\"value\":\"#30a2da\"},\"hatch_color\":{\"type\":\"value\",\"value\":\"#30a2da\"}}},\"selection_glyph\":{\"type\":\"object\",\"name\":\"VBar\",\"id\":\"41436567-8da3-4a93-bdbd-cd6d769b9e7c\",\"attributes\":{\"tags\":[\"apply_ranges\"],\"x\":{\"type\":\"field\",\"field\":\"post_str_b5\"},\"width\":{\"type\":\"value\",\"value\":0.8},\"bottom\":{\"type\":\"value\",\"value\":0},\"top\":{\"type\":\"field\",\"field\":\"percent\"},\"line_color\":{\"type\":\"value\",\"value\":\"black\"},\"line_alpha\":{\"type\":\"value\",\"value\":1.0},\"line_width\":{\"type\":\"value\",\"value\":1},\"line_join\":{\"type\":\"value\",\"value\":\"bevel\"},\"line_cap\":{\"type\":\"value\",\"value\":\"butt\"},\"line_dash\":{\"type\":\"value\",\"value\":[]},\"line_dash_offset\":{\"type\":\"value\",\"value\":0},\"fill_color\":{\"type\":\"value\",\"value\":\"#30a2da\"},\"fill_alpha\":{\"type\":\"value\",\"value\":1.0},\"hatch_color\":{\"type\":\"value\",\"value\":\"#30a2da\"},\"hatch_alpha\":{\"type\":\"value\",\"value\":1.0},\"hatch_scale\":{\"type\":\"value\",\"value\":12.0},\"hatch_pattern\":{\"type\":\"value\",\"value\":null},\"hatch_weight\":{\"type\":\"value\",\"value\":1.0}}},\"nonselection_glyph\":{\"type\":\"object\",\"name\":\"VBar\",\"id\":\"f69fcc81-5c1c-4a78-92e7-1ffad9b9ae32\",\"attributes\":{\"tags\":[\"apply_ranges\"],\"x\":{\"type\":\"field\",\"field\":\"post_str_b5\"},\"width\":{\"type\":\"value\",\"value\":0.8},\"top\":{\"type\":\"field\",\"field\":\"percent\"},\"line_alpha\":{\"type\":\"value\",\"value\":0.1},\"fill_color\":{\"type\":\"value\",\"value\":\"#30a2da\"},\"fill_alpha\":{\"type\":\"value\",\"value\":0.1},\"hatch_color\":{\"type\":\"value\",\"value\":\"#30a2da\"},\"hatch_alpha\":{\"type\":\"value\",\"value\":0.1}}},\"muted_glyph\":{\"type\":\"object\",\"name\":\"VBar\",\"id\":\"b317b9cf-af04-4fad-9942-72729343a701\",\"attributes\":{\"tags\":[\"apply_ranges\"],\"x\":{\"type\":\"field\",\"field\":\"post_str_b5\"},\"width\":{\"type\":\"value\",\"value\":0.8},\"top\":{\"type\":\"field\",\"field\":\"percent\"},\"line_alpha\":{\"type\":\"value\",\"value\":0.2},\"fill_color\":{\"type\":\"value\",\"value\":\"#30a2da\"},\"fill_alpha\":{\"type\":\"value\",\"value\":0.2},\"hatch_color\":{\"type\":\"value\",\"value\":\"#30a2da\"},\"hatch_alpha\":{\"type\":\"value\",\"value\":0.2}}}}},{\"type\":\"object\",\"name\":\"Span\",\"id\":\"10a4734a-2eca-4bea-8335-c4cbf3b2bc79\",\"attributes\":{\"level\":\"glyph\",\"location\":33.33333333333333,\"line_color\":\"red\",\"line_width\":3}},{\"type\":\"object\",\"name\":\"Span\",\"id\":\"a50c1a6d-d7f9-48e7-9a14-9882d34d7eb0\",\"attributes\":{\"level\":\"glyph\",\"location\":49.99999999999999,\"line_color\":\"blue\",\"line_width\":3}},{\"type\":\"object\",\"name\":\"Span\",\"id\":\"e37907af-d338-463b-9f87-748c95efa95b\",\"attributes\":{\"level\":\"glyph\",\"location\":16.666666666666664,\"line_color\":\"blue\",\"line_width\":3}}],\"toolbar\":{\"type\":\"object\",\"name\":\"Toolbar\",\"id\":\"58f29ac2-22af-42f6-b03a-c1a8077e6642\",\"attributes\":{\"tools\":[{\"type\":\"object\",\"name\":\"WheelZoomTool\",\"id\":\"902868fd-5767-4ad1-83e1-04e1b71b81e8\",\"attributes\":{\"tags\":[\"hv_created\"],\"renderers\":\"auto\",\"zoom_together\":\"none\"}},{\"type\":\"object\",\"name\":\"HoverTool\",\"id\":\"4c8345a9-9982-48c3-9bc5-a3e3b9dcf288\",\"attributes\":{\"tags\":[\"hv_created\"],\"renderers\":[{\"id\":\"7acf2702-fe3a-44e3-b9a4-d9d371d269f7\"}],\"tooltips\":[[\"post_str_b5\",\"@{post_str_b5}\"],[\"percent\",\"@{percent}\"]]}},{\"type\":\"object\",\"name\":\"SaveTool\",\"id\":\"d08c65d5-1743-4e74-89c5-f44b1966def4\"},{\"type\":\"object\",\"name\":\"PanTool\",\"id\":\"2edece72-4e40-4fbd-818d-5022b639ea0b\"},{\"type\":\"object\",\"name\":\"BoxZoomTool\",\"id\":\"af2c7120-be68-4d86-92b3-b342f690139e\",\"attributes\":{\"dimensions\":\"both\",\"overlay\":{\"type\":\"object\",\"name\":\"BoxAnnotation\",\"id\":\"cda47318-05f9-4a57-9f15-8d5543350124\",\"attributes\":{\"syncable\":false,\"line_color\":\"black\",\"line_alpha\":1.0,\"line_width\":2,\"line_dash\":[4,4],\"fill_color\":\"lightgrey\",\"fill_alpha\":0.5,\"level\":\"overlay\",\"visible\":false,\"left\":{\"type\":\"number\",\"value\":\"nan\"},\"right\":{\"type\":\"number\",\"value\":\"nan\"},\"top\":{\"type\":\"number\",\"value\":\"nan\"},\"bottom\":{\"type\":\"number\",\"value\":\"nan\"},\"left_units\":\"canvas\",\"right_units\":\"canvas\",\"top_units\":\"canvas\",\"bottom_units\":\"canvas\",\"handles\":{\"type\":\"object\",\"name\":\"BoxInteractionHandles\",\"id\":\"f5da4d35-979f-4210-b0e9-9b48894dcdbe\",\"attributes\":{\"all\":{\"type\":\"object\",\"name\":\"AreaVisuals\",\"id\":\"b29bb9c1-4a2a-447f-ac0f-5f22fc58a751\",\"attributes\":{\"fill_color\":\"white\",\"hover_fill_color\":\"lightgray\"}}}}}}}},{\"type\":\"object\",\"name\":\"ResetTool\",\"id\":\"133ec492-4fdb-428d-9be0-cb260a624857\"}],\"active_drag\":{\"id\":\"2edece72-4e40-4fbd-818d-5022b639ea0b\"}}},\"left\":[{\"type\":\"object\",\"name\":\"LinearAxis\",\"id\":\"32934dd0-4b25-4eb6-868f-27d47e975776\",\"attributes\":{\"ticker\":{\"type\":\"object\",\"name\":\"BasicTicker\",\"id\":\"fa7df37c-caf3-493b-ac9f-90c2af691ae4\",\"attributes\":{\"mantissas\":[1,2,5]}},\"formatter\":{\"type\":\"object\",\"name\":\"BasicTickFormatter\",\"id\":\"77525abd-6bc9-41a3-9db0-3be2c8451237\"},\"axis_label\":\"percent\",\"major_label_policy\":{\"type\":\"object\",\"name\":\"AllLabels\",\"id\":\"d7ee5878-e790-4254-8e5b-5de3e2062767\"}}}],\"below\":[{\"type\":\"object\",\"name\":\"CategoricalAxis\",\"id\":\"5ba72dfc-63a6-4be1-ac23-517aa9749f42\",\"attributes\":{\"ticker\":{\"type\":\"object\",\"name\":\"CategoricalTicker\",\"id\":\"4dfb4d92-c356-4fb0-80b4-0f0a61ba5dd3\"},\"formatter\":{\"type\":\"object\",\"name\":\"CategoricalTickFormatter\",\"id\":\"431e1e1b-f3cc-4a29-9e3a-af9653cc7e45\"},\"axis_label\":\"post_str_b5\",\"major_label_policy\":{\"type\":\"object\",\"name\":\"AllLabels\",\"id\":\"826655f2-d180-4702-a491-b3c3f5e36a6d\"}}}],\"center\":[{\"type\":\"object\",\"name\":\"Grid\",\"id\":\"55171dad-2110-425a-9859-a44c2e03cbcc\",\"attributes\":{\"axis\":{\"id\":\"5ba72dfc-63a6-4be1-ac23-517aa9749f42\"},\"grid_line_color\":null}},{\"type\":\"object\",\"name\":\"Grid\",\"id\":\"486e78e5-6377-48eb-87c6-54ff9f22713d\",\"attributes\":{\"dimension\":1,\"axis\":{\"id\":\"32934dd0-4b25-4eb6-868f-27d47e975776\"},\"grid_line_color\":null}}],\"min_border_top\":10,\"min_border_bottom\":10,\"min_border_left\":10,\"min_border_right\":10,\"output_backend\":\"webgl\"}},{\"type\":\"object\",\"name\":\"Spacer\",\"id\":\"fd29ab29-9103-4eb6-a3c3-43dd6ff93f0c\",\"attributes\":{\"name\":\"HSpacer01504\",\"stylesheets\":[\"\\n:host(.pn-loading):before, .pn-loading:before {\\n  background-color: #c3c3c3;\\n  mask-size: auto calc(min(50%, 400px));\\n  -webkit-mask-size: auto calc(min(50%, 400px));\\n}\",{\"id\":\"133a4a42-3170-451b-a7a1-094f431fa9b5\"},{\"id\":\"b7741e4b-29a5-4463-915c-025b11be3da5\"},{\"id\":\"8443fab1-025b-4707-9748-d2b3821a69dc\"}],\"margin\":0,\"sizing_mode\":\"stretch_width\",\"align\":\"start\"}}]}}],\"defs\":[{\"type\":\"model\",\"name\":\"ReactiveHTML1\"},{\"type\":\"model\",\"name\":\"FlexBox1\",\"properties\":[{\"name\":\"align_content\",\"kind\":\"Any\",\"default\":\"flex-start\"},{\"name\":\"align_items\",\"kind\":\"Any\",\"default\":\"flex-start\"},{\"name\":\"flex_direction\",\"kind\":\"Any\",\"default\":\"row\"},{\"name\":\"flex_wrap\",\"kind\":\"Any\",\"default\":\"wrap\"},{\"name\":\"gap\",\"kind\":\"Any\",\"default\":\"\"},{\"name\":\"justify_content\",\"kind\":\"Any\",\"default\":\"flex-start\"}]},{\"type\":\"model\",\"name\":\"FloatPanel1\",\"properties\":[{\"name\":\"config\",\"kind\":\"Any\",\"default\":{\"type\":\"map\"}},{\"name\":\"contained\",\"kind\":\"Any\",\"default\":true},{\"name\":\"position\",\"kind\":\"Any\",\"default\":\"right-top\"},{\"name\":\"offsetx\",\"kind\":\"Any\",\"default\":null},{\"name\":\"offsety\",\"kind\":\"Any\",\"default\":null},{\"name\":\"theme\",\"kind\":\"Any\",\"default\":\"primary\"},{\"name\":\"status\",\"kind\":\"Any\",\"default\":\"normalized\"}]},{\"type\":\"model\",\"name\":\"GridStack1\",\"properties\":[{\"name\":\"ncols\",\"kind\":\"Any\",\"default\":null},{\"name\":\"nrows\",\"kind\":\"Any\",\"default\":null},{\"name\":\"allow_resize\",\"kind\":\"Any\",\"default\":true},{\"name\":\"allow_drag\",\"kind\":\"Any\",\"default\":true},{\"name\":\"state\",\"kind\":\"Any\",\"default\":[]}]},{\"type\":\"model\",\"name\":\"drag1\",\"properties\":[{\"name\":\"slider_width\",\"kind\":\"Any\",\"default\":5},{\"name\":\"slider_color\",\"kind\":\"Any\",\"default\":\"black\"},{\"name\":\"value\",\"kind\":\"Any\",\"default\":50}]},{\"type\":\"model\",\"name\":\"click1\",\"properties\":[{\"name\":\"terminal_output\",\"kind\":\"Any\",\"default\":\"\"},{\"name\":\"debug_name\",\"kind\":\"Any\",\"default\":\"\"},{\"name\":\"clears\",\"kind\":\"Any\",\"default\":0}]},{\"type\":\"model\",\"name\":\"FastWrapper1\",\"properties\":[{\"name\":\"object\",\"kind\":\"Any\",\"default\":null},{\"name\":\"style\",\"kind\":\"Any\",\"default\":null}]},{\"type\":\"model\",\"name\":\"NotificationArea1\",\"properties\":[{\"name\":\"js_events\",\"kind\":\"Any\",\"default\":{\"type\":\"map\"}},{\"name\":\"max_notifications\",\"kind\":\"Any\",\"default\":5},{\"name\":\"notifications\",\"kind\":\"Any\",\"default\":[]},{\"name\":\"position\",\"kind\":\"Any\",\"default\":\"bottom-right\"},{\"name\":\"_clear\",\"kind\":\"Any\",\"default\":0},{\"name\":\"types\",\"kind\":\"Any\",\"default\":[{\"type\":\"map\",\"entries\":[[\"type\",\"warning\"],[\"background\",\"#ffc107\"],[\"icon\",{\"type\":\"map\",\"entries\":[[\"className\",\"fas fa-exclamation-triangle\"],[\"tagName\",\"i\"],[\"color\",\"white\"]]}]]},{\"type\":\"map\",\"entries\":[[\"type\",\"info\"],[\"background\",\"#007bff\"],[\"icon\",{\"type\":\"map\",\"entries\":[[\"className\",\"fas fa-info-circle\"],[\"tagName\",\"i\"],[\"color\",\"white\"]]}]]}]}]},{\"type\":\"model\",\"name\":\"Notification\",\"properties\":[{\"name\":\"background\",\"kind\":\"Any\",\"default\":null},{\"name\":\"duration\",\"kind\":\"Any\",\"default\":3000},{\"name\":\"icon\",\"kind\":\"Any\",\"default\":null},{\"name\":\"message\",\"kind\":\"Any\",\"default\":\"\"},{\"name\":\"notification_type\",\"kind\":\"Any\",\"default\":null},{\"name\":\"_rendered\",\"kind\":\"Any\",\"default\":false},{\"name\":\"_destroyed\",\"kind\":\"Any\",\"default\":false}]},{\"type\":\"model\",\"name\":\"TemplateActions1\",\"properties\":[{\"name\":\"open_modal\",\"kind\":\"Any\",\"default\":0},{\"name\":\"close_modal\",\"kind\":\"Any\",\"default\":0}]},{\"type\":\"model\",\"name\":\"BootstrapTemplateActions1\",\"properties\":[{\"name\":\"open_modal\",\"kind\":\"Any\",\"default\":0},{\"name\":\"close_modal\",\"kind\":\"Any\",\"default\":0}]},{\"type\":\"model\",\"name\":\"TemplateEditor1\",\"properties\":[{\"name\":\"layout\",\"kind\":\"Any\",\"default\":[]}]},{\"type\":\"model\",\"name\":\"MaterialTemplateActions1\",\"properties\":[{\"name\":\"open_modal\",\"kind\":\"Any\",\"default\":0},{\"name\":\"close_modal\",\"kind\":\"Any\",\"default\":0}]},{\"type\":\"model\",\"name\":\"ReactiveESM1\",\"properties\":[{\"name\":\"esm_constants\",\"kind\":\"Any\",\"default\":{\"type\":\"map\"}}]},{\"type\":\"model\",\"name\":\"JSComponent1\",\"properties\":[{\"name\":\"esm_constants\",\"kind\":\"Any\",\"default\":{\"type\":\"map\"}}]},{\"type\":\"model\",\"name\":\"ReactComponent1\",\"properties\":[{\"name\":\"esm_constants\",\"kind\":\"Any\",\"default\":{\"type\":\"map\"}}]},{\"type\":\"model\",\"name\":\"AnyWidgetComponent1\",\"properties\":[{\"name\":\"esm_constants\",\"kind\":\"Any\",\"default\":{\"type\":\"map\"}}]},{\"type\":\"model\",\"name\":\"request_value1\",\"properties\":[{\"name\":\"fill\",\"kind\":\"Any\",\"default\":\"none\"},{\"name\":\"_synced\",\"kind\":\"Any\",\"default\":null},{\"name\":\"_request_sync\",\"kind\":\"Any\",\"default\":0}]}]}};\n",
       "  var render_items = [{\"docid\":\"5d1a62c1-1282-4ff6-a11e-5c23017aaf86\",\"roots\":{\"251eaf42-3300-4a81-a9f7-2e468d7d4012\":\"c8832027-7172-4ad2-8b02-75355ff9a83e\"},\"root_ids\":[\"251eaf42-3300-4a81-a9f7-2e468d7d4012\"]}];\n",
       "  var docs = Object.values(docs_json)\n",
       "  if (!docs) {\n",
       "    return\n",
       "  }\n",
       "  const py_version = docs[0].version.replace('rc', '-rc.').replace('.dev', '-dev.')\n",
       "  async function embed_document(root) {\n",
       "    var Bokeh = get_bokeh(root)\n",
       "    await Bokeh.embed.embed_items_notebook(docs_json, render_items);\n",
       "    for (const render_item of render_items) {\n",
       "      for (const root_id of render_item.root_ids) {\n",
       "\tconst id_el = document.getElementById(root_id)\n",
       "\tif (id_el.children.length && id_el.children[0].hasAttribute('data-root-id')) {\n",
       "\t  const root_el = id_el.children[0]\n",
       "\t  root_el.id = root_el.id + '-rendered'\n",
       "\t  for (const child of root_el.children) {\n",
       "            // Ensure JupyterLab does not capture keyboard shortcuts\n",
       "            // see: https://jupyterlab.readthedocs.io/en/4.1.x/extension/notebook.html#keyboard-interaction-model\n",
       "\t    child.setAttribute('data-lm-suppress-shortcuts', 'true')\n",
       "\t  }\n",
       "\t}\n",
       "      }\n",
       "    }\n",
       "  }\n",
       "  function get_bokeh(root) {\n",
       "    if (root.Bokeh === undefined) {\n",
       "      return null\n",
       "    } else if (root.Bokeh.version !== py_version) {\n",
       "      if (root.Bokeh.versions === undefined || !root.Bokeh.versions.has(py_version)) {\n",
       "\treturn null\n",
       "      }\n",
       "      return root.Bokeh.versions.get(py_version);\n",
       "    } else if (root.Bokeh.version === py_version) {\n",
       "      return root.Bokeh\n",
       "    }\n",
       "    return null\n",
       "  }\n",
       "  function is_loaded(root) {\n",
       "    var Bokeh = get_bokeh(root)\n",
       "    return (Bokeh != null && Bokeh.Panel !== undefined)\n",
       "  }\n",
       "  if (is_loaded(root)) {\n",
       "    embed_document(root);\n",
       "  } else {\n",
       "    var attempts = 0;\n",
       "    var timer = setInterval(function(root) {\n",
       "      if (is_loaded(root)) {\n",
       "        clearInterval(timer);\n",
       "        embed_document(root);\n",
       "      } else if (document.readyState == \"complete\") {\n",
       "        attempts++;\n",
       "        if (attempts > 200) {\n",
       "          clearInterval(timer);\n",
       "\t  var Bokeh = get_bokeh(root)\n",
       "\t  if (Bokeh == null || Bokeh.Panel == null) {\n",
       "            console.warn(\"Panel: ERROR: Unable to run Panel code because Bokeh or Panel library is missing\");\n",
       "\t  } else {\n",
       "\t    console.warn(\"Panel: WARNING: Attempting to render but not all required libraries could be resolved.\")\n",
       "\t    embed_document(root)\n",
       "\t  }\n",
       "        }\n",
       "      }\n",
       "    }, 25, root)\n",
       "  }\n",
       "})(window);</script>"
      ],
      "text/plain": [
       ":Overlay\n",
       "   .Bars.I    :Bars   [post_str_b5]   (percent)\n",
       "   .HLine.I   :HLine   [x,y]\n",
       "   .HLine.II  :HLine   [x,y]\n",
       "   .HLine.III :HLine   [x,y]"
      ]
     },
     "metadata": {
      "application/vnd.holoviews_exec.v0+json": {
       "id": "251eaf42-3300-4a81-a9f7-2e468d7d4012"
      }
     },
     "output_type": "display_data"
    },
    {
     "name": "stdout",
     "output_type": "stream",
     "text": [
      "df_10_last FOR str_b5 = 13\n",
      "Last 3 results last_results=['33', '28', '20']\n"
     ]
    },
    {
     "data": {
      "text/html": [
       "<div><style>\n",
       ".dataframe > thead > tr,\n",
       ".dataframe > tbody > tr {\n",
       "  text-align: right;\n",
       "  white-space: pre-wrap;\n",
       "}\n",
       "</style>\n",
       "<small>shape: (3, 30)</small><table border=\"1\" class=\"dataframe\"><thead><tr><th>fecha</th><th>sorteo</th><th>bolillas</th><th>yapa</th><th>adicionales</th><th>sorteo_extra</th><th>id</th><th>combo</th><th>b1</th><th>b2</th><th>b3</th><th>b4</th><th>b5</th><th>b6</th><th>str_b1</th><th>str_b2</th><th>str_b3</th><th>str_b4</th><th>str_b5</th><th>str_b6</th><th>post_str_b1</th><th>post_str_b2</th><th>post_str_b3</th><th>post_str_b4</th><th>post_str_b5</th><th>post_str_blast</th><th>is_rare_combination</th><th>reason</th><th>jumps_map</th><th>unijump</th></tr><tr><td>str</td><td>str</td><td>str</td><td>str</td><td>str</td><td>str</td><td>str</td><td>array[u8, 6]</td><td>u8</td><td>u8</td><td>u8</td><td>u8</td><td>u8</td><td>u8</td><td>str</td><td>str</td><td>str</td><td>str</td><td>str</td><td>str</td><td>str</td><td>str</td><td>str</td><td>str</td><td>str</td><td>str</td><td>bool</td><td>u8</td><td>str</td><td>i64</td></tr></thead><tbody><tr><td>&quot;27/06/2010&quot;</td><td>&quot;1140&quot;</td><td>&quot;05 08 09 10 13 35&quot;</td><td>&quot;25&quot;</td><td>&quot;&quot;</td><td>&quot;&quot;</td><td>&quot;050809101335&quot;</td><td>[5, 8, … 35]</td><td>5</td><td>8</td><td>9</td><td>10</td><td>13</td><td>35</td><td>&quot;05&quot;</td><td>&quot;08&quot;</td><td>&quot;09&quot;</td><td>&quot;10&quot;</td><td>&quot;13&quot;</td><td>&quot;35&quot;</td><td>&quot;05&quot;</td><td>&quot;06&quot;</td><td>&quot;25&quot;</td><td>&quot;31&quot;</td><td>&quot;33&quot;</td><td>&quot;37&quot;</td><td>true</td><td>24</td><td>&quot;03_01_01_03_22&quot;</td><td>15</td></tr><tr><td>&quot;13/04/1997&quot;</td><td>&quot;0131&quot;</td><td>&quot;04 07 08 12 13 22&quot;</td><td>&quot;&quot;</td><td>&quot;&quot;</td><td>&quot;&quot;</td><td>&quot;040708121322&quot;</td><td>[4, 7, … 22]</td><td>4</td><td>7</td><td>8</td><td>12</td><td>13</td><td>22</td><td>&quot;04&quot;</td><td>&quot;07&quot;</td><td>&quot;08&quot;</td><td>&quot;12&quot;</td><td>&quot;13&quot;</td><td>&quot;22&quot;</td><td>&quot;03&quot;</td><td>&quot;04&quot;</td><td>&quot;10&quot;</td><td>&quot;19&quot;</td><td>&quot;20&quot;</td><td>&quot;28&quot;</td><td>false</td><td>0</td><td>&quot;03_01_04_01_09&quot;</td><td>28</td></tr><tr><td>&quot;18/08/1996&quot;</td><td>&quot;0097&quot;</td><td>&quot;01 04 10 12 13 27&quot;</td><td>&quot;&quot;</td><td>&quot;&quot;</td><td>&quot;&quot;</td><td>&quot;010410121327&quot;</td><td>[1, 4, … 27]</td><td>1</td><td>4</td><td>10</td><td>12</td><td>13</td><td>27</td><td>&quot;01&quot;</td><td>&quot;04&quot;</td><td>&quot;10&quot;</td><td>&quot;12&quot;</td><td>&quot;13&quot;</td><td>&quot;27&quot;</td><td>&quot;01&quot;</td><td>&quot;09&quot;</td><td>&quot;14&quot;</td><td>&quot;19&quot;</td><td>&quot;28&quot;</td><td>&quot;30&quot;</td><td>false</td><td>0</td><td>&quot;03_06_02_01_14&quot;</td><td>1</td></tr></tbody></table></div>"
      ],
      "text/plain": [
       "shape: (3, 30)\n",
       "┌────────────┬────────┬───────────────┬──────┬───┬───────────────┬────────┬──────────────┬─────────┐\n",
       "│ fecha      ┆ sorteo ┆ bolillas      ┆ yapa ┆ … ┆ is_rare_combi ┆ reason ┆ jumps_map    ┆ unijump │\n",
       "│ ---        ┆ ---    ┆ ---           ┆ ---  ┆   ┆ nation        ┆ ---    ┆ ---          ┆ ---     │\n",
       "│ str        ┆ str    ┆ str           ┆ str  ┆   ┆ ---           ┆ u8     ┆ str          ┆ i64     │\n",
       "│            ┆        ┆               ┆      ┆   ┆ bool          ┆        ┆              ┆         │\n",
       "╞════════════╪════════╪═══════════════╪══════╪═══╪═══════════════╪════════╪══════════════╪═════════╡\n",
       "│ 27/06/2010 ┆ 1140   ┆ 05 08 09 10   ┆ 25   ┆ … ┆ true          ┆ 24     ┆ 03_01_01_03_ ┆ 15      │\n",
       "│            ┆        ┆ 13 35         ┆      ┆   ┆               ┆        ┆ 22           ┆         │\n",
       "│ 13/04/1997 ┆ 0131   ┆ 04 07 08 12   ┆      ┆ … ┆ false         ┆ 0      ┆ 03_01_04_01_ ┆ 28      │\n",
       "│            ┆        ┆ 13 22         ┆      ┆   ┆               ┆        ┆ 09           ┆         │\n",
       "│ 18/08/1996 ┆ 0097   ┆ 01 04 10 12   ┆      ┆ … ┆ false         ┆ 0      ┆ 03_06_02_01_ ┆ 1       │\n",
       "│            ┆        ┆ 13 27         ┆      ┆   ┆               ┆        ┆ 14           ┆         │\n",
       "└────────────┴────────┴───────────────┴──────┴───┴───────────────┴────────┴──────────────┴─────────┘"
      ]
     },
     "metadata": {},
     "output_type": "display_data"
    },
    {
     "name": "stdout",
     "output_type": "stream",
     "text": [
      "df_jumps_map FOR str_b5 = 13\n"
     ]
    },
    {
     "data": {
      "text/html": [
       "<div><style>\n",
       ".dataframe > thead > tr,\n",
       ".dataframe > tbody > tr {\n",
       "  text-align: right;\n",
       "  white-space: pre-wrap;\n",
       "}\n",
       "</style>\n",
       "<small>shape: (3, 2)</small><table border=\"1\" class=\"dataframe\"><thead><tr><th>jumps_map</th><th>count</th></tr><tr><td>str</td><td>u32</td></tr></thead><tbody><tr><td>&quot;03_01_01_03_22&quot;</td><td>1</td></tr><tr><td>&quot;03_06_02_01_14&quot;</td><td>1</td></tr><tr><td>&quot;03_01_04_01_09&quot;</td><td>1</td></tr></tbody></table></div>"
      ],
      "text/plain": [
       "shape: (3, 2)\n",
       "┌────────────────┬───────┐\n",
       "│ jumps_map      ┆ count │\n",
       "│ ---            ┆ ---   │\n",
       "│ str            ┆ u32   │\n",
       "╞════════════════╪═══════╡\n",
       "│ 03_01_01_03_22 ┆ 1     │\n",
       "│ 03_06_02_01_14 ┆ 1     │\n",
       "│ 03_01_04_01_09 ┆ 1     │\n",
       "└────────────────┴───────┘"
      ]
     },
     "metadata": {},
     "output_type": "display_data"
    },
    {
     "name": "stdout",
     "output_type": "stream",
     "text": [
      "df_unijump FOR str_b5 = 13\n"
     ]
    },
    {
     "data": {
      "text/html": [
       "<div><style>\n",
       ".dataframe > thead > tr,\n",
       ".dataframe > tbody > tr {\n",
       "  text-align: right;\n",
       "  white-space: pre-wrap;\n",
       "}\n",
       "</style>\n",
       "<small>shape: (3, 2)</small><table border=\"1\" class=\"dataframe\"><thead><tr><th>unijump</th><th>count</th></tr><tr><td>i64</td><td>u32</td></tr></thead><tbody><tr><td>15</td><td>1</td></tr><tr><td>1</td><td>1</td></tr><tr><td>28</td><td>1</td></tr></tbody></table></div>"
      ],
      "text/plain": [
       "shape: (3, 2)\n",
       "┌─────────┬───────┐\n",
       "│ unijump ┆ count │\n",
       "│ ---     ┆ ---   │\n",
       "│ i64     ┆ u32   │\n",
       "╞═════════╪═══════╡\n",
       "│ 15      ┆ 1     │\n",
       "│ 1       ┆ 1     │\n",
       "│ 28      ┆ 1     │\n",
       "└─────────┴───────┘"
      ]
     },
     "metadata": {},
     "output_type": "display_data"
    }
   ],
   "source": [
    "possible_b5, exclude_jump_maps_b5, last_post_b5 = plot_post_col(col='str_b5', post_col='post_str_b5')"
   ]
  },
  {
   "cell_type": "code",
   "execution_count": 53,
   "metadata": {},
   "outputs": [
    {
     "name": "stdout",
     "output_type": "stream",
     "text": [
      "Setting test_value='38'\n",
      "df_viz FOR str_b6 = 38\n"
     ]
    },
    {
     "data": {
      "text/html": [
       "<div><style>\n",
       ".dataframe > thead > tr,\n",
       ".dataframe > tbody > tr {\n",
       "  text-align: right;\n",
       "  white-space: pre-wrap;\n",
       "}\n",
       "</style>\n",
       "<small>shape: (23, 3)</small><table border=\"1\" class=\"dataframe\"><thead><tr><th>post_str_blast</th><th>count</th><th>percent</th></tr><tr><td>str</td><td>u32</td><td>f64</td></tr></thead><tbody><tr><td>&quot;44&quot;</td><td>15</td><td>12.5</td></tr><tr><td>&quot;42&quot;</td><td>11</td><td>9.166667</td></tr><tr><td>&quot;43&quot;</td><td>11</td><td>9.166667</td></tr><tr><td>&quot;36&quot;</td><td>9</td><td>7.5</td></tr><tr><td>&quot;39&quot;</td><td>8</td><td>6.666667</td></tr><tr><td>&hellip;</td><td>&hellip;</td><td>&hellip;</td></tr><tr><td>&quot;22&quot;</td><td>2</td><td>1.666667</td></tr><tr><td>&quot;50&quot;</td><td>1</td><td>0.833333</td></tr><tr><td>&quot;19&quot;</td><td>1</td><td>0.833333</td></tr><tr><td>&quot;31&quot;</td><td>1</td><td>0.833333</td></tr><tr><td>&quot;25&quot;</td><td>1</td><td>0.833333</td></tr></tbody></table></div>"
      ],
      "text/plain": [
       "shape: (23, 3)\n",
       "┌────────────────┬───────┬──────────┐\n",
       "│ post_str_blast ┆ count ┆ percent  │\n",
       "│ ---            ┆ ---   ┆ ---      │\n",
       "│ str            ┆ u32   ┆ f64      │\n",
       "╞════════════════╪═══════╪══════════╡\n",
       "│ 44             ┆ 15    ┆ 12.5     │\n",
       "│ 42             ┆ 11    ┆ 9.166667 │\n",
       "│ 43             ┆ 11    ┆ 9.166667 │\n",
       "│ 36             ┆ 9     ┆ 7.5      │\n",
       "│ 39             ┆ 8     ┆ 6.666667 │\n",
       "│ …              ┆ …     ┆ …        │\n",
       "│ 22             ┆ 2     ┆ 1.666667 │\n",
       "│ 50             ┆ 1     ┆ 0.833333 │\n",
       "│ 19             ┆ 1     ┆ 0.833333 │\n",
       "│ 31             ┆ 1     ┆ 0.833333 │\n",
       "│ 25             ┆ 1     ┆ 0.833333 │\n",
       "└────────────────┴───────┴──────────┘"
      ]
     },
     "metadata": {},
     "output_type": "display_data"
    },
    {
     "data": {},
     "metadata": {},
     "output_type": "display_data"
    },
    {
     "data": {
      "application/vnd.holoviews_exec.v0+json": "",
      "text/html": [
       "<div id='412b0129-10a8-4750-a574-8a3e6b64688b'>\n",
       "  <div id=\"b99e3f2c-9249-40f3-94c2-37732c80a6d6\" data-root-id=\"412b0129-10a8-4750-a574-8a3e6b64688b\" style=\"display: contents;\"></div>\n",
       "</div>\n",
       "<script type=\"application/javascript\">(function(root) {\n",
       "  var docs_json = {\"aebd47ed-52c8-4ca7-af54-878d5bdbf2fa\":{\"version\":\"3.7.2\",\"title\":\"Bokeh Application\",\"roots\":[{\"type\":\"object\",\"name\":\"Row\",\"id\":\"412b0129-10a8-4750-a574-8a3e6b64688b\",\"attributes\":{\"name\":\"Row01570\",\"tags\":[\"embedded\"],\"stylesheets\":[\"\\n:host(.pn-loading):before, .pn-loading:before {\\n  background-color: #c3c3c3;\\n  mask-size: auto calc(min(50%, 400px));\\n  -webkit-mask-size: auto calc(min(50%, 400px));\\n}\",{\"type\":\"object\",\"name\":\"ImportedStyleSheet\",\"id\":\"7994b8af-a1d5-437b-9d62-45962f6e091a\",\"attributes\":{\"url\":\"https://cdn.holoviz.org/panel/1.6.2/dist/css/loading.css\"}},{\"type\":\"object\",\"name\":\"ImportedStyleSheet\",\"id\":\"da2c0d0c-00b6-4da6-9d9c-8421f93eeb8e\",\"attributes\":{\"url\":\"https://cdn.holoviz.org/panel/1.6.2/dist/css/listpanel.css\"}},{\"type\":\"object\",\"name\":\"ImportedStyleSheet\",\"id\":\"e3c5f7e6-96b0-4f5f-9a12-82e23ed57b1f\",\"attributes\":{\"url\":\"https://cdn.holoviz.org/panel/1.6.2/dist/bundled/theme/default.css\"}},{\"type\":\"object\",\"name\":\"ImportedStyleSheet\",\"id\":\"9f63c4f9-aef3-4c95-9783-80829d0e61f3\",\"attributes\":{\"url\":\"https://cdn.holoviz.org/panel/1.6.2/dist/bundled/theme/native.css\"}}],\"min_width\":700,\"margin\":0,\"sizing_mode\":\"stretch_width\",\"align\":\"start\",\"children\":[{\"type\":\"object\",\"name\":\"Spacer\",\"id\":\"3fb772fb-b2b5-4a1d-9bdb-7ab73bcff299\",\"attributes\":{\"name\":\"HSpacer01574\",\"stylesheets\":[\"\\n:host(.pn-loading):before, .pn-loading:before {\\n  background-color: #c3c3c3;\\n  mask-size: auto calc(min(50%, 400px));\\n  -webkit-mask-size: auto calc(min(50%, 400px));\\n}\",{\"id\":\"7994b8af-a1d5-437b-9d62-45962f6e091a\"},{\"id\":\"e3c5f7e6-96b0-4f5f-9a12-82e23ed57b1f\"},{\"id\":\"9f63c4f9-aef3-4c95-9783-80829d0e61f3\"}],\"margin\":0,\"sizing_mode\":\"stretch_width\",\"align\":\"start\"}},{\"type\":\"object\",\"name\":\"Figure\",\"id\":\"5a029886-5c35-4673-a33e-40e5cfcde3d0\",\"attributes\":{\"width\":700,\"height\":300,\"margin\":[5,10],\"sizing_mode\":\"fixed\",\"align\":\"start\",\"x_range\":{\"type\":\"object\",\"name\":\"FactorRange\",\"id\":\"578197f3-6ac9-4f65-a321-970f18d9d166\",\"attributes\":{\"name\":\"post_str_blast\",\"tags\":[[[\"post_str_blast\",null]],[]],\"factors\":[\"44\",\"42\",\"43\",\"36\",\"39\",\"45\",\"41\",\"40\",\"34\",\"35\",\"33\",\"38\",\"32\",\"37\",\"26\",\"46\",\"30\",\"27\",\"22\",\"50\",\"19\",\"31\",\"25\"]}},\"y_range\":{\"type\":\"object\",\"name\":\"Range1d\",\"id\":\"c16a5119-8d28-44d1-bbbd-709a84e5224f\",\"attributes\":{\"name\":\"percent\",\"tags\":[[[\"percent\",null]],{\"type\":\"map\",\"entries\":[[\"invert_yaxis\",false],[\"autorange\",false]]}],\"end\":13.666666666666666,\"reset_start\":0.0,\"reset_end\":13.666666666666666}},\"x_scale\":{\"type\":\"object\",\"name\":\"CategoricalScale\",\"id\":\"08dd203c-5219-41bc-b055-6176fde8fa4e\"},\"y_scale\":{\"type\":\"object\",\"name\":\"LinearScale\",\"id\":\"bd06b903-8b58-4250-94fd-ee1c8dcbeecf\"},\"title\":{\"type\":\"object\",\"name\":\"Title\",\"id\":\"7b46f1c5-6ffc-444e-a44b-178d5c81435f\",\"attributes\":{\"text_color\":\"black\",\"text_font_size\":\"12pt\"}},\"renderers\":[{\"type\":\"object\",\"name\":\"GlyphRenderer\",\"id\":\"9fa14be6-cf7c-4332-a523-7426c13f8bd7\",\"attributes\":{\"data_source\":{\"type\":\"object\",\"name\":\"ColumnDataSource\",\"id\":\"13426642-7ecd-4b73-9246-e956287327e1\",\"attributes\":{\"selected\":{\"type\":\"object\",\"name\":\"Selection\",\"id\":\"2d2419b7-637f-4391-84e2-b06d14f8b19a\",\"attributes\":{\"indices\":[],\"line_indices\":[]}},\"selection_policy\":{\"type\":\"object\",\"name\":\"UnionRenderers\",\"id\":\"b5aa0eaa-d3a4-4aca-887e-07e12a38a525\"},\"data\":{\"type\":\"map\",\"entries\":[[\"post_str_blast\",[\"44\",\"42\",\"43\",\"36\",\"39\",\"45\",\"41\",\"40\",\"34\",\"35\",\"33\",\"38\",\"32\",\"37\",\"26\",\"46\",\"30\",\"27\",\"22\",\"50\",\"19\",\"31\",\"25\"]],[\"percent\",{\"type\":\"ndarray\",\"array\":{\"type\":\"bytes\",\"data\":\"AAAAAAAAKUBVVVVVVVUiQFVVVVVVVSJAAAAAAAAAHkCrqqqqqqoaQKuqqqqqqhpAVVVVVVVVF0BVVVVVVVUXQAAAAAAAABRAqqqqqqqqEECqqqqqqqoQQKqqqqqqqhBAq6qqqqqqCkCrqqqqqqoKQAAAAAAAAARAq6qqqqqq+j+rqqqqqqr6P6uqqqqqqvo/q6qqqqqq+j+rqqqqqqrqP6uqqqqqquo/q6qqqqqq6j+rqqqqqqrqPw==\"},\"shape\":[23],\"dtype\":\"float64\",\"order\":\"little\"}]]}}},\"view\":{\"type\":\"object\",\"name\":\"CDSView\",\"id\":\"4b1fa490-d091-492e-ae65-46ed4a0ea865\",\"attributes\":{\"filter\":{\"type\":\"object\",\"name\":\"AllIndices\",\"id\":\"5d41fab2-c9eb-48b2-82a4-a4ada8439c80\"}}},\"glyph\":{\"type\":\"object\",\"name\":\"VBar\",\"id\":\"4686ab55-491a-4fef-81b1-711fff2bb84b\",\"attributes\":{\"tags\":[\"apply_ranges\"],\"x\":{\"type\":\"field\",\"field\":\"post_str_blast\"},\"width\":{\"type\":\"value\",\"value\":0.8},\"top\":{\"type\":\"field\",\"field\":\"percent\"},\"fill_color\":{\"type\":\"value\",\"value\":\"#30a2da\"},\"hatch_color\":{\"type\":\"value\",\"value\":\"#30a2da\"}}},\"selection_glyph\":{\"type\":\"object\",\"name\":\"VBar\",\"id\":\"38f71cbb-1466-40de-87c6-107ea67b31e1\",\"attributes\":{\"tags\":[\"apply_ranges\"],\"x\":{\"type\":\"field\",\"field\":\"post_str_blast\"},\"width\":{\"type\":\"value\",\"value\":0.8},\"bottom\":{\"type\":\"value\",\"value\":0},\"top\":{\"type\":\"field\",\"field\":\"percent\"},\"line_color\":{\"type\":\"value\",\"value\":\"black\"},\"line_alpha\":{\"type\":\"value\",\"value\":1.0},\"line_width\":{\"type\":\"value\",\"value\":1},\"line_join\":{\"type\":\"value\",\"value\":\"bevel\"},\"line_cap\":{\"type\":\"value\",\"value\":\"butt\"},\"line_dash\":{\"type\":\"value\",\"value\":[]},\"line_dash_offset\":{\"type\":\"value\",\"value\":0},\"fill_color\":{\"type\":\"value\",\"value\":\"#30a2da\"},\"fill_alpha\":{\"type\":\"value\",\"value\":1.0},\"hatch_color\":{\"type\":\"value\",\"value\":\"#30a2da\"},\"hatch_alpha\":{\"type\":\"value\",\"value\":1.0},\"hatch_scale\":{\"type\":\"value\",\"value\":12.0},\"hatch_pattern\":{\"type\":\"value\",\"value\":null},\"hatch_weight\":{\"type\":\"value\",\"value\":1.0}}},\"nonselection_glyph\":{\"type\":\"object\",\"name\":\"VBar\",\"id\":\"ac954627-50c7-4e4f-b13c-c388b2992876\",\"attributes\":{\"tags\":[\"apply_ranges\"],\"x\":{\"type\":\"field\",\"field\":\"post_str_blast\"},\"width\":{\"type\":\"value\",\"value\":0.8},\"top\":{\"type\":\"field\",\"field\":\"percent\"},\"line_alpha\":{\"type\":\"value\",\"value\":0.1},\"fill_color\":{\"type\":\"value\",\"value\":\"#30a2da\"},\"fill_alpha\":{\"type\":\"value\",\"value\":0.1},\"hatch_color\":{\"type\":\"value\",\"value\":\"#30a2da\"},\"hatch_alpha\":{\"type\":\"value\",\"value\":0.1}}},\"muted_glyph\":{\"type\":\"object\",\"name\":\"VBar\",\"id\":\"21c81e53-1aa9-4a36-a7b7-f125f6a5512d\",\"attributes\":{\"tags\":[\"apply_ranges\"],\"x\":{\"type\":\"field\",\"field\":\"post_str_blast\"},\"width\":{\"type\":\"value\",\"value\":0.8},\"top\":{\"type\":\"field\",\"field\":\"percent\"},\"line_alpha\":{\"type\":\"value\",\"value\":0.2},\"fill_color\":{\"type\":\"value\",\"value\":\"#30a2da\"},\"fill_alpha\":{\"type\":\"value\",\"value\":0.2},\"hatch_color\":{\"type\":\"value\",\"value\":\"#30a2da\"},\"hatch_alpha\":{\"type\":\"value\",\"value\":0.2}}}}},{\"type\":\"object\",\"name\":\"Span\",\"id\":\"e1aeb95a-5a99-4493-be3d-231692441822\",\"attributes\":{\"level\":\"glyph\",\"location\":4.3478260869565215,\"line_color\":\"red\",\"line_width\":3}},{\"type\":\"object\",\"name\":\"Span\",\"id\":\"ffc56542-61b3-4da0-a6b2-db49353cd03f\",\"attributes\":{\"level\":\"glyph\",\"location\":6.521739130434782,\"line_color\":\"blue\",\"line_width\":3}},{\"type\":\"object\",\"name\":\"Span\",\"id\":\"aad4b400-869b-4e7b-85a9-75c49f8f4b0b\",\"attributes\":{\"level\":\"glyph\",\"location\":2.1739130434782608,\"line_color\":\"blue\",\"line_width\":3}}],\"toolbar\":{\"type\":\"object\",\"name\":\"Toolbar\",\"id\":\"2ed0f051-bef3-4b91-aa83-3bbc115ce2a8\",\"attributes\":{\"tools\":[{\"type\":\"object\",\"name\":\"WheelZoomTool\",\"id\":\"a0f3fbc5-a41f-4abb-9b88-81ea2841bda6\",\"attributes\":{\"tags\":[\"hv_created\"],\"renderers\":\"auto\",\"zoom_together\":\"none\"}},{\"type\":\"object\",\"name\":\"HoverTool\",\"id\":\"941c548c-0e02-4166-b07f-a93ecfa5aa3a\",\"attributes\":{\"tags\":[\"hv_created\"],\"renderers\":[{\"id\":\"9fa14be6-cf7c-4332-a523-7426c13f8bd7\"}],\"tooltips\":[[\"post_str_blast\",\"@{post_str_blast}\"],[\"percent\",\"@{percent}\"]]}},{\"type\":\"object\",\"name\":\"SaveTool\",\"id\":\"571fcc14-4b8b-447b-b559-8722bf056659\"},{\"type\":\"object\",\"name\":\"PanTool\",\"id\":\"2035ee13-63ec-4c44-8662-c4d198bf67be\"},{\"type\":\"object\",\"name\":\"BoxZoomTool\",\"id\":\"318652a5-985f-4169-81d7-be59d03f709f\",\"attributes\":{\"dimensions\":\"both\",\"overlay\":{\"type\":\"object\",\"name\":\"BoxAnnotation\",\"id\":\"2a53a55d-a190-474b-8c3c-a5269d9d73e8\",\"attributes\":{\"syncable\":false,\"line_color\":\"black\",\"line_alpha\":1.0,\"line_width\":2,\"line_dash\":[4,4],\"fill_color\":\"lightgrey\",\"fill_alpha\":0.5,\"level\":\"overlay\",\"visible\":false,\"left\":{\"type\":\"number\",\"value\":\"nan\"},\"right\":{\"type\":\"number\",\"value\":\"nan\"},\"top\":{\"type\":\"number\",\"value\":\"nan\"},\"bottom\":{\"type\":\"number\",\"value\":\"nan\"},\"left_units\":\"canvas\",\"right_units\":\"canvas\",\"top_units\":\"canvas\",\"bottom_units\":\"canvas\",\"handles\":{\"type\":\"object\",\"name\":\"BoxInteractionHandles\",\"id\":\"53da3120-c4bb-4ef2-b6e8-730deec8bdda\",\"attributes\":{\"all\":{\"type\":\"object\",\"name\":\"AreaVisuals\",\"id\":\"a5c1d777-6fc5-42a1-b779-fe6f0ad36257\",\"attributes\":{\"fill_color\":\"white\",\"hover_fill_color\":\"lightgray\"}}}}}}}},{\"type\":\"object\",\"name\":\"ResetTool\",\"id\":\"c38082b3-7ebe-483d-858b-6653b7acca41\"}],\"active_drag\":{\"id\":\"2035ee13-63ec-4c44-8662-c4d198bf67be\"}}},\"left\":[{\"type\":\"object\",\"name\":\"LinearAxis\",\"id\":\"21abdc6a-58d5-4efa-8220-b3a59812d8e4\",\"attributes\":{\"ticker\":{\"type\":\"object\",\"name\":\"BasicTicker\",\"id\":\"ab2d3fa1-c889-4f08-8741-ef2aa2e07dca\",\"attributes\":{\"mantissas\":[1,2,5]}},\"formatter\":{\"type\":\"object\",\"name\":\"BasicTickFormatter\",\"id\":\"9b5ae583-bb22-4eb5-8243-8a98fe68813e\"},\"axis_label\":\"percent\",\"major_label_policy\":{\"type\":\"object\",\"name\":\"AllLabels\",\"id\":\"1d668006-54fb-46bc-9ec3-e99f7b6d348b\"}}}],\"below\":[{\"type\":\"object\",\"name\":\"CategoricalAxis\",\"id\":\"fd67bfb6-082b-496d-99ac-b1dce0b97dec\",\"attributes\":{\"ticker\":{\"type\":\"object\",\"name\":\"CategoricalTicker\",\"id\":\"8ad9ca3b-008c-4faf-96d3-d61edd336ebd\"},\"formatter\":{\"type\":\"object\",\"name\":\"CategoricalTickFormatter\",\"id\":\"2e038b1e-4edb-4ef4-88e8-d11d92457878\"},\"axis_label\":\"post_str_blast\",\"major_label_policy\":{\"type\":\"object\",\"name\":\"AllLabels\",\"id\":\"8fd22a31-4d5e-4acc-8e3e-e8207e6d664c\"}}}],\"center\":[{\"type\":\"object\",\"name\":\"Grid\",\"id\":\"e2d70132-7f7a-4fcb-bbb0-20535a849d3c\",\"attributes\":{\"axis\":{\"id\":\"fd67bfb6-082b-496d-99ac-b1dce0b97dec\"},\"grid_line_color\":null}},{\"type\":\"object\",\"name\":\"Grid\",\"id\":\"9b82b7ac-241e-46c1-b07f-d8e7bc06a78d\",\"attributes\":{\"dimension\":1,\"axis\":{\"id\":\"21abdc6a-58d5-4efa-8220-b3a59812d8e4\"},\"grid_line_color\":null}}],\"min_border_top\":10,\"min_border_bottom\":10,\"min_border_left\":10,\"min_border_right\":10,\"output_backend\":\"webgl\"}},{\"type\":\"object\",\"name\":\"Spacer\",\"id\":\"14ad3182-d323-47bf-9229-fa3ccfaf54b8\",\"attributes\":{\"name\":\"HSpacer01575\",\"stylesheets\":[\"\\n:host(.pn-loading):before, .pn-loading:before {\\n  background-color: #c3c3c3;\\n  mask-size: auto calc(min(50%, 400px));\\n  -webkit-mask-size: auto calc(min(50%, 400px));\\n}\",{\"id\":\"7994b8af-a1d5-437b-9d62-45962f6e091a\"},{\"id\":\"e3c5f7e6-96b0-4f5f-9a12-82e23ed57b1f\"},{\"id\":\"9f63c4f9-aef3-4c95-9783-80829d0e61f3\"}],\"margin\":0,\"sizing_mode\":\"stretch_width\",\"align\":\"start\"}}]}}],\"defs\":[{\"type\":\"model\",\"name\":\"ReactiveHTML1\"},{\"type\":\"model\",\"name\":\"FlexBox1\",\"properties\":[{\"name\":\"align_content\",\"kind\":\"Any\",\"default\":\"flex-start\"},{\"name\":\"align_items\",\"kind\":\"Any\",\"default\":\"flex-start\"},{\"name\":\"flex_direction\",\"kind\":\"Any\",\"default\":\"row\"},{\"name\":\"flex_wrap\",\"kind\":\"Any\",\"default\":\"wrap\"},{\"name\":\"gap\",\"kind\":\"Any\",\"default\":\"\"},{\"name\":\"justify_content\",\"kind\":\"Any\",\"default\":\"flex-start\"}]},{\"type\":\"model\",\"name\":\"FloatPanel1\",\"properties\":[{\"name\":\"config\",\"kind\":\"Any\",\"default\":{\"type\":\"map\"}},{\"name\":\"contained\",\"kind\":\"Any\",\"default\":true},{\"name\":\"position\",\"kind\":\"Any\",\"default\":\"right-top\"},{\"name\":\"offsetx\",\"kind\":\"Any\",\"default\":null},{\"name\":\"offsety\",\"kind\":\"Any\",\"default\":null},{\"name\":\"theme\",\"kind\":\"Any\",\"default\":\"primary\"},{\"name\":\"status\",\"kind\":\"Any\",\"default\":\"normalized\"}]},{\"type\":\"model\",\"name\":\"GridStack1\",\"properties\":[{\"name\":\"ncols\",\"kind\":\"Any\",\"default\":null},{\"name\":\"nrows\",\"kind\":\"Any\",\"default\":null},{\"name\":\"allow_resize\",\"kind\":\"Any\",\"default\":true},{\"name\":\"allow_drag\",\"kind\":\"Any\",\"default\":true},{\"name\":\"state\",\"kind\":\"Any\",\"default\":[]}]},{\"type\":\"model\",\"name\":\"drag1\",\"properties\":[{\"name\":\"slider_width\",\"kind\":\"Any\",\"default\":5},{\"name\":\"slider_color\",\"kind\":\"Any\",\"default\":\"black\"},{\"name\":\"value\",\"kind\":\"Any\",\"default\":50}]},{\"type\":\"model\",\"name\":\"click1\",\"properties\":[{\"name\":\"terminal_output\",\"kind\":\"Any\",\"default\":\"\"},{\"name\":\"debug_name\",\"kind\":\"Any\",\"default\":\"\"},{\"name\":\"clears\",\"kind\":\"Any\",\"default\":0}]},{\"type\":\"model\",\"name\":\"FastWrapper1\",\"properties\":[{\"name\":\"object\",\"kind\":\"Any\",\"default\":null},{\"name\":\"style\",\"kind\":\"Any\",\"default\":null}]},{\"type\":\"model\",\"name\":\"NotificationArea1\",\"properties\":[{\"name\":\"js_events\",\"kind\":\"Any\",\"default\":{\"type\":\"map\"}},{\"name\":\"max_notifications\",\"kind\":\"Any\",\"default\":5},{\"name\":\"notifications\",\"kind\":\"Any\",\"default\":[]},{\"name\":\"position\",\"kind\":\"Any\",\"default\":\"bottom-right\"},{\"name\":\"_clear\",\"kind\":\"Any\",\"default\":0},{\"name\":\"types\",\"kind\":\"Any\",\"default\":[{\"type\":\"map\",\"entries\":[[\"type\",\"warning\"],[\"background\",\"#ffc107\"],[\"icon\",{\"type\":\"map\",\"entries\":[[\"className\",\"fas fa-exclamation-triangle\"],[\"tagName\",\"i\"],[\"color\",\"white\"]]}]]},{\"type\":\"map\",\"entries\":[[\"type\",\"info\"],[\"background\",\"#007bff\"],[\"icon\",{\"type\":\"map\",\"entries\":[[\"className\",\"fas fa-info-circle\"],[\"tagName\",\"i\"],[\"color\",\"white\"]]}]]}]}]},{\"type\":\"model\",\"name\":\"Notification\",\"properties\":[{\"name\":\"background\",\"kind\":\"Any\",\"default\":null},{\"name\":\"duration\",\"kind\":\"Any\",\"default\":3000},{\"name\":\"icon\",\"kind\":\"Any\",\"default\":null},{\"name\":\"message\",\"kind\":\"Any\",\"default\":\"\"},{\"name\":\"notification_type\",\"kind\":\"Any\",\"default\":null},{\"name\":\"_rendered\",\"kind\":\"Any\",\"default\":false},{\"name\":\"_destroyed\",\"kind\":\"Any\",\"default\":false}]},{\"type\":\"model\",\"name\":\"TemplateActions1\",\"properties\":[{\"name\":\"open_modal\",\"kind\":\"Any\",\"default\":0},{\"name\":\"close_modal\",\"kind\":\"Any\",\"default\":0}]},{\"type\":\"model\",\"name\":\"BootstrapTemplateActions1\",\"properties\":[{\"name\":\"open_modal\",\"kind\":\"Any\",\"default\":0},{\"name\":\"close_modal\",\"kind\":\"Any\",\"default\":0}]},{\"type\":\"model\",\"name\":\"TemplateEditor1\",\"properties\":[{\"name\":\"layout\",\"kind\":\"Any\",\"default\":[]}]},{\"type\":\"model\",\"name\":\"MaterialTemplateActions1\",\"properties\":[{\"name\":\"open_modal\",\"kind\":\"Any\",\"default\":0},{\"name\":\"close_modal\",\"kind\":\"Any\",\"default\":0}]},{\"type\":\"model\",\"name\":\"ReactiveESM1\",\"properties\":[{\"name\":\"esm_constants\",\"kind\":\"Any\",\"default\":{\"type\":\"map\"}}]},{\"type\":\"model\",\"name\":\"JSComponent1\",\"properties\":[{\"name\":\"esm_constants\",\"kind\":\"Any\",\"default\":{\"type\":\"map\"}}]},{\"type\":\"model\",\"name\":\"ReactComponent1\",\"properties\":[{\"name\":\"esm_constants\",\"kind\":\"Any\",\"default\":{\"type\":\"map\"}}]},{\"type\":\"model\",\"name\":\"AnyWidgetComponent1\",\"properties\":[{\"name\":\"esm_constants\",\"kind\":\"Any\",\"default\":{\"type\":\"map\"}}]},{\"type\":\"model\",\"name\":\"request_value1\",\"properties\":[{\"name\":\"fill\",\"kind\":\"Any\",\"default\":\"none\"},{\"name\":\"_synced\",\"kind\":\"Any\",\"default\":null},{\"name\":\"_request_sync\",\"kind\":\"Any\",\"default\":0}]}]}};\n",
       "  var render_items = [{\"docid\":\"aebd47ed-52c8-4ca7-af54-878d5bdbf2fa\",\"roots\":{\"412b0129-10a8-4750-a574-8a3e6b64688b\":\"b99e3f2c-9249-40f3-94c2-37732c80a6d6\"},\"root_ids\":[\"412b0129-10a8-4750-a574-8a3e6b64688b\"]}];\n",
       "  var docs = Object.values(docs_json)\n",
       "  if (!docs) {\n",
       "    return\n",
       "  }\n",
       "  const py_version = docs[0].version.replace('rc', '-rc.').replace('.dev', '-dev.')\n",
       "  async function embed_document(root) {\n",
       "    var Bokeh = get_bokeh(root)\n",
       "    await Bokeh.embed.embed_items_notebook(docs_json, render_items);\n",
       "    for (const render_item of render_items) {\n",
       "      for (const root_id of render_item.root_ids) {\n",
       "\tconst id_el = document.getElementById(root_id)\n",
       "\tif (id_el.children.length && id_el.children[0].hasAttribute('data-root-id')) {\n",
       "\t  const root_el = id_el.children[0]\n",
       "\t  root_el.id = root_el.id + '-rendered'\n",
       "\t  for (const child of root_el.children) {\n",
       "            // Ensure JupyterLab does not capture keyboard shortcuts\n",
       "            // see: https://jupyterlab.readthedocs.io/en/4.1.x/extension/notebook.html#keyboard-interaction-model\n",
       "\t    child.setAttribute('data-lm-suppress-shortcuts', 'true')\n",
       "\t  }\n",
       "\t}\n",
       "      }\n",
       "    }\n",
       "  }\n",
       "  function get_bokeh(root) {\n",
       "    if (root.Bokeh === undefined) {\n",
       "      return null\n",
       "    } else if (root.Bokeh.version !== py_version) {\n",
       "      if (root.Bokeh.versions === undefined || !root.Bokeh.versions.has(py_version)) {\n",
       "\treturn null\n",
       "      }\n",
       "      return root.Bokeh.versions.get(py_version);\n",
       "    } else if (root.Bokeh.version === py_version) {\n",
       "      return root.Bokeh\n",
       "    }\n",
       "    return null\n",
       "  }\n",
       "  function is_loaded(root) {\n",
       "    var Bokeh = get_bokeh(root)\n",
       "    return (Bokeh != null && Bokeh.Panel !== undefined)\n",
       "  }\n",
       "  if (is_loaded(root)) {\n",
       "    embed_document(root);\n",
       "  } else {\n",
       "    var attempts = 0;\n",
       "    var timer = setInterval(function(root) {\n",
       "      if (is_loaded(root)) {\n",
       "        clearInterval(timer);\n",
       "        embed_document(root);\n",
       "      } else if (document.readyState == \"complete\") {\n",
       "        attempts++;\n",
       "        if (attempts > 200) {\n",
       "          clearInterval(timer);\n",
       "\t  var Bokeh = get_bokeh(root)\n",
       "\t  if (Bokeh == null || Bokeh.Panel == null) {\n",
       "            console.warn(\"Panel: ERROR: Unable to run Panel code because Bokeh or Panel library is missing\");\n",
       "\t  } else {\n",
       "\t    console.warn(\"Panel: WARNING: Attempting to render but not all required libraries could be resolved.\")\n",
       "\t    embed_document(root)\n",
       "\t  }\n",
       "        }\n",
       "      }\n",
       "    }, 25, root)\n",
       "  }\n",
       "})(window);</script>"
      ],
      "text/plain": [
       ":Overlay\n",
       "   .Bars.I    :Bars   [post_str_blast]   (percent)\n",
       "   .HLine.I   :HLine   [x,y]\n",
       "   .HLine.II  :HLine   [x,y]\n",
       "   .HLine.III :HLine   [x,y]"
      ]
     },
     "metadata": {
      "application/vnd.holoviews_exec.v0+json": {
       "id": "412b0129-10a8-4750-a574-8a3e6b64688b"
      }
     },
     "output_type": "display_data"
    },
    {
     "name": "stdout",
     "output_type": "stream",
     "text": [
      "df_10_last FOR str_b6 = 38\n",
      "Last 3 results last_results=['26', '45', '50']\n"
     ]
    },
    {
     "data": {
      "text/html": [
       "<div><style>\n",
       ".dataframe > thead > tr,\n",
       ".dataframe > tbody > tr {\n",
       "  text-align: right;\n",
       "  white-space: pre-wrap;\n",
       "}\n",
       "</style>\n",
       "<small>shape: (10, 30)</small><table border=\"1\" class=\"dataframe\"><thead><tr><th>fecha</th><th>sorteo</th><th>bolillas</th><th>yapa</th><th>adicionales</th><th>sorteo_extra</th><th>id</th><th>combo</th><th>b1</th><th>b2</th><th>b3</th><th>b4</th><th>b5</th><th>b6</th><th>str_b1</th><th>str_b2</th><th>str_b3</th><th>str_b4</th><th>str_b5</th><th>str_b6</th><th>post_str_b1</th><th>post_str_b2</th><th>post_str_b3</th><th>post_str_b4</th><th>post_str_b5</th><th>post_str_blast</th><th>is_rare_combination</th><th>reason</th><th>jumps_map</th><th>unijump</th></tr><tr><td>str</td><td>str</td><td>str</td><td>str</td><td>str</td><td>str</td><td>str</td><td>array[u8, 6]</td><td>u8</td><td>u8</td><td>u8</td><td>u8</td><td>u8</td><td>u8</td><td>str</td><td>str</td><td>str</td><td>str</td><td>str</td><td>str</td><td>str</td><td>str</td><td>str</td><td>str</td><td>str</td><td>str</td><td>bool</td><td>u8</td><td>str</td><td>i64</td></tr></thead><tbody><tr><td>&quot;04/12/2024&quot;</td><td>&quot;1148&quot;</td><td>&quot;17 29 20 38 02 36&quot;</td><td>&quot;26&quot;</td><td>&quot;33 01 05&quot;</td><td>&quot;Promoción Sí o Sí&quot;</td><td>&quot;021720293638&quot;</td><td>[2, 17, … 38]</td><td>2</td><td>17</td><td>20</td><td>29</td><td>36</td><td>38</td><td>&quot;02&quot;</td><td>&quot;17&quot;</td><td>&quot;20&quot;</td><td>&quot;29&quot;</td><td>&quot;36&quot;</td><td>&quot;38&quot;</td><td>&quot;08&quot;</td><td>&quot;17&quot;</td><td>&quot;26&quot;</td><td>&quot;43&quot;</td><td>&quot;44&quot;</td><td>&quot;45&quot;</td><td>false</td><td>0</td><td>&quot;15_03_09_07_02&quot;</td><td>31</td></tr><tr><td>&quot;07/08/2024&quot;</td><td>&quot;1114&quot;</td><td>&quot;10 38 36 18 32 14&quot;</td><td>&quot;33&quot;</td><td>&quot;31 29 42 28&quot;</td><td>&quot;Promoción Sí o Sí&quot;</td><td>&quot;101418323638&quot;</td><td>[10, 14, … 38]</td><td>10</td><td>14</td><td>18</td><td>32</td><td>36</td><td>38</td><td>&quot;10&quot;</td><td>&quot;14&quot;</td><td>&quot;18&quot;</td><td>&quot;32&quot;</td><td>&quot;36&quot;</td><td>&quot;38&quot;</td><td>&quot;12&quot;</td><td>&quot;18&quot;</td><td>&quot;38&quot;</td><td>&quot;43&quot;</td><td>&quot;47&quot;</td><td>&quot;50&quot;</td><td>true</td><td>12</td><td>&quot;04_04_14_04_02&quot;</td><td>58</td></tr><tr><td>&quot;24/07/2024&quot;</td><td>&quot;1110&quot;</td><td>&quot;23 32 28 19 38 25&quot;</td><td>&quot;40&quot;</td><td>&quot;03&quot;</td><td>&quot;Promoción Sí o Sí&quot;</td><td>&quot;192325283238&quot;</td><td>[19, 23, … 38]</td><td>19</td><td>23</td><td>25</td><td>28</td><td>32</td><td>38</td><td>&quot;19&quot;</td><td>&quot;23&quot;</td><td>&quot;25&quot;</td><td>&quot;28&quot;</td><td>&quot;32&quot;</td><td>&quot;38&quot;</td><td>&quot;03&quot;</td><td>&quot;08&quot;</td><td>&quot;14&quot;</td><td>&quot;19&quot;</td><td>&quot;25&quot;</td><td>&quot;26&quot;</td><td>false</td><td>0</td><td>&quot;04_02_03_04_06&quot;</td><td>4</td></tr><tr><td>&quot;03/04/2024&quot;</td><td>&quot;1078&quot;</td><td>&quot;02 07 38 18 31 26&quot;</td><td>&quot;17&quot;</td><td>&quot;41 03&quot;</td><td>&quot;Promoción Sí o Sí&quot;</td><td>&quot;020718263138&quot;</td><td>[2, 7, … 38]</td><td>2</td><td>7</td><td>18</td><td>26</td><td>31</td><td>38</td><td>&quot;02&quot;</td><td>&quot;07&quot;</td><td>&quot;18&quot;</td><td>&quot;26&quot;</td><td>&quot;31&quot;</td><td>&quot;38&quot;</td><td>&quot;05&quot;</td><td>&quot;10&quot;</td><td>&quot;20&quot;</td><td>&quot;22&quot;</td><td>&quot;25&quot;</td><td>&quot;35&quot;</td><td>false</td><td>0</td><td>&quot;05_11_08_05_07&quot;</td><td>-4</td></tr><tr><td>&quot;17/12/2023&quot;</td><td>&quot;1047&quot;</td><td>&quot;05 22 11 17 38 10&quot;</td><td>&quot;14&quot;</td><td>&quot;07 41 16&quot;</td><td>&quot;Promoción Sí o Sí&quot;</td><td>&quot;051011172238&quot;</td><td>[5, 10, … 38]</td><td>5</td><td>10</td><td>11</td><td>17</td><td>22</td><td>38</td><td>&quot;05&quot;</td><td>&quot;10&quot;</td><td>&quot;11&quot;</td><td>&quot;17&quot;</td><td>&quot;22&quot;</td><td>&quot;38&quot;</td><td>&quot;07&quot;</td><td>&quot;09&quot;</td><td>&quot;11&quot;</td><td>&quot;21&quot;</td><td>&quot;27&quot;</td><td>&quot;44&quot;</td><td>false</td><td>0</td><td>&quot;05_01_06_05_16&quot;</td><td>33</td></tr><tr><td>&quot;25/10/2023&quot;</td><td>&quot;1032&quot;</td><td>&quot;38 17 22 26 21 36&quot;</td><td>&quot;07&quot;</td><td>&quot;27 29 11&quot;</td><td>&quot;Promoción Sí o Sí&quot;</td><td>&quot;172122263638&quot;</td><td>[17, 21, … 38]</td><td>17</td><td>21</td><td>22</td><td>26</td><td>36</td><td>38</td><td>&quot;17&quot;</td><td>&quot;21&quot;</td><td>&quot;22&quot;</td><td>&quot;26&quot;</td><td>&quot;36&quot;</td><td>&quot;38&quot;</td><td>&quot;06&quot;</td><td>&quot;10&quot;</td><td>&quot;11&quot;</td><td>&quot;19&quot;</td><td>&quot;36&quot;</td><td>&quot;39&quot;</td><td>false</td><td>0</td><td>&quot;04_01_04_10_02&quot;</td><td>-14</td></tr><tr><td>&quot;27/08/2023&quot;</td><td>&quot;1015&quot;</td><td>&quot;20 22 38 28 16 14&quot;</td><td>&quot;36&quot;</td><td>&quot;34 43 08&quot;</td><td>&quot;Promoción Sí o Sí&quot;</td><td>&quot;141620222838&quot;</td><td>[14, 16, … 38]</td><td>14</td><td>16</td><td>20</td><td>22</td><td>28</td><td>38</td><td>&quot;14&quot;</td><td>&quot;16&quot;</td><td>&quot;20&quot;</td><td>&quot;22&quot;</td><td>&quot;28&quot;</td><td>&quot;38&quot;</td><td>&quot;01&quot;</td><td>&quot;12&quot;</td><td>&quot;25&quot;</td><td>&quot;28&quot;</td><td>&quot;33&quot;</td><td>&quot;44&quot;</td><td>true</td><td>4</td><td>&quot;02_04_02_06_10&quot;</td><td>-16</td></tr><tr><td>&quot;19/07/2023&quot;</td><td>&quot;1004&quot;</td><td>&quot;06 38 35 23 09 31&quot;</td><td>&quot;10&quot;</td><td>&quot;16 04 47&quot;</td><td>&quot;Promoción Sí o Sí&quot;</td><td>&quot;060923313538&quot;</td><td>[6, 9, … 38]</td><td>6</td><td>9</td><td>23</td><td>31</td><td>35</td><td>38</td><td>&quot;06&quot;</td><td>&quot;09&quot;</td><td>&quot;23&quot;</td><td>&quot;31&quot;</td><td>&quot;35&quot;</td><td>&quot;38&quot;</td><td>&quot;09&quot;</td><td>&quot;15&quot;</td><td>&quot;26&quot;</td><td>&quot;31&quot;</td><td>&quot;38&quot;</td><td>&quot;43&quot;</td><td>false</td><td>0</td><td>&quot;03_14_08_04_03&quot;</td><td>-18</td></tr><tr><td>&quot;09/07/2023&quot;</td><td>&quot;1001&quot;</td><td>&quot;26 38 29 21 06 11&quot;</td><td>&quot;45&quot;</td><td>&quot;15 44 05&quot;</td><td>&quot;Promoción Sí o Sí&quot;</td><td>&quot;061121262938&quot;</td><td>[6, 11, … 38]</td><td>6</td><td>11</td><td>21</td><td>26</td><td>29</td><td>38</td><td>&quot;06&quot;</td><td>&quot;11&quot;</td><td>&quot;21&quot;</td><td>&quot;26&quot;</td><td>&quot;29&quot;</td><td>&quot;38&quot;</td><td>&quot;01&quot;</td><td>&quot;13&quot;</td><td>&quot;20&quot;</td><td>&quot;23&quot;</td><td>&quot;27&quot;</td><td>&quot;42&quot;</td><td>false</td><td>0</td><td>&quot;05_10_05_03_09&quot;</td><td>-8</td></tr><tr><td>&quot;28/05/2023&quot;</td><td>&quot;0989&quot;</td><td>&quot;01 05 21 38 10 36&quot;</td><td>&quot;31&quot;</td><td>&quot;28 39 27&quot;</td><td>&quot;Promoción Sí o Sí&quot;</td><td>&quot;010510213638&quot;</td><td>[1, 5, … 38]</td><td>1</td><td>5</td><td>10</td><td>21</td><td>36</td><td>38</td><td>&quot;01&quot;</td><td>&quot;05&quot;</td><td>&quot;10&quot;</td><td>&quot;21&quot;</td><td>&quot;36&quot;</td><td>&quot;38&quot;</td><td>&quot;09&quot;</td><td>&quot;11&quot;</td><td>&quot;16&quot;</td><td>&quot;40&quot;</td><td>&quot;41&quot;</td><td>&quot;43&quot;</td><td>false</td><td>0</td><td>&quot;04_05_11_15_02&quot;</td><td>-8</td></tr></tbody></table></div>"
      ],
      "text/plain": [
       "shape: (10, 30)\n",
       "┌────────────┬────────┬───────────────┬──────┬───┬───────────────┬────────┬──────────────┬─────────┐\n",
       "│ fecha      ┆ sorteo ┆ bolillas      ┆ yapa ┆ … ┆ is_rare_combi ┆ reason ┆ jumps_map    ┆ unijump │\n",
       "│ ---        ┆ ---    ┆ ---           ┆ ---  ┆   ┆ nation        ┆ ---    ┆ ---          ┆ ---     │\n",
       "│ str        ┆ str    ┆ str           ┆ str  ┆   ┆ ---           ┆ u8     ┆ str          ┆ i64     │\n",
       "│            ┆        ┆               ┆      ┆   ┆ bool          ┆        ┆              ┆         │\n",
       "╞════════════╪════════╪═══════════════╪══════╪═══╪═══════════════╪════════╪══════════════╪═════════╡\n",
       "│ 04/12/2024 ┆ 1148   ┆ 17 29 20 38   ┆ 26   ┆ … ┆ false         ┆ 0      ┆ 15_03_09_07_ ┆ 31      │\n",
       "│            ┆        ┆ 02 36         ┆      ┆   ┆               ┆        ┆ 02           ┆         │\n",
       "│ 07/08/2024 ┆ 1114   ┆ 10 38 36 18   ┆ 33   ┆ … ┆ true          ┆ 12     ┆ 04_04_14_04_ ┆ 58      │\n",
       "│            ┆        ┆ 32 14         ┆      ┆   ┆               ┆        ┆ 02           ┆         │\n",
       "│ 24/07/2024 ┆ 1110   ┆ 23 32 28 19   ┆ 40   ┆ … ┆ false         ┆ 0      ┆ 04_02_03_04_ ┆ 4       │\n",
       "│            ┆        ┆ 38 25         ┆      ┆   ┆               ┆        ┆ 06           ┆         │\n",
       "│ 03/04/2024 ┆ 1078   ┆ 02 07 38 18   ┆ 17   ┆ … ┆ false         ┆ 0      ┆ 05_11_08_05_ ┆ -4      │\n",
       "│            ┆        ┆ 31 26         ┆      ┆   ┆               ┆        ┆ 07           ┆         │\n",
       "│ 17/12/2023 ┆ 1047   ┆ 05 22 11 17   ┆ 14   ┆ … ┆ false         ┆ 0      ┆ 05_01_06_05_ ┆ 33      │\n",
       "│            ┆        ┆ 38 10         ┆      ┆   ┆               ┆        ┆ 16           ┆         │\n",
       "│ 25/10/2023 ┆ 1032   ┆ 38 17 22 26   ┆ 07   ┆ … ┆ false         ┆ 0      ┆ 04_01_04_10_ ┆ -14     │\n",
       "│            ┆        ┆ 21 36         ┆      ┆   ┆               ┆        ┆ 02           ┆         │\n",
       "│ 27/08/2023 ┆ 1015   ┆ 20 22 38 28   ┆ 36   ┆ … ┆ true          ┆ 4      ┆ 02_04_02_06_ ┆ -16     │\n",
       "│            ┆        ┆ 16 14         ┆      ┆   ┆               ┆        ┆ 10           ┆         │\n",
       "│ 19/07/2023 ┆ 1004   ┆ 06 38 35 23   ┆ 10   ┆ … ┆ false         ┆ 0      ┆ 03_14_08_04_ ┆ -18     │\n",
       "│            ┆        ┆ 09 31         ┆      ┆   ┆               ┆        ┆ 03           ┆         │\n",
       "│ 09/07/2023 ┆ 1001   ┆ 26 38 29 21   ┆ 45   ┆ … ┆ false         ┆ 0      ┆ 05_10_05_03_ ┆ -8      │\n",
       "│            ┆        ┆ 06 11         ┆      ┆   ┆               ┆        ┆ 09           ┆         │\n",
       "│ 28/05/2023 ┆ 0989   ┆ 01 05 21 38   ┆ 31   ┆ … ┆ false         ┆ 0      ┆ 04_05_11_15_ ┆ -8      │\n",
       "│            ┆        ┆ 10 36         ┆      ┆   ┆               ┆        ┆ 02           ┆         │\n",
       "└────────────┴────────┴───────────────┴──────┴───┴───────────────┴────────┴──────────────┴─────────┘"
      ]
     },
     "metadata": {},
     "output_type": "display_data"
    },
    {
     "name": "stdout",
     "output_type": "stream",
     "text": [
      "df_jumps_map FOR str_b6 = 38\n"
     ]
    },
    {
     "data": {
      "text/html": [
       "<div><style>\n",
       ".dataframe > thead > tr,\n",
       ".dataframe > tbody > tr {\n",
       "  text-align: right;\n",
       "  white-space: pre-wrap;\n",
       "}\n",
       "</style>\n",
       "<small>shape: (120, 2)</small><table border=\"1\" class=\"dataframe\"><thead><tr><th>jumps_map</th><th>count</th></tr><tr><td>str</td><td>u32</td></tr></thead><tbody><tr><td>&quot;05_01_07_02_22&quot;</td><td>1</td></tr><tr><td>&quot;01_04_16_05_11&quot;</td><td>1</td></tr><tr><td>&quot;09_08_05_03_09&quot;</td><td>1</td></tr><tr><td>&quot;12_01_01_08_15&quot;</td><td>1</td></tr><tr><td>&quot;01_02_16_01_16&quot;</td><td>1</td></tr><tr><td>&hellip;</td><td>&hellip;</td></tr><tr><td>&quot;14_03_07_05_04&quot;</td><td>1</td></tr><tr><td>&quot;08_02_09_09_06&quot;</td><td>1</td></tr><tr><td>&quot;06_15_02_04_06&quot;</td><td>1</td></tr><tr><td>&quot;12_02_02_08_06&quot;</td><td>1</td></tr><tr><td>&quot;03_04_01_17_01&quot;</td><td>1</td></tr></tbody></table></div>"
      ],
      "text/plain": [
       "shape: (120, 2)\n",
       "┌────────────────┬───────┐\n",
       "│ jumps_map      ┆ count │\n",
       "│ ---            ┆ ---   │\n",
       "│ str            ┆ u32   │\n",
       "╞════════════════╪═══════╡\n",
       "│ 05_01_07_02_22 ┆ 1     │\n",
       "│ 01_04_16_05_11 ┆ 1     │\n",
       "│ 09_08_05_03_09 ┆ 1     │\n",
       "│ 12_01_01_08_15 ┆ 1     │\n",
       "│ 01_02_16_01_16 ┆ 1     │\n",
       "│ …              ┆ …     │\n",
       "│ 14_03_07_05_04 ┆ 1     │\n",
       "│ 08_02_09_09_06 ┆ 1     │\n",
       "│ 06_15_02_04_06 ┆ 1     │\n",
       "│ 12_02_02_08_06 ┆ 1     │\n",
       "│ 03_04_01_17_01 ┆ 1     │\n",
       "└────────────────┴───────┘"
      ]
     },
     "metadata": {},
     "output_type": "display_data"
    },
    {
     "name": "stdout",
     "output_type": "stream",
     "text": [
      "df_unijump FOR str_b6 = 38\n"
     ]
    },
    {
     "data": {
      "text/html": [
       "<div><style>\n",
       ".dataframe > thead > tr,\n",
       ".dataframe > tbody > tr {\n",
       "  text-align: right;\n",
       "  white-space: pre-wrap;\n",
       "}\n",
       "</style>\n",
       "<small>shape: (82, 2)</small><table border=\"1\" class=\"dataframe\"><thead><tr><th>unijump</th><th>count</th></tr><tr><td>i64</td><td>u32</td></tr></thead><tbody><tr><td>46</td><td>4</td></tr><tr><td>4</td><td>3</td></tr><tr><td>-16</td><td>3</td></tr><tr><td>27</td><td>3</td></tr><tr><td>-59</td><td>2</td></tr><tr><td>&hellip;</td><td>&hellip;</td></tr><tr><td>-52</td><td>1</td></tr><tr><td>-82</td><td>1</td></tr><tr><td>-26</td><td>1</td></tr><tr><td>55</td><td>1</td></tr><tr><td>95</td><td>1</td></tr></tbody></table></div>"
      ],
      "text/plain": [
       "shape: (82, 2)\n",
       "┌─────────┬───────┐\n",
       "│ unijump ┆ count │\n",
       "│ ---     ┆ ---   │\n",
       "│ i64     ┆ u32   │\n",
       "╞═════════╪═══════╡\n",
       "│ 46      ┆ 4     │\n",
       "│ 4       ┆ 3     │\n",
       "│ -16     ┆ 3     │\n",
       "│ 27      ┆ 3     │\n",
       "│ -59     ┆ 2     │\n",
       "│ …       ┆ …     │\n",
       "│ -52     ┆ 1     │\n",
       "│ -82     ┆ 1     │\n",
       "│ -26     ┆ 1     │\n",
       "│ 55      ┆ 1     │\n",
       "│ 95      ┆ 1     │\n",
       "└─────────┴───────┘"
      ]
     },
     "metadata": {},
     "output_type": "display_data"
    }
   ],
   "source": [
    "possible_blast, exclude_jump_maps_blast, last_post_blast = plot_post_col(col='str_b6', post_col='post_str_blast')"
   ]
  },
  {
   "cell_type": "code",
   "execution_count": 54,
   "metadata": {},
   "outputs": [],
   "source": [
    "b_count = rr.CHOOSE\n",
    "min_b = rr.MIN_B_VALUES[0]\n",
    "max_b = rr.MAX_B_VALUES[-1]\n",
    "\n",
    "\n",
    "combos = combinations(range(min_b, max_b + 1), b_count)\n",
    "# print(\"generating combos: \", len(list(combos)))"
   ]
  },
  {
   "cell_type": "code",
   "execution_count": 55,
   "metadata": {},
   "outputs": [],
   "source": [
    "parquet_file = './parquet_tnk_v3.parquet'\n",
    "\n",
    "# check if parquet_file exists\n",
    "if not os.path.exists(parquet_file):\n",
    "  print(f'{parquet_file=} does not exists. creating')\n",
    "  lst = []\n",
    "  post_str_b1 = None\n",
    "  post_str_blast = None\n",
    "  for row in combos:\n",
    "    cols = []\n",
    "    str_row = \" \".join([str(r).zfill(2) for r in row])\n",
    "    id, bolillas_int, str_combo = formalize_data_with_str(bolillas_str=str_row)\n",
    "    cols.append(id)\n",
    "    cols.append(bolillas_int)\n",
    "    cols.extend([b for b in bolillas_int])\n",
    "    cols.extend(str_combo)\n",
    "    cols.append(post_str_b1)\n",
    "    cols.append(post_str_blast)\n",
    "\n",
    "    is_rare, reason = rr.is_rare_combination(bolillas_int, id)\n",
    "    cols.append(is_rare)\n",
    "    cols.append(reason)\n",
    "\n",
    "    cols.append(rr.jumps_map(bolillas_int))\n",
    "    cols.append(rr.unijump(bolillas_int))\n",
    "    \n",
    "    lst.append(cols)\n",
    "\n",
    "    post_str_b1 = str_combo[0]\n",
    "    post_str_blast = str_combo[-1]\n",
    "\n",
    "  df_Orows = pl.DataFrame(\n",
    "    lst,\n",
    "    schema=[\n",
    "      # 'fecha', 'sorteo', 'bolillas',\n",
    "      'id', 'combo', 'b1', 'b2', 'b3', 'b4', 'b5', 'b6',\n",
    "      'str_b1', 'str_b2', 'str_b3', 'str_b4', 'str_b5', 'str_b6',\n",
    "      'post_str_b1', 'post_str_blast',\n",
    "      'is_rare_combination', 'reason',\n",
    "      \"jumps_map\", \"unijump\"\n",
    "    ],\n",
    "    schema_overrides={\n",
    "      'combo': pl.Array(pl.UInt8, 6),\n",
    "      'b1': pl.UInt8,\n",
    "      'b2': pl.UInt8,\n",
    "      'b3': pl.UInt8,\n",
    "      'b4': pl.UInt8,\n",
    "      'b5': pl.UInt8,\n",
    "      'b6': pl.UInt8,\n",
    "      'reason': pl.UInt8\n",
    "    },\n",
    "    orient='row'\n",
    "  )\n",
    "\n",
    "  df_Orows.write_parquet(parquet_file)\n",
    "  TOTAL_LINES = len(df_Orows)\n",
    "  print(f'{TOTAL_LINES=} loaded to {parquet_file=}')\n",
    "\n",
    "  display(df_Orows.head(10))\n",
    "else:\n",
    "  df_Orows = pl.read_parquet(parquet_file)"
   ]
  },
  {
   "cell_type": "code",
   "execution_count": 56,
   "metadata": {},
   "outputs": [
    {
     "data": {
      "text/html": [
       "<div><style>\n",
       ".dataframe > thead > tr,\n",
       ".dataframe > tbody > tr {\n",
       "  text-align: right;\n",
       "  white-space: pre-wrap;\n",
       "}\n",
       "</style>\n",
       "<small>shape: (13_846, 20)</small><table border=\"1\" class=\"dataframe\"><thead><tr><th>id</th><th>combo</th><th>b1</th><th>b2</th><th>b3</th><th>b4</th><th>b5</th><th>b6</th><th>str_b1</th><th>str_b2</th><th>str_b3</th><th>str_b4</th><th>str_b5</th><th>str_b6</th><th>post_str_b1</th><th>post_str_blast</th><th>is_rare_combination</th><th>reason</th><th>jumps_map</th><th>unijump</th></tr><tr><td>str</td><td>array[u8, 6]</td><td>u8</td><td>u8</td><td>u8</td><td>u8</td><td>u8</td><td>u8</td><td>str</td><td>str</td><td>str</td><td>str</td><td>str</td><td>str</td><td>str</td><td>str</td><td>bool</td><td>u8</td><td>str</td><td>i64</td></tr></thead><tbody><tr><td>&quot;010313162034&quot;</td><td>[1, 3, … 34]</td><td>1</td><td>3</td><td>13</td><td>16</td><td>20</td><td>34</td><td>&quot;01&quot;</td><td>&quot;03&quot;</td><td>&quot;13&quot;</td><td>&quot;16&quot;</td><td>&quot;20&quot;</td><td>&quot;34&quot;</td><td>&quot;01&quot;</td><td>&quot;33&quot;</td><td>false</td><td>0</td><td>&quot;02_10_03_04_14&quot;</td><td>-22</td></tr><tr><td>&quot;010313162036&quot;</td><td>[1, 3, … 36]</td><td>1</td><td>3</td><td>13</td><td>16</td><td>20</td><td>36</td><td>&quot;01&quot;</td><td>&quot;03&quot;</td><td>&quot;13&quot;</td><td>&quot;16&quot;</td><td>&quot;20&quot;</td><td>&quot;36&quot;</td><td>&quot;01&quot;</td><td>&quot;35&quot;</td><td>false</td><td>0</td><td>&quot;02_10_03_04_16&quot;</td><td>-20</td></tr><tr><td>&quot;010313162039&quot;</td><td>[1, 3, … 39]</td><td>1</td><td>3</td><td>13</td><td>16</td><td>20</td><td>39</td><td>&quot;01&quot;</td><td>&quot;03&quot;</td><td>&quot;13&quot;</td><td>&quot;16&quot;</td><td>&quot;20&quot;</td><td>&quot;39&quot;</td><td>&quot;01&quot;</td><td>&quot;38&quot;</td><td>false</td><td>0</td><td>&quot;02_10_03_04_19&quot;</td><td>-17</td></tr><tr><td>&quot;010313162040&quot;</td><td>[1, 3, … 40]</td><td>1</td><td>3</td><td>13</td><td>16</td><td>20</td><td>40</td><td>&quot;01&quot;</td><td>&quot;03&quot;</td><td>&quot;13&quot;</td><td>&quot;16&quot;</td><td>&quot;20&quot;</td><td>&quot;40&quot;</td><td>&quot;01&quot;</td><td>&quot;39&quot;</td><td>false</td><td>0</td><td>&quot;02_10_03_04_20&quot;</td><td>-16</td></tr><tr><td>&quot;010313162041&quot;</td><td>[1, 3, … 41]</td><td>1</td><td>3</td><td>13</td><td>16</td><td>20</td><td>41</td><td>&quot;01&quot;</td><td>&quot;03&quot;</td><td>&quot;13&quot;</td><td>&quot;16&quot;</td><td>&quot;20&quot;</td><td>&quot;41&quot;</td><td>&quot;01&quot;</td><td>&quot;40&quot;</td><td>false</td><td>0</td><td>&quot;02_10_03_04_21&quot;</td><td>-15</td></tr><tr><td>&hellip;</td><td>&hellip;</td><td>&hellip;</td><td>&hellip;</td><td>&hellip;</td><td>&hellip;</td><td>&hellip;</td><td>&hellip;</td><td>&hellip;</td><td>&hellip;</td><td>&hellip;</td><td>&hellip;</td><td>&hellip;</td><td>&hellip;</td><td>&hellip;</td><td>&hellip;</td><td>&hellip;</td><td>&hellip;</td><td>&hellip;</td><td>&hellip;</td></tr><tr><td>&quot;071525303342&quot;</td><td>[7, 15, … 42]</td><td>7</td><td>15</td><td>25</td><td>30</td><td>33</td><td>42</td><td>&quot;07&quot;</td><td>&quot;15&quot;</td><td>&quot;25&quot;</td><td>&quot;30&quot;</td><td>&quot;33&quot;</td><td>&quot;42&quot;</td><td>&quot;07&quot;</td><td>&quot;41&quot;</td><td>false</td><td>0</td><td>&quot;08_10_05_03_09&quot;</td><td>-5</td></tr><tr><td>&quot;071525303343&quot;</td><td>[7, 15, … 43]</td><td>7</td><td>15</td><td>25</td><td>30</td><td>33</td><td>43</td><td>&quot;07&quot;</td><td>&quot;15&quot;</td><td>&quot;25&quot;</td><td>&quot;30&quot;</td><td>&quot;33&quot;</td><td>&quot;43&quot;</td><td>&quot;07&quot;</td><td>&quot;42&quot;</td><td>false</td><td>0</td><td>&quot;08_10_05_03_10&quot;</td><td>-4</td></tr><tr><td>&quot;071525303344&quot;</td><td>[7, 15, … 44]</td><td>7</td><td>15</td><td>25</td><td>30</td><td>33</td><td>44</td><td>&quot;07&quot;</td><td>&quot;15&quot;</td><td>&quot;25&quot;</td><td>&quot;30&quot;</td><td>&quot;33&quot;</td><td>&quot;44&quot;</td><td>&quot;07&quot;</td><td>&quot;43&quot;</td><td>false</td><td>0</td><td>&quot;08_10_05_03_11&quot;</td><td>-3</td></tr><tr><td>&quot;072225273341&quot;</td><td>[7, 22, … 41]</td><td>7</td><td>22</td><td>25</td><td>27</td><td>33</td><td>41</td><td>&quot;07&quot;</td><td>&quot;22&quot;</td><td>&quot;25&quot;</td><td>&quot;27&quot;</td><td>&quot;33&quot;</td><td>&quot;41&quot;</td><td>&quot;07&quot;</td><td>&quot;40&quot;</td><td>false</td><td>0</td><td>&quot;15_03_02_06_08&quot;</td><td>-1</td></tr><tr><td>&quot;072225303341&quot;</td><td>[7, 22, … 41]</td><td>7</td><td>22</td><td>25</td><td>30</td><td>33</td><td>41</td><td>&quot;07&quot;</td><td>&quot;22&quot;</td><td>&quot;25&quot;</td><td>&quot;30&quot;</td><td>&quot;33&quot;</td><td>&quot;41&quot;</td><td>&quot;07&quot;</td><td>&quot;40&quot;</td><td>false</td><td>0</td><td>&quot;15_03_05_03_08&quot;</td><td>29</td></tr></tbody></table></div>"
      ],
      "text/plain": [
       "shape: (13_846, 20)\n",
       "┌──────────────┬───────────────┬─────┬─────┬───┬────────────────┬────────┬───────────────┬─────────┐\n",
       "│ id           ┆ combo         ┆ b1  ┆ b2  ┆ … ┆ is_rare_combin ┆ reason ┆ jumps_map     ┆ unijump │\n",
       "│ ---          ┆ ---           ┆ --- ┆ --- ┆   ┆ ation          ┆ ---    ┆ ---           ┆ ---     │\n",
       "│ str          ┆ array[u8, 6]  ┆ u8  ┆ u8  ┆   ┆ ---            ┆ u8     ┆ str           ┆ i64     │\n",
       "│              ┆               ┆     ┆     ┆   ┆ bool           ┆        ┆               ┆         │\n",
       "╞══════════════╪═══════════════╪═════╪═════╪═══╪════════════════╪════════╪═══════════════╪═════════╡\n",
       "│ 010313162034 ┆ [1, 3, … 34]  ┆ 1   ┆ 3   ┆ … ┆ false          ┆ 0      ┆ 02_10_03_04_1 ┆ -22     │\n",
       "│              ┆               ┆     ┆     ┆   ┆                ┆        ┆ 4             ┆         │\n",
       "│ 010313162036 ┆ [1, 3, … 36]  ┆ 1   ┆ 3   ┆ … ┆ false          ┆ 0      ┆ 02_10_03_04_1 ┆ -20     │\n",
       "│              ┆               ┆     ┆     ┆   ┆                ┆        ┆ 6             ┆         │\n",
       "│ 010313162039 ┆ [1, 3, … 39]  ┆ 1   ┆ 3   ┆ … ┆ false          ┆ 0      ┆ 02_10_03_04_1 ┆ -17     │\n",
       "│              ┆               ┆     ┆     ┆   ┆                ┆        ┆ 9             ┆         │\n",
       "│ 010313162040 ┆ [1, 3, … 40]  ┆ 1   ┆ 3   ┆ … ┆ false          ┆ 0      ┆ 02_10_03_04_2 ┆ -16     │\n",
       "│              ┆               ┆     ┆     ┆   ┆                ┆        ┆ 0             ┆         │\n",
       "│ 010313162041 ┆ [1, 3, … 41]  ┆ 1   ┆ 3   ┆ … ┆ false          ┆ 0      ┆ 02_10_03_04_2 ┆ -15     │\n",
       "│              ┆               ┆     ┆     ┆   ┆                ┆        ┆ 1             ┆         │\n",
       "│ …            ┆ …             ┆ …   ┆ …   ┆ … ┆ …              ┆ …      ┆ …             ┆ …       │\n",
       "│ 071525303342 ┆ [7, 15, … 42] ┆ 7   ┆ 15  ┆ … ┆ false          ┆ 0      ┆ 08_10_05_03_0 ┆ -5      │\n",
       "│              ┆               ┆     ┆     ┆   ┆                ┆        ┆ 9             ┆         │\n",
       "│ 071525303343 ┆ [7, 15, … 43] ┆ 7   ┆ 15  ┆ … ┆ false          ┆ 0      ┆ 08_10_05_03_1 ┆ -4      │\n",
       "│              ┆               ┆     ┆     ┆   ┆                ┆        ┆ 0             ┆         │\n",
       "│ 071525303344 ┆ [7, 15, … 44] ┆ 7   ┆ 15  ┆ … ┆ false          ┆ 0      ┆ 08_10_05_03_1 ┆ -3      │\n",
       "│              ┆               ┆     ┆     ┆   ┆                ┆        ┆ 1             ┆         │\n",
       "│ 072225273341 ┆ [7, 22, … 41] ┆ 7   ┆ 22  ┆ … ┆ false          ┆ 0      ┆ 15_03_02_06_0 ┆ -1      │\n",
       "│              ┆               ┆     ┆     ┆   ┆                ┆        ┆ 8             ┆         │\n",
       "│ 072225303341 ┆ [7, 22, … 41] ┆ 7   ┆ 22  ┆ … ┆ false          ┆ 0      ┆ 15_03_05_03_0 ┆ 29      │\n",
       "│              ┆               ┆     ┆     ┆   ┆                ┆        ┆ 8             ┆         │\n",
       "└──────────────┴───────────────┴─────┴─────┴───┴────────────────┴────────┴───────────────┴─────────┘"
      ]
     },
     "metadata": {},
     "output_type": "display_data"
    }
   ],
   "source": [
    "# possible_b1, exclude_jump_maps_b1\n",
    "df_possible = df_Orows.filter(\n",
    "  pl.col(\"str_b1\").is_in(possible_b1),\n",
    "  pl.col(\"str_b2\").is_in(possible_b2),\n",
    "  pl.col(\"str_b3\").is_in(possible_b3),\n",
    "  pl.col(\"str_b4\").is_in(possible_b4),\n",
    "  pl.col(\"str_b5\").is_in(possible_b5),\n",
    "  pl.col(\"str_b6\").is_in(possible_blast),\n",
    "  \n",
    "  ~pl.col(\"str_b1\").is_in(last_post_b1),\n",
    "  # ~pl.col(\"str_b2\").is_in(last_post_b2),\n",
    "  # ~pl.col(\"str_b3\").is_in(last_post_b3),\n",
    "  # ~pl.col(\"str_b4\").is_in(last_post_b4),\n",
    "  # ~pl.col(\"str_b5\").is_in(last_post_b5),\n",
    "  ~pl.col(\"str_b6\").is_in(last_post_blast),\n",
    "\n",
    "  ~pl.col(\"jumps_map\").is_in(exclude_jump_maps_b1 + exclude_jump_maps_b2 + exclude_jump_maps_b3 + exclude_jump_maps_b4 + exclude_jump_maps_b5 + exclude_jump_maps_blast),\n",
    "  # ~pl.col(\"jumps_map\").is_in(exclude_jump_maps_b1 + exclude_jump_maps_b2 + exclude_jump_maps_blast),\n",
    "  pl.col(\"is_rare_combination\") == False\n",
    ")\n",
    "\n",
    "\n",
    "display(df_possible)"
   ]
  },
  {
   "cell_type": "code",
   "execution_count": 57,
   "metadata": {},
   "outputs": [
    {
     "data": {
      "text/html": [
       "<div><style>\n",
       ".dataframe > thead > tr,\n",
       ".dataframe > tbody > tr {\n",
       "  text-align: right;\n",
       "  white-space: pre-wrap;\n",
       "}\n",
       "</style>\n",
       "<small>shape: (1, 20)</small><table border=\"1\" class=\"dataframe\"><thead><tr><th>id</th><th>combo</th><th>b1</th><th>b2</th><th>b3</th><th>b4</th><th>b5</th><th>b6</th><th>str_b1</th><th>str_b2</th><th>str_b3</th><th>str_b4</th><th>str_b5</th><th>str_b6</th><th>post_str_b1</th><th>post_str_blast</th><th>is_rare_combination</th><th>reason</th><th>jumps_map</th><th>unijump</th></tr><tr><td>str</td><td>array[u8, 6]</td><td>u8</td><td>u8</td><td>u8</td><td>u8</td><td>u8</td><td>u8</td><td>str</td><td>str</td><td>str</td><td>str</td><td>str</td><td>str</td><td>str</td><td>str</td><td>bool</td><td>u8</td><td>str</td><td>i64</td></tr></thead><tbody><tr><td>&quot;011213193344&quot;</td><td>[1, 12, … 44]</td><td>1</td><td>12</td><td>13</td><td>19</td><td>33</td><td>44</td><td>&quot;01&quot;</td><td>&quot;12&quot;</td><td>&quot;13&quot;</td><td>&quot;19&quot;</td><td>&quot;33&quot;</td><td>&quot;44&quot;</td><td>&quot;01&quot;</td><td>&quot;43&quot;</td><td>false</td><td>0</td><td>&quot;11_01_06_14_11&quot;</td><td>-2</td></tr></tbody></table></div>"
      ],
      "text/plain": [
       "shape: (1, 20)\n",
       "┌──────────────┬───────────────┬─────┬─────┬───┬────────────────┬────────┬───────────────┬─────────┐\n",
       "│ id           ┆ combo         ┆ b1  ┆ b2  ┆ … ┆ is_rare_combin ┆ reason ┆ jumps_map     ┆ unijump │\n",
       "│ ---          ┆ ---           ┆ --- ┆ --- ┆   ┆ ation          ┆ ---    ┆ ---           ┆ ---     │\n",
       "│ str          ┆ array[u8, 6]  ┆ u8  ┆ u8  ┆   ┆ ---            ┆ u8     ┆ str           ┆ i64     │\n",
       "│              ┆               ┆     ┆     ┆   ┆ bool           ┆        ┆               ┆         │\n",
       "╞══════════════╪═══════════════╪═════╪═════╪═══╪════════════════╪════════╪═══════════════╪═════════╡\n",
       "│ 011213193344 ┆ [1, 12, … 44] ┆ 1   ┆ 12  ┆ … ┆ false          ┆ 0      ┆ 11_01_06_14_1 ┆ -2      │\n",
       "│              ┆               ┆     ┆     ┆   ┆                ┆        ┆ 1             ┆         │\n",
       "└──────────────┴───────────────┴─────┴─────┴───┴────────────────┴────────┴───────────────┴─────────┘"
      ]
     },
     "execution_count": 57,
     "metadata": {},
     "output_type": "execute_result"
    }
   ],
   "source": [
    "df_possible.sample(n=1)\n"
   ]
  }
 ],
 "metadata": {
  "kernelspec": {
   "display_name": ".venv",
   "language": "python",
   "name": "python3"
  },
  "language_info": {
   "codemirror_mode": {
    "name": "ipython",
    "version": 3
   },
   "file_extension": ".py",
   "mimetype": "text/x-python",
   "name": "python",
   "nbconvert_exporter": "python",
   "pygments_lexer": "ipython3",
   "version": "3.12.9"
  }
 },
 "nbformat": 4,
 "nbformat_minor": 2
}

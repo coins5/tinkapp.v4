{
 "cells": [
  {
   "cell_type": "code",
   "execution_count": 1,
   "metadata": {},
   "outputs": [
    {
     "data": {
      "text/html": [
       "<script type=\"esms-options\">{\"shimMode\": true}</script><style>*[data-root-id],\n",
       "*[data-root-id] > * {\n",
       "  box-sizing: border-box;\n",
       "  font-family: var(--jp-ui-font-family);\n",
       "  font-size: var(--jp-ui-font-size1);\n",
       "  color: var(--vscode-editor-foreground, var(--jp-ui-font-color1));\n",
       "}\n",
       "\n",
       "/* Override VSCode background color */\n",
       ".cell-output-ipywidget-background:has(\n",
       "    > .cell-output-ipywidget-background > .lm-Widget > *[data-root-id]\n",
       "  ),\n",
       ".cell-output-ipywidget-background:has(> .lm-Widget > *[data-root-id]) {\n",
       "  background-color: transparent !important;\n",
       "}\n",
       "</style>"
      ]
     },
     "metadata": {},
     "output_type": "display_data"
    },
    {
     "data": {
      "application/javascript": "(function(root) {\n  function now() {\n    return new Date();\n  }\n\n  const force = true;\n  const py_version = '3.7.2'.replace('rc', '-rc.').replace('.dev', '-dev.');\n  const reloading = false;\n  const Bokeh = root.Bokeh;\n\n  // Set a timeout for this load but only if we are not already initializing\n  if (typeof (root._bokeh_timeout) === \"undefined\" || (force || !root._bokeh_is_initializing)) {\n    root._bokeh_timeout = Date.now() + 5000;\n    root._bokeh_failed_load = false;\n  }\n\n  function run_callbacks() {\n    try {\n      root._bokeh_onload_callbacks.forEach(function(callback) {\n        if (callback != null)\n          callback();\n      });\n    } finally {\n      delete root._bokeh_onload_callbacks;\n    }\n    console.debug(\"Bokeh: all callbacks have finished\");\n  }\n\n  function load_libs(css_urls, js_urls, js_modules, js_exports, callback) {\n    if (css_urls == null) css_urls = [];\n    if (js_urls == null) js_urls = [];\n    if (js_modules == null) js_modules = [];\n    if (js_exports == null) js_exports = {};\n\n    root._bokeh_onload_callbacks.push(callback);\n\n    if (root._bokeh_is_loading > 0) {\n      // Don't load bokeh if it is still initializing\n      console.debug(\"Bokeh: BokehJS is being loaded, scheduling callback at\", now());\n      return null;\n    } else if (js_urls.length === 0 && js_modules.length === 0 && Object.keys(js_exports).length === 0) {\n      // There is nothing to load\n      run_callbacks();\n      return null;\n    }\n\n    function on_load() {\n      root._bokeh_is_loading--;\n      if (root._bokeh_is_loading === 0) {\n        console.debug(\"Bokeh: all BokehJS libraries/stylesheets loaded\");\n        run_callbacks()\n      }\n    }\n    window._bokeh_on_load = on_load\n\n    function on_error(e) {\n      const src_el = e.srcElement\n      console.error(\"failed to load \" + (src_el.href || src_el.src));\n    }\n\n    const skip = [];\n    if (window.requirejs) {\n      window.requirejs.config({'packages': {}, 'paths': {}, 'shim': {}});\n      root._bokeh_is_loading = css_urls.length + 0;\n    } else {\n      root._bokeh_is_loading = css_urls.length + js_urls.length + js_modules.length + Object.keys(js_exports).length;\n    }\n\n    const existing_stylesheets = []\n    const links = document.getElementsByTagName('link')\n    for (let i = 0; i < links.length; i++) {\n      const link = links[i]\n      if (link.href != null) {\n        existing_stylesheets.push(link.href)\n      }\n    }\n    for (let i = 0; i < css_urls.length; i++) {\n      const url = css_urls[i];\n      const escaped = encodeURI(url)\n      if (existing_stylesheets.indexOf(escaped) !== -1) {\n        on_load()\n        continue;\n      }\n      const element = document.createElement(\"link\");\n      element.onload = on_load;\n      element.onerror = on_error;\n      element.rel = \"stylesheet\";\n      element.type = \"text/css\";\n      element.href = url;\n      console.debug(\"Bokeh: injecting link tag for BokehJS stylesheet: \", url);\n      document.body.appendChild(element);\n    }    var existing_scripts = []\n    const scripts = document.getElementsByTagName('script')\n    for (let i = 0; i < scripts.length; i++) {\n      var script = scripts[i]\n      if (script.src != null) {\n        existing_scripts.push(script.src)\n      }\n    }\n    for (let i = 0; i < js_urls.length; i++) {\n      const url = js_urls[i];\n      const escaped = encodeURI(url)\n      if (skip.indexOf(escaped) !== -1 || existing_scripts.indexOf(escaped) !== -1) {\n        if (!window.requirejs) {\n          on_load();\n        }\n        continue;\n      }\n      const element = document.createElement('script');\n      element.onload = on_load;\n      element.onerror = on_error;\n      element.async = false;\n      element.src = url;\n      console.debug(\"Bokeh: injecting script tag for BokehJS library: \", url);\n      document.head.appendChild(element);\n    }\n    for (let i = 0; i < js_modules.length; i++) {\n      const url = js_modules[i];\n      const escaped = encodeURI(url)\n      if (skip.indexOf(escaped) !== -1 || existing_scripts.indexOf(escaped) !== -1) {\n        if (!window.requirejs) {\n          on_load();\n        }\n        continue;\n      }\n      var element = document.createElement('script');\n      element.onload = on_load;\n      element.onerror = on_error;\n      element.async = false;\n      element.src = url;\n      element.type = \"module\";\n      console.debug(\"Bokeh: injecting script tag for BokehJS library: \", url);\n      document.head.appendChild(element);\n    }\n    for (const name in js_exports) {\n      const url = js_exports[name];\n      const escaped = encodeURI(url)\n      if (skip.indexOf(escaped) >= 0 || root[name] != null) {\n        if (!window.requirejs) {\n          on_load();\n        }\n        continue;\n      }\n      var element = document.createElement('script');\n      element.onerror = on_error;\n      element.async = false;\n      element.type = \"module\";\n      console.debug(\"Bokeh: injecting script tag for BokehJS library: \", url);\n      element.textContent = `\n      import ${name} from \"${url}\"\n      window.${name} = ${name}\n      window._bokeh_on_load()\n      `\n      document.head.appendChild(element);\n    }\n    if (!js_urls.length && !js_modules.length) {\n      on_load()\n    }\n  };\n\n  function inject_raw_css(css) {\n    const element = document.createElement(\"style\");\n    element.appendChild(document.createTextNode(css));\n    document.body.appendChild(element);\n  }\n\n  const js_urls = [\"https://cdn.holoviz.org/panel/1.6.2/dist/bundled/reactiveesm/es-module-shims@^1.10.0/dist/es-module-shims.min.js\", \"https://cdn.bokeh.org/bokeh/release/bokeh-3.7.2.min.js\", \"https://cdn.bokeh.org/bokeh/release/bokeh-gl-3.7.2.min.js\", \"https://cdn.bokeh.org/bokeh/release/bokeh-widgets-3.7.2.min.js\", \"https://cdn.bokeh.org/bokeh/release/bokeh-tables-3.7.2.min.js\", \"https://cdn.holoviz.org/panel/1.6.2/dist/panel.min.js\"];\n  const js_modules = [];\n  const js_exports = {};\n  const css_urls = [];\n  const inline_js = [    function(Bokeh) {\n      Bokeh.set_log_level(\"info\");\n    },\nfunction(Bokeh) {} // ensure no trailing comma for IE\n  ];\n\n  function run_inline_js() {\n    if ((root.Bokeh !== undefined) || (force === true)) {\n      for (let i = 0; i < inline_js.length; i++) {\n        try {\n          inline_js[i].call(root, root.Bokeh);\n        } catch(e) {\n          if (!reloading) {\n            throw e;\n          }\n        }\n      }\n      // Cache old bokeh versions\n      if (Bokeh != undefined && !reloading) {\n        var NewBokeh = root.Bokeh;\n        if (Bokeh.versions === undefined) {\n          Bokeh.versions = new Map();\n        }\n        if (NewBokeh.version !== Bokeh.version) {\n          Bokeh.versions.set(NewBokeh.version, NewBokeh)\n        }\n        root.Bokeh = Bokeh;\n      }\n    } else if (Date.now() < root._bokeh_timeout) {\n      setTimeout(run_inline_js, 100);\n    } else if (!root._bokeh_failed_load) {\n      console.log(\"Bokeh: BokehJS failed to load within specified timeout.\");\n      root._bokeh_failed_load = true;\n    }\n    root._bokeh_is_initializing = false\n  }\n\n  function load_or_wait() {\n    // Implement a backoff loop that tries to ensure we do not load multiple\n    // versions of Bokeh and its dependencies at the same time.\n    // In recent versions we use the root._bokeh_is_initializing flag\n    // to determine whether there is an ongoing attempt to initialize\n    // bokeh, however for backward compatibility we also try to ensure\n    // that we do not start loading a newer (Panel>=1.0 and Bokeh>3) version\n    // before older versions are fully initialized.\n    if (root._bokeh_is_initializing && Date.now() > root._bokeh_timeout) {\n      // If the timeout and bokeh was not successfully loaded we reset\n      // everything and try loading again\n      root._bokeh_timeout = Date.now() + 5000;\n      root._bokeh_is_initializing = false;\n      root._bokeh_onload_callbacks = undefined;\n      root._bokeh_is_loading = 0\n      console.log(\"Bokeh: BokehJS was loaded multiple times but one version failed to initialize.\");\n      load_or_wait();\n    } else if (root._bokeh_is_initializing || (typeof root._bokeh_is_initializing === \"undefined\" && root._bokeh_onload_callbacks !== undefined)) {\n      setTimeout(load_or_wait, 100);\n    } else {\n      root._bokeh_is_initializing = true\n      root._bokeh_onload_callbacks = []\n      const bokeh_loaded = root.Bokeh != null && (root.Bokeh.version === py_version || (root.Bokeh.versions !== undefined && root.Bokeh.versions.has(py_version)));\n      if (!reloading && !bokeh_loaded) {\n        if (root.Bokeh) {\n          root.Bokeh = undefined;\n        }\n        console.debug(\"Bokeh: BokehJS not loaded, scheduling load and callback at\", now());\n      }\n      load_libs(css_urls, js_urls, js_modules, js_exports, function() {\n        console.debug(\"Bokeh: BokehJS plotting callback run at\", now());\n        run_inline_js();\n      });\n    }\n  }\n  // Give older versions of the autoload script a head-start to ensure\n  // they initialize before we start loading newer version.\n  setTimeout(load_or_wait, 100)\n}(window));",
      "application/vnd.holoviews_load.v0+json": ""
     },
     "metadata": {},
     "output_type": "display_data"
    },
    {
     "data": {
      "application/javascript": "\nif ((window.PyViz === undefined) || (window.PyViz instanceof HTMLElement)) {\n  window.PyViz = {comms: {}, comm_status:{}, kernels:{}, receivers: {}, plot_index: []}\n}\n\n\n    function JupyterCommManager() {\n    }\n\n    JupyterCommManager.prototype.register_target = function(plot_id, comm_id, msg_handler) {\n      if (window.comm_manager || ((window.Jupyter !== undefined) && (Jupyter.notebook.kernel != null))) {\n        var comm_manager = window.comm_manager || Jupyter.notebook.kernel.comm_manager;\n        comm_manager.register_target(comm_id, function(comm) {\n          comm.on_msg(msg_handler);\n        });\n      } else if ((plot_id in window.PyViz.kernels) && (window.PyViz.kernels[plot_id])) {\n        window.PyViz.kernels[plot_id].registerCommTarget(comm_id, function(comm) {\n          comm.onMsg = msg_handler;\n        });\n      } else if (typeof google != 'undefined' && google.colab.kernel != null) {\n        google.colab.kernel.comms.registerTarget(comm_id, (comm) => {\n          var messages = comm.messages[Symbol.asyncIterator]();\n          function processIteratorResult(result) {\n            var message = result.value;\n            console.log(message)\n            var content = {data: message.data, comm_id};\n            var buffers = []\n            for (var buffer of message.buffers || []) {\n              buffers.push(new DataView(buffer))\n            }\n            var metadata = message.metadata || {};\n            var msg = {content, buffers, metadata}\n            msg_handler(msg);\n            return messages.next().then(processIteratorResult);\n          }\n          return messages.next().then(processIteratorResult);\n        })\n      }\n    }\n\n    JupyterCommManager.prototype.get_client_comm = function(plot_id, comm_id, msg_handler) {\n      if (comm_id in window.PyViz.comms) {\n        return window.PyViz.comms[comm_id];\n      } else if (window.comm_manager || ((window.Jupyter !== undefined) && (Jupyter.notebook.kernel != null))) {\n        var comm_manager = window.comm_manager || Jupyter.notebook.kernel.comm_manager;\n        var comm = comm_manager.new_comm(comm_id, {}, {}, {}, comm_id);\n        if (msg_handler) {\n          comm.on_msg(msg_handler);\n        }\n      } else if ((plot_id in window.PyViz.kernels) && (window.PyViz.kernels[plot_id])) {\n        var comm = window.PyViz.kernels[plot_id].connectToComm(comm_id);\n        comm.open();\n        if (msg_handler) {\n          comm.onMsg = msg_handler;\n        }\n      } else if (typeof google != 'undefined' && google.colab.kernel != null) {\n        var comm_promise = google.colab.kernel.comms.open(comm_id)\n        comm_promise.then((comm) => {\n          window.PyViz.comms[comm_id] = comm;\n          if (msg_handler) {\n            var messages = comm.messages[Symbol.asyncIterator]();\n            function processIteratorResult(result) {\n              var message = result.value;\n              var content = {data: message.data};\n              var metadata = message.metadata || {comm_id};\n              var msg = {content, metadata}\n              msg_handler(msg);\n              return messages.next().then(processIteratorResult);\n            }\n            return messages.next().then(processIteratorResult);\n          }\n        })\n        var sendClosure = (data, metadata, buffers, disposeOnDone) => {\n          return comm_promise.then((comm) => {\n            comm.send(data, metadata, buffers, disposeOnDone);\n          });\n        };\n        var comm = {\n          send: sendClosure\n        };\n      }\n      window.PyViz.comms[comm_id] = comm;\n      return comm;\n    }\n    window.PyViz.comm_manager = new JupyterCommManager();\n    \n\n\nvar JS_MIME_TYPE = 'application/javascript';\nvar HTML_MIME_TYPE = 'text/html';\nvar EXEC_MIME_TYPE = 'application/vnd.holoviews_exec.v0+json';\nvar CLASS_NAME = 'output';\n\n/**\n * Render data to the DOM node\n */\nfunction render(props, node) {\n  var div = document.createElement(\"div\");\n  var script = document.createElement(\"script\");\n  node.appendChild(div);\n  node.appendChild(script);\n}\n\n/**\n * Handle when a new output is added\n */\nfunction handle_add_output(event, handle) {\n  var output_area = handle.output_area;\n  var output = handle.output;\n  if ((output.data == undefined) || (!output.data.hasOwnProperty(EXEC_MIME_TYPE))) {\n    return\n  }\n  var id = output.metadata[EXEC_MIME_TYPE][\"id\"];\n  var toinsert = output_area.element.find(\".\" + CLASS_NAME.split(' ')[0]);\n  if (id !== undefined) {\n    var nchildren = toinsert.length;\n    var html_node = toinsert[nchildren-1].children[0];\n    html_node.innerHTML = output.data[HTML_MIME_TYPE];\n    var scripts = [];\n    var nodelist = html_node.querySelectorAll(\"script\");\n    for (var i in nodelist) {\n      if (nodelist.hasOwnProperty(i)) {\n        scripts.push(nodelist[i])\n      }\n    }\n\n    scripts.forEach( function (oldScript) {\n      var newScript = document.createElement(\"script\");\n      var attrs = [];\n      var nodemap = oldScript.attributes;\n      for (var j in nodemap) {\n        if (nodemap.hasOwnProperty(j)) {\n          attrs.push(nodemap[j])\n        }\n      }\n      attrs.forEach(function(attr) { newScript.setAttribute(attr.name, attr.value) });\n      newScript.appendChild(document.createTextNode(oldScript.innerHTML));\n      oldScript.parentNode.replaceChild(newScript, oldScript);\n    });\n    if (JS_MIME_TYPE in output.data) {\n      toinsert[nchildren-1].children[1].textContent = output.data[JS_MIME_TYPE];\n    }\n    output_area._hv_plot_id = id;\n    if ((window.Bokeh !== undefined) && (id in Bokeh.index)) {\n      window.PyViz.plot_index[id] = Bokeh.index[id];\n    } else {\n      window.PyViz.plot_index[id] = null;\n    }\n  } else if (output.metadata[EXEC_MIME_TYPE][\"server_id\"] !== undefined) {\n    var bk_div = document.createElement(\"div\");\n    bk_div.innerHTML = output.data[HTML_MIME_TYPE];\n    var script_attrs = bk_div.children[0].attributes;\n    for (var i = 0; i < script_attrs.length; i++) {\n      toinsert[toinsert.length - 1].childNodes[1].setAttribute(script_attrs[i].name, script_attrs[i].value);\n    }\n    // store reference to server id on output_area\n    output_area._bokeh_server_id = output.metadata[EXEC_MIME_TYPE][\"server_id\"];\n  }\n}\n\n/**\n * Handle when an output is cleared or removed\n */\nfunction handle_clear_output(event, handle) {\n  var id = handle.cell.output_area._hv_plot_id;\n  var server_id = handle.cell.output_area._bokeh_server_id;\n  if (((id === undefined) || !(id in PyViz.plot_index)) && (server_id !== undefined)) { return; }\n  var comm = window.PyViz.comm_manager.get_client_comm(\"hv-extension-comm\", \"hv-extension-comm\", function () {});\n  if (server_id !== null) {\n    comm.send({event_type: 'server_delete', 'id': server_id});\n    return;\n  } else if (comm !== null) {\n    comm.send({event_type: 'delete', 'id': id});\n  }\n  delete PyViz.plot_index[id];\n  if ((window.Bokeh !== undefined) & (id in window.Bokeh.index)) {\n    var doc = window.Bokeh.index[id].model.document\n    doc.clear();\n    const i = window.Bokeh.documents.indexOf(doc);\n    if (i > -1) {\n      window.Bokeh.documents.splice(i, 1);\n    }\n  }\n}\n\n/**\n * Handle kernel restart event\n */\nfunction handle_kernel_cleanup(event, handle) {\n  delete PyViz.comms[\"hv-extension-comm\"];\n  window.PyViz.plot_index = {}\n}\n\n/**\n * Handle update_display_data messages\n */\nfunction handle_update_output(event, handle) {\n  handle_clear_output(event, {cell: {output_area: handle.output_area}})\n  handle_add_output(event, handle)\n}\n\nfunction register_renderer(events, OutputArea) {\n  function append_mime(data, metadata, element) {\n    // create a DOM node to render to\n    var toinsert = this.create_output_subarea(\n    metadata,\n    CLASS_NAME,\n    EXEC_MIME_TYPE\n    );\n    this.keyboard_manager.register_events(toinsert);\n    // Render to node\n    var props = {data: data, metadata: metadata[EXEC_MIME_TYPE]};\n    render(props, toinsert[0]);\n    element.append(toinsert);\n    return toinsert\n  }\n\n  events.on('output_added.OutputArea', handle_add_output);\n  events.on('output_updated.OutputArea', handle_update_output);\n  events.on('clear_output.CodeCell', handle_clear_output);\n  events.on('delete.Cell', handle_clear_output);\n  events.on('kernel_ready.Kernel', handle_kernel_cleanup);\n\n  OutputArea.prototype.register_mime_type(EXEC_MIME_TYPE, append_mime, {\n    safe: true,\n    index: 0\n  });\n}\n\nif (window.Jupyter !== undefined) {\n  try {\n    var events = require('base/js/events');\n    var OutputArea = require('notebook/js/outputarea').OutputArea;\n    if (OutputArea.prototype.mime_types().indexOf(EXEC_MIME_TYPE) == -1) {\n      register_renderer(events, OutputArea);\n    }\n  } catch(err) {\n  }\n}\n",
      "application/vnd.holoviews_load.v0+json": ""
     },
     "metadata": {},
     "output_type": "display_data"
    },
    {
     "data": {
      "application/vnd.holoviews_exec.v0+json": "",
      "text/html": [
       "<div id='1054451f-72ca-4de1-92bf-9f027471c595'>\n",
       "  <div id=\"a3377042-0cfd-41fd-bd06-231f99eacf87\" data-root-id=\"1054451f-72ca-4de1-92bf-9f027471c595\" style=\"display: contents;\"></div>\n",
       "</div>\n",
       "<script type=\"application/javascript\">(function(root) {\n",
       "  var docs_json = {\"8b1bf0d0-6dae-4076-943f-a33aef690859\":{\"version\":\"3.7.2\",\"title\":\"Bokeh Application\",\"roots\":[{\"type\":\"object\",\"name\":\"panel.models.browser.BrowserInfo\",\"id\":\"1054451f-72ca-4de1-92bf-9f027471c595\"},{\"type\":\"object\",\"name\":\"panel.models.comm_manager.CommManager\",\"id\":\"fce0e145-088f-49e7-bc9d-c3e1530d0e59\",\"attributes\":{\"plot_id\":\"1054451f-72ca-4de1-92bf-9f027471c595\",\"comm_id\":\"3a9c4cc8f5714f58af2c0fbaa5231650\",\"client_comm_id\":\"f920809ea9394b708b4e45bb63014668\"}}],\"defs\":[{\"type\":\"model\",\"name\":\"ReactiveHTML1\"},{\"type\":\"model\",\"name\":\"FlexBox1\",\"properties\":[{\"name\":\"align_content\",\"kind\":\"Any\",\"default\":\"flex-start\"},{\"name\":\"align_items\",\"kind\":\"Any\",\"default\":\"flex-start\"},{\"name\":\"flex_direction\",\"kind\":\"Any\",\"default\":\"row\"},{\"name\":\"flex_wrap\",\"kind\":\"Any\",\"default\":\"wrap\"},{\"name\":\"gap\",\"kind\":\"Any\",\"default\":\"\"},{\"name\":\"justify_content\",\"kind\":\"Any\",\"default\":\"flex-start\"}]},{\"type\":\"model\",\"name\":\"FloatPanel1\",\"properties\":[{\"name\":\"config\",\"kind\":\"Any\",\"default\":{\"type\":\"map\"}},{\"name\":\"contained\",\"kind\":\"Any\",\"default\":true},{\"name\":\"position\",\"kind\":\"Any\",\"default\":\"right-top\"},{\"name\":\"offsetx\",\"kind\":\"Any\",\"default\":null},{\"name\":\"offsety\",\"kind\":\"Any\",\"default\":null},{\"name\":\"theme\",\"kind\":\"Any\",\"default\":\"primary\"},{\"name\":\"status\",\"kind\":\"Any\",\"default\":\"normalized\"}]},{\"type\":\"model\",\"name\":\"GridStack1\",\"properties\":[{\"name\":\"ncols\",\"kind\":\"Any\",\"default\":null},{\"name\":\"nrows\",\"kind\":\"Any\",\"default\":null},{\"name\":\"allow_resize\",\"kind\":\"Any\",\"default\":true},{\"name\":\"allow_drag\",\"kind\":\"Any\",\"default\":true},{\"name\":\"state\",\"kind\":\"Any\",\"default\":[]}]},{\"type\":\"model\",\"name\":\"drag1\",\"properties\":[{\"name\":\"slider_width\",\"kind\":\"Any\",\"default\":5},{\"name\":\"slider_color\",\"kind\":\"Any\",\"default\":\"black\"},{\"name\":\"value\",\"kind\":\"Any\",\"default\":50}]},{\"type\":\"model\",\"name\":\"click1\",\"properties\":[{\"name\":\"terminal_output\",\"kind\":\"Any\",\"default\":\"\"},{\"name\":\"debug_name\",\"kind\":\"Any\",\"default\":\"\"},{\"name\":\"clears\",\"kind\":\"Any\",\"default\":0}]},{\"type\":\"model\",\"name\":\"FastWrapper1\",\"properties\":[{\"name\":\"object\",\"kind\":\"Any\",\"default\":null},{\"name\":\"style\",\"kind\":\"Any\",\"default\":null}]},{\"type\":\"model\",\"name\":\"NotificationArea1\",\"properties\":[{\"name\":\"js_events\",\"kind\":\"Any\",\"default\":{\"type\":\"map\"}},{\"name\":\"max_notifications\",\"kind\":\"Any\",\"default\":5},{\"name\":\"notifications\",\"kind\":\"Any\",\"default\":[]},{\"name\":\"position\",\"kind\":\"Any\",\"default\":\"bottom-right\"},{\"name\":\"_clear\",\"kind\":\"Any\",\"default\":0},{\"name\":\"types\",\"kind\":\"Any\",\"default\":[{\"type\":\"map\",\"entries\":[[\"type\",\"warning\"],[\"background\",\"#ffc107\"],[\"icon\",{\"type\":\"map\",\"entries\":[[\"className\",\"fas fa-exclamation-triangle\"],[\"tagName\",\"i\"],[\"color\",\"white\"]]}]]},{\"type\":\"map\",\"entries\":[[\"type\",\"info\"],[\"background\",\"#007bff\"],[\"icon\",{\"type\":\"map\",\"entries\":[[\"className\",\"fas fa-info-circle\"],[\"tagName\",\"i\"],[\"color\",\"white\"]]}]]}]}]},{\"type\":\"model\",\"name\":\"Notification\",\"properties\":[{\"name\":\"background\",\"kind\":\"Any\",\"default\":null},{\"name\":\"duration\",\"kind\":\"Any\",\"default\":3000},{\"name\":\"icon\",\"kind\":\"Any\",\"default\":null},{\"name\":\"message\",\"kind\":\"Any\",\"default\":\"\"},{\"name\":\"notification_type\",\"kind\":\"Any\",\"default\":null},{\"name\":\"_rendered\",\"kind\":\"Any\",\"default\":false},{\"name\":\"_destroyed\",\"kind\":\"Any\",\"default\":false}]},{\"type\":\"model\",\"name\":\"TemplateActions1\",\"properties\":[{\"name\":\"open_modal\",\"kind\":\"Any\",\"default\":0},{\"name\":\"close_modal\",\"kind\":\"Any\",\"default\":0}]},{\"type\":\"model\",\"name\":\"BootstrapTemplateActions1\",\"properties\":[{\"name\":\"open_modal\",\"kind\":\"Any\",\"default\":0},{\"name\":\"close_modal\",\"kind\":\"Any\",\"default\":0}]},{\"type\":\"model\",\"name\":\"TemplateEditor1\",\"properties\":[{\"name\":\"layout\",\"kind\":\"Any\",\"default\":[]}]},{\"type\":\"model\",\"name\":\"MaterialTemplateActions1\",\"properties\":[{\"name\":\"open_modal\",\"kind\":\"Any\",\"default\":0},{\"name\":\"close_modal\",\"kind\":\"Any\",\"default\":0}]},{\"type\":\"model\",\"name\":\"ReactiveESM1\",\"properties\":[{\"name\":\"esm_constants\",\"kind\":\"Any\",\"default\":{\"type\":\"map\"}}]},{\"type\":\"model\",\"name\":\"JSComponent1\",\"properties\":[{\"name\":\"esm_constants\",\"kind\":\"Any\",\"default\":{\"type\":\"map\"}}]},{\"type\":\"model\",\"name\":\"ReactComponent1\",\"properties\":[{\"name\":\"esm_constants\",\"kind\":\"Any\",\"default\":{\"type\":\"map\"}}]},{\"type\":\"model\",\"name\":\"AnyWidgetComponent1\",\"properties\":[{\"name\":\"esm_constants\",\"kind\":\"Any\",\"default\":{\"type\":\"map\"}}]},{\"type\":\"model\",\"name\":\"request_value1\",\"properties\":[{\"name\":\"fill\",\"kind\":\"Any\",\"default\":\"none\"},{\"name\":\"_synced\",\"kind\":\"Any\",\"default\":null},{\"name\":\"_request_sync\",\"kind\":\"Any\",\"default\":0}]}]}};\n",
       "  var render_items = [{\"docid\":\"8b1bf0d0-6dae-4076-943f-a33aef690859\",\"roots\":{\"1054451f-72ca-4de1-92bf-9f027471c595\":\"a3377042-0cfd-41fd-bd06-231f99eacf87\"},\"root_ids\":[\"1054451f-72ca-4de1-92bf-9f027471c595\"]}];\n",
       "  var docs = Object.values(docs_json)\n",
       "  if (!docs) {\n",
       "    return\n",
       "  }\n",
       "  const py_version = docs[0].version.replace('rc', '-rc.').replace('.dev', '-dev.')\n",
       "  async function embed_document(root) {\n",
       "    var Bokeh = get_bokeh(root)\n",
       "    await Bokeh.embed.embed_items_notebook(docs_json, render_items);\n",
       "    for (const render_item of render_items) {\n",
       "      for (const root_id of render_item.root_ids) {\n",
       "\tconst id_el = document.getElementById(root_id)\n",
       "\tif (id_el.children.length && id_el.children[0].hasAttribute('data-root-id')) {\n",
       "\t  const root_el = id_el.children[0]\n",
       "\t  root_el.id = root_el.id + '-rendered'\n",
       "\t  for (const child of root_el.children) {\n",
       "            // Ensure JupyterLab does not capture keyboard shortcuts\n",
       "            // see: https://jupyterlab.readthedocs.io/en/4.1.x/extension/notebook.html#keyboard-interaction-model\n",
       "\t    child.setAttribute('data-lm-suppress-shortcuts', 'true')\n",
       "\t  }\n",
       "\t}\n",
       "      }\n",
       "    }\n",
       "  }\n",
       "  function get_bokeh(root) {\n",
       "    if (root.Bokeh === undefined) {\n",
       "      return null\n",
       "    } else if (root.Bokeh.version !== py_version) {\n",
       "      if (root.Bokeh.versions === undefined || !root.Bokeh.versions.has(py_version)) {\n",
       "\treturn null\n",
       "      }\n",
       "      return root.Bokeh.versions.get(py_version);\n",
       "    } else if (root.Bokeh.version === py_version) {\n",
       "      return root.Bokeh\n",
       "    }\n",
       "    return null\n",
       "  }\n",
       "  function is_loaded(root) {\n",
       "    var Bokeh = get_bokeh(root)\n",
       "    return (Bokeh != null && Bokeh.Panel !== undefined)\n",
       "  }\n",
       "  if (is_loaded(root)) {\n",
       "    embed_document(root);\n",
       "  } else {\n",
       "    var attempts = 0;\n",
       "    var timer = setInterval(function(root) {\n",
       "      if (is_loaded(root)) {\n",
       "        clearInterval(timer);\n",
       "        embed_document(root);\n",
       "      } else if (document.readyState == \"complete\") {\n",
       "        attempts++;\n",
       "        if (attempts > 200) {\n",
       "          clearInterval(timer);\n",
       "\t  var Bokeh = get_bokeh(root)\n",
       "\t  if (Bokeh == null || Bokeh.Panel == null) {\n",
       "            console.warn(\"Panel: ERROR: Unable to run Panel code because Bokeh or Panel library is missing\");\n",
       "\t  } else {\n",
       "\t    console.warn(\"Panel: WARNING: Attempting to render but not all required libraries could be resolved.\")\n",
       "\t    embed_document(root)\n",
       "\t  }\n",
       "        }\n",
       "      }\n",
       "    }, 25, root)\n",
       "  }\n",
       "})(window);</script>"
      ]
     },
     "metadata": {
      "application/vnd.holoviews_exec.v0+json": {
       "id": "1054451f-72ca-4de1-92bf-9f027471c595"
      }
     },
     "output_type": "display_data"
    }
   ],
   "source": [
    "from bs4 import BeautifulSoup\n",
    "# import pandas as pd\n",
    "from datetime import datetime, timedelta\n",
    "from itertools import combinations\n",
    "import json\n",
    "import requests\n",
    "import math\n",
    "from typing import Optional, List, Dict\n",
    "import os\n",
    "\n",
    "from pydantic import BaseModel\n",
    "from typing import Mapping\n",
    "import numpy as np\n",
    "import polars as pl\n",
    "import hvplot.polars\n",
    "import pandas as pd\n",
    "import altair as alt\n",
    "import math\n",
    "\n",
    "from shared.utils import formalize_data_with_str\n",
    "from shared.random_rules import RandomRules"
   ]
  },
  {
   "cell_type": "code",
   "execution_count": 2,
   "metadata": {},
   "outputs": [],
   "source": [
    "rr = RandomRules(\n",
    "  TOTAL_NUMBERS = 50,\n",
    "  CHOOSE = 6,\n",
    "  MAX_PRIMES = 3,\n",
    "  N_VALUES=[\"1\", \"2\", \"3\"],\n",
    "  # Rangos de valores de las bolillas\n",
    "  MIN_B_VALUES = [1, 2, 3, 4, 5, 6],\n",
    "  MAX_B_VALUES = [45, 46, 47, 48, 49, 50]\n",
    ")"
   ]
  },
  {
   "cell_type": "code",
   "execution_count": 3,
   "metadata": {},
   "outputs": [],
   "source": [
    "url = 'https://resultados.latinka.com.pe/i.do?m=historico&t=0&s=41'\n",
    "response = requests.get(url)\n",
    "soup = BeautifulSoup(response.text, 'html.parser')\n",
    "\n",
    "tables = soup.select('table')\n",
    "rows = tables[1].find_all('tr')"
   ]
  },
  {
   "cell_type": "code",
   "execution_count": 4,
   "metadata": {},
   "outputs": [
    {
     "name": "stdout",
     "output_type": "stream",
     "text": [
      "TOTAL_LINES=2476\n"
     ]
    },
    {
     "data": {
      "text/html": [
       "<div><style>\n",
       ".dataframe > thead > tr,\n",
       ".dataframe > tbody > tr {\n",
       "  text-align: right;\n",
       "  white-space: pre-wrap;\n",
       "}\n",
       "</style>\n",
       "<small>shape: (10, 30)</small><table border=\"1\" class=\"dataframe\"><thead><tr><th>fecha</th><th>sorteo</th><th>bolillas</th><th>yapa</th><th>adicionales</th><th>sorteo_extra</th><th>id</th><th>combo</th><th>b1</th><th>b2</th><th>b3</th><th>b4</th><th>b5</th><th>b6</th><th>str_b1</th><th>str_b2</th><th>str_b3</th><th>str_b4</th><th>str_b5</th><th>str_b6</th><th>post_str_b1</th><th>post_str_b2</th><th>post_str_b3</th><th>post_str_b4</th><th>post_str_b5</th><th>post_str_blast</th><th>is_rare_combination</th><th>reason</th><th>jumps_map</th><th>unijump</th></tr><tr><td>str</td><td>str</td><td>str</td><td>str</td><td>str</td><td>str</td><td>str</td><td>array[u8, 6]</td><td>u8</td><td>u8</td><td>u8</td><td>u8</td><td>u8</td><td>u8</td><td>str</td><td>str</td><td>str</td><td>str</td><td>str</td><td>str</td><td>str</td><td>str</td><td>str</td><td>str</td><td>str</td><td>str</td><td>bool</td><td>u8</td><td>str</td><td>i64</td></tr></thead><tbody><tr><td>&quot;14/05/2025&quot;</td><td>&quot;1194&quot;</td><td>&quot;38 07 12 13 04 09&quot;</td><td>&quot;42&quot;</td><td>&quot;46 28&quot;</td><td>&quot;Promoción Sí o Sí&quot;</td><td>&quot;040709121338&quot;</td><td>[4, 7, … 38]</td><td>4</td><td>7</td><td>9</td><td>12</td><td>13</td><td>38</td><td>&quot;04&quot;</td><td>&quot;07&quot;</td><td>&quot;09&quot;</td><td>&quot;12&quot;</td><td>&quot;13&quot;</td><td>&quot;38&quot;</td><td>null</td><td>null</td><td>null</td><td>null</td><td>null</td><td>null</td><td>false</td><td>0</td><td>&quot;03_02_03_01_25&quot;</td><td>34</td></tr><tr><td>&quot;11/05/2025&quot;</td><td>&quot;1193&quot;</td><td>&quot;46 21 49 45 03 43&quot;</td><td>&quot;17&quot;</td><td>&quot;20 30 32 44&quot;</td><td>&quot;Promoción Sí o Sí&quot;</td><td>&quot;032143454649&quot;</td><td>[3, 21, … 49]</td><td>3</td><td>21</td><td>43</td><td>45</td><td>46</td><td>49</td><td>&quot;03&quot;</td><td>&quot;21&quot;</td><td>&quot;43&quot;</td><td>&quot;45&quot;</td><td>&quot;46&quot;</td><td>&quot;49&quot;</td><td>&quot;04&quot;</td><td>&quot;07&quot;</td><td>&quot;09&quot;</td><td>&quot;12&quot;</td><td>&quot;13&quot;</td><td>&quot;38&quot;</td><td>false</td><td>0</td><td>&quot;18_22_02_01_03&quot;</td><td>-59</td></tr><tr><td>&quot;07/05/2025&quot;</td><td>&quot;1192&quot;</td><td>&quot;48 02 38 50 33 35&quot;</td><td>&quot;49&quot;</td><td>&quot;20 16&quot;</td><td>&quot;Promoción Sí o Sí&quot;</td><td>&quot;023335384850&quot;</td><td>[2, 33, … 50]</td><td>2</td><td>33</td><td>35</td><td>38</td><td>48</td><td>50</td><td>&quot;02&quot;</td><td>&quot;33&quot;</td><td>&quot;35&quot;</td><td>&quot;38&quot;</td><td>&quot;48&quot;</td><td>&quot;50&quot;</td><td>&quot;03&quot;</td><td>&quot;21&quot;</td><td>&quot;43&quot;</td><td>&quot;45&quot;</td><td>&quot;46&quot;</td><td>&quot;49&quot;</td><td>true</td><td>16</td><td>&quot;31_02_03_10_02&quot;</td><td>3</td></tr><tr><td>&quot;04/05/2025&quot;</td><td>&quot;1191&quot;</td><td>&quot;09 35 19 15 37 10&quot;</td><td>&quot;46&quot;</td><td>&quot;25 02 38&quot;</td><td>&quot;Promoción Sí o Sí&quot;</td><td>&quot;091015193537&quot;</td><td>[9, 10, … 37]</td><td>9</td><td>10</td><td>15</td><td>19</td><td>35</td><td>37</td><td>&quot;09&quot;</td><td>&quot;10&quot;</td><td>&quot;15&quot;</td><td>&quot;19&quot;</td><td>&quot;35&quot;</td><td>&quot;37&quot;</td><td>&quot;02&quot;</td><td>&quot;33&quot;</td><td>&quot;35&quot;</td><td>&quot;38&quot;</td><td>&quot;48&quot;</td><td>&quot;50&quot;</td><td>true</td><td>16</td><td>&quot;01_05_04_16_02&quot;</td><td>-57</td></tr><tr><td>&quot;30/04/2025&quot;</td><td>&quot;1190&quot;</td><td>&quot;11 36 33 06 02 16&quot;</td><td>&quot;37&quot;</td><td>&quot;14 07 10 01&quot;</td><td>&quot;Promoción Sí o Sí&quot;</td><td>&quot;020611163336&quot;</td><td>[2, 6, … 36]</td><td>2</td><td>6</td><td>11</td><td>16</td><td>33</td><td>36</td><td>&quot;02&quot;</td><td>&quot;06&quot;</td><td>&quot;11&quot;</td><td>&quot;16&quot;</td><td>&quot;33&quot;</td><td>&quot;36&quot;</td><td>&quot;09&quot;</td><td>&quot;10&quot;</td><td>&quot;15&quot;</td><td>&quot;19&quot;</td><td>&quot;35&quot;</td><td>&quot;37&quot;</td><td>true</td><td>8</td><td>&quot;04_05_05_17_03&quot;</td><td>-51</td></tr><tr><td>&quot;27/04/2025&quot;</td><td>&quot;1189&quot;</td><td>&quot;46 33 21 08 07 41&quot;</td><td>&quot;39&quot;</td><td>&quot;36 09 37&quot;</td><td>&quot;Promoción Sí o Sí&quot;</td><td>&quot;070821334146&quot;</td><td>[7, 8, … 46]</td><td>7</td><td>8</td><td>21</td><td>33</td><td>41</td><td>46</td><td>&quot;07&quot;</td><td>&quot;08&quot;</td><td>&quot;21&quot;</td><td>&quot;33&quot;</td><td>&quot;41&quot;</td><td>&quot;46&quot;</td><td>&quot;02&quot;</td><td>&quot;06&quot;</td><td>&quot;11&quot;</td><td>&quot;16&quot;</td><td>&quot;33&quot;</td><td>&quot;36&quot;</td><td>false</td><td>0</td><td>&quot;01_13_12_08_05&quot;</td><td>-6</td></tr><tr><td>&quot;23/04/2025&quot;</td><td>&quot;1188&quot;</td><td>&quot;22 16 20 33 35 09&quot;</td><td>&quot;46&quot;</td><td>&quot;24&quot;</td><td>&quot;Promoción Sí o Sí&quot;</td><td>&quot;091620223335&quot;</td><td>[9, 16, … 35]</td><td>9</td><td>16</td><td>20</td><td>22</td><td>33</td><td>35</td><td>&quot;09&quot;</td><td>&quot;16&quot;</td><td>&quot;20&quot;</td><td>&quot;22&quot;</td><td>&quot;33&quot;</td><td>&quot;35&quot;</td><td>&quot;07&quot;</td><td>&quot;08&quot;</td><td>&quot;21&quot;</td><td>&quot;33&quot;</td><td>&quot;41&quot;</td><td>&quot;46&quot;</td><td>false</td><td>0</td><td>&quot;07_04_02_11_02&quot;</td><td>-39</td></tr><tr><td>&quot;20/04/2025&quot;</td><td>&quot;1187&quot;</td><td>&quot;33 02 06 42 34 11&quot;</td><td>&quot;37&quot;</td><td>&quot;49 20&quot;</td><td>&quot;Promoción Sí o Sí&quot;</td><td>&quot;020611333442&quot;</td><td>[2, 6, … 42]</td><td>2</td><td>6</td><td>11</td><td>33</td><td>34</td><td>42</td><td>&quot;02&quot;</td><td>&quot;06&quot;</td><td>&quot;11&quot;</td><td>&quot;33&quot;</td><td>&quot;34&quot;</td><td>&quot;42&quot;</td><td>&quot;09&quot;</td><td>&quot;16&quot;</td><td>&quot;20&quot;</td><td>&quot;22&quot;</td><td>&quot;33&quot;</td><td>&quot;35&quot;</td><td>false</td><td>0</td><td>&quot;04_05_22_01_08&quot;</td><td>120</td></tr><tr><td>&quot;16/04/2025&quot;</td><td>&quot;1186&quot;</td><td>&quot;14 31 46 38 48 12&quot;</td><td>&quot;15&quot;</td><td>&quot;39 30&quot;</td><td>&quot;Promoción Sí o Sí&quot;</td><td>&quot;121431384648&quot;</td><td>[12, 14, … 48]</td><td>12</td><td>14</td><td>31</td><td>38</td><td>46</td><td>48</td><td>&quot;12&quot;</td><td>&quot;14&quot;</td><td>&quot;31&quot;</td><td>&quot;38&quot;</td><td>&quot;46&quot;</td><td>&quot;48&quot;</td><td>&quot;02&quot;</td><td>&quot;06&quot;</td><td>&quot;11&quot;</td><td>&quot;33&quot;</td><td>&quot;34&quot;</td><td>&quot;42&quot;</td><td>false</td><td>0</td><td>&quot;02_17_07_08_02&quot;</td><td>-54</td></tr><tr><td>&quot;13/04/2025&quot;</td><td>&quot;1185&quot;</td><td>&quot;22 36 39 48 46 44&quot;</td><td>&quot;28&quot;</td><td>&quot;09 40&quot;</td><td>&quot;Promoción Sí o Sí&quot;</td><td>&quot;223639444648&quot;</td><td>[22, 36, … 48]</td><td>22</td><td>36</td><td>39</td><td>44</td><td>46</td><td>48</td><td>&quot;22&quot;</td><td>&quot;36&quot;</td><td>&quot;39&quot;</td><td>&quot;44&quot;</td><td>&quot;46&quot;</td><td>&quot;48&quot;</td><td>&quot;12&quot;</td><td>&quot;14&quot;</td><td>&quot;31&quot;</td><td>&quot;38&quot;</td><td>&quot;46&quot;</td><td>&quot;48&quot;</td><td>true</td><td>24</td><td>&quot;14_03_05_02_02&quot;</td><td>26</td></tr></tbody></table></div>"
      ],
      "text/plain": [
       "shape: (10, 30)\n",
       "┌────────────┬────────┬───────────────┬──────┬───┬───────────────┬────────┬──────────────┬─────────┐\n",
       "│ fecha      ┆ sorteo ┆ bolillas      ┆ yapa ┆ … ┆ is_rare_combi ┆ reason ┆ jumps_map    ┆ unijump │\n",
       "│ ---        ┆ ---    ┆ ---           ┆ ---  ┆   ┆ nation        ┆ ---    ┆ ---          ┆ ---     │\n",
       "│ str        ┆ str    ┆ str           ┆ str  ┆   ┆ ---           ┆ u8     ┆ str          ┆ i64     │\n",
       "│            ┆        ┆               ┆      ┆   ┆ bool          ┆        ┆              ┆         │\n",
       "╞════════════╪════════╪═══════════════╪══════╪═══╪═══════════════╪════════╪══════════════╪═════════╡\n",
       "│ 14/05/2025 ┆ 1194   ┆ 38 07 12 13   ┆ 42   ┆ … ┆ false         ┆ 0      ┆ 03_02_03_01_ ┆ 34      │\n",
       "│            ┆        ┆ 04 09         ┆      ┆   ┆               ┆        ┆ 25           ┆         │\n",
       "│ 11/05/2025 ┆ 1193   ┆ 46 21 49 45   ┆ 17   ┆ … ┆ false         ┆ 0      ┆ 18_22_02_01_ ┆ -59     │\n",
       "│            ┆        ┆ 03 43         ┆      ┆   ┆               ┆        ┆ 03           ┆         │\n",
       "│ 07/05/2025 ┆ 1192   ┆ 48 02 38 50   ┆ 49   ┆ … ┆ true          ┆ 16     ┆ 31_02_03_10_ ┆ 3       │\n",
       "│            ┆        ┆ 33 35         ┆      ┆   ┆               ┆        ┆ 02           ┆         │\n",
       "│ 04/05/2025 ┆ 1191   ┆ 09 35 19 15   ┆ 46   ┆ … ┆ true          ┆ 16     ┆ 01_05_04_16_ ┆ -57     │\n",
       "│            ┆        ┆ 37 10         ┆      ┆   ┆               ┆        ┆ 02           ┆         │\n",
       "│ 30/04/2025 ┆ 1190   ┆ 11 36 33 06   ┆ 37   ┆ … ┆ true          ┆ 8      ┆ 04_05_05_17_ ┆ -51     │\n",
       "│            ┆        ┆ 02 16         ┆      ┆   ┆               ┆        ┆ 03           ┆         │\n",
       "│ 27/04/2025 ┆ 1189   ┆ 46 33 21 08   ┆ 39   ┆ … ┆ false         ┆ 0      ┆ 01_13_12_08_ ┆ -6      │\n",
       "│            ┆        ┆ 07 41         ┆      ┆   ┆               ┆        ┆ 05           ┆         │\n",
       "│ 23/04/2025 ┆ 1188   ┆ 22 16 20 33   ┆ 46   ┆ … ┆ false         ┆ 0      ┆ 07_04_02_11_ ┆ -39     │\n",
       "│            ┆        ┆ 35 09         ┆      ┆   ┆               ┆        ┆ 02           ┆         │\n",
       "│ 20/04/2025 ┆ 1187   ┆ 33 02 06 42   ┆ 37   ┆ … ┆ false         ┆ 0      ┆ 04_05_22_01_ ┆ 120     │\n",
       "│            ┆        ┆ 34 11         ┆      ┆   ┆               ┆        ┆ 08           ┆         │\n",
       "│ 16/04/2025 ┆ 1186   ┆ 14 31 46 38   ┆ 15   ┆ … ┆ false         ┆ 0      ┆ 02_17_07_08_ ┆ -54     │\n",
       "│            ┆        ┆ 48 12         ┆      ┆   ┆               ┆        ┆ 02           ┆         │\n",
       "│ 13/04/2025 ┆ 1185   ┆ 22 36 39 48   ┆ 28   ┆ … ┆ true          ┆ 24     ┆ 14_03_05_02_ ┆ 26      │\n",
       "│            ┆        ┆ 46 44         ┆      ┆   ┆               ┆        ┆ 02           ┆         │\n",
       "└────────────┴────────┴───────────────┴──────┴───┴───────────────┴────────┴──────────────┴─────────┘"
      ]
     },
     "metadata": {},
     "output_type": "display_data"
    }
   ],
   "source": [
    "lst = []\n",
    "post_str_b1 = None\n",
    "post_str_b2 = None\n",
    "post_str_b3 = None\n",
    "post_str_b4 = None\n",
    "post_str_b5 = None\n",
    "post_str_blast = None\n",
    "for row in rows:\n",
    "  cols = [data.text.strip() for data in row.find_all('td')]\n",
    "  \n",
    "  id, bolillas_int, str_combo = formalize_data_with_str(bolillas_str=cols[2])\n",
    "  cols.append(id)\n",
    "  cols.append(bolillas_int)\n",
    "  cols.extend([b for b in bolillas_int])\n",
    "  cols.extend(str_combo)\n",
    "  cols.append(post_str_b1)\n",
    "  cols.append(post_str_b2)\n",
    "  cols.append(post_str_b3)\n",
    "  cols.append(post_str_b4)\n",
    "  cols.append(post_str_b5)\n",
    "  cols.append(post_str_blast)\n",
    "\n",
    "  is_rare, reason = rr.is_rare_combination(bolillas_int, id)\n",
    "  cols.append(is_rare)\n",
    "  cols.append(reason)\n",
    "\n",
    "  cols.append(rr.jumps_map(bolillas_int))\n",
    "  cols.append(rr.unijump(bolillas_int))\n",
    "  \n",
    "  lst.append(cols)\n",
    "\n",
    "  post_str_b1 = str_combo[0]\n",
    "  post_str_b2 = str_combo[1]\n",
    "  post_str_b3 = str_combo[2]\n",
    "  post_str_b4 = str_combo[3]\n",
    "  post_str_b5 = str_combo[4]\n",
    "  post_str_blast = str_combo[-1]\n",
    "\n",
    "with open('./gn_tnk_v3.json', 'w') as file: \n",
    "  json.dump(lst, file)\n",
    "\n",
    "dfRows = pl.DataFrame(\n",
    "  lst,\n",
    "  schema=[\n",
    "    'fecha', 'sorteo', 'bolillas', 'yapa', 'adicionales', 'sorteo_extra',\n",
    "    'id', 'combo', 'b1', 'b2', 'b3', 'b4', 'b5', 'b6',\n",
    "    'str_b1', 'str_b2', 'str_b3', 'str_b4', 'str_b5', 'str_b6',\n",
    "    'post_str_b1', 'post_str_b2', 'post_str_b3', 'post_str_b4', 'post_str_b5', 'post_str_blast',\n",
    "    'is_rare_combination', 'reason',\n",
    "    \"jumps_map\", \"unijump\"\n",
    "  ],\n",
    "  schema_overrides={\n",
    "    'combo': pl.Array(pl.UInt8, 6),\n",
    "    'b1': pl.UInt8,\n",
    "    'b2': pl.UInt8,\n",
    "    'b3': pl.UInt8,\n",
    "    'b4': pl.UInt8,\n",
    "    'b5': pl.UInt8,\n",
    "    'b6': pl.UInt8,\n",
    "    'reason': pl.UInt8\n",
    "  },\n",
    "  orient='row'\n",
    ")\n",
    "\n",
    "TOTAL_LINES = len(dfRows)\n",
    "print(f'{TOTAL_LINES=}')\n",
    "display(dfRows.head(10))\n",
    "dfRows.write_parquet('dfrows_tnk.parquet')"
   ]
  },
  {
   "cell_type": "code",
   "execution_count": 5,
   "metadata": {},
   "outputs": [
    {
     "data": {
      "text/plain": [
       "7"
      ]
     },
     "execution_count": 5,
     "metadata": {},
     "output_type": "execute_result"
    }
   ],
   "source": [
    "dfRows.item(0, 'b2')"
   ]
  },
  {
   "cell_type": "code",
   "execution_count": 6,
   "metadata": {},
   "outputs": [],
   "source": [
    "import holoviews as hv\n",
    "def plot_post_col (col: str, post_col: str, test_value: str | None = None):\n",
    "  if test_value == None:\n",
    "    test_value = dfRows.item(0, col)\n",
    "    print(f'Setting {test_value=}')\n",
    "\n",
    "  df_viz = dfRows \\\n",
    "    .filter(\n",
    "      pl.col(col) == test_value,\n",
    "      pl.col(post_col).is_not_null()\n",
    "    ) \\\n",
    "    .group_by(\n",
    "      post_col\n",
    "    ).agg(pl.count(post_col).alias('count')) \\\n",
    "    .sort(\"count\", descending=True)\n",
    "  \n",
    "  \n",
    "  df_10_last = dfRows \\\n",
    "    .filter(\n",
    "      pl.col(col) == test_value,\n",
    "      pl.col(post_col).is_not_null()\n",
    "    ) \\\n",
    "    .head(10)\n",
    "  \n",
    "  # Agrega una columna que sea el porcentaje de la frecuencia relativa\n",
    "  total = df_viz['count'].sum()\n",
    "  df_viz = df_viz.with_columns(\n",
    "    ( (pl.col('count') / total) * 100 ).alias('percent')\n",
    "  )\n",
    "\n",
    "  mean_percent = df_viz['percent'].mean()\n",
    "  mean_percent_75 = mean_percent * 75 / 50\n",
    "  mean_percent_25 = mean_percent * 25 / 50\n",
    "\n",
    "  chart = df_viz.hvplot.bar(\n",
    "    x=post_col,\n",
    "    y='percent'\n",
    "  )\n",
    "\n",
    "  chart = chart * hv.HLine(mean_percent).opts(color='red')\n",
    "  chart = chart * hv.HLine(mean_percent_75).opts(color='blue')\n",
    "  chart = chart * hv.HLine(mean_percent_25).opts(color='blue')\n",
    "  \n",
    "  chart.opts(default_tools=[\"pan\"])\n",
    "\n",
    "  df_jumps_map = dfRows \\\n",
    "    .filter(\n",
    "      pl.col(col) == test_value,\n",
    "      pl.col(post_col).is_not_null()\n",
    "    ) \\\n",
    "    .group_by(\n",
    "      'jumps_map'\n",
    "    ).agg(pl.count('jumps_map').alias('count')) \\\n",
    "    .sort(\"count\", descending=True)\n",
    "  \n",
    "  df_unijump = dfRows \\\n",
    "    .filter(\n",
    "      pl.col(col) == test_value,\n",
    "      pl.col(post_col).is_not_null()\n",
    "    ) \\\n",
    "    .group_by(\n",
    "      'unijump'\n",
    "    ).agg(pl.count('unijump').alias('count')) \\\n",
    "    .sort(\"count\", descending=True)\n",
    "\n",
    "\n",
    "  print(f'df_viz FOR {col} = {test_value}')\n",
    "  display(df_viz)\n",
    "\n",
    "  display(chart)\n",
    "  \n",
    "\n",
    "  print(f'df_10_last FOR {col} = {test_value}')\n",
    "  last_results = list(set(df_10_last[post_col][0:3]))\n",
    "  print(f'Last 3 results {last_results=}')\n",
    "  display(df_10_last)\n",
    "  \n",
    "  print(f'df_jumps_map FOR {col} = {test_value}')\n",
    "  display(df_jumps_map)\n",
    "  # display(df_unijump)\n",
    "\n",
    "  print(f'df_unijump FOR {col} = {test_value}')\n",
    "  display(df_unijump)\n",
    "\n",
    "  lst_post_str_b = df_viz.filter(pl.col('percent') >= mean_percent)[post_col].to_list()\n",
    "  lst_jumps_map = df_jumps_map['jumps_map'].to_list() # Used to discard\n",
    "  \n",
    "  return lst_post_str_b, lst_jumps_map, last_results"
   ]
  },
  {
   "cell_type": "code",
   "execution_count": 7,
   "metadata": {},
   "outputs": [
    {
     "name": "stdout",
     "output_type": "stream",
     "text": [
      "Setting test_value='04'\n",
      "df_viz FOR str_b1 = 04\n"
     ]
    },
    {
     "data": {
      "text/html": [
       "<div><style>\n",
       ".dataframe > thead > tr,\n",
       ".dataframe > tbody > tr {\n",
       "  text-align: right;\n",
       "  white-space: pre-wrap;\n",
       "}\n",
       "</style>\n",
       "<small>shape: (24, 3)</small><table border=\"1\" class=\"dataframe\"><thead><tr><th>post_str_b1</th><th>count</th><th>percent</th></tr><tr><td>str</td><td>u32</td><td>f64</td></tr></thead><tbody><tr><td>&quot;02&quot;</td><td>30</td><td>13.824885</td></tr><tr><td>&quot;05&quot;</td><td>26</td><td>11.981567</td></tr><tr><td>&quot;03&quot;</td><td>22</td><td>10.138249</td></tr><tr><td>&quot;01&quot;</td><td>22</td><td>10.138249</td></tr><tr><td>&quot;04&quot;</td><td>20</td><td>9.21659</td></tr><tr><td>&hellip;</td><td>&hellip;</td><td>&hellip;</td></tr><tr><td>&quot;19&quot;</td><td>2</td><td>0.921659</td></tr><tr><td>&quot;28&quot;</td><td>1</td><td>0.460829</td></tr><tr><td>&quot;22&quot;</td><td>1</td><td>0.460829</td></tr><tr><td>&quot;17&quot;</td><td>1</td><td>0.460829</td></tr><tr><td>&quot;21&quot;</td><td>1</td><td>0.460829</td></tr></tbody></table></div>"
      ],
      "text/plain": [
       "shape: (24, 3)\n",
       "┌─────────────┬───────┬───────────┐\n",
       "│ post_str_b1 ┆ count ┆ percent   │\n",
       "│ ---         ┆ ---   ┆ ---       │\n",
       "│ str         ┆ u32   ┆ f64       │\n",
       "╞═════════════╪═══════╪═══════════╡\n",
       "│ 02          ┆ 30    ┆ 13.824885 │\n",
       "│ 05          ┆ 26    ┆ 11.981567 │\n",
       "│ 03          ┆ 22    ┆ 10.138249 │\n",
       "│ 01          ┆ 22    ┆ 10.138249 │\n",
       "│ 04          ┆ 20    ┆ 9.21659   │\n",
       "│ …           ┆ …     ┆ …         │\n",
       "│ 19          ┆ 2     ┆ 0.921659  │\n",
       "│ 28          ┆ 1     ┆ 0.460829  │\n",
       "│ 22          ┆ 1     ┆ 0.460829  │\n",
       "│ 17          ┆ 1     ┆ 0.460829  │\n",
       "│ 21          ┆ 1     ┆ 0.460829  │\n",
       "└─────────────┴───────┴───────────┘"
      ]
     },
     "metadata": {},
     "output_type": "display_data"
    },
    {
     "data": {},
     "metadata": {},
     "output_type": "display_data"
    },
    {
     "data": {
      "application/vnd.holoviews_exec.v0+json": "",
      "text/html": [
       "<div id='894fe2d0-7bab-40ac-8da1-f9002e19ec79'>\n",
       "  <div id=\"c591a0ea-99c6-4ac6-9b9e-face2aadeb5f\" data-root-id=\"894fe2d0-7bab-40ac-8da1-f9002e19ec79\" style=\"display: contents;\"></div>\n",
       "</div>\n",
       "<script type=\"application/javascript\">(function(root) {\n",
       "  var docs_json = {\"30c71d18-b7d9-4486-9833-294f305b7f95\":{\"version\":\"3.7.2\",\"title\":\"Bokeh Application\",\"roots\":[{\"type\":\"object\",\"name\":\"Row\",\"id\":\"894fe2d0-7bab-40ac-8da1-f9002e19ec79\",\"attributes\":{\"name\":\"Row00286\",\"tags\":[\"embedded\"],\"stylesheets\":[\"\\n:host(.pn-loading):before, .pn-loading:before {\\n  background-color: #c3c3c3;\\n  mask-size: auto calc(min(50%, 400px));\\n  -webkit-mask-size: auto calc(min(50%, 400px));\\n}\",{\"type\":\"object\",\"name\":\"ImportedStyleSheet\",\"id\":\"d3607e25-7d4d-4ec0-b642-36fc33a4434d\",\"attributes\":{\"url\":\"https://cdn.holoviz.org/panel/1.6.2/dist/css/loading.css\"}},{\"type\":\"object\",\"name\":\"ImportedStyleSheet\",\"id\":\"02c32829-d577-486f-ace2-5e7e9f640c4b\",\"attributes\":{\"url\":\"https://cdn.holoviz.org/panel/1.6.2/dist/css/listpanel.css\"}},{\"type\":\"object\",\"name\":\"ImportedStyleSheet\",\"id\":\"28833872-7644-4495-8ffe-0222a189c854\",\"attributes\":{\"url\":\"https://cdn.holoviz.org/panel/1.6.2/dist/bundled/theme/default.css\"}},{\"type\":\"object\",\"name\":\"ImportedStyleSheet\",\"id\":\"92937e42-aa52-4eaa-96a3-4aec92318310\",\"attributes\":{\"url\":\"https://cdn.holoviz.org/panel/1.6.2/dist/bundled/theme/native.css\"}}],\"min_width\":700,\"margin\":0,\"sizing_mode\":\"stretch_width\",\"align\":\"start\",\"children\":[{\"type\":\"object\",\"name\":\"Spacer\",\"id\":\"3c35e7c8-2cd4-4d27-af63-2812e533bd50\",\"attributes\":{\"name\":\"HSpacer00290\",\"stylesheets\":[\"\\n:host(.pn-loading):before, .pn-loading:before {\\n  background-color: #c3c3c3;\\n  mask-size: auto calc(min(50%, 400px));\\n  -webkit-mask-size: auto calc(min(50%, 400px));\\n}\",{\"id\":\"d3607e25-7d4d-4ec0-b642-36fc33a4434d\"},{\"id\":\"28833872-7644-4495-8ffe-0222a189c854\"},{\"id\":\"92937e42-aa52-4eaa-96a3-4aec92318310\"}],\"margin\":0,\"sizing_mode\":\"stretch_width\",\"align\":\"start\"}},{\"type\":\"object\",\"name\":\"Figure\",\"id\":\"2c741d19-9623-4874-a6dc-94f37aa1b5b3\",\"attributes\":{\"width\":700,\"height\":300,\"margin\":[5,10],\"sizing_mode\":\"fixed\",\"align\":\"start\",\"x_range\":{\"type\":\"object\",\"name\":\"FactorRange\",\"id\":\"2598b4ed-4b75-441f-ac9d-5793521fedb2\",\"attributes\":{\"name\":\"post_str_b1\",\"tags\":[[[\"post_str_b1\",null]],[]],\"factors\":[\"02\",\"05\",\"03\",\"01\",\"04\",\"07\",\"06\",\"14\",\"09\",\"11\",\"10\",\"08\",\"18\",\"13\",\"12\",\"16\",\"15\",\"20\",\"24\",\"19\",\"28\",\"22\",\"17\",\"21\"]}},\"y_range\":{\"type\":\"object\",\"name\":\"Range1d\",\"id\":\"54b8b2e4-b39c-4b09-ace9-cd5226cb8322\",\"attributes\":{\"name\":\"percent\",\"tags\":[[[\"percent\",null]],{\"type\":\"map\",\"entries\":[[\"invert_yaxis\",false],[\"autorange\",false]]}],\"end\":15.161290322580648,\"reset_start\":0.0,\"reset_end\":15.161290322580648}},\"x_scale\":{\"type\":\"object\",\"name\":\"CategoricalScale\",\"id\":\"34da6e21-ded2-4c73-a4c4-39dde0959ecc\"},\"y_scale\":{\"type\":\"object\",\"name\":\"LinearScale\",\"id\":\"f36ca8d6-51c1-44d3-800f-2ef472753834\"},\"title\":{\"type\":\"object\",\"name\":\"Title\",\"id\":\"b673eda9-98f4-4af6-85a3-5947148520f2\",\"attributes\":{\"text_color\":\"black\",\"text_font_size\":\"12pt\"}},\"renderers\":[{\"type\":\"object\",\"name\":\"GlyphRenderer\",\"id\":\"5c2ab1e5-86cc-481c-bc60-3e51e13ea764\",\"attributes\":{\"data_source\":{\"type\":\"object\",\"name\":\"ColumnDataSource\",\"id\":\"a69103e5-35f9-4e18-bbdf-18c7a829a3c2\",\"attributes\":{\"selected\":{\"type\":\"object\",\"name\":\"Selection\",\"id\":\"8fe80981-ab63-4471-919b-5d9607109890\",\"attributes\":{\"indices\":[],\"line_indices\":[]}},\"selection_policy\":{\"type\":\"object\",\"name\":\"UnionRenderers\",\"id\":\"aaf77c9e-1af4-449d-b17e-e6f1df31a056\"},\"data\":{\"type\":\"map\",\"entries\":[[\"post_str_b1\",[\"02\",\"05\",\"03\",\"01\",\"04\",\"07\",\"06\",\"14\",\"09\",\"11\",\"10\",\"08\",\"18\",\"13\",\"12\",\"16\",\"15\",\"20\",\"24\",\"19\",\"28\",\"22\",\"17\",\"21\"]],[\"percent\",{\"type\":\"ndarray\",\"array\":{\"type\":\"bytes\",\"data\":\"XpmuTFemK0A/2h/tj/YnQCIbkY3IRiRAIhuRjchGJECUu8nd5G4iQOz4dfw6fh1AzjnnnHPOGUAFXAIuAZcQQOz4dfw6fg1AzjnnnHPOCUDOOeecc84JQLF6WD2sHgZAlLvJ3eRuAkCUu8nd5G4CQOz4dfw6fv0/sXpYPawe9j+xelg9rB72P+z4dfw6fu0/7Ph1/Dp+7T/s+HX8On7tP+z4dfw6ft0/7Ph1/Dp+3T/s+HX8On7dP+z4dfw6ft0/\"},\"shape\":[24],\"dtype\":\"float64\",\"order\":\"little\"}]]}}},\"view\":{\"type\":\"object\",\"name\":\"CDSView\",\"id\":\"147ca594-8f4f-402f-88a0-5e2b0403689c\",\"attributes\":{\"filter\":{\"type\":\"object\",\"name\":\"AllIndices\",\"id\":\"3434bea6-7033-4686-ab36-a5ed49c66b87\"}}},\"glyph\":{\"type\":\"object\",\"name\":\"VBar\",\"id\":\"36acd16e-101a-4aae-901a-7671d7e62b1b\",\"attributes\":{\"tags\":[\"apply_ranges\"],\"x\":{\"type\":\"field\",\"field\":\"post_str_b1\"},\"width\":{\"type\":\"value\",\"value\":0.8},\"top\":{\"type\":\"field\",\"field\":\"percent\"},\"fill_color\":{\"type\":\"value\",\"value\":\"#30a2da\"},\"hatch_color\":{\"type\":\"value\",\"value\":\"#30a2da\"}}},\"selection_glyph\":{\"type\":\"object\",\"name\":\"VBar\",\"id\":\"e5999e29-5b50-4e09-bf68-4f444228d2b2\",\"attributes\":{\"tags\":[\"apply_ranges\"],\"x\":{\"type\":\"field\",\"field\":\"post_str_b1\"},\"width\":{\"type\":\"value\",\"value\":0.8},\"bottom\":{\"type\":\"value\",\"value\":0},\"top\":{\"type\":\"field\",\"field\":\"percent\"},\"line_color\":{\"type\":\"value\",\"value\":\"black\"},\"line_alpha\":{\"type\":\"value\",\"value\":1.0},\"line_width\":{\"type\":\"value\",\"value\":1},\"line_join\":{\"type\":\"value\",\"value\":\"bevel\"},\"line_cap\":{\"type\":\"value\",\"value\":\"butt\"},\"line_dash\":{\"type\":\"value\",\"value\":[]},\"line_dash_offset\":{\"type\":\"value\",\"value\":0},\"fill_color\":{\"type\":\"value\",\"value\":\"#30a2da\"},\"fill_alpha\":{\"type\":\"value\",\"value\":1.0},\"hatch_color\":{\"type\":\"value\",\"value\":\"#30a2da\"},\"hatch_alpha\":{\"type\":\"value\",\"value\":1.0},\"hatch_scale\":{\"type\":\"value\",\"value\":12.0},\"hatch_pattern\":{\"type\":\"value\",\"value\":null},\"hatch_weight\":{\"type\":\"value\",\"value\":1.0}}},\"nonselection_glyph\":{\"type\":\"object\",\"name\":\"VBar\",\"id\":\"fc7f317e-ce8c-4450-8795-891d99bad3c9\",\"attributes\":{\"tags\":[\"apply_ranges\"],\"x\":{\"type\":\"field\",\"field\":\"post_str_b1\"},\"width\":{\"type\":\"value\",\"value\":0.8},\"top\":{\"type\":\"field\",\"field\":\"percent\"},\"line_alpha\":{\"type\":\"value\",\"value\":0.1},\"fill_color\":{\"type\":\"value\",\"value\":\"#30a2da\"},\"fill_alpha\":{\"type\":\"value\",\"value\":0.1},\"hatch_color\":{\"type\":\"value\",\"value\":\"#30a2da\"},\"hatch_alpha\":{\"type\":\"value\",\"value\":0.1}}},\"muted_glyph\":{\"type\":\"object\",\"name\":\"VBar\",\"id\":\"c18e52c8-87d3-4174-bfff-6046882a177a\",\"attributes\":{\"tags\":[\"apply_ranges\"],\"x\":{\"type\":\"field\",\"field\":\"post_str_b1\"},\"width\":{\"type\":\"value\",\"value\":0.8},\"top\":{\"type\":\"field\",\"field\":\"percent\"},\"line_alpha\":{\"type\":\"value\",\"value\":0.2},\"fill_color\":{\"type\":\"value\",\"value\":\"#30a2da\"},\"fill_alpha\":{\"type\":\"value\",\"value\":0.2},\"hatch_color\":{\"type\":\"value\",\"value\":\"#30a2da\"},\"hatch_alpha\":{\"type\":\"value\",\"value\":0.2}}}}},{\"type\":\"object\",\"name\":\"Span\",\"id\":\"8c5f4193-9368-49b6-81e4-edf3c224e9b9\",\"attributes\":{\"level\":\"glyph\",\"location\":4.166666666666667,\"line_color\":\"red\",\"line_width\":3}},{\"type\":\"object\",\"name\":\"Span\",\"id\":\"93872594-9c60-42c5-bd58-af25d1f7e2bd\",\"attributes\":{\"level\":\"glyph\",\"location\":6.25,\"line_color\":\"blue\",\"line_width\":3}},{\"type\":\"object\",\"name\":\"Span\",\"id\":\"abd392bb-8b11-41c8-8169-05076becd628\",\"attributes\":{\"level\":\"glyph\",\"location\":2.0833333333333335,\"line_color\":\"blue\",\"line_width\":3}}],\"toolbar\":{\"type\":\"object\",\"name\":\"Toolbar\",\"id\":\"1bfb5293-e528-4cf1-8d71-2ff9f706d0d4\",\"attributes\":{\"tools\":[{\"type\":\"object\",\"name\":\"WheelZoomTool\",\"id\":\"c019d475-c114-4b93-8af9-0632f1d42048\",\"attributes\":{\"tags\":[\"hv_created\"],\"renderers\":\"auto\",\"zoom_together\":\"none\"}},{\"type\":\"object\",\"name\":\"HoverTool\",\"id\":\"928495fd-7b14-46b3-a8e7-96bc77dea359\",\"attributes\":{\"tags\":[\"hv_created\"],\"renderers\":[{\"id\":\"5c2ab1e5-86cc-481c-bc60-3e51e13ea764\"}],\"tooltips\":[[\"post_str_b1\",\"@{post_str_b1}\"],[\"percent\",\"@{percent}\"]]}},{\"type\":\"object\",\"name\":\"SaveTool\",\"id\":\"c50debb2-1fbf-4096-91b3-56c992e4ffff\"},{\"type\":\"object\",\"name\":\"PanTool\",\"id\":\"e95ef8aa-63a8-42b1-9e62-fdb3a090b2e8\"},{\"type\":\"object\",\"name\":\"BoxZoomTool\",\"id\":\"7df9d99b-3440-4da4-9fd5-b175c9ba1762\",\"attributes\":{\"dimensions\":\"both\",\"overlay\":{\"type\":\"object\",\"name\":\"BoxAnnotation\",\"id\":\"56ae5c05-cac6-4fcb-8e84-00f13f6577c1\",\"attributes\":{\"syncable\":false,\"line_color\":\"black\",\"line_alpha\":1.0,\"line_width\":2,\"line_dash\":[4,4],\"fill_color\":\"lightgrey\",\"fill_alpha\":0.5,\"level\":\"overlay\",\"visible\":false,\"left\":{\"type\":\"number\",\"value\":\"nan\"},\"right\":{\"type\":\"number\",\"value\":\"nan\"},\"top\":{\"type\":\"number\",\"value\":\"nan\"},\"bottom\":{\"type\":\"number\",\"value\":\"nan\"},\"left_units\":\"canvas\",\"right_units\":\"canvas\",\"top_units\":\"canvas\",\"bottom_units\":\"canvas\",\"handles\":{\"type\":\"object\",\"name\":\"BoxInteractionHandles\",\"id\":\"f1d75196-c13c-4f1d-a9dc-fddab1bcbd41\",\"attributes\":{\"all\":{\"type\":\"object\",\"name\":\"AreaVisuals\",\"id\":\"9655516f-e01a-4aa4-abc3-b8d453be1b5d\",\"attributes\":{\"fill_color\":\"white\",\"hover_fill_color\":\"lightgray\"}}}}}}}},{\"type\":\"object\",\"name\":\"ResetTool\",\"id\":\"c1e3f41f-9b07-4619-b89e-1ac6d13ab175\"}],\"active_drag\":{\"id\":\"e95ef8aa-63a8-42b1-9e62-fdb3a090b2e8\"}}},\"left\":[{\"type\":\"object\",\"name\":\"LinearAxis\",\"id\":\"b1d6a9ed-41fd-49f8-bf93-c0aa0c34665c\",\"attributes\":{\"ticker\":{\"type\":\"object\",\"name\":\"BasicTicker\",\"id\":\"0f285320-b00d-4318-890b-acc8f3e615ea\",\"attributes\":{\"mantissas\":[1,2,5]}},\"formatter\":{\"type\":\"object\",\"name\":\"BasicTickFormatter\",\"id\":\"0317a0a4-937c-4e29-9bea-fdbea75efde1\"},\"axis_label\":\"percent\",\"major_label_policy\":{\"type\":\"object\",\"name\":\"AllLabels\",\"id\":\"7eab26ff-1d04-4ef4-a899-21fdd0423e7e\"}}}],\"below\":[{\"type\":\"object\",\"name\":\"CategoricalAxis\",\"id\":\"07194adb-b7a5-4084-b90f-4ce213aaf6a6\",\"attributes\":{\"ticker\":{\"type\":\"object\",\"name\":\"CategoricalTicker\",\"id\":\"16ee572d-11c4-44ad-94b4-ff06e75fe1b2\"},\"formatter\":{\"type\":\"object\",\"name\":\"CategoricalTickFormatter\",\"id\":\"659c4ae2-5840-475f-a6a7-371340de1322\"},\"axis_label\":\"post_str_b1\",\"major_label_policy\":{\"type\":\"object\",\"name\":\"AllLabels\",\"id\":\"f057ac9e-0f69-42ce-879b-c8f1aeb585fe\"}}}],\"center\":[{\"type\":\"object\",\"name\":\"Grid\",\"id\":\"0bd9b599-9d29-4780-94f3-0a75f9cb0fba\",\"attributes\":{\"axis\":{\"id\":\"07194adb-b7a5-4084-b90f-4ce213aaf6a6\"},\"grid_line_color\":null}},{\"type\":\"object\",\"name\":\"Grid\",\"id\":\"9b249557-42dd-4373-9e99-053351adada2\",\"attributes\":{\"dimension\":1,\"axis\":{\"id\":\"b1d6a9ed-41fd-49f8-bf93-c0aa0c34665c\"},\"grid_line_color\":null}}],\"min_border_top\":10,\"min_border_bottom\":10,\"min_border_left\":10,\"min_border_right\":10,\"output_backend\":\"webgl\"}},{\"type\":\"object\",\"name\":\"Spacer\",\"id\":\"34c309aa-2e2b-4e60-969e-d3e6a92a4efe\",\"attributes\":{\"name\":\"HSpacer00291\",\"stylesheets\":[\"\\n:host(.pn-loading):before, .pn-loading:before {\\n  background-color: #c3c3c3;\\n  mask-size: auto calc(min(50%, 400px));\\n  -webkit-mask-size: auto calc(min(50%, 400px));\\n}\",{\"id\":\"d3607e25-7d4d-4ec0-b642-36fc33a4434d\"},{\"id\":\"28833872-7644-4495-8ffe-0222a189c854\"},{\"id\":\"92937e42-aa52-4eaa-96a3-4aec92318310\"}],\"margin\":0,\"sizing_mode\":\"stretch_width\",\"align\":\"start\"}}]}}],\"defs\":[{\"type\":\"model\",\"name\":\"ReactiveHTML1\"},{\"type\":\"model\",\"name\":\"FlexBox1\",\"properties\":[{\"name\":\"align_content\",\"kind\":\"Any\",\"default\":\"flex-start\"},{\"name\":\"align_items\",\"kind\":\"Any\",\"default\":\"flex-start\"},{\"name\":\"flex_direction\",\"kind\":\"Any\",\"default\":\"row\"},{\"name\":\"flex_wrap\",\"kind\":\"Any\",\"default\":\"wrap\"},{\"name\":\"gap\",\"kind\":\"Any\",\"default\":\"\"},{\"name\":\"justify_content\",\"kind\":\"Any\",\"default\":\"flex-start\"}]},{\"type\":\"model\",\"name\":\"FloatPanel1\",\"properties\":[{\"name\":\"config\",\"kind\":\"Any\",\"default\":{\"type\":\"map\"}},{\"name\":\"contained\",\"kind\":\"Any\",\"default\":true},{\"name\":\"position\",\"kind\":\"Any\",\"default\":\"right-top\"},{\"name\":\"offsetx\",\"kind\":\"Any\",\"default\":null},{\"name\":\"offsety\",\"kind\":\"Any\",\"default\":null},{\"name\":\"theme\",\"kind\":\"Any\",\"default\":\"primary\"},{\"name\":\"status\",\"kind\":\"Any\",\"default\":\"normalized\"}]},{\"type\":\"model\",\"name\":\"GridStack1\",\"properties\":[{\"name\":\"ncols\",\"kind\":\"Any\",\"default\":null},{\"name\":\"nrows\",\"kind\":\"Any\",\"default\":null},{\"name\":\"allow_resize\",\"kind\":\"Any\",\"default\":true},{\"name\":\"allow_drag\",\"kind\":\"Any\",\"default\":true},{\"name\":\"state\",\"kind\":\"Any\",\"default\":[]}]},{\"type\":\"model\",\"name\":\"drag1\",\"properties\":[{\"name\":\"slider_width\",\"kind\":\"Any\",\"default\":5},{\"name\":\"slider_color\",\"kind\":\"Any\",\"default\":\"black\"},{\"name\":\"value\",\"kind\":\"Any\",\"default\":50}]},{\"type\":\"model\",\"name\":\"click1\",\"properties\":[{\"name\":\"terminal_output\",\"kind\":\"Any\",\"default\":\"\"},{\"name\":\"debug_name\",\"kind\":\"Any\",\"default\":\"\"},{\"name\":\"clears\",\"kind\":\"Any\",\"default\":0}]},{\"type\":\"model\",\"name\":\"FastWrapper1\",\"properties\":[{\"name\":\"object\",\"kind\":\"Any\",\"default\":null},{\"name\":\"style\",\"kind\":\"Any\",\"default\":null}]},{\"type\":\"model\",\"name\":\"NotificationArea1\",\"properties\":[{\"name\":\"js_events\",\"kind\":\"Any\",\"default\":{\"type\":\"map\"}},{\"name\":\"max_notifications\",\"kind\":\"Any\",\"default\":5},{\"name\":\"notifications\",\"kind\":\"Any\",\"default\":[]},{\"name\":\"position\",\"kind\":\"Any\",\"default\":\"bottom-right\"},{\"name\":\"_clear\",\"kind\":\"Any\",\"default\":0},{\"name\":\"types\",\"kind\":\"Any\",\"default\":[{\"type\":\"map\",\"entries\":[[\"type\",\"warning\"],[\"background\",\"#ffc107\"],[\"icon\",{\"type\":\"map\",\"entries\":[[\"className\",\"fas fa-exclamation-triangle\"],[\"tagName\",\"i\"],[\"color\",\"white\"]]}]]},{\"type\":\"map\",\"entries\":[[\"type\",\"info\"],[\"background\",\"#007bff\"],[\"icon\",{\"type\":\"map\",\"entries\":[[\"className\",\"fas fa-info-circle\"],[\"tagName\",\"i\"],[\"color\",\"white\"]]}]]}]}]},{\"type\":\"model\",\"name\":\"Notification\",\"properties\":[{\"name\":\"background\",\"kind\":\"Any\",\"default\":null},{\"name\":\"duration\",\"kind\":\"Any\",\"default\":3000},{\"name\":\"icon\",\"kind\":\"Any\",\"default\":null},{\"name\":\"message\",\"kind\":\"Any\",\"default\":\"\"},{\"name\":\"notification_type\",\"kind\":\"Any\",\"default\":null},{\"name\":\"_rendered\",\"kind\":\"Any\",\"default\":false},{\"name\":\"_destroyed\",\"kind\":\"Any\",\"default\":false}]},{\"type\":\"model\",\"name\":\"TemplateActions1\",\"properties\":[{\"name\":\"open_modal\",\"kind\":\"Any\",\"default\":0},{\"name\":\"close_modal\",\"kind\":\"Any\",\"default\":0}]},{\"type\":\"model\",\"name\":\"BootstrapTemplateActions1\",\"properties\":[{\"name\":\"open_modal\",\"kind\":\"Any\",\"default\":0},{\"name\":\"close_modal\",\"kind\":\"Any\",\"default\":0}]},{\"type\":\"model\",\"name\":\"TemplateEditor1\",\"properties\":[{\"name\":\"layout\",\"kind\":\"Any\",\"default\":[]}]},{\"type\":\"model\",\"name\":\"MaterialTemplateActions1\",\"properties\":[{\"name\":\"open_modal\",\"kind\":\"Any\",\"default\":0},{\"name\":\"close_modal\",\"kind\":\"Any\",\"default\":0}]},{\"type\":\"model\",\"name\":\"ReactiveESM1\",\"properties\":[{\"name\":\"esm_constants\",\"kind\":\"Any\",\"default\":{\"type\":\"map\"}}]},{\"type\":\"model\",\"name\":\"JSComponent1\",\"properties\":[{\"name\":\"esm_constants\",\"kind\":\"Any\",\"default\":{\"type\":\"map\"}}]},{\"type\":\"model\",\"name\":\"ReactComponent1\",\"properties\":[{\"name\":\"esm_constants\",\"kind\":\"Any\",\"default\":{\"type\":\"map\"}}]},{\"type\":\"model\",\"name\":\"AnyWidgetComponent1\",\"properties\":[{\"name\":\"esm_constants\",\"kind\":\"Any\",\"default\":{\"type\":\"map\"}}]},{\"type\":\"model\",\"name\":\"request_value1\",\"properties\":[{\"name\":\"fill\",\"kind\":\"Any\",\"default\":\"none\"},{\"name\":\"_synced\",\"kind\":\"Any\",\"default\":null},{\"name\":\"_request_sync\",\"kind\":\"Any\",\"default\":0}]}]}};\n",
       "  var render_items = [{\"docid\":\"30c71d18-b7d9-4486-9833-294f305b7f95\",\"roots\":{\"894fe2d0-7bab-40ac-8da1-f9002e19ec79\":\"c591a0ea-99c6-4ac6-9b9e-face2aadeb5f\"},\"root_ids\":[\"894fe2d0-7bab-40ac-8da1-f9002e19ec79\"]}];\n",
       "  var docs = Object.values(docs_json)\n",
       "  if (!docs) {\n",
       "    return\n",
       "  }\n",
       "  const py_version = docs[0].version.replace('rc', '-rc.').replace('.dev', '-dev.')\n",
       "  async function embed_document(root) {\n",
       "    var Bokeh = get_bokeh(root)\n",
       "    await Bokeh.embed.embed_items_notebook(docs_json, render_items);\n",
       "    for (const render_item of render_items) {\n",
       "      for (const root_id of render_item.root_ids) {\n",
       "\tconst id_el = document.getElementById(root_id)\n",
       "\tif (id_el.children.length && id_el.children[0].hasAttribute('data-root-id')) {\n",
       "\t  const root_el = id_el.children[0]\n",
       "\t  root_el.id = root_el.id + '-rendered'\n",
       "\t  for (const child of root_el.children) {\n",
       "            // Ensure JupyterLab does not capture keyboard shortcuts\n",
       "            // see: https://jupyterlab.readthedocs.io/en/4.1.x/extension/notebook.html#keyboard-interaction-model\n",
       "\t    child.setAttribute('data-lm-suppress-shortcuts', 'true')\n",
       "\t  }\n",
       "\t}\n",
       "      }\n",
       "    }\n",
       "  }\n",
       "  function get_bokeh(root) {\n",
       "    if (root.Bokeh === undefined) {\n",
       "      return null\n",
       "    } else if (root.Bokeh.version !== py_version) {\n",
       "      if (root.Bokeh.versions === undefined || !root.Bokeh.versions.has(py_version)) {\n",
       "\treturn null\n",
       "      }\n",
       "      return root.Bokeh.versions.get(py_version);\n",
       "    } else if (root.Bokeh.version === py_version) {\n",
       "      return root.Bokeh\n",
       "    }\n",
       "    return null\n",
       "  }\n",
       "  function is_loaded(root) {\n",
       "    var Bokeh = get_bokeh(root)\n",
       "    return (Bokeh != null && Bokeh.Panel !== undefined)\n",
       "  }\n",
       "  if (is_loaded(root)) {\n",
       "    embed_document(root);\n",
       "  } else {\n",
       "    var attempts = 0;\n",
       "    var timer = setInterval(function(root) {\n",
       "      if (is_loaded(root)) {\n",
       "        clearInterval(timer);\n",
       "        embed_document(root);\n",
       "      } else if (document.readyState == \"complete\") {\n",
       "        attempts++;\n",
       "        if (attempts > 200) {\n",
       "          clearInterval(timer);\n",
       "\t  var Bokeh = get_bokeh(root)\n",
       "\t  if (Bokeh == null || Bokeh.Panel == null) {\n",
       "            console.warn(\"Panel: ERROR: Unable to run Panel code because Bokeh or Panel library is missing\");\n",
       "\t  } else {\n",
       "\t    console.warn(\"Panel: WARNING: Attempting to render but not all required libraries could be resolved.\")\n",
       "\t    embed_document(root)\n",
       "\t  }\n",
       "        }\n",
       "      }\n",
       "    }, 25, root)\n",
       "  }\n",
       "})(window);</script>"
      ],
      "text/plain": [
       ":Overlay\n",
       "   .Bars.I    :Bars   [post_str_b1]   (percent)\n",
       "   .HLine.I   :HLine   [x,y]\n",
       "   .HLine.II  :HLine   [x,y]\n",
       "   .HLine.III :HLine   [x,y]"
      ]
     },
     "metadata": {
      "application/vnd.holoviews_exec.v0+json": {
       "id": "894fe2d0-7bab-40ac-8da1-f9002e19ec79"
      }
     },
     "output_type": "display_data"
    },
    {
     "name": "stdout",
     "output_type": "stream",
     "text": [
      "df_10_last FOR str_b1 = 04\n",
      "Last 3 results last_results=['12', '03', '19']\n"
     ]
    },
    {
     "data": {
      "text/html": [
       "<div><style>\n",
       ".dataframe > thead > tr,\n",
       ".dataframe > tbody > tr {\n",
       "  text-align: right;\n",
       "  white-space: pre-wrap;\n",
       "}\n",
       "</style>\n",
       "<small>shape: (10, 30)</small><table border=\"1\" class=\"dataframe\"><thead><tr><th>fecha</th><th>sorteo</th><th>bolillas</th><th>yapa</th><th>adicionales</th><th>sorteo_extra</th><th>id</th><th>combo</th><th>b1</th><th>b2</th><th>b3</th><th>b4</th><th>b5</th><th>b6</th><th>str_b1</th><th>str_b2</th><th>str_b3</th><th>str_b4</th><th>str_b5</th><th>str_b6</th><th>post_str_b1</th><th>post_str_b2</th><th>post_str_b3</th><th>post_str_b4</th><th>post_str_b5</th><th>post_str_blast</th><th>is_rare_combination</th><th>reason</th><th>jumps_map</th><th>unijump</th></tr><tr><td>str</td><td>str</td><td>str</td><td>str</td><td>str</td><td>str</td><td>str</td><td>array[u8, 6]</td><td>u8</td><td>u8</td><td>u8</td><td>u8</td><td>u8</td><td>u8</td><td>str</td><td>str</td><td>str</td><td>str</td><td>str</td><td>str</td><td>str</td><td>str</td><td>str</td><td>str</td><td>str</td><td>str</td><td>bool</td><td>u8</td><td>str</td><td>i64</td></tr></thead><tbody><tr><td>&quot;19/03/2025&quot;</td><td>&quot;1178&quot;</td><td>&quot;32 41 42 37 34 04&quot;</td><td>&quot;48&quot;</td><td>&quot;07 46 19&quot;</td><td>&quot;Promoción Sí o Sí&quot;</td><td>&quot;043234374142&quot;</td><td>[4, 32, … 42]</td><td>4</td><td>32</td><td>34</td><td>37</td><td>41</td><td>42</td><td>&quot;04&quot;</td><td>&quot;32&quot;</td><td>&quot;34&quot;</td><td>&quot;37&quot;</td><td>&quot;41&quot;</td><td>&quot;42&quot;</td><td>&quot;03&quot;</td><td>&quot;07&quot;</td><td>&quot;18&quot;</td><td>&quot;24&quot;</td><td>&quot;37&quot;</td><td>&quot;49&quot;</td><td>false</td><td>0</td><td>&quot;28_02_03_04_01&quot;</td><td>23</td></tr><tr><td>&quot;02/02/2025&quot;</td><td>&quot;1165&quot;</td><td>&quot;20 48 14 12 28 04&quot;</td><td>&quot;02&quot;</td><td>&quot;40&quot;</td><td>&quot;Promoción Sí o Sí&quot;</td><td>&quot;041214202848&quot;</td><td>[4, 12, … 48]</td><td>4</td><td>12</td><td>14</td><td>20</td><td>28</td><td>48</td><td>&quot;04&quot;</td><td>&quot;12&quot;</td><td>&quot;14&quot;</td><td>&quot;20&quot;</td><td>&quot;28&quot;</td><td>&quot;48&quot;</td><td>&quot;12&quot;</td><td>&quot;19&quot;</td><td>&quot;24&quot;</td><td>&quot;27&quot;</td><td>&quot;30&quot;</td><td>&quot;33&quot;</td><td>true</td><td>20</td><td>&quot;08_02_06_08_20&quot;</td><td>24</td></tr><tr><td>&quot;15/12/2024&quot;</td><td>&quot;1151&quot;</td><td>&quot;48 26 45 08 06 04&quot;</td><td>&quot;44&quot;</td><td>&quot;15 29&quot;</td><td>&quot;Promoción Sí o Sí&quot;</td><td>&quot;040608264548&quot;</td><td>[4, 6, … 48]</td><td>4</td><td>6</td><td>8</td><td>26</td><td>45</td><td>48</td><td>&quot;04&quot;</td><td>&quot;06&quot;</td><td>&quot;08&quot;</td><td>&quot;26&quot;</td><td>&quot;45&quot;</td><td>&quot;48&quot;</td><td>&quot;19&quot;</td><td>&quot;22&quot;</td><td>&quot;28&quot;</td><td>&quot;33&quot;</td><td>&quot;35&quot;</td><td>&quot;47&quot;</td><td>true</td><td>24</td><td>&quot;02_02_18_19_03&quot;</td><td>29</td></tr><tr><td>&quot;11/12/2024&quot;</td><td>&quot;1150&quot;</td><td>&quot;43 04 39 31 10 46&quot;</td><td>&quot;06&quot;</td><td>&quot;36 07 22&quot;</td><td>&quot;Promoción Sí o Sí&quot;</td><td>&quot;041031394346&quot;</td><td>[4, 10, … 46]</td><td>4</td><td>10</td><td>31</td><td>39</td><td>43</td><td>46</td><td>&quot;04&quot;</td><td>&quot;10&quot;</td><td>&quot;31&quot;</td><td>&quot;39&quot;</td><td>&quot;43&quot;</td><td>&quot;46&quot;</td><td>&quot;04&quot;</td><td>&quot;06&quot;</td><td>&quot;08&quot;</td><td>&quot;26&quot;</td><td>&quot;45&quot;</td><td>&quot;48&quot;</td><td>true</td><td>16</td><td>&quot;06_21_08_04_03&quot;</td><td>-43</td></tr><tr><td>&quot;22/09/2024&quot;</td><td>&quot;1127&quot;</td><td>&quot;20 37 48 17 38 04&quot;</td><td>&quot;45&quot;</td><td>&quot;01 44&quot;</td><td>&quot;Promoción Sí o Sí&quot;</td><td>&quot;041720373848&quot;</td><td>[4, 17, … 48]</td><td>4</td><td>17</td><td>20</td><td>37</td><td>38</td><td>48</td><td>&quot;04&quot;</td><td>&quot;17&quot;</td><td>&quot;20&quot;</td><td>&quot;37&quot;</td><td>&quot;38&quot;</td><td>&quot;48&quot;</td><td>&quot;06&quot;</td><td>&quot;18&quot;</td><td>&quot;24&quot;</td><td>&quot;38&quot;</td><td>&quot;39&quot;</td><td>&quot;50&quot;</td><td>false</td><td>0</td><td>&quot;13_03_17_01_10&quot;</td><td>109</td></tr><tr><td>&quot;11/09/2024&quot;</td><td>&quot;1124&quot;</td><td>&quot;04 41 07 28 29 46&quot;</td><td>&quot;20&quot;</td><td>&quot;11&quot;</td><td>&quot;Promoción Sí o Sí&quot;</td><td>&quot;040728294146&quot;</td><td>[4, 7, … 46]</td><td>4</td><td>7</td><td>28</td><td>29</td><td>41</td><td>46</td><td>&quot;04&quot;</td><td>&quot;07&quot;</td><td>&quot;28&quot;</td><td>&quot;29&quot;</td><td>&quot;41&quot;</td><td>&quot;46&quot;</td><td>&quot;01&quot;</td><td>&quot;03&quot;</td><td>&quot;29&quot;</td><td>&quot;36&quot;</td><td>&quot;38&quot;</td><td>&quot;43&quot;</td><td>true</td><td>16</td><td>&quot;03_21_01_12_05&quot;</td><td>-118</td></tr><tr><td>&quot;04/09/2024&quot;</td><td>&quot;1122&quot;</td><td>&quot;50 30 04 09 15 40&quot;</td><td>&quot;31&quot;</td><td>&quot;29 16 32&quot;</td><td>&quot;Promoción Sí o Sí&quot;</td><td>&quot;040915304050&quot;</td><td>[4, 9, … 50]</td><td>4</td><td>9</td><td>15</td><td>30</td><td>40</td><td>50</td><td>&quot;04&quot;</td><td>&quot;09&quot;</td><td>&quot;15&quot;</td><td>&quot;30&quot;</td><td>&quot;40&quot;</td><td>&quot;50&quot;</td><td>&quot;07&quot;</td><td>&quot;14&quot;</td><td>&quot;15&quot;</td><td>&quot;18&quot;</td><td>&quot;23&quot;</td><td>&quot;35&quot;</td><td>true</td><td>24</td><td>&quot;05_06_15_10_10&quot;</td><td>41</td></tr><tr><td>&quot;01/09/2024&quot;</td><td>&quot;1121&quot;</td><td>&quot;23 50 41 19 04 37&quot;</td><td>&quot;28&quot;</td><td>&quot;09 06&quot;</td><td>&quot;Promoción Sí o Sí&quot;</td><td>&quot;041923374150&quot;</td><td>[4, 19, … 50]</td><td>4</td><td>19</td><td>23</td><td>37</td><td>41</td><td>50</td><td>&quot;04&quot;</td><td>&quot;19&quot;</td><td>&quot;23&quot;</td><td>&quot;37&quot;</td><td>&quot;41&quot;</td><td>&quot;50&quot;</td><td>&quot;04&quot;</td><td>&quot;09&quot;</td><td>&quot;15&quot;</td><td>&quot;30&quot;</td><td>&quot;40&quot;</td><td>&quot;50&quot;</td><td>true</td><td>1</td><td>&quot;15_04_14_04_09&quot;</td><td>76</td></tr><tr><td>&quot;29/05/2024&quot;</td><td>&quot;1094&quot;</td><td>&quot;04 34 16 10 20 29&quot;</td><td>&quot;21&quot;</td><td>&quot;28 24 30&quot;</td><td>&quot;Promoción Sí o Sí&quot;</td><td>&quot;041016202934&quot;</td><td>[4, 10, … 34]</td><td>4</td><td>10</td><td>16</td><td>20</td><td>29</td><td>34</td><td>&quot;04&quot;</td><td>&quot;10&quot;</td><td>&quot;16&quot;</td><td>&quot;20&quot;</td><td>&quot;29&quot;</td><td>&quot;34&quot;</td><td>&quot;02&quot;</td><td>&quot;08&quot;</td><td>&quot;12&quot;</td><td>&quot;13&quot;</td><td>&quot;26&quot;</td><td>&quot;37&quot;</td><td>true</td><td>8</td><td>&quot;06_06_04_09_05&quot;</td><td>-25</td></tr><tr><td>&quot;24/04/2024&quot;</td><td>&quot;1084&quot;</td><td>&quot;43 05 24 37 26 04&quot;</td><td>&quot;46&quot;</td><td>&quot;23 15&quot;</td><td>&quot;Promoción Sí o Sí&quot;</td><td>&quot;040524263743&quot;</td><td>[4, 5, … 43]</td><td>4</td><td>5</td><td>24</td><td>26</td><td>37</td><td>43</td><td>&quot;04&quot;</td><td>&quot;05&quot;</td><td>&quot;24&quot;</td><td>&quot;26&quot;</td><td>&quot;37&quot;</td><td>&quot;43&quot;</td><td>&quot;06&quot;</td><td>&quot;22&quot;</td><td>&quot;25&quot;</td><td>&quot;36&quot;</td><td>&quot;41&quot;</td><td>&quot;43&quot;</td><td>true</td><td>16</td><td>&quot;01_19_02_11_06&quot;</td><td>-101</td></tr></tbody></table></div>"
      ],
      "text/plain": [
       "shape: (10, 30)\n",
       "┌────────────┬────────┬───────────────┬──────┬───┬───────────────┬────────┬──────────────┬─────────┐\n",
       "│ fecha      ┆ sorteo ┆ bolillas      ┆ yapa ┆ … ┆ is_rare_combi ┆ reason ┆ jumps_map    ┆ unijump │\n",
       "│ ---        ┆ ---    ┆ ---           ┆ ---  ┆   ┆ nation        ┆ ---    ┆ ---          ┆ ---     │\n",
       "│ str        ┆ str    ┆ str           ┆ str  ┆   ┆ ---           ┆ u8     ┆ str          ┆ i64     │\n",
       "│            ┆        ┆               ┆      ┆   ┆ bool          ┆        ┆              ┆         │\n",
       "╞════════════╪════════╪═══════════════╪══════╪═══╪═══════════════╪════════╪══════════════╪═════════╡\n",
       "│ 19/03/2025 ┆ 1178   ┆ 32 41 42 37   ┆ 48   ┆ … ┆ false         ┆ 0      ┆ 28_02_03_04_ ┆ 23      │\n",
       "│            ┆        ┆ 34 04         ┆      ┆   ┆               ┆        ┆ 01           ┆         │\n",
       "│ 02/02/2025 ┆ 1165   ┆ 20 48 14 12   ┆ 02   ┆ … ┆ true          ┆ 20     ┆ 08_02_06_08_ ┆ 24      │\n",
       "│            ┆        ┆ 28 04         ┆      ┆   ┆               ┆        ┆ 20           ┆         │\n",
       "│ 15/12/2024 ┆ 1151   ┆ 48 26 45 08   ┆ 44   ┆ … ┆ true          ┆ 24     ┆ 02_02_18_19_ ┆ 29      │\n",
       "│            ┆        ┆ 06 04         ┆      ┆   ┆               ┆        ┆ 03           ┆         │\n",
       "│ 11/12/2024 ┆ 1150   ┆ 43 04 39 31   ┆ 06   ┆ … ┆ true          ┆ 16     ┆ 06_21_08_04_ ┆ -43     │\n",
       "│            ┆        ┆ 10 46         ┆      ┆   ┆               ┆        ┆ 03           ┆         │\n",
       "│ 22/09/2024 ┆ 1127   ┆ 20 37 48 17   ┆ 45   ┆ … ┆ false         ┆ 0      ┆ 13_03_17_01_ ┆ 109     │\n",
       "│            ┆        ┆ 38 04         ┆      ┆   ┆               ┆        ┆ 10           ┆         │\n",
       "│ 11/09/2024 ┆ 1124   ┆ 04 41 07 28   ┆ 20   ┆ … ┆ true          ┆ 16     ┆ 03_21_01_12_ ┆ -118    │\n",
       "│            ┆        ┆ 29 46         ┆      ┆   ┆               ┆        ┆ 05           ┆         │\n",
       "│ 04/09/2024 ┆ 1122   ┆ 50 30 04 09   ┆ 31   ┆ … ┆ true          ┆ 24     ┆ 05_06_15_10_ ┆ 41      │\n",
       "│            ┆        ┆ 15 40         ┆      ┆   ┆               ┆        ┆ 10           ┆         │\n",
       "│ 01/09/2024 ┆ 1121   ┆ 23 50 41 19   ┆ 28   ┆ … ┆ true          ┆ 1      ┆ 15_04_14_04_ ┆ 76      │\n",
       "│            ┆        ┆ 04 37         ┆      ┆   ┆               ┆        ┆ 09           ┆         │\n",
       "│ 29/05/2024 ┆ 1094   ┆ 04 34 16 10   ┆ 21   ┆ … ┆ true          ┆ 8      ┆ 06_06_04_09_ ┆ -25     │\n",
       "│            ┆        ┆ 20 29         ┆      ┆   ┆               ┆        ┆ 05           ┆         │\n",
       "│ 24/04/2024 ┆ 1084   ┆ 43 05 24 37   ┆ 46   ┆ … ┆ true          ┆ 16     ┆ 01_19_02_11_ ┆ -101    │\n",
       "│            ┆        ┆ 26 04         ┆      ┆   ┆               ┆        ┆ 06           ┆         │\n",
       "└────────────┴────────┴───────────────┴──────┴───┴───────────────┴────────┴──────────────┴─────────┘"
      ]
     },
     "metadata": {},
     "output_type": "display_data"
    },
    {
     "name": "stdout",
     "output_type": "stream",
     "text": [
      "df_jumps_map FOR str_b1 = 04\n"
     ]
    },
    {
     "data": {
      "text/html": [
       "<div><style>\n",
       ".dataframe > thead > tr,\n",
       ".dataframe > tbody > tr {\n",
       "  text-align: right;\n",
       "  white-space: pre-wrap;\n",
       "}\n",
       "</style>\n",
       "<small>shape: (217, 2)</small><table border=\"1\" class=\"dataframe\"><thead><tr><th>jumps_map</th><th>count</th></tr><tr><td>str</td><td>u32</td></tr></thead><tbody><tr><td>&quot;03_05_15_02_03&quot;</td><td>1</td></tr><tr><td>&quot;10_03_10_02_14&quot;</td><td>1</td></tr><tr><td>&quot;03_13_04_01_10&quot;</td><td>1</td></tr><tr><td>&quot;05_03_02_17_03&quot;</td><td>1</td></tr><tr><td>&quot;15_07_01_04_04&quot;</td><td>1</td></tr><tr><td>&hellip;</td><td>&hellip;</td></tr><tr><td>&quot;05_03_02_15_10&quot;</td><td>1</td></tr><tr><td>&quot;08_02_04_01_15&quot;</td><td>1</td></tr><tr><td>&quot;04_04_05_08_18&quot;</td><td>1</td></tr><tr><td>&quot;10_06_01_11_03&quot;</td><td>1</td></tr><tr><td>&quot;03_05_14_03_03&quot;</td><td>1</td></tr></tbody></table></div>"
      ],
      "text/plain": [
       "shape: (217, 2)\n",
       "┌────────────────┬───────┐\n",
       "│ jumps_map      ┆ count │\n",
       "│ ---            ┆ ---   │\n",
       "│ str            ┆ u32   │\n",
       "╞════════════════╪═══════╡\n",
       "│ 03_05_15_02_03 ┆ 1     │\n",
       "│ 10_03_10_02_14 ┆ 1     │\n",
       "│ 03_13_04_01_10 ┆ 1     │\n",
       "│ 05_03_02_17_03 ┆ 1     │\n",
       "│ 15_07_01_04_04 ┆ 1     │\n",
       "│ …              ┆ …     │\n",
       "│ 05_03_02_15_10 ┆ 1     │\n",
       "│ 08_02_04_01_15 ┆ 1     │\n",
       "│ 04_04_05_08_18 ┆ 1     │\n",
       "│ 10_06_01_11_03 ┆ 1     │\n",
       "│ 03_05_14_03_03 ┆ 1     │\n",
       "└────────────────┴───────┘"
      ]
     },
     "metadata": {},
     "output_type": "display_data"
    },
    {
     "name": "stdout",
     "output_type": "stream",
     "text": [
      "df_unijump FOR str_b1 = 04\n"
     ]
    },
    {
     "data": {
      "text/html": [
       "<div><style>\n",
       ".dataframe > thead > tr,\n",
       ".dataframe > tbody > tr {\n",
       "  text-align: right;\n",
       "  white-space: pre-wrap;\n",
       "}\n",
       "</style>\n",
       "<small>shape: (124, 2)</small><table border=\"1\" class=\"dataframe\"><thead><tr><th>unijump</th><th>count</th></tr><tr><td>i64</td><td>u32</td></tr></thead><tbody><tr><td>24</td><td>5</td></tr><tr><td>-24</td><td>4</td></tr><tr><td>53</td><td>4</td></tr><tr><td>-9</td><td>4</td></tr><tr><td>29</td><td>4</td></tr><tr><td>&hellip;</td><td>&hellip;</td></tr><tr><td>108</td><td>1</td></tr><tr><td>-48</td><td>1</td></tr><tr><td>23</td><td>1</td></tr><tr><td>11</td><td>1</td></tr><tr><td>-85</td><td>1</td></tr></tbody></table></div>"
      ],
      "text/plain": [
       "shape: (124, 2)\n",
       "┌─────────┬───────┐\n",
       "│ unijump ┆ count │\n",
       "│ ---     ┆ ---   │\n",
       "│ i64     ┆ u32   │\n",
       "╞═════════╪═══════╡\n",
       "│ 24      ┆ 5     │\n",
       "│ -24     ┆ 4     │\n",
       "│ 53      ┆ 4     │\n",
       "│ -9      ┆ 4     │\n",
       "│ 29      ┆ 4     │\n",
       "│ …       ┆ …     │\n",
       "│ 108     ┆ 1     │\n",
       "│ -48     ┆ 1     │\n",
       "│ 23      ┆ 1     │\n",
       "│ 11      ┆ 1     │\n",
       "│ -85     ┆ 1     │\n",
       "└─────────┴───────┘"
      ]
     },
     "metadata": {},
     "output_type": "display_data"
    }
   ],
   "source": [
    "possible_b1, exclude_jump_maps_b1, last_post_b1 = plot_post_col(col='str_b1', post_col='post_str_b1')"
   ]
  },
  {
   "cell_type": "code",
   "execution_count": 8,
   "metadata": {},
   "outputs": [
    {
     "name": "stdout",
     "output_type": "stream",
     "text": [
      "Setting test_value='07'\n",
      "df_viz FOR str_b2 = 07\n"
     ]
    },
    {
     "data": {
      "text/html": [
       "<div><style>\n",
       ".dataframe > thead > tr,\n",
       ".dataframe > tbody > tr {\n",
       "  text-align: right;\n",
       "  white-space: pre-wrap;\n",
       "}\n",
       "</style>\n",
       "<small>shape: (24, 3)</small><table border=\"1\" class=\"dataframe\"><thead><tr><th>post_str_b2</th><th>count</th><th>percent</th></tr><tr><td>str</td><td>u32</td><td>f64</td></tr></thead><tbody><tr><td>&quot;05&quot;</td><td>11</td><td>9.482759</td></tr><tr><td>&quot;10&quot;</td><td>10</td><td>8.62069</td></tr><tr><td>&quot;03&quot;</td><td>8</td><td>6.896552</td></tr><tr><td>&quot;07&quot;</td><td>7</td><td>6.034483</td></tr><tr><td>&quot;11&quot;</td><td>6</td><td>5.172414</td></tr><tr><td>&hellip;</td><td>&hellip;</td><td>&hellip;</td></tr><tr><td>&quot;18&quot;</td><td>3</td><td>2.586207</td></tr><tr><td>&quot;26&quot;</td><td>3</td><td>2.586207</td></tr><tr><td>&quot;25&quot;</td><td>3</td><td>2.586207</td></tr><tr><td>&quot;19&quot;</td><td>2</td><td>1.724138</td></tr><tr><td>&quot;32&quot;</td><td>1</td><td>0.862069</td></tr></tbody></table></div>"
      ],
      "text/plain": [
       "shape: (24, 3)\n",
       "┌─────────────┬───────┬──────────┐\n",
       "│ post_str_b2 ┆ count ┆ percent  │\n",
       "│ ---         ┆ ---   ┆ ---      │\n",
       "│ str         ┆ u32   ┆ f64      │\n",
       "╞═════════════╪═══════╪══════════╡\n",
       "│ 05          ┆ 11    ┆ 9.482759 │\n",
       "│ 10          ┆ 10    ┆ 8.62069  │\n",
       "│ 03          ┆ 8     ┆ 6.896552 │\n",
       "│ 07          ┆ 7     ┆ 6.034483 │\n",
       "│ 11          ┆ 6     ┆ 5.172414 │\n",
       "│ …           ┆ …     ┆ …        │\n",
       "│ 18          ┆ 3     ┆ 2.586207 │\n",
       "│ 26          ┆ 3     ┆ 2.586207 │\n",
       "│ 25          ┆ 3     ┆ 2.586207 │\n",
       "│ 19          ┆ 2     ┆ 1.724138 │\n",
       "│ 32          ┆ 1     ┆ 0.862069 │\n",
       "└─────────────┴───────┴──────────┘"
      ]
     },
     "metadata": {},
     "output_type": "display_data"
    },
    {
     "data": {},
     "metadata": {},
     "output_type": "display_data"
    },
    {
     "data": {
      "application/vnd.holoviews_exec.v0+json": "",
      "text/html": [
       "<div id='e9184ad9-6ab8-444a-a2e4-f8548110e4cf'>\n",
       "  <div id=\"cc4e4584-be56-4c23-aa6e-edec4a1b7a41\" data-root-id=\"e9184ad9-6ab8-444a-a2e4-f8548110e4cf\" style=\"display: contents;\"></div>\n",
       "</div>\n",
       "<script type=\"application/javascript\">(function(root) {\n",
       "  var docs_json = {\"d1ffb9d7-5362-42ad-8609-dd3a3aa9ec6f\":{\"version\":\"3.7.2\",\"title\":\"Bokeh Application\",\"roots\":[{\"type\":\"object\",\"name\":\"Row\",\"id\":\"e9184ad9-6ab8-444a-a2e4-f8548110e4cf\",\"attributes\":{\"name\":\"Row00357\",\"tags\":[\"embedded\"],\"stylesheets\":[\"\\n:host(.pn-loading):before, .pn-loading:before {\\n  background-color: #c3c3c3;\\n  mask-size: auto calc(min(50%, 400px));\\n  -webkit-mask-size: auto calc(min(50%, 400px));\\n}\",{\"type\":\"object\",\"name\":\"ImportedStyleSheet\",\"id\":\"e80dd072-2ef6-49d4-8ae6-27c4d7692bd0\",\"attributes\":{\"url\":\"https://cdn.holoviz.org/panel/1.6.2/dist/css/loading.css\"}},{\"type\":\"object\",\"name\":\"ImportedStyleSheet\",\"id\":\"ed5f68a2-e19c-4c69-b401-290094b38721\",\"attributes\":{\"url\":\"https://cdn.holoviz.org/panel/1.6.2/dist/css/listpanel.css\"}},{\"type\":\"object\",\"name\":\"ImportedStyleSheet\",\"id\":\"e642e996-d4e0-477f-a37d-8af0643d332a\",\"attributes\":{\"url\":\"https://cdn.holoviz.org/panel/1.6.2/dist/bundled/theme/default.css\"}},{\"type\":\"object\",\"name\":\"ImportedStyleSheet\",\"id\":\"383148d4-3fc0-419f-85b3-7030c0c73259\",\"attributes\":{\"url\":\"https://cdn.holoviz.org/panel/1.6.2/dist/bundled/theme/native.css\"}}],\"min_width\":700,\"margin\":0,\"sizing_mode\":\"stretch_width\",\"align\":\"start\",\"children\":[{\"type\":\"object\",\"name\":\"Spacer\",\"id\":\"0fc3bd29-4665-4c85-88c4-384bd1ae89d0\",\"attributes\":{\"name\":\"HSpacer00361\",\"stylesheets\":[\"\\n:host(.pn-loading):before, .pn-loading:before {\\n  background-color: #c3c3c3;\\n  mask-size: auto calc(min(50%, 400px));\\n  -webkit-mask-size: auto calc(min(50%, 400px));\\n}\",{\"id\":\"e80dd072-2ef6-49d4-8ae6-27c4d7692bd0\"},{\"id\":\"e642e996-d4e0-477f-a37d-8af0643d332a\"},{\"id\":\"383148d4-3fc0-419f-85b3-7030c0c73259\"}],\"margin\":0,\"sizing_mode\":\"stretch_width\",\"align\":\"start\"}},{\"type\":\"object\",\"name\":\"Figure\",\"id\":\"0369e07a-ccb4-453e-9714-ac83574476ee\",\"attributes\":{\"width\":700,\"height\":300,\"margin\":[5,10],\"sizing_mode\":\"fixed\",\"align\":\"start\",\"x_range\":{\"type\":\"object\",\"name\":\"FactorRange\",\"id\":\"f28d118d-a3cd-4af5-ab37-fcc7810a8eae\",\"attributes\":{\"name\":\"post_str_b2\",\"tags\":[[[\"post_str_b2\",null]],[]],\"factors\":[\"05\",\"10\",\"03\",\"07\",\"11\",\"08\",\"12\",\"22\",\"15\",\"06\",\"04\",\"13\",\"21\",\"20\",\"23\",\"24\",\"09\",\"16\",\"14\",\"18\",\"26\",\"25\",\"19\",\"32\"]}},\"y_range\":{\"type\":\"object\",\"name\":\"Range1d\",\"id\":\"d8e6327f-a017-4569-838d-da6bdd3ac91e\",\"attributes\":{\"name\":\"percent\",\"tags\":[[[\"percent\",null]],{\"type\":\"map\",\"entries\":[[\"invert_yaxis\",false],[\"autorange\",false]]}],\"end\":10.344827586206897,\"reset_start\":0.0,\"reset_end\":10.344827586206897}},\"x_scale\":{\"type\":\"object\",\"name\":\"CategoricalScale\",\"id\":\"051827e5-57f9-4719-908e-ada65b61bf6f\"},\"y_scale\":{\"type\":\"object\",\"name\":\"LinearScale\",\"id\":\"892fa9bc-323f-4290-b4aa-be2a1ce341f6\"},\"title\":{\"type\":\"object\",\"name\":\"Title\",\"id\":\"2c3a01a7-41a1-411a-808a-1fa236a2b9c2\",\"attributes\":{\"text_color\":\"black\",\"text_font_size\":\"12pt\"}},\"renderers\":[{\"type\":\"object\",\"name\":\"GlyphRenderer\",\"id\":\"f6e46f88-7aaa-4cc4-82bf-ac8bac10f4ab\",\"attributes\":{\"data_source\":{\"type\":\"object\",\"name\":\"ColumnDataSource\",\"id\":\"68dff47b-e230-4d63-a37d-e2edcaf27bee\",\"attributes\":{\"selected\":{\"type\":\"object\",\"name\":\"Selection\",\"id\":\"fd7c86da-c6e4-44bb-8275-e9574dac37e8\",\"attributes\":{\"indices\":[],\"line_indices\":[]}},\"selection_policy\":{\"type\":\"object\",\"name\":\"UnionRenderers\",\"id\":\"cf48a1c7-fe8d-4fc9-ac46-969f3c5adfd5\"},\"data\":{\"type\":\"map\",\"entries\":[[\"post_str_b2\",[\"05\",\"10\",\"03\",\"07\",\"11\",\"08\",\"12\",\"22\",\"15\",\"06\",\"04\",\"13\",\"21\",\"20\",\"23\",\"24\",\"09\",\"16\",\"14\",\"18\",\"26\",\"25\",\"19\",\"32\"]],[\"percent\",{\"type\":\"ndarray\",\"array\":{\"type\":\"bytes\",\"data\":\"wnJPIyz3IkCx3NMIyz0hQBphuacRlhtA9zTCck8jGEDUCMs9jbAUQNQIyz2NsBRAsdzTCMs9EUCx3NMIyz0RQLHc0wjLPRFAsdzTCMs9EUCx3NMIyz0RQBphuacRlgtAGmG5pxGWC0AaYbmnEZYLQBphuacRlgtAGmG5pxGWC0AaYbmnEZYLQBphuacRlgtA1AjLPY2wBEDUCMs9jbAEQNQIyz2NsARA1AjLPY2wBEAaYbmnEZb7PxphuacRlus/\"},\"shape\":[24],\"dtype\":\"float64\",\"order\":\"little\"}]]}}},\"view\":{\"type\":\"object\",\"name\":\"CDSView\",\"id\":\"c6db3447-ef9e-4eec-85da-21bda12cdfeb\",\"attributes\":{\"filter\":{\"type\":\"object\",\"name\":\"AllIndices\",\"id\":\"83a10ceb-da90-4226-b05c-6eceb46e2153\"}}},\"glyph\":{\"type\":\"object\",\"name\":\"VBar\",\"id\":\"c74bd0b9-e24e-4475-9f96-7e1bf47e15cd\",\"attributes\":{\"tags\":[\"apply_ranges\"],\"x\":{\"type\":\"field\",\"field\":\"post_str_b2\"},\"width\":{\"type\":\"value\",\"value\":0.8},\"top\":{\"type\":\"field\",\"field\":\"percent\"},\"fill_color\":{\"type\":\"value\",\"value\":\"#30a2da\"},\"hatch_color\":{\"type\":\"value\",\"value\":\"#30a2da\"}}},\"selection_glyph\":{\"type\":\"object\",\"name\":\"VBar\",\"id\":\"f09fc573-4754-479a-85f1-cdf3fe3c23f3\",\"attributes\":{\"tags\":[\"apply_ranges\"],\"x\":{\"type\":\"field\",\"field\":\"post_str_b2\"},\"width\":{\"type\":\"value\",\"value\":0.8},\"bottom\":{\"type\":\"value\",\"value\":0},\"top\":{\"type\":\"field\",\"field\":\"percent\"},\"line_color\":{\"type\":\"value\",\"value\":\"black\"},\"line_alpha\":{\"type\":\"value\",\"value\":1.0},\"line_width\":{\"type\":\"value\",\"value\":1},\"line_join\":{\"type\":\"value\",\"value\":\"bevel\"},\"line_cap\":{\"type\":\"value\",\"value\":\"butt\"},\"line_dash\":{\"type\":\"value\",\"value\":[]},\"line_dash_offset\":{\"type\":\"value\",\"value\":0},\"fill_color\":{\"type\":\"value\",\"value\":\"#30a2da\"},\"fill_alpha\":{\"type\":\"value\",\"value\":1.0},\"hatch_color\":{\"type\":\"value\",\"value\":\"#30a2da\"},\"hatch_alpha\":{\"type\":\"value\",\"value\":1.0},\"hatch_scale\":{\"type\":\"value\",\"value\":12.0},\"hatch_pattern\":{\"type\":\"value\",\"value\":null},\"hatch_weight\":{\"type\":\"value\",\"value\":1.0}}},\"nonselection_glyph\":{\"type\":\"object\",\"name\":\"VBar\",\"id\":\"cabcacab-ac50-411e-afbf-8c2588e065a4\",\"attributes\":{\"tags\":[\"apply_ranges\"],\"x\":{\"type\":\"field\",\"field\":\"post_str_b2\"},\"width\":{\"type\":\"value\",\"value\":0.8},\"top\":{\"type\":\"field\",\"field\":\"percent\"},\"line_alpha\":{\"type\":\"value\",\"value\":0.1},\"fill_color\":{\"type\":\"value\",\"value\":\"#30a2da\"},\"fill_alpha\":{\"type\":\"value\",\"value\":0.1},\"hatch_color\":{\"type\":\"value\",\"value\":\"#30a2da\"},\"hatch_alpha\":{\"type\":\"value\",\"value\":0.1}}},\"muted_glyph\":{\"type\":\"object\",\"name\":\"VBar\",\"id\":\"958c6325-d7be-4765-94ad-3734be8acd5f\",\"attributes\":{\"tags\":[\"apply_ranges\"],\"x\":{\"type\":\"field\",\"field\":\"post_str_b2\"},\"width\":{\"type\":\"value\",\"value\":0.8},\"top\":{\"type\":\"field\",\"field\":\"percent\"},\"line_alpha\":{\"type\":\"value\",\"value\":0.2},\"fill_color\":{\"type\":\"value\",\"value\":\"#30a2da\"},\"fill_alpha\":{\"type\":\"value\",\"value\":0.2},\"hatch_color\":{\"type\":\"value\",\"value\":\"#30a2da\"},\"hatch_alpha\":{\"type\":\"value\",\"value\":0.2}}}}},{\"type\":\"object\",\"name\":\"Span\",\"id\":\"4c73014a-8be9-44c9-8978-ef18078b0187\",\"attributes\":{\"level\":\"glyph\",\"location\":4.166666666666668,\"line_color\":\"red\",\"line_width\":3}},{\"type\":\"object\",\"name\":\"Span\",\"id\":\"2d2ba620-125f-4e29-a9e9-eeeb45969961\",\"attributes\":{\"level\":\"glyph\",\"location\":6.250000000000003,\"line_color\":\"blue\",\"line_width\":3}},{\"type\":\"object\",\"name\":\"Span\",\"id\":\"6e656eae-b07b-4aaf-bada-7ca6013f38bf\",\"attributes\":{\"level\":\"glyph\",\"location\":2.083333333333334,\"line_color\":\"blue\",\"line_width\":3}}],\"toolbar\":{\"type\":\"object\",\"name\":\"Toolbar\",\"id\":\"6290eff5-10e4-4e2e-a7fa-474f5e76718d\",\"attributes\":{\"tools\":[{\"type\":\"object\",\"name\":\"WheelZoomTool\",\"id\":\"fddb228b-7880-49d8-92a9-f2d6bf14c212\",\"attributes\":{\"tags\":[\"hv_created\"],\"renderers\":\"auto\",\"zoom_together\":\"none\"}},{\"type\":\"object\",\"name\":\"HoverTool\",\"id\":\"282e28b2-ef01-4443-b983-2c46d96c4ac7\",\"attributes\":{\"tags\":[\"hv_created\"],\"renderers\":[{\"id\":\"f6e46f88-7aaa-4cc4-82bf-ac8bac10f4ab\"}],\"tooltips\":[[\"post_str_b2\",\"@{post_str_b2}\"],[\"percent\",\"@{percent}\"]]}},{\"type\":\"object\",\"name\":\"SaveTool\",\"id\":\"274aade8-af81-4f8d-8e16-cbe654c821fd\"},{\"type\":\"object\",\"name\":\"PanTool\",\"id\":\"c831afa4-52bd-4a9a-9fdc-80f3f97ada81\"},{\"type\":\"object\",\"name\":\"BoxZoomTool\",\"id\":\"52d1066c-cedd-48b2-a8e7-ac51c522c11e\",\"attributes\":{\"dimensions\":\"both\",\"overlay\":{\"type\":\"object\",\"name\":\"BoxAnnotation\",\"id\":\"81b3c899-ea68-420a-910a-cddd78c197cb\",\"attributes\":{\"syncable\":false,\"line_color\":\"black\",\"line_alpha\":1.0,\"line_width\":2,\"line_dash\":[4,4],\"fill_color\":\"lightgrey\",\"fill_alpha\":0.5,\"level\":\"overlay\",\"visible\":false,\"left\":{\"type\":\"number\",\"value\":\"nan\"},\"right\":{\"type\":\"number\",\"value\":\"nan\"},\"top\":{\"type\":\"number\",\"value\":\"nan\"},\"bottom\":{\"type\":\"number\",\"value\":\"nan\"},\"left_units\":\"canvas\",\"right_units\":\"canvas\",\"top_units\":\"canvas\",\"bottom_units\":\"canvas\",\"handles\":{\"type\":\"object\",\"name\":\"BoxInteractionHandles\",\"id\":\"6f364821-f911-464f-b90e-2dc3a5da50df\",\"attributes\":{\"all\":{\"type\":\"object\",\"name\":\"AreaVisuals\",\"id\":\"a1d3ffbf-4170-49ba-a8aa-1b692017e6db\",\"attributes\":{\"fill_color\":\"white\",\"hover_fill_color\":\"lightgray\"}}}}}}}},{\"type\":\"object\",\"name\":\"ResetTool\",\"id\":\"c9b6e148-c395-48b7-8af6-138692ed0b4a\"}],\"active_drag\":{\"id\":\"c831afa4-52bd-4a9a-9fdc-80f3f97ada81\"}}},\"left\":[{\"type\":\"object\",\"name\":\"LinearAxis\",\"id\":\"6c29d63e-a778-4eb4-a147-466fd43c9889\",\"attributes\":{\"ticker\":{\"type\":\"object\",\"name\":\"BasicTicker\",\"id\":\"47f158e7-7425-4d84-a241-3d16e037ce52\",\"attributes\":{\"mantissas\":[1,2,5]}},\"formatter\":{\"type\":\"object\",\"name\":\"BasicTickFormatter\",\"id\":\"33b0ad1d-713a-4c47-9a0f-b00011e14a21\"},\"axis_label\":\"percent\",\"major_label_policy\":{\"type\":\"object\",\"name\":\"AllLabels\",\"id\":\"78bd629d-87e1-4859-b503-6eee692caf7d\"}}}],\"below\":[{\"type\":\"object\",\"name\":\"CategoricalAxis\",\"id\":\"46d412b4-19d4-4916-a1f3-51dd462b0c5a\",\"attributes\":{\"ticker\":{\"type\":\"object\",\"name\":\"CategoricalTicker\",\"id\":\"99dbf485-39ef-4c04-8a2a-d8d1959fcb04\"},\"formatter\":{\"type\":\"object\",\"name\":\"CategoricalTickFormatter\",\"id\":\"816eae2e-7439-49ea-91c6-a7a1d281df89\"},\"axis_label\":\"post_str_b2\",\"major_label_policy\":{\"type\":\"object\",\"name\":\"AllLabels\",\"id\":\"93a5a7b4-40c7-47b7-b66d-b062f37113af\"}}}],\"center\":[{\"type\":\"object\",\"name\":\"Grid\",\"id\":\"bebc8a28-b8af-4c70-9b02-67eb3dbc36b6\",\"attributes\":{\"axis\":{\"id\":\"46d412b4-19d4-4916-a1f3-51dd462b0c5a\"},\"grid_line_color\":null}},{\"type\":\"object\",\"name\":\"Grid\",\"id\":\"8a442db3-b4b5-4663-9be1-670fc9db71ff\",\"attributes\":{\"dimension\":1,\"axis\":{\"id\":\"6c29d63e-a778-4eb4-a147-466fd43c9889\"},\"grid_line_color\":null}}],\"min_border_top\":10,\"min_border_bottom\":10,\"min_border_left\":10,\"min_border_right\":10,\"output_backend\":\"webgl\"}},{\"type\":\"object\",\"name\":\"Spacer\",\"id\":\"b15daacd-d42b-47ee-9f67-508825faba52\",\"attributes\":{\"name\":\"HSpacer00362\",\"stylesheets\":[\"\\n:host(.pn-loading):before, .pn-loading:before {\\n  background-color: #c3c3c3;\\n  mask-size: auto calc(min(50%, 400px));\\n  -webkit-mask-size: auto calc(min(50%, 400px));\\n}\",{\"id\":\"e80dd072-2ef6-49d4-8ae6-27c4d7692bd0\"},{\"id\":\"e642e996-d4e0-477f-a37d-8af0643d332a\"},{\"id\":\"383148d4-3fc0-419f-85b3-7030c0c73259\"}],\"margin\":0,\"sizing_mode\":\"stretch_width\",\"align\":\"start\"}}]}}],\"defs\":[{\"type\":\"model\",\"name\":\"ReactiveHTML1\"},{\"type\":\"model\",\"name\":\"FlexBox1\",\"properties\":[{\"name\":\"align_content\",\"kind\":\"Any\",\"default\":\"flex-start\"},{\"name\":\"align_items\",\"kind\":\"Any\",\"default\":\"flex-start\"},{\"name\":\"flex_direction\",\"kind\":\"Any\",\"default\":\"row\"},{\"name\":\"flex_wrap\",\"kind\":\"Any\",\"default\":\"wrap\"},{\"name\":\"gap\",\"kind\":\"Any\",\"default\":\"\"},{\"name\":\"justify_content\",\"kind\":\"Any\",\"default\":\"flex-start\"}]},{\"type\":\"model\",\"name\":\"FloatPanel1\",\"properties\":[{\"name\":\"config\",\"kind\":\"Any\",\"default\":{\"type\":\"map\"}},{\"name\":\"contained\",\"kind\":\"Any\",\"default\":true},{\"name\":\"position\",\"kind\":\"Any\",\"default\":\"right-top\"},{\"name\":\"offsetx\",\"kind\":\"Any\",\"default\":null},{\"name\":\"offsety\",\"kind\":\"Any\",\"default\":null},{\"name\":\"theme\",\"kind\":\"Any\",\"default\":\"primary\"},{\"name\":\"status\",\"kind\":\"Any\",\"default\":\"normalized\"}]},{\"type\":\"model\",\"name\":\"GridStack1\",\"properties\":[{\"name\":\"ncols\",\"kind\":\"Any\",\"default\":null},{\"name\":\"nrows\",\"kind\":\"Any\",\"default\":null},{\"name\":\"allow_resize\",\"kind\":\"Any\",\"default\":true},{\"name\":\"allow_drag\",\"kind\":\"Any\",\"default\":true},{\"name\":\"state\",\"kind\":\"Any\",\"default\":[]}]},{\"type\":\"model\",\"name\":\"drag1\",\"properties\":[{\"name\":\"slider_width\",\"kind\":\"Any\",\"default\":5},{\"name\":\"slider_color\",\"kind\":\"Any\",\"default\":\"black\"},{\"name\":\"value\",\"kind\":\"Any\",\"default\":50}]},{\"type\":\"model\",\"name\":\"click1\",\"properties\":[{\"name\":\"terminal_output\",\"kind\":\"Any\",\"default\":\"\"},{\"name\":\"debug_name\",\"kind\":\"Any\",\"default\":\"\"},{\"name\":\"clears\",\"kind\":\"Any\",\"default\":0}]},{\"type\":\"model\",\"name\":\"FastWrapper1\",\"properties\":[{\"name\":\"object\",\"kind\":\"Any\",\"default\":null},{\"name\":\"style\",\"kind\":\"Any\",\"default\":null}]},{\"type\":\"model\",\"name\":\"NotificationArea1\",\"properties\":[{\"name\":\"js_events\",\"kind\":\"Any\",\"default\":{\"type\":\"map\"}},{\"name\":\"max_notifications\",\"kind\":\"Any\",\"default\":5},{\"name\":\"notifications\",\"kind\":\"Any\",\"default\":[]},{\"name\":\"position\",\"kind\":\"Any\",\"default\":\"bottom-right\"},{\"name\":\"_clear\",\"kind\":\"Any\",\"default\":0},{\"name\":\"types\",\"kind\":\"Any\",\"default\":[{\"type\":\"map\",\"entries\":[[\"type\",\"warning\"],[\"background\",\"#ffc107\"],[\"icon\",{\"type\":\"map\",\"entries\":[[\"className\",\"fas fa-exclamation-triangle\"],[\"tagName\",\"i\"],[\"color\",\"white\"]]}]]},{\"type\":\"map\",\"entries\":[[\"type\",\"info\"],[\"background\",\"#007bff\"],[\"icon\",{\"type\":\"map\",\"entries\":[[\"className\",\"fas fa-info-circle\"],[\"tagName\",\"i\"],[\"color\",\"white\"]]}]]}]}]},{\"type\":\"model\",\"name\":\"Notification\",\"properties\":[{\"name\":\"background\",\"kind\":\"Any\",\"default\":null},{\"name\":\"duration\",\"kind\":\"Any\",\"default\":3000},{\"name\":\"icon\",\"kind\":\"Any\",\"default\":null},{\"name\":\"message\",\"kind\":\"Any\",\"default\":\"\"},{\"name\":\"notification_type\",\"kind\":\"Any\",\"default\":null},{\"name\":\"_rendered\",\"kind\":\"Any\",\"default\":false},{\"name\":\"_destroyed\",\"kind\":\"Any\",\"default\":false}]},{\"type\":\"model\",\"name\":\"TemplateActions1\",\"properties\":[{\"name\":\"open_modal\",\"kind\":\"Any\",\"default\":0},{\"name\":\"close_modal\",\"kind\":\"Any\",\"default\":0}]},{\"type\":\"model\",\"name\":\"BootstrapTemplateActions1\",\"properties\":[{\"name\":\"open_modal\",\"kind\":\"Any\",\"default\":0},{\"name\":\"close_modal\",\"kind\":\"Any\",\"default\":0}]},{\"type\":\"model\",\"name\":\"TemplateEditor1\",\"properties\":[{\"name\":\"layout\",\"kind\":\"Any\",\"default\":[]}]},{\"type\":\"model\",\"name\":\"MaterialTemplateActions1\",\"properties\":[{\"name\":\"open_modal\",\"kind\":\"Any\",\"default\":0},{\"name\":\"close_modal\",\"kind\":\"Any\",\"default\":0}]},{\"type\":\"model\",\"name\":\"ReactiveESM1\",\"properties\":[{\"name\":\"esm_constants\",\"kind\":\"Any\",\"default\":{\"type\":\"map\"}}]},{\"type\":\"model\",\"name\":\"JSComponent1\",\"properties\":[{\"name\":\"esm_constants\",\"kind\":\"Any\",\"default\":{\"type\":\"map\"}}]},{\"type\":\"model\",\"name\":\"ReactComponent1\",\"properties\":[{\"name\":\"esm_constants\",\"kind\":\"Any\",\"default\":{\"type\":\"map\"}}]},{\"type\":\"model\",\"name\":\"AnyWidgetComponent1\",\"properties\":[{\"name\":\"esm_constants\",\"kind\":\"Any\",\"default\":{\"type\":\"map\"}}]},{\"type\":\"model\",\"name\":\"request_value1\",\"properties\":[{\"name\":\"fill\",\"kind\":\"Any\",\"default\":\"none\"},{\"name\":\"_synced\",\"kind\":\"Any\",\"default\":null},{\"name\":\"_request_sync\",\"kind\":\"Any\",\"default\":0}]}]}};\n",
       "  var render_items = [{\"docid\":\"d1ffb9d7-5362-42ad-8609-dd3a3aa9ec6f\",\"roots\":{\"e9184ad9-6ab8-444a-a2e4-f8548110e4cf\":\"cc4e4584-be56-4c23-aa6e-edec4a1b7a41\"},\"root_ids\":[\"e9184ad9-6ab8-444a-a2e4-f8548110e4cf\"]}];\n",
       "  var docs = Object.values(docs_json)\n",
       "  if (!docs) {\n",
       "    return\n",
       "  }\n",
       "  const py_version = docs[0].version.replace('rc', '-rc.').replace('.dev', '-dev.')\n",
       "  async function embed_document(root) {\n",
       "    var Bokeh = get_bokeh(root)\n",
       "    await Bokeh.embed.embed_items_notebook(docs_json, render_items);\n",
       "    for (const render_item of render_items) {\n",
       "      for (const root_id of render_item.root_ids) {\n",
       "\tconst id_el = document.getElementById(root_id)\n",
       "\tif (id_el.children.length && id_el.children[0].hasAttribute('data-root-id')) {\n",
       "\t  const root_el = id_el.children[0]\n",
       "\t  root_el.id = root_el.id + '-rendered'\n",
       "\t  for (const child of root_el.children) {\n",
       "            // Ensure JupyterLab does not capture keyboard shortcuts\n",
       "            // see: https://jupyterlab.readthedocs.io/en/4.1.x/extension/notebook.html#keyboard-interaction-model\n",
       "\t    child.setAttribute('data-lm-suppress-shortcuts', 'true')\n",
       "\t  }\n",
       "\t}\n",
       "      }\n",
       "    }\n",
       "  }\n",
       "  function get_bokeh(root) {\n",
       "    if (root.Bokeh === undefined) {\n",
       "      return null\n",
       "    } else if (root.Bokeh.version !== py_version) {\n",
       "      if (root.Bokeh.versions === undefined || !root.Bokeh.versions.has(py_version)) {\n",
       "\treturn null\n",
       "      }\n",
       "      return root.Bokeh.versions.get(py_version);\n",
       "    } else if (root.Bokeh.version === py_version) {\n",
       "      return root.Bokeh\n",
       "    }\n",
       "    return null\n",
       "  }\n",
       "  function is_loaded(root) {\n",
       "    var Bokeh = get_bokeh(root)\n",
       "    return (Bokeh != null && Bokeh.Panel !== undefined)\n",
       "  }\n",
       "  if (is_loaded(root)) {\n",
       "    embed_document(root);\n",
       "  } else {\n",
       "    var attempts = 0;\n",
       "    var timer = setInterval(function(root) {\n",
       "      if (is_loaded(root)) {\n",
       "        clearInterval(timer);\n",
       "        embed_document(root);\n",
       "      } else if (document.readyState == \"complete\") {\n",
       "        attempts++;\n",
       "        if (attempts > 200) {\n",
       "          clearInterval(timer);\n",
       "\t  var Bokeh = get_bokeh(root)\n",
       "\t  if (Bokeh == null || Bokeh.Panel == null) {\n",
       "            console.warn(\"Panel: ERROR: Unable to run Panel code because Bokeh or Panel library is missing\");\n",
       "\t  } else {\n",
       "\t    console.warn(\"Panel: WARNING: Attempting to render but not all required libraries could be resolved.\")\n",
       "\t    embed_document(root)\n",
       "\t  }\n",
       "        }\n",
       "      }\n",
       "    }, 25, root)\n",
       "  }\n",
       "})(window);</script>"
      ],
      "text/plain": [
       ":Overlay\n",
       "   .Bars.I    :Bars   [post_str_b2]   (percent)\n",
       "   .HLine.I   :HLine   [x,y]\n",
       "   .HLine.II  :HLine   [x,y]\n",
       "   .HLine.III :HLine   [x,y]"
      ]
     },
     "metadata": {
      "application/vnd.holoviews_exec.v0+json": {
       "id": "e9184ad9-6ab8-444a-a2e4-f8548110e4cf"
      }
     },
     "output_type": "display_data"
    },
    {
     "name": "stdout",
     "output_type": "stream",
     "text": [
      "df_10_last FOR str_b2 = 07\n",
      "Last 3 results last_results=['05', '03', '08']\n"
     ]
    },
    {
     "data": {
      "text/html": [
       "<div><style>\n",
       ".dataframe > thead > tr,\n",
       ".dataframe > tbody > tr {\n",
       "  text-align: right;\n",
       "  white-space: pre-wrap;\n",
       "}\n",
       "</style>\n",
       "<small>shape: (10, 30)</small><table border=\"1\" class=\"dataframe\"><thead><tr><th>fecha</th><th>sorteo</th><th>bolillas</th><th>yapa</th><th>adicionales</th><th>sorteo_extra</th><th>id</th><th>combo</th><th>b1</th><th>b2</th><th>b3</th><th>b4</th><th>b5</th><th>b6</th><th>str_b1</th><th>str_b2</th><th>str_b3</th><th>str_b4</th><th>str_b5</th><th>str_b6</th><th>post_str_b1</th><th>post_str_b2</th><th>post_str_b3</th><th>post_str_b4</th><th>post_str_b5</th><th>post_str_blast</th><th>is_rare_combination</th><th>reason</th><th>jumps_map</th><th>unijump</th></tr><tr><td>str</td><td>str</td><td>str</td><td>str</td><td>str</td><td>str</td><td>str</td><td>array[u8, 6]</td><td>u8</td><td>u8</td><td>u8</td><td>u8</td><td>u8</td><td>u8</td><td>str</td><td>str</td><td>str</td><td>str</td><td>str</td><td>str</td><td>str</td><td>str</td><td>str</td><td>str</td><td>str</td><td>str</td><td>bool</td><td>u8</td><td>str</td><td>i64</td></tr></thead><tbody><tr><td>&quot;23/03/2025&quot;</td><td>&quot;1179&quot;</td><td>&quot;24 07 18 03 37 49&quot;</td><td>&quot;43&quot;</td><td>&quot;50 28&quot;</td><td>&quot;Promoción Sí o Sí&quot;</td><td>&quot;030718243749&quot;</td><td>[3, 7, … 49]</td><td>3</td><td>7</td><td>18</td><td>24</td><td>37</td><td>49</td><td>&quot;03&quot;</td><td>&quot;07&quot;</td><td>&quot;18&quot;</td><td>&quot;24&quot;</td><td>&quot;37&quot;</td><td>&quot;49&quot;</td><td>&quot;01&quot;</td><td>&quot;05&quot;</td><td>&quot;13&quot;</td><td>&quot;35&quot;</td><td>&quot;37&quot;</td><td>&quot;43&quot;</td><td>false</td><td>0</td><td>&quot;04_11_06_13_12&quot;</td><td>-44</td></tr><tr><td>&quot;11/09/2024&quot;</td><td>&quot;1124&quot;</td><td>&quot;04 41 07 28 29 46&quot;</td><td>&quot;20&quot;</td><td>&quot;11&quot;</td><td>&quot;Promoción Sí o Sí&quot;</td><td>&quot;040728294146&quot;</td><td>[4, 7, … 46]</td><td>4</td><td>7</td><td>28</td><td>29</td><td>41</td><td>46</td><td>&quot;04&quot;</td><td>&quot;07&quot;</td><td>&quot;28&quot;</td><td>&quot;29&quot;</td><td>&quot;41&quot;</td><td>&quot;46&quot;</td><td>&quot;01&quot;</td><td>&quot;03&quot;</td><td>&quot;29&quot;</td><td>&quot;36&quot;</td><td>&quot;38&quot;</td><td>&quot;43&quot;</td><td>true</td><td>16</td><td>&quot;03_21_01_12_05&quot;</td><td>-118</td></tr><tr><td>&quot;09/06/2024&quot;</td><td>&quot;1097&quot;</td><td>&quot;39 20 29 03 07 11&quot;</td><td>&quot;27&quot;</td><td>&quot;21 08&quot;</td><td>&quot;Promoción Sí o Sí&quot;</td><td>&quot;030711202939&quot;</td><td>[3, 7, … 39]</td><td>3</td><td>7</td><td>11</td><td>20</td><td>29</td><td>39</td><td>&quot;03&quot;</td><td>&quot;07&quot;</td><td>&quot;11&quot;</td><td>&quot;20&quot;</td><td>&quot;29&quot;</td><td>&quot;39&quot;</td><td>&quot;03&quot;</td><td>&quot;08&quot;</td><td>&quot;11&quot;</td><td>&quot;16&quot;</td><td>&quot;32&quot;</td><td>&quot;48&quot;</td><td>true</td><td>9</td><td>&quot;04_04_09_09_10&quot;</td><td>16</td></tr><tr><td>&quot;14/04/2024&quot;</td><td>&quot;1081&quot;</td><td>&quot;05 17 07 47 41 19&quot;</td><td>&quot;04&quot;</td><td>&quot;33 03&quot;</td><td>&quot;Promoción Sí o Sí&quot;</td><td>&quot;050717194147&quot;</td><td>[5, 7, … 47]</td><td>5</td><td>7</td><td>17</td><td>19</td><td>41</td><td>47</td><td>&quot;05&quot;</td><td>&quot;07&quot;</td><td>&quot;17&quot;</td><td>&quot;19&quot;</td><td>&quot;41&quot;</td><td>&quot;47&quot;</td><td>&quot;06&quot;</td><td>&quot;21&quot;</td><td>&quot;26&quot;</td><td>&quot;27&quot;</td><td>&quot;40&quot;</td><td>&quot;47&quot;</td><td>true</td><td>19</td><td>&quot;02_10_02_22_06&quot;</td><td>-108</td></tr><tr><td>&quot;03/04/2024&quot;</td><td>&quot;1078&quot;</td><td>&quot;02 07 38 18 31 26&quot;</td><td>&quot;17&quot;</td><td>&quot;41 03&quot;</td><td>&quot;Promoción Sí o Sí&quot;</td><td>&quot;020718263138&quot;</td><td>[2, 7, … 38]</td><td>2</td><td>7</td><td>18</td><td>26</td><td>31</td><td>38</td><td>&quot;02&quot;</td><td>&quot;07&quot;</td><td>&quot;18&quot;</td><td>&quot;26&quot;</td><td>&quot;31&quot;</td><td>&quot;38&quot;</td><td>&quot;05&quot;</td><td>&quot;10&quot;</td><td>&quot;20&quot;</td><td>&quot;22&quot;</td><td>&quot;25&quot;</td><td>&quot;35&quot;</td><td>false</td><td>0</td><td>&quot;05_11_08_05_07&quot;</td><td>-4</td></tr><tr><td>&quot;06/03/2024&quot;</td><td>&quot;1070&quot;</td><td>&quot;30 22 04 07 39 37&quot;</td><td>&quot;38&quot;</td><td>&quot;43 02 18&quot;</td><td>&quot;Promoción Sí o Sí&quot;</td><td>&quot;040722303739&quot;</td><td>[4, 7, … 39]</td><td>4</td><td>7</td><td>22</td><td>30</td><td>37</td><td>39</td><td>&quot;04&quot;</td><td>&quot;07&quot;</td><td>&quot;22&quot;</td><td>&quot;30&quot;</td><td>&quot;37&quot;</td><td>&quot;39&quot;</td><td>&quot;12&quot;</td><td>&quot;18&quot;</td><td>&quot;30&quot;</td><td>&quot;32&quot;</td><td>&quot;34&quot;</td><td>&quot;35&quot;</td><td>true</td><td>16</td><td>&quot;03_15_08_07_02&quot;</td><td>-35</td></tr><tr><td>&quot;14/02/2024&quot;</td><td>&quot;1064&quot;</td><td>&quot;42 03 18 07 29 39&quot;</td><td>&quot;30&quot;</td><td>&quot;28 31&quot;</td><td>&quot;Promoción Sí o Sí&quot;</td><td>&quot;030718293942&quot;</td><td>[3, 7, … 42]</td><td>3</td><td>7</td><td>18</td><td>29</td><td>39</td><td>42</td><td>&quot;03&quot;</td><td>&quot;07&quot;</td><td>&quot;18&quot;</td><td>&quot;29&quot;</td><td>&quot;39&quot;</td><td>&quot;42&quot;</td><td>&quot;12&quot;</td><td>&quot;23&quot;</td><td>&quot;24&quot;</td><td>&quot;31&quot;</td><td>&quot;35&quot;</td><td>&quot;42&quot;</td><td>true</td><td>8</td><td>&quot;04_11_11_10_03&quot;</td><td>-11</td></tr><tr><td>&quot;17/09/2023&quot;</td><td>&quot;1021&quot;</td><td>&quot;36 05 47 46 07 08&quot;</td><td>&quot;14&quot;</td><td>&quot;02 01 18&quot;</td><td>&quot;Promoción Sí o Sí&quot;</td><td>&quot;050708364647&quot;</td><td>[5, 7, … 47]</td><td>5</td><td>7</td><td>8</td><td>36</td><td>46</td><td>47</td><td>&quot;05&quot;</td><td>&quot;07&quot;</td><td>&quot;08&quot;</td><td>&quot;36&quot;</td><td>&quot;46&quot;</td><td>&quot;47&quot;</td><td>&quot;19&quot;</td><td>&quot;24&quot;</td><td>&quot;27&quot;</td><td>&quot;34&quot;</td><td>&quot;42&quot;</td><td>&quot;47&quot;</td><td>true</td><td>16</td><td>&quot;02_01_28_10_01&quot;</td><td>127</td></tr><tr><td>&quot;10/09/2023&quot;</td><td>&quot;1019&quot;</td><td>&quot;34 41 47 07 20 03&quot;</td><td>&quot;16&quot;</td><td>&quot;22&quot;</td><td>&quot;Promoción Sí o Sí&quot;</td><td>&quot;030720344147&quot;</td><td>[3, 7, … 47]</td><td>3</td><td>7</td><td>20</td><td>34</td><td>41</td><td>47</td><td>&quot;03&quot;</td><td>&quot;07&quot;</td><td>&quot;20&quot;</td><td>&quot;34&quot;</td><td>&quot;41&quot;</td><td>&quot;47&quot;</td><td>&quot;19&quot;</td><td>&quot;24&quot;</td><td>&quot;28&quot;</td><td>&quot;41&quot;</td><td>&quot;42&quot;</td><td>&quot;48&quot;</td><td>true</td><td>1</td><td>&quot;04_13_14_07_06&quot;</td><td>14</td></tr><tr><td>&quot;20/08/2023&quot;</td><td>&quot;1013&quot;</td><td>&quot;43 25 27 34 06 07&quot;</td><td>&quot;31&quot;</td><td>&quot;09 35&quot;</td><td>&quot;Promoción Sí o Sí&quot;</td><td>&quot;060725273443&quot;</td><td>[6, 7, … 43]</td><td>6</td><td>7</td><td>25</td><td>27</td><td>34</td><td>43</td><td>&quot;06&quot;</td><td>&quot;07&quot;</td><td>&quot;25&quot;</td><td>&quot;27&quot;</td><td>&quot;34&quot;</td><td>&quot;43&quot;</td><td>&quot;11&quot;</td><td>&quot;24&quot;</td><td>&quot;25&quot;</td><td>&quot;32&quot;</td><td>&quot;38&quot;</td><td>&quot;43&quot;</td><td>true</td><td>16</td><td>&quot;01_18_02_07_09&quot;</td><td>-78</td></tr></tbody></table></div>"
      ],
      "text/plain": [
       "shape: (10, 30)\n",
       "┌────────────┬────────┬───────────────┬──────┬───┬───────────────┬────────┬──────────────┬─────────┐\n",
       "│ fecha      ┆ sorteo ┆ bolillas      ┆ yapa ┆ … ┆ is_rare_combi ┆ reason ┆ jumps_map    ┆ unijump │\n",
       "│ ---        ┆ ---    ┆ ---           ┆ ---  ┆   ┆ nation        ┆ ---    ┆ ---          ┆ ---     │\n",
       "│ str        ┆ str    ┆ str           ┆ str  ┆   ┆ ---           ┆ u8     ┆ str          ┆ i64     │\n",
       "│            ┆        ┆               ┆      ┆   ┆ bool          ┆        ┆              ┆         │\n",
       "╞════════════╪════════╪═══════════════╪══════╪═══╪═══════════════╪════════╪══════════════╪═════════╡\n",
       "│ 23/03/2025 ┆ 1179   ┆ 24 07 18 03   ┆ 43   ┆ … ┆ false         ┆ 0      ┆ 04_11_06_13_ ┆ -44     │\n",
       "│            ┆        ┆ 37 49         ┆      ┆   ┆               ┆        ┆ 12           ┆         │\n",
       "│ 11/09/2024 ┆ 1124   ┆ 04 41 07 28   ┆ 20   ┆ … ┆ true          ┆ 16     ┆ 03_21_01_12_ ┆ -118    │\n",
       "│            ┆        ┆ 29 46         ┆      ┆   ┆               ┆        ┆ 05           ┆         │\n",
       "│ 09/06/2024 ┆ 1097   ┆ 39 20 29 03   ┆ 27   ┆ … ┆ true          ┆ 9      ┆ 04_04_09_09_ ┆ 16      │\n",
       "│            ┆        ┆ 07 11         ┆      ┆   ┆               ┆        ┆ 10           ┆         │\n",
       "│ 14/04/2024 ┆ 1081   ┆ 05 17 07 47   ┆ 04   ┆ … ┆ true          ┆ 19     ┆ 02_10_02_22_ ┆ -108    │\n",
       "│            ┆        ┆ 41 19         ┆      ┆   ┆               ┆        ┆ 06           ┆         │\n",
       "│ 03/04/2024 ┆ 1078   ┆ 02 07 38 18   ┆ 17   ┆ … ┆ false         ┆ 0      ┆ 05_11_08_05_ ┆ -4      │\n",
       "│            ┆        ┆ 31 26         ┆      ┆   ┆               ┆        ┆ 07           ┆         │\n",
       "│ 06/03/2024 ┆ 1070   ┆ 30 22 04 07   ┆ 38   ┆ … ┆ true          ┆ 16     ┆ 03_15_08_07_ ┆ -35     │\n",
       "│            ┆        ┆ 39 37         ┆      ┆   ┆               ┆        ┆ 02           ┆         │\n",
       "│ 14/02/2024 ┆ 1064   ┆ 42 03 18 07   ┆ 30   ┆ … ┆ true          ┆ 8      ┆ 04_11_11_10_ ┆ -11     │\n",
       "│            ┆        ┆ 29 39         ┆      ┆   ┆               ┆        ┆ 03           ┆         │\n",
       "│ 17/09/2023 ┆ 1021   ┆ 36 05 47 46   ┆ 14   ┆ … ┆ true          ┆ 16     ┆ 02_01_28_10_ ┆ 127     │\n",
       "│            ┆        ┆ 07 08         ┆      ┆   ┆               ┆        ┆ 01           ┆         │\n",
       "│ 10/09/2023 ┆ 1019   ┆ 34 41 47 07   ┆ 16   ┆ … ┆ true          ┆ 1      ┆ 04_13_14_07_ ┆ 14      │\n",
       "│            ┆        ┆ 20 03         ┆      ┆   ┆               ┆        ┆ 06           ┆         │\n",
       "│ 20/08/2023 ┆ 1013   ┆ 43 25 27 34   ┆ 31   ┆ … ┆ true          ┆ 16     ┆ 01_18_02_07_ ┆ -78     │\n",
       "│            ┆        ┆ 06 07         ┆      ┆   ┆               ┆        ┆ 09           ┆         │\n",
       "└────────────┴────────┴───────────────┴──────┴───┴───────────────┴────────┴──────────────┴─────────┘"
      ]
     },
     "metadata": {},
     "output_type": "display_data"
    },
    {
     "name": "stdout",
     "output_type": "stream",
     "text": [
      "df_jumps_map FOR str_b2 = 07\n"
     ]
    },
    {
     "data": {
      "text/html": [
       "<div><style>\n",
       ".dataframe > thead > tr,\n",
       ".dataframe > tbody > tr {\n",
       "  text-align: right;\n",
       "  white-space: pre-wrap;\n",
       "}\n",
       "</style>\n",
       "<small>shape: (115, 2)</small><table border=\"1\" class=\"dataframe\"><thead><tr><th>jumps_map</th><th>count</th></tr><tr><td>str</td><td>u32</td></tr></thead><tbody><tr><td>&quot;01_04_05_23_05&quot;</td><td>2</td></tr><tr><td>&quot;01_03_13_15_05&quot;</td><td>1</td></tr><tr><td>&quot;06_05_06_02_23&quot;</td><td>1</td></tr><tr><td>&quot;03_07_02_08_07&quot;</td><td>1</td></tr><tr><td>&quot;01_07_09_04_01&quot;</td><td>1</td></tr><tr><td>&hellip;</td><td>&hellip;</td></tr><tr><td>&quot;04_01_26_01_02&quot;</td><td>1</td></tr><tr><td>&quot;04_01_26_03_05&quot;</td><td>1</td></tr><tr><td>&quot;03_03_02_15_01&quot;</td><td>1</td></tr><tr><td>&quot;04_08_09_10_01&quot;</td><td>1</td></tr><tr><td>&quot;03_04_02_06_01&quot;</td><td>1</td></tr></tbody></table></div>"
      ],
      "text/plain": [
       "shape: (115, 2)\n",
       "┌────────────────┬───────┐\n",
       "│ jumps_map      ┆ count │\n",
       "│ ---            ┆ ---   │\n",
       "│ str            ┆ u32   │\n",
       "╞════════════════╪═══════╡\n",
       "│ 01_04_05_23_05 ┆ 2     │\n",
       "│ 01_03_13_15_05 ┆ 1     │\n",
       "│ 06_05_06_02_23 ┆ 1     │\n",
       "│ 03_07_02_08_07 ┆ 1     │\n",
       "│ 01_07_09_04_01 ┆ 1     │\n",
       "│ …              ┆ …     │\n",
       "│ 04_01_26_01_02 ┆ 1     │\n",
       "│ 04_01_26_03_05 ┆ 1     │\n",
       "│ 03_03_02_15_01 ┆ 1     │\n",
       "│ 04_08_09_10_01 ┆ 1     │\n",
       "│ 03_04_02_06_01 ┆ 1     │\n",
       "└────────────────┴───────┘"
      ]
     },
     "metadata": {},
     "output_type": "display_data"
    },
    {
     "name": "stdout",
     "output_type": "stream",
     "text": [
      "df_unijump FOR str_b2 = 07\n"
     ]
    },
    {
     "data": {
      "text/html": [
       "<div><style>\n",
       ".dataframe > thead > tr,\n",
       ".dataframe > tbody > tr {\n",
       "  text-align: right;\n",
       "  white-space: pre-wrap;\n",
       "}\n",
       "</style>\n",
       "<small>shape: (93, 2)</small><table border=\"1\" class=\"dataframe\"><thead><tr><th>unijump</th><th>count</th></tr><tr><td>i64</td><td>u32</td></tr></thead><tbody><tr><td>16</td><td>4</td></tr><tr><td>-64</td><td>3</td></tr><tr><td>12</td><td>2</td></tr><tr><td>-4</td><td>2</td></tr><tr><td>-8</td><td>2</td></tr><tr><td>&hellip;</td><td>&hellip;</td></tr><tr><td>4</td><td>1</td></tr><tr><td>-92</td><td>1</td></tr><tr><td>11</td><td>1</td></tr><tr><td>-15</td><td>1</td></tr><tr><td>55</td><td>1</td></tr></tbody></table></div>"
      ],
      "text/plain": [
       "shape: (93, 2)\n",
       "┌─────────┬───────┐\n",
       "│ unijump ┆ count │\n",
       "│ ---     ┆ ---   │\n",
       "│ i64     ┆ u32   │\n",
       "╞═════════╪═══════╡\n",
       "│ 16      ┆ 4     │\n",
       "│ -64     ┆ 3     │\n",
       "│ 12      ┆ 2     │\n",
       "│ -4      ┆ 2     │\n",
       "│ -8      ┆ 2     │\n",
       "│ …       ┆ …     │\n",
       "│ 4       ┆ 1     │\n",
       "│ -92     ┆ 1     │\n",
       "│ 11      ┆ 1     │\n",
       "│ -15     ┆ 1     │\n",
       "│ 55      ┆ 1     │\n",
       "└─────────┴───────┘"
      ]
     },
     "metadata": {},
     "output_type": "display_data"
    }
   ],
   "source": [
    "possible_b2, exclude_jump_maps_b2, last_post_b2 = plot_post_col(col='str_b2', post_col='post_str_b2')"
   ]
  },
  {
   "cell_type": "code",
   "execution_count": 9,
   "metadata": {},
   "outputs": [
    {
     "name": "stdout",
     "output_type": "stream",
     "text": [
      "Setting test_value='09'\n",
      "df_viz FOR str_b3 = 09\n"
     ]
    },
    {
     "data": {
      "text/html": [
       "<div><style>\n",
       ".dataframe > thead > tr,\n",
       ".dataframe > tbody > tr {\n",
       "  text-align: right;\n",
       "  white-space: pre-wrap;\n",
       "}\n",
       "</style>\n",
       "<small>shape: (20, 3)</small><table border=\"1\" class=\"dataframe\"><thead><tr><th>post_str_b3</th><th>count</th><th>percent</th></tr><tr><td>str</td><td>u32</td><td>f64</td></tr></thead><tbody><tr><td>&quot;25&quot;</td><td>5</td><td>11.904762</td></tr><tr><td>&quot;14&quot;</td><td>4</td><td>9.52381</td></tr><tr><td>&quot;16&quot;</td><td>4</td><td>9.52381</td></tr><tr><td>&quot;13&quot;</td><td>3</td><td>7.142857</td></tr><tr><td>&quot;19&quot;</td><td>3</td><td>7.142857</td></tr><tr><td>&hellip;</td><td>&hellip;</td><td>&hellip;</td></tr><tr><td>&quot;15&quot;</td><td>1</td><td>2.380952</td></tr><tr><td>&quot;33&quot;</td><td>1</td><td>2.380952</td></tr><tr><td>&quot;10&quot;</td><td>1</td><td>2.380952</td></tr><tr><td>&quot;12&quot;</td><td>1</td><td>2.380952</td></tr><tr><td>&quot;23&quot;</td><td>1</td><td>2.380952</td></tr></tbody></table></div>"
      ],
      "text/plain": [
       "shape: (20, 3)\n",
       "┌─────────────┬───────┬───────────┐\n",
       "│ post_str_b3 ┆ count ┆ percent   │\n",
       "│ ---         ┆ ---   ┆ ---       │\n",
       "│ str         ┆ u32   ┆ f64       │\n",
       "╞═════════════╪═══════╪═══════════╡\n",
       "│ 25          ┆ 5     ┆ 11.904762 │\n",
       "│ 14          ┆ 4     ┆ 9.52381   │\n",
       "│ 16          ┆ 4     ┆ 9.52381   │\n",
       "│ 13          ┆ 3     ┆ 7.142857  │\n",
       "│ 19          ┆ 3     ┆ 7.142857  │\n",
       "│ …           ┆ …     ┆ …         │\n",
       "│ 15          ┆ 1     ┆ 2.380952  │\n",
       "│ 33          ┆ 1     ┆ 2.380952  │\n",
       "│ 10          ┆ 1     ┆ 2.380952  │\n",
       "│ 12          ┆ 1     ┆ 2.380952  │\n",
       "│ 23          ┆ 1     ┆ 2.380952  │\n",
       "└─────────────┴───────┴───────────┘"
      ]
     },
     "metadata": {},
     "output_type": "display_data"
    },
    {
     "data": {},
     "metadata": {},
     "output_type": "display_data"
    },
    {
     "data": {
      "application/vnd.holoviews_exec.v0+json": "",
      "text/html": [
       "<div id='ab97c27e-1858-48a2-81fb-10d7ce49bf17'>\n",
       "  <div id=\"ce419f84-5b46-440a-b09b-bd1395da5cd6\" data-root-id=\"ab97c27e-1858-48a2-81fb-10d7ce49bf17\" style=\"display: contents;\"></div>\n",
       "</div>\n",
       "<script type=\"application/javascript\">(function(root) {\n",
       "  var docs_json = {\"1d30124a-7d8b-4648-b2be-1ffc7f540460\":{\"version\":\"3.7.2\",\"title\":\"Bokeh Application\",\"roots\":[{\"type\":\"object\",\"name\":\"Row\",\"id\":\"ab97c27e-1858-48a2-81fb-10d7ce49bf17\",\"attributes\":{\"name\":\"Row00428\",\"tags\":[\"embedded\"],\"stylesheets\":[\"\\n:host(.pn-loading):before, .pn-loading:before {\\n  background-color: #c3c3c3;\\n  mask-size: auto calc(min(50%, 400px));\\n  -webkit-mask-size: auto calc(min(50%, 400px));\\n}\",{\"type\":\"object\",\"name\":\"ImportedStyleSheet\",\"id\":\"a6e92367-899a-4c13-bd73-198c7f3e5923\",\"attributes\":{\"url\":\"https://cdn.holoviz.org/panel/1.6.2/dist/css/loading.css\"}},{\"type\":\"object\",\"name\":\"ImportedStyleSheet\",\"id\":\"9f5290d4-864f-4782-9b98-16d8bea281b9\",\"attributes\":{\"url\":\"https://cdn.holoviz.org/panel/1.6.2/dist/css/listpanel.css\"}},{\"type\":\"object\",\"name\":\"ImportedStyleSheet\",\"id\":\"9005ac16-6b45-472b-a246-47668666f766\",\"attributes\":{\"url\":\"https://cdn.holoviz.org/panel/1.6.2/dist/bundled/theme/default.css\"}},{\"type\":\"object\",\"name\":\"ImportedStyleSheet\",\"id\":\"6046a157-70ff-410e-aab9-9cfc6942b606\",\"attributes\":{\"url\":\"https://cdn.holoviz.org/panel/1.6.2/dist/bundled/theme/native.css\"}}],\"min_width\":700,\"margin\":0,\"sizing_mode\":\"stretch_width\",\"align\":\"start\",\"children\":[{\"type\":\"object\",\"name\":\"Spacer\",\"id\":\"61f5021f-0f12-4c20-adaa-87e3ff0eb27e\",\"attributes\":{\"name\":\"HSpacer00432\",\"stylesheets\":[\"\\n:host(.pn-loading):before, .pn-loading:before {\\n  background-color: #c3c3c3;\\n  mask-size: auto calc(min(50%, 400px));\\n  -webkit-mask-size: auto calc(min(50%, 400px));\\n}\",{\"id\":\"a6e92367-899a-4c13-bd73-198c7f3e5923\"},{\"id\":\"9005ac16-6b45-472b-a246-47668666f766\"},{\"id\":\"6046a157-70ff-410e-aab9-9cfc6942b606\"}],\"margin\":0,\"sizing_mode\":\"stretch_width\",\"align\":\"start\"}},{\"type\":\"object\",\"name\":\"Figure\",\"id\":\"2f382f3a-09fc-4283-9b3b-68f4b42a84e2\",\"attributes\":{\"width\":700,\"height\":300,\"margin\":[5,10],\"sizing_mode\":\"fixed\",\"align\":\"start\",\"x_range\":{\"type\":\"object\",\"name\":\"FactorRange\",\"id\":\"26fbce72-2e62-4d90-b57b-71a4e9342a95\",\"attributes\":{\"name\":\"post_str_b3\",\"tags\":[[[\"post_str_b3\",null]],[]],\"factors\":[\"25\",\"14\",\"16\",\"13\",\"19\",\"17\",\"21\",\"28\",\"22\",\"24\",\"34\",\"26\",\"27\",\"32\",\"05\",\"15\",\"33\",\"10\",\"12\",\"23\"]}},\"y_range\":{\"type\":\"object\",\"name\":\"Range1d\",\"id\":\"edc09c51-39ce-4c5a-97fb-72b41b923ad8\",\"attributes\":{\"name\":\"percent\",\"tags\":[[[\"percent\",null]],{\"type\":\"map\",\"entries\":[[\"invert_yaxis\",false],[\"autorange\",false]]}],\"end\":12.857142857142856,\"reset_start\":0.0,\"reset_end\":12.857142857142856}},\"x_scale\":{\"type\":\"object\",\"name\":\"CategoricalScale\",\"id\":\"735d306a-33f1-4ce4-9611-97dad1e82f6c\"},\"y_scale\":{\"type\":\"object\",\"name\":\"LinearScale\",\"id\":\"24bcb795-eae4-4a97-b153-55cb23e0320a\"},\"title\":{\"type\":\"object\",\"name\":\"Title\",\"id\":\"2abd34e8-6555-4004-ae1b-a3b6c2ba715f\",\"attributes\":{\"text_color\":\"black\",\"text_font_size\":\"12pt\"}},\"renderers\":[{\"type\":\"object\",\"name\":\"GlyphRenderer\",\"id\":\"7846882e-4e45-44b0-80ed-a6edd65c3820\",\"attributes\":{\"data_source\":{\"type\":\"object\",\"name\":\"ColumnDataSource\",\"id\":\"a70513fe-ae7d-445b-82f9-c0ee74b3c0c8\",\"attributes\":{\"selected\":{\"type\":\"object\",\"name\":\"Selection\",\"id\":\"6363f78f-eede-450d-b9d3-bcb39cde7aab\",\"attributes\":{\"indices\":[],\"line_indices\":[]}},\"selection_policy\":{\"type\":\"object\",\"name\":\"UnionRenderers\",\"id\":\"8cebab91-3a49-49d5-bbac-66e8ecc1efe9\"},\"data\":{\"type\":\"map\",\"entries\":[[\"post_str_b3\",[\"25\",\"14\",\"16\",\"13\",\"19\",\"17\",\"21\",\"28\",\"22\",\"24\",\"34\",\"26\",\"27\",\"32\",\"05\",\"15\",\"33\",\"10\",\"12\",\"23\"]],[\"percent\",{\"type\":\"ndarray\",\"array\":{\"type\":\"bytes\",\"data\":\"8zzP8zzPJ0DDMAzDMAwjQMMwDMMwDCNAJEmSJEmSHEAkSZIkSZIcQCRJkiRJkhxAJEmSJEmSHEDDMAzDMAwTQMMwDMMwDBNAwzAMwzAME0DDMAzDMAwTQMMwDMMwDANAwzAMwzAMA0DDMAzDMAwDQMMwDMMwDANAwzAMwzAMA0DDMAzDMAwDQMMwDMMwDANAwzAMwzAMA0DDMAzDMAwDQA==\"},\"shape\":[20],\"dtype\":\"float64\",\"order\":\"little\"}]]}}},\"view\":{\"type\":\"object\",\"name\":\"CDSView\",\"id\":\"590af1a6-c4b1-41d2-9094-4fa057983569\",\"attributes\":{\"filter\":{\"type\":\"object\",\"name\":\"AllIndices\",\"id\":\"fc33350a-ee94-423d-af0f-d13ed2e4ae62\"}}},\"glyph\":{\"type\":\"object\",\"name\":\"VBar\",\"id\":\"edf92b3c-ffad-406c-a790-95900134ff13\",\"attributes\":{\"tags\":[\"apply_ranges\"],\"x\":{\"type\":\"field\",\"field\":\"post_str_b3\"},\"width\":{\"type\":\"value\",\"value\":0.8},\"top\":{\"type\":\"field\",\"field\":\"percent\"},\"fill_color\":{\"type\":\"value\",\"value\":\"#30a2da\"},\"hatch_color\":{\"type\":\"value\",\"value\":\"#30a2da\"}}},\"selection_glyph\":{\"type\":\"object\",\"name\":\"VBar\",\"id\":\"b491363c-75f5-44c9-81e1-0267c4040ae1\",\"attributes\":{\"tags\":[\"apply_ranges\"],\"x\":{\"type\":\"field\",\"field\":\"post_str_b3\"},\"width\":{\"type\":\"value\",\"value\":0.8},\"bottom\":{\"type\":\"value\",\"value\":0},\"top\":{\"type\":\"field\",\"field\":\"percent\"},\"line_color\":{\"type\":\"value\",\"value\":\"black\"},\"line_alpha\":{\"type\":\"value\",\"value\":1.0},\"line_width\":{\"type\":\"value\",\"value\":1},\"line_join\":{\"type\":\"value\",\"value\":\"bevel\"},\"line_cap\":{\"type\":\"value\",\"value\":\"butt\"},\"line_dash\":{\"type\":\"value\",\"value\":[]},\"line_dash_offset\":{\"type\":\"value\",\"value\":0},\"fill_color\":{\"type\":\"value\",\"value\":\"#30a2da\"},\"fill_alpha\":{\"type\":\"value\",\"value\":1.0},\"hatch_color\":{\"type\":\"value\",\"value\":\"#30a2da\"},\"hatch_alpha\":{\"type\":\"value\",\"value\":1.0},\"hatch_scale\":{\"type\":\"value\",\"value\":12.0},\"hatch_pattern\":{\"type\":\"value\",\"value\":null},\"hatch_weight\":{\"type\":\"value\",\"value\":1.0}}},\"nonselection_glyph\":{\"type\":\"object\",\"name\":\"VBar\",\"id\":\"a2c8426f-a565-41ba-ab7b-022d30b5463a\",\"attributes\":{\"tags\":[\"apply_ranges\"],\"x\":{\"type\":\"field\",\"field\":\"post_str_b3\"},\"width\":{\"type\":\"value\",\"value\":0.8},\"top\":{\"type\":\"field\",\"field\":\"percent\"},\"line_alpha\":{\"type\":\"value\",\"value\":0.1},\"fill_color\":{\"type\":\"value\",\"value\":\"#30a2da\"},\"fill_alpha\":{\"type\":\"value\",\"value\":0.1},\"hatch_color\":{\"type\":\"value\",\"value\":\"#30a2da\"},\"hatch_alpha\":{\"type\":\"value\",\"value\":0.1}}},\"muted_glyph\":{\"type\":\"object\",\"name\":\"VBar\",\"id\":\"044cc83b-ac16-423e-adc9-52131864999b\",\"attributes\":{\"tags\":[\"apply_ranges\"],\"x\":{\"type\":\"field\",\"field\":\"post_str_b3\"},\"width\":{\"type\":\"value\",\"value\":0.8},\"top\":{\"type\":\"field\",\"field\":\"percent\"},\"line_alpha\":{\"type\":\"value\",\"value\":0.2},\"fill_color\":{\"type\":\"value\",\"value\":\"#30a2da\"},\"fill_alpha\":{\"type\":\"value\",\"value\":0.2},\"hatch_color\":{\"type\":\"value\",\"value\":\"#30a2da\"},\"hatch_alpha\":{\"type\":\"value\",\"value\":0.2}}}}},{\"type\":\"object\",\"name\":\"Span\",\"id\":\"3d3ff83f-3291-417a-848c-3b5176a2f184\",\"attributes\":{\"level\":\"glyph\",\"location\":4.999999999999998,\"line_color\":\"red\",\"line_width\":3}},{\"type\":\"object\",\"name\":\"Span\",\"id\":\"6ceeb9fd-2de0-4b0f-bcba-956dd5478ce2\",\"attributes\":{\"level\":\"glyph\",\"location\":7.499999999999997,\"line_color\":\"blue\",\"line_width\":3}},{\"type\":\"object\",\"name\":\"Span\",\"id\":\"4e38c656-cb00-4a94-8a6c-609c908f6ac2\",\"attributes\":{\"level\":\"glyph\",\"location\":2.499999999999999,\"line_color\":\"blue\",\"line_width\":3}}],\"toolbar\":{\"type\":\"object\",\"name\":\"Toolbar\",\"id\":\"2736ccc9-c674-4a80-a236-957ef48413c3\",\"attributes\":{\"tools\":[{\"type\":\"object\",\"name\":\"WheelZoomTool\",\"id\":\"6d34c7cb-50db-42a4-9ac4-02d535d32c6d\",\"attributes\":{\"tags\":[\"hv_created\"],\"renderers\":\"auto\",\"zoom_together\":\"none\"}},{\"type\":\"object\",\"name\":\"HoverTool\",\"id\":\"300ac3c5-5a0d-4b31-95d3-e9771a44a241\",\"attributes\":{\"tags\":[\"hv_created\"],\"renderers\":[{\"id\":\"7846882e-4e45-44b0-80ed-a6edd65c3820\"}],\"tooltips\":[[\"post_str_b3\",\"@{post_str_b3}\"],[\"percent\",\"@{percent}\"]]}},{\"type\":\"object\",\"name\":\"SaveTool\",\"id\":\"88465dce-a691-458f-a5c3-89300f7312a8\"},{\"type\":\"object\",\"name\":\"PanTool\",\"id\":\"955e3279-52f6-4959-aa23-59689ffa2b66\"},{\"type\":\"object\",\"name\":\"BoxZoomTool\",\"id\":\"6621d600-2113-49b0-ac65-3890a3cb3f4d\",\"attributes\":{\"dimensions\":\"both\",\"overlay\":{\"type\":\"object\",\"name\":\"BoxAnnotation\",\"id\":\"e4ef9436-8259-4660-8db2-6f7a6e17832d\",\"attributes\":{\"syncable\":false,\"line_color\":\"black\",\"line_alpha\":1.0,\"line_width\":2,\"line_dash\":[4,4],\"fill_color\":\"lightgrey\",\"fill_alpha\":0.5,\"level\":\"overlay\",\"visible\":false,\"left\":{\"type\":\"number\",\"value\":\"nan\"},\"right\":{\"type\":\"number\",\"value\":\"nan\"},\"top\":{\"type\":\"number\",\"value\":\"nan\"},\"bottom\":{\"type\":\"number\",\"value\":\"nan\"},\"left_units\":\"canvas\",\"right_units\":\"canvas\",\"top_units\":\"canvas\",\"bottom_units\":\"canvas\",\"handles\":{\"type\":\"object\",\"name\":\"BoxInteractionHandles\",\"id\":\"2f65c27a-0cb3-4dbc-97d2-1f71bb23efa3\",\"attributes\":{\"all\":{\"type\":\"object\",\"name\":\"AreaVisuals\",\"id\":\"06539469-d39a-40cb-9f95-5970155662a1\",\"attributes\":{\"fill_color\":\"white\",\"hover_fill_color\":\"lightgray\"}}}}}}}},{\"type\":\"object\",\"name\":\"ResetTool\",\"id\":\"93acc621-ce6c-40ee-a4e1-f5202e5043be\"}],\"active_drag\":{\"id\":\"955e3279-52f6-4959-aa23-59689ffa2b66\"}}},\"left\":[{\"type\":\"object\",\"name\":\"LinearAxis\",\"id\":\"d734554a-27a1-4eb1-9d1c-e4a746c0a589\",\"attributes\":{\"ticker\":{\"type\":\"object\",\"name\":\"BasicTicker\",\"id\":\"444987b9-fa50-4afb-a040-701566f75f99\",\"attributes\":{\"mantissas\":[1,2,5]}},\"formatter\":{\"type\":\"object\",\"name\":\"BasicTickFormatter\",\"id\":\"3a548b33-5b1e-4953-8e56-b5c32ee1bc90\"},\"axis_label\":\"percent\",\"major_label_policy\":{\"type\":\"object\",\"name\":\"AllLabels\",\"id\":\"18320485-6962-4397-a5ba-02fd2dde13f0\"}}}],\"below\":[{\"type\":\"object\",\"name\":\"CategoricalAxis\",\"id\":\"74a9de58-cd92-4634-8a8c-d77fbc61f70f\",\"attributes\":{\"ticker\":{\"type\":\"object\",\"name\":\"CategoricalTicker\",\"id\":\"c894cb7c-044d-46ef-a125-0d2efb8014c7\"},\"formatter\":{\"type\":\"object\",\"name\":\"CategoricalTickFormatter\",\"id\":\"4e0a1445-6b73-4150-a831-994652671a6a\"},\"axis_label\":\"post_str_b3\",\"major_label_policy\":{\"type\":\"object\",\"name\":\"AllLabels\",\"id\":\"aed23baa-fbd5-476f-bb3b-843222acf2a1\"}}}],\"center\":[{\"type\":\"object\",\"name\":\"Grid\",\"id\":\"82d3a62b-446e-4fed-ada2-5b725379f758\",\"attributes\":{\"axis\":{\"id\":\"74a9de58-cd92-4634-8a8c-d77fbc61f70f\"},\"grid_line_color\":null}},{\"type\":\"object\",\"name\":\"Grid\",\"id\":\"4e35587b-672b-4609-bcf8-eb2ea00705aa\",\"attributes\":{\"dimension\":1,\"axis\":{\"id\":\"d734554a-27a1-4eb1-9d1c-e4a746c0a589\"},\"grid_line_color\":null}}],\"min_border_top\":10,\"min_border_bottom\":10,\"min_border_left\":10,\"min_border_right\":10,\"output_backend\":\"webgl\"}},{\"type\":\"object\",\"name\":\"Spacer\",\"id\":\"987d5bee-eb2a-4702-bc23-b05e15c75d7b\",\"attributes\":{\"name\":\"HSpacer00433\",\"stylesheets\":[\"\\n:host(.pn-loading):before, .pn-loading:before {\\n  background-color: #c3c3c3;\\n  mask-size: auto calc(min(50%, 400px));\\n  -webkit-mask-size: auto calc(min(50%, 400px));\\n}\",{\"id\":\"a6e92367-899a-4c13-bd73-198c7f3e5923\"},{\"id\":\"9005ac16-6b45-472b-a246-47668666f766\"},{\"id\":\"6046a157-70ff-410e-aab9-9cfc6942b606\"}],\"margin\":0,\"sizing_mode\":\"stretch_width\",\"align\":\"start\"}}]}}],\"defs\":[{\"type\":\"model\",\"name\":\"ReactiveHTML1\"},{\"type\":\"model\",\"name\":\"FlexBox1\",\"properties\":[{\"name\":\"align_content\",\"kind\":\"Any\",\"default\":\"flex-start\"},{\"name\":\"align_items\",\"kind\":\"Any\",\"default\":\"flex-start\"},{\"name\":\"flex_direction\",\"kind\":\"Any\",\"default\":\"row\"},{\"name\":\"flex_wrap\",\"kind\":\"Any\",\"default\":\"wrap\"},{\"name\":\"gap\",\"kind\":\"Any\",\"default\":\"\"},{\"name\":\"justify_content\",\"kind\":\"Any\",\"default\":\"flex-start\"}]},{\"type\":\"model\",\"name\":\"FloatPanel1\",\"properties\":[{\"name\":\"config\",\"kind\":\"Any\",\"default\":{\"type\":\"map\"}},{\"name\":\"contained\",\"kind\":\"Any\",\"default\":true},{\"name\":\"position\",\"kind\":\"Any\",\"default\":\"right-top\"},{\"name\":\"offsetx\",\"kind\":\"Any\",\"default\":null},{\"name\":\"offsety\",\"kind\":\"Any\",\"default\":null},{\"name\":\"theme\",\"kind\":\"Any\",\"default\":\"primary\"},{\"name\":\"status\",\"kind\":\"Any\",\"default\":\"normalized\"}]},{\"type\":\"model\",\"name\":\"GridStack1\",\"properties\":[{\"name\":\"ncols\",\"kind\":\"Any\",\"default\":null},{\"name\":\"nrows\",\"kind\":\"Any\",\"default\":null},{\"name\":\"allow_resize\",\"kind\":\"Any\",\"default\":true},{\"name\":\"allow_drag\",\"kind\":\"Any\",\"default\":true},{\"name\":\"state\",\"kind\":\"Any\",\"default\":[]}]},{\"type\":\"model\",\"name\":\"drag1\",\"properties\":[{\"name\":\"slider_width\",\"kind\":\"Any\",\"default\":5},{\"name\":\"slider_color\",\"kind\":\"Any\",\"default\":\"black\"},{\"name\":\"value\",\"kind\":\"Any\",\"default\":50}]},{\"type\":\"model\",\"name\":\"click1\",\"properties\":[{\"name\":\"terminal_output\",\"kind\":\"Any\",\"default\":\"\"},{\"name\":\"debug_name\",\"kind\":\"Any\",\"default\":\"\"},{\"name\":\"clears\",\"kind\":\"Any\",\"default\":0}]},{\"type\":\"model\",\"name\":\"FastWrapper1\",\"properties\":[{\"name\":\"object\",\"kind\":\"Any\",\"default\":null},{\"name\":\"style\",\"kind\":\"Any\",\"default\":null}]},{\"type\":\"model\",\"name\":\"NotificationArea1\",\"properties\":[{\"name\":\"js_events\",\"kind\":\"Any\",\"default\":{\"type\":\"map\"}},{\"name\":\"max_notifications\",\"kind\":\"Any\",\"default\":5},{\"name\":\"notifications\",\"kind\":\"Any\",\"default\":[]},{\"name\":\"position\",\"kind\":\"Any\",\"default\":\"bottom-right\"},{\"name\":\"_clear\",\"kind\":\"Any\",\"default\":0},{\"name\":\"types\",\"kind\":\"Any\",\"default\":[{\"type\":\"map\",\"entries\":[[\"type\",\"warning\"],[\"background\",\"#ffc107\"],[\"icon\",{\"type\":\"map\",\"entries\":[[\"className\",\"fas fa-exclamation-triangle\"],[\"tagName\",\"i\"],[\"color\",\"white\"]]}]]},{\"type\":\"map\",\"entries\":[[\"type\",\"info\"],[\"background\",\"#007bff\"],[\"icon\",{\"type\":\"map\",\"entries\":[[\"className\",\"fas fa-info-circle\"],[\"tagName\",\"i\"],[\"color\",\"white\"]]}]]}]}]},{\"type\":\"model\",\"name\":\"Notification\",\"properties\":[{\"name\":\"background\",\"kind\":\"Any\",\"default\":null},{\"name\":\"duration\",\"kind\":\"Any\",\"default\":3000},{\"name\":\"icon\",\"kind\":\"Any\",\"default\":null},{\"name\":\"message\",\"kind\":\"Any\",\"default\":\"\"},{\"name\":\"notification_type\",\"kind\":\"Any\",\"default\":null},{\"name\":\"_rendered\",\"kind\":\"Any\",\"default\":false},{\"name\":\"_destroyed\",\"kind\":\"Any\",\"default\":false}]},{\"type\":\"model\",\"name\":\"TemplateActions1\",\"properties\":[{\"name\":\"open_modal\",\"kind\":\"Any\",\"default\":0},{\"name\":\"close_modal\",\"kind\":\"Any\",\"default\":0}]},{\"type\":\"model\",\"name\":\"BootstrapTemplateActions1\",\"properties\":[{\"name\":\"open_modal\",\"kind\":\"Any\",\"default\":0},{\"name\":\"close_modal\",\"kind\":\"Any\",\"default\":0}]},{\"type\":\"model\",\"name\":\"TemplateEditor1\",\"properties\":[{\"name\":\"layout\",\"kind\":\"Any\",\"default\":[]}]},{\"type\":\"model\",\"name\":\"MaterialTemplateActions1\",\"properties\":[{\"name\":\"open_modal\",\"kind\":\"Any\",\"default\":0},{\"name\":\"close_modal\",\"kind\":\"Any\",\"default\":0}]},{\"type\":\"model\",\"name\":\"ReactiveESM1\",\"properties\":[{\"name\":\"esm_constants\",\"kind\":\"Any\",\"default\":{\"type\":\"map\"}}]},{\"type\":\"model\",\"name\":\"JSComponent1\",\"properties\":[{\"name\":\"esm_constants\",\"kind\":\"Any\",\"default\":{\"type\":\"map\"}}]},{\"type\":\"model\",\"name\":\"ReactComponent1\",\"properties\":[{\"name\":\"esm_constants\",\"kind\":\"Any\",\"default\":{\"type\":\"map\"}}]},{\"type\":\"model\",\"name\":\"AnyWidgetComponent1\",\"properties\":[{\"name\":\"esm_constants\",\"kind\":\"Any\",\"default\":{\"type\":\"map\"}}]},{\"type\":\"model\",\"name\":\"request_value1\",\"properties\":[{\"name\":\"fill\",\"kind\":\"Any\",\"default\":\"none\"},{\"name\":\"_synced\",\"kind\":\"Any\",\"default\":null},{\"name\":\"_request_sync\",\"kind\":\"Any\",\"default\":0}]}]}};\n",
       "  var render_items = [{\"docid\":\"1d30124a-7d8b-4648-b2be-1ffc7f540460\",\"roots\":{\"ab97c27e-1858-48a2-81fb-10d7ce49bf17\":\"ce419f84-5b46-440a-b09b-bd1395da5cd6\"},\"root_ids\":[\"ab97c27e-1858-48a2-81fb-10d7ce49bf17\"]}];\n",
       "  var docs = Object.values(docs_json)\n",
       "  if (!docs) {\n",
       "    return\n",
       "  }\n",
       "  const py_version = docs[0].version.replace('rc', '-rc.').replace('.dev', '-dev.')\n",
       "  async function embed_document(root) {\n",
       "    var Bokeh = get_bokeh(root)\n",
       "    await Bokeh.embed.embed_items_notebook(docs_json, render_items);\n",
       "    for (const render_item of render_items) {\n",
       "      for (const root_id of render_item.root_ids) {\n",
       "\tconst id_el = document.getElementById(root_id)\n",
       "\tif (id_el.children.length && id_el.children[0].hasAttribute('data-root-id')) {\n",
       "\t  const root_el = id_el.children[0]\n",
       "\t  root_el.id = root_el.id + '-rendered'\n",
       "\t  for (const child of root_el.children) {\n",
       "            // Ensure JupyterLab does not capture keyboard shortcuts\n",
       "            // see: https://jupyterlab.readthedocs.io/en/4.1.x/extension/notebook.html#keyboard-interaction-model\n",
       "\t    child.setAttribute('data-lm-suppress-shortcuts', 'true')\n",
       "\t  }\n",
       "\t}\n",
       "      }\n",
       "    }\n",
       "  }\n",
       "  function get_bokeh(root) {\n",
       "    if (root.Bokeh === undefined) {\n",
       "      return null\n",
       "    } else if (root.Bokeh.version !== py_version) {\n",
       "      if (root.Bokeh.versions === undefined || !root.Bokeh.versions.has(py_version)) {\n",
       "\treturn null\n",
       "      }\n",
       "      return root.Bokeh.versions.get(py_version);\n",
       "    } else if (root.Bokeh.version === py_version) {\n",
       "      return root.Bokeh\n",
       "    }\n",
       "    return null\n",
       "  }\n",
       "  function is_loaded(root) {\n",
       "    var Bokeh = get_bokeh(root)\n",
       "    return (Bokeh != null && Bokeh.Panel !== undefined)\n",
       "  }\n",
       "  if (is_loaded(root)) {\n",
       "    embed_document(root);\n",
       "  } else {\n",
       "    var attempts = 0;\n",
       "    var timer = setInterval(function(root) {\n",
       "      if (is_loaded(root)) {\n",
       "        clearInterval(timer);\n",
       "        embed_document(root);\n",
       "      } else if (document.readyState == \"complete\") {\n",
       "        attempts++;\n",
       "        if (attempts > 200) {\n",
       "          clearInterval(timer);\n",
       "\t  var Bokeh = get_bokeh(root)\n",
       "\t  if (Bokeh == null || Bokeh.Panel == null) {\n",
       "            console.warn(\"Panel: ERROR: Unable to run Panel code because Bokeh or Panel library is missing\");\n",
       "\t  } else {\n",
       "\t    console.warn(\"Panel: WARNING: Attempting to render but not all required libraries could be resolved.\")\n",
       "\t    embed_document(root)\n",
       "\t  }\n",
       "        }\n",
       "      }\n",
       "    }, 25, root)\n",
       "  }\n",
       "})(window);</script>"
      ],
      "text/plain": [
       ":Overlay\n",
       "   .Bars.I    :Bars   [post_str_b3]   (percent)\n",
       "   .HLine.I   :HLine   [x,y]\n",
       "   .HLine.II  :HLine   [x,y]\n",
       "   .HLine.III :HLine   [x,y]"
      ]
     },
     "metadata": {
      "application/vnd.holoviews_exec.v0+json": {
       "id": "ab97c27e-1858-48a2-81fb-10d7ce49bf17"
      }
     },
     "output_type": "display_data"
    },
    {
     "name": "stdout",
     "output_type": "stream",
     "text": [
      "df_10_last FOR str_b3 = 09\n",
      "Last 3 results last_results=['13', '24', '34']\n"
     ]
    },
    {
     "data": {
      "text/html": [
       "<div><style>\n",
       ".dataframe > thead > tr,\n",
       ".dataframe > tbody > tr {\n",
       "  text-align: right;\n",
       "  white-space: pre-wrap;\n",
       "}\n",
       "</style>\n",
       "<small>shape: (10, 30)</small><table border=\"1\" class=\"dataframe\"><thead><tr><th>fecha</th><th>sorteo</th><th>bolillas</th><th>yapa</th><th>adicionales</th><th>sorteo_extra</th><th>id</th><th>combo</th><th>b1</th><th>b2</th><th>b3</th><th>b4</th><th>b5</th><th>b6</th><th>str_b1</th><th>str_b2</th><th>str_b3</th><th>str_b4</th><th>str_b5</th><th>str_b6</th><th>post_str_b1</th><th>post_str_b2</th><th>post_str_b3</th><th>post_str_b4</th><th>post_str_b5</th><th>post_str_blast</th><th>is_rare_combination</th><th>reason</th><th>jumps_map</th><th>unijump</th></tr><tr><td>str</td><td>str</td><td>str</td><td>str</td><td>str</td><td>str</td><td>str</td><td>array[u8, 6]</td><td>u8</td><td>u8</td><td>u8</td><td>u8</td><td>u8</td><td>u8</td><td>str</td><td>str</td><td>str</td><td>str</td><td>str</td><td>str</td><td>str</td><td>str</td><td>str</td><td>str</td><td>str</td><td>str</td><td>bool</td><td>u8</td><td>str</td><td>i64</td></tr></thead><tbody><tr><td>&quot;26/06/2024&quot;</td><td>&quot;1102&quot;</td><td>&quot;43 06 14 01 09 11&quot;</td><td>&quot;30&quot;</td><td>&quot;17 42 45 20&quot;</td><td>&quot;Promoción Sí o Sí&quot;</td><td>&quot;010609111443&quot;</td><td>[1, 6, … 43]</td><td>1</td><td>6</td><td>9</td><td>11</td><td>14</td><td>43</td><td>&quot;01&quot;</td><td>&quot;06&quot;</td><td>&quot;09&quot;</td><td>&quot;11&quot;</td><td>&quot;14&quot;</td><td>&quot;43&quot;</td><td>&quot;13&quot;</td><td>&quot;15&quot;</td><td>&quot;34&quot;</td><td>&quot;38&quot;</td><td>&quot;42&quot;</td><td>&quot;48&quot;</td><td>true</td><td>16</td><td>&quot;05_03_02_03_29&quot;</td><td>22</td></tr><tr><td>&quot;30/11/2022&quot;</td><td>&quot;0938&quot;</td><td>&quot;33 41 09 01 05 17&quot;</td><td>&quot;35&quot;</td><td>&quot;02 13 36&quot;</td><td>&quot;Promoción Sí o Sí&quot;</td><td>&quot;010509173341&quot;</td><td>[1, 5, … 41]</td><td>1</td><td>5</td><td>9</td><td>17</td><td>33</td><td>41</td><td>&quot;01&quot;</td><td>&quot;05&quot;</td><td>&quot;09&quot;</td><td>&quot;17&quot;</td><td>&quot;33&quot;</td><td>&quot;41&quot;</td><td>&quot;05&quot;</td><td>&quot;14&quot;</td><td>&quot;24&quot;</td><td>&quot;27&quot;</td><td>&quot;33&quot;</td><td>&quot;40&quot;</td><td>true</td><td>26</td><td>&quot;04_04_08_16_08&quot;</td><td>-20</td></tr><tr><td>&quot;05/12/2021&quot;</td><td>&quot;0835&quot;</td><td>&quot;01 06 16 29 17 09&quot;</td><td>&quot;41&quot;</td><td>&quot;44 04&quot;</td><td>&quot;Promoción Sí o Sí&quot;</td><td>&quot;010609161729&quot;</td><td>[1, 6, … 29]</td><td>1</td><td>6</td><td>9</td><td>16</td><td>17</td><td>29</td><td>&quot;01&quot;</td><td>&quot;06&quot;</td><td>&quot;09&quot;</td><td>&quot;16&quot;</td><td>&quot;17&quot;</td><td>&quot;29&quot;</td><td>&quot;01&quot;</td><td>&quot;10&quot;</td><td>&quot;13&quot;</td><td>&quot;16&quot;</td><td>&quot;19&quot;</td><td>&quot;42&quot;</td><td>true</td><td>16</td><td>&quot;05_03_07_01_12&quot;</td><td>43</td></tr><tr><td>&quot;31/03/2021&quot;</td><td>&quot;0764&quot;</td><td>&quot;09 10 05 01 16 39&quot;</td><td>&quot;36&quot;</td><td>&quot;&quot;</td><td>&quot;&quot;</td><td>&quot;010509101639&quot;</td><td>[1, 5, … 39]</td><td>1</td><td>5</td><td>9</td><td>10</td><td>16</td><td>39</td><td>&quot;01&quot;</td><td>&quot;05&quot;</td><td>&quot;09&quot;</td><td>&quot;10&quot;</td><td>&quot;16&quot;</td><td>&quot;39&quot;</td><td>&quot;04&quot;</td><td>&quot;15&quot;</td><td>&quot;17&quot;</td><td>&quot;26&quot;</td><td>&quot;31&quot;</td><td>&quot;41&quot;</td><td>true</td><td>24</td><td>&quot;04_04_01_06_23&quot;</td><td>-7</td></tr><tr><td>&quot;01/03/2020&quot;</td><td>&quot;0684&quot;</td><td>&quot;08 06 27 09 33 26&quot;</td><td>&quot;17&quot;</td><td>&quot;&quot;</td><td>&quot;&quot;</td><td>&quot;060809262733&quot;</td><td>[6, 8, … 33]</td><td>6</td><td>8</td><td>9</td><td>26</td><td>27</td><td>33</td><td>&quot;06&quot;</td><td>&quot;08&quot;</td><td>&quot;09&quot;</td><td>&quot;26&quot;</td><td>&quot;27&quot;</td><td>&quot;33&quot;</td><td>&quot;09&quot;</td><td>&quot;12&quot;</td><td>&quot;19&quot;</td><td>&quot;21&quot;</td><td>&quot;30&quot;</td><td>&quot;43&quot;</td><td>true</td><td>16</td><td>&quot;02_01_17_01_06&quot;</td><td>102</td></tr><tr><td>&quot;19/01/2020&quot;</td><td>&quot;0672&quot;</td><td>&quot;06 02 12 18 23 09&quot;</td><td>&quot;01&quot;</td><td>&quot;&quot;</td><td>&quot;&quot;</td><td>&quot;020609121823&quot;</td><td>[2, 6, … 23]</td><td>2</td><td>6</td><td>9</td><td>12</td><td>18</td><td>23</td><td>&quot;02&quot;</td><td>&quot;06&quot;</td><td>&quot;09&quot;</td><td>&quot;12&quot;</td><td>&quot;18&quot;</td><td>&quot;23&quot;</td><td>&quot;05&quot;</td><td>&quot;11&quot;</td><td>&quot;34&quot;</td><td>&quot;35&quot;</td><td>&quot;40&quot;</td><td>&quot;42&quot;</td><td>true</td><td>8</td><td>&quot;04_03_03_06_05&quot;</td><td>-9</td></tr><tr><td>&quot;19/12/2018&quot;</td><td>&quot;0559&quot;</td><td>&quot;09 03 23 40 33 05&quot;</td><td>&quot;08&quot;</td><td>&quot;&quot;</td><td>&quot;&quot;</td><td>&quot;030509233340&quot;</td><td>[3, 5, … 40]</td><td>3</td><td>5</td><td>9</td><td>23</td><td>33</td><td>40</td><td>&quot;03&quot;</td><td>&quot;05&quot;</td><td>&quot;09&quot;</td><td>&quot;23&quot;</td><td>&quot;33&quot;</td><td>&quot;40&quot;</td><td>&quot;02&quot;</td><td>&quot;12&quot;</td><td>&quot;16&quot;</td><td>&quot;21&quot;</td><td>&quot;35&quot;</td><td>&quot;45&quot;</td><td>true</td><td>16</td><td>&quot;02_04_14_10_07&quot;</td><td>37</td></tr><tr><td>&quot;08/10/2017&quot;</td><td>&quot;0434&quot;</td><td>&quot;26 05 24 35 09 06&quot;</td><td>&quot;32&quot;</td><td>&quot;&quot;</td><td>&quot;&quot;</td><td>&quot;050609242635&quot;</td><td>[5, 6, … 35]</td><td>5</td><td>6</td><td>9</td><td>24</td><td>26</td><td>35</td><td>&quot;05&quot;</td><td>&quot;06&quot;</td><td>&quot;09&quot;</td><td>&quot;24&quot;</td><td>&quot;26&quot;</td><td>&quot;35&quot;</td><td>&quot;13&quot;</td><td>&quot;19&quot;</td><td>&quot;25&quot;</td><td>&quot;30&quot;</td><td>&quot;40&quot;</td><td>&quot;44&quot;</td><td>true</td><td>16</td><td>&quot;01_03_15_02_09&quot;</td><td>80</td></tr><tr><td>&quot;03/09/2017&quot;</td><td>&quot;0424&quot;</td><td>&quot;31 09 43 01 03 44&quot;</td><td>&quot;06&quot;</td><td>&quot;&quot;</td><td>&quot;&quot;</td><td>&quot;010309314344&quot;</td><td>[1, 3, … 44]</td><td>1</td><td>3</td><td>9</td><td>31</td><td>43</td><td>44</td><td>&quot;01&quot;</td><td>&quot;03&quot;</td><td>&quot;09&quot;</td><td>&quot;31&quot;</td><td>&quot;43&quot;</td><td>&quot;44&quot;</td><td>&quot;09&quot;</td><td>&quot;13&quot;</td><td>&quot;17&quot;</td><td>&quot;21&quot;</td><td>&quot;36&quot;</td><td>&quot;37&quot;</td><td>true</td><td>16</td><td>&quot;02_06_22_12_01&quot;</td><td>63</td></tr><tr><td>&quot;11/06/2017&quot;</td><td>&quot;0400&quot;</td><td>&quot;41 03 28 01 13 09&quot;</td><td>&quot;37&quot;</td><td>&quot;&quot;</td><td>&quot;&quot;</td><td>&quot;010309132841&quot;</td><td>[1, 3, … 41]</td><td>1</td><td>3</td><td>9</td><td>13</td><td>28</td><td>41</td><td>&quot;01&quot;</td><td>&quot;03&quot;</td><td>&quot;09&quot;</td><td>&quot;13&quot;</td><td>&quot;28&quot;</td><td>&quot;41&quot;</td><td>&quot;02&quot;</td><td>&quot;03&quot;</td><td>&quot;05&quot;</td><td>&quot;13&quot;</td><td>&quot;35&quot;</td><td>&quot;39&quot;</td><td>false</td><td>0</td><td>&quot;02_06_04_15_13&quot;</td><td>-45</td></tr></tbody></table></div>"
      ],
      "text/plain": [
       "shape: (10, 30)\n",
       "┌────────────┬────────┬───────────────┬──────┬───┬───────────────┬────────┬──────────────┬─────────┐\n",
       "│ fecha      ┆ sorteo ┆ bolillas      ┆ yapa ┆ … ┆ is_rare_combi ┆ reason ┆ jumps_map    ┆ unijump │\n",
       "│ ---        ┆ ---    ┆ ---           ┆ ---  ┆   ┆ nation        ┆ ---    ┆ ---          ┆ ---     │\n",
       "│ str        ┆ str    ┆ str           ┆ str  ┆   ┆ ---           ┆ u8     ┆ str          ┆ i64     │\n",
       "│            ┆        ┆               ┆      ┆   ┆ bool          ┆        ┆              ┆         │\n",
       "╞════════════╪════════╪═══════════════╪══════╪═══╪═══════════════╪════════╪══════════════╪═════════╡\n",
       "│ 26/06/2024 ┆ 1102   ┆ 43 06 14 01   ┆ 30   ┆ … ┆ true          ┆ 16     ┆ 05_03_02_03_ ┆ 22      │\n",
       "│            ┆        ┆ 09 11         ┆      ┆   ┆               ┆        ┆ 29           ┆         │\n",
       "│ 30/11/2022 ┆ 0938   ┆ 33 41 09 01   ┆ 35   ┆ … ┆ true          ┆ 26     ┆ 04_04_08_16_ ┆ -20     │\n",
       "│            ┆        ┆ 05 17         ┆      ┆   ┆               ┆        ┆ 08           ┆         │\n",
       "│ 05/12/2021 ┆ 0835   ┆ 01 06 16 29   ┆ 41   ┆ … ┆ true          ┆ 16     ┆ 05_03_07_01_ ┆ 43      │\n",
       "│            ┆        ┆ 17 09         ┆      ┆   ┆               ┆        ┆ 12           ┆         │\n",
       "│ 31/03/2021 ┆ 0764   ┆ 09 10 05 01   ┆ 36   ┆ … ┆ true          ┆ 24     ┆ 04_04_01_06_ ┆ -7      │\n",
       "│            ┆        ┆ 16 39         ┆      ┆   ┆               ┆        ┆ 23           ┆         │\n",
       "│ 01/03/2020 ┆ 0684   ┆ 08 06 27 09   ┆ 17   ┆ … ┆ true          ┆ 16     ┆ 02_01_17_01_ ┆ 102     │\n",
       "│            ┆        ┆ 33 26         ┆      ┆   ┆               ┆        ┆ 06           ┆         │\n",
       "│ 19/01/2020 ┆ 0672   ┆ 06 02 12 18   ┆ 01   ┆ … ┆ true          ┆ 8      ┆ 04_03_03_06_ ┆ -9      │\n",
       "│            ┆        ┆ 23 09         ┆      ┆   ┆               ┆        ┆ 05           ┆         │\n",
       "│ 19/12/2018 ┆ 0559   ┆ 09 03 23 40   ┆ 08   ┆ … ┆ true          ┆ 16     ┆ 02_04_14_10_ ┆ 37      │\n",
       "│            ┆        ┆ 33 05         ┆      ┆   ┆               ┆        ┆ 07           ┆         │\n",
       "│ 08/10/2017 ┆ 0434   ┆ 26 05 24 35   ┆ 32   ┆ … ┆ true          ┆ 16     ┆ 01_03_15_02_ ┆ 80      │\n",
       "│            ┆        ┆ 09 06         ┆      ┆   ┆               ┆        ┆ 09           ┆         │\n",
       "│ 03/09/2017 ┆ 0424   ┆ 31 09 43 01   ┆ 06   ┆ … ┆ true          ┆ 16     ┆ 02_06_22_12_ ┆ 63      │\n",
       "│            ┆        ┆ 03 44         ┆      ┆   ┆               ┆        ┆ 01           ┆         │\n",
       "│ 11/06/2017 ┆ 0400   ┆ 41 03 28 01   ┆ 37   ┆ … ┆ false         ┆ 0      ┆ 02_06_04_15_ ┆ -45     │\n",
       "│            ┆        ┆ 13 09         ┆      ┆   ┆               ┆        ┆ 13           ┆         │\n",
       "└────────────┴────────┴───────────────┴──────┴───┴───────────────┴────────┴──────────────┴─────────┘"
      ]
     },
     "metadata": {},
     "output_type": "display_data"
    },
    {
     "name": "stdout",
     "output_type": "stream",
     "text": [
      "df_jumps_map FOR str_b3 = 09\n"
     ]
    },
    {
     "data": {
      "text/html": [
       "<div><style>\n",
       ".dataframe > thead > tr,\n",
       ".dataframe > tbody > tr {\n",
       "  text-align: right;\n",
       "  white-space: pre-wrap;\n",
       "}\n",
       "</style>\n",
       "<small>shape: (42, 2)</small><table border=\"1\" class=\"dataframe\"><thead><tr><th>jumps_map</th><th>count</th></tr><tr><td>str</td><td>u32</td></tr></thead><tbody><tr><td>&quot;06_01_02_11_16&quot;</td><td>1</td></tr><tr><td>&quot;02_02_05_04_08&quot;</td><td>1</td></tr><tr><td>&quot;05_01_05_01_07&quot;</td><td>1</td></tr><tr><td>&quot;01_03_15_02_09&quot;</td><td>1</td></tr><tr><td>&quot;01_07_14_07_13&quot;</td><td>1</td></tr><tr><td>&hellip;</td><td>&hellip;</td></tr><tr><td>&quot;03_04_26_03_03&quot;</td><td>1</td></tr><tr><td>&quot;01_02_01_06_23&quot;</td><td>1</td></tr><tr><td>&quot;04_03_05_20_08&quot;</td><td>1</td></tr><tr><td>&quot;03_01_12_04_07&quot;</td><td>1</td></tr><tr><td>&quot;02_01_17_01_06&quot;</td><td>1</td></tr></tbody></table></div>"
      ],
      "text/plain": [
       "shape: (42, 2)\n",
       "┌────────────────┬───────┐\n",
       "│ jumps_map      ┆ count │\n",
       "│ ---            ┆ ---   │\n",
       "│ str            ┆ u32   │\n",
       "╞════════════════╪═══════╡\n",
       "│ 06_01_02_11_16 ┆ 1     │\n",
       "│ 02_02_05_04_08 ┆ 1     │\n",
       "│ 05_01_05_01_07 ┆ 1     │\n",
       "│ 01_03_15_02_09 ┆ 1     │\n",
       "│ 01_07_14_07_13 ┆ 1     │\n",
       "│ …              ┆ …     │\n",
       "│ 03_04_26_03_03 ┆ 1     │\n",
       "│ 01_02_01_06_23 ┆ 1     │\n",
       "│ 04_03_05_20_08 ┆ 1     │\n",
       "│ 03_01_12_04_07 ┆ 1     │\n",
       "│ 02_01_17_01_06 ┆ 1     │\n",
       "└────────────────┴───────┘"
      ]
     },
     "metadata": {},
     "output_type": "display_data"
    },
    {
     "name": "stdout",
     "output_type": "stream",
     "text": [
      "df_unijump FOR str_b3 = 09\n"
     ]
    },
    {
     "data": {
      "text/html": [
       "<div><style>\n",
       ".dataframe > thead > tr,\n",
       ".dataframe > tbody > tr {\n",
       "  text-align: right;\n",
       "  white-space: pre-wrap;\n",
       "}\n",
       "</style>\n",
       "<small>shape: (40, 2)</small><table border=\"1\" class=\"dataframe\"><thead><tr><th>unijump</th><th>count</th></tr><tr><td>i64</td><td>u32</td></tr></thead><tbody><tr><td>15</td><td>2</td></tr><tr><td>-13</td><td>2</td></tr><tr><td>-8</td><td>1</td></tr><tr><td>92</td><td>1</td></tr><tr><td>22</td><td>1</td></tr><tr><td>&hellip;</td><td>&hellip;</td></tr><tr><td>-50</td><td>1</td></tr><tr><td>-3</td><td>1</td></tr><tr><td>-39</td><td>1</td></tr><tr><td>53</td><td>1</td></tr><tr><td>80</td><td>1</td></tr></tbody></table></div>"
      ],
      "text/plain": [
       "shape: (40, 2)\n",
       "┌─────────┬───────┐\n",
       "│ unijump ┆ count │\n",
       "│ ---     ┆ ---   │\n",
       "│ i64     ┆ u32   │\n",
       "╞═════════╪═══════╡\n",
       "│ 15      ┆ 2     │\n",
       "│ -13     ┆ 2     │\n",
       "│ -8      ┆ 1     │\n",
       "│ 92      ┆ 1     │\n",
       "│ 22      ┆ 1     │\n",
       "│ …       ┆ …     │\n",
       "│ -50     ┆ 1     │\n",
       "│ -3      ┆ 1     │\n",
       "│ -39     ┆ 1     │\n",
       "│ 53      ┆ 1     │\n",
       "│ 80      ┆ 1     │\n",
       "└─────────┴───────┘"
      ]
     },
     "metadata": {},
     "output_type": "display_data"
    }
   ],
   "source": [
    "possible_b3, exclude_jump_maps_b3, last_post_b3 = plot_post_col(col='str_b3', post_col='post_str_b3')"
   ]
  },
  {
   "cell_type": "code",
   "execution_count": 10,
   "metadata": {},
   "outputs": [
    {
     "name": "stdout",
     "output_type": "stream",
     "text": [
      "Setting test_value='12'\n",
      "df_viz FOR str_b4 = 12\n"
     ]
    },
    {
     "data": {
      "text/html": [
       "<div><style>\n",
       ".dataframe > thead > tr,\n",
       ".dataframe > tbody > tr {\n",
       "  text-align: right;\n",
       "  white-space: pre-wrap;\n",
       "}\n",
       "</style>\n",
       "<small>shape: (18, 3)</small><table border=\"1\" class=\"dataframe\"><thead><tr><th>post_str_b4</th><th>count</th><th>percent</th></tr><tr><td>str</td><td>u32</td><td>f64</td></tr></thead><tbody><tr><td>&quot;19&quot;</td><td>4</td><td>11.764706</td></tr><tr><td>&quot;35&quot;</td><td>4</td><td>11.764706</td></tr><tr><td>&quot;27&quot;</td><td>3</td><td>8.823529</td></tr><tr><td>&quot;30&quot;</td><td>3</td><td>8.823529</td></tr><tr><td>&quot;20&quot;</td><td>3</td><td>8.823529</td></tr><tr><td>&hellip;</td><td>&hellip;</td><td>&hellip;</td></tr><tr><td>&quot;29&quot;</td><td>1</td><td>2.941176</td></tr><tr><td>&quot;17&quot;</td><td>1</td><td>2.941176</td></tr><tr><td>&quot;22&quot;</td><td>1</td><td>2.941176</td></tr><tr><td>&quot;31&quot;</td><td>1</td><td>2.941176</td></tr><tr><td>&quot;28&quot;</td><td>1</td><td>2.941176</td></tr></tbody></table></div>"
      ],
      "text/plain": [
       "shape: (18, 3)\n",
       "┌─────────────┬───────┬───────────┐\n",
       "│ post_str_b4 ┆ count ┆ percent   │\n",
       "│ ---         ┆ ---   ┆ ---       │\n",
       "│ str         ┆ u32   ┆ f64       │\n",
       "╞═════════════╪═══════╪═══════════╡\n",
       "│ 19          ┆ 4     ┆ 11.764706 │\n",
       "│ 35          ┆ 4     ┆ 11.764706 │\n",
       "│ 27          ┆ 3     ┆ 8.823529  │\n",
       "│ 30          ┆ 3     ┆ 8.823529  │\n",
       "│ 20          ┆ 3     ┆ 8.823529  │\n",
       "│ …           ┆ …     ┆ …         │\n",
       "│ 29          ┆ 1     ┆ 2.941176  │\n",
       "│ 17          ┆ 1     ┆ 2.941176  │\n",
       "│ 22          ┆ 1     ┆ 2.941176  │\n",
       "│ 31          ┆ 1     ┆ 2.941176  │\n",
       "│ 28          ┆ 1     ┆ 2.941176  │\n",
       "└─────────────┴───────┴───────────┘"
      ]
     },
     "metadata": {},
     "output_type": "display_data"
    },
    {
     "data": {},
     "metadata": {},
     "output_type": "display_data"
    },
    {
     "data": {
      "application/vnd.holoviews_exec.v0+json": "",
      "text/html": [
       "<div id='8d8adcb3-3a59-4b07-b32e-24278d704d37'>\n",
       "  <div id=\"bbf056fa-b2a5-44a0-8c99-f58ec56f88cd\" data-root-id=\"8d8adcb3-3a59-4b07-b32e-24278d704d37\" style=\"display: contents;\"></div>\n",
       "</div>\n",
       "<script type=\"application/javascript\">(function(root) {\n",
       "  var docs_json = {\"92452a73-0273-4b0c-98aa-dc86de077bba\":{\"version\":\"3.7.2\",\"title\":\"Bokeh Application\",\"roots\":[{\"type\":\"object\",\"name\":\"Row\",\"id\":\"8d8adcb3-3a59-4b07-b32e-24278d704d37\",\"attributes\":{\"name\":\"Row00499\",\"tags\":[\"embedded\"],\"stylesheets\":[\"\\n:host(.pn-loading):before, .pn-loading:before {\\n  background-color: #c3c3c3;\\n  mask-size: auto calc(min(50%, 400px));\\n  -webkit-mask-size: auto calc(min(50%, 400px));\\n}\",{\"type\":\"object\",\"name\":\"ImportedStyleSheet\",\"id\":\"9996e93b-3799-4283-bcc3-9ff23841c5e1\",\"attributes\":{\"url\":\"https://cdn.holoviz.org/panel/1.6.2/dist/css/loading.css\"}},{\"type\":\"object\",\"name\":\"ImportedStyleSheet\",\"id\":\"248966bf-9166-410f-aaf8-4c3630cea76a\",\"attributes\":{\"url\":\"https://cdn.holoviz.org/panel/1.6.2/dist/css/listpanel.css\"}},{\"type\":\"object\",\"name\":\"ImportedStyleSheet\",\"id\":\"495dd29e-d733-49f7-89ad-263e27caa73a\",\"attributes\":{\"url\":\"https://cdn.holoviz.org/panel/1.6.2/dist/bundled/theme/default.css\"}},{\"type\":\"object\",\"name\":\"ImportedStyleSheet\",\"id\":\"277978e2-a88c-4422-9108-dabd22536d59\",\"attributes\":{\"url\":\"https://cdn.holoviz.org/panel/1.6.2/dist/bundled/theme/native.css\"}}],\"min_width\":700,\"margin\":0,\"sizing_mode\":\"stretch_width\",\"align\":\"start\",\"children\":[{\"type\":\"object\",\"name\":\"Spacer\",\"id\":\"5e6c6693-a27d-4b19-b09c-96471e7e5290\",\"attributes\":{\"name\":\"HSpacer00503\",\"stylesheets\":[\"\\n:host(.pn-loading):before, .pn-loading:before {\\n  background-color: #c3c3c3;\\n  mask-size: auto calc(min(50%, 400px));\\n  -webkit-mask-size: auto calc(min(50%, 400px));\\n}\",{\"id\":\"9996e93b-3799-4283-bcc3-9ff23841c5e1\"},{\"id\":\"495dd29e-d733-49f7-89ad-263e27caa73a\"},{\"id\":\"277978e2-a88c-4422-9108-dabd22536d59\"}],\"margin\":0,\"sizing_mode\":\"stretch_width\",\"align\":\"start\"}},{\"type\":\"object\",\"name\":\"Figure\",\"id\":\"9dc5b867-3dec-43f0-b747-0cd6606c0311\",\"attributes\":{\"width\":700,\"height\":300,\"margin\":[5,10],\"sizing_mode\":\"fixed\",\"align\":\"start\",\"x_range\":{\"type\":\"object\",\"name\":\"FactorRange\",\"id\":\"d1f905fd-0c31-4387-9edb-3d061e0153c4\",\"attributes\":{\"name\":\"post_str_b4\",\"tags\":[[[\"post_str_b4\",null]],[]],\"factors\":[\"19\",\"35\",\"27\",\"30\",\"20\",\"16\",\"24\",\"25\",\"42\",\"32\",\"33\",\"36\",\"23\",\"29\",\"17\",\"22\",\"31\",\"28\"]}},\"y_range\":{\"type\":\"object\",\"name\":\"Range1d\",\"id\":\"8d95a4f5-4ee7-44be-ace3-2c7e9352091e\",\"attributes\":{\"name\":\"percent\",\"tags\":[[[\"percent\",null]],{\"type\":\"map\",\"entries\":[[\"invert_yaxis\",false],[\"autorange\",false]]}],\"end\":12.647058823529411,\"reset_start\":0.0,\"reset_end\":12.647058823529411}},\"x_scale\":{\"type\":\"object\",\"name\":\"CategoricalScale\",\"id\":\"8f217a1f-26da-457e-ac10-de9ca9ecb7a9\"},\"y_scale\":{\"type\":\"object\",\"name\":\"LinearScale\",\"id\":\"1cfac759-5a2a-451b-9a9f-9d265c0532d3\"},\"title\":{\"type\":\"object\",\"name\":\"Title\",\"id\":\"601ad51a-3858-4eb0-a264-b5b6e098d71e\",\"attributes\":{\"text_color\":\"black\",\"text_font_size\":\"12pt\"}},\"renderers\":[{\"type\":\"object\",\"name\":\"GlyphRenderer\",\"id\":\"22c13b17-de28-4abc-8c97-73670a81ad17\",\"attributes\":{\"data_source\":{\"type\":\"object\",\"name\":\"ColumnDataSource\",\"id\":\"b9e472b6-a7c2-4b83-937b-3661386d09e2\",\"attributes\":{\"selected\":{\"type\":\"object\",\"name\":\"Selection\",\"id\":\"d7336580-5c71-49d7-8bd6-d01da589ec12\",\"attributes\":{\"indices\":[],\"line_indices\":[]}},\"selection_policy\":{\"type\":\"object\",\"name\":\"UnionRenderers\",\"id\":\"75fc2460-9347-4cf3-a694-7b7294647dcb\"},\"data\":{\"type\":\"map\",\"entries\":[[\"post_str_b4\",[\"19\",\"35\",\"27\",\"30\",\"20\",\"16\",\"24\",\"25\",\"42\",\"32\",\"33\",\"36\",\"23\",\"29\",\"17\",\"22\",\"31\",\"28\"]],[\"percent\",{\"type\":\"ndarray\",\"array\":{\"type\":\"bytes\",\"data\":\"h4eHh4eHJ0CHh4eHh4cnQKWlpaWlpSFApaWlpaWlIUClpaWlpaUhQIeHh4eHhxdAh4eHh4eHF0CHh4eHh4cXQIeHh4eHhxdAh4eHh4eHB0CHh4eHh4cHQIeHh4eHhwdAh4eHh4eHB0CHh4eHh4cHQIeHh4eHhwdAh4eHh4eHB0CHh4eHh4cHQIeHh4eHhwdA\"},\"shape\":[18],\"dtype\":\"float64\",\"order\":\"little\"}]]}}},\"view\":{\"type\":\"object\",\"name\":\"CDSView\",\"id\":\"92db65e6-3014-4e69-adb1-0758ff8d56ed\",\"attributes\":{\"filter\":{\"type\":\"object\",\"name\":\"AllIndices\",\"id\":\"04d8c627-524c-4bc7-852c-601b1af24d63\"}}},\"glyph\":{\"type\":\"object\",\"name\":\"VBar\",\"id\":\"b1171263-19e1-4cac-988b-cf5c34bde98c\",\"attributes\":{\"tags\":[\"apply_ranges\"],\"x\":{\"type\":\"field\",\"field\":\"post_str_b4\"},\"width\":{\"type\":\"value\",\"value\":0.8},\"top\":{\"type\":\"field\",\"field\":\"percent\"},\"fill_color\":{\"type\":\"value\",\"value\":\"#30a2da\"},\"hatch_color\":{\"type\":\"value\",\"value\":\"#30a2da\"}}},\"selection_glyph\":{\"type\":\"object\",\"name\":\"VBar\",\"id\":\"4913054d-97e2-45a3-a939-ac33581386d9\",\"attributes\":{\"tags\":[\"apply_ranges\"],\"x\":{\"type\":\"field\",\"field\":\"post_str_b4\"},\"width\":{\"type\":\"value\",\"value\":0.8},\"bottom\":{\"type\":\"value\",\"value\":0},\"top\":{\"type\":\"field\",\"field\":\"percent\"},\"line_color\":{\"type\":\"value\",\"value\":\"black\"},\"line_alpha\":{\"type\":\"value\",\"value\":1.0},\"line_width\":{\"type\":\"value\",\"value\":1},\"line_join\":{\"type\":\"value\",\"value\":\"bevel\"},\"line_cap\":{\"type\":\"value\",\"value\":\"butt\"},\"line_dash\":{\"type\":\"value\",\"value\":[]},\"line_dash_offset\":{\"type\":\"value\",\"value\":0},\"fill_color\":{\"type\":\"value\",\"value\":\"#30a2da\"},\"fill_alpha\":{\"type\":\"value\",\"value\":1.0},\"hatch_color\":{\"type\":\"value\",\"value\":\"#30a2da\"},\"hatch_alpha\":{\"type\":\"value\",\"value\":1.0},\"hatch_scale\":{\"type\":\"value\",\"value\":12.0},\"hatch_pattern\":{\"type\":\"value\",\"value\":null},\"hatch_weight\":{\"type\":\"value\",\"value\":1.0}}},\"nonselection_glyph\":{\"type\":\"object\",\"name\":\"VBar\",\"id\":\"a463a0e1-2537-4b89-9e87-8dd09a090b37\",\"attributes\":{\"tags\":[\"apply_ranges\"],\"x\":{\"type\":\"field\",\"field\":\"post_str_b4\"},\"width\":{\"type\":\"value\",\"value\":0.8},\"top\":{\"type\":\"field\",\"field\":\"percent\"},\"line_alpha\":{\"type\":\"value\",\"value\":0.1},\"fill_color\":{\"type\":\"value\",\"value\":\"#30a2da\"},\"fill_alpha\":{\"type\":\"value\",\"value\":0.1},\"hatch_color\":{\"type\":\"value\",\"value\":\"#30a2da\"},\"hatch_alpha\":{\"type\":\"value\",\"value\":0.1}}},\"muted_glyph\":{\"type\":\"object\",\"name\":\"VBar\",\"id\":\"30db1357-675c-40b8-99ec-dc63b5c8f578\",\"attributes\":{\"tags\":[\"apply_ranges\"],\"x\":{\"type\":\"field\",\"field\":\"post_str_b4\"},\"width\":{\"type\":\"value\",\"value\":0.8},\"top\":{\"type\":\"field\",\"field\":\"percent\"},\"line_alpha\":{\"type\":\"value\",\"value\":0.2},\"fill_color\":{\"type\":\"value\",\"value\":\"#30a2da\"},\"fill_alpha\":{\"type\":\"value\",\"value\":0.2},\"hatch_color\":{\"type\":\"value\",\"value\":\"#30a2da\"},\"hatch_alpha\":{\"type\":\"value\",\"value\":0.2}}}}},{\"type\":\"object\",\"name\":\"Span\",\"id\":\"317ecced-0346-45ae-b96e-814107010b53\",\"attributes\":{\"level\":\"glyph\",\"location\":5.555555555555554,\"line_color\":\"red\",\"line_width\":3}},{\"type\":\"object\",\"name\":\"Span\",\"id\":\"cfd1398e-7ea3-4301-8310-8837e2943941\",\"attributes\":{\"level\":\"glyph\",\"location\":8.33333333333333,\"line_color\":\"blue\",\"line_width\":3}},{\"type\":\"object\",\"name\":\"Span\",\"id\":\"89985157-e8a1-4bb0-a135-d5fbb0640706\",\"attributes\":{\"level\":\"glyph\",\"location\":2.777777777777777,\"line_color\":\"blue\",\"line_width\":3}}],\"toolbar\":{\"type\":\"object\",\"name\":\"Toolbar\",\"id\":\"d087eb93-4566-4218-b43f-93874c4c8e17\",\"attributes\":{\"tools\":[{\"type\":\"object\",\"name\":\"WheelZoomTool\",\"id\":\"fca1716f-b211-4015-916b-72afda6da8f4\",\"attributes\":{\"tags\":[\"hv_created\"],\"renderers\":\"auto\",\"zoom_together\":\"none\"}},{\"type\":\"object\",\"name\":\"HoverTool\",\"id\":\"41e3aa04-a5e2-4877-93f2-1d6a82efc0b6\",\"attributes\":{\"tags\":[\"hv_created\"],\"renderers\":[{\"id\":\"22c13b17-de28-4abc-8c97-73670a81ad17\"}],\"tooltips\":[[\"post_str_b4\",\"@{post_str_b4}\"],[\"percent\",\"@{percent}\"]]}},{\"type\":\"object\",\"name\":\"SaveTool\",\"id\":\"fbf61a9e-59bf-48db-bd7a-bbad03dafada\"},{\"type\":\"object\",\"name\":\"PanTool\",\"id\":\"ac96b252-4100-4101-a360-4d1163aab2ca\"},{\"type\":\"object\",\"name\":\"BoxZoomTool\",\"id\":\"1f60329c-ae6f-46af-8c05-c248ea88a905\",\"attributes\":{\"dimensions\":\"both\",\"overlay\":{\"type\":\"object\",\"name\":\"BoxAnnotation\",\"id\":\"2b09cca5-b3f4-47d1-a5b4-0bb1f769b41d\",\"attributes\":{\"syncable\":false,\"line_color\":\"black\",\"line_alpha\":1.0,\"line_width\":2,\"line_dash\":[4,4],\"fill_color\":\"lightgrey\",\"fill_alpha\":0.5,\"level\":\"overlay\",\"visible\":false,\"left\":{\"type\":\"number\",\"value\":\"nan\"},\"right\":{\"type\":\"number\",\"value\":\"nan\"},\"top\":{\"type\":\"number\",\"value\":\"nan\"},\"bottom\":{\"type\":\"number\",\"value\":\"nan\"},\"left_units\":\"canvas\",\"right_units\":\"canvas\",\"top_units\":\"canvas\",\"bottom_units\":\"canvas\",\"handles\":{\"type\":\"object\",\"name\":\"BoxInteractionHandles\",\"id\":\"f12192b1-d6a7-4e3c-a5b3-f1ac8166d29a\",\"attributes\":{\"all\":{\"type\":\"object\",\"name\":\"AreaVisuals\",\"id\":\"49eaa648-5c8a-4434-b09d-72d26082929d\",\"attributes\":{\"fill_color\":\"white\",\"hover_fill_color\":\"lightgray\"}}}}}}}},{\"type\":\"object\",\"name\":\"ResetTool\",\"id\":\"84a94d08-bb89-444e-8c43-113db53af08f\"}],\"active_drag\":{\"id\":\"ac96b252-4100-4101-a360-4d1163aab2ca\"}}},\"left\":[{\"type\":\"object\",\"name\":\"LinearAxis\",\"id\":\"5206ec20-73e0-4d06-9b35-4283eab7f187\",\"attributes\":{\"ticker\":{\"type\":\"object\",\"name\":\"BasicTicker\",\"id\":\"5780dc15-fc94-4d52-9a4a-df94d9a3686d\",\"attributes\":{\"mantissas\":[1,2,5]}},\"formatter\":{\"type\":\"object\",\"name\":\"BasicTickFormatter\",\"id\":\"f012e7a7-4cb0-429d-83c6-4a0e42a819c7\"},\"axis_label\":\"percent\",\"major_label_policy\":{\"type\":\"object\",\"name\":\"AllLabels\",\"id\":\"5667f524-08b4-4f4a-a477-ee1be8eb65b8\"}}}],\"below\":[{\"type\":\"object\",\"name\":\"CategoricalAxis\",\"id\":\"b4e6aef8-92af-45c2-afcf-564663746bc3\",\"attributes\":{\"ticker\":{\"type\":\"object\",\"name\":\"CategoricalTicker\",\"id\":\"a9ca5d4b-3cf0-44e0-b9e9-f12d45b70f27\"},\"formatter\":{\"type\":\"object\",\"name\":\"CategoricalTickFormatter\",\"id\":\"85d798c7-28fd-4438-bc16-22a861149e34\"},\"axis_label\":\"post_str_b4\",\"major_label_policy\":{\"type\":\"object\",\"name\":\"AllLabels\",\"id\":\"b3aa854b-14c6-4782-b1fc-25f3a7b0623e\"}}}],\"center\":[{\"type\":\"object\",\"name\":\"Grid\",\"id\":\"9822084c-7433-4640-8414-fc7194f83c22\",\"attributes\":{\"axis\":{\"id\":\"b4e6aef8-92af-45c2-afcf-564663746bc3\"},\"grid_line_color\":null}},{\"type\":\"object\",\"name\":\"Grid\",\"id\":\"d725cf84-95f4-4e17-a62b-e63c974cd246\",\"attributes\":{\"dimension\":1,\"axis\":{\"id\":\"5206ec20-73e0-4d06-9b35-4283eab7f187\"},\"grid_line_color\":null}}],\"min_border_top\":10,\"min_border_bottom\":10,\"min_border_left\":10,\"min_border_right\":10,\"output_backend\":\"webgl\"}},{\"type\":\"object\",\"name\":\"Spacer\",\"id\":\"1e7a973f-82b2-42ad-ac6b-1fca25f915b3\",\"attributes\":{\"name\":\"HSpacer00504\",\"stylesheets\":[\"\\n:host(.pn-loading):before, .pn-loading:before {\\n  background-color: #c3c3c3;\\n  mask-size: auto calc(min(50%, 400px));\\n  -webkit-mask-size: auto calc(min(50%, 400px));\\n}\",{\"id\":\"9996e93b-3799-4283-bcc3-9ff23841c5e1\"},{\"id\":\"495dd29e-d733-49f7-89ad-263e27caa73a\"},{\"id\":\"277978e2-a88c-4422-9108-dabd22536d59\"}],\"margin\":0,\"sizing_mode\":\"stretch_width\",\"align\":\"start\"}}]}}],\"defs\":[{\"type\":\"model\",\"name\":\"ReactiveHTML1\"},{\"type\":\"model\",\"name\":\"FlexBox1\",\"properties\":[{\"name\":\"align_content\",\"kind\":\"Any\",\"default\":\"flex-start\"},{\"name\":\"align_items\",\"kind\":\"Any\",\"default\":\"flex-start\"},{\"name\":\"flex_direction\",\"kind\":\"Any\",\"default\":\"row\"},{\"name\":\"flex_wrap\",\"kind\":\"Any\",\"default\":\"wrap\"},{\"name\":\"gap\",\"kind\":\"Any\",\"default\":\"\"},{\"name\":\"justify_content\",\"kind\":\"Any\",\"default\":\"flex-start\"}]},{\"type\":\"model\",\"name\":\"FloatPanel1\",\"properties\":[{\"name\":\"config\",\"kind\":\"Any\",\"default\":{\"type\":\"map\"}},{\"name\":\"contained\",\"kind\":\"Any\",\"default\":true},{\"name\":\"position\",\"kind\":\"Any\",\"default\":\"right-top\"},{\"name\":\"offsetx\",\"kind\":\"Any\",\"default\":null},{\"name\":\"offsety\",\"kind\":\"Any\",\"default\":null},{\"name\":\"theme\",\"kind\":\"Any\",\"default\":\"primary\"},{\"name\":\"status\",\"kind\":\"Any\",\"default\":\"normalized\"}]},{\"type\":\"model\",\"name\":\"GridStack1\",\"properties\":[{\"name\":\"ncols\",\"kind\":\"Any\",\"default\":null},{\"name\":\"nrows\",\"kind\":\"Any\",\"default\":null},{\"name\":\"allow_resize\",\"kind\":\"Any\",\"default\":true},{\"name\":\"allow_drag\",\"kind\":\"Any\",\"default\":true},{\"name\":\"state\",\"kind\":\"Any\",\"default\":[]}]},{\"type\":\"model\",\"name\":\"drag1\",\"properties\":[{\"name\":\"slider_width\",\"kind\":\"Any\",\"default\":5},{\"name\":\"slider_color\",\"kind\":\"Any\",\"default\":\"black\"},{\"name\":\"value\",\"kind\":\"Any\",\"default\":50}]},{\"type\":\"model\",\"name\":\"click1\",\"properties\":[{\"name\":\"terminal_output\",\"kind\":\"Any\",\"default\":\"\"},{\"name\":\"debug_name\",\"kind\":\"Any\",\"default\":\"\"},{\"name\":\"clears\",\"kind\":\"Any\",\"default\":0}]},{\"type\":\"model\",\"name\":\"FastWrapper1\",\"properties\":[{\"name\":\"object\",\"kind\":\"Any\",\"default\":null},{\"name\":\"style\",\"kind\":\"Any\",\"default\":null}]},{\"type\":\"model\",\"name\":\"NotificationArea1\",\"properties\":[{\"name\":\"js_events\",\"kind\":\"Any\",\"default\":{\"type\":\"map\"}},{\"name\":\"max_notifications\",\"kind\":\"Any\",\"default\":5},{\"name\":\"notifications\",\"kind\":\"Any\",\"default\":[]},{\"name\":\"position\",\"kind\":\"Any\",\"default\":\"bottom-right\"},{\"name\":\"_clear\",\"kind\":\"Any\",\"default\":0},{\"name\":\"types\",\"kind\":\"Any\",\"default\":[{\"type\":\"map\",\"entries\":[[\"type\",\"warning\"],[\"background\",\"#ffc107\"],[\"icon\",{\"type\":\"map\",\"entries\":[[\"className\",\"fas fa-exclamation-triangle\"],[\"tagName\",\"i\"],[\"color\",\"white\"]]}]]},{\"type\":\"map\",\"entries\":[[\"type\",\"info\"],[\"background\",\"#007bff\"],[\"icon\",{\"type\":\"map\",\"entries\":[[\"className\",\"fas fa-info-circle\"],[\"tagName\",\"i\"],[\"color\",\"white\"]]}]]}]}]},{\"type\":\"model\",\"name\":\"Notification\",\"properties\":[{\"name\":\"background\",\"kind\":\"Any\",\"default\":null},{\"name\":\"duration\",\"kind\":\"Any\",\"default\":3000},{\"name\":\"icon\",\"kind\":\"Any\",\"default\":null},{\"name\":\"message\",\"kind\":\"Any\",\"default\":\"\"},{\"name\":\"notification_type\",\"kind\":\"Any\",\"default\":null},{\"name\":\"_rendered\",\"kind\":\"Any\",\"default\":false},{\"name\":\"_destroyed\",\"kind\":\"Any\",\"default\":false}]},{\"type\":\"model\",\"name\":\"TemplateActions1\",\"properties\":[{\"name\":\"open_modal\",\"kind\":\"Any\",\"default\":0},{\"name\":\"close_modal\",\"kind\":\"Any\",\"default\":0}]},{\"type\":\"model\",\"name\":\"BootstrapTemplateActions1\",\"properties\":[{\"name\":\"open_modal\",\"kind\":\"Any\",\"default\":0},{\"name\":\"close_modal\",\"kind\":\"Any\",\"default\":0}]},{\"type\":\"model\",\"name\":\"TemplateEditor1\",\"properties\":[{\"name\":\"layout\",\"kind\":\"Any\",\"default\":[]}]},{\"type\":\"model\",\"name\":\"MaterialTemplateActions1\",\"properties\":[{\"name\":\"open_modal\",\"kind\":\"Any\",\"default\":0},{\"name\":\"close_modal\",\"kind\":\"Any\",\"default\":0}]},{\"type\":\"model\",\"name\":\"ReactiveESM1\",\"properties\":[{\"name\":\"esm_constants\",\"kind\":\"Any\",\"default\":{\"type\":\"map\"}}]},{\"type\":\"model\",\"name\":\"JSComponent1\",\"properties\":[{\"name\":\"esm_constants\",\"kind\":\"Any\",\"default\":{\"type\":\"map\"}}]},{\"type\":\"model\",\"name\":\"ReactComponent1\",\"properties\":[{\"name\":\"esm_constants\",\"kind\":\"Any\",\"default\":{\"type\":\"map\"}}]},{\"type\":\"model\",\"name\":\"AnyWidgetComponent1\",\"properties\":[{\"name\":\"esm_constants\",\"kind\":\"Any\",\"default\":{\"type\":\"map\"}}]},{\"type\":\"model\",\"name\":\"request_value1\",\"properties\":[{\"name\":\"fill\",\"kind\":\"Any\",\"default\":\"none\"},{\"name\":\"_synced\",\"kind\":\"Any\",\"default\":null},{\"name\":\"_request_sync\",\"kind\":\"Any\",\"default\":0}]}]}};\n",
       "  var render_items = [{\"docid\":\"92452a73-0273-4b0c-98aa-dc86de077bba\",\"roots\":{\"8d8adcb3-3a59-4b07-b32e-24278d704d37\":\"bbf056fa-b2a5-44a0-8c99-f58ec56f88cd\"},\"root_ids\":[\"8d8adcb3-3a59-4b07-b32e-24278d704d37\"]}];\n",
       "  var docs = Object.values(docs_json)\n",
       "  if (!docs) {\n",
       "    return\n",
       "  }\n",
       "  const py_version = docs[0].version.replace('rc', '-rc.').replace('.dev', '-dev.')\n",
       "  async function embed_document(root) {\n",
       "    var Bokeh = get_bokeh(root)\n",
       "    await Bokeh.embed.embed_items_notebook(docs_json, render_items);\n",
       "    for (const render_item of render_items) {\n",
       "      for (const root_id of render_item.root_ids) {\n",
       "\tconst id_el = document.getElementById(root_id)\n",
       "\tif (id_el.children.length && id_el.children[0].hasAttribute('data-root-id')) {\n",
       "\t  const root_el = id_el.children[0]\n",
       "\t  root_el.id = root_el.id + '-rendered'\n",
       "\t  for (const child of root_el.children) {\n",
       "            // Ensure JupyterLab does not capture keyboard shortcuts\n",
       "            // see: https://jupyterlab.readthedocs.io/en/4.1.x/extension/notebook.html#keyboard-interaction-model\n",
       "\t    child.setAttribute('data-lm-suppress-shortcuts', 'true')\n",
       "\t  }\n",
       "\t}\n",
       "      }\n",
       "    }\n",
       "  }\n",
       "  function get_bokeh(root) {\n",
       "    if (root.Bokeh === undefined) {\n",
       "      return null\n",
       "    } else if (root.Bokeh.version !== py_version) {\n",
       "      if (root.Bokeh.versions === undefined || !root.Bokeh.versions.has(py_version)) {\n",
       "\treturn null\n",
       "      }\n",
       "      return root.Bokeh.versions.get(py_version);\n",
       "    } else if (root.Bokeh.version === py_version) {\n",
       "      return root.Bokeh\n",
       "    }\n",
       "    return null\n",
       "  }\n",
       "  function is_loaded(root) {\n",
       "    var Bokeh = get_bokeh(root)\n",
       "    return (Bokeh != null && Bokeh.Panel !== undefined)\n",
       "  }\n",
       "  if (is_loaded(root)) {\n",
       "    embed_document(root);\n",
       "  } else {\n",
       "    var attempts = 0;\n",
       "    var timer = setInterval(function(root) {\n",
       "      if (is_loaded(root)) {\n",
       "        clearInterval(timer);\n",
       "        embed_document(root);\n",
       "      } else if (document.readyState == \"complete\") {\n",
       "        attempts++;\n",
       "        if (attempts > 200) {\n",
       "          clearInterval(timer);\n",
       "\t  var Bokeh = get_bokeh(root)\n",
       "\t  if (Bokeh == null || Bokeh.Panel == null) {\n",
       "            console.warn(\"Panel: ERROR: Unable to run Panel code because Bokeh or Panel library is missing\");\n",
       "\t  } else {\n",
       "\t    console.warn(\"Panel: WARNING: Attempting to render but not all required libraries could be resolved.\")\n",
       "\t    embed_document(root)\n",
       "\t  }\n",
       "        }\n",
       "      }\n",
       "    }, 25, root)\n",
       "  }\n",
       "})(window);</script>"
      ],
      "text/plain": [
       ":Overlay\n",
       "   .Bars.I    :Bars   [post_str_b4]   (percent)\n",
       "   .HLine.I   :HLine   [x,y]\n",
       "   .HLine.II  :HLine   [x,y]\n",
       "   .HLine.III :HLine   [x,y]"
      ]
     },
     "metadata": {
      "application/vnd.holoviews_exec.v0+json": {
       "id": "8d8adcb3-3a59-4b07-b32e-24278d704d37"
      }
     },
     "output_type": "display_data"
    },
    {
     "name": "stdout",
     "output_type": "stream",
     "text": [
      "df_10_last FOR str_b4 = 12\n",
      "Last 3 results last_results=['42', '27', '28']\n"
     ]
    },
    {
     "data": {
      "text/html": [
       "<div><style>\n",
       ".dataframe > thead > tr,\n",
       ".dataframe > tbody > tr {\n",
       "  text-align: right;\n",
       "  white-space: pre-wrap;\n",
       "}\n",
       "</style>\n",
       "<small>shape: (10, 30)</small><table border=\"1\" class=\"dataframe\"><thead><tr><th>fecha</th><th>sorteo</th><th>bolillas</th><th>yapa</th><th>adicionales</th><th>sorteo_extra</th><th>id</th><th>combo</th><th>b1</th><th>b2</th><th>b3</th><th>b4</th><th>b5</th><th>b6</th><th>str_b1</th><th>str_b2</th><th>str_b3</th><th>str_b4</th><th>str_b5</th><th>str_b6</th><th>post_str_b1</th><th>post_str_b2</th><th>post_str_b3</th><th>post_str_b4</th><th>post_str_b5</th><th>post_str_blast</th><th>is_rare_combination</th><th>reason</th><th>jumps_map</th><th>unijump</th></tr><tr><td>str</td><td>str</td><td>str</td><td>str</td><td>str</td><td>str</td><td>str</td><td>array[u8, 6]</td><td>u8</td><td>u8</td><td>u8</td><td>u8</td><td>u8</td><td>u8</td><td>str</td><td>str</td><td>str</td><td>str</td><td>str</td><td>str</td><td>str</td><td>str</td><td>str</td><td>str</td><td>str</td><td>str</td><td>bool</td><td>u8</td><td>str</td><td>i64</td></tr></thead><tbody><tr><td>&quot;24/07/2022&quot;</td><td>&quot;0901&quot;</td><td>&quot;07 23 04 12 03 31&quot;</td><td>&quot;22&quot;</td><td>&quot;41&quot;</td><td>&quot;Promoción Sí o Sí&quot;</td><td>&quot;030407122331&quot;</td><td>[3, 4, … 31]</td><td>3</td><td>4</td><td>7</td><td>12</td><td>23</td><td>31</td><td>&quot;03&quot;</td><td>&quot;04&quot;</td><td>&quot;07&quot;</td><td>&quot;12&quot;</td><td>&quot;23&quot;</td><td>&quot;31&quot;</td><td>&quot;02&quot;</td><td>&quot;06&quot;</td><td>&quot;11&quot;</td><td>&quot;27&quot;</td><td>&quot;29&quot;</td><td>&quot;31&quot;</td><td>true</td><td>1</td><td>&quot;01_03_05_11_08&quot;</td><td>-17</td></tr><tr><td>&quot;22/05/2022&quot;</td><td>&quot;0883&quot;</td><td>&quot;11 10 12 21 01 26&quot;</td><td>&quot;36&quot;</td><td>&quot;33 38&quot;</td><td>&quot;Promoción Sí o Sí&quot;</td><td>&quot;011011122126&quot;</td><td>[1, 10, … 26]</td><td>1</td><td>10</td><td>11</td><td>12</td><td>21</td><td>26</td><td>&quot;01&quot;</td><td>&quot;10&quot;</td><td>&quot;11&quot;</td><td>&quot;12&quot;</td><td>&quot;21&quot;</td><td>&quot;26&quot;</td><td>&quot;12&quot;</td><td>&quot;28&quot;</td><td>&quot;39&quot;</td><td>&quot;42&quot;</td><td>&quot;43&quot;</td><td>&quot;45&quot;</td><td>true</td><td>24</td><td>&quot;09_01_01_09_05&quot;</td><td>-20</td></tr><tr><td>&quot;17/11/2021&quot;</td><td>&quot;0830&quot;</td><td>&quot;02 03 10 30 36 12&quot;</td><td>&quot;06&quot;</td><td>&quot;&quot;</td><td>&quot;&quot;</td><td>&quot;020310123036&quot;</td><td>[2, 3, … 36]</td><td>2</td><td>3</td><td>10</td><td>12</td><td>30</td><td>36</td><td>&quot;02&quot;</td><td>&quot;03&quot;</td><td>&quot;10&quot;</td><td>&quot;12&quot;</td><td>&quot;30&quot;</td><td>&quot;36&quot;</td><td>&quot;15&quot;</td><td>&quot;24&quot;</td><td>&quot;26&quot;</td><td>&quot;28&quot;</td><td>&quot;38&quot;</td><td>&quot;44&quot;</td><td>false</td><td>0</td><td>&quot;01_07_02_18_06&quot;</td><td>-81</td></tr><tr><td>&quot;19/01/2020&quot;</td><td>&quot;0672&quot;</td><td>&quot;06 02 12 18 23 09&quot;</td><td>&quot;01&quot;</td><td>&quot;&quot;</td><td>&quot;&quot;</td><td>&quot;020609121823&quot;</td><td>[2, 6, … 23]</td><td>2</td><td>6</td><td>9</td><td>12</td><td>18</td><td>23</td><td>&quot;02&quot;</td><td>&quot;06&quot;</td><td>&quot;09&quot;</td><td>&quot;12&quot;</td><td>&quot;18&quot;</td><td>&quot;23&quot;</td><td>&quot;05&quot;</td><td>&quot;11&quot;</td><td>&quot;34&quot;</td><td>&quot;35&quot;</td><td>&quot;40&quot;</td><td>&quot;42&quot;</td><td>true</td><td>8</td><td>&quot;04_03_03_06_05&quot;</td><td>-9</td></tr><tr><td>&quot;17/03/2019&quot;</td><td>&quot;0584&quot;</td><td>&quot;24 07 41 11 04 12&quot;</td><td>&quot;18&quot;</td><td>&quot;&quot;</td><td>&quot;&quot;</td><td>&quot;040711122441&quot;</td><td>[4, 7, … 41]</td><td>4</td><td>7</td><td>11</td><td>12</td><td>24</td><td>41</td><td>&quot;04&quot;</td><td>&quot;07&quot;</td><td>&quot;11&quot;</td><td>&quot;12&quot;</td><td>&quot;24&quot;</td><td>&quot;41&quot;</td><td>&quot;12&quot;</td><td>&quot;13&quot;</td><td>&quot;15&quot;</td><td>&quot;16&quot;</td><td>&quot;43&quot;</td><td>&quot;44&quot;</td><td>true</td><td>16</td><td>&quot;03_04_01_12_17&quot;</td><td>-38</td></tr><tr><td>&quot;27/05/2018&quot;</td><td>&quot;0500&quot;</td><td>&quot;12 28 05 10 14 01&quot;</td><td>&quot;42&quot;</td><td>&quot;&quot;</td><td>&quot;&quot;</td><td>&quot;010510121428&quot;</td><td>[1, 5, … 28]</td><td>1</td><td>5</td><td>10</td><td>12</td><td>14</td><td>28</td><td>&quot;01&quot;</td><td>&quot;05&quot;</td><td>&quot;10&quot;</td><td>&quot;12&quot;</td><td>&quot;14&quot;</td><td>&quot;28&quot;</td><td>&quot;09&quot;</td><td>&quot;13&quot;</td><td>&quot;14&quot;</td><td>&quot;20&quot;</td><td>&quot;22&quot;</td><td>&quot;26&quot;</td><td>true</td><td>24</td><td>&quot;04_05_02_02_14&quot;</td><td>2</td></tr><tr><td>&quot;12/06/2016&quot;</td><td>&quot;0296&quot;</td><td>&quot;01 08 11 12 15 36&quot;</td><td>&quot;22&quot;</td><td>&quot;&quot;</td><td>&quot;&quot;</td><td>&quot;010811121536&quot;</td><td>[1, 8, … 36]</td><td>1</td><td>8</td><td>11</td><td>12</td><td>15</td><td>36</td><td>&quot;01&quot;</td><td>&quot;08&quot;</td><td>&quot;11&quot;</td><td>&quot;12&quot;</td><td>&quot;15&quot;</td><td>&quot;36&quot;</td><td>&quot;06&quot;</td><td>&quot;20&quot;</td><td>&quot;32&quot;</td><td>&quot;35&quot;</td><td>&quot;43&quot;</td><td>&quot;45&quot;</td><td>false</td><td>0</td><td>&quot;07_03_01_03_21&quot;</td><td>10</td></tr><tr><td>&quot;25/05/2016&quot;</td><td>&quot;0291&quot;</td><td>&quot;05 08 11 12 33 44&quot;</td><td>&quot;45&quot;</td><td>&quot;&quot;</td><td>&quot;&quot;</td><td>&quot;050811123344&quot;</td><td>[5, 8, … 44]</td><td>5</td><td>8</td><td>11</td><td>12</td><td>33</td><td>44</td><td>&quot;05&quot;</td><td>&quot;08&quot;</td><td>&quot;11&quot;</td><td>&quot;12&quot;</td><td>&quot;33&quot;</td><td>&quot;44&quot;</td><td>&quot;02&quot;</td><td>&quot;17&quot;</td><td>&quot;19&quot;</td><td>&quot;27&quot;</td><td>&quot;37&quot;</td><td>&quot;42&quot;</td><td>true</td><td>8</td><td>&quot;03_03_01_21_11&quot;</td><td>-76</td></tr><tr><td>&quot;17/01/2016&quot;</td><td>&quot;0254&quot;</td><td>&quot;01 05 06 12 24 40&quot;</td><td>&quot;19&quot;</td><td>&quot;&quot;</td><td>&quot;&quot;</td><td>&quot;010506122440&quot;</td><td>[1, 5, … 40]</td><td>1</td><td>5</td><td>6</td><td>12</td><td>24</td><td>40</td><td>&quot;01&quot;</td><td>&quot;05&quot;</td><td>&quot;06&quot;</td><td>&quot;12&quot;</td><td>&quot;24&quot;</td><td>&quot;40&quot;</td><td>&quot;12&quot;</td><td>&quot;18&quot;</td><td>&quot;21&quot;</td><td>&quot;30&quot;</td><td>&quot;40&quot;</td><td>&quot;45&quot;</td><td>true</td><td>16</td><td>&quot;04_01_06_12_16&quot;</td><td>4</td></tr><tr><td>&quot;16/09/2015&quot;</td><td>&quot;0219&quot;</td><td>&quot;08 09 11 12 14 43&quot;</td><td>&quot;26&quot;</td><td>&quot;&quot;</td><td>&quot;&quot;</td><td>&quot;080911121443&quot;</td><td>[8, 9, … 43]</td><td>8</td><td>9</td><td>11</td><td>12</td><td>14</td><td>43</td><td>&quot;08&quot;</td><td>&quot;09&quot;</td><td>&quot;11&quot;</td><td>&quot;12&quot;</td><td>&quot;14&quot;</td><td>&quot;43&quot;</td><td>&quot;06&quot;</td><td>&quot;07&quot;</td><td>&quot;14&quot;</td><td>&quot;23&quot;</td><td>&quot;27&quot;</td><td>&quot;28&quot;</td><td>false</td><td>0</td><td>&quot;01_02_01_02_29&quot;</td><td>20</td></tr></tbody></table></div>"
      ],
      "text/plain": [
       "shape: (10, 30)\n",
       "┌────────────┬────────┬───────────────┬──────┬───┬───────────────┬────────┬──────────────┬─────────┐\n",
       "│ fecha      ┆ sorteo ┆ bolillas      ┆ yapa ┆ … ┆ is_rare_combi ┆ reason ┆ jumps_map    ┆ unijump │\n",
       "│ ---        ┆ ---    ┆ ---           ┆ ---  ┆   ┆ nation        ┆ ---    ┆ ---          ┆ ---     │\n",
       "│ str        ┆ str    ┆ str           ┆ str  ┆   ┆ ---           ┆ u8     ┆ str          ┆ i64     │\n",
       "│            ┆        ┆               ┆      ┆   ┆ bool          ┆        ┆              ┆         │\n",
       "╞════════════╪════════╪═══════════════╪══════╪═══╪═══════════════╪════════╪══════════════╪═════════╡\n",
       "│ 24/07/2022 ┆ 0901   ┆ 07 23 04 12   ┆ 22   ┆ … ┆ true          ┆ 1      ┆ 01_03_05_11_ ┆ -17     │\n",
       "│            ┆        ┆ 03 31         ┆      ┆   ┆               ┆        ┆ 08           ┆         │\n",
       "│ 22/05/2022 ┆ 0883   ┆ 11 10 12 21   ┆ 36   ┆ … ┆ true          ┆ 24     ┆ 09_01_01_09_ ┆ -20     │\n",
       "│            ┆        ┆ 01 26         ┆      ┆   ┆               ┆        ┆ 05           ┆         │\n",
       "│ 17/11/2021 ┆ 0830   ┆ 02 03 10 30   ┆ 06   ┆ … ┆ false         ┆ 0      ┆ 01_07_02_18_ ┆ -81     │\n",
       "│            ┆        ┆ 36 12         ┆      ┆   ┆               ┆        ┆ 06           ┆         │\n",
       "│ 19/01/2020 ┆ 0672   ┆ 06 02 12 18   ┆ 01   ┆ … ┆ true          ┆ 8      ┆ 04_03_03_06_ ┆ -9      │\n",
       "│            ┆        ┆ 23 09         ┆      ┆   ┆               ┆        ┆ 05           ┆         │\n",
       "│ 17/03/2019 ┆ 0584   ┆ 24 07 41 11   ┆ 18   ┆ … ┆ true          ┆ 16     ┆ 03_04_01_12_ ┆ -38     │\n",
       "│            ┆        ┆ 04 12         ┆      ┆   ┆               ┆        ┆ 17           ┆         │\n",
       "│ 27/05/2018 ┆ 0500   ┆ 12 28 05 10   ┆ 42   ┆ … ┆ true          ┆ 24     ┆ 04_05_02_02_ ┆ 2       │\n",
       "│            ┆        ┆ 14 01         ┆      ┆   ┆               ┆        ┆ 14           ┆         │\n",
       "│ 12/06/2016 ┆ 0296   ┆ 01 08 11 12   ┆ 22   ┆ … ┆ false         ┆ 0      ┆ 07_03_01_03_ ┆ 10      │\n",
       "│            ┆        ┆ 15 36         ┆      ┆   ┆               ┆        ┆ 21           ┆         │\n",
       "│ 25/05/2016 ┆ 0291   ┆ 05 08 11 12   ┆ 45   ┆ … ┆ true          ┆ 8      ┆ 03_03_01_21_ ┆ -76     │\n",
       "│            ┆        ┆ 33 44         ┆      ┆   ┆               ┆        ┆ 11           ┆         │\n",
       "│ 17/01/2016 ┆ 0254   ┆ 01 05 06 12   ┆ 19   ┆ … ┆ true          ┆ 16     ┆ 04_01_06_12_ ┆ 4       │\n",
       "│            ┆        ┆ 24 40         ┆      ┆   ┆               ┆        ┆ 16           ┆         │\n",
       "│ 16/09/2015 ┆ 0219   ┆ 08 09 11 12   ┆ 26   ┆ … ┆ false         ┆ 0      ┆ 01_02_01_02_ ┆ 20      │\n",
       "│            ┆        ┆ 14 43         ┆      ┆   ┆               ┆        ┆ 29           ┆         │\n",
       "└────────────┴────────┴───────────────┴──────┴───┴───────────────┴────────┴──────────────┴─────────┘"
      ]
     },
     "metadata": {},
     "output_type": "display_data"
    },
    {
     "name": "stdout",
     "output_type": "stream",
     "text": [
      "df_jumps_map FOR str_b4 = 12\n"
     ]
    },
    {
     "data": {
      "text/html": [
       "<div><style>\n",
       ".dataframe > thead > tr,\n",
       ".dataframe > tbody > tr {\n",
       "  text-align: right;\n",
       "  white-space: pre-wrap;\n",
       "}\n",
       "</style>\n",
       "<small>shape: (34, 2)</small><table border=\"1\" class=\"dataframe\"><thead><tr><th>jumps_map</th><th>count</th></tr><tr><td>str</td><td>u32</td></tr></thead><tbody><tr><td>&quot;03_03_02_15_01&quot;</td><td>1</td></tr><tr><td>&quot;01_03_05_11_08&quot;</td><td>1</td></tr><tr><td>&quot;01_03_04_09_13&quot;</td><td>1</td></tr><tr><td>&quot;07_03_01_03_21&quot;</td><td>1</td></tr><tr><td>&quot;04_03_03_06_05&quot;</td><td>1</td></tr><tr><td>&hellip;</td><td>&hellip;</td></tr><tr><td>&quot;02_03_05_16_08&quot;</td><td>1</td></tr><tr><td>&quot;02_03_01_11_05&quot;</td><td>1</td></tr><tr><td>&quot;02_03_06_10_20&quot;</td><td>1</td></tr><tr><td>&quot;03_06_02_01_14&quot;</td><td>1</td></tr><tr><td>&quot;04_02_01_19_11&quot;</td><td>1</td></tr></tbody></table></div>"
      ],
      "text/plain": [
       "shape: (34, 2)\n",
       "┌────────────────┬───────┐\n",
       "│ jumps_map      ┆ count │\n",
       "│ ---            ┆ ---   │\n",
       "│ str            ┆ u32   │\n",
       "╞════════════════╪═══════╡\n",
       "│ 03_03_02_15_01 ┆ 1     │\n",
       "│ 01_03_05_11_08 ┆ 1     │\n",
       "│ 01_03_04_09_13 ┆ 1     │\n",
       "│ 07_03_01_03_21 ┆ 1     │\n",
       "│ 04_03_03_06_05 ┆ 1     │\n",
       "│ …              ┆ …     │\n",
       "│ 02_03_05_16_08 ┆ 1     │\n",
       "│ 02_03_01_11_05 ┆ 1     │\n",
       "│ 02_03_06_10_20 ┆ 1     │\n",
       "│ 03_06_02_01_14 ┆ 1     │\n",
       "│ 04_02_01_19_11 ┆ 1     │\n",
       "└────────────────┴───────┘"
      ]
     },
     "metadata": {},
     "output_type": "display_data"
    },
    {
     "name": "stdout",
     "output_type": "stream",
     "text": [
      "df_unijump FOR str_b4 = 12\n"
     ]
    },
    {
     "data": {
      "text/html": [
       "<div><style>\n",
       ".dataframe > thead > tr,\n",
       ".dataframe > tbody > tr {\n",
       "  text-align: right;\n",
       "  white-space: pre-wrap;\n",
       "}\n",
       "</style>\n",
       "<small>shape: (31, 2)</small><table border=\"1\" class=\"dataframe\"><thead><tr><th>unijump</th><th>count</th></tr><tr><td>i64</td><td>u32</td></tr></thead><tbody><tr><td>-36</td><td>2</td></tr><tr><td>-20</td><td>2</td></tr><tr><td>-43</td><td>2</td></tr><tr><td>31</td><td>1</td></tr><tr><td>20</td><td>1</td></tr><tr><td>&hellip;</td><td>&hellip;</td></tr><tr><td>-82</td><td>1</td></tr><tr><td>-76</td><td>1</td></tr><tr><td>28</td><td>1</td></tr><tr><td>-92</td><td>1</td></tr><tr><td>4</td><td>1</td></tr></tbody></table></div>"
      ],
      "text/plain": [
       "shape: (31, 2)\n",
       "┌─────────┬───────┐\n",
       "│ unijump ┆ count │\n",
       "│ ---     ┆ ---   │\n",
       "│ i64     ┆ u32   │\n",
       "╞═════════╪═══════╡\n",
       "│ -36     ┆ 2     │\n",
       "│ -20     ┆ 2     │\n",
       "│ -43     ┆ 2     │\n",
       "│ 31      ┆ 1     │\n",
       "│ 20      ┆ 1     │\n",
       "│ …       ┆ …     │\n",
       "│ -82     ┆ 1     │\n",
       "│ -76     ┆ 1     │\n",
       "│ 28      ┆ 1     │\n",
       "│ -92     ┆ 1     │\n",
       "│ 4       ┆ 1     │\n",
       "└─────────┴───────┘"
      ]
     },
     "metadata": {},
     "output_type": "display_data"
    }
   ],
   "source": [
    "possible_b4, exclude_jump_maps_b4, last_post_b4 = plot_post_col(col='str_b4', post_col='post_str_b4')"
   ]
  },
  {
   "cell_type": "code",
   "execution_count": 11,
   "metadata": {},
   "outputs": [
    {
     "name": "stdout",
     "output_type": "stream",
     "text": [
      "Setting test_value='13'\n",
      "df_viz FOR str_b5 = 13\n"
     ]
    },
    {
     "data": {
      "text/html": [
       "<div><style>\n",
       ".dataframe > thead > tr,\n",
       ".dataframe > tbody > tr {\n",
       "  text-align: right;\n",
       "  white-space: pre-wrap;\n",
       "}\n",
       "</style>\n",
       "<small>shape: (3, 3)</small><table border=\"1\" class=\"dataframe\"><thead><tr><th>post_str_b5</th><th>count</th><th>percent</th></tr><tr><td>str</td><td>u32</td><td>f64</td></tr></thead><tbody><tr><td>&quot;20&quot;</td><td>1</td><td>33.333333</td></tr><tr><td>&quot;28&quot;</td><td>1</td><td>33.333333</td></tr><tr><td>&quot;33&quot;</td><td>1</td><td>33.333333</td></tr></tbody></table></div>"
      ],
      "text/plain": [
       "shape: (3, 3)\n",
       "┌─────────────┬───────┬───────────┐\n",
       "│ post_str_b5 ┆ count ┆ percent   │\n",
       "│ ---         ┆ ---   ┆ ---       │\n",
       "│ str         ┆ u32   ┆ f64       │\n",
       "╞═════════════╪═══════╪═══════════╡\n",
       "│ 20          ┆ 1     ┆ 33.333333 │\n",
       "│ 28          ┆ 1     ┆ 33.333333 │\n",
       "│ 33          ┆ 1     ┆ 33.333333 │\n",
       "└─────────────┴───────┴───────────┘"
      ]
     },
     "metadata": {},
     "output_type": "display_data"
    },
    {
     "data": {},
     "metadata": {},
     "output_type": "display_data"
    },
    {
     "data": {
      "application/vnd.holoviews_exec.v0+json": "",
      "text/html": [
       "<div id='5b43ed7d-02e5-45a7-8259-a45e3017fa5d'>\n",
       "  <div id=\"d443e2e5-3bf9-46fb-a3c9-a63bdc446a21\" data-root-id=\"5b43ed7d-02e5-45a7-8259-a45e3017fa5d\" style=\"display: contents;\"></div>\n",
       "</div>\n",
       "<script type=\"application/javascript\">(function(root) {\n",
       "  var docs_json = {\"b5fdf50c-f7a0-4c2b-8175-a24c8a5e544a\":{\"version\":\"3.7.2\",\"title\":\"Bokeh Application\",\"roots\":[{\"type\":\"object\",\"name\":\"Row\",\"id\":\"5b43ed7d-02e5-45a7-8259-a45e3017fa5d\",\"attributes\":{\"name\":\"Row00570\",\"tags\":[\"embedded\"],\"stylesheets\":[\"\\n:host(.pn-loading):before, .pn-loading:before {\\n  background-color: #c3c3c3;\\n  mask-size: auto calc(min(50%, 400px));\\n  -webkit-mask-size: auto calc(min(50%, 400px));\\n}\",{\"type\":\"object\",\"name\":\"ImportedStyleSheet\",\"id\":\"71ac3377-7e2a-4717-ad6b-63775d128c23\",\"attributes\":{\"url\":\"https://cdn.holoviz.org/panel/1.6.2/dist/css/loading.css\"}},{\"type\":\"object\",\"name\":\"ImportedStyleSheet\",\"id\":\"5452d4ac-30b4-43a3-9c49-79eb556cbfc8\",\"attributes\":{\"url\":\"https://cdn.holoviz.org/panel/1.6.2/dist/css/listpanel.css\"}},{\"type\":\"object\",\"name\":\"ImportedStyleSheet\",\"id\":\"3cc4e7d6-7b85-4935-abed-b8b927d4ffb1\",\"attributes\":{\"url\":\"https://cdn.holoviz.org/panel/1.6.2/dist/bundled/theme/default.css\"}},{\"type\":\"object\",\"name\":\"ImportedStyleSheet\",\"id\":\"8ab2506d-5c42-4f1f-ae84-3caaac68dbfc\",\"attributes\":{\"url\":\"https://cdn.holoviz.org/panel/1.6.2/dist/bundled/theme/native.css\"}}],\"min_width\":700,\"margin\":0,\"sizing_mode\":\"stretch_width\",\"align\":\"start\",\"children\":[{\"type\":\"object\",\"name\":\"Spacer\",\"id\":\"0c82c0ee-9422-493e-9d9c-3d824a72911b\",\"attributes\":{\"name\":\"HSpacer00574\",\"stylesheets\":[\"\\n:host(.pn-loading):before, .pn-loading:before {\\n  background-color: #c3c3c3;\\n  mask-size: auto calc(min(50%, 400px));\\n  -webkit-mask-size: auto calc(min(50%, 400px));\\n}\",{\"id\":\"71ac3377-7e2a-4717-ad6b-63775d128c23\"},{\"id\":\"3cc4e7d6-7b85-4935-abed-b8b927d4ffb1\"},{\"id\":\"8ab2506d-5c42-4f1f-ae84-3caaac68dbfc\"}],\"margin\":0,\"sizing_mode\":\"stretch_width\",\"align\":\"start\"}},{\"type\":\"object\",\"name\":\"Figure\",\"id\":\"9e6df58f-a0d3-44aa-9731-dd16da34e9cc\",\"attributes\":{\"width\":700,\"height\":300,\"margin\":[5,10],\"sizing_mode\":\"fixed\",\"align\":\"start\",\"x_range\":{\"type\":\"object\",\"name\":\"FactorRange\",\"id\":\"4e11d3bf-6903-43c9-8050-a67015e7c5f0\",\"attributes\":{\"name\":\"post_str_b5\",\"tags\":[[[\"post_str_b5\",null]],[]],\"factors\":[\"20\",\"28\",\"33\"]}},\"y_range\":{\"type\":\"object\",\"name\":\"Range1d\",\"id\":\"8b951f8c-866a-4823-a407-7097ab4fe771\",\"attributes\":{\"name\":\"percent\",\"tags\":[[[\"percent\",null]],{\"type\":\"map\",\"entries\":[[\"invert_yaxis\",false],[\"autorange\",false]]}],\"end\":34.53333333333333,\"reset_start\":0.0,\"reset_end\":34.53333333333333}},\"x_scale\":{\"type\":\"object\",\"name\":\"CategoricalScale\",\"id\":\"cf0da9d0-d59f-4f69-81b3-940334939bc5\"},\"y_scale\":{\"type\":\"object\",\"name\":\"LinearScale\",\"id\":\"dab0c43d-61a4-4b28-ad05-149b8da54ec1\"},\"title\":{\"type\":\"object\",\"name\":\"Title\",\"id\":\"a56851d9-b365-4fa0-9795-8270094be31b\",\"attributes\":{\"text_color\":\"black\",\"text_font_size\":\"12pt\"}},\"renderers\":[{\"type\":\"object\",\"name\":\"GlyphRenderer\",\"id\":\"687124aa-6b60-4fcd-b77a-63fd895f78cf\",\"attributes\":{\"data_source\":{\"type\":\"object\",\"name\":\"ColumnDataSource\",\"id\":\"76032132-6b17-4da6-8ca4-5a50adb46d53\",\"attributes\":{\"selected\":{\"type\":\"object\",\"name\":\"Selection\",\"id\":\"5fc004c9-2f9c-47ae-922b-5054e1a475d1\",\"attributes\":{\"indices\":[],\"line_indices\":[]}},\"selection_policy\":{\"type\":\"object\",\"name\":\"UnionRenderers\",\"id\":\"0a17a6ac-0498-400e-8c97-3735473a9d1d\"},\"data\":{\"type\":\"map\",\"entries\":[[\"post_str_b5\",[\"20\",\"28\",\"33\"]],[\"percent\",{\"type\":\"ndarray\",\"array\":{\"type\":\"bytes\",\"data\":\"qqqqqqqqQECqqqqqqqpAQKqqqqqqqkBA\"},\"shape\":[3],\"dtype\":\"float64\",\"order\":\"little\"}]]}}},\"view\":{\"type\":\"object\",\"name\":\"CDSView\",\"id\":\"4bbf5ab0-569c-45f9-8ef7-c7f9e1b3e272\",\"attributes\":{\"filter\":{\"type\":\"object\",\"name\":\"AllIndices\",\"id\":\"8db6f416-b75f-4e20-bfd2-6061595c44c0\"}}},\"glyph\":{\"type\":\"object\",\"name\":\"VBar\",\"id\":\"b76819df-29f5-4f98-97a5-9f97b46dacb4\",\"attributes\":{\"tags\":[\"apply_ranges\"],\"x\":{\"type\":\"field\",\"field\":\"post_str_b5\"},\"width\":{\"type\":\"value\",\"value\":0.8},\"top\":{\"type\":\"field\",\"field\":\"percent\"},\"fill_color\":{\"type\":\"value\",\"value\":\"#30a2da\"},\"hatch_color\":{\"type\":\"value\",\"value\":\"#30a2da\"}}},\"selection_glyph\":{\"type\":\"object\",\"name\":\"VBar\",\"id\":\"75907e4b-3457-4267-a8ce-da1d86d46d64\",\"attributes\":{\"tags\":[\"apply_ranges\"],\"x\":{\"type\":\"field\",\"field\":\"post_str_b5\"},\"width\":{\"type\":\"value\",\"value\":0.8},\"bottom\":{\"type\":\"value\",\"value\":0},\"top\":{\"type\":\"field\",\"field\":\"percent\"},\"line_color\":{\"type\":\"value\",\"value\":\"black\"},\"line_alpha\":{\"type\":\"value\",\"value\":1.0},\"line_width\":{\"type\":\"value\",\"value\":1},\"line_join\":{\"type\":\"value\",\"value\":\"bevel\"},\"line_cap\":{\"type\":\"value\",\"value\":\"butt\"},\"line_dash\":{\"type\":\"value\",\"value\":[]},\"line_dash_offset\":{\"type\":\"value\",\"value\":0},\"fill_color\":{\"type\":\"value\",\"value\":\"#30a2da\"},\"fill_alpha\":{\"type\":\"value\",\"value\":1.0},\"hatch_color\":{\"type\":\"value\",\"value\":\"#30a2da\"},\"hatch_alpha\":{\"type\":\"value\",\"value\":1.0},\"hatch_scale\":{\"type\":\"value\",\"value\":12.0},\"hatch_pattern\":{\"type\":\"value\",\"value\":null},\"hatch_weight\":{\"type\":\"value\",\"value\":1.0}}},\"nonselection_glyph\":{\"type\":\"object\",\"name\":\"VBar\",\"id\":\"a7af644e-9292-41ab-92da-189d6434e11a\",\"attributes\":{\"tags\":[\"apply_ranges\"],\"x\":{\"type\":\"field\",\"field\":\"post_str_b5\"},\"width\":{\"type\":\"value\",\"value\":0.8},\"top\":{\"type\":\"field\",\"field\":\"percent\"},\"line_alpha\":{\"type\":\"value\",\"value\":0.1},\"fill_color\":{\"type\":\"value\",\"value\":\"#30a2da\"},\"fill_alpha\":{\"type\":\"value\",\"value\":0.1},\"hatch_color\":{\"type\":\"value\",\"value\":\"#30a2da\"},\"hatch_alpha\":{\"type\":\"value\",\"value\":0.1}}},\"muted_glyph\":{\"type\":\"object\",\"name\":\"VBar\",\"id\":\"aa936935-7092-49f8-9a92-96b756ef19de\",\"attributes\":{\"tags\":[\"apply_ranges\"],\"x\":{\"type\":\"field\",\"field\":\"post_str_b5\"},\"width\":{\"type\":\"value\",\"value\":0.8},\"top\":{\"type\":\"field\",\"field\":\"percent\"},\"line_alpha\":{\"type\":\"value\",\"value\":0.2},\"fill_color\":{\"type\":\"value\",\"value\":\"#30a2da\"},\"fill_alpha\":{\"type\":\"value\",\"value\":0.2},\"hatch_color\":{\"type\":\"value\",\"value\":\"#30a2da\"},\"hatch_alpha\":{\"type\":\"value\",\"value\":0.2}}}}},{\"type\":\"object\",\"name\":\"Span\",\"id\":\"a81c5b2f-59d6-492a-8a73-a020a7077273\",\"attributes\":{\"level\":\"glyph\",\"location\":33.33333333333333,\"line_color\":\"red\",\"line_width\":3}},{\"type\":\"object\",\"name\":\"Span\",\"id\":\"cb4f597c-a2bf-4d44-8a28-141946fed19f\",\"attributes\":{\"level\":\"glyph\",\"location\":49.99999999999999,\"line_color\":\"blue\",\"line_width\":3}},{\"type\":\"object\",\"name\":\"Span\",\"id\":\"1d48a3eb-cd21-45ee-8ef2-2022b6eb8757\",\"attributes\":{\"level\":\"glyph\",\"location\":16.666666666666664,\"line_color\":\"blue\",\"line_width\":3}}],\"toolbar\":{\"type\":\"object\",\"name\":\"Toolbar\",\"id\":\"0dd0f0e0-d52a-4205-9e85-c63f4bec8675\",\"attributes\":{\"tools\":[{\"type\":\"object\",\"name\":\"WheelZoomTool\",\"id\":\"a7e27be4-52cc-41f9-94ae-523de70aad14\",\"attributes\":{\"tags\":[\"hv_created\"],\"renderers\":\"auto\",\"zoom_together\":\"none\"}},{\"type\":\"object\",\"name\":\"HoverTool\",\"id\":\"654cd409-c815-4a5c-9a1c-247247501ac8\",\"attributes\":{\"tags\":[\"hv_created\"],\"renderers\":[{\"id\":\"687124aa-6b60-4fcd-b77a-63fd895f78cf\"}],\"tooltips\":[[\"post_str_b5\",\"@{post_str_b5}\"],[\"percent\",\"@{percent}\"]]}},{\"type\":\"object\",\"name\":\"SaveTool\",\"id\":\"4df12e05-f439-4091-adda-7f48b41b31dd\"},{\"type\":\"object\",\"name\":\"PanTool\",\"id\":\"1fb73bda-425b-400b-a594-11348e651515\"},{\"type\":\"object\",\"name\":\"BoxZoomTool\",\"id\":\"b09ba57e-4f14-49ac-b8ce-d7d63c01fb2d\",\"attributes\":{\"dimensions\":\"both\",\"overlay\":{\"type\":\"object\",\"name\":\"BoxAnnotation\",\"id\":\"12ad597b-bca0-4520-b224-9ad6dba89365\",\"attributes\":{\"syncable\":false,\"line_color\":\"black\",\"line_alpha\":1.0,\"line_width\":2,\"line_dash\":[4,4],\"fill_color\":\"lightgrey\",\"fill_alpha\":0.5,\"level\":\"overlay\",\"visible\":false,\"left\":{\"type\":\"number\",\"value\":\"nan\"},\"right\":{\"type\":\"number\",\"value\":\"nan\"},\"top\":{\"type\":\"number\",\"value\":\"nan\"},\"bottom\":{\"type\":\"number\",\"value\":\"nan\"},\"left_units\":\"canvas\",\"right_units\":\"canvas\",\"top_units\":\"canvas\",\"bottom_units\":\"canvas\",\"handles\":{\"type\":\"object\",\"name\":\"BoxInteractionHandles\",\"id\":\"e58be42f-b624-430c-b829-5d11105884ec\",\"attributes\":{\"all\":{\"type\":\"object\",\"name\":\"AreaVisuals\",\"id\":\"95ae67eb-1b3b-4404-a515-a49d134665b0\",\"attributes\":{\"fill_color\":\"white\",\"hover_fill_color\":\"lightgray\"}}}}}}}},{\"type\":\"object\",\"name\":\"ResetTool\",\"id\":\"0816e3e2-ccdc-4115-a092-c97d6ae10bee\"}],\"active_drag\":{\"id\":\"1fb73bda-425b-400b-a594-11348e651515\"}}},\"left\":[{\"type\":\"object\",\"name\":\"LinearAxis\",\"id\":\"1325ac7f-412d-4d62-b93b-4f3f7dfebfd7\",\"attributes\":{\"ticker\":{\"type\":\"object\",\"name\":\"BasicTicker\",\"id\":\"82a3c3a4-4a22-4c70-9a5f-b2d5ed1d6ef7\",\"attributes\":{\"mantissas\":[1,2,5]}},\"formatter\":{\"type\":\"object\",\"name\":\"BasicTickFormatter\",\"id\":\"f8698277-b374-4952-8494-209ffcb85d79\"},\"axis_label\":\"percent\",\"major_label_policy\":{\"type\":\"object\",\"name\":\"AllLabels\",\"id\":\"43dc9ef0-08cb-4bb4-93a5-550eb715b4df\"}}}],\"below\":[{\"type\":\"object\",\"name\":\"CategoricalAxis\",\"id\":\"f5bd264f-32b4-421c-8d3e-8b742ee4e729\",\"attributes\":{\"ticker\":{\"type\":\"object\",\"name\":\"CategoricalTicker\",\"id\":\"a75db2cc-ef1c-41fa-af55-ddda2bf59b0c\"},\"formatter\":{\"type\":\"object\",\"name\":\"CategoricalTickFormatter\",\"id\":\"f084864d-9d0c-49e2-a508-9bd580f3dbab\"},\"axis_label\":\"post_str_b5\",\"major_label_policy\":{\"type\":\"object\",\"name\":\"AllLabels\",\"id\":\"cee87c25-2f0a-482f-b616-1dc4bc789c9d\"}}}],\"center\":[{\"type\":\"object\",\"name\":\"Grid\",\"id\":\"d1ea0d61-e816-45ea-82b4-3649b3728963\",\"attributes\":{\"axis\":{\"id\":\"f5bd264f-32b4-421c-8d3e-8b742ee4e729\"},\"grid_line_color\":null}},{\"type\":\"object\",\"name\":\"Grid\",\"id\":\"69f6e07b-b889-4a1b-9756-7fbb3c980823\",\"attributes\":{\"dimension\":1,\"axis\":{\"id\":\"1325ac7f-412d-4d62-b93b-4f3f7dfebfd7\"},\"grid_line_color\":null}}],\"min_border_top\":10,\"min_border_bottom\":10,\"min_border_left\":10,\"min_border_right\":10,\"output_backend\":\"webgl\"}},{\"type\":\"object\",\"name\":\"Spacer\",\"id\":\"b163ad48-99bf-44f5-bf46-7a7b6ad1bef3\",\"attributes\":{\"name\":\"HSpacer00575\",\"stylesheets\":[\"\\n:host(.pn-loading):before, .pn-loading:before {\\n  background-color: #c3c3c3;\\n  mask-size: auto calc(min(50%, 400px));\\n  -webkit-mask-size: auto calc(min(50%, 400px));\\n}\",{\"id\":\"71ac3377-7e2a-4717-ad6b-63775d128c23\"},{\"id\":\"3cc4e7d6-7b85-4935-abed-b8b927d4ffb1\"},{\"id\":\"8ab2506d-5c42-4f1f-ae84-3caaac68dbfc\"}],\"margin\":0,\"sizing_mode\":\"stretch_width\",\"align\":\"start\"}}]}}],\"defs\":[{\"type\":\"model\",\"name\":\"ReactiveHTML1\"},{\"type\":\"model\",\"name\":\"FlexBox1\",\"properties\":[{\"name\":\"align_content\",\"kind\":\"Any\",\"default\":\"flex-start\"},{\"name\":\"align_items\",\"kind\":\"Any\",\"default\":\"flex-start\"},{\"name\":\"flex_direction\",\"kind\":\"Any\",\"default\":\"row\"},{\"name\":\"flex_wrap\",\"kind\":\"Any\",\"default\":\"wrap\"},{\"name\":\"gap\",\"kind\":\"Any\",\"default\":\"\"},{\"name\":\"justify_content\",\"kind\":\"Any\",\"default\":\"flex-start\"}]},{\"type\":\"model\",\"name\":\"FloatPanel1\",\"properties\":[{\"name\":\"config\",\"kind\":\"Any\",\"default\":{\"type\":\"map\"}},{\"name\":\"contained\",\"kind\":\"Any\",\"default\":true},{\"name\":\"position\",\"kind\":\"Any\",\"default\":\"right-top\"},{\"name\":\"offsetx\",\"kind\":\"Any\",\"default\":null},{\"name\":\"offsety\",\"kind\":\"Any\",\"default\":null},{\"name\":\"theme\",\"kind\":\"Any\",\"default\":\"primary\"},{\"name\":\"status\",\"kind\":\"Any\",\"default\":\"normalized\"}]},{\"type\":\"model\",\"name\":\"GridStack1\",\"properties\":[{\"name\":\"ncols\",\"kind\":\"Any\",\"default\":null},{\"name\":\"nrows\",\"kind\":\"Any\",\"default\":null},{\"name\":\"allow_resize\",\"kind\":\"Any\",\"default\":true},{\"name\":\"allow_drag\",\"kind\":\"Any\",\"default\":true},{\"name\":\"state\",\"kind\":\"Any\",\"default\":[]}]},{\"type\":\"model\",\"name\":\"drag1\",\"properties\":[{\"name\":\"slider_width\",\"kind\":\"Any\",\"default\":5},{\"name\":\"slider_color\",\"kind\":\"Any\",\"default\":\"black\"},{\"name\":\"value\",\"kind\":\"Any\",\"default\":50}]},{\"type\":\"model\",\"name\":\"click1\",\"properties\":[{\"name\":\"terminal_output\",\"kind\":\"Any\",\"default\":\"\"},{\"name\":\"debug_name\",\"kind\":\"Any\",\"default\":\"\"},{\"name\":\"clears\",\"kind\":\"Any\",\"default\":0}]},{\"type\":\"model\",\"name\":\"FastWrapper1\",\"properties\":[{\"name\":\"object\",\"kind\":\"Any\",\"default\":null},{\"name\":\"style\",\"kind\":\"Any\",\"default\":null}]},{\"type\":\"model\",\"name\":\"NotificationArea1\",\"properties\":[{\"name\":\"js_events\",\"kind\":\"Any\",\"default\":{\"type\":\"map\"}},{\"name\":\"max_notifications\",\"kind\":\"Any\",\"default\":5},{\"name\":\"notifications\",\"kind\":\"Any\",\"default\":[]},{\"name\":\"position\",\"kind\":\"Any\",\"default\":\"bottom-right\"},{\"name\":\"_clear\",\"kind\":\"Any\",\"default\":0},{\"name\":\"types\",\"kind\":\"Any\",\"default\":[{\"type\":\"map\",\"entries\":[[\"type\",\"warning\"],[\"background\",\"#ffc107\"],[\"icon\",{\"type\":\"map\",\"entries\":[[\"className\",\"fas fa-exclamation-triangle\"],[\"tagName\",\"i\"],[\"color\",\"white\"]]}]]},{\"type\":\"map\",\"entries\":[[\"type\",\"info\"],[\"background\",\"#007bff\"],[\"icon\",{\"type\":\"map\",\"entries\":[[\"className\",\"fas fa-info-circle\"],[\"tagName\",\"i\"],[\"color\",\"white\"]]}]]}]}]},{\"type\":\"model\",\"name\":\"Notification\",\"properties\":[{\"name\":\"background\",\"kind\":\"Any\",\"default\":null},{\"name\":\"duration\",\"kind\":\"Any\",\"default\":3000},{\"name\":\"icon\",\"kind\":\"Any\",\"default\":null},{\"name\":\"message\",\"kind\":\"Any\",\"default\":\"\"},{\"name\":\"notification_type\",\"kind\":\"Any\",\"default\":null},{\"name\":\"_rendered\",\"kind\":\"Any\",\"default\":false},{\"name\":\"_destroyed\",\"kind\":\"Any\",\"default\":false}]},{\"type\":\"model\",\"name\":\"TemplateActions1\",\"properties\":[{\"name\":\"open_modal\",\"kind\":\"Any\",\"default\":0},{\"name\":\"close_modal\",\"kind\":\"Any\",\"default\":0}]},{\"type\":\"model\",\"name\":\"BootstrapTemplateActions1\",\"properties\":[{\"name\":\"open_modal\",\"kind\":\"Any\",\"default\":0},{\"name\":\"close_modal\",\"kind\":\"Any\",\"default\":0}]},{\"type\":\"model\",\"name\":\"TemplateEditor1\",\"properties\":[{\"name\":\"layout\",\"kind\":\"Any\",\"default\":[]}]},{\"type\":\"model\",\"name\":\"MaterialTemplateActions1\",\"properties\":[{\"name\":\"open_modal\",\"kind\":\"Any\",\"default\":0},{\"name\":\"close_modal\",\"kind\":\"Any\",\"default\":0}]},{\"type\":\"model\",\"name\":\"ReactiveESM1\",\"properties\":[{\"name\":\"esm_constants\",\"kind\":\"Any\",\"default\":{\"type\":\"map\"}}]},{\"type\":\"model\",\"name\":\"JSComponent1\",\"properties\":[{\"name\":\"esm_constants\",\"kind\":\"Any\",\"default\":{\"type\":\"map\"}}]},{\"type\":\"model\",\"name\":\"ReactComponent1\",\"properties\":[{\"name\":\"esm_constants\",\"kind\":\"Any\",\"default\":{\"type\":\"map\"}}]},{\"type\":\"model\",\"name\":\"AnyWidgetComponent1\",\"properties\":[{\"name\":\"esm_constants\",\"kind\":\"Any\",\"default\":{\"type\":\"map\"}}]},{\"type\":\"model\",\"name\":\"request_value1\",\"properties\":[{\"name\":\"fill\",\"kind\":\"Any\",\"default\":\"none\"},{\"name\":\"_synced\",\"kind\":\"Any\",\"default\":null},{\"name\":\"_request_sync\",\"kind\":\"Any\",\"default\":0}]}]}};\n",
       "  var render_items = [{\"docid\":\"b5fdf50c-f7a0-4c2b-8175-a24c8a5e544a\",\"roots\":{\"5b43ed7d-02e5-45a7-8259-a45e3017fa5d\":\"d443e2e5-3bf9-46fb-a3c9-a63bdc446a21\"},\"root_ids\":[\"5b43ed7d-02e5-45a7-8259-a45e3017fa5d\"]}];\n",
       "  var docs = Object.values(docs_json)\n",
       "  if (!docs) {\n",
       "    return\n",
       "  }\n",
       "  const py_version = docs[0].version.replace('rc', '-rc.').replace('.dev', '-dev.')\n",
       "  async function embed_document(root) {\n",
       "    var Bokeh = get_bokeh(root)\n",
       "    await Bokeh.embed.embed_items_notebook(docs_json, render_items);\n",
       "    for (const render_item of render_items) {\n",
       "      for (const root_id of render_item.root_ids) {\n",
       "\tconst id_el = document.getElementById(root_id)\n",
       "\tif (id_el.children.length && id_el.children[0].hasAttribute('data-root-id')) {\n",
       "\t  const root_el = id_el.children[0]\n",
       "\t  root_el.id = root_el.id + '-rendered'\n",
       "\t  for (const child of root_el.children) {\n",
       "            // Ensure JupyterLab does not capture keyboard shortcuts\n",
       "            // see: https://jupyterlab.readthedocs.io/en/4.1.x/extension/notebook.html#keyboard-interaction-model\n",
       "\t    child.setAttribute('data-lm-suppress-shortcuts', 'true')\n",
       "\t  }\n",
       "\t}\n",
       "      }\n",
       "    }\n",
       "  }\n",
       "  function get_bokeh(root) {\n",
       "    if (root.Bokeh === undefined) {\n",
       "      return null\n",
       "    } else if (root.Bokeh.version !== py_version) {\n",
       "      if (root.Bokeh.versions === undefined || !root.Bokeh.versions.has(py_version)) {\n",
       "\treturn null\n",
       "      }\n",
       "      return root.Bokeh.versions.get(py_version);\n",
       "    } else if (root.Bokeh.version === py_version) {\n",
       "      return root.Bokeh\n",
       "    }\n",
       "    return null\n",
       "  }\n",
       "  function is_loaded(root) {\n",
       "    var Bokeh = get_bokeh(root)\n",
       "    return (Bokeh != null && Bokeh.Panel !== undefined)\n",
       "  }\n",
       "  if (is_loaded(root)) {\n",
       "    embed_document(root);\n",
       "  } else {\n",
       "    var attempts = 0;\n",
       "    var timer = setInterval(function(root) {\n",
       "      if (is_loaded(root)) {\n",
       "        clearInterval(timer);\n",
       "        embed_document(root);\n",
       "      } else if (document.readyState == \"complete\") {\n",
       "        attempts++;\n",
       "        if (attempts > 200) {\n",
       "          clearInterval(timer);\n",
       "\t  var Bokeh = get_bokeh(root)\n",
       "\t  if (Bokeh == null || Bokeh.Panel == null) {\n",
       "            console.warn(\"Panel: ERROR: Unable to run Panel code because Bokeh or Panel library is missing\");\n",
       "\t  } else {\n",
       "\t    console.warn(\"Panel: WARNING: Attempting to render but not all required libraries could be resolved.\")\n",
       "\t    embed_document(root)\n",
       "\t  }\n",
       "        }\n",
       "      }\n",
       "    }, 25, root)\n",
       "  }\n",
       "})(window);</script>"
      ],
      "text/plain": [
       ":Overlay\n",
       "   .Bars.I    :Bars   [post_str_b5]   (percent)\n",
       "   .HLine.I   :HLine   [x,y]\n",
       "   .HLine.II  :HLine   [x,y]\n",
       "   .HLine.III :HLine   [x,y]"
      ]
     },
     "metadata": {
      "application/vnd.holoviews_exec.v0+json": {
       "id": "5b43ed7d-02e5-45a7-8259-a45e3017fa5d"
      }
     },
     "output_type": "display_data"
    },
    {
     "name": "stdout",
     "output_type": "stream",
     "text": [
      "df_10_last FOR str_b5 = 13\n",
      "Last 3 results last_results=['28', '20', '33']\n"
     ]
    },
    {
     "data": {
      "text/html": [
       "<div><style>\n",
       ".dataframe > thead > tr,\n",
       ".dataframe > tbody > tr {\n",
       "  text-align: right;\n",
       "  white-space: pre-wrap;\n",
       "}\n",
       "</style>\n",
       "<small>shape: (3, 30)</small><table border=\"1\" class=\"dataframe\"><thead><tr><th>fecha</th><th>sorteo</th><th>bolillas</th><th>yapa</th><th>adicionales</th><th>sorteo_extra</th><th>id</th><th>combo</th><th>b1</th><th>b2</th><th>b3</th><th>b4</th><th>b5</th><th>b6</th><th>str_b1</th><th>str_b2</th><th>str_b3</th><th>str_b4</th><th>str_b5</th><th>str_b6</th><th>post_str_b1</th><th>post_str_b2</th><th>post_str_b3</th><th>post_str_b4</th><th>post_str_b5</th><th>post_str_blast</th><th>is_rare_combination</th><th>reason</th><th>jumps_map</th><th>unijump</th></tr><tr><td>str</td><td>str</td><td>str</td><td>str</td><td>str</td><td>str</td><td>str</td><td>array[u8, 6]</td><td>u8</td><td>u8</td><td>u8</td><td>u8</td><td>u8</td><td>u8</td><td>str</td><td>str</td><td>str</td><td>str</td><td>str</td><td>str</td><td>str</td><td>str</td><td>str</td><td>str</td><td>str</td><td>str</td><td>bool</td><td>u8</td><td>str</td><td>i64</td></tr></thead><tbody><tr><td>&quot;27/06/2010&quot;</td><td>&quot;1140&quot;</td><td>&quot;05 08 09 10 13 35&quot;</td><td>&quot;25&quot;</td><td>&quot;&quot;</td><td>&quot;&quot;</td><td>&quot;050809101335&quot;</td><td>[5, 8, … 35]</td><td>5</td><td>8</td><td>9</td><td>10</td><td>13</td><td>35</td><td>&quot;05&quot;</td><td>&quot;08&quot;</td><td>&quot;09&quot;</td><td>&quot;10&quot;</td><td>&quot;13&quot;</td><td>&quot;35&quot;</td><td>&quot;05&quot;</td><td>&quot;06&quot;</td><td>&quot;25&quot;</td><td>&quot;31&quot;</td><td>&quot;33&quot;</td><td>&quot;37&quot;</td><td>true</td><td>24</td><td>&quot;03_01_01_03_22&quot;</td><td>15</td></tr><tr><td>&quot;13/04/1997&quot;</td><td>&quot;0131&quot;</td><td>&quot;04 07 08 12 13 22&quot;</td><td>&quot;&quot;</td><td>&quot;&quot;</td><td>&quot;&quot;</td><td>&quot;040708121322&quot;</td><td>[4, 7, … 22]</td><td>4</td><td>7</td><td>8</td><td>12</td><td>13</td><td>22</td><td>&quot;04&quot;</td><td>&quot;07&quot;</td><td>&quot;08&quot;</td><td>&quot;12&quot;</td><td>&quot;13&quot;</td><td>&quot;22&quot;</td><td>&quot;03&quot;</td><td>&quot;04&quot;</td><td>&quot;10&quot;</td><td>&quot;19&quot;</td><td>&quot;20&quot;</td><td>&quot;28&quot;</td><td>false</td><td>0</td><td>&quot;03_01_04_01_09&quot;</td><td>28</td></tr><tr><td>&quot;18/08/1996&quot;</td><td>&quot;0097&quot;</td><td>&quot;01 04 10 12 13 27&quot;</td><td>&quot;&quot;</td><td>&quot;&quot;</td><td>&quot;&quot;</td><td>&quot;010410121327&quot;</td><td>[1, 4, … 27]</td><td>1</td><td>4</td><td>10</td><td>12</td><td>13</td><td>27</td><td>&quot;01&quot;</td><td>&quot;04&quot;</td><td>&quot;10&quot;</td><td>&quot;12&quot;</td><td>&quot;13&quot;</td><td>&quot;27&quot;</td><td>&quot;01&quot;</td><td>&quot;09&quot;</td><td>&quot;14&quot;</td><td>&quot;19&quot;</td><td>&quot;28&quot;</td><td>&quot;30&quot;</td><td>false</td><td>0</td><td>&quot;03_06_02_01_14&quot;</td><td>1</td></tr></tbody></table></div>"
      ],
      "text/plain": [
       "shape: (3, 30)\n",
       "┌────────────┬────────┬───────────────┬──────┬───┬───────────────┬────────┬──────────────┬─────────┐\n",
       "│ fecha      ┆ sorteo ┆ bolillas      ┆ yapa ┆ … ┆ is_rare_combi ┆ reason ┆ jumps_map    ┆ unijump │\n",
       "│ ---        ┆ ---    ┆ ---           ┆ ---  ┆   ┆ nation        ┆ ---    ┆ ---          ┆ ---     │\n",
       "│ str        ┆ str    ┆ str           ┆ str  ┆   ┆ ---           ┆ u8     ┆ str          ┆ i64     │\n",
       "│            ┆        ┆               ┆      ┆   ┆ bool          ┆        ┆              ┆         │\n",
       "╞════════════╪════════╪═══════════════╪══════╪═══╪═══════════════╪════════╪══════════════╪═════════╡\n",
       "│ 27/06/2010 ┆ 1140   ┆ 05 08 09 10   ┆ 25   ┆ … ┆ true          ┆ 24     ┆ 03_01_01_03_ ┆ 15      │\n",
       "│            ┆        ┆ 13 35         ┆      ┆   ┆               ┆        ┆ 22           ┆         │\n",
       "│ 13/04/1997 ┆ 0131   ┆ 04 07 08 12   ┆      ┆ … ┆ false         ┆ 0      ┆ 03_01_04_01_ ┆ 28      │\n",
       "│            ┆        ┆ 13 22         ┆      ┆   ┆               ┆        ┆ 09           ┆         │\n",
       "│ 18/08/1996 ┆ 0097   ┆ 01 04 10 12   ┆      ┆ … ┆ false         ┆ 0      ┆ 03_06_02_01_ ┆ 1       │\n",
       "│            ┆        ┆ 13 27         ┆      ┆   ┆               ┆        ┆ 14           ┆         │\n",
       "└────────────┴────────┴───────────────┴──────┴───┴───────────────┴────────┴──────────────┴─────────┘"
      ]
     },
     "metadata": {},
     "output_type": "display_data"
    },
    {
     "name": "stdout",
     "output_type": "stream",
     "text": [
      "df_jumps_map FOR str_b5 = 13\n"
     ]
    },
    {
     "data": {
      "text/html": [
       "<div><style>\n",
       ".dataframe > thead > tr,\n",
       ".dataframe > tbody > tr {\n",
       "  text-align: right;\n",
       "  white-space: pre-wrap;\n",
       "}\n",
       "</style>\n",
       "<small>shape: (3, 2)</small><table border=\"1\" class=\"dataframe\"><thead><tr><th>jumps_map</th><th>count</th></tr><tr><td>str</td><td>u32</td></tr></thead><tbody><tr><td>&quot;03_06_02_01_14&quot;</td><td>1</td></tr><tr><td>&quot;03_01_01_03_22&quot;</td><td>1</td></tr><tr><td>&quot;03_01_04_01_09&quot;</td><td>1</td></tr></tbody></table></div>"
      ],
      "text/plain": [
       "shape: (3, 2)\n",
       "┌────────────────┬───────┐\n",
       "│ jumps_map      ┆ count │\n",
       "│ ---            ┆ ---   │\n",
       "│ str            ┆ u32   │\n",
       "╞════════════════╪═══════╡\n",
       "│ 03_06_02_01_14 ┆ 1     │\n",
       "│ 03_01_01_03_22 ┆ 1     │\n",
       "│ 03_01_04_01_09 ┆ 1     │\n",
       "└────────────────┴───────┘"
      ]
     },
     "metadata": {},
     "output_type": "display_data"
    },
    {
     "name": "stdout",
     "output_type": "stream",
     "text": [
      "df_unijump FOR str_b5 = 13\n"
     ]
    },
    {
     "data": {
      "text/html": [
       "<div><style>\n",
       ".dataframe > thead > tr,\n",
       ".dataframe > tbody > tr {\n",
       "  text-align: right;\n",
       "  white-space: pre-wrap;\n",
       "}\n",
       "</style>\n",
       "<small>shape: (3, 2)</small><table border=\"1\" class=\"dataframe\"><thead><tr><th>unijump</th><th>count</th></tr><tr><td>i64</td><td>u32</td></tr></thead><tbody><tr><td>1</td><td>1</td></tr><tr><td>15</td><td>1</td></tr><tr><td>28</td><td>1</td></tr></tbody></table></div>"
      ],
      "text/plain": [
       "shape: (3, 2)\n",
       "┌─────────┬───────┐\n",
       "│ unijump ┆ count │\n",
       "│ ---     ┆ ---   │\n",
       "│ i64     ┆ u32   │\n",
       "╞═════════╪═══════╡\n",
       "│ 1       ┆ 1     │\n",
       "│ 15      ┆ 1     │\n",
       "│ 28      ┆ 1     │\n",
       "└─────────┴───────┘"
      ]
     },
     "metadata": {},
     "output_type": "display_data"
    }
   ],
   "source": [
    "possible_b5, exclude_jump_maps_b5, last_post_b5 = plot_post_col(col='str_b5', post_col='post_str_b5')"
   ]
  },
  {
   "cell_type": "code",
   "execution_count": 12,
   "metadata": {},
   "outputs": [
    {
     "name": "stdout",
     "output_type": "stream",
     "text": [
      "Setting test_value='38'\n",
      "df_viz FOR str_b6 = 38\n"
     ]
    },
    {
     "data": {
      "text/html": [
       "<div><style>\n",
       ".dataframe > thead > tr,\n",
       ".dataframe > tbody > tr {\n",
       "  text-align: right;\n",
       "  white-space: pre-wrap;\n",
       "}\n",
       "</style>\n",
       "<small>shape: (23, 3)</small><table border=\"1\" class=\"dataframe\"><thead><tr><th>post_str_blast</th><th>count</th><th>percent</th></tr><tr><td>str</td><td>u32</td><td>f64</td></tr></thead><tbody><tr><td>&quot;44&quot;</td><td>15</td><td>12.5</td></tr><tr><td>&quot;43&quot;</td><td>11</td><td>9.166667</td></tr><tr><td>&quot;42&quot;</td><td>11</td><td>9.166667</td></tr><tr><td>&quot;36&quot;</td><td>9</td><td>7.5</td></tr><tr><td>&quot;45&quot;</td><td>8</td><td>6.666667</td></tr><tr><td>&hellip;</td><td>&hellip;</td><td>&hellip;</td></tr><tr><td>&quot;30&quot;</td><td>2</td><td>1.666667</td></tr><tr><td>&quot;31&quot;</td><td>1</td><td>0.833333</td></tr><tr><td>&quot;25&quot;</td><td>1</td><td>0.833333</td></tr><tr><td>&quot;50&quot;</td><td>1</td><td>0.833333</td></tr><tr><td>&quot;19&quot;</td><td>1</td><td>0.833333</td></tr></tbody></table></div>"
      ],
      "text/plain": [
       "shape: (23, 3)\n",
       "┌────────────────┬───────┬──────────┐\n",
       "│ post_str_blast ┆ count ┆ percent  │\n",
       "│ ---            ┆ ---   ┆ ---      │\n",
       "│ str            ┆ u32   ┆ f64      │\n",
       "╞════════════════╪═══════╪══════════╡\n",
       "│ 44             ┆ 15    ┆ 12.5     │\n",
       "│ 43             ┆ 11    ┆ 9.166667 │\n",
       "│ 42             ┆ 11    ┆ 9.166667 │\n",
       "│ 36             ┆ 9     ┆ 7.5      │\n",
       "│ 45             ┆ 8     ┆ 6.666667 │\n",
       "│ …              ┆ …     ┆ …        │\n",
       "│ 30             ┆ 2     ┆ 1.666667 │\n",
       "│ 31             ┆ 1     ┆ 0.833333 │\n",
       "│ 25             ┆ 1     ┆ 0.833333 │\n",
       "│ 50             ┆ 1     ┆ 0.833333 │\n",
       "│ 19             ┆ 1     ┆ 0.833333 │\n",
       "└────────────────┴───────┴──────────┘"
      ]
     },
     "metadata": {},
     "output_type": "display_data"
    },
    {
     "data": {},
     "metadata": {},
     "output_type": "display_data"
    },
    {
     "data": {
      "application/vnd.holoviews_exec.v0+json": "",
      "text/html": [
       "<div id='9fd890a2-8b8e-442b-af8c-c6c144c2b036'>\n",
       "  <div id=\"a739656a-250c-44dc-827a-97696fcf4d5c\" data-root-id=\"9fd890a2-8b8e-442b-af8c-c6c144c2b036\" style=\"display: contents;\"></div>\n",
       "</div>\n",
       "<script type=\"application/javascript\">(function(root) {\n",
       "  var docs_json = {\"61a49c21-c710-48bd-88b5-353b088cb718\":{\"version\":\"3.7.2\",\"title\":\"Bokeh Application\",\"roots\":[{\"type\":\"object\",\"name\":\"Row\",\"id\":\"9fd890a2-8b8e-442b-af8c-c6c144c2b036\",\"attributes\":{\"name\":\"Row00641\",\"tags\":[\"embedded\"],\"stylesheets\":[\"\\n:host(.pn-loading):before, .pn-loading:before {\\n  background-color: #c3c3c3;\\n  mask-size: auto calc(min(50%, 400px));\\n  -webkit-mask-size: auto calc(min(50%, 400px));\\n}\",{\"type\":\"object\",\"name\":\"ImportedStyleSheet\",\"id\":\"c0e07b1e-bc7a-49c5-9490-a7af4528898f\",\"attributes\":{\"url\":\"https://cdn.holoviz.org/panel/1.6.2/dist/css/loading.css\"}},{\"type\":\"object\",\"name\":\"ImportedStyleSheet\",\"id\":\"c579bbff-ec51-4a44-a409-348d856f5972\",\"attributes\":{\"url\":\"https://cdn.holoviz.org/panel/1.6.2/dist/css/listpanel.css\"}},{\"type\":\"object\",\"name\":\"ImportedStyleSheet\",\"id\":\"f85a6c91-4ab7-438e-862d-10959e10581d\",\"attributes\":{\"url\":\"https://cdn.holoviz.org/panel/1.6.2/dist/bundled/theme/default.css\"}},{\"type\":\"object\",\"name\":\"ImportedStyleSheet\",\"id\":\"30be0523-323f-4847-a5ca-498f783209cc\",\"attributes\":{\"url\":\"https://cdn.holoviz.org/panel/1.6.2/dist/bundled/theme/native.css\"}}],\"min_width\":700,\"margin\":0,\"sizing_mode\":\"stretch_width\",\"align\":\"start\",\"children\":[{\"type\":\"object\",\"name\":\"Spacer\",\"id\":\"23b03efc-36c7-4b8e-96b5-40dff1a7f733\",\"attributes\":{\"name\":\"HSpacer00645\",\"stylesheets\":[\"\\n:host(.pn-loading):before, .pn-loading:before {\\n  background-color: #c3c3c3;\\n  mask-size: auto calc(min(50%, 400px));\\n  -webkit-mask-size: auto calc(min(50%, 400px));\\n}\",{\"id\":\"c0e07b1e-bc7a-49c5-9490-a7af4528898f\"},{\"id\":\"f85a6c91-4ab7-438e-862d-10959e10581d\"},{\"id\":\"30be0523-323f-4847-a5ca-498f783209cc\"}],\"margin\":0,\"sizing_mode\":\"stretch_width\",\"align\":\"start\"}},{\"type\":\"object\",\"name\":\"Figure\",\"id\":\"5b3d2889-59db-4eb2-bcd5-ec9f158f19e1\",\"attributes\":{\"width\":700,\"height\":300,\"margin\":[5,10],\"sizing_mode\":\"fixed\",\"align\":\"start\",\"x_range\":{\"type\":\"object\",\"name\":\"FactorRange\",\"id\":\"9cd2fc3e-199b-460e-908d-3f13272bc022\",\"attributes\":{\"name\":\"post_str_blast\",\"tags\":[[[\"post_str_blast\",null]],[]],\"factors\":[\"44\",\"43\",\"42\",\"36\",\"45\",\"39\",\"41\",\"40\",\"34\",\"35\",\"38\",\"33\",\"32\",\"37\",\"26\",\"22\",\"27\",\"46\",\"30\",\"31\",\"25\",\"50\",\"19\"]}},\"y_range\":{\"type\":\"object\",\"name\":\"Range1d\",\"id\":\"8faa8638-bb3d-4e14-8e8f-6f0a6c1da1fd\",\"attributes\":{\"name\":\"percent\",\"tags\":[[[\"percent\",null]],{\"type\":\"map\",\"entries\":[[\"invert_yaxis\",false],[\"autorange\",false]]}],\"end\":13.666666666666666,\"reset_start\":0.0,\"reset_end\":13.666666666666666}},\"x_scale\":{\"type\":\"object\",\"name\":\"CategoricalScale\",\"id\":\"cc0717b0-8419-46d1-acd1-bad9145d9397\"},\"y_scale\":{\"type\":\"object\",\"name\":\"LinearScale\",\"id\":\"7f244669-2e18-4041-a593-978f5c34333b\"},\"title\":{\"type\":\"object\",\"name\":\"Title\",\"id\":\"6fe4d22a-29e1-4c0c-8fda-f8130f7fd732\",\"attributes\":{\"text_color\":\"black\",\"text_font_size\":\"12pt\"}},\"renderers\":[{\"type\":\"object\",\"name\":\"GlyphRenderer\",\"id\":\"8a8872b4-f572-4105-9f43-486b7851188e\",\"attributes\":{\"data_source\":{\"type\":\"object\",\"name\":\"ColumnDataSource\",\"id\":\"6d05cd58-8197-49f1-b11f-90522eb18b1e\",\"attributes\":{\"selected\":{\"type\":\"object\",\"name\":\"Selection\",\"id\":\"ffdbb5b5-eea7-4244-98b1-bdb8de34e080\",\"attributes\":{\"indices\":[],\"line_indices\":[]}},\"selection_policy\":{\"type\":\"object\",\"name\":\"UnionRenderers\",\"id\":\"942f2e99-afc1-4d90-8795-84b19e302ba0\"},\"data\":{\"type\":\"map\",\"entries\":[[\"post_str_blast\",[\"44\",\"43\",\"42\",\"36\",\"45\",\"39\",\"41\",\"40\",\"34\",\"35\",\"38\",\"33\",\"32\",\"37\",\"26\",\"22\",\"27\",\"46\",\"30\",\"31\",\"25\",\"50\",\"19\"]],[\"percent\",{\"type\":\"ndarray\",\"array\":{\"type\":\"bytes\",\"data\":\"AAAAAAAAKUBVVVVVVVUiQFVVVVVVVSJAAAAAAAAAHkCrqqqqqqoaQKuqqqqqqhpAVVVVVVVVF0BVVVVVVVUXQAAAAAAAABRAqqqqqqqqEECqqqqqqqoQQKqqqqqqqhBAq6qqqqqqCkCrqqqqqqoKQAAAAAAAAARAq6qqqqqq+j+rqqqqqqr6P6uqqqqqqvo/q6qqqqqq+j+rqqqqqqrqP6uqqqqqquo/q6qqqqqq6j+rqqqqqqrqPw==\"},\"shape\":[23],\"dtype\":\"float64\",\"order\":\"little\"}]]}}},\"view\":{\"type\":\"object\",\"name\":\"CDSView\",\"id\":\"c0cee9c9-e422-4ed3-a209-71143576b341\",\"attributes\":{\"filter\":{\"type\":\"object\",\"name\":\"AllIndices\",\"id\":\"73601f2b-c772-4a10-9145-b62ee0287c1f\"}}},\"glyph\":{\"type\":\"object\",\"name\":\"VBar\",\"id\":\"209accf7-9dc3-420c-b8bf-3f2869587138\",\"attributes\":{\"tags\":[\"apply_ranges\"],\"x\":{\"type\":\"field\",\"field\":\"post_str_blast\"},\"width\":{\"type\":\"value\",\"value\":0.8},\"top\":{\"type\":\"field\",\"field\":\"percent\"},\"fill_color\":{\"type\":\"value\",\"value\":\"#30a2da\"},\"hatch_color\":{\"type\":\"value\",\"value\":\"#30a2da\"}}},\"selection_glyph\":{\"type\":\"object\",\"name\":\"VBar\",\"id\":\"af117c1a-a1c5-4d6d-8c0e-b3cbff5c7731\",\"attributes\":{\"tags\":[\"apply_ranges\"],\"x\":{\"type\":\"field\",\"field\":\"post_str_blast\"},\"width\":{\"type\":\"value\",\"value\":0.8},\"bottom\":{\"type\":\"value\",\"value\":0},\"top\":{\"type\":\"field\",\"field\":\"percent\"},\"line_color\":{\"type\":\"value\",\"value\":\"black\"},\"line_alpha\":{\"type\":\"value\",\"value\":1.0},\"line_width\":{\"type\":\"value\",\"value\":1},\"line_join\":{\"type\":\"value\",\"value\":\"bevel\"},\"line_cap\":{\"type\":\"value\",\"value\":\"butt\"},\"line_dash\":{\"type\":\"value\",\"value\":[]},\"line_dash_offset\":{\"type\":\"value\",\"value\":0},\"fill_color\":{\"type\":\"value\",\"value\":\"#30a2da\"},\"fill_alpha\":{\"type\":\"value\",\"value\":1.0},\"hatch_color\":{\"type\":\"value\",\"value\":\"#30a2da\"},\"hatch_alpha\":{\"type\":\"value\",\"value\":1.0},\"hatch_scale\":{\"type\":\"value\",\"value\":12.0},\"hatch_pattern\":{\"type\":\"value\",\"value\":null},\"hatch_weight\":{\"type\":\"value\",\"value\":1.0}}},\"nonselection_glyph\":{\"type\":\"object\",\"name\":\"VBar\",\"id\":\"c0b3c331-34db-4f24-9c99-814980cab2ac\",\"attributes\":{\"tags\":[\"apply_ranges\"],\"x\":{\"type\":\"field\",\"field\":\"post_str_blast\"},\"width\":{\"type\":\"value\",\"value\":0.8},\"top\":{\"type\":\"field\",\"field\":\"percent\"},\"line_alpha\":{\"type\":\"value\",\"value\":0.1},\"fill_color\":{\"type\":\"value\",\"value\":\"#30a2da\"},\"fill_alpha\":{\"type\":\"value\",\"value\":0.1},\"hatch_color\":{\"type\":\"value\",\"value\":\"#30a2da\"},\"hatch_alpha\":{\"type\":\"value\",\"value\":0.1}}},\"muted_glyph\":{\"type\":\"object\",\"name\":\"VBar\",\"id\":\"64757b30-423b-4309-bf3f-7adddea5926f\",\"attributes\":{\"tags\":[\"apply_ranges\"],\"x\":{\"type\":\"field\",\"field\":\"post_str_blast\"},\"width\":{\"type\":\"value\",\"value\":0.8},\"top\":{\"type\":\"field\",\"field\":\"percent\"},\"line_alpha\":{\"type\":\"value\",\"value\":0.2},\"fill_color\":{\"type\":\"value\",\"value\":\"#30a2da\"},\"fill_alpha\":{\"type\":\"value\",\"value\":0.2},\"hatch_color\":{\"type\":\"value\",\"value\":\"#30a2da\"},\"hatch_alpha\":{\"type\":\"value\",\"value\":0.2}}}}},{\"type\":\"object\",\"name\":\"Span\",\"id\":\"56e299cd-ff42-4c0d-88b3-ffec92c8e1df\",\"attributes\":{\"level\":\"glyph\",\"location\":4.3478260869565215,\"line_color\":\"red\",\"line_width\":3}},{\"type\":\"object\",\"name\":\"Span\",\"id\":\"1b1f993a-a80f-4933-a19c-add79013d4a7\",\"attributes\":{\"level\":\"glyph\",\"location\":6.521739130434782,\"line_color\":\"blue\",\"line_width\":3}},{\"type\":\"object\",\"name\":\"Span\",\"id\":\"db79671f-c55f-481c-9788-e50d78ef0c27\",\"attributes\":{\"level\":\"glyph\",\"location\":2.1739130434782608,\"line_color\":\"blue\",\"line_width\":3}}],\"toolbar\":{\"type\":\"object\",\"name\":\"Toolbar\",\"id\":\"28592069-c3da-481e-b166-d2d42a4dafed\",\"attributes\":{\"tools\":[{\"type\":\"object\",\"name\":\"WheelZoomTool\",\"id\":\"18197757-11c2-425b-8c2b-b49bc016cebe\",\"attributes\":{\"tags\":[\"hv_created\"],\"renderers\":\"auto\",\"zoom_together\":\"none\"}},{\"type\":\"object\",\"name\":\"HoverTool\",\"id\":\"b8971f31-ed0f-46bc-8270-8d3768184503\",\"attributes\":{\"tags\":[\"hv_created\"],\"renderers\":[{\"id\":\"8a8872b4-f572-4105-9f43-486b7851188e\"}],\"tooltips\":[[\"post_str_blast\",\"@{post_str_blast}\"],[\"percent\",\"@{percent}\"]]}},{\"type\":\"object\",\"name\":\"SaveTool\",\"id\":\"7629dd65-de8f-4215-bbeb-ebb8e43f1f0d\"},{\"type\":\"object\",\"name\":\"PanTool\",\"id\":\"aa304de3-4738-46ed-8f2f-0458b48dbea7\"},{\"type\":\"object\",\"name\":\"BoxZoomTool\",\"id\":\"c6ccc0c3-922f-4859-a0cf-ad8ef8ac8617\",\"attributes\":{\"dimensions\":\"both\",\"overlay\":{\"type\":\"object\",\"name\":\"BoxAnnotation\",\"id\":\"d26f030f-e52e-47c3-adef-87771c3efd8d\",\"attributes\":{\"syncable\":false,\"line_color\":\"black\",\"line_alpha\":1.0,\"line_width\":2,\"line_dash\":[4,4],\"fill_color\":\"lightgrey\",\"fill_alpha\":0.5,\"level\":\"overlay\",\"visible\":false,\"left\":{\"type\":\"number\",\"value\":\"nan\"},\"right\":{\"type\":\"number\",\"value\":\"nan\"},\"top\":{\"type\":\"number\",\"value\":\"nan\"},\"bottom\":{\"type\":\"number\",\"value\":\"nan\"},\"left_units\":\"canvas\",\"right_units\":\"canvas\",\"top_units\":\"canvas\",\"bottom_units\":\"canvas\",\"handles\":{\"type\":\"object\",\"name\":\"BoxInteractionHandles\",\"id\":\"1979f975-b694-4d01-92f2-237c2b1d42c6\",\"attributes\":{\"all\":{\"type\":\"object\",\"name\":\"AreaVisuals\",\"id\":\"611c7e36-5a10-4675-9797-1207c58e18fd\",\"attributes\":{\"fill_color\":\"white\",\"hover_fill_color\":\"lightgray\"}}}}}}}},{\"type\":\"object\",\"name\":\"ResetTool\",\"id\":\"3c0d3f10-1e2d-4f71-913c-1d302ab961ef\"}],\"active_drag\":{\"id\":\"aa304de3-4738-46ed-8f2f-0458b48dbea7\"}}},\"left\":[{\"type\":\"object\",\"name\":\"LinearAxis\",\"id\":\"ea0e02fa-3fb1-479f-aaa2-ecd04be80830\",\"attributes\":{\"ticker\":{\"type\":\"object\",\"name\":\"BasicTicker\",\"id\":\"b24ff215-a52f-4f56-a284-a7284e2824ec\",\"attributes\":{\"mantissas\":[1,2,5]}},\"formatter\":{\"type\":\"object\",\"name\":\"BasicTickFormatter\",\"id\":\"1f2cb5b6-d7af-41a5-96b0-ae40e8def4f3\"},\"axis_label\":\"percent\",\"major_label_policy\":{\"type\":\"object\",\"name\":\"AllLabels\",\"id\":\"186fd523-e79a-4889-a19c-ce70f2fb6fd4\"}}}],\"below\":[{\"type\":\"object\",\"name\":\"CategoricalAxis\",\"id\":\"0dd748b0-cf4c-412c-bb1b-b4e9454fd958\",\"attributes\":{\"ticker\":{\"type\":\"object\",\"name\":\"CategoricalTicker\",\"id\":\"d26fe426-8b28-46a2-acc9-17730667a92f\"},\"formatter\":{\"type\":\"object\",\"name\":\"CategoricalTickFormatter\",\"id\":\"f03dc2d0-bf56-4c9f-b3a8-3e73b95f17f5\"},\"axis_label\":\"post_str_blast\",\"major_label_policy\":{\"type\":\"object\",\"name\":\"AllLabels\",\"id\":\"6ffd016a-5720-4774-838f-38c3658220f3\"}}}],\"center\":[{\"type\":\"object\",\"name\":\"Grid\",\"id\":\"e420a537-d1f5-470b-9b22-0930ff5cefdf\",\"attributes\":{\"axis\":{\"id\":\"0dd748b0-cf4c-412c-bb1b-b4e9454fd958\"},\"grid_line_color\":null}},{\"type\":\"object\",\"name\":\"Grid\",\"id\":\"59caafd0-a0b6-4917-a76f-9baa0ad397c8\",\"attributes\":{\"dimension\":1,\"axis\":{\"id\":\"ea0e02fa-3fb1-479f-aaa2-ecd04be80830\"},\"grid_line_color\":null}}],\"min_border_top\":10,\"min_border_bottom\":10,\"min_border_left\":10,\"min_border_right\":10,\"output_backend\":\"webgl\"}},{\"type\":\"object\",\"name\":\"Spacer\",\"id\":\"ad6e106a-ae6a-4d89-8e10-cf49ba19147a\",\"attributes\":{\"name\":\"HSpacer00646\",\"stylesheets\":[\"\\n:host(.pn-loading):before, .pn-loading:before {\\n  background-color: #c3c3c3;\\n  mask-size: auto calc(min(50%, 400px));\\n  -webkit-mask-size: auto calc(min(50%, 400px));\\n}\",{\"id\":\"c0e07b1e-bc7a-49c5-9490-a7af4528898f\"},{\"id\":\"f85a6c91-4ab7-438e-862d-10959e10581d\"},{\"id\":\"30be0523-323f-4847-a5ca-498f783209cc\"}],\"margin\":0,\"sizing_mode\":\"stretch_width\",\"align\":\"start\"}}]}}],\"defs\":[{\"type\":\"model\",\"name\":\"ReactiveHTML1\"},{\"type\":\"model\",\"name\":\"FlexBox1\",\"properties\":[{\"name\":\"align_content\",\"kind\":\"Any\",\"default\":\"flex-start\"},{\"name\":\"align_items\",\"kind\":\"Any\",\"default\":\"flex-start\"},{\"name\":\"flex_direction\",\"kind\":\"Any\",\"default\":\"row\"},{\"name\":\"flex_wrap\",\"kind\":\"Any\",\"default\":\"wrap\"},{\"name\":\"gap\",\"kind\":\"Any\",\"default\":\"\"},{\"name\":\"justify_content\",\"kind\":\"Any\",\"default\":\"flex-start\"}]},{\"type\":\"model\",\"name\":\"FloatPanel1\",\"properties\":[{\"name\":\"config\",\"kind\":\"Any\",\"default\":{\"type\":\"map\"}},{\"name\":\"contained\",\"kind\":\"Any\",\"default\":true},{\"name\":\"position\",\"kind\":\"Any\",\"default\":\"right-top\"},{\"name\":\"offsetx\",\"kind\":\"Any\",\"default\":null},{\"name\":\"offsety\",\"kind\":\"Any\",\"default\":null},{\"name\":\"theme\",\"kind\":\"Any\",\"default\":\"primary\"},{\"name\":\"status\",\"kind\":\"Any\",\"default\":\"normalized\"}]},{\"type\":\"model\",\"name\":\"GridStack1\",\"properties\":[{\"name\":\"ncols\",\"kind\":\"Any\",\"default\":null},{\"name\":\"nrows\",\"kind\":\"Any\",\"default\":null},{\"name\":\"allow_resize\",\"kind\":\"Any\",\"default\":true},{\"name\":\"allow_drag\",\"kind\":\"Any\",\"default\":true},{\"name\":\"state\",\"kind\":\"Any\",\"default\":[]}]},{\"type\":\"model\",\"name\":\"drag1\",\"properties\":[{\"name\":\"slider_width\",\"kind\":\"Any\",\"default\":5},{\"name\":\"slider_color\",\"kind\":\"Any\",\"default\":\"black\"},{\"name\":\"value\",\"kind\":\"Any\",\"default\":50}]},{\"type\":\"model\",\"name\":\"click1\",\"properties\":[{\"name\":\"terminal_output\",\"kind\":\"Any\",\"default\":\"\"},{\"name\":\"debug_name\",\"kind\":\"Any\",\"default\":\"\"},{\"name\":\"clears\",\"kind\":\"Any\",\"default\":0}]},{\"type\":\"model\",\"name\":\"FastWrapper1\",\"properties\":[{\"name\":\"object\",\"kind\":\"Any\",\"default\":null},{\"name\":\"style\",\"kind\":\"Any\",\"default\":null}]},{\"type\":\"model\",\"name\":\"NotificationArea1\",\"properties\":[{\"name\":\"js_events\",\"kind\":\"Any\",\"default\":{\"type\":\"map\"}},{\"name\":\"max_notifications\",\"kind\":\"Any\",\"default\":5},{\"name\":\"notifications\",\"kind\":\"Any\",\"default\":[]},{\"name\":\"position\",\"kind\":\"Any\",\"default\":\"bottom-right\"},{\"name\":\"_clear\",\"kind\":\"Any\",\"default\":0},{\"name\":\"types\",\"kind\":\"Any\",\"default\":[{\"type\":\"map\",\"entries\":[[\"type\",\"warning\"],[\"background\",\"#ffc107\"],[\"icon\",{\"type\":\"map\",\"entries\":[[\"className\",\"fas fa-exclamation-triangle\"],[\"tagName\",\"i\"],[\"color\",\"white\"]]}]]},{\"type\":\"map\",\"entries\":[[\"type\",\"info\"],[\"background\",\"#007bff\"],[\"icon\",{\"type\":\"map\",\"entries\":[[\"className\",\"fas fa-info-circle\"],[\"tagName\",\"i\"],[\"color\",\"white\"]]}]]}]}]},{\"type\":\"model\",\"name\":\"Notification\",\"properties\":[{\"name\":\"background\",\"kind\":\"Any\",\"default\":null},{\"name\":\"duration\",\"kind\":\"Any\",\"default\":3000},{\"name\":\"icon\",\"kind\":\"Any\",\"default\":null},{\"name\":\"message\",\"kind\":\"Any\",\"default\":\"\"},{\"name\":\"notification_type\",\"kind\":\"Any\",\"default\":null},{\"name\":\"_rendered\",\"kind\":\"Any\",\"default\":false},{\"name\":\"_destroyed\",\"kind\":\"Any\",\"default\":false}]},{\"type\":\"model\",\"name\":\"TemplateActions1\",\"properties\":[{\"name\":\"open_modal\",\"kind\":\"Any\",\"default\":0},{\"name\":\"close_modal\",\"kind\":\"Any\",\"default\":0}]},{\"type\":\"model\",\"name\":\"BootstrapTemplateActions1\",\"properties\":[{\"name\":\"open_modal\",\"kind\":\"Any\",\"default\":0},{\"name\":\"close_modal\",\"kind\":\"Any\",\"default\":0}]},{\"type\":\"model\",\"name\":\"TemplateEditor1\",\"properties\":[{\"name\":\"layout\",\"kind\":\"Any\",\"default\":[]}]},{\"type\":\"model\",\"name\":\"MaterialTemplateActions1\",\"properties\":[{\"name\":\"open_modal\",\"kind\":\"Any\",\"default\":0},{\"name\":\"close_modal\",\"kind\":\"Any\",\"default\":0}]},{\"type\":\"model\",\"name\":\"ReactiveESM1\",\"properties\":[{\"name\":\"esm_constants\",\"kind\":\"Any\",\"default\":{\"type\":\"map\"}}]},{\"type\":\"model\",\"name\":\"JSComponent1\",\"properties\":[{\"name\":\"esm_constants\",\"kind\":\"Any\",\"default\":{\"type\":\"map\"}}]},{\"type\":\"model\",\"name\":\"ReactComponent1\",\"properties\":[{\"name\":\"esm_constants\",\"kind\":\"Any\",\"default\":{\"type\":\"map\"}}]},{\"type\":\"model\",\"name\":\"AnyWidgetComponent1\",\"properties\":[{\"name\":\"esm_constants\",\"kind\":\"Any\",\"default\":{\"type\":\"map\"}}]},{\"type\":\"model\",\"name\":\"request_value1\",\"properties\":[{\"name\":\"fill\",\"kind\":\"Any\",\"default\":\"none\"},{\"name\":\"_synced\",\"kind\":\"Any\",\"default\":null},{\"name\":\"_request_sync\",\"kind\":\"Any\",\"default\":0}]}]}};\n",
       "  var render_items = [{\"docid\":\"61a49c21-c710-48bd-88b5-353b088cb718\",\"roots\":{\"9fd890a2-8b8e-442b-af8c-c6c144c2b036\":\"a739656a-250c-44dc-827a-97696fcf4d5c\"},\"root_ids\":[\"9fd890a2-8b8e-442b-af8c-c6c144c2b036\"]}];\n",
       "  var docs = Object.values(docs_json)\n",
       "  if (!docs) {\n",
       "    return\n",
       "  }\n",
       "  const py_version = docs[0].version.replace('rc', '-rc.').replace('.dev', '-dev.')\n",
       "  async function embed_document(root) {\n",
       "    var Bokeh = get_bokeh(root)\n",
       "    await Bokeh.embed.embed_items_notebook(docs_json, render_items);\n",
       "    for (const render_item of render_items) {\n",
       "      for (const root_id of render_item.root_ids) {\n",
       "\tconst id_el = document.getElementById(root_id)\n",
       "\tif (id_el.children.length && id_el.children[0].hasAttribute('data-root-id')) {\n",
       "\t  const root_el = id_el.children[0]\n",
       "\t  root_el.id = root_el.id + '-rendered'\n",
       "\t  for (const child of root_el.children) {\n",
       "            // Ensure JupyterLab does not capture keyboard shortcuts\n",
       "            // see: https://jupyterlab.readthedocs.io/en/4.1.x/extension/notebook.html#keyboard-interaction-model\n",
       "\t    child.setAttribute('data-lm-suppress-shortcuts', 'true')\n",
       "\t  }\n",
       "\t}\n",
       "      }\n",
       "    }\n",
       "  }\n",
       "  function get_bokeh(root) {\n",
       "    if (root.Bokeh === undefined) {\n",
       "      return null\n",
       "    } else if (root.Bokeh.version !== py_version) {\n",
       "      if (root.Bokeh.versions === undefined || !root.Bokeh.versions.has(py_version)) {\n",
       "\treturn null\n",
       "      }\n",
       "      return root.Bokeh.versions.get(py_version);\n",
       "    } else if (root.Bokeh.version === py_version) {\n",
       "      return root.Bokeh\n",
       "    }\n",
       "    return null\n",
       "  }\n",
       "  function is_loaded(root) {\n",
       "    var Bokeh = get_bokeh(root)\n",
       "    return (Bokeh != null && Bokeh.Panel !== undefined)\n",
       "  }\n",
       "  if (is_loaded(root)) {\n",
       "    embed_document(root);\n",
       "  } else {\n",
       "    var attempts = 0;\n",
       "    var timer = setInterval(function(root) {\n",
       "      if (is_loaded(root)) {\n",
       "        clearInterval(timer);\n",
       "        embed_document(root);\n",
       "      } else if (document.readyState == \"complete\") {\n",
       "        attempts++;\n",
       "        if (attempts > 200) {\n",
       "          clearInterval(timer);\n",
       "\t  var Bokeh = get_bokeh(root)\n",
       "\t  if (Bokeh == null || Bokeh.Panel == null) {\n",
       "            console.warn(\"Panel: ERROR: Unable to run Panel code because Bokeh or Panel library is missing\");\n",
       "\t  } else {\n",
       "\t    console.warn(\"Panel: WARNING: Attempting to render but not all required libraries could be resolved.\")\n",
       "\t    embed_document(root)\n",
       "\t  }\n",
       "        }\n",
       "      }\n",
       "    }, 25, root)\n",
       "  }\n",
       "})(window);</script>"
      ],
      "text/plain": [
       ":Overlay\n",
       "   .Bars.I    :Bars   [post_str_blast]   (percent)\n",
       "   .HLine.I   :HLine   [x,y]\n",
       "   .HLine.II  :HLine   [x,y]\n",
       "   .HLine.III :HLine   [x,y]"
      ]
     },
     "metadata": {
      "application/vnd.holoviews_exec.v0+json": {
       "id": "9fd890a2-8b8e-442b-af8c-c6c144c2b036"
      }
     },
     "output_type": "display_data"
    },
    {
     "name": "stdout",
     "output_type": "stream",
     "text": [
      "df_10_last FOR str_b6 = 38\n",
      "Last 3 results last_results=['26', '50', '45']\n"
     ]
    },
    {
     "data": {
      "text/html": [
       "<div><style>\n",
       ".dataframe > thead > tr,\n",
       ".dataframe > tbody > tr {\n",
       "  text-align: right;\n",
       "  white-space: pre-wrap;\n",
       "}\n",
       "</style>\n",
       "<small>shape: (10, 30)</small><table border=\"1\" class=\"dataframe\"><thead><tr><th>fecha</th><th>sorteo</th><th>bolillas</th><th>yapa</th><th>adicionales</th><th>sorteo_extra</th><th>id</th><th>combo</th><th>b1</th><th>b2</th><th>b3</th><th>b4</th><th>b5</th><th>b6</th><th>str_b1</th><th>str_b2</th><th>str_b3</th><th>str_b4</th><th>str_b5</th><th>str_b6</th><th>post_str_b1</th><th>post_str_b2</th><th>post_str_b3</th><th>post_str_b4</th><th>post_str_b5</th><th>post_str_blast</th><th>is_rare_combination</th><th>reason</th><th>jumps_map</th><th>unijump</th></tr><tr><td>str</td><td>str</td><td>str</td><td>str</td><td>str</td><td>str</td><td>str</td><td>array[u8, 6]</td><td>u8</td><td>u8</td><td>u8</td><td>u8</td><td>u8</td><td>u8</td><td>str</td><td>str</td><td>str</td><td>str</td><td>str</td><td>str</td><td>str</td><td>str</td><td>str</td><td>str</td><td>str</td><td>str</td><td>bool</td><td>u8</td><td>str</td><td>i64</td></tr></thead><tbody><tr><td>&quot;04/12/2024&quot;</td><td>&quot;1148&quot;</td><td>&quot;17 29 20 38 02 36&quot;</td><td>&quot;26&quot;</td><td>&quot;33 01 05&quot;</td><td>&quot;Promoción Sí o Sí&quot;</td><td>&quot;021720293638&quot;</td><td>[2, 17, … 38]</td><td>2</td><td>17</td><td>20</td><td>29</td><td>36</td><td>38</td><td>&quot;02&quot;</td><td>&quot;17&quot;</td><td>&quot;20&quot;</td><td>&quot;29&quot;</td><td>&quot;36&quot;</td><td>&quot;38&quot;</td><td>&quot;08&quot;</td><td>&quot;17&quot;</td><td>&quot;26&quot;</td><td>&quot;43&quot;</td><td>&quot;44&quot;</td><td>&quot;45&quot;</td><td>false</td><td>0</td><td>&quot;15_03_09_07_02&quot;</td><td>31</td></tr><tr><td>&quot;07/08/2024&quot;</td><td>&quot;1114&quot;</td><td>&quot;10 38 36 18 32 14&quot;</td><td>&quot;33&quot;</td><td>&quot;31 29 42 28&quot;</td><td>&quot;Promoción Sí o Sí&quot;</td><td>&quot;101418323638&quot;</td><td>[10, 14, … 38]</td><td>10</td><td>14</td><td>18</td><td>32</td><td>36</td><td>38</td><td>&quot;10&quot;</td><td>&quot;14&quot;</td><td>&quot;18&quot;</td><td>&quot;32&quot;</td><td>&quot;36&quot;</td><td>&quot;38&quot;</td><td>&quot;12&quot;</td><td>&quot;18&quot;</td><td>&quot;38&quot;</td><td>&quot;43&quot;</td><td>&quot;47&quot;</td><td>&quot;50&quot;</td><td>true</td><td>12</td><td>&quot;04_04_14_04_02&quot;</td><td>58</td></tr><tr><td>&quot;24/07/2024&quot;</td><td>&quot;1110&quot;</td><td>&quot;23 32 28 19 38 25&quot;</td><td>&quot;40&quot;</td><td>&quot;03&quot;</td><td>&quot;Promoción Sí o Sí&quot;</td><td>&quot;192325283238&quot;</td><td>[19, 23, … 38]</td><td>19</td><td>23</td><td>25</td><td>28</td><td>32</td><td>38</td><td>&quot;19&quot;</td><td>&quot;23&quot;</td><td>&quot;25&quot;</td><td>&quot;28&quot;</td><td>&quot;32&quot;</td><td>&quot;38&quot;</td><td>&quot;03&quot;</td><td>&quot;08&quot;</td><td>&quot;14&quot;</td><td>&quot;19&quot;</td><td>&quot;25&quot;</td><td>&quot;26&quot;</td><td>false</td><td>0</td><td>&quot;04_02_03_04_06&quot;</td><td>4</td></tr><tr><td>&quot;03/04/2024&quot;</td><td>&quot;1078&quot;</td><td>&quot;02 07 38 18 31 26&quot;</td><td>&quot;17&quot;</td><td>&quot;41 03&quot;</td><td>&quot;Promoción Sí o Sí&quot;</td><td>&quot;020718263138&quot;</td><td>[2, 7, … 38]</td><td>2</td><td>7</td><td>18</td><td>26</td><td>31</td><td>38</td><td>&quot;02&quot;</td><td>&quot;07&quot;</td><td>&quot;18&quot;</td><td>&quot;26&quot;</td><td>&quot;31&quot;</td><td>&quot;38&quot;</td><td>&quot;05&quot;</td><td>&quot;10&quot;</td><td>&quot;20&quot;</td><td>&quot;22&quot;</td><td>&quot;25&quot;</td><td>&quot;35&quot;</td><td>false</td><td>0</td><td>&quot;05_11_08_05_07&quot;</td><td>-4</td></tr><tr><td>&quot;17/12/2023&quot;</td><td>&quot;1047&quot;</td><td>&quot;05 22 11 17 38 10&quot;</td><td>&quot;14&quot;</td><td>&quot;07 41 16&quot;</td><td>&quot;Promoción Sí o Sí&quot;</td><td>&quot;051011172238&quot;</td><td>[5, 10, … 38]</td><td>5</td><td>10</td><td>11</td><td>17</td><td>22</td><td>38</td><td>&quot;05&quot;</td><td>&quot;10&quot;</td><td>&quot;11&quot;</td><td>&quot;17&quot;</td><td>&quot;22&quot;</td><td>&quot;38&quot;</td><td>&quot;07&quot;</td><td>&quot;09&quot;</td><td>&quot;11&quot;</td><td>&quot;21&quot;</td><td>&quot;27&quot;</td><td>&quot;44&quot;</td><td>false</td><td>0</td><td>&quot;05_01_06_05_16&quot;</td><td>33</td></tr><tr><td>&quot;25/10/2023&quot;</td><td>&quot;1032&quot;</td><td>&quot;38 17 22 26 21 36&quot;</td><td>&quot;07&quot;</td><td>&quot;27 29 11&quot;</td><td>&quot;Promoción Sí o Sí&quot;</td><td>&quot;172122263638&quot;</td><td>[17, 21, … 38]</td><td>17</td><td>21</td><td>22</td><td>26</td><td>36</td><td>38</td><td>&quot;17&quot;</td><td>&quot;21&quot;</td><td>&quot;22&quot;</td><td>&quot;26&quot;</td><td>&quot;36&quot;</td><td>&quot;38&quot;</td><td>&quot;06&quot;</td><td>&quot;10&quot;</td><td>&quot;11&quot;</td><td>&quot;19&quot;</td><td>&quot;36&quot;</td><td>&quot;39&quot;</td><td>false</td><td>0</td><td>&quot;04_01_04_10_02&quot;</td><td>-14</td></tr><tr><td>&quot;27/08/2023&quot;</td><td>&quot;1015&quot;</td><td>&quot;20 22 38 28 16 14&quot;</td><td>&quot;36&quot;</td><td>&quot;34 43 08&quot;</td><td>&quot;Promoción Sí o Sí&quot;</td><td>&quot;141620222838&quot;</td><td>[14, 16, … 38]</td><td>14</td><td>16</td><td>20</td><td>22</td><td>28</td><td>38</td><td>&quot;14&quot;</td><td>&quot;16&quot;</td><td>&quot;20&quot;</td><td>&quot;22&quot;</td><td>&quot;28&quot;</td><td>&quot;38&quot;</td><td>&quot;01&quot;</td><td>&quot;12&quot;</td><td>&quot;25&quot;</td><td>&quot;28&quot;</td><td>&quot;33&quot;</td><td>&quot;44&quot;</td><td>true</td><td>4</td><td>&quot;02_04_02_06_10&quot;</td><td>-16</td></tr><tr><td>&quot;19/07/2023&quot;</td><td>&quot;1004&quot;</td><td>&quot;06 38 35 23 09 31&quot;</td><td>&quot;10&quot;</td><td>&quot;16 04 47&quot;</td><td>&quot;Promoción Sí o Sí&quot;</td><td>&quot;060923313538&quot;</td><td>[6, 9, … 38]</td><td>6</td><td>9</td><td>23</td><td>31</td><td>35</td><td>38</td><td>&quot;06&quot;</td><td>&quot;09&quot;</td><td>&quot;23&quot;</td><td>&quot;31&quot;</td><td>&quot;35&quot;</td><td>&quot;38&quot;</td><td>&quot;09&quot;</td><td>&quot;15&quot;</td><td>&quot;26&quot;</td><td>&quot;31&quot;</td><td>&quot;38&quot;</td><td>&quot;43&quot;</td><td>false</td><td>0</td><td>&quot;03_14_08_04_03&quot;</td><td>-18</td></tr><tr><td>&quot;09/07/2023&quot;</td><td>&quot;1001&quot;</td><td>&quot;26 38 29 21 06 11&quot;</td><td>&quot;45&quot;</td><td>&quot;15 44 05&quot;</td><td>&quot;Promoción Sí o Sí&quot;</td><td>&quot;061121262938&quot;</td><td>[6, 11, … 38]</td><td>6</td><td>11</td><td>21</td><td>26</td><td>29</td><td>38</td><td>&quot;06&quot;</td><td>&quot;11&quot;</td><td>&quot;21&quot;</td><td>&quot;26&quot;</td><td>&quot;29&quot;</td><td>&quot;38&quot;</td><td>&quot;01&quot;</td><td>&quot;13&quot;</td><td>&quot;20&quot;</td><td>&quot;23&quot;</td><td>&quot;27&quot;</td><td>&quot;42&quot;</td><td>false</td><td>0</td><td>&quot;05_10_05_03_09&quot;</td><td>-8</td></tr><tr><td>&quot;28/05/2023&quot;</td><td>&quot;0989&quot;</td><td>&quot;01 05 21 38 10 36&quot;</td><td>&quot;31&quot;</td><td>&quot;28 39 27&quot;</td><td>&quot;Promoción Sí o Sí&quot;</td><td>&quot;010510213638&quot;</td><td>[1, 5, … 38]</td><td>1</td><td>5</td><td>10</td><td>21</td><td>36</td><td>38</td><td>&quot;01&quot;</td><td>&quot;05&quot;</td><td>&quot;10&quot;</td><td>&quot;21&quot;</td><td>&quot;36&quot;</td><td>&quot;38&quot;</td><td>&quot;09&quot;</td><td>&quot;11&quot;</td><td>&quot;16&quot;</td><td>&quot;40&quot;</td><td>&quot;41&quot;</td><td>&quot;43&quot;</td><td>false</td><td>0</td><td>&quot;04_05_11_15_02&quot;</td><td>-8</td></tr></tbody></table></div>"
      ],
      "text/plain": [
       "shape: (10, 30)\n",
       "┌────────────┬────────┬───────────────┬──────┬───┬───────────────┬────────┬──────────────┬─────────┐\n",
       "│ fecha      ┆ sorteo ┆ bolillas      ┆ yapa ┆ … ┆ is_rare_combi ┆ reason ┆ jumps_map    ┆ unijump │\n",
       "│ ---        ┆ ---    ┆ ---           ┆ ---  ┆   ┆ nation        ┆ ---    ┆ ---          ┆ ---     │\n",
       "│ str        ┆ str    ┆ str           ┆ str  ┆   ┆ ---           ┆ u8     ┆ str          ┆ i64     │\n",
       "│            ┆        ┆               ┆      ┆   ┆ bool          ┆        ┆              ┆         │\n",
       "╞════════════╪════════╪═══════════════╪══════╪═══╪═══════════════╪════════╪══════════════╪═════════╡\n",
       "│ 04/12/2024 ┆ 1148   ┆ 17 29 20 38   ┆ 26   ┆ … ┆ false         ┆ 0      ┆ 15_03_09_07_ ┆ 31      │\n",
       "│            ┆        ┆ 02 36         ┆      ┆   ┆               ┆        ┆ 02           ┆         │\n",
       "│ 07/08/2024 ┆ 1114   ┆ 10 38 36 18   ┆ 33   ┆ … ┆ true          ┆ 12     ┆ 04_04_14_04_ ┆ 58      │\n",
       "│            ┆        ┆ 32 14         ┆      ┆   ┆               ┆        ┆ 02           ┆         │\n",
       "│ 24/07/2024 ┆ 1110   ┆ 23 32 28 19   ┆ 40   ┆ … ┆ false         ┆ 0      ┆ 04_02_03_04_ ┆ 4       │\n",
       "│            ┆        ┆ 38 25         ┆      ┆   ┆               ┆        ┆ 06           ┆         │\n",
       "│ 03/04/2024 ┆ 1078   ┆ 02 07 38 18   ┆ 17   ┆ … ┆ false         ┆ 0      ┆ 05_11_08_05_ ┆ -4      │\n",
       "│            ┆        ┆ 31 26         ┆      ┆   ┆               ┆        ┆ 07           ┆         │\n",
       "│ 17/12/2023 ┆ 1047   ┆ 05 22 11 17   ┆ 14   ┆ … ┆ false         ┆ 0      ┆ 05_01_06_05_ ┆ 33      │\n",
       "│            ┆        ┆ 38 10         ┆      ┆   ┆               ┆        ┆ 16           ┆         │\n",
       "│ 25/10/2023 ┆ 1032   ┆ 38 17 22 26   ┆ 07   ┆ … ┆ false         ┆ 0      ┆ 04_01_04_10_ ┆ -14     │\n",
       "│            ┆        ┆ 21 36         ┆      ┆   ┆               ┆        ┆ 02           ┆         │\n",
       "│ 27/08/2023 ┆ 1015   ┆ 20 22 38 28   ┆ 36   ┆ … ┆ true          ┆ 4      ┆ 02_04_02_06_ ┆ -16     │\n",
       "│            ┆        ┆ 16 14         ┆      ┆   ┆               ┆        ┆ 10           ┆         │\n",
       "│ 19/07/2023 ┆ 1004   ┆ 06 38 35 23   ┆ 10   ┆ … ┆ false         ┆ 0      ┆ 03_14_08_04_ ┆ -18     │\n",
       "│            ┆        ┆ 09 31         ┆      ┆   ┆               ┆        ┆ 03           ┆         │\n",
       "│ 09/07/2023 ┆ 1001   ┆ 26 38 29 21   ┆ 45   ┆ … ┆ false         ┆ 0      ┆ 05_10_05_03_ ┆ -8      │\n",
       "│            ┆        ┆ 06 11         ┆      ┆   ┆               ┆        ┆ 09           ┆         │\n",
       "│ 28/05/2023 ┆ 0989   ┆ 01 05 21 38   ┆ 31   ┆ … ┆ false         ┆ 0      ┆ 04_05_11_15_ ┆ -8      │\n",
       "│            ┆        ┆ 10 36         ┆      ┆   ┆               ┆        ┆ 02           ┆         │\n",
       "└────────────┴────────┴───────────────┴──────┴───┴───────────────┴────────┴──────────────┴─────────┘"
      ]
     },
     "metadata": {},
     "output_type": "display_data"
    },
    {
     "name": "stdout",
     "output_type": "stream",
     "text": [
      "df_jumps_map FOR str_b6 = 38\n"
     ]
    },
    {
     "data": {
      "text/html": [
       "<div><style>\n",
       ".dataframe > thead > tr,\n",
       ".dataframe > tbody > tr {\n",
       "  text-align: right;\n",
       "  white-space: pre-wrap;\n",
       "}\n",
       "</style>\n",
       "<small>shape: (120, 2)</small><table border=\"1\" class=\"dataframe\"><thead><tr><th>jumps_map</th><th>count</th></tr><tr><td>str</td><td>u32</td></tr></thead><tbody><tr><td>&quot;07_09_02_07_10&quot;</td><td>1</td></tr><tr><td>&quot;03_08_05_09_05&quot;</td><td>1</td></tr><tr><td>&quot;05_02_01_17_01&quot;</td><td>1</td></tr><tr><td>&quot;02_04_02_06_10&quot;</td><td>1</td></tr><tr><td>&quot;10_03_08_11_02&quot;</td><td>1</td></tr><tr><td>&hellip;</td><td>&hellip;</td></tr><tr><td>&quot;04_01_01_07_07&quot;</td><td>1</td></tr><tr><td>&quot;19_03_02_05_04&quot;</td><td>1</td></tr><tr><td>&quot;07_07_03_03_12&quot;</td><td>1</td></tr><tr><td>&quot;02_06_10_07_01&quot;</td><td>1</td></tr><tr><td>&quot;11_02_09_05_07&quot;</td><td>1</td></tr></tbody></table></div>"
      ],
      "text/plain": [
       "shape: (120, 2)\n",
       "┌────────────────┬───────┐\n",
       "│ jumps_map      ┆ count │\n",
       "│ ---            ┆ ---   │\n",
       "│ str            ┆ u32   │\n",
       "╞════════════════╪═══════╡\n",
       "│ 07_09_02_07_10 ┆ 1     │\n",
       "│ 03_08_05_09_05 ┆ 1     │\n",
       "│ 05_02_01_17_01 ┆ 1     │\n",
       "│ 02_04_02_06_10 ┆ 1     │\n",
       "│ 10_03_08_11_02 ┆ 1     │\n",
       "│ …              ┆ …     │\n",
       "│ 04_01_01_07_07 ┆ 1     │\n",
       "│ 19_03_02_05_04 ┆ 1     │\n",
       "│ 07_07_03_03_12 ┆ 1     │\n",
       "│ 02_06_10_07_01 ┆ 1     │\n",
       "│ 11_02_09_05_07 ┆ 1     │\n",
       "└────────────────┴───────┘"
      ]
     },
     "metadata": {},
     "output_type": "display_data"
    },
    {
     "name": "stdout",
     "output_type": "stream",
     "text": [
      "df_unijump FOR str_b6 = 38\n"
     ]
    },
    {
     "data": {
      "text/html": [
       "<div><style>\n",
       ".dataframe > thead > tr,\n",
       ".dataframe > tbody > tr {\n",
       "  text-align: right;\n",
       "  white-space: pre-wrap;\n",
       "}\n",
       "</style>\n",
       "<small>shape: (82, 2)</small><table border=\"1\" class=\"dataframe\"><thead><tr><th>unijump</th><th>count</th></tr><tr><td>i64</td><td>u32</td></tr></thead><tbody><tr><td>46</td><td>4</td></tr><tr><td>-16</td><td>3</td></tr><tr><td>27</td><td>3</td></tr><tr><td>4</td><td>3</td></tr><tr><td>-30</td><td>2</td></tr><tr><td>&hellip;</td><td>&hellip;</td></tr><tr><td>3</td><td>1</td></tr><tr><td>58</td><td>1</td></tr><tr><td>29</td><td>1</td></tr><tr><td>-91</td><td>1</td></tr><tr><td>44</td><td>1</td></tr></tbody></table></div>"
      ],
      "text/plain": [
       "shape: (82, 2)\n",
       "┌─────────┬───────┐\n",
       "│ unijump ┆ count │\n",
       "│ ---     ┆ ---   │\n",
       "│ i64     ┆ u32   │\n",
       "╞═════════╪═══════╡\n",
       "│ 46      ┆ 4     │\n",
       "│ -16     ┆ 3     │\n",
       "│ 27      ┆ 3     │\n",
       "│ 4       ┆ 3     │\n",
       "│ -30     ┆ 2     │\n",
       "│ …       ┆ …     │\n",
       "│ 3       ┆ 1     │\n",
       "│ 58      ┆ 1     │\n",
       "│ 29      ┆ 1     │\n",
       "│ -91     ┆ 1     │\n",
       "│ 44      ┆ 1     │\n",
       "└─────────┴───────┘"
      ]
     },
     "metadata": {},
     "output_type": "display_data"
    }
   ],
   "source": [
    "possible_blast, exclude_jump_maps_blast, last_post_blast = plot_post_col(col='str_b6', post_col='post_str_blast')"
   ]
  },
  {
   "cell_type": "code",
   "execution_count": 13,
   "metadata": {},
   "outputs": [],
   "source": [
    "b_count = rr.CHOOSE\n",
    "min_b = rr.MIN_B_VALUES[0]\n",
    "max_b = rr.MAX_B_VALUES[-1]\n",
    "\n",
    "\n",
    "combos = combinations(range(min_b, max_b + 1), b_count)\n",
    "# print(\"generating combos: \", len(list(combos)))"
   ]
  },
  {
   "cell_type": "code",
   "execution_count": 14,
   "metadata": {},
   "outputs": [],
   "source": [
    "parquet_file = './parquet_tnk_v3.parquet'\n",
    "\n",
    "# check if parquet_file exists\n",
    "if not os.path.exists(parquet_file):\n",
    "  print(f'{parquet_file=} does not exists. creating')\n",
    "  lst = []\n",
    "  post_str_b1 = None\n",
    "  post_str_blast = None\n",
    "  for row in combos:\n",
    "    cols = []\n",
    "    str_row = \" \".join([str(r).zfill(2) for r in row])\n",
    "    id, bolillas_int, str_combo = formalize_data_with_str(bolillas_str=str_row)\n",
    "    cols.append(id)\n",
    "    cols.append(bolillas_int)\n",
    "    cols.extend([b for b in bolillas_int])\n",
    "    cols.extend(str_combo)\n",
    "    cols.append(post_str_b1)\n",
    "    cols.append(post_str_blast)\n",
    "\n",
    "    is_rare, reason = rr.is_rare_combination(bolillas_int, id)\n",
    "    cols.append(is_rare)\n",
    "    cols.append(reason)\n",
    "\n",
    "    cols.append(rr.jumps_map(bolillas_int))\n",
    "    cols.append(rr.unijump(bolillas_int))\n",
    "    \n",
    "    lst.append(cols)\n",
    "\n",
    "    post_str_b1 = str_combo[0]\n",
    "    post_str_blast = str_combo[-1]\n",
    "\n",
    "  df_Orows = pl.DataFrame(\n",
    "    lst,\n",
    "    schema=[\n",
    "      # 'fecha', 'sorteo', 'bolillas',\n",
    "      'id', 'combo', 'b1', 'b2', 'b3', 'b4', 'b5', 'b6',\n",
    "      'str_b1', 'str_b2', 'str_b3', 'str_b4', 'str_b5', 'str_b6',\n",
    "      'post_str_b1', 'post_str_blast',\n",
    "      'is_rare_combination', 'reason',\n",
    "      \"jumps_map\", \"unijump\"\n",
    "    ],\n",
    "    schema_overrides={\n",
    "      'combo': pl.Array(pl.UInt8, 6),\n",
    "      'b1': pl.UInt8,\n",
    "      'b2': pl.UInt8,\n",
    "      'b3': pl.UInt8,\n",
    "      'b4': pl.UInt8,\n",
    "      'b5': pl.UInt8,\n",
    "      'b6': pl.UInt8,\n",
    "      'reason': pl.UInt8\n",
    "    },\n",
    "    orient='row'\n",
    "  )\n",
    "\n",
    "  df_Orows.write_parquet(parquet_file)\n",
    "  TOTAL_LINES = len(df_Orows)\n",
    "  print(f'{TOTAL_LINES=} loaded to {parquet_file=}')\n",
    "\n",
    "  display(df_Orows.head(10))\n",
    "else:\n",
    "  df_Orows = pl.read_parquet(parquet_file)"
   ]
  },
  {
   "cell_type": "code",
   "execution_count": 15,
   "metadata": {},
   "outputs": [
    {
     "data": {
      "text/html": [
       "<div><style>\n",
       ".dataframe > thead > tr,\n",
       ".dataframe > tbody > tr {\n",
       "  text-align: right;\n",
       "  white-space: pre-wrap;\n",
       "}\n",
       "</style>\n",
       "<small>shape: (13_846, 20)</small><table border=\"1\" class=\"dataframe\"><thead><tr><th>id</th><th>combo</th><th>b1</th><th>b2</th><th>b3</th><th>b4</th><th>b5</th><th>b6</th><th>str_b1</th><th>str_b2</th><th>str_b3</th><th>str_b4</th><th>str_b5</th><th>str_b6</th><th>post_str_b1</th><th>post_str_blast</th><th>is_rare_combination</th><th>reason</th><th>jumps_map</th><th>unijump</th></tr><tr><td>str</td><td>array[u8, 6]</td><td>u8</td><td>u8</td><td>u8</td><td>u8</td><td>u8</td><td>u8</td><td>str</td><td>str</td><td>str</td><td>str</td><td>str</td><td>str</td><td>str</td><td>str</td><td>bool</td><td>u8</td><td>str</td><td>i64</td></tr></thead><tbody><tr><td>&quot;010313162034&quot;</td><td>[1, 3, … 34]</td><td>1</td><td>3</td><td>13</td><td>16</td><td>20</td><td>34</td><td>&quot;01&quot;</td><td>&quot;03&quot;</td><td>&quot;13&quot;</td><td>&quot;16&quot;</td><td>&quot;20&quot;</td><td>&quot;34&quot;</td><td>&quot;01&quot;</td><td>&quot;33&quot;</td><td>false</td><td>0</td><td>&quot;02_10_03_04_14&quot;</td><td>-22</td></tr><tr><td>&quot;010313162036&quot;</td><td>[1, 3, … 36]</td><td>1</td><td>3</td><td>13</td><td>16</td><td>20</td><td>36</td><td>&quot;01&quot;</td><td>&quot;03&quot;</td><td>&quot;13&quot;</td><td>&quot;16&quot;</td><td>&quot;20&quot;</td><td>&quot;36&quot;</td><td>&quot;01&quot;</td><td>&quot;35&quot;</td><td>false</td><td>0</td><td>&quot;02_10_03_04_16&quot;</td><td>-20</td></tr><tr><td>&quot;010313162039&quot;</td><td>[1, 3, … 39]</td><td>1</td><td>3</td><td>13</td><td>16</td><td>20</td><td>39</td><td>&quot;01&quot;</td><td>&quot;03&quot;</td><td>&quot;13&quot;</td><td>&quot;16&quot;</td><td>&quot;20&quot;</td><td>&quot;39&quot;</td><td>&quot;01&quot;</td><td>&quot;38&quot;</td><td>false</td><td>0</td><td>&quot;02_10_03_04_19&quot;</td><td>-17</td></tr><tr><td>&quot;010313162040&quot;</td><td>[1, 3, … 40]</td><td>1</td><td>3</td><td>13</td><td>16</td><td>20</td><td>40</td><td>&quot;01&quot;</td><td>&quot;03&quot;</td><td>&quot;13&quot;</td><td>&quot;16&quot;</td><td>&quot;20&quot;</td><td>&quot;40&quot;</td><td>&quot;01&quot;</td><td>&quot;39&quot;</td><td>false</td><td>0</td><td>&quot;02_10_03_04_20&quot;</td><td>-16</td></tr><tr><td>&quot;010313162041&quot;</td><td>[1, 3, … 41]</td><td>1</td><td>3</td><td>13</td><td>16</td><td>20</td><td>41</td><td>&quot;01&quot;</td><td>&quot;03&quot;</td><td>&quot;13&quot;</td><td>&quot;16&quot;</td><td>&quot;20&quot;</td><td>&quot;41&quot;</td><td>&quot;01&quot;</td><td>&quot;40&quot;</td><td>false</td><td>0</td><td>&quot;02_10_03_04_21&quot;</td><td>-15</td></tr><tr><td>&hellip;</td><td>&hellip;</td><td>&hellip;</td><td>&hellip;</td><td>&hellip;</td><td>&hellip;</td><td>&hellip;</td><td>&hellip;</td><td>&hellip;</td><td>&hellip;</td><td>&hellip;</td><td>&hellip;</td><td>&hellip;</td><td>&hellip;</td><td>&hellip;</td><td>&hellip;</td><td>&hellip;</td><td>&hellip;</td><td>&hellip;</td><td>&hellip;</td></tr><tr><td>&quot;071525303342&quot;</td><td>[7, 15, … 42]</td><td>7</td><td>15</td><td>25</td><td>30</td><td>33</td><td>42</td><td>&quot;07&quot;</td><td>&quot;15&quot;</td><td>&quot;25&quot;</td><td>&quot;30&quot;</td><td>&quot;33&quot;</td><td>&quot;42&quot;</td><td>&quot;07&quot;</td><td>&quot;41&quot;</td><td>false</td><td>0</td><td>&quot;08_10_05_03_09&quot;</td><td>-5</td></tr><tr><td>&quot;071525303343&quot;</td><td>[7, 15, … 43]</td><td>7</td><td>15</td><td>25</td><td>30</td><td>33</td><td>43</td><td>&quot;07&quot;</td><td>&quot;15&quot;</td><td>&quot;25&quot;</td><td>&quot;30&quot;</td><td>&quot;33&quot;</td><td>&quot;43&quot;</td><td>&quot;07&quot;</td><td>&quot;42&quot;</td><td>false</td><td>0</td><td>&quot;08_10_05_03_10&quot;</td><td>-4</td></tr><tr><td>&quot;071525303344&quot;</td><td>[7, 15, … 44]</td><td>7</td><td>15</td><td>25</td><td>30</td><td>33</td><td>44</td><td>&quot;07&quot;</td><td>&quot;15&quot;</td><td>&quot;25&quot;</td><td>&quot;30&quot;</td><td>&quot;33&quot;</td><td>&quot;44&quot;</td><td>&quot;07&quot;</td><td>&quot;43&quot;</td><td>false</td><td>0</td><td>&quot;08_10_05_03_11&quot;</td><td>-3</td></tr><tr><td>&quot;072225273341&quot;</td><td>[7, 22, … 41]</td><td>7</td><td>22</td><td>25</td><td>27</td><td>33</td><td>41</td><td>&quot;07&quot;</td><td>&quot;22&quot;</td><td>&quot;25&quot;</td><td>&quot;27&quot;</td><td>&quot;33&quot;</td><td>&quot;41&quot;</td><td>&quot;07&quot;</td><td>&quot;40&quot;</td><td>false</td><td>0</td><td>&quot;15_03_02_06_08&quot;</td><td>-1</td></tr><tr><td>&quot;072225303341&quot;</td><td>[7, 22, … 41]</td><td>7</td><td>22</td><td>25</td><td>30</td><td>33</td><td>41</td><td>&quot;07&quot;</td><td>&quot;22&quot;</td><td>&quot;25&quot;</td><td>&quot;30&quot;</td><td>&quot;33&quot;</td><td>&quot;41&quot;</td><td>&quot;07&quot;</td><td>&quot;40&quot;</td><td>false</td><td>0</td><td>&quot;15_03_05_03_08&quot;</td><td>29</td></tr></tbody></table></div>"
      ],
      "text/plain": [
       "shape: (13_846, 20)\n",
       "┌──────────────┬───────────────┬─────┬─────┬───┬────────────────┬────────┬───────────────┬─────────┐\n",
       "│ id           ┆ combo         ┆ b1  ┆ b2  ┆ … ┆ is_rare_combin ┆ reason ┆ jumps_map     ┆ unijump │\n",
       "│ ---          ┆ ---           ┆ --- ┆ --- ┆   ┆ ation          ┆ ---    ┆ ---           ┆ ---     │\n",
       "│ str          ┆ array[u8, 6]  ┆ u8  ┆ u8  ┆   ┆ ---            ┆ u8     ┆ str           ┆ i64     │\n",
       "│              ┆               ┆     ┆     ┆   ┆ bool           ┆        ┆               ┆         │\n",
       "╞══════════════╪═══════════════╪═════╪═════╪═══╪════════════════╪════════╪═══════════════╪═════════╡\n",
       "│ 010313162034 ┆ [1, 3, … 34]  ┆ 1   ┆ 3   ┆ … ┆ false          ┆ 0      ┆ 02_10_03_04_1 ┆ -22     │\n",
       "│              ┆               ┆     ┆     ┆   ┆                ┆        ┆ 4             ┆         │\n",
       "│ 010313162036 ┆ [1, 3, … 36]  ┆ 1   ┆ 3   ┆ … ┆ false          ┆ 0      ┆ 02_10_03_04_1 ┆ -20     │\n",
       "│              ┆               ┆     ┆     ┆   ┆                ┆        ┆ 6             ┆         │\n",
       "│ 010313162039 ┆ [1, 3, … 39]  ┆ 1   ┆ 3   ┆ … ┆ false          ┆ 0      ┆ 02_10_03_04_1 ┆ -17     │\n",
       "│              ┆               ┆     ┆     ┆   ┆                ┆        ┆ 9             ┆         │\n",
       "│ 010313162040 ┆ [1, 3, … 40]  ┆ 1   ┆ 3   ┆ … ┆ false          ┆ 0      ┆ 02_10_03_04_2 ┆ -16     │\n",
       "│              ┆               ┆     ┆     ┆   ┆                ┆        ┆ 0             ┆         │\n",
       "│ 010313162041 ┆ [1, 3, … 41]  ┆ 1   ┆ 3   ┆ … ┆ false          ┆ 0      ┆ 02_10_03_04_2 ┆ -15     │\n",
       "│              ┆               ┆     ┆     ┆   ┆                ┆        ┆ 1             ┆         │\n",
       "│ …            ┆ …             ┆ …   ┆ …   ┆ … ┆ …              ┆ …      ┆ …             ┆ …       │\n",
       "│ 071525303342 ┆ [7, 15, … 42] ┆ 7   ┆ 15  ┆ … ┆ false          ┆ 0      ┆ 08_10_05_03_0 ┆ -5      │\n",
       "│              ┆               ┆     ┆     ┆   ┆                ┆        ┆ 9             ┆         │\n",
       "│ 071525303343 ┆ [7, 15, … 43] ┆ 7   ┆ 15  ┆ … ┆ false          ┆ 0      ┆ 08_10_05_03_1 ┆ -4      │\n",
       "│              ┆               ┆     ┆     ┆   ┆                ┆        ┆ 0             ┆         │\n",
       "│ 071525303344 ┆ [7, 15, … 44] ┆ 7   ┆ 15  ┆ … ┆ false          ┆ 0      ┆ 08_10_05_03_1 ┆ -3      │\n",
       "│              ┆               ┆     ┆     ┆   ┆                ┆        ┆ 1             ┆         │\n",
       "│ 072225273341 ┆ [7, 22, … 41] ┆ 7   ┆ 22  ┆ … ┆ false          ┆ 0      ┆ 15_03_02_06_0 ┆ -1      │\n",
       "│              ┆               ┆     ┆     ┆   ┆                ┆        ┆ 8             ┆         │\n",
       "│ 072225303341 ┆ [7, 22, … 41] ┆ 7   ┆ 22  ┆ … ┆ false          ┆ 0      ┆ 15_03_05_03_0 ┆ 29      │\n",
       "│              ┆               ┆     ┆     ┆   ┆                ┆        ┆ 8             ┆         │\n",
       "└──────────────┴───────────────┴─────┴─────┴───┴────────────────┴────────┴───────────────┴─────────┘"
      ]
     },
     "metadata": {},
     "output_type": "display_data"
    }
   ],
   "source": [
    "# possible_b1, exclude_jump_maps_b1\n",
    "df_possible = df_Orows.filter(\n",
    "  pl.col(\"str_b1\").is_in(possible_b1),\n",
    "  pl.col(\"str_b2\").is_in(possible_b2),\n",
    "  pl.col(\"str_b3\").is_in(possible_b3),\n",
    "  pl.col(\"str_b4\").is_in(possible_b4),\n",
    "  pl.col(\"str_b5\").is_in(possible_b5),\n",
    "  pl.col(\"str_b6\").is_in(possible_blast),\n",
    "  \n",
    "  ~pl.col(\"str_b1\").is_in(last_post_b1),\n",
    "  # ~pl.col(\"str_b2\").is_in(last_post_b2),\n",
    "  # ~pl.col(\"str_b3\").is_in(last_post_b3),\n",
    "  # ~pl.col(\"str_b4\").is_in(last_post_b4),\n",
    "  # ~pl.col(\"str_b5\").is_in(last_post_b5),\n",
    "  ~pl.col(\"str_b6\").is_in(last_post_blast),\n",
    "\n",
    "  ~pl.col(\"jumps_map\").is_in(exclude_jump_maps_b1 + exclude_jump_maps_b2 + exclude_jump_maps_b3 + exclude_jump_maps_b4 + exclude_jump_maps_b5 + exclude_jump_maps_blast),\n",
    "  # ~pl.col(\"jumps_map\").is_in(exclude_jump_maps_b1 + exclude_jump_maps_b2 + exclude_jump_maps_blast),\n",
    "  pl.col(\"is_rare_combination\") == False\n",
    ")\n",
    "\n",
    "\n",
    "display(df_possible)"
   ]
  },
  {
   "cell_type": "code",
   "execution_count": 35,
   "metadata": {},
   "outputs": [
    {
     "data": {
      "text/html": [
       "<div><style>\n",
       ".dataframe > thead > tr,\n",
       ".dataframe > tbody > tr {\n",
       "  text-align: right;\n",
       "  white-space: pre-wrap;\n",
       "}\n",
       "</style>\n",
       "<small>shape: (1, 20)</small><table border=\"1\" class=\"dataframe\"><thead><tr><th>id</th><th>combo</th><th>b1</th><th>b2</th><th>b3</th><th>b4</th><th>b5</th><th>b6</th><th>str_b1</th><th>str_b2</th><th>str_b3</th><th>str_b4</th><th>str_b5</th><th>str_b6</th><th>post_str_b1</th><th>post_str_blast</th><th>is_rare_combination</th><th>reason</th><th>jumps_map</th><th>unijump</th></tr><tr><td>str</td><td>array[u8, 6]</td><td>u8</td><td>u8</td><td>u8</td><td>u8</td><td>u8</td><td>u8</td><td>str</td><td>str</td><td>str</td><td>str</td><td>str</td><td>str</td><td>str</td><td>str</td><td>bool</td><td>u8</td><td>str</td><td>i64</td></tr></thead><tbody><tr><td>&quot;020517203336&quot;</td><td>[2, 5, … 36]</td><td>2</td><td>5</td><td>17</td><td>20</td><td>33</td><td>36</td><td>&quot;02&quot;</td><td>&quot;05&quot;</td><td>&quot;17&quot;</td><td>&quot;20&quot;</td><td>&quot;33&quot;</td><td>&quot;36&quot;</td><td>&quot;02&quot;</td><td>&quot;35&quot;</td><td>false</td><td>0</td><td>&quot;03_12_03_13_03&quot;</td><td>-76</td></tr></tbody></table></div>"
      ],
      "text/plain": [
       "shape: (1, 20)\n",
       "┌──────────────┬──────────────┬─────┬─────┬───┬────────────────┬────────┬────────────────┬─────────┐\n",
       "│ id           ┆ combo        ┆ b1  ┆ b2  ┆ … ┆ is_rare_combin ┆ reason ┆ jumps_map      ┆ unijump │\n",
       "│ ---          ┆ ---          ┆ --- ┆ --- ┆   ┆ ation          ┆ ---    ┆ ---            ┆ ---     │\n",
       "│ str          ┆ array[u8, 6] ┆ u8  ┆ u8  ┆   ┆ ---            ┆ u8     ┆ str            ┆ i64     │\n",
       "│              ┆              ┆     ┆     ┆   ┆ bool           ┆        ┆                ┆         │\n",
       "╞══════════════╪══════════════╪═════╪═════╪═══╪════════════════╪════════╪════════════════╪═════════╡\n",
       "│ 020517203336 ┆ [2, 5, … 36] ┆ 2   ┆ 5   ┆ … ┆ false          ┆ 0      ┆ 03_12_03_13_03 ┆ -76     │\n",
       "└──────────────┴──────────────┴─────┴─────┴───┴────────────────┴────────┴────────────────┴─────────┘"
      ]
     },
     "execution_count": 35,
     "metadata": {},
     "output_type": "execute_result"
    }
   ],
   "source": [
    "df_possible.sample(n=1)\n"
   ]
  }
 ],
 "metadata": {
  "kernelspec": {
   "display_name": ".venv",
   "language": "python",
   "name": "python3"
  },
  "language_info": {
   "codemirror_mode": {
    "name": "ipython",
    "version": 3
   },
   "file_extension": ".py",
   "mimetype": "text/x-python",
   "name": "python",
   "nbconvert_exporter": "python",
   "pygments_lexer": "ipython3",
   "version": "3.12.9"
  }
 },
 "nbformat": 4,
 "nbformat_minor": 2
}

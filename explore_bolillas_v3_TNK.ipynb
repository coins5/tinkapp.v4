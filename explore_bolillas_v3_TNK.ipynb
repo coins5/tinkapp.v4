{
 "cells": [
  {
   "cell_type": "code",
   "execution_count": 11,
   "metadata": {},
   "outputs": [
    {
     "data": {
      "text/html": [
       "<script type=\"esms-options\">{\"shimMode\": true}</script><style>*[data-root-id],\n",
       "*[data-root-id] > * {\n",
       "  box-sizing: border-box;\n",
       "  font-family: var(--jp-ui-font-family);\n",
       "  font-size: var(--jp-ui-font-size1);\n",
       "  color: var(--vscode-editor-foreground, var(--jp-ui-font-color1));\n",
       "}\n",
       "\n",
       "/* Override VSCode background color */\n",
       ".cell-output-ipywidget-background:has(\n",
       "    > .cell-output-ipywidget-background > .lm-Widget > *[data-root-id]\n",
       "  ),\n",
       ".cell-output-ipywidget-background:has(> .lm-Widget > *[data-root-id]) {\n",
       "  background-color: transparent !important;\n",
       "}\n",
       "</style>"
      ]
     },
     "metadata": {},
     "output_type": "display_data"
    },
    {
     "data": {
      "application/javascript": "(function(root) {\n  function now() {\n    return new Date();\n  }\n\n  const force = true;\n  const py_version = '3.7.2'.replace('rc', '-rc.').replace('.dev', '-dev.');\n  const reloading = false;\n  const Bokeh = root.Bokeh;\n\n  // Set a timeout for this load but only if we are not already initializing\n  if (typeof (root._bokeh_timeout) === \"undefined\" || (force || !root._bokeh_is_initializing)) {\n    root._bokeh_timeout = Date.now() + 5000;\n    root._bokeh_failed_load = false;\n  }\n\n  function run_callbacks() {\n    try {\n      root._bokeh_onload_callbacks.forEach(function(callback) {\n        if (callback != null)\n          callback();\n      });\n    } finally {\n      delete root._bokeh_onload_callbacks;\n    }\n    console.debug(\"Bokeh: all callbacks have finished\");\n  }\n\n  function load_libs(css_urls, js_urls, js_modules, js_exports, callback) {\n    if (css_urls == null) css_urls = [];\n    if (js_urls == null) js_urls = [];\n    if (js_modules == null) js_modules = [];\n    if (js_exports == null) js_exports = {};\n\n    root._bokeh_onload_callbacks.push(callback);\n\n    if (root._bokeh_is_loading > 0) {\n      // Don't load bokeh if it is still initializing\n      console.debug(\"Bokeh: BokehJS is being loaded, scheduling callback at\", now());\n      return null;\n    } else if (js_urls.length === 0 && js_modules.length === 0 && Object.keys(js_exports).length === 0) {\n      // There is nothing to load\n      run_callbacks();\n      return null;\n    }\n\n    function on_load() {\n      root._bokeh_is_loading--;\n      if (root._bokeh_is_loading === 0) {\n        console.debug(\"Bokeh: all BokehJS libraries/stylesheets loaded\");\n        run_callbacks()\n      }\n    }\n    window._bokeh_on_load = on_load\n\n    function on_error(e) {\n      const src_el = e.srcElement\n      console.error(\"failed to load \" + (src_el.href || src_el.src));\n    }\n\n    const skip = [];\n    if (window.requirejs) {\n      window.requirejs.config({'packages': {}, 'paths': {}, 'shim': {}});\n      root._bokeh_is_loading = css_urls.length + 0;\n    } else {\n      root._bokeh_is_loading = css_urls.length + js_urls.length + js_modules.length + Object.keys(js_exports).length;\n    }\n\n    const existing_stylesheets = []\n    const links = document.getElementsByTagName('link')\n    for (let i = 0; i < links.length; i++) {\n      const link = links[i]\n      if (link.href != null) {\n        existing_stylesheets.push(link.href)\n      }\n    }\n    for (let i = 0; i < css_urls.length; i++) {\n      const url = css_urls[i];\n      const escaped = encodeURI(url)\n      if (existing_stylesheets.indexOf(escaped) !== -1) {\n        on_load()\n        continue;\n      }\n      const element = document.createElement(\"link\");\n      element.onload = on_load;\n      element.onerror = on_error;\n      element.rel = \"stylesheet\";\n      element.type = \"text/css\";\n      element.href = url;\n      console.debug(\"Bokeh: injecting link tag for BokehJS stylesheet: \", url);\n      document.body.appendChild(element);\n    }    var existing_scripts = []\n    const scripts = document.getElementsByTagName('script')\n    for (let i = 0; i < scripts.length; i++) {\n      var script = scripts[i]\n      if (script.src != null) {\n        existing_scripts.push(script.src)\n      }\n    }\n    for (let i = 0; i < js_urls.length; i++) {\n      const url = js_urls[i];\n      const escaped = encodeURI(url)\n      if (skip.indexOf(escaped) !== -1 || existing_scripts.indexOf(escaped) !== -1) {\n        if (!window.requirejs) {\n          on_load();\n        }\n        continue;\n      }\n      const element = document.createElement('script');\n      element.onload = on_load;\n      element.onerror = on_error;\n      element.async = false;\n      element.src = url;\n      console.debug(\"Bokeh: injecting script tag for BokehJS library: \", url);\n      document.head.appendChild(element);\n    }\n    for (let i = 0; i < js_modules.length; i++) {\n      const url = js_modules[i];\n      const escaped = encodeURI(url)\n      if (skip.indexOf(escaped) !== -1 || existing_scripts.indexOf(escaped) !== -1) {\n        if (!window.requirejs) {\n          on_load();\n        }\n        continue;\n      }\n      var element = document.createElement('script');\n      element.onload = on_load;\n      element.onerror = on_error;\n      element.async = false;\n      element.src = url;\n      element.type = \"module\";\n      console.debug(\"Bokeh: injecting script tag for BokehJS library: \", url);\n      document.head.appendChild(element);\n    }\n    for (const name in js_exports) {\n      const url = js_exports[name];\n      const escaped = encodeURI(url)\n      if (skip.indexOf(escaped) >= 0 || root[name] != null) {\n        if (!window.requirejs) {\n          on_load();\n        }\n        continue;\n      }\n      var element = document.createElement('script');\n      element.onerror = on_error;\n      element.async = false;\n      element.type = \"module\";\n      console.debug(\"Bokeh: injecting script tag for BokehJS library: \", url);\n      element.textContent = `\n      import ${name} from \"${url}\"\n      window.${name} = ${name}\n      window._bokeh_on_load()\n      `\n      document.head.appendChild(element);\n    }\n    if (!js_urls.length && !js_modules.length) {\n      on_load()\n    }\n  };\n\n  function inject_raw_css(css) {\n    const element = document.createElement(\"style\");\n    element.appendChild(document.createTextNode(css));\n    document.body.appendChild(element);\n  }\n\n  const js_urls = [\"https://cdn.holoviz.org/panel/1.6.2/dist/bundled/reactiveesm/es-module-shims@^1.10.0/dist/es-module-shims.min.js\", \"https://cdn.bokeh.org/bokeh/release/bokeh-3.7.2.min.js\", \"https://cdn.bokeh.org/bokeh/release/bokeh-gl-3.7.2.min.js\", \"https://cdn.bokeh.org/bokeh/release/bokeh-widgets-3.7.2.min.js\", \"https://cdn.bokeh.org/bokeh/release/bokeh-tables-3.7.2.min.js\", \"https://cdn.holoviz.org/panel/1.6.2/dist/panel.min.js\"];\n  const js_modules = [];\n  const js_exports = {};\n  const css_urls = [];\n  const inline_js = [    function(Bokeh) {\n      Bokeh.set_log_level(\"info\");\n    },\nfunction(Bokeh) {} // ensure no trailing comma for IE\n  ];\n\n  function run_inline_js() {\n    if ((root.Bokeh !== undefined) || (force === true)) {\n      for (let i = 0; i < inline_js.length; i++) {\n        try {\n          inline_js[i].call(root, root.Bokeh);\n        } catch(e) {\n          if (!reloading) {\n            throw e;\n          }\n        }\n      }\n      // Cache old bokeh versions\n      if (Bokeh != undefined && !reloading) {\n        var NewBokeh = root.Bokeh;\n        if (Bokeh.versions === undefined) {\n          Bokeh.versions = new Map();\n        }\n        if (NewBokeh.version !== Bokeh.version) {\n          Bokeh.versions.set(NewBokeh.version, NewBokeh)\n        }\n        root.Bokeh = Bokeh;\n      }\n    } else if (Date.now() < root._bokeh_timeout) {\n      setTimeout(run_inline_js, 100);\n    } else if (!root._bokeh_failed_load) {\n      console.log(\"Bokeh: BokehJS failed to load within specified timeout.\");\n      root._bokeh_failed_load = true;\n    }\n    root._bokeh_is_initializing = false\n  }\n\n  function load_or_wait() {\n    // Implement a backoff loop that tries to ensure we do not load multiple\n    // versions of Bokeh and its dependencies at the same time.\n    // In recent versions we use the root._bokeh_is_initializing flag\n    // to determine whether there is an ongoing attempt to initialize\n    // bokeh, however for backward compatibility we also try to ensure\n    // that we do not start loading a newer (Panel>=1.0 and Bokeh>3) version\n    // before older versions are fully initialized.\n    if (root._bokeh_is_initializing && Date.now() > root._bokeh_timeout) {\n      // If the timeout and bokeh was not successfully loaded we reset\n      // everything and try loading again\n      root._bokeh_timeout = Date.now() + 5000;\n      root._bokeh_is_initializing = false;\n      root._bokeh_onload_callbacks = undefined;\n      root._bokeh_is_loading = 0\n      console.log(\"Bokeh: BokehJS was loaded multiple times but one version failed to initialize.\");\n      load_or_wait();\n    } else if (root._bokeh_is_initializing || (typeof root._bokeh_is_initializing === \"undefined\" && root._bokeh_onload_callbacks !== undefined)) {\n      setTimeout(load_or_wait, 100);\n    } else {\n      root._bokeh_is_initializing = true\n      root._bokeh_onload_callbacks = []\n      const bokeh_loaded = root.Bokeh != null && (root.Bokeh.version === py_version || (root.Bokeh.versions !== undefined && root.Bokeh.versions.has(py_version)));\n      if (!reloading && !bokeh_loaded) {\n        if (root.Bokeh) {\n          root.Bokeh = undefined;\n        }\n        console.debug(\"Bokeh: BokehJS not loaded, scheduling load and callback at\", now());\n      }\n      load_libs(css_urls, js_urls, js_modules, js_exports, function() {\n        console.debug(\"Bokeh: BokehJS plotting callback run at\", now());\n        run_inline_js();\n      });\n    }\n  }\n  // Give older versions of the autoload script a head-start to ensure\n  // they initialize before we start loading newer version.\n  setTimeout(load_or_wait, 100)\n}(window));",
      "application/vnd.holoviews_load.v0+json": ""
     },
     "metadata": {},
     "output_type": "display_data"
    },
    {
     "data": {
      "application/javascript": "\nif ((window.PyViz === undefined) || (window.PyViz instanceof HTMLElement)) {\n  window.PyViz = {comms: {}, comm_status:{}, kernels:{}, receivers: {}, plot_index: []}\n}\n\n\n    function JupyterCommManager() {\n    }\n\n    JupyterCommManager.prototype.register_target = function(plot_id, comm_id, msg_handler) {\n      if (window.comm_manager || ((window.Jupyter !== undefined) && (Jupyter.notebook.kernel != null))) {\n        var comm_manager = window.comm_manager || Jupyter.notebook.kernel.comm_manager;\n        comm_manager.register_target(comm_id, function(comm) {\n          comm.on_msg(msg_handler);\n        });\n      } else if ((plot_id in window.PyViz.kernels) && (window.PyViz.kernels[plot_id])) {\n        window.PyViz.kernels[plot_id].registerCommTarget(comm_id, function(comm) {\n          comm.onMsg = msg_handler;\n        });\n      } else if (typeof google != 'undefined' && google.colab.kernel != null) {\n        google.colab.kernel.comms.registerTarget(comm_id, (comm) => {\n          var messages = comm.messages[Symbol.asyncIterator]();\n          function processIteratorResult(result) {\n            var message = result.value;\n            console.log(message)\n            var content = {data: message.data, comm_id};\n            var buffers = []\n            for (var buffer of message.buffers || []) {\n              buffers.push(new DataView(buffer))\n            }\n            var metadata = message.metadata || {};\n            var msg = {content, buffers, metadata}\n            msg_handler(msg);\n            return messages.next().then(processIteratorResult);\n          }\n          return messages.next().then(processIteratorResult);\n        })\n      }\n    }\n\n    JupyterCommManager.prototype.get_client_comm = function(plot_id, comm_id, msg_handler) {\n      if (comm_id in window.PyViz.comms) {\n        return window.PyViz.comms[comm_id];\n      } else if (window.comm_manager || ((window.Jupyter !== undefined) && (Jupyter.notebook.kernel != null))) {\n        var comm_manager = window.comm_manager || Jupyter.notebook.kernel.comm_manager;\n        var comm = comm_manager.new_comm(comm_id, {}, {}, {}, comm_id);\n        if (msg_handler) {\n          comm.on_msg(msg_handler);\n        }\n      } else if ((plot_id in window.PyViz.kernels) && (window.PyViz.kernels[plot_id])) {\n        var comm = window.PyViz.kernels[plot_id].connectToComm(comm_id);\n        comm.open();\n        if (msg_handler) {\n          comm.onMsg = msg_handler;\n        }\n      } else if (typeof google != 'undefined' && google.colab.kernel != null) {\n        var comm_promise = google.colab.kernel.comms.open(comm_id)\n        comm_promise.then((comm) => {\n          window.PyViz.comms[comm_id] = comm;\n          if (msg_handler) {\n            var messages = comm.messages[Symbol.asyncIterator]();\n            function processIteratorResult(result) {\n              var message = result.value;\n              var content = {data: message.data};\n              var metadata = message.metadata || {comm_id};\n              var msg = {content, metadata}\n              msg_handler(msg);\n              return messages.next().then(processIteratorResult);\n            }\n            return messages.next().then(processIteratorResult);\n          }\n        })\n        var sendClosure = (data, metadata, buffers, disposeOnDone) => {\n          return comm_promise.then((comm) => {\n            comm.send(data, metadata, buffers, disposeOnDone);\n          });\n        };\n        var comm = {\n          send: sendClosure\n        };\n      }\n      window.PyViz.comms[comm_id] = comm;\n      return comm;\n    }\n    window.PyViz.comm_manager = new JupyterCommManager();\n    \n\n\nvar JS_MIME_TYPE = 'application/javascript';\nvar HTML_MIME_TYPE = 'text/html';\nvar EXEC_MIME_TYPE = 'application/vnd.holoviews_exec.v0+json';\nvar CLASS_NAME = 'output';\n\n/**\n * Render data to the DOM node\n */\nfunction render(props, node) {\n  var div = document.createElement(\"div\");\n  var script = document.createElement(\"script\");\n  node.appendChild(div);\n  node.appendChild(script);\n}\n\n/**\n * Handle when a new output is added\n */\nfunction handle_add_output(event, handle) {\n  var output_area = handle.output_area;\n  var output = handle.output;\n  if ((output.data == undefined) || (!output.data.hasOwnProperty(EXEC_MIME_TYPE))) {\n    return\n  }\n  var id = output.metadata[EXEC_MIME_TYPE][\"id\"];\n  var toinsert = output_area.element.find(\".\" + CLASS_NAME.split(' ')[0]);\n  if (id !== undefined) {\n    var nchildren = toinsert.length;\n    var html_node = toinsert[nchildren-1].children[0];\n    html_node.innerHTML = output.data[HTML_MIME_TYPE];\n    var scripts = [];\n    var nodelist = html_node.querySelectorAll(\"script\");\n    for (var i in nodelist) {\n      if (nodelist.hasOwnProperty(i)) {\n        scripts.push(nodelist[i])\n      }\n    }\n\n    scripts.forEach( function (oldScript) {\n      var newScript = document.createElement(\"script\");\n      var attrs = [];\n      var nodemap = oldScript.attributes;\n      for (var j in nodemap) {\n        if (nodemap.hasOwnProperty(j)) {\n          attrs.push(nodemap[j])\n        }\n      }\n      attrs.forEach(function(attr) { newScript.setAttribute(attr.name, attr.value) });\n      newScript.appendChild(document.createTextNode(oldScript.innerHTML));\n      oldScript.parentNode.replaceChild(newScript, oldScript);\n    });\n    if (JS_MIME_TYPE in output.data) {\n      toinsert[nchildren-1].children[1].textContent = output.data[JS_MIME_TYPE];\n    }\n    output_area._hv_plot_id = id;\n    if ((window.Bokeh !== undefined) && (id in Bokeh.index)) {\n      window.PyViz.plot_index[id] = Bokeh.index[id];\n    } else {\n      window.PyViz.plot_index[id] = null;\n    }\n  } else if (output.metadata[EXEC_MIME_TYPE][\"server_id\"] !== undefined) {\n    var bk_div = document.createElement(\"div\");\n    bk_div.innerHTML = output.data[HTML_MIME_TYPE];\n    var script_attrs = bk_div.children[0].attributes;\n    for (var i = 0; i < script_attrs.length; i++) {\n      toinsert[toinsert.length - 1].childNodes[1].setAttribute(script_attrs[i].name, script_attrs[i].value);\n    }\n    // store reference to server id on output_area\n    output_area._bokeh_server_id = output.metadata[EXEC_MIME_TYPE][\"server_id\"];\n  }\n}\n\n/**\n * Handle when an output is cleared or removed\n */\nfunction handle_clear_output(event, handle) {\n  var id = handle.cell.output_area._hv_plot_id;\n  var server_id = handle.cell.output_area._bokeh_server_id;\n  if (((id === undefined) || !(id in PyViz.plot_index)) && (server_id !== undefined)) { return; }\n  var comm = window.PyViz.comm_manager.get_client_comm(\"hv-extension-comm\", \"hv-extension-comm\", function () {});\n  if (server_id !== null) {\n    comm.send({event_type: 'server_delete', 'id': server_id});\n    return;\n  } else if (comm !== null) {\n    comm.send({event_type: 'delete', 'id': id});\n  }\n  delete PyViz.plot_index[id];\n  if ((window.Bokeh !== undefined) & (id in window.Bokeh.index)) {\n    var doc = window.Bokeh.index[id].model.document\n    doc.clear();\n    const i = window.Bokeh.documents.indexOf(doc);\n    if (i > -1) {\n      window.Bokeh.documents.splice(i, 1);\n    }\n  }\n}\n\n/**\n * Handle kernel restart event\n */\nfunction handle_kernel_cleanup(event, handle) {\n  delete PyViz.comms[\"hv-extension-comm\"];\n  window.PyViz.plot_index = {}\n}\n\n/**\n * Handle update_display_data messages\n */\nfunction handle_update_output(event, handle) {\n  handle_clear_output(event, {cell: {output_area: handle.output_area}})\n  handle_add_output(event, handle)\n}\n\nfunction register_renderer(events, OutputArea) {\n  function append_mime(data, metadata, element) {\n    // create a DOM node to render to\n    var toinsert = this.create_output_subarea(\n    metadata,\n    CLASS_NAME,\n    EXEC_MIME_TYPE\n    );\n    this.keyboard_manager.register_events(toinsert);\n    // Render to node\n    var props = {data: data, metadata: metadata[EXEC_MIME_TYPE]};\n    render(props, toinsert[0]);\n    element.append(toinsert);\n    return toinsert\n  }\n\n  events.on('output_added.OutputArea', handle_add_output);\n  events.on('output_updated.OutputArea', handle_update_output);\n  events.on('clear_output.CodeCell', handle_clear_output);\n  events.on('delete.Cell', handle_clear_output);\n  events.on('kernel_ready.Kernel', handle_kernel_cleanup);\n\n  OutputArea.prototype.register_mime_type(EXEC_MIME_TYPE, append_mime, {\n    safe: true,\n    index: 0\n  });\n}\n\nif (window.Jupyter !== undefined) {\n  try {\n    var events = require('base/js/events');\n    var OutputArea = require('notebook/js/outputarea').OutputArea;\n    if (OutputArea.prototype.mime_types().indexOf(EXEC_MIME_TYPE) == -1) {\n      register_renderer(events, OutputArea);\n    }\n  } catch(err) {\n  }\n}\n",
      "application/vnd.holoviews_load.v0+json": ""
     },
     "metadata": {},
     "output_type": "display_data"
    },
    {
     "data": {
      "application/vnd.holoviews_exec.v0+json": "",
      "text/html": [
       "<div id='39b1520a-07a5-46ca-9a71-32f84bdb7271'>\n",
       "  <div id=\"ce091a76-83ac-490c-87a0-9101ac5c3525\" data-root-id=\"39b1520a-07a5-46ca-9a71-32f84bdb7271\" style=\"display: contents;\"></div>\n",
       "</div>\n",
       "<script type=\"application/javascript\">(function(root) {\n",
       "  var docs_json = {\"354678d6-3365-422a-a2f9-65830579a189\":{\"version\":\"3.7.2\",\"title\":\"Bokeh Application\",\"roots\":[{\"type\":\"object\",\"name\":\"panel.models.browser.BrowserInfo\",\"id\":\"39b1520a-07a5-46ca-9a71-32f84bdb7271\"},{\"type\":\"object\",\"name\":\"panel.models.comm_manager.CommManager\",\"id\":\"a9e4c559-b28e-4a60-9096-6b5da38445ed\",\"attributes\":{\"plot_id\":\"39b1520a-07a5-46ca-9a71-32f84bdb7271\",\"comm_id\":\"25e27f06d51f40d8a5b67d330146b0e6\",\"client_comm_id\":\"716b05d98ba341059fe8a33cebd41af5\"}}],\"defs\":[{\"type\":\"model\",\"name\":\"ReactiveHTML1\"},{\"type\":\"model\",\"name\":\"FlexBox1\",\"properties\":[{\"name\":\"align_content\",\"kind\":\"Any\",\"default\":\"flex-start\"},{\"name\":\"align_items\",\"kind\":\"Any\",\"default\":\"flex-start\"},{\"name\":\"flex_direction\",\"kind\":\"Any\",\"default\":\"row\"},{\"name\":\"flex_wrap\",\"kind\":\"Any\",\"default\":\"wrap\"},{\"name\":\"gap\",\"kind\":\"Any\",\"default\":\"\"},{\"name\":\"justify_content\",\"kind\":\"Any\",\"default\":\"flex-start\"}]},{\"type\":\"model\",\"name\":\"FloatPanel1\",\"properties\":[{\"name\":\"config\",\"kind\":\"Any\",\"default\":{\"type\":\"map\"}},{\"name\":\"contained\",\"kind\":\"Any\",\"default\":true},{\"name\":\"position\",\"kind\":\"Any\",\"default\":\"right-top\"},{\"name\":\"offsetx\",\"kind\":\"Any\",\"default\":null},{\"name\":\"offsety\",\"kind\":\"Any\",\"default\":null},{\"name\":\"theme\",\"kind\":\"Any\",\"default\":\"primary\"},{\"name\":\"status\",\"kind\":\"Any\",\"default\":\"normalized\"}]},{\"type\":\"model\",\"name\":\"GridStack1\",\"properties\":[{\"name\":\"ncols\",\"kind\":\"Any\",\"default\":null},{\"name\":\"nrows\",\"kind\":\"Any\",\"default\":null},{\"name\":\"allow_resize\",\"kind\":\"Any\",\"default\":true},{\"name\":\"allow_drag\",\"kind\":\"Any\",\"default\":true},{\"name\":\"state\",\"kind\":\"Any\",\"default\":[]}]},{\"type\":\"model\",\"name\":\"drag1\",\"properties\":[{\"name\":\"slider_width\",\"kind\":\"Any\",\"default\":5},{\"name\":\"slider_color\",\"kind\":\"Any\",\"default\":\"black\"},{\"name\":\"value\",\"kind\":\"Any\",\"default\":50}]},{\"type\":\"model\",\"name\":\"click1\",\"properties\":[{\"name\":\"terminal_output\",\"kind\":\"Any\",\"default\":\"\"},{\"name\":\"debug_name\",\"kind\":\"Any\",\"default\":\"\"},{\"name\":\"clears\",\"kind\":\"Any\",\"default\":0}]},{\"type\":\"model\",\"name\":\"FastWrapper1\",\"properties\":[{\"name\":\"object\",\"kind\":\"Any\",\"default\":null},{\"name\":\"style\",\"kind\":\"Any\",\"default\":null}]},{\"type\":\"model\",\"name\":\"NotificationArea1\",\"properties\":[{\"name\":\"js_events\",\"kind\":\"Any\",\"default\":{\"type\":\"map\"}},{\"name\":\"max_notifications\",\"kind\":\"Any\",\"default\":5},{\"name\":\"notifications\",\"kind\":\"Any\",\"default\":[]},{\"name\":\"position\",\"kind\":\"Any\",\"default\":\"bottom-right\"},{\"name\":\"_clear\",\"kind\":\"Any\",\"default\":0},{\"name\":\"types\",\"kind\":\"Any\",\"default\":[{\"type\":\"map\",\"entries\":[[\"type\",\"warning\"],[\"background\",\"#ffc107\"],[\"icon\",{\"type\":\"map\",\"entries\":[[\"className\",\"fas fa-exclamation-triangle\"],[\"tagName\",\"i\"],[\"color\",\"white\"]]}]]},{\"type\":\"map\",\"entries\":[[\"type\",\"info\"],[\"background\",\"#007bff\"],[\"icon\",{\"type\":\"map\",\"entries\":[[\"className\",\"fas fa-info-circle\"],[\"tagName\",\"i\"],[\"color\",\"white\"]]}]]}]}]},{\"type\":\"model\",\"name\":\"Notification\",\"properties\":[{\"name\":\"background\",\"kind\":\"Any\",\"default\":null},{\"name\":\"duration\",\"kind\":\"Any\",\"default\":3000},{\"name\":\"icon\",\"kind\":\"Any\",\"default\":null},{\"name\":\"message\",\"kind\":\"Any\",\"default\":\"\"},{\"name\":\"notification_type\",\"kind\":\"Any\",\"default\":null},{\"name\":\"_rendered\",\"kind\":\"Any\",\"default\":false},{\"name\":\"_destroyed\",\"kind\":\"Any\",\"default\":false}]},{\"type\":\"model\",\"name\":\"TemplateActions1\",\"properties\":[{\"name\":\"open_modal\",\"kind\":\"Any\",\"default\":0},{\"name\":\"close_modal\",\"kind\":\"Any\",\"default\":0}]},{\"type\":\"model\",\"name\":\"BootstrapTemplateActions1\",\"properties\":[{\"name\":\"open_modal\",\"kind\":\"Any\",\"default\":0},{\"name\":\"close_modal\",\"kind\":\"Any\",\"default\":0}]},{\"type\":\"model\",\"name\":\"TemplateEditor1\",\"properties\":[{\"name\":\"layout\",\"kind\":\"Any\",\"default\":[]}]},{\"type\":\"model\",\"name\":\"MaterialTemplateActions1\",\"properties\":[{\"name\":\"open_modal\",\"kind\":\"Any\",\"default\":0},{\"name\":\"close_modal\",\"kind\":\"Any\",\"default\":0}]},{\"type\":\"model\",\"name\":\"ReactiveESM1\",\"properties\":[{\"name\":\"esm_constants\",\"kind\":\"Any\",\"default\":{\"type\":\"map\"}}]},{\"type\":\"model\",\"name\":\"JSComponent1\",\"properties\":[{\"name\":\"esm_constants\",\"kind\":\"Any\",\"default\":{\"type\":\"map\"}}]},{\"type\":\"model\",\"name\":\"ReactComponent1\",\"properties\":[{\"name\":\"esm_constants\",\"kind\":\"Any\",\"default\":{\"type\":\"map\"}}]},{\"type\":\"model\",\"name\":\"AnyWidgetComponent1\",\"properties\":[{\"name\":\"esm_constants\",\"kind\":\"Any\",\"default\":{\"type\":\"map\"}}]},{\"type\":\"model\",\"name\":\"request_value1\",\"properties\":[{\"name\":\"fill\",\"kind\":\"Any\",\"default\":\"none\"},{\"name\":\"_synced\",\"kind\":\"Any\",\"default\":null},{\"name\":\"_request_sync\",\"kind\":\"Any\",\"default\":0}]}]}};\n",
       "  var render_items = [{\"docid\":\"354678d6-3365-422a-a2f9-65830579a189\",\"roots\":{\"39b1520a-07a5-46ca-9a71-32f84bdb7271\":\"ce091a76-83ac-490c-87a0-9101ac5c3525\"},\"root_ids\":[\"39b1520a-07a5-46ca-9a71-32f84bdb7271\"]}];\n",
       "  var docs = Object.values(docs_json)\n",
       "  if (!docs) {\n",
       "    return\n",
       "  }\n",
       "  const py_version = docs[0].version.replace('rc', '-rc.').replace('.dev', '-dev.')\n",
       "  async function embed_document(root) {\n",
       "    var Bokeh = get_bokeh(root)\n",
       "    await Bokeh.embed.embed_items_notebook(docs_json, render_items);\n",
       "    for (const render_item of render_items) {\n",
       "      for (const root_id of render_item.root_ids) {\n",
       "\tconst id_el = document.getElementById(root_id)\n",
       "\tif (id_el.children.length && id_el.children[0].hasAttribute('data-root-id')) {\n",
       "\t  const root_el = id_el.children[0]\n",
       "\t  root_el.id = root_el.id + '-rendered'\n",
       "\t  for (const child of root_el.children) {\n",
       "            // Ensure JupyterLab does not capture keyboard shortcuts\n",
       "            // see: https://jupyterlab.readthedocs.io/en/4.1.x/extension/notebook.html#keyboard-interaction-model\n",
       "\t    child.setAttribute('data-lm-suppress-shortcuts', 'true')\n",
       "\t  }\n",
       "\t}\n",
       "      }\n",
       "    }\n",
       "  }\n",
       "  function get_bokeh(root) {\n",
       "    if (root.Bokeh === undefined) {\n",
       "      return null\n",
       "    } else if (root.Bokeh.version !== py_version) {\n",
       "      if (root.Bokeh.versions === undefined || !root.Bokeh.versions.has(py_version)) {\n",
       "\treturn null\n",
       "      }\n",
       "      return root.Bokeh.versions.get(py_version);\n",
       "    } else if (root.Bokeh.version === py_version) {\n",
       "      return root.Bokeh\n",
       "    }\n",
       "    return null\n",
       "  }\n",
       "  function is_loaded(root) {\n",
       "    var Bokeh = get_bokeh(root)\n",
       "    return (Bokeh != null && Bokeh.Panel !== undefined)\n",
       "  }\n",
       "  if (is_loaded(root)) {\n",
       "    embed_document(root);\n",
       "  } else {\n",
       "    var attempts = 0;\n",
       "    var timer = setInterval(function(root) {\n",
       "      if (is_loaded(root)) {\n",
       "        clearInterval(timer);\n",
       "        embed_document(root);\n",
       "      } else if (document.readyState == \"complete\") {\n",
       "        attempts++;\n",
       "        if (attempts > 200) {\n",
       "          clearInterval(timer);\n",
       "\t  var Bokeh = get_bokeh(root)\n",
       "\t  if (Bokeh == null || Bokeh.Panel == null) {\n",
       "            console.warn(\"Panel: ERROR: Unable to run Panel code because Bokeh or Panel library is missing\");\n",
       "\t  } else {\n",
       "\t    console.warn(\"Panel: WARNING: Attempting to render but not all required libraries could be resolved.\")\n",
       "\t    embed_document(root)\n",
       "\t  }\n",
       "        }\n",
       "      }\n",
       "    }, 25, root)\n",
       "  }\n",
       "})(window);</script>"
      ]
     },
     "metadata": {
      "application/vnd.holoviews_exec.v0+json": {
       "id": "39b1520a-07a5-46ca-9a71-32f84bdb7271"
      }
     },
     "output_type": "display_data"
    }
   ],
   "source": [
    "from bs4 import BeautifulSoup\n",
    "# import pandas as pd\n",
    "from datetime import datetime, timedelta\n",
    "from itertools import combinations\n",
    "import json\n",
    "import requests\n",
    "import math\n",
    "from typing import Optional, List, Dict\n",
    "import os\n",
    "\n",
    "from pydantic import BaseModel\n",
    "from typing import Mapping\n",
    "import numpy as np\n",
    "import polars as pl\n",
    "import hvplot.polars\n",
    "import pandas as pd\n",
    "import altair as alt\n",
    "import math\n",
    "\n",
    "from shared.utils import formalize_data_with_str\n",
    "from shared.random_rules import RandomRules"
   ]
  },
  {
   "cell_type": "code",
   "execution_count": 12,
   "metadata": {},
   "outputs": [],
   "source": [
    "rr = RandomRules(\n",
    "  TOTAL_NUMBERS = 50,\n",
    "  CHOOSE = 6,\n",
    "  MAX_PRIMES = 3,\n",
    "  N_VALUES=[\"1\", \"2\", \"3\"],\n",
    "  # Rangos de valores de las bolillas\n",
    "  MIN_B_VALUES = [1, 2, 3, 4, 5, 6],\n",
    "  MAX_B_VALUES = [45, 46, 47, 48, 49, 50]\n",
    ")"
   ]
  },
  {
   "cell_type": "code",
   "execution_count": 13,
   "metadata": {},
   "outputs": [],
   "source": [
    "url = 'https://resultados.latinka.com.pe/i.do?m=historico&t=0&s=41'\n",
    "response = requests.get(url)\n",
    "soup = BeautifulSoup(response.text, 'html.parser')\n",
    "\n",
    "tables = soup.select('table')\n",
    "rows = tables[1].find_all('tr')"
   ]
  },
  {
   "cell_type": "code",
   "execution_count": 43,
   "metadata": {},
   "outputs": [
    {
     "name": "stdout",
     "output_type": "stream",
     "text": [
      "TOTAL_LINES=2475\n"
     ]
    },
    {
     "data": {
      "text/html": [
       "<div><style>\n",
       ".dataframe > thead > tr,\n",
       ".dataframe > tbody > tr {\n",
       "  text-align: right;\n",
       "  white-space: pre-wrap;\n",
       "}\n",
       "</style>\n",
       "<small>shape: (10, 30)</small><table border=\"1\" class=\"dataframe\"><thead><tr><th>fecha</th><th>sorteo</th><th>bolillas</th><th>yapa</th><th>adicionales</th><th>sorteo_extra</th><th>id</th><th>combo</th><th>b1</th><th>b2</th><th>b3</th><th>b4</th><th>b5</th><th>b6</th><th>str_b1</th><th>str_b2</th><th>str_b3</th><th>str_b4</th><th>str_b5</th><th>str_b6</th><th>post_str_b1</th><th>post_str_b2</th><th>post_str_b3</th><th>post_str_b4</th><th>post_str_b5</th><th>post_str_blast</th><th>is_rare_combination</th><th>reason</th><th>jumps_map</th><th>unijump</th></tr><tr><td>str</td><td>str</td><td>str</td><td>str</td><td>str</td><td>str</td><td>str</td><td>array[u8, 6]</td><td>u8</td><td>u8</td><td>u8</td><td>u8</td><td>u8</td><td>u8</td><td>str</td><td>str</td><td>str</td><td>str</td><td>str</td><td>str</td><td>str</td><td>str</td><td>str</td><td>str</td><td>str</td><td>str</td><td>bool</td><td>u8</td><td>str</td><td>i64</td></tr></thead><tbody><tr><td>&quot;11/05/2025&quot;</td><td>&quot;1193&quot;</td><td>&quot;46 21 49 45 03 43&quot;</td><td>&quot;17&quot;</td><td>&quot;20 30 32 44&quot;</td><td>&quot;Promoción Sí o Sí&quot;</td><td>&quot;032143454649&quot;</td><td>[3, 21, … 49]</td><td>3</td><td>21</td><td>43</td><td>45</td><td>46</td><td>49</td><td>&quot;03&quot;</td><td>&quot;21&quot;</td><td>&quot;43&quot;</td><td>&quot;45&quot;</td><td>&quot;46&quot;</td><td>&quot;49&quot;</td><td>null</td><td>null</td><td>null</td><td>null</td><td>null</td><td>null</td><td>false</td><td>0</td><td>&quot;18_22_02_01_03&quot;</td><td>-59</td></tr><tr><td>&quot;07/05/2025&quot;</td><td>&quot;1192&quot;</td><td>&quot;48 02 38 50 33 35&quot;</td><td>&quot;49&quot;</td><td>&quot;20 16&quot;</td><td>&quot;Promoción Sí o Sí&quot;</td><td>&quot;023335384850&quot;</td><td>[2, 33, … 50]</td><td>2</td><td>33</td><td>35</td><td>38</td><td>48</td><td>50</td><td>&quot;02&quot;</td><td>&quot;33&quot;</td><td>&quot;35&quot;</td><td>&quot;38&quot;</td><td>&quot;48&quot;</td><td>&quot;50&quot;</td><td>&quot;03&quot;</td><td>&quot;21&quot;</td><td>&quot;43&quot;</td><td>&quot;45&quot;</td><td>&quot;46&quot;</td><td>&quot;49&quot;</td><td>true</td><td>16</td><td>&quot;31_02_03_10_02&quot;</td><td>3</td></tr><tr><td>&quot;04/05/2025&quot;</td><td>&quot;1191&quot;</td><td>&quot;09 35 19 15 37 10&quot;</td><td>&quot;46&quot;</td><td>&quot;25 02 38&quot;</td><td>&quot;Promoción Sí o Sí&quot;</td><td>&quot;091015193537&quot;</td><td>[9, 10, … 37]</td><td>9</td><td>10</td><td>15</td><td>19</td><td>35</td><td>37</td><td>&quot;09&quot;</td><td>&quot;10&quot;</td><td>&quot;15&quot;</td><td>&quot;19&quot;</td><td>&quot;35&quot;</td><td>&quot;37&quot;</td><td>&quot;02&quot;</td><td>&quot;33&quot;</td><td>&quot;35&quot;</td><td>&quot;38&quot;</td><td>&quot;48&quot;</td><td>&quot;50&quot;</td><td>true</td><td>16</td><td>&quot;01_05_04_16_02&quot;</td><td>-57</td></tr><tr><td>&quot;30/04/2025&quot;</td><td>&quot;1190&quot;</td><td>&quot;11 36 33 06 02 16&quot;</td><td>&quot;37&quot;</td><td>&quot;14 07 10 01&quot;</td><td>&quot;Promoción Sí o Sí&quot;</td><td>&quot;020611163336&quot;</td><td>[2, 6, … 36]</td><td>2</td><td>6</td><td>11</td><td>16</td><td>33</td><td>36</td><td>&quot;02&quot;</td><td>&quot;06&quot;</td><td>&quot;11&quot;</td><td>&quot;16&quot;</td><td>&quot;33&quot;</td><td>&quot;36&quot;</td><td>&quot;09&quot;</td><td>&quot;10&quot;</td><td>&quot;15&quot;</td><td>&quot;19&quot;</td><td>&quot;35&quot;</td><td>&quot;37&quot;</td><td>true</td><td>8</td><td>&quot;04_05_05_17_03&quot;</td><td>-51</td></tr><tr><td>&quot;27/04/2025&quot;</td><td>&quot;1189&quot;</td><td>&quot;46 33 21 08 07 41&quot;</td><td>&quot;39&quot;</td><td>&quot;36 09 37&quot;</td><td>&quot;Promoción Sí o Sí&quot;</td><td>&quot;070821334146&quot;</td><td>[7, 8, … 46]</td><td>7</td><td>8</td><td>21</td><td>33</td><td>41</td><td>46</td><td>&quot;07&quot;</td><td>&quot;08&quot;</td><td>&quot;21&quot;</td><td>&quot;33&quot;</td><td>&quot;41&quot;</td><td>&quot;46&quot;</td><td>&quot;02&quot;</td><td>&quot;06&quot;</td><td>&quot;11&quot;</td><td>&quot;16&quot;</td><td>&quot;33&quot;</td><td>&quot;36&quot;</td><td>false</td><td>0</td><td>&quot;01_13_12_08_05&quot;</td><td>-6</td></tr><tr><td>&quot;23/04/2025&quot;</td><td>&quot;1188&quot;</td><td>&quot;22 16 20 33 35 09&quot;</td><td>&quot;46&quot;</td><td>&quot;24&quot;</td><td>&quot;Promoción Sí o Sí&quot;</td><td>&quot;091620223335&quot;</td><td>[9, 16, … 35]</td><td>9</td><td>16</td><td>20</td><td>22</td><td>33</td><td>35</td><td>&quot;09&quot;</td><td>&quot;16&quot;</td><td>&quot;20&quot;</td><td>&quot;22&quot;</td><td>&quot;33&quot;</td><td>&quot;35&quot;</td><td>&quot;07&quot;</td><td>&quot;08&quot;</td><td>&quot;21&quot;</td><td>&quot;33&quot;</td><td>&quot;41&quot;</td><td>&quot;46&quot;</td><td>false</td><td>0</td><td>&quot;07_04_02_11_02&quot;</td><td>-39</td></tr><tr><td>&quot;20/04/2025&quot;</td><td>&quot;1187&quot;</td><td>&quot;33 02 06 42 34 11&quot;</td><td>&quot;37&quot;</td><td>&quot;49 20&quot;</td><td>&quot;Promoción Sí o Sí&quot;</td><td>&quot;020611333442&quot;</td><td>[2, 6, … 42]</td><td>2</td><td>6</td><td>11</td><td>33</td><td>34</td><td>42</td><td>&quot;02&quot;</td><td>&quot;06&quot;</td><td>&quot;11&quot;</td><td>&quot;33&quot;</td><td>&quot;34&quot;</td><td>&quot;42&quot;</td><td>&quot;09&quot;</td><td>&quot;16&quot;</td><td>&quot;20&quot;</td><td>&quot;22&quot;</td><td>&quot;33&quot;</td><td>&quot;35&quot;</td><td>false</td><td>0</td><td>&quot;04_05_22_01_08&quot;</td><td>120</td></tr><tr><td>&quot;16/04/2025&quot;</td><td>&quot;1186&quot;</td><td>&quot;14 31 46 38 48 12&quot;</td><td>&quot;15&quot;</td><td>&quot;39 30&quot;</td><td>&quot;Promoción Sí o Sí&quot;</td><td>&quot;121431384648&quot;</td><td>[12, 14, … 48]</td><td>12</td><td>14</td><td>31</td><td>38</td><td>46</td><td>48</td><td>&quot;12&quot;</td><td>&quot;14&quot;</td><td>&quot;31&quot;</td><td>&quot;38&quot;</td><td>&quot;46&quot;</td><td>&quot;48&quot;</td><td>&quot;02&quot;</td><td>&quot;06&quot;</td><td>&quot;11&quot;</td><td>&quot;33&quot;</td><td>&quot;34&quot;</td><td>&quot;42&quot;</td><td>false</td><td>0</td><td>&quot;02_17_07_08_02&quot;</td><td>-54</td></tr><tr><td>&quot;13/04/2025&quot;</td><td>&quot;1185&quot;</td><td>&quot;22 36 39 48 46 44&quot;</td><td>&quot;28&quot;</td><td>&quot;09 40&quot;</td><td>&quot;Promoción Sí o Sí&quot;</td><td>&quot;223639444648&quot;</td><td>[22, 36, … 48]</td><td>22</td><td>36</td><td>39</td><td>44</td><td>46</td><td>48</td><td>&quot;22&quot;</td><td>&quot;36&quot;</td><td>&quot;39&quot;</td><td>&quot;44&quot;</td><td>&quot;46&quot;</td><td>&quot;48&quot;</td><td>&quot;12&quot;</td><td>&quot;14&quot;</td><td>&quot;31&quot;</td><td>&quot;38&quot;</td><td>&quot;46&quot;</td><td>&quot;48&quot;</td><td>true</td><td>24</td><td>&quot;14_03_05_02_02&quot;</td><td>26</td></tr><tr><td>&quot;09/04/2025&quot;</td><td>&quot;1184&quot;</td><td>&quot;35 24 49 01 12 39&quot;</td><td>&quot;21&quot;</td><td>&quot;13 07 26&quot;</td><td>&quot;Promoción Sí o Sí&quot;</td><td>&quot;011224353949&quot;</td><td>[1, 12, … 49]</td><td>1</td><td>12</td><td>24</td><td>35</td><td>39</td><td>49</td><td>&quot;01&quot;</td><td>&quot;12&quot;</td><td>&quot;24&quot;</td><td>&quot;35&quot;</td><td>&quot;39&quot;</td><td>&quot;49&quot;</td><td>&quot;22&quot;</td><td>&quot;36&quot;</td><td>&quot;39&quot;</td><td>&quot;44&quot;</td><td>&quot;46&quot;</td><td>&quot;48&quot;</td><td>false</td><td>0</td><td>&quot;11_12_11_04_10&quot;</td><td>23</td></tr></tbody></table></div>"
      ],
      "text/plain": [
       "shape: (10, 30)\n",
       "┌────────────┬────────┬───────────────┬──────┬───┬───────────────┬────────┬──────────────┬─────────┐\n",
       "│ fecha      ┆ sorteo ┆ bolillas      ┆ yapa ┆ … ┆ is_rare_combi ┆ reason ┆ jumps_map    ┆ unijump │\n",
       "│ ---        ┆ ---    ┆ ---           ┆ ---  ┆   ┆ nation        ┆ ---    ┆ ---          ┆ ---     │\n",
       "│ str        ┆ str    ┆ str           ┆ str  ┆   ┆ ---           ┆ u8     ┆ str          ┆ i64     │\n",
       "│            ┆        ┆               ┆      ┆   ┆ bool          ┆        ┆              ┆         │\n",
       "╞════════════╪════════╪═══════════════╪══════╪═══╪═══════════════╪════════╪══════════════╪═════════╡\n",
       "│ 11/05/2025 ┆ 1193   ┆ 46 21 49 45   ┆ 17   ┆ … ┆ false         ┆ 0      ┆ 18_22_02_01_ ┆ -59     │\n",
       "│            ┆        ┆ 03 43         ┆      ┆   ┆               ┆        ┆ 03           ┆         │\n",
       "│ 07/05/2025 ┆ 1192   ┆ 48 02 38 50   ┆ 49   ┆ … ┆ true          ┆ 16     ┆ 31_02_03_10_ ┆ 3       │\n",
       "│            ┆        ┆ 33 35         ┆      ┆   ┆               ┆        ┆ 02           ┆         │\n",
       "│ 04/05/2025 ┆ 1191   ┆ 09 35 19 15   ┆ 46   ┆ … ┆ true          ┆ 16     ┆ 01_05_04_16_ ┆ -57     │\n",
       "│            ┆        ┆ 37 10         ┆      ┆   ┆               ┆        ┆ 02           ┆         │\n",
       "│ 30/04/2025 ┆ 1190   ┆ 11 36 33 06   ┆ 37   ┆ … ┆ true          ┆ 8      ┆ 04_05_05_17_ ┆ -51     │\n",
       "│            ┆        ┆ 02 16         ┆      ┆   ┆               ┆        ┆ 03           ┆         │\n",
       "│ 27/04/2025 ┆ 1189   ┆ 46 33 21 08   ┆ 39   ┆ … ┆ false         ┆ 0      ┆ 01_13_12_08_ ┆ -6      │\n",
       "│            ┆        ┆ 07 41         ┆      ┆   ┆               ┆        ┆ 05           ┆         │\n",
       "│ 23/04/2025 ┆ 1188   ┆ 22 16 20 33   ┆ 46   ┆ … ┆ false         ┆ 0      ┆ 07_04_02_11_ ┆ -39     │\n",
       "│            ┆        ┆ 35 09         ┆      ┆   ┆               ┆        ┆ 02           ┆         │\n",
       "│ 20/04/2025 ┆ 1187   ┆ 33 02 06 42   ┆ 37   ┆ … ┆ false         ┆ 0      ┆ 04_05_22_01_ ┆ 120     │\n",
       "│            ┆        ┆ 34 11         ┆      ┆   ┆               ┆        ┆ 08           ┆         │\n",
       "│ 16/04/2025 ┆ 1186   ┆ 14 31 46 38   ┆ 15   ┆ … ┆ false         ┆ 0      ┆ 02_17_07_08_ ┆ -54     │\n",
       "│            ┆        ┆ 48 12         ┆      ┆   ┆               ┆        ┆ 02           ┆         │\n",
       "│ 13/04/2025 ┆ 1185   ┆ 22 36 39 48   ┆ 28   ┆ … ┆ true          ┆ 24     ┆ 14_03_05_02_ ┆ 26      │\n",
       "│            ┆        ┆ 46 44         ┆      ┆   ┆               ┆        ┆ 02           ┆         │\n",
       "│ 09/04/2025 ┆ 1184   ┆ 35 24 49 01   ┆ 21   ┆ … ┆ false         ┆ 0      ┆ 11_12_11_04_ ┆ 23      │\n",
       "│            ┆        ┆ 12 39         ┆      ┆   ┆               ┆        ┆ 10           ┆         │\n",
       "└────────────┴────────┴───────────────┴──────┴───┴───────────────┴────────┴──────────────┴─────────┘"
      ]
     },
     "metadata": {},
     "output_type": "display_data"
    }
   ],
   "source": [
    "lst = []\n",
    "post_str_b1 = None\n",
    "post_str_b2 = None\n",
    "post_str_b3 = None\n",
    "post_str_b4 = None\n",
    "post_str_b5 = None\n",
    "post_str_blast = None\n",
    "for row in rows:\n",
    "  cols = [data.text.strip() for data in row.find_all('td')]\n",
    "  \n",
    "  id, bolillas_int, str_combo = formalize_data_with_str(bolillas_str=cols[2])\n",
    "  cols.append(id)\n",
    "  cols.append(bolillas_int)\n",
    "  cols.extend([b for b in bolillas_int])\n",
    "  cols.extend(str_combo)\n",
    "  cols.append(post_str_b1)\n",
    "  cols.append(post_str_b2)\n",
    "  cols.append(post_str_b3)\n",
    "  cols.append(post_str_b4)\n",
    "  cols.append(post_str_b5)\n",
    "  cols.append(post_str_blast)\n",
    "\n",
    "  is_rare, reason = rr.is_rare_combination(bolillas_int, id)\n",
    "  cols.append(is_rare)\n",
    "  cols.append(reason)\n",
    "\n",
    "  cols.append(rr.jumps_map(bolillas_int))\n",
    "  cols.append(rr.unijump(bolillas_int))\n",
    "  \n",
    "  lst.append(cols)\n",
    "\n",
    "  post_str_b1 = str_combo[0]\n",
    "  post_str_b2 = str_combo[1]\n",
    "  post_str_b3 = str_combo[2]\n",
    "  post_str_b4 = str_combo[3]\n",
    "  post_str_b5 = str_combo[4]\n",
    "  post_str_blast = str_combo[-1]\n",
    "\n",
    "with open('./gn_tnk_v3.json', 'w') as file: \n",
    "  json.dump(lst, file)\n",
    "\n",
    "dfRows = pl.DataFrame(\n",
    "  lst,\n",
    "  schema=[\n",
    "    'fecha', 'sorteo', 'bolillas', 'yapa', 'adicionales', 'sorteo_extra',\n",
    "    'id', 'combo', 'b1', 'b2', 'b3', 'b4', 'b5', 'b6',\n",
    "    'str_b1', 'str_b2', 'str_b3', 'str_b4', 'str_b5', 'str_b6',\n",
    "    'post_str_b1', 'post_str_b2', 'post_str_b3', 'post_str_b4', 'post_str_b5', 'post_str_blast',\n",
    "    'is_rare_combination', 'reason',\n",
    "    \"jumps_map\", \"unijump\"\n",
    "  ],\n",
    "  schema_overrides={\n",
    "    'combo': pl.Array(pl.UInt8, 6),\n",
    "    'b1': pl.UInt8,\n",
    "    'b2': pl.UInt8,\n",
    "    'b3': pl.UInt8,\n",
    "    'b4': pl.UInt8,\n",
    "    'b5': pl.UInt8,\n",
    "    'b6': pl.UInt8,\n",
    "    'reason': pl.UInt8\n",
    "  },\n",
    "  orient='row'\n",
    ")\n",
    "\n",
    "TOTAL_LINES = len(dfRows)\n",
    "print(f'{TOTAL_LINES=}')\n",
    "display(dfRows.head(10))"
   ]
  },
  {
   "cell_type": "code",
   "execution_count": 44,
   "metadata": {},
   "outputs": [
    {
     "data": {
      "text/plain": [
       "21"
      ]
     },
     "execution_count": 44,
     "metadata": {},
     "output_type": "execute_result"
    }
   ],
   "source": [
    "dfRows.item(0, 'b2')"
   ]
  },
  {
   "cell_type": "code",
   "execution_count": 45,
   "metadata": {},
   "outputs": [],
   "source": [
    "import holoviews as hv\n",
    "def plot_post_col (col: str, post_col: str, test_value: str | None = None):\n",
    "  if test_value == None:\n",
    "    test_value = dfRows.item(0, col)\n",
    "    print(f'Setting {test_value=}')\n",
    "\n",
    "  df_viz = dfRows \\\n",
    "    .filter(\n",
    "      pl.col(col) == test_value,\n",
    "      pl.col(post_col).is_not_null()\n",
    "    ) \\\n",
    "    .group_by(\n",
    "      post_col\n",
    "    ).agg(pl.count(post_col).alias('count')) \\\n",
    "    .sort(\"count\", descending=True)\n",
    "  \n",
    "  \n",
    "  df_10_last = dfRows \\\n",
    "    .filter(\n",
    "      pl.col(col) == test_value,\n",
    "      pl.col(post_col).is_not_null()\n",
    "    ) \\\n",
    "    .head(10)\n",
    "  \n",
    "  # Agrega una columna que sea el porcentaje de la frecuencia relativa\n",
    "  total = df_viz['count'].sum()\n",
    "  df_viz = df_viz.with_columns(\n",
    "    ( (pl.col('count') / total) * 100 ).alias('percent')\n",
    "  )\n",
    "\n",
    "  mean_percent = df_viz['percent'].mean()\n",
    "  mean_percent_75 = mean_percent * 75 / 50\n",
    "  mean_percent_25 = mean_percent * 25 / 50\n",
    "\n",
    "  chart = df_viz.hvplot.bar(\n",
    "    x=post_col,\n",
    "    y='percent'\n",
    "  )\n",
    "\n",
    "  chart = chart * hv.HLine(mean_percent).opts(color='red')\n",
    "  chart = chart * hv.HLine(mean_percent_75).opts(color='blue')\n",
    "  chart = chart * hv.HLine(mean_percent_25).opts(color='blue')\n",
    "  \n",
    "  chart.opts(default_tools=[\"pan\"])\n",
    "\n",
    "  df_jumps_map = dfRows \\\n",
    "    .filter(\n",
    "      pl.col(col) == test_value,\n",
    "      pl.col(post_col).is_not_null()\n",
    "    ) \\\n",
    "    .group_by(\n",
    "      'jumps_map'\n",
    "    ).agg(pl.count('jumps_map').alias('count')) \\\n",
    "    .sort(\"count\", descending=True)\n",
    "  \n",
    "  df_unijump = dfRows \\\n",
    "    .filter(\n",
    "      pl.col(col) == test_value,\n",
    "      pl.col(post_col).is_not_null()\n",
    "    ) \\\n",
    "    .group_by(\n",
    "      'unijump'\n",
    "    ).agg(pl.count('unijump').alias('count')) \\\n",
    "    .sort(\"count\", descending=True)\n",
    "\n",
    "\n",
    "  print(f'df_viz FOR {col} = {test_value}')\n",
    "  display(df_viz)\n",
    "\n",
    "  display(chart)\n",
    "  \n",
    "\n",
    "  print(f'df_10_last FOR {col} = {test_value}')\n",
    "  last_results = list(set(df_10_last[post_col][0:3]))\n",
    "  print(f'Last 3 results {last_results=}')\n",
    "  display(df_10_last)\n",
    "  \n",
    "  print(f'df_jumps_map FOR {col} = {test_value}')\n",
    "  display(df_jumps_map)\n",
    "  # display(df_unijump)\n",
    "\n",
    "  print(f'df_unijump FOR {col} = {test_value}')\n",
    "  display(df_unijump)\n",
    "\n",
    "  lst_post_str_b = df_viz.filter(pl.col('percent') >= mean_percent)[post_col].to_list()\n",
    "  lst_jumps_map = df_jumps_map['jumps_map'].to_list() # Used to discard\n",
    "  \n",
    "  return lst_post_str_b, lst_jumps_map, last_results"
   ]
  },
  {
   "cell_type": "code",
   "execution_count": 46,
   "metadata": {},
   "outputs": [
    {
     "name": "stdout",
     "output_type": "stream",
     "text": [
      "Setting test_value='03'\n",
      "df_viz FOR str_b1 = 03\n"
     ]
    },
    {
     "data": {
      "text/html": [
       "<div><style>\n",
       ".dataframe > thead > tr,\n",
       ".dataframe > tbody > tr {\n",
       "  text-align: right;\n",
       "  white-space: pre-wrap;\n",
       "}\n",
       "</style>\n",
       "<small>shape: (23, 3)</small><table border=\"1\" class=\"dataframe\"><thead><tr><th>post_str_b1</th><th>count</th><th>percent</th></tr><tr><td>str</td><td>u32</td><td>f64</td></tr></thead><tbody><tr><td>&quot;02&quot;</td><td>31</td><td>13.191489</td></tr><tr><td>&quot;03&quot;</td><td>28</td><td>11.914894</td></tr><tr><td>&quot;01&quot;</td><td>25</td><td>10.638298</td></tr><tr><td>&quot;04&quot;</td><td>21</td><td>8.93617</td></tr><tr><td>&quot;05&quot;</td><td>14</td><td>5.957447</td></tr><tr><td>&hellip;</td><td>&hellip;</td><td>&hellip;</td></tr><tr><td>&quot;17&quot;</td><td>2</td><td>0.851064</td></tr><tr><td>&quot;25&quot;</td><td>2</td><td>0.851064</td></tr><tr><td>&quot;28&quot;</td><td>2</td><td>0.851064</td></tr><tr><td>&quot;30&quot;</td><td>1</td><td>0.425532</td></tr><tr><td>&quot;20&quot;</td><td>1</td><td>0.425532</td></tr></tbody></table></div>"
      ],
      "text/plain": [
       "shape: (23, 3)\n",
       "┌─────────────┬───────┬───────────┐\n",
       "│ post_str_b1 ┆ count ┆ percent   │\n",
       "│ ---         ┆ ---   ┆ ---       │\n",
       "│ str         ┆ u32   ┆ f64       │\n",
       "╞═════════════╪═══════╪═══════════╡\n",
       "│ 02          ┆ 31    ┆ 13.191489 │\n",
       "│ 03          ┆ 28    ┆ 11.914894 │\n",
       "│ 01          ┆ 25    ┆ 10.638298 │\n",
       "│ 04          ┆ 21    ┆ 8.93617   │\n",
       "│ 05          ┆ 14    ┆ 5.957447  │\n",
       "│ …           ┆ …     ┆ …         │\n",
       "│ 17          ┆ 2     ┆ 0.851064  │\n",
       "│ 25          ┆ 2     ┆ 0.851064  │\n",
       "│ 28          ┆ 2     ┆ 0.851064  │\n",
       "│ 30          ┆ 1     ┆ 0.425532  │\n",
       "│ 20          ┆ 1     ┆ 0.425532  │\n",
       "└─────────────┴───────┴───────────┘"
      ]
     },
     "metadata": {},
     "output_type": "display_data"
    },
    {
     "data": {},
     "metadata": {},
     "output_type": "display_data"
    },
    {
     "data": {
      "application/vnd.holoviews_exec.v0+json": "",
      "text/html": [
       "<div id='532845a1-1143-488c-8ec6-49365426e4d0'>\n",
       "  <div id=\"abaec937-6c80-4d77-82c0-683f826a3644\" data-root-id=\"532845a1-1143-488c-8ec6-49365426e4d0\" style=\"display: contents;\"></div>\n",
       "</div>\n",
       "<script type=\"application/javascript\">(function(root) {\n",
       "  var docs_json = {\"5074bea6-8d30-4429-a352-6b1dba6b8f36\":{\"version\":\"3.7.2\",\"title\":\"Bokeh Application\",\"roots\":[{\"type\":\"object\",\"name\":\"Row\",\"id\":\"532845a1-1143-488c-8ec6-49365426e4d0\",\"attributes\":{\"name\":\"Row00289\",\"tags\":[\"embedded\"],\"stylesheets\":[\"\\n:host(.pn-loading):before, .pn-loading:before {\\n  background-color: #c3c3c3;\\n  mask-size: auto calc(min(50%, 400px));\\n  -webkit-mask-size: auto calc(min(50%, 400px));\\n}\",{\"type\":\"object\",\"name\":\"ImportedStyleSheet\",\"id\":\"9f1eec32-47d1-4e76-92d2-b915797366ce\",\"attributes\":{\"url\":\"https://cdn.holoviz.org/panel/1.6.2/dist/css/loading.css\"}},{\"type\":\"object\",\"name\":\"ImportedStyleSheet\",\"id\":\"637834af-00da-44d7-9fe6-a59c5198b8bd\",\"attributes\":{\"url\":\"https://cdn.holoviz.org/panel/1.6.2/dist/css/listpanel.css\"}},{\"type\":\"object\",\"name\":\"ImportedStyleSheet\",\"id\":\"35040979-da0f-4e6c-b7ab-5847fef454b5\",\"attributes\":{\"url\":\"https://cdn.holoviz.org/panel/1.6.2/dist/bundled/theme/default.css\"}},{\"type\":\"object\",\"name\":\"ImportedStyleSheet\",\"id\":\"1fe29cb0-9a70-4990-a75e-2d8e8f6bd6ad\",\"attributes\":{\"url\":\"https://cdn.holoviz.org/panel/1.6.2/dist/bundled/theme/native.css\"}}],\"min_width\":700,\"margin\":0,\"sizing_mode\":\"stretch_width\",\"align\":\"start\",\"children\":[{\"type\":\"object\",\"name\":\"Spacer\",\"id\":\"80e09a5a-590e-4883-b63e-fcd8616a69c8\",\"attributes\":{\"name\":\"HSpacer00293\",\"stylesheets\":[\"\\n:host(.pn-loading):before, .pn-loading:before {\\n  background-color: #c3c3c3;\\n  mask-size: auto calc(min(50%, 400px));\\n  -webkit-mask-size: auto calc(min(50%, 400px));\\n}\",{\"id\":\"9f1eec32-47d1-4e76-92d2-b915797366ce\"},{\"id\":\"35040979-da0f-4e6c-b7ab-5847fef454b5\"},{\"id\":\"1fe29cb0-9a70-4990-a75e-2d8e8f6bd6ad\"}],\"margin\":0,\"sizing_mode\":\"stretch_width\",\"align\":\"start\"}},{\"type\":\"object\",\"name\":\"Figure\",\"id\":\"0f4b050f-d99f-4be1-8e9e-880da587fa1c\",\"attributes\":{\"width\":700,\"height\":300,\"margin\":[5,10],\"sizing_mode\":\"fixed\",\"align\":\"start\",\"x_range\":{\"type\":\"object\",\"name\":\"FactorRange\",\"id\":\"9e638a32-18ed-4d31-9c62-5c44948ebaa0\",\"attributes\":{\"name\":\"post_str_b1\",\"tags\":[[[\"post_str_b1\",null]],[]],\"factors\":[\"02\",\"03\",\"01\",\"04\",\"05\",\"07\",\"13\",\"06\",\"11\",\"10\",\"09\",\"15\",\"14\",\"08\",\"12\",\"19\",\"16\",\"18\",\"17\",\"25\",\"28\",\"30\",\"20\"]}},\"y_range\":{\"type\":\"object\",\"name\":\"Range1d\",\"id\":\"99d55e1a-ba5b-47be-aaa8-273bb3629b05\",\"attributes\":{\"name\":\"percent\",\"tags\":[[[\"percent\",null]],{\"type\":\"map\",\"entries\":[[\"invert_yaxis\",false],[\"autorange\",false]]}],\"end\":14.468085106382977,\"reset_start\":0.0,\"reset_end\":14.468085106382977}},\"x_scale\":{\"type\":\"object\",\"name\":\"CategoricalScale\",\"id\":\"d0e45f7d-8264-4d69-b2e1-39c72a78223d\"},\"y_scale\":{\"type\":\"object\",\"name\":\"LinearScale\",\"id\":\"beee3bb8-606e-48f0-9981-5a67a1a48561\"},\"title\":{\"type\":\"object\",\"name\":\"Title\",\"id\":\"509f048b-8f3f-4528-95e6-29afcde9d352\",\"attributes\":{\"text_color\":\"black\",\"text_font_size\":\"12pt\"}},\"renderers\":[{\"type\":\"object\",\"name\":\"GlyphRenderer\",\"id\":\"5ca82ffe-e090-40dd-954d-e2f7e4c06899\",\"attributes\":{\"data_source\":{\"type\":\"object\",\"name\":\"ColumnDataSource\",\"id\":\"38c61739-5333-40e2-8da4-675ae3abbc94\",\"attributes\":{\"selected\":{\"type\":\"object\",\"name\":\"Selection\",\"id\":\"661f64d7-9cd0-4807-926b-e0d92b81aaee\",\"attributes\":{\"indices\":[],\"line_indices\":[]}},\"selection_policy\":{\"type\":\"object\",\"name\":\"UnionRenderers\",\"id\":\"0c2e7c76-f303-4cf0-8464-de28b569e4ef\"},\"data\":{\"type\":\"map\",\"entries\":[[\"post_str_b1\",[\"02\",\"03\",\"01\",\"04\",\"05\",\"07\",\"13\",\"06\",\"11\",\"10\",\"09\",\"15\",\"14\",\"08\",\"12\",\"19\",\"16\",\"18\",\"17\",\"25\",\"28\",\"30\",\"20\"]],[\"percent\",{\"type\":\"ndarray\",\"array\":{\"type\":\"bytes\",\"data\":\"yRXE5ApiKkDg2ajvbNQnQPWdjfrORiVAaKO+s1HfIUDg2ajvbNQXQFLf2ajvbBRAUt/ZqO9sFEBS39mo72wUQPrORn1now5A+s5GfWejDkD6zkZ9Z6MOQPrORn1now5AbdR3Nuo7C0Bt1Hc26jsLQG3UdzbqOwtAUt/ZqO9sBEBS39mo72z0P1Lf2ajvbPQ/bdR3Nuo76z9t1Hc26jvrP23UdzbqO+s/bdR3Nuo72z9t1Hc26jvbPw==\"},\"shape\":[23],\"dtype\":\"float64\",\"order\":\"little\"}]]}}},\"view\":{\"type\":\"object\",\"name\":\"CDSView\",\"id\":\"78b9180e-4647-4795-8b2c-87c7322e3e46\",\"attributes\":{\"filter\":{\"type\":\"object\",\"name\":\"AllIndices\",\"id\":\"8c6c79b2-902f-42c0-a2c5-5fb8420330b1\"}}},\"glyph\":{\"type\":\"object\",\"name\":\"VBar\",\"id\":\"f9a8d402-0bcd-411d-a4ef-6b235cd33448\",\"attributes\":{\"tags\":[\"apply_ranges\"],\"x\":{\"type\":\"field\",\"field\":\"post_str_b1\"},\"width\":{\"type\":\"value\",\"value\":0.8},\"top\":{\"type\":\"field\",\"field\":\"percent\"},\"fill_color\":{\"type\":\"value\",\"value\":\"#30a2da\"},\"hatch_color\":{\"type\":\"value\",\"value\":\"#30a2da\"}}},\"selection_glyph\":{\"type\":\"object\",\"name\":\"VBar\",\"id\":\"3f9e5910-61a9-4a44-bb99-9c99b2234534\",\"attributes\":{\"tags\":[\"apply_ranges\"],\"x\":{\"type\":\"field\",\"field\":\"post_str_b1\"},\"width\":{\"type\":\"value\",\"value\":0.8},\"bottom\":{\"type\":\"value\",\"value\":0},\"top\":{\"type\":\"field\",\"field\":\"percent\"},\"line_color\":{\"type\":\"value\",\"value\":\"black\"},\"line_alpha\":{\"type\":\"value\",\"value\":1.0},\"line_width\":{\"type\":\"value\",\"value\":1},\"line_join\":{\"type\":\"value\",\"value\":\"bevel\"},\"line_cap\":{\"type\":\"value\",\"value\":\"butt\"},\"line_dash\":{\"type\":\"value\",\"value\":[]},\"line_dash_offset\":{\"type\":\"value\",\"value\":0},\"fill_color\":{\"type\":\"value\",\"value\":\"#30a2da\"},\"fill_alpha\":{\"type\":\"value\",\"value\":1.0},\"hatch_color\":{\"type\":\"value\",\"value\":\"#30a2da\"},\"hatch_alpha\":{\"type\":\"value\",\"value\":1.0},\"hatch_scale\":{\"type\":\"value\",\"value\":12.0},\"hatch_pattern\":{\"type\":\"value\",\"value\":null},\"hatch_weight\":{\"type\":\"value\",\"value\":1.0}}},\"nonselection_glyph\":{\"type\":\"object\",\"name\":\"VBar\",\"id\":\"b2f73011-fb4e-4148-bcc2-2c705f102e0e\",\"attributes\":{\"tags\":[\"apply_ranges\"],\"x\":{\"type\":\"field\",\"field\":\"post_str_b1\"},\"width\":{\"type\":\"value\",\"value\":0.8},\"top\":{\"type\":\"field\",\"field\":\"percent\"},\"line_alpha\":{\"type\":\"value\",\"value\":0.1},\"fill_color\":{\"type\":\"value\",\"value\":\"#30a2da\"},\"fill_alpha\":{\"type\":\"value\",\"value\":0.1},\"hatch_color\":{\"type\":\"value\",\"value\":\"#30a2da\"},\"hatch_alpha\":{\"type\":\"value\",\"value\":0.1}}},\"muted_glyph\":{\"type\":\"object\",\"name\":\"VBar\",\"id\":\"ad4b69bb-3be3-4a09-b898-d95c4c84e178\",\"attributes\":{\"tags\":[\"apply_ranges\"],\"x\":{\"type\":\"field\",\"field\":\"post_str_b1\"},\"width\":{\"type\":\"value\",\"value\":0.8},\"top\":{\"type\":\"field\",\"field\":\"percent\"},\"line_alpha\":{\"type\":\"value\",\"value\":0.2},\"fill_color\":{\"type\":\"value\",\"value\":\"#30a2da\"},\"fill_alpha\":{\"type\":\"value\",\"value\":0.2},\"hatch_color\":{\"type\":\"value\",\"value\":\"#30a2da\"},\"hatch_alpha\":{\"type\":\"value\",\"value\":0.2}}}}},{\"type\":\"object\",\"name\":\"Span\",\"id\":\"f2503dbe-fe77-47df-9fa2-665b08b5cc63\",\"attributes\":{\"level\":\"glyph\",\"location\":4.3478260869565215,\"line_color\":\"red\",\"line_width\":3}},{\"type\":\"object\",\"name\":\"Span\",\"id\":\"5d051c0e-60aa-4c94-bd8d-83eee1aae0b9\",\"attributes\":{\"level\":\"glyph\",\"location\":6.521739130434782,\"line_color\":\"blue\",\"line_width\":3}},{\"type\":\"object\",\"name\":\"Span\",\"id\":\"cde3f77d-7214-4461-885d-02969f1b2730\",\"attributes\":{\"level\":\"glyph\",\"location\":2.1739130434782608,\"line_color\":\"blue\",\"line_width\":3}}],\"toolbar\":{\"type\":\"object\",\"name\":\"Toolbar\",\"id\":\"1066a18d-7c00-4400-bb93-72e1fc4fd207\",\"attributes\":{\"tools\":[{\"type\":\"object\",\"name\":\"WheelZoomTool\",\"id\":\"4d16c10a-c56e-4000-a728-ad22a7183aba\",\"attributes\":{\"tags\":[\"hv_created\"],\"renderers\":\"auto\",\"zoom_together\":\"none\"}},{\"type\":\"object\",\"name\":\"HoverTool\",\"id\":\"46038aaf-deb6-4d8c-94bd-a64cee9eb4d2\",\"attributes\":{\"tags\":[\"hv_created\"],\"renderers\":[{\"id\":\"5ca82ffe-e090-40dd-954d-e2f7e4c06899\"}],\"tooltips\":[[\"post_str_b1\",\"@{post_str_b1}\"],[\"percent\",\"@{percent}\"]]}},{\"type\":\"object\",\"name\":\"SaveTool\",\"id\":\"c5431faa-375a-4953-926d-6d24dbd66391\"},{\"type\":\"object\",\"name\":\"PanTool\",\"id\":\"a1c60335-d4d7-40ff-b875-5c28bd05ebe2\"},{\"type\":\"object\",\"name\":\"BoxZoomTool\",\"id\":\"cc0259c4-00f9-4a88-9ceb-d636eeed7bac\",\"attributes\":{\"dimensions\":\"both\",\"overlay\":{\"type\":\"object\",\"name\":\"BoxAnnotation\",\"id\":\"dac1252a-1998-4891-9d1c-9231e9857db7\",\"attributes\":{\"syncable\":false,\"line_color\":\"black\",\"line_alpha\":1.0,\"line_width\":2,\"line_dash\":[4,4],\"fill_color\":\"lightgrey\",\"fill_alpha\":0.5,\"level\":\"overlay\",\"visible\":false,\"left\":{\"type\":\"number\",\"value\":\"nan\"},\"right\":{\"type\":\"number\",\"value\":\"nan\"},\"top\":{\"type\":\"number\",\"value\":\"nan\"},\"bottom\":{\"type\":\"number\",\"value\":\"nan\"},\"left_units\":\"canvas\",\"right_units\":\"canvas\",\"top_units\":\"canvas\",\"bottom_units\":\"canvas\",\"handles\":{\"type\":\"object\",\"name\":\"BoxInteractionHandles\",\"id\":\"b98603de-4141-485e-9339-6a224d40a81d\",\"attributes\":{\"all\":{\"type\":\"object\",\"name\":\"AreaVisuals\",\"id\":\"3eef5368-5184-4198-b90b-f7d41a57db4b\",\"attributes\":{\"fill_color\":\"white\",\"hover_fill_color\":\"lightgray\"}}}}}}}},{\"type\":\"object\",\"name\":\"ResetTool\",\"id\":\"a3b4bfb3-3762-46b4-b97d-7394190d123b\"}],\"active_drag\":{\"id\":\"a1c60335-d4d7-40ff-b875-5c28bd05ebe2\"}}},\"left\":[{\"type\":\"object\",\"name\":\"LinearAxis\",\"id\":\"1dfa3d1f-2cf9-4329-85b1-4a49fd065ddb\",\"attributes\":{\"ticker\":{\"type\":\"object\",\"name\":\"BasicTicker\",\"id\":\"2d75ff6e-f511-476c-b1af-592bbfccb891\",\"attributes\":{\"mantissas\":[1,2,5]}},\"formatter\":{\"type\":\"object\",\"name\":\"BasicTickFormatter\",\"id\":\"51d558b4-901a-492a-8fa8-c9beff87acd7\"},\"axis_label\":\"percent\",\"major_label_policy\":{\"type\":\"object\",\"name\":\"AllLabels\",\"id\":\"7933dcba-a248-4cf3-ae4c-6ec41ee1a31f\"}}}],\"below\":[{\"type\":\"object\",\"name\":\"CategoricalAxis\",\"id\":\"4c1c9395-e68a-4852-aebc-08b6147aacca\",\"attributes\":{\"ticker\":{\"type\":\"object\",\"name\":\"CategoricalTicker\",\"id\":\"e4d1a61f-131f-4496-934a-990ff990877c\"},\"formatter\":{\"type\":\"object\",\"name\":\"CategoricalTickFormatter\",\"id\":\"c2385b31-fa08-41b6-85d8-efe13e3fc4b1\"},\"axis_label\":\"post_str_b1\",\"major_label_policy\":{\"type\":\"object\",\"name\":\"AllLabels\",\"id\":\"aa67fc56-b577-4e32-bab4-19f3740457fc\"}}}],\"center\":[{\"type\":\"object\",\"name\":\"Grid\",\"id\":\"dcfd9aa7-1395-4c4d-a73f-8e3c7f432341\",\"attributes\":{\"axis\":{\"id\":\"4c1c9395-e68a-4852-aebc-08b6147aacca\"},\"grid_line_color\":null}},{\"type\":\"object\",\"name\":\"Grid\",\"id\":\"3273f9aa-5d00-448e-a3d1-d6759b78fff5\",\"attributes\":{\"dimension\":1,\"axis\":{\"id\":\"1dfa3d1f-2cf9-4329-85b1-4a49fd065ddb\"},\"grid_line_color\":null}}],\"min_border_top\":10,\"min_border_bottom\":10,\"min_border_left\":10,\"min_border_right\":10,\"output_backend\":\"webgl\"}},{\"type\":\"object\",\"name\":\"Spacer\",\"id\":\"59e1ab21-b9f0-4a6c-9917-a70d6f37977b\",\"attributes\":{\"name\":\"HSpacer00294\",\"stylesheets\":[\"\\n:host(.pn-loading):before, .pn-loading:before {\\n  background-color: #c3c3c3;\\n  mask-size: auto calc(min(50%, 400px));\\n  -webkit-mask-size: auto calc(min(50%, 400px));\\n}\",{\"id\":\"9f1eec32-47d1-4e76-92d2-b915797366ce\"},{\"id\":\"35040979-da0f-4e6c-b7ab-5847fef454b5\"},{\"id\":\"1fe29cb0-9a70-4990-a75e-2d8e8f6bd6ad\"}],\"margin\":0,\"sizing_mode\":\"stretch_width\",\"align\":\"start\"}}]}}],\"defs\":[{\"type\":\"model\",\"name\":\"ReactiveHTML1\"},{\"type\":\"model\",\"name\":\"FlexBox1\",\"properties\":[{\"name\":\"align_content\",\"kind\":\"Any\",\"default\":\"flex-start\"},{\"name\":\"align_items\",\"kind\":\"Any\",\"default\":\"flex-start\"},{\"name\":\"flex_direction\",\"kind\":\"Any\",\"default\":\"row\"},{\"name\":\"flex_wrap\",\"kind\":\"Any\",\"default\":\"wrap\"},{\"name\":\"gap\",\"kind\":\"Any\",\"default\":\"\"},{\"name\":\"justify_content\",\"kind\":\"Any\",\"default\":\"flex-start\"}]},{\"type\":\"model\",\"name\":\"FloatPanel1\",\"properties\":[{\"name\":\"config\",\"kind\":\"Any\",\"default\":{\"type\":\"map\"}},{\"name\":\"contained\",\"kind\":\"Any\",\"default\":true},{\"name\":\"position\",\"kind\":\"Any\",\"default\":\"right-top\"},{\"name\":\"offsetx\",\"kind\":\"Any\",\"default\":null},{\"name\":\"offsety\",\"kind\":\"Any\",\"default\":null},{\"name\":\"theme\",\"kind\":\"Any\",\"default\":\"primary\"},{\"name\":\"status\",\"kind\":\"Any\",\"default\":\"normalized\"}]},{\"type\":\"model\",\"name\":\"GridStack1\",\"properties\":[{\"name\":\"ncols\",\"kind\":\"Any\",\"default\":null},{\"name\":\"nrows\",\"kind\":\"Any\",\"default\":null},{\"name\":\"allow_resize\",\"kind\":\"Any\",\"default\":true},{\"name\":\"allow_drag\",\"kind\":\"Any\",\"default\":true},{\"name\":\"state\",\"kind\":\"Any\",\"default\":[]}]},{\"type\":\"model\",\"name\":\"drag1\",\"properties\":[{\"name\":\"slider_width\",\"kind\":\"Any\",\"default\":5},{\"name\":\"slider_color\",\"kind\":\"Any\",\"default\":\"black\"},{\"name\":\"value\",\"kind\":\"Any\",\"default\":50}]},{\"type\":\"model\",\"name\":\"click1\",\"properties\":[{\"name\":\"terminal_output\",\"kind\":\"Any\",\"default\":\"\"},{\"name\":\"debug_name\",\"kind\":\"Any\",\"default\":\"\"},{\"name\":\"clears\",\"kind\":\"Any\",\"default\":0}]},{\"type\":\"model\",\"name\":\"FastWrapper1\",\"properties\":[{\"name\":\"object\",\"kind\":\"Any\",\"default\":null},{\"name\":\"style\",\"kind\":\"Any\",\"default\":null}]},{\"type\":\"model\",\"name\":\"NotificationArea1\",\"properties\":[{\"name\":\"js_events\",\"kind\":\"Any\",\"default\":{\"type\":\"map\"}},{\"name\":\"max_notifications\",\"kind\":\"Any\",\"default\":5},{\"name\":\"notifications\",\"kind\":\"Any\",\"default\":[]},{\"name\":\"position\",\"kind\":\"Any\",\"default\":\"bottom-right\"},{\"name\":\"_clear\",\"kind\":\"Any\",\"default\":0},{\"name\":\"types\",\"kind\":\"Any\",\"default\":[{\"type\":\"map\",\"entries\":[[\"type\",\"warning\"],[\"background\",\"#ffc107\"],[\"icon\",{\"type\":\"map\",\"entries\":[[\"className\",\"fas fa-exclamation-triangle\"],[\"tagName\",\"i\"],[\"color\",\"white\"]]}]]},{\"type\":\"map\",\"entries\":[[\"type\",\"info\"],[\"background\",\"#007bff\"],[\"icon\",{\"type\":\"map\",\"entries\":[[\"className\",\"fas fa-info-circle\"],[\"tagName\",\"i\"],[\"color\",\"white\"]]}]]}]}]},{\"type\":\"model\",\"name\":\"Notification\",\"properties\":[{\"name\":\"background\",\"kind\":\"Any\",\"default\":null},{\"name\":\"duration\",\"kind\":\"Any\",\"default\":3000},{\"name\":\"icon\",\"kind\":\"Any\",\"default\":null},{\"name\":\"message\",\"kind\":\"Any\",\"default\":\"\"},{\"name\":\"notification_type\",\"kind\":\"Any\",\"default\":null},{\"name\":\"_rendered\",\"kind\":\"Any\",\"default\":false},{\"name\":\"_destroyed\",\"kind\":\"Any\",\"default\":false}]},{\"type\":\"model\",\"name\":\"TemplateActions1\",\"properties\":[{\"name\":\"open_modal\",\"kind\":\"Any\",\"default\":0},{\"name\":\"close_modal\",\"kind\":\"Any\",\"default\":0}]},{\"type\":\"model\",\"name\":\"BootstrapTemplateActions1\",\"properties\":[{\"name\":\"open_modal\",\"kind\":\"Any\",\"default\":0},{\"name\":\"close_modal\",\"kind\":\"Any\",\"default\":0}]},{\"type\":\"model\",\"name\":\"TemplateEditor1\",\"properties\":[{\"name\":\"layout\",\"kind\":\"Any\",\"default\":[]}]},{\"type\":\"model\",\"name\":\"MaterialTemplateActions1\",\"properties\":[{\"name\":\"open_modal\",\"kind\":\"Any\",\"default\":0},{\"name\":\"close_modal\",\"kind\":\"Any\",\"default\":0}]},{\"type\":\"model\",\"name\":\"ReactiveESM1\",\"properties\":[{\"name\":\"esm_constants\",\"kind\":\"Any\",\"default\":{\"type\":\"map\"}}]},{\"type\":\"model\",\"name\":\"JSComponent1\",\"properties\":[{\"name\":\"esm_constants\",\"kind\":\"Any\",\"default\":{\"type\":\"map\"}}]},{\"type\":\"model\",\"name\":\"ReactComponent1\",\"properties\":[{\"name\":\"esm_constants\",\"kind\":\"Any\",\"default\":{\"type\":\"map\"}}]},{\"type\":\"model\",\"name\":\"AnyWidgetComponent1\",\"properties\":[{\"name\":\"esm_constants\",\"kind\":\"Any\",\"default\":{\"type\":\"map\"}}]},{\"type\":\"model\",\"name\":\"request_value1\",\"properties\":[{\"name\":\"fill\",\"kind\":\"Any\",\"default\":\"none\"},{\"name\":\"_synced\",\"kind\":\"Any\",\"default\":null},{\"name\":\"_request_sync\",\"kind\":\"Any\",\"default\":0}]}]}};\n",
       "  var render_items = [{\"docid\":\"5074bea6-8d30-4429-a352-6b1dba6b8f36\",\"roots\":{\"532845a1-1143-488c-8ec6-49365426e4d0\":\"abaec937-6c80-4d77-82c0-683f826a3644\"},\"root_ids\":[\"532845a1-1143-488c-8ec6-49365426e4d0\"]}];\n",
       "  var docs = Object.values(docs_json)\n",
       "  if (!docs) {\n",
       "    return\n",
       "  }\n",
       "  const py_version = docs[0].version.replace('rc', '-rc.').replace('.dev', '-dev.')\n",
       "  async function embed_document(root) {\n",
       "    var Bokeh = get_bokeh(root)\n",
       "    await Bokeh.embed.embed_items_notebook(docs_json, render_items);\n",
       "    for (const render_item of render_items) {\n",
       "      for (const root_id of render_item.root_ids) {\n",
       "\tconst id_el = document.getElementById(root_id)\n",
       "\tif (id_el.children.length && id_el.children[0].hasAttribute('data-root-id')) {\n",
       "\t  const root_el = id_el.children[0]\n",
       "\t  root_el.id = root_el.id + '-rendered'\n",
       "\t  for (const child of root_el.children) {\n",
       "            // Ensure JupyterLab does not capture keyboard shortcuts\n",
       "            // see: https://jupyterlab.readthedocs.io/en/4.1.x/extension/notebook.html#keyboard-interaction-model\n",
       "\t    child.setAttribute('data-lm-suppress-shortcuts', 'true')\n",
       "\t  }\n",
       "\t}\n",
       "      }\n",
       "    }\n",
       "  }\n",
       "  function get_bokeh(root) {\n",
       "    if (root.Bokeh === undefined) {\n",
       "      return null\n",
       "    } else if (root.Bokeh.version !== py_version) {\n",
       "      if (root.Bokeh.versions === undefined || !root.Bokeh.versions.has(py_version)) {\n",
       "\treturn null\n",
       "      }\n",
       "      return root.Bokeh.versions.get(py_version);\n",
       "    } else if (root.Bokeh.version === py_version) {\n",
       "      return root.Bokeh\n",
       "    }\n",
       "    return null\n",
       "  }\n",
       "  function is_loaded(root) {\n",
       "    var Bokeh = get_bokeh(root)\n",
       "    return (Bokeh != null && Bokeh.Panel !== undefined)\n",
       "  }\n",
       "  if (is_loaded(root)) {\n",
       "    embed_document(root);\n",
       "  } else {\n",
       "    var attempts = 0;\n",
       "    var timer = setInterval(function(root) {\n",
       "      if (is_loaded(root)) {\n",
       "        clearInterval(timer);\n",
       "        embed_document(root);\n",
       "      } else if (document.readyState == \"complete\") {\n",
       "        attempts++;\n",
       "        if (attempts > 200) {\n",
       "          clearInterval(timer);\n",
       "\t  var Bokeh = get_bokeh(root)\n",
       "\t  if (Bokeh == null || Bokeh.Panel == null) {\n",
       "            console.warn(\"Panel: ERROR: Unable to run Panel code because Bokeh or Panel library is missing\");\n",
       "\t  } else {\n",
       "\t    console.warn(\"Panel: WARNING: Attempting to render but not all required libraries could be resolved.\")\n",
       "\t    embed_document(root)\n",
       "\t  }\n",
       "        }\n",
       "      }\n",
       "    }, 25, root)\n",
       "  }\n",
       "})(window);</script>"
      ],
      "text/plain": [
       ":Overlay\n",
       "   .Bars.I    :Bars   [post_str_b1]   (percent)\n",
       "   .HLine.I   :HLine   [x,y]\n",
       "   .HLine.II  :HLine   [x,y]\n",
       "   .HLine.III :HLine   [x,y]"
      ]
     },
     "metadata": {
      "application/vnd.holoviews_exec.v0+json": {
       "id": "532845a1-1143-488c-8ec6-49365426e4d0"
      }
     },
     "output_type": "display_data"
    },
    {
     "name": "stdout",
     "output_type": "stream",
     "text": [
      "df_10_last FOR str_b1 = 03\n",
      "Last 3 results last_results=['05', '01', '18']\n"
     ]
    },
    {
     "data": {
      "text/html": [
       "<div><style>\n",
       ".dataframe > thead > tr,\n",
       ".dataframe > tbody > tr {\n",
       "  text-align: right;\n",
       "  white-space: pre-wrap;\n",
       "}\n",
       "</style>\n",
       "<small>shape: (10, 30)</small><table border=\"1\" class=\"dataframe\"><thead><tr><th>fecha</th><th>sorteo</th><th>bolillas</th><th>yapa</th><th>adicionales</th><th>sorteo_extra</th><th>id</th><th>combo</th><th>b1</th><th>b2</th><th>b3</th><th>b4</th><th>b5</th><th>b6</th><th>str_b1</th><th>str_b2</th><th>str_b3</th><th>str_b4</th><th>str_b5</th><th>str_b6</th><th>post_str_b1</th><th>post_str_b2</th><th>post_str_b3</th><th>post_str_b4</th><th>post_str_b5</th><th>post_str_blast</th><th>is_rare_combination</th><th>reason</th><th>jumps_map</th><th>unijump</th></tr><tr><td>str</td><td>str</td><td>str</td><td>str</td><td>str</td><td>str</td><td>str</td><td>array[u8, 6]</td><td>u8</td><td>u8</td><td>u8</td><td>u8</td><td>u8</td><td>u8</td><td>str</td><td>str</td><td>str</td><td>str</td><td>str</td><td>str</td><td>str</td><td>str</td><td>str</td><td>str</td><td>str</td><td>str</td><td>bool</td><td>u8</td><td>str</td><td>i64</td></tr></thead><tbody><tr><td>&quot;23/03/2025&quot;</td><td>&quot;1179&quot;</td><td>&quot;24 07 18 03 37 49&quot;</td><td>&quot;43&quot;</td><td>&quot;50 28&quot;</td><td>&quot;Promoción Sí o Sí&quot;</td><td>&quot;030718243749&quot;</td><td>[3, 7, … 49]</td><td>3</td><td>7</td><td>18</td><td>24</td><td>37</td><td>49</td><td>&quot;03&quot;</td><td>&quot;07&quot;</td><td>&quot;18&quot;</td><td>&quot;24&quot;</td><td>&quot;37&quot;</td><td>&quot;49&quot;</td><td>&quot;01&quot;</td><td>&quot;05&quot;</td><td>&quot;13&quot;</td><td>&quot;35&quot;</td><td>&quot;37&quot;</td><td>&quot;43&quot;</td><td>false</td><td>0</td><td>&quot;04_11_06_13_12&quot;</td><td>-44</td></tr><tr><td>&quot;09/02/2025&quot;</td><td>&quot;1167&quot;</td><td>&quot;34 03 46 35 33 12&quot;</td><td>&quot;18&quot;</td><td>&quot;44 06 41&quot;</td><td>&quot;Promoción Sí o Sí&quot;</td><td>&quot;031233343546&quot;</td><td>[3, 12, … 46]</td><td>3</td><td>12</td><td>33</td><td>34</td><td>35</td><td>46</td><td>&quot;03&quot;</td><td>&quot;12&quot;</td><td>&quot;33&quot;</td><td>&quot;34&quot;</td><td>&quot;35&quot;</td><td>&quot;46&quot;</td><td>&quot;18&quot;</td><td>&quot;23&quot;</td><td>&quot;24&quot;</td><td>&quot;32&quot;</td><td>&quot;33&quot;</td><td>&quot;44&quot;</td><td>true</td><td>8</td><td>&quot;09_21_01_01_11&quot;</td><td>-62</td></tr><tr><td>&quot;20/11/2024&quot;</td><td>&quot;1144&quot;</td><td>&quot;36 27 28 26 29 03&quot;</td><td>&quot;10&quot;</td><td>&quot;44 39 45&quot;</td><td>&quot;Promoción Sí o Sí&quot;</td><td>&quot;032627282936&quot;</td><td>[3, 26, … 36]</td><td>3</td><td>26</td><td>27</td><td>28</td><td>29</td><td>36</td><td>&quot;03&quot;</td><td>&quot;26&quot;</td><td>&quot;27&quot;</td><td>&quot;28&quot;</td><td>&quot;29&quot;</td><td>&quot;36&quot;</td><td>&quot;05&quot;</td><td>&quot;19&quot;</td><td>&quot;26&quot;</td><td>&quot;29&quot;</td><td>&quot;45&quot;</td><td>&quot;46&quot;</td><td>true</td><td>24</td><td>&quot;23_01_01_01_07&quot;</td><td>28</td></tr><tr><td>&quot;28/08/2024&quot;</td><td>&quot;1120&quot;</td><td>&quot;11 37 46 47 06 03&quot;</td><td>&quot;29&quot;</td><td>&quot;14 09 05 40&quot;</td><td>&quot;Promoción Sí o Sí&quot;</td><td>&quot;030611374647&quot;</td><td>[3, 6, … 47]</td><td>3</td><td>6</td><td>11</td><td>37</td><td>46</td><td>47</td><td>&quot;03&quot;</td><td>&quot;06&quot;</td><td>&quot;11&quot;</td><td>&quot;37&quot;</td><td>&quot;46&quot;</td><td>&quot;47&quot;</td><td>&quot;04&quot;</td><td>&quot;19&quot;</td><td>&quot;23&quot;</td><td>&quot;37&quot;</td><td>&quot;41&quot;</td><td>&quot;50&quot;</td><td>true</td><td>17</td><td>&quot;03_05_26_09_01&quot;</td><td>104</td></tr><tr><td>&quot;28/07/2024&quot;</td><td>&quot;1111&quot;</td><td>&quot;19 14 25 03 08 26&quot;</td><td>&quot;50&quot;</td><td>&quot;&quot;</td><td>&quot;&quot;</td><td>&quot;030814192526&quot;</td><td>[3, 8, … 26]</td><td>3</td><td>8</td><td>14</td><td>19</td><td>25</td><td>26</td><td>&quot;03&quot;</td><td>&quot;08&quot;</td><td>&quot;14&quot;</td><td>&quot;19&quot;</td><td>&quot;25&quot;</td><td>&quot;26&quot;</td><td>&quot;07&quot;</td><td>&quot;12&quot;</td><td>&quot;22&quot;</td><td>&quot;28&quot;</td><td>&quot;29&quot;</td><td>&quot;37&quot;</td><td>false</td><td>0</td><td>&quot;05_06_05_06_01&quot;</td><td>-12</td></tr><tr><td>&quot;14/07/2024&quot;</td><td>&quot;1107&quot;</td><td>&quot;43 03 34 05 42 26&quot;</td><td>&quot;29&quot;</td><td>&quot;08 33&quot;</td><td>&quot;Promoción Sí o Sí&quot;</td><td>&quot;030526344243&quot;</td><td>[3, 5, … 43]</td><td>3</td><td>5</td><td>26</td><td>34</td><td>42</td><td>43</td><td>&quot;03&quot;</td><td>&quot;05&quot;</td><td>&quot;26&quot;</td><td>&quot;34&quot;</td><td>&quot;42&quot;</td><td>&quot;43&quot;</td><td>&quot;01&quot;</td><td>&quot;19&quot;</td><td>&quot;38&quot;</td><td>&quot;40&quot;</td><td>&quot;43&quot;</td><td>&quot;47&quot;</td><td>true</td><td>24</td><td>&quot;02_21_08_08_01&quot;</td><td>-65</td></tr><tr><td>&quot;12/06/2024&quot;</td><td>&quot;1098&quot;</td><td>&quot;03 11 48 08 32 16&quot;</td><td>&quot;09&quot;</td><td>&quot;23&quot;</td><td>&quot;Promoción Sí o Sí&quot;</td><td>&quot;030811163248&quot;</td><td>[3, 8, … 48]</td><td>3</td><td>8</td><td>11</td><td>16</td><td>32</td><td>48</td><td>&quot;03&quot;</td><td>&quot;08&quot;</td><td>&quot;11&quot;</td><td>&quot;16&quot;</td><td>&quot;32&quot;</td><td>&quot;48&quot;</td><td>&quot;02&quot;</td><td>&quot;08&quot;</td><td>&quot;19&quot;</td><td>&quot;21&quot;</td><td>&quot;23&quot;</td><td>&quot;46&quot;</td><td>true</td><td>8</td><td>&quot;05_03_05_16_16&quot;</td><td>-25</td></tr><tr><td>&quot;09/06/2024&quot;</td><td>&quot;1097&quot;</td><td>&quot;39 20 29 03 07 11&quot;</td><td>&quot;27&quot;</td><td>&quot;21 08&quot;</td><td>&quot;Promoción Sí o Sí&quot;</td><td>&quot;030711202939&quot;</td><td>[3, 7, … 39]</td><td>3</td><td>7</td><td>11</td><td>20</td><td>29</td><td>39</td><td>&quot;03&quot;</td><td>&quot;07&quot;</td><td>&quot;11&quot;</td><td>&quot;20&quot;</td><td>&quot;29&quot;</td><td>&quot;39&quot;</td><td>&quot;03&quot;</td><td>&quot;08&quot;</td><td>&quot;11&quot;</td><td>&quot;16&quot;</td><td>&quot;32&quot;</td><td>&quot;48&quot;</td><td>true</td><td>9</td><td>&quot;04_04_09_09_10&quot;</td><td>16</td></tr><tr><td>&quot;14/02/2024&quot;</td><td>&quot;1064&quot;</td><td>&quot;42 03 18 07 29 39&quot;</td><td>&quot;30&quot;</td><td>&quot;28 31&quot;</td><td>&quot;Promoción Sí o Sí&quot;</td><td>&quot;030718293942&quot;</td><td>[3, 7, … 42]</td><td>3</td><td>7</td><td>18</td><td>29</td><td>39</td><td>42</td><td>&quot;03&quot;</td><td>&quot;07&quot;</td><td>&quot;18&quot;</td><td>&quot;29&quot;</td><td>&quot;39&quot;</td><td>&quot;42&quot;</td><td>&quot;12&quot;</td><td>&quot;23&quot;</td><td>&quot;24&quot;</td><td>&quot;31&quot;</td><td>&quot;35&quot;</td><td>&quot;42&quot;</td><td>true</td><td>8</td><td>&quot;04_11_11_10_03&quot;</td><td>-11</td></tr><tr><td>&quot;28/01/2024&quot;</td><td>&quot;1059&quot;</td><td>&quot;25 03 19 21 24 15&quot;</td><td>&quot;12&quot;</td><td>&quot;06&quot;</td><td>&quot;Promoción Sí o Sí&quot;</td><td>&quot;031519212425&quot;</td><td>[3, 15, … 25]</td><td>3</td><td>15</td><td>19</td><td>21</td><td>24</td><td>25</td><td>&quot;03&quot;</td><td>&quot;15&quot;</td><td>&quot;19&quot;</td><td>&quot;21&quot;</td><td>&quot;24&quot;</td><td>&quot;25&quot;</td><td>&quot;04&quot;</td><td>&quot;13&quot;</td><td>&quot;21&quot;</td><td>&quot;22&quot;</td><td>&quot;34&quot;</td><td>&quot;48&quot;</td><td>false</td><td>0</td><td>&quot;12_04_02_03_01&quot;</td><td>-3</td></tr></tbody></table></div>"
      ],
      "text/plain": [
       "shape: (10, 30)\n",
       "┌────────────┬────────┬───────────────┬──────┬───┬───────────────┬────────┬──────────────┬─────────┐\n",
       "│ fecha      ┆ sorteo ┆ bolillas      ┆ yapa ┆ … ┆ is_rare_combi ┆ reason ┆ jumps_map    ┆ unijump │\n",
       "│ ---        ┆ ---    ┆ ---           ┆ ---  ┆   ┆ nation        ┆ ---    ┆ ---          ┆ ---     │\n",
       "│ str        ┆ str    ┆ str           ┆ str  ┆   ┆ ---           ┆ u8     ┆ str          ┆ i64     │\n",
       "│            ┆        ┆               ┆      ┆   ┆ bool          ┆        ┆              ┆         │\n",
       "╞════════════╪════════╪═══════════════╪══════╪═══╪═══════════════╪════════╪══════════════╪═════════╡\n",
       "│ 23/03/2025 ┆ 1179   ┆ 24 07 18 03   ┆ 43   ┆ … ┆ false         ┆ 0      ┆ 04_11_06_13_ ┆ -44     │\n",
       "│            ┆        ┆ 37 49         ┆      ┆   ┆               ┆        ┆ 12           ┆         │\n",
       "│ 09/02/2025 ┆ 1167   ┆ 34 03 46 35   ┆ 18   ┆ … ┆ true          ┆ 8      ┆ 09_21_01_01_ ┆ -62     │\n",
       "│            ┆        ┆ 33 12         ┆      ┆   ┆               ┆        ┆ 11           ┆         │\n",
       "│ 20/11/2024 ┆ 1144   ┆ 36 27 28 26   ┆ 10   ┆ … ┆ true          ┆ 24     ┆ 23_01_01_01_ ┆ 28      │\n",
       "│            ┆        ┆ 29 03         ┆      ┆   ┆               ┆        ┆ 07           ┆         │\n",
       "│ 28/08/2024 ┆ 1120   ┆ 11 37 46 47   ┆ 29   ┆ … ┆ true          ┆ 17     ┆ 03_05_26_09_ ┆ 104     │\n",
       "│            ┆        ┆ 06 03         ┆      ┆   ┆               ┆        ┆ 01           ┆         │\n",
       "│ 28/07/2024 ┆ 1111   ┆ 19 14 25 03   ┆ 50   ┆ … ┆ false         ┆ 0      ┆ 05_06_05_06_ ┆ -12     │\n",
       "│            ┆        ┆ 08 26         ┆      ┆   ┆               ┆        ┆ 01           ┆         │\n",
       "│ 14/07/2024 ┆ 1107   ┆ 43 03 34 05   ┆ 29   ┆ … ┆ true          ┆ 24     ┆ 02_21_08_08_ ┆ -65     │\n",
       "│            ┆        ┆ 42 26         ┆      ┆   ┆               ┆        ┆ 01           ┆         │\n",
       "│ 12/06/2024 ┆ 1098   ┆ 03 11 48 08   ┆ 09   ┆ … ┆ true          ┆ 8      ┆ 05_03_05_16_ ┆ -25     │\n",
       "│            ┆        ┆ 32 16         ┆      ┆   ┆               ┆        ┆ 16           ┆         │\n",
       "│ 09/06/2024 ┆ 1097   ┆ 39 20 29 03   ┆ 27   ┆ … ┆ true          ┆ 9      ┆ 04_04_09_09_ ┆ 16      │\n",
       "│            ┆        ┆ 07 11         ┆      ┆   ┆               ┆        ┆ 10           ┆         │\n",
       "│ 14/02/2024 ┆ 1064   ┆ 42 03 18 07   ┆ 30   ┆ … ┆ true          ┆ 8      ┆ 04_11_11_10_ ┆ -11     │\n",
       "│            ┆        ┆ 29 39         ┆      ┆   ┆               ┆        ┆ 03           ┆         │\n",
       "│ 28/01/2024 ┆ 1059   ┆ 25 03 19 21   ┆ 12   ┆ … ┆ false         ┆ 0      ┆ 12_04_02_03_ ┆ -3      │\n",
       "│            ┆        ┆ 24 15         ┆      ┆   ┆               ┆        ┆ 01           ┆         │\n",
       "└────────────┴────────┴───────────────┴──────┴───┴───────────────┴────────┴──────────────┴─────────┘"
      ]
     },
     "metadata": {},
     "output_type": "display_data"
    },
    {
     "name": "stdout",
     "output_type": "stream",
     "text": [
      "df_jumps_map FOR str_b1 = 03\n"
     ]
    },
    {
     "data": {
      "text/html": [
       "<div><style>\n",
       ".dataframe > thead > tr,\n",
       ".dataframe > tbody > tr {\n",
       "  text-align: right;\n",
       "  white-space: pre-wrap;\n",
       "}\n",
       "</style>\n",
       "<small>shape: (235, 2)</small><table border=\"1\" class=\"dataframe\"><thead><tr><th>jumps_map</th><th>count</th></tr><tr><td>str</td><td>u32</td></tr></thead><tbody><tr><td>&quot;01_07_19_05_03&quot;</td><td>1</td></tr><tr><td>&quot;03_07_11_03_05&quot;</td><td>1</td></tr><tr><td>&quot;13_02_07_07_13&quot;</td><td>1</td></tr><tr><td>&quot;09_05_05_02_21&quot;</td><td>1</td></tr><tr><td>&quot;05_03_05_16_16&quot;</td><td>1</td></tr><tr><td>&hellip;</td><td>&hellip;</td></tr><tr><td>&quot;28_03_04_05_01&quot;</td><td>1</td></tr><tr><td>&quot;08_02_07_03_04&quot;</td><td>1</td></tr><tr><td>&quot;10_01_03_19_02&quot;</td><td>1</td></tr><tr><td>&quot;16_02_04_06_06&quot;</td><td>1</td></tr><tr><td>&quot;10_16_07_04_01&quot;</td><td>1</td></tr></tbody></table></div>"
      ],
      "text/plain": [
       "shape: (235, 2)\n",
       "┌────────────────┬───────┐\n",
       "│ jumps_map      ┆ count │\n",
       "│ ---            ┆ ---   │\n",
       "│ str            ┆ u32   │\n",
       "╞════════════════╪═══════╡\n",
       "│ 01_07_19_05_03 ┆ 1     │\n",
       "│ 03_07_11_03_05 ┆ 1     │\n",
       "│ 13_02_07_07_13 ┆ 1     │\n",
       "│ 09_05_05_02_21 ┆ 1     │\n",
       "│ 05_03_05_16_16 ┆ 1     │\n",
       "│ …              ┆ …     │\n",
       "│ 28_03_04_05_01 ┆ 1     │\n",
       "│ 08_02_07_03_04 ┆ 1     │\n",
       "│ 10_01_03_19_02 ┆ 1     │\n",
       "│ 16_02_04_06_06 ┆ 1     │\n",
       "│ 10_16_07_04_01 ┆ 1     │\n",
       "└────────────────┴───────┘"
      ]
     },
     "metadata": {},
     "output_type": "display_data"
    },
    {
     "name": "stdout",
     "output_type": "stream",
     "text": [
      "df_unijump FOR str_b1 = 03\n"
     ]
    },
    {
     "data": {
      "text/html": [
       "<div><style>\n",
       ".dataframe > thead > tr,\n",
       ".dataframe > tbody > tr {\n",
       "  text-align: right;\n",
       "  white-space: pre-wrap;\n",
       "}\n",
       "</style>\n",
       "<small>shape: (139, 2)</small><table border=\"1\" class=\"dataframe\"><thead><tr><th>unijump</th><th>count</th></tr><tr><td>i64</td><td>u32</td></tr></thead><tbody><tr><td>-25</td><td>6</td></tr><tr><td>4</td><td>6</td></tr><tr><td>-23</td><td>5</td></tr><tr><td>34</td><td>5</td></tr><tr><td>-33</td><td>5</td></tr><tr><td>&hellip;</td><td>&hellip;</td></tr><tr><td>-92</td><td>1</td></tr><tr><td>52</td><td>1</td></tr><tr><td>-83</td><td>1</td></tr><tr><td>-50</td><td>1</td></tr><tr><td>-98</td><td>1</td></tr></tbody></table></div>"
      ],
      "text/plain": [
       "shape: (139, 2)\n",
       "┌─────────┬───────┐\n",
       "│ unijump ┆ count │\n",
       "│ ---     ┆ ---   │\n",
       "│ i64     ┆ u32   │\n",
       "╞═════════╪═══════╡\n",
       "│ -25     ┆ 6     │\n",
       "│ 4       ┆ 6     │\n",
       "│ -23     ┆ 5     │\n",
       "│ 34      ┆ 5     │\n",
       "│ -33     ┆ 5     │\n",
       "│ …       ┆ …     │\n",
       "│ -92     ┆ 1     │\n",
       "│ 52      ┆ 1     │\n",
       "│ -83     ┆ 1     │\n",
       "│ -50     ┆ 1     │\n",
       "│ -98     ┆ 1     │\n",
       "└─────────┴───────┘"
      ]
     },
     "metadata": {},
     "output_type": "display_data"
    }
   ],
   "source": [
    "possible_b1, exclude_jump_maps_b1, last_post_b1 = plot_post_col(col='str_b1', post_col='post_str_b1')"
   ]
  },
  {
   "cell_type": "code",
   "execution_count": 47,
   "metadata": {},
   "outputs": [
    {
     "name": "stdout",
     "output_type": "stream",
     "text": [
      "Setting test_value='21'\n",
      "df_viz FOR str_b2 = 21\n"
     ]
    },
    {
     "data": {
      "text/html": [
       "<div><style>\n",
       ".dataframe > thead > tr,\n",
       ".dataframe > tbody > tr {\n",
       "  text-align: right;\n",
       "  white-space: pre-wrap;\n",
       "}\n",
       "</style>\n",
       "<small>shape: (22, 3)</small><table border=\"1\" class=\"dataframe\"><thead><tr><th>post_str_b2</th><th>count</th><th>percent</th></tr><tr><td>str</td><td>u32</td><td>f64</td></tr></thead><tbody><tr><td>&quot;10&quot;</td><td>7</td><td>11.47541</td></tr><tr><td>&quot;08&quot;</td><td>5</td><td>8.196721</td></tr><tr><td>&quot;16&quot;</td><td>4</td><td>6.557377</td></tr><tr><td>&quot;15&quot;</td><td>4</td><td>6.557377</td></tr><tr><td>&quot;07&quot;</td><td>4</td><td>6.557377</td></tr><tr><td>&hellip;</td><td>&hellip;</td><td>&hellip;</td></tr><tr><td>&quot;13&quot;</td><td>1</td><td>1.639344</td></tr><tr><td>&quot;09&quot;</td><td>1</td><td>1.639344</td></tr><tr><td>&quot;23&quot;</td><td>1</td><td>1.639344</td></tr><tr><td>&quot;28&quot;</td><td>1</td><td>1.639344</td></tr><tr><td>&quot;29&quot;</td><td>1</td><td>1.639344</td></tr></tbody></table></div>"
      ],
      "text/plain": [
       "shape: (22, 3)\n",
       "┌─────────────┬───────┬──────────┐\n",
       "│ post_str_b2 ┆ count ┆ percent  │\n",
       "│ ---         ┆ ---   ┆ ---      │\n",
       "│ str         ┆ u32   ┆ f64      │\n",
       "╞═════════════╪═══════╪══════════╡\n",
       "│ 10          ┆ 7     ┆ 11.47541 │\n",
       "│ 08          ┆ 5     ┆ 8.196721 │\n",
       "│ 16          ┆ 4     ┆ 6.557377 │\n",
       "│ 15          ┆ 4     ┆ 6.557377 │\n",
       "│ 07          ┆ 4     ┆ 6.557377 │\n",
       "│ …           ┆ …     ┆ …        │\n",
       "│ 13          ┆ 1     ┆ 1.639344 │\n",
       "│ 09          ┆ 1     ┆ 1.639344 │\n",
       "│ 23          ┆ 1     ┆ 1.639344 │\n",
       "│ 28          ┆ 1     ┆ 1.639344 │\n",
       "│ 29          ┆ 1     ┆ 1.639344 │\n",
       "└─────────────┴───────┴──────────┘"
      ]
     },
     "metadata": {},
     "output_type": "display_data"
    },
    {
     "data": {},
     "metadata": {},
     "output_type": "display_data"
    },
    {
     "data": {
      "application/vnd.holoviews_exec.v0+json": "",
      "text/html": [
       "<div id='d995fa33-8082-4316-9aed-7ae1600f4e60'>\n",
       "  <div id=\"f3b3185b-2c85-4543-a9d7-c84183034db4\" data-root-id=\"d995fa33-8082-4316-9aed-7ae1600f4e60\" style=\"display: contents;\"></div>\n",
       "</div>\n",
       "<script type=\"application/javascript\">(function(root) {\n",
       "  var docs_json = {\"4555f6a2-77ef-4c06-9292-e745218ec529\":{\"version\":\"3.7.2\",\"title\":\"Bokeh Application\",\"roots\":[{\"type\":\"object\",\"name\":\"Row\",\"id\":\"d995fa33-8082-4316-9aed-7ae1600f4e60\",\"attributes\":{\"name\":\"Row00360\",\"tags\":[\"embedded\"],\"stylesheets\":[\"\\n:host(.pn-loading):before, .pn-loading:before {\\n  background-color: #c3c3c3;\\n  mask-size: auto calc(min(50%, 400px));\\n  -webkit-mask-size: auto calc(min(50%, 400px));\\n}\",{\"type\":\"object\",\"name\":\"ImportedStyleSheet\",\"id\":\"efd49309-57d2-489b-87ce-450677badbdb\",\"attributes\":{\"url\":\"https://cdn.holoviz.org/panel/1.6.2/dist/css/loading.css\"}},{\"type\":\"object\",\"name\":\"ImportedStyleSheet\",\"id\":\"15cf00dd-014f-4d68-b936-926b4155f77b\",\"attributes\":{\"url\":\"https://cdn.holoviz.org/panel/1.6.2/dist/css/listpanel.css\"}},{\"type\":\"object\",\"name\":\"ImportedStyleSheet\",\"id\":\"66cabf3c-398e-488a-aa5e-77bad34e4d3e\",\"attributes\":{\"url\":\"https://cdn.holoviz.org/panel/1.6.2/dist/bundled/theme/default.css\"}},{\"type\":\"object\",\"name\":\"ImportedStyleSheet\",\"id\":\"485a26b7-3460-4f9d-a007-49c1cbbc9407\",\"attributes\":{\"url\":\"https://cdn.holoviz.org/panel/1.6.2/dist/bundled/theme/native.css\"}}],\"min_width\":700,\"margin\":0,\"sizing_mode\":\"stretch_width\",\"align\":\"start\",\"children\":[{\"type\":\"object\",\"name\":\"Spacer\",\"id\":\"6cfcc51e-5796-433d-aa35-81d736ad1a20\",\"attributes\":{\"name\":\"HSpacer00364\",\"stylesheets\":[\"\\n:host(.pn-loading):before, .pn-loading:before {\\n  background-color: #c3c3c3;\\n  mask-size: auto calc(min(50%, 400px));\\n  -webkit-mask-size: auto calc(min(50%, 400px));\\n}\",{\"id\":\"efd49309-57d2-489b-87ce-450677badbdb\"},{\"id\":\"66cabf3c-398e-488a-aa5e-77bad34e4d3e\"},{\"id\":\"485a26b7-3460-4f9d-a007-49c1cbbc9407\"}],\"margin\":0,\"sizing_mode\":\"stretch_width\",\"align\":\"start\"}},{\"type\":\"object\",\"name\":\"Figure\",\"id\":\"feafd807-5977-4cb3-9134-6838d5d0a20c\",\"attributes\":{\"width\":700,\"height\":300,\"margin\":[5,10],\"sizing_mode\":\"fixed\",\"align\":\"start\",\"x_range\":{\"type\":\"object\",\"name\":\"FactorRange\",\"id\":\"9118c8d3-e606-4dbe-8a5c-266aa0f08825\",\"attributes\":{\"name\":\"post_str_b2\",\"tags\":[[[\"post_str_b2\",null]],[]],\"factors\":[\"10\",\"08\",\"16\",\"15\",\"07\",\"19\",\"12\",\"24\",\"17\",\"11\",\"18\",\"06\",\"20\",\"05\",\"14\",\"04\",\"03\",\"13\",\"09\",\"23\",\"28\",\"29\"]}},\"y_range\":{\"type\":\"object\",\"name\":\"Range1d\",\"id\":\"026a65f7-1c2c-4db4-a6bb-8248dc39e184\",\"attributes\":{\"name\":\"percent\",\"tags\":[[[\"percent\",null]],{\"type\":\"map\",\"entries\":[[\"invert_yaxis\",false],[\"autorange\",false]]}],\"end\":12.459016393442623,\"reset_start\":0.0,\"reset_end\":12.459016393442623}},\"x_scale\":{\"type\":\"object\",\"name\":\"CategoricalScale\",\"id\":\"61a95d1a-6645-40fd-a2a7-af3ddac4879f\"},\"y_scale\":{\"type\":\"object\",\"name\":\"LinearScale\",\"id\":\"dad7b4eb-e6d2-4311-844e-74e4cf8f5635\"},\"title\":{\"type\":\"object\",\"name\":\"Title\",\"id\":\"d17803bb-b2c3-40ff-95ab-5bfe9ebd5e41\",\"attributes\":{\"text_color\":\"black\",\"text_font_size\":\"12pt\"}},\"renderers\":[{\"type\":\"object\",\"name\":\"GlyphRenderer\",\"id\":\"7d403790-4275-4e44-99a4-af08be7e3732\",\"attributes\":{\"data_source\":{\"type\":\"object\",\"name\":\"ColumnDataSource\",\"id\":\"cd70afe6-7a83-4113-87e6-45d935455fbb\",\"attributes\":{\"selected\":{\"type\":\"object\",\"name\":\"Selection\",\"id\":\"119e3fa6-6478-4ca8-b1cd-61ecae58fee6\",\"attributes\":{\"indices\":[],\"line_indices\":[]}},\"selection_policy\":{\"type\":\"object\",\"name\":\"UnionRenderers\",\"id\":\"2f7da6e3-b78e-4f72-8ec1-680c3507e572\"},\"data\":{\"type\":\"map\",\"entries\":[[\"post_str_b2\",[\"10\",\"08\",\"16\",\"15\",\"07\",\"19\",\"12\",\"24\",\"17\",\"11\",\"18\",\"06\",\"20\",\"05\",\"14\",\"04\",\"03\",\"13\",\"09\",\"23\",\"28\",\"29\"]],[\"percent\",{\"type\":\"ndarray\",\"array\":{\"type\":\"bytes\",\"data\":\"XDIE62jzJkAebd6nuGQgQPwUlwzBOhpA/BSXDME6GkD8FJcMwToaQPwUlwzBOhpA/BSXDME6GkC9T3HJEKwTQL1PcckQrBNAvU9xyRCsE0C9T3HJEKwTQL1PcckQrBNA/BSXDME6CkD8FJcMwToKQPwUlwzBOgpA/BSXDME6CkD8FJcMwTr6P/wUlwzBOvo//BSXDME6+j/8FJcMwTr6P/wUlwzBOvo//BSXDME6+j8=\"},\"shape\":[22],\"dtype\":\"float64\",\"order\":\"little\"}]]}}},\"view\":{\"type\":\"object\",\"name\":\"CDSView\",\"id\":\"3f115901-60be-41ba-820c-1f2ed55cbdc6\",\"attributes\":{\"filter\":{\"type\":\"object\",\"name\":\"AllIndices\",\"id\":\"f37b10df-fe6d-474d-b1a5-2b4e11851b84\"}}},\"glyph\":{\"type\":\"object\",\"name\":\"VBar\",\"id\":\"b6a23e1a-7603-4ee5-acbe-4f3ca4eb6468\",\"attributes\":{\"tags\":[\"apply_ranges\"],\"x\":{\"type\":\"field\",\"field\":\"post_str_b2\"},\"width\":{\"type\":\"value\",\"value\":0.8},\"top\":{\"type\":\"field\",\"field\":\"percent\"},\"fill_color\":{\"type\":\"value\",\"value\":\"#30a2da\"},\"hatch_color\":{\"type\":\"value\",\"value\":\"#30a2da\"}}},\"selection_glyph\":{\"type\":\"object\",\"name\":\"VBar\",\"id\":\"f8bbb8e1-f4ff-4b7d-924a-17b290089754\",\"attributes\":{\"tags\":[\"apply_ranges\"],\"x\":{\"type\":\"field\",\"field\":\"post_str_b2\"},\"width\":{\"type\":\"value\",\"value\":0.8},\"bottom\":{\"type\":\"value\",\"value\":0},\"top\":{\"type\":\"field\",\"field\":\"percent\"},\"line_color\":{\"type\":\"value\",\"value\":\"black\"},\"line_alpha\":{\"type\":\"value\",\"value\":1.0},\"line_width\":{\"type\":\"value\",\"value\":1},\"line_join\":{\"type\":\"value\",\"value\":\"bevel\"},\"line_cap\":{\"type\":\"value\",\"value\":\"butt\"},\"line_dash\":{\"type\":\"value\",\"value\":[]},\"line_dash_offset\":{\"type\":\"value\",\"value\":0},\"fill_color\":{\"type\":\"value\",\"value\":\"#30a2da\"},\"fill_alpha\":{\"type\":\"value\",\"value\":1.0},\"hatch_color\":{\"type\":\"value\",\"value\":\"#30a2da\"},\"hatch_alpha\":{\"type\":\"value\",\"value\":1.0},\"hatch_scale\":{\"type\":\"value\",\"value\":12.0},\"hatch_pattern\":{\"type\":\"value\",\"value\":null},\"hatch_weight\":{\"type\":\"value\",\"value\":1.0}}},\"nonselection_glyph\":{\"type\":\"object\",\"name\":\"VBar\",\"id\":\"e7a2851b-54cf-4a66-85d6-720e604f388d\",\"attributes\":{\"tags\":[\"apply_ranges\"],\"x\":{\"type\":\"field\",\"field\":\"post_str_b2\"},\"width\":{\"type\":\"value\",\"value\":0.8},\"top\":{\"type\":\"field\",\"field\":\"percent\"},\"line_alpha\":{\"type\":\"value\",\"value\":0.1},\"fill_color\":{\"type\":\"value\",\"value\":\"#30a2da\"},\"fill_alpha\":{\"type\":\"value\",\"value\":0.1},\"hatch_color\":{\"type\":\"value\",\"value\":\"#30a2da\"},\"hatch_alpha\":{\"type\":\"value\",\"value\":0.1}}},\"muted_glyph\":{\"type\":\"object\",\"name\":\"VBar\",\"id\":\"8d8efc1d-4353-4e66-b159-dbe6cd1c298c\",\"attributes\":{\"tags\":[\"apply_ranges\"],\"x\":{\"type\":\"field\",\"field\":\"post_str_b2\"},\"width\":{\"type\":\"value\",\"value\":0.8},\"top\":{\"type\":\"field\",\"field\":\"percent\"},\"line_alpha\":{\"type\":\"value\",\"value\":0.2},\"fill_color\":{\"type\":\"value\",\"value\":\"#30a2da\"},\"fill_alpha\":{\"type\":\"value\",\"value\":0.2},\"hatch_color\":{\"type\":\"value\",\"value\":\"#30a2da\"},\"hatch_alpha\":{\"type\":\"value\",\"value\":0.2}}}}},{\"type\":\"object\",\"name\":\"Span\",\"id\":\"19528f8d-93a0-46de-af4f-9485d7c69a32\",\"attributes\":{\"level\":\"glyph\",\"location\":4.545454545454548,\"line_color\":\"red\",\"line_width\":3}},{\"type\":\"object\",\"name\":\"Span\",\"id\":\"0031a442-da4e-4b9b-8fcb-617d3e4da39b\",\"attributes\":{\"level\":\"glyph\",\"location\":6.818181818181821,\"line_color\":\"blue\",\"line_width\":3}},{\"type\":\"object\",\"name\":\"Span\",\"id\":\"3b973b1b-5afe-465b-beb6-fd2afb3de4fe\",\"attributes\":{\"level\":\"glyph\",\"location\":2.272727272727274,\"line_color\":\"blue\",\"line_width\":3}}],\"toolbar\":{\"type\":\"object\",\"name\":\"Toolbar\",\"id\":\"bd0a33d8-725d-4f79-9fef-e7de0a3fac08\",\"attributes\":{\"tools\":[{\"type\":\"object\",\"name\":\"WheelZoomTool\",\"id\":\"5031ebb3-2e2a-43c1-98f7-976b75ad7da8\",\"attributes\":{\"tags\":[\"hv_created\"],\"renderers\":\"auto\",\"zoom_together\":\"none\"}},{\"type\":\"object\",\"name\":\"HoverTool\",\"id\":\"0a852c90-49ae-4f5e-b657-60ee6822e88a\",\"attributes\":{\"tags\":[\"hv_created\"],\"renderers\":[{\"id\":\"7d403790-4275-4e44-99a4-af08be7e3732\"}],\"tooltips\":[[\"post_str_b2\",\"@{post_str_b2}\"],[\"percent\",\"@{percent}\"]]}},{\"type\":\"object\",\"name\":\"SaveTool\",\"id\":\"864f3b2b-dc49-4cb7-b99a-df2216a170e4\"},{\"type\":\"object\",\"name\":\"PanTool\",\"id\":\"c9886fd8-c39c-4d1c-82c4-9d0ba3d42277\"},{\"type\":\"object\",\"name\":\"BoxZoomTool\",\"id\":\"7d96aee8-8738-433e-873b-e46c967e449a\",\"attributes\":{\"dimensions\":\"both\",\"overlay\":{\"type\":\"object\",\"name\":\"BoxAnnotation\",\"id\":\"35760bb9-d6c8-477b-8da0-19f2c37e253c\",\"attributes\":{\"syncable\":false,\"line_color\":\"black\",\"line_alpha\":1.0,\"line_width\":2,\"line_dash\":[4,4],\"fill_color\":\"lightgrey\",\"fill_alpha\":0.5,\"level\":\"overlay\",\"visible\":false,\"left\":{\"type\":\"number\",\"value\":\"nan\"},\"right\":{\"type\":\"number\",\"value\":\"nan\"},\"top\":{\"type\":\"number\",\"value\":\"nan\"},\"bottom\":{\"type\":\"number\",\"value\":\"nan\"},\"left_units\":\"canvas\",\"right_units\":\"canvas\",\"top_units\":\"canvas\",\"bottom_units\":\"canvas\",\"handles\":{\"type\":\"object\",\"name\":\"BoxInteractionHandles\",\"id\":\"327777ae-37a2-4a26-b934-74e34b72d204\",\"attributes\":{\"all\":{\"type\":\"object\",\"name\":\"AreaVisuals\",\"id\":\"ce8cfd2e-a335-4b17-b638-5eee0d5af782\",\"attributes\":{\"fill_color\":\"white\",\"hover_fill_color\":\"lightgray\"}}}}}}}},{\"type\":\"object\",\"name\":\"ResetTool\",\"id\":\"fc325e68-e35e-461c-b803-e7f292c60916\"}],\"active_drag\":{\"id\":\"c9886fd8-c39c-4d1c-82c4-9d0ba3d42277\"}}},\"left\":[{\"type\":\"object\",\"name\":\"LinearAxis\",\"id\":\"7b5fccb5-6aa0-46b0-925f-2a46ce249280\",\"attributes\":{\"ticker\":{\"type\":\"object\",\"name\":\"BasicTicker\",\"id\":\"36bde3cd-fc8b-42a0-9301-55f42d01f008\",\"attributes\":{\"mantissas\":[1,2,5]}},\"formatter\":{\"type\":\"object\",\"name\":\"BasicTickFormatter\",\"id\":\"4c3ab6cb-4668-4664-b698-ef8e32039bd9\"},\"axis_label\":\"percent\",\"major_label_policy\":{\"type\":\"object\",\"name\":\"AllLabels\",\"id\":\"0688d37d-1076-40e6-8e8e-72ab28af5910\"}}}],\"below\":[{\"type\":\"object\",\"name\":\"CategoricalAxis\",\"id\":\"d04776ae-b07f-4b0a-877d-294ec21b2655\",\"attributes\":{\"ticker\":{\"type\":\"object\",\"name\":\"CategoricalTicker\",\"id\":\"f5963334-c1b6-4864-b0b5-ee6c492608d7\"},\"formatter\":{\"type\":\"object\",\"name\":\"CategoricalTickFormatter\",\"id\":\"e7b5a0d7-0232-4550-85bc-62ac6f54a708\"},\"axis_label\":\"post_str_b2\",\"major_label_policy\":{\"type\":\"object\",\"name\":\"AllLabels\",\"id\":\"76cd4df6-480e-43b5-848f-7b90a1b938b8\"}}}],\"center\":[{\"type\":\"object\",\"name\":\"Grid\",\"id\":\"69a109fc-01e9-4cba-8c46-a4a9c7d81235\",\"attributes\":{\"axis\":{\"id\":\"d04776ae-b07f-4b0a-877d-294ec21b2655\"},\"grid_line_color\":null}},{\"type\":\"object\",\"name\":\"Grid\",\"id\":\"e480aaf6-b35b-4c4f-add2-ea89682537ed\",\"attributes\":{\"dimension\":1,\"axis\":{\"id\":\"7b5fccb5-6aa0-46b0-925f-2a46ce249280\"},\"grid_line_color\":null}}],\"min_border_top\":10,\"min_border_bottom\":10,\"min_border_left\":10,\"min_border_right\":10,\"output_backend\":\"webgl\"}},{\"type\":\"object\",\"name\":\"Spacer\",\"id\":\"c1717550-e6db-40c7-90ad-fdb8d8bfc727\",\"attributes\":{\"name\":\"HSpacer00365\",\"stylesheets\":[\"\\n:host(.pn-loading):before, .pn-loading:before {\\n  background-color: #c3c3c3;\\n  mask-size: auto calc(min(50%, 400px));\\n  -webkit-mask-size: auto calc(min(50%, 400px));\\n}\",{\"id\":\"efd49309-57d2-489b-87ce-450677badbdb\"},{\"id\":\"66cabf3c-398e-488a-aa5e-77bad34e4d3e\"},{\"id\":\"485a26b7-3460-4f9d-a007-49c1cbbc9407\"}],\"margin\":0,\"sizing_mode\":\"stretch_width\",\"align\":\"start\"}}]}}],\"defs\":[{\"type\":\"model\",\"name\":\"ReactiveHTML1\"},{\"type\":\"model\",\"name\":\"FlexBox1\",\"properties\":[{\"name\":\"align_content\",\"kind\":\"Any\",\"default\":\"flex-start\"},{\"name\":\"align_items\",\"kind\":\"Any\",\"default\":\"flex-start\"},{\"name\":\"flex_direction\",\"kind\":\"Any\",\"default\":\"row\"},{\"name\":\"flex_wrap\",\"kind\":\"Any\",\"default\":\"wrap\"},{\"name\":\"gap\",\"kind\":\"Any\",\"default\":\"\"},{\"name\":\"justify_content\",\"kind\":\"Any\",\"default\":\"flex-start\"}]},{\"type\":\"model\",\"name\":\"FloatPanel1\",\"properties\":[{\"name\":\"config\",\"kind\":\"Any\",\"default\":{\"type\":\"map\"}},{\"name\":\"contained\",\"kind\":\"Any\",\"default\":true},{\"name\":\"position\",\"kind\":\"Any\",\"default\":\"right-top\"},{\"name\":\"offsetx\",\"kind\":\"Any\",\"default\":null},{\"name\":\"offsety\",\"kind\":\"Any\",\"default\":null},{\"name\":\"theme\",\"kind\":\"Any\",\"default\":\"primary\"},{\"name\":\"status\",\"kind\":\"Any\",\"default\":\"normalized\"}]},{\"type\":\"model\",\"name\":\"GridStack1\",\"properties\":[{\"name\":\"ncols\",\"kind\":\"Any\",\"default\":null},{\"name\":\"nrows\",\"kind\":\"Any\",\"default\":null},{\"name\":\"allow_resize\",\"kind\":\"Any\",\"default\":true},{\"name\":\"allow_drag\",\"kind\":\"Any\",\"default\":true},{\"name\":\"state\",\"kind\":\"Any\",\"default\":[]}]},{\"type\":\"model\",\"name\":\"drag1\",\"properties\":[{\"name\":\"slider_width\",\"kind\":\"Any\",\"default\":5},{\"name\":\"slider_color\",\"kind\":\"Any\",\"default\":\"black\"},{\"name\":\"value\",\"kind\":\"Any\",\"default\":50}]},{\"type\":\"model\",\"name\":\"click1\",\"properties\":[{\"name\":\"terminal_output\",\"kind\":\"Any\",\"default\":\"\"},{\"name\":\"debug_name\",\"kind\":\"Any\",\"default\":\"\"},{\"name\":\"clears\",\"kind\":\"Any\",\"default\":0}]},{\"type\":\"model\",\"name\":\"FastWrapper1\",\"properties\":[{\"name\":\"object\",\"kind\":\"Any\",\"default\":null},{\"name\":\"style\",\"kind\":\"Any\",\"default\":null}]},{\"type\":\"model\",\"name\":\"NotificationArea1\",\"properties\":[{\"name\":\"js_events\",\"kind\":\"Any\",\"default\":{\"type\":\"map\"}},{\"name\":\"max_notifications\",\"kind\":\"Any\",\"default\":5},{\"name\":\"notifications\",\"kind\":\"Any\",\"default\":[]},{\"name\":\"position\",\"kind\":\"Any\",\"default\":\"bottom-right\"},{\"name\":\"_clear\",\"kind\":\"Any\",\"default\":0},{\"name\":\"types\",\"kind\":\"Any\",\"default\":[{\"type\":\"map\",\"entries\":[[\"type\",\"warning\"],[\"background\",\"#ffc107\"],[\"icon\",{\"type\":\"map\",\"entries\":[[\"className\",\"fas fa-exclamation-triangle\"],[\"tagName\",\"i\"],[\"color\",\"white\"]]}]]},{\"type\":\"map\",\"entries\":[[\"type\",\"info\"],[\"background\",\"#007bff\"],[\"icon\",{\"type\":\"map\",\"entries\":[[\"className\",\"fas fa-info-circle\"],[\"tagName\",\"i\"],[\"color\",\"white\"]]}]]}]}]},{\"type\":\"model\",\"name\":\"Notification\",\"properties\":[{\"name\":\"background\",\"kind\":\"Any\",\"default\":null},{\"name\":\"duration\",\"kind\":\"Any\",\"default\":3000},{\"name\":\"icon\",\"kind\":\"Any\",\"default\":null},{\"name\":\"message\",\"kind\":\"Any\",\"default\":\"\"},{\"name\":\"notification_type\",\"kind\":\"Any\",\"default\":null},{\"name\":\"_rendered\",\"kind\":\"Any\",\"default\":false},{\"name\":\"_destroyed\",\"kind\":\"Any\",\"default\":false}]},{\"type\":\"model\",\"name\":\"TemplateActions1\",\"properties\":[{\"name\":\"open_modal\",\"kind\":\"Any\",\"default\":0},{\"name\":\"close_modal\",\"kind\":\"Any\",\"default\":0}]},{\"type\":\"model\",\"name\":\"BootstrapTemplateActions1\",\"properties\":[{\"name\":\"open_modal\",\"kind\":\"Any\",\"default\":0},{\"name\":\"close_modal\",\"kind\":\"Any\",\"default\":0}]},{\"type\":\"model\",\"name\":\"TemplateEditor1\",\"properties\":[{\"name\":\"layout\",\"kind\":\"Any\",\"default\":[]}]},{\"type\":\"model\",\"name\":\"MaterialTemplateActions1\",\"properties\":[{\"name\":\"open_modal\",\"kind\":\"Any\",\"default\":0},{\"name\":\"close_modal\",\"kind\":\"Any\",\"default\":0}]},{\"type\":\"model\",\"name\":\"ReactiveESM1\",\"properties\":[{\"name\":\"esm_constants\",\"kind\":\"Any\",\"default\":{\"type\":\"map\"}}]},{\"type\":\"model\",\"name\":\"JSComponent1\",\"properties\":[{\"name\":\"esm_constants\",\"kind\":\"Any\",\"default\":{\"type\":\"map\"}}]},{\"type\":\"model\",\"name\":\"ReactComponent1\",\"properties\":[{\"name\":\"esm_constants\",\"kind\":\"Any\",\"default\":{\"type\":\"map\"}}]},{\"type\":\"model\",\"name\":\"AnyWidgetComponent1\",\"properties\":[{\"name\":\"esm_constants\",\"kind\":\"Any\",\"default\":{\"type\":\"map\"}}]},{\"type\":\"model\",\"name\":\"request_value1\",\"properties\":[{\"name\":\"fill\",\"kind\":\"Any\",\"default\":\"none\"},{\"name\":\"_synced\",\"kind\":\"Any\",\"default\":null},{\"name\":\"_request_sync\",\"kind\":\"Any\",\"default\":0}]}]}};\n",
       "  var render_items = [{\"docid\":\"4555f6a2-77ef-4c06-9292-e745218ec529\",\"roots\":{\"d995fa33-8082-4316-9aed-7ae1600f4e60\":\"f3b3185b-2c85-4543-a9d7-c84183034db4\"},\"root_ids\":[\"d995fa33-8082-4316-9aed-7ae1600f4e60\"]}];\n",
       "  var docs = Object.values(docs_json)\n",
       "  if (!docs) {\n",
       "    return\n",
       "  }\n",
       "  const py_version = docs[0].version.replace('rc', '-rc.').replace('.dev', '-dev.')\n",
       "  async function embed_document(root) {\n",
       "    var Bokeh = get_bokeh(root)\n",
       "    await Bokeh.embed.embed_items_notebook(docs_json, render_items);\n",
       "    for (const render_item of render_items) {\n",
       "      for (const root_id of render_item.root_ids) {\n",
       "\tconst id_el = document.getElementById(root_id)\n",
       "\tif (id_el.children.length && id_el.children[0].hasAttribute('data-root-id')) {\n",
       "\t  const root_el = id_el.children[0]\n",
       "\t  root_el.id = root_el.id + '-rendered'\n",
       "\t  for (const child of root_el.children) {\n",
       "            // Ensure JupyterLab does not capture keyboard shortcuts\n",
       "            // see: https://jupyterlab.readthedocs.io/en/4.1.x/extension/notebook.html#keyboard-interaction-model\n",
       "\t    child.setAttribute('data-lm-suppress-shortcuts', 'true')\n",
       "\t  }\n",
       "\t}\n",
       "      }\n",
       "    }\n",
       "  }\n",
       "  function get_bokeh(root) {\n",
       "    if (root.Bokeh === undefined) {\n",
       "      return null\n",
       "    } else if (root.Bokeh.version !== py_version) {\n",
       "      if (root.Bokeh.versions === undefined || !root.Bokeh.versions.has(py_version)) {\n",
       "\treturn null\n",
       "      }\n",
       "      return root.Bokeh.versions.get(py_version);\n",
       "    } else if (root.Bokeh.version === py_version) {\n",
       "      return root.Bokeh\n",
       "    }\n",
       "    return null\n",
       "  }\n",
       "  function is_loaded(root) {\n",
       "    var Bokeh = get_bokeh(root)\n",
       "    return (Bokeh != null && Bokeh.Panel !== undefined)\n",
       "  }\n",
       "  if (is_loaded(root)) {\n",
       "    embed_document(root);\n",
       "  } else {\n",
       "    var attempts = 0;\n",
       "    var timer = setInterval(function(root) {\n",
       "      if (is_loaded(root)) {\n",
       "        clearInterval(timer);\n",
       "        embed_document(root);\n",
       "      } else if (document.readyState == \"complete\") {\n",
       "        attempts++;\n",
       "        if (attempts > 200) {\n",
       "          clearInterval(timer);\n",
       "\t  var Bokeh = get_bokeh(root)\n",
       "\t  if (Bokeh == null || Bokeh.Panel == null) {\n",
       "            console.warn(\"Panel: ERROR: Unable to run Panel code because Bokeh or Panel library is missing\");\n",
       "\t  } else {\n",
       "\t    console.warn(\"Panel: WARNING: Attempting to render but not all required libraries could be resolved.\")\n",
       "\t    embed_document(root)\n",
       "\t  }\n",
       "        }\n",
       "      }\n",
       "    }, 25, root)\n",
       "  }\n",
       "})(window);</script>"
      ],
      "text/plain": [
       ":Overlay\n",
       "   .Bars.I    :Bars   [post_str_b2]   (percent)\n",
       "   .HLine.I   :HLine   [x,y]\n",
       "   .HLine.II  :HLine   [x,y]\n",
       "   .HLine.III :HLine   [x,y]"
      ]
     },
     "metadata": {
      "application/vnd.holoviews_exec.v0+json": {
       "id": "d995fa33-8082-4316-9aed-7ae1600f4e60"
      }
     },
     "output_type": "display_data"
    },
    {
     "name": "stdout",
     "output_type": "stream",
     "text": [
      "df_10_last FOR str_b2 = 21\n",
      "Last 3 results last_results=['20', '15', '17']\n"
     ]
    },
    {
     "data": {
      "text/html": [
       "<div><style>\n",
       ".dataframe > thead > tr,\n",
       ".dataframe > tbody > tr {\n",
       "  text-align: right;\n",
       "  white-space: pre-wrap;\n",
       "}\n",
       "</style>\n",
       "<small>shape: (10, 30)</small><table border=\"1\" class=\"dataframe\"><thead><tr><th>fecha</th><th>sorteo</th><th>bolillas</th><th>yapa</th><th>adicionales</th><th>sorteo_extra</th><th>id</th><th>combo</th><th>b1</th><th>b2</th><th>b3</th><th>b4</th><th>b5</th><th>b6</th><th>str_b1</th><th>str_b2</th><th>str_b3</th><th>str_b4</th><th>str_b5</th><th>str_b6</th><th>post_str_b1</th><th>post_str_b2</th><th>post_str_b3</th><th>post_str_b4</th><th>post_str_b5</th><th>post_str_blast</th><th>is_rare_combination</th><th>reason</th><th>jumps_map</th><th>unijump</th></tr><tr><td>str</td><td>str</td><td>str</td><td>str</td><td>str</td><td>str</td><td>str</td><td>array[u8, 6]</td><td>u8</td><td>u8</td><td>u8</td><td>u8</td><td>u8</td><td>u8</td><td>str</td><td>str</td><td>str</td><td>str</td><td>str</td><td>str</td><td>str</td><td>str</td><td>str</td><td>str</td><td>str</td><td>str</td><td>bool</td><td>u8</td><td>str</td><td>i64</td></tr></thead><tbody><tr><td>&quot;18/09/2024&quot;</td><td>&quot;1126&quot;</td><td>&quot;26 10 34 37 21 32&quot;</td><td>&quot;45&quot;</td><td>&quot;20 15&quot;</td><td>&quot;Promoción Sí o Sí&quot;</td><td>&quot;102126323437&quot;</td><td>[10, 21, … 37]</td><td>10</td><td>21</td><td>26</td><td>32</td><td>34</td><td>37</td><td>&quot;10&quot;</td><td>&quot;21&quot;</td><td>&quot;26&quot;</td><td>&quot;32&quot;</td><td>&quot;34&quot;</td><td>&quot;37&quot;</td><td>&quot;04&quot;</td><td>&quot;17&quot;</td><td>&quot;20&quot;</td><td>&quot;37&quot;</td><td>&quot;38&quot;</td><td>&quot;48&quot;</td><td>false</td><td>0</td><td>&quot;11_05_06_02_03&quot;</td><td>22</td></tr><tr><td>&quot;22/05/2024&quot;</td><td>&quot;1092&quot;</td><td>&quot;21 31 47 15 39 33&quot;</td><td>&quot;01&quot;</td><td>&quot;28 43&quot;</td><td>&quot;Promoción Sí o Sí&quot;</td><td>&quot;152131333947&quot;</td><td>[15, 21, … 47]</td><td>15</td><td>21</td><td>31</td><td>33</td><td>39</td><td>47</td><td>&quot;15&quot;</td><td>&quot;21&quot;</td><td>&quot;31&quot;</td><td>&quot;33&quot;</td><td>&quot;39&quot;</td><td>&quot;47&quot;</td><td>&quot;18&quot;</td><td>&quot;20&quot;</td><td>&quot;25&quot;</td><td>&quot;27&quot;</td><td>&quot;29&quot;</td><td>&quot;39&quot;</td><td>true</td><td>2</td><td>&quot;06_10_02_06_08&quot;</td><td>-38</td></tr><tr><td>&quot;17/04/2024&quot;</td><td>&quot;1082&quot;</td><td>&quot;47 40 26 21 06 27&quot;</td><td>&quot;34&quot;</td><td>&quot;35 11&quot;</td><td>&quot;Promoción Sí o Sí&quot;</td><td>&quot;062126274047&quot;</td><td>[6, 21, … 47]</td><td>6</td><td>21</td><td>26</td><td>27</td><td>40</td><td>47</td><td>&quot;06&quot;</td><td>&quot;21&quot;</td><td>&quot;26&quot;</td><td>&quot;27&quot;</td><td>&quot;40&quot;</td><td>&quot;47&quot;</td><td>&quot;02&quot;</td><td>&quot;15&quot;</td><td>&quot;16&quot;</td><td>&quot;29&quot;</td><td>&quot;34&quot;</td><td>&quot;36&quot;</td><td>true</td><td>16</td><td>&quot;15_05_01_13_07&quot;</td><td>-44</td></tr><tr><td>&quot;24/03/2024&quot;</td><td>&quot;1075&quot;</td><td>&quot;32 21 09 48 25 28&quot;</td><td>&quot;39&quot;</td><td>&quot;22&quot;</td><td>&quot;Promoción Sí o Sí&quot;</td><td>&quot;092125283248&quot;</td><td>[9, 21, … 48]</td><td>9</td><td>21</td><td>25</td><td>28</td><td>32</td><td>48</td><td>&quot;09&quot;</td><td>&quot;21&quot;</td><td>&quot;25&quot;</td><td>&quot;28&quot;</td><td>&quot;32&quot;</td><td>&quot;48&quot;</td><td>&quot;06&quot;</td><td>&quot;11&quot;</td><td>&quot;16&quot;</td><td>&quot;19&quot;</td><td>&quot;23&quot;</td><td>&quot;30&quot;</td><td>false</td><td>0</td><td>&quot;12_04_03_04_16&quot;</td><td>14</td></tr><tr><td>&quot;01/11/2023&quot;</td><td>&quot;1034&quot;</td><td>&quot;35 23 21 46 11 28&quot;</td><td>&quot;25&quot;</td><td>&quot;03 32&quot;</td><td>&quot;Promoción Sí o Sí&quot;</td><td>&quot;112123283546&quot;</td><td>[11, 21, … 46]</td><td>11</td><td>21</td><td>23</td><td>28</td><td>35</td><td>46</td><td>&quot;11&quot;</td><td>&quot;21&quot;</td><td>&quot;23&quot;</td><td>&quot;28&quot;</td><td>&quot;35&quot;</td><td>&quot;46&quot;</td><td>&quot;03&quot;</td><td>&quot;14&quot;</td><td>&quot;19&quot;</td><td>&quot;25&quot;</td><td>&quot;32&quot;</td><td>&quot;34&quot;</td><td>false</td><td>0</td><td>&quot;10_02_05_07_11&quot;</td><td>15</td></tr><tr><td>&quot;25/10/2023&quot;</td><td>&quot;1032&quot;</td><td>&quot;38 17 22 26 21 36&quot;</td><td>&quot;07&quot;</td><td>&quot;27 29 11&quot;</td><td>&quot;Promoción Sí o Sí&quot;</td><td>&quot;172122263638&quot;</td><td>[17, 21, … 38]</td><td>17</td><td>21</td><td>22</td><td>26</td><td>36</td><td>38</td><td>&quot;17&quot;</td><td>&quot;21&quot;</td><td>&quot;22&quot;</td><td>&quot;26&quot;</td><td>&quot;36&quot;</td><td>&quot;38&quot;</td><td>&quot;06&quot;</td><td>&quot;10&quot;</td><td>&quot;11&quot;</td><td>&quot;19&quot;</td><td>&quot;36&quot;</td><td>&quot;39&quot;</td><td>false</td><td>0</td><td>&quot;04_01_04_10_02&quot;</td><td>-14</td></tr><tr><td>&quot;30/07/2023&quot;</td><td>&quot;1007&quot;</td><td>&quot;40 27 18 44 21 39&quot;</td><td>&quot;30&quot;</td><td>&quot;13 48&quot;</td><td>&quot;Promoción Sí o Sí&quot;</td><td>&quot;182127394044&quot;</td><td>[18, 21, … 44]</td><td>18</td><td>21</td><td>27</td><td>39</td><td>40</td><td>44</td><td>&quot;18&quot;</td><td>&quot;21&quot;</td><td>&quot;27&quot;</td><td>&quot;39&quot;</td><td>&quot;40&quot;</td><td>&quot;44&quot;</td><td>&quot;05&quot;</td><td>&quot;12&quot;</td><td>&quot;16&quot;</td><td>&quot;33&quot;</td><td>&quot;38&quot;</td><td>&quot;42&quot;</td><td>false</td><td>0</td><td>&quot;03_06_12_01_04&quot;</td><td>51</td></tr><tr><td>&quot;17/05/2023&quot;</td><td>&quot;0986&quot;</td><td>&quot;43 38 15 21 33 28&quot;</td><td>&quot;08&quot;</td><td>&quot;40 13&quot;</td><td>&quot;Promoción Sí o Sí&quot;</td><td>&quot;152128333843&quot;</td><td>[15, 21, … 43]</td><td>15</td><td>21</td><td>28</td><td>33</td><td>38</td><td>43</td><td>&quot;15&quot;</td><td>&quot;21&quot;</td><td>&quot;28&quot;</td><td>&quot;33&quot;</td><td>&quot;38&quot;</td><td>&quot;43&quot;</td><td>&quot;05&quot;</td><td>&quot;12&quot;</td><td>&quot;18&quot;</td><td>&quot;29&quot;</td><td>&quot;35&quot;</td><td>&quot;45&quot;</td><td>true</td><td>8</td><td>&quot;06_07_05_05_05&quot;</td><td>-7</td></tr><tr><td>&quot;22/01/2023&quot;</td><td>&quot;0953&quot;</td><td>&quot;39 25 32 21 24 08&quot;</td><td>&quot;42&quot;</td><td>&quot;37 41&quot;</td><td>&quot;Promoción Sí o Sí&quot;</td><td>&quot;082124253239&quot;</td><td>[8, 21, … 39]</td><td>8</td><td>21</td><td>24</td><td>25</td><td>32</td><td>39</td><td>&quot;08&quot;</td><td>&quot;21&quot;</td><td>&quot;24&quot;</td><td>&quot;25&quot;</td><td>&quot;32&quot;</td><td>&quot;39&quot;</td><td>&quot;08&quot;</td><td>&quot;11&quot;</td><td>&quot;17&quot;</td><td>&quot;24&quot;</td><td>&quot;29&quot;</td><td>&quot;38&quot;</td><td>true</td><td>8</td><td>&quot;13_03_01_07_07&quot;</td><td>-14</td></tr><tr><td>&quot;21/09/2022&quot;</td><td>&quot;0918&quot;</td><td>&quot;44 38 25 21 33 08&quot;</td><td>&quot;27&quot;</td><td>&quot;32 13 41&quot;</td><td>&quot;Promoción Sí o Sí&quot;</td><td>&quot;082125333844&quot;</td><td>[8, 21, … 44]</td><td>8</td><td>21</td><td>25</td><td>33</td><td>38</td><td>44</td><td>&quot;08&quot;</td><td>&quot;21&quot;</td><td>&quot;25&quot;</td><td>&quot;33&quot;</td><td>&quot;38&quot;</td><td>&quot;44&quot;</td><td>&quot;01&quot;</td><td>&quot;09&quot;</td><td>&quot;13&quot;</td><td>&quot;17&quot;</td><td>&quot;36&quot;</td><td>&quot;44&quot;</td><td>false</td><td>0</td><td>&quot;13_04_08_05_06&quot;</td><td>31</td></tr></tbody></table></div>"
      ],
      "text/plain": [
       "shape: (10, 30)\n",
       "┌────────────┬────────┬───────────────┬──────┬───┬───────────────┬────────┬──────────────┬─────────┐\n",
       "│ fecha      ┆ sorteo ┆ bolillas      ┆ yapa ┆ … ┆ is_rare_combi ┆ reason ┆ jumps_map    ┆ unijump │\n",
       "│ ---        ┆ ---    ┆ ---           ┆ ---  ┆   ┆ nation        ┆ ---    ┆ ---          ┆ ---     │\n",
       "│ str        ┆ str    ┆ str           ┆ str  ┆   ┆ ---           ┆ u8     ┆ str          ┆ i64     │\n",
       "│            ┆        ┆               ┆      ┆   ┆ bool          ┆        ┆              ┆         │\n",
       "╞════════════╪════════╪═══════════════╪══════╪═══╪═══════════════╪════════╪══════════════╪═════════╡\n",
       "│ 18/09/2024 ┆ 1126   ┆ 26 10 34 37   ┆ 45   ┆ … ┆ false         ┆ 0      ┆ 11_05_06_02_ ┆ 22      │\n",
       "│            ┆        ┆ 21 32         ┆      ┆   ┆               ┆        ┆ 03           ┆         │\n",
       "│ 22/05/2024 ┆ 1092   ┆ 21 31 47 15   ┆ 01   ┆ … ┆ true          ┆ 2      ┆ 06_10_02_06_ ┆ -38     │\n",
       "│            ┆        ┆ 39 33         ┆      ┆   ┆               ┆        ┆ 08           ┆         │\n",
       "│ 17/04/2024 ┆ 1082   ┆ 47 40 26 21   ┆ 34   ┆ … ┆ true          ┆ 16     ┆ 15_05_01_13_ ┆ -44     │\n",
       "│            ┆        ┆ 06 27         ┆      ┆   ┆               ┆        ┆ 07           ┆         │\n",
       "│ 24/03/2024 ┆ 1075   ┆ 32 21 09 48   ┆ 39   ┆ … ┆ false         ┆ 0      ┆ 12_04_03_04_ ┆ 14      │\n",
       "│            ┆        ┆ 25 28         ┆      ┆   ┆               ┆        ┆ 16           ┆         │\n",
       "│ 01/11/2023 ┆ 1034   ┆ 35 23 21 46   ┆ 25   ┆ … ┆ false         ┆ 0      ┆ 10_02_05_07_ ┆ 15      │\n",
       "│            ┆        ┆ 11 28         ┆      ┆   ┆               ┆        ┆ 11           ┆         │\n",
       "│ 25/10/2023 ┆ 1032   ┆ 38 17 22 26   ┆ 07   ┆ … ┆ false         ┆ 0      ┆ 04_01_04_10_ ┆ -14     │\n",
       "│            ┆        ┆ 21 36         ┆      ┆   ┆               ┆        ┆ 02           ┆         │\n",
       "│ 30/07/2023 ┆ 1007   ┆ 40 27 18 44   ┆ 30   ┆ … ┆ false         ┆ 0      ┆ 03_06_12_01_ ┆ 51      │\n",
       "│            ┆        ┆ 21 39         ┆      ┆   ┆               ┆        ┆ 04           ┆         │\n",
       "│ 17/05/2023 ┆ 0986   ┆ 43 38 15 21   ┆ 08   ┆ … ┆ true          ┆ 8      ┆ 06_07_05_05_ ┆ -7      │\n",
       "│            ┆        ┆ 33 28         ┆      ┆   ┆               ┆        ┆ 05           ┆         │\n",
       "│ 22/01/2023 ┆ 0953   ┆ 39 25 32 21   ┆ 42   ┆ … ┆ true          ┆ 8      ┆ 13_03_01_07_ ┆ -14     │\n",
       "│            ┆        ┆ 24 08         ┆      ┆   ┆               ┆        ┆ 07           ┆         │\n",
       "│ 21/09/2022 ┆ 0918   ┆ 44 38 25 21   ┆ 27   ┆ … ┆ false         ┆ 0      ┆ 13_04_08_05_ ┆ 31      │\n",
       "│            ┆        ┆ 33 08         ┆      ┆   ┆               ┆        ┆ 06           ┆         │\n",
       "└────────────┴────────┴───────────────┴──────┴───┴───────────────┴────────┴──────────────┴─────────┘"
      ]
     },
     "metadata": {},
     "output_type": "display_data"
    },
    {
     "name": "stdout",
     "output_type": "stream",
     "text": [
      "df_jumps_map FOR str_b2 = 21\n"
     ]
    },
    {
     "data": {
      "text/html": [
       "<div><style>\n",
       ".dataframe > thead > tr,\n",
       ".dataframe > tbody > tr {\n",
       "  text-align: right;\n",
       "  white-space: pre-wrap;\n",
       "}\n",
       "</style>\n",
       "<small>shape: (61, 2)</small><table border=\"1\" class=\"dataframe\"><thead><tr><th>jumps_map</th><th>count</th></tr><tr><td>str</td><td>u32</td></tr></thead><tbody><tr><td>&quot;16_05_05_06_03&quot;</td><td>1</td></tr><tr><td>&quot;03_01_14_06_01&quot;</td><td>1</td></tr><tr><td>&quot;03_09_06_05_04&quot;</td><td>1</td></tr><tr><td>&quot;16_04_07_08_05&quot;</td><td>1</td></tr><tr><td>&quot;19_07_10_02_02&quot;</td><td>1</td></tr><tr><td>&hellip;</td><td>&hellip;</td></tr><tr><td>&quot;17_01_16_01_06&quot;</td><td>1</td></tr><tr><td>&quot;09_03_09_03_05&quot;</td><td>1</td></tr><tr><td>&quot;11_04_03_02_03&quot;</td><td>1</td></tr><tr><td>&quot;05_05_02_12_05&quot;</td><td>1</td></tr><tr><td>&quot;18_04_01_11_01&quot;</td><td>1</td></tr></tbody></table></div>"
      ],
      "text/plain": [
       "shape: (61, 2)\n",
       "┌────────────────┬───────┐\n",
       "│ jumps_map      ┆ count │\n",
       "│ ---            ┆ ---   │\n",
       "│ str            ┆ u32   │\n",
       "╞════════════════╪═══════╡\n",
       "│ 16_05_05_06_03 ┆ 1     │\n",
       "│ 03_01_14_06_01 ┆ 1     │\n",
       "│ 03_09_06_05_04 ┆ 1     │\n",
       "│ 16_04_07_08_05 ┆ 1     │\n",
       "│ 19_07_10_02_02 ┆ 1     │\n",
       "│ …              ┆ …     │\n",
       "│ 17_01_16_01_06 ┆ 1     │\n",
       "│ 09_03_09_03_05 ┆ 1     │\n",
       "│ 11_04_03_02_03 ┆ 1     │\n",
       "│ 05_05_02_12_05 ┆ 1     │\n",
       "│ 18_04_01_11_01 ┆ 1     │\n",
       "└────────────────┴───────┘"
      ]
     },
     "metadata": {},
     "output_type": "display_data"
    },
    {
     "name": "stdout",
     "output_type": "stream",
     "text": [
      "df_unijump FOR str_b2 = 21\n"
     ]
    },
    {
     "data": {
      "text/html": [
       "<div><style>\n",
       ".dataframe > thead > tr,\n",
       ".dataframe > tbody > tr {\n",
       "  text-align: right;\n",
       "  white-space: pre-wrap;\n",
       "}\n",
       "</style>\n",
       "<small>shape: (52, 2)</small><table border=\"1\" class=\"dataframe\"><thead><tr><th>unijump</th><th>count</th></tr><tr><td>i64</td><td>u32</td></tr></thead><tbody><tr><td>3</td><td>3</td></tr><tr><td>-14</td><td>2</td></tr><tr><td>-17</td><td>2</td></tr><tr><td>15</td><td>2</td></tr><tr><td>5</td><td>2</td></tr><tr><td>&hellip;</td><td>&hellip;</td></tr><tr><td>22</td><td>1</td></tr><tr><td>-10</td><td>1</td></tr><tr><td>46</td><td>1</td></tr><tr><td>-35</td><td>1</td></tr><tr><td>-5</td><td>1</td></tr></tbody></table></div>"
      ],
      "text/plain": [
       "shape: (52, 2)\n",
       "┌─────────┬───────┐\n",
       "│ unijump ┆ count │\n",
       "│ ---     ┆ ---   │\n",
       "│ i64     ┆ u32   │\n",
       "╞═════════╪═══════╡\n",
       "│ 3       ┆ 3     │\n",
       "│ -14     ┆ 2     │\n",
       "│ -17     ┆ 2     │\n",
       "│ 15      ┆ 2     │\n",
       "│ 5       ┆ 2     │\n",
       "│ …       ┆ …     │\n",
       "│ 22      ┆ 1     │\n",
       "│ -10     ┆ 1     │\n",
       "│ 46      ┆ 1     │\n",
       "│ -35     ┆ 1     │\n",
       "│ -5      ┆ 1     │\n",
       "└─────────┴───────┘"
      ]
     },
     "metadata": {},
     "output_type": "display_data"
    }
   ],
   "source": [
    "possible_b2, exclude_jump_maps_b2, last_post_b2 = plot_post_col(col='str_b2', post_col='post_str_b2')"
   ]
  },
  {
   "cell_type": "code",
   "execution_count": 48,
   "metadata": {},
   "outputs": [
    {
     "name": "stdout",
     "output_type": "stream",
     "text": [
      "Setting test_value='43'\n"
     ]
    },
    {
     "ename": "TypeError",
     "evalue": "unsupported operand type(s) for *: 'NoneType' and 'int'",
     "output_type": "error",
     "traceback": [
      "\u001b[0;31m---------------------------------------------------------------------------\u001b[0m",
      "\u001b[0;31mTypeError\u001b[0m                                 Traceback (most recent call last)",
      "Cell \u001b[0;32mIn[48], line 1\u001b[0m\n\u001b[0;32m----> 1\u001b[0m possible_b3, exclude_jump_maps_b3, last_post_b3 \u001b[38;5;241m=\u001b[39m \u001b[43mplot_post_col\u001b[49m\u001b[43m(\u001b[49m\u001b[43mcol\u001b[49m\u001b[38;5;241;43m=\u001b[39;49m\u001b[38;5;124;43m'\u001b[39;49m\u001b[38;5;124;43mstr_b3\u001b[39;49m\u001b[38;5;124;43m'\u001b[39;49m\u001b[43m,\u001b[49m\u001b[43m \u001b[49m\u001b[43mpost_col\u001b[49m\u001b[38;5;241;43m=\u001b[39;49m\u001b[38;5;124;43m'\u001b[39;49m\u001b[38;5;124;43mpost_str_b3\u001b[39;49m\u001b[38;5;124;43m'\u001b[39;49m\u001b[43m)\u001b[49m\n",
      "Cell \u001b[0;32mIn[45], line 32\u001b[0m, in \u001b[0;36mplot_post_col\u001b[0;34m(col, post_col, test_value)\u001b[0m\n\u001b[1;32m     27\u001b[0m df_viz \u001b[38;5;241m=\u001b[39m df_viz\u001b[38;5;241m.\u001b[39mwith_columns(\n\u001b[1;32m     28\u001b[0m   ( (pl\u001b[38;5;241m.\u001b[39mcol(\u001b[38;5;124m'\u001b[39m\u001b[38;5;124mcount\u001b[39m\u001b[38;5;124m'\u001b[39m) \u001b[38;5;241m/\u001b[39m total) \u001b[38;5;241m*\u001b[39m \u001b[38;5;241m100\u001b[39m )\u001b[38;5;241m.\u001b[39malias(\u001b[38;5;124m'\u001b[39m\u001b[38;5;124mpercent\u001b[39m\u001b[38;5;124m'\u001b[39m)\n\u001b[1;32m     29\u001b[0m )\n\u001b[1;32m     31\u001b[0m mean_percent \u001b[38;5;241m=\u001b[39m df_viz[\u001b[38;5;124m'\u001b[39m\u001b[38;5;124mpercent\u001b[39m\u001b[38;5;124m'\u001b[39m]\u001b[38;5;241m.\u001b[39mmean()\n\u001b[0;32m---> 32\u001b[0m mean_percent_75 \u001b[38;5;241m=\u001b[39m \u001b[43mmean_percent\u001b[49m\u001b[43m \u001b[49m\u001b[38;5;241;43m*\u001b[39;49m\u001b[43m \u001b[49m\u001b[38;5;241;43m75\u001b[39;49m \u001b[38;5;241m/\u001b[39m \u001b[38;5;241m50\u001b[39m\n\u001b[1;32m     33\u001b[0m mean_percent_25 \u001b[38;5;241m=\u001b[39m mean_percent \u001b[38;5;241m*\u001b[39m \u001b[38;5;241m25\u001b[39m \u001b[38;5;241m/\u001b[39m \u001b[38;5;241m50\u001b[39m\n\u001b[1;32m     35\u001b[0m chart \u001b[38;5;241m=\u001b[39m df_viz\u001b[38;5;241m.\u001b[39mhvplot\u001b[38;5;241m.\u001b[39mbar(\n\u001b[1;32m     36\u001b[0m   x\u001b[38;5;241m=\u001b[39mpost_col,\n\u001b[1;32m     37\u001b[0m   y\u001b[38;5;241m=\u001b[39m\u001b[38;5;124m'\u001b[39m\u001b[38;5;124mpercent\u001b[39m\u001b[38;5;124m'\u001b[39m\n\u001b[1;32m     38\u001b[0m )\n",
      "\u001b[0;31mTypeError\u001b[0m: unsupported operand type(s) for *: 'NoneType' and 'int'"
     ]
    }
   ],
   "source": [
    "possible_b3, exclude_jump_maps_b3, last_post_b3 = plot_post_col(col='str_b3', post_col='post_str_b3')"
   ]
  },
  {
   "cell_type": "code",
   "execution_count": 49,
   "metadata": {},
   "outputs": [
    {
     "name": "stdout",
     "output_type": "stream",
     "text": [
      "Setting test_value='45'\n"
     ]
    },
    {
     "ename": "TypeError",
     "evalue": "unsupported operand type(s) for *: 'NoneType' and 'int'",
     "output_type": "error",
     "traceback": [
      "\u001b[0;31m---------------------------------------------------------------------------\u001b[0m",
      "\u001b[0;31mTypeError\u001b[0m                                 Traceback (most recent call last)",
      "Cell \u001b[0;32mIn[49], line 1\u001b[0m\n\u001b[0;32m----> 1\u001b[0m possible_b4, exclude_jump_maps_b4, last_post_b4 \u001b[38;5;241m=\u001b[39m \u001b[43mplot_post_col\u001b[49m\u001b[43m(\u001b[49m\u001b[43mcol\u001b[49m\u001b[38;5;241;43m=\u001b[39;49m\u001b[38;5;124;43m'\u001b[39;49m\u001b[38;5;124;43mstr_b4\u001b[39;49m\u001b[38;5;124;43m'\u001b[39;49m\u001b[43m,\u001b[49m\u001b[43m \u001b[49m\u001b[43mpost_col\u001b[49m\u001b[38;5;241;43m=\u001b[39;49m\u001b[38;5;124;43m'\u001b[39;49m\u001b[38;5;124;43mpost_str_b4\u001b[39;49m\u001b[38;5;124;43m'\u001b[39;49m\u001b[43m)\u001b[49m\n",
      "Cell \u001b[0;32mIn[45], line 32\u001b[0m, in \u001b[0;36mplot_post_col\u001b[0;34m(col, post_col, test_value)\u001b[0m\n\u001b[1;32m     27\u001b[0m df_viz \u001b[38;5;241m=\u001b[39m df_viz\u001b[38;5;241m.\u001b[39mwith_columns(\n\u001b[1;32m     28\u001b[0m   ( (pl\u001b[38;5;241m.\u001b[39mcol(\u001b[38;5;124m'\u001b[39m\u001b[38;5;124mcount\u001b[39m\u001b[38;5;124m'\u001b[39m) \u001b[38;5;241m/\u001b[39m total) \u001b[38;5;241m*\u001b[39m \u001b[38;5;241m100\u001b[39m )\u001b[38;5;241m.\u001b[39malias(\u001b[38;5;124m'\u001b[39m\u001b[38;5;124mpercent\u001b[39m\u001b[38;5;124m'\u001b[39m)\n\u001b[1;32m     29\u001b[0m )\n\u001b[1;32m     31\u001b[0m mean_percent \u001b[38;5;241m=\u001b[39m df_viz[\u001b[38;5;124m'\u001b[39m\u001b[38;5;124mpercent\u001b[39m\u001b[38;5;124m'\u001b[39m]\u001b[38;5;241m.\u001b[39mmean()\n\u001b[0;32m---> 32\u001b[0m mean_percent_75 \u001b[38;5;241m=\u001b[39m \u001b[43mmean_percent\u001b[49m\u001b[43m \u001b[49m\u001b[38;5;241;43m*\u001b[39;49m\u001b[43m \u001b[49m\u001b[38;5;241;43m75\u001b[39;49m \u001b[38;5;241m/\u001b[39m \u001b[38;5;241m50\u001b[39m\n\u001b[1;32m     33\u001b[0m mean_percent_25 \u001b[38;5;241m=\u001b[39m mean_percent \u001b[38;5;241m*\u001b[39m \u001b[38;5;241m25\u001b[39m \u001b[38;5;241m/\u001b[39m \u001b[38;5;241m50\u001b[39m\n\u001b[1;32m     35\u001b[0m chart \u001b[38;5;241m=\u001b[39m df_viz\u001b[38;5;241m.\u001b[39mhvplot\u001b[38;5;241m.\u001b[39mbar(\n\u001b[1;32m     36\u001b[0m   x\u001b[38;5;241m=\u001b[39mpost_col,\n\u001b[1;32m     37\u001b[0m   y\u001b[38;5;241m=\u001b[39m\u001b[38;5;124m'\u001b[39m\u001b[38;5;124mpercent\u001b[39m\u001b[38;5;124m'\u001b[39m\n\u001b[1;32m     38\u001b[0m )\n",
      "\u001b[0;31mTypeError\u001b[0m: unsupported operand type(s) for *: 'NoneType' and 'int'"
     ]
    }
   ],
   "source": [
    "possible_b4, exclude_jump_maps_b4, last_post_b4 = plot_post_col(col='str_b4', post_col='post_str_b4')"
   ]
  },
  {
   "cell_type": "code",
   "execution_count": 50,
   "metadata": {},
   "outputs": [
    {
     "name": "stdout",
     "output_type": "stream",
     "text": [
      "Setting test_value='49'\n"
     ]
    },
    {
     "ename": "ColumnNotFoundError",
     "evalue": "unable to find column \"post_str_5\"; valid columns: [\"fecha\", \"sorteo\", \"bolillas\", \"yapa\", \"adicionales\", \"sorteo_extra\", \"id\", \"combo\", \"b1\", \"b2\", \"b3\", \"b4\", \"b5\", \"b6\", \"str_b1\", \"str_b2\", \"str_b3\", \"str_b4\", \"str_b5\", \"str_b6\", \"post_str_b1\", \"post_str_b2\", \"post_str_b3\", \"post_str_b4\", \"post_str_b5\", \"post_str_blast\", \"is_rare_combination\", \"reason\", \"jumps_map\", \"unijump\"]\n\nResolved plan until failure:\n\n\t---> FAILED HERE RESOLVING 'sink' <---\nDF [\"fecha\", \"sorteo\", \"bolillas\", \"yapa\", ...]; PROJECT */30 COLUMNS",
     "output_type": "error",
     "traceback": [
      "\u001b[0;31m---------------------------------------------------------------------------\u001b[0m",
      "\u001b[0;31mColumnNotFoundError\u001b[0m                       Traceback (most recent call last)",
      "Cell \u001b[0;32mIn[50], line 1\u001b[0m\n\u001b[0;32m----> 1\u001b[0m possible_5, exclude_jump_maps_5, last_post_5 \u001b[38;5;241m=\u001b[39m \u001b[43mplot_post_col\u001b[49m\u001b[43m(\u001b[49m\u001b[43mcol\u001b[49m\u001b[38;5;241;43m=\u001b[39;49m\u001b[38;5;124;43m'\u001b[39;49m\u001b[38;5;124;43mstr_b6\u001b[39;49m\u001b[38;5;124;43m'\u001b[39;49m\u001b[43m,\u001b[49m\u001b[43m \u001b[49m\u001b[43mpost_col\u001b[49m\u001b[38;5;241;43m=\u001b[39;49m\u001b[38;5;124;43m'\u001b[39;49m\u001b[38;5;124;43mpost_str_5\u001b[39;49m\u001b[38;5;124;43m'\u001b[39;49m\u001b[43m)\u001b[49m\n",
      "Cell \u001b[0;32mIn[45], line 8\u001b[0m, in \u001b[0;36mplot_post_col\u001b[0;34m(col, post_col, test_value)\u001b[0m\n\u001b[1;32m      4\u001b[0m   test_value \u001b[38;5;241m=\u001b[39m dfRows\u001b[38;5;241m.\u001b[39mitem(\u001b[38;5;241m0\u001b[39m, col)\n\u001b[1;32m      5\u001b[0m   \u001b[38;5;28mprint\u001b[39m(\u001b[38;5;124mf\u001b[39m\u001b[38;5;124m'\u001b[39m\u001b[38;5;124mSetting \u001b[39m\u001b[38;5;132;01m{\u001b[39;00mtest_value\u001b[38;5;132;01m=}\u001b[39;00m\u001b[38;5;124m'\u001b[39m)\n\u001b[1;32m      7\u001b[0m df_viz \u001b[38;5;241m=\u001b[39m \u001b[43mdfRows\u001b[49m\u001b[43m \u001b[49m\u001b[43m\\\u001b[49m\n\u001b[0;32m----> 8\u001b[0m \u001b[43m  \u001b[49m\u001b[38;5;241;43m.\u001b[39;49m\u001b[43mfilter\u001b[49m\u001b[43m(\u001b[49m\n\u001b[1;32m      9\u001b[0m \u001b[43m    \u001b[49m\u001b[43mpl\u001b[49m\u001b[38;5;241;43m.\u001b[39;49m\u001b[43mcol\u001b[49m\u001b[43m(\u001b[49m\u001b[43mcol\u001b[49m\u001b[43m)\u001b[49m\u001b[43m \u001b[49m\u001b[38;5;241;43m==\u001b[39;49m\u001b[43m \u001b[49m\u001b[43mtest_value\u001b[49m\u001b[43m,\u001b[49m\n\u001b[1;32m     10\u001b[0m \u001b[43m    \u001b[49m\u001b[43mpl\u001b[49m\u001b[38;5;241;43m.\u001b[39;49m\u001b[43mcol\u001b[49m\u001b[43m(\u001b[49m\u001b[43mpost_col\u001b[49m\u001b[43m)\u001b[49m\u001b[38;5;241;43m.\u001b[39;49m\u001b[43mis_not_null\u001b[49m\u001b[43m(\u001b[49m\u001b[43m)\u001b[49m\n\u001b[1;32m     11\u001b[0m \u001b[43m  \u001b[49m\u001b[43m)\u001b[49m \\\n\u001b[1;32m     12\u001b[0m   \u001b[38;5;241m.\u001b[39mgroup_by(\n\u001b[1;32m     13\u001b[0m     post_col\n\u001b[1;32m     14\u001b[0m   )\u001b[38;5;241m.\u001b[39magg(pl\u001b[38;5;241m.\u001b[39mcount(post_col)\u001b[38;5;241m.\u001b[39malias(\u001b[38;5;124m'\u001b[39m\u001b[38;5;124mcount\u001b[39m\u001b[38;5;124m'\u001b[39m)) \\\n\u001b[1;32m     15\u001b[0m   \u001b[38;5;241m.\u001b[39msort(\u001b[38;5;124m\"\u001b[39m\u001b[38;5;124mcount\u001b[39m\u001b[38;5;124m\"\u001b[39m, descending\u001b[38;5;241m=\u001b[39m\u001b[38;5;28;01mTrue\u001b[39;00m)\n\u001b[1;32m     18\u001b[0m df_10_last \u001b[38;5;241m=\u001b[39m dfRows \\\n\u001b[1;32m     19\u001b[0m   \u001b[38;5;241m.\u001b[39mfilter(\n\u001b[1;32m     20\u001b[0m     pl\u001b[38;5;241m.\u001b[39mcol(col) \u001b[38;5;241m==\u001b[39m test_value,\n\u001b[1;32m     21\u001b[0m     pl\u001b[38;5;241m.\u001b[39mcol(post_col)\u001b[38;5;241m.\u001b[39mis_not_null()\n\u001b[1;32m     22\u001b[0m   ) \\\n\u001b[1;32m     23\u001b[0m   \u001b[38;5;241m.\u001b[39mhead(\u001b[38;5;241m10\u001b[39m)\n\u001b[1;32m     25\u001b[0m \u001b[38;5;66;03m# Agrega una columna que sea el porcentaje de la frecuencia relativa\u001b[39;00m\n",
      "File \u001b[0;32m~/Projects/python/tinkapp.v4/.venv/lib/python3.12/site-packages/polars/dataframe/frame.py:5124\u001b[0m, in \u001b[0;36mDataFrame.filter\u001b[0;34m(self, *predicates, **constraints)\u001b[0m\n\u001b[1;32m   4958\u001b[0m \u001b[38;5;28;01mdef\u001b[39;00m\u001b[38;5;250m \u001b[39m\u001b[38;5;21mfilter\u001b[39m(\n\u001b[1;32m   4959\u001b[0m     \u001b[38;5;28mself\u001b[39m,\n\u001b[1;32m   4960\u001b[0m     \u001b[38;5;241m*\u001b[39mpredicates: (\n\u001b[0;32m   (...)\u001b[0m\n\u001b[1;32m   4967\u001b[0m     \u001b[38;5;241m*\u001b[39m\u001b[38;5;241m*\u001b[39mconstraints: Any,\n\u001b[1;32m   4968\u001b[0m ) \u001b[38;5;241m-\u001b[39m\u001b[38;5;241m>\u001b[39m DataFrame:\n\u001b[1;32m   4969\u001b[0m \u001b[38;5;250m    \u001b[39m\u001b[38;5;124;03m\"\"\"\u001b[39;00m\n\u001b[1;32m   4970\u001b[0m \u001b[38;5;124;03m    Filter rows, retaining those that match the given predicate expression(s).\u001b[39;00m\n\u001b[1;32m   4971\u001b[0m \n\u001b[0;32m   (...)\u001b[0m\n\u001b[1;32m   5122\u001b[0m \u001b[38;5;124;03m    └──────┴──────┴─────┘\u001b[39;00m\n\u001b[1;32m   5123\u001b[0m \u001b[38;5;124;03m    \"\"\"\u001b[39;00m\n\u001b[0;32m-> 5124\u001b[0m     \u001b[38;5;28;01mreturn\u001b[39;00m \u001b[38;5;28;43mself\u001b[39;49m\u001b[38;5;241;43m.\u001b[39;49m\u001b[43mlazy\u001b[49m\u001b[43m(\u001b[49m\u001b[43m)\u001b[49m\u001b[38;5;241;43m.\u001b[39;49m\u001b[43mfilter\u001b[49m\u001b[43m(\u001b[49m\u001b[38;5;241;43m*\u001b[39;49m\u001b[43mpredicates\u001b[49m\u001b[43m,\u001b[49m\u001b[43m \u001b[49m\u001b[38;5;241;43m*\u001b[39;49m\u001b[38;5;241;43m*\u001b[39;49m\u001b[43mconstraints\u001b[49m\u001b[43m)\u001b[49m\u001b[38;5;241;43m.\u001b[39;49m\u001b[43mcollect\u001b[49m\u001b[43m(\u001b[49m\u001b[43m_eager\u001b[49m\u001b[38;5;241;43m=\u001b[39;49m\u001b[38;5;28;43;01mTrue\u001b[39;49;00m\u001b[43m)\u001b[49m\n",
      "File \u001b[0;32m~/Projects/python/tinkapp.v4/.venv/lib/python3.12/site-packages/polars/_utils/deprecation.py:93\u001b[0m, in \u001b[0;36mdeprecate_streaming_parameter.<locals>.decorate.<locals>.wrapper\u001b[0;34m(*args, **kwargs)\u001b[0m\n\u001b[1;32m     89\u001b[0m         kwargs[\u001b[38;5;124m\"\u001b[39m\u001b[38;5;124mengine\u001b[39m\u001b[38;5;124m\"\u001b[39m] \u001b[38;5;241m=\u001b[39m \u001b[38;5;124m\"\u001b[39m\u001b[38;5;124min-memory\u001b[39m\u001b[38;5;124m\"\u001b[39m\n\u001b[1;32m     91\u001b[0m     \u001b[38;5;28;01mdel\u001b[39;00m kwargs[\u001b[38;5;124m\"\u001b[39m\u001b[38;5;124mstreaming\u001b[39m\u001b[38;5;124m\"\u001b[39m]\n\u001b[0;32m---> 93\u001b[0m \u001b[38;5;28;01mreturn\u001b[39;00m \u001b[43mfunction\u001b[49m\u001b[43m(\u001b[49m\u001b[38;5;241;43m*\u001b[39;49m\u001b[43margs\u001b[49m\u001b[43m,\u001b[49m\u001b[43m \u001b[49m\u001b[38;5;241;43m*\u001b[39;49m\u001b[38;5;241;43m*\u001b[39;49m\u001b[43mkwargs\u001b[49m\u001b[43m)\u001b[49m\n",
      "File \u001b[0;32m~/Projects/python/tinkapp.v4/.venv/lib/python3.12/site-packages/polars/lazyframe/frame.py:2224\u001b[0m, in \u001b[0;36mLazyFrame.collect\u001b[0;34m(self, type_coercion, _type_check, predicate_pushdown, projection_pushdown, simplify_expression, slice_pushdown, comm_subplan_elim, comm_subexpr_elim, cluster_with_columns, collapse_joins, no_optimization, engine, background, _check_order, _eager, **_kwargs)\u001b[0m\n\u001b[1;32m   2222\u001b[0m \u001b[38;5;66;03m# Only for testing purposes\u001b[39;00m\n\u001b[1;32m   2223\u001b[0m callback \u001b[38;5;241m=\u001b[39m _kwargs\u001b[38;5;241m.\u001b[39mget(\u001b[38;5;124m\"\u001b[39m\u001b[38;5;124mpost_opt_callback\u001b[39m\u001b[38;5;124m\"\u001b[39m, callback)\n\u001b[0;32m-> 2224\u001b[0m \u001b[38;5;28;01mreturn\u001b[39;00m wrap_df(\u001b[43mldf\u001b[49m\u001b[38;5;241;43m.\u001b[39;49m\u001b[43mcollect\u001b[49m\u001b[43m(\u001b[49m\u001b[43mengine\u001b[49m\u001b[43m,\u001b[49m\u001b[43m \u001b[49m\u001b[43mcallback\u001b[49m\u001b[43m)\u001b[49m)\n",
      "\u001b[0;31mColumnNotFoundError\u001b[0m: unable to find column \"post_str_5\"; valid columns: [\"fecha\", \"sorteo\", \"bolillas\", \"yapa\", \"adicionales\", \"sorteo_extra\", \"id\", \"combo\", \"b1\", \"b2\", \"b3\", \"b4\", \"b5\", \"b6\", \"str_b1\", \"str_b2\", \"str_b3\", \"str_b4\", \"str_b5\", \"str_b6\", \"post_str_b1\", \"post_str_b2\", \"post_str_b3\", \"post_str_b4\", \"post_str_b5\", \"post_str_blast\", \"is_rare_combination\", \"reason\", \"jumps_map\", \"unijump\"]\n\nResolved plan until failure:\n\n\t---> FAILED HERE RESOLVING 'sink' <---\nDF [\"fecha\", \"sorteo\", \"bolillas\", \"yapa\", ...]; PROJECT */30 COLUMNS"
     ]
    }
   ],
   "source": [
    "possible_5, exclude_jump_maps_5, last_post_5 = plot_post_col(col='str_b6', post_col='post_str_5')"
   ]
  },
  {
   "cell_type": "code",
   "execution_count": 51,
   "metadata": {},
   "outputs": [
    {
     "name": "stdout",
     "output_type": "stream",
     "text": [
      "Setting test_value='49'\n",
      "df_viz FOR str_b6 = 49\n"
     ]
    },
    {
     "data": {
      "text/html": [
       "<div><style>\n",
       ".dataframe > thead > tr,\n",
       ".dataframe > tbody > tr {\n",
       "  text-align: right;\n",
       "  white-space: pre-wrap;\n",
       "}\n",
       "</style>\n",
       "<small>shape: (8, 3)</small><table border=\"1\" class=\"dataframe\"><thead><tr><th>post_str_blast</th><th>count</th><th>percent</th></tr><tr><td>str</td><td>u32</td><td>f64</td></tr></thead><tbody><tr><td>&quot;47&quot;</td><td>3</td><td>30.0</td></tr><tr><td>&quot;42&quot;</td><td>1</td><td>10.0</td></tr><tr><td>&quot;49&quot;</td><td>1</td><td>10.0</td></tr><tr><td>&quot;48&quot;</td><td>1</td><td>10.0</td></tr><tr><td>&quot;43&quot;</td><td>1</td><td>10.0</td></tr><tr><td>&quot;35&quot;</td><td>1</td><td>10.0</td></tr><tr><td>&quot;46&quot;</td><td>1</td><td>10.0</td></tr><tr><td>&quot;39&quot;</td><td>1</td><td>10.0</td></tr></tbody></table></div>"
      ],
      "text/plain": [
       "shape: (8, 3)\n",
       "┌────────────────┬───────┬─────────┐\n",
       "│ post_str_blast ┆ count ┆ percent │\n",
       "│ ---            ┆ ---   ┆ ---     │\n",
       "│ str            ┆ u32   ┆ f64     │\n",
       "╞════════════════╪═══════╪═════════╡\n",
       "│ 47             ┆ 3     ┆ 30.0    │\n",
       "│ 42             ┆ 1     ┆ 10.0    │\n",
       "│ 49             ┆ 1     ┆ 10.0    │\n",
       "│ 48             ┆ 1     ┆ 10.0    │\n",
       "│ 43             ┆ 1     ┆ 10.0    │\n",
       "│ 35             ┆ 1     ┆ 10.0    │\n",
       "│ 46             ┆ 1     ┆ 10.0    │\n",
       "│ 39             ┆ 1     ┆ 10.0    │\n",
       "└────────────────┴───────┴─────────┘"
      ]
     },
     "metadata": {},
     "output_type": "display_data"
    },
    {
     "data": {},
     "metadata": {},
     "output_type": "display_data"
    },
    {
     "data": {
      "application/vnd.holoviews_exec.v0+json": "",
      "text/html": [
       "<div id='04ad3d94-e98b-4418-8444-9ad291877dda'>\n",
       "  <div id=\"b44db01f-b0a6-49b0-a623-828287b68074\" data-root-id=\"04ad3d94-e98b-4418-8444-9ad291877dda\" style=\"display: contents;\"></div>\n",
       "</div>\n",
       "<script type=\"application/javascript\">(function(root) {\n",
       "  var docs_json = {\"a91ec153-8660-4fd9-8080-55d60c702210\":{\"version\":\"3.7.2\",\"title\":\"Bokeh Application\",\"roots\":[{\"type\":\"object\",\"name\":\"Row\",\"id\":\"04ad3d94-e98b-4418-8444-9ad291877dda\",\"attributes\":{\"name\":\"Row00431\",\"tags\":[\"embedded\"],\"stylesheets\":[\"\\n:host(.pn-loading):before, .pn-loading:before {\\n  background-color: #c3c3c3;\\n  mask-size: auto calc(min(50%, 400px));\\n  -webkit-mask-size: auto calc(min(50%, 400px));\\n}\",{\"type\":\"object\",\"name\":\"ImportedStyleSheet\",\"id\":\"d5fdb364-011e-4f90-926d-d759b1ca5b59\",\"attributes\":{\"url\":\"https://cdn.holoviz.org/panel/1.6.2/dist/css/loading.css\"}},{\"type\":\"object\",\"name\":\"ImportedStyleSheet\",\"id\":\"9431236d-ca90-4d4c-a214-6c8836cb45ad\",\"attributes\":{\"url\":\"https://cdn.holoviz.org/panel/1.6.2/dist/css/listpanel.css\"}},{\"type\":\"object\",\"name\":\"ImportedStyleSheet\",\"id\":\"ab0414df-68a2-4970-9364-c0bcc730ed46\",\"attributes\":{\"url\":\"https://cdn.holoviz.org/panel/1.6.2/dist/bundled/theme/default.css\"}},{\"type\":\"object\",\"name\":\"ImportedStyleSheet\",\"id\":\"4be4304b-3e1d-4cb4-906d-27bebdfd5231\",\"attributes\":{\"url\":\"https://cdn.holoviz.org/panel/1.6.2/dist/bundled/theme/native.css\"}}],\"min_width\":700,\"margin\":0,\"sizing_mode\":\"stretch_width\",\"align\":\"start\",\"children\":[{\"type\":\"object\",\"name\":\"Spacer\",\"id\":\"c6ed40f1-b747-4287-ac00-22539a535e81\",\"attributes\":{\"name\":\"HSpacer00435\",\"stylesheets\":[\"\\n:host(.pn-loading):before, .pn-loading:before {\\n  background-color: #c3c3c3;\\n  mask-size: auto calc(min(50%, 400px));\\n  -webkit-mask-size: auto calc(min(50%, 400px));\\n}\",{\"id\":\"d5fdb364-011e-4f90-926d-d759b1ca5b59\"},{\"id\":\"ab0414df-68a2-4970-9364-c0bcc730ed46\"},{\"id\":\"4be4304b-3e1d-4cb4-906d-27bebdfd5231\"}],\"margin\":0,\"sizing_mode\":\"stretch_width\",\"align\":\"start\"}},{\"type\":\"object\",\"name\":\"Figure\",\"id\":\"57e7c3f5-ef68-4797-a7b8-ad49e9e7d162\",\"attributes\":{\"width\":700,\"height\":300,\"margin\":[5,10],\"sizing_mode\":\"fixed\",\"align\":\"start\",\"x_range\":{\"type\":\"object\",\"name\":\"FactorRange\",\"id\":\"7b4656d9-438b-437e-982d-380245f712e1\",\"attributes\":{\"name\":\"post_str_blast\",\"tags\":[[[\"post_str_blast\",null]],[]],\"factors\":[\"47\",\"42\",\"49\",\"48\",\"43\",\"35\",\"46\",\"39\"]}},\"y_range\":{\"type\":\"object\",\"name\":\"Range1d\",\"id\":\"792de03f-3824-4ab9-a8de-2530372fd503\",\"attributes\":{\"name\":\"percent\",\"tags\":[[[\"percent\",null]],{\"type\":\"map\",\"entries\":[[\"invert_yaxis\",false],[\"autorange\",false]]}],\"end\":32.00000000000001,\"reset_start\":0.0,\"reset_end\":32.00000000000001}},\"x_scale\":{\"type\":\"object\",\"name\":\"CategoricalScale\",\"id\":\"e648cf86-d943-4f6e-a34a-c81e65c56087\"},\"y_scale\":{\"type\":\"object\",\"name\":\"LinearScale\",\"id\":\"53eae563-5a59-46fd-9003-28203839ed76\"},\"title\":{\"type\":\"object\",\"name\":\"Title\",\"id\":\"f09062e5-ef8c-40b0-a516-940ccd67c63d\",\"attributes\":{\"text_color\":\"black\",\"text_font_size\":\"12pt\"}},\"renderers\":[{\"type\":\"object\",\"name\":\"GlyphRenderer\",\"id\":\"a4422d5d-b0ce-4aab-9752-c2696a7d106a\",\"attributes\":{\"data_source\":{\"type\":\"object\",\"name\":\"ColumnDataSource\",\"id\":\"0409aa3c-1ffc-4b73-853e-f905b3c5e306\",\"attributes\":{\"selected\":{\"type\":\"object\",\"name\":\"Selection\",\"id\":\"9e5310b1-6dc6-4c2f-8d21-e60ee66512e9\",\"attributes\":{\"indices\":[],\"line_indices\":[]}},\"selection_policy\":{\"type\":\"object\",\"name\":\"UnionRenderers\",\"id\":\"916a7a26-f571-486c-8931-773ea1f84fd9\"},\"data\":{\"type\":\"map\",\"entries\":[[\"post_str_blast\",[\"47\",\"42\",\"49\",\"48\",\"43\",\"35\",\"46\",\"39\"]],[\"percent\",{\"type\":\"ndarray\",\"array\":{\"type\":\"bytes\",\"data\":\"AQAAAAAAPkAAAAAAAAAkQAAAAAAAACRAAAAAAAAAJEAAAAAAAAAkQAAAAAAAACRAAAAAAAAAJEAAAAAAAAAkQA==\"},\"shape\":[8],\"dtype\":\"float64\",\"order\":\"little\"}]]}}},\"view\":{\"type\":\"object\",\"name\":\"CDSView\",\"id\":\"c6414045-54d2-45cf-af62-a1b02e65b9f5\",\"attributes\":{\"filter\":{\"type\":\"object\",\"name\":\"AllIndices\",\"id\":\"d4fdbb82-9953-45fa-a9fd-6df74b10580f\"}}},\"glyph\":{\"type\":\"object\",\"name\":\"VBar\",\"id\":\"1110ce40-1eba-4f06-9f4d-086fc222d822\",\"attributes\":{\"tags\":[\"apply_ranges\"],\"x\":{\"type\":\"field\",\"field\":\"post_str_blast\"},\"width\":{\"type\":\"value\",\"value\":0.8},\"top\":{\"type\":\"field\",\"field\":\"percent\"},\"fill_color\":{\"type\":\"value\",\"value\":\"#30a2da\"},\"hatch_color\":{\"type\":\"value\",\"value\":\"#30a2da\"}}},\"selection_glyph\":{\"type\":\"object\",\"name\":\"VBar\",\"id\":\"b506936d-bd3e-40bf-a5a4-c2d3ba8bf416\",\"attributes\":{\"tags\":[\"apply_ranges\"],\"x\":{\"type\":\"field\",\"field\":\"post_str_blast\"},\"width\":{\"type\":\"value\",\"value\":0.8},\"bottom\":{\"type\":\"value\",\"value\":0},\"top\":{\"type\":\"field\",\"field\":\"percent\"},\"line_color\":{\"type\":\"value\",\"value\":\"black\"},\"line_alpha\":{\"type\":\"value\",\"value\":1.0},\"line_width\":{\"type\":\"value\",\"value\":1},\"line_join\":{\"type\":\"value\",\"value\":\"bevel\"},\"line_cap\":{\"type\":\"value\",\"value\":\"butt\"},\"line_dash\":{\"type\":\"value\",\"value\":[]},\"line_dash_offset\":{\"type\":\"value\",\"value\":0},\"fill_color\":{\"type\":\"value\",\"value\":\"#30a2da\"},\"fill_alpha\":{\"type\":\"value\",\"value\":1.0},\"hatch_color\":{\"type\":\"value\",\"value\":\"#30a2da\"},\"hatch_alpha\":{\"type\":\"value\",\"value\":1.0},\"hatch_scale\":{\"type\":\"value\",\"value\":12.0},\"hatch_pattern\":{\"type\":\"value\",\"value\":null},\"hatch_weight\":{\"type\":\"value\",\"value\":1.0}}},\"nonselection_glyph\":{\"type\":\"object\",\"name\":\"VBar\",\"id\":\"a7b3acda-1f8a-4bf9-918f-b9f12cc14860\",\"attributes\":{\"tags\":[\"apply_ranges\"],\"x\":{\"type\":\"field\",\"field\":\"post_str_blast\"},\"width\":{\"type\":\"value\",\"value\":0.8},\"top\":{\"type\":\"field\",\"field\":\"percent\"},\"line_alpha\":{\"type\":\"value\",\"value\":0.1},\"fill_color\":{\"type\":\"value\",\"value\":\"#30a2da\"},\"fill_alpha\":{\"type\":\"value\",\"value\":0.1},\"hatch_color\":{\"type\":\"value\",\"value\":\"#30a2da\"},\"hatch_alpha\":{\"type\":\"value\",\"value\":0.1}}},\"muted_glyph\":{\"type\":\"object\",\"name\":\"VBar\",\"id\":\"d0c5dd09-5fe2-429e-a323-9e88b6bb471b\",\"attributes\":{\"tags\":[\"apply_ranges\"],\"x\":{\"type\":\"field\",\"field\":\"post_str_blast\"},\"width\":{\"type\":\"value\",\"value\":0.8},\"top\":{\"type\":\"field\",\"field\":\"percent\"},\"line_alpha\":{\"type\":\"value\",\"value\":0.2},\"fill_color\":{\"type\":\"value\",\"value\":\"#30a2da\"},\"fill_alpha\":{\"type\":\"value\",\"value\":0.2},\"hatch_color\":{\"type\":\"value\",\"value\":\"#30a2da\"},\"hatch_alpha\":{\"type\":\"value\",\"value\":0.2}}}}},{\"type\":\"object\",\"name\":\"Span\",\"id\":\"8cbcd55b-faf4-49a5-ae0c-ea02f258cf48\",\"attributes\":{\"level\":\"glyph\",\"location\":12.5,\"line_color\":\"red\",\"line_width\":3}},{\"type\":\"object\",\"name\":\"Span\",\"id\":\"af748e52-a0c3-4ed4-8f94-a8225029b9a4\",\"attributes\":{\"level\":\"glyph\",\"location\":18.75,\"line_color\":\"blue\",\"line_width\":3}},{\"type\":\"object\",\"name\":\"Span\",\"id\":\"b8a51e37-df19-47fd-8225-4604aae4a87a\",\"attributes\":{\"level\":\"glyph\",\"location\":6.25,\"line_color\":\"blue\",\"line_width\":3}}],\"toolbar\":{\"type\":\"object\",\"name\":\"Toolbar\",\"id\":\"ff2179e5-7209-4291-b2f9-c4c53e800253\",\"attributes\":{\"tools\":[{\"type\":\"object\",\"name\":\"WheelZoomTool\",\"id\":\"c0e2b898-90dd-47f5-84ff-94f50e3e546c\",\"attributes\":{\"tags\":[\"hv_created\"],\"renderers\":\"auto\",\"zoom_together\":\"none\"}},{\"type\":\"object\",\"name\":\"HoverTool\",\"id\":\"a1b03561-3e33-431d-9090-f348d739cb34\",\"attributes\":{\"tags\":[\"hv_created\"],\"renderers\":[{\"id\":\"a4422d5d-b0ce-4aab-9752-c2696a7d106a\"}],\"tooltips\":[[\"post_str_blast\",\"@{post_str_blast}\"],[\"percent\",\"@{percent}\"]]}},{\"type\":\"object\",\"name\":\"SaveTool\",\"id\":\"d8e98cd8-baf0-4812-a351-5bc82c019a66\"},{\"type\":\"object\",\"name\":\"PanTool\",\"id\":\"e7894457-1ab1-429b-9cfd-49ab8ca36a6e\"},{\"type\":\"object\",\"name\":\"BoxZoomTool\",\"id\":\"ba88ed2a-7e69-44a6-8b39-efef9cfd07fe\",\"attributes\":{\"dimensions\":\"both\",\"overlay\":{\"type\":\"object\",\"name\":\"BoxAnnotation\",\"id\":\"85472b89-b3e6-4b58-b171-b36fe64f600d\",\"attributes\":{\"syncable\":false,\"line_color\":\"black\",\"line_alpha\":1.0,\"line_width\":2,\"line_dash\":[4,4],\"fill_color\":\"lightgrey\",\"fill_alpha\":0.5,\"level\":\"overlay\",\"visible\":false,\"left\":{\"type\":\"number\",\"value\":\"nan\"},\"right\":{\"type\":\"number\",\"value\":\"nan\"},\"top\":{\"type\":\"number\",\"value\":\"nan\"},\"bottom\":{\"type\":\"number\",\"value\":\"nan\"},\"left_units\":\"canvas\",\"right_units\":\"canvas\",\"top_units\":\"canvas\",\"bottom_units\":\"canvas\",\"handles\":{\"type\":\"object\",\"name\":\"BoxInteractionHandles\",\"id\":\"c2cd8316-f391-4122-853b-8d07672f020a\",\"attributes\":{\"all\":{\"type\":\"object\",\"name\":\"AreaVisuals\",\"id\":\"7afb5c94-cbd2-40c8-828a-f7cf897a9f28\",\"attributes\":{\"fill_color\":\"white\",\"hover_fill_color\":\"lightgray\"}}}}}}}},{\"type\":\"object\",\"name\":\"ResetTool\",\"id\":\"6eab9201-da71-44c7-b05a-06191ddc9d4c\"}],\"active_drag\":{\"id\":\"e7894457-1ab1-429b-9cfd-49ab8ca36a6e\"}}},\"left\":[{\"type\":\"object\",\"name\":\"LinearAxis\",\"id\":\"ffec7f74-461d-4477-ad84-b0969d111023\",\"attributes\":{\"ticker\":{\"type\":\"object\",\"name\":\"BasicTicker\",\"id\":\"86930b43-a644-49d5-b535-6602a5966b50\",\"attributes\":{\"mantissas\":[1,2,5]}},\"formatter\":{\"type\":\"object\",\"name\":\"BasicTickFormatter\",\"id\":\"d15f57c4-c210-4818-9f40-553fe3de7843\"},\"axis_label\":\"percent\",\"major_label_policy\":{\"type\":\"object\",\"name\":\"AllLabels\",\"id\":\"2913f2b7-b469-43f7-95b2-450337cee964\"}}}],\"below\":[{\"type\":\"object\",\"name\":\"CategoricalAxis\",\"id\":\"8a6d5c8c-961c-4d9d-a525-52dcd6eb31c7\",\"attributes\":{\"ticker\":{\"type\":\"object\",\"name\":\"CategoricalTicker\",\"id\":\"8cfdbdac-263a-4601-b3ce-4904226ee88c\"},\"formatter\":{\"type\":\"object\",\"name\":\"CategoricalTickFormatter\",\"id\":\"47447cad-d69e-479b-94a1-b704b73dea82\"},\"axis_label\":\"post_str_blast\",\"major_label_policy\":{\"type\":\"object\",\"name\":\"AllLabels\",\"id\":\"3e5c5273-c31e-4058-89eb-3211cbbb567e\"}}}],\"center\":[{\"type\":\"object\",\"name\":\"Grid\",\"id\":\"a6c53ff9-dd9e-4cd4-af03-d86ecb27ca64\",\"attributes\":{\"axis\":{\"id\":\"8a6d5c8c-961c-4d9d-a525-52dcd6eb31c7\"},\"grid_line_color\":null}},{\"type\":\"object\",\"name\":\"Grid\",\"id\":\"869bc789-58ba-4457-b5c0-7ae0dc551780\",\"attributes\":{\"dimension\":1,\"axis\":{\"id\":\"ffec7f74-461d-4477-ad84-b0969d111023\"},\"grid_line_color\":null}}],\"min_border_top\":10,\"min_border_bottom\":10,\"min_border_left\":10,\"min_border_right\":10,\"output_backend\":\"webgl\"}},{\"type\":\"object\",\"name\":\"Spacer\",\"id\":\"2c41b951-c54f-469b-98a0-8ef749f5790d\",\"attributes\":{\"name\":\"HSpacer00436\",\"stylesheets\":[\"\\n:host(.pn-loading):before, .pn-loading:before {\\n  background-color: #c3c3c3;\\n  mask-size: auto calc(min(50%, 400px));\\n  -webkit-mask-size: auto calc(min(50%, 400px));\\n}\",{\"id\":\"d5fdb364-011e-4f90-926d-d759b1ca5b59\"},{\"id\":\"ab0414df-68a2-4970-9364-c0bcc730ed46\"},{\"id\":\"4be4304b-3e1d-4cb4-906d-27bebdfd5231\"}],\"margin\":0,\"sizing_mode\":\"stretch_width\",\"align\":\"start\"}}]}}],\"defs\":[{\"type\":\"model\",\"name\":\"ReactiveHTML1\"},{\"type\":\"model\",\"name\":\"FlexBox1\",\"properties\":[{\"name\":\"align_content\",\"kind\":\"Any\",\"default\":\"flex-start\"},{\"name\":\"align_items\",\"kind\":\"Any\",\"default\":\"flex-start\"},{\"name\":\"flex_direction\",\"kind\":\"Any\",\"default\":\"row\"},{\"name\":\"flex_wrap\",\"kind\":\"Any\",\"default\":\"wrap\"},{\"name\":\"gap\",\"kind\":\"Any\",\"default\":\"\"},{\"name\":\"justify_content\",\"kind\":\"Any\",\"default\":\"flex-start\"}]},{\"type\":\"model\",\"name\":\"FloatPanel1\",\"properties\":[{\"name\":\"config\",\"kind\":\"Any\",\"default\":{\"type\":\"map\"}},{\"name\":\"contained\",\"kind\":\"Any\",\"default\":true},{\"name\":\"position\",\"kind\":\"Any\",\"default\":\"right-top\"},{\"name\":\"offsetx\",\"kind\":\"Any\",\"default\":null},{\"name\":\"offsety\",\"kind\":\"Any\",\"default\":null},{\"name\":\"theme\",\"kind\":\"Any\",\"default\":\"primary\"},{\"name\":\"status\",\"kind\":\"Any\",\"default\":\"normalized\"}]},{\"type\":\"model\",\"name\":\"GridStack1\",\"properties\":[{\"name\":\"ncols\",\"kind\":\"Any\",\"default\":null},{\"name\":\"nrows\",\"kind\":\"Any\",\"default\":null},{\"name\":\"allow_resize\",\"kind\":\"Any\",\"default\":true},{\"name\":\"allow_drag\",\"kind\":\"Any\",\"default\":true},{\"name\":\"state\",\"kind\":\"Any\",\"default\":[]}]},{\"type\":\"model\",\"name\":\"drag1\",\"properties\":[{\"name\":\"slider_width\",\"kind\":\"Any\",\"default\":5},{\"name\":\"slider_color\",\"kind\":\"Any\",\"default\":\"black\"},{\"name\":\"value\",\"kind\":\"Any\",\"default\":50}]},{\"type\":\"model\",\"name\":\"click1\",\"properties\":[{\"name\":\"terminal_output\",\"kind\":\"Any\",\"default\":\"\"},{\"name\":\"debug_name\",\"kind\":\"Any\",\"default\":\"\"},{\"name\":\"clears\",\"kind\":\"Any\",\"default\":0}]},{\"type\":\"model\",\"name\":\"FastWrapper1\",\"properties\":[{\"name\":\"object\",\"kind\":\"Any\",\"default\":null},{\"name\":\"style\",\"kind\":\"Any\",\"default\":null}]},{\"type\":\"model\",\"name\":\"NotificationArea1\",\"properties\":[{\"name\":\"js_events\",\"kind\":\"Any\",\"default\":{\"type\":\"map\"}},{\"name\":\"max_notifications\",\"kind\":\"Any\",\"default\":5},{\"name\":\"notifications\",\"kind\":\"Any\",\"default\":[]},{\"name\":\"position\",\"kind\":\"Any\",\"default\":\"bottom-right\"},{\"name\":\"_clear\",\"kind\":\"Any\",\"default\":0},{\"name\":\"types\",\"kind\":\"Any\",\"default\":[{\"type\":\"map\",\"entries\":[[\"type\",\"warning\"],[\"background\",\"#ffc107\"],[\"icon\",{\"type\":\"map\",\"entries\":[[\"className\",\"fas fa-exclamation-triangle\"],[\"tagName\",\"i\"],[\"color\",\"white\"]]}]]},{\"type\":\"map\",\"entries\":[[\"type\",\"info\"],[\"background\",\"#007bff\"],[\"icon\",{\"type\":\"map\",\"entries\":[[\"className\",\"fas fa-info-circle\"],[\"tagName\",\"i\"],[\"color\",\"white\"]]}]]}]}]},{\"type\":\"model\",\"name\":\"Notification\",\"properties\":[{\"name\":\"background\",\"kind\":\"Any\",\"default\":null},{\"name\":\"duration\",\"kind\":\"Any\",\"default\":3000},{\"name\":\"icon\",\"kind\":\"Any\",\"default\":null},{\"name\":\"message\",\"kind\":\"Any\",\"default\":\"\"},{\"name\":\"notification_type\",\"kind\":\"Any\",\"default\":null},{\"name\":\"_rendered\",\"kind\":\"Any\",\"default\":false},{\"name\":\"_destroyed\",\"kind\":\"Any\",\"default\":false}]},{\"type\":\"model\",\"name\":\"TemplateActions1\",\"properties\":[{\"name\":\"open_modal\",\"kind\":\"Any\",\"default\":0},{\"name\":\"close_modal\",\"kind\":\"Any\",\"default\":0}]},{\"type\":\"model\",\"name\":\"BootstrapTemplateActions1\",\"properties\":[{\"name\":\"open_modal\",\"kind\":\"Any\",\"default\":0},{\"name\":\"close_modal\",\"kind\":\"Any\",\"default\":0}]},{\"type\":\"model\",\"name\":\"TemplateEditor1\",\"properties\":[{\"name\":\"layout\",\"kind\":\"Any\",\"default\":[]}]},{\"type\":\"model\",\"name\":\"MaterialTemplateActions1\",\"properties\":[{\"name\":\"open_modal\",\"kind\":\"Any\",\"default\":0},{\"name\":\"close_modal\",\"kind\":\"Any\",\"default\":0}]},{\"type\":\"model\",\"name\":\"ReactiveESM1\",\"properties\":[{\"name\":\"esm_constants\",\"kind\":\"Any\",\"default\":{\"type\":\"map\"}}]},{\"type\":\"model\",\"name\":\"JSComponent1\",\"properties\":[{\"name\":\"esm_constants\",\"kind\":\"Any\",\"default\":{\"type\":\"map\"}}]},{\"type\":\"model\",\"name\":\"ReactComponent1\",\"properties\":[{\"name\":\"esm_constants\",\"kind\":\"Any\",\"default\":{\"type\":\"map\"}}]},{\"type\":\"model\",\"name\":\"AnyWidgetComponent1\",\"properties\":[{\"name\":\"esm_constants\",\"kind\":\"Any\",\"default\":{\"type\":\"map\"}}]},{\"type\":\"model\",\"name\":\"request_value1\",\"properties\":[{\"name\":\"fill\",\"kind\":\"Any\",\"default\":\"none\"},{\"name\":\"_synced\",\"kind\":\"Any\",\"default\":null},{\"name\":\"_request_sync\",\"kind\":\"Any\",\"default\":0}]}]}};\n",
       "  var render_items = [{\"docid\":\"a91ec153-8660-4fd9-8080-55d60c702210\",\"roots\":{\"04ad3d94-e98b-4418-8444-9ad291877dda\":\"b44db01f-b0a6-49b0-a623-828287b68074\"},\"root_ids\":[\"04ad3d94-e98b-4418-8444-9ad291877dda\"]}];\n",
       "  var docs = Object.values(docs_json)\n",
       "  if (!docs) {\n",
       "    return\n",
       "  }\n",
       "  const py_version = docs[0].version.replace('rc', '-rc.').replace('.dev', '-dev.')\n",
       "  async function embed_document(root) {\n",
       "    var Bokeh = get_bokeh(root)\n",
       "    await Bokeh.embed.embed_items_notebook(docs_json, render_items);\n",
       "    for (const render_item of render_items) {\n",
       "      for (const root_id of render_item.root_ids) {\n",
       "\tconst id_el = document.getElementById(root_id)\n",
       "\tif (id_el.children.length && id_el.children[0].hasAttribute('data-root-id')) {\n",
       "\t  const root_el = id_el.children[0]\n",
       "\t  root_el.id = root_el.id + '-rendered'\n",
       "\t  for (const child of root_el.children) {\n",
       "            // Ensure JupyterLab does not capture keyboard shortcuts\n",
       "            // see: https://jupyterlab.readthedocs.io/en/4.1.x/extension/notebook.html#keyboard-interaction-model\n",
       "\t    child.setAttribute('data-lm-suppress-shortcuts', 'true')\n",
       "\t  }\n",
       "\t}\n",
       "      }\n",
       "    }\n",
       "  }\n",
       "  function get_bokeh(root) {\n",
       "    if (root.Bokeh === undefined) {\n",
       "      return null\n",
       "    } else if (root.Bokeh.version !== py_version) {\n",
       "      if (root.Bokeh.versions === undefined || !root.Bokeh.versions.has(py_version)) {\n",
       "\treturn null\n",
       "      }\n",
       "      return root.Bokeh.versions.get(py_version);\n",
       "    } else if (root.Bokeh.version === py_version) {\n",
       "      return root.Bokeh\n",
       "    }\n",
       "    return null\n",
       "  }\n",
       "  function is_loaded(root) {\n",
       "    var Bokeh = get_bokeh(root)\n",
       "    return (Bokeh != null && Bokeh.Panel !== undefined)\n",
       "  }\n",
       "  if (is_loaded(root)) {\n",
       "    embed_document(root);\n",
       "  } else {\n",
       "    var attempts = 0;\n",
       "    var timer = setInterval(function(root) {\n",
       "      if (is_loaded(root)) {\n",
       "        clearInterval(timer);\n",
       "        embed_document(root);\n",
       "      } else if (document.readyState == \"complete\") {\n",
       "        attempts++;\n",
       "        if (attempts > 200) {\n",
       "          clearInterval(timer);\n",
       "\t  var Bokeh = get_bokeh(root)\n",
       "\t  if (Bokeh == null || Bokeh.Panel == null) {\n",
       "            console.warn(\"Panel: ERROR: Unable to run Panel code because Bokeh or Panel library is missing\");\n",
       "\t  } else {\n",
       "\t    console.warn(\"Panel: WARNING: Attempting to render but not all required libraries could be resolved.\")\n",
       "\t    embed_document(root)\n",
       "\t  }\n",
       "        }\n",
       "      }\n",
       "    }, 25, root)\n",
       "  }\n",
       "})(window);</script>"
      ],
      "text/plain": [
       ":Overlay\n",
       "   .Bars.I    :Bars   [post_str_blast]   (percent)\n",
       "   .HLine.I   :HLine   [x,y]\n",
       "   .HLine.II  :HLine   [x,y]\n",
       "   .HLine.III :HLine   [x,y]"
      ]
     },
     "metadata": {
      "application/vnd.holoviews_exec.v0+json": {
       "id": "04ad3d94-e98b-4418-8444-9ad291877dda"
      }
     },
     "output_type": "display_data"
    },
    {
     "name": "stdout",
     "output_type": "stream",
     "text": [
      "df_10_last FOR str_b6 = 49\n",
      "Last 3 results last_results=['43', '48', '49']\n"
     ]
    },
    {
     "data": {
      "text/html": [
       "<div><style>\n",
       ".dataframe > thead > tr,\n",
       ".dataframe > tbody > tr {\n",
       "  text-align: right;\n",
       "  white-space: pre-wrap;\n",
       "}\n",
       "</style>\n",
       "<small>shape: (10, 30)</small><table border=\"1\" class=\"dataframe\"><thead><tr><th>fecha</th><th>sorteo</th><th>bolillas</th><th>yapa</th><th>adicionales</th><th>sorteo_extra</th><th>id</th><th>combo</th><th>b1</th><th>b2</th><th>b3</th><th>b4</th><th>b5</th><th>b6</th><th>str_b1</th><th>str_b2</th><th>str_b3</th><th>str_b4</th><th>str_b5</th><th>str_b6</th><th>post_str_b1</th><th>post_str_b2</th><th>post_str_b3</th><th>post_str_b4</th><th>post_str_b5</th><th>post_str_blast</th><th>is_rare_combination</th><th>reason</th><th>jumps_map</th><th>unijump</th></tr><tr><td>str</td><td>str</td><td>str</td><td>str</td><td>str</td><td>str</td><td>str</td><td>array[u8, 6]</td><td>u8</td><td>u8</td><td>u8</td><td>u8</td><td>u8</td><td>u8</td><td>str</td><td>str</td><td>str</td><td>str</td><td>str</td><td>str</td><td>str</td><td>str</td><td>str</td><td>str</td><td>str</td><td>str</td><td>bool</td><td>u8</td><td>str</td><td>i64</td></tr></thead><tbody><tr><td>&quot;09/04/2025&quot;</td><td>&quot;1184&quot;</td><td>&quot;35 24 49 01 12 39&quot;</td><td>&quot;21&quot;</td><td>&quot;13 07 26&quot;</td><td>&quot;Promoción Sí o Sí&quot;</td><td>&quot;011224353949&quot;</td><td>[1, 12, … 49]</td><td>1</td><td>12</td><td>24</td><td>35</td><td>39</td><td>49</td><td>&quot;01&quot;</td><td>&quot;12&quot;</td><td>&quot;24&quot;</td><td>&quot;35&quot;</td><td>&quot;39&quot;</td><td>&quot;49&quot;</td><td>&quot;22&quot;</td><td>&quot;36&quot;</td><td>&quot;39&quot;</td><td>&quot;44&quot;</td><td>&quot;46&quot;</td><td>&quot;48&quot;</td><td>false</td><td>0</td><td>&quot;11_12_11_04_10&quot;</td><td>23</td></tr><tr><td>&quot;06/04/2025&quot;</td><td>&quot;1183&quot;</td><td>&quot;34 42 05 49 16 27&quot;</td><td>&quot;29&quot;</td><td>&quot;37&quot;</td><td>&quot;Promoción Sí o Sí&quot;</td><td>&quot;051627344249&quot;</td><td>[5, 16, … 49]</td><td>5</td><td>16</td><td>27</td><td>34</td><td>42</td><td>49</td><td>&quot;05&quot;</td><td>&quot;16&quot;</td><td>&quot;27&quot;</td><td>&quot;34&quot;</td><td>&quot;42&quot;</td><td>&quot;49&quot;</td><td>&quot;01&quot;</td><td>&quot;12&quot;</td><td>&quot;24&quot;</td><td>&quot;35&quot;</td><td>&quot;39&quot;</td><td>&quot;49&quot;</td><td>true</td><td>8</td><td>&quot;11_11_07_08_07&quot;</td><td>-16</td></tr><tr><td>&quot;23/03/2025&quot;</td><td>&quot;1179&quot;</td><td>&quot;24 07 18 03 37 49&quot;</td><td>&quot;43&quot;</td><td>&quot;50 28&quot;</td><td>&quot;Promoción Sí o Sí&quot;</td><td>&quot;030718243749&quot;</td><td>[3, 7, … 49]</td><td>3</td><td>7</td><td>18</td><td>24</td><td>37</td><td>49</td><td>&quot;03&quot;</td><td>&quot;07&quot;</td><td>&quot;18&quot;</td><td>&quot;24&quot;</td><td>&quot;37&quot;</td><td>&quot;49&quot;</td><td>&quot;01&quot;</td><td>&quot;05&quot;</td><td>&quot;13&quot;</td><td>&quot;35&quot;</td><td>&quot;37&quot;</td><td>&quot;43&quot;</td><td>false</td><td>0</td><td>&quot;04_11_06_13_12&quot;</td><td>-44</td></tr><tr><td>&quot;16/03/2025&quot;</td><td>&quot;1177&quot;</td><td>&quot;15 30 49 12 05 27&quot;</td><td>&quot;23&quot;</td><td>&quot;24&quot;</td><td>&quot;Promoción Sí o Sí&quot;</td><td>&quot;051215273049&quot;</td><td>[5, 12, … 49]</td><td>5</td><td>12</td><td>15</td><td>27</td><td>30</td><td>49</td><td>&quot;05&quot;</td><td>&quot;12&quot;</td><td>&quot;15&quot;</td><td>&quot;27&quot;</td><td>&quot;30&quot;</td><td>&quot;49&quot;</td><td>&quot;04&quot;</td><td>&quot;32&quot;</td><td>&quot;34&quot;</td><td>&quot;37&quot;</td><td>&quot;41&quot;</td><td>&quot;42&quot;</td><td>false</td><td>0</td><td>&quot;07_03_12_03_19&quot;</td><td>74</td></tr><tr><td>&quot;22/01/2025&quot;</td><td>&quot;1162&quot;</td><td>&quot;21 10 49 31 32 06&quot;</td><td>&quot;14&quot;</td><td>&quot;39 29 36&quot;</td><td>&quot;Promoción Sí o Sí&quot;</td><td>&quot;061021313249&quot;</td><td>[6, 10, … 49]</td><td>6</td><td>10</td><td>21</td><td>31</td><td>32</td><td>49</td><td>&quot;06&quot;</td><td>&quot;10&quot;</td><td>&quot;21&quot;</td><td>&quot;31&quot;</td><td>&quot;32&quot;</td><td>&quot;49&quot;</td><td>&quot;13&quot;</td><td>&quot;18&quot;</td><td>&quot;26&quot;</td><td>&quot;30&quot;</td><td>&quot;33&quot;</td><td>&quot;35&quot;</td><td>false</td><td>0</td><td>&quot;04_11_10_01_17&quot;</td><td>33</td></tr><tr><td>&quot;12/01/2025&quot;</td><td>&quot;1159&quot;</td><td>&quot;49 32 41 44 26 34&quot;</td><td>&quot;14&quot;</td><td>&quot;43&quot;</td><td>&quot;Promoción Sí o Sí&quot;</td><td>&quot;263234414449&quot;</td><td>[26, 32, … 49]</td><td>26</td><td>32</td><td>34</td><td>41</td><td>44</td><td>49</td><td>&quot;26&quot;</td><td>&quot;32&quot;</td><td>&quot;34&quot;</td><td>&quot;41&quot;</td><td>&quot;44&quot;</td><td>&quot;49&quot;</td><td>&quot;16&quot;</td><td>&quot;19&quot;</td><td>&quot;36&quot;</td><td>&quot;38&quot;</td><td>&quot;46&quot;</td><td>&quot;47&quot;</td><td>false</td><td>0</td><td>&quot;06_02_07_03_05&quot;</td><td>33</td></tr><tr><td>&quot;05/01/2025&quot;</td><td>&quot;1157&quot;</td><td>&quot;18 49 45 13 35 22&quot;</td><td>&quot;21&quot;</td><td>&quot;19 07 36 08&quot;</td><td>&quot;Promoción Sí o Sí&quot;</td><td>&quot;131822354549&quot;</td><td>[13, 18, … 49]</td><td>13</td><td>18</td><td>22</td><td>35</td><td>45</td><td>49</td><td>&quot;13&quot;</td><td>&quot;18&quot;</td><td>&quot;22&quot;</td><td>&quot;35&quot;</td><td>&quot;45&quot;</td><td>&quot;49&quot;</td><td>&quot;20&quot;</td><td>&quot;24&quot;</td><td>&quot;25&quot;</td><td>&quot;40&quot;</td><td>&quot;44&quot;</td><td>&quot;47&quot;</td><td>false</td><td>0</td><td>&quot;05_04_13_10_04&quot;</td><td>31</td></tr><tr><td>&quot;22/12/2024&quot;</td><td>&quot;1153&quot;</td><td>&quot;17 02 49 40 24 01&quot;</td><td>&quot;45&quot;</td><td>&quot;14 22 05&quot;</td><td>&quot;Promoción Sí o Sí&quot;</td><td>&quot;010217244049&quot;</td><td>[1, 2, … 49]</td><td>1</td><td>2</td><td>17</td><td>24</td><td>40</td><td>49</td><td>&quot;01&quot;</td><td>&quot;02&quot;</td><td>&quot;17&quot;</td><td>&quot;24&quot;</td><td>&quot;40&quot;</td><td>&quot;49&quot;</td><td>&quot;02&quot;</td><td>&quot;05&quot;</td><td>&quot;14&quot;</td><td>&quot;15&quot;</td><td>&quot;24&quot;</td><td>&quot;39&quot;</td><td>true</td><td>16</td><td>&quot;01_15_07_16_09&quot;</td><td>-72</td></tr><tr><td>&quot;13/11/2024&quot;</td><td>&quot;1142&quot;</td><td>&quot;49 19 35 09 17 18&quot;</td><td>&quot;45&quot;</td><td>&quot;34&quot;</td><td>&quot;Promoción Sí o Sí&quot;</td><td>&quot;091718193549&quot;</td><td>[9, 17, … 49]</td><td>9</td><td>17</td><td>18</td><td>19</td><td>35</td><td>49</td><td>&quot;09&quot;</td><td>&quot;17&quot;</td><td>&quot;18&quot;</td><td>&quot;19&quot;</td><td>&quot;35&quot;</td><td>&quot;49&quot;</td><td>&quot;07&quot;</td><td>&quot;11&quot;</td><td>&quot;15&quot;</td><td>&quot;37&quot;</td><td>&quot;42&quot;</td><td>&quot;46&quot;</td><td>true</td><td>24</td><td>&quot;08_01_01_16_14&quot;</td><td>-40</td></tr><tr><td>&quot;25/08/2024&quot;</td><td>&quot;1119&quot;</td><td>&quot;49 01 42 14 27 36&quot;</td><td>&quot;05&quot;</td><td>&quot;21 45&quot;</td><td>&quot;Promoción Sí o Sí&quot;</td><td>&quot;011427364249&quot;</td><td>[1, 14, … 49]</td><td>1</td><td>14</td><td>27</td><td>36</td><td>42</td><td>49</td><td>&quot;01&quot;</td><td>&quot;14&quot;</td><td>&quot;27&quot;</td><td>&quot;36&quot;</td><td>&quot;42&quot;</td><td>&quot;49&quot;</td><td>&quot;03&quot;</td><td>&quot;06&quot;</td><td>&quot;11&quot;</td><td>&quot;37&quot;</td><td>&quot;46&quot;</td><td>&quot;47&quot;</td><td>true</td><td>8</td><td>&quot;13_13_09_06_07&quot;</td><td>-2</td></tr></tbody></table></div>"
      ],
      "text/plain": [
       "shape: (10, 30)\n",
       "┌────────────┬────────┬───────────────┬──────┬───┬───────────────┬────────┬──────────────┬─────────┐\n",
       "│ fecha      ┆ sorteo ┆ bolillas      ┆ yapa ┆ … ┆ is_rare_combi ┆ reason ┆ jumps_map    ┆ unijump │\n",
       "│ ---        ┆ ---    ┆ ---           ┆ ---  ┆   ┆ nation        ┆ ---    ┆ ---          ┆ ---     │\n",
       "│ str        ┆ str    ┆ str           ┆ str  ┆   ┆ ---           ┆ u8     ┆ str          ┆ i64     │\n",
       "│            ┆        ┆               ┆      ┆   ┆ bool          ┆        ┆              ┆         │\n",
       "╞════════════╪════════╪═══════════════╪══════╪═══╪═══════════════╪════════╪══════════════╪═════════╡\n",
       "│ 09/04/2025 ┆ 1184   ┆ 35 24 49 01   ┆ 21   ┆ … ┆ false         ┆ 0      ┆ 11_12_11_04_ ┆ 23      │\n",
       "│            ┆        ┆ 12 39         ┆      ┆   ┆               ┆        ┆ 10           ┆         │\n",
       "│ 06/04/2025 ┆ 1183   ┆ 34 42 05 49   ┆ 29   ┆ … ┆ true          ┆ 8      ┆ 11_11_07_08_ ┆ -16     │\n",
       "│            ┆        ┆ 16 27         ┆      ┆   ┆               ┆        ┆ 07           ┆         │\n",
       "│ 23/03/2025 ┆ 1179   ┆ 24 07 18 03   ┆ 43   ┆ … ┆ false         ┆ 0      ┆ 04_11_06_13_ ┆ -44     │\n",
       "│            ┆        ┆ 37 49         ┆      ┆   ┆               ┆        ┆ 12           ┆         │\n",
       "│ 16/03/2025 ┆ 1177   ┆ 15 30 49 12   ┆ 23   ┆ … ┆ false         ┆ 0      ┆ 07_03_12_03_ ┆ 74      │\n",
       "│            ┆        ┆ 05 27         ┆      ┆   ┆               ┆        ┆ 19           ┆         │\n",
       "│ 22/01/2025 ┆ 1162   ┆ 21 10 49 31   ┆ 14   ┆ … ┆ false         ┆ 0      ┆ 04_11_10_01_ ┆ 33      │\n",
       "│            ┆        ┆ 32 06         ┆      ┆   ┆               ┆        ┆ 17           ┆         │\n",
       "│ 12/01/2025 ┆ 1159   ┆ 49 32 41 44   ┆ 14   ┆ … ┆ false         ┆ 0      ┆ 06_02_07_03_ ┆ 33      │\n",
       "│            ┆        ┆ 26 34         ┆      ┆   ┆               ┆        ┆ 05           ┆         │\n",
       "│ 05/01/2025 ┆ 1157   ┆ 18 49 45 13   ┆ 21   ┆ … ┆ false         ┆ 0      ┆ 05_04_13_10_ ┆ 31      │\n",
       "│            ┆        ┆ 35 22         ┆      ┆   ┆               ┆        ┆ 04           ┆         │\n",
       "│ 22/12/2024 ┆ 1153   ┆ 17 02 49 40   ┆ 45   ┆ … ┆ true          ┆ 16     ┆ 01_15_07_16_ ┆ -72     │\n",
       "│            ┆        ┆ 24 01         ┆      ┆   ┆               ┆        ┆ 09           ┆         │\n",
       "│ 13/11/2024 ┆ 1142   ┆ 49 19 35 09   ┆ 45   ┆ … ┆ true          ┆ 24     ┆ 08_01_01_16_ ┆ -40     │\n",
       "│            ┆        ┆ 17 18         ┆      ┆   ┆               ┆        ┆ 14           ┆         │\n",
       "│ 25/08/2024 ┆ 1119   ┆ 49 01 42 14   ┆ 05   ┆ … ┆ true          ┆ 8      ┆ 13_13_09_06_ ┆ -2      │\n",
       "│            ┆        ┆ 27 36         ┆      ┆   ┆               ┆        ┆ 07           ┆         │\n",
       "└────────────┴────────┴───────────────┴──────┴───┴───────────────┴────────┴──────────────┴─────────┘"
      ]
     },
     "metadata": {},
     "output_type": "display_data"
    },
    {
     "name": "stdout",
     "output_type": "stream",
     "text": [
      "df_jumps_map FOR str_b6 = 49\n"
     ]
    },
    {
     "data": {
      "text/html": [
       "<div><style>\n",
       ".dataframe > thead > tr,\n",
       ".dataframe > tbody > tr {\n",
       "  text-align: right;\n",
       "  white-space: pre-wrap;\n",
       "}\n",
       "</style>\n",
       "<small>shape: (10, 2)</small><table border=\"1\" class=\"dataframe\"><thead><tr><th>jumps_map</th><th>count</th></tr><tr><td>str</td><td>u32</td></tr></thead><tbody><tr><td>&quot;04_11_10_01_17&quot;</td><td>1</td></tr><tr><td>&quot;11_11_07_08_07&quot;</td><td>1</td></tr><tr><td>&quot;01_15_07_16_09&quot;</td><td>1</td></tr><tr><td>&quot;06_02_07_03_05&quot;</td><td>1</td></tr><tr><td>&quot;04_11_06_13_12&quot;</td><td>1</td></tr><tr><td>&quot;05_04_13_10_04&quot;</td><td>1</td></tr><tr><td>&quot;11_12_11_04_10&quot;</td><td>1</td></tr><tr><td>&quot;07_03_12_03_19&quot;</td><td>1</td></tr><tr><td>&quot;13_13_09_06_07&quot;</td><td>1</td></tr><tr><td>&quot;08_01_01_16_14&quot;</td><td>1</td></tr></tbody></table></div>"
      ],
      "text/plain": [
       "shape: (10, 2)\n",
       "┌────────────────┬───────┐\n",
       "│ jumps_map      ┆ count │\n",
       "│ ---            ┆ ---   │\n",
       "│ str            ┆ u32   │\n",
       "╞════════════════╪═══════╡\n",
       "│ 04_11_10_01_17 ┆ 1     │\n",
       "│ 11_11_07_08_07 ┆ 1     │\n",
       "│ 01_15_07_16_09 ┆ 1     │\n",
       "│ 06_02_07_03_05 ┆ 1     │\n",
       "│ 04_11_06_13_12 ┆ 1     │\n",
       "│ 05_04_13_10_04 ┆ 1     │\n",
       "│ 11_12_11_04_10 ┆ 1     │\n",
       "│ 07_03_12_03_19 ┆ 1     │\n",
       "│ 13_13_09_06_07 ┆ 1     │\n",
       "│ 08_01_01_16_14 ┆ 1     │\n",
       "└────────────────┴───────┘"
      ]
     },
     "metadata": {},
     "output_type": "display_data"
    },
    {
     "name": "stdout",
     "output_type": "stream",
     "text": [
      "df_unijump FOR str_b6 = 49\n"
     ]
    },
    {
     "data": {
      "text/html": [
       "<div><style>\n",
       ".dataframe > thead > tr,\n",
       ".dataframe > tbody > tr {\n",
       "  text-align: right;\n",
       "  white-space: pre-wrap;\n",
       "}\n",
       "</style>\n",
       "<small>shape: (9, 2)</small><table border=\"1\" class=\"dataframe\"><thead><tr><th>unijump</th><th>count</th></tr><tr><td>i64</td><td>u32</td></tr></thead><tbody><tr><td>33</td><td>2</td></tr><tr><td>-72</td><td>1</td></tr><tr><td>-16</td><td>1</td></tr><tr><td>-40</td><td>1</td></tr><tr><td>31</td><td>1</td></tr><tr><td>23</td><td>1</td></tr><tr><td>74</td><td>1</td></tr><tr><td>-44</td><td>1</td></tr><tr><td>-2</td><td>1</td></tr></tbody></table></div>"
      ],
      "text/plain": [
       "shape: (9, 2)\n",
       "┌─────────┬───────┐\n",
       "│ unijump ┆ count │\n",
       "│ ---     ┆ ---   │\n",
       "│ i64     ┆ u32   │\n",
       "╞═════════╪═══════╡\n",
       "│ 33      ┆ 2     │\n",
       "│ -72     ┆ 1     │\n",
       "│ -16     ┆ 1     │\n",
       "│ -40     ┆ 1     │\n",
       "│ 31      ┆ 1     │\n",
       "│ 23      ┆ 1     │\n",
       "│ 74      ┆ 1     │\n",
       "│ -44     ┆ 1     │\n",
       "│ -2      ┆ 1     │\n",
       "└─────────┴───────┘"
      ]
     },
     "metadata": {},
     "output_type": "display_data"
    }
   ],
   "source": [
    "possible_blast, exclude_jump_maps_blast, last_post_blast = plot_post_col(col='str_b6', post_col='post_str_blast')"
   ]
  },
  {
   "cell_type": "code",
   "execution_count": 52,
   "metadata": {},
   "outputs": [],
   "source": [
    "b_count = rr.CHOOSE\n",
    "min_b = rr.MIN_B_VALUES[0]\n",
    "max_b = rr.MAX_B_VALUES[-1]\n",
    "\n",
    "\n",
    "combos = combinations(range(min_b, max_b + 1), b_count)\n",
    "# print(\"generating combos: \", len(list(combos)))"
   ]
  },
  {
   "cell_type": "code",
   "execution_count": 53,
   "metadata": {},
   "outputs": [
    {
     "name": "stdout",
     "output_type": "stream",
     "text": [
      "parquet_file='./parquet_tnk_v3.parquet' does not exists. creating\n",
      "TOTAL_LINES=15890700 loaded to parquet_file='./parquet_tnk_v3.parquet'\n"
     ]
    },
    {
     "data": {
      "text/html": [
       "<div><style>\n",
       ".dataframe > thead > tr,\n",
       ".dataframe > tbody > tr {\n",
       "  text-align: right;\n",
       "  white-space: pre-wrap;\n",
       "}\n",
       "</style>\n",
       "<small>shape: (10, 20)</small><table border=\"1\" class=\"dataframe\"><thead><tr><th>id</th><th>combo</th><th>b1</th><th>b2</th><th>b3</th><th>b4</th><th>b5</th><th>b6</th><th>str_b1</th><th>str_b2</th><th>str_b3</th><th>str_b4</th><th>str_b5</th><th>str_b6</th><th>post_str_b1</th><th>post_str_blast</th><th>is_rare_combination</th><th>reason</th><th>jumps_map</th><th>unijump</th></tr><tr><td>str</td><td>array[u8, 6]</td><td>u8</td><td>u8</td><td>u8</td><td>u8</td><td>u8</td><td>u8</td><td>str</td><td>str</td><td>str</td><td>str</td><td>str</td><td>str</td><td>str</td><td>str</td><td>bool</td><td>u8</td><td>str</td><td>i64</td></tr></thead><tbody><tr><td>&quot;010203040506&quot;</td><td>[1, 2, … 6]</td><td>1</td><td>2</td><td>3</td><td>4</td><td>5</td><td>6</td><td>&quot;01&quot;</td><td>&quot;02&quot;</td><td>&quot;03&quot;</td><td>&quot;04&quot;</td><td>&quot;05&quot;</td><td>&quot;06&quot;</td><td>null</td><td>null</td><td>true</td><td>8</td><td>&quot;01_01_01_01_01&quot;</td><td>0</td></tr><tr><td>&quot;010203040507&quot;</td><td>[1, 2, … 7]</td><td>1</td><td>2</td><td>3</td><td>4</td><td>5</td><td>7</td><td>&quot;01&quot;</td><td>&quot;02&quot;</td><td>&quot;03&quot;</td><td>&quot;04&quot;</td><td>&quot;05&quot;</td><td>&quot;07&quot;</td><td>&quot;01&quot;</td><td>&quot;06&quot;</td><td>true</td><td>9</td><td>&quot;01_01_01_01_02&quot;</td><td>1</td></tr><tr><td>&quot;010203040508&quot;</td><td>[1, 2, … 8]</td><td>1</td><td>2</td><td>3</td><td>4</td><td>5</td><td>8</td><td>&quot;01&quot;</td><td>&quot;02&quot;</td><td>&quot;03&quot;</td><td>&quot;04&quot;</td><td>&quot;05&quot;</td><td>&quot;08&quot;</td><td>&quot;01&quot;</td><td>&quot;07&quot;</td><td>true</td><td>8</td><td>&quot;01_01_01_01_03&quot;</td><td>2</td></tr><tr><td>&quot;010203040509&quot;</td><td>[1, 2, … 9]</td><td>1</td><td>2</td><td>3</td><td>4</td><td>5</td><td>9</td><td>&quot;01&quot;</td><td>&quot;02&quot;</td><td>&quot;03&quot;</td><td>&quot;04&quot;</td><td>&quot;05&quot;</td><td>&quot;09&quot;</td><td>&quot;01&quot;</td><td>&quot;08&quot;</td><td>true</td><td>8</td><td>&quot;01_01_01_01_04&quot;</td><td>3</td></tr><tr><td>&quot;010203040510&quot;</td><td>[1, 2, … 10]</td><td>1</td><td>2</td><td>3</td><td>4</td><td>5</td><td>10</td><td>&quot;01&quot;</td><td>&quot;02&quot;</td><td>&quot;03&quot;</td><td>&quot;04&quot;</td><td>&quot;05&quot;</td><td>&quot;10&quot;</td><td>&quot;01&quot;</td><td>&quot;09&quot;</td><td>true</td><td>8</td><td>&quot;01_01_01_01_05&quot;</td><td>4</td></tr><tr><td>&quot;010203040511&quot;</td><td>[1, 2, … 11]</td><td>1</td><td>2</td><td>3</td><td>4</td><td>5</td><td>11</td><td>&quot;01&quot;</td><td>&quot;02&quot;</td><td>&quot;03&quot;</td><td>&quot;04&quot;</td><td>&quot;05&quot;</td><td>&quot;11&quot;</td><td>&quot;01&quot;</td><td>&quot;10&quot;</td><td>true</td><td>9</td><td>&quot;01_01_01_01_06&quot;</td><td>5</td></tr><tr><td>&quot;010203040512&quot;</td><td>[1, 2, … 12]</td><td>1</td><td>2</td><td>3</td><td>4</td><td>5</td><td>12</td><td>&quot;01&quot;</td><td>&quot;02&quot;</td><td>&quot;03&quot;</td><td>&quot;04&quot;</td><td>&quot;05&quot;</td><td>&quot;12&quot;</td><td>&quot;01&quot;</td><td>&quot;11&quot;</td><td>true</td><td>8</td><td>&quot;01_01_01_01_07&quot;</td><td>6</td></tr><tr><td>&quot;010203040513&quot;</td><td>[1, 2, … 13]</td><td>1</td><td>2</td><td>3</td><td>4</td><td>5</td><td>13</td><td>&quot;01&quot;</td><td>&quot;02&quot;</td><td>&quot;03&quot;</td><td>&quot;04&quot;</td><td>&quot;05&quot;</td><td>&quot;13&quot;</td><td>&quot;01&quot;</td><td>&quot;12&quot;</td><td>true</td><td>9</td><td>&quot;01_01_01_01_08&quot;</td><td>7</td></tr><tr><td>&quot;010203040514&quot;</td><td>[1, 2, … 14]</td><td>1</td><td>2</td><td>3</td><td>4</td><td>5</td><td>14</td><td>&quot;01&quot;</td><td>&quot;02&quot;</td><td>&quot;03&quot;</td><td>&quot;04&quot;</td><td>&quot;05&quot;</td><td>&quot;14&quot;</td><td>&quot;01&quot;</td><td>&quot;13&quot;</td><td>true</td><td>8</td><td>&quot;01_01_01_01_09&quot;</td><td>8</td></tr><tr><td>&quot;010203040515&quot;</td><td>[1, 2, … 15]</td><td>1</td><td>2</td><td>3</td><td>4</td><td>5</td><td>15</td><td>&quot;01&quot;</td><td>&quot;02&quot;</td><td>&quot;03&quot;</td><td>&quot;04&quot;</td><td>&quot;05&quot;</td><td>&quot;15&quot;</td><td>&quot;01&quot;</td><td>&quot;14&quot;</td><td>true</td><td>8</td><td>&quot;01_01_01_01_10&quot;</td><td>9</td></tr></tbody></table></div>"
      ],
      "text/plain": [
       "shape: (10, 20)\n",
       "┌──────────────┬──────────────┬─────┬─────┬───┬────────────────┬────────┬────────────────┬─────────┐\n",
       "│ id           ┆ combo        ┆ b1  ┆ b2  ┆ … ┆ is_rare_combin ┆ reason ┆ jumps_map      ┆ unijump │\n",
       "│ ---          ┆ ---          ┆ --- ┆ --- ┆   ┆ ation          ┆ ---    ┆ ---            ┆ ---     │\n",
       "│ str          ┆ array[u8, 6] ┆ u8  ┆ u8  ┆   ┆ ---            ┆ u8     ┆ str            ┆ i64     │\n",
       "│              ┆              ┆     ┆     ┆   ┆ bool           ┆        ┆                ┆         │\n",
       "╞══════════════╪══════════════╪═════╪═════╪═══╪════════════════╪════════╪════════════════╪═════════╡\n",
       "│ 010203040506 ┆ [1, 2, … 6]  ┆ 1   ┆ 2   ┆ … ┆ true           ┆ 8      ┆ 01_01_01_01_01 ┆ 0       │\n",
       "│ 010203040507 ┆ [1, 2, … 7]  ┆ 1   ┆ 2   ┆ … ┆ true           ┆ 9      ┆ 01_01_01_01_02 ┆ 1       │\n",
       "│ 010203040508 ┆ [1, 2, … 8]  ┆ 1   ┆ 2   ┆ … ┆ true           ┆ 8      ┆ 01_01_01_01_03 ┆ 2       │\n",
       "│ 010203040509 ┆ [1, 2, … 9]  ┆ 1   ┆ 2   ┆ … ┆ true           ┆ 8      ┆ 01_01_01_01_04 ┆ 3       │\n",
       "│ 010203040510 ┆ [1, 2, … 10] ┆ 1   ┆ 2   ┆ … ┆ true           ┆ 8      ┆ 01_01_01_01_05 ┆ 4       │\n",
       "│ 010203040511 ┆ [1, 2, … 11] ┆ 1   ┆ 2   ┆ … ┆ true           ┆ 9      ┆ 01_01_01_01_06 ┆ 5       │\n",
       "│ 010203040512 ┆ [1, 2, … 12] ┆ 1   ┆ 2   ┆ … ┆ true           ┆ 8      ┆ 01_01_01_01_07 ┆ 6       │\n",
       "│ 010203040513 ┆ [1, 2, … 13] ┆ 1   ┆ 2   ┆ … ┆ true           ┆ 9      ┆ 01_01_01_01_08 ┆ 7       │\n",
       "│ 010203040514 ┆ [1, 2, … 14] ┆ 1   ┆ 2   ┆ … ┆ true           ┆ 8      ┆ 01_01_01_01_09 ┆ 8       │\n",
       "│ 010203040515 ┆ [1, 2, … 15] ┆ 1   ┆ 2   ┆ … ┆ true           ┆ 8      ┆ 01_01_01_01_10 ┆ 9       │\n",
       "└──────────────┴──────────────┴─────┴─────┴───┴────────────────┴────────┴────────────────┴─────────┘"
      ]
     },
     "metadata": {},
     "output_type": "display_data"
    }
   ],
   "source": [
    "parquet_file = './parquet_tnk_v3.parquet'\n",
    "\n",
    "# check if parquet_file exists\n",
    "if not os.path.exists(parquet_file):\n",
    "  print(f'{parquet_file=} does not exists. creating')\n",
    "  lst = []\n",
    "  post_str_b1 = None\n",
    "  post_str_blast = None\n",
    "  for row in combos:\n",
    "    cols = []\n",
    "    str_row = \" \".join([str(r).zfill(2) for r in row])\n",
    "    id, bolillas_int, str_combo = formalize_data_with_str(bolillas_str=str_row)\n",
    "    cols.append(id)\n",
    "    cols.append(bolillas_int)\n",
    "    cols.extend([b for b in bolillas_int])\n",
    "    cols.extend(str_combo)\n",
    "    cols.append(post_str_b1)\n",
    "    cols.append(post_str_blast)\n",
    "\n",
    "    is_rare, reason = rr.is_rare_combination(bolillas_int, id)\n",
    "    cols.append(is_rare)\n",
    "    cols.append(reason)\n",
    "\n",
    "    cols.append(rr.jumps_map(bolillas_int))\n",
    "    cols.append(rr.unijump(bolillas_int))\n",
    "    \n",
    "    lst.append(cols)\n",
    "\n",
    "    post_str_b1 = str_combo[0]\n",
    "    post_str_blast = str_combo[-1]\n",
    "\n",
    "  df_Orows = pl.DataFrame(\n",
    "    lst,\n",
    "    schema=[\n",
    "      # 'fecha', 'sorteo', 'bolillas',\n",
    "      'id', 'combo', 'b1', 'b2', 'b3', 'b4', 'b5', 'b6',\n",
    "      'str_b1', 'str_b2', 'str_b3', 'str_b4', 'str_b5', 'str_b6',\n",
    "      'post_str_b1', 'post_str_blast',\n",
    "      'is_rare_combination', 'reason',\n",
    "      \"jumps_map\", \"unijump\"\n",
    "    ],\n",
    "    schema_overrides={\n",
    "      'combo': pl.Array(pl.UInt8, 6),\n",
    "      'b1': pl.UInt8,\n",
    "      'b2': pl.UInt8,\n",
    "      'b3': pl.UInt8,\n",
    "      'b4': pl.UInt8,\n",
    "      'b5': pl.UInt8,\n",
    "      'b6': pl.UInt8,\n",
    "      'reason': pl.UInt8\n",
    "    },\n",
    "    orient='row'\n",
    "  )\n",
    "\n",
    "  df_Orows.write_parquet(parquet_file)\n",
    "  TOTAL_LINES = len(df_Orows)\n",
    "  print(f'{TOTAL_LINES=} loaded to {parquet_file=}')\n",
    "\n",
    "  display(df_Orows.head(10))\n",
    "else:\n",
    "  df_Orows = pl.read_parquet(parquet_file)"
   ]
  },
  {
   "cell_type": "code",
   "execution_count": 60,
   "metadata": {},
   "outputs": [
    {
     "data": {
      "text/html": [
       "<div><style>\n",
       ".dataframe > thead > tr,\n",
       ".dataframe > tbody > tr {\n",
       "  text-align: right;\n",
       "  white-space: pre-wrap;\n",
       "}\n",
       "</style>\n",
       "<small>shape: (100_443, 20)</small><table border=\"1\" class=\"dataframe\"><thead><tr><th>id</th><th>combo</th><th>b1</th><th>b2</th><th>b3</th><th>b4</th><th>b5</th><th>b6</th><th>str_b1</th><th>str_b2</th><th>str_b3</th><th>str_b4</th><th>str_b5</th><th>str_b6</th><th>post_str_b1</th><th>post_str_blast</th><th>is_rare_combination</th><th>reason</th><th>jumps_map</th><th>unijump</th></tr><tr><td>str</td><td>array[u8, 6]</td><td>u8</td><td>u8</td><td>u8</td><td>u8</td><td>u8</td><td>u8</td><td>str</td><td>str</td><td>str</td><td>str</td><td>str</td><td>str</td><td>str</td><td>str</td><td>bool</td><td>u8</td><td>str</td><td>i64</td></tr></thead><tbody><tr><td>&quot;020607103047&quot;</td><td>[2, 6, … 47]</td><td>2</td><td>6</td><td>7</td><td>10</td><td>30</td><td>47</td><td>&quot;02&quot;</td><td>&quot;06&quot;</td><td>&quot;07&quot;</td><td>&quot;10&quot;</td><td>&quot;30&quot;</td><td>&quot;47&quot;</td><td>&quot;02&quot;</td><td>&quot;46&quot;</td><td>false</td><td>0</td><td>&quot;04_01_03_20_17&quot;</td><td>-45</td></tr><tr><td>&quot;020607103247&quot;</td><td>[2, 6, … 47]</td><td>2</td><td>6</td><td>7</td><td>10</td><td>32</td><td>47</td><td>&quot;02&quot;</td><td>&quot;06&quot;</td><td>&quot;07&quot;</td><td>&quot;10&quot;</td><td>&quot;32&quot;</td><td>&quot;47&quot;</td><td>&quot;02&quot;</td><td>&quot;46&quot;</td><td>false</td><td>0</td><td>&quot;04_01_03_22_15&quot;</td><td>-55</td></tr><tr><td>&quot;020607103347&quot;</td><td>[2, 6, … 47]</td><td>2</td><td>6</td><td>7</td><td>10</td><td>33</td><td>47</td><td>&quot;02&quot;</td><td>&quot;06&quot;</td><td>&quot;07&quot;</td><td>&quot;10&quot;</td><td>&quot;33&quot;</td><td>&quot;47&quot;</td><td>&quot;02&quot;</td><td>&quot;46&quot;</td><td>false</td><td>0</td><td>&quot;04_01_03_23_14&quot;</td><td>-60</td></tr><tr><td>&quot;020607103447&quot;</td><td>[2, 6, … 47]</td><td>2</td><td>6</td><td>7</td><td>10</td><td>34</td><td>47</td><td>&quot;02&quot;</td><td>&quot;06&quot;</td><td>&quot;07&quot;</td><td>&quot;10&quot;</td><td>&quot;34&quot;</td><td>&quot;47&quot;</td><td>&quot;02&quot;</td><td>&quot;46&quot;</td><td>false</td><td>0</td><td>&quot;04_01_03_24_13&quot;</td><td>-65</td></tr><tr><td>&quot;020607103547&quot;</td><td>[2, 6, … 47]</td><td>2</td><td>6</td><td>7</td><td>10</td><td>35</td><td>47</td><td>&quot;02&quot;</td><td>&quot;06&quot;</td><td>&quot;07&quot;</td><td>&quot;10&quot;</td><td>&quot;35&quot;</td><td>&quot;47&quot;</td><td>&quot;02&quot;</td><td>&quot;46&quot;</td><td>false</td><td>0</td><td>&quot;04_01_03_25_12&quot;</td><td>-70</td></tr><tr><td>&hellip;</td><td>&hellip;</td><td>&hellip;</td><td>&hellip;</td><td>&hellip;</td><td>&hellip;</td><td>&hellip;</td><td>&hellip;</td><td>&hellip;</td><td>&hellip;</td><td>&hellip;</td><td>&hellip;</td><td>&hellip;</td><td>&hellip;</td><td>&hellip;</td><td>&hellip;</td><td>&hellip;</td><td>&hellip;</td><td>&hellip;</td><td>&hellip;</td></tr><tr><td>&quot;132441444547&quot;</td><td>[13, 24, … 47]</td><td>13</td><td>24</td><td>41</td><td>44</td><td>45</td><td>47</td><td>&quot;13&quot;</td><td>&quot;24&quot;</td><td>&quot;41&quot;</td><td>&quot;44&quot;</td><td>&quot;45&quot;</td><td>&quot;47&quot;</td><td>&quot;13&quot;</td><td>&quot;46&quot;</td><td>false</td><td>0</td><td>&quot;11_17_03_01_02&quot;</td><td>-41</td></tr><tr><td>&quot;132441444647&quot;</td><td>[13, 24, … 47]</td><td>13</td><td>24</td><td>41</td><td>44</td><td>46</td><td>47</td><td>&quot;13&quot;</td><td>&quot;24&quot;</td><td>&quot;41&quot;</td><td>&quot;44&quot;</td><td>&quot;46&quot;</td><td>&quot;47&quot;</td><td>&quot;13&quot;</td><td>&quot;50&quot;</td><td>false</td><td>0</td><td>&quot;11_17_03_02_01&quot;</td><td>-46</td></tr><tr><td>&quot;132442434647&quot;</td><td>[13, 24, … 47]</td><td>13</td><td>24</td><td>42</td><td>43</td><td>46</td><td>47</td><td>&quot;13&quot;</td><td>&quot;24&quot;</td><td>&quot;42&quot;</td><td>&quot;43&quot;</td><td>&quot;46&quot;</td><td>&quot;47&quot;</td><td>&quot;13&quot;</td><td>&quot;50&quot;</td><td>false</td><td>0</td><td>&quot;11_18_01_03_01&quot;</td><td>-66</td></tr><tr><td>&quot;132442444547&quot;</td><td>[13, 24, … 47]</td><td>13</td><td>24</td><td>42</td><td>44</td><td>45</td><td>47</td><td>&quot;13&quot;</td><td>&quot;24&quot;</td><td>&quot;42&quot;</td><td>&quot;44&quot;</td><td>&quot;45&quot;</td><td>&quot;47&quot;</td><td>&quot;13&quot;</td><td>&quot;46&quot;</td><td>false</td><td>0</td><td>&quot;11_18_02_01_02&quot;</td><td>-51</td></tr><tr><td>&quot;132443444647&quot;</td><td>[13, 24, … 47]</td><td>13</td><td>24</td><td>43</td><td>44</td><td>46</td><td>47</td><td>&quot;13&quot;</td><td>&quot;24&quot;</td><td>&quot;43&quot;</td><td>&quot;44&quot;</td><td>&quot;46&quot;</td><td>&quot;47&quot;</td><td>&quot;13&quot;</td><td>&quot;50&quot;</td><td>false</td><td>0</td><td>&quot;11_19_01_02_01&quot;</td><td>-66</td></tr></tbody></table></div>"
      ],
      "text/plain": [
       "shape: (100_443, 20)\n",
       "┌──────────────┬────────────────┬─────┬─────┬───┬───────────────┬────────┬───────────────┬─────────┐\n",
       "│ id           ┆ combo          ┆ b1  ┆ b2  ┆ … ┆ is_rare_combi ┆ reason ┆ jumps_map     ┆ unijump │\n",
       "│ ---          ┆ ---            ┆ --- ┆ --- ┆   ┆ nation        ┆ ---    ┆ ---           ┆ ---     │\n",
       "│ str          ┆ array[u8, 6]   ┆ u8  ┆ u8  ┆   ┆ ---           ┆ u8     ┆ str           ┆ i64     │\n",
       "│              ┆                ┆     ┆     ┆   ┆ bool          ┆        ┆               ┆         │\n",
       "╞══════════════╪════════════════╪═════╪═════╪═══╪═══════════════╪════════╪═══════════════╪═════════╡\n",
       "│ 020607103047 ┆ [2, 6, … 47]   ┆ 2   ┆ 6   ┆ … ┆ false         ┆ 0      ┆ 04_01_03_20_1 ┆ -45     │\n",
       "│              ┆                ┆     ┆     ┆   ┆               ┆        ┆ 7             ┆         │\n",
       "│ 020607103247 ┆ [2, 6, … 47]   ┆ 2   ┆ 6   ┆ … ┆ false         ┆ 0      ┆ 04_01_03_22_1 ┆ -55     │\n",
       "│              ┆                ┆     ┆     ┆   ┆               ┆        ┆ 5             ┆         │\n",
       "│ 020607103347 ┆ [2, 6, … 47]   ┆ 2   ┆ 6   ┆ … ┆ false         ┆ 0      ┆ 04_01_03_23_1 ┆ -60     │\n",
       "│              ┆                ┆     ┆     ┆   ┆               ┆        ┆ 4             ┆         │\n",
       "│ 020607103447 ┆ [2, 6, … 47]   ┆ 2   ┆ 6   ┆ … ┆ false         ┆ 0      ┆ 04_01_03_24_1 ┆ -65     │\n",
       "│              ┆                ┆     ┆     ┆   ┆               ┆        ┆ 3             ┆         │\n",
       "│ 020607103547 ┆ [2, 6, … 47]   ┆ 2   ┆ 6   ┆ … ┆ false         ┆ 0      ┆ 04_01_03_25_1 ┆ -70     │\n",
       "│              ┆                ┆     ┆     ┆   ┆               ┆        ┆ 2             ┆         │\n",
       "│ …            ┆ …              ┆ …   ┆ …   ┆ … ┆ …             ┆ …      ┆ …             ┆ …       │\n",
       "│ 132441444547 ┆ [13, 24, … 47] ┆ 13  ┆ 24  ┆ … ┆ false         ┆ 0      ┆ 11_17_03_01_0 ┆ -41     │\n",
       "│              ┆                ┆     ┆     ┆   ┆               ┆        ┆ 2             ┆         │\n",
       "│ 132441444647 ┆ [13, 24, … 47] ┆ 13  ┆ 24  ┆ … ┆ false         ┆ 0      ┆ 11_17_03_02_0 ┆ -46     │\n",
       "│              ┆                ┆     ┆     ┆   ┆               ┆        ┆ 1             ┆         │\n",
       "│ 132442434647 ┆ [13, 24, … 47] ┆ 13  ┆ 24  ┆ … ┆ false         ┆ 0      ┆ 11_18_01_03_0 ┆ -66     │\n",
       "│              ┆                ┆     ┆     ┆   ┆               ┆        ┆ 1             ┆         │\n",
       "│ 132442444547 ┆ [13, 24, … 47] ┆ 13  ┆ 24  ┆ … ┆ false         ┆ 0      ┆ 11_18_02_01_0 ┆ -51     │\n",
       "│              ┆                ┆     ┆     ┆   ┆               ┆        ┆ 2             ┆         │\n",
       "│ 132443444647 ┆ [13, 24, … 47] ┆ 13  ┆ 24  ┆ … ┆ false         ┆ 0      ┆ 11_19_01_02_0 ┆ -66     │\n",
       "│              ┆                ┆     ┆     ┆   ┆               ┆        ┆ 1             ┆         │\n",
       "└──────────────┴────────────────┴─────┴─────┴───┴───────────────┴────────┴───────────────┴─────────┘"
      ]
     },
     "metadata": {},
     "output_type": "display_data"
    }
   ],
   "source": [
    "# possible_b1, exclude_jump_maps_b1\n",
    "df_possible = df_Orows.filter(\n",
    "  pl.col(\"str_b1\").is_in(possible_b1),\n",
    "  pl.col(\"str_b2\").is_in(possible_b2),\n",
    "  # pl.col(\"str_b3\").is_in(possible_b3),\n",
    "  # pl.col(\"str_b4\").is_in(possible_b4),\n",
    "  # pl.col(\"str_b5\").is_in(possible_b5),\n",
    "  pl.col(\"str_b6\").is_in(possible_blast),\n",
    "  \n",
    "  ~pl.col(\"str_b1\").is_in(last_post_b1),\n",
    "  ~pl.col(\"str_b2\").is_in(last_post_b2),\n",
    "  # ~pl.col(\"str_b3\").is_in(last_post_b3),\n",
    "  # ~pl.col(\"str_b4\").is_in(last_post_b4),\n",
    "  # ~pl.col(\"str_b5\").is_in(last_post_b5),\n",
    "\n",
    "  ~pl.col(\"str_b6\").is_in(last_post_blast),\n",
    "\n",
    "  # ~pl.col(\"jumps_map\").is_in(exclude_jump_maps_b1 + exclude_jump_maps_b2 + exclude_jump_maps_b3 + exclude_jump_maps_b4 + exclude_jump_maps_b5 + exclude_jump_maps_blast),\n",
    "  ~pl.col(\"jumps_map\").is_in(exclude_jump_maps_b1 + exclude_jump_maps_b2 + exclude_jump_maps_blast),\n",
    "  pl.col(\"is_rare_combination\") == False\n",
    ")\n",
    "\n",
    "\n",
    "display(df_possible)"
   ]
  },
  {
   "cell_type": "code",
   "execution_count": 61,
   "metadata": {},
   "outputs": [
    {
     "data": {
      "text/html": [
       "<div><style>\n",
       ".dataframe > thead > tr,\n",
       ".dataframe > tbody > tr {\n",
       "  text-align: right;\n",
       "  white-space: pre-wrap;\n",
       "}\n",
       "</style>\n",
       "<small>shape: (1, 20)</small><table border=\"1\" class=\"dataframe\"><thead><tr><th>id</th><th>combo</th><th>b1</th><th>b2</th><th>b3</th><th>b4</th><th>b5</th><th>b6</th><th>str_b1</th><th>str_b2</th><th>str_b3</th><th>str_b4</th><th>str_b5</th><th>str_b6</th><th>post_str_b1</th><th>post_str_blast</th><th>is_rare_combination</th><th>reason</th><th>jumps_map</th><th>unijump</th></tr><tr><td>str</td><td>array[u8, 6]</td><td>u8</td><td>u8</td><td>u8</td><td>u8</td><td>u8</td><td>u8</td><td>str</td><td>str</td><td>str</td><td>str</td><td>str</td><td>str</td><td>str</td><td>str</td><td>bool</td><td>u8</td><td>str</td><td>i64</td></tr></thead><tbody><tr><td>&quot;021213252847&quot;</td><td>[2, 12, … 47]</td><td>2</td><td>12</td><td>13</td><td>25</td><td>28</td><td>47</td><td>&quot;02&quot;</td><td>&quot;12&quot;</td><td>&quot;13&quot;</td><td>&quot;25&quot;</td><td>&quot;28&quot;</td><td>&quot;47&quot;</td><td>&quot;02&quot;</td><td>&quot;46&quot;</td><td>false</td><td>0</td><td>&quot;10_01_12_03_19&quot;</td><td>85</td></tr></tbody></table></div>"
      ],
      "text/plain": [
       "shape: (1, 20)\n",
       "┌──────────────┬───────────────┬─────┬─────┬───┬────────────────┬────────┬───────────────┬─────────┐\n",
       "│ id           ┆ combo         ┆ b1  ┆ b2  ┆ … ┆ is_rare_combin ┆ reason ┆ jumps_map     ┆ unijump │\n",
       "│ ---          ┆ ---           ┆ --- ┆ --- ┆   ┆ ation          ┆ ---    ┆ ---           ┆ ---     │\n",
       "│ str          ┆ array[u8, 6]  ┆ u8  ┆ u8  ┆   ┆ ---            ┆ u8     ┆ str           ┆ i64     │\n",
       "│              ┆               ┆     ┆     ┆   ┆ bool           ┆        ┆               ┆         │\n",
       "╞══════════════╪═══════════════╪═════╪═════╪═══╪════════════════╪════════╪═══════════════╪═════════╡\n",
       "│ 021213252847 ┆ [2, 12, … 47] ┆ 2   ┆ 12  ┆ … ┆ false          ┆ 0      ┆ 10_01_12_03_1 ┆ 85      │\n",
       "│              ┆               ┆     ┆     ┆   ┆                ┆        ┆ 9             ┆         │\n",
       "└──────────────┴───────────────┴─────┴─────┴───┴────────────────┴────────┴───────────────┴─────────┘"
      ]
     },
     "execution_count": 61,
     "metadata": {},
     "output_type": "execute_result"
    }
   ],
   "source": [
    "df_possible.sample(n=1)\n"
   ]
  }
 ],
 "metadata": {
  "kernelspec": {
   "display_name": ".venv",
   "language": "python",
   "name": "python3"
  },
  "language_info": {
   "codemirror_mode": {
    "name": "ipython",
    "version": 3
   },
   "file_extension": ".py",
   "mimetype": "text/x-python",
   "name": "python",
   "nbconvert_exporter": "python",
   "pygments_lexer": "ipython3",
   "version": "3.12.9"
  }
 },
 "nbformat": 4,
 "nbformat_minor": 2
}

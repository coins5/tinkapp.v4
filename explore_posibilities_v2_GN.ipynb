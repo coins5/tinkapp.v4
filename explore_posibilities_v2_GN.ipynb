{
 "cells": [
  {
   "cell_type": "code",
   "execution_count": 1,
   "metadata": {},
   "outputs": [],
   "source": [
    "from bs4 import BeautifulSoup\n",
    "import pandas as pd\n",
    "from datetime import datetime, timedelta\n",
    "from itertools import combinations\n",
    "import json\n",
    "import requests\n",
    "import math\n",
    "from typing import Optional, List, Dict\n",
    "\n",
    "from pydantic import BaseModel\n",
    "from typing import Mapping\n",
    "import numpy as np\n",
    "import polars as pl\n",
    "\n",
    "from shared.utils import formalize_data, generate_id\n",
    "from shared.random_rules import RandomRules"
   ]
  },
  {
   "cell_type": "code",
   "execution_count": 2,
   "metadata": {},
   "outputs": [
    {
     "name": "stdout",
     "output_type": "stream",
     "text": [
      "('091224273033', (9, 12, 24, 27, 30, 33))\n"
     ]
    }
   ],
   "source": [
    "a = formalize_data(\"09 12 27 33 24 30\")\n",
    "print(a)"
   ]
  },
  {
   "cell_type": "code",
   "execution_count": 3,
   "metadata": {},
   "outputs": [],
   "source": [
    "rr = RandomRules(\n",
    "  TOTAL_NUMBERS = 35,\n",
    "  CHOOSE = 5,\n",
    "  MAX_PRIMES = 3,\n",
    "  N_VALUES=[\"1\", \"2\", \"3\"],\n",
    "  # Rangos de valores de las bolillas\n",
    "  MIN_B_VALUES = [1, 2, 3, 4, 5],\n",
    "  MAX_B_VALUES = [31, 32, 33, 34, 35]\n",
    ")\n",
    "\n"
   ]
  },
  {
   "cell_type": "code",
   "execution_count": 4,
   "metadata": {},
   "outputs": [
    {
     "name": "stdout",
     "output_type": "stream",
     "text": [
      "[0, 1, 2, 3, 4]\n"
     ]
    }
   ],
   "source": [
    "with open('./unijump_gn.json', 'r') as file:\n",
    "  JSON_UNIJUMP = set(json.load(file))\n",
    "\n",
    "print(list(JSON_UNIJUMP)[0:5])"
   ]
  },
  {
   "cell_type": "code",
   "execution_count": 5,
   "metadata": {},
   "outputs": [
    {
     "data": {
      "text/html": [
       "<div><style>\n",
       ".dataframe > thead > tr,\n",
       ".dataframe > tbody > tr {\n",
       "  text-align: right;\n",
       "  white-space: pre-wrap;\n",
       "}\n",
       "</style>\n",
       "<small>shape: (10, 23)</small><table border=\"1\" class=\"dataframe\"><thead><tr><th>id</th><th>combo</th><th>b1</th><th>b2</th><th>b3</th><th>b4</th><th>b5</th><th>is_rare_combination</th><th>reason</th><th>score_left_b1</th><th>score_left_b2</th><th>score_left_b3</th><th>score_left_b4</th><th>score_left_b5</th><th>score_r8_b1</th><th>score_r8_b2</th><th>score_r8_b3</th><th>score_r8_b4</th><th>score_r8_b5</th><th>shared_values</th><th>shared_values_count</th><th>score_row</th><th>int_unijump</th></tr><tr><td>str</td><td>array[u8, 5]</td><td>u8</td><td>u8</td><td>u8</td><td>u8</td><td>u8</td><td>bool</td><td>i64</td><td>f64</td><td>f64</td><td>f64</td><td>f64</td><td>f64</td><td>f64</td><td>f64</td><td>f64</td><td>f64</td><td>f64</td><td>list[f64]</td><td>u8</td><td>f64</td><td>i64</td></tr></thead><tbody><tr><td>&quot;0102040507&quot;</td><td>[1, 2, … 7]</td><td>1</td><td>2</td><td>4</td><td>5</td><td>7</td><td>true</td><td>16</td><td>1.0</td><td>0.0323</td><td>0.0323</td><td>0.0333</td><td>0.0333</td><td>1.0</td><td>0.5</td><td>0.5</td><td>0.3333</td><td>0.0333</td><td>[0.0333]</td><td>1</td><td>3.4978</td><td>4</td></tr><tr><td>&quot;0102040508&quot;</td><td>[1, 2, … 8]</td><td>1</td><td>2</td><td>4</td><td>5</td><td>8</td><td>true</td><td>16</td><td>1.0</td><td>0.0323</td><td>0.0323</td><td>0.0333</td><td>0.0333</td><td>1.0</td><td>0.5</td><td>0.5</td><td>0.25</td><td>0.0333</td><td>[0.0333]</td><td>1</td><td>3.4145</td><td>5</td></tr><tr><td>&quot;0102040509&quot;</td><td>[1, 2, … 9]</td><td>1</td><td>2</td><td>4</td><td>5</td><td>9</td><td>true</td><td>16</td><td>1.0</td><td>0.0323</td><td>0.0323</td><td>0.0333</td><td>0.0333</td><td>1.0</td><td>0.5</td><td>0.5</td><td>0.2</td><td>0.0333</td><td>[0.0333]</td><td>1</td><td>3.3645</td><td>6</td></tr><tr><td>&quot;0102040510&quot;</td><td>[1, 2, … 10]</td><td>1</td><td>2</td><td>4</td><td>5</td><td>10</td><td>true</td><td>16</td><td>1.0</td><td>0.0323</td><td>0.0323</td><td>0.0333</td><td>0.0333</td><td>1.0</td><td>0.5</td><td>0.5</td><td>0.1667</td><td>0.0333</td><td>[0.0333]</td><td>1</td><td>3.3312</td><td>7</td></tr><tr><td>&quot;0102040511&quot;</td><td>[1, 2, … 11]</td><td>1</td><td>2</td><td>4</td><td>5</td><td>11</td><td>true</td><td>16</td><td>1.0</td><td>0.0323</td><td>0.0323</td><td>0.0333</td><td>0.0333</td><td>1.0</td><td>0.5</td><td>0.5</td><td>0.1429</td><td>0.0333</td><td>[0.0333]</td><td>1</td><td>3.3074</td><td>8</td></tr><tr><td>&quot;0102040512&quot;</td><td>[1, 2, … 12]</td><td>1</td><td>2</td><td>4</td><td>5</td><td>12</td><td>true</td><td>16</td><td>1.0</td><td>0.0323</td><td>0.0323</td><td>0.0333</td><td>0.0333</td><td>1.0</td><td>0.5</td><td>0.5</td><td>0.125</td><td>0.0333</td><td>[0.0333]</td><td>1</td><td>3.2895</td><td>9</td></tr><tr><td>&quot;0102040513&quot;</td><td>[1, 2, … 13]</td><td>1</td><td>2</td><td>4</td><td>5</td><td>13</td><td>false</td><td>0</td><td>1.0</td><td>0.0323</td><td>0.0323</td><td>0.0333</td><td>0.0333</td><td>1.0</td><td>0.5</td><td>0.5</td><td>0.1111</td><td>0.0333</td><td>[0.0333]</td><td>1</td><td>3.2756</td><td>10</td></tr><tr><td>&quot;0102040514&quot;</td><td>[1, 2, … 14]</td><td>1</td><td>2</td><td>4</td><td>5</td><td>14</td><td>true</td><td>16</td><td>1.0</td><td>0.0323</td><td>0.0323</td><td>0.0333</td><td>0.0333</td><td>1.0</td><td>0.5</td><td>0.5</td><td>0.1</td><td>0.0333</td><td>[0.0333]</td><td>1</td><td>3.2645</td><td>11</td></tr><tr><td>&quot;0102040515&quot;</td><td>[1, 2, … 15]</td><td>1</td><td>2</td><td>4</td><td>5</td><td>15</td><td>true</td><td>16</td><td>1.0</td><td>0.0323</td><td>0.0323</td><td>0.0333</td><td>0.0333</td><td>1.0</td><td>0.5</td><td>0.5</td><td>0.0909</td><td>0.0333</td><td>[0.0333]</td><td>1</td><td>3.2554</td><td>12</td></tr><tr><td>&quot;0102040516&quot;</td><td>[1, 2, … 16]</td><td>1</td><td>2</td><td>4</td><td>5</td><td>16</td><td>true</td><td>16</td><td>1.0</td><td>0.0323</td><td>0.0323</td><td>0.0333</td><td>0.0333</td><td>1.0</td><td>0.5</td><td>0.5</td><td>0.0833</td><td>0.0333</td><td>[0.0333]</td><td>1</td><td>3.2478</td><td>13</td></tr></tbody></table></div>"
      ],
      "text/plain": [
       "shape: (10, 23)\n",
       "┌────────────┬──────────────┬─────┬─────┬───┬──────────────┬─────────────┬───────────┬─────────────┐\n",
       "│ id         ┆ combo        ┆ b1  ┆ b2  ┆ … ┆ shared_value ┆ shared_valu ┆ score_row ┆ int_unijump │\n",
       "│ ---        ┆ ---          ┆ --- ┆ --- ┆   ┆ s            ┆ es_count    ┆ ---       ┆ ---         │\n",
       "│ str        ┆ array[u8, 5] ┆ u8  ┆ u8  ┆   ┆ ---          ┆ ---         ┆ f64       ┆ i64         │\n",
       "│            ┆              ┆     ┆     ┆   ┆ list[f64]    ┆ u8          ┆           ┆             │\n",
       "╞════════════╪══════════════╪═════╪═════╪═══╪══════════════╪═════════════╪═══════════╪═════════════╡\n",
       "│ 0102040507 ┆ [1, 2, … 7]  ┆ 1   ┆ 2   ┆ … ┆ [0.0333]     ┆ 1           ┆ 3.4978    ┆ 4           │\n",
       "│ 0102040508 ┆ [1, 2, … 8]  ┆ 1   ┆ 2   ┆ … ┆ [0.0333]     ┆ 1           ┆ 3.4145    ┆ 5           │\n",
       "│ 0102040509 ┆ [1, 2, … 9]  ┆ 1   ┆ 2   ┆ … ┆ [0.0333]     ┆ 1           ┆ 3.3645    ┆ 6           │\n",
       "│ 0102040510 ┆ [1, 2, … 10] ┆ 1   ┆ 2   ┆ … ┆ [0.0333]     ┆ 1           ┆ 3.3312    ┆ 7           │\n",
       "│ 0102040511 ┆ [1, 2, … 11] ┆ 1   ┆ 2   ┆ … ┆ [0.0333]     ┆ 1           ┆ 3.3074    ┆ 8           │\n",
       "│ 0102040512 ┆ [1, 2, … 12] ┆ 1   ┆ 2   ┆ … ┆ [0.0333]     ┆ 1           ┆ 3.2895    ┆ 9           │\n",
       "│ 0102040513 ┆ [1, 2, … 13] ┆ 1   ┆ 2   ┆ … ┆ [0.0333]     ┆ 1           ┆ 3.2756    ┆ 10          │\n",
       "│ 0102040514 ┆ [1, 2, … 14] ┆ 1   ┆ 2   ┆ … ┆ [0.0333]     ┆ 1           ┆ 3.2645    ┆ 11          │\n",
       "│ 0102040515 ┆ [1, 2, … 15] ┆ 1   ┆ 2   ┆ … ┆ [0.0333]     ┆ 1           ┆ 3.2554    ┆ 12          │\n",
       "│ 0102040516 ┆ [1, 2, … 16] ┆ 1   ┆ 2   ┆ … ┆ [0.0333]     ┆ 1           ┆ 3.2478    ┆ 13          │\n",
       "└────────────┴──────────────┴─────┴─────┴───┴──────────────┴─────────────┴───────────┴─────────────┘"
      ]
     },
     "metadata": {},
     "output_type": "display_data"
    }
   ],
   "source": [
    "bolillas = range(1, rr.TOTAL_NUMBERS + 1)\n",
    "# bolillas = range(1, 8) \n",
    "combos = combinations(bolillas, rr.CHOOSE)\n",
    "\n",
    "\n",
    "\n",
    "lst = []\n",
    "for bolillas_int in combos:\n",
    "  int_unijump = rr.unijump(bolillas_int)\n",
    "  if (int_unijump not in JSON_UNIJUMP):\n",
    "    continue\n",
    "\n",
    "\n",
    "  cols = []\n",
    "  id = generate_id(bolillas_int)\n",
    "\n",
    "  is_rare, reason = rr.is_rare_combination(bolillas_int, comboid=id)\n",
    "  if (reason not in [0, 16]):\n",
    "    continue\n",
    "\n",
    "  cols.append(id)\n",
    "  cols.append(bolillas_int)\n",
    "  cols.extend([b for b in bolillas_int])\n",
    "  \n",
    "  \n",
    "  cols.append(is_rare)\n",
    "  cols.append(reason)\n",
    "\n",
    "  left_scores = [round(b, 4) for b in rr.calculate_left_scores(bolillas_int)]\n",
    "  right_scores = [round(b, 4) for b in rr.calculate_right_scores(bolillas_int)]\n",
    "  lr_scores = [round(left + right,4) for left, right in zip(left_scores, right_scores)]\n",
    "  row_score = round(sum(lr_scores),4)\n",
    "\n",
    "  shared_values = list(set(left_scores[0:5]) & set(right_scores[1:6]))\n",
    "  shared_values = [round(s, 4) for s in shared_values]\n",
    "  if (len(shared_values) > 2):\n",
    "    continue\n",
    "  \n",
    "  cols.extend([score for score in left_scores])\n",
    "  cols.extend([score for score in right_scores])\n",
    "  # cols.extend(lr_scores)\n",
    "  cols.append(shared_values)\n",
    "  cols.append(len(shared_values))\n",
    "  cols.append(row_score)\n",
    "\n",
    "  cols.append(int_unijump)\n",
    "  \n",
    "  lst.append(cols)\n",
    "\n",
    "\n",
    "\n",
    "dfRows = pl.DataFrame(\n",
    "  lst,\n",
    "  schema=[\n",
    "    'id', 'combo', 'b1', 'b2', 'b3', 'b4', 'b5',\n",
    "    'is_rare_combination', 'reason',\n",
    "    \"score_left_b1\", \"score_left_b2\", \"score_left_b3\", \"score_left_b4\", \"score_left_b5\",\n",
    "    \"score_r8_b1\", \"score_r8_b2\", \"score_r8_b3\", \"score_r8_b4\", \"score_r8_b5\",\n",
    "    # \"score_lr_b1\", \"score_lr_b2\", \"score_lr_b3\", \"score_lr_b4\", \"score_lr_b5\", \"score_lr_b6\",\n",
    "    \"shared_values\", \"shared_values_count\",\n",
    "    \"score_row\",\n",
    "    \"int_unijump\"\n",
    "  ],\n",
    "  schema_overrides={\n",
    "    'combo': pl.Array(pl.UInt8, 5),\n",
    "    'b1': pl.UInt8,\n",
    "    'b2': pl.UInt8,\n",
    "    'b3': pl.UInt8,\n",
    "    'b4': pl.UInt8,\n",
    "    'b5': pl.UInt8,\n",
    "    'b6': pl.UInt8,\n",
    "    'shared_values_count': pl.UInt8\n",
    "  },\n",
    "  orient='row'\n",
    ")\n",
    "\n",
    "display(dfRows.head(10))"
   ]
  },
  {
   "cell_type": "code",
   "execution_count": 6,
   "metadata": {},
   "outputs": [
    {
     "data": {
      "text/plain": [
       "209702"
      ]
     },
     "execution_count": 6,
     "metadata": {},
     "output_type": "execute_result"
    }
   ],
   "source": [
    "len(dfRows)"
   ]
  },
  {
   "cell_type": "code",
   "execution_count": 8,
   "metadata": {},
   "outputs": [],
   "source": [
    "dfRows.write_parquet(\"./saved_bolillas_gn.parquet\")"
   ]
  }
 ],
 "metadata": {
  "kernelspec": {
   "display_name": ".venv",
   "language": "python",
   "name": "python3"
  },
  "language_info": {
   "codemirror_mode": {
    "name": "ipython",
    "version": 3
   },
   "file_extension": ".py",
   "mimetype": "text/x-python",
   "name": "python",
   "nbconvert_exporter": "python",
   "pygments_lexer": "ipython3",
   "version": "3.12.9"
  }
 },
 "nbformat": 4,
 "nbformat_minor": 2
}
